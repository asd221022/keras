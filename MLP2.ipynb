{
 "cells": [
  {
   "cell_type": "code",
   "execution_count": 20,
   "metadata": {
    "collapsed": true
   },
   "outputs": [],
   "source": [
    "import numpy\n",
    "import pandas as pd\n",
    "from sklearn import preprocessing\n",
    "numpy.random.seed(10)"
   ]
  },
  {
   "cell_type": "code",
   "execution_count": 21,
   "metadata": {
    "collapsed": false
   },
   "outputs": [],
   "source": [
    "filepath=\"data/winequality-red.xls\"\n",
    "all_df=pd.read_excel(filepath)"
   ]
  },
  {
   "cell_type": "code",
   "execution_count": 22,
   "metadata": {
    "collapsed": false
   },
   "outputs": [
    {
     "data": {
      "text/html": [
       "<div>\n",
       "<table border=\"1\" class=\"dataframe\">\n",
       "  <thead>\n",
       "    <tr style=\"text-align: right;\">\n",
       "      <th></th>\n",
       "      <th>fixed acidity</th>\n",
       "      <th>volatile acidity</th>\n",
       "      <th>citric acid</th>\n",
       "      <th>residual sugar</th>\n",
       "      <th>chlorides</th>\n",
       "      <th>free sulfur dioxide</th>\n",
       "      <th>total sulfur dioxide</th>\n",
       "      <th>density</th>\n",
       "      <th>pH</th>\n",
       "      <th>sulphates</th>\n",
       "      <th>alcohol</th>\n",
       "      <th>quality</th>\n",
       "    </tr>\n",
       "  </thead>\n",
       "  <tbody>\n",
       "    <tr>\n",
       "      <th>0</th>\n",
       "      <td>7.4</td>\n",
       "      <td>0.70</td>\n",
       "      <td>0.0</td>\n",
       "      <td>1.9</td>\n",
       "      <td>0.076</td>\n",
       "      <td>11.0</td>\n",
       "      <td>34.0</td>\n",
       "      <td>0.9978</td>\n",
       "      <td>3.51</td>\n",
       "      <td>0.56</td>\n",
       "      <td>9.4</td>\n",
       "      <td>5</td>\n",
       "    </tr>\n",
       "    <tr>\n",
       "      <th>1</th>\n",
       "      <td>7.8</td>\n",
       "      <td>0.88</td>\n",
       "      <td>0.0</td>\n",
       "      <td>2.6</td>\n",
       "      <td>0.098</td>\n",
       "      <td>25.0</td>\n",
       "      <td>67.0</td>\n",
       "      <td>0.9968</td>\n",
       "      <td>3.20</td>\n",
       "      <td>0.68</td>\n",
       "      <td>9.8</td>\n",
       "      <td>5</td>\n",
       "    </tr>\n",
       "  </tbody>\n",
       "</table>\n",
       "</div>"
      ],
      "text/plain": [
       "   fixed acidity  volatile acidity  citric acid  residual sugar  chlorides  \\\n",
       "0            7.4              0.70          0.0             1.9      0.076   \n",
       "1            7.8              0.88          0.0             2.6      0.098   \n",
       "\n",
       "   free sulfur dioxide  total sulfur dioxide  density    pH  sulphates  \\\n",
       "0                 11.0                  34.0   0.9978  3.51       0.56   \n",
       "1                 25.0                  67.0   0.9968  3.20       0.68   \n",
       "\n",
       "   alcohol  quality  \n",
       "0      9.4        5  \n",
       "1      9.8        5  "
      ]
     },
     "execution_count": 22,
     "metadata": {},
     "output_type": "execute_result"
    }
   ],
   "source": [
    "all_df[:2]"
   ]
  },
  {
   "cell_type": "code",
   "execution_count": 23,
   "metadata": {
    "collapsed": true
   },
   "outputs": [],
   "source": [
    "cols=['quality','fixed acidity','volatile acidity','citric acid','residual sugar','chlorides','free sulfur dioxide',\n",
    "      'total sulfur dioxide','density','pH','sulphates','alcohol']\n",
    "all_df=all_df[cols]  "
   ]
  },
  {
   "cell_type": "code",
   "execution_count": 24,
   "metadata": {
    "collapsed": false
   },
   "outputs": [
    {
     "data": {
      "text/html": [
       "<div>\n",
       "<table border=\"1\" class=\"dataframe\">\n",
       "  <thead>\n",
       "    <tr style=\"text-align: right;\">\n",
       "      <th></th>\n",
       "      <th>quality</th>\n",
       "      <th>fixed acidity</th>\n",
       "      <th>volatile acidity</th>\n",
       "      <th>citric acid</th>\n",
       "      <th>residual sugar</th>\n",
       "      <th>chlorides</th>\n",
       "      <th>free sulfur dioxide</th>\n",
       "      <th>total sulfur dioxide</th>\n",
       "      <th>density</th>\n",
       "      <th>pH</th>\n",
       "      <th>sulphates</th>\n",
       "      <th>alcohol</th>\n",
       "    </tr>\n",
       "  </thead>\n",
       "  <tbody>\n",
       "    <tr>\n",
       "      <th>0</th>\n",
       "      <td>5</td>\n",
       "      <td>7.4</td>\n",
       "      <td>0.70</td>\n",
       "      <td>0.0</td>\n",
       "      <td>1.9</td>\n",
       "      <td>0.076</td>\n",
       "      <td>11.0</td>\n",
       "      <td>34.0</td>\n",
       "      <td>0.9978</td>\n",
       "      <td>3.51</td>\n",
       "      <td>0.56</td>\n",
       "      <td>9.4</td>\n",
       "    </tr>\n",
       "    <tr>\n",
       "      <th>1</th>\n",
       "      <td>5</td>\n",
       "      <td>7.8</td>\n",
       "      <td>0.88</td>\n",
       "      <td>0.0</td>\n",
       "      <td>2.6</td>\n",
       "      <td>0.098</td>\n",
       "      <td>25.0</td>\n",
       "      <td>67.0</td>\n",
       "      <td>0.9968</td>\n",
       "      <td>3.20</td>\n",
       "      <td>0.68</td>\n",
       "      <td>9.8</td>\n",
       "    </tr>\n",
       "  </tbody>\n",
       "</table>\n",
       "</div>"
      ],
      "text/plain": [
       "   quality  fixed acidity  volatile acidity  citric acid  residual sugar  \\\n",
       "0        5            7.4              0.70          0.0             1.9   \n",
       "1        5            7.8              0.88          0.0             2.6   \n",
       "\n",
       "   chlorides  free sulfur dioxide  total sulfur dioxide  density    pH  \\\n",
       "0      0.076                 11.0                  34.0   0.9978  3.51   \n",
       "1      0.098                 25.0                  67.0   0.9968  3.20   \n",
       "\n",
       "   sulphates  alcohol  \n",
       "0       0.56      9.4  \n",
       "1       0.68      9.8  "
      ]
     },
     "execution_count": 24,
     "metadata": {},
     "output_type": "execute_result"
    }
   ],
   "source": [
    "all_df[:2]"
   ]
  },
  {
   "cell_type": "code",
   "execution_count": 25,
   "metadata": {
    "collapsed": true
   },
   "outputs": [],
   "source": [
    "msk = numpy.random.rand(len(all_df)) < 0.8\n",
    "train_df=all_df[msk]\n",
    "test_df=all_df[~msk]"
   ]
  },
  {
   "cell_type": "code",
   "execution_count": 26,
   "metadata": {
    "collapsed": false
   },
   "outputs": [
    {
     "name": "stdout",
     "output_type": "stream",
     "text": [
      "total: 1599 train: 1271 test: 328\n"
     ]
    }
   ],
   "source": [
    "print('total:',len(all_df),\n",
    "      'train:',len(train_df),\n",
    "      'test:',len(test_df)) "
   ]
  },
  {
   "cell_type": "code",
   "execution_count": 27,
   "metadata": {
    "collapsed": false
   },
   "outputs": [
    {
     "data": {
      "text/plain": [
       "quality                 0\n",
       "fixed acidity           0\n",
       "volatile acidity        0\n",
       "citric acid             0\n",
       "residual sugar          0\n",
       "chlorides               0\n",
       "free sulfur dioxide     0\n",
       "total sulfur dioxide    0\n",
       "density                 0\n",
       "pH                      0\n",
       "sulphates               0\n",
       "alcohol                 0\n",
       "dtype: int64"
      ]
     },
     "execution_count": 27,
     "metadata": {},
     "output_type": "execute_result"
    }
   ],
   "source": [
    "all_df.isnull().sum()"
   ]
  },
  {
   "cell_type": "code",
   "execution_count": 28,
   "metadata": {
    "collapsed": true
   },
   "outputs": [],
   "source": [
    "def PreprocessData(raw_df):\n",
    "    \n",
    "    ndarray= all_df.values\n",
    "    Features=ndarray[:,1:] \n",
    "    Label=ndarray[:,0]\n",
    "    \n",
    "    from sklearn import preprocessing\n",
    "    minmax_scale=preprocessing.MinMaxScaler(feature_range=(0,1))\n",
    "    scaledFeatures=minmax_scale.fit_transform(Features)\n",
    "    \n",
    "    return scaledFeatures,Label"
   ]
  },
  {
   "cell_type": "code",
   "execution_count": 29,
   "metadata": {
    "collapsed": false
   },
   "outputs": [],
   "source": [
    "train_Features,train_Label=PreprocessData(train_df)\n",
    "test_Features,test_Label=PreprocessData(test_df)"
   ]
  },
  {
   "cell_type": "code",
   "execution_count": 30,
   "metadata": {
    "collapsed": false
   },
   "outputs": [
    {
     "data": {
      "text/plain": [
       "array([[0.24778761, 0.39726027, 0.        , 0.06849315, 0.10684474,\n",
       "        0.14084507, 0.09893993, 0.56754772, 0.60629921, 0.13772455,\n",
       "        0.15384615],\n",
       "       [0.28318584, 0.52054795, 0.        , 0.11643836, 0.14357262,\n",
       "        0.33802817, 0.2155477 , 0.49412628, 0.36220472, 0.20958084,\n",
       "        0.21538462],\n",
       "       [0.28318584, 0.43835616, 0.04      , 0.09589041, 0.13355593,\n",
       "        0.1971831 , 0.16961131, 0.50881057, 0.40944882, 0.19161677,\n",
       "        0.21538462],\n",
       "       [0.5840708 , 0.10958904, 0.56      , 0.06849315, 0.10517529,\n",
       "        0.22535211, 0.19081272, 0.58223201, 0.33070866, 0.1497006 ,\n",
       "        0.21538462]])"
      ]
     },
     "execution_count": 30,
     "metadata": {},
     "output_type": "execute_result"
    }
   ],
   "source": [
    "train_Features[:4]"
   ]
  },
  {
   "cell_type": "code",
   "execution_count": 31,
   "metadata": {
    "collapsed": false
   },
   "outputs": [
    {
     "data": {
      "text/plain": [
       "array([5., 5., 5., 6.])"
      ]
     },
     "execution_count": 31,
     "metadata": {},
     "output_type": "execute_result"
    }
   ],
   "source": [
    "train_Label[:4]"
   ]
  },
  {
   "cell_type": "code",
   "execution_count": 32,
   "metadata": {
    "collapsed": false
   },
   "outputs": [],
   "source": [
    "from keras.models import Sequential\n",
    "from keras.layers.core import Dense, Dropout, Activation,Flatten\n",
    "from keras.layers.embeddings import Embedding"
   ]
  },
  {
   "cell_type": "code",
   "execution_count": 33,
   "metadata": {
    "collapsed": true
   },
   "outputs": [],
   "source": [
    "model=Sequential() "
   ]
  },
  {
   "cell_type": "code",
   "execution_count": 34,
   "metadata": {
    "collapsed": true
   },
   "outputs": [],
   "source": [
    "model.add(Dense(units=32, input_dim=11, \n",
    "                kernel_initializer='uniform', \n",
    "                activation='relu'))"
   ]
  },
  {
   "cell_type": "code",
   "execution_count": 35,
   "metadata": {
    "collapsed": true
   },
   "outputs": [],
   "source": [
    "model.add(Dense(units=11, \n",
    "                kernel_initializer='uniform', \n",
    "                activation='softmax'))"
   ]
  },
  {
   "cell_type": "code",
   "execution_count": 36,
   "metadata": {
    "collapsed": false
   },
   "outputs": [],
   "source": [
    "model.add(Dense(units=1, \n",
    "                kernel_initializer='uniform', \n",
    "                activation='sigmoid'))"
   ]
  },
  {
   "cell_type": "code",
   "execution_count": null,
   "metadata": {
    "collapsed": true
   },
   "outputs": [],
   "source": []
  },
  {
   "cell_type": "code",
   "execution_count": 37,
   "metadata": {
    "collapsed": false
   },
   "outputs": [
    {
     "name": "stdout",
     "output_type": "stream",
     "text": [
      "_________________________________________________________________\n",
      "Layer (type)                 Output Shape              Param #   \n",
      "=================================================================\n",
      "dense_3 (Dense)              (None, 32)                384       \n",
      "_________________________________________________________________\n",
      "dense_4 (Dense)              (None, 11)                363       \n",
      "_________________________________________________________________\n",
      "dense_5 (Dense)              (None, 1)                 12        \n",
      "=================================================================\n",
      "Total params: 759\n",
      "Trainable params: 759\n",
      "Non-trainable params: 0\n",
      "_________________________________________________________________\n"
     ]
    }
   ],
   "source": [
    "model.summary()"
   ]
  },
  {
   "cell_type": "code",
   "execution_count": 38,
   "metadata": {
    "collapsed": true
   },
   "outputs": [],
   "source": [
    "model.compile(loss='binary_crossentropy',\n",
    "              optimizer='adam',metrics=['accuracy'])"
   ]
  },
  {
   "cell_type": "code",
   "execution_count": 39,
   "metadata": {
    "collapsed": false
   },
   "outputs": [
    {
     "name": "stdout",
     "output_type": "stream",
     "text": [
      "Train on 1279 samples, validate on 320 samples\n",
      "Epoch 1/30\n",
      " - 1s - loss: 0.6391 - acc: 0.0000e+00 - val_loss: 0.5170 - val_acc: 0.0000e+00\n",
      "Epoch 2/30\n",
      " - 0s - loss: 0.3988 - acc: 0.0000e+00 - val_loss: 0.2763 - val_acc: 0.0000e+00\n",
      "Epoch 3/30\n",
      " - 0s - loss: 0.1401 - acc: 0.0000e+00 - val_loss: 0.0138 - val_acc: 0.0000e+00\n",
      "Epoch 4/30\n",
      " - 0s - loss: -1.4662e-01 - acc: 0.0000e+00 - val_loss: -2.7871e-01 - val_acc: 0.0000e+00\n",
      "Epoch 5/30\n",
      " - 0s - loss: -4.5768e-01 - acc: 0.0000e+00 - val_loss: -5.8662e-01 - val_acc: 0.0000e+00\n",
      "Epoch 6/30\n",
      " - 0s - loss: -7.7394e-01 - acc: 0.0000e+00 - val_loss: -8.9317e-01 - val_acc: 0.0000e+00\n",
      "Epoch 7/30\n",
      " - 0s - loss: -1.0871e+00 - acc: 0.0000e+00 - val_loss: -1.1979e+00 - val_acc: 0.0000e+00\n",
      "Epoch 8/30\n",
      " - 0s - loss: -1.3957e+00 - acc: 0.0000e+00 - val_loss: -1.4940e+00 - val_acc: 0.0000e+00\n",
      "Epoch 9/30\n",
      " - 0s - loss: -1.7012e+00 - acc: 0.0000e+00 - val_loss: -1.7973e+00 - val_acc: 0.0000e+00\n",
      "Epoch 10/30\n",
      " - 0s - loss: -2.0212e+00 - acc: 0.0000e+00 - val_loss: -2.1151e+00 - val_acc: 0.0000e+00\n",
      "Epoch 11/30\n",
      " - 0s - loss: -2.3428e+00 - acc: 0.0000e+00 - val_loss: -2.4206e+00 - val_acc: 0.0000e+00\n",
      "Epoch 12/30\n",
      " - 0s - loss: -2.6476e+00 - acc: 0.0000e+00 - val_loss: -2.7068e+00 - val_acc: 0.0000e+00\n",
      "Epoch 13/30\n",
      " - 0s - loss: -2.9347e+00 - acc: 0.0000e+00 - val_loss: -2.9809e+00 - val_acc: 0.0000e+00\n",
      "Epoch 14/30\n",
      " - 0s - loss: -3.2105e+00 - acc: 0.0000e+00 - val_loss: -3.2431e+00 - val_acc: 0.0000e+00\n",
      "Epoch 15/30\n",
      " - 0s - loss: -3.4767e+00 - acc: 0.0000e+00 - val_loss: -3.4974e+00 - val_acc: 0.0000e+00\n",
      "Epoch 16/30\n",
      " - 0s - loss: -3.7353e+00 - acc: 0.0000e+00 - val_loss: -3.7459e+00 - val_acc: 0.0000e+00\n",
      "Epoch 17/30\n",
      " - 0s - loss: -3.9880e+00 - acc: 0.0000e+00 - val_loss: -3.9893e+00 - val_acc: 0.0000e+00\n",
      "Epoch 18/30\n",
      " - 0s - loss: -4.2363e+00 - acc: 0.0000e+00 - val_loss: -4.2283e+00 - val_acc: 0.0000e+00\n",
      "Epoch 19/30\n",
      " - 0s - loss: -4.4804e+00 - acc: 0.0000e+00 - val_loss: -4.4639e+00 - val_acc: 0.0000e+00\n",
      "Epoch 20/30\n",
      " - 0s - loss: -4.7217e+00 - acc: 0.0000e+00 - val_loss: -4.6961e+00 - val_acc: 0.0000e+00\n",
      "Epoch 21/30\n",
      " - 0s - loss: -4.9592e+00 - acc: 0.0000e+00 - val_loss: -4.9259e+00 - val_acc: 0.0000e+00\n",
      "Epoch 22/30\n",
      " - 0s - loss: -5.1944e+00 - acc: 0.0000e+00 - val_loss: -5.1531e+00 - val_acc: 0.0000e+00\n",
      "Epoch 23/30\n",
      " - 0s - loss: -5.4270e+00 - acc: 0.0000e+00 - val_loss: -5.3785e+00 - val_acc: 0.0000e+00\n",
      "Epoch 24/30\n",
      " - 0s - loss: -5.6580e+00 - acc: 0.0000e+00 - val_loss: -5.6020e+00 - val_acc: 0.0000e+00\n",
      "Epoch 25/30\n",
      " - 0s - loss: -5.8871e+00 - acc: 0.0000e+00 - val_loss: -5.8239e+00 - val_acc: 0.0000e+00\n",
      "Epoch 26/30\n",
      " - 0s - loss: -6.1144e+00 - acc: 0.0000e+00 - val_loss: -6.0439e+00 - val_acc: 0.0000e+00\n",
      "Epoch 27/30\n",
      " - 0s - loss: -6.3402e+00 - acc: 0.0000e+00 - val_loss: -6.2624e+00 - val_acc: 0.0000e+00\n",
      "Epoch 28/30\n",
      " - 0s - loss: -6.5645e+00 - acc: 0.0000e+00 - val_loss: -6.4794e+00 - val_acc: 0.0000e+00\n",
      "Epoch 29/30\n",
      " - 0s - loss: -6.7877e+00 - acc: 0.0000e+00 - val_loss: -6.6946e+00 - val_acc: 0.0000e+00\n",
      "Epoch 30/30\n",
      " - 0s - loss: -7.0093e+00 - acc: 0.0000e+00 - val_loss: -6.9106e+00 - val_acc: 0.0000e+00\n"
     ]
    }
   ],
   "source": [
    "train_history =model.fit(x=train_Features, \n",
    "                         y=train_Label, \n",
    "                         validation_split=0.2, \n",
    "                         epochs=30, \n",
    "                         batch_size=60,verbose=2)"
   ]
  },
  {
   "cell_type": "code",
   "execution_count": 40,
   "metadata": {
    "collapsed": false
   },
   "outputs": [],
   "source": [
    "import matplotlib.pyplot as plt\n",
    "def show_train_history(train_history,train,validation):\n",
    "    plt.plot(train_history.history[train],color='blue')\n",
    "    plt.plot(train_history.history[validation],color='magenta')\n",
    "    plt.title('Train_history')\n",
    "    plt.ylabel(train)\n",
    "    plt.xlabel('Epoch')\n",
    "    plt.legend(['train','validation'],loc='upper left')\n",
    "    plt.show()"
   ]
  },
  {
   "cell_type": "code",
   "execution_count": 41,
   "metadata": {
    "collapsed": false
   },
   "outputs": [
    {
     "data": {
      "image/png": "[encoded data removed]",
      "text/plain": [
       "<matplotlib.figure.Figure at 0x7fa9f4ffeac8>"
      ]
     },
     "metadata": {},
     "output_type": "display_data"
    }
   ],
   "source": [
    "show_train_history(train_history,'acc','val_acc')"
   ]
  },
  {
   "cell_type": "code",
   "execution_count": 42,
   "metadata": {
    "collapsed": false
   },
   "outputs": [
    {
     "data": {
      "image/png": "[encoded data removed]",
      "text/plain": [
       "<matplotlib.figure.Figure at 0x7fa9ec4dbf98>"
      ]
     },
     "metadata": {},
     "output_type": "display_data"
    }
   ],
   "source": [
    "show_train_history(train_history,'loss','val_loss')"
   ]
  },
  {
   "cell_type": "code",
   "execution_count": 43,
   "metadata": {
    "collapsed": false
   },
   "outputs": [
    {
     "name": "stdout",
     "output_type": "stream",
     "text": [
      "1599/1599 [==============================] - 0s 56us/step\n"
     ]
    }
   ],
   "source": [
    "scores=model.evaluate(x=test_Features,\n",
    "                     y=test_Label)"
   ]
  },
  {
   "cell_type": "code",
   "execution_count": 44,
   "metadata": {
    "collapsed": false
   },
   "outputs": [
    {
     "data": {
      "text/plain": [
       "0.0"
      ]
     },
     "execution_count": 44,
     "metadata": {},
     "output_type": "execute_result"
    }
   ],
   "source": [
    "scores[1]"
   ]
  },
  {
   "cell_type": "code",
   "execution_count": null,
   "metadata": {
    "collapsed": true
   },
   "outputs": [],
   "source": []
  }
 ],
 "metadata": {
  "anaconda-cloud": {},
  "kernelspec": {
   "display_name": "Python [conda root]",
   "language": "python",
   "name": "conda-root-py"
  },
  "language_info": {
   "codemirror_mode": {
    "name": "ipython",
    "version": 3
   },
   "file_extension": ".py",
   "mimetype": "text/x-python",
   "name": "python",
   "nbconvert_exporter": "python",
   "pygments_lexer": "ipython3",
   "version": "3.5.2"
  }
 },
 "nbformat": 4,
 "nbformat_minor": 1
}
