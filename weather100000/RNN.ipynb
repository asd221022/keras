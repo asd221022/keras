{
 "cells": [
  {
   "cell_type": "code",
   "execution_count": 1,
   "metadata": {
    "collapsed": false
   },
   "outputs": [],
   "source": [
    "import numpy \n",
    "import pandas as pd\n",
    "from sklearn.preprocessing import StandardScaler\n",
    "from sklearn.model_selection import train_test_split\n",
    "numpy.random.seed(10)"
   ]
  },
  {
   "cell_type": "code",
   "execution_count": 2,
   "metadata": {
    "collapsed": false
   },
   "outputs": [],
   "source": [
    "all_df = pd.read_csv(\"data/weather.csv\")"
   ]
  },
  {
   "cell_type": "code",
   "execution_count": 3,
   "metadata": {
    "collapsed": true
   },
   "outputs": [],
   "source": [
    "all_df=all_df.drop(['RISK_MM'], axis=1)"
   ]
  },
  {
   "cell_type": "code",
   "execution_count": 4,
   "metadata": {
    "collapsed": true
   },
   "outputs": [],
   "source": [
    "X=all_df.drop(['RainTomorrow'], axis=1).values.astype('float64')"
   ]
  },
  {
   "cell_type": "code",
   "execution_count": 5,
   "metadata": {
    "collapsed": true
   },
   "outputs": [],
   "source": [
    "Y = all_df['RainTomorrow'].values.astype('int64')"
   ]
  },
  {
   "cell_type": "code",
   "execution_count": 6,
   "metadata": {
    "collapsed": false
   },
   "outputs": [
    {
     "data": {
      "text/plain": [
       "95672"
      ]
     },
     "execution_count": 6,
     "metadata": {},
     "output_type": "execute_result"
    }
   ],
   "source": [
    "X = StandardScaler().fit_transform(X)\n",
    "train_Features, test_Features, train_Label, test_Label = train_test_split(X, Y, test_size=0.2, random_state=True) \n",
    "len(train_Features)"
   ]
  },
  {
   "cell_type": "code",
   "execution_count": 7,
   "metadata": {
    "collapsed": false
   },
   "outputs": [
    {
     "data": {
      "text/plain": [
       "array([[-0.28057235, -0.88540995, -0.15604664,  0.58549966,  0.29969181,\n",
       "         0.56686938,  0.71671696,  0.24811193, -0.16280797,  0.27738035,\n",
       "        -0.47846775, -0.9189042 , -0.53271769],\n",
       "       [ 0.74023477, -0.34150784, -0.274179  ,  0.43712836,  1.89126836,\n",
       "         1.3737581 , -0.06742478,  1.02136889, -0.43047181, -0.40644069,\n",
       "         0.40533611, -0.21640785, -0.53271769]])"
      ]
     },
     "execution_count": 7,
     "metadata": {},
     "output_type": "execute_result"
    }
   ],
   "source": [
    "test_Features[:2]"
   ]
  },
  {
   "cell_type": "code",
   "execution_count": 8,
   "metadata": {
    "collapsed": false
   },
   "outputs": [
    {
     "data": {
      "text/plain": [
       "array([1, 1, 0, 1])"
      ]
     },
     "execution_count": 8,
     "metadata": {},
     "output_type": "execute_result"
    }
   ],
   "source": [
    "train_Label[:4]"
   ]
  },
  {
   "cell_type": "code",
   "execution_count": 9,
   "metadata": {
    "collapsed": false
   },
   "outputs": [
    {
     "data": {
      "text/plain": [
       "(95672, 13)"
      ]
     },
     "execution_count": 9,
     "metadata": {},
     "output_type": "execute_result"
    }
   ],
   "source": [
    "train_Features.shape"
   ]
  },
  {
   "cell_type": "code",
   "execution_count": 10,
   "metadata": {
    "collapsed": false
   },
   "outputs": [
    {
     "data": {
      "text/plain": [
       "array([1, 0, 0, 0])"
      ]
     },
     "execution_count": 10,
     "metadata": {},
     "output_type": "execute_result"
    }
   ],
   "source": [
    "test_Label[:4]"
   ]
  },
  {
   "cell_type": "code",
   "execution_count": 11,
   "metadata": {
    "collapsed": true
   },
   "outputs": [],
   "source": [
    "train_Features = train_Features.reshape((train_Features.shape[0], train_Features.shape[1], 1))"
   ]
  },
  {
   "cell_type": "code",
   "execution_count": 12,
   "metadata": {
    "collapsed": true
   },
   "outputs": [],
   "source": [
    "test_Features = test_Features.reshape((test_Features.shape[0], test_Features.shape[1], 1))"
   ]
  },
  {
   "cell_type": "code",
   "execution_count": 13,
   "metadata": {
    "collapsed": false
   },
   "outputs": [
    {
     "name": "stderr",
     "output_type": "stream",
     "text": [
      "Using TensorFlow backend.\n"
     ]
    }
   ],
   "source": [
    "from keras.models import Sequential\n",
    "from keras.layers.core import Dense, Dropout, Activation\n",
    "from keras.layers.embeddings import Embedding\n",
    "from keras.layers.recurrent import SimpleRNN\n",
    "from keras.callbacks import EarlyStopping\n",
    "early_stopping = EarlyStopping(monitor='val_loss', patience=2)"
   ]
  },
  {
   "cell_type": "code",
   "execution_count": 14,
   "metadata": {
    "collapsed": true
   },
   "outputs": [],
   "source": [
    "model = Sequential()"
   ]
  },
  {
   "cell_type": "code",
   "execution_count": 15,
   "metadata": {
    "collapsed": false
   },
   "outputs": [],
   "source": [
    "model.add(SimpleRNN(units=13, input_shape=(13,1)))"
   ]
  },
  {
   "cell_type": "code",
   "execution_count": 16,
   "metadata": {
    "collapsed": true
   },
   "outputs": [],
   "source": [
    "model.add(Dense(1, activation = \"sigmoid\"))"
   ]
  },
  {
   "cell_type": "code",
   "execution_count": 17,
   "metadata": {
    "collapsed": false
   },
   "outputs": [
    {
     "name": "stdout",
     "output_type": "stream",
     "text": [
      "_________________________________________________________________\n",
      "Layer (type)                 Output Shape              Param #   \n",
      "=================================================================\n",
      "simple_rnn_1 (SimpleRNN)     (None, 13)                195       \n",
      "_________________________________________________________________\n",
      "dense_1 (Dense)              (None, 1)                 14        \n",
      "=================================================================\n",
      "Total params: 209\n",
      "Trainable params: 209\n",
      "Non-trainable params: 0\n",
      "_________________________________________________________________\n"
     ]
    }
   ],
   "source": [
    "model.summary()"
   ]
  },
  {
   "cell_type": "code",
   "execution_count": 18,
   "metadata": {
    "collapsed": false
   },
   "outputs": [],
   "source": [
    "model.compile(loss='binary_crossentropy', \n",
    "              optimizer='adam', metrics=['accuracy'])"
   ]
  },
  {
   "cell_type": "code",
   "execution_count": 19,
   "metadata": {
    "collapsed": false
   },
   "outputs": [
    {
     "name": "stdout",
     "output_type": "stream",
     "text": [
      "Train on 86104 samples, validate on 9568 samples\n",
      "Epoch 1/30\n",
      "86104/86104 [==============================] - 4s 48us/step - loss: 0.5864 - acc: 0.6994 - val_loss: 0.4708 - val_acc: 0.8069\n",
      "Epoch 2/30\n",
      "86104/86104 [==============================] - 3s 31us/step - loss: 0.4139 - acc: 0.8319 - val_loss: 0.3945 - val_acc: 0.8339\n",
      "Epoch 3/30\n",
      "86104/86104 [==============================] - 2s 27us/step - loss: 0.3791 - acc: 0.8414 - val_loss: 0.3806 - val_acc: 0.8394\n",
      "Epoch 4/30\n",
      "86104/86104 [==============================] - 3s 30us/step - loss: 0.3694 - acc: 0.8448 - val_loss: 0.3744 - val_acc: 0.8443\n",
      "Epoch 5/30\n",
      "86104/86104 [==============================] - 3s 32us/step - loss: 0.3642 - acc: 0.8483 - val_loss: 0.3711 - val_acc: 0.8451\n",
      "Epoch 6/30\n",
      "86104/86104 [==============================] - 3s 30us/step - loss: 0.3611 - acc: 0.8485 - val_loss: 0.3687 - val_acc: 0.8456\n",
      "Epoch 7/30\n",
      "86104/86104 [==============================] - 3s 31us/step - loss: 0.3589 - acc: 0.8494 - val_loss: 0.3669 - val_acc: 0.8465\n",
      "Epoch 8/30\n",
      "86104/86104 [==============================] - 3s 30us/step - loss: 0.3570 - acc: 0.8499 - val_loss: 0.3651 - val_acc: 0.8458\n",
      "Epoch 9/30\n",
      "86104/86104 [==============================] - 3s 32us/step - loss: 0.3553 - acc: 0.8500 - val_loss: 0.3639 - val_acc: 0.8463\n",
      "Epoch 10/30\n",
      "86104/86104 [==============================] - 3s 30us/step - loss: 0.3540 - acc: 0.8501 - val_loss: 0.3630 - val_acc: 0.8467\n",
      "Epoch 11/30\n",
      "86104/86104 [==============================] - 3s 31us/step - loss: 0.3527 - acc: 0.8506 - val_loss: 0.3622 - val_acc: 0.8469\n",
      "Epoch 12/30\n",
      "86104/86104 [==============================] - 2s 29us/step - loss: 0.3518 - acc: 0.8511 - val_loss: 0.3613 - val_acc: 0.8474\n",
      "Epoch 13/30\n",
      "86104/86104 [==============================] - 3s 29us/step - loss: 0.3512 - acc: 0.8518 - val_loss: 0.3610 - val_acc: 0.8454\n",
      "Epoch 14/30\n",
      "86104/86104 [==============================] - 3s 31us/step - loss: 0.3503 - acc: 0.8512 - val_loss: 0.3603 - val_acc: 0.8480\n",
      "Epoch 15/30\n",
      "86104/86104 [==============================] - 2s 27us/step - loss: 0.3495 - acc: 0.8517 - val_loss: 0.3598 - val_acc: 0.8476\n",
      "Epoch 16/30\n",
      "86104/86104 [==============================] - 3s 30us/step - loss: 0.3491 - acc: 0.8519 - val_loss: 0.3600 - val_acc: 0.8462\n",
      "Epoch 17/30\n",
      "86104/86104 [==============================] - 2s 29us/step - loss: 0.3488 - acc: 0.8524 - val_loss: 0.3592 - val_acc: 0.8475\n",
      "Epoch 18/30\n",
      "86104/86104 [==============================] - 2s 27us/step - loss: 0.3482 - acc: 0.8525 - val_loss: 0.3591 - val_acc: 0.8472\n",
      "Epoch 19/30\n",
      "86104/86104 [==============================] - 2s 27us/step - loss: 0.3481 - acc: 0.8520 - val_loss: 0.3591 - val_acc: 0.8485\n",
      "Epoch 20/30\n",
      "86104/86104 [==============================] - 3s 35us/step - loss: 0.3475 - acc: 0.8525 - val_loss: 0.3587 - val_acc: 0.8487\n",
      "Epoch 21/30\n",
      "86104/86104 [==============================] - 4s 42us/step - loss: 0.3472 - acc: 0.8527 - val_loss: 0.3585 - val_acc: 0.8472\n",
      "Epoch 22/30\n",
      "86104/86104 [==============================] - 4s 43us/step - loss: 0.3472 - acc: 0.8527 - val_loss: 0.3581 - val_acc: 0.8475\n",
      "Epoch 23/30\n",
      "86104/86104 [==============================] - 3s 39us/step - loss: 0.3467 - acc: 0.8530 - val_loss: 0.3583 - val_acc: 0.8474\n",
      "Epoch 24/30\n",
      "86104/86104 [==============================] - 2s 27us/step - loss: 0.3465 - acc: 0.8527 - val_loss: 0.3578 - val_acc: 0.8459\n",
      "Epoch 25/30\n",
      "86104/86104 [==============================] - 2s 27us/step - loss: 0.3465 - acc: 0.8530 - val_loss: 0.3578 - val_acc: 0.8481\n",
      "Epoch 26/30\n",
      "86104/86104 [==============================] - 2s 28us/step - loss: 0.3464 - acc: 0.8530 - val_loss: 0.3577 - val_acc: 0.8480\n",
      "Epoch 27/30\n",
      "86104/86104 [==============================] - 2s 26us/step - loss: 0.3459 - acc: 0.8530 - val_loss: 0.3574 - val_acc: 0.8477\n",
      "Epoch 28/30\n",
      "86104/86104 [==============================] - 2s 27us/step - loss: 0.3458 - acc: 0.8531 - val_loss: 0.3576 - val_acc: 0.8469\n",
      "Epoch 29/30\n",
      "86104/86104 [==============================] - 2s 27us/step - loss: 0.3454 - acc: 0.8535 - val_loss: 0.3576 - val_acc: 0.8480\n"
     ]
    }
   ],
   "source": [
    "train_history =model.fit(x=train_Features, \n",
    "                         y=train_Label, \n",
    "                         validation_split=0.1, \n",
    "                         epochs=30, \n",
    "                         batch_size=1500,verbose=1,callbacks=[early_stopping])"
   ]
  },
  {
   "cell_type": "code",
   "execution_count": 20,
   "metadata": {
    "collapsed": true
   },
   "outputs": [],
   "source": [
    "import matplotlib.pyplot as plt\n",
    "def show_train_history(train_history,train,validation):\n",
    "    plt.plot(train_history.history[train])\n",
    "    plt.plot(train_history.history[validation])\n",
    "    plt.title('Train History')\n",
    "    plt.ylabel(train)\n",
    "    plt.xlabel('Epoch')\n",
    "    plt.legend(['train', 'validation'], loc='upper left')\n",
    "    plt.show()"
   ]
  },
  {
   "cell_type": "code",
   "execution_count": 21,
   "metadata": {
    "collapsed": false
   },
   "outputs": [
    {
     "data": {
      "image/png": "[encoded data removed]",
      "text/plain": [
       "<matplotlib.figure.Figure at 0x7fddefbc8f98>"
      ]
     },
     "metadata": {},
     "output_type": "display_data"
    }
   ],
   "source": [
    "show_train_history(train_history,'acc','val_acc')"
   ]
  },
  {
   "cell_type": "code",
   "execution_count": 22,
   "metadata": {
    "collapsed": false
   },
   "outputs": [
    {
     "data": {
      "image/png": "[encoded data removed]",
      "text/plain": [
       "<matplotlib.figure.Figure at 0x7fddec2b9ac8>"
      ]
     },
     "metadata": {},
     "output_type": "display_data"
    }
   ],
   "source": [
    "show_train_history(train_history,'loss','val_loss')"
   ]
  },
  {
   "cell_type": "code",
   "execution_count": 23,
   "metadata": {
    "collapsed": false
   },
   "outputs": [
    {
     "name": "stdout",
     "output_type": "stream",
     "text": [
      "23918/23918 [==============================] - 5s 189us/step\n"
     ]
    }
   ],
   "source": [
    "scores = model.evaluate(x=test_Features, \n",
    "                        y=test_Label)"
   ]
  },
  {
   "cell_type": "code",
   "execution_count": 24,
   "metadata": {
    "collapsed": false
   },
   "outputs": [
    {
     "data": {
      "text/plain": [
       "0.8533322184129107"
      ]
     },
     "execution_count": 24,
     "metadata": {},
     "output_type": "execute_result"
    }
   ],
   "source": [
    "scores[1]"
   ]
  }
 ],
 "metadata": {
  "anaconda-cloud": {},
  "kernelspec": {
   "display_name": "Python [default]",
   "language": "python",
   "name": "python3"
  },
  "language_info": {
   "codemirror_mode": {
    "name": "ipython",
    "version": 3
   },
   "file_extension": ".py",
   "mimetype": "text/x-python",
   "name": "python",
   "nbconvert_exporter": "python",
   "pygments_lexer": "ipython3",
   "version": "3.5.2"
  }
 },
 "nbformat": 4,
 "nbformat_minor": 1
}
