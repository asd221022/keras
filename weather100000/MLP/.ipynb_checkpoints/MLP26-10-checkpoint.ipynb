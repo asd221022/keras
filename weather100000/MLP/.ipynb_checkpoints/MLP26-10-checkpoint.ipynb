{
 "cells": [
  {
   "cell_type": "code",
   "execution_count": 1,
   "metadata": {
    "collapsed": true,
    "slideshow": {
     "slide_type": "-"
    }
   },
   "outputs": [],
   "source": [
    "import numpy\n",
    "import pandas as pd\n",
    "from sklearn.preprocessing import StandardScaler\n",
    "from sklearn.model_selection  import train_test_split\n",
    "numpy.random.seed(10)"
   ]
  },
  {
   "cell_type": "code",
   "execution_count": 2,
   "metadata": {
    "collapsed": true
   },
   "outputs": [],
   "source": [
    "all_df = pd.read_csv(\"weather.csv\")"
   ]
  },
  {
   "cell_type": "code",
   "execution_count": 3,
   "metadata": {
    "collapsed": true
   },
   "outputs": [],
   "source": [
    "all_df=all_df.drop(['RISK_MM'], axis=1)"
   ]
  },
  {
   "cell_type": "code",
   "execution_count": 4,
   "metadata": {
    "collapsed": true
   },
   "outputs": [],
   "source": [
    "X=all_df.drop(['RainTomorrow'], axis=1).values.astype('float64')"
   ]
  },
  {
   "cell_type": "code",
   "execution_count": 5,
   "metadata": {
    "collapsed": true
   },
   "outputs": [],
   "source": [
    "Y = all_df['RainTomorrow'].values.astype('int64')"
   ]
  },
  {
   "cell_type": "code",
   "execution_count": 6,
   "metadata": {
    "collapsed": false
   },
   "outputs": [],
   "source": [
    "X = StandardScaler().fit_transform(X)\n",
    "train_Features, test_Features, train_Label, test_Label = train_test_split(X, Y, test_size=0.2, random_state=True) "
   ]
  },
  {
   "cell_type": "code",
   "execution_count": 7,
   "metadata": {
    "collapsed": false
   },
   "outputs": [
    {
     "name": "stderr",
     "output_type": "stream",
     "text": [
      "Using TensorFlow backend.\n"
     ]
    }
   ],
   "source": [
    "from keras.models import Sequential\n",
    "from keras.layers import Dense,Dropout\n",
    "from keras.callbacks import EarlyStopping\n",
    "early_stopping = EarlyStopping(monitor='val_loss', patience=2)"
   ]
  },
  {
   "cell_type": "code",
   "execution_count": 8,
   "metadata": {
    "collapsed": true
   },
   "outputs": [],
   "source": [
    "model = Sequential()"
   ]
  },
  {
   "cell_type": "code",
   "execution_count": 9,
   "metadata": {
    "collapsed": true
   },
   "outputs": [],
   "source": [
    "model.add(Dense(units=26*10,   input_dim=13,\n",
    "                kernel_initializer='uniform', \n",
    "                activation='relu'))"
   ]
  },
  {
   "cell_type": "code",
   "execution_count": 10,
   "metadata": {
    "collapsed": true
   },
   "outputs": [],
   "source": [
    "model.add(Dense(units=26*9,   \n",
    "                kernel_initializer='uniform', \n",
    "                activation='relu'))"
   ]
  },
  {
   "cell_type": "code",
   "execution_count": 11,
   "metadata": {
    "collapsed": true
   },
   "outputs": [],
   "source": [
    "model.add(Dense(units=26*8,   \n",
    "                kernel_initializer='uniform', \n",
    "                activation='relu'))"
   ]
  },
  {
   "cell_type": "code",
   "execution_count": 12,
   "metadata": {
    "collapsed": true
   },
   "outputs": [],
   "source": [
    "model.add(Dense(units=26*7,   \n",
    "                kernel_initializer='uniform', \n",
    "                activation='relu'))"
   ]
  },
  {
   "cell_type": "code",
   "execution_count": 13,
   "metadata": {
    "collapsed": true
   },
   "outputs": [],
   "source": [
    "model.add(Dense(units=26*6,   \n",
    "                kernel_initializer='uniform', \n",
    "                activation='relu'))"
   ]
  },
  {
   "cell_type": "code",
   "execution_count": 14,
   "metadata": {
    "collapsed": true
   },
   "outputs": [],
   "source": [
    "model.add(Dense(units=26*5,   \n",
    "                kernel_initializer='uniform', \n",
    "                activation='relu'))"
   ]
  },
  {
   "cell_type": "code",
   "execution_count": 15,
   "metadata": {
    "collapsed": true
   },
   "outputs": [],
   "source": [
    "model.add(Dense(units=26*4,   \n",
    "                kernel_initializer='uniform', \n",
    "                activation='relu'))"
   ]
  },
  {
   "cell_type": "code",
   "execution_count": 16,
   "metadata": {
    "collapsed": true
   },
   "outputs": [],
   "source": [
    "model.add(Dense(units=26*3,   \n",
    "                kernel_initializer='uniform', \n",
    "                activation='relu'))"
   ]
  },
  {
   "cell_type": "code",
   "execution_count": 17,
   "metadata": {
    "collapsed": true
   },
   "outputs": [],
   "source": [
    "model.add(Dense(units=26*2,   \n",
    "                kernel_initializer='uniform', \n",
    "                activation='relu'))"
   ]
  },
  {
   "cell_type": "code",
   "execution_count": 18,
   "metadata": {
    "collapsed": true
   },
   "outputs": [],
   "source": [
    "model.add(Dense(units=26,   \n",
    "                kernel_initializer='uniform', \n",
    "                activation='relu'))"
   ]
  },
  {
   "cell_type": "code",
   "execution_count": 19,
   "metadata": {
    "collapsed": true
   },
   "outputs": [],
   "source": [
    "model.add(Dense(units=1, \n",
    "                kernel_initializer='uniform',\n",
    "                activation='sigmoid'))"
   ]
  },
  {
   "cell_type": "code",
   "execution_count": 20,
   "metadata": {
    "collapsed": false
   },
   "outputs": [
    {
     "name": "stdout",
     "output_type": "stream",
     "text": [
      "_________________________________________________________________\n",
      "Layer (type)                 Output Shape              Param #   \n",
      "=================================================================\n",
      "dense_1 (Dense)              (None, 260)               3640      \n",
      "_________________________________________________________________\n",
      "dense_2 (Dense)              (None, 234)               61074     \n",
      "_________________________________________________________________\n",
      "dense_3 (Dense)              (None, 208)               48880     \n",
      "_________________________________________________________________\n",
      "dense_4 (Dense)              (None, 182)               38038     \n",
      "_________________________________________________________________\n",
      "dense_5 (Dense)              (None, 156)               28548     \n",
      "_________________________________________________________________\n",
      "dense_6 (Dense)              (None, 130)               20410     \n",
      "_________________________________________________________________\n",
      "dense_7 (Dense)              (None, 104)               13624     \n",
      "_________________________________________________________________\n",
      "dense_8 (Dense)              (None, 78)                8190      \n",
      "_________________________________________________________________\n",
      "dense_9 (Dense)              (None, 52)                4108      \n",
      "_________________________________________________________________\n",
      "dense_10 (Dense)             (None, 26)                1378      \n",
      "_________________________________________________________________\n",
      "dense_11 (Dense)             (None, 1)                 27        \n",
      "=================================================================\n",
      "Total params: 227,917\n",
      "Trainable params: 227,917\n",
      "Non-trainable params: 0\n",
      "_________________________________________________________________\n"
     ]
    }
   ],
   "source": [
    "model.summary()"
   ]
  },
  {
   "cell_type": "code",
   "execution_count": 21,
   "metadata": {
    "collapsed": true
   },
   "outputs": [],
   "source": [
    "model.compile(loss='binary_crossentropy', \n",
    "              optimizer='adam', metrics=['accuracy'])"
   ]
  },
  {
   "cell_type": "code",
   "execution_count": 22,
   "metadata": {
    "collapsed": false
   },
   "outputs": [
    {
     "name": "stdout",
     "output_type": "stream",
     "text": [
      "Train on 86104 samples, validate on 9568 samples\n",
      "Epoch 1/30\n",
      "86104/86104 [==============================] - 9s 106us/step - loss: 0.5931 - acc: 0.7816 - val_loss: 0.4167 - val_acc: 0.7774\n",
      "Epoch 2/30\n",
      "86104/86104 [==============================] - 9s 100us/step - loss: 0.3742 - acc: 0.8130 - val_loss: 0.3580 - val_acc: 0.8462\n",
      "Epoch 3/30\n",
      "86104/86104 [==============================] - 22s 252us/step - loss: 0.3456 - acc: 0.8535 - val_loss: 0.3517 - val_acc: 0.8480\n",
      "Epoch 4/30\n",
      "86104/86104 [==============================] - 19s 215us/step - loss: 0.3402 - acc: 0.8548 - val_loss: 0.3500 - val_acc: 0.8499\n",
      "Epoch 5/30\n",
      "86104/86104 [==============================] - 9s 107us/step - loss: 0.3380 - acc: 0.8558 - val_loss: 0.3498 - val_acc: 0.8508\n",
      "Epoch 6/30\n",
      "86104/86104 [==============================] - 9s 101us/step - loss: 0.3358 - acc: 0.8571 - val_loss: 0.3499 - val_acc: 0.8528\n",
      "Epoch 7/30\n",
      "86104/86104 [==============================] - 9s 103us/step - loss: 0.3354 - acc: 0.8572 - val_loss: 0.3462 - val_acc: 0.8498\n",
      "Epoch 8/30\n",
      "86104/86104 [==============================] - 10s 121us/step - loss: 0.3335 - acc: 0.8578 - val_loss: 0.3482 - val_acc: 0.8521\n",
      "Epoch 9/30\n",
      "86104/86104 [==============================] - 11s 132us/step - loss: 0.3322 - acc: 0.8581 - val_loss: 0.3438 - val_acc: 0.8510\n",
      "Epoch 10/30\n",
      "86104/86104 [==============================] - 9s 101us/step - loss: 0.3313 - acc: 0.8592 - val_loss: 0.3434 - val_acc: 0.8525\n",
      "Epoch 11/30\n",
      "86104/86104 [==============================] - 11s 129us/step - loss: 0.3307 - acc: 0.8593 - val_loss: 0.3455 - val_acc: 0.8535\n",
      "Epoch 12/30\n",
      "86104/86104 [==============================] - 8s 90us/step - loss: 0.3291 - acc: 0.8600 - val_loss: 0.3427 - val_acc: 0.8520\n",
      "Epoch 13/30\n",
      "86104/86104 [==============================] - 11s 127us/step - loss: 0.3284 - acc: 0.8601 - val_loss: 0.3416 - val_acc: 0.8531\n",
      "Epoch 14/30\n",
      "86104/86104 [==============================] - 9s 101us/step - loss: 0.3278 - acc: 0.8598 - val_loss: 0.3422 - val_acc: 0.8524\n",
      "Epoch 15/30\n",
      "86104/86104 [==============================] - 8s 92us/step - loss: 0.3277 - acc: 0.8607 - val_loss: 0.3411 - val_acc: 0.8548\n",
      "Epoch 16/30\n",
      "86104/86104 [==============================] - 10s 120us/step - loss: 0.3268 - acc: 0.8605 - val_loss: 0.3410 - val_acc: 0.8544\n",
      "Epoch 17/30\n",
      "86104/86104 [==============================] - 9s 110us/step - loss: 0.3268 - acc: 0.8609 - val_loss: 0.3419 - val_acc: 0.8539\n",
      "Epoch 18/30\n",
      "86104/86104 [==============================] - 9s 105us/step - loss: 0.3256 - acc: 0.8610 - val_loss: 0.3419 - val_acc: 0.8531\n"
     ]
    }
   ],
   "source": [
    "train_history =model.fit(x=train_Features, \n",
    "                         y=train_Label, \n",
    "                         validation_split=0.1, \n",
    "                         epochs=30, \n",
    "                         batch_size=1500,verbose=1,callbacks=[early_stopping])"
   ]
  },
  {
   "cell_type": "code",
   "execution_count": 23,
   "metadata": {
    "collapsed": true
   },
   "outputs": [],
   "source": [
    "import matplotlib.pyplot as plt\n",
    "def show_train_history(train_history,train,validation):\n",
    "    plt.plot(train_history.history[train])\n",
    "    plt.plot(train_history.history[validation])\n",
    "    plt.title('Train History')\n",
    "    plt.ylabel(train)\n",
    "    plt.xlabel('Epoch')\n",
    "    plt.legend(['train', 'validation'], loc='upper left')\n",
    "    plt.show()"
   ]
  },
  {
   "cell_type": "code",
   "execution_count": 24,
   "metadata": {
    "collapsed": false
   },
   "outputs": [
    {
     "data": {
      "image/png": "[encoded data removed]",
      "text/plain": [
       "<matplotlib.figure.Figure at 0x7f1072f65ef0>"
      ]
     },
     "metadata": {},
     "output_type": "display_data"
    }
   ],
   "source": [
    "show_train_history(train_history,'acc','val_acc')"
   ]
  },
  {
   "cell_type": "code",
   "execution_count": 25,
   "metadata": {
    "collapsed": false
   },
   "outputs": [
    {
     "data": {
      "image/png": "[encoded data removed]",
      "text/plain": [
       "<matplotlib.figure.Figure at 0x7f1072f77160>"
      ]
     },
     "metadata": {},
     "output_type": "display_data"
    }
   ],
   "source": [
    "show_train_history(train_history,'loss','val_loss')"
   ]
  },
  {
   "cell_type": "code",
   "execution_count": 26,
   "metadata": {
    "collapsed": false
   },
   "outputs": [
    {
     "name": "stdout",
     "output_type": "stream",
     "text": [
      "23918/23918 [==============================] - 2s 64us/step\n"
     ]
    }
   ],
   "source": [
    "scores = model.evaluate(x=test_Features, \n",
    "                        y=test_Label)"
   ]
  },
  {
   "cell_type": "code",
   "execution_count": 27,
   "metadata": {
    "collapsed": false
   },
   "outputs": [
    {
     "data": {
      "text/plain": [
       "0.8557153608161218"
      ]
     },
     "execution_count": 27,
     "metadata": {},
     "output_type": "execute_result"
    }
   ],
   "source": [
    "scores[1]"
   ]
  }
 ],
 "metadata": {
  "anaconda-cloud": {},
  "kernelspec": {
   "display_name": "Python [default]",
   "language": "python",
   "name": "python3"
  },
  "language_info": {
   "codemirror_mode": {
    "name": "ipython",
    "version": 3
   },
   "file_extension": ".py",
   "mimetype": "text/x-python",
   "name": "python",
   "nbconvert_exporter": "python",
   "pygments_lexer": "ipython3",
   "version": "3.5.2"
  }
 },
 "nbformat": 4,
 "nbformat_minor": 1
}
