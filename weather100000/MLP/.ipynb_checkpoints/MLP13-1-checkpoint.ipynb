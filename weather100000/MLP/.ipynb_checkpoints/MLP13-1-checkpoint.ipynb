{
 "cells": [
  {
   "cell_type": "code",
   "execution_count": 1,
   "metadata": {
    "collapsed": true,
    "slideshow": {
     "slide_type": "-"
    }
   },
   "outputs": [],
   "source": [
    "import numpy\n",
    "import pandas as pd\n",
    "from sklearn.preprocessing import StandardScaler\n",
    "from sklearn.model_selection  import train_test_split\n",
    "numpy.random.seed(10)"
   ]
  },
  {
   "cell_type": "code",
   "execution_count": 2,
   "metadata": {
    "collapsed": true
   },
   "outputs": [],
   "source": [
    "all_df = pd.read_csv(\"weather.csv\")"
   ]
  },
  {
   "cell_type": "code",
   "execution_count": 3,
   "metadata": {
    "collapsed": true
   },
   "outputs": [],
   "source": [
    "all_df=all_df.drop(['RISK_MM'], axis=1)"
   ]
  },
  {
   "cell_type": "code",
   "execution_count": 4,
   "metadata": {
    "collapsed": true
   },
   "outputs": [],
   "source": [
    "X=all_df.drop(['RainTomorrow'], axis=1).values.astype('float64')"
   ]
  },
  {
   "cell_type": "code",
   "execution_count": 5,
   "metadata": {
    "collapsed": true
   },
   "outputs": [],
   "source": [
    "Y = all_df['RainTomorrow'].values.astype('int64')"
   ]
  },
  {
   "cell_type": "code",
   "execution_count": 6,
   "metadata": {
    "collapsed": false
   },
   "outputs": [],
   "source": [
    "X = StandardScaler().fit_transform(X)\n",
    "train_Features, test_Features, train_Label, test_Label = train_test_split(X, Y, test_size=0.2, random_state=True) "
   ]
  },
  {
   "cell_type": "code",
   "execution_count": 7,
   "metadata": {
    "collapsed": false
   },
   "outputs": [
    {
     "name": "stderr",
     "output_type": "stream",
     "text": [
      "Using TensorFlow backend.\n"
     ]
    }
   ],
   "source": [
    "from keras.models import Sequential\n",
    "from keras.layers import Dense,Dropout\n",
    "from keras.callbacks import EarlyStopping\n",
    "early_stopping = EarlyStopping(monitor='val_loss', patience=2)"
   ]
  },
  {
   "cell_type": "code",
   "execution_count": 8,
   "metadata": {
    "collapsed": true
   },
   "outputs": [],
   "source": [
    "model = Sequential()"
   ]
  },
  {
   "cell_type": "code",
   "execution_count": 9,
   "metadata": {
    "collapsed": true
   },
   "outputs": [],
   "source": [
    "model.add(Dense(units=13,   input_dim=13,\n",
    "                kernel_initializer='uniform', \n",
    "                activation='relu'))"
   ]
  },
  {
   "cell_type": "code",
   "execution_count": 10,
   "metadata": {
    "collapsed": true
   },
   "outputs": [],
   "source": [
    "model.add(Dense(units=1, \n",
    "                kernel_initializer='uniform',\n",
    "                activation='sigmoid'))"
   ]
  },
  {
   "cell_type": "code",
   "execution_count": 11,
   "metadata": {
    "collapsed": false
   },
   "outputs": [
    {
     "name": "stdout",
     "output_type": "stream",
     "text": [
      "_________________________________________________________________\n",
      "Layer (type)                 Output Shape              Param #   \n",
      "=================================================================\n",
      "dense_1 (Dense)              (None, 13)                182       \n",
      "_________________________________________________________________\n",
      "dense_2 (Dense)              (None, 1)                 14        \n",
      "=================================================================\n",
      "Total params: 196\n",
      "Trainable params: 196\n",
      "Non-trainable params: 0\n",
      "_________________________________________________________________\n"
     ]
    }
   ],
   "source": [
    "model.summary()"
   ]
  },
  {
   "cell_type": "code",
   "execution_count": 12,
   "metadata": {
    "collapsed": true
   },
   "outputs": [],
   "source": [
    "model.compile(loss='binary_crossentropy', \n",
    "              optimizer='adam', metrics=['accuracy'])"
   ]
  },
  {
   "cell_type": "code",
   "execution_count": 13,
   "metadata": {
    "collapsed": false
   },
   "outputs": [
    {
     "name": "stdout",
     "output_type": "stream",
     "text": [
      "Train on 86104 samples, validate on 9568 samples\n",
      "Epoch 1/30\n",
      "86104/86104 [==============================] - 3s 34us/step - loss: 0.6704 - acc: 0.7494 - val_loss: 0.6335 - val_acc: 0.7983\n",
      "Epoch 2/30\n",
      "86104/86104 [==============================] - 0s 3us/step - loss: 0.5745 - acc: 0.8180 - val_loss: 0.5141 - val_acc: 0.8213\n",
      "Epoch 3/30\n",
      "86104/86104 [==============================] - 0s 5us/step - loss: 0.4665 - acc: 0.8284 - val_loss: 0.4347 - val_acc: 0.8263\n",
      "Epoch 4/30\n",
      "86104/86104 [==============================] - 1s 7us/step - loss: 0.4111 - acc: 0.8354 - val_loss: 0.4027 - val_acc: 0.8314\n",
      "Epoch 5/30\n",
      "86104/86104 [==============================] - 0s 5us/step - loss: 0.3881 - acc: 0.8399 - val_loss: 0.3892 - val_acc: 0.8331\n",
      "Epoch 6/30\n",
      "86104/86104 [==============================] - 0s 5us/step - loss: 0.3771 - acc: 0.8434 - val_loss: 0.3820 - val_acc: 0.8372\n",
      "Epoch 7/30\n",
      "86104/86104 [==============================] - 1s 7us/step - loss: 0.3703 - acc: 0.8462 - val_loss: 0.3771 - val_acc: 0.8398\n",
      "Epoch 8/30\n",
      "86104/86104 [==============================] - 0s 5us/step - loss: 0.3654 - acc: 0.8481 - val_loss: 0.3730 - val_acc: 0.8416\n",
      "Epoch 9/30\n",
      "86104/86104 [==============================] - 0s 4us/step - loss: 0.3614 - acc: 0.8494 - val_loss: 0.3698 - val_acc: 0.8428\n",
      "Epoch 10/30\n",
      "86104/86104 [==============================] - 1s 8us/step - loss: 0.3583 - acc: 0.8506 - val_loss: 0.3673 - val_acc: 0.8429\n",
      "Epoch 11/30\n",
      "86104/86104 [==============================] - 1s 11us/step - loss: 0.3558 - acc: 0.8510 - val_loss: 0.3653 - val_acc: 0.8444\n",
      "Epoch 12/30\n",
      "86104/86104 [==============================] - 1s 12us/step - loss: 0.3539 - acc: 0.8517 - val_loss: 0.3638 - val_acc: 0.8438\n",
      "Epoch 13/30\n",
      "86104/86104 [==============================] - 1s 10us/step - loss: 0.3523 - acc: 0.8520 - val_loss: 0.3625 - val_acc: 0.8448\n",
      "Epoch 14/30\n",
      "86104/86104 [==============================] - 0s 5us/step - loss: 0.3510 - acc: 0.8517 - val_loss: 0.3614 - val_acc: 0.8444\n",
      "Epoch 15/30\n",
      "86104/86104 [==============================] - 1s 7us/step - loss: 0.3498 - acc: 0.8521 - val_loss: 0.3606 - val_acc: 0.8443\n",
      "Epoch 16/30\n",
      "86104/86104 [==============================] - 0s 6us/step - loss: 0.3489 - acc: 0.8526 - val_loss: 0.3597 - val_acc: 0.8441\n",
      "Epoch 17/30\n",
      "86104/86104 [==============================] - 1s 8us/step - loss: 0.3480 - acc: 0.8528 - val_loss: 0.3589 - val_acc: 0.8440\n",
      "Epoch 18/30\n",
      "86104/86104 [==============================] - 1s 8us/step - loss: 0.3472 - acc: 0.8524 - val_loss: 0.3582 - val_acc: 0.8448\n",
      "Epoch 19/30\n",
      "86104/86104 [==============================] - 0s 6us/step - loss: 0.3464 - acc: 0.8530 - val_loss: 0.3575 - val_acc: 0.8452\n",
      "Epoch 20/30\n",
      "86104/86104 [==============================] - 1s 6us/step - loss: 0.3457 - acc: 0.8528 - val_loss: 0.3568 - val_acc: 0.8452\n",
      "Epoch 21/30\n",
      "86104/86104 [==============================] - 1s 9us/step - loss: 0.3451 - acc: 0.8533 - val_loss: 0.3562 - val_acc: 0.8448\n",
      "Epoch 22/30\n",
      "86104/86104 [==============================] - 0s 4us/step - loss: 0.3446 - acc: 0.8532 - val_loss: 0.3558 - val_acc: 0.8443\n",
      "Epoch 23/30\n",
      "86104/86104 [==============================] - 0s 4us/step - loss: 0.3441 - acc: 0.8538 - val_loss: 0.3554 - val_acc: 0.8445\n",
      "Epoch 24/30\n",
      "86104/86104 [==============================] - 0s 4us/step - loss: 0.3436 - acc: 0.8538 - val_loss: 0.3550 - val_acc: 0.8445\n",
      "Epoch 25/30\n",
      "86104/86104 [==============================] - 0s 4us/step - loss: 0.3433 - acc: 0.8542 - val_loss: 0.3546 - val_acc: 0.8452\n",
      "Epoch 26/30\n",
      "86104/86104 [==============================] - 1s 6us/step - loss: 0.3429 - acc: 0.8541 - val_loss: 0.3543 - val_acc: 0.8460\n",
      "Epoch 27/30\n",
      "86104/86104 [==============================] - 0s 5us/step - loss: 0.3426 - acc: 0.8543 - val_loss: 0.3539 - val_acc: 0.8462\n",
      "Epoch 28/30\n",
      "86104/86104 [==============================] - 0s 5us/step - loss: 0.3423 - acc: 0.8546 - val_loss: 0.3538 - val_acc: 0.8468\n",
      "Epoch 29/30\n",
      "86104/86104 [==============================] - 1s 6us/step - loss: 0.3420 - acc: 0.8548 - val_loss: 0.3535 - val_acc: 0.8466\n",
      "Epoch 30/30\n",
      "86104/86104 [==============================] - 0s 5us/step - loss: 0.3418 - acc: 0.8546 - val_loss: 0.3532 - val_acc: 0.8464\n"
     ]
    }
   ],
   "source": [
    "train_history =model.fit(x=train_Features, \n",
    "                         y=train_Label, \n",
    "                         validation_split=0.1, \n",
    "                         epochs=30, \n",
    "                         batch_size=1500,verbose=1,callbacks=[early_stopping])"
   ]
  },
  {
   "cell_type": "code",
   "execution_count": 14,
   "metadata": {
    "collapsed": true
   },
   "outputs": [],
   "source": [
    "import matplotlib.pyplot as plt\n",
    "def show_train_history(train_history,train,validation):\n",
    "    plt.plot(train_history.history[train])\n",
    "    plt.plot(train_history.history[validation])\n",
    "    plt.title('Train History')\n",
    "    plt.ylabel(train)\n",
    "    plt.xlabel('Epoch')\n",
    "    plt.legend(['train', 'validation'], loc='upper left')\n",
    "    plt.show()"
   ]
  },
  {
   "cell_type": "code",
   "execution_count": 15,
   "metadata": {
    "collapsed": false
   },
   "outputs": [
    {
     "data": {
      "image/png": "[encoded data removed]",
      "text/plain": [
       "<matplotlib.figure.Figure at 0x7f7f586c07b8>"
      ]
     },
     "metadata": {},
     "output_type": "display_data"
    }
   ],
   "source": [
    "show_train_history(train_history,'acc','val_acc')"
   ]
  },
  {
   "cell_type": "code",
   "execution_count": 16,
   "metadata": {
    "collapsed": false
   },
   "outputs": [
    {
     "data": {
      "image/png": "[encoded data removed]",
      "text/plain": [
       "<matplotlib.figure.Figure at 0x7f7f586c0710>"
      ]
     },
     "metadata": {},
     "output_type": "display_data"
    }
   ],
   "source": [
    "show_train_history(train_history,'loss','val_loss')"
   ]
  },
  {
   "cell_type": "code",
   "execution_count": 17,
   "metadata": {
    "collapsed": false
   },
   "outputs": [
    {
     "name": "stdout",
     "output_type": "stream",
     "text": [
      "23918/23918 [==============================] - 1s 37us/step\n"
     ]
    }
   ],
   "source": [
    "scores = model.evaluate(x=test_Features, \n",
    "                        y=test_Label)"
   ]
  },
  {
   "cell_type": "code",
   "execution_count": 18,
   "metadata": {
    "collapsed": false
   },
   "outputs": [
    {
     "data": {
      "text/plain": [
       "0.8557153608161218"
      ]
     },
     "execution_count": 18,
     "metadata": {},
     "output_type": "execute_result"
    }
   ],
   "source": [
    "scores[1]"
   ]
  }
 ],
 "metadata": {
  "anaconda-cloud": {},
  "kernelspec": {
   "display_name": "Python [default]",
   "language": "python",
   "name": "python3"
  },
  "language_info": {
   "codemirror_mode": {
    "name": "ipython",
    "version": 3
   },
   "file_extension": ".py",
   "mimetype": "text/x-python",
   "name": "python",
   "nbconvert_exporter": "python",
   "pygments_lexer": "ipython3",
   "version": "3.5.2"
  }
 },
 "nbformat": 4,
 "nbformat_minor": 1
}
