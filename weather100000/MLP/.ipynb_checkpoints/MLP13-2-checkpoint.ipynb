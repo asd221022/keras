{
 "cells": [
  {
   "cell_type": "code",
   "execution_count": 1,
   "metadata": {
    "collapsed": true,
    "slideshow": {
     "slide_type": "-"
    }
   },
   "outputs": [],
   "source": [
    "import numpy\n",
    "import pandas as pd\n",
    "from sklearn.preprocessing import StandardScaler\n",
    "from sklearn.model_selection  import train_test_split\n",
    "numpy.random.seed(10)"
   ]
  },
  {
   "cell_type": "code",
   "execution_count": 2,
   "metadata": {
    "collapsed": true
   },
   "outputs": [],
   "source": [
    "all_df = pd.read_csv(\"weather.csv\")"
   ]
  },
  {
   "cell_type": "code",
   "execution_count": 3,
   "metadata": {
    "collapsed": true
   },
   "outputs": [],
   "source": [
    "all_df=all_df.drop(['RISK_MM'], axis=1)"
   ]
  },
  {
   "cell_type": "code",
   "execution_count": 4,
   "metadata": {
    "collapsed": true
   },
   "outputs": [],
   "source": [
    "X=all_df.drop(['RainTomorrow'], axis=1).values.astype('float64')"
   ]
  },
  {
   "cell_type": "code",
   "execution_count": 5,
   "metadata": {
    "collapsed": true
   },
   "outputs": [],
   "source": [
    "Y = all_df['RainTomorrow'].values.astype('int64')"
   ]
  },
  {
   "cell_type": "code",
   "execution_count": 6,
   "metadata": {
    "collapsed": false
   },
   "outputs": [],
   "source": [
    "X = StandardScaler().fit_transform(X)\n",
    "train_Features, test_Features, train_Label, test_Label = train_test_split(X, Y, test_size=0.2, random_state=True) "
   ]
  },
  {
   "cell_type": "code",
   "execution_count": 7,
   "metadata": {
    "collapsed": false
   },
   "outputs": [
    {
     "name": "stderr",
     "output_type": "stream",
     "text": [
      "Using TensorFlow backend.\n"
     ]
    }
   ],
   "source": [
    "from keras.models import Sequential\n",
    "from keras.layers import Dense,Dropout\n",
    "from keras.callbacks import EarlyStopping\n",
    "early_stopping = EarlyStopping(monitor='val_loss', patience=2)"
   ]
  },
  {
   "cell_type": "code",
   "execution_count": 8,
   "metadata": {
    "collapsed": true
   },
   "outputs": [],
   "source": [
    "model = Sequential()"
   ]
  },
  {
   "cell_type": "code",
   "execution_count": 9,
   "metadata": {
    "collapsed": true
   },
   "outputs": [],
   "source": [
    "model.add(Dense(units=13*2,   input_dim=13,\n",
    "                kernel_initializer='uniform', \n",
    "                activation='relu'))"
   ]
  },
  {
   "cell_type": "code",
   "execution_count": 10,
   "metadata": {
    "collapsed": true
   },
   "outputs": [],
   "source": [
    "model.add(Dense(units=13,   \n",
    "                kernel_initializer='uniform', \n",
    "                activation='relu'))"
   ]
  },
  {
   "cell_type": "code",
   "execution_count": 11,
   "metadata": {
    "collapsed": true
   },
   "outputs": [],
   "source": [
    "model.add(Dense(units=1, \n",
    "                kernel_initializer='uniform',\n",
    "                activation='sigmoid'))"
   ]
  },
  {
   "cell_type": "code",
   "execution_count": 12,
   "metadata": {
    "collapsed": false
   },
   "outputs": [
    {
     "name": "stdout",
     "output_type": "stream",
     "text": [
      "_________________________________________________________________\n",
      "Layer (type)                 Output Shape              Param #   \n",
      "=================================================================\n",
      "dense_1 (Dense)              (None, 26)                364       \n",
      "_________________________________________________________________\n",
      "dense_2 (Dense)              (None, 13)                351       \n",
      "_________________________________________________________________\n",
      "dense_3 (Dense)              (None, 1)                 14        \n",
      "=================================================================\n",
      "Total params: 729\n",
      "Trainable params: 729\n",
      "Non-trainable params: 0\n",
      "_________________________________________________________________\n"
     ]
    }
   ],
   "source": [
    "model.summary()"
   ]
  },
  {
   "cell_type": "code",
   "execution_count": 13,
   "metadata": {
    "collapsed": true
   },
   "outputs": [],
   "source": [
    "model.compile(loss='binary_crossentropy', \n",
    "              optimizer='adam', metrics=['accuracy'])"
   ]
  },
  {
   "cell_type": "code",
   "execution_count": 14,
   "metadata": {
    "collapsed": false
   },
   "outputs": [
    {
     "name": "stdout",
     "output_type": "stream",
     "text": [
      "Train on 86104 samples, validate on 9568 samples\n",
      "Epoch 1/30\n",
      "86104/86104 [==============================] - 2s 19us/step - loss: 0.6614 - acc: 0.7833 - val_loss: 0.5844 - val_acc: 0.8053\n",
      "Epoch 2/30\n",
      "86104/86104 [==============================] - 1s 7us/step - loss: 0.4673 - acc: 0.8231 - val_loss: 0.4060 - val_acc: 0.8237\n",
      "Epoch 3/30\n",
      "86104/86104 [==============================] - 1s 8us/step - loss: 0.3850 - acc: 0.8350 - val_loss: 0.3817 - val_acc: 0.8347\n",
      "Epoch 4/30\n",
      "86104/86104 [==============================] - 1s 7us/step - loss: 0.3657 - acc: 0.8462 - val_loss: 0.3704 - val_acc: 0.8388\n",
      "Epoch 5/30\n",
      "86104/86104 [==============================] - 1s 10us/step - loss: 0.3562 - acc: 0.8499 - val_loss: 0.3649 - val_acc: 0.8428\n",
      "Epoch 6/30\n",
      "86104/86104 [==============================] - 1s 9us/step - loss: 0.3511 - acc: 0.8521 - val_loss: 0.3606 - val_acc: 0.8443\n",
      "Epoch 7/30\n",
      "86104/86104 [==============================] - 1s 9us/step - loss: 0.3480 - acc: 0.8533 - val_loss: 0.3589 - val_acc: 0.8441\n",
      "Epoch 8/30\n",
      "86104/86104 [==============================] - 1s 8us/step - loss: 0.3463 - acc: 0.8540 - val_loss: 0.3571 - val_acc: 0.8465\n",
      "Epoch 9/30\n",
      "86104/86104 [==============================] - 1s 8us/step - loss: 0.3448 - acc: 0.8537 - val_loss: 0.3559 - val_acc: 0.8455\n",
      "Epoch 10/30\n",
      "86104/86104 [==============================] - 1s 8us/step - loss: 0.3440 - acc: 0.8540 - val_loss: 0.3551 - val_acc: 0.8453\n",
      "Epoch 11/30\n",
      "86104/86104 [==============================] - 1s 8us/step - loss: 0.3433 - acc: 0.8541 - val_loss: 0.3549 - val_acc: 0.8457\n",
      "Epoch 12/30\n",
      "86104/86104 [==============================] - 1s 10us/step - loss: 0.3428 - acc: 0.8545 - val_loss: 0.3544 - val_acc: 0.8459\n",
      "Epoch 13/30\n",
      "86104/86104 [==============================] - 1s 8us/step - loss: 0.3423 - acc: 0.8545 - val_loss: 0.3536 - val_acc: 0.8467\n",
      "Epoch 14/30\n",
      "86104/86104 [==============================] - 1s 7us/step - loss: 0.3416 - acc: 0.8551 - val_loss: 0.3536 - val_acc: 0.8455\n",
      "Epoch 15/30\n",
      "86104/86104 [==============================] - 1s 9us/step - loss: 0.3413 - acc: 0.8550 - val_loss: 0.3527 - val_acc: 0.8464\n",
      "Epoch 16/30\n",
      "86104/86104 [==============================] - 1s 9us/step - loss: 0.3411 - acc: 0.8551 - val_loss: 0.3527 - val_acc: 0.8463\n",
      "Epoch 17/30\n",
      "86104/86104 [==============================] - 1s 7us/step - loss: 0.3407 - acc: 0.8555 - val_loss: 0.3525 - val_acc: 0.8465\n",
      "Epoch 18/30\n",
      "86104/86104 [==============================] - 1s 9us/step - loss: 0.3403 - acc: 0.8553 - val_loss: 0.3523 - val_acc: 0.8471\n",
      "Epoch 19/30\n",
      "86104/86104 [==============================] - 1s 8us/step - loss: 0.3401 - acc: 0.8551 - val_loss: 0.3519 - val_acc: 0.8467\n",
      "Epoch 20/30\n",
      "86104/86104 [==============================] - 1s 8us/step - loss: 0.3398 - acc: 0.8555 - val_loss: 0.3515 - val_acc: 0.8491\n",
      "Epoch 21/30\n",
      "86104/86104 [==============================] - 1s 8us/step - loss: 0.3397 - acc: 0.8550 - val_loss: 0.3511 - val_acc: 0.8490\n",
      "Epoch 22/30\n",
      "86104/86104 [==============================] - 0s 6us/step - loss: 0.3393 - acc: 0.8553 - val_loss: 0.3515 - val_acc: 0.8476\n",
      "Epoch 23/30\n",
      "86104/86104 [==============================] - 0s 4us/step - loss: 0.3392 - acc: 0.8552 - val_loss: 0.3507 - val_acc: 0.8489\n",
      "Epoch 24/30\n",
      "86104/86104 [==============================] - 0s 4us/step - loss: 0.3391 - acc: 0.8552 - val_loss: 0.3504 - val_acc: 0.8489\n",
      "Epoch 25/30\n",
      "86104/86104 [==============================] - 0s 3us/step - loss: 0.3388 - acc: 0.8555 - val_loss: 0.3501 - val_acc: 0.8493\n",
      "Epoch 26/30\n",
      "86104/86104 [==============================] - 0s 3us/step - loss: 0.3388 - acc: 0.8557 - val_loss: 0.3504 - val_acc: 0.8482\n",
      "Epoch 27/30\n",
      "86104/86104 [==============================] - 0s 3us/step - loss: 0.3384 - acc: 0.8554 - val_loss: 0.3497 - val_acc: 0.8497\n",
      "Epoch 28/30\n",
      "86104/86104 [==============================] - 0s 3us/step - loss: 0.3382 - acc: 0.8559 - val_loss: 0.3493 - val_acc: 0.8493\n",
      "Epoch 29/30\n",
      "86104/86104 [==============================] - 0s 3us/step - loss: 0.3378 - acc: 0.8553 - val_loss: 0.3495 - val_acc: 0.8495\n",
      "Epoch 30/30\n",
      "86104/86104 [==============================] - 0s 4us/step - loss: 0.3378 - acc: 0.8559 - val_loss: 0.3494 - val_acc: 0.8495\n"
     ]
    }
   ],
   "source": [
    "train_history =model.fit(x=train_Features, \n",
    "                         y=train_Label, \n",
    "                         validation_split=0.1, \n",
    "                         epochs=30, \n",
    "                         batch_size=1500,verbose=1,callbacks=[early_stopping])"
   ]
  },
  {
   "cell_type": "code",
   "execution_count": 15,
   "metadata": {
    "collapsed": true
   },
   "outputs": [],
   "source": [
    "import matplotlib.pyplot as plt\n",
    "def show_train_history(train_history,train,validation):\n",
    "    plt.plot(train_history.history[train])\n",
    "    plt.plot(train_history.history[validation])\n",
    "    plt.title('Train History')\n",
    "    plt.ylabel(train)\n",
    "    plt.xlabel('Epoch')\n",
    "    plt.legend(['train', 'validation'], loc='upper left')\n",
    "    plt.show()"
   ]
  },
  {
   "cell_type": "code",
   "execution_count": 16,
   "metadata": {
    "collapsed": false
   },
   "outputs": [
    {
     "data": {
      "image/png": "[encoded data removed]",
      "text/plain": [
       "<matplotlib.figure.Figure at 0x7f9d8a397470>"
      ]
     },
     "metadata": {},
     "output_type": "display_data"
    }
   ],
   "source": [
    "show_train_history(train_history,'acc','val_acc')"
   ]
  },
  {
   "cell_type": "code",
   "execution_count": 17,
   "metadata": {
    "collapsed": false
   },
   "outputs": [
    {
     "data": {
      "image/png": "[encoded data removed]",
      "text/plain": [
       "<matplotlib.figure.Figure at 0x7f9d8a3c0b70>"
      ]
     },
     "metadata": {},
     "output_type": "display_data"
    }
   ],
   "source": [
    "show_train_history(train_history,'loss','val_loss')"
   ]
  },
  {
   "cell_type": "code",
   "execution_count": 18,
   "metadata": {
    "collapsed": false
   },
   "outputs": [
    {
     "name": "stdout",
     "output_type": "stream",
     "text": [
      "23918/23918 [==============================] - 0s 20us/step\n"
     ]
    }
   ],
   "source": [
    "scores = model.evaluate(x=test_Features, \n",
    "                        y=test_Label)"
   ]
  },
  {
   "cell_type": "code",
   "execution_count": 19,
   "metadata": {
    "collapsed": false
   },
   "outputs": [
    {
     "data": {
      "text/plain": [
       "0.8555063132368927"
      ]
     },
     "execution_count": 19,
     "metadata": {},
     "output_type": "execute_result"
    }
   ],
   "source": [
    "scores[1]"
   ]
  }
 ],
 "metadata": {
  "anaconda-cloud": {},
  "kernelspec": {
   "display_name": "Python [default]",
   "language": "python",
   "name": "python3"
  },
  "language_info": {
   "codemirror_mode": {
    "name": "ipython",
    "version": 3
   },
   "file_extension": ".py",
   "mimetype": "text/x-python",
   "name": "python",
   "nbconvert_exporter": "python",
   "pygments_lexer": "ipython3",
   "version": "3.5.2"
  }
 },
 "nbformat": 4,
 "nbformat_minor": 1
}
