{
 "cells": [
  {
   "cell_type": "code",
   "execution_count": 1,
   "metadata": {
    "collapsed": true,
    "slideshow": {
     "slide_type": "-"
    }
   },
   "outputs": [],
   "source": [
    "import numpy\n",
    "import pandas as pd\n",
    "from sklearn.preprocessing import StandardScaler\n",
    "from sklearn.model_selection  import train_test_split\n",
    "numpy.random.seed(10)"
   ]
  },
  {
   "cell_type": "code",
   "execution_count": 2,
   "metadata": {
    "collapsed": true
   },
   "outputs": [],
   "source": [
    "all_df = pd.read_csv(\"weather.csv\")"
   ]
  },
  {
   "cell_type": "code",
   "execution_count": 3,
   "metadata": {
    "collapsed": true
   },
   "outputs": [],
   "source": [
    "all_df=all_df.drop(['RISK_MM'], axis=1)"
   ]
  },
  {
   "cell_type": "code",
   "execution_count": 4,
   "metadata": {
    "collapsed": true
   },
   "outputs": [],
   "source": [
    "X=all_df.drop(['RainTomorrow'], axis=1).values.astype('float64')"
   ]
  },
  {
   "cell_type": "code",
   "execution_count": 5,
   "metadata": {
    "collapsed": true
   },
   "outputs": [],
   "source": [
    "Y = all_df['RainTomorrow'].values.astype('int64')"
   ]
  },
  {
   "cell_type": "code",
   "execution_count": 6,
   "metadata": {
    "collapsed": false
   },
   "outputs": [],
   "source": [
    "X = StandardScaler().fit_transform(X)\n",
    "train_Features, test_Features, train_Label, test_Label = train_test_split(X, Y, test_size=0.2, random_state=True) "
   ]
  },
  {
   "cell_type": "code",
   "execution_count": 7,
   "metadata": {
    "collapsed": false
   },
   "outputs": [
    {
     "name": "stderr",
     "output_type": "stream",
     "text": [
      "Using TensorFlow backend.\n"
     ]
    }
   ],
   "source": [
    "from keras.models import Sequential\n",
    "from keras.layers import Dense,Dropout\n",
    "from keras.callbacks import EarlyStopping\n",
    "early_stopping = EarlyStopping(monitor='val_loss', patience=2)"
   ]
  },
  {
   "cell_type": "code",
   "execution_count": 8,
   "metadata": {
    "collapsed": true
   },
   "outputs": [],
   "source": [
    "model = Sequential()"
   ]
  },
  {
   "cell_type": "code",
   "execution_count": 9,
   "metadata": {
    "collapsed": true
   },
   "outputs": [],
   "source": [
    "model.add(Dense(units=39*10,   input_dim=13,\n",
    "                kernel_initializer='uniform', \n",
    "                activation='relu'))"
   ]
  },
  {
   "cell_type": "code",
   "execution_count": 10,
   "metadata": {
    "collapsed": true
   },
   "outputs": [],
   "source": [
    "model.add(Dense(units=39*9,   \n",
    "                kernel_initializer='uniform', \n",
    "                activation='relu'))"
   ]
  },
  {
   "cell_type": "code",
   "execution_count": 11,
   "metadata": {
    "collapsed": true
   },
   "outputs": [],
   "source": [
    "model.add(Dense(units=39*8,   \n",
    "                kernel_initializer='uniform', \n",
    "                activation='relu'))"
   ]
  },
  {
   "cell_type": "code",
   "execution_count": 12,
   "metadata": {
    "collapsed": true
   },
   "outputs": [],
   "source": [
    "model.add(Dense(units=39*7,   \n",
    "                kernel_initializer='uniform', \n",
    "                activation='relu'))"
   ]
  },
  {
   "cell_type": "code",
   "execution_count": 13,
   "metadata": {
    "collapsed": true
   },
   "outputs": [],
   "source": [
    "model.add(Dense(units=39*6,   \n",
    "                kernel_initializer='uniform', \n",
    "                activation='relu'))"
   ]
  },
  {
   "cell_type": "code",
   "execution_count": 14,
   "metadata": {
    "collapsed": true
   },
   "outputs": [],
   "source": [
    "model.add(Dense(units=39*5,   \n",
    "                kernel_initializer='uniform', \n",
    "                activation='relu'))"
   ]
  },
  {
   "cell_type": "code",
   "execution_count": 15,
   "metadata": {
    "collapsed": true
   },
   "outputs": [],
   "source": [
    "model.add(Dense(units=39*4,   \n",
    "                kernel_initializer='uniform', \n",
    "                activation='relu'))"
   ]
  },
  {
   "cell_type": "code",
   "execution_count": 16,
   "metadata": {
    "collapsed": true
   },
   "outputs": [],
   "source": [
    "model.add(Dense(units=39*3,   \n",
    "                kernel_initializer='uniform', \n",
    "                activation='relu'))"
   ]
  },
  {
   "cell_type": "code",
   "execution_count": 17,
   "metadata": {
    "collapsed": true
   },
   "outputs": [],
   "source": [
    "model.add(Dense(units=39*2,   \n",
    "                kernel_initializer='uniform', \n",
    "                activation='relu'))"
   ]
  },
  {
   "cell_type": "code",
   "execution_count": 18,
   "metadata": {
    "collapsed": true
   },
   "outputs": [],
   "source": [
    "model.add(Dense(units=39,   \n",
    "                kernel_initializer='uniform', \n",
    "                activation='relu'))"
   ]
  },
  {
   "cell_type": "code",
   "execution_count": 19,
   "metadata": {
    "collapsed": true
   },
   "outputs": [],
   "source": [
    "model.add(Dense(units=1, \n",
    "                kernel_initializer='uniform',\n",
    "                activation='sigmoid'))"
   ]
  },
  {
   "cell_type": "code",
   "execution_count": 20,
   "metadata": {
    "collapsed": false
   },
   "outputs": [
    {
     "name": "stdout",
     "output_type": "stream",
     "text": [
      "_________________________________________________________________\n",
      "Layer (type)                 Output Shape              Param #   \n",
      "=================================================================\n",
      "dense_1 (Dense)              (None, 390)               5460      \n",
      "_________________________________________________________________\n",
      "dense_2 (Dense)              (None, 351)               137241    \n",
      "_________________________________________________________________\n",
      "dense_3 (Dense)              (None, 312)               109824    \n",
      "_________________________________________________________________\n",
      "dense_4 (Dense)              (None, 273)               85449     \n",
      "_________________________________________________________________\n",
      "dense_5 (Dense)              (None, 234)               64116     \n",
      "_________________________________________________________________\n",
      "dense_6 (Dense)              (None, 195)               45825     \n",
      "_________________________________________________________________\n",
      "dense_7 (Dense)              (None, 156)               30576     \n",
      "_________________________________________________________________\n",
      "dense_8 (Dense)              (None, 117)               18369     \n",
      "_________________________________________________________________\n",
      "dense_9 (Dense)              (None, 78)                9204      \n",
      "_________________________________________________________________\n",
      "dense_10 (Dense)             (None, 39)                3081      \n",
      "_________________________________________________________________\n",
      "dense_11 (Dense)             (None, 1)                 40        \n",
      "=================================================================\n",
      "Total params: 509,185\n",
      "Trainable params: 509,185\n",
      "Non-trainable params: 0\n",
      "_________________________________________________________________\n"
     ]
    }
   ],
   "source": [
    "model.summary()"
   ]
  },
  {
   "cell_type": "code",
   "execution_count": 21,
   "metadata": {
    "collapsed": true
   },
   "outputs": [],
   "source": [
    "model.compile(loss='binary_crossentropy', \n",
    "              optimizer='adam', metrics=['accuracy'])"
   ]
  },
  {
   "cell_type": "code",
   "execution_count": 22,
   "metadata": {
    "collapsed": false
   },
   "outputs": [
    {
     "name": "stdout",
     "output_type": "stream",
     "text": [
      "Train on 86104 samples, validate on 9568 samples\n",
      "Epoch 1/30\n",
      "86104/86104 [==============================] - 23s 264us/step - loss: 0.5326 - acc: 0.7813 - val_loss: 0.3915 - val_acc: 0.7774\n",
      "Epoch 2/30\n",
      "86104/86104 [==============================] - 14s 160us/step - loss: 0.3588 - acc: 0.8367 - val_loss: 0.3562 - val_acc: 0.8424\n",
      "Epoch 3/30\n",
      "86104/86104 [==============================] - 14s 166us/step - loss: 0.3431 - acc: 0.8533 - val_loss: 0.3495 - val_acc: 0.8485\n",
      "Epoch 4/30\n",
      "86104/86104 [==============================] - 14s 161us/step - loss: 0.3388 - acc: 0.8545 - val_loss: 0.3518 - val_acc: 0.8496\n",
      "Epoch 5/30\n",
      "86104/86104 [==============================] - 23s 265us/step - loss: 0.3366 - acc: 0.8558 - val_loss: 0.3490 - val_acc: 0.8513\n",
      "Epoch 6/30\n",
      "86104/86104 [==============================] - 45s 520us/step - loss: 0.3358 - acc: 0.8567 - val_loss: 0.3499 - val_acc: 0.8516\n",
      "Epoch 7/30\n",
      "86104/86104 [==============================] - 28s 330us/step - loss: 0.3352 - acc: 0.8576 - val_loss: 0.3450 - val_acc: 0.8512\n",
      "Epoch 8/30\n",
      "86104/86104 [==============================] - 15s 177us/step - loss: 0.3329 - acc: 0.8582 - val_loss: 0.3450 - val_acc: 0.8519\n",
      "Epoch 9/30\n",
      "86104/86104 [==============================] - 14s 162us/step - loss: 0.3325 - acc: 0.8579 - val_loss: 0.3437 - val_acc: 0.8524\n",
      "Epoch 10/30\n",
      "86104/86104 [==============================] - 16s 182us/step - loss: 0.3310 - acc: 0.8588 - val_loss: 0.3436 - val_acc: 0.8518\n",
      "Epoch 11/30\n",
      "86104/86104 [==============================] - 22s 251us/step - loss: 0.3301 - acc: 0.8588 - val_loss: 0.3428 - val_acc: 0.8547\n",
      "Epoch 12/30\n",
      "86104/86104 [==============================] - 12s 142us/step - loss: 0.3282 - acc: 0.8588 - val_loss: 0.3421 - val_acc: 0.8536\n",
      "Epoch 13/30\n",
      "86104/86104 [==============================] - 16s 184us/step - loss: 0.3279 - acc: 0.8600 - val_loss: 0.3413 - val_acc: 0.8518\n",
      "Epoch 14/30\n",
      "86104/86104 [==============================] - 15s 171us/step - loss: 0.3267 - acc: 0.8604 - val_loss: 0.3419 - val_acc: 0.8525\n",
      "Epoch 15/30\n",
      "86104/86104 [==============================] - 12s 140us/step - loss: 0.3261 - acc: 0.8602 - val_loss: 0.3410 - val_acc: 0.8524\n",
      "Epoch 16/30\n",
      "86104/86104 [==============================] - 12s 144us/step - loss: 0.3263 - acc: 0.8609 - val_loss: 0.3417 - val_acc: 0.8542\n",
      "Epoch 17/30\n",
      "86104/86104 [==============================] - 16s 184us/step - loss: 0.3262 - acc: 0.8606 - val_loss: 0.3426 - val_acc: 0.8521\n"
     ]
    }
   ],
   "source": [
    "train_history =model.fit(x=train_Features, \n",
    "                         y=train_Label, \n",
    "                         validation_split=0.1, \n",
    "                         epochs=30, \n",
    "                         batch_size=1500,verbose=1,callbacks=[early_stopping])"
   ]
  },
  {
   "cell_type": "code",
   "execution_count": 23,
   "metadata": {
    "collapsed": true
   },
   "outputs": [],
   "source": [
    "import matplotlib.pyplot as plt\n",
    "def show_train_history(train_history,train,validation):\n",
    "    plt.plot(train_history.history[train])\n",
    "    plt.plot(train_history.history[validation])\n",
    "    plt.title('Train History')\n",
    "    plt.ylabel(train)\n",
    "    plt.xlabel('Epoch')\n",
    "    plt.legend(['train', 'validation'], loc='upper left')\n",
    "    plt.show()"
   ]
  },
  {
   "cell_type": "code",
   "execution_count": 24,
   "metadata": {
    "collapsed": false
   },
   "outputs": [
    {
     "data": {
      "image/png": "[encoded data removed]",
      "text/plain": [
       "<matplotlib.figure.Figure at 0x7f0928227d68>"
      ]
     },
     "metadata": {},
     "output_type": "display_data"
    }
   ],
   "source": [
    "show_train_history(train_history,'acc','val_acc')"
   ]
  },
  {
   "cell_type": "code",
   "execution_count": 25,
   "metadata": {
    "collapsed": false
   },
   "outputs": [
    {
     "data": {
      "image/png": "[encoded data removed]",
      "text/plain": [
       "<matplotlib.figure.Figure at 0x7f0929c79588>"
      ]
     },
     "metadata": {},
     "output_type": "display_data"
    }
   ],
   "source": [
    "show_train_history(train_history,'loss','val_loss')"
   ]
  },
  {
   "cell_type": "code",
   "execution_count": 26,
   "metadata": {
    "collapsed": false
   },
   "outputs": [
    {
     "name": "stdout",
     "output_type": "stream",
     "text": [
      "23918/23918 [==============================] - 3s 111us/step\n"
     ]
    }
   ],
   "source": [
    "scores = model.evaluate(x=test_Features, \n",
    "                        y=test_Label)"
   ]
  },
  {
   "cell_type": "code",
   "execution_count": 27,
   "metadata": {
    "collapsed": false
   },
   "outputs": [
    {
     "data": {
      "text/plain": [
       "0.8543774563090559"
      ]
     },
     "execution_count": 27,
     "metadata": {},
     "output_type": "execute_result"
    }
   ],
   "source": [
    "scores[1]"
   ]
  }
 ],
 "metadata": {
  "anaconda-cloud": {},
  "kernelspec": {
   "display_name": "Python [default]",
   "language": "python",
   "name": "python3"
  },
  "language_info": {
   "codemirror_mode": {
    "name": "ipython",
    "version": 3
   },
   "file_extension": ".py",
   "mimetype": "text/x-python",
   "name": "python",
   "nbconvert_exporter": "python",
   "pygments_lexer": "ipython3",
   "version": "3.5.2"
  }
 },
 "nbformat": 4,
 "nbformat_minor": 1
}
