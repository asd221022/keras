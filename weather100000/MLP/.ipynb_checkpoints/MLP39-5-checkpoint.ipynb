{
 "cells": [
  {
   "cell_type": "code",
   "execution_count": 1,
   "metadata": {
    "collapsed": true,
    "slideshow": {
     "slide_type": "-"
    }
   },
   "outputs": [],
   "source": [
    "import numpy\n",
    "import pandas as pd\n",
    "from sklearn.preprocessing import StandardScaler\n",
    "from sklearn.model_selection  import train_test_split\n",
    "numpy.random.seed(10)"
   ]
  },
  {
   "cell_type": "code",
   "execution_count": 2,
   "metadata": {
    "collapsed": true
   },
   "outputs": [],
   "source": [
    "all_df = pd.read_csv(\"weather.csv\")"
   ]
  },
  {
   "cell_type": "code",
   "execution_count": 3,
   "metadata": {
    "collapsed": true
   },
   "outputs": [],
   "source": [
    "all_df=all_df.drop(['RISK_MM'], axis=1)"
   ]
  },
  {
   "cell_type": "code",
   "execution_count": 4,
   "metadata": {
    "collapsed": true
   },
   "outputs": [],
   "source": [
    "X=all_df.drop(['RainTomorrow'], axis=1).values.astype('float64')"
   ]
  },
  {
   "cell_type": "code",
   "execution_count": 5,
   "metadata": {
    "collapsed": true
   },
   "outputs": [],
   "source": [
    "Y = all_df['RainTomorrow'].values.astype('int64')"
   ]
  },
  {
   "cell_type": "code",
   "execution_count": 6,
   "metadata": {
    "collapsed": false
   },
   "outputs": [],
   "source": [
    "X = StandardScaler().fit_transform(X)\n",
    "train_Features, test_Features, train_Label, test_Label = train_test_split(X, Y, test_size=0.2, random_state=True) "
   ]
  },
  {
   "cell_type": "code",
   "execution_count": 7,
   "metadata": {
    "collapsed": false
   },
   "outputs": [
    {
     "name": "stderr",
     "output_type": "stream",
     "text": [
      "Using TensorFlow backend.\n"
     ]
    }
   ],
   "source": [
    "from keras.models import Sequential\n",
    "from keras.layers import Dense,Dropout\n",
    "from keras.callbacks import EarlyStopping\n",
    "early_stopping = EarlyStopping(monitor='val_loss', patience=2)"
   ]
  },
  {
   "cell_type": "code",
   "execution_count": 8,
   "metadata": {
    "collapsed": true
   },
   "outputs": [],
   "source": [
    "model = Sequential()"
   ]
  },
  {
   "cell_type": "code",
   "execution_count": 9,
   "metadata": {
    "collapsed": true
   },
   "outputs": [],
   "source": [
    "model.add(Dense(units=39*5,   input_dim=13,\n",
    "                kernel_initializer='uniform', \n",
    "                activation='relu'))"
   ]
  },
  {
   "cell_type": "code",
   "execution_count": 10,
   "metadata": {
    "collapsed": true
   },
   "outputs": [],
   "source": [
    "model.add(Dense(units=39*4,   \n",
    "                kernel_initializer='uniform', \n",
    "                activation='relu'))"
   ]
  },
  {
   "cell_type": "code",
   "execution_count": 11,
   "metadata": {
    "collapsed": true
   },
   "outputs": [],
   "source": [
    "model.add(Dense(units=39*3,   \n",
    "                kernel_initializer='uniform', \n",
    "                activation='relu'))"
   ]
  },
  {
   "cell_type": "code",
   "execution_count": 12,
   "metadata": {
    "collapsed": true
   },
   "outputs": [],
   "source": [
    "model.add(Dense(units=39*2,   \n",
    "                kernel_initializer='uniform', \n",
    "                activation='relu'))"
   ]
  },
  {
   "cell_type": "code",
   "execution_count": 13,
   "metadata": {
    "collapsed": true
   },
   "outputs": [],
   "source": [
    "model.add(Dense(units=39,   \n",
    "                kernel_initializer='uniform', \n",
    "                activation='relu'))"
   ]
  },
  {
   "cell_type": "code",
   "execution_count": 14,
   "metadata": {
    "collapsed": true
   },
   "outputs": [],
   "source": [
    "model.add(Dense(units=1, \n",
    "                kernel_initializer='uniform',\n",
    "                activation='sigmoid'))"
   ]
  },
  {
   "cell_type": "code",
   "execution_count": 15,
   "metadata": {
    "collapsed": false
   },
   "outputs": [
    {
     "name": "stdout",
     "output_type": "stream",
     "text": [
      "_________________________________________________________________\n",
      "Layer (type)                 Output Shape              Param #   \n",
      "=================================================================\n",
      "dense_1 (Dense)              (None, 195)               2730      \n",
      "_________________________________________________________________\n",
      "dense_2 (Dense)              (None, 156)               30576     \n",
      "_________________________________________________________________\n",
      "dense_3 (Dense)              (None, 117)               18369     \n",
      "_________________________________________________________________\n",
      "dense_4 (Dense)              (None, 78)                9204      \n",
      "_________________________________________________________________\n",
      "dense_5 (Dense)              (None, 39)                3081      \n",
      "_________________________________________________________________\n",
      "dense_6 (Dense)              (None, 1)                 40        \n",
      "=================================================================\n",
      "Total params: 64,000\n",
      "Trainable params: 64,000\n",
      "Non-trainable params: 0\n",
      "_________________________________________________________________\n"
     ]
    }
   ],
   "source": [
    "model.summary()"
   ]
  },
  {
   "cell_type": "code",
   "execution_count": 16,
   "metadata": {
    "collapsed": true
   },
   "outputs": [],
   "source": [
    "model.compile(loss='binary_crossentropy', \n",
    "              optimizer='adam', metrics=['accuracy'])"
   ]
  },
  {
   "cell_type": "code",
   "execution_count": 17,
   "metadata": {
    "collapsed": false
   },
   "outputs": [
    {
     "name": "stdout",
     "output_type": "stream",
     "text": [
      "Train on 86104 samples, validate on 9568 samples\n",
      "Epoch 1/30\n",
      "86104/86104 [==============================] - 5s 55us/step - loss: 0.5269 - acc: 0.7762 - val_loss: 0.4048 - val_acc: 0.7774\n",
      "Epoch 2/30\n",
      "86104/86104 [==============================] - 3s 33us/step - loss: 0.3730 - acc: 0.8293 - val_loss: 0.3636 - val_acc: 0.8438\n",
      "Epoch 3/30\n",
      "86104/86104 [==============================] - 4s 44us/step - loss: 0.3459 - acc: 0.8537 - val_loss: 0.3602 - val_acc: 0.8436\n",
      "Epoch 4/30\n",
      "86104/86104 [==============================] - 3s 30us/step - loss: 0.3428 - acc: 0.8540 - val_loss: 0.3531 - val_acc: 0.8468\n",
      "Epoch 5/30\n",
      "86104/86104 [==============================] - 3s 32us/step - loss: 0.3400 - acc: 0.8553 - val_loss: 0.3512 - val_acc: 0.8515\n",
      "Epoch 6/30\n",
      "86104/86104 [==============================] - 2s 28us/step - loss: 0.3381 - acc: 0.8556 - val_loss: 0.3481 - val_acc: 0.8511\n",
      "Epoch 7/30\n",
      "86104/86104 [==============================] - 2s 28us/step - loss: 0.3368 - acc: 0.8566 - val_loss: 0.3475 - val_acc: 0.8509\n",
      "Epoch 8/30\n",
      "86104/86104 [==============================] - 3s 30us/step - loss: 0.3362 - acc: 0.8565 - val_loss: 0.3494 - val_acc: 0.8494\n",
      "Epoch 9/30\n",
      "86104/86104 [==============================] - 3s 29us/step - loss: 0.3353 - acc: 0.8567 - val_loss: 0.3463 - val_acc: 0.8508\n",
      "Epoch 10/30\n",
      "86104/86104 [==============================] - 3s 35us/step - loss: 0.3340 - acc: 0.8573 - val_loss: 0.3462 - val_acc: 0.8522\n",
      "Epoch 11/30\n",
      "86104/86104 [==============================] - 3s 36us/step - loss: 0.3335 - acc: 0.8574 - val_loss: 0.3455 - val_acc: 0.8522\n",
      "Epoch 12/30\n",
      "86104/86104 [==============================] - 5s 56us/step - loss: 0.3329 - acc: 0.8574 - val_loss: 0.3446 - val_acc: 0.8518\n",
      "Epoch 13/30\n",
      "86104/86104 [==============================] - 7s 82us/step - loss: 0.3324 - acc: 0.8580 - val_loss: 0.3443 - val_acc: 0.8531\n",
      "Epoch 14/30\n",
      "86104/86104 [==============================] - 4s 49us/step - loss: 0.3317 - acc: 0.8585 - val_loss: 0.3442 - val_acc: 0.8518\n",
      "Epoch 15/30\n",
      "86104/86104 [==============================] - 5s 56us/step - loss: 0.3318 - acc: 0.8585 - val_loss: 0.3458 - val_acc: 0.8521\n",
      "Epoch 16/30\n",
      "86104/86104 [==============================] - 5s 55us/step - loss: 0.3327 - acc: 0.8586 - val_loss: 0.3430 - val_acc: 0.8520\n",
      "Epoch 17/30\n",
      "86104/86104 [==============================] - 5s 55us/step - loss: 0.3304 - acc: 0.8593 - val_loss: 0.3434 - val_acc: 0.8533\n",
      "Epoch 18/30\n",
      "86104/86104 [==============================] - 5s 53us/step - loss: 0.3296 - acc: 0.8594 - val_loss: 0.3433 - val_acc: 0.8544\n"
     ]
    }
   ],
   "source": [
    "train_history =model.fit(x=train_Features, \n",
    "                         y=train_Label, \n",
    "                         validation_split=0.1, \n",
    "                         epochs=30, \n",
    "                         batch_size=1500,verbose=1,callbacks=[early_stopping])"
   ]
  },
  {
   "cell_type": "code",
   "execution_count": 18,
   "metadata": {
    "collapsed": true
   },
   "outputs": [],
   "source": [
    "import matplotlib.pyplot as plt\n",
    "def show_train_history(train_history,train,validation):\n",
    "    plt.plot(train_history.history[train])\n",
    "    plt.plot(train_history.history[validation])\n",
    "    plt.title('Train History')\n",
    "    plt.ylabel(train)\n",
    "    plt.xlabel('Epoch')\n",
    "    plt.legend(['train', 'validation'], loc='upper left')\n",
    "    plt.show()"
   ]
  },
  {
   "cell_type": "code",
   "execution_count": 19,
   "metadata": {
    "collapsed": false
   },
   "outputs": [
    {
     "data": {
      "image/png": "[encoded data removed]",
      "text/plain": [
       "<matplotlib.figure.Figure at 0x7f5372d7e710>"
      ]
     },
     "metadata": {},
     "output_type": "display_data"
    }
   ],
   "source": [
    "show_train_history(train_history,'acc','val_acc')"
   ]
  },
  {
   "cell_type": "code",
   "execution_count": 20,
   "metadata": {
    "collapsed": false
   },
   "outputs": [
    {
     "data": {
      "image/png": "[encoded data removed]",
      "text/plain": [
       "<matplotlib.figure.Figure at 0x7f5372d7e668>"
      ]
     },
     "metadata": {},
     "output_type": "display_data"
    }
   ],
   "source": [
    "show_train_history(train_history,'loss','val_loss')"
   ]
  },
  {
   "cell_type": "code",
   "execution_count": 21,
   "metadata": {
    "collapsed": false
   },
   "outputs": [
    {
     "name": "stdout",
     "output_type": "stream",
     "text": [
      "23918/23918 [==============================] - 1s 40us/step\n"
     ]
    }
   ],
   "source": [
    "scores = model.evaluate(x=test_Features, \n",
    "                        y=test_Label)"
   ]
  },
  {
   "cell_type": "code",
   "execution_count": 22,
   "metadata": {
    "collapsed": false
   },
   "outputs": [
    {
     "data": {
      "text/plain": [
       "0.8567187891964211"
      ]
     },
     "execution_count": 22,
     "metadata": {},
     "output_type": "execute_result"
    }
   ],
   "source": [
    "scores[1]"
   ]
  }
 ],
 "metadata": {
  "anaconda-cloud": {},
  "kernelspec": {
   "display_name": "Python [default]",
   "language": "python",
   "name": "python3"
  },
  "language_info": {
   "codemirror_mode": {
    "name": "ipython",
    "version": 3
   },
   "file_extension": ".py",
   "mimetype": "text/x-python",
   "name": "python",
   "nbconvert_exporter": "python",
   "pygments_lexer": "ipython3",
   "version": "3.5.2"
  }
 },
 "nbformat": 4,
 "nbformat_minor": 1
}
