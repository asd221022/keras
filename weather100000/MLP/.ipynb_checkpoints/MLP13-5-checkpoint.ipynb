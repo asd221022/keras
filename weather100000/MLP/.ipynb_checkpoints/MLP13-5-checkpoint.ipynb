{
 "cells": [
  {
   "cell_type": "code",
   "execution_count": 1,
   "metadata": {
    "collapsed": true,
    "slideshow": {
     "slide_type": "-"
    }
   },
   "outputs": [],
   "source": [
    "import numpy\n",
    "import pandas as pd\n",
    "from sklearn.preprocessing import StandardScaler\n",
    "from sklearn.model_selection  import train_test_split\n",
    "numpy.random.seed(10)"
   ]
  },
  {
   "cell_type": "code",
   "execution_count": 2,
   "metadata": {
    "collapsed": true
   },
   "outputs": [],
   "source": [
    "all_df = pd.read_csv(\"weather.csv\")"
   ]
  },
  {
   "cell_type": "code",
   "execution_count": 3,
   "metadata": {
    "collapsed": true
   },
   "outputs": [],
   "source": [
    "all_df=all_df.drop(['RISK_MM'], axis=1)"
   ]
  },
  {
   "cell_type": "code",
   "execution_count": 4,
   "metadata": {
    "collapsed": true
   },
   "outputs": [],
   "source": [
    "X=all_df.drop(['RainTomorrow'], axis=1).values.astype('float64')"
   ]
  },
  {
   "cell_type": "code",
   "execution_count": 5,
   "metadata": {
    "collapsed": true
   },
   "outputs": [],
   "source": [
    "Y = all_df['RainTomorrow'].values.astype('int64')"
   ]
  },
  {
   "cell_type": "code",
   "execution_count": 6,
   "metadata": {
    "collapsed": false
   },
   "outputs": [],
   "source": [
    "X = StandardScaler().fit_transform(X)\n",
    "train_Features, test_Features, train_Label, test_Label = train_test_split(X, Y, test_size=0.2, random_state=True) "
   ]
  },
  {
   "cell_type": "code",
   "execution_count": 7,
   "metadata": {
    "collapsed": false
   },
   "outputs": [
    {
     "name": "stderr",
     "output_type": "stream",
     "text": [
      "Using TensorFlow backend.\n"
     ]
    }
   ],
   "source": [
    "from keras.models import Sequential\n",
    "from keras.layers import Dense,Dropout\n",
    "from keras.callbacks import EarlyStopping\n",
    "early_stopping = EarlyStopping(monitor='val_loss', patience=2)"
   ]
  },
  {
   "cell_type": "code",
   "execution_count": 8,
   "metadata": {
    "collapsed": true
   },
   "outputs": [],
   "source": [
    "model = Sequential()"
   ]
  },
  {
   "cell_type": "code",
   "execution_count": 9,
   "metadata": {
    "collapsed": true
   },
   "outputs": [],
   "source": [
    "model.add(Dense(units=13*5,   input_dim=13,\n",
    "                kernel_initializer='uniform', \n",
    "                activation='relu'))"
   ]
  },
  {
   "cell_type": "code",
   "execution_count": 10,
   "metadata": {
    "collapsed": true
   },
   "outputs": [],
   "source": [
    "model.add(Dense(units=13*4,   \n",
    "                kernel_initializer='uniform', \n",
    "                activation='relu'))"
   ]
  },
  {
   "cell_type": "code",
   "execution_count": 11,
   "metadata": {
    "collapsed": true
   },
   "outputs": [],
   "source": [
    "model.add(Dense(units=13*3,   \n",
    "                kernel_initializer='uniform', \n",
    "                activation='relu'))"
   ]
  },
  {
   "cell_type": "code",
   "execution_count": 12,
   "metadata": {
    "collapsed": true
   },
   "outputs": [],
   "source": [
    "model.add(Dense(units=13*2,   \n",
    "                kernel_initializer='uniform', \n",
    "                activation='relu'))"
   ]
  },
  {
   "cell_type": "code",
   "execution_count": 13,
   "metadata": {
    "collapsed": true
   },
   "outputs": [],
   "source": [
    "model.add(Dense(units=13,   \n",
    "                kernel_initializer='uniform', \n",
    "                activation='relu'))"
   ]
  },
  {
   "cell_type": "code",
   "execution_count": 14,
   "metadata": {
    "collapsed": true
   },
   "outputs": [],
   "source": [
    "model.add(Dense(units=1, \n",
    "                kernel_initializer='uniform',\n",
    "                activation='sigmoid'))"
   ]
  },
  {
   "cell_type": "code",
   "execution_count": 15,
   "metadata": {
    "collapsed": false
   },
   "outputs": [
    {
     "name": "stdout",
     "output_type": "stream",
     "text": [
      "_________________________________________________________________\n",
      "Layer (type)                 Output Shape              Param #   \n",
      "=================================================================\n",
      "dense_1 (Dense)              (None, 65)                910       \n",
      "_________________________________________________________________\n",
      "dense_2 (Dense)              (None, 52)                3432      \n",
      "_________________________________________________________________\n",
      "dense_3 (Dense)              (None, 39)                2067      \n",
      "_________________________________________________________________\n",
      "dense_4 (Dense)              (None, 26)                1040      \n",
      "_________________________________________________________________\n",
      "dense_5 (Dense)              (None, 13)                351       \n",
      "_________________________________________________________________\n",
      "dense_6 (Dense)              (None, 1)                 14        \n",
      "=================================================================\n",
      "Total params: 7,814\n",
      "Trainable params: 7,814\n",
      "Non-trainable params: 0\n",
      "_________________________________________________________________\n"
     ]
    }
   ],
   "source": [
    "model.summary()"
   ]
  },
  {
   "cell_type": "code",
   "execution_count": 16,
   "metadata": {
    "collapsed": true
   },
   "outputs": [],
   "source": [
    "model.compile(loss='binary_crossentropy', \n",
    "              optimizer='adam', metrics=['accuracy'])"
   ]
  },
  {
   "cell_type": "code",
   "execution_count": 17,
   "metadata": {
    "collapsed": false
   },
   "outputs": [
    {
     "name": "stdout",
     "output_type": "stream",
     "text": [
      "Train on 86104 samples, validate on 9568 samples\n",
      "Epoch 1/30\n",
      "86104/86104 [==============================] - 6s 71us/step - loss: 0.6425 - acc: 0.7792 - val_loss: 0.4471 - val_acc: 0.7774\n",
      "Epoch 2/30\n",
      "86104/86104 [==============================] - 1s 16us/step - loss: 0.4037 - acc: 0.7816 - val_loss: 0.3978 - val_acc: 0.7774\n",
      "Epoch 3/30\n",
      "86104/86104 [==============================] - 1s 16us/step - loss: 0.3761 - acc: 0.8372 - val_loss: 0.3787 - val_acc: 0.8421\n",
      "Epoch 4/30\n",
      "86104/86104 [==============================] - 1s 17us/step - loss: 0.3530 - acc: 0.8523 - val_loss: 0.3599 - val_acc: 0.8439\n",
      "Epoch 5/30\n",
      "86104/86104 [==============================] - 1s 17us/step - loss: 0.3458 - acc: 0.8535 - val_loss: 0.3566 - val_acc: 0.8448\n",
      "Epoch 6/30\n",
      "86104/86104 [==============================] - 2s 19us/step - loss: 0.3428 - acc: 0.8547 - val_loss: 0.3528 - val_acc: 0.8467\n",
      "Epoch 7/30\n",
      "86104/86104 [==============================] - 2s 18us/step - loss: 0.3412 - acc: 0.8550 - val_loss: 0.3513 - val_acc: 0.8465\n",
      "Epoch 8/30\n",
      "86104/86104 [==============================] - 2s 18us/step - loss: 0.3399 - acc: 0.8551 - val_loss: 0.3513 - val_acc: 0.8468\n",
      "Epoch 9/30\n",
      "86104/86104 [==============================] - 1s 17us/step - loss: 0.3391 - acc: 0.8559 - val_loss: 0.3501 - val_acc: 0.8492\n",
      "Epoch 10/30\n",
      "86104/86104 [==============================] - 1s 15us/step - loss: 0.3379 - acc: 0.8554 - val_loss: 0.3511 - val_acc: 0.8489\n",
      "Epoch 11/30\n",
      "86104/86104 [==============================] - 1s 17us/step - loss: 0.3381 - acc: 0.8555 - val_loss: 0.3483 - val_acc: 0.8491\n",
      "Epoch 12/30\n",
      "86104/86104 [==============================] - 1s 17us/step - loss: 0.3367 - acc: 0.8563 - val_loss: 0.3479 - val_acc: 0.8496\n",
      "Epoch 13/30\n",
      "86104/86104 [==============================] - 1s 15us/step - loss: 0.3364 - acc: 0.8564 - val_loss: 0.3472 - val_acc: 0.8508\n",
      "Epoch 14/30\n",
      "86104/86104 [==============================] - 1s 10us/step - loss: 0.3360 - acc: 0.8565 - val_loss: 0.3466 - val_acc: 0.8499\n",
      "Epoch 15/30\n",
      "86104/86104 [==============================] - 1s 7us/step - loss: 0.3362 - acc: 0.8562 - val_loss: 0.3465 - val_acc: 0.8502\n",
      "Epoch 16/30\n",
      "86104/86104 [==============================] - 1s 16us/step - loss: 0.3358 - acc: 0.8565 - val_loss: 0.3461 - val_acc: 0.8500\n",
      "Epoch 17/30\n",
      "86104/86104 [==============================] - 2s 21us/step - loss: 0.3348 - acc: 0.8571 - val_loss: 0.3455 - val_acc: 0.8515\n",
      "Epoch 18/30\n",
      "86104/86104 [==============================] - 2s 19us/step - loss: 0.3343 - acc: 0.8573 - val_loss: 0.3452 - val_acc: 0.8514\n",
      "Epoch 19/30\n",
      "86104/86104 [==============================] - 2s 20us/step - loss: 0.3340 - acc: 0.8572 - val_loss: 0.3478 - val_acc: 0.8488\n",
      "Epoch 20/30\n",
      "86104/86104 [==============================] - 2s 18us/step - loss: 0.3348 - acc: 0.8574 - val_loss: 0.3451 - val_acc: 0.8514\n",
      "Epoch 21/30\n",
      "86104/86104 [==============================] - 2s 20us/step - loss: 0.3338 - acc: 0.8577 - val_loss: 0.3471 - val_acc: 0.8506\n",
      "Epoch 22/30\n",
      "86104/86104 [==============================] - 2s 19us/step - loss: 0.3335 - acc: 0.8579 - val_loss: 0.3450 - val_acc: 0.8526\n",
      "Epoch 23/30\n",
      "86104/86104 [==============================] - 2s 24us/step - loss: 0.3330 - acc: 0.8576 - val_loss: 0.3445 - val_acc: 0.8524\n",
      "Epoch 24/30\n",
      "86104/86104 [==============================] - 2s 19us/step - loss: 0.3327 - acc: 0.8578 - val_loss: 0.3440 - val_acc: 0.8515\n",
      "Epoch 25/30\n",
      "86104/86104 [==============================] - 2s 19us/step - loss: 0.3327 - acc: 0.8582 - val_loss: 0.3443 - val_acc: 0.8531\n",
      "Epoch 26/30\n",
      "86104/86104 [==============================] - 2s 19us/step - loss: 0.3325 - acc: 0.8581 - val_loss: 0.3440 - val_acc: 0.8528\n",
      "Epoch 27/30\n",
      "86104/86104 [==============================] - 2s 28us/step - loss: 0.3319 - acc: 0.8587 - val_loss: 0.3441 - val_acc: 0.8512\n",
      "Epoch 28/30\n",
      "86104/86104 [==============================] - 2s 20us/step - loss: 0.3320 - acc: 0.8586 - val_loss: 0.3433 - val_acc: 0.8516\n",
      "Epoch 29/30\n",
      "86104/86104 [==============================] - 2s 24us/step - loss: 0.3322 - acc: 0.8582 - val_loss: 0.3438 - val_acc: 0.8543\n",
      "Epoch 30/30\n",
      "86104/86104 [==============================] - 2s 19us/step - loss: 0.3318 - acc: 0.8589 - val_loss: 0.3460 - val_acc: 0.8503\n"
     ]
    }
   ],
   "source": [
    "train_history =model.fit(x=train_Features, \n",
    "                         y=train_Label, \n",
    "                         validation_split=0.1, \n",
    "                         epochs=30, \n",
    "                         batch_size=1500,verbose=1,callbacks=[early_stopping])"
   ]
  },
  {
   "cell_type": "code",
   "execution_count": 18,
   "metadata": {
    "collapsed": true
   },
   "outputs": [],
   "source": [
    "import matplotlib.pyplot as plt\n",
    "def show_train_history(train_history,train,validation):\n",
    "    plt.plot(train_history.history[train])\n",
    "    plt.plot(train_history.history[validation])\n",
    "    plt.title('Train History')\n",
    "    plt.ylabel(train)\n",
    "    plt.xlabel('Epoch')\n",
    "    plt.legend(['train', 'validation'], loc='upper left')\n",
    "    plt.show()"
   ]
  },
  {
   "cell_type": "code",
   "execution_count": 19,
   "metadata": {
    "collapsed": false
   },
   "outputs": [
    {
     "data": {
      "image/png": "[encoded data removed]",
      "text/plain": [
       "<matplotlib.figure.Figure at 0x7f7e5beb1208>"
      ]
     },
     "metadata": {},
     "output_type": "display_data"
    }
   ],
   "source": [
    "show_train_history(train_history,'acc','val_acc')"
   ]
  },
  {
   "cell_type": "code",
   "execution_count": 20,
   "metadata": {
    "collapsed": false
   },
   "outputs": [
    {
     "data": {
      "image/png": "[encoded data removed]",
      "text/plain": [
       "<matplotlib.figure.Figure at 0x7f7e5beb16a0>"
      ]
     },
     "metadata": {},
     "output_type": "display_data"
    }
   ],
   "source": [
    "show_train_history(train_history,'loss','val_loss')"
   ]
  },
  {
   "cell_type": "code",
   "execution_count": 21,
   "metadata": {
    "collapsed": false
   },
   "outputs": [
    {
     "name": "stdout",
     "output_type": "stream",
     "text": [
      "23918/23918 [==============================] - 1s 43us/step\n"
     ]
    }
   ],
   "source": [
    "scores = model.evaluate(x=test_Features, \n",
    "                        y=test_Label)"
   ]
  },
  {
   "cell_type": "code",
   "execution_count": 22,
   "metadata": {
    "collapsed": false
   },
   "outputs": [
    {
     "data": {
      "text/plain": [
       "0.8562170750062714"
      ]
     },
     "execution_count": 22,
     "metadata": {},
     "output_type": "execute_result"
    }
   ],
   "source": [
    "scores[1]"
   ]
  }
 ],
 "metadata": {
  "anaconda-cloud": {},
  "kernelspec": {
   "display_name": "Python [default]",
   "language": "python",
   "name": "python3"
  },
  "language_info": {
   "codemirror_mode": {
    "name": "ipython",
    "version": 3
   },
   "file_extension": ".py",
   "mimetype": "text/x-python",
   "name": "python",
   "nbconvert_exporter": "python",
   "pygments_lexer": "ipython3",
   "version": "3.5.2"
  }
 },
 "nbformat": 4,
 "nbformat_minor": 1
}
