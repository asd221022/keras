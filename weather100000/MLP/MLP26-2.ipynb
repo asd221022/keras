{
 "cells": [
  {
   "cell_type": "code",
   "execution_count": 1,
   "metadata": {
    "collapsed": true,
    "slideshow": {
     "slide_type": "-"
    }
   },
   "outputs": [],
   "source": [
    "import numpy\n",
    "import pandas as pd\n",
    "from sklearn.preprocessing import StandardScaler\n",
    "from sklearn.model_selection  import train_test_split\n",
    "numpy.random.seed(10)"
   ]
  },
  {
   "cell_type": "code",
   "execution_count": 2,
   "metadata": {
    "collapsed": true
   },
   "outputs": [],
   "source": [
    "all_df = pd.read_csv(\"weather.csv\")"
   ]
  },
  {
   "cell_type": "code",
   "execution_count": 3,
   "metadata": {
    "collapsed": true
   },
   "outputs": [],
   "source": [
    "all_df=all_df.drop(['RISK_MM'], axis=1)"
   ]
  },
  {
   "cell_type": "code",
   "execution_count": 4,
   "metadata": {
    "collapsed": true
   },
   "outputs": [],
   "source": [
    "X=all_df.drop(['RainTomorrow'], axis=1).values.astype('float64')"
   ]
  },
  {
   "cell_type": "code",
   "execution_count": 5,
   "metadata": {
    "collapsed": true
   },
   "outputs": [],
   "source": [
    "Y = all_df['RainTomorrow'].values.astype('int64')"
   ]
  },
  {
   "cell_type": "code",
   "execution_count": 6,
   "metadata": {
    "collapsed": false
   },
   "outputs": [],
   "source": [
    "X = StandardScaler().fit_transform(X)\n",
    "train_Features, test_Features, train_Label, test_Label = train_test_split(X, Y, test_size=0.2, random_state=True) "
   ]
  },
  {
   "cell_type": "code",
   "execution_count": 7,
   "metadata": {
    "collapsed": false
   },
   "outputs": [
    {
     "name": "stderr",
     "output_type": "stream",
     "text": [
      "Using TensorFlow backend.\n"
     ]
    }
   ],
   "source": [
    "from keras.models import Sequential\n",
    "from keras.layers import Dense,Dropout\n",
    "from keras.callbacks import EarlyStopping\n",
    "early_stopping = EarlyStopping(monitor='val_loss', patience=2)"
   ]
  },
  {
   "cell_type": "code",
   "execution_count": 8,
   "metadata": {
    "collapsed": true
   },
   "outputs": [],
   "source": [
    "model = Sequential()"
   ]
  },
  {
   "cell_type": "code",
   "execution_count": 9,
   "metadata": {
    "collapsed": true
   },
   "outputs": [],
   "source": [
    "model.add(Dense(units=26*2,   input_dim=13,\n",
    "                kernel_initializer='uniform', \n",
    "                activation='relu'))"
   ]
  },
  {
   "cell_type": "code",
   "execution_count": 10,
   "metadata": {
    "collapsed": true
   },
   "outputs": [],
   "source": [
    "model.add(Dense(units=26,   \n",
    "                kernel_initializer='uniform', \n",
    "                activation='relu'))"
   ]
  },
  {
   "cell_type": "code",
   "execution_count": 11,
   "metadata": {
    "collapsed": true
   },
   "outputs": [],
   "source": [
    "model.add(Dense(units=1, \n",
    "                kernel_initializer='uniform',\n",
    "                activation='sigmoid'))"
   ]
  },
  {
   "cell_type": "code",
   "execution_count": 12,
   "metadata": {
    "collapsed": false
   },
   "outputs": [
    {
     "name": "stdout",
     "output_type": "stream",
     "text": [
      "_________________________________________________________________\n",
      "Layer (type)                 Output Shape              Param #   \n",
      "=================================================================\n",
      "dense_1 (Dense)              (None, 52)                728       \n",
      "_________________________________________________________________\n",
      "dense_2 (Dense)              (None, 26)                1378      \n",
      "_________________________________________________________________\n",
      "dense_3 (Dense)              (None, 1)                 27        \n",
      "=================================================================\n",
      "Total params: 2,133\n",
      "Trainable params: 2,133\n",
      "Non-trainable params: 0\n",
      "_________________________________________________________________\n"
     ]
    }
   ],
   "source": [
    "model.summary()"
   ]
  },
  {
   "cell_type": "code",
   "execution_count": 13,
   "metadata": {
    "collapsed": true
   },
   "outputs": [],
   "source": [
    "model.compile(loss='binary_crossentropy', \n",
    "              optimizer='adam', metrics=['accuracy'])"
   ]
  },
  {
   "cell_type": "code",
   "execution_count": 14,
   "metadata": {
    "collapsed": false
   },
   "outputs": [
    {
     "name": "stdout",
     "output_type": "stream",
     "text": [
      "Train on 86104 samples, validate on 9568 samples\n",
      "Epoch 1/30\n",
      "86104/86104 [==============================] - 2s 18us/step - loss: 0.6070 - acc: 0.7853 - val_loss: 0.4493 - val_acc: 0.8103\n",
      "Epoch 2/30\n",
      "86104/86104 [==============================] - 0s 5us/step - loss: 0.4034 - acc: 0.8267 - val_loss: 0.3908 - val_acc: 0.8316\n",
      "Epoch 3/30\n",
      "86104/86104 [==============================] - 0s 4us/step - loss: 0.3703 - acc: 0.8433 - val_loss: 0.3698 - val_acc: 0.8398\n",
      "Epoch 4/30\n",
      "86104/86104 [==============================] - 0s 5us/step - loss: 0.3535 - acc: 0.8514 - val_loss: 0.3611 - val_acc: 0.8430\n",
      "Epoch 5/30\n",
      "86104/86104 [==============================] - 0s 4us/step - loss: 0.3475 - acc: 0.8535 - val_loss: 0.3580 - val_acc: 0.8443\n",
      "Epoch 6/30\n",
      "86104/86104 [==============================] - 1s 8us/step - loss: 0.3451 - acc: 0.8537 - val_loss: 0.3561 - val_acc: 0.8453\n",
      "Epoch 7/30\n",
      "86104/86104 [==============================] - 1s 11us/step - loss: 0.3436 - acc: 0.8542 - val_loss: 0.3553 - val_acc: 0.8445\n",
      "Epoch 8/30\n",
      "86104/86104 [==============================] - 1s 10us/step - loss: 0.3426 - acc: 0.8543 - val_loss: 0.3544 - val_acc: 0.8445\n",
      "Epoch 9/30\n",
      "86104/86104 [==============================] - 1s 13us/step - loss: 0.3417 - acc: 0.8547 - val_loss: 0.3535 - val_acc: 0.8448\n",
      "Epoch 10/30\n",
      "86104/86104 [==============================] - 1s 10us/step - loss: 0.3411 - acc: 0.8551 - val_loss: 0.3528 - val_acc: 0.8458\n",
      "Epoch 11/30\n",
      "86104/86104 [==============================] - 1s 10us/step - loss: 0.3406 - acc: 0.8547 - val_loss: 0.3524 - val_acc: 0.8465\n",
      "Epoch 12/30\n",
      "86104/86104 [==============================] - 1s 8us/step - loss: 0.3402 - acc: 0.8553 - val_loss: 0.3521 - val_acc: 0.8467\n",
      "Epoch 13/30\n",
      "86104/86104 [==============================] - 1s 9us/step - loss: 0.3398 - acc: 0.8553 - val_loss: 0.3516 - val_acc: 0.8474\n",
      "Epoch 14/30\n",
      "86104/86104 [==============================] - 1s 10us/step - loss: 0.3392 - acc: 0.8552 - val_loss: 0.3512 - val_acc: 0.8467\n",
      "Epoch 15/30\n",
      "86104/86104 [==============================] - 1s 6us/step - loss: 0.3389 - acc: 0.8556 - val_loss: 0.3506 - val_acc: 0.8473\n",
      "Epoch 16/30\n",
      "86104/86104 [==============================] - 0s 5us/step - loss: 0.3388 - acc: 0.8554 - val_loss: 0.3509 - val_acc: 0.8475\n",
      "Epoch 17/30\n",
      "86104/86104 [==============================] - 1s 9us/step - loss: 0.3386 - acc: 0.8558 - val_loss: 0.3503 - val_acc: 0.8478\n",
      "Epoch 18/30\n",
      "86104/86104 [==============================] - 1s 10us/step - loss: 0.3379 - acc: 0.8558 - val_loss: 0.3500 - val_acc: 0.8471\n",
      "Epoch 19/30\n",
      "86104/86104 [==============================] - 1s 11us/step - loss: 0.3377 - acc: 0.8558 - val_loss: 0.3496 - val_acc: 0.8479\n",
      "Epoch 20/30\n",
      "86104/86104 [==============================] - 1s 12us/step - loss: 0.3371 - acc: 0.8564 - val_loss: 0.3498 - val_acc: 0.8486\n",
      "Epoch 21/30\n",
      "86104/86104 [==============================] - 1s 9us/step - loss: 0.3371 - acc: 0.8564 - val_loss: 0.3488 - val_acc: 0.8492\n",
      "Epoch 22/30\n",
      "86104/86104 [==============================] - 1s 9us/step - loss: 0.3365 - acc: 0.8564 - val_loss: 0.3493 - val_acc: 0.8485\n",
      "Epoch 23/30\n",
      "86104/86104 [==============================] - 1s 9us/step - loss: 0.3364 - acc: 0.8570 - val_loss: 0.3488 - val_acc: 0.8492\n"
     ]
    }
   ],
   "source": [
    "train_history =model.fit(x=train_Features, \n",
    "                         y=train_Label, \n",
    "                         validation_split=0.1, \n",
    "                         epochs=30, \n",
    "                         batch_size=1500,verbose=1,callbacks=[early_stopping])"
   ]
  },
  {
   "cell_type": "code",
   "execution_count": 15,
   "metadata": {
    "collapsed": true
   },
   "outputs": [],
   "source": [
    "import matplotlib.pyplot as plt\n",
    "def show_train_history(train_history,train,validation):\n",
    "    plt.plot(train_history.history[train])\n",
    "    plt.plot(train_history.history[validation])\n",
    "    plt.title('Train History')\n",
    "    plt.ylabel(train)\n",
    "    plt.xlabel('Epoch')\n",
    "    plt.legend(['train', 'validation'], loc='upper left')\n",
    "    plt.show()"
   ]
  },
  {
   "cell_type": "code",
   "execution_count": 16,
   "metadata": {
    "collapsed": false
   },
   "outputs": [
    {
     "data": {
      "image/png": "[encoded data removed]",
      "text/plain": [
       "<matplotlib.figure.Figure at 0x7f6419e06c18>"
      ]
     },
     "metadata": {},
     "output_type": "display_data"
    }
   ],
   "source": [
    "show_train_history(train_history,'acc','val_acc')"
   ]
  },
  {
   "cell_type": "code",
   "execution_count": 17,
   "metadata": {
    "collapsed": false
   },
   "outputs": [
    {
     "data": {
      "image/png": "[encoded data removed]",
      "text/plain": [
       "<matplotlib.figure.Figure at 0x7f63ec22b160>"
      ]
     },
     "metadata": {},
     "output_type": "display_data"
    }
   ],
   "source": [
    "show_train_history(train_history,'loss','val_loss')"
   ]
  },
  {
   "cell_type": "code",
   "execution_count": 18,
   "metadata": {
    "collapsed": false
   },
   "outputs": [
    {
     "name": "stdout",
     "output_type": "stream",
     "text": [
      "23918/23918 [==============================] - 1s 23us/step\n"
     ]
    }
   ],
   "source": [
    "scores = model.evaluate(x=test_Features, \n",
    "                        y=test_Label)"
   ]
  },
  {
   "cell_type": "code",
   "execution_count": 19,
   "metadata": {
    "collapsed": false
   },
   "outputs": [
    {
     "data": {
      "text/plain": [
       "0.8562170750062714"
      ]
     },
     "execution_count": 19,
     "metadata": {},
     "output_type": "execute_result"
    }
   ],
   "source": [
    "scores[1]"
   ]
  }
 ],
 "metadata": {
  "anaconda-cloud": {},
  "kernelspec": {
   "display_name": "Python [default]",
   "language": "python",
   "name": "python3"
  },
  "language_info": {
   "codemirror_mode": {
    "name": "ipython",
    "version": 3
   },
   "file_extension": ".py",
   "mimetype": "text/x-python",
   "name": "python",
   "nbconvert_exporter": "python",
   "pygments_lexer": "ipython3",
   "version": "3.5.2"
  }
 },
 "nbformat": 4,
 "nbformat_minor": 1
}
