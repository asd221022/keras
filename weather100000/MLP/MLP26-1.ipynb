{
 "cells": [
  {
   "cell_type": "code",
   "execution_count": 1,
   "metadata": {
    "collapsed": true,
    "slideshow": {
     "slide_type": "-"
    }
   },
   "outputs": [],
   "source": [
    "import numpy\n",
    "import pandas as pd\n",
    "from sklearn.preprocessing import StandardScaler\n",
    "from sklearn.model_selection  import train_test_split\n",
    "numpy.random.seed(10)"
   ]
  },
  {
   "cell_type": "code",
   "execution_count": 2,
   "metadata": {
    "collapsed": true
   },
   "outputs": [],
   "source": [
    "all_df = pd.read_csv(\"weather.csv\")"
   ]
  },
  {
   "cell_type": "code",
   "execution_count": 3,
   "metadata": {
    "collapsed": true
   },
   "outputs": [],
   "source": [
    "all_df=all_df.drop(['RISK_MM'], axis=1)"
   ]
  },
  {
   "cell_type": "code",
   "execution_count": 4,
   "metadata": {
    "collapsed": true
   },
   "outputs": [],
   "source": [
    "X=all_df.drop(['RainTomorrow'], axis=1).values.astype('float64')"
   ]
  },
  {
   "cell_type": "code",
   "execution_count": 5,
   "metadata": {
    "collapsed": true
   },
   "outputs": [],
   "source": [
    "Y = all_df['RainTomorrow'].values.astype('int64')"
   ]
  },
  {
   "cell_type": "code",
   "execution_count": 6,
   "metadata": {
    "collapsed": false
   },
   "outputs": [],
   "source": [
    "X = StandardScaler().fit_transform(X)\n",
    "train_Features, test_Features, train_Label, test_Label = train_test_split(X, Y, test_size=0.2, random_state=True) "
   ]
  },
  {
   "cell_type": "code",
   "execution_count": 7,
   "metadata": {
    "collapsed": false
   },
   "outputs": [
    {
     "name": "stderr",
     "output_type": "stream",
     "text": [
      "Using TensorFlow backend.\n"
     ]
    }
   ],
   "source": [
    "from keras.models import Sequential\n",
    "from keras.layers import Dense,Dropout\n",
    "from keras.callbacks import EarlyStopping\n",
    "early_stopping = EarlyStopping(monitor='val_loss', patience=2)"
   ]
  },
  {
   "cell_type": "code",
   "execution_count": 8,
   "metadata": {
    "collapsed": true
   },
   "outputs": [],
   "source": [
    "model = Sequential()"
   ]
  },
  {
   "cell_type": "code",
   "execution_count": 9,
   "metadata": {
    "collapsed": true
   },
   "outputs": [],
   "source": [
    "model.add(Dense(units=26,   input_dim=13,\n",
    "                kernel_initializer='uniform', \n",
    "                activation='relu'))"
   ]
  },
  {
   "cell_type": "code",
   "execution_count": 10,
   "metadata": {
    "collapsed": true
   },
   "outputs": [],
   "source": [
    "model.add(Dense(units=1, \n",
    "                kernel_initializer='uniform',\n",
    "                activation='sigmoid'))"
   ]
  },
  {
   "cell_type": "code",
   "execution_count": 11,
   "metadata": {
    "collapsed": false
   },
   "outputs": [
    {
     "name": "stdout",
     "output_type": "stream",
     "text": [
      "_________________________________________________________________\n",
      "Layer (type)                 Output Shape              Param #   \n",
      "=================================================================\n",
      "dense_1 (Dense)              (None, 26)                364       \n",
      "_________________________________________________________________\n",
      "dense_2 (Dense)              (None, 1)                 27        \n",
      "=================================================================\n",
      "Total params: 391\n",
      "Trainable params: 391\n",
      "Non-trainable params: 0\n",
      "_________________________________________________________________\n"
     ]
    }
   ],
   "source": [
    "model.summary()"
   ]
  },
  {
   "cell_type": "code",
   "execution_count": 12,
   "metadata": {
    "collapsed": true
   },
   "outputs": [],
   "source": [
    "model.compile(loss='binary_crossentropy', \n",
    "              optimizer='adam', metrics=['accuracy'])"
   ]
  },
  {
   "cell_type": "code",
   "execution_count": 13,
   "metadata": {
    "collapsed": false
   },
   "outputs": [
    {
     "name": "stdout",
     "output_type": "stream",
     "text": [
      "Train on 86104 samples, validate on 9568 samples\n",
      "Epoch 1/30\n",
      "86104/86104 [==============================] - 1s 9us/step - loss: 0.6538 - acc: 0.7928 - val_loss: 0.5940 - val_acc: 0.8218\n",
      "Epoch 2/30\n",
      "86104/86104 [==============================] - 0s 3us/step - loss: 0.5182 - acc: 0.8294 - val_loss: 0.4553 - val_acc: 0.8281\n",
      "Epoch 3/30\n",
      "86104/86104 [==============================] - 0s 3us/step - loss: 0.4179 - acc: 0.8375 - val_loss: 0.4010 - val_acc: 0.8342\n",
      "Epoch 4/30\n",
      "86104/86104 [==============================] - 0s 3us/step - loss: 0.3842 - acc: 0.8437 - val_loss: 0.3850 - val_acc: 0.8360\n",
      "Epoch 5/30\n",
      "86104/86104 [==============================] - 0s 3us/step - loss: 0.3724 - acc: 0.8468 - val_loss: 0.3780 - val_acc: 0.8396\n",
      "Epoch 6/30\n",
      "86104/86104 [==============================] - 0s 5us/step - loss: 0.3659 - acc: 0.8491 - val_loss: 0.3730 - val_acc: 0.8418\n",
      "Epoch 7/30\n",
      "86104/86104 [==============================] - 0s 4us/step - loss: 0.3609 - acc: 0.8505 - val_loss: 0.3690 - val_acc: 0.8431\n",
      "Epoch 8/30\n",
      "86104/86104 [==============================] - 0s 3us/step - loss: 0.3572 - acc: 0.8514 - val_loss: 0.3660 - val_acc: 0.8434\n",
      "Epoch 9/30\n",
      "86104/86104 [==============================] - 1s 6us/step - loss: 0.3543 - acc: 0.8515 - val_loss: 0.3640 - val_acc: 0.8440\n",
      "Epoch 10/30\n",
      "86104/86104 [==============================] - 1s 7us/step - loss: 0.3521 - acc: 0.8522 - val_loss: 0.3622 - val_acc: 0.8440\n",
      "Epoch 11/30\n",
      "86104/86104 [==============================] - 1s 7us/step - loss: 0.3504 - acc: 0.8524 - val_loss: 0.3609 - val_acc: 0.8434\n",
      "Epoch 12/30\n",
      "86104/86104 [==============================] - 1s 9us/step - loss: 0.3490 - acc: 0.8528 - val_loss: 0.3597 - val_acc: 0.8441\n",
      "Epoch 13/30\n",
      "86104/86104 [==============================] - 0s 5us/step - loss: 0.3477 - acc: 0.8531 - val_loss: 0.3584 - val_acc: 0.8455\n",
      "Epoch 14/30\n",
      "86104/86104 [==============================] - 1s 7us/step - loss: 0.3466 - acc: 0.8531 - val_loss: 0.3574 - val_acc: 0.8443\n",
      "Epoch 15/30\n",
      "86104/86104 [==============================] - 0s 4us/step - loss: 0.3456 - acc: 0.8534 - val_loss: 0.3565 - val_acc: 0.8454\n",
      "Epoch 16/30\n",
      "86104/86104 [==============================] - 1s 7us/step - loss: 0.3448 - acc: 0.8538 - val_loss: 0.3556 - val_acc: 0.8447\n",
      "Epoch 17/30\n",
      "86104/86104 [==============================] - 0s 6us/step - loss: 0.3440 - acc: 0.8540 - val_loss: 0.3551 - val_acc: 0.8455\n",
      "Epoch 18/30\n",
      "86104/86104 [==============================] - 1s 6us/step - loss: 0.3433 - acc: 0.8539 - val_loss: 0.3545 - val_acc: 0.8465\n",
      "Epoch 19/30\n",
      "86104/86104 [==============================] - 1s 6us/step - loss: 0.3427 - acc: 0.8544 - val_loss: 0.3539 - val_acc: 0.8468\n",
      "Epoch 20/30\n",
      "86104/86104 [==============================] - 0s 6us/step - loss: 0.3422 - acc: 0.8543 - val_loss: 0.3533 - val_acc: 0.8477\n",
      "Epoch 21/30\n",
      "86104/86104 [==============================] - 1s 7us/step - loss: 0.3418 - acc: 0.8544 - val_loss: 0.3529 - val_acc: 0.8469\n",
      "Epoch 22/30\n",
      "86104/86104 [==============================] - 1s 7us/step - loss: 0.3413 - acc: 0.8546 - val_loss: 0.3528 - val_acc: 0.8474\n",
      "Epoch 23/30\n",
      "86104/86104 [==============================] - 1s 9us/step - loss: 0.3410 - acc: 0.8548 - val_loss: 0.3523 - val_acc: 0.8476\n",
      "Epoch 24/30\n",
      "86104/86104 [==============================] - 0s 6us/step - loss: 0.3406 - acc: 0.8550 - val_loss: 0.3520 - val_acc: 0.8482\n",
      "Epoch 25/30\n",
      "86104/86104 [==============================] - 0s 3us/step - loss: 0.3403 - acc: 0.8553 - val_loss: 0.3517 - val_acc: 0.8481\n",
      "Epoch 26/30\n",
      "86104/86104 [==============================] - 0s 3us/step - loss: 0.3400 - acc: 0.8546 - val_loss: 0.3514 - val_acc: 0.8488\n",
      "Epoch 27/30\n",
      "86104/86104 [==============================] - 1s 7us/step - loss: 0.3397 - acc: 0.8548 - val_loss: 0.3510 - val_acc: 0.8486\n",
      "Epoch 28/30\n",
      "86104/86104 [==============================] - 0s 4us/step - loss: 0.3394 - acc: 0.8549 - val_loss: 0.3510 - val_acc: 0.8481\n",
      "Epoch 29/30\n",
      "86104/86104 [==============================] - 0s 3us/step - loss: 0.3391 - acc: 0.8547 - val_loss: 0.3506 - val_acc: 0.8491\n",
      "Epoch 30/30\n",
      "86104/86104 [==============================] - 0s 6us/step - loss: 0.3390 - acc: 0.8553 - val_loss: 0.3502 - val_acc: 0.8491\n"
     ]
    }
   ],
   "source": [
    "train_history =model.fit(x=train_Features, \n",
    "                         y=train_Label, \n",
    "                         validation_split=0.1, \n",
    "                         epochs=30, \n",
    "                         batch_size=1500,verbose=1,callbacks=[early_stopping])"
   ]
  },
  {
   "cell_type": "code",
   "execution_count": 14,
   "metadata": {
    "collapsed": true
   },
   "outputs": [],
   "source": [
    "import matplotlib.pyplot as plt\n",
    "def show_train_history(train_history,train,validation):\n",
    "    plt.plot(train_history.history[train])\n",
    "    plt.plot(train_history.history[validation])\n",
    "    plt.title('Train History')\n",
    "    plt.ylabel(train)\n",
    "    plt.xlabel('Epoch')\n",
    "    plt.legend(['train', 'validation'], loc='upper left')\n",
    "    plt.show()"
   ]
  },
  {
   "cell_type": "code",
   "execution_count": 15,
   "metadata": {
    "collapsed": false
   },
   "outputs": [
    {
     "data": {
      "image/png": "[encoded data removed]",
      "text/plain": [
       "<matplotlib.figure.Figure at 0x7fb6236405f8>"
      ]
     },
     "metadata": {},
     "output_type": "display_data"
    }
   ],
   "source": [
    "show_train_history(train_history,'acc','val_acc')"
   ]
  },
  {
   "cell_type": "code",
   "execution_count": 16,
   "metadata": {
    "collapsed": false
   },
   "outputs": [
    {
     "data": {
      "image/png": "[encoded data removed]",
      "text/plain": [
       "<matplotlib.figure.Figure at 0x7fb622b4e5c0>"
      ]
     },
     "metadata": {},
     "output_type": "display_data"
    }
   ],
   "source": [
    "show_train_history(train_history,'loss','val_loss')"
   ]
  },
  {
   "cell_type": "code",
   "execution_count": 17,
   "metadata": {
    "collapsed": false
   },
   "outputs": [
    {
     "name": "stdout",
     "output_type": "stream",
     "text": [
      "23918/23918 [==============================] - 1s 61us/step\n"
     ]
    }
   ],
   "source": [
    "scores = model.evaluate(x=test_Features, \n",
    "                        y=test_Label)"
   ]
  },
  {
   "cell_type": "code",
   "execution_count": 18,
   "metadata": {
    "collapsed": false
   },
   "outputs": [
    {
     "data": {
      "text/plain": [
       "0.8552136466259721"
      ]
     },
     "execution_count": 18,
     "metadata": {},
     "output_type": "execute_result"
    }
   ],
   "source": [
    "scores[1]"
   ]
  }
 ],
 "metadata": {
  "anaconda-cloud": {},
  "kernelspec": {
   "display_name": "Python [default]",
   "language": "python",
   "name": "python3"
  },
  "language_info": {
   "codemirror_mode": {
    "name": "ipython",
    "version": 3
   },
   "file_extension": ".py",
   "mimetype": "text/x-python",
   "name": "python",
   "nbconvert_exporter": "python",
   "pygments_lexer": "ipython3",
   "version": "3.5.2"
  }
 },
 "nbformat": 4,
 "nbformat_minor": 1
}
