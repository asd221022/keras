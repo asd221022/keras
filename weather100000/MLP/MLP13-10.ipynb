{
 "cells": [
  {
   "cell_type": "code",
   "execution_count": 1,
   "metadata": {
    "collapsed": true,
    "slideshow": {
     "slide_type": "-"
    }
   },
   "outputs": [],
   "source": [
    "import numpy\n",
    "import pandas as pd\n",
    "from sklearn.preprocessing import StandardScaler\n",
    "from sklearn.model_selection  import train_test_split\n",
    "numpy.random.seed(10)"
   ]
  },
  {
   "cell_type": "code",
   "execution_count": 2,
   "metadata": {
    "collapsed": true
   },
   "outputs": [],
   "source": [
    "all_df = pd.read_csv(\"weather.csv\")"
   ]
  },
  {
   "cell_type": "code",
   "execution_count": 3,
   "metadata": {
    "collapsed": true
   },
   "outputs": [],
   "source": [
    "all_df=all_df.drop(['RISK_MM'], axis=1)"
   ]
  },
  {
   "cell_type": "code",
   "execution_count": 4,
   "metadata": {
    "collapsed": true
   },
   "outputs": [],
   "source": [
    "X=all_df.drop(['RainTomorrow'], axis=1).values.astype('float64')"
   ]
  },
  {
   "cell_type": "code",
   "execution_count": 5,
   "metadata": {
    "collapsed": true
   },
   "outputs": [],
   "source": [
    "Y = all_df['RainTomorrow'].values.astype('int64')"
   ]
  },
  {
   "cell_type": "code",
   "execution_count": 6,
   "metadata": {
    "collapsed": false
   },
   "outputs": [],
   "source": [
    "X = StandardScaler().fit_transform(X)\n",
    "train_Features, test_Features, train_Label, test_Label = train_test_split(X, Y, test_size=0.2, random_state=True) "
   ]
  },
  {
   "cell_type": "code",
   "execution_count": 7,
   "metadata": {
    "collapsed": false
   },
   "outputs": [
    {
     "name": "stderr",
     "output_type": "stream",
     "text": [
      "Using TensorFlow backend.\n"
     ]
    }
   ],
   "source": [
    "from keras.models import Sequential\n",
    "from keras.layers import Dense,Dropout\n",
    "from keras.callbacks import EarlyStopping\n",
    "early_stopping = EarlyStopping(monitor='val_loss', patience=2)"
   ]
  },
  {
   "cell_type": "code",
   "execution_count": 8,
   "metadata": {
    "collapsed": true
   },
   "outputs": [],
   "source": [
    "model = Sequential()"
   ]
  },
  {
   "cell_type": "code",
   "execution_count": 9,
   "metadata": {
    "collapsed": true
   },
   "outputs": [],
   "source": [
    "model.add(Dense(units=13*10,   input_dim=13,\n",
    "                kernel_initializer='uniform', \n",
    "                activation='relu'))"
   ]
  },
  {
   "cell_type": "code",
   "execution_count": 10,
   "metadata": {
    "collapsed": true
   },
   "outputs": [],
   "source": [
    "model.add(Dense(units=13*9,   \n",
    "                kernel_initializer='uniform', \n",
    "                activation='relu'))"
   ]
  },
  {
   "cell_type": "code",
   "execution_count": 11,
   "metadata": {
    "collapsed": true
   },
   "outputs": [],
   "source": [
    "model.add(Dense(units=13*8,   \n",
    "                kernel_initializer='uniform', \n",
    "                activation='relu'))"
   ]
  },
  {
   "cell_type": "code",
   "execution_count": 12,
   "metadata": {
    "collapsed": true
   },
   "outputs": [],
   "source": [
    "model.add(Dense(units=13*7,   \n",
    "                kernel_initializer='uniform', \n",
    "                activation='relu'))"
   ]
  },
  {
   "cell_type": "code",
   "execution_count": 13,
   "metadata": {
    "collapsed": true
   },
   "outputs": [],
   "source": [
    "model.add(Dense(units=13*6,   \n",
    "                kernel_initializer='uniform', \n",
    "                activation='relu'))"
   ]
  },
  {
   "cell_type": "code",
   "execution_count": 14,
   "metadata": {
    "collapsed": true
   },
   "outputs": [],
   "source": [
    "model.add(Dense(units=13*5,   \n",
    "                kernel_initializer='uniform', \n",
    "                activation='relu'))"
   ]
  },
  {
   "cell_type": "code",
   "execution_count": 15,
   "metadata": {
    "collapsed": true
   },
   "outputs": [],
   "source": [
    "model.add(Dense(units=13*4,   \n",
    "                kernel_initializer='uniform', \n",
    "                activation='relu'))"
   ]
  },
  {
   "cell_type": "code",
   "execution_count": 16,
   "metadata": {
    "collapsed": true
   },
   "outputs": [],
   "source": [
    "model.add(Dense(units=13*3,   \n",
    "                kernel_initializer='uniform', \n",
    "                activation='relu'))"
   ]
  },
  {
   "cell_type": "code",
   "execution_count": 17,
   "metadata": {
    "collapsed": true
   },
   "outputs": [],
   "source": [
    "model.add(Dense(units=13*2,   \n",
    "                kernel_initializer='uniform', \n",
    "                activation='relu'))"
   ]
  },
  {
   "cell_type": "code",
   "execution_count": 18,
   "metadata": {
    "collapsed": true
   },
   "outputs": [],
   "source": [
    "model.add(Dense(units=13,   \n",
    "                kernel_initializer='uniform', \n",
    "                activation='relu'))"
   ]
  },
  {
   "cell_type": "code",
   "execution_count": 19,
   "metadata": {
    "collapsed": true
   },
   "outputs": [],
   "source": [
    "model.add(Dense(units=1, \n",
    "                kernel_initializer='uniform',\n",
    "                activation='sigmoid'))"
   ]
  },
  {
   "cell_type": "code",
   "execution_count": 20,
   "metadata": {
    "collapsed": false
   },
   "outputs": [
    {
     "name": "stdout",
     "output_type": "stream",
     "text": [
      "_________________________________________________________________\n",
      "Layer (type)                 Output Shape              Param #   \n",
      "=================================================================\n",
      "dense_1 (Dense)              (None, 130)               1820      \n",
      "_________________________________________________________________\n",
      "dense_2 (Dense)              (None, 117)               15327     \n",
      "_________________________________________________________________\n",
      "dense_3 (Dense)              (None, 104)               12272     \n",
      "_________________________________________________________________\n",
      "dense_4 (Dense)              (None, 91)                9555      \n",
      "_________________________________________________________________\n",
      "dense_5 (Dense)              (None, 78)                7176      \n",
      "_________________________________________________________________\n",
      "dense_6 (Dense)              (None, 65)                5135      \n",
      "_________________________________________________________________\n",
      "dense_7 (Dense)              (None, 52)                3432      \n",
      "_________________________________________________________________\n",
      "dense_8 (Dense)              (None, 39)                2067      \n",
      "_________________________________________________________________\n",
      "dense_9 (Dense)              (None, 26)                1040      \n",
      "_________________________________________________________________\n",
      "dense_10 (Dense)             (None, 13)                351       \n",
      "_________________________________________________________________\n",
      "dense_11 (Dense)             (None, 1)                 14        \n",
      "=================================================================\n",
      "Total params: 58,189\n",
      "Trainable params: 58,189\n",
      "Non-trainable params: 0\n",
      "_________________________________________________________________\n"
     ]
    }
   ],
   "source": [
    "model.summary()"
   ]
  },
  {
   "cell_type": "code",
   "execution_count": 21,
   "metadata": {
    "collapsed": true
   },
   "outputs": [],
   "source": [
    "model.compile(loss='binary_crossentropy', \n",
    "              optimizer='adam', metrics=['accuracy'])"
   ]
  },
  {
   "cell_type": "code",
   "execution_count": 22,
   "metadata": {
    "collapsed": false
   },
   "outputs": [
    {
     "name": "stdout",
     "output_type": "stream",
     "text": [
      "Train on 86104 samples, validate on 9568 samples\n",
      "Epoch 1/30\n",
      "86104/86104 [==============================] - 6s 74us/step - loss: 0.6768 - acc: 0.7816 - val_loss: 0.5960 - val_acc: 0.7774\n",
      "Epoch 2/30\n",
      "86104/86104 [==============================] - 4s 41us/step - loss: 0.4219 - acc: 0.7816 - val_loss: 0.3908 - val_acc: 0.7774\n",
      "Epoch 3/30\n",
      "86104/86104 [==============================] - 3s 32us/step - loss: 0.3642 - acc: 0.8243 - val_loss: 0.3598 - val_acc: 0.8428\n",
      "Epoch 4/30\n",
      "86104/86104 [==============================] - 2s 26us/step - loss: 0.3435 - acc: 0.8539 - val_loss: 0.3527 - val_acc: 0.8497\n",
      "Epoch 5/30\n",
      "86104/86104 [==============================] - 2s 27us/step - loss: 0.3397 - acc: 0.8551 - val_loss: 0.3490 - val_acc: 0.8514\n",
      "Epoch 6/30\n",
      "86104/86104 [==============================] - 3s 30us/step - loss: 0.3375 - acc: 0.8563 - val_loss: 0.3499 - val_acc: 0.8488\n",
      "Epoch 7/30\n",
      "86104/86104 [==============================] - 3s 39us/step - loss: 0.3366 - acc: 0.8566 - val_loss: 0.3462 - val_acc: 0.8521\n",
      "Epoch 8/30\n",
      "86104/86104 [==============================] - 4s 51us/step - loss: 0.3354 - acc: 0.8569 - val_loss: 0.3467 - val_acc: 0.8513\n",
      "Epoch 9/30\n",
      "86104/86104 [==============================] - 3s 40us/step - loss: 0.3347 - acc: 0.8571 - val_loss: 0.3448 - val_acc: 0.8505\n",
      "Epoch 10/30\n",
      "86104/86104 [==============================] - 5s 52us/step - loss: 0.3338 - acc: 0.8580 - val_loss: 0.3446 - val_acc: 0.8527\n",
      "Epoch 11/30\n",
      "86104/86104 [==============================] - 6s 68us/step - loss: 0.3330 - acc: 0.8583 - val_loss: 0.3455 - val_acc: 0.8528\n",
      "Epoch 12/30\n",
      "86104/86104 [==============================] - 6s 71us/step - loss: 0.3316 - acc: 0.8591 - val_loss: 0.3436 - val_acc: 0.8528\n",
      "Epoch 13/30\n",
      "86104/86104 [==============================] - 6s 72us/step - loss: 0.3322 - acc: 0.8586 - val_loss: 0.3433 - val_acc: 0.8533\n",
      "Epoch 14/30\n",
      "86104/86104 [==============================] - 6s 75us/step - loss: 0.3314 - acc: 0.8590 - val_loss: 0.3447 - val_acc: 0.8528\n",
      "Epoch 15/30\n",
      "86104/86104 [==============================] - 2s 25us/step - loss: 0.3300 - acc: 0.8587 - val_loss: 0.3431 - val_acc: 0.8543\n",
      "Epoch 16/30\n",
      "86104/86104 [==============================] - 2s 25us/step - loss: 0.3304 - acc: 0.8596 - val_loss: 0.3463 - val_acc: 0.8528\n",
      "Epoch 17/30\n",
      "86104/86104 [==============================] - 4s 48us/step - loss: 0.3300 - acc: 0.8593 - val_loss: 0.3429 - val_acc: 0.8543\n",
      "Epoch 18/30\n",
      "86104/86104 [==============================] - 3s 39us/step - loss: 0.3286 - acc: 0.8600 - val_loss: 0.3431 - val_acc: 0.8526\n",
      "Epoch 19/30\n",
      "86104/86104 [==============================] - 3s 34us/step - loss: 0.3281 - acc: 0.8602 - val_loss: 0.3423 - val_acc: 0.8534\n",
      "Epoch 20/30\n",
      "86104/86104 [==============================] - 4s 48us/step - loss: 0.3270 - acc: 0.8607 - val_loss: 0.3437 - val_acc: 0.8535\n",
      "Epoch 21/30\n",
      "86104/86104 [==============================] - 4s 48us/step - loss: 0.3273 - acc: 0.8610 - val_loss: 0.3421 - val_acc: 0.8524\n",
      "Epoch 22/30\n",
      "86104/86104 [==============================] - 5s 58us/step - loss: 0.3267 - acc: 0.8608 - val_loss: 0.3421 - val_acc: 0.8523\n",
      "Epoch 23/30\n",
      "86104/86104 [==============================] - 5s 57us/step - loss: 0.3258 - acc: 0.8611 - val_loss: 0.3431 - val_acc: 0.8529\n"
     ]
    }
   ],
   "source": [
    "train_history =model.fit(x=train_Features, \n",
    "                         y=train_Label, \n",
    "                         validation_split=0.1, \n",
    "                         epochs=30, \n",
    "                         batch_size=1500,verbose=1,callbacks=[early_stopping])"
   ]
  },
  {
   "cell_type": "code",
   "execution_count": 23,
   "metadata": {
    "collapsed": true
   },
   "outputs": [],
   "source": [
    "import matplotlib.pyplot as plt\n",
    "def show_train_history(train_history,train,validation):\n",
    "    plt.plot(train_history.history[train])\n",
    "    plt.plot(train_history.history[validation])\n",
    "    plt.title('Train History')\n",
    "    plt.ylabel(train)\n",
    "    plt.xlabel('Epoch')\n",
    "    plt.legend(['train', 'validation'], loc='upper left')\n",
    "    plt.show()"
   ]
  },
  {
   "cell_type": "code",
   "execution_count": 24,
   "metadata": {
    "collapsed": false
   },
   "outputs": [
    {
     "data": {
      "image/png": "[encoded data removed]",
      "text/plain": [
       "<matplotlib.figure.Figure at 0x7f79cf7a7048>"
      ]
     },
     "metadata": {},
     "output_type": "display_data"
    }
   ],
   "source": [
    "show_train_history(train_history,'acc','val_acc')"
   ]
  },
  {
   "cell_type": "code",
   "execution_count": 25,
   "metadata": {
    "collapsed": false
   },
   "outputs": [
    {
     "data": {
      "image/png": "[encoded data removed]",
      "text/plain": [
       "<matplotlib.figure.Figure at 0x7f79d5b5b550>"
      ]
     },
     "metadata": {},
     "output_type": "display_data"
    }
   ],
   "source": [
    "show_train_history(train_history,'loss','val_loss')"
   ]
  },
  {
   "cell_type": "code",
   "execution_count": 26,
   "metadata": {
    "collapsed": false
   },
   "outputs": [
    {
     "name": "stdout",
     "output_type": "stream",
     "text": [
      "23918/23918 [==============================] - 1s 42us/step\n"
     ]
    }
   ],
   "source": [
    "scores = model.evaluate(x=test_Features, \n",
    "                        y=test_Label)"
   ]
  },
  {
   "cell_type": "code",
   "execution_count": 27,
   "metadata": {
    "collapsed": false
   },
   "outputs": [
    {
     "data": {
      "text/plain": [
       "0.8567187891964211"
      ]
     },
     "execution_count": 27,
     "metadata": {},
     "output_type": "execute_result"
    }
   ],
   "source": [
    "scores[1]"
   ]
  }
 ],
 "metadata": {
  "anaconda-cloud": {},
  "kernelspec": {
   "display_name": "Python [default]",
   "language": "python",
   "name": "python3"
  },
  "language_info": {
   "codemirror_mode": {
    "name": "ipython",
    "version": 3
   },
   "file_extension": ".py",
   "mimetype": "text/x-python",
   "name": "python",
   "nbconvert_exporter": "python",
   "pygments_lexer": "ipython3",
   "version": "3.5.2"
  }
 },
 "nbformat": 4,
 "nbformat_minor": 1
}
