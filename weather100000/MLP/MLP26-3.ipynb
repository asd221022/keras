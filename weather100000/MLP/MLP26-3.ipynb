{
 "cells": [
  {
   "cell_type": "code",
   "execution_count": 1,
   "metadata": {
    "collapsed": true,
    "slideshow": {
     "slide_type": "-"
    }
   },
   "outputs": [],
   "source": [
    "import numpy\n",
    "import pandas as pd\n",
    "from sklearn.preprocessing import StandardScaler\n",
    "from sklearn.model_selection  import train_test_split\n",
    "numpy.random.seed(10)"
   ]
  },
  {
   "cell_type": "code",
   "execution_count": 2,
   "metadata": {
    "collapsed": true
   },
   "outputs": [],
   "source": [
    "all_df = pd.read_csv(\"weather.csv\")"
   ]
  },
  {
   "cell_type": "code",
   "execution_count": 3,
   "metadata": {
    "collapsed": true
   },
   "outputs": [],
   "source": [
    "all_df=all_df.drop(['RISK_MM'], axis=1)"
   ]
  },
  {
   "cell_type": "code",
   "execution_count": 4,
   "metadata": {
    "collapsed": true
   },
   "outputs": [],
   "source": [
    "X=all_df.drop(['RainTomorrow'], axis=1).values.astype('float64')"
   ]
  },
  {
   "cell_type": "code",
   "execution_count": 5,
   "metadata": {
    "collapsed": true
   },
   "outputs": [],
   "source": [
    "Y = all_df['RainTomorrow'].values.astype('int64')"
   ]
  },
  {
   "cell_type": "code",
   "execution_count": 6,
   "metadata": {
    "collapsed": false
   },
   "outputs": [],
   "source": [
    "X = StandardScaler().fit_transform(X)\n",
    "train_Features, test_Features, train_Label, test_Label = train_test_split(X, Y, test_size=0.2, random_state=True) "
   ]
  },
  {
   "cell_type": "code",
   "execution_count": 7,
   "metadata": {
    "collapsed": false
   },
   "outputs": [
    {
     "name": "stderr",
     "output_type": "stream",
     "text": [
      "Using TensorFlow backend.\n"
     ]
    }
   ],
   "source": [
    "from keras.models import Sequential\n",
    "from keras.layers import Dense,Dropout\n",
    "from keras.callbacks import EarlyStopping\n",
    "early_stopping = EarlyStopping(monitor='val_loss', patience=2)"
   ]
  },
  {
   "cell_type": "code",
   "execution_count": 8,
   "metadata": {
    "collapsed": true
   },
   "outputs": [],
   "source": [
    "model = Sequential()"
   ]
  },
  {
   "cell_type": "code",
   "execution_count": 9,
   "metadata": {
    "collapsed": true
   },
   "outputs": [],
   "source": [
    "model.add(Dense(units=26*3,   input_dim=13,\n",
    "                kernel_initializer='uniform', \n",
    "                activation='relu'))"
   ]
  },
  {
   "cell_type": "code",
   "execution_count": 10,
   "metadata": {
    "collapsed": true
   },
   "outputs": [],
   "source": [
    "model.add(Dense(units=26*2,   \n",
    "                kernel_initializer='uniform', \n",
    "                activation='relu'))"
   ]
  },
  {
   "cell_type": "code",
   "execution_count": 11,
   "metadata": {
    "collapsed": true
   },
   "outputs": [],
   "source": [
    "model.add(Dense(units=26,   \n",
    "                kernel_initializer='uniform', \n",
    "                activation='relu'))"
   ]
  },
  {
   "cell_type": "code",
   "execution_count": 12,
   "metadata": {
    "collapsed": true
   },
   "outputs": [],
   "source": [
    "model.add(Dense(units=1, \n",
    "                kernel_initializer='uniform',\n",
    "                activation='sigmoid'))"
   ]
  },
  {
   "cell_type": "code",
   "execution_count": 13,
   "metadata": {
    "collapsed": false
   },
   "outputs": [
    {
     "name": "stdout",
     "output_type": "stream",
     "text": [
      "_________________________________________________________________\n",
      "Layer (type)                 Output Shape              Param #   \n",
      "=================================================================\n",
      "dense_1 (Dense)              (None, 78)                1092      \n",
      "_________________________________________________________________\n",
      "dense_2 (Dense)              (None, 52)                4108      \n",
      "_________________________________________________________________\n",
      "dense_3 (Dense)              (None, 26)                1378      \n",
      "_________________________________________________________________\n",
      "dense_4 (Dense)              (None, 1)                 27        \n",
      "=================================================================\n",
      "Total params: 6,605\n",
      "Trainable params: 6,605\n",
      "Non-trainable params: 0\n",
      "_________________________________________________________________\n"
     ]
    }
   ],
   "source": [
    "model.summary()"
   ]
  },
  {
   "cell_type": "code",
   "execution_count": 14,
   "metadata": {
    "collapsed": true
   },
   "outputs": [],
   "source": [
    "model.compile(loss='binary_crossentropy', \n",
    "              optimizer='adam', metrics=['accuracy'])"
   ]
  },
  {
   "cell_type": "code",
   "execution_count": 15,
   "metadata": {
    "collapsed": false
   },
   "outputs": [
    {
     "name": "stdout",
     "output_type": "stream",
     "text": [
      "Train on 86104 samples, validate on 9568 samples\n",
      "Epoch 1/30\n",
      "86104/86104 [==============================] - 1s 12us/step - loss: 0.5874 - acc: 0.7797 - val_loss: 0.4189 - val_acc: 0.8234\n",
      "Epoch 2/30\n",
      "86104/86104 [==============================] - 1s 6us/step - loss: 0.3836 - acc: 0.8387 - val_loss: 0.3720 - val_acc: 0.8395\n",
      "Epoch 3/30\n",
      "86104/86104 [==============================] - 1s 6us/step - loss: 0.3528 - acc: 0.8516 - val_loss: 0.3585 - val_acc: 0.8434\n",
      "Epoch 4/30\n",
      "86104/86104 [==============================] - 1s 6us/step - loss: 0.3456 - acc: 0.8534 - val_loss: 0.3554 - val_acc: 0.8458\n",
      "Epoch 5/30\n",
      "86104/86104 [==============================] - 1s 7us/step - loss: 0.3432 - acc: 0.8542 - val_loss: 0.3548 - val_acc: 0.8442\n",
      "Epoch 6/30\n",
      "86104/86104 [==============================] - 1s 7us/step - loss: 0.3416 - acc: 0.8547 - val_loss: 0.3522 - val_acc: 0.8460\n",
      "Epoch 7/30\n",
      "86104/86104 [==============================] - 1s 8us/step - loss: 0.3402 - acc: 0.8550 - val_loss: 0.3516 - val_acc: 0.8460\n",
      "Epoch 8/30\n",
      "86104/86104 [==============================] - 1s 12us/step - loss: 0.3396 - acc: 0.8554 - val_loss: 0.3499 - val_acc: 0.8496\n",
      "Epoch 9/30\n",
      "86104/86104 [==============================] - 1s 10us/step - loss: 0.3386 - acc: 0.8558 - val_loss: 0.3495 - val_acc: 0.8483\n",
      "Epoch 10/30\n",
      "86104/86104 [==============================] - 1s 10us/step - loss: 0.3379 - acc: 0.8561 - val_loss: 0.3497 - val_acc: 0.8508\n",
      "Epoch 11/30\n",
      "86104/86104 [==============================] - 1s 11us/step - loss: 0.3380 - acc: 0.8558 - val_loss: 0.3482 - val_acc: 0.8510\n",
      "Epoch 12/30\n",
      "86104/86104 [==============================] - 1s 16us/step - loss: 0.3369 - acc: 0.8563 - val_loss: 0.3473 - val_acc: 0.8499\n",
      "Epoch 13/30\n",
      "86104/86104 [==============================] - 1s 10us/step - loss: 0.3364 - acc: 0.8563 - val_loss: 0.3472 - val_acc: 0.8490\n",
      "Epoch 14/30\n",
      "86104/86104 [==============================] - 1s 8us/step - loss: 0.3358 - acc: 0.8568 - val_loss: 0.3475 - val_acc: 0.8488\n",
      "Epoch 15/30\n",
      "86104/86104 [==============================] - 1s 10us/step - loss: 0.3358 - acc: 0.8568 - val_loss: 0.3497 - val_acc: 0.8498\n"
     ]
    }
   ],
   "source": [
    "train_history =model.fit(x=train_Features, \n",
    "                         y=train_Label, \n",
    "                         validation_split=0.1, \n",
    "                         epochs=30, \n",
    "                         batch_size=1500,verbose=1,callbacks=[early_stopping])"
   ]
  },
  {
   "cell_type": "code",
   "execution_count": 16,
   "metadata": {
    "collapsed": true
   },
   "outputs": [],
   "source": [
    "import matplotlib.pyplot as plt\n",
    "def show_train_history(train_history,train,validation):\n",
    "    plt.plot(train_history.history[train])\n",
    "    plt.plot(train_history.history[validation])\n",
    "    plt.title('Train History')\n",
    "    plt.ylabel(train)\n",
    "    plt.xlabel('Epoch')\n",
    "    plt.legend(['train', 'validation'], loc='upper left')\n",
    "    plt.show()"
   ]
  },
  {
   "cell_type": "code",
   "execution_count": 17,
   "metadata": {
    "collapsed": false
   },
   "outputs": [
    {
     "data": {
      "image/png": "[encoded data removed]",
      "text/plain": [
       "<matplotlib.figure.Figure at 0x7fc1c82ab780>"
      ]
     },
     "metadata": {},
     "output_type": "display_data"
    }
   ],
   "source": [
    "show_train_history(train_history,'acc','val_acc')"
   ]
  },
  {
   "cell_type": "code",
   "execution_count": 18,
   "metadata": {
    "collapsed": false
   },
   "outputs": [
    {
     "data": {
      "image/png": "[encoded data removed]",
      "text/plain": [
       "<matplotlib.figure.Figure at 0x7fc1c98a4588>"
      ]
     },
     "metadata": {},
     "output_type": "display_data"
    }
   ],
   "source": [
    "show_train_history(train_history,'loss','val_loss')"
   ]
  },
  {
   "cell_type": "code",
   "execution_count": 19,
   "metadata": {
    "collapsed": false
   },
   "outputs": [
    {
     "name": "stdout",
     "output_type": "stream",
     "text": [
      "23918/23918 [==============================] - 1s 43us/step\n"
     ]
    }
   ],
   "source": [
    "scores = model.evaluate(x=test_Features, \n",
    "                        y=test_Label)"
   ]
  },
  {
   "cell_type": "code",
   "execution_count": 20,
   "metadata": {
    "collapsed": false
   },
   "outputs": [
    {
     "data": {
      "text/plain": [
       "0.8552972656576637"
      ]
     },
     "execution_count": 20,
     "metadata": {},
     "output_type": "execute_result"
    }
   ],
   "source": [
    "scores[1]"
   ]
  }
 ],
 "metadata": {
  "anaconda-cloud": {},
  "kernelspec": {
   "display_name": "Python [default]",
   "language": "python",
   "name": "python3"
  },
  "language_info": {
   "codemirror_mode": {
    "name": "ipython",
    "version": 3
   },
   "file_extension": ".py",
   "mimetype": "text/x-python",
   "name": "python",
   "nbconvert_exporter": "python",
   "pygments_lexer": "ipython3",
   "version": "3.5.2"
  }
 },
 "nbformat": 4,
 "nbformat_minor": 1
}
