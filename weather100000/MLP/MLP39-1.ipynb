{
 "cells": [
  {
   "cell_type": "code",
   "execution_count": 1,
   "metadata": {
    "collapsed": true,
    "slideshow": {
     "slide_type": "-"
    }
   },
   "outputs": [],
   "source": [
    "import numpy\n",
    "import pandas as pd\n",
    "from sklearn.preprocessing import StandardScaler\n",
    "from sklearn.model_selection  import train_test_split\n",
    "numpy.random.seed(10)"
   ]
  },
  {
   "cell_type": "code",
   "execution_count": 2,
   "metadata": {
    "collapsed": true
   },
   "outputs": [],
   "source": [
    "all_df = pd.read_csv(\"weather.csv\")"
   ]
  },
  {
   "cell_type": "code",
   "execution_count": 3,
   "metadata": {
    "collapsed": true
   },
   "outputs": [],
   "source": [
    "all_df=all_df.drop(['RISK_MM'], axis=1)"
   ]
  },
  {
   "cell_type": "code",
   "execution_count": 4,
   "metadata": {
    "collapsed": true
   },
   "outputs": [],
   "source": [
    "X=all_df.drop(['RainTomorrow'], axis=1).values.astype('float64')"
   ]
  },
  {
   "cell_type": "code",
   "execution_count": 5,
   "metadata": {
    "collapsed": true
   },
   "outputs": [],
   "source": [
    "Y = all_df['RainTomorrow'].values.astype('int64')"
   ]
  },
  {
   "cell_type": "code",
   "execution_count": 6,
   "metadata": {
    "collapsed": false
   },
   "outputs": [],
   "source": [
    "X = StandardScaler().fit_transform(X)\n",
    "train_Features, test_Features, train_Label, test_Label = train_test_split(X, Y, test_size=0.2, random_state=True) "
   ]
  },
  {
   "cell_type": "code",
   "execution_count": 7,
   "metadata": {
    "collapsed": false
   },
   "outputs": [
    {
     "name": "stderr",
     "output_type": "stream",
     "text": [
      "Using TensorFlow backend.\n"
     ]
    }
   ],
   "source": [
    "from keras.models import Sequential\n",
    "from keras.layers import Dense,Dropout\n",
    "from keras.callbacks import EarlyStopping\n",
    "early_stopping = EarlyStopping(monitor='val_loss', patience=2)"
   ]
  },
  {
   "cell_type": "code",
   "execution_count": 8,
   "metadata": {
    "collapsed": true
   },
   "outputs": [],
   "source": [
    "model = Sequential()"
   ]
  },
  {
   "cell_type": "code",
   "execution_count": 9,
   "metadata": {
    "collapsed": true
   },
   "outputs": [],
   "source": [
    "model.add(Dense(units=39,   input_dim=13,\n",
    "                kernel_initializer='uniform', \n",
    "                activation='relu'))"
   ]
  },
  {
   "cell_type": "code",
   "execution_count": 10,
   "metadata": {
    "collapsed": true
   },
   "outputs": [],
   "source": [
    "model.add(Dense(units=1, \n",
    "                kernel_initializer='uniform',\n",
    "                activation='sigmoid'))"
   ]
  },
  {
   "cell_type": "code",
   "execution_count": 11,
   "metadata": {
    "collapsed": false
   },
   "outputs": [
    {
     "name": "stdout",
     "output_type": "stream",
     "text": [
      "_________________________________________________________________\n",
      "Layer (type)                 Output Shape              Param #   \n",
      "=================================================================\n",
      "dense_1 (Dense)              (None, 39)                546       \n",
      "_________________________________________________________________\n",
      "dense_2 (Dense)              (None, 1)                 40        \n",
      "=================================================================\n",
      "Total params: 586\n",
      "Trainable params: 586\n",
      "Non-trainable params: 0\n",
      "_________________________________________________________________\n"
     ]
    }
   ],
   "source": [
    "model.summary()"
   ]
  },
  {
   "cell_type": "code",
   "execution_count": 12,
   "metadata": {
    "collapsed": true
   },
   "outputs": [],
   "source": [
    "model.compile(loss='binary_crossentropy', \n",
    "              optimizer='adam', metrics=['accuracy'])"
   ]
  },
  {
   "cell_type": "code",
   "execution_count": 13,
   "metadata": {
    "collapsed": false
   },
   "outputs": [
    {
     "name": "stdout",
     "output_type": "stream",
     "text": [
      "Train on 86104 samples, validate on 9568 samples\n",
      "Epoch 1/30\n",
      "86104/86104 [==============================] - 2s 27us/step - loss: 0.6394 - acc: 0.7742 - val_loss: 0.5586 - val_acc: 0.8161\n",
      "Epoch 2/30\n",
      "86104/86104 [==============================] - 1s 10us/step - loss: 0.4762 - acc: 0.8239 - val_loss: 0.4234 - val_acc: 0.8228\n",
      "Epoch 3/30\n",
      "86104/86104 [==============================] - 1s 10us/step - loss: 0.3973 - acc: 0.8335 - val_loss: 0.3902 - val_acc: 0.8315\n",
      "Epoch 4/30\n",
      "86104/86104 [==============================] - 1s 10us/step - loss: 0.3754 - acc: 0.8424 - val_loss: 0.3784 - val_acc: 0.8365\n",
      "Epoch 5/30\n",
      "86104/86104 [==============================] - 1s 10us/step - loss: 0.3653 - acc: 0.8468 - val_loss: 0.3712 - val_acc: 0.8410\n",
      "Epoch 6/30\n",
      "86104/86104 [==============================] - 1s 9us/step - loss: 0.3586 - acc: 0.8495 - val_loss: 0.3662 - val_acc: 0.8425\n",
      "Epoch 7/30\n",
      "86104/86104 [==============================] - 1s 11us/step - loss: 0.3540 - acc: 0.8512 - val_loss: 0.3629 - val_acc: 0.8441\n",
      "Epoch 8/30\n",
      "86104/86104 [==============================] - 1s 10us/step - loss: 0.3508 - acc: 0.8526 - val_loss: 0.3604 - val_acc: 0.8445\n",
      "Epoch 9/30\n",
      "86104/86104 [==============================] - 1s 12us/step - loss: 0.3484 - acc: 0.8530 - val_loss: 0.3588 - val_acc: 0.8448\n",
      "Epoch 10/30\n",
      "86104/86104 [==============================] - 1s 10us/step - loss: 0.3468 - acc: 0.8535 - val_loss: 0.3575 - val_acc: 0.8462\n",
      "Epoch 11/30\n",
      "86104/86104 [==============================] - 1s 11us/step - loss: 0.3456 - acc: 0.8532 - val_loss: 0.3567 - val_acc: 0.8443\n",
      "Epoch 12/30\n",
      "86104/86104 [==============================] - 1s 10us/step - loss: 0.3447 - acc: 0.8538 - val_loss: 0.3559 - val_acc: 0.8452\n",
      "Epoch 13/30\n",
      "86104/86104 [==============================] - 1s 11us/step - loss: 0.3439 - acc: 0.8540 - val_loss: 0.3551 - val_acc: 0.8474\n",
      "Epoch 14/30\n",
      "86104/86104 [==============================] - 1s 11us/step - loss: 0.3431 - acc: 0.8541 - val_loss: 0.3547 - val_acc: 0.8460\n",
      "Epoch 15/30\n",
      "86104/86104 [==============================] - 1s 12us/step - loss: 0.3425 - acc: 0.8541 - val_loss: 0.3540 - val_acc: 0.8470\n",
      "Epoch 16/30\n",
      "86104/86104 [==============================] - 1s 13us/step - loss: 0.3421 - acc: 0.8546 - val_loss: 0.3536 - val_acc: 0.8458\n",
      "Epoch 17/30\n",
      "86104/86104 [==============================] - 1s 12us/step - loss: 0.3416 - acc: 0.8547 - val_loss: 0.3533 - val_acc: 0.8462\n",
      "Epoch 18/30\n",
      "86104/86104 [==============================] - 1s 12us/step - loss: 0.3412 - acc: 0.8544 - val_loss: 0.3530 - val_acc: 0.8485\n",
      "Epoch 19/30\n",
      "86104/86104 [==============================] - 1s 12us/step - loss: 0.3407 - acc: 0.8548 - val_loss: 0.3526 - val_acc: 0.8458\n",
      "Epoch 20/30\n",
      "86104/86104 [==============================] - 1s 10us/step - loss: 0.3404 - acc: 0.8549 - val_loss: 0.3522 - val_acc: 0.8480\n",
      "Epoch 21/30\n",
      "86104/86104 [==============================] - 1s 9us/step - loss: 0.3401 - acc: 0.8551 - val_loss: 0.3518 - val_acc: 0.8474\n",
      "Epoch 22/30\n",
      "86104/86104 [==============================] - 1s 9us/step - loss: 0.3398 - acc: 0.8549 - val_loss: 0.3519 - val_acc: 0.8477\n",
      "Epoch 23/30\n",
      "86104/86104 [==============================] - 1s 9us/step - loss: 0.3395 - acc: 0.8552 - val_loss: 0.3512 - val_acc: 0.8478\n",
      "Epoch 24/30\n",
      "86104/86104 [==============================] - 1s 9us/step - loss: 0.3392 - acc: 0.8554 - val_loss: 0.3509 - val_acc: 0.8474\n",
      "Epoch 25/30\n",
      "86104/86104 [==============================] - 1s 13us/step - loss: 0.3389 - acc: 0.8552 - val_loss: 0.3507 - val_acc: 0.8477\n",
      "Epoch 26/30\n",
      "86104/86104 [==============================] - 1s 12us/step - loss: 0.3386 - acc: 0.8558 - val_loss: 0.3503 - val_acc: 0.8485\n",
      "Epoch 27/30\n",
      "86104/86104 [==============================] - 1s 13us/step - loss: 0.3384 - acc: 0.8555 - val_loss: 0.3500 - val_acc: 0.8479\n",
      "Epoch 28/30\n",
      "86104/86104 [==============================] - 1s 12us/step - loss: 0.3381 - acc: 0.8559 - val_loss: 0.3500 - val_acc: 0.8485\n",
      "Epoch 29/30\n",
      "86104/86104 [==============================] - 1s 9us/step - loss: 0.3378 - acc: 0.8559 - val_loss: 0.3497 - val_acc: 0.8478\n",
      "Epoch 30/30\n",
      "86104/86104 [==============================] - 1s 9us/step - loss: 0.3377 - acc: 0.8561 - val_loss: 0.3493 - val_acc: 0.8480\n"
     ]
    }
   ],
   "source": [
    "train_history =model.fit(x=train_Features, \n",
    "                         y=train_Label, \n",
    "                         validation_split=0.1, \n",
    "                         epochs=30, \n",
    "                         batch_size=1500,verbose=1,callbacks=[early_stopping])"
   ]
  },
  {
   "cell_type": "code",
   "execution_count": 14,
   "metadata": {
    "collapsed": true
   },
   "outputs": [],
   "source": [
    "import matplotlib.pyplot as plt\n",
    "def show_train_history(train_history,train,validation):\n",
    "    plt.plot(train_history.history[train])\n",
    "    plt.plot(train_history.history[validation])\n",
    "    plt.title('Train History')\n",
    "    plt.ylabel(train)\n",
    "    plt.xlabel('Epoch')\n",
    "    plt.legend(['train', 'validation'], loc='upper left')\n",
    "    plt.show()"
   ]
  },
  {
   "cell_type": "code",
   "execution_count": 15,
   "metadata": {
    "collapsed": false
   },
   "outputs": [
    {
     "data": {
      "image/png": "[encoded data removed]",
      "text/plain": [
       "<matplotlib.figure.Figure at 0x7f1ad0d80ef0>"
      ]
     },
     "metadata": {},
     "output_type": "display_data"
    }
   ],
   "source": [
    "show_train_history(train_history,'acc','val_acc')"
   ]
  },
  {
   "cell_type": "code",
   "execution_count": 16,
   "metadata": {
    "collapsed": false
   },
   "outputs": [
    {
     "data": {
      "image/png": "[encoded data removed]",
      "text/plain": [
       "<matplotlib.figure.Figure at 0x7f1ad0d8f7f0>"
      ]
     },
     "metadata": {},
     "output_type": "display_data"
    }
   ],
   "source": [
    "show_train_history(train_history,'loss','val_loss')"
   ]
  },
  {
   "cell_type": "code",
   "execution_count": 17,
   "metadata": {
    "collapsed": false
   },
   "outputs": [
    {
     "name": "stdout",
     "output_type": "stream",
     "text": [
      "23918/23918 [==============================] - 2s 89us/step\n"
     ]
    }
   ],
   "source": [
    "scores = model.evaluate(x=test_Features, \n",
    "                        y=test_Label)"
   ]
  },
  {
   "cell_type": "code",
   "execution_count": 18,
   "metadata": {
    "collapsed": false
   },
   "outputs": [
    {
     "data": {
      "text/plain": [
       "0.8555481227527385"
      ]
     },
     "execution_count": 18,
     "metadata": {},
     "output_type": "execute_result"
    }
   ],
   "source": [
    "scores[1]"
   ]
  }
 ],
 "metadata": {
  "anaconda-cloud": {},
  "kernelspec": {
   "display_name": "Python [default]",
   "language": "python",
   "name": "python3"
  },
  "language_info": {
   "codemirror_mode": {
    "name": "ipython",
    "version": 3
   },
   "file_extension": ".py",
   "mimetype": "text/x-python",
   "name": "python",
   "nbconvert_exporter": "python",
   "pygments_lexer": "ipython3",
   "version": "3.5.2"
  }
 },
 "nbformat": 4,
 "nbformat_minor": 1
}
