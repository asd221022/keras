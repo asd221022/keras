{
 "cells": [
  {
   "cell_type": "code",
   "execution_count": 1,
   "metadata": {
    "collapsed": false
   },
   "outputs": [],
   "source": [
    "import numpy \n",
    "import pandas as pd\n",
    "from sklearn.preprocessing import StandardScaler\n",
    "from sklearn.model_selection import train_test_split\n",
    "numpy.random.seed(10)"
   ]
  },
  {
   "cell_type": "code",
   "execution_count": 2,
   "metadata": {
    "collapsed": false
   },
   "outputs": [],
   "source": [
    "all_df = pd.read_csv(\"data/weather.csv\")"
   ]
  },
  {
   "cell_type": "code",
   "execution_count": 3,
   "metadata": {
    "collapsed": true
   },
   "outputs": [],
   "source": [
    "all_df=all_df.drop(['RISK_MM'], axis=1)"
   ]
  },
  {
   "cell_type": "code",
   "execution_count": 4,
   "metadata": {
    "collapsed": true
   },
   "outputs": [],
   "source": [
    "X=all_df.drop(['RainTomorrow'], axis=1).values.astype('float64')"
   ]
  },
  {
   "cell_type": "code",
   "execution_count": 5,
   "metadata": {
    "collapsed": true
   },
   "outputs": [],
   "source": [
    "Y = all_df['RainTomorrow'].values.astype('int64')"
   ]
  },
  {
   "cell_type": "code",
   "execution_count": 6,
   "metadata": {
    "collapsed": false
   },
   "outputs": [
    {
     "data": {
      "text/plain": [
       "95672"
      ]
     },
     "execution_count": 6,
     "metadata": {},
     "output_type": "execute_result"
    }
   ],
   "source": [
    "X = StandardScaler().fit_transform(X)\n",
    "train_Features, test_Features, train_Label, test_Label = train_test_split(X, Y, test_size=0.2, random_state=True) \n",
    "len(train_Features)"
   ]
  },
  {
   "cell_type": "code",
   "execution_count": 7,
   "metadata": {
    "collapsed": false
   },
   "outputs": [
    {
     "data": {
      "text/plain": [
       "array([[-0.28057235, -0.88540995, -0.15604664,  0.58549966,  0.29969181,\n",
       "         0.56686938,  0.71671696,  0.24811193, -0.16280797,  0.27738035,\n",
       "        -0.47846775, -0.9189042 , -0.53271769],\n",
       "       [ 0.74023477, -0.34150784, -0.274179  ,  0.43712836,  1.89126836,\n",
       "         1.3737581 , -0.06742478,  1.02136889, -0.43047181, -0.40644069,\n",
       "         0.40533611, -0.21640785, -0.53271769]])"
      ]
     },
     "execution_count": 7,
     "metadata": {},
     "output_type": "execute_result"
    }
   ],
   "source": [
    "test_Features[:2]"
   ]
  },
  {
   "cell_type": "code",
   "execution_count": 8,
   "metadata": {
    "collapsed": false
   },
   "outputs": [
    {
     "data": {
      "text/plain": [
       "array([1, 1, 0, 1])"
      ]
     },
     "execution_count": 8,
     "metadata": {},
     "output_type": "execute_result"
    }
   ],
   "source": [
    "train_Label[:4]"
   ]
  },
  {
   "cell_type": "code",
   "execution_count": 9,
   "metadata": {
    "collapsed": false
   },
   "outputs": [
    {
     "data": {
      "text/plain": [
       "(95672, 13)"
      ]
     },
     "execution_count": 9,
     "metadata": {},
     "output_type": "execute_result"
    }
   ],
   "source": [
    "train_Features.shape"
   ]
  },
  {
   "cell_type": "code",
   "execution_count": 10,
   "metadata": {
    "collapsed": false
   },
   "outputs": [
    {
     "data": {
      "text/plain": [
       "array([1, 0, 0, 0])"
      ]
     },
     "execution_count": 10,
     "metadata": {},
     "output_type": "execute_result"
    }
   ],
   "source": [
    "test_Label[:4]"
   ]
  },
  {
   "cell_type": "code",
   "execution_count": 11,
   "metadata": {
    "collapsed": true
   },
   "outputs": [],
   "source": [
    "train_Features = train_Features.reshape((train_Features.shape[0], train_Features.shape[1], 1))"
   ]
  },
  {
   "cell_type": "code",
   "execution_count": 12,
   "metadata": {
    "collapsed": true
   },
   "outputs": [],
   "source": [
    "test_Features = test_Features.reshape((test_Features.shape[0], test_Features.shape[1], 1))"
   ]
  },
  {
   "cell_type": "code",
   "execution_count": 13,
   "metadata": {
    "collapsed": false
   },
   "outputs": [
    {
     "name": "stderr",
     "output_type": "stream",
     "text": [
      "Using TensorFlow backend.\n"
     ]
    }
   ],
   "source": [
    "from keras.models import Sequential\n",
    "from keras.layers.core import Dense, Dropout, Activation\n",
    "from keras.layers.embeddings import Embedding\n",
    "from keras.layers.recurrent import LSTM\n",
    "from keras.callbacks import EarlyStopping\n",
    "early_stopping = EarlyStopping(monitor='val_loss', patience=2)"
   ]
  },
  {
   "cell_type": "code",
   "execution_count": 14,
   "metadata": {
    "collapsed": true
   },
   "outputs": [],
   "source": [
    "model = Sequential()"
   ]
  },
  {
   "cell_type": "code",
   "execution_count": 15,
   "metadata": {
    "collapsed": false
   },
   "outputs": [],
   "source": [
    "model.add(LSTM(units=13, input_shape=(13,1)))"
   ]
  },
  {
   "cell_type": "code",
   "execution_count": 16,
   "metadata": {
    "collapsed": true
   },
   "outputs": [],
   "source": [
    "model.add(Dense(1, activation = \"sigmoid\"))"
   ]
  },
  {
   "cell_type": "code",
   "execution_count": 17,
   "metadata": {
    "collapsed": false
   },
   "outputs": [
    {
     "name": "stdout",
     "output_type": "stream",
     "text": [
      "_________________________________________________________________\n",
      "Layer (type)                 Output Shape              Param #   \n",
      "=================================================================\n",
      "lstm_1 (LSTM)                (None, 13)                780       \n",
      "_________________________________________________________________\n",
      "dense_1 (Dense)              (None, 1)                 14        \n",
      "=================================================================\n",
      "Total params: 794\n",
      "Trainable params: 794\n",
      "Non-trainable params: 0\n",
      "_________________________________________________________________\n"
     ]
    }
   ],
   "source": [
    "model.summary()"
   ]
  },
  {
   "cell_type": "code",
   "execution_count": 18,
   "metadata": {
    "collapsed": false
   },
   "outputs": [],
   "source": [
    "model.compile(loss='binary_crossentropy', \n",
    "              optimizer='adam', metrics=['accuracy'])"
   ]
  },
  {
   "cell_type": "code",
   "execution_count": 19,
   "metadata": {
    "collapsed": false
   },
   "outputs": [
    {
     "name": "stdout",
     "output_type": "stream",
     "text": [
      "Train on 86104 samples, validate on 9568 samples\n",
      "Epoch 1/30\n",
      "86104/86104 [==============================] - 5s 55us/step - loss: 0.6096 - acc: 0.7352 - val_loss: 0.5118 - val_acc: 0.7816\n",
      "Epoch 2/30\n",
      "86104/86104 [==============================] - 9s 99us/step - loss: 0.4991 - acc: 0.7857 - val_loss: 0.5001 - val_acc: 0.7829\n",
      "Epoch 3/30\n",
      "86104/86104 [==============================] - 12s 137us/step - loss: 0.4889 - acc: 0.7873 - val_loss: 0.4910 - val_acc: 0.7848\n",
      "Epoch 4/30\n",
      "86104/86104 [==============================] - 11s 124us/step - loss: 0.4803 - acc: 0.7883 - val_loss: 0.4819 - val_acc: 0.7852\n",
      "Epoch 5/30\n",
      "86104/86104 [==============================] - 11s 130us/step - loss: 0.4706 - acc: 0.7884 - val_loss: 0.4714 - val_acc: 0.7847\n",
      "Epoch 6/30\n",
      "86104/86104 [==============================] - 11s 127us/step - loss: 0.4589 - acc: 0.7877 - val_loss: 0.4597 - val_acc: 0.7849\n",
      "Epoch 7/30\n",
      "86104/86104 [==============================] - 11s 129us/step - loss: 0.4469 - acc: 0.7880 - val_loss: 0.4488 - val_acc: 0.7840\n",
      "Epoch 8/30\n",
      "86104/86104 [==============================] - 11s 133us/step - loss: 0.4377 - acc: 0.7912 - val_loss: 0.4417 - val_acc: 0.7916\n",
      "Epoch 9/30\n",
      "86104/86104 [==============================] - 13s 153us/step - loss: 0.4319 - acc: 0.8012 - val_loss: 0.4374 - val_acc: 0.8020\n",
      "Epoch 10/30\n",
      "86104/86104 [==============================] - 10s 116us/step - loss: 0.4281 - acc: 0.8070 - val_loss: 0.4336 - val_acc: 0.8075\n",
      "Epoch 11/30\n",
      "86104/86104 [==============================] - 8s 91us/step - loss: 0.4245 - acc: 0.8107 - val_loss: 0.4302 - val_acc: 0.8115\n",
      "Epoch 12/30\n",
      "86104/86104 [==============================] - 7s 83us/step - loss: 0.4210 - acc: 0.8150 - val_loss: 0.4261 - val_acc: 0.8157\n",
      "Epoch 13/30\n",
      "86104/86104 [==============================] - 6s 71us/step - loss: 0.4176 - acc: 0.8177 - val_loss: 0.4222 - val_acc: 0.8188\n",
      "Epoch 14/30\n",
      "86104/86104 [==============================] - 7s 76us/step - loss: 0.4138 - acc: 0.8207 - val_loss: 0.4175 - val_acc: 0.8191\n",
      "Epoch 15/30\n",
      "86104/86104 [==============================] - 8s 95us/step - loss: 0.4085 - acc: 0.8234 - val_loss: 0.4131 - val_acc: 0.8204\n",
      "Epoch 16/30\n",
      "86104/86104 [==============================] - 7s 82us/step - loss: 0.4039 - acc: 0.8272 - val_loss: 0.4078 - val_acc: 0.8241\n",
      "Epoch 17/30\n",
      "86104/86104 [==============================] - 7s 82us/step - loss: 0.3986 - acc: 0.8303 - val_loss: 0.4036 - val_acc: 0.8261\n",
      "Epoch 18/30\n",
      "86104/86104 [==============================] - 7s 82us/step - loss: 0.3939 - acc: 0.8327 - val_loss: 0.4019 - val_acc: 0.8312\n",
      "Epoch 19/30\n",
      "86104/86104 [==============================] - 7s 81us/step - loss: 0.3906 - acc: 0.8345 - val_loss: 0.3976 - val_acc: 0.8292\n",
      "Epoch 20/30\n",
      "86104/86104 [==============================] - 7s 82us/step - loss: 0.3880 - acc: 0.8356 - val_loss: 0.3945 - val_acc: 0.8321\n",
      "Epoch 21/30\n",
      "86104/86104 [==============================] - 7s 78us/step - loss: 0.3852 - acc: 0.8366 - val_loss: 0.3917 - val_acc: 0.8343\n",
      "Epoch 22/30\n",
      "86104/86104 [==============================] - 7s 83us/step - loss: 0.3821 - acc: 0.8382 - val_loss: 0.3899 - val_acc: 0.8340\n",
      "Epoch 23/30\n",
      "86104/86104 [==============================] - 7s 81us/step - loss: 0.3804 - acc: 0.8393 - val_loss: 0.3881 - val_acc: 0.8353\n",
      "Epoch 24/30\n",
      "86104/86104 [==============================] - 7s 80us/step - loss: 0.3780 - acc: 0.8405 - val_loss: 0.3866 - val_acc: 0.8370\n",
      "Epoch 25/30\n",
      "86104/86104 [==============================] - 7s 81us/step - loss: 0.3763 - acc: 0.8409 - val_loss: 0.3848 - val_acc: 0.8365\n",
      "Epoch 26/30\n",
      "86104/86104 [==============================] - 7s 81us/step - loss: 0.3749 - acc: 0.8419 - val_loss: 0.3830 - val_acc: 0.8373\n",
      "Epoch 27/30\n",
      "86104/86104 [==============================] - 7s 80us/step - loss: 0.3736 - acc: 0.8420 - val_loss: 0.3825 - val_acc: 0.8387\n",
      "Epoch 28/30\n",
      "86104/86104 [==============================] - 7s 82us/step - loss: 0.3723 - acc: 0.8435 - val_loss: 0.3795 - val_acc: 0.8376\n",
      "Epoch 29/30\n",
      "86104/86104 [==============================] - 7s 86us/step - loss: 0.3713 - acc: 0.8435 - val_loss: 0.3789 - val_acc: 0.8394\n",
      "Epoch 30/30\n",
      "86104/86104 [==============================] - 7s 81us/step - loss: 0.3711 - acc: 0.8427 - val_loss: 0.3779 - val_acc: 0.8358\n"
     ]
    }
   ],
   "source": [
    "train_history =model.fit(x=train_Features, \n",
    "                         y=train_Label, \n",
    "                         validation_split=0.1, \n",
    "                         epochs=30, \n",
    "                         batch_size=1500,verbose=1,callbacks=[early_stopping])"
   ]
  },
  {
   "cell_type": "code",
   "execution_count": 20,
   "metadata": {
    "collapsed": true
   },
   "outputs": [],
   "source": [
    "import matplotlib.pyplot as plt\n",
    "def show_train_history(train_history,train,validation):\n",
    "    plt.plot(train_history.history[train])\n",
    "    plt.plot(train_history.history[validation])\n",
    "    plt.title('Train History')\n",
    "    plt.ylabel(train)\n",
    "    plt.xlabel('Epoch')\n",
    "    plt.legend(['train', 'validation'], loc='upper left')\n",
    "    plt.show()"
   ]
  },
  {
   "cell_type": "code",
   "execution_count": 21,
   "metadata": {
    "collapsed": false
   },
   "outputs": [
    {
     "data": {
      "image/png": "[encoded data removed]",
      "text/plain": [
       "<matplotlib.figure.Figure at 0x7fc3f56c4d30>"
      ]
     },
     "metadata": {},
     "output_type": "display_data"
    }
   ],
   "source": [
    "show_train_history(train_history,'acc','val_acc')"
   ]
  },
  {
   "cell_type": "code",
   "execution_count": 22,
   "metadata": {
    "collapsed": false
   },
   "outputs": [
    {
     "data": {
      "image/png": "[encoded data removed]",
      "text/plain": [
       "<matplotlib.figure.Figure at 0x7fc3f56c4e10>"
      ]
     },
     "metadata": {},
     "output_type": "display_data"
    }
   ],
   "source": [
    "show_train_history(train_history,'loss','val_loss')"
   ]
  },
  {
   "cell_type": "code",
   "execution_count": 23,
   "metadata": {
    "collapsed": false
   },
   "outputs": [
    {
     "name": "stdout",
     "output_type": "stream",
     "text": [
      "23918/23918 [==============================] - 2s 102us/step\n"
     ]
    }
   ],
   "source": [
    "scores = model.evaluate(x=test_Features, \n",
    "                        y=test_Label)"
   ]
  },
  {
   "cell_type": "code",
   "execution_count": 24,
   "metadata": {
    "collapsed": false
   },
   "outputs": [
    {
     "data": {
      "text/plain": [
       "0.8424617442930011"
      ]
     },
     "execution_count": 24,
     "metadata": {},
     "output_type": "execute_result"
    }
   ],
   "source": [
    "scores[1]"
   ]
  }
 ],
 "metadata": {
  "anaconda-cloud": {},
  "kernelspec": {
   "display_name": "Python [default]",
   "language": "python",
   "name": "python3"
  },
  "language_info": {
   "codemirror_mode": {
    "name": "ipython",
    "version": 3
   },
   "file_extension": ".py",
   "mimetype": "text/x-python",
   "name": "python",
   "nbconvert_exporter": "python",
   "pygments_lexer": "ipython3",
   "version": "3.5.2"
  }
 },
 "nbformat": 4,
 "nbformat_minor": 1
}
