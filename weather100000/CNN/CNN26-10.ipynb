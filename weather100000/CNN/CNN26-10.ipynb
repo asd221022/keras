{
 "cells": [
  {
   "cell_type": "code",
   "execution_count": 1,
   "metadata": {
    "collapsed": false
   },
   "outputs": [],
   "source": [
    "import numpy \n",
    "import pandas as pd\n",
    "from sklearn.preprocessing import StandardScaler\n",
    "from sklearn.model_selection import train_test_split\n",
    "numpy.random.seed(10)"
   ]
  },
  {
   "cell_type": "code",
   "execution_count": 2,
   "metadata": {
    "collapsed": false
   },
   "outputs": [],
   "source": [
    "all_df = pd.read_csv(\"weather.csv\")"
   ]
  },
  {
   "cell_type": "code",
   "execution_count": 3,
   "metadata": {
    "collapsed": true
   },
   "outputs": [],
   "source": [
    "all_df=all_df.drop(['RISK_MM'], axis=1)"
   ]
  },
  {
   "cell_type": "code",
   "execution_count": 4,
   "metadata": {
    "collapsed": true
   },
   "outputs": [],
   "source": [
    "X=all_df.drop(['RainTomorrow'], axis=1).values.astype('float64')"
   ]
  },
  {
   "cell_type": "code",
   "execution_count": 5,
   "metadata": {
    "collapsed": true
   },
   "outputs": [],
   "source": [
    "Y = all_df['RainTomorrow'].values.astype('int64')"
   ]
  },
  {
   "cell_type": "code",
   "execution_count": 6,
   "metadata": {
    "collapsed": false
   },
   "outputs": [
    {
     "data": {
      "text/plain": [
       "95672"
      ]
     },
     "execution_count": 6,
     "metadata": {},
     "output_type": "execute_result"
    }
   ],
   "source": [
    "X = StandardScaler().fit_transform(X)\n",
    "train_Features, test_Features, train_Label, test_Label = train_test_split(X, Y, test_size=0.2, random_state=True) \n",
    "len(train_Features)"
   ]
  },
  {
   "cell_type": "code",
   "execution_count": 7,
   "metadata": {
    "collapsed": false
   },
   "outputs": [
    {
     "data": {
      "text/plain": [
       "array([[-0.28057235, -0.88540995, -0.15604664,  0.58549966,  0.29969181,\n",
       "         0.56686938,  0.71671696,  0.24811193, -0.16280797,  0.27738035,\n",
       "        -0.47846775, -0.9189042 , -0.53271769],\n",
       "       [ 0.74023477, -0.34150784, -0.274179  ,  0.43712836,  1.89126836,\n",
       "         1.3737581 , -0.06742478,  1.02136889, -0.43047181, -0.40644069,\n",
       "         0.40533611, -0.21640785, -0.53271769]])"
      ]
     },
     "execution_count": 7,
     "metadata": {},
     "output_type": "execute_result"
    }
   ],
   "source": [
    "test_Features[:2]"
   ]
  },
  {
   "cell_type": "code",
   "execution_count": 8,
   "metadata": {
    "collapsed": false
   },
   "outputs": [
    {
     "data": {
      "text/plain": [
       "array([1, 1, 0, 1])"
      ]
     },
     "execution_count": 8,
     "metadata": {},
     "output_type": "execute_result"
    }
   ],
   "source": [
    "train_Label[:4]"
   ]
  },
  {
   "cell_type": "code",
   "execution_count": 9,
   "metadata": {
    "collapsed": false
   },
   "outputs": [
    {
     "data": {
      "text/plain": [
       "(95672, 13)"
      ]
     },
     "execution_count": 9,
     "metadata": {},
     "output_type": "execute_result"
    }
   ],
   "source": [
    "train_Features.shape"
   ]
  },
  {
   "cell_type": "code",
   "execution_count": 10,
   "metadata": {
    "collapsed": false
   },
   "outputs": [
    {
     "data": {
      "text/plain": [
       "array([1, 0, 0, 0])"
      ]
     },
     "execution_count": 10,
     "metadata": {},
     "output_type": "execute_result"
    }
   ],
   "source": [
    "test_Label[:4]"
   ]
  },
  {
   "cell_type": "code",
   "execution_count": 11,
   "metadata": {
    "collapsed": true
   },
   "outputs": [],
   "source": [
    "train_Features = train_Features.reshape((train_Features.shape[0], train_Features.shape[1], 1))"
   ]
  },
  {
   "cell_type": "code",
   "execution_count": 12,
   "metadata": {
    "collapsed": true
   },
   "outputs": [],
   "source": [
    "test_Features = test_Features.reshape((test_Features.shape[0], test_Features.shape[1], 1))"
   ]
  },
  {
   "cell_type": "code",
   "execution_count": 13,
   "metadata": {
    "collapsed": false
   },
   "outputs": [
    {
     "name": "stderr",
     "output_type": "stream",
     "text": [
      "Using TensorFlow backend.\n"
     ]
    }
   ],
   "source": [
    "from keras.models import Sequential\n",
    "from keras.layers import Dense,Dropout,Flatten,Conv1D,MaxPooling1D\n",
    "from keras.layers.embeddings import Embedding\n",
    "from keras.callbacks import EarlyStopping\n",
    "early_stopping = EarlyStopping(monitor='val_loss', patience=2)"
   ]
  },
  {
   "cell_type": "code",
   "execution_count": 14,
   "metadata": {
    "collapsed": true
   },
   "outputs": [],
   "source": [
    "model = Sequential()"
   ]
  },
  {
   "cell_type": "code",
   "execution_count": 15,
   "metadata": {
    "collapsed": true
   },
   "outputs": [],
   "source": [
    "model.add(Conv1D(filters=13*10,\n",
    "                 kernel_size=1,\n",
    "                 padding='valid',  \n",
    "                 input_shape=(13,1),\n",
    "                 activation='relu'))"
   ]
  },
  {
   "cell_type": "code",
   "execution_count": 16,
   "metadata": {
    "collapsed": true
   },
   "outputs": [],
   "source": [
    "model.add(MaxPooling1D(pool_size=1))"
   ]
  },
  {
   "cell_type": "code",
   "execution_count": 17,
   "metadata": {
    "collapsed": true
   },
   "outputs": [],
   "source": [
    "model.add(Conv1D(filters=13*9,\n",
    "                 kernel_size=1,\n",
    "                 padding='valid',  \n",
    "                 activation='relu'))"
   ]
  },
  {
   "cell_type": "code",
   "execution_count": 18,
   "metadata": {
    "collapsed": true
   },
   "outputs": [],
   "source": [
    "model.add(MaxPooling1D(pool_size=1))"
   ]
  },
  {
   "cell_type": "code",
   "execution_count": 19,
   "metadata": {
    "collapsed": true
   },
   "outputs": [],
   "source": [
    "model.add(Conv1D(filters=13*8,\n",
    "                 kernel_size=1,\n",
    "                 padding='valid',  \n",
    "                 activation='relu'))"
   ]
  },
  {
   "cell_type": "code",
   "execution_count": 20,
   "metadata": {
    "collapsed": true
   },
   "outputs": [],
   "source": [
    "model.add(MaxPooling1D(pool_size=1))"
   ]
  },
  {
   "cell_type": "code",
   "execution_count": 21,
   "metadata": {
    "collapsed": true
   },
   "outputs": [],
   "source": [
    "model.add(Conv1D(filters=13*7,\n",
    "                 kernel_size=1,\n",
    "                 padding='valid',  \n",
    "                 activation='relu'))"
   ]
  },
  {
   "cell_type": "code",
   "execution_count": 22,
   "metadata": {
    "collapsed": true
   },
   "outputs": [],
   "source": [
    "model.add(MaxPooling1D(pool_size=1))"
   ]
  },
  {
   "cell_type": "code",
   "execution_count": 23,
   "metadata": {
    "collapsed": true
   },
   "outputs": [],
   "source": [
    "model.add(Conv1D(filters=13*6,\n",
    "                 kernel_size=1,\n",
    "                 padding='valid',  \n",
    "                 activation='relu'))"
   ]
  },
  {
   "cell_type": "code",
   "execution_count": 24,
   "metadata": {
    "collapsed": true
   },
   "outputs": [],
   "source": [
    "model.add(MaxPooling1D(pool_size=1))"
   ]
  },
  {
   "cell_type": "code",
   "execution_count": 25,
   "metadata": {
    "collapsed": true
   },
   "outputs": [],
   "source": [
    "model.add(Conv1D(filters=13*5,\n",
    "                 kernel_size=1,\n",
    "                 padding='valid',  \n",
    "                 activation='relu'))"
   ]
  },
  {
   "cell_type": "code",
   "execution_count": 26,
   "metadata": {
    "collapsed": true
   },
   "outputs": [],
   "source": [
    "model.add(MaxPooling1D(pool_size=1))"
   ]
  },
  {
   "cell_type": "code",
   "execution_count": 27,
   "metadata": {
    "collapsed": true
   },
   "outputs": [],
   "source": [
    "model.add(Conv1D(filters=13*4,\n",
    "                 kernel_size=1,\n",
    "                 padding='valid',  \n",
    "                 activation='relu'))"
   ]
  },
  {
   "cell_type": "code",
   "execution_count": 28,
   "metadata": {
    "collapsed": true
   },
   "outputs": [],
   "source": [
    "model.add(MaxPooling1D(pool_size=1))"
   ]
  },
  {
   "cell_type": "code",
   "execution_count": 29,
   "metadata": {
    "collapsed": true
   },
   "outputs": [],
   "source": [
    "model.add(Conv1D(filters=13*3,\n",
    "                 kernel_size=1,\n",
    "                 padding='valid',  \n",
    "                 activation='relu'))"
   ]
  },
  {
   "cell_type": "code",
   "execution_count": 30,
   "metadata": {
    "collapsed": true
   },
   "outputs": [],
   "source": [
    "model.add(MaxPooling1D(pool_size=1))"
   ]
  },
  {
   "cell_type": "code",
   "execution_count": 31,
   "metadata": {
    "collapsed": true
   },
   "outputs": [],
   "source": [
    "model.add(Conv1D(filters=13*2,\n",
    "                 kernel_size=1,\n",
    "                 padding='valid',  \n",
    "                 activation='relu'))"
   ]
  },
  {
   "cell_type": "code",
   "execution_count": 32,
   "metadata": {
    "collapsed": true
   },
   "outputs": [],
   "source": [
    "model.add(MaxPooling1D(pool_size=1))"
   ]
  },
  {
   "cell_type": "code",
   "execution_count": 33,
   "metadata": {
    "collapsed": false
   },
   "outputs": [],
   "source": [
    "model.add(Conv1D(filters=13,\n",
    "                 kernel_size=1,\n",
    "                 padding='valid',  \n",
    "                 activation='relu'))"
   ]
  },
  {
   "cell_type": "code",
   "execution_count": 34,
   "metadata": {
    "collapsed": true
   },
   "outputs": [],
   "source": [
    "model.add(MaxPooling1D(pool_size=1))"
   ]
  },
  {
   "cell_type": "code",
   "execution_count": 35,
   "metadata": {
    "collapsed": true
   },
   "outputs": [],
   "source": [
    "model.add(Flatten())"
   ]
  },
  {
   "cell_type": "code",
   "execution_count": 36,
   "metadata": {
    "collapsed": true
   },
   "outputs": [],
   "source": [
    "model.add(Dense(13, activation='tanh'))"
   ]
  },
  {
   "cell_type": "code",
   "execution_count": 37,
   "metadata": {
    "collapsed": true
   },
   "outputs": [],
   "source": [
    "model.add(Dense(1,activation='sigmoid'))"
   ]
  },
  {
   "cell_type": "code",
   "execution_count": 38,
   "metadata": {
    "collapsed": false
   },
   "outputs": [
    {
     "name": "stdout",
     "output_type": "stream",
     "text": [
      "_________________________________________________________________\n",
      "Layer (type)                 Output Shape              Param #   \n",
      "=================================================================\n",
      "conv1d_1 (Conv1D)            (None, 13, 130)           260       \n",
      "_________________________________________________________________\n",
      "max_pooling1d_1 (MaxPooling1 (None, 13, 130)           0         \n",
      "_________________________________________________________________\n",
      "conv1d_2 (Conv1D)            (None, 13, 117)           15327     \n",
      "_________________________________________________________________\n",
      "max_pooling1d_2 (MaxPooling1 (None, 13, 117)           0         \n",
      "_________________________________________________________________\n",
      "conv1d_3 (Conv1D)            (None, 13, 104)           12272     \n",
      "_________________________________________________________________\n",
      "max_pooling1d_3 (MaxPooling1 (None, 13, 104)           0         \n",
      "_________________________________________________________________\n",
      "conv1d_4 (Conv1D)            (None, 13, 91)            9555      \n",
      "_________________________________________________________________\n",
      "max_pooling1d_4 (MaxPooling1 (None, 13, 91)            0         \n",
      "_________________________________________________________________\n",
      "conv1d_5 (Conv1D)            (None, 13, 78)            7176      \n",
      "_________________________________________________________________\n",
      "max_pooling1d_5 (MaxPooling1 (None, 13, 78)            0         \n",
      "_________________________________________________________________\n",
      "conv1d_6 (Conv1D)            (None, 13, 65)            5135      \n",
      "_________________________________________________________________\n",
      "max_pooling1d_6 (MaxPooling1 (None, 13, 65)            0         \n",
      "_________________________________________________________________\n",
      "conv1d_7 (Conv1D)            (None, 13, 52)            3432      \n",
      "_________________________________________________________________\n",
      "max_pooling1d_7 (MaxPooling1 (None, 13, 52)            0         \n",
      "_________________________________________________________________\n",
      "conv1d_8 (Conv1D)            (None, 13, 39)            2067      \n",
      "_________________________________________________________________\n",
      "max_pooling1d_8 (MaxPooling1 (None, 13, 39)            0         \n",
      "_________________________________________________________________\n",
      "conv1d_9 (Conv1D)            (None, 13, 26)            1040      \n",
      "_________________________________________________________________\n",
      "max_pooling1d_9 (MaxPooling1 (None, 13, 26)            0         \n",
      "_________________________________________________________________\n",
      "conv1d_10 (Conv1D)           (None, 13, 13)            351       \n",
      "_________________________________________________________________\n",
      "max_pooling1d_10 (MaxPooling (None, 13, 13)            0         \n",
      "_________________________________________________________________\n",
      "flatten_1 (Flatten)          (None, 169)               0         \n",
      "_________________________________________________________________\n",
      "dense_1 (Dense)              (None, 13)                2210      \n",
      "_________________________________________________________________\n",
      "dense_2 (Dense)              (None, 1)                 14        \n",
      "=================================================================\n",
      "Total params: 58,839\n",
      "Trainable params: 58,839\n",
      "Non-trainable params: 0\n",
      "_________________________________________________________________\n"
     ]
    }
   ],
   "source": [
    "model.summary()"
   ]
  },
  {
   "cell_type": "code",
   "execution_count": 39,
   "metadata": {
    "collapsed": false
   },
   "outputs": [],
   "source": [
    "model.compile(loss='binary_crossentropy', \n",
    "              optimizer='adam', metrics=['accuracy'])"
   ]
  },
  {
   "cell_type": "code",
   "execution_count": 40,
   "metadata": {
    "collapsed": false
   },
   "outputs": [
    {
     "name": "stdout",
     "output_type": "stream",
     "text": [
      "Train on 76537 samples, validate on 19135 samples\n",
      "Epoch 1/30\n",
      "76537/76537 [==============================] - 79s 1ms/step - loss: 0.5313 - acc: 0.7791 - val_loss: 0.3887 - val_acc: 0.8293\n",
      "Epoch 2/30\n",
      "76537/76537 [==============================] - 69s 902us/step - loss: 0.3711 - acc: 0.8417 - val_loss: 0.3667 - val_acc: 0.8406\n",
      "Epoch 3/30\n",
      "76537/76537 [==============================] - 69s 908us/step - loss: 0.3578 - acc: 0.8492 - val_loss: 0.3667 - val_acc: 0.8443\n",
      "Epoch 4/30\n",
      "76537/76537 [==============================] - 73s 956us/step - loss: 0.3561 - acc: 0.8493 - val_loss: 0.3636 - val_acc: 0.8475\n",
      "Epoch 5/30\n",
      "76537/76537 [==============================] - 78s 1ms/step - loss: 0.3530 - acc: 0.8504 - val_loss: 0.3545 - val_acc: 0.8489\n",
      "Epoch 6/30\n",
      "76537/76537 [==============================] - 97s 1ms/step - loss: 0.3496 - acc: 0.8525 - val_loss: 0.3509 - val_acc: 0.8522\n",
      "Epoch 7/30\n",
      "76537/76537 [==============================] - 109s 1ms/step - loss: 0.3476 - acc: 0.8533 - val_loss: 0.3521 - val_acc: 0.8494\n",
      "Epoch 8/30\n",
      "76537/76537 [==============================] - 79s 1ms/step - loss: 0.3468 - acc: 0.8527 - val_loss: 0.3488 - val_acc: 0.8506\n",
      "Epoch 9/30\n",
      "76537/76537 [==============================] - 79s 1ms/step - loss: 0.3448 - acc: 0.8535 - val_loss: 0.3508 - val_acc: 0.8509\n",
      "Epoch 10/30\n",
      "76537/76537 [==============================] - 87s 1ms/step - loss: 0.3455 - acc: 0.8535 - val_loss: 0.3469 - val_acc: 0.8515\n",
      "Epoch 11/30\n",
      "76537/76537 [==============================] - 105s 1ms/step - loss: 0.3437 - acc: 0.8540 - val_loss: 0.3457 - val_acc: 0.8525\n",
      "Epoch 12/30\n",
      "76537/76537 [==============================] - 77s 1ms/step - loss: 0.3432 - acc: 0.8535 - val_loss: 0.3456 - val_acc: 0.8524\n",
      "Epoch 13/30\n",
      "76537/76537 [==============================] - 42s 553us/step - loss: 0.3425 - acc: 0.8541 - val_loss: 0.3448 - val_acc: 0.8526\n",
      "Epoch 14/30\n",
      "76537/76537 [==============================] - 92s 1ms/step - loss: 0.3421 - acc: 0.8542 - val_loss: 0.3446 - val_acc: 0.8531\n",
      "Epoch 15/30\n",
      "76537/76537 [==============================] - 101s 1ms/step - loss: 0.3422 - acc: 0.8541 - val_loss: 0.3428 - val_acc: 0.8541\n",
      "Epoch 16/30\n",
      "76537/76537 [==============================] - 100s 1ms/step - loss: 0.3415 - acc: 0.8544 - val_loss: 0.3436 - val_acc: 0.8532\n",
      "Epoch 17/30\n",
      "76537/76537 [==============================] - 101s 1ms/step - loss: 0.3404 - acc: 0.8554 - val_loss: 0.3424 - val_acc: 0.8546\n",
      "Epoch 18/30\n",
      "76537/76537 [==============================] - 101s 1ms/step - loss: 0.3399 - acc: 0.8557 - val_loss: 0.3460 - val_acc: 0.8511\n",
      "Epoch 19/30\n",
      "76537/76537 [==============================] - 100s 1ms/step - loss: 0.3412 - acc: 0.8546 - val_loss: 0.3501 - val_acc: 0.8492\n"
     ]
    }
   ],
   "source": [
    "train_history =model.fit(x=train_Features, \n",
    "                         y=train_Label, \n",
    "                         validation_split=0.2, \n",
    "                         epochs=30, \n",
    "                         batch_size=1500,verbose=1,callbacks=[early_stopping])"
   ]
  },
  {
   "cell_type": "code",
   "execution_count": 41,
   "metadata": {
    "collapsed": true
   },
   "outputs": [],
   "source": [
    "import matplotlib.pyplot as plt\n",
    "def show_train_history(train_history,train,validation):\n",
    "    plt.plot(train_history.history[train])\n",
    "    plt.plot(train_history.history[validation])\n",
    "    plt.title('Train History')\n",
    "    plt.ylabel(train)\n",
    "    plt.xlabel('Epoch')\n",
    "    plt.legend(['train', 'validation'], loc='upper left')\n",
    "    plt.show()"
   ]
  },
  {
   "cell_type": "code",
   "execution_count": 42,
   "metadata": {
    "collapsed": false
   },
   "outputs": [
    {
     "data": {
      "image/png": "[encoded data removed]",
      "text/plain": [
       "<matplotlib.figure.Figure at 0x7fef54960940>"
      ]
     },
     "metadata": {},
     "output_type": "display_data"
    }
   ],
   "source": [
    "show_train_history(train_history,'acc','val_acc')"
   ]
  },
  {
   "cell_type": "code",
   "execution_count": 43,
   "metadata": {
    "collapsed": false
   },
   "outputs": [
    {
     "data": {
      "image/png": "[encoded data removed]",
      "text/plain": [
       "<matplotlib.figure.Figure at 0x7fef548cc710>"
      ]
     },
     "metadata": {},
     "output_type": "display_data"
    }
   ],
   "source": [
    "show_train_history(train_history,'loss','val_loss')"
   ]
  },
  {
   "cell_type": "code",
   "execution_count": 44,
   "metadata": {
    "collapsed": false
   },
   "outputs": [
    {
     "name": "stdout",
     "output_type": "stream",
     "text": [
      "23918/23918 [==============================] - 6s 261us/step\n"
     ]
    }
   ],
   "source": [
    "scores = model.evaluate(x=test_Features, \n",
    "                        y=test_Label)"
   ]
  },
  {
   "cell_type": "code",
   "execution_count": 45,
   "metadata": {
    "collapsed": false
   },
   "outputs": [
    {
     "data": {
      "text/plain": [
       "0.8530395517870378"
      ]
     },
     "execution_count": 45,
     "metadata": {},
     "output_type": "execute_result"
    }
   ],
   "source": [
    "scores[1]"
   ]
  }
 ],
 "metadata": {
  "anaconda-cloud": {},
  "kernelspec": {
   "display_name": "Python [default]",
   "language": "python",
   "name": "python3"
  },
  "language_info": {
   "codemirror_mode": {
    "name": "ipython",
    "version": 3
   },
   "file_extension": ".py",
   "mimetype": "text/x-python",
   "name": "python",
   "nbconvert_exporter": "python",
   "pygments_lexer": "ipython3",
   "version": "3.5.2"
  }
 },
 "nbformat": 4,
 "nbformat_minor": 1
}
