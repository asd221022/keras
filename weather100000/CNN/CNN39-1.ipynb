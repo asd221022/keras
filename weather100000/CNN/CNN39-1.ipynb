{
 "cells": [
  {
   "cell_type": "code",
   "execution_count": 1,
   "metadata": {
    "collapsed": false
   },
   "outputs": [],
   "source": [
    "import numpy \n",
    "import pandas as pd\n",
    "from sklearn.preprocessing import StandardScaler\n",
    "from sklearn.model_selection import train_test_split\n",
    "numpy.random.seed(10)"
   ]
  },
  {
   "cell_type": "code",
   "execution_count": 2,
   "metadata": {
    "collapsed": false
   },
   "outputs": [],
   "source": [
    "all_df = pd.read_csv(\"weather.csv\")"
   ]
  },
  {
   "cell_type": "code",
   "execution_count": 3,
   "metadata": {
    "collapsed": true
   },
   "outputs": [],
   "source": [
    "all_df=all_df.drop(['RISK_MM'], axis=1)"
   ]
  },
  {
   "cell_type": "code",
   "execution_count": 4,
   "metadata": {
    "collapsed": true
   },
   "outputs": [],
   "source": [
    "X=all_df.drop(['RainTomorrow'], axis=1).values.astype('float64')"
   ]
  },
  {
   "cell_type": "code",
   "execution_count": 5,
   "metadata": {
    "collapsed": true
   },
   "outputs": [],
   "source": [
    "Y = all_df['RainTomorrow'].values.astype('int64')"
   ]
  },
  {
   "cell_type": "code",
   "execution_count": 6,
   "metadata": {
    "collapsed": false
   },
   "outputs": [
    {
     "data": {
      "text/plain": [
       "95672"
      ]
     },
     "execution_count": 6,
     "metadata": {},
     "output_type": "execute_result"
    }
   ],
   "source": [
    "X = StandardScaler().fit_transform(X)\n",
    "train_Features, test_Features, train_Label, test_Label = train_test_split(X, Y, test_size=0.2, random_state=True) \n",
    "len(train_Features)"
   ]
  },
  {
   "cell_type": "code",
   "execution_count": 7,
   "metadata": {
    "collapsed": false
   },
   "outputs": [
    {
     "data": {
      "text/plain": [
       "array([[-0.28057235, -0.88540995, -0.15604664,  0.58549966,  0.29969181,\n",
       "         0.56686938,  0.71671696,  0.24811193, -0.16280797,  0.27738035,\n",
       "        -0.47846775, -0.9189042 , -0.53271769],\n",
       "       [ 0.74023477, -0.34150784, -0.274179  ,  0.43712836,  1.89126836,\n",
       "         1.3737581 , -0.06742478,  1.02136889, -0.43047181, -0.40644069,\n",
       "         0.40533611, -0.21640785, -0.53271769]])"
      ]
     },
     "execution_count": 7,
     "metadata": {},
     "output_type": "execute_result"
    }
   ],
   "source": [
    "test_Features[:2]"
   ]
  },
  {
   "cell_type": "code",
   "execution_count": 8,
   "metadata": {
    "collapsed": false
   },
   "outputs": [
    {
     "data": {
      "text/plain": [
       "array([1, 1, 0, 1])"
      ]
     },
     "execution_count": 8,
     "metadata": {},
     "output_type": "execute_result"
    }
   ],
   "source": [
    "train_Label[:4]"
   ]
  },
  {
   "cell_type": "code",
   "execution_count": 9,
   "metadata": {
    "collapsed": false
   },
   "outputs": [
    {
     "data": {
      "text/plain": [
       "(95672, 13)"
      ]
     },
     "execution_count": 9,
     "metadata": {},
     "output_type": "execute_result"
    }
   ],
   "source": [
    "train_Features.shape"
   ]
  },
  {
   "cell_type": "code",
   "execution_count": 10,
   "metadata": {
    "collapsed": false
   },
   "outputs": [
    {
     "data": {
      "text/plain": [
       "array([1, 0, 0, 0])"
      ]
     },
     "execution_count": 10,
     "metadata": {},
     "output_type": "execute_result"
    }
   ],
   "source": [
    "test_Label[:4]"
   ]
  },
  {
   "cell_type": "code",
   "execution_count": 11,
   "metadata": {
    "collapsed": true
   },
   "outputs": [],
   "source": [
    "train_Features = train_Features.reshape((train_Features.shape[0], train_Features.shape[1], 1))"
   ]
  },
  {
   "cell_type": "code",
   "execution_count": 12,
   "metadata": {
    "collapsed": true
   },
   "outputs": [],
   "source": [
    "test_Features = test_Features.reshape((test_Features.shape[0], test_Features.shape[1], 1))"
   ]
  },
  {
   "cell_type": "code",
   "execution_count": 13,
   "metadata": {
    "collapsed": false
   },
   "outputs": [
    {
     "name": "stderr",
     "output_type": "stream",
     "text": [
      "Using TensorFlow backend.\n"
     ]
    }
   ],
   "source": [
    "from keras.models import Sequential\n",
    "from keras.layers import Dense,Dropout,Flatten,Conv1D,MaxPooling1D\n",
    "from keras.layers.embeddings import Embedding\n",
    "from keras.callbacks import EarlyStopping\n",
    "early_stopping = EarlyStopping(monitor='val_loss', patience=2)"
   ]
  },
  {
   "cell_type": "code",
   "execution_count": 14,
   "metadata": {
    "collapsed": true
   },
   "outputs": [],
   "source": [
    "model = Sequential()"
   ]
  },
  {
   "cell_type": "code",
   "execution_count": 15,
   "metadata": {
    "collapsed": false
   },
   "outputs": [],
   "source": [
    "model.add(Conv1D(filters=13,\n",
    "                 kernel_size=1,\n",
    "                 padding='valid',  \n",
    "                 input_shape=(13,1),\n",
    "                 activation='relu'))"
   ]
  },
  {
   "cell_type": "code",
   "execution_count": 16,
   "metadata": {
    "collapsed": true
   },
   "outputs": [],
   "source": [
    "model.add(MaxPooling1D(pool_size=1))"
   ]
  },
  {
   "cell_type": "code",
   "execution_count": 17,
   "metadata": {
    "collapsed": true
   },
   "outputs": [],
   "source": [
    "model.add(Flatten())"
   ]
  },
  {
   "cell_type": "code",
   "execution_count": 18,
   "metadata": {
    "collapsed": true
   },
   "outputs": [],
   "source": [
    "model.add(Dense(13, activation='tanh'))"
   ]
  },
  {
   "cell_type": "code",
   "execution_count": 19,
   "metadata": {
    "collapsed": true
   },
   "outputs": [],
   "source": [
    "model.add(Dense(1,activation='sigmoid'))"
   ]
  },
  {
   "cell_type": "code",
   "execution_count": 20,
   "metadata": {
    "collapsed": false
   },
   "outputs": [
    {
     "name": "stdout",
     "output_type": "stream",
     "text": [
      "_________________________________________________________________\n",
      "Layer (type)                 Output Shape              Param #   \n",
      "=================================================================\n",
      "conv1d_1 (Conv1D)            (None, 13, 13)            26        \n",
      "_________________________________________________________________\n",
      "max_pooling1d_1 (MaxPooling1 (None, 13, 13)            0         \n",
      "_________________________________________________________________\n",
      "flatten_1 (Flatten)          (None, 169)               0         \n",
      "_________________________________________________________________\n",
      "dense_1 (Dense)              (None, 13)                2210      \n",
      "_________________________________________________________________\n",
      "dense_2 (Dense)              (None, 1)                 14        \n",
      "=================================================================\n",
      "Total params: 2,250\n",
      "Trainable params: 2,250\n",
      "Non-trainable params: 0\n",
      "_________________________________________________________________\n"
     ]
    }
   ],
   "source": [
    "model.summary()"
   ]
  },
  {
   "cell_type": "code",
   "execution_count": 21,
   "metadata": {
    "collapsed": false
   },
   "outputs": [],
   "source": [
    "model.compile(loss='binary_crossentropy', \n",
    "              optimizer='adam', metrics=['accuracy'])"
   ]
  },
  {
   "cell_type": "code",
   "execution_count": 22,
   "metadata": {
    "collapsed": false
   },
   "outputs": [
    {
     "name": "stdout",
     "output_type": "stream",
     "text": [
      "Train on 76537 samples, validate on 19135 samples\n",
      "Epoch 1/30\n",
      "76537/76537 [==============================] - 2s 29us/step - loss: 0.4767 - acc: 0.7883 - val_loss: 0.3989 - val_acc: 0.8241\n",
      "Epoch 2/30\n",
      "76537/76537 [==============================] - 1s 18us/step - loss: 0.3785 - acc: 0.8377 - val_loss: 0.3710 - val_acc: 0.8412\n",
      "Epoch 3/30\n",
      "76537/76537 [==============================] - 1s 17us/step - loss: 0.3622 - acc: 0.8467 - val_loss: 0.3619 - val_acc: 0.8461\n",
      "Epoch 4/30\n",
      "76537/76537 [==============================] - 1s 20us/step - loss: 0.3561 - acc: 0.8493 - val_loss: 0.3578 - val_acc: 0.8485\n",
      "Epoch 5/30\n",
      "76537/76537 [==============================] - 1s 18us/step - loss: 0.3534 - acc: 0.8511 - val_loss: 0.3553 - val_acc: 0.8478\n",
      "Epoch 6/30\n",
      "76537/76537 [==============================] - 1s 19us/step - loss: 0.3515 - acc: 0.8521 - val_loss: 0.3540 - val_acc: 0.8488\n",
      "Epoch 7/30\n",
      "76537/76537 [==============================] - 2s 25us/step - loss: 0.3501 - acc: 0.8518 - val_loss: 0.3537 - val_acc: 0.8483\n",
      "Epoch 8/30\n",
      "76537/76537 [==============================] - 2s 28us/step - loss: 0.3502 - acc: 0.8512 - val_loss: 0.3519 - val_acc: 0.8490\n",
      "Epoch 9/30\n",
      "76537/76537 [==============================] - 3s 33us/step - loss: 0.3485 - acc: 0.8528 - val_loss: 0.3512 - val_acc: 0.8494\n",
      "Epoch 10/30\n",
      "76537/76537 [==============================] - 3s 34us/step - loss: 0.3480 - acc: 0.8524 - val_loss: 0.3505 - val_acc: 0.8499\n",
      "Epoch 11/30\n",
      "76537/76537 [==============================] - 3s 34us/step - loss: 0.3472 - acc: 0.8527 - val_loss: 0.3497 - val_acc: 0.8516\n",
      "Epoch 12/30\n",
      "76537/76537 [==============================] - 3s 37us/step - loss: 0.3466 - acc: 0.8524 - val_loss: 0.3506 - val_acc: 0.8492\n",
      "Epoch 13/30\n",
      "76537/76537 [==============================] - 3s 36us/step - loss: 0.3465 - acc: 0.8530 - val_loss: 0.3489 - val_acc: 0.8507\n",
      "Epoch 14/30\n",
      "76537/76537 [==============================] - 3s 34us/step - loss: 0.3457 - acc: 0.8532 - val_loss: 0.3483 - val_acc: 0.8517\n",
      "Epoch 15/30\n",
      "76537/76537 [==============================] - 3s 44us/step - loss: 0.3452 - acc: 0.8533 - val_loss: 0.3497 - val_acc: 0.8493\n",
      "Epoch 16/30\n",
      "76537/76537 [==============================] - 3s 35us/step - loss: 0.3449 - acc: 0.8532 - val_loss: 0.3474 - val_acc: 0.8523\n",
      "Epoch 17/30\n",
      "76537/76537 [==============================] - 2s 27us/step - loss: 0.3442 - acc: 0.8536 - val_loss: 0.3475 - val_acc: 0.8514\n",
      "Epoch 18/30\n",
      "76537/76537 [==============================] - 2s 26us/step - loss: 0.3440 - acc: 0.8541 - val_loss: 0.3472 - val_acc: 0.8516\n",
      "Epoch 19/30\n",
      "76537/76537 [==============================] - 2s 24us/step - loss: 0.3439 - acc: 0.8536 - val_loss: 0.3472 - val_acc: 0.8523\n",
      "Epoch 20/30\n",
      "76537/76537 [==============================] - 2s 26us/step - loss: 0.3434 - acc: 0.8537 - val_loss: 0.3465 - val_acc: 0.8517\n",
      "Epoch 21/30\n",
      "76537/76537 [==============================] - 2s 26us/step - loss: 0.3428 - acc: 0.8538 - val_loss: 0.3463 - val_acc: 0.8513\n",
      "Epoch 22/30\n",
      "76537/76537 [==============================] - 2s 27us/step - loss: 0.3425 - acc: 0.8543 - val_loss: 0.3462 - val_acc: 0.8530\n",
      "Epoch 23/30\n",
      "76537/76537 [==============================] - 2s 26us/step - loss: 0.3425 - acc: 0.8539 - val_loss: 0.3457 - val_acc: 0.8525\n",
      "Epoch 24/30\n",
      "76537/76537 [==============================] - 2s 25us/step - loss: 0.3419 - acc: 0.8545 - val_loss: 0.3455 - val_acc: 0.8518\n",
      "Epoch 25/30\n",
      "76537/76537 [==============================] - 2s 24us/step - loss: 0.3417 - acc: 0.8543 - val_loss: 0.3450 - val_acc: 0.8515\n",
      "Epoch 26/30\n",
      "76537/76537 [==============================] - 2s 25us/step - loss: 0.3414 - acc: 0.8551 - val_loss: 0.3447 - val_acc: 0.8524\n",
      "Epoch 27/30\n",
      "76537/76537 [==============================] - 2s 27us/step - loss: 0.3410 - acc: 0.8546 - val_loss: 0.3441 - val_acc: 0.8532\n",
      "Epoch 28/30\n",
      "76537/76537 [==============================] - 2s 24us/step - loss: 0.3408 - acc: 0.8550 - val_loss: 0.3438 - val_acc: 0.8530\n",
      "Epoch 29/30\n",
      "76537/76537 [==============================] - 2s 26us/step - loss: 0.3402 - acc: 0.8553 - val_loss: 0.3436 - val_acc: 0.8524\n",
      "Epoch 30/30\n",
      "76537/76537 [==============================] - 2s 24us/step - loss: 0.3405 - acc: 0.8546 - val_loss: 0.3438 - val_acc: 0.8522\n"
     ]
    }
   ],
   "source": [
    "train_history =model.fit(x=train_Features, \n",
    "                         y=train_Label, \n",
    "                         validation_split=0.2, \n",
    "                         epochs=30, \n",
    "                         batch_size=1500,verbose=1,callbacks=[early_stopping])"
   ]
  },
  {
   "cell_type": "code",
   "execution_count": 23,
   "metadata": {
    "collapsed": true
   },
   "outputs": [],
   "source": [
    "import matplotlib.pyplot as plt\n",
    "def show_train_history(train_history,train,validation):\n",
    "    plt.plot(train_history.history[train])\n",
    "    plt.plot(train_history.history[validation])\n",
    "    plt.title('Train History')\n",
    "    plt.ylabel(train)\n",
    "    plt.xlabel('Epoch')\n",
    "    plt.legend(['train', 'validation'], loc='upper left')\n",
    "    plt.show()"
   ]
  },
  {
   "cell_type": "code",
   "execution_count": 24,
   "metadata": {
    "collapsed": false
   },
   "outputs": [
    {
     "data": {
      "image/png": "[encoded data removed]",
      "text/plain": [
       "<matplotlib.figure.Figure at 0x7f6764b3f470>"
      ]
     },
     "metadata": {},
     "output_type": "display_data"
    }
   ],
   "source": [
    "show_train_history(train_history,'acc','val_acc')"
   ]
  },
  {
   "cell_type": "code",
   "execution_count": 25,
   "metadata": {
    "collapsed": false
   },
   "outputs": [
    {
     "data": {
      "image/png": "[encoded data removed]",
      "text/plain": [
       "<matplotlib.figure.Figure at 0x7f6765646c88>"
      ]
     },
     "metadata": {},
     "output_type": "display_data"
    }
   ],
   "source": [
    "show_train_history(train_history,'loss','val_loss')"
   ]
  },
  {
   "cell_type": "code",
   "execution_count": 26,
   "metadata": {
    "collapsed": false
   },
   "outputs": [
    {
     "name": "stdout",
     "output_type": "stream",
     "text": [
      "23918/23918 [==============================] - 2s 98us/step\n"
     ]
    }
   ],
   "source": [
    "scores = model.evaluate(x=test_Features, \n",
    "                        y=test_Label)"
   ]
  },
  {
   "cell_type": "code",
   "execution_count": 27,
   "metadata": {
    "collapsed": false
   },
   "outputs": [
    {
     "data": {
      "text/plain": [
       "0.8535830755079856"
      ]
     },
     "execution_count": 27,
     "metadata": {},
     "output_type": "execute_result"
    }
   ],
   "source": [
    "scores[1]"
   ]
  }
 ],
 "metadata": {
  "anaconda-cloud": {},
  "kernelspec": {
   "display_name": "Python [default]",
   "language": "python",
   "name": "python3"
  },
  "language_info": {
   "codemirror_mode": {
    "name": "ipython",
    "version": 3
   },
   "file_extension": ".py",
   "mimetype": "text/x-python",
   "name": "python",
   "nbconvert_exporter": "python",
   "pygments_lexer": "ipython3",
   "version": "3.5.2"
  }
 },
 "nbformat": 4,
 "nbformat_minor": 1
}
