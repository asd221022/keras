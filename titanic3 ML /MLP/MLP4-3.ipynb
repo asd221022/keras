{
 "cells": [
  {
   "cell_type": "code",
   "execution_count": 1,
   "metadata": {
    "collapsed": false,
    "slideshow": {
     "slide_type": "-"
    }
   },
   "outputs": [],
   "source": [
    "import numpy\n",
    "import pandas as pd\n",
    "from sklearn.preprocessing import StandardScaler\n",
    "from sklearn.model_selection import train_test_split\n",
    "numpy.random.seed(10)"
   ]
  },
  {
   "cell_type": "code",
   "execution_count": 2,
   "metadata": {
    "collapsed": true
   },
   "outputs": [],
   "source": [
    "all_df = pd.read_csv(\"titanic.csv\")"
   ]
  },
  {
   "cell_type": "code",
   "execution_count": 3,
   "metadata": {
    "collapsed": false
   },
   "outputs": [],
   "source": [
    "cols=['survived','pclass' ,'sex', 'age',\n",
    "       'fare',]\n",
    "df=all_df[cols]\n",
    "df.isnull().sum()\n",
    "df=df.values"
   ]
  },
  {
   "cell_type": "code",
   "execution_count": 4,
   "metadata": {
    "collapsed": true
   },
   "outputs": [],
   "source": [
    "X = df[:,1:]\n",
    "Y = df[:,0]"
   ]
  },
  {
   "cell_type": "code",
   "execution_count": 5,
   "metadata": {
    "collapsed": false
   },
   "outputs": [],
   "source": [
    "X = StandardScaler().fit_transform(X)\n",
    "train_Features, test_Features, train_Label, test_Label = train_test_split(X, Y, test_size=0.2, random_state=True) "
   ]
  },
  {
   "cell_type": "code",
   "execution_count": 6,
   "metadata": {
    "collapsed": false
   },
   "outputs": [
    {
     "name": "stderr",
     "output_type": "stream",
     "text": [
      "Using TensorFlow backend.\n"
     ]
    }
   ],
   "source": [
    "from keras.models import Sequential\n",
    "from keras.layers import Dense,Dropout\n",
    "from keras.callbacks import EarlyStopping\n",
    "early_stopping = EarlyStopping(monitor='val_loss', patience=2)"
   ]
  },
  {
   "cell_type": "code",
   "execution_count": 7,
   "metadata": {
    "collapsed": true
   },
   "outputs": [],
   "source": [
    "model = Sequential()"
   ]
  },
  {
   "cell_type": "code",
   "execution_count": 8,
   "metadata": {
    "collapsed": true
   },
   "outputs": [],
   "source": [
    "model.add(Dense(units=4*3,input_dim=4,\n",
    "                kernel_initializer='uniform', \n",
    "                activation='relu'))"
   ]
  },
  {
   "cell_type": "code",
   "execution_count": 9,
   "metadata": {
    "collapsed": true
   },
   "outputs": [],
   "source": [
    "model.add(Dense(units=4*2,\n",
    "                kernel_initializer='uniform', \n",
    "                activation='relu'))"
   ]
  },
  {
   "cell_type": "code",
   "execution_count": 10,
   "metadata": {
    "collapsed": true
   },
   "outputs": [],
   "source": [
    "model.add(Dense(units=4,\n",
    "                kernel_initializer='uniform', \n",
    "                activation='relu'))"
   ]
  },
  {
   "cell_type": "code",
   "execution_count": 11,
   "metadata": {
    "collapsed": true
   },
   "outputs": [],
   "source": [
    "model.add(Dense(units=1, \n",
    "                kernel_initializer='uniform',\n",
    "                activation='sigmoid'))"
   ]
  },
  {
   "cell_type": "code",
   "execution_count": 12,
   "metadata": {
    "collapsed": false
   },
   "outputs": [
    {
     "name": "stdout",
     "output_type": "stream",
     "text": [
      "_________________________________________________________________\n",
      "Layer (type)                 Output Shape              Param #   \n",
      "=================================================================\n",
      "dense_1 (Dense)              (None, 12)                60        \n",
      "_________________________________________________________________\n",
      "dense_2 (Dense)              (None, 8)                 104       \n",
      "_________________________________________________________________\n",
      "dense_3 (Dense)              (None, 4)                 36        \n",
      "_________________________________________________________________\n",
      "dense_4 (Dense)              (None, 1)                 5         \n",
      "=================================================================\n",
      "Total params: 205\n",
      "Trainable params: 205\n",
      "Non-trainable params: 0\n",
      "_________________________________________________________________\n"
     ]
    }
   ],
   "source": [
    "model.summary()"
   ]
  },
  {
   "cell_type": "code",
   "execution_count": 13,
   "metadata": {
    "collapsed": true
   },
   "outputs": [],
   "source": [
    "model.compile(loss='binary_crossentropy', \n",
    "              optimizer='adam', metrics=['accuracy'])"
   ]
  },
  {
   "cell_type": "code",
   "execution_count": 14,
   "metadata": {
    "collapsed": false
   },
   "outputs": [
    {
     "name": "stdout",
     "output_type": "stream",
     "text": [
      "Train on 941 samples, validate on 105 samples\n",
      "Epoch 1/30\n",
      " - 2s - loss: 0.6920 - acc: 0.6057 - val_loss: 0.6895 - val_acc: 0.6571\n",
      "Epoch 2/30\n",
      " - 0s - loss: 0.6891 - acc: 0.6057 - val_loss: 0.6846 - val_acc: 0.6571\n",
      "Epoch 3/30\n",
      " - 0s - loss: 0.6837 - acc: 0.6057 - val_loss: 0.6759 - val_acc: 0.6571\n",
      "Epoch 4/30\n",
      " - 0s - loss: 0.6704 - acc: 0.6057 - val_loss: 0.6566 - val_acc: 0.6571\n",
      "Epoch 5/30\n",
      " - 0s - loss: 0.6432 - acc: 0.6057 - val_loss: 0.6232 - val_acc: 0.6571\n",
      "Epoch 6/30\n",
      " - 0s - loss: 0.6038 - acc: 0.6057 - val_loss: 0.5873 - val_acc: 0.6571\n",
      "Epoch 7/30\n",
      " - 0s - loss: 0.5714 - acc: 0.6057 - val_loss: 0.5661 - val_acc: 0.6571\n",
      "Epoch 8/30\n",
      " - 0s - loss: 0.5550 - acc: 0.6057 - val_loss: 0.5600 - val_acc: 0.6571\n",
      "Epoch 9/30\n",
      " - 0s - loss: 0.5503 - acc: 0.6057 - val_loss: 0.5589 - val_acc: 0.6571\n",
      "Epoch 10/30\n",
      " - 0s - loss: 0.5459 - acc: 0.6057 - val_loss: 0.5571 - val_acc: 0.6571\n",
      "Epoch 11/30\n",
      " - 0s - loss: 0.5434 - acc: 0.6185 - val_loss: 0.5551 - val_acc: 0.7238\n",
      "Epoch 12/30\n",
      " - 0s - loss: 0.5406 - acc: 0.7928 - val_loss: 0.5551 - val_acc: 0.7238\n",
      "Epoch 13/30\n",
      " - 0s - loss: 0.5388 - acc: 0.7960 - val_loss: 0.5529 - val_acc: 0.7238\n",
      "Epoch 14/30\n",
      " - 0s - loss: 0.5363 - acc: 0.7906 - val_loss: 0.5526 - val_acc: 0.7238\n",
      "Epoch 15/30\n",
      " - 0s - loss: 0.5347 - acc: 0.7885 - val_loss: 0.5531 - val_acc: 0.7333\n",
      "Epoch 16/30\n",
      " - 0s - loss: 0.5324 - acc: 0.7906 - val_loss: 0.5512 - val_acc: 0.7333\n",
      "Epoch 17/30\n",
      " - 0s - loss: 0.5301 - acc: 0.7938 - val_loss: 0.5506 - val_acc: 0.7333\n",
      "Epoch 18/30\n",
      " - 0s - loss: 0.5285 - acc: 0.7970 - val_loss: 0.5512 - val_acc: 0.7333\n",
      "Epoch 19/30\n",
      " - 0s - loss: 0.5268 - acc: 0.7917 - val_loss: 0.5500 - val_acc: 0.7333\n",
      "Epoch 20/30\n",
      " - 0s - loss: 0.5251 - acc: 0.7906 - val_loss: 0.5487 - val_acc: 0.7429\n",
      "Epoch 21/30\n",
      " - 0s - loss: 0.5236 - acc: 0.7864 - val_loss: 0.5487 - val_acc: 0.7333\n",
      "Epoch 22/30\n",
      " - 0s - loss: 0.5220 - acc: 0.7938 - val_loss: 0.5494 - val_acc: 0.7333\n"
     ]
    }
   ],
   "source": [
    "train_history =model.fit(x=train_Features, \n",
    "                         y=train_Label, \n",
    "                         validation_split=0.1, \n",
    "                         epochs=30, \n",
    "                         batch_size=30,verbose=2,callbacks=[early_stopping])"
   ]
  },
  {
   "cell_type": "code",
   "execution_count": 15,
   "metadata": {
    "collapsed": true
   },
   "outputs": [],
   "source": [
    "import matplotlib.pyplot as plt\n",
    "def show_train_history(train_history,train,validation):\n",
    "    plt.plot(train_history.history[train])\n",
    "    plt.plot(train_history.history[validation])\n",
    "    plt.title('Train History')\n",
    "    plt.ylabel(train)\n",
    "    plt.xlabel('Epoch')\n",
    "    plt.legend(['train', 'validation'], loc='upper left')\n",
    "    plt.show()"
   ]
  },
  {
   "cell_type": "code",
   "execution_count": 16,
   "metadata": {
    "collapsed": false
   },
   "outputs": [
    {
     "data": {
      "image/png": "[encoded data removed]",
      "text/plain": [
       "<matplotlib.figure.Figure at 0x7f17e844a978>"
      ]
     },
     "metadata": {},
     "output_type": "display_data"
    }
   ],
   "source": [
    "show_train_history(train_history,'acc','val_acc')"
   ]
  },
  {
   "cell_type": "code",
   "execution_count": 17,
   "metadata": {
    "collapsed": false
   },
   "outputs": [
    {
     "data": {
      "image/png": "[encoded data removed]",
      "text/plain": [
       "<matplotlib.figure.Figure at 0x7f17e40e7048>"
      ]
     },
     "metadata": {},
     "output_type": "display_data"
    }
   ],
   "source": [
    "show_train_history(train_history,'loss','val_loss')"
   ]
  },
  {
   "cell_type": "code",
   "execution_count": 18,
   "metadata": {
    "collapsed": false
   },
   "outputs": [
    {
     "name": "stdout",
     "output_type": "stream",
     "text": [
      "262/262 [==============================] - 0s 38us/step\n"
     ]
    }
   ],
   "source": [
    "scores = model.evaluate(x=test_Features, \n",
    "                        y=test_Label)"
   ]
  },
  {
   "cell_type": "code",
   "execution_count": 19,
   "metadata": {
    "collapsed": false
   },
   "outputs": [
    {
     "data": {
      "text/plain": [
       "0.7977099232091248"
      ]
     },
     "execution_count": 19,
     "metadata": {},
     "output_type": "execute_result"
    }
   ],
   "source": [
    "scores[1]"
   ]
  }
 ],
 "metadata": {
  "anaconda-cloud": {},
  "kernelspec": {
   "display_name": "Python [default]",
   "language": "python",
   "name": "python3"
  },
  "language_info": {
   "codemirror_mode": {
    "name": "ipython",
    "version": 3
   },
   "file_extension": ".py",
   "mimetype": "text/x-python",
   "name": "python",
   "nbconvert_exporter": "python",
   "pygments_lexer": "ipython3",
   "version": "3.5.2"
  }
 },
 "nbformat": 4,
 "nbformat_minor": 1
}
