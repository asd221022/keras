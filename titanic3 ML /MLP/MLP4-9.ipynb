{
 "cells": [
  {
   "cell_type": "code",
   "execution_count": 1,
   "metadata": {
    "collapsed": false,
    "slideshow": {
     "slide_type": "-"
    }
   },
   "outputs": [],
   "source": [
    "import numpy\n",
    "import pandas as pd\n",
    "from sklearn.preprocessing import StandardScaler\n",
    "from sklearn.model_selection import train_test_split\n",
    "numpy.random.seed(10)"
   ]
  },
  {
   "cell_type": "code",
   "execution_count": 2,
   "metadata": {
    "collapsed": true
   },
   "outputs": [],
   "source": [
    "all_df = pd.read_csv(\"titanic.csv\")"
   ]
  },
  {
   "cell_type": "code",
   "execution_count": 3,
   "metadata": {
    "collapsed": false
   },
   "outputs": [],
   "source": [
    "cols=['survived','pclass' ,'sex', 'age',\n",
    "       'fare',]\n",
    "df=all_df[cols]\n",
    "df.isnull().sum()\n",
    "df=df.values"
   ]
  },
  {
   "cell_type": "code",
   "execution_count": 4,
   "metadata": {
    "collapsed": true
   },
   "outputs": [],
   "source": [
    "X = df[:,1:]\n",
    "Y = df[:,0]"
   ]
  },
  {
   "cell_type": "code",
   "execution_count": 5,
   "metadata": {
    "collapsed": false
   },
   "outputs": [],
   "source": [
    "X = StandardScaler().fit_transform(X)\n",
    "train_Features, test_Features, train_Label, test_Label = train_test_split(X, Y, test_size=0.2, random_state=True) "
   ]
  },
  {
   "cell_type": "code",
   "execution_count": 6,
   "metadata": {
    "collapsed": false
   },
   "outputs": [
    {
     "name": "stderr",
     "output_type": "stream",
     "text": [
      "Using TensorFlow backend.\n"
     ]
    }
   ],
   "source": [
    "from keras.models import Sequential\n",
    "from keras.layers import Dense,Dropout\n",
    "from keras.callbacks import EarlyStopping\n",
    "early_stopping = EarlyStopping(monitor='val_loss', patience=2)"
   ]
  },
  {
   "cell_type": "code",
   "execution_count": 7,
   "metadata": {
    "collapsed": true
   },
   "outputs": [],
   "source": [
    "model = Sequential()"
   ]
  },
  {
   "cell_type": "code",
   "execution_count": 8,
   "metadata": {
    "collapsed": true
   },
   "outputs": [],
   "source": [
    "model.add(Dense(units=4*9,input_dim=4,\n",
    "                kernel_initializer='uniform', \n",
    "                activation='relu'))"
   ]
  },
  {
   "cell_type": "code",
   "execution_count": 9,
   "metadata": {
    "collapsed": true
   },
   "outputs": [],
   "source": [
    "model.add(Dense(units=4*8,\n",
    "                kernel_initializer='uniform', \n",
    "                activation='relu'))"
   ]
  },
  {
   "cell_type": "code",
   "execution_count": 10,
   "metadata": {
    "collapsed": true
   },
   "outputs": [],
   "source": [
    "model.add(Dense(units=4*7,\n",
    "                kernel_initializer='uniform', \n",
    "                activation='relu'))"
   ]
  },
  {
   "cell_type": "code",
   "execution_count": 11,
   "metadata": {
    "collapsed": true
   },
   "outputs": [],
   "source": [
    "model.add(Dense(units=4*6,\n",
    "                kernel_initializer='uniform', \n",
    "                activation='relu'))"
   ]
  },
  {
   "cell_type": "code",
   "execution_count": 12,
   "metadata": {
    "collapsed": true
   },
   "outputs": [],
   "source": [
    "model.add(Dense(units=4*5,\n",
    "                kernel_initializer='uniform', \n",
    "                activation='relu'))"
   ]
  },
  {
   "cell_type": "code",
   "execution_count": 13,
   "metadata": {
    "collapsed": true
   },
   "outputs": [],
   "source": [
    "model.add(Dense(units=4*4,\n",
    "                kernel_initializer='uniform', \n",
    "                activation='relu'))"
   ]
  },
  {
   "cell_type": "code",
   "execution_count": 14,
   "metadata": {
    "collapsed": true
   },
   "outputs": [],
   "source": [
    "model.add(Dense(units=4*3,\n",
    "                kernel_initializer='uniform', \n",
    "                activation='relu'))"
   ]
  },
  {
   "cell_type": "code",
   "execution_count": 15,
   "metadata": {
    "collapsed": true
   },
   "outputs": [],
   "source": [
    "model.add(Dense(units=4*2,\n",
    "                kernel_initializer='uniform', \n",
    "                activation='relu'))"
   ]
  },
  {
   "cell_type": "code",
   "execution_count": 16,
   "metadata": {
    "collapsed": true
   },
   "outputs": [],
   "source": [
    "model.add(Dense(units=4,\n",
    "                kernel_initializer='uniform', \n",
    "                activation='relu'))"
   ]
  },
  {
   "cell_type": "code",
   "execution_count": 17,
   "metadata": {
    "collapsed": true
   },
   "outputs": [],
   "source": [
    "model.add(Dense(units=1, \n",
    "                kernel_initializer='uniform',\n",
    "                activation='sigmoid'))"
   ]
  },
  {
   "cell_type": "code",
   "execution_count": 18,
   "metadata": {
    "collapsed": false
   },
   "outputs": [
    {
     "name": "stdout",
     "output_type": "stream",
     "text": [
      "_________________________________________________________________\n",
      "Layer (type)                 Output Shape              Param #   \n",
      "=================================================================\n",
      "dense_1 (Dense)              (None, 36)                180       \n",
      "_________________________________________________________________\n",
      "dense_2 (Dense)              (None, 32)                1184      \n",
      "_________________________________________________________________\n",
      "dense_3 (Dense)              (None, 28)                924       \n",
      "_________________________________________________________________\n",
      "dense_4 (Dense)              (None, 24)                696       \n",
      "_________________________________________________________________\n",
      "dense_5 (Dense)              (None, 20)                500       \n",
      "_________________________________________________________________\n",
      "dense_6 (Dense)              (None, 16)                336       \n",
      "_________________________________________________________________\n",
      "dense_7 (Dense)              (None, 12)                204       \n",
      "_________________________________________________________________\n",
      "dense_8 (Dense)              (None, 8)                 104       \n",
      "_________________________________________________________________\n",
      "dense_9 (Dense)              (None, 4)                 36        \n",
      "_________________________________________________________________\n",
      "dense_10 (Dense)             (None, 1)                 5         \n",
      "=================================================================\n",
      "Total params: 4,169\n",
      "Trainable params: 4,169\n",
      "Non-trainable params: 0\n",
      "_________________________________________________________________\n"
     ]
    }
   ],
   "source": [
    "model.summary()"
   ]
  },
  {
   "cell_type": "code",
   "execution_count": 19,
   "metadata": {
    "collapsed": true
   },
   "outputs": [],
   "source": [
    "model.compile(loss='binary_crossentropy', \n",
    "              optimizer='adam', metrics=['accuracy'])"
   ]
  },
  {
   "cell_type": "code",
   "execution_count": 20,
   "metadata": {
    "collapsed": false
   },
   "outputs": [
    {
     "name": "stdout",
     "output_type": "stream",
     "text": [
      "Train on 941 samples, validate on 105 samples\n",
      "Epoch 1/30\n",
      " - 2s - loss: 0.6920 - acc: 0.5866 - val_loss: 0.6893 - val_acc: 0.6571\n",
      "Epoch 2/30\n",
      " - 0s - loss: 0.6894 - acc: 0.6057 - val_loss: 0.6850 - val_acc: 0.6571\n",
      "Epoch 3/30\n",
      " - 0s - loss: 0.6865 - acc: 0.6057 - val_loss: 0.6803 - val_acc: 0.6571\n",
      "Epoch 4/30\n",
      " - 0s - loss: 0.6831 - acc: 0.6057 - val_loss: 0.6748 - val_acc: 0.6571\n",
      "Epoch 5/30\n",
      " - 0s - loss: 0.6794 - acc: 0.6057 - val_loss: 0.6675 - val_acc: 0.6571\n",
      "Epoch 6/30\n",
      " - 0s - loss: 0.6754 - acc: 0.6057 - val_loss: 0.6577 - val_acc: 0.6571\n",
      "Epoch 7/30\n",
      " - 0s - loss: 0.6355 - acc: 0.6057 - val_loss: 0.5704 - val_acc: 0.6571\n",
      "Epoch 8/30\n",
      " - 0s - loss: 0.5743 - acc: 0.6057 - val_loss: 0.5631 - val_acc: 0.6571\n",
      "Epoch 9/30\n",
      " - 0s - loss: 0.5596 - acc: 0.6057 - val_loss: 0.5574 - val_acc: 0.6571\n",
      "Epoch 10/30\n",
      " - 0s - loss: 0.5533 - acc: 0.6057 - val_loss: 0.5507 - val_acc: 0.6571\n",
      "Epoch 11/30\n",
      " - 0s - loss: 0.5457 - acc: 0.6057 - val_loss: 0.5481 - val_acc: 0.6571\n",
      "Epoch 12/30\n",
      " - 0s - loss: 0.5416 - acc: 0.6929 - val_loss: 0.5459 - val_acc: 0.7429\n",
      "Epoch 13/30\n",
      " - 0s - loss: 0.5344 - acc: 0.7938 - val_loss: 0.5432 - val_acc: 0.7524\n",
      "Epoch 14/30\n",
      " - 0s - loss: 0.5279 - acc: 0.8013 - val_loss: 0.5428 - val_acc: 0.7429\n",
      "Epoch 15/30\n",
      " - 0s - loss: 0.5251 - acc: 0.7970 - val_loss: 0.5382 - val_acc: 0.7619\n",
      "Epoch 16/30\n",
      " - 0s - loss: 0.5167 - acc: 0.7981 - val_loss: 0.5391 - val_acc: 0.7524\n",
      "Epoch 17/30\n",
      " - 0s - loss: 0.5141 - acc: 0.7991 - val_loss: 0.5377 - val_acc: 0.7524\n",
      "Epoch 18/30\n",
      " - 0s - loss: 0.5079 - acc: 0.7981 - val_loss: 0.5323 - val_acc: 0.7524\n",
      "Epoch 19/30\n",
      " - 0s - loss: 0.5043 - acc: 0.7970 - val_loss: 0.5317 - val_acc: 0.7524\n",
      "Epoch 20/30\n",
      " - 0s - loss: 0.5017 - acc: 0.7981 - val_loss: 0.5323 - val_acc: 0.7619\n",
      "Epoch 21/30\n",
      " - 0s - loss: 0.4967 - acc: 0.7991 - val_loss: 0.5314 - val_acc: 0.7524\n",
      "Epoch 22/30\n",
      " - 0s - loss: 0.4960 - acc: 0.8013 - val_loss: 0.5313 - val_acc: 0.7619\n",
      "Epoch 23/30\n",
      " - 0s - loss: 0.4940 - acc: 0.7991 - val_loss: 0.5312 - val_acc: 0.7524\n",
      "Epoch 24/30\n",
      " - 0s - loss: 0.4913 - acc: 0.7960 - val_loss: 0.5328 - val_acc: 0.7619\n",
      "Epoch 25/30\n",
      " - 0s - loss: 0.4911 - acc: 0.7960 - val_loss: 0.5359 - val_acc: 0.7524\n"
     ]
    }
   ],
   "source": [
    "train_history =model.fit(x=train_Features, \n",
    "                         y=train_Label, \n",
    "                         validation_split=0.1, \n",
    "                         epochs=30, \n",
    "                         batch_size=30,verbose=2,callbacks=[early_stopping])"
   ]
  },
  {
   "cell_type": "code",
   "execution_count": 21,
   "metadata": {
    "collapsed": true
   },
   "outputs": [],
   "source": [
    "import matplotlib.pyplot as plt\n",
    "def show_train_history(train_history,train,validation):\n",
    "    plt.plot(train_history.history[train])\n",
    "    plt.plot(train_history.history[validation])\n",
    "    plt.title('Train History')\n",
    "    plt.ylabel(train)\n",
    "    plt.xlabel('Epoch')\n",
    "    plt.legend(['train', 'validation'], loc='upper left')\n",
    "    plt.show()"
   ]
  },
  {
   "cell_type": "code",
   "execution_count": 22,
   "metadata": {
    "collapsed": false
   },
   "outputs": [
    {
     "data": {
      "image/png": "[encoded data removed]",
      "text/plain": [
       "<matplotlib.figure.Figure at 0x7f307ffc18d0>"
      ]
     },
     "metadata": {},
     "output_type": "display_data"
    }
   ],
   "source": [
    "show_train_history(train_history,'acc','val_acc')"
   ]
  },
  {
   "cell_type": "code",
   "execution_count": 23,
   "metadata": {
    "collapsed": false
   },
   "outputs": [
    {
     "data": {
      "image/png": "[encoded data removed]",
      "text/plain": [
       "<matplotlib.figure.Figure at 0x7f307ffc17f0>"
      ]
     },
     "metadata": {},
     "output_type": "display_data"
    }
   ],
   "source": [
    "show_train_history(train_history,'loss','val_loss')"
   ]
  },
  {
   "cell_type": "code",
   "execution_count": 24,
   "metadata": {
    "collapsed": false
   },
   "outputs": [
    {
     "name": "stdout",
     "output_type": "stream",
     "text": [
      "262/262 [==============================] - 0s 229us/step\n"
     ]
    }
   ],
   "source": [
    "scores = model.evaluate(x=test_Features, \n",
    "                        y=test_Label)"
   ]
  },
  {
   "cell_type": "code",
   "execution_count": 25,
   "metadata": {
    "collapsed": false
   },
   "outputs": [
    {
     "data": {
      "text/plain": [
       "0.7977099236641222"
      ]
     },
     "execution_count": 25,
     "metadata": {},
     "output_type": "execute_result"
    }
   ],
   "source": [
    "scores[1]"
   ]
  }
 ],
 "metadata": {
  "anaconda-cloud": {},
  "kernelspec": {
   "display_name": "Python [default]",
   "language": "python",
   "name": "python3"
  },
  "language_info": {
   "codemirror_mode": {
    "name": "ipython",
    "version": 3
   },
   "file_extension": ".py",
   "mimetype": "text/x-python",
   "name": "python",
   "nbconvert_exporter": "python",
   "pygments_lexer": "ipython3",
   "version": "3.5.2"
  }
 },
 "nbformat": 4,
 "nbformat_minor": 1
}
