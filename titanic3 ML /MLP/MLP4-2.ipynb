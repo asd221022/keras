{
 "cells": [
  {
   "cell_type": "code",
   "execution_count": 1,
   "metadata": {
    "collapsed": false,
    "slideshow": {
     "slide_type": "-"
    }
   },
   "outputs": [],
   "source": [
    "import numpy\n",
    "import pandas as pd\n",
    "from sklearn.preprocessing import StandardScaler\n",
    "from sklearn.model_selection import train_test_split\n",
    "numpy.random.seed(10)"
   ]
  },
  {
   "cell_type": "code",
   "execution_count": 2,
   "metadata": {
    "collapsed": true
   },
   "outputs": [],
   "source": [
    "all_df = pd.read_csv(\"titanic.csv\")"
   ]
  },
  {
   "cell_type": "code",
   "execution_count": 3,
   "metadata": {
    "collapsed": false
   },
   "outputs": [],
   "source": [
    "cols=['survived','pclass' ,'sex', 'age',\n",
    "       'fare',]\n",
    "df=all_df[cols]\n",
    "df.isnull().sum()\n",
    "df=df.values"
   ]
  },
  {
   "cell_type": "code",
   "execution_count": 4,
   "metadata": {
    "collapsed": true
   },
   "outputs": [],
   "source": [
    "X = df[:,1:]\n",
    "Y = df[:,0]"
   ]
  },
  {
   "cell_type": "code",
   "execution_count": 5,
   "metadata": {
    "collapsed": false
   },
   "outputs": [],
   "source": [
    "X = StandardScaler().fit_transform(X)\n",
    "train_Features, test_Features, train_Label, test_Label = train_test_split(X, Y, test_size=0.2, random_state=True) "
   ]
  },
  {
   "cell_type": "code",
   "execution_count": 6,
   "metadata": {
    "collapsed": false
   },
   "outputs": [
    {
     "name": "stderr",
     "output_type": "stream",
     "text": [
      "Using TensorFlow backend.\n"
     ]
    }
   ],
   "source": [
    "from keras.models import Sequential\n",
    "from keras.layers import Dense,Dropout\n",
    "from keras.callbacks import EarlyStopping\n",
    "early_stopping = EarlyStopping(monitor='val_loss', patience=2)"
   ]
  },
  {
   "cell_type": "code",
   "execution_count": 7,
   "metadata": {
    "collapsed": true
   },
   "outputs": [],
   "source": [
    "model = Sequential()"
   ]
  },
  {
   "cell_type": "code",
   "execution_count": 8,
   "metadata": {
    "collapsed": true
   },
   "outputs": [],
   "source": [
    "model.add(Dense(units=4*2,input_dim=4,\n",
    "                kernel_initializer='uniform', \n",
    "                activation='relu'))"
   ]
  },
  {
   "cell_type": "code",
   "execution_count": 9,
   "metadata": {
    "collapsed": true
   },
   "outputs": [],
   "source": [
    "model.add(Dense(units=4,\n",
    "                kernel_initializer='uniform', \n",
    "                activation='relu'))"
   ]
  },
  {
   "cell_type": "code",
   "execution_count": 10,
   "metadata": {
    "collapsed": true
   },
   "outputs": [],
   "source": [
    "model.add(Dense(units=1, \n",
    "                kernel_initializer='uniform',\n",
    "                activation='sigmoid'))"
   ]
  },
  {
   "cell_type": "code",
   "execution_count": 11,
   "metadata": {
    "collapsed": false
   },
   "outputs": [
    {
     "name": "stdout",
     "output_type": "stream",
     "text": [
      "_________________________________________________________________\n",
      "Layer (type)                 Output Shape              Param #   \n",
      "=================================================================\n",
      "dense_1 (Dense)              (None, 8)                 40        \n",
      "_________________________________________________________________\n",
      "dense_2 (Dense)              (None, 4)                 36        \n",
      "_________________________________________________________________\n",
      "dense_3 (Dense)              (None, 1)                 5         \n",
      "=================================================================\n",
      "Total params: 81\n",
      "Trainable params: 81\n",
      "Non-trainable params: 0\n",
      "_________________________________________________________________\n"
     ]
    }
   ],
   "source": [
    "model.summary()"
   ]
  },
  {
   "cell_type": "code",
   "execution_count": 12,
   "metadata": {
    "collapsed": true
   },
   "outputs": [],
   "source": [
    "model.compile(loss='binary_crossentropy', \n",
    "              optimizer='adam', metrics=['accuracy'])"
   ]
  },
  {
   "cell_type": "code",
   "execution_count": 13,
   "metadata": {
    "collapsed": false
   },
   "outputs": [
    {
     "name": "stdout",
     "output_type": "stream",
     "text": [
      "Train on 941 samples, validate on 105 samples\n",
      "Epoch 1/30\n",
      " - 0s - loss: 0.6917 - acc: 0.5919 - val_loss: 0.6891 - val_acc: 0.6571\n",
      "Epoch 2/30\n",
      " - 0s - loss: 0.6883 - acc: 0.6068 - val_loss: 0.6847 - val_acc: 0.6571\n",
      "Epoch 3/30\n",
      " - 0s - loss: 0.6816 - acc: 0.6791 - val_loss: 0.6789 - val_acc: 0.7238\n",
      "Epoch 4/30\n",
      " - 0s - loss: 0.6675 - acc: 0.7726 - val_loss: 0.6708 - val_acc: 0.7238\n",
      "Epoch 5/30\n",
      " - 0s - loss: 0.6457 - acc: 0.7768 - val_loss: 0.6613 - val_acc: 0.6857\n",
      "Epoch 6/30\n",
      " - 0s - loss: 0.6239 - acc: 0.7673 - val_loss: 0.6534 - val_acc: 0.7048\n",
      "Epoch 7/30\n",
      " - 0s - loss: 0.6069 - acc: 0.7715 - val_loss: 0.6471 - val_acc: 0.7048\n",
      "Epoch 8/30\n",
      " - 0s - loss: 0.5942 - acc: 0.7736 - val_loss: 0.6405 - val_acc: 0.7143\n",
      "Epoch 9/30\n",
      " - 0s - loss: 0.5846 - acc: 0.7736 - val_loss: 0.6335 - val_acc: 0.7429\n",
      "Epoch 10/30\n",
      " - 0s - loss: 0.5759 - acc: 0.7747 - val_loss: 0.6281 - val_acc: 0.7429\n",
      "Epoch 11/30\n",
      " - 0s - loss: 0.5680 - acc: 0.7758 - val_loss: 0.6222 - val_acc: 0.7524\n",
      "Epoch 12/30\n",
      " - 0s - loss: 0.5610 - acc: 0.7811 - val_loss: 0.6192 - val_acc: 0.7524\n",
      "Epoch 13/30\n",
      " - 0s - loss: 0.5545 - acc: 0.7821 - val_loss: 0.6149 - val_acc: 0.7524\n",
      "Epoch 14/30\n",
      " - 0s - loss: 0.5488 - acc: 0.7811 - val_loss: 0.6104 - val_acc: 0.7524\n",
      "Epoch 15/30\n",
      " - 0s - loss: 0.5428 - acc: 0.7821 - val_loss: 0.6083 - val_acc: 0.7429\n",
      "Epoch 16/30\n",
      " - 0s - loss: 0.5380 - acc: 0.7811 - val_loss: 0.6050 - val_acc: 0.7524\n",
      "Epoch 17/30\n",
      " - 0s - loss: 0.5331 - acc: 0.7779 - val_loss: 0.6020 - val_acc: 0.7524\n",
      "Epoch 18/30\n",
      " - 0s - loss: 0.5291 - acc: 0.7811 - val_loss: 0.6011 - val_acc: 0.7333\n",
      "Epoch 19/30\n",
      " - 0s - loss: 0.5247 - acc: 0.7811 - val_loss: 0.5965 - val_acc: 0.7429\n",
      "Epoch 20/30\n",
      " - 0s - loss: 0.5208 - acc: 0.7853 - val_loss: 0.5956 - val_acc: 0.7238\n",
      "Epoch 21/30\n",
      " - 0s - loss: 0.5172 - acc: 0.7853 - val_loss: 0.5932 - val_acc: 0.7333\n",
      "Epoch 22/30\n",
      " - 0s - loss: 0.5138 - acc: 0.7864 - val_loss: 0.5912 - val_acc: 0.7333\n",
      "Epoch 23/30\n",
      " - 0s - loss: 0.5109 - acc: 0.7821 - val_loss: 0.5898 - val_acc: 0.7238\n",
      "Epoch 24/30\n",
      " - 0s - loss: 0.5078 - acc: 0.7853 - val_loss: 0.5897 - val_acc: 0.7238\n",
      "Epoch 25/30\n",
      " - 0s - loss: 0.5051 - acc: 0.7821 - val_loss: 0.5869 - val_acc: 0.7238\n",
      "Epoch 26/30\n",
      " - 0s - loss: 0.5027 - acc: 0.7843 - val_loss: 0.5859 - val_acc: 0.7238\n",
      "Epoch 27/30\n",
      " - 0s - loss: 0.5002 - acc: 0.7896 - val_loss: 0.5832 - val_acc: 0.7143\n",
      "Epoch 28/30\n",
      " - 0s - loss: 0.4978 - acc: 0.7885 - val_loss: 0.5834 - val_acc: 0.7143\n",
      "Epoch 29/30\n",
      " - 0s - loss: 0.4954 - acc: 0.7906 - val_loss: 0.5803 - val_acc: 0.7238\n",
      "Epoch 30/30\n",
      " - 0s - loss: 0.4935 - acc: 0.7928 - val_loss: 0.5792 - val_acc: 0.7333\n"
     ]
    }
   ],
   "source": [
    "train_history =model.fit(x=train_Features, \n",
    "                         y=train_Label, \n",
    "                         validation_split=0.1, \n",
    "                         epochs=30, \n",
    "                         batch_size=30,verbose=2,callbacks=[early_stopping])"
   ]
  },
  {
   "cell_type": "code",
   "execution_count": 14,
   "metadata": {
    "collapsed": true
   },
   "outputs": [],
   "source": [
    "import matplotlib.pyplot as plt\n",
    "def show_train_history(train_history,train,validation):\n",
    "    plt.plot(train_history.history[train])\n",
    "    plt.plot(train_history.history[validation])\n",
    "    plt.title('Train History')\n",
    "    plt.ylabel(train)\n",
    "    plt.xlabel('Epoch')\n",
    "    plt.legend(['train', 'validation'], loc='upper left')\n",
    "    plt.show()"
   ]
  },
  {
   "cell_type": "code",
   "execution_count": 15,
   "metadata": {
    "collapsed": false
   },
   "outputs": [
    {
     "data": {
      "image/png": "[encoded data removed]",
      "text/plain": [
       "<matplotlib.figure.Figure at 0x7faa2f7b8198>"
      ]
     },
     "metadata": {},
     "output_type": "display_data"
    }
   ],
   "source": [
    "show_train_history(train_history,'acc','val_acc')"
   ]
  },
  {
   "cell_type": "code",
   "execution_count": 16,
   "metadata": {
    "collapsed": false
   },
   "outputs": [
    {
     "data": {
      "image/png": "[encoded data removed]",
      "text/plain": [
       "<matplotlib.figure.Figure at 0x7faa2f7a34e0>"
      ]
     },
     "metadata": {},
     "output_type": "display_data"
    }
   ],
   "source": [
    "show_train_history(train_history,'loss','val_loss')"
   ]
  },
  {
   "cell_type": "code",
   "execution_count": 17,
   "metadata": {
    "collapsed": false
   },
   "outputs": [
    {
     "name": "stdout",
     "output_type": "stream",
     "text": [
      "262/262 [==============================] - 0s 115us/step\n"
     ]
    }
   ],
   "source": [
    "scores = model.evaluate(x=test_Features, \n",
    "                        y=test_Label)"
   ]
  },
  {
   "cell_type": "code",
   "execution_count": 18,
   "metadata": {
    "collapsed": false
   },
   "outputs": [
    {
     "data": {
      "text/plain": [
       "0.8015267171022546"
      ]
     },
     "execution_count": 18,
     "metadata": {},
     "output_type": "execute_result"
    }
   ],
   "source": [
    "scores[1]"
   ]
  }
 ],
 "metadata": {
  "anaconda-cloud": {},
  "kernelspec": {
   "display_name": "Python [default]",
   "language": "python",
   "name": "python3"
  },
  "language_info": {
   "codemirror_mode": {
    "name": "ipython",
    "version": 3
   },
   "file_extension": ".py",
   "mimetype": "text/x-python",
   "name": "python",
   "nbconvert_exporter": "python",
   "pygments_lexer": "ipython3",
   "version": "3.5.2"
  }
 },
 "nbformat": 4,
 "nbformat_minor": 1
}
