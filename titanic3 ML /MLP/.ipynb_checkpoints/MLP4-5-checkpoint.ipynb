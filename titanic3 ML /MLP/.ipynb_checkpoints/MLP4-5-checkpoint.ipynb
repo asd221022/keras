{
 "cells": [
  {
   "cell_type": "code",
   "execution_count": 22,
   "metadata": {
    "collapsed": false,
    "slideshow": {
     "slide_type": "-"
    }
   },
   "outputs": [],
   "source": [
    "import numpy\n",
    "import pandas as pd\n",
    "from sklearn.preprocessing import StandardScaler\n",
    "from sklearn.model_selection import train_test_split\n",
    "numpy.random.seed(10)"
   ]
  },
  {
   "cell_type": "code",
   "execution_count": 23,
   "metadata": {
    "collapsed": true
   },
   "outputs": [],
   "source": [
    "all_df = pd.read_csv(\"titanic.csv\")"
   ]
  },
  {
   "cell_type": "code",
   "execution_count": 24,
   "metadata": {
    "collapsed": false
   },
   "outputs": [],
   "source": [
    "cols=['survived','pclass' ,'sex', 'age',\n",
    "       'fare',]\n",
    "df=all_df[cols]\n",
    "df.isnull().sum()\n",
    "df=df.values"
   ]
  },
  {
   "cell_type": "code",
   "execution_count": 25,
   "metadata": {
    "collapsed": true
   },
   "outputs": [],
   "source": [
    "X = df[:,1:]\n",
    "Y = df[:,0]"
   ]
  },
  {
   "cell_type": "code",
   "execution_count": 26,
   "metadata": {
    "collapsed": false
   },
   "outputs": [],
   "source": [
    "X = StandardScaler().fit_transform(X)\n",
    "train_Features, test_Features, train_Label, test_Label = train_test_split(X, Y, test_size=0.2, random_state=True) "
   ]
  },
  {
   "cell_type": "code",
   "execution_count": 27,
   "metadata": {
    "collapsed": false
   },
   "outputs": [],
   "source": [
    "from keras.models import Sequential\n",
    "from keras.layers import Dense,Dropout\n",
    "from keras.callbacks import EarlyStopping\n",
    "early_stopping = EarlyStopping(monitor='val_loss', patience=2)"
   ]
  },
  {
   "cell_type": "code",
   "execution_count": 28,
   "metadata": {
    "collapsed": true
   },
   "outputs": [],
   "source": [
    "model = Sequential()"
   ]
  },
  {
   "cell_type": "code",
   "execution_count": 29,
   "metadata": {
    "collapsed": true
   },
   "outputs": [],
   "source": [
    "model.add(Dense(units=4*5,input_dim=4,\n",
    "                kernel_initializer='uniform', \n",
    "                activation='relu'))"
   ]
  },
  {
   "cell_type": "code",
   "execution_count": 30,
   "metadata": {
    "collapsed": true
   },
   "outputs": [],
   "source": [
    "model.add(Dense(units=4*4,\n",
    "                kernel_initializer='uniform', \n",
    "                activation='relu'))"
   ]
  },
  {
   "cell_type": "code",
   "execution_count": 31,
   "metadata": {
    "collapsed": true
   },
   "outputs": [],
   "source": [
    "model.add(Dense(units=4*3,\n",
    "                kernel_initializer='uniform', \n",
    "                activation='relu'))"
   ]
  },
  {
   "cell_type": "code",
   "execution_count": 32,
   "metadata": {
    "collapsed": true
   },
   "outputs": [],
   "source": [
    "model.add(Dense(units=4*2,\n",
    "                kernel_initializer='uniform', \n",
    "                activation='relu'))"
   ]
  },
  {
   "cell_type": "code",
   "execution_count": 33,
   "metadata": {
    "collapsed": true
   },
   "outputs": [],
   "source": [
    "model.add(Dense(units=4,\n",
    "                kernel_initializer='uniform', \n",
    "                activation='relu'))"
   ]
  },
  {
   "cell_type": "code",
   "execution_count": 34,
   "metadata": {
    "collapsed": true
   },
   "outputs": [],
   "source": [
    "model.add(Dense(units=1, \n",
    "                kernel_initializer='uniform',\n",
    "                activation='sigmoid'))"
   ]
  },
  {
   "cell_type": "code",
   "execution_count": 35,
   "metadata": {
    "collapsed": false
   },
   "outputs": [
    {
     "name": "stdout",
     "output_type": "stream",
     "text": [
      "_________________________________________________________________\n",
      "Layer (type)                 Output Shape              Param #   \n",
      "=================================================================\n",
      "dense_7 (Dense)              (None, 20)                100       \n",
      "_________________________________________________________________\n",
      "dense_8 (Dense)              (None, 16)                336       \n",
      "_________________________________________________________________\n",
      "dense_9 (Dense)              (None, 12)                204       \n",
      "_________________________________________________________________\n",
      "dense_10 (Dense)             (None, 8)                 104       \n",
      "_________________________________________________________________\n",
      "dense_11 (Dense)             (None, 4)                 36        \n",
      "_________________________________________________________________\n",
      "dense_12 (Dense)             (None, 1)                 5         \n",
      "=================================================================\n",
      "Total params: 785\n",
      "Trainable params: 785\n",
      "Non-trainable params: 0\n",
      "_________________________________________________________________\n"
     ]
    }
   ],
   "source": [
    "model.summary()"
   ]
  },
  {
   "cell_type": "code",
   "execution_count": 36,
   "metadata": {
    "collapsed": true
   },
   "outputs": [],
   "source": [
    "model.compile(loss='binary_crossentropy', \n",
    "              optimizer='adam', metrics=['accuracy'])"
   ]
  },
  {
   "cell_type": "code",
   "execution_count": 37,
   "metadata": {
    "collapsed": false
   },
   "outputs": [
    {
     "name": "stdout",
     "output_type": "stream",
     "text": [
      "Train on 941 samples, validate on 105 samples\n",
      "Epoch 1/30\n",
      " - 1s - loss: 0.6918 - acc: 0.6057 - val_loss: 0.6889 - val_acc: 0.6571\n",
      "Epoch 2/30\n",
      " - 0s - loss: 0.6889 - acc: 0.6057 - val_loss: 0.6844 - val_acc: 0.6571\n",
      "Epoch 3/30\n",
      " - 0s - loss: 0.6858 - acc: 0.6057 - val_loss: 0.6789 - val_acc: 0.6571\n",
      "Epoch 4/30\n",
      " - 0s - loss: 0.6802 - acc: 0.6057 - val_loss: 0.6666 - val_acc: 0.6571\n",
      "Epoch 5/30\n",
      " - 0s - loss: 0.6534 - acc: 0.6057 - val_loss: 0.6091 - val_acc: 0.6571\n",
      "Epoch 6/30\n",
      " - 0s - loss: 0.5794 - acc: 0.6057 - val_loss: 0.5602 - val_acc: 0.6571\n",
      "Epoch 7/30\n",
      " - 0s - loss: 0.5506 - acc: 0.6057 - val_loss: 0.5615 - val_acc: 0.6571\n",
      "Epoch 8/30\n",
      " - 0s - loss: 0.5467 - acc: 0.6057 - val_loss: 0.5571 - val_acc: 0.6571\n",
      "Epoch 9/30\n",
      " - 0s - loss: 0.5445 - acc: 0.6057 - val_loss: 0.5561 - val_acc: 0.6571\n",
      "Epoch 10/30\n",
      " - 0s - loss: 0.5417 - acc: 0.6684 - val_loss: 0.5545 - val_acc: 0.7238\n",
      "Epoch 11/30\n",
      " - 0s - loss: 0.5386 - acc: 0.7896 - val_loss: 0.5537 - val_acc: 0.7238\n",
      "Epoch 12/30\n",
      " - 0s - loss: 0.5368 - acc: 0.7928 - val_loss: 0.5533 - val_acc: 0.7238\n",
      "Epoch 13/30\n",
      " - 0s - loss: 0.5343 - acc: 0.8002 - val_loss: 0.5522 - val_acc: 0.7238\n",
      "Epoch 14/30\n",
      " - 0s - loss: 0.5323 - acc: 0.7928 - val_loss: 0.5529 - val_acc: 0.7238\n",
      "Epoch 15/30\n",
      " - 0s - loss: 0.5312 - acc: 0.8002 - val_loss: 0.5514 - val_acc: 0.7333\n",
      "Epoch 16/30\n",
      " - 0s - loss: 0.5289 - acc: 0.8023 - val_loss: 0.5513 - val_acc: 0.7238\n",
      "Epoch 17/30\n",
      " - 0s - loss: 0.5267 - acc: 0.7991 - val_loss: 0.5519 - val_acc: 0.7238\n",
      "Epoch 18/30\n",
      " - 0s - loss: 0.5259 - acc: 0.8045 - val_loss: 0.5507 - val_acc: 0.7238\n",
      "Epoch 19/30\n",
      " - 0s - loss: 0.5233 - acc: 0.7970 - val_loss: 0.5515 - val_acc: 0.7333\n",
      "Epoch 20/30\n",
      " - 0s - loss: 0.5215 - acc: 0.8023 - val_loss: 0.5502 - val_acc: 0.7238\n",
      "Epoch 21/30\n",
      " - 0s - loss: 0.5202 - acc: 0.7917 - val_loss: 0.5495 - val_acc: 0.7238\n",
      "Epoch 22/30\n",
      " - 0s - loss: 0.5187 - acc: 0.8013 - val_loss: 0.5497 - val_acc: 0.7238\n",
      "Epoch 23/30\n",
      " - 0s - loss: 0.5173 - acc: 0.7991 - val_loss: 0.5492 - val_acc: 0.7238\n",
      "Epoch 24/30\n",
      " - 0s - loss: 0.5159 - acc: 0.8002 - val_loss: 0.5493 - val_acc: 0.7238\n",
      "Epoch 25/30\n",
      " - 0s - loss: 0.5149 - acc: 0.8034 - val_loss: 0.5479 - val_acc: 0.7238\n",
      "Epoch 26/30\n",
      " - 0s - loss: 0.5140 - acc: 0.7970 - val_loss: 0.5474 - val_acc: 0.7333\n",
      "Epoch 27/30\n",
      " - 0s - loss: 0.5124 - acc: 0.7960 - val_loss: 0.5475 - val_acc: 0.7333\n",
      "Epoch 28/30\n",
      " - 0s - loss: 0.5108 - acc: 0.7949 - val_loss: 0.5468 - val_acc: 0.7333\n",
      "Epoch 29/30\n",
      " - 0s - loss: 0.5096 - acc: 0.7970 - val_loss: 0.5483 - val_acc: 0.7238\n",
      "Epoch 30/30\n",
      " - 0s - loss: 0.5091 - acc: 0.8045 - val_loss: 0.5479 - val_acc: 0.7238\n"
     ]
    }
   ],
   "source": [
    "train_history =model.fit(x=train_Features, \n",
    "                         y=train_Label, \n",
    "                         validation_split=0.1, \n",
    "                         epochs=30, \n",
    "                         batch_size=30,verbose=2,callbacks=[early_stopping])"
   ]
  },
  {
   "cell_type": "code",
   "execution_count": 38,
   "metadata": {
    "collapsed": true
   },
   "outputs": [],
   "source": [
    "import matplotlib.pyplot as plt\n",
    "def show_train_history(train_history,train,validation):\n",
    "    plt.plot(train_history.history[train])\n",
    "    plt.plot(train_history.history[validation])\n",
    "    plt.title('Train History')\n",
    "    plt.ylabel(train)\n",
    "    plt.xlabel('Epoch')\n",
    "    plt.legend(['train', 'validation'], loc='upper left')\n",
    "    plt.show()"
   ]
  },
  {
   "cell_type": "code",
   "execution_count": 39,
   "metadata": {
    "collapsed": false
   },
   "outputs": [
    {
     "data": {
      "image/png": "[encoded data removed]",
      "text/plain": [
       "<matplotlib.figure.Figure at 0x7f20d6d4ada0>"
      ]
     },
     "metadata": {},
     "output_type": "display_data"
    }
   ],
   "source": [
    "show_train_history(train_history,'acc','val_acc')"
   ]
  },
  {
   "cell_type": "code",
   "execution_count": 40,
   "metadata": {
    "collapsed": false
   },
   "outputs": [
    {
     "data": {
      "image/png": "[encoded data removed]",
      "text/plain": [
       "<matplotlib.figure.Figure at 0x7f20d6dabc18>"
      ]
     },
     "metadata": {},
     "output_type": "display_data"
    }
   ],
   "source": [
    "show_train_history(train_history,'loss','val_loss')"
   ]
  },
  {
   "cell_type": "code",
   "execution_count": 41,
   "metadata": {
    "collapsed": false
   },
   "outputs": [
    {
     "name": "stdout",
     "output_type": "stream",
     "text": [
      "262/262 [==============================] - 0s 137us/step\n"
     ]
    }
   ],
   "source": [
    "scores = model.evaluate(x=test_Features, \n",
    "                        y=test_Label)"
   ]
  },
  {
   "cell_type": "code",
   "execution_count": 42,
   "metadata": {
    "collapsed": false
   },
   "outputs": [
    {
     "data": {
      "text/plain": [
       "0.8091603053435115"
      ]
     },
     "execution_count": 42,
     "metadata": {},
     "output_type": "execute_result"
    }
   ],
   "source": [
    "scores[1]"
   ]
  }
 ],
 "metadata": {
  "anaconda-cloud": {},
  "kernelspec": {
   "display_name": "Python [default]",
   "language": "python",
   "name": "python3"
  },
  "language_info": {
   "codemirror_mode": {
    "name": "ipython",
    "version": 3
   },
   "file_extension": ".py",
   "mimetype": "text/x-python",
   "name": "python",
   "nbconvert_exporter": "python",
   "pygments_lexer": "ipython3",
   "version": "3.5.2"
  }
 },
 "nbformat": 4,
 "nbformat_minor": 1
}
