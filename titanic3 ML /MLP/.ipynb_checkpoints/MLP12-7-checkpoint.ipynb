{
 "cells": [
  {
   "cell_type": "code",
   "execution_count": 1,
   "metadata": {
    "collapsed": false,
    "slideshow": {
     "slide_type": "-"
    }
   },
   "outputs": [],
   "source": [
    "import numpy\n",
    "import pandas as pd\n",
    "from sklearn.preprocessing import StandardScaler\n",
    "from sklearn.model_selection import train_test_split\n",
    "numpy.random.seed(10)"
   ]
  },
  {
   "cell_type": "code",
   "execution_count": 2,
   "metadata": {
    "collapsed": true
   },
   "outputs": [],
   "source": [
    "all_df = pd.read_csv(\"titanic.csv\")"
   ]
  },
  {
   "cell_type": "code",
   "execution_count": 3,
   "metadata": {
    "collapsed": false
   },
   "outputs": [],
   "source": [
    "cols=['survived','pclass' ,'sex', 'age',\n",
    "       'fare',]\n",
    "df=all_df[cols]\n",
    "df.isnull().sum()\n",
    "df=df.values"
   ]
  },
  {
   "cell_type": "code",
   "execution_count": 4,
   "metadata": {
    "collapsed": true
   },
   "outputs": [],
   "source": [
    "X = df[:,1:]\n",
    "Y = df[:,0]"
   ]
  },
  {
   "cell_type": "code",
   "execution_count": 5,
   "metadata": {
    "collapsed": false
   },
   "outputs": [],
   "source": [
    "X = StandardScaler().fit_transform(X)\n",
    "train_Features, test_Features, train_Label, test_Label = train_test_split(X, Y, test_size=0.2, random_state=True) "
   ]
  },
  {
   "cell_type": "code",
   "execution_count": 6,
   "metadata": {
    "collapsed": false
   },
   "outputs": [
    {
     "name": "stderr",
     "output_type": "stream",
     "text": [
      "Using TensorFlow backend.\n"
     ]
    }
   ],
   "source": [
    "from keras.models import Sequential\n",
    "from keras.layers import Dense,Dropout\n",
    "from keras.callbacks import EarlyStopping\n",
    "early_stopping = EarlyStopping(monitor='val_loss', patience=2)"
   ]
  },
  {
   "cell_type": "code",
   "execution_count": 7,
   "metadata": {
    "collapsed": true
   },
   "outputs": [],
   "source": [
    "model = Sequential()"
   ]
  },
  {
   "cell_type": "code",
   "execution_count": 8,
   "metadata": {
    "collapsed": true
   },
   "outputs": [],
   "source": [
    "model.add(Dense(units=12*7,input_dim=4,\n",
    "                kernel_initializer='uniform', \n",
    "                activation='relu'))"
   ]
  },
  {
   "cell_type": "code",
   "execution_count": 9,
   "metadata": {
    "collapsed": true
   },
   "outputs": [],
   "source": [
    "model.add(Dense(units=12*6,\n",
    "                kernel_initializer='uniform', \n",
    "                activation='relu'))"
   ]
  },
  {
   "cell_type": "code",
   "execution_count": 10,
   "metadata": {
    "collapsed": true
   },
   "outputs": [],
   "source": [
    "model.add(Dense(units=12*5,\n",
    "                kernel_initializer='uniform', \n",
    "                activation='relu'))"
   ]
  },
  {
   "cell_type": "code",
   "execution_count": 11,
   "metadata": {
    "collapsed": true
   },
   "outputs": [],
   "source": [
    "model.add(Dense(units=12*4,\n",
    "                kernel_initializer='uniform', \n",
    "                activation='relu'))"
   ]
  },
  {
   "cell_type": "code",
   "execution_count": 12,
   "metadata": {
    "collapsed": true
   },
   "outputs": [],
   "source": [
    "model.add(Dense(units=12*3,\n",
    "                kernel_initializer='uniform', \n",
    "                activation='relu'))"
   ]
  },
  {
   "cell_type": "code",
   "execution_count": 13,
   "metadata": {
    "collapsed": true
   },
   "outputs": [],
   "source": [
    "model.add(Dense(units=12*2,\n",
    "                kernel_initializer='uniform', \n",
    "                activation='relu'))"
   ]
  },
  {
   "cell_type": "code",
   "execution_count": 14,
   "metadata": {
    "collapsed": true
   },
   "outputs": [],
   "source": [
    "model.add(Dense(units=12,\n",
    "                kernel_initializer='uniform', \n",
    "                activation='relu'))"
   ]
  },
  {
   "cell_type": "code",
   "execution_count": 15,
   "metadata": {
    "collapsed": true
   },
   "outputs": [],
   "source": [
    "model.add(Dense(units=1, \n",
    "                kernel_initializer='uniform',\n",
    "                activation='sigmoid'))"
   ]
  },
  {
   "cell_type": "code",
   "execution_count": 16,
   "metadata": {
    "collapsed": false
   },
   "outputs": [
    {
     "name": "stdout",
     "output_type": "stream",
     "text": [
      "_________________________________________________________________\n",
      "Layer (type)                 Output Shape              Param #   \n",
      "=================================================================\n",
      "dense_1 (Dense)              (None, 84)                420       \n",
      "_________________________________________________________________\n",
      "dense_2 (Dense)              (None, 72)                6120      \n",
      "_________________________________________________________________\n",
      "dense_3 (Dense)              (None, 60)                4380      \n",
      "_________________________________________________________________\n",
      "dense_4 (Dense)              (None, 48)                2928      \n",
      "_________________________________________________________________\n",
      "dense_5 (Dense)              (None, 36)                1764      \n",
      "_________________________________________________________________\n",
      "dense_6 (Dense)              (None, 24)                888       \n",
      "_________________________________________________________________\n",
      "dense_7 (Dense)              (None, 12)                300       \n",
      "_________________________________________________________________\n",
      "dense_8 (Dense)              (None, 1)                 13        \n",
      "=================================================================\n",
      "Total params: 16,813\n",
      "Trainable params: 16,813\n",
      "Non-trainable params: 0\n",
      "_________________________________________________________________\n"
     ]
    }
   ],
   "source": [
    "model.summary()"
   ]
  },
  {
   "cell_type": "code",
   "execution_count": 17,
   "metadata": {
    "collapsed": true
   },
   "outputs": [],
   "source": [
    "model.compile(loss='binary_crossentropy', \n",
    "              optimizer='adam', metrics=['accuracy'])"
   ]
  },
  {
   "cell_type": "code",
   "execution_count": 18,
   "metadata": {
    "collapsed": false
   },
   "outputs": [
    {
     "name": "stdout",
     "output_type": "stream",
     "text": [
      "Train on 941 samples, validate on 105 samples\n",
      "Epoch 1/30\n",
      " - 3s - loss: 0.6922 - acc: 0.5717 - val_loss: 0.6897 - val_acc: 0.6571\n",
      "Epoch 2/30\n",
      " - 0s - loss: 0.6896 - acc: 0.6057 - val_loss: 0.6856 - val_acc: 0.6571\n",
      "Epoch 3/30\n",
      " - 0s - loss: 0.6862 - acc: 0.6057 - val_loss: 0.6758 - val_acc: 0.6571\n",
      "Epoch 4/30\n",
      " - 0s - loss: 0.6034 - acc: 0.6057 - val_loss: 0.5574 - val_acc: 0.6571\n",
      "Epoch 5/30\n",
      " - 0s - loss: 0.5486 - acc: 0.6249 - val_loss: 0.5437 - val_acc: 0.7524\n",
      "Epoch 6/30\n",
      " - 0s - loss: 0.5078 - acc: 0.7811 - val_loss: 0.5398 - val_acc: 0.7619\n",
      "Epoch 7/30\n",
      " - 0s - loss: 0.4799 - acc: 0.7779 - val_loss: 0.5507 - val_acc: 0.7238\n",
      "Epoch 8/30\n",
      " - 0s - loss: 0.4678 - acc: 0.7832 - val_loss: 0.5478 - val_acc: 0.7238\n"
     ]
    }
   ],
   "source": [
    "train_history =model.fit(x=train_Features, \n",
    "                         y=train_Label, \n",
    "                         validation_split=0.1, \n",
    "                         epochs=30, \n",
    "                         batch_size=30,verbose=2,callbacks=[early_stopping])"
   ]
  },
  {
   "cell_type": "code",
   "execution_count": 19,
   "metadata": {
    "collapsed": true
   },
   "outputs": [],
   "source": [
    "import matplotlib.pyplot as plt\n",
    "def show_train_history(train_history,train,validation):\n",
    "    plt.plot(train_history.history[train])\n",
    "    plt.plot(train_history.history[validation])\n",
    "    plt.title('Train History')\n",
    "    plt.ylabel(train)\n",
    "    plt.xlabel('Epoch')\n",
    "    plt.legend(['train', 'validation'], loc='upper left')\n",
    "    plt.show()"
   ]
  },
  {
   "cell_type": "code",
   "execution_count": 20,
   "metadata": {
    "collapsed": false
   },
   "outputs": [
    {
     "data": {
      "image/png": "[encoded data removed]",
      "text/plain": [
       "<matplotlib.figure.Figure at 0x7feab5cc8710>"
      ]
     },
     "metadata": {},
     "output_type": "display_data"
    }
   ],
   "source": [
    "show_train_history(train_history,'acc','val_acc')"
   ]
  },
  {
   "cell_type": "code",
   "execution_count": 21,
   "metadata": {
    "collapsed": false
   },
   "outputs": [
    {
     "data": {
      "image/png": "[encoded data removed]",
      "text/plain": [
       "<matplotlib.figure.Figure at 0x7feab5cc87b8>"
      ]
     },
     "metadata": {},
     "output_type": "display_data"
    }
   ],
   "source": [
    "show_train_history(train_history,'loss','val_loss')"
   ]
  },
  {
   "cell_type": "code",
   "execution_count": 22,
   "metadata": {
    "collapsed": false
   },
   "outputs": [
    {
     "name": "stdout",
     "output_type": "stream",
     "text": [
      "262/262 [==============================] - 0s 62us/step\n"
     ]
    }
   ],
   "source": [
    "scores = model.evaluate(x=test_Features, \n",
    "                        y=test_Label)"
   ]
  },
  {
   "cell_type": "code",
   "execution_count": 23,
   "metadata": {
    "collapsed": false
   },
   "outputs": [
    {
     "data": {
      "text/plain": [
       "0.7709923664122137"
      ]
     },
     "execution_count": 23,
     "metadata": {},
     "output_type": "execute_result"
    }
   ],
   "source": [
    "scores[1]"
   ]
  }
 ],
 "metadata": {
  "anaconda-cloud": {},
  "kernelspec": {
   "display_name": "Python [default]",
   "language": "python",
   "name": "python3"
  },
  "language_info": {
   "codemirror_mode": {
    "name": "ipython",
    "version": 3
   },
   "file_extension": ".py",
   "mimetype": "text/x-python",
   "name": "python",
   "nbconvert_exporter": "python",
   "pygments_lexer": "ipython3",
   "version": "3.5.2"
  }
 },
 "nbformat": 4,
 "nbformat_minor": 1
}
