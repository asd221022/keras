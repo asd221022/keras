{
 "cells": [
  {
   "cell_type": "code",
   "execution_count": 26,
   "metadata": {
    "collapsed": false,
    "slideshow": {
     "slide_type": "-"
    }
   },
   "outputs": [],
   "source": [
    "import numpy\n",
    "import pandas as pd\n",
    "from sklearn.preprocessing import StandardScaler\n",
    "from sklearn.model_selection import train_test_split\n",
    "numpy.random.seed(10)"
   ]
  },
  {
   "cell_type": "code",
   "execution_count": 27,
   "metadata": {
    "collapsed": true
   },
   "outputs": [],
   "source": [
    "all_df = pd.read_csv(\"titanic.csv\")"
   ]
  },
  {
   "cell_type": "code",
   "execution_count": 28,
   "metadata": {
    "collapsed": false
   },
   "outputs": [],
   "source": [
    "cols=['survived','pclass' ,'sex', 'age',\n",
    "       'fare',]\n",
    "df=all_df[cols]\n",
    "df.isnull().sum()\n",
    "df=df.values"
   ]
  },
  {
   "cell_type": "code",
   "execution_count": 29,
   "metadata": {
    "collapsed": true
   },
   "outputs": [],
   "source": [
    "X = df[:,1:]\n",
    "Y = df[:,0]"
   ]
  },
  {
   "cell_type": "code",
   "execution_count": 30,
   "metadata": {
    "collapsed": false
   },
   "outputs": [],
   "source": [
    "X = StandardScaler().fit_transform(X)\n",
    "train_Features, test_Features, train_Label, test_Label = train_test_split(X, Y, test_size=0.2, random_state=True) "
   ]
  },
  {
   "cell_type": "code",
   "execution_count": 31,
   "metadata": {
    "collapsed": false
   },
   "outputs": [],
   "source": [
    "from keras.models import Sequential\n",
    "from keras.layers import Dense,Dropout\n",
    "from keras.callbacks import EarlyStopping\n",
    "early_stopping = EarlyStopping(monitor='val_loss', patience=2)"
   ]
  },
  {
   "cell_type": "code",
   "execution_count": 32,
   "metadata": {
    "collapsed": true
   },
   "outputs": [],
   "source": [
    "model = Sequential()"
   ]
  },
  {
   "cell_type": "code",
   "execution_count": 33,
   "metadata": {
    "collapsed": true
   },
   "outputs": [],
   "source": [
    "model.add(Dense(units=12*9,input_dim=4,\n",
    "                kernel_initializer='uniform', \n",
    "                activation='relu'))"
   ]
  },
  {
   "cell_type": "code",
   "execution_count": 34,
   "metadata": {
    "collapsed": true
   },
   "outputs": [],
   "source": [
    "model.add(Dense(units=12*8,\n",
    "                kernel_initializer='uniform', \n",
    "                activation='relu'))"
   ]
  },
  {
   "cell_type": "code",
   "execution_count": 35,
   "metadata": {
    "collapsed": true
   },
   "outputs": [],
   "source": [
    "model.add(Dense(units=12*7,\n",
    "                kernel_initializer='uniform', \n",
    "                activation='relu'))"
   ]
  },
  {
   "cell_type": "code",
   "execution_count": 36,
   "metadata": {
    "collapsed": true
   },
   "outputs": [],
   "source": [
    "model.add(Dense(units=12*6,\n",
    "                kernel_initializer='uniform', \n",
    "                activation='relu'))"
   ]
  },
  {
   "cell_type": "code",
   "execution_count": 37,
   "metadata": {
    "collapsed": true
   },
   "outputs": [],
   "source": [
    "model.add(Dense(units=12*5,\n",
    "                kernel_initializer='uniform', \n",
    "                activation='relu'))"
   ]
  },
  {
   "cell_type": "code",
   "execution_count": 38,
   "metadata": {
    "collapsed": true
   },
   "outputs": [],
   "source": [
    "model.add(Dense(units=12*4,\n",
    "                kernel_initializer='uniform', \n",
    "                activation='relu'))"
   ]
  },
  {
   "cell_type": "code",
   "execution_count": 39,
   "metadata": {
    "collapsed": true
   },
   "outputs": [],
   "source": [
    "model.add(Dense(units=12*3,\n",
    "                kernel_initializer='uniform', \n",
    "                activation='relu'))"
   ]
  },
  {
   "cell_type": "code",
   "execution_count": 40,
   "metadata": {
    "collapsed": true
   },
   "outputs": [],
   "source": [
    "model.add(Dense(units=12*2,\n",
    "                kernel_initializer='uniform', \n",
    "                activation='relu'))"
   ]
  },
  {
   "cell_type": "code",
   "execution_count": 41,
   "metadata": {
    "collapsed": true
   },
   "outputs": [],
   "source": [
    "model.add(Dense(units=12,\n",
    "                kernel_initializer='uniform', \n",
    "                activation='relu'))"
   ]
  },
  {
   "cell_type": "code",
   "execution_count": 42,
   "metadata": {
    "collapsed": true
   },
   "outputs": [],
   "source": [
    "model.add(Dense(units=1, \n",
    "                kernel_initializer='uniform',\n",
    "                activation='sigmoid'))"
   ]
  },
  {
   "cell_type": "code",
   "execution_count": 43,
   "metadata": {
    "collapsed": false
   },
   "outputs": [
    {
     "name": "stdout",
     "output_type": "stream",
     "text": [
      "_________________________________________________________________\n",
      "Layer (type)                 Output Shape              Param #   \n",
      "=================================================================\n",
      "dense_11 (Dense)             (None, 108)               540       \n",
      "_________________________________________________________________\n",
      "dense_12 (Dense)             (None, 96)                10464     \n",
      "_________________________________________________________________\n",
      "dense_13 (Dense)             (None, 84)                8148      \n",
      "_________________________________________________________________\n",
      "dense_14 (Dense)             (None, 72)                6120      \n",
      "_________________________________________________________________\n",
      "dense_15 (Dense)             (None, 60)                4380      \n",
      "_________________________________________________________________\n",
      "dense_16 (Dense)             (None, 48)                2928      \n",
      "_________________________________________________________________\n",
      "dense_17 (Dense)             (None, 36)                1764      \n",
      "_________________________________________________________________\n",
      "dense_18 (Dense)             (None, 24)                888       \n",
      "_________________________________________________________________\n",
      "dense_19 (Dense)             (None, 12)                300       \n",
      "_________________________________________________________________\n",
      "dense_20 (Dense)             (None, 1)                 13        \n",
      "=================================================================\n",
      "Total params: 35,545\n",
      "Trainable params: 35,545\n",
      "Non-trainable params: 0\n",
      "_________________________________________________________________\n"
     ]
    }
   ],
   "source": [
    "model.summary()"
   ]
  },
  {
   "cell_type": "code",
   "execution_count": 44,
   "metadata": {
    "collapsed": true
   },
   "outputs": [],
   "source": [
    "model.compile(loss='binary_crossentropy', \n",
    "              optimizer='adam', metrics=['accuracy'])"
   ]
  },
  {
   "cell_type": "code",
   "execution_count": 45,
   "metadata": {
    "collapsed": false
   },
   "outputs": [
    {
     "name": "stdout",
     "output_type": "stream",
     "text": [
      "Train on 941 samples, validate on 105 samples\n",
      "Epoch 1/30\n",
      " - 3s - loss: 0.6921 - acc: 0.5866 - val_loss: 0.6897 - val_acc: 0.6571\n",
      "Epoch 2/30\n",
      " - 0s - loss: 0.6898 - acc: 0.6057 - val_loss: 0.6861 - val_acc: 0.6571\n",
      "Epoch 3/30\n",
      " - 0s - loss: 0.6875 - acc: 0.6057 - val_loss: 0.6829 - val_acc: 0.6571\n",
      "Epoch 4/30\n",
      " - 0s - loss: 0.6855 - acc: 0.6057 - val_loss: 0.6800 - val_acc: 0.6571\n",
      "Epoch 5/30\n",
      " - 0s - loss: 0.6838 - acc: 0.6057 - val_loss: 0.6772 - val_acc: 0.6571\n",
      "Epoch 6/30\n",
      " - 0s - loss: 0.6823 - acc: 0.6057 - val_loss: 0.6749 - val_acc: 0.6571\n",
      "Epoch 7/30\n",
      " - 0s - loss: 0.6810 - acc: 0.6057 - val_loss: 0.6724 - val_acc: 0.6571\n",
      "Epoch 8/30\n",
      " - 0s - loss: 0.6797 - acc: 0.6057 - val_loss: 0.6705 - val_acc: 0.6571\n",
      "Epoch 9/30\n",
      " - 0s - loss: 0.6786 - acc: 0.6057 - val_loss: 0.6689 - val_acc: 0.6571\n",
      "Epoch 10/30\n",
      " - 0s - loss: 0.6776 - acc: 0.6057 - val_loss: 0.6671 - val_acc: 0.6571\n",
      "Epoch 11/30\n",
      " - 0s - loss: 0.6768 - acc: 0.6057 - val_loss: 0.6654 - val_acc: 0.6571\n",
      "Epoch 12/30\n",
      " - 0s - loss: 0.6760 - acc: 0.6057 - val_loss: 0.6639 - val_acc: 0.6571\n",
      "Epoch 13/30\n",
      " - 0s - loss: 0.6753 - acc: 0.6057 - val_loss: 0.6627 - val_acc: 0.6571\n",
      "Epoch 14/30\n",
      " - 0s - loss: 0.6747 - acc: 0.6057 - val_loss: 0.6615 - val_acc: 0.6571\n",
      "Epoch 15/30\n",
      " - 0s - loss: 0.6742 - acc: 0.6057 - val_loss: 0.6603 - val_acc: 0.6571\n",
      "Epoch 16/30\n",
      " - 0s - loss: 0.6737 - acc: 0.6057 - val_loss: 0.6594 - val_acc: 0.6571\n",
      "Epoch 17/30\n",
      " - 0s - loss: 0.6733 - acc: 0.6057 - val_loss: 0.6584 - val_acc: 0.6571\n",
      "Epoch 18/30\n",
      " - 0s - loss: 0.6730 - acc: 0.6057 - val_loss: 0.6574 - val_acc: 0.6571\n",
      "Epoch 19/30\n",
      " - 0s - loss: 0.6727 - acc: 0.6057 - val_loss: 0.6568 - val_acc: 0.6571\n",
      "Epoch 20/30\n",
      " - 0s - loss: 0.6724 - acc: 0.6057 - val_loss: 0.6563 - val_acc: 0.6571\n",
      "Epoch 21/30\n",
      " - 0s - loss: 0.6722 - acc: 0.6057 - val_loss: 0.6555 - val_acc: 0.6571\n",
      "Epoch 22/30\n",
      " - 0s - loss: 0.6720 - acc: 0.6057 - val_loss: 0.6550 - val_acc: 0.6571\n",
      "Epoch 23/30\n",
      " - 0s - loss: 0.6718 - acc: 0.6057 - val_loss: 0.6543 - val_acc: 0.6571\n",
      "Epoch 24/30\n",
      " - 0s - loss: 0.6717 - acc: 0.6057 - val_loss: 0.6537 - val_acc: 0.6571\n",
      "Epoch 25/30\n",
      " - 0s - loss: 0.6715 - acc: 0.6057 - val_loss: 0.6537 - val_acc: 0.6571\n",
      "Epoch 26/30\n",
      " - 0s - loss: 0.6714 - acc: 0.6057 - val_loss: 0.6532 - val_acc: 0.6571\n",
      "Epoch 27/30\n",
      " - 0s - loss: 0.6713 - acc: 0.6057 - val_loss: 0.6525 - val_acc: 0.6571\n",
      "Epoch 28/30\n",
      " - 0s - loss: 0.6712 - acc: 0.6057 - val_loss: 0.6522 - val_acc: 0.6571\n",
      "Epoch 29/30\n",
      " - 0s - loss: 0.6711 - acc: 0.6057 - val_loss: 0.6520 - val_acc: 0.6571\n",
      "Epoch 30/30\n",
      " - 0s - loss: 0.6710 - acc: 0.6057 - val_loss: 0.6517 - val_acc: 0.6571\n"
     ]
    }
   ],
   "source": [
    "train_history =model.fit(x=train_Features, \n",
    "                         y=train_Label, \n",
    "                         validation_split=0.1, \n",
    "                         epochs=30, \n",
    "                         batch_size=30,verbose=2,callbacks=[early_stopping])"
   ]
  },
  {
   "cell_type": "code",
   "execution_count": 46,
   "metadata": {
    "collapsed": true
   },
   "outputs": [],
   "source": [
    "import matplotlib.pyplot as plt\n",
    "def show_train_history(train_history,train,validation):\n",
    "    plt.plot(train_history.history[train])\n",
    "    plt.plot(train_history.history[validation])\n",
    "    plt.title('Train History')\n",
    "    plt.ylabel(train)\n",
    "    plt.xlabel('Epoch')\n",
    "    plt.legend(['train', 'validation'], loc='upper left')\n",
    "    plt.show()"
   ]
  },
  {
   "cell_type": "code",
   "execution_count": 47,
   "metadata": {
    "collapsed": false
   },
   "outputs": [
    {
     "data": {
      "image/png": "[encoded data removed]",
      "text/plain": [
       "<matplotlib.figure.Figure at 0x7f88cf32d4a8>"
      ]
     },
     "metadata": {},
     "output_type": "display_data"
    }
   ],
   "source": [
    "show_train_history(train_history,'acc','val_acc')"
   ]
  },
  {
   "cell_type": "code",
   "execution_count": 48,
   "metadata": {
    "collapsed": false
   },
   "outputs": [
    {
     "data": {
      "image/png": "[encoded data removed]",
      "text/plain": [
       "<matplotlib.figure.Figure at 0x7f88cf32d470>"
      ]
     },
     "metadata": {},
     "output_type": "display_data"
    }
   ],
   "source": [
    "show_train_history(train_history,'loss','val_loss')"
   ]
  },
  {
   "cell_type": "code",
   "execution_count": 49,
   "metadata": {
    "collapsed": false
   },
   "outputs": [
    {
     "name": "stdout",
     "output_type": "stream",
     "text": [
      "262/262 [==============================] - 0s 91us/step\n"
     ]
    }
   ],
   "source": [
    "scores = model.evaluate(x=test_Features, \n",
    "                        y=test_Label)"
   ]
  },
  {
   "cell_type": "code",
   "execution_count": 50,
   "metadata": {
    "collapsed": false
   },
   "outputs": [
    {
     "data": {
      "text/plain": [
       "0.6450381683939286"
      ]
     },
     "execution_count": 50,
     "metadata": {},
     "output_type": "execute_result"
    }
   ],
   "source": [
    "scores[1]"
   ]
  }
 ],
 "metadata": {
  "anaconda-cloud": {},
  "kernelspec": {
   "display_name": "Python [default]",
   "language": "python",
   "name": "python3"
  },
  "language_info": {
   "codemirror_mode": {
    "name": "ipython",
    "version": 3
   },
   "file_extension": ".py",
   "mimetype": "text/x-python",
   "name": "python",
   "nbconvert_exporter": "python",
   "pygments_lexer": "ipython3",
   "version": "3.5.2"
  }
 },
 "nbformat": 4,
 "nbformat_minor": 1
}
