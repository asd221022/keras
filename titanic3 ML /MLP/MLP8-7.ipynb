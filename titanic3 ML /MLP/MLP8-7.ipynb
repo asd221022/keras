{
 "cells": [
  {
   "cell_type": "code",
   "execution_count": 1,
   "metadata": {
    "collapsed": false,
    "slideshow": {
     "slide_type": "-"
    }
   },
   "outputs": [],
   "source": [
    "import numpy\n",
    "import pandas as pd\n",
    "from sklearn.preprocessing import StandardScaler\n",
    "from sklearn.model_selection import train_test_split\n",
    "numpy.random.seed(10)"
   ]
  },
  {
   "cell_type": "code",
   "execution_count": 2,
   "metadata": {
    "collapsed": true
   },
   "outputs": [],
   "source": [
    "all_df = pd.read_csv(\"titanic.csv\")"
   ]
  },
  {
   "cell_type": "code",
   "execution_count": 3,
   "metadata": {
    "collapsed": false
   },
   "outputs": [],
   "source": [
    "cols=['survived','pclass' ,'sex', 'age',\n",
    "       'fare',]\n",
    "df=all_df[cols]\n",
    "df.isnull().sum()\n",
    "df=df.values"
   ]
  },
  {
   "cell_type": "code",
   "execution_count": 4,
   "metadata": {
    "collapsed": true
   },
   "outputs": [],
   "source": [
    "X = df[:,1:]\n",
    "Y = df[:,0]"
   ]
  },
  {
   "cell_type": "code",
   "execution_count": 5,
   "metadata": {
    "collapsed": false
   },
   "outputs": [],
   "source": [
    "X = StandardScaler().fit_transform(X)\n",
    "train_Features, test_Features, train_Label, test_Label = train_test_split(X, Y, test_size=0.2, random_state=True) "
   ]
  },
  {
   "cell_type": "code",
   "execution_count": 6,
   "metadata": {
    "collapsed": false
   },
   "outputs": [
    {
     "name": "stderr",
     "output_type": "stream",
     "text": [
      "Using TensorFlow backend.\n"
     ]
    }
   ],
   "source": [
    "from keras.models import Sequential\n",
    "from keras.layers import Dense,Dropout\n",
    "from keras.callbacks import EarlyStopping\n",
    "early_stopping = EarlyStopping(monitor='val_loss', patience=2)"
   ]
  },
  {
   "cell_type": "code",
   "execution_count": 7,
   "metadata": {
    "collapsed": true
   },
   "outputs": [],
   "source": [
    "model = Sequential()"
   ]
  },
  {
   "cell_type": "code",
   "execution_count": 8,
   "metadata": {
    "collapsed": true
   },
   "outputs": [],
   "source": [
    "model.add(Dense(units=8*7,input_dim=4,\n",
    "                kernel_initializer='uniform', \n",
    "                activation='relu'))"
   ]
  },
  {
   "cell_type": "code",
   "execution_count": 9,
   "metadata": {
    "collapsed": true
   },
   "outputs": [],
   "source": [
    "model.add(Dense(units=8*6,\n",
    "                kernel_initializer='uniform', \n",
    "                activation='relu'))"
   ]
  },
  {
   "cell_type": "code",
   "execution_count": 10,
   "metadata": {
    "collapsed": true
   },
   "outputs": [],
   "source": [
    "model.add(Dense(units=8*5,\n",
    "                kernel_initializer='uniform', \n",
    "                activation='relu'))"
   ]
  },
  {
   "cell_type": "code",
   "execution_count": 11,
   "metadata": {
    "collapsed": true
   },
   "outputs": [],
   "source": [
    "model.add(Dense(units=8*4,\n",
    "                kernel_initializer='uniform', \n",
    "                activation='relu'))"
   ]
  },
  {
   "cell_type": "code",
   "execution_count": 12,
   "metadata": {
    "collapsed": true
   },
   "outputs": [],
   "source": [
    "model.add(Dense(units=8*3,\n",
    "                kernel_initializer='uniform', \n",
    "                activation='relu'))"
   ]
  },
  {
   "cell_type": "code",
   "execution_count": 13,
   "metadata": {
    "collapsed": true
   },
   "outputs": [],
   "source": [
    "model.add(Dense(units=8*2,\n",
    "                kernel_initializer='uniform', \n",
    "                activation='relu'))"
   ]
  },
  {
   "cell_type": "code",
   "execution_count": 14,
   "metadata": {
    "collapsed": true
   },
   "outputs": [],
   "source": [
    "model.add(Dense(units=8,\n",
    "                kernel_initializer='uniform', \n",
    "                activation='relu'))"
   ]
  },
  {
   "cell_type": "code",
   "execution_count": 15,
   "metadata": {
    "collapsed": true
   },
   "outputs": [],
   "source": [
    "model.add(Dense(units=1, \n",
    "                kernel_initializer='uniform',\n",
    "                activation='sigmoid'))"
   ]
  },
  {
   "cell_type": "code",
   "execution_count": 16,
   "metadata": {
    "collapsed": false
   },
   "outputs": [
    {
     "name": "stdout",
     "output_type": "stream",
     "text": [
      "_________________________________________________________________\n",
      "Layer (type)                 Output Shape              Param #   \n",
      "=================================================================\n",
      "dense_1 (Dense)              (None, 56)                280       \n",
      "_________________________________________________________________\n",
      "dense_2 (Dense)              (None, 48)                2736      \n",
      "_________________________________________________________________\n",
      "dense_3 (Dense)              (None, 40)                1960      \n",
      "_________________________________________________________________\n",
      "dense_4 (Dense)              (None, 32)                1312      \n",
      "_________________________________________________________________\n",
      "dense_5 (Dense)              (None, 24)                792       \n",
      "_________________________________________________________________\n",
      "dense_6 (Dense)              (None, 16)                400       \n",
      "_________________________________________________________________\n",
      "dense_7 (Dense)              (None, 8)                 136       \n",
      "_________________________________________________________________\n",
      "dense_8 (Dense)              (None, 1)                 9         \n",
      "=================================================================\n",
      "Total params: 7,625\n",
      "Trainable params: 7,625\n",
      "Non-trainable params: 0\n",
      "_________________________________________________________________\n"
     ]
    }
   ],
   "source": [
    "model.summary()"
   ]
  },
  {
   "cell_type": "code",
   "execution_count": 17,
   "metadata": {
    "collapsed": true
   },
   "outputs": [],
   "source": [
    "model.compile(loss='binary_crossentropy', \n",
    "              optimizer='adam', metrics=['accuracy'])"
   ]
  },
  {
   "cell_type": "code",
   "execution_count": 18,
   "metadata": {
    "collapsed": false
   },
   "outputs": [
    {
     "name": "stdout",
     "output_type": "stream",
     "text": [
      "Train on 941 samples, validate on 105 samples\n",
      "Epoch 1/30\n",
      " - 2s - loss: 0.6923 - acc: 0.5717 - val_loss: 0.6899 - val_acc: 0.6571\n",
      "Epoch 2/30\n",
      " - 0s - loss: 0.6900 - acc: 0.6057 - val_loss: 0.6866 - val_acc: 0.6571\n",
      "Epoch 3/30\n",
      " - 0s - loss: 0.6880 - acc: 0.6057 - val_loss: 0.6837 - val_acc: 0.6571\n",
      "Epoch 4/30\n",
      " - 0s - loss: 0.6861 - acc: 0.6057 - val_loss: 0.6812 - val_acc: 0.6571\n",
      "Epoch 5/30\n",
      " - 0s - loss: 0.6845 - acc: 0.6057 - val_loss: 0.6782 - val_acc: 0.6571\n",
      "Epoch 6/30\n",
      " - 0s - loss: 0.6828 - acc: 0.6057 - val_loss: 0.6757 - val_acc: 0.6571\n",
      "Epoch 7/30\n",
      " - 0s - loss: 0.6814 - acc: 0.6057 - val_loss: 0.6734 - val_acc: 0.6571\n",
      "Epoch 8/30\n",
      " - 0s - loss: 0.6801 - acc: 0.6057 - val_loss: 0.6713 - val_acc: 0.6571\n",
      "Epoch 9/30\n",
      " - 0s - loss: 0.6790 - acc: 0.6057 - val_loss: 0.6697 - val_acc: 0.6571\n",
      "Epoch 10/30\n",
      " - 0s - loss: 0.6781 - acc: 0.6057 - val_loss: 0.6679 - val_acc: 0.6571\n",
      "Epoch 11/30\n",
      " - 0s - loss: 0.6772 - acc: 0.6057 - val_loss: 0.6662 - val_acc: 0.6571\n",
      "Epoch 12/30\n",
      " - 0s - loss: 0.6764 - acc: 0.6057 - val_loss: 0.6648 - val_acc: 0.6571\n",
      "Epoch 13/30\n",
      " - 0s - loss: 0.6756 - acc: 0.6057 - val_loss: 0.6633 - val_acc: 0.6571\n",
      "Epoch 14/30\n",
      " - 0s - loss: 0.6750 - acc: 0.6057 - val_loss: 0.6619 - val_acc: 0.6571\n",
      "Epoch 15/30\n",
      " - 0s - loss: 0.6744 - acc: 0.6057 - val_loss: 0.6609 - val_acc: 0.6571\n",
      "Epoch 16/30\n",
      " - 0s - loss: 0.6739 - acc: 0.6057 - val_loss: 0.6597 - val_acc: 0.6571\n",
      "Epoch 17/30\n",
      " - 0s - loss: 0.6735 - acc: 0.6057 - val_loss: 0.6587 - val_acc: 0.6571\n",
      "Epoch 18/30\n",
      " - 0s - loss: 0.6731 - acc: 0.6057 - val_loss: 0.6581 - val_acc: 0.6571\n",
      "Epoch 19/30\n",
      " - 0s - loss: 0.6728 - acc: 0.6057 - val_loss: 0.6572 - val_acc: 0.6571\n",
      "Epoch 20/30\n",
      " - 0s - loss: 0.6725 - acc: 0.6057 - val_loss: 0.6565 - val_acc: 0.6571\n",
      "Epoch 21/30\n",
      " - 0s - loss: 0.6722 - acc: 0.6057 - val_loss: 0.6556 - val_acc: 0.6571\n",
      "Epoch 22/30\n",
      " - 0s - loss: 0.6720 - acc: 0.6057 - val_loss: 0.6550 - val_acc: 0.6571\n",
      "Epoch 23/30\n",
      " - 0s - loss: 0.6718 - acc: 0.6057 - val_loss: 0.6545 - val_acc: 0.6571\n",
      "Epoch 24/30\n",
      " - 0s - loss: 0.6717 - acc: 0.6057 - val_loss: 0.6540 - val_acc: 0.6571\n",
      "Epoch 25/30\n",
      " - 0s - loss: 0.6715 - acc: 0.6057 - val_loss: 0.6537 - val_acc: 0.6571\n",
      "Epoch 26/30\n",
      " - 0s - loss: 0.6714 - acc: 0.6057 - val_loss: 0.6534 - val_acc: 0.6571\n",
      "Epoch 27/30\n",
      " - 0s - loss: 0.6713 - acc: 0.6057 - val_loss: 0.6530 - val_acc: 0.6571\n",
      "Epoch 28/30\n",
      " - 0s - loss: 0.6712 - acc: 0.6057 - val_loss: 0.6525 - val_acc: 0.6571\n",
      "Epoch 29/30\n",
      " - 0s - loss: 0.6711 - acc: 0.6057 - val_loss: 0.6522 - val_acc: 0.6571\n",
      "Epoch 30/30\n",
      " - 0s - loss: 0.6711 - acc: 0.6057 - val_loss: 0.6518 - val_acc: 0.6571\n"
     ]
    }
   ],
   "source": [
    "train_history =model.fit(x=train_Features, \n",
    "                         y=train_Label, \n",
    "                         validation_split=0.1, \n",
    "                         epochs=30, \n",
    "                         batch_size=30,verbose=2,callbacks=[early_stopping])"
   ]
  },
  {
   "cell_type": "code",
   "execution_count": 19,
   "metadata": {
    "collapsed": true
   },
   "outputs": [],
   "source": [
    "import matplotlib.pyplot as plt\n",
    "def show_train_history(train_history,train,validation):\n",
    "    plt.plot(train_history.history[train])\n",
    "    plt.plot(train_history.history[validation])\n",
    "    plt.title('Train History')\n",
    "    plt.ylabel(train)\n",
    "    plt.xlabel('Epoch')\n",
    "    plt.legend(['train', 'validation'], loc='upper left')\n",
    "    plt.show()"
   ]
  },
  {
   "cell_type": "code",
   "execution_count": 20,
   "metadata": {
    "collapsed": false
   },
   "outputs": [
    {
     "data": {
      "image/png": "[encoded data removed]",
      "text/plain": [
       "<matplotlib.figure.Figure at 0x7f041084c080>"
      ]
     },
     "metadata": {},
     "output_type": "display_data"
    }
   ],
   "source": [
    "show_train_history(train_history,'acc','val_acc')"
   ]
  },
  {
   "cell_type": "code",
   "execution_count": 21,
   "metadata": {
    "collapsed": false
   },
   "outputs": [
    {
     "data": {
      "image/png": "[encoded data removed]",
      "text/plain": [
       "<matplotlib.figure.Figure at 0x7f0401f14588>"
      ]
     },
     "metadata": {},
     "output_type": "display_data"
    }
   ],
   "source": [
    "show_train_history(train_history,'loss','val_loss')"
   ]
  },
  {
   "cell_type": "code",
   "execution_count": 22,
   "metadata": {
    "collapsed": false
   },
   "outputs": [
    {
     "name": "stdout",
     "output_type": "stream",
     "text": [
      "262/262 [==============================] - 0s 26us/step\n"
     ]
    }
   ],
   "source": [
    "scores = model.evaluate(x=test_Features, \n",
    "                        y=test_Label)"
   ]
  },
  {
   "cell_type": "code",
   "execution_count": 23,
   "metadata": {
    "collapsed": false
   },
   "outputs": [
    {
     "data": {
      "text/plain": [
       "0.6450381683939286"
      ]
     },
     "execution_count": 23,
     "metadata": {},
     "output_type": "execute_result"
    }
   ],
   "source": [
    "scores[1]"
   ]
  }
 ],
 "metadata": {
  "anaconda-cloud": {},
  "kernelspec": {
   "display_name": "Python [default]",
   "language": "python",
   "name": "python3"
  },
  "language_info": {
   "codemirror_mode": {
    "name": "ipython",
    "version": 3
   },
   "file_extension": ".py",
   "mimetype": "text/x-python",
   "name": "python",
   "nbconvert_exporter": "python",
   "pygments_lexer": "ipython3",
   "version": "3.5.2"
  }
 },
 "nbformat": 4,
 "nbformat_minor": 1
}
