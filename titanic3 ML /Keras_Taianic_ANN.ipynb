{
 "cells": [
  {
   "cell_type": "code",
   "execution_count": 141,
   "metadata": {
    "collapsed": true,
    "slideshow": {
     "slide_type": "-"
    }
   },
   "outputs": [],
   "source": [
    "import numpy\n",
    "import pandas as pd\n",
    "from sklearn import preprocessing\n",
    "numpy.random.seed(10)"
   ]
  },
  {
   "cell_type": "code",
   "execution_count": 142,
   "metadata": {
    "collapsed": true
   },
   "outputs": [],
   "source": [
    "all_df = pd.read_excel(\"data/titanic3.xls\")"
   ]
  },
  {
   "cell_type": "code",
   "execution_count": 143,
   "metadata": {
    "collapsed": true
   },
   "outputs": [],
   "source": [
    "cols=['survived','name','pclass' ,'sex', 'age', 'sibsp',\n",
    "      'parch', 'fare', 'embarked']\n",
    "all_df=all_df[cols]"
   ]
  },
  {
   "cell_type": "code",
   "execution_count": 144,
   "metadata": {
    "collapsed": true
   },
   "outputs": [],
   "source": [
    "msk = numpy.random.rand(len(all_df)) < 0.8\n",
    "train_df = all_df[msk]\n",
    "test_df = all_df[~msk]"
   ]
  },
  {
   "cell_type": "code",
   "execution_count": 145,
   "metadata": {
    "collapsed": false
   },
   "outputs": [
    {
     "name": "stdout",
     "output_type": "stream",
     "text": [
      "total: 1309 train: 1034 test: 275\n"
     ]
    }
   ],
   "source": [
    "print('total:',len(all_df),\n",
    "      'train:',len(train_df),\n",
    "      'test:',len(test_df))"
   ]
  },
  {
   "cell_type": "code",
   "execution_count": 146,
   "metadata": {
    "collapsed": true
   },
   "outputs": [],
   "source": [
    "def PreprocessData(raw_df):\n",
    "    df=raw_df.drop(['name'], axis=1)\n",
    "    age_mean = df['age'].mean()\n",
    "    df['age'] = df['age'].fillna(age_mean)\n",
    "    fare_mean = df['fare'].mean()\n",
    "    df['fare'] = df['fare'].fillna(fare_mean)\n",
    "    df['sex']= df['sex'].map({'female':0, 'male': 1}).astype(int)\n",
    "    x_OneHot_df = pd.get_dummies(data=df,columns=[\"embarked\" ])\n",
    "\n",
    "    ndarray = x_OneHot_df.values\n",
    "    Features = ndarray[:,1:]\n",
    "    Label = ndarray[:,0]\n",
    "\n",
    "    minmax_scale = preprocessing.MinMaxScaler(feature_range=(0, 1))\n",
    "    scaledFeatures=minmax_scale.fit_transform(Features)    \n",
    "    \n",
    "    return scaledFeatures,Label"
   ]
  },
  {
   "cell_type": "code",
   "execution_count": 147,
   "metadata": {
    "collapsed": false
   },
   "outputs": [],
   "source": [
    "train_Features,train_Label=PreprocessData(train_df)\n",
    "test_Features,test_Label=PreprocessData(test_df)"
   ]
  },
  {
   "cell_type": "code",
   "execution_count": 148,
   "metadata": {
    "collapsed": false
   },
   "outputs": [
    {
     "data": {
      "text/plain": [
       "array([[0.        , 0.        , 0.38844819, 0.        , 0.        ,\n",
       "        0.41250333, 0.        , 0.        , 1.        ],\n",
       "       [0.        , 1.        , 0.00679502, 0.125     , 0.22222222,\n",
       "        0.2958059 , 0.        , 0.        , 1.        ]])"
      ]
     },
     "execution_count": 148,
     "metadata": {},
     "output_type": "execute_result"
    }
   ],
   "source": [
    "train_Features[:2]"
   ]
  },
  {
   "cell_type": "code",
   "execution_count": 149,
   "metadata": {
    "collapsed": false
   },
   "outputs": [
    {
     "data": {
      "text/plain": [
       "array([[0.        , 0.        , 0.22338172, 0.125     , 0.        ,\n",
       "        0.44409922, 1.        , 0.        , 0.        ],\n",
       "       [0.        , 1.        , 1.        , 0.        , 0.        ,\n",
       "        0.0585561 , 0.        , 0.        , 1.        ]])"
      ]
     },
     "execution_count": 149,
     "metadata": {},
     "output_type": "execute_result"
    }
   ],
   "source": [
    "test_Features[:2]"
   ]
  },
  {
   "cell_type": "code",
   "execution_count": 150,
   "metadata": {
    "collapsed": false
   },
   "outputs": [],
   "source": [
    "from keras.models import Sequential\n",
    "from keras.layers import Dense,Dropout"
   ]
  },
  {
   "cell_type": "code",
   "execution_count": 151,
   "metadata": {
    "collapsed": true
   },
   "outputs": [],
   "source": [
    "model = Sequential()"
   ]
  },
  {
   "cell_type": "code",
   "execution_count": 152,
   "metadata": {
    "collapsed": true
   },
   "outputs": [],
   "source": [
    "model.add(Dense(units=40, input_dim=9, \n",
    "                kernel_initializer='uniform', \n",
    "                activation='relu'))"
   ]
  },
  {
   "cell_type": "code",
   "execution_count": 153,
   "metadata": {
    "collapsed": true
   },
   "outputs": [],
   "source": [
    "model.add(Dense(units=1, \n",
    "                kernel_initializer='uniform',\n",
    "                activation='sigmoid'))"
   ]
  },
  {
   "cell_type": "code",
   "execution_count": 154,
   "metadata": {
    "collapsed": true
   },
   "outputs": [],
   "source": [
    "model.compile(loss='binary_crossentropy', \n",
    "              optimizer='adam', metrics=['accuracy'])"
   ]
  },
  {
   "cell_type": "code",
   "execution_count": 155,
   "metadata": {
    "collapsed": false
   },
   "outputs": [
    {
     "name": "stdout",
     "output_type": "stream",
     "text": [
      "Train on 930 samples, validate on 104 samples\n",
      "Epoch 1/30\n",
      " - 1s - loss: 0.6873 - acc: 0.5785 - val_loss: 0.6653 - val_acc: 0.7885\n",
      "Epoch 2/30\n",
      " - 0s - loss: 0.6666 - acc: 0.6290 - val_loss: 0.6124 - val_acc: 0.7885\n",
      "Epoch 3/30\n",
      " - 0s - loss: 0.6355 - acc: 0.6538 - val_loss: 0.5572 - val_acc: 0.8173\n",
      "Epoch 4/30\n",
      " - 0s - loss: 0.6009 - acc: 0.6817 - val_loss: 0.5188 - val_acc: 0.8077\n",
      "Epoch 5/30\n",
      " - 0s - loss: 0.5686 - acc: 0.7258 - val_loss: 0.4955 - val_acc: 0.8077\n",
      "Epoch 6/30\n",
      " - 0s - loss: 0.5414 - acc: 0.7699 - val_loss: 0.4764 - val_acc: 0.7981\n",
      "Epoch 7/30\n",
      " - 0s - loss: 0.5204 - acc: 0.7785 - val_loss: 0.4613 - val_acc: 0.7596\n",
      "Epoch 8/30\n",
      " - 0s - loss: 0.5060 - acc: 0.7591 - val_loss: 0.4592 - val_acc: 0.7788\n",
      "Epoch 9/30\n",
      " - 0s - loss: 0.4964 - acc: 0.7602 - val_loss: 0.4564 - val_acc: 0.7885\n",
      "Epoch 10/30\n",
      " - 0s - loss: 0.4908 - acc: 0.7570 - val_loss: 0.4515 - val_acc: 0.7885\n",
      "Epoch 11/30\n",
      " - 0s - loss: 0.4869 - acc: 0.7656 - val_loss: 0.4479 - val_acc: 0.7885\n",
      "Epoch 12/30\n",
      " - 0s - loss: 0.4837 - acc: 0.7613 - val_loss: 0.4475 - val_acc: 0.7885\n",
      "Epoch 13/30\n",
      " - 0s - loss: 0.4813 - acc: 0.7602 - val_loss: 0.4411 - val_acc: 0.7885\n",
      "Epoch 14/30\n",
      " - 0s - loss: 0.4804 - acc: 0.7559 - val_loss: 0.4421 - val_acc: 0.7885\n",
      "Epoch 15/30\n",
      " - 0s - loss: 0.4780 - acc: 0.7667 - val_loss: 0.4380 - val_acc: 0.7981\n",
      "Epoch 16/30\n",
      " - 0s - loss: 0.4767 - acc: 0.7624 - val_loss: 0.4396 - val_acc: 0.7981\n",
      "Epoch 17/30\n",
      " - 0s - loss: 0.4745 - acc: 0.7645 - val_loss: 0.4346 - val_acc: 0.7981\n",
      "Epoch 18/30\n",
      " - 0s - loss: 0.4733 - acc: 0.7667 - val_loss: 0.4327 - val_acc: 0.7885\n",
      "Epoch 19/30\n",
      " - 0s - loss: 0.4720 - acc: 0.7656 - val_loss: 0.4335 - val_acc: 0.7981\n",
      "Epoch 20/30\n",
      " - 0s - loss: 0.4709 - acc: 0.7634 - val_loss: 0.4299 - val_acc: 0.7981\n",
      "Epoch 21/30\n",
      " - 0s - loss: 0.4707 - acc: 0.7656 - val_loss: 0.4281 - val_acc: 0.7885\n",
      "Epoch 22/30\n",
      " - 0s - loss: 0.4696 - acc: 0.7753 - val_loss: 0.4301 - val_acc: 0.7885\n",
      "Epoch 23/30\n",
      " - 0s - loss: 0.4677 - acc: 0.7613 - val_loss: 0.4293 - val_acc: 0.7788\n",
      "Epoch 24/30\n",
      " - 0s - loss: 0.4670 - acc: 0.7677 - val_loss: 0.4258 - val_acc: 0.7885\n",
      "Epoch 25/30\n",
      " - 0s - loss: 0.4660 - acc: 0.7699 - val_loss: 0.4243 - val_acc: 0.7885\n",
      "Epoch 26/30\n",
      " - 0s - loss: 0.4644 - acc: 0.7720 - val_loss: 0.4233 - val_acc: 0.7981\n",
      "Epoch 27/30\n",
      " - 0s - loss: 0.4638 - acc: 0.7688 - val_loss: 0.4229 - val_acc: 0.7981\n",
      "Epoch 28/30\n",
      " - 0s - loss: 0.4625 - acc: 0.7656 - val_loss: 0.4213 - val_acc: 0.8173\n",
      "Epoch 29/30\n",
      " - 0s - loss: 0.4615 - acc: 0.7785 - val_loss: 0.4212 - val_acc: 0.8269\n",
      "Epoch 30/30\n",
      " - 0s - loss: 0.4607 - acc: 0.7785 - val_loss: 0.4220 - val_acc: 0.7981\n"
     ]
    }
   ],
   "source": [
    "train_history =model.fit(x=train_Features, \n",
    "                         y=train_Label, \n",
    "                         validation_split=0.1, \n",
    "                         epochs=30, \n",
    "                         batch_size=30,verbose=2)"
   ]
  },
  {
   "cell_type": "code",
   "execution_count": 156,
   "metadata": {
    "collapsed": true
   },
   "outputs": [],
   "source": [
    "import matplotlib.pyplot as plt\n",
    "def show_train_history(train_history,train,validation):\n",
    "    plt.plot(train_history.history[train])\n",
    "    plt.plot(train_history.history[validation])\n",
    "    plt.title('Train History')\n",
    "    plt.ylabel(train)\n",
    "    plt.xlabel('Epoch')\n",
    "    plt.legend(['train', 'validation'], loc='upper left')\n",
    "    plt.show()"
   ]
  },
  {
   "cell_type": "code",
   "execution_count": 157,
   "metadata": {
    "collapsed": false
   },
   "outputs": [
    {
     "data": {
      "image/png": "[encoded data removed]",
      "text/plain": [
       "<matplotlib.figure.Figure at 0x7fbaa04d92b0>"
      ]
     },
     "metadata": {},
     "output_type": "display_data"
    }
   ],
   "source": [
    "show_train_history(train_history,'acc','val_acc')"
   ]
  },
  {
   "cell_type": "code",
   "execution_count": 158,
   "metadata": {
    "collapsed": false
   },
   "outputs": [
    {
     "data": {
      "image/png": "[encoded data removed]",
      "text/plain": [
       "<matplotlib.figure.Figure at 0x7fbaa05583c8>"
      ]
     },
     "metadata": {},
     "output_type": "display_data"
    }
   ],
   "source": [
    "show_train_history(train_history,'loss','val_loss')"
   ]
  },
  {
   "cell_type": "code",
   "execution_count": 159,
   "metadata": {
    "collapsed": false
   },
   "outputs": [
    {
     "name": "stdout",
     "output_type": "stream",
     "text": [
      "275/275 [==============================] - 0s 93us/step\n"
     ]
    }
   ],
   "source": [
    "scores = model.evaluate(x=test_Features, \n",
    "                        y=test_Label)"
   ]
  },
  {
   "cell_type": "code",
   "execution_count": 160,
   "metadata": {
    "collapsed": false
   },
   "outputs": [
    {
     "data": {
      "text/plain": [
       "0.8145454549789428"
      ]
     },
     "execution_count": 160,
     "metadata": {},
     "output_type": "execute_result"
    }
   ],
   "source": [
    "scores[1]"
   ]
  }
 ],
 "metadata": {
  "anaconda-cloud": {},
  "kernelspec": {
   "display_name": "Python [default]",
   "language": "python",
   "name": "python3"
  },
  "language_info": {
   "codemirror_mode": {
    "name": "ipython",
    "version": 3
   },
   "file_extension": ".py",
   "mimetype": "text/x-python",
   "name": "python",
   "nbconvert_exporter": "python",
   "pygments_lexer": "ipython3",
   "version": "3.5.2"
  }
 },
 "nbformat": 4,
 "nbformat_minor": 1
}
