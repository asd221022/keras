{
 "cells": [
  {
   "cell_type": "code",
   "execution_count": 32,
   "metadata": {
    "collapsed": true,
    "slideshow": {
     "slide_type": "-"
    }
   },
   "outputs": [],
   "source": [
    "import numpy\n",
    "import pandas as pd\n",
    "from sklearn import preprocessing\n",
    "numpy.random.seed(10)"
   ]
  },
  {
   "cell_type": "code",
   "execution_count": 33,
   "metadata": {
    "collapsed": true
   },
   "outputs": [],
   "source": [
    "all_df = pd.read_excel(\"data/titanic3.xls\")"
   ]
  },
  {
   "cell_type": "code",
   "execution_count": 34,
   "metadata": {
    "collapsed": true
   },
   "outputs": [],
   "source": [
    "cols=['survived','name','pclass' ,'sex', 'age', 'sibsp',\n",
    "      'parch', 'fare', 'embarked']\n",
    "all_df=all_df[cols]"
   ]
  },
  {
   "cell_type": "code",
   "execution_count": 35,
   "metadata": {
    "collapsed": true
   },
   "outputs": [],
   "source": [
    "msk = numpy.random.rand(len(all_df)) < 0.8\n",
    "train_df = all_df[msk]\n",
    "test_df = all_df[~msk]"
   ]
  },
  {
   "cell_type": "code",
   "execution_count": 36,
   "metadata": {
    "collapsed": false
   },
   "outputs": [
    {
     "name": "stdout",
     "output_type": "stream",
     "text": [
      "total: 1309 train: 1034 test: 275\n"
     ]
    }
   ],
   "source": [
    "print('total:',len(all_df),\n",
    "      'train:',len(train_df),\n",
    "      'test:',len(test_df))"
   ]
  },
  {
   "cell_type": "code",
   "execution_count": 37,
   "metadata": {
    "collapsed": true
   },
   "outputs": [],
   "source": [
    "def PreprocessData(raw_df):\n",
    "    df=raw_df.drop(['name'], axis=1)\n",
    "    age_mean = df['age'].mean()\n",
    "    df['age'] = df['age'].fillna(age_mean)\n",
    "    fare_mean = df['fare'].mean()\n",
    "    df['fare'] = df['fare'].fillna(fare_mean)\n",
    "    df['sex']= df['sex'].map({'female':0, 'male': 1}).astype(int)\n",
    "    x_OneHot_df = pd.get_dummies(data=df,columns=[\"embarked\" ])\n",
    "\n",
    "    ndarray = x_OneHot_df.values\n",
    "    Features = ndarray[:,1:]\n",
    "    Label = ndarray[:,0]\n",
    "\n",
    "    minmax_scale = preprocessing.MinMaxScaler(feature_range=(0, 1))\n",
    "    scaledFeatures=minmax_scale.fit_transform(Features)    \n",
    "    \n",
    "    return scaledFeatures,Label"
   ]
  },
  {
   "cell_type": "code",
   "execution_count": 38,
   "metadata": {
    "collapsed": false
   },
   "outputs": [],
   "source": [
    "train_Features,train_Label=PreprocessData(train_df)\n",
    "test_Features,test_Label=PreprocessData(test_df)"
   ]
  },
  {
   "cell_type": "code",
   "execution_count": 39,
   "metadata": {
    "collapsed": false
   },
   "outputs": [
    {
     "data": {
      "text/plain": [
       "array([[0.        , 0.        , 0.38844819, 0.        , 0.        ,\n",
       "        0.41250333, 0.        , 0.        , 1.        ],\n",
       "       [0.        , 1.        , 0.00679502, 0.125     , 0.22222222,\n",
       "        0.2958059 , 0.        , 0.        , 1.        ]])"
      ]
     },
     "execution_count": 39,
     "metadata": {},
     "output_type": "execute_result"
    }
   ],
   "source": [
    "train_Features[:2]"
   ]
  },
  {
   "cell_type": "code",
   "execution_count": 40,
   "metadata": {
    "collapsed": false
   },
   "outputs": [
    {
     "data": {
      "text/plain": [
       "array([[0.        , 0.        , 0.22338172, 0.125     , 0.        ,\n",
       "        0.44409922, 1.        , 0.        , 0.        ],\n",
       "       [0.        , 1.        , 1.        , 0.        , 0.        ,\n",
       "        0.0585561 , 0.        , 0.        , 1.        ]])"
      ]
     },
     "execution_count": 40,
     "metadata": {},
     "output_type": "execute_result"
    }
   ],
   "source": [
    "test_Features[:2]"
   ]
  },
  {
   "cell_type": "code",
   "execution_count": 41,
   "metadata": {
    "collapsed": false
   },
   "outputs": [],
   "source": [
    "from keras.models import Sequential\n",
    "from keras.layers import Dense,Dropout"
   ]
  },
  {
   "cell_type": "code",
   "execution_count": 42,
   "metadata": {
    "collapsed": true
   },
   "outputs": [],
   "source": [
    "model = Sequential()"
   ]
  },
  {
   "cell_type": "code",
   "execution_count": 43,
   "metadata": {
    "collapsed": true
   },
   "outputs": [],
   "source": [
    "model.add(Dense(units=40, input_dim=9, \n",
    "                kernel_initializer='uniform', \n",
    "                activation='relu'))"
   ]
  },
  {
   "cell_type": "code",
   "execution_count": 44,
   "metadata": {
    "collapsed": true
   },
   "outputs": [],
   "source": [
    "model.add(Dense(units=1, \n",
    "                kernel_initializer='uniform',\n",
    "                activation='sigmoid'))"
   ]
  },
  {
   "cell_type": "code",
   "execution_count": 45,
   "metadata": {
    "collapsed": true
   },
   "outputs": [],
   "source": [
    "model.compile(loss='binary_crossentropy', \n",
    "              optimizer='adam', metrics=['accuracy'])"
   ]
  },
  {
   "cell_type": "code",
   "execution_count": 46,
   "metadata": {
    "collapsed": false
   },
   "outputs": [
    {
     "name": "stdout",
     "output_type": "stream",
     "text": [
      "Train on 930 samples, validate on 104 samples\n",
      "Epoch 1/30\n",
      " - 1s - loss: 0.6873 - acc: 0.5785 - val_loss: 0.6653 - val_acc: 0.7885\n",
      "Epoch 2/30\n",
      " - 0s - loss: 0.6666 - acc: 0.6290 - val_loss: 0.6124 - val_acc: 0.7885\n",
      "Epoch 3/30\n",
      " - 0s - loss: 0.6355 - acc: 0.6538 - val_loss: 0.5572 - val_acc: 0.8173\n",
      "Epoch 4/30\n",
      " - 0s - loss: 0.6009 - acc: 0.6817 - val_loss: 0.5188 - val_acc: 0.8077\n",
      "Epoch 5/30\n",
      " - 0s - loss: 0.5686 - acc: 0.7258 - val_loss: 0.4950 - val_acc: 0.8077\n",
      "Epoch 6/30\n",
      " - 0s - loss: 0.5412 - acc: 0.7688 - val_loss: 0.4758 - val_acc: 0.7981\n",
      "Epoch 7/30\n",
      " - 0s - loss: 0.5201 - acc: 0.7785 - val_loss: 0.4613 - val_acc: 0.7596\n",
      "Epoch 8/30\n",
      " - 0s - loss: 0.5059 - acc: 0.7591 - val_loss: 0.4591 - val_acc: 0.7788\n",
      "Epoch 9/30\n",
      " - 0s - loss: 0.4965 - acc: 0.7613 - val_loss: 0.4564 - val_acc: 0.7885\n",
      "Epoch 10/30\n",
      " - 0s - loss: 0.4910 - acc: 0.7570 - val_loss: 0.4516 - val_acc: 0.7885\n",
      "Epoch 11/30\n",
      " - 0s - loss: 0.4871 - acc: 0.7656 - val_loss: 0.4482 - val_acc: 0.7885\n",
      "Epoch 12/30\n",
      " - 0s - loss: 0.4839 - acc: 0.7613 - val_loss: 0.4478 - val_acc: 0.7885\n",
      "Epoch 13/30\n",
      " - 0s - loss: 0.4815 - acc: 0.7602 - val_loss: 0.4415 - val_acc: 0.7885\n",
      "Epoch 14/30\n",
      " - 0s - loss: 0.4806 - acc: 0.7559 - val_loss: 0.4425 - val_acc: 0.7885\n",
      "Epoch 15/30\n",
      " - 0s - loss: 0.4783 - acc: 0.7656 - val_loss: 0.4385 - val_acc: 0.7981\n",
      "Epoch 16/30\n",
      " - 0s - loss: 0.4769 - acc: 0.7624 - val_loss: 0.4402 - val_acc: 0.7981\n",
      "Epoch 17/30\n",
      " - 0s - loss: 0.4748 - acc: 0.7656 - val_loss: 0.4352 - val_acc: 0.7981\n",
      "Epoch 18/30\n",
      " - 0s - loss: 0.4736 - acc: 0.7656 - val_loss: 0.4333 - val_acc: 0.7885\n",
      "Epoch 19/30\n",
      " - 0s - loss: 0.4723 - acc: 0.7656 - val_loss: 0.4342 - val_acc: 0.7981\n",
      "Epoch 20/30\n",
      " - 0s - loss: 0.4712 - acc: 0.7645 - val_loss: 0.4305 - val_acc: 0.7885\n",
      "Epoch 21/30\n",
      " - 0s - loss: 0.4709 - acc: 0.7656 - val_loss: 0.4287 - val_acc: 0.7885\n",
      "Epoch 22/30\n",
      " - 0s - loss: 0.4698 - acc: 0.7763 - val_loss: 0.4308 - val_acc: 0.7885\n",
      "Epoch 23/30\n",
      " - 0s - loss: 0.4680 - acc: 0.7613 - val_loss: 0.4299 - val_acc: 0.7788\n",
      "Epoch 24/30\n",
      " - 0s - loss: 0.4672 - acc: 0.7667 - val_loss: 0.4264 - val_acc: 0.7885\n",
      "Epoch 25/30\n",
      " - 0s - loss: 0.4663 - acc: 0.7699 - val_loss: 0.4248 - val_acc: 0.7885\n",
      "Epoch 26/30\n",
      " - 0s - loss: 0.4647 - acc: 0.7720 - val_loss: 0.4239 - val_acc: 0.7885\n",
      "Epoch 27/30\n",
      " - 0s - loss: 0.4642 - acc: 0.7688 - val_loss: 0.4234 - val_acc: 0.7885\n",
      "Epoch 28/30\n",
      " - 0s - loss: 0.4628 - acc: 0.7645 - val_loss: 0.4217 - val_acc: 0.8077\n",
      "Epoch 29/30\n",
      " - 0s - loss: 0.4619 - acc: 0.7774 - val_loss: 0.4216 - val_acc: 0.8269\n",
      "Epoch 30/30\n",
      " - 0s - loss: 0.4610 - acc: 0.7785 - val_loss: 0.4225 - val_acc: 0.7885\n"
     ]
    }
   ],
   "source": [
    "train_history =model.fit(x=train_Features, \n",
    "                         y=train_Label, \n",
    "                         validation_split=0.1, \n",
    "                         epochs=30, \n",
    "                         batch_size=30,verbose=2)"
   ]
  },
  {
   "cell_type": "code",
   "execution_count": 47,
   "metadata": {
    "collapsed": true
   },
   "outputs": [],
   "source": [
    "import matplotlib.pyplot as plt\n",
    "def show_train_history(train_history,train,validation):\n",
    "    plt.plot(train_history.history[train])\n",
    "    plt.plot(train_history.history[validation])\n",
    "    plt.title('Train History')\n",
    "    plt.ylabel(train)\n",
    "    plt.xlabel('Epoch')\n",
    "    plt.legend(['train', 'validation'], loc='upper left')\n",
    "    plt.show()"
   ]
  },
  {
   "cell_type": "code",
   "execution_count": 48,
   "metadata": {
    "collapsed": false
   },
   "outputs": [
    {
     "data": {
      "image/png": "[encoded data removed]",
      "text/plain": [
       "<matplotlib.figure.Figure at 0x7fd020e1a470>"
      ]
     },
     "metadata": {},
     "output_type": "display_data"
    }
   ],
   "source": [
    "show_train_history(train_history,'acc','val_acc')"
   ]
  },
  {
   "cell_type": "code",
   "execution_count": 49,
   "metadata": {
    "collapsed": false
   },
   "outputs": [
    {
     "data": {
      "image/png": "[encoded data removed]",
      "text/plain": [
       "<matplotlib.figure.Figure at 0x7fd020e03e80>"
      ]
     },
     "metadata": {},
     "output_type": "display_data"
    }
   ],
   "source": [
    "show_train_history(train_history,'loss','val_loss')"
   ]
  },
  {
   "cell_type": "code",
   "execution_count": 50,
   "metadata": {
    "collapsed": false
   },
   "outputs": [
    {
     "name": "stdout",
     "output_type": "stream",
     "text": [
      "275/275 [==============================] - 0s 37us/step\n"
     ]
    }
   ],
   "source": [
    "scores = model.evaluate(x=test_Features, \n",
    "                        y=test_Label)"
   ]
  },
  {
   "cell_type": "code",
   "execution_count": 51,
   "metadata": {
    "collapsed": false
   },
   "outputs": [
    {
     "data": {
      "text/plain": [
       "0.8072727277062156"
      ]
     },
     "execution_count": 51,
     "metadata": {},
     "output_type": "execute_result"
    }
   ],
   "source": [
    "scores[1]"
   ]
  }
 ],
 "metadata": {
  "anaconda-cloud": {},
  "kernelspec": {
   "display_name": "Python [default]",
   "language": "python",
   "name": "python3"
  },
  "language_info": {
   "codemirror_mode": {
    "name": "ipython",
    "version": 3
   },
   "file_extension": ".py",
   "mimetype": "text/x-python",
   "name": "python",
   "nbconvert_exporter": "python",
   "pygments_lexer": "ipython3",
   "version": "3.5.2"
  }
 },
 "nbformat": 4,
 "nbformat_minor": 1
}
