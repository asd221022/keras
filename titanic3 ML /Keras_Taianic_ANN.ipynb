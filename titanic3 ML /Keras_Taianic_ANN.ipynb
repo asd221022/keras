{
 "cells": [
  {
   "cell_type": "code",
   "execution_count": 1,
   "metadata": {
    "collapsed": true,
    "slideshow": {
     "slide_type": "-"
    }
   },
   "outputs": [],
   "source": [
    "import numpy\n",
    "import pandas as pd\n",
    "from sklearn import preprocessing\n",
    "numpy.random.seed(10)"
   ]
  },
  {
   "cell_type": "code",
   "execution_count": 2,
   "metadata": {
    "collapsed": true
   },
   "outputs": [],
   "source": [
    "all_df = pd.read_excel(\"data/titanic3.xls\")"
   ]
  },
  {
   "cell_type": "code",
   "execution_count": 3,
   "metadata": {
    "collapsed": true
   },
   "outputs": [],
   "source": [
    "cols=['survived','name','pclass' ,'sex', 'age', 'sibsp',\n",
    "      'parch', 'fare', 'embarked']\n",
    "all_df=all_df[cols]"
   ]
  },
  {
   "cell_type": "code",
   "execution_count": 4,
   "metadata": {
    "collapsed": true
   },
   "outputs": [],
   "source": [
    "msk = numpy.random.rand(len(all_df)) < 0.8\n",
    "train_df = all_df[msk]\n",
    "test_df = all_df[~msk]"
   ]
  },
  {
   "cell_type": "code",
   "execution_count": 5,
   "metadata": {
    "collapsed": false
   },
   "outputs": [
    {
     "name": "stdout",
     "output_type": "stream",
     "text": [
      "total: 1309 train: 1034 test: 275\n"
     ]
    }
   ],
   "source": [
    "print('total:',len(all_df),\n",
    "      'train:',len(train_df),\n",
    "      'test:',len(test_df))"
   ]
  },
  {
   "cell_type": "code",
   "execution_count": 6,
   "metadata": {
    "collapsed": true
   },
   "outputs": [],
   "source": [
    "def PreprocessData(raw_df):\n",
    "    df=raw_df.drop(['name'], axis=1)\n",
    "    age_mean = df['age'].mean()\n",
    "    df['age'] = df['age'].fillna(age_mean)\n",
    "    fare_mean = df['fare'].mean()\n",
    "    df['fare'] = df['fare'].fillna(fare_mean)\n",
    "    df['sex']= df['sex'].map({'female':0, 'male': 1}).astype(int)\n",
    "    x_OneHot_df = pd.get_dummies(data=df,columns=[\"embarked\" ])\n",
    "\n",
    "    ndarray = x_OneHot_df.values\n",
    "    Features = ndarray[:,1:]\n",
    "    Label = ndarray[:,0]\n",
    "\n",
    "    minmax_scale = preprocessing.MinMaxScaler(feature_range=(0, 1))\n",
    "    scaledFeatures=minmax_scale.fit_transform(Features)    \n",
    "    \n",
    "    return scaledFeatures,Label"
   ]
  },
  {
   "cell_type": "code",
   "execution_count": 7,
   "metadata": {
    "collapsed": false
   },
   "outputs": [],
   "source": [
    "train_Features,train_Label=PreprocessData(train_df)\n",
    "test_Features,test_Label=PreprocessData(test_df)"
   ]
  },
  {
   "cell_type": "code",
   "execution_count": 8,
   "metadata": {
    "collapsed": false
   },
   "outputs": [
    {
     "data": {
      "text/plain": [
       "array([[0.        , 0.        , 0.38844819, 0.        , 0.        ,\n",
       "        0.41250333, 0.        , 0.        , 1.        ],\n",
       "       [0.        , 1.        , 0.00679502, 0.125     , 0.22222222,\n",
       "        0.2958059 , 0.        , 0.        , 1.        ]])"
      ]
     },
     "execution_count": 8,
     "metadata": {},
     "output_type": "execute_result"
    }
   ],
   "source": [
    "train_Features[:2]"
   ]
  },
  {
   "cell_type": "code",
   "execution_count": 9,
   "metadata": {
    "collapsed": false
   },
   "outputs": [
    {
     "data": {
      "text/plain": [
       "array([[0.        , 0.        , 0.22338172, 0.125     , 0.        ,\n",
       "        0.44409922, 1.        , 0.        , 0.        ],\n",
       "       [0.        , 1.        , 1.        , 0.        , 0.        ,\n",
       "        0.0585561 , 0.        , 0.        , 1.        ]])"
      ]
     },
     "execution_count": 9,
     "metadata": {},
     "output_type": "execute_result"
    }
   ],
   "source": [
    "test_Features[:2]"
   ]
  },
  {
   "cell_type": "code",
   "execution_count": 10,
   "metadata": {
    "collapsed": false
   },
   "outputs": [
    {
     "name": "stderr",
     "output_type": "stream",
     "text": [
      "Using TensorFlow backend.\n"
     ]
    }
   ],
   "source": [
    "from keras.models import Sequential\n",
    "from keras.layers import Dense,Dropout"
   ]
  },
  {
   "cell_type": "code",
   "execution_count": 11,
   "metadata": {
    "collapsed": true
   },
   "outputs": [],
   "source": [
    "model = Sequential()"
   ]
  },
  {
   "cell_type": "code",
   "execution_count": 12,
   "metadata": {
    "collapsed": true
   },
   "outputs": [],
   "source": [
    "model.add(Dense(units=40, input_dim=9, \n",
    "                kernel_initializer='uniform', \n",
    "                activation='relu'))"
   ]
  },
  {
   "cell_type": "code",
   "execution_count": 13,
   "metadata": {
    "collapsed": true
   },
   "outputs": [],
   "source": [
    "model.add(Dense(units=30, \n",
    "                kernel_initializer='uniform', \n",
    "                activation='relu'))"
   ]
  },
  {
   "cell_type": "code",
   "execution_count": 14,
   "metadata": {
    "collapsed": true
   },
   "outputs": [],
   "source": [
    "model.add(Dense(units=1, \n",
    "                kernel_initializer='uniform',\n",
    "                activation='sigmoid'))"
   ]
  },
  {
   "cell_type": "code",
   "execution_count": 15,
   "metadata": {
    "collapsed": true
   },
   "outputs": [],
   "source": [
    "model.compile(loss='binary_crossentropy', \n",
    "              optimizer='adam', metrics=['accuracy'])"
   ]
  },
  {
   "cell_type": "code",
   "execution_count": 16,
   "metadata": {
    "collapsed": false
   },
   "outputs": [
    {
     "name": "stdout",
     "output_type": "stream",
     "text": [
      "Train on 930 samples, validate on 104 samples\n",
      "Epoch 1/30\n",
      " - 1s - loss: 0.6899 - acc: 0.5774 - val_loss: 0.6705 - val_acc: 0.7885\n",
      "Epoch 2/30\n",
      " - 0s - loss: 0.6677 - acc: 0.5989 - val_loss: 0.5914 - val_acc: 0.7885\n",
      "Epoch 3/30\n",
      " - 0s - loss: 0.6098 - acc: 0.6677 - val_loss: 0.4945 - val_acc: 0.8173\n",
      "Epoch 4/30\n",
      " - 0s - loss: 0.5453 - acc: 0.7613 - val_loss: 0.4629 - val_acc: 0.7788\n",
      "Epoch 5/30\n",
      " - 0s - loss: 0.5058 - acc: 0.7613 - val_loss: 0.4543 - val_acc: 0.7885\n",
      "Epoch 6/30\n",
      " - 0s - loss: 0.4904 - acc: 0.7645 - val_loss: 0.4395 - val_acc: 0.7788\n",
      "Epoch 7/30\n",
      " - 0s - loss: 0.4817 - acc: 0.7602 - val_loss: 0.4419 - val_acc: 0.7885\n",
      "Epoch 8/30\n",
      " - 0s - loss: 0.4784 - acc: 0.7581 - val_loss: 0.4344 - val_acc: 0.7981\n",
      "Epoch 9/30\n",
      " - 0s - loss: 0.4726 - acc: 0.7634 - val_loss: 0.4270 - val_acc: 0.7981\n",
      "Epoch 10/30\n",
      " - 0s - loss: 0.4693 - acc: 0.7785 - val_loss: 0.4250 - val_acc: 0.7981\n",
      "Epoch 11/30\n",
      " - 0s - loss: 0.4653 - acc: 0.7656 - val_loss: 0.4217 - val_acc: 0.8173\n",
      "Epoch 12/30\n",
      " - 0s - loss: 0.4637 - acc: 0.7677 - val_loss: 0.4181 - val_acc: 0.8365\n",
      "Epoch 13/30\n",
      " - 0s - loss: 0.4621 - acc: 0.7796 - val_loss: 0.4185 - val_acc: 0.8365\n",
      "Epoch 14/30\n",
      " - 0s - loss: 0.4606 - acc: 0.7742 - val_loss: 0.4181 - val_acc: 0.8365\n",
      "Epoch 15/30\n",
      " - 0s - loss: 0.4626 - acc: 0.7839 - val_loss: 0.4196 - val_acc: 0.8269\n",
      "Epoch 16/30\n",
      " - 0s - loss: 0.4560 - acc: 0.7796 - val_loss: 0.4160 - val_acc: 0.8365\n",
      "Epoch 17/30\n",
      " - 0s - loss: 0.4547 - acc: 0.7871 - val_loss: 0.4160 - val_acc: 0.8365\n",
      "Epoch 18/30\n",
      " - 0s - loss: 0.4537 - acc: 0.7871 - val_loss: 0.4112 - val_acc: 0.7981\n",
      "Epoch 19/30\n",
      " - 0s - loss: 0.4535 - acc: 0.7968 - val_loss: 0.4193 - val_acc: 0.8173\n",
      "Epoch 20/30\n",
      " - 0s - loss: 0.4506 - acc: 0.7871 - val_loss: 0.4115 - val_acc: 0.8173\n",
      "Epoch 21/30\n",
      " - 0s - loss: 0.4504 - acc: 0.7957 - val_loss: 0.4120 - val_acc: 0.8077\n",
      "Epoch 22/30\n",
      " - 0s - loss: 0.4492 - acc: 0.7957 - val_loss: 0.4127 - val_acc: 0.8269\n",
      "Epoch 23/30\n",
      " - 0s - loss: 0.4518 - acc: 0.7849 - val_loss: 0.4140 - val_acc: 0.8269\n",
      "Epoch 24/30\n",
      " - 0s - loss: 0.4485 - acc: 0.7892 - val_loss: 0.4150 - val_acc: 0.8269\n",
      "Epoch 25/30\n",
      " - 0s - loss: 0.4486 - acc: 0.7914 - val_loss: 0.4185 - val_acc: 0.8269\n",
      "Epoch 26/30\n",
      " - 0s - loss: 0.4498 - acc: 0.7978 - val_loss: 0.4173 - val_acc: 0.8269\n",
      "Epoch 27/30\n",
      " - 0s - loss: 0.4454 - acc: 0.8022 - val_loss: 0.4133 - val_acc: 0.8173\n",
      "Epoch 28/30\n",
      " - 0s - loss: 0.4494 - acc: 0.7871 - val_loss: 0.4124 - val_acc: 0.8077\n",
      "Epoch 29/30\n",
      " - 0s - loss: 0.4451 - acc: 0.7957 - val_loss: 0.4161 - val_acc: 0.8173\n",
      "Epoch 30/30\n",
      " - 0s - loss: 0.4520 - acc: 0.7914 - val_loss: 0.4158 - val_acc: 0.8173\n"
     ]
    }
   ],
   "source": [
    "train_history =model.fit(x=train_Features, \n",
    "                         y=train_Label, \n",
    "                         validation_split=0.1, \n",
    "                         epochs=30, \n",
    "                         batch_size=30,verbose=2)"
   ]
  },
  {
   "cell_type": "code",
   "execution_count": 17,
   "metadata": {
    "collapsed": true
   },
   "outputs": [],
   "source": [
    "import matplotlib.pyplot as plt\n",
    "def show_train_history(train_history,train,validation):\n",
    "    plt.plot(train_history.history[train])\n",
    "    plt.plot(train_history.history[validation])\n",
    "    plt.title('Train History')\n",
    "    plt.ylabel(train)\n",
    "    plt.xlabel('Epoch')\n",
    "    plt.legend(['train', 'validation'], loc='upper left')\n",
    "    plt.show()"
   ]
  },
  {
   "cell_type": "code",
   "execution_count": 18,
   "metadata": {
    "collapsed": false
   },
   "outputs": [
    {
     "data": {
      "image/png": "[encoded data removed]",
      "text/plain": [
       "<matplotlib.figure.Figure at 0x7ffa48796da0>"
      ]
     },
     "metadata": {},
     "output_type": "display_data"
    }
   ],
   "source": [
    "show_train_history(train_history,'acc','val_acc')"
   ]
  },
  {
   "cell_type": "code",
   "execution_count": 19,
   "metadata": {
    "collapsed": false
   },
   "outputs": [
    {
     "data": {
      "image/png": "[encoded data removed]",
      "text/plain": [
       "<matplotlib.figure.Figure at 0x7ffa235c9ba8>"
      ]
     },
     "metadata": {},
     "output_type": "display_data"
    }
   ],
   "source": [
    "show_train_history(train_history,'loss','val_loss')"
   ]
  },
  {
   "cell_type": "code",
   "execution_count": 20,
   "metadata": {
    "collapsed": false
   },
   "outputs": [
    {
     "name": "stdout",
     "output_type": "stream",
     "text": [
      "275/275 [==============================] - 0s 43us/step\n"
     ]
    }
   ],
   "source": [
    "scores = model.evaluate(x=test_Features, \n",
    "                        y=test_Label)"
   ]
  },
  {
   "cell_type": "code",
   "execution_count": 21,
   "metadata": {
    "collapsed": false
   },
   "outputs": [
    {
     "data": {
      "text/plain": [
       "0.8109090913425793"
      ]
     },
     "execution_count": 21,
     "metadata": {},
     "output_type": "execute_result"
    }
   ],
   "source": [
    "scores[1]"
   ]
  }
 ],
 "metadata": {
  "anaconda-cloud": {},
  "kernelspec": {
   "display_name": "Python [default]",
   "language": "python",
   "name": "python3"
  },
  "language_info": {
   "codemirror_mode": {
    "name": "ipython",
    "version": 3
   },
   "file_extension": ".py",
   "mimetype": "text/x-python",
   "name": "python",
   "nbconvert_exporter": "python",
   "pygments_lexer": "ipython3",
   "version": "3.5.2"
  }
 },
 "nbformat": 4,
 "nbformat_minor": 1
}
