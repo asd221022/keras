{
 "cells": [
  {
   "cell_type": "code",
   "execution_count": 42,
   "metadata": {
    "collapsed": true,
    "slideshow": {
     "slide_type": "-"
    }
   },
   "outputs": [],
   "source": [
    "import numpy\n",
    "import pandas as pd\n",
    "from sklearn import preprocessing\n",
    "numpy.random.seed(10)"
   ]
  },
  {
   "cell_type": "code",
   "execution_count": 43,
   "metadata": {
    "collapsed": true
   },
   "outputs": [],
   "source": [
    "all_df = pd.read_csv(\"data/titanic.csv\")"
   ]
  },
  {
   "cell_type": "code",
   "execution_count": 44,
   "metadata": {
    "collapsed": false
   },
   "outputs": [
    {
     "data": {
      "text/plain": [
       "survived    0\n",
       "pclass      0\n",
       "sex         0\n",
       "age         0\n",
       "fare        0\n",
       "dtype: int64"
      ]
     },
     "execution_count": 44,
     "metadata": {},
     "output_type": "execute_result"
    }
   ],
   "source": [
    "cols=['survived','pclass' ,'sex', 'age',\n",
    "       'fare',]\n",
    "df=all_df[cols]\n",
    "df.isnull().sum()"
   ]
  },
  {
   "cell_type": "code",
   "execution_count": 45,
   "metadata": {
    "collapsed": false
   },
   "outputs": [
    {
     "name": "stdout",
     "output_type": "stream",
     "text": [
      "total: 1308 train: 1033 test: 275\n"
     ]
    }
   ],
   "source": [
    "msk = numpy.random.rand(len(df)) < 0.8\n",
    "train_df = df[msk]\n",
    "test_df = df[~msk]\n",
    "print('total:',len(df),\n",
    "      'train:',len(train_df),\n",
    "      'test:',len(test_df))"
   ]
  },
  {
   "cell_type": "code",
   "execution_count": 46,
   "metadata": {
    "collapsed": false
   },
   "outputs": [
    {
     "data": {
      "text/html": [
       "<div>\n",
       "<table border=\"1\" class=\"dataframe\">\n",
       "  <thead>\n",
       "    <tr style=\"text-align: right;\">\n",
       "      <th></th>\n",
       "      <th>survived</th>\n",
       "      <th>pclass</th>\n",
       "      <th>sex</th>\n",
       "      <th>age</th>\n",
       "      <th>fare</th>\n",
       "    </tr>\n",
       "  </thead>\n",
       "  <tbody>\n",
       "    <tr>\n",
       "      <th>0</th>\n",
       "      <td>1</td>\n",
       "      <td>1</td>\n",
       "      <td>0</td>\n",
       "      <td>29.0000</td>\n",
       "      <td>211.3375</td>\n",
       "    </tr>\n",
       "    <tr>\n",
       "      <th>1</th>\n",
       "      <td>1</td>\n",
       "      <td>1</td>\n",
       "      <td>1</td>\n",
       "      <td>0.9167</td>\n",
       "      <td>151.5500</td>\n",
       "    </tr>\n",
       "    <tr>\n",
       "      <th>2</th>\n",
       "      <td>0</td>\n",
       "      <td>1</td>\n",
       "      <td>0</td>\n",
       "      <td>2.0000</td>\n",
       "      <td>151.5500</td>\n",
       "    </tr>\n",
       "    <tr>\n",
       "      <th>3</th>\n",
       "      <td>0</td>\n",
       "      <td>1</td>\n",
       "      <td>1</td>\n",
       "      <td>30.0000</td>\n",
       "      <td>151.5500</td>\n",
       "    </tr>\n",
       "  </tbody>\n",
       "</table>\n",
       "</div>"
      ],
      "text/plain": [
       "   survived  pclass  sex      age      fare\n",
       "0         1       1    0  29.0000  211.3375\n",
       "1         1       1    1   0.9167  151.5500\n",
       "2         0       1    0   2.0000  151.5500\n",
       "3         0       1    1  30.0000  151.5500"
      ]
     },
     "execution_count": 46,
     "metadata": {},
     "output_type": "execute_result"
    }
   ],
   "source": [
    "df[:4]"
   ]
  },
  {
   "cell_type": "code",
   "execution_count": 47,
   "metadata": {
    "collapsed": false
   },
   "outputs": [],
   "source": [
    "trainray= train_df.values\n",
    "train_Features = trainray[:,1:]\n",
    "train_Label = trainray[:,0]\n",
    "    \n",
    "testray= test_df.values\n",
    "test_Features = testray[:,1:]\n",
    "test_Label = testray[:,0]\n",
    "\n",
    "minmax_scale = preprocessing.MinMaxScaler(feature_range=(0, 1))\n",
    "train_Features=minmax_scale.fit_transform(train_Features)  \n",
    "test_Features=minmax_scale.fit_transform(test_Features)"
   ]
  },
  {
   "cell_type": "code",
   "execution_count": 48,
   "metadata": {
    "collapsed": false
   },
   "outputs": [
    {
     "data": {
      "text/plain": [
       "array([[0.5       , 1.        , 0.48532708, 0.02513033],\n",
       "       [0.5       , 1.        , 0.82392769, 0.02410559],\n",
       "       [0.5       , 1.        , 0.67494342, 0.05074862],\n",
       "       [0.5       , 0.        , 0.56659123, 0.05074862]])"
      ]
     },
     "execution_count": 48,
     "metadata": {},
     "output_type": "execute_result"
    }
   ],
   "source": [
    "train_Features[355:359]"
   ]
  },
  {
   "cell_type": "code",
   "execution_count": 49,
   "metadata": {
    "collapsed": false
   },
   "outputs": [
    {
     "data": {
      "text/plain": [
       "array([[0.        , 0.        , 0.39051891, 0.41250333],\n",
       "       [0.        , 1.        , 0.01015802, 0.2958059 ],\n",
       "       [0.        , 0.        , 0.02483026, 0.2958059 ],\n",
       "       [0.        , 1.        , 0.40406294, 0.2958059 ]])"
      ]
     },
     "execution_count": 49,
     "metadata": {},
     "output_type": "execute_result"
    }
   ],
   "source": [
    "train_Features[:4]"
   ]
  },
  {
   "cell_type": "code",
   "execution_count": 50,
   "metadata": {
    "collapsed": false
   },
   "outputs": [
    {
     "data": {
      "text/plain": [
       "array([1., 1., 0., 0.])"
      ]
     },
     "execution_count": 50,
     "metadata": {},
     "output_type": "execute_result"
    }
   ],
   "source": [
    "train_Label[:4]"
   ]
  },
  {
   "cell_type": "code",
   "execution_count": 51,
   "metadata": {
    "collapsed": false
   },
   "outputs": [],
   "source": [
    "from keras.models import Sequential\n",
    "from keras.layers import Dense,Dropout"
   ]
  },
  {
   "cell_type": "code",
   "execution_count": 52,
   "metadata": {
    "collapsed": true
   },
   "outputs": [],
   "source": [
    "model = Sequential()"
   ]
  },
  {
   "cell_type": "code",
   "execution_count": 53,
   "metadata": {
    "collapsed": true
   },
   "outputs": [],
   "source": [
    "model.add(Dense(units=40, input_dim=4, \n",
    "                kernel_initializer='uniform', \n",
    "                activation='relu'))"
   ]
  },
  {
   "cell_type": "code",
   "execution_count": 54,
   "metadata": {
    "collapsed": true
   },
   "outputs": [],
   "source": [
    "model.add(Dense(units=4, \n",
    "                kernel_initializer='uniform', \n",
    "                activation='relu'))"
   ]
  },
  {
   "cell_type": "code",
   "execution_count": 55,
   "metadata": {
    "collapsed": true
   },
   "outputs": [],
   "source": [
    "model.add(Dense(units=1, \n",
    "                kernel_initializer='uniform',\n",
    "                activation='sigmoid'))"
   ]
  },
  {
   "cell_type": "code",
   "execution_count": 56,
   "metadata": {
    "collapsed": false
   },
   "outputs": [
    {
     "name": "stdout",
     "output_type": "stream",
     "text": [
      "_________________________________________________________________\n",
      "Layer (type)                 Output Shape              Param #   \n",
      "=================================================================\n",
      "dense_7 (Dense)              (None, 40)                200       \n",
      "_________________________________________________________________\n",
      "dense_8 (Dense)              (None, 4)                 164       \n",
      "_________________________________________________________________\n",
      "dense_9 (Dense)              (None, 1)                 5         \n",
      "=================================================================\n",
      "Total params: 369\n",
      "Trainable params: 369\n",
      "Non-trainable params: 0\n",
      "_________________________________________________________________\n"
     ]
    }
   ],
   "source": [
    "model.summary()"
   ]
  },
  {
   "cell_type": "code",
   "execution_count": 57,
   "metadata": {
    "collapsed": true
   },
   "outputs": [],
   "source": [
    "model.compile(loss='binary_crossentropy', \n",
    "              optimizer='adam', metrics=['accuracy'])"
   ]
  },
  {
   "cell_type": "code",
   "execution_count": 58,
   "metadata": {
    "collapsed": false
   },
   "outputs": [
    {
     "name": "stdout",
     "output_type": "stream",
     "text": [
      "Train on 929 samples, validate on 104 samples\n",
      "Epoch 1/30\n",
      " - 1s - loss: 0.6917 - acc: 0.6006 - val_loss: 0.6859 - val_acc: 0.7404\n",
      "Epoch 2/30\n",
      " - 0s - loss: 0.6875 - acc: 0.5985 - val_loss: 0.6745 - val_acc: 0.7404\n",
      "Epoch 3/30\n",
      " - 0s - loss: 0.6785 - acc: 0.5985 - val_loss: 0.6531 - val_acc: 0.7404\n",
      "Epoch 4/30\n",
      " - 0s - loss: 0.6602 - acc: 0.6017 - val_loss: 0.6157 - val_acc: 0.7404\n",
      "Epoch 5/30\n",
      " - 0s - loss: 0.6308 - acc: 0.6652 - val_loss: 0.5698 - val_acc: 0.7404\n",
      "Epoch 6/30\n",
      " - 0s - loss: 0.5934 - acc: 0.7330 - val_loss: 0.5260 - val_acc: 0.7404\n",
      "Epoch 7/30\n",
      " - 0s - loss: 0.5570 - acc: 0.7836 - val_loss: 0.4894 - val_acc: 0.7212\n",
      "Epoch 8/30\n",
      " - 0s - loss: 0.5282 - acc: 0.7729 - val_loss: 0.4674 - val_acc: 0.8077\n",
      "Epoch 9/30\n",
      " - 0s - loss: 0.5095 - acc: 0.7761 - val_loss: 0.4568 - val_acc: 0.8077\n",
      "Epoch 10/30\n",
      " - 0s - loss: 0.4988 - acc: 0.7761 - val_loss: 0.4505 - val_acc: 0.8077\n",
      "Epoch 11/30\n",
      " - 0s - loss: 0.4930 - acc: 0.7729 - val_loss: 0.4500 - val_acc: 0.8077\n",
      "Epoch 12/30\n",
      " - 0s - loss: 0.4884 - acc: 0.7718 - val_loss: 0.4504 - val_acc: 0.8077\n",
      "Epoch 13/30\n",
      " - 0s - loss: 0.4856 - acc: 0.7718 - val_loss: 0.4489 - val_acc: 0.8077\n",
      "Epoch 14/30\n",
      " - 0s - loss: 0.4829 - acc: 0.7707 - val_loss: 0.4489 - val_acc: 0.8077\n",
      "Epoch 15/30\n",
      " - 0s - loss: 0.4812 - acc: 0.7675 - val_loss: 0.4497 - val_acc: 0.8077\n",
      "Epoch 16/30\n",
      " - 0s - loss: 0.4798 - acc: 0.7686 - val_loss: 0.4496 - val_acc: 0.8077\n",
      "Epoch 17/30\n",
      " - 0s - loss: 0.4775 - acc: 0.7718 - val_loss: 0.4495 - val_acc: 0.8077\n",
      "Epoch 18/30\n",
      " - 0s - loss: 0.4774 - acc: 0.7675 - val_loss: 0.4504 - val_acc: 0.8077\n",
      "Epoch 19/30\n",
      " - 0s - loss: 0.4767 - acc: 0.7578 - val_loss: 0.4510 - val_acc: 0.7692\n",
      "Epoch 20/30\n",
      " - 0s - loss: 0.4749 - acc: 0.7664 - val_loss: 0.4497 - val_acc: 0.8077\n",
      "Epoch 21/30\n",
      " - 0s - loss: 0.4727 - acc: 0.7675 - val_loss: 0.4509 - val_acc: 0.8173\n",
      "Epoch 22/30\n",
      " - 0s - loss: 0.4723 - acc: 0.7653 - val_loss: 0.4486 - val_acc: 0.8077\n",
      "Epoch 23/30\n",
      " - 0s - loss: 0.4714 - acc: 0.7718 - val_loss: 0.4492 - val_acc: 0.8077\n",
      "Epoch 24/30\n",
      " - 0s - loss: 0.4710 - acc: 0.7675 - val_loss: 0.4499 - val_acc: 0.8654\n",
      "Epoch 25/30\n",
      " - 0s - loss: 0.4705 - acc: 0.7761 - val_loss: 0.4490 - val_acc: 0.8173\n",
      "Epoch 26/30\n",
      " - 0s - loss: 0.4688 - acc: 0.7707 - val_loss: 0.4493 - val_acc: 0.8173\n",
      "Epoch 27/30\n",
      " - 0s - loss: 0.4678 - acc: 0.7826 - val_loss: 0.4498 - val_acc: 0.7788\n",
      "Epoch 28/30\n",
      " - 0s - loss: 0.4675 - acc: 0.7793 - val_loss: 0.4506 - val_acc: 0.7115\n",
      "Epoch 29/30\n",
      " - 0s - loss: 0.4667 - acc: 0.7772 - val_loss: 0.4481 - val_acc: 0.8365\n",
      "Epoch 30/30\n",
      " - 0s - loss: 0.4658 - acc: 0.7750 - val_loss: 0.4493 - val_acc: 0.7788\n"
     ]
    }
   ],
   "source": [
    "train_history =model.fit(x=train_Features, \n",
    "                         y=train_Label, \n",
    "                         validation_split=0.1, \n",
    "                         epochs=30, \n",
    "                         batch_size=30,verbose=2)"
   ]
  },
  {
   "cell_type": "code",
   "execution_count": 59,
   "metadata": {
    "collapsed": true
   },
   "outputs": [],
   "source": [
    "import matplotlib.pyplot as plt\n",
    "def show_train_history(train_history,train,validation):\n",
    "    plt.plot(train_history.history[train])\n",
    "    plt.plot(train_history.history[validation])\n",
    "    plt.title('Train History')\n",
    "    plt.ylabel(train)\n",
    "    plt.xlabel('Epoch')\n",
    "    plt.legend(['train', 'validation'], loc='upper left')\n",
    "    plt.show()"
   ]
  },
  {
   "cell_type": "code",
   "execution_count": 60,
   "metadata": {
    "collapsed": false
   },
   "outputs": [
    {
     "data": {
      "image/png": "[encoded data removed]",
      "text/plain": [
       "<matplotlib.figure.Figure at 0x7f70f9937c18>"
      ]
     },
     "metadata": {},
     "output_type": "display_data"
    }
   ],
   "source": [
    "show_train_history(train_history,'acc','val_acc')"
   ]
  },
  {
   "cell_type": "code",
   "execution_count": 61,
   "metadata": {
    "collapsed": false
   },
   "outputs": [
    {
     "data": {
      "image/png": "[encoded data removed]",
      "text/plain": [
       "<matplotlib.figure.Figure at 0x7f70f049aa58>"
      ]
     },
     "metadata": {},
     "output_type": "display_data"
    }
   ],
   "source": [
    "show_train_history(train_history,'loss','val_loss')"
   ]
  },
  {
   "cell_type": "code",
   "execution_count": 62,
   "metadata": {
    "collapsed": false
   },
   "outputs": [
    {
     "name": "stdout",
     "output_type": "stream",
     "text": [
      "275/275 [==============================] - 0s 56us/step\n"
     ]
    }
   ],
   "source": [
    "scores = model.evaluate(x=test_Features, \n",
    "                        y=test_Label)"
   ]
  },
  {
   "cell_type": "code",
   "execution_count": 63,
   "metadata": {
    "collapsed": false
   },
   "outputs": [
    {
     "data": {
      "text/plain": [
       "0.7927272731607611"
      ]
     },
     "execution_count": 63,
     "metadata": {},
     "output_type": "execute_result"
    }
   ],
   "source": [
    "scores[1]"
   ]
  }
 ],
 "metadata": {
  "anaconda-cloud": {},
  "kernelspec": {
   "display_name": "Python [default]",
   "language": "python",
   "name": "python3"
  },
  "language_info": {
   "codemirror_mode": {
    "name": "ipython",
    "version": 3
   },
   "file_extension": ".py",
   "mimetype": "text/x-python",
   "name": "python",
   "nbconvert_exporter": "python",
   "pygments_lexer": "ipython3",
   "version": "3.5.2"
  }
 },
 "nbformat": 4,
 "nbformat_minor": 1
}
