{
 "cells": [
  {
   "cell_type": "code",
   "execution_count": 125,
   "metadata": {
    "collapsed": true,
    "slideshow": {
     "slide_type": "-"
    }
   },
   "outputs": [],
   "source": [
    "import numpy\n",
    "import pandas as pd\n",
    "from sklearn.preprocessing import StandardScaler\n",
    "from sklearn.cross_validation import train_test_split\n",
    "numpy.random.seed(10)"
   ]
  },
  {
   "cell_type": "code",
   "execution_count": 126,
   "metadata": {
    "collapsed": true
   },
   "outputs": [],
   "source": [
    "all_df = pd.read_csv(\"data/titanic.csv\")"
   ]
  },
  {
   "cell_type": "code",
   "execution_count": 127,
   "metadata": {
    "collapsed": false
   },
   "outputs": [],
   "source": [
    "cols=['survived','pclass' ,'sex', 'age',\n",
    "       'fare',]\n",
    "df=all_df[cols]\n",
    "df.isnull().sum()\n",
    "df=df.values"
   ]
  },
  {
   "cell_type": "code",
   "execution_count": 128,
   "metadata": {
    "collapsed": false
   },
   "outputs": [
    {
     "data": {
      "text/plain": [
       "array([[  1.    ,   0.    ,  29.    , 211.3375],\n",
       "       [  1.    ,   1.    ,   0.9167, 151.55  ],\n",
       "       [  1.    ,   0.    ,   2.    , 151.55  ],\n",
       "       [  1.    ,   1.    ,  30.    , 151.55  ],\n",
       "       [  1.    ,   0.    ,  25.    , 151.55  ]])"
      ]
     },
     "execution_count": 128,
     "metadata": {},
     "output_type": "execute_result"
    }
   ],
   "source": [
    "X = df[:,1:]\n",
    "Y = df[:,0]\n",
    "X[:5]"
   ]
  },
  {
   "cell_type": "code",
   "execution_count": 129,
   "metadata": {
    "collapsed": false
   },
   "outputs": [
    {
     "data": {
      "text/plain": [
       "array([1., 1., 0., 0., 0.])"
      ]
     },
     "execution_count": 129,
     "metadata": {},
     "output_type": "execute_result"
    }
   ],
   "source": [
    "Y[:5]"
   ]
  },
  {
   "cell_type": "code",
   "execution_count": 147,
   "metadata": {
    "collapsed": false
   },
   "outputs": [
    {
     "data": {
      "text/plain": [
       "1046"
      ]
     },
     "execution_count": 147,
     "metadata": {},
     "output_type": "execute_result"
    }
   ],
   "source": [
    " X = StandardScaler().fit_transform(X)\n",
    "train_Features, test_Features, train_Label, test_Label = train_test_split(X, Y, test_size=0.2, random_state=True) \n",
    "len(train_Features)"
   ]
  },
  {
   "cell_type": "code",
   "execution_count": 131,
   "metadata": {
    "collapsed": false
   },
   "outputs": [
    {
     "data": {
      "text/plain": [
       "array([[ 0.84246649, -1.34419751,  0.8216082 , -0.46039806],\n",
       "       [ 0.84246649, -1.34419751,  0.09991351, -0.19415727],\n",
       "       [ 0.84246649,  0.74393829, -0.18876436, -0.49092056],\n",
       "       [-0.35140802, -1.34419751,  0.17208298, -0.23764487]])"
      ]
     },
     "execution_count": 131,
     "metadata": {},
     "output_type": "execute_result"
    }
   ],
   "source": [
    "train_Features[355:359]"
   ]
  },
  {
   "cell_type": "code",
   "execution_count": 132,
   "metadata": {
    "collapsed": false
   },
   "outputs": [
    {
     "data": {
      "text/plain": [
       "array([[-1.54528253, -1.34419751,  0.09991351,  1.02832767],\n",
       "       [ 0.84246649,  0.74393829,  1.54330288, -0.48794021],\n",
       "       [ 0.84246649,  0.74393829, -0.69395064, -0.49092056],\n",
       "       [ 0.84246649,  0.74393829, -0.5496117 , -0.49373855]])"
      ]
     },
     "execution_count": 132,
     "metadata": {},
     "output_type": "execute_result"
    }
   ],
   "source": [
    "train_Features[:4]"
   ]
  },
  {
   "cell_type": "code",
   "execution_count": 133,
   "metadata": {
    "collapsed": false
   },
   "outputs": [
    {
     "data": {
      "text/plain": [
       "array([1., 0., 0., 0.])"
      ]
     },
     "execution_count": 133,
     "metadata": {},
     "output_type": "execute_result"
    }
   ],
   "source": [
    "train_Label[:4]"
   ]
  },
  {
   "cell_type": "code",
   "execution_count": 134,
   "metadata": {
    "collapsed": false
   },
   "outputs": [],
   "source": [
    "from keras.models import Sequential\n",
    "from keras.layers import Dense,Dropout"
   ]
  },
  {
   "cell_type": "code",
   "execution_count": 135,
   "metadata": {
    "collapsed": true
   },
   "outputs": [],
   "source": [
    "model = Sequential()"
   ]
  },
  {
   "cell_type": "code",
   "execution_count": 136,
   "metadata": {
    "collapsed": true
   },
   "outputs": [],
   "source": [
    "model.add(Dense(units=40, input_dim=4, \n",
    "                kernel_initializer='uniform', \n",
    "                activation='relu'))"
   ]
  },
  {
   "cell_type": "code",
   "execution_count": 137,
   "metadata": {
    "collapsed": true
   },
   "outputs": [],
   "source": [
    "model.add(Dense(units=4, \n",
    "                kernel_initializer='uniform', \n",
    "                activation='relu'))"
   ]
  },
  {
   "cell_type": "code",
   "execution_count": 138,
   "metadata": {
    "collapsed": true
   },
   "outputs": [],
   "source": [
    "model.add(Dense(units=1, \n",
    "                kernel_initializer='uniform',\n",
    "                activation='sigmoid'))"
   ]
  },
  {
   "cell_type": "code",
   "execution_count": 139,
   "metadata": {
    "collapsed": false
   },
   "outputs": [
    {
     "name": "stdout",
     "output_type": "stream",
     "text": [
      "_________________________________________________________________\n",
      "Layer (type)                 Output Shape              Param #   \n",
      "=================================================================\n",
      "dense_16 (Dense)             (None, 40)                200       \n",
      "_________________________________________________________________\n",
      "dense_17 (Dense)             (None, 4)                 164       \n",
      "_________________________________________________________________\n",
      "dense_18 (Dense)             (None, 1)                 5         \n",
      "=================================================================\n",
      "Total params: 369\n",
      "Trainable params: 369\n",
      "Non-trainable params: 0\n",
      "_________________________________________________________________\n"
     ]
    }
   ],
   "source": [
    "model.summary()"
   ]
  },
  {
   "cell_type": "code",
   "execution_count": 140,
   "metadata": {
    "collapsed": true
   },
   "outputs": [],
   "source": [
    "model.compile(loss='binary_crossentropy', \n",
    "              optimizer='adam', metrics=['accuracy'])"
   ]
  },
  {
   "cell_type": "code",
   "execution_count": 141,
   "metadata": {
    "collapsed": false
   },
   "outputs": [
    {
     "name": "stdout",
     "output_type": "stream",
     "text": [
      "Train on 941 samples, validate on 105 samples\n",
      "Epoch 1/30\n",
      " - 1s - loss: 0.6909 - acc: 0.6036 - val_loss: 0.6874 - val_acc: 0.6571\n",
      "Epoch 2/30\n",
      " - 0s - loss: 0.6826 - acc: 0.6514 - val_loss: 0.6760 - val_acc: 0.6952\n",
      "Epoch 3/30\n",
      " - 0s - loss: 0.6600 - acc: 0.7662 - val_loss: 0.6524 - val_acc: 0.7333\n",
      "Epoch 4/30\n",
      " - 0s - loss: 0.6125 - acc: 0.7768 - val_loss: 0.6162 - val_acc: 0.7429\n",
      "Epoch 5/30\n",
      " - 0s - loss: 0.5534 - acc: 0.7715 - val_loss: 0.5792 - val_acc: 0.7333\n",
      "Epoch 6/30\n",
      " - 0s - loss: 0.5074 - acc: 0.7747 - val_loss: 0.5566 - val_acc: 0.7429\n",
      "Epoch 7/30\n",
      " - 0s - loss: 0.4805 - acc: 0.7790 - val_loss: 0.5487 - val_acc: 0.7333\n",
      "Epoch 8/30\n",
      " - 0s - loss: 0.4686 - acc: 0.7811 - val_loss: 0.5461 - val_acc: 0.7429\n",
      "Epoch 9/30\n",
      " - 0s - loss: 0.4631 - acc: 0.7821 - val_loss: 0.5453 - val_acc: 0.7429\n",
      "Epoch 10/30\n",
      " - 0s - loss: 0.4604 - acc: 0.7832 - val_loss: 0.5453 - val_acc: 0.7333\n",
      "Epoch 11/30\n",
      " - 0s - loss: 0.4575 - acc: 0.7832 - val_loss: 0.5424 - val_acc: 0.7429\n",
      "Epoch 12/30\n",
      " - 0s - loss: 0.4558 - acc: 0.7864 - val_loss: 0.5458 - val_acc: 0.7333\n",
      "Epoch 13/30\n",
      " - 0s - loss: 0.4546 - acc: 0.7832 - val_loss: 0.5459 - val_acc: 0.7333\n",
      "Epoch 14/30\n",
      " - 0s - loss: 0.4540 - acc: 0.7779 - val_loss: 0.5430 - val_acc: 0.7333\n",
      "Epoch 15/30\n",
      " - 0s - loss: 0.4528 - acc: 0.7779 - val_loss: 0.5446 - val_acc: 0.7333\n",
      "Epoch 16/30\n",
      " - 0s - loss: 0.4521 - acc: 0.7832 - val_loss: 0.5436 - val_acc: 0.7333\n",
      "Epoch 17/30\n",
      " - 0s - loss: 0.4517 - acc: 0.7896 - val_loss: 0.5454 - val_acc: 0.7143\n",
      "Epoch 18/30\n",
      " - 0s - loss: 0.4517 - acc: 0.7800 - val_loss: 0.5447 - val_acc: 0.7238\n",
      "Epoch 19/30\n",
      " - 0s - loss: 0.4505 - acc: 0.7906 - val_loss: 0.5438 - val_acc: 0.7143\n",
      "Epoch 20/30\n",
      " - 0s - loss: 0.4504 - acc: 0.7875 - val_loss: 0.5458 - val_acc: 0.7048\n",
      "Epoch 21/30\n",
      " - 0s - loss: 0.4498 - acc: 0.7885 - val_loss: 0.5442 - val_acc: 0.7048\n",
      "Epoch 22/30\n",
      " - 0s - loss: 0.4489 - acc: 0.7885 - val_loss: 0.5439 - val_acc: 0.7048\n",
      "Epoch 23/30\n",
      " - 0s - loss: 0.4488 - acc: 0.7960 - val_loss: 0.5449 - val_acc: 0.7048\n",
      "Epoch 24/30\n",
      " - 0s - loss: 0.4484 - acc: 0.7843 - val_loss: 0.5478 - val_acc: 0.7048\n",
      "Epoch 25/30\n",
      " - 0s - loss: 0.4480 - acc: 0.7853 - val_loss: 0.5466 - val_acc: 0.7048\n",
      "Epoch 26/30\n",
      " - 0s - loss: 0.4474 - acc: 0.7917 - val_loss: 0.5436 - val_acc: 0.7048\n",
      "Epoch 27/30\n",
      " - 0s - loss: 0.4473 - acc: 0.7970 - val_loss: 0.5420 - val_acc: 0.7238\n",
      "Epoch 28/30\n",
      " - 0s - loss: 0.4470 - acc: 0.7906 - val_loss: 0.5455 - val_acc: 0.7048\n",
      "Epoch 29/30\n",
      " - 0s - loss: 0.4469 - acc: 0.7875 - val_loss: 0.5435 - val_acc: 0.7143\n",
      "Epoch 30/30\n",
      " - 0s - loss: 0.4467 - acc: 0.7896 - val_loss: 0.5436 - val_acc: 0.7238\n"
     ]
    }
   ],
   "source": [
    "train_history =model.fit(x=train_Features, \n",
    "                         y=train_Label, \n",
    "                         validation_split=0.1, \n",
    "                         epochs=30, \n",
    "                         batch_size=30,verbose=2)"
   ]
  },
  {
   "cell_type": "code",
   "execution_count": 142,
   "metadata": {
    "collapsed": true
   },
   "outputs": [],
   "source": [
    "import matplotlib.pyplot as plt\n",
    "def show_train_history(train_history,train,validation):\n",
    "    plt.plot(train_history.history[train])\n",
    "    plt.plot(train_history.history[validation])\n",
    "    plt.title('Train History')\n",
    "    plt.ylabel(train)\n",
    "    plt.xlabel('Epoch')\n",
    "    plt.legend(['train', 'validation'], loc='upper left')\n",
    "    plt.show()"
   ]
  },
  {
   "cell_type": "code",
   "execution_count": 143,
   "metadata": {
    "collapsed": false
   },
   "outputs": [
    {
     "data": {
      "image/png": "[encoded data removed]",
      "text/plain": [
       "<matplotlib.figure.Figure at 0x7f796f54f908>"
      ]
     },
     "metadata": {},
     "output_type": "display_data"
    }
   ],
   "source": [
    "show_train_history(train_history,'acc','val_acc')"
   ]
  },
  {
   "cell_type": "code",
   "execution_count": 144,
   "metadata": {
    "collapsed": false
   },
   "outputs": [
    {
     "data": {
      "image/png": "[encoded data removed]",
      "text/plain": [
       "<matplotlib.figure.Figure at 0x7f796f5036a0>"
      ]
     },
     "metadata": {},
     "output_type": "display_data"
    }
   ],
   "source": [
    "show_train_history(train_history,'loss','val_loss')"
   ]
  },
  {
   "cell_type": "code",
   "execution_count": 145,
   "metadata": {
    "collapsed": false
   },
   "outputs": [
    {
     "name": "stdout",
     "output_type": "stream",
     "text": [
      "262/262 [==============================] - 0s 81us/step\n"
     ]
    }
   ],
   "source": [
    "scores = model.evaluate(x=test_Features, \n",
    "                        y=test_Label)"
   ]
  },
  {
   "cell_type": "code",
   "execution_count": 146,
   "metadata": {
    "collapsed": false
   },
   "outputs": [
    {
     "data": {
      "text/plain": [
       "0.7900763354228653"
      ]
     },
     "execution_count": 146,
     "metadata": {},
     "output_type": "execute_result"
    }
   ],
   "source": [
    "scores[1]"
   ]
  }
 ],
 "metadata": {
  "anaconda-cloud": {},
  "kernelspec": {
   "display_name": "Python [default]",
   "language": "python",
   "name": "python3"
  },
  "language_info": {
   "codemirror_mode": {
    "name": "ipython",
    "version": 3
   },
   "file_extension": ".py",
   "mimetype": "text/x-python",
   "name": "python",
   "nbconvert_exporter": "python",
   "pygments_lexer": "ipython3",
   "version": "3.5.2"
  }
 },
 "nbformat": 4,
 "nbformat_minor": 1
}
