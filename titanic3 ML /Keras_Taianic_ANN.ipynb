{
 "cells": [
  {
   "cell_type": "code",
   "execution_count": 9,
   "metadata": {
    "collapsed": true,
    "slideshow": {
     "slide_type": "-"
    }
   },
   "outputs": [],
   "source": [
    "import numpy\n",
    "import pandas as pd\n",
    "from sklearn import preprocessing\n",
    "numpy.random.seed(10)"
   ]
  },
  {
   "cell_type": "code",
   "execution_count": 10,
   "metadata": {
    "collapsed": true
   },
   "outputs": [],
   "source": [
    "all_df = pd.read_excel(\"data/titanic3.xls\")"
   ]
  },
  {
   "cell_type": "code",
   "execution_count": 11,
   "metadata": {
    "collapsed": true
   },
   "outputs": [],
   "source": [
    "cols=['survived','name','pclass' ,'sex', 'age',\n",
    "       'fare',]\n",
    "all_df=all_df[cols]"
   ]
  },
  {
   "cell_type": "code",
   "execution_count": 12,
   "metadata": {
    "collapsed": true
   },
   "outputs": [],
   "source": [
    "df=all_df.drop(['name'], axis=1)\n",
    "age_mean = df['age'].mean()\n",
    "df['age'] = df['age'].fillna(age_mean)\n",
    "fare_mean = df['fare'].mean()\n",
    "df['fare'] = df['fare'].fillna(fare_mean)\n",
    "df['sex']= df['sex'].map({'female':0, 'male': 1}).astype(int)"
   ]
  },
  {
   "cell_type": "code",
   "execution_count": 13,
   "metadata": {
    "collapsed": false
   },
   "outputs": [
    {
     "name": "stdout",
     "output_type": "stream",
     "text": [
      "total: 1309 train: 1034 test: 275\n"
     ]
    }
   ],
   "source": [
    "msk = numpy.random.rand(len(df)) < 0.8\n",
    "train_df = df[msk]\n",
    "test_df = df[~msk]\n",
    "print('total:',len(df),\n",
    "      'train:',len(train_df),\n",
    "      'test:',len(test_df))"
   ]
  },
  {
   "cell_type": "code",
   "execution_count": 15,
   "metadata": {
    "collapsed": false
   },
   "outputs": [
    {
     "data": {
      "text/html": [
       "<div>\n",
       "<table border=\"1\" class=\"dataframe\">\n",
       "  <thead>\n",
       "    <tr style=\"text-align: right;\">\n",
       "      <th></th>\n",
       "      <th>survived</th>\n",
       "      <th>pclass</th>\n",
       "      <th>sex</th>\n",
       "      <th>age</th>\n",
       "      <th>fare</th>\n",
       "    </tr>\n",
       "  </thead>\n",
       "  <tbody>\n",
       "    <tr>\n",
       "      <th>0</th>\n",
       "      <td>1</td>\n",
       "      <td>1</td>\n",
       "      <td>0</td>\n",
       "      <td>29.0000</td>\n",
       "      <td>211.3375</td>\n",
       "    </tr>\n",
       "    <tr>\n",
       "      <th>1</th>\n",
       "      <td>1</td>\n",
       "      <td>1</td>\n",
       "      <td>1</td>\n",
       "      <td>0.9167</td>\n",
       "      <td>151.5500</td>\n",
       "    </tr>\n",
       "    <tr>\n",
       "      <th>2</th>\n",
       "      <td>0</td>\n",
       "      <td>1</td>\n",
       "      <td>0</td>\n",
       "      <td>2.0000</td>\n",
       "      <td>151.5500</td>\n",
       "    </tr>\n",
       "    <tr>\n",
       "      <th>3</th>\n",
       "      <td>0</td>\n",
       "      <td>1</td>\n",
       "      <td>1</td>\n",
       "      <td>30.0000</td>\n",
       "      <td>151.5500</td>\n",
       "    </tr>\n",
       "  </tbody>\n",
       "</table>\n",
       "</div>"
      ],
      "text/plain": [
       "   survived  pclass  sex      age      fare\n",
       "0         1       1    0  29.0000  211.3375\n",
       "1         1       1    1   0.9167  151.5500\n",
       "2         0       1    0   2.0000  151.5500\n",
       "3         0       1    1  30.0000  151.5500"
      ]
     },
     "execution_count": 15,
     "metadata": {},
     "output_type": "execute_result"
    }
   ],
   "source": [
    "df[:4]"
   ]
  },
  {
   "cell_type": "code",
   "execution_count": 19,
   "metadata": {
    "collapsed": false
   },
   "outputs": [
    {
     "data": {
      "text/plain": [
       "array([[  1.    ,   1.    ,   0.    ,  29.    , 211.3375],\n",
       "       [  1.    ,   1.    ,   1.    ,   0.9167, 151.55  ],\n",
       "       [  0.    ,   1.    ,   0.    ,   2.    , 151.55  ],\n",
       "       ...,\n",
       "       [  0.    ,   3.    ,   1.    ,  26.5   ,   7.225 ],\n",
       "       [  0.    ,   3.    ,   1.    ,  27.    ,   7.225 ],\n",
       "       [  0.    ,   3.    ,   1.    ,  29.    ,   7.875 ]])"
      ]
     },
     "execution_count": 19,
     "metadata": {},
     "output_type": "execute_result"
    }
   ],
   "source": [
    "trainray= train_df.values\n",
    "train_Features = trainray[:,1:]\n",
    "train_Label = trainray[:,0]\n",
    "    \n",
    "testray= test_df.values\n",
    "test_Features = testray[:,1:]\n",
    "test_Label = testray[:,0]\n",
    "\n",
    "minmax_scale = preprocessing.MinMaxScaler(feature_range=(0, 1))\n",
    "train_Features=minmax_scale.fit_transform(train_Features)  \n",
    "test_Features=minmax_scale.fit_transform(test_Features)"
   ]
  },
  {
   "cell_type": "code",
   "execution_count": 7,
   "metadata": {
    "collapsed": false
   },
   "outputs": [
    {
     "data": {
      "text/plain": [
       "array([[ 2. ,  0. , 24. , 65. ],\n",
       "       [ 2. ,  0. , 48. , 65. ],\n",
       "       [ 2. ,  0. , 55. , 16. ],\n",
       "       [ 2. ,  1. , 24. , 73.5]])"
      ]
     },
     "execution_count": 7,
     "metadata": {},
     "output_type": "execute_result"
    }
   ],
   "source": [
    "train_Features[355:359]"
   ]
  },
  {
   "cell_type": "code",
   "execution_count": 17,
   "metadata": {
    "collapsed": false
   },
   "outputs": [
    {
     "data": {
      "text/plain": [
       "array([[  1.    ,   0.    ,  29.    , 211.3375],\n",
       "       [  1.    ,   1.    ,   0.9167, 151.55  ],\n",
       "       [  1.    ,   0.    ,   2.    , 151.55  ],\n",
       "       [  1.    ,   1.    ,  30.    , 151.55  ]])"
      ]
     },
     "execution_count": 17,
     "metadata": {},
     "output_type": "execute_result"
    }
   ],
   "source": [
    "train_Features[:4]"
   ]
  },
  {
   "cell_type": "code",
   "execution_count": 42,
   "metadata": {
    "collapsed": false
   },
   "outputs": [
    {
     "data": {
      "text/plain": [
       "array([1., 1., 0., 0.])"
      ]
     },
     "execution_count": 42,
     "metadata": {},
     "output_type": "execute_result"
    }
   ],
   "source": [
    "train_Label[:4]"
   ]
  },
  {
   "cell_type": "code",
   "execution_count": 43,
   "metadata": {
    "collapsed": false
   },
   "outputs": [],
   "source": [
    "from keras.models import Sequential\n",
    "from keras.layers import Dense,Dropout"
   ]
  },
  {
   "cell_type": "code",
   "execution_count": 44,
   "metadata": {
    "collapsed": true
   },
   "outputs": [],
   "source": [
    "model = Sequential()"
   ]
  },
  {
   "cell_type": "code",
   "execution_count": 45,
   "metadata": {
    "collapsed": true
   },
   "outputs": [],
   "source": [
    "model.add(Dense(units=40, input_dim=4, \n",
    "                kernel_initializer='uniform', \n",
    "                activation='relu'))"
   ]
  },
  {
   "cell_type": "code",
   "execution_count": 46,
   "metadata": {
    "collapsed": true
   },
   "outputs": [],
   "source": [
    "model.add(Dense(units=4, \n",
    "                kernel_initializer='uniform', \n",
    "                activation='relu'))"
   ]
  },
  {
   "cell_type": "code",
   "execution_count": 47,
   "metadata": {
    "collapsed": true
   },
   "outputs": [],
   "source": [
    "model.add(Dense(units=1, \n",
    "                kernel_initializer='uniform',\n",
    "                activation='sigmoid'))"
   ]
  },
  {
   "cell_type": "code",
   "execution_count": 48,
   "metadata": {
    "collapsed": false
   },
   "outputs": [
    {
     "name": "stdout",
     "output_type": "stream",
     "text": [
      "_________________________________________________________________\n",
      "Layer (type)                 Output Shape              Param #   \n",
      "=================================================================\n",
      "dense_4 (Dense)              (None, 40)                200       \n",
      "_________________________________________________________________\n",
      "dense_5 (Dense)              (None, 4)                 164       \n",
      "_________________________________________________________________\n",
      "dense_6 (Dense)              (None, 1)                 5         \n",
      "=================================================================\n",
      "Total params: 369\n",
      "Trainable params: 369\n",
      "Non-trainable params: 0\n",
      "_________________________________________________________________\n"
     ]
    }
   ],
   "source": [
    "model.summary()"
   ]
  },
  {
   "cell_type": "code",
   "execution_count": 49,
   "metadata": {
    "collapsed": true
   },
   "outputs": [],
   "source": [
    "model.compile(loss='binary_crossentropy', \n",
    "              optimizer='adam', metrics=['accuracy'])"
   ]
  },
  {
   "cell_type": "code",
   "execution_count": 50,
   "metadata": {
    "collapsed": false
   },
   "outputs": [
    {
     "name": "stdout",
     "output_type": "stream",
     "text": [
      "Train on 930 samples, validate on 104 samples\n",
      "Epoch 1/30\n",
      " - 0s - loss: 0.6918 - acc: 0.5785 - val_loss: 0.6847 - val_acc: 0.7885\n",
      "Epoch 2/30\n",
      " - 0s - loss: 0.6870 - acc: 0.5871 - val_loss: 0.6685 - val_acc: 0.7885\n",
      "Epoch 3/30\n",
      " - 0s - loss: 0.6726 - acc: 0.5882 - val_loss: 0.6268 - val_acc: 0.7885\n",
      "Epoch 4/30\n",
      " - 0s - loss: 0.6401 - acc: 0.6355 - val_loss: 0.5601 - val_acc: 0.7885\n",
      "Epoch 5/30\n",
      " - 0s - loss: 0.5986 - acc: 0.7097 - val_loss: 0.5002 - val_acc: 0.7885\n",
      "Epoch 6/30\n",
      " - 0s - loss: 0.5647 - acc: 0.7763 - val_loss: 0.4655 - val_acc: 0.7692\n",
      "Epoch 7/30\n",
      " - 0s - loss: 0.5399 - acc: 0.7774 - val_loss: 0.4600 - val_acc: 0.7885\n",
      "Epoch 8/30\n",
      " - 0s - loss: 0.5248 - acc: 0.7731 - val_loss: 0.4541 - val_acc: 0.7885\n",
      "Epoch 9/30\n",
      " - 0s - loss: 0.5139 - acc: 0.7731 - val_loss: 0.4508 - val_acc: 0.7885\n",
      "Epoch 10/30\n",
      " - 0s - loss: 0.5061 - acc: 0.7731 - val_loss: 0.4468 - val_acc: 0.7885\n",
      "Epoch 11/30\n",
      " - 0s - loss: 0.4998 - acc: 0.7710 - val_loss: 0.4497 - val_acc: 0.7885\n",
      "Epoch 12/30\n",
      " - 0s - loss: 0.4947 - acc: 0.7667 - val_loss: 0.4463 - val_acc: 0.7885\n",
      "Epoch 13/30\n",
      " - 0s - loss: 0.4915 - acc: 0.7645 - val_loss: 0.4450 - val_acc: 0.7885\n",
      "Epoch 14/30\n",
      " - 0s - loss: 0.4882 - acc: 0.7634 - val_loss: 0.4486 - val_acc: 0.7885\n",
      "Epoch 15/30\n",
      " - 0s - loss: 0.4864 - acc: 0.7634 - val_loss: 0.4465 - val_acc: 0.7885\n",
      "Epoch 16/30\n",
      " - 0s - loss: 0.4822 - acc: 0.7634 - val_loss: 0.4437 - val_acc: 0.7885\n",
      "Epoch 17/30\n",
      " - 0s - loss: 0.4807 - acc: 0.7634 - val_loss: 0.4437 - val_acc: 0.7885\n",
      "Epoch 18/30\n",
      " - 0s - loss: 0.4795 - acc: 0.7634 - val_loss: 0.4422 - val_acc: 0.7885\n",
      "Epoch 19/30\n",
      " - 0s - loss: 0.4780 - acc: 0.7667 - val_loss: 0.4440 - val_acc: 0.7885\n",
      "Epoch 20/30\n",
      " - 0s - loss: 0.4759 - acc: 0.7645 - val_loss: 0.4430 - val_acc: 0.7885\n",
      "Epoch 21/30\n",
      " - 0s - loss: 0.4744 - acc: 0.7656 - val_loss: 0.4410 - val_acc: 0.7692\n",
      "Epoch 22/30\n",
      " - 0s - loss: 0.4733 - acc: 0.7645 - val_loss: 0.4425 - val_acc: 0.7788\n",
      "Epoch 23/30\n",
      " - 0s - loss: 0.4738 - acc: 0.7667 - val_loss: 0.4403 - val_acc: 0.7692\n",
      "Epoch 24/30\n",
      " - 0s - loss: 0.4715 - acc: 0.7634 - val_loss: 0.4435 - val_acc: 0.7788\n",
      "Epoch 25/30\n",
      " - 0s - loss: 0.4713 - acc: 0.7688 - val_loss: 0.4431 - val_acc: 0.7692\n",
      "Epoch 26/30\n",
      " - 0s - loss: 0.4700 - acc: 0.7710 - val_loss: 0.4425 - val_acc: 0.7692\n",
      "Epoch 27/30\n",
      " - 0s - loss: 0.4687 - acc: 0.7667 - val_loss: 0.4409 - val_acc: 0.7788\n",
      "Epoch 28/30\n",
      " - 0s - loss: 0.4683 - acc: 0.7624 - val_loss: 0.4388 - val_acc: 0.7692\n",
      "Epoch 29/30\n",
      " - 0s - loss: 0.4673 - acc: 0.7806 - val_loss: 0.4415 - val_acc: 0.7788\n",
      "Epoch 30/30\n",
      " - 0s - loss: 0.4683 - acc: 0.7742 - val_loss: 0.4408 - val_acc: 0.7788\n"
     ]
    }
   ],
   "source": [
    "train_history =model.fit(x=train_Features, \n",
    "                         y=train_Label, \n",
    "                         validation_split=0.1, \n",
    "                         epochs=30, \n",
    "                         batch_size=30,verbose=2)"
   ]
  },
  {
   "cell_type": "code",
   "execution_count": 51,
   "metadata": {
    "collapsed": true
   },
   "outputs": [],
   "source": [
    "import matplotlib.pyplot as plt\n",
    "def show_train_history(train_history,train,validation):\n",
    "    plt.plot(train_history.history[train])\n",
    "    plt.plot(train_history.history[validation])\n",
    "    plt.title('Train History')\n",
    "    plt.ylabel(train)\n",
    "    plt.xlabel('Epoch')\n",
    "    plt.legend(['train', 'validation'], loc='upper left')\n",
    "    plt.show()"
   ]
  },
  {
   "cell_type": "code",
   "execution_count": 52,
   "metadata": {
    "collapsed": false
   },
   "outputs": [
    {
     "data": {
      "image/png": "[encoded data removed]",
      "text/plain": [
       "<matplotlib.figure.Figure at 0x7f6c03fed400>"
      ]
     },
     "metadata": {},
     "output_type": "display_data"
    }
   ],
   "source": [
    "show_train_history(train_history,'acc','val_acc')"
   ]
  },
  {
   "cell_type": "code",
   "execution_count": 53,
   "metadata": {
    "collapsed": false
   },
   "outputs": [
    {
     "data": {
      "image/png": "[encoded data removed]",
      "text/plain": [
       "<matplotlib.figure.Figure at 0x7f6c1090d278>"
      ]
     },
     "metadata": {},
     "output_type": "display_data"
    }
   ],
   "source": [
    "show_train_history(train_history,'loss','val_loss')"
   ]
  },
  {
   "cell_type": "code",
   "execution_count": 54,
   "metadata": {
    "collapsed": false
   },
   "outputs": [
    {
     "name": "stdout",
     "output_type": "stream",
     "text": [
      "275/275 [==============================] - 0s 42us/step\n"
     ]
    }
   ],
   "source": [
    "scores = model.evaluate(x=test_Features, \n",
    "                        y=test_Label)"
   ]
  },
  {
   "cell_type": "code",
   "execution_count": 55,
   "metadata": {
    "collapsed": false
   },
   "outputs": [
    {
     "data": {
      "text/plain": [
       "0.8072727292234247"
      ]
     },
     "execution_count": 55,
     "metadata": {},
     "output_type": "execute_result"
    }
   ],
   "source": [
    "scores[1]"
   ]
  }
 ],
 "metadata": {
  "anaconda-cloud": {},
  "kernelspec": {
   "display_name": "Python [default]",
   "language": "python",
   "name": "python3"
  },
  "language_info": {
   "codemirror_mode": {
    "name": "ipython",
    "version": 3
   },
   "file_extension": ".py",
   "mimetype": "text/x-python",
   "name": "python",
   "nbconvert_exporter": "python",
   "pygments_lexer": "ipython3",
   "version": "3.5.2"
  }
 },
 "nbformat": 4,
 "nbformat_minor": 1
}
