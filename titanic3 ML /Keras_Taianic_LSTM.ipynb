{
 "cells": [
  {
   "cell_type": "code",
   "execution_count": 41,
   "metadata": {
    "collapsed": true,
    "slideshow": {
     "slide_type": "-"
    }
   },
   "outputs": [],
   "source": [
    "import numpy\n",
    "import pandas as pd\n",
    "from sklearn import preprocessing\n",
    "numpy.random.seed(10)"
   ]
  },
  {
   "cell_type": "code",
   "execution_count": 42,
   "metadata": {
    "collapsed": true
   },
   "outputs": [],
   "source": [
    "all_df = pd.read_csv(\"data/titanic.csv\")"
   ]
  },
  {
   "cell_type": "code",
   "execution_count": 43,
   "metadata": {
    "collapsed": false
   },
   "outputs": [],
   "source": [
    "cols=['survived','pclass' ,'sex', 'age',\n",
    "       'fare',]\n",
    "df=all_df[cols]\n",
    "df.isnull().sum()\n",
    "df=df.values"
   ]
  },
  {
   "cell_type": "code",
   "execution_count": 44,
   "metadata": {
    "collapsed": false
   },
   "outputs": [
    {
     "data": {
      "text/plain": [
       "array([[  1.    ,   0.    ,  29.    , 211.3375],\n",
       "       [  1.    ,   1.    ,   0.9167, 151.55  ],\n",
       "       [  1.    ,   0.    ,   2.    , 151.55  ],\n",
       "       [  1.    ,   1.    ,  30.    , 151.55  ],\n",
       "       [  1.    ,   0.    ,  25.    , 151.55  ]])"
      ]
     },
     "execution_count": 44,
     "metadata": {},
     "output_type": "execute_result"
    }
   ],
   "source": [
    "X = df[:,1:]\n",
    "Y = df[:,0]\n",
    "X[:5]"
   ]
  },
  {
   "cell_type": "code",
   "execution_count": 45,
   "metadata": {
    "collapsed": false
   },
   "outputs": [
    {
     "data": {
      "text/plain": [
       "1046"
      ]
     },
     "execution_count": 45,
     "metadata": {},
     "output_type": "execute_result"
    }
   ],
   "source": [
    "minmax_scale = preprocessing.MinMaxScaler(feature_range=(0, 1))\n",
    "X=minmax_scale.fit_transform(X) \n",
    "train_Features, test_Features, train_Label, test_Label = train_test_split(X, Y, test_size=0.2, random_state=True) \n",
    "len(train_Features)"
   ]
  },
  {
   "cell_type": "code",
   "execution_count": 46,
   "metadata": {
    "collapsed": false
   },
   "outputs": [
    {
     "data": {
      "text/plain": [
       "array([[1.        , 0.        , 0.49895595, 0.01849397],\n",
       "       [1.        , 0.        , 0.37369494, 0.04538098],\n",
       "       [1.        , 1.        , 0.32359053, 0.01541158],\n",
       "       [0.5       , 0.        , 0.38622104, 0.04098927]])"
      ]
     },
     "execution_count": 46,
     "metadata": {},
     "output_type": "execute_result"
    }
   ],
   "source": [
    "train_Features[355:359]"
   ]
  },
  {
   "cell_type": "code",
   "execution_count": 47,
   "metadata": {
    "collapsed": false
   },
   "outputs": [
    {
     "data": {
      "text/plain": [
       "array([1., 0., 0., 0.])"
      ]
     },
     "execution_count": 47,
     "metadata": {},
     "output_type": "execute_result"
    }
   ],
   "source": [
    "train_Label[:4]"
   ]
  },
  {
   "cell_type": "code",
   "execution_count": 48,
   "metadata": {
    "collapsed": false
   },
   "outputs": [],
   "source": [
    "from keras.models import Sequential\n",
    "from keras.layers.core import Dense, Dropout, Activation,Flatten\n",
    "from keras.layers.embeddings import Embedding\n",
    "from keras.layers.recurrent import LSTM"
   ]
  },
  {
   "cell_type": "code",
   "execution_count": 49,
   "metadata": {
    "collapsed": true
   },
   "outputs": [],
   "source": [
    "model = Sequential()"
   ]
  },
  {
   "cell_type": "code",
   "execution_count": 50,
   "metadata": {
    "collapsed": true
   },
   "outputs": [],
   "source": [
    "model.add(Embedding(input_dim=4,output_dim=1))"
   ]
  },
  {
   "cell_type": "code",
   "execution_count": 51,
   "metadata": {
    "collapsed": true
   },
   "outputs": [],
   "source": [
    "model.add(LSTM(2))"
   ]
  },
  {
   "cell_type": "code",
   "execution_count": 52,
   "metadata": {
    "collapsed": true
   },
   "outputs": [],
   "source": [
    "model.add(Dense(1, activation = \"sigmoid\"))"
   ]
  },
  {
   "cell_type": "code",
   "execution_count": 53,
   "metadata": {
    "collapsed": false
   },
   "outputs": [
    {
     "name": "stdout",
     "output_type": "stream",
     "text": [
      "_________________________________________________________________\n",
      "Layer (type)                 Output Shape              Param #   \n",
      "=================================================================\n",
      "embedding_3 (Embedding)      (None, None, 1)           4         \n",
      "_________________________________________________________________\n",
      "lstm_3 (LSTM)                (None, 2)                 32        \n",
      "_________________________________________________________________\n",
      "dense_3 (Dense)              (None, 1)                 3         \n",
      "=================================================================\n",
      "Total params: 39\n",
      "Trainable params: 39\n",
      "Non-trainable params: 0\n",
      "_________________________________________________________________\n"
     ]
    }
   ],
   "source": [
    "model.summary()"
   ]
  },
  {
   "cell_type": "code",
   "execution_count": 54,
   "metadata": {
    "collapsed": true
   },
   "outputs": [],
   "source": [
    "model.compile(loss='binary_crossentropy', \n",
    "              optimizer='adam', metrics=['accuracy'])"
   ]
  },
  {
   "cell_type": "code",
   "execution_count": 55,
   "metadata": {
    "collapsed": false
   },
   "outputs": [
    {
     "name": "stdout",
     "output_type": "stream",
     "text": [
      "Train on 941 samples, validate on 105 samples\n",
      "Epoch 1/30\n",
      " - 1s - loss: 0.6905 - acc: 0.6015 - val_loss: 0.6850 - val_acc: 0.6571\n",
      "Epoch 2/30\n",
      " - 0s - loss: 0.6849 - acc: 0.6057 - val_loss: 0.6759 - val_acc: 0.6571\n",
      "Epoch 3/30\n",
      " - 0s - loss: 0.6793 - acc: 0.6057 - val_loss: 0.6677 - val_acc: 0.6571\n",
      "Epoch 4/30\n",
      " - 0s - loss: 0.6743 - acc: 0.6057 - val_loss: 0.6608 - val_acc: 0.6571\n",
      "Epoch 5/30\n",
      " - 0s - loss: 0.6699 - acc: 0.6057 - val_loss: 0.6539 - val_acc: 0.6571\n",
      "Epoch 6/30\n",
      " - 0s - loss: 0.6651 - acc: 0.6057 - val_loss: 0.6484 - val_acc: 0.6571\n",
      "Epoch 7/30\n",
      " - 0s - loss: 0.6597 - acc: 0.6057 - val_loss: 0.6418 - val_acc: 0.6571\n",
      "Epoch 8/30\n",
      " - 0s - loss: 0.6533 - acc: 0.6057 - val_loss: 0.6347 - val_acc: 0.6571\n",
      "Epoch 9/30\n",
      " - 0s - loss: 0.6448 - acc: 0.6057 - val_loss: 0.6275 - val_acc: 0.6571\n",
      "Epoch 10/30\n",
      " - 0s - loss: 0.6335 - acc: 0.6057 - val_loss: 0.6178 - val_acc: 0.6571\n",
      "Epoch 11/30\n",
      " - 0s - loss: 0.6201 - acc: 0.6057 - val_loss: 0.6078 - val_acc: 0.6571\n",
      "Epoch 12/30\n",
      " - 0s - loss: 0.6048 - acc: 0.6429 - val_loss: 0.5974 - val_acc: 0.7524\n",
      "Epoch 13/30\n",
      " - 0s - loss: 0.5899 - acc: 0.7705 - val_loss: 0.5871 - val_acc: 0.7524\n",
      "Epoch 14/30\n",
      " - 0s - loss: 0.5767 - acc: 0.7705 - val_loss: 0.5815 - val_acc: 0.7524\n",
      "Epoch 15/30\n",
      " - 0s - loss: 0.5665 - acc: 0.7705 - val_loss: 0.5765 - val_acc: 0.7524\n",
      "Epoch 16/30\n",
      " - 1s - loss: 0.5584 - acc: 0.7705 - val_loss: 0.5712 - val_acc: 0.7524\n",
      "Epoch 17/30\n",
      " - 0s - loss: 0.5514 - acc: 0.7726 - val_loss: 0.5688 - val_acc: 0.7524\n",
      "Epoch 18/30\n",
      " - 0s - loss: 0.5459 - acc: 0.7726 - val_loss: 0.5665 - val_acc: 0.7524\n",
      "Epoch 19/30\n",
      " - 0s - loss: 0.5411 - acc: 0.7726 - val_loss: 0.5632 - val_acc: 0.7524\n",
      "Epoch 20/30\n",
      " - 0s - loss: 0.5370 - acc: 0.7726 - val_loss: 0.5610 - val_acc: 0.7524\n",
      "Epoch 21/30\n",
      " - 0s - loss: 0.5330 - acc: 0.7726 - val_loss: 0.5590 - val_acc: 0.7524\n",
      "Epoch 22/30\n",
      " - 0s - loss: 0.5294 - acc: 0.7726 - val_loss: 0.5553 - val_acc: 0.7524\n",
      "Epoch 23/30\n",
      " - 0s - loss: 0.5263 - acc: 0.7726 - val_loss: 0.5541 - val_acc: 0.7524\n",
      "Epoch 24/30\n",
      " - 0s - loss: 0.5231 - acc: 0.7726 - val_loss: 0.5514 - val_acc: 0.7524\n",
      "Epoch 25/30\n",
      " - 1s - loss: 0.5206 - acc: 0.7726 - val_loss: 0.5491 - val_acc: 0.7524\n",
      "Epoch 26/30\n",
      " - 0s - loss: 0.5170 - acc: 0.7726 - val_loss: 0.5467 - val_acc: 0.7524\n",
      "Epoch 27/30\n",
      " - 1s - loss: 0.5142 - acc: 0.7726 - val_loss: 0.5443 - val_acc: 0.7524\n",
      "Epoch 28/30\n",
      " - 0s - loss: 0.5116 - acc: 0.7726 - val_loss: 0.5426 - val_acc: 0.7524\n",
      "Epoch 29/30\n",
      " - 0s - loss: 0.5090 - acc: 0.7726 - val_loss: 0.5409 - val_acc: 0.7524\n",
      "Epoch 30/30\n",
      " - 1s - loss: 0.5066 - acc: 0.7726 - val_loss: 0.5382 - val_acc: 0.7524\n"
     ]
    }
   ],
   "source": [
    "train_history =model.fit(x=train_Features, \n",
    "                         y=train_Label, \n",
    "                         validation_split=0.1, \n",
    "                         epochs=30, \n",
    "                         batch_size=30,verbose=2)"
   ]
  },
  {
   "cell_type": "code",
   "execution_count": 56,
   "metadata": {
    "collapsed": true
   },
   "outputs": [],
   "source": [
    "import matplotlib.pyplot as plt\n",
    "def show_train_history(train_history,train,validation):\n",
    "    plt.plot(train_history.history[train])\n",
    "    plt.plot(train_history.history[validation])\n",
    "    plt.title('Train History')\n",
    "    plt.ylabel(train)\n",
    "    plt.xlabel('Epoch')\n",
    "    plt.legend(['train', 'validation'], loc='upper left')\n",
    "    plt.show()"
   ]
  },
  {
   "cell_type": "code",
   "execution_count": 57,
   "metadata": {
    "collapsed": false
   },
   "outputs": [
    {
     "data": {
      "image/png": "[encoded data removed]",
      "text/plain": [
       "<matplotlib.figure.Figure at 0x7fb1b68e82b0>"
      ]
     },
     "metadata": {},
     "output_type": "display_data"
    }
   ],
   "source": [
    "show_train_history(train_history,'acc','val_acc')"
   ]
  },
  {
   "cell_type": "code",
   "execution_count": 58,
   "metadata": {
    "collapsed": false
   },
   "outputs": [
    {
     "data": {
      "image/png": "[encoded data removed]",
      "text/plain": [
       "<matplotlib.figure.Figure at 0x7fb1b68e1390>"
      ]
     },
     "metadata": {},
     "output_type": "display_data"
    }
   ],
   "source": [
    "show_train_history(train_history,'loss','val_loss')"
   ]
  },
  {
   "cell_type": "code",
   "execution_count": 59,
   "metadata": {
    "collapsed": false
   },
   "outputs": [
    {
     "name": "stdout",
     "output_type": "stream",
     "text": [
      "262/262 [==============================] - 0s 218us/step\n"
     ]
    }
   ],
   "source": [
    "scores = model.evaluate(x=test_Features, \n",
    "                        y=test_Label)"
   ]
  },
  {
   "cell_type": "code",
   "execution_count": 60,
   "metadata": {
    "collapsed": false
   },
   "outputs": [
    {
     "data": {
      "text/plain": [
       "0.8320610682472928"
      ]
     },
     "execution_count": 60,
     "metadata": {},
     "output_type": "execute_result"
    }
   ],
   "source": [
    "scores[1]"
   ]
  }
 ],
 "metadata": {
  "anaconda-cloud": {},
  "kernelspec": {
   "display_name": "Python [conda root]",
   "language": "python",
   "name": "conda-root-py"
  },
  "language_info": {
   "codemirror_mode": {
    "name": "ipython",
    "version": 3
   },
   "file_extension": ".py",
   "mimetype": "text/x-python",
   "name": "python",
   "nbconvert_exporter": "python",
   "pygments_lexer": "ipython3",
   "version": "3.5.2"
  }
 },
 "nbformat": 4,
 "nbformat_minor": 1
}
