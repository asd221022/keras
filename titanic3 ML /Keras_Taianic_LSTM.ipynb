{
 "cells": [
  {
   "cell_type": "code",
   "execution_count": 1,
   "metadata": {
    "collapsed": true,
    "slideshow": {
     "slide_type": "-"
    }
   },
   "outputs": [],
   "source": [
    "import numpy\n",
    "import pandas as pd\n",
    "from sklearn import preprocessing\n",
    "numpy.random.seed(10)"
   ]
  },
  {
   "cell_type": "code",
   "execution_count": 2,
   "metadata": {
    "collapsed": true
   },
   "outputs": [],
   "source": [
    "all_df = pd.read_csv(\"data/titanic.csv\")"
   ]
  },
  {
   "cell_type": "code",
   "execution_count": 3,
   "metadata": {
    "collapsed": false
   },
   "outputs": [
    {
     "data": {
      "text/plain": [
       "survived    0\n",
       "pclass      0\n",
       "sex         0\n",
       "age         0\n",
       "fare        0\n",
       "dtype: int64"
      ]
     },
     "execution_count": 3,
     "metadata": {},
     "output_type": "execute_result"
    }
   ],
   "source": [
    "cols=['survived','pclass' ,'sex', 'age',\n",
    "       'fare',]\n",
    "df=all_df[cols]\n",
    "df.isnull().sum()"
   ]
  },
  {
   "cell_type": "code",
   "execution_count": 4,
   "metadata": {
    "collapsed": false
   },
   "outputs": [
    {
     "name": "stdout",
     "output_type": "stream",
     "text": [
      "total: 1308 train: 1033 test: 275\n"
     ]
    }
   ],
   "source": [
    "msk = numpy.random.rand(len(df)) < 0.8\n",
    "train_df = df[msk]\n",
    "test_df = df[~msk]\n",
    "print('total:',len(df),\n",
    "      'train:',len(train_df),\n",
    "      'test:',len(test_df))"
   ]
  },
  {
   "cell_type": "code",
   "execution_count": 5,
   "metadata": {
    "collapsed": true
   },
   "outputs": [],
   "source": [
    "trainray= train_df.values\n",
    "train_Features = trainray[:,1:]\n",
    "train_Label = trainray[:,0]\n",
    "    \n",
    "testray= test_df.values\n",
    "test_Features = testray[:,1:]\n",
    "test_Label = testray[:,0]\n",
    "\n",
    "minmax_scale = preprocessing.MinMaxScaler(feature_range=(0, 1))\n",
    "train_Features=minmax_scale.fit_transform(train_Features)  \n",
    "test_Features=minmax_scale.fit_transform(test_Features)"
   ]
  },
  {
   "cell_type": "code",
   "execution_count": 6,
   "metadata": {
    "collapsed": false
   },
   "outputs": [
    {
     "data": {
      "text/plain": [
       "array([[0.5       , 1.        , 0.48532708, 0.02513033],\n",
       "       [0.5       , 1.        , 0.82392769, 0.02410559],\n",
       "       [0.5       , 1.        , 0.67494342, 0.05074862],\n",
       "       [0.5       , 0.        , 0.56659123, 0.05074862]])"
      ]
     },
     "execution_count": 6,
     "metadata": {},
     "output_type": "execute_result"
    }
   ],
   "source": [
    "train_Features[355:359]"
   ]
  },
  {
   "cell_type": "code",
   "execution_count": 7,
   "metadata": {
    "collapsed": false
   },
   "outputs": [
    {
     "data": {
      "text/plain": [
       "array([1., 1., 0., 0.])"
      ]
     },
     "execution_count": 7,
     "metadata": {},
     "output_type": "execute_result"
    }
   ],
   "source": [
    "train_Label[:4]"
   ]
  },
  {
   "cell_type": "code",
   "execution_count": 8,
   "metadata": {
    "collapsed": false
   },
   "outputs": [
    {
     "name": "stderr",
     "output_type": "stream",
     "text": [
      "Using TensorFlow backend.\n"
     ]
    }
   ],
   "source": [
    "from keras.models import Sequential\n",
    "from keras.layers.core import Dense, Dropout, Activation,Flatten\n",
    "from keras.layers.embeddings import Embedding\n",
    "from keras.layers.recurrent import LSTM"
   ]
  },
  {
   "cell_type": "code",
   "execution_count": 9,
   "metadata": {
    "collapsed": true
   },
   "outputs": [],
   "source": [
    "model = Sequential()"
   ]
  },
  {
   "cell_type": "code",
   "execution_count": 10,
   "metadata": {
    "collapsed": true
   },
   "outputs": [],
   "source": [
    "model.add(Embedding(input_dim=4,output_dim=1))"
   ]
  },
  {
   "cell_type": "code",
   "execution_count": 11,
   "metadata": {
    "collapsed": true
   },
   "outputs": [],
   "source": [
    "model.add(LSTM(2))"
   ]
  },
  {
   "cell_type": "code",
   "execution_count": 12,
   "metadata": {
    "collapsed": true
   },
   "outputs": [],
   "source": [
    "model.add(Dense(1, activation = \"sigmoid\"))"
   ]
  },
  {
   "cell_type": "code",
   "execution_count": 13,
   "metadata": {
    "collapsed": false
   },
   "outputs": [
    {
     "name": "stdout",
     "output_type": "stream",
     "text": [
      "_________________________________________________________________\n",
      "Layer (type)                 Output Shape              Param #   \n",
      "=================================================================\n",
      "embedding_1 (Embedding)      (None, None, 1)           4         \n",
      "_________________________________________________________________\n",
      "lstm_1 (LSTM)                (None, 2)                 32        \n",
      "_________________________________________________________________\n",
      "dense_1 (Dense)              (None, 1)                 3         \n",
      "=================================================================\n",
      "Total params: 39\n",
      "Trainable params: 39\n",
      "Non-trainable params: 0\n",
      "_________________________________________________________________\n"
     ]
    }
   ],
   "source": [
    "model.summary()"
   ]
  },
  {
   "cell_type": "code",
   "execution_count": 14,
   "metadata": {
    "collapsed": true
   },
   "outputs": [],
   "source": [
    "model.compile(loss='binary_crossentropy', \n",
    "              optimizer='adam', metrics=['accuracy'])"
   ]
  },
  {
   "cell_type": "code",
   "execution_count": 15,
   "metadata": {
    "collapsed": false
   },
   "outputs": [
    {
     "name": "stdout",
     "output_type": "stream",
     "text": [
      "Train on 929 samples, validate on 104 samples\n",
      "Epoch 1/30\n",
      " - 1s - loss: 0.6901 - acc: 0.6136 - val_loss: 0.6809 - val_acc: 0.7404\n",
      "Epoch 2/30\n",
      " - 0s - loss: 0.6851 - acc: 0.5985 - val_loss: 0.6687 - val_acc: 0.7404\n",
      "Epoch 3/30\n",
      " - 0s - loss: 0.6802 - acc: 0.5985 - val_loss: 0.6567 - val_acc: 0.7404\n",
      "Epoch 4/30\n",
      " - 0s - loss: 0.6750 - acc: 0.5985 - val_loss: 0.6447 - val_acc: 0.7404\n",
      "Epoch 5/30\n",
      " - 0s - loss: 0.6696 - acc: 0.5985 - val_loss: 0.6311 - val_acc: 0.7404\n",
      "Epoch 6/30\n",
      " - 0s - loss: 0.6625 - acc: 0.5985 - val_loss: 0.6186 - val_acc: 0.7404\n",
      "Epoch 7/30\n",
      " - 0s - loss: 0.6532 - acc: 0.5985 - val_loss: 0.6033 - val_acc: 0.7404\n",
      "Epoch 8/30\n",
      " - 0s - loss: 0.6403 - acc: 0.5985 - val_loss: 0.5848 - val_acc: 0.7404\n",
      "Epoch 9/30\n",
      " - 0s - loss: 0.6236 - acc: 0.6771 - val_loss: 0.5655 - val_acc: 0.7404\n",
      "Epoch 10/30\n",
      " - 0s - loss: 0.6056 - acc: 0.7815 - val_loss: 0.5455 - val_acc: 0.7404\n",
      "Epoch 11/30\n",
      " - 0s - loss: 0.5876 - acc: 0.7836 - val_loss: 0.5286 - val_acc: 0.7404\n",
      "Epoch 12/30\n",
      " - 0s - loss: 0.5717 - acc: 0.7836 - val_loss: 0.5144 - val_acc: 0.7404\n",
      "Epoch 13/30\n",
      " - 0s - loss: 0.5579 - acc: 0.7836 - val_loss: 0.5056 - val_acc: 0.7404\n",
      "Epoch 14/30\n",
      " - 0s - loss: 0.5472 - acc: 0.7836 - val_loss: 0.4998 - val_acc: 0.7404\n",
      "Epoch 15/30\n",
      " - 0s - loss: 0.5387 - acc: 0.7836 - val_loss: 0.4978 - val_acc: 0.7404\n",
      "Epoch 16/30\n",
      " - 0s - loss: 0.5316 - acc: 0.7836 - val_loss: 0.4945 - val_acc: 0.7404\n",
      "Epoch 17/30\n",
      " - 0s - loss: 0.5259 - acc: 0.7836 - val_loss: 0.4914 - val_acc: 0.7404\n",
      "Epoch 18/30\n",
      " - 0s - loss: 0.5213 - acc: 0.7836 - val_loss: 0.4937 - val_acc: 0.7404\n",
      "Epoch 19/30\n",
      " - 0s - loss: 0.5170 - acc: 0.7836 - val_loss: 0.4910 - val_acc: 0.7404\n",
      "Epoch 20/30\n",
      " - 0s - loss: 0.5135 - acc: 0.7836 - val_loss: 0.4849 - val_acc: 0.7404\n",
      "Epoch 21/30\n",
      " - 0s - loss: 0.5111 - acc: 0.7836 - val_loss: 0.4856 - val_acc: 0.7404\n",
      "Epoch 22/30\n",
      " - 0s - loss: 0.5075 - acc: 0.7836 - val_loss: 0.4840 - val_acc: 0.7404\n",
      "Epoch 23/30\n",
      " - 0s - loss: 0.5049 - acc: 0.7836 - val_loss: 0.4844 - val_acc: 0.7404\n",
      "Epoch 24/30\n",
      " - 0s - loss: 0.5028 - acc: 0.7836 - val_loss: 0.4841 - val_acc: 0.7404\n",
      "Epoch 25/30\n",
      " - 0s - loss: 0.5001 - acc: 0.7836 - val_loss: 0.4794 - val_acc: 0.7404\n",
      "Epoch 26/30\n",
      " - 0s - loss: 0.4983 - acc: 0.7836 - val_loss: 0.4798 - val_acc: 0.7404\n",
      "Epoch 27/30\n",
      " - 0s - loss: 0.4966 - acc: 0.7836 - val_loss: 0.4762 - val_acc: 0.7404\n",
      "Epoch 28/30\n",
      " - 0s - loss: 0.4948 - acc: 0.7836 - val_loss: 0.4751 - val_acc: 0.7404\n",
      "Epoch 29/30\n",
      " - 0s - loss: 0.4936 - acc: 0.7836 - val_loss: 0.4753 - val_acc: 0.7404\n",
      "Epoch 30/30\n",
      " - 0s - loss: 0.4924 - acc: 0.7836 - val_loss: 0.4742 - val_acc: 0.7404\n"
     ]
    }
   ],
   "source": [
    "train_history =model.fit(x=train_Features, \n",
    "                         y=train_Label, \n",
    "                         validation_split=0.1, \n",
    "                         epochs=30, \n",
    "                         batch_size=30,verbose=2)"
   ]
  },
  {
   "cell_type": "code",
   "execution_count": 16,
   "metadata": {
    "collapsed": true
   },
   "outputs": [],
   "source": [
    "import matplotlib.pyplot as plt\n",
    "def show_train_history(train_history,train,validation):\n",
    "    plt.plot(train_history.history[train])\n",
    "    plt.plot(train_history.history[validation])\n",
    "    plt.title('Train History')\n",
    "    plt.ylabel(train)\n",
    "    plt.xlabel('Epoch')\n",
    "    plt.legend(['train', 'validation'], loc='upper left')\n",
    "    plt.show()"
   ]
  },
  {
   "cell_type": "code",
   "execution_count": 17,
   "metadata": {
    "collapsed": false
   },
   "outputs": [
    {
     "data": {
      "image/png": "[encoded data removed]",
      "text/plain": [
       "<matplotlib.figure.Figure at 0x7f368c68f080>"
      ]
     },
     "metadata": {},
     "output_type": "display_data"
    }
   ],
   "source": [
    "show_train_history(train_history,'acc','val_acc')"
   ]
  },
  {
   "cell_type": "code",
   "execution_count": 18,
   "metadata": {
    "collapsed": false
   },
   "outputs": [
    {
     "data": {
      "image/png": "[encoded data removed]",
      "text/plain": [
       "<matplotlib.figure.Figure at 0x7f368c68f3c8>"
      ]
     },
     "metadata": {},
     "output_type": "display_data"
    }
   ],
   "source": [
    "show_train_history(train_history,'loss','val_loss')"
   ]
  },
  {
   "cell_type": "code",
   "execution_count": 19,
   "metadata": {
    "collapsed": false
   },
   "outputs": [
    {
     "name": "stdout",
     "output_type": "stream",
     "text": [
      "275/275 [==============================] - 0s 121us/step\n"
     ]
    }
   ],
   "source": [
    "scores = model.evaluate(x=test_Features, \n",
    "                        y=test_Label)"
   ]
  },
  {
   "cell_type": "code",
   "execution_count": 20,
   "metadata": {
    "collapsed": false
   },
   "outputs": [
    {
     "data": {
      "text/plain": [
       "0.7963636367971247"
      ]
     },
     "execution_count": 20,
     "metadata": {},
     "output_type": "execute_result"
    }
   ],
   "source": [
    "scores[1]"
   ]
  }
 ],
 "metadata": {
  "anaconda-cloud": {},
  "kernelspec": {
   "display_name": "Python [conda root]",
   "language": "python",
   "name": "conda-root-py"
  },
  "language_info": {
   "codemirror_mode": {
    "name": "ipython",
    "version": 3
   },
   "file_extension": ".py",
   "mimetype": "text/x-python",
   "name": "python",
   "nbconvert_exporter": "python",
   "pygments_lexer": "ipython3",
   "version": "3.5.2"
  }
 },
 "nbformat": 4,
 "nbformat_minor": 1
}
