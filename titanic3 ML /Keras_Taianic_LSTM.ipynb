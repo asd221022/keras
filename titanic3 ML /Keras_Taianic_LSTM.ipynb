{
 "cells": [
  {
   "cell_type": "code",
   "execution_count": 16,
   "metadata": {
    "collapsed": true,
    "slideshow": {
     "slide_type": "-"
    }
   },
   "outputs": [],
   "source": [
    "import numpy\n",
    "import pandas as pd\n",
    "from sklearn import preprocessing\n",
    "numpy.random.seed(10)\n",
    "from sklearn.preprocessing import StandardScaler\n",
    "from sklearn.model_selection import train_test_split"
   ]
  },
  {
   "cell_type": "code",
   "execution_count": 17,
   "metadata": {
    "collapsed": true
   },
   "outputs": [],
   "source": [
    "all_df = pd.read_csv(\"data/titanic.csv\")"
   ]
  },
  {
   "cell_type": "code",
   "execution_count": 18,
   "metadata": {
    "collapsed": false
   },
   "outputs": [],
   "source": [
    "cols=['survived','pclass' ,'sex', 'age',\n",
    "       'fare',]\n",
    "df=all_df[cols]\n",
    "df.isnull().sum()\n",
    "df=df.values"
   ]
  },
  {
   "cell_type": "code",
   "execution_count": 19,
   "metadata": {
    "collapsed": false
   },
   "outputs": [
    {
     "data": {
      "text/plain": [
       "array([[  1.    ,   0.    ,  29.    , 211.3375],\n",
       "       [  1.    ,   1.    ,   0.9167, 151.55  ],\n",
       "       [  1.    ,   0.    ,   2.    , 151.55  ],\n",
       "       [  1.    ,   1.    ,  30.    , 151.55  ],\n",
       "       [  1.    ,   0.    ,  25.    , 151.55  ]])"
      ]
     },
     "execution_count": 19,
     "metadata": {},
     "output_type": "execute_result"
    }
   ],
   "source": [
    "X = df[:,1:]\n",
    "Y = df[:,0]\n",
    "X[:5]"
   ]
  },
  {
   "cell_type": "code",
   "execution_count": 20,
   "metadata": {
    "collapsed": false
   },
   "outputs": [
    {
     "data": {
      "text/plain": [
       "1046"
      ]
     },
     "execution_count": 20,
     "metadata": {},
     "output_type": "execute_result"
    }
   ],
   "source": [
    "minmax_scale = preprocessing.MinMaxScaler(feature_range=(0, 1))\n",
    "X=minmax_scale.fit_transform(X) \n",
    "train_Features, test_Features, train_Label, test_Label = train_test_split(X, Y, test_size=0.2, random_state=True) \n",
    "len(train_Features)"
   ]
  },
  {
   "cell_type": "code",
   "execution_count": 21,
   "metadata": {
    "collapsed": false
   },
   "outputs": [
    {
     "data": {
      "text/plain": [
       "array([[1.        , 0.        , 0.49895595, 0.01849397],\n",
       "       [1.        , 0.        , 0.37369494, 0.04538098],\n",
       "       [1.        , 1.        , 0.32359053, 0.01541158],\n",
       "       [0.5       , 0.        , 0.38622104, 0.04098927]])"
      ]
     },
     "execution_count": 21,
     "metadata": {},
     "output_type": "execute_result"
    }
   ],
   "source": [
    "train_Features[355:359]"
   ]
  },
  {
   "cell_type": "code",
   "execution_count": 22,
   "metadata": {
    "collapsed": false
   },
   "outputs": [
    {
     "data": {
      "text/plain": [
       "array([1., 0., 0., 0.])"
      ]
     },
     "execution_count": 22,
     "metadata": {},
     "output_type": "execute_result"
    }
   ],
   "source": [
    "train_Label[:4]"
   ]
  },
  {
   "cell_type": "code",
   "execution_count": 23,
   "metadata": {
    "collapsed": false
   },
   "outputs": [],
   "source": [
    "from keras.models import Sequential\n",
    "from keras.layers.core import Dense, Dropout, Activation,Flatten\n",
    "from keras.layers.embeddings import Embedding\n",
    "from keras.layers.recurrent import LSTM"
   ]
  },
  {
   "cell_type": "code",
   "execution_count": 24,
   "metadata": {
    "collapsed": true
   },
   "outputs": [],
   "source": [
    "model = Sequential()"
   ]
  },
  {
   "cell_type": "code",
   "execution_count": 25,
   "metadata": {
    "collapsed": true
   },
   "outputs": [],
   "source": [
    "model.add(Embedding(input_dim=4,output_dim=1))"
   ]
  },
  {
   "cell_type": "code",
   "execution_count": 26,
   "metadata": {
    "collapsed": true
   },
   "outputs": [],
   "source": [
    "model.add(LSTM(4))"
   ]
  },
  {
   "cell_type": "code",
   "execution_count": 27,
   "metadata": {
    "collapsed": true
   },
   "outputs": [],
   "source": [
    "model.add(Dense(1, activation = \"sigmoid\"))"
   ]
  },
  {
   "cell_type": "code",
   "execution_count": 28,
   "metadata": {
    "collapsed": false
   },
   "outputs": [
    {
     "name": "stdout",
     "output_type": "stream",
     "text": [
      "_________________________________________________________________\n",
      "Layer (type)                 Output Shape              Param #   \n",
      "=================================================================\n",
      "embedding_2 (Embedding)      (None, None, 1)           4         \n",
      "_________________________________________________________________\n",
      "lstm_2 (LSTM)                (None, 4)                 96        \n",
      "_________________________________________________________________\n",
      "dense_2 (Dense)              (None, 1)                 5         \n",
      "=================================================================\n",
      "Total params: 105\n",
      "Trainable params: 105\n",
      "Non-trainable params: 0\n",
      "_________________________________________________________________\n"
     ]
    }
   ],
   "source": [
    "model.summary()"
   ]
  },
  {
   "cell_type": "code",
   "execution_count": 29,
   "metadata": {
    "collapsed": true
   },
   "outputs": [],
   "source": [
    "model.compile(loss='binary_crossentropy', \n",
    "              optimizer='adam', metrics=['accuracy'])"
   ]
  },
  {
   "cell_type": "code",
   "execution_count": 30,
   "metadata": {
    "collapsed": false
   },
   "outputs": [
    {
     "name": "stdout",
     "output_type": "stream",
     "text": [
      "Train on 941 samples, validate on 105 samples\n",
      "Epoch 1/30\n",
      " - 3s - loss: 0.6899 - acc: 0.6057 - val_loss: 0.6831 - val_acc: 0.6571\n",
      "Epoch 2/30\n",
      " - 1s - loss: 0.6834 - acc: 0.6057 - val_loss: 0.6714 - val_acc: 0.6571\n",
      "Epoch 3/30\n",
      " - 1s - loss: 0.6773 - acc: 0.6057 - val_loss: 0.6627 - val_acc: 0.6571\n",
      "Epoch 4/30\n",
      " - 1s - loss: 0.6737 - acc: 0.6057 - val_loss: 0.6551 - val_acc: 0.6571\n",
      "Epoch 5/30\n",
      " - 1s - loss: 0.6703 - acc: 0.6057 - val_loss: 0.6517 - val_acc: 0.6571\n",
      "Epoch 6/30\n",
      " - 1s - loss: 0.6677 - acc: 0.6057 - val_loss: 0.6461 - val_acc: 0.6571\n",
      "Epoch 7/30\n",
      " - 1s - loss: 0.6635 - acc: 0.6057 - val_loss: 0.6410 - val_acc: 0.6571\n",
      "Epoch 8/30\n",
      " - 1s - loss: 0.6582 - acc: 0.6057 - val_loss: 0.6344 - val_acc: 0.6571\n",
      "Epoch 9/30\n",
      " - 1s - loss: 0.6491 - acc: 0.6057 - val_loss: 0.6276 - val_acc: 0.6571\n",
      "Epoch 10/30\n",
      " - 0s - loss: 0.6363 - acc: 0.6057 - val_loss: 0.6156 - val_acc: 0.6571\n",
      "Epoch 11/30\n",
      " - 0s - loss: 0.6185 - acc: 0.6057 - val_loss: 0.5999 - val_acc: 0.6571\n",
      "Epoch 12/30\n",
      " - 1s - loss: 0.5967 - acc: 0.6472 - val_loss: 0.5878 - val_acc: 0.7524\n",
      "Epoch 13/30\n",
      " - 0s - loss: 0.5765 - acc: 0.7705 - val_loss: 0.5792 - val_acc: 0.7524\n",
      "Epoch 14/30\n",
      " - 0s - loss: 0.5629 - acc: 0.7705 - val_loss: 0.5760 - val_acc: 0.7524\n",
      "Epoch 15/30\n",
      " - 0s - loss: 0.5557 - acc: 0.7705 - val_loss: 0.5772 - val_acc: 0.7524\n",
      "Epoch 16/30\n",
      " - 0s - loss: 0.5499 - acc: 0.7705 - val_loss: 0.5772 - val_acc: 0.7524\n",
      "Epoch 17/30\n",
      " - 1s - loss: 0.5468 - acc: 0.7705 - val_loss: 0.5767 - val_acc: 0.7524\n",
      "Epoch 18/30\n",
      " - 1s - loss: 0.5445 - acc: 0.7705 - val_loss: 0.5778 - val_acc: 0.7524\n",
      "Epoch 19/30\n",
      " - 1s - loss: 0.5437 - acc: 0.7726 - val_loss: 0.5773 - val_acc: 0.7524\n",
      "Epoch 20/30\n",
      " - 1s - loss: 0.5410 - acc: 0.7715 - val_loss: 0.5755 - val_acc: 0.7524\n",
      "Epoch 21/30\n",
      " - 1s - loss: 0.5393 - acc: 0.7715 - val_loss: 0.5748 - val_acc: 0.7524\n",
      "Epoch 22/30\n",
      " - 1s - loss: 0.5378 - acc: 0.7726 - val_loss: 0.5756 - val_acc: 0.7524\n",
      "Epoch 23/30\n",
      " - 1s - loss: 0.5358 - acc: 0.7726 - val_loss: 0.5734 - val_acc: 0.7524\n",
      "Epoch 24/30\n",
      " - 1s - loss: 0.5339 - acc: 0.7726 - val_loss: 0.5726 - val_acc: 0.7524\n",
      "Epoch 25/30\n",
      " - 1s - loss: 0.5322 - acc: 0.7726 - val_loss: 0.5713 - val_acc: 0.7524\n",
      "Epoch 26/30\n",
      " - 1s - loss: 0.5308 - acc: 0.7726 - val_loss: 0.5709 - val_acc: 0.7524\n",
      "Epoch 27/30\n",
      " - 0s - loss: 0.5290 - acc: 0.7726 - val_loss: 0.5688 - val_acc: 0.7524\n",
      "Epoch 28/30\n",
      " - 1s - loss: 0.5271 - acc: 0.7726 - val_loss: 0.5686 - val_acc: 0.7524\n",
      "Epoch 29/30\n",
      " - 1s - loss: 0.5260 - acc: 0.7726 - val_loss: 0.5657 - val_acc: 0.7524\n",
      "Epoch 30/30\n",
      " - 1s - loss: 0.5234 - acc: 0.7726 - val_loss: 0.5667 - val_acc: 0.7524\n"
     ]
    }
   ],
   "source": [
    "train_history =model.fit(x=train_Features, \n",
    "                         y=train_Label, \n",
    "                         validation_split=0.1, \n",
    "                         epochs=30, \n",
    "                         batch_size=30,verbose=2)"
   ]
  },
  {
   "cell_type": "code",
   "execution_count": 31,
   "metadata": {
    "collapsed": true
   },
   "outputs": [],
   "source": [
    "import matplotlib.pyplot as plt\n",
    "def show_train_history(train_history,train,validation):\n",
    "    plt.plot(train_history.history[train])\n",
    "    plt.plot(train_history.history[validation])\n",
    "    plt.title('Train History')\n",
    "    plt.ylabel(train)\n",
    "    plt.xlabel('Epoch')\n",
    "    plt.legend(['train', 'validation'], loc='upper left')\n",
    "    plt.show()"
   ]
  },
  {
   "cell_type": "code",
   "execution_count": 32,
   "metadata": {
    "collapsed": false
   },
   "outputs": [
    {
     "data": {
      "image/png": "[encoded data removed]",
      "text/plain": [
       "<matplotlib.figure.Figure at 0x7f35b01c5048>"
      ]
     },
     "metadata": {},
     "output_type": "display_data"
    }
   ],
   "source": [
    "show_train_history(train_history,'acc','val_acc')"
   ]
  },
  {
   "cell_type": "code",
   "execution_count": 33,
   "metadata": {
    "collapsed": false
   },
   "outputs": [
    {
     "data": {
      "image/png": "[encoded data removed]",
      "text/plain": [
       "<matplotlib.figure.Figure at 0x7f35b01c5f98>"
      ]
     },
     "metadata": {},
     "output_type": "display_data"
    }
   ],
   "source": [
    "show_train_history(train_history,'loss','val_loss')"
   ]
  },
  {
   "cell_type": "code",
   "execution_count": 34,
   "metadata": {
    "collapsed": false
   },
   "outputs": [
    {
     "name": "stdout",
     "output_type": "stream",
     "text": [
      "262/262 [==============================] - 0s 117us/step\n"
     ]
    }
   ],
   "source": [
    "scores = model.evaluate(x=test_Features, \n",
    "                        y=test_Label)"
   ]
  },
  {
   "cell_type": "code",
   "execution_count": 35,
   "metadata": {
    "collapsed": false
   },
   "outputs": [
    {
     "data": {
      "text/plain": [
       "0.8320610682472928"
      ]
     },
     "execution_count": 35,
     "metadata": {},
     "output_type": "execute_result"
    }
   ],
   "source": [
    "scores[1]"
   ]
  }
 ],
 "metadata": {
  "anaconda-cloud": {},
  "kernelspec": {
   "display_name": "Python [conda root]",
   "language": "python",
   "name": "conda-root-py"
  },
  "language_info": {
   "codemirror_mode": {
    "name": "ipython",
    "version": 3
   },
   "file_extension": ".py",
   "mimetype": "text/x-python",
   "name": "python",
   "nbconvert_exporter": "python",
   "pygments_lexer": "ipython3",
   "version": "3.5.2"
  }
 },
 "nbformat": 4,
 "nbformat_minor": 1
}
