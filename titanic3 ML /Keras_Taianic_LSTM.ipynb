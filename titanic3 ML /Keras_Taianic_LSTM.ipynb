{
 "cells": [
  {
   "cell_type": "code",
   "execution_count": 1,
   "metadata": {
    "collapsed": true,
    "slideshow": {
     "slide_type": "-"
    }
   },
   "outputs": [],
   "source": [
    "import numpy\n",
    "import pandas as pd\n",
    "from sklearn import preprocessing\n",
    "numpy.random.seed(10)\n",
    "from sklearn.preprocessing import StandardScaler\n",
    "from sklearn.cross_validation import train_test_split"
   ]
  },
  {
   "cell_type": "code",
   "execution_count": 2,
   "metadata": {
    "collapsed": true
   },
   "outputs": [],
   "source": [
    "all_df = pd.read_csv(\"data/titanic.csv\")"
   ]
  },
  {
   "cell_type": "code",
   "execution_count": 3,
   "metadata": {
    "collapsed": false
   },
   "outputs": [],
   "source": [
    "cols=['survived','pclass' ,'sex', 'age',\n",
    "       'fare',]\n",
    "df=all_df[cols]\n",
    "df.isnull().sum()\n",
    "df=df.values"
   ]
  },
  {
   "cell_type": "code",
   "execution_count": 4,
   "metadata": {
    "collapsed": false
   },
   "outputs": [
    {
     "data": {
      "text/plain": [
       "array([[  1.    ,   0.    ,  29.    , 211.3375],\n",
       "       [  1.    ,   1.    ,   0.9167, 151.55  ],\n",
       "       [  1.    ,   0.    ,   2.    , 151.55  ],\n",
       "       [  1.    ,   1.    ,  30.    , 151.55  ],\n",
       "       [  1.    ,   0.    ,  25.    , 151.55  ]])"
      ]
     },
     "execution_count": 4,
     "metadata": {},
     "output_type": "execute_result"
    }
   ],
   "source": [
    "X = df[:,1:]\n",
    "Y = df[:,0]\n",
    "X[:5]"
   ]
  },
  {
   "cell_type": "code",
   "execution_count": 5,
   "metadata": {
    "collapsed": false
   },
   "outputs": [
    {
     "data": {
      "text/plain": [
       "1046"
      ]
     },
     "execution_count": 5,
     "metadata": {},
     "output_type": "execute_result"
    }
   ],
   "source": [
    "minmax_scale = preprocessing.MinMaxScaler(feature_range=(0, 1))\n",
    "X=minmax_scale.fit_transform(X) \n",
    "train_Features, test_Features, train_Label, test_Label = train_test_split(X, Y, test_size=0.2, random_state=True) \n",
    "len(train_Features)"
   ]
  },
  {
   "cell_type": "code",
   "execution_count": 6,
   "metadata": {
    "collapsed": false
   },
   "outputs": [
    {
     "data": {
      "text/plain": [
       "array([[1.        , 0.        , 0.49895595, 0.01849397],\n",
       "       [1.        , 0.        , 0.37369494, 0.04538098],\n",
       "       [1.        , 1.        , 0.32359053, 0.01541158],\n",
       "       [0.5       , 0.        , 0.38622104, 0.04098927]])"
      ]
     },
     "execution_count": 6,
     "metadata": {},
     "output_type": "execute_result"
    }
   ],
   "source": [
    "train_Features[355:359]"
   ]
  },
  {
   "cell_type": "code",
   "execution_count": 7,
   "metadata": {
    "collapsed": false
   },
   "outputs": [
    {
     "data": {
      "text/plain": [
       "array([1., 0., 0., 0.])"
      ]
     },
     "execution_count": 7,
     "metadata": {},
     "output_type": "execute_result"
    }
   ],
   "source": [
    "train_Label[:4]"
   ]
  },
  {
   "cell_type": "code",
   "execution_count": 8,
   "metadata": {
    "collapsed": false
   },
   "outputs": [
    {
     "name": "stderr",
     "output_type": "stream",
     "text": [
      "Using TensorFlow backend.\n"
     ]
    }
   ],
   "source": [
    "from keras.utils import np_utils\n",
    "train_Label = train_Label.reshape(train_Label.shape[0], 1)\n",
    "test_Label= test_Label.reshape(test_Label.shape[0], 1)\n",
    "train_Label=np_utils.to_categorical(train_Label)\n",
    "test_Label=np_utils.to_categorical(test_Label)"
   ]
  },
  {
   "cell_type": "code",
   "execution_count": 9,
   "metadata": {
    "collapsed": false
   },
   "outputs": [],
   "source": [
    "from keras.models import Sequential\n",
    "from keras.layers.core import Dense, Dropout, Activation,Flatten\n",
    "from keras.layers.embeddings import Embedding\n",
    "from keras.layers.recurrent import LSTM"
   ]
  },
  {
   "cell_type": "code",
   "execution_count": 10,
   "metadata": {
    "collapsed": true
   },
   "outputs": [],
   "source": [
    "model = Sequential()"
   ]
  },
  {
   "cell_type": "code",
   "execution_count": 11,
   "metadata": {
    "collapsed": true
   },
   "outputs": [],
   "source": [
    "model.add(Embedding(input_dim=4,output_dim=1))"
   ]
  },
  {
   "cell_type": "code",
   "execution_count": 12,
   "metadata": {
    "collapsed": true
   },
   "outputs": [],
   "source": [
    "model.add(LSTM(2))"
   ]
  },
  {
   "cell_type": "code",
   "execution_count": 13,
   "metadata": {
    "collapsed": true
   },
   "outputs": [],
   "source": [
    "model.add(Dense(2, activation = \"sigmoid\"))"
   ]
  },
  {
   "cell_type": "code",
   "execution_count": 14,
   "metadata": {
    "collapsed": false
   },
   "outputs": [
    {
     "name": "stdout",
     "output_type": "stream",
     "text": [
      "_________________________________________________________________\n",
      "Layer (type)                 Output Shape              Param #   \n",
      "=================================================================\n",
      "embedding_1 (Embedding)      (None, None, 1)           4         \n",
      "_________________________________________________________________\n",
      "lstm_1 (LSTM)                (None, 2)                 32        \n",
      "_________________________________________________________________\n",
      "dense_1 (Dense)              (None, 2)                 6         \n",
      "=================================================================\n",
      "Total params: 42\n",
      "Trainable params: 42\n",
      "Non-trainable params: 0\n",
      "_________________________________________________________________\n"
     ]
    }
   ],
   "source": [
    "model.summary()"
   ]
  },
  {
   "cell_type": "code",
   "execution_count": 15,
   "metadata": {
    "collapsed": true
   },
   "outputs": [],
   "source": [
    "model.compile(loss='categorical_crossentropy', \n",
    "              optimizer='RMSprop', metrics=['accuracy'])"
   ]
  },
  {
   "cell_type": "code",
   "execution_count": 16,
   "metadata": {
    "collapsed": false
   },
   "outputs": [
    {
     "name": "stdout",
     "output_type": "stream",
     "text": [
      "Train on 941 samples, validate on 105 samples\n",
      "Epoch 1/30\n",
      " - 2s - loss: 0.6879 - acc: 0.6281 - val_loss: 0.6805 - val_acc: 0.6571\n",
      "Epoch 2/30\n",
      " - 0s - loss: 0.6809 - acc: 0.6057 - val_loss: 0.6713 - val_acc: 0.6571\n",
      "Epoch 3/30\n",
      " - 0s - loss: 0.6743 - acc: 0.6057 - val_loss: 0.6626 - val_acc: 0.6571\n",
      "Epoch 4/30\n",
      " - 0s - loss: 0.6686 - acc: 0.6057 - val_loss: 0.6552 - val_acc: 0.6571\n",
      "Epoch 5/30\n",
      " - 0s - loss: 0.6630 - acc: 0.6057 - val_loss: 0.6485 - val_acc: 0.6571\n",
      "Epoch 6/30\n",
      " - 0s - loss: 0.6568 - acc: 0.6057 - val_loss: 0.6413 - val_acc: 0.6571\n",
      "Epoch 7/30\n",
      " - 0s - loss: 0.6496 - acc: 0.6057 - val_loss: 0.6344 - val_acc: 0.6571\n",
      "Epoch 8/30\n",
      " - 0s - loss: 0.6418 - acc: 0.6057 - val_loss: 0.6280 - val_acc: 0.6571\n",
      "Epoch 9/30\n",
      " - 1s - loss: 0.6319 - acc: 0.6057 - val_loss: 0.6203 - val_acc: 0.6571\n",
      "Epoch 10/30\n",
      " - 0s - loss: 0.6218 - acc: 0.6057 - val_loss: 0.6131 - val_acc: 0.6571\n",
      "Epoch 11/30\n",
      " - 0s - loss: 0.6100 - acc: 0.6663 - val_loss: 0.6052 - val_acc: 0.7524\n",
      "Epoch 12/30\n",
      " - 0s - loss: 0.5978 - acc: 0.7705 - val_loss: 0.5973 - val_acc: 0.7524\n",
      "Epoch 13/30\n",
      " - 0s - loss: 0.5867 - acc: 0.7705 - val_loss: 0.5925 - val_acc: 0.7524\n",
      "Epoch 14/30\n",
      " - 0s - loss: 0.5773 - acc: 0.7705 - val_loss: 0.5875 - val_acc: 0.7524\n",
      "Epoch 15/30\n",
      " - 0s - loss: 0.5693 - acc: 0.7705 - val_loss: 0.5829 - val_acc: 0.7524\n",
      "Epoch 16/30\n",
      " - 0s - loss: 0.5633 - acc: 0.7705 - val_loss: 0.5817 - val_acc: 0.7524\n",
      "Epoch 17/30\n",
      " - 0s - loss: 0.5584 - acc: 0.7715 - val_loss: 0.5804 - val_acc: 0.7524\n",
      "Epoch 18/30\n",
      " - 0s - loss: 0.5542 - acc: 0.7726 - val_loss: 0.5795 - val_acc: 0.7524\n",
      "Epoch 19/30\n",
      " - 0s - loss: 0.5509 - acc: 0.7726 - val_loss: 0.5796 - val_acc: 0.7524\n",
      "Epoch 20/30\n",
      " - 0s - loss: 0.5485 - acc: 0.7726 - val_loss: 0.5792 - val_acc: 0.7524\n",
      "Epoch 21/30\n",
      " - 1s - loss: 0.5463 - acc: 0.7726 - val_loss: 0.5773 - val_acc: 0.7524\n",
      "Epoch 22/30\n",
      " - 0s - loss: 0.5445 - acc: 0.7726 - val_loss: 0.5776 - val_acc: 0.7524\n",
      "Epoch 23/30\n",
      " - 0s - loss: 0.5430 - acc: 0.7726 - val_loss: 0.5767 - val_acc: 0.7524\n",
      "Epoch 24/30\n",
      " - 0s - loss: 0.5413 - acc: 0.7726 - val_loss: 0.5761 - val_acc: 0.7524\n",
      "Epoch 25/30\n",
      " - 0s - loss: 0.5400 - acc: 0.7726 - val_loss: 0.5760 - val_acc: 0.7524\n",
      "Epoch 26/30\n",
      " - 0s - loss: 0.5386 - acc: 0.7726 - val_loss: 0.5752 - val_acc: 0.7524\n",
      "Epoch 27/30\n",
      " - 0s - loss: 0.5370 - acc: 0.7726 - val_loss: 0.5748 - val_acc: 0.7524\n",
      "Epoch 28/30\n",
      " - 0s - loss: 0.5355 - acc: 0.7726 - val_loss: 0.5744 - val_acc: 0.7524\n",
      "Epoch 29/30\n",
      " - 0s - loss: 0.5343 - acc: 0.7726 - val_loss: 0.5734 - val_acc: 0.7524\n",
      "Epoch 30/30\n",
      " - 0s - loss: 0.5328 - acc: 0.7726 - val_loss: 0.5730 - val_acc: 0.7524\n"
     ]
    }
   ],
   "source": [
    "train_history =model.fit(x=train_Features, \n",
    "                         y=train_Label, \n",
    "                         validation_split=0.1, \n",
    "                         epochs=30, \n",
    "                         batch_size=30,verbose=2)"
   ]
  },
  {
   "cell_type": "code",
   "execution_count": 17,
   "metadata": {
    "collapsed": true
   },
   "outputs": [],
   "source": [
    "import matplotlib.pyplot as plt\n",
    "def show_train_history(train_history,train,validation):\n",
    "    plt.plot(train_history.history[train])\n",
    "    plt.plot(train_history.history[validation])\n",
    "    plt.title('Train History')\n",
    "    plt.ylabel(train)\n",
    "    plt.xlabel('Epoch')\n",
    "    plt.legend(['train', 'validation'], loc='upper left')\n",
    "    plt.show()"
   ]
  },
  {
   "cell_type": "code",
   "execution_count": 18,
   "metadata": {
    "collapsed": false
   },
   "outputs": [
    {
     "data": {
      "image/png": "[encoded data removed]",
      "text/plain": [
       "<matplotlib.figure.Figure at 0x7fbba45cae10>"
      ]
     },
     "metadata": {},
     "output_type": "display_data"
    }
   ],
   "source": [
    "show_train_history(train_history,'acc','val_acc')"
   ]
  },
  {
   "cell_type": "code",
   "execution_count": 19,
   "metadata": {
    "collapsed": false
   },
   "outputs": [
    {
     "data": {
      "image/png": "[encoded data removed]",
      "text/plain": [
       "<matplotlib.figure.Figure at 0x7fbba45ca748>"
      ]
     },
     "metadata": {},
     "output_type": "display_data"
    }
   ],
   "source": [
    "show_train_history(train_history,'loss','val_loss')"
   ]
  },
  {
   "cell_type": "code",
   "execution_count": 20,
   "metadata": {
    "collapsed": false
   },
   "outputs": [
    {
     "name": "stdout",
     "output_type": "stream",
     "text": [
      "262/262 [==============================] - 0s 50us/step\n"
     ]
    }
   ],
   "source": [
    "scores = model.evaluate(x=test_Features, \n",
    "                        y=test_Label)"
   ]
  },
  {
   "cell_type": "code",
   "execution_count": 21,
   "metadata": {
    "collapsed": false
   },
   "outputs": [
    {
     "data": {
      "text/plain": [
       "0.8320610682472928"
      ]
     },
     "execution_count": 21,
     "metadata": {},
     "output_type": "execute_result"
    }
   ],
   "source": [
    "scores[1]"
   ]
  }
 ],
 "metadata": {
  "anaconda-cloud": {},
  "kernelspec": {
   "display_name": "Python [conda root]",
   "language": "python",
   "name": "conda-root-py"
  },
  "language_info": {
   "codemirror_mode": {
    "name": "ipython",
    "version": 3
   },
   "file_extension": ".py",
   "mimetype": "text/x-python",
   "name": "python",
   "nbconvert_exporter": "python",
   "pygments_lexer": "ipython3",
   "version": "3.5.2"
  }
 },
 "nbformat": 4,
 "nbformat_minor": 1
}
