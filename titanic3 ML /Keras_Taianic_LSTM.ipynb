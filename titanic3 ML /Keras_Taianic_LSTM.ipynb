{
 "cells": [
  {
   "cell_type": "code",
   "execution_count": 1,
   "metadata": {
    "collapsed": true,
    "slideshow": {
     "slide_type": "-"
    }
   },
   "outputs": [],
   "source": [
    "import numpy\n",
    "import pandas as pd\n",
    "from sklearn import preprocessing\n",
    "numpy.random.seed(10)"
   ]
  },
  {
   "cell_type": "code",
   "execution_count": 2,
   "metadata": {
    "collapsed": true
   },
   "outputs": [],
   "source": [
    "all_df = pd.read_excel(\"data/titanic3.xls\")"
   ]
  },
  {
   "cell_type": "code",
   "execution_count": 3,
   "metadata": {
    "collapsed": true
   },
   "outputs": [],
   "source": [
    "cols=['survived','name','pclass' ,'sex', 'age',\n",
    "       'fare',]\n",
    "all_df=all_df[cols]"
   ]
  },
  {
   "cell_type": "code",
   "execution_count": 4,
   "metadata": {
    "collapsed": true
   },
   "outputs": [],
   "source": [
    "df=all_df.drop(['name'], axis=1)\n",
    "age_mean = df['age'].mean()\n",
    "df['age'] = df['age'].fillna(age_mean)\n",
    "fare_mean = df['fare'].mean()\n",
    "df['fare'] = df['fare'].fillna(fare_mean)\n",
    "df['sex']= df['sex'].map({'female':0, 'male': 1}).astype(int)"
   ]
  },
  {
   "cell_type": "code",
   "execution_count": 5,
   "metadata": {
    "collapsed": false
   },
   "outputs": [
    {
     "name": "stdout",
     "output_type": "stream",
     "text": [
      "total: 1309 train: 1034 test: 275\n"
     ]
    }
   ],
   "source": [
    "msk = numpy.random.rand(len(df)) < 0.8\n",
    "train_df = df[msk]\n",
    "test_df = df[~msk]\n",
    "print('total:',len(df),\n",
    "      'train:',len(train_df),\n",
    "      'test:',len(test_df))"
   ]
  },
  {
   "cell_type": "code",
   "execution_count": 6,
   "metadata": {
    "collapsed": true
   },
   "outputs": [],
   "source": [
    "trainray= train_df.values\n",
    "train_Features = trainray[:,1:]\n",
    "train_Label = trainray[:,0]\n",
    "    \n",
    "testray= test_df.values\n",
    "test_Features = testray[:,1:]\n",
    "test_Label = testray[:,0]\n",
    "\n",
    "minmax_scale = preprocessing.MinMaxScaler(feature_range=(0, 1))\n",
    "train_Features=minmax_scale.fit_transform(train_Features)  \n",
    "test_Features=minmax_scale.fit_transform(test_Features)"
   ]
  },
  {
   "cell_type": "code",
   "execution_count": 7,
   "metadata": {
    "collapsed": false
   },
   "outputs": [
    {
     "data": {
      "text/plain": [
       "array([[0.5       , 0.        , 0.32049799, 0.12687155],\n",
       "       [0.5       , 0.        , 0.64665896, 0.12687155],\n",
       "       [0.5       , 0.        , 0.74178924, 0.03122992],\n",
       "       [0.5       , 1.        , 0.32049799, 0.14346245]])"
      ]
     },
     "execution_count": 7,
     "metadata": {},
     "output_type": "execute_result"
    }
   ],
   "source": [
    "train_Features[355:359]"
   ]
  },
  {
   "cell_type": "code",
   "execution_count": 8,
   "metadata": {
    "collapsed": false
   },
   "outputs": [
    {
     "data": {
      "text/plain": [
       "array([1., 1., 0., 0.])"
      ]
     },
     "execution_count": 8,
     "metadata": {},
     "output_type": "execute_result"
    }
   ],
   "source": [
    "train_Label[:4]"
   ]
  },
  {
   "cell_type": "code",
   "execution_count": 9,
   "metadata": {
    "collapsed": false
   },
   "outputs": [
    {
     "name": "stderr",
     "output_type": "stream",
     "text": [
      "Using TensorFlow backend.\n"
     ]
    }
   ],
   "source": [
    "from keras.models import Sequential\n",
    "from keras.layers.core import Dense, Dropout, Activation,Flatten\n",
    "from keras.layers.embeddings import Embedding\n",
    "from keras.layers.recurrent import LSTM"
   ]
  },
  {
   "cell_type": "code",
   "execution_count": 10,
   "metadata": {
    "collapsed": true
   },
   "outputs": [],
   "source": [
    "model = Sequential()"
   ]
  },
  {
   "cell_type": "code",
   "execution_count": 11,
   "metadata": {
    "collapsed": true
   },
   "outputs": [],
   "source": [
    "model.add(Embedding(input_dim=4,output_dim=1))"
   ]
  },
  {
   "cell_type": "code",
   "execution_count": 12,
   "metadata": {
    "collapsed": true
   },
   "outputs": [],
   "source": [
    "model.add(LSTM(2))"
   ]
  },
  {
   "cell_type": "code",
   "execution_count": 13,
   "metadata": {
    "collapsed": true
   },
   "outputs": [],
   "source": [
    "model.add(Dense(1, activation = \"sigmoid\"))"
   ]
  },
  {
   "cell_type": "code",
   "execution_count": 14,
   "metadata": {
    "collapsed": false
   },
   "outputs": [
    {
     "name": "stdout",
     "output_type": "stream",
     "text": [
      "_________________________________________________________________\n",
      "Layer (type)                 Output Shape              Param #   \n",
      "=================================================================\n",
      "embedding_1 (Embedding)      (None, None, 1)           4         \n",
      "_________________________________________________________________\n",
      "lstm_1 (LSTM)                (None, 2)                 32        \n",
      "_________________________________________________________________\n",
      "dense_1 (Dense)              (None, 1)                 3         \n",
      "=================================================================\n",
      "Total params: 39\n",
      "Trainable params: 39\n",
      "Non-trainable params: 0\n",
      "_________________________________________________________________\n"
     ]
    }
   ],
   "source": [
    "model.summary()"
   ]
  },
  {
   "cell_type": "code",
   "execution_count": 15,
   "metadata": {
    "collapsed": true
   },
   "outputs": [],
   "source": [
    "model.compile(loss='binary_crossentropy', \n",
    "              optimizer='adam', metrics=['accuracy'])"
   ]
  },
  {
   "cell_type": "code",
   "execution_count": 16,
   "metadata": {
    "collapsed": false
   },
   "outputs": [
    {
     "name": "stdout",
     "output_type": "stream",
     "text": [
      "Train on 930 samples, validate on 104 samples\n",
      "Epoch 1/30\n",
      " - 2s - loss: 0.6921 - acc: 0.5677 - val_loss: 0.6853 - val_acc: 0.7885\n",
      "Epoch 2/30\n",
      " - 0s - loss: 0.6898 - acc: 0.5871 - val_loss: 0.6769 - val_acc: 0.7885\n",
      "Epoch 3/30\n",
      " - 0s - loss: 0.6876 - acc: 0.5871 - val_loss: 0.6694 - val_acc: 0.7885\n",
      "Epoch 4/30\n",
      " - 0s - loss: 0.6857 - acc: 0.5871 - val_loss: 0.6605 - val_acc: 0.7885\n",
      "Epoch 5/30\n",
      " - 0s - loss: 0.6838 - acc: 0.5871 - val_loss: 0.6531 - val_acc: 0.7885\n",
      "Epoch 6/30\n",
      " - 0s - loss: 0.6822 - acc: 0.5871 - val_loss: 0.6462 - val_acc: 0.7885\n",
      "Epoch 7/30\n",
      " - 0s - loss: 0.6808 - acc: 0.5871 - val_loss: 0.6372 - val_acc: 0.7885\n",
      "Epoch 8/30\n",
      " - 0s - loss: 0.6792 - acc: 0.5871 - val_loss: 0.6308 - val_acc: 0.7885\n",
      "Epoch 9/30\n",
      " - 0s - loss: 0.6776 - acc: 0.5871 - val_loss: 0.6243 - val_acc: 0.7885\n",
      "Epoch 10/30\n",
      " - 0s - loss: 0.6755 - acc: 0.5871 - val_loss: 0.6155 - val_acc: 0.7885\n",
      "Epoch 11/30\n",
      " - 0s - loss: 0.6728 - acc: 0.5871 - val_loss: 0.6055 - val_acc: 0.7885\n",
      "Epoch 12/30\n",
      " - 0s - loss: 0.6690 - acc: 0.5871 - val_loss: 0.5966 - val_acc: 0.7885\n",
      "Epoch 13/30\n",
      " - 0s - loss: 0.6635 - acc: 0.5871 - val_loss: 0.5850 - val_acc: 0.7885\n",
      "Epoch 14/30\n",
      " - 0s - loss: 0.6556 - acc: 0.5871 - val_loss: 0.5687 - val_acc: 0.7885\n",
      "Epoch 15/30\n",
      " - 0s - loss: 0.6450 - acc: 0.5871 - val_loss: 0.5535 - val_acc: 0.7885\n",
      "Epoch 16/30\n",
      " - 0s - loss: 0.6327 - acc: 0.5871 - val_loss: 0.5379 - val_acc: 0.7885\n",
      "Epoch 17/30\n",
      " - 0s - loss: 0.6209 - acc: 0.5871 - val_loss: 0.5232 - val_acc: 0.7885\n",
      "Epoch 18/30\n",
      " - 0s - loss: 0.6091 - acc: 0.6419 - val_loss: 0.5106 - val_acc: 0.7885\n",
      "Epoch 19/30\n",
      " - 0s - loss: 0.5990 - acc: 0.7774 - val_loss: 0.4991 - val_acc: 0.7885\n",
      "Epoch 20/30\n",
      " - 0s - loss: 0.5894 - acc: 0.7774 - val_loss: 0.4914 - val_acc: 0.7885\n",
      "Epoch 21/30\n",
      " - 0s - loss: 0.5811 - acc: 0.7774 - val_loss: 0.4847 - val_acc: 0.7885\n",
      "Epoch 22/30\n",
      " - 0s - loss: 0.5743 - acc: 0.7774 - val_loss: 0.4795 - val_acc: 0.7885\n",
      "Epoch 23/30\n",
      " - 0s - loss: 0.5688 - acc: 0.7774 - val_loss: 0.4757 - val_acc: 0.7885\n",
      "Epoch 24/30\n",
      " - 0s - loss: 0.5633 - acc: 0.7774 - val_loss: 0.4724 - val_acc: 0.7885\n",
      "Epoch 25/30\n",
      " - 0s - loss: 0.5588 - acc: 0.7774 - val_loss: 0.4699 - val_acc: 0.7885\n",
      "Epoch 26/30\n",
      " - 0s - loss: 0.5549 - acc: 0.7774 - val_loss: 0.4694 - val_acc: 0.7885\n",
      "Epoch 27/30\n",
      " - 0s - loss: 0.5517 - acc: 0.7774 - val_loss: 0.4677 - val_acc: 0.7885\n",
      "Epoch 28/30\n",
      " - 0s - loss: 0.5485 - acc: 0.7774 - val_loss: 0.4662 - val_acc: 0.7885\n",
      "Epoch 29/30\n",
      " - 0s - loss: 0.5456 - acc: 0.7774 - val_loss: 0.4662 - val_acc: 0.7885\n",
      "Epoch 30/30\n",
      " - 0s - loss: 0.5430 - acc: 0.7774 - val_loss: 0.4643 - val_acc: 0.7885\n"
     ]
    }
   ],
   "source": [
    "train_history =model.fit(x=train_Features, \n",
    "                         y=train_Label, \n",
    "                         validation_split=0.1, \n",
    "                         epochs=30, \n",
    "                         batch_size=30,verbose=2)"
   ]
  },
  {
   "cell_type": "code",
   "execution_count": 17,
   "metadata": {
    "collapsed": true
   },
   "outputs": [],
   "source": [
    "import matplotlib.pyplot as plt\n",
    "def show_train_history(train_history,train,validation):\n",
    "    plt.plot(train_history.history[train])\n",
    "    plt.plot(train_history.history[validation])\n",
    "    plt.title('Train History')\n",
    "    plt.ylabel(train)\n",
    "    plt.xlabel('Epoch')\n",
    "    plt.legend(['train', 'validation'], loc='upper left')\n",
    "    plt.show()"
   ]
  },
  {
   "cell_type": "code",
   "execution_count": 18,
   "metadata": {
    "collapsed": false
   },
   "outputs": [
    {
     "data": {
      "image/png": "[encoded data removed]",
      "text/plain": [
       "<matplotlib.figure.Figure at 0x7fe693913dd8>"
      ]
     },
     "metadata": {},
     "output_type": "display_data"
    }
   ],
   "source": [
    "show_train_history(train_history,'acc','val_acc')"
   ]
  },
  {
   "cell_type": "code",
   "execution_count": 19,
   "metadata": {
    "collapsed": false
   },
   "outputs": [
    {
     "data": {
      "image/png": "[encoded data removed]",
      "text/plain": [
       "<matplotlib.figure.Figure at 0x7fe693929400>"
      ]
     },
     "metadata": {},
     "output_type": "display_data"
    }
   ],
   "source": [
    "show_train_history(train_history,'loss','val_loss')"
   ]
  },
  {
   "cell_type": "code",
   "execution_count": 20,
   "metadata": {
    "collapsed": false
   },
   "outputs": [
    {
     "name": "stdout",
     "output_type": "stream",
     "text": [
      "275/275 [==============================] - 0s 89us/step\n"
     ]
    }
   ],
   "source": [
    "scores = model.evaluate(x=test_Features, \n",
    "                        y=test_Label)"
   ]
  },
  {
   "cell_type": "code",
   "execution_count": 21,
   "metadata": {
    "collapsed": false
   },
   "outputs": [
    {
     "data": {
      "text/plain": [
       "0.7927272731607611"
      ]
     },
     "execution_count": 21,
     "metadata": {},
     "output_type": "execute_result"
    }
   ],
   "source": [
    "scores[1]"
   ]
  }
 ],
 "metadata": {
  "anaconda-cloud": {},
  "kernelspec": {
   "display_name": "Python [conda root]",
   "language": "python",
   "name": "conda-root-py"
  },
  "language_info": {
   "codemirror_mode": {
    "name": "ipython",
    "version": 3
   },
   "file_extension": ".py",
   "mimetype": "text/x-python",
   "name": "python",
   "nbconvert_exporter": "python",
   "pygments_lexer": "ipython3",
   "version": "3.5.2"
  }
 },
 "nbformat": 4,
 "nbformat_minor": 1
}
