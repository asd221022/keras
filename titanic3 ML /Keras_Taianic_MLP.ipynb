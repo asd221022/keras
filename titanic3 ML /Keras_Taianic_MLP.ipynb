{
 "cells": [
  {
   "cell_type": "code",
   "execution_count": 1,
   "metadata": {
    "collapsed": true,
    "slideshow": {
     "slide_type": "-"
    }
   },
   "outputs": [],
   "source": [
    "import numpy\n",
    "import pandas as pd\n",
    "from sklearn.preprocessing import StandardScaler\n",
    "from sklearn.cross_validation import train_test_split\n",
    "numpy.random.seed(10)"
   ]
  },
  {
   "cell_type": "code",
   "execution_count": 2,
   "metadata": {
    "collapsed": true
   },
   "outputs": [],
   "source": [
    "all_df = pd.read_csv(\"data/titanic.csv\")"
   ]
  },
  {
   "cell_type": "code",
   "execution_count": 3,
   "metadata": {
    "collapsed": false
   },
   "outputs": [],
   "source": [
    "cols=['survived','pclass' ,'sex', 'age',\n",
    "       'fare',]\n",
    "df=all_df[cols]\n",
    "df.isnull().sum()\n",
    "df=df.values"
   ]
  },
  {
   "cell_type": "code",
   "execution_count": 4,
   "metadata": {
    "collapsed": false
   },
   "outputs": [
    {
     "data": {
      "text/plain": [
       "array([[  1.    ,   0.    ,  29.    , 211.3375],\n",
       "       [  1.    ,   1.    ,   0.9167, 151.55  ],\n",
       "       [  1.    ,   0.    ,   2.    , 151.55  ],\n",
       "       [  1.    ,   1.    ,  30.    , 151.55  ],\n",
       "       [  1.    ,   0.    ,  25.    , 151.55  ]])"
      ]
     },
     "execution_count": 4,
     "metadata": {},
     "output_type": "execute_result"
    }
   ],
   "source": [
    "X = df[:,1:]\n",
    "Y = df[:,0]\n",
    "X[:5]"
   ]
  },
  {
   "cell_type": "code",
   "execution_count": 5,
   "metadata": {
    "collapsed": false
   },
   "outputs": [
    {
     "data": {
      "text/plain": [
       "1046"
      ]
     },
     "execution_count": 5,
     "metadata": {},
     "output_type": "execute_result"
    }
   ],
   "source": [
    " X = StandardScaler().fit_transform(X)\n",
    "train_Features, test_Features, train_Label, test_Label = train_test_split(X, Y, test_size=0.2, random_state=True) \n",
    "len(train_Features)"
   ]
  },
  {
   "cell_type": "code",
   "execution_count": 6,
   "metadata": {
    "collapsed": false
   },
   "outputs": [
    {
     "data": {
      "text/plain": [
       "array([[ 0.84246649, -1.34419751,  0.8216082 , -0.46039806],\n",
       "       [ 0.84246649, -1.34419751,  0.09991351, -0.19415727],\n",
       "       [ 0.84246649,  0.74393829, -0.18876436, -0.49092056],\n",
       "       [-0.35140802, -1.34419751,  0.17208298, -0.23764487]])"
      ]
     },
     "execution_count": 6,
     "metadata": {},
     "output_type": "execute_result"
    }
   ],
   "source": [
    "train_Features[355:359]"
   ]
  },
  {
   "cell_type": "code",
   "execution_count": 7,
   "metadata": {
    "collapsed": false
   },
   "outputs": [
    {
     "data": {
      "text/plain": [
       "array([1., 0., 0., 0.])"
      ]
     },
     "execution_count": 7,
     "metadata": {},
     "output_type": "execute_result"
    }
   ],
   "source": [
    "train_Label[:4]"
   ]
  },
  {
   "cell_type": "code",
   "execution_count": 8,
   "metadata": {
    "collapsed": false
   },
   "outputs": [
    {
     "name": "stderr",
     "output_type": "stream",
     "text": [
      "Using TensorFlow backend.\n"
     ]
    }
   ],
   "source": [
    "from keras.models import Sequential\n",
    "from keras.layers import Dense,Dropout"
   ]
  },
  {
   "cell_type": "code",
   "execution_count": 9,
   "metadata": {
    "collapsed": true
   },
   "outputs": [],
   "source": [
    "model = Sequential()"
   ]
  },
  {
   "cell_type": "code",
   "execution_count": 10,
   "metadata": {
    "collapsed": true
   },
   "outputs": [],
   "source": [
    "model.add(Dense(units=40, input_dim=4, \n",
    "                kernel_initializer='uniform', \n",
    "                activation='relu'))"
   ]
  },
  {
   "cell_type": "code",
   "execution_count": 11,
   "metadata": {
    "collapsed": true
   },
   "outputs": [],
   "source": [
    "model.add(Dense(units=30, \n",
    "                kernel_initializer='uniform', \n",
    "                activation='relu'))"
   ]
  },
  {
   "cell_type": "code",
   "execution_count": 12,
   "metadata": {
    "collapsed": true
   },
   "outputs": [],
   "source": [
    "model.add(Dense(units=20, \n",
    "                kernel_initializer='uniform', \n",
    "                activation='relu'))"
   ]
  },
  {
   "cell_type": "code",
   "execution_count": 13,
   "metadata": {
    "collapsed": true
   },
   "outputs": [],
   "source": [
    "model.add(Dense(units=10, \n",
    "                kernel_initializer='uniform', \n",
    "                activation='relu'))"
   ]
  },
  {
   "cell_type": "code",
   "execution_count": 14,
   "metadata": {
    "collapsed": true
   },
   "outputs": [],
   "source": [
    "model.add(Dense(units=1, \n",
    "                kernel_initializer='uniform',\n",
    "                activation='sigmoid'))"
   ]
  },
  {
   "cell_type": "code",
   "execution_count": 15,
   "metadata": {
    "collapsed": false
   },
   "outputs": [
    {
     "name": "stdout",
     "output_type": "stream",
     "text": [
      "_________________________________________________________________\n",
      "Layer (type)                 Output Shape              Param #   \n",
      "=================================================================\n",
      "dense_1 (Dense)              (None, 40)                200       \n",
      "_________________________________________________________________\n",
      "dense_2 (Dense)              (None, 30)                1230      \n",
      "_________________________________________________________________\n",
      "dense_3 (Dense)              (None, 20)                620       \n",
      "_________________________________________________________________\n",
      "dense_4 (Dense)              (None, 10)                210       \n",
      "_________________________________________________________________\n",
      "dense_5 (Dense)              (None, 1)                 11        \n",
      "=================================================================\n",
      "Total params: 2,271\n",
      "Trainable params: 2,271\n",
      "Non-trainable params: 0\n",
      "_________________________________________________________________\n"
     ]
    }
   ],
   "source": [
    "model.summary()"
   ]
  },
  {
   "cell_type": "code",
   "execution_count": 16,
   "metadata": {
    "collapsed": true
   },
   "outputs": [],
   "source": [
    "model.compile(loss='binary_crossentropy', \n",
    "              optimizer='adam', metrics=['accuracy'])"
   ]
  },
  {
   "cell_type": "code",
   "execution_count": 17,
   "metadata": {
    "collapsed": false
   },
   "outputs": [
    {
     "name": "stdout",
     "output_type": "stream",
     "text": [
      "Train on 941 samples, validate on 105 samples\n",
      "Epoch 1/30\n",
      " - 1s - loss: 0.6918 - acc: 0.6057 - val_loss: 0.6887 - val_acc: 0.6571\n",
      "Epoch 2/30\n",
      " - 0s - loss: 0.6837 - acc: 0.6057 - val_loss: 0.6630 - val_acc: 0.6571\n",
      "Epoch 3/30\n",
      " - 0s - loss: 0.6062 - acc: 0.6057 - val_loss: 0.5587 - val_acc: 0.6571\n",
      "Epoch 4/30\n",
      " - 0s - loss: 0.5429 - acc: 0.7099 - val_loss: 0.5490 - val_acc: 0.7333\n",
      "Epoch 5/30\n",
      " - 0s - loss: 0.5307 - acc: 0.7885 - val_loss: 0.5378 - val_acc: 0.7524\n",
      "Epoch 6/30\n",
      " - 0s - loss: 0.5004 - acc: 0.7864 - val_loss: 0.5422 - val_acc: 0.7524\n",
      "Epoch 7/30\n",
      " - 0s - loss: 0.4848 - acc: 0.7843 - val_loss: 0.5519 - val_acc: 0.7333\n",
      "Epoch 8/30\n",
      " - 0s - loss: 0.4747 - acc: 0.7832 - val_loss: 0.5463 - val_acc: 0.7429\n",
      "Epoch 9/30\n",
      " - 0s - loss: 0.4670 - acc: 0.7800 - val_loss: 0.5558 - val_acc: 0.7143\n",
      "Epoch 10/30\n",
      " - 0s - loss: 0.4622 - acc: 0.7885 - val_loss: 0.5540 - val_acc: 0.7143\n",
      "Epoch 11/30\n",
      " - 0s - loss: 0.4582 - acc: 0.7800 - val_loss: 0.5426 - val_acc: 0.7238\n",
      "Epoch 12/30\n",
      " - 0s - loss: 0.4564 - acc: 0.7800 - val_loss: 0.5491 - val_acc: 0.7238\n",
      "Epoch 13/30\n",
      " - 0s - loss: 0.4562 - acc: 0.7811 - val_loss: 0.5535 - val_acc: 0.7143\n",
      "Epoch 14/30\n",
      " - 0s - loss: 0.4516 - acc: 0.7853 - val_loss: 0.5389 - val_acc: 0.7429\n",
      "Epoch 15/30\n",
      " - 0s - loss: 0.4509 - acc: 0.7864 - val_loss: 0.5461 - val_acc: 0.7143\n",
      "Epoch 16/30\n",
      " - 0s - loss: 0.4500 - acc: 0.7885 - val_loss: 0.5418 - val_acc: 0.7429\n",
      "Epoch 17/30\n",
      " - 0s - loss: 0.4502 - acc: 0.7896 - val_loss: 0.5496 - val_acc: 0.7143\n",
      "Epoch 18/30\n",
      " - 0s - loss: 0.4492 - acc: 0.7885 - val_loss: 0.5405 - val_acc: 0.7429\n",
      "Epoch 19/30\n",
      " - 0s - loss: 0.4498 - acc: 0.7821 - val_loss: 0.5406 - val_acc: 0.7524\n",
      "Epoch 20/30\n",
      " - 0s - loss: 0.4463 - acc: 0.7832 - val_loss: 0.5407 - val_acc: 0.7333\n",
      "Epoch 21/30\n",
      " - 0s - loss: 0.4462 - acc: 0.7960 - val_loss: 0.5427 - val_acc: 0.7429\n",
      "Epoch 22/30\n",
      " - 0s - loss: 0.4458 - acc: 0.7960 - val_loss: 0.5463 - val_acc: 0.7143\n",
      "Epoch 23/30\n",
      " - 0s - loss: 0.4460 - acc: 0.7885 - val_loss: 0.5433 - val_acc: 0.7429\n",
      "Epoch 24/30\n",
      " - 0s - loss: 0.4436 - acc: 0.7928 - val_loss: 0.5470 - val_acc: 0.7143\n",
      "Epoch 25/30\n",
      " - 0s - loss: 0.4430 - acc: 0.7917 - val_loss: 0.5432 - val_acc: 0.7333\n",
      "Epoch 26/30\n",
      " - 0s - loss: 0.4437 - acc: 0.7970 - val_loss: 0.5481 - val_acc: 0.7143\n",
      "Epoch 27/30\n",
      " - 0s - loss: 0.4420 - acc: 0.7991 - val_loss: 0.5402 - val_acc: 0.7429\n",
      "Epoch 28/30\n",
      " - 0s - loss: 0.4434 - acc: 0.8045 - val_loss: 0.5434 - val_acc: 0.7238\n",
      "Epoch 29/30\n",
      " - 0s - loss: 0.4440 - acc: 0.7981 - val_loss: 0.5472 - val_acc: 0.7429\n",
      "Epoch 30/30\n",
      " - 0s - loss: 0.4446 - acc: 0.7864 - val_loss: 0.5377 - val_acc: 0.7714\n"
     ]
    }
   ],
   "source": [
    "train_history =model.fit(x=train_Features, \n",
    "                         y=train_Label, \n",
    "                         validation_split=0.1, \n",
    "                         epochs=30, \n",
    "                         batch_size=30,verbose=2)"
   ]
  },
  {
   "cell_type": "code",
   "execution_count": 18,
   "metadata": {
    "collapsed": true
   },
   "outputs": [],
   "source": [
    "import matplotlib.pyplot as plt\n",
    "def show_train_history(train_history,train,validation):\n",
    "    plt.plot(train_history.history[train])\n",
    "    plt.plot(train_history.history[validation])\n",
    "    plt.title('Train History')\n",
    "    plt.ylabel(train)\n",
    "    plt.xlabel('Epoch')\n",
    "    plt.legend(['train', 'validation'], loc='upper left')\n",
    "    plt.show()"
   ]
  },
  {
   "cell_type": "code",
   "execution_count": 19,
   "metadata": {
    "collapsed": false
   },
   "outputs": [
    {
     "data": {
      "image/png": "[encoded data removed]",
      "text/plain": [
       "<matplotlib.figure.Figure at 0x7fdf778fe9e8>"
      ]
     },
     "metadata": {},
     "output_type": "display_data"
    }
   ],
   "source": [
    "show_train_history(train_history,'acc','val_acc')"
   ]
  },
  {
   "cell_type": "code",
   "execution_count": 20,
   "metadata": {
    "collapsed": false
   },
   "outputs": [
    {
     "data": {
      "image/png": "[encoded data removed]",
      "text/plain": [
       "<matplotlib.figure.Figure at 0x7fdf78588898>"
      ]
     },
     "metadata": {},
     "output_type": "display_data"
    }
   ],
   "source": [
    "show_train_history(train_history,'loss','val_loss')"
   ]
  },
  {
   "cell_type": "code",
   "execution_count": 21,
   "metadata": {
    "collapsed": false
   },
   "outputs": [
    {
     "name": "stdout",
     "output_type": "stream",
     "text": [
      "262/262 [==============================] - 0s 44us/step\n"
     ]
    }
   ],
   "source": [
    "scores = model.evaluate(x=test_Features, \n",
    "                        y=test_Label)"
   ]
  },
  {
   "cell_type": "code",
   "execution_count": 22,
   "metadata": {
    "collapsed": false
   },
   "outputs": [
    {
     "data": {
      "text/plain": [
       "0.8206106865679035"
      ]
     },
     "execution_count": 22,
     "metadata": {},
     "output_type": "execute_result"
    }
   ],
   "source": [
    "scores[1]"
   ]
  }
 ],
 "metadata": {
  "anaconda-cloud": {},
  "kernelspec": {
   "display_name": "Python [default]",
   "language": "python",
   "name": "python3"
  },
  "language_info": {
   "codemirror_mode": {
    "name": "ipython",
    "version": 3
   },
   "file_extension": ".py",
   "mimetype": "text/x-python",
   "name": "python",
   "nbconvert_exporter": "python",
   "pygments_lexer": "ipython3",
   "version": "3.5.2"
  }
 },
 "nbformat": 4,
 "nbformat_minor": 1
}
