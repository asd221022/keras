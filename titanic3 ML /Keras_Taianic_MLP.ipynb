{
 "cells": [
  {
   "cell_type": "code",
   "execution_count": 1,
   "metadata": {
    "collapsed": true,
    "slideshow": {
     "slide_type": "-"
    }
   },
   "outputs": [],
   "source": [
    "import numpy\n",
    "import pandas as pd\n",
    "from sklearn import preprocessing\n",
    "numpy.random.seed(10)"
   ]
  },
  {
   "cell_type": "code",
   "execution_count": 2,
   "metadata": {
    "collapsed": true
   },
   "outputs": [],
   "source": [
    "all_df = pd.read_csv(\"data/titanic.csv\")"
   ]
  },
  {
   "cell_type": "code",
   "execution_count": 3,
   "metadata": {
    "collapsed": false
   },
   "outputs": [
    {
     "data": {
      "text/plain": [
       "survived    0\n",
       "pclass      0\n",
       "sex         0\n",
       "age         0\n",
       "fare        0\n",
       "dtype: int64"
      ]
     },
     "execution_count": 3,
     "metadata": {},
     "output_type": "execute_result"
    }
   ],
   "source": [
    "cols=['survived','pclass' ,'sex', 'age',\n",
    "       'fare',]\n",
    "df=all_df[cols]\n",
    "df.isnull().sum()"
   ]
  },
  {
   "cell_type": "code",
   "execution_count": 4,
   "metadata": {
    "collapsed": false
   },
   "outputs": [
    {
     "name": "stdout",
     "output_type": "stream",
     "text": [
      "total: 1308 train: 1033 test: 275\n"
     ]
    }
   ],
   "source": [
    "msk = numpy.random.rand(len(df)) < 0.8\n",
    "train_df = df[msk]\n",
    "test_df = df[~msk]\n",
    "print('total:',len(df),\n",
    "      'train:',len(train_df),\n",
    "      'test:',len(test_df))"
   ]
  },
  {
   "cell_type": "code",
   "execution_count": 5,
   "metadata": {
    "collapsed": true
   },
   "outputs": [],
   "source": [
    "trainray= train_df.values\n",
    "train_Features = trainray[:,1:]\n",
    "train_Label = trainray[:,0]\n",
    "    \n",
    "testray= test_df.values\n",
    "test_Features = testray[:,1:]\n",
    "test_Label = testray[:,0]\n",
    "\n",
    "minmax_scale = preprocessing.MinMaxScaler(feature_range=(0, 1))\n",
    "train_Features=minmax_scale.fit_transform(train_Features)  \n",
    "test_Features=minmax_scale.fit_transform(test_Features)"
   ]
  },
  {
   "cell_type": "code",
   "execution_count": 6,
   "metadata": {
    "collapsed": false
   },
   "outputs": [
    {
     "data": {
      "text/plain": [
       "array([[0.5       , 1.        , 0.48532708, 0.02513033],\n",
       "       [0.5       , 1.        , 0.82392769, 0.02410559],\n",
       "       [0.5       , 1.        , 0.67494342, 0.05074862],\n",
       "       [0.5       , 0.        , 0.56659123, 0.05074862]])"
      ]
     },
     "execution_count": 6,
     "metadata": {},
     "output_type": "execute_result"
    }
   ],
   "source": [
    "train_Features[355:359]"
   ]
  },
  {
   "cell_type": "code",
   "execution_count": 7,
   "metadata": {
    "collapsed": false
   },
   "outputs": [
    {
     "data": {
      "text/plain": [
       "array([1., 1., 0., 0.])"
      ]
     },
     "execution_count": 7,
     "metadata": {},
     "output_type": "execute_result"
    }
   ],
   "source": [
    "train_Label[:4]"
   ]
  },
  {
   "cell_type": "code",
   "execution_count": 8,
   "metadata": {
    "collapsed": false
   },
   "outputs": [
    {
     "name": "stderr",
     "output_type": "stream",
     "text": [
      "Using TensorFlow backend.\n"
     ]
    }
   ],
   "source": [
    "from keras.models import Sequential\n",
    "from keras.layers import Dense,Dropout"
   ]
  },
  {
   "cell_type": "code",
   "execution_count": 9,
   "metadata": {
    "collapsed": true
   },
   "outputs": [],
   "source": [
    "model = Sequential()"
   ]
  },
  {
   "cell_type": "code",
   "execution_count": 10,
   "metadata": {
    "collapsed": true
   },
   "outputs": [],
   "source": [
    "model.add(Dense(units=40, input_dim=4, \n",
    "                kernel_initializer='uniform', \n",
    "                activation='relu'))"
   ]
  },
  {
   "cell_type": "code",
   "execution_count": 11,
   "metadata": {
    "collapsed": true
   },
   "outputs": [],
   "source": [
    "model.add(Dense(units=30, \n",
    "                kernel_initializer='uniform', \n",
    "                activation='relu'))"
   ]
  },
  {
   "cell_type": "code",
   "execution_count": 12,
   "metadata": {
    "collapsed": true
   },
   "outputs": [],
   "source": [
    "model.add(Dense(units=20, \n",
    "                kernel_initializer='uniform', \n",
    "                activation='relu'))"
   ]
  },
  {
   "cell_type": "code",
   "execution_count": 13,
   "metadata": {
    "collapsed": true
   },
   "outputs": [],
   "source": [
    "model.add(Dense(units=10, \n",
    "                kernel_initializer='uniform', \n",
    "                activation='relu'))"
   ]
  },
  {
   "cell_type": "code",
   "execution_count": 14,
   "metadata": {
    "collapsed": true
   },
   "outputs": [],
   "source": [
    "model.add(Dense(units=1, \n",
    "                kernel_initializer='uniform',\n",
    "                activation='sigmoid'))"
   ]
  },
  {
   "cell_type": "code",
   "execution_count": 15,
   "metadata": {
    "collapsed": false
   },
   "outputs": [
    {
     "name": "stdout",
     "output_type": "stream",
     "text": [
      "_________________________________________________________________\n",
      "Layer (type)                 Output Shape              Param #   \n",
      "=================================================================\n",
      "dense_1 (Dense)              (None, 40)                200       \n",
      "_________________________________________________________________\n",
      "dense_2 (Dense)              (None, 30)                1230      \n",
      "_________________________________________________________________\n",
      "dense_3 (Dense)              (None, 20)                620       \n",
      "_________________________________________________________________\n",
      "dense_4 (Dense)              (None, 10)                210       \n",
      "_________________________________________________________________\n",
      "dense_5 (Dense)              (None, 1)                 11        \n",
      "=================================================================\n",
      "Total params: 2,271\n",
      "Trainable params: 2,271\n",
      "Non-trainable params: 0\n",
      "_________________________________________________________________\n"
     ]
    }
   ],
   "source": [
    "model.summary()"
   ]
  },
  {
   "cell_type": "code",
   "execution_count": 16,
   "metadata": {
    "collapsed": true
   },
   "outputs": [],
   "source": [
    "model.compile(loss='binary_crossentropy', \n",
    "              optimizer='adam', metrics=['accuracy'])"
   ]
  },
  {
   "cell_type": "code",
   "execution_count": 17,
   "metadata": {
    "collapsed": false
   },
   "outputs": [
    {
     "name": "stdout",
     "output_type": "stream",
     "text": [
      "Train on 929 samples, validate on 104 samples\n",
      "Epoch 1/30\n",
      " - 2s - loss: 0.6920 - acc: 0.5791 - val_loss: 0.6862 - val_acc: 0.7404\n",
      "Epoch 2/30\n",
      " - 0s - loss: 0.6870 - acc: 0.5985 - val_loss: 0.6626 - val_acc: 0.7404\n",
      "Epoch 3/30\n",
      " - 0s - loss: 0.6613 - acc: 0.5985 - val_loss: 0.5578 - val_acc: 0.7404\n",
      "Epoch 4/30\n",
      " - 0s - loss: 0.6096 - acc: 0.5985 - val_loss: 0.5094 - val_acc: 0.7404\n",
      "Epoch 5/30\n",
      " - 0s - loss: 0.5783 - acc: 0.5985 - val_loss: 0.4705 - val_acc: 0.7404\n",
      "Epoch 6/30\n",
      " - 0s - loss: 0.5696 - acc: 0.6297 - val_loss: 0.4665 - val_acc: 0.7404\n",
      "Epoch 7/30\n",
      " - 0s - loss: 0.5666 - acc: 0.7847 - val_loss: 0.4641 - val_acc: 0.7404\n",
      "Epoch 8/30\n",
      " - 0s - loss: 0.5634 - acc: 0.7793 - val_loss: 0.4626 - val_acc: 0.7115\n",
      "Epoch 9/30\n",
      " - 0s - loss: 0.5601 - acc: 0.7847 - val_loss: 0.4588 - val_acc: 0.7115\n",
      "Epoch 10/30\n",
      " - 0s - loss: 0.5579 - acc: 0.7718 - val_loss: 0.4579 - val_acc: 0.7212\n",
      "Epoch 11/30\n",
      " - 0s - loss: 0.5548 - acc: 0.7804 - val_loss: 0.4575 - val_acc: 0.7404\n",
      "Epoch 12/30\n",
      " - 0s - loss: 0.5520 - acc: 0.7847 - val_loss: 0.4544 - val_acc: 0.8365\n",
      "Epoch 13/30\n",
      " - 0s - loss: 0.5525 - acc: 0.7675 - val_loss: 0.4526 - val_acc: 0.7212\n",
      "Epoch 14/30\n",
      " - 0s - loss: 0.5479 - acc: 0.7815 - val_loss: 0.4514 - val_acc: 0.7212\n",
      "Epoch 15/30\n",
      " - 0s - loss: 0.5461 - acc: 0.7804 - val_loss: 0.4536 - val_acc: 0.8365\n",
      "Epoch 16/30\n",
      " - 0s - loss: 0.5439 - acc: 0.7804 - val_loss: 0.4487 - val_acc: 0.7981\n",
      "Epoch 17/30\n",
      " - 0s - loss: 0.5408 - acc: 0.7815 - val_loss: 0.4493 - val_acc: 0.7788\n",
      "Epoch 18/30\n",
      " - 0s - loss: 0.5394 - acc: 0.7847 - val_loss: 0.4458 - val_acc: 0.8077\n",
      "Epoch 19/30\n",
      " - 0s - loss: 0.5372 - acc: 0.7847 - val_loss: 0.4450 - val_acc: 0.7981\n",
      "Epoch 20/30\n",
      " - 0s - loss: 0.5351 - acc: 0.7793 - val_loss: 0.4487 - val_acc: 0.8173\n",
      "Epoch 21/30\n",
      " - 0s - loss: 0.5370 - acc: 0.7804 - val_loss: 0.4426 - val_acc: 0.7212\n",
      "Epoch 22/30\n",
      " - 0s - loss: 0.5338 - acc: 0.7826 - val_loss: 0.4438 - val_acc: 0.7788\n",
      "Epoch 23/30\n",
      " - 0s - loss: 0.5305 - acc: 0.7858 - val_loss: 0.4423 - val_acc: 0.7788\n",
      "Epoch 24/30\n",
      " - 0s - loss: 0.5286 - acc: 0.7912 - val_loss: 0.4388 - val_acc: 0.7788\n",
      "Epoch 25/30\n",
      " - 0s - loss: 0.5277 - acc: 0.7858 - val_loss: 0.4412 - val_acc: 0.7788\n",
      "Epoch 26/30\n",
      " - 0s - loss: 0.5262 - acc: 0.7858 - val_loss: 0.4386 - val_acc: 0.8077\n",
      "Epoch 27/30\n",
      " - 0s - loss: 0.5291 - acc: 0.7826 - val_loss: 0.4526 - val_acc: 0.8173\n",
      "Epoch 28/30\n",
      " - 0s - loss: 0.5242 - acc: 0.7869 - val_loss: 0.4390 - val_acc: 0.7788\n",
      "Epoch 29/30\n",
      " - 0s - loss: 0.5217 - acc: 0.7890 - val_loss: 0.4384 - val_acc: 0.7788\n",
      "Epoch 30/30\n",
      " - 0s - loss: 0.5215 - acc: 0.7912 - val_loss: 0.4392 - val_acc: 0.7981\n"
     ]
    }
   ],
   "source": [
    "train_history =model.fit(x=train_Features, \n",
    "                         y=train_Label, \n",
    "                         validation_split=0.1, \n",
    "                         epochs=30, \n",
    "                         batch_size=30,verbose=2)"
   ]
  },
  {
   "cell_type": "code",
   "execution_count": 18,
   "metadata": {
    "collapsed": true
   },
   "outputs": [],
   "source": [
    "import matplotlib.pyplot as plt\n",
    "def show_train_history(train_history,train,validation):\n",
    "    plt.plot(train_history.history[train])\n",
    "    plt.plot(train_history.history[validation])\n",
    "    plt.title('Train History')\n",
    "    plt.ylabel(train)\n",
    "    plt.xlabel('Epoch')\n",
    "    plt.legend(['train', 'validation'], loc='upper left')\n",
    "    plt.show()"
   ]
  },
  {
   "cell_type": "code",
   "execution_count": 19,
   "metadata": {
    "collapsed": false
   },
   "outputs": [
    {
     "data": {
      "image/png": "[encoded data removed]",
      "text/plain": [
       "<matplotlib.figure.Figure at 0x7fa05fafda90>"
      ]
     },
     "metadata": {},
     "output_type": "display_data"
    }
   ],
   "source": [
    "show_train_history(train_history,'acc','val_acc')"
   ]
  },
  {
   "cell_type": "code",
   "execution_count": 20,
   "metadata": {
    "collapsed": false
   },
   "outputs": [
    {
     "data": {
      "image/png": "[encoded data removed]",
      "text/plain": [
       "<matplotlib.figure.Figure at 0x7fa05fb86eb8>"
      ]
     },
     "metadata": {},
     "output_type": "display_data"
    }
   ],
   "source": [
    "show_train_history(train_history,'loss','val_loss')"
   ]
  },
  {
   "cell_type": "code",
   "execution_count": 21,
   "metadata": {
    "collapsed": false
   },
   "outputs": [
    {
     "name": "stdout",
     "output_type": "stream",
     "text": [
      "275/275 [==============================] - 0s 88us/step\n"
     ]
    }
   ],
   "source": [
    "scores = model.evaluate(x=test_Features, \n",
    "                        y=test_Label)"
   ]
  },
  {
   "cell_type": "code",
   "execution_count": 22,
   "metadata": {
    "collapsed": false
   },
   "outputs": [
    {
     "data": {
      "text/plain": [
       "0.7927272731607611"
      ]
     },
     "execution_count": 22,
     "metadata": {},
     "output_type": "execute_result"
    }
   ],
   "source": [
    "scores[1]"
   ]
  }
 ],
 "metadata": {
  "anaconda-cloud": {},
  "kernelspec": {
   "display_name": "Python [default]",
   "language": "python",
   "name": "python3"
  },
  "language_info": {
   "codemirror_mode": {
    "name": "ipython",
    "version": 3
   },
   "file_extension": ".py",
   "mimetype": "text/x-python",
   "name": "python",
   "nbconvert_exporter": "python",
   "pygments_lexer": "ipython3",
   "version": "3.5.2"
  }
 },
 "nbformat": 4,
 "nbformat_minor": 1
}
