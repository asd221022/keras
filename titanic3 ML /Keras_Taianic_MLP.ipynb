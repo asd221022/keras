{
 "cells": [
  {
   "cell_type": "code",
   "execution_count": 24,
   "metadata": {
    "collapsed": true,
    "slideshow": {
     "slide_type": "-"
    }
   },
   "outputs": [],
   "source": [
    "import numpy\n",
    "import pandas as pd\n",
    "from sklearn import preprocessing\n",
    "numpy.random.seed(10)"
   ]
  },
  {
   "cell_type": "code",
   "execution_count": 25,
   "metadata": {
    "collapsed": true
   },
   "outputs": [],
   "source": [
    "all_df = pd.read_excel(\"data/titanic3.xls\")"
   ]
  },
  {
   "cell_type": "code",
   "execution_count": 26,
   "metadata": {
    "collapsed": true
   },
   "outputs": [],
   "source": [
    "cols=['survived','name','pclass' ,'sex', 'age',\n",
    "       'fare',]\n",
    "all_df=all_df[cols]"
   ]
  },
  {
   "cell_type": "code",
   "execution_count": 27,
   "metadata": {
    "collapsed": true
   },
   "outputs": [],
   "source": [
    "df=all_df.drop(['name'], axis=1)\n",
    "age_mean = df['age'].mean()\n",
    "df['age'] = df['age'].fillna(age_mean)\n",
    "fare_mean = df['fare'].mean()\n",
    "df['fare'] = df['fare'].fillna(fare_mean)\n",
    "df['sex']= df['sex'].map({'female':0, 'male': 1}).astype(int)"
   ]
  },
  {
   "cell_type": "code",
   "execution_count": 28,
   "metadata": {
    "collapsed": false
   },
   "outputs": [
    {
     "name": "stdout",
     "output_type": "stream",
     "text": [
      "total: 1309 train: 1034 test: 275\n"
     ]
    }
   ],
   "source": [
    "msk = numpy.random.rand(len(df)) < 0.8\n",
    "train_df = df[msk]\n",
    "test_df = df[~msk]\n",
    "print('total:',len(df),\n",
    "      'train:',len(train_df),\n",
    "      'test:',len(test_df))"
   ]
  },
  {
   "cell_type": "code",
   "execution_count": 29,
   "metadata": {
    "collapsed": true
   },
   "outputs": [],
   "source": [
    "trainray= train_df.values\n",
    "train_Features = trainray[:,1:]\n",
    "train_Label = trainray[:,0]\n",
    "    \n",
    "testray= test_df.values\n",
    "test_Features = testray[:,1:]\n",
    "test_Label = testray[:,0]\n",
    "\n",
    "minmax_scale = preprocessing.MinMaxScaler(feature_range=(0, 1))\n",
    "train_Features=minmax_scale.fit_transform(train_Features)  \n",
    "test_Features=minmax_scale.fit_transform(test_Features)"
   ]
  },
  {
   "cell_type": "code",
   "execution_count": 30,
   "metadata": {
    "collapsed": false
   },
   "outputs": [
    {
     "data": {
      "text/plain": [
       "array([[0.5       , 0.        , 0.32049799, 0.12687155],\n",
       "       [0.5       , 0.        , 0.64665896, 0.12687155],\n",
       "       [0.5       , 0.        , 0.74178924, 0.03122992],\n",
       "       [0.5       , 1.        , 0.32049799, 0.14346245]])"
      ]
     },
     "execution_count": 30,
     "metadata": {},
     "output_type": "execute_result"
    }
   ],
   "source": [
    "train_Features[355:359]"
   ]
  },
  {
   "cell_type": "code",
   "execution_count": 31,
   "metadata": {
    "collapsed": false
   },
   "outputs": [
    {
     "data": {
      "text/plain": [
       "array([1., 1., 0., 0.])"
      ]
     },
     "execution_count": 31,
     "metadata": {},
     "output_type": "execute_result"
    }
   ],
   "source": [
    "train_Label[:4]"
   ]
  },
  {
   "cell_type": "code",
   "execution_count": 32,
   "metadata": {
    "collapsed": false
   },
   "outputs": [],
   "source": [
    "from keras.models import Sequential\n",
    "from keras.layers import Dense,Dropout"
   ]
  },
  {
   "cell_type": "code",
   "execution_count": 33,
   "metadata": {
    "collapsed": true
   },
   "outputs": [],
   "source": [
    "model = Sequential()"
   ]
  },
  {
   "cell_type": "code",
   "execution_count": 34,
   "metadata": {
    "collapsed": true
   },
   "outputs": [],
   "source": [
    "model.add(Dense(units=40, input_dim=4, \n",
    "                kernel_initializer='uniform', \n",
    "                activation='relu'))"
   ]
  },
  {
   "cell_type": "code",
   "execution_count": 35,
   "metadata": {
    "collapsed": true
   },
   "outputs": [],
   "source": [
    "model.add(Dense(units=30, \n",
    "                kernel_initializer='uniform', \n",
    "                activation='relu'))"
   ]
  },
  {
   "cell_type": "code",
   "execution_count": 36,
   "metadata": {
    "collapsed": true
   },
   "outputs": [],
   "source": [
    "model.add(Dense(units=20, \n",
    "                kernel_initializer='uniform', \n",
    "                activation='relu'))"
   ]
  },
  {
   "cell_type": "code",
   "execution_count": 37,
   "metadata": {
    "collapsed": true
   },
   "outputs": [],
   "source": [
    "model.add(Dense(units=10, \n",
    "                kernel_initializer='uniform', \n",
    "                activation='relu'))"
   ]
  },
  {
   "cell_type": "code",
   "execution_count": 38,
   "metadata": {
    "collapsed": true
   },
   "outputs": [],
   "source": [
    "model.add(Dense(units=1, \n",
    "                kernel_initializer='uniform',\n",
    "                activation='sigmoid'))"
   ]
  },
  {
   "cell_type": "code",
   "execution_count": 39,
   "metadata": {
    "collapsed": false
   },
   "outputs": [
    {
     "name": "stdout",
     "output_type": "stream",
     "text": [
      "_________________________________________________________________\n",
      "Layer (type)                 Output Shape              Param #   \n",
      "=================================================================\n",
      "dense_6 (Dense)              (None, 40)                200       \n",
      "_________________________________________________________________\n",
      "dense_7 (Dense)              (None, 30)                1230      \n",
      "_________________________________________________________________\n",
      "dense_8 (Dense)              (None, 20)                620       \n",
      "_________________________________________________________________\n",
      "dense_9 (Dense)              (None, 10)                210       \n",
      "_________________________________________________________________\n",
      "dense_10 (Dense)             (None, 1)                 11        \n",
      "=================================================================\n",
      "Total params: 2,271\n",
      "Trainable params: 2,271\n",
      "Non-trainable params: 0\n",
      "_________________________________________________________________\n"
     ]
    }
   ],
   "source": [
    "model.summary()"
   ]
  },
  {
   "cell_type": "code",
   "execution_count": 40,
   "metadata": {
    "collapsed": true
   },
   "outputs": [],
   "source": [
    "model.compile(loss='binary_crossentropy', \n",
    "              optimizer='adam', metrics=['accuracy'])"
   ]
  },
  {
   "cell_type": "code",
   "execution_count": 41,
   "metadata": {
    "collapsed": false
   },
   "outputs": [
    {
     "name": "stdout",
     "output_type": "stream",
     "text": [
      "Train on 930 samples, validate on 104 samples\n",
      "Epoch 1/30\n",
      " - 0s - loss: 0.6924 - acc: 0.5613 - val_loss: 0.6874 - val_acc: 0.7885\n",
      "Epoch 2/30\n",
      " - 0s - loss: 0.6904 - acc: 0.5871 - val_loss: 0.6805 - val_acc: 0.7885\n",
      "Epoch 3/30\n",
      " - 0s - loss: 0.6854 - acc: 0.5871 - val_loss: 0.6539 - val_acc: 0.7885\n",
      "Epoch 4/30\n",
      " - 0s - loss: 0.6412 - acc: 0.5871 - val_loss: 0.4997 - val_acc: 0.7885\n",
      "Epoch 5/30\n",
      " - 0s - loss: 0.5752 - acc: 0.6892 - val_loss: 0.4507 - val_acc: 0.7885\n",
      "Epoch 6/30\n",
      " - 0s - loss: 0.5612 - acc: 0.7720 - val_loss: 0.4567 - val_acc: 0.7885\n",
      "Epoch 7/30\n",
      " - 0s - loss: 0.5390 - acc: 0.7731 - val_loss: 0.4480 - val_acc: 0.7885\n",
      "Epoch 8/30\n",
      " - 0s - loss: 0.5232 - acc: 0.7731 - val_loss: 0.4586 - val_acc: 0.7885\n",
      "Epoch 9/30\n",
      " - 0s - loss: 0.5119 - acc: 0.7731 - val_loss: 0.4436 - val_acc: 0.7885\n",
      "Epoch 10/30\n",
      " - 0s - loss: 0.4935 - acc: 0.7731 - val_loss: 0.4484 - val_acc: 0.7885\n",
      "Epoch 11/30\n",
      " - 0s - loss: 0.4798 - acc: 0.7699 - val_loss: 0.4458 - val_acc: 0.7885\n",
      "Epoch 12/30\n",
      " - 0s - loss: 0.4756 - acc: 0.7656 - val_loss: 0.4467 - val_acc: 0.7885\n",
      "Epoch 13/30\n",
      " - 0s - loss: 0.4718 - acc: 0.7656 - val_loss: 0.4528 - val_acc: 0.7885\n",
      "Epoch 14/30\n",
      " - 0s - loss: 0.4708 - acc: 0.7742 - val_loss: 0.4638 - val_acc: 0.7885\n",
      "Epoch 15/30\n",
      " - 0s - loss: 0.4794 - acc: 0.7731 - val_loss: 0.4461 - val_acc: 0.7596\n",
      "Epoch 16/30\n",
      " - 0s - loss: 0.4665 - acc: 0.7742 - val_loss: 0.4454 - val_acc: 0.7596\n",
      "Epoch 17/30\n",
      " - 0s - loss: 0.4658 - acc: 0.7817 - val_loss: 0.4435 - val_acc: 0.7596\n",
      "Epoch 18/30\n",
      " - 0s - loss: 0.4625 - acc: 0.7817 - val_loss: 0.4460 - val_acc: 0.7692\n",
      "Epoch 19/30\n",
      " - 0s - loss: 0.4634 - acc: 0.7731 - val_loss: 0.4470 - val_acc: 0.7692\n",
      "Epoch 20/30\n",
      " - 0s - loss: 0.4619 - acc: 0.7796 - val_loss: 0.4489 - val_acc: 0.7788\n",
      "Epoch 21/30\n",
      " - 0s - loss: 0.4630 - acc: 0.7785 - val_loss: 0.4451 - val_acc: 0.7788\n",
      "Epoch 22/30\n",
      " - 0s - loss: 0.4612 - acc: 0.7796 - val_loss: 0.4469 - val_acc: 0.7692\n",
      "Epoch 23/30\n",
      " - 0s - loss: 0.4589 - acc: 0.7849 - val_loss: 0.4446 - val_acc: 0.7788\n",
      "Epoch 24/30\n",
      " - 0s - loss: 0.4621 - acc: 0.7839 - val_loss: 0.4456 - val_acc: 0.7692\n",
      "Epoch 25/30\n",
      " - 0s - loss: 0.4605 - acc: 0.7828 - val_loss: 0.4491 - val_acc: 0.7692\n",
      "Epoch 26/30\n",
      " - 0s - loss: 0.4584 - acc: 0.7817 - val_loss: 0.4464 - val_acc: 0.7788\n",
      "Epoch 27/30\n",
      " - 0s - loss: 0.4573 - acc: 0.7860 - val_loss: 0.4463 - val_acc: 0.7788\n",
      "Epoch 28/30\n",
      " - 0s - loss: 0.4571 - acc: 0.7860 - val_loss: 0.4455 - val_acc: 0.7885\n",
      "Epoch 29/30\n",
      " - 0s - loss: 0.4575 - acc: 0.7849 - val_loss: 0.4461 - val_acc: 0.7981\n",
      "Epoch 30/30\n",
      " - 0s - loss: 0.4575 - acc: 0.7914 - val_loss: 0.4459 - val_acc: 0.7885\n"
     ]
    }
   ],
   "source": [
    "train_history =model.fit(x=train_Features, \n",
    "                         y=train_Label, \n",
    "                         validation_split=0.1, \n",
    "                         epochs=30, \n",
    "                         batch_size=30,verbose=2)"
   ]
  },
  {
   "cell_type": "code",
   "execution_count": 42,
   "metadata": {
    "collapsed": true
   },
   "outputs": [],
   "source": [
    "import matplotlib.pyplot as plt\n",
    "def show_train_history(train_history,train,validation):\n",
    "    plt.plot(train_history.history[train])\n",
    "    plt.plot(train_history.history[validation])\n",
    "    plt.title('Train History')\n",
    "    plt.ylabel(train)\n",
    "    plt.xlabel('Epoch')\n",
    "    plt.legend(['train', 'validation'], loc='upper left')\n",
    "    plt.show()"
   ]
  },
  {
   "cell_type": "code",
   "execution_count": 43,
   "metadata": {
    "collapsed": false
   },
   "outputs": [
    {
     "data": {
      "image/png": "[encoded data removed]",
      "text/plain": [
       "<matplotlib.figure.Figure at 0x7f581c1537f0>"
      ]
     },
     "metadata": {},
     "output_type": "display_data"
    }
   ],
   "source": [
    "show_train_history(train_history,'acc','val_acc')"
   ]
  },
  {
   "cell_type": "code",
   "execution_count": 44,
   "metadata": {
    "collapsed": false
   },
   "outputs": [
    {
     "data": {
      "image/png": "[encoded data removed]",
      "text/plain": [
       "<matplotlib.figure.Figure at 0x7f581e66f438>"
      ]
     },
     "metadata": {},
     "output_type": "display_data"
    }
   ],
   "source": [
    "show_train_history(train_history,'loss','val_loss')"
   ]
  },
  {
   "cell_type": "code",
   "execution_count": 45,
   "metadata": {
    "collapsed": false
   },
   "outputs": [
    {
     "name": "stdout",
     "output_type": "stream",
     "text": [
      "275/275 [==============================] - 0s 200us/step\n"
     ]
    }
   ],
   "source": [
    "scores = model.evaluate(x=test_Features, \n",
    "                        y=test_Label)"
   ]
  },
  {
   "cell_type": "code",
   "execution_count": 46,
   "metadata": {
    "collapsed": false
   },
   "outputs": [
    {
     "data": {
      "text/plain": [
       "0.7818181822516701"
      ]
     },
     "execution_count": 46,
     "metadata": {},
     "output_type": "execute_result"
    }
   ],
   "source": [
    "scores[1]"
   ]
  }
 ],
 "metadata": {
  "anaconda-cloud": {},
  "kernelspec": {
   "display_name": "Python [default]",
   "language": "python",
   "name": "python3"
  },
  "language_info": {
   "codemirror_mode": {
    "name": "ipython",
    "version": 3
   },
   "file_extension": ".py",
   "mimetype": "text/x-python",
   "name": "python",
   "nbconvert_exporter": "python",
   "pygments_lexer": "ipython3",
   "version": "3.5.2"
  }
 },
 "nbformat": 4,
 "nbformat_minor": 1
}
