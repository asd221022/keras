{
 "cells": [
  {
   "cell_type": "code",
   "execution_count": 80,
   "metadata": {
    "collapsed": true,
    "slideshow": {
     "slide_type": "-"
    }
   },
   "outputs": [],
   "source": [
    "import numpy\n",
    "import pandas as pd\n",
    "from sklearn import preprocessing\n",
    "numpy.random.seed(10)"
   ]
  },
  {
   "cell_type": "code",
   "execution_count": 81,
   "metadata": {
    "collapsed": true
   },
   "outputs": [],
   "source": [
    "all_df = pd.read_excel(\"data/titanic3.xls\")"
   ]
  },
  {
   "cell_type": "code",
   "execution_count": 82,
   "metadata": {
    "collapsed": true
   },
   "outputs": [],
   "source": [
    "cols=['survived','name','pclass' ,'sex', 'age',\n",
    "       'fare',]\n",
    "all_df=all_df[cols]"
   ]
  },
  {
   "cell_type": "code",
   "execution_count": 83,
   "metadata": {
    "collapsed": true
   },
   "outputs": [],
   "source": [
    "df=all_df.drop(['name'], axis=1)\n",
    "age_mean = df['age'].mean()\n",
    "df['age'] = df['age'].fillna(age_mean)\n",
    "fare_mean = df['fare'].mean()\n",
    "df['fare'] = df['fare'].fillna(fare_mean)\n",
    "df['sex']= df['sex'].map({'female':0, 'male': 1}).astype(int)"
   ]
  },
  {
   "cell_type": "code",
   "execution_count": 84,
   "metadata": {
    "collapsed": false
   },
   "outputs": [
    {
     "name": "stdout",
     "output_type": "stream",
     "text": [
      "total: 1309 train: 1034 test: 275\n"
     ]
    }
   ],
   "source": [
    "msk = numpy.random.rand(len(df)) < 0.8\n",
    "train_df = df[msk]\n",
    "test_df = df[~msk]\n",
    "print('total:',len(df),\n",
    "      'train:',len(train_df),\n",
    "      'test:',len(test_df))"
   ]
  },
  {
   "cell_type": "code",
   "execution_count": 85,
   "metadata": {
    "collapsed": false
   },
   "outputs": [],
   "source": [
    "trainray= train_df.values\n",
    "train_Features = trainray[:,1:]\n",
    "train_Label = trainray[:,0]\n",
    "    \n",
    "testray= test_df.values\n",
    "test_Features = testray[:,1:]\n",
    "test_Label = testray[:,0]\n",
    "\n",
    "minmax_scale = preprocessing.MinMaxScaler(feature_range=(0, 1))\n",
    "train_Features=minmax_scale.fit_transform(train_Features)  \n",
    "test_Features=minmax_scale.fit_transform(test_Features)"
   ]
  },
  {
   "cell_type": "code",
   "execution_count": 86,
   "metadata": {
    "collapsed": false
   },
   "outputs": [
    {
     "data": {
      "text/plain": [
       "array([[0.5       , 0.        , 0.32049799, 0.12687155],\n",
       "       [0.5       , 0.        , 0.64665896, 0.12687155],\n",
       "       [0.5       , 0.        , 0.74178924, 0.03122992],\n",
       "       [0.5       , 1.        , 0.32049799, 0.14346245]])"
      ]
     },
     "execution_count": 86,
     "metadata": {},
     "output_type": "execute_result"
    }
   ],
   "source": [
    "train_Features[355:359]"
   ]
  },
  {
   "cell_type": "code",
   "execution_count": 87,
   "metadata": {
    "collapsed": false
   },
   "outputs": [
    {
     "data": {
      "text/plain": [
       "array([1., 1., 0., 0.])"
      ]
     },
     "execution_count": 87,
     "metadata": {},
     "output_type": "execute_result"
    }
   ],
   "source": [
    "train_Label[:4]"
   ]
  },
  {
   "cell_type": "code",
   "execution_count": 88,
   "metadata": {
    "collapsed": false
   },
   "outputs": [],
   "source": [
    "from keras.models import Sequential\n",
    "from keras.layers import Dense,Dropout"
   ]
  },
  {
   "cell_type": "code",
   "execution_count": 89,
   "metadata": {
    "collapsed": true
   },
   "outputs": [],
   "source": [
    "model = Sequential()"
   ]
  },
  {
   "cell_type": "code",
   "execution_count": 90,
   "metadata": {
    "collapsed": true
   },
   "outputs": [],
   "source": [
    "model.add(Dense(units=40, input_dim=4, \n",
    "                kernel_initializer='uniform', \n",
    "                activation='relu'))"
   ]
  },
  {
   "cell_type": "code",
   "execution_count": 91,
   "metadata": {
    "collapsed": true
   },
   "outputs": [],
   "source": [
    "model.add(Dense(units=4, \n",
    "                kernel_initializer='uniform', \n",
    "                activation='relu'))"
   ]
  },
  {
   "cell_type": "code",
   "execution_count": 92,
   "metadata": {
    "collapsed": true
   },
   "outputs": [],
   "source": [
    "model.add(Dense(units=1, \n",
    "                kernel_initializer='uniform',\n",
    "                activation='sigmoid'))"
   ]
  },
  {
   "cell_type": "code",
   "execution_count": 93,
   "metadata": {
    "collapsed": false
   },
   "outputs": [
    {
     "name": "stdout",
     "output_type": "stream",
     "text": [
      "_________________________________________________________________\n",
      "Layer (type)                 Output Shape              Param #   \n",
      "=================================================================\n",
      "dense_13 (Dense)             (None, 40)                200       \n",
      "_________________________________________________________________\n",
      "dense_14 (Dense)             (None, 4)                 164       \n",
      "_________________________________________________________________\n",
      "dense_15 (Dense)             (None, 1)                 5         \n",
      "=================================================================\n",
      "Total params: 369\n",
      "Trainable params: 369\n",
      "Non-trainable params: 0\n",
      "_________________________________________________________________\n"
     ]
    }
   ],
   "source": [
    "model.summary()"
   ]
  },
  {
   "cell_type": "code",
   "execution_count": 94,
   "metadata": {
    "collapsed": true
   },
   "outputs": [],
   "source": [
    "model.compile(loss='binary_crossentropy', \n",
    "              optimizer='adam', metrics=['accuracy'])"
   ]
  },
  {
   "cell_type": "code",
   "execution_count": 95,
   "metadata": {
    "collapsed": false
   },
   "outputs": [
    {
     "name": "stdout",
     "output_type": "stream",
     "text": [
      "Train on 930 samples, validate on 104 samples\n",
      "Epoch 1/30\n",
      " - 0s - loss: 0.6918 - acc: 0.5785 - val_loss: 0.6847 - val_acc: 0.7885\n",
      "Epoch 2/30\n",
      " - 0s - loss: 0.6870 - acc: 0.5871 - val_loss: 0.6684 - val_acc: 0.7885\n",
      "Epoch 3/30\n",
      " - 0s - loss: 0.6726 - acc: 0.5882 - val_loss: 0.6268 - val_acc: 0.7885\n",
      "Epoch 4/30\n",
      " - 0s - loss: 0.6401 - acc: 0.6366 - val_loss: 0.5602 - val_acc: 0.7885\n",
      "Epoch 5/30\n",
      " - 0s - loss: 0.5986 - acc: 0.7097 - val_loss: 0.5002 - val_acc: 0.7885\n",
      "Epoch 6/30\n",
      " - 0s - loss: 0.5647 - acc: 0.7763 - val_loss: 0.4654 - val_acc: 0.7692\n",
      "Epoch 7/30\n",
      " - 0s - loss: 0.5399 - acc: 0.7774 - val_loss: 0.4600 - val_acc: 0.7885\n",
      "Epoch 8/30\n",
      " - 0s - loss: 0.5246 - acc: 0.7731 - val_loss: 0.4540 - val_acc: 0.7885\n",
      "Epoch 9/30\n",
      " - 0s - loss: 0.5138 - acc: 0.7731 - val_loss: 0.4505 - val_acc: 0.7885\n",
      "Epoch 10/30\n",
      " - 0s - loss: 0.5059 - acc: 0.7731 - val_loss: 0.4468 - val_acc: 0.7885\n",
      "Epoch 11/30\n",
      " - 0s - loss: 0.4996 - acc: 0.7710 - val_loss: 0.4497 - val_acc: 0.7885\n",
      "Epoch 12/30\n",
      " - 0s - loss: 0.4945 - acc: 0.7677 - val_loss: 0.4463 - val_acc: 0.7885\n",
      "Epoch 13/30\n",
      " - 0s - loss: 0.4912 - acc: 0.7645 - val_loss: 0.4450 - val_acc: 0.7885\n",
      "Epoch 14/30\n",
      " - 0s - loss: 0.4880 - acc: 0.7645 - val_loss: 0.4486 - val_acc: 0.7885\n",
      "Epoch 15/30\n",
      " - 0s - loss: 0.4861 - acc: 0.7634 - val_loss: 0.4465 - val_acc: 0.7885\n",
      "Epoch 16/30\n",
      " - 0s - loss: 0.4819 - acc: 0.7634 - val_loss: 0.4437 - val_acc: 0.7885\n",
      "Epoch 17/30\n",
      " - 0s - loss: 0.4804 - acc: 0.7634 - val_loss: 0.4438 - val_acc: 0.7885\n",
      "Epoch 18/30\n",
      " - 0s - loss: 0.4792 - acc: 0.7634 - val_loss: 0.4423 - val_acc: 0.7885\n",
      "Epoch 19/30\n",
      " - 0s - loss: 0.4777 - acc: 0.7667 - val_loss: 0.4440 - val_acc: 0.7885\n",
      "Epoch 20/30\n",
      " - 0s - loss: 0.4757 - acc: 0.7634 - val_loss: 0.4430 - val_acc: 0.7885\n",
      "Epoch 21/30\n",
      " - 0s - loss: 0.4742 - acc: 0.7656 - val_loss: 0.4410 - val_acc: 0.7692\n",
      "Epoch 22/30\n",
      " - 0s - loss: 0.4730 - acc: 0.7645 - val_loss: 0.4425 - val_acc: 0.7788\n",
      "Epoch 23/30\n",
      " - 0s - loss: 0.4736 - acc: 0.7667 - val_loss: 0.4404 - val_acc: 0.7692\n",
      "Epoch 24/30\n",
      " - 0s - loss: 0.4712 - acc: 0.7624 - val_loss: 0.4435 - val_acc: 0.7788\n",
      "Epoch 25/30\n",
      " - 0s - loss: 0.4710 - acc: 0.7688 - val_loss: 0.4431 - val_acc: 0.7692\n",
      "Epoch 26/30\n",
      " - 0s - loss: 0.4698 - acc: 0.7731 - val_loss: 0.4426 - val_acc: 0.7692\n",
      "Epoch 27/30\n",
      " - 0s - loss: 0.4685 - acc: 0.7667 - val_loss: 0.4410 - val_acc: 0.7788\n",
      "Epoch 28/30\n",
      " - 0s - loss: 0.4681 - acc: 0.7634 - val_loss: 0.4389 - val_acc: 0.7692\n",
      "Epoch 29/30\n",
      " - 0s - loss: 0.4672 - acc: 0.7785 - val_loss: 0.4416 - val_acc: 0.7788\n",
      "Epoch 30/30\n",
      " - 0s - loss: 0.4681 - acc: 0.7774 - val_loss: 0.4410 - val_acc: 0.7788\n"
     ]
    }
   ],
   "source": [
    "train_history =model.fit(x=train_Features, \n",
    "                         y=train_Label, \n",
    "                         validation_split=0.1, \n",
    "                         epochs=30, \n",
    "                         batch_size=30,verbose=2)"
   ]
  },
  {
   "cell_type": "code",
   "execution_count": 96,
   "metadata": {
    "collapsed": true
   },
   "outputs": [],
   "source": [
    "import matplotlib.pyplot as plt\n",
    "def show_train_history(train_history,train,validation):\n",
    "    plt.plot(train_history.history[train])\n",
    "    plt.plot(train_history.history[validation])\n",
    "    plt.title('Train History')\n",
    "    plt.ylabel(train)\n",
    "    plt.xlabel('Epoch')\n",
    "    plt.legend(['train', 'validation'], loc='upper left')\n",
    "    plt.show()"
   ]
  },
  {
   "cell_type": "code",
   "execution_count": 97,
   "metadata": {
    "collapsed": false
   },
   "outputs": [
    {
     "data": {
      "image/png": "[encoded data removed]",
      "text/plain": [
       "<matplotlib.figure.Figure at 0x7f343c3d2cf8>"
      ]
     },
     "metadata": {},
     "output_type": "display_data"
    }
   ],
   "source": [
    "show_train_history(train_history,'acc','val_acc')"
   ]
  },
  {
   "cell_type": "code",
   "execution_count": 98,
   "metadata": {
    "collapsed": false
   },
   "outputs": [
    {
     "data": {
      "image/png": "[encoded data removed]",
      "text/plain": [
       "<matplotlib.figure.Figure at 0x7f344df21f98>"
      ]
     },
     "metadata": {},
     "output_type": "display_data"
    }
   ],
   "source": [
    "show_train_history(train_history,'loss','val_loss')"
   ]
  },
  {
   "cell_type": "code",
   "execution_count": 99,
   "metadata": {
    "collapsed": false
   },
   "outputs": [
    {
     "name": "stdout",
     "output_type": "stream",
     "text": [
      "275/275 [==============================] - 0s 75us/step\n"
     ]
    }
   ],
   "source": [
    "scores = model.evaluate(x=test_Features, \n",
    "                        y=test_Label)"
   ]
  },
  {
   "cell_type": "code",
   "execution_count": 100,
   "metadata": {
    "collapsed": false
   },
   "outputs": [
    {
     "data": {
      "text/plain": [
       "0.8072727292234247"
      ]
     },
     "execution_count": 100,
     "metadata": {},
     "output_type": "execute_result"
    }
   ],
   "source": [
    "scores[1]"
   ]
  }
 ],
 "metadata": {
  "anaconda-cloud": {},
  "kernelspec": {
   "display_name": "Python [default]",
   "language": "python",
   "name": "python3"
  },
  "language_info": {
   "codemirror_mode": {
    "name": "ipython",
    "version": 3
   },
   "file_extension": ".py",
   "mimetype": "text/x-python",
   "name": "python",
   "nbconvert_exporter": "python",
   "pygments_lexer": "ipython3",
   "version": "3.5.2"
  }
 },
 "nbformat": 4,
 "nbformat_minor": 1
}
