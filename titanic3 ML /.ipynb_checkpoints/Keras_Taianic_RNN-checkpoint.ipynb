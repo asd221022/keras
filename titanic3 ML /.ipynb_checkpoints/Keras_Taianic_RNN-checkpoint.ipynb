{
 "cells": [
  {
   "cell_type": "code",
   "execution_count": 21,
   "metadata": {
    "collapsed": false,
    "slideshow": {
     "slide_type": "-"
    }
   },
   "outputs": [],
   "source": [
    "import numpy\n",
    "import pandas as pd\n",
    "from sklearn import preprocessing\n",
    "from sklearn.cross_validation import train_test_split\n",
    "numpy.random.seed(10)"
   ]
  },
  {
   "cell_type": "code",
   "execution_count": 22,
   "metadata": {
    "collapsed": true
   },
   "outputs": [],
   "source": [
    "all_df = pd.read_csv(\"data/titanic.csv\")"
   ]
  },
  {
   "cell_type": "code",
   "execution_count": 23,
   "metadata": {
    "collapsed": false
   },
   "outputs": [],
   "source": [
    "cols=['survived','pclass' ,'sex', 'age',\n",
    "       'fare',]\n",
    "df=all_df[cols]\n",
    "df.isnull().sum()\n",
    "df=df.values"
   ]
  },
  {
   "cell_type": "code",
   "execution_count": 24,
   "metadata": {
    "collapsed": false
   },
   "outputs": [
    {
     "data": {
      "text/plain": [
       "array([[  1.    ,   0.    ,  29.    , 211.3375],\n",
       "       [  1.    ,   1.    ,   0.9167, 151.55  ],\n",
       "       [  1.    ,   0.    ,   2.    , 151.55  ],\n",
       "       [  1.    ,   1.    ,  30.    , 151.55  ],\n",
       "       [  1.    ,   0.    ,  25.    , 151.55  ]])"
      ]
     },
     "execution_count": 24,
     "metadata": {},
     "output_type": "execute_result"
    }
   ],
   "source": [
    "X = df[:,1:]\n",
    "Y = df[:,0]\n",
    "X[:5]"
   ]
  },
  {
   "cell_type": "code",
   "execution_count": 25,
   "metadata": {
    "collapsed": false
   },
   "outputs": [
    {
     "data": {
      "text/plain": [
       "1046"
      ]
     },
     "execution_count": 25,
     "metadata": {},
     "output_type": "execute_result"
    }
   ],
   "source": [
    "minmax_scale = preprocessing.MinMaxScaler(feature_range=(0, 1))\n",
    "X=minmax_scale.fit_transform(X) \n",
    "train_Features, test_Features, train_Label, test_Label = train_test_split(X, Y, test_size=0.2, random_state=True) \n",
    "len(train_Features)"
   ]
  },
  {
   "cell_type": "code",
   "execution_count": 26,
   "metadata": {
    "collapsed": false
   },
   "outputs": [
    {
     "data": {
      "text/plain": [
       "array([[1.        , 0.        , 0.49895595, 0.01849397],\n",
       "       [1.        , 0.        , 0.37369494, 0.04538098],\n",
       "       [1.        , 1.        , 0.32359053, 0.01541158],\n",
       "       [0.5       , 0.        , 0.38622104, 0.04098927]])"
      ]
     },
     "execution_count": 26,
     "metadata": {},
     "output_type": "execute_result"
    }
   ],
   "source": [
    "train_Features[355:359]"
   ]
  },
  {
   "cell_type": "code",
   "execution_count": 27,
   "metadata": {
    "collapsed": false
   },
   "outputs": [
    {
     "data": {
      "text/plain": [
       "array([1., 0., 0., 0.])"
      ]
     },
     "execution_count": 27,
     "metadata": {},
     "output_type": "execute_result"
    }
   ],
   "source": [
    "train_Label[:4]"
   ]
  },
  {
   "cell_type": "code",
   "execution_count": 28,
   "metadata": {
    "collapsed": true
   },
   "outputs": [],
   "source": [
    "from keras.utils import np_utils\n",
    "train_Label = train_Label.reshape(train_Label.shape[0], 1)\n",
    "test_Label= test_Label.reshape(test_Label.shape[0], 1)\n",
    "train_Label=np_utils.to_categorical(train_Label)\n",
    "test_Label=np_utils.to_categorical(test_Label)"
   ]
  },
  {
   "cell_type": "code",
   "execution_count": 29,
   "metadata": {
    "collapsed": false
   },
   "outputs": [],
   "source": [
    "from keras.models import Sequential\n",
    "from keras.layers.core import Dense, Dropout, Activation\n",
    "from keras.layers.embeddings import Embedding\n",
    "from keras.layers.recurrent import SimpleRNN"
   ]
  },
  {
   "cell_type": "code",
   "execution_count": 30,
   "metadata": {
    "collapsed": true
   },
   "outputs": [],
   "source": [
    "model = Sequential()"
   ]
  },
  {
   "cell_type": "code",
   "execution_count": 31,
   "metadata": {
    "collapsed": true
   },
   "outputs": [],
   "source": [
    "model.add(Embedding(input_dim=4,output_dim=1))"
   ]
  },
  {
   "cell_type": "code",
   "execution_count": 32,
   "metadata": {
    "collapsed": true
   },
   "outputs": [],
   "source": [
    "model.add(SimpleRNN(units=4))"
   ]
  },
  {
   "cell_type": "code",
   "execution_count": 33,
   "metadata": {
    "collapsed": true
   },
   "outputs": [],
   "source": [
    "model.add(Dense(2, activation = \"sigmoid\"))"
   ]
  },
  {
   "cell_type": "code",
   "execution_count": 34,
   "metadata": {
    "collapsed": false
   },
   "outputs": [
    {
     "name": "stdout",
     "output_type": "stream",
     "text": [
      "_________________________________________________________________\n",
      "Layer (type)                 Output Shape              Param #   \n",
      "=================================================================\n",
      "embedding_2 (Embedding)      (None, None, 1)           4         \n",
      "_________________________________________________________________\n",
      "simple_rnn_2 (SimpleRNN)     (None, 4)                 24        \n",
      "_________________________________________________________________\n",
      "dense_2 (Dense)              (None, 2)                 10        \n",
      "=================================================================\n",
      "Total params: 38\n",
      "Trainable params: 38\n",
      "Non-trainable params: 0\n",
      "_________________________________________________________________\n"
     ]
    }
   ],
   "source": [
    "model.summary()"
   ]
  },
  {
   "cell_type": "code",
   "execution_count": 35,
   "metadata": {
    "collapsed": true
   },
   "outputs": [],
   "source": [
    "model.compile(loss='binary_crossentropy', \n",
    "              optimizer='RMSprop', metrics=['accuracy'])"
   ]
  },
  {
   "cell_type": "code",
   "execution_count": 36,
   "metadata": {
    "collapsed": false
   },
   "outputs": [
    {
     "name": "stdout",
     "output_type": "stream",
     "text": [
      "Train on 941 samples, validate on 105 samples\n",
      "Epoch 1/30\n",
      " - 1s - loss: 0.6799 - acc: 0.6079 - val_loss: 0.6604 - val_acc: 0.6571\n",
      "Epoch 2/30\n",
      " - 0s - loss: 0.6642 - acc: 0.6057 - val_loss: 0.6432 - val_acc: 0.6571\n",
      "Epoch 3/30\n",
      " - 0s - loss: 0.6509 - acc: 0.6057 - val_loss: 0.6291 - val_acc: 0.6571\n",
      "Epoch 4/30\n",
      " - 0s - loss: 0.6366 - acc: 0.6057 - val_loss: 0.6160 - val_acc: 0.6571\n",
      "Epoch 5/30\n",
      " - 0s - loss: 0.6185 - acc: 0.6196 - val_loss: 0.6018 - val_acc: 0.7048\n",
      "Epoch 6/30\n",
      " - 0s - loss: 0.5969 - acc: 0.7497 - val_loss: 0.5862 - val_acc: 0.7524\n",
      "Epoch 7/30\n",
      " - 0s - loss: 0.5747 - acc: 0.7705 - val_loss: 0.5722 - val_acc: 0.7524\n",
      "Epoch 8/30\n",
      " - 0s - loss: 0.5547 - acc: 0.7683 - val_loss: 0.5634 - val_acc: 0.7524\n",
      "Epoch 9/30\n",
      " - 0s - loss: 0.5388 - acc: 0.7731 - val_loss: 0.5538 - val_acc: 0.7524\n",
      "Epoch 10/30\n",
      " - 0s - loss: 0.5277 - acc: 0.7726 - val_loss: 0.5477 - val_acc: 0.7524\n",
      "Epoch 11/30\n",
      " - 0s - loss: 0.5189 - acc: 0.7726 - val_loss: 0.5434 - val_acc: 0.7524\n",
      "Epoch 12/30\n",
      " - 0s - loss: 0.5123 - acc: 0.7726 - val_loss: 0.5375 - val_acc: 0.7524\n",
      "Epoch 13/30\n",
      " - 0s - loss: 0.5072 - acc: 0.7726 - val_loss: 0.5357 - val_acc: 0.7524\n",
      "Epoch 14/30\n",
      " - 0s - loss: 0.5036 - acc: 0.7721 - val_loss: 0.5319 - val_acc: 0.7524\n",
      "Epoch 15/30\n",
      " - 0s - loss: 0.5003 - acc: 0.7705 - val_loss: 0.5276 - val_acc: 0.7524\n",
      "Epoch 16/30\n",
      " - 0s - loss: 0.4979 - acc: 0.7742 - val_loss: 0.5269 - val_acc: 0.7571\n",
      "Epoch 17/30\n",
      " - 0s - loss: 0.4954 - acc: 0.7705 - val_loss: 0.5254 - val_acc: 0.7571\n",
      "Epoch 18/30\n",
      " - 0s - loss: 0.4932 - acc: 0.7763 - val_loss: 0.5236 - val_acc: 0.7571\n",
      "Epoch 19/30\n",
      " - 0s - loss: 0.4914 - acc: 0.7763 - val_loss: 0.5221 - val_acc: 0.7571\n",
      "Epoch 20/30\n",
      " - 0s - loss: 0.4900 - acc: 0.7763 - val_loss: 0.5213 - val_acc: 0.7571\n",
      "Epoch 21/30\n",
      " - 0s - loss: 0.4886 - acc: 0.7763 - val_loss: 0.5193 - val_acc: 0.7571\n",
      "Epoch 22/30\n",
      " - 0s - loss: 0.4876 - acc: 0.7763 - val_loss: 0.5193 - val_acc: 0.7571\n",
      "Epoch 23/30\n",
      " - 0s - loss: 0.4869 - acc: 0.7763 - val_loss: 0.5191 - val_acc: 0.7571\n",
      "Epoch 24/30\n",
      " - 0s - loss: 0.4858 - acc: 0.7763 - val_loss: 0.5180 - val_acc: 0.7571\n",
      "Epoch 25/30\n",
      " - 0s - loss: 0.4855 - acc: 0.7763 - val_loss: 0.5183 - val_acc: 0.7571\n",
      "Epoch 26/30\n",
      " - 0s - loss: 0.4846 - acc: 0.7763 - val_loss: 0.5169 - val_acc: 0.7571\n",
      "Epoch 27/30\n",
      " - 0s - loss: 0.4840 - acc: 0.7763 - val_loss: 0.5182 - val_acc: 0.7571\n",
      "Epoch 28/30\n",
      " - 0s - loss: 0.4836 - acc: 0.7763 - val_loss: 0.5195 - val_acc: 0.7571\n",
      "Epoch 29/30\n",
      " - 0s - loss: 0.4831 - acc: 0.7752 - val_loss: 0.5180 - val_acc: 0.7571\n",
      "Epoch 30/30\n",
      " - 0s - loss: 0.4828 - acc: 0.7763 - val_loss: 0.5183 - val_acc: 0.7571\n"
     ]
    }
   ],
   "source": [
    "train_history =model.fit(x=train_Features, \n",
    "                         y=train_Label, \n",
    "                         validation_split=0.1, \n",
    "                         epochs=30, \n",
    "                         batch_size=30,verbose=2)"
   ]
  },
  {
   "cell_type": "code",
   "execution_count": 37,
   "metadata": {
    "collapsed": true
   },
   "outputs": [],
   "source": [
    "import matplotlib.pyplot as plt\n",
    "def show_train_history(train_history,train,validation):\n",
    "    plt.plot(train_history.history[train])\n",
    "    plt.plot(train_history.history[validation])\n",
    "    plt.title('Train History')\n",
    "    plt.ylabel(train)\n",
    "    plt.xlabel('Epoch')\n",
    "    plt.legend(['train', 'validation'], loc='upper left')\n",
    "    plt.show()"
   ]
  },
  {
   "cell_type": "code",
   "execution_count": 38,
   "metadata": {
    "collapsed": false
   },
   "outputs": [
    {
     "data": {
      "image/png": "[encoded data removed]",
      "text/plain": [
       "<matplotlib.figure.Figure at 0x7f21486fecf8>"
      ]
     },
     "metadata": {},
     "output_type": "display_data"
    }
   ],
   "source": [
    "show_train_history(train_history,'acc','val_acc')"
   ]
  },
  {
   "cell_type": "code",
   "execution_count": 39,
   "metadata": {
    "collapsed": false
   },
   "outputs": [
    {
     "data": {
      "image/png": "[encoded data removed]",
      "text/plain": [
       "<matplotlib.figure.Figure at 0x7f214869fda0>"
      ]
     },
     "metadata": {},
     "output_type": "display_data"
    }
   ],
   "source": [
    "show_train_history(train_history,'loss','val_loss')"
   ]
  },
  {
   "cell_type": "code",
   "execution_count": 40,
   "metadata": {
    "collapsed": false
   },
   "outputs": [
    {
     "name": "stdout",
     "output_type": "stream",
     "text": [
      "262/262 [==============================] - 0s 180us/step\n"
     ]
    }
   ],
   "source": [
    "scores = model.evaluate(x=test_Features, \n",
    "                        y=test_Label)"
   ]
  },
  {
   "cell_type": "code",
   "execution_count": 41,
   "metadata": {
    "collapsed": false
   },
   "outputs": [
    {
     "data": {
      "text/plain": [
       "0.8091603048885142"
      ]
     },
     "execution_count": 41,
     "metadata": {},
     "output_type": "execute_result"
    }
   ],
   "source": [
    "scores[1]"
   ]
  }
 ],
 "metadata": {
  "anaconda-cloud": {},
  "kernelspec": {
   "display_name": "Python [conda root]",
   "language": "python",
   "name": "conda-root-py"
  },
  "language_info": {
   "codemirror_mode": {
    "name": "ipython",
    "version": 3
   },
   "file_extension": ".py",
   "mimetype": "text/x-python",
   "name": "python",
   "nbconvert_exporter": "python",
   "pygments_lexer": "ipython3",
   "version": "3.5.2"
  }
 },
 "nbformat": 4,
 "nbformat_minor": 1
}
