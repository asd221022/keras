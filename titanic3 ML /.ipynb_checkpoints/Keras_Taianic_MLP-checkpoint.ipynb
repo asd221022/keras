{
 "cells": [
  {
   "cell_type": "code",
   "execution_count": 526,
   "metadata": {
    "collapsed": true,
    "slideshow": {
     "slide_type": "-"
    }
   },
   "outputs": [],
   "source": [
    "import numpy\n",
    "import pandas as pd\n",
    "from sklearn.preprocessing import StandardScaler\n",
    "from sklearn.cross_validation import train_test_split\n",
    "numpy.random.seed(10)"
   ]
  },
  {
   "cell_type": "code",
   "execution_count": 527,
   "metadata": {
    "collapsed": true
   },
   "outputs": [],
   "source": [
    "all_df = pd.read_csv(\"data/titanic.csv\")"
   ]
  },
  {
   "cell_type": "code",
   "execution_count": 528,
   "metadata": {
    "collapsed": false
   },
   "outputs": [],
   "source": [
    "cols=['survived','pclass' ,'sex', 'age',\n",
    "       'fare',]\n",
    "df=all_df[cols]\n",
    "df.isnull().sum()\n",
    "df=df.values"
   ]
  },
  {
   "cell_type": "code",
   "execution_count": 529,
   "metadata": {
    "collapsed": false
   },
   "outputs": [
    {
     "data": {
      "text/plain": [
       "array([[  1.    ,   0.    ,  29.    , 211.3375],\n",
       "       [  1.    ,   1.    ,   0.9167, 151.55  ],\n",
       "       [  1.    ,   0.    ,   2.    , 151.55  ],\n",
       "       [  1.    ,   1.    ,  30.    , 151.55  ],\n",
       "       [  1.    ,   0.    ,  25.    , 151.55  ]])"
      ]
     },
     "execution_count": 529,
     "metadata": {},
     "output_type": "execute_result"
    }
   ],
   "source": [
    "X = df[:,1:]\n",
    "Y = df[:,0]\n",
    "X[:5]"
   ]
  },
  {
   "cell_type": "code",
   "execution_count": 530,
   "metadata": {
    "collapsed": false
   },
   "outputs": [
    {
     "data": {
      "text/plain": [
       "1046"
      ]
     },
     "execution_count": 530,
     "metadata": {},
     "output_type": "execute_result"
    }
   ],
   "source": [
    " X = StandardScaler().fit_transform(X)\n",
    "train_Features, test_Features, train_Label, test_Label = train_test_split(X, Y, test_size=0.2, random_state=True) \n",
    "len(train_Features)"
   ]
  },
  {
   "cell_type": "code",
   "execution_count": 531,
   "metadata": {
    "collapsed": false
   },
   "outputs": [
    {
     "data": {
      "text/plain": [
       "array([[ 0.84246649, -1.34419751,  0.8216082 , -0.46039806],\n",
       "       [ 0.84246649, -1.34419751,  0.09991351, -0.19415727],\n",
       "       [ 0.84246649,  0.74393829, -0.18876436, -0.49092056],\n",
       "       [-0.35140802, -1.34419751,  0.17208298, -0.23764487]])"
      ]
     },
     "execution_count": 531,
     "metadata": {},
     "output_type": "execute_result"
    }
   ],
   "source": [
    "train_Features[355:359]"
   ]
  },
  {
   "cell_type": "code",
   "execution_count": 532,
   "metadata": {
    "collapsed": false
   },
   "outputs": [
    {
     "data": {
      "text/plain": [
       "array([1., 0., 0., 0.])"
      ]
     },
     "execution_count": 532,
     "metadata": {},
     "output_type": "execute_result"
    }
   ],
   "source": [
    "train_Label[:4]"
   ]
  },
  {
   "cell_type": "code",
   "execution_count": 533,
   "metadata": {
    "collapsed": false
   },
   "outputs": [],
   "source": [
    "from keras.models import Sequential\n",
    "from keras.layers import Dense,Dropout\n",
    "from keras.callbacks import EarlyStopping\n",
    "early_stopping = EarlyStopping(monitor='val_loss', patience=2)"
   ]
  },
  {
   "cell_type": "code",
   "execution_count": 534,
   "metadata": {
    "collapsed": true
   },
   "outputs": [],
   "source": [
    "model = Sequential()"
   ]
  },
  {
   "cell_type": "code",
   "execution_count": 535,
   "metadata": {
    "collapsed": true
   },
   "outputs": [],
   "source": [
    "model.add(Dense(units=12*9,input_dim=4,\n",
    "                kernel_initializer='uniform', \n",
    "                activation='relu'))"
   ]
  },
  {
   "cell_type": "code",
   "execution_count": 536,
   "metadata": {
    "collapsed": true
   },
   "outputs": [],
   "source": [
    "model.add(Dense(units=12*8,\n",
    "                kernel_initializer='uniform', \n",
    "                activation='relu'))"
   ]
  },
  {
   "cell_type": "code",
   "execution_count": 537,
   "metadata": {
    "collapsed": true
   },
   "outputs": [],
   "source": [
    "model.add(Dense(units=12*7,\n",
    "                kernel_initializer='uniform', \n",
    "                activation='relu'))"
   ]
  },
  {
   "cell_type": "code",
   "execution_count": 538,
   "metadata": {
    "collapsed": true
   },
   "outputs": [],
   "source": [
    "model.add(Dense(units=12*6,\n",
    "                kernel_initializer='uniform', \n",
    "                activation='relu'))"
   ]
  },
  {
   "cell_type": "code",
   "execution_count": 539,
   "metadata": {
    "collapsed": true
   },
   "outputs": [],
   "source": [
    "model.add(Dense(units=12*5,\n",
    "                kernel_initializer='uniform', \n",
    "                activation='relu'))"
   ]
  },
  {
   "cell_type": "code",
   "execution_count": 540,
   "metadata": {
    "collapsed": true
   },
   "outputs": [],
   "source": [
    "model.add(Dense(units=12*4,\n",
    "                kernel_initializer='uniform', \n",
    "                activation='relu'))"
   ]
  },
  {
   "cell_type": "code",
   "execution_count": 541,
   "metadata": {
    "collapsed": true
   },
   "outputs": [],
   "source": [
    "model.add(Dense(units=12*3,\n",
    "                kernel_initializer='uniform', \n",
    "                activation='relu'))"
   ]
  },
  {
   "cell_type": "code",
   "execution_count": 542,
   "metadata": {
    "collapsed": true
   },
   "outputs": [],
   "source": [
    "model.add(Dense(units=12*2,\n",
    "                kernel_initializer='uniform', \n",
    "                activation='relu'))"
   ]
  },
  {
   "cell_type": "code",
   "execution_count": 543,
   "metadata": {
    "collapsed": true
   },
   "outputs": [],
   "source": [
    "model.add(Dense(units=12,\n",
    "                kernel_initializer='uniform', \n",
    "                activation='relu'))"
   ]
  },
  {
   "cell_type": "code",
   "execution_count": 544,
   "metadata": {
    "collapsed": true
   },
   "outputs": [],
   "source": [
    "model.add(Dense(units=1, \n",
    "                kernel_initializer='uniform',\n",
    "                activation='sigmoid'))"
   ]
  },
  {
   "cell_type": "code",
   "execution_count": 545,
   "metadata": {
    "collapsed": false
   },
   "outputs": [
    {
     "name": "stdout",
     "output_type": "stream",
     "text": [
      "_________________________________________________________________\n",
      "Layer (type)                 Output Shape              Param #   \n",
      "=================================================================\n",
      "dense_152 (Dense)            (None, 108)               540       \n",
      "_________________________________________________________________\n",
      "dense_153 (Dense)            (None, 96)                10464     \n",
      "_________________________________________________________________\n",
      "dense_154 (Dense)            (None, 84)                8148      \n",
      "_________________________________________________________________\n",
      "dense_155 (Dense)            (None, 72)                6120      \n",
      "_________________________________________________________________\n",
      "dense_156 (Dense)            (None, 60)                4380      \n",
      "_________________________________________________________________\n",
      "dense_157 (Dense)            (None, 48)                2928      \n",
      "_________________________________________________________________\n",
      "dense_158 (Dense)            (None, 36)                1764      \n",
      "_________________________________________________________________\n",
      "dense_159 (Dense)            (None, 24)                888       \n",
      "_________________________________________________________________\n",
      "dense_160 (Dense)            (None, 12)                300       \n",
      "_________________________________________________________________\n",
      "dense_161 (Dense)            (None, 1)                 13        \n",
      "=================================================================\n",
      "Total params: 35,545\n",
      "Trainable params: 35,545\n",
      "Non-trainable params: 0\n",
      "_________________________________________________________________\n"
     ]
    }
   ],
   "source": [
    "model.summary()"
   ]
  },
  {
   "cell_type": "code",
   "execution_count": 546,
   "metadata": {
    "collapsed": true
   },
   "outputs": [],
   "source": [
    "model.compile(loss='binary_crossentropy', \n",
    "              optimizer='adam', metrics=['accuracy'])"
   ]
  },
  {
   "cell_type": "code",
   "execution_count": 547,
   "metadata": {
    "collapsed": false
   },
   "outputs": [
    {
     "name": "stdout",
     "output_type": "stream",
     "text": [
      "Train on 941 samples, validate on 105 samples\n",
      "Epoch 1/60\n",
      " - 3s - loss: 0.6921 - acc: 0.5866 - val_loss: 0.6897 - val_acc: 0.6571\n",
      "Epoch 2/60\n",
      " - 0s - loss: 0.6898 - acc: 0.6057 - val_loss: 0.6861 - val_acc: 0.6571\n",
      "Epoch 3/60\n",
      " - 0s - loss: 0.6875 - acc: 0.6057 - val_loss: 0.6829 - val_acc: 0.6571\n",
      "Epoch 4/60\n",
      " - 0s - loss: 0.6855 - acc: 0.6057 - val_loss: 0.6800 - val_acc: 0.6571\n",
      "Epoch 5/60\n",
      " - 0s - loss: 0.6838 - acc: 0.6057 - val_loss: 0.6772 - val_acc: 0.6571\n",
      "Epoch 6/60\n",
      " - 0s - loss: 0.6823 - acc: 0.6057 - val_loss: 0.6749 - val_acc: 0.6571\n",
      "Epoch 7/60\n",
      " - 0s - loss: 0.6810 - acc: 0.6057 - val_loss: 0.6724 - val_acc: 0.6571\n",
      "Epoch 8/60\n",
      " - 0s - loss: 0.6797 - acc: 0.6057 - val_loss: 0.6705 - val_acc: 0.6571\n",
      "Epoch 9/60\n",
      " - 0s - loss: 0.6786 - acc: 0.6057 - val_loss: 0.6689 - val_acc: 0.6571\n",
      "Epoch 10/60\n",
      " - 0s - loss: 0.6776 - acc: 0.6057 - val_loss: 0.6671 - val_acc: 0.6571\n",
      "Epoch 11/60\n",
      " - 0s - loss: 0.6768 - acc: 0.6057 - val_loss: 0.6654 - val_acc: 0.6571\n",
      "Epoch 12/60\n",
      " - 0s - loss: 0.6760 - acc: 0.6057 - val_loss: 0.6639 - val_acc: 0.6571\n",
      "Epoch 13/60\n",
      " - 0s - loss: 0.6753 - acc: 0.6057 - val_loss: 0.6627 - val_acc: 0.6571\n",
      "Epoch 14/60\n",
      " - 0s - loss: 0.6747 - acc: 0.6057 - val_loss: 0.6615 - val_acc: 0.6571\n",
      "Epoch 15/60\n",
      " - 0s - loss: 0.6742 - acc: 0.6057 - val_loss: 0.6603 - val_acc: 0.6571\n",
      "Epoch 16/60\n",
      " - 0s - loss: 0.6737 - acc: 0.6057 - val_loss: 0.6594 - val_acc: 0.6571\n",
      "Epoch 17/60\n",
      " - 0s - loss: 0.6733 - acc: 0.6057 - val_loss: 0.6584 - val_acc: 0.6571\n",
      "Epoch 18/60\n",
      " - 0s - loss: 0.6730 - acc: 0.6057 - val_loss: 0.6574 - val_acc: 0.6571\n",
      "Epoch 19/60\n",
      " - 0s - loss: 0.6727 - acc: 0.6057 - val_loss: 0.6568 - val_acc: 0.6571\n",
      "Epoch 20/60\n",
      " - 0s - loss: 0.6724 - acc: 0.6057 - val_loss: 0.6563 - val_acc: 0.6571\n",
      "Epoch 21/60\n",
      " - 0s - loss: 0.6722 - acc: 0.6057 - val_loss: 0.6555 - val_acc: 0.6571\n",
      "Epoch 22/60\n",
      " - 0s - loss: 0.6720 - acc: 0.6057 - val_loss: 0.6550 - val_acc: 0.6571\n",
      "Epoch 23/60\n",
      " - 0s - loss: 0.6718 - acc: 0.6057 - val_loss: 0.6543 - val_acc: 0.6571\n",
      "Epoch 24/60\n",
      " - 0s - loss: 0.6717 - acc: 0.6057 - val_loss: 0.6537 - val_acc: 0.6571\n",
      "Epoch 25/60\n",
      " - 1s - loss: 0.6715 - acc: 0.6057 - val_loss: 0.6537 - val_acc: 0.6571\n",
      "Epoch 26/60\n",
      " - 1s - loss: 0.6714 - acc: 0.6057 - val_loss: 0.6532 - val_acc: 0.6571\n",
      "Epoch 27/60\n",
      " - 1s - loss: 0.6713 - acc: 0.6057 - val_loss: 0.6525 - val_acc: 0.6571\n",
      "Epoch 28/60\n",
      " - 0s - loss: 0.6712 - acc: 0.6057 - val_loss: 0.6522 - val_acc: 0.6571\n",
      "Epoch 29/60\n",
      " - 0s - loss: 0.6711 - acc: 0.6057 - val_loss: 0.6520 - val_acc: 0.6571\n",
      "Epoch 30/60\n",
      " - 0s - loss: 0.6710 - acc: 0.6057 - val_loss: 0.6517 - val_acc: 0.6571\n",
      "Epoch 31/60\n",
      " - 0s - loss: 0.6710 - acc: 0.6057 - val_loss: 0.6515 - val_acc: 0.6571\n",
      "Epoch 32/60\n",
      " - 0s - loss: 0.6709 - acc: 0.6057 - val_loss: 0.6513 - val_acc: 0.6571\n",
      "Epoch 33/60\n",
      " - 0s - loss: 0.6709 - acc: 0.6057 - val_loss: 0.6512 - val_acc: 0.6571\n",
      "Epoch 34/60\n",
      " - 0s - loss: 0.6709 - acc: 0.6057 - val_loss: 0.6509 - val_acc: 0.6571\n",
      "Epoch 35/60\n",
      " - 0s - loss: 0.6708 - acc: 0.6057 - val_loss: 0.6507 - val_acc: 0.6571\n",
      "Epoch 36/60\n",
      " - 0s - loss: 0.6708 - acc: 0.6057 - val_loss: 0.6506 - val_acc: 0.6571\n",
      "Epoch 37/60\n",
      " - 0s - loss: 0.6708 - acc: 0.6057 - val_loss: 0.6503 - val_acc: 0.6571\n",
      "Epoch 38/60\n",
      " - 0s - loss: 0.6707 - acc: 0.6057 - val_loss: 0.6503 - val_acc: 0.6571\n",
      "Epoch 39/60\n",
      " - 0s - loss: 0.6707 - acc: 0.6057 - val_loss: 0.6502 - val_acc: 0.6571\n",
      "Epoch 40/60\n",
      " - 0s - loss: 0.6708 - acc: 0.6057 - val_loss: 0.6500 - val_acc: 0.6571\n",
      "Epoch 41/60\n",
      " - 0s - loss: 0.6707 - acc: 0.6057 - val_loss: 0.6499 - val_acc: 0.6571\n",
      "Epoch 42/60\n",
      " - 0s - loss: 0.6707 - acc: 0.6057 - val_loss: 0.6498 - val_acc: 0.6571\n",
      "Epoch 43/60\n",
      " - 0s - loss: 0.6707 - acc: 0.6057 - val_loss: 0.6497 - val_acc: 0.6571\n",
      "Epoch 44/60\n",
      " - 0s - loss: 0.6707 - acc: 0.6057 - val_loss: 0.6497 - val_acc: 0.6571\n",
      "Epoch 45/60\n",
      " - 0s - loss: 0.6707 - acc: 0.6057 - val_loss: 0.6495 - val_acc: 0.6571\n",
      "Epoch 46/60\n",
      " - 0s - loss: 0.6707 - acc: 0.6057 - val_loss: 0.6494 - val_acc: 0.6571\n",
      "Epoch 47/60\n",
      " - 0s - loss: 0.6707 - acc: 0.6057 - val_loss: 0.6493 - val_acc: 0.6571\n",
      "Epoch 48/60\n",
      " - 0s - loss: 0.6707 - acc: 0.6057 - val_loss: 0.6494 - val_acc: 0.6571\n",
      "Epoch 49/60\n",
      " - 0s - loss: 0.6707 - acc: 0.6057 - val_loss: 0.6492 - val_acc: 0.6571\n",
      "Epoch 50/60\n",
      " - 0s - loss: 0.6706 - acc: 0.6057 - val_loss: 0.6492 - val_acc: 0.6571\n",
      "Epoch 51/60\n",
      " - 0s - loss: 0.6707 - acc: 0.6057 - val_loss: 0.6492 - val_acc: 0.6571\n"
     ]
    }
   ],
   "source": [
    "train_history =model.fit(x=train_Features, \n",
    "                         y=train_Label, \n",
    "                         validation_split=0.1, \n",
    "                         epochs=60, \n",
    "                         batch_size=30,verbose=2,callbacks=[early_stopping])"
   ]
  },
  {
   "cell_type": "code",
   "execution_count": 548,
   "metadata": {
    "collapsed": true
   },
   "outputs": [],
   "source": [
    "import matplotlib.pyplot as plt\n",
    "def show_train_history(train_history,train,validation):\n",
    "    plt.plot(train_history.history[train])\n",
    "    plt.plot(train_history.history[validation])\n",
    "    plt.title('Train History')\n",
    "    plt.ylabel(train)\n",
    "    plt.xlabel('Epoch')\n",
    "    plt.legend(['train', 'validation'], loc='upper left')\n",
    "    plt.show()"
   ]
  },
  {
   "cell_type": "code",
   "execution_count": 549,
   "metadata": {
    "collapsed": false
   },
   "outputs": [
    {
     "data": {
      "image/png": "[encoded data removed]",
      "text/plain": [
       "<matplotlib.figure.Figure at 0x7ffa3e9b8390>"
      ]
     },
     "metadata": {},
     "output_type": "display_data"
    }
   ],
   "source": [
    "show_train_history(train_history,'acc','val_acc')"
   ]
  },
  {
   "cell_type": "code",
   "execution_count": 550,
   "metadata": {
    "collapsed": false
   },
   "outputs": [
    {
     "data": {
      "image/png": "[encoded data removed]",
      "text/plain": [
       "<matplotlib.figure.Figure at 0x7ffa3e9b8588>"
      ]
     },
     "metadata": {},
     "output_type": "display_data"
    }
   ],
   "source": [
    "show_train_history(train_history,'loss','val_loss')"
   ]
  },
  {
   "cell_type": "code",
   "execution_count": 551,
   "metadata": {
    "collapsed": false
   },
   "outputs": [
    {
     "name": "stdout",
     "output_type": "stream",
     "text": [
      "262/262 [==============================] - 0s 213us/step\n"
     ]
    }
   ],
   "source": [
    "scores = model.evaluate(x=test_Features, \n",
    "                        y=test_Label)"
   ]
  },
  {
   "cell_type": "code",
   "execution_count": 552,
   "metadata": {
    "collapsed": false
   },
   "outputs": [
    {
     "data": {
      "text/plain": [
       "0.6450381683939286"
      ]
     },
     "execution_count": 552,
     "metadata": {},
     "output_type": "execute_result"
    }
   ],
   "source": [
    "scores[1]"
   ]
  }
 ],
 "metadata": {
  "anaconda-cloud": {},
  "kernelspec": {
   "display_name": "Python [default]",
   "language": "python",
   "name": "python3"
  },
  "language_info": {
   "codemirror_mode": {
    "name": "ipython",
    "version": 3
   },
   "file_extension": ".py",
   "mimetype": "text/x-python",
   "name": "python",
   "nbconvert_exporter": "python",
   "pygments_lexer": "ipython3",
   "version": "3.5.2"
  }
 },
 "nbformat": 4,
 "nbformat_minor": 1
}
