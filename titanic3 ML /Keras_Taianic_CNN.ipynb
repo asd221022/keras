{
 "cells": [
  {
   "cell_type": "code",
   "execution_count": 37,
   "metadata": {
    "collapsed": true,
    "slideshow": {
     "slide_type": "-"
    }
   },
   "outputs": [],
   "source": [
    "import numpy\n",
    "import pandas as pd\n",
    "from sklearn import preprocessing\n",
    "numpy.random.seed(10)"
   ]
  },
  {
   "cell_type": "code",
   "execution_count": 38,
   "metadata": {
    "collapsed": true
   },
   "outputs": [],
   "source": [
    "all_df = pd.read_excel(\"data/titanic3.xls\")"
   ]
  },
  {
   "cell_type": "code",
   "execution_count": 39,
   "metadata": {
    "collapsed": true
   },
   "outputs": [],
   "source": [
    "cols=['survived','name','pclass' ,'sex', 'age', 'sibsp',\n",
    "      'parch', 'fare', 'embarked']\n",
    "all_df=all_df[cols]"
   ]
  },
  {
   "cell_type": "code",
   "execution_count": 40,
   "metadata": {
    "collapsed": true
   },
   "outputs": [],
   "source": [
    "msk = numpy.random.rand(len(all_df)) < 0.8\n",
    "train_df = all_df[msk]\n",
    "test_df = all_df[~msk]"
   ]
  },
  {
   "cell_type": "code",
   "execution_count": 41,
   "metadata": {
    "collapsed": false
   },
   "outputs": [
    {
     "name": "stdout",
     "output_type": "stream",
     "text": [
      "total: 1309 train: 1034 test: 275\n"
     ]
    }
   ],
   "source": [
    "print('total:',len(all_df),\n",
    "      'train:',len(train_df),\n",
    "      'test:',len(test_df))"
   ]
  },
  {
   "cell_type": "code",
   "execution_count": 42,
   "metadata": {
    "collapsed": true
   },
   "outputs": [],
   "source": [
    "def PreprocessData(raw_df):\n",
    "    df=raw_df.drop(['name'], axis=1)\n",
    "    age_mean = df['age'].mean()\n",
    "    df['age'] = df['age'].fillna(age_mean)\n",
    "    fare_mean = df['fare'].mean()\n",
    "    df['fare'] = df['fare'].fillna(fare_mean)\n",
    "    df['sex']= df['sex'].map({'female':0, 'male': 1}).astype(int)\n",
    "    x_OneHot_df = pd.get_dummies(data=df,columns=[\"embarked\" ])\n",
    "\n",
    "    ndarray = x_OneHot_df.values\n",
    "    Features = ndarray[:,1:]\n",
    "    Label = ndarray[:,0]\n",
    "\n",
    "    minmax_scale = preprocessing.MinMaxScaler(feature_range=(0, 1))\n",
    "    scaledFeatures=minmax_scale.fit_transform(Features)    \n",
    "    \n",
    "    return scaledFeatures,Label"
   ]
  },
  {
   "cell_type": "code",
   "execution_count": 43,
   "metadata": {
    "collapsed": true
   },
   "outputs": [],
   "source": [
    "train_Features,train_Label=PreprocessData(train_df)\n",
    "test_Features,test_Label=PreprocessData(test_df)"
   ]
  },
  {
   "cell_type": "code",
   "execution_count": 44,
   "metadata": {
    "collapsed": false
   },
   "outputs": [],
   "source": [
    "from keras.models import Sequential\n",
    "from keras.layers.core import Dense, Dropout, Activation\n",
    "from keras.layers.embeddings import Embedding\n",
    "from keras.layers.recurrent import SimpleRNN"
   ]
  },
  {
   "cell_type": "code",
   "execution_count": 45,
   "metadata": {
    "collapsed": true
   },
   "outputs": [],
   "source": [
    "model = Sequential()"
   ]
  },
  {
   "cell_type": "code",
   "execution_count": 46,
   "metadata": {
    "collapsed": true
   },
   "outputs": [],
   "source": [
    "model.add(Embedding(input_dim=9,output_dim=1))"
   ]
  },
  {
   "cell_type": "code",
   "execution_count": 47,
   "metadata": {
    "collapsed": true
   },
   "outputs": [],
   "source": [
    "model.add(SimpleRNN(units=4))"
   ]
  },
  {
   "cell_type": "code",
   "execution_count": 48,
   "metadata": {
    "collapsed": true
   },
   "outputs": [],
   "source": [
    "model.add(Dense(1, activation = \"sigmoid\"))"
   ]
  },
  {
   "cell_type": "code",
   "execution_count": 49,
   "metadata": {
    "collapsed": false
   },
   "outputs": [
    {
     "name": "stdout",
     "output_type": "stream",
     "text": [
      "_________________________________________________________________\n",
      "Layer (type)                 Output Shape              Param #   \n",
      "=================================================================\n",
      "embedding_4 (Embedding)      (None, None, 1)           9         \n",
      "_________________________________________________________________\n",
      "simple_rnn_7 (SimpleRNN)     (None, 4)                 24        \n",
      "_________________________________________________________________\n",
      "dense_1 (Dense)              (None, 1)                 5         \n",
      "=================================================================\n",
      "Total params: 38\n",
      "Trainable params: 38\n",
      "Non-trainable params: 0\n",
      "_________________________________________________________________\n"
     ]
    }
   ],
   "source": [
    "model.summary()"
   ]
  },
  {
   "cell_type": "code",
   "execution_count": 50,
   "metadata": {
    "collapsed": true
   },
   "outputs": [],
   "source": [
    "model.compile(loss='binary_crossentropy', \n",
    "              optimizer='adam', metrics=['accuracy'])"
   ]
  },
  {
   "cell_type": "code",
   "execution_count": 51,
   "metadata": {
    "collapsed": false
   },
   "outputs": [
    {
     "name": "stdout",
     "output_type": "stream",
     "text": [
      "Train on 930 samples, validate on 104 samples\n",
      "Epoch 1/30\n",
      " - 1s - loss: 0.6846 - acc: 0.5871 - val_loss: 0.6222 - val_acc: 0.7885\n",
      "Epoch 2/30\n",
      " - 0s - loss: 0.6783 - acc: 0.5871 - val_loss: 0.6016 - val_acc: 0.7885\n",
      "Epoch 3/30\n",
      " - 0s - loss: 0.6774 - acc: 0.5871 - val_loss: 0.6102 - val_acc: 0.7885\n",
      "Epoch 4/30\n",
      " - 0s - loss: 0.6761 - acc: 0.5871 - val_loss: 0.6033 - val_acc: 0.7885\n",
      "Epoch 5/30\n",
      " - 0s - loss: 0.6715 - acc: 0.5871 - val_loss: 0.6014 - val_acc: 0.7885\n",
      "Epoch 6/30\n",
      " - 0s - loss: 0.6582 - acc: 0.5989 - val_loss: 0.5880 - val_acc: 0.7885\n",
      "Epoch 7/30\n",
      " - 0s - loss: 0.6230 - acc: 0.6957 - val_loss: 0.5513 - val_acc: 0.8173\n",
      "Epoch 8/30\n",
      " - 0s - loss: 0.5778 - acc: 0.7914 - val_loss: 0.5211 - val_acc: 0.8173\n",
      "Epoch 9/30\n",
      " - 0s - loss: 0.5501 - acc: 0.7817 - val_loss: 0.5017 - val_acc: 0.8173\n",
      "Epoch 10/30\n",
      " - 0s - loss: 0.5328 - acc: 0.7914 - val_loss: 0.4887 - val_acc: 0.8173\n",
      "Epoch 11/30\n",
      " - 0s - loss: 0.5201 - acc: 0.7914 - val_loss: 0.4791 - val_acc: 0.8173\n",
      "Epoch 12/30\n",
      " - 0s - loss: 0.5110 - acc: 0.7914 - val_loss: 0.4737 - val_acc: 0.8173\n",
      "Epoch 13/30\n",
      " - 0s - loss: 0.5041 - acc: 0.7914 - val_loss: 0.4689 - val_acc: 0.8173\n",
      "Epoch 14/30\n",
      " - 0s - loss: 0.4980 - acc: 0.7914 - val_loss: 0.4661 - val_acc: 0.8173\n",
      "Epoch 15/30\n",
      " - 0s - loss: 0.4940 - acc: 0.7914 - val_loss: 0.4630 - val_acc: 0.8173\n",
      "Epoch 16/30\n",
      " - 0s - loss: 0.4902 - acc: 0.7914 - val_loss: 0.4601 - val_acc: 0.8173\n",
      "Epoch 17/30\n",
      " - 0s - loss: 0.4872 - acc: 0.7914 - val_loss: 0.4575 - val_acc: 0.8173\n",
      "Epoch 18/30\n",
      " - 0s - loss: 0.4848 - acc: 0.7914 - val_loss: 0.4556 - val_acc: 0.8173\n",
      "Epoch 19/30\n",
      " - 0s - loss: 0.4839 - acc: 0.7914 - val_loss: 0.4516 - val_acc: 0.8173\n",
      "Epoch 20/30\n",
      " - 0s - loss: 0.4809 - acc: 0.7914 - val_loss: 0.4522 - val_acc: 0.8173\n",
      "Epoch 21/30\n",
      " - 0s - loss: 0.4808 - acc: 0.7914 - val_loss: 0.4516 - val_acc: 0.8173\n",
      "Epoch 22/30\n",
      " - 0s - loss: 0.4783 - acc: 0.7914 - val_loss: 0.4482 - val_acc: 0.8173\n",
      "Epoch 23/30\n",
      " - 0s - loss: 0.4784 - acc: 0.7914 - val_loss: 0.4465 - val_acc: 0.8173\n",
      "Epoch 24/30\n",
      " - 0s - loss: 0.4778 - acc: 0.7903 - val_loss: 0.4464 - val_acc: 0.8173\n",
      "Epoch 25/30\n",
      " - 0s - loss: 0.4761 - acc: 0.7903 - val_loss: 0.4475 - val_acc: 0.8077\n",
      "Epoch 26/30\n",
      " - 0s - loss: 0.4761 - acc: 0.7892 - val_loss: 0.4450 - val_acc: 0.8173\n",
      "Epoch 27/30\n",
      " - 0s - loss: 0.4758 - acc: 0.7914 - val_loss: 0.4446 - val_acc: 0.8173\n",
      "Epoch 28/30\n",
      " - 0s - loss: 0.4747 - acc: 0.7892 - val_loss: 0.4447 - val_acc: 0.8077\n",
      "Epoch 29/30\n",
      " - 0s - loss: 0.4746 - acc: 0.7892 - val_loss: 0.4435 - val_acc: 0.8173\n",
      "Epoch 30/30\n",
      " - 0s - loss: 0.4744 - acc: 0.7892 - val_loss: 0.4444 - val_acc: 0.8077\n"
     ]
    }
   ],
   "source": [
    "train_history =model.fit(x=train_Features, \n",
    "                         y=train_Label, \n",
    "                         validation_split=0.1, \n",
    "                         epochs=30, \n",
    "                         batch_size=30,verbose=2)"
   ]
  },
  {
   "cell_type": "code",
   "execution_count": 52,
   "metadata": {
    "collapsed": true
   },
   "outputs": [],
   "source": [
    "import matplotlib.pyplot as plt\n",
    "def show_train_history(train_history,train,validation):\n",
    "    plt.plot(train_history.history[train])\n",
    "    plt.plot(train_history.history[validation])\n",
    "    plt.title('Train History')\n",
    "    plt.ylabel(train)\n",
    "    plt.xlabel('Epoch')\n",
    "    plt.legend(['train', 'validation'], loc='upper left')\n",
    "    plt.show()"
   ]
  },
  {
   "cell_type": "code",
   "execution_count": 53,
   "metadata": {
    "collapsed": false
   },
   "outputs": [
    {
     "data": {
      "image/png": "[encoded data removed]",
      "text/plain": [
       "<matplotlib.figure.Figure at 0x7ffba429dc18>"
      ]
     },
     "metadata": {},
     "output_type": "display_data"
    }
   ],
   "source": [
    "show_train_history(train_history,'acc','val_acc')"
   ]
  },
  {
   "cell_type": "code",
   "execution_count": 54,
   "metadata": {
    "collapsed": false
   },
   "outputs": [
    {
     "data": {
      "image/png": "[encoded data removed]",
      "text/plain": [
       "<matplotlib.figure.Figure at 0x7ffba429dd68>"
      ]
     },
     "metadata": {},
     "output_type": "display_data"
    }
   ],
   "source": [
    "show_train_history(train_history,'loss','val_loss')"
   ]
  },
  {
   "cell_type": "code",
   "execution_count": 55,
   "metadata": {
    "collapsed": false
   },
   "outputs": [
    {
     "name": "stdout",
     "output_type": "stream",
     "text": [
      "275/275 [==============================] - 0s 69us/step\n"
     ]
    }
   ],
   "source": [
    "scores = model.evaluate(x=test_Features, \n",
    "                        y=test_Label)"
   ]
  },
  {
   "cell_type": "code",
   "execution_count": 56,
   "metadata": {
    "collapsed": false
   },
   "outputs": [
    {
     "data": {
      "text/plain": [
       "0.7963636367971247"
      ]
     },
     "execution_count": 56,
     "metadata": {},
     "output_type": "execute_result"
    }
   ],
   "source": [
    "scores[1]"
   ]
  }
 ],
 "metadata": {
  "anaconda-cloud": {},
  "kernelspec": {
   "display_name": "Python [conda root]",
   "language": "python",
   "name": "conda-root-py"
  },
  "language_info": {
   "codemirror_mode": {
    "name": "ipython",
    "version": 3
   },
   "file_extension": ".py",
   "mimetype": "text/x-python",
   "name": "python",
   "nbconvert_exporter": "python",
   "pygments_lexer": "ipython3",
   "version": "3.5.2"
  }
 },
 "nbformat": 4,
 "nbformat_minor": 1
}
