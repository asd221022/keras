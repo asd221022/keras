{
 "cells": [
  {
   "cell_type": "code",
   "execution_count": 1,
   "metadata": {
    "collapsed": true,
    "slideshow": {
     "slide_type": "-"
    }
   },
   "outputs": [],
   "source": [
    "import numpy\n",
    "import pandas as pd\n",
    "from sklearn.preprocessing import StandardScaler\n",
    "from sklearn.cross_validation import train_test_split\n",
    "numpy.random.seed(10)"
   ]
  },
  {
   "cell_type": "code",
   "execution_count": 2,
   "metadata": {
    "collapsed": true
   },
   "outputs": [],
   "source": [
    "all_df = pd.read_csv(\"data/titanic.csv\")"
   ]
  },
  {
   "cell_type": "code",
   "execution_count": 3,
   "metadata": {
    "collapsed": false
   },
   "outputs": [],
   "source": [
    "cols=['survived','pclass' ,'sex', 'age',\n",
    "       'fare',]\n",
    "df=all_df[cols]\n",
    "df.isnull().sum()\n",
    "df=df.values"
   ]
  },
  {
   "cell_type": "code",
   "execution_count": 4,
   "metadata": {
    "collapsed": false
   },
   "outputs": [
    {
     "data": {
      "text/plain": [
       "array([[  1.    ,   0.    ,  29.    , 211.3375],\n",
       "       [  1.    ,   1.    ,   0.9167, 151.55  ],\n",
       "       [  1.    ,   0.    ,   2.    , 151.55  ],\n",
       "       [  1.    ,   1.    ,  30.    , 151.55  ],\n",
       "       [  1.    ,   0.    ,  25.    , 151.55  ]])"
      ]
     },
     "execution_count": 4,
     "metadata": {},
     "output_type": "execute_result"
    }
   ],
   "source": [
    "X = df[:,1:]\n",
    "Y = df[:,0]\n",
    "X[:5]"
   ]
  },
  {
   "cell_type": "code",
   "execution_count": 5,
   "metadata": {
    "collapsed": false
   },
   "outputs": [
    {
     "data": {
      "text/plain": [
       "1046"
      ]
     },
     "execution_count": 5,
     "metadata": {},
     "output_type": "execute_result"
    }
   ],
   "source": [
    " X = StandardScaler().fit_transform(X)\n",
    "train_Features, test_Features, train_Label, test_Label = train_test_split(X, Y, test_size=0.2, random_state=True) \n",
    "len(train_Features)"
   ]
  },
  {
   "cell_type": "code",
   "execution_count": 6,
   "metadata": {
    "collapsed": false
   },
   "outputs": [
    {
     "data": {
      "text/plain": [
       "array([[ 0.84246649, -1.34419751,  0.8216082 , -0.46039806],\n",
       "       [ 0.84246649, -1.34419751,  0.09991351, -0.19415727],\n",
       "       [ 0.84246649,  0.74393829, -0.18876436, -0.49092056],\n",
       "       [-0.35140802, -1.34419751,  0.17208298, -0.23764487]])"
      ]
     },
     "execution_count": 6,
     "metadata": {},
     "output_type": "execute_result"
    }
   ],
   "source": [
    "train_Features[355:359]"
   ]
  },
  {
   "cell_type": "code",
   "execution_count": 7,
   "metadata": {
    "collapsed": false
   },
   "outputs": [
    {
     "data": {
      "text/plain": [
       "array([1., 0., 0., 0.])"
      ]
     },
     "execution_count": 7,
     "metadata": {},
     "output_type": "execute_result"
    }
   ],
   "source": [
    "train_Label[:4]"
   ]
  },
  {
   "cell_type": "code",
   "execution_count": 8,
   "metadata": {
    "collapsed": false
   },
   "outputs": [
    {
     "data": {
      "text/plain": [
       "(262, 4)"
      ]
     },
     "execution_count": 8,
     "metadata": {},
     "output_type": "execute_result"
    }
   ],
   "source": [
    "test_Features.shape"
   ]
  },
  {
   "cell_type": "code",
   "execution_count": 9,
   "metadata": {
    "collapsed": false
   },
   "outputs": [
    {
     "data": {
      "text/plain": [
       "(262,)"
      ]
     },
     "execution_count": 9,
     "metadata": {},
     "output_type": "execute_result"
    }
   ],
   "source": [
    "test_Label.shape"
   ]
  },
  {
   "cell_type": "code",
   "execution_count": 10,
   "metadata": {
    "collapsed": false
   },
   "outputs": [
    {
     "name": "stderr",
     "output_type": "stream",
     "text": [
      "Using TensorFlow backend.\n"
     ]
    }
   ],
   "source": [
    "from keras.models import Sequential\n",
    "from keras.layers.embeddings import Embedding\n",
    "from keras.layers import Dense,Dropout,Flatten,Conv2D,MaxPooling2D"
   ]
  },
  {
   "cell_type": "code",
   "execution_count": 11,
   "metadata": {
    "collapsed": false
   },
   "outputs": [
    {
     "data": {
      "text/plain": [
       "(1046, 4)"
      ]
     },
     "execution_count": 11,
     "metadata": {},
     "output_type": "execute_result"
    }
   ],
   "source": [
    "train_Features.shape"
   ]
  },
  {
   "cell_type": "code",
   "execution_count": 12,
   "metadata": {
    "collapsed": false
   },
   "outputs": [],
   "source": [
    "train_Features = train_Features.reshape(train_Features.shape[0], 4, 1, 1)"
   ]
  },
  {
   "cell_type": "code",
   "execution_count": 13,
   "metadata": {
    "collapsed": false
   },
   "outputs": [
    {
     "data": {
      "text/plain": [
       "(1046, 4, 1, 1)"
      ]
     },
     "execution_count": 13,
     "metadata": {},
     "output_type": "execute_result"
    }
   ],
   "source": [
    "train_Features.shape"
   ]
  },
  {
   "cell_type": "code",
   "execution_count": 14,
   "metadata": {
    "collapsed": true
   },
   "outputs": [],
   "source": [
    "from keras.utils import np_utils\n",
    "train_Label = train_Label.reshape(train_Label.shape[0], 1)\n",
    "test_Label= test_Label.reshape(test_Label.shape[0], 1)\n",
    "train_Label=np_utils.to_categorical(train_Label)\n",
    "test_Label=np_utils.to_categorical(test_Label)"
   ]
  },
  {
   "cell_type": "code",
   "execution_count": 15,
   "metadata": {
    "collapsed": false
   },
   "outputs": [],
   "source": [
    "model = Sequential()"
   ]
  },
  {
   "cell_type": "code",
   "execution_count": 16,
   "metadata": {
    "collapsed": false
   },
   "outputs": [],
   "source": [
    "model.add(Conv2D(filters=1000,\n",
    "                 kernel_size=(1,1),\n",
    "                 padding='valid',\n",
    "                 input_shape=(4,1,1), \n",
    "                 activation='relu'))"
   ]
  },
  {
   "cell_type": "code",
   "execution_count": 17,
   "metadata": {
    "collapsed": true
   },
   "outputs": [],
   "source": [
    "model.add(Conv2D(filters=1000,\n",
    "                 kernel_size=(1,1),\n",
    "                 padding='valid',\n",
    "                 activation='relu'))"
   ]
  },
  {
   "cell_type": "code",
   "execution_count": 18,
   "metadata": {
    "collapsed": true
   },
   "outputs": [],
   "source": [
    "model.add(MaxPooling2D(pool_size=(1, 1)))"
   ]
  },
  {
   "cell_type": "code",
   "execution_count": 19,
   "metadata": {
    "collapsed": true
   },
   "outputs": [],
   "source": [
    "model.add(Dropout(0.25))"
   ]
  },
  {
   "cell_type": "code",
   "execution_count": 20,
   "metadata": {
    "collapsed": true
   },
   "outputs": [],
   "source": [
    "model.add(Flatten())"
   ]
  },
  {
   "cell_type": "code",
   "execution_count": 21,
   "metadata": {
    "collapsed": true
   },
   "outputs": [],
   "source": [
    "model.add(Dense(128, activation='tanh'))"
   ]
  },
  {
   "cell_type": "code",
   "execution_count": 22,
   "metadata": {
    "collapsed": true
   },
   "outputs": [],
   "source": [
    "model.add(Dropout(0.25))"
   ]
  },
  {
   "cell_type": "code",
   "execution_count": 23,
   "metadata": {
    "collapsed": true
   },
   "outputs": [],
   "source": [
    "model.add(Dense(2,activation='sigmoid'))"
   ]
  },
  {
   "cell_type": "code",
   "execution_count": 24,
   "metadata": {
    "collapsed": false
   },
   "outputs": [
    {
     "name": "stdout",
     "output_type": "stream",
     "text": [
      "_________________________________________________________________\n",
      "Layer (type)                 Output Shape              Param #   \n",
      "=================================================================\n",
      "conv2d_1 (Conv2D)            (None, 4, 1, 1000)        2000      \n",
      "_________________________________________________________________\n",
      "conv2d_2 (Conv2D)            (None, 4, 1, 1000)        1001000   \n",
      "_________________________________________________________________\n",
      "max_pooling2d_1 (MaxPooling2 (None, 4, 1, 1000)        0         \n",
      "_________________________________________________________________\n",
      "dropout_1 (Dropout)          (None, 4, 1, 1000)        0         \n",
      "_________________________________________________________________\n",
      "flatten_1 (Flatten)          (None, 4000)              0         \n",
      "_________________________________________________________________\n",
      "dense_1 (Dense)              (None, 128)               512128    \n",
      "_________________________________________________________________\n",
      "dropout_2 (Dropout)          (None, 128)               0         \n",
      "_________________________________________________________________\n",
      "dense_2 (Dense)              (None, 2)                 258       \n",
      "=================================================================\n",
      "Total params: 1,515,386\n",
      "Trainable params: 1,515,386\n",
      "Non-trainable params: 0\n",
      "_________________________________________________________________\n"
     ]
    }
   ],
   "source": [
    "model.summary()"
   ]
  },
  {
   "cell_type": "code",
   "execution_count": 25,
   "metadata": {
    "collapsed": false
   },
   "outputs": [
    {
     "name": "stdout",
     "output_type": "stream",
     "text": [
      "Epoch 1/1\n",
      "1046/1046 [==============================] - 9s 9ms/step - loss: 0.1792 - acc: 0.7371\n"
     ]
    },
    {
     "data": {
      "text/plain": [
       "<keras.callbacks.History at 0x7ff7094f2080>"
      ]
     },
     "execution_count": 25,
     "metadata": {},
     "output_type": "execute_result"
    }
   ],
   "source": [
    "model.compile(loss='mean_squared_error',\n",
    "              optimizer='Nadam',metrics=['accuracy']) \n",
    "model.fit(x=train_Features,y=train_Label)"
   ]
  },
  {
   "cell_type": "code",
   "execution_count": 26,
   "metadata": {
    "collapsed": false
   },
   "outputs": [
    {
     "name": "stdout",
     "output_type": "stream",
     "text": [
      "Train on 836 samples, validate on 210 samples\n",
      "Epoch 1/30\n",
      " - 6s - loss: 0.1578 - acc: 0.7811 - val_loss: 0.1726 - val_acc: 0.7476\n",
      "Epoch 2/30\n",
      " - 11s - loss: 0.1576 - acc: 0.7859 - val_loss: 0.1622 - val_acc: 0.7619\n",
      "Epoch 3/30\n",
      " - 7s - loss: 0.1559 - acc: 0.7895 - val_loss: 0.1663 - val_acc: 0.7524\n",
      "Epoch 4/30\n",
      " - 6s - loss: 0.1544 - acc: 0.7835 - val_loss: 0.1678 - val_acc: 0.7524\n",
      "Epoch 5/30\n",
      " - 6s - loss: 0.1532 - acc: 0.7847 - val_loss: 0.1762 - val_acc: 0.7190\n",
      "Epoch 6/30\n",
      " - 6s - loss: 0.1530 - acc: 0.7871 - val_loss: 0.1584 - val_acc: 0.7524\n",
      "Epoch 7/30\n",
      " - 6s - loss: 0.1523 - acc: 0.7823 - val_loss: 0.1569 - val_acc: 0.7571\n",
      "Epoch 8/30\n",
      " - 5s - loss: 0.1538 - acc: 0.7763 - val_loss: 0.1554 - val_acc: 0.7714\n",
      "Epoch 9/30\n",
      " - 5s - loss: 0.1520 - acc: 0.7859 - val_loss: 0.1563 - val_acc: 0.7524\n",
      "Epoch 10/30\n",
      " - 5s - loss: 0.1519 - acc: 0.7775 - val_loss: 0.1742 - val_acc: 0.7238\n",
      "Epoch 11/30\n",
      " - 5s - loss: 0.1494 - acc: 0.7931 - val_loss: 0.1549 - val_acc: 0.7714\n",
      "Epoch 12/30\n",
      " - 6s - loss: 0.1522 - acc: 0.7883 - val_loss: 0.1540 - val_acc: 0.7524\n",
      "Epoch 13/30\n",
      " - 6s - loss: 0.1516 - acc: 0.7739 - val_loss: 0.1534 - val_acc: 0.7524\n",
      "Epoch 14/30\n",
      " - 5s - loss: 0.1516 - acc: 0.7859 - val_loss: 0.1523 - val_acc: 0.7667\n",
      "Epoch 15/30\n",
      " - 5s - loss: 0.1513 - acc: 0.7823 - val_loss: 0.1649 - val_acc: 0.7381\n",
      "Epoch 16/30\n",
      " - 5s - loss: 0.1484 - acc: 0.7859 - val_loss: 0.1524 - val_acc: 0.8048\n",
      "Epoch 17/30\n",
      " - 5s - loss: 0.1495 - acc: 0.7883 - val_loss: 0.1579 - val_acc: 0.7762\n",
      "Epoch 18/30\n",
      " - 6s - loss: 0.1477 - acc: 0.7967 - val_loss: 0.1529 - val_acc: 0.7667\n",
      "Epoch 19/30\n",
      " - 5s - loss: 0.1492 - acc: 0.7895 - val_loss: 0.1496 - val_acc: 0.7857\n",
      "Epoch 20/30\n",
      " - 6s - loss: 0.1481 - acc: 0.7907 - val_loss: 0.1510 - val_acc: 0.7762\n",
      "Epoch 21/30\n",
      " - 5s - loss: 0.1496 - acc: 0.7871 - val_loss: 0.1515 - val_acc: 0.7857\n",
      "Epoch 22/30\n",
      " - 6s - loss: 0.1472 - acc: 0.7907 - val_loss: 0.1504 - val_acc: 0.7905\n",
      "Epoch 23/30\n",
      " - 5s - loss: 0.1457 - acc: 0.7931 - val_loss: 0.1531 - val_acc: 0.7714\n",
      "Epoch 24/30\n",
      " - 5s - loss: 0.1483 - acc: 0.7943 - val_loss: 0.1498 - val_acc: 0.7857\n",
      "Epoch 25/30\n",
      " - 5s - loss: 0.1427 - acc: 0.7990 - val_loss: 0.1535 - val_acc: 0.7714\n",
      "Epoch 26/30\n",
      " - 5s - loss: 0.1456 - acc: 0.7967 - val_loss: 0.1549 - val_acc: 0.7571\n",
      "Epoch 27/30\n",
      " - 5s - loss: 0.1423 - acc: 0.7990 - val_loss: 0.1591 - val_acc: 0.7524\n",
      "Epoch 28/30\n",
      " - 5s - loss: 0.1462 - acc: 0.8038 - val_loss: 0.1469 - val_acc: 0.7857\n",
      "Epoch 29/30\n",
      " - 5s - loss: 0.1449 - acc: 0.8050 - val_loss: 0.1470 - val_acc: 0.7857\n",
      "Epoch 30/30\n",
      " - 5s - loss: 0.1460 - acc: 0.7943 - val_loss: 0.1462 - val_acc: 0.8000\n"
     ]
    }
   ],
   "source": [
    "train_history =model.fit(x=train_Features, \n",
    "                         y=train_Label, \n",
    "                         validation_split=0.2, \n",
    "                         epochs=30, \n",
    "                         batch_size=30,verbose=2)"
   ]
  },
  {
   "cell_type": "code",
   "execution_count": 27,
   "metadata": {
    "collapsed": true
   },
   "outputs": [],
   "source": [
    "import matplotlib.pyplot as plt\n",
    "def show_train_history(train_history,train,validation):\n",
    "    plt.plot(train_history.history[train])\n",
    "    plt.plot(train_history.history[validation])\n",
    "    plt.title('Train History')\n",
    "    plt.ylabel(train)\n",
    "    plt.xlabel('Epoch')\n",
    "    plt.legend(['train', 'validation'], loc='upper left')\n",
    "    plt.show()"
   ]
  },
  {
   "cell_type": "code",
   "execution_count": 28,
   "metadata": {
    "collapsed": false
   },
   "outputs": [
    {
     "data": {
      "image/png": "[encoded data removed]",
      "text/plain": [
       "<matplotlib.figure.Figure at 0x7ff709562f98>"
      ]
     },
     "metadata": {},
     "output_type": "display_data"
    }
   ],
   "source": [
    "show_train_history(train_history,'acc','val_acc')"
   ]
  },
  {
   "cell_type": "code",
   "execution_count": 29,
   "metadata": {
    "collapsed": false
   },
   "outputs": [
    {
     "data": {
      "image/png": "[encoded data removed]",
      "text/plain": [
       "<matplotlib.figure.Figure at 0x7ff709562588>"
      ]
     },
     "metadata": {},
     "output_type": "display_data"
    }
   ],
   "source": [
    "show_train_history(train_history,'loss','val_loss')"
   ]
  },
  {
   "cell_type": "code",
   "execution_count": 30,
   "metadata": {
    "collapsed": true
   },
   "outputs": [],
   "source": [
    "test_Features = test_Features.reshape(test_Features.shape[0], 4, 1, 1)"
   ]
  },
  {
   "cell_type": "code",
   "execution_count": 31,
   "metadata": {
    "collapsed": false
   },
   "outputs": [
    {
     "name": "stdout",
     "output_type": "stream",
     "text": [
      "262/262 [==============================] - 0s 999us/step\n"
     ]
    }
   ],
   "source": [
    "scores = model.evaluate(x=test_Features, \n",
    "                        y=test_Label)"
   ]
  },
  {
   "cell_type": "code",
   "execution_count": 32,
   "metadata": {
    "collapsed": false
   },
   "outputs": [
    {
     "data": {
      "text/plain": [
       "0.8358778625954199"
      ]
     },
     "execution_count": 32,
     "metadata": {},
     "output_type": "execute_result"
    }
   ],
   "source": [
    "scores[1]"
   ]
  }
 ],
 "metadata": {
  "anaconda-cloud": {},
  "kernelspec": {
   "display_name": "Python [conda root]",
   "language": "python",
   "name": "conda-root-py"
  },
  "language_info": {
   "codemirror_mode": {
    "name": "ipython",
    "version": 3
   },
   "file_extension": ".py",
   "mimetype": "text/x-python",
   "name": "python",
   "nbconvert_exporter": "python",
   "pygments_lexer": "ipython3",
   "version": "3.5.2"
  }
 },
 "nbformat": 4,
 "nbformat_minor": 1
}
