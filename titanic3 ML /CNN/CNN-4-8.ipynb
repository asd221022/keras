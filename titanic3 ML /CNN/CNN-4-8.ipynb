{
 "cells": [
  {
   "cell_type": "code",
   "execution_count": 43,
   "metadata": {
    "collapsed": true,
    "slideshow": {
     "slide_type": "-"
    }
   },
   "outputs": [],
   "source": [
    "import numpy\n",
    "import pandas as pd\n",
    "from sklearn.preprocessing import StandardScaler\n",
    "from sklearn.model_selection import train_test_split\n",
    "numpy.random.seed(10)"
   ]
  },
  {
   "cell_type": "code",
   "execution_count": 44,
   "metadata": {
    "collapsed": false
   },
   "outputs": [],
   "source": [
    "all_df = pd.read_csv(\"titanic.csv\")"
   ]
  },
  {
   "cell_type": "code",
   "execution_count": 45,
   "metadata": {
    "collapsed": false
   },
   "outputs": [],
   "source": [
    "cols=['survived','pclass' ,'sex', 'age',\n",
    "       'fare',]\n",
    "df=all_df[cols]\n",
    "df.isnull().sum()\n",
    "df=df.values"
   ]
  },
  {
   "cell_type": "code",
   "execution_count": 46,
   "metadata": {
    "collapsed": false
   },
   "outputs": [
    {
     "data": {
      "text/plain": [
       "array([[  1.    ,   0.    ,  29.    , 211.3375],\n",
       "       [  1.    ,   1.    ,   0.9167, 151.55  ],\n",
       "       [  1.    ,   0.    ,   2.    , 151.55  ],\n",
       "       [  1.    ,   1.    ,  30.    , 151.55  ],\n",
       "       [  1.    ,   0.    ,  25.    , 151.55  ]])"
      ]
     },
     "execution_count": 46,
     "metadata": {},
     "output_type": "execute_result"
    }
   ],
   "source": [
    "X = df[:,1:]\n",
    "Y = df[:,0]\n",
    "X[:5]"
   ]
  },
  {
   "cell_type": "code",
   "execution_count": 47,
   "metadata": {
    "collapsed": false
   },
   "outputs": [
    {
     "data": {
      "text/plain": [
       "1046"
      ]
     },
     "execution_count": 47,
     "metadata": {},
     "output_type": "execute_result"
    }
   ],
   "source": [
    " X = StandardScaler().fit_transform(X)\n",
    "train_Features, test_Features, train_Label, test_Label = train_test_split(X, Y, test_size=0.2, random_state=True) \n",
    "len(train_Features)"
   ]
  },
  {
   "cell_type": "code",
   "execution_count": 48,
   "metadata": {
    "collapsed": false
   },
   "outputs": [
    {
     "data": {
      "text/plain": [
       "array([[ 0.84246649, -1.34419751,  0.8216082 , -0.46039806],\n",
       "       [ 0.84246649, -1.34419751,  0.09991351, -0.19415727],\n",
       "       [ 0.84246649,  0.74393829, -0.18876436, -0.49092056],\n",
       "       [-0.35140802, -1.34419751,  0.17208298, -0.23764487]])"
      ]
     },
     "execution_count": 48,
     "metadata": {},
     "output_type": "execute_result"
    }
   ],
   "source": [
    "train_Features[355:359]"
   ]
  },
  {
   "cell_type": "code",
   "execution_count": 49,
   "metadata": {
    "collapsed": false
   },
   "outputs": [
    {
     "data": {
      "text/plain": [
       "array([1., 0., 0., 0.])"
      ]
     },
     "execution_count": 49,
     "metadata": {},
     "output_type": "execute_result"
    }
   ],
   "source": [
    "train_Label[:4]"
   ]
  },
  {
   "cell_type": "code",
   "execution_count": 50,
   "metadata": {
    "collapsed": false
   },
   "outputs": [
    {
     "data": {
      "text/plain": [
       "(262, 4)"
      ]
     },
     "execution_count": 50,
     "metadata": {},
     "output_type": "execute_result"
    }
   ],
   "source": [
    "test_Features.shape"
   ]
  },
  {
   "cell_type": "code",
   "execution_count": 51,
   "metadata": {
    "collapsed": false
   },
   "outputs": [
    {
     "data": {
      "text/plain": [
       "(262,)"
      ]
     },
     "execution_count": 51,
     "metadata": {},
     "output_type": "execute_result"
    }
   ],
   "source": [
    "test_Label.shape"
   ]
  },
  {
   "cell_type": "code",
   "execution_count": 52,
   "metadata": {
    "collapsed": false
   },
   "outputs": [
    {
     "data": {
      "text/plain": [
       "(1046, 4)"
      ]
     },
     "execution_count": 52,
     "metadata": {},
     "output_type": "execute_result"
    }
   ],
   "source": [
    "train_Features.shape"
   ]
  },
  {
   "cell_type": "code",
   "execution_count": 53,
   "metadata": {
    "collapsed": false
   },
   "outputs": [],
   "source": [
    "train_Features = train_Features.reshape((train_Features.shape[0], train_Features.shape[1], 1))"
   ]
  },
  {
   "cell_type": "code",
   "execution_count": 54,
   "metadata": {
    "collapsed": true
   },
   "outputs": [],
   "source": [
    "test_Features = test_Features.reshape((test_Features.shape[0], test_Features.shape[1], 1))"
   ]
  },
  {
   "cell_type": "code",
   "execution_count": 55,
   "metadata": {
    "collapsed": false
   },
   "outputs": [
    {
     "data": {
      "text/plain": [
       "(1046, 4, 1)"
      ]
     },
     "execution_count": 55,
     "metadata": {},
     "output_type": "execute_result"
    }
   ],
   "source": [
    "train_Features.shape"
   ]
  },
  {
   "cell_type": "code",
   "execution_count": 56,
   "metadata": {
    "collapsed": false
   },
   "outputs": [],
   "source": [
    "from keras.models import Sequential\n",
    "from keras.layers import Dense,Dropout,Flatten,Conv1D,MaxPooling1D\n",
    "from keras.layers.embeddings import Embedding\n",
    "from keras.callbacks import EarlyStopping\n",
    "early_stopping = EarlyStopping(monitor='val_loss', patience=2)"
   ]
  },
  {
   "cell_type": "code",
   "execution_count": 57,
   "metadata": {
    "collapsed": false
   },
   "outputs": [],
   "source": [
    "model = Sequential()"
   ]
  },
  {
   "cell_type": "code",
   "execution_count": 58,
   "metadata": {
    "collapsed": true
   },
   "outputs": [],
   "source": [
    "model.add(Conv1D(filters=4*8,\n",
    "                 kernel_size=1,\n",
    "                 padding='valid',\n",
    "                 input_shape=(4,1), \n",
    "                 activation='relu'))"
   ]
  },
  {
   "cell_type": "code",
   "execution_count": 59,
   "metadata": {
    "collapsed": true
   },
   "outputs": [],
   "source": [
    "model.add(MaxPooling1D(pool_size=1))"
   ]
  },
  {
   "cell_type": "code",
   "execution_count": 60,
   "metadata": {
    "collapsed": true
   },
   "outputs": [],
   "source": [
    "model.add(Conv1D(filters=4*7,\n",
    "                 kernel_size=1,\n",
    "                 padding='valid',\n",
    "                 activation='relu'))"
   ]
  },
  {
   "cell_type": "code",
   "execution_count": 61,
   "metadata": {
    "collapsed": true
   },
   "outputs": [],
   "source": [
    "model.add(MaxPooling1D(pool_size=1))"
   ]
  },
  {
   "cell_type": "code",
   "execution_count": 62,
   "metadata": {
    "collapsed": true
   },
   "outputs": [],
   "source": [
    "model.add(Conv1D(filters=4*6,\n",
    "                 kernel_size=1,\n",
    "                 padding='valid',\n",
    "                 activation='relu'))"
   ]
  },
  {
   "cell_type": "code",
   "execution_count": 63,
   "metadata": {
    "collapsed": true
   },
   "outputs": [],
   "source": [
    "model.add(MaxPooling1D(pool_size=1))"
   ]
  },
  {
   "cell_type": "code",
   "execution_count": 64,
   "metadata": {
    "collapsed": true
   },
   "outputs": [],
   "source": [
    "model.add(Conv1D(filters=4*5,\n",
    "                 kernel_size=1,\n",
    "                 padding='valid',\n",
    "                 activation='relu'))"
   ]
  },
  {
   "cell_type": "code",
   "execution_count": 65,
   "metadata": {
    "collapsed": true
   },
   "outputs": [],
   "source": [
    "model.add(MaxPooling1D(pool_size=1))"
   ]
  },
  {
   "cell_type": "code",
   "execution_count": 66,
   "metadata": {
    "collapsed": true
   },
   "outputs": [],
   "source": [
    "model.add(Conv1D(filters=4*4,\n",
    "                 kernel_size=1,\n",
    "                 padding='valid',\n",
    "                 activation='relu'))"
   ]
  },
  {
   "cell_type": "code",
   "execution_count": 67,
   "metadata": {
    "collapsed": true
   },
   "outputs": [],
   "source": [
    "model.add(MaxPooling1D(pool_size=1))"
   ]
  },
  {
   "cell_type": "code",
   "execution_count": 68,
   "metadata": {
    "collapsed": true
   },
   "outputs": [],
   "source": [
    "model.add(Conv1D(filters=4*3,\n",
    "                 kernel_size=1,\n",
    "                 padding='valid',\n",
    "                 activation='relu'))"
   ]
  },
  {
   "cell_type": "code",
   "execution_count": 69,
   "metadata": {
    "collapsed": true
   },
   "outputs": [],
   "source": [
    "model.add(MaxPooling1D(pool_size=1))"
   ]
  },
  {
   "cell_type": "code",
   "execution_count": 70,
   "metadata": {
    "collapsed": true
   },
   "outputs": [],
   "source": [
    "model.add(Conv1D(filters=4*2,\n",
    "                 kernel_size=1,\n",
    "                 padding='valid',\n",
    "                 activation='relu'))"
   ]
  },
  {
   "cell_type": "code",
   "execution_count": 71,
   "metadata": {
    "collapsed": true
   },
   "outputs": [],
   "source": [
    "model.add(MaxPooling1D(pool_size=1))"
   ]
  },
  {
   "cell_type": "code",
   "execution_count": 72,
   "metadata": {
    "collapsed": false
   },
   "outputs": [],
   "source": [
    "model.add(Conv1D(filters=4,\n",
    "                 kernel_size=1,\n",
    "                 padding='valid',\n",
    "                 activation='relu'))"
   ]
  },
  {
   "cell_type": "code",
   "execution_count": 73,
   "metadata": {
    "collapsed": true
   },
   "outputs": [],
   "source": [
    "model.add(MaxPooling1D(pool_size=1))"
   ]
  },
  {
   "cell_type": "code",
   "execution_count": 74,
   "metadata": {
    "collapsed": true
   },
   "outputs": [],
   "source": [
    "model.add(Flatten())"
   ]
  },
  {
   "cell_type": "code",
   "execution_count": 75,
   "metadata": {
    "collapsed": true
   },
   "outputs": [],
   "source": [
    "model.add(Dense(4, activation='tanh'))"
   ]
  },
  {
   "cell_type": "code",
   "execution_count": 76,
   "metadata": {
    "collapsed": true
   },
   "outputs": [],
   "source": [
    "model.add(Dense(1,activation='sigmoid'))"
   ]
  },
  {
   "cell_type": "code",
   "execution_count": 77,
   "metadata": {
    "collapsed": false
   },
   "outputs": [
    {
     "name": "stdout",
     "output_type": "stream",
     "text": [
      "_________________________________________________________________\n",
      "Layer (type)                 Output Shape              Param #   \n",
      "=================================================================\n",
      "conv1d_9 (Conv1D)            (None, 4, 32)             64        \n",
      "_________________________________________________________________\n",
      "max_pooling1d_9 (MaxPooling1 (None, 4, 32)             0         \n",
      "_________________________________________________________________\n",
      "conv1d_10 (Conv1D)           (None, 4, 28)             924       \n",
      "_________________________________________________________________\n",
      "max_pooling1d_10 (MaxPooling (None, 4, 28)             0         \n",
      "_________________________________________________________________\n",
      "conv1d_11 (Conv1D)           (None, 4, 24)             696       \n",
      "_________________________________________________________________\n",
      "max_pooling1d_11 (MaxPooling (None, 4, 24)             0         \n",
      "_________________________________________________________________\n",
      "conv1d_12 (Conv1D)           (None, 4, 20)             500       \n",
      "_________________________________________________________________\n",
      "max_pooling1d_12 (MaxPooling (None, 4, 20)             0         \n",
      "_________________________________________________________________\n",
      "conv1d_13 (Conv1D)           (None, 4, 16)             336       \n",
      "_________________________________________________________________\n",
      "max_pooling1d_13 (MaxPooling (None, 4, 16)             0         \n",
      "_________________________________________________________________\n",
      "conv1d_14 (Conv1D)           (None, 4, 12)             204       \n",
      "_________________________________________________________________\n",
      "max_pooling1d_14 (MaxPooling (None, 4, 12)             0         \n",
      "_________________________________________________________________\n",
      "conv1d_15 (Conv1D)           (None, 4, 8)              104       \n",
      "_________________________________________________________________\n",
      "max_pooling1d_15 (MaxPooling (None, 4, 8)              0         \n",
      "_________________________________________________________________\n",
      "conv1d_16 (Conv1D)           (None, 4, 4)              36        \n",
      "_________________________________________________________________\n",
      "max_pooling1d_16 (MaxPooling (None, 4, 4)              0         \n",
      "_________________________________________________________________\n",
      "flatten_2 (Flatten)          (None, 16)                0         \n",
      "_________________________________________________________________\n",
      "dense_3 (Dense)              (None, 4)                 68        \n",
      "_________________________________________________________________\n",
      "dense_4 (Dense)              (None, 1)                 5         \n",
      "=================================================================\n",
      "Total params: 2,937\n",
      "Trainable params: 2,937\n",
      "Non-trainable params: 0\n",
      "_________________________________________________________________\n"
     ]
    }
   ],
   "source": [
    "model.summary()"
   ]
  },
  {
   "cell_type": "code",
   "execution_count": 78,
   "metadata": {
    "collapsed": false
   },
   "outputs": [],
   "source": [
    "model.compile(loss='binary_crossentropy', \n",
    "              optimizer='adam', metrics=['accuracy'])"
   ]
  },
  {
   "cell_type": "code",
   "execution_count": 79,
   "metadata": {
    "collapsed": false
   },
   "outputs": [
    {
     "name": "stdout",
     "output_type": "stream",
     "text": [
      "Train on 836 samples, validate on 210 samples\n",
      "Epoch 1/30\n",
      "836/836 [==============================] - 6s 7ms/step - loss: 0.6867 - acc: 0.6029 - val_loss: 0.6723 - val_acc: 0.6429\n",
      "Epoch 2/30\n",
      "836/836 [==============================] - 0s 326us/step - loss: 0.6710 - acc: 0.6029 - val_loss: 0.6485 - val_acc: 0.6429\n",
      "Epoch 3/30\n",
      "836/836 [==============================] - 0s 190us/step - loss: 0.6443 - acc: 0.6029 - val_loss: 0.6164 - val_acc: 0.6476\n",
      "Epoch 4/30\n",
      "836/836 [==============================] - 0s 409us/step - loss: 0.6114 - acc: 0.6244 - val_loss: 0.5861 - val_acc: 0.6667\n",
      "Epoch 5/30\n",
      "836/836 [==============================] - 1s 665us/step - loss: 0.5566 - acc: 0.7368 - val_loss: 0.5431 - val_acc: 0.7429\n",
      "Epoch 6/30\n",
      "836/836 [==============================] - 1s 711us/step - loss: 0.5023 - acc: 0.7847 - val_loss: 0.5241 - val_acc: 0.7476\n",
      "Epoch 7/30\n",
      "836/836 [==============================] - 0s 482us/step - loss: 0.4883 - acc: 0.7823 - val_loss: 0.5203 - val_acc: 0.7476\n",
      "Epoch 8/30\n",
      "836/836 [==============================] - 0s 155us/step - loss: 0.4828 - acc: 0.7859 - val_loss: 0.5209 - val_acc: 0.7476\n",
      "Epoch 9/30\n",
      "836/836 [==============================] - 0s 155us/step - loss: 0.4813 - acc: 0.7871 - val_loss: 0.5151 - val_acc: 0.7476\n",
      "Epoch 10/30\n",
      "836/836 [==============================] - 0s 220us/step - loss: 0.4806 - acc: 0.7871 - val_loss: 0.5113 - val_acc: 0.7476\n",
      "Epoch 11/30\n",
      "836/836 [==============================] - 0s 359us/step - loss: 0.4757 - acc: 0.7871 - val_loss: 0.5105 - val_acc: 0.7476\n",
      "Epoch 12/30\n",
      "836/836 [==============================] - 0s 161us/step - loss: 0.4740 - acc: 0.7871 - val_loss: 0.5030 - val_acc: 0.7476\n",
      "Epoch 13/30\n",
      "836/836 [==============================] - 0s 176us/step - loss: 0.4725 - acc: 0.7859 - val_loss: 0.4973 - val_acc: 0.7476\n",
      "Epoch 14/30\n",
      "836/836 [==============================] - 0s 175us/step - loss: 0.4670 - acc: 0.7871 - val_loss: 0.4902 - val_acc: 0.7476\n",
      "Epoch 15/30\n",
      "836/836 [==============================] - 0s 180us/step - loss: 0.4703 - acc: 0.7883 - val_loss: 0.4875 - val_acc: 0.7571\n",
      "Epoch 16/30\n",
      "836/836 [==============================] - 0s 160us/step - loss: 0.4668 - acc: 0.7883 - val_loss: 0.4838 - val_acc: 0.7524\n",
      "Epoch 17/30\n",
      "836/836 [==============================] - 0s 168us/step - loss: 0.4632 - acc: 0.7895 - val_loss: 0.4831 - val_acc: 0.7476\n",
      "Epoch 18/30\n",
      "836/836 [==============================] - 0s 179us/step - loss: 0.4610 - acc: 0.7871 - val_loss: 0.4784 - val_acc: 0.7571\n",
      "Epoch 19/30\n",
      "836/836 [==============================] - 0s 172us/step - loss: 0.4578 - acc: 0.7907 - val_loss: 0.4764 - val_acc: 0.7476\n",
      "Epoch 20/30\n",
      "836/836 [==============================] - 0s 164us/step - loss: 0.4596 - acc: 0.7907 - val_loss: 0.4807 - val_acc: 0.7667\n",
      "Epoch 21/30\n",
      "836/836 [==============================] - 0s 160us/step - loss: 0.4575 - acc: 0.7919 - val_loss: 0.4741 - val_acc: 0.7571\n",
      "Epoch 22/30\n",
      "836/836 [==============================] - 0s 186us/step - loss: 0.4546 - acc: 0.7907 - val_loss: 0.4793 - val_acc: 0.7476\n",
      "Epoch 23/30\n",
      "836/836 [==============================] - 0s 163us/step - loss: 0.4544 - acc: 0.7871 - val_loss: 0.4739 - val_acc: 0.7476\n",
      "Epoch 24/30\n",
      "836/836 [==============================] - 0s 169us/step - loss: 0.4567 - acc: 0.7823 - val_loss: 0.4931 - val_acc: 0.7476\n",
      "Epoch 25/30\n",
      "836/836 [==============================] - 0s 162us/step - loss: 0.4540 - acc: 0.7859 - val_loss: 0.4725 - val_acc: 0.7476\n",
      "Epoch 26/30\n",
      "836/836 [==============================] - 0s 161us/step - loss: 0.4515 - acc: 0.7943 - val_loss: 0.4711 - val_acc: 0.7571\n",
      "Epoch 27/30\n",
      "836/836 [==============================] - 0s 165us/step - loss: 0.4539 - acc: 0.7835 - val_loss: 0.4697 - val_acc: 0.7476\n",
      "Epoch 28/30\n",
      "836/836 [==============================] - 0s 247us/step - loss: 0.4498 - acc: 0.7883 - val_loss: 0.4695 - val_acc: 0.7429\n",
      "Epoch 29/30\n",
      "836/836 [==============================] - 0s 343us/step - loss: 0.4484 - acc: 0.7907 - val_loss: 0.4684 - val_acc: 0.7571\n",
      "Epoch 30/30\n",
      "836/836 [==============================] - 0s 204us/step - loss: 0.4484 - acc: 0.7907 - val_loss: 0.4676 - val_acc: 0.7619\n"
     ]
    }
   ],
   "source": [
    "train_history =model.fit(x=train_Features, \n",
    "                         y=train_Label, \n",
    "                         validation_split=0.2, \n",
    "                         epochs=30, \n",
    "                         batch_size=30,verbose=1,callbacks=[early_stopping])"
   ]
  },
  {
   "cell_type": "code",
   "execution_count": 80,
   "metadata": {
    "collapsed": true
   },
   "outputs": [],
   "source": [
    "import matplotlib.pyplot as plt\n",
    "def show_train_history(train_history,train,validation):\n",
    "    plt.plot(train_history.history[train])\n",
    "    plt.plot(train_history.history[validation])\n",
    "    plt.title('Train History')\n",
    "    plt.ylabel(train)\n",
    "    plt.xlabel('Epoch')\n",
    "    plt.legend(['train', 'validation'], loc='upper left')\n",
    "    plt.show()"
   ]
  },
  {
   "cell_type": "code",
   "execution_count": 81,
   "metadata": {
    "collapsed": false
   },
   "outputs": [
    {
     "data": {
      "image/png": "[encoded data removed]",
      "text/plain": [
       "<matplotlib.figure.Figure at 0x7f179d80fbe0>"
      ]
     },
     "metadata": {},
     "output_type": "display_data"
    }
   ],
   "source": [
    "show_train_history(train_history,'acc','val_acc')"
   ]
  },
  {
   "cell_type": "code",
   "execution_count": 82,
   "metadata": {
    "collapsed": false
   },
   "outputs": [
    {
     "data": {
      "image/png": "[encoded data removed]",
      "text/plain": [
       "<matplotlib.figure.Figure at 0x7f179d84d470>"
      ]
     },
     "metadata": {},
     "output_type": "display_data"
    }
   ],
   "source": [
    "show_train_history(train_history,'loss','val_loss')"
   ]
  },
  {
   "cell_type": "code",
   "execution_count": 83,
   "metadata": {
    "collapsed": false
   },
   "outputs": [
    {
     "name": "stdout",
     "output_type": "stream",
     "text": [
      "262/262 [==============================] - 0s 218us/step\n"
     ]
    }
   ],
   "source": [
    "scores = model.evaluate(x=test_Features, \n",
    "                        y=test_Label)"
   ]
  },
  {
   "cell_type": "code",
   "execution_count": 84,
   "metadata": {
    "collapsed": false
   },
   "outputs": [
    {
     "data": {
      "text/plain": [
       "0.8206106865679035"
      ]
     },
     "execution_count": 84,
     "metadata": {},
     "output_type": "execute_result"
    }
   ],
   "source": [
    "scores[1]"
   ]
  }
 ],
 "metadata": {
  "anaconda-cloud": {},
  "kernelspec": {
   "display_name": "Python [conda root]",
   "language": "python",
   "name": "conda-root-py"
  },
  "language_info": {
   "codemirror_mode": {
    "name": "ipython",
    "version": 3
   },
   "file_extension": ".py",
   "mimetype": "text/x-python",
   "name": "python",
   "nbconvert_exporter": "python",
   "pygments_lexer": "ipython3",
   "version": "3.5.2"
  }
 },
 "nbformat": 4,
 "nbformat_minor": 1
}
