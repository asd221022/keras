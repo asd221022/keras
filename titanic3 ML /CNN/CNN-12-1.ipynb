{
 "cells": [
  {
   "cell_type": "code",
   "execution_count": 1,
   "metadata": {
    "collapsed": true,
    "slideshow": {
     "slide_type": "-"
    }
   },
   "outputs": [],
   "source": [
    "import numpy\n",
    "import pandas as pd\n",
    "from sklearn.preprocessing import StandardScaler\n",
    "from sklearn.model_selection import train_test_split\n",
    "numpy.random.seed(10)"
   ]
  },
  {
   "cell_type": "code",
   "execution_count": 2,
   "metadata": {
    "collapsed": false
   },
   "outputs": [],
   "source": [
    "all_df = pd.read_csv(\"titanic.csv\")"
   ]
  },
  {
   "cell_type": "code",
   "execution_count": 3,
   "metadata": {
    "collapsed": false
   },
   "outputs": [],
   "source": [
    "cols=['survived','pclass' ,'sex', 'age',\n",
    "       'fare',]\n",
    "df=all_df[cols]\n",
    "df.isnull().sum()\n",
    "df=df.values"
   ]
  },
  {
   "cell_type": "code",
   "execution_count": 4,
   "metadata": {
    "collapsed": false
   },
   "outputs": [
    {
     "data": {
      "text/plain": [
       "array([[  1.    ,   0.    ,  29.    , 211.3375],\n",
       "       [  1.    ,   1.    ,   0.9167, 151.55  ],\n",
       "       [  1.    ,   0.    ,   2.    , 151.55  ],\n",
       "       [  1.    ,   1.    ,  30.    , 151.55  ],\n",
       "       [  1.    ,   0.    ,  25.    , 151.55  ]])"
      ]
     },
     "execution_count": 4,
     "metadata": {},
     "output_type": "execute_result"
    }
   ],
   "source": [
    "X = df[:,1:]\n",
    "Y = df[:,0]\n",
    "X[:5]"
   ]
  },
  {
   "cell_type": "code",
   "execution_count": 5,
   "metadata": {
    "collapsed": false
   },
   "outputs": [
    {
     "data": {
      "text/plain": [
       "1046"
      ]
     },
     "execution_count": 5,
     "metadata": {},
     "output_type": "execute_result"
    }
   ],
   "source": [
    " X = StandardScaler().fit_transform(X)\n",
    "train_Features, test_Features, train_Label, test_Label = train_test_split(X, Y, test_size=0.2, random_state=True) \n",
    "len(train_Features)"
   ]
  },
  {
   "cell_type": "code",
   "execution_count": 6,
   "metadata": {
    "collapsed": false
   },
   "outputs": [
    {
     "data": {
      "text/plain": [
       "array([[ 0.84246649, -1.34419751,  0.8216082 , -0.46039806],\n",
       "       [ 0.84246649, -1.34419751,  0.09991351, -0.19415727],\n",
       "       [ 0.84246649,  0.74393829, -0.18876436, -0.49092056],\n",
       "       [-0.35140802, -1.34419751,  0.17208298, -0.23764487]])"
      ]
     },
     "execution_count": 6,
     "metadata": {},
     "output_type": "execute_result"
    }
   ],
   "source": [
    "train_Features[355:359]"
   ]
  },
  {
   "cell_type": "code",
   "execution_count": 7,
   "metadata": {
    "collapsed": false
   },
   "outputs": [
    {
     "data": {
      "text/plain": [
       "array([1., 0., 0., 0.])"
      ]
     },
     "execution_count": 7,
     "metadata": {},
     "output_type": "execute_result"
    }
   ],
   "source": [
    "train_Label[:4]"
   ]
  },
  {
   "cell_type": "code",
   "execution_count": 8,
   "metadata": {
    "collapsed": false
   },
   "outputs": [
    {
     "data": {
      "text/plain": [
       "(262, 4)"
      ]
     },
     "execution_count": 8,
     "metadata": {},
     "output_type": "execute_result"
    }
   ],
   "source": [
    "test_Features.shape"
   ]
  },
  {
   "cell_type": "code",
   "execution_count": 9,
   "metadata": {
    "collapsed": false
   },
   "outputs": [
    {
     "data": {
      "text/plain": [
       "(262,)"
      ]
     },
     "execution_count": 9,
     "metadata": {},
     "output_type": "execute_result"
    }
   ],
   "source": [
    "test_Label.shape"
   ]
  },
  {
   "cell_type": "code",
   "execution_count": 10,
   "metadata": {
    "collapsed": false
   },
   "outputs": [
    {
     "data": {
      "text/plain": [
       "(1046, 4)"
      ]
     },
     "execution_count": 10,
     "metadata": {},
     "output_type": "execute_result"
    }
   ],
   "source": [
    "train_Features.shape"
   ]
  },
  {
   "cell_type": "code",
   "execution_count": 11,
   "metadata": {
    "collapsed": false
   },
   "outputs": [],
   "source": [
    "train_Features = train_Features.reshape((train_Features.shape[0], train_Features.shape[1], 1))"
   ]
  },
  {
   "cell_type": "code",
   "execution_count": 12,
   "metadata": {
    "collapsed": true
   },
   "outputs": [],
   "source": [
    "test_Features = test_Features.reshape((test_Features.shape[0], test_Features.shape[1], 1))"
   ]
  },
  {
   "cell_type": "code",
   "execution_count": 13,
   "metadata": {
    "collapsed": false
   },
   "outputs": [
    {
     "data": {
      "text/plain": [
       "(1046, 4, 1)"
      ]
     },
     "execution_count": 13,
     "metadata": {},
     "output_type": "execute_result"
    }
   ],
   "source": [
    "train_Features.shape"
   ]
  },
  {
   "cell_type": "code",
   "execution_count": 14,
   "metadata": {
    "collapsed": false
   },
   "outputs": [
    {
     "name": "stderr",
     "output_type": "stream",
     "text": [
      "Using TensorFlow backend.\n"
     ]
    }
   ],
   "source": [
    "from keras.models import Sequential\n",
    "from keras.layers import Dense,Dropout,Flatten,Conv1D,MaxPooling1D\n",
    "from keras.layers.embeddings import Embedding\n",
    "from keras.callbacks import EarlyStopping\n",
    "early_stopping = EarlyStopping(monitor='val_loss', patience=2)"
   ]
  },
  {
   "cell_type": "code",
   "execution_count": 15,
   "metadata": {
    "collapsed": false
   },
   "outputs": [],
   "source": [
    "model = Sequential()"
   ]
  },
  {
   "cell_type": "code",
   "execution_count": 16,
   "metadata": {
    "collapsed": false
   },
   "outputs": [],
   "source": [
    "model.add(Conv1D(filters=12,\n",
    "                 kernel_size=3,\n",
    "                 padding='valid',\n",
    "                 input_shape=(4,1), \n",
    "                 activation='relu'))"
   ]
  },
  {
   "cell_type": "code",
   "execution_count": 17,
   "metadata": {
    "collapsed": true
   },
   "outputs": [],
   "source": [
    "model.add(MaxPooling1D(pool_size=1))"
   ]
  },
  {
   "cell_type": "code",
   "execution_count": 18,
   "metadata": {
    "collapsed": true
   },
   "outputs": [],
   "source": [
    "model.add(Flatten())"
   ]
  },
  {
   "cell_type": "code",
   "execution_count": 19,
   "metadata": {
    "collapsed": true
   },
   "outputs": [],
   "source": [
    "model.add(Dense(4, activation='tanh'))"
   ]
  },
  {
   "cell_type": "code",
   "execution_count": 20,
   "metadata": {
    "collapsed": true
   },
   "outputs": [],
   "source": [
    "model.add(Dense(1,activation='sigmoid'))"
   ]
  },
  {
   "cell_type": "code",
   "execution_count": 21,
   "metadata": {
    "collapsed": false
   },
   "outputs": [
    {
     "name": "stdout",
     "output_type": "stream",
     "text": [
      "_________________________________________________________________\n",
      "Layer (type)                 Output Shape              Param #   \n",
      "=================================================================\n",
      "conv1d_1 (Conv1D)            (None, 2, 12)             48        \n",
      "_________________________________________________________________\n",
      "max_pooling1d_1 (MaxPooling1 (None, 2, 12)             0         \n",
      "_________________________________________________________________\n",
      "flatten_1 (Flatten)          (None, 24)                0         \n",
      "_________________________________________________________________\n",
      "dense_1 (Dense)              (None, 4)                 100       \n",
      "_________________________________________________________________\n",
      "dense_2 (Dense)              (None, 1)                 5         \n",
      "=================================================================\n",
      "Total params: 153\n",
      "Trainable params: 153\n",
      "Non-trainable params: 0\n",
      "_________________________________________________________________\n"
     ]
    }
   ],
   "source": [
    "model.summary()"
   ]
  },
  {
   "cell_type": "code",
   "execution_count": 22,
   "metadata": {
    "collapsed": false
   },
   "outputs": [],
   "source": [
    "model.compile(loss='binary_crossentropy', \n",
    "              optimizer='adam', metrics=['accuracy'])"
   ]
  },
  {
   "cell_type": "code",
   "execution_count": 23,
   "metadata": {
    "collapsed": false
   },
   "outputs": [
    {
     "name": "stdout",
     "output_type": "stream",
     "text": [
      "Train on 836 samples, validate on 210 samples\n",
      "Epoch 1/30\n",
      "836/836 [==============================] - 1s 1ms/step - loss: 0.6938 - acc: 0.5921 - val_loss: 0.6254 - val_acc: 0.6476\n",
      "Epoch 2/30\n",
      "836/836 [==============================] - 0s 292us/step - loss: 0.6182 - acc: 0.6256 - val_loss: 0.5807 - val_acc: 0.7000\n",
      "Epoch 3/30\n",
      "836/836 [==============================] - 0s 407us/step - loss: 0.5666 - acc: 0.7129 - val_loss: 0.5523 - val_acc: 0.7476\n",
      "Epoch 4/30\n",
      "836/836 [==============================] - 0s 417us/step - loss: 0.5330 - acc: 0.7536 - val_loss: 0.5354 - val_acc: 0.7667\n",
      "Epoch 5/30\n",
      "836/836 [==============================] - 0s 382us/step - loss: 0.5124 - acc: 0.7739 - val_loss: 0.5270 - val_acc: 0.7476\n",
      "Epoch 6/30\n",
      "836/836 [==============================] - 0s 470us/step - loss: 0.5003 - acc: 0.7811 - val_loss: 0.5220 - val_acc: 0.7524\n",
      "Epoch 7/30\n",
      "836/836 [==============================] - 0s 406us/step - loss: 0.4938 - acc: 0.7799 - val_loss: 0.5198 - val_acc: 0.7476\n",
      "Epoch 8/30\n",
      "836/836 [==============================] - 0s 415us/step - loss: 0.4896 - acc: 0.7811 - val_loss: 0.5174 - val_acc: 0.7524\n",
      "Epoch 9/30\n",
      "836/836 [==============================] - 0s 332us/step - loss: 0.4865 - acc: 0.7823 - val_loss: 0.5170 - val_acc: 0.7429\n",
      "Epoch 10/30\n",
      "836/836 [==============================] - 0s 297us/step - loss: 0.4839 - acc: 0.7823 - val_loss: 0.5162 - val_acc: 0.7429\n",
      "Epoch 11/30\n",
      "836/836 [==============================] - 0s 301us/step - loss: 0.4819 - acc: 0.7811 - val_loss: 0.5153 - val_acc: 0.7381\n",
      "Epoch 12/30\n",
      "836/836 [==============================] - 0s 301us/step - loss: 0.4800 - acc: 0.7811 - val_loss: 0.5142 - val_acc: 0.7381\n",
      "Epoch 13/30\n",
      "836/836 [==============================] - 0s 352us/step - loss: 0.4780 - acc: 0.7811 - val_loss: 0.5125 - val_acc: 0.7381\n",
      "Epoch 14/30\n",
      "836/836 [==============================] - 0s 334us/step - loss: 0.4762 - acc: 0.7823 - val_loss: 0.5098 - val_acc: 0.7429\n",
      "Epoch 15/30\n",
      "836/836 [==============================] - 0s 264us/step - loss: 0.4741 - acc: 0.7823 - val_loss: 0.5082 - val_acc: 0.7429\n",
      "Epoch 16/30\n",
      "836/836 [==============================] - 0s 251us/step - loss: 0.4725 - acc: 0.7871 - val_loss: 0.5074 - val_acc: 0.7429\n",
      "Epoch 17/30\n",
      "836/836 [==============================] - 0s 262us/step - loss: 0.4703 - acc: 0.7859 - val_loss: 0.5056 - val_acc: 0.7476\n",
      "Epoch 18/30\n",
      "836/836 [==============================] - 0s 305us/step - loss: 0.4685 - acc: 0.7859 - val_loss: 0.5045 - val_acc: 0.7476\n",
      "Epoch 19/30\n",
      "836/836 [==============================] - 0s 359us/step - loss: 0.4670 - acc: 0.7859 - val_loss: 0.5042 - val_acc: 0.7429\n",
      "Epoch 20/30\n",
      "836/836 [==============================] - 0s 318us/step - loss: 0.4655 - acc: 0.7859 - val_loss: 0.5019 - val_acc: 0.7476\n",
      "Epoch 21/30\n",
      "836/836 [==============================] - 0s 304us/step - loss: 0.4638 - acc: 0.7859 - val_loss: 0.4992 - val_acc: 0.7429\n",
      "Epoch 22/30\n",
      "836/836 [==============================] - 0s 286us/step - loss: 0.4620 - acc: 0.7883 - val_loss: 0.4985 - val_acc: 0.7476\n",
      "Epoch 23/30\n",
      "836/836 [==============================] - 0s 306us/step - loss: 0.4608 - acc: 0.7871 - val_loss: 0.4978 - val_acc: 0.7429\n",
      "Epoch 24/30\n",
      "836/836 [==============================] - 0s 305us/step - loss: 0.4591 - acc: 0.7847 - val_loss: 0.4960 - val_acc: 0.7476\n",
      "Epoch 25/30\n",
      "836/836 [==============================] - 0s 305us/step - loss: 0.4581 - acc: 0.7835 - val_loss: 0.4951 - val_acc: 0.7429\n",
      "Epoch 26/30\n",
      "836/836 [==============================] - 0s 289us/step - loss: 0.4570 - acc: 0.7835 - val_loss: 0.4946 - val_acc: 0.7429\n",
      "Epoch 27/30\n",
      "836/836 [==============================] - 0s 306us/step - loss: 0.4558 - acc: 0.7835 - val_loss: 0.4929 - val_acc: 0.7476\n",
      "Epoch 28/30\n",
      "836/836 [==============================] - 0s 312us/step - loss: 0.4549 - acc: 0.7835 - val_loss: 0.4925 - val_acc: 0.7381\n",
      "Epoch 29/30\n",
      "836/836 [==============================] - 0s 290us/step - loss: 0.4543 - acc: 0.7823 - val_loss: 0.4924 - val_acc: 0.7381\n",
      "Epoch 30/30\n",
      "836/836 [==============================] - 0s 295us/step - loss: 0.4538 - acc: 0.7847 - val_loss: 0.4903 - val_acc: 0.7476\n"
     ]
    }
   ],
   "source": [
    "train_history =model.fit(x=train_Features, \n",
    "                         y=train_Label, \n",
    "                         validation_split=0.2, \n",
    "                         epochs=30, \n",
    "                         batch_size=30,verbose=1,callbacks=[early_stopping])"
   ]
  },
  {
   "cell_type": "code",
   "execution_count": 24,
   "metadata": {
    "collapsed": true
   },
   "outputs": [],
   "source": [
    "import matplotlib.pyplot as plt\n",
    "def show_train_history(train_history,train,validation):\n",
    "    plt.plot(train_history.history[train])\n",
    "    plt.plot(train_history.history[validation])\n",
    "    plt.title('Train History')\n",
    "    plt.ylabel(train)\n",
    "    plt.xlabel('Epoch')\n",
    "    plt.legend(['train', 'validation'], loc='upper left')\n",
    "    plt.show()"
   ]
  },
  {
   "cell_type": "code",
   "execution_count": 25,
   "metadata": {
    "collapsed": false
   },
   "outputs": [
    {
     "data": {
      "image/png": "[encoded data removed]",
      "text/plain": [
       "<matplotlib.figure.Figure at 0x7fbd6c080dd8>"
      ]
     },
     "metadata": {},
     "output_type": "display_data"
    }
   ],
   "source": [
    "show_train_history(train_history,'acc','val_acc')"
   ]
  },
  {
   "cell_type": "code",
   "execution_count": 26,
   "metadata": {
    "collapsed": false
   },
   "outputs": [
    {
     "data": {
      "image/png": "[encoded data removed]",
      "text/plain": [
       "<matplotlib.figure.Figure at 0x7fbd6c0a8748>"
      ]
     },
     "metadata": {},
     "output_type": "display_data"
    }
   ],
   "source": [
    "show_train_history(train_history,'loss','val_loss')"
   ]
  },
  {
   "cell_type": "code",
   "execution_count": 27,
   "metadata": {
    "collapsed": false
   },
   "outputs": [
    {
     "name": "stdout",
     "output_type": "stream",
     "text": [
      "262/262 [==============================] - 0s 80us/step\n"
     ]
    }
   ],
   "source": [
    "scores = model.evaluate(x=test_Features, \n",
    "                        y=test_Label)"
   ]
  },
  {
   "cell_type": "code",
   "execution_count": 28,
   "metadata": {
    "collapsed": false
   },
   "outputs": [
    {
     "data": {
      "text/plain": [
       "0.7671755720640867"
      ]
     },
     "execution_count": 28,
     "metadata": {},
     "output_type": "execute_result"
    }
   ],
   "source": [
    "scores[1]"
   ]
  }
 ],
 "metadata": {
  "anaconda-cloud": {},
  "kernelspec": {
   "display_name": "Python [conda root]",
   "language": "python",
   "name": "conda-root-py"
  },
  "language_info": {
   "codemirror_mode": {
    "name": "ipython",
    "version": 3
   },
   "file_extension": ".py",
   "mimetype": "text/x-python",
   "name": "python",
   "nbconvert_exporter": "python",
   "pygments_lexer": "ipython3",
   "version": "3.5.2"
  }
 },
 "nbformat": 4,
 "nbformat_minor": 1
}
