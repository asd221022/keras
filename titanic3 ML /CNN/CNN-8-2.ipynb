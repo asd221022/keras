{
 "cells": [
  {
   "cell_type": "code",
   "execution_count": 1,
   "metadata": {
    "collapsed": true,
    "slideshow": {
     "slide_type": "-"
    }
   },
   "outputs": [],
   "source": [
    "import numpy\n",
    "import pandas as pd\n",
    "from sklearn.preprocessing import StandardScaler\n",
    "from sklearn.model_selection import train_test_split\n",
    "numpy.random.seed(10)"
   ]
  },
  {
   "cell_type": "code",
   "execution_count": 2,
   "metadata": {
    "collapsed": false
   },
   "outputs": [],
   "source": [
    "all_df = pd.read_csv(\"titanic.csv\")"
   ]
  },
  {
   "cell_type": "code",
   "execution_count": 3,
   "metadata": {
    "collapsed": false
   },
   "outputs": [],
   "source": [
    "cols=['survived','pclass' ,'sex', 'age',\n",
    "       'fare',]\n",
    "df=all_df[cols]\n",
    "df.isnull().sum()\n",
    "df=df.values"
   ]
  },
  {
   "cell_type": "code",
   "execution_count": 4,
   "metadata": {
    "collapsed": false
   },
   "outputs": [
    {
     "data": {
      "text/plain": [
       "array([[  1.    ,   0.    ,  29.    , 211.3375],\n",
       "       [  1.    ,   1.    ,   0.9167, 151.55  ],\n",
       "       [  1.    ,   0.    ,   2.    , 151.55  ],\n",
       "       [  1.    ,   1.    ,  30.    , 151.55  ],\n",
       "       [  1.    ,   0.    ,  25.    , 151.55  ]])"
      ]
     },
     "execution_count": 4,
     "metadata": {},
     "output_type": "execute_result"
    }
   ],
   "source": [
    "X = df[:,1:]\n",
    "Y = df[:,0]\n",
    "X[:5]"
   ]
  },
  {
   "cell_type": "code",
   "execution_count": 5,
   "metadata": {
    "collapsed": false
   },
   "outputs": [
    {
     "data": {
      "text/plain": [
       "1046"
      ]
     },
     "execution_count": 5,
     "metadata": {},
     "output_type": "execute_result"
    }
   ],
   "source": [
    " X = StandardScaler().fit_transform(X)\n",
    "train_Features, test_Features, train_Label, test_Label = train_test_split(X, Y, test_size=0.2, random_state=True) \n",
    "len(train_Features)"
   ]
  },
  {
   "cell_type": "code",
   "execution_count": 6,
   "metadata": {
    "collapsed": false
   },
   "outputs": [
    {
     "data": {
      "text/plain": [
       "array([[ 0.84246649, -1.34419751,  0.8216082 , -0.46039806],\n",
       "       [ 0.84246649, -1.34419751,  0.09991351, -0.19415727],\n",
       "       [ 0.84246649,  0.74393829, -0.18876436, -0.49092056],\n",
       "       [-0.35140802, -1.34419751,  0.17208298, -0.23764487]])"
      ]
     },
     "execution_count": 6,
     "metadata": {},
     "output_type": "execute_result"
    }
   ],
   "source": [
    "train_Features[355:359]"
   ]
  },
  {
   "cell_type": "code",
   "execution_count": 7,
   "metadata": {
    "collapsed": false
   },
   "outputs": [
    {
     "data": {
      "text/plain": [
       "array([1., 0., 0., 0.])"
      ]
     },
     "execution_count": 7,
     "metadata": {},
     "output_type": "execute_result"
    }
   ],
   "source": [
    "train_Label[:4]"
   ]
  },
  {
   "cell_type": "code",
   "execution_count": 8,
   "metadata": {
    "collapsed": false
   },
   "outputs": [
    {
     "data": {
      "text/plain": [
       "(262, 4)"
      ]
     },
     "execution_count": 8,
     "metadata": {},
     "output_type": "execute_result"
    }
   ],
   "source": [
    "test_Features.shape"
   ]
  },
  {
   "cell_type": "code",
   "execution_count": 9,
   "metadata": {
    "collapsed": false
   },
   "outputs": [
    {
     "data": {
      "text/plain": [
       "(262,)"
      ]
     },
     "execution_count": 9,
     "metadata": {},
     "output_type": "execute_result"
    }
   ],
   "source": [
    "test_Label.shape"
   ]
  },
  {
   "cell_type": "code",
   "execution_count": 10,
   "metadata": {
    "collapsed": false
   },
   "outputs": [
    {
     "data": {
      "text/plain": [
       "(1046, 4)"
      ]
     },
     "execution_count": 10,
     "metadata": {},
     "output_type": "execute_result"
    }
   ],
   "source": [
    "train_Features.shape"
   ]
  },
  {
   "cell_type": "code",
   "execution_count": 11,
   "metadata": {
    "collapsed": false
   },
   "outputs": [],
   "source": [
    "train_Features = train_Features.reshape((train_Features.shape[0], train_Features.shape[1], 1))"
   ]
  },
  {
   "cell_type": "code",
   "execution_count": 12,
   "metadata": {
    "collapsed": true
   },
   "outputs": [],
   "source": [
    "test_Features = test_Features.reshape((test_Features.shape[0], test_Features.shape[1], 1))"
   ]
  },
  {
   "cell_type": "code",
   "execution_count": 13,
   "metadata": {
    "collapsed": false
   },
   "outputs": [
    {
     "data": {
      "text/plain": [
       "(1046, 4, 1)"
      ]
     },
     "execution_count": 13,
     "metadata": {},
     "output_type": "execute_result"
    }
   ],
   "source": [
    "train_Features.shape"
   ]
  },
  {
   "cell_type": "code",
   "execution_count": 14,
   "metadata": {
    "collapsed": false
   },
   "outputs": [
    {
     "name": "stderr",
     "output_type": "stream",
     "text": [
      "Using TensorFlow backend.\n"
     ]
    }
   ],
   "source": [
    "from keras.models import Sequential\n",
    "from keras.layers import Dense,Dropout,Flatten,Conv1D,MaxPooling1D\n",
    "from keras.layers.embeddings import Embedding\n",
    "from keras.callbacks import EarlyStopping\n",
    "early_stopping = EarlyStopping(monitor='val_loss', patience=2)"
   ]
  },
  {
   "cell_type": "code",
   "execution_count": 15,
   "metadata": {
    "collapsed": false
   },
   "outputs": [],
   "source": [
    "model = Sequential()"
   ]
  },
  {
   "cell_type": "code",
   "execution_count": 16,
   "metadata": {
    "collapsed": true
   },
   "outputs": [],
   "source": [
    "model.add(Conv1D(filters=8*2,\n",
    "                 kernel_size=1,\n",
    "                 padding='valid',\n",
    "                 input_shape=(4,1), \n",
    "                 activation='relu'))"
   ]
  },
  {
   "cell_type": "code",
   "execution_count": 17,
   "metadata": {
    "collapsed": true
   },
   "outputs": [],
   "source": [
    "model.add(MaxPooling1D(pool_size=1))"
   ]
  },
  {
   "cell_type": "code",
   "execution_count": 18,
   "metadata": {
    "collapsed": false
   },
   "outputs": [],
   "source": [
    "model.add(Conv1D(filters=8,\n",
    "                 kernel_size=1,\n",
    "                 padding='valid',\n",
    "                 activation='relu'))"
   ]
  },
  {
   "cell_type": "code",
   "execution_count": 19,
   "metadata": {
    "collapsed": true
   },
   "outputs": [],
   "source": [
    "model.add(MaxPooling1D(pool_size=1))"
   ]
  },
  {
   "cell_type": "code",
   "execution_count": 20,
   "metadata": {
    "collapsed": true
   },
   "outputs": [],
   "source": [
    "model.add(Flatten())"
   ]
  },
  {
   "cell_type": "code",
   "execution_count": 21,
   "metadata": {
    "collapsed": true
   },
   "outputs": [],
   "source": [
    "model.add(Dense(4, activation='tanh'))"
   ]
  },
  {
   "cell_type": "code",
   "execution_count": 22,
   "metadata": {
    "collapsed": true
   },
   "outputs": [],
   "source": [
    "model.add(Dense(1,activation='sigmoid'))"
   ]
  },
  {
   "cell_type": "code",
   "execution_count": 23,
   "metadata": {
    "collapsed": false
   },
   "outputs": [
    {
     "name": "stdout",
     "output_type": "stream",
     "text": [
      "_________________________________________________________________\n",
      "Layer (type)                 Output Shape              Param #   \n",
      "=================================================================\n",
      "conv1d_1 (Conv1D)            (None, 4, 16)             32        \n",
      "_________________________________________________________________\n",
      "max_pooling1d_1 (MaxPooling1 (None, 4, 16)             0         \n",
      "_________________________________________________________________\n",
      "conv1d_2 (Conv1D)            (None, 4, 8)              136       \n",
      "_________________________________________________________________\n",
      "max_pooling1d_2 (MaxPooling1 (None, 4, 8)              0         \n",
      "_________________________________________________________________\n",
      "flatten_1 (Flatten)          (None, 32)                0         \n",
      "_________________________________________________________________\n",
      "dense_1 (Dense)              (None, 4)                 132       \n",
      "_________________________________________________________________\n",
      "dense_2 (Dense)              (None, 1)                 5         \n",
      "=================================================================\n",
      "Total params: 305\n",
      "Trainable params: 305\n",
      "Non-trainable params: 0\n",
      "_________________________________________________________________\n"
     ]
    }
   ],
   "source": [
    "model.summary()"
   ]
  },
  {
   "cell_type": "code",
   "execution_count": 24,
   "metadata": {
    "collapsed": false
   },
   "outputs": [],
   "source": [
    "model.compile(loss='binary_crossentropy', \n",
    "              optimizer='adam', metrics=['accuracy'])"
   ]
  },
  {
   "cell_type": "code",
   "execution_count": 25,
   "metadata": {
    "collapsed": false
   },
   "outputs": [
    {
     "name": "stdout",
     "output_type": "stream",
     "text": [
      "Train on 836 samples, validate on 210 samples\n",
      "Epoch 1/30\n",
      "836/836 [==============================] - 1s 681us/step - loss: 0.6580 - acc: 0.7045 - val_loss: 0.6336 - val_acc: 0.7429\n",
      "Epoch 2/30\n",
      "836/836 [==============================] - 0s 97us/step - loss: 0.6045 - acc: 0.7476 - val_loss: 0.5872 - val_acc: 0.7476\n",
      "Epoch 3/30\n",
      "836/836 [==============================] - 0s 81us/step - loss: 0.5611 - acc: 0.7512 - val_loss: 0.5576 - val_acc: 0.7524\n",
      "Epoch 4/30\n",
      "836/836 [==============================] - 0s 82us/step - loss: 0.5312 - acc: 0.7512 - val_loss: 0.5394 - val_acc: 0.7429\n",
      "Epoch 5/30\n",
      "836/836 [==============================] - 0s 130us/step - loss: 0.5118 - acc: 0.7596 - val_loss: 0.5274 - val_acc: 0.7476\n",
      "Epoch 6/30\n",
      "836/836 [==============================] - 0s 130us/step - loss: 0.4963 - acc: 0.7584 - val_loss: 0.5225 - val_acc: 0.7381\n",
      "Epoch 7/30\n",
      "836/836 [==============================] - 0s 119us/step - loss: 0.4877 - acc: 0.7751 - val_loss: 0.5170 - val_acc: 0.7429\n",
      "Epoch 8/30\n",
      "836/836 [==============================] - 0s 114us/step - loss: 0.4815 - acc: 0.7739 - val_loss: 0.5137 - val_acc: 0.7429\n",
      "Epoch 9/30\n",
      "836/836 [==============================] - 0s 124us/step - loss: 0.4775 - acc: 0.7775 - val_loss: 0.5116 - val_acc: 0.7429\n",
      "Epoch 10/30\n",
      "836/836 [==============================] - 0s 118us/step - loss: 0.4742 - acc: 0.7811 - val_loss: 0.5091 - val_acc: 0.7476\n",
      "Epoch 11/30\n",
      "836/836 [==============================] - 0s 85us/step - loss: 0.4719 - acc: 0.7823 - val_loss: 0.5067 - val_acc: 0.7524\n",
      "Epoch 12/30\n",
      "836/836 [==============================] - 0s 82us/step - loss: 0.4699 - acc: 0.7847 - val_loss: 0.5048 - val_acc: 0.7571\n",
      "Epoch 13/30\n",
      "836/836 [==============================] - 0s 77us/step - loss: 0.4690 - acc: 0.7823 - val_loss: 0.5044 - val_acc: 0.7667\n",
      "Epoch 14/30\n",
      "836/836 [==============================] - 0s 88us/step - loss: 0.4661 - acc: 0.7835 - val_loss: 0.5032 - val_acc: 0.7524\n",
      "Epoch 15/30\n",
      "836/836 [==============================] - 0s 84us/step - loss: 0.4651 - acc: 0.7835 - val_loss: 0.5011 - val_acc: 0.7667\n",
      "Epoch 16/30\n",
      "836/836 [==============================] - 0s 80us/step - loss: 0.4642 - acc: 0.7811 - val_loss: 0.5014 - val_acc: 0.7667\n",
      "Epoch 17/30\n",
      "836/836 [==============================] - 0s 80us/step - loss: 0.4629 - acc: 0.7811 - val_loss: 0.4994 - val_acc: 0.7619\n",
      "Epoch 18/30\n",
      "836/836 [==============================] - 0s 81us/step - loss: 0.4633 - acc: 0.7835 - val_loss: 0.4990 - val_acc: 0.7667\n",
      "Epoch 19/30\n",
      "836/836 [==============================] - 0s 98us/step - loss: 0.4613 - acc: 0.7835 - val_loss: 0.4969 - val_acc: 0.7667\n",
      "Epoch 20/30\n",
      "836/836 [==============================] - 0s 81us/step - loss: 0.4609 - acc: 0.7835 - val_loss: 0.4961 - val_acc: 0.7667\n",
      "Epoch 21/30\n",
      "836/836 [==============================] - 0s 84us/step - loss: 0.4616 - acc: 0.7847 - val_loss: 0.4960 - val_acc: 0.7667\n",
      "Epoch 22/30\n",
      "836/836 [==============================] - 0s 86us/step - loss: 0.4584 - acc: 0.7847 - val_loss: 0.4934 - val_acc: 0.7619\n",
      "Epoch 23/30\n",
      "836/836 [==============================] - 0s 82us/step - loss: 0.4581 - acc: 0.7919 - val_loss: 0.4938 - val_acc: 0.7619\n",
      "Epoch 24/30\n",
      "836/836 [==============================] - 0s 93us/step - loss: 0.4578 - acc: 0.7871 - val_loss: 0.4932 - val_acc: 0.7619\n",
      "Epoch 25/30\n",
      "836/836 [==============================] - 0s 87us/step - loss: 0.4568 - acc: 0.7895 - val_loss: 0.4929 - val_acc: 0.7667\n",
      "Epoch 26/30\n",
      "836/836 [==============================] - 0s 80us/step - loss: 0.4562 - acc: 0.7871 - val_loss: 0.4912 - val_acc: 0.7619\n",
      "Epoch 27/30\n",
      "836/836 [==============================] - 0s 89us/step - loss: 0.4555 - acc: 0.7871 - val_loss: 0.4908 - val_acc: 0.7667\n",
      "Epoch 28/30\n",
      "836/836 [==============================] - 0s 81us/step - loss: 0.4554 - acc: 0.7883 - val_loss: 0.4896 - val_acc: 0.7571\n",
      "Epoch 29/30\n",
      "836/836 [==============================] - 0s 89us/step - loss: 0.4553 - acc: 0.7931 - val_loss: 0.4900 - val_acc: 0.7667\n",
      "Epoch 30/30\n",
      "836/836 [==============================] - 0s 88us/step - loss: 0.4539 - acc: 0.7978 - val_loss: 0.4886 - val_acc: 0.7571\n"
     ]
    }
   ],
   "source": [
    "train_history =model.fit(x=train_Features, \n",
    "                         y=train_Label, \n",
    "                         validation_split=0.2, \n",
    "                         epochs=30, \n",
    "                         batch_size=30,verbose=1,callbacks=[early_stopping])"
   ]
  },
  {
   "cell_type": "code",
   "execution_count": 26,
   "metadata": {
    "collapsed": true
   },
   "outputs": [],
   "source": [
    "import matplotlib.pyplot as plt\n",
    "def show_train_history(train_history,train,validation):\n",
    "    plt.plot(train_history.history[train])\n",
    "    plt.plot(train_history.history[validation])\n",
    "    plt.title('Train History')\n",
    "    plt.ylabel(train)\n",
    "    plt.xlabel('Epoch')\n",
    "    plt.legend(['train', 'validation'], loc='upper left')\n",
    "    plt.show()"
   ]
  },
  {
   "cell_type": "code",
   "execution_count": 27,
   "metadata": {
    "collapsed": false
   },
   "outputs": [
    {
     "data": {
      "image/png": "[encoded data removed]",
      "text/plain": [
       "<matplotlib.figure.Figure at 0x7fe847b6a0b8>"
      ]
     },
     "metadata": {},
     "output_type": "display_data"
    }
   ],
   "source": [
    "show_train_history(train_history,'acc','val_acc')"
   ]
  },
  {
   "cell_type": "code",
   "execution_count": 28,
   "metadata": {
    "collapsed": false
   },
   "outputs": [
    {
     "data": {
      "image/png": "[encoded data removed]",
      "text/plain": [
       "<matplotlib.figure.Figure at 0x7fe847b6af60>"
      ]
     },
     "metadata": {},
     "output_type": "display_data"
    }
   ],
   "source": [
    "show_train_history(train_history,'loss','val_loss')"
   ]
  },
  {
   "cell_type": "code",
   "execution_count": 29,
   "metadata": {
    "collapsed": false
   },
   "outputs": [
    {
     "name": "stdout",
     "output_type": "stream",
     "text": [
      "262/262 [==============================] - 0s 122us/step\n"
     ]
    }
   ],
   "source": [
    "scores = model.evaluate(x=test_Features, \n",
    "                        y=test_Label)"
   ]
  },
  {
   "cell_type": "code",
   "execution_count": 30,
   "metadata": {
    "collapsed": false
   },
   "outputs": [
    {
     "data": {
      "text/plain": [
       "0.7977099232091248"
      ]
     },
     "execution_count": 30,
     "metadata": {},
     "output_type": "execute_result"
    }
   ],
   "source": [
    "scores[1]"
   ]
  }
 ],
 "metadata": {
  "anaconda-cloud": {},
  "kernelspec": {
   "display_name": "Python [conda root]",
   "language": "python",
   "name": "conda-root-py"
  },
  "language_info": {
   "codemirror_mode": {
    "name": "ipython",
    "version": 3
   },
   "file_extension": ".py",
   "mimetype": "text/x-python",
   "name": "python",
   "nbconvert_exporter": "python",
   "pygments_lexer": "ipython3",
   "version": "3.5.2"
  }
 },
 "nbformat": 4,
 "nbformat_minor": 1
}
