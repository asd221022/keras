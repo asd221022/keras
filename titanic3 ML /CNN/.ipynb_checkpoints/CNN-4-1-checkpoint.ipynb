{
 "cells": [
  {
   "cell_type": "code",
   "execution_count": 1,
   "metadata": {
    "collapsed": true,
    "slideshow": {
     "slide_type": "-"
    }
   },
   "outputs": [],
   "source": [
    "import numpy\n",
    "import pandas as pd\n",
    "from sklearn.preprocessing import StandardScaler\n",
    "from sklearn.model_selection import train_test_split\n",
    "numpy.random.seed(10)"
   ]
  },
  {
   "cell_type": "code",
   "execution_count": 2,
   "metadata": {
    "collapsed": false
   },
   "outputs": [],
   "source": [
    "all_df = pd.read_csv(\"titanic.csv\")"
   ]
  },
  {
   "cell_type": "code",
   "execution_count": 3,
   "metadata": {
    "collapsed": false
   },
   "outputs": [],
   "source": [
    "cols=['survived','pclass' ,'sex', 'age',\n",
    "       'fare',]\n",
    "df=all_df[cols]\n",
    "df.isnull().sum()\n",
    "df=df.values"
   ]
  },
  {
   "cell_type": "code",
   "execution_count": 4,
   "metadata": {
    "collapsed": false
   },
   "outputs": [
    {
     "data": {
      "text/plain": [
       "array([[  1.    ,   0.    ,  29.    , 211.3375],\n",
       "       [  1.    ,   1.    ,   0.9167, 151.55  ],\n",
       "       [  1.    ,   0.    ,   2.    , 151.55  ],\n",
       "       [  1.    ,   1.    ,  30.    , 151.55  ],\n",
       "       [  1.    ,   0.    ,  25.    , 151.55  ]])"
      ]
     },
     "execution_count": 4,
     "metadata": {},
     "output_type": "execute_result"
    }
   ],
   "source": [
    "X = df[:,1:]\n",
    "Y = df[:,0]\n",
    "X[:5]"
   ]
  },
  {
   "cell_type": "code",
   "execution_count": 5,
   "metadata": {
    "collapsed": false
   },
   "outputs": [
    {
     "data": {
      "text/plain": [
       "1046"
      ]
     },
     "execution_count": 5,
     "metadata": {},
     "output_type": "execute_result"
    }
   ],
   "source": [
    " X = StandardScaler().fit_transform(X)\n",
    "train_Features, test_Features, train_Label, test_Label = train_test_split(X, Y, test_size=0.2, random_state=True) \n",
    "len(train_Features)"
   ]
  },
  {
   "cell_type": "code",
   "execution_count": 6,
   "metadata": {
    "collapsed": false
   },
   "outputs": [
    {
     "data": {
      "text/plain": [
       "array([[ 0.84246649, -1.34419751,  0.8216082 , -0.46039806],\n",
       "       [ 0.84246649, -1.34419751,  0.09991351, -0.19415727],\n",
       "       [ 0.84246649,  0.74393829, -0.18876436, -0.49092056],\n",
       "       [-0.35140802, -1.34419751,  0.17208298, -0.23764487]])"
      ]
     },
     "execution_count": 6,
     "metadata": {},
     "output_type": "execute_result"
    }
   ],
   "source": [
    "train_Features[355:359]"
   ]
  },
  {
   "cell_type": "code",
   "execution_count": 7,
   "metadata": {
    "collapsed": false
   },
   "outputs": [
    {
     "data": {
      "text/plain": [
       "array([1., 0., 0., 0.])"
      ]
     },
     "execution_count": 7,
     "metadata": {},
     "output_type": "execute_result"
    }
   ],
   "source": [
    "train_Label[:4]"
   ]
  },
  {
   "cell_type": "code",
   "execution_count": 8,
   "metadata": {
    "collapsed": false
   },
   "outputs": [
    {
     "data": {
      "text/plain": [
       "(262, 4)"
      ]
     },
     "execution_count": 8,
     "metadata": {},
     "output_type": "execute_result"
    }
   ],
   "source": [
    "test_Features.shape"
   ]
  },
  {
   "cell_type": "code",
   "execution_count": 9,
   "metadata": {
    "collapsed": false
   },
   "outputs": [
    {
     "data": {
      "text/plain": [
       "(262,)"
      ]
     },
     "execution_count": 9,
     "metadata": {},
     "output_type": "execute_result"
    }
   ],
   "source": [
    "test_Label.shape"
   ]
  },
  {
   "cell_type": "code",
   "execution_count": 10,
   "metadata": {
    "collapsed": false
   },
   "outputs": [
    {
     "data": {
      "text/plain": [
       "(1046, 4)"
      ]
     },
     "execution_count": 10,
     "metadata": {},
     "output_type": "execute_result"
    }
   ],
   "source": [
    "train_Features.shape"
   ]
  },
  {
   "cell_type": "code",
   "execution_count": 11,
   "metadata": {
    "collapsed": false
   },
   "outputs": [],
   "source": [
    "train_Features = train_Features.reshape((train_Features.shape[0], train_Features.shape[1], 1))"
   ]
  },
  {
   "cell_type": "code",
   "execution_count": 12,
   "metadata": {
    "collapsed": true
   },
   "outputs": [],
   "source": [
    "test_Features = test_Features.reshape((test_Features.shape[0], test_Features.shape[1], 1))"
   ]
  },
  {
   "cell_type": "code",
   "execution_count": 13,
   "metadata": {
    "collapsed": false
   },
   "outputs": [
    {
     "data": {
      "text/plain": [
       "(1046, 4, 1)"
      ]
     },
     "execution_count": 13,
     "metadata": {},
     "output_type": "execute_result"
    }
   ],
   "source": [
    "train_Features.shape"
   ]
  },
  {
   "cell_type": "code",
   "execution_count": 14,
   "metadata": {
    "collapsed": false
   },
   "outputs": [
    {
     "name": "stderr",
     "output_type": "stream",
     "text": [
      "Using TensorFlow backend.\n"
     ]
    }
   ],
   "source": [
    "from keras.models import Sequential\n",
    "from keras.layers import Dense,Dropout,Flatten,Conv1D,MaxPooling1D\n",
    "from keras.layers.embeddings import Embedding\n",
    "from keras.callbacks import EarlyStopping\n",
    "early_stopping = EarlyStopping(monitor='val_loss', patience=2)"
   ]
  },
  {
   "cell_type": "code",
   "execution_count": 15,
   "metadata": {
    "collapsed": false
   },
   "outputs": [],
   "source": [
    "model = Sequential()"
   ]
  },
  {
   "cell_type": "code",
   "execution_count": 16,
   "metadata": {
    "collapsed": false
   },
   "outputs": [],
   "source": [
    "model.add(Conv1D(filters=4,\n",
    "                 kernel_size=1,\n",
    "                 padding='valid',\n",
    "                 input_shape=(4,1), \n",
    "                 activation='relu'))"
   ]
  },
  {
   "cell_type": "code",
   "execution_count": 17,
   "metadata": {
    "collapsed": true
   },
   "outputs": [],
   "source": [
    "model.add(MaxPooling1D(pool_size=1))"
   ]
  },
  {
   "cell_type": "code",
   "execution_count": 18,
   "metadata": {
    "collapsed": true
   },
   "outputs": [],
   "source": [
    "model.add(Flatten())"
   ]
  },
  {
   "cell_type": "code",
   "execution_count": 19,
   "metadata": {
    "collapsed": true
   },
   "outputs": [],
   "source": [
    "model.add(Dense(4, activation='tanh'))"
   ]
  },
  {
   "cell_type": "code",
   "execution_count": 20,
   "metadata": {
    "collapsed": true
   },
   "outputs": [],
   "source": [
    "model.add(Dense(1,activation='sigmoid'))"
   ]
  },
  {
   "cell_type": "code",
   "execution_count": 21,
   "metadata": {
    "collapsed": false
   },
   "outputs": [
    {
     "name": "stdout",
     "output_type": "stream",
     "text": [
      "_________________________________________________________________\n",
      "Layer (type)                 Output Shape              Param #   \n",
      "=================================================================\n",
      "conv1d_1 (Conv1D)            (None, 4, 4)              8         \n",
      "_________________________________________________________________\n",
      "max_pooling1d_1 (MaxPooling1 (None, 4, 4)              0         \n",
      "_________________________________________________________________\n",
      "flatten_1 (Flatten)          (None, 16)                0         \n",
      "_________________________________________________________________\n",
      "dense_1 (Dense)              (None, 4)                 68        \n",
      "_________________________________________________________________\n",
      "dense_2 (Dense)              (None, 1)                 5         \n",
      "=================================================================\n",
      "Total params: 81\n",
      "Trainable params: 81\n",
      "Non-trainable params: 0\n",
      "_________________________________________________________________\n"
     ]
    }
   ],
   "source": [
    "model.summary()"
   ]
  },
  {
   "cell_type": "code",
   "execution_count": 22,
   "metadata": {
    "collapsed": false
   },
   "outputs": [],
   "source": [
    "model.compile(loss='binary_crossentropy', \n",
    "              optimizer='adam', metrics=['accuracy'])"
   ]
  },
  {
   "cell_type": "code",
   "execution_count": 23,
   "metadata": {
    "collapsed": false
   },
   "outputs": [
    {
     "name": "stdout",
     "output_type": "stream",
     "text": [
      "Train on 836 samples, validate on 210 samples\n",
      "Epoch 1/30\n",
      "836/836 [==============================] - 2s 3ms/step - loss: 0.7227 - acc: 0.4426 - val_loss: 0.6986 - val_acc: 0.6048\n",
      "Epoch 2/30\n",
      "836/836 [==============================] - 0s 248us/step - loss: 0.6807 - acc: 0.6160 - val_loss: 0.6614 - val_acc: 0.6524\n",
      "Epoch 3/30\n",
      "836/836 [==============================] - 0s 323us/step - loss: 0.6452 - acc: 0.6555 - val_loss: 0.6362 - val_acc: 0.6524\n",
      "Epoch 4/30\n",
      "836/836 [==============================] - 0s 306us/step - loss: 0.6168 - acc: 0.6675 - val_loss: 0.6124 - val_acc: 0.6619\n",
      "Epoch 5/30\n",
      "836/836 [==============================] - 0s 241us/step - loss: 0.5904 - acc: 0.6866 - val_loss: 0.5927 - val_acc: 0.6571\n",
      "Epoch 6/30\n",
      "836/836 [==============================] - 0s 316us/step - loss: 0.5670 - acc: 0.7033 - val_loss: 0.5754 - val_acc: 0.6905\n",
      "Epoch 7/30\n",
      "836/836 [==============================] - 0s 204us/step - loss: 0.5471 - acc: 0.7225 - val_loss: 0.5614 - val_acc: 0.7000\n",
      "Epoch 8/30\n",
      "836/836 [==============================] - 0s 197us/step - loss: 0.5299 - acc: 0.7416 - val_loss: 0.5487 - val_acc: 0.6952\n",
      "Epoch 9/30\n",
      "836/836 [==============================] - 0s 222us/step - loss: 0.5153 - acc: 0.7524 - val_loss: 0.5392 - val_acc: 0.7000\n",
      "Epoch 10/30\n",
      "836/836 [==============================] - 0s 214us/step - loss: 0.5040 - acc: 0.7596 - val_loss: 0.5320 - val_acc: 0.7333\n",
      "Epoch 11/30\n",
      "836/836 [==============================] - 0s 263us/step - loss: 0.4948 - acc: 0.7691 - val_loss: 0.5261 - val_acc: 0.7381\n",
      "Epoch 12/30\n",
      "836/836 [==============================] - 0s 248us/step - loss: 0.4878 - acc: 0.7763 - val_loss: 0.5211 - val_acc: 0.7429\n",
      "Epoch 13/30\n",
      "836/836 [==============================] - 0s 180us/step - loss: 0.4820 - acc: 0.7811 - val_loss: 0.5171 - val_acc: 0.7476\n",
      "Epoch 14/30\n",
      "836/836 [==============================] - 0s 175us/step - loss: 0.4785 - acc: 0.7811 - val_loss: 0.5140 - val_acc: 0.7476\n",
      "Epoch 15/30\n",
      "836/836 [==============================] - 0s 197us/step - loss: 0.4751 - acc: 0.7823 - val_loss: 0.5118 - val_acc: 0.7524\n",
      "Epoch 16/30\n",
      "836/836 [==============================] - 0s 160us/step - loss: 0.4731 - acc: 0.7811 - val_loss: 0.5107 - val_acc: 0.7524\n",
      "Epoch 17/30\n",
      "836/836 [==============================] - 0s 192us/step - loss: 0.4709 - acc: 0.7823 - val_loss: 0.5086 - val_acc: 0.7524\n",
      "Epoch 18/30\n",
      "836/836 [==============================] - 0s 281us/step - loss: 0.4695 - acc: 0.7811 - val_loss: 0.5077 - val_acc: 0.7524\n",
      "Epoch 19/30\n",
      "836/836 [==============================] - 0s 165us/step - loss: 0.4685 - acc: 0.7811 - val_loss: 0.5078 - val_acc: 0.7524\n",
      "Epoch 20/30\n",
      "836/836 [==============================] - 0s 311us/step - loss: 0.4676 - acc: 0.7799 - val_loss: 0.5057 - val_acc: 0.7524\n",
      "Epoch 21/30\n",
      "836/836 [==============================] - 0s 539us/step - loss: 0.4665 - acc: 0.7823 - val_loss: 0.5040 - val_acc: 0.7524\n",
      "Epoch 22/30\n",
      "836/836 [==============================] - 0s 278us/step - loss: 0.4655 - acc: 0.7823 - val_loss: 0.5040 - val_acc: 0.7524\n",
      "Epoch 23/30\n",
      "836/836 [==============================] - 0s 265us/step - loss: 0.4649 - acc: 0.7835 - val_loss: 0.5029 - val_acc: 0.7524\n",
      "Epoch 24/30\n",
      "836/836 [==============================] - 0s 248us/step - loss: 0.4639 - acc: 0.7823 - val_loss: 0.5019 - val_acc: 0.7524\n",
      "Epoch 25/30\n",
      "836/836 [==============================] - 0s 241us/step - loss: 0.4634 - acc: 0.7823 - val_loss: 0.5015 - val_acc: 0.7429\n",
      "Epoch 26/30\n",
      "836/836 [==============================] - 0s 298us/step - loss: 0.4627 - acc: 0.7823 - val_loss: 0.5007 - val_acc: 0.7524\n",
      "Epoch 27/30\n",
      "836/836 [==============================] - 0s 205us/step - loss: 0.4619 - acc: 0.7847 - val_loss: 0.4996 - val_acc: 0.7571\n",
      "Epoch 28/30\n",
      "836/836 [==============================] - 0s 139us/step - loss: 0.4615 - acc: 0.7835 - val_loss: 0.4991 - val_acc: 0.7571\n",
      "Epoch 29/30\n",
      "836/836 [==============================] - 0s 186us/step - loss: 0.4613 - acc: 0.7835 - val_loss: 0.4993 - val_acc: 0.7476\n",
      "Epoch 30/30\n",
      "836/836 [==============================] - 0s 216us/step - loss: 0.4608 - acc: 0.7847 - val_loss: 0.4979 - val_acc: 0.7571\n"
     ]
    }
   ],
   "source": [
    "train_history =model.fit(x=train_Features, \n",
    "                         y=train_Label, \n",
    "                         validation_split=0.2, \n",
    "                         epochs=30, \n",
    "                         batch_size=30,verbose=1,callbacks=[early_stopping])"
   ]
  },
  {
   "cell_type": "code",
   "execution_count": 24,
   "metadata": {
    "collapsed": true
   },
   "outputs": [],
   "source": [
    "import matplotlib.pyplot as plt\n",
    "def show_train_history(train_history,train,validation):\n",
    "    plt.plot(train_history.history[train])\n",
    "    plt.plot(train_history.history[validation])\n",
    "    plt.title('Train History')\n",
    "    plt.ylabel(train)\n",
    "    plt.xlabel('Epoch')\n",
    "    plt.legend(['train', 'validation'], loc='upper left')\n",
    "    plt.show()"
   ]
  },
  {
   "cell_type": "code",
   "execution_count": 25,
   "metadata": {
    "collapsed": false
   },
   "outputs": [
    {
     "data": {
      "image/png": "[encoded data removed]",
      "text/plain": [
       "<matplotlib.figure.Figure at 0x7fc1b95b55c0>"
      ]
     },
     "metadata": {},
     "output_type": "display_data"
    }
   ],
   "source": [
    "show_train_history(train_history,'acc','val_acc')"
   ]
  },
  {
   "cell_type": "code",
   "execution_count": 26,
   "metadata": {
    "collapsed": false
   },
   "outputs": [
    {
     "data": {
      "image/png": "[encoded data removed]",
      "text/plain": [
       "<matplotlib.figure.Figure at 0x7fc1b95b5240>"
      ]
     },
     "metadata": {},
     "output_type": "display_data"
    }
   ],
   "source": [
    "show_train_history(train_history,'loss','val_loss')"
   ]
  },
  {
   "cell_type": "code",
   "execution_count": 27,
   "metadata": {
    "collapsed": false
   },
   "outputs": [
    {
     "name": "stdout",
     "output_type": "stream",
     "text": [
      "262/262 [==============================] - 0s 66us/step\n"
     ]
    }
   ],
   "source": [
    "scores = model.evaluate(x=test_Features, \n",
    "                        y=test_Label)"
   ]
  },
  {
   "cell_type": "code",
   "execution_count": 28,
   "metadata": {
    "collapsed": false
   },
   "outputs": [
    {
     "data": {
      "text/plain": [
       "0.7557251903846973"
      ]
     },
     "execution_count": 28,
     "metadata": {},
     "output_type": "execute_result"
    }
   ],
   "source": [
    "scores[1]"
   ]
  }
 ],
 "metadata": {
  "anaconda-cloud": {},
  "kernelspec": {
   "display_name": "Python [conda root]",
   "language": "python",
   "name": "conda-root-py"
  },
  "language_info": {
   "codemirror_mode": {
    "name": "ipython",
    "version": 3
   },
   "file_extension": ".py",
   "mimetype": "text/x-python",
   "name": "python",
   "nbconvert_exporter": "python",
   "pygments_lexer": "ipython3",
   "version": "3.5.2"
  }
 },
 "nbformat": 4,
 "nbformat_minor": 1
}
