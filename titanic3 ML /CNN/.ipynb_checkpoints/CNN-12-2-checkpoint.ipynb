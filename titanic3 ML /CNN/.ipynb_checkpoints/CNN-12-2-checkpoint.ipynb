{
 "cells": [
  {
   "cell_type": "code",
   "execution_count": 31,
   "metadata": {
    "collapsed": true,
    "slideshow": {
     "slide_type": "-"
    }
   },
   "outputs": [],
   "source": [
    "import numpy\n",
    "import pandas as pd\n",
    "from sklearn.preprocessing import StandardScaler\n",
    "from sklearn.model_selection import train_test_split\n",
    "numpy.random.seed(10)"
   ]
  },
  {
   "cell_type": "code",
   "execution_count": 32,
   "metadata": {
    "collapsed": false
   },
   "outputs": [],
   "source": [
    "all_df = pd.read_csv(\"titanic.csv\")"
   ]
  },
  {
   "cell_type": "code",
   "execution_count": 33,
   "metadata": {
    "collapsed": false
   },
   "outputs": [],
   "source": [
    "cols=['survived','pclass' ,'sex', 'age',\n",
    "       'fare',]\n",
    "df=all_df[cols]\n",
    "df.isnull().sum()\n",
    "df=df.values"
   ]
  },
  {
   "cell_type": "code",
   "execution_count": 34,
   "metadata": {
    "collapsed": false
   },
   "outputs": [
    {
     "data": {
      "text/plain": [
       "array([[  1.    ,   0.    ,  29.    , 211.3375],\n",
       "       [  1.    ,   1.    ,   0.9167, 151.55  ],\n",
       "       [  1.    ,   0.    ,   2.    , 151.55  ],\n",
       "       [  1.    ,   1.    ,  30.    , 151.55  ],\n",
       "       [  1.    ,   0.    ,  25.    , 151.55  ]])"
      ]
     },
     "execution_count": 34,
     "metadata": {},
     "output_type": "execute_result"
    }
   ],
   "source": [
    "X = df[:,1:]\n",
    "Y = df[:,0]\n",
    "X[:5]"
   ]
  },
  {
   "cell_type": "code",
   "execution_count": 35,
   "metadata": {
    "collapsed": false
   },
   "outputs": [
    {
     "data": {
      "text/plain": [
       "1046"
      ]
     },
     "execution_count": 35,
     "metadata": {},
     "output_type": "execute_result"
    }
   ],
   "source": [
    " X = StandardScaler().fit_transform(X)\n",
    "train_Features, test_Features, train_Label, test_Label = train_test_split(X, Y, test_size=0.2, random_state=True) \n",
    "len(train_Features)"
   ]
  },
  {
   "cell_type": "code",
   "execution_count": 36,
   "metadata": {
    "collapsed": false
   },
   "outputs": [
    {
     "data": {
      "text/plain": [
       "array([[ 0.84246649, -1.34419751,  0.8216082 , -0.46039806],\n",
       "       [ 0.84246649, -1.34419751,  0.09991351, -0.19415727],\n",
       "       [ 0.84246649,  0.74393829, -0.18876436, -0.49092056],\n",
       "       [-0.35140802, -1.34419751,  0.17208298, -0.23764487]])"
      ]
     },
     "execution_count": 36,
     "metadata": {},
     "output_type": "execute_result"
    }
   ],
   "source": [
    "train_Features[355:359]"
   ]
  },
  {
   "cell_type": "code",
   "execution_count": 37,
   "metadata": {
    "collapsed": false
   },
   "outputs": [
    {
     "data": {
      "text/plain": [
       "array([1., 0., 0., 0.])"
      ]
     },
     "execution_count": 37,
     "metadata": {},
     "output_type": "execute_result"
    }
   ],
   "source": [
    "train_Label[:4]"
   ]
  },
  {
   "cell_type": "code",
   "execution_count": 38,
   "metadata": {
    "collapsed": false
   },
   "outputs": [
    {
     "data": {
      "text/plain": [
       "(262, 4)"
      ]
     },
     "execution_count": 38,
     "metadata": {},
     "output_type": "execute_result"
    }
   ],
   "source": [
    "test_Features.shape"
   ]
  },
  {
   "cell_type": "code",
   "execution_count": 39,
   "metadata": {
    "collapsed": false
   },
   "outputs": [
    {
     "data": {
      "text/plain": [
       "(262,)"
      ]
     },
     "execution_count": 39,
     "metadata": {},
     "output_type": "execute_result"
    }
   ],
   "source": [
    "test_Label.shape"
   ]
  },
  {
   "cell_type": "code",
   "execution_count": 40,
   "metadata": {
    "collapsed": false
   },
   "outputs": [
    {
     "data": {
      "text/plain": [
       "(1046, 4)"
      ]
     },
     "execution_count": 40,
     "metadata": {},
     "output_type": "execute_result"
    }
   ],
   "source": [
    "train_Features.shape"
   ]
  },
  {
   "cell_type": "code",
   "execution_count": 41,
   "metadata": {
    "collapsed": false
   },
   "outputs": [],
   "source": [
    "train_Features = train_Features.reshape((train_Features.shape[0], train_Features.shape[1], 1))"
   ]
  },
  {
   "cell_type": "code",
   "execution_count": 42,
   "metadata": {
    "collapsed": true
   },
   "outputs": [],
   "source": [
    "test_Features = test_Features.reshape((test_Features.shape[0], test_Features.shape[1], 1))"
   ]
  },
  {
   "cell_type": "code",
   "execution_count": 43,
   "metadata": {
    "collapsed": false
   },
   "outputs": [
    {
     "data": {
      "text/plain": [
       "(1046, 4, 1)"
      ]
     },
     "execution_count": 43,
     "metadata": {},
     "output_type": "execute_result"
    }
   ],
   "source": [
    "train_Features.shape"
   ]
  },
  {
   "cell_type": "code",
   "execution_count": 44,
   "metadata": {
    "collapsed": false
   },
   "outputs": [],
   "source": [
    "from keras.models import Sequential\n",
    "from keras.layers import Dense,Dropout,Flatten,Conv1D,MaxPooling1D\n",
    "from keras.layers.embeddings import Embedding\n",
    "from keras.callbacks import EarlyStopping\n",
    "early_stopping = EarlyStopping(monitor='val_loss', patience=2)"
   ]
  },
  {
   "cell_type": "code",
   "execution_count": 45,
   "metadata": {
    "collapsed": false
   },
   "outputs": [],
   "source": [
    "model = Sequential()"
   ]
  },
  {
   "cell_type": "code",
   "execution_count": 46,
   "metadata": {
    "collapsed": true
   },
   "outputs": [],
   "source": [
    "model.add(Conv1D(filters=12*2,\n",
    "                 kernel_size=1,\n",
    "                 padding='valid',\n",
    "                 input_shape=(4,1), \n",
    "                 activation='relu'))"
   ]
  },
  {
   "cell_type": "code",
   "execution_count": 47,
   "metadata": {
    "collapsed": true
   },
   "outputs": [],
   "source": [
    "model.add(MaxPooling1D(pool_size=1))"
   ]
  },
  {
   "cell_type": "code",
   "execution_count": 48,
   "metadata": {
    "collapsed": false
   },
   "outputs": [],
   "source": [
    "model.add(Conv1D(filters=12,\n",
    "                 kernel_size=1,\n",
    "                 padding='valid',\n",
    "                 activation='relu'))"
   ]
  },
  {
   "cell_type": "code",
   "execution_count": 49,
   "metadata": {
    "collapsed": true
   },
   "outputs": [],
   "source": [
    "model.add(MaxPooling1D(pool_size=1))"
   ]
  },
  {
   "cell_type": "code",
   "execution_count": 50,
   "metadata": {
    "collapsed": true
   },
   "outputs": [],
   "source": [
    "model.add(Flatten())"
   ]
  },
  {
   "cell_type": "code",
   "execution_count": 51,
   "metadata": {
    "collapsed": true
   },
   "outputs": [],
   "source": [
    "model.add(Dense(4, activation='tanh'))"
   ]
  },
  {
   "cell_type": "code",
   "execution_count": 52,
   "metadata": {
    "collapsed": true
   },
   "outputs": [],
   "source": [
    "model.add(Dense(1,activation='sigmoid'))"
   ]
  },
  {
   "cell_type": "code",
   "execution_count": 53,
   "metadata": {
    "collapsed": false
   },
   "outputs": [
    {
     "name": "stdout",
     "output_type": "stream",
     "text": [
      "_________________________________________________________________\n",
      "Layer (type)                 Output Shape              Param #   \n",
      "=================================================================\n",
      "conv1d_3 (Conv1D)            (None, 4, 24)             48        \n",
      "_________________________________________________________________\n",
      "max_pooling1d_3 (MaxPooling1 (None, 4, 24)             0         \n",
      "_________________________________________________________________\n",
      "conv1d_4 (Conv1D)            (None, 4, 12)             300       \n",
      "_________________________________________________________________\n",
      "max_pooling1d_4 (MaxPooling1 (None, 4, 12)             0         \n",
      "_________________________________________________________________\n",
      "flatten_2 (Flatten)          (None, 48)                0         \n",
      "_________________________________________________________________\n",
      "dense_3 (Dense)              (None, 4)                 196       \n",
      "_________________________________________________________________\n",
      "dense_4 (Dense)              (None, 1)                 5         \n",
      "=================================================================\n",
      "Total params: 549\n",
      "Trainable params: 549\n",
      "Non-trainable params: 0\n",
      "_________________________________________________________________\n"
     ]
    }
   ],
   "source": [
    "model.summary()"
   ]
  },
  {
   "cell_type": "code",
   "execution_count": 54,
   "metadata": {
    "collapsed": false
   },
   "outputs": [],
   "source": [
    "model.compile(loss='binary_crossentropy', \n",
    "              optimizer='adam', metrics=['accuracy'])"
   ]
  },
  {
   "cell_type": "code",
   "execution_count": 55,
   "metadata": {
    "collapsed": false
   },
   "outputs": [
    {
     "name": "stdout",
     "output_type": "stream",
     "text": [
      "Train on 836 samples, validate on 210 samples\n",
      "Epoch 1/30\n",
      "836/836 [==============================] - 1s 1ms/step - loss: 0.6518 - acc: 0.6400 - val_loss: 0.6197 - val_acc: 0.6810\n",
      "Epoch 2/30\n",
      "836/836 [==============================] - 0s 271us/step - loss: 0.5938 - acc: 0.6986 - val_loss: 0.5752 - val_acc: 0.7333\n",
      "Epoch 3/30\n",
      "836/836 [==============================] - 0s 360us/step - loss: 0.5515 - acc: 0.7428 - val_loss: 0.5448 - val_acc: 0.7571\n",
      "Epoch 4/30\n",
      "836/836 [==============================] - 0s 358us/step - loss: 0.5168 - acc: 0.7644 - val_loss: 0.5226 - val_acc: 0.7476\n",
      "Epoch 5/30\n",
      "836/836 [==============================] - 0s 308us/step - loss: 0.4941 - acc: 0.7775 - val_loss: 0.5106 - val_acc: 0.7619\n",
      "Epoch 6/30\n",
      "836/836 [==============================] - 0s 265us/step - loss: 0.4805 - acc: 0.7739 - val_loss: 0.5083 - val_acc: 0.7429\n",
      "Epoch 7/30\n",
      "836/836 [==============================] - 0s 375us/step - loss: 0.4747 - acc: 0.7775 - val_loss: 0.5039 - val_acc: 0.7571\n",
      "Epoch 8/30\n",
      "836/836 [==============================] - 0s 323us/step - loss: 0.4710 - acc: 0.7799 - val_loss: 0.5005 - val_acc: 0.7619\n",
      "Epoch 9/30\n",
      "836/836 [==============================] - 0s 293us/step - loss: 0.4692 - acc: 0.7823 - val_loss: 0.4993 - val_acc: 0.7619\n",
      "Epoch 10/30\n",
      "836/836 [==============================] - 0s 267us/step - loss: 0.4670 - acc: 0.7859 - val_loss: 0.4972 - val_acc: 0.7524\n",
      "Epoch 11/30\n",
      "836/836 [==============================] - 0s 257us/step - loss: 0.4660 - acc: 0.7847 - val_loss: 0.4956 - val_acc: 0.7524\n",
      "Epoch 12/30\n",
      "836/836 [==============================] - 0s 258us/step - loss: 0.4646 - acc: 0.7943 - val_loss: 0.4950 - val_acc: 0.7524\n",
      "Epoch 13/30\n",
      "836/836 [==============================] - 0s 261us/step - loss: 0.4651 - acc: 0.7847 - val_loss: 0.4933 - val_acc: 0.7524\n",
      "Epoch 14/30\n",
      "836/836 [==============================] - 0s 328us/step - loss: 0.4617 - acc: 0.7895 - val_loss: 0.4938 - val_acc: 0.7524\n",
      "Epoch 15/30\n",
      "836/836 [==============================] - 0s 348us/step - loss: 0.4613 - acc: 0.7895 - val_loss: 0.4917 - val_acc: 0.7524\n",
      "Epoch 16/30\n",
      "836/836 [==============================] - 0s 325us/step - loss: 0.4605 - acc: 0.7835 - val_loss: 0.4921 - val_acc: 0.7476\n",
      "Epoch 17/30\n",
      "836/836 [==============================] - 0s 278us/step - loss: 0.4600 - acc: 0.7955 - val_loss: 0.4908 - val_acc: 0.7524\n",
      "Epoch 18/30\n",
      "836/836 [==============================] - 0s 294us/step - loss: 0.4605 - acc: 0.7883 - val_loss: 0.4910 - val_acc: 0.7524\n",
      "Epoch 19/30\n",
      "836/836 [==============================] - 0s 345us/step - loss: 0.4586 - acc: 0.7943 - val_loss: 0.4876 - val_acc: 0.7524\n",
      "Epoch 20/30\n",
      "836/836 [==============================] - 0s 330us/step - loss: 0.4581 - acc: 0.7978 - val_loss: 0.4891 - val_acc: 0.7571\n",
      "Epoch 21/30\n",
      "836/836 [==============================] - 0s 334us/step - loss: 0.4607 - acc: 0.7835 - val_loss: 0.4875 - val_acc: 0.7524\n",
      "Epoch 22/30\n",
      "836/836 [==============================] - 0s 299us/step - loss: 0.4560 - acc: 0.7978 - val_loss: 0.4851 - val_acc: 0.7571\n",
      "Epoch 23/30\n",
      "836/836 [==============================] - 0s 357us/step - loss: 0.4557 - acc: 0.7943 - val_loss: 0.4855 - val_acc: 0.7524\n",
      "Epoch 24/30\n",
      "836/836 [==============================] - 0s 377us/step - loss: 0.4557 - acc: 0.7990 - val_loss: 0.4850 - val_acc: 0.7524\n",
      "Epoch 25/30\n",
      "836/836 [==============================] - 0s 327us/step - loss: 0.4548 - acc: 0.7955 - val_loss: 0.4845 - val_acc: 0.7524\n",
      "Epoch 26/30\n",
      "836/836 [==============================] - 0s 255us/step - loss: 0.4544 - acc: 0.7967 - val_loss: 0.4836 - val_acc: 0.7524\n",
      "Epoch 27/30\n",
      "836/836 [==============================] - 0s 270us/step - loss: 0.4538 - acc: 0.7978 - val_loss: 0.4829 - val_acc: 0.7524\n",
      "Epoch 28/30\n",
      "836/836 [==============================] - 0s 323us/step - loss: 0.4541 - acc: 0.7907 - val_loss: 0.4820 - val_acc: 0.7524\n",
      "Epoch 29/30\n",
      "836/836 [==============================] - 0s 300us/step - loss: 0.4541 - acc: 0.7919 - val_loss: 0.4824 - val_acc: 0.7524\n",
      "Epoch 30/30\n",
      "836/836 [==============================] - 0s 333us/step - loss: 0.4527 - acc: 0.7978 - val_loss: 0.4809 - val_acc: 0.7571\n"
     ]
    }
   ],
   "source": [
    "train_history =model.fit(x=train_Features, \n",
    "                         y=train_Label, \n",
    "                         validation_split=0.2, \n",
    "                         epochs=30, \n",
    "                         batch_size=30,verbose=1,callbacks=[early_stopping])"
   ]
  },
  {
   "cell_type": "code",
   "execution_count": 56,
   "metadata": {
    "collapsed": true
   },
   "outputs": [],
   "source": [
    "import matplotlib.pyplot as plt\n",
    "def show_train_history(train_history,train,validation):\n",
    "    plt.plot(train_history.history[train])\n",
    "    plt.plot(train_history.history[validation])\n",
    "    plt.title('Train History')\n",
    "    plt.ylabel(train)\n",
    "    plt.xlabel('Epoch')\n",
    "    plt.legend(['train', 'validation'], loc='upper left')\n",
    "    plt.show()"
   ]
  },
  {
   "cell_type": "code",
   "execution_count": 57,
   "metadata": {
    "collapsed": false
   },
   "outputs": [
    {
     "data": {
      "image/png": "[encoded data removed]",
      "text/plain": [
       "<matplotlib.figure.Figure at 0x7f66a4832a90>"
      ]
     },
     "metadata": {},
     "output_type": "display_data"
    }
   ],
   "source": [
    "show_train_history(train_history,'acc','val_acc')"
   ]
  },
  {
   "cell_type": "code",
   "execution_count": 58,
   "metadata": {
    "collapsed": false
   },
   "outputs": [
    {
     "data": {
      "image/png": "[encoded data removed]",
      "text/plain": [
       "<matplotlib.figure.Figure at 0x7f66a4832a20>"
      ]
     },
     "metadata": {},
     "output_type": "display_data"
    }
   ],
   "source": [
    "show_train_history(train_history,'loss','val_loss')"
   ]
  },
  {
   "cell_type": "code",
   "execution_count": 59,
   "metadata": {
    "collapsed": false
   },
   "outputs": [
    {
     "name": "stdout",
     "output_type": "stream",
     "text": [
      "262/262 [==============================] - 0s 70us/step\n"
     ]
    }
   ],
   "source": [
    "scores = model.evaluate(x=test_Features, \n",
    "                        y=test_Label)"
   ]
  },
  {
   "cell_type": "code",
   "execution_count": 60,
   "metadata": {
    "collapsed": false
   },
   "outputs": [
    {
     "data": {
      "text/plain": [
       "0.8053435109953844"
      ]
     },
     "execution_count": 60,
     "metadata": {},
     "output_type": "execute_result"
    }
   ],
   "source": [
    "scores[1]"
   ]
  }
 ],
 "metadata": {
  "anaconda-cloud": {},
  "kernelspec": {
   "display_name": "Python [conda root]",
   "language": "python",
   "name": "conda-root-py"
  },
  "language_info": {
   "codemirror_mode": {
    "name": "ipython",
    "version": 3
   },
   "file_extension": ".py",
   "mimetype": "text/x-python",
   "name": "python",
   "nbconvert_exporter": "python",
   "pygments_lexer": "ipython3",
   "version": "3.5.2"
  }
 },
 "nbformat": 4,
 "nbformat_minor": 1
}
