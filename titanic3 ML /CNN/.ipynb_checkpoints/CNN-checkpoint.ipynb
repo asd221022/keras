{
 "cells": [
  {
   "cell_type": "code",
   "execution_count": 63,
   "metadata": {
    "collapsed": true,
    "slideshow": {
     "slide_type": "-"
    }
   },
   "outputs": [],
   "source": [
    "import numpy\n",
    "import pandas as pd\n",
    "from sklearn.preprocessing import StandardScaler\n",
    "from sklearn.model_selection import train_test_split\n",
    "numpy.random.seed(10)"
   ]
  },
  {
   "cell_type": "code",
   "execution_count": 64,
   "metadata": {
    "collapsed": false
   },
   "outputs": [],
   "source": [
    "all_df = pd.read_csv(\"titanic.csv\")"
   ]
  },
  {
   "cell_type": "code",
   "execution_count": 65,
   "metadata": {
    "collapsed": false
   },
   "outputs": [],
   "source": [
    "cols=['survived','pclass' ,'sex', 'age',\n",
    "       'fare',]\n",
    "df=all_df[cols]\n",
    "df.isnull().sum()\n",
    "df=df.values"
   ]
  },
  {
   "cell_type": "code",
   "execution_count": 66,
   "metadata": {
    "collapsed": false
   },
   "outputs": [
    {
     "data": {
      "text/plain": [
       "array([[  1.    ,   0.    ,  29.    , 211.3375],\n",
       "       [  1.    ,   1.    ,   0.9167, 151.55  ],\n",
       "       [  1.    ,   0.    ,   2.    , 151.55  ],\n",
       "       [  1.    ,   1.    ,  30.    , 151.55  ],\n",
       "       [  1.    ,   0.    ,  25.    , 151.55  ]])"
      ]
     },
     "execution_count": 66,
     "metadata": {},
     "output_type": "execute_result"
    }
   ],
   "source": [
    "X = df[:,1:]\n",
    "Y = df[:,0]\n",
    "X[:5]"
   ]
  },
  {
   "cell_type": "code",
   "execution_count": 67,
   "metadata": {
    "collapsed": false
   },
   "outputs": [
    {
     "data": {
      "text/plain": [
       "1046"
      ]
     },
     "execution_count": 67,
     "metadata": {},
     "output_type": "execute_result"
    }
   ],
   "source": [
    " X = StandardScaler().fit_transform(X)\n",
    "train_Features, test_Features, train_Label, test_Label = train_test_split(X, Y, test_size=0.2, random_state=True) \n",
    "len(train_Features)"
   ]
  },
  {
   "cell_type": "code",
   "execution_count": 68,
   "metadata": {
    "collapsed": false
   },
   "outputs": [
    {
     "data": {
      "text/plain": [
       "array([[ 0.84246649, -1.34419751,  0.8216082 , -0.46039806],\n",
       "       [ 0.84246649, -1.34419751,  0.09991351, -0.19415727],\n",
       "       [ 0.84246649,  0.74393829, -0.18876436, -0.49092056],\n",
       "       [-0.35140802, -1.34419751,  0.17208298, -0.23764487]])"
      ]
     },
     "execution_count": 68,
     "metadata": {},
     "output_type": "execute_result"
    }
   ],
   "source": [
    "train_Features[355:359]"
   ]
  },
  {
   "cell_type": "code",
   "execution_count": 69,
   "metadata": {
    "collapsed": false
   },
   "outputs": [
    {
     "data": {
      "text/plain": [
       "array([1., 0., 0., 0.])"
      ]
     },
     "execution_count": 69,
     "metadata": {},
     "output_type": "execute_result"
    }
   ],
   "source": [
    "train_Label[:4]"
   ]
  },
  {
   "cell_type": "code",
   "execution_count": 70,
   "metadata": {
    "collapsed": false
   },
   "outputs": [
    {
     "data": {
      "text/plain": [
       "(262, 4)"
      ]
     },
     "execution_count": 70,
     "metadata": {},
     "output_type": "execute_result"
    }
   ],
   "source": [
    "test_Features.shape"
   ]
  },
  {
   "cell_type": "code",
   "execution_count": 71,
   "metadata": {
    "collapsed": false
   },
   "outputs": [
    {
     "data": {
      "text/plain": [
       "(262,)"
      ]
     },
     "execution_count": 71,
     "metadata": {},
     "output_type": "execute_result"
    }
   ],
   "source": [
    "test_Label.shape"
   ]
  },
  {
   "cell_type": "code",
   "execution_count": 72,
   "metadata": {
    "collapsed": false
   },
   "outputs": [
    {
     "data": {
      "text/plain": [
       "(1046, 4)"
      ]
     },
     "execution_count": 72,
     "metadata": {},
     "output_type": "execute_result"
    }
   ],
   "source": [
    "train_Features.shape"
   ]
  },
  {
   "cell_type": "code",
   "execution_count": 73,
   "metadata": {
    "collapsed": false
   },
   "outputs": [],
   "source": [
    "train_Features = train_Features.reshape((train_Features.shape[0], train_Features.shape[1], 1))"
   ]
  },
  {
   "cell_type": "code",
   "execution_count": 74,
   "metadata": {
    "collapsed": true
   },
   "outputs": [],
   "source": [
    "test_Features = test_Features.reshape((test_Features.shape[0], test_Features.shape[1], 1))"
   ]
  },
  {
   "cell_type": "code",
   "execution_count": 75,
   "metadata": {
    "collapsed": false
   },
   "outputs": [
    {
     "data": {
      "text/plain": [
       "(1046, 4, 1)"
      ]
     },
     "execution_count": 75,
     "metadata": {},
     "output_type": "execute_result"
    }
   ],
   "source": [
    "train_Features.shape"
   ]
  },
  {
   "cell_type": "code",
   "execution_count": 76,
   "metadata": {
    "collapsed": false
   },
   "outputs": [],
   "source": [
    "from keras.models import Sequential\n",
    "from keras.layers import Dense,Dropout,Flatten,Conv1D,MaxPooling1D\n",
    "from keras.layers.embeddings import Embedding\n",
    "from keras.callbacks import EarlyStopping\n",
    "early_stopping = EarlyStopping(monitor='val_loss', patience=2)"
   ]
  },
  {
   "cell_type": "code",
   "execution_count": 77,
   "metadata": {
    "collapsed": false
   },
   "outputs": [],
   "source": [
    "model = Sequential()"
   ]
  },
  {
   "cell_type": "code",
   "execution_count": 78,
   "metadata": {
    "collapsed": false
   },
   "outputs": [],
   "source": [
    "model.add(Conv1D(filters=4,\n",
    "                 kernel_size=3,\n",
    "                 padding='valid',\n",
    "                 input_shape=(4,1), \n",
    "                 activation='relu'))"
   ]
  },
  {
   "cell_type": "code",
   "execution_count": 79,
   "metadata": {
    "collapsed": true
   },
   "outputs": [],
   "source": [
    "model.add(MaxPooling1D(pool_size=1))"
   ]
  },
  {
   "cell_type": "code",
   "execution_count": 80,
   "metadata": {
    "collapsed": true
   },
   "outputs": [],
   "source": [
    "model.add(Flatten())"
   ]
  },
  {
   "cell_type": "code",
   "execution_count": 81,
   "metadata": {
    "collapsed": true
   },
   "outputs": [],
   "source": [
    "model.add(Dense(4, activation='tanh'))"
   ]
  },
  {
   "cell_type": "code",
   "execution_count": 82,
   "metadata": {
    "collapsed": true
   },
   "outputs": [],
   "source": [
    "model.add(Dense(1,activation='sigmoid'))"
   ]
  },
  {
   "cell_type": "code",
   "execution_count": 83,
   "metadata": {
    "collapsed": false
   },
   "outputs": [
    {
     "name": "stdout",
     "output_type": "stream",
     "text": [
      "_________________________________________________________________\n",
      "Layer (type)                 Output Shape              Param #   \n",
      "=================================================================\n",
      "conv1d_2 (Conv1D)            (None, 2, 4)              16        \n",
      "_________________________________________________________________\n",
      "max_pooling1d_2 (MaxPooling1 (None, 2, 4)              0         \n",
      "_________________________________________________________________\n",
      "flatten_2 (Flatten)          (None, 8)                 0         \n",
      "_________________________________________________________________\n",
      "dense_3 (Dense)              (None, 4)                 36        \n",
      "_________________________________________________________________\n",
      "dense_4 (Dense)              (None, 1)                 5         \n",
      "=================================================================\n",
      "Total params: 57\n",
      "Trainable params: 57\n",
      "Non-trainable params: 0\n",
      "_________________________________________________________________\n"
     ]
    }
   ],
   "source": [
    "model.summary()"
   ]
  },
  {
   "cell_type": "code",
   "execution_count": 84,
   "metadata": {
    "collapsed": false
   },
   "outputs": [],
   "source": [
    "model.compile(loss='binary_crossentropy', \n",
    "              optimizer='adam', metrics=['accuracy'])"
   ]
  },
  {
   "cell_type": "code",
   "execution_count": 85,
   "metadata": {
    "collapsed": false
   },
   "outputs": [
    {
     "name": "stdout",
     "output_type": "stream",
     "text": [
      "Train on 836 samples, validate on 210 samples\n",
      "Epoch 1/30\n",
      "836/836 [==============================] - 2s 2ms/step - loss: 0.7537 - acc: 0.2871 - val_loss: 0.7229 - val_acc: 0.3429\n",
      "Epoch 2/30\n",
      "836/836 [==============================] - 0s 171us/step - loss: 0.7030 - acc: 0.4366 - val_loss: 0.6809 - val_acc: 0.6000\n",
      "Epoch 3/30\n",
      "836/836 [==============================] - 0s 234us/step - loss: 0.6664 - acc: 0.5897 - val_loss: 0.6545 - val_acc: 0.6286\n",
      "Epoch 4/30\n",
      "836/836 [==============================] - 0s 264us/step - loss: 0.6409 - acc: 0.6065 - val_loss: 0.6349 - val_acc: 0.6238\n",
      "Epoch 5/30\n",
      "836/836 [==============================] - 0s 290us/step - loss: 0.6202 - acc: 0.6519 - val_loss: 0.6207 - val_acc: 0.6714\n",
      "Epoch 6/30\n",
      "836/836 [==============================] - 0s 253us/step - loss: 0.6026 - acc: 0.7045 - val_loss: 0.6076 - val_acc: 0.6905\n",
      "Epoch 7/30\n",
      "836/836 [==============================] - 0s 262us/step - loss: 0.5868 - acc: 0.7333 - val_loss: 0.5967 - val_acc: 0.6952\n",
      "Epoch 8/30\n",
      "836/836 [==============================] - 0s 255us/step - loss: 0.5717 - acc: 0.7476 - val_loss: 0.5862 - val_acc: 0.6905\n",
      "Epoch 9/30\n",
      "836/836 [==============================] - 0s 253us/step - loss: 0.5585 - acc: 0.7440 - val_loss: 0.5778 - val_acc: 0.7048\n",
      "Epoch 10/30\n",
      "836/836 [==============================] - 0s 251us/step - loss: 0.5465 - acc: 0.7524 - val_loss: 0.5695 - val_acc: 0.7143\n",
      "Epoch 11/30\n",
      "836/836 [==============================] - 0s 231us/step - loss: 0.5359 - acc: 0.7608 - val_loss: 0.5611 - val_acc: 0.7333\n",
      "Epoch 12/30\n",
      "836/836 [==============================] - 0s 238us/step - loss: 0.5258 - acc: 0.7691 - val_loss: 0.5534 - val_acc: 0.7524\n",
      "Epoch 13/30\n",
      "836/836 [==============================] - 0s 247us/step - loss: 0.5171 - acc: 0.7739 - val_loss: 0.5457 - val_acc: 0.7476\n",
      "Epoch 14/30\n",
      "836/836 [==============================] - 0s 247us/step - loss: 0.5092 - acc: 0.7775 - val_loss: 0.5390 - val_acc: 0.7571\n",
      "Epoch 15/30\n",
      "836/836 [==============================] - 0s 269us/step - loss: 0.5018 - acc: 0.7799 - val_loss: 0.5324 - val_acc: 0.7571\n",
      "Epoch 16/30\n",
      "836/836 [==============================] - 0s 268us/step - loss: 0.4957 - acc: 0.7811 - val_loss: 0.5270 - val_acc: 0.7571\n",
      "Epoch 17/30\n",
      "836/836 [==============================] - 0s 274us/step - loss: 0.4902 - acc: 0.7859 - val_loss: 0.5228 - val_acc: 0.7571\n",
      "Epoch 18/30\n",
      "836/836 [==============================] - 0s 314us/step - loss: 0.4856 - acc: 0.7823 - val_loss: 0.5187 - val_acc: 0.7524\n",
      "Epoch 19/30\n",
      "836/836 [==============================] - 0s 298us/step - loss: 0.4820 - acc: 0.7799 - val_loss: 0.5156 - val_acc: 0.7524\n",
      "Epoch 20/30\n",
      "836/836 [==============================] - 0s 494us/step - loss: 0.4785 - acc: 0.7787 - val_loss: 0.5119 - val_acc: 0.7571\n",
      "Epoch 21/30\n",
      "836/836 [==============================] - 0s 315us/step - loss: 0.4755 - acc: 0.7799 - val_loss: 0.5087 - val_acc: 0.7571\n",
      "Epoch 22/30\n",
      "836/836 [==============================] - 0s 285us/step - loss: 0.4729 - acc: 0.7799 - val_loss: 0.5066 - val_acc: 0.7571\n",
      "Epoch 23/30\n",
      "836/836 [==============================] - 0s 379us/step - loss: 0.4708 - acc: 0.7823 - val_loss: 0.5045 - val_acc: 0.7524\n",
      "Epoch 24/30\n",
      "836/836 [==============================] - 0s 267us/step - loss: 0.4686 - acc: 0.7871 - val_loss: 0.5026 - val_acc: 0.7619\n",
      "Epoch 25/30\n",
      "836/836 [==============================] - 0s 299us/step - loss: 0.4670 - acc: 0.7883 - val_loss: 0.5012 - val_acc: 0.7571\n",
      "Epoch 26/30\n",
      "836/836 [==============================] - 0s 321us/step - loss: 0.4655 - acc: 0.7883 - val_loss: 0.4992 - val_acc: 0.7619\n",
      "Epoch 27/30\n",
      "836/836 [==============================] - 0s 313us/step - loss: 0.4641 - acc: 0.7895 - val_loss: 0.4975 - val_acc: 0.7619\n",
      "Epoch 28/30\n",
      "836/836 [==============================] - 0s 278us/step - loss: 0.4626 - acc: 0.7883 - val_loss: 0.4965 - val_acc: 0.7571\n",
      "Epoch 29/30\n",
      "836/836 [==============================] - 0s 278us/step - loss: 0.4617 - acc: 0.7883 - val_loss: 0.4956 - val_acc: 0.7571\n",
      "Epoch 30/30\n",
      "836/836 [==============================] - 0s 263us/step - loss: 0.4609 - acc: 0.7871 - val_loss: 0.4941 - val_acc: 0.7571\n"
     ]
    }
   ],
   "source": [
    "train_history =model.fit(x=train_Features, \n",
    "                         y=train_Label, \n",
    "                         validation_split=0.2, \n",
    "                         epochs=30, \n",
    "                         batch_size=30,verbose=1,callbacks=[early_stopping])"
   ]
  },
  {
   "cell_type": "code",
   "execution_count": 86,
   "metadata": {
    "collapsed": true
   },
   "outputs": [],
   "source": [
    "import matplotlib.pyplot as plt\n",
    "def show_train_history(train_history,train,validation):\n",
    "    plt.plot(train_history.history[train])\n",
    "    plt.plot(train_history.history[validation])\n",
    "    plt.title('Train History')\n",
    "    plt.ylabel(train)\n",
    "    plt.xlabel('Epoch')\n",
    "    plt.legend(['train', 'validation'], loc='upper left')\n",
    "    plt.show()"
   ]
  },
  {
   "cell_type": "code",
   "execution_count": 87,
   "metadata": {
    "collapsed": false
   },
   "outputs": [
    {
     "data": {
      "image/png": "[encoded data removed]",
      "text/plain": [
       "<matplotlib.figure.Figure at 0x7f69e5a4bef0>"
      ]
     },
     "metadata": {},
     "output_type": "display_data"
    }
   ],
   "source": [
    "show_train_history(train_history,'acc','val_acc')"
   ]
  },
  {
   "cell_type": "code",
   "execution_count": 88,
   "metadata": {
    "collapsed": false
   },
   "outputs": [
    {
     "data": {
      "image/png": "[encoded data removed]",
      "text/plain": [
       "<matplotlib.figure.Figure at 0x7f69e4fb47b8>"
      ]
     },
     "metadata": {},
     "output_type": "display_data"
    }
   ],
   "source": [
    "show_train_history(train_history,'loss','val_loss')"
   ]
  },
  {
   "cell_type": "code",
   "execution_count": 89,
   "metadata": {
    "collapsed": false
   },
   "outputs": [
    {
     "name": "stdout",
     "output_type": "stream",
     "text": [
      "262/262 [==============================] - 0s 97us/step\n"
     ]
    }
   ],
   "source": [
    "scores = model.evaluate(x=test_Features, \n",
    "                        y=test_Label)"
   ]
  },
  {
   "cell_type": "code",
   "execution_count": 90,
   "metadata": {
    "collapsed": false
   },
   "outputs": [
    {
     "data": {
      "text/plain": [
       "0.7938931293159951"
      ]
     },
     "execution_count": 90,
     "metadata": {},
     "output_type": "execute_result"
    }
   ],
   "source": [
    "scores[1]"
   ]
  }
 ],
 "metadata": {
  "anaconda-cloud": {},
  "kernelspec": {
   "display_name": "Python [conda root]",
   "language": "python",
   "name": "conda-root-py"
  },
  "language_info": {
   "codemirror_mode": {
    "name": "ipython",
    "version": 3
   },
   "file_extension": ".py",
   "mimetype": "text/x-python",
   "name": "python",
   "nbconvert_exporter": "python",
   "pygments_lexer": "ipython3",
   "version": "3.5.2"
  }
 },
 "nbformat": 4,
 "nbformat_minor": 1
}
