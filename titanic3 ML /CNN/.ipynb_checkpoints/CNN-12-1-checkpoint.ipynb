{
 "cells": [
  {
   "cell_type": "code",
   "execution_count": 1,
   "metadata": {
    "collapsed": true,
    "slideshow": {
     "slide_type": "-"
    }
   },
   "outputs": [],
   "source": [
    "import numpy\n",
    "import pandas as pd\n",
    "from sklearn.preprocessing import StandardScaler\n",
    "from sklearn.model_selection import train_test_split\n",
    "numpy.random.seed(10)"
   ]
  },
  {
   "cell_type": "code",
   "execution_count": 2,
   "metadata": {
    "collapsed": false
   },
   "outputs": [],
   "source": [
    "all_df = pd.read_csv(\"titanic.csv\")"
   ]
  },
  {
   "cell_type": "code",
   "execution_count": 3,
   "metadata": {
    "collapsed": false
   },
   "outputs": [],
   "source": [
    "cols=['survived','pclass' ,'sex', 'age',\n",
    "       'fare',]\n",
    "df=all_df[cols]\n",
    "df.isnull().sum()\n",
    "df=df.values"
   ]
  },
  {
   "cell_type": "code",
   "execution_count": 4,
   "metadata": {
    "collapsed": false
   },
   "outputs": [
    {
     "data": {
      "text/plain": [
       "array([[  1.    ,   0.    ,  29.    , 211.3375],\n",
       "       [  1.    ,   1.    ,   0.9167, 151.55  ],\n",
       "       [  1.    ,   0.    ,   2.    , 151.55  ],\n",
       "       [  1.    ,   1.    ,  30.    , 151.55  ],\n",
       "       [  1.    ,   0.    ,  25.    , 151.55  ]])"
      ]
     },
     "execution_count": 4,
     "metadata": {},
     "output_type": "execute_result"
    }
   ],
   "source": [
    "X = df[:,1:]\n",
    "Y = df[:,0]\n",
    "X[:5]"
   ]
  },
  {
   "cell_type": "code",
   "execution_count": 5,
   "metadata": {
    "collapsed": false
   },
   "outputs": [
    {
     "data": {
      "text/plain": [
       "1046"
      ]
     },
     "execution_count": 5,
     "metadata": {},
     "output_type": "execute_result"
    }
   ],
   "source": [
    " X = StandardScaler().fit_transform(X)\n",
    "train_Features, test_Features, train_Label, test_Label = train_test_split(X, Y, test_size=0.2, random_state=True) \n",
    "len(train_Features)"
   ]
  },
  {
   "cell_type": "code",
   "execution_count": 6,
   "metadata": {
    "collapsed": false
   },
   "outputs": [
    {
     "data": {
      "text/plain": [
       "array([[ 0.84246649, -1.34419751,  0.8216082 , -0.46039806],\n",
       "       [ 0.84246649, -1.34419751,  0.09991351, -0.19415727],\n",
       "       [ 0.84246649,  0.74393829, -0.18876436, -0.49092056],\n",
       "       [-0.35140802, -1.34419751,  0.17208298, -0.23764487]])"
      ]
     },
     "execution_count": 6,
     "metadata": {},
     "output_type": "execute_result"
    }
   ],
   "source": [
    "train_Features[355:359]"
   ]
  },
  {
   "cell_type": "code",
   "execution_count": 7,
   "metadata": {
    "collapsed": false
   },
   "outputs": [
    {
     "data": {
      "text/plain": [
       "array([1., 0., 0., 0.])"
      ]
     },
     "execution_count": 7,
     "metadata": {},
     "output_type": "execute_result"
    }
   ],
   "source": [
    "train_Label[:4]"
   ]
  },
  {
   "cell_type": "code",
   "execution_count": 8,
   "metadata": {
    "collapsed": false
   },
   "outputs": [
    {
     "data": {
      "text/plain": [
       "(262, 4)"
      ]
     },
     "execution_count": 8,
     "metadata": {},
     "output_type": "execute_result"
    }
   ],
   "source": [
    "test_Features.shape"
   ]
  },
  {
   "cell_type": "code",
   "execution_count": 9,
   "metadata": {
    "collapsed": false
   },
   "outputs": [
    {
     "data": {
      "text/plain": [
       "(262,)"
      ]
     },
     "execution_count": 9,
     "metadata": {},
     "output_type": "execute_result"
    }
   ],
   "source": [
    "test_Label.shape"
   ]
  },
  {
   "cell_type": "code",
   "execution_count": 10,
   "metadata": {
    "collapsed": false
   },
   "outputs": [
    {
     "data": {
      "text/plain": [
       "(1046, 4)"
      ]
     },
     "execution_count": 10,
     "metadata": {},
     "output_type": "execute_result"
    }
   ],
   "source": [
    "train_Features.shape"
   ]
  },
  {
   "cell_type": "code",
   "execution_count": 11,
   "metadata": {
    "collapsed": false
   },
   "outputs": [],
   "source": [
    "train_Features = train_Features.reshape((train_Features.shape[0], train_Features.shape[1], 1))"
   ]
  },
  {
   "cell_type": "code",
   "execution_count": 12,
   "metadata": {
    "collapsed": true
   },
   "outputs": [],
   "source": [
    "test_Features = test_Features.reshape((test_Features.shape[0], test_Features.shape[1], 1))"
   ]
  },
  {
   "cell_type": "code",
   "execution_count": 13,
   "metadata": {
    "collapsed": false
   },
   "outputs": [
    {
     "data": {
      "text/plain": [
       "(1046, 4, 1)"
      ]
     },
     "execution_count": 13,
     "metadata": {},
     "output_type": "execute_result"
    }
   ],
   "source": [
    "train_Features.shape"
   ]
  },
  {
   "cell_type": "code",
   "execution_count": 14,
   "metadata": {
    "collapsed": false
   },
   "outputs": [
    {
     "name": "stderr",
     "output_type": "stream",
     "text": [
      "Using TensorFlow backend.\n"
     ]
    }
   ],
   "source": [
    "from keras.models import Sequential\n",
    "from keras.layers import Dense,Dropout,Flatten,Conv1D,MaxPooling1D\n",
    "from keras.layers.embeddings import Embedding\n",
    "from keras.callbacks import EarlyStopping\n",
    "early_stopping = EarlyStopping(monitor='val_loss', patience=2)"
   ]
  },
  {
   "cell_type": "code",
   "execution_count": 15,
   "metadata": {
    "collapsed": false
   },
   "outputs": [],
   "source": [
    "model = Sequential()"
   ]
  },
  {
   "cell_type": "code",
   "execution_count": 16,
   "metadata": {
    "collapsed": false
   },
   "outputs": [],
   "source": [
    "model.add(Conv1D(filters=12,\n",
    "                 kernel_size=1,\n",
    "                 padding='valid',\n",
    "                 input_shape=(4,1), \n",
    "                 activation='relu'))"
   ]
  },
  {
   "cell_type": "code",
   "execution_count": 17,
   "metadata": {
    "collapsed": true
   },
   "outputs": [],
   "source": [
    "model.add(MaxPooling1D(pool_size=1))"
   ]
  },
  {
   "cell_type": "code",
   "execution_count": 18,
   "metadata": {
    "collapsed": true
   },
   "outputs": [],
   "source": [
    "model.add(Flatten())"
   ]
  },
  {
   "cell_type": "code",
   "execution_count": 19,
   "metadata": {
    "collapsed": true
   },
   "outputs": [],
   "source": [
    "model.add(Dense(4, activation='tanh'))"
   ]
  },
  {
   "cell_type": "code",
   "execution_count": 20,
   "metadata": {
    "collapsed": true
   },
   "outputs": [],
   "source": [
    "model.add(Dense(1,activation='sigmoid'))"
   ]
  },
  {
   "cell_type": "code",
   "execution_count": 21,
   "metadata": {
    "collapsed": false
   },
   "outputs": [
    {
     "name": "stdout",
     "output_type": "stream",
     "text": [
      "_________________________________________________________________\n",
      "Layer (type)                 Output Shape              Param #   \n",
      "=================================================================\n",
      "conv1d_1 (Conv1D)            (None, 4, 12)             24        \n",
      "_________________________________________________________________\n",
      "max_pooling1d_1 (MaxPooling1 (None, 4, 12)             0         \n",
      "_________________________________________________________________\n",
      "flatten_1 (Flatten)          (None, 48)                0         \n",
      "_________________________________________________________________\n",
      "dense_1 (Dense)              (None, 4)                 196       \n",
      "_________________________________________________________________\n",
      "dense_2 (Dense)              (None, 1)                 5         \n",
      "=================================================================\n",
      "Total params: 225\n",
      "Trainable params: 225\n",
      "Non-trainable params: 0\n",
      "_________________________________________________________________\n"
     ]
    }
   ],
   "source": [
    "model.summary()"
   ]
  },
  {
   "cell_type": "code",
   "execution_count": 22,
   "metadata": {
    "collapsed": false
   },
   "outputs": [],
   "source": [
    "model.compile(loss='binary_crossentropy', \n",
    "              optimizer='adam', metrics=['accuracy'])"
   ]
  },
  {
   "cell_type": "code",
   "execution_count": 23,
   "metadata": {
    "collapsed": false
   },
   "outputs": [
    {
     "name": "stdout",
     "output_type": "stream",
     "text": [
      "Train on 836 samples, validate on 210 samples\n",
      "Epoch 1/30\n",
      "836/836 [==============================] - 2s 2ms/step - loss: 0.7467 - acc: 0.5275 - val_loss: 0.6860 - val_acc: 0.5952\n",
      "Epoch 2/30\n",
      "836/836 [==============================] - 0s 310us/step - loss: 0.6703 - acc: 0.6017 - val_loss: 0.6340 - val_acc: 0.6714\n",
      "Epoch 3/30\n",
      "836/836 [==============================] - 0s 235us/step - loss: 0.6139 - acc: 0.6663 - val_loss: 0.5952 - val_acc: 0.7333\n",
      "Epoch 4/30\n",
      "836/836 [==============================] - 0s 300us/step - loss: 0.5697 - acc: 0.7488 - val_loss: 0.5651 - val_acc: 0.7619\n",
      "Epoch 5/30\n",
      "836/836 [==============================] - 0s 175us/step - loss: 0.5357 - acc: 0.7632 - val_loss: 0.5439 - val_acc: 0.7429\n",
      "Epoch 6/30\n",
      "836/836 [==============================] - 0s 203us/step - loss: 0.5109 - acc: 0.7739 - val_loss: 0.5277 - val_acc: 0.7524\n",
      "Epoch 7/30\n",
      "836/836 [==============================] - 0s 337us/step - loss: 0.4954 - acc: 0.7811 - val_loss: 0.5186 - val_acc: 0.7429\n",
      "Epoch 8/30\n",
      "836/836 [==============================] - 0s 413us/step - loss: 0.4850 - acc: 0.7787 - val_loss: 0.5113 - val_acc: 0.7429\n",
      "Epoch 9/30\n",
      "836/836 [==============================] - 0s 132us/step - loss: 0.4779 - acc: 0.7811 - val_loss: 0.5088 - val_acc: 0.7429\n",
      "Epoch 10/30\n",
      "836/836 [==============================] - 0s 128us/step - loss: 0.4740 - acc: 0.7811 - val_loss: 0.5069 - val_acc: 0.7476\n",
      "Epoch 11/30\n",
      "836/836 [==============================] - 0s 219us/step - loss: 0.4708 - acc: 0.7823 - val_loss: 0.5048 - val_acc: 0.7476\n",
      "Epoch 12/30\n",
      "836/836 [==============================] - 0s 199us/step - loss: 0.4688 - acc: 0.7859 - val_loss: 0.5033 - val_acc: 0.7524\n",
      "Epoch 13/30\n",
      "836/836 [==============================] - 0s 125us/step - loss: 0.4667 - acc: 0.7871 - val_loss: 0.5014 - val_acc: 0.7476\n",
      "Epoch 14/30\n",
      "836/836 [==============================] - 0s 129us/step - loss: 0.4659 - acc: 0.7871 - val_loss: 0.4995 - val_acc: 0.7524\n",
      "Epoch 15/30\n",
      "836/836 [==============================] - 0s 187us/step - loss: 0.4646 - acc: 0.7871 - val_loss: 0.4983 - val_acc: 0.7667\n",
      "Epoch 16/30\n",
      "836/836 [==============================] - 0s 297us/step - loss: 0.4637 - acc: 0.7847 - val_loss: 0.4979 - val_acc: 0.7619\n",
      "Epoch 17/30\n",
      "836/836 [==============================] - 0s 156us/step - loss: 0.4623 - acc: 0.7883 - val_loss: 0.4967 - val_acc: 0.7667\n",
      "Epoch 18/30\n",
      "836/836 [==============================] - 0s 248us/step - loss: 0.4616 - acc: 0.7859 - val_loss: 0.4961 - val_acc: 0.7667\n",
      "Epoch 19/30\n",
      "836/836 [==============================] - 0s 135us/step - loss: 0.4612 - acc: 0.7847 - val_loss: 0.4963 - val_acc: 0.7667\n",
      "Epoch 20/30\n",
      "836/836 [==============================] - 0s 177us/step - loss: 0.4607 - acc: 0.7871 - val_loss: 0.4947 - val_acc: 0.7667\n",
      "Epoch 21/30\n",
      "836/836 [==============================] - 0s 321us/step - loss: 0.4599 - acc: 0.7871 - val_loss: 0.4931 - val_acc: 0.7619\n",
      "Epoch 22/30\n",
      "836/836 [==============================] - 0s 264us/step - loss: 0.4591 - acc: 0.7871 - val_loss: 0.4932 - val_acc: 0.7619\n",
      "Epoch 23/30\n",
      "836/836 [==============================] - 0s 216us/step - loss: 0.4587 - acc: 0.7883 - val_loss: 0.4923 - val_acc: 0.7571\n",
      "Epoch 24/30\n",
      "836/836 [==============================] - 0s 346us/step - loss: 0.4579 - acc: 0.7883 - val_loss: 0.4912 - val_acc: 0.7619\n",
      "Epoch 25/30\n",
      "836/836 [==============================] - 0s 243us/step - loss: 0.4576 - acc: 0.7883 - val_loss: 0.4913 - val_acc: 0.7667\n",
      "Epoch 26/30\n",
      "836/836 [==============================] - 0s 170us/step - loss: 0.4570 - acc: 0.7871 - val_loss: 0.4901 - val_acc: 0.7524\n",
      "Epoch 27/30\n",
      "836/836 [==============================] - 0s 262us/step - loss: 0.4563 - acc: 0.7859 - val_loss: 0.4894 - val_acc: 0.7571\n",
      "Epoch 28/30\n",
      "836/836 [==============================] - 0s 186us/step - loss: 0.4560 - acc: 0.7871 - val_loss: 0.4890 - val_acc: 0.7571\n",
      "Epoch 29/30\n",
      "836/836 [==============================] - 0s 134us/step - loss: 0.4561 - acc: 0.7871 - val_loss: 0.4890 - val_acc: 0.7619\n",
      "Epoch 30/30\n",
      "836/836 [==============================] - 0s 137us/step - loss: 0.4559 - acc: 0.7871 - val_loss: 0.4875 - val_acc: 0.7571\n"
     ]
    }
   ],
   "source": [
    "train_history =model.fit(x=train_Features, \n",
    "                         y=train_Label, \n",
    "                         validation_split=0.2, \n",
    "                         epochs=30, \n",
    "                         batch_size=30,verbose=1,callbacks=[early_stopping])"
   ]
  },
  {
   "cell_type": "code",
   "execution_count": 24,
   "metadata": {
    "collapsed": true
   },
   "outputs": [],
   "source": [
    "import matplotlib.pyplot as plt\n",
    "def show_train_history(train_history,train,validation):\n",
    "    plt.plot(train_history.history[train])\n",
    "    plt.plot(train_history.history[validation])\n",
    "    plt.title('Train History')\n",
    "    plt.ylabel(train)\n",
    "    plt.xlabel('Epoch')\n",
    "    plt.legend(['train', 'validation'], loc='upper left')\n",
    "    plt.show()"
   ]
  },
  {
   "cell_type": "code",
   "execution_count": 25,
   "metadata": {
    "collapsed": false
   },
   "outputs": [
    {
     "data": {
      "image/png": "[encoded data removed]",
      "text/plain": [
       "<matplotlib.figure.Figure at 0x7f8344718da0>"
      ]
     },
     "metadata": {},
     "output_type": "display_data"
    }
   ],
   "source": [
    "show_train_history(train_history,'acc','val_acc')"
   ]
  },
  {
   "cell_type": "code",
   "execution_count": 26,
   "metadata": {
    "collapsed": false
   },
   "outputs": [
    {
     "data": {
      "image/png": "[encoded data removed]",
      "text/plain": [
       "<matplotlib.figure.Figure at 0x7f83447406d8>"
      ]
     },
     "metadata": {},
     "output_type": "display_data"
    }
   ],
   "source": [
    "show_train_history(train_history,'loss','val_loss')"
   ]
  },
  {
   "cell_type": "code",
   "execution_count": 27,
   "metadata": {
    "collapsed": false
   },
   "outputs": [
    {
     "name": "stdout",
     "output_type": "stream",
     "text": [
      "262/262 [==============================] - 0s 98us/step\n"
     ]
    }
   ],
   "source": [
    "scores = model.evaluate(x=test_Features, \n",
    "                        y=test_Label)"
   ]
  },
  {
   "cell_type": "code",
   "execution_count": 28,
   "metadata": {
    "collapsed": false
   },
   "outputs": [
    {
     "data": {
      "text/plain": [
       "0.8091603048885142"
      ]
     },
     "execution_count": 28,
     "metadata": {},
     "output_type": "execute_result"
    }
   ],
   "source": [
    "scores[1]"
   ]
  }
 ],
 "metadata": {
  "anaconda-cloud": {},
  "kernelspec": {
   "display_name": "Python [conda root]",
   "language": "python",
   "name": "conda-root-py"
  },
  "language_info": {
   "codemirror_mode": {
    "name": "ipython",
    "version": 3
   },
   "file_extension": ".py",
   "mimetype": "text/x-python",
   "name": "python",
   "nbconvert_exporter": "python",
   "pygments_lexer": "ipython3",
   "version": "3.5.2"
  }
 },
 "nbformat": 4,
 "nbformat_minor": 1
}
