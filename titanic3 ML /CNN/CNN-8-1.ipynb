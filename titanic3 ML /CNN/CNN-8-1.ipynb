{
 "cells": [
  {
   "cell_type": "code",
   "execution_count": 1,
   "metadata": {
    "collapsed": true,
    "slideshow": {
     "slide_type": "-"
    }
   },
   "outputs": [],
   "source": [
    "import numpy\n",
    "import pandas as pd\n",
    "from sklearn.preprocessing import StandardScaler\n",
    "from sklearn.model_selection import train_test_split\n",
    "numpy.random.seed(10)"
   ]
  },
  {
   "cell_type": "code",
   "execution_count": 2,
   "metadata": {
    "collapsed": false
   },
   "outputs": [],
   "source": [
    "all_df = pd.read_csv(\"titanic.csv\")"
   ]
  },
  {
   "cell_type": "code",
   "execution_count": 3,
   "metadata": {
    "collapsed": false
   },
   "outputs": [],
   "source": [
    "cols=['survived','pclass' ,'sex', 'age',\n",
    "       'fare',]\n",
    "df=all_df[cols]\n",
    "df.isnull().sum()\n",
    "df=df.values"
   ]
  },
  {
   "cell_type": "code",
   "execution_count": 4,
   "metadata": {
    "collapsed": false
   },
   "outputs": [
    {
     "data": {
      "text/plain": [
       "array([[  1.    ,   0.    ,  29.    , 211.3375],\n",
       "       [  1.    ,   1.    ,   0.9167, 151.55  ],\n",
       "       [  1.    ,   0.    ,   2.    , 151.55  ],\n",
       "       [  1.    ,   1.    ,  30.    , 151.55  ],\n",
       "       [  1.    ,   0.    ,  25.    , 151.55  ]])"
      ]
     },
     "execution_count": 4,
     "metadata": {},
     "output_type": "execute_result"
    }
   ],
   "source": [
    "X = df[:,1:]\n",
    "Y = df[:,0]\n",
    "X[:5]"
   ]
  },
  {
   "cell_type": "code",
   "execution_count": 5,
   "metadata": {
    "collapsed": false
   },
   "outputs": [
    {
     "data": {
      "text/plain": [
       "1046"
      ]
     },
     "execution_count": 5,
     "metadata": {},
     "output_type": "execute_result"
    }
   ],
   "source": [
    " X = StandardScaler().fit_transform(X)\n",
    "train_Features, test_Features, train_Label, test_Label = train_test_split(X, Y, test_size=0.2, random_state=True) \n",
    "len(train_Features)"
   ]
  },
  {
   "cell_type": "code",
   "execution_count": 6,
   "metadata": {
    "collapsed": false
   },
   "outputs": [
    {
     "data": {
      "text/plain": [
       "array([[ 0.84246649, -1.34419751,  0.8216082 , -0.46039806],\n",
       "       [ 0.84246649, -1.34419751,  0.09991351, -0.19415727],\n",
       "       [ 0.84246649,  0.74393829, -0.18876436, -0.49092056],\n",
       "       [-0.35140802, -1.34419751,  0.17208298, -0.23764487]])"
      ]
     },
     "execution_count": 6,
     "metadata": {},
     "output_type": "execute_result"
    }
   ],
   "source": [
    "train_Features[355:359]"
   ]
  },
  {
   "cell_type": "code",
   "execution_count": 7,
   "metadata": {
    "collapsed": false
   },
   "outputs": [
    {
     "data": {
      "text/plain": [
       "array([1., 0., 0., 0.])"
      ]
     },
     "execution_count": 7,
     "metadata": {},
     "output_type": "execute_result"
    }
   ],
   "source": [
    "train_Label[:4]"
   ]
  },
  {
   "cell_type": "code",
   "execution_count": 8,
   "metadata": {
    "collapsed": false
   },
   "outputs": [
    {
     "data": {
      "text/plain": [
       "(262, 4)"
      ]
     },
     "execution_count": 8,
     "metadata": {},
     "output_type": "execute_result"
    }
   ],
   "source": [
    "test_Features.shape"
   ]
  },
  {
   "cell_type": "code",
   "execution_count": 9,
   "metadata": {
    "collapsed": false
   },
   "outputs": [
    {
     "data": {
      "text/plain": [
       "(262,)"
      ]
     },
     "execution_count": 9,
     "metadata": {},
     "output_type": "execute_result"
    }
   ],
   "source": [
    "test_Label.shape"
   ]
  },
  {
   "cell_type": "code",
   "execution_count": 10,
   "metadata": {
    "collapsed": false
   },
   "outputs": [
    {
     "data": {
      "text/plain": [
       "(1046, 4)"
      ]
     },
     "execution_count": 10,
     "metadata": {},
     "output_type": "execute_result"
    }
   ],
   "source": [
    "train_Features.shape"
   ]
  },
  {
   "cell_type": "code",
   "execution_count": 11,
   "metadata": {
    "collapsed": false
   },
   "outputs": [],
   "source": [
    "train_Features = train_Features.reshape((train_Features.shape[0], train_Features.shape[1], 1))"
   ]
  },
  {
   "cell_type": "code",
   "execution_count": 12,
   "metadata": {
    "collapsed": true
   },
   "outputs": [],
   "source": [
    "test_Features = test_Features.reshape((test_Features.shape[0], test_Features.shape[1], 1))"
   ]
  },
  {
   "cell_type": "code",
   "execution_count": 13,
   "metadata": {
    "collapsed": false
   },
   "outputs": [
    {
     "data": {
      "text/plain": [
       "(1046, 4, 1)"
      ]
     },
     "execution_count": 13,
     "metadata": {},
     "output_type": "execute_result"
    }
   ],
   "source": [
    "train_Features.shape"
   ]
  },
  {
   "cell_type": "code",
   "execution_count": 14,
   "metadata": {
    "collapsed": false
   },
   "outputs": [
    {
     "name": "stderr",
     "output_type": "stream",
     "text": [
      "Using TensorFlow backend.\n"
     ]
    }
   ],
   "source": [
    "from keras.models import Sequential\n",
    "from keras.layers import Dense,Dropout,Flatten,Conv1D,MaxPooling1D\n",
    "from keras.layers.embeddings import Embedding\n",
    "from keras.callbacks import EarlyStopping\n",
    "early_stopping = EarlyStopping(monitor='val_loss', patience=2)"
   ]
  },
  {
   "cell_type": "code",
   "execution_count": 15,
   "metadata": {
    "collapsed": false
   },
   "outputs": [],
   "source": [
    "model = Sequential()"
   ]
  },
  {
   "cell_type": "code",
   "execution_count": 16,
   "metadata": {
    "collapsed": false
   },
   "outputs": [],
   "source": [
    "model.add(Conv1D(filters=8,\n",
    "                 kernel_size=3,\n",
    "                 padding='valid',\n",
    "                 input_shape=(4,1), \n",
    "                 activation='relu'))"
   ]
  },
  {
   "cell_type": "code",
   "execution_count": 17,
   "metadata": {
    "collapsed": true
   },
   "outputs": [],
   "source": [
    "model.add(MaxPooling1D(pool_size=1))"
   ]
  },
  {
   "cell_type": "code",
   "execution_count": 18,
   "metadata": {
    "collapsed": true
   },
   "outputs": [],
   "source": [
    "model.add(Flatten())"
   ]
  },
  {
   "cell_type": "code",
   "execution_count": 19,
   "metadata": {
    "collapsed": true
   },
   "outputs": [],
   "source": [
    "model.add(Dense(4, activation='tanh'))"
   ]
  },
  {
   "cell_type": "code",
   "execution_count": 20,
   "metadata": {
    "collapsed": true
   },
   "outputs": [],
   "source": [
    "model.add(Dense(1,activation='sigmoid'))"
   ]
  },
  {
   "cell_type": "code",
   "execution_count": 21,
   "metadata": {
    "collapsed": false
   },
   "outputs": [
    {
     "name": "stdout",
     "output_type": "stream",
     "text": [
      "_________________________________________________________________\n",
      "Layer (type)                 Output Shape              Param #   \n",
      "=================================================================\n",
      "conv1d_1 (Conv1D)            (None, 2, 8)              32        \n",
      "_________________________________________________________________\n",
      "max_pooling1d_1 (MaxPooling1 (None, 2, 8)              0         \n",
      "_________________________________________________________________\n",
      "flatten_1 (Flatten)          (None, 16)                0         \n",
      "_________________________________________________________________\n",
      "dense_1 (Dense)              (None, 4)                 68        \n",
      "_________________________________________________________________\n",
      "dense_2 (Dense)              (None, 1)                 5         \n",
      "=================================================================\n",
      "Total params: 105\n",
      "Trainable params: 105\n",
      "Non-trainable params: 0\n",
      "_________________________________________________________________\n"
     ]
    }
   ],
   "source": [
    "model.summary()"
   ]
  },
  {
   "cell_type": "code",
   "execution_count": 22,
   "metadata": {
    "collapsed": false
   },
   "outputs": [],
   "source": [
    "model.compile(loss='binary_crossentropy', \n",
    "              optimizer='adam', metrics=['accuracy'])"
   ]
  },
  {
   "cell_type": "code",
   "execution_count": 23,
   "metadata": {
    "collapsed": false
   },
   "outputs": [
    {
     "name": "stdout",
     "output_type": "stream",
     "text": [
      "Train on 836 samples, validate on 210 samples\n",
      "Epoch 1/30\n",
      "836/836 [==============================] - 3s 3ms/step - loss: 0.7297 - acc: 0.5395 - val_loss: 0.6768 - val_acc: 0.6381\n",
      "Epoch 2/30\n",
      "836/836 [==============================] - 0s 387us/step - loss: 0.6695 - acc: 0.6232 - val_loss: 0.6332 - val_acc: 0.6524\n",
      "Epoch 3/30\n",
      "836/836 [==============================] - 0s 331us/step - loss: 0.6205 - acc: 0.7165 - val_loss: 0.6011 - val_acc: 0.7286\n",
      "Epoch 4/30\n",
      "836/836 [==============================] - 0s 369us/step - loss: 0.5822 - acc: 0.7620 - val_loss: 0.5764 - val_acc: 0.7381\n",
      "Epoch 5/30\n",
      "836/836 [==============================] - 0s 363us/step - loss: 0.5528 - acc: 0.7811 - val_loss: 0.5579 - val_acc: 0.7476\n",
      "Epoch 6/30\n",
      "836/836 [==============================] - 0s 352us/step - loss: 0.5299 - acc: 0.7835 - val_loss: 0.5440 - val_acc: 0.7476\n",
      "Epoch 7/30\n",
      "836/836 [==============================] - 0s 399us/step - loss: 0.5139 - acc: 0.7859 - val_loss: 0.5335 - val_acc: 0.7476\n",
      "Epoch 8/30\n",
      "836/836 [==============================] - 0s 366us/step - loss: 0.5011 - acc: 0.7859 - val_loss: 0.5237 - val_acc: 0.7476\n",
      "Epoch 9/30\n",
      "836/836 [==============================] - 0s 355us/step - loss: 0.4916 - acc: 0.7859 - val_loss: 0.5179 - val_acc: 0.7476\n",
      "Epoch 10/30\n",
      "836/836 [==============================] - 0s 357us/step - loss: 0.4848 - acc: 0.7859 - val_loss: 0.5139 - val_acc: 0.7476\n",
      "Epoch 11/30\n",
      "836/836 [==============================] - 0s 303us/step - loss: 0.4800 - acc: 0.7871 - val_loss: 0.5103 - val_acc: 0.7476\n",
      "Epoch 12/30\n",
      "836/836 [==============================] - 0s 219us/step - loss: 0.4759 - acc: 0.7871 - val_loss: 0.5073 - val_acc: 0.7571\n",
      "Epoch 13/30\n",
      "836/836 [==============================] - 0s 252us/step - loss: 0.4727 - acc: 0.7871 - val_loss: 0.5042 - val_acc: 0.7571\n",
      "Epoch 14/30\n",
      "836/836 [==============================] - 0s 208us/step - loss: 0.4705 - acc: 0.7895 - val_loss: 0.5018 - val_acc: 0.7571\n",
      "Epoch 15/30\n",
      "836/836 [==============================] - 0s 249us/step - loss: 0.4681 - acc: 0.7895 - val_loss: 0.4995 - val_acc: 0.7571\n",
      "Epoch 16/30\n",
      "836/836 [==============================] - 0s 125us/step - loss: 0.4665 - acc: 0.7895 - val_loss: 0.4981 - val_acc: 0.7571\n",
      "Epoch 17/30\n",
      "836/836 [==============================] - 0s 114us/step - loss: 0.4645 - acc: 0.7895 - val_loss: 0.4967 - val_acc: 0.7571\n",
      "Epoch 18/30\n",
      "836/836 [==============================] - 0s 275us/step - loss: 0.4633 - acc: 0.7895 - val_loss: 0.4953 - val_acc: 0.7524\n",
      "Epoch 19/30\n",
      "836/836 [==============================] - 0s 189us/step - loss: 0.4623 - acc: 0.7895 - val_loss: 0.4953 - val_acc: 0.7524\n",
      "Epoch 20/30\n",
      "836/836 [==============================] - 0s 181us/step - loss: 0.4612 - acc: 0.7931 - val_loss: 0.4934 - val_acc: 0.7571\n",
      "Epoch 21/30\n",
      "836/836 [==============================] - 0s 154us/step - loss: 0.4604 - acc: 0.7990 - val_loss: 0.4915 - val_acc: 0.7524\n",
      "Epoch 22/30\n",
      "836/836 [==============================] - 0s 229us/step - loss: 0.4594 - acc: 0.8014 - val_loss: 0.4915 - val_acc: 0.7524\n",
      "Epoch 23/30\n",
      "836/836 [==============================] - 0s 451us/step - loss: 0.4587 - acc: 0.8026 - val_loss: 0.4908 - val_acc: 0.7524\n",
      "Epoch 24/30\n",
      "836/836 [==============================] - 0s 440us/step - loss: 0.4578 - acc: 0.8014 - val_loss: 0.4897 - val_acc: 0.7571\n",
      "Epoch 25/30\n",
      "836/836 [==============================] - 0s 449us/step - loss: 0.4574 - acc: 0.7978 - val_loss: 0.4896 - val_acc: 0.7619\n",
      "Epoch 26/30\n",
      "836/836 [==============================] - 0s 508us/step - loss: 0.4567 - acc: 0.7978 - val_loss: 0.4887 - val_acc: 0.7571\n",
      "Epoch 27/30\n",
      "836/836 [==============================] - 0s 396us/step - loss: 0.4561 - acc: 0.8038 - val_loss: 0.4878 - val_acc: 0.7619\n",
      "Epoch 28/30\n",
      "836/836 [==============================] - 0s 378us/step - loss: 0.4555 - acc: 0.8002 - val_loss: 0.4876 - val_acc: 0.7619\n",
      "Epoch 29/30\n",
      "836/836 [==============================] - 0s 365us/step - loss: 0.4552 - acc: 0.8014 - val_loss: 0.4876 - val_acc: 0.7667\n",
      "Epoch 30/30\n",
      "836/836 [==============================] - 0s 202us/step - loss: 0.4547 - acc: 0.7990 - val_loss: 0.4863 - val_acc: 0.7667\n"
     ]
    }
   ],
   "source": [
    "train_history =model.fit(x=train_Features, \n",
    "                         y=train_Label, \n",
    "                         validation_split=0.2, \n",
    "                         epochs=30, \n",
    "                         batch_size=30,verbose=1,callbacks=[early_stopping])"
   ]
  },
  {
   "cell_type": "code",
   "execution_count": 24,
   "metadata": {
    "collapsed": true
   },
   "outputs": [],
   "source": [
    "import matplotlib.pyplot as plt\n",
    "def show_train_history(train_history,train,validation):\n",
    "    plt.plot(train_history.history[train])\n",
    "    plt.plot(train_history.history[validation])\n",
    "    plt.title('Train History')\n",
    "    plt.ylabel(train)\n",
    "    plt.xlabel('Epoch')\n",
    "    plt.legend(['train', 'validation'], loc='upper left')\n",
    "    plt.show()"
   ]
  },
  {
   "cell_type": "code",
   "execution_count": 25,
   "metadata": {
    "collapsed": false
   },
   "outputs": [
    {
     "data": {
      "image/png": "[encoded data removed]",
      "text/plain": [
       "<matplotlib.figure.Figure at 0x7f4a05084f60>"
      ]
     },
     "metadata": {},
     "output_type": "display_data"
    }
   ],
   "source": [
    "show_train_history(train_history,'acc','val_acc')"
   ]
  },
  {
   "cell_type": "code",
   "execution_count": 26,
   "metadata": {
    "collapsed": false
   },
   "outputs": [
    {
     "data": {
      "image/png": "[encoded data removed]",
      "text/plain": [
       "<matplotlib.figure.Figure at 0x7f4a05084a90>"
      ]
     },
     "metadata": {},
     "output_type": "display_data"
    }
   ],
   "source": [
    "show_train_history(train_history,'loss','val_loss')"
   ]
  },
  {
   "cell_type": "code",
   "execution_count": 27,
   "metadata": {
    "collapsed": false
   },
   "outputs": [
    {
     "name": "stdout",
     "output_type": "stream",
     "text": [
      "262/262 [==============================] - 0s 146us/step\n"
     ]
    }
   ],
   "source": [
    "scores = model.evaluate(x=test_Features, \n",
    "                        y=test_Label)"
   ]
  },
  {
   "cell_type": "code",
   "execution_count": 28,
   "metadata": {
    "collapsed": false
   },
   "outputs": [
    {
     "data": {
      "text/plain": [
       "0.7977099236641222"
      ]
     },
     "execution_count": 28,
     "metadata": {},
     "output_type": "execute_result"
    }
   ],
   "source": [
    "scores[1]"
   ]
  }
 ],
 "metadata": {
  "anaconda-cloud": {},
  "kernelspec": {
   "display_name": "Python [conda root]",
   "language": "python",
   "name": "conda-root-py"
  },
  "language_info": {
   "codemirror_mode": {
    "name": "ipython",
    "version": 3
   },
   "file_extension": ".py",
   "mimetype": "text/x-python",
   "name": "python",
   "nbconvert_exporter": "python",
   "pygments_lexer": "ipython3",
   "version": "3.5.2"
  }
 },
 "nbformat": 4,
 "nbformat_minor": 1
}
