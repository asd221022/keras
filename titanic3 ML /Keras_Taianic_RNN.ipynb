{
 "cells": [
  {
   "cell_type": "code",
   "execution_count": 22,
   "metadata": {
    "collapsed": true,
    "slideshow": {
     "slide_type": "-"
    }
   },
   "outputs": [],
   "source": [
    "import numpy\n",
    "import pandas as pd\n",
    "from sklearn import preprocessing\n",
    "numpy.random.seed(10)"
   ]
  },
  {
   "cell_type": "code",
   "execution_count": 23,
   "metadata": {
    "collapsed": true
   },
   "outputs": [],
   "source": [
    "all_df = pd.read_excel(\"data/titanic3.xls\")"
   ]
  },
  {
   "cell_type": "code",
   "execution_count": 24,
   "metadata": {
    "collapsed": true
   },
   "outputs": [],
   "source": [
    "cols=['survived','name','pclass' ,'sex', 'age',\n",
    "       'fare',]\n",
    "all_df=all_df[cols]"
   ]
  },
  {
   "cell_type": "code",
   "execution_count": 25,
   "metadata": {
    "collapsed": true
   },
   "outputs": [],
   "source": [
    "df=all_df.drop(['name'], axis=1)\n",
    "age_mean = df['age'].mean()\n",
    "df['age'] = df['age'].fillna(age_mean)\n",
    "fare_mean = df['fare'].mean()\n",
    "df['fare'] = df['fare'].fillna(fare_mean)\n",
    "df['sex']= df['sex'].map({'female':0, 'male': 1}).astype(int)"
   ]
  },
  {
   "cell_type": "code",
   "execution_count": 26,
   "metadata": {
    "collapsed": false
   },
   "outputs": [
    {
     "name": "stdout",
     "output_type": "stream",
     "text": [
      "total: 1309 train: 1034 test: 275\n"
     ]
    }
   ],
   "source": [
    "msk = numpy.random.rand(len(df)) < 0.8\n",
    "train_df = df[msk]\n",
    "test_df = df[~msk]\n",
    "print('total:',len(df),\n",
    "      'train:',len(train_df),\n",
    "      'test:',len(test_df))"
   ]
  },
  {
   "cell_type": "code",
   "execution_count": 27,
   "metadata": {
    "collapsed": true
   },
   "outputs": [],
   "source": [
    "trainray= train_df.values\n",
    "train_Features = trainray[:,1:]\n",
    "train_Label = trainray[:,0]\n",
    "    \n",
    "testray= test_df.values\n",
    "test_Features = testray[:,1:]\n",
    "test_Label = testray[:,0]\n",
    "\n",
    "minmax_scale = preprocessing.MinMaxScaler(feature_range=(0, 1))\n",
    "train_Features=minmax_scale.fit_transform(train_Features)  \n",
    "test_Features=minmax_scale.fit_transform(test_Features)"
   ]
  },
  {
   "cell_type": "code",
   "execution_count": 28,
   "metadata": {
    "collapsed": false
   },
   "outputs": [
    {
     "data": {
      "text/plain": [
       "array([[0.5       , 0.        , 0.32049799, 0.12687155],\n",
       "       [0.5       , 0.        , 0.64665896, 0.12687155],\n",
       "       [0.5       , 0.        , 0.74178924, 0.03122992],\n",
       "       [0.5       , 1.        , 0.32049799, 0.14346245]])"
      ]
     },
     "execution_count": 28,
     "metadata": {},
     "output_type": "execute_result"
    }
   ],
   "source": [
    "train_Features[355:359]"
   ]
  },
  {
   "cell_type": "code",
   "execution_count": 29,
   "metadata": {
    "collapsed": false
   },
   "outputs": [
    {
     "data": {
      "text/plain": [
       "array([1., 1., 0., 0.])"
      ]
     },
     "execution_count": 29,
     "metadata": {},
     "output_type": "execute_result"
    }
   ],
   "source": [
    "train_Label[:4]"
   ]
  },
  {
   "cell_type": "code",
   "execution_count": 30,
   "metadata": {
    "collapsed": false
   },
   "outputs": [],
   "source": [
    "from keras.models import Sequential\n",
    "from keras.layers.core import Dense, Dropout, Activation\n",
    "from keras.layers.embeddings import Embedding\n",
    "from keras.layers.recurrent import SimpleRNN"
   ]
  },
  {
   "cell_type": "code",
   "execution_count": 31,
   "metadata": {
    "collapsed": true
   },
   "outputs": [],
   "source": [
    "model = Sequential()"
   ]
  },
  {
   "cell_type": "code",
   "execution_count": 32,
   "metadata": {
    "collapsed": true
   },
   "outputs": [],
   "source": [
    "model.add(Embedding(input_dim=4,output_dim=1))"
   ]
  },
  {
   "cell_type": "code",
   "execution_count": 33,
   "metadata": {
    "collapsed": true
   },
   "outputs": [],
   "source": [
    "model.add(SimpleRNN(units=4))"
   ]
  },
  {
   "cell_type": "code",
   "execution_count": 34,
   "metadata": {
    "collapsed": true
   },
   "outputs": [],
   "source": [
    "model.add(Dense(1, activation = \"sigmoid\"))"
   ]
  },
  {
   "cell_type": "code",
   "execution_count": 35,
   "metadata": {
    "collapsed": false
   },
   "outputs": [
    {
     "name": "stdout",
     "output_type": "stream",
     "text": [
      "_________________________________________________________________\n",
      "Layer (type)                 Output Shape              Param #   \n",
      "=================================================================\n",
      "embedding_2 (Embedding)      (None, None, 1)           4         \n",
      "_________________________________________________________________\n",
      "simple_rnn_2 (SimpleRNN)     (None, 4)                 24        \n",
      "_________________________________________________________________\n",
      "dense_2 (Dense)              (None, 1)                 5         \n",
      "=================================================================\n",
      "Total params: 33\n",
      "Trainable params: 33\n",
      "Non-trainable params: 0\n",
      "_________________________________________________________________\n"
     ]
    }
   ],
   "source": [
    "model.summary()"
   ]
  },
  {
   "cell_type": "code",
   "execution_count": 36,
   "metadata": {
    "collapsed": true
   },
   "outputs": [],
   "source": [
    "model.compile(loss='binary_crossentropy', \n",
    "              optimizer='adam', metrics=['accuracy'])"
   ]
  },
  {
   "cell_type": "code",
   "execution_count": 37,
   "metadata": {
    "collapsed": false
   },
   "outputs": [
    {
     "name": "stdout",
     "output_type": "stream",
     "text": [
      "Train on 930 samples, validate on 104 samples\n",
      "Epoch 1/30\n",
      " - 1s - loss: 0.6855 - acc: 0.5871 - val_loss: 0.6448 - val_acc: 0.7885\n",
      "Epoch 2/30\n",
      " - 0s - loss: 0.6731 - acc: 0.5871 - val_loss: 0.6062 - val_acc: 0.7885\n",
      "Epoch 3/30\n",
      " - 0s - loss: 0.6606 - acc: 0.5871 - val_loss: 0.5840 - val_acc: 0.7885\n",
      "Epoch 4/30\n",
      " - 0s - loss: 0.6428 - acc: 0.5871 - val_loss: 0.5566 - val_acc: 0.7885\n",
      "Epoch 5/30\n",
      " - 0s - loss: 0.6156 - acc: 0.7495 - val_loss: 0.5289 - val_acc: 0.7885\n",
      "Epoch 6/30\n",
      " - 0s - loss: 0.5851 - acc: 0.7785 - val_loss: 0.5005 - val_acc: 0.7885\n",
      "Epoch 7/30\n",
      " - 0s - loss: 0.5596 - acc: 0.7785 - val_loss: 0.4791 - val_acc: 0.7885\n",
      "Epoch 8/30\n",
      " - 0s - loss: 0.5409 - acc: 0.7785 - val_loss: 0.4690 - val_acc: 0.7885\n",
      "Epoch 9/30\n",
      " - 0s - loss: 0.5281 - acc: 0.7785 - val_loss: 0.4617 - val_acc: 0.7885\n",
      "Epoch 10/30\n",
      " - 0s - loss: 0.5187 - acc: 0.7785 - val_loss: 0.4565 - val_acc: 0.7885\n",
      "Epoch 11/30\n",
      " - 0s - loss: 0.5114 - acc: 0.7785 - val_loss: 0.4537 - val_acc: 0.7885\n",
      "Epoch 12/30\n",
      " - 0s - loss: 0.5060 - acc: 0.7785 - val_loss: 0.4511 - val_acc: 0.7885\n",
      "Epoch 13/30\n",
      " - 0s - loss: 0.5019 - acc: 0.7785 - val_loss: 0.4495 - val_acc: 0.7885\n",
      "Epoch 14/30\n",
      " - 0s - loss: 0.4981 - acc: 0.7785 - val_loss: 0.4483 - val_acc: 0.7885\n",
      "Epoch 15/30\n",
      " - 0s - loss: 0.4955 - acc: 0.7785 - val_loss: 0.4476 - val_acc: 0.7885\n",
      "Epoch 16/30\n",
      " - 0s - loss: 0.4938 - acc: 0.7785 - val_loss: 0.4472 - val_acc: 0.7885\n",
      "Epoch 17/30\n",
      " - 0s - loss: 0.4921 - acc: 0.7785 - val_loss: 0.4464 - val_acc: 0.7885\n",
      "Epoch 18/30\n",
      " - 0s - loss: 0.4906 - acc: 0.7785 - val_loss: 0.4460 - val_acc: 0.7885\n",
      "Epoch 19/30\n",
      " - 0s - loss: 0.4900 - acc: 0.7785 - val_loss: 0.4452 - val_acc: 0.7885\n",
      "Epoch 20/30\n",
      " - 0s - loss: 0.4888 - acc: 0.7785 - val_loss: 0.4454 - val_acc: 0.7885\n",
      "Epoch 21/30\n",
      " - 0s - loss: 0.4880 - acc: 0.7785 - val_loss: 0.4456 - val_acc: 0.7885\n",
      "Epoch 22/30\n",
      " - 0s - loss: 0.4876 - acc: 0.7645 - val_loss: 0.4454 - val_acc: 0.7885\n",
      "Epoch 23/30\n",
      " - 0s - loss: 0.4877 - acc: 0.7785 - val_loss: 0.4446 - val_acc: 0.7885\n",
      "Epoch 24/30\n",
      " - 0s - loss: 0.4867 - acc: 0.7785 - val_loss: 0.4456 - val_acc: 0.7885\n",
      "Epoch 25/30\n",
      " - 0s - loss: 0.4860 - acc: 0.7785 - val_loss: 0.4452 - val_acc: 0.7885\n",
      "Epoch 26/30\n",
      " - 0s - loss: 0.4857 - acc: 0.7785 - val_loss: 0.4451 - val_acc: 0.7885\n",
      "Epoch 27/30\n",
      " - 0s - loss: 0.4855 - acc: 0.7785 - val_loss: 0.4452 - val_acc: 0.7885\n",
      "Epoch 28/30\n",
      " - 0s - loss: 0.4850 - acc: 0.7785 - val_loss: 0.4456 - val_acc: 0.7885\n",
      "Epoch 29/30\n",
      " - 0s - loss: 0.4850 - acc: 0.7785 - val_loss: 0.4454 - val_acc: 0.7885\n",
      "Epoch 30/30\n",
      " - 0s - loss: 0.4852 - acc: 0.7645 - val_loss: 0.4471 - val_acc: 0.7885\n"
     ]
    }
   ],
   "source": [
    "train_history =model.fit(x=train_Features, \n",
    "                         y=train_Label, \n",
    "                         validation_split=0.1, \n",
    "                         epochs=30, \n",
    "                         batch_size=30,verbose=2)"
   ]
  },
  {
   "cell_type": "code",
   "execution_count": 38,
   "metadata": {
    "collapsed": true
   },
   "outputs": [],
   "source": [
    "import matplotlib.pyplot as plt\n",
    "def show_train_history(train_history,train,validation):\n",
    "    plt.plot(train_history.history[train])\n",
    "    plt.plot(train_history.history[validation])\n",
    "    plt.title('Train History')\n",
    "    plt.ylabel(train)\n",
    "    plt.xlabel('Epoch')\n",
    "    plt.legend(['train', 'validation'], loc='upper left')\n",
    "    plt.show()"
   ]
  },
  {
   "cell_type": "code",
   "execution_count": 39,
   "metadata": {
    "collapsed": false
   },
   "outputs": [
    {
     "data": {
      "image/png": "[encoded data removed]",
      "text/plain": [
       "<matplotlib.figure.Figure at 0x7f5f011b3c50>"
      ]
     },
     "metadata": {},
     "output_type": "display_data"
    }
   ],
   "source": [
    "show_train_history(train_history,'acc','val_acc')"
   ]
  },
  {
   "cell_type": "code",
   "execution_count": 40,
   "metadata": {
    "collapsed": false
   },
   "outputs": [
    {
     "data": {
      "image/png": "[encoded data removed]",
      "text/plain": [
       "<matplotlib.figure.Figure at 0x7f5f01a010f0>"
      ]
     },
     "metadata": {},
     "output_type": "display_data"
    }
   ],
   "source": [
    "show_train_history(train_history,'loss','val_loss')"
   ]
  },
  {
   "cell_type": "code",
   "execution_count": 41,
   "metadata": {
    "collapsed": false
   },
   "outputs": [
    {
     "name": "stdout",
     "output_type": "stream",
     "text": [
      "275/275 [==============================] - 0s 91us/step\n"
     ]
    }
   ],
   "source": [
    "scores = model.evaluate(x=test_Features, \n",
    "                        y=test_Label)"
   ]
  },
  {
   "cell_type": "code",
   "execution_count": 42,
   "metadata": {
    "collapsed": false
   },
   "outputs": [
    {
     "data": {
      "text/plain": [
       "0.8072727277062156"
      ]
     },
     "execution_count": 42,
     "metadata": {},
     "output_type": "execute_result"
    }
   ],
   "source": [
    "scores[1]"
   ]
  }
 ],
 "metadata": {
  "anaconda-cloud": {},
  "kernelspec": {
   "display_name": "Python [conda root]",
   "language": "python",
   "name": "conda-root-py"
  },
  "language_info": {
   "codemirror_mode": {
    "name": "ipython",
    "version": 3
   },
   "file_extension": ".py",
   "mimetype": "text/x-python",
   "name": "python",
   "nbconvert_exporter": "python",
   "pygments_lexer": "ipython3",
   "version": "3.5.2"
  }
 },
 "nbformat": 4,
 "nbformat_minor": 1
}
