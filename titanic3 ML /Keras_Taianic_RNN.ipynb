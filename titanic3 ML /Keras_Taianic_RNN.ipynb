{
 "cells": [
  {
   "cell_type": "code",
   "execution_count": 16,
   "metadata": {
    "collapsed": false,
    "slideshow": {
     "slide_type": "-"
    }
   },
   "outputs": [],
   "source": [
    "import numpy\n",
    "import pandas as pd\n",
    "from sklearn import preprocessing\n",
    "from sklearn.model_selection import train_test_split\n",
    "numpy.random.seed(10)"
   ]
  },
  {
   "cell_type": "code",
   "execution_count": 17,
   "metadata": {
    "collapsed": true
   },
   "outputs": [],
   "source": [
    "all_df = pd.read_csv(\"data/titanic.csv\")"
   ]
  },
  {
   "cell_type": "code",
   "execution_count": 18,
   "metadata": {
    "collapsed": false
   },
   "outputs": [],
   "source": [
    "cols=['survived','pclass' ,'sex', 'age',\n",
    "       'fare',]\n",
    "df=all_df[cols]\n",
    "df.isnull().sum()\n",
    "df=df.values"
   ]
  },
  {
   "cell_type": "code",
   "execution_count": 19,
   "metadata": {
    "collapsed": false
   },
   "outputs": [
    {
     "data": {
      "text/plain": [
       "array([[  1.    ,   0.    ,  29.    , 211.3375],\n",
       "       [  1.    ,   1.    ,   0.9167, 151.55  ],\n",
       "       [  1.    ,   0.    ,   2.    , 151.55  ],\n",
       "       [  1.    ,   1.    ,  30.    , 151.55  ],\n",
       "       [  1.    ,   0.    ,  25.    , 151.55  ]])"
      ]
     },
     "execution_count": 19,
     "metadata": {},
     "output_type": "execute_result"
    }
   ],
   "source": [
    "X = df[:,1:]\n",
    "Y = df[:,0]\n",
    "X[:5]"
   ]
  },
  {
   "cell_type": "code",
   "execution_count": 20,
   "metadata": {
    "collapsed": false
   },
   "outputs": [
    {
     "data": {
      "text/plain": [
       "1046"
      ]
     },
     "execution_count": 20,
     "metadata": {},
     "output_type": "execute_result"
    }
   ],
   "source": [
    "minmax_scale = preprocessing.MinMaxScaler(feature_range=(0, 1))\n",
    "X=minmax_scale.fit_transform(X) \n",
    "train_Features, test_Features, train_Label, test_Label = train_test_split(X, Y, test_size=0.2, random_state=True) \n",
    "len(train_Features)"
   ]
  },
  {
   "cell_type": "code",
   "execution_count": 21,
   "metadata": {
    "collapsed": false
   },
   "outputs": [
    {
     "data": {
      "text/plain": [
       "array([[1.        , 0.        , 0.49895595, 0.01849397],\n",
       "       [1.        , 0.        , 0.37369494, 0.04538098],\n",
       "       [1.        , 1.        , 0.32359053, 0.01541158],\n",
       "       [0.5       , 0.        , 0.38622104, 0.04098927]])"
      ]
     },
     "execution_count": 21,
     "metadata": {},
     "output_type": "execute_result"
    }
   ],
   "source": [
    "train_Features[355:359]"
   ]
  },
  {
   "cell_type": "code",
   "execution_count": 22,
   "metadata": {
    "collapsed": false
   },
   "outputs": [
    {
     "data": {
      "text/plain": [
       "array([1., 0., 0., 0.])"
      ]
     },
     "execution_count": 22,
     "metadata": {},
     "output_type": "execute_result"
    }
   ],
   "source": [
    "train_Label[:4]"
   ]
  },
  {
   "cell_type": "code",
   "execution_count": 23,
   "metadata": {
    "collapsed": false
   },
   "outputs": [],
   "source": [
    "from keras.models import Sequential\n",
    "from keras.layers.core import Dense, Dropout, Activation\n",
    "from keras.layers.embeddings import Embedding\n",
    "from keras.layers.recurrent import SimpleRNN"
   ]
  },
  {
   "cell_type": "code",
   "execution_count": 24,
   "metadata": {
    "collapsed": true
   },
   "outputs": [],
   "source": [
    "model = Sequential()"
   ]
  },
  {
   "cell_type": "code",
   "execution_count": 25,
   "metadata": {
    "collapsed": true
   },
   "outputs": [],
   "source": [
    "model.add(Embedding(input_dim=4,output_dim=1))"
   ]
  },
  {
   "cell_type": "code",
   "execution_count": 26,
   "metadata": {
    "collapsed": true
   },
   "outputs": [],
   "source": [
    "model.add(SimpleRNN(units=4))"
   ]
  },
  {
   "cell_type": "code",
   "execution_count": 27,
   "metadata": {
    "collapsed": true
   },
   "outputs": [],
   "source": [
    "model.add(Dense(1, activation = \"sigmoid\"))"
   ]
  },
  {
   "cell_type": "code",
   "execution_count": 28,
   "metadata": {
    "collapsed": false
   },
   "outputs": [
    {
     "name": "stdout",
     "output_type": "stream",
     "text": [
      "_________________________________________________________________\n",
      "Layer (type)                 Output Shape              Param #   \n",
      "=================================================================\n",
      "embedding_2 (Embedding)      (None, None, 1)           4         \n",
      "_________________________________________________________________\n",
      "simple_rnn_2 (SimpleRNN)     (None, 4)                 24        \n",
      "_________________________________________________________________\n",
      "dense_2 (Dense)              (None, 1)                 5         \n",
      "=================================================================\n",
      "Total params: 33\n",
      "Trainable params: 33\n",
      "Non-trainable params: 0\n",
      "_________________________________________________________________\n"
     ]
    }
   ],
   "source": [
    "model.summary()"
   ]
  },
  {
   "cell_type": "code",
   "execution_count": 29,
   "metadata": {
    "collapsed": true
   },
   "outputs": [],
   "source": [
    "model.compile(loss='binary_crossentropy', \n",
    "              optimizer='adam', metrics=['accuracy'])"
   ]
  },
  {
   "cell_type": "code",
   "execution_count": 30,
   "metadata": {
    "collapsed": false
   },
   "outputs": [
    {
     "name": "stdout",
     "output_type": "stream",
     "text": [
      "Train on 941 samples, validate on 105 samples\n",
      "Epoch 1/30\n",
      " - 2s - loss: 0.6786 - acc: 0.6057 - val_loss: 0.6581 - val_acc: 0.6571\n",
      "Epoch 2/30\n",
      " - 0s - loss: 0.6596 - acc: 0.6057 - val_loss: 0.6350 - val_acc: 0.6571\n",
      "Epoch 3/30\n",
      " - 0s - loss: 0.6417 - acc: 0.6057 - val_loss: 0.6176 - val_acc: 0.6571\n",
      "Epoch 4/30\n",
      " - 0s - loss: 0.6172 - acc: 0.6079 - val_loss: 0.5973 - val_acc: 0.7524\n",
      "Epoch 5/30\n",
      " - 0s - loss: 0.5844 - acc: 0.7726 - val_loss: 0.5747 - val_acc: 0.7524\n",
      "Epoch 6/30\n",
      " - 0s - loss: 0.5507 - acc: 0.7726 - val_loss: 0.5568 - val_acc: 0.7524\n",
      "Epoch 7/30\n",
      " - 0s - loss: 0.5241 - acc: 0.7726 - val_loss: 0.5441 - val_acc: 0.7524\n",
      "Epoch 8/30\n",
      " - 0s - loss: 0.5089 - acc: 0.7726 - val_loss: 0.5378 - val_acc: 0.7524\n",
      "Epoch 9/30\n",
      " - 0s - loss: 0.5010 - acc: 0.7726 - val_loss: 0.5345 - val_acc: 0.7524\n",
      "Epoch 10/30\n",
      " - 0s - loss: 0.4944 - acc: 0.7726 - val_loss: 0.5297 - val_acc: 0.7524\n",
      "Epoch 11/30\n",
      " - 0s - loss: 0.4906 - acc: 0.7726 - val_loss: 0.5281 - val_acc: 0.7524\n",
      "Epoch 12/30\n",
      " - 0s - loss: 0.4876 - acc: 0.7726 - val_loss: 0.5256 - val_acc: 0.7524\n",
      "Epoch 13/30\n",
      " - 0s - loss: 0.4863 - acc: 0.7726 - val_loss: 0.5229 - val_acc: 0.7524\n",
      "Epoch 14/30\n",
      " - 0s - loss: 0.4842 - acc: 0.7726 - val_loss: 0.5237 - val_acc: 0.7524\n",
      "Epoch 15/30\n",
      " - 0s - loss: 0.4830 - acc: 0.7726 - val_loss: 0.5215 - val_acc: 0.7524\n",
      "Epoch 16/30\n",
      " - 0s - loss: 0.4825 - acc: 0.7726 - val_loss: 0.5205 - val_acc: 0.7524\n",
      "Epoch 17/30\n",
      " - 0s - loss: 0.4807 - acc: 0.7726 - val_loss: 0.5200 - val_acc: 0.7524\n",
      "Epoch 18/30\n",
      " - 0s - loss: 0.4803 - acc: 0.7662 - val_loss: 0.5201 - val_acc: 0.7619\n",
      "Epoch 19/30\n",
      " - 0s - loss: 0.4796 - acc: 0.7726 - val_loss: 0.5193 - val_acc: 0.7524\n",
      "Epoch 20/30\n",
      " - 0s - loss: 0.4793 - acc: 0.7726 - val_loss: 0.5196 - val_acc: 0.7524\n",
      "Epoch 21/30\n",
      " - 0s - loss: 0.4787 - acc: 0.7790 - val_loss: 0.5190 - val_acc: 0.7619\n",
      "Epoch 22/30\n",
      " - 0s - loss: 0.4785 - acc: 0.7768 - val_loss: 0.5187 - val_acc: 0.7524\n",
      "Epoch 23/30\n",
      " - 0s - loss: 0.4784 - acc: 0.7715 - val_loss: 0.5184 - val_acc: 0.7619\n",
      "Epoch 24/30\n",
      " - 0s - loss: 0.4781 - acc: 0.7620 - val_loss: 0.5192 - val_acc: 0.7524\n",
      "Epoch 25/30\n",
      " - 0s - loss: 0.4788 - acc: 0.7641 - val_loss: 0.5187 - val_acc: 0.7619\n",
      "Epoch 26/30\n",
      " - 0s - loss: 0.4776 - acc: 0.7811 - val_loss: 0.5183 - val_acc: 0.7524\n",
      "Epoch 27/30\n",
      " - 0s - loss: 0.4776 - acc: 0.7726 - val_loss: 0.5180 - val_acc: 0.7524\n",
      "Epoch 28/30\n",
      " - 0s - loss: 0.4771 - acc: 0.7800 - val_loss: 0.5186 - val_acc: 0.7619\n",
      "Epoch 29/30\n",
      " - 0s - loss: 0.4771 - acc: 0.7747 - val_loss: 0.5192 - val_acc: 0.7619\n",
      "Epoch 30/30\n",
      " - 0s - loss: 0.4772 - acc: 0.7662 - val_loss: 0.5187 - val_acc: 0.7524\n"
     ]
    }
   ],
   "source": [
    "train_history =model.fit(x=train_Features, \n",
    "                         y=train_Label, \n",
    "                         validation_split=0.1, \n",
    "                         epochs=30, \n",
    "                         batch_size=30,verbose=2)"
   ]
  },
  {
   "cell_type": "code",
   "execution_count": 31,
   "metadata": {
    "collapsed": true
   },
   "outputs": [],
   "source": [
    "import matplotlib.pyplot as plt\n",
    "def show_train_history(train_history,train,validation):\n",
    "    plt.plot(train_history.history[train])\n",
    "    plt.plot(train_history.history[validation])\n",
    "    plt.title('Train History')\n",
    "    plt.ylabel(train)\n",
    "    plt.xlabel('Epoch')\n",
    "    plt.legend(['train', 'validation'], loc='upper left')\n",
    "    plt.show()"
   ]
  },
  {
   "cell_type": "code",
   "execution_count": 32,
   "metadata": {
    "collapsed": false
   },
   "outputs": [
    {
     "data": {
      "image/png": "[encoded data removed]",
      "text/plain": [
       "<matplotlib.figure.Figure at 0x7f9458f91f98>"
      ]
     },
     "metadata": {},
     "output_type": "display_data"
    }
   ],
   "source": [
    "show_train_history(train_history,'acc','val_acc')"
   ]
  },
  {
   "cell_type": "code",
   "execution_count": 33,
   "metadata": {
    "collapsed": false
   },
   "outputs": [
    {
     "data": {
      "image/png": "[encoded data removed]",
      "text/plain": [
       "<matplotlib.figure.Figure at 0x7f9458451048>"
      ]
     },
     "metadata": {},
     "output_type": "display_data"
    }
   ],
   "source": [
    "show_train_history(train_history,'loss','val_loss')"
   ]
  },
  {
   "cell_type": "code",
   "execution_count": 34,
   "metadata": {
    "collapsed": false
   },
   "outputs": [
    {
     "name": "stdout",
     "output_type": "stream",
     "text": [
      "262/262 [==============================] - 0s 105us/step\n"
     ]
    }
   ],
   "source": [
    "scores = model.evaluate(x=test_Features, \n",
    "                        y=test_Label)"
   ]
  },
  {
   "cell_type": "code",
   "execution_count": 35,
   "metadata": {
    "collapsed": false
   },
   "outputs": [
    {
     "data": {
      "text/plain": [
       "0.8320610682472928"
      ]
     },
     "execution_count": 35,
     "metadata": {},
     "output_type": "execute_result"
    }
   ],
   "source": [
    "scores[1]"
   ]
  }
 ],
 "metadata": {
  "anaconda-cloud": {},
  "kernelspec": {
   "display_name": "Python [conda root]",
   "language": "python",
   "name": "conda-root-py"
  },
  "language_info": {
   "codemirror_mode": {
    "name": "ipython",
    "version": 3
   },
   "file_extension": ".py",
   "mimetype": "text/x-python",
   "name": "python",
   "nbconvert_exporter": "python",
   "pygments_lexer": "ipython3",
   "version": "3.5.2"
  }
 },
 "nbformat": 4,
 "nbformat_minor": 1
}
