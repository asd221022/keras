{
 "cells": [
  {
   "cell_type": "code",
   "execution_count": 1,
   "metadata": {
    "collapsed": false,
    "slideshow": {
     "slide_type": "-"
    }
   },
   "outputs": [],
   "source": [
    "import numpy\n",
    "import pandas as pd\n",
    "from sklearn import preprocessing\n",
    "from sklearn.cross_validation import train_test_split\n",
    "numpy.random.seed(10)"
   ]
  },
  {
   "cell_type": "code",
   "execution_count": 2,
   "metadata": {
    "collapsed": true
   },
   "outputs": [],
   "source": [
    "all_df = pd.read_csv(\"data/titanic.csv\")"
   ]
  },
  {
   "cell_type": "code",
   "execution_count": 3,
   "metadata": {
    "collapsed": false
   },
   "outputs": [],
   "source": [
    "cols=['survived','pclass' ,'sex', 'age',\n",
    "       'fare',]\n",
    "df=all_df[cols]\n",
    "df.isnull().sum()\n",
    "df=df.values"
   ]
  },
  {
   "cell_type": "code",
   "execution_count": 4,
   "metadata": {
    "collapsed": false
   },
   "outputs": [
    {
     "data": {
      "text/plain": [
       "array([[  1.    ,   0.    ,  29.    , 211.3375],\n",
       "       [  1.    ,   1.    ,   0.9167, 151.55  ],\n",
       "       [  1.    ,   0.    ,   2.    , 151.55  ],\n",
       "       [  1.    ,   1.    ,  30.    , 151.55  ],\n",
       "       [  1.    ,   0.    ,  25.    , 151.55  ]])"
      ]
     },
     "execution_count": 4,
     "metadata": {},
     "output_type": "execute_result"
    }
   ],
   "source": [
    "X = df[:,1:]\n",
    "Y = df[:,0]\n",
    "X[:5]"
   ]
  },
  {
   "cell_type": "code",
   "execution_count": 5,
   "metadata": {
    "collapsed": false
   },
   "outputs": [
    {
     "data": {
      "text/plain": [
       "1046"
      ]
     },
     "execution_count": 5,
     "metadata": {},
     "output_type": "execute_result"
    }
   ],
   "source": [
    "minmax_scale = preprocessing.MinMaxScaler(feature_range=(0, 1))\n",
    "X=minmax_scale.fit_transform(X) \n",
    "train_Features, test_Features, train_Label, test_Label = train_test_split(X, Y, test_size=0.2, random_state=True) \n",
    "len(train_Features)"
   ]
  },
  {
   "cell_type": "code",
   "execution_count": 6,
   "metadata": {
    "collapsed": false
   },
   "outputs": [
    {
     "data": {
      "text/plain": [
       "array([[1.        , 0.        , 0.49895595, 0.01849397],\n",
       "       [1.        , 0.        , 0.37369494, 0.04538098],\n",
       "       [1.        , 1.        , 0.32359053, 0.01541158],\n",
       "       [0.5       , 0.        , 0.38622104, 0.04098927]])"
      ]
     },
     "execution_count": 6,
     "metadata": {},
     "output_type": "execute_result"
    }
   ],
   "source": [
    "train_Features[355:359]"
   ]
  },
  {
   "cell_type": "code",
   "execution_count": 7,
   "metadata": {
    "collapsed": false
   },
   "outputs": [
    {
     "data": {
      "text/plain": [
       "array([1., 0., 0., 0.])"
      ]
     },
     "execution_count": 7,
     "metadata": {},
     "output_type": "execute_result"
    }
   ],
   "source": [
    "train_Label[:4]"
   ]
  },
  {
   "cell_type": "code",
   "execution_count": 8,
   "metadata": {
    "collapsed": false
   },
   "outputs": [
    {
     "name": "stderr",
     "output_type": "stream",
     "text": [
      "Using TensorFlow backend.\n"
     ]
    }
   ],
   "source": [
    "from keras.utils import np_utils\n",
    "train_Label = train_Label.reshape(train_Label.shape[0], 1)\n",
    "test_Label= test_Label.reshape(test_Label.shape[0], 1)\n",
    "train_Label=np_utils.to_categorical(train_Label)\n",
    "test_Label=np_utils.to_categorical(test_Label)"
   ]
  },
  {
   "cell_type": "code",
   "execution_count": 9,
   "metadata": {
    "collapsed": false
   },
   "outputs": [],
   "source": [
    "from keras.models import Sequential\n",
    "from keras.layers.core import Dense, Dropout, Activation\n",
    "from keras.layers.embeddings import Embedding\n",
    "from keras.layers.recurrent import SimpleRNN"
   ]
  },
  {
   "cell_type": "code",
   "execution_count": 10,
   "metadata": {
    "collapsed": true
   },
   "outputs": [],
   "source": [
    "model = Sequential()"
   ]
  },
  {
   "cell_type": "code",
   "execution_count": 11,
   "metadata": {
    "collapsed": true
   },
   "outputs": [],
   "source": [
    "model.add(Embedding(input_dim=4,output_dim=1))"
   ]
  },
  {
   "cell_type": "code",
   "execution_count": 12,
   "metadata": {
    "collapsed": true
   },
   "outputs": [],
   "source": [
    "model.add(SimpleRNN(units=4))"
   ]
  },
  {
   "cell_type": "code",
   "execution_count": 13,
   "metadata": {
    "collapsed": true
   },
   "outputs": [],
   "source": [
    "model.add(Dense(2, activation = \"sigmoid\"))"
   ]
  },
  {
   "cell_type": "code",
   "execution_count": 14,
   "metadata": {
    "collapsed": false
   },
   "outputs": [
    {
     "name": "stdout",
     "output_type": "stream",
     "text": [
      "_________________________________________________________________\n",
      "Layer (type)                 Output Shape              Param #   \n",
      "=================================================================\n",
      "embedding_1 (Embedding)      (None, None, 1)           4         \n",
      "_________________________________________________________________\n",
      "simple_rnn_1 (SimpleRNN)     (None, 4)                 24        \n",
      "_________________________________________________________________\n",
      "dense_1 (Dense)              (None, 2)                 10        \n",
      "=================================================================\n",
      "Total params: 38\n",
      "Trainable params: 38\n",
      "Non-trainable params: 0\n",
      "_________________________________________________________________\n"
     ]
    }
   ],
   "source": [
    "model.summary()"
   ]
  },
  {
   "cell_type": "code",
   "execution_count": 15,
   "metadata": {
    "collapsed": true
   },
   "outputs": [],
   "source": [
    "model.compile(loss='categorical_crossentropy', \n",
    "              optimizer='RMSprop', metrics=['accuracy'])"
   ]
  },
  {
   "cell_type": "code",
   "execution_count": 16,
   "metadata": {
    "collapsed": false
   },
   "outputs": [
    {
     "name": "stdout",
     "output_type": "stream",
     "text": [
      "Train on 941 samples, validate on 105 samples\n",
      "Epoch 1/30\n",
      " - 1s - loss: 0.6793 - acc: 0.6164 - val_loss: 0.6588 - val_acc: 0.6571\n",
      "Epoch 2/30\n",
      " - 0s - loss: 0.6623 - acc: 0.6057 - val_loss: 0.6397 - val_acc: 0.6571\n",
      "Epoch 3/30\n",
      " - 0s - loss: 0.6475 - acc: 0.6057 - val_loss: 0.6238 - val_acc: 0.6571\n",
      "Epoch 4/30\n",
      " - 0s - loss: 0.6317 - acc: 0.6057 - val_loss: 0.6091 - val_acc: 0.6571\n",
      "Epoch 5/30\n",
      " - 0s - loss: 0.6121 - acc: 0.6057 - val_loss: 0.5936 - val_acc: 0.6571\n",
      "Epoch 6/30\n",
      " - 0s - loss: 0.5892 - acc: 0.7428 - val_loss: 0.5767 - val_acc: 0.7524\n",
      "Epoch 7/30\n",
      " - 0s - loss: 0.5665 - acc: 0.7705 - val_loss: 0.5625 - val_acc: 0.7524\n",
      "Epoch 8/30\n",
      " - 0s - loss: 0.5468 - acc: 0.7705 - val_loss: 0.5545 - val_acc: 0.7524\n",
      "Epoch 9/30\n",
      " - 0s - loss: 0.5318 - acc: 0.7641 - val_loss: 0.5460 - val_acc: 0.7524\n",
      "Epoch 10/30\n",
      " - 0s - loss: 0.5222 - acc: 0.7726 - val_loss: 0.5411 - val_acc: 0.7524\n",
      "Epoch 11/30\n",
      " - 0s - loss: 0.5146 - acc: 0.7726 - val_loss: 0.5378 - val_acc: 0.7524\n",
      "Epoch 12/30\n",
      " - 0s - loss: 0.5090 - acc: 0.7726 - val_loss: 0.5328 - val_acc: 0.7524\n",
      "Epoch 13/30\n",
      " - 0s - loss: 0.5046 - acc: 0.7726 - val_loss: 0.5317 - val_acc: 0.7524\n",
      "Epoch 14/30\n",
      " - 0s - loss: 0.5015 - acc: 0.7694 - val_loss: 0.5284 - val_acc: 0.7619\n",
      "Epoch 15/30\n",
      " - 0s - loss: 0.4987 - acc: 0.7726 - val_loss: 0.5246 - val_acc: 0.7524\n",
      "Epoch 16/30\n",
      " - 0s - loss: 0.4967 - acc: 0.7694 - val_loss: 0.5243 - val_acc: 0.7619\n",
      "Epoch 17/30\n",
      " - 0s - loss: 0.4943 - acc: 0.7726 - val_loss: 0.5232 - val_acc: 0.7619\n",
      "Epoch 18/30\n",
      " - 0s - loss: 0.4923 - acc: 0.7800 - val_loss: 0.5217 - val_acc: 0.7619\n",
      "Epoch 19/30\n",
      " - 0s - loss: 0.4906 - acc: 0.7800 - val_loss: 0.5204 - val_acc: 0.7619\n",
      "Epoch 20/30\n",
      " - 0s - loss: 0.4893 - acc: 0.7800 - val_loss: 0.5199 - val_acc: 0.7619\n",
      "Epoch 21/30\n",
      " - 0s - loss: 0.4880 - acc: 0.7800 - val_loss: 0.5179 - val_acc: 0.7619\n",
      "Epoch 22/30\n",
      " - 0s - loss: 0.4871 - acc: 0.7800 - val_loss: 0.5182 - val_acc: 0.7619\n",
      "Epoch 23/30\n",
      " - 0s - loss: 0.4864 - acc: 0.7800 - val_loss: 0.5182 - val_acc: 0.7619\n",
      "Epoch 24/30\n",
      " - 0s - loss: 0.4852 - acc: 0.7800 - val_loss: 0.5171 - val_acc: 0.7619\n",
      "Epoch 25/30\n",
      " - 0s - loss: 0.4850 - acc: 0.7800 - val_loss: 0.5176 - val_acc: 0.7619\n",
      "Epoch 26/30\n",
      " - 0s - loss: 0.4841 - acc: 0.7800 - val_loss: 0.5161 - val_acc: 0.7619\n",
      "Epoch 27/30\n",
      " - 0s - loss: 0.4835 - acc: 0.7800 - val_loss: 0.5177 - val_acc: 0.7619\n",
      "Epoch 28/30\n",
      " - 0s - loss: 0.4831 - acc: 0.7800 - val_loss: 0.5192 - val_acc: 0.7619\n",
      "Epoch 29/30\n",
      " - 0s - loss: 0.4825 - acc: 0.7800 - val_loss: 0.5175 - val_acc: 0.7619\n",
      "Epoch 30/30\n",
      " - 0s - loss: 0.4823 - acc: 0.7800 - val_loss: 0.5179 - val_acc: 0.7619\n"
     ]
    }
   ],
   "source": [
    "train_history =model.fit(x=train_Features, \n",
    "                         y=train_Label, \n",
    "                         validation_split=0.1, \n",
    "                         epochs=30, \n",
    "                         batch_size=30,verbose=2)"
   ]
  },
  {
   "cell_type": "code",
   "execution_count": 17,
   "metadata": {
    "collapsed": true
   },
   "outputs": [],
   "source": [
    "import matplotlib.pyplot as plt\n",
    "def show_train_history(train_history,train,validation):\n",
    "    plt.plot(train_history.history[train])\n",
    "    plt.plot(train_history.history[validation])\n",
    "    plt.title('Train History')\n",
    "    plt.ylabel(train)\n",
    "    plt.xlabel('Epoch')\n",
    "    plt.legend(['train', 'validation'], loc='upper left')\n",
    "    plt.show()"
   ]
  },
  {
   "cell_type": "code",
   "execution_count": 18,
   "metadata": {
    "collapsed": false
   },
   "outputs": [
    {
     "data": {
      "image/png": "[encoded data removed]",
      "text/plain": [
       "<matplotlib.figure.Figure at 0x7fc787cde320>"
      ]
     },
     "metadata": {},
     "output_type": "display_data"
    }
   ],
   "source": [
    "show_train_history(train_history,'acc','val_acc')"
   ]
  },
  {
   "cell_type": "code",
   "execution_count": 19,
   "metadata": {
    "collapsed": false
   },
   "outputs": [
    {
     "data": {
      "image/png": "[encoded data removed]",
      "text/plain": [
       "<matplotlib.figure.Figure at 0x7fc7871fecf8>"
      ]
     },
     "metadata": {},
     "output_type": "display_data"
    }
   ],
   "source": [
    "show_train_history(train_history,'loss','val_loss')"
   ]
  },
  {
   "cell_type": "code",
   "execution_count": 20,
   "metadata": {
    "collapsed": false
   },
   "outputs": [
    {
     "name": "stdout",
     "output_type": "stream",
     "text": [
      "262/262 [==============================] - 0s 149us/step\n"
     ]
    }
   ],
   "source": [
    "scores = model.evaluate(x=test_Features, \n",
    "                        y=test_Label)"
   ]
  },
  {
   "cell_type": "code",
   "execution_count": 21,
   "metadata": {
    "collapsed": false
   },
   "outputs": [
    {
     "data": {
      "text/plain": [
       "0.7862595415297355"
      ]
     },
     "execution_count": 21,
     "metadata": {},
     "output_type": "execute_result"
    }
   ],
   "source": [
    "scores[1]"
   ]
  }
 ],
 "metadata": {
  "anaconda-cloud": {},
  "kernelspec": {
   "display_name": "Python [conda root]",
   "language": "python",
   "name": "conda-root-py"
  },
  "language_info": {
   "codemirror_mode": {
    "name": "ipython",
    "version": 3
   },
   "file_extension": ".py",
   "mimetype": "text/x-python",
   "name": "python",
   "nbconvert_exporter": "python",
   "pygments_lexer": "ipython3",
   "version": "3.5.2"
  }
 },
 "nbformat": 4,
 "nbformat_minor": 1
}
