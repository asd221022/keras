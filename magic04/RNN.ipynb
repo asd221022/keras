{
 "cells": [
  {
   "cell_type": "code",
   "execution_count": 15,
   "metadata": {
    "collapsed": false
   },
   "outputs": [],
   "source": [
    "import numpy as np\n",
    "import pandas as pd\n",
    "from sklearn.preprocessing import StandardScaler\n",
    "from sklearn.cross_validation import train_test_split"
   ]
  },
  {
   "cell_type": "code",
   "execution_count": 16,
   "metadata": {
    "collapsed": false
   },
   "outputs": [],
   "source": [
    "Ynames = ['fLength', 'fWidth', 'fSize', 'fConc', 'fConc1', 'fAsym', \n",
    "             'fM3Long', 'fM3Trans', 'fAlpha', 'fDist', 'identity']\n",
    "featureNames = ['fLength', 'fWidth', 'fSize', 'fConc', 'fConc1', 'fAsym', \n",
    "             'fM3Long', 'fM3Trans', 'fAlpha', 'fDist']\n",
    "filepath = 'data/magic04.data'\n",
    "data = pd.read_csv(filepath, names=Ynames, header=None)\n",
    "data['identity']= data['identity'].map({'g':1, 'h': 0}).astype(int) \n",
    "X = data[featureNames].values\n",
    "Y = data['identity'].values.astype('int64')"
   ]
  },
  {
   "cell_type": "code",
   "execution_count": 17,
   "metadata": {
    "collapsed": false
   },
   "outputs": [
    {
     "data": {
      "text/plain": [
       "15216"
      ]
     },
     "execution_count": 17,
     "metadata": {},
     "output_type": "execute_result"
    }
   ],
   "source": [
    "X = StandardScaler().fit_transform(X)\n",
    "train_Features, test_Features, train_Label, test_Label = train_test_split(X, Y, test_size=0.2, random_state=True) \n",
    "len(train_Features)"
   ]
  },
  {
   "cell_type": "code",
   "execution_count": 18,
   "metadata": {
    "collapsed": false
   },
   "outputs": [
    {
     "data": {
      "text/plain": [
       "array([[-0.54514198, -0.21932626, -0.27786879,  0.52170994,  0.70441   ,\n",
       "         0.26736555,  0.31590081,  0.44145686, -0.37814548, -1.09130497],\n",
       "       [-0.61831305, -0.4743251 , -0.44228323,  0.54194972,  0.65373489,\n",
       "        -0.05585309, -0.60054665, -0.48406292, -0.49012523, -0.29612042]])"
      ]
     },
     "execution_count": 18,
     "metadata": {},
     "output_type": "execute_result"
    }
   ],
   "source": [
    "test_Features[:2]"
   ]
  },
  {
   "cell_type": "code",
   "execution_count": 19,
   "metadata": {
    "collapsed": false
   },
   "outputs": [
    {
     "data": {
      "text/plain": [
       "array([1, 1, 0, 1])"
      ]
     },
     "execution_count": 19,
     "metadata": {},
     "output_type": "execute_result"
    }
   ],
   "source": [
    "train_Label[:4]"
   ]
  },
  {
   "cell_type": "code",
   "execution_count": 20,
   "metadata": {
    "collapsed": false
   },
   "outputs": [
    {
     "data": {
      "text/plain": [
       "(15216, 10)"
      ]
     },
     "execution_count": 20,
     "metadata": {},
     "output_type": "execute_result"
    }
   ],
   "source": [
    "train_Features.shape"
   ]
  },
  {
   "cell_type": "code",
   "execution_count": 21,
   "metadata": {
    "collapsed": false
   },
   "outputs": [
    {
     "data": {
      "text/plain": [
       "array([1, 1, 1, 0])"
      ]
     },
     "execution_count": 21,
     "metadata": {},
     "output_type": "execute_result"
    }
   ],
   "source": [
    "test_Label[:4]"
   ]
  },
  {
   "cell_type": "code",
   "execution_count": 22,
   "metadata": {
    "collapsed": true
   },
   "outputs": [],
   "source": [
    "train_Features = train_Features.reshape((train_Features.shape[0], train_Features.shape[1], 1))"
   ]
  },
  {
   "cell_type": "code",
   "execution_count": 23,
   "metadata": {
    "collapsed": true
   },
   "outputs": [],
   "source": [
    "test_Features = test_Features.reshape((test_Features.shape[0], test_Features.shape[1], 1))"
   ]
  },
  {
   "cell_type": "code",
   "execution_count": 24,
   "metadata": {
    "collapsed": false
   },
   "outputs": [],
   "source": [
    "from keras.models import Sequential\n",
    "from keras.layers.core import Dense, Dropout, Activation\n",
    "from keras.layers.embeddings import Embedding\n",
    "from keras.layers.recurrent import SimpleRNN"
   ]
  },
  {
   "cell_type": "code",
   "execution_count": 25,
   "metadata": {
    "collapsed": true
   },
   "outputs": [],
   "source": [
    "model = Sequential()"
   ]
  },
  {
   "cell_type": "code",
   "execution_count": 26,
   "metadata": {
    "collapsed": false
   },
   "outputs": [],
   "source": [
    "model.add(SimpleRNN(units=16, input_shape=(10,1)))"
   ]
  },
  {
   "cell_type": "code",
   "execution_count": 27,
   "metadata": {
    "collapsed": true
   },
   "outputs": [],
   "source": [
    "model.add(Dense(1, activation = \"sigmoid\"))"
   ]
  },
  {
   "cell_type": "code",
   "execution_count": 28,
   "metadata": {
    "collapsed": false
   },
   "outputs": [
    {
     "name": "stdout",
     "output_type": "stream",
     "text": [
      "_________________________________________________________________\n",
      "Layer (type)                 Output Shape              Param #   \n",
      "=================================================================\n",
      "simple_rnn_2 (SimpleRNN)     (None, 16)                288       \n",
      "_________________________________________________________________\n",
      "dense_2 (Dense)              (None, 1)                 17        \n",
      "=================================================================\n",
      "Total params: 305\n",
      "Trainable params: 305\n",
      "Non-trainable params: 0\n",
      "_________________________________________________________________\n"
     ]
    }
   ],
   "source": [
    "model.summary()"
   ]
  },
  {
   "cell_type": "code",
   "execution_count": 29,
   "metadata": {
    "collapsed": false
   },
   "outputs": [],
   "source": [
    "model.compile(loss='binary_crossentropy', \n",
    "              optimizer='adam', metrics=['accuracy'])"
   ]
  },
  {
   "cell_type": "code",
   "execution_count": 30,
   "metadata": {
    "collapsed": false
   },
   "outputs": [
    {
     "name": "stdout",
     "output_type": "stream",
     "text": [
      "Train on 12172 samples, validate on 3044 samples\n",
      "Epoch 1/30\n",
      " - 2s - loss: 0.6877 - acc: 0.5648 - val_loss: 0.5849 - val_acc: 0.7263\n",
      "Epoch 2/30\n",
      " - 0s - loss: 0.5508 - acc: 0.7332 - val_loss: 0.5159 - val_acc: 0.7615\n",
      "Epoch 3/30\n",
      " - 0s - loss: 0.5130 - acc: 0.7547 - val_loss: 0.4940 - val_acc: 0.7789\n",
      "Epoch 4/30\n",
      " - 0s - loss: 0.4956 - acc: 0.7689 - val_loss: 0.4790 - val_acc: 0.7858\n",
      "Epoch 5/30\n",
      " - 0s - loss: 0.4803 - acc: 0.7785 - val_loss: 0.4607 - val_acc: 0.7953\n",
      "Epoch 6/30\n",
      " - 0s - loss: 0.4589 - acc: 0.7925 - val_loss: 0.4371 - val_acc: 0.8081\n",
      "Epoch 7/30\n",
      " - 0s - loss: 0.4350 - acc: 0.8059 - val_loss: 0.4170 - val_acc: 0.8141\n",
      "Epoch 8/30\n",
      " - 0s - loss: 0.4145 - acc: 0.8174 - val_loss: 0.4002 - val_acc: 0.8272\n",
      "Epoch 9/30\n",
      " - 0s - loss: 0.4023 - acc: 0.8233 - val_loss: 0.3948 - val_acc: 0.8315\n",
      "Epoch 10/30\n",
      " - 0s - loss: 0.3936 - acc: 0.8317 - val_loss: 0.3858 - val_acc: 0.8321\n",
      "Epoch 11/30\n",
      " - 0s - loss: 0.3880 - acc: 0.8349 - val_loss: 0.3804 - val_acc: 0.8351\n",
      "Epoch 12/30\n",
      " - 0s - loss: 0.3860 - acc: 0.8347 - val_loss: 0.3921 - val_acc: 0.8288\n",
      "Epoch 13/30\n",
      " - 0s - loss: 0.3790 - acc: 0.8380 - val_loss: 0.3746 - val_acc: 0.8384\n",
      "Epoch 14/30\n",
      " - 0s - loss: 0.3762 - acc: 0.8386 - val_loss: 0.3680 - val_acc: 0.8400\n",
      "Epoch 15/30\n",
      " - 0s - loss: 0.3715 - acc: 0.8431 - val_loss: 0.3655 - val_acc: 0.8426\n",
      "Epoch 16/30\n",
      " - 0s - loss: 0.3693 - acc: 0.8424 - val_loss: 0.3642 - val_acc: 0.8463\n",
      "Epoch 17/30\n",
      " - 0s - loss: 0.3661 - acc: 0.8439 - val_loss: 0.3600 - val_acc: 0.8472\n",
      "Epoch 18/30\n",
      " - 0s - loss: 0.3639 - acc: 0.8467 - val_loss: 0.3580 - val_acc: 0.8469\n",
      "Epoch 19/30\n",
      " - 0s - loss: 0.3638 - acc: 0.8446 - val_loss: 0.3582 - val_acc: 0.8472\n",
      "Epoch 20/30\n",
      " - 0s - loss: 0.3595 - acc: 0.8494 - val_loss: 0.3536 - val_acc: 0.8512\n",
      "Epoch 21/30\n",
      " - 0s - loss: 0.3594 - acc: 0.8488 - val_loss: 0.3552 - val_acc: 0.8515\n",
      "Epoch 22/30\n",
      " - 0s - loss: 0.3576 - acc: 0.8486 - val_loss: 0.3554 - val_acc: 0.8489\n",
      "Epoch 23/30\n",
      " - 1s - loss: 0.3561 - acc: 0.8501 - val_loss: 0.3525 - val_acc: 0.8525\n",
      "Epoch 24/30\n",
      " - 0s - loss: 0.3538 - acc: 0.8515 - val_loss: 0.3518 - val_acc: 0.8545\n",
      "Epoch 25/30\n",
      " - 0s - loss: 0.3526 - acc: 0.8501 - val_loss: 0.3481 - val_acc: 0.8551\n",
      "Epoch 26/30\n",
      " - 0s - loss: 0.3511 - acc: 0.8527 - val_loss: 0.3522 - val_acc: 0.8561\n",
      "Epoch 27/30\n",
      " - 1s - loss: 0.3513 - acc: 0.8515 - val_loss: 0.3484 - val_acc: 0.8522\n",
      "Epoch 28/30\n",
      " - 0s - loss: 0.3494 - acc: 0.8524 - val_loss: 0.3476 - val_acc: 0.8545\n",
      "Epoch 29/30\n",
      " - 0s - loss: 0.3480 - acc: 0.8529 - val_loss: 0.3458 - val_acc: 0.8558\n",
      "Epoch 30/30\n",
      " - 1s - loss: 0.3470 - acc: 0.8553 - val_loss: 0.3458 - val_acc: 0.8532\n"
     ]
    }
   ],
   "source": [
    "train_history =model.fit(x=train_Features, \n",
    "                         y=train_Label, \n",
    "                         validation_split=0.2, \n",
    "                         epochs=30, \n",
    "                         batch_size=300,verbose=2)"
   ]
  },
  {
   "cell_type": "code",
   "execution_count": 31,
   "metadata": {
    "collapsed": true
   },
   "outputs": [],
   "source": [
    "import matplotlib.pyplot as plt\n",
    "def show_train_history(train_history,train,validation):\n",
    "    plt.plot(train_history.history[train])\n",
    "    plt.plot(train_history.history[validation])\n",
    "    plt.title('Train History')\n",
    "    plt.ylabel(train)\n",
    "    plt.xlabel('Epoch')\n",
    "    plt.legend(['train', 'validation'], loc='upper left')\n",
    "    plt.show()"
   ]
  },
  {
   "cell_type": "code",
   "execution_count": 32,
   "metadata": {
    "collapsed": false
   },
   "outputs": [
    {
     "data": {
      "image/png": "[encoded data removed]",
      "text/plain": [
       "<matplotlib.figure.Figure at 0x7f1c84d7ebe0>"
      ]
     },
     "metadata": {},
     "output_type": "display_data"
    }
   ],
   "source": [
    "show_train_history(train_history,'acc','val_acc')"
   ]
  },
  {
   "cell_type": "code",
   "execution_count": 33,
   "metadata": {
    "collapsed": false
   },
   "outputs": [
    {
     "data": {
      "image/png": "[encoded data removed]",
      "text/plain": [
       "<matplotlib.figure.Figure at 0x7f1c84d7ee48>"
      ]
     },
     "metadata": {},
     "output_type": "display_data"
    }
   ],
   "source": [
    "show_train_history(train_history,'loss','val_loss')"
   ]
  },
  {
   "cell_type": "code",
   "execution_count": 34,
   "metadata": {
    "collapsed": false
   },
   "outputs": [
    {
     "name": "stdout",
     "output_type": "stream",
     "text": [
      "3804/3804 [==============================] - 0s 112us/step\n"
     ]
    }
   ],
   "source": [
    "scores = model.evaluate(x=test_Features, \n",
    "                        y=test_Label)"
   ]
  },
  {
   "cell_type": "code",
   "execution_count": 35,
   "metadata": {
    "collapsed": false
   },
   "outputs": [
    {
     "data": {
      "text/plain": [
       "0.8475289167415205"
      ]
     },
     "execution_count": 35,
     "metadata": {},
     "output_type": "execute_result"
    }
   ],
   "source": [
    "scores[1]"
   ]
  }
 ],
 "metadata": {
  "anaconda-cloud": {},
  "kernelspec": {
   "display_name": "Python [default]",
   "language": "python",
   "name": "python3"
  },
  "language_info": {
   "codemirror_mode": {
    "name": "ipython",
    "version": 3
   },
   "file_extension": ".py",
   "mimetype": "text/x-python",
   "name": "python",
   "nbconvert_exporter": "python",
   "pygments_lexer": "ipython3",
   "version": "3.5.2"
  }
 },
 "nbformat": 4,
 "nbformat_minor": 1
}
