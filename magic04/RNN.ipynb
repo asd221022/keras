{
 "cells": [
  {
   "cell_type": "code",
   "execution_count": 1,
   "metadata": {
    "collapsed": false
   },
   "outputs": [],
   "source": [
    "import numpy as np\n",
    "import pandas as pd\n",
    "from sklearn.preprocessing import StandardScaler\n",
    "from sklearn.model_selection import train_test_split"
   ]
  },
  {
   "cell_type": "code",
   "execution_count": 2,
   "metadata": {
    "collapsed": false
   },
   "outputs": [],
   "source": [
    "Ynames = ['fLength', 'fWidth', 'fSize', 'fConc', 'fConc1', 'fAsym', \n",
    "             'fM3Long', 'fM3Trans', 'fAlpha', 'fDist', 'identity']\n",
    "featureNames = ['fLength', 'fWidth', 'fSize', 'fConc', 'fConc1', 'fAsym', \n",
    "             'fM3Long', 'fM3Trans', 'fAlpha', 'fDist']\n",
    "filepath = 'data/magic04.data'\n",
    "data = pd.read_csv(filepath, names=Ynames, header=None)\n",
    "data['identity']= data['identity'].map({'g':1, 'h': 0}).astype(int) \n",
    "X = data[featureNames].values\n",
    "Y = data['identity'].values.astype('int64')"
   ]
  },
  {
   "cell_type": "code",
   "execution_count": 3,
   "metadata": {
    "collapsed": false
   },
   "outputs": [
    {
     "data": {
      "text/plain": [
       "15216"
      ]
     },
     "execution_count": 3,
     "metadata": {},
     "output_type": "execute_result"
    }
   ],
   "source": [
    "X = StandardScaler().fit_transform(X)\n",
    "train_Features, test_Features, train_Label, test_Label = train_test_split(X, Y, test_size=0.2, random_state=True) \n",
    "len(train_Features)"
   ]
  },
  {
   "cell_type": "code",
   "execution_count": 4,
   "metadata": {
    "collapsed": false
   },
   "outputs": [
    {
     "data": {
      "text/plain": [
       "array([[-0.54514198, -0.21932626, -0.27786879,  0.52170994,  0.70441   ,\n",
       "         0.26736555,  0.31590081,  0.44145686, -0.37814548, -1.09130497],\n",
       "       [-0.61831305, -0.4743251 , -0.44228323,  0.54194972,  0.65373489,\n",
       "        -0.05585309, -0.60054665, -0.48406292, -0.49012523, -0.29612042]])"
      ]
     },
     "execution_count": 4,
     "metadata": {},
     "output_type": "execute_result"
    }
   ],
   "source": [
    "test_Features[:2]"
   ]
  },
  {
   "cell_type": "code",
   "execution_count": 5,
   "metadata": {
    "collapsed": false
   },
   "outputs": [
    {
     "data": {
      "text/plain": [
       "array([1, 1, 0, 1])"
      ]
     },
     "execution_count": 5,
     "metadata": {},
     "output_type": "execute_result"
    }
   ],
   "source": [
    "train_Label[:4]"
   ]
  },
  {
   "cell_type": "code",
   "execution_count": 6,
   "metadata": {
    "collapsed": false
   },
   "outputs": [
    {
     "data": {
      "text/plain": [
       "(15216, 10)"
      ]
     },
     "execution_count": 6,
     "metadata": {},
     "output_type": "execute_result"
    }
   ],
   "source": [
    "train_Features.shape"
   ]
  },
  {
   "cell_type": "code",
   "execution_count": 7,
   "metadata": {
    "collapsed": false
   },
   "outputs": [
    {
     "data": {
      "text/plain": [
       "array([1, 1, 1, 0])"
      ]
     },
     "execution_count": 7,
     "metadata": {},
     "output_type": "execute_result"
    }
   ],
   "source": [
    "test_Label[:4]"
   ]
  },
  {
   "cell_type": "code",
   "execution_count": 8,
   "metadata": {
    "collapsed": true
   },
   "outputs": [],
   "source": [
    "train_Features = train_Features.reshape((train_Features.shape[0], train_Features.shape[1], 1))"
   ]
  },
  {
   "cell_type": "code",
   "execution_count": 9,
   "metadata": {
    "collapsed": true
   },
   "outputs": [],
   "source": [
    "test_Features = test_Features.reshape((test_Features.shape[0], test_Features.shape[1], 1))"
   ]
  },
  {
   "cell_type": "code",
   "execution_count": 10,
   "metadata": {
    "collapsed": false
   },
   "outputs": [
    {
     "name": "stderr",
     "output_type": "stream",
     "text": [
      "Using TensorFlow backend.\n"
     ]
    }
   ],
   "source": [
    "from keras.models import Sequential\n",
    "from keras.layers.core import Dense, Dropout, Activation\n",
    "from keras.layers.embeddings import Embedding\n",
    "from keras.layers.recurrent import SimpleRNN"
   ]
  },
  {
   "cell_type": "code",
   "execution_count": 11,
   "metadata": {
    "collapsed": true
   },
   "outputs": [],
   "source": [
    "model = Sequential()"
   ]
  },
  {
   "cell_type": "code",
   "execution_count": 12,
   "metadata": {
    "collapsed": false
   },
   "outputs": [],
   "source": [
    "model.add(SimpleRNN(units=10, input_shape=(10,1)))"
   ]
  },
  {
   "cell_type": "code",
   "execution_count": 13,
   "metadata": {
    "collapsed": true
   },
   "outputs": [],
   "source": [
    "model.add(Dense(1, activation = \"sigmoid\"))"
   ]
  },
  {
   "cell_type": "code",
   "execution_count": 14,
   "metadata": {
    "collapsed": false
   },
   "outputs": [
    {
     "name": "stdout",
     "output_type": "stream",
     "text": [
      "_________________________________________________________________\n",
      "Layer (type)                 Output Shape              Param #   \n",
      "=================================================================\n",
      "simple_rnn_1 (SimpleRNN)     (None, 10)                120       \n",
      "_________________________________________________________________\n",
      "dense_1 (Dense)              (None, 1)                 11        \n",
      "=================================================================\n",
      "Total params: 131\n",
      "Trainable params: 131\n",
      "Non-trainable params: 0\n",
      "_________________________________________________________________\n"
     ]
    }
   ],
   "source": [
    "model.summary()"
   ]
  },
  {
   "cell_type": "code",
   "execution_count": 15,
   "metadata": {
    "collapsed": false
   },
   "outputs": [],
   "source": [
    "model.compile(loss='binary_crossentropy', \n",
    "              optimizer='adam', metrics=['accuracy'])"
   ]
  },
  {
   "cell_type": "code",
   "execution_count": 16,
   "metadata": {
    "collapsed": false
   },
   "outputs": [
    {
     "name": "stdout",
     "output_type": "stream",
     "text": [
      "Train on 13694 samples, validate on 1522 samples\n",
      "Epoch 1/30\n",
      " - 1s - loss: 0.6335 - acc: 0.6339 - val_loss: 0.5832 - val_acc: 0.7096\n",
      "Epoch 2/30\n",
      " - 0s - loss: 0.5495 - acc: 0.7266 - val_loss: 0.5355 - val_acc: 0.7569\n",
      "Epoch 3/30\n",
      " - 0s - loss: 0.5196 - acc: 0.7559 - val_loss: 0.5153 - val_acc: 0.7628\n",
      "Epoch 4/30\n",
      " - 0s - loss: 0.5056 - acc: 0.7652 - val_loss: 0.5050 - val_acc: 0.7661\n",
      "Epoch 5/30\n",
      " - 0s - loss: 0.4970 - acc: 0.7695 - val_loss: 0.4965 - val_acc: 0.7707\n",
      "Epoch 6/30\n",
      " - 0s - loss: 0.4878 - acc: 0.7730 - val_loss: 0.4869 - val_acc: 0.7707\n",
      "Epoch 7/30\n",
      " - 0s - loss: 0.4767 - acc: 0.7765 - val_loss: 0.4722 - val_acc: 0.7865\n",
      "Epoch 8/30\n",
      " - 0s - loss: 0.4640 - acc: 0.7844 - val_loss: 0.4596 - val_acc: 0.7884\n",
      "Epoch 9/30\n",
      " - 0s - loss: 0.4527 - acc: 0.7895 - val_loss: 0.4475 - val_acc: 0.7957\n",
      "Epoch 10/30\n",
      " - 0s - loss: 0.4422 - acc: 0.7979 - val_loss: 0.4374 - val_acc: 0.7970\n",
      "Epoch 11/30\n",
      " - 0s - loss: 0.4330 - acc: 0.8025 - val_loss: 0.4270 - val_acc: 0.8003\n",
      "Epoch 12/30\n",
      " - 0s - loss: 0.4260 - acc: 0.8092 - val_loss: 0.4182 - val_acc: 0.8088\n",
      "Epoch 13/30\n",
      " - 0s - loss: 0.4177 - acc: 0.8134 - val_loss: 0.4112 - val_acc: 0.8121\n",
      "Epoch 14/30\n",
      " - 0s - loss: 0.4118 - acc: 0.8193 - val_loss: 0.4017 - val_acc: 0.8141\n",
      "Epoch 15/30\n",
      " - 0s - loss: 0.4068 - acc: 0.8232 - val_loss: 0.3947 - val_acc: 0.8252\n",
      "Epoch 16/30\n",
      " - 0s - loss: 0.4003 - acc: 0.8282 - val_loss: 0.3887 - val_acc: 0.8298\n",
      "Epoch 17/30\n",
      " - 0s - loss: 0.3960 - acc: 0.8307 - val_loss: 0.3840 - val_acc: 0.8311\n",
      "Epoch 18/30\n",
      " - 0s - loss: 0.3904 - acc: 0.8343 - val_loss: 0.3816 - val_acc: 0.8331\n",
      "Epoch 19/30\n",
      " - 0s - loss: 0.3870 - acc: 0.8387 - val_loss: 0.3808 - val_acc: 0.8325\n",
      "Epoch 20/30\n",
      " - 0s - loss: 0.3828 - acc: 0.8386 - val_loss: 0.3781 - val_acc: 0.8351\n",
      "Epoch 21/30\n",
      " - 0s - loss: 0.3788 - acc: 0.8415 - val_loss: 0.3738 - val_acc: 0.8449\n",
      "Epoch 22/30\n",
      " - 0s - loss: 0.3762 - acc: 0.8445 - val_loss: 0.3760 - val_acc: 0.8384\n",
      "Epoch 23/30\n",
      " - 0s - loss: 0.3742 - acc: 0.8446 - val_loss: 0.3715 - val_acc: 0.8482\n",
      "Epoch 24/30\n",
      " - 0s - loss: 0.3710 - acc: 0.8459 - val_loss: 0.3699 - val_acc: 0.8495\n",
      "Epoch 25/30\n",
      " - 0s - loss: 0.3687 - acc: 0.8470 - val_loss: 0.3727 - val_acc: 0.8436\n",
      "Epoch 26/30\n",
      " - 0s - loss: 0.3661 - acc: 0.8480 - val_loss: 0.3691 - val_acc: 0.8482\n",
      "Epoch 27/30\n",
      " - 0s - loss: 0.3644 - acc: 0.8493 - val_loss: 0.3677 - val_acc: 0.8482\n",
      "Epoch 28/30\n",
      " - 0s - loss: 0.3616 - acc: 0.8505 - val_loss: 0.3664 - val_acc: 0.8495\n",
      "Epoch 29/30\n",
      " - 0s - loss: 0.3601 - acc: 0.8508 - val_loss: 0.3686 - val_acc: 0.8463\n",
      "Epoch 30/30\n",
      " - 0s - loss: 0.3589 - acc: 0.8507 - val_loss: 0.3682 - val_acc: 0.8469\n"
     ]
    }
   ],
   "source": [
    "train_history =model.fit(x=train_Features, \n",
    "                         y=train_Label, \n",
    "                         validation_split=0.1, \n",
    "                         epochs=30, \n",
    "                         batch_size=300,verbose=2)"
   ]
  },
  {
   "cell_type": "code",
   "execution_count": 17,
   "metadata": {
    "collapsed": true
   },
   "outputs": [],
   "source": [
    "import matplotlib.pyplot as plt\n",
    "def show_train_history(train_history,train,validation):\n",
    "    plt.plot(train_history.history[train])\n",
    "    plt.plot(train_history.history[validation])\n",
    "    plt.title('Train History')\n",
    "    plt.ylabel(train)\n",
    "    plt.xlabel('Epoch')\n",
    "    plt.legend(['train', 'validation'], loc='upper left')\n",
    "    plt.show()"
   ]
  },
  {
   "cell_type": "code",
   "execution_count": 18,
   "metadata": {
    "collapsed": false
   },
   "outputs": [
    {
     "data": {
      "image/png": "[encoded data removed]",
      "text/plain": [
       "<matplotlib.figure.Figure at 0x7f6c0c336fd0>"
      ]
     },
     "metadata": {},
     "output_type": "display_data"
    }
   ],
   "source": [
    "show_train_history(train_history,'acc','val_acc')"
   ]
  },
  {
   "cell_type": "code",
   "execution_count": 19,
   "metadata": {
    "collapsed": false
   },
   "outputs": [
    {
     "data": {
      "image/png": "[encoded data removed]",
      "text/plain": [
       "<matplotlib.figure.Figure at 0x7f6c1b1fba90>"
      ]
     },
     "metadata": {},
     "output_type": "display_data"
    }
   ],
   "source": [
    "show_train_history(train_history,'loss','val_loss')"
   ]
  },
  {
   "cell_type": "code",
   "execution_count": 20,
   "metadata": {
    "collapsed": false
   },
   "outputs": [
    {
     "name": "stdout",
     "output_type": "stream",
     "text": [
      "3804/3804 [==============================] - 0s 36us/step\n"
     ]
    }
   ],
   "source": [
    "scores = model.evaluate(x=test_Features, \n",
    "                        y=test_Label)"
   ]
  },
  {
   "cell_type": "code",
   "execution_count": 21,
   "metadata": {
    "collapsed": false
   },
   "outputs": [
    {
     "data": {
      "text/plain": [
       "0.8504206098843323"
      ]
     },
     "execution_count": 21,
     "metadata": {},
     "output_type": "execute_result"
    }
   ],
   "source": [
    "scores[1]"
   ]
  }
 ],
 "metadata": {
  "anaconda-cloud": {},
  "kernelspec": {
   "display_name": "Python [default]",
   "language": "python",
   "name": "python3"
  },
  "language_info": {
   "codemirror_mode": {
    "name": "ipython",
    "version": 3
   },
   "file_extension": ".py",
   "mimetype": "text/x-python",
   "name": "python",
   "nbconvert_exporter": "python",
   "pygments_lexer": "ipython3",
   "version": "3.5.2"
  }
 },
 "nbformat": 4,
 "nbformat_minor": 1
}
