{
 "cells": [
  {
   "cell_type": "code",
   "execution_count": 43,
   "metadata": {
    "collapsed": false
   },
   "outputs": [],
   "source": [
    "import numpy as np\n",
    "import pandas as pd\n",
    "from sklearn.preprocessing import StandardScaler\n",
    "from sklearn.cross_validation import train_test_split"
   ]
  },
  {
   "cell_type": "code",
   "execution_count": 44,
   "metadata": {
    "collapsed": false
   },
   "outputs": [],
   "source": [
    "Ynames = ['fLength', 'fWidth', 'fSize', 'fConc', 'fConc1', 'fAsym', \n",
    "             'fM3Long', 'fM3Trans', 'fAlpha', 'fDist', 'identity']\n",
    "featureNames = ['fLength', 'fWidth', 'fSize', 'fConc', 'fConc1', 'fAsym', \n",
    "             'fM3Long', 'fM3Trans', 'fAlpha', 'fDist']\n",
    "filepath = 'data/magic04.data'\n",
    "data = pd.read_csv(filepath, names=Ynames, header=None)\n",
    "data['identity']= data['identity'].map({'g':1, 'h': 0}).astype(int) \n",
    "X = data[featureNames].values\n",
    "Y = data['identity'].values.astype('int64')"
   ]
  },
  {
   "cell_type": "code",
   "execution_count": 45,
   "metadata": {
    "collapsed": false
   },
   "outputs": [
    {
     "data": {
      "text/plain": [
       "array([[-0.50434766, -0.47338754, -0.52861668,  0.33025259,  0.57862713,\n",
       "        -0.05897786,  0.15526559,  0.51493398,  1.9203011 , -0.86617664],\n",
       "       [-0.02831558,  1.3528186 ,  0.4752213 , -0.51106569, -0.51993693,\n",
       "        -1.12874948,  0.68880387,  1.39285184,  0.59590976,  1.15586885]])"
      ]
     },
     "execution_count": 45,
     "metadata": {},
     "output_type": "execute_result"
    }
   ],
   "source": [
    "X = StandardScaler().fit_transform(X)\n",
    "train_Features, test_Features, train_Label, test_Label = train_test_split(X, Y, test_size=0.33, random_state=None) \n",
    "train_Features[:2]"
   ]
  },
  {
   "cell_type": "code",
   "execution_count": 46,
   "metadata": {
    "collapsed": false
   },
   "outputs": [
    {
     "data": {
      "text/plain": [
       "array([[ 1.0290509 ,  0.06645929,  1.23275502, -0.9333659 , -0.78688618,\n",
       "         1.32052695,  1.84236682, -0.58696354, -1.02896503,  0.89961372],\n",
       "       [ 0.20381925,  0.46838184,  1.13182105, -0.80755107, -0.88914132,\n",
       "         0.80213397,  0.82474438,  1.13365809, -1.05820313,  1.11742502]])"
      ]
     },
     "execution_count": 46,
     "metadata": {},
     "output_type": "execute_result"
    }
   ],
   "source": [
    "test_Features[:2]"
   ]
  },
  {
   "cell_type": "code",
   "execution_count": 47,
   "metadata": {
    "collapsed": false
   },
   "outputs": [
    {
     "data": {
      "text/plain": [
       "array([0, 0, 0, 1])"
      ]
     },
     "execution_count": 47,
     "metadata": {},
     "output_type": "execute_result"
    }
   ],
   "source": [
    "train_Label[:4]"
   ]
  },
  {
   "cell_type": "code",
   "execution_count": 48,
   "metadata": {
    "collapsed": false
   },
   "outputs": [
    {
     "data": {
      "text/plain": [
       "(12743, 10)"
      ]
     },
     "execution_count": 48,
     "metadata": {},
     "output_type": "execute_result"
    }
   ],
   "source": [
    "train_Features.shape"
   ]
  },
  {
   "cell_type": "code",
   "execution_count": 49,
   "metadata": {
    "collapsed": false
   },
   "outputs": [
    {
     "data": {
      "text/plain": [
       "array([1, 1, 1, 1])"
      ]
     },
     "execution_count": 49,
     "metadata": {},
     "output_type": "execute_result"
    }
   ],
   "source": [
    "test_Label[:4]"
   ]
  },
  {
   "cell_type": "code",
   "execution_count": 50,
   "metadata": {
    "collapsed": true
   },
   "outputs": [],
   "source": [
    "train_Features = train_Features.reshape((train_Features.shape[0], train_Features.shape[1], 1))"
   ]
  },
  {
   "cell_type": "code",
   "execution_count": 51,
   "metadata": {
    "collapsed": true
   },
   "outputs": [],
   "source": [
    "test_Features = test_Features.reshape((test_Features.shape[0], test_Features.shape[1], 1))"
   ]
  },
  {
   "cell_type": "code",
   "execution_count": 52,
   "metadata": {
    "collapsed": false
   },
   "outputs": [],
   "source": [
    "from keras.models import Sequential\n",
    "from keras.layers.core import Dense, Dropout, Activation\n",
    "from keras.layers.embeddings import Embedding\n",
    "from keras.layers.recurrent import SimpleRNN"
   ]
  },
  {
   "cell_type": "code",
   "execution_count": 53,
   "metadata": {
    "collapsed": true
   },
   "outputs": [],
   "source": [
    "model = Sequential()"
   ]
  },
  {
   "cell_type": "code",
   "execution_count": 54,
   "metadata": {
    "collapsed": false
   },
   "outputs": [],
   "source": [
    "model.add(SimpleRNN(units=16, input_shape=(10,1)))"
   ]
  },
  {
   "cell_type": "code",
   "execution_count": 55,
   "metadata": {
    "collapsed": true
   },
   "outputs": [],
   "source": [
    "model.add(Dense(1, activation = \"sigmoid\"))"
   ]
  },
  {
   "cell_type": "code",
   "execution_count": 56,
   "metadata": {
    "collapsed": false
   },
   "outputs": [
    {
     "name": "stdout",
     "output_type": "stream",
     "text": [
      "_________________________________________________________________\n",
      "Layer (type)                 Output Shape              Param #   \n",
      "=================================================================\n",
      "simple_rnn_3 (SimpleRNN)     (None, 16)                288       \n",
      "_________________________________________________________________\n",
      "dense_3 (Dense)              (None, 1)                 17        \n",
      "=================================================================\n",
      "Total params: 305\n",
      "Trainable params: 305\n",
      "Non-trainable params: 0\n",
      "_________________________________________________________________\n"
     ]
    }
   ],
   "source": [
    "model.summary()"
   ]
  },
  {
   "cell_type": "code",
   "execution_count": 57,
   "metadata": {
    "collapsed": false
   },
   "outputs": [],
   "source": [
    "model.compile(loss='binary_crossentropy', \n",
    "              optimizer='adam', metrics=['accuracy'])"
   ]
  },
  {
   "cell_type": "code",
   "execution_count": 58,
   "metadata": {
    "collapsed": false
   },
   "outputs": [
    {
     "name": "stdout",
     "output_type": "stream",
     "text": [
      "Train on 10194 samples, validate on 2549 samples\n",
      "Epoch 1/30\n",
      "10194/10194 [==============================] - 2s 212us/step - loss: 0.5858 - acc: 0.7025 - val_loss: 0.5452 - val_acc: 0.7454\n",
      "Epoch 2/30\n",
      "10194/10194 [==============================] - 1s 96us/step - loss: 0.5124 - acc: 0.7723 - val_loss: 0.5044 - val_acc: 0.7689\n",
      "Epoch 3/30\n",
      "10194/10194 [==============================] - 1s 62us/step - loss: 0.4870 - acc: 0.7784 - val_loss: 0.4901 - val_acc: 0.7701\n",
      "Epoch 4/30\n",
      "10194/10194 [==============================] - 1s 79us/step - loss: 0.4731 - acc: 0.7851 - val_loss: 0.4774 - val_acc: 0.7748\n",
      "Epoch 5/30\n",
      "10194/10194 [==============================] - 0s 37us/step - loss: 0.4591 - acc: 0.7903 - val_loss: 0.4646 - val_acc: 0.7827\n",
      "Epoch 6/30\n",
      "10194/10194 [==============================] - 0s 35us/step - loss: 0.4451 - acc: 0.7979 - val_loss: 0.4510 - val_acc: 0.7878\n",
      "Epoch 7/30\n",
      "10194/10194 [==============================] - 0s 36us/step - loss: 0.4289 - acc: 0.8097 - val_loss: 0.4345 - val_acc: 0.7999\n",
      "Epoch 8/30\n",
      "10194/10194 [==============================] - 0s 38us/step - loss: 0.4110 - acc: 0.8204 - val_loss: 0.4181 - val_acc: 0.8164\n",
      "Epoch 9/30\n",
      "10194/10194 [==============================] - 0s 36us/step - loss: 0.3952 - acc: 0.8333 - val_loss: 0.4042 - val_acc: 0.8317\n",
      "Epoch 10/30\n",
      "10194/10194 [==============================] - 0s 37us/step - loss: 0.3836 - acc: 0.8435 - val_loss: 0.3956 - val_acc: 0.8427\n",
      "Epoch 11/30\n",
      "10194/10194 [==============================] - 0s 39us/step - loss: 0.3754 - acc: 0.8456 - val_loss: 0.3897 - val_acc: 0.8458\n",
      "Epoch 12/30\n",
      "10194/10194 [==============================] - 0s 38us/step - loss: 0.3691 - acc: 0.8504 - val_loss: 0.3874 - val_acc: 0.8462\n",
      "Epoch 13/30\n",
      "10194/10194 [==============================] - 0s 47us/step - loss: 0.3637 - acc: 0.8537 - val_loss: 0.3820 - val_acc: 0.8521\n",
      "Epoch 14/30\n",
      "10194/10194 [==============================] - 1s 52us/step - loss: 0.3586 - acc: 0.8553 - val_loss: 0.3783 - val_acc: 0.8509\n",
      "Epoch 15/30\n",
      "10194/10194 [==============================] - 1s 85us/step - loss: 0.3552 - acc: 0.8559 - val_loss: 0.3749 - val_acc: 0.8509\n",
      "Epoch 16/30\n",
      "10194/10194 [==============================] - 1s 99us/step - loss: 0.3513 - acc: 0.8559 - val_loss: 0.3719 - val_acc: 0.8501\n",
      "Epoch 17/30\n",
      "10194/10194 [==============================] - 1s 50us/step - loss: 0.3488 - acc: 0.8578 - val_loss: 0.3690 - val_acc: 0.8533\n",
      "Epoch 18/30\n",
      "10194/10194 [==============================] - 1s 61us/step - loss: 0.3468 - acc: 0.8566 - val_loss: 0.3674 - val_acc: 0.8517\n",
      "Epoch 19/30\n",
      "10194/10194 [==============================] - 1s 85us/step - loss: 0.3444 - acc: 0.8584 - val_loss: 0.3657 - val_acc: 0.8545\n",
      "Epoch 20/30\n",
      "10194/10194 [==============================] - 1s 98us/step - loss: 0.3419 - acc: 0.8598 - val_loss: 0.3640 - val_acc: 0.8548\n",
      "Epoch 21/30\n",
      "10194/10194 [==============================] - 1s 108us/step - loss: 0.3410 - acc: 0.8591 - val_loss: 0.3633 - val_acc: 0.8513\n",
      "Epoch 22/30\n",
      "10194/10194 [==============================] - 1s 73us/step - loss: 0.3390 - acc: 0.8595 - val_loss: 0.3619 - val_acc: 0.8537\n",
      "Epoch 23/30\n",
      "10194/10194 [==============================] - 1s 78us/step - loss: 0.3369 - acc: 0.8605 - val_loss: 0.3599 - val_acc: 0.8560\n",
      "Epoch 24/30\n",
      "10194/10194 [==============================] - 1s 82us/step - loss: 0.3358 - acc: 0.8599 - val_loss: 0.3587 - val_acc: 0.8533\n",
      "Epoch 25/30\n",
      "10194/10194 [==============================] - 1s 96us/step - loss: 0.3368 - acc: 0.8591 - val_loss: 0.3583 - val_acc: 0.8568\n",
      "Epoch 26/30\n",
      "10194/10194 [==============================] - 1s 78us/step - loss: 0.3356 - acc: 0.8599 - val_loss: 0.3570 - val_acc: 0.8517\n",
      "Epoch 27/30\n",
      "10194/10194 [==============================] - 1s 75us/step - loss: 0.3332 - acc: 0.8610 - val_loss: 0.3582 - val_acc: 0.8564\n",
      "Epoch 28/30\n",
      "10194/10194 [==============================] - 1s 74us/step - loss: 0.3315 - acc: 0.8616 - val_loss: 0.3549 - val_acc: 0.8568\n",
      "Epoch 29/30\n",
      "10194/10194 [==============================] - 1s 71us/step - loss: 0.3317 - acc: 0.8634 - val_loss: 0.3536 - val_acc: 0.8572\n",
      "Epoch 30/30\n",
      "10194/10194 [==============================] - 1s 97us/step - loss: 0.3304 - acc: 0.8614 - val_loss: 0.3549 - val_acc: 0.8580\n"
     ]
    }
   ],
   "source": [
    "train_history =model.fit(x=train_Features, \n",
    "                         y=train_Label, \n",
    "                         validation_split=0.2, \n",
    "                         epochs=30, \n",
    "                         batch_size=300,verbose=1)"
   ]
  },
  {
   "cell_type": "code",
   "execution_count": 59,
   "metadata": {
    "collapsed": true
   },
   "outputs": [],
   "source": [
    "import matplotlib.pyplot as plt\n",
    "def show_train_history(train_history,train,validation):\n",
    "    plt.plot(train_history.history[train])\n",
    "    plt.plot(train_history.history[validation])\n",
    "    plt.title('Train History')\n",
    "    plt.ylabel(train)\n",
    "    plt.xlabel('Epoch')\n",
    "    plt.legend(['train', 'validation'], loc='upper left')\n",
    "    plt.show()"
   ]
  },
  {
   "cell_type": "code",
   "execution_count": 60,
   "metadata": {
    "collapsed": false
   },
   "outputs": [
    {
     "data": {
      "image/png": "[encoded data removed]",
      "text/plain": [
       "<matplotlib.figure.Figure at 0x7f25c068abe0>"
      ]
     },
     "metadata": {},
     "output_type": "display_data"
    }
   ],
   "source": [
    "show_train_history(train_history,'acc','val_acc')"
   ]
  },
  {
   "cell_type": "code",
   "execution_count": 61,
   "metadata": {
    "collapsed": false
   },
   "outputs": [
    {
     "data": {
      "image/png": "[encoded data removed]",
      "text/plain": [
       "<matplotlib.figure.Figure at 0x7f25c068ab70>"
      ]
     },
     "metadata": {},
     "output_type": "display_data"
    }
   ],
   "source": [
    "show_train_history(train_history,'loss','val_loss')"
   ]
  },
  {
   "cell_type": "code",
   "execution_count": 62,
   "metadata": {
    "collapsed": false
   },
   "outputs": [
    {
     "name": "stdout",
     "output_type": "stream",
     "text": [
      "6277/6277 [==============================] - 1s 198us/step\n"
     ]
    }
   ],
   "source": [
    "scores = model.evaluate(x=test_Features, \n",
    "                        y=test_Label)"
   ]
  },
  {
   "cell_type": "code",
   "execution_count": 63,
   "metadata": {
    "collapsed": false
   },
   "outputs": [
    {
     "data": {
      "text/plain": [
       "0.854548351123148"
      ]
     },
     "execution_count": 63,
     "metadata": {},
     "output_type": "execute_result"
    }
   ],
   "source": [
    "scores[1]"
   ]
  }
 ],
 "metadata": {
  "anaconda-cloud": {},
  "kernelspec": {
   "display_name": "Python [default]",
   "language": "python",
   "name": "python3"
  },
  "language_info": {
   "codemirror_mode": {
    "name": "ipython",
    "version": 3
   },
   "file_extension": ".py",
   "mimetype": "text/x-python",
   "name": "python",
   "nbconvert_exporter": "python",
   "pygments_lexer": "ipython3",
   "version": "3.5.2"
  }
 },
 "nbformat": 4,
 "nbformat_minor": 1
}
