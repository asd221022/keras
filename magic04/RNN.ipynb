{
 "cells": [
  {
   "cell_type": "code",
   "execution_count": 159,
   "metadata": {
    "collapsed": false
   },
   "outputs": [],
   "source": [
    "import numpy as np\n",
    "import pandas as pd\n",
    "from sklearn import preprocessing\n",
    "from sklearn.cross_validation import train_test_split"
   ]
  },
  {
   "cell_type": "code",
   "execution_count": 160,
   "metadata": {
    "collapsed": false
   },
   "outputs": [],
   "source": [
    "Ynames = ['fLength', 'fWidth', 'fSize', 'fConc', 'fConc1', 'fAsym', \n",
    "             'fM3Long', 'fM3Trans', 'fAlpha', 'fDist', 'identity']\n",
    "featureNames = ['fLength', 'fWidth', 'fSize', 'fConc', 'fConc1', 'fAsym', \n",
    "             'fM3Long', 'fM3Trans', 'fAlpha', 'fDist']\n",
    "filepath = 'data/magic04.data'\n",
    "data = pd.read_csv(filepath, names=Ynames, header=None)\n",
    "data['identity']= data['identity'].map({'g':1, 'h': 0}).astype(int) \n",
    "X = data[featureNames].values\n",
    "Y = data['identity'].values.astype('int64')"
   ]
  },
  {
   "cell_type": "code",
   "execution_count": 161,
   "metadata": {
    "collapsed": false
   },
   "outputs": [
    {
     "data": {
      "text/plain": [
       "15216"
      ]
     },
     "execution_count": 161,
     "metadata": {},
     "output_type": "execute_result"
    }
   ],
   "source": [
    "minmax_scale = preprocessing.MinMaxScaler(feature_range=(0, 1))\n",
    "X=minmax_scale.fit_transform(X) \n",
    "train_Features, test_Features, train_Label, test_Label = train_test_split(X, Y, test_size=0.2, random_state=True) \n",
    "len(train_Features)"
   ]
  },
  {
   "cell_type": "code",
   "execution_count": 162,
   "metadata": {
    "collapsed": false
   },
   "outputs": [
    {
     "data": {
      "text/plain": [
       "array([[0.07842652, 0.07082127, 0.22247191, 0.52574156, 0.43295303,\n",
       "        0.45434885, 0.62872386, 0.55823979, 0.1975    , 0.22453419],\n",
       "       [0.06903016, 0.05257467, 0.19949734, 0.52994658, 0.4246555 ,\n",
       "        0.43582697, 0.54674242, 0.50826983, 0.16502222, 0.34475793]])"
      ]
     },
     "execution_count": 162,
     "metadata": {},
     "output_type": "execute_result"
    }
   ],
   "source": [
    "test_Features[:2]"
   ]
  },
  {
   "cell_type": "code",
   "execution_count": 163,
   "metadata": {
    "collapsed": false
   },
   "outputs": [
    {
     "data": {
      "text/plain": [
       "array([1, 1, 0, 1])"
      ]
     },
     "execution_count": 163,
     "metadata": {},
     "output_type": "execute_result"
    }
   ],
   "source": [
    "train_Label[:4]"
   ]
  },
  {
   "cell_type": "code",
   "execution_count": 164,
   "metadata": {
    "collapsed": false
   },
   "outputs": [
    {
     "data": {
      "text/plain": [
       "(15216, 10)"
      ]
     },
     "execution_count": 164,
     "metadata": {},
     "output_type": "execute_result"
    }
   ],
   "source": [
    "train_Features.shape"
   ]
  },
  {
   "cell_type": "code",
   "execution_count": 165,
   "metadata": {
    "collapsed": false
   },
   "outputs": [
    {
     "data": {
      "text/plain": [
       "array([1, 1, 1, 0])"
      ]
     },
     "execution_count": 165,
     "metadata": {},
     "output_type": "execute_result"
    }
   ],
   "source": [
    "test_Label[:4]"
   ]
  },
  {
   "cell_type": "code",
   "execution_count": 166,
   "metadata": {
    "collapsed": false
   },
   "outputs": [],
   "source": [
    "from keras.models import Sequential\n",
    "from keras.layers.core import Dense, Dropout, Activation\n",
    "from keras.layers.embeddings import Embedding\n",
    "from keras.layers.recurrent import SimpleRNN"
   ]
  },
  {
   "cell_type": "code",
   "execution_count": 167,
   "metadata": {
    "collapsed": true
   },
   "outputs": [],
   "source": [
    "model = Sequential()"
   ]
  },
  {
   "cell_type": "code",
   "execution_count": 168,
   "metadata": {
    "collapsed": false
   },
   "outputs": [],
   "source": [
    "model.add(Embedding(input_dim=10,output_dim=1))"
   ]
  },
  {
   "cell_type": "code",
   "execution_count": 169,
   "metadata": {
    "collapsed": false
   },
   "outputs": [],
   "source": [
    "model.add(SimpleRNN(units=10))"
   ]
  },
  {
   "cell_type": "code",
   "execution_count": 170,
   "metadata": {
    "collapsed": true
   },
   "outputs": [],
   "source": [
    "model.add(Dense(1, activation = \"sigmoid\"))"
   ]
  },
  {
   "cell_type": "code",
   "execution_count": 171,
   "metadata": {
    "collapsed": false
   },
   "outputs": [
    {
     "name": "stdout",
     "output_type": "stream",
     "text": [
      "_________________________________________________________________\n",
      "Layer (type)                 Output Shape              Param #   \n",
      "=================================================================\n",
      "embedding_8 (Embedding)      (None, None, 1)           10        \n",
      "_________________________________________________________________\n",
      "simple_rnn_8 (SimpleRNN)     (None, 10)                120       \n",
      "_________________________________________________________________\n",
      "dense_8 (Dense)              (None, 1)                 11        \n",
      "=================================================================\n",
      "Total params: 141\n",
      "Trainable params: 141\n",
      "Non-trainable params: 0\n",
      "_________________________________________________________________\n"
     ]
    }
   ],
   "source": [
    "model.summary()"
   ]
  },
  {
   "cell_type": "code",
   "execution_count": 172,
   "metadata": {
    "collapsed": false
   },
   "outputs": [],
   "source": [
    "model.compile(loss='binary_crossentropy', \n",
    "              optimizer='adam', metrics=['accuracy'])"
   ]
  },
  {
   "cell_type": "code",
   "execution_count": 173,
   "metadata": {
    "collapsed": false
   },
   "outputs": [
    {
     "name": "stdout",
     "output_type": "stream",
     "text": [
      "Train on 12172 samples, validate on 3044 samples\n",
      "Epoch 1/30\n",
      " - 1s - loss: 0.6684 - acc: 0.6435 - val_loss: 0.6434 - val_acc: 0.6570\n",
      "Epoch 2/30\n",
      " - 0s - loss: 0.6515 - acc: 0.6435 - val_loss: 0.6431 - val_acc: 0.6570\n",
      "Epoch 3/30\n",
      " - 0s - loss: 0.6514 - acc: 0.6435 - val_loss: 0.6440 - val_acc: 0.6570\n",
      "Epoch 4/30\n",
      " - 0s - loss: 0.6517 - acc: 0.6435 - val_loss: 0.6441 - val_acc: 0.6570\n",
      "Epoch 5/30\n",
      " - 0s - loss: 0.6516 - acc: 0.6435 - val_loss: 0.6433 - val_acc: 0.6570\n",
      "Epoch 6/30\n",
      " - 0s - loss: 0.6515 - acc: 0.6435 - val_loss: 0.6438 - val_acc: 0.6570\n",
      "Epoch 7/30\n",
      " - 0s - loss: 0.6515 - acc: 0.6435 - val_loss: 0.6440 - val_acc: 0.6570\n",
      "Epoch 8/30\n",
      " - 1s - loss: 0.6515 - acc: 0.6435 - val_loss: 0.6431 - val_acc: 0.6570\n",
      "Epoch 9/30\n",
      " - 1s - loss: 0.6514 - acc: 0.6435 - val_loss: 0.6439 - val_acc: 0.6570\n",
      "Epoch 10/30\n",
      " - 1s - loss: 0.6514 - acc: 0.6435 - val_loss: 0.6430 - val_acc: 0.6570\n",
      "Epoch 11/30\n",
      " - 1s - loss: 0.6515 - acc: 0.6435 - val_loss: 0.6430 - val_acc: 0.6570\n",
      "Epoch 12/30\n",
      " - 1s - loss: 0.6514 - acc: 0.6435 - val_loss: 0.6434 - val_acc: 0.6570\n",
      "Epoch 13/30\n",
      " - 1s - loss: 0.6515 - acc: 0.6435 - val_loss: 0.6435 - val_acc: 0.6570\n",
      "Epoch 14/30\n",
      " - 1s - loss: 0.6516 - acc: 0.6435 - val_loss: 0.6432 - val_acc: 0.6570\n",
      "Epoch 15/30\n",
      " - 1s - loss: 0.6514 - acc: 0.6435 - val_loss: 0.6433 - val_acc: 0.6570\n",
      "Epoch 16/30\n",
      " - 1s - loss: 0.6514 - acc: 0.6435 - val_loss: 0.6448 - val_acc: 0.6570\n",
      "Epoch 17/30\n",
      " - 1s - loss: 0.6517 - acc: 0.6435 - val_loss: 0.6429 - val_acc: 0.6570\n",
      "Epoch 18/30\n",
      " - 0s - loss: 0.6514 - acc: 0.6435 - val_loss: 0.6439 - val_acc: 0.6570\n",
      "Epoch 19/30\n",
      " - 0s - loss: 0.6517 - acc: 0.6435 - val_loss: 0.6434 - val_acc: 0.6570\n",
      "Epoch 20/30\n",
      " - 0s - loss: 0.6515 - acc: 0.6435 - val_loss: 0.6429 - val_acc: 0.6570\n",
      "Epoch 21/30\n",
      " - 0s - loss: 0.6516 - acc: 0.6435 - val_loss: 0.6429 - val_acc: 0.6570\n",
      "Epoch 22/30\n",
      " - 0s - loss: 0.6516 - acc: 0.6435 - val_loss: 0.6429 - val_acc: 0.6570\n",
      "Epoch 23/30\n",
      " - 0s - loss: 0.6516 - acc: 0.6435 - val_loss: 0.6434 - val_acc: 0.6570\n",
      "Epoch 24/30\n",
      " - 0s - loss: 0.6515 - acc: 0.6435 - val_loss: 0.6431 - val_acc: 0.6570\n",
      "Epoch 25/30\n",
      " - 0s - loss: 0.6514 - acc: 0.6435 - val_loss: 0.6439 - val_acc: 0.6570\n",
      "Epoch 26/30\n",
      " - 0s - loss: 0.6514 - acc: 0.6435 - val_loss: 0.6431 - val_acc: 0.6570\n",
      "Epoch 27/30\n",
      " - 0s - loss: 0.6515 - acc: 0.6435 - val_loss: 0.6431 - val_acc: 0.6570\n",
      "Epoch 28/30\n",
      " - 0s - loss: 0.6515 - acc: 0.6435 - val_loss: 0.6430 - val_acc: 0.6570\n",
      "Epoch 29/30\n",
      " - 0s - loss: 0.6516 - acc: 0.6435 - val_loss: 0.6434 - val_acc: 0.6570\n",
      "Epoch 30/30\n",
      " - 0s - loss: 0.6514 - acc: 0.6435 - val_loss: 0.6434 - val_acc: 0.6570\n"
     ]
    }
   ],
   "source": [
    "train_history =model.fit(x=train_Features, \n",
    "                         y=train_Label, \n",
    "                         validation_split=0.2, \n",
    "                         epochs=30, \n",
    "                         batch_size=300,verbose=2)"
   ]
  },
  {
   "cell_type": "code",
   "execution_count": 174,
   "metadata": {
    "collapsed": true
   },
   "outputs": [],
   "source": [
    "import matplotlib.pyplot as plt\n",
    "def show_train_history(train_history,train,validation):\n",
    "    plt.plot(train_history.history[train])\n",
    "    plt.plot(train_history.history[validation])\n",
    "    plt.title('Train History')\n",
    "    plt.ylabel(train)\n",
    "    plt.xlabel('Epoch')\n",
    "    plt.legend(['train', 'validation'], loc='upper left')\n",
    "    plt.show()"
   ]
  },
  {
   "cell_type": "code",
   "execution_count": 175,
   "metadata": {
    "collapsed": false
   },
   "outputs": [
    {
     "data": {
      "image/png": "[encoded data removed]",
      "text/plain": [
       "<matplotlib.figure.Figure at 0x7fc18a169400>"
      ]
     },
     "metadata": {},
     "output_type": "display_data"
    }
   ],
   "source": [
    "show_train_history(train_history,'acc','val_acc')"
   ]
  },
  {
   "cell_type": "code",
   "execution_count": 176,
   "metadata": {
    "collapsed": false
   },
   "outputs": [
    {
     "data": {
      "image/png": "[encoded data removed]",
      "text/plain": [
       "<matplotlib.figure.Figure at 0x7fc18a1050f0>"
      ]
     },
     "metadata": {},
     "output_type": "display_data"
    }
   ],
   "source": [
    "show_train_history(train_history,'loss','val_loss')"
   ]
  },
  {
   "cell_type": "code",
   "execution_count": 177,
   "metadata": {
    "collapsed": false
   },
   "outputs": [
    {
     "name": "stdout",
     "output_type": "stream",
     "text": [
      "3804/3804 [==============================] - 1s 260us/step\n"
     ]
    }
   ],
   "source": [
    "scores = model.evaluate(x=test_Features, \n",
    "                        y=test_Label)"
   ]
  },
  {
   "cell_type": "code",
   "execution_count": 178,
   "metadata": {
    "collapsed": false
   },
   "outputs": [
    {
     "data": {
      "text/plain": [
       "0.656940062997469"
      ]
     },
     "execution_count": 178,
     "metadata": {},
     "output_type": "execute_result"
    }
   ],
   "source": [
    "scores[1]"
   ]
  }
 ],
 "metadata": {
  "anaconda-cloud": {},
  "kernelspec": {
   "display_name": "Python [default]",
   "language": "python",
   "name": "python3"
  },
  "language_info": {
   "codemirror_mode": {
    "name": "ipython",
    "version": 3
   },
   "file_extension": ".py",
   "mimetype": "text/x-python",
   "name": "python",
   "nbconvert_exporter": "python",
   "pygments_lexer": "ipython3",
   "version": "3.5.2"
  }
 },
 "nbformat": 4,
 "nbformat_minor": 1
}
