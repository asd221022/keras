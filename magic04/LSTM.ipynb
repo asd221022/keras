{
 "cells": [
  {
   "cell_type": "code",
   "execution_count": 1,
   "metadata": {
    "collapsed": false
   },
   "outputs": [],
   "source": [
    "import numpy as np\n",
    "import pandas as pd\n",
    "from sklearn.preprocessing import StandardScaler\n",
    "from sklearn.model_selection import train_test_split"
   ]
  },
  {
   "cell_type": "code",
   "execution_count": 2,
   "metadata": {
    "collapsed": false
   },
   "outputs": [],
   "source": [
    "Ynames = ['fLength', 'fWidth', 'fSize', 'fConc', 'fConc1', 'fAsym', \n",
    "             'fM3Long', 'fM3Trans', 'fAlpha', 'fDist', 'identity']\n",
    "featureNames = ['fLength', 'fWidth', 'fSize', 'fConc', 'fConc1', 'fAsym', \n",
    "             'fM3Long', 'fM3Trans', 'fAlpha', 'fDist']\n",
    "filepath = 'data/magic04.data'\n",
    "data = pd.read_csv(filepath, names=Ynames, header=None)\n",
    "data['identity']= data['identity'].map({'g':1, 'h': 0}).astype(int) \n",
    "X = data[featureNames].values\n",
    "Y = data['identity'].values.astype('int64')"
   ]
  },
  {
   "cell_type": "code",
   "execution_count": 3,
   "metadata": {
    "collapsed": false
   },
   "outputs": [
    {
     "data": {
      "text/plain": [
       "array([[ 0.25216012,  0.4828431 ,  1.203554  , -0.74409663, -0.80769917,\n",
       "         0.90582709,  0.96523207, -0.54061961,  0.21255439,  1.0651835 ],\n",
       "       [-0.7836077 , -0.63118582, -1.10882826,  1.31106123,  1.24735764,\n",
       "        -0.03032125,  0.12119811, -0.38913757,  2.13855625,  0.5002417 ]])"
      ]
     },
     "execution_count": 3,
     "metadata": {},
     "output_type": "execute_result"
    }
   ],
   "source": [
    "X = StandardScaler().fit_transform(X)\n",
    "train_Features, test_Features, train_Label, test_Label = train_test_split(X, Y, test_size=0.2, random_state=None) \n",
    "train_Features[:2]"
   ]
  },
  {
   "cell_type": "code",
   "execution_count": 4,
   "metadata": {
    "collapsed": false
   },
   "outputs": [
    {
     "data": {
      "text/plain": [
       "array([[-0.60488411, -0.69414924, -0.59315517,  0.90024846,  0.72974756,\n",
       "         0.19114162,  0.21974949,  0.25483755,  1.67956954, -1.28354014],\n",
       "       [-0.61783858, -0.1551364 , -0.15111943, -0.51762994, -0.59413977,\n",
       "         0.66189464,  0.02716448, -0.41402847, -0.66642725, -0.37741327]])"
      ]
     },
     "execution_count": 4,
     "metadata": {},
     "output_type": "execute_result"
    }
   ],
   "source": [
    "test_Features[:2]"
   ]
  },
  {
   "cell_type": "code",
   "execution_count": 5,
   "metadata": {
    "collapsed": false
   },
   "outputs": [
    {
     "data": {
      "text/plain": [
       "array([0, 1, 1, 1])"
      ]
     },
     "execution_count": 5,
     "metadata": {},
     "output_type": "execute_result"
    }
   ],
   "source": [
    "train_Label[:4]"
   ]
  },
  {
   "cell_type": "code",
   "execution_count": 6,
   "metadata": {
    "collapsed": false
   },
   "outputs": [
    {
     "data": {
      "text/plain": [
       "(15216, 10)"
      ]
     },
     "execution_count": 6,
     "metadata": {},
     "output_type": "execute_result"
    }
   ],
   "source": [
    "train_Features.shape"
   ]
  },
  {
   "cell_type": "code",
   "execution_count": 7,
   "metadata": {
    "collapsed": false
   },
   "outputs": [
    {
     "data": {
      "text/plain": [
       "array([0, 1, 1, 1])"
      ]
     },
     "execution_count": 7,
     "metadata": {},
     "output_type": "execute_result"
    }
   ],
   "source": [
    "test_Label[:4]"
   ]
  },
  {
   "cell_type": "code",
   "execution_count": 8,
   "metadata": {
    "collapsed": true
   },
   "outputs": [],
   "source": [
    "train_Features = train_Features.reshape((train_Features.shape[0], train_Features.shape[1], 1))"
   ]
  },
  {
   "cell_type": "code",
   "execution_count": 9,
   "metadata": {
    "collapsed": true
   },
   "outputs": [],
   "source": [
    "test_Features = test_Features.reshape((test_Features.shape[0], test_Features.shape[1], 1))"
   ]
  },
  {
   "cell_type": "code",
   "execution_count": 10,
   "metadata": {
    "collapsed": false
   },
   "outputs": [
    {
     "name": "stderr",
     "output_type": "stream",
     "text": [
      "Using TensorFlow backend.\n"
     ]
    }
   ],
   "source": [
    "from keras.models import Sequential\n",
    "from keras.layers.core import Dense, Dropout, Activation\n",
    "from keras.layers.embeddings import Embedding\n",
    "from keras.layers.recurrent import LSTM"
   ]
  },
  {
   "cell_type": "code",
   "execution_count": 11,
   "metadata": {
    "collapsed": true
   },
   "outputs": [],
   "source": [
    "model = Sequential()"
   ]
  },
  {
   "cell_type": "code",
   "execution_count": 12,
   "metadata": {
    "collapsed": false
   },
   "outputs": [],
   "source": [
    "model.add(LSTM(units=10, input_shape=(10,1)))"
   ]
  },
  {
   "cell_type": "code",
   "execution_count": 13,
   "metadata": {
    "collapsed": true
   },
   "outputs": [],
   "source": [
    "model.add(Dense(1, activation = \"sigmoid\"))"
   ]
  },
  {
   "cell_type": "code",
   "execution_count": 14,
   "metadata": {
    "collapsed": false
   },
   "outputs": [
    {
     "name": "stdout",
     "output_type": "stream",
     "text": [
      "_________________________________________________________________\n",
      "Layer (type)                 Output Shape              Param #   \n",
      "=================================================================\n",
      "lstm_1 (LSTM)                (None, 10)                480       \n",
      "_________________________________________________________________\n",
      "dense_1 (Dense)              (None, 1)                 11        \n",
      "=================================================================\n",
      "Total params: 491\n",
      "Trainable params: 491\n",
      "Non-trainable params: 0\n",
      "_________________________________________________________________\n"
     ]
    }
   ],
   "source": [
    "model.summary()"
   ]
  },
  {
   "cell_type": "code",
   "execution_count": 15,
   "metadata": {
    "collapsed": false
   },
   "outputs": [],
   "source": [
    "model.compile(loss='binary_crossentropy', \n",
    "              optimizer='adam', metrics=['accuracy'])"
   ]
  },
  {
   "cell_type": "code",
   "execution_count": 16,
   "metadata": {
    "collapsed": false
   },
   "outputs": [
    {
     "name": "stdout",
     "output_type": "stream",
     "text": [
      "Train on 13694 samples, validate on 1522 samples\n",
      "Epoch 1/30\n",
      "13694/13694 [==============================] - 2s 132us/step - loss: 0.6901 - acc: 0.5773 - val_loss: 0.6722 - val_acc: 0.6419\n",
      "Epoch 2/30\n",
      "13694/13694 [==============================] - 1s 80us/step - loss: 0.6494 - acc: 0.6483 - val_loss: 0.6309 - val_acc: 0.6426\n",
      "Epoch 3/30\n",
      "13694/13694 [==============================] - 1s 67us/step - loss: 0.6146 - acc: 0.6605 - val_loss: 0.6052 - val_acc: 0.6754\n",
      "Epoch 4/30\n",
      "13694/13694 [==============================] - 1s 56us/step - loss: 0.5937 - acc: 0.6953 - val_loss: 0.5890 - val_acc: 0.6997\n",
      "Epoch 5/30\n",
      "13694/13694 [==============================] - 1s 75us/step - loss: 0.5818 - acc: 0.7063 - val_loss: 0.5780 - val_acc: 0.7050\n",
      "Epoch 6/30\n",
      "13694/13694 [==============================] - 1s 82us/step - loss: 0.5715 - acc: 0.7106 - val_loss: 0.5664 - val_acc: 0.7057\n",
      "Epoch 7/30\n",
      "13694/13694 [==============================] - 1s 107us/step - loss: 0.5605 - acc: 0.7143 - val_loss: 0.5533 - val_acc: 0.7162\n",
      "Epoch 8/30\n",
      "13694/13694 [==============================] - 3s 210us/step - loss: 0.5479 - acc: 0.7236 - val_loss: 0.5378 - val_acc: 0.7214\n",
      "Epoch 9/30\n",
      "13694/13694 [==============================] - 3s 198us/step - loss: 0.5335 - acc: 0.7346 - val_loss: 0.5210 - val_acc: 0.7385\n",
      "Epoch 10/30\n",
      "13694/13694 [==============================] - 2s 111us/step - loss: 0.5182 - acc: 0.7511 - val_loss: 0.5029 - val_acc: 0.7497\n",
      "Epoch 11/30\n",
      "13694/13694 [==============================] - 2s 114us/step - loss: 0.5038 - acc: 0.7625 - val_loss: 0.4860 - val_acc: 0.7654\n",
      "Epoch 12/30\n",
      "13694/13694 [==============================] - 2s 157us/step - loss: 0.4914 - acc: 0.7718 - val_loss: 0.4719 - val_acc: 0.7681\n",
      "Epoch 13/30\n",
      "13694/13694 [==============================] - 3s 208us/step - loss: 0.4807 - acc: 0.7753 - val_loss: 0.4583 - val_acc: 0.7753\n",
      "Epoch 14/30\n",
      "13694/13694 [==============================] - 3s 195us/step - loss: 0.4706 - acc: 0.7796 - val_loss: 0.4459 - val_acc: 0.7852\n",
      "Epoch 15/30\n",
      "13694/13694 [==============================] - 2s 176us/step - loss: 0.4621 - acc: 0.7841 - val_loss: 0.4341 - val_acc: 0.7943\n",
      "Epoch 16/30\n",
      "13694/13694 [==============================] - 2s 122us/step - loss: 0.4541 - acc: 0.7868 - val_loss: 0.4247 - val_acc: 0.7957\n",
      "Epoch 17/30\n",
      "13694/13694 [==============================] - 2s 112us/step - loss: 0.4475 - acc: 0.7890 - val_loss: 0.4166 - val_acc: 0.7989\n",
      "Epoch 18/30\n",
      "13694/13694 [==============================] - 2s 147us/step - loss: 0.4424 - acc: 0.7907 - val_loss: 0.4097 - val_acc: 0.8049\n",
      "Epoch 19/30\n",
      "13694/13694 [==============================] - 3s 186us/step - loss: 0.4363 - acc: 0.7961 - val_loss: 0.4045 - val_acc: 0.8101\n",
      "Epoch 20/30\n",
      "13694/13694 [==============================] - 1s 90us/step - loss: 0.4312 - acc: 0.8016 - val_loss: 0.4003 - val_acc: 0.8141\n",
      "Epoch 21/30\n",
      "13694/13694 [==============================] - 2s 113us/step - loss: 0.4269 - acc: 0.8056 - val_loss: 0.3952 - val_acc: 0.8226\n",
      "Epoch 22/30\n",
      "13694/13694 [==============================] - 2s 158us/step - loss: 0.4222 - acc: 0.8073 - val_loss: 0.3917 - val_acc: 0.8259\n",
      "Epoch 23/30\n",
      "13694/13694 [==============================] - 2s 153us/step - loss: 0.4205 - acc: 0.8077 - val_loss: 0.3888 - val_acc: 0.8239\n",
      "Epoch 24/30\n",
      "13694/13694 [==============================] - 3s 228us/step - loss: 0.4158 - acc: 0.8108 - val_loss: 0.3841 - val_acc: 0.8311\n",
      "Epoch 25/30\n",
      "13694/13694 [==============================] - 4s 280us/step - loss: 0.4130 - acc: 0.8144 - val_loss: 0.3814 - val_acc: 0.8357\n",
      "Epoch 26/30\n",
      "13694/13694 [==============================] - 3s 219us/step - loss: 0.4103 - acc: 0.8162 - val_loss: 0.3783 - val_acc: 0.8351\n",
      "Epoch 27/30\n",
      "13694/13694 [==============================] - 3s 214us/step - loss: 0.4072 - acc: 0.8197 - val_loss: 0.3745 - val_acc: 0.8403\n",
      "Epoch 28/30\n",
      "13694/13694 [==============================] - 3s 253us/step - loss: 0.4066 - acc: 0.8171 - val_loss: 0.3772 - val_acc: 0.8463\n",
      "Epoch 29/30\n",
      "13694/13694 [==============================] - 3s 235us/step - loss: 0.4020 - acc: 0.8212 - val_loss: 0.3684 - val_acc: 0.8509\n",
      "Epoch 30/30\n",
      "13694/13694 [==============================] - 3s 217us/step - loss: 0.4001 - acc: 0.8233 - val_loss: 0.3658 - val_acc: 0.8489\n"
     ]
    }
   ],
   "source": [
    "train_history =model.fit(x=train_Features, \n",
    "                         y=train_Label, \n",
    "                         validation_split=0.1, \n",
    "                         epochs=30, \n",
    "                         batch_size=300,verbose=1)"
   ]
  },
  {
   "cell_type": "code",
   "execution_count": 17,
   "metadata": {
    "collapsed": true
   },
   "outputs": [],
   "source": [
    "import matplotlib.pyplot as plt\n",
    "def show_train_history(train_history,train,validation):\n",
    "    plt.plot(train_history.history[train])\n",
    "    plt.plot(train_history.history[validation])\n",
    "    plt.title('Train History')\n",
    "    plt.ylabel(train)\n",
    "    plt.xlabel('Epoch')\n",
    "    plt.legend(['train', 'validation'], loc='upper left')\n",
    "    plt.show()"
   ]
  },
  {
   "cell_type": "code",
   "execution_count": 18,
   "metadata": {
    "collapsed": false
   },
   "outputs": [
    {
     "data": {
      "image/png": "[encoded data removed]",
      "text/plain": [
       "<matplotlib.figure.Figure at 0x7f92787e6668>"
      ]
     },
     "metadata": {},
     "output_type": "display_data"
    }
   ],
   "source": [
    "show_train_history(train_history,'acc','val_acc')"
   ]
  },
  {
   "cell_type": "code",
   "execution_count": 19,
   "metadata": {
    "collapsed": false
   },
   "outputs": [
    {
     "data": {
      "image/png": "[encoded data removed]",
      "text/plain": [
       "<matplotlib.figure.Figure at 0x7f92787e6780>"
      ]
     },
     "metadata": {},
     "output_type": "display_data"
    }
   ],
   "source": [
    "show_train_history(train_history,'loss','val_loss')"
   ]
  },
  {
   "cell_type": "code",
   "execution_count": 20,
   "metadata": {
    "collapsed": false
   },
   "outputs": [
    {
     "name": "stdout",
     "output_type": "stream",
     "text": [
      "3804/3804 [==============================] - 1s 236us/step\n"
     ]
    }
   ],
   "source": [
    "scores = model.evaluate(x=test_Features, \n",
    "                        y=test_Label)"
   ]
  },
  {
   "cell_type": "code",
   "execution_count": 21,
   "metadata": {
    "collapsed": false
   },
   "outputs": [
    {
     "data": {
      "text/plain": [
       "0.8335962146363926"
      ]
     },
     "execution_count": 21,
     "metadata": {},
     "output_type": "execute_result"
    }
   ],
   "source": [
    "scores[1]"
   ]
  }
 ],
 "metadata": {
  "anaconda-cloud": {},
  "kernelspec": {
   "display_name": "Python [default]",
   "language": "python",
   "name": "python3"
  },
  "language_info": {
   "codemirror_mode": {
    "name": "ipython",
    "version": 3
   },
   "file_extension": ".py",
   "mimetype": "text/x-python",
   "name": "python",
   "nbconvert_exporter": "python",
   "pygments_lexer": "ipython3",
   "version": "3.5.2"
  }
 },
 "nbformat": 4,
 "nbformat_minor": 1
}
