{
 "cells": [
  {
   "cell_type": "code",
   "execution_count": 124,
   "metadata": {
    "collapsed": false
   },
   "outputs": [],
   "source": [
    "import numpy as np\n",
    "import pandas as pd\n",
    "from sklearn.preprocessing import StandardScaler\n",
    "from sklearn.cross_validation import train_test_split"
   ]
  },
  {
   "cell_type": "code",
   "execution_count": 125,
   "metadata": {
    "collapsed": false
   },
   "outputs": [],
   "source": [
    "Ynames = ['fLength', 'fWidth', 'fSize', 'fConc', 'fConc1', 'fAsym', \n",
    "             'fM3Long', 'fM3Trans', 'fAlpha', 'fDist', 'identity']\n",
    "featureNames = ['fLength', 'fWidth', 'fSize', 'fConc', 'fConc1', 'fAsym', \n",
    "             'fM3Long', 'fM3Trans', 'fAlpha', 'fDist']\n",
    "filepath = 'data/magic04.data'\n",
    "data = pd.read_csv(filepath, names=Ynames, header=None)\n",
    "data['identity']= data['identity'].map({'g':1, 'h': 0}).astype(int) \n",
    "X = data[featureNames].values\n",
    "Y = data['identity'].values.astype('int64')"
   ]
  },
  {
   "cell_type": "code",
   "execution_count": 126,
   "metadata": {
    "collapsed": false
   },
   "outputs": [
    {
     "data": {
      "text/plain": [
       "array([[-0.54982287, -0.42036113, -0.20634745,  0.24491732,  0.21847186,\n",
       "         0.19644696,  0.23301059, -0.36792941, -0.75936316, -0.7407488 ],\n",
       "       [-0.58858952, -0.63524675, -1.31133099,  1.08514156,  1.15143689,\n",
       "         0.41655014, -0.38133355,  0.34341534,  0.46849497, -0.028309  ]])"
      ]
     },
     "execution_count": 126,
     "metadata": {},
     "output_type": "execute_result"
    }
   ],
   "source": [
    "X = StandardScaler().fit_transform(X)\n",
    "train_Features, test_Features, train_Label, test_Label = train_test_split(X, Y, test_size=0.33, random_state=None) \n",
    "train_Features[:2]"
   ]
  },
  {
   "cell_type": "code",
   "execution_count": 127,
   "metadata": {
    "collapsed": false
   },
   "outputs": [
    {
     "data": {
      "text/plain": [
       "array([[-0.66395821, -0.39830676, -0.61981697,  0.23288286,  0.59582047,\n",
       "         0.33505634, -0.00156758, -0.44676019, -0.8659144 , -0.27695806],\n",
       "       [-0.2761478 , -0.41992506, -0.40377174,  0.04798976, -0.07200512,\n",
       "         0.23355224,  0.34273479,  0.46772098, -0.50729188,  0.27455135]])"
      ]
     },
     "execution_count": 127,
     "metadata": {},
     "output_type": "execute_result"
    }
   ],
   "source": [
    "test_Features[:2]"
   ]
  },
  {
   "cell_type": "code",
   "execution_count": 128,
   "metadata": {
    "collapsed": false
   },
   "outputs": [
    {
     "data": {
      "text/plain": [
       "array([1, 0, 1, 1])"
      ]
     },
     "execution_count": 128,
     "metadata": {},
     "output_type": "execute_result"
    }
   ],
   "source": [
    "train_Label[:4]"
   ]
  },
  {
   "cell_type": "code",
   "execution_count": 129,
   "metadata": {
    "collapsed": false
   },
   "outputs": [
    {
     "data": {
      "text/plain": [
       "(12743, 10)"
      ]
     },
     "execution_count": 129,
     "metadata": {},
     "output_type": "execute_result"
    }
   ],
   "source": [
    "train_Features.shape"
   ]
  },
  {
   "cell_type": "code",
   "execution_count": 130,
   "metadata": {
    "collapsed": false
   },
   "outputs": [
    {
     "data": {
      "text/plain": [
       "array([1, 0, 0, 0])"
      ]
     },
     "execution_count": 130,
     "metadata": {},
     "output_type": "execute_result"
    }
   ],
   "source": [
    "test_Label[:4]"
   ]
  },
  {
   "cell_type": "code",
   "execution_count": 131,
   "metadata": {
    "collapsed": true
   },
   "outputs": [],
   "source": [
    "from keras.models import Sequential\n",
    "from keras.layers import Dense,Dropout"
   ]
  },
  {
   "cell_type": "code",
   "execution_count": 132,
   "metadata": {
    "collapsed": true
   },
   "outputs": [],
   "source": [
    "model = Sequential()"
   ]
  },
  {
   "cell_type": "code",
   "execution_count": 133,
   "metadata": {
    "collapsed": true
   },
   "outputs": [],
   "source": [
    "model.add(Dense(units=40, input_dim=10, \n",
    "                kernel_initializer='uniform', \n",
    "                activation='relu'))"
   ]
  },
  {
   "cell_type": "code",
   "execution_count": 134,
   "metadata": {
    "collapsed": true
   },
   "outputs": [],
   "source": [
    "model.add(Dense(units=4, \n",
    "                kernel_initializer='uniform', \n",
    "                activation='relu'))"
   ]
  },
  {
   "cell_type": "code",
   "execution_count": 135,
   "metadata": {
    "collapsed": true
   },
   "outputs": [],
   "source": [
    "model.add(Dense(units=1, \n",
    "                kernel_initializer='uniform',\n",
    "                activation='sigmoid'))"
   ]
  },
  {
   "cell_type": "code",
   "execution_count": 136,
   "metadata": {
    "collapsed": false
   },
   "outputs": [
    {
     "name": "stdout",
     "output_type": "stream",
     "text": [
      "_________________________________________________________________\n",
      "Layer (type)                 Output Shape              Param #   \n",
      "=================================================================\n",
      "dense_15 (Dense)             (None, 40)                440       \n",
      "_________________________________________________________________\n",
      "dense_16 (Dense)             (None, 4)                 164       \n",
      "_________________________________________________________________\n",
      "dense_17 (Dense)             (None, 1)                 5         \n",
      "=================================================================\n",
      "Total params: 609\n",
      "Trainable params: 609\n",
      "Non-trainable params: 0\n",
      "_________________________________________________________________\n"
     ]
    }
   ],
   "source": [
    "model.summary()"
   ]
  },
  {
   "cell_type": "code",
   "execution_count": 137,
   "metadata": {
    "collapsed": true
   },
   "outputs": [],
   "source": [
    "model.compile(loss='binary_crossentropy', \n",
    "              optimizer='adam', metrics=['accuracy'])"
   ]
  },
  {
   "cell_type": "code",
   "execution_count": 138,
   "metadata": {
    "collapsed": false
   },
   "outputs": [
    {
     "name": "stdout",
     "output_type": "stream",
     "text": [
      "Train on 11468 samples, validate on 1275 samples\n",
      "Epoch 1/30\n",
      " - 1s - loss: 0.6903 - acc: 0.6448 - val_loss: 0.6865 - val_acc: 0.6549\n",
      "Epoch 2/30\n",
      " - 0s - loss: 0.6787 - acc: 0.7067 - val_loss: 0.6671 - val_acc: 0.7318\n",
      "Epoch 3/30\n",
      " - 0s - loss: 0.6462 - acc: 0.7626 - val_loss: 0.6180 - val_acc: 0.7678\n",
      "Epoch 4/30\n",
      " - 0s - loss: 0.5852 - acc: 0.7830 - val_loss: 0.5490 - val_acc: 0.7804\n",
      "Epoch 5/30\n",
      " - 0s - loss: 0.5162 - acc: 0.7896 - val_loss: 0.4883 - val_acc: 0.7851\n",
      "Epoch 6/30\n",
      " - 0s - loss: 0.4632 - acc: 0.7990 - val_loss: 0.4516 - val_acc: 0.7890\n",
      "Epoch 7/30\n",
      " - 0s - loss: 0.4339 - acc: 0.8023 - val_loss: 0.4351 - val_acc: 0.7929\n",
      "Epoch 8/30\n",
      " - 0s - loss: 0.4206 - acc: 0.8073 - val_loss: 0.4274 - val_acc: 0.7976\n",
      "Epoch 9/30\n",
      " - 0s - loss: 0.4134 - acc: 0.8106 - val_loss: 0.4244 - val_acc: 0.7929\n",
      "Epoch 10/30\n",
      " - 0s - loss: 0.4089 - acc: 0.8123 - val_loss: 0.4195 - val_acc: 0.8039\n",
      "Epoch 11/30\n",
      " - 0s - loss: 0.4051 - acc: 0.8146 - val_loss: 0.4164 - val_acc: 0.8024\n",
      "Epoch 12/30\n",
      " - 0s - loss: 0.4013 - acc: 0.8189 - val_loss: 0.4138 - val_acc: 0.8063\n",
      "Epoch 13/30\n",
      " - 0s - loss: 0.3983 - acc: 0.8196 - val_loss: 0.4096 - val_acc: 0.8102\n",
      "Epoch 14/30\n",
      " - 0s - loss: 0.3949 - acc: 0.8234 - val_loss: 0.4072 - val_acc: 0.8118\n",
      "Epoch 15/30\n",
      " - 0s - loss: 0.3913 - acc: 0.8253 - val_loss: 0.4031 - val_acc: 0.8157\n",
      "Epoch 16/30\n",
      " - 0s - loss: 0.3877 - acc: 0.8284 - val_loss: 0.4001 - val_acc: 0.8165\n",
      "Epoch 17/30\n",
      " - 0s - loss: 0.3844 - acc: 0.8294 - val_loss: 0.3969 - val_acc: 0.8227\n",
      "Epoch 18/30\n",
      " - 0s - loss: 0.3809 - acc: 0.8318 - val_loss: 0.3933 - val_acc: 0.8290\n",
      "Epoch 19/30\n",
      " - 0s - loss: 0.3781 - acc: 0.8353 - val_loss: 0.3916 - val_acc: 0.8275\n",
      "Epoch 20/30\n",
      " - 0s - loss: 0.3751 - acc: 0.8382 - val_loss: 0.3877 - val_acc: 0.8322\n",
      "Epoch 21/30\n",
      " - 0s - loss: 0.3719 - acc: 0.8388 - val_loss: 0.3860 - val_acc: 0.8337\n",
      "Epoch 22/30\n",
      " - 0s - loss: 0.3694 - acc: 0.8413 - val_loss: 0.3815 - val_acc: 0.8353\n",
      "Epoch 23/30\n",
      " - 0s - loss: 0.3664 - acc: 0.8440 - val_loss: 0.3808 - val_acc: 0.8361\n",
      "Epoch 24/30\n",
      " - 0s - loss: 0.3638 - acc: 0.8466 - val_loss: 0.3773 - val_acc: 0.8400\n",
      "Epoch 25/30\n",
      " - 0s - loss: 0.3616 - acc: 0.8472 - val_loss: 0.3754 - val_acc: 0.8392\n",
      "Epoch 26/30\n",
      " - 0s - loss: 0.3589 - acc: 0.8493 - val_loss: 0.3734 - val_acc: 0.8400\n",
      "Epoch 27/30\n",
      " - 0s - loss: 0.3569 - acc: 0.8515 - val_loss: 0.3718 - val_acc: 0.8392\n",
      "Epoch 28/30\n",
      " - 0s - loss: 0.3548 - acc: 0.8525 - val_loss: 0.3683 - val_acc: 0.8416\n",
      "Epoch 29/30\n",
      " - 0s - loss: 0.3533 - acc: 0.8529 - val_loss: 0.3679 - val_acc: 0.8424\n",
      "Epoch 30/30\n",
      " - 0s - loss: 0.3509 - acc: 0.8544 - val_loss: 0.3663 - val_acc: 0.8392\n"
     ]
    }
   ],
   "source": [
    "train_history =model.fit(x=train_Features, \n",
    "                         y=train_Label, \n",
    "                         validation_split=0.1, \n",
    "                         epochs=30, \n",
    "                         batch_size=400,verbose=2)"
   ]
  },
  {
   "cell_type": "code",
   "execution_count": 139,
   "metadata": {
    "collapsed": true
   },
   "outputs": [],
   "source": [
    "import matplotlib.pyplot as plt\n",
    "def show_train_history(train_history,train,validation):\n",
    "    plt.plot(train_history.history[train])\n",
    "    plt.plot(train_history.history[validation])\n",
    "    plt.title('Train History')\n",
    "    plt.ylabel(train)\n",
    "    plt.xlabel('Epoch')\n",
    "    plt.legend(['train', 'validation'], loc='upper left')\n",
    "    plt.show()"
   ]
  },
  {
   "cell_type": "code",
   "execution_count": 140,
   "metadata": {
    "collapsed": false
   },
   "outputs": [
    {
     "data": {
      "image/png": "[encoded data removed]",
      "text/plain": [
       "<matplotlib.figure.Figure at 0x7f2a4c41d8d0>"
      ]
     },
     "metadata": {},
     "output_type": "display_data"
    }
   ],
   "source": [
    "show_train_history(train_history,'acc','val_acc')"
   ]
  },
  {
   "cell_type": "code",
   "execution_count": 141,
   "metadata": {
    "collapsed": false
   },
   "outputs": [
    {
     "data": {
      "image/png": "[encoded data removed]",
      "text/plain": [
       "<matplotlib.figure.Figure at 0x7f2a4c43d518>"
      ]
     },
     "metadata": {},
     "output_type": "display_data"
    }
   ],
   "source": [
    "show_train_history(train_history,'loss','val_loss')"
   ]
  },
  {
   "cell_type": "code",
   "execution_count": 142,
   "metadata": {
    "collapsed": false
   },
   "outputs": [
    {
     "name": "stdout",
     "output_type": "stream",
     "text": [
      "6277/6277 [==============================] - 0s 58us/step\n"
     ]
    }
   ],
   "source": [
    "scores = model.evaluate(x=test_Features, \n",
    "                        y=test_Label)"
   ]
  },
  {
   "cell_type": "code",
   "execution_count": 143,
   "metadata": {
    "collapsed": false
   },
   "outputs": [
    {
     "data": {
      "text/plain": [
       "0.8497689979336948"
      ]
     },
     "execution_count": 143,
     "metadata": {},
     "output_type": "execute_result"
    }
   ],
   "source": [
    "scores[1]"
   ]
  }
 ],
 "metadata": {
  "anaconda-cloud": {},
  "kernelspec": {
   "display_name": "Python [default]",
   "language": "python",
   "name": "python3"
  },
  "language_info": {
   "codemirror_mode": {
    "name": "ipython",
    "version": 3
   },
   "file_extension": ".py",
   "mimetype": "text/x-python",
   "name": "python",
   "nbconvert_exporter": "python",
   "pygments_lexer": "ipython3",
   "version": "3.5.2"
  }
 },
 "nbformat": 4,
 "nbformat_minor": 1
}
