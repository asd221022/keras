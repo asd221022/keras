{
 "cells": [
  {
   "cell_type": "code",
   "execution_count": 50,
   "metadata": {
    "collapsed": false
   },
   "outputs": [],
   "source": [
    "import numpy as np\n",
    "import pandas as pd\n",
    "from sklearn import preprocessing\n",
    "from sklearn.cross_validation import train_test_split"
   ]
  },
  {
   "cell_type": "code",
   "execution_count": 51,
   "metadata": {
    "collapsed": false
   },
   "outputs": [],
   "source": [
    "Ynames = ['fLength', 'fWidth', 'fSize', 'fConc', 'fConc1', 'fAsym', \n",
    "             'fM3Long', 'fM3Trans', 'fAlpha', 'fDist', 'identity']\n",
    "featureNames = ['fLength', 'fWidth', 'fSize', 'fConc', 'fConc1', 'fAsym', \n",
    "             'fM3Long', 'fM3Trans', 'fAlpha', 'fDist']\n",
    "filepath = 'data/magic04.data'\n",
    "data = pd.read_csv(filepath, names=Ynames, header=None)\n",
    "data['identity']= data['identity'].map({'g':1, 'h': 0}).astype(int) \n",
    "X = data[featureNames].values\n",
    "Y = data['identity'].values.astype('int64')"
   ]
  },
  {
   "cell_type": "code",
   "execution_count": 52,
   "metadata": {
    "collapsed": false
   },
   "outputs": [
    {
     "data": {
      "text/plain": [
       "array([[-0.51668368, -0.32946727,  0.08735557, -0.22005053, -0.05300196,\n",
       "         0.44645158,  0.21164341, -0.48086994, -1.05550228, -0.46162329],\n",
       "       [ 1.89657107,  0.73069034,  0.4362866 , -1.09801922, -1.10451055,\n",
       "         3.78734259, -2.65934895, -1.23373313,  1.80113059,  0.49578565]])"
      ]
     },
     "execution_count": 52,
     "metadata": {},
     "output_type": "execute_result"
    }
   ],
   "source": [
    "X = StandardScaler().fit_transform(X)\n",
    "train_Features, test_Features, train_Label, test_Label = train_test_split(X, Y, test_size=0.2, random_state=None) \n",
    "train_Features[:2]"
   ]
  },
  {
   "cell_type": "code",
   "execution_count": 53,
   "metadata": {
    "collapsed": false
   },
   "outputs": [
    {
     "data": {
      "text/plain": [
       "array([[-0.80659906, -0.66880253, -0.87479689,  1.2060332 ,  0.77589811,\n",
       "         0.04500916, -0.04096068,  0.25172139,  1.53719474, -1.75307022],\n",
       "       [-0.85129294, -0.81409097, -1.09740177,  2.5117723 ,  3.03998976,\n",
       "         0.1421369 , -0.11872137, -0.27265836, -0.58567004, -1.50035585]])"
      ]
     },
     "execution_count": 53,
     "metadata": {},
     "output_type": "execute_result"
    }
   ],
   "source": [
    "test_Features[:2]"
   ]
  },
  {
   "cell_type": "code",
   "execution_count": 54,
   "metadata": {
    "collapsed": false
   },
   "outputs": [
    {
     "data": {
      "text/plain": [
       "array([1, 1, 0, 0])"
      ]
     },
     "execution_count": 54,
     "metadata": {},
     "output_type": "execute_result"
    }
   ],
   "source": [
    "train_Label[:4]"
   ]
  },
  {
   "cell_type": "code",
   "execution_count": 55,
   "metadata": {
    "collapsed": false
   },
   "outputs": [
    {
     "data": {
      "text/plain": [
       "(15216, 10)"
      ]
     },
     "execution_count": 55,
     "metadata": {},
     "output_type": "execute_result"
    }
   ],
   "source": [
    "train_Features.shape"
   ]
  },
  {
   "cell_type": "code",
   "execution_count": 56,
   "metadata": {
    "collapsed": false
   },
   "outputs": [
    {
     "data": {
      "text/plain": [
       "array([1, 1, 1, 1])"
      ]
     },
     "execution_count": 56,
     "metadata": {},
     "output_type": "execute_result"
    }
   ],
   "source": [
    "test_Label[:4]"
   ]
  },
  {
   "cell_type": "code",
   "execution_count": 57,
   "metadata": {
    "collapsed": false
   },
   "outputs": [],
   "source": [
    "from keras.models import Sequential\n",
    "from keras.layers import Dense,Dropout"
   ]
  },
  {
   "cell_type": "code",
   "execution_count": 58,
   "metadata": {
    "collapsed": true
   },
   "outputs": [],
   "source": [
    "model = Sequential()"
   ]
  },
  {
   "cell_type": "code",
   "execution_count": 59,
   "metadata": {
    "collapsed": true
   },
   "outputs": [],
   "source": [
    "model.add(Dense(units=40, input_dim=10, \n",
    "                kernel_initializer='uniform', \n",
    "                activation='relu'))"
   ]
  },
  {
   "cell_type": "code",
   "execution_count": 60,
   "metadata": {
    "collapsed": true
   },
   "outputs": [],
   "source": [
    "model.add(Dense(units=4, \n",
    "                kernel_initializer='uniform', \n",
    "                activation='relu'))"
   ]
  },
  {
   "cell_type": "code",
   "execution_count": 61,
   "metadata": {
    "collapsed": true
   },
   "outputs": [],
   "source": [
    "model.add(Dense(units=1, \n",
    "                kernel_initializer='uniform',\n",
    "                activation='sigmoid'))"
   ]
  },
  {
   "cell_type": "code",
   "execution_count": 62,
   "metadata": {
    "collapsed": false
   },
   "outputs": [
    {
     "name": "stdout",
     "output_type": "stream",
     "text": [
      "_________________________________________________________________\n",
      "Layer (type)                 Output Shape              Param #   \n",
      "=================================================================\n",
      "dense_7 (Dense)              (None, 40)                440       \n",
      "_________________________________________________________________\n",
      "dense_8 (Dense)              (None, 4)                 164       \n",
      "_________________________________________________________________\n",
      "dense_9 (Dense)              (None, 1)                 5         \n",
      "=================================================================\n",
      "Total params: 609\n",
      "Trainable params: 609\n",
      "Non-trainable params: 0\n",
      "_________________________________________________________________\n"
     ]
    }
   ],
   "source": [
    "model.summary()"
   ]
  },
  {
   "cell_type": "code",
   "execution_count": 63,
   "metadata": {
    "collapsed": true
   },
   "outputs": [],
   "source": [
    "model.compile(loss='binary_crossentropy', \n",
    "              optimizer='adam', metrics=['accuracy'])"
   ]
  },
  {
   "cell_type": "code",
   "execution_count": 64,
   "metadata": {
    "collapsed": false
   },
   "outputs": [
    {
     "name": "stdout",
     "output_type": "stream",
     "text": [
      "Train on 13694 samples, validate on 1522 samples\n",
      "Epoch 1/30\n",
      " - 1s - loss: 0.6897 - acc: 0.6688 - val_loss: 0.6840 - val_acc: 0.7319\n",
      "Epoch 2/30\n",
      " - 0s - loss: 0.6734 - acc: 0.7483 - val_loss: 0.6526 - val_acc: 0.7825\n",
      "Epoch 3/30\n",
      " - 0s - loss: 0.6277 - acc: 0.7764 - val_loss: 0.5897 - val_acc: 0.7943\n",
      "Epoch 4/30\n",
      " - 0s - loss: 0.5614 - acc: 0.7884 - val_loss: 0.5174 - val_acc: 0.8009\n",
      "Epoch 5/30\n",
      " - 0s - loss: 0.4956 - acc: 0.7942 - val_loss: 0.4565 - val_acc: 0.8121\n",
      "Epoch 6/30\n",
      " - 0s - loss: 0.4510 - acc: 0.8004 - val_loss: 0.4231 - val_acc: 0.8114\n",
      "Epoch 7/30\n",
      " - 0s - loss: 0.4308 - acc: 0.8054 - val_loss: 0.4098 - val_acc: 0.8160\n",
      "Epoch 8/30\n",
      " - 0s - loss: 0.4218 - acc: 0.8087 - val_loss: 0.4026 - val_acc: 0.8127\n",
      "Epoch 9/30\n",
      " - 0s - loss: 0.4163 - acc: 0.8144 - val_loss: 0.3987 - val_acc: 0.8147\n",
      "Epoch 10/30\n",
      " - 0s - loss: 0.4118 - acc: 0.8158 - val_loss: 0.3942 - val_acc: 0.8180\n",
      "Epoch 11/30\n",
      " - 0s - loss: 0.4075 - acc: 0.8191 - val_loss: 0.3906 - val_acc: 0.8180\n",
      "Epoch 12/30\n",
      " - 0s - loss: 0.4034 - acc: 0.8212 - val_loss: 0.3864 - val_acc: 0.8200\n",
      "Epoch 13/30\n",
      " - 0s - loss: 0.3994 - acc: 0.8250 - val_loss: 0.3820 - val_acc: 0.8246\n",
      "Epoch 14/30\n",
      " - 0s - loss: 0.3952 - acc: 0.8263 - val_loss: 0.3778 - val_acc: 0.8318\n",
      "Epoch 15/30\n",
      " - 0s - loss: 0.3910 - acc: 0.8285 - val_loss: 0.3735 - val_acc: 0.8371\n",
      "Epoch 16/30\n",
      " - 0s - loss: 0.3869 - acc: 0.8305 - val_loss: 0.3681 - val_acc: 0.8449\n",
      "Epoch 17/30\n",
      " - 0s - loss: 0.3828 - acc: 0.8331 - val_loss: 0.3639 - val_acc: 0.8449\n",
      "Epoch 18/30\n",
      " - 0s - loss: 0.3786 - acc: 0.8363 - val_loss: 0.3594 - val_acc: 0.8456\n",
      "Epoch 19/30\n",
      " - 0s - loss: 0.3750 - acc: 0.8384 - val_loss: 0.3564 - val_acc: 0.8489\n",
      "Epoch 20/30\n",
      " - 0s - loss: 0.3719 - acc: 0.8412 - val_loss: 0.3529 - val_acc: 0.8509\n",
      "Epoch 21/30\n",
      " - 0s - loss: 0.3693 - acc: 0.8420 - val_loss: 0.3505 - val_acc: 0.8515\n",
      "Epoch 22/30\n",
      " - 0s - loss: 0.3666 - acc: 0.8450 - val_loss: 0.3492 - val_acc: 0.8548\n",
      "Epoch 23/30\n",
      " - 0s - loss: 0.3646 - acc: 0.8451 - val_loss: 0.3463 - val_acc: 0.8548\n",
      "Epoch 24/30\n",
      " - 0s - loss: 0.3619 - acc: 0.8476 - val_loss: 0.3430 - val_acc: 0.8522\n",
      "Epoch 25/30\n",
      " - 0s - loss: 0.3602 - acc: 0.8486 - val_loss: 0.3407 - val_acc: 0.8555\n",
      "Epoch 26/30\n",
      " - 0s - loss: 0.3583 - acc: 0.8502 - val_loss: 0.3394 - val_acc: 0.8541\n",
      "Epoch 27/30\n",
      " - 0s - loss: 0.3560 - acc: 0.8510 - val_loss: 0.3376 - val_acc: 0.8541\n",
      "Epoch 28/30\n",
      " - 0s - loss: 0.3543 - acc: 0.8525 - val_loss: 0.3361 - val_acc: 0.8555\n",
      "Epoch 29/30\n",
      " - 0s - loss: 0.3525 - acc: 0.8527 - val_loss: 0.3352 - val_acc: 0.8581\n",
      "Epoch 30/30\n",
      " - 0s - loss: 0.3507 - acc: 0.8532 - val_loss: 0.3331 - val_acc: 0.8594\n"
     ]
    }
   ],
   "source": [
    "train_history =model.fit(x=train_Features, \n",
    "                         y=train_Label, \n",
    "                         validation_split=0.1, \n",
    "                         epochs=30, \n",
    "                         batch_size=400,verbose=2)"
   ]
  },
  {
   "cell_type": "code",
   "execution_count": 65,
   "metadata": {
    "collapsed": true
   },
   "outputs": [],
   "source": [
    "import matplotlib.pyplot as plt\n",
    "def show_train_history(train_history,train,validation):\n",
    "    plt.plot(train_history.history[train])\n",
    "    plt.plot(train_history.history[validation])\n",
    "    plt.title('Train History')\n",
    "    plt.ylabel(train)\n",
    "    plt.xlabel('Epoch')\n",
    "    plt.legend(['train', 'validation'], loc='upper left')\n",
    "    plt.show()"
   ]
  },
  {
   "cell_type": "code",
   "execution_count": 66,
   "metadata": {
    "collapsed": false
   },
   "outputs": [
    {
     "data": {
      "image/png": "[encoded data removed]",
      "text/plain": [
       "<matplotlib.figure.Figure at 0x7fc527ff4cf8>"
      ]
     },
     "metadata": {},
     "output_type": "display_data"
    }
   ],
   "source": [
    "show_train_history(train_history,'acc','val_acc')"
   ]
  },
  {
   "cell_type": "code",
   "execution_count": 67,
   "metadata": {
    "collapsed": false
   },
   "outputs": [
    {
     "data": {
      "image/png": "[encoded data removed]",
      "text/plain": [
       "<matplotlib.figure.Figure at 0x7fc527ffcb38>"
      ]
     },
     "metadata": {},
     "output_type": "display_data"
    }
   ],
   "source": [
    "show_train_history(train_history,'loss','val_loss')"
   ]
  },
  {
   "cell_type": "code",
   "execution_count": 68,
   "metadata": {
    "collapsed": false
   },
   "outputs": [
    {
     "name": "stdout",
     "output_type": "stream",
     "text": [
      "3804/3804 [==============================] - 0s 65us/step\n"
     ]
    }
   ],
   "source": [
    "scores = model.evaluate(x=test_Features, \n",
    "                        y=test_Label)"
   ]
  },
  {
   "cell_type": "code",
   "execution_count": 69,
   "metadata": {
    "collapsed": false
   },
   "outputs": [
    {
     "data": {
      "text/plain": [
       "0.85488959009339"
      ]
     },
     "execution_count": 69,
     "metadata": {},
     "output_type": "execute_result"
    }
   ],
   "source": [
    "scores[1]"
   ]
  }
 ],
 "metadata": {
  "anaconda-cloud": {},
  "kernelspec": {
   "display_name": "Python [default]",
   "language": "python",
   "name": "python3"
  },
  "language_info": {
   "codemirror_mode": {
    "name": "ipython",
    "version": 3
   },
   "file_extension": ".py",
   "mimetype": "text/x-python",
   "name": "python",
   "nbconvert_exporter": "python",
   "pygments_lexer": "ipython3",
   "version": "3.5.2"
  }
 },
 "nbformat": 4,
 "nbformat_minor": 1
}
