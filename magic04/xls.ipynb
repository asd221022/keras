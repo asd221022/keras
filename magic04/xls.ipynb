{
 "cells": [
  {
   "cell_type": "code",
   "execution_count": 2,
   "metadata": {
    "collapsed": true
   },
   "outputs": [],
   "source": [
    "import csv\n",
    "import xlwt"
   ]
  },
  {
   "cell_type": "code",
   "execution_count": 3,
   "metadata": {
    "collapsed": true
   },
   "outputs": [],
   "source": [
    " with open('magic04.data', 'r') as f:\n",
    "        read = csv.reader(f)\n",
    "        workbook = xlwt.Workbook()\n",
    "        sheet = workbook.add_sheet('data')  # 创建一个sheet表格\n",
    "        l = 0\n",
    "        for line in read:\n",
    "       \n",
    "            r = 0\n",
    "            for i in line:\n",
    "            \n",
    "                sheet.write(l, r, i)  # 一个一个将单元格数据写入\n",
    "                r = r + 1\n",
    "            l = l + 1\n",
    "\n",
    "        workbook.save('magic04.xlsx')  # 保存Excel\n"
   ]
  }
 ],
 "metadata": {
  "anaconda-cloud": {},
  "kernelspec": {
   "display_name": "Python [conda root]",
   "language": "python",
   "name": "conda-root-py"
  },
  "language_info": {
   "codemirror_mode": {
    "name": "ipython",
    "version": 3
   },
   "file_extension": ".py",
   "mimetype": "text/x-python",
   "name": "python",
   "nbconvert_exporter": "python",
   "pygments_lexer": "ipython3",
   "version": "3.5.2"
  }
 },
 "nbformat": 4,
 "nbformat_minor": 1
}
