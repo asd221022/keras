{
 "cells": [
  {
   "cell_type": "code",
   "execution_count": 1,
   "metadata": {
    "collapsed": false
   },
   "outputs": [],
   "source": [
    "import numpy as np\n",
    "import pandas as pd\n",
    "from sklearn.preprocessing import StandardScaler\n",
    "from sklearn.model_selection import train_test_split"
   ]
  },
  {
   "cell_type": "code",
   "execution_count": 2,
   "metadata": {
    "collapsed": false
   },
   "outputs": [],
   "source": [
    "Ynames = ['fLength', 'fWidth', 'fSize', 'fConc', 'fConc1', 'fAsym', \n",
    "             'fM3Long', 'fM3Trans', 'fAlpha', 'fDist', 'identity']\n",
    "featureNames = ['fLength', 'fWidth', 'fSize', 'fConc', 'fConc1', 'fAsym', \n",
    "             'fM3Long', 'fM3Trans', 'fAlpha', 'fDist']\n",
    "filepath = 'magic04.data'\n",
    "data = pd.read_csv(filepath, names=Ynames, header=None)\n",
    "data['identity']= data['identity'].map({'g':1, 'h': 0}).astype(int) \n",
    "X = data[featureNames].values\n",
    "Y = data['identity'].values.astype('int64')"
   ]
  },
  {
   "cell_type": "code",
   "execution_count": 3,
   "metadata": {
    "collapsed": false
   },
   "outputs": [
    {
     "data": {
      "text/plain": [
       "array([[ 0.02514287,  0.12664819,  0.93206915, -1.21945788, -1.21852956,\n",
       "         0.01018918,  0.57002651,  0.70134202, -0.65436347,  0.19056614],\n",
       "       [-0.32006979, -0.80418668,  0.10724612, -0.04937998,  0.25466837,\n",
       "         0.39904303,  0.63312803, -0.25381733, -1.02127241, -0.77990318]])"
      ]
     },
     "execution_count": 3,
     "metadata": {},
     "output_type": "execute_result"
    }
   ],
   "source": [
    "X = StandardScaler().fit_transform(X)\n",
    "train_Features, test_Features, train_Label, test_Label = train_test_split(X, Y, test_size=0.33, random_state=None) \n",
    "train_Features[:2]"
   ]
  },
  {
   "cell_type": "code",
   "execution_count": 4,
   "metadata": {
    "collapsed": false
   },
   "outputs": [
    {
     "data": {
      "text/plain": [
       "array([[-0.69044077, -0.31553476, -0.63208986,  0.44293892,  0.1714164 ,\n",
       "         0.34518395, -0.58031479, -0.67401446, -0.79315247, -0.53170241],\n",
       "       [ 0.6988912 ,  0.09797098,  0.33090901, -0.82450872, -0.84208586,\n",
       "        -0.50825447,  1.09685875,  0.76279142, -0.93018304,  1.50486071]])"
      ]
     },
     "execution_count": 4,
     "metadata": {},
     "output_type": "execute_result"
    }
   ],
   "source": [
    "test_Features[:2]"
   ]
  },
  {
   "cell_type": "code",
   "execution_count": 5,
   "metadata": {
    "collapsed": false
   },
   "outputs": [
    {
     "data": {
      "text/plain": [
       "array([1, 0, 0, 1])"
      ]
     },
     "execution_count": 5,
     "metadata": {},
     "output_type": "execute_result"
    }
   ],
   "source": [
    "train_Label[:4]"
   ]
  },
  {
   "cell_type": "code",
   "execution_count": 6,
   "metadata": {
    "collapsed": false
   },
   "outputs": [],
   "source": [
    "train_Features = train_Features.reshape((train_Features.shape[0], train_Features.shape[1], 1))\n",
    "test_Features = test_Features.reshape((test_Features.shape[0], test_Features.shape[1], 1))"
   ]
  },
  {
   "cell_type": "code",
   "execution_count": 7,
   "metadata": {
    "collapsed": false
   },
   "outputs": [
    {
     "data": {
      "text/plain": [
       "(12743, 10, 1)"
      ]
     },
     "execution_count": 7,
     "metadata": {},
     "output_type": "execute_result"
    }
   ],
   "source": [
    "train_Features.shape"
   ]
  },
  {
   "cell_type": "code",
   "execution_count": 8,
   "metadata": {
    "collapsed": false
   },
   "outputs": [
    {
     "name": "stderr",
     "output_type": "stream",
     "text": [
      "Using TensorFlow backend.\n"
     ]
    }
   ],
   "source": [
    "from keras.models import Sequential\n",
    "from keras.layers import Dense,Dropout,Flatten,Conv1D,MaxPooling1D\n",
    "from keras.layers.embeddings import Embedding\n",
    "from keras.callbacks import EarlyStopping\n",
    "early_stopping = EarlyStopping(monitor='val_loss', patience=2)"
   ]
  },
  {
   "cell_type": "code",
   "execution_count": 9,
   "metadata": {
    "collapsed": true
   },
   "outputs": [],
   "source": [
    "model = Sequential()"
   ]
  },
  {
   "cell_type": "code",
   "execution_count": 10,
   "metadata": {
    "collapsed": true
   },
   "outputs": [],
   "source": [
    "model.add(Conv1D(filters=30*6,\n",
    "                 kernel_size=1,\n",
    "                 padding='valid',\n",
    "                 input_shape=(10,1), \n",
    "                 activation='relu'))"
   ]
  },
  {
   "cell_type": "code",
   "execution_count": 11,
   "metadata": {
    "collapsed": true
   },
   "outputs": [],
   "source": [
    "model.add(MaxPooling1D(pool_size=1))"
   ]
  },
  {
   "cell_type": "code",
   "execution_count": 12,
   "metadata": {
    "collapsed": true
   },
   "outputs": [],
   "source": [
    "model.add(Conv1D(filters=30*5,\n",
    "                 kernel_size=1,\n",
    "                 padding='valid', \n",
    "                 activation='relu'))"
   ]
  },
  {
   "cell_type": "code",
   "execution_count": 13,
   "metadata": {
    "collapsed": true
   },
   "outputs": [],
   "source": [
    "model.add(MaxPooling1D(pool_size=1))"
   ]
  },
  {
   "cell_type": "code",
   "execution_count": 14,
   "metadata": {
    "collapsed": true
   },
   "outputs": [],
   "source": [
    "model.add(Conv1D(filters=30*4,\n",
    "                 kernel_size=1,\n",
    "                 padding='valid',\n",
    "                 activation='relu'))"
   ]
  },
  {
   "cell_type": "code",
   "execution_count": 15,
   "metadata": {
    "collapsed": true
   },
   "outputs": [],
   "source": [
    "model.add(MaxPooling1D(pool_size=1))"
   ]
  },
  {
   "cell_type": "code",
   "execution_count": 16,
   "metadata": {
    "collapsed": true
   },
   "outputs": [],
   "source": [
    "model.add(Conv1D(filters=30*3,\n",
    "                 kernel_size=1,\n",
    "                 padding='valid',\n",
    "                 activation='relu'))"
   ]
  },
  {
   "cell_type": "code",
   "execution_count": 17,
   "metadata": {
    "collapsed": true
   },
   "outputs": [],
   "source": [
    "model.add(MaxPooling1D(pool_size=1))"
   ]
  },
  {
   "cell_type": "code",
   "execution_count": 18,
   "metadata": {
    "collapsed": true
   },
   "outputs": [],
   "source": [
    "model.add(Conv1D(filters=30*2,\n",
    "                 kernel_size=1,\n",
    "                 padding='valid',\n",
    "                 activation='relu'))"
   ]
  },
  {
   "cell_type": "code",
   "execution_count": 19,
   "metadata": {
    "collapsed": true
   },
   "outputs": [],
   "source": [
    "model.add(MaxPooling1D(pool_size=1))"
   ]
  },
  {
   "cell_type": "code",
   "execution_count": 20,
   "metadata": {
    "collapsed": false
   },
   "outputs": [],
   "source": [
    "model.add(Conv1D(filters=30,\n",
    "                 kernel_size=1,\n",
    "                 padding='valid',\n",
    "                 activation='relu'))"
   ]
  },
  {
   "cell_type": "code",
   "execution_count": 21,
   "metadata": {
    "collapsed": false
   },
   "outputs": [],
   "source": [
    "model.add(MaxPooling1D(pool_size=1))"
   ]
  },
  {
   "cell_type": "code",
   "execution_count": 22,
   "metadata": {
    "collapsed": true
   },
   "outputs": [],
   "source": [
    "model.add(Flatten())"
   ]
  },
  {
   "cell_type": "code",
   "execution_count": 23,
   "metadata": {
    "collapsed": true
   },
   "outputs": [],
   "source": [
    "model.add(Dense(10, activation='tanh'))"
   ]
  },
  {
   "cell_type": "code",
   "execution_count": 24,
   "metadata": {
    "collapsed": true
   },
   "outputs": [],
   "source": [
    "model.add(Dense(1,activation='sigmoid'))"
   ]
  },
  {
   "cell_type": "code",
   "execution_count": 25,
   "metadata": {
    "collapsed": false
   },
   "outputs": [
    {
     "name": "stdout",
     "output_type": "stream",
     "text": [
      "_________________________________________________________________\n",
      "Layer (type)                 Output Shape              Param #   \n",
      "=================================================================\n",
      "conv1d_1 (Conv1D)            (None, 10, 180)           360       \n",
      "_________________________________________________________________\n",
      "max_pooling1d_1 (MaxPooling1 (None, 10, 180)           0         \n",
      "_________________________________________________________________\n",
      "conv1d_2 (Conv1D)            (None, 10, 150)           27150     \n",
      "_________________________________________________________________\n",
      "max_pooling1d_2 (MaxPooling1 (None, 10, 150)           0         \n",
      "_________________________________________________________________\n",
      "conv1d_3 (Conv1D)            (None, 10, 120)           18120     \n",
      "_________________________________________________________________\n",
      "max_pooling1d_3 (MaxPooling1 (None, 10, 120)           0         \n",
      "_________________________________________________________________\n",
      "conv1d_4 (Conv1D)            (None, 10, 90)            10890     \n",
      "_________________________________________________________________\n",
      "max_pooling1d_4 (MaxPooling1 (None, 10, 90)            0         \n",
      "_________________________________________________________________\n",
      "conv1d_5 (Conv1D)            (None, 10, 60)            5460      \n",
      "_________________________________________________________________\n",
      "max_pooling1d_5 (MaxPooling1 (None, 10, 60)            0         \n",
      "_________________________________________________________________\n",
      "conv1d_6 (Conv1D)            (None, 10, 30)            1830      \n",
      "_________________________________________________________________\n",
      "max_pooling1d_6 (MaxPooling1 (None, 10, 30)            0         \n",
      "_________________________________________________________________\n",
      "flatten_1 (Flatten)          (None, 300)               0         \n",
      "_________________________________________________________________\n",
      "dense_1 (Dense)              (None, 10)                3010      \n",
      "_________________________________________________________________\n",
      "dense_2 (Dense)              (None, 1)                 11        \n",
      "=================================================================\n",
      "Total params: 66,831\n",
      "Trainable params: 66,831\n",
      "Non-trainable params: 0\n",
      "_________________________________________________________________\n"
     ]
    }
   ],
   "source": [
    "model.summary()"
   ]
  },
  {
   "cell_type": "code",
   "execution_count": 26,
   "metadata": {
    "collapsed": false
   },
   "outputs": [],
   "source": [
    "model.compile(loss='binary_crossentropy', \n",
    "              optimizer='adam', metrics=['accuracy'])"
   ]
  },
  {
   "cell_type": "code",
   "execution_count": 27,
   "metadata": {
    "collapsed": false
   },
   "outputs": [
    {
     "name": "stdout",
     "output_type": "stream",
     "text": [
      "Train on 10194 samples, validate on 2549 samples\n",
      "Epoch 1/30\n",
      "10194/10194 [==============================] - 9s 888us/step - loss: 0.5812 - acc: 0.7248 - val_loss: 0.4489 - val_acc: 0.7917\n",
      "Epoch 2/30\n",
      "10194/10194 [==============================] - 10s 944us/step - loss: 0.4009 - acc: 0.8285 - val_loss: 0.3748 - val_acc: 0.8380\n",
      "Epoch 3/30\n",
      "10194/10194 [==============================] - 8s 802us/step - loss: 0.3526 - acc: 0.8557 - val_loss: 0.3650 - val_acc: 0.8439\n",
      "Epoch 4/30\n",
      "10194/10194 [==============================] - 8s 765us/step - loss: 0.3405 - acc: 0.8588 - val_loss: 0.3554 - val_acc: 0.8446\n",
      "Epoch 5/30\n",
      "10194/10194 [==============================] - 8s 773us/step - loss: 0.3359 - acc: 0.8634 - val_loss: 0.3535 - val_acc: 0.8470\n",
      "Epoch 6/30\n",
      "10194/10194 [==============================] - 8s 758us/step - loss: 0.3318 - acc: 0.8632 - val_loss: 0.3498 - val_acc: 0.8486\n",
      "Epoch 7/30\n",
      "10194/10194 [==============================] - 8s 783us/step - loss: 0.3292 - acc: 0.8683 - val_loss: 0.3481 - val_acc: 0.8474\n",
      "Epoch 8/30\n",
      "10194/10194 [==============================] - 8s 787us/step - loss: 0.3248 - acc: 0.8688 - val_loss: 0.3465 - val_acc: 0.8505\n",
      "Epoch 9/30\n",
      "10194/10194 [==============================] - 9s 909us/step - loss: 0.3247 - acc: 0.8674 - val_loss: 0.3509 - val_acc: 0.8521\n",
      "Epoch 10/30\n",
      "10194/10194 [==============================] - 12s 1ms/step - loss: 0.3275 - acc: 0.8649 - val_loss: 0.3457 - val_acc: 0.8505\n",
      "Epoch 11/30\n",
      "10194/10194 [==============================] - 9s 929us/step - loss: 0.3258 - acc: 0.8653 - val_loss: 0.3530 - val_acc: 0.8427\n",
      "Epoch 12/30\n",
      "10194/10194 [==============================] - 9s 864us/step - loss: 0.3221 - acc: 0.8692 - val_loss: 0.3489 - val_acc: 0.8443\n",
      "Epoch 13/30\n",
      "10194/10194 [==============================] - 8s 769us/step - loss: 0.3198 - acc: 0.8700 - val_loss: 0.3407 - val_acc: 0.8533\n",
      "Epoch 14/30\n",
      "10194/10194 [==============================] - 8s 754us/step - loss: 0.3185 - acc: 0.8708 - val_loss: 0.3468 - val_acc: 0.8474\n",
      "Epoch 15/30\n",
      "10194/10194 [==============================] - 8s 761us/step - loss: 0.3177 - acc: 0.8697 - val_loss: 0.3420 - val_acc: 0.8497\n",
      "Epoch 16/30\n",
      "10194/10194 [==============================] - 8s 771us/step - loss: 0.3170 - acc: 0.8709 - val_loss: 0.3384 - val_acc: 0.8533\n",
      "Epoch 17/30\n",
      "10194/10194 [==============================] - 8s 794us/step - loss: 0.3162 - acc: 0.8709 - val_loss: 0.3404 - val_acc: 0.8525\n",
      "Epoch 18/30\n",
      "10194/10194 [==============================] - 8s 763us/step - loss: 0.3175 - acc: 0.8697 - val_loss: 0.3411 - val_acc: 0.8474\n",
      "Epoch 19/30\n",
      "10194/10194 [==============================] - 8s 781us/step - loss: 0.3130 - acc: 0.8734 - val_loss: 0.3397 - val_acc: 0.8505\n",
      "Epoch 20/30\n",
      "10194/10194 [==============================] - 8s 766us/step - loss: 0.3109 - acc: 0.8729 - val_loss: 0.3375 - val_acc: 0.8537\n",
      "Epoch 21/30\n",
      "10194/10194 [==============================] - 11s 1ms/step - loss: 0.3104 - acc: 0.8736 - val_loss: 0.3429 - val_acc: 0.8486\n",
      "Epoch 22/30\n",
      "10194/10194 [==============================] - 11s 1ms/step - loss: 0.3112 - acc: 0.8728 - val_loss: 0.3414 - val_acc: 0.8497\n",
      "Epoch 23/30\n",
      "10194/10194 [==============================] - 6s 631us/step - loss: 0.3106 - acc: 0.8747 - val_loss: 0.3370 - val_acc: 0.8541\n",
      "Epoch 24/30\n",
      "10194/10194 [==============================] - 4s 376us/step - loss: 0.3087 - acc: 0.8737 - val_loss: 0.3385 - val_acc: 0.8470\n",
      "Epoch 25/30\n",
      "10194/10194 [==============================] - 4s 367us/step - loss: 0.3105 - acc: 0.8746 - val_loss: 0.3387 - val_acc: 0.8509\n",
      "Epoch 26/30\n",
      "10194/10194 [==============================] - 4s 353us/step - loss: 0.3128 - acc: 0.8707 - val_loss: 0.3396 - val_acc: 0.8509\n",
      "Epoch 27/30\n",
      "10194/10194 [==============================] - 4s 354us/step - loss: 0.3104 - acc: 0.8729 - val_loss: 0.3367 - val_acc: 0.8509\n",
      "Epoch 28/30\n",
      "10194/10194 [==============================] - 4s 379us/step - loss: 0.3075 - acc: 0.8738 - val_loss: 0.3387 - val_acc: 0.8490\n",
      "Epoch 29/30\n",
      "10194/10194 [==============================] - 4s 425us/step - loss: 0.3063 - acc: 0.8767 - val_loss: 0.3325 - val_acc: 0.8545\n",
      "Epoch 30/30\n",
      "10194/10194 [==============================] - 5s 520us/step - loss: 0.3077 - acc: 0.8723 - val_loss: 0.3450 - val_acc: 0.8497\n"
     ]
    }
   ],
   "source": [
    "train_history =model.fit(x=train_Features, \n",
    "                         y=train_Label, \n",
    "                         validation_split=0.2, \n",
    "                         epochs=30, \n",
    "                         batch_size=400,verbose=1)"
   ]
  },
  {
   "cell_type": "code",
   "execution_count": 28,
   "metadata": {
    "collapsed": true
   },
   "outputs": [],
   "source": [
    "import matplotlib.pyplot as plt\n",
    "def show_train_history(train_history,train,validation):\n",
    "    plt.plot(train_history.history[train])\n",
    "    plt.plot(train_history.history[validation])\n",
    "    plt.title('Train History')\n",
    "    plt.ylabel(train)\n",
    "    plt.xlabel('Epoch')\n",
    "    plt.legend(['train', 'validation'], loc='upper left')\n",
    "    plt.show()"
   ]
  },
  {
   "cell_type": "code",
   "execution_count": 29,
   "metadata": {
    "collapsed": false
   },
   "outputs": [
    {
     "data": {
      "image/png": "[encoded data removed]",
      "text/plain": [
       "<matplotlib.figure.Figure at 0x7f7c9af9eb38>"
      ]
     },
     "metadata": {},
     "output_type": "display_data"
    }
   ],
   "source": [
    "show_train_history(train_history,'acc','val_acc')"
   ]
  },
  {
   "cell_type": "code",
   "execution_count": 30,
   "metadata": {
    "collapsed": false
   },
   "outputs": [
    {
     "data": {
      "image/png": "[encoded data removed]",
      "text/plain": [
       "<matplotlib.figure.Figure at 0x7f7c9af11e48>"
      ]
     },
     "metadata": {},
     "output_type": "display_data"
    }
   ],
   "source": [
    "show_train_history(train_history,'loss','val_loss')"
   ]
  },
  {
   "cell_type": "code",
   "execution_count": 31,
   "metadata": {
    "collapsed": false
   },
   "outputs": [
    {
     "name": "stdout",
     "output_type": "stream",
     "text": [
      "6277/6277 [==============================] - 1s 122us/step\n"
     ]
    }
   ],
   "source": [
    "scores = model.evaluate(x=test_Features, \n",
    "                        y=test_Label)"
   ]
  },
  {
   "cell_type": "code",
   "execution_count": 32,
   "metadata": {
    "collapsed": false
   },
   "outputs": [
    {
     "data": {
      "text/plain": [
       "0.8547076628962881"
      ]
     },
     "execution_count": 32,
     "metadata": {},
     "output_type": "execute_result"
    }
   ],
   "source": [
    "scores[1]"
   ]
  }
 ],
 "metadata": {
  "anaconda-cloud": {},
  "kernelspec": {
   "display_name": "Python [default]",
   "language": "python",
   "name": "python3"
  },
  "language_info": {
   "codemirror_mode": {
    "name": "ipython",
    "version": 3
   },
   "file_extension": ".py",
   "mimetype": "text/x-python",
   "name": "python",
   "nbconvert_exporter": "python",
   "pygments_lexer": "ipython3",
   "version": "3.5.2"
  }
 },
 "nbformat": 4,
 "nbformat_minor": 1
}
