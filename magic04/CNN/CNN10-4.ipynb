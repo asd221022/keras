{
 "cells": [
  {
   "cell_type": "code",
   "execution_count": 1,
   "metadata": {
    "collapsed": false
   },
   "outputs": [],
   "source": [
    "import numpy as np\n",
    "import pandas as pd\n",
    "from sklearn.preprocessing import StandardScaler\n",
    "from sklearn.model_selection import train_test_split"
   ]
  },
  {
   "cell_type": "code",
   "execution_count": 2,
   "metadata": {
    "collapsed": false
   },
   "outputs": [],
   "source": [
    "Ynames = ['fLength', 'fWidth', 'fSize', 'fConc', 'fConc1', 'fAsym', \n",
    "             'fM3Long', 'fM3Trans', 'fAlpha', 'fDist', 'identity']\n",
    "featureNames = ['fLength', 'fWidth', 'fSize', 'fConc', 'fConc1', 'fAsym', \n",
    "             'fM3Long', 'fM3Trans', 'fAlpha', 'fDist']\n",
    "filepath = 'magic04.data'\n",
    "data = pd.read_csv(filepath, names=Ynames, header=None)\n",
    "data['identity']= data['identity'].map({'g':1, 'h': 0}).astype(int) \n",
    "X = data[featureNames].values\n",
    "Y = data['identity'].values.astype('int64')"
   ]
  },
  {
   "cell_type": "code",
   "execution_count": 3,
   "metadata": {
    "collapsed": false
   },
   "outputs": [
    {
     "data": {
      "text/plain": [
       "array([[-0.74743526, -0.27432591,  0.32561897, -0.39509724, -0.29642348,\n",
       "         0.10603492, -0.48445171,  0.62718309,  1.49919901, -0.3750996 ],\n",
       "       [-0.64743465, -0.8223927 , -1.13210444,  1.4822788 ,  2.02558259,\n",
       "        -0.09051431, -0.4739691 ,  0.15615744,  0.14646987,  0.202556  ]])"
      ]
     },
     "execution_count": 3,
     "metadata": {},
     "output_type": "execute_result"
    }
   ],
   "source": [
    "X = StandardScaler().fit_transform(X)\n",
    "train_Features, test_Features, train_Label, test_Label = train_test_split(X, Y, test_size=0.33, random_state=None) \n",
    "train_Features[:2]"
   ]
  },
  {
   "cell_type": "code",
   "execution_count": 4,
   "metadata": {
    "collapsed": false
   },
   "outputs": [
    {
     "data": {
      "text/plain": [
       "array([[-0.72643617, -0.59579854, -1.1803496 ,  1.02442223,  0.77227845,\n",
       "        -0.14599319, -0.59290137, -0.42245027,  1.55221221, -0.63664043],\n",
       "       [-0.71388062, -0.54356796, -0.8089888 ,  0.37839044,  0.44198531,\n",
       "         0.26413438, -0.56322026, -0.8002791 ,  0.38693325, -0.70941861]])"
      ]
     },
     "execution_count": 4,
     "metadata": {},
     "output_type": "execute_result"
    }
   ],
   "source": [
    "test_Features[:2]"
   ]
  },
  {
   "cell_type": "code",
   "execution_count": 5,
   "metadata": {
    "collapsed": false
   },
   "outputs": [
    {
     "data": {
      "text/plain": [
       "array([0, 1, 1, 1])"
      ]
     },
     "execution_count": 5,
     "metadata": {},
     "output_type": "execute_result"
    }
   ],
   "source": [
    "train_Label[:4]"
   ]
  },
  {
   "cell_type": "code",
   "execution_count": 6,
   "metadata": {
    "collapsed": false
   },
   "outputs": [],
   "source": [
    "train_Features = train_Features.reshape((train_Features.shape[0], train_Features.shape[1], 1))\n",
    "test_Features = test_Features.reshape((test_Features.shape[0], test_Features.shape[1], 1))"
   ]
  },
  {
   "cell_type": "code",
   "execution_count": 7,
   "metadata": {
    "collapsed": false
   },
   "outputs": [
    {
     "data": {
      "text/plain": [
       "(12743, 10, 1)"
      ]
     },
     "execution_count": 7,
     "metadata": {},
     "output_type": "execute_result"
    }
   ],
   "source": [
    "train_Features.shape"
   ]
  },
  {
   "cell_type": "code",
   "execution_count": 8,
   "metadata": {
    "collapsed": false
   },
   "outputs": [
    {
     "name": "stderr",
     "output_type": "stream",
     "text": [
      "Using TensorFlow backend.\n"
     ]
    }
   ],
   "source": [
    "from keras.models import Sequential\n",
    "from keras.layers import Dense,Dropout,Flatten,Conv1D,MaxPooling1D\n",
    "from keras.layers.embeddings import Embedding\n",
    "from keras.callbacks import EarlyStopping\n",
    "early_stopping = EarlyStopping(monitor='val_loss', patience=2)"
   ]
  },
  {
   "cell_type": "code",
   "execution_count": 9,
   "metadata": {
    "collapsed": true
   },
   "outputs": [],
   "source": [
    "model = Sequential()"
   ]
  },
  {
   "cell_type": "code",
   "execution_count": 10,
   "metadata": {
    "collapsed": true
   },
   "outputs": [],
   "source": [
    "model.add(Conv1D(filters=10*4,\n",
    "                 kernel_size=1,\n",
    "                 padding='valid',\n",
    "                 input_shape=(10,1), \n",
    "                 activation='relu'))"
   ]
  },
  {
   "cell_type": "code",
   "execution_count": 11,
   "metadata": {
    "collapsed": true
   },
   "outputs": [],
   "source": [
    "model.add(MaxPooling1D(pool_size=1))"
   ]
  },
  {
   "cell_type": "code",
   "execution_count": 12,
   "metadata": {
    "collapsed": true
   },
   "outputs": [],
   "source": [
    "model.add(Conv1D(filters=10*3,\n",
    "                 kernel_size=1,\n",
    "                 padding='valid',\n",
    "                 activation='relu'))"
   ]
  },
  {
   "cell_type": "code",
   "execution_count": 13,
   "metadata": {
    "collapsed": true
   },
   "outputs": [],
   "source": [
    "model.add(MaxPooling1D(pool_size=1))"
   ]
  },
  {
   "cell_type": "code",
   "execution_count": 14,
   "metadata": {
    "collapsed": true
   },
   "outputs": [],
   "source": [
    "model.add(Conv1D(filters=10*2,\n",
    "                 kernel_size=1,\n",
    "                 padding='valid', \n",
    "                 activation='relu'))"
   ]
  },
  {
   "cell_type": "code",
   "execution_count": 15,
   "metadata": {
    "collapsed": true
   },
   "outputs": [],
   "source": [
    "model.add(MaxPooling1D(pool_size=1))"
   ]
  },
  {
   "cell_type": "code",
   "execution_count": 16,
   "metadata": {
    "collapsed": true
   },
   "outputs": [],
   "source": [
    "model.add(Conv1D(filters=10,\n",
    "                 kernel_size=1,\n",
    "                 padding='valid', \n",
    "                 activation='relu'))"
   ]
  },
  {
   "cell_type": "code",
   "execution_count": 17,
   "metadata": {
    "collapsed": false
   },
   "outputs": [],
   "source": [
    "model.add(MaxPooling1D(pool_size=1))"
   ]
  },
  {
   "cell_type": "code",
   "execution_count": 18,
   "metadata": {
    "collapsed": true
   },
   "outputs": [],
   "source": [
    "model.add(Flatten())"
   ]
  },
  {
   "cell_type": "code",
   "execution_count": 19,
   "metadata": {
    "collapsed": true
   },
   "outputs": [],
   "source": [
    "model.add(Dense(10, activation='tanh'))"
   ]
  },
  {
   "cell_type": "code",
   "execution_count": 20,
   "metadata": {
    "collapsed": true
   },
   "outputs": [],
   "source": [
    "model.add(Dense(1,activation='sigmoid'))"
   ]
  },
  {
   "cell_type": "code",
   "execution_count": 21,
   "metadata": {
    "collapsed": false
   },
   "outputs": [
    {
     "name": "stdout",
     "output_type": "stream",
     "text": [
      "_________________________________________________________________\n",
      "Layer (type)                 Output Shape              Param #   \n",
      "=================================================================\n",
      "conv1d_1 (Conv1D)            (None, 10, 40)            80        \n",
      "_________________________________________________________________\n",
      "max_pooling1d_1 (MaxPooling1 (None, 10, 40)            0         \n",
      "_________________________________________________________________\n",
      "conv1d_2 (Conv1D)            (None, 10, 30)            1230      \n",
      "_________________________________________________________________\n",
      "max_pooling1d_2 (MaxPooling1 (None, 10, 30)            0         \n",
      "_________________________________________________________________\n",
      "conv1d_3 (Conv1D)            (None, 10, 20)            620       \n",
      "_________________________________________________________________\n",
      "max_pooling1d_3 (MaxPooling1 (None, 10, 20)            0         \n",
      "_________________________________________________________________\n",
      "conv1d_4 (Conv1D)            (None, 10, 10)            210       \n",
      "_________________________________________________________________\n",
      "max_pooling1d_4 (MaxPooling1 (None, 10, 10)            0         \n",
      "_________________________________________________________________\n",
      "flatten_1 (Flatten)          (None, 100)               0         \n",
      "_________________________________________________________________\n",
      "dense_1 (Dense)              (None, 10)                1010      \n",
      "_________________________________________________________________\n",
      "dense_2 (Dense)              (None, 1)                 11        \n",
      "=================================================================\n",
      "Total params: 3,161\n",
      "Trainable params: 3,161\n",
      "Non-trainable params: 0\n",
      "_________________________________________________________________\n"
     ]
    }
   ],
   "source": [
    "model.summary()"
   ]
  },
  {
   "cell_type": "code",
   "execution_count": 22,
   "metadata": {
    "collapsed": false
   },
   "outputs": [],
   "source": [
    "model.compile(loss='binary_crossentropy', \n",
    "              optimizer='adam', metrics=['accuracy'])"
   ]
  },
  {
   "cell_type": "code",
   "execution_count": 23,
   "metadata": {
    "collapsed": false
   },
   "outputs": [
    {
     "name": "stdout",
     "output_type": "stream",
     "text": [
      "Train on 10194 samples, validate on 2549 samples\n",
      "Epoch 1/30\n",
      "10194/10194 [==============================] - 6s 621us/step - loss: 0.6720 - acc: 0.6326 - val_loss: 0.6263 - val_acc: 0.7485\n",
      "Epoch 2/30\n",
      "10194/10194 [==============================] - 1s 66us/step - loss: 0.5794 - acc: 0.7328 - val_loss: 0.5079 - val_acc: 0.7768\n",
      "Epoch 3/30\n",
      "10194/10194 [==============================] - 1s 117us/step - loss: 0.4790 - acc: 0.7793 - val_loss: 0.4306 - val_acc: 0.8089\n",
      "Epoch 4/30\n",
      "10194/10194 [==============================] - 1s 114us/step - loss: 0.4222 - acc: 0.8095 - val_loss: 0.3975 - val_acc: 0.8325\n",
      "Epoch 5/30\n",
      "10194/10194 [==============================] - 1s 88us/step - loss: 0.3897 - acc: 0.8334 - val_loss: 0.3723 - val_acc: 0.8443\n",
      "Epoch 6/30\n",
      "10194/10194 [==============================] - 1s 82us/step - loss: 0.3681 - acc: 0.8487 - val_loss: 0.3562 - val_acc: 0.8478\n",
      "Epoch 7/30\n",
      "10194/10194 [==============================] - 1s 96us/step - loss: 0.3559 - acc: 0.8526 - val_loss: 0.3498 - val_acc: 0.8525\n",
      "Epoch 8/30\n",
      "10194/10194 [==============================] - 1s 123us/step - loss: 0.3503 - acc: 0.8531 - val_loss: 0.3453 - val_acc: 0.8545\n",
      "Epoch 9/30\n",
      "10194/10194 [==============================] - 1s 116us/step - loss: 0.3450 - acc: 0.8542 - val_loss: 0.3436 - val_acc: 0.8596\n",
      "Epoch 10/30\n",
      "10194/10194 [==============================] - 1s 111us/step - loss: 0.3423 - acc: 0.8563 - val_loss: 0.3404 - val_acc: 0.8603\n",
      "Epoch 11/30\n",
      "10194/10194 [==============================] - 1s 72us/step - loss: 0.3400 - acc: 0.8575 - val_loss: 0.3376 - val_acc: 0.8639\n",
      "Epoch 12/30\n",
      "10194/10194 [==============================] - 1s 81us/step - loss: 0.3374 - acc: 0.8578 - val_loss: 0.3363 - val_acc: 0.8654\n",
      "Epoch 13/30\n",
      "10194/10194 [==============================] - 1s 117us/step - loss: 0.3357 - acc: 0.8580 - val_loss: 0.3324 - val_acc: 0.8670\n",
      "Epoch 14/30\n",
      "10194/10194 [==============================] - 2s 184us/step - loss: 0.3340 - acc: 0.8606 - val_loss: 0.3323 - val_acc: 0.8678\n",
      "Epoch 15/30\n",
      "10194/10194 [==============================] - 2s 170us/step - loss: 0.3345 - acc: 0.8603 - val_loss: 0.3357 - val_acc: 0.8599\n",
      "Epoch 16/30\n",
      "10194/10194 [==============================] - 2s 173us/step - loss: 0.3317 - acc: 0.8620 - val_loss: 0.3284 - val_acc: 0.8698\n",
      "Epoch 17/30\n",
      "10194/10194 [==============================] - 1s 129us/step - loss: 0.3300 - acc: 0.8624 - val_loss: 0.3282 - val_acc: 0.8670\n",
      "Epoch 18/30\n",
      "10194/10194 [==============================] - 1s 109us/step - loss: 0.3294 - acc: 0.8634 - val_loss: 0.3264 - val_acc: 0.8694\n",
      "Epoch 19/30\n",
      "10194/10194 [==============================] - 1s 143us/step - loss: 0.3287 - acc: 0.8631 - val_loss: 0.3306 - val_acc: 0.8623\n",
      "Epoch 20/30\n",
      "10194/10194 [==============================] - 2s 222us/step - loss: 0.3277 - acc: 0.8632 - val_loss: 0.3260 - val_acc: 0.8678\n",
      "Epoch 21/30\n",
      "10194/10194 [==============================] - 2s 203us/step - loss: 0.3269 - acc: 0.8651 - val_loss: 0.3263 - val_acc: 0.8698\n",
      "Epoch 22/30\n",
      "10194/10194 [==============================] - 2s 214us/step - loss: 0.3263 - acc: 0.8656 - val_loss: 0.3247 - val_acc: 0.8686\n",
      "Epoch 23/30\n",
      "10194/10194 [==============================] - 2s 189us/step - loss: 0.3252 - acc: 0.8656 - val_loss: 0.3229 - val_acc: 0.8698\n",
      "Epoch 24/30\n",
      "10194/10194 [==============================] - 2s 192us/step - loss: 0.3244 - acc: 0.8651 - val_loss: 0.3261 - val_acc: 0.8647\n",
      "Epoch 25/30\n",
      "10194/10194 [==============================] - 2s 177us/step - loss: 0.3237 - acc: 0.8667 - val_loss: 0.3243 - val_acc: 0.8682\n",
      "Epoch 26/30\n",
      "10194/10194 [==============================] - 2s 183us/step - loss: 0.3235 - acc: 0.8636 - val_loss: 0.3231 - val_acc: 0.8674\n",
      "Epoch 27/30\n",
      "10194/10194 [==============================] - 2s 205us/step - loss: 0.3225 - acc: 0.8657 - val_loss: 0.3211 - val_acc: 0.8674\n",
      "Epoch 28/30\n",
      "10194/10194 [==============================] - 2s 186us/step - loss: 0.3217 - acc: 0.8659 - val_loss: 0.3213 - val_acc: 0.8709\n",
      "Epoch 29/30\n",
      "10194/10194 [==============================] - 2s 202us/step - loss: 0.3226 - acc: 0.8656 - val_loss: 0.3230 - val_acc: 0.8686\n",
      "Epoch 30/30\n",
      "10194/10194 [==============================] - 2s 172us/step - loss: 0.3219 - acc: 0.8664 - val_loss: 0.3248 - val_acc: 0.8662\n"
     ]
    }
   ],
   "source": [
    "train_history =model.fit(x=train_Features, \n",
    "                         y=train_Label, \n",
    "                         validation_split=0.2, \n",
    "                         epochs=30, \n",
    "                         batch_size=400,verbose=1)"
   ]
  },
  {
   "cell_type": "code",
   "execution_count": 24,
   "metadata": {
    "collapsed": true
   },
   "outputs": [],
   "source": [
    "import matplotlib.pyplot as plt\n",
    "def show_train_history(train_history,train,validation):\n",
    "    plt.plot(train_history.history[train])\n",
    "    plt.plot(train_history.history[validation])\n",
    "    plt.title('Train History')\n",
    "    plt.ylabel(train)\n",
    "    plt.xlabel('Epoch')\n",
    "    plt.legend(['train', 'validation'], loc='upper left')\n",
    "    plt.show()"
   ]
  },
  {
   "cell_type": "code",
   "execution_count": 25,
   "metadata": {
    "collapsed": false
   },
   "outputs": [
    {
     "data": {
      "image/png": "[encoded data removed]",
      "text/plain": [
       "<matplotlib.figure.Figure at 0x7fd71d4ee518>"
      ]
     },
     "metadata": {},
     "output_type": "display_data"
    }
   ],
   "source": [
    "show_train_history(train_history,'acc','val_acc')"
   ]
  },
  {
   "cell_type": "code",
   "execution_count": 26,
   "metadata": {
    "collapsed": false
   },
   "outputs": [
    {
     "data": {
      "image/png": "[encoded data removed]",
      "text/plain": [
       "<matplotlib.figure.Figure at 0x7fd71d4dbba8>"
      ]
     },
     "metadata": {},
     "output_type": "display_data"
    }
   ],
   "source": [
    "show_train_history(train_history,'loss','val_loss')"
   ]
  },
  {
   "cell_type": "code",
   "execution_count": 27,
   "metadata": {
    "collapsed": false
   },
   "outputs": [
    {
     "name": "stdout",
     "output_type": "stream",
     "text": [
      "6277/6277 [==============================] - 1s 123us/step\n"
     ]
    }
   ],
   "source": [
    "scores = model.evaluate(x=test_Features, \n",
    "                        y=test_Label)"
   ]
  },
  {
   "cell_type": "code",
   "execution_count": 28,
   "metadata": {
    "collapsed": false
   },
   "outputs": [
    {
     "data": {
      "text/plain": [
       "0.8578938983780802"
      ]
     },
     "execution_count": 28,
     "metadata": {},
     "output_type": "execute_result"
    }
   ],
   "source": [
    "scores[1]"
   ]
  }
 ],
 "metadata": {
  "anaconda-cloud": {},
  "kernelspec": {
   "display_name": "Python [default]",
   "language": "python",
   "name": "python3"
  },
  "language_info": {
   "codemirror_mode": {
    "name": "ipython",
    "version": 3
   },
   "file_extension": ".py",
   "mimetype": "text/x-python",
   "name": "python",
   "nbconvert_exporter": "python",
   "pygments_lexer": "ipython3",
   "version": "3.5.2"
  }
 },
 "nbformat": 4,
 "nbformat_minor": 1
}
