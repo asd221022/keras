{
 "cells": [
  {
   "cell_type": "code",
   "execution_count": 1,
   "metadata": {
    "collapsed": false
   },
   "outputs": [],
   "source": [
    "import numpy as np\n",
    "import pandas as pd\n",
    "from sklearn.preprocessing import StandardScaler\n",
    "from sklearn.model_selection import train_test_split"
   ]
  },
  {
   "cell_type": "code",
   "execution_count": 2,
   "metadata": {
    "collapsed": false
   },
   "outputs": [],
   "source": [
    "Ynames = ['fLength', 'fWidth', 'fSize', 'fConc', 'fConc1', 'fAsym', \n",
    "             'fM3Long', 'fM3Trans', 'fAlpha', 'fDist', 'identity']\n",
    "featureNames = ['fLength', 'fWidth', 'fSize', 'fConc', 'fConc1', 'fAsym', \n",
    "             'fM3Long', 'fM3Trans', 'fAlpha', 'fDist']\n",
    "filepath = 'magic04.data'\n",
    "data = pd.read_csv(filepath, names=Ynames, header=None)\n",
    "data['identity']= data['identity'].map({'g':1, 'h': 0}).astype(int) \n",
    "X = data[featureNames].values\n",
    "Y = data['identity'].values.astype('int64')"
   ]
  },
  {
   "cell_type": "code",
   "execution_count": 3,
   "metadata": {
    "collapsed": false
   },
   "outputs": [
    {
     "data": {
      "text/plain": [
       "array([[-0.56583657, -0.35061134, -0.50216648, -0.31359111, -0.45749795,\n",
       "        -0.19184106,  0.05002581, -0.41558415, -0.65792246,  0.02783325],\n",
       "       [-0.40368847, -0.12011977,  0.09349202, -0.48371464, -0.5181271 ,\n",
       "         0.06987551, -0.80308092, -0.43963479, -0.88012736,  0.00804195]])"
      ]
     },
     "execution_count": 3,
     "metadata": {},
     "output_type": "execute_result"
    }
   ],
   "source": [
    "X = StandardScaler().fit_transform(X)\n",
    "train_Features, test_Features, train_Label, test_Label = train_test_split(X, Y, test_size=0.33, random_state=None) \n",
    "train_Features[:2]"
   ]
  },
  {
   "cell_type": "code",
   "execution_count": 4,
   "metadata": {
    "collapsed": false
   },
   "outputs": [
    {
     "data": {
      "text/plain": [
       "array([[ 0.93605628,  0.42752185,  1.06093452, -1.43826627, -1.4067514 ,\n",
       "         1.79357541,  1.49773895, -0.50992852, -0.80376813,  0.19628005],\n",
       "       [-0.7980729 , -0.38864231, -0.57368782,  0.62400286,  0.62296785,\n",
       "        -0.00988362,  0.05163761, -0.41677012, -0.97246947, -1.96416533]])"
      ]
     },
     "execution_count": 4,
     "metadata": {},
     "output_type": "execute_result"
    }
   ],
   "source": [
    "test_Features[:2]"
   ]
  },
  {
   "cell_type": "code",
   "execution_count": 5,
   "metadata": {
    "collapsed": false
   },
   "outputs": [
    {
     "data": {
      "text/plain": [
       "array([1, 1, 0, 1])"
      ]
     },
     "execution_count": 5,
     "metadata": {},
     "output_type": "execute_result"
    }
   ],
   "source": [
    "train_Label[:4]"
   ]
  },
  {
   "cell_type": "code",
   "execution_count": 6,
   "metadata": {
    "collapsed": false
   },
   "outputs": [],
   "source": [
    "train_Features = train_Features.reshape((train_Features.shape[0], train_Features.shape[1], 1))\n",
    "test_Features = test_Features.reshape((test_Features.shape[0], test_Features.shape[1], 1))"
   ]
  },
  {
   "cell_type": "code",
   "execution_count": 7,
   "metadata": {
    "collapsed": false
   },
   "outputs": [
    {
     "data": {
      "text/plain": [
       "(12743, 10, 1)"
      ]
     },
     "execution_count": 7,
     "metadata": {},
     "output_type": "execute_result"
    }
   ],
   "source": [
    "train_Features.shape"
   ]
  },
  {
   "cell_type": "code",
   "execution_count": 8,
   "metadata": {
    "collapsed": false
   },
   "outputs": [
    {
     "name": "stderr",
     "output_type": "stream",
     "text": [
      "Using TensorFlow backend.\n"
     ]
    }
   ],
   "source": [
    "from keras.models import Sequential\n",
    "from keras.layers import Dense,Dropout,Flatten,Conv1D,MaxPooling1D\n",
    "from keras.layers.embeddings import Embedding\n",
    "from keras.callbacks import EarlyStopping\n",
    "early_stopping = EarlyStopping(monitor='val_loss', patience=2)"
   ]
  },
  {
   "cell_type": "code",
   "execution_count": 9,
   "metadata": {
    "collapsed": true
   },
   "outputs": [],
   "source": [
    "model = Sequential()"
   ]
  },
  {
   "cell_type": "code",
   "execution_count": 10,
   "metadata": {
    "collapsed": true
   },
   "outputs": [],
   "source": [
    "model.add(Conv1D(filters=30*3,\n",
    "                 kernel_size=3,\n",
    "                 padding='valid',\n",
    "                 input_shape=(10,1), \n",
    "                 activation='relu'))"
   ]
  },
  {
   "cell_type": "code",
   "execution_count": 11,
   "metadata": {
    "collapsed": true
   },
   "outputs": [],
   "source": [
    "model.add(MaxPooling1D(pool_size=1))"
   ]
  },
  {
   "cell_type": "code",
   "execution_count": 12,
   "metadata": {
    "collapsed": true
   },
   "outputs": [],
   "source": [
    "model.add(Conv1D(filters=30*2,\n",
    "                 kernel_size=3,\n",
    "                 padding='valid', \n",
    "                 activation='relu'))"
   ]
  },
  {
   "cell_type": "code",
   "execution_count": 13,
   "metadata": {
    "collapsed": true
   },
   "outputs": [],
   "source": [
    "model.add(MaxPooling1D(pool_size=1))"
   ]
  },
  {
   "cell_type": "code",
   "execution_count": 14,
   "metadata": {
    "collapsed": true
   },
   "outputs": [],
   "source": [
    "model.add(Conv1D(filters=30,\n",
    "                 kernel_size=3,\n",
    "                 padding='valid',\n",
    "                 activation='relu'))"
   ]
  },
  {
   "cell_type": "code",
   "execution_count": 15,
   "metadata": {
    "collapsed": false
   },
   "outputs": [],
   "source": [
    "model.add(MaxPooling1D(pool_size=1))"
   ]
  },
  {
   "cell_type": "code",
   "execution_count": 16,
   "metadata": {
    "collapsed": true
   },
   "outputs": [],
   "source": [
    "model.add(Flatten())"
   ]
  },
  {
   "cell_type": "code",
   "execution_count": 17,
   "metadata": {
    "collapsed": true
   },
   "outputs": [],
   "source": [
    "model.add(Dense(10, activation='tanh'))"
   ]
  },
  {
   "cell_type": "code",
   "execution_count": 18,
   "metadata": {
    "collapsed": true
   },
   "outputs": [],
   "source": [
    "model.add(Dense(1,activation='sigmoid'))"
   ]
  },
  {
   "cell_type": "code",
   "execution_count": 19,
   "metadata": {
    "collapsed": false
   },
   "outputs": [
    {
     "name": "stdout",
     "output_type": "stream",
     "text": [
      "_________________________________________________________________\n",
      "Layer (type)                 Output Shape              Param #   \n",
      "=================================================================\n",
      "conv1d_1 (Conv1D)            (None, 8, 90)             360       \n",
      "_________________________________________________________________\n",
      "max_pooling1d_1 (MaxPooling1 (None, 8, 90)             0         \n",
      "_________________________________________________________________\n",
      "conv1d_2 (Conv1D)            (None, 6, 60)             16260     \n",
      "_________________________________________________________________\n",
      "max_pooling1d_2 (MaxPooling1 (None, 6, 60)             0         \n",
      "_________________________________________________________________\n",
      "conv1d_3 (Conv1D)            (None, 4, 30)             5430      \n",
      "_________________________________________________________________\n",
      "max_pooling1d_3 (MaxPooling1 (None, 4, 30)             0         \n",
      "_________________________________________________________________\n",
      "flatten_1 (Flatten)          (None, 120)               0         \n",
      "_________________________________________________________________\n",
      "dense_1 (Dense)              (None, 10)                1210      \n",
      "_________________________________________________________________\n",
      "dense_2 (Dense)              (None, 1)                 11        \n",
      "=================================================================\n",
      "Total params: 23,271\n",
      "Trainable params: 23,271\n",
      "Non-trainable params: 0\n",
      "_________________________________________________________________\n"
     ]
    }
   ],
   "source": [
    "model.summary()"
   ]
  },
  {
   "cell_type": "code",
   "execution_count": 20,
   "metadata": {
    "collapsed": false
   },
   "outputs": [],
   "source": [
    "model.compile(loss='binary_crossentropy', \n",
    "              optimizer='adam', metrics=['accuracy'])"
   ]
  },
  {
   "cell_type": "code",
   "execution_count": 21,
   "metadata": {
    "collapsed": false
   },
   "outputs": [
    {
     "name": "stdout",
     "output_type": "stream",
     "text": [
      "Train on 10194 samples, validate on 2549 samples\n",
      "Epoch 1/30\n",
      "10194/10194 [==============================] - 6s 590us/step - loss: 0.5808 - acc: 0.7118 - val_loss: 0.4639 - val_acc: 0.7917\n",
      "Epoch 2/30\n",
      "10194/10194 [==============================] - 3s 270us/step - loss: 0.4263 - acc: 0.8097 - val_loss: 0.3885 - val_acc: 0.8360\n",
      "Epoch 3/30\n",
      "10194/10194 [==============================] - 3s 271us/step - loss: 0.3837 - acc: 0.8304 - val_loss: 0.3665 - val_acc: 0.8490\n",
      "Epoch 4/30\n",
      "10194/10194 [==============================] - 2s 245us/step - loss: 0.3660 - acc: 0.8434 - val_loss: 0.3574 - val_acc: 0.8545\n",
      "Epoch 5/30\n",
      "10194/10194 [==============================] - 4s 360us/step - loss: 0.3548 - acc: 0.8521 - val_loss: 0.3490 - val_acc: 0.8560\n",
      "Epoch 6/30\n",
      "10194/10194 [==============================] - 3s 284us/step - loss: 0.3440 - acc: 0.8599 - val_loss: 0.3419 - val_acc: 0.8560\n",
      "Epoch 7/30\n",
      "10194/10194 [==============================] - 3s 291us/step - loss: 0.3385 - acc: 0.8593 - val_loss: 0.3388 - val_acc: 0.8596\n",
      "Epoch 8/30\n",
      "10194/10194 [==============================] - 3s 296us/step - loss: 0.3323 - acc: 0.8653 - val_loss: 0.3460 - val_acc: 0.8584\n",
      "Epoch 9/30\n",
      "10194/10194 [==============================] - 5s 487us/step - loss: 0.3326 - acc: 0.8627 - val_loss: 0.3352 - val_acc: 0.8615\n",
      "Epoch 10/30\n",
      "10194/10194 [==============================] - 6s 584us/step - loss: 0.3264 - acc: 0.8661 - val_loss: 0.3362 - val_acc: 0.8584\n",
      "Epoch 11/30\n",
      "10194/10194 [==============================] - 5s 442us/step - loss: 0.3247 - acc: 0.8665 - val_loss: 0.3325 - val_acc: 0.8592\n",
      "Epoch 12/30\n",
      "10194/10194 [==============================] - 4s 425us/step - loss: 0.3207 - acc: 0.8688 - val_loss: 0.3310 - val_acc: 0.8631\n",
      "Epoch 13/30\n",
      "10194/10194 [==============================] - 4s 424us/step - loss: 0.3187 - acc: 0.8691 - val_loss: 0.3307 - val_acc: 0.8607\n",
      "Epoch 14/30\n",
      "10194/10194 [==============================] - 5s 480us/step - loss: 0.3188 - acc: 0.8672 - val_loss: 0.3270 - val_acc: 0.8647\n",
      "Epoch 15/30\n",
      "10194/10194 [==============================] - 5s 450us/step - loss: 0.3193 - acc: 0.8707 - val_loss: 0.3315 - val_acc: 0.8599\n",
      "Epoch 16/30\n",
      "10194/10194 [==============================] - 4s 417us/step - loss: 0.3162 - acc: 0.8713 - val_loss: 0.3345 - val_acc: 0.8615\n",
      "Epoch 17/30\n",
      "10194/10194 [==============================] - 4s 428us/step - loss: 0.3131 - acc: 0.8744 - val_loss: 0.3239 - val_acc: 0.8662\n",
      "Epoch 18/30\n",
      "10194/10194 [==============================] - 4s 436us/step - loss: 0.3121 - acc: 0.8760 - val_loss: 0.3326 - val_acc: 0.8623\n",
      "Epoch 19/30\n",
      "10194/10194 [==============================] - 6s 586us/step - loss: 0.3122 - acc: 0.8737 - val_loss: 0.3243 - val_acc: 0.8658\n",
      "Epoch 20/30\n",
      "10194/10194 [==============================] - 5s 471us/step - loss: 0.3110 - acc: 0.8748 - val_loss: 0.3259 - val_acc: 0.8631\n",
      "Epoch 21/30\n",
      "10194/10194 [==============================] - 5s 493us/step - loss: 0.3092 - acc: 0.8762 - val_loss: 0.3231 - val_acc: 0.8666\n",
      "Epoch 22/30\n",
      "10194/10194 [==============================] - 5s 492us/step - loss: 0.3070 - acc: 0.8750 - val_loss: 0.3230 - val_acc: 0.8658\n",
      "Epoch 23/30\n",
      "10194/10194 [==============================] - 5s 448us/step - loss: 0.3094 - acc: 0.8746 - val_loss: 0.3220 - val_acc: 0.8650\n",
      "Epoch 24/30\n",
      "10194/10194 [==============================] - 5s 456us/step - loss: 0.3089 - acc: 0.8749 - val_loss: 0.3269 - val_acc: 0.8650\n",
      "Epoch 25/30\n",
      "10194/10194 [==============================] - 5s 479us/step - loss: 0.3047 - acc: 0.8759 - val_loss: 0.3347 - val_acc: 0.8615\n",
      "Epoch 26/30\n",
      "10194/10194 [==============================] - 5s 487us/step - loss: 0.3066 - acc: 0.8769 - val_loss: 0.3285 - val_acc: 0.8647\n",
      "Epoch 27/30\n",
      "10194/10194 [==============================] - 5s 498us/step - loss: 0.3037 - acc: 0.8786 - val_loss: 0.3205 - val_acc: 0.8674\n",
      "Epoch 28/30\n",
      "10194/10194 [==============================] - 5s 491us/step - loss: 0.3046 - acc: 0.8769 - val_loss: 0.3223 - val_acc: 0.8658\n",
      "Epoch 29/30\n",
      "10194/10194 [==============================] - 5s 516us/step - loss: 0.3076 - acc: 0.8768 - val_loss: 0.3294 - val_acc: 0.8639\n",
      "Epoch 30/30\n",
      "10194/10194 [==============================] - 6s 580us/step - loss: 0.3020 - acc: 0.8800 - val_loss: 0.3222 - val_acc: 0.8666\n"
     ]
    }
   ],
   "source": [
    "train_history =model.fit(x=train_Features, \n",
    "                         y=train_Label, \n",
    "                         validation_split=0.2, \n",
    "                         epochs=30, \n",
    "                         batch_size=400,verbose=1)"
   ]
  },
  {
   "cell_type": "code",
   "execution_count": 22,
   "metadata": {
    "collapsed": true
   },
   "outputs": [],
   "source": [
    "import matplotlib.pyplot as plt\n",
    "def show_train_history(train_history,train,validation):\n",
    "    plt.plot(train_history.history[train])\n",
    "    plt.plot(train_history.history[validation])\n",
    "    plt.title('Train History')\n",
    "    plt.ylabel(train)\n",
    "    plt.xlabel('Epoch')\n",
    "    plt.legend(['train', 'validation'], loc='upper left')\n",
    "    plt.show()"
   ]
  },
  {
   "cell_type": "code",
   "execution_count": 23,
   "metadata": {
    "collapsed": false
   },
   "outputs": [
    {
     "data": {
      "image/png": "[encoded data removed]",
      "text/plain": [
       "<matplotlib.figure.Figure at 0x7f5747cca6d8>"
      ]
     },
     "metadata": {},
     "output_type": "display_data"
    }
   ],
   "source": [
    "show_train_history(train_history,'acc','val_acc')"
   ]
  },
  {
   "cell_type": "code",
   "execution_count": 24,
   "metadata": {
    "collapsed": false
   },
   "outputs": [
    {
     "data": {
      "image/png": "[encoded data removed]",
      "text/plain": [
       "<matplotlib.figure.Figure at 0x7f573a1ec1d0>"
      ]
     },
     "metadata": {},
     "output_type": "display_data"
    }
   ],
   "source": [
    "show_train_history(train_history,'loss','val_loss')"
   ]
  },
  {
   "cell_type": "code",
   "execution_count": 25,
   "metadata": {
    "collapsed": false
   },
   "outputs": [
    {
     "name": "stdout",
     "output_type": "stream",
     "text": [
      "6277/6277 [==============================] - 2s 253us/step\n"
     ]
    }
   ],
   "source": [
    "scores = model.evaluate(x=test_Features, \n",
    "                        y=test_Label)"
   ]
  },
  {
   "cell_type": "code",
   "execution_count": 26,
   "metadata": {
    "collapsed": false
   },
   "outputs": [
    {
     "data": {
      "text/plain": [
       "0.8674526047569866"
      ]
     },
     "execution_count": 26,
     "metadata": {},
     "output_type": "execute_result"
    }
   ],
   "source": [
    "scores[1]"
   ]
  }
 ],
 "metadata": {
  "anaconda-cloud": {},
  "kernelspec": {
   "display_name": "Python [default]",
   "language": "python",
   "name": "python3"
  },
  "language_info": {
   "codemirror_mode": {
    "name": "ipython",
    "version": 3
   },
   "file_extension": ".py",
   "mimetype": "text/x-python",
   "name": "python",
   "nbconvert_exporter": "python",
   "pygments_lexer": "ipython3",
   "version": "3.5.2"
  }
 },
 "nbformat": 4,
 "nbformat_minor": 1
}
