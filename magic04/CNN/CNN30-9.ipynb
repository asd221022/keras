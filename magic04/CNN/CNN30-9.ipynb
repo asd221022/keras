{
 "cells": [
  {
   "cell_type": "code",
   "execution_count": 1,
   "metadata": {
    "collapsed": false
   },
   "outputs": [],
   "source": [
    "import numpy as np\n",
    "import pandas as pd\n",
    "from sklearn.preprocessing import StandardScaler\n",
    "from sklearn.model_selection import train_test_split"
   ]
  },
  {
   "cell_type": "code",
   "execution_count": 2,
   "metadata": {
    "collapsed": false
   },
   "outputs": [],
   "source": [
    "Ynames = ['fLength', 'fWidth', 'fSize', 'fConc', 'fConc1', 'fAsym', \n",
    "             'fM3Long', 'fM3Trans', 'fAlpha', 'fDist', 'identity']\n",
    "featureNames = ['fLength', 'fWidth', 'fSize', 'fConc', 'fConc1', 'fAsym', \n",
    "             'fM3Long', 'fM3Trans', 'fAlpha', 'fDist']\n",
    "filepath = 'magic04.data'\n",
    "data = pd.read_csv(filepath, names=Ynames, header=None)\n",
    "data['identity']= data['identity'].map({'g':1, 'h': 0}).astype(int) \n",
    "X = data[featureNames].values\n",
    "Y = data['identity'].values.astype('int64')"
   ]
  },
  {
   "cell_type": "code",
   "execution_count": 3,
   "metadata": {
    "collapsed": false
   },
   "outputs": [
    {
     "data": {
      "text/plain": [
       "array([[-0.67461827, -0.3928177 , -0.50089687,  0.37565533,  0.40488389,\n",
       "         0.38861139, -0.00315586, -0.46158237, -0.23786623, -0.22794148],\n",
       "       [ 0.53386329,  0.09264544, -0.15852549, -0.6702488 , -0.7597388 ,\n",
       "         0.97450092,  1.13690089,  1.07543049, -0.43910798, -0.05948129]])"
      ]
     },
     "execution_count": 3,
     "metadata": {},
     "output_type": "execute_result"
    }
   ],
   "source": [
    "X = StandardScaler().fit_transform(X)\n",
    "train_Features, test_Features, train_Label, test_Label = train_test_split(X, Y, test_size=0.33, random_state=None) \n",
    "train_Features[:2]"
   ]
  },
  {
   "cell_type": "code",
   "execution_count": 4,
   "metadata": {
    "collapsed": false
   },
   "outputs": [
    {
     "data": {
      "text/plain": [
       "array([[-0.74245695, -0.35235018, -0.42789432,  0.0594772 ,  0.31439261,\n",
       "         0.53346861,  0.25724058,  0.25295057,  1.596644  , -0.7375292 ],\n",
       "       [-0.81167888, -0.65232444, -1.05529306,  0.98995991,  0.5976303 ,\n",
       "         0.08870854, -0.34243458,  0.22610547,  0.2594495 , -0.05894603]])"
      ]
     },
     "execution_count": 4,
     "metadata": {},
     "output_type": "execute_result"
    }
   ],
   "source": [
    "test_Features[:2]"
   ]
  },
  {
   "cell_type": "code",
   "execution_count": 5,
   "metadata": {
    "collapsed": false
   },
   "outputs": [
    {
     "data": {
      "text/plain": [
       "array([1, 1, 1, 1])"
      ]
     },
     "execution_count": 5,
     "metadata": {},
     "output_type": "execute_result"
    }
   ],
   "source": [
    "train_Label[:4]"
   ]
  },
  {
   "cell_type": "code",
   "execution_count": 6,
   "metadata": {
    "collapsed": false
   },
   "outputs": [],
   "source": [
    "train_Features = train_Features.reshape((train_Features.shape[0], train_Features.shape[1], 1))\n",
    "test_Features = test_Features.reshape((test_Features.shape[0], test_Features.shape[1], 1))"
   ]
  },
  {
   "cell_type": "code",
   "execution_count": 7,
   "metadata": {
    "collapsed": false
   },
   "outputs": [
    {
     "data": {
      "text/plain": [
       "(12743, 10, 1)"
      ]
     },
     "execution_count": 7,
     "metadata": {},
     "output_type": "execute_result"
    }
   ],
   "source": [
    "train_Features.shape"
   ]
  },
  {
   "cell_type": "code",
   "execution_count": 8,
   "metadata": {
    "collapsed": false
   },
   "outputs": [
    {
     "name": "stderr",
     "output_type": "stream",
     "text": [
      "Using TensorFlow backend.\n"
     ]
    }
   ],
   "source": [
    "from keras.models import Sequential\n",
    "from keras.layers import Dense,Dropout,Flatten,Conv1D,MaxPooling1D\n",
    "from keras.layers.embeddings import Embedding\n",
    "from keras.callbacks import EarlyStopping\n",
    "early_stopping = EarlyStopping(monitor='val_loss', patience=2)"
   ]
  },
  {
   "cell_type": "code",
   "execution_count": 9,
   "metadata": {
    "collapsed": true
   },
   "outputs": [],
   "source": [
    "model = Sequential()"
   ]
  },
  {
   "cell_type": "code",
   "execution_count": 10,
   "metadata": {
    "collapsed": true
   },
   "outputs": [],
   "source": [
    "model.add(Conv1D(filters=30*9,\n",
    "                 kernel_size=1,\n",
    "                 padding='valid',\n",
    "                 input_shape=(10,1), \n",
    "                 activation='relu'))"
   ]
  },
  {
   "cell_type": "code",
   "execution_count": 11,
   "metadata": {
    "collapsed": true
   },
   "outputs": [],
   "source": [
    "model.add(MaxPooling1D(pool_size=1))"
   ]
  },
  {
   "cell_type": "code",
   "execution_count": 12,
   "metadata": {
    "collapsed": true
   },
   "outputs": [],
   "source": [
    "model.add(Conv1D(filters=30*8,\n",
    "                 kernel_size=1,\n",
    "                 padding='valid', \n",
    "                 activation='relu'))"
   ]
  },
  {
   "cell_type": "code",
   "execution_count": 13,
   "metadata": {
    "collapsed": true
   },
   "outputs": [],
   "source": [
    "model.add(MaxPooling1D(pool_size=1))"
   ]
  },
  {
   "cell_type": "code",
   "execution_count": 14,
   "metadata": {
    "collapsed": true
   },
   "outputs": [],
   "source": [
    "model.add(Conv1D(filters=30*7,\n",
    "                 kernel_size=1,\n",
    "                 padding='valid', \n",
    "                 activation='relu'))"
   ]
  },
  {
   "cell_type": "code",
   "execution_count": 15,
   "metadata": {
    "collapsed": true
   },
   "outputs": [],
   "source": [
    "model.add(MaxPooling1D(pool_size=1))"
   ]
  },
  {
   "cell_type": "code",
   "execution_count": 16,
   "metadata": {
    "collapsed": true
   },
   "outputs": [],
   "source": [
    "model.add(Conv1D(filters=30*6,\n",
    "                 kernel_size=1,\n",
    "                 padding='valid',\n",
    "                 activation='relu'))"
   ]
  },
  {
   "cell_type": "code",
   "execution_count": 17,
   "metadata": {
    "collapsed": true
   },
   "outputs": [],
   "source": [
    "model.add(MaxPooling1D(pool_size=1))"
   ]
  },
  {
   "cell_type": "code",
   "execution_count": 18,
   "metadata": {
    "collapsed": true
   },
   "outputs": [],
   "source": [
    "model.add(Conv1D(filters=30*5,\n",
    "                 kernel_size=1,\n",
    "                 padding='valid', \n",
    "                 activation='relu'))"
   ]
  },
  {
   "cell_type": "code",
   "execution_count": 19,
   "metadata": {
    "collapsed": true
   },
   "outputs": [],
   "source": [
    "model.add(MaxPooling1D(pool_size=1))"
   ]
  },
  {
   "cell_type": "code",
   "execution_count": 20,
   "metadata": {
    "collapsed": true
   },
   "outputs": [],
   "source": [
    "model.add(Conv1D(filters=30*4,\n",
    "                 kernel_size=3,\n",
    "                 padding='valid',\n",
    "                 activation='relu'))"
   ]
  },
  {
   "cell_type": "code",
   "execution_count": 21,
   "metadata": {
    "collapsed": true
   },
   "outputs": [],
   "source": [
    "model.add(MaxPooling1D(pool_size=1))"
   ]
  },
  {
   "cell_type": "code",
   "execution_count": 22,
   "metadata": {
    "collapsed": true
   },
   "outputs": [],
   "source": [
    "model.add(Conv1D(filters=30*3,\n",
    "                 kernel_size=3,\n",
    "                 padding='valid',\n",
    "                 activation='relu'))"
   ]
  },
  {
   "cell_type": "code",
   "execution_count": 23,
   "metadata": {
    "collapsed": true
   },
   "outputs": [],
   "source": [
    "model.add(MaxPooling1D(pool_size=1))"
   ]
  },
  {
   "cell_type": "code",
   "execution_count": 24,
   "metadata": {
    "collapsed": true
   },
   "outputs": [],
   "source": [
    "model.add(Conv1D(filters=30*2,\n",
    "                 kernel_size=3,\n",
    "                 padding='valid',\n",
    "                 activation='relu'))"
   ]
  },
  {
   "cell_type": "code",
   "execution_count": 25,
   "metadata": {
    "collapsed": true
   },
   "outputs": [],
   "source": [
    "model.add(MaxPooling1D(pool_size=1))"
   ]
  },
  {
   "cell_type": "code",
   "execution_count": 26,
   "metadata": {
    "collapsed": false
   },
   "outputs": [],
   "source": [
    "model.add(Conv1D(filters=30,\n",
    "                 kernel_size=3,\n",
    "                 padding='valid',\n",
    "                 activation='relu'))"
   ]
  },
  {
   "cell_type": "code",
   "execution_count": 27,
   "metadata": {
    "collapsed": false
   },
   "outputs": [],
   "source": [
    "model.add(MaxPooling1D(pool_size=1))"
   ]
  },
  {
   "cell_type": "code",
   "execution_count": 28,
   "metadata": {
    "collapsed": true
   },
   "outputs": [],
   "source": [
    "model.add(Flatten())"
   ]
  },
  {
   "cell_type": "code",
   "execution_count": 29,
   "metadata": {
    "collapsed": true
   },
   "outputs": [],
   "source": [
    "model.add(Dense(10, activation='tanh'))"
   ]
  },
  {
   "cell_type": "code",
   "execution_count": 30,
   "metadata": {
    "collapsed": true
   },
   "outputs": [],
   "source": [
    "model.add(Dense(1,activation='sigmoid'))"
   ]
  },
  {
   "cell_type": "code",
   "execution_count": 31,
   "metadata": {
    "collapsed": false
   },
   "outputs": [
    {
     "name": "stdout",
     "output_type": "stream",
     "text": [
      "_________________________________________________________________\n",
      "Layer (type)                 Output Shape              Param #   \n",
      "=================================================================\n",
      "conv1d_1 (Conv1D)            (None, 10, 270)           540       \n",
      "_________________________________________________________________\n",
      "max_pooling1d_1 (MaxPooling1 (None, 10, 270)           0         \n",
      "_________________________________________________________________\n",
      "conv1d_2 (Conv1D)            (None, 10, 240)           65040     \n",
      "_________________________________________________________________\n",
      "max_pooling1d_2 (MaxPooling1 (None, 10, 240)           0         \n",
      "_________________________________________________________________\n",
      "conv1d_3 (Conv1D)            (None, 10, 210)           50610     \n",
      "_________________________________________________________________\n",
      "max_pooling1d_3 (MaxPooling1 (None, 10, 210)           0         \n",
      "_________________________________________________________________\n",
      "conv1d_4 (Conv1D)            (None, 10, 180)           37980     \n",
      "_________________________________________________________________\n",
      "max_pooling1d_4 (MaxPooling1 (None, 10, 180)           0         \n",
      "_________________________________________________________________\n",
      "conv1d_5 (Conv1D)            (None, 10, 150)           27150     \n",
      "_________________________________________________________________\n",
      "max_pooling1d_5 (MaxPooling1 (None, 10, 150)           0         \n",
      "_________________________________________________________________\n",
      "conv1d_6 (Conv1D)            (None, 8, 120)            54120     \n",
      "_________________________________________________________________\n",
      "max_pooling1d_6 (MaxPooling1 (None, 8, 120)            0         \n",
      "_________________________________________________________________\n",
      "conv1d_7 (Conv1D)            (None, 6, 90)             32490     \n",
      "_________________________________________________________________\n",
      "max_pooling1d_7 (MaxPooling1 (None, 6, 90)             0         \n",
      "_________________________________________________________________\n",
      "conv1d_8 (Conv1D)            (None, 4, 60)             16260     \n",
      "_________________________________________________________________\n",
      "max_pooling1d_8 (MaxPooling1 (None, 4, 60)             0         \n",
      "_________________________________________________________________\n",
      "conv1d_9 (Conv1D)            (None, 2, 30)             5430      \n",
      "_________________________________________________________________\n",
      "max_pooling1d_9 (MaxPooling1 (None, 2, 30)             0         \n",
      "_________________________________________________________________\n",
      "flatten_1 (Flatten)          (None, 60)                0         \n",
      "_________________________________________________________________\n",
      "dense_1 (Dense)              (None, 10)                610       \n",
      "_________________________________________________________________\n",
      "dense_2 (Dense)              (None, 1)                 11        \n",
      "=================================================================\n",
      "Total params: 290,241\n",
      "Trainable params: 290,241\n",
      "Non-trainable params: 0\n",
      "_________________________________________________________________\n"
     ]
    }
   ],
   "source": [
    "model.summary()"
   ]
  },
  {
   "cell_type": "code",
   "execution_count": 32,
   "metadata": {
    "collapsed": false
   },
   "outputs": [],
   "source": [
    "model.compile(loss='binary_crossentropy', \n",
    "              optimizer='adam', metrics=['accuracy'])"
   ]
  },
  {
   "cell_type": "code",
   "execution_count": 33,
   "metadata": {
    "collapsed": false
   },
   "outputs": [
    {
     "name": "stdout",
     "output_type": "stream",
     "text": [
      "Train on 10194 samples, validate on 2549 samples\n",
      "Epoch 1/30\n",
      "10194/10194 [==============================] - 38s 4ms/step - loss: 0.5381 - acc: 0.7367 - val_loss: 0.3834 - val_acc: 0.8395\n",
      "Epoch 2/30\n",
      "10194/10194 [==============================] - 26s 3ms/step - loss: 0.3808 - acc: 0.8345 - val_loss: 0.3457 - val_acc: 0.8545\n",
      "Epoch 3/30\n",
      "10194/10194 [==============================] - 23s 2ms/step - loss: 0.3630 - acc: 0.8443 - val_loss: 0.3456 - val_acc: 0.8568\n",
      "Epoch 4/30\n",
      "10194/10194 [==============================] - 28s 3ms/step - loss: 0.3551 - acc: 0.8491 - val_loss: 0.3528 - val_acc: 0.8501\n",
      "Epoch 5/30\n",
      "10194/10194 [==============================] - 38s 4ms/step - loss: 0.3525 - acc: 0.8510 - val_loss: 0.3354 - val_acc: 0.8580\n",
      "Epoch 6/30\n",
      "10194/10194 [==============================] - 30s 3ms/step - loss: 0.3508 - acc: 0.8558 - val_loss: 0.3255 - val_acc: 0.8658\n",
      "Epoch 7/30\n",
      "10194/10194 [==============================] - 29s 3ms/step - loss: 0.3415 - acc: 0.8593 - val_loss: 0.3173 - val_acc: 0.8701\n",
      "Epoch 8/30\n",
      "10194/10194 [==============================] - 30s 3ms/step - loss: 0.3350 - acc: 0.8591 - val_loss: 0.3271 - val_acc: 0.8631\n",
      "Epoch 9/30\n",
      "10194/10194 [==============================] - 34s 3ms/step - loss: 0.3313 - acc: 0.8629 - val_loss: 0.3224 - val_acc: 0.8635\n",
      "Epoch 10/30\n",
      "10194/10194 [==============================] - 33s 3ms/step - loss: 0.3287 - acc: 0.8625 - val_loss: 0.3276 - val_acc: 0.8650\n",
      "Epoch 11/30\n",
      "10194/10194 [==============================] - 32s 3ms/step - loss: 0.3257 - acc: 0.8637 - val_loss: 0.3173 - val_acc: 0.8682\n",
      "Epoch 12/30\n",
      "10194/10194 [==============================] - 30s 3ms/step - loss: 0.3237 - acc: 0.8653 - val_loss: 0.3204 - val_acc: 0.8694\n",
      "Epoch 13/30\n",
      "10194/10194 [==============================] - 32s 3ms/step - loss: 0.3181 - acc: 0.8670 - val_loss: 0.3142 - val_acc: 0.8713\n",
      "Epoch 14/30\n",
      "10194/10194 [==============================] - 31s 3ms/step - loss: 0.3171 - acc: 0.8648 - val_loss: 0.3164 - val_acc: 0.8709\n",
      "Epoch 15/30\n",
      "10194/10194 [==============================] - 30s 3ms/step - loss: 0.3182 - acc: 0.8657 - val_loss: 0.3202 - val_acc: 0.8686\n",
      "Epoch 16/30\n",
      "10194/10194 [==============================] - 31s 3ms/step - loss: 0.3102 - acc: 0.8675 - val_loss: 0.3122 - val_acc: 0.8705\n",
      "Epoch 17/30\n",
      "10194/10194 [==============================] - 30s 3ms/step - loss: 0.3116 - acc: 0.8706 - val_loss: 0.3136 - val_acc: 0.8654\n",
      "Epoch 18/30\n",
      "10194/10194 [==============================] - 34s 3ms/step - loss: 0.3136 - acc: 0.8673 - val_loss: 0.3130 - val_acc: 0.8698\n",
      "Epoch 19/30\n",
      "10194/10194 [==============================] - 34s 3ms/step - loss: 0.3052 - acc: 0.8754 - val_loss: 0.3147 - val_acc: 0.8686\n",
      "Epoch 20/30\n",
      "10194/10194 [==============================] - 31s 3ms/step - loss: 0.2984 - acc: 0.8746 - val_loss: 0.3134 - val_acc: 0.8721\n",
      "Epoch 21/30\n",
      "10194/10194 [==============================] - 32s 3ms/step - loss: 0.3028 - acc: 0.8708 - val_loss: 0.3191 - val_acc: 0.8709\n",
      "Epoch 22/30\n",
      "10194/10194 [==============================] - 32s 3ms/step - loss: 0.2981 - acc: 0.8768 - val_loss: 0.3103 - val_acc: 0.8690\n",
      "Epoch 23/30\n",
      "10194/10194 [==============================] - 31s 3ms/step - loss: 0.2908 - acc: 0.8789 - val_loss: 0.3124 - val_acc: 0.8725\n",
      "Epoch 24/30\n",
      "10194/10194 [==============================] - 31s 3ms/step - loss: 0.2885 - acc: 0.8814 - val_loss: 0.3116 - val_acc: 0.8713\n",
      "Epoch 25/30\n",
      "10194/10194 [==============================] - 34s 3ms/step - loss: 0.2913 - acc: 0.8766 - val_loss: 0.3142 - val_acc: 0.8701\n",
      "Epoch 26/30\n",
      "10194/10194 [==============================] - 30s 3ms/step - loss: 0.2913 - acc: 0.8794 - val_loss: 0.3134 - val_acc: 0.8701\n",
      "Epoch 27/30\n",
      "10194/10194 [==============================] - 31s 3ms/step - loss: 0.2842 - acc: 0.8837 - val_loss: 0.3142 - val_acc: 0.8690\n",
      "Epoch 28/30\n",
      "10194/10194 [==============================] - 26s 3ms/step - loss: 0.2810 - acc: 0.8824 - val_loss: 0.3074 - val_acc: 0.8745\n",
      "Epoch 29/30\n",
      "10194/10194 [==============================] - 24s 2ms/step - loss: 0.2722 - acc: 0.8857 - val_loss: 0.3223 - val_acc: 0.8650\n",
      "Epoch 30/30\n",
      "10194/10194 [==============================] - 24s 2ms/step - loss: 0.2796 - acc: 0.8825 - val_loss: 0.3274 - val_acc: 0.8623\n"
     ]
    }
   ],
   "source": [
    "train_history =model.fit(x=train_Features, \n",
    "                         y=train_Label, \n",
    "                         validation_split=0.2, \n",
    "                         epochs=30, \n",
    "                         batch_size=400,verbose=1)"
   ]
  },
  {
   "cell_type": "code",
   "execution_count": 34,
   "metadata": {
    "collapsed": true
   },
   "outputs": [],
   "source": [
    "import matplotlib.pyplot as plt\n",
    "def show_train_history(train_history,train,validation):\n",
    "    plt.plot(train_history.history[train])\n",
    "    plt.plot(train_history.history[validation])\n",
    "    plt.title('Train History')\n",
    "    plt.ylabel(train)\n",
    "    plt.xlabel('Epoch')\n",
    "    plt.legend(['train', 'validation'], loc='upper left')\n",
    "    plt.show()"
   ]
  },
  {
   "cell_type": "code",
   "execution_count": 35,
   "metadata": {
    "collapsed": false
   },
   "outputs": [
    {
     "data": {
      "image/png": "[encoded data removed]",
      "text/plain": [
       "<matplotlib.figure.Figure at 0x7f14a408a0b8>"
      ]
     },
     "metadata": {},
     "output_type": "display_data"
    }
   ],
   "source": [
    "show_train_history(train_history,'acc','val_acc')"
   ]
  },
  {
   "cell_type": "code",
   "execution_count": 36,
   "metadata": {
    "collapsed": false
   },
   "outputs": [
    {
     "data": {
      "image/png": "[encoded data removed]",
      "text/plain": [
       "<matplotlib.figure.Figure at 0x7f14a404f128>"
      ]
     },
     "metadata": {},
     "output_type": "display_data"
    }
   ],
   "source": [
    "show_train_history(train_history,'loss','val_loss')"
   ]
  },
  {
   "cell_type": "code",
   "execution_count": 37,
   "metadata": {
    "collapsed": false
   },
   "outputs": [
    {
     "name": "stdout",
     "output_type": "stream",
     "text": [
      "6277/6277 [==============================] - 4s 582us/step\n"
     ]
    }
   ],
   "source": [
    "scores = model.evaluate(x=test_Features, \n",
    "                        y=test_Label)"
   ]
  },
  {
   "cell_type": "code",
   "execution_count": 38,
   "metadata": {
    "collapsed": false
   },
   "outputs": [
    {
     "data": {
      "text/plain": [
       "0.8639477457574015"
      ]
     },
     "execution_count": 38,
     "metadata": {},
     "output_type": "execute_result"
    }
   ],
   "source": [
    "scores[1]"
   ]
  }
 ],
 "metadata": {
  "anaconda-cloud": {},
  "kernelspec": {
   "display_name": "Python [default]",
   "language": "python",
   "name": "python3"
  },
  "language_info": {
   "codemirror_mode": {
    "name": "ipython",
    "version": 3
   },
   "file_extension": ".py",
   "mimetype": "text/x-python",
   "name": "python",
   "nbconvert_exporter": "python",
   "pygments_lexer": "ipython3",
   "version": "3.5.2"
  }
 },
 "nbformat": 4,
 "nbformat_minor": 1
}
