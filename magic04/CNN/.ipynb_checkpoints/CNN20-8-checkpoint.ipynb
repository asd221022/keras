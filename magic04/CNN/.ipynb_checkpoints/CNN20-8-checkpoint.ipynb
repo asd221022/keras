{
 "cells": [
  {
   "cell_type": "code",
   "execution_count": 1,
   "metadata": {
    "collapsed": false
   },
   "outputs": [],
   "source": [
    "import numpy as np\n",
    "import pandas as pd\n",
    "from sklearn.preprocessing import StandardScaler\n",
    "from sklearn.model_selection import train_test_split"
   ]
  },
  {
   "cell_type": "code",
   "execution_count": 2,
   "metadata": {
    "collapsed": false
   },
   "outputs": [],
   "source": [
    "Ynames = ['fLength', 'fWidth', 'fSize', 'fConc', 'fConc1', 'fAsym', \n",
    "             'fM3Long', 'fM3Trans', 'fAlpha', 'fDist', 'identity']\n",
    "featureNames = ['fLength', 'fWidth', 'fSize', 'fConc', 'fConc1', 'fAsym', \n",
    "             'fM3Long', 'fM3Trans', 'fAlpha', 'fDist']\n",
    "filepath = 'magic04.data'\n",
    "data = pd.read_csv(filepath, names=Ynames, header=None)\n",
    "data['identity']= data['identity'].map({'g':1, 'h': 0}).astype(int) \n",
    "X = data[featureNames].values\n",
    "Y = data['identity'].values.astype('int64')"
   ]
  },
  {
   "cell_type": "code",
   "execution_count": 3,
   "metadata": {
    "collapsed": false
   },
   "outputs": [
    {
     "data": {
      "text/plain": [
       "array([[-0.86767488, -0.57825207, -1.21589867,  1.17704109,  0.82838304,\n",
       "         0.05543911, -0.10383474,  0.15939364, -0.24072798, -1.4875243 ],\n",
       "       [ 2.55476365,  3.3168073 ,  0.55795752, -0.58327246, -0.57151695,\n",
       "        -1.47374012, -4.10305611, -2.4091942 ,  2.25958479,  1.57701664]])"
      ]
     },
     "execution_count": 3,
     "metadata": {},
     "output_type": "execute_result"
    }
   ],
   "source": [
    "X = StandardScaler().fit_transform(X)\n",
    "train_Features, test_Features, train_Label, test_Label = train_test_split(X, Y, test_size=0.33, random_state=None) \n",
    "train_Features[:2]"
   ]
  },
  {
   "cell_type": "code",
   "execution_count": 4,
   "metadata": {
    "collapsed": false
   },
   "outputs": [
    {
     "data": {
      "text/plain": [
       "array([[-0.8287312 , -0.62632361, -1.04238536,  0.89641932,  0.64559067,\n",
       "         0.06019044, -0.08767161,  0.21696344,  0.58243618, -0.24244707],\n",
       "       [-0.6690097 , -0.3227463 , -0.17079838,  0.00915127,  0.07097109,\n",
       "         0.38338375, -0.1121369 ,  0.41881786, -1.03006453, -0.60956958]])"
      ]
     },
     "execution_count": 4,
     "metadata": {},
     "output_type": "execute_result"
    }
   ],
   "source": [
    "test_Features[:2]"
   ]
  },
  {
   "cell_type": "code",
   "execution_count": 5,
   "metadata": {
    "collapsed": false
   },
   "outputs": [
    {
     "data": {
      "text/plain": [
       "array([1, 0, 1, 1])"
      ]
     },
     "execution_count": 5,
     "metadata": {},
     "output_type": "execute_result"
    }
   ],
   "source": [
    "train_Label[:4]"
   ]
  },
  {
   "cell_type": "code",
   "execution_count": 6,
   "metadata": {
    "collapsed": false
   },
   "outputs": [],
   "source": [
    "train_Features = train_Features.reshape((train_Features.shape[0], train_Features.shape[1], 1))\n",
    "test_Features = test_Features.reshape((test_Features.shape[0], test_Features.shape[1], 1))"
   ]
  },
  {
   "cell_type": "code",
   "execution_count": 7,
   "metadata": {
    "collapsed": false
   },
   "outputs": [
    {
     "data": {
      "text/plain": [
       "(12743, 10, 1)"
      ]
     },
     "execution_count": 7,
     "metadata": {},
     "output_type": "execute_result"
    }
   ],
   "source": [
    "train_Features.shape"
   ]
  },
  {
   "cell_type": "code",
   "execution_count": 8,
   "metadata": {
    "collapsed": false
   },
   "outputs": [
    {
     "name": "stderr",
     "output_type": "stream",
     "text": [
      "Using TensorFlow backend.\n"
     ]
    }
   ],
   "source": [
    "from keras.models import Sequential\n",
    "from keras.layers import Dense,Dropout,Flatten,Conv1D,MaxPooling1D\n",
    "from keras.layers.embeddings import Embedding\n",
    "from keras.callbacks import EarlyStopping\n",
    "early_stopping = EarlyStopping(monitor='val_loss', patience=2)"
   ]
  },
  {
   "cell_type": "code",
   "execution_count": 9,
   "metadata": {
    "collapsed": true
   },
   "outputs": [],
   "source": [
    "model = Sequential()"
   ]
  },
  {
   "cell_type": "code",
   "execution_count": 10,
   "metadata": {
    "collapsed": true
   },
   "outputs": [],
   "source": [
    "model.add(Conv1D(filters=20*8,\n",
    "                 kernel_size=1,\n",
    "                 padding='valid',\n",
    "                 input_shape=(10,1), \n",
    "                 activation='relu'))"
   ]
  },
  {
   "cell_type": "code",
   "execution_count": 11,
   "metadata": {
    "collapsed": true
   },
   "outputs": [],
   "source": [
    "model.add(MaxPooling1D(pool_size=1))"
   ]
  },
  {
   "cell_type": "code",
   "execution_count": 12,
   "metadata": {
    "collapsed": true
   },
   "outputs": [],
   "source": [
    "model.add(Conv1D(filters=20*7,\n",
    "                 kernel_size=1,\n",
    "                 padding='valid',\n",
    "                 input_shape=(10,1), \n",
    "                 activation='relu'))"
   ]
  },
  {
   "cell_type": "code",
   "execution_count": 13,
   "metadata": {
    "collapsed": true
   },
   "outputs": [],
   "source": [
    "model.add(MaxPooling1D(pool_size=1))"
   ]
  },
  {
   "cell_type": "code",
   "execution_count": 14,
   "metadata": {
    "collapsed": true
   },
   "outputs": [],
   "source": [
    "model.add(Conv1D(filters=20*6,\n",
    "                 kernel_size=1,\n",
    "                 padding='valid',\n",
    "                 input_shape=(10,1), \n",
    "                 activation='relu'))"
   ]
  },
  {
   "cell_type": "code",
   "execution_count": 15,
   "metadata": {
    "collapsed": true
   },
   "outputs": [],
   "source": [
    "model.add(MaxPooling1D(pool_size=1))"
   ]
  },
  {
   "cell_type": "code",
   "execution_count": 16,
   "metadata": {
    "collapsed": true
   },
   "outputs": [],
   "source": [
    "model.add(Conv1D(filters=20*5,\n",
    "                 kernel_size=1,\n",
    "                 padding='valid',\n",
    "                 input_shape=(10,1), \n",
    "                 activation='relu'))"
   ]
  },
  {
   "cell_type": "code",
   "execution_count": 17,
   "metadata": {
    "collapsed": true
   },
   "outputs": [],
   "source": [
    "model.add(MaxPooling1D(pool_size=1))"
   ]
  },
  {
   "cell_type": "code",
   "execution_count": 18,
   "metadata": {
    "collapsed": true
   },
   "outputs": [],
   "source": [
    "model.add(Conv1D(filters=20*4,\n",
    "                 kernel_size=1,\n",
    "                 padding='valid',\n",
    "                 activation='relu'))"
   ]
  },
  {
   "cell_type": "code",
   "execution_count": 19,
   "metadata": {
    "collapsed": true
   },
   "outputs": [],
   "source": [
    "model.add(MaxPooling1D(pool_size=1))"
   ]
  },
  {
   "cell_type": "code",
   "execution_count": 20,
   "metadata": {
    "collapsed": true
   },
   "outputs": [],
   "source": [
    "model.add(Conv1D(filters=20*3,\n",
    "                 kernel_size=1,\n",
    "                 padding='valid',\n",
    "                 activation='relu'))"
   ]
  },
  {
   "cell_type": "code",
   "execution_count": 21,
   "metadata": {
    "collapsed": true
   },
   "outputs": [],
   "source": [
    "model.add(MaxPooling1D(pool_size=1))"
   ]
  },
  {
   "cell_type": "code",
   "execution_count": 22,
   "metadata": {
    "collapsed": true
   },
   "outputs": [],
   "source": [
    "model.add(Conv1D(filters=20*2,\n",
    "                 kernel_size=1,\n",
    "                 padding='valid',\n",
    "                 activation='relu'))"
   ]
  },
  {
   "cell_type": "code",
   "execution_count": 23,
   "metadata": {
    "collapsed": true
   },
   "outputs": [],
   "source": [
    "model.add(MaxPooling1D(pool_size=1))"
   ]
  },
  {
   "cell_type": "code",
   "execution_count": 24,
   "metadata": {
    "collapsed": false
   },
   "outputs": [],
   "source": [
    "model.add(Conv1D(filters=20,\n",
    "                 kernel_size=1,\n",
    "                 padding='valid',\n",
    "                 activation='relu'))"
   ]
  },
  {
   "cell_type": "code",
   "execution_count": 25,
   "metadata": {
    "collapsed": false
   },
   "outputs": [],
   "source": [
    "model.add(MaxPooling1D(pool_size=1))"
   ]
  },
  {
   "cell_type": "code",
   "execution_count": 26,
   "metadata": {
    "collapsed": true
   },
   "outputs": [],
   "source": [
    "model.add(Flatten())"
   ]
  },
  {
   "cell_type": "code",
   "execution_count": 27,
   "metadata": {
    "collapsed": true
   },
   "outputs": [],
   "source": [
    "model.add(Dense(10, activation='tanh'))"
   ]
  },
  {
   "cell_type": "code",
   "execution_count": 28,
   "metadata": {
    "collapsed": true
   },
   "outputs": [],
   "source": [
    "model.add(Dense(1,activation='sigmoid'))"
   ]
  },
  {
   "cell_type": "code",
   "execution_count": 29,
   "metadata": {
    "collapsed": false
   },
   "outputs": [
    {
     "name": "stdout",
     "output_type": "stream",
     "text": [
      "_________________________________________________________________\n",
      "Layer (type)                 Output Shape              Param #   \n",
      "=================================================================\n",
      "conv1d_1 (Conv1D)            (None, 10, 160)           320       \n",
      "_________________________________________________________________\n",
      "max_pooling1d_1 (MaxPooling1 (None, 10, 160)           0         \n",
      "_________________________________________________________________\n",
      "conv1d_2 (Conv1D)            (None, 10, 140)           22540     \n",
      "_________________________________________________________________\n",
      "max_pooling1d_2 (MaxPooling1 (None, 10, 140)           0         \n",
      "_________________________________________________________________\n",
      "conv1d_3 (Conv1D)            (None, 10, 120)           16920     \n",
      "_________________________________________________________________\n",
      "max_pooling1d_3 (MaxPooling1 (None, 10, 120)           0         \n",
      "_________________________________________________________________\n",
      "conv1d_4 (Conv1D)            (None, 10, 100)           12100     \n",
      "_________________________________________________________________\n",
      "max_pooling1d_4 (MaxPooling1 (None, 10, 100)           0         \n",
      "_________________________________________________________________\n",
      "conv1d_5 (Conv1D)            (None, 10, 80)            8080      \n",
      "_________________________________________________________________\n",
      "max_pooling1d_5 (MaxPooling1 (None, 10, 80)            0         \n",
      "_________________________________________________________________\n",
      "conv1d_6 (Conv1D)            (None, 10, 60)            4860      \n",
      "_________________________________________________________________\n",
      "max_pooling1d_6 (MaxPooling1 (None, 10, 60)            0         \n",
      "_________________________________________________________________\n",
      "conv1d_7 (Conv1D)            (None, 10, 40)            2440      \n",
      "_________________________________________________________________\n",
      "max_pooling1d_7 (MaxPooling1 (None, 10, 40)            0         \n",
      "_________________________________________________________________\n",
      "conv1d_8 (Conv1D)            (None, 10, 20)            820       \n",
      "_________________________________________________________________\n",
      "max_pooling1d_8 (MaxPooling1 (None, 10, 20)            0         \n",
      "_________________________________________________________________\n",
      "flatten_1 (Flatten)          (None, 200)               0         \n",
      "_________________________________________________________________\n",
      "dense_1 (Dense)              (None, 10)                2010      \n",
      "_________________________________________________________________\n",
      "dense_2 (Dense)              (None, 1)                 11        \n",
      "=================================================================\n",
      "Total params: 70,101\n",
      "Trainable params: 70,101\n",
      "Non-trainable params: 0\n",
      "_________________________________________________________________\n"
     ]
    }
   ],
   "source": [
    "model.summary()"
   ]
  },
  {
   "cell_type": "code",
   "execution_count": 30,
   "metadata": {
    "collapsed": false
   },
   "outputs": [],
   "source": [
    "model.compile(loss='binary_crossentropy', \n",
    "              optimizer='adam', metrics=['accuracy'])"
   ]
  },
  {
   "cell_type": "code",
   "execution_count": 31,
   "metadata": {
    "collapsed": false
   },
   "outputs": [
    {
     "name": "stdout",
     "output_type": "stream",
     "text": [
      "Train on 10194 samples, validate on 2549 samples\n",
      "Epoch 1/30\n",
      "10194/10194 [==============================] - 10s 992us/step - loss: 0.6202 - acc: 0.7050 - val_loss: 0.5104 - val_acc: 0.7685\n",
      "Epoch 2/30\n",
      "10194/10194 [==============================] - 8s 787us/step - loss: 0.4692 - acc: 0.7865 - val_loss: 0.4448 - val_acc: 0.7925\n",
      "Epoch 3/30\n",
      "10194/10194 [==============================] - 8s 813us/step - loss: 0.4206 - acc: 0.8123 - val_loss: 0.4090 - val_acc: 0.8148\n",
      "Epoch 4/30\n",
      "10194/10194 [==============================] - 13s 1ms/step - loss: 0.3755 - acc: 0.8422 - val_loss: 0.3797 - val_acc: 0.8392\n",
      "Epoch 5/30\n",
      "10194/10194 [==============================] - 12s 1ms/step - loss: 0.3560 - acc: 0.8541 - val_loss: 0.3687 - val_acc: 0.8450\n",
      "Epoch 6/30\n",
      "10194/10194 [==============================] - 15s 2ms/step - loss: 0.3463 - acc: 0.8580 - val_loss: 0.3646 - val_acc: 0.8419\n",
      "Epoch 7/30\n",
      "10194/10194 [==============================] - 14s 1ms/step - loss: 0.3427 - acc: 0.8588 - val_loss: 0.3625 - val_acc: 0.8482\n",
      "Epoch 8/30\n",
      "10194/10194 [==============================] - 14s 1ms/step - loss: 0.3386 - acc: 0.8616 - val_loss: 0.3644 - val_acc: 0.8486\n",
      "Epoch 9/30\n",
      "10194/10194 [==============================] - 11s 1ms/step - loss: 0.3395 - acc: 0.8587 - val_loss: 0.3639 - val_acc: 0.8458\n",
      "Epoch 10/30\n",
      "10194/10194 [==============================] - 12s 1ms/step - loss: 0.3419 - acc: 0.8554 - val_loss: 0.3667 - val_acc: 0.8462\n",
      "Epoch 11/30\n",
      "10194/10194 [==============================] - 12s 1ms/step - loss: 0.3378 - acc: 0.8583 - val_loss: 0.3616 - val_acc: 0.8494\n",
      "Epoch 12/30\n",
      "10194/10194 [==============================] - 12s 1ms/step - loss: 0.3374 - acc: 0.8590 - val_loss: 0.3645 - val_acc: 0.8466\n",
      "Epoch 13/30\n",
      "10194/10194 [==============================] - 12s 1ms/step - loss: 0.3342 - acc: 0.8600 - val_loss: 0.3576 - val_acc: 0.8505\n",
      "Epoch 14/30\n",
      "10194/10194 [==============================] - 12s 1ms/step - loss: 0.3294 - acc: 0.8623 - val_loss: 0.3580 - val_acc: 0.8497\n",
      "Epoch 15/30\n",
      "10194/10194 [==============================] - 12s 1ms/step - loss: 0.3302 - acc: 0.8634 - val_loss: 0.3561 - val_acc: 0.8501\n",
      "Epoch 16/30\n",
      "10194/10194 [==============================] - 11s 1ms/step - loss: 0.3289 - acc: 0.8629 - val_loss: 0.3560 - val_acc: 0.8529\n",
      "Epoch 17/30\n",
      "10194/10194 [==============================] - 10s 992us/step - loss: 0.3297 - acc: 0.8626 - val_loss: 0.3566 - val_acc: 0.8509\n",
      "Epoch 18/30\n",
      "10194/10194 [==============================] - 10s 985us/step - loss: 0.3289 - acc: 0.8642 - val_loss: 0.3561 - val_acc: 0.8470\n",
      "Epoch 19/30\n",
      "10194/10194 [==============================] - 10s 989us/step - loss: 0.3250 - acc: 0.8649 - val_loss: 0.3533 - val_acc: 0.8529\n",
      "Epoch 20/30\n",
      "10194/10194 [==============================] - 10s 989us/step - loss: 0.3250 - acc: 0.8647 - val_loss: 0.3543 - val_acc: 0.8513\n",
      "Epoch 21/30\n",
      "10194/10194 [==============================] - 10s 985us/step - loss: 0.3242 - acc: 0.8638 - val_loss: 0.3524 - val_acc: 0.8525\n",
      "Epoch 22/30\n",
      "10194/10194 [==============================] - 10s 982us/step - loss: 0.3242 - acc: 0.8648 - val_loss: 0.3560 - val_acc: 0.8529\n",
      "Epoch 23/30\n",
      "10194/10194 [==============================] - 10s 985us/step - loss: 0.3210 - acc: 0.8673 - val_loss: 0.3547 - val_acc: 0.8521\n",
      "Epoch 24/30\n",
      "10194/10194 [==============================] - 13s 1ms/step - loss: 0.3216 - acc: 0.8662 - val_loss: 0.3544 - val_acc: 0.8513\n",
      "Epoch 25/30\n",
      "10194/10194 [==============================] - 10s 939us/step - loss: 0.3201 - acc: 0.8663 - val_loss: 0.3547 - val_acc: 0.8521\n",
      "Epoch 26/30\n",
      "10194/10194 [==============================] - 10s 936us/step - loss: 0.3212 - acc: 0.8682 - val_loss: 0.3540 - val_acc: 0.8529\n",
      "Epoch 27/30\n",
      "10194/10194 [==============================] - 10s 936us/step - loss: 0.3224 - acc: 0.8666 - val_loss: 0.3542 - val_acc: 0.8517\n",
      "Epoch 28/30\n",
      "10194/10194 [==============================] - 8s 750us/step - loss: 0.3177 - acc: 0.8669 - val_loss: 0.3532 - val_acc: 0.8545\n",
      "Epoch 29/30\n",
      "10194/10194 [==============================] - 5s 520us/step - loss: 0.3200 - acc: 0.8663 - val_loss: 0.3538 - val_acc: 0.8529\n",
      "Epoch 30/30\n",
      "10194/10194 [==============================] - 5s 531us/step - loss: 0.3183 - acc: 0.8682 - val_loss: 0.3485 - val_acc: 0.8568\n"
     ]
    }
   ],
   "source": [
    "train_history =model.fit(x=train_Features, \n",
    "                         y=train_Label, \n",
    "                         validation_split=0.2, \n",
    "                         epochs=30, \n",
    "                         batch_size=400,verbose=1)"
   ]
  },
  {
   "cell_type": "code",
   "execution_count": 32,
   "metadata": {
    "collapsed": true
   },
   "outputs": [],
   "source": [
    "import matplotlib.pyplot as plt\n",
    "def show_train_history(train_history,train,validation):\n",
    "    plt.plot(train_history.history[train])\n",
    "    plt.plot(train_history.history[validation])\n",
    "    plt.title('Train History')\n",
    "    plt.ylabel(train)\n",
    "    plt.xlabel('Epoch')\n",
    "    plt.legend(['train', 'validation'], loc='upper left')\n",
    "    plt.show()"
   ]
  },
  {
   "cell_type": "code",
   "execution_count": 33,
   "metadata": {
    "collapsed": false
   },
   "outputs": [
    {
     "data": {
      "image/png": "[encoded data removed]",
      "text/plain": [
       "<matplotlib.figure.Figure at 0x7fa0af7da668>"
      ]
     },
     "metadata": {},
     "output_type": "display_data"
    }
   ],
   "source": [
    "show_train_history(train_history,'acc','val_acc')"
   ]
  },
  {
   "cell_type": "code",
   "execution_count": 34,
   "metadata": {
    "collapsed": false
   },
   "outputs": [
    {
     "data": {
      "image/png": "[encoded data removed]",
      "text/plain": [
       "<matplotlib.figure.Figure at 0x7fa0af7da860>"
      ]
     },
     "metadata": {},
     "output_type": "display_data"
    }
   ],
   "source": [
    "show_train_history(train_history,'loss','val_loss')"
   ]
  },
  {
   "cell_type": "code",
   "execution_count": 35,
   "metadata": {
    "collapsed": false
   },
   "outputs": [
    {
     "name": "stdout",
     "output_type": "stream",
     "text": [
      "6277/6277 [==============================] - 1s 155us/step\n"
     ]
    }
   ],
   "source": [
    "scores = model.evaluate(x=test_Features, \n",
    "                        y=test_Label)"
   ]
  },
  {
   "cell_type": "code",
   "execution_count": 36,
   "metadata": {
    "collapsed": false
   },
   "outputs": [
    {
     "data": {
      "text/plain": [
       "0.8644256810578301"
      ]
     },
     "execution_count": 36,
     "metadata": {},
     "output_type": "execute_result"
    }
   ],
   "source": [
    "scores[1]"
   ]
  }
 ],
 "metadata": {
  "anaconda-cloud": {},
  "kernelspec": {
   "display_name": "Python [default]",
   "language": "python",
   "name": "python3"
  },
  "language_info": {
   "codemirror_mode": {
    "name": "ipython",
    "version": 3
   },
   "file_extension": ".py",
   "mimetype": "text/x-python",
   "name": "python",
   "nbconvert_exporter": "python",
   "pygments_lexer": "ipython3",
   "version": "3.5.2"
  }
 },
 "nbformat": 4,
 "nbformat_minor": 1
}
