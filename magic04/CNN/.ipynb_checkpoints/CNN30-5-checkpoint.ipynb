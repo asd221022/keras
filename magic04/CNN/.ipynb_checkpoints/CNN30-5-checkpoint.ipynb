{
 "cells": [
  {
   "cell_type": "code",
   "execution_count": 1,
   "metadata": {
    "collapsed": false
   },
   "outputs": [],
   "source": [
    "import numpy as np\n",
    "import pandas as pd\n",
    "from sklearn.preprocessing import StandardScaler\n",
    "from sklearn.model_selection import train_test_split"
   ]
  },
  {
   "cell_type": "code",
   "execution_count": 2,
   "metadata": {
    "collapsed": false
   },
   "outputs": [],
   "source": [
    "Ynames = ['fLength', 'fWidth', 'fSize', 'fConc', 'fConc1', 'fAsym', \n",
    "             'fM3Long', 'fM3Trans', 'fAlpha', 'fDist', 'identity']\n",
    "featureNames = ['fLength', 'fWidth', 'fSize', 'fConc', 'fConc1', 'fAsym', \n",
    "             'fM3Long', 'fM3Trans', 'fAlpha', 'fDist']\n",
    "filepath = 'magic04.data'\n",
    "data = pd.read_csv(filepath, names=Ynames, header=None)\n",
    "data['identity']= data['identity'].map({'g':1, 'h': 0}).astype(int) \n",
    "X = data[featureNames].values\n",
    "Y = data['identity'].values.astype('int64')"
   ]
  },
  {
   "cell_type": "code",
   "execution_count": 3,
   "metadata": {
    "collapsed": false
   },
   "outputs": [
    {
     "data": {
      "text/plain": [
       "array([[-0.28648447, -0.12818166, -0.33648243, -0.25123072, -0.39053441,\n",
       "         1.17106366, -0.76400743, -0.66532857, -0.92275858,  0.51418527],\n",
       "       [ 0.82422244,  1.34670269,  0.95978896, -0.43940594, -0.40048845,\n",
       "         0.5944893 , -2.19884771,  1.23761504, -0.28611368,  1.98526731]])"
      ]
     },
     "execution_count": 3,
     "metadata": {},
     "output_type": "execute_result"
    }
   ],
   "source": [
    "X = StandardScaler().fit_transform(X)\n",
    "train_Features, test_Features, train_Label, test_Label = train_test_split(X, Y, test_size=0.33, random_state=None) \n",
    "train_Features[:2]"
   ]
  },
  {
   "cell_type": "code",
   "execution_count": 4,
   "metadata": {
    "collapsed": false
   },
   "outputs": [
    {
     "data": {
      "text/plain": [
       "array([[-0.7117184 , -0.53811705, -0.22010155,  0.49873506,  0.1994687 ,\n",
       "         0.45432092,  0.02512521, -0.48314584, -0.49359994,  0.76978603],\n",
       "       [ 1.81895753, -0.4839296 , -0.47169585, -0.30265069, -0.30275787,\n",
       "        -3.38219622,  2.06876441,  0.21769807,  0.84715738, -0.27119061]])"
      ]
     },
     "execution_count": 4,
     "metadata": {},
     "output_type": "execute_result"
    }
   ],
   "source": [
    "test_Features[:2]"
   ]
  },
  {
   "cell_type": "code",
   "execution_count": 5,
   "metadata": {
    "collapsed": false
   },
   "outputs": [
    {
     "data": {
      "text/plain": [
       "array([1, 0, 1, 0])"
      ]
     },
     "execution_count": 5,
     "metadata": {},
     "output_type": "execute_result"
    }
   ],
   "source": [
    "train_Label[:4]"
   ]
  },
  {
   "cell_type": "code",
   "execution_count": 6,
   "metadata": {
    "collapsed": false
   },
   "outputs": [],
   "source": [
    "train_Features = train_Features.reshape((train_Features.shape[0], train_Features.shape[1], 1))\n",
    "test_Features = test_Features.reshape((test_Features.shape[0], test_Features.shape[1], 1))"
   ]
  },
  {
   "cell_type": "code",
   "execution_count": 7,
   "metadata": {
    "collapsed": false
   },
   "outputs": [
    {
     "data": {
      "text/plain": [
       "(12743, 10, 1)"
      ]
     },
     "execution_count": 7,
     "metadata": {},
     "output_type": "execute_result"
    }
   ],
   "source": [
    "train_Features.shape"
   ]
  },
  {
   "cell_type": "code",
   "execution_count": 8,
   "metadata": {
    "collapsed": false
   },
   "outputs": [
    {
     "name": "stderr",
     "output_type": "stream",
     "text": [
      "Using TensorFlow backend.\n"
     ]
    }
   ],
   "source": [
    "from keras.models import Sequential\n",
    "from keras.layers import Dense,Dropout,Flatten,Conv1D,MaxPooling1D\n",
    "from keras.layers.embeddings import Embedding\n",
    "from keras.callbacks import EarlyStopping\n",
    "early_stopping = EarlyStopping(monitor='val_loss', patience=2)"
   ]
  },
  {
   "cell_type": "code",
   "execution_count": 9,
   "metadata": {
    "collapsed": true
   },
   "outputs": [],
   "source": [
    "model = Sequential()"
   ]
  },
  {
   "cell_type": "code",
   "execution_count": 10,
   "metadata": {
    "collapsed": true
   },
   "outputs": [],
   "source": [
    "model.add(Conv1D(filters=30*5,\n",
    "                 kernel_size=1,\n",
    "                 padding='valid',\n",
    "                 input_shape=(10,1), \n",
    "                 activation='relu'))"
   ]
  },
  {
   "cell_type": "code",
   "execution_count": 11,
   "metadata": {
    "collapsed": true
   },
   "outputs": [],
   "source": [
    "model.add(MaxPooling1D(pool_size=1))"
   ]
  },
  {
   "cell_type": "code",
   "execution_count": 12,
   "metadata": {
    "collapsed": true
   },
   "outputs": [],
   "source": [
    "model.add(Conv1D(filters=30*4,\n",
    "                 kernel_size=1,\n",
    "                 padding='valid',\n",
    "                 activation='relu'))"
   ]
  },
  {
   "cell_type": "code",
   "execution_count": 13,
   "metadata": {
    "collapsed": true
   },
   "outputs": [],
   "source": [
    "model.add(MaxPooling1D(pool_size=1))"
   ]
  },
  {
   "cell_type": "code",
   "execution_count": 14,
   "metadata": {
    "collapsed": true
   },
   "outputs": [],
   "source": [
    "model.add(Conv1D(filters=30*3,\n",
    "                 kernel_size=1,\n",
    "                 padding='valid',\n",
    "                 activation='relu'))"
   ]
  },
  {
   "cell_type": "code",
   "execution_count": 15,
   "metadata": {
    "collapsed": true
   },
   "outputs": [],
   "source": [
    "model.add(MaxPooling1D(pool_size=1))"
   ]
  },
  {
   "cell_type": "code",
   "execution_count": 16,
   "metadata": {
    "collapsed": true
   },
   "outputs": [],
   "source": [
    "model.add(Conv1D(filters=30*2,\n",
    "                 kernel_size=1,\n",
    "                 padding='valid',\n",
    "                 activation='relu'))"
   ]
  },
  {
   "cell_type": "code",
   "execution_count": 17,
   "metadata": {
    "collapsed": true
   },
   "outputs": [],
   "source": [
    "model.add(MaxPooling1D(pool_size=1))"
   ]
  },
  {
   "cell_type": "code",
   "execution_count": 18,
   "metadata": {
    "collapsed": false
   },
   "outputs": [],
   "source": [
    "model.add(Conv1D(filters=30,\n",
    "                 kernel_size=1,\n",
    "                 padding='valid',\n",
    "                 activation='relu'))"
   ]
  },
  {
   "cell_type": "code",
   "execution_count": 19,
   "metadata": {
    "collapsed": false
   },
   "outputs": [],
   "source": [
    "model.add(MaxPooling1D(pool_size=1))"
   ]
  },
  {
   "cell_type": "code",
   "execution_count": 20,
   "metadata": {
    "collapsed": true
   },
   "outputs": [],
   "source": [
    "model.add(Flatten())"
   ]
  },
  {
   "cell_type": "code",
   "execution_count": 21,
   "metadata": {
    "collapsed": true
   },
   "outputs": [],
   "source": [
    "model.add(Dense(10, activation='tanh'))"
   ]
  },
  {
   "cell_type": "code",
   "execution_count": 22,
   "metadata": {
    "collapsed": true
   },
   "outputs": [],
   "source": [
    "model.add(Dense(1,activation='sigmoid'))"
   ]
  },
  {
   "cell_type": "code",
   "execution_count": 23,
   "metadata": {
    "collapsed": false
   },
   "outputs": [
    {
     "name": "stdout",
     "output_type": "stream",
     "text": [
      "_________________________________________________________________\n",
      "Layer (type)                 Output Shape              Param #   \n",
      "=================================================================\n",
      "conv1d_1 (Conv1D)            (None, 10, 150)           300       \n",
      "_________________________________________________________________\n",
      "max_pooling1d_1 (MaxPooling1 (None, 10, 150)           0         \n",
      "_________________________________________________________________\n",
      "conv1d_2 (Conv1D)            (None, 10, 120)           18120     \n",
      "_________________________________________________________________\n",
      "max_pooling1d_2 (MaxPooling1 (None, 10, 120)           0         \n",
      "_________________________________________________________________\n",
      "conv1d_3 (Conv1D)            (None, 10, 90)            10890     \n",
      "_________________________________________________________________\n",
      "max_pooling1d_3 (MaxPooling1 (None, 10, 90)            0         \n",
      "_________________________________________________________________\n",
      "conv1d_4 (Conv1D)            (None, 10, 60)            5460      \n",
      "_________________________________________________________________\n",
      "max_pooling1d_4 (MaxPooling1 (None, 10, 60)            0         \n",
      "_________________________________________________________________\n",
      "conv1d_5 (Conv1D)            (None, 10, 30)            1830      \n",
      "_________________________________________________________________\n",
      "max_pooling1d_5 (MaxPooling1 (None, 10, 30)            0         \n",
      "_________________________________________________________________\n",
      "flatten_1 (Flatten)          (None, 300)               0         \n",
      "_________________________________________________________________\n",
      "dense_1 (Dense)              (None, 10)                3010      \n",
      "_________________________________________________________________\n",
      "dense_2 (Dense)              (None, 1)                 11        \n",
      "=================================================================\n",
      "Total params: 39,621\n",
      "Trainable params: 39,621\n",
      "Non-trainable params: 0\n",
      "_________________________________________________________________\n"
     ]
    }
   ],
   "source": [
    "model.summary()"
   ]
  },
  {
   "cell_type": "code",
   "execution_count": 24,
   "metadata": {
    "collapsed": false
   },
   "outputs": [],
   "source": [
    "model.compile(loss='binary_crossentropy', \n",
    "              optimizer='adam', metrics=['accuracy'])"
   ]
  },
  {
   "cell_type": "code",
   "execution_count": 25,
   "metadata": {
    "collapsed": false
   },
   "outputs": [
    {
     "name": "stdout",
     "output_type": "stream",
     "text": [
      "Train on 10194 samples, validate on 2549 samples\n",
      "Epoch 1/30\n",
      "10194/10194 [==============================] - 7s 685us/step - loss: 0.5682 - acc: 0.7419 - val_loss: 0.4546 - val_acc: 0.7866\n",
      "Epoch 2/30\n",
      "10194/10194 [==============================] - 5s 523us/step - loss: 0.4112 - acc: 0.8138 - val_loss: 0.3721 - val_acc: 0.8329\n",
      "Epoch 3/30\n",
      "10194/10194 [==============================] - 5s 515us/step - loss: 0.3600 - acc: 0.8517 - val_loss: 0.3548 - val_acc: 0.8525\n",
      "Epoch 4/30\n",
      "10194/10194 [==============================] - 5s 521us/step - loss: 0.3445 - acc: 0.8603 - val_loss: 0.3478 - val_acc: 0.8517\n",
      "Epoch 5/30\n",
      "10194/10194 [==============================] - 5s 511us/step - loss: 0.3360 - acc: 0.8621 - val_loss: 0.3434 - val_acc: 0.8525\n",
      "Epoch 6/30\n",
      "10194/10194 [==============================] - 5s 513us/step - loss: 0.3334 - acc: 0.8630 - val_loss: 0.3429 - val_acc: 0.8513\n",
      "Epoch 7/30\n",
      "10194/10194 [==============================] - 5s 511us/step - loss: 0.3311 - acc: 0.8624 - val_loss: 0.3387 - val_acc: 0.8548\n",
      "Epoch 8/30\n",
      "10194/10194 [==============================] - 5s 519us/step - loss: 0.3278 - acc: 0.8659 - val_loss: 0.3399 - val_acc: 0.8482\n",
      "Epoch 9/30\n",
      "10194/10194 [==============================] - 6s 541us/step - loss: 0.3257 - acc: 0.8682 - val_loss: 0.3521 - val_acc: 0.8462\n",
      "Epoch 10/30\n",
      "10194/10194 [==============================] - 6s 617us/step - loss: 0.3250 - acc: 0.8659 - val_loss: 0.3363 - val_acc: 0.8584\n",
      "Epoch 11/30\n",
      "10194/10194 [==============================] - 7s 682us/step - loss: 0.3228 - acc: 0.8695 - val_loss: 0.3331 - val_acc: 0.8572\n",
      "Epoch 12/30\n",
      "10194/10194 [==============================] - 10s 960us/step - loss: 0.3191 - acc: 0.8695 - val_loss: 0.3317 - val_acc: 0.8584\n",
      "Epoch 13/30\n",
      "10194/10194 [==============================] - 5s 539us/step - loss: 0.3168 - acc: 0.8715 - val_loss: 0.3323 - val_acc: 0.8541\n",
      "Epoch 14/30\n",
      "10194/10194 [==============================] - 6s 621us/step - loss: 0.3159 - acc: 0.8712 - val_loss: 0.3307 - val_acc: 0.8580\n",
      "Epoch 15/30\n",
      "10194/10194 [==============================] - 5s 519us/step - loss: 0.3171 - acc: 0.8708 - val_loss: 0.3326 - val_acc: 0.8564\n",
      "Epoch 16/30\n",
      "10194/10194 [==============================] - 5s 492us/step - loss: 0.3140 - acc: 0.8746 - val_loss: 0.3352 - val_acc: 0.8545\n",
      "Epoch 17/30\n",
      "10194/10194 [==============================] - 5s 505us/step - loss: 0.3124 - acc: 0.8718 - val_loss: 0.3300 - val_acc: 0.8619\n",
      "Epoch 18/30\n",
      "10194/10194 [==============================] - 5s 522us/step - loss: 0.3117 - acc: 0.8747 - val_loss: 0.3327 - val_acc: 0.8599\n",
      "Epoch 19/30\n",
      "10194/10194 [==============================] - 5s 496us/step - loss: 0.3098 - acc: 0.8724 - val_loss: 0.3261 - val_acc: 0.8584\n",
      "Epoch 20/30\n",
      "10194/10194 [==============================] - 5s 509us/step - loss: 0.3071 - acc: 0.8746 - val_loss: 0.3286 - val_acc: 0.8572\n",
      "Epoch 21/30\n",
      "10194/10194 [==============================] - 5s 537us/step - loss: 0.3082 - acc: 0.8730 - val_loss: 0.3255 - val_acc: 0.8592\n",
      "Epoch 22/30\n",
      "10194/10194 [==============================] - 5s 503us/step - loss: 0.3053 - acc: 0.8739 - val_loss: 0.3300 - val_acc: 0.8596\n",
      "Epoch 23/30\n",
      "10194/10194 [==============================] - 5s 493us/step - loss: 0.3051 - acc: 0.8743 - val_loss: 0.3272 - val_acc: 0.8615\n",
      "Epoch 24/30\n",
      "10194/10194 [==============================] - 5s 501us/step - loss: 0.3054 - acc: 0.8757 - val_loss: 0.3229 - val_acc: 0.8576\n",
      "Epoch 25/30\n",
      "10194/10194 [==============================] - 5s 510us/step - loss: 0.3064 - acc: 0.8755 - val_loss: 0.3329 - val_acc: 0.8529\n",
      "Epoch 26/30\n",
      "10194/10194 [==============================] - 5s 499us/step - loss: 0.3041 - acc: 0.8745 - val_loss: 0.3257 - val_acc: 0.8607\n",
      "Epoch 27/30\n",
      "10194/10194 [==============================] - 5s 503us/step - loss: 0.3007 - acc: 0.8780 - val_loss: 0.3244 - val_acc: 0.8584\n",
      "Epoch 28/30\n",
      "10194/10194 [==============================] - 7s 669us/step - loss: 0.3030 - acc: 0.8759 - val_loss: 0.3321 - val_acc: 0.8607\n",
      "Epoch 29/30\n",
      "10194/10194 [==============================] - 8s 791us/step - loss: 0.3053 - acc: 0.8742 - val_loss: 0.3331 - val_acc: 0.8552\n",
      "Epoch 30/30\n",
      "10194/10194 [==============================] - 7s 656us/step - loss: 0.3033 - acc: 0.8746 - val_loss: 0.3288 - val_acc: 0.8552\n"
     ]
    }
   ],
   "source": [
    "train_history =model.fit(x=train_Features, \n",
    "                         y=train_Label, \n",
    "                         validation_split=0.2, \n",
    "                         epochs=30, \n",
    "                         batch_size=400,verbose=1)"
   ]
  },
  {
   "cell_type": "code",
   "execution_count": 26,
   "metadata": {
    "collapsed": true
   },
   "outputs": [],
   "source": [
    "import matplotlib.pyplot as plt\n",
    "def show_train_history(train_history,train,validation):\n",
    "    plt.plot(train_history.history[train])\n",
    "    plt.plot(train_history.history[validation])\n",
    "    plt.title('Train History')\n",
    "    plt.ylabel(train)\n",
    "    plt.xlabel('Epoch')\n",
    "    plt.legend(['train', 'validation'], loc='upper left')\n",
    "    plt.show()"
   ]
  },
  {
   "cell_type": "code",
   "execution_count": 27,
   "metadata": {
    "collapsed": false
   },
   "outputs": [
    {
     "data": {
      "image/png": "[encoded data removed]",
      "text/plain": [
       "<matplotlib.figure.Figure at 0x7f17ef351630>"
      ]
     },
     "metadata": {},
     "output_type": "display_data"
    }
   ],
   "source": [
    "show_train_history(train_history,'acc','val_acc')"
   ]
  },
  {
   "cell_type": "code",
   "execution_count": 28,
   "metadata": {
    "collapsed": false
   },
   "outputs": [
    {
     "data": {
      "image/png": "[encoded data removed]",
      "text/plain": [
       "<matplotlib.figure.Figure at 0x7f17ef351be0>"
      ]
     },
     "metadata": {},
     "output_type": "display_data"
    }
   ],
   "source": [
    "show_train_history(train_history,'loss','val_loss')"
   ]
  },
  {
   "cell_type": "code",
   "execution_count": 29,
   "metadata": {
    "collapsed": false
   },
   "outputs": [
    {
     "name": "stdout",
     "output_type": "stream",
     "text": [
      "6277/6277 [==============================] - 1s 215us/step\n"
     ]
    }
   ],
   "source": [
    "scores = model.evaluate(x=test_Features, \n",
    "                        y=test_Label)"
   ]
  },
  {
   "cell_type": "code",
   "execution_count": 30,
   "metadata": {
    "collapsed": false
   },
   "outputs": [
    {
     "data": {
      "text/plain": [
       "0.8607615102756093"
      ]
     },
     "execution_count": 30,
     "metadata": {},
     "output_type": "execute_result"
    }
   ],
   "source": [
    "scores[1]"
   ]
  }
 ],
 "metadata": {
  "anaconda-cloud": {},
  "kernelspec": {
   "display_name": "Python [default]",
   "language": "python",
   "name": "python3"
  },
  "language_info": {
   "codemirror_mode": {
    "name": "ipython",
    "version": 3
   },
   "file_extension": ".py",
   "mimetype": "text/x-python",
   "name": "python",
   "nbconvert_exporter": "python",
   "pygments_lexer": "ipython3",
   "version": "3.5.2"
  }
 },
 "nbformat": 4,
 "nbformat_minor": 1
}
