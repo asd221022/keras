{
 "cells": [
  {
   "cell_type": "code",
   "execution_count": 1,
   "metadata": {
    "collapsed": false
   },
   "outputs": [],
   "source": [
    "import numpy as np\n",
    "import pandas as pd\n",
    "from sklearn.preprocessing import StandardScaler\n",
    "from sklearn.model_selection import train_test_split"
   ]
  },
  {
   "cell_type": "code",
   "execution_count": 2,
   "metadata": {
    "collapsed": false
   },
   "outputs": [],
   "source": [
    "Ynames = ['fLength', 'fWidth', 'fSize', 'fConc', 'fConc1', 'fAsym', \n",
    "             'fM3Long', 'fM3Trans', 'fAlpha', 'fDist', 'identity']\n",
    "featureNames = ['fLength', 'fWidth', 'fSize', 'fConc', 'fConc1', 'fAsym', \n",
    "             'fM3Long', 'fM3Trans', 'fAlpha', 'fDist']\n",
    "filepath = 'magic04.data'\n",
    "data = pd.read_csv(filepath, names=Ynames, header=None)\n",
    "data['identity']= data['identity'].map({'g':1, 'h': 0}).astype(int) \n",
    "X = data[featureNames].values\n",
    "Y = data['identity'].values.astype('int64')"
   ]
  },
  {
   "cell_type": "code",
   "execution_count": 3,
   "metadata": {
    "collapsed": false
   },
   "outputs": [
    {
     "data": {
      "text/plain": [
       "array([[ 1.07712031,  2.1463288 ,  1.07003339, -1.12865239, -0.8375613 ,\n",
       "         0.11254456,  1.46441266,  2.45325493, -0.28248191,  1.43905566],\n",
       "       [-0.48235716,  0.07090723, -0.20105741,  0.05728912,  0.35782842,\n",
       "         0.19732358,  0.48665981, -0.77673742,  0.9512836 , -0.05637142]])"
      ]
     },
     "execution_count": 3,
     "metadata": {},
     "output_type": "execute_result"
    }
   ],
   "source": [
    "X = StandardScaler().fit_transform(X)\n",
    "train_Features, test_Features, train_Label, test_Label = train_test_split(X, Y, test_size=0.33, random_state=None) \n",
    "train_Features[:2]"
   ]
  },
  {
   "cell_type": "code",
   "execution_count": 4,
   "metadata": {
    "collapsed": false
   },
   "outputs": [
    {
     "data": {
      "text/plain": [
       "array([[ 1.53520072, -0.44205029,  0.11930741, -0.13963844, -0.09372303,\n",
       "        -1.18710315, -1.39110286,  0.56233423, -1.05776639,  0.97337276],\n",
       "       [-0.11127804, -0.33829774,  0.41597285, -0.701429  , -0.7669781 ,\n",
       "         0.64878416,  0.56005765, -0.48141731, -0.99315297,  0.30564737]])"
      ]
     },
     "execution_count": 4,
     "metadata": {},
     "output_type": "execute_result"
    }
   ],
   "source": [
    "test_Features[:2]"
   ]
  },
  {
   "cell_type": "code",
   "execution_count": 5,
   "metadata": {
    "collapsed": false
   },
   "outputs": [
    {
     "data": {
      "text/plain": [
       "array([0, 0, 1, 0])"
      ]
     },
     "execution_count": 5,
     "metadata": {},
     "output_type": "execute_result"
    }
   ],
   "source": [
    "train_Label[:4]"
   ]
  },
  {
   "cell_type": "code",
   "execution_count": 6,
   "metadata": {
    "collapsed": false
   },
   "outputs": [],
   "source": [
    "train_Features = train_Features.reshape((train_Features.shape[0], train_Features.shape[1], 1))\n",
    "test_Features = test_Features.reshape((test_Features.shape[0], test_Features.shape[1], 1))"
   ]
  },
  {
   "cell_type": "code",
   "execution_count": 7,
   "metadata": {
    "collapsed": false
   },
   "outputs": [
    {
     "data": {
      "text/plain": [
       "(12743, 10, 1)"
      ]
     },
     "execution_count": 7,
     "metadata": {},
     "output_type": "execute_result"
    }
   ],
   "source": [
    "train_Features.shape"
   ]
  },
  {
   "cell_type": "code",
   "execution_count": 8,
   "metadata": {
    "collapsed": false
   },
   "outputs": [
    {
     "name": "stderr",
     "output_type": "stream",
     "text": [
      "Using TensorFlow backend.\n"
     ]
    }
   ],
   "source": [
    "from keras.models import Sequential\n",
    "from keras.layers import Dense,Dropout,Flatten,Conv1D,MaxPooling1D\n",
    "from keras.layers.embeddings import Embedding\n",
    "from keras.callbacks import EarlyStopping\n",
    "early_stopping = EarlyStopping(monitor='val_loss', patience=2)"
   ]
  },
  {
   "cell_type": "code",
   "execution_count": 9,
   "metadata": {
    "collapsed": true
   },
   "outputs": [],
   "source": [
    "model = Sequential()"
   ]
  },
  {
   "cell_type": "code",
   "execution_count": 10,
   "metadata": {
    "collapsed": true
   },
   "outputs": [],
   "source": [
    "model.add(Conv1D(filters=20*7,\n",
    "                 kernel_size=1,\n",
    "                 padding='valid',\n",
    "                 input_shape=(10,1), \n",
    "                 activation='relu'))"
   ]
  },
  {
   "cell_type": "code",
   "execution_count": 11,
   "metadata": {
    "collapsed": true
   },
   "outputs": [],
   "source": [
    "model.add(MaxPooling1D(pool_size=1))"
   ]
  },
  {
   "cell_type": "code",
   "execution_count": 12,
   "metadata": {
    "collapsed": true
   },
   "outputs": [],
   "source": [
    "model.add(Conv1D(filters=20*6,\n",
    "                 kernel_size=1,\n",
    "                 padding='valid', \n",
    "                 activation='relu'))"
   ]
  },
  {
   "cell_type": "code",
   "execution_count": 13,
   "metadata": {
    "collapsed": true
   },
   "outputs": [],
   "source": [
    "model.add(MaxPooling1D(pool_size=1))"
   ]
  },
  {
   "cell_type": "code",
   "execution_count": 14,
   "metadata": {
    "collapsed": true
   },
   "outputs": [],
   "source": [
    "model.add(Conv1D(filters=20*5,\n",
    "                 kernel_size=1,\n",
    "                 padding='valid',\n",
    "                 activation='relu'))"
   ]
  },
  {
   "cell_type": "code",
   "execution_count": 15,
   "metadata": {
    "collapsed": true
   },
   "outputs": [],
   "source": [
    "model.add(MaxPooling1D(pool_size=1))"
   ]
  },
  {
   "cell_type": "code",
   "execution_count": 16,
   "metadata": {
    "collapsed": true
   },
   "outputs": [],
   "source": [
    "model.add(Conv1D(filters=20*4,\n",
    "                 kernel_size=1,\n",
    "                 padding='valid',\n",
    "                 activation='relu'))"
   ]
  },
  {
   "cell_type": "code",
   "execution_count": 17,
   "metadata": {
    "collapsed": true
   },
   "outputs": [],
   "source": [
    "model.add(MaxPooling1D(pool_size=1))"
   ]
  },
  {
   "cell_type": "code",
   "execution_count": 18,
   "metadata": {
    "collapsed": true
   },
   "outputs": [],
   "source": [
    "model.add(Conv1D(filters=20*3,\n",
    "                 kernel_size=1,\n",
    "                 padding='valid',\n",
    "                 activation='relu'))"
   ]
  },
  {
   "cell_type": "code",
   "execution_count": 19,
   "metadata": {
    "collapsed": true
   },
   "outputs": [],
   "source": [
    "model.add(MaxPooling1D(pool_size=1))"
   ]
  },
  {
   "cell_type": "code",
   "execution_count": 20,
   "metadata": {
    "collapsed": true
   },
   "outputs": [],
   "source": [
    "model.add(Conv1D(filters=20*2,\n",
    "                 kernel_size=1,\n",
    "                 padding='valid',\n",
    "                 activation='relu'))"
   ]
  },
  {
   "cell_type": "code",
   "execution_count": 21,
   "metadata": {
    "collapsed": true
   },
   "outputs": [],
   "source": [
    "model.add(MaxPooling1D(pool_size=1))"
   ]
  },
  {
   "cell_type": "code",
   "execution_count": 22,
   "metadata": {
    "collapsed": false
   },
   "outputs": [],
   "source": [
    "model.add(Conv1D(filters=20,\n",
    "                 kernel_size=1,\n",
    "                 padding='valid',\n",
    "                 activation='relu'))"
   ]
  },
  {
   "cell_type": "code",
   "execution_count": 23,
   "metadata": {
    "collapsed": false
   },
   "outputs": [],
   "source": [
    "model.add(MaxPooling1D(pool_size=1))"
   ]
  },
  {
   "cell_type": "code",
   "execution_count": 24,
   "metadata": {
    "collapsed": true
   },
   "outputs": [],
   "source": [
    "model.add(Flatten())"
   ]
  },
  {
   "cell_type": "code",
   "execution_count": 25,
   "metadata": {
    "collapsed": true
   },
   "outputs": [],
   "source": [
    "model.add(Dense(10, activation='tanh'))"
   ]
  },
  {
   "cell_type": "code",
   "execution_count": 26,
   "metadata": {
    "collapsed": true
   },
   "outputs": [],
   "source": [
    "model.add(Dense(1,activation='sigmoid'))"
   ]
  },
  {
   "cell_type": "code",
   "execution_count": 27,
   "metadata": {
    "collapsed": false
   },
   "outputs": [
    {
     "name": "stdout",
     "output_type": "stream",
     "text": [
      "_________________________________________________________________\n",
      "Layer (type)                 Output Shape              Param #   \n",
      "=================================================================\n",
      "conv1d_1 (Conv1D)            (None, 10, 140)           280       \n",
      "_________________________________________________________________\n",
      "max_pooling1d_1 (MaxPooling1 (None, 10, 140)           0         \n",
      "_________________________________________________________________\n",
      "conv1d_2 (Conv1D)            (None, 10, 120)           16920     \n",
      "_________________________________________________________________\n",
      "max_pooling1d_2 (MaxPooling1 (None, 10, 120)           0         \n",
      "_________________________________________________________________\n",
      "conv1d_3 (Conv1D)            (None, 10, 100)           12100     \n",
      "_________________________________________________________________\n",
      "max_pooling1d_3 (MaxPooling1 (None, 10, 100)           0         \n",
      "_________________________________________________________________\n",
      "conv1d_4 (Conv1D)            (None, 10, 80)            8080      \n",
      "_________________________________________________________________\n",
      "max_pooling1d_4 (MaxPooling1 (None, 10, 80)            0         \n",
      "_________________________________________________________________\n",
      "conv1d_5 (Conv1D)            (None, 10, 60)            4860      \n",
      "_________________________________________________________________\n",
      "max_pooling1d_5 (MaxPooling1 (None, 10, 60)            0         \n",
      "_________________________________________________________________\n",
      "conv1d_6 (Conv1D)            (None, 10, 40)            2440      \n",
      "_________________________________________________________________\n",
      "max_pooling1d_6 (MaxPooling1 (None, 10, 40)            0         \n",
      "_________________________________________________________________\n",
      "conv1d_7 (Conv1D)            (None, 10, 20)            820       \n",
      "_________________________________________________________________\n",
      "max_pooling1d_7 (MaxPooling1 (None, 10, 20)            0         \n",
      "_________________________________________________________________\n",
      "flatten_1 (Flatten)          (None, 200)               0         \n",
      "_________________________________________________________________\n",
      "dense_1 (Dense)              (None, 10)                2010      \n",
      "_________________________________________________________________\n",
      "dense_2 (Dense)              (None, 1)                 11        \n",
      "=================================================================\n",
      "Total params: 47,521\n",
      "Trainable params: 47,521\n",
      "Non-trainable params: 0\n",
      "_________________________________________________________________\n"
     ]
    }
   ],
   "source": [
    "model.summary()"
   ]
  },
  {
   "cell_type": "code",
   "execution_count": 28,
   "metadata": {
    "collapsed": false
   },
   "outputs": [],
   "source": [
    "model.compile(loss='binary_crossentropy', \n",
    "              optimizer='adam', metrics=['accuracy'])"
   ]
  },
  {
   "cell_type": "code",
   "execution_count": 29,
   "metadata": {
    "collapsed": false
   },
   "outputs": [
    {
     "name": "stdout",
     "output_type": "stream",
     "text": [
      "Train on 10194 samples, validate on 2549 samples\n",
      "Epoch 1/30\n",
      "10194/10194 [==============================] - 13s 1ms/step - loss: 0.5897 - acc: 0.6977 - val_loss: 0.4651 - val_acc: 0.7858\n",
      "Epoch 2/30\n",
      "10194/10194 [==============================] - 13s 1ms/step - loss: 0.4217 - acc: 0.8050 - val_loss: 0.3879 - val_acc: 0.8344\n",
      "Epoch 3/30\n",
      "10194/10194 [==============================] - 10s 946us/step - loss: 0.3633 - acc: 0.8468 - val_loss: 0.3578 - val_acc: 0.8548\n",
      "Epoch 4/30\n",
      "10194/10194 [==============================] - 13s 1ms/step - loss: 0.3453 - acc: 0.8575 - val_loss: 0.3551 - val_acc: 0.8513\n",
      "Epoch 5/30\n",
      "10194/10194 [==============================] - 9s 916us/step - loss: 0.3423 - acc: 0.8549 - val_loss: 0.3441 - val_acc: 0.8619\n",
      "Epoch 6/30\n",
      "10194/10194 [==============================] - 9s 920us/step - loss: 0.3361 - acc: 0.8600 - val_loss: 0.3404 - val_acc: 0.8611\n",
      "Epoch 7/30\n",
      "10194/10194 [==============================] - 9s 894us/step - loss: 0.3304 - acc: 0.8645 - val_loss: 0.3371 - val_acc: 0.8615\n",
      "Epoch 8/30\n",
      "10194/10194 [==============================] - 9s 884us/step - loss: 0.3264 - acc: 0.8649 - val_loss: 0.3353 - val_acc: 0.8623\n",
      "Epoch 9/30\n",
      "10194/10194 [==============================] - 9s 896us/step - loss: 0.3249 - acc: 0.8645 - val_loss: 0.3331 - val_acc: 0.8658\n",
      "Epoch 10/30\n",
      "10194/10194 [==============================] - 9s 921us/step - loss: 0.3233 - acc: 0.8666 - val_loss: 0.3316 - val_acc: 0.8635\n",
      "Epoch 11/30\n",
      "10194/10194 [==============================] - 9s 902us/step - loss: 0.3216 - acc: 0.8679 - val_loss: 0.3309 - val_acc: 0.8639\n",
      "Epoch 12/30\n",
      "10194/10194 [==============================] - 9s 893us/step - loss: 0.3191 - acc: 0.8693 - val_loss: 0.3313 - val_acc: 0.8650\n",
      "Epoch 13/30\n",
      "10194/10194 [==============================] - 9s 882us/step - loss: 0.3187 - acc: 0.8689 - val_loss: 0.3298 - val_acc: 0.8674\n",
      "Epoch 14/30\n",
      "10194/10194 [==============================] - 9s 917us/step - loss: 0.3184 - acc: 0.8674 - val_loss: 0.3319 - val_acc: 0.8627\n",
      "Epoch 15/30\n",
      "10194/10194 [==============================] - 9s 857us/step - loss: 0.3185 - acc: 0.8704 - val_loss: 0.3299 - val_acc: 0.8662\n",
      "Epoch 16/30\n",
      "10194/10194 [==============================] - 8s 750us/step - loss: 0.3172 - acc: 0.8678 - val_loss: 0.3300 - val_acc: 0.8643\n",
      "Epoch 17/30\n",
      "10194/10194 [==============================] - 8s 746us/step - loss: 0.3198 - acc: 0.8680 - val_loss: 0.3303 - val_acc: 0.8647\n",
      "Epoch 18/30\n",
      "10194/10194 [==============================] - 8s 743us/step - loss: 0.3150 - acc: 0.8706 - val_loss: 0.3299 - val_acc: 0.8647\n",
      "Epoch 19/30\n",
      "10194/10194 [==============================] - 8s 737us/step - loss: 0.3125 - acc: 0.8725 - val_loss: 0.3294 - val_acc: 0.8670\n",
      "Epoch 20/30\n",
      "10194/10194 [==============================] - 8s 745us/step - loss: 0.3144 - acc: 0.8709 - val_loss: 0.3303 - val_acc: 0.8635\n",
      "Epoch 21/30\n",
      "10194/10194 [==============================] - 8s 742us/step - loss: 0.3128 - acc: 0.8699 - val_loss: 0.3291 - val_acc: 0.8674\n",
      "Epoch 22/30\n",
      "10194/10194 [==============================] - 8s 744us/step - loss: 0.3111 - acc: 0.8736 - val_loss: 0.3271 - val_acc: 0.8682\n",
      "Epoch 23/30\n",
      "10194/10194 [==============================] - 8s 747us/step - loss: 0.3089 - acc: 0.8735 - val_loss: 0.3280 - val_acc: 0.8670\n",
      "Epoch 24/30\n",
      "10194/10194 [==============================] - 8s 741us/step - loss: 0.3084 - acc: 0.8715 - val_loss: 0.3247 - val_acc: 0.8686\n",
      "Epoch 25/30\n",
      "10194/10194 [==============================] - 8s 741us/step - loss: 0.3081 - acc: 0.8734 - val_loss: 0.3236 - val_acc: 0.8674\n",
      "Epoch 26/30\n",
      "10194/10194 [==============================] - 10s 1ms/step - loss: 0.3112 - acc: 0.8730 - val_loss: 0.3316 - val_acc: 0.8635\n",
      "Epoch 27/30\n",
      "10194/10194 [==============================] - 7s 699us/step - loss: 0.3096 - acc: 0.8713 - val_loss: 0.3256 - val_acc: 0.8686\n",
      "Epoch 28/30\n",
      "10194/10194 [==============================] - 7s 705us/step - loss: 0.3058 - acc: 0.8743 - val_loss: 0.3258 - val_acc: 0.8670\n",
      "Epoch 29/30\n",
      "10194/10194 [==============================] - 7s 705us/step - loss: 0.3036 - acc: 0.8772 - val_loss: 0.3273 - val_acc: 0.8658\n",
      "Epoch 30/30\n",
      "10194/10194 [==============================] - 7s 705us/step - loss: 0.3071 - acc: 0.8735 - val_loss: 0.3270 - val_acc: 0.8654\n"
     ]
    }
   ],
   "source": [
    "train_history =model.fit(x=train_Features, \n",
    "                         y=train_Label, \n",
    "                         validation_split=0.2, \n",
    "                         epochs=30, \n",
    "                         batch_size=400,verbose=1)"
   ]
  },
  {
   "cell_type": "code",
   "execution_count": 30,
   "metadata": {
    "collapsed": true
   },
   "outputs": [],
   "source": [
    "import matplotlib.pyplot as plt\n",
    "def show_train_history(train_history,train,validation):\n",
    "    plt.plot(train_history.history[train])\n",
    "    plt.plot(train_history.history[validation])\n",
    "    plt.title('Train History')\n",
    "    plt.ylabel(train)\n",
    "    plt.xlabel('Epoch')\n",
    "    plt.legend(['train', 'validation'], loc='upper left')\n",
    "    plt.show()"
   ]
  },
  {
   "cell_type": "code",
   "execution_count": 31,
   "metadata": {
    "collapsed": false
   },
   "outputs": [
    {
     "data": {
      "image/png": "[encoded data removed]",
      "text/plain": [
       "<matplotlib.figure.Figure at 0x7f91b67c9c18>"
      ]
     },
     "metadata": {},
     "output_type": "display_data"
    }
   ],
   "source": [
    "show_train_history(train_history,'acc','val_acc')"
   ]
  },
  {
   "cell_type": "code",
   "execution_count": 32,
   "metadata": {
    "collapsed": false
   },
   "outputs": [
    {
     "data": {
      "image/png": "[encoded data removed]",
      "text/plain": [
       "<matplotlib.figure.Figure at 0x7f91b67c9550>"
      ]
     },
     "metadata": {},
     "output_type": "display_data"
    }
   ],
   "source": [
    "show_train_history(train_history,'loss','val_loss')"
   ]
  },
  {
   "cell_type": "code",
   "execution_count": 33,
   "metadata": {
    "collapsed": false
   },
   "outputs": [
    {
     "name": "stdout",
     "output_type": "stream",
     "text": [
      "6277/6277 [==============================] - 1s 206us/step\n"
     ]
    }
   ],
   "source": [
    "scores = model.evaluate(x=test_Features, \n",
    "                        y=test_Label)"
   ]
  },
  {
   "cell_type": "code",
   "execution_count": 34,
   "metadata": {
    "collapsed": false
   },
   "outputs": [
    {
     "data": {
      "text/plain": [
       "0.8623546280165054"
      ]
     },
     "execution_count": 34,
     "metadata": {},
     "output_type": "execute_result"
    }
   ],
   "source": [
    "scores[1]"
   ]
  }
 ],
 "metadata": {
  "anaconda-cloud": {},
  "kernelspec": {
   "display_name": "Python [default]",
   "language": "python",
   "name": "python3"
  },
  "language_info": {
   "codemirror_mode": {
    "name": "ipython",
    "version": 3
   },
   "file_extension": ".py",
   "mimetype": "text/x-python",
   "name": "python",
   "nbconvert_exporter": "python",
   "pygments_lexer": "ipython3",
   "version": "3.5.2"
  }
 },
 "nbformat": 4,
 "nbformat_minor": 1
}
