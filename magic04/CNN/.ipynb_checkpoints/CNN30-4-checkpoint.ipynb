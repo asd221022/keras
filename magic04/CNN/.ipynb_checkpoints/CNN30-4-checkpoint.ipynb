{
 "cells": [
  {
   "cell_type": "code",
   "execution_count": 1,
   "metadata": {
    "collapsed": false
   },
   "outputs": [],
   "source": [
    "import numpy as np\n",
    "import pandas as pd\n",
    "from sklearn.preprocessing import StandardScaler\n",
    "from sklearn.model_selection import train_test_split"
   ]
  },
  {
   "cell_type": "code",
   "execution_count": 2,
   "metadata": {
    "collapsed": false
   },
   "outputs": [],
   "source": [
    "Ynames = ['fLength', 'fWidth', 'fSize', 'fConc', 'fConc1', 'fAsym', \n",
    "             'fM3Long', 'fM3Trans', 'fAlpha', 'fDist', 'identity']\n",
    "featureNames = ['fLength', 'fWidth', 'fSize', 'fConc', 'fConc1', 'fAsym', \n",
    "             'fM3Long', 'fM3Trans', 'fAlpha', 'fDist']\n",
    "filepath = 'magic04.data'\n",
    "data = pd.read_csv(filepath, names=Ynames, header=None)\n",
    "data['identity']= data['identity'].map({'g':1, 'h': 0}).astype(int) \n",
    "X = data[featureNames].values\n",
    "Y = data['identity'].values.astype('int64')"
   ]
  },
  {
   "cell_type": "code",
   "execution_count": 3,
   "metadata": {
    "collapsed": false
   },
   "outputs": [
    {
     "data": {
      "text/plain": [
       "array([[-0.33055518,  0.11538662,  0.75474701, -0.73042111, -0.61133311,\n",
       "         0.35421029,  0.31739497,  0.24558509, -0.35388767, -0.37863099],\n",
       "       [ 1.11920819,  0.79344117,  2.78167871, -1.5668162 , -1.51534093,\n",
       "         1.02440253,  1.47240109,  0.90808915, -1.0035541 ,  1.05431769]])"
      ]
     },
     "execution_count": 3,
     "metadata": {},
     "output_type": "execute_result"
    }
   ],
   "source": [
    "X = StandardScaler().fit_transform(X)\n",
    "train_Features, test_Features, train_Label, test_Label = train_test_split(X, Y, test_size=0.33, random_state=None) \n",
    "train_Features[:2]"
   ]
  },
  {
   "cell_type": "code",
   "execution_count": 4,
   "metadata": {
    "collapsed": false
   },
   "outputs": [
    {
     "data": {
      "text/plain": [
       "array([[-0.74531788, -0.52525291, -0.93552655,  0.61525053,  0.77408828,\n",
       "         0.10040191, -0.41456572,  0.09194719,  0.56451099, -1.13108828],\n",
       "       [ 0.70074656, -0.71361987, -0.94504862,  1.10100517,  0.87815324,\n",
       "         1.33544136,  0.55453791, -0.3575342 , -0.96807916,  1.30377633]])"
      ]
     },
     "execution_count": 4,
     "metadata": {},
     "output_type": "execute_result"
    }
   ],
   "source": [
    "test_Features[:2]"
   ]
  },
  {
   "cell_type": "code",
   "execution_count": 5,
   "metadata": {
    "collapsed": false
   },
   "outputs": [
    {
     "data": {
      "text/plain": [
       "array([1, 1, 1, 1])"
      ]
     },
     "execution_count": 5,
     "metadata": {},
     "output_type": "execute_result"
    }
   ],
   "source": [
    "train_Label[:4]"
   ]
  },
  {
   "cell_type": "code",
   "execution_count": 6,
   "metadata": {
    "collapsed": false
   },
   "outputs": [],
   "source": [
    "train_Features = train_Features.reshape((train_Features.shape[0], train_Features.shape[1], 1))\n",
    "test_Features = test_Features.reshape((test_Features.shape[0], test_Features.shape[1], 1))"
   ]
  },
  {
   "cell_type": "code",
   "execution_count": 7,
   "metadata": {
    "collapsed": false
   },
   "outputs": [
    {
     "data": {
      "text/plain": [
       "(12743, 10, 1)"
      ]
     },
     "execution_count": 7,
     "metadata": {},
     "output_type": "execute_result"
    }
   ],
   "source": [
    "train_Features.shape"
   ]
  },
  {
   "cell_type": "code",
   "execution_count": 8,
   "metadata": {
    "collapsed": false
   },
   "outputs": [
    {
     "name": "stderr",
     "output_type": "stream",
     "text": [
      "Using TensorFlow backend.\n"
     ]
    }
   ],
   "source": [
    "from keras.models import Sequential\n",
    "from keras.layers import Dense,Dropout,Flatten,Conv1D,MaxPooling1D\n",
    "from keras.layers.embeddings import Embedding\n",
    "from keras.callbacks import EarlyStopping\n",
    "early_stopping = EarlyStopping(monitor='val_loss', patience=2)"
   ]
  },
  {
   "cell_type": "code",
   "execution_count": 9,
   "metadata": {
    "collapsed": true
   },
   "outputs": [],
   "source": [
    "model = Sequential()"
   ]
  },
  {
   "cell_type": "code",
   "execution_count": 10,
   "metadata": {
    "collapsed": true
   },
   "outputs": [],
   "source": [
    "model.add(Conv1D(filters=30*4,\n",
    "                 kernel_size=3,\n",
    "                 padding='valid',\n",
    "                 input_shape=(10,1), \n",
    "                 activation='relu'))"
   ]
  },
  {
   "cell_type": "code",
   "execution_count": 11,
   "metadata": {
    "collapsed": true
   },
   "outputs": [],
   "source": [
    "model.add(MaxPooling1D(pool_size=1))"
   ]
  },
  {
   "cell_type": "code",
   "execution_count": 12,
   "metadata": {
    "collapsed": true
   },
   "outputs": [],
   "source": [
    "model.add(Conv1D(filters=30*3,\n",
    "                 kernel_size=3,\n",
    "                 padding='valid',\n",
    "                 activation='relu'))"
   ]
  },
  {
   "cell_type": "code",
   "execution_count": 13,
   "metadata": {
    "collapsed": true
   },
   "outputs": [],
   "source": [
    "model.add(MaxPooling1D(pool_size=1))"
   ]
  },
  {
   "cell_type": "code",
   "execution_count": 14,
   "metadata": {
    "collapsed": true
   },
   "outputs": [],
   "source": [
    "model.add(Conv1D(filters=30*2,\n",
    "                 kernel_size=3,\n",
    "                 padding='valid', \n",
    "                 activation='relu'))"
   ]
  },
  {
   "cell_type": "code",
   "execution_count": 15,
   "metadata": {
    "collapsed": true
   },
   "outputs": [],
   "source": [
    "model.add(MaxPooling1D(pool_size=1))"
   ]
  },
  {
   "cell_type": "code",
   "execution_count": 16,
   "metadata": {
    "collapsed": true
   },
   "outputs": [],
   "source": [
    "model.add(Conv1D(filters=30,\n",
    "                 kernel_size=3,\n",
    "                 padding='valid', \n",
    "                 activation='relu'))"
   ]
  },
  {
   "cell_type": "code",
   "execution_count": 17,
   "metadata": {
    "collapsed": false
   },
   "outputs": [],
   "source": [
    "model.add(MaxPooling1D(pool_size=1))"
   ]
  },
  {
   "cell_type": "code",
   "execution_count": 18,
   "metadata": {
    "collapsed": true
   },
   "outputs": [],
   "source": [
    "model.add(Flatten())"
   ]
  },
  {
   "cell_type": "code",
   "execution_count": 19,
   "metadata": {
    "collapsed": true
   },
   "outputs": [],
   "source": [
    "model.add(Dense(10, activation='tanh'))"
   ]
  },
  {
   "cell_type": "code",
   "execution_count": 20,
   "metadata": {
    "collapsed": true
   },
   "outputs": [],
   "source": [
    "model.add(Dense(1,activation='sigmoid'))"
   ]
  },
  {
   "cell_type": "code",
   "execution_count": 21,
   "metadata": {
    "collapsed": false
   },
   "outputs": [
    {
     "name": "stdout",
     "output_type": "stream",
     "text": [
      "_________________________________________________________________\n",
      "Layer (type)                 Output Shape              Param #   \n",
      "=================================================================\n",
      "conv1d_1 (Conv1D)            (None, 8, 120)            480       \n",
      "_________________________________________________________________\n",
      "max_pooling1d_1 (MaxPooling1 (None, 8, 120)            0         \n",
      "_________________________________________________________________\n",
      "conv1d_2 (Conv1D)            (None, 6, 90)             32490     \n",
      "_________________________________________________________________\n",
      "max_pooling1d_2 (MaxPooling1 (None, 6, 90)             0         \n",
      "_________________________________________________________________\n",
      "conv1d_3 (Conv1D)            (None, 4, 60)             16260     \n",
      "_________________________________________________________________\n",
      "max_pooling1d_3 (MaxPooling1 (None, 4, 60)             0         \n",
      "_________________________________________________________________\n",
      "conv1d_4 (Conv1D)            (None, 2, 30)             5430      \n",
      "_________________________________________________________________\n",
      "max_pooling1d_4 (MaxPooling1 (None, 2, 30)             0         \n",
      "_________________________________________________________________\n",
      "flatten_1 (Flatten)          (None, 60)                0         \n",
      "_________________________________________________________________\n",
      "dense_1 (Dense)              (None, 10)                610       \n",
      "_________________________________________________________________\n",
      "dense_2 (Dense)              (None, 1)                 11        \n",
      "=================================================================\n",
      "Total params: 55,281\n",
      "Trainable params: 55,281\n",
      "Non-trainable params: 0\n",
      "_________________________________________________________________\n"
     ]
    }
   ],
   "source": [
    "model.summary()"
   ]
  },
  {
   "cell_type": "code",
   "execution_count": 22,
   "metadata": {
    "collapsed": false
   },
   "outputs": [],
   "source": [
    "model.compile(loss='binary_crossentropy', \n",
    "              optimizer='adam', metrics=['accuracy'])"
   ]
  },
  {
   "cell_type": "code",
   "execution_count": 23,
   "metadata": {
    "collapsed": false
   },
   "outputs": [
    {
     "name": "stdout",
     "output_type": "stream",
     "text": [
      "Train on 10194 samples, validate on 2549 samples\n",
      "Epoch 1/30\n",
      "10194/10194 [==============================] - 7s 674us/step - loss: 0.5238 - acc: 0.7609 - val_loss: 0.4040 - val_acc: 0.8172\n",
      "Epoch 2/30\n",
      "10194/10194 [==============================] - 8s 804us/step - loss: 0.3864 - acc: 0.8322 - val_loss: 0.3742 - val_acc: 0.8458\n",
      "Epoch 3/30\n",
      "10194/10194 [==============================] - 7s 732us/step - loss: 0.3573 - acc: 0.8494 - val_loss: 0.3585 - val_acc: 0.8541\n",
      "Epoch 4/30\n",
      "10194/10194 [==============================] - 7s 677us/step - loss: 0.3414 - acc: 0.8579 - val_loss: 0.3358 - val_acc: 0.8698\n",
      "Epoch 5/30\n",
      "10194/10194 [==============================] - 6s 627us/step - loss: 0.3345 - acc: 0.8603 - val_loss: 0.3365 - val_acc: 0.8639\n",
      "Epoch 6/30\n",
      "10194/10194 [==============================] - 7s 663us/step - loss: 0.3253 - acc: 0.8669 - val_loss: 0.3352 - val_acc: 0.8674\n",
      "Epoch 7/30\n",
      "10194/10194 [==============================] - 7s 653us/step - loss: 0.3216 - acc: 0.8693 - val_loss: 0.3270 - val_acc: 0.8690\n",
      "Epoch 8/30\n",
      "10194/10194 [==============================] - 8s 744us/step - loss: 0.3164 - acc: 0.8706 - val_loss: 0.3265 - val_acc: 0.8705\n",
      "Epoch 9/30\n",
      "10194/10194 [==============================] - 8s 810us/step - loss: 0.3177 - acc: 0.8691 - val_loss: 0.3290 - val_acc: 0.8733\n",
      "Epoch 10/30\n",
      "10194/10194 [==============================] - 7s 711us/step - loss: 0.3165 - acc: 0.8704 - val_loss: 0.3226 - val_acc: 0.8733\n",
      "Epoch 11/30\n",
      "10194/10194 [==============================] - 7s 729us/step - loss: 0.3107 - acc: 0.8742 - val_loss: 0.3267 - val_acc: 0.8678\n",
      "Epoch 12/30\n",
      "10194/10194 [==============================] - 8s 743us/step - loss: 0.3117 - acc: 0.8727 - val_loss: 0.3269 - val_acc: 0.8678\n",
      "Epoch 13/30\n",
      "10194/10194 [==============================] - 7s 708us/step - loss: 0.3078 - acc: 0.8749 - val_loss: 0.3255 - val_acc: 0.8717\n",
      "Epoch 14/30\n",
      "10194/10194 [==============================] - 7s 722us/step - loss: 0.3070 - acc: 0.8765 - val_loss: 0.3261 - val_acc: 0.8752\n",
      "Epoch 15/30\n",
      "10194/10194 [==============================] - 7s 713us/step - loss: 0.3041 - acc: 0.8756 - val_loss: 0.3210 - val_acc: 0.8729\n",
      "Epoch 16/30\n",
      "10194/10194 [==============================] - 8s 746us/step - loss: 0.3028 - acc: 0.8758 - val_loss: 0.3187 - val_acc: 0.8756\n",
      "Epoch 17/30\n",
      "10194/10194 [==============================] - 6s 595us/step - loss: 0.2997 - acc: 0.8788 - val_loss: 0.3244 - val_acc: 0.8682\n",
      "Epoch 18/30\n",
      "10194/10194 [==============================] - 4s 438us/step - loss: 0.3084 - acc: 0.8739 - val_loss: 0.3188 - val_acc: 0.8705\n",
      "Epoch 19/30\n",
      "10194/10194 [==============================] - 5s 491us/step - loss: 0.3009 - acc: 0.8775 - val_loss: 0.3201 - val_acc: 0.8764\n",
      "Epoch 20/30\n",
      "10194/10194 [==============================] - 4s 391us/step - loss: 0.3018 - acc: 0.8746 - val_loss: 0.3268 - val_acc: 0.8662\n",
      "Epoch 21/30\n",
      "10194/10194 [==============================] - 3s 339us/step - loss: 0.3000 - acc: 0.8778 - val_loss: 0.3189 - val_acc: 0.8678\n",
      "Epoch 22/30\n",
      "10194/10194 [==============================] - 3s 268us/step - loss: 0.2948 - acc: 0.8795 - val_loss: 0.3206 - val_acc: 0.8643\n",
      "Epoch 23/30\n",
      "10194/10194 [==============================] - 3s 263us/step - loss: 0.2969 - acc: 0.8785 - val_loss: 0.3348 - val_acc: 0.8627\n",
      "Epoch 24/30\n",
      "10194/10194 [==============================] - 3s 250us/step - loss: 0.2956 - acc: 0.8803 - val_loss: 0.3140 - val_acc: 0.8749\n",
      "Epoch 25/30\n",
      "10194/10194 [==============================] - 5s 444us/step - loss: 0.2901 - acc: 0.8825 - val_loss: 0.3147 - val_acc: 0.8705\n",
      "Epoch 26/30\n",
      "10194/10194 [==============================] - 5s 536us/step - loss: 0.2912 - acc: 0.8809 - val_loss: 0.3110 - val_acc: 0.8776\n",
      "Epoch 27/30\n",
      "10194/10194 [==============================] - 5s 467us/step - loss: 0.2903 - acc: 0.8796 - val_loss: 0.3144 - val_acc: 0.8784\n",
      "Epoch 28/30\n",
      "10194/10194 [==============================] - 5s 478us/step - loss: 0.2879 - acc: 0.8821 - val_loss: 0.3161 - val_acc: 0.8737\n",
      "Epoch 29/30\n",
      "10194/10194 [==============================] - 5s 520us/step - loss: 0.2880 - acc: 0.8819 - val_loss: 0.3131 - val_acc: 0.8725\n",
      "Epoch 30/30\n",
      "10194/10194 [==============================] - 5s 522us/step - loss: 0.2872 - acc: 0.8827 - val_loss: 0.3154 - val_acc: 0.8713\n"
     ]
    }
   ],
   "source": [
    "train_history =model.fit(x=train_Features, \n",
    "                         y=train_Label, \n",
    "                         validation_split=0.2, \n",
    "                         epochs=30, \n",
    "                         batch_size=400,verbose=1)"
   ]
  },
  {
   "cell_type": "code",
   "execution_count": 24,
   "metadata": {
    "collapsed": true
   },
   "outputs": [],
   "source": [
    "import matplotlib.pyplot as plt\n",
    "def show_train_history(train_history,train,validation):\n",
    "    plt.plot(train_history.history[train])\n",
    "    plt.plot(train_history.history[validation])\n",
    "    plt.title('Train History')\n",
    "    plt.ylabel(train)\n",
    "    plt.xlabel('Epoch')\n",
    "    plt.legend(['train', 'validation'], loc='upper left')\n",
    "    plt.show()"
   ]
  },
  {
   "cell_type": "code",
   "execution_count": 25,
   "metadata": {
    "collapsed": false
   },
   "outputs": [
    {
     "data": {
      "image/png": "[encoded data removed]",
      "text/plain": [
       "<matplotlib.figure.Figure at 0x7fcbc18af9e8>"
      ]
     },
     "metadata": {},
     "output_type": "display_data"
    }
   ],
   "source": [
    "show_train_history(train_history,'acc','val_acc')"
   ]
  },
  {
   "cell_type": "code",
   "execution_count": 26,
   "metadata": {
    "collapsed": false
   },
   "outputs": [
    {
     "data": {
      "image/png": "[encoded data removed]",
      "text/plain": [
       "<matplotlib.figure.Figure at 0x7fcbc1859710>"
      ]
     },
     "metadata": {},
     "output_type": "display_data"
    }
   ],
   "source": [
    "show_train_history(train_history,'loss','val_loss')"
   ]
  },
  {
   "cell_type": "code",
   "execution_count": 27,
   "metadata": {
    "collapsed": false
   },
   "outputs": [
    {
     "name": "stdout",
     "output_type": "stream",
     "text": [
      "6277/6277 [==============================] - 2s 278us/step\n"
     ]
    }
   ],
   "source": [
    "scores = model.evaluate(x=test_Features, \n",
    "                        y=test_Label)"
   ]
  },
  {
   "cell_type": "code",
   "execution_count": 28,
   "metadata": {
    "collapsed": false
   },
   "outputs": [
    {
     "data": {
      "text/plain": [
       "0.8625139397991411"
      ]
     },
     "execution_count": 28,
     "metadata": {},
     "output_type": "execute_result"
    }
   ],
   "source": [
    "scores[1]"
   ]
  }
 ],
 "metadata": {
  "anaconda-cloud": {},
  "kernelspec": {
   "display_name": "Python [default]",
   "language": "python",
   "name": "python3"
  },
  "language_info": {
   "codemirror_mode": {
    "name": "ipython",
    "version": 3
   },
   "file_extension": ".py",
   "mimetype": "text/x-python",
   "name": "python",
   "nbconvert_exporter": "python",
   "pygments_lexer": "ipython3",
   "version": "3.5.2"
  }
 },
 "nbformat": 4,
 "nbformat_minor": 1
}
