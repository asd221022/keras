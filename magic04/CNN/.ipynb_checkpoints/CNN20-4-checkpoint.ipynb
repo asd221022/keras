{
 "cells": [
  {
   "cell_type": "code",
   "execution_count": 1,
   "metadata": {
    "collapsed": false
   },
   "outputs": [],
   "source": [
    "import numpy as np\n",
    "import pandas as pd\n",
    "from sklearn.preprocessing import StandardScaler\n",
    "from sklearn.model_selection import train_test_split"
   ]
  },
  {
   "cell_type": "code",
   "execution_count": 2,
   "metadata": {
    "collapsed": false
   },
   "outputs": [],
   "source": [
    "Ynames = ['fLength', 'fWidth', 'fSize', 'fConc', 'fConc1', 'fAsym', \n",
    "             'fM3Long', 'fM3Trans', 'fAlpha', 'fDist', 'identity']\n",
    "featureNames = ['fLength', 'fWidth', 'fSize', 'fConc', 'fConc1', 'fAsym', \n",
    "             'fM3Long', 'fM3Trans', 'fAlpha', 'fDist']\n",
    "filepath = 'magic04.data'\n",
    "data = pd.read_csv(filepath, names=Ynames, header=None)\n",
    "data['identity']= data['identity'].map({'g':1, 'h': 0}).astype(int) \n",
    "X = data[featureNames].values\n",
    "Y = data['identity'].values.astype('int64')"
   ]
  },
  {
   "cell_type": "code",
   "execution_count": 3,
   "metadata": {
    "collapsed": false
   },
   "outputs": [
    {
     "data": {
      "text/plain": [
       "array([[ 0.14728742,  0.15603948, -0.52184543,  0.03376721,  0.44470005,\n",
       "        -0.18634316,  0.71051027, -0.3501063 ,  1.47198751,  0.06881153],\n",
       "       [-0.70645446, -0.61670277, -1.11327189,  1.32801888,  1.03560806,\n",
       "         0.36279579,  0.15252827,  0.19828567,  1.16436309, -1.26377427]])"
      ]
     },
     "execution_count": 3,
     "metadata": {},
     "output_type": "execute_result"
    }
   ],
   "source": [
    "X = StandardScaler().fit_transform(X)\n",
    "train_Features, test_Features, train_Label, test_Label = train_test_split(X, Y, test_size=0.33, random_state=None) \n",
    "train_Features[:2]"
   ]
  },
  {
   "cell_type": "code",
   "execution_count": 4,
   "metadata": {
    "collapsed": false
   },
   "outputs": [
    {
     "data": {
      "text/plain": [
       "array([[-0.80151452, -0.43604884, -1.01487715,  1.00637054,  0.73336721,\n",
       "        -0.27798315, -0.55899859, -0.09668394,  1.58895137, -1.10577041],\n",
       "       [-0.38217715,  0.03840347,  0.16691777, -0.60624734, -0.62671663,\n",
       "         0.66254324,  0.46645736, -0.94137553, -0.91866709,  0.68636552]])"
      ]
     },
     "execution_count": 4,
     "metadata": {},
     "output_type": "execute_result"
    }
   ],
   "source": [
    "test_Features[:2]"
   ]
  },
  {
   "cell_type": "code",
   "execution_count": 5,
   "metadata": {
    "collapsed": false
   },
   "outputs": [
    {
     "data": {
      "text/plain": [
       "array([0, 1, 1, 0])"
      ]
     },
     "execution_count": 5,
     "metadata": {},
     "output_type": "execute_result"
    }
   ],
   "source": [
    "train_Label[:4]"
   ]
  },
  {
   "cell_type": "code",
   "execution_count": 6,
   "metadata": {
    "collapsed": false
   },
   "outputs": [],
   "source": [
    "train_Features = train_Features.reshape((train_Features.shape[0], train_Features.shape[1], 1))\n",
    "test_Features = test_Features.reshape((test_Features.shape[0], test_Features.shape[1], 1))"
   ]
  },
  {
   "cell_type": "code",
   "execution_count": 7,
   "metadata": {
    "collapsed": false
   },
   "outputs": [
    {
     "data": {
      "text/plain": [
       "(12743, 10, 1)"
      ]
     },
     "execution_count": 7,
     "metadata": {},
     "output_type": "execute_result"
    }
   ],
   "source": [
    "train_Features.shape"
   ]
  },
  {
   "cell_type": "code",
   "execution_count": 8,
   "metadata": {
    "collapsed": false
   },
   "outputs": [
    {
     "name": "stderr",
     "output_type": "stream",
     "text": [
      "Using TensorFlow backend.\n"
     ]
    }
   ],
   "source": [
    "from keras.models import Sequential\n",
    "from keras.layers import Dense,Dropout,Flatten,Conv1D,MaxPooling1D\n",
    "from keras.layers.embeddings import Embedding\n",
    "from keras.callbacks import EarlyStopping\n",
    "early_stopping = EarlyStopping(monitor='val_loss', patience=2)"
   ]
  },
  {
   "cell_type": "code",
   "execution_count": 9,
   "metadata": {
    "collapsed": true
   },
   "outputs": [],
   "source": [
    "model = Sequential()"
   ]
  },
  {
   "cell_type": "code",
   "execution_count": 10,
   "metadata": {
    "collapsed": true
   },
   "outputs": [],
   "source": [
    "model.add(Conv1D(filters=10*4,\n",
    "                 kernel_size=3,\n",
    "                 padding='valid',\n",
    "                 input_shape=(10,1), \n",
    "                 activation='relu'))"
   ]
  },
  {
   "cell_type": "code",
   "execution_count": 11,
   "metadata": {
    "collapsed": true
   },
   "outputs": [],
   "source": [
    "model.add(MaxPooling1D(pool_size=1))"
   ]
  },
  {
   "cell_type": "code",
   "execution_count": 12,
   "metadata": {
    "collapsed": true
   },
   "outputs": [],
   "source": [
    "model.add(Conv1D(filters=10*3,\n",
    "                 kernel_size=3,\n",
    "                 padding='valid',\n",
    "                 activation='relu'))"
   ]
  },
  {
   "cell_type": "code",
   "execution_count": 13,
   "metadata": {
    "collapsed": true
   },
   "outputs": [],
   "source": [
    "model.add(MaxPooling1D(pool_size=1))"
   ]
  },
  {
   "cell_type": "code",
   "execution_count": 14,
   "metadata": {
    "collapsed": true
   },
   "outputs": [],
   "source": [
    "model.add(Conv1D(filters=10*2,\n",
    "                 kernel_size=3,\n",
    "                 padding='valid', \n",
    "                 activation='relu'))"
   ]
  },
  {
   "cell_type": "code",
   "execution_count": 15,
   "metadata": {
    "collapsed": true
   },
   "outputs": [],
   "source": [
    "model.add(MaxPooling1D(pool_size=1))"
   ]
  },
  {
   "cell_type": "code",
   "execution_count": 16,
   "metadata": {
    "collapsed": true
   },
   "outputs": [],
   "source": [
    "model.add(Conv1D(filters=10,\n",
    "                 kernel_size=3,\n",
    "                 padding='valid', \n",
    "                 activation='relu'))"
   ]
  },
  {
   "cell_type": "code",
   "execution_count": 17,
   "metadata": {
    "collapsed": false
   },
   "outputs": [],
   "source": [
    "model.add(MaxPooling1D(pool_size=1))"
   ]
  },
  {
   "cell_type": "code",
   "execution_count": 18,
   "metadata": {
    "collapsed": true
   },
   "outputs": [],
   "source": [
    "model.add(Flatten())"
   ]
  },
  {
   "cell_type": "code",
   "execution_count": 19,
   "metadata": {
    "collapsed": true
   },
   "outputs": [],
   "source": [
    "model.add(Dense(10, activation='tanh'))"
   ]
  },
  {
   "cell_type": "code",
   "execution_count": 20,
   "metadata": {
    "collapsed": true
   },
   "outputs": [],
   "source": [
    "model.add(Dense(1,activation='sigmoid'))"
   ]
  },
  {
   "cell_type": "code",
   "execution_count": 21,
   "metadata": {
    "collapsed": false
   },
   "outputs": [
    {
     "name": "stdout",
     "output_type": "stream",
     "text": [
      "_________________________________________________________________\n",
      "Layer (type)                 Output Shape              Param #   \n",
      "=================================================================\n",
      "conv1d_1 (Conv1D)            (None, 8, 40)             160       \n",
      "_________________________________________________________________\n",
      "max_pooling1d_1 (MaxPooling1 (None, 8, 40)             0         \n",
      "_________________________________________________________________\n",
      "conv1d_2 (Conv1D)            (None, 6, 30)             3630      \n",
      "_________________________________________________________________\n",
      "max_pooling1d_2 (MaxPooling1 (None, 6, 30)             0         \n",
      "_________________________________________________________________\n",
      "conv1d_3 (Conv1D)            (None, 4, 20)             1820      \n",
      "_________________________________________________________________\n",
      "max_pooling1d_3 (MaxPooling1 (None, 4, 20)             0         \n",
      "_________________________________________________________________\n",
      "conv1d_4 (Conv1D)            (None, 2, 10)             610       \n",
      "_________________________________________________________________\n",
      "max_pooling1d_4 (MaxPooling1 (None, 2, 10)             0         \n",
      "_________________________________________________________________\n",
      "flatten_1 (Flatten)          (None, 20)                0         \n",
      "_________________________________________________________________\n",
      "dense_1 (Dense)              (None, 10)                210       \n",
      "_________________________________________________________________\n",
      "dense_2 (Dense)              (None, 1)                 11        \n",
      "=================================================================\n",
      "Total params: 6,441\n",
      "Trainable params: 6,441\n",
      "Non-trainable params: 0\n",
      "_________________________________________________________________\n"
     ]
    }
   ],
   "source": [
    "model.summary()"
   ]
  },
  {
   "cell_type": "code",
   "execution_count": 22,
   "metadata": {
    "collapsed": false
   },
   "outputs": [],
   "source": [
    "model.compile(loss='binary_crossentropy', \n",
    "              optimizer='adam', metrics=['accuracy'])"
   ]
  },
  {
   "cell_type": "code",
   "execution_count": 23,
   "metadata": {
    "collapsed": false
   },
   "outputs": [
    {
     "name": "stdout",
     "output_type": "stream",
     "text": [
      "Train on 10194 samples, validate on 2549 samples\n",
      "Epoch 1/30\n",
      "10194/10194 [==============================] - 4s 382us/step - loss: 0.6543 - acc: 0.6836 - val_loss: 0.5937 - val_acc: 0.7258\n",
      "Epoch 2/30\n",
      "10194/10194 [==============================] - 2s 164us/step - loss: 0.5131 - acc: 0.7732 - val_loss: 0.4675 - val_acc: 0.7838\n",
      "Epoch 3/30\n",
      "10194/10194 [==============================] - 2s 236us/step - loss: 0.4232 - acc: 0.8166 - val_loss: 0.4258 - val_acc: 0.8070\n",
      "Epoch 4/30\n",
      "10194/10194 [==============================] - 2s 233us/step - loss: 0.3955 - acc: 0.8288 - val_loss: 0.4073 - val_acc: 0.8137\n",
      "Epoch 5/30\n",
      "10194/10194 [==============================] - 1s 137us/step - loss: 0.3761 - acc: 0.8413 - val_loss: 0.3911 - val_acc: 0.8254\n",
      "Epoch 6/30\n",
      "10194/10194 [==============================] - 1s 121us/step - loss: 0.3632 - acc: 0.8482 - val_loss: 0.3810 - val_acc: 0.8395\n",
      "Epoch 7/30\n",
      "10194/10194 [==============================] - 1s 105us/step - loss: 0.3529 - acc: 0.8534 - val_loss: 0.3727 - val_acc: 0.8411\n",
      "Epoch 8/30\n",
      "10194/10194 [==============================] - 1s 92us/step - loss: 0.3446 - acc: 0.8585 - val_loss: 0.3651 - val_acc: 0.8470\n",
      "Epoch 9/30\n",
      "10194/10194 [==============================] - 1s 94us/step - loss: 0.3419 - acc: 0.8592 - val_loss: 0.3607 - val_acc: 0.8505\n",
      "Epoch 10/30\n",
      "10194/10194 [==============================] - 1s 88us/step - loss: 0.3392 - acc: 0.8618 - val_loss: 0.3601 - val_acc: 0.8505\n",
      "Epoch 11/30\n",
      "10194/10194 [==============================] - 1s 89us/step - loss: 0.3325 - acc: 0.8633 - val_loss: 0.3627 - val_acc: 0.8435\n",
      "Epoch 12/30\n",
      "10194/10194 [==============================] - 1s 96us/step - loss: 0.3307 - acc: 0.8652 - val_loss: 0.3512 - val_acc: 0.8490\n",
      "Epoch 13/30\n",
      "10194/10194 [==============================] - 1s 84us/step - loss: 0.3263 - acc: 0.8687 - val_loss: 0.3534 - val_acc: 0.8521\n",
      "Epoch 14/30\n",
      "10194/10194 [==============================] - 1s 80us/step - loss: 0.3255 - acc: 0.8681 - val_loss: 0.3507 - val_acc: 0.8505\n",
      "Epoch 15/30\n",
      "10194/10194 [==============================] - 1s 85us/step - loss: 0.3221 - acc: 0.8714 - val_loss: 0.3482 - val_acc: 0.8545\n",
      "Epoch 16/30\n",
      "10194/10194 [==============================] - 1s 92us/step - loss: 0.3210 - acc: 0.8718 - val_loss: 0.3487 - val_acc: 0.8533\n",
      "Epoch 17/30\n",
      "10194/10194 [==============================] - 1s 87us/step - loss: 0.3213 - acc: 0.8713 - val_loss: 0.3504 - val_acc: 0.8505\n",
      "Epoch 18/30\n",
      "10194/10194 [==============================] - 1s 86us/step - loss: 0.3249 - acc: 0.8679 - val_loss: 0.3509 - val_acc: 0.8529\n",
      "Epoch 19/30\n",
      "10194/10194 [==============================] - 1s 85us/step - loss: 0.3189 - acc: 0.8723 - val_loss: 0.3445 - val_acc: 0.8568\n",
      "Epoch 20/30\n",
      "10194/10194 [==============================] - 1s 96us/step - loss: 0.3166 - acc: 0.8743 - val_loss: 0.3517 - val_acc: 0.8494\n",
      "Epoch 21/30\n",
      "10194/10194 [==============================] - 1s 93us/step - loss: 0.3174 - acc: 0.8713 - val_loss: 0.3452 - val_acc: 0.8576\n",
      "Epoch 22/30\n",
      "10194/10194 [==============================] - 1s 87us/step - loss: 0.3148 - acc: 0.8704 - val_loss: 0.3534 - val_acc: 0.8505\n",
      "Epoch 23/30\n",
      "10194/10194 [==============================] - 2s 228us/step - loss: 0.3136 - acc: 0.8756 - val_loss: 0.3463 - val_acc: 0.8552\n",
      "Epoch 24/30\n",
      "10194/10194 [==============================] - 2s 211us/step - loss: 0.3129 - acc: 0.8742 - val_loss: 0.3434 - val_acc: 0.8572\n",
      "Epoch 25/30\n",
      "10194/10194 [==============================] - 2s 179us/step - loss: 0.3135 - acc: 0.8736 - val_loss: 0.3472 - val_acc: 0.8537\n",
      "Epoch 26/30\n",
      "10194/10194 [==============================] - 2s 170us/step - loss: 0.3123 - acc: 0.8743 - val_loss: 0.3476 - val_acc: 0.8580\n",
      "Epoch 27/30\n",
      "10194/10194 [==============================] - 2s 201us/step - loss: 0.3136 - acc: 0.8738 - val_loss: 0.3535 - val_acc: 0.8521\n",
      "Epoch 28/30\n",
      "10194/10194 [==============================] - 2s 188us/step - loss: 0.3124 - acc: 0.8734 - val_loss: 0.3442 - val_acc: 0.8592\n",
      "Epoch 29/30\n",
      "10194/10194 [==============================] - 2s 200us/step - loss: 0.3085 - acc: 0.8764 - val_loss: 0.3416 - val_acc: 0.8603\n",
      "Epoch 30/30\n",
      "10194/10194 [==============================] - 2s 198us/step - loss: 0.3061 - acc: 0.8777 - val_loss: 0.3437 - val_acc: 0.8564\n"
     ]
    }
   ],
   "source": [
    "train_history =model.fit(x=train_Features, \n",
    "                         y=train_Label, \n",
    "                         validation_split=0.2, \n",
    "                         epochs=30, \n",
    "                         batch_size=400,verbose=1)"
   ]
  },
  {
   "cell_type": "code",
   "execution_count": 24,
   "metadata": {
    "collapsed": true
   },
   "outputs": [],
   "source": [
    "import matplotlib.pyplot as plt\n",
    "def show_train_history(train_history,train,validation):\n",
    "    plt.plot(train_history.history[train])\n",
    "    plt.plot(train_history.history[validation])\n",
    "    plt.title('Train History')\n",
    "    plt.ylabel(train)\n",
    "    plt.xlabel('Epoch')\n",
    "    plt.legend(['train', 'validation'], loc='upper left')\n",
    "    plt.show()"
   ]
  },
  {
   "cell_type": "code",
   "execution_count": 25,
   "metadata": {
    "collapsed": false
   },
   "outputs": [
    {
     "data": {
      "image/png": "[encoded data removed]",
      "text/plain": [
       "<matplotlib.figure.Figure at 0x7fad660fada0>"
      ]
     },
     "metadata": {},
     "output_type": "display_data"
    }
   ],
   "source": [
    "show_train_history(train_history,'acc','val_acc')"
   ]
  },
  {
   "cell_type": "code",
   "execution_count": 26,
   "metadata": {
    "collapsed": false
   },
   "outputs": [
    {
     "data": {
      "image/png": "[encoded data removed]",
      "text/plain": [
       "<matplotlib.figure.Figure at 0x7fad660faf28>"
      ]
     },
     "metadata": {},
     "output_type": "display_data"
    }
   ],
   "source": [
    "show_train_history(train_history,'loss','val_loss')"
   ]
  },
  {
   "cell_type": "code",
   "execution_count": 27,
   "metadata": {
    "collapsed": false
   },
   "outputs": [
    {
     "name": "stdout",
     "output_type": "stream",
     "text": [
      "6277/6277 [==============================] - 1s 133us/step\n"
     ]
    }
   ],
   "source": [
    "scores = model.evaluate(x=test_Features, \n",
    "                        y=test_Label)"
   ]
  },
  {
   "cell_type": "code",
   "execution_count": 28,
   "metadata": {
    "collapsed": false
   },
   "outputs": [
    {
     "data": {
      "text/plain": [
       "0.8704795284371515"
      ]
     },
     "execution_count": 28,
     "metadata": {},
     "output_type": "execute_result"
    }
   ],
   "source": [
    "scores[1]"
   ]
  }
 ],
 "metadata": {
  "anaconda-cloud": {},
  "kernelspec": {
   "display_name": "Python [default]",
   "language": "python",
   "name": "python3"
  },
  "language_info": {
   "codemirror_mode": {
    "name": "ipython",
    "version": 3
   },
   "file_extension": ".py",
   "mimetype": "text/x-python",
   "name": "python",
   "nbconvert_exporter": "python",
   "pygments_lexer": "ipython3",
   "version": "3.5.2"
  }
 },
 "nbformat": 4,
 "nbformat_minor": 1
}
