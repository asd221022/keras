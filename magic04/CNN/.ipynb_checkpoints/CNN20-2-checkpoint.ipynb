{
 "cells": [
  {
   "cell_type": "code",
   "execution_count": 1,
   "metadata": {
    "collapsed": false
   },
   "outputs": [],
   "source": [
    "import numpy as np\n",
    "import pandas as pd\n",
    "from sklearn.preprocessing import StandardScaler\n",
    "from sklearn.model_selection import train_test_split"
   ]
  },
  {
   "cell_type": "code",
   "execution_count": 2,
   "metadata": {
    "collapsed": false
   },
   "outputs": [],
   "source": [
    "Ynames = ['fLength', 'fWidth', 'fSize', 'fConc', 'fConc1', 'fAsym', \n",
    "             'fM3Long', 'fM3Trans', 'fAlpha', 'fDist', 'identity']\n",
    "featureNames = ['fLength', 'fWidth', 'fSize', 'fConc', 'fConc1', 'fAsym', \n",
    "             'fM3Long', 'fM3Trans', 'fAlpha', 'fDist']\n",
    "filepath = 'magic04.data'\n",
    "data = pd.read_csv(filepath, names=Ynames, header=None)\n",
    "data['identity']= data['identity'].map({'g':1, 'h': 0}).astype(int) \n",
    "X = data[featureNames].values\n",
    "Y = data['identity'].values.astype('int64')"
   ]
  },
  {
   "cell_type": "code",
   "execution_count": 3,
   "metadata": {
    "collapsed": false
   },
   "outputs": [
    {
     "data": {
      "text/plain": [
       "array([[-0.4887565 , -0.24623739, -0.26305668, -0.54388695, -0.65386401,\n",
       "         0.41403682,  0.12078633,  0.54811224, -0.59490272, -0.24488251],\n",
       "       [-0.9484515 , -0.60383318, -1.38856557,  2.07306147,  1.58489009,\n",
       "        -0.17908189, -0.1393552 ,  0.55538168,  2.01922101,  0.3348325 ]])"
      ]
     },
     "execution_count": 3,
     "metadata": {},
     "output_type": "execute_result"
    }
   ],
   "source": [
    "X = StandardScaler().fit_transform(X)\n",
    "train_Features, test_Features, train_Label, test_Label = train_test_split(X, Y, test_size=0.33, random_state=None) \n",
    "train_Features[:2]"
   ]
  },
  {
   "cell_type": "code",
   "execution_count": 4,
   "metadata": {
    "collapsed": false
   },
   "outputs": [
    {
     "data": {
      "text/plain": [
       "array([[-0.70098988, -0.25499699, -0.90738354,  0.27008028,  0.00219772,\n",
       "         0.30534746,  0.1672345 , -0.82785403,  0.82017574, -0.87690596],\n",
       "       [ 0.13611277, -0.22681036,  1.02051861, -0.66532561, -0.65567384,\n",
       "         1.04777068,  0.96810076,  0.72764935, -1.00889066,  0.58616456]])"
      ]
     },
     "execution_count": 4,
     "metadata": {},
     "output_type": "execute_result"
    }
   ],
   "source": [
    "test_Features[:2]"
   ]
  },
  {
   "cell_type": "code",
   "execution_count": 5,
   "metadata": {
    "collapsed": false
   },
   "outputs": [
    {
     "data": {
      "text/plain": [
       "array([1, 1, 0, 1])"
      ]
     },
     "execution_count": 5,
     "metadata": {},
     "output_type": "execute_result"
    }
   ],
   "source": [
    "train_Label[:4]"
   ]
  },
  {
   "cell_type": "code",
   "execution_count": 6,
   "metadata": {
    "collapsed": false
   },
   "outputs": [],
   "source": [
    "train_Features = train_Features.reshape((train_Features.shape[0], train_Features.shape[1], 1))\n",
    "test_Features = test_Features.reshape((test_Features.shape[0], test_Features.shape[1], 1))"
   ]
  },
  {
   "cell_type": "code",
   "execution_count": 7,
   "metadata": {
    "collapsed": false
   },
   "outputs": [
    {
     "data": {
      "text/plain": [
       "(12743, 10, 1)"
      ]
     },
     "execution_count": 7,
     "metadata": {},
     "output_type": "execute_result"
    }
   ],
   "source": [
    "train_Features.shape"
   ]
  },
  {
   "cell_type": "code",
   "execution_count": 8,
   "metadata": {
    "collapsed": false
   },
   "outputs": [
    {
     "name": "stderr",
     "output_type": "stream",
     "text": [
      "Using TensorFlow backend.\n"
     ]
    }
   ],
   "source": [
    "from keras.models import Sequential\n",
    "from keras.layers import Dense,Dropout,Flatten,Conv1D,MaxPooling1D\n",
    "from keras.layers.embeddings import Embedding\n",
    "from keras.callbacks import EarlyStopping\n",
    "early_stopping = EarlyStopping(monitor='val_loss', patience=2)"
   ]
  },
  {
   "cell_type": "code",
   "execution_count": 9,
   "metadata": {
    "collapsed": true
   },
   "outputs": [],
   "source": [
    "model = Sequential()"
   ]
  },
  {
   "cell_type": "code",
   "execution_count": 10,
   "metadata": {
    "collapsed": true
   },
   "outputs": [],
   "source": [
    "model.add(Conv1D(filters=20*2,\n",
    "                 kernel_size=3,\n",
    "                 padding='valid',\n",
    "                 input_shape=(10,1), \n",
    "                 activation='relu'))"
   ]
  },
  {
   "cell_type": "code",
   "execution_count": 11,
   "metadata": {
    "collapsed": true
   },
   "outputs": [],
   "source": [
    "model.add(MaxPooling1D(pool_size=1))"
   ]
  },
  {
   "cell_type": "code",
   "execution_count": 12,
   "metadata": {
    "collapsed": true
   },
   "outputs": [],
   "source": [
    "model.add(Conv1D(filters=20,\n",
    "                 kernel_size=3,\n",
    "                 padding='valid',\n",
    "                 activation='relu'))"
   ]
  },
  {
   "cell_type": "code",
   "execution_count": 13,
   "metadata": {
    "collapsed": false
   },
   "outputs": [],
   "source": [
    "model.add(MaxPooling1D(pool_size=1))"
   ]
  },
  {
   "cell_type": "code",
   "execution_count": 14,
   "metadata": {
    "collapsed": true
   },
   "outputs": [],
   "source": [
    "model.add(Flatten())"
   ]
  },
  {
   "cell_type": "code",
   "execution_count": 15,
   "metadata": {
    "collapsed": true
   },
   "outputs": [],
   "source": [
    "model.add(Dense(10, activation='tanh'))"
   ]
  },
  {
   "cell_type": "code",
   "execution_count": 16,
   "metadata": {
    "collapsed": true
   },
   "outputs": [],
   "source": [
    "model.add(Dense(1,activation='sigmoid'))"
   ]
  },
  {
   "cell_type": "code",
   "execution_count": 17,
   "metadata": {
    "collapsed": false
   },
   "outputs": [
    {
     "name": "stdout",
     "output_type": "stream",
     "text": [
      "_________________________________________________________________\n",
      "Layer (type)                 Output Shape              Param #   \n",
      "=================================================================\n",
      "conv1d_1 (Conv1D)            (None, 8, 40)             160       \n",
      "_________________________________________________________________\n",
      "max_pooling1d_1 (MaxPooling1 (None, 8, 40)             0         \n",
      "_________________________________________________________________\n",
      "conv1d_2 (Conv1D)            (None, 6, 20)             2420      \n",
      "_________________________________________________________________\n",
      "max_pooling1d_2 (MaxPooling1 (None, 6, 20)             0         \n",
      "_________________________________________________________________\n",
      "flatten_1 (Flatten)          (None, 120)               0         \n",
      "_________________________________________________________________\n",
      "dense_1 (Dense)              (None, 10)                1210      \n",
      "_________________________________________________________________\n",
      "dense_2 (Dense)              (None, 1)                 11        \n",
      "=================================================================\n",
      "Total params: 3,801\n",
      "Trainable params: 3,801\n",
      "Non-trainable params: 0\n",
      "_________________________________________________________________\n"
     ]
    }
   ],
   "source": [
    "model.summary()"
   ]
  },
  {
   "cell_type": "code",
   "execution_count": 18,
   "metadata": {
    "collapsed": false
   },
   "outputs": [],
   "source": [
    "model.compile(loss='binary_crossentropy', \n",
    "              optimizer='adam', metrics=['accuracy'])"
   ]
  },
  {
   "cell_type": "code",
   "execution_count": 19,
   "metadata": {
    "collapsed": false
   },
   "outputs": [
    {
     "name": "stdout",
     "output_type": "stream",
     "text": [
      "Train on 10194 samples, validate on 2549 samples\n",
      "Epoch 1/30\n",
      "10194/10194 [==============================] - 4s 402us/step - loss: 0.6130 - acc: 0.7059 - val_loss: 0.5433 - val_acc: 0.7630\n",
      "Epoch 2/30\n",
      "10194/10194 [==============================] - 1s 117us/step - loss: 0.4952 - acc: 0.7847 - val_loss: 0.4482 - val_acc: 0.7980\n",
      "Epoch 3/30\n",
      "10194/10194 [==============================] - 1s 89us/step - loss: 0.4292 - acc: 0.8084 - val_loss: 0.4031 - val_acc: 0.8164\n",
      "Epoch 4/30\n",
      "10194/10194 [==============================] - 1s 53us/step - loss: 0.4002 - acc: 0.8217 - val_loss: 0.3802 - val_acc: 0.8344\n",
      "Epoch 5/30\n",
      "10194/10194 [==============================] - 1s 53us/step - loss: 0.3830 - acc: 0.8325 - val_loss: 0.3636 - val_acc: 0.8466\n",
      "Epoch 6/30\n",
      "10194/10194 [==============================] - 1s 53us/step - loss: 0.3706 - acc: 0.8411 - val_loss: 0.3524 - val_acc: 0.8533\n",
      "Epoch 7/30\n",
      "10194/10194 [==============================] - 1s 54us/step - loss: 0.3612 - acc: 0.8476 - val_loss: 0.3451 - val_acc: 0.8537\n",
      "Epoch 8/30\n",
      "10194/10194 [==============================] - 1s 54us/step - loss: 0.3527 - acc: 0.8514 - val_loss: 0.3361 - val_acc: 0.8599\n",
      "Epoch 9/30\n",
      "10194/10194 [==============================] - 1s 54us/step - loss: 0.3463 - acc: 0.8556 - val_loss: 0.3328 - val_acc: 0.8623\n",
      "Epoch 10/30\n",
      "10194/10194 [==============================] - 1s 56us/step - loss: 0.3413 - acc: 0.8574 - val_loss: 0.3288 - val_acc: 0.8647\n",
      "Epoch 11/30\n",
      "10194/10194 [==============================] - 1s 78us/step - loss: 0.3379 - acc: 0.8598 - val_loss: 0.3254 - val_acc: 0.8658\n",
      "Epoch 12/30\n",
      "10194/10194 [==============================] - 2s 174us/step - loss: 0.3341 - acc: 0.8600 - val_loss: 0.3216 - val_acc: 0.8678\n",
      "Epoch 13/30\n",
      "10194/10194 [==============================] - 2s 162us/step - loss: 0.3328 - acc: 0.8624 - val_loss: 0.3275 - val_acc: 0.8611\n",
      "Epoch 14/30\n",
      "10194/10194 [==============================] - 1s 67us/step - loss: 0.3298 - acc: 0.8625 - val_loss: 0.3185 - val_acc: 0.8666\n",
      "Epoch 15/30\n",
      "10194/10194 [==============================] - 1s 85us/step - loss: 0.3271 - acc: 0.8646 - val_loss: 0.3168 - val_acc: 0.8713\n",
      "Epoch 16/30\n",
      "10194/10194 [==============================] - 1s 63us/step - loss: 0.3253 - acc: 0.8638 - val_loss: 0.3153 - val_acc: 0.8713\n",
      "Epoch 17/30\n",
      "10194/10194 [==============================] - 1s 73us/step - loss: 0.3269 - acc: 0.8639 - val_loss: 0.3164 - val_acc: 0.8682\n",
      "Epoch 18/30\n",
      "10194/10194 [==============================] - 1s 66us/step - loss: 0.3232 - acc: 0.8653 - val_loss: 0.3146 - val_acc: 0.8713\n",
      "Epoch 19/30\n",
      "10194/10194 [==============================] - 1s 66us/step - loss: 0.3212 - acc: 0.8651 - val_loss: 0.3132 - val_acc: 0.8713\n",
      "Epoch 20/30\n",
      "10194/10194 [==============================] - 1s 59us/step - loss: 0.3211 - acc: 0.8660 - val_loss: 0.3134 - val_acc: 0.8686\n",
      "Epoch 21/30\n",
      "10194/10194 [==============================] - 1s 59us/step - loss: 0.3196 - acc: 0.8668 - val_loss: 0.3132 - val_acc: 0.8682\n",
      "Epoch 22/30\n",
      "10194/10194 [==============================] - 1s 60us/step - loss: 0.3181 - acc: 0.8693 - val_loss: 0.3117 - val_acc: 0.8741\n",
      "Epoch 23/30\n",
      "10194/10194 [==============================] - 1s 57us/step - loss: 0.3191 - acc: 0.8664 - val_loss: 0.3115 - val_acc: 0.8670\n",
      "Epoch 24/30\n",
      "10194/10194 [==============================] - 1s 63us/step - loss: 0.3166 - acc: 0.8688 - val_loss: 0.3119 - val_acc: 0.8713\n",
      "Epoch 25/30\n",
      "10194/10194 [==============================] - 1s 72us/step - loss: 0.3166 - acc: 0.8702 - val_loss: 0.3093 - val_acc: 0.8694\n",
      "Epoch 26/30\n",
      "10194/10194 [==============================] - 1s 143us/step - loss: 0.3150 - acc: 0.8692 - val_loss: 0.3110 - val_acc: 0.8686\n",
      "Epoch 27/30\n",
      "10194/10194 [==============================] - 2s 164us/step - loss: 0.3148 - acc: 0.8705 - val_loss: 0.3095 - val_acc: 0.8717\n",
      "Epoch 28/30\n",
      "10194/10194 [==============================] - 1s 104us/step - loss: 0.3134 - acc: 0.8700 - val_loss: 0.3105 - val_acc: 0.8709\n",
      "Epoch 29/30\n",
      "10194/10194 [==============================] - 1s 61us/step - loss: 0.3121 - acc: 0.8707 - val_loss: 0.3099 - val_acc: 0.8717\n",
      "Epoch 30/30\n",
      "10194/10194 [==============================] - 1s 111us/step - loss: 0.3118 - acc: 0.8691 - val_loss: 0.3082 - val_acc: 0.8737\n"
     ]
    }
   ],
   "source": [
    "train_history =model.fit(x=train_Features, \n",
    "                         y=train_Label, \n",
    "                         validation_split=0.2, \n",
    "                         epochs=30, \n",
    "                         batch_size=400,verbose=1)"
   ]
  },
  {
   "cell_type": "code",
   "execution_count": 20,
   "metadata": {
    "collapsed": true
   },
   "outputs": [],
   "source": [
    "import matplotlib.pyplot as plt\n",
    "def show_train_history(train_history,train,validation):\n",
    "    plt.plot(train_history.history[train])\n",
    "    plt.plot(train_history.history[validation])\n",
    "    plt.title('Train History')\n",
    "    plt.ylabel(train)\n",
    "    plt.xlabel('Epoch')\n",
    "    plt.legend(['train', 'validation'], loc='upper left')\n",
    "    plt.show()"
   ]
  },
  {
   "cell_type": "code",
   "execution_count": 21,
   "metadata": {
    "collapsed": false
   },
   "outputs": [
    {
     "data": {
      "image/png": "[encoded data removed]",
      "text/plain": [
       "<matplotlib.figure.Figure at 0x7f1a94d48710>"
      ]
     },
     "metadata": {},
     "output_type": "display_data"
    }
   ],
   "source": [
    "show_train_history(train_history,'acc','val_acc')"
   ]
  },
  {
   "cell_type": "code",
   "execution_count": 22,
   "metadata": {
    "collapsed": false
   },
   "outputs": [
    {
     "data": {
      "image/png": "[encoded data removed]",
      "text/plain": [
       "<matplotlib.figure.Figure at 0x7f1a958456d8>"
      ]
     },
     "metadata": {},
     "output_type": "display_data"
    }
   ],
   "source": [
    "show_train_history(train_history,'loss','val_loss')"
   ]
  },
  {
   "cell_type": "code",
   "execution_count": 23,
   "metadata": {
    "collapsed": false
   },
   "outputs": [
    {
     "name": "stdout",
     "output_type": "stream",
     "text": [
      "6277/6277 [==============================] - 1s 183us/step\n"
     ]
    }
   ],
   "source": [
    "scores = model.evaluate(x=test_Features, \n",
    "                        y=test_Label)"
   ]
  },
  {
   "cell_type": "code",
   "execution_count": 24,
   "metadata": {
    "collapsed": false
   },
   "outputs": [
    {
     "data": {
      "text/plain": [
       "0.8653815517156618"
      ]
     },
     "execution_count": 24,
     "metadata": {},
     "output_type": "execute_result"
    }
   ],
   "source": [
    "scores[1]"
   ]
  }
 ],
 "metadata": {
  "anaconda-cloud": {},
  "kernelspec": {
   "display_name": "Python [default]",
   "language": "python",
   "name": "python3"
  },
  "language_info": {
   "codemirror_mode": {
    "name": "ipython",
    "version": 3
   },
   "file_extension": ".py",
   "mimetype": "text/x-python",
   "name": "python",
   "nbconvert_exporter": "python",
   "pygments_lexer": "ipython3",
   "version": "3.5.2"
  }
 },
 "nbformat": 4,
 "nbformat_minor": 1
}
