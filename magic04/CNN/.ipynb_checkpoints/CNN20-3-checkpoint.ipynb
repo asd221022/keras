{
 "cells": [
  {
   "cell_type": "code",
   "execution_count": 1,
   "metadata": {
    "collapsed": false
   },
   "outputs": [],
   "source": [
    "import numpy as np\n",
    "import pandas as pd\n",
    "from sklearn.preprocessing import StandardScaler\n",
    "from sklearn.model_selection import train_test_split"
   ]
  },
  {
   "cell_type": "code",
   "execution_count": 2,
   "metadata": {
    "collapsed": false
   },
   "outputs": [],
   "source": [
    "Ynames = ['fLength', 'fWidth', 'fSize', 'fConc', 'fConc1', 'fAsym', \n",
    "             'fM3Long', 'fM3Trans', 'fAlpha', 'fDist', 'identity']\n",
    "featureNames = ['fLength', 'fWidth', 'fSize', 'fConc', 'fConc1', 'fAsym', \n",
    "             'fM3Long', 'fM3Trans', 'fAlpha', 'fDist']\n",
    "filepath = 'magic04.data'\n",
    "data = pd.read_csv(filepath, names=Ynames, header=None)\n",
    "data['identity']= data['identity'].map({'g':1, 'h': 0}).astype(int) \n",
    "X = data[featureNames].values\n",
    "Y = data['identity'].values.astype('int64')"
   ]
  },
  {
   "cell_type": "code",
   "execution_count": 3,
   "metadata": {
    "collapsed": false
   },
   "outputs": [
    {
     "data": {
      "text/plain": [
       "array([[-0.53207657, -0.34802216, -0.19343975, -0.23208499, -0.37967545,\n",
       "         0.14653015,  0.12622372, -0.69266343, -0.92930957,  0.27966042],\n",
       "       [-0.45077355, -0.27284326, -0.23512526, -0.42080723, -0.53441553,\n",
       "        -0.37632533, -0.51683092,  0.28694988, -0.96099183,  0.08301871]])"
      ]
     },
     "execution_count": 3,
     "metadata": {},
     "output_type": "execute_result"
    }
   ],
   "source": [
    "X = StandardScaler().fit_transform(X)\n",
    "train_Features, test_Features, train_Label, test_Label = train_test_split(X, Y, test_size=0.33, random_state=None) \n",
    "train_Features[:2]"
   ]
  },
  {
   "cell_type": "code",
   "execution_count": 4,
   "metadata": {
    "collapsed": false
   },
   "outputs": [
    {
     "data": {
      "text/plain": [
       "array([[-0.32042387, -0.66524308,  0.03318556,  0.70605601,  0.92339888,\n",
       "         0.51138921,  0.30583783, -0.17438637,  0.2600548 , -0.88328895],\n",
       "       [-0.83814019, -0.61852337, -0.79946672,  1.06490178,  0.69174122,\n",
       "         0.02991403, -0.03643312, -0.24786349,  0.30327216, -0.51188435]])"
      ]
     },
     "execution_count": 4,
     "metadata": {},
     "output_type": "execute_result"
    }
   ],
   "source": [
    "test_Features[:2]"
   ]
  },
  {
   "cell_type": "code",
   "execution_count": 5,
   "metadata": {
    "collapsed": false
   },
   "outputs": [
    {
     "data": {
      "text/plain": [
       "array([1, 1, 0, 0])"
      ]
     },
     "execution_count": 5,
     "metadata": {},
     "output_type": "execute_result"
    }
   ],
   "source": [
    "train_Label[:4]"
   ]
  },
  {
   "cell_type": "code",
   "execution_count": 6,
   "metadata": {
    "collapsed": false
   },
   "outputs": [],
   "source": [
    "train_Features = train_Features.reshape((train_Features.shape[0], train_Features.shape[1], 1))\n",
    "test_Features = test_Features.reshape((test_Features.shape[0], test_Features.shape[1], 1))"
   ]
  },
  {
   "cell_type": "code",
   "execution_count": 7,
   "metadata": {
    "collapsed": false
   },
   "outputs": [
    {
     "data": {
      "text/plain": [
       "(12743, 10, 1)"
      ]
     },
     "execution_count": 7,
     "metadata": {},
     "output_type": "execute_result"
    }
   ],
   "source": [
    "train_Features.shape"
   ]
  },
  {
   "cell_type": "code",
   "execution_count": 8,
   "metadata": {
    "collapsed": false
   },
   "outputs": [
    {
     "name": "stderr",
     "output_type": "stream",
     "text": [
      "Using TensorFlow backend.\n"
     ]
    }
   ],
   "source": [
    "from keras.models import Sequential\n",
    "from keras.layers import Dense,Dropout,Flatten,Conv1D,MaxPooling1D\n",
    "from keras.layers.embeddings import Embedding\n",
    "from keras.callbacks import EarlyStopping\n",
    "early_stopping = EarlyStopping(monitor='val_loss', patience=2)"
   ]
  },
  {
   "cell_type": "code",
   "execution_count": 9,
   "metadata": {
    "collapsed": true
   },
   "outputs": [],
   "source": [
    "model = Sequential()"
   ]
  },
  {
   "cell_type": "code",
   "execution_count": 10,
   "metadata": {
    "collapsed": true
   },
   "outputs": [],
   "source": [
    "model.add(Conv1D(filters=20*3,\n",
    "                 kernel_size=1,\n",
    "                 padding='valid',\n",
    "                 input_shape=(10,1), \n",
    "                 activation='relu'))"
   ]
  },
  {
   "cell_type": "code",
   "execution_count": 11,
   "metadata": {
    "collapsed": true
   },
   "outputs": [],
   "source": [
    "model.add(MaxPooling1D(pool_size=1))"
   ]
  },
  {
   "cell_type": "code",
   "execution_count": 12,
   "metadata": {
    "collapsed": true
   },
   "outputs": [],
   "source": [
    "model.add(Conv1D(filters=20*2,\n",
    "                 kernel_size=1,\n",
    "                 padding='valid', \n",
    "                 activation='relu'))"
   ]
  },
  {
   "cell_type": "code",
   "execution_count": 13,
   "metadata": {
    "collapsed": true
   },
   "outputs": [],
   "source": [
    "model.add(MaxPooling1D(pool_size=1))"
   ]
  },
  {
   "cell_type": "code",
   "execution_count": 14,
   "metadata": {
    "collapsed": true
   },
   "outputs": [],
   "source": [
    "model.add(Conv1D(filters=20,\n",
    "                 kernel_size=1,\n",
    "                 padding='valid',\n",
    "                 activation='relu'))"
   ]
  },
  {
   "cell_type": "code",
   "execution_count": 15,
   "metadata": {
    "collapsed": false
   },
   "outputs": [],
   "source": [
    "model.add(MaxPooling1D(pool_size=1))"
   ]
  },
  {
   "cell_type": "code",
   "execution_count": 16,
   "metadata": {
    "collapsed": true
   },
   "outputs": [],
   "source": [
    "model.add(Flatten())"
   ]
  },
  {
   "cell_type": "code",
   "execution_count": 17,
   "metadata": {
    "collapsed": true
   },
   "outputs": [],
   "source": [
    "model.add(Dense(10, activation='tanh'))"
   ]
  },
  {
   "cell_type": "code",
   "execution_count": 18,
   "metadata": {
    "collapsed": true
   },
   "outputs": [],
   "source": [
    "model.add(Dense(1,activation='sigmoid'))"
   ]
  },
  {
   "cell_type": "code",
   "execution_count": 19,
   "metadata": {
    "collapsed": false
   },
   "outputs": [
    {
     "name": "stdout",
     "output_type": "stream",
     "text": [
      "_________________________________________________________________\n",
      "Layer (type)                 Output Shape              Param #   \n",
      "=================================================================\n",
      "conv1d_1 (Conv1D)            (None, 10, 60)            120       \n",
      "_________________________________________________________________\n",
      "max_pooling1d_1 (MaxPooling1 (None, 10, 60)            0         \n",
      "_________________________________________________________________\n",
      "conv1d_2 (Conv1D)            (None, 10, 40)            2440      \n",
      "_________________________________________________________________\n",
      "max_pooling1d_2 (MaxPooling1 (None, 10, 40)            0         \n",
      "_________________________________________________________________\n",
      "conv1d_3 (Conv1D)            (None, 10, 20)            820       \n",
      "_________________________________________________________________\n",
      "max_pooling1d_3 (MaxPooling1 (None, 10, 20)            0         \n",
      "_________________________________________________________________\n",
      "flatten_1 (Flatten)          (None, 200)               0         \n",
      "_________________________________________________________________\n",
      "dense_1 (Dense)              (None, 10)                2010      \n",
      "_________________________________________________________________\n",
      "dense_2 (Dense)              (None, 1)                 11        \n",
      "=================================================================\n",
      "Total params: 5,401\n",
      "Trainable params: 5,401\n",
      "Non-trainable params: 0\n",
      "_________________________________________________________________\n"
     ]
    }
   ],
   "source": [
    "model.summary()"
   ]
  },
  {
   "cell_type": "code",
   "execution_count": 20,
   "metadata": {
    "collapsed": false
   },
   "outputs": [],
   "source": [
    "model.compile(loss='binary_crossentropy', \n",
    "              optimizer='adam', metrics=['accuracy'])"
   ]
  },
  {
   "cell_type": "code",
   "execution_count": 21,
   "metadata": {
    "collapsed": false
   },
   "outputs": [
    {
     "name": "stdout",
     "output_type": "stream",
     "text": [
      "Train on 10194 samples, validate on 2549 samples\n",
      "Epoch 1/30\n",
      "10194/10194 [==============================] - 4s 356us/step - loss: 0.6319 - acc: 0.6775 - val_loss: 0.5639 - val_acc: 0.7321\n",
      "Epoch 2/30\n",
      "10194/10194 [==============================] - 1s 96us/step - loss: 0.5139 - acc: 0.7484 - val_loss: 0.4457 - val_acc: 0.7936\n",
      "Epoch 3/30\n",
      "10194/10194 [==============================] - 1s 72us/step - loss: 0.4250 - acc: 0.8143 - val_loss: 0.3910 - val_acc: 0.8301\n",
      "Epoch 4/30\n",
      "10194/10194 [==============================] - 1s 92us/step - loss: 0.3883 - acc: 0.8330 - val_loss: 0.3739 - val_acc: 0.8443\n",
      "Epoch 5/30\n",
      "10194/10194 [==============================] - 2s 182us/step - loss: 0.3736 - acc: 0.8433 - val_loss: 0.3650 - val_acc: 0.8446\n",
      "Epoch 6/30\n",
      "10194/10194 [==============================] - 1s 69us/step - loss: 0.3641 - acc: 0.8480 - val_loss: 0.3579 - val_acc: 0.8482\n",
      "Epoch 7/30\n",
      "10194/10194 [==============================] - 1s 70us/step - loss: 0.3581 - acc: 0.8515 - val_loss: 0.3617 - val_acc: 0.8494\n",
      "Epoch 8/30\n",
      "10194/10194 [==============================] - 1s 98us/step - loss: 0.3553 - acc: 0.8514 - val_loss: 0.3529 - val_acc: 0.8533\n",
      "Epoch 9/30\n",
      "10194/10194 [==============================] - 1s 75us/step - loss: 0.3495 - acc: 0.8560 - val_loss: 0.3477 - val_acc: 0.8545\n",
      "Epoch 10/30\n",
      "10194/10194 [==============================] - 1s 132us/step - loss: 0.3464 - acc: 0.8534 - val_loss: 0.3433 - val_acc: 0.8592\n",
      "Epoch 11/30\n",
      "10194/10194 [==============================] - 1s 89us/step - loss: 0.3426 - acc: 0.8574 - val_loss: 0.3409 - val_acc: 0.8552\n",
      "Epoch 12/30\n",
      "10194/10194 [==============================] - 1s 114us/step - loss: 0.3401 - acc: 0.8575 - val_loss: 0.3395 - val_acc: 0.8564\n",
      "Epoch 13/30\n",
      "10194/10194 [==============================] - 1s 108us/step - loss: 0.3386 - acc: 0.8591 - val_loss: 0.3376 - val_acc: 0.8572\n",
      "Epoch 14/30\n",
      "10194/10194 [==============================] - 2s 157us/step - loss: 0.3350 - acc: 0.8581 - val_loss: 0.3362 - val_acc: 0.8576\n",
      "Epoch 15/30\n",
      "10194/10194 [==============================] - 2s 194us/step - loss: 0.3334 - acc: 0.8595 - val_loss: 0.3331 - val_acc: 0.8580\n",
      "Epoch 16/30\n",
      "10194/10194 [==============================] - 2s 216us/step - loss: 0.3312 - acc: 0.8604 - val_loss: 0.3312 - val_acc: 0.8584\n",
      "Epoch 17/30\n",
      "10194/10194 [==============================] - 2s 178us/step - loss: 0.3315 - acc: 0.8603 - val_loss: 0.3340 - val_acc: 0.8564\n",
      "Epoch 18/30\n",
      "10194/10194 [==============================] - 2s 200us/step - loss: 0.3306 - acc: 0.8609 - val_loss: 0.3338 - val_acc: 0.8596\n",
      "Epoch 19/30\n",
      "10194/10194 [==============================] - 2s 184us/step - loss: 0.3301 - acc: 0.8619 - val_loss: 0.3275 - val_acc: 0.8603\n",
      "Epoch 20/30\n",
      "10194/10194 [==============================] - 2s 213us/step - loss: 0.3265 - acc: 0.8643 - val_loss: 0.3260 - val_acc: 0.8603\n",
      "Epoch 21/30\n",
      "10194/10194 [==============================] - 2s 191us/step - loss: 0.3253 - acc: 0.8644 - val_loss: 0.3267 - val_acc: 0.8615\n",
      "Epoch 22/30\n",
      "10194/10194 [==============================] - 1s 59us/step - loss: 0.3236 - acc: 0.8644 - val_loss: 0.3273 - val_acc: 0.8580\n",
      "Epoch 23/30\n",
      "10194/10194 [==============================] - 1s 85us/step - loss: 0.3226 - acc: 0.8632 - val_loss: 0.3236 - val_acc: 0.8599\n",
      "Epoch 24/30\n",
      "10194/10194 [==============================] - 2s 187us/step - loss: 0.3221 - acc: 0.8631 - val_loss: 0.3231 - val_acc: 0.8627\n",
      "Epoch 25/30\n",
      "10194/10194 [==============================] - 2s 199us/step - loss: 0.3220 - acc: 0.8649 - val_loss: 0.3226 - val_acc: 0.8588\n",
      "Epoch 26/30\n",
      "10194/10194 [==============================] - 1s 114us/step - loss: 0.3202 - acc: 0.8652 - val_loss: 0.3244 - val_acc: 0.8588\n",
      "Epoch 27/30\n",
      "10194/10194 [==============================] - 2s 237us/step - loss: 0.3192 - acc: 0.8647 - val_loss: 0.3202 - val_acc: 0.8619\n",
      "Epoch 28/30\n",
      "10194/10194 [==============================] - 2s 224us/step - loss: 0.3181 - acc: 0.8678 - val_loss: 0.3195 - val_acc: 0.8627\n",
      "Epoch 29/30\n",
      "10194/10194 [==============================] - 2s 243us/step - loss: 0.3175 - acc: 0.8683 - val_loss: 0.3205 - val_acc: 0.8615\n",
      "Epoch 30/30\n",
      "10194/10194 [==============================] - 2s 231us/step - loss: 0.3156 - acc: 0.8673 - val_loss: 0.3188 - val_acc: 0.8631\n"
     ]
    }
   ],
   "source": [
    "train_history =model.fit(x=train_Features, \n",
    "                         y=train_Label, \n",
    "                         validation_split=0.2, \n",
    "                         epochs=30, \n",
    "                         batch_size=400,verbose=1)"
   ]
  },
  {
   "cell_type": "code",
   "execution_count": 22,
   "metadata": {
    "collapsed": true
   },
   "outputs": [],
   "source": [
    "import matplotlib.pyplot as plt\n",
    "def show_train_history(train_history,train,validation):\n",
    "    plt.plot(train_history.history[train])\n",
    "    plt.plot(train_history.history[validation])\n",
    "    plt.title('Train History')\n",
    "    plt.ylabel(train)\n",
    "    plt.xlabel('Epoch')\n",
    "    plt.legend(['train', 'validation'], loc='upper left')\n",
    "    plt.show()"
   ]
  },
  {
   "cell_type": "code",
   "execution_count": 23,
   "metadata": {
    "collapsed": false
   },
   "outputs": [
    {
     "data": {
      "image/png": "[encoded data removed]",
      "text/plain": [
       "<matplotlib.figure.Figure at 0x7fef04b34080>"
      ]
     },
     "metadata": {},
     "output_type": "display_data"
    }
   ],
   "source": [
    "show_train_history(train_history,'acc','val_acc')"
   ]
  },
  {
   "cell_type": "code",
   "execution_count": 24,
   "metadata": {
    "collapsed": false
   },
   "outputs": [
    {
     "data": {
      "image/png": "[encoded data removed]",
      "text/plain": [
       "<matplotlib.figure.Figure at 0x7fef04b345f8>"
      ]
     },
     "metadata": {},
     "output_type": "display_data"
    }
   ],
   "source": [
    "show_train_history(train_history,'loss','val_loss')"
   ]
  },
  {
   "cell_type": "code",
   "execution_count": 25,
   "metadata": {
    "collapsed": false
   },
   "outputs": [
    {
     "name": "stdout",
     "output_type": "stream",
     "text": [
      "6277/6277 [==============================] - 1s 111us/step\n"
     ]
    }
   ],
   "source": [
    "scores = model.evaluate(x=test_Features, \n",
    "                        y=test_Label)"
   ]
  },
  {
   "cell_type": "code",
   "execution_count": 26,
   "metadata": {
    "collapsed": false
   },
   "outputs": [
    {
     "data": {
      "text/plain": [
       "0.8723912697243277"
      ]
     },
     "execution_count": 26,
     "metadata": {},
     "output_type": "execute_result"
    }
   ],
   "source": [
    "scores[1]"
   ]
  }
 ],
 "metadata": {
  "anaconda-cloud": {},
  "kernelspec": {
   "display_name": "Python [default]",
   "language": "python",
   "name": "python3"
  },
  "language_info": {
   "codemirror_mode": {
    "name": "ipython",
    "version": 3
   },
   "file_extension": ".py",
   "mimetype": "text/x-python",
   "name": "python",
   "nbconvert_exporter": "python",
   "pygments_lexer": "ipython3",
   "version": "3.5.2"
  }
 },
 "nbformat": 4,
 "nbformat_minor": 1
}
