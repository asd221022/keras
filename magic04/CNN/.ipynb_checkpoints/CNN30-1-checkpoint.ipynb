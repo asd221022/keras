{
 "cells": [
  {
   "cell_type": "code",
   "execution_count": 1,
   "metadata": {
    "collapsed": false
   },
   "outputs": [],
   "source": [
    "import numpy as np\n",
    "import pandas as pd\n",
    "from sklearn.preprocessing import StandardScaler\n",
    "from sklearn.model_selection import train_test_split"
   ]
  },
  {
   "cell_type": "code",
   "execution_count": 2,
   "metadata": {
    "collapsed": false
   },
   "outputs": [],
   "source": [
    "Ynames = ['fLength', 'fWidth', 'fSize', 'fConc', 'fConc1', 'fAsym', \n",
    "             'fM3Long', 'fM3Trans', 'fAlpha', 'fDist', 'identity']\n",
    "featureNames = ['fLength', 'fWidth', 'fSize', 'fConc', 'fConc1', 'fAsym', \n",
    "             'fM3Long', 'fM3Trans', 'fAlpha', 'fDist']\n",
    "filepath = 'magic04.data'\n",
    "data = pd.read_csv(filepath, names=Ynames, header=None)\n",
    "data['identity']= data['identity'].map({'g':1, 'h': 0}).astype(int) \n",
    "X = data[featureNames].values\n",
    "Y = data['identity'].values.astype('int64')"
   ]
  },
  {
   "cell_type": "code",
   "execution_count": 3,
   "metadata": {
    "collapsed": false
   },
   "outputs": [
    {
     "data": {
      "text/plain": [
       "array([[ 1.68178834,  2.69615624,  1.65320739, -1.67293828, -1.59225851,\n",
       "        -1.25836293, -1.4361608 ,  1.63762673,  0.76691736, -0.2294536 ],\n",
       "       [-0.62145488, -0.51792145, -0.24760976,  0.37346725,  0.28181575,\n",
       "         0.45928844,  0.1993137 , -0.41614592,  0.2124816 ,  0.5696116 ]])"
      ]
     },
     "execution_count": 3,
     "metadata": {},
     "output_type": "execute_result"
    }
   ],
   "source": [
    "X = StandardScaler().fit_transform(X)\n",
    "train_Features, test_Features, train_Label, test_Label = train_test_split(X, Y, test_size=0.33, random_state=None) \n",
    "train_Features[:2]"
   ]
  },
  {
   "cell_type": "code",
   "execution_count": 4,
   "metadata": {
    "collapsed": false
   },
   "outputs": [
    {
     "data": {
      "text/plain": [
       "array([[-0.52735083, -0.24434047, -0.09991184, -0.30100963, -0.39505897,\n",
       "         0.3761191 ,  0.24328339, -0.62472722, -0.65612189, -0.20685218],\n",
       "       [-0.65091876, -0.56422144, -0.19090053,  0.36745002,  0.2492389 ,\n",
       "        -0.0997957 , -0.57773434, -0.43714762,  2.27545274, -1.07501964]])"
      ]
     },
     "execution_count": 4,
     "metadata": {},
     "output_type": "execute_result"
    }
   ],
   "source": [
    "test_Features[:2]"
   ]
  },
  {
   "cell_type": "code",
   "execution_count": 5,
   "metadata": {
    "collapsed": false
   },
   "outputs": [
    {
     "data": {
      "text/plain": [
       "array([0, 0, 1, 1])"
      ]
     },
     "execution_count": 5,
     "metadata": {},
     "output_type": "execute_result"
    }
   ],
   "source": [
    "train_Label[:4]"
   ]
  },
  {
   "cell_type": "code",
   "execution_count": 6,
   "metadata": {
    "collapsed": false
   },
   "outputs": [],
   "source": [
    "train_Features = train_Features.reshape((train_Features.shape[0], train_Features.shape[1], 1))\n",
    "test_Features = test_Features.reshape((test_Features.shape[0], test_Features.shape[1], 1))"
   ]
  },
  {
   "cell_type": "code",
   "execution_count": 7,
   "metadata": {
    "collapsed": false
   },
   "outputs": [
    {
     "data": {
      "text/plain": [
       "(12743, 10, 1)"
      ]
     },
     "execution_count": 7,
     "metadata": {},
     "output_type": "execute_result"
    }
   ],
   "source": [
    "train_Features.shape"
   ]
  },
  {
   "cell_type": "code",
   "execution_count": 8,
   "metadata": {
    "collapsed": false
   },
   "outputs": [
    {
     "name": "stderr",
     "output_type": "stream",
     "text": [
      "Using TensorFlow backend.\n"
     ]
    }
   ],
   "source": [
    "from keras.models import Sequential\n",
    "from keras.layers import Dense,Dropout,Flatten,Conv1D,MaxPooling1D\n",
    "from keras.layers.embeddings import Embedding\n",
    "from keras.callbacks import EarlyStopping\n",
    "early_stopping = EarlyStopping(monitor='val_loss', patience=2)"
   ]
  },
  {
   "cell_type": "code",
   "execution_count": 9,
   "metadata": {
    "collapsed": true
   },
   "outputs": [],
   "source": [
    "model = Sequential()"
   ]
  },
  {
   "cell_type": "code",
   "execution_count": 10,
   "metadata": {
    "collapsed": true
   },
   "outputs": [],
   "source": [
    "model.add(Conv1D(filters=30,\n",
    "                 kernel_size=1,\n",
    "                 padding='valid',\n",
    "                 input_shape=(10,1), \n",
    "                 activation='relu'))"
   ]
  },
  {
   "cell_type": "code",
   "execution_count": 11,
   "metadata": {
    "collapsed": false
   },
   "outputs": [],
   "source": [
    "model.add(MaxPooling1D(pool_size=1))"
   ]
  },
  {
   "cell_type": "code",
   "execution_count": 12,
   "metadata": {
    "collapsed": true
   },
   "outputs": [],
   "source": [
    "model.add(Flatten())"
   ]
  },
  {
   "cell_type": "code",
   "execution_count": 13,
   "metadata": {
    "collapsed": true
   },
   "outputs": [],
   "source": [
    "model.add(Dense(10, activation='tanh'))"
   ]
  },
  {
   "cell_type": "code",
   "execution_count": 14,
   "metadata": {
    "collapsed": true
   },
   "outputs": [],
   "source": [
    "model.add(Dense(1,activation='sigmoid'))"
   ]
  },
  {
   "cell_type": "code",
   "execution_count": 15,
   "metadata": {
    "collapsed": false
   },
   "outputs": [
    {
     "name": "stdout",
     "output_type": "stream",
     "text": [
      "_________________________________________________________________\n",
      "Layer (type)                 Output Shape              Param #   \n",
      "=================================================================\n",
      "conv1d_1 (Conv1D)            (None, 10, 30)            60        \n",
      "_________________________________________________________________\n",
      "max_pooling1d_1 (MaxPooling1 (None, 10, 30)            0         \n",
      "_________________________________________________________________\n",
      "flatten_1 (Flatten)          (None, 300)               0         \n",
      "_________________________________________________________________\n",
      "dense_1 (Dense)              (None, 10)                3010      \n",
      "_________________________________________________________________\n",
      "dense_2 (Dense)              (None, 1)                 11        \n",
      "=================================================================\n",
      "Total params: 3,081\n",
      "Trainable params: 3,081\n",
      "Non-trainable params: 0\n",
      "_________________________________________________________________\n"
     ]
    }
   ],
   "source": [
    "model.summary()"
   ]
  },
  {
   "cell_type": "code",
   "execution_count": 16,
   "metadata": {
    "collapsed": false
   },
   "outputs": [],
   "source": [
    "model.compile(loss='binary_crossentropy', \n",
    "              optimizer='adam', metrics=['accuracy'])"
   ]
  },
  {
   "cell_type": "code",
   "execution_count": 17,
   "metadata": {
    "collapsed": false
   },
   "outputs": [
    {
     "name": "stdout",
     "output_type": "stream",
     "text": [
      "Train on 10194 samples, validate on 2549 samples\n",
      "Epoch 1/30\n",
      "10194/10194 [==============================] - 5s 473us/step - loss: 0.6017 - acc: 0.7141 - val_loss: 0.5268 - val_acc: 0.7642\n",
      "Epoch 2/30\n",
      "10194/10194 [==============================] - 0s 37us/step - loss: 0.5009 - acc: 0.7757 - val_loss: 0.4650 - val_acc: 0.7862\n",
      "Epoch 3/30\n",
      "10194/10194 [==============================] - 0s 47us/step - loss: 0.4566 - acc: 0.7880 - val_loss: 0.4372 - val_acc: 0.8003\n",
      "Epoch 4/30\n",
      "10194/10194 [==============================] - 0s 41us/step - loss: 0.4344 - acc: 0.8001 - val_loss: 0.4207 - val_acc: 0.8086\n",
      "Epoch 5/30\n",
      "10194/10194 [==============================] - 0s 37us/step - loss: 0.4175 - acc: 0.8116 - val_loss: 0.4069 - val_acc: 0.8168\n",
      "Epoch 6/30\n",
      "10194/10194 [==============================] - 0s 49us/step - loss: 0.4038 - acc: 0.8238 - val_loss: 0.3944 - val_acc: 0.8215\n",
      "Epoch 7/30\n",
      "10194/10194 [==============================] - 0s 47us/step - loss: 0.3917 - acc: 0.8293 - val_loss: 0.3842 - val_acc: 0.8360\n",
      "Epoch 8/30\n",
      "10194/10194 [==============================] - 0s 36us/step - loss: 0.3802 - acc: 0.8384 - val_loss: 0.3754 - val_acc: 0.8450\n",
      "Epoch 9/30\n",
      "10194/10194 [==============================] - 1s 50us/step - loss: 0.3714 - acc: 0.8432 - val_loss: 0.3698 - val_acc: 0.8497\n",
      "Epoch 10/30\n",
      "10194/10194 [==============================] - 0s 36us/step - loss: 0.3647 - acc: 0.8442 - val_loss: 0.3621 - val_acc: 0.8505\n",
      "Epoch 11/30\n",
      "10194/10194 [==============================] - 0s 36us/step - loss: 0.3592 - acc: 0.8490 - val_loss: 0.3597 - val_acc: 0.8517\n",
      "Epoch 12/30\n",
      "10194/10194 [==============================] - 1s 52us/step - loss: 0.3554 - acc: 0.8492 - val_loss: 0.3547 - val_acc: 0.8525\n",
      "Epoch 13/30\n",
      "10194/10194 [==============================] - 0s 36us/step - loss: 0.3526 - acc: 0.8518 - val_loss: 0.3574 - val_acc: 0.8517\n",
      "Epoch 14/30\n",
      "10194/10194 [==============================] - 0s 37us/step - loss: 0.3509 - acc: 0.8508 - val_loss: 0.3513 - val_acc: 0.8564\n",
      "Epoch 15/30\n",
      "10194/10194 [==============================] - 1s 52us/step - loss: 0.3484 - acc: 0.8531 - val_loss: 0.3498 - val_acc: 0.8584\n",
      "Epoch 16/30\n",
      "10194/10194 [==============================] - 0s 38us/step - loss: 0.3475 - acc: 0.8525 - val_loss: 0.3507 - val_acc: 0.8552\n",
      "Epoch 17/30\n",
      "10194/10194 [==============================] - 0s 43us/step - loss: 0.3467 - acc: 0.8509 - val_loss: 0.3489 - val_acc: 0.8596\n",
      "Epoch 18/30\n",
      "10194/10194 [==============================] - 1s 55us/step - loss: 0.3441 - acc: 0.8548 - val_loss: 0.3460 - val_acc: 0.8615\n",
      "Epoch 19/30\n",
      "10194/10194 [==============================] - 0s 36us/step - loss: 0.3423 - acc: 0.8542 - val_loss: 0.3451 - val_acc: 0.8607\n",
      "Epoch 20/30\n",
      "10194/10194 [==============================] - 1s 50us/step - loss: 0.3414 - acc: 0.8549 - val_loss: 0.3443 - val_acc: 0.8619\n",
      "Epoch 21/30\n",
      "10194/10194 [==============================] - 0s 44us/step - loss: 0.3405 - acc: 0.8557 - val_loss: 0.3435 - val_acc: 0.8647\n",
      "Epoch 22/30\n",
      "10194/10194 [==============================] - 0s 42us/step - loss: 0.3397 - acc: 0.8553 - val_loss: 0.3462 - val_acc: 0.8599\n",
      "Epoch 23/30\n",
      "10194/10194 [==============================] - 1s 56us/step - loss: 0.3379 - acc: 0.8556 - val_loss: 0.3416 - val_acc: 0.8631\n",
      "Epoch 24/30\n",
      "10194/10194 [==============================] - 0s 43us/step - loss: 0.3364 - acc: 0.8573 - val_loss: 0.3416 - val_acc: 0.8615\n",
      "Epoch 25/30\n",
      "10194/10194 [==============================] - 0s 37us/step - loss: 0.3360 - acc: 0.8589 - val_loss: 0.3391 - val_acc: 0.8643\n",
      "Epoch 26/30\n",
      "10194/10194 [==============================] - 1s 52us/step - loss: 0.3345 - acc: 0.8595 - val_loss: 0.3396 - val_acc: 0.8643\n",
      "Epoch 27/30\n",
      "10194/10194 [==============================] - 0s 39us/step - loss: 0.3339 - acc: 0.8600 - val_loss: 0.3368 - val_acc: 0.8658\n",
      "Epoch 28/30\n",
      "10194/10194 [==============================] - 0s 38us/step - loss: 0.3330 - acc: 0.8597 - val_loss: 0.3380 - val_acc: 0.8639\n",
      "Epoch 29/30\n",
      "10194/10194 [==============================] - 1s 61us/step - loss: 0.3321 - acc: 0.8617 - val_loss: 0.3373 - val_acc: 0.8627\n",
      "Epoch 30/30\n",
      "10194/10194 [==============================] - 0s 44us/step - loss: 0.3308 - acc: 0.8601 - val_loss: 0.3344 - val_acc: 0.8658\n"
     ]
    }
   ],
   "source": [
    "train_history =model.fit(x=train_Features, \n",
    "                         y=train_Label, \n",
    "                         validation_split=0.2, \n",
    "                         epochs=30, \n",
    "                         batch_size=400,verbose=1)"
   ]
  },
  {
   "cell_type": "code",
   "execution_count": 18,
   "metadata": {
    "collapsed": true
   },
   "outputs": [],
   "source": [
    "import matplotlib.pyplot as plt\n",
    "def show_train_history(train_history,train,validation):\n",
    "    plt.plot(train_history.history[train])\n",
    "    plt.plot(train_history.history[validation])\n",
    "    plt.title('Train History')\n",
    "    plt.ylabel(train)\n",
    "    plt.xlabel('Epoch')\n",
    "    plt.legend(['train', 'validation'], loc='upper left')\n",
    "    plt.show()"
   ]
  },
  {
   "cell_type": "code",
   "execution_count": 19,
   "metadata": {
    "collapsed": false
   },
   "outputs": [
    {
     "data": {
      "image/png": "[encoded data removed]",
      "text/plain": [
       "<matplotlib.figure.Figure at 0x7f07ca992ba8>"
      ]
     },
     "metadata": {},
     "output_type": "display_data"
    }
   ],
   "source": [
    "show_train_history(train_history,'acc','val_acc')"
   ]
  },
  {
   "cell_type": "code",
   "execution_count": 20,
   "metadata": {
    "collapsed": false
   },
   "outputs": [
    {
     "data": {
      "image/png": "[encoded data removed]",
      "text/plain": [
       "<matplotlib.figure.Figure at 0x7f07ca992c18>"
      ]
     },
     "metadata": {},
     "output_type": "display_data"
    }
   ],
   "source": [
    "show_train_history(train_history,'loss','val_loss')"
   ]
  },
  {
   "cell_type": "code",
   "execution_count": 21,
   "metadata": {
    "collapsed": false
   },
   "outputs": [
    {
     "name": "stdout",
     "output_type": "stream",
     "text": [
      "6277/6277 [==============================] - 0s 60us/step\n"
     ]
    }
   ],
   "source": [
    "scores = model.evaluate(x=test_Features, \n",
    "                        y=test_Label)"
   ]
  },
  {
   "cell_type": "code",
   "execution_count": 22,
   "metadata": {
    "collapsed": false
   },
   "outputs": [
    {
     "data": {
      "text/plain": [
       "0.8610801338313852"
      ]
     },
     "execution_count": 22,
     "metadata": {},
     "output_type": "execute_result"
    }
   ],
   "source": [
    "scores[1]"
   ]
  }
 ],
 "metadata": {
  "anaconda-cloud": {},
  "kernelspec": {
   "display_name": "Python [default]",
   "language": "python",
   "name": "python3"
  },
  "language_info": {
   "codemirror_mode": {
    "name": "ipython",
    "version": 3
   },
   "file_extension": ".py",
   "mimetype": "text/x-python",
   "name": "python",
   "nbconvert_exporter": "python",
   "pygments_lexer": "ipython3",
   "version": "3.5.2"
  }
 },
 "nbformat": 4,
 "nbformat_minor": 1
}
