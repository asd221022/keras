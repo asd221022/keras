{
 "cells": [
  {
   "cell_type": "code",
   "execution_count": 1,
   "metadata": {
    "collapsed": false
   },
   "outputs": [],
   "source": [
    "import numpy as np\n",
    "import pandas as pd\n",
    "from sklearn.preprocessing import StandardScaler\n",
    "from sklearn.model_selection import train_test_split"
   ]
  },
  {
   "cell_type": "code",
   "execution_count": 2,
   "metadata": {
    "collapsed": false
   },
   "outputs": [],
   "source": [
    "Ynames = ['fLength', 'fWidth', 'fSize', 'fConc', 'fConc1', 'fAsym', \n",
    "             'fM3Long', 'fM3Trans', 'fAlpha', 'fDist', 'identity']\n",
    "featureNames = ['fLength', 'fWidth', 'fSize', 'fConc', 'fConc1', 'fAsym', \n",
    "             'fM3Long', 'fM3Trans', 'fAlpha', 'fDist']\n",
    "filepath = 'magic04.data'\n",
    "data = pd.read_csv(filepath, names=Ynames, header=None)\n",
    "data['identity']= data['identity'].map({'g':1, 'h': 0}).astype(int) \n",
    "X = data[featureNames].values\n",
    "Y = data['identity'].values.astype('int64')"
   ]
  },
  {
   "cell_type": "code",
   "execution_count": 3,
   "metadata": {
    "collapsed": false
   },
   "outputs": [
    {
     "data": {
      "text/plain": [
       "array([[-0.79859694, -0.6680721 , -1.17061593,  0.99105395,  0.84014691,\n",
       "         0.48854297, -0.03818415, -0.15978505,  0.54231425, -1.68414995],\n",
       "       [-0.7769015 , -0.32041877, -0.65303842,  0.74872365,  0.79399636,\n",
       "         0.09666401, -0.40346545,  0.18844742, -0.71741002,  0.51790935]])"
      ]
     },
     "execution_count": 3,
     "metadata": {},
     "output_type": "execute_result"
    }
   ],
   "source": [
    "X = StandardScaler().fit_transform(X)\n",
    "train_Features, test_Features, train_Label, test_Label = train_test_split(X, Y, test_size=0.33, random_state=None) \n",
    "train_Features[:2]"
   ]
  },
  {
   "cell_type": "code",
   "execution_count": 4,
   "metadata": {
    "collapsed": false
   },
   "outputs": [
    {
     "data": {
      "text/plain": [
       "array([[-0.30390503,  0.07272783, -0.10075825, -0.77472981, -0.86199394,\n",
       "         0.92744707,  0.54529259,  0.77258645, -0.79177714, -0.84168575],\n",
       "       [-0.95051931, -0.59581489, -1.42665386,  2.01726533,  1.60660799,\n",
       "        -0.1794822 , -0.10997803,  0.54865961,  2.26341578, -1.10116716]])"
      ]
     },
     "execution_count": 4,
     "metadata": {},
     "output_type": "execute_result"
    }
   ],
   "source": [
    "test_Features[:2]"
   ]
  },
  {
   "cell_type": "code",
   "execution_count": 5,
   "metadata": {
    "collapsed": false
   },
   "outputs": [
    {
     "data": {
      "text/plain": [
       "array([0, 0, 1, 0])"
      ]
     },
     "execution_count": 5,
     "metadata": {},
     "output_type": "execute_result"
    }
   ],
   "source": [
    "train_Label[:4]"
   ]
  },
  {
   "cell_type": "code",
   "execution_count": 6,
   "metadata": {
    "collapsed": false
   },
   "outputs": [],
   "source": [
    "train_Features = train_Features.reshape((train_Features.shape[0], train_Features.shape[1], 1))\n",
    "test_Features = test_Features.reshape((test_Features.shape[0], test_Features.shape[1], 1))"
   ]
  },
  {
   "cell_type": "code",
   "execution_count": 7,
   "metadata": {
    "collapsed": false
   },
   "outputs": [
    {
     "data": {
      "text/plain": [
       "(12743, 10, 1)"
      ]
     },
     "execution_count": 7,
     "metadata": {},
     "output_type": "execute_result"
    }
   ],
   "source": [
    "train_Features.shape"
   ]
  },
  {
   "cell_type": "code",
   "execution_count": 8,
   "metadata": {
    "collapsed": false
   },
   "outputs": [
    {
     "name": "stderr",
     "output_type": "stream",
     "text": [
      "Using TensorFlow backend.\n"
     ]
    }
   ],
   "source": [
    "from keras.models import Sequential\n",
    "from keras.layers import Dense,Dropout,Flatten,Conv1D,MaxPooling1D\n",
    "from keras.layers.embeddings import Embedding\n",
    "from keras.callbacks import EarlyStopping\n",
    "early_stopping = EarlyStopping(monitor='val_loss', patience=2)"
   ]
  },
  {
   "cell_type": "code",
   "execution_count": 9,
   "metadata": {
    "collapsed": true
   },
   "outputs": [],
   "source": [
    "model = Sequential()"
   ]
  },
  {
   "cell_type": "code",
   "execution_count": 10,
   "metadata": {
    "collapsed": true
   },
   "outputs": [],
   "source": [
    "model.add(Conv1D(filters=10*5,\n",
    "                 kernel_size=1,\n",
    "                 padding='valid',\n",
    "                 input_shape=(10,1), \n",
    "                 activation='relu'))"
   ]
  },
  {
   "cell_type": "code",
   "execution_count": 11,
   "metadata": {
    "collapsed": true
   },
   "outputs": [],
   "source": [
    "model.add(MaxPooling1D(pool_size=1))"
   ]
  },
  {
   "cell_type": "code",
   "execution_count": 12,
   "metadata": {
    "collapsed": true
   },
   "outputs": [],
   "source": [
    "model.add(Conv1D(filters=10*4,\n",
    "                 kernel_size=1,\n",
    "                 padding='valid',\n",
    "                 activation='relu'))"
   ]
  },
  {
   "cell_type": "code",
   "execution_count": 13,
   "metadata": {
    "collapsed": true
   },
   "outputs": [],
   "source": [
    "model.add(MaxPooling1D(pool_size=1))"
   ]
  },
  {
   "cell_type": "code",
   "execution_count": 14,
   "metadata": {
    "collapsed": true
   },
   "outputs": [],
   "source": [
    "model.add(Conv1D(filters=10*3,\n",
    "                 kernel_size=1,\n",
    "                 padding='valid',\n",
    "                 activation='relu'))"
   ]
  },
  {
   "cell_type": "code",
   "execution_count": 15,
   "metadata": {
    "collapsed": true
   },
   "outputs": [],
   "source": [
    "model.add(MaxPooling1D(pool_size=1))"
   ]
  },
  {
   "cell_type": "code",
   "execution_count": 16,
   "metadata": {
    "collapsed": true
   },
   "outputs": [],
   "source": [
    "model.add(Conv1D(filters=10*2,\n",
    "                 kernel_size=1,\n",
    "                 padding='valid',\n",
    "                 activation='relu'))"
   ]
  },
  {
   "cell_type": "code",
   "execution_count": 17,
   "metadata": {
    "collapsed": true
   },
   "outputs": [],
   "source": [
    "model.add(MaxPooling1D(pool_size=1))"
   ]
  },
  {
   "cell_type": "code",
   "execution_count": 18,
   "metadata": {
    "collapsed": false
   },
   "outputs": [],
   "source": [
    "model.add(Conv1D(filters=10,\n",
    "                 kernel_size=1,\n",
    "                 padding='valid',\n",
    "                 activation='relu'))"
   ]
  },
  {
   "cell_type": "code",
   "execution_count": 19,
   "metadata": {
    "collapsed": false
   },
   "outputs": [],
   "source": [
    "model.add(MaxPooling1D(pool_size=1))"
   ]
  },
  {
   "cell_type": "code",
   "execution_count": 20,
   "metadata": {
    "collapsed": true
   },
   "outputs": [],
   "source": [
    "model.add(Flatten())"
   ]
  },
  {
   "cell_type": "code",
   "execution_count": 21,
   "metadata": {
    "collapsed": true
   },
   "outputs": [],
   "source": [
    "model.add(Dense(10, activation='tanh'))"
   ]
  },
  {
   "cell_type": "code",
   "execution_count": 22,
   "metadata": {
    "collapsed": true
   },
   "outputs": [],
   "source": [
    "model.add(Dense(1,activation='sigmoid'))"
   ]
  },
  {
   "cell_type": "code",
   "execution_count": 23,
   "metadata": {
    "collapsed": false
   },
   "outputs": [
    {
     "name": "stdout",
     "output_type": "stream",
     "text": [
      "_________________________________________________________________\n",
      "Layer (type)                 Output Shape              Param #   \n",
      "=================================================================\n",
      "conv1d_1 (Conv1D)            (None, 10, 50)            100       \n",
      "_________________________________________________________________\n",
      "max_pooling1d_1 (MaxPooling1 (None, 10, 50)            0         \n",
      "_________________________________________________________________\n",
      "conv1d_2 (Conv1D)            (None, 10, 40)            2040      \n",
      "_________________________________________________________________\n",
      "max_pooling1d_2 (MaxPooling1 (None, 10, 40)            0         \n",
      "_________________________________________________________________\n",
      "conv1d_3 (Conv1D)            (None, 10, 30)            1230      \n",
      "_________________________________________________________________\n",
      "max_pooling1d_3 (MaxPooling1 (None, 10, 30)            0         \n",
      "_________________________________________________________________\n",
      "conv1d_4 (Conv1D)            (None, 10, 20)            620       \n",
      "_________________________________________________________________\n",
      "max_pooling1d_4 (MaxPooling1 (None, 10, 20)            0         \n",
      "_________________________________________________________________\n",
      "conv1d_5 (Conv1D)            (None, 10, 10)            210       \n",
      "_________________________________________________________________\n",
      "max_pooling1d_5 (MaxPooling1 (None, 10, 10)            0         \n",
      "_________________________________________________________________\n",
      "flatten_1 (Flatten)          (None, 100)               0         \n",
      "_________________________________________________________________\n",
      "dense_1 (Dense)              (None, 10)                1010      \n",
      "_________________________________________________________________\n",
      "dense_2 (Dense)              (None, 1)                 11        \n",
      "=================================================================\n",
      "Total params: 5,221\n",
      "Trainable params: 5,221\n",
      "Non-trainable params: 0\n",
      "_________________________________________________________________\n"
     ]
    }
   ],
   "source": [
    "model.summary()"
   ]
  },
  {
   "cell_type": "code",
   "execution_count": 24,
   "metadata": {
    "collapsed": false
   },
   "outputs": [],
   "source": [
    "model.compile(loss='binary_crossentropy', \n",
    "              optimizer='adam', metrics=['accuracy'])"
   ]
  },
  {
   "cell_type": "code",
   "execution_count": 25,
   "metadata": {
    "collapsed": false
   },
   "outputs": [
    {
     "name": "stdout",
     "output_type": "stream",
     "text": [
      "Train on 10194 samples, validate on 2549 samples\n",
      "Epoch 1/30\n",
      "10194/10194 [==============================] - 3s 320us/step - loss: 0.6676 - acc: 0.6197 - val_loss: 0.6158 - val_acc: 0.6881\n",
      "Epoch 2/30\n",
      "10194/10194 [==============================] - 1s 131us/step - loss: 0.5711 - acc: 0.7211 - val_loss: 0.5231 - val_acc: 0.7450\n",
      "Epoch 3/30\n",
      "10194/10194 [==============================] - 2s 193us/step - loss: 0.4752 - acc: 0.7750 - val_loss: 0.4289 - val_acc: 0.8133\n",
      "Epoch 4/30\n",
      "10194/10194 [==============================] - 2s 210us/step - loss: 0.4036 - acc: 0.8292 - val_loss: 0.3858 - val_acc: 0.8450\n",
      "Epoch 5/30\n",
      "10194/10194 [==============================] - 1s 130us/step - loss: 0.3757 - acc: 0.8437 - val_loss: 0.3693 - val_acc: 0.8521\n",
      "Epoch 6/30\n",
      "10194/10194 [==============================] - 1s 144us/step - loss: 0.3607 - acc: 0.8514 - val_loss: 0.3581 - val_acc: 0.8541\n",
      "Epoch 7/30\n",
      "10194/10194 [==============================] - 3s 273us/step - loss: 0.3545 - acc: 0.8561 - val_loss: 0.3548 - val_acc: 0.8572\n",
      "Epoch 8/30\n",
      "10194/10194 [==============================] - 2s 222us/step - loss: 0.3499 - acc: 0.8555 - val_loss: 0.3526 - val_acc: 0.8576\n",
      "Epoch 9/30\n",
      "10194/10194 [==============================] - 2s 217us/step - loss: 0.3466 - acc: 0.8602 - val_loss: 0.3485 - val_acc: 0.8584\n",
      "Epoch 10/30\n",
      "10194/10194 [==============================] - 2s 222us/step - loss: 0.3440 - acc: 0.8594 - val_loss: 0.3447 - val_acc: 0.8596\n",
      "Epoch 11/30\n",
      "10194/10194 [==============================] - 3s 300us/step - loss: 0.3403 - acc: 0.8613 - val_loss: 0.3442 - val_acc: 0.8592\n",
      "Epoch 12/30\n",
      "10194/10194 [==============================] - 4s 373us/step - loss: 0.3377 - acc: 0.8620 - val_loss: 0.3423 - val_acc: 0.8560\n",
      "Epoch 13/30\n",
      "10194/10194 [==============================] - 4s 379us/step - loss: 0.3363 - acc: 0.8619 - val_loss: 0.3427 - val_acc: 0.8572\n",
      "Epoch 14/30\n",
      "10194/10194 [==============================] - 2s 237us/step - loss: 0.3351 - acc: 0.8631 - val_loss: 0.3453 - val_acc: 0.8568\n",
      "Epoch 15/30\n",
      "10194/10194 [==============================] - 3s 321us/step - loss: 0.3317 - acc: 0.8637 - val_loss: 0.3396 - val_acc: 0.8615\n",
      "Epoch 16/30\n",
      "10194/10194 [==============================] - 4s 345us/step - loss: 0.3298 - acc: 0.8660 - val_loss: 0.3443 - val_acc: 0.8564\n",
      "Epoch 17/30\n",
      "10194/10194 [==============================] - 3s 321us/step - loss: 0.3288 - acc: 0.8657 - val_loss: 0.3405 - val_acc: 0.8592\n",
      "Epoch 18/30\n",
      "10194/10194 [==============================] - 3s 301us/step - loss: 0.3272 - acc: 0.8674 - val_loss: 0.3391 - val_acc: 0.8607\n",
      "Epoch 19/30\n",
      "10194/10194 [==============================] - 3s 299us/step - loss: 0.3301 - acc: 0.8637 - val_loss: 0.3436 - val_acc: 0.8588\n",
      "Epoch 20/30\n",
      "10194/10194 [==============================] - 3s 330us/step - loss: 0.3283 - acc: 0.8637 - val_loss: 0.3435 - val_acc: 0.8611\n",
      "Epoch 21/30\n",
      "10194/10194 [==============================] - 3s 342us/step - loss: 0.3247 - acc: 0.8673 - val_loss: 0.3410 - val_acc: 0.8607\n",
      "Epoch 22/30\n",
      "10194/10194 [==============================] - 4s 353us/step - loss: 0.3230 - acc: 0.8672 - val_loss: 0.3375 - val_acc: 0.8611\n",
      "Epoch 23/30\n",
      "10194/10194 [==============================] - 3s 274us/step - loss: 0.3232 - acc: 0.8655 - val_loss: 0.3364 - val_acc: 0.8572\n",
      "Epoch 24/30\n",
      "10194/10194 [==============================] - 3s 257us/step - loss: 0.3207 - acc: 0.8685 - val_loss: 0.3350 - val_acc: 0.8647\n",
      "Epoch 25/30\n",
      "10194/10194 [==============================] - 3s 310us/step - loss: 0.3204 - acc: 0.8680 - val_loss: 0.3356 - val_acc: 0.8603\n",
      "Epoch 26/30\n",
      "10194/10194 [==============================] - 3s 327us/step - loss: 0.3185 - acc: 0.8697 - val_loss: 0.3346 - val_acc: 0.8599\n",
      "Epoch 27/30\n",
      "10194/10194 [==============================] - 3s 292us/step - loss: 0.3186 - acc: 0.8691 - val_loss: 0.3332 - val_acc: 0.8627\n",
      "Epoch 28/30\n",
      "10194/10194 [==============================] - 3s 311us/step - loss: 0.3166 - acc: 0.8701 - val_loss: 0.3376 - val_acc: 0.8611\n",
      "Epoch 29/30\n",
      "10194/10194 [==============================] - 4s 353us/step - loss: 0.3162 - acc: 0.8688 - val_loss: 0.3350 - val_acc: 0.8627\n",
      "Epoch 30/30\n",
      "10194/10194 [==============================] - 5s 491us/step - loss: 0.3163 - acc: 0.8706 - val_loss: 0.3381 - val_acc: 0.8631\n"
     ]
    }
   ],
   "source": [
    "train_history =model.fit(x=train_Features, \n",
    "                         y=train_Label, \n",
    "                         validation_split=0.2, \n",
    "                         epochs=30, \n",
    "                         batch_size=400,verbose=1)"
   ]
  },
  {
   "cell_type": "code",
   "execution_count": 26,
   "metadata": {
    "collapsed": true
   },
   "outputs": [],
   "source": [
    "import matplotlib.pyplot as plt\n",
    "def show_train_history(train_history,train,validation):\n",
    "    plt.plot(train_history.history[train])\n",
    "    plt.plot(train_history.history[validation])\n",
    "    plt.title('Train History')\n",
    "    plt.ylabel(train)\n",
    "    plt.xlabel('Epoch')\n",
    "    plt.legend(['train', 'validation'], loc='upper left')\n",
    "    plt.show()"
   ]
  },
  {
   "cell_type": "code",
   "execution_count": 27,
   "metadata": {
    "collapsed": false
   },
   "outputs": [
    {
     "data": {
      "image/png": "[encoded data removed]",
      "text/plain": [
       "<matplotlib.figure.Figure at 0x7f8dd5b1e940>"
      ]
     },
     "metadata": {},
     "output_type": "display_data"
    }
   ],
   "source": [
    "show_train_history(train_history,'acc','val_acc')"
   ]
  },
  {
   "cell_type": "code",
   "execution_count": 28,
   "metadata": {
    "collapsed": false
   },
   "outputs": [
    {
     "data": {
      "image/png": "[encoded data removed]",
      "text/plain": [
       "<matplotlib.figure.Figure at 0x7f8dd5b4c588>"
      ]
     },
     "metadata": {},
     "output_type": "display_data"
    }
   ],
   "source": [
    "show_train_history(train_history,'loss','val_loss')"
   ]
  },
  {
   "cell_type": "code",
   "execution_count": 29,
   "metadata": {
    "collapsed": false
   },
   "outputs": [
    {
     "name": "stdout",
     "output_type": "stream",
     "text": [
      "6277/6277 [==============================] - 1s 239us/step\n"
     ]
    }
   ],
   "source": [
    "scores = model.evaluate(x=test_Features, \n",
    "                        y=test_Label)"
   ]
  },
  {
   "cell_type": "code",
   "execution_count": 30,
   "metadata": {
    "collapsed": false
   },
   "outputs": [
    {
     "data": {
      "text/plain": [
       "0.8539111040305879"
      ]
     },
     "execution_count": 30,
     "metadata": {},
     "output_type": "execute_result"
    }
   ],
   "source": [
    "scores[1]"
   ]
  }
 ],
 "metadata": {
  "anaconda-cloud": {},
  "kernelspec": {
   "display_name": "Python [default]",
   "language": "python",
   "name": "python3"
  },
  "language_info": {
   "codemirror_mode": {
    "name": "ipython",
    "version": 3
   },
   "file_extension": ".py",
   "mimetype": "text/x-python",
   "name": "python",
   "nbconvert_exporter": "python",
   "pygments_lexer": "ipython3",
   "version": "3.5.2"
  }
 },
 "nbformat": 4,
 "nbformat_minor": 1
}
