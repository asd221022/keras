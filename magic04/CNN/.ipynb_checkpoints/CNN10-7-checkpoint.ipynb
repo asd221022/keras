{
 "cells": [
  {
   "cell_type": "code",
   "execution_count": 1,
   "metadata": {
    "collapsed": false
   },
   "outputs": [],
   "source": [
    "import numpy as np\n",
    "import pandas as pd\n",
    "from sklearn.preprocessing import StandardScaler\n",
    "from sklearn.model_selection import train_test_split"
   ]
  },
  {
   "cell_type": "code",
   "execution_count": 2,
   "metadata": {
    "collapsed": false
   },
   "outputs": [],
   "source": [
    "Ynames = ['fLength', 'fWidth', 'fSize', 'fConc', 'fConc1', 'fAsym', \n",
    "             'fM3Long', 'fM3Trans', 'fAlpha', 'fDist', 'identity']\n",
    "featureNames = ['fLength', 'fWidth', 'fSize', 'fConc', 'fConc1', 'fAsym', \n",
    "             'fM3Long', 'fM3Trans', 'fAlpha', 'fDist']\n",
    "filepath = 'magic04.data'\n",
    "data = pd.read_csv(filepath, names=Ynames, header=None)\n",
    "data['identity']= data['identity'].map({'g':1, 'h': 0}).astype(int) \n",
    "X = data[featureNames].values\n",
    "Y = data['identity'].values.astype('int64')"
   ]
  },
  {
   "cell_type": "code",
   "execution_count": 3,
   "metadata": {
    "collapsed": false
   },
   "outputs": [
    {
     "data": {
      "text/plain": [
       "array([[-0.17554054, -0.06497296,  0.02366349, -0.65110307, -0.72354229,\n",
       "        -0.45328906, -0.68469376, -0.57340895,  1.82968676,  0.08453484],\n",
       "       [-0.53498235, -0.22296747, -0.1341913 , -0.11994568, -0.02313984,\n",
       "         0.63342722, -0.34226203,  0.57683472, -0.58678103, -0.01101336]])"
      ]
     },
     "execution_count": 3,
     "metadata": {},
     "output_type": "execute_result"
    }
   ],
   "source": [
    "X = StandardScaler().fit_transform(X)\n",
    "train_Features, test_Features, train_Label, test_Label = train_test_split(X, Y, test_size=0.33, random_state=None) \n",
    "train_Features[:2]"
   ]
  },
  {
   "cell_type": "code",
   "execution_count": 4,
   "metadata": {
    "collapsed": false
   },
   "outputs": [
    {
     "data": {
      "text/plain": [
       "array([[-0.4765928 , -0.96513013, -0.60161923,  0.41668191,  0.16870166,\n",
       "        -0.45161014, -0.18851128,  0.00507392,  2.31665117, -1.28923398],\n",
       "       [-0.62605316, -0.0715413 , -0.50639851,  0.0726057 ,  0.09359391,\n",
       "         0.20428082,  0.06126726, -0.28370177, -0.46195981, -0.81527594]])"
      ]
     },
     "execution_count": 4,
     "metadata": {},
     "output_type": "execute_result"
    }
   ],
   "source": [
    "test_Features[:2]"
   ]
  },
  {
   "cell_type": "code",
   "execution_count": 5,
   "metadata": {
    "collapsed": false
   },
   "outputs": [
    {
     "data": {
      "text/plain": [
       "array([0, 1, 1, 1])"
      ]
     },
     "execution_count": 5,
     "metadata": {},
     "output_type": "execute_result"
    }
   ],
   "source": [
    "train_Label[:4]"
   ]
  },
  {
   "cell_type": "code",
   "execution_count": 6,
   "metadata": {
    "collapsed": false
   },
   "outputs": [],
   "source": [
    "train_Features = train_Features.reshape((train_Features.shape[0], train_Features.shape[1], 1))\n",
    "test_Features = test_Features.reshape((test_Features.shape[0], test_Features.shape[1], 1))"
   ]
  },
  {
   "cell_type": "code",
   "execution_count": 7,
   "metadata": {
    "collapsed": false
   },
   "outputs": [
    {
     "data": {
      "text/plain": [
       "(12743, 10, 1)"
      ]
     },
     "execution_count": 7,
     "metadata": {},
     "output_type": "execute_result"
    }
   ],
   "source": [
    "train_Features.shape"
   ]
  },
  {
   "cell_type": "code",
   "execution_count": 8,
   "metadata": {
    "collapsed": false
   },
   "outputs": [
    {
     "name": "stderr",
     "output_type": "stream",
     "text": [
      "Using TensorFlow backend.\n"
     ]
    }
   ],
   "source": [
    "from keras.models import Sequential\n",
    "from keras.layers import Dense,Dropout,Flatten,Conv1D,MaxPooling1D\n",
    "from keras.layers.embeddings import Embedding\n",
    "from keras.callbacks import EarlyStopping\n",
    "early_stopping = EarlyStopping(monitor='val_loss', patience=2)"
   ]
  },
  {
   "cell_type": "code",
   "execution_count": 9,
   "metadata": {
    "collapsed": true
   },
   "outputs": [],
   "source": [
    "model = Sequential()"
   ]
  },
  {
   "cell_type": "code",
   "execution_count": 10,
   "metadata": {
    "collapsed": true
   },
   "outputs": [],
   "source": [
    "model.add(Conv1D(filters=10*7,\n",
    "                 kernel_size=1,\n",
    "                 padding='valid',\n",
    "                 input_shape=(10,1), \n",
    "                 activation='relu'))"
   ]
  },
  {
   "cell_type": "code",
   "execution_count": 11,
   "metadata": {
    "collapsed": true
   },
   "outputs": [],
   "source": [
    "model.add(MaxPooling1D(pool_size=1))"
   ]
  },
  {
   "cell_type": "code",
   "execution_count": 12,
   "metadata": {
    "collapsed": true
   },
   "outputs": [],
   "source": [
    "model.add(Conv1D(filters=10*6,\n",
    "                 kernel_size=1,\n",
    "                 padding='valid', \n",
    "                 activation='relu'))"
   ]
  },
  {
   "cell_type": "code",
   "execution_count": 13,
   "metadata": {
    "collapsed": true
   },
   "outputs": [],
   "source": [
    "model.add(MaxPooling1D(pool_size=1))"
   ]
  },
  {
   "cell_type": "code",
   "execution_count": 14,
   "metadata": {
    "collapsed": true
   },
   "outputs": [],
   "source": [
    "model.add(Conv1D(filters=10*5,\n",
    "                 kernel_size=1,\n",
    "                 padding='valid',\n",
    "                 activation='relu'))"
   ]
  },
  {
   "cell_type": "code",
   "execution_count": 15,
   "metadata": {
    "collapsed": true
   },
   "outputs": [],
   "source": [
    "model.add(MaxPooling1D(pool_size=1))"
   ]
  },
  {
   "cell_type": "code",
   "execution_count": 16,
   "metadata": {
    "collapsed": true
   },
   "outputs": [],
   "source": [
    "model.add(Conv1D(filters=10*4,\n",
    "                 kernel_size=1,\n",
    "                 padding='valid',\n",
    "                 activation='relu'))"
   ]
  },
  {
   "cell_type": "code",
   "execution_count": 17,
   "metadata": {
    "collapsed": true
   },
   "outputs": [],
   "source": [
    "model.add(MaxPooling1D(pool_size=1))"
   ]
  },
  {
   "cell_type": "code",
   "execution_count": 18,
   "metadata": {
    "collapsed": true
   },
   "outputs": [],
   "source": [
    "model.add(Conv1D(filters=10*3,\n",
    "                 kernel_size=1,\n",
    "                 padding='valid',\n",
    "                 activation='relu'))"
   ]
  },
  {
   "cell_type": "code",
   "execution_count": 19,
   "metadata": {
    "collapsed": true
   },
   "outputs": [],
   "source": [
    "model.add(MaxPooling1D(pool_size=1))"
   ]
  },
  {
   "cell_type": "code",
   "execution_count": 20,
   "metadata": {
    "collapsed": true
   },
   "outputs": [],
   "source": [
    "model.add(Conv1D(filters=10*2,\n",
    "                 kernel_size=1,\n",
    "                 padding='valid',\n",
    "                 activation='relu'))"
   ]
  },
  {
   "cell_type": "code",
   "execution_count": 21,
   "metadata": {
    "collapsed": true
   },
   "outputs": [],
   "source": [
    "model.add(MaxPooling1D(pool_size=1))"
   ]
  },
  {
   "cell_type": "code",
   "execution_count": 22,
   "metadata": {
    "collapsed": false
   },
   "outputs": [],
   "source": [
    "model.add(Conv1D(filters=10,\n",
    "                 kernel_size=1,\n",
    "                 padding='valid',\n",
    "                 activation='relu'))"
   ]
  },
  {
   "cell_type": "code",
   "execution_count": 23,
   "metadata": {
    "collapsed": false
   },
   "outputs": [],
   "source": [
    "model.add(MaxPooling1D(pool_size=1))"
   ]
  },
  {
   "cell_type": "code",
   "execution_count": 24,
   "metadata": {
    "collapsed": true
   },
   "outputs": [],
   "source": [
    "model.add(Flatten())"
   ]
  },
  {
   "cell_type": "code",
   "execution_count": 25,
   "metadata": {
    "collapsed": true
   },
   "outputs": [],
   "source": [
    "model.add(Dense(10, activation='tanh'))"
   ]
  },
  {
   "cell_type": "code",
   "execution_count": 26,
   "metadata": {
    "collapsed": true
   },
   "outputs": [],
   "source": [
    "model.add(Dense(1,activation='sigmoid'))"
   ]
  },
  {
   "cell_type": "code",
   "execution_count": 27,
   "metadata": {
    "collapsed": false
   },
   "outputs": [
    {
     "name": "stdout",
     "output_type": "stream",
     "text": [
      "_________________________________________________________________\n",
      "Layer (type)                 Output Shape              Param #   \n",
      "=================================================================\n",
      "conv1d_1 (Conv1D)            (None, 10, 70)            140       \n",
      "_________________________________________________________________\n",
      "max_pooling1d_1 (MaxPooling1 (None, 10, 70)            0         \n",
      "_________________________________________________________________\n",
      "conv1d_2 (Conv1D)            (None, 10, 60)            4260      \n",
      "_________________________________________________________________\n",
      "max_pooling1d_2 (MaxPooling1 (None, 10, 60)            0         \n",
      "_________________________________________________________________\n",
      "conv1d_3 (Conv1D)            (None, 10, 50)            3050      \n",
      "_________________________________________________________________\n",
      "max_pooling1d_3 (MaxPooling1 (None, 10, 50)            0         \n",
      "_________________________________________________________________\n",
      "conv1d_4 (Conv1D)            (None, 10, 40)            2040      \n",
      "_________________________________________________________________\n",
      "max_pooling1d_4 (MaxPooling1 (None, 10, 40)            0         \n",
      "_________________________________________________________________\n",
      "conv1d_5 (Conv1D)            (None, 10, 30)            1230      \n",
      "_________________________________________________________________\n",
      "max_pooling1d_5 (MaxPooling1 (None, 10, 30)            0         \n",
      "_________________________________________________________________\n",
      "conv1d_6 (Conv1D)            (None, 10, 20)            620       \n",
      "_________________________________________________________________\n",
      "max_pooling1d_6 (MaxPooling1 (None, 10, 20)            0         \n",
      "_________________________________________________________________\n",
      "conv1d_7 (Conv1D)            (None, 10, 10)            210       \n",
      "_________________________________________________________________\n",
      "max_pooling1d_7 (MaxPooling1 (None, 10, 10)            0         \n",
      "_________________________________________________________________\n",
      "flatten_1 (Flatten)          (None, 100)               0         \n",
      "_________________________________________________________________\n",
      "dense_1 (Dense)              (None, 10)                1010      \n",
      "_________________________________________________________________\n",
      "dense_2 (Dense)              (None, 1)                 11        \n",
      "=================================================================\n",
      "Total params: 12,571\n",
      "Trainable params: 12,571\n",
      "Non-trainable params: 0\n",
      "_________________________________________________________________\n"
     ]
    }
   ],
   "source": [
    "model.summary()"
   ]
  },
  {
   "cell_type": "code",
   "execution_count": 28,
   "metadata": {
    "collapsed": false
   },
   "outputs": [],
   "source": [
    "model.compile(loss='binary_crossentropy', \n",
    "              optimizer='adam', metrics=['accuracy'])"
   ]
  },
  {
   "cell_type": "code",
   "execution_count": 29,
   "metadata": {
    "collapsed": false
   },
   "outputs": [
    {
     "name": "stdout",
     "output_type": "stream",
     "text": [
      "Train on 10194 samples, validate on 2549 samples\n",
      "Epoch 1/30\n",
      "10194/10194 [==============================] - 7s 668us/step - loss: 0.6586 - acc: 0.6433 - val_loss: 0.6059 - val_acc: 0.6862\n",
      "Epoch 2/30\n",
      "10194/10194 [==============================] - 3s 296us/step - loss: 0.5488 - acc: 0.7366 - val_loss: 0.4929 - val_acc: 0.7674\n",
      "Epoch 3/30\n",
      "10194/10194 [==============================] - 3s 311us/step - loss: 0.4788 - acc: 0.7769 - val_loss: 0.4725 - val_acc: 0.7776\n",
      "Epoch 4/30\n",
      "10194/10194 [==============================] - 3s 288us/step - loss: 0.4603 - acc: 0.7843 - val_loss: 0.4549 - val_acc: 0.7819\n",
      "Epoch 5/30\n",
      "10194/10194 [==============================] - 3s 308us/step - loss: 0.4454 - acc: 0.7920 - val_loss: 0.4410 - val_acc: 0.7952\n",
      "Epoch 6/30\n",
      "10194/10194 [==============================] - 3s 294us/step - loss: 0.4327 - acc: 0.7989 - val_loss: 0.4287 - val_acc: 0.8023\n",
      "Epoch 7/30\n",
      "10194/10194 [==============================] - 3s 309us/step - loss: 0.4133 - acc: 0.8119 - val_loss: 0.4110 - val_acc: 0.8121\n",
      "Epoch 8/30\n",
      "10194/10194 [==============================] - 3s 289us/step - loss: 0.3909 - acc: 0.8264 - val_loss: 0.3791 - val_acc: 0.8364\n",
      "Epoch 9/30\n",
      "10194/10194 [==============================] - 3s 310us/step - loss: 0.3677 - acc: 0.8427 - val_loss: 0.3673 - val_acc: 0.8450\n",
      "Epoch 10/30\n",
      "10194/10194 [==============================] - 3s 289us/step - loss: 0.3584 - acc: 0.8511 - val_loss: 0.3619 - val_acc: 0.8466\n",
      "Epoch 11/30\n",
      "10194/10194 [==============================] - 3s 308us/step - loss: 0.3516 - acc: 0.8510 - val_loss: 0.3537 - val_acc: 0.8497\n",
      "Epoch 12/30\n",
      "10194/10194 [==============================] - 3s 299us/step - loss: 0.3455 - acc: 0.8545 - val_loss: 0.3503 - val_acc: 0.8509\n",
      "Epoch 13/30\n",
      "10194/10194 [==============================] - 3s 331us/step - loss: 0.3402 - acc: 0.8586 - val_loss: 0.3504 - val_acc: 0.8599\n",
      "Epoch 14/30\n",
      "10194/10194 [==============================] - 3s 317us/step - loss: 0.3384 - acc: 0.8588 - val_loss: 0.3467 - val_acc: 0.8552\n",
      "Epoch 15/30\n",
      "10194/10194 [==============================] - 3s 314us/step - loss: 0.3331 - acc: 0.8613 - val_loss: 0.3448 - val_acc: 0.8568\n",
      "Epoch 16/30\n",
      "10194/10194 [==============================] - 3s 316us/step - loss: 0.3322 - acc: 0.8617 - val_loss: 0.3474 - val_acc: 0.8490\n",
      "Epoch 17/30\n",
      "10194/10194 [==============================] - 3s 307us/step - loss: 0.3317 - acc: 0.8612 - val_loss: 0.3422 - val_acc: 0.8611\n",
      "Epoch 18/30\n",
      "10194/10194 [==============================] - 3s 326us/step - loss: 0.3302 - acc: 0.8612 - val_loss: 0.3438 - val_acc: 0.8588\n",
      "Epoch 19/30\n",
      "10194/10194 [==============================] - 3s 323us/step - loss: 0.3264 - acc: 0.8625 - val_loss: 0.3422 - val_acc: 0.8607\n",
      "Epoch 20/30\n",
      "10194/10194 [==============================] - 3s 296us/step - loss: 0.3243 - acc: 0.8642 - val_loss: 0.3405 - val_acc: 0.8611\n",
      "Epoch 21/30\n",
      "10194/10194 [==============================] - 3s 311us/step - loss: 0.3248 - acc: 0.8625 - val_loss: 0.3432 - val_acc: 0.8564\n",
      "Epoch 22/30\n",
      "10194/10194 [==============================] - 3s 305us/step - loss: 0.3242 - acc: 0.8622 - val_loss: 0.3410 - val_acc: 0.8580\n",
      "Epoch 23/30\n",
      "10194/10194 [==============================] - 3s 313us/step - loss: 0.3223 - acc: 0.8661 - val_loss: 0.3390 - val_acc: 0.8619\n",
      "Epoch 24/30\n",
      "10194/10194 [==============================] - 3s 293us/step - loss: 0.3214 - acc: 0.8638 - val_loss: 0.3391 - val_acc: 0.8647\n",
      "Epoch 25/30\n",
      "10194/10194 [==============================] - 3s 310us/step - loss: 0.3210 - acc: 0.8650 - val_loss: 0.3407 - val_acc: 0.8639\n",
      "Epoch 26/30\n",
      "10194/10194 [==============================] - 3s 292us/step - loss: 0.3190 - acc: 0.8653 - val_loss: 0.3380 - val_acc: 0.8647\n",
      "Epoch 27/30\n",
      "10194/10194 [==============================] - 3s 312us/step - loss: 0.3191 - acc: 0.8653 - val_loss: 0.3389 - val_acc: 0.8584\n",
      "Epoch 28/30\n",
      "10194/10194 [==============================] - 3s 298us/step - loss: 0.3180 - acc: 0.8665 - val_loss: 0.3398 - val_acc: 0.8611\n",
      "Epoch 29/30\n",
      "10194/10194 [==============================] - 3s 309us/step - loss: 0.3188 - acc: 0.8665 - val_loss: 0.3383 - val_acc: 0.8607\n",
      "Epoch 30/30\n",
      "10194/10194 [==============================] - 3s 294us/step - loss: 0.3174 - acc: 0.8677 - val_loss: 0.3394 - val_acc: 0.8588\n"
     ]
    }
   ],
   "source": [
    "train_history =model.fit(x=train_Features, \n",
    "                         y=train_Label, \n",
    "                         validation_split=0.2, \n",
    "                         epochs=30, \n",
    "                         batch_size=400,verbose=1)"
   ]
  },
  {
   "cell_type": "code",
   "execution_count": 30,
   "metadata": {
    "collapsed": true
   },
   "outputs": [],
   "source": [
    "import matplotlib.pyplot as plt\n",
    "def show_train_history(train_history,train,validation):\n",
    "    plt.plot(train_history.history[train])\n",
    "    plt.plot(train_history.history[validation])\n",
    "    plt.title('Train History')\n",
    "    plt.ylabel(train)\n",
    "    plt.xlabel('Epoch')\n",
    "    plt.legend(['train', 'validation'], loc='upper left')\n",
    "    plt.show()"
   ]
  },
  {
   "cell_type": "code",
   "execution_count": 31,
   "metadata": {
    "collapsed": false
   },
   "outputs": [
    {
     "data": {
      "image/png": "[encoded data removed]",
      "text/plain": [
       "<matplotlib.figure.Figure at 0x7f0583d40ef0>"
      ]
     },
     "metadata": {},
     "output_type": "display_data"
    }
   ],
   "source": [
    "show_train_history(train_history,'acc','val_acc')"
   ]
  },
  {
   "cell_type": "code",
   "execution_count": 32,
   "metadata": {
    "collapsed": false
   },
   "outputs": [
    {
     "data": {
      "image/png": "[encoded data removed]",
      "text/plain": [
       "<matplotlib.figure.Figure at 0x7f0583d3b780>"
      ]
     },
     "metadata": {},
     "output_type": "display_data"
    }
   ],
   "source": [
    "show_train_history(train_history,'loss','val_loss')"
   ]
  },
  {
   "cell_type": "code",
   "execution_count": 33,
   "metadata": {
    "collapsed": false
   },
   "outputs": [
    {
     "name": "stdout",
     "output_type": "stream",
     "text": [
      "6277/6277 [==============================] - 2s 286us/step\n"
     ]
    }
   ],
   "source": [
    "scores = model.evaluate(x=test_Features, \n",
    "                        y=test_Label)"
   ]
  },
  {
   "cell_type": "code",
   "execution_count": 34,
   "metadata": {
    "collapsed": false
   },
   "outputs": [
    {
     "data": {
      "text/plain": [
       "0.8604428867293293"
      ]
     },
     "execution_count": 34,
     "metadata": {},
     "output_type": "execute_result"
    }
   ],
   "source": [
    "scores[1]"
   ]
  }
 ],
 "metadata": {
  "anaconda-cloud": {},
  "kernelspec": {
   "display_name": "Python [default]",
   "language": "python",
   "name": "python3"
  },
  "language_info": {
   "codemirror_mode": {
    "name": "ipython",
    "version": 3
   },
   "file_extension": ".py",
   "mimetype": "text/x-python",
   "name": "python",
   "nbconvert_exporter": "python",
   "pygments_lexer": "ipython3",
   "version": "3.5.2"
  }
 },
 "nbformat": 4,
 "nbformat_minor": 1
}
