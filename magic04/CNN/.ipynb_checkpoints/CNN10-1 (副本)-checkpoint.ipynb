{
 "cells": [
  {
   "cell_type": "code",
   "execution_count": 1,
   "metadata": {
    "collapsed": false
   },
   "outputs": [],
   "source": [
    "import numpy as np\n",
    "import pandas as pd\n",
    "from sklearn.preprocessing import StandardScaler\n",
    "from sklearn.model_selection import train_test_split"
   ]
  },
  {
   "cell_type": "code",
   "execution_count": 2,
   "metadata": {
    "collapsed": false
   },
   "outputs": [],
   "source": [
    "Ynames = ['fLength', 'fWidth', 'fSize', 'fConc', 'fConc1', 'fAsym', \n",
    "             'fM3Long', 'fM3Trans', 'fAlpha', 'fDist', 'identity']\n",
    "featureNames = ['fLength', 'fWidth', 'fSize', 'fConc', 'fConc1', 'fAsym', \n",
    "             'fM3Long', 'fM3Trans', 'fAlpha', 'fDist']\n",
    "filepath = 'magic04.data'\n",
    "data = pd.read_csv(filepath, names=Ynames, header=None)\n",
    "data['identity']= data['identity'].map({'g':1, 'h': 0}).astype(int) \n",
    "X = data[featureNames].values\n",
    "Y = data['identity'].values.astype('int64')"
   ]
  },
  {
   "cell_type": "code",
   "execution_count": 3,
   "metadata": {
    "collapsed": false
   },
   "outputs": [
    {
     "data": {
      "text/plain": [
       "array([[-0.52383367, -0.28748984, -0.47635109, -0.07399592, -0.02133001,\n",
       "         0.30471913,  0.21940634,  0.72913781, -0.60841461,  0.22480949],\n",
       "       [ 0.01829031, -0.23416363,  0.42126289, -0.57452013, -0.43125548,\n",
       "         0.43785933,  0.64927743,  0.28324794, -0.96336705,  0.97885919]])"
      ]
     },
     "execution_count": 3,
     "metadata": {},
     "output_type": "execute_result"
    }
   ],
   "source": [
    "X = StandardScaler().fit_transform(X)\n",
    "train_Features, test_Features, train_Label, test_Label = train_test_split(X, Y, test_size=0.33, random_state=None) \n",
    "train_Features[:2]"
   ]
  },
  {
   "cell_type": "code",
   "execution_count": 4,
   "metadata": {
    "collapsed": false
   },
   "outputs": [
    {
     "data": {
      "text/plain": [
       "array([[-0.29071922, -0.42617725, -0.59315517,  0.22960073,  0.00672228,\n",
       "         0.97351451, -0.07048296,  0.45913112, -1.04400932, -0.43294665],\n",
       "       [-0.14387431, -0.26154353,  0.15358687, -0.58491353, -0.61947733,\n",
       "        -0.07876689, -0.49716182,  0.45117986, -1.01232706,  0.31710197]])"
      ]
     },
     "execution_count": 4,
     "metadata": {},
     "output_type": "execute_result"
    }
   ],
   "source": [
    "test_Features[:2]"
   ]
  },
  {
   "cell_type": "code",
   "execution_count": 5,
   "metadata": {
    "collapsed": false
   },
   "outputs": [
    {
     "data": {
      "text/plain": [
       "array([1, 1, 1, 0])"
      ]
     },
     "execution_count": 5,
     "metadata": {},
     "output_type": "execute_result"
    }
   ],
   "source": [
    "train_Label[:4]"
   ]
  },
  {
   "cell_type": "code",
   "execution_count": 6,
   "metadata": {
    "collapsed": false
   },
   "outputs": [],
   "source": [
    "train_Features = train_Features.reshape((train_Features.shape[0], train_Features.shape[1], 1))\n",
    "test_Features = test_Features.reshape((test_Features.shape[0], test_Features.shape[1], 1))"
   ]
  },
  {
   "cell_type": "code",
   "execution_count": 7,
   "metadata": {
    "collapsed": false
   },
   "outputs": [
    {
     "data": {
      "text/plain": [
       "(12743, 10, 1)"
      ]
     },
     "execution_count": 7,
     "metadata": {},
     "output_type": "execute_result"
    }
   ],
   "source": [
    "train_Features.shape"
   ]
  },
  {
   "cell_type": "code",
   "execution_count": 8,
   "metadata": {
    "collapsed": false
   },
   "outputs": [
    {
     "name": "stderr",
     "output_type": "stream",
     "text": [
      "Using TensorFlow backend.\n"
     ]
    }
   ],
   "source": [
    "from keras.models import Sequential\n",
    "from keras.layers import Dense,Dropout,Flatten,Conv1D,MaxPooling1D\n",
    "from keras.layers.embeddings import Embedding\n",
    "from keras.callbacks import EarlyStopping\n",
    "early_stopping = EarlyStopping(monitor='val_loss', patience=2)"
   ]
  },
  {
   "cell_type": "code",
   "execution_count": 9,
   "metadata": {
    "collapsed": true
   },
   "outputs": [],
   "source": [
    "model = Sequential()"
   ]
  },
  {
   "cell_type": "code",
   "execution_count": 10,
   "metadata": {
    "collapsed": true
   },
   "outputs": [],
   "source": [
    "model.add(Conv1D(filters=10*2,\n",
    "                 kernel_size=3,\n",
    "                 padding='valid',\n",
    "                 input_shape=(10,1), \n",
    "                 activation='relu'))"
   ]
  },
  {
   "cell_type": "code",
   "execution_count": 11,
   "metadata": {
    "collapsed": true
   },
   "outputs": [],
   "source": [
    "model.add(MaxPooling1D(pool_size=1))"
   ]
  },
  {
   "cell_type": "code",
   "execution_count": 12,
   "metadata": {
    "collapsed": true
   },
   "outputs": [],
   "source": [
    "model.add(Conv1D(filters=10,\n",
    "                 kernel_size=3,\n",
    "                 padding='valid',\n",
    "                 activation='relu'))"
   ]
  },
  {
   "cell_type": "code",
   "execution_count": 13,
   "metadata": {
    "collapsed": false
   },
   "outputs": [],
   "source": [
    "model.add(MaxPooling1D(pool_size=1))"
   ]
  },
  {
   "cell_type": "code",
   "execution_count": 14,
   "metadata": {
    "collapsed": true
   },
   "outputs": [],
   "source": [
    "model.add(Flatten())"
   ]
  },
  {
   "cell_type": "code",
   "execution_count": 15,
   "metadata": {
    "collapsed": true
   },
   "outputs": [],
   "source": [
    "model.add(Dense(10, activation='tanh'))"
   ]
  },
  {
   "cell_type": "code",
   "execution_count": 16,
   "metadata": {
    "collapsed": true
   },
   "outputs": [],
   "source": [
    "model.add(Dense(1,activation='sigmoid'))"
   ]
  },
  {
   "cell_type": "code",
   "execution_count": 17,
   "metadata": {
    "collapsed": false
   },
   "outputs": [
    {
     "name": "stdout",
     "output_type": "stream",
     "text": [
      "_________________________________________________________________\n",
      "Layer (type)                 Output Shape              Param #   \n",
      "=================================================================\n",
      "conv1d_1 (Conv1D)            (None, 8, 20)             80        \n",
      "_________________________________________________________________\n",
      "max_pooling1d_1 (MaxPooling1 (None, 8, 20)             0         \n",
      "_________________________________________________________________\n",
      "conv1d_2 (Conv1D)            (None, 6, 10)             610       \n",
      "_________________________________________________________________\n",
      "max_pooling1d_2 (MaxPooling1 (None, 6, 10)             0         \n",
      "_________________________________________________________________\n",
      "flatten_1 (Flatten)          (None, 60)                0         \n",
      "_________________________________________________________________\n",
      "dense_1 (Dense)              (None, 10)                610       \n",
      "_________________________________________________________________\n",
      "dense_2 (Dense)              (None, 1)                 11        \n",
      "=================================================================\n",
      "Total params: 1,311\n",
      "Trainable params: 1,311\n",
      "Non-trainable params: 0\n",
      "_________________________________________________________________\n"
     ]
    }
   ],
   "source": [
    "model.summary()"
   ]
  },
  {
   "cell_type": "code",
   "execution_count": 18,
   "metadata": {
    "collapsed": false
   },
   "outputs": [],
   "source": [
    "model.compile(loss='binary_crossentropy', \n",
    "              optimizer='adam', metrics=['accuracy'])"
   ]
  },
  {
   "cell_type": "code",
   "execution_count": 19,
   "metadata": {
    "collapsed": false
   },
   "outputs": [
    {
     "name": "stdout",
     "output_type": "stream",
     "text": [
      "Train on 10194 samples, validate on 2549 samples\n",
      "Epoch 1/30\n",
      "10194/10194 [==============================] - 2s 239us/step - loss: 0.6647 - acc: 0.6248 - val_loss: 0.6185 - val_acc: 0.7042\n",
      "Epoch 2/30\n",
      "10194/10194 [==============================] - 1s 63us/step - loss: 0.5843 - acc: 0.7147 - val_loss: 0.5466 - val_acc: 0.7262\n",
      "Epoch 3/30\n",
      "10194/10194 [==============================] - 1s 68us/step - loss: 0.5132 - acc: 0.7548 - val_loss: 0.4758 - val_acc: 0.7882\n",
      "Epoch 4/30\n",
      "10194/10194 [==============================] - 1s 70us/step - loss: 0.4508 - acc: 0.8011 - val_loss: 0.4233 - val_acc: 0.8266\n",
      "Epoch 5/30\n",
      "10194/10194 [==============================] - 1s 76us/step - loss: 0.4108 - acc: 0.8233 - val_loss: 0.3912 - val_acc: 0.8372\n",
      "Epoch 6/30\n",
      "10194/10194 [==============================] - 1s 75us/step - loss: 0.3868 - acc: 0.8337 - val_loss: 0.3768 - val_acc: 0.8415\n",
      "Epoch 7/30\n",
      "10194/10194 [==============================] - 1s 88us/step - loss: 0.3716 - acc: 0.8427 - val_loss: 0.3629 - val_acc: 0.8513\n",
      "Epoch 8/30\n",
      "10194/10194 [==============================] - 1s 92us/step - loss: 0.3604 - acc: 0.8466 - val_loss: 0.3584 - val_acc: 0.8552\n",
      "Epoch 9/30\n",
      "10194/10194 [==============================] - 1s 63us/step - loss: 0.3530 - acc: 0.8516 - val_loss: 0.3535 - val_acc: 0.8592\n",
      "Epoch 10/30\n",
      "10194/10194 [==============================] - 1s 77us/step - loss: 0.3478 - acc: 0.8542 - val_loss: 0.3552 - val_acc: 0.8568\n",
      "Epoch 11/30\n",
      "10194/10194 [==============================] - 1s 72us/step - loss: 0.3447 - acc: 0.8562 - val_loss: 0.3481 - val_acc: 0.8615\n",
      "Epoch 12/30\n",
      "10194/10194 [==============================] - 1s 85us/step - loss: 0.3414 - acc: 0.8583 - val_loss: 0.3463 - val_acc: 0.8611\n",
      "Epoch 13/30\n",
      "10194/10194 [==============================] - 1s 82us/step - loss: 0.3390 - acc: 0.8598 - val_loss: 0.3426 - val_acc: 0.8615\n",
      "Epoch 14/30\n",
      "10194/10194 [==============================] - 1s 85us/step - loss: 0.3373 - acc: 0.8605 - val_loss: 0.3411 - val_acc: 0.8627\n",
      "Epoch 15/30\n",
      "10194/10194 [==============================] - 1s 89us/step - loss: 0.3350 - acc: 0.8620 - val_loss: 0.3407 - val_acc: 0.8623\n",
      "Epoch 16/30\n",
      "10194/10194 [==============================] - 1s 106us/step - loss: 0.3340 - acc: 0.8633 - val_loss: 0.3374 - val_acc: 0.8627\n",
      "Epoch 17/30\n",
      "10194/10194 [==============================] - 1s 99us/step - loss: 0.3329 - acc: 0.8630 - val_loss: 0.3382 - val_acc: 0.8631\n",
      "Epoch 18/30\n",
      "10194/10194 [==============================] - 1s 93us/step - loss: 0.3309 - acc: 0.8645 - val_loss: 0.3369 - val_acc: 0.8627\n",
      "Epoch 19/30\n",
      "10194/10194 [==============================] - 1s 93us/step - loss: 0.3299 - acc: 0.8643 - val_loss: 0.3394 - val_acc: 0.8623\n",
      "Epoch 20/30\n",
      "10194/10194 [==============================] - 1s 92us/step - loss: 0.3291 - acc: 0.8661 - val_loss: 0.3345 - val_acc: 0.8654\n",
      "Epoch 21/30\n",
      "10194/10194 [==============================] - 1s 88us/step - loss: 0.3276 - acc: 0.8655 - val_loss: 0.3354 - val_acc: 0.8639\n",
      "Epoch 22/30\n",
      "10194/10194 [==============================] - 1s 88us/step - loss: 0.3266 - acc: 0.8648 - val_loss: 0.3341 - val_acc: 0.8650\n",
      "Epoch 23/30\n",
      "10194/10194 [==============================] - 1s 97us/step - loss: 0.3267 - acc: 0.8664 - val_loss: 0.3329 - val_acc: 0.8643\n",
      "Epoch 24/30\n",
      "10194/10194 [==============================] - 1s 92us/step - loss: 0.3248 - acc: 0.8675 - val_loss: 0.3336 - val_acc: 0.8654\n",
      "Epoch 25/30\n",
      "10194/10194 [==============================] - 1s 96us/step - loss: 0.3252 - acc: 0.8663 - val_loss: 0.3305 - val_acc: 0.8643\n",
      "Epoch 26/30\n",
      "10194/10194 [==============================] - 1s 92us/step - loss: 0.3234 - acc: 0.8684 - val_loss: 0.3317 - val_acc: 0.8647\n",
      "Epoch 27/30\n",
      "10194/10194 [==============================] - 1s 107us/step - loss: 0.3224 - acc: 0.8675 - val_loss: 0.3306 - val_acc: 0.8654\n",
      "Epoch 28/30\n",
      "10194/10194 [==============================] - 1s 92us/step - loss: 0.3232 - acc: 0.8652 - val_loss: 0.3295 - val_acc: 0.8666\n",
      "Epoch 29/30\n",
      "10194/10194 [==============================] - 1s 94us/step - loss: 0.3213 - acc: 0.8663 - val_loss: 0.3305 - val_acc: 0.8662\n",
      "Epoch 30/30\n",
      "10194/10194 [==============================] - 1s 92us/step - loss: 0.3217 - acc: 0.8666 - val_loss: 0.3290 - val_acc: 0.8674\n"
     ]
    }
   ],
   "source": [
    "train_history =model.fit(x=train_Features, \n",
    "                         y=train_Label, \n",
    "                         validation_split=0.2, \n",
    "                         epochs=30, \n",
    "                         batch_size=400,verbose=1)"
   ]
  },
  {
   "cell_type": "code",
   "execution_count": 20,
   "metadata": {
    "collapsed": true
   },
   "outputs": [],
   "source": [
    "import matplotlib.pyplot as plt\n",
    "def show_train_history(train_history,train,validation):\n",
    "    plt.plot(train_history.history[train])\n",
    "    plt.plot(train_history.history[validation])\n",
    "    plt.title('Train History')\n",
    "    plt.ylabel(train)\n",
    "    plt.xlabel('Epoch')\n",
    "    plt.legend(['train', 'validation'], loc='upper left')\n",
    "    plt.show()"
   ]
  },
  {
   "cell_type": "code",
   "execution_count": 21,
   "metadata": {
    "collapsed": false
   },
   "outputs": [
    {
     "data": {
      "image/png": "[encoded data removed]",
      "text/plain": [
       "<matplotlib.figure.Figure at 0x7fe09ae84a90>"
      ]
     },
     "metadata": {},
     "output_type": "display_data"
    }
   ],
   "source": [
    "show_train_history(train_history,'acc','val_acc')"
   ]
  },
  {
   "cell_type": "code",
   "execution_count": 22,
   "metadata": {
    "collapsed": false
   },
   "outputs": [
    {
     "data": {
      "image/png": "[encoded data removed]",
      "text/plain": [
       "<matplotlib.figure.Figure at 0x7fe098757c88>"
      ]
     },
     "metadata": {},
     "output_type": "display_data"
    }
   ],
   "source": [
    "show_train_history(train_history,'loss','val_loss')"
   ]
  },
  {
   "cell_type": "code",
   "execution_count": 23,
   "metadata": {
    "collapsed": false
   },
   "outputs": [
    {
     "name": "stdout",
     "output_type": "stream",
     "text": [
      "6277/6277 [==============================] - 1s 84us/step\n"
     ]
    }
   ],
   "source": [
    "scores = model.evaluate(x=test_Features, \n",
    "                        y=test_Label)"
   ]
  },
  {
   "cell_type": "code",
   "execution_count": 24,
   "metadata": {
    "collapsed": false
   },
   "outputs": [
    {
     "data": {
      "text/plain": [
       "0.864903616386746"
      ]
     },
     "execution_count": 24,
     "metadata": {},
     "output_type": "execute_result"
    }
   ],
   "source": [
    "scores[1]"
   ]
  }
 ],
 "metadata": {
  "anaconda-cloud": {},
  "kernelspec": {
   "display_name": "Python [default]",
   "language": "python",
   "name": "python3"
  },
  "language_info": {
   "codemirror_mode": {
    "name": "ipython",
    "version": 3
   },
   "file_extension": ".py",
   "mimetype": "text/x-python",
   "name": "python",
   "nbconvert_exporter": "python",
   "pygments_lexer": "ipython3",
   "version": "3.5.2"
  }
 },
 "nbformat": 4,
 "nbformat_minor": 1
}
