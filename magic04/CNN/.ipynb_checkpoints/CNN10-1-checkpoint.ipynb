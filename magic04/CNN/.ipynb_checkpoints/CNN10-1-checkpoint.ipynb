{
 "cells": [
  {
   "cell_type": "code",
   "execution_count": 1,
   "metadata": {
    "collapsed": false
   },
   "outputs": [],
   "source": [
    "import numpy as np\n",
    "import pandas as pd\n",
    "from sklearn.preprocessing import StandardScaler\n",
    "from sklearn.model_selection import train_test_split"
   ]
  },
  {
   "cell_type": "code",
   "execution_count": 2,
   "metadata": {
    "collapsed": false
   },
   "outputs": [],
   "source": [
    "Ynames = ['fLength', 'fWidth', 'fSize', 'fConc', 'fConc1', 'fAsym', \n",
    "             'fM3Long', 'fM3Trans', 'fAlpha', 'fDist', 'identity']\n",
    "featureNames = ['fLength', 'fWidth', 'fSize', 'fConc', 'fConc1', 'fAsym', \n",
    "             'fM3Long', 'fM3Trans', 'fAlpha', 'fDist']\n",
    "filepath = 'magic04.data'\n",
    "data = pd.read_csv(filepath, names=Ynames, header=None)\n",
    "data['identity']= data['identity'].map({'g':1, 'h': 0}).astype(int) \n",
    "X = data[featureNames].values\n",
    "Y = data['identity'].values.astype('int64')"
   ]
  },
  {
   "cell_type": "code",
   "execution_count": 3,
   "metadata": {
    "collapsed": false
   },
   "outputs": [
    {
     "data": {
      "text/plain": [
       "array([[-7.55406699e-01, -7.09498990e-01, -9.14789595e-01,\n",
       "         1.37451566e+00,  1.51973637e+00,  4.30886997e-02,\n",
       "         5.91436765e-02, -4.86607711e-01,  5.50481918e-01,\n",
       "        -1.18486869e+00],\n",
       "       [-4.10696823e-01, -2.15755921e-01,  3.32813423e-01,\n",
       "        -2.00904790e-01, -5.17018226e-04, -7.38399012e-02,\n",
       "        -2.11364770e-01, -5.88711282e-01, -6.80544435e-01,\n",
       "        -1.43629040e+00]])"
      ]
     },
     "execution_count": 3,
     "metadata": {},
     "output_type": "execute_result"
    }
   ],
   "source": [
    "X = StandardScaler().fit_transform(X)\n",
    "train_Features, test_Features, train_Label, test_Label = train_test_split(X, Y, test_size=0.33, random_state=None) \n",
    "train_Features[:2]"
   ]
  },
  {
   "cell_type": "code",
   "execution_count": 4,
   "metadata": {
    "collapsed": false
   },
   "outputs": [
    {
     "data": {
      "text/plain": [
       "array([[-0.19988919, -0.39889001,  0.13538913, -0.67517199, -0.66291314,\n",
       "         0.60769776,  0.28198627,  0.39447913, -0.90407103,  0.64650192],\n",
       "       [-0.59946438, -0.30613739,  0.12057702,  0.20224968,  0.11802655,\n",
       "        -0.14276202, -0.58675808,  0.45591413, -0.90062697,  0.26188974]])"
      ]
     },
     "execution_count": 4,
     "metadata": {},
     "output_type": "execute_result"
    }
   ],
   "source": [
    "test_Features[:2]"
   ]
  },
  {
   "cell_type": "code",
   "execution_count": 5,
   "metadata": {
    "collapsed": false
   },
   "outputs": [
    {
     "data": {
      "text/plain": [
       "array([1, 0, 1, 1])"
      ]
     },
     "execution_count": 5,
     "metadata": {},
     "output_type": "execute_result"
    }
   ],
   "source": [
    "train_Label[:4]"
   ]
  },
  {
   "cell_type": "code",
   "execution_count": 6,
   "metadata": {
    "collapsed": false
   },
   "outputs": [],
   "source": [
    "train_Features = train_Features.reshape((train_Features.shape[0], train_Features.shape[1], 1))\n",
    "test_Features = test_Features.reshape((test_Features.shape[0], test_Features.shape[1], 1))"
   ]
  },
  {
   "cell_type": "code",
   "execution_count": 7,
   "metadata": {
    "collapsed": false
   },
   "outputs": [
    {
     "data": {
      "text/plain": [
       "(12743, 10, 1)"
      ]
     },
     "execution_count": 7,
     "metadata": {},
     "output_type": "execute_result"
    }
   ],
   "source": [
    "train_Features.shape"
   ]
  },
  {
   "cell_type": "code",
   "execution_count": 8,
   "metadata": {
    "collapsed": false
   },
   "outputs": [
    {
     "name": "stderr",
     "output_type": "stream",
     "text": [
      "Using TensorFlow backend.\n"
     ]
    }
   ],
   "source": [
    "from keras.models import Sequential\n",
    "from keras.layers import Dense,Dropout,Flatten,Conv1D,MaxPooling1D\n",
    "from keras.layers.embeddings import Embedding\n",
    "from keras.callbacks import EarlyStopping\n",
    "early_stopping = EarlyStopping(monitor='val_loss', patience=2)"
   ]
  },
  {
   "cell_type": "code",
   "execution_count": 9,
   "metadata": {
    "collapsed": true
   },
   "outputs": [],
   "source": [
    "model = Sequential()"
   ]
  },
  {
   "cell_type": "code",
   "execution_count": 10,
   "metadata": {
    "collapsed": true
   },
   "outputs": [],
   "source": [
    "model.add(Conv1D(filters=10,\n",
    "                 kernel_size=1,\n",
    "                 padding='valid',\n",
    "                 input_shape=(10,1), \n",
    "                 activation='relu'))"
   ]
  },
  {
   "cell_type": "code",
   "execution_count": 11,
   "metadata": {
    "collapsed": false
   },
   "outputs": [],
   "source": [
    "model.add(MaxPooling1D(pool_size=1))"
   ]
  },
  {
   "cell_type": "code",
   "execution_count": 12,
   "metadata": {
    "collapsed": true
   },
   "outputs": [],
   "source": [
    "model.add(Flatten())"
   ]
  },
  {
   "cell_type": "code",
   "execution_count": 13,
   "metadata": {
    "collapsed": true
   },
   "outputs": [],
   "source": [
    "model.add(Dense(10, activation='tanh'))"
   ]
  },
  {
   "cell_type": "code",
   "execution_count": 14,
   "metadata": {
    "collapsed": true
   },
   "outputs": [],
   "source": [
    "model.add(Dense(1,activation='sigmoid'))"
   ]
  },
  {
   "cell_type": "code",
   "execution_count": 15,
   "metadata": {
    "collapsed": false
   },
   "outputs": [
    {
     "name": "stdout",
     "output_type": "stream",
     "text": [
      "_________________________________________________________________\n",
      "Layer (type)                 Output Shape              Param #   \n",
      "=================================================================\n",
      "conv1d_1 (Conv1D)            (None, 10, 10)            20        \n",
      "_________________________________________________________________\n",
      "max_pooling1d_1 (MaxPooling1 (None, 10, 10)            0         \n",
      "_________________________________________________________________\n",
      "flatten_1 (Flatten)          (None, 100)               0         \n",
      "_________________________________________________________________\n",
      "dense_1 (Dense)              (None, 10)                1010      \n",
      "_________________________________________________________________\n",
      "dense_2 (Dense)              (None, 1)                 11        \n",
      "=================================================================\n",
      "Total params: 1,041\n",
      "Trainable params: 1,041\n",
      "Non-trainable params: 0\n",
      "_________________________________________________________________\n"
     ]
    }
   ],
   "source": [
    "model.summary()"
   ]
  },
  {
   "cell_type": "code",
   "execution_count": 16,
   "metadata": {
    "collapsed": false
   },
   "outputs": [],
   "source": [
    "model.compile(loss='binary_crossentropy', \n",
    "              optimizer='adam', metrics=['accuracy'])"
   ]
  },
  {
   "cell_type": "code",
   "execution_count": 17,
   "metadata": {
    "collapsed": false
   },
   "outputs": [
    {
     "name": "stdout",
     "output_type": "stream",
     "text": [
      "Train on 10194 samples, validate on 2549 samples\n",
      "Epoch 1/30\n",
      "10194/10194 [==============================] - 1s 138us/step - loss: 0.6566 - acc: 0.6757 - val_loss: 0.6149 - val_acc: 0.7046\n",
      "Epoch 2/30\n",
      "10194/10194 [==============================] - 0s 30us/step - loss: 0.5682 - acc: 0.7294 - val_loss: 0.5508 - val_acc: 0.7250\n",
      "Epoch 3/30\n",
      "10194/10194 [==============================] - 0s 31us/step - loss: 0.5115 - acc: 0.7534 - val_loss: 0.5064 - val_acc: 0.7505\n",
      "Epoch 4/30\n",
      "10194/10194 [==============================] - 0s 29us/step - loss: 0.4720 - acc: 0.7758 - val_loss: 0.4740 - val_acc: 0.7646\n",
      "Epoch 5/30\n",
      "10194/10194 [==============================] - 0s 28us/step - loss: 0.4446 - acc: 0.7918 - val_loss: 0.4523 - val_acc: 0.7827\n",
      "Epoch 6/30\n",
      "10194/10194 [==============================] - 0s 27us/step - loss: 0.4267 - acc: 0.8038 - val_loss: 0.4389 - val_acc: 0.7956\n",
      "Epoch 7/30\n",
      "10194/10194 [==============================] - 0s 26us/step - loss: 0.4139 - acc: 0.8123 - val_loss: 0.4268 - val_acc: 0.8015\n",
      "Epoch 8/30\n",
      "10194/10194 [==============================] - 0s 28us/step - loss: 0.4034 - acc: 0.8190 - val_loss: 0.4169 - val_acc: 0.8074\n",
      "Epoch 9/30\n",
      "10194/10194 [==============================] - 0s 28us/step - loss: 0.3938 - acc: 0.8279 - val_loss: 0.4083 - val_acc: 0.8172\n",
      "Epoch 10/30\n",
      "10194/10194 [==============================] - 0s 28us/step - loss: 0.3856 - acc: 0.8332 - val_loss: 0.4000 - val_acc: 0.8211\n",
      "Epoch 11/30\n",
      "10194/10194 [==============================] - 0s 28us/step - loss: 0.3785 - acc: 0.8379 - val_loss: 0.3938 - val_acc: 0.8239\n",
      "Epoch 12/30\n",
      "10194/10194 [==============================] - 0s 30us/step - loss: 0.3719 - acc: 0.8392 - val_loss: 0.3888 - val_acc: 0.8290\n",
      "Epoch 13/30\n",
      "10194/10194 [==============================] - 0s 29us/step - loss: 0.3670 - acc: 0.8450 - val_loss: 0.3836 - val_acc: 0.8293\n",
      "Epoch 14/30\n",
      "10194/10194 [==============================] - 0s 33us/step - loss: 0.3631 - acc: 0.8461 - val_loss: 0.3809 - val_acc: 0.8356\n",
      "Epoch 15/30\n",
      "10194/10194 [==============================] - 0s 35us/step - loss: 0.3602 - acc: 0.8501 - val_loss: 0.3778 - val_acc: 0.8368\n",
      "Epoch 16/30\n",
      "10194/10194 [==============================] - 0s 30us/step - loss: 0.3565 - acc: 0.8515 - val_loss: 0.3747 - val_acc: 0.8407\n",
      "Epoch 17/30\n",
      "10194/10194 [==============================] - 0s 29us/step - loss: 0.3541 - acc: 0.8530 - val_loss: 0.3726 - val_acc: 0.8435\n",
      "Epoch 18/30\n",
      "10194/10194 [==============================] - 0s 30us/step - loss: 0.3524 - acc: 0.8520 - val_loss: 0.3709 - val_acc: 0.8470\n",
      "Epoch 19/30\n",
      "10194/10194 [==============================] - 0s 35us/step - loss: 0.3506 - acc: 0.8532 - val_loss: 0.3687 - val_acc: 0.8482\n",
      "Epoch 20/30\n",
      "10194/10194 [==============================] - 0s 44us/step - loss: 0.3481 - acc: 0.8536 - val_loss: 0.3679 - val_acc: 0.8482\n",
      "Epoch 21/30\n",
      "10194/10194 [==============================] - 0s 37us/step - loss: 0.3462 - acc: 0.8526 - val_loss: 0.3653 - val_acc: 0.8486\n",
      "Epoch 22/30\n",
      "10194/10194 [==============================] - 0s 41us/step - loss: 0.3445 - acc: 0.8536 - val_loss: 0.3646 - val_acc: 0.8490\n",
      "Epoch 23/30\n",
      "10194/10194 [==============================] - 0s 46us/step - loss: 0.3433 - acc: 0.8552 - val_loss: 0.3630 - val_acc: 0.8454\n",
      "Epoch 24/30\n",
      "10194/10194 [==============================] - 0s 43us/step - loss: 0.3425 - acc: 0.8536 - val_loss: 0.3613 - val_acc: 0.8501\n",
      "Epoch 25/30\n",
      "10194/10194 [==============================] - 0s 35us/step - loss: 0.3405 - acc: 0.8561 - val_loss: 0.3602 - val_acc: 0.8501\n",
      "Epoch 26/30\n",
      "10194/10194 [==============================] - 0s 35us/step - loss: 0.3390 - acc: 0.8569 - val_loss: 0.3599 - val_acc: 0.8486\n",
      "Epoch 27/30\n",
      "10194/10194 [==============================] - 0s 34us/step - loss: 0.3385 - acc: 0.8554 - val_loss: 0.3587 - val_acc: 0.8497\n",
      "Epoch 28/30\n",
      "10194/10194 [==============================] - 0s 34us/step - loss: 0.3377 - acc: 0.8566 - val_loss: 0.3574 - val_acc: 0.8490\n",
      "Epoch 29/30\n",
      "10194/10194 [==============================] - 0s 34us/step - loss: 0.3358 - acc: 0.8575 - val_loss: 0.3564 - val_acc: 0.8501\n",
      "Epoch 30/30\n",
      "10194/10194 [==============================] - 0s 30us/step - loss: 0.3348 - acc: 0.8586 - val_loss: 0.3552 - val_acc: 0.8505\n"
     ]
    }
   ],
   "source": [
    "train_history =model.fit(x=train_Features, \n",
    "                         y=train_Label, \n",
    "                         validation_split=0.2, \n",
    "                         epochs=30, \n",
    "                         batch_size=400,verbose=1)"
   ]
  },
  {
   "cell_type": "code",
   "execution_count": 18,
   "metadata": {
    "collapsed": true
   },
   "outputs": [],
   "source": [
    "import matplotlib.pyplot as plt\n",
    "def show_train_history(train_history,train,validation):\n",
    "    plt.plot(train_history.history[train])\n",
    "    plt.plot(train_history.history[validation])\n",
    "    plt.title('Train History')\n",
    "    plt.ylabel(train)\n",
    "    plt.xlabel('Epoch')\n",
    "    plt.legend(['train', 'validation'], loc='upper left')\n",
    "    plt.show()"
   ]
  },
  {
   "cell_type": "code",
   "execution_count": 19,
   "metadata": {
    "collapsed": false
   },
   "outputs": [
    {
     "data": {
      "image/png": "[encoded data removed]",
      "text/plain": [
       "<matplotlib.figure.Figure at 0x7f5c871a9dd8>"
      ]
     },
     "metadata": {},
     "output_type": "display_data"
    }
   ],
   "source": [
    "show_train_history(train_history,'acc','val_acc')"
   ]
  },
  {
   "cell_type": "code",
   "execution_count": 20,
   "metadata": {
    "collapsed": false
   },
   "outputs": [
    {
     "data": {
      "image/png": "[encoded data removed]",
      "text/plain": [
       "<matplotlib.figure.Figure at 0x7f5c871a9e48>"
      ]
     },
     "metadata": {},
     "output_type": "display_data"
    }
   ],
   "source": [
    "show_train_history(train_history,'loss','val_loss')"
   ]
  },
  {
   "cell_type": "code",
   "execution_count": 21,
   "metadata": {
    "collapsed": false
   },
   "outputs": [
    {
     "name": "stdout",
     "output_type": "stream",
     "text": [
      "6277/6277 [==============================] - 1s 96us/step\n"
     ]
    }
   ],
   "source": [
    "scores = model.evaluate(x=test_Features, \n",
    "                        y=test_Label)"
   ]
  },
  {
   "cell_type": "code",
   "execution_count": 22,
   "metadata": {
    "collapsed": false
   },
   "outputs": [
    {
     "data": {
      "text/plain": [
       "0.8639477457574015"
      ]
     },
     "execution_count": 22,
     "metadata": {},
     "output_type": "execute_result"
    }
   ],
   "source": [
    "scores[1]"
   ]
  }
 ],
 "metadata": {
  "anaconda-cloud": {},
  "kernelspec": {
   "display_name": "Python [default]",
   "language": "python",
   "name": "python3"
  },
  "language_info": {
   "codemirror_mode": {
    "name": "ipython",
    "version": 3
   },
   "file_extension": ".py",
   "mimetype": "text/x-python",
   "name": "python",
   "nbconvert_exporter": "python",
   "pygments_lexer": "ipython3",
   "version": "3.5.2"
  }
 },
 "nbformat": 4,
 "nbformat_minor": 1
}
