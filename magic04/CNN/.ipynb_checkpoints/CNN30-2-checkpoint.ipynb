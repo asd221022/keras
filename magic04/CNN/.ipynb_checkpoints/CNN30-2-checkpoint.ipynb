{
 "cells": [
  {
   "cell_type": "code",
   "execution_count": 1,
   "metadata": {
    "collapsed": false
   },
   "outputs": [],
   "source": [
    "import numpy as np\n",
    "import pandas as pd\n",
    "from sklearn.preprocessing import StandardScaler\n",
    "from sklearn.model_selection import train_test_split"
   ]
  },
  {
   "cell_type": "code",
   "execution_count": 2,
   "metadata": {
    "collapsed": false
   },
   "outputs": [],
   "source": [
    "Ynames = ['fLength', 'fWidth', 'fSize', 'fConc', 'fConc1', 'fAsym', \n",
    "             'fM3Long', 'fM3Trans', 'fAlpha', 'fDist', 'identity']\n",
    "featureNames = ['fLength', 'fWidth', 'fSize', 'fConc', 'fConc1', 'fAsym', \n",
    "             'fM3Long', 'fM3Trans', 'fAlpha', 'fDist']\n",
    "filepath = 'magic04.data'\n",
    "data = pd.read_csv(filepath, names=Ynames, header=None)\n",
    "data['identity']= data['identity'].map({'g':1, 'h': 0}).astype(int) \n",
    "X = data[featureNames].values\n",
    "Y = data['identity'].values.astype('int64')"
   ]
  },
  {
   "cell_type": "code",
   "execution_count": 3,
   "metadata": {
    "collapsed": false
   },
   "outputs": [
    {
     "data": {
      "text/plain": [
       "array([[-0.96035319, -0.56148509, -1.67930617,  1.73609654,  1.38218964,\n",
       "         0.34397121, -0.3862121 , -0.49292646,  1.04818075, -0.01164229],\n",
       "       [-0.75761614, -0.68072366, -0.79311868,  1.35318184,  1.28264924,\n",
       "         0.05240049,  0.05833777,  0.29789727,  0.56389037, -0.6534075 ]])"
      ]
     },
     "execution_count": 3,
     "metadata": {},
     "output_type": "execute_result"
    }
   ],
   "source": [
    "X = StandardScaler().fit_transform(X)\n",
    "train_Features, test_Features, train_Label, test_Label = train_test_split(X, Y, test_size=0.33, random_state=None) \n",
    "train_Features[:2]"
   ]
  },
  {
   "cell_type": "code",
   "execution_count": 4,
   "metadata": {
    "collapsed": false
   },
   "outputs": [
    {
     "data": {
      "text/plain": [
       "array([[ 0.75011897,  0.23218318,  1.60644344, -0.8266968 , -0.69006052,\n",
       "        -0.54193434,  0.89721279, -0.86876268, -1.00841945,  1.48552439],\n",
       "       [-0.12630504, -0.04779715, -0.03304574, -0.36829321, -0.36338702,\n",
       "         0.50933362,  0.47285948,  0.58903049, -0.31324856,  1.00727757]])"
      ]
     },
     "execution_count": 4,
     "metadata": {},
     "output_type": "execute_result"
    }
   ],
   "source": [
    "test_Features[:2]"
   ]
  },
  {
   "cell_type": "code",
   "execution_count": 5,
   "metadata": {
    "collapsed": false
   },
   "outputs": [
    {
     "data": {
      "text/plain": [
       "array([1, 0, 1, 1])"
      ]
     },
     "execution_count": 5,
     "metadata": {},
     "output_type": "execute_result"
    }
   ],
   "source": [
    "train_Label[:4]"
   ]
  },
  {
   "cell_type": "code",
   "execution_count": 6,
   "metadata": {
    "collapsed": false
   },
   "outputs": [],
   "source": [
    "train_Features = train_Features.reshape((train_Features.shape[0], train_Features.shape[1], 1))\n",
    "test_Features = test_Features.reshape((test_Features.shape[0], test_Features.shape[1], 1))"
   ]
  },
  {
   "cell_type": "code",
   "execution_count": 7,
   "metadata": {
    "collapsed": false
   },
   "outputs": [
    {
     "data": {
      "text/plain": [
       "(12743, 10, 1)"
      ]
     },
     "execution_count": 7,
     "metadata": {},
     "output_type": "execute_result"
    }
   ],
   "source": [
    "train_Features.shape"
   ]
  },
  {
   "cell_type": "code",
   "execution_count": 8,
   "metadata": {
    "collapsed": false
   },
   "outputs": [
    {
     "name": "stderr",
     "output_type": "stream",
     "text": [
      "Using TensorFlow backend.\n"
     ]
    }
   ],
   "source": [
    "from keras.models import Sequential\n",
    "from keras.layers import Dense,Dropout,Flatten,Conv1D,MaxPooling1D\n",
    "from keras.layers.embeddings import Embedding\n",
    "from keras.callbacks import EarlyStopping\n",
    "early_stopping = EarlyStopping(monitor='val_loss', patience=2)"
   ]
  },
  {
   "cell_type": "code",
   "execution_count": 9,
   "metadata": {
    "collapsed": true
   },
   "outputs": [],
   "source": [
    "model = Sequential()"
   ]
  },
  {
   "cell_type": "code",
   "execution_count": 10,
   "metadata": {
    "collapsed": true
   },
   "outputs": [],
   "source": [
    "model.add(Conv1D(filters=30*2,\n",
    "                 kernel_size=1,\n",
    "                 padding='valid',\n",
    "                 input_shape=(10,1), \n",
    "                 activation='relu'))"
   ]
  },
  {
   "cell_type": "code",
   "execution_count": 11,
   "metadata": {
    "collapsed": true
   },
   "outputs": [],
   "source": [
    "model.add(MaxPooling1D(pool_size=1))"
   ]
  },
  {
   "cell_type": "code",
   "execution_count": 12,
   "metadata": {
    "collapsed": true
   },
   "outputs": [],
   "source": [
    "model.add(Conv1D(filters=30,\n",
    "                 kernel_size=1,\n",
    "                 padding='valid',\n",
    "                 activation='relu'))"
   ]
  },
  {
   "cell_type": "code",
   "execution_count": 13,
   "metadata": {
    "collapsed": false
   },
   "outputs": [],
   "source": [
    "model.add(MaxPooling1D(pool_size=1))"
   ]
  },
  {
   "cell_type": "code",
   "execution_count": 14,
   "metadata": {
    "collapsed": true
   },
   "outputs": [],
   "source": [
    "model.add(Flatten())"
   ]
  },
  {
   "cell_type": "code",
   "execution_count": 15,
   "metadata": {
    "collapsed": true
   },
   "outputs": [],
   "source": [
    "model.add(Dense(10, activation='tanh'))"
   ]
  },
  {
   "cell_type": "code",
   "execution_count": 16,
   "metadata": {
    "collapsed": true
   },
   "outputs": [],
   "source": [
    "model.add(Dense(1,activation='sigmoid'))"
   ]
  },
  {
   "cell_type": "code",
   "execution_count": 17,
   "metadata": {
    "collapsed": false
   },
   "outputs": [
    {
     "name": "stdout",
     "output_type": "stream",
     "text": [
      "_________________________________________________________________\n",
      "Layer (type)                 Output Shape              Param #   \n",
      "=================================================================\n",
      "conv1d_1 (Conv1D)            (None, 10, 60)            120       \n",
      "_________________________________________________________________\n",
      "max_pooling1d_1 (MaxPooling1 (None, 10, 60)            0         \n",
      "_________________________________________________________________\n",
      "conv1d_2 (Conv1D)            (None, 10, 30)            1830      \n",
      "_________________________________________________________________\n",
      "max_pooling1d_2 (MaxPooling1 (None, 10, 30)            0         \n",
      "_________________________________________________________________\n",
      "flatten_1 (Flatten)          (None, 300)               0         \n",
      "_________________________________________________________________\n",
      "dense_1 (Dense)              (None, 10)                3010      \n",
      "_________________________________________________________________\n",
      "dense_2 (Dense)              (None, 1)                 11        \n",
      "=================================================================\n",
      "Total params: 4,971\n",
      "Trainable params: 4,971\n",
      "Non-trainable params: 0\n",
      "_________________________________________________________________\n"
     ]
    }
   ],
   "source": [
    "model.summary()"
   ]
  },
  {
   "cell_type": "code",
   "execution_count": 18,
   "metadata": {
    "collapsed": false
   },
   "outputs": [],
   "source": [
    "model.compile(loss='binary_crossentropy', \n",
    "              optimizer='adam', metrics=['accuracy'])"
   ]
  },
  {
   "cell_type": "code",
   "execution_count": 19,
   "metadata": {
    "collapsed": false
   },
   "outputs": [
    {
     "name": "stdout",
     "output_type": "stream",
     "text": [
      "Train on 10194 samples, validate on 2549 samples\n",
      "Epoch 1/30\n",
      "10194/10194 [==============================] - 5s 505us/step - loss: 0.6042 - acc: 0.7091 - val_loss: 0.5223 - val_acc: 0.7576\n",
      "Epoch 2/30\n",
      "10194/10194 [==============================] - 1s 114us/step - loss: 0.4687 - acc: 0.7870 - val_loss: 0.4469 - val_acc: 0.7905\n",
      "Epoch 3/30\n",
      "10194/10194 [==============================] - 1s 128us/step - loss: 0.4178 - acc: 0.8138 - val_loss: 0.4200 - val_acc: 0.8078\n",
      "Epoch 4/30\n",
      "10194/10194 [==============================] - 1s 116us/step - loss: 0.3922 - acc: 0.8305 - val_loss: 0.3978 - val_acc: 0.8278\n",
      "Epoch 5/30\n",
      "10194/10194 [==============================] - 1s 119us/step - loss: 0.3730 - acc: 0.8445 - val_loss: 0.3880 - val_acc: 0.8395\n",
      "Epoch 6/30\n",
      "10194/10194 [==============================] - 1s 123us/step - loss: 0.3612 - acc: 0.8489 - val_loss: 0.3726 - val_acc: 0.8482\n",
      "Epoch 7/30\n",
      "10194/10194 [==============================] - 1s 130us/step - loss: 0.3548 - acc: 0.8513 - val_loss: 0.3668 - val_acc: 0.8537\n",
      "Epoch 8/30\n",
      "10194/10194 [==============================] - 1s 129us/step - loss: 0.3495 - acc: 0.8539 - val_loss: 0.3615 - val_acc: 0.8548\n",
      "Epoch 9/30\n",
      "10194/10194 [==============================] - 1s 132us/step - loss: 0.3457 - acc: 0.8544 - val_loss: 0.3581 - val_acc: 0.8529\n",
      "Epoch 10/30\n",
      "10194/10194 [==============================] - 1s 121us/step - loss: 0.3417 - acc: 0.8564 - val_loss: 0.3547 - val_acc: 0.8548\n",
      "Epoch 11/30\n",
      "10194/10194 [==============================] - 1s 127us/step - loss: 0.3388 - acc: 0.8575 - val_loss: 0.3531 - val_acc: 0.8564\n",
      "Epoch 12/30\n",
      "10194/10194 [==============================] - 1s 71us/step - loss: 0.3368 - acc: 0.8588 - val_loss: 0.3508 - val_acc: 0.8548\n",
      "Epoch 13/30\n",
      "10194/10194 [==============================] - 1s 91us/step - loss: 0.3353 - acc: 0.8586 - val_loss: 0.3500 - val_acc: 0.8568\n",
      "Epoch 14/30\n",
      "10194/10194 [==============================] - 1s 93us/step - loss: 0.3324 - acc: 0.8620 - val_loss: 0.3484 - val_acc: 0.8548\n",
      "Epoch 15/30\n",
      "10194/10194 [==============================] - 1s 127us/step - loss: 0.3302 - acc: 0.8626 - val_loss: 0.3498 - val_acc: 0.8521\n",
      "Epoch 16/30\n",
      "10194/10194 [==============================] - 1s 72us/step - loss: 0.3293 - acc: 0.8639 - val_loss: 0.3458 - val_acc: 0.8568\n",
      "Epoch 17/30\n",
      "10194/10194 [==============================] - 1s 62us/step - loss: 0.3290 - acc: 0.8613 - val_loss: 0.3444 - val_acc: 0.8592\n",
      "Epoch 18/30\n",
      "10194/10194 [==============================] - 1s 61us/step - loss: 0.3264 - acc: 0.8659 - val_loss: 0.3456 - val_acc: 0.8564\n",
      "Epoch 19/30\n",
      "10194/10194 [==============================] - 1s 71us/step - loss: 0.3240 - acc: 0.8666 - val_loss: 0.3433 - val_acc: 0.8580\n",
      "Epoch 20/30\n",
      "10194/10194 [==============================] - 1s 63us/step - loss: 0.3230 - acc: 0.8654 - val_loss: 0.3424 - val_acc: 0.8580\n",
      "Epoch 21/30\n",
      "10194/10194 [==============================] - 1s 62us/step - loss: 0.3211 - acc: 0.8663 - val_loss: 0.3431 - val_acc: 0.8592\n",
      "Epoch 22/30\n",
      "10194/10194 [==============================] - 1s 62us/step - loss: 0.3216 - acc: 0.8667 - val_loss: 0.3454 - val_acc: 0.8517\n",
      "Epoch 23/30\n",
      "10194/10194 [==============================] - 1s 63us/step - loss: 0.3184 - acc: 0.8681 - val_loss: 0.3411 - val_acc: 0.8560\n",
      "Epoch 24/30\n",
      "10194/10194 [==============================] - 1s 62us/step - loss: 0.3192 - acc: 0.8696 - val_loss: 0.3446 - val_acc: 0.8572\n",
      "Epoch 25/30\n",
      "10194/10194 [==============================] - 1s 66us/step - loss: 0.3181 - acc: 0.8700 - val_loss: 0.3420 - val_acc: 0.8568\n",
      "Epoch 26/30\n",
      "10194/10194 [==============================] - 1s 62us/step - loss: 0.3164 - acc: 0.8701 - val_loss: 0.3403 - val_acc: 0.8545\n",
      "Epoch 27/30\n",
      "10194/10194 [==============================] - 1s 64us/step - loss: 0.3145 - acc: 0.8694 - val_loss: 0.3386 - val_acc: 0.8576\n",
      "Epoch 28/30\n",
      "10194/10194 [==============================] - 1s 62us/step - loss: 0.3138 - acc: 0.8696 - val_loss: 0.3386 - val_acc: 0.8568\n",
      "Epoch 29/30\n",
      "10194/10194 [==============================] - 1s 62us/step - loss: 0.3110 - acc: 0.8709 - val_loss: 0.3382 - val_acc: 0.8576\n",
      "Epoch 30/30\n",
      "10194/10194 [==============================] - 1s 64us/step - loss: 0.3102 - acc: 0.8713 - val_loss: 0.3372 - val_acc: 0.8556\n"
     ]
    }
   ],
   "source": [
    "train_history =model.fit(x=train_Features, \n",
    "                         y=train_Label, \n",
    "                         validation_split=0.2, \n",
    "                         epochs=30, \n",
    "                         batch_size=400,verbose=1)"
   ]
  },
  {
   "cell_type": "code",
   "execution_count": 20,
   "metadata": {
    "collapsed": true
   },
   "outputs": [],
   "source": [
    "import matplotlib.pyplot as plt\n",
    "def show_train_history(train_history,train,validation):\n",
    "    plt.plot(train_history.history[train])\n",
    "    plt.plot(train_history.history[validation])\n",
    "    plt.title('Train History')\n",
    "    plt.ylabel(train)\n",
    "    plt.xlabel('Epoch')\n",
    "    plt.legend(['train', 'validation'], loc='upper left')\n",
    "    plt.show()"
   ]
  },
  {
   "cell_type": "code",
   "execution_count": 21,
   "metadata": {
    "collapsed": false
   },
   "outputs": [
    {
     "data": {
      "image/png": "[encoded data removed]",
      "text/plain": [
       "<matplotlib.figure.Figure at 0x7f07c51fe630>"
      ]
     },
     "metadata": {},
     "output_type": "display_data"
    }
   ],
   "source": [
    "show_train_history(train_history,'acc','val_acc')"
   ]
  },
  {
   "cell_type": "code",
   "execution_count": 22,
   "metadata": {
    "collapsed": false
   },
   "outputs": [
    {
     "data": {
      "image/png": "[encoded data removed]",
      "text/plain": [
       "<matplotlib.figure.Figure at 0x7f07c5d12e48>"
      ]
     },
     "metadata": {},
     "output_type": "display_data"
    }
   ],
   "source": [
    "show_train_history(train_history,'loss','val_loss')"
   ]
  },
  {
   "cell_type": "code",
   "execution_count": 23,
   "metadata": {
    "collapsed": false
   },
   "outputs": [
    {
     "name": "stdout",
     "output_type": "stream",
     "text": [
      "6277/6277 [==============================] - 0s 69us/step\n"
     ]
    }
   ],
   "source": [
    "scores = model.evaluate(x=test_Features, \n",
    "                        y=test_Label)"
   ]
  },
  {
   "cell_type": "code",
   "execution_count": 24,
   "metadata": {
    "collapsed": false
   },
   "outputs": [
    {
     "data": {
      "text/plain": [
       "0.8604428867293293"
      ]
     },
     "execution_count": 24,
     "metadata": {},
     "output_type": "execute_result"
    }
   ],
   "source": [
    "scores[1]"
   ]
  }
 ],
 "metadata": {
  "anaconda-cloud": {},
  "kernelspec": {
   "display_name": "Python [default]",
   "language": "python",
   "name": "python3"
  },
  "language_info": {
   "codemirror_mode": {
    "name": "ipython",
    "version": 3
   },
   "file_extension": ".py",
   "mimetype": "text/x-python",
   "name": "python",
   "nbconvert_exporter": "python",
   "pygments_lexer": "ipython3",
   "version": "3.5.2"
  }
 },
 "nbformat": 4,
 "nbformat_minor": 1
}
