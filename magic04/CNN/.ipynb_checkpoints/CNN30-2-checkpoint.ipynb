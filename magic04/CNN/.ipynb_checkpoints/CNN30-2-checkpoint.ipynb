{
 "cells": [
  {
   "cell_type": "code",
   "execution_count": 1,
   "metadata": {
    "collapsed": false
   },
   "outputs": [],
   "source": [
    "import numpy as np\n",
    "import pandas as pd\n",
    "from sklearn.preprocessing import StandardScaler\n",
    "from sklearn.model_selection import train_test_split"
   ]
  },
  {
   "cell_type": "code",
   "execution_count": 2,
   "metadata": {
    "collapsed": false
   },
   "outputs": [],
   "source": [
    "Ynames = ['fLength', 'fWidth', 'fSize', 'fConc', 'fConc1', 'fAsym', \n",
    "             'fM3Long', 'fM3Trans', 'fAlpha', 'fDist', 'identity']\n",
    "featureNames = ['fLength', 'fWidth', 'fSize', 'fConc', 'fConc1', 'fAsym', \n",
    "             'fM3Long', 'fM3Trans', 'fAlpha', 'fDist']\n",
    "filepath = 'magic04.data'\n",
    "data = pd.read_csv(filepath, names=Ynames, header=None)\n",
    "data['identity']= data['identity'].map({'g':1, 'h': 0}).astype(int) \n",
    "X = data[featureNames].values\n",
    "Y = data['identity'].values.astype('int64')"
   ]
  },
  {
   "cell_type": "code",
   "execution_count": 3,
   "metadata": {
    "collapsed": false
   },
   "outputs": [
    {
     "data": {
      "text/plain": [
       "array([[-0.84627214, -0.63890431, -0.6102949 ,  1.60864065,  1.22744956,\n",
       "        -0.27530092, -0.4216404 , -0.34573695,  0.47543671, -1.20243865],\n",
       "       [-0.40500564, -0.68264238, -0.91478959,  0.42215212,  0.4202674 ,\n",
       "         0.43782048,  0.31603219,  0.34366982, -0.46276815,  1.06652165]])"
      ]
     },
     "execution_count": 3,
     "metadata": {},
     "output_type": "execute_result"
    }
   ],
   "source": [
    "X = StandardScaler().fit_transform(X)\n",
    "train_Features, test_Features, train_Label, test_Label = train_test_split(X, Y, test_size=0.33, random_state=None) \n",
    "train_Features[:2]"
   ]
  },
  {
   "cell_type": "code",
   "execution_count": 4,
   "metadata": {
    "collapsed": false
   },
   "outputs": [
    {
     "data": {
      "text/plain": [
       "array([[-0.61434503, -0.35604044, -0.359547  ,  0.04963082,  0.06916126,\n",
       "         0.2596685 ,  0.07198712,  0.42593846, -0.28829735, -0.19582579],\n",
       "       [-0.55250441, -0.65956324, -0.98631093,  0.55289013,  0.25557328,\n",
       "         0.76273325, -0.46432574,  0.12717088,  0.06835604, -1.93924623]])"
      ]
     },
     "execution_count": 4,
     "metadata": {},
     "output_type": "execute_result"
    }
   ],
   "source": [
    "test_Features[:2]"
   ]
  },
  {
   "cell_type": "code",
   "execution_count": 5,
   "metadata": {
    "collapsed": false
   },
   "outputs": [
    {
     "data": {
      "text/plain": [
       "array([0, 1, 1, 1])"
      ]
     },
     "execution_count": 5,
     "metadata": {},
     "output_type": "execute_result"
    }
   ],
   "source": [
    "train_Label[:4]"
   ]
  },
  {
   "cell_type": "code",
   "execution_count": 6,
   "metadata": {
    "collapsed": false
   },
   "outputs": [],
   "source": [
    "train_Features = train_Features.reshape((train_Features.shape[0], train_Features.shape[1], 1))\n",
    "test_Features = test_Features.reshape((test_Features.shape[0], test_Features.shape[1], 1))"
   ]
  },
  {
   "cell_type": "code",
   "execution_count": 7,
   "metadata": {
    "collapsed": false
   },
   "outputs": [
    {
     "data": {
      "text/plain": [
       "(12743, 10, 1)"
      ]
     },
     "execution_count": 7,
     "metadata": {},
     "output_type": "execute_result"
    }
   ],
   "source": [
    "train_Features.shape"
   ]
  },
  {
   "cell_type": "code",
   "execution_count": 8,
   "metadata": {
    "collapsed": false
   },
   "outputs": [
    {
     "name": "stderr",
     "output_type": "stream",
     "text": [
      "Using TensorFlow backend.\n"
     ]
    }
   ],
   "source": [
    "from keras.models import Sequential\n",
    "from keras.layers import Dense,Dropout,Flatten,Conv1D,MaxPooling1D\n",
    "from keras.layers.embeddings import Embedding\n",
    "from keras.callbacks import EarlyStopping\n",
    "early_stopping = EarlyStopping(monitor='val_loss', patience=2)"
   ]
  },
  {
   "cell_type": "code",
   "execution_count": 9,
   "metadata": {
    "collapsed": true
   },
   "outputs": [],
   "source": [
    "model = Sequential()"
   ]
  },
  {
   "cell_type": "code",
   "execution_count": 10,
   "metadata": {
    "collapsed": true
   },
   "outputs": [],
   "source": [
    "model.add(Conv1D(filters=30*2,\n",
    "                 kernel_size=3,\n",
    "                 padding='valid',\n",
    "                 input_shape=(10,1), \n",
    "                 activation='relu'))"
   ]
  },
  {
   "cell_type": "code",
   "execution_count": 11,
   "metadata": {
    "collapsed": true
   },
   "outputs": [],
   "source": [
    "model.add(MaxPooling1D(pool_size=1))"
   ]
  },
  {
   "cell_type": "code",
   "execution_count": 12,
   "metadata": {
    "collapsed": true
   },
   "outputs": [],
   "source": [
    "model.add(Conv1D(filters=30,\n",
    "                 kernel_size=3,\n",
    "                 padding='valid',\n",
    "                 activation='relu'))"
   ]
  },
  {
   "cell_type": "code",
   "execution_count": 13,
   "metadata": {
    "collapsed": false
   },
   "outputs": [],
   "source": [
    "model.add(MaxPooling1D(pool_size=1))"
   ]
  },
  {
   "cell_type": "code",
   "execution_count": 14,
   "metadata": {
    "collapsed": true
   },
   "outputs": [],
   "source": [
    "model.add(Flatten())"
   ]
  },
  {
   "cell_type": "code",
   "execution_count": 15,
   "metadata": {
    "collapsed": true
   },
   "outputs": [],
   "source": [
    "model.add(Dense(10, activation='tanh'))"
   ]
  },
  {
   "cell_type": "code",
   "execution_count": 16,
   "metadata": {
    "collapsed": true
   },
   "outputs": [],
   "source": [
    "model.add(Dense(1,activation='sigmoid'))"
   ]
  },
  {
   "cell_type": "code",
   "execution_count": 17,
   "metadata": {
    "collapsed": false
   },
   "outputs": [
    {
     "name": "stdout",
     "output_type": "stream",
     "text": [
      "_________________________________________________________________\n",
      "Layer (type)                 Output Shape              Param #   \n",
      "=================================================================\n",
      "conv1d_1 (Conv1D)            (None, 8, 60)             240       \n",
      "_________________________________________________________________\n",
      "max_pooling1d_1 (MaxPooling1 (None, 8, 60)             0         \n",
      "_________________________________________________________________\n",
      "conv1d_2 (Conv1D)            (None, 6, 30)             5430      \n",
      "_________________________________________________________________\n",
      "max_pooling1d_2 (MaxPooling1 (None, 6, 30)             0         \n",
      "_________________________________________________________________\n",
      "flatten_1 (Flatten)          (None, 180)               0         \n",
      "_________________________________________________________________\n",
      "dense_1 (Dense)              (None, 10)                1810      \n",
      "_________________________________________________________________\n",
      "dense_2 (Dense)              (None, 1)                 11        \n",
      "=================================================================\n",
      "Total params: 7,491\n",
      "Trainable params: 7,491\n",
      "Non-trainable params: 0\n",
      "_________________________________________________________________\n"
     ]
    }
   ],
   "source": [
    "model.summary()"
   ]
  },
  {
   "cell_type": "code",
   "execution_count": 18,
   "metadata": {
    "collapsed": false
   },
   "outputs": [],
   "source": [
    "model.compile(loss='binary_crossentropy', \n",
    "              optimizer='adam', metrics=['accuracy'])"
   ]
  },
  {
   "cell_type": "code",
   "execution_count": 19,
   "metadata": {
    "collapsed": false
   },
   "outputs": [
    {
     "name": "stdout",
     "output_type": "stream",
     "text": [
      "Train on 10194 samples, validate on 2549 samples\n",
      "Epoch 1/30\n",
      "10194/10194 [==============================] - 6s 624us/step - loss: 0.5904 - acc: 0.7149 - val_loss: 0.4848 - val_acc: 0.7878\n",
      "Epoch 2/30\n",
      "10194/10194 [==============================] - 3s 290us/step - loss: 0.4514 - acc: 0.8024 - val_loss: 0.4071 - val_acc: 0.8215\n",
      "Epoch 3/30\n",
      "10194/10194 [==============================] - 3s 319us/step - loss: 0.4067 - acc: 0.8195 - val_loss: 0.3781 - val_acc: 0.8352\n",
      "Epoch 4/30\n",
      "10194/10194 [==============================] - 3s 322us/step - loss: 0.3897 - acc: 0.8317 - val_loss: 0.3629 - val_acc: 0.8513\n",
      "Epoch 5/30\n",
      "10194/10194 [==============================] - 3s 282us/step - loss: 0.3754 - acc: 0.8405 - val_loss: 0.3504 - val_acc: 0.8576\n",
      "Epoch 6/30\n",
      "10194/10194 [==============================] - 2s 215us/step - loss: 0.3640 - acc: 0.8487 - val_loss: 0.3467 - val_acc: 0.8631\n",
      "Epoch 7/30\n",
      "10194/10194 [==============================] - 1s 136us/step - loss: 0.3568 - acc: 0.8534 - val_loss: 0.3350 - val_acc: 0.8635\n",
      "Epoch 8/30\n",
      "10194/10194 [==============================] - 2s 172us/step - loss: 0.3479 - acc: 0.8598 - val_loss: 0.3314 - val_acc: 0.8666\n",
      "Epoch 9/30\n",
      "10194/10194 [==============================] - 1s 132us/step - loss: 0.3437 - acc: 0.8598 - val_loss: 0.3272 - val_acc: 0.8670\n",
      "Epoch 10/30\n",
      "10194/10194 [==============================] - 1s 112us/step - loss: 0.3397 - acc: 0.8624 - val_loss: 0.3242 - val_acc: 0.8666\n",
      "Epoch 11/30\n",
      "10194/10194 [==============================] - 1s 87us/step - loss: 0.3376 - acc: 0.8628 - val_loss: 0.3261 - val_acc: 0.8643\n",
      "Epoch 12/30\n",
      "10194/10194 [==============================] - 1s 87us/step - loss: 0.3368 - acc: 0.8603 - val_loss: 0.3273 - val_acc: 0.8650\n",
      "Epoch 13/30\n",
      "10194/10194 [==============================] - 1s 85us/step - loss: 0.3336 - acc: 0.8630 - val_loss: 0.3271 - val_acc: 0.8666\n",
      "Epoch 14/30\n",
      "10194/10194 [==============================] - 1s 87us/step - loss: 0.3320 - acc: 0.8634 - val_loss: 0.3195 - val_acc: 0.8705\n",
      "Epoch 15/30\n",
      "10194/10194 [==============================] - 1s 87us/step - loss: 0.3296 - acc: 0.8668 - val_loss: 0.3171 - val_acc: 0.8717\n",
      "Epoch 16/30\n",
      "10194/10194 [==============================] - 1s 87us/step - loss: 0.3289 - acc: 0.8668 - val_loss: 0.3187 - val_acc: 0.8698\n",
      "Epoch 17/30\n",
      "10194/10194 [==============================] - 1s 88us/step - loss: 0.3271 - acc: 0.8651 - val_loss: 0.3181 - val_acc: 0.8654\n",
      "Epoch 18/30\n",
      "10194/10194 [==============================] - 1s 85us/step - loss: 0.3265 - acc: 0.8652 - val_loss: 0.3156 - val_acc: 0.8745\n",
      "Epoch 19/30\n",
      "10194/10194 [==============================] - 1s 87us/step - loss: 0.3261 - acc: 0.8668 - val_loss: 0.3148 - val_acc: 0.8717\n",
      "Epoch 20/30\n",
      "10194/10194 [==============================] - 1s 97us/step - loss: 0.3251 - acc: 0.8677 - val_loss: 0.3152 - val_acc: 0.8690\n",
      "Epoch 21/30\n",
      "10194/10194 [==============================] - 1s 88us/step - loss: 0.3256 - acc: 0.8664 - val_loss: 0.3142 - val_acc: 0.8756\n",
      "Epoch 22/30\n",
      "10194/10194 [==============================] - 1s 83us/step - loss: 0.3230 - acc: 0.8680 - val_loss: 0.3142 - val_acc: 0.8682\n",
      "Epoch 23/30\n",
      "10194/10194 [==============================] - 1s 83us/step - loss: 0.3216 - acc: 0.8682 - val_loss: 0.3116 - val_acc: 0.8737\n",
      "Epoch 24/30\n",
      "10194/10194 [==============================] - 1s 87us/step - loss: 0.3224 - acc: 0.8691 - val_loss: 0.3133 - val_acc: 0.8701\n",
      "Epoch 25/30\n",
      "10194/10194 [==============================] - 1s 83us/step - loss: 0.3234 - acc: 0.8654 - val_loss: 0.3167 - val_acc: 0.8682\n",
      "Epoch 26/30\n",
      "10194/10194 [==============================] - 1s 85us/step - loss: 0.3195 - acc: 0.8698 - val_loss: 0.3097 - val_acc: 0.8733\n",
      "Epoch 27/30\n",
      "10194/10194 [==============================] - 1s 86us/step - loss: 0.3185 - acc: 0.8694 - val_loss: 0.3093 - val_acc: 0.8764\n",
      "Epoch 28/30\n",
      "10194/10194 [==============================] - 1s 87us/step - loss: 0.3185 - acc: 0.8693 - val_loss: 0.3123 - val_acc: 0.8701\n",
      "Epoch 29/30\n",
      "10194/10194 [==============================] - 1s 84us/step - loss: 0.3186 - acc: 0.8701 - val_loss: 0.3091 - val_acc: 0.8752\n",
      "Epoch 30/30\n",
      "10194/10194 [==============================] - 1s 86us/step - loss: 0.3162 - acc: 0.8701 - val_loss: 0.3082 - val_acc: 0.8760\n"
     ]
    }
   ],
   "source": [
    "train_history =model.fit(x=train_Features, \n",
    "                         y=train_Label, \n",
    "                         validation_split=0.2, \n",
    "                         epochs=30, \n",
    "                         batch_size=400,verbose=1)"
   ]
  },
  {
   "cell_type": "code",
   "execution_count": 20,
   "metadata": {
    "collapsed": true
   },
   "outputs": [],
   "source": [
    "import matplotlib.pyplot as plt\n",
    "def show_train_history(train_history,train,validation):\n",
    "    plt.plot(train_history.history[train])\n",
    "    plt.plot(train_history.history[validation])\n",
    "    plt.title('Train History')\n",
    "    plt.ylabel(train)\n",
    "    plt.xlabel('Epoch')\n",
    "    plt.legend(['train', 'validation'], loc='upper left')\n",
    "    plt.show()"
   ]
  },
  {
   "cell_type": "code",
   "execution_count": 21,
   "metadata": {
    "collapsed": false
   },
   "outputs": [
    {
     "data": {
      "image/png": "[encoded data removed]",
      "text/plain": [
       "<matplotlib.figure.Figure at 0x7fdd755c6b00>"
      ]
     },
     "metadata": {},
     "output_type": "display_data"
    }
   ],
   "source": [
    "show_train_history(train_history,'acc','val_acc')"
   ]
  },
  {
   "cell_type": "code",
   "execution_count": 22,
   "metadata": {
    "collapsed": false
   },
   "outputs": [
    {
     "data": {
      "image/png": "[encoded data removed]",
      "text/plain": [
       "<matplotlib.figure.Figure at 0x7fdd755c6ac8>"
      ]
     },
     "metadata": {},
     "output_type": "display_data"
    }
   ],
   "source": [
    "show_train_history(train_history,'loss','val_loss')"
   ]
  },
  {
   "cell_type": "code",
   "execution_count": 23,
   "metadata": {
    "collapsed": false
   },
   "outputs": [
    {
     "name": "stdout",
     "output_type": "stream",
     "text": [
      "6277/6277 [==============================] - 0s 77us/step\n"
     ]
    }
   ],
   "source": [
    "scores = model.evaluate(x=test_Features, \n",
    "                        y=test_Label)"
   ]
  },
  {
   "cell_type": "code",
   "execution_count": 24,
   "metadata": {
    "collapsed": false
   },
   "outputs": [
    {
     "data": {
      "text/plain": [
       "0.8695236578173028"
      ]
     },
     "execution_count": 24,
     "metadata": {},
     "output_type": "execute_result"
    }
   ],
   "source": [
    "scores[1]"
   ]
  }
 ],
 "metadata": {
  "anaconda-cloud": {},
  "kernelspec": {
   "display_name": "Python [default]",
   "language": "python",
   "name": "python3"
  },
  "language_info": {
   "codemirror_mode": {
    "name": "ipython",
    "version": 3
   },
   "file_extension": ".py",
   "mimetype": "text/x-python",
   "name": "python",
   "nbconvert_exporter": "python",
   "pygments_lexer": "ipython3",
   "version": "3.5.2"
  }
 },
 "nbformat": 4,
 "nbformat_minor": 1
}
