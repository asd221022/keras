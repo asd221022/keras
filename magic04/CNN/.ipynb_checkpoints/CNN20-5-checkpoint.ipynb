{
 "cells": [
  {
   "cell_type": "code",
   "execution_count": 1,
   "metadata": {
    "collapsed": false
   },
   "outputs": [],
   "source": [
    "import numpy as np\n",
    "import pandas as pd\n",
    "from sklearn.preprocessing import StandardScaler\n",
    "from sklearn.model_selection import train_test_split"
   ]
  },
  {
   "cell_type": "code",
   "execution_count": 2,
   "metadata": {
    "collapsed": false
   },
   "outputs": [],
   "source": [
    "Ynames = ['fLength', 'fWidth', 'fSize', 'fConc', 'fConc1', 'fAsym', \n",
    "             'fM3Long', 'fM3Trans', 'fAlpha', 'fDist', 'identity']\n",
    "featureNames = ['fLength', 'fWidth', 'fSize', 'fConc', 'fConc1', 'fAsym', \n",
    "             'fM3Long', 'fM3Trans', 'fAlpha', 'fDist']\n",
    "filepath = 'magic04.data'\n",
    "data = pd.read_csv(filepath, names=Ynames, header=None)\n",
    "data['identity']= data['identity'].map({'g':1, 'h': 0}).astype(int) \n",
    "X = data[featureNames].values\n",
    "Y = data['identity'].values.astype('int64')"
   ]
  },
  {
   "cell_type": "code",
   "execution_count": 3,
   "metadata": {
    "collapsed": false
   },
   "outputs": [
    {
     "data": {
      "text/plain": [
       "array([[-0.45362504, -0.38294066, -0.1866685 , -0.3157792 , -0.44120952,\n",
       "         0.08654485, -0.42515421, -0.32542187, -0.4791303 , -0.82146624],\n",
       "       [-0.654646  , -0.82282878, -0.88199135,  1.5736313 ,  1.78668563,\n",
       "         0.22582817, -0.01992685,  0.26395077, -0.60689371, -0.02877066]])"
      ]
     },
     "execution_count": 3,
     "metadata": {},
     "output_type": "execute_result"
    }
   ],
   "source": [
    "X = StandardScaler().fit_transform(X)\n",
    "train_Features, test_Features, train_Label, test_Label = train_test_split(X, Y, test_size=0.33, random_state=None) \n",
    "train_Features[:2]"
   ]
  },
  {
   "cell_type": "code",
   "execution_count": 4,
   "metadata": {
    "collapsed": false
   },
   "outputs": [
    {
     "data": {
      "text/plain": [
       "array([[-0.82924579, -0.62966502, -0.94885745,  1.80392714,  1.72696139,\n",
       "         0.21045434, -0.5130073 , -0.18341796,  0.38987162, -0.05584151],\n",
       "       [ 0.11509952, -0.53950703,  0.46569923, -0.79715767, -0.52355658,\n",
       "         0.72456724,  0.39816357,  0.46249696,  0.66144645, -0.93068101]])"
      ]
     },
     "execution_count": 4,
     "metadata": {},
     "output_type": "execute_result"
    }
   ],
   "source": [
    "test_Features[:2]"
   ]
  },
  {
   "cell_type": "code",
   "execution_count": 5,
   "metadata": {
    "collapsed": false
   },
   "outputs": [
    {
     "data": {
      "text/plain": [
       "array([1, 1, 0, 1])"
      ]
     },
     "execution_count": 5,
     "metadata": {},
     "output_type": "execute_result"
    }
   ],
   "source": [
    "train_Label[:4]"
   ]
  },
  {
   "cell_type": "code",
   "execution_count": 6,
   "metadata": {
    "collapsed": false
   },
   "outputs": [],
   "source": [
    "train_Features = train_Features.reshape((train_Features.shape[0], train_Features.shape[1], 1))\n",
    "test_Features = test_Features.reshape((test_Features.shape[0], test_Features.shape[1], 1))"
   ]
  },
  {
   "cell_type": "code",
   "execution_count": 7,
   "metadata": {
    "collapsed": false
   },
   "outputs": [
    {
     "data": {
      "text/plain": [
       "(12743, 10, 1)"
      ]
     },
     "execution_count": 7,
     "metadata": {},
     "output_type": "execute_result"
    }
   ],
   "source": [
    "train_Features.shape"
   ]
  },
  {
   "cell_type": "code",
   "execution_count": 8,
   "metadata": {
    "collapsed": false
   },
   "outputs": [
    {
     "name": "stderr",
     "output_type": "stream",
     "text": [
      "Using TensorFlow backend.\n"
     ]
    }
   ],
   "source": [
    "from keras.models import Sequential\n",
    "from keras.layers import Dense,Dropout,Flatten,Conv1D,MaxPooling1D\n",
    "from keras.layers.embeddings import Embedding\n",
    "from keras.callbacks import EarlyStopping\n",
    "early_stopping = EarlyStopping(monitor='val_loss', patience=2)"
   ]
  },
  {
   "cell_type": "code",
   "execution_count": 9,
   "metadata": {
    "collapsed": true
   },
   "outputs": [],
   "source": [
    "model = Sequential()"
   ]
  },
  {
   "cell_type": "code",
   "execution_count": 10,
   "metadata": {
    "collapsed": true
   },
   "outputs": [],
   "source": [
    "model.add(Conv1D(filters=20*5,\n",
    "                 kernel_size=1,\n",
    "                 padding='valid',\n",
    "                 input_shape=(10,1), \n",
    "                 activation='relu'))"
   ]
  },
  {
   "cell_type": "code",
   "execution_count": 11,
   "metadata": {
    "collapsed": true
   },
   "outputs": [],
   "source": [
    "model.add(MaxPooling1D(pool_size=1))"
   ]
  },
  {
   "cell_type": "code",
   "execution_count": 12,
   "metadata": {
    "collapsed": true
   },
   "outputs": [],
   "source": [
    "model.add(Conv1D(filters=20*4,\n",
    "                 kernel_size=1,\n",
    "                 padding='valid',\n",
    "                 activation='relu'))"
   ]
  },
  {
   "cell_type": "code",
   "execution_count": 13,
   "metadata": {
    "collapsed": true
   },
   "outputs": [],
   "source": [
    "model.add(MaxPooling1D(pool_size=1))"
   ]
  },
  {
   "cell_type": "code",
   "execution_count": 14,
   "metadata": {
    "collapsed": true
   },
   "outputs": [],
   "source": [
    "model.add(Conv1D(filters=20*3,\n",
    "                 kernel_size=1,\n",
    "                 padding='valid',\n",
    "                 activation='relu'))"
   ]
  },
  {
   "cell_type": "code",
   "execution_count": 15,
   "metadata": {
    "collapsed": true
   },
   "outputs": [],
   "source": [
    "model.add(MaxPooling1D(pool_size=1))"
   ]
  },
  {
   "cell_type": "code",
   "execution_count": 16,
   "metadata": {
    "collapsed": true
   },
   "outputs": [],
   "source": [
    "model.add(Conv1D(filters=20*2,\n",
    "                 kernel_size=1,\n",
    "                 padding='valid',\n",
    "                 activation='relu'))"
   ]
  },
  {
   "cell_type": "code",
   "execution_count": 17,
   "metadata": {
    "collapsed": true
   },
   "outputs": [],
   "source": [
    "model.add(MaxPooling1D(pool_size=1))"
   ]
  },
  {
   "cell_type": "code",
   "execution_count": 18,
   "metadata": {
    "collapsed": false
   },
   "outputs": [],
   "source": [
    "model.add(Conv1D(filters=20,\n",
    "                 kernel_size=1,\n",
    "                 padding='valid',\n",
    "                 activation='relu'))"
   ]
  },
  {
   "cell_type": "code",
   "execution_count": 19,
   "metadata": {
    "collapsed": false
   },
   "outputs": [],
   "source": [
    "model.add(MaxPooling1D(pool_size=1))"
   ]
  },
  {
   "cell_type": "code",
   "execution_count": 20,
   "metadata": {
    "collapsed": true
   },
   "outputs": [],
   "source": [
    "model.add(Flatten())"
   ]
  },
  {
   "cell_type": "code",
   "execution_count": 21,
   "metadata": {
    "collapsed": true
   },
   "outputs": [],
   "source": [
    "model.add(Dense(10, activation='tanh'))"
   ]
  },
  {
   "cell_type": "code",
   "execution_count": 22,
   "metadata": {
    "collapsed": true
   },
   "outputs": [],
   "source": [
    "model.add(Dense(1,activation='sigmoid'))"
   ]
  },
  {
   "cell_type": "code",
   "execution_count": 23,
   "metadata": {
    "collapsed": false
   },
   "outputs": [
    {
     "name": "stdout",
     "output_type": "stream",
     "text": [
      "_________________________________________________________________\n",
      "Layer (type)                 Output Shape              Param #   \n",
      "=================================================================\n",
      "conv1d_1 (Conv1D)            (None, 10, 100)           200       \n",
      "_________________________________________________________________\n",
      "max_pooling1d_1 (MaxPooling1 (None, 10, 100)           0         \n",
      "_________________________________________________________________\n",
      "conv1d_2 (Conv1D)            (None, 10, 80)            8080      \n",
      "_________________________________________________________________\n",
      "max_pooling1d_2 (MaxPooling1 (None, 10, 80)            0         \n",
      "_________________________________________________________________\n",
      "conv1d_3 (Conv1D)            (None, 10, 60)            4860      \n",
      "_________________________________________________________________\n",
      "max_pooling1d_3 (MaxPooling1 (None, 10, 60)            0         \n",
      "_________________________________________________________________\n",
      "conv1d_4 (Conv1D)            (None, 10, 40)            2440      \n",
      "_________________________________________________________________\n",
      "max_pooling1d_4 (MaxPooling1 (None, 10, 40)            0         \n",
      "_________________________________________________________________\n",
      "conv1d_5 (Conv1D)            (None, 10, 20)            820       \n",
      "_________________________________________________________________\n",
      "max_pooling1d_5 (MaxPooling1 (None, 10, 20)            0         \n",
      "_________________________________________________________________\n",
      "flatten_1 (Flatten)          (None, 200)               0         \n",
      "_________________________________________________________________\n",
      "dense_1 (Dense)              (None, 10)                2010      \n",
      "_________________________________________________________________\n",
      "dense_2 (Dense)              (None, 1)                 11        \n",
      "=================================================================\n",
      "Total params: 18,421\n",
      "Trainable params: 18,421\n",
      "Non-trainable params: 0\n",
      "_________________________________________________________________\n"
     ]
    }
   ],
   "source": [
    "model.summary()"
   ]
  },
  {
   "cell_type": "code",
   "execution_count": 24,
   "metadata": {
    "collapsed": false
   },
   "outputs": [],
   "source": [
    "model.compile(loss='binary_crossentropy', \n",
    "              optimizer='adam', metrics=['accuracy'])"
   ]
  },
  {
   "cell_type": "code",
   "execution_count": 25,
   "metadata": {
    "collapsed": false
   },
   "outputs": [
    {
     "name": "stdout",
     "output_type": "stream",
     "text": [
      "Train on 10194 samples, validate on 2549 samples\n",
      "Epoch 1/30\n",
      "10194/10194 [==============================] - 3s 255us/step - loss: 0.6315 - acc: 0.6604 - val_loss: 0.5366 - val_acc: 0.7517\n",
      "Epoch 2/30\n",
      "10194/10194 [==============================] - 2s 162us/step - loss: 0.4570 - acc: 0.8001 - val_loss: 0.3736 - val_acc: 0.8407\n",
      "Epoch 3/30\n",
      "10194/10194 [==============================] - 2s 162us/step - loss: 0.3779 - acc: 0.8428 - val_loss: 0.3391 - val_acc: 0.8572\n",
      "Epoch 4/30\n",
      "10194/10194 [==============================] - 2s 168us/step - loss: 0.3570 - acc: 0.8528 - val_loss: 0.3273 - val_acc: 0.8615\n",
      "Epoch 5/30\n",
      "10194/10194 [==============================] - 2s 158us/step - loss: 0.3497 - acc: 0.8554 - val_loss: 0.3238 - val_acc: 0.8615\n",
      "Epoch 6/30\n",
      "10194/10194 [==============================] - 1s 146us/step - loss: 0.3443 - acc: 0.8596 - val_loss: 0.3217 - val_acc: 0.8619\n",
      "Epoch 7/30\n",
      "10194/10194 [==============================] - 1s 146us/step - loss: 0.3397 - acc: 0.8591 - val_loss: 0.3256 - val_acc: 0.8623\n",
      "Epoch 8/30\n",
      "10194/10194 [==============================] - 2s 151us/step - loss: 0.3391 - acc: 0.8585 - val_loss: 0.3186 - val_acc: 0.8666\n",
      "Epoch 9/30\n",
      "10194/10194 [==============================] - 1s 144us/step - loss: 0.3357 - acc: 0.8621 - val_loss: 0.3169 - val_acc: 0.8658\n",
      "Epoch 10/30\n",
      "10194/10194 [==============================] - 1s 146us/step - loss: 0.3328 - acc: 0.8622 - val_loss: 0.3135 - val_acc: 0.8647\n",
      "Epoch 11/30\n",
      "10194/10194 [==============================] - 2s 149us/step - loss: 0.3306 - acc: 0.8649 - val_loss: 0.3135 - val_acc: 0.8678\n",
      "Epoch 12/30\n",
      "10194/10194 [==============================] - 2s 153us/step - loss: 0.3304 - acc: 0.8641 - val_loss: 0.3159 - val_acc: 0.8654\n",
      "Epoch 13/30\n",
      "10194/10194 [==============================] - 1s 145us/step - loss: 0.3287 - acc: 0.8645 - val_loss: 0.3142 - val_acc: 0.8650\n",
      "Epoch 14/30\n",
      "10194/10194 [==============================] - 1s 144us/step - loss: 0.3270 - acc: 0.8651 - val_loss: 0.3105 - val_acc: 0.8662\n",
      "Epoch 15/30\n",
      "10194/10194 [==============================] - 1s 147us/step - loss: 0.3245 - acc: 0.8666 - val_loss: 0.3116 - val_acc: 0.8698\n",
      "Epoch 16/30\n",
      "10194/10194 [==============================] - 2s 148us/step - loss: 0.3238 - acc: 0.8680 - val_loss: 0.3106 - val_acc: 0.8666\n",
      "Epoch 17/30\n",
      "10194/10194 [==============================] - 2s 155us/step - loss: 0.3246 - acc: 0.8651 - val_loss: 0.3113 - val_acc: 0.8650\n",
      "Epoch 18/30\n",
      "10194/10194 [==============================] - 2s 148us/step - loss: 0.3224 - acc: 0.8679 - val_loss: 0.3111 - val_acc: 0.8662\n",
      "Epoch 19/30\n",
      "10194/10194 [==============================] - 2s 149us/step - loss: 0.3203 - acc: 0.8686 - val_loss: 0.3095 - val_acc: 0.8650\n",
      "Epoch 20/30\n",
      "10194/10194 [==============================] - 1s 147us/step - loss: 0.3194 - acc: 0.8691 - val_loss: 0.3108 - val_acc: 0.8674\n",
      "Epoch 21/30\n",
      "10194/10194 [==============================] - 2s 149us/step - loss: 0.3180 - acc: 0.8696 - val_loss: 0.3085 - val_acc: 0.8686\n",
      "Epoch 22/30\n",
      "10194/10194 [==============================] - 2s 153us/step - loss: 0.3147 - acc: 0.8705 - val_loss: 0.3093 - val_acc: 0.8682\n",
      "Epoch 23/30\n",
      "10194/10194 [==============================] - 2s 148us/step - loss: 0.3152 - acc: 0.8730 - val_loss: 0.3106 - val_acc: 0.8635\n",
      "Epoch 24/30\n",
      "10194/10194 [==============================] - 2s 155us/step - loss: 0.3148 - acc: 0.8710 - val_loss: 0.3069 - val_acc: 0.8670\n",
      "Epoch 25/30\n",
      "10194/10194 [==============================] - 2s 152us/step - loss: 0.3128 - acc: 0.8726 - val_loss: 0.3084 - val_acc: 0.8698\n",
      "Epoch 26/30\n",
      "10194/10194 [==============================] - 2s 164us/step - loss: 0.3124 - acc: 0.8724 - val_loss: 0.3145 - val_acc: 0.8686\n",
      "Epoch 27/30\n",
      "10194/10194 [==============================] - 2s 161us/step - loss: 0.3113 - acc: 0.8744 - val_loss: 0.3086 - val_acc: 0.8686\n",
      "Epoch 28/30\n",
      "10194/10194 [==============================] - 2s 215us/step - loss: 0.3113 - acc: 0.8740 - val_loss: 0.3105 - val_acc: 0.8674\n",
      "Epoch 29/30\n",
      "10194/10194 [==============================] - 3s 283us/step - loss: 0.3112 - acc: 0.8739 - val_loss: 0.3107 - val_acc: 0.8666\n",
      "Epoch 30/30\n",
      "10194/10194 [==============================] - 2s 185us/step - loss: 0.3092 - acc: 0.8742 - val_loss: 0.3081 - val_acc: 0.8682\n"
     ]
    }
   ],
   "source": [
    "train_history =model.fit(x=train_Features, \n",
    "                         y=train_Label, \n",
    "                         validation_split=0.2, \n",
    "                         epochs=30, \n",
    "                         batch_size=400,verbose=1)"
   ]
  },
  {
   "cell_type": "code",
   "execution_count": 26,
   "metadata": {
    "collapsed": true
   },
   "outputs": [],
   "source": [
    "import matplotlib.pyplot as plt\n",
    "def show_train_history(train_history,train,validation):\n",
    "    plt.plot(train_history.history[train])\n",
    "    plt.plot(train_history.history[validation])\n",
    "    plt.title('Train History')\n",
    "    plt.ylabel(train)\n",
    "    plt.xlabel('Epoch')\n",
    "    plt.legend(['train', 'validation'], loc='upper left')\n",
    "    plt.show()"
   ]
  },
  {
   "cell_type": "code",
   "execution_count": 27,
   "metadata": {
    "collapsed": false
   },
   "outputs": [
    {
     "data": {
      "image/png": "[encoded data removed]",
      "text/plain": [
       "<matplotlib.figure.Figure at 0x7f6a2eec9588>"
      ]
     },
     "metadata": {},
     "output_type": "display_data"
    }
   ],
   "source": [
    "show_train_history(train_history,'acc','val_acc')"
   ]
  },
  {
   "cell_type": "code",
   "execution_count": 28,
   "metadata": {
    "collapsed": false
   },
   "outputs": [
    {
     "data": {
      "image/png": "[encoded data removed]",
      "text/plain": [
       "<matplotlib.figure.Figure at 0x7f6a2ef76c88>"
      ]
     },
     "metadata": {},
     "output_type": "display_data"
    }
   ],
   "source": [
    "show_train_history(train_history,'loss','val_loss')"
   ]
  },
  {
   "cell_type": "code",
   "execution_count": 29,
   "metadata": {
    "collapsed": false
   },
   "outputs": [
    {
     "name": "stdout",
     "output_type": "stream",
     "text": [
      "6277/6277 [==============================] - 0s 54us/step\n"
     ]
    }
   ],
   "source": [
    "scores = model.evaluate(x=test_Features, \n",
    "                        y=test_Label)"
   ]
  },
  {
   "cell_type": "code",
   "execution_count": 30,
   "metadata": {
    "collapsed": false
   },
   "outputs": [
    {
     "data": {
      "text/plain": [
       "0.8644256810673259"
      ]
     },
     "execution_count": 30,
     "metadata": {},
     "output_type": "execute_result"
    }
   ],
   "source": [
    "scores[1]"
   ]
  }
 ],
 "metadata": {
  "anaconda-cloud": {},
  "kernelspec": {
   "display_name": "Python [default]",
   "language": "python",
   "name": "python3"
  },
  "language_info": {
   "codemirror_mode": {
    "name": "ipython",
    "version": 3
   },
   "file_extension": ".py",
   "mimetype": "text/x-python",
   "name": "python",
   "nbconvert_exporter": "python",
   "pygments_lexer": "ipython3",
   "version": "3.5.2"
  }
 },
 "nbformat": 4,
 "nbformat_minor": 1
}
