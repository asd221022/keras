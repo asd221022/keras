{
 "cells": [
  {
   "cell_type": "code",
   "execution_count": 1,
   "metadata": {
    "collapsed": false
   },
   "outputs": [],
   "source": [
    "import numpy as np\n",
    "import pandas as pd\n",
    "from sklearn.preprocessing import StandardScaler\n",
    "from sklearn.model_selection import train_test_split"
   ]
  },
  {
   "cell_type": "code",
   "execution_count": 2,
   "metadata": {
    "collapsed": false
   },
   "outputs": [],
   "source": [
    "Ynames = ['fLength', 'fWidth', 'fSize', 'fConc', 'fConc1', 'fAsym', \n",
    "             'fM3Long', 'fM3Trans', 'fAlpha', 'fDist', 'identity']\n",
    "featureNames = ['fLength', 'fWidth', 'fSize', 'fConc', 'fConc1', 'fAsym', \n",
    "             'fM3Long', 'fM3Trans', 'fAlpha', 'fDist']\n",
    "filepath = 'magic04.data'\n",
    "data = pd.read_csv(filepath, names=Ynames, header=None)\n",
    "data['identity']= data['identity'].map({'g':1, 'h': 0}).astype(int) \n",
    "X = data[featureNames].values\n",
    "Y = data['identity'].values.astype('int64')"
   ]
  },
  {
   "cell_type": "code",
   "execution_count": 3,
   "metadata": {
    "collapsed": false
   },
   "outputs": [
    {
     "data": {
      "text/plain": [
       "array([[-0.58214533, -0.13969398, -0.3062234 , -0.09314166, -0.11906059,\n",
       "        -0.28743006, -0.4813281 ,  0.70786243, -0.4882174 , -0.58645966],\n",
       "       [ 0.12103384,  0.47758842,  0.23928552, -0.39947341,  0.03115493,\n",
       "        -0.49323704,  0.7561898 ,  1.19897269, -0.18277281,  1.44279178]])"
      ]
     },
     "execution_count": 3,
     "metadata": {},
     "output_type": "execute_result"
    }
   ],
   "source": [
    "X = StandardScaler().fit_transform(X)\n",
    "train_Features, test_Features, train_Label, test_Label = train_test_split(X, Y, test_size=0.33, random_state=None) \n",
    "train_Features[:2]"
   ]
  },
  {
   "cell_type": "code",
   "execution_count": 4,
   "metadata": {
    "collapsed": false
   },
   "outputs": [
    {
     "data": {
      "text/plain": [
       "array([[-0.62020381, -0.44359834, -0.69430073,  0.48068336,  0.26190767,\n",
       "         0.39422583,  0.04619827,  0.1628267 , -1.03497585, -0.73334881],\n",
       "       [-0.66980755, -0.31978646, -0.36652986,  0.4686489 ,  0.206708  ,\n",
       "         0.20643607,  0.19706659,  0.66719866,  0.79865708, -0.57364015]])"
      ]
     },
     "execution_count": 4,
     "metadata": {},
     "output_type": "execute_result"
    }
   ],
   "source": [
    "test_Features[:2]"
   ]
  },
  {
   "cell_type": "code",
   "execution_count": 5,
   "metadata": {
    "collapsed": false
   },
   "outputs": [
    {
     "data": {
      "text/plain": [
       "array([1, 0, 0, 1])"
      ]
     },
     "execution_count": 5,
     "metadata": {},
     "output_type": "execute_result"
    }
   ],
   "source": [
    "train_Label[:4]"
   ]
  },
  {
   "cell_type": "code",
   "execution_count": 6,
   "metadata": {
    "collapsed": false
   },
   "outputs": [],
   "source": [
    "train_Features = train_Features.reshape((train_Features.shape[0], train_Features.shape[1], 1))\n",
    "test_Features = test_Features.reshape((test_Features.shape[0], test_Features.shape[1], 1))"
   ]
  },
  {
   "cell_type": "code",
   "execution_count": 7,
   "metadata": {
    "collapsed": false
   },
   "outputs": [
    {
     "data": {
      "text/plain": [
       "(12743, 10, 1)"
      ]
     },
     "execution_count": 7,
     "metadata": {},
     "output_type": "execute_result"
    }
   ],
   "source": [
    "train_Features.shape"
   ]
  },
  {
   "cell_type": "code",
   "execution_count": 8,
   "metadata": {
    "collapsed": false
   },
   "outputs": [
    {
     "name": "stderr",
     "output_type": "stream",
     "text": [
      "Using TensorFlow backend.\n"
     ]
    }
   ],
   "source": [
    "from keras.models import Sequential\n",
    "from keras.layers import Dense,Dropout,Flatten,Conv1D,MaxPooling1D\n",
    "from keras.layers.embeddings import Embedding\n",
    "from keras.callbacks import EarlyStopping\n",
    "early_stopping = EarlyStopping(monitor='val_loss', patience=2)"
   ]
  },
  {
   "cell_type": "code",
   "execution_count": 9,
   "metadata": {
    "collapsed": true
   },
   "outputs": [],
   "source": [
    "model = Sequential()"
   ]
  },
  {
   "cell_type": "code",
   "execution_count": 10,
   "metadata": {
    "collapsed": true
   },
   "outputs": [],
   "source": [
    "model.add(Conv1D(filters=10*2,\n",
    "                 kernel_size=1,\n",
    "                 padding='valid',\n",
    "                 input_shape=(10,1), \n",
    "                 activation='relu'))"
   ]
  },
  {
   "cell_type": "code",
   "execution_count": 11,
   "metadata": {
    "collapsed": true
   },
   "outputs": [],
   "source": [
    "model.add(MaxPooling1D(pool_size=1))"
   ]
  },
  {
   "cell_type": "code",
   "execution_count": 12,
   "metadata": {
    "collapsed": true
   },
   "outputs": [],
   "source": [
    "model.add(Conv1D(filters=10,\n",
    "                 kernel_size=1,\n",
    "                 padding='valid',\n",
    "                 activation='relu'))"
   ]
  },
  {
   "cell_type": "code",
   "execution_count": 13,
   "metadata": {
    "collapsed": false
   },
   "outputs": [],
   "source": [
    "model.add(MaxPooling1D(pool_size=1))"
   ]
  },
  {
   "cell_type": "code",
   "execution_count": 14,
   "metadata": {
    "collapsed": true
   },
   "outputs": [],
   "source": [
    "model.add(Flatten())"
   ]
  },
  {
   "cell_type": "code",
   "execution_count": 15,
   "metadata": {
    "collapsed": true
   },
   "outputs": [],
   "source": [
    "model.add(Dense(10, activation='tanh'))"
   ]
  },
  {
   "cell_type": "code",
   "execution_count": 16,
   "metadata": {
    "collapsed": true
   },
   "outputs": [],
   "source": [
    "model.add(Dense(1,activation='sigmoid'))"
   ]
  },
  {
   "cell_type": "code",
   "execution_count": 17,
   "metadata": {
    "collapsed": false
   },
   "outputs": [
    {
     "name": "stdout",
     "output_type": "stream",
     "text": [
      "_________________________________________________________________\n",
      "Layer (type)                 Output Shape              Param #   \n",
      "=================================================================\n",
      "conv1d_1 (Conv1D)            (None, 10, 20)            40        \n",
      "_________________________________________________________________\n",
      "max_pooling1d_1 (MaxPooling1 (None, 10, 20)            0         \n",
      "_________________________________________________________________\n",
      "conv1d_2 (Conv1D)            (None, 10, 10)            210       \n",
      "_________________________________________________________________\n",
      "max_pooling1d_2 (MaxPooling1 (None, 10, 10)            0         \n",
      "_________________________________________________________________\n",
      "flatten_1 (Flatten)          (None, 100)               0         \n",
      "_________________________________________________________________\n",
      "dense_1 (Dense)              (None, 10)                1010      \n",
      "_________________________________________________________________\n",
      "dense_2 (Dense)              (None, 1)                 11        \n",
      "=================================================================\n",
      "Total params: 1,271\n",
      "Trainable params: 1,271\n",
      "Non-trainable params: 0\n",
      "_________________________________________________________________\n"
     ]
    }
   ],
   "source": [
    "model.summary()"
   ]
  },
  {
   "cell_type": "code",
   "execution_count": 18,
   "metadata": {
    "collapsed": false
   },
   "outputs": [],
   "source": [
    "model.compile(loss='binary_crossentropy', \n",
    "              optimizer='adam', metrics=['accuracy'])"
   ]
  },
  {
   "cell_type": "code",
   "execution_count": 19,
   "metadata": {
    "collapsed": false
   },
   "outputs": [
    {
     "name": "stdout",
     "output_type": "stream",
     "text": [
      "Train on 10194 samples, validate on 2549 samples\n",
      "Epoch 1/30\n",
      "10194/10194 [==============================] - 1s 125us/step - loss: 0.6394 - acc: 0.6802 - val_loss: 0.5902 - val_acc: 0.7203\n",
      "Epoch 2/30\n",
      "10194/10194 [==============================] - 1s 60us/step - loss: 0.5692 - acc: 0.7191 - val_loss: 0.5218 - val_acc: 0.7423\n",
      "Epoch 3/30\n",
      "10194/10194 [==============================] - 1s 73us/step - loss: 0.5087 - acc: 0.7501 - val_loss: 0.4615 - val_acc: 0.7901\n",
      "Epoch 4/30\n",
      "10194/10194 [==============================] - 1s 58us/step - loss: 0.4565 - acc: 0.7997 - val_loss: 0.4169 - val_acc: 0.8266\n",
      "Epoch 5/30\n",
      "10194/10194 [==============================] - 1s 53us/step - loss: 0.4206 - acc: 0.8272 - val_loss: 0.3916 - val_acc: 0.8384\n",
      "Epoch 6/30\n",
      "10194/10194 [==============================] - 1s 54us/step - loss: 0.4006 - acc: 0.8352 - val_loss: 0.3772 - val_acc: 0.8466\n",
      "Epoch 7/30\n",
      "10194/10194 [==============================] - 1s 76us/step - loss: 0.3868 - acc: 0.8381 - val_loss: 0.3703 - val_acc: 0.8474\n",
      "Epoch 8/30\n",
      "10194/10194 [==============================] - 1s 56us/step - loss: 0.3770 - acc: 0.8437 - val_loss: 0.3627 - val_acc: 0.8525\n",
      "Epoch 9/30\n",
      "10194/10194 [==============================] - 0s 28us/step - loss: 0.3692 - acc: 0.8461 - val_loss: 0.3600 - val_acc: 0.8521\n",
      "Epoch 10/30\n",
      "10194/10194 [==============================] - 0s 21us/step - loss: 0.3633 - acc: 0.8473 - val_loss: 0.3570 - val_acc: 0.8521\n",
      "Epoch 11/30\n",
      "10194/10194 [==============================] - 0s 21us/step - loss: 0.3584 - acc: 0.8495 - val_loss: 0.3542 - val_acc: 0.8513\n",
      "Epoch 12/30\n",
      "10194/10194 [==============================] - 0s 30us/step - loss: 0.3549 - acc: 0.8509 - val_loss: 0.3536 - val_acc: 0.8525\n",
      "Epoch 13/30\n",
      "10194/10194 [==============================] - 0s 17us/step - loss: 0.3528 - acc: 0.8503 - val_loss: 0.3514 - val_acc: 0.8545\n",
      "Epoch 14/30\n",
      "10194/10194 [==============================] - 0s 30us/step - loss: 0.3500 - acc: 0.8502 - val_loss: 0.3508 - val_acc: 0.8537\n",
      "Epoch 15/30\n",
      "10194/10194 [==============================] - 0s 26us/step - loss: 0.3480 - acc: 0.8537 - val_loss: 0.3495 - val_acc: 0.8580\n",
      "Epoch 16/30\n",
      "10194/10194 [==============================] - 0s 24us/step - loss: 0.3462 - acc: 0.8533 - val_loss: 0.3490 - val_acc: 0.8548\n",
      "Epoch 17/30\n",
      "10194/10194 [==============================] - 0s 27us/step - loss: 0.3449 - acc: 0.8535 - val_loss: 0.3489 - val_acc: 0.8541\n",
      "Epoch 18/30\n",
      "10194/10194 [==============================] - 0s 35us/step - loss: 0.3431 - acc: 0.8546 - val_loss: 0.3472 - val_acc: 0.8568\n",
      "Epoch 19/30\n",
      "10194/10194 [==============================] - 0s 32us/step - loss: 0.3420 - acc: 0.8562 - val_loss: 0.3498 - val_acc: 0.8537\n",
      "Epoch 20/30\n",
      "10194/10194 [==============================] - 1s 56us/step - loss: 0.3409 - acc: 0.8566 - val_loss: 0.3450 - val_acc: 0.8592\n",
      "Epoch 21/30\n",
      "10194/10194 [==============================] - 0s 37us/step - loss: 0.3399 - acc: 0.8579 - val_loss: 0.3437 - val_acc: 0.8596\n",
      "Epoch 22/30\n",
      "10194/10194 [==============================] - 0s 32us/step - loss: 0.3390 - acc: 0.8574 - val_loss: 0.3440 - val_acc: 0.8580\n",
      "Epoch 23/30\n",
      "10194/10194 [==============================] - 1s 77us/step - loss: 0.3387 - acc: 0.8573 - val_loss: 0.3474 - val_acc: 0.8533\n",
      "Epoch 24/30\n",
      "10194/10194 [==============================] - 1s 73us/step - loss: 0.3361 - acc: 0.8594 - val_loss: 0.3417 - val_acc: 0.8588\n",
      "Epoch 25/30\n",
      "10194/10194 [==============================] - 1s 80us/step - loss: 0.3350 - acc: 0.8600 - val_loss: 0.3403 - val_acc: 0.8576\n",
      "Epoch 26/30\n",
      "10194/10194 [==============================] - 1s 80us/step - loss: 0.3347 - acc: 0.8583 - val_loss: 0.3420 - val_acc: 0.8576\n",
      "Epoch 27/30\n",
      "10194/10194 [==============================] - 1s 80us/step - loss: 0.3332 - acc: 0.8605 - val_loss: 0.3443 - val_acc: 0.8603\n",
      "Epoch 28/30\n",
      "10194/10194 [==============================] - 1s 78us/step - loss: 0.3331 - acc: 0.8586 - val_loss: 0.3414 - val_acc: 0.8611\n",
      "Epoch 29/30\n",
      "10194/10194 [==============================] - 1s 89us/step - loss: 0.3316 - acc: 0.8613 - val_loss: 0.3390 - val_acc: 0.8607\n",
      "Epoch 30/30\n",
      "10194/10194 [==============================] - 1s 89us/step - loss: 0.3301 - acc: 0.8614 - val_loss: 0.3370 - val_acc: 0.8599\n"
     ]
    }
   ],
   "source": [
    "train_history =model.fit(x=train_Features, \n",
    "                         y=train_Label, \n",
    "                         validation_split=0.2, \n",
    "                         epochs=30, \n",
    "                         batch_size=400,verbose=1)"
   ]
  },
  {
   "cell_type": "code",
   "execution_count": 20,
   "metadata": {
    "collapsed": true
   },
   "outputs": [],
   "source": [
    "import matplotlib.pyplot as plt\n",
    "def show_train_history(train_history,train,validation):\n",
    "    plt.plot(train_history.history[train])\n",
    "    plt.plot(train_history.history[validation])\n",
    "    plt.title('Train History')\n",
    "    plt.ylabel(train)\n",
    "    plt.xlabel('Epoch')\n",
    "    plt.legend(['train', 'validation'], loc='upper left')\n",
    "    plt.show()"
   ]
  },
  {
   "cell_type": "code",
   "execution_count": 21,
   "metadata": {
    "collapsed": false
   },
   "outputs": [
    {
     "data": {
      "image/png": "[encoded data removed]",
      "text/plain": [
       "<matplotlib.figure.Figure at 0x7fa827da8c88>"
      ]
     },
     "metadata": {},
     "output_type": "display_data"
    }
   ],
   "source": [
    "show_train_history(train_history,'acc','val_acc')"
   ]
  },
  {
   "cell_type": "code",
   "execution_count": 22,
   "metadata": {
    "collapsed": false
   },
   "outputs": [
    {
     "data": {
      "image/png": "[encoded data removed]",
      "text/plain": [
       "<matplotlib.figure.Figure at 0x7fa827da8b70>"
      ]
     },
     "metadata": {},
     "output_type": "display_data"
    }
   ],
   "source": [
    "show_train_history(train_history,'loss','val_loss')"
   ]
  },
  {
   "cell_type": "code",
   "execution_count": 23,
   "metadata": {
    "collapsed": false
   },
   "outputs": [
    {
     "name": "stdout",
     "output_type": "stream",
     "text": [
      "6277/6277 [==============================] - 1s 91us/step\n"
     ]
    }
   ],
   "source": [
    "scores = model.evaluate(x=test_Features, \n",
    "                        y=test_Label)"
   ]
  },
  {
   "cell_type": "code",
   "execution_count": 24,
   "metadata": {
    "collapsed": false
   },
   "outputs": [
    {
     "data": {
      "text/plain": [
       "0.8685677871594711"
      ]
     },
     "execution_count": 24,
     "metadata": {},
     "output_type": "execute_result"
    }
   ],
   "source": [
    "scores[1]"
   ]
  }
 ],
 "metadata": {
  "anaconda-cloud": {},
  "kernelspec": {
   "display_name": "Python [default]",
   "language": "python",
   "name": "python3"
  },
  "language_info": {
   "codemirror_mode": {
    "name": "ipython",
    "version": 3
   },
   "file_extension": ".py",
   "mimetype": "text/x-python",
   "name": "python",
   "nbconvert_exporter": "python",
   "pygments_lexer": "ipython3",
   "version": "3.5.2"
  }
 },
 "nbformat": 4,
 "nbformat_minor": 1
}
