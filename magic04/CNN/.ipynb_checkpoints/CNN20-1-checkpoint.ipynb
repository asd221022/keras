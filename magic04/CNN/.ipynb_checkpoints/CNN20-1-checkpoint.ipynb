{
 "cells": [
  {
   "cell_type": "code",
   "execution_count": 1,
   "metadata": {
    "collapsed": false
   },
   "outputs": [],
   "source": [
    "import numpy as np\n",
    "import pandas as pd\n",
    "from sklearn.preprocessing import StandardScaler\n",
    "from sklearn.model_selection import train_test_split"
   ]
  },
  {
   "cell_type": "code",
   "execution_count": 2,
   "metadata": {
    "collapsed": false
   },
   "outputs": [],
   "source": [
    "Ynames = ['fLength', 'fWidth', 'fSize', 'fConc', 'fConc1', 'fAsym', \n",
    "             'fM3Long', 'fM3Trans', 'fAlpha', 'fDist', 'identity']\n",
    "featureNames = ['fLength', 'fWidth', 'fSize', 'fConc', 'fConc1', 'fAsym', \n",
    "             'fM3Long', 'fM3Trans', 'fAlpha', 'fDist']\n",
    "filepath = 'magic04.data'\n",
    "data = pd.read_csv(filepath, names=Ynames, header=None)\n",
    "data['identity']= data['identity'].map({'g':1, 'h': 0}).astype(int) \n",
    "X = data[featureNames].values\n",
    "Y = data['identity'].values.astype('int64')"
   ]
  },
  {
   "cell_type": "code",
   "execution_count": 3,
   "metadata": {
    "collapsed": false
   },
   "outputs": [
    {
     "data": {
      "text/plain": [
       "array([[ 0.45783837,  0.05683299,  0.77273314, -1.30041698, -1.24477202,\n",
       "        -0.94479389,  0.6047999 ,  0.64153472, -0.85667406,  0.47108333],\n",
       "       [-0.82463571, -0.80096519, -1.48717192,  2.13049867,  2.59929726,\n",
       "         0.09305787, -0.30490427,  0.08571006, -0.96106845, -1.18626037]])"
      ]
     },
     "execution_count": 3,
     "metadata": {},
     "output_type": "execute_result"
    }
   ],
   "source": [
    "X = StandardScaler().fit_transform(X)\n",
    "train_Features, test_Features, train_Label, test_Label = train_test_split(X, Y, test_size=0.33, random_state=None) \n",
    "train_Features[:2]"
   ]
  },
  {
   "cell_type": "code",
   "execution_count": 4,
   "metadata": {
    "collapsed": false
   },
   "outputs": [
    {
     "data": {
      "text/plain": [
       "array([[-0.06444789, -0.25154112,  0.30509361, -0.65930838, -0.7524995 ,\n",
       "         0.21523607,  0.63782814, -0.70818182, -0.57980863,  0.64304948],\n",
       "       [-0.45033921, -0.73425155, -0.53348352,  0.15739396,  0.00491246,\n",
       "        -0.37933354, -0.12975693, -0.19524402,  1.58695926, -0.1776938 ]])"
      ]
     },
     "execution_count": 4,
     "metadata": {},
     "output_type": "execute_result"
    }
   ],
   "source": [
    "test_Features[:2]"
   ]
  },
  {
   "cell_type": "code",
   "execution_count": 5,
   "metadata": {
    "collapsed": false
   },
   "outputs": [
    {
     "data": {
      "text/plain": [
       "array([1, 1, 1, 1])"
      ]
     },
     "execution_count": 5,
     "metadata": {},
     "output_type": "execute_result"
    }
   ],
   "source": [
    "train_Label[:4]"
   ]
  },
  {
   "cell_type": "code",
   "execution_count": 6,
   "metadata": {
    "collapsed": false
   },
   "outputs": [],
   "source": [
    "train_Features = train_Features.reshape((train_Features.shape[0], train_Features.shape[1], 1))\n",
    "test_Features = test_Features.reshape((test_Features.shape[0], test_Features.shape[1], 1))"
   ]
  },
  {
   "cell_type": "code",
   "execution_count": 7,
   "metadata": {
    "collapsed": false
   },
   "outputs": [
    {
     "data": {
      "text/plain": [
       "(12743, 10, 1)"
      ]
     },
     "execution_count": 7,
     "metadata": {},
     "output_type": "execute_result"
    }
   ],
   "source": [
    "train_Features.shape"
   ]
  },
  {
   "cell_type": "code",
   "execution_count": 8,
   "metadata": {
    "collapsed": false
   },
   "outputs": [
    {
     "name": "stderr",
     "output_type": "stream",
     "text": [
      "Using TensorFlow backend.\n"
     ]
    }
   ],
   "source": [
    "from keras.models import Sequential\n",
    "from keras.layers import Dense,Dropout,Flatten,Conv1D,MaxPooling1D\n",
    "from keras.layers.embeddings import Embedding\n",
    "from keras.callbacks import EarlyStopping\n",
    "early_stopping = EarlyStopping(monitor='val_loss', patience=2)"
   ]
  },
  {
   "cell_type": "code",
   "execution_count": 9,
   "metadata": {
    "collapsed": true
   },
   "outputs": [],
   "source": [
    "model = Sequential()"
   ]
  },
  {
   "cell_type": "code",
   "execution_count": 10,
   "metadata": {
    "collapsed": true
   },
   "outputs": [],
   "source": [
    "model.add(Conv1D(filters=20,\n",
    "                 kernel_size=3,\n",
    "                 padding='valid',\n",
    "                 input_shape=(10,1), \n",
    "                 activation='relu'))"
   ]
  },
  {
   "cell_type": "code",
   "execution_count": 11,
   "metadata": {
    "collapsed": false
   },
   "outputs": [],
   "source": [
    "model.add(MaxPooling1D(pool_size=1))"
   ]
  },
  {
   "cell_type": "code",
   "execution_count": 12,
   "metadata": {
    "collapsed": true
   },
   "outputs": [],
   "source": [
    "model.add(Flatten())"
   ]
  },
  {
   "cell_type": "code",
   "execution_count": 13,
   "metadata": {
    "collapsed": true
   },
   "outputs": [],
   "source": [
    "model.add(Dense(10, activation='tanh'))"
   ]
  },
  {
   "cell_type": "code",
   "execution_count": 14,
   "metadata": {
    "collapsed": true
   },
   "outputs": [],
   "source": [
    "model.add(Dense(1,activation='sigmoid'))"
   ]
  },
  {
   "cell_type": "code",
   "execution_count": 15,
   "metadata": {
    "collapsed": false
   },
   "outputs": [
    {
     "name": "stdout",
     "output_type": "stream",
     "text": [
      "_________________________________________________________________\n",
      "Layer (type)                 Output Shape              Param #   \n",
      "=================================================================\n",
      "conv1d_1 (Conv1D)            (None, 8, 20)             80        \n",
      "_________________________________________________________________\n",
      "max_pooling1d_1 (MaxPooling1 (None, 8, 20)             0         \n",
      "_________________________________________________________________\n",
      "flatten_1 (Flatten)          (None, 160)               0         \n",
      "_________________________________________________________________\n",
      "dense_1 (Dense)              (None, 10)                1610      \n",
      "_________________________________________________________________\n",
      "dense_2 (Dense)              (None, 1)                 11        \n",
      "=================================================================\n",
      "Total params: 1,701\n",
      "Trainable params: 1,701\n",
      "Non-trainable params: 0\n",
      "_________________________________________________________________\n"
     ]
    }
   ],
   "source": [
    "model.summary()"
   ]
  },
  {
   "cell_type": "code",
   "execution_count": 16,
   "metadata": {
    "collapsed": false
   },
   "outputs": [],
   "source": [
    "model.compile(loss='binary_crossentropy', \n",
    "              optimizer='adam', metrics=['accuracy'])"
   ]
  },
  {
   "cell_type": "code",
   "execution_count": 17,
   "metadata": {
    "collapsed": false
   },
   "outputs": [
    {
     "name": "stdout",
     "output_type": "stream",
     "text": [
      "Train on 10194 samples, validate on 2549 samples\n",
      "Epoch 1/30\n",
      "10194/10194 [==============================] - 2s 186us/step - loss: 0.5921 - acc: 0.7184 - val_loss: 0.5324 - val_acc: 0.7536\n",
      "Epoch 2/30\n",
      "10194/10194 [==============================] - 1s 77us/step - loss: 0.4956 - acc: 0.7790 - val_loss: 0.4668 - val_acc: 0.7933\n",
      "Epoch 3/30\n",
      "10194/10194 [==============================] - 0s 43us/step - loss: 0.4451 - acc: 0.8061 - val_loss: 0.4269 - val_acc: 0.8227\n",
      "Epoch 4/30\n",
      "10194/10194 [==============================] - 1s 64us/step - loss: 0.4159 - acc: 0.8193 - val_loss: 0.4044 - val_acc: 0.8274\n",
      "Epoch 5/30\n",
      "10194/10194 [==============================] - 1s 71us/step - loss: 0.3989 - acc: 0.8283 - val_loss: 0.3908 - val_acc: 0.8348\n",
      "Epoch 6/30\n",
      "10194/10194 [==============================] - 1s 80us/step - loss: 0.3867 - acc: 0.8343 - val_loss: 0.3803 - val_acc: 0.8443\n",
      "Epoch 7/30\n",
      "10194/10194 [==============================] - 1s 68us/step - loss: 0.3779 - acc: 0.8401 - val_loss: 0.3716 - val_acc: 0.8450\n",
      "Epoch 8/30\n",
      "10194/10194 [==============================] - 1s 59us/step - loss: 0.3694 - acc: 0.8455 - val_loss: 0.3643 - val_acc: 0.8474\n",
      "Epoch 9/30\n",
      "10194/10194 [==============================] - 1s 74us/step - loss: 0.3628 - acc: 0.8480 - val_loss: 0.3590 - val_acc: 0.8509\n",
      "Epoch 10/30\n",
      "10194/10194 [==============================] - 1s 70us/step - loss: 0.3572 - acc: 0.8508 - val_loss: 0.3535 - val_acc: 0.8545\n",
      "Epoch 11/30\n",
      "10194/10194 [==============================] - 1s 64us/step - loss: 0.3522 - acc: 0.8547 - val_loss: 0.3510 - val_acc: 0.8529\n",
      "Epoch 12/30\n",
      "10194/10194 [==============================] - 1s 67us/step - loss: 0.3482 - acc: 0.8569 - val_loss: 0.3458 - val_acc: 0.8568\n",
      "Epoch 13/30\n",
      "10194/10194 [==============================] - 1s 54us/step - loss: 0.3448 - acc: 0.8575 - val_loss: 0.3427 - val_acc: 0.8584\n",
      "Epoch 14/30\n",
      "10194/10194 [==============================] - 1s 60us/step - loss: 0.3423 - acc: 0.8583 - val_loss: 0.3405 - val_acc: 0.8599\n",
      "Epoch 15/30\n",
      "10194/10194 [==============================] - 1s 68us/step - loss: 0.3396 - acc: 0.8617 - val_loss: 0.3380 - val_acc: 0.8635\n",
      "Epoch 16/30\n",
      "10194/10194 [==============================] - 1s 67us/step - loss: 0.3384 - acc: 0.8617 - val_loss: 0.3365 - val_acc: 0.8631\n",
      "Epoch 17/30\n",
      "10194/10194 [==============================] - 1s 49us/step - loss: 0.3370 - acc: 0.8610 - val_loss: 0.3346 - val_acc: 0.8623\n",
      "Epoch 18/30\n",
      "10194/10194 [==============================] - 1s 71us/step - loss: 0.3342 - acc: 0.8621 - val_loss: 0.3360 - val_acc: 0.8596\n",
      "Epoch 19/30\n",
      "10194/10194 [==============================] - 1s 64us/step - loss: 0.3339 - acc: 0.8619 - val_loss: 0.3325 - val_acc: 0.8635\n",
      "Epoch 20/30\n",
      "10194/10194 [==============================] - 1s 63us/step - loss: 0.3316 - acc: 0.8640 - val_loss: 0.3311 - val_acc: 0.8631\n",
      "Epoch 21/30\n",
      "10194/10194 [==============================] - 1s 67us/step - loss: 0.3305 - acc: 0.8638 - val_loss: 0.3309 - val_acc: 0.8627\n",
      "Epoch 22/30\n",
      "10194/10194 [==============================] - 1s 64us/step - loss: 0.3292 - acc: 0.8653 - val_loss: 0.3312 - val_acc: 0.8643\n",
      "Epoch 23/30\n",
      "10194/10194 [==============================] - 1s 65us/step - loss: 0.3291 - acc: 0.8641 - val_loss: 0.3282 - val_acc: 0.8623\n",
      "Epoch 24/30\n",
      "10194/10194 [==============================] - 1s 59us/step - loss: 0.3272 - acc: 0.8658 - val_loss: 0.3270 - val_acc: 0.8627\n",
      "Epoch 25/30\n",
      "10194/10194 [==============================] - 1s 56us/step - loss: 0.3269 - acc: 0.8658 - val_loss: 0.3269 - val_acc: 0.8627\n",
      "Epoch 26/30\n",
      "10194/10194 [==============================] - 1s 60us/step - loss: 0.3254 - acc: 0.8649 - val_loss: 0.3262 - val_acc: 0.8654\n",
      "Epoch 27/30\n",
      "10194/10194 [==============================] - 1s 65us/step - loss: 0.3252 - acc: 0.8666 - val_loss: 0.3247 - val_acc: 0.8639\n",
      "Epoch 28/30\n",
      "10194/10194 [==============================] - 1s 67us/step - loss: 0.3248 - acc: 0.8663 - val_loss: 0.3247 - val_acc: 0.8670\n",
      "Epoch 29/30\n",
      "10194/10194 [==============================] - 1s 64us/step - loss: 0.3233 - acc: 0.8675 - val_loss: 0.3244 - val_acc: 0.8658\n",
      "Epoch 30/30\n",
      "10194/10194 [==============================] - 1s 62us/step - loss: 0.3224 - acc: 0.8687 - val_loss: 0.3233 - val_acc: 0.8647\n"
     ]
    }
   ],
   "source": [
    "train_history =model.fit(x=train_Features, \n",
    "                         y=train_Label, \n",
    "                         validation_split=0.2, \n",
    "                         epochs=30, \n",
    "                         batch_size=400,verbose=1)"
   ]
  },
  {
   "cell_type": "code",
   "execution_count": 18,
   "metadata": {
    "collapsed": true
   },
   "outputs": [],
   "source": [
    "import matplotlib.pyplot as plt\n",
    "def show_train_history(train_history,train,validation):\n",
    "    plt.plot(train_history.history[train])\n",
    "    plt.plot(train_history.history[validation])\n",
    "    plt.title('Train History')\n",
    "    plt.ylabel(train)\n",
    "    plt.xlabel('Epoch')\n",
    "    plt.legend(['train', 'validation'], loc='upper left')\n",
    "    plt.show()"
   ]
  },
  {
   "cell_type": "code",
   "execution_count": 19,
   "metadata": {
    "collapsed": false
   },
   "outputs": [
    {
     "data": {
      "image/png": "[encoded data removed]",
      "text/plain": [
       "<matplotlib.figure.Figure at 0x7f6ec5b7c7b8>"
      ]
     },
     "metadata": {},
     "output_type": "display_data"
    }
   ],
   "source": [
    "show_train_history(train_history,'acc','val_acc')"
   ]
  },
  {
   "cell_type": "code",
   "execution_count": 20,
   "metadata": {
    "collapsed": false
   },
   "outputs": [
    {
     "data": {
      "image/png": "[encoded data removed]",
      "text/plain": [
       "<matplotlib.figure.Figure at 0x7f6ec5b7c2e8>"
      ]
     },
     "metadata": {},
     "output_type": "display_data"
    }
   ],
   "source": [
    "show_train_history(train_history,'loss','val_loss')"
   ]
  },
  {
   "cell_type": "code",
   "execution_count": 21,
   "metadata": {
    "collapsed": false
   },
   "outputs": [
    {
     "name": "stdout",
     "output_type": "stream",
     "text": [
      "6277/6277 [==============================] - 1s 116us/step\n"
     ]
    }
   ],
   "source": [
    "scores = model.evaluate(x=test_Features, \n",
    "                        y=test_Label)"
   ]
  },
  {
   "cell_type": "code",
   "execution_count": 22,
   "metadata": {
    "collapsed": false
   },
   "outputs": [
    {
     "data": {
      "text/plain": [
       "0.8539111040495793"
      ]
     },
     "execution_count": 22,
     "metadata": {},
     "output_type": "execute_result"
    }
   ],
   "source": [
    "scores[1]"
   ]
  }
 ],
 "metadata": {
  "anaconda-cloud": {},
  "kernelspec": {
   "display_name": "Python [default]",
   "language": "python",
   "name": "python3"
  },
  "language_info": {
   "codemirror_mode": {
    "name": "ipython",
    "version": 3
   },
   "file_extension": ".py",
   "mimetype": "text/x-python",
   "name": "python",
   "nbconvert_exporter": "python",
   "pygments_lexer": "ipython3",
   "version": "3.5.2"
  }
 },
 "nbformat": 4,
 "nbformat_minor": 1
}
