{
 "cells": [
  {
   "cell_type": "code",
   "execution_count": 1,
   "metadata": {
    "collapsed": false
   },
   "outputs": [],
   "source": [
    "import numpy as np\n",
    "import pandas as pd\n",
    "from sklearn.preprocessing import StandardScaler\n",
    "from sklearn.model_selection import train_test_split"
   ]
  },
  {
   "cell_type": "code",
   "execution_count": 2,
   "metadata": {
    "collapsed": false
   },
   "outputs": [],
   "source": [
    "Ynames = ['fLength', 'fWidth', 'fSize', 'fConc', 'fConc1', 'fAsym', \n",
    "             'fM3Long', 'fM3Trans', 'fAlpha', 'fDist', 'identity']\n",
    "featureNames = ['fLength', 'fWidth', 'fSize', 'fConc', 'fConc1', 'fAsym', \n",
    "             'fM3Long', 'fM3Trans', 'fAlpha', 'fDist']\n",
    "filepath = 'magic04.data'\n",
    "data = pd.read_csv(filepath, names=Ynames, header=None)\n",
    "data['identity']= data['identity'].map({'g':1, 'h': 0}).astype(int) \n",
    "X = data[featureNames].values\n",
    "Y = data['identity'].values.astype('int64')"
   ]
  },
  {
   "cell_type": "code",
   "execution_count": 3,
   "metadata": {
    "collapsed": false
   },
   "outputs": [
    {
     "data": {
      "text/plain": [
       "array([[-0.95976306, -0.56298954, -1.43321351,  1.77384099,  1.24554781,\n",
       "         0.32649112, -0.18859167,  0.53687196,  0.07979154, -0.28240434],\n",
       "       [-0.59720301, -0.74983024, -1.31387021,  1.0993641 ,  1.25278712,\n",
       "        -0.14627189, -0.61264106,  0.19272555,  1.25741777, -1.79352395]])"
      ]
     },
     "execution_count": 3,
     "metadata": {},
     "output_type": "execute_result"
    }
   ],
   "source": [
    "X = StandardScaler().fit_transform(X)\n",
    "train_Features, test_Features, train_Label, test_Label = train_test_split(X, Y, test_size=0.33, random_state=None) \n",
    "train_Features[:2]"
   ]
  },
  {
   "cell_type": "code",
   "execution_count": 4,
   "metadata": {
    "collapsed": false
   },
   "outputs": [
    {
     "data": {
      "text/plain": [
       "array([[ 1.63488502,  0.16967219,  0.9257211 , -1.37809396, -1.35155173,\n",
       "        -2.13886179,  1.69166125, -0.97207142, -0.94833042,  1.29585446],\n",
       "       [-0.78626564, -0.73457316, -1.1003642 ,  1.72023293,  2.26628937,\n",
       "         0.35047409, -0.38820234,  0.66973864,  1.34839604, -0.59873053]])"
      ]
     },
     "execution_count": 4,
     "metadata": {},
     "output_type": "execute_result"
    }
   ],
   "source": [
    "test_Features[:2]"
   ]
  },
  {
   "cell_type": "code",
   "execution_count": 5,
   "metadata": {
    "collapsed": false
   },
   "outputs": [
    {
     "data": {
      "text/plain": [
       "array([1, 1, 0, 1])"
      ]
     },
     "execution_count": 5,
     "metadata": {},
     "output_type": "execute_result"
    }
   ],
   "source": [
    "train_Label[:4]"
   ]
  },
  {
   "cell_type": "code",
   "execution_count": 6,
   "metadata": {
    "collapsed": false
   },
   "outputs": [],
   "source": [
    "train_Features = train_Features.reshape((train_Features.shape[0], train_Features.shape[1], 1))\n",
    "test_Features = test_Features.reshape((test_Features.shape[0], test_Features.shape[1], 1))"
   ]
  },
  {
   "cell_type": "code",
   "execution_count": 7,
   "metadata": {
    "collapsed": false
   },
   "outputs": [
    {
     "data": {
      "text/plain": [
       "(12743, 10, 1)"
      ]
     },
     "execution_count": 7,
     "metadata": {},
     "output_type": "execute_result"
    }
   ],
   "source": [
    "train_Features.shape"
   ]
  },
  {
   "cell_type": "code",
   "execution_count": 8,
   "metadata": {
    "collapsed": false
   },
   "outputs": [
    {
     "name": "stderr",
     "output_type": "stream",
     "text": [
      "Using TensorFlow backend.\n"
     ]
    }
   ],
   "source": [
    "from keras.models import Sequential\n",
    "from keras.layers import Dense,Dropout,Flatten,Conv1D,MaxPooling1D\n",
    "from keras.layers.embeddings import Embedding\n",
    "from keras.callbacks import EarlyStopping\n",
    "early_stopping = EarlyStopping(monitor='val_loss', patience=2)"
   ]
  },
  {
   "cell_type": "code",
   "execution_count": 9,
   "metadata": {
    "collapsed": true
   },
   "outputs": [],
   "source": [
    "model = Sequential()"
   ]
  },
  {
   "cell_type": "code",
   "execution_count": 10,
   "metadata": {
    "collapsed": true
   },
   "outputs": [],
   "source": [
    "model.add(Conv1D(filters=20,\n",
    "                 kernel_size=1,\n",
    "                 padding='valid',\n",
    "                 input_shape=(10,1), \n",
    "                 activation='relu'))"
   ]
  },
  {
   "cell_type": "code",
   "execution_count": 11,
   "metadata": {
    "collapsed": false
   },
   "outputs": [],
   "source": [
    "model.add(MaxPooling1D(pool_size=1))"
   ]
  },
  {
   "cell_type": "code",
   "execution_count": 12,
   "metadata": {
    "collapsed": true
   },
   "outputs": [],
   "source": [
    "model.add(Flatten())"
   ]
  },
  {
   "cell_type": "code",
   "execution_count": 13,
   "metadata": {
    "collapsed": true
   },
   "outputs": [],
   "source": [
    "model.add(Dense(10, activation='tanh'))"
   ]
  },
  {
   "cell_type": "code",
   "execution_count": 14,
   "metadata": {
    "collapsed": true
   },
   "outputs": [],
   "source": [
    "model.add(Dense(1,activation='sigmoid'))"
   ]
  },
  {
   "cell_type": "code",
   "execution_count": 15,
   "metadata": {
    "collapsed": false
   },
   "outputs": [
    {
     "name": "stdout",
     "output_type": "stream",
     "text": [
      "_________________________________________________________________\n",
      "Layer (type)                 Output Shape              Param #   \n",
      "=================================================================\n",
      "conv1d_1 (Conv1D)            (None, 10, 20)            40        \n",
      "_________________________________________________________________\n",
      "max_pooling1d_1 (MaxPooling1 (None, 10, 20)            0         \n",
      "_________________________________________________________________\n",
      "flatten_1 (Flatten)          (None, 200)               0         \n",
      "_________________________________________________________________\n",
      "dense_1 (Dense)              (None, 10)                2010      \n",
      "_________________________________________________________________\n",
      "dense_2 (Dense)              (None, 1)                 11        \n",
      "=================================================================\n",
      "Total params: 2,061\n",
      "Trainable params: 2,061\n",
      "Non-trainable params: 0\n",
      "_________________________________________________________________\n"
     ]
    }
   ],
   "source": [
    "model.summary()"
   ]
  },
  {
   "cell_type": "code",
   "execution_count": 16,
   "metadata": {
    "collapsed": false
   },
   "outputs": [],
   "source": [
    "model.compile(loss='binary_crossentropy', \n",
    "              optimizer='adam', metrics=['accuracy'])"
   ]
  },
  {
   "cell_type": "code",
   "execution_count": 17,
   "metadata": {
    "collapsed": false
   },
   "outputs": [
    {
     "name": "stdout",
     "output_type": "stream",
     "text": [
      "Train on 10194 samples, validate on 2549 samples\n",
      "Epoch 1/30\n",
      "10194/10194 [==============================] - 1s 77us/step - loss: 0.6182 - acc: 0.6780 - val_loss: 0.5370 - val_acc: 0.7450\n",
      "Epoch 2/30\n",
      "10194/10194 [==============================] - 0s 43us/step - loss: 0.5036 - acc: 0.7712 - val_loss: 0.4747 - val_acc: 0.7944\n",
      "Epoch 3/30\n",
      "10194/10194 [==============================] - 0s 23us/step - loss: 0.4524 - acc: 0.7999 - val_loss: 0.4392 - val_acc: 0.8082\n",
      "Epoch 4/30\n",
      "10194/10194 [==============================] - 0s 14us/step - loss: 0.4241 - acc: 0.8131 - val_loss: 0.4207 - val_acc: 0.8117\n",
      "Epoch 5/30\n",
      "10194/10194 [==============================] - 0s 14us/step - loss: 0.4078 - acc: 0.8195 - val_loss: 0.4082 - val_acc: 0.8180\n",
      "Epoch 6/30\n",
      "10194/10194 [==============================] - 0s 12us/step - loss: 0.3946 - acc: 0.8271 - val_loss: 0.3967 - val_acc: 0.8266\n",
      "Epoch 7/30\n",
      "10194/10194 [==============================] - 0s 11us/step - loss: 0.3838 - acc: 0.8365 - val_loss: 0.3870 - val_acc: 0.8360\n",
      "Epoch 8/30\n",
      "10194/10194 [==============================] - 0s 11us/step - loss: 0.3745 - acc: 0.8423 - val_loss: 0.3784 - val_acc: 0.8407\n",
      "Epoch 9/30\n",
      "10194/10194 [==============================] - 0s 12us/step - loss: 0.3678 - acc: 0.8476 - val_loss: 0.3717 - val_acc: 0.8458\n",
      "Epoch 10/30\n",
      "10194/10194 [==============================] - 0s 12us/step - loss: 0.3617 - acc: 0.8504 - val_loss: 0.3657 - val_acc: 0.8446\n",
      "Epoch 11/30\n",
      "10194/10194 [==============================] - 0s 13us/step - loss: 0.3575 - acc: 0.8530 - val_loss: 0.3617 - val_acc: 0.8443\n",
      "Epoch 12/30\n",
      "10194/10194 [==============================] - 0s 11us/step - loss: 0.3552 - acc: 0.8541 - val_loss: 0.3592 - val_acc: 0.8466\n",
      "Epoch 13/30\n",
      "10194/10194 [==============================] - 0s 15us/step - loss: 0.3515 - acc: 0.8554 - val_loss: 0.3569 - val_acc: 0.8497\n",
      "Epoch 14/30\n",
      "10194/10194 [==============================] - 0s 14us/step - loss: 0.3491 - acc: 0.8556 - val_loss: 0.3533 - val_acc: 0.8490\n",
      "Epoch 15/30\n",
      "10194/10194 [==============================] - 0s 11us/step - loss: 0.3472 - acc: 0.8571 - val_loss: 0.3517 - val_acc: 0.8513\n",
      "Epoch 16/30\n",
      "10194/10194 [==============================] - 0s 11us/step - loss: 0.3454 - acc: 0.8556 - val_loss: 0.3497 - val_acc: 0.8537\n",
      "Epoch 17/30\n",
      "10194/10194 [==============================] - 0s 11us/step - loss: 0.3443 - acc: 0.8585 - val_loss: 0.3486 - val_acc: 0.8525\n",
      "Epoch 18/30\n",
      "10194/10194 [==============================] - 0s 11us/step - loss: 0.3425 - acc: 0.8589 - val_loss: 0.3469 - val_acc: 0.8556\n",
      "Epoch 19/30\n",
      "10194/10194 [==============================] - 0s 11us/step - loss: 0.3410 - acc: 0.8597 - val_loss: 0.3456 - val_acc: 0.8552\n",
      "Epoch 20/30\n",
      "10194/10194 [==============================] - 0s 12us/step - loss: 0.3392 - acc: 0.8596 - val_loss: 0.3451 - val_acc: 0.8564\n",
      "Epoch 21/30\n",
      "10194/10194 [==============================] - 0s 11us/step - loss: 0.3384 - acc: 0.8603 - val_loss: 0.3430 - val_acc: 0.8584\n",
      "Epoch 22/30\n",
      "10194/10194 [==============================] - 0s 12us/step - loss: 0.3369 - acc: 0.8594 - val_loss: 0.3427 - val_acc: 0.8592\n",
      "Epoch 23/30\n",
      "10194/10194 [==============================] - 0s 12us/step - loss: 0.3355 - acc: 0.8613 - val_loss: 0.3403 - val_acc: 0.8584\n",
      "Epoch 24/30\n",
      "10194/10194 [==============================] - 0s 13us/step - loss: 0.3343 - acc: 0.8602 - val_loss: 0.3396 - val_acc: 0.8592\n",
      "Epoch 25/30\n",
      "10194/10194 [==============================] - 0s 12us/step - loss: 0.3337 - acc: 0.8609 - val_loss: 0.3384 - val_acc: 0.8576\n",
      "Epoch 26/30\n",
      "10194/10194 [==============================] - 0s 14us/step - loss: 0.3328 - acc: 0.8609 - val_loss: 0.3380 - val_acc: 0.8599\n",
      "Epoch 27/30\n",
      "10194/10194 [==============================] - 0s 19us/step - loss: 0.3318 - acc: 0.8626 - val_loss: 0.3358 - val_acc: 0.8584\n",
      "Epoch 28/30\n",
      "10194/10194 [==============================] - 0s 17us/step - loss: 0.3297 - acc: 0.8633 - val_loss: 0.3361 - val_acc: 0.8611\n",
      "Epoch 29/30\n",
      "10194/10194 [==============================] - 0s 34us/step - loss: 0.3284 - acc: 0.8633 - val_loss: 0.3337 - val_acc: 0.8611\n",
      "Epoch 30/30\n",
      "10194/10194 [==============================] - 0s 45us/step - loss: 0.3277 - acc: 0.8636 - val_loss: 0.3342 - val_acc: 0.8619\n"
     ]
    }
   ],
   "source": [
    "train_history =model.fit(x=train_Features, \n",
    "                         y=train_Label, \n",
    "                         validation_split=0.2, \n",
    "                         epochs=30, \n",
    "                         batch_size=400,verbose=1)"
   ]
  },
  {
   "cell_type": "code",
   "execution_count": 18,
   "metadata": {
    "collapsed": true
   },
   "outputs": [],
   "source": [
    "import matplotlib.pyplot as plt\n",
    "def show_train_history(train_history,train,validation):\n",
    "    plt.plot(train_history.history[train])\n",
    "    plt.plot(train_history.history[validation])\n",
    "    plt.title('Train History')\n",
    "    plt.ylabel(train)\n",
    "    plt.xlabel('Epoch')\n",
    "    plt.legend(['train', 'validation'], loc='upper left')\n",
    "    plt.show()"
   ]
  },
  {
   "cell_type": "code",
   "execution_count": 19,
   "metadata": {
    "collapsed": false
   },
   "outputs": [
    {
     "data": {
      "image/png": "[encoded data removed]",
      "text/plain": [
       "<matplotlib.figure.Figure at 0x7f37324e8e48>"
      ]
     },
     "metadata": {},
     "output_type": "display_data"
    }
   ],
   "source": [
    "show_train_history(train_history,'acc','val_acc')"
   ]
  },
  {
   "cell_type": "code",
   "execution_count": 20,
   "metadata": {
    "collapsed": false
   },
   "outputs": [
    {
     "data": {
      "image/png": "[encoded data removed]",
      "text/plain": [
       "<matplotlib.figure.Figure at 0x7f37324e8ba8>"
      ]
     },
     "metadata": {},
     "output_type": "display_data"
    }
   ],
   "source": [
    "show_train_history(train_history,'loss','val_loss')"
   ]
  },
  {
   "cell_type": "code",
   "execution_count": 21,
   "metadata": {
    "collapsed": false
   },
   "outputs": [
    {
     "name": "stdout",
     "output_type": "stream",
     "text": [
      "6277/6277 [==============================] - 0s 21us/step\n"
     ]
    }
   ],
   "source": [
    "scores = model.evaluate(x=test_Features, \n",
    "                        y=test_Label)"
   ]
  },
  {
   "cell_type": "code",
   "execution_count": 22,
   "metadata": {
    "collapsed": false
   },
   "outputs": [
    {
     "data": {
      "text/plain": [
       "0.8500876214847227"
      ]
     },
     "execution_count": 22,
     "metadata": {},
     "output_type": "execute_result"
    }
   ],
   "source": [
    "scores[1]"
   ]
  }
 ],
 "metadata": {
  "anaconda-cloud": {},
  "kernelspec": {
   "display_name": "Python [default]",
   "language": "python",
   "name": "python3"
  },
  "language_info": {
   "codemirror_mode": {
    "name": "ipython",
    "version": 3
   },
   "file_extension": ".py",
   "mimetype": "text/x-python",
   "name": "python",
   "nbconvert_exporter": "python",
   "pygments_lexer": "ipython3",
   "version": "3.5.2"
  }
 },
 "nbformat": 4,
 "nbformat_minor": 1
}
