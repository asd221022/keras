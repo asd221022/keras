{
 "cells": [
  {
   "cell_type": "code",
   "execution_count": 1,
   "metadata": {
    "collapsed": false
   },
   "outputs": [],
   "source": [
    "import numpy as np\n",
    "import pandas as pd\n",
    "from sklearn.preprocessing import StandardScaler\n",
    "from sklearn.model_selection import train_test_split"
   ]
  },
  {
   "cell_type": "code",
   "execution_count": 2,
   "metadata": {
    "collapsed": false
   },
   "outputs": [],
   "source": [
    "Ynames = ['fLength', 'fWidth', 'fSize', 'fConc', 'fConc1', 'fAsym', \n",
    "             'fM3Long', 'fM3Trans', 'fAlpha', 'fDist', 'identity']\n",
    "featureNames = ['fLength', 'fWidth', 'fSize', 'fConc', 'fConc1', 'fAsym', \n",
    "             'fM3Long', 'fM3Trans', 'fAlpha', 'fDist']\n",
    "filepath = 'magic04.data'\n",
    "data = pd.read_csv(filepath, names=Ynames, header=None)\n",
    "data['identity']= data['identity'].map({'g':1, 'h': 0}).astype(int) \n",
    "X = data[featureNames].values\n",
    "Y = data['identity'].values.astype('int64')"
   ]
  },
  {
   "cell_type": "code",
   "execution_count": 3,
   "metadata": {
    "collapsed": false
   },
   "outputs": [
    {
     "data": {
      "text/plain": [
       "array([[ 0.68171378,  0.96038607,  1.91813259, -1.08434369, -1.07464843,\n",
       "         0.58397828, -0.90705596, -0.91623496, -1.04204019,  2.22418532],\n",
       "       [-0.54936257, -0.28439373, -0.03262254, -0.28241092, -0.40591792,\n",
       "         0.04378628,  0.21315717, -0.49276321, -0.6538233 ,  0.58532152]])"
      ]
     },
     "execution_count": 3,
     "metadata": {},
     "output_type": "execute_result"
    }
   ],
   "source": [
    "X = StandardScaler().fit_transform(X)\n",
    "train_Features, test_Features, train_Label, test_Label = train_test_split(X, Y, test_size=0.33, random_state=None) \n",
    "train_Features[:2]"
   ]
  },
  {
   "cell_type": "code",
   "execution_count": 4,
   "metadata": {
    "collapsed": false
   },
   "outputs": [
    {
     "data": {
      "text/plain": [
       "array([[-0.83093591, -0.52107207, -0.6898571 ,  1.28316316,  1.16953514,\n",
       "        -0.1693225 , -0.40952442,  0.4609845 , -0.35764587, -1.06571947],\n",
       "       [-0.74537926, -0.1921753 , -0.19259334, -0.04172168, -0.08105425,\n",
       "         0.07314553,  0.1543087 , -0.53099263,  1.53862753, -1.55932294]])"
      ]
     },
     "execution_count": 4,
     "metadata": {},
     "output_type": "execute_result"
    }
   ],
   "source": [
    "test_Features[:2]"
   ]
  },
  {
   "cell_type": "code",
   "execution_count": 5,
   "metadata": {
    "collapsed": false
   },
   "outputs": [
    {
     "data": {
      "text/plain": [
       "array([1, 0, 1, 1])"
      ]
     },
     "execution_count": 5,
     "metadata": {},
     "output_type": "execute_result"
    }
   ],
   "source": [
    "train_Label[:4]"
   ]
  },
  {
   "cell_type": "code",
   "execution_count": 6,
   "metadata": {
    "collapsed": false
   },
   "outputs": [],
   "source": [
    "train_Features = train_Features.reshape((train_Features.shape[0], train_Features.shape[1], 1))\n",
    "test_Features = test_Features.reshape((test_Features.shape[0], test_Features.shape[1], 1))"
   ]
  },
  {
   "cell_type": "code",
   "execution_count": 7,
   "metadata": {
    "collapsed": false
   },
   "outputs": [
    {
     "data": {
      "text/plain": [
       "(12743, 10, 1)"
      ]
     },
     "execution_count": 7,
     "metadata": {},
     "output_type": "execute_result"
    }
   ],
   "source": [
    "train_Features.shape"
   ]
  },
  {
   "cell_type": "code",
   "execution_count": 8,
   "metadata": {
    "collapsed": false
   },
   "outputs": [
    {
     "name": "stderr",
     "output_type": "stream",
     "text": [
      "Using TensorFlow backend.\n"
     ]
    }
   ],
   "source": [
    "from keras.models import Sequential\n",
    "from keras.layers import Dense,Dropout,Flatten,Conv1D,MaxPooling1D\n",
    "from keras.layers.embeddings import Embedding\n",
    "from keras.callbacks import EarlyStopping\n",
    "early_stopping = EarlyStopping(monitor='val_loss', patience=2)"
   ]
  },
  {
   "cell_type": "code",
   "execution_count": 9,
   "metadata": {
    "collapsed": true
   },
   "outputs": [],
   "source": [
    "model = Sequential()"
   ]
  },
  {
   "cell_type": "code",
   "execution_count": 10,
   "metadata": {
    "collapsed": true
   },
   "outputs": [],
   "source": [
    "model.add(Conv1D(filters=30*8,\n",
    "                 kernel_size=1,\n",
    "                 padding='valid',\n",
    "                 input_shape=(10,1), \n",
    "                 activation='relu'))"
   ]
  },
  {
   "cell_type": "code",
   "execution_count": 11,
   "metadata": {
    "collapsed": true
   },
   "outputs": [],
   "source": [
    "model.add(MaxPooling1D(pool_size=1))"
   ]
  },
  {
   "cell_type": "code",
   "execution_count": 12,
   "metadata": {
    "collapsed": true
   },
   "outputs": [],
   "source": [
    "model.add(Conv1D(filters=30*7,\n",
    "                 kernel_size=1,\n",
    "                 padding='valid',\n",
    "                 input_shape=(10,1), \n",
    "                 activation='relu'))"
   ]
  },
  {
   "cell_type": "code",
   "execution_count": 13,
   "metadata": {
    "collapsed": true
   },
   "outputs": [],
   "source": [
    "model.add(MaxPooling1D(pool_size=1))"
   ]
  },
  {
   "cell_type": "code",
   "execution_count": 14,
   "metadata": {
    "collapsed": true
   },
   "outputs": [],
   "source": [
    "model.add(Conv1D(filters=30*6,\n",
    "                 kernel_size=1,\n",
    "                 padding='valid',\n",
    "                 input_shape=(10,1), \n",
    "                 activation='relu'))"
   ]
  },
  {
   "cell_type": "code",
   "execution_count": 15,
   "metadata": {
    "collapsed": true
   },
   "outputs": [],
   "source": [
    "model.add(MaxPooling1D(pool_size=1))"
   ]
  },
  {
   "cell_type": "code",
   "execution_count": 16,
   "metadata": {
    "collapsed": true
   },
   "outputs": [],
   "source": [
    "model.add(Conv1D(filters=30*5,\n",
    "                 kernel_size=1,\n",
    "                 padding='valid',\n",
    "                 input_shape=(10,1), \n",
    "                 activation='relu'))"
   ]
  },
  {
   "cell_type": "code",
   "execution_count": 17,
   "metadata": {
    "collapsed": true
   },
   "outputs": [],
   "source": [
    "model.add(MaxPooling1D(pool_size=1))"
   ]
  },
  {
   "cell_type": "code",
   "execution_count": 18,
   "metadata": {
    "collapsed": true
   },
   "outputs": [],
   "source": [
    "model.add(Conv1D(filters=30*4,\n",
    "                 kernel_size=1,\n",
    "                 padding='valid',\n",
    "                 activation='relu'))"
   ]
  },
  {
   "cell_type": "code",
   "execution_count": 19,
   "metadata": {
    "collapsed": true
   },
   "outputs": [],
   "source": [
    "model.add(MaxPooling1D(pool_size=1))"
   ]
  },
  {
   "cell_type": "code",
   "execution_count": 20,
   "metadata": {
    "collapsed": true
   },
   "outputs": [],
   "source": [
    "model.add(Conv1D(filters=30*3,\n",
    "                 kernel_size=1,\n",
    "                 padding='valid',\n",
    "                 activation='relu'))"
   ]
  },
  {
   "cell_type": "code",
   "execution_count": 21,
   "metadata": {
    "collapsed": true
   },
   "outputs": [],
   "source": [
    "model.add(MaxPooling1D(pool_size=1))"
   ]
  },
  {
   "cell_type": "code",
   "execution_count": 22,
   "metadata": {
    "collapsed": true
   },
   "outputs": [],
   "source": [
    "model.add(Conv1D(filters=30*2,\n",
    "                 kernel_size=1,\n",
    "                 padding='valid',\n",
    "                 activation='relu'))"
   ]
  },
  {
   "cell_type": "code",
   "execution_count": 23,
   "metadata": {
    "collapsed": true
   },
   "outputs": [],
   "source": [
    "model.add(MaxPooling1D(pool_size=1))"
   ]
  },
  {
   "cell_type": "code",
   "execution_count": 24,
   "metadata": {
    "collapsed": false
   },
   "outputs": [],
   "source": [
    "model.add(Conv1D(filters=30,\n",
    "                 kernel_size=1,\n",
    "                 padding='valid',\n",
    "                 activation='relu'))"
   ]
  },
  {
   "cell_type": "code",
   "execution_count": 25,
   "metadata": {
    "collapsed": false
   },
   "outputs": [],
   "source": [
    "model.add(MaxPooling1D(pool_size=1))"
   ]
  },
  {
   "cell_type": "code",
   "execution_count": 26,
   "metadata": {
    "collapsed": true
   },
   "outputs": [],
   "source": [
    "model.add(Flatten())"
   ]
  },
  {
   "cell_type": "code",
   "execution_count": 27,
   "metadata": {
    "collapsed": true
   },
   "outputs": [],
   "source": [
    "model.add(Dense(10, activation='tanh'))"
   ]
  },
  {
   "cell_type": "code",
   "execution_count": 28,
   "metadata": {
    "collapsed": true
   },
   "outputs": [],
   "source": [
    "model.add(Dense(1,activation='sigmoid'))"
   ]
  },
  {
   "cell_type": "code",
   "execution_count": 29,
   "metadata": {
    "collapsed": false
   },
   "outputs": [
    {
     "name": "stdout",
     "output_type": "stream",
     "text": [
      "_________________________________________________________________\n",
      "Layer (type)                 Output Shape              Param #   \n",
      "=================================================================\n",
      "conv1d_1 (Conv1D)            (None, 10, 240)           480       \n",
      "_________________________________________________________________\n",
      "max_pooling1d_1 (MaxPooling1 (None, 10, 240)           0         \n",
      "_________________________________________________________________\n",
      "conv1d_2 (Conv1D)            (None, 10, 210)           50610     \n",
      "_________________________________________________________________\n",
      "max_pooling1d_2 (MaxPooling1 (None, 10, 210)           0         \n",
      "_________________________________________________________________\n",
      "conv1d_3 (Conv1D)            (None, 10, 180)           37980     \n",
      "_________________________________________________________________\n",
      "max_pooling1d_3 (MaxPooling1 (None, 10, 180)           0         \n",
      "_________________________________________________________________\n",
      "conv1d_4 (Conv1D)            (None, 10, 150)           27150     \n",
      "_________________________________________________________________\n",
      "max_pooling1d_4 (MaxPooling1 (None, 10, 150)           0         \n",
      "_________________________________________________________________\n",
      "conv1d_5 (Conv1D)            (None, 10, 120)           18120     \n",
      "_________________________________________________________________\n",
      "max_pooling1d_5 (MaxPooling1 (None, 10, 120)           0         \n",
      "_________________________________________________________________\n",
      "conv1d_6 (Conv1D)            (None, 10, 90)            10890     \n",
      "_________________________________________________________________\n",
      "max_pooling1d_6 (MaxPooling1 (None, 10, 90)            0         \n",
      "_________________________________________________________________\n",
      "conv1d_7 (Conv1D)            (None, 10, 60)            5460      \n",
      "_________________________________________________________________\n",
      "max_pooling1d_7 (MaxPooling1 (None, 10, 60)            0         \n",
      "_________________________________________________________________\n",
      "conv1d_8 (Conv1D)            (None, 10, 30)            1830      \n",
      "_________________________________________________________________\n",
      "max_pooling1d_8 (MaxPooling1 (None, 10, 30)            0         \n",
      "_________________________________________________________________\n",
      "flatten_1 (Flatten)          (None, 300)               0         \n",
      "_________________________________________________________________\n",
      "dense_1 (Dense)              (None, 10)                3010      \n",
      "_________________________________________________________________\n",
      "dense_2 (Dense)              (None, 1)                 11        \n",
      "=================================================================\n",
      "Total params: 155,541\n",
      "Trainable params: 155,541\n",
      "Non-trainable params: 0\n",
      "_________________________________________________________________\n"
     ]
    }
   ],
   "source": [
    "model.summary()"
   ]
  },
  {
   "cell_type": "code",
   "execution_count": 30,
   "metadata": {
    "collapsed": false
   },
   "outputs": [],
   "source": [
    "model.compile(loss='binary_crossentropy', \n",
    "              optimizer='adam', metrics=['accuracy'])"
   ]
  },
  {
   "cell_type": "code",
   "execution_count": 31,
   "metadata": {
    "collapsed": false
   },
   "outputs": [
    {
     "name": "stdout",
     "output_type": "stream",
     "text": [
      "Train on 10194 samples, validate on 2549 samples\n",
      "Epoch 1/30\n",
      "10194/10194 [==============================] - 25s 3ms/step - loss: 0.5337 - acc: 0.7512 - val_loss: 0.4016 - val_acc: 0.8242\n",
      "Epoch 2/30\n",
      "10194/10194 [==============================] - 21s 2ms/step - loss: 0.3758 - acc: 0.8401 - val_loss: 0.3609 - val_acc: 0.8478\n",
      "Epoch 3/30\n",
      "10194/10194 [==============================] - 20s 2ms/step - loss: 0.3572 - acc: 0.8523 - val_loss: 0.3554 - val_acc: 0.8517\n",
      "Epoch 4/30\n",
      "10194/10194 [==============================] - 20s 2ms/step - loss: 0.3472 - acc: 0.8530 - val_loss: 0.3489 - val_acc: 0.8533\n",
      "Epoch 5/30\n",
      "10194/10194 [==============================] - 19s 2ms/step - loss: 0.3419 - acc: 0.8574 - val_loss: 0.3452 - val_acc: 0.8548\n",
      "Epoch 6/30\n",
      "10194/10194 [==============================] - 16s 2ms/step - loss: 0.3357 - acc: 0.8601 - val_loss: 0.3445 - val_acc: 0.8588\n",
      "Epoch 7/30\n",
      "10194/10194 [==============================] - 16s 2ms/step - loss: 0.3356 - acc: 0.8592 - val_loss: 0.3377 - val_acc: 0.8607\n",
      "Epoch 8/30\n",
      "10194/10194 [==============================] - 16s 2ms/step - loss: 0.3331 - acc: 0.8598 - val_loss: 0.3397 - val_acc: 0.8603\n",
      "Epoch 9/30\n",
      "10194/10194 [==============================] - 16s 2ms/step - loss: 0.3311 - acc: 0.8623 - val_loss: 0.3359 - val_acc: 0.8643\n",
      "Epoch 10/30\n",
      "10194/10194 [==============================] - 16s 2ms/step - loss: 0.3299 - acc: 0.8601 - val_loss: 0.3350 - val_acc: 0.8635\n",
      "Epoch 11/30\n",
      "10194/10194 [==============================] - 16s 2ms/step - loss: 0.3321 - acc: 0.8621 - val_loss: 0.3364 - val_acc: 0.8584\n",
      "Epoch 12/30\n",
      "10194/10194 [==============================] - 16s 2ms/step - loss: 0.3275 - acc: 0.8615 - val_loss: 0.3368 - val_acc: 0.8615\n",
      "Epoch 13/30\n",
      "10194/10194 [==============================] - 16s 2ms/step - loss: 0.3263 - acc: 0.8628 - val_loss: 0.3346 - val_acc: 0.8639\n",
      "Epoch 14/30\n",
      "10194/10194 [==============================] - 16s 2ms/step - loss: 0.3246 - acc: 0.8650 - val_loss: 0.3307 - val_acc: 0.8631\n",
      "Epoch 15/30\n",
      "10194/10194 [==============================] - 16s 2ms/step - loss: 0.3218 - acc: 0.8659 - val_loss: 0.3333 - val_acc: 0.8615\n",
      "Epoch 16/30\n",
      "10194/10194 [==============================] - 16s 2ms/step - loss: 0.3215 - acc: 0.8666 - val_loss: 0.3307 - val_acc: 0.8619\n",
      "Epoch 17/30\n",
      "10194/10194 [==============================] - 16s 2ms/step - loss: 0.3225 - acc: 0.8661 - val_loss: 0.3327 - val_acc: 0.8599\n",
      "Epoch 18/30\n",
      "10194/10194 [==============================] - 16s 2ms/step - loss: 0.3205 - acc: 0.8672 - val_loss: 0.3365 - val_acc: 0.8603\n",
      "Epoch 19/30\n",
      "10194/10194 [==============================] - 16s 2ms/step - loss: 0.3211 - acc: 0.8649 - val_loss: 0.3343 - val_acc: 0.8658\n",
      "Epoch 20/30\n",
      "10194/10194 [==============================] - 14s 1ms/step - loss: 0.3239 - acc: 0.8654 - val_loss: 0.3386 - val_acc: 0.8607\n",
      "Epoch 21/30\n",
      "10194/10194 [==============================] - 10s 978us/step - loss: 0.3189 - acc: 0.8683 - val_loss: 0.3369 - val_acc: 0.8607\n",
      "Epoch 22/30\n",
      "10194/10194 [==============================] - 9s 836us/step - loss: 0.3192 - acc: 0.8653 - val_loss: 0.3306 - val_acc: 0.8647\n",
      "Epoch 23/30\n",
      "10194/10194 [==============================] - 8s 827us/step - loss: 0.3162 - acc: 0.8686 - val_loss: 0.3386 - val_acc: 0.8552\n",
      "Epoch 24/30\n",
      "10194/10194 [==============================] - 8s 826us/step - loss: 0.3145 - acc: 0.8670 - val_loss: 0.3314 - val_acc: 0.8627\n",
      "Epoch 25/30\n",
      "10194/10194 [==============================] - 9s 847us/step - loss: 0.3118 - acc: 0.8684 - val_loss: 0.3338 - val_acc: 0.8623\n",
      "Epoch 26/30\n",
      "10194/10194 [==============================] - 8s 830us/step - loss: 0.3162 - acc: 0.8679 - val_loss: 0.3284 - val_acc: 0.8647\n",
      "Epoch 27/30\n",
      "10194/10194 [==============================] - 9s 848us/step - loss: 0.3137 - acc: 0.8710 - val_loss: 0.3304 - val_acc: 0.8635\n",
      "Epoch 28/30\n",
      "10194/10194 [==============================] - 9s 865us/step - loss: 0.3092 - acc: 0.8718 - val_loss: 0.3288 - val_acc: 0.8615\n",
      "Epoch 29/30\n",
      "10194/10194 [==============================] - 9s 853us/step - loss: 0.3100 - acc: 0.8703 - val_loss: 0.3335 - val_acc: 0.8592\n",
      "Epoch 30/30\n",
      "10194/10194 [==============================] - 9s 837us/step - loss: 0.3113 - acc: 0.8700 - val_loss: 0.3314 - val_acc: 0.8631\n"
     ]
    }
   ],
   "source": [
    "train_history =model.fit(x=train_Features, \n",
    "                         y=train_Label, \n",
    "                         validation_split=0.2, \n",
    "                         epochs=30, \n",
    "                         batch_size=400,verbose=1)"
   ]
  },
  {
   "cell_type": "code",
   "execution_count": 32,
   "metadata": {
    "collapsed": true
   },
   "outputs": [],
   "source": [
    "import matplotlib.pyplot as plt\n",
    "def show_train_history(train_history,train,validation):\n",
    "    plt.plot(train_history.history[train])\n",
    "    plt.plot(train_history.history[validation])\n",
    "    plt.title('Train History')\n",
    "    plt.ylabel(train)\n",
    "    plt.xlabel('Epoch')\n",
    "    plt.legend(['train', 'validation'], loc='upper left')\n",
    "    plt.show()"
   ]
  },
  {
   "cell_type": "code",
   "execution_count": 33,
   "metadata": {
    "collapsed": false
   },
   "outputs": [
    {
     "data": {
      "image/png": "[encoded data removed]",
      "text/plain": [
       "<matplotlib.figure.Figure at 0x7f1cb7527fd0>"
      ]
     },
     "metadata": {},
     "output_type": "display_data"
    }
   ],
   "source": [
    "show_train_history(train_history,'acc','val_acc')"
   ]
  },
  {
   "cell_type": "code",
   "execution_count": 34,
   "metadata": {
    "collapsed": false
   },
   "outputs": [
    {
     "data": {
      "image/png": "[encoded data removed]",
      "text/plain": [
       "<matplotlib.figure.Figure at 0x7f1cb7519c50>"
      ]
     },
     "metadata": {},
     "output_type": "display_data"
    }
   ],
   "source": [
    "show_train_history(train_history,'loss','val_loss')"
   ]
  },
  {
   "cell_type": "code",
   "execution_count": 35,
   "metadata": {
    "collapsed": false
   },
   "outputs": [
    {
     "name": "stdout",
     "output_type": "stream",
     "text": [
      "6277/6277 [==============================] - 1s 203us/step\n"
     ]
    }
   ],
   "source": [
    "scores = model.evaluate(x=test_Features, \n",
    "                        y=test_Label)"
   ]
  },
  {
   "cell_type": "code",
   "execution_count": 36,
   "metadata": {
    "collapsed": false
   },
   "outputs": [
    {
     "data": {
      "text/plain": [
       "0.8641070575115501"
      ]
     },
     "execution_count": 36,
     "metadata": {},
     "output_type": "execute_result"
    }
   ],
   "source": [
    "scores[1]"
   ]
  }
 ],
 "metadata": {
  "anaconda-cloud": {},
  "kernelspec": {
   "display_name": "Python [default]",
   "language": "python",
   "name": "python3"
  },
  "language_info": {
   "codemirror_mode": {
    "name": "ipython",
    "version": 3
   },
   "file_extension": ".py",
   "mimetype": "text/x-python",
   "name": "python",
   "nbconvert_exporter": "python",
   "pygments_lexer": "ipython3",
   "version": "3.5.2"
  }
 },
 "nbformat": 4,
 "nbformat_minor": 1
}
