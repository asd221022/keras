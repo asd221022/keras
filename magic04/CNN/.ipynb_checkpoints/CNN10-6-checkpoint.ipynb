{
 "cells": [
  {
   "cell_type": "code",
   "execution_count": 1,
   "metadata": {
    "collapsed": false
   },
   "outputs": [],
   "source": [
    "import numpy as np\n",
    "import pandas as pd\n",
    "from sklearn.preprocessing import StandardScaler\n",
    "from sklearn.model_selection import train_test_split"
   ]
  },
  {
   "cell_type": "code",
   "execution_count": 2,
   "metadata": {
    "collapsed": false
   },
   "outputs": [],
   "source": [
    "Ynames = ['fLength', 'fWidth', 'fSize', 'fConc', 'fConc1', 'fAsym', \n",
    "             'fM3Long', 'fM3Trans', 'fAlpha', 'fDist', 'identity']\n",
    "featureNames = ['fLength', 'fWidth', 'fSize', 'fConc', 'fConc1', 'fAsym', \n",
    "             'fM3Long', 'fM3Trans', 'fAlpha', 'fDist']\n",
    "filepath = 'magic04.data'\n",
    "data = pd.read_csv(filepath, names=Ynames, header=None)\n",
    "data['identity']= data['identity'].map({'g':1, 'h': 0}).astype(int) \n",
    "X = data[featureNames].values\n",
    "Y = data['identity'].values.astype('int64')"
   ]
  },
  {
   "cell_type": "code",
   "execution_count": 3,
   "metadata": {
    "collapsed": false
   },
   "outputs": [
    {
     "data": {
      "text/plain": [
       "array([[ 0.23692303, -0.38425978, -0.16910557, -0.19160543, -0.27380066,\n",
       "        -0.25640371, -1.28128258,  0.58663935, -0.64497372,  0.04433268],\n",
       "       [-0.80452653, -0.50231005, -0.82443571,  0.91064186,  1.19577761,\n",
       "         0.24494496,  0.09631123,  0.19927957, -0.75604936,  0.19290791]])"
      ]
     },
     "execution_count": 3,
     "metadata": {},
     "output_type": "execute_result"
    }
   ],
   "source": [
    "X = StandardScaler().fit_transform(X)\n",
    "train_Features, test_Features, train_Label, test_Label = train_test_split(X, Y, test_size=0.33, random_state=None) \n",
    "train_Features[:2]"
   ]
  },
  {
   "cell_type": "code",
   "execution_count": 4,
   "metadata": {
    "collapsed": false
   },
   "outputs": [
    {
     "data": {
      "text/plain": [
       "array([[-0.38520568, -0.15113543,  0.42718773, -0.38415682, -0.36519685,\n",
       "         0.35930788,  0.2101924 , -0.55409738, -0.62014893, -0.36795252],\n",
       "       [-0.76667813, -0.29374203, -0.51528578,  0.32861153,  0.10897742,\n",
       "         0.17711735,  0.02025255,  0.68831079,  1.70849732,  0.46115423]])"
      ]
     },
     "execution_count": 4,
     "metadata": {},
     "output_type": "execute_result"
    }
   ],
   "source": [
    "test_Features[:2]"
   ]
  },
  {
   "cell_type": "code",
   "execution_count": 5,
   "metadata": {
    "collapsed": false
   },
   "outputs": [
    {
     "data": {
      "text/plain": [
       "array([1, 0, 1, 1])"
      ]
     },
     "execution_count": 5,
     "metadata": {},
     "output_type": "execute_result"
    }
   ],
   "source": [
    "train_Label[:4]"
   ]
  },
  {
   "cell_type": "code",
   "execution_count": 6,
   "metadata": {
    "collapsed": false
   },
   "outputs": [],
   "source": [
    "train_Features = train_Features.reshape((train_Features.shape[0], train_Features.shape[1], 1))\n",
    "test_Features = test_Features.reshape((test_Features.shape[0], test_Features.shape[1], 1))"
   ]
  },
  {
   "cell_type": "code",
   "execution_count": 7,
   "metadata": {
    "collapsed": false
   },
   "outputs": [
    {
     "data": {
      "text/plain": [
       "(12743, 10, 1)"
      ]
     },
     "execution_count": 7,
     "metadata": {},
     "output_type": "execute_result"
    }
   ],
   "source": [
    "train_Features.shape"
   ]
  },
  {
   "cell_type": "code",
   "execution_count": 8,
   "metadata": {
    "collapsed": false
   },
   "outputs": [
    {
     "name": "stderr",
     "output_type": "stream",
     "text": [
      "Using TensorFlow backend.\n"
     ]
    }
   ],
   "source": [
    "from keras.models import Sequential\n",
    "from keras.layers import Dense,Dropout,Flatten,Conv1D,MaxPooling1D\n",
    "from keras.layers.embeddings import Embedding\n",
    "from keras.callbacks import EarlyStopping\n",
    "early_stopping = EarlyStopping(monitor='val_loss', patience=2)"
   ]
  },
  {
   "cell_type": "code",
   "execution_count": 9,
   "metadata": {
    "collapsed": true
   },
   "outputs": [],
   "source": [
    "model = Sequential()"
   ]
  },
  {
   "cell_type": "code",
   "execution_count": 10,
   "metadata": {
    "collapsed": true
   },
   "outputs": [],
   "source": [
    "model.add(Conv1D(filters=10*6,\n",
    "                 kernel_size=1,\n",
    "                 padding='valid',\n",
    "                 input_shape=(10,1), \n",
    "                 activation='relu'))"
   ]
  },
  {
   "cell_type": "code",
   "execution_count": 11,
   "metadata": {
    "collapsed": true
   },
   "outputs": [],
   "source": [
    "model.add(MaxPooling1D(pool_size=1))"
   ]
  },
  {
   "cell_type": "code",
   "execution_count": 12,
   "metadata": {
    "collapsed": true
   },
   "outputs": [],
   "source": [
    "model.add(Conv1D(filters=10*5,\n",
    "                 kernel_size=1,\n",
    "                 padding='valid', \n",
    "                 activation='relu'))"
   ]
  },
  {
   "cell_type": "code",
   "execution_count": 13,
   "metadata": {
    "collapsed": true
   },
   "outputs": [],
   "source": [
    "model.add(MaxPooling1D(pool_size=1))"
   ]
  },
  {
   "cell_type": "code",
   "execution_count": 14,
   "metadata": {
    "collapsed": true
   },
   "outputs": [],
   "source": [
    "model.add(Conv1D(filters=10*4,\n",
    "                 kernel_size=1,\n",
    "                 padding='valid',\n",
    "                 activation='relu'))"
   ]
  },
  {
   "cell_type": "code",
   "execution_count": 15,
   "metadata": {
    "collapsed": true
   },
   "outputs": [],
   "source": [
    "model.add(MaxPooling1D(pool_size=1))"
   ]
  },
  {
   "cell_type": "code",
   "execution_count": 16,
   "metadata": {
    "collapsed": true
   },
   "outputs": [],
   "source": [
    "model.add(Conv1D(filters=10*3,\n",
    "                 kernel_size=1,\n",
    "                 padding='valid',\n",
    "                 activation='relu'))"
   ]
  },
  {
   "cell_type": "code",
   "execution_count": 17,
   "metadata": {
    "collapsed": true
   },
   "outputs": [],
   "source": [
    "model.add(MaxPooling1D(pool_size=1))"
   ]
  },
  {
   "cell_type": "code",
   "execution_count": 18,
   "metadata": {
    "collapsed": true
   },
   "outputs": [],
   "source": [
    "model.add(Conv1D(filters=10*2,\n",
    "                 kernel_size=1,\n",
    "                 padding='valid',\n",
    "                 activation='relu'))"
   ]
  },
  {
   "cell_type": "code",
   "execution_count": 19,
   "metadata": {
    "collapsed": true
   },
   "outputs": [],
   "source": [
    "model.add(MaxPooling1D(pool_size=1))"
   ]
  },
  {
   "cell_type": "code",
   "execution_count": 20,
   "metadata": {
    "collapsed": false
   },
   "outputs": [],
   "source": [
    "model.add(Conv1D(filters=10,\n",
    "                 kernel_size=1,\n",
    "                 padding='valid',\n",
    "                 activation='relu'))"
   ]
  },
  {
   "cell_type": "code",
   "execution_count": 21,
   "metadata": {
    "collapsed": false
   },
   "outputs": [],
   "source": [
    "model.add(MaxPooling1D(pool_size=1))"
   ]
  },
  {
   "cell_type": "code",
   "execution_count": 22,
   "metadata": {
    "collapsed": true
   },
   "outputs": [],
   "source": [
    "model.add(Flatten())"
   ]
  },
  {
   "cell_type": "code",
   "execution_count": 23,
   "metadata": {
    "collapsed": true
   },
   "outputs": [],
   "source": [
    "model.add(Dense(10, activation='tanh'))"
   ]
  },
  {
   "cell_type": "code",
   "execution_count": 24,
   "metadata": {
    "collapsed": true
   },
   "outputs": [],
   "source": [
    "model.add(Dense(1,activation='sigmoid'))"
   ]
  },
  {
   "cell_type": "code",
   "execution_count": 25,
   "metadata": {
    "collapsed": false
   },
   "outputs": [
    {
     "name": "stdout",
     "output_type": "stream",
     "text": [
      "_________________________________________________________________\n",
      "Layer (type)                 Output Shape              Param #   \n",
      "=================================================================\n",
      "conv1d_1 (Conv1D)            (None, 10, 60)            120       \n",
      "_________________________________________________________________\n",
      "max_pooling1d_1 (MaxPooling1 (None, 10, 60)            0         \n",
      "_________________________________________________________________\n",
      "conv1d_2 (Conv1D)            (None, 10, 50)            3050      \n",
      "_________________________________________________________________\n",
      "max_pooling1d_2 (MaxPooling1 (None, 10, 50)            0         \n",
      "_________________________________________________________________\n",
      "conv1d_3 (Conv1D)            (None, 10, 40)            2040      \n",
      "_________________________________________________________________\n",
      "max_pooling1d_3 (MaxPooling1 (None, 10, 40)            0         \n",
      "_________________________________________________________________\n",
      "conv1d_4 (Conv1D)            (None, 10, 30)            1230      \n",
      "_________________________________________________________________\n",
      "max_pooling1d_4 (MaxPooling1 (None, 10, 30)            0         \n",
      "_________________________________________________________________\n",
      "conv1d_5 (Conv1D)            (None, 10, 20)            620       \n",
      "_________________________________________________________________\n",
      "max_pooling1d_5 (MaxPooling1 (None, 10, 20)            0         \n",
      "_________________________________________________________________\n",
      "conv1d_6 (Conv1D)            (None, 10, 10)            210       \n",
      "_________________________________________________________________\n",
      "max_pooling1d_6 (MaxPooling1 (None, 10, 10)            0         \n",
      "_________________________________________________________________\n",
      "flatten_1 (Flatten)          (None, 100)               0         \n",
      "_________________________________________________________________\n",
      "dense_1 (Dense)              (None, 10)                1010      \n",
      "_________________________________________________________________\n",
      "dense_2 (Dense)              (None, 1)                 11        \n",
      "=================================================================\n",
      "Total params: 8,291\n",
      "Trainable params: 8,291\n",
      "Non-trainable params: 0\n",
      "_________________________________________________________________\n"
     ]
    }
   ],
   "source": [
    "model.summary()"
   ]
  },
  {
   "cell_type": "code",
   "execution_count": 26,
   "metadata": {
    "collapsed": false
   },
   "outputs": [],
   "source": [
    "model.compile(loss='binary_crossentropy', \n",
    "              optimizer='adam', metrics=['accuracy'])"
   ]
  },
  {
   "cell_type": "code",
   "execution_count": 27,
   "metadata": {
    "collapsed": false
   },
   "outputs": [
    {
     "name": "stdout",
     "output_type": "stream",
     "text": [
      "Train on 10194 samples, validate on 2549 samples\n",
      "Epoch 1/30\n",
      "10194/10194 [==============================] - 9s 888us/step - loss: 0.6757 - acc: 0.6402 - val_loss: 0.6281 - val_acc: 0.7485\n",
      "Epoch 2/30\n",
      "10194/10194 [==============================] - 4s 408us/step - loss: 0.5549 - acc: 0.7628 - val_loss: 0.4894 - val_acc: 0.7889\n",
      "Epoch 3/30\n",
      "10194/10194 [==============================] - 4s 432us/step - loss: 0.4732 - acc: 0.7820 - val_loss: 0.4478 - val_acc: 0.7960\n",
      "Epoch 4/30\n",
      "10194/10194 [==============================] - 5s 482us/step - loss: 0.4463 - acc: 0.7934 - val_loss: 0.4316 - val_acc: 0.8011\n",
      "Epoch 5/30\n",
      "10194/10194 [==============================] - 4s 396us/step - loss: 0.4313 - acc: 0.8015 - val_loss: 0.4193 - val_acc: 0.8062\n",
      "Epoch 6/30\n",
      "10194/10194 [==============================] - 4s 392us/step - loss: 0.4192 - acc: 0.8092 - val_loss: 0.4106 - val_acc: 0.8156\n",
      "Epoch 7/30\n",
      "10194/10194 [==============================] - 5s 464us/step - loss: 0.4104 - acc: 0.8170 - val_loss: 0.4014 - val_acc: 0.8270\n",
      "Epoch 8/30\n",
      "10194/10194 [==============================] - 4s 414us/step - loss: 0.4018 - acc: 0.8283 - val_loss: 0.3906 - val_acc: 0.8297\n",
      "Epoch 9/30\n",
      "10194/10194 [==============================] - 4s 423us/step - loss: 0.3921 - acc: 0.8334 - val_loss: 0.3846 - val_acc: 0.8403\n",
      "Epoch 10/30\n",
      "10194/10194 [==============================] - 7s 653us/step - loss: 0.3852 - acc: 0.8375 - val_loss: 0.3848 - val_acc: 0.8333\n",
      "Epoch 11/30\n",
      "10194/10194 [==============================] - 4s 345us/step - loss: 0.3799 - acc: 0.8396 - val_loss: 0.3703 - val_acc: 0.8466\n",
      "Epoch 12/30\n",
      "10194/10194 [==============================] - 3s 269us/step - loss: 0.3735 - acc: 0.8437 - val_loss: 0.3659 - val_acc: 0.8482\n",
      "Epoch 13/30\n",
      "10194/10194 [==============================] - 3s 301us/step - loss: 0.3682 - acc: 0.8454 - val_loss: 0.3601 - val_acc: 0.8513\n",
      "Epoch 14/30\n",
      "10194/10194 [==============================] - 2s 172us/step - loss: 0.3634 - acc: 0.8492 - val_loss: 0.3560 - val_acc: 0.8548\n",
      "Epoch 15/30\n",
      "10194/10194 [==============================] - 1s 128us/step - loss: 0.3607 - acc: 0.8525 - val_loss: 0.3544 - val_acc: 0.8572\n",
      "Epoch 16/30\n",
      "10194/10194 [==============================] - 1s 112us/step - loss: 0.3583 - acc: 0.8511 - val_loss: 0.3511 - val_acc: 0.8580\n",
      "Epoch 17/30\n",
      "10194/10194 [==============================] - 1s 119us/step - loss: 0.3545 - acc: 0.8549 - val_loss: 0.3487 - val_acc: 0.8596\n",
      "Epoch 18/30\n",
      "10194/10194 [==============================] - 1s 121us/step - loss: 0.3520 - acc: 0.8563 - val_loss: 0.3499 - val_acc: 0.8564\n",
      "Epoch 19/30\n",
      "10194/10194 [==============================] - 1s 115us/step - loss: 0.3500 - acc: 0.8544 - val_loss: 0.3469 - val_acc: 0.8592\n",
      "Epoch 20/30\n",
      "10194/10194 [==============================] - 1s 125us/step - loss: 0.3493 - acc: 0.8555 - val_loss: 0.3510 - val_acc: 0.8513\n",
      "Epoch 21/30\n",
      "10194/10194 [==============================] - 2s 157us/step - loss: 0.3468 - acc: 0.8578 - val_loss: 0.3435 - val_acc: 0.8584\n",
      "Epoch 22/30\n",
      "10194/10194 [==============================] - 2s 236us/step - loss: 0.3447 - acc: 0.8612 - val_loss: 0.3441 - val_acc: 0.8552\n",
      "Epoch 23/30\n",
      "10194/10194 [==============================] - 2s 194us/step - loss: 0.3453 - acc: 0.8586 - val_loss: 0.3447 - val_acc: 0.8541\n",
      "Epoch 24/30\n",
      "10194/10194 [==============================] - 1s 111us/step - loss: 0.3436 - acc: 0.8582 - val_loss: 0.3439 - val_acc: 0.8545\n",
      "Epoch 25/30\n",
      "10194/10194 [==============================] - 1s 137us/step - loss: 0.3407 - acc: 0.8606 - val_loss: 0.3400 - val_acc: 0.8588\n",
      "Epoch 26/30\n",
      "10194/10194 [==============================] - 2s 158us/step - loss: 0.3406 - acc: 0.8611 - val_loss: 0.3405 - val_acc: 0.8596\n",
      "Epoch 27/30\n",
      "10194/10194 [==============================] - 3s 281us/step - loss: 0.3418 - acc: 0.8588 - val_loss: 0.3480 - val_acc: 0.8497\n",
      "Epoch 28/30\n",
      "10194/10194 [==============================] - 4s 396us/step - loss: 0.3395 - acc: 0.8583 - val_loss: 0.3367 - val_acc: 0.8635\n",
      "Epoch 29/30\n",
      "10194/10194 [==============================] - 3s 269us/step - loss: 0.3375 - acc: 0.8616 - val_loss: 0.3384 - val_acc: 0.8635\n",
      "Epoch 30/30\n",
      "10194/10194 [==============================] - 3s 302us/step - loss: 0.3365 - acc: 0.8624 - val_loss: 0.3374 - val_acc: 0.8588\n"
     ]
    }
   ],
   "source": [
    "train_history =model.fit(x=train_Features, \n",
    "                         y=train_Label, \n",
    "                         validation_split=0.2, \n",
    "                         epochs=30, \n",
    "                         batch_size=400,verbose=1)"
   ]
  },
  {
   "cell_type": "code",
   "execution_count": 28,
   "metadata": {
    "collapsed": true
   },
   "outputs": [],
   "source": [
    "import matplotlib.pyplot as plt\n",
    "def show_train_history(train_history,train,validation):\n",
    "    plt.plot(train_history.history[train])\n",
    "    plt.plot(train_history.history[validation])\n",
    "    plt.title('Train History')\n",
    "    plt.ylabel(train)\n",
    "    plt.xlabel('Epoch')\n",
    "    plt.legend(['train', 'validation'], loc='upper left')\n",
    "    plt.show()"
   ]
  },
  {
   "cell_type": "code",
   "execution_count": 29,
   "metadata": {
    "collapsed": false
   },
   "outputs": [
    {
     "data": {
      "image/png": "[encoded data removed]",
      "text/plain": [
       "<matplotlib.figure.Figure at 0x7f35b926deb8>"
      ]
     },
     "metadata": {},
     "output_type": "display_data"
    }
   ],
   "source": [
    "show_train_history(train_history,'acc','val_acc')"
   ]
  },
  {
   "cell_type": "code",
   "execution_count": 30,
   "metadata": {
    "collapsed": false
   },
   "outputs": [
    {
     "data": {
      "image/png": "[encoded data removed]",
      "text/plain": [
       "<matplotlib.figure.Figure at 0x7f35bb441d30>"
      ]
     },
     "metadata": {},
     "output_type": "display_data"
    }
   ],
   "source": [
    "show_train_history(train_history,'loss','val_loss')"
   ]
  },
  {
   "cell_type": "code",
   "execution_count": 31,
   "metadata": {
    "collapsed": false
   },
   "outputs": [
    {
     "name": "stdout",
     "output_type": "stream",
     "text": [
      "6277/6277 [==============================] - 1s 206us/step\n"
     ]
    }
   ],
   "source": [
    "scores = model.evaluate(x=test_Features, \n",
    "                        y=test_Label)"
   ]
  },
  {
   "cell_type": "code",
   "execution_count": 32,
   "metadata": {
    "collapsed": false
   },
   "outputs": [
    {
     "data": {
      "text/plain": [
       "0.8540704158037279"
      ]
     },
     "execution_count": 32,
     "metadata": {},
     "output_type": "execute_result"
    }
   ],
   "source": [
    "scores[1]"
   ]
  }
 ],
 "metadata": {
  "anaconda-cloud": {},
  "kernelspec": {
   "display_name": "Python [default]",
   "language": "python",
   "name": "python3"
  },
  "language_info": {
   "codemirror_mode": {
    "name": "ipython",
    "version": 3
   },
   "file_extension": ".py",
   "mimetype": "text/x-python",
   "name": "python",
   "nbconvert_exporter": "python",
   "pygments_lexer": "ipython3",
   "version": "3.5.2"
  }
 },
 "nbformat": 4,
 "nbformat_minor": 1
}
