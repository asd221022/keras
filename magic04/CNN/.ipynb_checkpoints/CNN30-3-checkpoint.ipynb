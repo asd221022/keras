{
 "cells": [
  {
   "cell_type": "code",
   "execution_count": 1,
   "metadata": {
    "collapsed": false
   },
   "outputs": [],
   "source": [
    "import numpy as np\n",
    "import pandas as pd\n",
    "from sklearn.preprocessing import StandardScaler\n",
    "from sklearn.model_selection import train_test_split"
   ]
  },
  {
   "cell_type": "code",
   "execution_count": 2,
   "metadata": {
    "collapsed": false
   },
   "outputs": [],
   "source": [
    "Ynames = ['fLength', 'fWidth', 'fSize', 'fConc', 'fConc1', 'fAsym', \n",
    "             'fM3Long', 'fM3Trans', 'fAlpha', 'fDist', 'identity']\n",
    "featureNames = ['fLength', 'fWidth', 'fSize', 'fConc', 'fConc1', 'fAsym', \n",
    "             'fM3Long', 'fM3Trans', 'fAlpha', 'fDist']\n",
    "filepath = 'magic04.data'\n",
    "data = pd.read_csv(filepath, names=Ynames, header=None)\n",
    "data['identity']= data['identity'].map({'g':1, 'h': 0}).astype(int) \n",
    "X = data[featureNames].values\n",
    "Y = data['identity'].values.astype('int64')"
   ]
  },
  {
   "cell_type": "code",
   "execution_count": 3,
   "metadata": {
    "collapsed": false
   },
   "outputs": [
    {
     "data": {
      "text/plain": [
       "array([[-0.75017817, -0.52001459, -0.84157544,  0.76185215,  0.81480935,\n",
       "        -0.19420574, -0.50062268,  0.24218084, -0.88329942, -0.56373781],\n",
       "       [-0.65986509, -0.69146739, -0.81449044,  0.73887727,  0.60305977,\n",
       "         0.1690183 ,  0.14279274,  0.33639077, -0.36215494, -0.16621244]])"
      ]
     },
     "execution_count": 3,
     "metadata": {},
     "output_type": "execute_result"
    }
   ],
   "source": [
    "X = StandardScaler().fit_transform(X)\n",
    "train_Features, test_Features, train_Label, test_Label = train_test_split(X, Y, test_size=0.33, random_state=None) \n",
    "train_Features[:2]"
   ]
  },
  {
   "cell_type": "code",
   "execution_count": 4,
   "metadata": {
    "collapsed": false
   },
   "outputs": [
    {
     "data": {
      "text/plain": [
       "array([[-0.07976524,  0.0081564 ,  0.86753066, -1.09637815, -1.09727125,\n",
       "        -0.01800125, -0.60519774,  0.73352157, -0.74013544,  0.36017714],\n",
       "       [-0.30459666, -0.12748395,  0.25896447, -0.8890572 , -0.94705574,\n",
       "         0.89510156,  0.17761711, -0.81685383, -0.50314292, -1.21786756]])"
      ]
     },
     "execution_count": 4,
     "metadata": {},
     "output_type": "execute_result"
    }
   ],
   "source": [
    "test_Features[:2]"
   ]
  },
  {
   "cell_type": "code",
   "execution_count": 5,
   "metadata": {
    "collapsed": false
   },
   "outputs": [
    {
     "data": {
      "text/plain": [
       "array([0, 1, 0, 1])"
      ]
     },
     "execution_count": 5,
     "metadata": {},
     "output_type": "execute_result"
    }
   ],
   "source": [
    "train_Label[:4]"
   ]
  },
  {
   "cell_type": "code",
   "execution_count": 6,
   "metadata": {
    "collapsed": false
   },
   "outputs": [],
   "source": [
    "train_Features = train_Features.reshape((train_Features.shape[0], train_Features.shape[1], 1))\n",
    "test_Features = test_Features.reshape((test_Features.shape[0], test_Features.shape[1], 1))"
   ]
  },
  {
   "cell_type": "code",
   "execution_count": 7,
   "metadata": {
    "collapsed": false
   },
   "outputs": [
    {
     "data": {
      "text/plain": [
       "(12743, 10, 1)"
      ]
     },
     "execution_count": 7,
     "metadata": {},
     "output_type": "execute_result"
    }
   ],
   "source": [
    "train_Features.shape"
   ]
  },
  {
   "cell_type": "code",
   "execution_count": 8,
   "metadata": {
    "collapsed": false
   },
   "outputs": [
    {
     "name": "stderr",
     "output_type": "stream",
     "text": [
      "Using TensorFlow backend.\n"
     ]
    }
   ],
   "source": [
    "from keras.models import Sequential\n",
    "from keras.layers import Dense,Dropout,Flatten,Conv1D,MaxPooling1D\n",
    "from keras.layers.embeddings import Embedding\n",
    "from keras.callbacks import EarlyStopping\n",
    "early_stopping = EarlyStopping(monitor='val_loss', patience=2)"
   ]
  },
  {
   "cell_type": "code",
   "execution_count": 9,
   "metadata": {
    "collapsed": true
   },
   "outputs": [],
   "source": [
    "model = Sequential()"
   ]
  },
  {
   "cell_type": "code",
   "execution_count": 10,
   "metadata": {
    "collapsed": true
   },
   "outputs": [],
   "source": [
    "model.add(Conv1D(filters=30*3,\n",
    "                 kernel_size=1,\n",
    "                 padding='valid',\n",
    "                 input_shape=(10,1), \n",
    "                 activation='relu'))"
   ]
  },
  {
   "cell_type": "code",
   "execution_count": 11,
   "metadata": {
    "collapsed": true
   },
   "outputs": [],
   "source": [
    "model.add(MaxPooling1D(pool_size=1))"
   ]
  },
  {
   "cell_type": "code",
   "execution_count": 12,
   "metadata": {
    "collapsed": true
   },
   "outputs": [],
   "source": [
    "model.add(Conv1D(filters=30*2,\n",
    "                 kernel_size=1,\n",
    "                 padding='valid', \n",
    "                 activation='relu'))"
   ]
  },
  {
   "cell_type": "code",
   "execution_count": 13,
   "metadata": {
    "collapsed": true
   },
   "outputs": [],
   "source": [
    "model.add(MaxPooling1D(pool_size=1))"
   ]
  },
  {
   "cell_type": "code",
   "execution_count": 14,
   "metadata": {
    "collapsed": true
   },
   "outputs": [],
   "source": [
    "model.add(Conv1D(filters=30,\n",
    "                 kernel_size=1,\n",
    "                 padding='valid',\n",
    "                 activation='relu'))"
   ]
  },
  {
   "cell_type": "code",
   "execution_count": 15,
   "metadata": {
    "collapsed": false
   },
   "outputs": [],
   "source": [
    "model.add(MaxPooling1D(pool_size=1))"
   ]
  },
  {
   "cell_type": "code",
   "execution_count": 16,
   "metadata": {
    "collapsed": true
   },
   "outputs": [],
   "source": [
    "model.add(Flatten())"
   ]
  },
  {
   "cell_type": "code",
   "execution_count": 17,
   "metadata": {
    "collapsed": true
   },
   "outputs": [],
   "source": [
    "model.add(Dense(10, activation='tanh'))"
   ]
  },
  {
   "cell_type": "code",
   "execution_count": 18,
   "metadata": {
    "collapsed": true
   },
   "outputs": [],
   "source": [
    "model.add(Dense(1,activation='sigmoid'))"
   ]
  },
  {
   "cell_type": "code",
   "execution_count": 19,
   "metadata": {
    "collapsed": false
   },
   "outputs": [
    {
     "name": "stdout",
     "output_type": "stream",
     "text": [
      "_________________________________________________________________\n",
      "Layer (type)                 Output Shape              Param #   \n",
      "=================================================================\n",
      "conv1d_1 (Conv1D)            (None, 10, 90)            180       \n",
      "_________________________________________________________________\n",
      "max_pooling1d_1 (MaxPooling1 (None, 10, 90)            0         \n",
      "_________________________________________________________________\n",
      "conv1d_2 (Conv1D)            (None, 10, 60)            5460      \n",
      "_________________________________________________________________\n",
      "max_pooling1d_2 (MaxPooling1 (None, 10, 60)            0         \n",
      "_________________________________________________________________\n",
      "conv1d_3 (Conv1D)            (None, 10, 30)            1830      \n",
      "_________________________________________________________________\n",
      "max_pooling1d_3 (MaxPooling1 (None, 10, 30)            0         \n",
      "_________________________________________________________________\n",
      "flatten_1 (Flatten)          (None, 300)               0         \n",
      "_________________________________________________________________\n",
      "dense_1 (Dense)              (None, 10)                3010      \n",
      "_________________________________________________________________\n",
      "dense_2 (Dense)              (None, 1)                 11        \n",
      "=================================================================\n",
      "Total params: 10,491\n",
      "Trainable params: 10,491\n",
      "Non-trainable params: 0\n",
      "_________________________________________________________________\n"
     ]
    }
   ],
   "source": [
    "model.summary()"
   ]
  },
  {
   "cell_type": "code",
   "execution_count": 20,
   "metadata": {
    "collapsed": false
   },
   "outputs": [],
   "source": [
    "model.compile(loss='binary_crossentropy', \n",
    "              optimizer='adam', metrics=['accuracy'])"
   ]
  },
  {
   "cell_type": "code",
   "execution_count": 21,
   "metadata": {
    "collapsed": false
   },
   "outputs": [
    {
     "name": "stdout",
     "output_type": "stream",
     "text": [
      "Train on 10194 samples, validate on 2549 samples\n",
      "Epoch 1/30\n",
      "10194/10194 [==============================] - 4s 390us/step - loss: 0.5935 - acc: 0.6991 - val_loss: 0.5031 - val_acc: 0.7725\n",
      "Epoch 2/30\n",
      "10194/10194 [==============================] - 2s 207us/step - loss: 0.4455 - acc: 0.8001 - val_loss: 0.4161 - val_acc: 0.8293\n",
      "Epoch 3/30\n",
      "10194/10194 [==============================] - 2s 233us/step - loss: 0.3937 - acc: 0.8333 - val_loss: 0.3802 - val_acc: 0.8407\n",
      "Epoch 4/30\n",
      "10194/10194 [==============================] - 2s 217us/step - loss: 0.3678 - acc: 0.8476 - val_loss: 0.3649 - val_acc: 0.8443\n",
      "Epoch 5/30\n",
      "10194/10194 [==============================] - 2s 220us/step - loss: 0.3543 - acc: 0.8525 - val_loss: 0.3593 - val_acc: 0.8458\n",
      "Epoch 6/30\n",
      "10194/10194 [==============================] - 2s 213us/step - loss: 0.3481 - acc: 0.8523 - val_loss: 0.3551 - val_acc: 0.8474\n",
      "Epoch 7/30\n",
      "10194/10194 [==============================] - 2s 229us/step - loss: 0.3426 - acc: 0.8566 - val_loss: 0.3546 - val_acc: 0.8462\n",
      "Epoch 8/30\n",
      "10194/10194 [==============================] - 2s 220us/step - loss: 0.3395 - acc: 0.8566 - val_loss: 0.3561 - val_acc: 0.8548\n",
      "Epoch 9/30\n",
      "10194/10194 [==============================] - 2s 218us/step - loss: 0.3399 - acc: 0.8593 - val_loss: 0.3516 - val_acc: 0.8466\n",
      "Epoch 10/30\n",
      "10194/10194 [==============================] - 2s 224us/step - loss: 0.3344 - acc: 0.8604 - val_loss: 0.3476 - val_acc: 0.8529\n",
      "Epoch 11/30\n",
      "10194/10194 [==============================] - 2s 228us/step - loss: 0.3321 - acc: 0.8608 - val_loss: 0.3468 - val_acc: 0.8509\n",
      "Epoch 12/30\n",
      "10194/10194 [==============================] - 2s 217us/step - loss: 0.3293 - acc: 0.8604 - val_loss: 0.3426 - val_acc: 0.8517\n",
      "Epoch 13/30\n",
      "10194/10194 [==============================] - 2s 236us/step - loss: 0.3273 - acc: 0.8630 - val_loss: 0.3410 - val_acc: 0.8552\n",
      "Epoch 14/30\n",
      "10194/10194 [==============================] - 2s 211us/step - loss: 0.3252 - acc: 0.8612 - val_loss: 0.3383 - val_acc: 0.8545\n",
      "Epoch 15/30\n",
      "10194/10194 [==============================] - 4s 402us/step - loss: 0.3234 - acc: 0.8631 - val_loss: 0.3384 - val_acc: 0.8560\n",
      "Epoch 16/30\n",
      "10194/10194 [==============================] - 4s 397us/step - loss: 0.3220 - acc: 0.8641 - val_loss: 0.3354 - val_acc: 0.8576\n",
      "Epoch 17/30\n",
      "10194/10194 [==============================] - 3s 291us/step - loss: 0.3198 - acc: 0.8653 - val_loss: 0.3352 - val_acc: 0.8548\n",
      "Epoch 18/30\n",
      "10194/10194 [==============================] - 3s 271us/step - loss: 0.3182 - acc: 0.8654 - val_loss: 0.3310 - val_acc: 0.8599\n",
      "Epoch 19/30\n",
      "10194/10194 [==============================] - 3s 265us/step - loss: 0.3174 - acc: 0.8681 - val_loss: 0.3316 - val_acc: 0.8584\n",
      "Epoch 20/30\n",
      "10194/10194 [==============================] - 3s 263us/step - loss: 0.3158 - acc: 0.8662 - val_loss: 0.3312 - val_acc: 0.8611\n",
      "Epoch 21/30\n",
      "10194/10194 [==============================] - 3s 273us/step - loss: 0.3152 - acc: 0.8669 - val_loss: 0.3338 - val_acc: 0.8611\n",
      "Epoch 22/30\n",
      "10194/10194 [==============================] - 3s 269us/step - loss: 0.3138 - acc: 0.8672 - val_loss: 0.3296 - val_acc: 0.8623\n",
      "Epoch 23/30\n",
      "10194/10194 [==============================] - 3s 282us/step - loss: 0.3134 - acc: 0.8680 - val_loss: 0.3298 - val_acc: 0.8627\n",
      "Epoch 24/30\n",
      "10194/10194 [==============================] - 3s 259us/step - loss: 0.3125 - acc: 0.8684 - val_loss: 0.3285 - val_acc: 0.8639\n",
      "Epoch 25/30\n",
      "10194/10194 [==============================] - 3s 281us/step - loss: 0.3109 - acc: 0.8695 - val_loss: 0.3277 - val_acc: 0.8627\n",
      "Epoch 26/30\n",
      "10194/10194 [==============================] - 3s 263us/step - loss: 0.3102 - acc: 0.8699 - val_loss: 0.3344 - val_acc: 0.8647\n",
      "Epoch 27/30\n",
      "10194/10194 [==============================] - 3s 275us/step - loss: 0.3089 - acc: 0.8698 - val_loss: 0.3279 - val_acc: 0.8639\n",
      "Epoch 28/30\n",
      "10194/10194 [==============================] - 3s 265us/step - loss: 0.3086 - acc: 0.8702 - val_loss: 0.3265 - val_acc: 0.8603\n",
      "Epoch 29/30\n",
      "10194/10194 [==============================] - 3s 280us/step - loss: 0.3086 - acc: 0.8704 - val_loss: 0.3267 - val_acc: 0.8682\n",
      "Epoch 30/30\n",
      "10194/10194 [==============================] - 3s 269us/step - loss: 0.3066 - acc: 0.8720 - val_loss: 0.3244 - val_acc: 0.8650\n"
     ]
    }
   ],
   "source": [
    "train_history =model.fit(x=train_Features, \n",
    "                         y=train_Label, \n",
    "                         validation_split=0.2, \n",
    "                         epochs=30, \n",
    "                         batch_size=400,verbose=1)"
   ]
  },
  {
   "cell_type": "code",
   "execution_count": 22,
   "metadata": {
    "collapsed": true
   },
   "outputs": [],
   "source": [
    "import matplotlib.pyplot as plt\n",
    "def show_train_history(train_history,train,validation):\n",
    "    plt.plot(train_history.history[train])\n",
    "    plt.plot(train_history.history[validation])\n",
    "    plt.title('Train History')\n",
    "    plt.ylabel(train)\n",
    "    plt.xlabel('Epoch')\n",
    "    plt.legend(['train', 'validation'], loc='upper left')\n",
    "    plt.show()"
   ]
  },
  {
   "cell_type": "code",
   "execution_count": 23,
   "metadata": {
    "collapsed": false
   },
   "outputs": [
    {
     "data": {
      "image/png": "[encoded data removed]",
      "text/plain": [
       "<matplotlib.figure.Figure at 0x7fcc6c0aca20>"
      ]
     },
     "metadata": {},
     "output_type": "display_data"
    }
   ],
   "source": [
    "show_train_history(train_history,'acc','val_acc')"
   ]
  },
  {
   "cell_type": "code",
   "execution_count": 24,
   "metadata": {
    "collapsed": false
   },
   "outputs": [
    {
     "data": {
      "image/png": "[encoded data removed]",
      "text/plain": [
       "<matplotlib.figure.Figure at 0x7fcc7b0b74a8>"
      ]
     },
     "metadata": {},
     "output_type": "display_data"
    }
   ],
   "source": [
    "show_train_history(train_history,'loss','val_loss')"
   ]
  },
  {
   "cell_type": "code",
   "execution_count": 25,
   "metadata": {
    "collapsed": false
   },
   "outputs": [
    {
     "name": "stdout",
     "output_type": "stream",
     "text": [
      "6277/6277 [==============================] - 1s 138us/step\n"
     ]
    }
   ],
   "source": [
    "scores = model.evaluate(x=test_Features, \n",
    "                        y=test_Label)"
   ]
  },
  {
   "cell_type": "code",
   "execution_count": 26,
   "metadata": {
    "collapsed": false
   },
   "outputs": [
    {
     "data": {
      "text/plain": [
       "0.8714353990854874"
      ]
     },
     "execution_count": 26,
     "metadata": {},
     "output_type": "execute_result"
    }
   ],
   "source": [
    "scores[1]"
   ]
  }
 ],
 "metadata": {
  "anaconda-cloud": {},
  "kernelspec": {
   "display_name": "Python [default]",
   "language": "python",
   "name": "python3"
  },
  "language_info": {
   "codemirror_mode": {
    "name": "ipython",
    "version": 3
   },
   "file_extension": ".py",
   "mimetype": "text/x-python",
   "name": "python",
   "nbconvert_exporter": "python",
   "pygments_lexer": "ipython3",
   "version": "3.5.2"
  }
 },
 "nbformat": 4,
 "nbformat_minor": 1
}
