{
 "cells": [
  {
   "cell_type": "code",
   "execution_count": 1,
   "metadata": {
    "collapsed": false
   },
   "outputs": [],
   "source": [
    "import numpy as np\n",
    "import pandas as pd\n",
    "from sklearn.preprocessing import StandardScaler\n",
    "from sklearn.model_selection import train_test_split"
   ]
  },
  {
   "cell_type": "code",
   "execution_count": 2,
   "metadata": {
    "collapsed": false
   },
   "outputs": [],
   "source": [
    "Ynames = ['fLength', 'fWidth', 'fSize', 'fConc', 'fConc1', 'fAsym', \n",
    "             'fM3Long', 'fM3Trans', 'fAlpha', 'fDist', 'identity']\n",
    "featureNames = ['fLength', 'fWidth', 'fSize', 'fConc', 'fConc1', 'fAsym', \n",
    "             'fM3Long', 'fM3Trans', 'fAlpha', 'fDist']\n",
    "filepath = 'magic04.data'\n",
    "data = pd.read_csv(filepath, names=Ynames, header=None)\n",
    "data['identity']= data['identity'].map({'g':1, 'h': 0}).astype(int) \n",
    "X = data[featureNames].values\n",
    "Y = data['identity'].values.astype('int64')"
   ]
  },
  {
   "cell_type": "code",
   "execution_count": 3,
   "metadata": {
    "collapsed": false
   },
   "outputs": [
    {
     "data": {
      "text/plain": [
       "array([[ 0.31744   ,  0.1272805 , -0.08615774, -0.58819565, -0.58147099,\n",
       "         0.82705099,  0.67284074,  0.67695047, -0.7423191 ,  0.99260203],\n",
       "       [-0.32927106, -0.26768125, -0.23152804, -0.04828593, -0.0701953 ,\n",
       "         0.78106125, -0.5459022 ,  0.52230426, -0.88391621, -0.97704001]])"
      ]
     },
     "execution_count": 3,
     "metadata": {},
     "output_type": "execute_result"
    }
   ],
   "source": [
    "X = StandardScaler().fit_transform(X)\n",
    "train_Features, test_Features, train_Label, test_Label = train_test_split(X, Y, test_size=0.33, random_state=None) \n",
    "train_Features[:2]"
   ]
  },
  {
   "cell_type": "code",
   "execution_count": 4,
   "metadata": {
    "collapsed": false
   },
   "outputs": [
    {
     "data": {
      "text/plain": [
       "array([[-0.6750408 , -0.5543226 , -0.48100632,  0.33681684,  0.0573974 ,\n",
       "         0.29074553, -0.48288697,  0.35273022, -0.84546842, -0.96676299],\n",
       "       [ 0.76066337,  0.13515706,  1.44456821, -0.76324237, -0.7099686 ,\n",
       "        -0.69081153,  0.6913706 ,  0.6925457 , -0.96022181,  1.36650898]])"
      ]
     },
     "execution_count": 4,
     "metadata": {},
     "output_type": "execute_result"
    }
   ],
   "source": [
    "test_Features[:2]"
   ]
  },
  {
   "cell_type": "code",
   "execution_count": 5,
   "metadata": {
    "collapsed": false
   },
   "outputs": [
    {
     "data": {
      "text/plain": [
       "array([1, 1, 1, 0])"
      ]
     },
     "execution_count": 5,
     "metadata": {},
     "output_type": "execute_result"
    }
   ],
   "source": [
    "train_Label[:4]"
   ]
  },
  {
   "cell_type": "code",
   "execution_count": 6,
   "metadata": {
    "collapsed": false
   },
   "outputs": [],
   "source": [
    "train_Features = train_Features.reshape((train_Features.shape[0], train_Features.shape[1], 1))\n",
    "test_Features = test_Features.reshape((test_Features.shape[0], test_Features.shape[1], 1))"
   ]
  },
  {
   "cell_type": "code",
   "execution_count": 7,
   "metadata": {
    "collapsed": false
   },
   "outputs": [
    {
     "data": {
      "text/plain": [
       "(12743, 10, 1)"
      ]
     },
     "execution_count": 7,
     "metadata": {},
     "output_type": "execute_result"
    }
   ],
   "source": [
    "train_Features.shape"
   ]
  },
  {
   "cell_type": "code",
   "execution_count": 8,
   "metadata": {
    "collapsed": false
   },
   "outputs": [
    {
     "name": "stderr",
     "output_type": "stream",
     "text": [
      "Using TensorFlow backend.\n"
     ]
    }
   ],
   "source": [
    "from keras.models import Sequential\n",
    "from keras.layers import Dense,Dropout,Flatten,Conv1D,MaxPooling1D\n",
    "from keras.layers.embeddings import Embedding\n",
    "from keras.callbacks import EarlyStopping\n",
    "early_stopping = EarlyStopping(monitor='val_loss', patience=2)"
   ]
  },
  {
   "cell_type": "code",
   "execution_count": 9,
   "metadata": {
    "collapsed": true
   },
   "outputs": [],
   "source": [
    "model = Sequential()"
   ]
  },
  {
   "cell_type": "code",
   "execution_count": 10,
   "metadata": {
    "collapsed": true
   },
   "outputs": [],
   "source": [
    "model.add(Conv1D(filters=10*8,\n",
    "                 kernel_size=1,\n",
    "                 padding='valid',\n",
    "                 input_shape=(10,1), \n",
    "                 activation='relu'))"
   ]
  },
  {
   "cell_type": "code",
   "execution_count": 11,
   "metadata": {
    "collapsed": true
   },
   "outputs": [],
   "source": [
    "model.add(MaxPooling1D(pool_size=1))"
   ]
  },
  {
   "cell_type": "code",
   "execution_count": 12,
   "metadata": {
    "collapsed": true
   },
   "outputs": [],
   "source": [
    "model.add(Conv1D(filters=10*7,\n",
    "                 kernel_size=1,\n",
    "                 padding='valid',\n",
    "                 input_shape=(10,1), \n",
    "                 activation='relu'))"
   ]
  },
  {
   "cell_type": "code",
   "execution_count": 13,
   "metadata": {
    "collapsed": true
   },
   "outputs": [],
   "source": [
    "model.add(MaxPooling1D(pool_size=1))"
   ]
  },
  {
   "cell_type": "code",
   "execution_count": 14,
   "metadata": {
    "collapsed": true
   },
   "outputs": [],
   "source": [
    "model.add(Conv1D(filters=10*6,\n",
    "                 kernel_size=1,\n",
    "                 padding='valid',\n",
    "                 input_shape=(10,1), \n",
    "                 activation='relu'))"
   ]
  },
  {
   "cell_type": "code",
   "execution_count": 15,
   "metadata": {
    "collapsed": true
   },
   "outputs": [],
   "source": [
    "model.add(MaxPooling1D(pool_size=1))"
   ]
  },
  {
   "cell_type": "code",
   "execution_count": 16,
   "metadata": {
    "collapsed": true
   },
   "outputs": [],
   "source": [
    "model.add(Conv1D(filters=10*5,\n",
    "                 kernel_size=1,\n",
    "                 padding='valid',\n",
    "                 input_shape=(10,1), \n",
    "                 activation='relu'))"
   ]
  },
  {
   "cell_type": "code",
   "execution_count": 17,
   "metadata": {
    "collapsed": true
   },
   "outputs": [],
   "source": [
    "model.add(MaxPooling1D(pool_size=1))"
   ]
  },
  {
   "cell_type": "code",
   "execution_count": 18,
   "metadata": {
    "collapsed": true
   },
   "outputs": [],
   "source": [
    "model.add(Conv1D(filters=10*4,\n",
    "                 kernel_size=1,\n",
    "                 padding='valid',\n",
    "                 activation='relu'))"
   ]
  },
  {
   "cell_type": "code",
   "execution_count": 19,
   "metadata": {
    "collapsed": true
   },
   "outputs": [],
   "source": [
    "model.add(MaxPooling1D(pool_size=1))"
   ]
  },
  {
   "cell_type": "code",
   "execution_count": 20,
   "metadata": {
    "collapsed": true
   },
   "outputs": [],
   "source": [
    "model.add(Conv1D(filters=10*3,\n",
    "                 kernel_size=1,\n",
    "                 padding='valid',\n",
    "                 activation='relu'))"
   ]
  },
  {
   "cell_type": "code",
   "execution_count": 21,
   "metadata": {
    "collapsed": true
   },
   "outputs": [],
   "source": [
    "model.add(MaxPooling1D(pool_size=1))"
   ]
  },
  {
   "cell_type": "code",
   "execution_count": 22,
   "metadata": {
    "collapsed": true
   },
   "outputs": [],
   "source": [
    "model.add(Conv1D(filters=10*2,\n",
    "                 kernel_size=1,\n",
    "                 padding='valid',\n",
    "                 activation='relu'))"
   ]
  },
  {
   "cell_type": "code",
   "execution_count": 23,
   "metadata": {
    "collapsed": true
   },
   "outputs": [],
   "source": [
    "model.add(MaxPooling1D(pool_size=1))"
   ]
  },
  {
   "cell_type": "code",
   "execution_count": 24,
   "metadata": {
    "collapsed": false
   },
   "outputs": [],
   "source": [
    "model.add(Conv1D(filters=10,\n",
    "                 kernel_size=1,\n",
    "                 padding='valid',\n",
    "                 activation='relu'))"
   ]
  },
  {
   "cell_type": "code",
   "execution_count": 25,
   "metadata": {
    "collapsed": false
   },
   "outputs": [],
   "source": [
    "model.add(MaxPooling1D(pool_size=1))"
   ]
  },
  {
   "cell_type": "code",
   "execution_count": 26,
   "metadata": {
    "collapsed": true
   },
   "outputs": [],
   "source": [
    "model.add(Flatten())"
   ]
  },
  {
   "cell_type": "code",
   "execution_count": 27,
   "metadata": {
    "collapsed": true
   },
   "outputs": [],
   "source": [
    "model.add(Dense(10, activation='tanh'))"
   ]
  },
  {
   "cell_type": "code",
   "execution_count": 28,
   "metadata": {
    "collapsed": true
   },
   "outputs": [],
   "source": [
    "model.add(Dense(1,activation='sigmoid'))"
   ]
  },
  {
   "cell_type": "code",
   "execution_count": 29,
   "metadata": {
    "collapsed": false
   },
   "outputs": [
    {
     "name": "stdout",
     "output_type": "stream",
     "text": [
      "_________________________________________________________________\n",
      "Layer (type)                 Output Shape              Param #   \n",
      "=================================================================\n",
      "conv1d_1 (Conv1D)            (None, 10, 80)            160       \n",
      "_________________________________________________________________\n",
      "max_pooling1d_1 (MaxPooling1 (None, 10, 80)            0         \n",
      "_________________________________________________________________\n",
      "conv1d_2 (Conv1D)            (None, 10, 70)            5670      \n",
      "_________________________________________________________________\n",
      "max_pooling1d_2 (MaxPooling1 (None, 10, 70)            0         \n",
      "_________________________________________________________________\n",
      "conv1d_3 (Conv1D)            (None, 10, 60)            4260      \n",
      "_________________________________________________________________\n",
      "max_pooling1d_3 (MaxPooling1 (None, 10, 60)            0         \n",
      "_________________________________________________________________\n",
      "conv1d_4 (Conv1D)            (None, 10, 50)            3050      \n",
      "_________________________________________________________________\n",
      "max_pooling1d_4 (MaxPooling1 (None, 10, 50)            0         \n",
      "_________________________________________________________________\n",
      "conv1d_5 (Conv1D)            (None, 10, 40)            2040      \n",
      "_________________________________________________________________\n",
      "max_pooling1d_5 (MaxPooling1 (None, 10, 40)            0         \n",
      "_________________________________________________________________\n",
      "conv1d_6 (Conv1D)            (None, 10, 30)            1230      \n",
      "_________________________________________________________________\n",
      "max_pooling1d_6 (MaxPooling1 (None, 10, 30)            0         \n",
      "_________________________________________________________________\n",
      "conv1d_7 (Conv1D)            (None, 10, 20)            620       \n",
      "_________________________________________________________________\n",
      "max_pooling1d_7 (MaxPooling1 (None, 10, 20)            0         \n",
      "_________________________________________________________________\n",
      "conv1d_8 (Conv1D)            (None, 10, 10)            210       \n",
      "_________________________________________________________________\n",
      "max_pooling1d_8 (MaxPooling1 (None, 10, 10)            0         \n",
      "_________________________________________________________________\n",
      "flatten_1 (Flatten)          (None, 100)               0         \n",
      "_________________________________________________________________\n",
      "dense_1 (Dense)              (None, 10)                1010      \n",
      "_________________________________________________________________\n",
      "dense_2 (Dense)              (None, 1)                 11        \n",
      "=================================================================\n",
      "Total params: 18,261\n",
      "Trainable params: 18,261\n",
      "Non-trainable params: 0\n",
      "_________________________________________________________________\n"
     ]
    }
   ],
   "source": [
    "model.summary()"
   ]
  },
  {
   "cell_type": "code",
   "execution_count": 30,
   "metadata": {
    "collapsed": false
   },
   "outputs": [],
   "source": [
    "model.compile(loss='binary_crossentropy', \n",
    "              optimizer='adam', metrics=['accuracy'])"
   ]
  },
  {
   "cell_type": "code",
   "execution_count": 31,
   "metadata": {
    "collapsed": false
   },
   "outputs": [
    {
     "name": "stdout",
     "output_type": "stream",
     "text": [
      "Train on 10194 samples, validate on 2549 samples\n",
      "Epoch 1/30\n",
      "10194/10194 [==============================] - 5s 495us/step - loss: 0.6504 - acc: 0.6534 - val_loss: 0.5824 - val_acc: 0.7038\n",
      "Epoch 2/30\n",
      "10194/10194 [==============================] - 3s 246us/step - loss: 0.5295 - acc: 0.7393 - val_loss: 0.4498 - val_acc: 0.8031\n",
      "Epoch 3/30\n",
      "10194/10194 [==============================] - 2s 240us/step - loss: 0.4209 - acc: 0.8172 - val_loss: 0.3841 - val_acc: 0.8388\n",
      "Epoch 4/30\n",
      "10194/10194 [==============================] - 2s 224us/step - loss: 0.3774 - acc: 0.8425 - val_loss: 0.3573 - val_acc: 0.8584\n",
      "Epoch 5/30\n",
      "10194/10194 [==============================] - 2s 232us/step - loss: 0.3594 - acc: 0.8513 - val_loss: 0.3544 - val_acc: 0.8505\n",
      "Epoch 6/30\n",
      "10194/10194 [==============================] - 3s 248us/step - loss: 0.3519 - acc: 0.8549 - val_loss: 0.3453 - val_acc: 0.8584\n",
      "Epoch 7/30\n",
      "10194/10194 [==============================] - 2s 222us/step - loss: 0.3469 - acc: 0.8553 - val_loss: 0.3385 - val_acc: 0.8623\n",
      "Epoch 8/30\n",
      "10194/10194 [==============================] - 2s 225us/step - loss: 0.3432 - acc: 0.8559 - val_loss: 0.3370 - val_acc: 0.8580\n",
      "Epoch 9/30\n",
      "10194/10194 [==============================] - 2s 218us/step - loss: 0.3428 - acc: 0.8551 - val_loss: 0.3322 - val_acc: 0.8627\n",
      "Epoch 10/30\n",
      "10194/10194 [==============================] - 3s 246us/step - loss: 0.3377 - acc: 0.8575 - val_loss: 0.3296 - val_acc: 0.8658\n",
      "Epoch 11/30\n",
      "10194/10194 [==============================] - 2s 223us/step - loss: 0.3365 - acc: 0.8572 - val_loss: 0.3293 - val_acc: 0.8662\n",
      "Epoch 12/30\n",
      "10194/10194 [==============================] - 2s 213us/step - loss: 0.3331 - acc: 0.8614 - val_loss: 0.3282 - val_acc: 0.8674\n",
      "Epoch 13/30\n",
      "10194/10194 [==============================] - 2s 244us/step - loss: 0.3332 - acc: 0.8596 - val_loss: 0.3277 - val_acc: 0.8650\n",
      "Epoch 14/30\n",
      "10194/10194 [==============================] - 3s 337us/step - loss: 0.3308 - acc: 0.8625 - val_loss: 0.3289 - val_acc: 0.8670\n",
      "Epoch 15/30\n",
      "10194/10194 [==============================] - 4s 371us/step - loss: 0.3302 - acc: 0.8615 - val_loss: 0.3252 - val_acc: 0.8686\n",
      "Epoch 16/30\n",
      "10194/10194 [==============================] - 3s 315us/step - loss: 0.3290 - acc: 0.8629 - val_loss: 0.3279 - val_acc: 0.8658\n",
      "Epoch 17/30\n",
      "10194/10194 [==============================] - 4s 378us/step - loss: 0.3260 - acc: 0.8619 - val_loss: 0.3272 - val_acc: 0.8643\n",
      "Epoch 18/30\n",
      "10194/10194 [==============================] - 4s 357us/step - loss: 0.3256 - acc: 0.8634 - val_loss: 0.3320 - val_acc: 0.8623\n",
      "Epoch 19/30\n",
      "10194/10194 [==============================] - 4s 356us/step - loss: 0.3263 - acc: 0.8641 - val_loss: 0.3247 - val_acc: 0.8635\n",
      "Epoch 20/30\n",
      "10194/10194 [==============================] - 5s 497us/step - loss: 0.3272 - acc: 0.8619 - val_loss: 0.3222 - val_acc: 0.8694\n",
      "Epoch 21/30\n",
      "10194/10194 [==============================] - 5s 521us/step - loss: 0.3250 - acc: 0.8653 - val_loss: 0.3209 - val_acc: 0.8682\n",
      "Epoch 22/30\n",
      "10194/10194 [==============================] - 4s 433us/step - loss: 0.3229 - acc: 0.8647 - val_loss: 0.3212 - val_acc: 0.8678\n",
      "Epoch 23/30\n",
      "10194/10194 [==============================] - 4s 434us/step - loss: 0.3228 - acc: 0.8634 - val_loss: 0.3238 - val_acc: 0.8643\n",
      "Epoch 24/30\n",
      "10194/10194 [==============================] - 4s 429us/step - loss: 0.3209 - acc: 0.8650 - val_loss: 0.3220 - val_acc: 0.8674\n",
      "Epoch 25/30\n",
      "10194/10194 [==============================] - 4s 439us/step - loss: 0.3208 - acc: 0.8677 - val_loss: 0.3500 - val_acc: 0.8513\n",
      "Epoch 26/30\n",
      "10194/10194 [==============================] - 4s 401us/step - loss: 0.3245 - acc: 0.8640 - val_loss: 0.3223 - val_acc: 0.8674\n",
      "Epoch 27/30\n",
      "10194/10194 [==============================] - 4s 407us/step - loss: 0.3183 - acc: 0.8675 - val_loss: 0.3187 - val_acc: 0.8690\n",
      "Epoch 28/30\n",
      "10194/10194 [==============================] - 4s 412us/step - loss: 0.3184 - acc: 0.8665 - val_loss: 0.3191 - val_acc: 0.8698\n",
      "Epoch 29/30\n",
      "10194/10194 [==============================] - 4s 426us/step - loss: 0.3203 - acc: 0.8648 - val_loss: 0.3217 - val_acc: 0.8670\n",
      "Epoch 30/30\n",
      "10194/10194 [==============================] - 4s 439us/step - loss: 0.3184 - acc: 0.8665 - val_loss: 0.3210 - val_acc: 0.8682\n"
     ]
    }
   ],
   "source": [
    "train_history =model.fit(x=train_Features, \n",
    "                         y=train_Label, \n",
    "                         validation_split=0.2, \n",
    "                         epochs=30, \n",
    "                         batch_size=400,verbose=1)"
   ]
  },
  {
   "cell_type": "code",
   "execution_count": 32,
   "metadata": {
    "collapsed": true
   },
   "outputs": [],
   "source": [
    "import matplotlib.pyplot as plt\n",
    "def show_train_history(train_history,train,validation):\n",
    "    plt.plot(train_history.history[train])\n",
    "    plt.plot(train_history.history[validation])\n",
    "    plt.title('Train History')\n",
    "    plt.ylabel(train)\n",
    "    plt.xlabel('Epoch')\n",
    "    plt.legend(['train', 'validation'], loc='upper left')\n",
    "    plt.show()"
   ]
  },
  {
   "cell_type": "code",
   "execution_count": 33,
   "metadata": {
    "collapsed": false
   },
   "outputs": [
    {
     "data": {
      "image/png": "[encoded data removed]",
      "text/plain": [
       "<matplotlib.figure.Figure at 0x7fcb27210588>"
      ]
     },
     "metadata": {},
     "output_type": "display_data"
    }
   ],
   "source": [
    "show_train_history(train_history,'acc','val_acc')"
   ]
  },
  {
   "cell_type": "code",
   "execution_count": 34,
   "metadata": {
    "collapsed": false
   },
   "outputs": [
    {
     "data": {
      "image/png": "[encoded data removed]",
      "text/plain": [
       "<matplotlib.figure.Figure at 0x7fcb272bd470>"
      ]
     },
     "metadata": {},
     "output_type": "display_data"
    }
   ],
   "source": [
    "show_train_history(train_history,'loss','val_loss')"
   ]
  },
  {
   "cell_type": "code",
   "execution_count": 35,
   "metadata": {
    "collapsed": false
   },
   "outputs": [
    {
     "name": "stdout",
     "output_type": "stream",
     "text": [
      "6277/6277 [==============================] - 1s 166us/step\n"
     ]
    }
   ],
   "source": [
    "scores = model.evaluate(x=test_Features, \n",
    "                        y=test_Label)"
   ]
  },
  {
   "cell_type": "code",
   "execution_count": 36,
   "metadata": {
    "collapsed": false
   },
   "outputs": [
    {
     "data": {
      "text/plain": [
       "0.8628325633264298"
      ]
     },
     "execution_count": 36,
     "metadata": {},
     "output_type": "execute_result"
    }
   ],
   "source": [
    "scores[1]"
   ]
  }
 ],
 "metadata": {
  "anaconda-cloud": {},
  "kernelspec": {
   "display_name": "Python [default]",
   "language": "python",
   "name": "python3"
  },
  "language_info": {
   "codemirror_mode": {
    "name": "ipython",
    "version": 3
   },
   "file_extension": ".py",
   "mimetype": "text/x-python",
   "name": "python",
   "nbconvert_exporter": "python",
   "pygments_lexer": "ipython3",
   "version": "3.5.2"
  }
 },
 "nbformat": 4,
 "nbformat_minor": 1
}
