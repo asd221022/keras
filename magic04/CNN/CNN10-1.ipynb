{
 "cells": [
  {
   "cell_type": "code",
   "execution_count": 3,
   "metadata": {
    "collapsed": false
   },
   "outputs": [],
   "source": [
    "import numpy as np\n",
    "import pandas as pd\n",
    "from sklearn.preprocessing import StandardScaler\n",
    "from sklearn.model_selection import train_test_split"
   ]
  },
  {
   "cell_type": "code",
   "execution_count": 4,
   "metadata": {
    "collapsed": false
   },
   "outputs": [],
   "source": [
    "Ynames = ['fLength', 'fWidth', 'fSize', 'fConc', 'fConc1', 'fAsym', \n",
    "             'fM3Long', 'fM3Trans', 'fAlpha', 'fDist', 'identity']\n",
    "featureNames = ['fLength', 'fWidth', 'fSize', 'fConc', 'fConc1', 'fAsym', \n",
    "             'fM3Long', 'fM3Trans', 'fAlpha', 'fDist']\n",
    "filepath = 'magic04.data'\n",
    "data = pd.read_csv(filepath, names=Ynames, header=None)\n",
    "data['identity']= data['identity'].map({'g':1, 'h': 0}).astype(int) \n",
    "X = data[featureNames].values\n",
    "Y = data['identity'].values.astype('int64')"
   ]
  },
  {
   "cell_type": "code",
   "execution_count": 5,
   "metadata": {
    "collapsed": false
   },
   "outputs": [
    {
     "data": {
      "text/plain": [
       "array([[-0.07268607, -0.0826557 ,  0.34043108, -0.8710055 , -0.9090494 ,\n",
       "        -0.10999424, -1.19624917, -0.43553912,  0.75647792,  0.06083212],\n",
       "       [-0.53511926, -0.68861657, -0.73810226,  0.7421594 ,  1.07813896,\n",
       "         0.42064442,  0.43789393,  0.7093749 ,  0.78559342,  0.7596803 ]])"
      ]
     },
     "execution_count": 5,
     "metadata": {},
     "output_type": "execute_result"
    }
   ],
   "source": [
    "X = StandardScaler().fit_transform(X)\n",
    "train_Features, test_Features, train_Label, test_Label = train_test_split(X, Y, test_size=0.33, random_state=None) \n",
    "train_Features[:2]"
   ]
  },
  {
   "cell_type": "code",
   "execution_count": 6,
   "metadata": {
    "collapsed": false
   },
   "outputs": [
    {
     "data": {
      "text/plain": [
       "array([[-6.99200615e-01, -2.67087103e-01, -6.10294896e-01,\n",
       "        -2.67641351e-01, -1.14536022e-01,  1.49592418e-01,\n",
       "         1.21880475e-01, -2.60601827e-01,  3.02070761e-02,\n",
       "        -1.35341235e-01],\n",
       "       [-8.45790595e-01, -7.68199797e-01, -7.45296715e-01,\n",
       "         2.02656468e+00,  3.28250637e+00,  5.56603780e-02,\n",
       "         3.68548412e-03,  4.27494140e-01,  4.58519076e-01,\n",
       "         5.88433529e-04]])"
      ]
     },
     "execution_count": 6,
     "metadata": {},
     "output_type": "execute_result"
    }
   ],
   "source": [
    "test_Features[:2]"
   ]
  },
  {
   "cell_type": "code",
   "execution_count": 7,
   "metadata": {
    "collapsed": false
   },
   "outputs": [
    {
     "data": {
      "text/plain": [
       "array([1, 0, 1, 1])"
      ]
     },
     "execution_count": 7,
     "metadata": {},
     "output_type": "execute_result"
    }
   ],
   "source": [
    "train_Label[:4]"
   ]
  },
  {
   "cell_type": "code",
   "execution_count": 8,
   "metadata": {
    "collapsed": false
   },
   "outputs": [],
   "source": [
    "train_Features = train_Features.reshape((train_Features.shape[0], train_Features.shape[1], 1))\n",
    "test_Features = test_Features.reshape((test_Features.shape[0], test_Features.shape[1], 1))"
   ]
  },
  {
   "cell_type": "code",
   "execution_count": 9,
   "metadata": {
    "collapsed": false
   },
   "outputs": [
    {
     "data": {
      "text/plain": [
       "(12743, 10, 1)"
      ]
     },
     "execution_count": 9,
     "metadata": {},
     "output_type": "execute_result"
    }
   ],
   "source": [
    "train_Features.shape"
   ]
  },
  {
   "cell_type": "code",
   "execution_count": 10,
   "metadata": {
    "collapsed": false
   },
   "outputs": [
    {
     "name": "stderr",
     "output_type": "stream",
     "text": [
      "Using TensorFlow backend.\n"
     ]
    }
   ],
   "source": [
    "from keras.models import Sequential\n",
    "from keras.layers import Dense,Dropout,Flatten,Conv1D,MaxPooling1D\n",
    "from keras.layers.embeddings import Embedding\n",
    "from keras.callbacks import EarlyStopping\n",
    "early_stopping = EarlyStopping(monitor='val_loss', patience=2)"
   ]
  },
  {
   "cell_type": "code",
   "execution_count": 11,
   "metadata": {
    "collapsed": true
   },
   "outputs": [],
   "source": [
    "model = Sequential()"
   ]
  },
  {
   "cell_type": "code",
   "execution_count": 12,
   "metadata": {
    "collapsed": true
   },
   "outputs": [],
   "source": [
    "model.add(Conv1D(filters=10,\n",
    "                 kernel_size=3,\n",
    "                 padding='valid',\n",
    "                 input_shape=(10,1), \n",
    "                 activation='relu'))"
   ]
  },
  {
   "cell_type": "code",
   "execution_count": 13,
   "metadata": {
    "collapsed": false
   },
   "outputs": [],
   "source": [
    "model.add(MaxPooling1D(pool_size=1))"
   ]
  },
  {
   "cell_type": "code",
   "execution_count": 14,
   "metadata": {
    "collapsed": true
   },
   "outputs": [],
   "source": [
    "model.add(Flatten())"
   ]
  },
  {
   "cell_type": "code",
   "execution_count": 15,
   "metadata": {
    "collapsed": true
   },
   "outputs": [],
   "source": [
    "model.add(Dense(10, activation='tanh'))"
   ]
  },
  {
   "cell_type": "code",
   "execution_count": 16,
   "metadata": {
    "collapsed": true
   },
   "outputs": [],
   "source": [
    "model.add(Dense(1,activation='sigmoid'))"
   ]
  },
  {
   "cell_type": "code",
   "execution_count": 17,
   "metadata": {
    "collapsed": false
   },
   "outputs": [
    {
     "name": "stdout",
     "output_type": "stream",
     "text": [
      "_________________________________________________________________\n",
      "Layer (type)                 Output Shape              Param #   \n",
      "=================================================================\n",
      "conv1d_1 (Conv1D)            (None, 8, 10)             40        \n",
      "_________________________________________________________________\n",
      "max_pooling1d_1 (MaxPooling1 (None, 8, 10)             0         \n",
      "_________________________________________________________________\n",
      "flatten_1 (Flatten)          (None, 80)                0         \n",
      "_________________________________________________________________\n",
      "dense_1 (Dense)              (None, 10)                810       \n",
      "_________________________________________________________________\n",
      "dense_2 (Dense)              (None, 1)                 11        \n",
      "=================================================================\n",
      "Total params: 861\n",
      "Trainable params: 861\n",
      "Non-trainable params: 0\n",
      "_________________________________________________________________\n"
     ]
    }
   ],
   "source": [
    "model.summary()"
   ]
  },
  {
   "cell_type": "code",
   "execution_count": 18,
   "metadata": {
    "collapsed": false
   },
   "outputs": [],
   "source": [
    "model.compile(loss='binary_crossentropy', \n",
    "              optimizer='adam', metrics=['accuracy'])"
   ]
  },
  {
   "cell_type": "code",
   "execution_count": 19,
   "metadata": {
    "collapsed": false
   },
   "outputs": [
    {
     "name": "stdout",
     "output_type": "stream",
     "text": [
      "Train on 10194 samples, validate on 2549 samples\n",
      "Epoch 1/30\n",
      "10194/10194 [==============================] - 2s 173us/step - loss: 0.6801 - acc: 0.5688 - val_loss: 0.6255 - val_acc: 0.6775\n",
      "Epoch 2/30\n",
      "10194/10194 [==============================] - 0s 41us/step - loss: 0.5882 - acc: 0.7008 - val_loss: 0.5628 - val_acc: 0.7332\n",
      "Epoch 3/30\n",
      "10194/10194 [==============================] - 0s 43us/step - loss: 0.5333 - acc: 0.7516 - val_loss: 0.5217 - val_acc: 0.7595\n",
      "Epoch 4/30\n",
      "10194/10194 [==============================] - 0s 40us/step - loss: 0.4959 - acc: 0.7679 - val_loss: 0.4907 - val_acc: 0.7725\n",
      "Epoch 5/30\n",
      "10194/10194 [==============================] - 0s 41us/step - loss: 0.4678 - acc: 0.7880 - val_loss: 0.4664 - val_acc: 0.7858\n",
      "Epoch 6/30\n",
      "10194/10194 [==============================] - 0s 45us/step - loss: 0.4471 - acc: 0.7992 - val_loss: 0.4471 - val_acc: 0.7972\n",
      "Epoch 7/30\n",
      "10194/10194 [==============================] - 0s 32us/step - loss: 0.4312 - acc: 0.8096 - val_loss: 0.4333 - val_acc: 0.8023\n",
      "Epoch 8/30\n",
      "10194/10194 [==============================] - 1s 51us/step - loss: 0.4186 - acc: 0.8144 - val_loss: 0.4212 - val_acc: 0.8105\n",
      "Epoch 9/30\n",
      "10194/10194 [==============================] - 0s 46us/step - loss: 0.4079 - acc: 0.8200 - val_loss: 0.4112 - val_acc: 0.8215\n",
      "Epoch 10/30\n",
      "10194/10194 [==============================] - 0s 37us/step - loss: 0.3984 - acc: 0.8276 - val_loss: 0.4020 - val_acc: 0.8262\n",
      "Epoch 11/30\n",
      "10194/10194 [==============================] - 0s 34us/step - loss: 0.3901 - acc: 0.8324 - val_loss: 0.3948 - val_acc: 0.8341\n",
      "Epoch 12/30\n",
      "10194/10194 [==============================] - 0s 35us/step - loss: 0.3830 - acc: 0.8350 - val_loss: 0.3875 - val_acc: 0.8372\n",
      "Epoch 13/30\n",
      "10194/10194 [==============================] - 0s 36us/step - loss: 0.3762 - acc: 0.8389 - val_loss: 0.3809 - val_acc: 0.8388\n",
      "Epoch 14/30\n",
      "10194/10194 [==============================] - 0s 43us/step - loss: 0.3704 - acc: 0.8412 - val_loss: 0.3750 - val_acc: 0.8388\n",
      "Epoch 15/30\n",
      "10194/10194 [==============================] - 0s 39us/step - loss: 0.3652 - acc: 0.8449 - val_loss: 0.3700 - val_acc: 0.8443\n",
      "Epoch 16/30\n",
      "10194/10194 [==============================] - 0s 38us/step - loss: 0.3610 - acc: 0.8465 - val_loss: 0.3658 - val_acc: 0.8474\n",
      "Epoch 17/30\n",
      "10194/10194 [==============================] - 0s 36us/step - loss: 0.3569 - acc: 0.8511 - val_loss: 0.3612 - val_acc: 0.8490\n",
      "Epoch 18/30\n",
      "10194/10194 [==============================] - 0s 26us/step - loss: 0.3530 - acc: 0.8522 - val_loss: 0.3578 - val_acc: 0.8494\n",
      "Epoch 19/30\n",
      "10194/10194 [==============================] - 0s 37us/step - loss: 0.3501 - acc: 0.8536 - val_loss: 0.3543 - val_acc: 0.8525\n",
      "Epoch 20/30\n",
      "10194/10194 [==============================] - 0s 30us/step - loss: 0.3478 - acc: 0.8563 - val_loss: 0.3517 - val_acc: 0.8552\n",
      "Epoch 21/30\n",
      "10194/10194 [==============================] - 0s 42us/step - loss: 0.3453 - acc: 0.8570 - val_loss: 0.3494 - val_acc: 0.8576\n",
      "Epoch 22/30\n",
      "10194/10194 [==============================] - 0s 38us/step - loss: 0.3430 - acc: 0.8578 - val_loss: 0.3487 - val_acc: 0.8552\n",
      "Epoch 23/30\n",
      "10194/10194 [==============================] - 0s 41us/step - loss: 0.3415 - acc: 0.8592 - val_loss: 0.3459 - val_acc: 0.8576\n",
      "Epoch 24/30\n",
      "10194/10194 [==============================] - 0s 32us/step - loss: 0.3401 - acc: 0.8594 - val_loss: 0.3438 - val_acc: 0.8568\n",
      "Epoch 25/30\n",
      "10194/10194 [==============================] - 0s 40us/step - loss: 0.3385 - acc: 0.8594 - val_loss: 0.3427 - val_acc: 0.8572\n",
      "Epoch 26/30\n",
      "10194/10194 [==============================] - 0s 38us/step - loss: 0.3372 - acc: 0.8589 - val_loss: 0.3414 - val_acc: 0.8572\n",
      "Epoch 27/30\n",
      "10194/10194 [==============================] - 0s 42us/step - loss: 0.3362 - acc: 0.8620 - val_loss: 0.3395 - val_acc: 0.8611\n",
      "Epoch 28/30\n",
      "10194/10194 [==============================] - 0s 43us/step - loss: 0.3348 - acc: 0.8602 - val_loss: 0.3385 - val_acc: 0.8599\n",
      "Epoch 29/30\n",
      "10194/10194 [==============================] - 0s 49us/step - loss: 0.3342 - acc: 0.8603 - val_loss: 0.3374 - val_acc: 0.8599\n",
      "Epoch 30/30\n",
      "10194/10194 [==============================] - 0s 45us/step - loss: 0.3326 - acc: 0.8613 - val_loss: 0.3362 - val_acc: 0.8627\n"
     ]
    }
   ],
   "source": [
    "train_history =model.fit(x=train_Features, \n",
    "                         y=train_Label, \n",
    "                         validation_split=0.2, \n",
    "                         epochs=30, \n",
    "                         batch_size=400,verbose=1)"
   ]
  },
  {
   "cell_type": "code",
   "execution_count": 20,
   "metadata": {
    "collapsed": true
   },
   "outputs": [],
   "source": [
    "import matplotlib.pyplot as plt\n",
    "def show_train_history(train_history,train,validation):\n",
    "    plt.plot(train_history.history[train])\n",
    "    plt.plot(train_history.history[validation])\n",
    "    plt.title('Train History')\n",
    "    plt.ylabel(train)\n",
    "    plt.xlabel('Epoch')\n",
    "    plt.legend(['train', 'validation'], loc='upper left')\n",
    "    plt.show()"
   ]
  },
  {
   "cell_type": "code",
   "execution_count": 21,
   "metadata": {
    "collapsed": false
   },
   "outputs": [
    {
     "data": {
      "image/png": "[encoded data removed]",
      "text/plain": [
       "<matplotlib.figure.Figure at 0x7fc3cfa157b8>"
      ]
     },
     "metadata": {},
     "output_type": "display_data"
    }
   ],
   "source": [
    "show_train_history(train_history,'acc','val_acc')"
   ]
  },
  {
   "cell_type": "code",
   "execution_count": 22,
   "metadata": {
    "collapsed": false
   },
   "outputs": [
    {
     "data": {
      "image/png": "[encoded data removed]",
      "text/plain": [
       "<matplotlib.figure.Figure at 0x7fc3cfa15588>"
      ]
     },
     "metadata": {},
     "output_type": "display_data"
    }
   ],
   "source": [
    "show_train_history(train_history,'loss','val_loss')"
   ]
  },
  {
   "cell_type": "code",
   "execution_count": 23,
   "metadata": {
    "collapsed": false
   },
   "outputs": [
    {
     "name": "stdout",
     "output_type": "stream",
     "text": [
      "6277/6277 [==============================] - 1s 85us/step\n"
     ]
    }
   ],
   "source": [
    "scores = model.evaluate(x=test_Features, \n",
    "                        y=test_Label)"
   ]
  },
  {
   "cell_type": "code",
   "execution_count": 24,
   "metadata": {
    "collapsed": false
   },
   "outputs": [
    {
     "data": {
      "text/plain": [
       "0.8591683925537047"
      ]
     },
     "execution_count": 24,
     "metadata": {},
     "output_type": "execute_result"
    }
   ],
   "source": [
    "scores[1]"
   ]
  }
 ],
 "metadata": {
  "anaconda-cloud": {},
  "kernelspec": {
   "display_name": "Python [default]",
   "language": "python",
   "name": "python3"
  },
  "language_info": {
   "codemirror_mode": {
    "name": "ipython",
    "version": 3
   },
   "file_extension": ".py",
   "mimetype": "text/x-python",
   "name": "python",
   "nbconvert_exporter": "python",
   "pygments_lexer": "ipython3",
   "version": "3.5.2"
  }
 },
 "nbformat": 4,
 "nbformat_minor": 1
}
