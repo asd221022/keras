{
 "cells": [
  {
   "cell_type": "code",
   "execution_count": 1,
   "metadata": {
    "collapsed": false
   },
   "outputs": [],
   "source": [
    "import numpy as np\n",
    "import pandas as pd\n",
    "from sklearn.preprocessing import StandardScaler\n",
    "from sklearn.model_selection import train_test_split"
   ]
  },
  {
   "cell_type": "code",
   "execution_count": 2,
   "metadata": {
    "collapsed": false
   },
   "outputs": [],
   "source": [
    "Ynames = ['fLength', 'fWidth', 'fSize', 'fConc', 'fConc1', 'fAsym', \n",
    "             'fM3Long', 'fM3Trans', 'fAlpha', 'fDist', 'identity']\n",
    "featureNames = ['fLength', 'fWidth', 'fSize', 'fConc', 'fConc1', 'fAsym', \n",
    "             'fM3Long', 'fM3Trans', 'fAlpha', 'fDist']\n",
    "filepath = 'magic04.data'\n",
    "data = pd.read_csv(filepath, names=Ynames, header=None)\n",
    "data['identity']= data['identity'].map({'g':1, 'h': 0}).astype(int) \n",
    "X = data[featureNames].values\n",
    "Y = data['identity'].values.astype('int64')"
   ]
  },
  {
   "cell_type": "code",
   "execution_count": 3,
   "metadata": {
    "collapsed": false
   },
   "outputs": [
    {
     "data": {
      "text/plain": [
       "array([[-0.55352651, -0.76766016, -1.32529669,  0.82749467,  0.60577451,\n",
       "        -0.52909579, -0.56543993, -0.29466356, -0.52481865, -0.80535487],\n",
       "       [ 0.04269798, -0.22715377,  0.51415599, -0.56959694, -0.62309698,\n",
       "         0.91851194,  0.4470569 , -0.40569309, -1.00156198, -0.0976722 ]])"
      ]
     },
     "execution_count": 3,
     "metadata": {},
     "output_type": "execute_result"
    }
   ],
   "source": [
    "X = StandardScaler().fit_transform(X)\n",
    "train_Features, test_Features, train_Label, test_Label = train_test_split(X, Y, test_size=0.33, random_state=None) \n",
    "train_Features[:2]"
   ]
  },
  {
   "cell_type": "code",
   "execution_count": 4,
   "metadata": {
    "collapsed": false
   },
   "outputs": [
    {
     "data": {
      "text/plain": [
       "array([[ 0.31051663,  0.40971919,  1.06939858, -1.27798912, -1.25563098,\n",
       "         0.30878301,  0.21851416,  1.15250872, -1.00301776,  0.78041097],\n",
       "       [-0.95109527, -0.60782324, -1.56673412,  1.97131556,  2.19118162,\n",
       "         0.3110531 , -0.34287969,  0.35928425,  1.01487798, -0.7287188 ]])"
      ]
     },
     "execution_count": 4,
     "metadata": {},
     "output_type": "execute_result"
    }
   ],
   "source": [
    "test_Features[:2]"
   ]
  },
  {
   "cell_type": "code",
   "execution_count": 5,
   "metadata": {
    "collapsed": false
   },
   "outputs": [
    {
     "data": {
      "text/plain": [
       "array([1, 1, 1, 1])"
      ]
     },
     "execution_count": 5,
     "metadata": {},
     "output_type": "execute_result"
    }
   ],
   "source": [
    "train_Label[:4]"
   ]
  },
  {
   "cell_type": "code",
   "execution_count": 6,
   "metadata": {
    "collapsed": false
   },
   "outputs": [],
   "source": [
    "train_Features = train_Features.reshape((train_Features.shape[0], train_Features.shape[1], 1))\n",
    "test_Features = test_Features.reshape((test_Features.shape[0], test_Features.shape[1], 1))"
   ]
  },
  {
   "cell_type": "code",
   "execution_count": 7,
   "metadata": {
    "collapsed": false
   },
   "outputs": [
    {
     "data": {
      "text/plain": [
       "(12743, 10, 1)"
      ]
     },
     "execution_count": 7,
     "metadata": {},
     "output_type": "execute_result"
    }
   ],
   "source": [
    "train_Features.shape"
   ]
  },
  {
   "cell_type": "code",
   "execution_count": 8,
   "metadata": {
    "collapsed": false
   },
   "outputs": [
    {
     "name": "stderr",
     "output_type": "stream",
     "text": [
      "Using TensorFlow backend.\n"
     ]
    }
   ],
   "source": [
    "from keras.models import Sequential\n",
    "from keras.layers import Dense,Dropout,Flatten,Conv1D,MaxPooling1D\n",
    "from keras.layers.embeddings import Embedding\n",
    "from keras.callbacks import EarlyStopping\n",
    "early_stopping = EarlyStopping(monitor='val_loss', patience=2)"
   ]
  },
  {
   "cell_type": "code",
   "execution_count": 9,
   "metadata": {
    "collapsed": true
   },
   "outputs": [],
   "source": [
    "model = Sequential()"
   ]
  },
  {
   "cell_type": "code",
   "execution_count": 10,
   "metadata": {
    "collapsed": true
   },
   "outputs": [],
   "source": [
    "model.add(Conv1D(filters=20*2,\n",
    "                 kernel_size=1,\n",
    "                 padding='valid',\n",
    "                 input_shape=(10,1), \n",
    "                 activation='relu'))"
   ]
  },
  {
   "cell_type": "code",
   "execution_count": 11,
   "metadata": {
    "collapsed": true
   },
   "outputs": [],
   "source": [
    "model.add(MaxPooling1D(pool_size=1))"
   ]
  },
  {
   "cell_type": "code",
   "execution_count": 12,
   "metadata": {
    "collapsed": true
   },
   "outputs": [],
   "source": [
    "model.add(Conv1D(filters=20,\n",
    "                 kernel_size=1,\n",
    "                 padding='valid',\n",
    "                 activation='relu'))"
   ]
  },
  {
   "cell_type": "code",
   "execution_count": 13,
   "metadata": {
    "collapsed": false
   },
   "outputs": [],
   "source": [
    "model.add(MaxPooling1D(pool_size=1))"
   ]
  },
  {
   "cell_type": "code",
   "execution_count": 14,
   "metadata": {
    "collapsed": true
   },
   "outputs": [],
   "source": [
    "model.add(Flatten())"
   ]
  },
  {
   "cell_type": "code",
   "execution_count": 15,
   "metadata": {
    "collapsed": true
   },
   "outputs": [],
   "source": [
    "model.add(Dense(10, activation='tanh'))"
   ]
  },
  {
   "cell_type": "code",
   "execution_count": 16,
   "metadata": {
    "collapsed": true
   },
   "outputs": [],
   "source": [
    "model.add(Dense(1,activation='sigmoid'))"
   ]
  },
  {
   "cell_type": "code",
   "execution_count": 17,
   "metadata": {
    "collapsed": false
   },
   "outputs": [
    {
     "name": "stdout",
     "output_type": "stream",
     "text": [
      "_________________________________________________________________\n",
      "Layer (type)                 Output Shape              Param #   \n",
      "=================================================================\n",
      "conv1d_1 (Conv1D)            (None, 10, 40)            80        \n",
      "_________________________________________________________________\n",
      "max_pooling1d_1 (MaxPooling1 (None, 10, 40)            0         \n",
      "_________________________________________________________________\n",
      "conv1d_2 (Conv1D)            (None, 10, 20)            820       \n",
      "_________________________________________________________________\n",
      "max_pooling1d_2 (MaxPooling1 (None, 10, 20)            0         \n",
      "_________________________________________________________________\n",
      "flatten_1 (Flatten)          (None, 200)               0         \n",
      "_________________________________________________________________\n",
      "dense_1 (Dense)              (None, 10)                2010      \n",
      "_________________________________________________________________\n",
      "dense_2 (Dense)              (None, 1)                 11        \n",
      "=================================================================\n",
      "Total params: 2,921\n",
      "Trainable params: 2,921\n",
      "Non-trainable params: 0\n",
      "_________________________________________________________________\n"
     ]
    }
   ],
   "source": [
    "model.summary()"
   ]
  },
  {
   "cell_type": "code",
   "execution_count": 18,
   "metadata": {
    "collapsed": false
   },
   "outputs": [],
   "source": [
    "model.compile(loss='binary_crossentropy', \n",
    "              optimizer='adam', metrics=['accuracy'])"
   ]
  },
  {
   "cell_type": "code",
   "execution_count": 19,
   "metadata": {
    "collapsed": false
   },
   "outputs": [
    {
     "name": "stdout",
     "output_type": "stream",
     "text": [
      "Train on 10194 samples, validate on 2549 samples\n",
      "Epoch 1/30\n",
      "10194/10194 [==============================] - 2s 240us/step - loss: 0.6157 - acc: 0.6849 - val_loss: 0.5494 - val_acc: 0.7368\n",
      "Epoch 2/30\n",
      "10194/10194 [==============================] - 1s 125us/step - loss: 0.4925 - acc: 0.7765 - val_loss: 0.4545 - val_acc: 0.7933\n",
      "Epoch 3/30\n",
      "10194/10194 [==============================] - 1s 117us/step - loss: 0.4218 - acc: 0.8143 - val_loss: 0.4138 - val_acc: 0.8191\n",
      "Epoch 4/30\n",
      "10194/10194 [==============================] - 1s 124us/step - loss: 0.3939 - acc: 0.8303 - val_loss: 0.3939 - val_acc: 0.8309\n",
      "Epoch 5/30\n",
      "10194/10194 [==============================] - 1s 121us/step - loss: 0.3755 - acc: 0.8421 - val_loss: 0.3786 - val_acc: 0.8407\n",
      "Epoch 6/30\n",
      "10194/10194 [==============================] - 1s 132us/step - loss: 0.3635 - acc: 0.8494 - val_loss: 0.3676 - val_acc: 0.8427\n",
      "Epoch 7/30\n",
      "10194/10194 [==============================] - 1s 131us/step - loss: 0.3541 - acc: 0.8517 - val_loss: 0.3607 - val_acc: 0.8470\n",
      "Epoch 8/30\n",
      "10194/10194 [==============================] - 1s 120us/step - loss: 0.3481 - acc: 0.8548 - val_loss: 0.3556 - val_acc: 0.8419\n",
      "Epoch 9/30\n",
      "10194/10194 [==============================] - 1s 127us/step - loss: 0.3444 - acc: 0.8568 - val_loss: 0.3520 - val_acc: 0.8486\n",
      "Epoch 10/30\n",
      "10194/10194 [==============================] - 1s 118us/step - loss: 0.3403 - acc: 0.8577 - val_loss: 0.3491 - val_acc: 0.8513\n",
      "Epoch 11/30\n",
      "10194/10194 [==============================] - 1s 102us/step - loss: 0.3376 - acc: 0.8592 - val_loss: 0.3465 - val_acc: 0.8533\n",
      "Epoch 12/30\n",
      "10194/10194 [==============================] - 1s 114us/step - loss: 0.3351 - acc: 0.8590 - val_loss: 0.3450 - val_acc: 0.8541\n",
      "Epoch 13/30\n",
      "10194/10194 [==============================] - 1s 114us/step - loss: 0.3323 - acc: 0.8608 - val_loss: 0.3455 - val_acc: 0.8548\n",
      "Epoch 14/30\n",
      "10194/10194 [==============================] - 1s 119us/step - loss: 0.3300 - acc: 0.8627 - val_loss: 0.3413 - val_acc: 0.8588\n",
      "Epoch 15/30\n",
      "10194/10194 [==============================] - 1s 98us/step - loss: 0.3286 - acc: 0.8619 - val_loss: 0.3387 - val_acc: 0.8576\n",
      "Epoch 16/30\n",
      "10194/10194 [==============================] - 1s 86us/step - loss: 0.3269 - acc: 0.8632 - val_loss: 0.3372 - val_acc: 0.8596\n",
      "Epoch 17/30\n",
      "10194/10194 [==============================] - 1s 77us/step - loss: 0.3253 - acc: 0.8646 - val_loss: 0.3393 - val_acc: 0.8564\n",
      "Epoch 18/30\n",
      "10194/10194 [==============================] - 1s 84us/step - loss: 0.3231 - acc: 0.8657 - val_loss: 0.3349 - val_acc: 0.8592\n",
      "Epoch 19/30\n",
      "10194/10194 [==============================] - 1s 93us/step - loss: 0.3226 - acc: 0.8656 - val_loss: 0.3334 - val_acc: 0.8603\n",
      "Epoch 20/30\n",
      "10194/10194 [==============================] - 1s 88us/step - loss: 0.3208 - acc: 0.8667 - val_loss: 0.3332 - val_acc: 0.8615\n",
      "Epoch 21/30\n",
      "10194/10194 [==============================] - 1s 90us/step - loss: 0.3199 - acc: 0.8668 - val_loss: 0.3315 - val_acc: 0.8647\n",
      "Epoch 22/30\n",
      "10194/10194 [==============================] - 1s 89us/step - loss: 0.3190 - acc: 0.8679 - val_loss: 0.3349 - val_acc: 0.8599\n",
      "Epoch 23/30\n",
      "10194/10194 [==============================] - 1s 88us/step - loss: 0.3184 - acc: 0.8664 - val_loss: 0.3325 - val_acc: 0.8643\n",
      "Epoch 24/30\n",
      "10194/10194 [==============================] - 1s 89us/step - loss: 0.3164 - acc: 0.8689 - val_loss: 0.3303 - val_acc: 0.8650\n",
      "Epoch 25/30\n",
      "10194/10194 [==============================] - 1s 85us/step - loss: 0.3151 - acc: 0.8703 - val_loss: 0.3278 - val_acc: 0.8611\n",
      "Epoch 26/30\n",
      "10194/10194 [==============================] - 1s 90us/step - loss: 0.3143 - acc: 0.8719 - val_loss: 0.3278 - val_acc: 0.8658\n",
      "Epoch 27/30\n",
      "10194/10194 [==============================] - 1s 100us/step - loss: 0.3123 - acc: 0.8703 - val_loss: 0.3262 - val_acc: 0.8654\n",
      "Epoch 28/30\n",
      "10194/10194 [==============================] - 1s 90us/step - loss: 0.3115 - acc: 0.8727 - val_loss: 0.3256 - val_acc: 0.8666\n",
      "Epoch 29/30\n",
      "10194/10194 [==============================] - 1s 89us/step - loss: 0.3109 - acc: 0.8730 - val_loss: 0.3260 - val_acc: 0.8631\n",
      "Epoch 30/30\n",
      "10194/10194 [==============================] - 1s 84us/step - loss: 0.3113 - acc: 0.8708 - val_loss: 0.3252 - val_acc: 0.8647\n"
     ]
    }
   ],
   "source": [
    "train_history =model.fit(x=train_Features, \n",
    "                         y=train_Label, \n",
    "                         validation_split=0.2, \n",
    "                         epochs=30, \n",
    "                         batch_size=400,verbose=1)"
   ]
  },
  {
   "cell_type": "code",
   "execution_count": 20,
   "metadata": {
    "collapsed": true
   },
   "outputs": [],
   "source": [
    "import matplotlib.pyplot as plt\n",
    "def show_train_history(train_history,train,validation):\n",
    "    plt.plot(train_history.history[train])\n",
    "    plt.plot(train_history.history[validation])\n",
    "    plt.title('Train History')\n",
    "    plt.ylabel(train)\n",
    "    plt.xlabel('Epoch')\n",
    "    plt.legend(['train', 'validation'], loc='upper left')\n",
    "    plt.show()"
   ]
  },
  {
   "cell_type": "code",
   "execution_count": 21,
   "metadata": {
    "collapsed": false
   },
   "outputs": [
    {
     "data": {
      "image/png": "[encoded data removed]",
      "text/plain": [
       "<matplotlib.figure.Figure at 0x7f988d65c4e0>"
      ]
     },
     "metadata": {},
     "output_type": "display_data"
    }
   ],
   "source": [
    "show_train_history(train_history,'acc','val_acc')"
   ]
  },
  {
   "cell_type": "code",
   "execution_count": 22,
   "metadata": {
    "collapsed": false
   },
   "outputs": [
    {
     "data": {
      "image/png": "[encoded data removed]",
      "text/plain": [
       "<matplotlib.figure.Figure at 0x7f987c1c7630>"
      ]
     },
     "metadata": {},
     "output_type": "display_data"
    }
   ],
   "source": [
    "show_train_history(train_history,'loss','val_loss')"
   ]
  },
  {
   "cell_type": "code",
   "execution_count": 23,
   "metadata": {
    "collapsed": false
   },
   "outputs": [
    {
     "name": "stdout",
     "output_type": "stream",
     "text": [
      "6277/6277 [==============================] - 0s 56us/step\n"
     ]
    }
   ],
   "source": [
    "scores = model.evaluate(x=test_Features, \n",
    "                        y=test_Label)"
   ]
  },
  {
   "cell_type": "code",
   "execution_count": 24,
   "metadata": {
    "collapsed": false
   },
   "outputs": [
    {
     "data": {
      "text/plain": [
       "0.8601242631830492"
      ]
     },
     "execution_count": 24,
     "metadata": {},
     "output_type": "execute_result"
    }
   ],
   "source": [
    "scores[1]"
   ]
  }
 ],
 "metadata": {
  "anaconda-cloud": {},
  "kernelspec": {
   "display_name": "Python [default]",
   "language": "python",
   "name": "python3"
  },
  "language_info": {
   "codemirror_mode": {
    "name": "ipython",
    "version": 3
   },
   "file_extension": ".py",
   "mimetype": "text/x-python",
   "name": "python",
   "nbconvert_exporter": "python",
   "pygments_lexer": "ipython3",
   "version": "3.5.2"
  }
 },
 "nbformat": 4,
 "nbformat_minor": 1
}
