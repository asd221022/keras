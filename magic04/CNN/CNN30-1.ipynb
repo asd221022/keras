{
 "cells": [
  {
   "cell_type": "code",
   "execution_count": 1,
   "metadata": {
    "collapsed": false
   },
   "outputs": [],
   "source": [
    "import numpy as np\n",
    "import pandas as pd\n",
    "from sklearn.preprocessing import StandardScaler\n",
    "from sklearn.model_selection import train_test_split"
   ]
  },
  {
   "cell_type": "code",
   "execution_count": 2,
   "metadata": {
    "collapsed": false
   },
   "outputs": [],
   "source": [
    "Ynames = ['fLength', 'fWidth', 'fSize', 'fConc', 'fConc1', 'fAsym', \n",
    "             'fM3Long', 'fM3Trans', 'fAlpha', 'fDist', 'identity']\n",
    "featureNames = ['fLength', 'fWidth', 'fSize', 'fConc', 'fConc1', 'fAsym', \n",
    "             'fM3Long', 'fM3Trans', 'fAlpha', 'fDist']\n",
    "filepath = 'magic04.data'\n",
    "data = pd.read_csv(filepath, names=Ynames, header=None)\n",
    "data['identity']= data['identity'].map({'g':1, 'h': 0}).astype(int) \n",
    "X = data[featureNames].values\n",
    "Y = data['identity'].values.astype('int64')"
   ]
  },
  {
   "cell_type": "code",
   "execution_count": 3,
   "metadata": {
    "collapsed": false
   },
   "outputs": [
    {
     "data": {
      "text/plain": [
       "array([[-0.78020621, -0.23800107, -1.06396872,  1.20165703,  1.0953323 ,\n",
       "        -0.37576118,  0.06346927,  0.77201027, -0.48711024,  0.25482428],\n",
       "       [ 0.15902387,  0.34853822, -0.07980969, -0.84037233, -0.69820473,\n",
       "         1.55749033, -0.60547814, -0.74196027,  1.03855348, -0.53968316]])"
      ]
     },
     "execution_count": 3,
     "metadata": {},
     "output_type": "execute_result"
    }
   ],
   "source": [
    "X = StandardScaler().fit_transform(X)\n",
    "train_Features, test_Features, train_Label, test_Label = train_test_split(X, Y, test_size=0.33, random_state=None) \n",
    "train_Features[:2]"
   ]
  },
  {
   "cell_type": "code",
   "execution_count": 4,
   "metadata": {
    "collapsed": false
   },
   "outputs": [
    {
     "data": {
      "text/plain": [
       "array([[ 0.164276  ,  0.44718872,  1.86798301, -1.09966028, -0.90995431,\n",
       "         0.43815998,  0.98673258,  0.81471467, -0.08000276, -0.11534922],\n",
       "       [ 0.64055594,  0.77633078,  0.8063778 , -0.86553529, -0.85837429,\n",
       "        -2.49599002,  1.42659019,  1.92677213,  2.08391872,  1.19159622]])"
      ]
     },
     "execution_count": 4,
     "metadata": {},
     "output_type": "execute_result"
    }
   ],
   "source": [
    "test_Features[:2]"
   ]
  },
  {
   "cell_type": "code",
   "execution_count": 5,
   "metadata": {
    "collapsed": false
   },
   "outputs": [
    {
     "data": {
      "text/plain": [
       "array([1, 0, 1, 0])"
      ]
     },
     "execution_count": 5,
     "metadata": {},
     "output_type": "execute_result"
    }
   ],
   "source": [
    "train_Label[:4]"
   ]
  },
  {
   "cell_type": "code",
   "execution_count": 6,
   "metadata": {
    "collapsed": false
   },
   "outputs": [],
   "source": [
    "train_Features = train_Features.reshape((train_Features.shape[0], train_Features.shape[1], 1))\n",
    "test_Features = test_Features.reshape((test_Features.shape[0], test_Features.shape[1], 1))"
   ]
  },
  {
   "cell_type": "code",
   "execution_count": 7,
   "metadata": {
    "collapsed": false
   },
   "outputs": [
    {
     "data": {
      "text/plain": [
       "(12743, 10, 1)"
      ]
     },
     "execution_count": 7,
     "metadata": {},
     "output_type": "execute_result"
    }
   ],
   "source": [
    "train_Features.shape"
   ]
  },
  {
   "cell_type": "code",
   "execution_count": 8,
   "metadata": {
    "collapsed": false
   },
   "outputs": [
    {
     "name": "stderr",
     "output_type": "stream",
     "text": [
      "Using TensorFlow backend.\n"
     ]
    }
   ],
   "source": [
    "from keras.models import Sequential\n",
    "from keras.layers import Dense,Dropout,Flatten,Conv1D,MaxPooling1D\n",
    "from keras.layers.embeddings import Embedding\n",
    "from keras.callbacks import EarlyStopping\n",
    "early_stopping = EarlyStopping(monitor='val_loss', patience=2)"
   ]
  },
  {
   "cell_type": "code",
   "execution_count": 9,
   "metadata": {
    "collapsed": true
   },
   "outputs": [],
   "source": [
    "model = Sequential()"
   ]
  },
  {
   "cell_type": "code",
   "execution_count": 10,
   "metadata": {
    "collapsed": true
   },
   "outputs": [],
   "source": [
    "model.add(Conv1D(filters=30,\n",
    "                 kernel_size=3,\n",
    "                 padding='valid',\n",
    "                 input_shape=(10,1), \n",
    "                 activation='relu'))"
   ]
  },
  {
   "cell_type": "code",
   "execution_count": 11,
   "metadata": {
    "collapsed": false
   },
   "outputs": [],
   "source": [
    "model.add(MaxPooling1D(pool_size=1))"
   ]
  },
  {
   "cell_type": "code",
   "execution_count": 12,
   "metadata": {
    "collapsed": true
   },
   "outputs": [],
   "source": [
    "model.add(Flatten())"
   ]
  },
  {
   "cell_type": "code",
   "execution_count": 13,
   "metadata": {
    "collapsed": true
   },
   "outputs": [],
   "source": [
    "model.add(Dense(10, activation='tanh'))"
   ]
  },
  {
   "cell_type": "code",
   "execution_count": 14,
   "metadata": {
    "collapsed": true
   },
   "outputs": [],
   "source": [
    "model.add(Dense(1,activation='sigmoid'))"
   ]
  },
  {
   "cell_type": "code",
   "execution_count": 15,
   "metadata": {
    "collapsed": false
   },
   "outputs": [
    {
     "name": "stdout",
     "output_type": "stream",
     "text": [
      "_________________________________________________________________\n",
      "Layer (type)                 Output Shape              Param #   \n",
      "=================================================================\n",
      "conv1d_1 (Conv1D)            (None, 8, 30)             120       \n",
      "_________________________________________________________________\n",
      "max_pooling1d_1 (MaxPooling1 (None, 8, 30)             0         \n",
      "_________________________________________________________________\n",
      "flatten_1 (Flatten)          (None, 240)               0         \n",
      "_________________________________________________________________\n",
      "dense_1 (Dense)              (None, 10)                2410      \n",
      "_________________________________________________________________\n",
      "dense_2 (Dense)              (None, 1)                 11        \n",
      "=================================================================\n",
      "Total params: 2,541\n",
      "Trainable params: 2,541\n",
      "Non-trainable params: 0\n",
      "_________________________________________________________________\n"
     ]
    }
   ],
   "source": [
    "model.summary()"
   ]
  },
  {
   "cell_type": "code",
   "execution_count": 16,
   "metadata": {
    "collapsed": false
   },
   "outputs": [],
   "source": [
    "model.compile(loss='binary_crossentropy', \n",
    "              optimizer='adam', metrics=['accuracy'])"
   ]
  },
  {
   "cell_type": "code",
   "execution_count": 17,
   "metadata": {
    "collapsed": false
   },
   "outputs": [
    {
     "name": "stdout",
     "output_type": "stream",
     "text": [
      "Train on 10194 samples, validate on 2549 samples\n",
      "Epoch 1/30\n",
      "10194/10194 [==============================] - 3s 294us/step - loss: 0.5993 - acc: 0.6959 - val_loss: 0.5256 - val_acc: 0.7532\n",
      "Epoch 2/30\n",
      "10194/10194 [==============================] - 1s 56us/step - loss: 0.4858 - acc: 0.7789 - val_loss: 0.4613 - val_acc: 0.7893\n",
      "Epoch 3/30\n",
      "10194/10194 [==============================] - 1s 106us/step - loss: 0.4381 - acc: 0.8039 - val_loss: 0.4310 - val_acc: 0.8082\n",
      "Epoch 4/30\n",
      "10194/10194 [==============================] - 1s 92us/step - loss: 0.4144 - acc: 0.8175 - val_loss: 0.4123 - val_acc: 0.8227\n",
      "Epoch 5/30\n",
      "10194/10194 [==============================] - 1s 55us/step - loss: 0.3983 - acc: 0.8252 - val_loss: 0.3980 - val_acc: 0.8313\n",
      "Epoch 6/30\n",
      "10194/10194 [==============================] - 0s 47us/step - loss: 0.3863 - acc: 0.8331 - val_loss: 0.3881 - val_acc: 0.8403\n",
      "Epoch 7/30\n",
      "10194/10194 [==============================] - 0s 47us/step - loss: 0.3777 - acc: 0.8371 - val_loss: 0.3791 - val_acc: 0.8439\n",
      "Epoch 8/30\n",
      "10194/10194 [==============================] - 1s 53us/step - loss: 0.3697 - acc: 0.8385 - val_loss: 0.3726 - val_acc: 0.8517\n",
      "Epoch 9/30\n",
      "10194/10194 [==============================] - 1s 86us/step - loss: 0.3647 - acc: 0.8436 - val_loss: 0.3678 - val_acc: 0.8501\n",
      "Epoch 10/30\n",
      "10194/10194 [==============================] - 1s 91us/step - loss: 0.3600 - acc: 0.8464 - val_loss: 0.3630 - val_acc: 0.8584\n",
      "Epoch 11/30\n",
      "10194/10194 [==============================] - 1s 81us/step - loss: 0.3555 - acc: 0.8492 - val_loss: 0.3601 - val_acc: 0.8576\n",
      "Epoch 12/30\n",
      "10194/10194 [==============================] - 1s 98us/step - loss: 0.3522 - acc: 0.8528 - val_loss: 0.3572 - val_acc: 0.8576\n",
      "Epoch 13/30\n",
      "10194/10194 [==============================] - 1s 122us/step - loss: 0.3497 - acc: 0.8530 - val_loss: 0.3545 - val_acc: 0.8560\n",
      "Epoch 14/30\n",
      "10194/10194 [==============================] - 1s 101us/step - loss: 0.3474 - acc: 0.8559 - val_loss: 0.3528 - val_acc: 0.8580\n",
      "Epoch 15/30\n",
      "10194/10194 [==============================] - 1s 101us/step - loss: 0.3444 - acc: 0.8561 - val_loss: 0.3513 - val_acc: 0.8568\n",
      "Epoch 16/30\n",
      "10194/10194 [==============================] - 1s 98us/step - loss: 0.3422 - acc: 0.8565 - val_loss: 0.3491 - val_acc: 0.8599\n",
      "Epoch 17/30\n",
      "10194/10194 [==============================] - 1s 107us/step - loss: 0.3402 - acc: 0.8573 - val_loss: 0.3477 - val_acc: 0.8607\n",
      "Epoch 18/30\n",
      "10194/10194 [==============================] - 1s 100us/step - loss: 0.3388 - acc: 0.8582 - val_loss: 0.3471 - val_acc: 0.8631\n",
      "Epoch 19/30\n",
      "10194/10194 [==============================] - 1s 112us/step - loss: 0.3371 - acc: 0.8580 - val_loss: 0.3451 - val_acc: 0.8615\n",
      "Epoch 20/30\n",
      "10194/10194 [==============================] - 1s 105us/step - loss: 0.3354 - acc: 0.8600 - val_loss: 0.3445 - val_acc: 0.8596\n",
      "Epoch 21/30\n",
      "10194/10194 [==============================] - 1s 104us/step - loss: 0.3341 - acc: 0.8592 - val_loss: 0.3458 - val_acc: 0.8615\n",
      "Epoch 22/30\n",
      "10194/10194 [==============================] - 1s 100us/step - loss: 0.3333 - acc: 0.8612 - val_loss: 0.3446 - val_acc: 0.8564\n",
      "Epoch 23/30\n",
      "10194/10194 [==============================] - 1s 85us/step - loss: 0.3308 - acc: 0.8621 - val_loss: 0.3420 - val_acc: 0.8607\n",
      "Epoch 24/30\n",
      "10194/10194 [==============================] - 1s 93us/step - loss: 0.3301 - acc: 0.8628 - val_loss: 0.3446 - val_acc: 0.8560\n",
      "Epoch 25/30\n",
      "10194/10194 [==============================] - 1s 96us/step - loss: 0.3288 - acc: 0.8633 - val_loss: 0.3432 - val_acc: 0.8572\n",
      "Epoch 26/30\n",
      "10194/10194 [==============================] - 1s 85us/step - loss: 0.3280 - acc: 0.8630 - val_loss: 0.3422 - val_acc: 0.8607\n",
      "Epoch 27/30\n",
      "10194/10194 [==============================] - 1s 101us/step - loss: 0.3275 - acc: 0.8645 - val_loss: 0.3408 - val_acc: 0.8615\n",
      "Epoch 28/30\n",
      "10194/10194 [==============================] - 1s 111us/step - loss: 0.3261 - acc: 0.8647 - val_loss: 0.3390 - val_acc: 0.8654\n",
      "Epoch 29/30\n",
      "10194/10194 [==============================] - 1s 118us/step - loss: 0.3250 - acc: 0.8650 - val_loss: 0.3389 - val_acc: 0.8635\n",
      "Epoch 30/30\n",
      "10194/10194 [==============================] - 1s 108us/step - loss: 0.3243 - acc: 0.8643 - val_loss: 0.3391 - val_acc: 0.8623\n"
     ]
    }
   ],
   "source": [
    "train_history =model.fit(x=train_Features, \n",
    "                         y=train_Label, \n",
    "                         validation_split=0.2, \n",
    "                         epochs=30, \n",
    "                         batch_size=400,verbose=1)"
   ]
  },
  {
   "cell_type": "code",
   "execution_count": 18,
   "metadata": {
    "collapsed": true
   },
   "outputs": [],
   "source": [
    "import matplotlib.pyplot as plt\n",
    "def show_train_history(train_history,train,validation):\n",
    "    plt.plot(train_history.history[train])\n",
    "    plt.plot(train_history.history[validation])\n",
    "    plt.title('Train History')\n",
    "    plt.ylabel(train)\n",
    "    plt.xlabel('Epoch')\n",
    "    plt.legend(['train', 'validation'], loc='upper left')\n",
    "    plt.show()"
   ]
  },
  {
   "cell_type": "code",
   "execution_count": 19,
   "metadata": {
    "collapsed": false
   },
   "outputs": [
    {
     "data": {
      "image/png": "[encoded data removed]",
      "text/plain": [
       "<matplotlib.figure.Figure at 0x7fed91d64fd0>"
      ]
     },
     "metadata": {},
     "output_type": "display_data"
    }
   ],
   "source": [
    "show_train_history(train_history,'acc','val_acc')"
   ]
  },
  {
   "cell_type": "code",
   "execution_count": 20,
   "metadata": {
    "collapsed": false
   },
   "outputs": [
    {
     "data": {
      "image/png": "[encoded data removed]",
      "text/plain": [
       "<matplotlib.figure.Figure at 0x7fed91d8e390>"
      ]
     },
     "metadata": {},
     "output_type": "display_data"
    }
   ],
   "source": [
    "show_train_history(train_history,'loss','val_loss')"
   ]
  },
  {
   "cell_type": "code",
   "execution_count": 21,
   "metadata": {
    "collapsed": false
   },
   "outputs": [
    {
     "name": "stdout",
     "output_type": "stream",
     "text": [
      "6277/6277 [==============================] - 1s 117us/step\n"
     ]
    }
   ],
   "source": [
    "scores = model.evaluate(x=test_Features, \n",
    "                        y=test_Label)"
   ]
  },
  {
   "cell_type": "code",
   "execution_count": 22,
   "metadata": {
    "collapsed": false
   },
   "outputs": [
    {
     "data": {
      "text/plain": [
       "0.868249163613191"
      ]
     },
     "execution_count": 22,
     "metadata": {},
     "output_type": "execute_result"
    }
   ],
   "source": [
    "scores[1]"
   ]
  }
 ],
 "metadata": {
  "anaconda-cloud": {},
  "kernelspec": {
   "display_name": "Python [default]",
   "language": "python",
   "name": "python3"
  },
  "language_info": {
   "codemirror_mode": {
    "name": "ipython",
    "version": 3
   },
   "file_extension": ".py",
   "mimetype": "text/x-python",
   "name": "python",
   "nbconvert_exporter": "python",
   "pygments_lexer": "ipython3",
   "version": "3.5.2"
  }
 },
 "nbformat": 4,
 "nbformat_minor": 1
}
