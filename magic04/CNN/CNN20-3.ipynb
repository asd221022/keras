{
 "cells": [
  {
   "cell_type": "code",
   "execution_count": 1,
   "metadata": {
    "collapsed": false
   },
   "outputs": [],
   "source": [
    "import numpy as np\n",
    "import pandas as pd\n",
    "from sklearn.preprocessing import StandardScaler\n",
    "from sklearn.model_selection import train_test_split"
   ]
  },
  {
   "cell_type": "code",
   "execution_count": 2,
   "metadata": {
    "collapsed": false
   },
   "outputs": [],
   "source": [
    "Ynames = ['fLength', 'fWidth', 'fSize', 'fConc', 'fConc1', 'fAsym', \n",
    "             'fM3Long', 'fM3Trans', 'fAlpha', 'fDist', 'identity']\n",
    "featureNames = ['fLength', 'fWidth', 'fSize', 'fConc', 'fConc1', 'fAsym', \n",
    "             'fM3Long', 'fM3Trans', 'fAlpha', 'fDist']\n",
    "filepath = 'magic04.data'\n",
    "data = pd.read_csv(filepath, names=Ynames, header=None)\n",
    "data['identity']= data['identity'].map({'g':1, 'h': 0}).astype(int) \n",
    "X = data[featureNames].values\n",
    "Y = data['identity'].values.astype('int64')"
   ]
  },
  {
   "cell_type": "code",
   "execution_count": 3,
   "metadata": {
    "collapsed": false
   },
   "outputs": [
    {
     "data": {
      "text/plain": [
       "array([[-0.74521166, -0.83874542, -1.40105007,  1.79189268,  1.75772842,\n",
       "         0.4657491 ,  0.03772944,  0.30120549,  1.45706199, -1.09537296],\n",
       "       [-0.93686376, -0.66496509, -1.29397966,  2.40291513,  2.01472364,\n",
       "         0.31596827, -0.10226215, -0.57797516, -0.33431899,  0.41597815]])"
      ]
     },
     "execution_count": 3,
     "metadata": {},
     "output_type": "execute_result"
    }
   ],
   "source": [
    "X = StandardScaler().fit_transform(X)\n",
    "train_Features, test_Features, train_Label, test_Label = train_test_split(X, Y, test_size=0.33, random_state=None) \n",
    "train_Features[:2]"
   ]
  },
  {
   "cell_type": "code",
   "execution_count": 4,
   "metadata": {
    "collapsed": false
   },
   "outputs": [
    {
     "data": {
      "text/plain": [
       "array([[-0.7266911 , -0.80914155, -0.79946672,  2.08071976,  2.01653346,\n",
       "        -0.31551576, -0.47351811,  0.07746591,  0.33805752, -1.24650405],\n",
       "       [-0.94920686, -0.6773877 , -1.20299097,  2.37447003,  3.09609435,\n",
       "        -0.12073667, -0.37872564,  0.45718652, -0.57207387,  0.69025955]])"
      ]
     },
     "execution_count": 4,
     "metadata": {},
     "output_type": "execute_result"
    }
   ],
   "source": [
    "test_Features[:2]"
   ]
  },
  {
   "cell_type": "code",
   "execution_count": 5,
   "metadata": {
    "collapsed": false
   },
   "outputs": [
    {
     "data": {
      "text/plain": [
       "array([1, 1, 1, 1])"
      ]
     },
     "execution_count": 5,
     "metadata": {},
     "output_type": "execute_result"
    }
   ],
   "source": [
    "train_Label[:4]"
   ]
  },
  {
   "cell_type": "code",
   "execution_count": 6,
   "metadata": {
    "collapsed": false
   },
   "outputs": [],
   "source": [
    "train_Features = train_Features.reshape((train_Features.shape[0], train_Features.shape[1], 1))\n",
    "test_Features = test_Features.reshape((test_Features.shape[0], test_Features.shape[1], 1))"
   ]
  },
  {
   "cell_type": "code",
   "execution_count": 7,
   "metadata": {
    "collapsed": false
   },
   "outputs": [
    {
     "data": {
      "text/plain": [
       "(12743, 10, 1)"
      ]
     },
     "execution_count": 7,
     "metadata": {},
     "output_type": "execute_result"
    }
   ],
   "source": [
    "train_Features.shape"
   ]
  },
  {
   "cell_type": "code",
   "execution_count": 8,
   "metadata": {
    "collapsed": false
   },
   "outputs": [
    {
     "name": "stderr",
     "output_type": "stream",
     "text": [
      "Using TensorFlow backend.\n"
     ]
    }
   ],
   "source": [
    "from keras.models import Sequential\n",
    "from keras.layers import Dense,Dropout,Flatten,Conv1D,MaxPooling1D\n",
    "from keras.layers.embeddings import Embedding\n",
    "from keras.callbacks import EarlyStopping\n",
    "early_stopping = EarlyStopping(monitor='val_loss', patience=2)"
   ]
  },
  {
   "cell_type": "code",
   "execution_count": 9,
   "metadata": {
    "collapsed": true
   },
   "outputs": [],
   "source": [
    "model = Sequential()"
   ]
  },
  {
   "cell_type": "code",
   "execution_count": 10,
   "metadata": {
    "collapsed": true
   },
   "outputs": [],
   "source": [
    "model.add(Conv1D(filters=20*3,\n",
    "                 kernel_size=3,\n",
    "                 padding='valid',\n",
    "                 input_shape=(10,1), \n",
    "                 activation='relu'))"
   ]
  },
  {
   "cell_type": "code",
   "execution_count": 11,
   "metadata": {
    "collapsed": true
   },
   "outputs": [],
   "source": [
    "model.add(MaxPooling1D(pool_size=1))"
   ]
  },
  {
   "cell_type": "code",
   "execution_count": 12,
   "metadata": {
    "collapsed": true
   },
   "outputs": [],
   "source": [
    "model.add(Conv1D(filters=20*2,\n",
    "                 kernel_size=3,\n",
    "                 padding='valid', \n",
    "                 activation='relu'))"
   ]
  },
  {
   "cell_type": "code",
   "execution_count": 13,
   "metadata": {
    "collapsed": true
   },
   "outputs": [],
   "source": [
    "model.add(MaxPooling1D(pool_size=1))"
   ]
  },
  {
   "cell_type": "code",
   "execution_count": 14,
   "metadata": {
    "collapsed": true
   },
   "outputs": [],
   "source": [
    "model.add(Conv1D(filters=20,\n",
    "                 kernel_size=3,\n",
    "                 padding='valid',\n",
    "                 activation='relu'))"
   ]
  },
  {
   "cell_type": "code",
   "execution_count": 15,
   "metadata": {
    "collapsed": false
   },
   "outputs": [],
   "source": [
    "model.add(MaxPooling1D(pool_size=1))"
   ]
  },
  {
   "cell_type": "code",
   "execution_count": 16,
   "metadata": {
    "collapsed": true
   },
   "outputs": [],
   "source": [
    "model.add(Flatten())"
   ]
  },
  {
   "cell_type": "code",
   "execution_count": 17,
   "metadata": {
    "collapsed": true
   },
   "outputs": [],
   "source": [
    "model.add(Dense(10, activation='tanh'))"
   ]
  },
  {
   "cell_type": "code",
   "execution_count": 18,
   "metadata": {
    "collapsed": true
   },
   "outputs": [],
   "source": [
    "model.add(Dense(1,activation='sigmoid'))"
   ]
  },
  {
   "cell_type": "code",
   "execution_count": 19,
   "metadata": {
    "collapsed": false
   },
   "outputs": [
    {
     "name": "stdout",
     "output_type": "stream",
     "text": [
      "_________________________________________________________________\n",
      "Layer (type)                 Output Shape              Param #   \n",
      "=================================================================\n",
      "conv1d_1 (Conv1D)            (None, 8, 60)             240       \n",
      "_________________________________________________________________\n",
      "max_pooling1d_1 (MaxPooling1 (None, 8, 60)             0         \n",
      "_________________________________________________________________\n",
      "conv1d_2 (Conv1D)            (None, 6, 40)             7240      \n",
      "_________________________________________________________________\n",
      "max_pooling1d_2 (MaxPooling1 (None, 6, 40)             0         \n",
      "_________________________________________________________________\n",
      "conv1d_3 (Conv1D)            (None, 4, 20)             2420      \n",
      "_________________________________________________________________\n",
      "max_pooling1d_3 (MaxPooling1 (None, 4, 20)             0         \n",
      "_________________________________________________________________\n",
      "flatten_1 (Flatten)          (None, 80)                0         \n",
      "_________________________________________________________________\n",
      "dense_1 (Dense)              (None, 10)                810       \n",
      "_________________________________________________________________\n",
      "dense_2 (Dense)              (None, 1)                 11        \n",
      "=================================================================\n",
      "Total params: 10,721\n",
      "Trainable params: 10,721\n",
      "Non-trainable params: 0\n",
      "_________________________________________________________________\n"
     ]
    }
   ],
   "source": [
    "model.summary()"
   ]
  },
  {
   "cell_type": "code",
   "execution_count": 20,
   "metadata": {
    "collapsed": false
   },
   "outputs": [],
   "source": [
    "model.compile(loss='binary_crossentropy', \n",
    "              optimizer='adam', metrics=['accuracy'])"
   ]
  },
  {
   "cell_type": "code",
   "execution_count": 21,
   "metadata": {
    "collapsed": false
   },
   "outputs": [
    {
     "name": "stdout",
     "output_type": "stream",
     "text": [
      "Train on 10194 samples, validate on 2549 samples\n",
      "Epoch 1/30\n",
      "10194/10194 [==============================] - 4s 362us/step - loss: 0.6019 - acc: 0.7036 - val_loss: 0.5044 - val_acc: 0.7791\n",
      "Epoch 2/30\n",
      "10194/10194 [==============================] - 1s 114us/step - loss: 0.4410 - acc: 0.8042 - val_loss: 0.3975 - val_acc: 0.8184\n",
      "Epoch 3/30\n",
      "10194/10194 [==============================] - 1s 101us/step - loss: 0.3816 - acc: 0.8330 - val_loss: 0.3659 - val_acc: 0.8399\n",
      "Epoch 4/30\n",
      "10194/10194 [==============================] - 1s 137us/step - loss: 0.3604 - acc: 0.8488 - val_loss: 0.3461 - val_acc: 0.8603\n",
      "Epoch 5/30\n",
      "10194/10194 [==============================] - 1s 120us/step - loss: 0.3462 - acc: 0.8569 - val_loss: 0.3353 - val_acc: 0.8631\n",
      "Epoch 6/30\n",
      "10194/10194 [==============================] - 1s 128us/step - loss: 0.3429 - acc: 0.8566 - val_loss: 0.3332 - val_acc: 0.8658\n",
      "Epoch 7/30\n",
      "10194/10194 [==============================] - 3s 298us/step - loss: 0.3328 - acc: 0.8623 - val_loss: 0.3233 - val_acc: 0.8729\n",
      "Epoch 8/30\n",
      "10194/10194 [==============================] - 3s 275us/step - loss: 0.3302 - acc: 0.8625 - val_loss: 0.3223 - val_acc: 0.8721\n",
      "Epoch 9/30\n",
      "10194/10194 [==============================] - 2s 202us/step - loss: 0.3271 - acc: 0.8651 - val_loss: 0.3227 - val_acc: 0.8682\n",
      "Epoch 10/30\n",
      "10194/10194 [==============================] - 3s 271us/step - loss: 0.3232 - acc: 0.8660 - val_loss: 0.3195 - val_acc: 0.8737\n",
      "Epoch 11/30\n",
      "10194/10194 [==============================] - 3s 265us/step - loss: 0.3229 - acc: 0.8658 - val_loss: 0.3179 - val_acc: 0.8756\n",
      "Epoch 12/30\n",
      "10194/10194 [==============================] - 3s 320us/step - loss: 0.3205 - acc: 0.8690 - val_loss: 0.3129 - val_acc: 0.8756\n",
      "Epoch 13/30\n",
      "10194/10194 [==============================] - 3s 257us/step - loss: 0.3194 - acc: 0.8689 - val_loss: 0.3134 - val_acc: 0.8764\n",
      "Epoch 14/30\n",
      "10194/10194 [==============================] - 3s 275us/step - loss: 0.3174 - acc: 0.8695 - val_loss: 0.3098 - val_acc: 0.8756\n",
      "Epoch 15/30\n",
      "10194/10194 [==============================] - 3s 301us/step - loss: 0.3145 - acc: 0.8713 - val_loss: 0.3113 - val_acc: 0.8760\n",
      "Epoch 16/30\n",
      "10194/10194 [==============================] - 2s 186us/step - loss: 0.3146 - acc: 0.8714 - val_loss: 0.3146 - val_acc: 0.8701\n",
      "Epoch 17/30\n",
      "10194/10194 [==============================] - 4s 368us/step - loss: 0.3140 - acc: 0.8710 - val_loss: 0.3087 - val_acc: 0.8768\n",
      "Epoch 18/30\n",
      "10194/10194 [==============================] - 3s 321us/step - loss: 0.3123 - acc: 0.8720 - val_loss: 0.3070 - val_acc: 0.8768\n",
      "Epoch 19/30\n",
      "10194/10194 [==============================] - 2s 157us/step - loss: 0.3119 - acc: 0.8721 - val_loss: 0.3056 - val_acc: 0.8764\n",
      "Epoch 20/30\n",
      "10194/10194 [==============================] - 2s 245us/step - loss: 0.3119 - acc: 0.8703 - val_loss: 0.3066 - val_acc: 0.8772\n",
      "Epoch 21/30\n",
      "10194/10194 [==============================] - 2s 201us/step - loss: 0.3079 - acc: 0.8730 - val_loss: 0.3063 - val_acc: 0.8772\n",
      "Epoch 22/30\n",
      "10194/10194 [==============================] - 3s 276us/step - loss: 0.3068 - acc: 0.8743 - val_loss: 0.3086 - val_acc: 0.8760\n",
      "Epoch 23/30\n",
      "10194/10194 [==============================] - 3s 337us/step - loss: 0.3067 - acc: 0.8751 - val_loss: 0.3057 - val_acc: 0.8776\n",
      "Epoch 24/30\n",
      "10194/10194 [==============================] - 2s 185us/step - loss: 0.3076 - acc: 0.8747 - val_loss: 0.3033 - val_acc: 0.8760\n",
      "Epoch 25/30\n",
      "10194/10194 [==============================] - 1s 137us/step - loss: 0.3052 - acc: 0.8733 - val_loss: 0.3039 - val_acc: 0.8780\n",
      "Epoch 26/30\n",
      "10194/10194 [==============================] - 1s 120us/step - loss: 0.3061 - acc: 0.8730 - val_loss: 0.3068 - val_acc: 0.8760\n",
      "Epoch 27/30\n",
      "10194/10194 [==============================] - 2s 219us/step - loss: 0.3101 - acc: 0.8716 - val_loss: 0.3077 - val_acc: 0.8768\n",
      "Epoch 28/30\n",
      "10194/10194 [==============================] - 3s 250us/step - loss: 0.3029 - acc: 0.8768 - val_loss: 0.3047 - val_acc: 0.8760\n",
      "Epoch 29/30\n",
      "10194/10194 [==============================] - 4s 395us/step - loss: 0.3016 - acc: 0.8756 - val_loss: 0.3016 - val_acc: 0.8796\n",
      "Epoch 30/30\n",
      "10194/10194 [==============================] - 4s 354us/step - loss: 0.3025 - acc: 0.8747 - val_loss: 0.3089 - val_acc: 0.8776\n"
     ]
    }
   ],
   "source": [
    "train_history =model.fit(x=train_Features, \n",
    "                         y=train_Label, \n",
    "                         validation_split=0.2, \n",
    "                         epochs=30, \n",
    "                         batch_size=400,verbose=1)"
   ]
  },
  {
   "cell_type": "code",
   "execution_count": 22,
   "metadata": {
    "collapsed": true
   },
   "outputs": [],
   "source": [
    "import matplotlib.pyplot as plt\n",
    "def show_train_history(train_history,train,validation):\n",
    "    plt.plot(train_history.history[train])\n",
    "    plt.plot(train_history.history[validation])\n",
    "    plt.title('Train History')\n",
    "    plt.ylabel(train)\n",
    "    plt.xlabel('Epoch')\n",
    "    plt.legend(['train', 'validation'], loc='upper left')\n",
    "    plt.show()"
   ]
  },
  {
   "cell_type": "code",
   "execution_count": 23,
   "metadata": {
    "collapsed": false
   },
   "outputs": [
    {
     "data": {
      "image/png": "[encoded data removed]",
      "text/plain": [
       "<matplotlib.figure.Figure at 0x7f2b4ac86898>"
      ]
     },
     "metadata": {},
     "output_type": "display_data"
    }
   ],
   "source": [
    "show_train_history(train_history,'acc','val_acc')"
   ]
  },
  {
   "cell_type": "code",
   "execution_count": 24,
   "metadata": {
    "collapsed": false
   },
   "outputs": [
    {
     "data": {
      "image/png": "[encoded data removed]",
      "text/plain": [
       "<matplotlib.figure.Figure at 0x7f2b4ac86ac8>"
      ]
     },
     "metadata": {},
     "output_type": "display_data"
    }
   ],
   "source": [
    "show_train_history(train_history,'loss','val_loss')"
   ]
  },
  {
   "cell_type": "code",
   "execution_count": 25,
   "metadata": {
    "collapsed": false
   },
   "outputs": [
    {
     "name": "stdout",
     "output_type": "stream",
     "text": [
      "6277/6277 [==============================] - 2s 253us/step\n"
     ]
    }
   ],
   "source": [
    "scores = model.evaluate(x=test_Features, \n",
    "                        y=test_Label)"
   ]
  },
  {
   "cell_type": "code",
   "execution_count": 26,
   "metadata": {
    "collapsed": false
   },
   "outputs": [
    {
     "data": {
      "text/plain": [
       "0.864584992840466"
      ]
     },
     "execution_count": 26,
     "metadata": {},
     "output_type": "execute_result"
    }
   ],
   "source": [
    "scores[1]"
   ]
  }
 ],
 "metadata": {
  "anaconda-cloud": {},
  "kernelspec": {
   "display_name": "Python [default]",
   "language": "python",
   "name": "python3"
  },
  "language_info": {
   "codemirror_mode": {
    "name": "ipython",
    "version": 3
   },
   "file_extension": ".py",
   "mimetype": "text/x-python",
   "name": "python",
   "nbconvert_exporter": "python",
   "pygments_lexer": "ipython3",
   "version": "3.5.2"
  }
 },
 "nbformat": 4,
 "nbformat_minor": 1
}
