{
 "cells": [
  {
   "cell_type": "code",
   "execution_count": 1,
   "metadata": {
    "collapsed": false
   },
   "outputs": [],
   "source": [
    "import numpy as np\n",
    "import pandas as pd\n",
    "from sklearn.preprocessing import StandardScaler\n",
    "from sklearn.model_selection import train_test_split"
   ]
  },
  {
   "cell_type": "code",
   "execution_count": 2,
   "metadata": {
    "collapsed": false
   },
   "outputs": [],
   "source": [
    "Ynames = ['fLength', 'fWidth', 'fSize', 'fConc', 'fConc1', 'fAsym', \n",
    "             'fM3Long', 'fM3Trans', 'fAlpha', 'fDist', 'identity']\n",
    "featureNames = ['fLength', 'fWidth', 'fSize', 'fConc', 'fConc1', 'fAsym', \n",
    "             'fM3Long', 'fM3Trans', 'fAlpha', 'fDist']\n",
    "filepath = 'magic04.data'\n",
    "data = pd.read_csv(filepath, names=Ynames, header=None)\n",
    "data['identity']= data['identity'].map({'g':1, 'h': 0}).astype(int) \n",
    "X = data[featureNames].values\n",
    "Y = data['identity'].values.astype('int64')"
   ]
  },
  {
   "cell_type": "code",
   "execution_count": 3,
   "metadata": {
    "collapsed": false
   },
   "outputs": [
    {
     "data": {
      "text/plain": [
       "array([[-0.6078253 , -0.01685781,  0.1703034 , -0.53021143, -0.5534187 ,\n",
       "        -0.04996334, -0.54741792, -0.52900002, -0.5023614 , -0.12984142],\n",
       "       [-0.36199716, -0.87682545, -0.38324638,  1.2973857 ,  1.02565402,\n",
       "         0.74903328,  0.41572281,  0.19825686,  0.34593403, -0.06658689]])"
      ]
     },
     "execution_count": 3,
     "metadata": {},
     "output_type": "execute_result"
    }
   ],
   "source": [
    "X = StandardScaler().fit_transform(X)\n",
    "train_Features, test_Features, train_Label, test_Label = train_test_split(X, Y, test_size=0.33, random_state=None) \n",
    "train_Features[:2]"
   ]
  },
  {
   "cell_type": "code",
   "execution_count": 4,
   "metadata": {
    "collapsed": false
   },
   "outputs": [
    {
     "data": {
      "text/plain": [
       "array([[ 1.27122498,  0.13391425,  0.34931835,  0.19130926,  0.30262875,\n",
       "        -2.13876045,  1.08546044, -0.96434103, -0.00693817,  1.83782015],\n",
       "       [-0.92168569, -0.66692741, -1.07095157,  1.92864793,  1.91065867,\n",
       "         0.17800411, -0.57222048,  0.2482115 , -0.68429497, -1.55833672]])"
      ]
     },
     "execution_count": 4,
     "metadata": {},
     "output_type": "execute_result"
    }
   ],
   "source": [
    "test_Features[:2]"
   ]
  },
  {
   "cell_type": "code",
   "execution_count": 5,
   "metadata": {
    "collapsed": false
   },
   "outputs": [
    {
     "data": {
      "text/plain": [
       "array([1, 0, 1, 0])"
      ]
     },
     "execution_count": 5,
     "metadata": {},
     "output_type": "execute_result"
    }
   ],
   "source": [
    "train_Label[:4]"
   ]
  },
  {
   "cell_type": "code",
   "execution_count": 6,
   "metadata": {
    "collapsed": false
   },
   "outputs": [],
   "source": [
    "train_Features = train_Features.reshape((train_Features.shape[0], train_Features.shape[1], 1))\n",
    "test_Features = test_Features.reshape((test_Features.shape[0], test_Features.shape[1], 1))"
   ]
  },
  {
   "cell_type": "code",
   "execution_count": 7,
   "metadata": {
    "collapsed": false
   },
   "outputs": [
    {
     "data": {
      "text/plain": [
       "(12743, 10, 1)"
      ]
     },
     "execution_count": 7,
     "metadata": {},
     "output_type": "execute_result"
    }
   ],
   "source": [
    "train_Features.shape"
   ]
  },
  {
   "cell_type": "code",
   "execution_count": 8,
   "metadata": {
    "collapsed": false
   },
   "outputs": [
    {
     "name": "stderr",
     "output_type": "stream",
     "text": [
      "Using TensorFlow backend.\n"
     ]
    }
   ],
   "source": [
    "from keras.models import Sequential\n",
    "from keras.layers import Dense,Dropout,Flatten,Conv1D,MaxPooling1D\n",
    "from keras.layers.embeddings import Embedding\n",
    "from keras.callbacks import EarlyStopping\n",
    "early_stopping = EarlyStopping(monitor='val_loss', patience=2)"
   ]
  },
  {
   "cell_type": "code",
   "execution_count": 9,
   "metadata": {
    "collapsed": true
   },
   "outputs": [],
   "source": [
    "model = Sequential()"
   ]
  },
  {
   "cell_type": "code",
   "execution_count": 10,
   "metadata": {
    "collapsed": true
   },
   "outputs": [],
   "source": [
    "model.add(Conv1D(filters=10*4,\n",
    "                 kernel_size=1,\n",
    "                 padding='valid',\n",
    "                 input_shape=(10,1), \n",
    "                 activation='relu'))"
   ]
  },
  {
   "cell_type": "code",
   "execution_count": 11,
   "metadata": {
    "collapsed": true
   },
   "outputs": [],
   "source": [
    "model.add(MaxPooling1D(pool_size=1))"
   ]
  },
  {
   "cell_type": "code",
   "execution_count": 12,
   "metadata": {
    "collapsed": true
   },
   "outputs": [],
   "source": [
    "model.add(Conv1D(filters=10*3,\n",
    "                 kernel_size=1,\n",
    "                 padding='valid',\n",
    "                 activation='relu'))"
   ]
  },
  {
   "cell_type": "code",
   "execution_count": 13,
   "metadata": {
    "collapsed": true
   },
   "outputs": [],
   "source": [
    "model.add(MaxPooling1D(pool_size=1))"
   ]
  },
  {
   "cell_type": "code",
   "execution_count": 14,
   "metadata": {
    "collapsed": true
   },
   "outputs": [],
   "source": [
    "model.add(Conv1D(filters=10*2,\n",
    "                 kernel_size=1,\n",
    "                 padding='valid', \n",
    "                 activation='relu'))"
   ]
  },
  {
   "cell_type": "code",
   "execution_count": 15,
   "metadata": {
    "collapsed": true
   },
   "outputs": [],
   "source": [
    "model.add(MaxPooling1D(pool_size=1))"
   ]
  },
  {
   "cell_type": "code",
   "execution_count": 16,
   "metadata": {
    "collapsed": true
   },
   "outputs": [],
   "source": [
    "model.add(Conv1D(filters=10,\n",
    "                 kernel_size=1,\n",
    "                 padding='valid', \n",
    "                 activation='relu'))"
   ]
  },
  {
   "cell_type": "code",
   "execution_count": 17,
   "metadata": {
    "collapsed": false
   },
   "outputs": [],
   "source": [
    "model.add(MaxPooling1D(pool_size=1))"
   ]
  },
  {
   "cell_type": "code",
   "execution_count": 18,
   "metadata": {
    "collapsed": true
   },
   "outputs": [],
   "source": [
    "model.add(Flatten())"
   ]
  },
  {
   "cell_type": "code",
   "execution_count": 19,
   "metadata": {
    "collapsed": true
   },
   "outputs": [],
   "source": [
    "model.add(Dense(10, activation='tanh'))"
   ]
  },
  {
   "cell_type": "code",
   "execution_count": 20,
   "metadata": {
    "collapsed": true
   },
   "outputs": [],
   "source": [
    "model.add(Dense(1,activation='sigmoid'))"
   ]
  },
  {
   "cell_type": "code",
   "execution_count": 21,
   "metadata": {
    "collapsed": false
   },
   "outputs": [
    {
     "name": "stdout",
     "output_type": "stream",
     "text": [
      "_________________________________________________________________\n",
      "Layer (type)                 Output Shape              Param #   \n",
      "=================================================================\n",
      "conv1d_1 (Conv1D)            (None, 10, 40)            80        \n",
      "_________________________________________________________________\n",
      "max_pooling1d_1 (MaxPooling1 (None, 10, 40)            0         \n",
      "_________________________________________________________________\n",
      "conv1d_2 (Conv1D)            (None, 10, 30)            1230      \n",
      "_________________________________________________________________\n",
      "max_pooling1d_2 (MaxPooling1 (None, 10, 30)            0         \n",
      "_________________________________________________________________\n",
      "conv1d_3 (Conv1D)            (None, 10, 20)            620       \n",
      "_________________________________________________________________\n",
      "max_pooling1d_3 (MaxPooling1 (None, 10, 20)            0         \n",
      "_________________________________________________________________\n",
      "conv1d_4 (Conv1D)            (None, 10, 10)            210       \n",
      "_________________________________________________________________\n",
      "max_pooling1d_4 (MaxPooling1 (None, 10, 10)            0         \n",
      "_________________________________________________________________\n",
      "flatten_1 (Flatten)          (None, 100)               0         \n",
      "_________________________________________________________________\n",
      "dense_1 (Dense)              (None, 10)                1010      \n",
      "_________________________________________________________________\n",
      "dense_2 (Dense)              (None, 1)                 11        \n",
      "=================================================================\n",
      "Total params: 3,161\n",
      "Trainable params: 3,161\n",
      "Non-trainable params: 0\n",
      "_________________________________________________________________\n"
     ]
    }
   ],
   "source": [
    "model.summary()"
   ]
  },
  {
   "cell_type": "code",
   "execution_count": 22,
   "metadata": {
    "collapsed": false
   },
   "outputs": [],
   "source": [
    "model.compile(loss='binary_crossentropy', \n",
    "              optimizer='adam', metrics=['accuracy'])"
   ]
  },
  {
   "cell_type": "code",
   "execution_count": 23,
   "metadata": {
    "collapsed": false
   },
   "outputs": [
    {
     "name": "stdout",
     "output_type": "stream",
     "text": [
      "Train on 10194 samples, validate on 2549 samples\n",
      "Epoch 1/30\n",
      "10194/10194 [==============================] - 4s 418us/step - loss: 0.6290 - acc: 0.7023 - val_loss: 0.5576 - val_acc: 0.7521\n",
      "Epoch 2/30\n",
      "10194/10194 [==============================] - 1s 73us/step - loss: 0.5107 - acc: 0.7655 - val_loss: 0.4543 - val_acc: 0.7948\n",
      "Epoch 3/30\n",
      "10194/10194 [==============================] - 1s 61us/step - loss: 0.4313 - acc: 0.8028 - val_loss: 0.3995 - val_acc: 0.8227\n",
      "Epoch 4/30\n",
      "10194/10194 [==============================] - 1s 67us/step - loss: 0.3878 - acc: 0.8362 - val_loss: 0.3699 - val_acc: 0.8388\n",
      "Epoch 5/30\n",
      "10194/10194 [==============================] - 1s 107us/step - loss: 0.3630 - acc: 0.8500 - val_loss: 0.3579 - val_acc: 0.8439\n",
      "Epoch 6/30\n",
      "10194/10194 [==============================] - 1s 139us/step - loss: 0.3493 - acc: 0.8549 - val_loss: 0.3492 - val_acc: 0.8474\n",
      "Epoch 7/30\n",
      "10194/10194 [==============================] - 1s 54us/step - loss: 0.3421 - acc: 0.8599 - val_loss: 0.3463 - val_acc: 0.8509\n",
      "Epoch 8/30\n",
      "10194/10194 [==============================] - 1s 60us/step - loss: 0.3377 - acc: 0.8598 - val_loss: 0.3436 - val_acc: 0.8486\n",
      "Epoch 9/30\n",
      "10194/10194 [==============================] - 1s 50us/step - loss: 0.3350 - acc: 0.8625 - val_loss: 0.3433 - val_acc: 0.8529\n",
      "Epoch 10/30\n",
      "10194/10194 [==============================] - 1s 50us/step - loss: 0.3329 - acc: 0.8620 - val_loss: 0.3406 - val_acc: 0.8533\n",
      "Epoch 11/30\n",
      "10194/10194 [==============================] - 1s 49us/step - loss: 0.3299 - acc: 0.8632 - val_loss: 0.3408 - val_acc: 0.8521\n",
      "Epoch 12/30\n",
      "10194/10194 [==============================] - 1s 56us/step - loss: 0.3278 - acc: 0.8637 - val_loss: 0.3387 - val_acc: 0.8564\n",
      "Epoch 13/30\n",
      "10194/10194 [==============================] - 1s 50us/step - loss: 0.3264 - acc: 0.8643 - val_loss: 0.3377 - val_acc: 0.8584\n",
      "Epoch 14/30\n",
      "10194/10194 [==============================] - 1s 51us/step - loss: 0.3248 - acc: 0.8660 - val_loss: 0.3368 - val_acc: 0.8548\n",
      "Epoch 15/30\n",
      "10194/10194 [==============================] - 1s 51us/step - loss: 0.3235 - acc: 0.8661 - val_loss: 0.3403 - val_acc: 0.8537\n",
      "Epoch 16/30\n",
      "10194/10194 [==============================] - 1s 50us/step - loss: 0.3227 - acc: 0.8666 - val_loss: 0.3360 - val_acc: 0.8560\n",
      "Epoch 17/30\n",
      "10194/10194 [==============================] - 1s 50us/step - loss: 0.3209 - acc: 0.8671 - val_loss: 0.3348 - val_acc: 0.8572\n",
      "Epoch 18/30\n",
      "10194/10194 [==============================] - 1s 56us/step - loss: 0.3199 - acc: 0.8678 - val_loss: 0.3345 - val_acc: 0.8556\n",
      "Epoch 19/30\n",
      "10194/10194 [==============================] - 1s 50us/step - loss: 0.3188 - acc: 0.8677 - val_loss: 0.3337 - val_acc: 0.8564\n",
      "Epoch 20/30\n",
      "10194/10194 [==============================] - 1s 50us/step - loss: 0.3176 - acc: 0.8687 - val_loss: 0.3323 - val_acc: 0.8564\n",
      "Epoch 21/30\n",
      "10194/10194 [==============================] - 1s 53us/step - loss: 0.3171 - acc: 0.8701 - val_loss: 0.3322 - val_acc: 0.8545\n",
      "Epoch 22/30\n",
      "10194/10194 [==============================] - 1s 51us/step - loss: 0.3166 - acc: 0.8689 - val_loss: 0.3326 - val_acc: 0.8552\n",
      "Epoch 23/30\n",
      "10194/10194 [==============================] - 1s 50us/step - loss: 0.3154 - acc: 0.8685 - val_loss: 0.3316 - val_acc: 0.8576\n",
      "Epoch 24/30\n",
      "10194/10194 [==============================] - 1s 51us/step - loss: 0.3142 - acc: 0.8708 - val_loss: 0.3314 - val_acc: 0.8588\n",
      "Epoch 25/30\n",
      "10194/10194 [==============================] - 1s 50us/step - loss: 0.3145 - acc: 0.8697 - val_loss: 0.3305 - val_acc: 0.8588\n",
      "Epoch 26/30\n",
      "10194/10194 [==============================] - 1s 50us/step - loss: 0.3139 - acc: 0.8716 - val_loss: 0.3309 - val_acc: 0.8592\n",
      "Epoch 27/30\n",
      "10194/10194 [==============================] - 1s 53us/step - loss: 0.3117 - acc: 0.8688 - val_loss: 0.3295 - val_acc: 0.8580\n",
      "Epoch 28/30\n",
      "10194/10194 [==============================] - 1s 54us/step - loss: 0.3107 - acc: 0.8713 - val_loss: 0.3290 - val_acc: 0.8603\n",
      "Epoch 29/30\n",
      "10194/10194 [==============================] - 1s 51us/step - loss: 0.3111 - acc: 0.8706 - val_loss: 0.3288 - val_acc: 0.8572\n",
      "Epoch 30/30\n",
      "10194/10194 [==============================] - 1s 52us/step - loss: 0.3098 - acc: 0.8722 - val_loss: 0.3291 - val_acc: 0.8592\n"
     ]
    }
   ],
   "source": [
    "train_history =model.fit(x=train_Features, \n",
    "                         y=train_Label, \n",
    "                         validation_split=0.2, \n",
    "                         epochs=30, \n",
    "                         batch_size=400,verbose=1)"
   ]
  },
  {
   "cell_type": "code",
   "execution_count": 24,
   "metadata": {
    "collapsed": true
   },
   "outputs": [],
   "source": [
    "import matplotlib.pyplot as plt\n",
    "def show_train_history(train_history,train,validation):\n",
    "    plt.plot(train_history.history[train])\n",
    "    plt.plot(train_history.history[validation])\n",
    "    plt.title('Train History')\n",
    "    plt.ylabel(train)\n",
    "    plt.xlabel('Epoch')\n",
    "    plt.legend(['train', 'validation'], loc='upper left')\n",
    "    plt.show()"
   ]
  },
  {
   "cell_type": "code",
   "execution_count": 25,
   "metadata": {
    "collapsed": false
   },
   "outputs": [
    {
     "data": {
      "image/png": "[encoded data removed]",
      "text/plain": [
       "<matplotlib.figure.Figure at 0x7fad0ae8c7b8>"
      ]
     },
     "metadata": {},
     "output_type": "display_data"
    }
   ],
   "source": [
    "show_train_history(train_history,'acc','val_acc')"
   ]
  },
  {
   "cell_type": "code",
   "execution_count": 26,
   "metadata": {
    "collapsed": false
   },
   "outputs": [
    {
     "data": {
      "image/png": "[encoded data removed]",
      "text/plain": [
       "<matplotlib.figure.Figure at 0x7fad186f0b38>"
      ]
     },
     "metadata": {},
     "output_type": "display_data"
    }
   ],
   "source": [
    "show_train_history(train_history,'loss','val_loss')"
   ]
  },
  {
   "cell_type": "code",
   "execution_count": 27,
   "metadata": {
    "collapsed": false
   },
   "outputs": [
    {
     "name": "stdout",
     "output_type": "stream",
     "text": [
      "6277/6277 [==============================] - 0s 29us/step\n"
     ]
    }
   ],
   "source": [
    "scores = model.evaluate(x=test_Features, \n",
    "                        y=test_Label)"
   ]
  },
  {
   "cell_type": "code",
   "execution_count": 28,
   "metadata": {
    "collapsed": false
   },
   "outputs": [
    {
     "data": {
      "text/plain": [
       "0.869364346034667"
      ]
     },
     "execution_count": 28,
     "metadata": {},
     "output_type": "execute_result"
    }
   ],
   "source": [
    "scores[1]"
   ]
  }
 ],
 "metadata": {
  "anaconda-cloud": {},
  "kernelspec": {
   "display_name": "Python [default]",
   "language": "python",
   "name": "python3"
  },
  "language_info": {
   "codemirror_mode": {
    "name": "ipython",
    "version": 3
   },
   "file_extension": ".py",
   "mimetype": "text/x-python",
   "name": "python",
   "nbconvert_exporter": "python",
   "pygments_lexer": "ipython3",
   "version": "3.5.2"
  }
 },
 "nbformat": 4,
 "nbformat_minor": 1
}
