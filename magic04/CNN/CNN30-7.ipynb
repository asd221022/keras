{
 "cells": [
  {
   "cell_type": "code",
   "execution_count": 1,
   "metadata": {
    "collapsed": false
   },
   "outputs": [],
   "source": [
    "import numpy as np\n",
    "import pandas as pd\n",
    "from sklearn.preprocessing import StandardScaler\n",
    "from sklearn.model_selection import train_test_split"
   ]
  },
  {
   "cell_type": "code",
   "execution_count": 2,
   "metadata": {
    "collapsed": false
   },
   "outputs": [],
   "source": [
    "Ynames = ['fLength', 'fWidth', 'fSize', 'fConc', 'fConc1', 'fAsym', \n",
    "             'fM3Long', 'fM3Trans', 'fAlpha', 'fDist', 'identity']\n",
    "featureNames = ['fLength', 'fWidth', 'fSize', 'fConc', 'fConc1', 'fAsym', \n",
    "             'fM3Long', 'fM3Trans', 'fAlpha', 'fDist']\n",
    "filepath = 'magic04.data'\n",
    "data = pd.read_csv(filepath, names=Ynames, header=None)\n",
    "data['identity']= data['identity'].map({'g':1, 'h': 0}).astype(int) \n",
    "X = data[featureNames].values\n",
    "Y = data['identity'].values.astype('int64')"
   ]
  },
  {
   "cell_type": "code",
   "execution_count": 3,
   "metadata": {
    "collapsed": false
   },
   "outputs": [
    {
     "data": {
      "text/plain": [
       "array([[ 0.29623319, -0.27007965,  0.09857045, -0.6467269 , -0.65929349,\n",
       "        -1.0474381 ,  0.7956378 ,  0.68656785, -0.94845301,  1.08819974],\n",
       "       [-0.54145251, -0.09045049,  0.03318556, -0.39892639, -0.43397022,\n",
       "         0.13299571, -0.56759684,  0.56361143, -0.97137764, -0.8113498 ]])"
      ]
     },
     "execution_count": 3,
     "metadata": {},
     "output_type": "execute_result"
    }
   ],
   "source": [
    "X = StandardScaler().fit_transform(X)\n",
    "train_Features, test_Features, train_Label, test_Label = train_test_split(X, Y, test_size=0.33, random_state=None) \n",
    "train_Features[:2]"
   ]
  },
  {
   "cell_type": "code",
   "execution_count": 4,
   "metadata": {
    "collapsed": false
   },
   "outputs": [
    {
     "data": {
      "text/plain": [
       "array([[-5.53682306e-01, -1.22899737e-01,  8.10516444e-04,\n",
       "         2.17019247e-01,  3.92991420e-02,  6.21358878e-01,\n",
       "         3.81833766e-01, -6.48158464e-01, -8.49600529e-02,\n",
       "        -1.83219392e+00],\n",
       "       [ 9.91905928e-01,  8.36737721e-01,  2.18051857e+00,\n",
       "        -1.20851746e+00, -1.17147409e+00,  2.43612290e-01,\n",
       "         1.06269715e+00,  9.41291412e-01, -9.74400288e-01,\n",
       "         2.34040398e+00]])"
      ]
     },
     "execution_count": 4,
     "metadata": {},
     "output_type": "execute_result"
    }
   ],
   "source": [
    "test_Features[:2]"
   ]
  },
  {
   "cell_type": "code",
   "execution_count": 5,
   "metadata": {
    "collapsed": false
   },
   "outputs": [
    {
     "data": {
      "text/plain": [
       "array([1, 1, 1, 1])"
      ]
     },
     "execution_count": 5,
     "metadata": {},
     "output_type": "execute_result"
    }
   ],
   "source": [
    "train_Label[:4]"
   ]
  },
  {
   "cell_type": "code",
   "execution_count": 6,
   "metadata": {
    "collapsed": false
   },
   "outputs": [],
   "source": [
    "train_Features = train_Features.reshape((train_Features.shape[0], train_Features.shape[1], 1))\n",
    "test_Features = test_Features.reshape((test_Features.shape[0], test_Features.shape[1], 1))"
   ]
  },
  {
   "cell_type": "code",
   "execution_count": 7,
   "metadata": {
    "collapsed": false
   },
   "outputs": [
    {
     "data": {
      "text/plain": [
       "(12743, 10, 1)"
      ]
     },
     "execution_count": 7,
     "metadata": {},
     "output_type": "execute_result"
    }
   ],
   "source": [
    "train_Features.shape"
   ]
  },
  {
   "cell_type": "code",
   "execution_count": 8,
   "metadata": {
    "collapsed": false
   },
   "outputs": [
    {
     "name": "stderr",
     "output_type": "stream",
     "text": [
      "Using TensorFlow backend.\n"
     ]
    }
   ],
   "source": [
    "from keras.models import Sequential\n",
    "from keras.layers import Dense,Dropout,Flatten,Conv1D,MaxPooling1D\n",
    "from keras.layers.embeddings import Embedding\n",
    "from keras.callbacks import EarlyStopping\n",
    "early_stopping = EarlyStopping(monitor='val_loss', patience=2)"
   ]
  },
  {
   "cell_type": "code",
   "execution_count": 9,
   "metadata": {
    "collapsed": true
   },
   "outputs": [],
   "source": [
    "model = Sequential()"
   ]
  },
  {
   "cell_type": "code",
   "execution_count": 10,
   "metadata": {
    "collapsed": true
   },
   "outputs": [],
   "source": [
    "model.add(Conv1D(filters=30*7,\n",
    "                 kernel_size=1,\n",
    "                 padding='valid',\n",
    "                 input_shape=(10,1), \n",
    "                 activation='relu'))"
   ]
  },
  {
   "cell_type": "code",
   "execution_count": 11,
   "metadata": {
    "collapsed": true
   },
   "outputs": [],
   "source": [
    "model.add(MaxPooling1D(pool_size=1))"
   ]
  },
  {
   "cell_type": "code",
   "execution_count": 12,
   "metadata": {
    "collapsed": true
   },
   "outputs": [],
   "source": [
    "model.add(Conv1D(filters=30*6,\n",
    "                 kernel_size=1,\n",
    "                 padding='valid', \n",
    "                 activation='relu'))"
   ]
  },
  {
   "cell_type": "code",
   "execution_count": 13,
   "metadata": {
    "collapsed": true
   },
   "outputs": [],
   "source": [
    "model.add(MaxPooling1D(pool_size=1))"
   ]
  },
  {
   "cell_type": "code",
   "execution_count": 14,
   "metadata": {
    "collapsed": true
   },
   "outputs": [],
   "source": [
    "model.add(Conv1D(filters=30*5,\n",
    "                 kernel_size=1,\n",
    "                 padding='valid',\n",
    "                 activation='relu'))"
   ]
  },
  {
   "cell_type": "code",
   "execution_count": 15,
   "metadata": {
    "collapsed": true
   },
   "outputs": [],
   "source": [
    "model.add(MaxPooling1D(pool_size=1))"
   ]
  },
  {
   "cell_type": "code",
   "execution_count": 16,
   "metadata": {
    "collapsed": true
   },
   "outputs": [],
   "source": [
    "model.add(Conv1D(filters=30*4,\n",
    "                 kernel_size=1,\n",
    "                 padding='valid',\n",
    "                 activation='relu'))"
   ]
  },
  {
   "cell_type": "code",
   "execution_count": 17,
   "metadata": {
    "collapsed": true
   },
   "outputs": [],
   "source": [
    "model.add(MaxPooling1D(pool_size=1))"
   ]
  },
  {
   "cell_type": "code",
   "execution_count": 18,
   "metadata": {
    "collapsed": true
   },
   "outputs": [],
   "source": [
    "model.add(Conv1D(filters=30*3,\n",
    "                 kernel_size=1,\n",
    "                 padding='valid',\n",
    "                 activation='relu'))"
   ]
  },
  {
   "cell_type": "code",
   "execution_count": 19,
   "metadata": {
    "collapsed": true
   },
   "outputs": [],
   "source": [
    "model.add(MaxPooling1D(pool_size=1))"
   ]
  },
  {
   "cell_type": "code",
   "execution_count": 20,
   "metadata": {
    "collapsed": true
   },
   "outputs": [],
   "source": [
    "model.add(Conv1D(filters=30*2,\n",
    "                 kernel_size=1,\n",
    "                 padding='valid',\n",
    "                 activation='relu'))"
   ]
  },
  {
   "cell_type": "code",
   "execution_count": 21,
   "metadata": {
    "collapsed": true
   },
   "outputs": [],
   "source": [
    "model.add(MaxPooling1D(pool_size=1))"
   ]
  },
  {
   "cell_type": "code",
   "execution_count": 22,
   "metadata": {
    "collapsed": false
   },
   "outputs": [],
   "source": [
    "model.add(Conv1D(filters=30,\n",
    "                 kernel_size=1,\n",
    "                 padding='valid',\n",
    "                 activation='relu'))"
   ]
  },
  {
   "cell_type": "code",
   "execution_count": 23,
   "metadata": {
    "collapsed": false
   },
   "outputs": [],
   "source": [
    "model.add(MaxPooling1D(pool_size=1))"
   ]
  },
  {
   "cell_type": "code",
   "execution_count": 24,
   "metadata": {
    "collapsed": true
   },
   "outputs": [],
   "source": [
    "model.add(Flatten())"
   ]
  },
  {
   "cell_type": "code",
   "execution_count": 25,
   "metadata": {
    "collapsed": true
   },
   "outputs": [],
   "source": [
    "model.add(Dense(10, activation='tanh'))"
   ]
  },
  {
   "cell_type": "code",
   "execution_count": 26,
   "metadata": {
    "collapsed": true
   },
   "outputs": [],
   "source": [
    "model.add(Dense(1,activation='sigmoid'))"
   ]
  },
  {
   "cell_type": "code",
   "execution_count": 27,
   "metadata": {
    "collapsed": false
   },
   "outputs": [
    {
     "name": "stdout",
     "output_type": "stream",
     "text": [
      "_________________________________________________________________\n",
      "Layer (type)                 Output Shape              Param #   \n",
      "=================================================================\n",
      "conv1d_1 (Conv1D)            (None, 10, 210)           420       \n",
      "_________________________________________________________________\n",
      "max_pooling1d_1 (MaxPooling1 (None, 10, 210)           0         \n",
      "_________________________________________________________________\n",
      "conv1d_2 (Conv1D)            (None, 10, 180)           37980     \n",
      "_________________________________________________________________\n",
      "max_pooling1d_2 (MaxPooling1 (None, 10, 180)           0         \n",
      "_________________________________________________________________\n",
      "conv1d_3 (Conv1D)            (None, 10, 150)           27150     \n",
      "_________________________________________________________________\n",
      "max_pooling1d_3 (MaxPooling1 (None, 10, 150)           0         \n",
      "_________________________________________________________________\n",
      "conv1d_4 (Conv1D)            (None, 10, 120)           18120     \n",
      "_________________________________________________________________\n",
      "max_pooling1d_4 (MaxPooling1 (None, 10, 120)           0         \n",
      "_________________________________________________________________\n",
      "conv1d_5 (Conv1D)            (None, 10, 90)            10890     \n",
      "_________________________________________________________________\n",
      "max_pooling1d_5 (MaxPooling1 (None, 10, 90)            0         \n",
      "_________________________________________________________________\n",
      "conv1d_6 (Conv1D)            (None, 10, 60)            5460      \n",
      "_________________________________________________________________\n",
      "max_pooling1d_6 (MaxPooling1 (None, 10, 60)            0         \n",
      "_________________________________________________________________\n",
      "conv1d_7 (Conv1D)            (None, 10, 30)            1830      \n",
      "_________________________________________________________________\n",
      "max_pooling1d_7 (MaxPooling1 (None, 10, 30)            0         \n",
      "_________________________________________________________________\n",
      "flatten_1 (Flatten)          (None, 300)               0         \n",
      "_________________________________________________________________\n",
      "dense_1 (Dense)              (None, 10)                3010      \n",
      "_________________________________________________________________\n",
      "dense_2 (Dense)              (None, 1)                 11        \n",
      "=================================================================\n",
      "Total params: 104,871\n",
      "Trainable params: 104,871\n",
      "Non-trainable params: 0\n",
      "_________________________________________________________________\n"
     ]
    }
   ],
   "source": [
    "model.summary()"
   ]
  },
  {
   "cell_type": "code",
   "execution_count": 28,
   "metadata": {
    "collapsed": false
   },
   "outputs": [],
   "source": [
    "model.compile(loss='binary_crossentropy', \n",
    "              optimizer='adam', metrics=['accuracy'])"
   ]
  },
  {
   "cell_type": "code",
   "execution_count": 29,
   "metadata": {
    "collapsed": false
   },
   "outputs": [
    {
     "name": "stdout",
     "output_type": "stream",
     "text": [
      "Train on 10194 samples, validate on 2549 samples\n",
      "Epoch 1/30\n",
      "10194/10194 [==============================] - 18s 2ms/step - loss: 0.5541 - acc: 0.7377 - val_loss: 0.4534 - val_acc: 0.7948\n",
      "Epoch 2/30\n",
      "10194/10194 [==============================] - 11s 1ms/step - loss: 0.4134 - acc: 0.8135 - val_loss: 0.3985 - val_acc: 0.8254\n",
      "Epoch 3/30\n",
      "10194/10194 [==============================] - 12s 1ms/step - loss: 0.3678 - acc: 0.8433 - val_loss: 0.3752 - val_acc: 0.8376\n",
      "Epoch 4/30\n",
      "10194/10194 [==============================] - 14s 1ms/step - loss: 0.3513 - acc: 0.8531 - val_loss: 0.3640 - val_acc: 0.8423\n",
      "Epoch 5/30\n",
      "10194/10194 [==============================] - 16s 2ms/step - loss: 0.3439 - acc: 0.8531 - val_loss: 0.3559 - val_acc: 0.8470\n",
      "Epoch 6/30\n",
      "10194/10194 [==============================] - 15s 1ms/step - loss: 0.3367 - acc: 0.8586 - val_loss: 0.3526 - val_acc: 0.8482\n",
      "Epoch 7/30\n",
      "10194/10194 [==============================] - 15s 1ms/step - loss: 0.3346 - acc: 0.8610 - val_loss: 0.3522 - val_acc: 0.8509\n",
      "Epoch 8/30\n",
      "10194/10194 [==============================] - 15s 1ms/step - loss: 0.3317 - acc: 0.8607 - val_loss: 0.3503 - val_acc: 0.8501\n",
      "Epoch 9/30\n",
      "10194/10194 [==============================] - 16s 2ms/step - loss: 0.3295 - acc: 0.8608 - val_loss: 0.3481 - val_acc: 0.8501\n",
      "Epoch 10/30\n",
      "10194/10194 [==============================] - 14s 1ms/step - loss: 0.3277 - acc: 0.8625 - val_loss: 0.3424 - val_acc: 0.8533\n",
      "Epoch 11/30\n",
      "10194/10194 [==============================] - 12s 1ms/step - loss: 0.3258 - acc: 0.8630 - val_loss: 0.3402 - val_acc: 0.8556\n",
      "Epoch 12/30\n",
      "10194/10194 [==============================] - 12s 1ms/step - loss: 0.3244 - acc: 0.8656 - val_loss: 0.3477 - val_acc: 0.8501\n",
      "Epoch 13/30\n",
      "10194/10194 [==============================] - 12s 1ms/step - loss: 0.3246 - acc: 0.8640 - val_loss: 0.3422 - val_acc: 0.8513\n",
      "Epoch 14/30\n",
      "10194/10194 [==============================] - 12s 1ms/step - loss: 0.3256 - acc: 0.8627 - val_loss: 0.3418 - val_acc: 0.8552\n",
      "Epoch 15/30\n",
      "10194/10194 [==============================] - 12s 1ms/step - loss: 0.3213 - acc: 0.8662 - val_loss: 0.3416 - val_acc: 0.8521\n",
      "Epoch 16/30\n",
      "10194/10194 [==============================] - 12s 1ms/step - loss: 0.3212 - acc: 0.8664 - val_loss: 0.3422 - val_acc: 0.8525\n",
      "Epoch 17/30\n",
      "10194/10194 [==============================] - 12s 1ms/step - loss: 0.3206 - acc: 0.8665 - val_loss: 0.3403 - val_acc: 0.8556\n",
      "Epoch 18/30\n",
      "10194/10194 [==============================] - 12s 1ms/step - loss: 0.3190 - acc: 0.8679 - val_loss: 0.3387 - val_acc: 0.8521\n",
      "Epoch 19/30\n",
      "10194/10194 [==============================] - 12s 1ms/step - loss: 0.3161 - acc: 0.8676 - val_loss: 0.3400 - val_acc: 0.8548\n",
      "Epoch 20/30\n",
      "10194/10194 [==============================] - 12s 1ms/step - loss: 0.3147 - acc: 0.8679 - val_loss: 0.3418 - val_acc: 0.8513\n",
      "Epoch 21/30\n",
      "10194/10194 [==============================] - 12s 1ms/step - loss: 0.3145 - acc: 0.8692 - val_loss: 0.3427 - val_acc: 0.8521\n",
      "Epoch 22/30\n",
      "10194/10194 [==============================] - 12s 1ms/step - loss: 0.3163 - acc: 0.8684 - val_loss: 0.3404 - val_acc: 0.8517\n",
      "Epoch 23/30\n",
      "10194/10194 [==============================] - 12s 1ms/step - loss: 0.3136 - acc: 0.8694 - val_loss: 0.3388 - val_acc: 0.8556\n",
      "Epoch 24/30\n",
      "10194/10194 [==============================] - 12s 1ms/step - loss: 0.3165 - acc: 0.8693 - val_loss: 0.3426 - val_acc: 0.8517\n",
      "Epoch 25/30\n",
      "10194/10194 [==============================] - 12s 1ms/step - loss: 0.3145 - acc: 0.8673 - val_loss: 0.3382 - val_acc: 0.8533\n",
      "Epoch 26/30\n",
      "10194/10194 [==============================] - 12s 1ms/step - loss: 0.3138 - acc: 0.8686 - val_loss: 0.3375 - val_acc: 0.8564\n",
      "Epoch 27/30\n",
      "10194/10194 [==============================] - 12s 1ms/step - loss: 0.3111 - acc: 0.8690 - val_loss: 0.3405 - val_acc: 0.8525\n",
      "Epoch 28/30\n",
      "10194/10194 [==============================] - 12s 1ms/step - loss: 0.3102 - acc: 0.8704 - val_loss: 0.3446 - val_acc: 0.8548\n",
      "Epoch 29/30\n",
      "10194/10194 [==============================] - 12s 1ms/step - loss: 0.3134 - acc: 0.8663 - val_loss: 0.3380 - val_acc: 0.8517\n",
      "Epoch 30/30\n",
      "10194/10194 [==============================] - 12s 1ms/step - loss: 0.3122 - acc: 0.8715 - val_loss: 0.3370 - val_acc: 0.8568\n"
     ]
    }
   ],
   "source": [
    "train_history =model.fit(x=train_Features, \n",
    "                         y=train_Label, \n",
    "                         validation_split=0.2, \n",
    "                         epochs=30, \n",
    "                         batch_size=400,verbose=1)"
   ]
  },
  {
   "cell_type": "code",
   "execution_count": 30,
   "metadata": {
    "collapsed": true
   },
   "outputs": [],
   "source": [
    "import matplotlib.pyplot as plt\n",
    "def show_train_history(train_history,train,validation):\n",
    "    plt.plot(train_history.history[train])\n",
    "    plt.plot(train_history.history[validation])\n",
    "    plt.title('Train History')\n",
    "    plt.ylabel(train)\n",
    "    plt.xlabel('Epoch')\n",
    "    plt.legend(['train', 'validation'], loc='upper left')\n",
    "    plt.show()"
   ]
  },
  {
   "cell_type": "code",
   "execution_count": 31,
   "metadata": {
    "collapsed": false
   },
   "outputs": [
    {
     "data": {
      "image/png": "[encoded data removed]",
      "text/plain": [
       "<matplotlib.figure.Figure at 0x7f99d5461dd8>"
      ]
     },
     "metadata": {},
     "output_type": "display_data"
    }
   ],
   "source": [
    "show_train_history(train_history,'acc','val_acc')"
   ]
  },
  {
   "cell_type": "code",
   "execution_count": 32,
   "metadata": {
    "collapsed": false
   },
   "outputs": [
    {
     "data": {
      "image/png": "[encoded data removed]",
      "text/plain": [
       "<matplotlib.figure.Figure at 0x7f99d548a390>"
      ]
     },
     "metadata": {},
     "output_type": "display_data"
    }
   ],
   "source": [
    "show_train_history(train_history,'loss','val_loss')"
   ]
  },
  {
   "cell_type": "code",
   "execution_count": 33,
   "metadata": {
    "collapsed": false
   },
   "outputs": [
    {
     "name": "stdout",
     "output_type": "stream",
     "text": [
      "6277/6277 [==============================] - 2s 330us/step\n"
     ]
    }
   ],
   "source": [
    "scores = model.evaluate(x=test_Features, \n",
    "                        y=test_Label)"
   ]
  },
  {
   "cell_type": "code",
   "execution_count": 34,
   "metadata": {
    "collapsed": false
   },
   "outputs": [
    {
     "data": {
      "text/plain": [
       "0.8690457224978826"
      ]
     },
     "execution_count": 34,
     "metadata": {},
     "output_type": "execute_result"
    }
   ],
   "source": [
    "scores[1]"
   ]
  }
 ],
 "metadata": {
  "anaconda-cloud": {},
  "kernelspec": {
   "display_name": "Python [default]",
   "language": "python",
   "name": "python3"
  },
  "language_info": {
   "codemirror_mode": {
    "name": "ipython",
    "version": 3
   },
   "file_extension": ".py",
   "mimetype": "text/x-python",
   "name": "python",
   "nbconvert_exporter": "python",
   "pygments_lexer": "ipython3",
   "version": "3.5.2"
  }
 },
 "nbformat": 4,
 "nbformat_minor": 1
}
