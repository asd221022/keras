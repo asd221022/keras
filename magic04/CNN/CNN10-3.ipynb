{
 "cells": [
  {
   "cell_type": "code",
   "execution_count": 1,
   "metadata": {
    "collapsed": false
   },
   "outputs": [],
   "source": [
    "import numpy as np\n",
    "import pandas as pd\n",
    "from sklearn.preprocessing import StandardScaler\n",
    "from sklearn.model_selection import train_test_split"
   ]
  },
  {
   "cell_type": "code",
   "execution_count": 2,
   "metadata": {
    "collapsed": false
   },
   "outputs": [],
   "source": [
    "Ynames = ['fLength', 'fWidth', 'fSize', 'fConc', 'fConc1', 'fAsym', \n",
    "             'fM3Long', 'fM3Trans', 'fAlpha', 'fDist', 'identity']\n",
    "featureNames = ['fLength', 'fWidth', 'fSize', 'fConc', 'fConc1', 'fAsym', \n",
    "             'fM3Long', 'fM3Trans', 'fAlpha', 'fDist']\n",
    "filepath = 'magic04.data'\n",
    "data = pd.read_csv(filepath, names=Ynames, header=None)\n",
    "data['identity']= data['identity'].map({'g':1, 'h': 0}).astype(int) \n",
    "X = data[featureNames].values\n",
    "Y = data['identity'].values.astype('int64')"
   ]
  },
  {
   "cell_type": "code",
   "execution_count": 3,
   "metadata": {
    "collapsed": false
   },
   "outputs": [
    {
     "data": {
      "text/plain": [
       "array([[-0.43564268, -0.32041332, -0.12805486, -0.35899386, -0.42492109,\n",
       "        -0.35162619, -0.75075613, -0.45059177, -0.85359778,  0.26508792],\n",
       "       [ 2.04766726,  2.58427639,  1.33241937, -1.28947656, -1.26106045,\n",
       "        -1.46213627, -2.95498349, -0.86091705,  1.90496949, -1.55060888]])"
      ]
     },
     "execution_count": 3,
     "metadata": {},
     "output_type": "execute_result"
    }
   ],
   "source": [
    "X = StandardScaler().fit_transform(X)\n",
    "train_Features, test_Features, train_Label, test_Label = train_test_split(X, Y, test_size=0.33, random_state=None) \n",
    "train_Features[:2]"
   ]
  },
  {
   "cell_type": "code",
   "execution_count": 4,
   "metadata": {
    "collapsed": false
   },
   "outputs": [
    {
     "data": {
      "text/plain": [
       "array([[-0.30431812, -0.09761298, -0.10985712, -0.20801606, -0.27108593,\n",
       "         0.62222199,  0.29257672, -0.64582974,  0.09376698,  0.01779709],\n",
       "       [-0.01250961, -0.70889394, -0.80115954,  0.01352744, -0.08105425,\n",
       "         0.82984301,  0.44300386, -0.33111643, -0.60840312, -0.01868098]])"
      ]
     },
     "execution_count": 4,
     "metadata": {},
     "output_type": "execute_result"
    }
   ],
   "source": [
    "test_Features[:2]"
   ]
  },
  {
   "cell_type": "code",
   "execution_count": 5,
   "metadata": {
    "collapsed": false
   },
   "outputs": [
    {
     "data": {
      "text/plain": [
       "array([1, 0, 1, 1])"
      ]
     },
     "execution_count": 5,
     "metadata": {},
     "output_type": "execute_result"
    }
   ],
   "source": [
    "train_Label[:4]"
   ]
  },
  {
   "cell_type": "code",
   "execution_count": 6,
   "metadata": {
    "collapsed": false
   },
   "outputs": [],
   "source": [
    "train_Features = train_Features.reshape((train_Features.shape[0], train_Features.shape[1], 1))\n",
    "test_Features = test_Features.reshape((test_Features.shape[0], test_Features.shape[1], 1))"
   ]
  },
  {
   "cell_type": "code",
   "execution_count": 7,
   "metadata": {
    "collapsed": false
   },
   "outputs": [
    {
     "data": {
      "text/plain": [
       "(12743, 10, 1)"
      ]
     },
     "execution_count": 7,
     "metadata": {},
     "output_type": "execute_result"
    }
   ],
   "source": [
    "train_Features.shape"
   ]
  },
  {
   "cell_type": "code",
   "execution_count": 8,
   "metadata": {
    "collapsed": false
   },
   "outputs": [
    {
     "name": "stderr",
     "output_type": "stream",
     "text": [
      "Using TensorFlow backend.\n"
     ]
    }
   ],
   "source": [
    "from keras.models import Sequential\n",
    "from keras.layers import Dense,Dropout,Flatten,Conv1D,MaxPooling1D\n",
    "from keras.layers.embeddings import Embedding\n",
    "from keras.callbacks import EarlyStopping\n",
    "early_stopping = EarlyStopping(monitor='val_loss', patience=2)"
   ]
  },
  {
   "cell_type": "code",
   "execution_count": 9,
   "metadata": {
    "collapsed": true
   },
   "outputs": [],
   "source": [
    "model = Sequential()"
   ]
  },
  {
   "cell_type": "code",
   "execution_count": 10,
   "metadata": {
    "collapsed": true
   },
   "outputs": [],
   "source": [
    "model.add(Conv1D(filters=10*3,\n",
    "                 kernel_size=3,\n",
    "                 padding='valid',\n",
    "                 input_shape=(10,1), \n",
    "                 activation='relu'))"
   ]
  },
  {
   "cell_type": "code",
   "execution_count": 11,
   "metadata": {
    "collapsed": true
   },
   "outputs": [],
   "source": [
    "model.add(MaxPooling1D(pool_size=1))"
   ]
  },
  {
   "cell_type": "code",
   "execution_count": 12,
   "metadata": {
    "collapsed": true
   },
   "outputs": [],
   "source": [
    "model.add(Conv1D(filters=10*2,\n",
    "                 kernel_size=3,\n",
    "                 padding='valid', \n",
    "                 activation='relu'))"
   ]
  },
  {
   "cell_type": "code",
   "execution_count": 13,
   "metadata": {
    "collapsed": true
   },
   "outputs": [],
   "source": [
    "model.add(MaxPooling1D(pool_size=1))"
   ]
  },
  {
   "cell_type": "code",
   "execution_count": 14,
   "metadata": {
    "collapsed": true
   },
   "outputs": [],
   "source": [
    "model.add(Conv1D(filters=10,\n",
    "                 kernel_size=3,\n",
    "                 padding='valid',\n",
    "                 activation='relu'))"
   ]
  },
  {
   "cell_type": "code",
   "execution_count": 15,
   "metadata": {
    "collapsed": false
   },
   "outputs": [],
   "source": [
    "model.add(MaxPooling1D(pool_size=1))"
   ]
  },
  {
   "cell_type": "code",
   "execution_count": 16,
   "metadata": {
    "collapsed": true
   },
   "outputs": [],
   "source": [
    "model.add(Flatten())"
   ]
  },
  {
   "cell_type": "code",
   "execution_count": 17,
   "metadata": {
    "collapsed": true
   },
   "outputs": [],
   "source": [
    "model.add(Dense(10, activation='tanh'))"
   ]
  },
  {
   "cell_type": "code",
   "execution_count": 18,
   "metadata": {
    "collapsed": true
   },
   "outputs": [],
   "source": [
    "model.add(Dense(1,activation='sigmoid'))"
   ]
  },
  {
   "cell_type": "code",
   "execution_count": 19,
   "metadata": {
    "collapsed": false
   },
   "outputs": [
    {
     "name": "stdout",
     "output_type": "stream",
     "text": [
      "_________________________________________________________________\n",
      "Layer (type)                 Output Shape              Param #   \n",
      "=================================================================\n",
      "conv1d_1 (Conv1D)            (None, 8, 30)             120       \n",
      "_________________________________________________________________\n",
      "max_pooling1d_1 (MaxPooling1 (None, 8, 30)             0         \n",
      "_________________________________________________________________\n",
      "conv1d_2 (Conv1D)            (None, 6, 20)             1820      \n",
      "_________________________________________________________________\n",
      "max_pooling1d_2 (MaxPooling1 (None, 6, 20)             0         \n",
      "_________________________________________________________________\n",
      "conv1d_3 (Conv1D)            (None, 4, 10)             610       \n",
      "_________________________________________________________________\n",
      "max_pooling1d_3 (MaxPooling1 (None, 4, 10)             0         \n",
      "_________________________________________________________________\n",
      "flatten_1 (Flatten)          (None, 40)                0         \n",
      "_________________________________________________________________\n",
      "dense_1 (Dense)              (None, 10)                410       \n",
      "_________________________________________________________________\n",
      "dense_2 (Dense)              (None, 1)                 11        \n",
      "=================================================================\n",
      "Total params: 2,971\n",
      "Trainable params: 2,971\n",
      "Non-trainable params: 0\n",
      "_________________________________________________________________\n"
     ]
    }
   ],
   "source": [
    "model.summary()"
   ]
  },
  {
   "cell_type": "code",
   "execution_count": 20,
   "metadata": {
    "collapsed": false
   },
   "outputs": [],
   "source": [
    "model.compile(loss='binary_crossentropy', \n",
    "              optimizer='adam', metrics=['accuracy'])"
   ]
  },
  {
   "cell_type": "code",
   "execution_count": 21,
   "metadata": {
    "collapsed": false
   },
   "outputs": [
    {
     "name": "stdout",
     "output_type": "stream",
     "text": [
      "Train on 10194 samples, validate on 2549 samples\n",
      "Epoch 1/30\n",
      "10194/10194 [==============================] - 2s 235us/step - loss: 0.6413 - acc: 0.6795 - val_loss: 0.5816 - val_acc: 0.7313\n",
      "Epoch 2/30\n",
      "10194/10194 [==============================] - 1s 78us/step - loss: 0.5420 - acc: 0.7313 - val_loss: 0.4827 - val_acc: 0.7713\n",
      "Epoch 3/30\n",
      "10194/10194 [==============================] - 1s 61us/step - loss: 0.4613 - acc: 0.7840 - val_loss: 0.4236 - val_acc: 0.8148\n",
      "Epoch 4/30\n",
      "10194/10194 [==============================] - 1s 70us/step - loss: 0.4126 - acc: 0.8157 - val_loss: 0.3953 - val_acc: 0.8211\n",
      "Epoch 5/30\n",
      "10194/10194 [==============================] - 1s 144us/step - loss: 0.3890 - acc: 0.8308 - val_loss: 0.3805 - val_acc: 0.8286\n",
      "Epoch 6/30\n",
      "10194/10194 [==============================] - 1s 100us/step - loss: 0.3753 - acc: 0.8423 - val_loss: 0.3753 - val_acc: 0.8376\n",
      "Epoch 7/30\n",
      "10194/10194 [==============================] - 1s 71us/step - loss: 0.3645 - acc: 0.8461 - val_loss: 0.3636 - val_acc: 0.8470\n",
      "Epoch 8/30\n",
      "10194/10194 [==============================] - 1s 70us/step - loss: 0.3554 - acc: 0.8511 - val_loss: 0.3537 - val_acc: 0.8529\n",
      "Epoch 9/30\n",
      "10194/10194 [==============================] - 1s 79us/step - loss: 0.3516 - acc: 0.8527 - val_loss: 0.3494 - val_acc: 0.8541\n",
      "Epoch 10/30\n",
      "10194/10194 [==============================] - 1s 79us/step - loss: 0.3442 - acc: 0.8580 - val_loss: 0.3499 - val_acc: 0.8541\n",
      "Epoch 11/30\n",
      "10194/10194 [==============================] - 1s 66us/step - loss: 0.3421 - acc: 0.8581 - val_loss: 0.3443 - val_acc: 0.8592\n",
      "Epoch 12/30\n",
      "10194/10194 [==============================] - 1s 67us/step - loss: 0.3374 - acc: 0.8612 - val_loss: 0.3403 - val_acc: 0.8611\n",
      "Epoch 13/30\n",
      "10194/10194 [==============================] - 1s 65us/step - loss: 0.3335 - acc: 0.8630 - val_loss: 0.3408 - val_acc: 0.8599\n",
      "Epoch 14/30\n",
      "10194/10194 [==============================] - 1s 68us/step - loss: 0.3306 - acc: 0.8635 - val_loss: 0.3391 - val_acc: 0.8596\n",
      "Epoch 15/30\n",
      "10194/10194 [==============================] - 1s 72us/step - loss: 0.3288 - acc: 0.8659 - val_loss: 0.3360 - val_acc: 0.8596\n",
      "Epoch 16/30\n",
      "10194/10194 [==============================] - 1s 71us/step - loss: 0.3289 - acc: 0.8652 - val_loss: 0.3385 - val_acc: 0.8592\n",
      "Epoch 17/30\n",
      "10194/10194 [==============================] - 2s 155us/step - loss: 0.3275 - acc: 0.8671 - val_loss: 0.3344 - val_acc: 0.8599\n",
      "Epoch 18/30\n",
      "10194/10194 [==============================] - 1s 77us/step - loss: 0.3255 - acc: 0.8662 - val_loss: 0.3332 - val_acc: 0.8596\n",
      "Epoch 19/30\n",
      "10194/10194 [==============================] - 2s 191us/step - loss: 0.3232 - acc: 0.8674 - val_loss: 0.3341 - val_acc: 0.8607\n",
      "Epoch 20/30\n",
      "10194/10194 [==============================] - 2s 186us/step - loss: 0.3223 - acc: 0.8669 - val_loss: 0.3338 - val_acc: 0.8623\n",
      "Epoch 21/30\n",
      "10194/10194 [==============================] - 2s 168us/step - loss: 0.3222 - acc: 0.8678 - val_loss: 0.3338 - val_acc: 0.8596\n",
      "Epoch 22/30\n",
      "10194/10194 [==============================] - 1s 140us/step - loss: 0.3209 - acc: 0.8667 - val_loss: 0.3305 - val_acc: 0.8596\n",
      "Epoch 23/30\n",
      "10194/10194 [==============================] - 2s 187us/step - loss: 0.3209 - acc: 0.8686 - val_loss: 0.3299 - val_acc: 0.8607\n",
      "Epoch 24/30\n",
      "10194/10194 [==============================] - 2s 207us/step - loss: 0.3185 - acc: 0.8686 - val_loss: 0.3331 - val_acc: 0.8584\n",
      "Epoch 25/30\n",
      "10194/10194 [==============================] - 2s 171us/step - loss: 0.3201 - acc: 0.8655 - val_loss: 0.3347 - val_acc: 0.8607\n",
      "Epoch 26/30\n",
      "10194/10194 [==============================] - 2s 153us/step - loss: 0.3175 - acc: 0.8680 - val_loss: 0.3353 - val_acc: 0.8599\n",
      "Epoch 27/30\n",
      "10194/10194 [==============================] - 2s 173us/step - loss: 0.3166 - acc: 0.8687 - val_loss: 0.3292 - val_acc: 0.8631\n",
      "Epoch 28/30\n",
      "10194/10194 [==============================] - 2s 159us/step - loss: 0.3150 - acc: 0.8693 - val_loss: 0.3284 - val_acc: 0.8615\n",
      "Epoch 29/30\n",
      "10194/10194 [==============================] - 1s 146us/step - loss: 0.3144 - acc: 0.8713 - val_loss: 0.3292 - val_acc: 0.8603\n",
      "Epoch 30/30\n",
      "10194/10194 [==============================] - 2s 153us/step - loss: 0.3139 - acc: 0.8687 - val_loss: 0.3290 - val_acc: 0.8623\n"
     ]
    }
   ],
   "source": [
    "train_history =model.fit(x=train_Features, \n",
    "                         y=train_Label, \n",
    "                         validation_split=0.2, \n",
    "                         epochs=30, \n",
    "                         batch_size=400,verbose=1)"
   ]
  },
  {
   "cell_type": "code",
   "execution_count": 22,
   "metadata": {
    "collapsed": true
   },
   "outputs": [],
   "source": [
    "import matplotlib.pyplot as plt\n",
    "def show_train_history(train_history,train,validation):\n",
    "    plt.plot(train_history.history[train])\n",
    "    plt.plot(train_history.history[validation])\n",
    "    plt.title('Train History')\n",
    "    plt.ylabel(train)\n",
    "    plt.xlabel('Epoch')\n",
    "    plt.legend(['train', 'validation'], loc='upper left')\n",
    "    plt.show()"
   ]
  },
  {
   "cell_type": "code",
   "execution_count": 23,
   "metadata": {
    "collapsed": false
   },
   "outputs": [
    {
     "data": {
      "image/png": "[encoded data removed]",
      "text/plain": [
       "<matplotlib.figure.Figure at 0x7f6d2c53c780>"
      ]
     },
     "metadata": {},
     "output_type": "display_data"
    }
   ],
   "source": [
    "show_train_history(train_history,'acc','val_acc')"
   ]
  },
  {
   "cell_type": "code",
   "execution_count": 24,
   "metadata": {
    "collapsed": false
   },
   "outputs": [
    {
     "data": {
      "image/png": "[encoded data removed]",
      "text/plain": [
       "<matplotlib.figure.Figure at 0x7f6d2d53e128>"
      ]
     },
     "metadata": {},
     "output_type": "display_data"
    }
   ],
   "source": [
    "show_train_history(train_history,'loss','val_loss')"
   ]
  },
  {
   "cell_type": "code",
   "execution_count": 25,
   "metadata": {
    "collapsed": false
   },
   "outputs": [
    {
     "name": "stdout",
     "output_type": "stream",
     "text": [
      "6277/6277 [==============================] - 1s 198us/step\n"
     ]
    }
   ],
   "source": [
    "scores = model.evaluate(x=test_Features, \n",
    "                        y=test_Label)"
   ]
  },
  {
   "cell_type": "code",
   "execution_count": 26,
   "metadata": {
    "collapsed": false
   },
   "outputs": [
    {
     "data": {
      "text/plain": [
       "0.8676119165301266"
      ]
     },
     "execution_count": 26,
     "metadata": {},
     "output_type": "execute_result"
    }
   ],
   "source": [
    "scores[1]"
   ]
  }
 ],
 "metadata": {
  "anaconda-cloud": {},
  "kernelspec": {
   "display_name": "Python [default]",
   "language": "python",
   "name": "python3"
  },
  "language_info": {
   "codemirror_mode": {
    "name": "ipython",
    "version": 3
   },
   "file_extension": ".py",
   "mimetype": "text/x-python",
   "name": "python",
   "nbconvert_exporter": "python",
   "pygments_lexer": "ipython3",
   "version": "3.5.2"
  }
 },
 "nbformat": 4,
 "nbformat_minor": 1
}
