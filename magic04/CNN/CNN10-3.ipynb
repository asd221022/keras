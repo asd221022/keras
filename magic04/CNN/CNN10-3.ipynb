{
 "cells": [
  {
   "cell_type": "code",
   "execution_count": 1,
   "metadata": {
    "collapsed": false
   },
   "outputs": [],
   "source": [
    "import numpy as np\n",
    "import pandas as pd\n",
    "from sklearn.preprocessing import StandardScaler\n",
    "from sklearn.model_selection import train_test_split"
   ]
  },
  {
   "cell_type": "code",
   "execution_count": 2,
   "metadata": {
    "collapsed": false
   },
   "outputs": [],
   "source": [
    "Ynames = ['fLength', 'fWidth', 'fSize', 'fConc', 'fConc1', 'fAsym', \n",
    "             'fM3Long', 'fM3Trans', 'fAlpha', 'fDist', 'identity']\n",
    "featureNames = ['fLength', 'fWidth', 'fSize', 'fConc', 'fConc1', 'fAsym', \n",
    "             'fM3Long', 'fM3Trans', 'fAlpha', 'fDist']\n",
    "filepath = 'magic04.data'\n",
    "data = pd.read_csv(filepath, names=Ynames, header=None)\n",
    "data['identity']= data['identity'].map({'g':1, 'h': 0}).astype(int) \n",
    "X = data[featureNames].values\n",
    "Y = data['identity'].values.astype('int64')"
   ]
  },
  {
   "cell_type": "code",
   "execution_count": 3,
   "metadata": {
    "collapsed": false
   },
   "outputs": [
    {
     "data": {
      "text/plain": [
       "array([[-0.86609806, -0.58137544, -0.84326825,  1.15680131,  0.95507083,\n",
       "         0.05200356, -0.0980797 , -0.25484965, -1.05136482, -1.56617563],\n",
       "       [ 0.87242876, -0.17189248,  0.41681926, -0.91586123, -0.94886556,\n",
       "         1.44175759,  1.74208598,  0.25010329, -0.94256479, -0.33985129]])"
      ]
     },
     "execution_count": 3,
     "metadata": {},
     "output_type": "execute_result"
    }
   ],
   "source": [
    "X = StandardScaler().fit_transform(X)\n",
    "train_Features, test_Features, train_Label, test_Label = train_test_split(X, Y, test_size=0.33, random_state=None) \n",
    "train_Features[:2]"
   ]
  },
  {
   "cell_type": "code",
   "execution_count": 4,
   "metadata": {
    "collapsed": false
   },
   "outputs": [
    {
     "data": {
      "text/plain": [
       "array([[-0.9018881 , -0.54819033, -0.98842695,  1.51838218,  1.33151452,\n",
       "         0.03023326, -0.18496414, -0.31040763,  0.58886841, -1.70425839],\n",
       "       [ 0.10615555, -0.58942098,  0.5420874 , -0.53786972, -0.6176675 ,\n",
       "         0.48511418,  0.49520707,  0.2889377 , -0.08985605, -0.86622749]])"
      ]
     },
     "execution_count": 4,
     "metadata": {},
     "output_type": "execute_result"
    }
   ],
   "source": [
    "test_Features[:2]"
   ]
  },
  {
   "cell_type": "code",
   "execution_count": 5,
   "metadata": {
    "collapsed": false
   },
   "outputs": [
    {
     "data": {
      "text/plain": [
       "array([1, 1, 0, 0])"
      ]
     },
     "execution_count": 5,
     "metadata": {},
     "output_type": "execute_result"
    }
   ],
   "source": [
    "train_Label[:4]"
   ]
  },
  {
   "cell_type": "code",
   "execution_count": 6,
   "metadata": {
    "collapsed": false
   },
   "outputs": [],
   "source": [
    "train_Features = train_Features.reshape((train_Features.shape[0], train_Features.shape[1], 1))\n",
    "test_Features = test_Features.reshape((test_Features.shape[0], test_Features.shape[1], 1))"
   ]
  },
  {
   "cell_type": "code",
   "execution_count": 7,
   "metadata": {
    "collapsed": false
   },
   "outputs": [
    {
     "data": {
      "text/plain": [
       "(12743, 10, 1)"
      ]
     },
     "execution_count": 7,
     "metadata": {},
     "output_type": "execute_result"
    }
   ],
   "source": [
    "train_Features.shape"
   ]
  },
  {
   "cell_type": "code",
   "execution_count": 8,
   "metadata": {
    "collapsed": false
   },
   "outputs": [
    {
     "name": "stderr",
     "output_type": "stream",
     "text": [
      "Using TensorFlow backend.\n"
     ]
    }
   ],
   "source": [
    "from keras.models import Sequential\n",
    "from keras.layers import Dense,Dropout,Flatten,Conv1D,MaxPooling1D\n",
    "from keras.layers.embeddings import Embedding\n",
    "from keras.callbacks import EarlyStopping\n",
    "early_stopping = EarlyStopping(monitor='val_loss', patience=2)"
   ]
  },
  {
   "cell_type": "code",
   "execution_count": 9,
   "metadata": {
    "collapsed": true
   },
   "outputs": [],
   "source": [
    "model = Sequential()"
   ]
  },
  {
   "cell_type": "code",
   "execution_count": 10,
   "metadata": {
    "collapsed": true
   },
   "outputs": [],
   "source": [
    "model.add(Conv1D(filters=10*3,\n",
    "                 kernel_size=1,\n",
    "                 padding='valid',\n",
    "                 input_shape=(10,1), \n",
    "                 activation='relu'))"
   ]
  },
  {
   "cell_type": "code",
   "execution_count": 11,
   "metadata": {
    "collapsed": true
   },
   "outputs": [],
   "source": [
    "model.add(MaxPooling1D(pool_size=1))"
   ]
  },
  {
   "cell_type": "code",
   "execution_count": 12,
   "metadata": {
    "collapsed": true
   },
   "outputs": [],
   "source": [
    "model.add(Conv1D(filters=10*2,\n",
    "                 kernel_size=1,\n",
    "                 padding='valid', \n",
    "                 activation='relu'))"
   ]
  },
  {
   "cell_type": "code",
   "execution_count": 13,
   "metadata": {
    "collapsed": true
   },
   "outputs": [],
   "source": [
    "model.add(MaxPooling1D(pool_size=1))"
   ]
  },
  {
   "cell_type": "code",
   "execution_count": 14,
   "metadata": {
    "collapsed": true
   },
   "outputs": [],
   "source": [
    "model.add(Conv1D(filters=10,\n",
    "                 kernel_size=1,\n",
    "                 padding='valid',\n",
    "                 activation='relu'))"
   ]
  },
  {
   "cell_type": "code",
   "execution_count": 15,
   "metadata": {
    "collapsed": false
   },
   "outputs": [],
   "source": [
    "model.add(MaxPooling1D(pool_size=1))"
   ]
  },
  {
   "cell_type": "code",
   "execution_count": 16,
   "metadata": {
    "collapsed": true
   },
   "outputs": [],
   "source": [
    "model.add(Flatten())"
   ]
  },
  {
   "cell_type": "code",
   "execution_count": 17,
   "metadata": {
    "collapsed": true
   },
   "outputs": [],
   "source": [
    "model.add(Dense(10, activation='tanh'))"
   ]
  },
  {
   "cell_type": "code",
   "execution_count": 18,
   "metadata": {
    "collapsed": true
   },
   "outputs": [],
   "source": [
    "model.add(Dense(1,activation='sigmoid'))"
   ]
  },
  {
   "cell_type": "code",
   "execution_count": 19,
   "metadata": {
    "collapsed": false
   },
   "outputs": [
    {
     "name": "stdout",
     "output_type": "stream",
     "text": [
      "_________________________________________________________________\n",
      "Layer (type)                 Output Shape              Param #   \n",
      "=================================================================\n",
      "conv1d_1 (Conv1D)            (None, 10, 30)            60        \n",
      "_________________________________________________________________\n",
      "max_pooling1d_1 (MaxPooling1 (None, 10, 30)            0         \n",
      "_________________________________________________________________\n",
      "conv1d_2 (Conv1D)            (None, 10, 20)            620       \n",
      "_________________________________________________________________\n",
      "max_pooling1d_2 (MaxPooling1 (None, 10, 20)            0         \n",
      "_________________________________________________________________\n",
      "conv1d_3 (Conv1D)            (None, 10, 10)            210       \n",
      "_________________________________________________________________\n",
      "max_pooling1d_3 (MaxPooling1 (None, 10, 10)            0         \n",
      "_________________________________________________________________\n",
      "flatten_1 (Flatten)          (None, 100)               0         \n",
      "_________________________________________________________________\n",
      "dense_1 (Dense)              (None, 10)                1010      \n",
      "_________________________________________________________________\n",
      "dense_2 (Dense)              (None, 1)                 11        \n",
      "=================================================================\n",
      "Total params: 1,911\n",
      "Trainable params: 1,911\n",
      "Non-trainable params: 0\n",
      "_________________________________________________________________\n"
     ]
    }
   ],
   "source": [
    "model.summary()"
   ]
  },
  {
   "cell_type": "code",
   "execution_count": 20,
   "metadata": {
    "collapsed": false
   },
   "outputs": [],
   "source": [
    "model.compile(loss='binary_crossentropy', \n",
    "              optimizer='adam', metrics=['accuracy'])"
   ]
  },
  {
   "cell_type": "code",
   "execution_count": 21,
   "metadata": {
    "collapsed": false
   },
   "outputs": [
    {
     "name": "stdout",
     "output_type": "stream",
     "text": [
      "Train on 10194 samples, validate on 2549 samples\n",
      "Epoch 1/30\n",
      "10194/10194 [==============================] - 5s 526us/step - loss: 0.6368 - acc: 0.6666 - val_loss: 0.5810 - val_acc: 0.7015\n",
      "Epoch 2/30\n",
      "10194/10194 [==============================] - 1s 138us/step - loss: 0.5381 - acc: 0.7393 - val_loss: 0.4923 - val_acc: 0.7701\n",
      "Epoch 3/30\n",
      "10194/10194 [==============================] - 0s 43us/step - loss: 0.4627 - acc: 0.7920 - val_loss: 0.4305 - val_acc: 0.8152\n",
      "Epoch 4/30\n",
      "10194/10194 [==============================] - 1s 51us/step - loss: 0.4140 - acc: 0.8254 - val_loss: 0.3976 - val_acc: 0.8309\n",
      "Epoch 5/30\n",
      "10194/10194 [==============================] - 1s 140us/step - loss: 0.3883 - acc: 0.8354 - val_loss: 0.3811 - val_acc: 0.8384\n",
      "Epoch 6/30\n",
      "10194/10194 [==============================] - 2s 154us/step - loss: 0.3758 - acc: 0.8417 - val_loss: 0.3666 - val_acc: 0.8419\n",
      "Epoch 7/30\n",
      "10194/10194 [==============================] - 1s 104us/step - loss: 0.3665 - acc: 0.8438 - val_loss: 0.3596 - val_acc: 0.8450\n",
      "Epoch 8/30\n",
      "10194/10194 [==============================] - 0s 45us/step - loss: 0.3582 - acc: 0.8481 - val_loss: 0.3520 - val_acc: 0.8545\n",
      "Epoch 9/30\n",
      "10194/10194 [==============================] - 1s 50us/step - loss: 0.3535 - acc: 0.8505 - val_loss: 0.3475 - val_acc: 0.8548\n",
      "Epoch 10/30\n",
      "10194/10194 [==============================] - 1s 57us/step - loss: 0.3504 - acc: 0.8503 - val_loss: 0.3430 - val_acc: 0.8568\n",
      "Epoch 11/30\n",
      "10194/10194 [==============================] - 1s 51us/step - loss: 0.3467 - acc: 0.8543 - val_loss: 0.3446 - val_acc: 0.8592\n",
      "Epoch 12/30\n",
      "10194/10194 [==============================] - 1s 84us/step - loss: 0.3446 - acc: 0.8556 - val_loss: 0.3381 - val_acc: 0.8603\n",
      "Epoch 13/30\n",
      "10194/10194 [==============================] - 1s 88us/step - loss: 0.3426 - acc: 0.8593 - val_loss: 0.3383 - val_acc: 0.8615\n",
      "Epoch 14/30\n",
      "10194/10194 [==============================] - 1s 77us/step - loss: 0.3407 - acc: 0.8583 - val_loss: 0.3340 - val_acc: 0.8623\n",
      "Epoch 15/30\n",
      "10194/10194 [==============================] - 0s 44us/step - loss: 0.3378 - acc: 0.8595 - val_loss: 0.3324 - val_acc: 0.8662\n",
      "Epoch 16/30\n",
      "10194/10194 [==============================] - 1s 71us/step - loss: 0.3369 - acc: 0.8600 - val_loss: 0.3309 - val_acc: 0.8666\n",
      "Epoch 17/30\n",
      "10194/10194 [==============================] - 1s 147us/step - loss: 0.3347 - acc: 0.8609 - val_loss: 0.3319 - val_acc: 0.8666\n",
      "Epoch 18/30\n",
      "10194/10194 [==============================] - 2s 161us/step - loss: 0.3340 - acc: 0.8616 - val_loss: 0.3295 - val_acc: 0.8658\n",
      "Epoch 19/30\n",
      "10194/10194 [==============================] - 1s 136us/step - loss: 0.3328 - acc: 0.8625 - val_loss: 0.3270 - val_acc: 0.8694\n",
      "Epoch 20/30\n",
      "10194/10194 [==============================] - 1s 115us/step - loss: 0.3309 - acc: 0.8624 - val_loss: 0.3266 - val_acc: 0.8686\n",
      "Epoch 21/30\n",
      "10194/10194 [==============================] - 1s 63us/step - loss: 0.3294 - acc: 0.8634 - val_loss: 0.3274 - val_acc: 0.8666\n",
      "Epoch 22/30\n",
      "10194/10194 [==============================] - 1s 89us/step - loss: 0.3283 - acc: 0.8657 - val_loss: 0.3246 - val_acc: 0.8682\n",
      "Epoch 23/30\n",
      "10194/10194 [==============================] - 1s 132us/step - loss: 0.3281 - acc: 0.8628 - val_loss: 0.3243 - val_acc: 0.8678\n",
      "Epoch 24/30\n",
      "10194/10194 [==============================] - 1s 131us/step - loss: 0.3260 - acc: 0.8667 - val_loss: 0.3239 - val_acc: 0.8713\n",
      "Epoch 25/30\n",
      "10194/10194 [==============================] - 1s 129us/step - loss: 0.3253 - acc: 0.8663 - val_loss: 0.3238 - val_acc: 0.8709\n",
      "Epoch 26/30\n",
      "10194/10194 [==============================] - 1s 135us/step - loss: 0.3243 - acc: 0.8672 - val_loss: 0.3223 - val_acc: 0.8733\n",
      "Epoch 27/30\n",
      "10194/10194 [==============================] - 1s 144us/step - loss: 0.3234 - acc: 0.8679 - val_loss: 0.3225 - val_acc: 0.8729\n",
      "Epoch 28/30\n",
      "10194/10194 [==============================] - 1s 145us/step - loss: 0.3224 - acc: 0.8662 - val_loss: 0.3238 - val_acc: 0.8686\n",
      "Epoch 29/30\n",
      "10194/10194 [==============================] - 1s 129us/step - loss: 0.3215 - acc: 0.8670 - val_loss: 0.3211 - val_acc: 0.8701\n",
      "Epoch 30/30\n",
      "10194/10194 [==============================] - 1s 143us/step - loss: 0.3209 - acc: 0.8680 - val_loss: 0.3217 - val_acc: 0.8698\n"
     ]
    }
   ],
   "source": [
    "train_history =model.fit(x=train_Features, \n",
    "                         y=train_Label, \n",
    "                         validation_split=0.2, \n",
    "                         epochs=30, \n",
    "                         batch_size=400,verbose=1)"
   ]
  },
  {
   "cell_type": "code",
   "execution_count": 22,
   "metadata": {
    "collapsed": true
   },
   "outputs": [],
   "source": [
    "import matplotlib.pyplot as plt\n",
    "def show_train_history(train_history,train,validation):\n",
    "    plt.plot(train_history.history[train])\n",
    "    plt.plot(train_history.history[validation])\n",
    "    plt.title('Train History')\n",
    "    plt.ylabel(train)\n",
    "    plt.xlabel('Epoch')\n",
    "    plt.legend(['train', 'validation'], loc='upper left')\n",
    "    plt.show()"
   ]
  },
  {
   "cell_type": "code",
   "execution_count": 23,
   "metadata": {
    "collapsed": false
   },
   "outputs": [
    {
     "data": {
      "image/png": "[encoded data removed]",
      "text/plain": [
       "<matplotlib.figure.Figure at 0x7feb3f168c88>"
      ]
     },
     "metadata": {},
     "output_type": "display_data"
    }
   ],
   "source": [
    "show_train_history(train_history,'acc','val_acc')"
   ]
  },
  {
   "cell_type": "code",
   "execution_count": 24,
   "metadata": {
    "collapsed": false
   },
   "outputs": [
    {
     "data": {
      "image/png": "[encoded data removed]",
      "text/plain": [
       "<matplotlib.figure.Figure at 0x7feb4f944320>"
      ]
     },
     "metadata": {},
     "output_type": "display_data"
    }
   ],
   "source": [
    "show_train_history(train_history,'loss','val_loss')"
   ]
  },
  {
   "cell_type": "code",
   "execution_count": 25,
   "metadata": {
    "collapsed": false
   },
   "outputs": [
    {
     "name": "stdout",
     "output_type": "stream",
     "text": [
      "6277/6277 [==============================] - 1s 148us/step\n"
     ]
    }
   ],
   "source": [
    "scores = model.evaluate(x=test_Features, \n",
    "                        y=test_Label)"
   ]
  },
  {
   "cell_type": "code",
   "execution_count": 26,
   "metadata": {
    "collapsed": false
   },
   "outputs": [
    {
     "data": {
      "text/plain": [
       "0.8685677871594711"
      ]
     },
     "execution_count": 26,
     "metadata": {},
     "output_type": "execute_result"
    }
   ],
   "source": [
    "scores[1]"
   ]
  }
 ],
 "metadata": {
  "anaconda-cloud": {},
  "kernelspec": {
   "display_name": "Python [default]",
   "language": "python",
   "name": "python3"
  },
  "language_info": {
   "codemirror_mode": {
    "name": "ipython",
    "version": 3
   },
   "file_extension": ".py",
   "mimetype": "text/x-python",
   "name": "python",
   "nbconvert_exporter": "python",
   "pygments_lexer": "ipython3",
   "version": "3.5.2"
  }
 },
 "nbformat": 4,
 "nbformat_minor": 1
}
