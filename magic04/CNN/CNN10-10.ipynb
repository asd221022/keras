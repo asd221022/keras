{
 "cells": [
  {
   "cell_type": "code",
   "execution_count": 1,
   "metadata": {
    "collapsed": false
   },
   "outputs": [],
   "source": [
    "import numpy as np\n",
    "import pandas as pd\n",
    "from sklearn.preprocessing import StandardScaler\n",
    "from sklearn.model_selection import train_test_split"
   ]
  },
  {
   "cell_type": "code",
   "execution_count": 2,
   "metadata": {
    "collapsed": false
   },
   "outputs": [],
   "source": [
    "Ynames = ['fLength', 'fWidth', 'fSize', 'fConc', 'fConc1', 'fAsym', \n",
    "             'fM3Long', 'fM3Trans', 'fAlpha', 'fDist', 'identity']\n",
    "featureNames = ['fLength', 'fWidth', 'fSize', 'fConc', 'fConc1', 'fAsym', \n",
    "             'fM3Long', 'fM3Trans', 'fAlpha', 'fDist']\n",
    "filepath = 'magic04.data'\n",
    "data = pd.read_csv(filepath, names=Ynames, header=None)\n",
    "data['identity']= data['identity'].map({'g':1, 'h': 0}).astype(int) \n",
    "X = data[featureNames].values\n",
    "Y = data['identity'].values.astype('int64')"
   ]
  },
  {
   "cell_type": "code",
   "execution_count": 3,
   "metadata": {
    "collapsed": false
   },
   "outputs": [
    {
     "data": {
      "text/plain": [
       "array([[-0.84681978, -0.71934333, -0.16995197,  0.83734105,  0.6618791 ,\n",
       "         0.2493551 ,  0.17503077, -0.26225834,  0.64767023, -0.42771849],\n",
       "       [ 0.10359675, -0.1211827 ,  0.1973884 , -0.33766004, -0.47378638,\n",
       "         0.65076711,  0.95606714,  0.87308152, -1.0353896 , -1.07409631]])"
      ]
     },
     "execution_count": 3,
     "metadata": {},
     "output_type": "execute_result"
    }
   ],
   "source": [
    "X = StandardScaler().fit_transform(X)\n",
    "train_Features, test_Features, train_Label, test_Label = train_test_split(X, Y, test_size=0.33, random_state=None) \n",
    "train_Features[:2]"
   ]
  },
  {
   "cell_type": "code",
   "execution_count": 4,
   "metadata": {
    "collapsed": false
   },
   "outputs": [
    {
     "data": {
      "text/plain": [
       "array([[-0.50932126,  0.02131488, -0.3453697 , -0.45964572, -0.39505897,\n",
       "         0.5464389 ,  0.08731494, -0.48061066,  0.02491265, -0.98315537],\n",
       "       [ 1.04436352,  0.77598737,  2.50363421, -1.43334308, -1.3922728 ,\n",
       "         1.40922121,  1.45773603, -1.03445231, -0.9853684 ,  1.48076056]])"
      ]
     },
     "execution_count": 4,
     "metadata": {},
     "output_type": "execute_result"
    }
   ],
   "source": [
    "test_Features[:2]"
   ]
  },
  {
   "cell_type": "code",
   "execution_count": 5,
   "metadata": {
    "collapsed": false
   },
   "outputs": [
    {
     "data": {
      "text/plain": [
       "array([0, 1, 0, 1])"
      ]
     },
     "execution_count": 5,
     "metadata": {},
     "output_type": "execute_result"
    }
   ],
   "source": [
    "train_Label[:4]"
   ]
  },
  {
   "cell_type": "code",
   "execution_count": 6,
   "metadata": {
    "collapsed": false
   },
   "outputs": [],
   "source": [
    "train_Features = train_Features.reshape((train_Features.shape[0], train_Features.shape[1], 1))\n",
    "test_Features = test_Features.reshape((test_Features.shape[0], test_Features.shape[1], 1))"
   ]
  },
  {
   "cell_type": "code",
   "execution_count": 7,
   "metadata": {
    "collapsed": false
   },
   "outputs": [
    {
     "data": {
      "text/plain": [
       "(12743, 10, 1)"
      ]
     },
     "execution_count": 7,
     "metadata": {},
     "output_type": "execute_result"
    }
   ],
   "source": [
    "train_Features.shape"
   ]
  },
  {
   "cell_type": "code",
   "execution_count": 8,
   "metadata": {
    "collapsed": false
   },
   "outputs": [
    {
     "name": "stderr",
     "output_type": "stream",
     "text": [
      "Using TensorFlow backend.\n"
     ]
    }
   ],
   "source": [
    "from keras.models import Sequential\n",
    "from keras.layers import Dense,Dropout,Flatten,Conv1D,MaxPooling1D\n",
    "from keras.layers.embeddings import Embedding\n",
    "from keras.callbacks import EarlyStopping\n",
    "early_stopping = EarlyStopping(monitor='val_loss', patience=2)"
   ]
  },
  {
   "cell_type": "code",
   "execution_count": 9,
   "metadata": {
    "collapsed": true
   },
   "outputs": [],
   "source": [
    "model = Sequential()"
   ]
  },
  {
   "cell_type": "code",
   "execution_count": 10,
   "metadata": {
    "collapsed": true
   },
   "outputs": [],
   "source": [
    "model.add(Conv1D(filters=10*10,\n",
    "                 kernel_size=1,\n",
    "                 padding='valid',\n",
    "                 input_shape=(10,1), \n",
    "                 activation='relu'))"
   ]
  },
  {
   "cell_type": "code",
   "execution_count": 11,
   "metadata": {
    "collapsed": true
   },
   "outputs": [],
   "source": [
    "model.add(MaxPooling1D(pool_size=1))"
   ]
  },
  {
   "cell_type": "code",
   "execution_count": 12,
   "metadata": {
    "collapsed": true
   },
   "outputs": [],
   "source": [
    "model.add(Conv1D(filters=10*9,\n",
    "                 kernel_size=1,\n",
    "                 padding='valid',\n",
    "                 activation='relu'))"
   ]
  },
  {
   "cell_type": "code",
   "execution_count": 13,
   "metadata": {
    "collapsed": true
   },
   "outputs": [],
   "source": [
    "model.add(MaxPooling1D(pool_size=1))"
   ]
  },
  {
   "cell_type": "code",
   "execution_count": 14,
   "metadata": {
    "collapsed": true
   },
   "outputs": [],
   "source": [
    "model.add(Conv1D(filters=10*8,\n",
    "                 kernel_size=1,\n",
    "                 padding='valid',\n",
    "                 activation='relu'))"
   ]
  },
  {
   "cell_type": "code",
   "execution_count": 15,
   "metadata": {
    "collapsed": true
   },
   "outputs": [],
   "source": [
    "model.add(MaxPooling1D(pool_size=1))"
   ]
  },
  {
   "cell_type": "code",
   "execution_count": 16,
   "metadata": {
    "collapsed": true
   },
   "outputs": [],
   "source": [
    "model.add(Conv1D(filters=10*7,\n",
    "                 kernel_size=1,\n",
    "                 padding='valid',\n",
    "                 activation='relu'))"
   ]
  },
  {
   "cell_type": "code",
   "execution_count": 17,
   "metadata": {
    "collapsed": true
   },
   "outputs": [],
   "source": [
    "model.add(MaxPooling1D(pool_size=1))"
   ]
  },
  {
   "cell_type": "code",
   "execution_count": 18,
   "metadata": {
    "collapsed": true
   },
   "outputs": [],
   "source": [
    "model.add(Conv1D(filters=10*6,\n",
    "                 kernel_size=1,\n",
    "                 padding='valid', \n",
    "                 activation='relu'))"
   ]
  },
  {
   "cell_type": "code",
   "execution_count": 19,
   "metadata": {
    "collapsed": true
   },
   "outputs": [],
   "source": [
    "model.add(MaxPooling1D(pool_size=1))"
   ]
  },
  {
   "cell_type": "code",
   "execution_count": 20,
   "metadata": {
    "collapsed": true
   },
   "outputs": [],
   "source": [
    "model.add(Conv1D(filters=10*5,\n",
    "                 kernel_size=1,\n",
    "                 padding='valid',\n",
    "                 activation='relu'))"
   ]
  },
  {
   "cell_type": "code",
   "execution_count": 21,
   "metadata": {
    "collapsed": true
   },
   "outputs": [],
   "source": [
    "model.add(MaxPooling1D(pool_size=1))"
   ]
  },
  {
   "cell_type": "code",
   "execution_count": 22,
   "metadata": {
    "collapsed": true
   },
   "outputs": [],
   "source": [
    "model.add(Conv1D(filters=10*4,\n",
    "                 kernel_size=1,\n",
    "                 padding='valid',\n",
    "                 activation='relu'))"
   ]
  },
  {
   "cell_type": "code",
   "execution_count": 23,
   "metadata": {
    "collapsed": true
   },
   "outputs": [],
   "source": [
    "model.add(MaxPooling1D(pool_size=1))"
   ]
  },
  {
   "cell_type": "code",
   "execution_count": 24,
   "metadata": {
    "collapsed": true
   },
   "outputs": [],
   "source": [
    "model.add(Conv1D(filters=10*3,\n",
    "                 kernel_size=1,\n",
    "                 padding='valid',\n",
    "                 activation='relu'))"
   ]
  },
  {
   "cell_type": "code",
   "execution_count": 25,
   "metadata": {
    "collapsed": true
   },
   "outputs": [],
   "source": [
    "model.add(MaxPooling1D(pool_size=1))"
   ]
  },
  {
   "cell_type": "code",
   "execution_count": 26,
   "metadata": {
    "collapsed": true
   },
   "outputs": [],
   "source": [
    "model.add(Conv1D(filters=10*2,\n",
    "                 kernel_size=1,\n",
    "                 padding='valid',\n",
    "                 activation='relu'))"
   ]
  },
  {
   "cell_type": "code",
   "execution_count": 27,
   "metadata": {
    "collapsed": true
   },
   "outputs": [],
   "source": [
    "model.add(MaxPooling1D(pool_size=1))"
   ]
  },
  {
   "cell_type": "code",
   "execution_count": 28,
   "metadata": {
    "collapsed": false
   },
   "outputs": [],
   "source": [
    "model.add(Conv1D(filters=10,\n",
    "                 kernel_size=1,\n",
    "                 padding='valid',\n",
    "                 activation='relu'))"
   ]
  },
  {
   "cell_type": "code",
   "execution_count": 29,
   "metadata": {
    "collapsed": false
   },
   "outputs": [],
   "source": [
    "model.add(MaxPooling1D(pool_size=1))"
   ]
  },
  {
   "cell_type": "code",
   "execution_count": 30,
   "metadata": {
    "collapsed": true
   },
   "outputs": [],
   "source": [
    "model.add(Flatten())"
   ]
  },
  {
   "cell_type": "code",
   "execution_count": 31,
   "metadata": {
    "collapsed": true
   },
   "outputs": [],
   "source": [
    "model.add(Dense(10, activation='tanh'))"
   ]
  },
  {
   "cell_type": "code",
   "execution_count": 32,
   "metadata": {
    "collapsed": true
   },
   "outputs": [],
   "source": [
    "model.add(Dense(1,activation='sigmoid'))"
   ]
  },
  {
   "cell_type": "code",
   "execution_count": 33,
   "metadata": {
    "collapsed": false
   },
   "outputs": [
    {
     "name": "stdout",
     "output_type": "stream",
     "text": [
      "_________________________________________________________________\n",
      "Layer (type)                 Output Shape              Param #   \n",
      "=================================================================\n",
      "conv1d_1 (Conv1D)            (None, 10, 100)           200       \n",
      "_________________________________________________________________\n",
      "max_pooling1d_1 (MaxPooling1 (None, 10, 100)           0         \n",
      "_________________________________________________________________\n",
      "conv1d_2 (Conv1D)            (None, 10, 90)            9090      \n",
      "_________________________________________________________________\n",
      "max_pooling1d_2 (MaxPooling1 (None, 10, 90)            0         \n",
      "_________________________________________________________________\n",
      "conv1d_3 (Conv1D)            (None, 10, 80)            7280      \n",
      "_________________________________________________________________\n",
      "max_pooling1d_3 (MaxPooling1 (None, 10, 80)            0         \n",
      "_________________________________________________________________\n",
      "conv1d_4 (Conv1D)            (None, 10, 70)            5670      \n",
      "_________________________________________________________________\n",
      "max_pooling1d_4 (MaxPooling1 (None, 10, 70)            0         \n",
      "_________________________________________________________________\n",
      "conv1d_5 (Conv1D)            (None, 10, 60)            4260      \n",
      "_________________________________________________________________\n",
      "max_pooling1d_5 (MaxPooling1 (None, 10, 60)            0         \n",
      "_________________________________________________________________\n",
      "conv1d_6 (Conv1D)            (None, 10, 50)            3050      \n",
      "_________________________________________________________________\n",
      "max_pooling1d_6 (MaxPooling1 (None, 10, 50)            0         \n",
      "_________________________________________________________________\n",
      "conv1d_7 (Conv1D)            (None, 10, 40)            2040      \n",
      "_________________________________________________________________\n",
      "max_pooling1d_7 (MaxPooling1 (None, 10, 40)            0         \n",
      "_________________________________________________________________\n",
      "conv1d_8 (Conv1D)            (None, 10, 30)            1230      \n",
      "_________________________________________________________________\n",
      "max_pooling1d_8 (MaxPooling1 (None, 10, 30)            0         \n",
      "_________________________________________________________________\n",
      "conv1d_9 (Conv1D)            (None, 10, 20)            620       \n",
      "_________________________________________________________________\n",
      "max_pooling1d_9 (MaxPooling1 (None, 10, 20)            0         \n",
      "_________________________________________________________________\n",
      "conv1d_10 (Conv1D)           (None, 10, 10)            210       \n",
      "_________________________________________________________________\n",
      "max_pooling1d_10 (MaxPooling (None, 10, 10)            0         \n",
      "_________________________________________________________________\n",
      "flatten_1 (Flatten)          (None, 100)               0         \n",
      "_________________________________________________________________\n",
      "dense_1 (Dense)              (None, 10)                1010      \n",
      "_________________________________________________________________\n",
      "dense_2 (Dense)              (None, 1)                 11        \n",
      "=================================================================\n",
      "Total params: 34,671\n",
      "Trainable params: 34,671\n",
      "Non-trainable params: 0\n",
      "_________________________________________________________________\n"
     ]
    }
   ],
   "source": [
    "model.summary()"
   ]
  },
  {
   "cell_type": "code",
   "execution_count": 34,
   "metadata": {
    "collapsed": false
   },
   "outputs": [],
   "source": [
    "model.compile(loss='binary_crossentropy', \n",
    "              optimizer='adam', metrics=['accuracy'])"
   ]
  },
  {
   "cell_type": "code",
   "execution_count": 35,
   "metadata": {
    "collapsed": false
   },
   "outputs": [
    {
     "name": "stdout",
     "output_type": "stream",
     "text": [
      "Train on 10194 samples, validate on 2549 samples\n",
      "Epoch 1/30\n",
      "10194/10194 [==============================] - 9s 875us/step - loss: 0.6446 - acc: 0.6815 - val_loss: 0.5962 - val_acc: 0.7144\n",
      "Epoch 2/30\n",
      "10194/10194 [==============================] - 6s 608us/step - loss: 0.5229 - acc: 0.7456 - val_loss: 0.4748 - val_acc: 0.7611\n",
      "Epoch 3/30\n",
      "10194/10194 [==============================] - 6s 608us/step - loss: 0.4136 - acc: 0.8186 - val_loss: 0.4032 - val_acc: 0.8219\n",
      "Epoch 4/30\n",
      "10194/10194 [==============================] - 6s 600us/step - loss: 0.3743 - acc: 0.8419 - val_loss: 0.3697 - val_acc: 0.8443\n",
      "Epoch 5/30\n",
      "10194/10194 [==============================] - 6s 601us/step - loss: 0.3581 - acc: 0.8518 - val_loss: 0.3646 - val_acc: 0.8450\n",
      "Epoch 6/30\n",
      "10194/10194 [==============================] - 6s 609us/step - loss: 0.3535 - acc: 0.8545 - val_loss: 0.3619 - val_acc: 0.8446\n",
      "Epoch 7/30\n",
      "10194/10194 [==============================] - 7s 668us/step - loss: 0.3454 - acc: 0.8541 - val_loss: 0.3526 - val_acc: 0.8478\n",
      "Epoch 8/30\n",
      "10194/10194 [==============================] - 6s 633us/step - loss: 0.3410 - acc: 0.8597 - val_loss: 0.3514 - val_acc: 0.8490\n",
      "Epoch 9/30\n",
      "10194/10194 [==============================] - 7s 638us/step - loss: 0.3399 - acc: 0.8588 - val_loss: 0.3498 - val_acc: 0.8497\n",
      "Epoch 10/30\n",
      "10194/10194 [==============================] - 6s 627us/step - loss: 0.3377 - acc: 0.8596 - val_loss: 0.3517 - val_acc: 0.8497\n",
      "Epoch 11/30\n",
      "10194/10194 [==============================] - 6s 617us/step - loss: 0.3355 - acc: 0.8627 - val_loss: 0.3598 - val_acc: 0.8486\n",
      "Epoch 12/30\n",
      "10194/10194 [==============================] - 6s 607us/step - loss: 0.3354 - acc: 0.8583 - val_loss: 0.3507 - val_acc: 0.8509\n",
      "Epoch 13/30\n",
      "10194/10194 [==============================] - 6s 607us/step - loss: 0.3355 - acc: 0.8602 - val_loss: 0.3508 - val_acc: 0.8517\n",
      "Epoch 14/30\n",
      "10194/10194 [==============================] - 6s 611us/step - loss: 0.3350 - acc: 0.8606 - val_loss: 0.3607 - val_acc: 0.8497\n",
      "Epoch 15/30\n",
      "10194/10194 [==============================] - 6s 594us/step - loss: 0.3371 - acc: 0.8598 - val_loss: 0.3495 - val_acc: 0.8482\n",
      "Epoch 16/30\n",
      "10194/10194 [==============================] - 9s 851us/step - loss: 0.3319 - acc: 0.8607 - val_loss: 0.3475 - val_acc: 0.8497\n",
      "Epoch 17/30\n",
      "10194/10194 [==============================] - 4s 410us/step - loss: 0.3323 - acc: 0.8604 - val_loss: 0.3426 - val_acc: 0.8572\n",
      "Epoch 18/30\n",
      "10194/10194 [==============================] - 4s 438us/step - loss: 0.3287 - acc: 0.8627 - val_loss: 0.3453 - val_acc: 0.8568\n",
      "Epoch 19/30\n",
      "10194/10194 [==============================] - 5s 520us/step - loss: 0.3294 - acc: 0.8638 - val_loss: 0.3420 - val_acc: 0.8548\n",
      "Epoch 20/30\n",
      "10194/10194 [==============================] - 3s 292us/step - loss: 0.3270 - acc: 0.8617 - val_loss: 0.3437 - val_acc: 0.8497\n",
      "Epoch 21/30\n",
      "10194/10194 [==============================] - 3s 303us/step - loss: 0.3268 - acc: 0.8625 - val_loss: 0.3431 - val_acc: 0.8525\n",
      "Epoch 22/30\n",
      "10194/10194 [==============================] - 3s 312us/step - loss: 0.3263 - acc: 0.8639 - val_loss: 0.3451 - val_acc: 0.8505\n",
      "Epoch 23/30\n",
      "10194/10194 [==============================] - 3s 337us/step - loss: 0.3271 - acc: 0.8632 - val_loss: 0.3449 - val_acc: 0.8525\n",
      "Epoch 24/30\n",
      "10194/10194 [==============================] - 3s 296us/step - loss: 0.3266 - acc: 0.8631 - val_loss: 0.3486 - val_acc: 0.8497\n",
      "Epoch 25/30\n",
      "10194/10194 [==============================] - 3s 285us/step - loss: 0.3281 - acc: 0.8635 - val_loss: 0.3409 - val_acc: 0.8552\n",
      "Epoch 26/30\n",
      "10194/10194 [==============================] - 3s 279us/step - loss: 0.3244 - acc: 0.8646 - val_loss: 0.3460 - val_acc: 0.8478\n",
      "Epoch 27/30\n",
      "10194/10194 [==============================] - 3s 279us/step - loss: 0.3243 - acc: 0.8651 - val_loss: 0.3441 - val_acc: 0.8517\n",
      "Epoch 28/30\n",
      "10194/10194 [==============================] - 3s 285us/step - loss: 0.3225 - acc: 0.8641 - val_loss: 0.3405 - val_acc: 0.8560\n",
      "Epoch 29/30\n",
      "10194/10194 [==============================] - 3s 310us/step - loss: 0.3233 - acc: 0.8644 - val_loss: 0.3428 - val_acc: 0.8572\n",
      "Epoch 30/30\n",
      "10194/10194 [==============================] - 3s 276us/step - loss: 0.3245 - acc: 0.8639 - val_loss: 0.3409 - val_acc: 0.8556\n"
     ]
    }
   ],
   "source": [
    "train_history =model.fit(x=train_Features, \n",
    "                         y=train_Label, \n",
    "                         validation_split=0.2, \n",
    "                         epochs=30, \n",
    "                         batch_size=400,verbose=1)"
   ]
  },
  {
   "cell_type": "code",
   "execution_count": 36,
   "metadata": {
    "collapsed": true
   },
   "outputs": [],
   "source": [
    "import matplotlib.pyplot as plt\n",
    "def show_train_history(train_history,train,validation):\n",
    "    plt.plot(train_history.history[train])\n",
    "    plt.plot(train_history.history[validation])\n",
    "    plt.title('Train History')\n",
    "    plt.ylabel(train)\n",
    "    plt.xlabel('Epoch')\n",
    "    plt.legend(['train', 'validation'], loc='upper left')\n",
    "    plt.show()"
   ]
  },
  {
   "cell_type": "code",
   "execution_count": 37,
   "metadata": {
    "collapsed": false
   },
   "outputs": [
    {
     "data": {
      "image/png": "[encoded data removed]",
      "text/plain": [
       "<matplotlib.figure.Figure at 0x7f9660131f60>"
      ]
     },
     "metadata": {},
     "output_type": "display_data"
    }
   ],
   "source": [
    "show_train_history(train_history,'acc','val_acc')"
   ]
  },
  {
   "cell_type": "code",
   "execution_count": 38,
   "metadata": {
    "collapsed": false
   },
   "outputs": [
    {
     "data": {
      "image/png": "[encoded data removed]",
      "text/plain": [
       "<matplotlib.figure.Figure at 0x7f96600c70f0>"
      ]
     },
     "metadata": {},
     "output_type": "display_data"
    }
   ],
   "source": [
    "show_train_history(train_history,'loss','val_loss')"
   ]
  },
  {
   "cell_type": "code",
   "execution_count": 39,
   "metadata": {
    "collapsed": false
   },
   "outputs": [
    {
     "name": "stdout",
     "output_type": "stream",
     "text": [
      "6277/6277 [==============================] - 0s 76us/step\n"
     ]
    }
   ],
   "source": [
    "scores = model.evaluate(x=test_Features, \n",
    "                        y=test_Label)"
   ]
  },
  {
   "cell_type": "code",
   "execution_count": 40,
   "metadata": {
    "collapsed": false
   },
   "outputs": [
    {
     "data": {
      "text/plain": [
       "0.8615580691460574"
      ]
     },
     "execution_count": 40,
     "metadata": {},
     "output_type": "execute_result"
    }
   ],
   "source": [
    "scores[1]"
   ]
  }
 ],
 "metadata": {
  "anaconda-cloud": {},
  "kernelspec": {
   "display_name": "Python [default]",
   "language": "python",
   "name": "python3"
  },
  "language_info": {
   "codemirror_mode": {
    "name": "ipython",
    "version": 3
   },
   "file_extension": ".py",
   "mimetype": "text/x-python",
   "name": "python",
   "nbconvert_exporter": "python",
   "pygments_lexer": "ipython3",
   "version": "3.5.2"
  }
 },
 "nbformat": 4,
 "nbformat_minor": 1
}
