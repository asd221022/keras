{
 "cells": [
  {
   "cell_type": "code",
   "execution_count": 1,
   "metadata": {
    "collapsed": false
   },
   "outputs": [],
   "source": [
    "import numpy as np\n",
    "import pandas as pd\n",
    "from sklearn.preprocessing import StandardScaler\n",
    "from sklearn.model_selection import train_test_split"
   ]
  },
  {
   "cell_type": "code",
   "execution_count": 2,
   "metadata": {
    "collapsed": false
   },
   "outputs": [],
   "source": [
    "Ynames = ['fLength', 'fWidth', 'fSize', 'fConc', 'fConc1', 'fAsym', \n",
    "             'fM3Long', 'fM3Trans', 'fAlpha', 'fDist', 'identity']\n",
    "featureNames = ['fLength', 'fWidth', 'fSize', 'fConc', 'fConc1', 'fAsym', \n",
    "             'fM3Long', 'fM3Trans', 'fAlpha', 'fDist']\n",
    "filepath = 'magic04.data'\n",
    "data = pd.read_csv(filepath, names=Ynames, header=None)\n",
    "data['identity']= data['identity'].map({'g':1, 'h': 0}).astype(int) \n",
    "X = data[featureNames].values\n",
    "Y = data['identity'].values.astype('int64')"
   ]
  },
  {
   "cell_type": "code",
   "execution_count": 3,
   "metadata": {
    "collapsed": false
   },
   "outputs": [
    {
     "data": {
      "text/plain": [
       "array([[-0.13021876, -0.2829983 ,  0.74966857, -0.54935716, -0.31633156,\n",
       "         0.16493585,  0.17216599,  0.48780559, -1.00629325,  0.61149581],\n",
       "       [-0.72713252, -1.11543341, -1.50388844,  2.25686052,  2.02377276,\n",
       "         0.03346105, -0.29585111,  1.07095551, -0.35322874,  0.23570608]])"
      ]
     },
     "execution_count": 3,
     "metadata": {},
     "output_type": "execute_result"
    }
   ],
   "source": [
    "X = StandardScaler().fit_transform(X)\n",
    "train_Features, test_Features, train_Label, test_Label = train_test_split(X, Y, test_size=0.33, random_state=None) \n",
    "train_Features[:2]"
   ]
  },
  {
   "cell_type": "code",
   "execution_count": 4,
   "metadata": {
    "collapsed": false
   },
   "outputs": [
    {
     "data": {
      "text/plain": [
       "array([[ 0.31761704,  0.31755527,  0.02091267, -0.93719504, -0.69368017,\n",
       "        -0.9042767 , -1.15736   , -1.16301206, -0.66948055, -0.4803909 ],\n",
       "       [-0.869162  , -0.41885123, -0.80179434,  0.13168397,  0.35963825,\n",
       "        -0.31855607, -0.51488577,  0.5628624 ,  0.04265012, -1.01750578]])"
      ]
     },
     "execution_count": 4,
     "metadata": {},
     "output_type": "execute_result"
    }
   ],
   "source": [
    "test_Features[:2]"
   ]
  },
  {
   "cell_type": "code",
   "execution_count": 5,
   "metadata": {
    "collapsed": false
   },
   "outputs": [
    {
     "data": {
      "text/plain": [
       "array([1, 0, 0, 0])"
      ]
     },
     "execution_count": 5,
     "metadata": {},
     "output_type": "execute_result"
    }
   ],
   "source": [
    "train_Label[:4]"
   ]
  },
  {
   "cell_type": "code",
   "execution_count": 6,
   "metadata": {
    "collapsed": false
   },
   "outputs": [],
   "source": [
    "train_Features = train_Features.reshape((train_Features.shape[0], train_Features.shape[1], 1))\n",
    "test_Features = test_Features.reshape((test_Features.shape[0], test_Features.shape[1], 1))"
   ]
  },
  {
   "cell_type": "code",
   "execution_count": 7,
   "metadata": {
    "collapsed": false
   },
   "outputs": [
    {
     "data": {
      "text/plain": [
       "(12743, 10, 1)"
      ]
     },
     "execution_count": 7,
     "metadata": {},
     "output_type": "execute_result"
    }
   ],
   "source": [
    "train_Features.shape"
   ]
  },
  {
   "cell_type": "code",
   "execution_count": 8,
   "metadata": {
    "collapsed": false
   },
   "outputs": [
    {
     "name": "stderr",
     "output_type": "stream",
     "text": [
      "Using TensorFlow backend.\n"
     ]
    }
   ],
   "source": [
    "from keras.models import Sequential\n",
    "from keras.layers import Dense,Dropout,Flatten,Conv1D,MaxPooling1D\n",
    "from keras.layers.embeddings import Embedding\n",
    "from keras.callbacks import EarlyStopping\n",
    "early_stopping = EarlyStopping(monitor='val_loss', patience=2)"
   ]
  },
  {
   "cell_type": "code",
   "execution_count": 9,
   "metadata": {
    "collapsed": true
   },
   "outputs": [],
   "source": [
    "model = Sequential()"
   ]
  },
  {
   "cell_type": "code",
   "execution_count": 10,
   "metadata": {
    "collapsed": true
   },
   "outputs": [],
   "source": [
    "model.add(Conv1D(filters=20*6,\n",
    "                 kernel_size=1,\n",
    "                 padding='valid',\n",
    "                 input_shape=(10,1), \n",
    "                 activation='relu'))"
   ]
  },
  {
   "cell_type": "code",
   "execution_count": 11,
   "metadata": {
    "collapsed": true
   },
   "outputs": [],
   "source": [
    "model.add(MaxPooling1D(pool_size=1))"
   ]
  },
  {
   "cell_type": "code",
   "execution_count": 12,
   "metadata": {
    "collapsed": true
   },
   "outputs": [],
   "source": [
    "model.add(Conv1D(filters=20*5,\n",
    "                 kernel_size=1,\n",
    "                 padding='valid', \n",
    "                 activation='relu'))"
   ]
  },
  {
   "cell_type": "code",
   "execution_count": 13,
   "metadata": {
    "collapsed": true
   },
   "outputs": [],
   "source": [
    "model.add(MaxPooling1D(pool_size=1))"
   ]
  },
  {
   "cell_type": "code",
   "execution_count": 14,
   "metadata": {
    "collapsed": true
   },
   "outputs": [],
   "source": [
    "model.add(Conv1D(filters=20*4,\n",
    "                 kernel_size=1,\n",
    "                 padding='valid',\n",
    "                 activation='relu'))"
   ]
  },
  {
   "cell_type": "code",
   "execution_count": 15,
   "metadata": {
    "collapsed": true
   },
   "outputs": [],
   "source": [
    "model.add(MaxPooling1D(pool_size=1))"
   ]
  },
  {
   "cell_type": "code",
   "execution_count": 16,
   "metadata": {
    "collapsed": true
   },
   "outputs": [],
   "source": [
    "model.add(Conv1D(filters=20*3,\n",
    "                 kernel_size=1,\n",
    "                 padding='valid',\n",
    "                 activation='relu'))"
   ]
  },
  {
   "cell_type": "code",
   "execution_count": 17,
   "metadata": {
    "collapsed": true
   },
   "outputs": [],
   "source": [
    "model.add(MaxPooling1D(pool_size=1))"
   ]
  },
  {
   "cell_type": "code",
   "execution_count": 18,
   "metadata": {
    "collapsed": true
   },
   "outputs": [],
   "source": [
    "model.add(Conv1D(filters=20*2,\n",
    "                 kernel_size=1,\n",
    "                 padding='valid',\n",
    "                 activation='relu'))"
   ]
  },
  {
   "cell_type": "code",
   "execution_count": 19,
   "metadata": {
    "collapsed": true
   },
   "outputs": [],
   "source": [
    "model.add(MaxPooling1D(pool_size=1))"
   ]
  },
  {
   "cell_type": "code",
   "execution_count": 20,
   "metadata": {
    "collapsed": false
   },
   "outputs": [],
   "source": [
    "model.add(Conv1D(filters=20,\n",
    "                 kernel_size=1,\n",
    "                 padding='valid',\n",
    "                 activation='relu'))"
   ]
  },
  {
   "cell_type": "code",
   "execution_count": 21,
   "metadata": {
    "collapsed": false
   },
   "outputs": [],
   "source": [
    "model.add(MaxPooling1D(pool_size=1))"
   ]
  },
  {
   "cell_type": "code",
   "execution_count": 22,
   "metadata": {
    "collapsed": true
   },
   "outputs": [],
   "source": [
    "model.add(Flatten())"
   ]
  },
  {
   "cell_type": "code",
   "execution_count": 23,
   "metadata": {
    "collapsed": true
   },
   "outputs": [],
   "source": [
    "model.add(Dense(10, activation='tanh'))"
   ]
  },
  {
   "cell_type": "code",
   "execution_count": 24,
   "metadata": {
    "collapsed": true
   },
   "outputs": [],
   "source": [
    "model.add(Dense(1,activation='sigmoid'))"
   ]
  },
  {
   "cell_type": "code",
   "execution_count": 25,
   "metadata": {
    "collapsed": false
   },
   "outputs": [
    {
     "name": "stdout",
     "output_type": "stream",
     "text": [
      "_________________________________________________________________\n",
      "Layer (type)                 Output Shape              Param #   \n",
      "=================================================================\n",
      "conv1d_1 (Conv1D)            (None, 10, 120)           240       \n",
      "_________________________________________________________________\n",
      "max_pooling1d_1 (MaxPooling1 (None, 10, 120)           0         \n",
      "_________________________________________________________________\n",
      "conv1d_2 (Conv1D)            (None, 10, 100)           12100     \n",
      "_________________________________________________________________\n",
      "max_pooling1d_2 (MaxPooling1 (None, 10, 100)           0         \n",
      "_________________________________________________________________\n",
      "conv1d_3 (Conv1D)            (None, 10, 80)            8080      \n",
      "_________________________________________________________________\n",
      "max_pooling1d_3 (MaxPooling1 (None, 10, 80)            0         \n",
      "_________________________________________________________________\n",
      "conv1d_4 (Conv1D)            (None, 10, 60)            4860      \n",
      "_________________________________________________________________\n",
      "max_pooling1d_4 (MaxPooling1 (None, 10, 60)            0         \n",
      "_________________________________________________________________\n",
      "conv1d_5 (Conv1D)            (None, 10, 40)            2440      \n",
      "_________________________________________________________________\n",
      "max_pooling1d_5 (MaxPooling1 (None, 10, 40)            0         \n",
      "_________________________________________________________________\n",
      "conv1d_6 (Conv1D)            (None, 10, 20)            820       \n",
      "_________________________________________________________________\n",
      "max_pooling1d_6 (MaxPooling1 (None, 10, 20)            0         \n",
      "_________________________________________________________________\n",
      "flatten_1 (Flatten)          (None, 200)               0         \n",
      "_________________________________________________________________\n",
      "dense_1 (Dense)              (None, 10)                2010      \n",
      "_________________________________________________________________\n",
      "dense_2 (Dense)              (None, 1)                 11        \n",
      "=================================================================\n",
      "Total params: 30,561\n",
      "Trainable params: 30,561\n",
      "Non-trainable params: 0\n",
      "_________________________________________________________________\n"
     ]
    }
   ],
   "source": [
    "model.summary()"
   ]
  },
  {
   "cell_type": "code",
   "execution_count": 26,
   "metadata": {
    "collapsed": false
   },
   "outputs": [],
   "source": [
    "model.compile(loss='binary_crossentropy', \n",
    "              optimizer='adam', metrics=['accuracy'])"
   ]
  },
  {
   "cell_type": "code",
   "execution_count": 27,
   "metadata": {
    "collapsed": false
   },
   "outputs": [
    {
     "name": "stdout",
     "output_type": "stream",
     "text": [
      "Train on 10194 samples, validate on 2549 samples\n",
      "Epoch 1/30\n",
      "10194/10194 [==============================] - 4s 360us/step - loss: 0.6216 - acc: 0.6827 - val_loss: 0.4938 - val_acc: 0.7697\n",
      "Epoch 2/30\n",
      "10194/10194 [==============================] - 2s 234us/step - loss: 0.4515 - acc: 0.7907 - val_loss: 0.4006 - val_acc: 0.8176\n",
      "Epoch 3/30\n",
      "10194/10194 [==============================] - 2s 232us/step - loss: 0.4060 - acc: 0.8209 - val_loss: 0.3756 - val_acc: 0.8337\n",
      "Epoch 4/30\n",
      "10194/10194 [==============================] - 2s 233us/step - loss: 0.3822 - acc: 0.8376 - val_loss: 0.3546 - val_acc: 0.8497\n",
      "Epoch 5/30\n",
      "10194/10194 [==============================] - 2s 237us/step - loss: 0.3626 - acc: 0.8501 - val_loss: 0.3413 - val_acc: 0.8537\n",
      "Epoch 6/30\n",
      "10194/10194 [==============================] - 2s 240us/step - loss: 0.3528 - acc: 0.8532 - val_loss: 0.3291 - val_acc: 0.8584\n",
      "Epoch 7/30\n",
      "10194/10194 [==============================] - 3s 260us/step - loss: 0.3430 - acc: 0.8590 - val_loss: 0.3240 - val_acc: 0.8615\n",
      "Epoch 8/30\n",
      "10194/10194 [==============================] - 3s 253us/step - loss: 0.3401 - acc: 0.8609 - val_loss: 0.3234 - val_acc: 0.8619\n",
      "Epoch 9/30\n",
      "10194/10194 [==============================] - 2s 235us/step - loss: 0.3389 - acc: 0.8604 - val_loss: 0.3210 - val_acc: 0.8607\n",
      "Epoch 10/30\n",
      "10194/10194 [==============================] - 3s 245us/step - loss: 0.3343 - acc: 0.8634 - val_loss: 0.3158 - val_acc: 0.8643\n",
      "Epoch 11/30\n",
      "10194/10194 [==============================] - 3s 246us/step - loss: 0.3330 - acc: 0.8641 - val_loss: 0.3161 - val_acc: 0.8713\n",
      "Epoch 12/30\n",
      "10194/10194 [==============================] - 2s 239us/step - loss: 0.3302 - acc: 0.8658 - val_loss: 0.3132 - val_acc: 0.8690\n",
      "Epoch 13/30\n",
      "10194/10194 [==============================] - 2s 237us/step - loss: 0.3294 - acc: 0.8663 - val_loss: 0.3141 - val_acc: 0.8658\n",
      "Epoch 14/30\n",
      "10194/10194 [==============================] - 2s 236us/step - loss: 0.3287 - acc: 0.8629 - val_loss: 0.3134 - val_acc: 0.8666\n",
      "Epoch 15/30\n",
      "10194/10194 [==============================] - 2s 243us/step - loss: 0.3301 - acc: 0.8646 - val_loss: 0.3163 - val_acc: 0.8678\n",
      "Epoch 16/30\n",
      "10194/10194 [==============================] - 3s 251us/step - loss: 0.3267 - acc: 0.8689 - val_loss: 0.3139 - val_acc: 0.8698\n",
      "Epoch 17/30\n",
      "10194/10194 [==============================] - 2s 234us/step - loss: 0.3256 - acc: 0.8665 - val_loss: 0.3104 - val_acc: 0.8694\n",
      "Epoch 18/30\n",
      "10194/10194 [==============================] - 3s 252us/step - loss: 0.3247 - acc: 0.8682 - val_loss: 0.3110 - val_acc: 0.8678\n",
      "Epoch 19/30\n",
      "10194/10194 [==============================] - 3s 270us/step - loss: 0.3236 - acc: 0.8683 - val_loss: 0.3074 - val_acc: 0.8705\n",
      "Epoch 20/30\n",
      "10194/10194 [==============================] - 3s 257us/step - loss: 0.3234 - acc: 0.8684 - val_loss: 0.3080 - val_acc: 0.8701\n",
      "Epoch 21/30\n",
      "10194/10194 [==============================] - 3s 255us/step - loss: 0.3234 - acc: 0.8679 - val_loss: 0.3090 - val_acc: 0.8709\n",
      "Epoch 22/30\n",
      "10194/10194 [==============================] - 3s 251us/step - loss: 0.3217 - acc: 0.8695 - val_loss: 0.3157 - val_acc: 0.8682\n",
      "Epoch 23/30\n",
      "10194/10194 [==============================] - 3s 252us/step - loss: 0.3221 - acc: 0.8686 - val_loss: 0.3084 - val_acc: 0.8772\n",
      "Epoch 24/30\n",
      "10194/10194 [==============================] - 3s 275us/step - loss: 0.3184 - acc: 0.8685 - val_loss: 0.3067 - val_acc: 0.8705\n",
      "Epoch 25/30\n",
      "10194/10194 [==============================] - 5s 447us/step - loss: 0.3186 - acc: 0.8713 - val_loss: 0.3075 - val_acc: 0.8733\n",
      "Epoch 26/30\n",
      "10194/10194 [==============================] - 6s 598us/step - loss: 0.3182 - acc: 0.8701 - val_loss: 0.3094 - val_acc: 0.8725\n",
      "Epoch 27/30\n",
      "10194/10194 [==============================] - 4s 369us/step - loss: 0.3163 - acc: 0.8749 - val_loss: 0.3086 - val_acc: 0.8725\n",
      "Epoch 28/30\n",
      "10194/10194 [==============================] - 5s 498us/step - loss: 0.3173 - acc: 0.8714 - val_loss: 0.3136 - val_acc: 0.8701\n",
      "Epoch 29/30\n",
      "10194/10194 [==============================] - 7s 703us/step - loss: 0.3173 - acc: 0.8725 - val_loss: 0.3111 - val_acc: 0.8709\n",
      "Epoch 30/30\n",
      "10194/10194 [==============================] - 8s 779us/step - loss: 0.3136 - acc: 0.8728 - val_loss: 0.3097 - val_acc: 0.8694\n"
     ]
    }
   ],
   "source": [
    "train_history =model.fit(x=train_Features, \n",
    "                         y=train_Label, \n",
    "                         validation_split=0.2, \n",
    "                         epochs=30, \n",
    "                         batch_size=400,verbose=1)"
   ]
  },
  {
   "cell_type": "code",
   "execution_count": 28,
   "metadata": {
    "collapsed": true
   },
   "outputs": [],
   "source": [
    "import matplotlib.pyplot as plt\n",
    "def show_train_history(train_history,train,validation):\n",
    "    plt.plot(train_history.history[train])\n",
    "    plt.plot(train_history.history[validation])\n",
    "    plt.title('Train History')\n",
    "    plt.ylabel(train)\n",
    "    plt.xlabel('Epoch')\n",
    "    plt.legend(['train', 'validation'], loc='upper left')\n",
    "    plt.show()"
   ]
  },
  {
   "cell_type": "code",
   "execution_count": 29,
   "metadata": {
    "collapsed": false
   },
   "outputs": [
    {
     "data": {
      "image/png": "[encoded data removed]",
      "text/plain": [
       "<matplotlib.figure.Figure at 0x7f2b5debde10>"
      ]
     },
     "metadata": {},
     "output_type": "display_data"
    }
   ],
   "source": [
    "show_train_history(train_history,'acc','val_acc')"
   ]
  },
  {
   "cell_type": "code",
   "execution_count": 30,
   "metadata": {
    "collapsed": false
   },
   "outputs": [
    {
     "data": {
      "image/png": "[encoded data removed]",
      "text/plain": [
       "<matplotlib.figure.Figure at 0x7f2b5d3c57f0>"
      ]
     },
     "metadata": {},
     "output_type": "display_data"
    }
   ],
   "source": [
    "show_train_history(train_history,'loss','val_loss')"
   ]
  },
  {
   "cell_type": "code",
   "execution_count": 31,
   "metadata": {
    "collapsed": false
   },
   "outputs": [
    {
     "name": "stdout",
     "output_type": "stream",
     "text": [
      "6277/6277 [==============================] - 1s 184us/step\n"
     ]
    }
   ],
   "source": [
    "scores = model.evaluate(x=test_Features, \n",
    "                        y=test_Label)"
   ]
  },
  {
   "cell_type": "code",
   "execution_count": 32,
   "metadata": {
    "collapsed": false
   },
   "outputs": [
    {
     "data": {
      "text/plain": [
       "0.8561414688545483"
      ]
     },
     "execution_count": 32,
     "metadata": {},
     "output_type": "execute_result"
    }
   ],
   "source": [
    "scores[1]"
   ]
  }
 ],
 "metadata": {
  "anaconda-cloud": {},
  "kernelspec": {
   "display_name": "Python [default]",
   "language": "python",
   "name": "python3"
  },
  "language_info": {
   "codemirror_mode": {
    "name": "ipython",
    "version": 3
   },
   "file_extension": ".py",
   "mimetype": "text/x-python",
   "name": "python",
   "nbconvert_exporter": "python",
   "pygments_lexer": "ipython3",
   "version": "3.5.2"
  }
 },
 "nbformat": 4,
 "nbformat_minor": 1
}
