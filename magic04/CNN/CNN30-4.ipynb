{
 "cells": [
  {
   "cell_type": "code",
   "execution_count": 1,
   "metadata": {
    "collapsed": false
   },
   "outputs": [],
   "source": [
    "import numpy as np\n",
    "import pandas as pd\n",
    "from sklearn.preprocessing import StandardScaler\n",
    "from sklearn.model_selection import train_test_split"
   ]
  },
  {
   "cell_type": "code",
   "execution_count": 2,
   "metadata": {
    "collapsed": false
   },
   "outputs": [],
   "source": [
    "Ynames = ['fLength', 'fWidth', 'fSize', 'fConc', 'fConc1', 'fAsym', \n",
    "             'fM3Long', 'fM3Trans', 'fAlpha', 'fDist', 'identity']\n",
    "featureNames = ['fLength', 'fWidth', 'fSize', 'fConc', 'fConc1', 'fAsym', \n",
    "             'fM3Long', 'fM3Trans', 'fAlpha', 'fDist']\n",
    "filepath = 'magic04.data'\n",
    "data = pd.read_csv(filepath, names=Ynames, header=None)\n",
    "data['identity']= data['identity'].map({'g':1, 'h': 0}).astype(int) \n",
    "X = data[featureNames].values\n",
    "Y = data['identity'].values.astype('int64')"
   ]
  },
  {
   "cell_type": "code",
   "execution_count": 3,
   "metadata": {
    "collapsed": false
   },
   "outputs": [
    {
     "data": {
      "text/plain": [
       "array([[ 0.85795175, -0.03537454, -0.11218474, -0.76707152, -0.83303673,\n",
       "        -0.7396845 , -2.25043718, -0.64321774, -0.77414694,  0.20903266],\n",
       "       [-0.85253457, -0.64830712, -0.84326825,  1.81213246,  1.46363178,\n",
       "        -0.03182452, -0.01587185,  0.37482185,  0.72096467,  0.08422305]])"
      ]
     },
     "execution_count": 3,
     "metadata": {},
     "output_type": "execute_result"
    }
   ],
   "source": [
    "X = StandardScaler().fit_transform(X)\n",
    "train_Features, test_Features, train_Label, test_Label = train_test_split(X, Y, test_size=0.33, random_state=None) \n",
    "train_Features[:2]"
   ]
  },
  {
   "cell_type": "code",
   "execution_count": 4,
   "metadata": {
    "collapsed": false
   },
   "outputs": [
    {
     "data": {
      "text/plain": [
       "array([[-0.47303787, -0.42661332, -0.56607016, -0.11064633, -0.07471986,\n",
       "         0.40657455,  0.14242214, -0.41077306, -0.76116756,  0.07232686],\n",
       "       [-0.67987513, -0.65913807, -0.50978414,  1.37178056,  1.22021026,\n",
       "         0.12444062,  0.01977607, -0.61311723,  1.7404784 , -1.02104788]])"
      ]
     },
     "execution_count": 4,
     "metadata": {},
     "output_type": "execute_result"
    }
   ],
   "source": [
    "test_Features[:2]"
   ]
  },
  {
   "cell_type": "code",
   "execution_count": 5,
   "metadata": {
    "collapsed": false
   },
   "outputs": [
    {
     "data": {
      "text/plain": [
       "array([1, 0, 1, 1])"
      ]
     },
     "execution_count": 5,
     "metadata": {},
     "output_type": "execute_result"
    }
   ],
   "source": [
    "train_Label[:4]"
   ]
  },
  {
   "cell_type": "code",
   "execution_count": 6,
   "metadata": {
    "collapsed": false
   },
   "outputs": [],
   "source": [
    "train_Features = train_Features.reshape((train_Features.shape[0], train_Features.shape[1], 1))\n",
    "test_Features = test_Features.reshape((test_Features.shape[0], test_Features.shape[1], 1))"
   ]
  },
  {
   "cell_type": "code",
   "execution_count": 7,
   "metadata": {
    "collapsed": false
   },
   "outputs": [
    {
     "data": {
      "text/plain": [
       "(12743, 10, 1)"
      ]
     },
     "execution_count": 7,
     "metadata": {},
     "output_type": "execute_result"
    }
   ],
   "source": [
    "train_Features.shape"
   ]
  },
  {
   "cell_type": "code",
   "execution_count": 8,
   "metadata": {
    "collapsed": false
   },
   "outputs": [
    {
     "name": "stderr",
     "output_type": "stream",
     "text": [
      "Using TensorFlow backend.\n"
     ]
    }
   ],
   "source": [
    "from keras.models import Sequential\n",
    "from keras.layers import Dense,Dropout,Flatten,Conv1D,MaxPooling1D\n",
    "from keras.layers.embeddings import Embedding\n",
    "from keras.callbacks import EarlyStopping\n",
    "early_stopping = EarlyStopping(monitor='val_loss', patience=2)"
   ]
  },
  {
   "cell_type": "code",
   "execution_count": 9,
   "metadata": {
    "collapsed": true
   },
   "outputs": [],
   "source": [
    "model = Sequential()"
   ]
  },
  {
   "cell_type": "code",
   "execution_count": 10,
   "metadata": {
    "collapsed": true
   },
   "outputs": [],
   "source": [
    "model.add(Conv1D(filters=30*4,\n",
    "                 kernel_size=1,\n",
    "                 padding='valid',\n",
    "                 input_shape=(10,1), \n",
    "                 activation='relu'))"
   ]
  },
  {
   "cell_type": "code",
   "execution_count": 11,
   "metadata": {
    "collapsed": true
   },
   "outputs": [],
   "source": [
    "model.add(MaxPooling1D(pool_size=1))"
   ]
  },
  {
   "cell_type": "code",
   "execution_count": 12,
   "metadata": {
    "collapsed": true
   },
   "outputs": [],
   "source": [
    "model.add(Conv1D(filters=30*3,\n",
    "                 kernel_size=1,\n",
    "                 padding='valid',\n",
    "                 activation='relu'))"
   ]
  },
  {
   "cell_type": "code",
   "execution_count": 13,
   "metadata": {
    "collapsed": true
   },
   "outputs": [],
   "source": [
    "model.add(MaxPooling1D(pool_size=1))"
   ]
  },
  {
   "cell_type": "code",
   "execution_count": 14,
   "metadata": {
    "collapsed": true
   },
   "outputs": [],
   "source": [
    "model.add(Conv1D(filters=30*2,\n",
    "                 kernel_size=1,\n",
    "                 padding='valid', \n",
    "                 activation='relu'))"
   ]
  },
  {
   "cell_type": "code",
   "execution_count": 15,
   "metadata": {
    "collapsed": true
   },
   "outputs": [],
   "source": [
    "model.add(MaxPooling1D(pool_size=1))"
   ]
  },
  {
   "cell_type": "code",
   "execution_count": 16,
   "metadata": {
    "collapsed": true
   },
   "outputs": [],
   "source": [
    "model.add(Conv1D(filters=30,\n",
    "                 kernel_size=1,\n",
    "                 padding='valid', \n",
    "                 activation='relu'))"
   ]
  },
  {
   "cell_type": "code",
   "execution_count": 17,
   "metadata": {
    "collapsed": false
   },
   "outputs": [],
   "source": [
    "model.add(MaxPooling1D(pool_size=1))"
   ]
  },
  {
   "cell_type": "code",
   "execution_count": 18,
   "metadata": {
    "collapsed": true
   },
   "outputs": [],
   "source": [
    "model.add(Flatten())"
   ]
  },
  {
   "cell_type": "code",
   "execution_count": 19,
   "metadata": {
    "collapsed": true
   },
   "outputs": [],
   "source": [
    "model.add(Dense(10, activation='tanh'))"
   ]
  },
  {
   "cell_type": "code",
   "execution_count": 20,
   "metadata": {
    "collapsed": true
   },
   "outputs": [],
   "source": [
    "model.add(Dense(1,activation='sigmoid'))"
   ]
  },
  {
   "cell_type": "code",
   "execution_count": 21,
   "metadata": {
    "collapsed": false
   },
   "outputs": [
    {
     "name": "stdout",
     "output_type": "stream",
     "text": [
      "_________________________________________________________________\n",
      "Layer (type)                 Output Shape              Param #   \n",
      "=================================================================\n",
      "conv1d_1 (Conv1D)            (None, 10, 120)           240       \n",
      "_________________________________________________________________\n",
      "max_pooling1d_1 (MaxPooling1 (None, 10, 120)           0         \n",
      "_________________________________________________________________\n",
      "conv1d_2 (Conv1D)            (None, 10, 90)            10890     \n",
      "_________________________________________________________________\n",
      "max_pooling1d_2 (MaxPooling1 (None, 10, 90)            0         \n",
      "_________________________________________________________________\n",
      "conv1d_3 (Conv1D)            (None, 10, 60)            5460      \n",
      "_________________________________________________________________\n",
      "max_pooling1d_3 (MaxPooling1 (None, 10, 60)            0         \n",
      "_________________________________________________________________\n",
      "conv1d_4 (Conv1D)            (None, 10, 30)            1830      \n",
      "_________________________________________________________________\n",
      "max_pooling1d_4 (MaxPooling1 (None, 10, 30)            0         \n",
      "_________________________________________________________________\n",
      "flatten_1 (Flatten)          (None, 300)               0         \n",
      "_________________________________________________________________\n",
      "dense_1 (Dense)              (None, 10)                3010      \n",
      "_________________________________________________________________\n",
      "dense_2 (Dense)              (None, 1)                 11        \n",
      "=================================================================\n",
      "Total params: 21,441\n",
      "Trainable params: 21,441\n",
      "Non-trainable params: 0\n",
      "_________________________________________________________________\n"
     ]
    }
   ],
   "source": [
    "model.summary()"
   ]
  },
  {
   "cell_type": "code",
   "execution_count": 22,
   "metadata": {
    "collapsed": false
   },
   "outputs": [],
   "source": [
    "model.compile(loss='binary_crossentropy', \n",
    "              optimizer='adam', metrics=['accuracy'])"
   ]
  },
  {
   "cell_type": "code",
   "execution_count": 23,
   "metadata": {
    "collapsed": false
   },
   "outputs": [
    {
     "name": "stdout",
     "output_type": "stream",
     "text": [
      "Train on 10194 samples, validate on 2549 samples\n",
      "Epoch 1/30\n",
      "10194/10194 [==============================] - 11s 1ms/step - loss: 0.6100 - acc: 0.6890 - val_loss: 0.4933 - val_acc: 0.7666\n",
      "Epoch 2/30\n",
      "10194/10194 [==============================] - 2s 194us/step - loss: 0.4388 - acc: 0.8009 - val_loss: 0.3755 - val_acc: 0.8407\n",
      "Epoch 3/30\n",
      "10194/10194 [==============================] - 2s 176us/step - loss: 0.3722 - acc: 0.8439 - val_loss: 0.3465 - val_acc: 0.8517\n",
      "Epoch 4/30\n",
      "10194/10194 [==============================] - 2s 191us/step - loss: 0.3563 - acc: 0.8508 - val_loss: 0.3349 - val_acc: 0.8631\n",
      "Epoch 5/30\n",
      "10194/10194 [==============================] - 2s 187us/step - loss: 0.3483 - acc: 0.8541 - val_loss: 0.3307 - val_acc: 0.8635\n",
      "Epoch 6/30\n",
      "10194/10194 [==============================] - 2s 204us/step - loss: 0.3442 - acc: 0.8563 - val_loss: 0.3280 - val_acc: 0.8611\n",
      "Epoch 7/30\n",
      "10194/10194 [==============================] - 2s 224us/step - loss: 0.3413 - acc: 0.8575 - val_loss: 0.3298 - val_acc: 0.8650\n",
      "Epoch 8/30\n",
      "10194/10194 [==============================] - 2s 213us/step - loss: 0.3381 - acc: 0.8616 - val_loss: 0.3242 - val_acc: 0.8650\n",
      "Epoch 9/30\n",
      "10194/10194 [==============================] - 2s 196us/step - loss: 0.3331 - acc: 0.8619 - val_loss: 0.3272 - val_acc: 0.8596\n",
      "Epoch 10/30\n",
      "10194/10194 [==============================] - 4s 395us/step - loss: 0.3314 - acc: 0.8631 - val_loss: 0.3219 - val_acc: 0.8686\n",
      "Epoch 11/30\n",
      "10194/10194 [==============================] - 3s 330us/step - loss: 0.3314 - acc: 0.8633 - val_loss: 0.3217 - val_acc: 0.8678\n",
      "Epoch 12/30\n",
      "10194/10194 [==============================] - 4s 378us/step - loss: 0.3299 - acc: 0.8629 - val_loss: 0.3252 - val_acc: 0.8607\n",
      "Epoch 13/30\n",
      "10194/10194 [==============================] - 4s 412us/step - loss: 0.3286 - acc: 0.8639 - val_loss: 0.3194 - val_acc: 0.8713\n",
      "Epoch 14/30\n",
      "10194/10194 [==============================] - 4s 369us/step - loss: 0.3291 - acc: 0.8646 - val_loss: 0.3198 - val_acc: 0.8698\n",
      "Epoch 15/30\n",
      "10194/10194 [==============================] - 4s 400us/step - loss: 0.3285 - acc: 0.8641 - val_loss: 0.3262 - val_acc: 0.8643\n",
      "Epoch 16/30\n",
      "10194/10194 [==============================] - 4s 388us/step - loss: 0.3242 - acc: 0.8647 - val_loss: 0.3203 - val_acc: 0.8670\n",
      "Epoch 17/30\n",
      "10194/10194 [==============================] - 4s 397us/step - loss: 0.3219 - acc: 0.8687 - val_loss: 0.3182 - val_acc: 0.8686\n",
      "Epoch 18/30\n",
      "10194/10194 [==============================] - 4s 404us/step - loss: 0.3198 - acc: 0.8692 - val_loss: 0.3170 - val_acc: 0.8662\n",
      "Epoch 19/30\n",
      "10194/10194 [==============================] - 5s 502us/step - loss: 0.3188 - acc: 0.8704 - val_loss: 0.3229 - val_acc: 0.8666\n",
      "Epoch 20/30\n",
      "10194/10194 [==============================] - 6s 635us/step - loss: 0.3230 - acc: 0.8679 - val_loss: 0.3152 - val_acc: 0.8670\n",
      "Epoch 21/30\n",
      "10194/10194 [==============================] - 5s 485us/step - loss: 0.3211 - acc: 0.8693 - val_loss: 0.3137 - val_acc: 0.8694\n",
      "Epoch 22/30\n",
      "10194/10194 [==============================] - 5s 485us/step - loss: 0.3156 - acc: 0.8716 - val_loss: 0.3145 - val_acc: 0.8682\n",
      "Epoch 23/30\n",
      "10194/10194 [==============================] - 5s 478us/step - loss: 0.3150 - acc: 0.8715 - val_loss: 0.3179 - val_acc: 0.8698\n",
      "Epoch 24/30\n",
      "10194/10194 [==============================] - 5s 478us/step - loss: 0.3141 - acc: 0.8718 - val_loss: 0.3130 - val_acc: 0.8725\n",
      "Epoch 25/30\n",
      "10194/10194 [==============================] - 5s 478us/step - loss: 0.3134 - acc: 0.8707 - val_loss: 0.3105 - val_acc: 0.8709\n",
      "Epoch 26/30\n",
      "10194/10194 [==============================] - 5s 476us/step - loss: 0.3142 - acc: 0.8726 - val_loss: 0.3105 - val_acc: 0.8733\n",
      "Epoch 27/30\n",
      "10194/10194 [==============================] - 5s 480us/step - loss: 0.3111 - acc: 0.8734 - val_loss: 0.3137 - val_acc: 0.8709\n",
      "Epoch 28/30\n",
      "10194/10194 [==============================] - 4s 432us/step - loss: 0.3120 - acc: 0.8728 - val_loss: 0.3114 - val_acc: 0.8694\n",
      "Epoch 29/30\n",
      "10194/10194 [==============================] - 5s 442us/step - loss: 0.3098 - acc: 0.8736 - val_loss: 0.3105 - val_acc: 0.8709\n",
      "Epoch 30/30\n",
      "10194/10194 [==============================] - 3s 303us/step - loss: 0.3102 - acc: 0.8729 - val_loss: 0.3100 - val_acc: 0.8701\n"
     ]
    }
   ],
   "source": [
    "train_history =model.fit(x=train_Features, \n",
    "                         y=train_Label, \n",
    "                         validation_split=0.2, \n",
    "                         epochs=30, \n",
    "                         batch_size=400,verbose=1)"
   ]
  },
  {
   "cell_type": "code",
   "execution_count": 24,
   "metadata": {
    "collapsed": true
   },
   "outputs": [],
   "source": [
    "import matplotlib.pyplot as plt\n",
    "def show_train_history(train_history,train,validation):\n",
    "    plt.plot(train_history.history[train])\n",
    "    plt.plot(train_history.history[validation])\n",
    "    plt.title('Train History')\n",
    "    plt.ylabel(train)\n",
    "    plt.xlabel('Epoch')\n",
    "    plt.legend(['train', 'validation'], loc='upper left')\n",
    "    plt.show()"
   ]
  },
  {
   "cell_type": "code",
   "execution_count": 25,
   "metadata": {
    "collapsed": false
   },
   "outputs": [
    {
     "data": {
      "image/png": "[encoded data removed]",
      "text/plain": [
       "<matplotlib.figure.Figure at 0x7f04489ef7f0>"
      ]
     },
     "metadata": {},
     "output_type": "display_data"
    }
   ],
   "source": [
    "show_train_history(train_history,'acc','val_acc')"
   ]
  },
  {
   "cell_type": "code",
   "execution_count": 26,
   "metadata": {
    "collapsed": false
   },
   "outputs": [
    {
     "data": {
      "image/png": "[encoded data removed]",
      "text/plain": [
       "<matplotlib.figure.Figure at 0x7f04489dcd30>"
      ]
     },
     "metadata": {},
     "output_type": "display_data"
    }
   ],
   "source": [
    "show_train_history(train_history,'loss','val_loss')"
   ]
  },
  {
   "cell_type": "code",
   "execution_count": 27,
   "metadata": {
    "collapsed": false
   },
   "outputs": [
    {
     "name": "stdout",
     "output_type": "stream",
     "text": [
      "6277/6277 [==============================] - 1s 83us/step\n"
     ]
    }
   ],
   "source": [
    "scores = model.evaluate(x=test_Features, \n",
    "                        y=test_Label)"
   ]
  },
  {
   "cell_type": "code",
   "execution_count": 28,
   "metadata": {
    "collapsed": false
   },
   "outputs": [
    {
     "data": {
      "text/plain": [
       "0.8623546280070097"
      ]
     },
     "execution_count": 28,
     "metadata": {},
     "output_type": "execute_result"
    }
   ],
   "source": [
    "scores[1]"
   ]
  }
 ],
 "metadata": {
  "anaconda-cloud": {},
  "kernelspec": {
   "display_name": "Python [default]",
   "language": "python",
   "name": "python3"
  },
  "language_info": {
   "codemirror_mode": {
    "name": "ipython",
    "version": 3
   },
   "file_extension": ".py",
   "mimetype": "text/x-python",
   "name": "python",
   "nbconvert_exporter": "python",
   "pygments_lexer": "ipython3",
   "version": "3.5.2"
  }
 },
 "nbformat": 4,
 "nbformat_minor": 1
}
