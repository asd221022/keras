{
 "cells": [
  {
   "cell_type": "code",
   "execution_count": 1,
   "metadata": {
    "collapsed": false
   },
   "outputs": [],
   "source": [
    "import numpy as np\n",
    "import pandas as pd\n",
    "from sklearn.preprocessing import StandardScaler\n",
    "from sklearn.model_selection import train_test_split"
   ]
  },
  {
   "cell_type": "code",
   "execution_count": 2,
   "metadata": {
    "collapsed": false
   },
   "outputs": [],
   "source": [
    "Ynames = ['fLength', 'fWidth', 'fSize', 'fConc', 'fConc1', 'fAsym', \n",
    "             'fM3Long', 'fM3Trans', 'fAlpha', 'fDist', 'identity']\n",
    "featureNames = ['fLength', 'fWidth', 'fSize', 'fConc', 'fConc1', 'fAsym', \n",
    "             'fM3Long', 'fM3Trans', 'fAlpha', 'fDist']\n",
    "filepath = 'magic04.data'\n",
    "data = pd.read_csv(filepath, names=Ynames, header=None)\n",
    "data['identity']= data['identity'].map({'g':1, 'h': 0}).astype(int) \n",
    "X = data[featureNames].values\n",
    "Y = data['identity'].values.astype('int64')"
   ]
  },
  {
   "cell_type": "code",
   "execution_count": 3,
   "metadata": {
    "collapsed": false
   },
   "outputs": [
    {
     "data": {
      "text/plain": [
       "array([[-0.57212968, -0.34192804, -0.77851817,  0.49709399,  0.28453049,\n",
       "         0.1403009 ,  0.12602959,  0.25425177,  1.357713  ,  0.12128991],\n",
       "       [-0.79812483, -0.27645176, -0.78486621,  1.2842572 ,  0.90439571,\n",
       "         0.46953935,  0.05328079, -0.93380359,  1.16896028, -0.91535112]])"
      ]
     },
     "execution_count": 3,
     "metadata": {},
     "output_type": "execute_result"
    }
   ],
   "source": [
    "X = StandardScaler().fit_transform(X)\n",
    "train_Features, test_Features, train_Label, test_Label = train_test_split(X, Y, test_size=0.33, random_state=None) \n",
    "train_Features[:2]"
   ]
  },
  {
   "cell_type": "code",
   "execution_count": 4,
   "metadata": {
    "collapsed": false
   },
   "outputs": [
    {
     "data": {
      "text/plain": [
       "array([[ 3.46653392,  3.85179192,  1.06114612, -0.52091207, -0.18783395,\n",
       "        -2.31261884, -4.70018023,  1.86589891, -0.73010974,  0.27364542],\n",
       "       [-0.48778633, -0.65658159, -0.54660282,  1.26839359,  1.06456527,\n",
       "         0.10671055, -0.47010627,  0.44250358,  1.89828058, -1.06381527]])"
      ]
     },
     "execution_count": 4,
     "metadata": {},
     "output_type": "execute_result"
    }
   ],
   "source": [
    "test_Features[:2]"
   ]
  },
  {
   "cell_type": "code",
   "execution_count": 5,
   "metadata": {
    "collapsed": false
   },
   "outputs": [
    {
     "data": {
      "text/plain": [
       "array([0, 1, 1, 1])"
      ]
     },
     "execution_count": 5,
     "metadata": {},
     "output_type": "execute_result"
    }
   ],
   "source": [
    "train_Label[:4]"
   ]
  },
  {
   "cell_type": "code",
   "execution_count": 6,
   "metadata": {
    "collapsed": false
   },
   "outputs": [],
   "source": [
    "train_Features = train_Features.reshape((train_Features.shape[0], train_Features.shape[1], 1))\n",
    "test_Features = test_Features.reshape((test_Features.shape[0], test_Features.shape[1], 1))"
   ]
  },
  {
   "cell_type": "code",
   "execution_count": 7,
   "metadata": {
    "collapsed": false
   },
   "outputs": [
    {
     "data": {
      "text/plain": [
       "(12743, 10, 1)"
      ]
     },
     "execution_count": 7,
     "metadata": {},
     "output_type": "execute_result"
    }
   ],
   "source": [
    "train_Features.shape"
   ]
  },
  {
   "cell_type": "code",
   "execution_count": 8,
   "metadata": {
    "collapsed": false
   },
   "outputs": [
    {
     "name": "stderr",
     "output_type": "stream",
     "text": [
      "Using TensorFlow backend.\n"
     ]
    }
   ],
   "source": [
    "from keras.models import Sequential\n",
    "from keras.layers import Dense,Dropout,Flatten,Conv1D,MaxPooling1D\n",
    "from keras.layers.embeddings import Embedding\n",
    "from keras.callbacks import EarlyStopping\n",
    "early_stopping = EarlyStopping(monitor='val_loss', patience=2)"
   ]
  },
  {
   "cell_type": "code",
   "execution_count": 9,
   "metadata": {
    "collapsed": true
   },
   "outputs": [],
   "source": [
    "model = Sequential()"
   ]
  },
  {
   "cell_type": "code",
   "execution_count": 10,
   "metadata": {
    "collapsed": true
   },
   "outputs": [],
   "source": [
    "model.add(Conv1D(filters=10*9,\n",
    "                 kernel_size=1,\n",
    "                 padding='valid',\n",
    "                 input_shape=(10,1), \n",
    "                 activation='relu'))"
   ]
  },
  {
   "cell_type": "code",
   "execution_count": 11,
   "metadata": {
    "collapsed": true
   },
   "outputs": [],
   "source": [
    "model.add(MaxPooling1D(pool_size=1))"
   ]
  },
  {
   "cell_type": "code",
   "execution_count": 12,
   "metadata": {
    "collapsed": true
   },
   "outputs": [],
   "source": [
    "model.add(Conv1D(filters=10*8,\n",
    "                 kernel_size=1,\n",
    "                 padding='valid', \n",
    "                 activation='relu'))"
   ]
  },
  {
   "cell_type": "code",
   "execution_count": 13,
   "metadata": {
    "collapsed": true
   },
   "outputs": [],
   "source": [
    "model.add(MaxPooling1D(pool_size=1))"
   ]
  },
  {
   "cell_type": "code",
   "execution_count": 14,
   "metadata": {
    "collapsed": true
   },
   "outputs": [],
   "source": [
    "model.add(Conv1D(filters=10*7,\n",
    "                 kernel_size=1,\n",
    "                 padding='valid', \n",
    "                 activation='relu'))"
   ]
  },
  {
   "cell_type": "code",
   "execution_count": 15,
   "metadata": {
    "collapsed": true
   },
   "outputs": [],
   "source": [
    "model.add(MaxPooling1D(pool_size=1))"
   ]
  },
  {
   "cell_type": "code",
   "execution_count": 16,
   "metadata": {
    "collapsed": true
   },
   "outputs": [],
   "source": [
    "model.add(Conv1D(filters=10*6,\n",
    "                 kernel_size=1,\n",
    "                 padding='valid',\n",
    "                 activation='relu'))"
   ]
  },
  {
   "cell_type": "code",
   "execution_count": 17,
   "metadata": {
    "collapsed": true
   },
   "outputs": [],
   "source": [
    "model.add(MaxPooling1D(pool_size=1))"
   ]
  },
  {
   "cell_type": "code",
   "execution_count": 18,
   "metadata": {
    "collapsed": true
   },
   "outputs": [],
   "source": [
    "model.add(Conv1D(filters=10*5,\n",
    "                 kernel_size=1,\n",
    "                 padding='valid', \n",
    "                 activation='relu'))"
   ]
  },
  {
   "cell_type": "code",
   "execution_count": 19,
   "metadata": {
    "collapsed": true
   },
   "outputs": [],
   "source": [
    "model.add(MaxPooling1D(pool_size=1))"
   ]
  },
  {
   "cell_type": "code",
   "execution_count": 20,
   "metadata": {
    "collapsed": true
   },
   "outputs": [],
   "source": [
    "model.add(Conv1D(filters=10*4,\n",
    "                 kernel_size=3,\n",
    "                 padding='valid',\n",
    "                 activation='relu'))"
   ]
  },
  {
   "cell_type": "code",
   "execution_count": 21,
   "metadata": {
    "collapsed": true
   },
   "outputs": [],
   "source": [
    "model.add(MaxPooling1D(pool_size=1))"
   ]
  },
  {
   "cell_type": "code",
   "execution_count": 22,
   "metadata": {
    "collapsed": true
   },
   "outputs": [],
   "source": [
    "model.add(Conv1D(filters=10*3,\n",
    "                 kernel_size=3,\n",
    "                 padding='valid',\n",
    "                 activation='relu'))"
   ]
  },
  {
   "cell_type": "code",
   "execution_count": 23,
   "metadata": {
    "collapsed": true
   },
   "outputs": [],
   "source": [
    "model.add(MaxPooling1D(pool_size=1))"
   ]
  },
  {
   "cell_type": "code",
   "execution_count": 24,
   "metadata": {
    "collapsed": true
   },
   "outputs": [],
   "source": [
    "model.add(Conv1D(filters=10*2,\n",
    "                 kernel_size=3,\n",
    "                 padding='valid',\n",
    "                 activation='relu'))"
   ]
  },
  {
   "cell_type": "code",
   "execution_count": 25,
   "metadata": {
    "collapsed": true
   },
   "outputs": [],
   "source": [
    "model.add(MaxPooling1D(pool_size=1))"
   ]
  },
  {
   "cell_type": "code",
   "execution_count": 26,
   "metadata": {
    "collapsed": false
   },
   "outputs": [],
   "source": [
    "model.add(Conv1D(filters=10,\n",
    "                 kernel_size=3,\n",
    "                 padding='valid',\n",
    "                 activation='relu'))"
   ]
  },
  {
   "cell_type": "code",
   "execution_count": 27,
   "metadata": {
    "collapsed": false
   },
   "outputs": [],
   "source": [
    "model.add(MaxPooling1D(pool_size=1))"
   ]
  },
  {
   "cell_type": "code",
   "execution_count": 28,
   "metadata": {
    "collapsed": true
   },
   "outputs": [],
   "source": [
    "model.add(Flatten())"
   ]
  },
  {
   "cell_type": "code",
   "execution_count": 29,
   "metadata": {
    "collapsed": true
   },
   "outputs": [],
   "source": [
    "model.add(Dense(10, activation='tanh'))"
   ]
  },
  {
   "cell_type": "code",
   "execution_count": 30,
   "metadata": {
    "collapsed": true
   },
   "outputs": [],
   "source": [
    "model.add(Dense(1,activation='sigmoid'))"
   ]
  },
  {
   "cell_type": "code",
   "execution_count": 31,
   "metadata": {
    "collapsed": false
   },
   "outputs": [
    {
     "name": "stdout",
     "output_type": "stream",
     "text": [
      "_________________________________________________________________\n",
      "Layer (type)                 Output Shape              Param #   \n",
      "=================================================================\n",
      "conv1d_1 (Conv1D)            (None, 10, 90)            180       \n",
      "_________________________________________________________________\n",
      "max_pooling1d_1 (MaxPooling1 (None, 10, 90)            0         \n",
      "_________________________________________________________________\n",
      "conv1d_2 (Conv1D)            (None, 10, 80)            7280      \n",
      "_________________________________________________________________\n",
      "max_pooling1d_2 (MaxPooling1 (None, 10, 80)            0         \n",
      "_________________________________________________________________\n",
      "conv1d_3 (Conv1D)            (None, 10, 70)            5670      \n",
      "_________________________________________________________________\n",
      "max_pooling1d_3 (MaxPooling1 (None, 10, 70)            0         \n",
      "_________________________________________________________________\n",
      "conv1d_4 (Conv1D)            (None, 10, 60)            4260      \n",
      "_________________________________________________________________\n",
      "max_pooling1d_4 (MaxPooling1 (None, 10, 60)            0         \n",
      "_________________________________________________________________\n",
      "conv1d_5 (Conv1D)            (None, 10, 50)            3050      \n",
      "_________________________________________________________________\n",
      "max_pooling1d_5 (MaxPooling1 (None, 10, 50)            0         \n",
      "_________________________________________________________________\n",
      "conv1d_6 (Conv1D)            (None, 8, 40)             6040      \n",
      "_________________________________________________________________\n",
      "max_pooling1d_6 (MaxPooling1 (None, 8, 40)             0         \n",
      "_________________________________________________________________\n",
      "conv1d_7 (Conv1D)            (None, 6, 30)             3630      \n",
      "_________________________________________________________________\n",
      "max_pooling1d_7 (MaxPooling1 (None, 6, 30)             0         \n",
      "_________________________________________________________________\n",
      "conv1d_8 (Conv1D)            (None, 4, 20)             1820      \n",
      "_________________________________________________________________\n",
      "max_pooling1d_8 (MaxPooling1 (None, 4, 20)             0         \n",
      "_________________________________________________________________\n",
      "conv1d_9 (Conv1D)            (None, 2, 10)             610       \n",
      "_________________________________________________________________\n",
      "max_pooling1d_9 (MaxPooling1 (None, 2, 10)             0         \n",
      "_________________________________________________________________\n",
      "flatten_1 (Flatten)          (None, 20)                0         \n",
      "_________________________________________________________________\n",
      "dense_1 (Dense)              (None, 10)                210       \n",
      "_________________________________________________________________\n",
      "dense_2 (Dense)              (None, 1)                 11        \n",
      "=================================================================\n",
      "Total params: 32,761\n",
      "Trainable params: 32,761\n",
      "Non-trainable params: 0\n",
      "_________________________________________________________________\n"
     ]
    }
   ],
   "source": [
    "model.summary()"
   ]
  },
  {
   "cell_type": "code",
   "execution_count": 32,
   "metadata": {
    "collapsed": false
   },
   "outputs": [],
   "source": [
    "model.compile(loss='binary_crossentropy', \n",
    "              optimizer='adam', metrics=['accuracy'])"
   ]
  },
  {
   "cell_type": "code",
   "execution_count": 33,
   "metadata": {
    "collapsed": false
   },
   "outputs": [
    {
     "name": "stdout",
     "output_type": "stream",
     "text": [
      "Train on 10194 samples, validate on 2549 samples\n",
      "Epoch 1/30\n",
      "10194/10194 [==============================] - 4s 382us/step - loss: 0.6456 - acc: 0.6691 - val_loss: 0.5461 - val_acc: 0.7297\n",
      "Epoch 2/30\n",
      "10194/10194 [==============================] - 3s 251us/step - loss: 0.4570 - acc: 0.8010 - val_loss: 0.3939 - val_acc: 0.8364\n",
      "Epoch 3/30\n",
      "10194/10194 [==============================] - 3s 264us/step - loss: 0.3813 - acc: 0.8427 - val_loss: 0.3696 - val_acc: 0.8395\n",
      "Epoch 4/30\n",
      "10194/10194 [==============================] - 3s 261us/step - loss: 0.3597 - acc: 0.8531 - val_loss: 0.3488 - val_acc: 0.8529\n",
      "Epoch 5/30\n",
      "10194/10194 [==============================] - 3s 261us/step - loss: 0.3516 - acc: 0.8546 - val_loss: 0.3482 - val_acc: 0.8517\n",
      "Epoch 6/30\n",
      "10194/10194 [==============================] - 3s 259us/step - loss: 0.3498 - acc: 0.8568 - val_loss: 0.3444 - val_acc: 0.8548\n",
      "Epoch 7/30\n",
      "10194/10194 [==============================] - 3s 260us/step - loss: 0.3412 - acc: 0.8597 - val_loss: 0.3680 - val_acc: 0.8513\n",
      "Epoch 8/30\n",
      "10194/10194 [==============================] - 3s 259us/step - loss: 0.3438 - acc: 0.8607 - val_loss: 0.3393 - val_acc: 0.8501\n",
      "Epoch 9/30\n",
      "10194/10194 [==============================] - 3s 261us/step - loss: 0.3415 - acc: 0.8615 - val_loss: 0.3397 - val_acc: 0.8529\n",
      "Epoch 10/30\n",
      "10194/10194 [==============================] - 3s 261us/step - loss: 0.3331 - acc: 0.8636 - val_loss: 0.3329 - val_acc: 0.8584\n",
      "Epoch 11/30\n",
      "10194/10194 [==============================] - 3s 262us/step - loss: 0.3304 - acc: 0.8689 - val_loss: 0.3332 - val_acc: 0.8509\n",
      "Epoch 12/30\n",
      "10194/10194 [==============================] - 3s 262us/step - loss: 0.3294 - acc: 0.8667 - val_loss: 0.3352 - val_acc: 0.8603\n",
      "Epoch 13/30\n",
      "10194/10194 [==============================] - 3s 260us/step - loss: 0.3287 - acc: 0.8676 - val_loss: 0.3358 - val_acc: 0.8619\n",
      "Epoch 14/30\n",
      "10194/10194 [==============================] - 3s 260us/step - loss: 0.3276 - acc: 0.8676 - val_loss: 0.3333 - val_acc: 0.8556\n",
      "Epoch 15/30\n",
      "10194/10194 [==============================] - 3s 260us/step - loss: 0.3258 - acc: 0.8663 - val_loss: 0.3284 - val_acc: 0.8643\n",
      "Epoch 16/30\n",
      "10194/10194 [==============================] - 3s 258us/step - loss: 0.3218 - acc: 0.8707 - val_loss: 0.3367 - val_acc: 0.8486\n",
      "Epoch 17/30\n",
      "10194/10194 [==============================] - 3s 280us/step - loss: 0.3204 - acc: 0.8706 - val_loss: 0.3320 - val_acc: 0.8588\n",
      "Epoch 18/30\n",
      "10194/10194 [==============================] - 4s 397us/step - loss: 0.3220 - acc: 0.8696 - val_loss: 0.3393 - val_acc: 0.8596\n",
      "Epoch 19/30\n",
      "10194/10194 [==============================] - 3s 323us/step - loss: 0.3208 - acc: 0.8693 - val_loss: 0.3299 - val_acc: 0.8596\n",
      "Epoch 20/30\n",
      "10194/10194 [==============================] - 3s 292us/step - loss: 0.3163 - acc: 0.8723 - val_loss: 0.3284 - val_acc: 0.8552\n",
      "Epoch 21/30\n",
      "10194/10194 [==============================] - 3s 302us/step - loss: 0.3154 - acc: 0.8704 - val_loss: 0.3280 - val_acc: 0.8627\n",
      "Epoch 22/30\n",
      "10194/10194 [==============================] - 4s 359us/step - loss: 0.3104 - acc: 0.8740 - val_loss: 0.3257 - val_acc: 0.8619\n",
      "Epoch 23/30\n",
      "10194/10194 [==============================] - 5s 519us/step - loss: 0.3086 - acc: 0.8757 - val_loss: 0.3259 - val_acc: 0.8615\n",
      "Epoch 24/30\n",
      "10194/10194 [==============================] - 5s 471us/step - loss: 0.3074 - acc: 0.8759 - val_loss: 0.3242 - val_acc: 0.8670\n",
      "Epoch 25/30\n",
      "10194/10194 [==============================] - 4s 399us/step - loss: 0.3106 - acc: 0.8732 - val_loss: 0.3329 - val_acc: 0.8588\n",
      "Epoch 26/30\n",
      "10194/10194 [==============================] - 4s 358us/step - loss: 0.3088 - acc: 0.8738 - val_loss: 0.3320 - val_acc: 0.8576\n",
      "Epoch 27/30\n",
      "10194/10194 [==============================] - 4s 383us/step - loss: 0.3051 - acc: 0.8736 - val_loss: 0.3269 - val_acc: 0.8619\n",
      "Epoch 28/30\n",
      "10194/10194 [==============================] - 4s 361us/step - loss: 0.3012 - acc: 0.8772 - val_loss: 0.3281 - val_acc: 0.8607\n",
      "Epoch 29/30\n",
      "10194/10194 [==============================] - 4s 365us/step - loss: 0.3019 - acc: 0.8789 - val_loss: 0.3260 - val_acc: 0.8603\n",
      "Epoch 30/30\n",
      "10194/10194 [==============================] - 4s 372us/step - loss: 0.2973 - acc: 0.8807 - val_loss: 0.3256 - val_acc: 0.8658\n"
     ]
    }
   ],
   "source": [
    "train_history =model.fit(x=train_Features, \n",
    "                         y=train_Label, \n",
    "                         validation_split=0.2, \n",
    "                         epochs=30, \n",
    "                         batch_size=400,verbose=1)"
   ]
  },
  {
   "cell_type": "code",
   "execution_count": 34,
   "metadata": {
    "collapsed": true
   },
   "outputs": [],
   "source": [
    "import matplotlib.pyplot as plt\n",
    "def show_train_history(train_history,train,validation):\n",
    "    plt.plot(train_history.history[train])\n",
    "    plt.plot(train_history.history[validation])\n",
    "    plt.title('Train History')\n",
    "    plt.ylabel(train)\n",
    "    plt.xlabel('Epoch')\n",
    "    plt.legend(['train', 'validation'], loc='upper left')\n",
    "    plt.show()"
   ]
  },
  {
   "cell_type": "code",
   "execution_count": 35,
   "metadata": {
    "collapsed": false
   },
   "outputs": [
    {
     "data": {
      "image/png": "[encoded data removed]",
      "text/plain": [
       "<matplotlib.figure.Figure at 0x7ff00458c550>"
      ]
     },
     "metadata": {},
     "output_type": "display_data"
    }
   ],
   "source": [
    "show_train_history(train_history,'acc','val_acc')"
   ]
  },
  {
   "cell_type": "code",
   "execution_count": 36,
   "metadata": {
    "collapsed": false
   },
   "outputs": [
    {
     "data": {
      "image/png": "[encoded data removed]",
      "text/plain": [
       "<matplotlib.figure.Figure at 0x7ff00448d128>"
      ]
     },
     "metadata": {},
     "output_type": "display_data"
    }
   ],
   "source": [
    "show_train_history(train_history,'loss','val_loss')"
   ]
  },
  {
   "cell_type": "code",
   "execution_count": 37,
   "metadata": {
    "collapsed": false
   },
   "outputs": [
    {
     "name": "stdout",
     "output_type": "stream",
     "text": [
      "6277/6277 [==============================] - 1s 106us/step\n"
     ]
    }
   ],
   "source": [
    "scores = model.evaluate(x=test_Features, \n",
    "                        y=test_Label)"
   ]
  },
  {
   "cell_type": "code",
   "execution_count": 38,
   "metadata": {
    "collapsed": false
   },
   "outputs": [
    {
     "data": {
      "text/plain": [
       "0.8661781105623706"
      ]
     },
     "execution_count": 38,
     "metadata": {},
     "output_type": "execute_result"
    }
   ],
   "source": [
    "scores[1]"
   ]
  }
 ],
 "metadata": {
  "anaconda-cloud": {},
  "kernelspec": {
   "display_name": "Python [default]",
   "language": "python",
   "name": "python3"
  },
  "language_info": {
   "codemirror_mode": {
    "name": "ipython",
    "version": 3
   },
   "file_extension": ".py",
   "mimetype": "text/x-python",
   "name": "python",
   "nbconvert_exporter": "python",
   "pygments_lexer": "ipython3",
   "version": "3.5.2"
  }
 },
 "nbformat": 4,
 "nbformat_minor": 1
}
