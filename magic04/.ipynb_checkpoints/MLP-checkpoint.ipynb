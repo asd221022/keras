{
 "cells": [
  {
   "cell_type": "code",
   "execution_count": 23,
   "metadata": {
    "collapsed": false
   },
   "outputs": [],
   "source": [
    "import numpy as np\n",
    "import pandas as pd\n",
    "from sklearn.preprocessing import StandardScaler\n",
    "from sklearn.cross_validation import train_test_split"
   ]
  },
  {
   "cell_type": "code",
   "execution_count": 24,
   "metadata": {
    "collapsed": false
   },
   "outputs": [],
   "source": [
    "Ynames = ['fLength', 'fWidth', 'fSize', 'fConc', 'fConc1', 'fAsym', \n",
    "             'fM3Long', 'fM3Trans', 'fAlpha', 'fDist', 'identity']\n",
    "featureNames = ['fLength', 'fWidth', 'fSize', 'fConc', 'fConc1', 'fAsym', \n",
    "             'fM3Long', 'fM3Trans', 'fAlpha', 'fDist']\n",
    "filepath = 'data/magic04.data'\n",
    "data = pd.read_csv(filepath, names=Ynames, header=None)\n",
    "data['identity']= data['identity'].map({'g':1, 'h': 0}).astype(int) \n",
    "X = data[featureNames].values\n",
    "Y = data['identity'].values.astype('int64')"
   ]
  },
  {
   "cell_type": "code",
   "execution_count": 25,
   "metadata": {
    "collapsed": false
   },
   "outputs": [
    {
     "data": {
      "text/plain": [
       "array([[-0.63032096, -0.02008475, -0.12551564, -0.17574182, -0.21136168,\n",
       "         0.15595511,  0.07456169,  0.7294067 , -0.52276524, -1.70221904],\n",
       "       [-0.1058465 ,  0.7878976 ,  0.69888419, -1.2200049 , -1.23029342,\n",
       "        -0.16580081, -0.79536897, -1.67403888,  0.6307909 , -0.78781167]])"
      ]
     },
     "execution_count": 25,
     "metadata": {},
     "output_type": "execute_result"
    }
   ],
   "source": [
    "X = StandardScaler().fit_transform(X)\n",
    "train_Features, test_Features, train_Label, test_Label = train_test_split(X, Y, test_size=0.33, random_state=None) \n",
    "train_Features[:2]"
   ]
  },
  {
   "cell_type": "code",
   "execution_count": 26,
   "metadata": {
    "collapsed": false
   },
   "outputs": [
    {
     "data": {
      "text/plain": [
       "array([[-0.73550761, -0.61519286, -1.12258236,  0.86305104,  0.69898052,\n",
       "         0.33121373,  0.15067136,  0.34319928, -0.25199108, -0.94389394],\n",
       "       [-0.00820876,  0.03302343,  0.78415963, -0.63359839, -0.56699239,\n",
       "         0.376489  ,  0.79519858,  0.4150823 , -0.88906122, -0.74210034]])"
      ]
     },
     "execution_count": 26,
     "metadata": {},
     "output_type": "execute_result"
    }
   ],
   "source": [
    "test_Features[:2]"
   ]
  },
  {
   "cell_type": "code",
   "execution_count": 27,
   "metadata": {
    "collapsed": false
   },
   "outputs": [
    {
     "data": {
      "text/plain": [
       "array([1, 0, 1, 1])"
      ]
     },
     "execution_count": 27,
     "metadata": {},
     "output_type": "execute_result"
    }
   ],
   "source": [
    "train_Label[:4]"
   ]
  },
  {
   "cell_type": "code",
   "execution_count": 28,
   "metadata": {
    "collapsed": false
   },
   "outputs": [
    {
     "data": {
      "text/plain": [
       "(12743, 10)"
      ]
     },
     "execution_count": 28,
     "metadata": {},
     "output_type": "execute_result"
    }
   ],
   "source": [
    "train_Features.shape"
   ]
  },
  {
   "cell_type": "code",
   "execution_count": 29,
   "metadata": {
    "collapsed": false
   },
   "outputs": [
    {
     "data": {
      "text/plain": [
       "array([1, 1, 0, 1])"
      ]
     },
     "execution_count": 29,
     "metadata": {},
     "output_type": "execute_result"
    }
   ],
   "source": [
    "test_Label[:4]"
   ]
  },
  {
   "cell_type": "code",
   "execution_count": 30,
   "metadata": {
    "collapsed": false
   },
   "outputs": [],
   "source": [
    "from keras.models import Sequential\n",
    "from keras.layers import Dense,Dropout"
   ]
  },
  {
   "cell_type": "code",
   "execution_count": 31,
   "metadata": {
    "collapsed": true
   },
   "outputs": [],
   "source": [
    "model = Sequential()"
   ]
  },
  {
   "cell_type": "code",
   "execution_count": 32,
   "metadata": {
    "collapsed": true
   },
   "outputs": [],
   "source": [
    "model.add(Dense(units=40, input_dim=10, \n",
    "                kernel_initializer='uniform', \n",
    "                activation='relu'))"
   ]
  },
  {
   "cell_type": "code",
   "execution_count": 33,
   "metadata": {
    "collapsed": true
   },
   "outputs": [],
   "source": [
    "model.add(Dense(units=30, input_dim=10, \n",
    "                kernel_initializer='uniform', \n",
    "                activation='relu'))"
   ]
  },
  {
   "cell_type": "code",
   "execution_count": 34,
   "metadata": {
    "collapsed": true
   },
   "outputs": [],
   "source": [
    "model.add(Dense(units=20, input_dim=10, \n",
    "                kernel_initializer='uniform', \n",
    "                activation='relu'))"
   ]
  },
  {
   "cell_type": "code",
   "execution_count": 35,
   "metadata": {
    "collapsed": true
   },
   "outputs": [],
   "source": [
    "model.add(Dense(units=10, \n",
    "                kernel_initializer='uniform', \n",
    "                activation='relu'))"
   ]
  },
  {
   "cell_type": "code",
   "execution_count": 36,
   "metadata": {
    "collapsed": true
   },
   "outputs": [],
   "source": [
    "model.add(Dense(units=1, \n",
    "                kernel_initializer='uniform',\n",
    "                activation='sigmoid'))"
   ]
  },
  {
   "cell_type": "code",
   "execution_count": 37,
   "metadata": {
    "collapsed": false
   },
   "outputs": [
    {
     "name": "stdout",
     "output_type": "stream",
     "text": [
      "_________________________________________________________________\n",
      "Layer (type)                 Output Shape              Param #   \n",
      "=================================================================\n",
      "dense_6 (Dense)              (None, 40)                440       \n",
      "_________________________________________________________________\n",
      "dense_7 (Dense)              (None, 30)                1230      \n",
      "_________________________________________________________________\n",
      "dense_8 (Dense)              (None, 20)                620       \n",
      "_________________________________________________________________\n",
      "dense_9 (Dense)              (None, 10)                210       \n",
      "_________________________________________________________________\n",
      "dense_10 (Dense)             (None, 1)                 11        \n",
      "=================================================================\n",
      "Total params: 2,511\n",
      "Trainable params: 2,511\n",
      "Non-trainable params: 0\n",
      "_________________________________________________________________\n"
     ]
    }
   ],
   "source": [
    "model.summary()"
   ]
  },
  {
   "cell_type": "code",
   "execution_count": 38,
   "metadata": {
    "collapsed": true
   },
   "outputs": [],
   "source": [
    "model.compile(loss='binary_crossentropy', \n",
    "              optimizer='adam', metrics=['accuracy'])"
   ]
  },
  {
   "cell_type": "code",
   "execution_count": 39,
   "metadata": {
    "collapsed": false
   },
   "outputs": [
    {
     "name": "stdout",
     "output_type": "stream",
     "text": [
      "Train on 11468 samples, validate on 1275 samples\n",
      "Epoch 1/30\n",
      " - 1s - loss: 0.6905 - acc: 0.6408 - val_loss: 0.6871 - val_acc: 0.6376\n",
      "Epoch 2/30\n",
      " - 0s - loss: 0.6729 - acc: 0.6452 - val_loss: 0.6409 - val_acc: 0.6376\n",
      "Epoch 3/30\n",
      " - 0s - loss: 0.5647 - acc: 0.6470 - val_loss: 0.5252 - val_acc: 0.6635\n",
      "Epoch 4/30\n",
      " - 0s - loss: 0.4869 - acc: 0.7691 - val_loss: 0.4898 - val_acc: 0.7922\n",
      "Epoch 5/30\n",
      " - 0s - loss: 0.4502 - acc: 0.8105 - val_loss: 0.4481 - val_acc: 0.7937\n",
      "Epoch 6/30\n",
      " - 0s - loss: 0.4115 - acc: 0.8171 - val_loss: 0.4225 - val_acc: 0.8063\n",
      "Epoch 7/30\n",
      " - 0s - loss: 0.3887 - acc: 0.8315 - val_loss: 0.4012 - val_acc: 0.8259\n",
      "Epoch 8/30\n",
      " - 0s - loss: 0.3785 - acc: 0.8388 - val_loss: 0.3948 - val_acc: 0.8267\n",
      "Epoch 9/30\n",
      " - 0s - loss: 0.3727 - acc: 0.8422 - val_loss: 0.3862 - val_acc: 0.8337\n",
      "Epoch 10/30\n",
      " - 0s - loss: 0.3684 - acc: 0.8463 - val_loss: 0.3821 - val_acc: 0.8353\n",
      "Epoch 11/30\n",
      " - 0s - loss: 0.3629 - acc: 0.8488 - val_loss: 0.3772 - val_acc: 0.8416\n",
      "Epoch 12/30\n",
      " - 0s - loss: 0.3606 - acc: 0.8481 - val_loss: 0.3719 - val_acc: 0.8478\n",
      "Epoch 13/30\n",
      " - 0s - loss: 0.3580 - acc: 0.8491 - val_loss: 0.3702 - val_acc: 0.8549\n",
      "Epoch 14/30\n",
      " - 0s - loss: 0.3552 - acc: 0.8521 - val_loss: 0.3676 - val_acc: 0.8541\n",
      "Epoch 15/30\n",
      " - 0s - loss: 0.3521 - acc: 0.8524 - val_loss: 0.3643 - val_acc: 0.8596\n",
      "Epoch 16/30\n",
      " - 0s - loss: 0.3494 - acc: 0.8546 - val_loss: 0.3615 - val_acc: 0.8596\n",
      "Epoch 17/30\n",
      " - 0s - loss: 0.3480 - acc: 0.8570 - val_loss: 0.3591 - val_acc: 0.8596\n",
      "Epoch 18/30\n",
      " - 0s - loss: 0.3458 - acc: 0.8566 - val_loss: 0.3581 - val_acc: 0.8573\n",
      "Epoch 19/30\n",
      " - 0s - loss: 0.3431 - acc: 0.8580 - val_loss: 0.3542 - val_acc: 0.8612\n",
      "Epoch 20/30\n",
      " - 0s - loss: 0.3404 - acc: 0.8587 - val_loss: 0.3495 - val_acc: 0.8643\n",
      "Epoch 21/30\n",
      " - 0s - loss: 0.3398 - acc: 0.8587 - val_loss: 0.3535 - val_acc: 0.8541\n",
      "Epoch 22/30\n",
      " - 0s - loss: 0.3361 - acc: 0.8602 - val_loss: 0.3463 - val_acc: 0.8635\n",
      "Epoch 23/30\n",
      " - 0s - loss: 0.3350 - acc: 0.8628 - val_loss: 0.3440 - val_acc: 0.8667\n",
      "Epoch 24/30\n",
      " - 0s - loss: 0.3318 - acc: 0.8648 - val_loss: 0.3408 - val_acc: 0.8682\n",
      "Epoch 25/30\n",
      " - 0s - loss: 0.3296 - acc: 0.8641 - val_loss: 0.3399 - val_acc: 0.8690\n",
      "Epoch 26/30\n",
      " - 0s - loss: 0.3284 - acc: 0.8668 - val_loss: 0.3366 - val_acc: 0.8682\n",
      "Epoch 27/30\n",
      " - 0s - loss: 0.3261 - acc: 0.8670 - val_loss: 0.3371 - val_acc: 0.8706\n",
      "Epoch 28/30\n",
      " - 0s - loss: 0.3256 - acc: 0.8675 - val_loss: 0.3404 - val_acc: 0.8682\n",
      "Epoch 29/30\n",
      " - 0s - loss: 0.3234 - acc: 0.8675 - val_loss: 0.3314 - val_acc: 0.8698\n",
      "Epoch 30/30\n",
      " - 0s - loss: 0.3220 - acc: 0.8686 - val_loss: 0.3316 - val_acc: 0.8706\n"
     ]
    }
   ],
   "source": [
    "train_history =model.fit(x=train_Features, \n",
    "                         y=train_Label, \n",
    "                         validation_split=0.1, \n",
    "                         epochs=30, \n",
    "                         batch_size=400,verbose=2)"
   ]
  },
  {
   "cell_type": "code",
   "execution_count": 40,
   "metadata": {
    "collapsed": true
   },
   "outputs": [],
   "source": [
    "import matplotlib.pyplot as plt\n",
    "def show_train_history(train_history,train,validation):\n",
    "    plt.plot(train_history.history[train])\n",
    "    plt.plot(train_history.history[validation])\n",
    "    plt.title('Train History')\n",
    "    plt.ylabel(train)\n",
    "    plt.xlabel('Epoch')\n",
    "    plt.legend(['train', 'validation'], loc='upper left')\n",
    "    plt.show()"
   ]
  },
  {
   "cell_type": "code",
   "execution_count": 41,
   "metadata": {
    "collapsed": false
   },
   "outputs": [
    {
     "data": {
      "image/png": "[encoded data removed]",
      "text/plain": [
       "<matplotlib.figure.Figure at 0x7f0e450edd30>"
      ]
     },
     "metadata": {},
     "output_type": "display_data"
    }
   ],
   "source": [
    "show_train_history(train_history,'acc','val_acc')"
   ]
  },
  {
   "cell_type": "code",
   "execution_count": 42,
   "metadata": {
    "collapsed": false
   },
   "outputs": [
    {
     "data": {
      "image/png": "[encoded data removed]",
      "text/plain": [
       "<matplotlib.figure.Figure at 0x7f0e2c396c18>"
      ]
     },
     "metadata": {},
     "output_type": "display_data"
    }
   ],
   "source": [
    "show_train_history(train_history,'loss','val_loss')"
   ]
  },
  {
   "cell_type": "code",
   "execution_count": 43,
   "metadata": {
    "collapsed": false
   },
   "outputs": [
    {
     "name": "stdout",
     "output_type": "stream",
     "text": [
      "6277/6277 [==============================] - 0s 40us/step\n"
     ]
    }
   ],
   "source": [
    "scores = model.evaluate(x=test_Features, \n",
    "                        y=test_Label)"
   ]
  },
  {
   "cell_type": "code",
   "execution_count": 44,
   "metadata": {
    "collapsed": false
   },
   "outputs": [
    {
     "data": {
      "text/plain": [
       "0.8677712283032666"
      ]
     },
     "execution_count": 44,
     "metadata": {},
     "output_type": "execute_result"
    }
   ],
   "source": [
    "scores[1]"
   ]
  }
 ],
 "metadata": {
  "anaconda-cloud": {},
  "kernelspec": {
   "display_name": "Python [default]",
   "language": "python",
   "name": "python3"
  },
  "language_info": {
   "codemirror_mode": {
    "name": "ipython",
    "version": 3
   },
   "file_extension": ".py",
   "mimetype": "text/x-python",
   "name": "python",
   "nbconvert_exporter": "python",
   "pygments_lexer": "ipython3",
   "version": "3.5.2"
  }
 },
 "nbformat": 4,
 "nbformat_minor": 1
}
