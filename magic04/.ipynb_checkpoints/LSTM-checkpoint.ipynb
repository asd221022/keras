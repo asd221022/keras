{
 "cells": [
  {
   "cell_type": "code",
   "execution_count": 22,
   "metadata": {
    "collapsed": false
   },
   "outputs": [],
   "source": [
    "import numpy as np\n",
    "import pandas as pd\n",
    "from sklearn.preprocessing import StandardScaler\n",
    "from sklearn.cross_validation import train_test_split"
   ]
  },
  {
   "cell_type": "code",
   "execution_count": 23,
   "metadata": {
    "collapsed": false
   },
   "outputs": [],
   "source": [
    "Ynames = ['fLength', 'fWidth', 'fSize', 'fConc', 'fConc1', 'fAsym', \n",
    "             'fM3Long', 'fM3Trans', 'fAlpha', 'fDist', 'identity']\n",
    "featureNames = ['fLength', 'fWidth', 'fSize', 'fConc', 'fConc1', 'fAsym', \n",
    "             'fM3Long', 'fM3Trans', 'fAlpha', 'fDist']\n",
    "filepath = 'data/magic04.data'\n",
    "data = pd.read_csv(filepath, names=Ynames, header=None)\n",
    "data['identity']= data['identity'].map({'g':1, 'h': 0}).astype(int) \n",
    "X = data[featureNames].values\n",
    "Y = data['identity'].values.astype('int64')"
   ]
  },
  {
   "cell_type": "code",
   "execution_count": 24,
   "metadata": {
    "collapsed": false
   },
   "outputs": [
    {
     "data": {
      "text/plain": [
       "array([[ 0.79740705, -0.1578891 , -0.23152804, -0.61664074, -0.66200823,\n",
       "        -1.23405059, -0.97063591,  0.58256769, -0.89506055,  0.23109882],\n",
       "       [-0.65356253, -0.55720068, -0.85956158,  1.84878286,  1.96404852,\n",
       "         0.22744629,  0.20662957,  0.51747876, -0.69181903, -1.71534901]])"
      ]
     },
     "execution_count": 24,
     "metadata": {},
     "output_type": "execute_result"
    }
   ],
   "source": [
    "X = StandardScaler().fit_transform(X)\n",
    "train_Features, test_Features, train_Label, test_Label = train_test_split(X, Y, test_size=0.33, random_state=None) \n",
    "train_Features[:2]"
   ]
  },
  {
   "cell_type": "code",
   "execution_count": 25,
   "metadata": {
    "collapsed": false
   },
   "outputs": [
    {
     "data": {
      "text/plain": [
       "array([[ 0.04001172, -0.59151413,  0.12777147, -0.33547195, -0.12177532,\n",
       "        -0.16402392, -0.77774894,  0.37377513, -0.6712926 , -1.72366965],\n",
       "       [ 0.89772869, -0.37603436, -0.49052839, -0.18230608, -0.31452174,\n",
       "         1.08587251,  0.75917222, -0.4568337 ,  1.50127924, -1.47663975]])"
      ]
     },
     "execution_count": 25,
     "metadata": {},
     "output_type": "execute_result"
    }
   ],
   "source": [
    "test_Features[:2]"
   ]
  },
  {
   "cell_type": "code",
   "execution_count": 26,
   "metadata": {
    "collapsed": false
   },
   "outputs": [
    {
     "data": {
      "text/plain": [
       "array([1, 0, 1, 1])"
      ]
     },
     "execution_count": 26,
     "metadata": {},
     "output_type": "execute_result"
    }
   ],
   "source": [
    "train_Label[:4]"
   ]
  },
  {
   "cell_type": "code",
   "execution_count": 27,
   "metadata": {
    "collapsed": false
   },
   "outputs": [
    {
     "data": {
      "text/plain": [
       "(12743, 10)"
      ]
     },
     "execution_count": 27,
     "metadata": {},
     "output_type": "execute_result"
    }
   ],
   "source": [
    "train_Features.shape"
   ]
  },
  {
   "cell_type": "code",
   "execution_count": 28,
   "metadata": {
    "collapsed": false
   },
   "outputs": [
    {
     "data": {
      "text/plain": [
       "array([0, 0, 0, 1])"
      ]
     },
     "execution_count": 28,
     "metadata": {},
     "output_type": "execute_result"
    }
   ],
   "source": [
    "test_Label[:4]"
   ]
  },
  {
   "cell_type": "code",
   "execution_count": 29,
   "metadata": {
    "collapsed": true
   },
   "outputs": [],
   "source": [
    "train_Features = train_Features.reshape((train_Features.shape[0], train_Features.shape[1], 1))"
   ]
  },
  {
   "cell_type": "code",
   "execution_count": 30,
   "metadata": {
    "collapsed": true
   },
   "outputs": [],
   "source": [
    "test_Features = test_Features.reshape((test_Features.shape[0], test_Features.shape[1], 1))"
   ]
  },
  {
   "cell_type": "code",
   "execution_count": 31,
   "metadata": {
    "collapsed": false
   },
   "outputs": [],
   "source": [
    "from keras.models import Sequential\n",
    "from keras.layers.core import Dense, Dropout, Activation\n",
    "from keras.layers.embeddings import Embedding\n",
    "from keras.layers.recurrent import LSTM"
   ]
  },
  {
   "cell_type": "code",
   "execution_count": 32,
   "metadata": {
    "collapsed": true
   },
   "outputs": [],
   "source": [
    "model = Sequential()"
   ]
  },
  {
   "cell_type": "code",
   "execution_count": 33,
   "metadata": {
    "collapsed": false
   },
   "outputs": [],
   "source": [
    "model.add(LSTM(units=32, input_shape=(10,1)))"
   ]
  },
  {
   "cell_type": "code",
   "execution_count": 34,
   "metadata": {
    "collapsed": true
   },
   "outputs": [],
   "source": [
    "model.add(Dense(1, activation = \"sigmoid\"))"
   ]
  },
  {
   "cell_type": "code",
   "execution_count": 35,
   "metadata": {
    "collapsed": false
   },
   "outputs": [
    {
     "name": "stdout",
     "output_type": "stream",
     "text": [
      "_________________________________________________________________\n",
      "Layer (type)                 Output Shape              Param #   \n",
      "=================================================================\n",
      "lstm_2 (LSTM)                (None, 32)                4352      \n",
      "_________________________________________________________________\n",
      "dense_2 (Dense)              (None, 1)                 33        \n",
      "=================================================================\n",
      "Total params: 4,385\n",
      "Trainable params: 4,385\n",
      "Non-trainable params: 0\n",
      "_________________________________________________________________\n"
     ]
    }
   ],
   "source": [
    "model.summary()"
   ]
  },
  {
   "cell_type": "code",
   "execution_count": 36,
   "metadata": {
    "collapsed": false
   },
   "outputs": [],
   "source": [
    "model.compile(loss='binary_crossentropy', \n",
    "              optimizer='adam', metrics=['accuracy'])"
   ]
  },
  {
   "cell_type": "code",
   "execution_count": 37,
   "metadata": {
    "collapsed": false
   },
   "outputs": [
    {
     "name": "stdout",
     "output_type": "stream",
     "text": [
      "Train on 10194 samples, validate on 2549 samples\n",
      "Epoch 1/30\n",
      "10194/10194 [==============================] - 8s 770us/step - loss: 0.6668 - acc: 0.6456 - val_loss: 0.6334 - val_acc: 0.6579\n",
      "Epoch 2/30\n",
      "10194/10194 [==============================] - 3s 343us/step - loss: 0.5915 - acc: 0.6985 - val_loss: 0.5804 - val_acc: 0.6952\n",
      "Epoch 3/30\n",
      "10194/10194 [==============================] - 4s 370us/step - loss: 0.5624 - acc: 0.7128 - val_loss: 0.5605 - val_acc: 0.7066\n",
      "Epoch 4/30\n",
      "10194/10194 [==============================] - 4s 374us/step - loss: 0.5455 - acc: 0.7212 - val_loss: 0.5460 - val_acc: 0.7175\n",
      "Epoch 5/30\n",
      "10194/10194 [==============================] - 3s 261us/step - loss: 0.5318 - acc: 0.7325 - val_loss: 0.5312 - val_acc: 0.7289\n",
      "Epoch 6/30\n",
      "10194/10194 [==============================] - 2s 201us/step - loss: 0.5181 - acc: 0.7446 - val_loss: 0.5162 - val_acc: 0.7454\n",
      "Epoch 7/30\n",
      "10194/10194 [==============================] - 3s 310us/step - loss: 0.5035 - acc: 0.7582 - val_loss: 0.5051 - val_acc: 0.7497\n",
      "Epoch 8/30\n",
      "10194/10194 [==============================] - 3s 290us/step - loss: 0.4864 - acc: 0.7704 - val_loss: 0.4847 - val_acc: 0.7717\n",
      "Epoch 9/30\n",
      "10194/10194 [==============================] - 2s 243us/step - loss: 0.4658 - acc: 0.7858 - val_loss: 0.4566 - val_acc: 0.7987\n",
      "Epoch 10/30\n",
      "10194/10194 [==============================] - 2s 241us/step - loss: 0.4449 - acc: 0.8026 - val_loss: 0.4374 - val_acc: 0.8164\n",
      "Epoch 11/30\n",
      "10194/10194 [==============================] - 2s 234us/step - loss: 0.4326 - acc: 0.8119 - val_loss: 0.4277 - val_acc: 0.8195\n",
      "Epoch 12/30\n",
      "10194/10194 [==============================] - 3s 264us/step - loss: 0.4200 - acc: 0.8163 - val_loss: 0.4161 - val_acc: 0.8270\n",
      "Epoch 13/30\n",
      "10194/10194 [==============================] - 3s 256us/step - loss: 0.4105 - acc: 0.8192 - val_loss: 0.4123 - val_acc: 0.8203\n",
      "Epoch 14/30\n",
      "10194/10194 [==============================] - 2s 236us/step - loss: 0.4024 - acc: 0.8235 - val_loss: 0.4023 - val_acc: 0.8321\n",
      "Epoch 15/30\n",
      "10194/10194 [==============================] - 3s 256us/step - loss: 0.3975 - acc: 0.8238 - val_loss: 0.4027 - val_acc: 0.8250\n",
      "Epoch 16/30\n",
      "10194/10194 [==============================] - 2s 243us/step - loss: 0.3942 - acc: 0.8260 - val_loss: 0.3942 - val_acc: 0.8321\n",
      "Epoch 17/30\n",
      "10194/10194 [==============================] - 3s 256us/step - loss: 0.3884 - acc: 0.8297 - val_loss: 0.3942 - val_acc: 0.8344\n",
      "Epoch 18/30\n",
      "10194/10194 [==============================] - 3s 271us/step - loss: 0.3855 - acc: 0.8302 - val_loss: 0.3895 - val_acc: 0.8266\n",
      "Epoch 19/30\n",
      "10194/10194 [==============================] - 3s 267us/step - loss: 0.3835 - acc: 0.8317 - val_loss: 0.3846 - val_acc: 0.8376\n",
      "Epoch 20/30\n",
      "10194/10194 [==============================] - 3s 249us/step - loss: 0.3794 - acc: 0.8341 - val_loss: 0.3850 - val_acc: 0.8368\n",
      "Epoch 21/30\n",
      "10194/10194 [==============================] - 3s 260us/step - loss: 0.3796 - acc: 0.8339 - val_loss: 0.3800 - val_acc: 0.8427\n",
      "Epoch 22/30\n",
      "10194/10194 [==============================] - 3s 254us/step - loss: 0.3756 - acc: 0.8378 - val_loss: 0.3787 - val_acc: 0.8380\n",
      "Epoch 23/30\n",
      "10194/10194 [==============================] - 2s 241us/step - loss: 0.3748 - acc: 0.8376 - val_loss: 0.3786 - val_acc: 0.8423\n",
      "Epoch 24/30\n",
      "10194/10194 [==============================] - 3s 258us/step - loss: 0.3755 - acc: 0.8332 - val_loss: 0.3768 - val_acc: 0.8392\n",
      "Epoch 25/30\n",
      "10194/10194 [==============================] - 3s 275us/step - loss: 0.3725 - acc: 0.8378 - val_loss: 0.3743 - val_acc: 0.8423\n",
      "Epoch 26/30\n",
      "10194/10194 [==============================] - 3s 269us/step - loss: 0.3705 - acc: 0.8400 - val_loss: 0.3768 - val_acc: 0.8399\n",
      "Epoch 27/30\n",
      "10194/10194 [==============================] - 2s 244us/step - loss: 0.3711 - acc: 0.8391 - val_loss: 0.3721 - val_acc: 0.8415\n",
      "Epoch 28/30\n",
      "10194/10194 [==============================] - 3s 250us/step - loss: 0.3704 - acc: 0.8374 - val_loss: 0.3721 - val_acc: 0.8446\n",
      "Epoch 29/30\n",
      "10194/10194 [==============================] - 2s 243us/step - loss: 0.3688 - acc: 0.8393 - val_loss: 0.3689 - val_acc: 0.8450\n",
      "Epoch 30/30\n",
      "10194/10194 [==============================] - 2s 232us/step - loss: 0.3678 - acc: 0.8408 - val_loss: 0.3685 - val_acc: 0.8458\n"
     ]
    }
   ],
   "source": [
    "train_history =model.fit(x=train_Features, \n",
    "                         y=train_Label, \n",
    "                         validation_split=0.2, \n",
    "                         epochs=30, \n",
    "                         batch_size=300,verbose=1)"
   ]
  },
  {
   "cell_type": "code",
   "execution_count": 38,
   "metadata": {
    "collapsed": true
   },
   "outputs": [],
   "source": [
    "import matplotlib.pyplot as plt\n",
    "def show_train_history(train_history,train,validation):\n",
    "    plt.plot(train_history.history[train])\n",
    "    plt.plot(train_history.history[validation])\n",
    "    plt.title('Train History')\n",
    "    plt.ylabel(train)\n",
    "    plt.xlabel('Epoch')\n",
    "    plt.legend(['train', 'validation'], loc='upper left')\n",
    "    plt.show()"
   ]
  },
  {
   "cell_type": "code",
   "execution_count": 39,
   "metadata": {
    "collapsed": false
   },
   "outputs": [
    {
     "data": {
      "image/png": "[encoded data removed]",
      "text/plain": [
       "<matplotlib.figure.Figure at 0x7f268ec109e8>"
      ]
     },
     "metadata": {},
     "output_type": "display_data"
    }
   ],
   "source": [
    "show_train_history(train_history,'acc','val_acc')"
   ]
  },
  {
   "cell_type": "code",
   "execution_count": 40,
   "metadata": {
    "collapsed": false
   },
   "outputs": [
    {
     "data": {
      "image/png": "[encoded data removed]",
      "text/plain": [
       "<matplotlib.figure.Figure at 0x7f268c172320>"
      ]
     },
     "metadata": {},
     "output_type": "display_data"
    }
   ],
   "source": [
    "show_train_history(train_history,'loss','val_loss')"
   ]
  },
  {
   "cell_type": "code",
   "execution_count": 41,
   "metadata": {
    "collapsed": false
   },
   "outputs": [
    {
     "name": "stdout",
     "output_type": "stream",
     "text": [
      "6277/6277 [==============================] - 2s 251us/step\n"
     ]
    }
   ],
   "source": [
    "scores = model.evaluate(x=test_Features, \n",
    "                        y=test_Label)"
   ]
  },
  {
   "cell_type": "code",
   "execution_count": 42,
   "metadata": {
    "collapsed": false
   },
   "outputs": [
    {
     "data": {
      "text/plain": [
       "0.8327226382219547"
      ]
     },
     "execution_count": 42,
     "metadata": {},
     "output_type": "execute_result"
    }
   ],
   "source": [
    "scores[1]"
   ]
  }
 ],
 "metadata": {
  "anaconda-cloud": {},
  "kernelspec": {
   "display_name": "Python [default]",
   "language": "python",
   "name": "python3"
  },
  "language_info": {
   "codemirror_mode": {
    "name": "ipython",
    "version": 3
   },
   "file_extension": ".py",
   "mimetype": "text/x-python",
   "name": "python",
   "nbconvert_exporter": "python",
   "pygments_lexer": "ipython3",
   "version": "3.5.2"
  }
 },
 "nbformat": 4,
 "nbformat_minor": 1
}
