{
 "cells": [
  {
   "cell_type": "code",
   "execution_count": 1,
   "metadata": {
    "collapsed": false
   },
   "outputs": [],
   "source": [
    "import numpy as np\n",
    "import pandas as pd\n",
    "from sklearn.preprocessing import StandardScaler\n",
    "from sklearn.model_selection import train_test_split"
   ]
  },
  {
   "cell_type": "code",
   "execution_count": 2,
   "metadata": {
    "collapsed": false
   },
   "outputs": [],
   "source": [
    "Ynames = ['fLength', 'fWidth', 'fSize', 'fConc', 'fConc1', 'fAsym', \n",
    "             'fM3Long', 'fM3Trans', 'fAlpha', 'fDist', 'identity']\n",
    "featureNames = ['fLength', 'fWidth', 'fSize', 'fConc', 'fConc1', 'fAsym', \n",
    "             'fM3Long', 'fM3Trans', 'fAlpha', 'fDist']\n",
    "filepath = 'magic04.data'\n",
    "data = pd.read_csv(filepath, names=Ynames, header=None)\n",
    "data['identity']= data['identity'].map({'g':1, 'h': 0}).astype(int) \n",
    "X = data[featureNames].values.astype('float64')\n",
    "Y = data['identity'].values.astype('int64')"
   ]
  },
  {
   "cell_type": "code",
   "execution_count": 3,
   "metadata": {
    "collapsed": false
   },
   "outputs": [
    {
     "data": {
      "text/plain": [
       "array([[ 4.24393221,  9.7670988 ,  3.29460098, -1.80312927, -1.63840906,\n",
       "        -3.96938464, -4.4781004 ,  6.30458821, -0.60340368,  0.64621154],\n",
       "       [-0.42940622, -0.22249324, -0.12234161, -0.33164281, -0.38781967,\n",
       "         0.45212345,  0.24768937, -0.61156635, -0.89088477, -1.59514532]])"
      ]
     },
     "execution_count": 3,
     "metadata": {},
     "output_type": "execute_result"
    }
   ],
   "source": [
    "X = StandardScaler().fit_transform(X)\n",
    "train_Features, test_Features, train_Label, test_Label = train_test_split(X, Y, test_size=0.2, random_state=None) \n",
    "train_Features[:2]"
   ]
  },
  {
   "cell_type": "code",
   "execution_count": 4,
   "metadata": {
    "collapsed": false
   },
   "outputs": [
    {
     "data": {
      "text/plain": [
       "array([[-0.52283517, -0.43707361, -0.28061961, -0.2036399 , -0.33442982,\n",
       "         0.15038121, -0.05690224, -0.35631462, -0.90528928, -1.46761123],\n",
       "       [ 1.67988341, -0.17926211,  0.06556061, -0.91859633, -0.91538379,\n",
       "        -0.58621476, -3.24539829, -0.39583564,  0.14235156, -0.85669716]])"
      ]
     },
     "execution_count": 4,
     "metadata": {},
     "output_type": "execute_result"
    }
   ],
   "source": [
    "test_Features[:2]"
   ]
  },
  {
   "cell_type": "code",
   "execution_count": 5,
   "metadata": {
    "collapsed": false
   },
   "outputs": [
    {
     "data": {
      "text/plain": [
       "array([0, 1, 1, 1])"
      ]
     },
     "execution_count": 5,
     "metadata": {},
     "output_type": "execute_result"
    }
   ],
   "source": [
    "train_Label[:4]"
   ]
  },
  {
   "cell_type": "code",
   "execution_count": 6,
   "metadata": {
    "collapsed": false
   },
   "outputs": [
    {
     "data": {
      "text/plain": [
       "(15216, 10)"
      ]
     },
     "execution_count": 6,
     "metadata": {},
     "output_type": "execute_result"
    }
   ],
   "source": [
    "train_Features.shape"
   ]
  },
  {
   "cell_type": "code",
   "execution_count": 7,
   "metadata": {
    "collapsed": false
   },
   "outputs": [
    {
     "data": {
      "text/plain": [
       "array([1, 0, 0, 1])"
      ]
     },
     "execution_count": 7,
     "metadata": {},
     "output_type": "execute_result"
    }
   ],
   "source": [
    "test_Label[:4]"
   ]
  },
  {
   "cell_type": "code",
   "execution_count": 8,
   "metadata": {
    "collapsed": false
   },
   "outputs": [
    {
     "name": "stderr",
     "output_type": "stream",
     "text": [
      "Using TensorFlow backend.\n"
     ]
    }
   ],
   "source": [
    "from keras.models import Sequential\n",
    "from keras.layers import Dense,Dropout\n",
    "from keras.callbacks import EarlyStopping\n",
    "early_stopping = EarlyStopping(monitor='val_loss', patience=3)"
   ]
  },
  {
   "cell_type": "code",
   "execution_count": 9,
   "metadata": {
    "collapsed": true
   },
   "outputs": [],
   "source": [
    "model = Sequential()"
   ]
  },
  {
   "cell_type": "code",
   "execution_count": 10,
   "metadata": {
    "collapsed": true
   },
   "outputs": [],
   "source": [
    "model.add(Dense(units=20,  input_dim=10, \n",
    "                kernel_initializer='uniform', \n",
    "                activation='relu'))"
   ]
  },
  {
   "cell_type": "code",
   "execution_count": 11,
   "metadata": {
    "collapsed": true
   },
   "outputs": [],
   "source": [
    "model.add(Dense(units=1, \n",
    "                kernel_initializer='uniform',\n",
    "                activation='sigmoid'))"
   ]
  },
  {
   "cell_type": "code",
   "execution_count": 12,
   "metadata": {
    "collapsed": false
   },
   "outputs": [
    {
     "name": "stdout",
     "output_type": "stream",
     "text": [
      "_________________________________________________________________\n",
      "Layer (type)                 Output Shape              Param #   \n",
      "=================================================================\n",
      "dense_1 (Dense)              (None, 20)                220       \n",
      "_________________________________________________________________\n",
      "dense_2 (Dense)              (None, 1)                 21        \n",
      "=================================================================\n",
      "Total params: 241\n",
      "Trainable params: 241\n",
      "Non-trainable params: 0\n",
      "_________________________________________________________________\n"
     ]
    }
   ],
   "source": [
    "model.summary()"
   ]
  },
  {
   "cell_type": "code",
   "execution_count": 13,
   "metadata": {
    "collapsed": true
   },
   "outputs": [],
   "source": [
    "model.compile(loss='binary_crossentropy', \n",
    "              optimizer='adam', metrics=['accuracy'])"
   ]
  },
  {
   "cell_type": "code",
   "execution_count": 14,
   "metadata": {
    "collapsed": false
   },
   "outputs": [
    {
     "name": "stdout",
     "output_type": "stream",
     "text": [
      "Train on 13694 samples, validate on 1522 samples\n",
      "Epoch 1/30\n",
      " - 1s - loss: 0.6833 - acc: 0.7134 - val_loss: 0.6713 - val_acc: 0.7063\n",
      "Epoch 2/30\n",
      " - 0s - loss: 0.6469 - acc: 0.7468 - val_loss: 0.6229 - val_acc: 0.7306\n",
      "Epoch 3/30\n",
      " - 0s - loss: 0.5863 - acc: 0.7611 - val_loss: 0.5620 - val_acc: 0.7444\n",
      "Epoch 4/30\n",
      " - 0s - loss: 0.5255 - acc: 0.7737 - val_loss: 0.5109 - val_acc: 0.7700\n",
      "Epoch 5/30\n",
      " - 0s - loss: 0.4813 - acc: 0.7835 - val_loss: 0.4748 - val_acc: 0.7766\n",
      "Epoch 6/30\n",
      " - 0s - loss: 0.4536 - acc: 0.7911 - val_loss: 0.4523 - val_acc: 0.7891\n",
      "Epoch 7/30\n",
      " - 0s - loss: 0.4374 - acc: 0.7973 - val_loss: 0.4390 - val_acc: 0.7911\n",
      "Epoch 8/30\n",
      " - 0s - loss: 0.4275 - acc: 0.8011 - val_loss: 0.4303 - val_acc: 0.7930\n",
      "Epoch 9/30\n",
      " - 0s - loss: 0.4207 - acc: 0.8049 - val_loss: 0.4247 - val_acc: 0.7963\n",
      "Epoch 10/30\n",
      " - 0s - loss: 0.4157 - acc: 0.8068 - val_loss: 0.4210 - val_acc: 0.7996\n",
      "Epoch 11/30\n",
      " - 0s - loss: 0.4113 - acc: 0.8104 - val_loss: 0.4174 - val_acc: 0.8035\n",
      "Epoch 12/30\n",
      " - 0s - loss: 0.4077 - acc: 0.8122 - val_loss: 0.4139 - val_acc: 0.8068\n",
      "Epoch 13/30\n",
      " - 0s - loss: 0.4042 - acc: 0.8154 - val_loss: 0.4118 - val_acc: 0.8075\n",
      "Epoch 14/30\n",
      " - 0s - loss: 0.4010 - acc: 0.8175 - val_loss: 0.4091 - val_acc: 0.8068\n",
      "Epoch 15/30\n",
      " - 0s - loss: 0.3980 - acc: 0.8212 - val_loss: 0.4069 - val_acc: 0.8088\n",
      "Epoch 16/30\n",
      " - 0s - loss: 0.3952 - acc: 0.8210 - val_loss: 0.4055 - val_acc: 0.8095\n",
      "Epoch 17/30\n",
      " - 0s - loss: 0.3925 - acc: 0.8234 - val_loss: 0.4034 - val_acc: 0.8114\n",
      "Epoch 18/30\n",
      " - 0s - loss: 0.3898 - acc: 0.8255 - val_loss: 0.4018 - val_acc: 0.8167\n",
      "Epoch 19/30\n",
      " - 0s - loss: 0.3873 - acc: 0.8264 - val_loss: 0.4006 - val_acc: 0.8173\n",
      "Epoch 20/30\n",
      " - 0s - loss: 0.3848 - acc: 0.8296 - val_loss: 0.3984 - val_acc: 0.8187\n",
      "Epoch 21/30\n",
      " - 0s - loss: 0.3825 - acc: 0.8319 - val_loss: 0.3966 - val_acc: 0.8193\n",
      "Epoch 22/30\n",
      " - 0s - loss: 0.3803 - acc: 0.8329 - val_loss: 0.3955 - val_acc: 0.8187\n",
      "Epoch 23/30\n",
      " - 0s - loss: 0.3781 - acc: 0.8358 - val_loss: 0.3940 - val_acc: 0.8200\n",
      "Epoch 24/30\n",
      " - 0s - loss: 0.3759 - acc: 0.8374 - val_loss: 0.3923 - val_acc: 0.8167\n",
      "Epoch 25/30\n",
      " - 0s - loss: 0.3739 - acc: 0.8383 - val_loss: 0.3911 - val_acc: 0.8213\n",
      "Epoch 26/30\n",
      " - 0s - loss: 0.3720 - acc: 0.8397 - val_loss: 0.3903 - val_acc: 0.8226\n",
      "Epoch 27/30\n",
      " - 0s - loss: 0.3698 - acc: 0.8412 - val_loss: 0.3881 - val_acc: 0.8226\n",
      "Epoch 28/30\n",
      " - 0s - loss: 0.3681 - acc: 0.8432 - val_loss: 0.3867 - val_acc: 0.8272\n",
      "Epoch 29/30\n",
      " - 0s - loss: 0.3663 - acc: 0.8460 - val_loss: 0.3855 - val_acc: 0.8259\n",
      "Epoch 30/30\n",
      " - 0s - loss: 0.3648 - acc: 0.8461 - val_loss: 0.3842 - val_acc: 0.8272\n"
     ]
    }
   ],
   "source": [
    "train_history =model.fit(x=train_Features, \n",
    "                         y=train_Label, \n",
    "                         validation_split=0.1, \n",
    "                         epochs=30, \n",
    "                         batch_size=400,verbose=2,callbacks=[early_stopping])"
   ]
  },
  {
   "cell_type": "code",
   "execution_count": 15,
   "metadata": {
    "collapsed": true
   },
   "outputs": [],
   "source": [
    "import matplotlib.pyplot as plt\n",
    "def show_train_history(train_history,train,validation):\n",
    "    plt.plot(train_history.history[train])\n",
    "    plt.plot(train_history.history[validation])\n",
    "    plt.title('Train History')\n",
    "    plt.ylabel(train)\n",
    "    plt.xlabel('Epoch')\n",
    "    plt.legend(['train', 'validation'], loc='upper left')\n",
    "    plt.show()"
   ]
  },
  {
   "cell_type": "code",
   "execution_count": 16,
   "metadata": {
    "collapsed": false
   },
   "outputs": [
    {
     "data": {
      "image/png": "[encoded data removed]",
      "text/plain": [
       "<matplotlib.figure.Figure at 0x7fef6c9c3f98>"
      ]
     },
     "metadata": {},
     "output_type": "display_data"
    }
   ],
   "source": [
    "show_train_history(train_history,'acc','val_acc')"
   ]
  },
  {
   "cell_type": "code",
   "execution_count": 17,
   "metadata": {
    "collapsed": false
   },
   "outputs": [
    {
     "data": {
      "image/png": "[encoded data removed]",
      "text/plain": [
       "<matplotlib.figure.Figure at 0x7fef6ca29b38>"
      ]
     },
     "metadata": {},
     "output_type": "display_data"
    }
   ],
   "source": [
    "show_train_history(train_history,'loss','val_loss')"
   ]
  },
  {
   "cell_type": "code",
   "execution_count": 18,
   "metadata": {
    "collapsed": false
   },
   "outputs": [
    {
     "name": "stdout",
     "output_type": "stream",
     "text": [
      "3804/3804 [==============================] - 0s 61us/step\n"
     ]
    }
   ],
   "source": [
    "scores = model.evaluate(x=test_Features, \n",
    "                        y=test_Label)"
   ]
  },
  {
   "cell_type": "code",
   "execution_count": 19,
   "metadata": {
    "collapsed": false
   },
   "outputs": [
    {
     "data": {
      "text/plain": [
       "0.843322818086225"
      ]
     },
     "execution_count": 19,
     "metadata": {},
     "output_type": "execute_result"
    }
   ],
   "source": [
    "scores[1]"
   ]
  }
 ],
 "metadata": {
  "anaconda-cloud": {},
  "kernelspec": {
   "display_name": "Python [default]",
   "language": "python",
   "name": "python3"
  },
  "language_info": {
   "codemirror_mode": {
    "name": "ipython",
    "version": 3
   },
   "file_extension": ".py",
   "mimetype": "text/x-python",
   "name": "python",
   "nbconvert_exporter": "python",
   "pygments_lexer": "ipython3",
   "version": "3.5.2"
  }
 },
 "nbformat": 4,
 "nbformat_minor": 1
}
