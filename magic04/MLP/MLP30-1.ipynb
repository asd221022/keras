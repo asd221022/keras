{
 "cells": [
  {
   "cell_type": "code",
   "execution_count": 1,
   "metadata": {
    "collapsed": false
   },
   "outputs": [],
   "source": [
    "import numpy as np\n",
    "import pandas as pd\n",
    "from sklearn.preprocessing import StandardScaler\n",
    "from sklearn.model_selection import train_test_split"
   ]
  },
  {
   "cell_type": "code",
   "execution_count": 2,
   "metadata": {
    "collapsed": false
   },
   "outputs": [],
   "source": [
    "Ynames = ['fLength', 'fWidth', 'fSize', 'fConc', 'fConc1', 'fAsym', \n",
    "             'fM3Long', 'fM3Trans', 'fAlpha', 'fDist', 'identity']\n",
    "featureNames = ['fLength', 'fWidth', 'fSize', 'fConc', 'fConc1', 'fAsym', \n",
    "             'fM3Long', 'fM3Trans', 'fAlpha', 'fDist']\n",
    "filepath = 'magic04.data'\n",
    "data = pd.read_csv(filepath, names=Ynames, header=None)\n",
    "data['identity']= data['identity'].map({'g':1, 'h': 0}).astype(int) \n",
    "X = data[featureNames].values.astype('float64')\n",
    "Y = data['identity'].values.astype('int64')"
   ]
  },
  {
   "cell_type": "code",
   "execution_count": 3,
   "metadata": {
    "collapsed": false
   },
   "outputs": [
    {
     "data": {
      "text/plain": [
       "array([[-0.78652057, -0.92291831, -0.85279033,  1.66771891,  2.50066177,\n",
       "        -0.30234447, -0.75709354,  0.11897474,  1.03614762, -0.34260922],\n",
       "       [-0.78620426, -0.5094998 , -1.01487715,  0.43856275,  0.16146236,\n",
       "         0.04867105, -0.0438235 ,  0.38978328,  0.10975752,  0.09210478]])"
      ]
     },
     "execution_count": 3,
     "metadata": {},
     "output_type": "execute_result"
    }
   ],
   "source": [
    "X = StandardScaler().fit_transform(X)\n",
    "train_Features, test_Features, train_Label, test_Label = train_test_split(X, Y, test_size=0.2, random_state=None) \n",
    "train_Features[:2]"
   ]
  },
  {
   "cell_type": "code",
   "execution_count": 4,
   "metadata": {
    "collapsed": false
   },
   "outputs": [
    {
     "data": {
      "text/plain": [
       "array([[ 1.1178627 ,  0.31650325,  1.1115073 , -1.22328702, -1.193192  ,\n",
       "        -0.32306924,  1.40999567, -0.6356746 , -1.01137697,  1.58440057],\n",
       "       [-0.62216776, -0.24055754,  0.03995681, -0.01163553,  0.19041957,\n",
       "         0.04494836, -0.36676457, -0.7711581 , -0.14652401, -1.13472806]])"
      ]
     },
     "execution_count": 4,
     "metadata": {},
     "output_type": "execute_result"
    }
   ],
   "source": [
    "test_Features[:2]"
   ]
  },
  {
   "cell_type": "code",
   "execution_count": 5,
   "metadata": {
    "collapsed": false
   },
   "outputs": [
    {
     "data": {
      "text/plain": [
       "array([0, 1, 0, 1])"
      ]
     },
     "execution_count": 5,
     "metadata": {},
     "output_type": "execute_result"
    }
   ],
   "source": [
    "train_Label[:4]"
   ]
  },
  {
   "cell_type": "code",
   "execution_count": 6,
   "metadata": {
    "collapsed": false
   },
   "outputs": [
    {
     "data": {
      "text/plain": [
       "(15216, 10)"
      ]
     },
     "execution_count": 6,
     "metadata": {},
     "output_type": "execute_result"
    }
   ],
   "source": [
    "train_Features.shape"
   ]
  },
  {
   "cell_type": "code",
   "execution_count": 7,
   "metadata": {
    "collapsed": false
   },
   "outputs": [
    {
     "data": {
      "text/plain": [
       "array([1, 1, 0, 1])"
      ]
     },
     "execution_count": 7,
     "metadata": {},
     "output_type": "execute_result"
    }
   ],
   "source": [
    "test_Label[:4]"
   ]
  },
  {
   "cell_type": "code",
   "execution_count": 8,
   "metadata": {
    "collapsed": false
   },
   "outputs": [
    {
     "name": "stderr",
     "output_type": "stream",
     "text": [
      "Using TensorFlow backend.\n"
     ]
    }
   ],
   "source": [
    "from keras.models import Sequential\n",
    "from keras.layers import Dense,Dropout\n",
    "from keras.callbacks import EarlyStopping\n",
    "early_stopping = EarlyStopping(monitor='val_loss', patience=3)"
   ]
  },
  {
   "cell_type": "code",
   "execution_count": 9,
   "metadata": {
    "collapsed": true
   },
   "outputs": [],
   "source": [
    "model = Sequential()"
   ]
  },
  {
   "cell_type": "code",
   "execution_count": 10,
   "metadata": {
    "collapsed": true
   },
   "outputs": [],
   "source": [
    "model.add(Dense(units=30,  input_dim=10, \n",
    "                kernel_initializer='uniform', \n",
    "                activation='relu'))"
   ]
  },
  {
   "cell_type": "code",
   "execution_count": 11,
   "metadata": {
    "collapsed": true
   },
   "outputs": [],
   "source": [
    "model.add(Dense(units=1, \n",
    "                kernel_initializer='uniform',\n",
    "                activation='sigmoid'))"
   ]
  },
  {
   "cell_type": "code",
   "execution_count": 12,
   "metadata": {
    "collapsed": false
   },
   "outputs": [
    {
     "name": "stdout",
     "output_type": "stream",
     "text": [
      "_________________________________________________________________\n",
      "Layer (type)                 Output Shape              Param #   \n",
      "=================================================================\n",
      "dense_1 (Dense)              (None, 30)                330       \n",
      "_________________________________________________________________\n",
      "dense_2 (Dense)              (None, 1)                 31        \n",
      "=================================================================\n",
      "Total params: 361\n",
      "Trainable params: 361\n",
      "Non-trainable params: 0\n",
      "_________________________________________________________________\n"
     ]
    }
   ],
   "source": [
    "model.summary()"
   ]
  },
  {
   "cell_type": "code",
   "execution_count": 13,
   "metadata": {
    "collapsed": true
   },
   "outputs": [],
   "source": [
    "model.compile(loss='binary_crossentropy', \n",
    "              optimizer='adam', metrics=['accuracy'])"
   ]
  },
  {
   "cell_type": "code",
   "execution_count": 14,
   "metadata": {
    "collapsed": false
   },
   "outputs": [
    {
     "name": "stdout",
     "output_type": "stream",
     "text": [
      "Train on 13694 samples, validate on 1522 samples\n",
      "Epoch 1/30\n",
      " - 1s - loss: 0.6768 - acc: 0.7319 - val_loss: 0.6549 - val_acc: 0.7385\n",
      "Epoch 2/30\n",
      " - 0s - loss: 0.6215 - acc: 0.7542 - val_loss: 0.5823 - val_acc: 0.7477\n",
      "Epoch 3/30\n",
      " - 0s - loss: 0.5440 - acc: 0.7641 - val_loss: 0.5099 - val_acc: 0.7615\n",
      "Epoch 4/30\n",
      " - 0s - loss: 0.4835 - acc: 0.7825 - val_loss: 0.4648 - val_acc: 0.7806\n",
      "Epoch 5/30\n",
      " - 0s - loss: 0.4497 - acc: 0.7948 - val_loss: 0.4417 - val_acc: 0.7891\n",
      "Epoch 6/30\n",
      " - 0s - loss: 0.4318 - acc: 0.8012 - val_loss: 0.4295 - val_acc: 0.7937\n",
      "Epoch 7/30\n",
      " - 0s - loss: 0.4216 - acc: 0.8045 - val_loss: 0.4213 - val_acc: 0.7983\n",
      "Epoch 8/30\n",
      " - 0s - loss: 0.4145 - acc: 0.8087 - val_loss: 0.4156 - val_acc: 0.8049\n",
      "Epoch 9/30\n",
      " - 0s - loss: 0.4093 - acc: 0.8130 - val_loss: 0.4111 - val_acc: 0.8075\n",
      "Epoch 10/30\n",
      " - 0s - loss: 0.4047 - acc: 0.8163 - val_loss: 0.4065 - val_acc: 0.8134\n",
      "Epoch 11/30\n",
      " - 0s - loss: 0.4006 - acc: 0.8187 - val_loss: 0.4021 - val_acc: 0.8167\n",
      "Epoch 12/30\n",
      " - 0s - loss: 0.3969 - acc: 0.8226 - val_loss: 0.3982 - val_acc: 0.8187\n",
      "Epoch 13/30\n",
      " - 0s - loss: 0.3934 - acc: 0.8239 - val_loss: 0.3948 - val_acc: 0.8219\n",
      "Epoch 14/30\n",
      " - 0s - loss: 0.3903 - acc: 0.8269 - val_loss: 0.3903 - val_acc: 0.8285\n",
      "Epoch 15/30\n",
      " - 0s - loss: 0.3874 - acc: 0.8282 - val_loss: 0.3872 - val_acc: 0.8318\n",
      "Epoch 16/30\n",
      " - 0s - loss: 0.3846 - acc: 0.8307 - val_loss: 0.3836 - val_acc: 0.8338\n",
      "Epoch 17/30\n",
      " - 0s - loss: 0.3819 - acc: 0.8331 - val_loss: 0.3805 - val_acc: 0.8351\n",
      "Epoch 18/30\n",
      " - 0s - loss: 0.3795 - acc: 0.8355 - val_loss: 0.3779 - val_acc: 0.8417\n",
      "Epoch 19/30\n",
      " - 0s - loss: 0.3772 - acc: 0.8353 - val_loss: 0.3738 - val_acc: 0.8436\n",
      "Epoch 20/30\n",
      " - 0s - loss: 0.3751 - acc: 0.8387 - val_loss: 0.3716 - val_acc: 0.8463\n",
      "Epoch 21/30\n",
      " - 0s - loss: 0.3727 - acc: 0.8402 - val_loss: 0.3690 - val_acc: 0.8495\n",
      "Epoch 22/30\n",
      " - 0s - loss: 0.3706 - acc: 0.8418 - val_loss: 0.3663 - val_acc: 0.8515\n",
      "Epoch 23/30\n",
      " - 0s - loss: 0.3684 - acc: 0.8442 - val_loss: 0.3641 - val_acc: 0.8509\n",
      "Epoch 24/30\n",
      " - 0s - loss: 0.3664 - acc: 0.8454 - val_loss: 0.3621 - val_acc: 0.8515\n",
      "Epoch 25/30\n",
      " - 0s - loss: 0.3644 - acc: 0.8480 - val_loss: 0.3596 - val_acc: 0.8522\n",
      "Epoch 26/30\n",
      " - 0s - loss: 0.3626 - acc: 0.8480 - val_loss: 0.3590 - val_acc: 0.8509\n",
      "Epoch 27/30\n",
      " - 0s - loss: 0.3610 - acc: 0.8497 - val_loss: 0.3560 - val_acc: 0.8535\n",
      "Epoch 28/30\n",
      " - 0s - loss: 0.3590 - acc: 0.8518 - val_loss: 0.3543 - val_acc: 0.8522\n",
      "Epoch 29/30\n",
      " - 0s - loss: 0.3574 - acc: 0.8521 - val_loss: 0.3525 - val_acc: 0.8522\n",
      "Epoch 30/30\n",
      " - 0s - loss: 0.3559 - acc: 0.8532 - val_loss: 0.3509 - val_acc: 0.8548\n"
     ]
    }
   ],
   "source": [
    "train_history =model.fit(x=train_Features, \n",
    "                         y=train_Label, \n",
    "                         validation_split=0.1, \n",
    "                         epochs=30, \n",
    "                         batch_size=400,verbose=2,callbacks=[early_stopping])"
   ]
  },
  {
   "cell_type": "code",
   "execution_count": 15,
   "metadata": {
    "collapsed": true
   },
   "outputs": [],
   "source": [
    "import matplotlib.pyplot as plt\n",
    "def show_train_history(train_history,train,validation):\n",
    "    plt.plot(train_history.history[train])\n",
    "    plt.plot(train_history.history[validation])\n",
    "    plt.title('Train History')\n",
    "    plt.ylabel(train)\n",
    "    plt.xlabel('Epoch')\n",
    "    plt.legend(['train', 'validation'], loc='upper left')\n",
    "    plt.show()"
   ]
  },
  {
   "cell_type": "code",
   "execution_count": 16,
   "metadata": {
    "collapsed": false
   },
   "outputs": [
    {
     "data": {
      "image/png": "[encoded data removed]",
      "text/plain": [
       "<matplotlib.figure.Figure at 0x7ff053556fd0>"
      ]
     },
     "metadata": {},
     "output_type": "display_data"
    }
   ],
   "source": [
    "show_train_history(train_history,'acc','val_acc')"
   ]
  },
  {
   "cell_type": "code",
   "execution_count": 17,
   "metadata": {
    "collapsed": false
   },
   "outputs": [
    {
     "data": {
      "image/png": "[encoded data removed]",
      "text/plain": [
       "<matplotlib.figure.Figure at 0x7ff0535560f0>"
      ]
     },
     "metadata": {},
     "output_type": "display_data"
    }
   ],
   "source": [
    "show_train_history(train_history,'loss','val_loss')"
   ]
  },
  {
   "cell_type": "code",
   "execution_count": 18,
   "metadata": {
    "collapsed": false
   },
   "outputs": [
    {
     "name": "stdout",
     "output_type": "stream",
     "text": [
      "3804/3804 [==============================] - 0s 40us/step\n"
     ]
    }
   ],
   "source": [
    "scores = model.evaluate(x=test_Features, \n",
    "                        y=test_Label)"
   ]
  },
  {
   "cell_type": "code",
   "execution_count": 19,
   "metadata": {
    "collapsed": false
   },
   "outputs": [
    {
     "data": {
      "text/plain": [
       "0.8506834908740127"
      ]
     },
     "execution_count": 19,
     "metadata": {},
     "output_type": "execute_result"
    }
   ],
   "source": [
    "scores[1]"
   ]
  }
 ],
 "metadata": {
  "anaconda-cloud": {},
  "kernelspec": {
   "display_name": "Python [default]",
   "language": "python",
   "name": "python3"
  },
  "language_info": {
   "codemirror_mode": {
    "name": "ipython",
    "version": 3
   },
   "file_extension": ".py",
   "mimetype": "text/x-python",
   "name": "python",
   "nbconvert_exporter": "python",
   "pygments_lexer": "ipython3",
   "version": "3.5.2"
  }
 },
 "nbformat": 4,
 "nbformat_minor": 1
}
