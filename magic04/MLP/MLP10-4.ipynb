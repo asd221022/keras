{
 "cells": [
  {
   "cell_type": "code",
   "execution_count": 1,
   "metadata": {
    "collapsed": false
   },
   "outputs": [],
   "source": [
    "import numpy as np\n",
    "import pandas as pd\n",
    "from sklearn.preprocessing import StandardScaler\n",
    "from sklearn.model_selection import train_test_split"
   ]
  },
  {
   "cell_type": "code",
   "execution_count": 2,
   "metadata": {
    "collapsed": false
   },
   "outputs": [],
   "source": [
    "Ynames = ['fLength', 'fWidth', 'fSize', 'fConc', 'fConc1', 'fAsym', \n",
    "             'fM3Long', 'fM3Trans', 'fAlpha', 'fDist', 'identity']\n",
    "featureNames = ['fLength', 'fWidth', 'fSize', 'fConc', 'fConc1', 'fAsym', \n",
    "             'fM3Long', 'fM3Trans', 'fAlpha', 'fDist']\n",
    "filepath = 'magic04.data'\n",
    "data = pd.read_csv(filepath, names=Ynames, header=None)\n",
    "data['identity']= data['identity'].map({'g':1, 'h': 0}).astype(int) \n",
    "X = data[featureNames].values.astype('float64')\n",
    "Y = data['identity'].values.astype('int64')"
   ]
  },
  {
   "cell_type": "code",
   "execution_count": 3,
   "metadata": {
    "collapsed": false
   },
   "outputs": [
    {
     "data": {
      "text/plain": [
       "array([[-0.52801177,  0.06557624, -0.43360756, -0.09970591, -0.26022697,\n",
       "        -0.41749787, -0.66630313,  0.76226325, -0.02158021, -0.86507668],\n",
       "       [-0.14439598, -0.93252826, -0.14794541, -0.06086742,  0.09540373,\n",
       "         0.90676114,  0.40781282,  0.12607614,  0.31778011, -0.29202433]])"
      ]
     },
     "execution_count": 3,
     "metadata": {},
     "output_type": "execute_result"
    }
   ],
   "source": [
    "X = StandardScaler().fit_transform(X)\n",
    "train_Features, test_Features, train_Label, test_Label = train_test_split(X, Y, test_size=0.2, random_state=None) \n",
    "train_Features[:2]"
   ]
  },
  {
   "cell_type": "code",
   "execution_count": 4,
   "metadata": {
    "collapsed": false
   },
   "outputs": [
    {
     "data": {
      "text/plain": [
       "array([[-0.04999214, -0.5065345 , -0.3197659 , -0.64344477, -0.74435528,\n",
       "        -0.23335479, -0.63970249,  0.40967583, -0.38052069, -1.40003847],\n",
       "       [ 0.82498724, -0.00319784,  0.77886959, -1.16202067, -1.16242497,\n",
       "         0.24544492,  1.31879152,  0.15906234, -0.58766599,  0.44153689]])"
      ]
     },
     "execution_count": 4,
     "metadata": {},
     "output_type": "execute_result"
    }
   ],
   "source": [
    "test_Features[:2]"
   ]
  },
  {
   "cell_type": "code",
   "execution_count": 5,
   "metadata": {
    "collapsed": false
   },
   "outputs": [
    {
     "data": {
      "text/plain": [
       "array([1, 0, 1, 1])"
      ]
     },
     "execution_count": 5,
     "metadata": {},
     "output_type": "execute_result"
    }
   ],
   "source": [
    "train_Label[:4]"
   ]
  },
  {
   "cell_type": "code",
   "execution_count": 6,
   "metadata": {
    "collapsed": false
   },
   "outputs": [
    {
     "data": {
      "text/plain": [
       "(15216, 10)"
      ]
     },
     "execution_count": 6,
     "metadata": {},
     "output_type": "execute_result"
    }
   ],
   "source": [
    "train_Features.shape"
   ]
  },
  {
   "cell_type": "code",
   "execution_count": 7,
   "metadata": {
    "collapsed": false
   },
   "outputs": [
    {
     "data": {
      "text/plain": [
       "array([1, 1, 1, 1])"
      ]
     },
     "execution_count": 7,
     "metadata": {},
     "output_type": "execute_result"
    }
   ],
   "source": [
    "test_Label[:4]"
   ]
  },
  {
   "cell_type": "code",
   "execution_count": 8,
   "metadata": {
    "collapsed": false
   },
   "outputs": [
    {
     "name": "stderr",
     "output_type": "stream",
     "text": [
      "Using TensorFlow backend.\n"
     ]
    }
   ],
   "source": [
    "from keras.models import Sequential\n",
    "from keras.layers import Dense,Dropout\n",
    "from keras.callbacks import EarlyStopping\n",
    "early_stopping = EarlyStopping(monitor='val_loss', patience=3)"
   ]
  },
  {
   "cell_type": "code",
   "execution_count": 9,
   "metadata": {
    "collapsed": true
   },
   "outputs": [],
   "source": [
    "model = Sequential()"
   ]
  },
  {
   "cell_type": "code",
   "execution_count": 10,
   "metadata": {
    "collapsed": true
   },
   "outputs": [],
   "source": [
    "model.add(Dense(units=10*4,  input_dim=10, \n",
    "                kernel_initializer='uniform', \n",
    "                activation='relu'))"
   ]
  },
  {
   "cell_type": "code",
   "execution_count": 11,
   "metadata": {
    "collapsed": true
   },
   "outputs": [],
   "source": [
    "model.add(Dense(units=10*3, \n",
    "                kernel_initializer='uniform', \n",
    "                activation='relu'))"
   ]
  },
  {
   "cell_type": "code",
   "execution_count": 12,
   "metadata": {
    "collapsed": true
   },
   "outputs": [],
   "source": [
    "model.add(Dense(units=10*2, \n",
    "                kernel_initializer='uniform', \n",
    "                activation='relu'))"
   ]
  },
  {
   "cell_type": "code",
   "execution_count": 13,
   "metadata": {
    "collapsed": true
   },
   "outputs": [],
   "source": [
    "model.add(Dense(units=10, \n",
    "                kernel_initializer='uniform', \n",
    "                activation='relu'))"
   ]
  },
  {
   "cell_type": "code",
   "execution_count": 14,
   "metadata": {
    "collapsed": true
   },
   "outputs": [],
   "source": [
    "model.add(Dense(units=1, \n",
    "                kernel_initializer='uniform',\n",
    "                activation='sigmoid'))"
   ]
  },
  {
   "cell_type": "code",
   "execution_count": 15,
   "metadata": {
    "collapsed": false
   },
   "outputs": [
    {
     "name": "stdout",
     "output_type": "stream",
     "text": [
      "_________________________________________________________________\n",
      "Layer (type)                 Output Shape              Param #   \n",
      "=================================================================\n",
      "dense_1 (Dense)              (None, 40)                440       \n",
      "_________________________________________________________________\n",
      "dense_2 (Dense)              (None, 30)                1230      \n",
      "_________________________________________________________________\n",
      "dense_3 (Dense)              (None, 20)                620       \n",
      "_________________________________________________________________\n",
      "dense_4 (Dense)              (None, 10)                210       \n",
      "_________________________________________________________________\n",
      "dense_5 (Dense)              (None, 1)                 11        \n",
      "=================================================================\n",
      "Total params: 2,511\n",
      "Trainable params: 2,511\n",
      "Non-trainable params: 0\n",
      "_________________________________________________________________\n"
     ]
    }
   ],
   "source": [
    "model.summary()"
   ]
  },
  {
   "cell_type": "code",
   "execution_count": 16,
   "metadata": {
    "collapsed": true
   },
   "outputs": [],
   "source": [
    "model.compile(loss='binary_crossentropy', \n",
    "              optimizer='adam', metrics=['accuracy'])"
   ]
  },
  {
   "cell_type": "code",
   "execution_count": 17,
   "metadata": {
    "collapsed": false
   },
   "outputs": [
    {
     "name": "stdout",
     "output_type": "stream",
     "text": [
      "Train on 13694 samples, validate on 1522 samples\n",
      "Epoch 1/30\n",
      " - 1s - loss: 0.6894 - acc: 0.6475 - val_loss: 0.6816 - val_acc: 0.6557\n",
      "Epoch 2/30\n",
      " - 0s - loss: 0.6391 - acc: 0.6474 - val_loss: 0.5479 - val_acc: 0.6557\n",
      "Epoch 3/30\n",
      " - 0s - loss: 0.5075 - acc: 0.7244 - val_loss: 0.4782 - val_acc: 0.7970\n",
      "Epoch 4/30\n",
      " - 0s - loss: 0.4492 - acc: 0.8095 - val_loss: 0.4238 - val_acc: 0.8055\n",
      "Epoch 5/30\n",
      " - 0s - loss: 0.3990 - acc: 0.8236 - val_loss: 0.4044 - val_acc: 0.8200\n",
      "Epoch 6/30\n",
      " - 0s - loss: 0.3837 - acc: 0.8344 - val_loss: 0.4003 - val_acc: 0.8233\n",
      "Epoch 7/30\n",
      " - 0s - loss: 0.3718 - acc: 0.8424 - val_loss: 0.3922 - val_acc: 0.8338\n",
      "Epoch 8/30\n",
      " - 0s - loss: 0.3633 - acc: 0.8491 - val_loss: 0.3857 - val_acc: 0.8410\n",
      "Epoch 9/30\n",
      " - 0s - loss: 0.3561 - acc: 0.8538 - val_loss: 0.3813 - val_acc: 0.8443\n",
      "Epoch 10/30\n",
      " - 0s - loss: 0.3509 - acc: 0.8577 - val_loss: 0.3760 - val_acc: 0.8449\n",
      "Epoch 11/30\n",
      " - 0s - loss: 0.3461 - acc: 0.8583 - val_loss: 0.3717 - val_acc: 0.8528\n",
      "Epoch 12/30\n",
      " - 0s - loss: 0.3438 - acc: 0.8596 - val_loss: 0.3679 - val_acc: 0.8449\n",
      "Epoch 13/30\n",
      " - 0s - loss: 0.3394 - acc: 0.8611 - val_loss: 0.3656 - val_acc: 0.8515\n",
      "Epoch 14/30\n",
      " - 0s - loss: 0.3368 - acc: 0.8626 - val_loss: 0.3595 - val_acc: 0.8548\n",
      "Epoch 15/30\n",
      " - 0s - loss: 0.3343 - acc: 0.8629 - val_loss: 0.3646 - val_acc: 0.8456\n",
      "Epoch 16/30\n",
      " - 0s - loss: 0.3339 - acc: 0.8619 - val_loss: 0.3551 - val_acc: 0.8502\n",
      "Epoch 17/30\n",
      " - 0s - loss: 0.3299 - acc: 0.8651 - val_loss: 0.3519 - val_acc: 0.8528\n",
      "Epoch 18/30\n",
      " - 0s - loss: 0.3276 - acc: 0.8661 - val_loss: 0.3485 - val_acc: 0.8555\n",
      "Epoch 19/30\n",
      " - 0s - loss: 0.3259 - acc: 0.8656 - val_loss: 0.3465 - val_acc: 0.8535\n",
      "Epoch 20/30\n",
      " - 0s - loss: 0.3245 - acc: 0.8684 - val_loss: 0.3446 - val_acc: 0.8515\n",
      "Epoch 21/30\n",
      " - 0s - loss: 0.3227 - acc: 0.8676 - val_loss: 0.3412 - val_acc: 0.8515\n",
      "Epoch 22/30\n",
      " - 0s - loss: 0.3207 - acc: 0.8691 - val_loss: 0.3452 - val_acc: 0.8555\n",
      "Epoch 23/30\n",
      " - 0s - loss: 0.3199 - acc: 0.8697 - val_loss: 0.3419 - val_acc: 0.8528\n",
      "Epoch 24/30\n",
      " - 0s - loss: 0.3207 - acc: 0.8683 - val_loss: 0.3469 - val_acc: 0.8587\n"
     ]
    }
   ],
   "source": [
    "train_history =model.fit(x=train_Features, \n",
    "                         y=train_Label, \n",
    "                         validation_split=0.1, \n",
    "                         epochs=30, \n",
    "                         batch_size=400,verbose=2,callbacks=[early_stopping])"
   ]
  },
  {
   "cell_type": "code",
   "execution_count": 18,
   "metadata": {
    "collapsed": true
   },
   "outputs": [],
   "source": [
    "import matplotlib.pyplot as plt\n",
    "def show_train_history(train_history,train,validation):\n",
    "    plt.plot(train_history.history[train])\n",
    "    plt.plot(train_history.history[validation])\n",
    "    plt.title('Train History')\n",
    "    plt.ylabel(train)\n",
    "    plt.xlabel('Epoch')\n",
    "    plt.legend(['train', 'validation'], loc='upper left')\n",
    "    plt.show()"
   ]
  },
  {
   "cell_type": "code",
   "execution_count": 19,
   "metadata": {
    "collapsed": false
   },
   "outputs": [
    {
     "data": {
      "image/png": "[encoded data removed]",
      "text/plain": [
       "<matplotlib.figure.Figure at 0x7fa78f3c4080>"
      ]
     },
     "metadata": {},
     "output_type": "display_data"
    }
   ],
   "source": [
    "show_train_history(train_history,'acc','val_acc')"
   ]
  },
  {
   "cell_type": "code",
   "execution_count": 20,
   "metadata": {
    "collapsed": false
   },
   "outputs": [
    {
     "data": {
      "image/png": "[encoded data removed]",
      "text/plain": [
       "<matplotlib.figure.Figure at 0x7fa78f3c4978>"
      ]
     },
     "metadata": {},
     "output_type": "display_data"
    }
   ],
   "source": [
    "show_train_history(train_history,'loss','val_loss')"
   ]
  },
  {
   "cell_type": "code",
   "execution_count": 21,
   "metadata": {
    "collapsed": false
   },
   "outputs": [
    {
     "name": "stdout",
     "output_type": "stream",
     "text": [
      "3804/3804 [==============================] - 0s 55us/step\n"
     ]
    }
   ],
   "source": [
    "scores = model.evaluate(x=test_Features, \n",
    "                        y=test_Label)"
   ]
  },
  {
   "cell_type": "code",
   "execution_count": 22,
   "metadata": {
    "collapsed": false
   },
   "outputs": [
    {
     "data": {
      "text/plain": [
       "0.8711882227352115"
      ]
     },
     "execution_count": 22,
     "metadata": {},
     "output_type": "execute_result"
    }
   ],
   "source": [
    "scores[1]"
   ]
  }
 ],
 "metadata": {
  "anaconda-cloud": {},
  "kernelspec": {
   "display_name": "Python [default]",
   "language": "python",
   "name": "python3"
  },
  "language_info": {
   "codemirror_mode": {
    "name": "ipython",
    "version": 3
   },
   "file_extension": ".py",
   "mimetype": "text/x-python",
   "name": "python",
   "nbconvert_exporter": "python",
   "pygments_lexer": "ipython3",
   "version": "3.5.2"
  }
 },
 "nbformat": 4,
 "nbformat_minor": 1
}
