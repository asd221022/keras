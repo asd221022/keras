{
 "cells": [
  {
   "cell_type": "code",
   "execution_count": 21,
   "metadata": {
    "collapsed": false
   },
   "outputs": [],
   "source": [
    "import numpy as np\n",
    "import pandas as pd\n",
    "from sklearn.preprocessing import StandardScaler\n",
    "from sklearn.model_selection import train_test_split"
   ]
  },
  {
   "cell_type": "code",
   "execution_count": 22,
   "metadata": {
    "collapsed": false
   },
   "outputs": [],
   "source": [
    "Ynames = ['fLength', 'fWidth', 'fSize', 'fConc', 'fConc1', 'fAsym', \n",
    "             'fM3Long', 'fM3Trans', 'fAlpha', 'fDist', 'identity']\n",
    "featureNames = ['fLength', 'fWidth', 'fSize', 'fConc', 'fConc1', 'fAsym', \n",
    "             'fM3Long', 'fM3Trans', 'fAlpha', 'fDist']\n",
    "filepath = 'magic04.data'\n",
    "data = pd.read_csv(filepath, names=Ynames, header=None)\n",
    "data['identity']= data['identity'].map({'g':1, 'h': 0}).astype(int) \n",
    "X = data[featureNames].values.astype('float64')\n",
    "Y = data['identity'].values.astype('int64')"
   ]
  },
  {
   "cell_type": "code",
   "execution_count": 23,
   "metadata": {
    "collapsed": false
   },
   "outputs": [
    {
     "data": {
      "text/plain": [
       "array([[-0.84182022, -0.34547113, -0.56860938,  1.1409377 ,  1.73963016,\n",
       "        -0.011044  , -0.38275319,  0.28049669, -0.00975012, -1.26999936],\n",
       "       [ 0.16071635, -0.24906641, -0.17905084, -0.3496945 , -0.43668495,\n",
       "        -0.67321827,  0.64973235, -0.53724417, -0.87284082,  1.23896954]])"
      ]
     },
     "execution_count": 23,
     "metadata": {},
     "output_type": "execute_result"
    }
   ],
   "source": [
    "X = StandardScaler().fit_transform(X)\n",
    "train_Features, test_Features, train_Label, test_Label = train_test_split(X, Y, test_size=0.2, random_state=None) \n",
    "train_Features[:2]"
   ]
  },
  {
   "cell_type": "code",
   "execution_count": 24,
   "metadata": {
    "collapsed": false
   },
   "outputs": [
    {
     "data": {
      "text/plain": [
       "array([[ 0.186309  ,  0.13224627,  1.18662587, -0.95305865, -0.9018101 ,\n",
       "         0.30543698,  0.89462645,  0.62166138, -0.75270107,  0.71300817],\n",
       "       [ 1.13766737,  2.00025542,  2.21183561, -1.24954403, -1.25472606,\n",
       "         0.48335925, -1.54132411, -1.37612116, -0.11277302,  2.85860406]])"
      ]
     },
     "execution_count": 24,
     "metadata": {},
     "output_type": "execute_result"
    }
   ],
   "source": [
    "test_Features[:2]"
   ]
  },
  {
   "cell_type": "code",
   "execution_count": 25,
   "metadata": {
    "collapsed": false
   },
   "outputs": [
    {
     "data": {
      "text/plain": [
       "array([0, 1, 0, 1])"
      ]
     },
     "execution_count": 25,
     "metadata": {},
     "output_type": "execute_result"
    }
   ],
   "source": [
    "train_Label[:4]"
   ]
  },
  {
   "cell_type": "code",
   "execution_count": 26,
   "metadata": {
    "collapsed": false
   },
   "outputs": [
    {
     "data": {
      "text/plain": [
       "(15216, 10)"
      ]
     },
     "execution_count": 26,
     "metadata": {},
     "output_type": "execute_result"
    }
   ],
   "source": [
    "train_Features.shape"
   ]
  },
  {
   "cell_type": "code",
   "execution_count": 27,
   "metadata": {
    "collapsed": false
   },
   "outputs": [
    {
     "data": {
      "text/plain": [
       "array([1, 0, 1, 1])"
      ]
     },
     "execution_count": 27,
     "metadata": {},
     "output_type": "execute_result"
    }
   ],
   "source": [
    "test_Label[:4]"
   ]
  },
  {
   "cell_type": "code",
   "execution_count": 28,
   "metadata": {
    "collapsed": false
   },
   "outputs": [],
   "source": [
    "from keras.models import Sequential\n",
    "from keras.layers import Dense,Dropout\n",
    "from keras.callbacks import EarlyStopping\n",
    "early_stopping = EarlyStopping(monitor='val_loss', patience=3)"
   ]
  },
  {
   "cell_type": "code",
   "execution_count": 29,
   "metadata": {
    "collapsed": true
   },
   "outputs": [],
   "source": [
    "model = Sequential()"
   ]
  },
  {
   "cell_type": "code",
   "execution_count": 30,
   "metadata": {
    "collapsed": true
   },
   "outputs": [],
   "source": [
    "model.add(Dense(units=10*2,  input_dim=10, \n",
    "                kernel_initializer='uniform', \n",
    "                activation='relu'))"
   ]
  },
  {
   "cell_type": "code",
   "execution_count": 31,
   "metadata": {
    "collapsed": true
   },
   "outputs": [],
   "source": [
    "model.add(Dense(units=10, \n",
    "                kernel_initializer='uniform', \n",
    "                activation='relu'))"
   ]
  },
  {
   "cell_type": "code",
   "execution_count": 32,
   "metadata": {
    "collapsed": true
   },
   "outputs": [],
   "source": [
    "model.add(Dense(units=1, \n",
    "                kernel_initializer='uniform',\n",
    "                activation='sigmoid'))"
   ]
  },
  {
   "cell_type": "code",
   "execution_count": 33,
   "metadata": {
    "collapsed": false
   },
   "outputs": [
    {
     "name": "stdout",
     "output_type": "stream",
     "text": [
      "_________________________________________________________________\n",
      "Layer (type)                 Output Shape              Param #   \n",
      "=================================================================\n",
      "dense_4 (Dense)              (None, 20)                220       \n",
      "_________________________________________________________________\n",
      "dense_5 (Dense)              (None, 10)                210       \n",
      "_________________________________________________________________\n",
      "dense_6 (Dense)              (None, 1)                 11        \n",
      "=================================================================\n",
      "Total params: 441\n",
      "Trainable params: 441\n",
      "Non-trainable params: 0\n",
      "_________________________________________________________________\n"
     ]
    }
   ],
   "source": [
    "model.summary()"
   ]
  },
  {
   "cell_type": "code",
   "execution_count": 34,
   "metadata": {
    "collapsed": true
   },
   "outputs": [],
   "source": [
    "model.compile(loss='binary_crossentropy', \n",
    "              optimizer='adam', metrics=['accuracy'])"
   ]
  },
  {
   "cell_type": "code",
   "execution_count": 35,
   "metadata": {
    "collapsed": false
   },
   "outputs": [
    {
     "name": "stdout",
     "output_type": "stream",
     "text": [
      "Train on 13694 samples, validate on 1522 samples\n",
      "Epoch 1/30\n",
      " - 1s - loss: 0.6890 - acc: 0.6496 - val_loss: 0.6826 - val_acc: 0.6735\n",
      "Epoch 2/30\n",
      " - 0s - loss: 0.6663 - acc: 0.7224 - val_loss: 0.6403 - val_acc: 0.7484\n",
      "Epoch 3/30\n",
      " - 0s - loss: 0.5981 - acc: 0.7611 - val_loss: 0.5480 - val_acc: 0.7792\n",
      "Epoch 4/30\n",
      " - 0s - loss: 0.5064 - acc: 0.7806 - val_loss: 0.4636 - val_acc: 0.7970\n",
      "Epoch 5/30\n",
      " - 0s - loss: 0.4498 - acc: 0.7928 - val_loss: 0.4239 - val_acc: 0.8075\n",
      "Epoch 6/30\n",
      " - 0s - loss: 0.4287 - acc: 0.8020 - val_loss: 0.4084 - val_acc: 0.8147\n",
      "Epoch 7/30\n",
      " - 0s - loss: 0.4194 - acc: 0.8063 - val_loss: 0.4020 - val_acc: 0.8193\n",
      "Epoch 8/30\n",
      " - 0s - loss: 0.4131 - acc: 0.8102 - val_loss: 0.3969 - val_acc: 0.8219\n",
      "Epoch 9/30\n",
      " - 0s - loss: 0.4076 - acc: 0.8144 - val_loss: 0.3921 - val_acc: 0.8272\n",
      "Epoch 10/30\n",
      " - 0s - loss: 0.4023 - acc: 0.8181 - val_loss: 0.3880 - val_acc: 0.8305\n",
      "Epoch 11/30\n",
      " - 0s - loss: 0.3974 - acc: 0.8209 - val_loss: 0.3837 - val_acc: 0.8351\n",
      "Epoch 12/30\n",
      " - 0s - loss: 0.3920 - acc: 0.8256 - val_loss: 0.3795 - val_acc: 0.8357\n",
      "Epoch 13/30\n",
      " - 0s - loss: 0.3874 - acc: 0.8290 - val_loss: 0.3747 - val_acc: 0.8443\n",
      "Epoch 14/30\n",
      " - 0s - loss: 0.3833 - acc: 0.8315 - val_loss: 0.3711 - val_acc: 0.8443\n",
      "Epoch 15/30\n",
      " - 0s - loss: 0.3792 - acc: 0.8348 - val_loss: 0.3677 - val_acc: 0.8469\n",
      "Epoch 16/30\n",
      " - 0s - loss: 0.3758 - acc: 0.8379 - val_loss: 0.3641 - val_acc: 0.8502\n",
      "Epoch 17/30\n",
      " - 0s - loss: 0.3725 - acc: 0.8406 - val_loss: 0.3604 - val_acc: 0.8522\n",
      "Epoch 18/30\n",
      " - 0s - loss: 0.3694 - acc: 0.8430 - val_loss: 0.3584 - val_acc: 0.8568\n",
      "Epoch 19/30\n",
      " - 0s - loss: 0.3661 - acc: 0.8456 - val_loss: 0.3547 - val_acc: 0.8509\n",
      "Epoch 20/30\n",
      " - 0s - loss: 0.3634 - acc: 0.8466 - val_loss: 0.3526 - val_acc: 0.8555\n",
      "Epoch 21/30\n",
      " - 0s - loss: 0.3610 - acc: 0.8481 - val_loss: 0.3504 - val_acc: 0.8581\n",
      "Epoch 22/30\n",
      " - 0s - loss: 0.3592 - acc: 0.8483 - val_loss: 0.3482 - val_acc: 0.8614\n",
      "Epoch 23/30\n",
      " - 0s - loss: 0.3566 - acc: 0.8522 - val_loss: 0.3463 - val_acc: 0.8607\n",
      "Epoch 24/30\n",
      " - 0s - loss: 0.3544 - acc: 0.8523 - val_loss: 0.3447 - val_acc: 0.8627\n",
      "Epoch 25/30\n",
      " - 0s - loss: 0.3529 - acc: 0.8523 - val_loss: 0.3433 - val_acc: 0.8607\n",
      "Epoch 26/30\n",
      " - 0s - loss: 0.3504 - acc: 0.8520 - val_loss: 0.3413 - val_acc: 0.8633\n",
      "Epoch 27/30\n",
      " - 0s - loss: 0.3486 - acc: 0.8543 - val_loss: 0.3404 - val_acc: 0.8640\n",
      "Epoch 28/30\n",
      " - 0s - loss: 0.3473 - acc: 0.8543 - val_loss: 0.3386 - val_acc: 0.8633\n",
      "Epoch 29/30\n",
      " - 0s - loss: 0.3463 - acc: 0.8548 - val_loss: 0.3383 - val_acc: 0.8633\n",
      "Epoch 30/30\n",
      " - 0s - loss: 0.3443 - acc: 0.8558 - val_loss: 0.3360 - val_acc: 0.8627\n"
     ]
    }
   ],
   "source": [
    "train_history =model.fit(x=train_Features, \n",
    "                         y=train_Label, \n",
    "                         validation_split=0.1, \n",
    "                         epochs=30, \n",
    "                         batch_size=400,verbose=2,callbacks=[early_stopping])"
   ]
  },
  {
   "cell_type": "code",
   "execution_count": 36,
   "metadata": {
    "collapsed": true
   },
   "outputs": [],
   "source": [
    "import matplotlib.pyplot as plt\n",
    "def show_train_history(train_history,train,validation):\n",
    "    plt.plot(train_history.history[train])\n",
    "    plt.plot(train_history.history[validation])\n",
    "    plt.title('Train History')\n",
    "    plt.ylabel(train)\n",
    "    plt.xlabel('Epoch')\n",
    "    plt.legend(['train', 'validation'], loc='upper left')\n",
    "    plt.show()"
   ]
  },
  {
   "cell_type": "code",
   "execution_count": 37,
   "metadata": {
    "collapsed": false
   },
   "outputs": [
    {
     "data": {
      "image/png": "[encoded data removed]",
      "text/plain": [
       "<matplotlib.figure.Figure at 0x7fe94e550be0>"
      ]
     },
     "metadata": {},
     "output_type": "display_data"
    }
   ],
   "source": [
    "show_train_history(train_history,'acc','val_acc')"
   ]
  },
  {
   "cell_type": "code",
   "execution_count": 38,
   "metadata": {
    "collapsed": false
   },
   "outputs": [
    {
     "data": {
      "image/png": "[encoded data removed]",
      "text/plain": [
       "<matplotlib.figure.Figure at 0x7fe94e550b70>"
      ]
     },
     "metadata": {},
     "output_type": "display_data"
    }
   ],
   "source": [
    "show_train_history(train_history,'loss','val_loss')"
   ]
  },
  {
   "cell_type": "code",
   "execution_count": 39,
   "metadata": {
    "collapsed": false
   },
   "outputs": [
    {
     "name": "stdout",
     "output_type": "stream",
     "text": [
      "3804/3804 [==============================] - 0s 39us/step\n"
     ]
    }
   ],
   "source": [
    "scores = model.evaluate(x=test_Features, \n",
    "                        y=test_Label)"
   ]
  },
  {
   "cell_type": "code",
   "execution_count": 40,
   "metadata": {
    "collapsed": false
   },
   "outputs": [
    {
     "data": {
      "text/plain": [
       "0.8638275499474237"
      ]
     },
     "execution_count": 40,
     "metadata": {},
     "output_type": "execute_result"
    }
   ],
   "source": [
    "scores[1]"
   ]
  }
 ],
 "metadata": {
  "anaconda-cloud": {},
  "kernelspec": {
   "display_name": "Python [default]",
   "language": "python",
   "name": "python3"
  },
  "language_info": {
   "codemirror_mode": {
    "name": "ipython",
    "version": 3
   },
   "file_extension": ".py",
   "mimetype": "text/x-python",
   "name": "python",
   "nbconvert_exporter": "python",
   "pygments_lexer": "ipython3",
   "version": "3.5.2"
  }
 },
 "nbformat": 4,
 "nbformat_minor": 1
}
