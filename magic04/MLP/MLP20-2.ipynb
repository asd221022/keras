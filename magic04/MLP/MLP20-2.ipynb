{
 "cells": [
  {
   "cell_type": "code",
   "execution_count": 1,
   "metadata": {
    "collapsed": false
   },
   "outputs": [],
   "source": [
    "import numpy as np\n",
    "import pandas as pd\n",
    "from sklearn.preprocessing import StandardScaler\n",
    "from sklearn.model_selection import train_test_split"
   ]
  },
  {
   "cell_type": "code",
   "execution_count": 2,
   "metadata": {
    "collapsed": false
   },
   "outputs": [],
   "source": [
    "Ynames = ['fLength', 'fWidth', 'fSize', 'fConc', 'fConc1', 'fAsym', \n",
    "             'fM3Long', 'fM3Trans', 'fAlpha', 'fDist', 'identity']\n",
    "featureNames = ['fLength', 'fWidth', 'fSize', 'fConc', 'fConc1', 'fAsym', \n",
    "             'fM3Long', 'fM3Trans', 'fAlpha', 'fDist']\n",
    "filepath = 'magic04.data'\n",
    "data = pd.read_csv(filepath, names=Ynames, header=None)\n",
    "data['identity']= data['identity'].map({'g':1, 'h': 0}).astype(int) \n",
    "X = data[featureNames].values.astype('float64')\n",
    "Y = data['identity'].values.astype('int64')"
   ]
  },
  {
   "cell_type": "code",
   "execution_count": 3,
   "metadata": {
    "collapsed": false
   },
   "outputs": [
    {
     "data": {
      "text/plain": [
       "array([[-0.66395821, -0.39830676, -0.61981697,  0.23288286,  0.59582047,\n",
       "         0.33505634, -0.00156758, -0.44676019, -0.8659144 , -0.27695806],\n",
       "       [-0.58139232, -0.55724973, -0.97424964,  0.66065327,  0.46189339,\n",
       "         0.65481072,  0.1311807 ,  0.46687592, -0.05128568, -0.84341197]])"
      ]
     },
     "execution_count": 3,
     "metadata": {},
     "output_type": "execute_result"
    }
   ],
   "source": [
    "X = StandardScaler().fit_transform(X)\n",
    "train_Features, test_Features, train_Label, test_Label = train_test_split(X, Y, test_size=0.2, random_state=None) \n",
    "train_Features[:2]"
   ]
  },
  {
   "cell_type": "code",
   "execution_count": 4,
   "metadata": {
    "collapsed": false
   },
   "outputs": [
    {
     "data": {
      "text/plain": [
       "array([[-0.73639044, -0.42718021, -0.79142586,  0.78537406,  0.76413424,\n",
       "        -0.44346886,  0.09198368, -0.48796653, -0.93919352, -0.76649488],\n",
       "       [-0.43803624, -0.58492398, -0.82612853,  0.41339978,  0.40307406,\n",
       "         0.18528058, -0.63611417, -0.41566097, -0.9161463 , -0.05751421]])"
      ]
     },
     "execution_count": 4,
     "metadata": {},
     "output_type": "execute_result"
    }
   ],
   "source": [
    "test_Features[:2]"
   ]
  },
  {
   "cell_type": "code",
   "execution_count": 5,
   "metadata": {
    "collapsed": false
   },
   "outputs": [
    {
     "data": {
      "text/plain": [
       "array([1, 0, 1, 1])"
      ]
     },
     "execution_count": 5,
     "metadata": {},
     "output_type": "execute_result"
    }
   ],
   "source": [
    "train_Label[:4]"
   ]
  },
  {
   "cell_type": "code",
   "execution_count": 6,
   "metadata": {
    "collapsed": false
   },
   "outputs": [
    {
     "data": {
      "text/plain": [
       "(15216, 10)"
      ]
     },
     "execution_count": 6,
     "metadata": {},
     "output_type": "execute_result"
    }
   ],
   "source": [
    "train_Features.shape"
   ]
  },
  {
   "cell_type": "code",
   "execution_count": 7,
   "metadata": {
    "collapsed": false
   },
   "outputs": [
    {
     "data": {
      "text/plain": [
       "array([1, 1, 0, 0])"
      ]
     },
     "execution_count": 7,
     "metadata": {},
     "output_type": "execute_result"
    }
   ],
   "source": [
    "test_Label[:4]"
   ]
  },
  {
   "cell_type": "code",
   "execution_count": 8,
   "metadata": {
    "collapsed": false
   },
   "outputs": [
    {
     "name": "stderr",
     "output_type": "stream",
     "text": [
      "Using TensorFlow backend.\n"
     ]
    }
   ],
   "source": [
    "from keras.models import Sequential\n",
    "from keras.layers import Dense,Dropout\n",
    "from keras.callbacks import EarlyStopping\n",
    "early_stopping = EarlyStopping(monitor='val_loss', patience=3)"
   ]
  },
  {
   "cell_type": "code",
   "execution_count": 9,
   "metadata": {
    "collapsed": true
   },
   "outputs": [],
   "source": [
    "model = Sequential()"
   ]
  },
  {
   "cell_type": "code",
   "execution_count": 10,
   "metadata": {
    "collapsed": true
   },
   "outputs": [],
   "source": [
    "model.add(Dense(units=20*2,  input_dim=10, \n",
    "                kernel_initializer='uniform', \n",
    "                activation='relu'))"
   ]
  },
  {
   "cell_type": "code",
   "execution_count": 11,
   "metadata": {
    "collapsed": true
   },
   "outputs": [],
   "source": [
    "model.add(Dense(units=20, \n",
    "                kernel_initializer='uniform', \n",
    "                activation='relu'))"
   ]
  },
  {
   "cell_type": "code",
   "execution_count": 12,
   "metadata": {
    "collapsed": true
   },
   "outputs": [],
   "source": [
    "model.add(Dense(units=1, \n",
    "                kernel_initializer='uniform',\n",
    "                activation='sigmoid'))"
   ]
  },
  {
   "cell_type": "code",
   "execution_count": 13,
   "metadata": {
    "collapsed": false
   },
   "outputs": [
    {
     "name": "stdout",
     "output_type": "stream",
     "text": [
      "_________________________________________________________________\n",
      "Layer (type)                 Output Shape              Param #   \n",
      "=================================================================\n",
      "dense_1 (Dense)              (None, 40)                440       \n",
      "_________________________________________________________________\n",
      "dense_2 (Dense)              (None, 20)                820       \n",
      "_________________________________________________________________\n",
      "dense_3 (Dense)              (None, 1)                 21        \n",
      "=================================================================\n",
      "Total params: 1,281\n",
      "Trainable params: 1,281\n",
      "Non-trainable params: 0\n",
      "_________________________________________________________________\n"
     ]
    }
   ],
   "source": [
    "model.summary()"
   ]
  },
  {
   "cell_type": "code",
   "execution_count": 14,
   "metadata": {
    "collapsed": true
   },
   "outputs": [],
   "source": [
    "model.compile(loss='binary_crossentropy', \n",
    "              optimizer='adam', metrics=['accuracy'])"
   ]
  },
  {
   "cell_type": "code",
   "execution_count": 15,
   "metadata": {
    "collapsed": false
   },
   "outputs": [
    {
     "name": "stdout",
     "output_type": "stream",
     "text": [
      "Train on 13694 samples, validate on 1522 samples\n",
      "Epoch 1/30\n",
      " - 1s - loss: 0.6842 - acc: 0.7105 - val_loss: 0.6649 - val_acc: 0.7510\n",
      "Epoch 2/30\n",
      " - 0s - loss: 0.6097 - acc: 0.7820 - val_loss: 0.5428 - val_acc: 0.7746\n",
      "Epoch 3/30\n",
      " - 0s - loss: 0.4735 - acc: 0.7976 - val_loss: 0.4391 - val_acc: 0.7983\n",
      "Epoch 4/30\n",
      " - 0s - loss: 0.4152 - acc: 0.8101 - val_loss: 0.4168 - val_acc: 0.8068\n",
      "Epoch 5/30\n",
      " - 0s - loss: 0.3996 - acc: 0.8195 - val_loss: 0.4065 - val_acc: 0.8154\n",
      "Epoch 6/30\n",
      " - 0s - loss: 0.3893 - acc: 0.8272 - val_loss: 0.3987 - val_acc: 0.8213\n",
      "Epoch 7/30\n",
      " - 0s - loss: 0.3804 - acc: 0.8347 - val_loss: 0.3951 - val_acc: 0.8246\n",
      "Epoch 8/30\n",
      " - 0s - loss: 0.3729 - acc: 0.8399 - val_loss: 0.3921 - val_acc: 0.8252\n",
      "Epoch 9/30\n",
      " - 0s - loss: 0.3663 - acc: 0.8462 - val_loss: 0.3861 - val_acc: 0.8285\n",
      "Epoch 10/30\n",
      " - 0s - loss: 0.3603 - acc: 0.8502 - val_loss: 0.3811 - val_acc: 0.8338\n",
      "Epoch 11/30\n",
      " - 0s - loss: 0.3543 - acc: 0.8522 - val_loss: 0.3788 - val_acc: 0.8357\n",
      "Epoch 12/30\n",
      " - 0s - loss: 0.3493 - acc: 0.8548 - val_loss: 0.3735 - val_acc: 0.8384\n",
      "Epoch 13/30\n",
      " - 0s - loss: 0.3457 - acc: 0.8574 - val_loss: 0.3775 - val_acc: 0.8364\n",
      "Epoch 14/30\n",
      " - 0s - loss: 0.3406 - acc: 0.8615 - val_loss: 0.3728 - val_acc: 0.8403\n",
      "Epoch 15/30\n",
      " - 0s - loss: 0.3372 - acc: 0.8634 - val_loss: 0.3729 - val_acc: 0.8377\n",
      "Epoch 16/30\n",
      " - 0s - loss: 0.3353 - acc: 0.8625 - val_loss: 0.3675 - val_acc: 0.8403\n",
      "Epoch 17/30\n",
      " - 0s - loss: 0.3319 - acc: 0.8641 - val_loss: 0.3674 - val_acc: 0.8423\n",
      "Epoch 18/30\n",
      " - 0s - loss: 0.3288 - acc: 0.8667 - val_loss: 0.3643 - val_acc: 0.8456\n",
      "Epoch 19/30\n",
      " - 0s - loss: 0.3267 - acc: 0.8676 - val_loss: 0.3684 - val_acc: 0.8430\n",
      "Epoch 20/30\n",
      " - 0s - loss: 0.3253 - acc: 0.8676 - val_loss: 0.3629 - val_acc: 0.8436\n",
      "Epoch 21/30\n",
      " - 0s - loss: 0.3230 - acc: 0.8694 - val_loss: 0.3620 - val_acc: 0.8449\n",
      "Epoch 22/30\n",
      " - 0s - loss: 0.3216 - acc: 0.8692 - val_loss: 0.3656 - val_acc: 0.8443\n",
      "Epoch 23/30\n",
      " - 0s - loss: 0.3199 - acc: 0.8699 - val_loss: 0.3618 - val_acc: 0.8443\n",
      "Epoch 24/30\n",
      " - 0s - loss: 0.3181 - acc: 0.8696 - val_loss: 0.3596 - val_acc: 0.8463\n",
      "Epoch 25/30\n",
      " - 0s - loss: 0.3168 - acc: 0.8712 - val_loss: 0.3573 - val_acc: 0.8436\n",
      "Epoch 26/30\n",
      " - 0s - loss: 0.3162 - acc: 0.8715 - val_loss: 0.3581 - val_acc: 0.8456\n",
      "Epoch 27/30\n",
      " - 0s - loss: 0.3146 - acc: 0.8714 - val_loss: 0.3577 - val_acc: 0.8469\n",
      "Epoch 28/30\n",
      " - 0s - loss: 0.3132 - acc: 0.8726 - val_loss: 0.3552 - val_acc: 0.8476\n",
      "Epoch 29/30\n",
      " - 0s - loss: 0.3128 - acc: 0.8712 - val_loss: 0.3553 - val_acc: 0.8463\n",
      "Epoch 30/30\n",
      " - 0s - loss: 0.3121 - acc: 0.8718 - val_loss: 0.3564 - val_acc: 0.8482\n"
     ]
    }
   ],
   "source": [
    "train_history =model.fit(x=train_Features, \n",
    "                         y=train_Label, \n",
    "                         validation_split=0.1, \n",
    "                         epochs=30, \n",
    "                         batch_size=400,verbose=2,callbacks=[early_stopping])"
   ]
  },
  {
   "cell_type": "code",
   "execution_count": 16,
   "metadata": {
    "collapsed": true
   },
   "outputs": [],
   "source": [
    "import matplotlib.pyplot as plt\n",
    "def show_train_history(train_history,train,validation):\n",
    "    plt.plot(train_history.history[train])\n",
    "    plt.plot(train_history.history[validation])\n",
    "    plt.title('Train History')\n",
    "    plt.ylabel(train)\n",
    "    plt.xlabel('Epoch')\n",
    "    plt.legend(['train', 'validation'], loc='upper left')\n",
    "    plt.show()"
   ]
  },
  {
   "cell_type": "code",
   "execution_count": 17,
   "metadata": {
    "collapsed": false
   },
   "outputs": [
    {
     "data": {
      "image/png": "[encoded data removed]",
      "text/plain": [
       "<matplotlib.figure.Figure at 0x7f5989d5e630>"
      ]
     },
     "metadata": {},
     "output_type": "display_data"
    }
   ],
   "source": [
    "show_train_history(train_history,'acc','val_acc')"
   ]
  },
  {
   "cell_type": "code",
   "execution_count": 18,
   "metadata": {
    "collapsed": false
   },
   "outputs": [
    {
     "data": {
      "image/png": "[encoded data removed]",
      "text/plain": [
       "<matplotlib.figure.Figure at 0x7f597c584cf8>"
      ]
     },
     "metadata": {},
     "output_type": "display_data"
    }
   ],
   "source": [
    "show_train_history(train_history,'loss','val_loss')"
   ]
  },
  {
   "cell_type": "code",
   "execution_count": 19,
   "metadata": {
    "collapsed": false
   },
   "outputs": [
    {
     "name": "stdout",
     "output_type": "stream",
     "text": [
      "3804/3804 [==============================] - 0s 39us/step\n"
     ]
    }
   ],
   "source": [
    "scores = model.evaluate(x=test_Features, \n",
    "                        y=test_Label)"
   ]
  },
  {
   "cell_type": "code",
   "execution_count": 20,
   "metadata": {
    "collapsed": false
   },
   "outputs": [
    {
     "data": {
      "text/plain": [
       "0.8562039958565769"
      ]
     },
     "execution_count": 20,
     "metadata": {},
     "output_type": "execute_result"
    }
   ],
   "source": [
    "scores[1]"
   ]
  }
 ],
 "metadata": {
  "anaconda-cloud": {},
  "kernelspec": {
   "display_name": "Python [default]",
   "language": "python",
   "name": "python3"
  },
  "language_info": {
   "codemirror_mode": {
    "name": "ipython",
    "version": 3
   },
   "file_extension": ".py",
   "mimetype": "text/x-python",
   "name": "python",
   "nbconvert_exporter": "python",
   "pygments_lexer": "ipython3",
   "version": "3.5.2"
  }
 },
 "nbformat": 4,
 "nbformat_minor": 1
}
