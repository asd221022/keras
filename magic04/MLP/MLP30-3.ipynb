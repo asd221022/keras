{
 "cells": [
  {
   "cell_type": "code",
   "execution_count": 1,
   "metadata": {
    "collapsed": false
   },
   "outputs": [],
   "source": [
    "import numpy as np\n",
    "import pandas as pd\n",
    "from sklearn.preprocessing import StandardScaler\n",
    "from sklearn.model_selection import train_test_split"
   ]
  },
  {
   "cell_type": "code",
   "execution_count": 2,
   "metadata": {
    "collapsed": false
   },
   "outputs": [],
   "source": [
    "Ynames = ['fLength', 'fWidth', 'fSize', 'fConc', 'fConc1', 'fAsym', \n",
    "             'fM3Long', 'fM3Trans', 'fAlpha', 'fDist', 'identity']\n",
    "featureNames = ['fLength', 'fWidth', 'fSize', 'fConc', 'fConc1', 'fAsym', \n",
    "             'fM3Long', 'fM3Trans', 'fAlpha', 'fDist']\n",
    "filepath = 'magic04.data'\n",
    "data = pd.read_csv(filepath, names=Ynames, header=None)\n",
    "data['identity']= data['identity'].map({'g':1, 'h': 0}).astype(int) \n",
    "X = data[featureNames].values.astype('float64')\n",
    "Y = data['identity'].values.astype('int64')"
   ]
  },
  {
   "cell_type": "code",
   "execution_count": 3,
   "metadata": {
    "collapsed": false
   },
   "outputs": [
    {
     "data": {
      "text/plain": [
       "array([[ 0.99814475, -0.32498118, -0.44905448,  0.85484572,  0.60667942,\n",
       "        -0.20521335, -1.67121153,  0.71316327, -0.80809715,  2.0215353 ],\n",
       "       [-0.23659983,  0.05412934,  0.31588529, -0.89671549, -0.90995431,\n",
       "         0.8831599 ,  0.4856441 ,  0.48326819, -0.06094743,  1.19129112]])"
      ]
     },
     "execution_count": 3,
     "metadata": {},
     "output_type": "execute_result"
    }
   ],
   "source": [
    "X = StandardScaler().fit_transform(X)\n",
    "train_Features, test_Features, train_Label, test_Label = train_test_split(X, Y, test_size=0.2, random_state=None) \n",
    "train_Features[:2]"
   ]
  },
  {
   "cell_type": "code",
   "execution_count": 4,
   "metadata": {
    "collapsed": false
   },
   "outputs": [
    {
     "data": {
      "text/plain": [
       "array([[-0.07955751,  0.87928749,  0.79981815, -1.2303983 , -1.15156601,\n",
       "        -0.40187575, -0.77476063,  1.28797301,  1.11770167,  0.54171109],\n",
       "       [-0.25591588, -0.54999458, -0.32822997,  0.21100202,  0.04834827,\n",
       "        -0.41754516, -0.934237  ,  0.56400995,  2.32503337, -0.02624289]])"
      ]
     },
     "execution_count": 4,
     "metadata": {},
     "output_type": "execute_result"
    }
   ],
   "source": [
    "test_Features[:2]"
   ]
  },
  {
   "cell_type": "code",
   "execution_count": 5,
   "metadata": {
    "collapsed": false
   },
   "outputs": [
    {
     "data": {
      "text/plain": [
       "array([1, 1, 1, 0])"
      ]
     },
     "execution_count": 5,
     "metadata": {},
     "output_type": "execute_result"
    }
   ],
   "source": [
    "train_Label[:4]"
   ]
  },
  {
   "cell_type": "code",
   "execution_count": 6,
   "metadata": {
    "collapsed": false
   },
   "outputs": [
    {
     "data": {
      "text/plain": [
       "(15216, 10)"
      ]
     },
     "execution_count": 6,
     "metadata": {},
     "output_type": "execute_result"
    }
   ],
   "source": [
    "train_Features.shape"
   ]
  },
  {
   "cell_type": "code",
   "execution_count": 7,
   "metadata": {
    "collapsed": false
   },
   "outputs": [
    {
     "data": {
      "text/plain": [
       "array([0, 0, 1, 0])"
      ]
     },
     "execution_count": 7,
     "metadata": {},
     "output_type": "execute_result"
    }
   ],
   "source": [
    "test_Label[:4]"
   ]
  },
  {
   "cell_type": "code",
   "execution_count": 8,
   "metadata": {
    "collapsed": false
   },
   "outputs": [
    {
     "name": "stderr",
     "output_type": "stream",
     "text": [
      "Using TensorFlow backend.\n"
     ]
    }
   ],
   "source": [
    "from keras.models import Sequential\n",
    "from keras.layers import Dense,Dropout\n",
    "from keras.callbacks import EarlyStopping\n",
    "early_stopping = EarlyStopping(monitor='val_loss', patience=3)"
   ]
  },
  {
   "cell_type": "code",
   "execution_count": 9,
   "metadata": {
    "collapsed": true
   },
   "outputs": [],
   "source": [
    "model = Sequential()"
   ]
  },
  {
   "cell_type": "code",
   "execution_count": 10,
   "metadata": {
    "collapsed": true
   },
   "outputs": [],
   "source": [
    "model.add(Dense(units=30*3,  input_dim=10, \n",
    "                kernel_initializer='uniform', \n",
    "                activation='relu'))"
   ]
  },
  {
   "cell_type": "code",
   "execution_count": 11,
   "metadata": {
    "collapsed": true
   },
   "outputs": [],
   "source": [
    "model.add(Dense(units=30*2, \n",
    "                kernel_initializer='uniform', \n",
    "                activation='relu'))"
   ]
  },
  {
   "cell_type": "code",
   "execution_count": 12,
   "metadata": {
    "collapsed": true
   },
   "outputs": [],
   "source": [
    "model.add(Dense(units=30, \n",
    "                kernel_initializer='uniform', \n",
    "                activation='relu'))"
   ]
  },
  {
   "cell_type": "code",
   "execution_count": 13,
   "metadata": {
    "collapsed": true
   },
   "outputs": [],
   "source": [
    "model.add(Dense(units=1, \n",
    "                kernel_initializer='uniform',\n",
    "                activation='sigmoid'))"
   ]
  },
  {
   "cell_type": "code",
   "execution_count": 14,
   "metadata": {
    "collapsed": false
   },
   "outputs": [
    {
     "name": "stdout",
     "output_type": "stream",
     "text": [
      "_________________________________________________________________\n",
      "Layer (type)                 Output Shape              Param #   \n",
      "=================================================================\n",
      "dense_1 (Dense)              (None, 90)                990       \n",
      "_________________________________________________________________\n",
      "dense_2 (Dense)              (None, 60)                5460      \n",
      "_________________________________________________________________\n",
      "dense_3 (Dense)              (None, 30)                1830      \n",
      "_________________________________________________________________\n",
      "dense_4 (Dense)              (None, 1)                 31        \n",
      "=================================================================\n",
      "Total params: 8,311\n",
      "Trainable params: 8,311\n",
      "Non-trainable params: 0\n",
      "_________________________________________________________________\n"
     ]
    }
   ],
   "source": [
    "model.summary()"
   ]
  },
  {
   "cell_type": "code",
   "execution_count": 15,
   "metadata": {
    "collapsed": true
   },
   "outputs": [],
   "source": [
    "model.compile(loss='binary_crossentropy', \n",
    "              optimizer='adam', metrics=['accuracy'])"
   ]
  },
  {
   "cell_type": "code",
   "execution_count": 16,
   "metadata": {
    "collapsed": false
   },
   "outputs": [
    {
     "name": "stdout",
     "output_type": "stream",
     "text": [
      "Train on 13694 samples, validate on 1522 samples\n",
      "Epoch 1/30\n",
      " - 1s - loss: 0.6748 - acc: 0.7012 - val_loss: 0.6111 - val_acc: 0.7760\n",
      "Epoch 2/30\n",
      " - 0s - loss: 0.4855 - acc: 0.7944 - val_loss: 0.4227 - val_acc: 0.8049\n",
      "Epoch 3/30\n",
      " - 0s - loss: 0.4024 - acc: 0.8176 - val_loss: 0.3961 - val_acc: 0.8219\n",
      "Epoch 4/30\n",
      " - 0s - loss: 0.3851 - acc: 0.8323 - val_loss: 0.3757 - val_acc: 0.8417\n",
      "Epoch 5/30\n",
      " - 0s - loss: 0.3689 - acc: 0.8425 - val_loss: 0.3603 - val_acc: 0.8476\n",
      "Epoch 6/30\n",
      " - 0s - loss: 0.3611 - acc: 0.8495 - val_loss: 0.3534 - val_acc: 0.8502\n",
      "Epoch 7/30\n",
      " - 0s - loss: 0.3495 - acc: 0.8579 - val_loss: 0.3412 - val_acc: 0.8614\n",
      "Epoch 8/30\n",
      " - 0s - loss: 0.3421 - acc: 0.8611 - val_loss: 0.3376 - val_acc: 0.8561\n",
      "Epoch 9/30\n",
      " - 0s - loss: 0.3401 - acc: 0.8613 - val_loss: 0.3295 - val_acc: 0.8633\n",
      "Epoch 10/30\n",
      " - 0s - loss: 0.3320 - acc: 0.8635 - val_loss: 0.3265 - val_acc: 0.8633\n",
      "Epoch 11/30\n",
      " - 0s - loss: 0.3302 - acc: 0.8640 - val_loss: 0.3241 - val_acc: 0.8647\n",
      "Epoch 12/30\n",
      " - 0s - loss: 0.3250 - acc: 0.8671 - val_loss: 0.3251 - val_acc: 0.8647\n",
      "Epoch 13/30\n",
      " - 0s - loss: 0.3230 - acc: 0.8690 - val_loss: 0.3230 - val_acc: 0.8673\n",
      "Epoch 14/30\n",
      " - 0s - loss: 0.3212 - acc: 0.8664 - val_loss: 0.3203 - val_acc: 0.8647\n",
      "Epoch 15/30\n",
      " - 0s - loss: 0.3179 - acc: 0.8699 - val_loss: 0.3140 - val_acc: 0.8647\n",
      "Epoch 16/30\n",
      " - 0s - loss: 0.3150 - acc: 0.8707 - val_loss: 0.3112 - val_acc: 0.8679\n",
      "Epoch 17/30\n",
      " - 0s - loss: 0.3152 - acc: 0.8703 - val_loss: 0.3131 - val_acc: 0.8614\n",
      "Epoch 18/30\n",
      " - 0s - loss: 0.3135 - acc: 0.8704 - val_loss: 0.3073 - val_acc: 0.8739\n",
      "Epoch 19/30\n",
      " - 0s - loss: 0.3100 - acc: 0.8724 - val_loss: 0.3106 - val_acc: 0.8706\n",
      "Epoch 20/30\n",
      " - 0s - loss: 0.3105 - acc: 0.8725 - val_loss: 0.3108 - val_acc: 0.8660\n",
      "Epoch 21/30\n",
      " - 0s - loss: 0.3092 - acc: 0.8719 - val_loss: 0.3069 - val_acc: 0.8679\n",
      "Epoch 22/30\n",
      " - 0s - loss: 0.3072 - acc: 0.8745 - val_loss: 0.3062 - val_acc: 0.8719\n",
      "Epoch 23/30\n",
      " - 0s - loss: 0.3063 - acc: 0.8740 - val_loss: 0.3029 - val_acc: 0.8765\n",
      "Epoch 24/30\n",
      " - 0s - loss: 0.3047 - acc: 0.8754 - val_loss: 0.3049 - val_acc: 0.8725\n",
      "Epoch 25/30\n",
      " - 0s - loss: 0.3033 - acc: 0.8745 - val_loss: 0.3023 - val_acc: 0.8804\n",
      "Epoch 26/30\n",
      " - 0s - loss: 0.3011 - acc: 0.8756 - val_loss: 0.3021 - val_acc: 0.8771\n",
      "Epoch 27/30\n",
      " - 0s - loss: 0.3005 - acc: 0.8765 - val_loss: 0.3013 - val_acc: 0.8725\n",
      "Epoch 28/30\n",
      " - 0s - loss: 0.3008 - acc: 0.8746 - val_loss: 0.3066 - val_acc: 0.8699\n",
      "Epoch 29/30\n",
      " - 0s - loss: 0.3010 - acc: 0.8766 - val_loss: 0.3020 - val_acc: 0.8725\n",
      "Epoch 30/30\n",
      " - 0s - loss: 0.2976 - acc: 0.8797 - val_loss: 0.2976 - val_acc: 0.8752\n"
     ]
    }
   ],
   "source": [
    "train_history =model.fit(x=train_Features, \n",
    "                         y=train_Label, \n",
    "                         validation_split=0.1, \n",
    "                         epochs=30, \n",
    "                         batch_size=400,verbose=2,callbacks=[early_stopping])"
   ]
  },
  {
   "cell_type": "code",
   "execution_count": 17,
   "metadata": {
    "collapsed": true
   },
   "outputs": [],
   "source": [
    "import matplotlib.pyplot as plt\n",
    "def show_train_history(train_history,train,validation):\n",
    "    plt.plot(train_history.history[train])\n",
    "    plt.plot(train_history.history[validation])\n",
    "    plt.title('Train History')\n",
    "    plt.ylabel(train)\n",
    "    plt.xlabel('Epoch')\n",
    "    plt.legend(['train', 'validation'], loc='upper left')\n",
    "    plt.show()"
   ]
  },
  {
   "cell_type": "code",
   "execution_count": 18,
   "metadata": {
    "collapsed": false
   },
   "outputs": [
    {
     "data": {
      "image/png": "[encoded data removed]",
      "text/plain": [
       "<matplotlib.figure.Figure at 0x7f3cf51849b0>"
      ]
     },
     "metadata": {},
     "output_type": "display_data"
    }
   ],
   "source": [
    "show_train_history(train_history,'acc','val_acc')"
   ]
  },
  {
   "cell_type": "code",
   "execution_count": 19,
   "metadata": {
    "collapsed": false
   },
   "outputs": [
    {
     "data": {
      "image/png": "[encoded data removed]",
      "text/plain": [
       "<matplotlib.figure.Figure at 0x7f3cf5184710>"
      ]
     },
     "metadata": {},
     "output_type": "display_data"
    }
   ],
   "source": [
    "show_train_history(train_history,'loss','val_loss')"
   ]
  },
  {
   "cell_type": "code",
   "execution_count": 20,
   "metadata": {
    "collapsed": false
   },
   "outputs": [
    {
     "name": "stdout",
     "output_type": "stream",
     "text": [
      "3804/3804 [==============================] - 0s 37us/step\n"
     ]
    }
   ],
   "source": [
    "scores = model.evaluate(x=test_Features, \n",
    "                        y=test_Label)"
   ]
  },
  {
   "cell_type": "code",
   "execution_count": 21,
   "metadata": {
    "collapsed": false
   },
   "outputs": [
    {
     "data": {
      "text/plain": [
       "0.8575184016824395"
      ]
     },
     "execution_count": 21,
     "metadata": {},
     "output_type": "execute_result"
    }
   ],
   "source": [
    "scores[1]"
   ]
  }
 ],
 "metadata": {
  "anaconda-cloud": {},
  "kernelspec": {
   "display_name": "Python [default]",
   "language": "python",
   "name": "python3"
  },
  "language_info": {
   "codemirror_mode": {
    "name": "ipython",
    "version": 3
   },
   "file_extension": ".py",
   "mimetype": "text/x-python",
   "name": "python",
   "nbconvert_exporter": "python",
   "pygments_lexer": "ipython3",
   "version": "3.5.2"
  }
 },
 "nbformat": 4,
 "nbformat_minor": 1
}
