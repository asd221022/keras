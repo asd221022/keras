{
 "cells": [
  {
   "cell_type": "code",
   "execution_count": 1,
   "metadata": {
    "collapsed": false
   },
   "outputs": [],
   "source": [
    "import numpy as np\n",
    "import pandas as pd\n",
    "from sklearn.preprocessing import StandardScaler\n",
    "from sklearn.model_selection import train_test_split"
   ]
  },
  {
   "cell_type": "code",
   "execution_count": 2,
   "metadata": {
    "collapsed": false
   },
   "outputs": [],
   "source": [
    "Ynames = ['fLength', 'fWidth', 'fSize', 'fConc', 'fConc1', 'fAsym', \n",
    "             'fM3Long', 'fM3Trans', 'fAlpha', 'fDist', 'identity']\n",
    "featureNames = ['fLength', 'fWidth', 'fSize', 'fConc', 'fConc1', 'fAsym', \n",
    "             'fM3Long', 'fM3Trans', 'fAlpha', 'fDist']\n",
    "filepath = 'magic04.data'\n",
    "data = pd.read_csv(filepath, names=Ynames, header=None)\n",
    "data['identity']= data['identity'].map({'g':1, 'h': 0}).astype(int) \n",
    "X = data[featureNames].values.astype('float64')\n",
    "Y = data['identity'].values.astype('int64')"
   ]
  },
  {
   "cell_type": "code",
   "execution_count": 3,
   "metadata": {
    "collapsed": false
   },
   "outputs": [
    {
     "data": {
      "text/plain": [
       "array([[ 3.31424567,  2.80656979,  1.36796844, -1.32339186, -1.20495586,\n",
       "        -3.61464474,  1.57166229, -3.37671737,  2.1997601 ,  1.21401297],\n",
       "       [-0.65552175, -0.65322384, -0.93933538,  0.48998272,  0.2211866 ,\n",
       "         0.14752839,  0.18187603, -0.35016872, -1.0577051 , -0.03362816]])"
      ]
     },
     "execution_count": 3,
     "metadata": {},
     "output_type": "execute_result"
    }
   ],
   "source": [
    "X = StandardScaler().fit_transform(X)\n",
    "train_Features, test_Features, train_Label, test_Label = train_test_split(X, Y, test_size=0.2, random_state=None) \n",
    "train_Features[:2]"
   ]
  },
  {
   "cell_type": "code",
   "execution_count": 4,
   "metadata": {
    "collapsed": false
   },
   "outputs": [
    {
     "data": {
      "text/plain": [
       "array([[ 0.28581862,  0.01806614,  1.37241207, -0.87428763, -0.71539808,\n",
       "         0.51753063,  1.22391082, -0.69028189, -0.9468938 ,  0.16554266],\n",
       "       [ 2.29023791,  1.25087576,  0.98729716, -1.11169474, -1.11989407,\n",
       "        -1.19294561, -4.03945066,  1.67216861, -0.60362205,  0.78594023]])"
      ]
     },
     "execution_count": 4,
     "metadata": {},
     "output_type": "execute_result"
    }
   ],
   "source": [
    "test_Features[:2]"
   ]
  },
  {
   "cell_type": "code",
   "execution_count": 5,
   "metadata": {
    "collapsed": false
   },
   "outputs": [
    {
     "data": {
      "text/plain": [
       "array([0, 1, 0, 1])"
      ]
     },
     "execution_count": 5,
     "metadata": {},
     "output_type": "execute_result"
    }
   ],
   "source": [
    "train_Label[:4]"
   ]
  },
  {
   "cell_type": "code",
   "execution_count": 6,
   "metadata": {
    "collapsed": false
   },
   "outputs": [
    {
     "data": {
      "text/plain": [
       "(15216, 10)"
      ]
     },
     "execution_count": 6,
     "metadata": {},
     "output_type": "execute_result"
    }
   ],
   "source": [
    "train_Features.shape"
   ]
  },
  {
   "cell_type": "code",
   "execution_count": 7,
   "metadata": {
    "collapsed": false
   },
   "outputs": [
    {
     "data": {
      "text/plain": [
       "array([1, 0, 0, 0])"
      ]
     },
     "execution_count": 7,
     "metadata": {},
     "output_type": "execute_result"
    }
   ],
   "source": [
    "test_Label[:4]"
   ]
  },
  {
   "cell_type": "code",
   "execution_count": 8,
   "metadata": {
    "collapsed": false
   },
   "outputs": [
    {
     "name": "stderr",
     "output_type": "stream",
     "text": [
      "Using TensorFlow backend.\n"
     ]
    }
   ],
   "source": [
    "from keras.models import Sequential\n",
    "from keras.layers import Dense,Dropout\n",
    "from keras.callbacks import EarlyStopping\n",
    "early_stopping = EarlyStopping(monitor='val_loss', patience=3)"
   ]
  },
  {
   "cell_type": "code",
   "execution_count": 9,
   "metadata": {
    "collapsed": true
   },
   "outputs": [],
   "source": [
    "model = Sequential()"
   ]
  },
  {
   "cell_type": "code",
   "execution_count": 10,
   "metadata": {
    "collapsed": true
   },
   "outputs": [],
   "source": [
    "model.add(Dense(units=10*3,  input_dim=10, \n",
    "                kernel_initializer='uniform', \n",
    "                activation='relu'))"
   ]
  },
  {
   "cell_type": "code",
   "execution_count": 11,
   "metadata": {
    "collapsed": true
   },
   "outputs": [],
   "source": [
    "model.add(Dense(units=10*2, \n",
    "                kernel_initializer='uniform', \n",
    "                activation='relu'))"
   ]
  },
  {
   "cell_type": "code",
   "execution_count": 12,
   "metadata": {
    "collapsed": true
   },
   "outputs": [],
   "source": [
    "model.add(Dense(units=10, \n",
    "                kernel_initializer='uniform', \n",
    "                activation='relu'))"
   ]
  },
  {
   "cell_type": "code",
   "execution_count": 13,
   "metadata": {
    "collapsed": true
   },
   "outputs": [],
   "source": [
    "model.add(Dense(units=1, \n",
    "                kernel_initializer='uniform',\n",
    "                activation='sigmoid'))"
   ]
  },
  {
   "cell_type": "code",
   "execution_count": 14,
   "metadata": {
    "collapsed": false
   },
   "outputs": [
    {
     "name": "stdout",
     "output_type": "stream",
     "text": [
      "_________________________________________________________________\n",
      "Layer (type)                 Output Shape              Param #   \n",
      "=================================================================\n",
      "dense_1 (Dense)              (None, 30)                330       \n",
      "_________________________________________________________________\n",
      "dense_2 (Dense)              (None, 20)                620       \n",
      "_________________________________________________________________\n",
      "dense_3 (Dense)              (None, 10)                210       \n",
      "_________________________________________________________________\n",
      "dense_4 (Dense)              (None, 1)                 11        \n",
      "=================================================================\n",
      "Total params: 1,171\n",
      "Trainable params: 1,171\n",
      "Non-trainable params: 0\n",
      "_________________________________________________________________\n"
     ]
    }
   ],
   "source": [
    "model.summary()"
   ]
  },
  {
   "cell_type": "code",
   "execution_count": 15,
   "metadata": {
    "collapsed": true
   },
   "outputs": [],
   "source": [
    "model.compile(loss='binary_crossentropy', \n",
    "              optimizer='adam', metrics=['accuracy'])"
   ]
  },
  {
   "cell_type": "code",
   "execution_count": 16,
   "metadata": {
    "collapsed": false
   },
   "outputs": [
    {
     "name": "stdout",
     "output_type": "stream",
     "text": [
      "Train on 13694 samples, validate on 1522 samples\n",
      "Epoch 1/30\n",
      " - 0s - loss: 0.6897 - acc: 0.6384 - val_loss: 0.6833 - val_acc: 0.6748\n",
      "Epoch 2/30\n",
      " - 0s - loss: 0.6634 - acc: 0.7331 - val_loss: 0.6186 - val_acc: 0.7838\n",
      "Epoch 3/30\n",
      " - 0s - loss: 0.5436 - acc: 0.7900 - val_loss: 0.4648 - val_acc: 0.7976\n",
      "Epoch 4/30\n",
      " - 0s - loss: 0.4321 - acc: 0.8045 - val_loss: 0.4190 - val_acc: 0.8114\n",
      "Epoch 5/30\n",
      " - 0s - loss: 0.4071 - acc: 0.8143 - val_loss: 0.4058 - val_acc: 0.8206\n",
      "Epoch 6/30\n",
      " - 0s - loss: 0.3966 - acc: 0.8227 - val_loss: 0.3959 - val_acc: 0.8272\n",
      "Epoch 7/30\n",
      " - 0s - loss: 0.3868 - acc: 0.8309 - val_loss: 0.3886 - val_acc: 0.8344\n",
      "Epoch 8/30\n",
      " - 0s - loss: 0.3790 - acc: 0.8365 - val_loss: 0.3822 - val_acc: 0.8384\n",
      "Epoch 9/30\n",
      " - 0s - loss: 0.3725 - acc: 0.8423 - val_loss: 0.3782 - val_acc: 0.8384\n",
      "Epoch 10/30\n",
      " - 0s - loss: 0.3671 - acc: 0.8459 - val_loss: 0.3737 - val_acc: 0.8397\n",
      "Epoch 11/30\n",
      " - 0s - loss: 0.3628 - acc: 0.8505 - val_loss: 0.3732 - val_acc: 0.8364\n",
      "Epoch 12/30\n",
      " - 0s - loss: 0.3598 - acc: 0.8518 - val_loss: 0.3677 - val_acc: 0.8403\n",
      "Epoch 13/30\n",
      " - 0s - loss: 0.3560 - acc: 0.8550 - val_loss: 0.3647 - val_acc: 0.8384\n",
      "Epoch 14/30\n",
      " - 0s - loss: 0.3532 - acc: 0.8580 - val_loss: 0.3639 - val_acc: 0.8397\n",
      "Epoch 15/30\n",
      " - 0s - loss: 0.3507 - acc: 0.8592 - val_loss: 0.3611 - val_acc: 0.8423\n",
      "Epoch 16/30\n",
      " - 0s - loss: 0.3481 - acc: 0.8589 - val_loss: 0.3571 - val_acc: 0.8423\n",
      "Epoch 17/30\n",
      " - 0s - loss: 0.3457 - acc: 0.8575 - val_loss: 0.3569 - val_acc: 0.8430\n",
      "Epoch 18/30\n",
      " - 0s - loss: 0.3457 - acc: 0.8606 - val_loss: 0.3539 - val_acc: 0.8436\n",
      "Epoch 19/30\n",
      " - 0s - loss: 0.3410 - acc: 0.8604 - val_loss: 0.3513 - val_acc: 0.8449\n",
      "Epoch 20/30\n",
      " - 0s - loss: 0.3384 - acc: 0.8604 - val_loss: 0.3491 - val_acc: 0.8476\n",
      "Epoch 21/30\n",
      " - 0s - loss: 0.3359 - acc: 0.8631 - val_loss: 0.3492 - val_acc: 0.8463\n",
      "Epoch 22/30\n",
      " - 0s - loss: 0.3341 - acc: 0.8630 - val_loss: 0.3473 - val_acc: 0.8443\n",
      "Epoch 23/30\n",
      " - 0s - loss: 0.3328 - acc: 0.8626 - val_loss: 0.3446 - val_acc: 0.8541\n",
      "Epoch 24/30\n",
      " - 0s - loss: 0.3311 - acc: 0.8637 - val_loss: 0.3433 - val_acc: 0.8535\n",
      "Epoch 25/30\n",
      " - 0s - loss: 0.3290 - acc: 0.8645 - val_loss: 0.3444 - val_acc: 0.8555\n",
      "Epoch 26/30\n",
      " - 0s - loss: 0.3283 - acc: 0.8649 - val_loss: 0.3414 - val_acc: 0.8541\n",
      "Epoch 27/30\n",
      " - 0s - loss: 0.3269 - acc: 0.8661 - val_loss: 0.3392 - val_acc: 0.8535\n",
      "Epoch 28/30\n",
      " - 0s - loss: 0.3257 - acc: 0.8677 - val_loss: 0.3394 - val_acc: 0.8561\n",
      "Epoch 29/30\n",
      " - 0s - loss: 0.3241 - acc: 0.8673 - val_loss: 0.3387 - val_acc: 0.8568\n",
      "Epoch 30/30\n",
      " - 0s - loss: 0.3224 - acc: 0.8672 - val_loss: 0.3360 - val_acc: 0.8587\n"
     ]
    }
   ],
   "source": [
    "train_history =model.fit(x=train_Features, \n",
    "                         y=train_Label, \n",
    "                         validation_split=0.1, \n",
    "                         epochs=30, \n",
    "                         batch_size=400,verbose=2,callbacks=[early_stopping])"
   ]
  },
  {
   "cell_type": "code",
   "execution_count": 17,
   "metadata": {
    "collapsed": true
   },
   "outputs": [],
   "source": [
    "import matplotlib.pyplot as plt\n",
    "def show_train_history(train_history,train,validation):\n",
    "    plt.plot(train_history.history[train])\n",
    "    plt.plot(train_history.history[validation])\n",
    "    plt.title('Train History')\n",
    "    plt.ylabel(train)\n",
    "    plt.xlabel('Epoch')\n",
    "    plt.legend(['train', 'validation'], loc='upper left')\n",
    "    plt.show()"
   ]
  },
  {
   "cell_type": "code",
   "execution_count": 18,
   "metadata": {
    "collapsed": false
   },
   "outputs": [
    {
     "data": {
      "image/png": "[encoded data removed]",
      "text/plain": [
       "<matplotlib.figure.Figure at 0x7f2ef33c5978>"
      ]
     },
     "metadata": {},
     "output_type": "display_data"
    }
   ],
   "source": [
    "show_train_history(train_history,'acc','val_acc')"
   ]
  },
  {
   "cell_type": "code",
   "execution_count": 19,
   "metadata": {
    "collapsed": false
   },
   "outputs": [
    {
     "data": {
      "image/png": "[encoded data removed]",
      "text/plain": [
       "<matplotlib.figure.Figure at 0x7f2ef33c5f28>"
      ]
     },
     "metadata": {},
     "output_type": "display_data"
    }
   ],
   "source": [
    "show_train_history(train_history,'loss','val_loss')"
   ]
  },
  {
   "cell_type": "code",
   "execution_count": 20,
   "metadata": {
    "collapsed": false
   },
   "outputs": [
    {
     "name": "stdout",
     "output_type": "stream",
     "text": [
      "3804/3804 [==============================] - 0s 55us/step\n"
     ]
    }
   ],
   "source": [
    "scores = model.evaluate(x=test_Features, \n",
    "                        y=test_Label)"
   ]
  },
  {
   "cell_type": "code",
   "execution_count": 21,
   "metadata": {
    "collapsed": false
   },
   "outputs": [
    {
     "data": {
      "text/plain": [
       "0.8680336488534224"
      ]
     },
     "execution_count": 21,
     "metadata": {},
     "output_type": "execute_result"
    }
   ],
   "source": [
    "scores[1]"
   ]
  }
 ],
 "metadata": {
  "anaconda-cloud": {},
  "kernelspec": {
   "display_name": "Python [default]",
   "language": "python",
   "name": "python3"
  },
  "language_info": {
   "codemirror_mode": {
    "name": "ipython",
    "version": 3
   },
   "file_extension": ".py",
   "mimetype": "text/x-python",
   "name": "python",
   "nbconvert_exporter": "python",
   "pygments_lexer": "ipython3",
   "version": "3.5.2"
  }
 },
 "nbformat": 4,
 "nbformat_minor": 1
}
