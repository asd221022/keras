{
 "cells": [
  {
   "cell_type": "code",
   "execution_count": 1,
   "metadata": {
    "collapsed": false
   },
   "outputs": [],
   "source": [
    "import numpy as np\n",
    "import pandas as pd\n",
    "from sklearn.preprocessing import StandardScaler\n",
    "from sklearn.model_selection import train_test_split"
   ]
  },
  {
   "cell_type": "code",
   "execution_count": 2,
   "metadata": {
    "collapsed": false
   },
   "outputs": [],
   "source": [
    "Ynames = ['fLength', 'fWidth', 'fSize', 'fConc', 'fConc1', 'fAsym', \n",
    "             'fM3Long', 'fM3Trans', 'fAlpha', 'fDist', 'identity']\n",
    "featureNames = ['fLength', 'fWidth', 'fSize', 'fConc', 'fConc1', 'fAsym', \n",
    "             'fM3Long', 'fM3Trans', 'fAlpha', 'fDist']\n",
    "filepath = 'magic04.data'\n",
    "data = pd.read_csv(filepath, names=Ynames, header=None)\n",
    "data['identity']= data['identity'].map({'g':1, 'h': 0}).astype(int) \n",
    "X = data[featureNames].values.astype('float64')\n",
    "Y = data['identity'].values.astype('int64')"
   ]
  },
  {
   "cell_type": "code",
   "execution_count": 3,
   "metadata": {
    "collapsed": false
   },
   "outputs": [
    {
     "data": {
      "text/plain": [
       "array([[ 0.43500516,  0.74359809,  1.24270029, -0.33601898, -0.43125548,\n",
       "        -1.2992061 , -1.40241685, -1.35987774, -0.01363474,  2.42003751],\n",
       "       [ 0.0664565 , -0.71910349,  0.15147085, -0.61226458, -0.43487513,\n",
       "         0.37203833,  0.33954256, -0.32609408,  1.22388131, -2.04874067]])"
      ]
     },
     "execution_count": 3,
     "metadata": {},
     "output_type": "execute_result"
    }
   ],
   "source": [
    "X = StandardScaler().fit_transform(X)\n",
    "train_Features, test_Features, train_Label, test_Label = train_test_split(X, Y, test_size=0.2, random_state=None) \n",
    "train_Features[:2]"
   ]
  },
  {
   "cell_type": "code",
   "execution_count": 4,
   "metadata": {
    "collapsed": false
   },
   "outputs": [
    {
     "data": {
      "text/plain": [
       "array([[ 3.73418026,  6.43310663,  3.16002236, -1.75116228, -1.66284171,\n",
       "        -4.13788195, -2.59528859,  5.36211918,  1.33394939,  1.54600894],\n",
       "       [-0.51644527, -0.30809427,  0.36011003, -0.22770882, -0.40048845,\n",
       "        -0.06332888, -0.59929564, -0.12296727, -0.89605277, -0.25347346]])"
      ]
     },
     "execution_count": 4,
     "metadata": {},
     "output_type": "execute_result"
    }
   ],
   "source": [
    "test_Features[:2]"
   ]
  },
  {
   "cell_type": "code",
   "execution_count": 5,
   "metadata": {
    "collapsed": false
   },
   "outputs": [
    {
     "data": {
      "text/plain": [
       "array([0, 0, 0, 1])"
      ]
     },
     "execution_count": 5,
     "metadata": {},
     "output_type": "execute_result"
    }
   ],
   "source": [
    "train_Label[:4]"
   ]
  },
  {
   "cell_type": "code",
   "execution_count": 6,
   "metadata": {
    "collapsed": false
   },
   "outputs": [
    {
     "data": {
      "text/plain": [
       "(15216, 10)"
      ]
     },
     "execution_count": 6,
     "metadata": {},
     "output_type": "execute_result"
    }
   ],
   "source": [
    "train_Features.shape"
   ]
  },
  {
   "cell_type": "code",
   "execution_count": 7,
   "metadata": {
    "collapsed": false
   },
   "outputs": [
    {
     "data": {
      "text/plain": [
       "array([0, 1, 1, 0])"
      ]
     },
     "execution_count": 7,
     "metadata": {},
     "output_type": "execute_result"
    }
   ],
   "source": [
    "test_Label[:4]"
   ]
  },
  {
   "cell_type": "code",
   "execution_count": 8,
   "metadata": {
    "collapsed": false
   },
   "outputs": [
    {
     "name": "stderr",
     "output_type": "stream",
     "text": [
      "Using TensorFlow backend.\n"
     ]
    }
   ],
   "source": [
    "from keras.models import Sequential\n",
    "from keras.layers import Dense,Dropout\n",
    "from keras.callbacks import EarlyStopping\n",
    "early_stopping = EarlyStopping(monitor='val_loss', patience=3)"
   ]
  },
  {
   "cell_type": "code",
   "execution_count": 9,
   "metadata": {
    "collapsed": true
   },
   "outputs": [],
   "source": [
    "model = Sequential()"
   ]
  },
  {
   "cell_type": "code",
   "execution_count": 10,
   "metadata": {
    "collapsed": true
   },
   "outputs": [],
   "source": [
    "model.add(Dense(units=30*5,  input_dim=10, \n",
    "                kernel_initializer='uniform', \n",
    "                activation='relu'))"
   ]
  },
  {
   "cell_type": "code",
   "execution_count": 11,
   "metadata": {
    "collapsed": true
   },
   "outputs": [],
   "source": [
    "model.add(Dense(units=30*4, \n",
    "                kernel_initializer='uniform', \n",
    "                activation='relu'))"
   ]
  },
  {
   "cell_type": "code",
   "execution_count": 12,
   "metadata": {
    "collapsed": true
   },
   "outputs": [],
   "source": [
    "model.add(Dense(units=30*3, \n",
    "                kernel_initializer='uniform', \n",
    "                activation='relu'))"
   ]
  },
  {
   "cell_type": "code",
   "execution_count": 13,
   "metadata": {
    "collapsed": true
   },
   "outputs": [],
   "source": [
    "model.add(Dense(units=30*2, \n",
    "                kernel_initializer='uniform', \n",
    "                activation='relu'))"
   ]
  },
  {
   "cell_type": "code",
   "execution_count": 14,
   "metadata": {
    "collapsed": true
   },
   "outputs": [],
   "source": [
    "model.add(Dense(units=30, \n",
    "                kernel_initializer='uniform', \n",
    "                activation='relu'))"
   ]
  },
  {
   "cell_type": "code",
   "execution_count": 15,
   "metadata": {
    "collapsed": true
   },
   "outputs": [],
   "source": [
    "model.add(Dense(units=1, \n",
    "                kernel_initializer='uniform',\n",
    "                activation='sigmoid'))"
   ]
  },
  {
   "cell_type": "code",
   "execution_count": 16,
   "metadata": {
    "collapsed": false
   },
   "outputs": [
    {
     "name": "stdout",
     "output_type": "stream",
     "text": [
      "_________________________________________________________________\n",
      "Layer (type)                 Output Shape              Param #   \n",
      "=================================================================\n",
      "dense_1 (Dense)              (None, 150)               1650      \n",
      "_________________________________________________________________\n",
      "dense_2 (Dense)              (None, 120)               18120     \n",
      "_________________________________________________________________\n",
      "dense_3 (Dense)              (None, 90)                10890     \n",
      "_________________________________________________________________\n",
      "dense_4 (Dense)              (None, 60)                5460      \n",
      "_________________________________________________________________\n",
      "dense_5 (Dense)              (None, 30)                1830      \n",
      "_________________________________________________________________\n",
      "dense_6 (Dense)              (None, 1)                 31        \n",
      "=================================================================\n",
      "Total params: 37,981\n",
      "Trainable params: 37,981\n",
      "Non-trainable params: 0\n",
      "_________________________________________________________________\n"
     ]
    }
   ],
   "source": [
    "model.summary()"
   ]
  },
  {
   "cell_type": "code",
   "execution_count": 17,
   "metadata": {
    "collapsed": true
   },
   "outputs": [],
   "source": [
    "model.compile(loss='binary_crossentropy', \n",
    "              optimizer='adam', metrics=['accuracy'])"
   ]
  },
  {
   "cell_type": "code",
   "execution_count": 18,
   "metadata": {
    "collapsed": false
   },
   "outputs": [
    {
     "name": "stdout",
     "output_type": "stream",
     "text": [
      "Train on 13694 samples, validate on 1522 samples\n",
      "Epoch 1/30\n",
      " - 5s - loss: 0.6784 - acc: 0.6468 - val_loss: 0.5930 - val_acc: 0.6452\n",
      "Epoch 2/30\n",
      " - 1s - loss: 0.4794 - acc: 0.7700 - val_loss: 0.4061 - val_acc: 0.8193\n",
      "Epoch 3/30\n",
      " - 1s - loss: 0.3956 - acc: 0.8269 - val_loss: 0.3862 - val_acc: 0.8371\n",
      "Epoch 4/30\n",
      " - 1s - loss: 0.3691 - acc: 0.8436 - val_loss: 0.3758 - val_acc: 0.8456\n",
      "Epoch 5/30\n",
      " - 1s - loss: 0.3539 - acc: 0.8542 - val_loss: 0.3665 - val_acc: 0.8515\n",
      "Epoch 6/30\n",
      " - 1s - loss: 0.3425 - acc: 0.8607 - val_loss: 0.3573 - val_acc: 0.8640\n",
      "Epoch 7/30\n",
      " - 1s - loss: 0.3350 - acc: 0.8640 - val_loss: 0.3496 - val_acc: 0.8594\n",
      "Epoch 8/30\n",
      " - 1s - loss: 0.3292 - acc: 0.8642 - val_loss: 0.3535 - val_acc: 0.8594\n",
      "Epoch 9/30\n",
      " - 1s - loss: 0.3278 - acc: 0.8637 - val_loss: 0.3461 - val_acc: 0.8653\n",
      "Epoch 10/30\n",
      " - 1s - loss: 0.3210 - acc: 0.8675 - val_loss: 0.3459 - val_acc: 0.8647\n",
      "Epoch 11/30\n",
      " - 1s - loss: 0.3164 - acc: 0.8679 - val_loss: 0.3413 - val_acc: 0.8614\n",
      "Epoch 12/30\n",
      " - 1s - loss: 0.3188 - acc: 0.8678 - val_loss: 0.3354 - val_acc: 0.8673\n",
      "Epoch 13/30\n",
      " - 1s - loss: 0.3131 - acc: 0.8703 - val_loss: 0.3345 - val_acc: 0.8693\n",
      "Epoch 14/30\n",
      " - 1s - loss: 0.3104 - acc: 0.8694 - val_loss: 0.3357 - val_acc: 0.8660\n",
      "Epoch 15/30\n",
      " - 1s - loss: 0.3138 - acc: 0.8711 - val_loss: 0.3326 - val_acc: 0.8673\n",
      "Epoch 16/30\n",
      " - 1s - loss: 0.3075 - acc: 0.8726 - val_loss: 0.3348 - val_acc: 0.8660\n",
      "Epoch 17/30\n",
      " - 1s - loss: 0.3096 - acc: 0.8717 - val_loss: 0.3377 - val_acc: 0.8693\n",
      "Epoch 18/30\n",
      " - 1s - loss: 0.3070 - acc: 0.8721 - val_loss: 0.3283 - val_acc: 0.8739\n",
      "Epoch 19/30\n",
      " - 1s - loss: 0.3041 - acc: 0.8735 - val_loss: 0.3324 - val_acc: 0.8686\n",
      "Epoch 20/30\n",
      " - 1s - loss: 0.3027 - acc: 0.8742 - val_loss: 0.3306 - val_acc: 0.8679\n",
      "Epoch 21/30\n",
      " - 1s - loss: 0.3028 - acc: 0.8743 - val_loss: 0.3381 - val_acc: 0.8679\n"
     ]
    }
   ],
   "source": [
    "train_history =model.fit(x=train_Features, \n",
    "                         y=train_Label, \n",
    "                         validation_split=0.1, \n",
    "                         epochs=30, \n",
    "                         batch_size=400,verbose=2,callbacks=[early_stopping])"
   ]
  },
  {
   "cell_type": "code",
   "execution_count": 19,
   "metadata": {
    "collapsed": true
   },
   "outputs": [],
   "source": [
    "import matplotlib.pyplot as plt\n",
    "def show_train_history(train_history,train,validation):\n",
    "    plt.plot(train_history.history[train])\n",
    "    plt.plot(train_history.history[validation])\n",
    "    plt.title('Train History')\n",
    "    plt.ylabel(train)\n",
    "    plt.xlabel('Epoch')\n",
    "    plt.legend(['train', 'validation'], loc='upper left')\n",
    "    plt.show()"
   ]
  },
  {
   "cell_type": "code",
   "execution_count": 20,
   "metadata": {
    "collapsed": false
   },
   "outputs": [
    {
     "data": {
      "image/png": "[encoded data removed]",
      "text/plain": [
       "<matplotlib.figure.Figure at 0x7fbadd0a6f98>"
      ]
     },
     "metadata": {},
     "output_type": "display_data"
    }
   ],
   "source": [
    "show_train_history(train_history,'acc','val_acc')"
   ]
  },
  {
   "cell_type": "code",
   "execution_count": 21,
   "metadata": {
    "collapsed": false
   },
   "outputs": [
    {
     "data": {
      "image/png": "[encoded data removed]",
      "text/plain": [
       "<matplotlib.figure.Figure at 0x7fbadd0a6940>"
      ]
     },
     "metadata": {},
     "output_type": "display_data"
    }
   ],
   "source": [
    "show_train_history(train_history,'loss','val_loss')"
   ]
  },
  {
   "cell_type": "code",
   "execution_count": 22,
   "metadata": {
    "collapsed": false
   },
   "outputs": [
    {
     "name": "stdout",
     "output_type": "stream",
     "text": [
      "3804/3804 [==============================] - 0s 61us/step\n"
     ]
    }
   ],
   "source": [
    "scores = model.evaluate(x=test_Features, \n",
    "                        y=test_Label)"
   ]
  },
  {
   "cell_type": "code",
   "execution_count": 23,
   "metadata": {
    "collapsed": false
   },
   "outputs": [
    {
     "data": {
      "text/plain": [
       "0.8696109359196684"
      ]
     },
     "execution_count": 23,
     "metadata": {},
     "output_type": "execute_result"
    }
   ],
   "source": [
    "scores[1]"
   ]
  }
 ],
 "metadata": {
  "anaconda-cloud": {},
  "kernelspec": {
   "display_name": "Python [default]",
   "language": "python",
   "name": "python3"
  },
  "language_info": {
   "codemirror_mode": {
    "name": "ipython",
    "version": 3
   },
   "file_extension": ".py",
   "mimetype": "text/x-python",
   "name": "python",
   "nbconvert_exporter": "python",
   "pygments_lexer": "ipython3",
   "version": "3.5.2"
  }
 },
 "nbformat": 4,
 "nbformat_minor": 1
}
