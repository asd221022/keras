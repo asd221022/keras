{
 "cells": [
  {
   "cell_type": "code",
   "execution_count": 1,
   "metadata": {
    "collapsed": false
   },
   "outputs": [],
   "source": [
    "import numpy as np\n",
    "import pandas as pd\n",
    "from sklearn.preprocessing import StandardScaler\n",
    "from sklearn.model_selection import train_test_split"
   ]
  },
  {
   "cell_type": "code",
   "execution_count": 2,
   "metadata": {
    "collapsed": false
   },
   "outputs": [],
   "source": [
    "Ynames = ['fLength', 'fWidth', 'fSize', 'fConc', 'fConc1', 'fAsym', \n",
    "             'fM3Long', 'fM3Trans', 'fAlpha', 'fDist', 'identity']\n",
    "featureNames = ['fLength', 'fWidth', 'fSize', 'fConc', 'fConc1', 'fAsym', \n",
    "             'fM3Long', 'fM3Trans', 'fAlpha', 'fDist']\n",
    "filepath = 'magic04.data'\n",
    "data = pd.read_csv(filepath, names=Ynames, header=None)\n",
    "data['identity']= data['identity'].map({'g':1, 'h': 0}).astype(int) \n",
    "X = data[featureNames].values.astype('float64')\n",
    "Y = data['identity'].values.astype('int64')"
   ]
  },
  {
   "cell_type": "code",
   "execution_count": 3,
   "metadata": {
    "collapsed": false
   },
   "outputs": [
    {
     "data": {
      "text/plain": [
       "array([[ 2.50665175,  3.12105981,  2.4623719 , -1.84853201, -1.62302555,\n",
       "         1.09537686,  1.96012847, -4.45030053, -0.5393151 , -0.2044435 ],\n",
       "       [ 0.90430507,  0.8895679 ,  1.87073383, -1.06300987, -1.09998599,\n",
       "        -0.01976462,  0.78321398,  1.21350678, -0.87287913,  1.91438932]])"
      ]
     },
     "execution_count": 3,
     "metadata": {},
     "output_type": "execute_result"
    }
   ],
   "source": [
    "X = StandardScaler().fit_transform(X)\n",
    "train_Features, test_Features, train_Label, test_Label = train_test_split(X, Y, test_size=0.2, random_state=None) \n",
    "train_Features[:2]"
   ]
  },
  {
   "cell_type": "code",
   "execution_count": 4,
   "metadata": {
    "collapsed": false
   },
   "outputs": [
    {
     "data": {
      "text/plain": [
       "array([[-6.54027551e-01, -7.94206069e-01, -8.39036223e-01,\n",
       "         6.97303676e-01,  9.49641350e-01,  2.47615363e-01,\n",
       "        -3.65317480e-01, -4.28730614e-01,  2.97326471e-01,\n",
       "        -1.60368676e+00],\n",
       "       [ 1.08757264e+00,  3.80415122e-01,  1.60940586e+00,\n",
       "        -6.58761360e-01, -6.23096978e-01, -5.41425724e-04,\n",
       "         2.39777419e-01,  8.04396283e-01, -1.00902475e+00,\n",
       "         2.18883129e+00]])"
      ]
     },
     "execution_count": 4,
     "metadata": {},
     "output_type": "execute_result"
    }
   ],
   "source": [
    "test_Features[:2]"
   ]
  },
  {
   "cell_type": "code",
   "execution_count": 5,
   "metadata": {
    "collapsed": false
   },
   "outputs": [
    {
     "data": {
      "text/plain": [
       "array([0, 1, 0, 1])"
      ]
     },
     "execution_count": 5,
     "metadata": {},
     "output_type": "execute_result"
    }
   ],
   "source": [
    "train_Label[:4]"
   ]
  },
  {
   "cell_type": "code",
   "execution_count": 6,
   "metadata": {
    "collapsed": false
   },
   "outputs": [
    {
     "data": {
      "text/plain": [
       "(15216, 10)"
      ]
     },
     "execution_count": 6,
     "metadata": {},
     "output_type": "execute_result"
    }
   ],
   "source": [
    "train_Features.shape"
   ]
  },
  {
   "cell_type": "code",
   "execution_count": 7,
   "metadata": {
    "collapsed": false
   },
   "outputs": [
    {
     "data": {
      "text/plain": [
       "array([0, 1, 0, 0])"
      ]
     },
     "execution_count": 7,
     "metadata": {},
     "output_type": "execute_result"
    }
   ],
   "source": [
    "test_Label[:4]"
   ]
  },
  {
   "cell_type": "code",
   "execution_count": 8,
   "metadata": {
    "collapsed": false
   },
   "outputs": [
    {
     "name": "stderr",
     "output_type": "stream",
     "text": [
      "Using TensorFlow backend.\n"
     ]
    }
   ],
   "source": [
    "from keras.models import Sequential\n",
    "from keras.layers import Dense,Dropout\n",
    "from keras.callbacks import EarlyStopping\n",
    "early_stopping = EarlyStopping(monitor='val_loss', patience=3)"
   ]
  },
  {
   "cell_type": "code",
   "execution_count": 9,
   "metadata": {
    "collapsed": true
   },
   "outputs": [],
   "source": [
    "model = Sequential()"
   ]
  },
  {
   "cell_type": "code",
   "execution_count": 10,
   "metadata": {
    "collapsed": true
   },
   "outputs": [],
   "source": [
    "model.add(Dense(units=30*6,  input_dim=10, \n",
    "                kernel_initializer='uniform', \n",
    "                activation='relu'))"
   ]
  },
  {
   "cell_type": "code",
   "execution_count": 11,
   "metadata": {
    "collapsed": true
   },
   "outputs": [],
   "source": [
    "model.add(Dense(units=30*5, \n",
    "                kernel_initializer='uniform', \n",
    "                activation='relu'))"
   ]
  },
  {
   "cell_type": "code",
   "execution_count": 12,
   "metadata": {
    "collapsed": true
   },
   "outputs": [],
   "source": [
    "model.add(Dense(units=30*4, \n",
    "                kernel_initializer='uniform', \n",
    "                activation='relu'))"
   ]
  },
  {
   "cell_type": "code",
   "execution_count": 13,
   "metadata": {
    "collapsed": true
   },
   "outputs": [],
   "source": [
    "model.add(Dense(units=30*3, \n",
    "                kernel_initializer='uniform', \n",
    "                activation='relu'))"
   ]
  },
  {
   "cell_type": "code",
   "execution_count": 14,
   "metadata": {
    "collapsed": true
   },
   "outputs": [],
   "source": [
    "model.add(Dense(units=30*2, \n",
    "                kernel_initializer='uniform', \n",
    "                activation='relu'))"
   ]
  },
  {
   "cell_type": "code",
   "execution_count": 15,
   "metadata": {
    "collapsed": true
   },
   "outputs": [],
   "source": [
    "model.add(Dense(units=30, \n",
    "                kernel_initializer='uniform', \n",
    "                activation='relu'))"
   ]
  },
  {
   "cell_type": "code",
   "execution_count": 16,
   "metadata": {
    "collapsed": true
   },
   "outputs": [],
   "source": [
    "model.add(Dense(units=1, \n",
    "                kernel_initializer='uniform',\n",
    "                activation='sigmoid'))"
   ]
  },
  {
   "cell_type": "code",
   "execution_count": 17,
   "metadata": {
    "collapsed": false
   },
   "outputs": [
    {
     "name": "stdout",
     "output_type": "stream",
     "text": [
      "_________________________________________________________________\n",
      "Layer (type)                 Output Shape              Param #   \n",
      "=================================================================\n",
      "dense_1 (Dense)              (None, 180)               1980      \n",
      "_________________________________________________________________\n",
      "dense_2 (Dense)              (None, 150)               27150     \n",
      "_________________________________________________________________\n",
      "dense_3 (Dense)              (None, 120)               18120     \n",
      "_________________________________________________________________\n",
      "dense_4 (Dense)              (None, 90)                10890     \n",
      "_________________________________________________________________\n",
      "dense_5 (Dense)              (None, 60)                5460      \n",
      "_________________________________________________________________\n",
      "dense_6 (Dense)              (None, 30)                1830      \n",
      "_________________________________________________________________\n",
      "dense_7 (Dense)              (None, 1)                 31        \n",
      "=================================================================\n",
      "Total params: 65,461\n",
      "Trainable params: 65,461\n",
      "Non-trainable params: 0\n",
      "_________________________________________________________________\n"
     ]
    }
   ],
   "source": [
    "model.summary()"
   ]
  },
  {
   "cell_type": "code",
   "execution_count": 18,
   "metadata": {
    "collapsed": true
   },
   "outputs": [],
   "source": [
    "model.compile(loss='binary_crossentropy', \n",
    "              optimizer='adam', metrics=['accuracy'])"
   ]
  },
  {
   "cell_type": "code",
   "execution_count": 19,
   "metadata": {
    "collapsed": false
   },
   "outputs": [
    {
     "name": "stdout",
     "output_type": "stream",
     "text": [
      "Train on 13694 samples, validate on 1522 samples\n",
      "Epoch 1/30\n",
      " - 5s - loss: 0.6692 - acc: 0.6477 - val_loss: 0.5182 - val_acc: 0.6465\n",
      "Epoch 2/30\n",
      " - 1s - loss: 0.4745 - acc: 0.7508 - val_loss: 0.3988 - val_acc: 0.8351\n",
      "Epoch 3/30\n",
      " - 1s - loss: 0.3852 - acc: 0.8370 - val_loss: 0.3599 - val_acc: 0.8509\n",
      "Epoch 4/30\n",
      " - 1s - loss: 0.3568 - acc: 0.8538 - val_loss: 0.3421 - val_acc: 0.8660\n",
      "Epoch 5/30\n",
      " - 1s - loss: 0.3457 - acc: 0.8594 - val_loss: 0.3314 - val_acc: 0.8712\n",
      "Epoch 6/30\n",
      " - 1s - loss: 0.3373 - acc: 0.8642 - val_loss: 0.3386 - val_acc: 0.8640\n",
      "Epoch 7/30\n",
      " - 1s - loss: 0.3330 - acc: 0.8612 - val_loss: 0.3290 - val_acc: 0.8679\n",
      "Epoch 8/30\n",
      " - 1s - loss: 0.3268 - acc: 0.8658 - val_loss: 0.3286 - val_acc: 0.8699\n",
      "Epoch 9/30\n",
      " - 1s - loss: 0.3251 - acc: 0.8673 - val_loss: 0.3226 - val_acc: 0.8725\n",
      "Epoch 10/30\n",
      " - 1s - loss: 0.3189 - acc: 0.8707 - val_loss: 0.3254 - val_acc: 0.8706\n",
      "Epoch 11/30\n",
      " - 1s - loss: 0.3179 - acc: 0.8688 - val_loss: 0.3147 - val_acc: 0.8660\n",
      "Epoch 12/30\n",
      " - 1s - loss: 0.3146 - acc: 0.8726 - val_loss: 0.3172 - val_acc: 0.8752\n",
      "Epoch 13/30\n",
      " - 1s - loss: 0.3108 - acc: 0.8749 - val_loss: 0.3117 - val_acc: 0.8739\n",
      "Epoch 14/30\n",
      " - 1s - loss: 0.3121 - acc: 0.8733 - val_loss: 0.3124 - val_acc: 0.8699\n",
      "Epoch 15/30\n",
      " - 1s - loss: 0.3076 - acc: 0.8749 - val_loss: 0.3072 - val_acc: 0.8725\n",
      "Epoch 16/30\n",
      " - 0s - loss: 0.3062 - acc: 0.8775 - val_loss: 0.3112 - val_acc: 0.8712\n",
      "Epoch 17/30\n",
      " - 1s - loss: 0.3046 - acc: 0.8769 - val_loss: 0.3095 - val_acc: 0.8706\n",
      "Epoch 18/30\n",
      " - 1s - loss: 0.3027 - acc: 0.8773 - val_loss: 0.3036 - val_acc: 0.8699\n",
      "Epoch 19/30\n",
      " - 1s - loss: 0.3022 - acc: 0.8770 - val_loss: 0.3140 - val_acc: 0.8699\n",
      "Epoch 20/30\n",
      " - 1s - loss: 0.2995 - acc: 0.8778 - val_loss: 0.3018 - val_acc: 0.8771\n",
      "Epoch 21/30\n",
      " - 1s - loss: 0.2993 - acc: 0.8778 - val_loss: 0.2980 - val_acc: 0.8804\n",
      "Epoch 22/30\n",
      " - 0s - loss: 0.2990 - acc: 0.8785 - val_loss: 0.3001 - val_acc: 0.8739\n",
      "Epoch 23/30\n",
      " - 1s - loss: 0.2965 - acc: 0.8786 - val_loss: 0.2981 - val_acc: 0.8758\n",
      "Epoch 24/30\n",
      " - 1s - loss: 0.2921 - acc: 0.8810 - val_loss: 0.3091 - val_acc: 0.8614\n"
     ]
    }
   ],
   "source": [
    "train_history =model.fit(x=train_Features, \n",
    "                         y=train_Label, \n",
    "                         validation_split=0.1, \n",
    "                         epochs=30, \n",
    "                         batch_size=400,verbose=2,callbacks=[early_stopping])"
   ]
  },
  {
   "cell_type": "code",
   "execution_count": 20,
   "metadata": {
    "collapsed": true
   },
   "outputs": [],
   "source": [
    "import matplotlib.pyplot as plt\n",
    "def show_train_history(train_history,train,validation):\n",
    "    plt.plot(train_history.history[train])\n",
    "    plt.plot(train_history.history[validation])\n",
    "    plt.title('Train History')\n",
    "    plt.ylabel(train)\n",
    "    plt.xlabel('Epoch')\n",
    "    plt.legend(['train', 'validation'], loc='upper left')\n",
    "    plt.show()"
   ]
  },
  {
   "cell_type": "code",
   "execution_count": 21,
   "metadata": {
    "collapsed": false
   },
   "outputs": [
    {
     "data": {
      "image/png": "[encoded data removed]",
      "text/plain": [
       "<matplotlib.figure.Figure at 0x7fa92df336a0>"
      ]
     },
     "metadata": {},
     "output_type": "display_data"
    }
   ],
   "source": [
    "show_train_history(train_history,'acc','val_acc')"
   ]
  },
  {
   "cell_type": "code",
   "execution_count": 22,
   "metadata": {
    "collapsed": false
   },
   "outputs": [
    {
     "data": {
      "image/png": "[encoded data removed]",
      "text/plain": [
       "<matplotlib.figure.Figure at 0x7fa92df33f60>"
      ]
     },
     "metadata": {},
     "output_type": "display_data"
    }
   ],
   "source": [
    "show_train_history(train_history,'loss','val_loss')"
   ]
  },
  {
   "cell_type": "code",
   "execution_count": 23,
   "metadata": {
    "collapsed": false
   },
   "outputs": [
    {
     "name": "stdout",
     "output_type": "stream",
     "text": [
      "3804/3804 [==============================] - 0s 83us/step\n"
     ]
    }
   ],
   "source": [
    "scores = model.evaluate(x=test_Features, \n",
    "                        y=test_Label)"
   ]
  },
  {
   "cell_type": "code",
   "execution_count": 24,
   "metadata": {
    "collapsed": false
   },
   "outputs": [
    {
     "data": {
      "text/plain": [
       "0.8643533124281906"
      ]
     },
     "execution_count": 24,
     "metadata": {},
     "output_type": "execute_result"
    }
   ],
   "source": [
    "scores[1]"
   ]
  }
 ],
 "metadata": {
  "anaconda-cloud": {},
  "kernelspec": {
   "display_name": "Python [default]",
   "language": "python",
   "name": "python3"
  },
  "language_info": {
   "codemirror_mode": {
    "name": "ipython",
    "version": 3
   },
   "file_extension": ".py",
   "mimetype": "text/x-python",
   "name": "python",
   "nbconvert_exporter": "python",
   "pygments_lexer": "ipython3",
   "version": "3.5.2"
  }
 },
 "nbformat": 4,
 "nbformat_minor": 1
}
