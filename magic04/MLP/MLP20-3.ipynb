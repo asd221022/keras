{
 "cells": [
  {
   "cell_type": "code",
   "execution_count": 1,
   "metadata": {
    "collapsed": false
   },
   "outputs": [],
   "source": [
    "import numpy as np\n",
    "import pandas as pd\n",
    "from sklearn.preprocessing import StandardScaler\n",
    "from sklearn.model_selection import train_test_split"
   ]
  },
  {
   "cell_type": "code",
   "execution_count": 2,
   "metadata": {
    "collapsed": false
   },
   "outputs": [],
   "source": [
    "Ynames = ['fLength', 'fWidth', 'fSize', 'fConc', 'fConc1', 'fAsym', \n",
    "             'fM3Long', 'fM3Trans', 'fAlpha', 'fDist', 'identity']\n",
    "featureNames = ['fLength', 'fWidth', 'fSize', 'fConc', 'fConc1', 'fAsym', \n",
    "             'fM3Long', 'fM3Trans', 'fAlpha', 'fDist']\n",
    "filepath = 'magic04.data'\n",
    "data = pd.read_csv(filepath, names=Ynames, header=None)\n",
    "data['identity']= data['identity'].map({'g':1, 'h': 0}).astype(int) \n",
    "X = data[featureNames].values.astype('float64')\n",
    "Y = data['identity'].values.astype('int64')"
   ]
  },
  {
   "cell_type": "code",
   "execution_count": 3,
   "metadata": {
    "collapsed": false
   },
   "outputs": [
    {
     "data": {
      "text/plain": [
       "array([[-0.66150092, -0.14068059,  0.08227713,  0.02227977,  0.14336411,\n",
       "         0.22928737,  0.01656619, -0.39942715, -0.28319447, -0.45165404],\n",
       "       [-0.01588514,  0.16355628, -0.23829929,  0.88438486,  1.53692971,\n",
       "        -0.61723604, -0.57543624, -1.00149972, -0.66461136,  1.41082329]])"
      ]
     },
     "execution_count": 3,
     "metadata": {},
     "output_type": "execute_result"
    }
   ],
   "source": [
    "X = StandardScaler().fit_transform(X)\n",
    "train_Features, test_Features, train_Label, test_Label = train_test_split(X, Y, test_size=0.2, random_state=None) \n",
    "train_Features[:2]"
   ]
  },
  {
   "cell_type": "code",
   "execution_count": 4,
   "metadata": {
    "collapsed": false
   },
   "outputs": [
    {
     "data": {
      "text/plain": [
       "array([[-0.43997894, -0.30006508, -0.58934634,  0.01735658,  0.20399326,\n",
       "         0.58077413,  0.14489279,  0.60566283, -1.02447895, -0.75738206],\n",
       "       [ 3.85286666,  0.78084413,  0.54081779, -0.42190127, -0.41315722,\n",
       "        -3.49671453,  1.41129962,  1.63154325,  1.29091592,  0.63010953]])"
      ]
     },
     "execution_count": 4,
     "metadata": {},
     "output_type": "execute_result"
    }
   ],
   "source": [
    "test_Features[:2]"
   ]
  },
  {
   "cell_type": "code",
   "execution_count": 5,
   "metadata": {
    "collapsed": false
   },
   "outputs": [
    {
     "data": {
      "text/plain": [
       "array([1, 0, 1, 0])"
      ]
     },
     "execution_count": 5,
     "metadata": {},
     "output_type": "execute_result"
    }
   ],
   "source": [
    "train_Label[:4]"
   ]
  },
  {
   "cell_type": "code",
   "execution_count": 6,
   "metadata": {
    "collapsed": false
   },
   "outputs": [
    {
     "data": {
      "text/plain": [
       "(15216, 10)"
      ]
     },
     "execution_count": 6,
     "metadata": {},
     "output_type": "execute_result"
    }
   ],
   "source": [
    "train_Features.shape"
   ]
  },
  {
   "cell_type": "code",
   "execution_count": 7,
   "metadata": {
    "collapsed": false
   },
   "outputs": [
    {
     "data": {
      "text/plain": [
       "array([1, 0, 0, 1])"
      ]
     },
     "execution_count": 7,
     "metadata": {},
     "output_type": "execute_result"
    }
   ],
   "source": [
    "test_Label[:4]"
   ]
  },
  {
   "cell_type": "code",
   "execution_count": 8,
   "metadata": {
    "collapsed": false
   },
   "outputs": [
    {
     "name": "stderr",
     "output_type": "stream",
     "text": [
      "Using TensorFlow backend.\n"
     ]
    }
   ],
   "source": [
    "from keras.models import Sequential\n",
    "from keras.layers import Dense,Dropout\n",
    "from keras.callbacks import EarlyStopping\n",
    "early_stopping = EarlyStopping(monitor='val_loss', patience=3)"
   ]
  },
  {
   "cell_type": "code",
   "execution_count": 9,
   "metadata": {
    "collapsed": true
   },
   "outputs": [],
   "source": [
    "model = Sequential()"
   ]
  },
  {
   "cell_type": "code",
   "execution_count": 10,
   "metadata": {
    "collapsed": true
   },
   "outputs": [],
   "source": [
    "model.add(Dense(units=20*3,  input_dim=10, \n",
    "                kernel_initializer='uniform', \n",
    "                activation='relu'))"
   ]
  },
  {
   "cell_type": "code",
   "execution_count": 11,
   "metadata": {
    "collapsed": true
   },
   "outputs": [],
   "source": [
    "model.add(Dense(units=20*2, \n",
    "                kernel_initializer='uniform', \n",
    "                activation='relu'))"
   ]
  },
  {
   "cell_type": "code",
   "execution_count": 12,
   "metadata": {
    "collapsed": true
   },
   "outputs": [],
   "source": [
    "model.add(Dense(units=20, \n",
    "                kernel_initializer='uniform', \n",
    "                activation='relu'))"
   ]
  },
  {
   "cell_type": "code",
   "execution_count": 13,
   "metadata": {
    "collapsed": true
   },
   "outputs": [],
   "source": [
    "model.add(Dense(units=1, \n",
    "                kernel_initializer='uniform',\n",
    "                activation='sigmoid'))"
   ]
  },
  {
   "cell_type": "code",
   "execution_count": 14,
   "metadata": {
    "collapsed": false
   },
   "outputs": [
    {
     "name": "stdout",
     "output_type": "stream",
     "text": [
      "_________________________________________________________________\n",
      "Layer (type)                 Output Shape              Param #   \n",
      "=================================================================\n",
      "dense_1 (Dense)              (None, 60)                660       \n",
      "_________________________________________________________________\n",
      "dense_2 (Dense)              (None, 40)                2440      \n",
      "_________________________________________________________________\n",
      "dense_3 (Dense)              (None, 20)                820       \n",
      "_________________________________________________________________\n",
      "dense_4 (Dense)              (None, 1)                 21        \n",
      "=================================================================\n",
      "Total params: 3,941\n",
      "Trainable params: 3,941\n",
      "Non-trainable params: 0\n",
      "_________________________________________________________________\n"
     ]
    }
   ],
   "source": [
    "model.summary()"
   ]
  },
  {
   "cell_type": "code",
   "execution_count": 15,
   "metadata": {
    "collapsed": true
   },
   "outputs": [],
   "source": [
    "model.compile(loss='binary_crossentropy', \n",
    "              optimizer='adam', metrics=['accuracy'])"
   ]
  },
  {
   "cell_type": "code",
   "execution_count": 16,
   "metadata": {
    "collapsed": false
   },
   "outputs": [
    {
     "name": "stdout",
     "output_type": "stream",
     "text": [
      "Train on 13694 samples, validate on 1522 samples\n",
      "Epoch 1/30\n",
      " - 1s - loss: 0.6847 - acc: 0.6409 - val_loss: 0.6601 - val_acc: 0.6439\n",
      "Epoch 2/30\n",
      " - 0s - loss: 0.5682 - acc: 0.7413 - val_loss: 0.4864 - val_acc: 0.7825\n",
      "Epoch 3/30\n",
      " - 0s - loss: 0.4334 - acc: 0.8089 - val_loss: 0.4153 - val_acc: 0.8114\n",
      "Epoch 4/30\n",
      " - 0s - loss: 0.3993 - acc: 0.8199 - val_loss: 0.3992 - val_acc: 0.8206\n",
      "Epoch 5/30\n",
      " - 0s - loss: 0.3860 - acc: 0.8304 - val_loss: 0.3854 - val_acc: 0.8338\n",
      "Epoch 6/30\n",
      " - 0s - loss: 0.3751 - acc: 0.8386 - val_loss: 0.3743 - val_acc: 0.8423\n",
      "Epoch 7/30\n",
      " - 0s - loss: 0.3673 - acc: 0.8458 - val_loss: 0.3662 - val_acc: 0.8568\n",
      "Epoch 8/30\n",
      " - 0s - loss: 0.3600 - acc: 0.8531 - val_loss: 0.3626 - val_acc: 0.8574\n",
      "Epoch 9/30\n",
      " - 0s - loss: 0.3522 - acc: 0.8553 - val_loss: 0.3549 - val_acc: 0.8620\n",
      "Epoch 10/30\n",
      " - 0s - loss: 0.3476 - acc: 0.8567 - val_loss: 0.3496 - val_acc: 0.8725\n",
      "Epoch 11/30\n",
      " - 0s - loss: 0.3430 - acc: 0.8610 - val_loss: 0.3469 - val_acc: 0.8706\n",
      "Epoch 12/30\n",
      " - 0s - loss: 0.3384 - acc: 0.8617 - val_loss: 0.3433 - val_acc: 0.8693\n",
      "Epoch 13/30\n",
      " - 0s - loss: 0.3368 - acc: 0.8615 - val_loss: 0.3405 - val_acc: 0.8679\n",
      "Epoch 14/30\n",
      " - 0s - loss: 0.3318 - acc: 0.8637 - val_loss: 0.3375 - val_acc: 0.8719\n",
      "Epoch 15/30\n",
      " - 0s - loss: 0.3287 - acc: 0.8656 - val_loss: 0.3347 - val_acc: 0.8752\n",
      "Epoch 16/30\n",
      " - 0s - loss: 0.3273 - acc: 0.8660 - val_loss: 0.3343 - val_acc: 0.8745\n",
      "Epoch 17/30\n",
      " - 0s - loss: 0.3252 - acc: 0.8688 - val_loss: 0.3306 - val_acc: 0.8758\n",
      "Epoch 18/30\n",
      " - 0s - loss: 0.3225 - acc: 0.8683 - val_loss: 0.3308 - val_acc: 0.8758\n",
      "Epoch 19/30\n",
      " - 0s - loss: 0.3208 - acc: 0.8691 - val_loss: 0.3273 - val_acc: 0.8752\n",
      "Epoch 20/30\n",
      " - 0s - loss: 0.3197 - acc: 0.8691 - val_loss: 0.3267 - val_acc: 0.8719\n",
      "Epoch 21/30\n",
      " - 0s - loss: 0.3184 - acc: 0.8693 - val_loss: 0.3316 - val_acc: 0.8699\n",
      "Epoch 22/30\n",
      " - 0s - loss: 0.3185 - acc: 0.8705 - val_loss: 0.3246 - val_acc: 0.8765\n",
      "Epoch 23/30\n",
      " - 0s - loss: 0.3152 - acc: 0.8707 - val_loss: 0.3236 - val_acc: 0.8725\n",
      "Epoch 24/30\n",
      " - 0s - loss: 0.3139 - acc: 0.8703 - val_loss: 0.3263 - val_acc: 0.8712\n",
      "Epoch 25/30\n",
      " - 0s - loss: 0.3140 - acc: 0.8700 - val_loss: 0.3230 - val_acc: 0.8719\n",
      "Epoch 26/30\n",
      " - 0s - loss: 0.3114 - acc: 0.8724 - val_loss: 0.3221 - val_acc: 0.8712\n",
      "Epoch 27/30\n",
      " - 0s - loss: 0.3106 - acc: 0.8735 - val_loss: 0.3194 - val_acc: 0.8771\n",
      "Epoch 28/30\n",
      " - 0s - loss: 0.3093 - acc: 0.8736 - val_loss: 0.3193 - val_acc: 0.8771\n",
      "Epoch 29/30\n",
      " - 0s - loss: 0.3087 - acc: 0.8721 - val_loss: 0.3192 - val_acc: 0.8745\n",
      "Epoch 30/30\n",
      " - 0s - loss: 0.3083 - acc: 0.8715 - val_loss: 0.3216 - val_acc: 0.8725\n"
     ]
    }
   ],
   "source": [
    "train_history =model.fit(x=train_Features, \n",
    "                         y=train_Label, \n",
    "                         validation_split=0.1, \n",
    "                         epochs=30, \n",
    "                         batch_size=400,verbose=2,callbacks=[early_stopping])"
   ]
  },
  {
   "cell_type": "code",
   "execution_count": 17,
   "metadata": {
    "collapsed": true
   },
   "outputs": [],
   "source": [
    "import matplotlib.pyplot as plt\n",
    "def show_train_history(train_history,train,validation):\n",
    "    plt.plot(train_history.history[train])\n",
    "    plt.plot(train_history.history[validation])\n",
    "    plt.title('Train History')\n",
    "    plt.ylabel(train)\n",
    "    plt.xlabel('Epoch')\n",
    "    plt.legend(['train', 'validation'], loc='upper left')\n",
    "    plt.show()"
   ]
  },
  {
   "cell_type": "code",
   "execution_count": 18,
   "metadata": {
    "collapsed": false
   },
   "outputs": [
    {
     "data": {
      "image/png": "[encoded data removed]",
      "text/plain": [
       "<matplotlib.figure.Figure at 0x7fcc0e5eb780>"
      ]
     },
     "metadata": {},
     "output_type": "display_data"
    }
   ],
   "source": [
    "show_train_history(train_history,'acc','val_acc')"
   ]
  },
  {
   "cell_type": "code",
   "execution_count": 19,
   "metadata": {
    "collapsed": false
   },
   "outputs": [
    {
     "data": {
      "image/png": "[encoded data removed]",
      "text/plain": [
       "<matplotlib.figure.Figure at 0x7fcc0e5ebc50>"
      ]
     },
     "metadata": {},
     "output_type": "display_data"
    }
   ],
   "source": [
    "show_train_history(train_history,'loss','val_loss')"
   ]
  },
  {
   "cell_type": "code",
   "execution_count": 20,
   "metadata": {
    "collapsed": false
   },
   "outputs": [
    {
     "name": "stdout",
     "output_type": "stream",
     "text": [
      "3804/3804 [==============================] - 0s 55us/step\n"
     ]
    }
   ],
   "source": [
    "scores = model.evaluate(x=test_Features, \n",
    "                        y=test_Label)"
   ]
  },
  {
   "cell_type": "code",
   "execution_count": 21,
   "metadata": {
    "collapsed": false
   },
   "outputs": [
    {
     "data": {
      "text/plain": [
       "0.8661934804214413"
      ]
     },
     "execution_count": 21,
     "metadata": {},
     "output_type": "execute_result"
    }
   ],
   "source": [
    "scores[1]"
   ]
  }
 ],
 "metadata": {
  "anaconda-cloud": {},
  "kernelspec": {
   "display_name": "Python [default]",
   "language": "python",
   "name": "python3"
  },
  "language_info": {
   "codemirror_mode": {
    "name": "ipython",
    "version": 3
   },
   "file_extension": ".py",
   "mimetype": "text/x-python",
   "name": "python",
   "nbconvert_exporter": "python",
   "pygments_lexer": "ipython3",
   "version": "3.5.2"
  }
 },
 "nbformat": 4,
 "nbformat_minor": 1
}
