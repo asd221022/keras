{
 "cells": [
  {
   "cell_type": "code",
   "execution_count": 586,
   "metadata": {
    "collapsed": false
   },
   "outputs": [],
   "source": [
    "import numpy as np\n",
    "import pandas as pd\n",
    "from sklearn.preprocessing import StandardScaler\n",
    "from sklearn.cross_validation import train_test_split"
   ]
  },
  {
   "cell_type": "code",
   "execution_count": 587,
   "metadata": {
    "collapsed": false
   },
   "outputs": [],
   "source": [
    "Ynames = ['fLength', 'fWidth', 'fSize', 'fConc', 'fConc1', 'fAsym', \n",
    "             'fM3Long', 'fM3Trans', 'fAlpha', 'fDist', 'identity']\n",
    "featureNames = ['fLength', 'fWidth', 'fSize', 'fConc', 'fConc1', 'fAsym', \n",
    "             'fM3Long', 'fM3Trans', 'fAlpha', 'fDist']\n",
    "filepath = 'data/magic04.data'\n",
    "data = pd.read_csv(filepath, names=Ynames, header=None)\n",
    "data['identity']= data['identity'].map({'g':1, 'h': 0}).astype(int) \n",
    "X = data[featureNames].values.astype('float64')\n",
    "Y = data['identity'].values.astype('int64')"
   ]
  },
  {
   "cell_type": "code",
   "execution_count": 588,
   "metadata": {
    "collapsed": false
   },
   "outputs": [
    {
     "data": {
      "text/plain": [
       "array([[ 1.20062215,  1.03724385,  2.80855211, -1.55532876, -1.4492823 ,\n",
       "        -0.40791752,  1.43073342,  0.98836037, -0.98907297,  1.57180855],\n",
       "       [ 0.05131148, -0.30155318,  0.19379117, -0.18394714,  0.30353366,\n",
       "        -0.68752968,  0.51154668, -0.45189778, -0.76086108,  1.3898504 ]])"
      ]
     },
     "execution_count": 588,
     "metadata": {},
     "output_type": "execute_result"
    }
   ],
   "source": [
    "X = StandardScaler().fit_transform(X)\n",
    "train_Features, test_Features, train_Label, test_Label = train_test_split(X, Y, test_size=0.33, random_state=None) \n",
    "train_Features[:2]"
   ]
  },
  {
   "cell_type": "code",
   "execution_count": 589,
   "metadata": {
    "collapsed": false
   },
   "outputs": [
    {
     "data": {
      "text/plain": [
       "array([[ 0.82555613,  1.09063002,  2.50680823, -1.42623181, -1.37960402,\n",
       "         0.30735913,  1.30310291, -1.33892406, -1.02572019,  1.66667027],\n",
       "       [ 0.10545211,  1.22291261,  0.69867258, -1.10841261, -1.09727125,\n",
       "         0.20078278,  0.63354764, -1.85709548,  0.54071673, -0.64231421]])"
      ]
     },
     "execution_count": 589,
     "metadata": {},
     "output_type": "execute_result"
    }
   ],
   "source": [
    "test_Features[:2]"
   ]
  },
  {
   "cell_type": "code",
   "execution_count": 590,
   "metadata": {
    "collapsed": false
   },
   "outputs": [
    {
     "data": {
      "text/plain": [
       "array([1, 0, 1, 1])"
      ]
     },
     "execution_count": 590,
     "metadata": {},
     "output_type": "execute_result"
    }
   ],
   "source": [
    "train_Label[:4]"
   ]
  },
  {
   "cell_type": "code",
   "execution_count": 591,
   "metadata": {
    "collapsed": false
   },
   "outputs": [
    {
     "data": {
      "text/plain": [
       "(12743, 10)"
      ]
     },
     "execution_count": 591,
     "metadata": {},
     "output_type": "execute_result"
    }
   ],
   "source": [
    "train_Features.shape"
   ]
  },
  {
   "cell_type": "code",
   "execution_count": 592,
   "metadata": {
    "collapsed": false
   },
   "outputs": [
    {
     "data": {
      "text/plain": [
       "array([1, 0, 1, 0])"
      ]
     },
     "execution_count": 592,
     "metadata": {},
     "output_type": "execute_result"
    }
   ],
   "source": [
    "test_Label[:4]"
   ]
  },
  {
   "cell_type": "code",
   "execution_count": 593,
   "metadata": {
    "collapsed": false
   },
   "outputs": [],
   "source": [
    "from keras.models import Sequential\n",
    "from keras.layers import Dense,Dropout\n",
    "from keras.callbacks import EarlyStopping\n",
    "early_stopping = EarlyStopping(monitor='val_loss', patience=3)"
   ]
  },
  {
   "cell_type": "code",
   "execution_count": 594,
   "metadata": {
    "collapsed": true
   },
   "outputs": [],
   "source": [
    "model = Sequential()"
   ]
  },
  {
   "cell_type": "code",
   "execution_count": 595,
   "metadata": {
    "collapsed": true
   },
   "outputs": [],
   "source": [
    "model.add(Dense(units=20,  input_dim=10, \n",
    "                kernel_initializer='uniform', \n",
    "                activation='relu'))"
   ]
  },
  {
   "cell_type": "code",
   "execution_count": 596,
   "metadata": {
    "collapsed": true
   },
   "outputs": [],
   "source": [
    "model.add(Dense(units=1, \n",
    "                kernel_initializer='uniform',\n",
    "                activation='sigmoid'))"
   ]
  },
  {
   "cell_type": "code",
   "execution_count": 597,
   "metadata": {
    "collapsed": false
   },
   "outputs": [
    {
     "name": "stdout",
     "output_type": "stream",
     "text": [
      "_________________________________________________________________\n",
      "Layer (type)                 Output Shape              Param #   \n",
      "=================================================================\n",
      "dense_144 (Dense)            (None, 20)                220       \n",
      "_________________________________________________________________\n",
      "dense_145 (Dense)            (None, 1)                 21        \n",
      "=================================================================\n",
      "Total params: 241\n",
      "Trainable params: 241\n",
      "Non-trainable params: 0\n",
      "_________________________________________________________________\n"
     ]
    }
   ],
   "source": [
    "model.summary()"
   ]
  },
  {
   "cell_type": "code",
   "execution_count": 598,
   "metadata": {
    "collapsed": true
   },
   "outputs": [],
   "source": [
    "model.compile(loss='binary_crossentropy', \n",
    "              optimizer='adam', metrics=['accuracy'])"
   ]
  },
  {
   "cell_type": "code",
   "execution_count": 599,
   "metadata": {
    "collapsed": false
   },
   "outputs": [
    {
     "name": "stdout",
     "output_type": "stream",
     "text": [
      "Train on 11468 samples, validate on 1275 samples\n",
      "Epoch 1/90\n",
      " - 2s - loss: 0.6855 - acc: 0.7123 - val_loss: 0.6761 - val_acc: 0.7349\n",
      "Epoch 2/90\n",
      " - 0s - loss: 0.6601 - acc: 0.7566 - val_loss: 0.6428 - val_acc: 0.7490\n",
      "Epoch 3/90\n",
      " - 0s - loss: 0.6176 - acc: 0.7679 - val_loss: 0.5962 - val_acc: 0.7553\n",
      "Epoch 4/90\n",
      " - 0s - loss: 0.5677 - acc: 0.7762 - val_loss: 0.5495 - val_acc: 0.7694\n",
      "Epoch 5/90\n",
      " - 0s - loss: 0.5220 - acc: 0.7857 - val_loss: 0.5098 - val_acc: 0.7843\n",
      "Epoch 6/90\n",
      " - 0s - loss: 0.4857 - acc: 0.7938 - val_loss: 0.4797 - val_acc: 0.7890\n",
      "Epoch 7/90\n",
      " - 0s - loss: 0.4603 - acc: 0.7976 - val_loss: 0.4597 - val_acc: 0.7953\n",
      "Epoch 8/90\n",
      " - 0s - loss: 0.4441 - acc: 0.8003 - val_loss: 0.4473 - val_acc: 0.7976\n",
      "Epoch 9/90\n",
      " - 0s - loss: 0.4338 - acc: 0.8038 - val_loss: 0.4389 - val_acc: 0.7961\n",
      "Epoch 10/90\n",
      " - 0s - loss: 0.4269 - acc: 0.8050 - val_loss: 0.4333 - val_acc: 0.8016\n",
      "Epoch 11/90\n",
      " - 0s - loss: 0.4219 - acc: 0.8068 - val_loss: 0.4279 - val_acc: 0.8047\n",
      "Epoch 12/90\n",
      " - 0s - loss: 0.4178 - acc: 0.8080 - val_loss: 0.4241 - val_acc: 0.8055\n",
      "Epoch 13/90\n",
      " - 0s - loss: 0.4142 - acc: 0.8096 - val_loss: 0.4206 - val_acc: 0.8063\n",
      "Epoch 14/90\n",
      " - 0s - loss: 0.4109 - acc: 0.8119 - val_loss: 0.4176 - val_acc: 0.8086\n",
      "Epoch 15/90\n",
      " - 0s - loss: 0.4079 - acc: 0.8138 - val_loss: 0.4146 - val_acc: 0.8118\n",
      "Epoch 16/90\n",
      " - 0s - loss: 0.4050 - acc: 0.8156 - val_loss: 0.4122 - val_acc: 0.8133\n",
      "Epoch 17/90\n",
      " - 0s - loss: 0.4024 - acc: 0.8186 - val_loss: 0.4093 - val_acc: 0.8118\n",
      "Epoch 18/90\n",
      " - 0s - loss: 0.4000 - acc: 0.8206 - val_loss: 0.4071 - val_acc: 0.8149\n",
      "Epoch 19/90\n",
      " - 0s - loss: 0.3976 - acc: 0.8219 - val_loss: 0.4050 - val_acc: 0.8149\n",
      "Epoch 20/90\n",
      " - 0s - loss: 0.3954 - acc: 0.8242 - val_loss: 0.4032 - val_acc: 0.8188\n",
      "Epoch 21/90\n",
      " - 0s - loss: 0.3933 - acc: 0.8254 - val_loss: 0.4008 - val_acc: 0.8204\n",
      "Epoch 22/90\n",
      " - 0s - loss: 0.3912 - acc: 0.8264 - val_loss: 0.3991 - val_acc: 0.8212\n",
      "Epoch 23/90\n",
      " - 0s - loss: 0.3893 - acc: 0.8280 - val_loss: 0.3974 - val_acc: 0.8243\n",
      "Epoch 24/90\n",
      " - 0s - loss: 0.3873 - acc: 0.8293 - val_loss: 0.3955 - val_acc: 0.8227\n",
      "Epoch 25/90\n",
      " - 0s - loss: 0.3854 - acc: 0.8302 - val_loss: 0.3938 - val_acc: 0.8267\n",
      "Epoch 26/90\n",
      " - 0s - loss: 0.3835 - acc: 0.8307 - val_loss: 0.3924 - val_acc: 0.8275\n",
      "Epoch 27/90\n",
      " - 0s - loss: 0.3819 - acc: 0.8321 - val_loss: 0.3907 - val_acc: 0.8290\n",
      "Epoch 28/90\n",
      " - 0s - loss: 0.3802 - acc: 0.8334 - val_loss: 0.3890 - val_acc: 0.8282\n",
      "Epoch 29/90\n",
      " - 0s - loss: 0.3784 - acc: 0.8353 - val_loss: 0.3883 - val_acc: 0.8290\n",
      "Epoch 30/90\n",
      " - 0s - loss: 0.3767 - acc: 0.8369 - val_loss: 0.3867 - val_acc: 0.8306\n",
      "Epoch 31/90\n",
      " - 0s - loss: 0.3752 - acc: 0.8386 - val_loss: 0.3849 - val_acc: 0.8337\n",
      "Epoch 32/90\n",
      " - 0s - loss: 0.3735 - acc: 0.8421 - val_loss: 0.3834 - val_acc: 0.8322\n",
      "Epoch 33/90\n",
      " - 0s - loss: 0.3720 - acc: 0.8418 - val_loss: 0.3822 - val_acc: 0.8337\n",
      "Epoch 34/90\n",
      " - 0s - loss: 0.3704 - acc: 0.8443 - val_loss: 0.3813 - val_acc: 0.8337\n",
      "Epoch 35/90\n",
      " - 0s - loss: 0.3688 - acc: 0.8448 - val_loss: 0.3795 - val_acc: 0.8361\n",
      "Epoch 36/90\n",
      " - 0s - loss: 0.3674 - acc: 0.8464 - val_loss: 0.3784 - val_acc: 0.8369\n",
      "Epoch 37/90\n",
      " - 0s - loss: 0.3659 - acc: 0.8473 - val_loss: 0.3773 - val_acc: 0.8369\n",
      "Epoch 38/90\n",
      " - 0s - loss: 0.3645 - acc: 0.8484 - val_loss: 0.3762 - val_acc: 0.8369\n",
      "Epoch 39/90\n",
      " - 0s - loss: 0.3631 - acc: 0.8490 - val_loss: 0.3745 - val_acc: 0.8369\n",
      "Epoch 40/90\n",
      " - 0s - loss: 0.3617 - acc: 0.8502 - val_loss: 0.3736 - val_acc: 0.8353\n",
      "Epoch 41/90\n",
      " - 0s - loss: 0.3603 - acc: 0.8512 - val_loss: 0.3729 - val_acc: 0.8400\n",
      "Epoch 42/90\n",
      " - 0s - loss: 0.3590 - acc: 0.8511 - val_loss: 0.3707 - val_acc: 0.8416\n",
      "Epoch 43/90\n",
      " - 0s - loss: 0.3579 - acc: 0.8522 - val_loss: 0.3700 - val_acc: 0.8408\n",
      "Epoch 44/90\n",
      " - 0s - loss: 0.3566 - acc: 0.8529 - val_loss: 0.3695 - val_acc: 0.8424\n",
      "Epoch 45/90\n",
      " - 0s - loss: 0.3553 - acc: 0.8550 - val_loss: 0.3679 - val_acc: 0.8424\n",
      "Epoch 46/90\n",
      " - 0s - loss: 0.3542 - acc: 0.8549 - val_loss: 0.3669 - val_acc: 0.8424\n",
      "Epoch 47/90\n",
      " - 0s - loss: 0.3532 - acc: 0.8549 - val_loss: 0.3660 - val_acc: 0.8447\n",
      "Epoch 48/90\n",
      " - 0s - loss: 0.3520 - acc: 0.8566 - val_loss: 0.3653 - val_acc: 0.8431\n",
      "Epoch 49/90\n",
      " - 0s - loss: 0.3509 - acc: 0.8564 - val_loss: 0.3647 - val_acc: 0.8455\n",
      "Epoch 50/90\n",
      " - 0s - loss: 0.3500 - acc: 0.8560 - val_loss: 0.3632 - val_acc: 0.8463\n",
      "Epoch 51/90\n",
      " - 0s - loss: 0.3489 - acc: 0.8564 - val_loss: 0.3630 - val_acc: 0.8439\n",
      "Epoch 52/90\n",
      " - 0s - loss: 0.3480 - acc: 0.8571 - val_loss: 0.3623 - val_acc: 0.8471\n",
      "Epoch 53/90\n",
      " - 0s - loss: 0.3472 - acc: 0.8590 - val_loss: 0.3621 - val_acc: 0.8478\n",
      "Epoch 54/90\n",
      " - 0s - loss: 0.3463 - acc: 0.8583 - val_loss: 0.3604 - val_acc: 0.8494\n",
      "Epoch 55/90\n",
      " - 0s - loss: 0.3456 - acc: 0.8587 - val_loss: 0.3596 - val_acc: 0.8486\n",
      "Epoch 56/90\n",
      " - 0s - loss: 0.3448 - acc: 0.8595 - val_loss: 0.3590 - val_acc: 0.8494\n",
      "Epoch 57/90\n",
      " - 0s - loss: 0.3440 - acc: 0.8606 - val_loss: 0.3582 - val_acc: 0.8502\n",
      "Epoch 58/90\n",
      " - 0s - loss: 0.3436 - acc: 0.8602 - val_loss: 0.3576 - val_acc: 0.8502\n",
      "Epoch 59/90\n",
      " - 0s - loss: 0.3427 - acc: 0.8600 - val_loss: 0.3574 - val_acc: 0.8494\n",
      "Epoch 60/90\n",
      " - 0s - loss: 0.3418 - acc: 0.8604 - val_loss: 0.3559 - val_acc: 0.8510\n",
      "Epoch 61/90\n",
      " - 0s - loss: 0.3411 - acc: 0.8616 - val_loss: 0.3554 - val_acc: 0.8502\n",
      "Epoch 62/90\n",
      " - 0s - loss: 0.3406 - acc: 0.8601 - val_loss: 0.3550 - val_acc: 0.8494\n",
      "Epoch 63/90\n",
      " - 0s - loss: 0.3398 - acc: 0.8623 - val_loss: 0.3537 - val_acc: 0.8510\n",
      "Epoch 64/90\n",
      " - 0s - loss: 0.3393 - acc: 0.8620 - val_loss: 0.3533 - val_acc: 0.8494\n",
      "Epoch 65/90\n",
      " - 0s - loss: 0.3386 - acc: 0.8628 - val_loss: 0.3526 - val_acc: 0.8502\n",
      "Epoch 66/90\n",
      " - 0s - loss: 0.3380 - acc: 0.8631 - val_loss: 0.3518 - val_acc: 0.8494\n",
      "Epoch 67/90\n",
      " - 0s - loss: 0.3372 - acc: 0.8623 - val_loss: 0.3510 - val_acc: 0.8502\n",
      "Epoch 68/90\n",
      " - 0s - loss: 0.3366 - acc: 0.8626 - val_loss: 0.3499 - val_acc: 0.8510\n",
      "Epoch 69/90\n",
      " - 0s - loss: 0.3361 - acc: 0.8634 - val_loss: 0.3501 - val_acc: 0.8518\n",
      "Epoch 70/90\n",
      " - 0s - loss: 0.3355 - acc: 0.8639 - val_loss: 0.3488 - val_acc: 0.8510\n",
      "Epoch 71/90\n",
      " - 0s - loss: 0.3351 - acc: 0.8642 - val_loss: 0.3485 - val_acc: 0.8557\n",
      "Epoch 72/90\n",
      " - 0s - loss: 0.3343 - acc: 0.8640 - val_loss: 0.3477 - val_acc: 0.8525\n",
      "Epoch 73/90\n",
      " - 0s - loss: 0.3341 - acc: 0.8635 - val_loss: 0.3469 - val_acc: 0.8541\n",
      "Epoch 74/90\n",
      " - 0s - loss: 0.3335 - acc: 0.8645 - val_loss: 0.3463 - val_acc: 0.8525\n",
      "Epoch 75/90\n",
      " - 0s - loss: 0.3330 - acc: 0.8648 - val_loss: 0.3459 - val_acc: 0.8557\n",
      "Epoch 76/90\n",
      " - 0s - loss: 0.3322 - acc: 0.8653 - val_loss: 0.3450 - val_acc: 0.8525\n",
      "Epoch 77/90\n",
      " - 0s - loss: 0.3317 - acc: 0.8658 - val_loss: 0.3449 - val_acc: 0.8549\n",
      "Epoch 78/90\n",
      " - 0s - loss: 0.3314 - acc: 0.8661 - val_loss: 0.3445 - val_acc: 0.8565\n",
      "Epoch 79/90\n",
      " - 0s - loss: 0.3307 - acc: 0.8656 - val_loss: 0.3434 - val_acc: 0.8533\n",
      "Epoch 80/90\n",
      " - 0s - loss: 0.3303 - acc: 0.8655 - val_loss: 0.3431 - val_acc: 0.8573\n",
      "Epoch 81/90\n",
      " - 0s - loss: 0.3300 - acc: 0.8654 - val_loss: 0.3420 - val_acc: 0.8565\n",
      "Epoch 82/90\n",
      " - 0s - loss: 0.3294 - acc: 0.8653 - val_loss: 0.3420 - val_acc: 0.8557\n",
      "Epoch 83/90\n",
      " - 0s - loss: 0.3288 - acc: 0.8663 - val_loss: 0.3418 - val_acc: 0.8573\n",
      "Epoch 84/90\n",
      " - 0s - loss: 0.3284 - acc: 0.8657 - val_loss: 0.3407 - val_acc: 0.8557\n",
      "Epoch 85/90\n",
      " - 0s - loss: 0.3280 - acc: 0.8665 - val_loss: 0.3410 - val_acc: 0.8580\n",
      "Epoch 86/90\n",
      " - 0s - loss: 0.3274 - acc: 0.8669 - val_loss: 0.3396 - val_acc: 0.8557\n",
      "Epoch 87/90\n",
      " - 0s - loss: 0.3271 - acc: 0.8663 - val_loss: 0.3398 - val_acc: 0.8588\n",
      "Epoch 88/90\n",
      " - 0s - loss: 0.3269 - acc: 0.8668 - val_loss: 0.3389 - val_acc: 0.8549\n",
      "Epoch 89/90\n",
      " - 0s - loss: 0.3263 - acc: 0.8665 - val_loss: 0.3383 - val_acc: 0.8557\n",
      "Epoch 90/90\n",
      " - 0s - loss: 0.3259 - acc: 0.8667 - val_loss: 0.3390 - val_acc: 0.8596\n"
     ]
    }
   ],
   "source": [
    "train_history =model.fit(x=train_Features, \n",
    "                         y=train_Label, \n",
    "                         validation_split=0.1, \n",
    "                         epochs=90, \n",
    "                         batch_size=400,verbose=2,callbacks=[early_stopping])"
   ]
  },
  {
   "cell_type": "code",
   "execution_count": 600,
   "metadata": {
    "collapsed": true
   },
   "outputs": [],
   "source": [
    "import matplotlib.pyplot as plt\n",
    "def show_train_history(train_history,train,validation):\n",
    "    plt.plot(train_history.history[train])\n",
    "    plt.plot(train_history.history[validation])\n",
    "    plt.title('Train History')\n",
    "    plt.ylabel(train)\n",
    "    plt.xlabel('Epoch')\n",
    "    plt.legend(['train', 'validation'], loc='upper left')\n",
    "    plt.show()"
   ]
  },
  {
   "cell_type": "code",
   "execution_count": 601,
   "metadata": {
    "collapsed": false
   },
   "outputs": [
    {
     "data": {
      "image/png": "[encoded data removed]",
      "text/plain": [
       "<matplotlib.figure.Figure at 0x7f1fd183e898>"
      ]
     },
     "metadata": {},
     "output_type": "display_data"
    }
   ],
   "source": [
    "show_train_history(train_history,'acc','val_acc')"
   ]
  },
  {
   "cell_type": "code",
   "execution_count": 602,
   "metadata": {
    "collapsed": false
   },
   "outputs": [
    {
     "data": {
      "image/png": "[encoded data removed]",
      "text/plain": [
       "<matplotlib.figure.Figure at 0x7f1fd183b4e0>"
      ]
     },
     "metadata": {},
     "output_type": "display_data"
    }
   ],
   "source": [
    "show_train_history(train_history,'loss','val_loss')"
   ]
  },
  {
   "cell_type": "code",
   "execution_count": 603,
   "metadata": {
    "collapsed": false
   },
   "outputs": [
    {
     "name": "stdout",
     "output_type": "stream",
     "text": [
      "6277/6277 [==============================] - 1s 192us/step\n"
     ]
    }
   ],
   "source": [
    "scores = model.evaluate(x=test_Features, \n",
    "                        y=test_Label)"
   ]
  },
  {
   "cell_type": "code",
   "execution_count": 604,
   "metadata": {
    "collapsed": false
   },
   "outputs": [
    {
     "data": {
      "text/plain": [
       "0.8561414688640441"
      ]
     },
     "execution_count": 604,
     "metadata": {},
     "output_type": "execute_result"
    }
   ],
   "source": [
    "scores[1]"
   ]
  }
 ],
 "metadata": {
  "anaconda-cloud": {},
  "kernelspec": {
   "display_name": "Python [default]",
   "language": "python",
   "name": "python3"
  },
  "language_info": {
   "codemirror_mode": {
    "name": "ipython",
    "version": 3
   },
   "file_extension": ".py",
   "mimetype": "text/x-python",
   "name": "python",
   "nbconvert_exporter": "python",
   "pygments_lexer": "ipython3",
   "version": "3.5.2"
  }
 },
 "nbformat": 4,
 "nbformat_minor": 1
}
