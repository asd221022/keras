{
 "cells": [
  {
   "cell_type": "code",
   "execution_count": 24,
   "metadata": {
    "collapsed": false
   },
   "outputs": [],
   "source": [
    "import numpy as np\n",
    "import pandas as pd\n",
    "from sklearn.preprocessing import StandardScaler\n",
    "from sklearn.model_selection import train_test_split"
   ]
  },
  {
   "cell_type": "code",
   "execution_count": 25,
   "metadata": {
    "collapsed": false
   },
   "outputs": [],
   "source": [
    "Ynames = ['fLength', 'fWidth', 'fSize', 'fConc', 'fConc1', 'fAsym', \n",
    "             'fM3Long', 'fM3Trans', 'fAlpha', 'fDist', 'identity']\n",
    "featureNames = ['fLength', 'fWidth', 'fSize', 'fConc', 'fConc1', 'fAsym', \n",
    "             'fM3Long', 'fM3Trans', 'fAlpha', 'fDist']\n",
    "filepath = 'magic04.data'\n",
    "data = pd.read_csv(filepath, names=Ynames, header=None)\n",
    "data['identity']= data['identity'].map({'g':1, 'h': 0}).astype(int) \n",
    "X = data[featureNames].values.astype('float64')\n",
    "Y = data['identity'].values.astype('int64')"
   ]
  },
  {
   "cell_type": "code",
   "execution_count": 26,
   "metadata": {
    "collapsed": false
   },
   "outputs": [
    {
     "data": {
      "text/plain": [
       "array([[-0.39478463, -0.47733945, -0.62658822, -0.41369596, -0.45659303,\n",
       "         0.64466116, -0.51866429,  0.34584009, -0.77242683, -1.06658927],\n",
       "       [-0.50506762, -0.33516347, -0.60246564, -0.1412795 , -0.28646944,\n",
       "         0.32086823,  0.28396083,  0.46349567, -0.3731652 , -1.75512429]])"
      ]
     },
     "execution_count": 26,
     "metadata": {},
     "output_type": "execute_result"
    }
   ],
   "source": [
    "X = StandardScaler().fit_transform(X)\n",
    "train_Features, test_Features, train_Label, test_Label = train_test_split(X, Y, test_size=0.2, random_state=None) \n",
    "train_Features[:2]"
   ]
  },
  {
   "cell_type": "code",
   "execution_count": 27,
   "metadata": {
    "collapsed": false
   },
   "outputs": [
    {
     "data": {
      "text/plain": [
       "array([[-0.76128437, -0.42001772, -1.09549736,  1.92591282,  1.55502797,\n",
       "        -0.07316597, -0.02817606,  0.43495565,  2.11370464, -1.91902405],\n",
       "       [-0.73935288, -0.27139332, -1.09422775,  1.12069792,  0.84467147,\n",
       "        -0.63825472,  0.10624677,  0.78811445,  0.03643243, -1.91993935]])"
      ]
     },
     "execution_count": 27,
     "metadata": {},
     "output_type": "execute_result"
    }
   ],
   "source": [
    "test_Features[:2]"
   ]
  },
  {
   "cell_type": "code",
   "execution_count": 28,
   "metadata": {
    "collapsed": false
   },
   "outputs": [
    {
     "data": {
      "text/plain": [
       "array([1, 1, 0, 0])"
      ]
     },
     "execution_count": 28,
     "metadata": {},
     "output_type": "execute_result"
    }
   ],
   "source": [
    "train_Label[:4]"
   ]
  },
  {
   "cell_type": "code",
   "execution_count": 29,
   "metadata": {
    "collapsed": false
   },
   "outputs": [
    {
     "data": {
      "text/plain": [
       "(15216, 10)"
      ]
     },
     "execution_count": 29,
     "metadata": {},
     "output_type": "execute_result"
    }
   ],
   "source": [
    "train_Features.shape"
   ]
  },
  {
   "cell_type": "code",
   "execution_count": 30,
   "metadata": {
    "collapsed": false
   },
   "outputs": [
    {
     "data": {
      "text/plain": [
       "array([0, 0, 0, 1])"
      ]
     },
     "execution_count": 30,
     "metadata": {},
     "output_type": "execute_result"
    }
   ],
   "source": [
    "test_Label[:4]"
   ]
  },
  {
   "cell_type": "code",
   "execution_count": 31,
   "metadata": {
    "collapsed": false
   },
   "outputs": [],
   "source": [
    "from keras.models import Sequential\n",
    "from keras.layers import Dense,Dropout\n",
    "from keras.callbacks import EarlyStopping\n",
    "early_stopping = EarlyStopping(monitor='val_loss', patience=3)"
   ]
  },
  {
   "cell_type": "code",
   "execution_count": 32,
   "metadata": {
    "collapsed": true
   },
   "outputs": [],
   "source": [
    "model = Sequential()"
   ]
  },
  {
   "cell_type": "code",
   "execution_count": 33,
   "metadata": {
    "collapsed": true
   },
   "outputs": [],
   "source": [
    "model.add(Dense(units=10*5,  input_dim=10, \n",
    "                kernel_initializer='uniform', \n",
    "                activation='relu'))"
   ]
  },
  {
   "cell_type": "code",
   "execution_count": 34,
   "metadata": {
    "collapsed": true
   },
   "outputs": [],
   "source": [
    "model.add(Dense(units=10*4, \n",
    "                kernel_initializer='uniform', \n",
    "                activation='relu'))"
   ]
  },
  {
   "cell_type": "code",
   "execution_count": 35,
   "metadata": {
    "collapsed": true
   },
   "outputs": [],
   "source": [
    "model.add(Dense(units=10*3, \n",
    "                kernel_initializer='uniform', \n",
    "                activation='relu'))"
   ]
  },
  {
   "cell_type": "code",
   "execution_count": 36,
   "metadata": {
    "collapsed": true
   },
   "outputs": [],
   "source": [
    "model.add(Dense(units=10*2, \n",
    "                kernel_initializer='uniform', \n",
    "                activation='relu'))"
   ]
  },
  {
   "cell_type": "code",
   "execution_count": 37,
   "metadata": {
    "collapsed": true
   },
   "outputs": [],
   "source": [
    "model.add(Dense(units=10, \n",
    "                kernel_initializer='uniform', \n",
    "                activation='relu'))"
   ]
  },
  {
   "cell_type": "code",
   "execution_count": 38,
   "metadata": {
    "collapsed": true
   },
   "outputs": [],
   "source": [
    "model.add(Dense(units=1, \n",
    "                kernel_initializer='uniform',\n",
    "                activation='sigmoid'))"
   ]
  },
  {
   "cell_type": "code",
   "execution_count": 39,
   "metadata": {
    "collapsed": false
   },
   "outputs": [
    {
     "name": "stdout",
     "output_type": "stream",
     "text": [
      "_________________________________________________________________\n",
      "Layer (type)                 Output Shape              Param #   \n",
      "=================================================================\n",
      "dense_7 (Dense)              (None, 50)                550       \n",
      "_________________________________________________________________\n",
      "dense_8 (Dense)              (None, 40)                2040      \n",
      "_________________________________________________________________\n",
      "dense_9 (Dense)              (None, 30)                1230      \n",
      "_________________________________________________________________\n",
      "dense_10 (Dense)             (None, 20)                620       \n",
      "_________________________________________________________________\n",
      "dense_11 (Dense)             (None, 10)                210       \n",
      "_________________________________________________________________\n",
      "dense_12 (Dense)             (None, 1)                 11        \n",
      "=================================================================\n",
      "Total params: 4,661\n",
      "Trainable params: 4,661\n",
      "Non-trainable params: 0\n",
      "_________________________________________________________________\n"
     ]
    }
   ],
   "source": [
    "model.summary()"
   ]
  },
  {
   "cell_type": "code",
   "execution_count": 40,
   "metadata": {
    "collapsed": true
   },
   "outputs": [],
   "source": [
    "model.compile(loss='binary_crossentropy', \n",
    "              optimizer='adam', metrics=['accuracy'])"
   ]
  },
  {
   "cell_type": "code",
   "execution_count": 41,
   "metadata": {
    "collapsed": false
   },
   "outputs": [
    {
     "name": "stdout",
     "output_type": "stream",
     "text": [
      "Train on 13694 samples, validate on 1522 samples\n",
      "Epoch 1/30\n",
      " - 2s - loss: 0.6900 - acc: 0.6509 - val_loss: 0.6851 - val_acc: 0.6583\n",
      "Epoch 2/30\n",
      " - 0s - loss: 0.6608 - acc: 0.6508 - val_loss: 0.5834 - val_acc: 0.6583\n",
      "Epoch 3/30\n",
      " - 0s - loss: 0.5207 - acc: 0.6526 - val_loss: 0.4845 - val_acc: 0.7024\n",
      "Epoch 4/30\n",
      " - 0s - loss: 0.4675 - acc: 0.7920 - val_loss: 0.4328 - val_acc: 0.8055\n",
      "Epoch 5/30\n",
      " - 0s - loss: 0.4078 - acc: 0.8174 - val_loss: 0.3902 - val_acc: 0.8298\n",
      "Epoch 6/30\n",
      " - 0s - loss: 0.3828 - acc: 0.8356 - val_loss: 0.3783 - val_acc: 0.8384\n",
      "Epoch 7/30\n",
      " - 0s - loss: 0.3734 - acc: 0.8430 - val_loss: 0.3727 - val_acc: 0.8482\n",
      "Epoch 8/30\n",
      " - 0s - loss: 0.3655 - acc: 0.8485 - val_loss: 0.3675 - val_acc: 0.8541\n",
      "Epoch 9/30\n",
      " - 0s - loss: 0.3588 - acc: 0.8528 - val_loss: 0.3555 - val_acc: 0.8601\n",
      "Epoch 10/30\n",
      " - 0s - loss: 0.3505 - acc: 0.8564 - val_loss: 0.3505 - val_acc: 0.8587\n",
      "Epoch 11/30\n",
      " - 0s - loss: 0.3440 - acc: 0.8600 - val_loss: 0.3445 - val_acc: 0.8633\n",
      "Epoch 12/30\n",
      " - 0s - loss: 0.3403 - acc: 0.8615 - val_loss: 0.3447 - val_acc: 0.8607\n",
      "Epoch 13/30\n",
      " - 0s - loss: 0.3381 - acc: 0.8600 - val_loss: 0.3378 - val_acc: 0.8633\n",
      "Epoch 14/30\n",
      " - 0s - loss: 0.3342 - acc: 0.8631 - val_loss: 0.3402 - val_acc: 0.8633\n",
      "Epoch 15/30\n",
      " - 0s - loss: 0.3323 - acc: 0.8648 - val_loss: 0.3347 - val_acc: 0.8673\n",
      "Epoch 16/30\n",
      " - 0s - loss: 0.3291 - acc: 0.8642 - val_loss: 0.3348 - val_acc: 0.8660\n",
      "Epoch 17/30\n",
      " - 0s - loss: 0.3289 - acc: 0.8658 - val_loss: 0.3321 - val_acc: 0.8633\n",
      "Epoch 18/30\n",
      " - 0s - loss: 0.3267 - acc: 0.8680 - val_loss: 0.3373 - val_acc: 0.8660\n",
      "Epoch 19/30\n",
      " - 0s - loss: 0.3256 - acc: 0.8675 - val_loss: 0.3307 - val_acc: 0.8699\n",
      "Epoch 20/30\n",
      " - 0s - loss: 0.3228 - acc: 0.8669 - val_loss: 0.3264 - val_acc: 0.8653\n",
      "Epoch 21/30\n",
      " - 0s - loss: 0.3232 - acc: 0.8687 - val_loss: 0.3358 - val_acc: 0.8666\n",
      "Epoch 22/30\n",
      " - 0s - loss: 0.3224 - acc: 0.8696 - val_loss: 0.3285 - val_acc: 0.8660\n",
      "Epoch 23/30\n",
      " - 0s - loss: 0.3247 - acc: 0.8664 - val_loss: 0.3274 - val_acc: 0.8679\n"
     ]
    }
   ],
   "source": [
    "train_history =model.fit(x=train_Features, \n",
    "                         y=train_Label, \n",
    "                         validation_split=0.1, \n",
    "                         epochs=30, \n",
    "                         batch_size=400,verbose=2,callbacks=[early_stopping])"
   ]
  },
  {
   "cell_type": "code",
   "execution_count": 42,
   "metadata": {
    "collapsed": true
   },
   "outputs": [],
   "source": [
    "import matplotlib.pyplot as plt\n",
    "def show_train_history(train_history,train,validation):\n",
    "    plt.plot(train_history.history[train])\n",
    "    plt.plot(train_history.history[validation])\n",
    "    plt.title('Train History')\n",
    "    plt.ylabel(train)\n",
    "    plt.xlabel('Epoch')\n",
    "    plt.legend(['train', 'validation'], loc='upper left')\n",
    "    plt.show()"
   ]
  },
  {
   "cell_type": "code",
   "execution_count": 43,
   "metadata": {
    "collapsed": false
   },
   "outputs": [
    {
     "data": {
      "image/png": "[encoded data removed]",
      "text/plain": [
       "<matplotlib.figure.Figure at 0x7f9a1a303940>"
      ]
     },
     "metadata": {},
     "output_type": "display_data"
    }
   ],
   "source": [
    "show_train_history(train_history,'acc','val_acc')"
   ]
  },
  {
   "cell_type": "code",
   "execution_count": 44,
   "metadata": {
    "collapsed": false
   },
   "outputs": [
    {
     "data": {
      "image/png": "[encoded data removed]",
      "text/plain": [
       "<matplotlib.figure.Figure at 0x7f9a1a8dee10>"
      ]
     },
     "metadata": {},
     "output_type": "display_data"
    }
   ],
   "source": [
    "show_train_history(train_history,'loss','val_loss')"
   ]
  },
  {
   "cell_type": "code",
   "execution_count": 45,
   "metadata": {
    "collapsed": false
   },
   "outputs": [
    {
     "name": "stdout",
     "output_type": "stream",
     "text": [
      "3804/3804 [==============================] - 0s 49us/step\n"
     ]
    }
   ],
   "source": [
    "scores = model.evaluate(x=test_Features, \n",
    "                        y=test_Label)"
   ]
  },
  {
   "cell_type": "code",
   "execution_count": 46,
   "metadata": {
    "collapsed": false
   },
   "outputs": [
    {
     "data": {
      "text/plain": [
       "0.8635646689577433"
      ]
     },
     "execution_count": 46,
     "metadata": {},
     "output_type": "execute_result"
    }
   ],
   "source": [
    "scores[1]"
   ]
  }
 ],
 "metadata": {
  "anaconda-cloud": {},
  "kernelspec": {
   "display_name": "Python [default]",
   "language": "python",
   "name": "python3"
  },
  "language_info": {
   "codemirror_mode": {
    "name": "ipython",
    "version": 3
   },
   "file_extension": ".py",
   "mimetype": "text/x-python",
   "name": "python",
   "nbconvert_exporter": "python",
   "pygments_lexer": "ipython3",
   "version": "3.5.2"
  }
 },
 "nbformat": 4,
 "nbformat_minor": 1
}
