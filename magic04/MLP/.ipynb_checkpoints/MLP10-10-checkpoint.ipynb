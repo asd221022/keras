{
 "cells": [
  {
   "cell_type": "code",
   "execution_count": 29,
   "metadata": {
    "collapsed": false
   },
   "outputs": [],
   "source": [
    "import numpy as np\n",
    "import pandas as pd\n",
    "from sklearn.preprocessing import StandardScaler\n",
    "from sklearn.model_selection import train_test_split"
   ]
  },
  {
   "cell_type": "code",
   "execution_count": 30,
   "metadata": {
    "collapsed": false
   },
   "outputs": [],
   "source": [
    "Ynames = ['fLength', 'fWidth', 'fSize', 'fConc', 'fConc1', 'fAsym', \n",
    "             'fM3Long', 'fM3Trans', 'fAlpha', 'fDist', 'identity']\n",
    "featureNames = ['fLength', 'fWidth', 'fSize', 'fConc', 'fConc1', 'fAsym', \n",
    "             'fM3Long', 'fM3Trans', 'fAlpha', 'fDist']\n",
    "filepath = 'magic04.data'\n",
    "data = pd.read_csv(filepath, names=Ynames, header=None)\n",
    "data['identity']= data['identity'].map({'g':1, 'h': 0}).astype(int) \n",
    "X = data[featureNames].values.astype('float64')\n",
    "Y = data['identity'].values.astype('int64')"
   ]
  },
  {
   "cell_type": "code",
   "execution_count": 31,
   "metadata": {
    "collapsed": false
   },
   "outputs": [
    {
     "data": {
      "text/plain": [
       "array([[ 0.38989583, -0.17436719, -0.16339232,  0.79412639,  0.45917865,\n",
       "        -0.67987148, -0.80991441, -0.63400849,  0.20532149,  1.47325352],\n",
       "       [-0.30511833, -0.34562376, -0.2658075 ,  0.32423536,  0.56143379,\n",
       "        -0.84451604, -0.04055871, -0.59397851, -0.99466621,  1.24598146]])"
      ]
     },
     "execution_count": 31,
     "metadata": {},
     "output_type": "execute_result"
    }
   ],
   "source": [
    "X = StandardScaler().fit_transform(X)\n",
    "train_Features, test_Features, train_Label, test_Label = train_test_split(X, Y, test_size=0.2, random_state=None) \n",
    "train_Features[:2]"
   ]
  },
  {
   "cell_type": "code",
   "execution_count": 32,
   "metadata": {
    "collapsed": false
   },
   "outputs": [
    {
     "data": {
      "text/plain": [
       "array([[-0.38307414, -0.41798999, -0.4649246 , -0.13963844, -0.24755819,\n",
       "         1.00977695, -0.65090668, -0.32607967, -1.01582858, -0.01158877],\n",
       "       [-0.71120853, -0.44322223, -0.37478232,  0.39316001,  0.22571116,\n",
       "         0.1404242 ,  0.08215011, -0.3264974 , -0.20831783, -0.66818072]])"
      ]
     },
     "execution_count": 32,
     "metadata": {},
     "output_type": "execute_result"
    }
   ],
   "source": [
    "test_Features[:2]"
   ]
  },
  {
   "cell_type": "code",
   "execution_count": 33,
   "metadata": {
    "collapsed": false
   },
   "outputs": [
    {
     "data": {
      "text/plain": [
       "array([0, 1, 0, 0])"
      ]
     },
     "execution_count": 33,
     "metadata": {},
     "output_type": "execute_result"
    }
   ],
   "source": [
    "train_Label[:4]"
   ]
  },
  {
   "cell_type": "code",
   "execution_count": 34,
   "metadata": {
    "collapsed": false
   },
   "outputs": [
    {
     "data": {
      "text/plain": [
       "(15216, 10)"
      ]
     },
     "execution_count": 34,
     "metadata": {},
     "output_type": "execute_result"
    }
   ],
   "source": [
    "train_Features.shape"
   ]
  },
  {
   "cell_type": "code",
   "execution_count": 35,
   "metadata": {
    "collapsed": false
   },
   "outputs": [
    {
     "data": {
      "text/plain": [
       "array([1, 1, 0, 1])"
      ]
     },
     "execution_count": 35,
     "metadata": {},
     "output_type": "execute_result"
    }
   ],
   "source": [
    "test_Label[:4]"
   ]
  },
  {
   "cell_type": "code",
   "execution_count": 36,
   "metadata": {
    "collapsed": false
   },
   "outputs": [],
   "source": [
    "from keras.models import Sequential\n",
    "from keras.layers import Dense,Dropout\n",
    "from keras.callbacks import EarlyStopping\n",
    "early_stopping = EarlyStopping(monitor='val_loss', patience=3)"
   ]
  },
  {
   "cell_type": "code",
   "execution_count": 37,
   "metadata": {
    "collapsed": true
   },
   "outputs": [],
   "source": [
    "model = Sequential()"
   ]
  },
  {
   "cell_type": "code",
   "execution_count": 38,
   "metadata": {
    "collapsed": true
   },
   "outputs": [],
   "source": [
    "model.add(Dense(units=10*10,  input_dim=10, \n",
    "                kernel_initializer='uniform', \n",
    "                activation='relu'))"
   ]
  },
  {
   "cell_type": "code",
   "execution_count": 39,
   "metadata": {
    "collapsed": true
   },
   "outputs": [],
   "source": [
    "model.add(Dense(units=10*9, \n",
    "                kernel_initializer='uniform', \n",
    "                activation='relu'))"
   ]
  },
  {
   "cell_type": "code",
   "execution_count": 40,
   "metadata": {
    "collapsed": true
   },
   "outputs": [],
   "source": [
    "model.add(Dense(units=10*8, \n",
    "                kernel_initializer='uniform', \n",
    "                activation='relu'))"
   ]
  },
  {
   "cell_type": "code",
   "execution_count": 41,
   "metadata": {
    "collapsed": true
   },
   "outputs": [],
   "source": [
    "model.add(Dense(units=10*7, \n",
    "                kernel_initializer='uniform', \n",
    "                activation='relu'))"
   ]
  },
  {
   "cell_type": "code",
   "execution_count": 42,
   "metadata": {
    "collapsed": true
   },
   "outputs": [],
   "source": [
    "model.add(Dense(units=10*6, \n",
    "                kernel_initializer='uniform', \n",
    "                activation='relu'))"
   ]
  },
  {
   "cell_type": "code",
   "execution_count": 43,
   "metadata": {
    "collapsed": true
   },
   "outputs": [],
   "source": [
    "model.add(Dense(units=10*5, \n",
    "                kernel_initializer='uniform', \n",
    "                activation='relu'))"
   ]
  },
  {
   "cell_type": "code",
   "execution_count": 44,
   "metadata": {
    "collapsed": true
   },
   "outputs": [],
   "source": [
    "model.add(Dense(units=10*4, \n",
    "                kernel_initializer='uniform', \n",
    "                activation='relu'))"
   ]
  },
  {
   "cell_type": "code",
   "execution_count": 45,
   "metadata": {
    "collapsed": true
   },
   "outputs": [],
   "source": [
    "model.add(Dense(units=10*3, \n",
    "                kernel_initializer='uniform', \n",
    "                activation='relu'))"
   ]
  },
  {
   "cell_type": "code",
   "execution_count": 46,
   "metadata": {
    "collapsed": true
   },
   "outputs": [],
   "source": [
    "model.add(Dense(units=10*2, \n",
    "                kernel_initializer='uniform', \n",
    "                activation='relu'))"
   ]
  },
  {
   "cell_type": "code",
   "execution_count": 47,
   "metadata": {
    "collapsed": true
   },
   "outputs": [],
   "source": [
    "model.add(Dense(units=10, \n",
    "                kernel_initializer='uniform', \n",
    "                activation='relu'))"
   ]
  },
  {
   "cell_type": "code",
   "execution_count": 48,
   "metadata": {
    "collapsed": true
   },
   "outputs": [],
   "source": [
    "model.add(Dense(units=1, \n",
    "                kernel_initializer='uniform',\n",
    "                activation='sigmoid'))"
   ]
  },
  {
   "cell_type": "code",
   "execution_count": 49,
   "metadata": {
    "collapsed": false
   },
   "outputs": [
    {
     "name": "stdout",
     "output_type": "stream",
     "text": [
      "_________________________________________________________________\n",
      "Layer (type)                 Output Shape              Param #   \n",
      "=================================================================\n",
      "dense_12 (Dense)             (None, 100)               1100      \n",
      "_________________________________________________________________\n",
      "dense_13 (Dense)             (None, 90)                9090      \n",
      "_________________________________________________________________\n",
      "dense_14 (Dense)             (None, 80)                7280      \n",
      "_________________________________________________________________\n",
      "dense_15 (Dense)             (None, 70)                5670      \n",
      "_________________________________________________________________\n",
      "dense_16 (Dense)             (None, 60)                4260      \n",
      "_________________________________________________________________\n",
      "dense_17 (Dense)             (None, 50)                3050      \n",
      "_________________________________________________________________\n",
      "dense_18 (Dense)             (None, 40)                2040      \n",
      "_________________________________________________________________\n",
      "dense_19 (Dense)             (None, 30)                1230      \n",
      "_________________________________________________________________\n",
      "dense_20 (Dense)             (None, 20)                620       \n",
      "_________________________________________________________________\n",
      "dense_21 (Dense)             (None, 10)                210       \n",
      "_________________________________________________________________\n",
      "dense_22 (Dense)             (None, 1)                 11        \n",
      "=================================================================\n",
      "Total params: 34,561\n",
      "Trainable params: 34,561\n",
      "Non-trainable params: 0\n",
      "_________________________________________________________________\n"
     ]
    }
   ],
   "source": [
    "model.summary()"
   ]
  },
  {
   "cell_type": "code",
   "execution_count": 50,
   "metadata": {
    "collapsed": true
   },
   "outputs": [],
   "source": [
    "model.compile(loss='binary_crossentropy', \n",
    "              optimizer='adam', metrics=['accuracy'])"
   ]
  },
  {
   "cell_type": "code",
   "execution_count": 51,
   "metadata": {
    "collapsed": false
   },
   "outputs": [
    {
     "name": "stdout",
     "output_type": "stream",
     "text": [
      "Train on 13694 samples, validate on 1522 samples\n",
      "Epoch 1/30\n",
      " - 1s - loss: 0.6893 - acc: 0.6438 - val_loss: 0.6855 - val_acc: 0.6216\n",
      "Epoch 2/30\n",
      " - 0s - loss: 0.6606 - acc: 0.6511 - val_loss: 0.6040 - val_acc: 0.6216\n",
      "Epoch 3/30\n",
      " - 0s - loss: 0.5035 - acc: 0.6511 - val_loss: 0.5007 - val_acc: 0.6216\n",
      "Epoch 4/30\n",
      " - 0s - loss: 0.4640 - acc: 0.6511 - val_loss: 0.4950 - val_acc: 0.6216\n",
      "Epoch 5/30\n",
      " - 0s - loss: 0.4487 - acc: 0.7642 - val_loss: 0.4817 - val_acc: 0.8351\n",
      "Epoch 6/30\n",
      " - 0s - loss: 0.4406 - acc: 0.8572 - val_loss: 0.4790 - val_acc: 0.8331\n",
      "Epoch 7/30\n",
      " - 0s - loss: 0.4327 - acc: 0.8616 - val_loss: 0.4653 - val_acc: 0.8436\n",
      "Epoch 8/30\n",
      " - 0s - loss: 0.4295 - acc: 0.8586 - val_loss: 0.4652 - val_acc: 0.8318\n",
      "Epoch 9/30\n",
      " - 0s - loss: 0.4270 - acc: 0.8640 - val_loss: 0.4585 - val_acc: 0.8436\n",
      "Epoch 10/30\n",
      " - 0s - loss: 0.4168 - acc: 0.8669 - val_loss: 0.4596 - val_acc: 0.8423\n",
      "Epoch 11/30\n",
      " - 0s - loss: 0.4125 - acc: 0.8674 - val_loss: 0.4545 - val_acc: 0.8469\n",
      "Epoch 12/30\n",
      " - 0s - loss: 0.4067 - acc: 0.8686 - val_loss: 0.4566 - val_acc: 0.8463\n",
      "Epoch 13/30\n",
      " - 0s - loss: 0.4050 - acc: 0.8676 - val_loss: 0.4495 - val_acc: 0.8390\n",
      "Epoch 14/30\n",
      " - 0s - loss: 0.4003 - acc: 0.8696 - val_loss: 0.4383 - val_acc: 0.8449\n",
      "Epoch 15/30\n",
      " - 0s - loss: 0.3963 - acc: 0.8721 - val_loss: 0.4374 - val_acc: 0.8449\n",
      "Epoch 16/30\n",
      " - 0s - loss: 0.3914 - acc: 0.8716 - val_loss: 0.4354 - val_acc: 0.8430\n",
      "Epoch 17/30\n",
      " - 0s - loss: 0.3904 - acc: 0.8713 - val_loss: 0.4328 - val_acc: 0.8430\n",
      "Epoch 18/30\n",
      " - 0s - loss: 0.3867 - acc: 0.8719 - val_loss: 0.4334 - val_acc: 0.8449\n",
      "Epoch 19/30\n",
      " - 0s - loss: 0.3827 - acc: 0.8733 - val_loss: 0.4311 - val_acc: 0.8436\n",
      "Epoch 20/30\n",
      " - 0s - loss: 0.3792 - acc: 0.8751 - val_loss: 0.4247 - val_acc: 0.8423\n",
      "Epoch 21/30\n",
      " - 0s - loss: 0.3789 - acc: 0.8724 - val_loss: 0.4211 - val_acc: 0.8495\n",
      "Epoch 22/30\n",
      " - 0s - loss: 0.3718 - acc: 0.8760 - val_loss: 0.4166 - val_acc: 0.8482\n",
      "Epoch 23/30\n",
      " - 0s - loss: 0.3715 - acc: 0.8765 - val_loss: 0.4135 - val_acc: 0.8463\n",
      "Epoch 24/30\n",
      " - 0s - loss: 0.3667 - acc: 0.8766 - val_loss: 0.4137 - val_acc: 0.8449\n",
      "Epoch 25/30\n",
      " - 0s - loss: 0.3697 - acc: 0.8756 - val_loss: 0.4162 - val_acc: 0.8469\n",
      "Epoch 26/30\n",
      " - 0s - loss: 0.3634 - acc: 0.8783 - val_loss: 0.4100 - val_acc: 0.8502\n",
      "Epoch 27/30\n",
      " - 0s - loss: 0.3632 - acc: 0.8764 - val_loss: 0.4099 - val_acc: 0.8495\n",
      "Epoch 28/30\n",
      " - 0s - loss: 0.3590 - acc: 0.8773 - val_loss: 0.4184 - val_acc: 0.8443\n",
      "Epoch 29/30\n",
      " - 0s - loss: 0.3554 - acc: 0.8780 - val_loss: 0.4000 - val_acc: 0.8541\n",
      "Epoch 30/30\n",
      " - 0s - loss: 0.3506 - acc: 0.8816 - val_loss: 0.4013 - val_acc: 0.8502\n"
     ]
    }
   ],
   "source": [
    "train_history =model.fit(x=train_Features, \n",
    "                         y=train_Label, \n",
    "                         validation_split=0.1, \n",
    "                         epochs=30, \n",
    "                         batch_size=400,verbose=2,callbacks=[early_stopping])"
   ]
  },
  {
   "cell_type": "code",
   "execution_count": 52,
   "metadata": {
    "collapsed": true
   },
   "outputs": [],
   "source": [
    "import matplotlib.pyplot as plt\n",
    "def show_train_history(train_history,train,validation):\n",
    "    plt.plot(train_history.history[train])\n",
    "    plt.plot(train_history.history[validation])\n",
    "    plt.title('Train History')\n",
    "    plt.ylabel(train)\n",
    "    plt.xlabel('Epoch')\n",
    "    plt.legend(['train', 'validation'], loc='upper left')\n",
    "    plt.show()"
   ]
  },
  {
   "cell_type": "code",
   "execution_count": 53,
   "metadata": {
    "collapsed": false
   },
   "outputs": [
    {
     "data": {
      "image/png": "[encoded data removed]",
      "text/plain": [
       "<matplotlib.figure.Figure at 0x7f2b162fcac8>"
      ]
     },
     "metadata": {},
     "output_type": "display_data"
    }
   ],
   "source": [
    "show_train_history(train_history,'acc','val_acc')"
   ]
  },
  {
   "cell_type": "code",
   "execution_count": 54,
   "metadata": {
    "collapsed": false
   },
   "outputs": [
    {
     "data": {
      "image/png": "[encoded data removed]",
      "text/plain": [
       "<matplotlib.figure.Figure at 0x7f2b1633e2e8>"
      ]
     },
     "metadata": {},
     "output_type": "display_data"
    }
   ],
   "source": [
    "show_train_history(train_history,'loss','val_loss')"
   ]
  },
  {
   "cell_type": "code",
   "execution_count": 55,
   "metadata": {
    "collapsed": false
   },
   "outputs": [
    {
     "name": "stdout",
     "output_type": "stream",
     "text": [
      "3804/3804 [==============================] - 0s 27us/step\n"
     ]
    }
   ],
   "source": [
    "scores = model.evaluate(x=test_Features, \n",
    "                        y=test_Label)"
   ]
  },
  {
   "cell_type": "code",
   "execution_count": 56,
   "metadata": {
    "collapsed": false
   },
   "outputs": [
    {
     "data": {
      "text/plain": [
       "0.8748685593484704"
      ]
     },
     "execution_count": 56,
     "metadata": {},
     "output_type": "execute_result"
    }
   ],
   "source": [
    "scores[1]"
   ]
  }
 ],
 "metadata": {
  "anaconda-cloud": {},
  "kernelspec": {
   "display_name": "Python [default]",
   "language": "python",
   "name": "python3"
  },
  "language_info": {
   "codemirror_mode": {
    "name": "ipython",
    "version": 3
   },
   "file_extension": ".py",
   "mimetype": "text/x-python",
   "name": "python",
   "nbconvert_exporter": "python",
   "pygments_lexer": "ipython3",
   "version": "3.5.2"
  }
 },
 "nbformat": 4,
 "nbformat_minor": 1
}
