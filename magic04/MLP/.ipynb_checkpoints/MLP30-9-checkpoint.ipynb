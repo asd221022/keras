{
 "cells": [
  {
   "cell_type": "code",
   "execution_count": 1,
   "metadata": {
    "collapsed": false
   },
   "outputs": [],
   "source": [
    "import numpy as np\n",
    "import pandas as pd\n",
    "from sklearn.preprocessing import StandardScaler\n",
    "from sklearn.model_selection import train_test_split"
   ]
  },
  {
   "cell_type": "code",
   "execution_count": 2,
   "metadata": {
    "collapsed": false
   },
   "outputs": [],
   "source": [
    "Ynames = ['fLength', 'fWidth', 'fSize', 'fConc', 'fConc1', 'fAsym', \n",
    "             'fM3Long', 'fM3Trans', 'fAlpha', 'fDist', 'identity']\n",
    "featureNames = ['fLength', 'fWidth', 'fSize', 'fConc', 'fConc1', 'fAsym', \n",
    "             'fM3Long', 'fM3Trans', 'fAlpha', 'fDist']\n",
    "filepath = 'magic04.data'\n",
    "data = pd.read_csv(filepath, names=Ynames, header=None)\n",
    "data['identity']= data['identity'].map({'g':1, 'h': 0}).astype(int) \n",
    "X = data[featureNames].values.astype('float64')\n",
    "Y = data['identity'].values.astype('int64')"
   ]
  },
  {
   "cell_type": "code",
   "execution_count": 3,
   "metadata": {
    "collapsed": false
   },
   "outputs": [
    {
     "data": {
      "text/plain": [
       "array([[-0.51817317, -0.19652512, -0.05568711, -0.04555083,  0.02120089,\n",
       "         0.06820841,  0.0977897 ,  0.53483613, -0.7147743 ,  0.23282504],\n",
       "       [ 1.54261272,  1.20284782,  1.54634858, -1.11278878, -1.03483227,\n",
       "        -1.54540358,  0.08696983,  1.39874326, -0.90073041,  1.2427699 ]])"
      ]
     },
     "execution_count": 3,
     "metadata": {},
     "output_type": "execute_result"
    }
   ],
   "source": [
    "X = StandardScaler().fit_transform(X)\n",
    "train_Features, test_Features, train_Label, test_Label = train_test_split(X, Y, test_size=0.2, random_state=None) \n",
    "train_Features[:2]"
   ]
  },
  {
   "cell_type": "code",
   "execution_count": 4,
   "metadata": {
    "collapsed": false
   },
   "outputs": [
    {
     "data": {
      "text/plain": [
       "array([[-5.29260478e-01, -8.41323701e-01, -4.68310225e-01,\n",
       "         1.74813100e+00,  1.51702163e+00,  4.70243690e-01,\n",
       "         3.48701599e-01, -4.26963668e-01, -1.00320931e+00,\n",
       "        -4.66216345e-02],\n",
       "       [ 2.04124668e+00,  2.95991490e-01,  1.25412678e+00,\n",
       "        -1.05371051e+00, -1.08641230e+00, -3.54301168e+00,\n",
       "         1.49111918e+00, -1.12062936e+00, -2.47890434e-03,\n",
       "        -8.41070197e-01]])"
      ]
     },
     "execution_count": 4,
     "metadata": {},
     "output_type": "execute_result"
    }
   ],
   "source": [
    "test_Features[:2]"
   ]
  },
  {
   "cell_type": "code",
   "execution_count": 5,
   "metadata": {
    "collapsed": false
   },
   "outputs": [
    {
     "data": {
      "text/plain": [
       "array([1, 1, 1, 1])"
      ]
     },
     "execution_count": 5,
     "metadata": {},
     "output_type": "execute_result"
    }
   ],
   "source": [
    "train_Label[:4]"
   ]
  },
  {
   "cell_type": "code",
   "execution_count": 6,
   "metadata": {
    "collapsed": false
   },
   "outputs": [
    {
     "data": {
      "text/plain": [
       "(15216, 10)"
      ]
     },
     "execution_count": 6,
     "metadata": {},
     "output_type": "execute_result"
    }
   ],
   "source": [
    "train_Features.shape"
   ]
  },
  {
   "cell_type": "code",
   "execution_count": 7,
   "metadata": {
    "collapsed": false
   },
   "outputs": [
    {
     "data": {
      "text/plain": [
       "array([0, 0, 1, 1])"
      ]
     },
     "execution_count": 7,
     "metadata": {},
     "output_type": "execute_result"
    }
   ],
   "source": [
    "test_Label[:4]"
   ]
  },
  {
   "cell_type": "code",
   "execution_count": 8,
   "metadata": {
    "collapsed": false
   },
   "outputs": [
    {
     "name": "stderr",
     "output_type": "stream",
     "text": [
      "Using TensorFlow backend.\n"
     ]
    }
   ],
   "source": [
    "from keras.models import Sequential\n",
    "from keras.layers import Dense,Dropout\n",
    "from keras.callbacks import EarlyStopping\n",
    "early_stopping = EarlyStopping(monitor='val_loss', patience=3)"
   ]
  },
  {
   "cell_type": "code",
   "execution_count": 9,
   "metadata": {
    "collapsed": true
   },
   "outputs": [],
   "source": [
    "model = Sequential()"
   ]
  },
  {
   "cell_type": "code",
   "execution_count": 10,
   "metadata": {
    "collapsed": true
   },
   "outputs": [],
   "source": [
    "model.add(Dense(units=30*9,  input_dim=10, \n",
    "                kernel_initializer='uniform', \n",
    "                activation='relu'))"
   ]
  },
  {
   "cell_type": "code",
   "execution_count": 11,
   "metadata": {
    "collapsed": true
   },
   "outputs": [],
   "source": [
    "model.add(Dense(units=30*8, \n",
    "                kernel_initializer='uniform', \n",
    "                activation='relu'))"
   ]
  },
  {
   "cell_type": "code",
   "execution_count": 12,
   "metadata": {
    "collapsed": true
   },
   "outputs": [],
   "source": [
    "model.add(Dense(units=30*7, \n",
    "                kernel_initializer='uniform', \n",
    "                activation='relu'))"
   ]
  },
  {
   "cell_type": "code",
   "execution_count": 13,
   "metadata": {
    "collapsed": true
   },
   "outputs": [],
   "source": [
    "model.add(Dense(units=30*6, \n",
    "                kernel_initializer='uniform', \n",
    "                activation='relu'))"
   ]
  },
  {
   "cell_type": "code",
   "execution_count": 14,
   "metadata": {
    "collapsed": true
   },
   "outputs": [],
   "source": [
    "model.add(Dense(units=30*5, \n",
    "                kernel_initializer='uniform', \n",
    "                activation='relu'))"
   ]
  },
  {
   "cell_type": "code",
   "execution_count": 15,
   "metadata": {
    "collapsed": true
   },
   "outputs": [],
   "source": [
    "model.add(Dense(units=30*4, \n",
    "                kernel_initializer='uniform', \n",
    "                activation='relu'))"
   ]
  },
  {
   "cell_type": "code",
   "execution_count": 16,
   "metadata": {
    "collapsed": true
   },
   "outputs": [],
   "source": [
    "model.add(Dense(units=30*3, \n",
    "                kernel_initializer='uniform', \n",
    "                activation='relu'))"
   ]
  },
  {
   "cell_type": "code",
   "execution_count": 17,
   "metadata": {
    "collapsed": true
   },
   "outputs": [],
   "source": [
    "model.add(Dense(units=30*2, \n",
    "                kernel_initializer='uniform', \n",
    "                activation='relu'))"
   ]
  },
  {
   "cell_type": "code",
   "execution_count": 18,
   "metadata": {
    "collapsed": true
   },
   "outputs": [],
   "source": [
    "model.add(Dense(units=30, \n",
    "                kernel_initializer='uniform', \n",
    "                activation='relu'))"
   ]
  },
  {
   "cell_type": "code",
   "execution_count": 19,
   "metadata": {
    "collapsed": true
   },
   "outputs": [],
   "source": [
    "model.add(Dense(units=1, \n",
    "                kernel_initializer='uniform',\n",
    "                activation='sigmoid'))"
   ]
  },
  {
   "cell_type": "code",
   "execution_count": 20,
   "metadata": {
    "collapsed": false
   },
   "outputs": [
    {
     "name": "stdout",
     "output_type": "stream",
     "text": [
      "_________________________________________________________________\n",
      "Layer (type)                 Output Shape              Param #   \n",
      "=================================================================\n",
      "dense_1 (Dense)              (None, 270)               2970      \n",
      "_________________________________________________________________\n",
      "dense_2 (Dense)              (None, 240)               65040     \n",
      "_________________________________________________________________\n",
      "dense_3 (Dense)              (None, 210)               50610     \n",
      "_________________________________________________________________\n",
      "dense_4 (Dense)              (None, 180)               37980     \n",
      "_________________________________________________________________\n",
      "dense_5 (Dense)              (None, 150)               27150     \n",
      "_________________________________________________________________\n",
      "dense_6 (Dense)              (None, 120)               18120     \n",
      "_________________________________________________________________\n",
      "dense_7 (Dense)              (None, 90)                10890     \n",
      "_________________________________________________________________\n",
      "dense_8 (Dense)              (None, 60)                5460      \n",
      "_________________________________________________________________\n",
      "dense_9 (Dense)              (None, 30)                1830      \n",
      "_________________________________________________________________\n",
      "dense_10 (Dense)             (None, 1)                 31        \n",
      "=================================================================\n",
      "Total params: 220,081\n",
      "Trainable params: 220,081\n",
      "Non-trainable params: 0\n",
      "_________________________________________________________________\n"
     ]
    }
   ],
   "source": [
    "model.summary()"
   ]
  },
  {
   "cell_type": "code",
   "execution_count": 21,
   "metadata": {
    "collapsed": true
   },
   "outputs": [],
   "source": [
    "model.compile(loss='binary_crossentropy', \n",
    "              optimizer='adam', metrics=['accuracy'])"
   ]
  },
  {
   "cell_type": "code",
   "execution_count": 22,
   "metadata": {
    "collapsed": false
   },
   "outputs": [
    {
     "name": "stdout",
     "output_type": "stream",
     "text": [
      "Train on 13694 samples, validate on 1522 samples\n",
      "Epoch 1/30\n",
      " - 5s - loss: 0.6887 - acc: 0.6420 - val_loss: 0.6786 - val_acc: 0.6353\n",
      "Epoch 2/30\n",
      " - 1s - loss: 0.5367 - acc: 0.6504 - val_loss: 0.4811 - val_acc: 0.6984\n",
      "Epoch 3/30\n",
      " - 1s - loss: 0.4071 - acc: 0.8217 - val_loss: 0.3529 - val_acc: 0.8548\n",
      "Epoch 4/30\n",
      " - 1s - loss: 0.3554 - acc: 0.8537 - val_loss: 0.3328 - val_acc: 0.8693\n",
      "Epoch 5/30\n",
      " - 1s - loss: 0.3339 - acc: 0.8614 - val_loss: 0.3149 - val_acc: 0.8693\n",
      "Epoch 6/30\n",
      " - 1s - loss: 0.3235 - acc: 0.8662 - val_loss: 0.3284 - val_acc: 0.8679\n",
      "Epoch 7/30\n",
      " - 1s - loss: 0.3154 - acc: 0.8696 - val_loss: 0.3108 - val_acc: 0.8693\n",
      "Epoch 8/30\n",
      " - 1s - loss: 0.3075 - acc: 0.8715 - val_loss: 0.3073 - val_acc: 0.8719\n",
      "Epoch 9/30\n",
      " - 1s - loss: 0.3071 - acc: 0.8715 - val_loss: 0.3042 - val_acc: 0.8699\n",
      "Epoch 10/30\n",
      " - 1s - loss: 0.3036 - acc: 0.8732 - val_loss: 0.3027 - val_acc: 0.8739\n",
      "Epoch 11/30\n",
      " - 1s - loss: 0.2997 - acc: 0.8751 - val_loss: 0.2980 - val_acc: 0.8791\n",
      "Epoch 12/30\n",
      " - 1s - loss: 0.2944 - acc: 0.8780 - val_loss: 0.2988 - val_acc: 0.8771\n",
      "Epoch 13/30\n",
      " - 1s - loss: 0.2980 - acc: 0.8751 - val_loss: 0.3025 - val_acc: 0.8732\n",
      "Epoch 14/30\n",
      " - 1s - loss: 0.2909 - acc: 0.8801 - val_loss: 0.2955 - val_acc: 0.8765\n",
      "Epoch 15/30\n",
      " - 1s - loss: 0.2908 - acc: 0.8800 - val_loss: 0.2974 - val_acc: 0.8804\n",
      "Epoch 16/30\n",
      " - 1s - loss: 0.2895 - acc: 0.8795 - val_loss: 0.3185 - val_acc: 0.8660\n",
      "Epoch 17/30\n",
      " - 1s - loss: 0.2916 - acc: 0.8775 - val_loss: 0.2929 - val_acc: 0.8739\n",
      "Epoch 18/30\n",
      " - 1s - loss: 0.2861 - acc: 0.8809 - val_loss: 0.3002 - val_acc: 0.8784\n",
      "Epoch 19/30\n",
      " - 1s - loss: 0.2793 - acc: 0.8846 - val_loss: 0.2999 - val_acc: 0.8778\n",
      "Epoch 20/30\n",
      " - 1s - loss: 0.2794 - acc: 0.8840 - val_loss: 0.2973 - val_acc: 0.8778\n"
     ]
    }
   ],
   "source": [
    "train_history =model.fit(x=train_Features, \n",
    "                         y=train_Label, \n",
    "                         validation_split=0.1, \n",
    "                         epochs=30, \n",
    "                         batch_size=400,verbose=2,callbacks=[early_stopping])"
   ]
  },
  {
   "cell_type": "code",
   "execution_count": 23,
   "metadata": {
    "collapsed": true
   },
   "outputs": [],
   "source": [
    "import matplotlib.pyplot as plt\n",
    "def show_train_history(train_history,train,validation):\n",
    "    plt.plot(train_history.history[train])\n",
    "    plt.plot(train_history.history[validation])\n",
    "    plt.title('Train History')\n",
    "    plt.ylabel(train)\n",
    "    plt.xlabel('Epoch')\n",
    "    plt.legend(['train', 'validation'], loc='upper left')\n",
    "    plt.show()"
   ]
  },
  {
   "cell_type": "code",
   "execution_count": 24,
   "metadata": {
    "collapsed": false
   },
   "outputs": [
    {
     "data": {
      "image/png": "[encoded data removed]",
      "text/plain": [
       "<matplotlib.figure.Figure at 0x7fe085590588>"
      ]
     },
     "metadata": {},
     "output_type": "display_data"
    }
   ],
   "source": [
    "show_train_history(train_history,'acc','val_acc')"
   ]
  },
  {
   "cell_type": "code",
   "execution_count": 25,
   "metadata": {
    "collapsed": false
   },
   "outputs": [
    {
     "data": {
      "image/png": "[encoded data removed]",
      "text/plain": [
       "<matplotlib.figure.Figure at 0x7fe0860c5f98>"
      ]
     },
     "metadata": {},
     "output_type": "display_data"
    }
   ],
   "source": [
    "show_train_history(train_history,'loss','val_loss')"
   ]
  },
  {
   "cell_type": "code",
   "execution_count": 26,
   "metadata": {
    "collapsed": false
   },
   "outputs": [
    {
     "name": "stdout",
     "output_type": "stream",
     "text": [
      "3804/3804 [==============================] - 1s 144us/step\n"
     ]
    }
   ],
   "source": [
    "scores = model.evaluate(x=test_Features, \n",
    "                        y=test_Label)"
   ]
  },
  {
   "cell_type": "code",
   "execution_count": 27,
   "metadata": {
    "collapsed": false
   },
   "outputs": [
    {
     "data": {
      "text/plain": [
       "0.8709253416828553"
      ]
     },
     "execution_count": 27,
     "metadata": {},
     "output_type": "execute_result"
    }
   ],
   "source": [
    "scores[1]"
   ]
  }
 ],
 "metadata": {
  "anaconda-cloud": {},
  "kernelspec": {
   "display_name": "Python [default]",
   "language": "python",
   "name": "python3"
  },
  "language_info": {
   "codemirror_mode": {
    "name": "ipython",
    "version": 3
   },
   "file_extension": ".py",
   "mimetype": "text/x-python",
   "name": "python",
   "nbconvert_exporter": "python",
   "pygments_lexer": "ipython3",
   "version": "3.5.2"
  }
 },
 "nbformat": 4,
 "nbformat_minor": 1
}
