{
 "cells": [
  {
   "cell_type": "code",
   "execution_count": 1,
   "metadata": {
    "collapsed": false
   },
   "outputs": [],
   "source": [
    "import numpy as np\n",
    "import pandas as pd\n",
    "from sklearn.preprocessing import StandardScaler\n",
    "from sklearn.model_selection import train_test_split"
   ]
  },
  {
   "cell_type": "code",
   "execution_count": 2,
   "metadata": {
    "collapsed": false
   },
   "outputs": [],
   "source": [
    "Ynames = ['fLength', 'fWidth', 'fSize', 'fConc', 'fConc1', 'fAsym', \n",
    "             'fM3Long', 'fM3Trans', 'fAlpha', 'fDist', 'identity']\n",
    "featureNames = ['fLength', 'fWidth', 'fSize', 'fConc', 'fConc1', 'fAsym', \n",
    "             'fM3Long', 'fM3Trans', 'fAlpha', 'fDist']\n",
    "filepath = 'magic04.data'\n",
    "data = pd.read_csv(filepath, names=Ynames, header=None)\n",
    "data['identity']= data['identity'].map({'g':1, 'h': 0}).astype(int) \n",
    "X = data[featureNames].values.astype('float64')\n",
    "Y = data['identity'].values.astype('int64')"
   ]
  },
  {
   "cell_type": "code",
   "execution_count": 3,
   "metadata": {
    "collapsed": false
   },
   "outputs": [
    {
     "data": {
      "text/plain": [
       "array([[ 1.06696776e+00,  3.06947811e-01,  8.36002021e-01,\n",
       "        -1.62644149e+00, -1.21943447e+00, -2.18404416e+00,\n",
       "         1.23815233e+00,  6.77939581e-01,  2.07723748e+00,\n",
       "         1.58491927e-01],\n",
       "       [-5.76177958e-01,  3.77953845e-04,  4.57023560e-01,\n",
       "        -4.42688068e-01, -3.98678620e-01,  4.34383352e-02,\n",
       "         1.16482306e-01,  5.88219038e-01, -4.53271136e-01,\n",
       "        -6.18414777e-01]])"
      ]
     },
     "execution_count": 3,
     "metadata": {},
     "output_type": "execute_result"
    }
   ],
   "source": [
    "X = StandardScaler().fit_transform(X)\n",
    "train_Features, test_Features, train_Label, test_Label = train_test_split(X, Y, test_size=0.2, random_state=None) \n",
    "train_Features[:2]"
   ]
  },
  {
   "cell_type": "code",
   "execution_count": 4,
   "metadata": {
    "collapsed": false
   },
   "outputs": [
    {
     "data": {
      "text/plain": [
       "array([[-0.95208904, -0.59864936, -1.40739811,  1.93247707,  2.0337268 ,\n",
       "         0.31832451, -0.35827025, -0.40585154,  2.28652046, -0.37480387],\n",
       "       [ 0.2262016 , -0.19746813, -0.03346894, -0.30647984, -0.44754391,\n",
       "         1.34194255,  0.69804135, -0.71841859, -0.81064475,  0.54205901]])"
      ]
     },
     "execution_count": 4,
     "metadata": {},
     "output_type": "execute_result"
    }
   ],
   "source": [
    "test_Features[:2]"
   ]
  },
  {
   "cell_type": "code",
   "execution_count": 5,
   "metadata": {
    "collapsed": false
   },
   "outputs": [
    {
     "data": {
      "text/plain": [
       "array([0, 1, 1, 1])"
      ]
     },
     "execution_count": 5,
     "metadata": {},
     "output_type": "execute_result"
    }
   ],
   "source": [
    "train_Label[:4]"
   ]
  },
  {
   "cell_type": "code",
   "execution_count": 6,
   "metadata": {
    "collapsed": false
   },
   "outputs": [
    {
     "data": {
      "text/plain": [
       "(15216, 10)"
      ]
     },
     "execution_count": 6,
     "metadata": {},
     "output_type": "execute_result"
    }
   ],
   "source": [
    "train_Features.shape"
   ]
  },
  {
   "cell_type": "code",
   "execution_count": 7,
   "metadata": {
    "collapsed": false
   },
   "outputs": [
    {
     "data": {
      "text/plain": [
       "array([1, 1, 0, 1])"
      ]
     },
     "execution_count": 7,
     "metadata": {},
     "output_type": "execute_result"
    }
   ],
   "source": [
    "test_Label[:4]"
   ]
  },
  {
   "cell_type": "code",
   "execution_count": 8,
   "metadata": {
    "collapsed": false
   },
   "outputs": [
    {
     "name": "stderr",
     "output_type": "stream",
     "text": [
      "Using TensorFlow backend.\n"
     ]
    }
   ],
   "source": [
    "from keras.models import Sequential\n",
    "from keras.layers import Dense,Dropout\n",
    "from keras.callbacks import EarlyStopping\n",
    "early_stopping = EarlyStopping(monitor='val_loss', patience=3)"
   ]
  },
  {
   "cell_type": "code",
   "execution_count": 9,
   "metadata": {
    "collapsed": true
   },
   "outputs": [],
   "source": [
    "model = Sequential()"
   ]
  },
  {
   "cell_type": "code",
   "execution_count": 10,
   "metadata": {
    "collapsed": true
   },
   "outputs": [],
   "source": [
    "model.add(Dense(units=10*7,  input_dim=10, \n",
    "                kernel_initializer='uniform', \n",
    "                activation='relu'))"
   ]
  },
  {
   "cell_type": "code",
   "execution_count": null,
   "metadata": {
    "collapsed": true
   },
   "outputs": [],
   "source": [
    "model.add(Dense(units=10*6, \n",
    "                kernel_initializer='uniform', \n",
    "                activation='relu'))"
   ]
  },
  {
   "cell_type": "code",
   "execution_count": null,
   "metadata": {
    "collapsed": true
   },
   "outputs": [],
   "source": [
    "model.add(Dense(units=10*5, \n",
    "                kernel_initializer='uniform', \n",
    "                activation='relu'))"
   ]
  },
  {
   "cell_type": "code",
   "execution_count": null,
   "metadata": {
    "collapsed": true
   },
   "outputs": [],
   "source": [
    "model.add(Dense(units=10*4, \n",
    "                kernel_initializer='uniform', \n",
    "                activation='relu'))"
   ]
  },
  {
   "cell_type": "code",
   "execution_count": null,
   "metadata": {
    "collapsed": true
   },
   "outputs": [],
   "source": [
    "model.add(Dense(units=10*3, \n",
    "                kernel_initializer='uniform', \n",
    "                activation='relu'))"
   ]
  },
  {
   "cell_type": "code",
   "execution_count": null,
   "metadata": {
    "collapsed": true
   },
   "outputs": [],
   "source": [
    "model.add(Dense(units=10*2, \n",
    "                kernel_initializer='uniform', \n",
    "                activation='relu'))"
   ]
  },
  {
   "cell_type": "code",
   "execution_count": null,
   "metadata": {
    "collapsed": true
   },
   "outputs": [],
   "source": [
    "model.add(Dense(units=10, \n",
    "                kernel_initializer='uniform', \n",
    "                activation='relu'))"
   ]
  },
  {
   "cell_type": "code",
   "execution_count": 11,
   "metadata": {
    "collapsed": true
   },
   "outputs": [],
   "source": [
    "model.add(Dense(units=1, \n",
    "                kernel_initializer='uniform',\n",
    "                activation='sigmoid'))"
   ]
  },
  {
   "cell_type": "code",
   "execution_count": 12,
   "metadata": {
    "collapsed": false
   },
   "outputs": [
    {
     "name": "stdout",
     "output_type": "stream",
     "text": [
      "_________________________________________________________________\n",
      "Layer (type)                 Output Shape              Param #   \n",
      "=================================================================\n",
      "dense_1 (Dense)              (None, 10)                110       \n",
      "_________________________________________________________________\n",
      "dense_2 (Dense)              (None, 1)                 11        \n",
      "=================================================================\n",
      "Total params: 121\n",
      "Trainable params: 121\n",
      "Non-trainable params: 0\n",
      "_________________________________________________________________\n"
     ]
    }
   ],
   "source": [
    "model.summary()"
   ]
  },
  {
   "cell_type": "code",
   "execution_count": 13,
   "metadata": {
    "collapsed": true
   },
   "outputs": [],
   "source": [
    "model.compile(loss='binary_crossentropy', \n",
    "              optimizer='adam', metrics=['accuracy'])"
   ]
  },
  {
   "cell_type": "code",
   "execution_count": 14,
   "metadata": {
    "collapsed": false
   },
   "outputs": [
    {
     "name": "stdout",
     "output_type": "stream",
     "text": [
      "Train on 13694 samples, validate on 1522 samples\n",
      "Epoch 1/30\n",
      " - 1s - loss: 0.6864 - acc: 0.7147 - val_loss: 0.6772 - val_acc: 0.7365\n",
      "Epoch 2/30\n",
      " - 0s - loss: 0.6647 - acc: 0.7424 - val_loss: 0.6464 - val_acc: 0.7418\n",
      "Epoch 3/30\n",
      " - 0s - loss: 0.6285 - acc: 0.7549 - val_loss: 0.6051 - val_acc: 0.7530\n",
      "Epoch 4/30\n",
      " - 0s - loss: 0.5848 - acc: 0.7652 - val_loss: 0.5624 - val_acc: 0.7700\n",
      "Epoch 5/30\n",
      " - 0s - loss: 0.5416 - acc: 0.7780 - val_loss: 0.5247 - val_acc: 0.7779\n",
      "Epoch 6/30\n",
      " - 0s - loss: 0.5043 - acc: 0.7836 - val_loss: 0.4946 - val_acc: 0.7812\n",
      "Epoch 7/30\n",
      " - 0s - loss: 0.4764 - acc: 0.7893 - val_loss: 0.4735 - val_acc: 0.7819\n",
      "Epoch 8/30\n",
      " - 0s - loss: 0.4568 - acc: 0.7939 - val_loss: 0.4587 - val_acc: 0.7852\n",
      "Epoch 9/30\n",
      " - 0s - loss: 0.4438 - acc: 0.7966 - val_loss: 0.4489 - val_acc: 0.7898\n",
      "Epoch 10/30\n",
      " - 0s - loss: 0.4346 - acc: 0.7993 - val_loss: 0.4417 - val_acc: 0.7891\n",
      "Epoch 11/30\n",
      " - 0s - loss: 0.4283 - acc: 0.8023 - val_loss: 0.4367 - val_acc: 0.7930\n",
      "Epoch 12/30\n",
      " - 0s - loss: 0.4234 - acc: 0.8054 - val_loss: 0.4323 - val_acc: 0.7976\n",
      "Epoch 13/30\n",
      " - 0s - loss: 0.4194 - acc: 0.8068 - val_loss: 0.4288 - val_acc: 0.7989\n",
      "Epoch 14/30\n",
      " - 0s - loss: 0.4161 - acc: 0.8090 - val_loss: 0.4253 - val_acc: 0.8009\n",
      "Epoch 15/30\n",
      " - 0s - loss: 0.4131 - acc: 0.8115 - val_loss: 0.4225 - val_acc: 0.8029\n",
      "Epoch 16/30\n",
      " - 0s - loss: 0.4102 - acc: 0.8123 - val_loss: 0.4206 - val_acc: 0.8022\n",
      "Epoch 17/30\n",
      " - 0s - loss: 0.4079 - acc: 0.8130 - val_loss: 0.4176 - val_acc: 0.8075\n",
      "Epoch 18/30\n",
      " - 0s - loss: 0.4054 - acc: 0.8155 - val_loss: 0.4156 - val_acc: 0.8095\n",
      "Epoch 19/30\n",
      " - 0s - loss: 0.4033 - acc: 0.8158 - val_loss: 0.4133 - val_acc: 0.8114\n",
      "Epoch 20/30\n",
      " - 0s - loss: 0.4010 - acc: 0.8190 - val_loss: 0.4108 - val_acc: 0.8141\n",
      "Epoch 21/30\n",
      " - 0s - loss: 0.3988 - acc: 0.8200 - val_loss: 0.4088 - val_acc: 0.8147\n",
      "Epoch 22/30\n",
      " - 0s - loss: 0.3967 - acc: 0.8220 - val_loss: 0.4067 - val_acc: 0.8180\n",
      "Epoch 23/30\n",
      " - 0s - loss: 0.3949 - acc: 0.8240 - val_loss: 0.4046 - val_acc: 0.8206\n",
      "Epoch 24/30\n",
      " - 0s - loss: 0.3931 - acc: 0.8249 - val_loss: 0.4028 - val_acc: 0.8233\n",
      "Epoch 25/30\n",
      " - 0s - loss: 0.3913 - acc: 0.8253 - val_loss: 0.4016 - val_acc: 0.8246\n",
      "Epoch 26/30\n",
      " - 0s - loss: 0.3897 - acc: 0.8255 - val_loss: 0.3997 - val_acc: 0.8239\n",
      "Epoch 27/30\n",
      " - 0s - loss: 0.3881 - acc: 0.8284 - val_loss: 0.3977 - val_acc: 0.8259\n",
      "Epoch 28/30\n",
      " - 0s - loss: 0.3866 - acc: 0.8288 - val_loss: 0.3959 - val_acc: 0.8279\n",
      "Epoch 29/30\n",
      " - 0s - loss: 0.3851 - acc: 0.8302 - val_loss: 0.3947 - val_acc: 0.8285\n",
      "Epoch 30/30\n",
      " - 0s - loss: 0.3836 - acc: 0.8320 - val_loss: 0.3938 - val_acc: 0.8272\n"
     ]
    }
   ],
   "source": [
    "train_history =model.fit(x=train_Features, \n",
    "                         y=train_Label, \n",
    "                         validation_split=0.1, \n",
    "                         epochs=30, \n",
    "                         batch_size=400,verbose=2,callbacks=[early_stopping])"
   ]
  },
  {
   "cell_type": "code",
   "execution_count": 15,
   "metadata": {
    "collapsed": true
   },
   "outputs": [],
   "source": [
    "import matplotlib.pyplot as plt\n",
    "def show_train_history(train_history,train,validation):\n",
    "    plt.plot(train_history.history[train])\n",
    "    plt.plot(train_history.history[validation])\n",
    "    plt.title('Train History')\n",
    "    plt.ylabel(train)\n",
    "    plt.xlabel('Epoch')\n",
    "    plt.legend(['train', 'validation'], loc='upper left')\n",
    "    plt.show()"
   ]
  },
  {
   "cell_type": "code",
   "execution_count": 16,
   "metadata": {
    "collapsed": false
   },
   "outputs": [
    {
     "data": {
      "image/png": "[encoded data removed]",
      "text/plain": [
       "<matplotlib.figure.Figure at 0x7fe289fc6898>"
      ]
     },
     "metadata": {},
     "output_type": "display_data"
    }
   ],
   "source": [
    "show_train_history(train_history,'acc','val_acc')"
   ]
  },
  {
   "cell_type": "code",
   "execution_count": 17,
   "metadata": {
    "collapsed": false
   },
   "outputs": [
    {
     "data": {
      "image/png": "[encoded data removed]",
      "text/plain": [
       "<matplotlib.figure.Figure at 0x7fe289fc6080>"
      ]
     },
     "metadata": {},
     "output_type": "display_data"
    }
   ],
   "source": [
    "show_train_history(train_history,'loss','val_loss')"
   ]
  },
  {
   "cell_type": "code",
   "execution_count": 18,
   "metadata": {
    "collapsed": false
   },
   "outputs": [
    {
     "name": "stdout",
     "output_type": "stream",
     "text": [
      "3804/3804 [==============================] - 0s 53us/step\n"
     ]
    }
   ],
   "source": [
    "scores = model.evaluate(x=test_Features, \n",
    "                        y=test_Label)"
   ]
  },
  {
   "cell_type": "code",
   "execution_count": 19,
   "metadata": {
    "collapsed": false
   },
   "outputs": [
    {
     "data": {
      "text/plain": [
       "0.8272870663087325"
      ]
     },
     "execution_count": 19,
     "metadata": {},
     "output_type": "execute_result"
    }
   ],
   "source": [
    "scores[1]"
   ]
  }
 ],
 "metadata": {
  "anaconda-cloud": {},
  "kernelspec": {
   "display_name": "Python [default]",
   "language": "python",
   "name": "python3"
  },
  "language_info": {
   "codemirror_mode": {
    "name": "ipython",
    "version": 3
   },
   "file_extension": ".py",
   "mimetype": "text/x-python",
   "name": "python",
   "nbconvert_exporter": "python",
   "pygments_lexer": "ipython3",
   "version": "3.5.2"
  }
 },
 "nbformat": 4,
 "nbformat_minor": 1
}
