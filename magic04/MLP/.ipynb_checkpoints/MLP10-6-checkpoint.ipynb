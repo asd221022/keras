{
 "cells": [
  {
   "cell_type": "code",
   "execution_count": 25,
   "metadata": {
    "collapsed": false
   },
   "outputs": [],
   "source": [
    "import numpy as np\n",
    "import pandas as pd\n",
    "from sklearn.preprocessing import StandardScaler\n",
    "from sklearn.model_selection import train_test_split"
   ]
  },
  {
   "cell_type": "code",
   "execution_count": 26,
   "metadata": {
    "collapsed": false
   },
   "outputs": [],
   "source": [
    "Ynames = ['fLength', 'fWidth', 'fSize', 'fConc', 'fConc1', 'fAsym', \n",
    "             'fM3Long', 'fM3Trans', 'fAlpha', 'fDist', 'identity']\n",
    "featureNames = ['fLength', 'fWidth', 'fSize', 'fConc', 'fConc1', 'fAsym', \n",
    "             'fM3Long', 'fM3Trans', 'fAlpha', 'fDist']\n",
    "filepath = 'magic04.data'\n",
    "data = pd.read_csv(filepath, names=Ynames, header=None)\n",
    "data['identity']= data['identity'].map({'g':1, 'h': 0}).astype(int) \n",
    "X = data[featureNames].values.astype('float64')\n",
    "Y = data['identity'].values.astype('int64')"
   ]
  },
  {
   "cell_type": "code",
   "execution_count": 27,
   "metadata": {
    "collapsed": false
   },
   "outputs": [
    {
     "data": {
      "text/plain": [
       "array([[ 1.96201619,  3.98876774,  1.7611242 , -1.54657643, -1.52258023,\n",
       "         1.5976714 ,  1.85243765,  3.10623284, -0.07276602, -1.94040374],\n",
       "       [-0.7924242 , -0.25408669, -0.71503769,  0.27172135,  0.19494413,\n",
       "        -0.04202813,  0.09373078,  0.49372102,  0.3013605 , -0.13532785]])"
      ]
     },
     "execution_count": 27,
     "metadata": {},
     "output_type": "execute_result"
    }
   ],
   "source": [
    "X = StandardScaler().fit_transform(X)\n",
    "train_Features, test_Features, train_Label, test_Label = train_test_split(X, Y, test_size=0.2, random_state=None) \n",
    "train_Features[:2]"
   ]
  },
  {
   "cell_type": "code",
   "execution_count": 28,
   "metadata": {
    "collapsed": false
   },
   "outputs": [
    {
     "data": {
      "text/plain": [
       "array([[-0.70172164, -1.20890555, -1.62936819,  1.8236199 ,  1.52607076,\n",
       "         0.0954935 , -0.40327917, -0.01198575,  1.51661851,  0.04567084],\n",
       "       [ 0.48873507, -0.6433686 ,  0.34699073, -0.50887761, -0.56427765,\n",
       "         0.61983366,  0.64106743, -0.36236929,  0.20668532, -0.22810607]])"
      ]
     },
     "execution_count": 28,
     "metadata": {},
     "output_type": "execute_result"
    }
   ],
   "source": [
    "test_Features[:2]"
   ]
  },
  {
   "cell_type": "code",
   "execution_count": 29,
   "metadata": {
    "collapsed": false
   },
   "outputs": [
    {
     "data": {
      "text/plain": [
       "array([0, 1, 1, 1])"
      ]
     },
     "execution_count": 29,
     "metadata": {},
     "output_type": "execute_result"
    }
   ],
   "source": [
    "train_Label[:4]"
   ]
  },
  {
   "cell_type": "code",
   "execution_count": 30,
   "metadata": {
    "collapsed": false
   },
   "outputs": [
    {
     "data": {
      "text/plain": [
       "(15216, 10)"
      ]
     },
     "execution_count": 30,
     "metadata": {},
     "output_type": "execute_result"
    }
   ],
   "source": [
    "train_Features.shape"
   ]
  },
  {
   "cell_type": "code",
   "execution_count": 31,
   "metadata": {
    "collapsed": false
   },
   "outputs": [
    {
     "data": {
      "text/plain": [
       "array([1, 0, 1, 0])"
      ]
     },
     "execution_count": 31,
     "metadata": {},
     "output_type": "execute_result"
    }
   ],
   "source": [
    "test_Label[:4]"
   ]
  },
  {
   "cell_type": "code",
   "execution_count": 32,
   "metadata": {
    "collapsed": false
   },
   "outputs": [],
   "source": [
    "from keras.models import Sequential\n",
    "from keras.layers import Dense,Dropout\n",
    "from keras.callbacks import EarlyStopping\n",
    "early_stopping = EarlyStopping(monitor='val_loss', patience=3)"
   ]
  },
  {
   "cell_type": "code",
   "execution_count": 33,
   "metadata": {
    "collapsed": true
   },
   "outputs": [],
   "source": [
    "model = Sequential()"
   ]
  },
  {
   "cell_type": "code",
   "execution_count": 34,
   "metadata": {
    "collapsed": true
   },
   "outputs": [],
   "source": [
    "model.add(Dense(units=10*6,  input_dim=10, \n",
    "                kernel_initializer='uniform', \n",
    "                activation='relu'))"
   ]
  },
  {
   "cell_type": "code",
   "execution_count": 35,
   "metadata": {
    "collapsed": true
   },
   "outputs": [],
   "source": [
    "model.add(Dense(units=10*5, \n",
    "                kernel_initializer='uniform', \n",
    "                activation='relu'))"
   ]
  },
  {
   "cell_type": "code",
   "execution_count": 36,
   "metadata": {
    "collapsed": true
   },
   "outputs": [],
   "source": [
    "model.add(Dense(units=10*4, \n",
    "                kernel_initializer='uniform', \n",
    "                activation='relu'))"
   ]
  },
  {
   "cell_type": "code",
   "execution_count": 37,
   "metadata": {
    "collapsed": true
   },
   "outputs": [],
   "source": [
    "model.add(Dense(units=10*3, \n",
    "                kernel_initializer='uniform', \n",
    "                activation='relu'))"
   ]
  },
  {
   "cell_type": "code",
   "execution_count": 38,
   "metadata": {
    "collapsed": true
   },
   "outputs": [],
   "source": [
    "model.add(Dense(units=10*2, \n",
    "                kernel_initializer='uniform', \n",
    "                activation='relu'))"
   ]
  },
  {
   "cell_type": "code",
   "execution_count": 39,
   "metadata": {
    "collapsed": true
   },
   "outputs": [],
   "source": [
    "model.add(Dense(units=10, \n",
    "                kernel_initializer='uniform', \n",
    "                activation='relu'))"
   ]
  },
  {
   "cell_type": "code",
   "execution_count": 40,
   "metadata": {
    "collapsed": true
   },
   "outputs": [],
   "source": [
    "model.add(Dense(units=1, \n",
    "                kernel_initializer='uniform',\n",
    "                activation='sigmoid'))"
   ]
  },
  {
   "cell_type": "code",
   "execution_count": 41,
   "metadata": {
    "collapsed": false
   },
   "outputs": [
    {
     "name": "stdout",
     "output_type": "stream",
     "text": [
      "_________________________________________________________________\n",
      "Layer (type)                 Output Shape              Param #   \n",
      "=================================================================\n",
      "dense_8 (Dense)              (None, 60)                660       \n",
      "_________________________________________________________________\n",
      "dense_9 (Dense)              (None, 50)                3050      \n",
      "_________________________________________________________________\n",
      "dense_10 (Dense)             (None, 40)                2040      \n",
      "_________________________________________________________________\n",
      "dense_11 (Dense)             (None, 30)                1230      \n",
      "_________________________________________________________________\n",
      "dense_12 (Dense)             (None, 20)                620       \n",
      "_________________________________________________________________\n",
      "dense_13 (Dense)             (None, 10)                210       \n",
      "_________________________________________________________________\n",
      "dense_14 (Dense)             (None, 1)                 11        \n",
      "=================================================================\n",
      "Total params: 7,821\n",
      "Trainable params: 7,821\n",
      "Non-trainable params: 0\n",
      "_________________________________________________________________\n"
     ]
    }
   ],
   "source": [
    "model.summary()"
   ]
  },
  {
   "cell_type": "code",
   "execution_count": 42,
   "metadata": {
    "collapsed": true
   },
   "outputs": [],
   "source": [
    "model.compile(loss='binary_crossentropy', \n",
    "              optimizer='adam', metrics=['accuracy'])"
   ]
  },
  {
   "cell_type": "code",
   "execution_count": 43,
   "metadata": {
    "collapsed": false
   },
   "outputs": [
    {
     "name": "stdout",
     "output_type": "stream",
     "text": [
      "Train on 13694 samples, validate on 1522 samples\n",
      "Epoch 1/30\n",
      " - 1s - loss: 0.6905 - acc: 0.6358 - val_loss: 0.6869 - val_acc: 0.6531\n",
      "Epoch 2/30\n",
      " - 0s - loss: 0.6819 - acc: 0.6457 - val_loss: 0.6646 - val_acc: 0.6531\n",
      "Epoch 3/30\n",
      " - 0s - loss: 0.5741 - acc: 0.6457 - val_loss: 0.5086 - val_acc: 0.6531\n",
      "Epoch 4/30\n",
      " - 0s - loss: 0.4745 - acc: 0.7470 - val_loss: 0.4504 - val_acc: 0.7845\n",
      "Epoch 5/30\n",
      " - 0s - loss: 0.3987 - acc: 0.8209 - val_loss: 0.4001 - val_acc: 0.8239\n",
      "Epoch 6/30\n",
      " - 1s - loss: 0.3768 - acc: 0.8421 - val_loss: 0.3865 - val_acc: 0.8384\n",
      "Epoch 7/30\n",
      " - 1s - loss: 0.3664 - acc: 0.8491 - val_loss: 0.3821 - val_acc: 0.8357\n",
      "Epoch 8/30\n",
      " - 1s - loss: 0.3566 - acc: 0.8555 - val_loss: 0.3661 - val_acc: 0.8555\n",
      "Epoch 9/30\n",
      " - 1s - loss: 0.3556 - acc: 0.8554 - val_loss: 0.3637 - val_acc: 0.8535\n",
      "Epoch 10/30\n",
      " - 1s - loss: 0.3468 - acc: 0.8604 - val_loss: 0.3563 - val_acc: 0.8515\n",
      "Epoch 11/30\n",
      " - 1s - loss: 0.3423 - acc: 0.8599 - val_loss: 0.3482 - val_acc: 0.8594\n",
      "Epoch 12/30\n",
      " - 1s - loss: 0.3389 - acc: 0.8623 - val_loss: 0.3495 - val_acc: 0.8561\n",
      "Epoch 13/30\n",
      " - 0s - loss: 0.3336 - acc: 0.8644 - val_loss: 0.3432 - val_acc: 0.8561\n",
      "Epoch 14/30\n",
      " - 1s - loss: 0.3308 - acc: 0.8663 - val_loss: 0.3410 - val_acc: 0.8594\n",
      "Epoch 15/30\n",
      " - 0s - loss: 0.3292 - acc: 0.8675 - val_loss: 0.3424 - val_acc: 0.8541\n",
      "Epoch 16/30\n",
      " - 1s - loss: 0.3272 - acc: 0.8688 - val_loss: 0.3409 - val_acc: 0.8581\n",
      "Epoch 17/30\n",
      " - 1s - loss: 0.3262 - acc: 0.8696 - val_loss: 0.3367 - val_acc: 0.8594\n",
      "Epoch 18/30\n",
      " - 1s - loss: 0.3233 - acc: 0.8687 - val_loss: 0.3346 - val_acc: 0.8607\n",
      "Epoch 19/30\n",
      " - 0s - loss: 0.3210 - acc: 0.8698 - val_loss: 0.3345 - val_acc: 0.8601\n",
      "Epoch 20/30\n",
      " - 0s - loss: 0.3202 - acc: 0.8705 - val_loss: 0.3319 - val_acc: 0.8574\n",
      "Epoch 21/30\n",
      " - 0s - loss: 0.3179 - acc: 0.8714 - val_loss: 0.3332 - val_acc: 0.8633\n",
      "Epoch 22/30\n",
      " - 0s - loss: 0.3196 - acc: 0.8705 - val_loss: 0.3311 - val_acc: 0.8601\n",
      "Epoch 23/30\n",
      " - 1s - loss: 0.3156 - acc: 0.8729 - val_loss: 0.3304 - val_acc: 0.8607\n",
      "Epoch 24/30\n",
      " - 0s - loss: 0.3148 - acc: 0.8712 - val_loss: 0.3324 - val_acc: 0.8620\n",
      "Epoch 25/30\n",
      " - 1s - loss: 0.3137 - acc: 0.8728 - val_loss: 0.3286 - val_acc: 0.8607\n",
      "Epoch 26/30\n",
      " - 0s - loss: 0.3121 - acc: 0.8734 - val_loss: 0.3279 - val_acc: 0.8666\n",
      "Epoch 27/30\n",
      " - 0s - loss: 0.3106 - acc: 0.8732 - val_loss: 0.3270 - val_acc: 0.8627\n",
      "Epoch 28/30\n",
      " - 1s - loss: 0.3127 - acc: 0.8740 - val_loss: 0.3253 - val_acc: 0.8679\n",
      "Epoch 29/30\n",
      " - 0s - loss: 0.3092 - acc: 0.8768 - val_loss: 0.3242 - val_acc: 0.8653\n",
      "Epoch 30/30\n",
      " - 0s - loss: 0.3077 - acc: 0.8757 - val_loss: 0.3277 - val_acc: 0.8666\n"
     ]
    }
   ],
   "source": [
    "train_history =model.fit(x=train_Features, \n",
    "                         y=train_Label, \n",
    "                         validation_split=0.1, \n",
    "                         epochs=30, \n",
    "                         batch_size=400,verbose=2,callbacks=[early_stopping])"
   ]
  },
  {
   "cell_type": "code",
   "execution_count": 44,
   "metadata": {
    "collapsed": true
   },
   "outputs": [],
   "source": [
    "import matplotlib.pyplot as plt\n",
    "def show_train_history(train_history,train,validation):\n",
    "    plt.plot(train_history.history[train])\n",
    "    plt.plot(train_history.history[validation])\n",
    "    plt.title('Train History')\n",
    "    plt.ylabel(train)\n",
    "    plt.xlabel('Epoch')\n",
    "    plt.legend(['train', 'validation'], loc='upper left')\n",
    "    plt.show()"
   ]
  },
  {
   "cell_type": "code",
   "execution_count": 45,
   "metadata": {
    "collapsed": false
   },
   "outputs": [
    {
     "data": {
      "image/png": "[encoded data removed]",
      "text/plain": [
       "<matplotlib.figure.Figure at 0x7f4374182be0>"
      ]
     },
     "metadata": {},
     "output_type": "display_data"
    }
   ],
   "source": [
    "show_train_history(train_history,'acc','val_acc')"
   ]
  },
  {
   "cell_type": "code",
   "execution_count": 46,
   "metadata": {
    "collapsed": false
   },
   "outputs": [
    {
     "data": {
      "image/png": "[encoded data removed]",
      "text/plain": [
       "<matplotlib.figure.Figure at 0x7f437420ceb8>"
      ]
     },
     "metadata": {},
     "output_type": "display_data"
    }
   ],
   "source": [
    "show_train_history(train_history,'loss','val_loss')"
   ]
  },
  {
   "cell_type": "code",
   "execution_count": 47,
   "metadata": {
    "collapsed": false
   },
   "outputs": [
    {
     "name": "stdout",
     "output_type": "stream",
     "text": [
      "3804/3804 [==============================] - 1s 132us/step\n"
     ]
    }
   ],
   "source": [
    "scores = model.evaluate(x=test_Features, \n",
    "                        y=test_Label)"
   ]
  },
  {
   "cell_type": "code",
   "execution_count": 48,
   "metadata": {
    "collapsed": false
   },
   "outputs": [
    {
     "data": {
      "text/plain": [
       "0.8677707674250117"
      ]
     },
     "execution_count": 48,
     "metadata": {},
     "output_type": "execute_result"
    }
   ],
   "source": [
    "scores[1]"
   ]
  }
 ],
 "metadata": {
  "anaconda-cloud": {},
  "kernelspec": {
   "display_name": "Python [default]",
   "language": "python",
   "name": "python3"
  },
  "language_info": {
   "codemirror_mode": {
    "name": "ipython",
    "version": 3
   },
   "file_extension": ".py",
   "mimetype": "text/x-python",
   "name": "python",
   "nbconvert_exporter": "python",
   "pygments_lexer": "ipython3",
   "version": "3.5.2"
  }
 },
 "nbformat": 4,
 "nbformat_minor": 1
}
