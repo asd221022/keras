{
 "cells": [
  {
   "cell_type": "code",
   "execution_count": 1,
   "metadata": {
    "collapsed": false
   },
   "outputs": [],
   "source": [
    "import numpy as np\n",
    "import pandas as pd\n",
    "from sklearn.preprocessing import StandardScaler\n",
    "from sklearn.model_selection import train_test_split"
   ]
  },
  {
   "cell_type": "code",
   "execution_count": 2,
   "metadata": {
    "collapsed": false
   },
   "outputs": [],
   "source": [
    "Ynames = ['fLength', 'fWidth', 'fSize', 'fConc', 'fConc1', 'fAsym', \n",
    "             'fM3Long', 'fM3Trans', 'fAlpha', 'fDist', 'identity']\n",
    "featureNames = ['fLength', 'fWidth', 'fSize', 'fConc', 'fConc1', 'fAsym', \n",
    "             'fM3Long', 'fM3Trans', 'fAlpha', 'fDist']\n",
    "filepath = 'magic04.data'\n",
    "data = pd.read_csv(filepath, names=Ynames, header=None)\n",
    "data['identity']= data['identity'].map({'g':1, 'h': 0}).astype(int) \n",
    "X = data[featureNames].values.astype('float64')\n",
    "Y = data['identity'].values.astype('int64')"
   ]
  },
  {
   "cell_type": "code",
   "execution_count": 3,
   "metadata": {
    "collapsed": false
   },
   "outputs": [
    {
     "data": {
      "text/plain": [
       "array([[-0.46622308,  0.04360364,  0.10957374, -0.43120063, -0.47016673,\n",
       "         0.09078777,  0.387379  ,  0.77028173,  0.22936476, -0.01734283],\n",
       "       [-0.54039028, -0.05972374, -0.26496109, -0.73753238, -0.7597388 ,\n",
       "         0.57895839,  0.11482148,  0.66356394, -0.85102335, -1.55767567]])"
      ]
     },
     "execution_count": 3,
     "metadata": {},
     "output_type": "execute_result"
    }
   ],
   "source": [
    "X = StandardScaler().fit_transform(X)\n",
    "train_Features, test_Features, train_Label, test_Label = train_test_split(X, Y, test_size=0.2, random_state=None) \n",
    "train_Features[:2]"
   ]
  },
  {
   "cell_type": "code",
   "execution_count": 4,
   "metadata": {
    "collapsed": false
   },
   "outputs": [
    {
     "data": {
      "text/plain": [
       "array([[-0.2252269 , -0.73207119,  0.10534171,  0.10925611,  0.01939106,\n",
       "        -0.48523933,  0.32047347,  0.42795508,  0.64373197, -0.83767129],\n",
       "       [-0.7469726 , -0.38631477, -0.33140399,  0.70167984,  0.455559  ,\n",
       "         0.28266506, -0.12735295,  0.62326027,  0.01885969, -0.43746961]])"
      ]
     },
     "execution_count": 4,
     "metadata": {},
     "output_type": "execute_result"
    }
   ],
   "source": [
    "test_Features[:2]"
   ]
  },
  {
   "cell_type": "code",
   "execution_count": 5,
   "metadata": {
    "collapsed": false
   },
   "outputs": [
    {
     "data": {
      "text/plain": [
       "array([1, 1, 1, 1])"
      ]
     },
     "execution_count": 5,
     "metadata": {},
     "output_type": "execute_result"
    }
   ],
   "source": [
    "train_Label[:4]"
   ]
  },
  {
   "cell_type": "code",
   "execution_count": 6,
   "metadata": {
    "collapsed": false
   },
   "outputs": [
    {
     "data": {
      "text/plain": [
       "(15216, 10)"
      ]
     },
     "execution_count": 6,
     "metadata": {},
     "output_type": "execute_result"
    }
   ],
   "source": [
    "train_Features.shape"
   ]
  },
  {
   "cell_type": "code",
   "execution_count": 7,
   "metadata": {
    "collapsed": false
   },
   "outputs": [
    {
     "data": {
      "text/plain": [
       "array([0, 1, 0, 1])"
      ]
     },
     "execution_count": 7,
     "metadata": {},
     "output_type": "execute_result"
    }
   ],
   "source": [
    "test_Label[:4]"
   ]
  },
  {
   "cell_type": "code",
   "execution_count": 8,
   "metadata": {
    "collapsed": false
   },
   "outputs": [
    {
     "name": "stderr",
     "output_type": "stream",
     "text": [
      "Using TensorFlow backend.\n"
     ]
    }
   ],
   "source": [
    "from keras.models import Sequential\n",
    "from keras.layers import Dense,Dropout\n",
    "from keras.callbacks import EarlyStopping\n",
    "early_stopping = EarlyStopping(monitor='val_loss', patience=3)"
   ]
  },
  {
   "cell_type": "code",
   "execution_count": 9,
   "metadata": {
    "collapsed": true
   },
   "outputs": [],
   "source": [
    "model = Sequential()"
   ]
  },
  {
   "cell_type": "code",
   "execution_count": 10,
   "metadata": {
    "collapsed": true
   },
   "outputs": [],
   "source": [
    "model.add(Dense(units=20*8,  input_dim=10, \n",
    "                kernel_initializer='uniform', \n",
    "                activation='relu'))"
   ]
  },
  {
   "cell_type": "code",
   "execution_count": 11,
   "metadata": {
    "collapsed": true
   },
   "outputs": [],
   "source": [
    "model.add(Dense(units=20*7, \n",
    "                kernel_initializer='uniform', \n",
    "                activation='relu'))"
   ]
  },
  {
   "cell_type": "code",
   "execution_count": 12,
   "metadata": {
    "collapsed": true
   },
   "outputs": [],
   "source": [
    "model.add(Dense(units=20*6, \n",
    "                kernel_initializer='uniform', \n",
    "                activation='relu'))"
   ]
  },
  {
   "cell_type": "code",
   "execution_count": 13,
   "metadata": {
    "collapsed": true
   },
   "outputs": [],
   "source": [
    "model.add(Dense(units=20*5, \n",
    "                kernel_initializer='uniform', \n",
    "                activation='relu'))"
   ]
  },
  {
   "cell_type": "code",
   "execution_count": 14,
   "metadata": {
    "collapsed": true
   },
   "outputs": [],
   "source": [
    "model.add(Dense(units=20*4, \n",
    "                kernel_initializer='uniform', \n",
    "                activation='relu'))"
   ]
  },
  {
   "cell_type": "code",
   "execution_count": 15,
   "metadata": {
    "collapsed": true
   },
   "outputs": [],
   "source": [
    "model.add(Dense(units=20*3, \n",
    "                kernel_initializer='uniform', \n",
    "                activation='relu'))"
   ]
  },
  {
   "cell_type": "code",
   "execution_count": 16,
   "metadata": {
    "collapsed": true
   },
   "outputs": [],
   "source": [
    "model.add(Dense(units=20*2, \n",
    "                kernel_initializer='uniform', \n",
    "                activation='relu'))"
   ]
  },
  {
   "cell_type": "code",
   "execution_count": 17,
   "metadata": {
    "collapsed": true
   },
   "outputs": [],
   "source": [
    "model.add(Dense(units=20, \n",
    "                kernel_initializer='uniform', \n",
    "                activation='relu'))"
   ]
  },
  {
   "cell_type": "code",
   "execution_count": 18,
   "metadata": {
    "collapsed": true
   },
   "outputs": [],
   "source": [
    "model.add(Dense(units=1, \n",
    "                kernel_initializer='uniform',\n",
    "                activation='sigmoid'))"
   ]
  },
  {
   "cell_type": "code",
   "execution_count": 19,
   "metadata": {
    "collapsed": false
   },
   "outputs": [
    {
     "name": "stdout",
     "output_type": "stream",
     "text": [
      "_________________________________________________________________\n",
      "Layer (type)                 Output Shape              Param #   \n",
      "=================================================================\n",
      "dense_1 (Dense)              (None, 80)                880       \n",
      "_________________________________________________________________\n",
      "dense_2 (Dense)              (None, 70)                5670      \n",
      "_________________________________________________________________\n",
      "dense_3 (Dense)              (None, 60)                4260      \n",
      "_________________________________________________________________\n",
      "dense_4 (Dense)              (None, 50)                3050      \n",
      "_________________________________________________________________\n",
      "dense_5 (Dense)              (None, 40)                2040      \n",
      "_________________________________________________________________\n",
      "dense_6 (Dense)              (None, 30)                1230      \n",
      "_________________________________________________________________\n",
      "dense_7 (Dense)              (None, 20)                620       \n",
      "_________________________________________________________________\n",
      "dense_8 (Dense)              (None, 10)                210       \n",
      "_________________________________________________________________\n",
      "dense_9 (Dense)              (None, 1)                 11        \n",
      "=================================================================\n",
      "Total params: 17,971\n",
      "Trainable params: 17,971\n",
      "Non-trainable params: 0\n",
      "_________________________________________________________________\n"
     ]
    }
   ],
   "source": [
    "model.summary()"
   ]
  },
  {
   "cell_type": "code",
   "execution_count": 20,
   "metadata": {
    "collapsed": true
   },
   "outputs": [],
   "source": [
    "model.compile(loss='binary_crossentropy', \n",
    "              optimizer='adam', metrics=['accuracy'])"
   ]
  },
  {
   "cell_type": "code",
   "execution_count": 21,
   "metadata": {
    "collapsed": false
   },
   "outputs": [
    {
     "name": "stdout",
     "output_type": "stream",
     "text": [
      "Train on 13694 samples, validate on 1522 samples\n",
      "Epoch 1/30\n",
      " - 3s - loss: 0.6906 - acc: 0.6349 - val_loss: 0.6868 - val_acc: 0.6570\n",
      "Epoch 2/30\n",
      " - 1s - loss: 0.6828 - acc: 0.6447 - val_loss: 0.6734 - val_acc: 0.6570\n",
      "Epoch 3/30\n",
      " - 1s - loss: 0.5942 - acc: 0.6447 - val_loss: 0.4946 - val_acc: 0.6570\n",
      "Epoch 4/30\n",
      " - 1s - loss: 0.4877 - acc: 0.6478 - val_loss: 0.4743 - val_acc: 0.7273\n",
      "Epoch 5/30\n",
      " - 1s - loss: 0.4321 - acc: 0.8141 - val_loss: 0.4065 - val_acc: 0.8298\n",
      "Epoch 6/30\n",
      " - 0s - loss: 0.3675 - acc: 0.8477 - val_loss: 0.3684 - val_acc: 0.8469\n",
      "Epoch 7/30\n",
      " - 0s - loss: 0.3536 - acc: 0.8581 - val_loss: 0.3550 - val_acc: 0.8482\n",
      "Epoch 8/30\n",
      " - 1s - loss: 0.3446 - acc: 0.8602 - val_loss: 0.3492 - val_acc: 0.8509\n",
      "Epoch 9/30\n",
      " - 0s - loss: 0.3382 - acc: 0.8630 - val_loss: 0.3433 - val_acc: 0.8614\n",
      "Epoch 10/30\n",
      " - 0s - loss: 0.3300 - acc: 0.8664 - val_loss: 0.3399 - val_acc: 0.8548\n",
      "Epoch 11/30\n",
      " - 1s - loss: 0.3271 - acc: 0.8670 - val_loss: 0.3307 - val_acc: 0.8660\n",
      "Epoch 12/30\n",
      " - 0s - loss: 0.3249 - acc: 0.8667 - val_loss: 0.3328 - val_acc: 0.8581\n",
      "Epoch 13/30\n",
      " - 0s - loss: 0.3203 - acc: 0.8683 - val_loss: 0.3270 - val_acc: 0.8633\n",
      "Epoch 14/30\n",
      " - 0s - loss: 0.3184 - acc: 0.8691 - val_loss: 0.3242 - val_acc: 0.8653\n",
      "Epoch 15/30\n",
      " - 0s - loss: 0.3146 - acc: 0.8718 - val_loss: 0.3229 - val_acc: 0.8620\n",
      "Epoch 16/30\n",
      " - 1s - loss: 0.3120 - acc: 0.8732 - val_loss: 0.3220 - val_acc: 0.8607\n",
      "Epoch 17/30\n",
      " - 0s - loss: 0.3102 - acc: 0.8737 - val_loss: 0.3225 - val_acc: 0.8640\n",
      "Epoch 18/30\n",
      " - 1s - loss: 0.3104 - acc: 0.8713 - val_loss: 0.3199 - val_acc: 0.8647\n",
      "Epoch 19/30\n",
      " - 1s - loss: 0.3073 - acc: 0.8731 - val_loss: 0.3206 - val_acc: 0.8633\n",
      "Epoch 20/30\n",
      " - 1s - loss: 0.3069 - acc: 0.8739 - val_loss: 0.3172 - val_acc: 0.8614\n",
      "Epoch 21/30\n",
      " - 0s - loss: 0.3045 - acc: 0.8748 - val_loss: 0.3183 - val_acc: 0.8640\n",
      "Epoch 22/30\n",
      " - 0s - loss: 0.3034 - acc: 0.8749 - val_loss: 0.3168 - val_acc: 0.8640\n",
      "Epoch 23/30\n",
      " - 0s - loss: 0.3040 - acc: 0.8743 - val_loss: 0.3128 - val_acc: 0.8620\n",
      "Epoch 24/30\n",
      " - 0s - loss: 0.3002 - acc: 0.8770 - val_loss: 0.3169 - val_acc: 0.8614\n",
      "Epoch 25/30\n",
      " - 0s - loss: 0.2986 - acc: 0.8779 - val_loss: 0.3112 - val_acc: 0.8601\n",
      "Epoch 26/30\n",
      " - 1s - loss: 0.3001 - acc: 0.8772 - val_loss: 0.3111 - val_acc: 0.8666\n",
      "Epoch 27/30\n",
      " - 1s - loss: 0.2961 - acc: 0.8774 - val_loss: 0.3098 - val_acc: 0.8647\n",
      "Epoch 28/30\n",
      " - 1s - loss: 0.2949 - acc: 0.8784 - val_loss: 0.3055 - val_acc: 0.8666\n",
      "Epoch 29/30\n",
      " - 0s - loss: 0.2955 - acc: 0.8768 - val_loss: 0.3158 - val_acc: 0.8633\n",
      "Epoch 30/30\n",
      " - 1s - loss: 0.2935 - acc: 0.8786 - val_loss: 0.3122 - val_acc: 0.8607\n"
     ]
    }
   ],
   "source": [
    "train_history =model.fit(x=train_Features, \n",
    "                         y=train_Label, \n",
    "                         validation_split=0.1, \n",
    "                         epochs=30, \n",
    "                         batch_size=400,verbose=2,callbacks=[early_stopping])"
   ]
  },
  {
   "cell_type": "code",
   "execution_count": 22,
   "metadata": {
    "collapsed": true
   },
   "outputs": [],
   "source": [
    "import matplotlib.pyplot as plt\n",
    "def show_train_history(train_history,train,validation):\n",
    "    plt.plot(train_history.history[train])\n",
    "    plt.plot(train_history.history[validation])\n",
    "    plt.title('Train History')\n",
    "    plt.ylabel(train)\n",
    "    plt.xlabel('Epoch')\n",
    "    plt.legend(['train', 'validation'], loc='upper left')\n",
    "    plt.show()"
   ]
  },
  {
   "cell_type": "code",
   "execution_count": 23,
   "metadata": {
    "collapsed": false
   },
   "outputs": [
    {
     "data": {
      "image/png": "[encoded data removed]",
      "text/plain": [
       "<matplotlib.figure.Figure at 0x7f6d03745518>"
      ]
     },
     "metadata": {},
     "output_type": "display_data"
    }
   ],
   "source": [
    "show_train_history(train_history,'acc','val_acc')"
   ]
  },
  {
   "cell_type": "code",
   "execution_count": 24,
   "metadata": {
    "collapsed": false
   },
   "outputs": [
    {
     "data": {
      "image/png": "[encoded data removed]",
      "text/plain": [
       "<matplotlib.figure.Figure at 0x7f6d03745f28>"
      ]
     },
     "metadata": {},
     "output_type": "display_data"
    }
   ],
   "source": [
    "show_train_history(train_history,'loss','val_loss')"
   ]
  },
  {
   "cell_type": "code",
   "execution_count": 25,
   "metadata": {
    "collapsed": false
   },
   "outputs": [
    {
     "name": "stdout",
     "output_type": "stream",
     "text": [
      "3804/3804 [==============================] - 0s 82us/step\n"
     ]
    }
   ],
   "source": [
    "scores = model.evaluate(x=test_Features, \n",
    "                        y=test_Label)"
   ]
  },
  {
   "cell_type": "code",
   "execution_count": 26,
   "metadata": {
    "collapsed": false
   },
   "outputs": [
    {
     "data": {
      "text/plain": [
       "0.8735541535226078"
      ]
     },
     "execution_count": 26,
     "metadata": {},
     "output_type": "execute_result"
    }
   ],
   "source": [
    "scores[1]"
   ]
  }
 ],
 "metadata": {
  "anaconda-cloud": {},
  "kernelspec": {
   "display_name": "Python [default]",
   "language": "python",
   "name": "python3"
  },
  "language_info": {
   "codemirror_mode": {
    "name": "ipython",
    "version": 3
   },
   "file_extension": ".py",
   "mimetype": "text/x-python",
   "name": "python",
   "nbconvert_exporter": "python",
   "pygments_lexer": "ipython3",
   "version": "3.5.2"
  }
 },
 "nbformat": 4,
 "nbformat_minor": 1
}
