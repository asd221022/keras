{
 "cells": [
  {
   "cell_type": "code",
   "execution_count": 1,
   "metadata": {
    "collapsed": false
   },
   "outputs": [],
   "source": [
    "import numpy as np\n",
    "import pandas as pd\n",
    "from sklearn.preprocessing import StandardScaler\n",
    "from sklearn.model_selection import train_test_split"
   ]
  },
  {
   "cell_type": "code",
   "execution_count": 2,
   "metadata": {
    "collapsed": false
   },
   "outputs": [],
   "source": [
    "Ynames = ['fLength', 'fWidth', 'fSize', 'fConc', 'fConc1', 'fAsym', \n",
    "             'fM3Long', 'fM3Trans', 'fAlpha', 'fDist', 'identity']\n",
    "featureNames = ['fLength', 'fWidth', 'fSize', 'fConc', 'fConc1', 'fAsym', \n",
    "             'fM3Long', 'fM3Trans', 'fAlpha', 'fDist']\n",
    "filepath = 'magic04.data'\n",
    "data = pd.read_csv(filepath, names=Ynames, header=None)\n",
    "data['identity']= data['identity'].map({'g':1, 'h': 0}).astype(int) \n",
    "X = data[featureNames].values.astype('float64')\n",
    "Y = data['identity'].values.astype('int64')"
   ]
  },
  {
   "cell_type": "code",
   "execution_count": 3,
   "metadata": {
    "collapsed": false
   },
   "outputs": [
    {
     "data": {
      "text/plain": [
       "array([[-0.70898729, -0.4357981 , -0.46153897,  0.70550899,  0.57410257,\n",
       "        -0.2316387 , -0.41414022,  0.47273373,  0.44863896, -0.76094154],\n",
       "       [-0.56662734, -0.36455475, -0.71355648,  0.07205868,  0.19132448,\n",
       "        -0.06818999, -0.65643034,  0.40145089, -0.87947609,  0.18669887]])"
      ]
     },
     "execution_count": 3,
     "metadata": {},
     "output_type": "execute_result"
    }
   ],
   "source": [
    "X = StandardScaler().fit_transform(X)\n",
    "train_Features, test_Features, train_Label, test_Label = train_test_split(X, Y, test_size=0.2, random_state=None) \n",
    "train_Features[:2]"
   ]
  },
  {
   "cell_type": "code",
   "execution_count": 4,
   "metadata": {
    "collapsed": false
   },
   "outputs": [
    {
     "data": {
      "text/plain": [
       "array([[-0.81366407, -0.81164897, -0.91669401,  2.33563154,  2.18756197,\n",
       "         0.15527611, -0.39962811,  0.01886379,  0.48746984,  0.01866689],\n",
       "       [-0.73607649, -0.51681491, -1.00662469,  0.63603733,  0.34515965,\n",
       "         0.36319272,  0.01096605,  0.35418507,  0.95542107,  0.02479564]])"
      ]
     },
     "execution_count": 4,
     "metadata": {},
     "output_type": "execute_result"
    }
   ],
   "source": [
    "test_Features[:2]"
   ]
  },
  {
   "cell_type": "code",
   "execution_count": 5,
   "metadata": {
    "collapsed": false
   },
   "outputs": [
    {
     "data": {
      "text/plain": [
       "array([1, 1, 1, 1])"
      ]
     },
     "execution_count": 5,
     "metadata": {},
     "output_type": "execute_result"
    }
   ],
   "source": [
    "train_Label[:4]"
   ]
  },
  {
   "cell_type": "code",
   "execution_count": 6,
   "metadata": {
    "collapsed": false
   },
   "outputs": [
    {
     "data": {
      "text/plain": [
       "(15216, 10)"
      ]
     },
     "execution_count": 6,
     "metadata": {},
     "output_type": "execute_result"
    }
   ],
   "source": [
    "train_Features.shape"
   ]
  },
  {
   "cell_type": "code",
   "execution_count": 7,
   "metadata": {
    "collapsed": false
   },
   "outputs": [
    {
     "data": {
      "text/plain": [
       "array([0, 0, 1, 1])"
      ]
     },
     "execution_count": 7,
     "metadata": {},
     "output_type": "execute_result"
    }
   ],
   "source": [
    "test_Label[:4]"
   ]
  },
  {
   "cell_type": "code",
   "execution_count": 8,
   "metadata": {
    "collapsed": false
   },
   "outputs": [
    {
     "name": "stderr",
     "output_type": "stream",
     "text": [
      "Using TensorFlow backend.\n"
     ]
    }
   ],
   "source": [
    "from keras.models import Sequential\n",
    "from keras.layers import Dense,Dropout\n",
    "from keras.callbacks import EarlyStopping\n",
    "early_stopping = EarlyStopping(monitor='val_loss', patience=3)"
   ]
  },
  {
   "cell_type": "code",
   "execution_count": 9,
   "metadata": {
    "collapsed": true
   },
   "outputs": [],
   "source": [
    "model = Sequential()"
   ]
  },
  {
   "cell_type": "code",
   "execution_count": 10,
   "metadata": {
    "collapsed": true
   },
   "outputs": [],
   "source": [
    "model.add(Dense(units=20*7,  input_dim=10, \n",
    "                kernel_initializer='uniform', \n",
    "                activation='relu'))"
   ]
  },
  {
   "cell_type": "code",
   "execution_count": 11,
   "metadata": {
    "collapsed": true
   },
   "outputs": [],
   "source": [
    "model.add(Dense(units=20*6, \n",
    "                kernel_initializer='uniform', \n",
    "                activation='relu'))"
   ]
  },
  {
   "cell_type": "code",
   "execution_count": 12,
   "metadata": {
    "collapsed": true
   },
   "outputs": [],
   "source": [
    "model.add(Dense(units=20*5, \n",
    "                kernel_initializer='uniform', \n",
    "                activation='relu'))"
   ]
  },
  {
   "cell_type": "code",
   "execution_count": 13,
   "metadata": {
    "collapsed": true
   },
   "outputs": [],
   "source": [
    "model.add(Dense(units=20*4, \n",
    "                kernel_initializer='uniform', \n",
    "                activation='relu'))"
   ]
  },
  {
   "cell_type": "code",
   "execution_count": 14,
   "metadata": {
    "collapsed": true
   },
   "outputs": [],
   "source": [
    "model.add(Dense(units=20*3, \n",
    "                kernel_initializer='uniform', \n",
    "                activation='relu'))"
   ]
  },
  {
   "cell_type": "code",
   "execution_count": 15,
   "metadata": {
    "collapsed": true
   },
   "outputs": [],
   "source": [
    "model.add(Dense(units=20*2, \n",
    "                kernel_initializer='uniform', \n",
    "                activation='relu'))"
   ]
  },
  {
   "cell_type": "code",
   "execution_count": 16,
   "metadata": {
    "collapsed": true
   },
   "outputs": [],
   "source": [
    "model.add(Dense(units=20, \n",
    "                kernel_initializer='uniform', \n",
    "                activation='relu'))"
   ]
  },
  {
   "cell_type": "code",
   "execution_count": 17,
   "metadata": {
    "collapsed": true
   },
   "outputs": [],
   "source": [
    "model.add(Dense(units=1, \n",
    "                kernel_initializer='uniform',\n",
    "                activation='sigmoid'))"
   ]
  },
  {
   "cell_type": "code",
   "execution_count": 18,
   "metadata": {
    "collapsed": false
   },
   "outputs": [
    {
     "name": "stdout",
     "output_type": "stream",
     "text": [
      "_________________________________________________________________\n",
      "Layer (type)                 Output Shape              Param #   \n",
      "=================================================================\n",
      "dense_1 (Dense)              (None, 140)               1540      \n",
      "_________________________________________________________________\n",
      "dense_2 (Dense)              (None, 120)               16920     \n",
      "_________________________________________________________________\n",
      "dense_3 (Dense)              (None, 100)               12100     \n",
      "_________________________________________________________________\n",
      "dense_4 (Dense)              (None, 80)                8080      \n",
      "_________________________________________________________________\n",
      "dense_5 (Dense)              (None, 60)                4860      \n",
      "_________________________________________________________________\n",
      "dense_6 (Dense)              (None, 40)                2440      \n",
      "_________________________________________________________________\n",
      "dense_7 (Dense)              (None, 20)                820       \n",
      "_________________________________________________________________\n",
      "dense_8 (Dense)              (None, 1)                 21        \n",
      "=================================================================\n",
      "Total params: 46,781\n",
      "Trainable params: 46,781\n",
      "Non-trainable params: 0\n",
      "_________________________________________________________________\n"
     ]
    }
   ],
   "source": [
    "model.summary()"
   ]
  },
  {
   "cell_type": "code",
   "execution_count": 19,
   "metadata": {
    "collapsed": true
   },
   "outputs": [],
   "source": [
    "model.compile(loss='binary_crossentropy', \n",
    "              optimizer='adam', metrics=['accuracy'])"
   ]
  },
  {
   "cell_type": "code",
   "execution_count": 20,
   "metadata": {
    "collapsed": false
   },
   "outputs": [
    {
     "name": "stdout",
     "output_type": "stream",
     "text": [
      "Train on 13694 samples, validate on 1522 samples\n",
      "Epoch 1/30\n",
      " - 2s - loss: 0.6895 - acc: 0.6412 - val_loss: 0.6839 - val_acc: 0.6373\n",
      "Epoch 2/30\n",
      " - 0s - loss: 0.5839 - acc: 0.6500 - val_loss: 0.4812 - val_acc: 0.6373\n",
      "Epoch 3/30\n",
      " - 0s - loss: 0.4436 - acc: 0.7817 - val_loss: 0.3699 - val_acc: 0.8489\n",
      "Epoch 4/30\n",
      " - 0s - loss: 0.3669 - acc: 0.8458 - val_loss: 0.3530 - val_acc: 0.8627\n",
      "Epoch 5/30\n",
      " - 0s - loss: 0.3491 - acc: 0.8586 - val_loss: 0.3401 - val_acc: 0.8640\n",
      "Epoch 6/30\n",
      " - 0s - loss: 0.3374 - acc: 0.8625 - val_loss: 0.3272 - val_acc: 0.8693\n",
      "Epoch 7/30\n",
      " - 0s - loss: 0.3316 - acc: 0.8641 - val_loss: 0.3190 - val_acc: 0.8739\n",
      "Epoch 8/30\n",
      " - 0s - loss: 0.3252 - acc: 0.8647 - val_loss: 0.3154 - val_acc: 0.8778\n",
      "Epoch 9/30\n",
      " - 0s - loss: 0.3242 - acc: 0.8663 - val_loss: 0.3118 - val_acc: 0.8745\n",
      "Epoch 10/30\n",
      " - 0s - loss: 0.3147 - acc: 0.8687 - val_loss: 0.3115 - val_acc: 0.8778\n",
      "Epoch 11/30\n",
      " - 0s - loss: 0.3149 - acc: 0.8696 - val_loss: 0.3049 - val_acc: 0.8739\n",
      "Epoch 12/30\n",
      " - 0s - loss: 0.3086 - acc: 0.8726 - val_loss: 0.3013 - val_acc: 0.8758\n",
      "Epoch 13/30\n",
      " - 0s - loss: 0.3063 - acc: 0.8728 - val_loss: 0.2994 - val_acc: 0.8784\n",
      "Epoch 14/30\n",
      " - 0s - loss: 0.3074 - acc: 0.8735 - val_loss: 0.3083 - val_acc: 0.8765\n",
      "Epoch 15/30\n",
      " - 0s - loss: 0.3025 - acc: 0.8763 - val_loss: 0.3017 - val_acc: 0.8771\n",
      "Epoch 16/30\n",
      " - 0s - loss: 0.3015 - acc: 0.8773 - val_loss: 0.2977 - val_acc: 0.8791\n",
      "Epoch 17/30\n",
      " - 0s - loss: 0.3009 - acc: 0.8756 - val_loss: 0.2945 - val_acc: 0.8798\n",
      "Epoch 18/30\n",
      " - 0s - loss: 0.2980 - acc: 0.8759 - val_loss: 0.2979 - val_acc: 0.8758\n",
      "Epoch 19/30\n",
      " - 0s - loss: 0.2983 - acc: 0.8761 - val_loss: 0.2982 - val_acc: 0.8811\n",
      "Epoch 20/30\n",
      " - 0s - loss: 0.2945 - acc: 0.8779 - val_loss: 0.2913 - val_acc: 0.8837\n",
      "Epoch 21/30\n",
      " - 0s - loss: 0.2953 - acc: 0.8781 - val_loss: 0.2948 - val_acc: 0.8791\n",
      "Epoch 22/30\n",
      " - 0s - loss: 0.2931 - acc: 0.8803 - val_loss: 0.2897 - val_acc: 0.8817\n",
      "Epoch 23/30\n",
      " - 0s - loss: 0.2905 - acc: 0.8812 - val_loss: 0.2952 - val_acc: 0.8758\n",
      "Epoch 24/30\n",
      " - 0s - loss: 0.2896 - acc: 0.8802 - val_loss: 0.3025 - val_acc: 0.8784\n",
      "Epoch 25/30\n",
      " - 0s - loss: 0.2920 - acc: 0.8804 - val_loss: 0.3000 - val_acc: 0.8693\n"
     ]
    }
   ],
   "source": [
    "train_history =model.fit(x=train_Features, \n",
    "                         y=train_Label, \n",
    "                         validation_split=0.1, \n",
    "                         epochs=30, \n",
    "                         batch_size=400,verbose=2,callbacks=[early_stopping])"
   ]
  },
  {
   "cell_type": "code",
   "execution_count": 21,
   "metadata": {
    "collapsed": true
   },
   "outputs": [],
   "source": [
    "import matplotlib.pyplot as plt\n",
    "def show_train_history(train_history,train,validation):\n",
    "    plt.plot(train_history.history[train])\n",
    "    plt.plot(train_history.history[validation])\n",
    "    plt.title('Train History')\n",
    "    plt.ylabel(train)\n",
    "    plt.xlabel('Epoch')\n",
    "    plt.legend(['train', 'validation'], loc='upper left')\n",
    "    plt.show()"
   ]
  },
  {
   "cell_type": "code",
   "execution_count": 22,
   "metadata": {
    "collapsed": false
   },
   "outputs": [
    {
     "data": {
      "image/png": "[encoded data removed]",
      "text/plain": [
       "<matplotlib.figure.Figure at 0x7facbdd30e80>"
      ]
     },
     "metadata": {},
     "output_type": "display_data"
    }
   ],
   "source": [
    "show_train_history(train_history,'acc','val_acc')"
   ]
  },
  {
   "cell_type": "code",
   "execution_count": 23,
   "metadata": {
    "collapsed": false
   },
   "outputs": [
    {
     "data": {
      "image/png": "[encoded data removed]",
      "text/plain": [
       "<matplotlib.figure.Figure at 0x7facbfe402e8>"
      ]
     },
     "metadata": {},
     "output_type": "display_data"
    }
   ],
   "source": [
    "show_train_history(train_history,'loss','val_loss')"
   ]
  },
  {
   "cell_type": "code",
   "execution_count": 24,
   "metadata": {
    "collapsed": false
   },
   "outputs": [
    {
     "name": "stdout",
     "output_type": "stream",
     "text": [
      "3804/3804 [==============================] - 0s 31us/step\n"
     ]
    }
   ],
   "source": [
    "scores = model.evaluate(x=test_Features, \n",
    "                        y=test_Label)"
   ]
  },
  {
   "cell_type": "code",
   "execution_count": 25,
   "metadata": {
    "collapsed": false
   },
   "outputs": [
    {
     "data": {
      "text/plain": [
       "0.8648790747836059"
      ]
     },
     "execution_count": 25,
     "metadata": {},
     "output_type": "execute_result"
    }
   ],
   "source": [
    "scores[1]"
   ]
  }
 ],
 "metadata": {
  "anaconda-cloud": {},
  "kernelspec": {
   "display_name": "Python [default]",
   "language": "python",
   "name": "python3"
  },
  "language_info": {
   "codemirror_mode": {
    "name": "ipython",
    "version": 3
   },
   "file_extension": ".py",
   "mimetype": "text/x-python",
   "name": "python",
   "nbconvert_exporter": "python",
   "pygments_lexer": "ipython3",
   "version": "3.5.2"
  }
 },
 "nbformat": 4,
 "nbformat_minor": 1
}
