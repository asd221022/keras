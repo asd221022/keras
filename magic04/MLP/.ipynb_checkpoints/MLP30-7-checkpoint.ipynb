{
 "cells": [
  {
   "cell_type": "code",
   "execution_count": 1,
   "metadata": {
    "collapsed": false
   },
   "outputs": [],
   "source": [
    "import numpy as np\n",
    "import pandas as pd\n",
    "from sklearn.preprocessing import StandardScaler\n",
    "from sklearn.model_selection import train_test_split"
   ]
  },
  {
   "cell_type": "code",
   "execution_count": 2,
   "metadata": {
    "collapsed": false
   },
   "outputs": [],
   "source": [
    "Ynames = ['fLength', 'fWidth', 'fSize', 'fConc', 'fConc1', 'fAsym', \n",
    "             'fM3Long', 'fM3Trans', 'fAlpha', 'fDist', 'identity']\n",
    "featureNames = ['fLength', 'fWidth', 'fSize', 'fConc', 'fConc1', 'fAsym', \n",
    "             'fM3Long', 'fM3Trans', 'fAlpha', 'fDist']\n",
    "filepath = 'magic04.data'\n",
    "data = pd.read_csv(filepath, names=Ynames, header=None)\n",
    "data['identity']= data['identity'].map({'g':1, 'h': 0}).astype(int) \n",
    "X = data[featureNames].values.astype('float64')\n",
    "Y = data['identity'].values.astype('int64')"
   ]
  },
  {
   "cell_type": "code",
   "execution_count": 3,
   "metadata": {
    "collapsed": false
   },
   "outputs": [
    {
     "data": {
      "text/plain": [
       "array([[-0.55270978, -0.59028222, -0.80433356,  0.59446373,  0.72522299,\n",
       "         0.24078142, -0.38409636,  0.76964314, -0.40038819,  0.49151159],\n",
       "       [ 3.96857882,  1.97842454,  0.99152919, -0.89233932, -0.87647254,\n",
       "        -4.06222892,  2.54254047, -2.0589547 ,  1.56642517, -0.18684678]])"
      ]
     },
     "execution_count": 3,
     "metadata": {},
     "output_type": "execute_result"
    }
   ],
   "source": [
    "X = StandardScaler().fit_transform(X)\n",
    "train_Features, test_Features, train_Label, test_Label = train_test_split(X, Y, test_size=0.2, random_state=None) \n",
    "train_Features[:2]"
   ]
  },
  {
   "cell_type": "code",
   "execution_count": 4,
   "metadata": {
    "collapsed": false
   },
   "outputs": [
    {
     "data": {
      "text/plain": [
       "array([[-0.42992789, -0.42045925, -0.21057948, -0.33109579, -0.43578004,\n",
       "         0.10837427,  0.02377616, -0.53014757, -0.62294555,  0.36958436],\n",
       "       [ 0.56609604,  0.04800252,  0.64852301, -1.05808668, -0.89638062,\n",
       "         1.42725531,  1.41591542, -0.62750248, -0.79143235,  0.08297857]])"
      ]
     },
     "execution_count": 4,
     "metadata": {},
     "output_type": "execute_result"
    }
   ],
   "source": [
    "test_Features[:2]"
   ]
  },
  {
   "cell_type": "code",
   "execution_count": 5,
   "metadata": {
    "collapsed": false
   },
   "outputs": [
    {
     "data": {
      "text/plain": [
       "array([0, 0, 1, 1])"
      ]
     },
     "execution_count": 5,
     "metadata": {},
     "output_type": "execute_result"
    }
   ],
   "source": [
    "train_Label[:4]"
   ]
  },
  {
   "cell_type": "code",
   "execution_count": 6,
   "metadata": {
    "collapsed": false
   },
   "outputs": [
    {
     "data": {
      "text/plain": [
       "(15216, 10)"
      ]
     },
     "execution_count": 6,
     "metadata": {},
     "output_type": "execute_result"
    }
   ],
   "source": [
    "train_Features.shape"
   ]
  },
  {
   "cell_type": "code",
   "execution_count": 7,
   "metadata": {
    "collapsed": false
   },
   "outputs": [
    {
     "data": {
      "text/plain": [
       "array([1, 1, 1, 0])"
      ]
     },
     "execution_count": 7,
     "metadata": {},
     "output_type": "execute_result"
    }
   ],
   "source": [
    "test_Label[:4]"
   ]
  },
  {
   "cell_type": "code",
   "execution_count": 8,
   "metadata": {
    "collapsed": false
   },
   "outputs": [
    {
     "name": "stderr",
     "output_type": "stream",
     "text": [
      "Using TensorFlow backend.\n"
     ]
    }
   ],
   "source": [
    "from keras.models import Sequential\n",
    "from keras.layers import Dense,Dropout\n",
    "from keras.callbacks import EarlyStopping\n",
    "early_stopping = EarlyStopping(monitor='val_loss', patience=3)"
   ]
  },
  {
   "cell_type": "code",
   "execution_count": 9,
   "metadata": {
    "collapsed": true
   },
   "outputs": [],
   "source": [
    "model = Sequential()"
   ]
  },
  {
   "cell_type": "code",
   "execution_count": 10,
   "metadata": {
    "collapsed": true
   },
   "outputs": [],
   "source": [
    "model.add(Dense(units=30*7,  input_dim=10, \n",
    "                kernel_initializer='uniform', \n",
    "                activation='relu'))"
   ]
  },
  {
   "cell_type": "code",
   "execution_count": 11,
   "metadata": {
    "collapsed": true
   },
   "outputs": [],
   "source": [
    "model.add(Dense(units=30*6, \n",
    "                kernel_initializer='uniform', \n",
    "                activation='relu'))"
   ]
  },
  {
   "cell_type": "code",
   "execution_count": 12,
   "metadata": {
    "collapsed": true
   },
   "outputs": [],
   "source": [
    "model.add(Dense(units=30*5, \n",
    "                kernel_initializer='uniform', \n",
    "                activation='relu'))"
   ]
  },
  {
   "cell_type": "code",
   "execution_count": 13,
   "metadata": {
    "collapsed": true
   },
   "outputs": [],
   "source": [
    "model.add(Dense(units=30*4, \n",
    "                kernel_initializer='uniform', \n",
    "                activation='relu'))"
   ]
  },
  {
   "cell_type": "code",
   "execution_count": 14,
   "metadata": {
    "collapsed": true
   },
   "outputs": [],
   "source": [
    "model.add(Dense(units=30*3, \n",
    "                kernel_initializer='uniform', \n",
    "                activation='relu'))"
   ]
  },
  {
   "cell_type": "code",
   "execution_count": 15,
   "metadata": {
    "collapsed": true
   },
   "outputs": [],
   "source": [
    "model.add(Dense(units=30*2, \n",
    "                kernel_initializer='uniform', \n",
    "                activation='relu'))"
   ]
  },
  {
   "cell_type": "code",
   "execution_count": 16,
   "metadata": {
    "collapsed": true
   },
   "outputs": [],
   "source": [
    "model.add(Dense(units=30, \n",
    "                kernel_initializer='uniform', \n",
    "                activation='relu'))"
   ]
  },
  {
   "cell_type": "code",
   "execution_count": 17,
   "metadata": {
    "collapsed": true
   },
   "outputs": [],
   "source": [
    "model.add(Dense(units=1, \n",
    "                kernel_initializer='uniform',\n",
    "                activation='sigmoid'))"
   ]
  },
  {
   "cell_type": "code",
   "execution_count": 18,
   "metadata": {
    "collapsed": false
   },
   "outputs": [
    {
     "name": "stdout",
     "output_type": "stream",
     "text": [
      "_________________________________________________________________\n",
      "Layer (type)                 Output Shape              Param #   \n",
      "=================================================================\n",
      "dense_1 (Dense)              (None, 70)                770       \n",
      "_________________________________________________________________\n",
      "dense_2 (Dense)              (None, 60)                4260      \n",
      "_________________________________________________________________\n",
      "dense_3 (Dense)              (None, 50)                3050      \n",
      "_________________________________________________________________\n",
      "dense_4 (Dense)              (None, 40)                2040      \n",
      "_________________________________________________________________\n",
      "dense_5 (Dense)              (None, 30)                1230      \n",
      "_________________________________________________________________\n",
      "dense_6 (Dense)              (None, 20)                620       \n",
      "_________________________________________________________________\n",
      "dense_7 (Dense)              (None, 10)                210       \n",
      "_________________________________________________________________\n",
      "dense_8 (Dense)              (None, 1)                 11        \n",
      "=================================================================\n",
      "Total params: 12,191\n",
      "Trainable params: 12,191\n",
      "Non-trainable params: 0\n",
      "_________________________________________________________________\n"
     ]
    }
   ],
   "source": [
    "model.summary()"
   ]
  },
  {
   "cell_type": "code",
   "execution_count": 19,
   "metadata": {
    "collapsed": true
   },
   "outputs": [],
   "source": [
    "model.compile(loss='binary_crossentropy', \n",
    "              optimizer='adam', metrics=['accuracy'])"
   ]
  },
  {
   "cell_type": "code",
   "execution_count": 20,
   "metadata": {
    "collapsed": false
   },
   "outputs": [
    {
     "name": "stdout",
     "output_type": "stream",
     "text": [
      "Train on 13694 samples, validate on 1522 samples\n",
      "Epoch 1/30\n",
      " - 2s - loss: 0.6899 - acc: 0.6420 - val_loss: 0.6862 - val_acc: 0.6334\n",
      "Epoch 2/30\n",
      " - 0s - loss: 0.6643 - acc: 0.6509 - val_loss: 0.5841 - val_acc: 0.6334\n",
      "Epoch 3/30\n",
      " - 0s - loss: 0.5074 - acc: 0.6509 - val_loss: 0.5087 - val_acc: 0.6334\n",
      "Epoch 4/30\n",
      " - 0s - loss: 0.4719 - acc: 0.6515 - val_loss: 0.4923 - val_acc: 0.6629\n",
      "Epoch 5/30\n",
      " - 0s - loss: 0.4537 - acc: 0.8183 - val_loss: 0.4637 - val_acc: 0.8311\n",
      "Epoch 6/30\n",
      " - 0s - loss: 0.4055 - acc: 0.8435 - val_loss: 0.4038 - val_acc: 0.8338\n",
      "Epoch 7/30\n",
      " - 0s - loss: 0.3593 - acc: 0.8526 - val_loss: 0.3851 - val_acc: 0.8449\n",
      "Epoch 8/30\n",
      " - 0s - loss: 0.3453 - acc: 0.8591 - val_loss: 0.3881 - val_acc: 0.8502\n",
      "Epoch 9/30\n",
      " - 0s - loss: 0.3376 - acc: 0.8638 - val_loss: 0.3771 - val_acc: 0.8469\n",
      "Epoch 10/30\n",
      " - 0s - loss: 0.3293 - acc: 0.8665 - val_loss: 0.3666 - val_acc: 0.8495\n",
      "Epoch 11/30\n",
      " - 0s - loss: 0.3271 - acc: 0.8662 - val_loss: 0.3624 - val_acc: 0.8495\n",
      "Epoch 12/30\n",
      " - 0s - loss: 0.3224 - acc: 0.8686 - val_loss: 0.3640 - val_acc: 0.8463\n",
      "Epoch 13/30\n",
      " - 0s - loss: 0.3204 - acc: 0.8683 - val_loss: 0.3568 - val_acc: 0.8541\n",
      "Epoch 14/30\n",
      " - 0s - loss: 0.3181 - acc: 0.8684 - val_loss: 0.3530 - val_acc: 0.8509\n",
      "Epoch 15/30\n",
      " - 1s - loss: 0.3162 - acc: 0.8697 - val_loss: 0.3479 - val_acc: 0.8548\n",
      "Epoch 16/30\n",
      " - 1s - loss: 0.3128 - acc: 0.8721 - val_loss: 0.3473 - val_acc: 0.8555\n",
      "Epoch 17/30\n",
      " - 0s - loss: 0.3093 - acc: 0.8716 - val_loss: 0.3460 - val_acc: 0.8594\n",
      "Epoch 18/30\n",
      " - 0s - loss: 0.3090 - acc: 0.8733 - val_loss: 0.3509 - val_acc: 0.8548\n",
      "Epoch 19/30\n",
      " - 0s - loss: 0.3084 - acc: 0.8727 - val_loss: 0.3431 - val_acc: 0.8620\n",
      "Epoch 20/30\n",
      " - 0s - loss: 0.3051 - acc: 0.8738 - val_loss: 0.3467 - val_acc: 0.8568\n",
      "Epoch 21/30\n",
      " - 0s - loss: 0.3072 - acc: 0.8734 - val_loss: 0.3468 - val_acc: 0.8587\n",
      "Epoch 22/30\n",
      " - 0s - loss: 0.3042 - acc: 0.8766 - val_loss: 0.3381 - val_acc: 0.8640\n",
      "Epoch 23/30\n",
      " - 0s - loss: 0.3039 - acc: 0.8742 - val_loss: 0.3372 - val_acc: 0.8627\n",
      "Epoch 24/30\n",
      " - 1s - loss: 0.3037 - acc: 0.8743 - val_loss: 0.3430 - val_acc: 0.8522\n",
      "Epoch 25/30\n",
      " - 0s - loss: 0.3008 - acc: 0.8759 - val_loss: 0.3371 - val_acc: 0.8607\n",
      "Epoch 26/30\n",
      " - 0s - loss: 0.2999 - acc: 0.8760 - val_loss: 0.3357 - val_acc: 0.8594\n",
      "Epoch 27/30\n",
      " - 0s - loss: 0.2983 - acc: 0.8775 - val_loss: 0.3359 - val_acc: 0.8581\n",
      "Epoch 28/30\n",
      " - 0s - loss: 0.2994 - acc: 0.8755 - val_loss: 0.3347 - val_acc: 0.8614\n",
      "Epoch 29/30\n",
      " - 0s - loss: 0.2970 - acc: 0.8780 - val_loss: 0.3314 - val_acc: 0.8686\n",
      "Epoch 30/30\n",
      " - 0s - loss: 0.2952 - acc: 0.8797 - val_loss: 0.3391 - val_acc: 0.8620\n"
     ]
    }
   ],
   "source": [
    "train_history =model.fit(x=train_Features, \n",
    "                         y=train_Label, \n",
    "                         validation_split=0.1, \n",
    "                         epochs=30, \n",
    "                         batch_size=400,verbose=2,callbacks=[early_stopping])"
   ]
  },
  {
   "cell_type": "code",
   "execution_count": 21,
   "metadata": {
    "collapsed": true
   },
   "outputs": [],
   "source": [
    "import matplotlib.pyplot as plt\n",
    "def show_train_history(train_history,train,validation):\n",
    "    plt.plot(train_history.history[train])\n",
    "    plt.plot(train_history.history[validation])\n",
    "    plt.title('Train History')\n",
    "    plt.ylabel(train)\n",
    "    plt.xlabel('Epoch')\n",
    "    plt.legend(['train', 'validation'], loc='upper left')\n",
    "    plt.show()"
   ]
  },
  {
   "cell_type": "code",
   "execution_count": 22,
   "metadata": {
    "collapsed": false
   },
   "outputs": [
    {
     "data": {
      "image/png": "[encoded data removed]",
      "text/plain": [
       "<matplotlib.figure.Figure at 0x7f7769a42c18>"
      ]
     },
     "metadata": {},
     "output_type": "display_data"
    }
   ],
   "source": [
    "show_train_history(train_history,'acc','val_acc')"
   ]
  },
  {
   "cell_type": "code",
   "execution_count": 23,
   "metadata": {
    "collapsed": false
   },
   "outputs": [
    {
     "data": {
      "image/png": "[encoded data removed]",
      "text/plain": [
       "<matplotlib.figure.Figure at 0x7f7769a420f0>"
      ]
     },
     "metadata": {},
     "output_type": "display_data"
    }
   ],
   "source": [
    "show_train_history(train_history,'loss','val_loss')"
   ]
  },
  {
   "cell_type": "code",
   "execution_count": 24,
   "metadata": {
    "collapsed": false
   },
   "outputs": [
    {
     "name": "stdout",
     "output_type": "stream",
     "text": [
      "3804/3804 [==============================] - 0s 75us/step\n"
     ]
    }
   ],
   "source": [
    "scores = model.evaluate(x=test_Features, \n",
    "                        y=test_Label)"
   ]
  },
  {
   "cell_type": "code",
   "execution_count": 25,
   "metadata": {
    "collapsed": false
   },
   "outputs": [
    {
     "data": {
      "text/plain": [
       "0.8688222922611939"
      ]
     },
     "execution_count": 25,
     "metadata": {},
     "output_type": "execute_result"
    }
   ],
   "source": [
    "scores[1]"
   ]
  }
 ],
 "metadata": {
  "anaconda-cloud": {},
  "kernelspec": {
   "display_name": "Python [default]",
   "language": "python",
   "name": "python3"
  },
  "language_info": {
   "codemirror_mode": {
    "name": "ipython",
    "version": 3
   },
   "file_extension": ".py",
   "mimetype": "text/x-python",
   "name": "python",
   "nbconvert_exporter": "python",
   "pygments_lexer": "ipython3",
   "version": "3.5.2"
  }
 },
 "nbformat": 4,
 "nbformat_minor": 1
}
