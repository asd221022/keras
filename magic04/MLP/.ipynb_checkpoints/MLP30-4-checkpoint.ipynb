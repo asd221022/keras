{
 "cells": [
  {
   "cell_type": "code",
   "execution_count": 1,
   "metadata": {
    "collapsed": false
   },
   "outputs": [],
   "source": [
    "import numpy as np\n",
    "import pandas as pd\n",
    "from sklearn.preprocessing import StandardScaler\n",
    "from sklearn.model_selection import train_test_split"
   ]
  },
  {
   "cell_type": "code",
   "execution_count": 2,
   "metadata": {
    "collapsed": false
   },
   "outputs": [],
   "source": [
    "Ynames = ['fLength', 'fWidth', 'fSize', 'fConc', 'fConc1', 'fAsym', \n",
    "             'fM3Long', 'fM3Trans', 'fAlpha', 'fDist', 'identity']\n",
    "featureNames = ['fLength', 'fWidth', 'fSize', 'fConc', 'fConc1', 'fAsym', \n",
    "             'fM3Long', 'fM3Trans', 'fAlpha', 'fDist']\n",
    "filepath = 'magic04.data'\n",
    "data = pd.read_csv(filepath, names=Ynames, header=None)\n",
    "data['identity']= data['identity'].map({'g':1, 'h': 0}).astype(int) \n",
    "X = data[featureNames].values.astype('float64')\n",
    "Y = data['identity'].values.astype('int64')"
   ]
  },
  {
   "cell_type": "code",
   "execution_count": 3,
   "metadata": {
    "collapsed": false
   },
   "outputs": [
    {
     "data": {
      "text/plain": [
       "array([[-0.73286148, -0.61273451, -0.92219565,  1.22408489,  1.25278712,\n",
       "         0.3491144 ,  0.1613324 , -0.33172622,  0.90021655, -0.48842651],\n",
       "       [-0.84806377, -0.60956753, -1.09063052,  1.11030452,  1.14057794,\n",
       "         0.09278086, -0.32366942,  0.30014916,  0.16229184,  0.72052859]])"
      ]
     },
     "execution_count": 3,
     "metadata": {},
     "output_type": "execute_result"
    }
   ],
   "source": [
    "X = StandardScaler().fit_transform(X)\n",
    "train_Features, test_Features, train_Label, test_Label = train_test_split(X, Y, test_size=0.2, random_state=None) \n",
    "train_Features[:2]"
   ]
  },
  {
   "cell_type": "code",
   "execution_count": 4,
   "metadata": {
    "collapsed": false
   },
   "outputs": [
    {
     "data": {
      "text/plain": [
       "array([[-0.05427174, -0.33709309,  0.22997505, -0.1177576 ,  0.0863546 ,\n",
       "        -0.75581334,  0.58046402, -0.21429151, -0.90238923,  1.17873923],\n",
       "       [-0.81585934, -0.47107091, -0.89638026,  1.89199752,  1.450963  ,\n",
       "         0.45876821, -0.41844032,  0.45654312,  0.24363902, -0.91433412]])"
      ]
     },
     "execution_count": 4,
     "metadata": {},
     "output_type": "execute_result"
    }
   ],
   "source": [
    "test_Features[:2]"
   ]
  },
  {
   "cell_type": "code",
   "execution_count": 5,
   "metadata": {
    "collapsed": false
   },
   "outputs": [
    {
     "data": {
      "text/plain": [
       "array([1, 0, 1, 0])"
      ]
     },
     "execution_count": 5,
     "metadata": {},
     "output_type": "execute_result"
    }
   ],
   "source": [
    "train_Label[:4]"
   ]
  },
  {
   "cell_type": "code",
   "execution_count": 6,
   "metadata": {
    "collapsed": false
   },
   "outputs": [
    {
     "data": {
      "text/plain": [
       "(15216, 10)"
      ]
     },
     "execution_count": 6,
     "metadata": {},
     "output_type": "execute_result"
    }
   ],
   "source": [
    "train_Features.shape"
   ]
  },
  {
   "cell_type": "code",
   "execution_count": 7,
   "metadata": {
    "collapsed": false
   },
   "outputs": [
    {
     "data": {
      "text/plain": [
       "array([1, 1, 0, 0])"
      ]
     },
     "execution_count": 7,
     "metadata": {},
     "output_type": "execute_result"
    }
   ],
   "source": [
    "test_Label[:4]"
   ]
  },
  {
   "cell_type": "code",
   "execution_count": 8,
   "metadata": {
    "collapsed": false
   },
   "outputs": [
    {
     "name": "stderr",
     "output_type": "stream",
     "text": [
      "Using TensorFlow backend.\n"
     ]
    }
   ],
   "source": [
    "from keras.models import Sequential\n",
    "from keras.layers import Dense,Dropout\n",
    "from keras.callbacks import EarlyStopping\n",
    "early_stopping = EarlyStopping(monitor='val_loss', patience=3)"
   ]
  },
  {
   "cell_type": "code",
   "execution_count": 9,
   "metadata": {
    "collapsed": true
   },
   "outputs": [],
   "source": [
    "model = Sequential()"
   ]
  },
  {
   "cell_type": "code",
   "execution_count": 10,
   "metadata": {
    "collapsed": true
   },
   "outputs": [],
   "source": [
    "model.add(Dense(units=30*4,  input_dim=10, \n",
    "                kernel_initializer='uniform', \n",
    "                activation='relu'))"
   ]
  },
  {
   "cell_type": "code",
   "execution_count": 11,
   "metadata": {
    "collapsed": true
   },
   "outputs": [],
   "source": [
    "model.add(Dense(units=30*3, \n",
    "                kernel_initializer='uniform', \n",
    "                activation='relu'))"
   ]
  },
  {
   "cell_type": "code",
   "execution_count": 12,
   "metadata": {
    "collapsed": true
   },
   "outputs": [],
   "source": [
    "model.add(Dense(units=30*2, \n",
    "                kernel_initializer='uniform', \n",
    "                activation='relu'))"
   ]
  },
  {
   "cell_type": "code",
   "execution_count": 13,
   "metadata": {
    "collapsed": true
   },
   "outputs": [],
   "source": [
    "model.add(Dense(units=30, \n",
    "                kernel_initializer='uniform', \n",
    "                activation='relu'))"
   ]
  },
  {
   "cell_type": "code",
   "execution_count": 14,
   "metadata": {
    "collapsed": true
   },
   "outputs": [],
   "source": [
    "model.add(Dense(units=1, \n",
    "                kernel_initializer='uniform',\n",
    "                activation='sigmoid'))"
   ]
  },
  {
   "cell_type": "code",
   "execution_count": 15,
   "metadata": {
    "collapsed": false
   },
   "outputs": [
    {
     "name": "stdout",
     "output_type": "stream",
     "text": [
      "_________________________________________________________________\n",
      "Layer (type)                 Output Shape              Param #   \n",
      "=================================================================\n",
      "dense_1 (Dense)              (None, 120)               1320      \n",
      "_________________________________________________________________\n",
      "dense_2 (Dense)              (None, 90)                10890     \n",
      "_________________________________________________________________\n",
      "dense_3 (Dense)              (None, 60)                5460      \n",
      "_________________________________________________________________\n",
      "dense_4 (Dense)              (None, 30)                1830      \n",
      "_________________________________________________________________\n",
      "dense_5 (Dense)              (None, 1)                 31        \n",
      "=================================================================\n",
      "Total params: 19,531\n",
      "Trainable params: 19,531\n",
      "Non-trainable params: 0\n",
      "_________________________________________________________________\n"
     ]
    }
   ],
   "source": [
    "model.summary()"
   ]
  },
  {
   "cell_type": "code",
   "execution_count": 16,
   "metadata": {
    "collapsed": true
   },
   "outputs": [],
   "source": [
    "model.compile(loss='binary_crossentropy', \n",
    "              optimizer='adam', metrics=['accuracy'])"
   ]
  },
  {
   "cell_type": "code",
   "execution_count": 17,
   "metadata": {
    "collapsed": false
   },
   "outputs": [
    {
     "name": "stdout",
     "output_type": "stream",
     "text": [
      "Train on 13694 samples, validate on 1522 samples\n",
      "Epoch 1/30\n",
      " - 2s - loss: 0.6746 - acc: 0.6837 - val_loss: 0.5910 - val_acc: 0.7694\n",
      "Epoch 2/30\n",
      " - 0s - loss: 0.4531 - acc: 0.8015 - val_loss: 0.4218 - val_acc: 0.8049\n",
      "Epoch 3/30\n",
      " - 0s - loss: 0.3900 - acc: 0.8270 - val_loss: 0.4029 - val_acc: 0.8200\n",
      "Epoch 4/30\n",
      " - 0s - loss: 0.3695 - acc: 0.8414 - val_loss: 0.3815 - val_acc: 0.8410\n",
      "Epoch 5/30\n",
      " - 0s - loss: 0.3582 - acc: 0.8505 - val_loss: 0.3659 - val_acc: 0.8456\n",
      "Epoch 6/30\n",
      " - 0s - loss: 0.3496 - acc: 0.8565 - val_loss: 0.3652 - val_acc: 0.8535\n",
      "Epoch 7/30\n",
      " - 0s - loss: 0.3447 - acc: 0.8576 - val_loss: 0.3546 - val_acc: 0.8509\n",
      "Epoch 8/30\n",
      " - 0s - loss: 0.3418 - acc: 0.8595 - val_loss: 0.3541 - val_acc: 0.8528\n",
      "Epoch 9/30\n",
      " - 0s - loss: 0.3320 - acc: 0.8651 - val_loss: 0.3561 - val_acc: 0.8555\n",
      "Epoch 10/30\n",
      " - 0s - loss: 0.3306 - acc: 0.8664 - val_loss: 0.3479 - val_acc: 0.8535\n",
      "Epoch 11/30\n",
      " - 0s - loss: 0.3250 - acc: 0.8666 - val_loss: 0.3491 - val_acc: 0.8548\n",
      "Epoch 12/30\n",
      " - 0s - loss: 0.3230 - acc: 0.8686 - val_loss: 0.3476 - val_acc: 0.8541\n",
      "Epoch 13/30\n",
      " - 0s - loss: 0.3206 - acc: 0.8682 - val_loss: 0.3477 - val_acc: 0.8548\n",
      "Epoch 14/30\n",
      " - 0s - loss: 0.3194 - acc: 0.8685 - val_loss: 0.3589 - val_acc: 0.8502\n",
      "Epoch 15/30\n",
      " - 0s - loss: 0.3161 - acc: 0.8729 - val_loss: 0.3395 - val_acc: 0.8640\n",
      "Epoch 16/30\n",
      " - 0s - loss: 0.3126 - acc: 0.8737 - val_loss: 0.3447 - val_acc: 0.8528\n",
      "Epoch 17/30\n",
      " - 0s - loss: 0.3130 - acc: 0.8722 - val_loss: 0.3391 - val_acc: 0.8614\n",
      "Epoch 18/30\n",
      " - 0s - loss: 0.3093 - acc: 0.8742 - val_loss: 0.3380 - val_acc: 0.8561\n",
      "Epoch 19/30\n",
      " - 0s - loss: 0.3110 - acc: 0.8718 - val_loss: 0.3434 - val_acc: 0.8574\n",
      "Epoch 20/30\n",
      " - 0s - loss: 0.3083 - acc: 0.8759 - val_loss: 0.3377 - val_acc: 0.8587\n",
      "Epoch 21/30\n",
      " - 0s - loss: 0.3053 - acc: 0.8757 - val_loss: 0.3353 - val_acc: 0.8581\n",
      "Epoch 22/30\n",
      " - 0s - loss: 0.3051 - acc: 0.8759 - val_loss: 0.3418 - val_acc: 0.8568\n",
      "Epoch 23/30\n",
      " - 0s - loss: 0.3028 - acc: 0.8772 - val_loss: 0.3383 - val_acc: 0.8561\n",
      "Epoch 24/30\n",
      " - 0s - loss: 0.3030 - acc: 0.8764 - val_loss: 0.3402 - val_acc: 0.8561\n"
     ]
    }
   ],
   "source": [
    "train_history =model.fit(x=train_Features, \n",
    "                         y=train_Label, \n",
    "                         validation_split=0.1, \n",
    "                         epochs=30, \n",
    "                         batch_size=400,verbose=2,callbacks=[early_stopping])"
   ]
  },
  {
   "cell_type": "code",
   "execution_count": 18,
   "metadata": {
    "collapsed": true
   },
   "outputs": [],
   "source": [
    "import matplotlib.pyplot as plt\n",
    "def show_train_history(train_history,train,validation):\n",
    "    plt.plot(train_history.history[train])\n",
    "    plt.plot(train_history.history[validation])\n",
    "    plt.title('Train History')\n",
    "    plt.ylabel(train)\n",
    "    plt.xlabel('Epoch')\n",
    "    plt.legend(['train', 'validation'], loc='upper left')\n",
    "    plt.show()"
   ]
  },
  {
   "cell_type": "code",
   "execution_count": 19,
   "metadata": {
    "collapsed": false
   },
   "outputs": [
    {
     "data": {
      "image/png": "[encoded data removed]",
      "text/plain": [
       "<matplotlib.figure.Figure at 0x7f60228c26a0>"
      ]
     },
     "metadata": {},
     "output_type": "display_data"
    }
   ],
   "source": [
    "show_train_history(train_history,'acc','val_acc')"
   ]
  },
  {
   "cell_type": "code",
   "execution_count": 20,
   "metadata": {
    "collapsed": false
   },
   "outputs": [
    {
     "data": {
      "image/png": "[encoded data removed]",
      "text/plain": [
       "<matplotlib.figure.Figure at 0x7f60228c2cf8>"
      ]
     },
     "metadata": {},
     "output_type": "display_data"
    }
   ],
   "source": [
    "show_train_history(train_history,'loss','val_loss')"
   ]
  },
  {
   "cell_type": "code",
   "execution_count": 21,
   "metadata": {
    "collapsed": false
   },
   "outputs": [
    {
     "name": "stdout",
     "output_type": "stream",
     "text": [
      "3804/3804 [==============================] - 0s 114us/step\n"
     ]
    }
   ],
   "source": [
    "scores = model.evaluate(x=test_Features, \n",
    "                        y=test_Label)"
   ]
  },
  {
   "cell_type": "code",
   "execution_count": 22,
   "metadata": {
    "collapsed": false
   },
   "outputs": [
    {
     "data": {
      "text/plain": [
       "0.8717139854666813"
      ]
     },
     "execution_count": 22,
     "metadata": {},
     "output_type": "execute_result"
    }
   ],
   "source": [
    "scores[1]"
   ]
  }
 ],
 "metadata": {
  "anaconda-cloud": {},
  "kernelspec": {
   "display_name": "Python [default]",
   "language": "python",
   "name": "python3"
  },
  "language_info": {
   "codemirror_mode": {
    "name": "ipython",
    "version": 3
   },
   "file_extension": ".py",
   "mimetype": "text/x-python",
   "name": "python",
   "nbconvert_exporter": "python",
   "pygments_lexer": "ipython3",
   "version": "3.5.2"
  }
 },
 "nbformat": 4,
 "nbformat_minor": 1
}
