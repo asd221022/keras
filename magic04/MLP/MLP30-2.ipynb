{
 "cells": [
  {
   "cell_type": "code",
   "execution_count": 1,
   "metadata": {
    "collapsed": false
   },
   "outputs": [],
   "source": [
    "import numpy as np\n",
    "import pandas as pd\n",
    "from sklearn.preprocessing import StandardScaler\n",
    "from sklearn.model_selection import train_test_split"
   ]
  },
  {
   "cell_type": "code",
   "execution_count": 2,
   "metadata": {
    "collapsed": false
   },
   "outputs": [],
   "source": [
    "Ynames = ['fLength', 'fWidth', 'fSize', 'fConc', 'fConc1', 'fAsym', \n",
    "             'fM3Long', 'fM3Trans', 'fAlpha', 'fDist', 'identity']\n",
    "featureNames = ['fLength', 'fWidth', 'fSize', 'fConc', 'fConc1', 'fAsym', \n",
    "             'fM3Long', 'fM3Trans', 'fAlpha', 'fDist']\n",
    "filepath = 'magic04.data'\n",
    "data = pd.read_csv(filepath, names=Ynames, header=None)\n",
    "data['identity']= data['identity'].map({'g':1, 'h': 0}).astype(int) \n",
    "X = data[featureNames].values.astype('float64')\n",
    "Y = data['identity'].values.astype('int64')"
   ]
  },
  {
   "cell_type": "code",
   "execution_count": 3,
   "metadata": {
    "collapsed": false
   },
   "outputs": [
    {
     "data": {
      "text/plain": [
       "array([[-0.07797833, -0.47564422, -0.43022194,  0.6119684 ,  0.64106611,\n",
       "         0.50120924,  0.64102822,  0.49887781, -0.30547166, -0.07362558],\n",
       "       [-0.72942457, -0.14350416, -0.31764989, -0.01054149, -0.19235852,\n",
       "        -0.16822292, -0.548816  ,  0.42539109,  1.08224206, -1.92891033]])"
      ]
     },
     "execution_count": 3,
     "metadata": {},
     "output_type": "execute_result"
    }
   ],
   "source": [
    "X = StandardScaler().fit_transform(X)\n",
    "train_Features, test_Features, train_Label, test_Label = train_test_split(X, Y, test_size=0.2, random_state=None) \n",
    "train_Features[:2]"
   ]
  },
  {
   "cell_type": "code",
   "execution_count": 4,
   "metadata": {
    "collapsed": false
   },
   "outputs": [
    {
     "data": {
      "text/plain": [
       "array([[-0.37864583, -0.54429293, -0.44566885,  0.07315273, -0.12810971,\n",
       "        -0.23466888, -0.82657952,  0.49160837,  0.70926866,  0.11346171],\n",
       "       [-0.63224477, -0.46276373, -0.45921136, -0.03023424, -0.12358515,\n",
       "         0.65662309,  0.06783016,  0.33250637, -0.90480275, -1.06626811]])"
      ]
     },
     "execution_count": 4,
     "metadata": {},
     "output_type": "execute_result"
    }
   ],
   "source": [
    "test_Features[:2]"
   ]
  },
  {
   "cell_type": "code",
   "execution_count": 5,
   "metadata": {
    "collapsed": false
   },
   "outputs": [
    {
     "data": {
      "text/plain": [
       "array([1, 1, 0, 0])"
      ]
     },
     "execution_count": 5,
     "metadata": {},
     "output_type": "execute_result"
    }
   ],
   "source": [
    "train_Label[:4]"
   ]
  },
  {
   "cell_type": "code",
   "execution_count": 6,
   "metadata": {
    "collapsed": false
   },
   "outputs": [
    {
     "data": {
      "text/plain": [
       "(15216, 10)"
      ]
     },
     "execution_count": 6,
     "metadata": {},
     "output_type": "execute_result"
    }
   ],
   "source": [
    "train_Features.shape"
   ]
  },
  {
   "cell_type": "code",
   "execution_count": 7,
   "metadata": {
    "collapsed": false
   },
   "outputs": [
    {
     "data": {
      "text/plain": [
       "array([0, 1, 1, 1])"
      ]
     },
     "execution_count": 7,
     "metadata": {},
     "output_type": "execute_result"
    }
   ],
   "source": [
    "test_Label[:4]"
   ]
  },
  {
   "cell_type": "code",
   "execution_count": 8,
   "metadata": {
    "collapsed": false
   },
   "outputs": [
    {
     "name": "stderr",
     "output_type": "stream",
     "text": [
      "Using TensorFlow backend.\n"
     ]
    }
   ],
   "source": [
    "from keras.models import Sequential\n",
    "from keras.layers import Dense,Dropout\n",
    "from keras.callbacks import EarlyStopping\n",
    "early_stopping = EarlyStopping(monitor='val_loss', patience=3)"
   ]
  },
  {
   "cell_type": "code",
   "execution_count": 9,
   "metadata": {
    "collapsed": true
   },
   "outputs": [],
   "source": [
    "model = Sequential()"
   ]
  },
  {
   "cell_type": "code",
   "execution_count": 10,
   "metadata": {
    "collapsed": true
   },
   "outputs": [],
   "source": [
    "model.add(Dense(units=30*2,  input_dim=10, \n",
    "                kernel_initializer='uniform', \n",
    "                activation='relu'))"
   ]
  },
  {
   "cell_type": "code",
   "execution_count": 11,
   "metadata": {
    "collapsed": true
   },
   "outputs": [],
   "source": [
    "model.add(Dense(units=30, \n",
    "                kernel_initializer='uniform', \n",
    "                activation='relu'))"
   ]
  },
  {
   "cell_type": "code",
   "execution_count": 12,
   "metadata": {
    "collapsed": true
   },
   "outputs": [],
   "source": [
    "model.add(Dense(units=1, \n",
    "                kernel_initializer='uniform',\n",
    "                activation='sigmoid'))"
   ]
  },
  {
   "cell_type": "code",
   "execution_count": 13,
   "metadata": {
    "collapsed": false
   },
   "outputs": [
    {
     "name": "stdout",
     "output_type": "stream",
     "text": [
      "_________________________________________________________________\n",
      "Layer (type)                 Output Shape              Param #   \n",
      "=================================================================\n",
      "dense_1 (Dense)              (None, 60)                660       \n",
      "_________________________________________________________________\n",
      "dense_2 (Dense)              (None, 30)                1830      \n",
      "_________________________________________________________________\n",
      "dense_3 (Dense)              (None, 1)                 31        \n",
      "=================================================================\n",
      "Total params: 2,521\n",
      "Trainable params: 2,521\n",
      "Non-trainable params: 0\n",
      "_________________________________________________________________\n"
     ]
    }
   ],
   "source": [
    "model.summary()"
   ]
  },
  {
   "cell_type": "code",
   "execution_count": 14,
   "metadata": {
    "collapsed": true
   },
   "outputs": [],
   "source": [
    "model.compile(loss='binary_crossentropy', \n",
    "              optimizer='adam', metrics=['accuracy'])"
   ]
  },
  {
   "cell_type": "code",
   "execution_count": 15,
   "metadata": {
    "collapsed": false
   },
   "outputs": [
    {
     "name": "stdout",
     "output_type": "stream",
     "text": [
      "Train on 13694 samples, validate on 1522 samples\n",
      "Epoch 1/30\n",
      " - 1s - loss: 0.6768 - acc: 0.7131 - val_loss: 0.6354 - val_acc: 0.7806\n",
      "Epoch 2/30\n",
      " - 0s - loss: 0.5558 - acc: 0.7756 - val_loss: 0.4630 - val_acc: 0.7996\n",
      "Epoch 3/30\n",
      " - 0s - loss: 0.4354 - acc: 0.8010 - val_loss: 0.4153 - val_acc: 0.8035\n",
      "Epoch 4/30\n",
      " - 0s - loss: 0.4088 - acc: 0.8141 - val_loss: 0.4052 - val_acc: 0.8114\n",
      "Epoch 5/30\n",
      " - 0s - loss: 0.3978 - acc: 0.8217 - val_loss: 0.3952 - val_acc: 0.8239\n",
      "Epoch 6/30\n",
      " - 0s - loss: 0.3882 - acc: 0.8292 - val_loss: 0.3871 - val_acc: 0.8318\n",
      "Epoch 7/30\n",
      " - 0s - loss: 0.3785 - acc: 0.8366 - val_loss: 0.3797 - val_acc: 0.8397\n",
      "Epoch 8/30\n",
      " - 0s - loss: 0.3702 - acc: 0.8429 - val_loss: 0.3730 - val_acc: 0.8403\n",
      "Epoch 9/30\n",
      " - 0s - loss: 0.3633 - acc: 0.8469 - val_loss: 0.3684 - val_acc: 0.8410\n",
      "Epoch 10/30\n",
      " - 0s - loss: 0.3567 - acc: 0.8536 - val_loss: 0.3637 - val_acc: 0.8489\n",
      "Epoch 11/30\n",
      " - 0s - loss: 0.3529 - acc: 0.8547 - val_loss: 0.3587 - val_acc: 0.8476\n",
      "Epoch 12/30\n",
      " - 0s - loss: 0.3469 - acc: 0.8594 - val_loss: 0.3553 - val_acc: 0.8469\n",
      "Epoch 13/30\n",
      " - 0s - loss: 0.3427 - acc: 0.8611 - val_loss: 0.3551 - val_acc: 0.8456\n",
      "Epoch 14/30\n",
      " - 0s - loss: 0.3395 - acc: 0.8621 - val_loss: 0.3498 - val_acc: 0.8495\n",
      "Epoch 15/30\n",
      " - 0s - loss: 0.3362 - acc: 0.8621 - val_loss: 0.3451 - val_acc: 0.8463\n",
      "Epoch 16/30\n",
      " - 0s - loss: 0.3329 - acc: 0.8645 - val_loss: 0.3437 - val_acc: 0.8495\n",
      "Epoch 17/30\n",
      " - 0s - loss: 0.3299 - acc: 0.8665 - val_loss: 0.3409 - val_acc: 0.8515\n",
      "Epoch 18/30\n",
      " - 0s - loss: 0.3274 - acc: 0.8669 - val_loss: 0.3392 - val_acc: 0.8509\n",
      "Epoch 19/30\n",
      " - 0s - loss: 0.3250 - acc: 0.8692 - val_loss: 0.3378 - val_acc: 0.8502\n",
      "Epoch 20/30\n",
      " - 0s - loss: 0.3231 - acc: 0.8689 - val_loss: 0.3360 - val_acc: 0.8568\n",
      "Epoch 21/30\n",
      " - 0s - loss: 0.3222 - acc: 0.8692 - val_loss: 0.3341 - val_acc: 0.8555\n",
      "Epoch 22/30\n",
      " - 0s - loss: 0.3197 - acc: 0.8693 - val_loss: 0.3329 - val_acc: 0.8568\n",
      "Epoch 23/30\n",
      " - 0s - loss: 0.3187 - acc: 0.8701 - val_loss: 0.3325 - val_acc: 0.8555\n",
      "Epoch 24/30\n",
      " - 0s - loss: 0.3176 - acc: 0.8704 - val_loss: 0.3337 - val_acc: 0.8548\n",
      "Epoch 25/30\n",
      " - 0s - loss: 0.3178 - acc: 0.8705 - val_loss: 0.3325 - val_acc: 0.8587\n",
      "Epoch 26/30\n",
      " - 0s - loss: 0.3157 - acc: 0.8719 - val_loss: 0.3304 - val_acc: 0.8581\n",
      "Epoch 27/30\n",
      " - 0s - loss: 0.3129 - acc: 0.8715 - val_loss: 0.3279 - val_acc: 0.8607\n",
      "Epoch 28/30\n",
      " - 0s - loss: 0.3129 - acc: 0.8722 - val_loss: 0.3288 - val_acc: 0.8601\n",
      "Epoch 29/30\n",
      " - 0s - loss: 0.3114 - acc: 0.8735 - val_loss: 0.3281 - val_acc: 0.8574\n",
      "Epoch 30/30\n",
      " - 0s - loss: 0.3114 - acc: 0.8726 - val_loss: 0.3275 - val_acc: 0.8581\n"
     ]
    }
   ],
   "source": [
    "train_history =model.fit(x=train_Features, \n",
    "                         y=train_Label, \n",
    "                         validation_split=0.1, \n",
    "                         epochs=30, \n",
    "                         batch_size=400,verbose=2,callbacks=[early_stopping])"
   ]
  },
  {
   "cell_type": "code",
   "execution_count": 16,
   "metadata": {
    "collapsed": true
   },
   "outputs": [],
   "source": [
    "import matplotlib.pyplot as plt\n",
    "def show_train_history(train_history,train,validation):\n",
    "    plt.plot(train_history.history[train])\n",
    "    plt.plot(train_history.history[validation])\n",
    "    plt.title('Train History')\n",
    "    plt.ylabel(train)\n",
    "    plt.xlabel('Epoch')\n",
    "    plt.legend(['train', 'validation'], loc='upper left')\n",
    "    plt.show()"
   ]
  },
  {
   "cell_type": "code",
   "execution_count": 17,
   "metadata": {
    "collapsed": false
   },
   "outputs": [
    {
     "data": {
      "image/png": "[encoded data removed]",
      "text/plain": [
       "<matplotlib.figure.Figure at 0x7fcfcc67f898>"
      ]
     },
     "metadata": {},
     "output_type": "display_data"
    }
   ],
   "source": [
    "show_train_history(train_history,'acc','val_acc')"
   ]
  },
  {
   "cell_type": "code",
   "execution_count": 18,
   "metadata": {
    "collapsed": false
   },
   "outputs": [
    {
     "data": {
      "image/png": "[encoded data removed]",
      "text/plain": [
       "<matplotlib.figure.Figure at 0x7fcfcc67ff28>"
      ]
     },
     "metadata": {},
     "output_type": "display_data"
    }
   ],
   "source": [
    "show_train_history(train_history,'loss','val_loss')"
   ]
  },
  {
   "cell_type": "code",
   "execution_count": 19,
   "metadata": {
    "collapsed": false
   },
   "outputs": [
    {
     "name": "stdout",
     "output_type": "stream",
     "text": [
      "3804/3804 [==============================] - 0s 25us/step\n"
     ]
    }
   ],
   "source": [
    "scores = model.evaluate(x=test_Features, \n",
    "                        y=test_Label)"
   ]
  },
  {
   "cell_type": "code",
   "execution_count": 20,
   "metadata": {
    "collapsed": false
   },
   "outputs": [
    {
     "data": {
      "text/plain": [
       "0.8633017875293326"
      ]
     },
     "execution_count": 20,
     "metadata": {},
     "output_type": "execute_result"
    }
   ],
   "source": [
    "scores[1]"
   ]
  }
 ],
 "metadata": {
  "anaconda-cloud": {},
  "kernelspec": {
   "display_name": "Python [default]",
   "language": "python",
   "name": "python3"
  },
  "language_info": {
   "codemirror_mode": {
    "name": "ipython",
    "version": 3
   },
   "file_extension": ".py",
   "mimetype": "text/x-python",
   "name": "python",
   "nbconvert_exporter": "python",
   "pygments_lexer": "ipython3",
   "version": "3.5.2"
  }
 },
 "nbformat": 4,
 "nbformat_minor": 1
}
