{
 "cells": [
  {
   "cell_type": "code",
   "execution_count": 1,
   "metadata": {
    "collapsed": true,
    "slideshow": {
     "slide_type": "-"
    }
   },
   "outputs": [],
   "source": [
    "import numpy\n",
    "import pandas as pd\n",
    "from sklearn.preprocessing import StandardScaler\n",
    "from sklearn.model_selection import train_test_split\n",
    "numpy.random.seed(10)"
   ]
  },
  {
   "cell_type": "code",
   "execution_count": 2,
   "metadata": {
    "collapsed": true
   },
   "outputs": [],
   "source": [
    "all_df = pd.read_csv(\"data.csv\")"
   ]
  },
  {
   "cell_type": "code",
   "execution_count": 3,
   "metadata": {
    "collapsed": false
   },
   "outputs": [],
   "source": [
    "all_df['class']= all_df['class'].map({'RB':0, 'NRB': 1}).astype(int)"
   ]
  },
  {
   "cell_type": "code",
   "execution_count": 4,
   "metadata": {
    "collapsed": false
   },
   "outputs": [
    {
     "data": {
      "text/plain": [
       "(1055, 42)"
      ]
     },
     "execution_count": 4,
     "metadata": {},
     "output_type": "execute_result"
    }
   ],
   "source": [
    "all_df.shape"
   ]
  },
  {
   "cell_type": "code",
   "execution_count": 5,
   "metadata": {
    "collapsed": true
   },
   "outputs": [],
   "source": [
    "X=all_df.drop(['class'], axis=1).values.astype('float64')"
   ]
  },
  {
   "cell_type": "code",
   "execution_count": 6,
   "metadata": {
    "collapsed": true
   },
   "outputs": [],
   "source": [
    "Y = all_df['class'].values.astype('int64')"
   ]
  },
  {
   "cell_type": "code",
   "execution_count": 7,
   "metadata": {
    "collapsed": false
   },
   "outputs": [
    {
     "data": {
      "text/plain": [
       "(1055, 41)"
      ]
     },
     "execution_count": 7,
     "metadata": {},
     "output_type": "execute_result"
    }
   ],
   "source": [
    "X.shape"
   ]
  },
  {
   "cell_type": "code",
   "execution_count": 8,
   "metadata": {
    "collapsed": false
   },
   "outputs": [
    {
     "data": {
      "text/plain": [
       "844"
      ]
     },
     "execution_count": 8,
     "metadata": {},
     "output_type": "execute_result"
    }
   ],
   "source": [
    " X = StandardScaler().fit_transform(X)\n",
    "train_Features, test_Features, train_Label, test_Label = train_test_split(X, Y, test_size=0.2, random_state=True) \n",
    "len(train_Features)"
   ]
  },
  {
   "cell_type": "code",
   "execution_count": 9,
   "metadata": {
    "collapsed": false
   },
   "outputs": [
    {
     "name": "stderr",
     "output_type": "stream",
     "text": [
      "Using TensorFlow backend.\n"
     ]
    }
   ],
   "source": [
    "from keras.models import Sequential\n",
    "from keras.layers import Dense,Dropout\n",
    "from keras.callbacks import EarlyStopping\n",
    "early_stopping = EarlyStopping(monitor='val_loss', patience=2)"
   ]
  },
  {
   "cell_type": "code",
   "execution_count": 10,
   "metadata": {
    "collapsed": true
   },
   "outputs": [],
   "source": [
    "model = Sequential()"
   ]
  },
  {
   "cell_type": "code",
   "execution_count": 11,
   "metadata": {
    "collapsed": true
   },
   "outputs": [],
   "source": [
    "model.add(Dense(units=41,   input_dim=41,\n",
    "                kernel_initializer='uniform', \n",
    "                activation='relu'))"
   ]
  },
  {
   "cell_type": "code",
   "execution_count": 12,
   "metadata": {
    "collapsed": true
   },
   "outputs": [],
   "source": [
    "model.add(Dense(units=1, \n",
    "                kernel_initializer='uniform',\n",
    "                activation='sigmoid'))"
   ]
  },
  {
   "cell_type": "code",
   "execution_count": 13,
   "metadata": {
    "collapsed": false
   },
   "outputs": [
    {
     "name": "stdout",
     "output_type": "stream",
     "text": [
      "_________________________________________________________________\n",
      "Layer (type)                 Output Shape              Param #   \n",
      "=================================================================\n",
      "dense_1 (Dense)              (None, 41)                1722      \n",
      "_________________________________________________________________\n",
      "dense_2 (Dense)              (None, 1)                 42        \n",
      "=================================================================\n",
      "Total params: 1,764\n",
      "Trainable params: 1,764\n",
      "Non-trainable params: 0\n",
      "_________________________________________________________________\n"
     ]
    }
   ],
   "source": [
    "model.summary()"
   ]
  },
  {
   "cell_type": "code",
   "execution_count": 14,
   "metadata": {
    "collapsed": true
   },
   "outputs": [],
   "source": [
    "model.compile(loss='binary_crossentropy', \n",
    "              optimizer='adam', metrics=['accuracy'])"
   ]
  },
  {
   "cell_type": "code",
   "execution_count": 15,
   "metadata": {
    "collapsed": false
   },
   "outputs": [
    {
     "name": "stdout",
     "output_type": "stream",
     "text": [
      "Train on 759 samples, validate on 85 samples\n",
      "Epoch 1/30\n",
      "759/759 [==============================] - 1s 1ms/step - loss: 0.6785 - acc: 0.6719 - val_loss: 0.6524 - val_acc: 0.8235\n",
      "Epoch 2/30\n",
      "759/759 [==============================] - 0s 45us/step - loss: 0.6411 - acc: 0.8076 - val_loss: 0.5988 - val_acc: 0.8118\n",
      "Epoch 3/30\n",
      "759/759 [==============================] - 0s 134us/step - loss: 0.5940 - acc: 0.8235 - val_loss: 0.5326 - val_acc: 0.8235\n",
      "Epoch 4/30\n",
      "759/759 [==============================] - 0s 132us/step - loss: 0.5435 - acc: 0.8261 - val_loss: 0.4661 - val_acc: 0.8471\n",
      "Epoch 5/30\n",
      "759/759 [==============================] - 0s 159us/step - loss: 0.4956 - acc: 0.8300 - val_loss: 0.4128 - val_acc: 0.8588\n",
      "Epoch 6/30\n",
      "759/759 [==============================] - 0s 147us/step - loss: 0.4566 - acc: 0.8327 - val_loss: 0.3705 - val_acc: 0.8588\n",
      "Epoch 7/30\n",
      "759/759 [==============================] - 0s 127us/step - loss: 0.4246 - acc: 0.8406 - val_loss: 0.3407 - val_acc: 0.8588\n",
      "Epoch 8/30\n",
      "759/759 [==============================] - 0s 140us/step - loss: 0.4003 - acc: 0.8366 - val_loss: 0.3184 - val_acc: 0.8588\n",
      "Epoch 9/30\n",
      "759/759 [==============================] - 0s 137us/step - loss: 0.3812 - acc: 0.8445 - val_loss: 0.3024 - val_acc: 0.8588\n",
      "Epoch 10/30\n",
      "759/759 [==============================] - 0s 140us/step - loss: 0.3647 - acc: 0.8511 - val_loss: 0.2892 - val_acc: 0.8588\n",
      "Epoch 11/30\n",
      "759/759 [==============================] - 0s 126us/step - loss: 0.3521 - acc: 0.8538 - val_loss: 0.2768 - val_acc: 0.8824\n",
      "Epoch 12/30\n",
      "759/759 [==============================] - 0s 143us/step - loss: 0.3412 - acc: 0.8643 - val_loss: 0.2687 - val_acc: 0.8824\n",
      "Epoch 13/30\n",
      "759/759 [==============================] - 0s 136us/step - loss: 0.3319 - acc: 0.8669 - val_loss: 0.2631 - val_acc: 0.8824\n",
      "Epoch 14/30\n",
      "759/759 [==============================] - 0s 141us/step - loss: 0.3243 - acc: 0.8735 - val_loss: 0.2566 - val_acc: 0.8824\n",
      "Epoch 15/30\n",
      "759/759 [==============================] - 0s 125us/step - loss: 0.3174 - acc: 0.8775 - val_loss: 0.2536 - val_acc: 0.8824\n",
      "Epoch 16/30\n",
      "759/759 [==============================] - 0s 151us/step - loss: 0.3119 - acc: 0.8801 - val_loss: 0.2496 - val_acc: 0.8941\n",
      "Epoch 17/30\n",
      "759/759 [==============================] - 0s 148us/step - loss: 0.3065 - acc: 0.8814 - val_loss: 0.2458 - val_acc: 0.8941\n",
      "Epoch 18/30\n",
      "759/759 [==============================] - 0s 147us/step - loss: 0.3020 - acc: 0.8827 - val_loss: 0.2444 - val_acc: 0.8941\n",
      "Epoch 19/30\n",
      "759/759 [==============================] - 0s 125us/step - loss: 0.2978 - acc: 0.8827 - val_loss: 0.2407 - val_acc: 0.8941\n",
      "Epoch 20/30\n",
      "759/759 [==============================] - 0s 132us/step - loss: 0.2945 - acc: 0.8854 - val_loss: 0.2380 - val_acc: 0.8941\n",
      "Epoch 21/30\n",
      "759/759 [==============================] - 0s 137us/step - loss: 0.2903 - acc: 0.8906 - val_loss: 0.2372 - val_acc: 0.8941\n",
      "Epoch 22/30\n",
      "759/759 [==============================] - 0s 127us/step - loss: 0.2870 - acc: 0.8906 - val_loss: 0.2370 - val_acc: 0.8941\n",
      "Epoch 23/30\n",
      "759/759 [==============================] - 0s 138us/step - loss: 0.2842 - acc: 0.8920 - val_loss: 0.2348 - val_acc: 0.8941\n",
      "Epoch 24/30\n",
      "759/759 [==============================] - 0s 146us/step - loss: 0.2812 - acc: 0.8946 - val_loss: 0.2328 - val_acc: 0.8941\n",
      "Epoch 25/30\n",
      "759/759 [==============================] - 0s 136us/step - loss: 0.2789 - acc: 0.8933 - val_loss: 0.2318 - val_acc: 0.8941\n",
      "Epoch 26/30\n",
      "759/759 [==============================] - 0s 129us/step - loss: 0.2762 - acc: 0.8999 - val_loss: 0.2309 - val_acc: 0.8941\n",
      "Epoch 27/30\n",
      "759/759 [==============================] - 0s 126us/step - loss: 0.2738 - acc: 0.8986 - val_loss: 0.2309 - val_acc: 0.8941\n",
      "Epoch 28/30\n",
      "759/759 [==============================] - 0s 107us/step - loss: 0.2712 - acc: 0.8972 - val_loss: 0.2318 - val_acc: 0.8941\n"
     ]
    }
   ],
   "source": [
    "train_history =model.fit(x=train_Features, \n",
    "                         y=train_Label, \n",
    "                         validation_split=0.1, \n",
    "                         epochs=30, \n",
    "                         batch_size=60,verbose=1,callbacks=[early_stopping])"
   ]
  },
  {
   "cell_type": "code",
   "execution_count": 16,
   "metadata": {
    "collapsed": true
   },
   "outputs": [],
   "source": [
    "import matplotlib.pyplot as plt\n",
    "def show_train_history(train_history,train,validation):\n",
    "    plt.plot(train_history.history[train])\n",
    "    plt.plot(train_history.history[validation])\n",
    "    plt.title('Train History')\n",
    "    plt.ylabel(train)\n",
    "    plt.xlabel('Epoch')\n",
    "    plt.legend(['train', 'validation'], loc='upper left')\n",
    "    plt.show()"
   ]
  },
  {
   "cell_type": "code",
   "execution_count": 17,
   "metadata": {
    "collapsed": false
   },
   "outputs": [
    {
     "data": {
      "image/png": "[encoded data removed]",
      "text/plain": [
       "<matplotlib.figure.Figure at 0x7f1ec37b6f98>"
      ]
     },
     "metadata": {},
     "output_type": "display_data"
    }
   ],
   "source": [
    "show_train_history(train_history,'acc','val_acc')"
   ]
  },
  {
   "cell_type": "code",
   "execution_count": 18,
   "metadata": {
    "collapsed": false
   },
   "outputs": [
    {
     "data": {
      "image/png": "[encoded data removed]",
      "text/plain": [
       "<matplotlib.figure.Figure at 0x7f1ec377e0b8>"
      ]
     },
     "metadata": {},
     "output_type": "display_data"
    }
   ],
   "source": [
    "show_train_history(train_history,'loss','val_loss')"
   ]
  },
  {
   "cell_type": "code",
   "execution_count": 19,
   "metadata": {
    "collapsed": false
   },
   "outputs": [
    {
     "name": "stdout",
     "output_type": "stream",
     "text": [
      "211/211 [==============================] - 0s 57us/step\n"
     ]
    }
   ],
   "source": [
    "scores = model.evaluate(x=test_Features, \n",
    "                        y=test_Label)"
   ]
  },
  {
   "cell_type": "code",
   "execution_count": 20,
   "metadata": {
    "collapsed": false
   },
   "outputs": [
    {
     "data": {
      "text/plain": [
       "0.8436018943221648"
      ]
     },
     "execution_count": 20,
     "metadata": {},
     "output_type": "execute_result"
    }
   ],
   "source": [
    "scores[1]"
   ]
  }
 ],
 "metadata": {
  "anaconda-cloud": {},
  "kernelspec": {
   "display_name": "Python [conda root]",
   "language": "python",
   "name": "conda-root-py"
  },
  "language_info": {
   "codemirror_mode": {
    "name": "ipython",
    "version": 3
   },
   "file_extension": ".py",
   "mimetype": "text/x-python",
   "name": "python",
   "nbconvert_exporter": "python",
   "pygments_lexer": "ipython3",
   "version": "3.5.2"
  }
 },
 "nbformat": 4,
 "nbformat_minor": 1
}
