{
 "cells": [
  {
   "cell_type": "code",
   "execution_count": 1,
   "metadata": {
    "collapsed": true,
    "slideshow": {
     "slide_type": "-"
    }
   },
   "outputs": [],
   "source": [
    "import numpy\n",
    "import pandas as pd\n",
    "from sklearn.preprocessing import StandardScaler\n",
    "from sklearn.model_selection import train_test_split\n",
    "numpy.random.seed(10)"
   ]
  },
  {
   "cell_type": "code",
   "execution_count": 2,
   "metadata": {
    "collapsed": true
   },
   "outputs": [],
   "source": [
    "all_df = pd.read_csv(\"data.csv\")"
   ]
  },
  {
   "cell_type": "code",
   "execution_count": 3,
   "metadata": {
    "collapsed": false
   },
   "outputs": [],
   "source": [
    "all_df['class']= all_df['class'].map({'RB':0, 'NRB': 1}).astype(int)"
   ]
  },
  {
   "cell_type": "code",
   "execution_count": 4,
   "metadata": {
    "collapsed": false
   },
   "outputs": [
    {
     "data": {
      "text/plain": [
       "(1055, 42)"
      ]
     },
     "execution_count": 4,
     "metadata": {},
     "output_type": "execute_result"
    }
   ],
   "source": [
    "all_df.shape"
   ]
  },
  {
   "cell_type": "code",
   "execution_count": 5,
   "metadata": {
    "collapsed": true
   },
   "outputs": [],
   "source": [
    "X=all_df.drop(['class'], axis=1).values.astype('float64')"
   ]
  },
  {
   "cell_type": "code",
   "execution_count": 6,
   "metadata": {
    "collapsed": true
   },
   "outputs": [],
   "source": [
    "Y = all_df['class'].values.astype('int64')"
   ]
  },
  {
   "cell_type": "code",
   "execution_count": 7,
   "metadata": {
    "collapsed": false
   },
   "outputs": [
    {
     "data": {
      "text/plain": [
       "(1055, 41)"
      ]
     },
     "execution_count": 7,
     "metadata": {},
     "output_type": "execute_result"
    }
   ],
   "source": [
    "X.shape"
   ]
  },
  {
   "cell_type": "code",
   "execution_count": 8,
   "metadata": {
    "collapsed": false
   },
   "outputs": [
    {
     "data": {
      "text/plain": [
       "844"
      ]
     },
     "execution_count": 8,
     "metadata": {},
     "output_type": "execute_result"
    }
   ],
   "source": [
    " X = StandardScaler().fit_transform(X)\n",
    "train_Features, test_Features, train_Label, test_Label = train_test_split(X, Y, test_size=0.2, random_state=True) \n",
    "len(train_Features)"
   ]
  },
  {
   "cell_type": "code",
   "execution_count": 9,
   "metadata": {
    "collapsed": false
   },
   "outputs": [
    {
     "name": "stderr",
     "output_type": "stream",
     "text": [
      "Using TensorFlow backend.\n"
     ]
    }
   ],
   "source": [
    "from keras.models import Sequential\n",
    "from keras.layers import Dense,Dropout\n",
    "from keras.callbacks import EarlyStopping\n",
    "early_stopping = EarlyStopping(monitor='val_loss', patience=2)"
   ]
  },
  {
   "cell_type": "code",
   "execution_count": 10,
   "metadata": {
    "collapsed": true
   },
   "outputs": [],
   "source": [
    "model = Sequential()"
   ]
  },
  {
   "cell_type": "code",
   "execution_count": 11,
   "metadata": {
    "collapsed": true
   },
   "outputs": [],
   "source": [
    "model.add(Dense(units=41*2,   input_dim=41,\n",
    "                kernel_initializer='uniform', \n",
    "                activation='relu'))"
   ]
  },
  {
   "cell_type": "code",
   "execution_count": 12,
   "metadata": {
    "collapsed": true
   },
   "outputs": [],
   "source": [
    "model.add(Dense(units=41, \n",
    "                kernel_initializer='uniform', \n",
    "                activation='relu'))"
   ]
  },
  {
   "cell_type": "code",
   "execution_count": 13,
   "metadata": {
    "collapsed": true
   },
   "outputs": [],
   "source": [
    "model.add(Dense(units=1, \n",
    "                kernel_initializer='uniform',\n",
    "                activation='sigmoid'))"
   ]
  },
  {
   "cell_type": "code",
   "execution_count": 14,
   "metadata": {
    "collapsed": false
   },
   "outputs": [
    {
     "name": "stdout",
     "output_type": "stream",
     "text": [
      "_________________________________________________________________\n",
      "Layer (type)                 Output Shape              Param #   \n",
      "=================================================================\n",
      "dense_1 (Dense)              (None, 82)                3444      \n",
      "_________________________________________________________________\n",
      "dense_2 (Dense)              (None, 41)                3403      \n",
      "_________________________________________________________________\n",
      "dense_3 (Dense)              (None, 1)                 42        \n",
      "=================================================================\n",
      "Total params: 6,889\n",
      "Trainable params: 6,889\n",
      "Non-trainable params: 0\n",
      "_________________________________________________________________\n"
     ]
    }
   ],
   "source": [
    "model.summary()"
   ]
  },
  {
   "cell_type": "code",
   "execution_count": 15,
   "metadata": {
    "collapsed": true
   },
   "outputs": [],
   "source": [
    "model.compile(loss='binary_crossentropy', \n",
    "              optimizer='adam', metrics=['accuracy'])"
   ]
  },
  {
   "cell_type": "code",
   "execution_count": 16,
   "metadata": {
    "collapsed": false
   },
   "outputs": [
    {
     "name": "stdout",
     "output_type": "stream",
     "text": [
      "Train on 759 samples, validate on 85 samples\n",
      "Epoch 1/30\n",
      "759/759 [==============================] - 1s 2ms/step - loss: 0.6863 - acc: 0.6614 - val_loss: 0.6694 - val_acc: 0.7176\n",
      "Epoch 2/30\n",
      "759/759 [==============================] - 0s 60us/step - loss: 0.6536 - acc: 0.7576 - val_loss: 0.5948 - val_acc: 0.7882\n",
      "Epoch 3/30\n",
      "759/759 [==============================] - 0s 64us/step - loss: 0.5693 - acc: 0.8340 - val_loss: 0.4545 - val_acc: 0.8471\n",
      "Epoch 4/30\n",
      "759/759 [==============================] - 0s 62us/step - loss: 0.4659 - acc: 0.8393 - val_loss: 0.3448 - val_acc: 0.8471\n",
      "Epoch 5/30\n",
      "759/759 [==============================] - 0s 74us/step - loss: 0.3950 - acc: 0.8485 - val_loss: 0.2953 - val_acc: 0.8588\n",
      "Epoch 6/30\n",
      "759/759 [==============================] - 0s 66us/step - loss: 0.3568 - acc: 0.8577 - val_loss: 0.2666 - val_acc: 0.8824\n",
      "Epoch 7/30\n",
      "759/759 [==============================] - 0s 61us/step - loss: 0.3309 - acc: 0.8656 - val_loss: 0.2534 - val_acc: 0.8941\n",
      "Epoch 8/30\n",
      "759/759 [==============================] - 0s 70us/step - loss: 0.3150 - acc: 0.8762 - val_loss: 0.2471 - val_acc: 0.8941\n",
      "Epoch 9/30\n",
      "759/759 [==============================] - 0s 75us/step - loss: 0.3029 - acc: 0.8841 - val_loss: 0.2473 - val_acc: 0.8941\n",
      "Epoch 10/30\n",
      "759/759 [==============================] - 0s 72us/step - loss: 0.2939 - acc: 0.8867 - val_loss: 0.2437 - val_acc: 0.8941\n",
      "Epoch 11/30\n",
      "759/759 [==============================] - 0s 75us/step - loss: 0.2860 - acc: 0.8893 - val_loss: 0.2385 - val_acc: 0.8941\n",
      "Epoch 12/30\n",
      "759/759 [==============================] - 0s 65us/step - loss: 0.2808 - acc: 0.8893 - val_loss: 0.2393 - val_acc: 0.8941\n",
      "Epoch 13/30\n",
      "759/759 [==============================] - 0s 74us/step - loss: 0.2745 - acc: 0.8946 - val_loss: 0.2384 - val_acc: 0.8941\n",
      "Epoch 14/30\n",
      "759/759 [==============================] - 0s 120us/step - loss: 0.2707 - acc: 0.8920 - val_loss: 0.2339 - val_acc: 0.8941\n",
      "Epoch 15/30\n",
      "759/759 [==============================] - 0s 113us/step - loss: 0.2644 - acc: 0.9025 - val_loss: 0.2371 - val_acc: 0.8941\n",
      "Epoch 16/30\n",
      "759/759 [==============================] - 0s 141us/step - loss: 0.2590 - acc: 0.8999 - val_loss: 0.2309 - val_acc: 0.9176\n",
      "Epoch 17/30\n",
      "759/759 [==============================] - 0s 95us/step - loss: 0.2540 - acc: 0.8972 - val_loss: 0.2312 - val_acc: 0.9176\n",
      "Epoch 18/30\n",
      "759/759 [==============================] - 0s 65us/step - loss: 0.2517 - acc: 0.9012 - val_loss: 0.2385 - val_acc: 0.9176\n"
     ]
    }
   ],
   "source": [
    "train_history =model.fit(x=train_Features, \n",
    "                         y=train_Label, \n",
    "                         validation_split=0.1, \n",
    "                         epochs=30, \n",
    "                         batch_size=60,verbose=1,callbacks=[early_stopping])"
   ]
  },
  {
   "cell_type": "code",
   "execution_count": 17,
   "metadata": {
    "collapsed": true
   },
   "outputs": [],
   "source": [
    "import matplotlib.pyplot as plt\n",
    "def show_train_history(train_history,train,validation):\n",
    "    plt.plot(train_history.history[train])\n",
    "    plt.plot(train_history.history[validation])\n",
    "    plt.title('Train History')\n",
    "    plt.ylabel(train)\n",
    "    plt.xlabel('Epoch')\n",
    "    plt.legend(['train', 'validation'], loc='upper left')\n",
    "    plt.show()"
   ]
  },
  {
   "cell_type": "code",
   "execution_count": 18,
   "metadata": {
    "collapsed": false
   },
   "outputs": [
    {
     "data": {
      "image/png": "[encoded data removed]",
      "text/plain": [
       "<matplotlib.figure.Figure at 0x7fafb7576438>"
      ]
     },
     "metadata": {},
     "output_type": "display_data"
    }
   ],
   "source": [
    "show_train_history(train_history,'acc','val_acc')"
   ]
  },
  {
   "cell_type": "code",
   "execution_count": 19,
   "metadata": {
    "collapsed": false
   },
   "outputs": [
    {
     "data": {
      "image/png": "[encoded data removed]",
      "text/plain": [
       "<matplotlib.figure.Figure at 0x7fafb7576cf8>"
      ]
     },
     "metadata": {},
     "output_type": "display_data"
    }
   ],
   "source": [
    "show_train_history(train_history,'loss','val_loss')"
   ]
  },
  {
   "cell_type": "code",
   "execution_count": 20,
   "metadata": {
    "collapsed": false
   },
   "outputs": [
    {
     "name": "stdout",
     "output_type": "stream",
     "text": [
      "211/211 [==============================] - 0s 233us/step\n"
     ]
    }
   ],
   "source": [
    "scores = model.evaluate(x=test_Features, \n",
    "                        y=test_Label)"
   ]
  },
  {
   "cell_type": "code",
   "execution_count": 21,
   "metadata": {
    "collapsed": false
   },
   "outputs": [
    {
     "data": {
      "text/plain": [
       "0.8436018943221648"
      ]
     },
     "execution_count": 21,
     "metadata": {},
     "output_type": "execute_result"
    }
   ],
   "source": [
    "scores[1]"
   ]
  }
 ],
 "metadata": {
  "anaconda-cloud": {},
  "kernelspec": {
   "display_name": "Python [conda root]",
   "language": "python",
   "name": "conda-root-py"
  },
  "language_info": {
   "codemirror_mode": {
    "name": "ipython",
    "version": 3
   },
   "file_extension": ".py",
   "mimetype": "text/x-python",
   "name": "python",
   "nbconvert_exporter": "python",
   "pygments_lexer": "ipython3",
   "version": "3.5.2"
  }
 },
 "nbformat": 4,
 "nbformat_minor": 1
}
