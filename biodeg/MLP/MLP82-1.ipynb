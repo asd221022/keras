{
 "cells": [
  {
   "cell_type": "code",
   "execution_count": 81,
   "metadata": {
    "collapsed": true,
    "slideshow": {
     "slide_type": "-"
    }
   },
   "outputs": [],
   "source": [
    "import numpy\n",
    "import pandas as pd\n",
    "from sklearn.preprocessing import StandardScaler\n",
    "from sklearn.model_selection import train_test_split\n",
    "numpy.random.seed(10)"
   ]
  },
  {
   "cell_type": "code",
   "execution_count": 82,
   "metadata": {
    "collapsed": true
   },
   "outputs": [],
   "source": [
    "all_df = pd.read_csv(\"data.csv\")"
   ]
  },
  {
   "cell_type": "code",
   "execution_count": 83,
   "metadata": {
    "collapsed": false
   },
   "outputs": [],
   "source": [
    "all_df['class']= all_df['class'].map({'RB':0, 'NRB': 1}).astype(int)"
   ]
  },
  {
   "cell_type": "code",
   "execution_count": 84,
   "metadata": {
    "collapsed": false
   },
   "outputs": [
    {
     "data": {
      "text/plain": [
       "(1055, 42)"
      ]
     },
     "execution_count": 84,
     "metadata": {},
     "output_type": "execute_result"
    }
   ],
   "source": [
    "all_df.shape"
   ]
  },
  {
   "cell_type": "code",
   "execution_count": 85,
   "metadata": {
    "collapsed": true
   },
   "outputs": [],
   "source": [
    "X=all_df.drop(['class'], axis=1).values.astype('float64')"
   ]
  },
  {
   "cell_type": "code",
   "execution_count": 86,
   "metadata": {
    "collapsed": true
   },
   "outputs": [],
   "source": [
    "Y = all_df['class'].values.astype('int64')"
   ]
  },
  {
   "cell_type": "code",
   "execution_count": 87,
   "metadata": {
    "collapsed": false
   },
   "outputs": [
    {
     "data": {
      "text/plain": [
       "(1055, 41)"
      ]
     },
     "execution_count": 87,
     "metadata": {},
     "output_type": "execute_result"
    }
   ],
   "source": [
    "X.shape"
   ]
  },
  {
   "cell_type": "code",
   "execution_count": 88,
   "metadata": {
    "collapsed": false
   },
   "outputs": [
    {
     "data": {
      "text/plain": [
       "844"
      ]
     },
     "execution_count": 88,
     "metadata": {},
     "output_type": "execute_result"
    }
   ],
   "source": [
    " X = StandardScaler().fit_transform(X)\n",
    "train_Features, test_Features, train_Label, test_Label = train_test_split(X, Y, test_size=0.2, random_state=True) \n",
    "len(train_Features)"
   ]
  },
  {
   "cell_type": "code",
   "execution_count": 89,
   "metadata": {
    "collapsed": false
   },
   "outputs": [],
   "source": [
    "from keras.models import Sequential\n",
    "from keras.layers import Dense,Dropout\n",
    "from keras.callbacks import EarlyStopping\n",
    "early_stopping = EarlyStopping(monitor='val_loss', patience=2)"
   ]
  },
  {
   "cell_type": "code",
   "execution_count": 90,
   "metadata": {
    "collapsed": true
   },
   "outputs": [],
   "source": [
    "model = Sequential()"
   ]
  },
  {
   "cell_type": "code",
   "execution_count": 91,
   "metadata": {
    "collapsed": true
   },
   "outputs": [],
   "source": [
    "model.add(Dense(units=82,   input_dim=41,\n",
    "                kernel_initializer='uniform', \n",
    "                activation='relu'))"
   ]
  },
  {
   "cell_type": "code",
   "execution_count": 92,
   "metadata": {
    "collapsed": true
   },
   "outputs": [],
   "source": [
    "model.add(Dense(units=1, \n",
    "                kernel_initializer='uniform',\n",
    "                activation='sigmoid'))"
   ]
  },
  {
   "cell_type": "code",
   "execution_count": 93,
   "metadata": {
    "collapsed": false
   },
   "outputs": [
    {
     "name": "stdout",
     "output_type": "stream",
     "text": [
      "_________________________________________________________________\n",
      "Layer (type)                 Output Shape              Param #   \n",
      "=================================================================\n",
      "dense_9 (Dense)              (None, 82)                3444      \n",
      "_________________________________________________________________\n",
      "dense_10 (Dense)             (None, 1)                 83        \n",
      "=================================================================\n",
      "Total params: 3,527\n",
      "Trainable params: 3,527\n",
      "Non-trainable params: 0\n",
      "_________________________________________________________________\n"
     ]
    }
   ],
   "source": [
    "model.summary()"
   ]
  },
  {
   "cell_type": "code",
   "execution_count": 94,
   "metadata": {
    "collapsed": true
   },
   "outputs": [],
   "source": [
    "model.compile(loss='binary_crossentropy', \n",
    "              optimizer='adam', metrics=['accuracy'])"
   ]
  },
  {
   "cell_type": "code",
   "execution_count": 95,
   "metadata": {
    "collapsed": false
   },
   "outputs": [
    {
     "name": "stdout",
     "output_type": "stream",
     "text": [
      "Train on 759 samples, validate on 85 samples\n",
      "Epoch 1/30\n",
      "759/759 [==============================] - 1s 665us/step - loss: 0.6687 - acc: 0.7286 - val_loss: 0.6220 - val_acc: 0.8235\n",
      "Epoch 2/30\n",
      "759/759 [==============================] - 0s 82us/step - loss: 0.6089 - acc: 0.8155 - val_loss: 0.5398 - val_acc: 0.8471\n",
      "Epoch 3/30\n",
      "759/759 [==============================] - 0s 92us/step - loss: 0.5425 - acc: 0.8182 - val_loss: 0.4555 - val_acc: 0.8471\n",
      "Epoch 4/30\n",
      "759/759 [==============================] - 0s 112us/step - loss: 0.4813 - acc: 0.8221 - val_loss: 0.3898 - val_acc: 0.8471\n",
      "Epoch 5/30\n",
      "759/759 [==============================] - 0s 105us/step - loss: 0.4342 - acc: 0.8314 - val_loss: 0.3471 - val_acc: 0.8471\n",
      "Epoch 6/30\n",
      "759/759 [==============================] - 0s 103us/step - loss: 0.4016 - acc: 0.8366 - val_loss: 0.3166 - val_acc: 0.8588\n",
      "Epoch 7/30\n",
      "759/759 [==============================] - 0s 113us/step - loss: 0.3768 - acc: 0.8485 - val_loss: 0.2962 - val_acc: 0.8706\n",
      "Epoch 8/30\n",
      "759/759 [==============================] - 0s 91us/step - loss: 0.3582 - acc: 0.8630 - val_loss: 0.2803 - val_acc: 0.8824\n",
      "Epoch 9/30\n",
      "759/759 [==============================] - 0s 110us/step - loss: 0.3434 - acc: 0.8656 - val_loss: 0.2708 - val_acc: 0.8941\n",
      "Epoch 10/30\n",
      "759/759 [==============================] - 0s 108us/step - loss: 0.3306 - acc: 0.8696 - val_loss: 0.2626 - val_acc: 0.8941\n",
      "Epoch 11/30\n",
      "759/759 [==============================] - 0s 110us/step - loss: 0.3207 - acc: 0.8748 - val_loss: 0.2541 - val_acc: 0.8941\n",
      "Epoch 12/30\n",
      "759/759 [==============================] - 0s 96us/step - loss: 0.3125 - acc: 0.8762 - val_loss: 0.2509 - val_acc: 0.8941\n",
      "Epoch 13/30\n",
      "759/759 [==============================] - 0s 111us/step - loss: 0.3053 - acc: 0.8775 - val_loss: 0.2488 - val_acc: 0.8941\n",
      "Epoch 14/30\n",
      "759/759 [==============================] - 0s 109us/step - loss: 0.2997 - acc: 0.8841 - val_loss: 0.2436 - val_acc: 0.8941\n",
      "Epoch 15/30\n",
      "759/759 [==============================] - 0s 103us/step - loss: 0.2940 - acc: 0.8854 - val_loss: 0.2439 - val_acc: 0.8941\n",
      "Epoch 16/30\n",
      "759/759 [==============================] - 0s 102us/step - loss: 0.2892 - acc: 0.8893 - val_loss: 0.2395 - val_acc: 0.8941\n",
      "Epoch 17/30\n",
      "759/759 [==============================] - 0s 101us/step - loss: 0.2846 - acc: 0.8933 - val_loss: 0.2373 - val_acc: 0.8941\n",
      "Epoch 18/30\n",
      "759/759 [==============================] - 0s 121us/step - loss: 0.2814 - acc: 0.8920 - val_loss: 0.2390 - val_acc: 0.8941\n",
      "Epoch 19/30\n",
      "759/759 [==============================] - 0s 106us/step - loss: 0.2777 - acc: 0.8933 - val_loss: 0.2345 - val_acc: 0.8941\n",
      "Epoch 20/30\n",
      "759/759 [==============================] - 0s 115us/step - loss: 0.2745 - acc: 0.8946 - val_loss: 0.2326 - val_acc: 0.8941\n",
      "Epoch 21/30\n",
      "759/759 [==============================] - 0s 96us/step - loss: 0.2712 - acc: 0.8959 - val_loss: 0.2331 - val_acc: 0.8941\n",
      "Epoch 22/30\n",
      "759/759 [==============================] - 0s 112us/step - loss: 0.2678 - acc: 0.8946 - val_loss: 0.2322 - val_acc: 0.8941\n",
      "Epoch 23/30\n",
      "759/759 [==============================] - 0s 109us/step - loss: 0.2659 - acc: 0.8946 - val_loss: 0.2295 - val_acc: 0.9176\n",
      "Epoch 24/30\n",
      "759/759 [==============================] - 0s 108us/step - loss: 0.2638 - acc: 0.8999 - val_loss: 0.2279 - val_acc: 0.9059\n",
      "Epoch 25/30\n",
      "759/759 [==============================] - 0s 90us/step - loss: 0.2617 - acc: 0.8986 - val_loss: 0.2274 - val_acc: 0.9059\n",
      "Epoch 26/30\n",
      "759/759 [==============================] - 0s 101us/step - loss: 0.2591 - acc: 0.8986 - val_loss: 0.2260 - val_acc: 0.9059\n",
      "Epoch 27/30\n",
      "759/759 [==============================] - 0s 106us/step - loss: 0.2572 - acc: 0.9038 - val_loss: 0.2269 - val_acc: 0.9059\n",
      "Epoch 28/30\n",
      "759/759 [==============================] - 0s 110us/step - loss: 0.2543 - acc: 0.9012 - val_loss: 0.2293 - val_acc: 0.9059\n"
     ]
    }
   ],
   "source": [
    "train_history =model.fit(x=train_Features, \n",
    "                         y=train_Label, \n",
    "                         validation_split=0.1, \n",
    "                         epochs=30, \n",
    "                         batch_size=60,verbose=1,callbacks=[early_stopping])"
   ]
  },
  {
   "cell_type": "code",
   "execution_count": 96,
   "metadata": {
    "collapsed": true
   },
   "outputs": [],
   "source": [
    "import matplotlib.pyplot as plt\n",
    "def show_train_history(train_history,train,validation):\n",
    "    plt.plot(train_history.history[train])\n",
    "    plt.plot(train_history.history[validation])\n",
    "    plt.title('Train History')\n",
    "    plt.ylabel(train)\n",
    "    plt.xlabel('Epoch')\n",
    "    plt.legend(['train', 'validation'], loc='upper left')\n",
    "    plt.show()"
   ]
  },
  {
   "cell_type": "code",
   "execution_count": 97,
   "metadata": {
    "collapsed": false
   },
   "outputs": [
    {
     "data": {
      "image/png": "[encoded data removed]",
      "text/plain": [
       "<matplotlib.figure.Figure at 0x7f3ff4c19978>"
      ]
     },
     "metadata": {},
     "output_type": "display_data"
    }
   ],
   "source": [
    "show_train_history(train_history,'acc','val_acc')"
   ]
  },
  {
   "cell_type": "code",
   "execution_count": 98,
   "metadata": {
    "collapsed": false
   },
   "outputs": [
    {
     "data": {
      "image/png": "[encoded data removed]",
      "text/plain": [
       "<matplotlib.figure.Figure at 0x7f3ff4be60b8>"
      ]
     },
     "metadata": {},
     "output_type": "display_data"
    }
   ],
   "source": [
    "show_train_history(train_history,'loss','val_loss')"
   ]
  },
  {
   "cell_type": "code",
   "execution_count": 99,
   "metadata": {
    "collapsed": false
   },
   "outputs": [
    {
     "name": "stdout",
     "output_type": "stream",
     "text": [
      "211/211 [==============================] - 0s 54us/step\n"
     ]
    }
   ],
   "source": [
    "scores = model.evaluate(x=test_Features, \n",
    "                        y=test_Label)"
   ]
  },
  {
   "cell_type": "code",
   "execution_count": 100,
   "metadata": {
    "collapsed": false
   },
   "outputs": [
    {
     "data": {
      "text/plain": [
       "0.8436018943221648"
      ]
     },
     "execution_count": 100,
     "metadata": {},
     "output_type": "execute_result"
    }
   ],
   "source": [
    "scores[1]"
   ]
  }
 ],
 "metadata": {
  "anaconda-cloud": {},
  "kernelspec": {
   "display_name": "Python [conda root]",
   "language": "python",
   "name": "conda-root-py"
  },
  "language_info": {
   "codemirror_mode": {
    "name": "ipython",
    "version": 3
   },
   "file_extension": ".py",
   "mimetype": "text/x-python",
   "name": "python",
   "nbconvert_exporter": "python",
   "pygments_lexer": "ipython3",
   "version": "3.5.2"
  }
 },
 "nbformat": 4,
 "nbformat_minor": 1
}
