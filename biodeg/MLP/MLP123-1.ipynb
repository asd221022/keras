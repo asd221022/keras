{
 "cells": [
  {
   "cell_type": "code",
   "execution_count": 1,
   "metadata": {
    "collapsed": true,
    "slideshow": {
     "slide_type": "-"
    }
   },
   "outputs": [],
   "source": [
    "import numpy\n",
    "import pandas as pd\n",
    "from sklearn.preprocessing import StandardScaler\n",
    "from sklearn.model_selection import train_test_split\n",
    "numpy.random.seed(10)"
   ]
  },
  {
   "cell_type": "code",
   "execution_count": 2,
   "metadata": {
    "collapsed": true
   },
   "outputs": [],
   "source": [
    "all_df = pd.read_csv(\"data.csv\")"
   ]
  },
  {
   "cell_type": "code",
   "execution_count": 3,
   "metadata": {
    "collapsed": false
   },
   "outputs": [],
   "source": [
    "all_df['class']= all_df['class'].map({'RB':0, 'NRB': 1}).astype(int)"
   ]
  },
  {
   "cell_type": "code",
   "execution_count": 4,
   "metadata": {
    "collapsed": false
   },
   "outputs": [
    {
     "data": {
      "text/plain": [
       "(1055, 42)"
      ]
     },
     "execution_count": 4,
     "metadata": {},
     "output_type": "execute_result"
    }
   ],
   "source": [
    "all_df.shape"
   ]
  },
  {
   "cell_type": "code",
   "execution_count": 5,
   "metadata": {
    "collapsed": true
   },
   "outputs": [],
   "source": [
    "X=all_df.drop(['class'], axis=1).values.astype('float64')"
   ]
  },
  {
   "cell_type": "code",
   "execution_count": 6,
   "metadata": {
    "collapsed": true
   },
   "outputs": [],
   "source": [
    "Y = all_df['class'].values.astype('int64')"
   ]
  },
  {
   "cell_type": "code",
   "execution_count": 7,
   "metadata": {
    "collapsed": false
   },
   "outputs": [
    {
     "data": {
      "text/plain": [
       "(1055, 41)"
      ]
     },
     "execution_count": 7,
     "metadata": {},
     "output_type": "execute_result"
    }
   ],
   "source": [
    "X.shape"
   ]
  },
  {
   "cell_type": "code",
   "execution_count": 8,
   "metadata": {
    "collapsed": false
   },
   "outputs": [
    {
     "data": {
      "text/plain": [
       "844"
      ]
     },
     "execution_count": 8,
     "metadata": {},
     "output_type": "execute_result"
    }
   ],
   "source": [
    " X = StandardScaler().fit_transform(X)\n",
    "train_Features, test_Features, train_Label, test_Label = train_test_split(X, Y, test_size=0.2, random_state=True) \n",
    "len(train_Features)"
   ]
  },
  {
   "cell_type": "code",
   "execution_count": 9,
   "metadata": {
    "collapsed": false
   },
   "outputs": [
    {
     "name": "stderr",
     "output_type": "stream",
     "text": [
      "Using TensorFlow backend.\n"
     ]
    }
   ],
   "source": [
    "from keras.models import Sequential\n",
    "from keras.layers import Dense,Dropout\n",
    "from keras.callbacks import EarlyStopping\n",
    "early_stopping = EarlyStopping(monitor='val_loss', patience=2)"
   ]
  },
  {
   "cell_type": "code",
   "execution_count": 10,
   "metadata": {
    "collapsed": true
   },
   "outputs": [],
   "source": [
    "model = Sequential()"
   ]
  },
  {
   "cell_type": "code",
   "execution_count": 11,
   "metadata": {
    "collapsed": true
   },
   "outputs": [],
   "source": [
    "model.add(Dense(units=123,   input_dim=41,\n",
    "                kernel_initializer='uniform', \n",
    "                activation='relu'))"
   ]
  },
  {
   "cell_type": "code",
   "execution_count": 12,
   "metadata": {
    "collapsed": true
   },
   "outputs": [],
   "source": [
    "model.add(Dense(units=1, \n",
    "                kernel_initializer='uniform',\n",
    "                activation='sigmoid'))"
   ]
  },
  {
   "cell_type": "code",
   "execution_count": 13,
   "metadata": {
    "collapsed": false
   },
   "outputs": [
    {
     "name": "stdout",
     "output_type": "stream",
     "text": [
      "_________________________________________________________________\n",
      "Layer (type)                 Output Shape              Param #   \n",
      "=================================================================\n",
      "dense_1 (Dense)              (None, 123)               5166      \n",
      "_________________________________________________________________\n",
      "dense_2 (Dense)              (None, 1)                 124       \n",
      "=================================================================\n",
      "Total params: 5,290\n",
      "Trainable params: 5,290\n",
      "Non-trainable params: 0\n",
      "_________________________________________________________________\n"
     ]
    }
   ],
   "source": [
    "model.summary()"
   ]
  },
  {
   "cell_type": "code",
   "execution_count": 14,
   "metadata": {
    "collapsed": true
   },
   "outputs": [],
   "source": [
    "model.compile(loss='binary_crossentropy', \n",
    "              optimizer='adam', metrics=['accuracy'])"
   ]
  },
  {
   "cell_type": "code",
   "execution_count": 15,
   "metadata": {
    "collapsed": false
   },
   "outputs": [
    {
     "name": "stdout",
     "output_type": "stream",
     "text": [
      "Train on 759 samples, validate on 85 samples\n",
      "Epoch 1/30\n",
      "759/759 [==============================] - 1s 763us/step - loss: 0.6556 - acc: 0.7681 - val_loss: 0.5855 - val_acc: 0.8471\n",
      "Epoch 2/30\n",
      "759/759 [==============================] - 0s 99us/step - loss: 0.5742 - acc: 0.8142 - val_loss: 0.4855 - val_acc: 0.8471\n",
      "Epoch 3/30\n",
      "759/759 [==============================] - 0s 112us/step - loss: 0.4987 - acc: 0.8182 - val_loss: 0.4019 - val_acc: 0.8471\n",
      "Epoch 4/30\n",
      "759/759 [==============================] - 0s 118us/step - loss: 0.4393 - acc: 0.8300 - val_loss: 0.3475 - val_acc: 0.8471\n",
      "Epoch 5/30\n",
      "759/759 [==============================] - 0s 135us/step - loss: 0.3984 - acc: 0.8353 - val_loss: 0.3143 - val_acc: 0.8588\n",
      "Epoch 6/30\n",
      "759/759 [==============================] - 0s 129us/step - loss: 0.3705 - acc: 0.8472 - val_loss: 0.2898 - val_acc: 0.8588\n",
      "Epoch 7/30\n",
      "759/759 [==============================] - 0s 121us/step - loss: 0.3495 - acc: 0.8577 - val_loss: 0.2739 - val_acc: 0.8824\n",
      "Epoch 8/30\n",
      "759/759 [==============================] - 0s 132us/step - loss: 0.3340 - acc: 0.8682 - val_loss: 0.2626 - val_acc: 0.8941\n",
      "Epoch 9/30\n",
      "759/759 [==============================] - 0s 112us/step - loss: 0.3220 - acc: 0.8735 - val_loss: 0.2571 - val_acc: 0.8941\n",
      "Epoch 10/30\n",
      "759/759 [==============================] - 0s 119us/step - loss: 0.3114 - acc: 0.8748 - val_loss: 0.2512 - val_acc: 0.8941\n",
      "Epoch 11/30\n",
      "759/759 [==============================] - 0s 138us/step - loss: 0.3030 - acc: 0.8814 - val_loss: 0.2436 - val_acc: 0.8941\n",
      "Epoch 12/30\n",
      "759/759 [==============================] - 0s 128us/step - loss: 0.2963 - acc: 0.8880 - val_loss: 0.2420 - val_acc: 0.8941\n",
      "Epoch 13/30\n",
      "759/759 [==============================] - 0s 118us/step - loss: 0.2900 - acc: 0.8906 - val_loss: 0.2408 - val_acc: 0.8941\n",
      "Epoch 14/30\n",
      "759/759 [==============================] - 0s 124us/step - loss: 0.2854 - acc: 0.8906 - val_loss: 0.2359 - val_acc: 0.8941\n",
      "Epoch 15/30\n",
      "759/759 [==============================] - 0s 116us/step - loss: 0.2801 - acc: 0.8933 - val_loss: 0.2374 - val_acc: 0.8941\n",
      "Epoch 16/30\n",
      "759/759 [==============================] - 0s 142us/step - loss: 0.2758 - acc: 0.8933 - val_loss: 0.2322 - val_acc: 0.8941\n",
      "Epoch 17/30\n",
      "759/759 [==============================] - 0s 137us/step - loss: 0.2714 - acc: 0.8986 - val_loss: 0.2300 - val_acc: 0.8941\n",
      "Epoch 18/30\n",
      "759/759 [==============================] - 0s 127us/step - loss: 0.2689 - acc: 0.8946 - val_loss: 0.2324 - val_acc: 0.8941\n",
      "Epoch 19/30\n",
      "759/759 [==============================] - 0s 119us/step - loss: 0.2656 - acc: 0.8946 - val_loss: 0.2264 - val_acc: 0.8941\n",
      "Epoch 20/30\n",
      "759/759 [==============================] - 0s 138us/step - loss: 0.2625 - acc: 0.8999 - val_loss: 0.2250 - val_acc: 0.9059\n",
      "Epoch 21/30\n",
      "759/759 [==============================] - 0s 98us/step - loss: 0.2596 - acc: 0.8999 - val_loss: 0.2253 - val_acc: 0.8941\n",
      "Epoch 22/30\n",
      "759/759 [==============================] - 0s 134us/step - loss: 0.2557 - acc: 0.9025 - val_loss: 0.2236 - val_acc: 0.9059\n",
      "Epoch 23/30\n",
      "759/759 [==============================] - 0s 120us/step - loss: 0.2545 - acc: 0.9012 - val_loss: 0.2212 - val_acc: 0.9176\n",
      "Epoch 24/30\n",
      "759/759 [==============================] - 0s 126us/step - loss: 0.2524 - acc: 0.9038 - val_loss: 0.2192 - val_acc: 0.9059\n",
      "Epoch 25/30\n",
      "759/759 [==============================] - 0s 129us/step - loss: 0.2504 - acc: 0.9012 - val_loss: 0.2186 - val_acc: 0.9059\n",
      "Epoch 26/30\n",
      "759/759 [==============================] - 0s 122us/step - loss: 0.2476 - acc: 0.8986 - val_loss: 0.2174 - val_acc: 0.9176\n",
      "Epoch 27/30\n",
      "759/759 [==============================] - 0s 125us/step - loss: 0.2457 - acc: 0.9012 - val_loss: 0.2185 - val_acc: 0.9176\n",
      "Epoch 28/30\n",
      "759/759 [==============================] - 0s 118us/step - loss: 0.2425 - acc: 0.8986 - val_loss: 0.2213 - val_acc: 0.9059\n"
     ]
    }
   ],
   "source": [
    "train_history =model.fit(x=train_Features, \n",
    "                         y=train_Label, \n",
    "                         validation_split=0.1, \n",
    "                         epochs=30, \n",
    "                         batch_size=60,verbose=1,callbacks=[early_stopping])"
   ]
  },
  {
   "cell_type": "code",
   "execution_count": 16,
   "metadata": {
    "collapsed": true
   },
   "outputs": [],
   "source": [
    "import matplotlib.pyplot as plt\n",
    "def show_train_history(train_history,train,validation):\n",
    "    plt.plot(train_history.history[train])\n",
    "    plt.plot(train_history.history[validation])\n",
    "    plt.title('Train History')\n",
    "    plt.ylabel(train)\n",
    "    plt.xlabel('Epoch')\n",
    "    plt.legend(['train', 'validation'], loc='upper left')\n",
    "    plt.show()"
   ]
  },
  {
   "cell_type": "code",
   "execution_count": 17,
   "metadata": {
    "collapsed": false
   },
   "outputs": [
    {
     "data": {
      "image/png": "[encoded data removed]",
      "text/plain": [
       "<matplotlib.figure.Figure at 0x7fa070df4e48>"
      ]
     },
     "metadata": {},
     "output_type": "display_data"
    }
   ],
   "source": [
    "show_train_history(train_history,'acc','val_acc')"
   ]
  },
  {
   "cell_type": "code",
   "execution_count": 18,
   "metadata": {
    "collapsed": false
   },
   "outputs": [
    {
     "data": {
      "image/png": "[encoded data removed]",
      "text/plain": [
       "<matplotlib.figure.Figure at 0x7fa070df4d68>"
      ]
     },
     "metadata": {},
     "output_type": "display_data"
    }
   ],
   "source": [
    "show_train_history(train_history,'loss','val_loss')"
   ]
  },
  {
   "cell_type": "code",
   "execution_count": 19,
   "metadata": {
    "collapsed": false
   },
   "outputs": [
    {
     "name": "stdout",
     "output_type": "stream",
     "text": [
      "211/211 [==============================] - 0s 95us/step\n"
     ]
    }
   ],
   "source": [
    "scores = model.evaluate(x=test_Features, \n",
    "                        y=test_Label)"
   ]
  },
  {
   "cell_type": "code",
   "execution_count": 20,
   "metadata": {
    "collapsed": false
   },
   "outputs": [
    {
     "data": {
      "text/plain": [
       "0.8388625578292738"
      ]
     },
     "execution_count": 20,
     "metadata": {},
     "output_type": "execute_result"
    }
   ],
   "source": [
    "scores[1]"
   ]
  }
 ],
 "metadata": {
  "anaconda-cloud": {},
  "kernelspec": {
   "display_name": "Python [conda root]",
   "language": "python",
   "name": "conda-root-py"
  },
  "language_info": {
   "codemirror_mode": {
    "name": "ipython",
    "version": 3
   },
   "file_extension": ".py",
   "mimetype": "text/x-python",
   "name": "python",
   "nbconvert_exporter": "python",
   "pygments_lexer": "ipython3",
   "version": "3.5.2"
  }
 },
 "nbformat": 4,
 "nbformat_minor": 1
}
