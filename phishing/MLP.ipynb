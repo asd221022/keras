{
 "cells": [
  {
   "cell_type": "code",
   "execution_count": 1,
   "metadata": {
    "collapsed": true
   },
   "outputs": [],
   "source": [
    "import numpy\n",
    "import pandas as pd\n",
    "from sklearn import preprocessing\n",
    "numpy.random.seed(10)"
   ]
  },
  {
   "cell_type": "code",
   "execution_count": 2,
   "metadata": {
    "collapsed": false
   },
   "outputs": [],
   "source": [
    "all_df = pd.read_excel(\"data/PhishingData.xlsx\")"
   ]
  },
  {
   "cell_type": "code",
   "execution_count": 3,
   "metadata": {
    "collapsed": false
   },
   "outputs": [],
   "source": [
    "cols=['Result','SFH','Widnow','SSLfinal' ,'Request', 'Anchor',\n",
    "       'Traffic','Length','Domain','IP',]\n",
    "all_df=all_df[cols]"
   ]
  },
  {
   "cell_type": "code",
   "execution_count": 4,
   "metadata": {
    "collapsed": false
   },
   "outputs": [
    {
     "name": "stdout",
     "output_type": "stream",
     "text": [
      "total: 1353 train: 1072 test: 281\n"
     ]
    }
   ],
   "source": [
    "msk = numpy.random.rand(len(all_df)) < 0.8\n",
    "train_df = all_df[msk]\n",
    "test_df = all_df[~msk]\n",
    "print('total:',len(all_df),\n",
    "      'train:',len(train_df),\n",
    "      'test:',len(test_df))"
   ]
  },
  {
   "cell_type": "code",
   "execution_count": 5,
   "metadata": {
    "collapsed": false
   },
   "outputs": [],
   "source": [
    "trainray= train_df.values\n",
    "train_Features = trainray[:,1:]\n",
    "train_Label = trainray[:,0]\n",
    "    \n",
    "testray= test_df.values\n",
    "test_Features = testray[:,1:]\n",
    "test_Label = testray[:,0]"
   ]
  },
  {
   "cell_type": "code",
   "execution_count": 6,
   "metadata": {
    "collapsed": false
   },
   "outputs": [
    {
     "data": {
      "text/plain": [
       "array([[ 1, -1,  1, -1, -1,  1,  1,  1,  0],\n",
       "       [-1, -1, -1, -1, -1,  0,  1,  1,  1],\n",
       "       [ 1, -1,  0,  0, -1,  0, -1,  1,  0],\n",
       "       [ 1,  0,  1, -1, -1,  0,  1,  1,  0]])"
      ]
     },
     "execution_count": 6,
     "metadata": {},
     "output_type": "execute_result"
    }
   ],
   "source": [
    "train_Features[:4]"
   ]
  },
  {
   "cell_type": "code",
   "execution_count": 7,
   "metadata": {
    "collapsed": false
   },
   "outputs": [
    {
     "data": {
      "text/plain": [
       "array([0, 1, 1, 0])"
      ]
     },
     "execution_count": 7,
     "metadata": {},
     "output_type": "execute_result"
    }
   ],
   "source": [
    "train_Label[:4]"
   ]
  },
  {
   "cell_type": "code",
   "execution_count": 8,
   "metadata": {
    "collapsed": false
   },
   "outputs": [
    {
     "name": "stderr",
     "output_type": "stream",
     "text": [
      "Using TensorFlow backend.\n"
     ]
    }
   ],
   "source": [
    "from keras.models import Sequential\n",
    "from keras.layers import Dense,Dropout"
   ]
  },
  {
   "cell_type": "code",
   "execution_count": 9,
   "metadata": {
    "collapsed": true
   },
   "outputs": [],
   "source": [
    "model = Sequential()"
   ]
  },
  {
   "cell_type": "code",
   "execution_count": 10,
   "metadata": {
    "collapsed": true
   },
   "outputs": [],
   "source": [
    "model.add(Dense(units=40, input_dim=9, \n",
    "                kernel_initializer='uniform', \n",
    "                activation='relu'))"
   ]
  },
  {
   "cell_type": "code",
   "execution_count": 11,
   "metadata": {
    "collapsed": true
   },
   "outputs": [],
   "source": [
    "model.add(Dense(units=30, \n",
    "                kernel_initializer='uniform', \n",
    "                activation='relu'))"
   ]
  },
  {
   "cell_type": "code",
   "execution_count": 12,
   "metadata": {
    "collapsed": true
   },
   "outputs": [],
   "source": [
    "model.add(Dense(units=20, \n",
    "                kernel_initializer='uniform', \n",
    "                activation='relu'))"
   ]
  },
  {
   "cell_type": "code",
   "execution_count": 13,
   "metadata": {
    "collapsed": true
   },
   "outputs": [],
   "source": [
    "model.add(Dense(units=10, \n",
    "                kernel_initializer='uniform', \n",
    "                activation='relu'))"
   ]
  },
  {
   "cell_type": "code",
   "execution_count": 14,
   "metadata": {
    "collapsed": true
   },
   "outputs": [],
   "source": [
    "model.add(Dense(units=1, \n",
    "                kernel_initializer='uniform',\n",
    "                activation='sigmoid'))"
   ]
  },
  {
   "cell_type": "code",
   "execution_count": 15,
   "metadata": {
    "collapsed": false
   },
   "outputs": [
    {
     "name": "stdout",
     "output_type": "stream",
     "text": [
      "_________________________________________________________________\n",
      "Layer (type)                 Output Shape              Param #   \n",
      "=================================================================\n",
      "dense_1 (Dense)              (None, 40)                400       \n",
      "_________________________________________________________________\n",
      "dense_2 (Dense)              (None, 30)                1230      \n",
      "_________________________________________________________________\n",
      "dense_3 (Dense)              (None, 20)                620       \n",
      "_________________________________________________________________\n",
      "dense_4 (Dense)              (None, 10)                210       \n",
      "_________________________________________________________________\n",
      "dense_5 (Dense)              (None, 1)                 11        \n",
      "=================================================================\n",
      "Total params: 2,471\n",
      "Trainable params: 2,471\n",
      "Non-trainable params: 0\n",
      "_________________________________________________________________\n"
     ]
    }
   ],
   "source": [
    "model.summary()"
   ]
  },
  {
   "cell_type": "code",
   "execution_count": 16,
   "metadata": {
    "collapsed": true
   },
   "outputs": [],
   "source": [
    "model.compile(loss='binary_crossentropy', \n",
    "              optimizer='adam', metrics=['accuracy'])"
   ]
  },
  {
   "cell_type": "code",
   "execution_count": 17,
   "metadata": {
    "collapsed": false
   },
   "outputs": [
    {
     "name": "stdout",
     "output_type": "stream",
     "text": [
      "Train on 964 samples, validate on 108 samples\n",
      "Epoch 1/30\n",
      " - 1s - loss: 0.6831 - acc: 0.0757 - val_loss: 0.6691 - val_acc: 0.0926\n",
      "Epoch 2/30\n",
      " - 0s - loss: 0.6365 - acc: 0.0757 - val_loss: 0.5593 - val_acc: 0.0926\n",
      "Epoch 3/30\n",
      " - 0s - loss: 0.2727 - acc: 0.0757 - val_loss: -2.9775e-01 - val_acc: 0.0926\n",
      "Epoch 4/30\n",
      " - 0s - loss: -1.7332e+00 - acc: 0.0757 - val_loss: -4.0932e+00 - val_acc: 0.0926\n",
      "Epoch 5/30\n",
      " - 0s - loss: -5.4322e+00 - acc: 0.0757 - val_loss: -6.0280e+00 - val_acc: 0.0926\n",
      "Epoch 6/30\n",
      " - 0s - loss: -6.1429e+00 - acc: 0.2386 - val_loss: -6.2734e+00 - val_acc: 0.3241\n",
      "Epoch 7/30\n",
      " - 0s - loss: -6.3275e+00 - acc: 0.3620 - val_loss: -6.4095e+00 - val_acc: 0.3519\n",
      "Epoch 8/30\n",
      " - 0s - loss: -6.4340e+00 - acc: 0.3683 - val_loss: -6.5467e+00 - val_acc: 0.3704\n",
      "Epoch 9/30\n",
      " - 0s - loss: -6.5099e+00 - acc: 0.3724 - val_loss: -6.5826e+00 - val_acc: 0.3889\n",
      "Epoch 10/30\n",
      " - 0s - loss: -6.5451e+00 - acc: 0.3766 - val_loss: -6.6538e+00 - val_acc: 0.3981\n",
      "Epoch 11/30\n",
      " - 0s - loss: -6.6088e+00 - acc: 0.3724 - val_loss: -6.7255e+00 - val_acc: 0.3889\n",
      "Epoch 12/30\n",
      " - 0s - loss: -6.6449e+00 - acc: 0.3786 - val_loss: -6.7731e+00 - val_acc: 0.3889\n",
      "Epoch 13/30\n",
      " - 0s - loss: -6.6805e+00 - acc: 0.3786 - val_loss: -6.7983e+00 - val_acc: 0.3796\n",
      "Epoch 14/30\n",
      " - 0s - loss: -6.7087e+00 - acc: 0.3817 - val_loss: -6.8525e+00 - val_acc: 0.3796\n",
      "Epoch 15/30\n",
      " - 0s - loss: -6.7238e+00 - acc: 0.3786 - val_loss: -6.8630e+00 - val_acc: 0.3704\n",
      "Epoch 16/30\n",
      " - 0s - loss: -6.7521e+00 - acc: 0.3838 - val_loss: -6.9083e+00 - val_acc: 0.3704\n",
      "Epoch 17/30\n",
      " - 0s - loss: -6.7600e+00 - acc: 0.3797 - val_loss: -6.9538e+00 - val_acc: 0.3796\n",
      "Epoch 18/30\n",
      " - 0s - loss: -6.7754e+00 - acc: 0.3880 - val_loss: -6.9672e+00 - val_acc: 0.3704\n",
      "Epoch 19/30\n",
      " - 0s - loss: -6.7909e+00 - acc: 0.3817 - val_loss: -7.0134e+00 - val_acc: 0.3704\n",
      "Epoch 20/30\n",
      " - 0s - loss: -6.8016e+00 - acc: 0.3880 - val_loss: -7.0039e+00 - val_acc: 0.3889\n",
      "Epoch 21/30\n",
      " - 0s - loss: -6.7905e+00 - acc: 0.3942 - val_loss: -7.0286e+00 - val_acc: 0.3889\n",
      "Epoch 22/30\n",
      " - 0s - loss: -6.8016e+00 - acc: 0.3838 - val_loss: -7.0219e+00 - val_acc: 0.3889\n",
      "Epoch 23/30\n",
      " - 0s - loss: -6.8259e+00 - acc: 0.3963 - val_loss: -7.0094e+00 - val_acc: 0.3889\n",
      "Epoch 24/30\n",
      " - 0s - loss: -6.8258e+00 - acc: 0.3952 - val_loss: -7.0160e+00 - val_acc: 0.3889\n",
      "Epoch 25/30\n",
      " - 0s - loss: -6.8342e+00 - acc: 0.3994 - val_loss: -7.0107e+00 - val_acc: 0.3889\n",
      "Epoch 26/30\n",
      " - 0s - loss: -6.8403e+00 - acc: 0.3963 - val_loss: -7.0525e+00 - val_acc: 0.3889\n",
      "Epoch 27/30\n",
      " - 0s - loss: -6.8428e+00 - acc: 0.3983 - val_loss: -7.0339e+00 - val_acc: 0.3981\n",
      "Epoch 28/30\n",
      " - 0s - loss: -6.8496e+00 - acc: 0.4004 - val_loss: -7.0751e+00 - val_acc: 0.3889\n",
      "Epoch 29/30\n",
      " - 0s - loss: -6.8575e+00 - acc: 0.4046 - val_loss: -7.0571e+00 - val_acc: 0.3981\n",
      "Epoch 30/30\n",
      " - 0s - loss: -6.8588e+00 - acc: 0.3963 - val_loss: -7.0899e+00 - val_acc: 0.3981\n"
     ]
    }
   ],
   "source": [
    "train_history =model.fit(x=train_Features, \n",
    "                         y=train_Label, \n",
    "                         validation_split=0.1, \n",
    "                         epochs=30, \n",
    "                         batch_size=35,verbose=2)"
   ]
  },
  {
   "cell_type": "code",
   "execution_count": 18,
   "metadata": {
    "collapsed": true
   },
   "outputs": [],
   "source": [
    "import matplotlib.pyplot as plt\n",
    "def show_train_history(train_history,train,validation):\n",
    "    plt.plot(train_history.history[train])\n",
    "    plt.plot(train_history.history[validation])\n",
    "    plt.title('Train History')\n",
    "    plt.ylabel(train)\n",
    "    plt.xlabel('Epoch')\n",
    "    plt.legend(['train', 'validation'], loc='upper left')\n",
    "    plt.show()"
   ]
  },
  {
   "cell_type": "code",
   "execution_count": 19,
   "metadata": {
    "collapsed": false
   },
   "outputs": [
    {
     "data": {
      "image/png": "[encoded data removed]",
      "text/plain": [
       "<matplotlib.figure.Figure at 0x7f650d572fd0>"
      ]
     },
     "metadata": {},
     "output_type": "display_data"
    }
   ],
   "source": [
    "show_train_history(train_history,'acc','val_acc')"
   ]
  },
  {
   "cell_type": "code",
   "execution_count": 20,
   "metadata": {
    "collapsed": false
   },
   "outputs": [
    {
     "data": {
      "image/png": "[encoded data removed]",
      "text/plain": [
       "<matplotlib.figure.Figure at 0x7f64f81c9cf8>"
      ]
     },
     "metadata": {},
     "output_type": "display_data"
    }
   ],
   "source": [
    "show_train_history(train_history,'loss','val_loss')"
   ]
  },
  {
   "cell_type": "code",
   "execution_count": 21,
   "metadata": {
    "collapsed": false
   },
   "outputs": [
    {
     "name": "stdout",
     "output_type": "stream",
     "text": [
      "281/281 [==============================] - 0s 139us/step\n"
     ]
    }
   ],
   "source": [
    "scores = model.evaluate(x=test_Features, \n",
    "                        y=test_Label)"
   ]
  },
  {
   "cell_type": "code",
   "execution_count": 22,
   "metadata": {
    "collapsed": false
   },
   "outputs": [
    {
     "data": {
      "text/plain": [
       "0.34519572964342465"
      ]
     },
     "execution_count": 22,
     "metadata": {},
     "output_type": "execute_result"
    }
   ],
   "source": [
    "scores[1]"
   ]
  }
 ],
 "metadata": {
  "anaconda-cloud": {},
  "kernelspec": {
   "display_name": "Python [default]",
   "language": "python",
   "name": "python3"
  },
  "language_info": {
   "codemirror_mode": {
    "name": "ipython",
    "version": 3
   },
   "file_extension": ".py",
   "mimetype": "text/x-python",
   "name": "python",
   "nbconvert_exporter": "python",
   "pygments_lexer": "ipython3",
   "version": "3.5.2"
  }
 },
 "nbformat": 4,
 "nbformat_minor": 1
}
