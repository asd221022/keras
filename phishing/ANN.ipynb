{
 "cells": [
  {
   "cell_type": "code",
   "execution_count": 1,
   "metadata": {
    "collapsed": true
   },
   "outputs": [],
   "source": [
    "import numpy\n",
    "import pandas as pd\n",
    "from sklearn import preprocessing\n",
    "numpy.random.seed(10)"
   ]
  },
  {
   "cell_type": "code",
   "execution_count": 2,
   "metadata": {
    "collapsed": false
   },
   "outputs": [],
   "source": [
    "all_df = pd.read_excel(\"data/PhishingData.xlsx\")"
   ]
  },
  {
   "cell_type": "code",
   "execution_count": 3,
   "metadata": {
    "collapsed": false
   },
   "outputs": [],
   "source": [
    "cols=['Result','SFH','Widnow','SSLfinal' ,'Request', 'Anchor',\n",
    "       'Traffic','Length','Domain','IP',]\n",
    "all_df=all_df[cols]"
   ]
  },
  {
   "cell_type": "code",
   "execution_count": 4,
   "metadata": {
    "collapsed": false
   },
   "outputs": [
    {
     "data": {
      "text/html": [
       "<div>\n",
       "<table border=\"1\" class=\"dataframe\">\n",
       "  <thead>\n",
       "    <tr style=\"text-align: right;\">\n",
       "      <th></th>\n",
       "      <th>Result</th>\n",
       "      <th>SFH</th>\n",
       "      <th>Widnow</th>\n",
       "      <th>SSLfinal</th>\n",
       "      <th>Request</th>\n",
       "      <th>Anchor</th>\n",
       "      <th>Traffic</th>\n",
       "      <th>Length</th>\n",
       "      <th>Domain</th>\n",
       "      <th>IP</th>\n",
       "    </tr>\n",
       "  </thead>\n",
       "  <tbody>\n",
       "    <tr>\n",
       "      <th>0</th>\n",
       "      <td>0</td>\n",
       "      <td>1</td>\n",
       "      <td>-1</td>\n",
       "      <td>1</td>\n",
       "      <td>-1</td>\n",
       "      <td>-1</td>\n",
       "      <td>1</td>\n",
       "      <td>1</td>\n",
       "      <td>1</td>\n",
       "      <td>0</td>\n",
       "    </tr>\n",
       "    <tr>\n",
       "      <th>1</th>\n",
       "      <td>1</td>\n",
       "      <td>-1</td>\n",
       "      <td>-1</td>\n",
       "      <td>-1</td>\n",
       "      <td>-1</td>\n",
       "      <td>-1</td>\n",
       "      <td>0</td>\n",
       "      <td>1</td>\n",
       "      <td>1</td>\n",
       "      <td>1</td>\n",
       "    </tr>\n",
       "  </tbody>\n",
       "</table>\n",
       "</div>"
      ],
      "text/plain": [
       "   Result  SFH  Widnow  SSLfinal  Request  Anchor  Traffic  Length  Domain  IP\n",
       "0       0    1      -1         1       -1      -1        1       1       1   0\n",
       "1       1   -1      -1        -1       -1      -1        0       1       1   1"
      ]
     },
     "execution_count": 4,
     "metadata": {},
     "output_type": "execute_result"
    }
   ],
   "source": [
    "all_df[:2]"
   ]
  },
  {
   "cell_type": "code",
   "execution_count": 5,
   "metadata": {
    "collapsed": false
   },
   "outputs": [
    {
     "name": "stdout",
     "output_type": "stream",
     "text": [
      "total: 1353 train: 1072 test: 281\n"
     ]
    }
   ],
   "source": [
    "msk = numpy.random.rand(len(all_df)) < 0.8\n",
    "train_df = all_df[msk]\n",
    "test_df = all_df[~msk]\n",
    "print('total:',len(all_df),\n",
    "      'train:',len(train_df),\n",
    "      'test:',len(test_df))"
   ]
  },
  {
   "cell_type": "code",
   "execution_count": 6,
   "metadata": {
    "collapsed": false
   },
   "outputs": [],
   "source": [
    "trainray= train_df.values\n",
    "train_Features = trainray[:,1:]\n",
    "train_Label = trainray[:,0]\n",
    "    \n",
    "testray= test_df.values\n",
    "test_Features = testray[:,1:]\n",
    "test_Label = testray[:,0]"
   ]
  },
  {
   "cell_type": "code",
   "execution_count": 7,
   "metadata": {
    "collapsed": false
   },
   "outputs": [
    {
     "data": {
      "text/plain": [
       "array([[ 1, -1,  1, -1, -1,  1,  1,  1,  0],\n",
       "       [-1, -1, -1, -1, -1,  0,  1,  1,  1],\n",
       "       [ 1, -1,  0,  0, -1,  0, -1,  1,  0],\n",
       "       [ 1,  0,  1, -1, -1,  0,  1,  1,  0]])"
      ]
     },
     "execution_count": 7,
     "metadata": {},
     "output_type": "execute_result"
    }
   ],
   "source": [
    "train_Features[:4]"
   ]
  },
  {
   "cell_type": "code",
   "execution_count": 8,
   "metadata": {
    "collapsed": false
   },
   "outputs": [
    {
     "data": {
      "text/plain": [
       "array([0, 1, 1, 0])"
      ]
     },
     "execution_count": 8,
     "metadata": {},
     "output_type": "execute_result"
    }
   ],
   "source": [
    "train_Label[:4]"
   ]
  },
  {
   "cell_type": "code",
   "execution_count": 9,
   "metadata": {
    "collapsed": false
   },
   "outputs": [
    {
     "name": "stderr",
     "output_type": "stream",
     "text": [
      "Using TensorFlow backend.\n"
     ]
    }
   ],
   "source": [
    "from keras.models import Sequential\n",
    "from keras.layers import Dense,Dropout"
   ]
  },
  {
   "cell_type": "code",
   "execution_count": 10,
   "metadata": {
    "collapsed": true
   },
   "outputs": [],
   "source": [
    "model = Sequential()"
   ]
  },
  {
   "cell_type": "code",
   "execution_count": 11,
   "metadata": {
    "collapsed": true
   },
   "outputs": [],
   "source": [
    "model.add(Dense(units=40, input_dim=9, \n",
    "                kernel_initializer='uniform', \n",
    "                activation='relu'))"
   ]
  },
  {
   "cell_type": "code",
   "execution_count": 12,
   "metadata": {
    "collapsed": true
   },
   "outputs": [],
   "source": [
    "model.add(Dense(units=4, \n",
    "                kernel_initializer='uniform', \n",
    "                activation='relu'))"
   ]
  },
  {
   "cell_type": "code",
   "execution_count": 13,
   "metadata": {
    "collapsed": true
   },
   "outputs": [],
   "source": [
    "model.add(Dense(units=1, \n",
    "                kernel_initializer='uniform',\n",
    "                activation='sigmoid'))"
   ]
  },
  {
   "cell_type": "code",
   "execution_count": 14,
   "metadata": {
    "collapsed": false
   },
   "outputs": [
    {
     "name": "stdout",
     "output_type": "stream",
     "text": [
      "_________________________________________________________________\n",
      "Layer (type)                 Output Shape              Param #   \n",
      "=================================================================\n",
      "dense_1 (Dense)              (None, 40)                400       \n",
      "_________________________________________________________________\n",
      "dense_2 (Dense)              (None, 4)                 164       \n",
      "_________________________________________________________________\n",
      "dense_3 (Dense)              (None, 1)                 5         \n",
      "=================================================================\n",
      "Total params: 569\n",
      "Trainable params: 569\n",
      "Non-trainable params: 0\n",
      "_________________________________________________________________\n"
     ]
    }
   ],
   "source": [
    "model.summary()"
   ]
  },
  {
   "cell_type": "code",
   "execution_count": 15,
   "metadata": {
    "collapsed": true
   },
   "outputs": [],
   "source": [
    "model.compile(loss='binary_crossentropy', \n",
    "              optimizer='adam', metrics=['accuracy'])"
   ]
  },
  {
   "cell_type": "code",
   "execution_count": 16,
   "metadata": {
    "collapsed": false
   },
   "outputs": [
    {
     "name": "stdout",
     "output_type": "stream",
     "text": [
      "Train on 964 samples, validate on 108 samples\n",
      "Epoch 1/30\n",
      " - 2s - loss: 0.6819 - acc: 0.0757 - val_loss: 0.6655 - val_acc: 0.0926\n",
      "Epoch 2/30\n",
      " - 0s - loss: 0.6362 - acc: 0.0757 - val_loss: 0.5853 - val_acc: 0.0926\n",
      "Epoch 3/30\n",
      " - 0s - loss: 0.4963 - acc: 0.1017 - val_loss: 0.3629 - val_acc: 0.2500\n",
      "Epoch 4/30\n",
      " - 0s - loss: 0.1694 - acc: 0.2770 - val_loss: -7.7994e-02 - val_acc: 0.2963\n",
      "Epoch 5/30\n",
      " - 0s - loss: -3.8438e-01 - acc: 0.3288 - val_loss: -7.3836e-01 - val_acc: 0.3148\n",
      "Epoch 6/30\n",
      " - 0s - loss: -1.1769e+00 - acc: 0.3382 - val_loss: -1.6823e+00 - val_acc: 0.3333\n",
      "Epoch 7/30\n",
      " - 0s - loss: -2.3170e+00 - acc: 0.3465 - val_loss: -3.0416e+00 - val_acc: 0.3241\n",
      "Epoch 8/30\n",
      " - 0s - loss: -3.8691e+00 - acc: 0.3475 - val_loss: -4.6518e+00 - val_acc: 0.3241\n",
      "Epoch 9/30\n",
      " - 0s - loss: -5.1098e+00 - acc: 0.3465 - val_loss: -5.3641e+00 - val_acc: 0.3333\n",
      "Epoch 10/30\n",
      " - 0s - loss: -5.6210e+00 - acc: 0.3506 - val_loss: -5.7836e+00 - val_acc: 0.3519\n",
      "Epoch 11/30\n",
      " - 0s - loss: -5.9021e+00 - acc: 0.3527 - val_loss: -5.9439e+00 - val_acc: 0.3611\n",
      "Epoch 12/30\n",
      " - 0s - loss: -6.0467e+00 - acc: 0.3548 - val_loss: -6.0567e+00 - val_acc: 0.3611\n",
      "Epoch 13/30\n",
      " - 0s - loss: -6.1386e+00 - acc: 0.3548 - val_loss: -6.1439e+00 - val_acc: 0.3519\n",
      "Epoch 14/30\n",
      " - 0s - loss: -6.2009e+00 - acc: 0.3558 - val_loss: -6.2180e+00 - val_acc: 0.3519\n",
      "Epoch 15/30\n",
      " - 0s - loss: -6.2516e+00 - acc: 0.3537 - val_loss: -6.2848e+00 - val_acc: 0.3426\n",
      "Epoch 16/30\n",
      " - 0s - loss: -6.2916e+00 - acc: 0.3496 - val_loss: -6.3222e+00 - val_acc: 0.3333\n",
      "Epoch 17/30\n",
      " - 0s - loss: -6.3242e+00 - acc: 0.3517 - val_loss: -6.3657e+00 - val_acc: 0.3333\n",
      "Epoch 18/30\n",
      " - 0s - loss: -6.3508e+00 - acc: 0.3517 - val_loss: -6.3983e+00 - val_acc: 0.3333\n",
      "Epoch 19/30\n",
      " - 0s - loss: -6.3720e+00 - acc: 0.3548 - val_loss: -6.4294e+00 - val_acc: 0.3333\n",
      "Epoch 20/30\n",
      " - 0s - loss: -6.3945e+00 - acc: 0.3537 - val_loss: -6.4560e+00 - val_acc: 0.3426\n",
      "Epoch 21/30\n",
      " - 0s - loss: -6.4138e+00 - acc: 0.3548 - val_loss: -6.4877e+00 - val_acc: 0.3519\n",
      "Epoch 22/30\n",
      " - 0s - loss: -6.4326e+00 - acc: 0.3548 - val_loss: -6.5049e+00 - val_acc: 0.3519\n",
      "Epoch 23/30\n",
      " - 0s - loss: -6.4463e+00 - acc: 0.3537 - val_loss: -6.5290e+00 - val_acc: 0.3611\n",
      "Epoch 24/30\n",
      " - 0s - loss: -6.4639e+00 - acc: 0.3537 - val_loss: -6.5477e+00 - val_acc: 0.3611\n",
      "Epoch 25/30\n",
      " - 0s - loss: -6.4805e+00 - acc: 0.3548 - val_loss: -6.5630e+00 - val_acc: 0.3611\n",
      "Epoch 26/30\n",
      " - 0s - loss: -6.4948e+00 - acc: 0.3568 - val_loss: -6.5805e+00 - val_acc: 0.3704\n",
      "Epoch 27/30\n",
      " - 0s - loss: -6.5094e+00 - acc: 0.3610 - val_loss: -6.6030e+00 - val_acc: 0.3611\n",
      "Epoch 28/30\n",
      " - 0s - loss: -6.5270e+00 - acc: 0.3600 - val_loss: -6.6207e+00 - val_acc: 0.3611\n",
      "Epoch 29/30\n",
      " - 0s - loss: -6.5392e+00 - acc: 0.3589 - val_loss: -6.6369e+00 - val_acc: 0.3611\n",
      "Epoch 30/30\n",
      " - 0s - loss: -6.5469e+00 - acc: 0.3579 - val_loss: -6.6553e+00 - val_acc: 0.3611\n"
     ]
    }
   ],
   "source": [
    "train_history =model.fit(x=train_Features, \n",
    "                         y=train_Label, \n",
    "                         validation_split=0.1, \n",
    "                         epochs=30, \n",
    "                         batch_size=35,verbose=2)"
   ]
  },
  {
   "cell_type": "code",
   "execution_count": 17,
   "metadata": {
    "collapsed": true
   },
   "outputs": [],
   "source": [
    "import matplotlib.pyplot as plt\n",
    "def show_train_history(train_history,train,validation):\n",
    "    plt.plot(train_history.history[train])\n",
    "    plt.plot(train_history.history[validation])\n",
    "    plt.title('Train History')\n",
    "    plt.ylabel(train)\n",
    "    plt.xlabel('Epoch')\n",
    "    plt.legend(['train', 'validation'], loc='upper left')\n",
    "    plt.show()"
   ]
  },
  {
   "cell_type": "code",
   "execution_count": 18,
   "metadata": {
    "collapsed": false
   },
   "outputs": [
    {
     "data": {
      "image/png": "[encoded data removed]",
      "text/plain": [
       "<matplotlib.figure.Figure at 0x7f9140cab6d8>"
      ]
     },
     "metadata": {},
     "output_type": "display_data"
    }
   ],
   "source": [
    "show_train_history(train_history,'acc','val_acc')"
   ]
  },
  {
   "cell_type": "code",
   "execution_count": 19,
   "metadata": {
    "collapsed": false
   },
   "outputs": [
    {
     "data": {
      "image/png": "[encoded data removed]",
      "text/plain": [
       "<matplotlib.figure.Figure at 0x7f9123657518>"
      ]
     },
     "metadata": {},
     "output_type": "display_data"
    }
   ],
   "source": [
    "show_train_history(train_history,'loss','val_loss')"
   ]
  },
  {
   "cell_type": "code",
   "execution_count": 20,
   "metadata": {
    "collapsed": false
   },
   "outputs": [
    {
     "name": "stdout",
     "output_type": "stream",
     "text": [
      "281/281 [==============================] - 0s 56us/step\n"
     ]
    }
   ],
   "source": [
    "scores = model.evaluate(x=test_Features, \n",
    "                        y=test_Label)"
   ]
  },
  {
   "cell_type": "code",
   "execution_count": 21,
   "metadata": {
    "collapsed": false
   },
   "outputs": [
    {
     "data": {
      "text/plain": [
       "0.31316725989253497"
      ]
     },
     "execution_count": 21,
     "metadata": {},
     "output_type": "execute_result"
    }
   ],
   "source": [
    "scores[1]"
   ]
  }
 ],
 "metadata": {
  "anaconda-cloud": {},
  "kernelspec": {
   "display_name": "Python [default]",
   "language": "python",
   "name": "python3"
  },
  "language_info": {
   "codemirror_mode": {
    "name": "ipython",
    "version": 3
   },
   "file_extension": ".py",
   "mimetype": "text/x-python",
   "name": "python",
   "nbconvert_exporter": "python",
   "pygments_lexer": "ipython3",
   "version": "3.5.2"
  }
 },
 "nbformat": 4,
 "nbformat_minor": 1
}
