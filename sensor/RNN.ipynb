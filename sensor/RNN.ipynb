{
 "cells": [
  {
   "cell_type": "code",
   "execution_count": 56,
   "metadata": {
    "collapsed": false
   },
   "outputs": [],
   "source": [
    "import numpy \n",
    "import pandas as pd\n",
    "from sklearn.preprocessing import StandardScaler\n",
    "from sklearn.model_selection import train_test_split\n",
    "numpy.random.seed(10)"
   ]
  },
  {
   "cell_type": "code",
   "execution_count": 57,
   "metadata": {
    "collapsed": false
   },
   "outputs": [],
   "source": [
    "all_df = pd.read_csv(\"data/sensor.csv\")"
   ]
  },
  {
   "cell_type": "code",
   "execution_count": 58,
   "metadata": {
    "collapsed": false
   },
   "outputs": [
    {
     "data": {
      "text/html": [
       "<div>\n",
       "<table border=\"1\" class=\"dataframe\">\n",
       "  <thead>\n",
       "    <tr style=\"text-align: right;\">\n",
       "      <th></th>\n",
       "      <th>timestamp</th>\n",
       "      <th>sensor_00</th>\n",
       "      <th>sensor_01</th>\n",
       "      <th>sensor_02</th>\n",
       "      <th>sensor_03</th>\n",
       "      <th>sensor_04</th>\n",
       "      <th>sensor_05</th>\n",
       "      <th>sensor_06</th>\n",
       "      <th>sensor_07</th>\n",
       "      <th>sensor_08</th>\n",
       "      <th>...</th>\n",
       "      <th>sensor_42</th>\n",
       "      <th>sensor_43</th>\n",
       "      <th>sensor_44</th>\n",
       "      <th>sensor_45</th>\n",
       "      <th>sensor_46</th>\n",
       "      <th>sensor_47</th>\n",
       "      <th>sensor_48</th>\n",
       "      <th>sensor_49</th>\n",
       "      <th>sensor_50</th>\n",
       "      <th>machine_status</th>\n",
       "    </tr>\n",
       "  </thead>\n",
       "  <tbody>\n",
       "    <tr>\n",
       "      <th>0</th>\n",
       "      <td>2018-04-01 00:00:00</td>\n",
       "      <td>2.465394</td>\n",
       "      <td>47.09201</td>\n",
       "      <td>53.2118</td>\n",
       "      <td>46.310760</td>\n",
       "      <td>634.3750</td>\n",
       "      <td>76.45975</td>\n",
       "      <td>13.41146</td>\n",
       "      <td>16.13136</td>\n",
       "      <td>15.56713</td>\n",
       "      <td>...</td>\n",
       "      <td>41.92708</td>\n",
       "      <td>39.641200</td>\n",
       "      <td>65.68287</td>\n",
       "      <td>50.92593</td>\n",
       "      <td>38.194440</td>\n",
       "      <td>157.9861</td>\n",
       "      <td>67.70834</td>\n",
       "      <td>243.0556</td>\n",
       "      <td>201.3889</td>\n",
       "      <td>NORMAL</td>\n",
       "    </tr>\n",
       "    <tr>\n",
       "      <th>1</th>\n",
       "      <td>2018-04-01 00:01:00</td>\n",
       "      <td>2.465394</td>\n",
       "      <td>47.09201</td>\n",
       "      <td>53.2118</td>\n",
       "      <td>46.310760</td>\n",
       "      <td>634.3750</td>\n",
       "      <td>76.45975</td>\n",
       "      <td>13.41146</td>\n",
       "      <td>16.13136</td>\n",
       "      <td>15.56713</td>\n",
       "      <td>...</td>\n",
       "      <td>41.92708</td>\n",
       "      <td>39.641200</td>\n",
       "      <td>65.68287</td>\n",
       "      <td>50.92593</td>\n",
       "      <td>38.194440</td>\n",
       "      <td>157.9861</td>\n",
       "      <td>67.70834</td>\n",
       "      <td>243.0556</td>\n",
       "      <td>201.3889</td>\n",
       "      <td>NORMAL</td>\n",
       "    </tr>\n",
       "    <tr>\n",
       "      <th>2</th>\n",
       "      <td>2018-04-01 00:02:00</td>\n",
       "      <td>2.444734</td>\n",
       "      <td>47.35243</td>\n",
       "      <td>53.2118</td>\n",
       "      <td>46.397570</td>\n",
       "      <td>638.8889</td>\n",
       "      <td>73.54598</td>\n",
       "      <td>13.32465</td>\n",
       "      <td>16.03733</td>\n",
       "      <td>15.61777</td>\n",
       "      <td>...</td>\n",
       "      <td>41.66666</td>\n",
       "      <td>39.351852</td>\n",
       "      <td>65.39352</td>\n",
       "      <td>51.21528</td>\n",
       "      <td>38.194443</td>\n",
       "      <td>155.9606</td>\n",
       "      <td>67.12963</td>\n",
       "      <td>241.3194</td>\n",
       "      <td>203.7037</td>\n",
       "      <td>NORMAL</td>\n",
       "    </tr>\n",
       "    <tr>\n",
       "      <th>3</th>\n",
       "      <td>2018-04-01 00:03:00</td>\n",
       "      <td>2.460474</td>\n",
       "      <td>47.09201</td>\n",
       "      <td>53.1684</td>\n",
       "      <td>46.397568</td>\n",
       "      <td>628.1250</td>\n",
       "      <td>76.98898</td>\n",
       "      <td>13.31742</td>\n",
       "      <td>16.24711</td>\n",
       "      <td>15.69734</td>\n",
       "      <td>...</td>\n",
       "      <td>40.88541</td>\n",
       "      <td>39.062500</td>\n",
       "      <td>64.81481</td>\n",
       "      <td>51.21528</td>\n",
       "      <td>38.194440</td>\n",
       "      <td>155.9606</td>\n",
       "      <td>66.84028</td>\n",
       "      <td>240.4514</td>\n",
       "      <td>203.1250</td>\n",
       "      <td>NORMAL</td>\n",
       "    </tr>\n",
       "  </tbody>\n",
       "</table>\n",
       "<p>4 rows × 53 columns</p>\n",
       "</div>"
      ],
      "text/plain": [
       "             timestamp  sensor_00  sensor_01  sensor_02  sensor_03  sensor_04  \\\n",
       "0  2018-04-01 00:00:00   2.465394   47.09201    53.2118  46.310760   634.3750   \n",
       "1  2018-04-01 00:01:00   2.465394   47.09201    53.2118  46.310760   634.3750   \n",
       "2  2018-04-01 00:02:00   2.444734   47.35243    53.2118  46.397570   638.8889   \n",
       "3  2018-04-01 00:03:00   2.460474   47.09201    53.1684  46.397568   628.1250   \n",
       "\n",
       "   sensor_05  sensor_06  sensor_07  sensor_08       ...        sensor_42  \\\n",
       "0   76.45975   13.41146   16.13136   15.56713       ...         41.92708   \n",
       "1   76.45975   13.41146   16.13136   15.56713       ...         41.92708   \n",
       "2   73.54598   13.32465   16.03733   15.61777       ...         41.66666   \n",
       "3   76.98898   13.31742   16.24711   15.69734       ...         40.88541   \n",
       "\n",
       "   sensor_43  sensor_44  sensor_45  sensor_46  sensor_47  sensor_48  \\\n",
       "0  39.641200   65.68287   50.92593  38.194440   157.9861   67.70834   \n",
       "1  39.641200   65.68287   50.92593  38.194440   157.9861   67.70834   \n",
       "2  39.351852   65.39352   51.21528  38.194443   155.9606   67.12963   \n",
       "3  39.062500   64.81481   51.21528  38.194440   155.9606   66.84028   \n",
       "\n",
       "   sensor_49  sensor_50  machine_status  \n",
       "0   243.0556   201.3889          NORMAL  \n",
       "1   243.0556   201.3889          NORMAL  \n",
       "2   241.3194   203.7037          NORMAL  \n",
       "3   240.4514   203.1250          NORMAL  \n",
       "\n",
       "[4 rows x 53 columns]"
      ]
     },
     "execution_count": 58,
     "metadata": {},
     "output_type": "execute_result"
    }
   ],
   "source": [
    "all_df[:4]"
   ]
  },
  {
   "cell_type": "code",
   "execution_count": 59,
   "metadata": {
    "collapsed": false
   },
   "outputs": [
    {
     "data": {
      "text/plain": [
       "timestamp             0\n",
       "sensor_00         10208\n",
       "sensor_01           369\n",
       "sensor_02            19\n",
       "sensor_03            19\n",
       "sensor_04            19\n",
       "sensor_05            19\n",
       "sensor_06          4798\n",
       "sensor_07          5451\n",
       "sensor_08          5107\n",
       "sensor_09          4595\n",
       "sensor_10            19\n",
       "sensor_11            19\n",
       "sensor_12            19\n",
       "sensor_13            19\n",
       "sensor_14            21\n",
       "sensor_15            31\n",
       "sensor_16            46\n",
       "sensor_17            46\n",
       "sensor_18            16\n",
       "sensor_19            16\n",
       "sensor_20            16\n",
       "sensor_21            41\n",
       "sensor_22            16\n",
       "sensor_23            16\n",
       "sensor_24            36\n",
       "sensor_25            20\n",
       "sensor_26            16\n",
       "sensor_27            16\n",
       "sensor_28            72\n",
       "sensor_29           261\n",
       "sensor_30            16\n",
       "sensor_31            68\n",
       "sensor_32            16\n",
       "sensor_33            16\n",
       "sensor_34            16\n",
       "sensor_35            16\n",
       "sensor_36            16\n",
       "sensor_37            27\n",
       "sensor_38            27\n",
       "sensor_39            27\n",
       "sensor_40            27\n",
       "sensor_41            27\n",
       "sensor_42            27\n",
       "sensor_43            27\n",
       "sensor_44            27\n",
       "sensor_45            27\n",
       "sensor_46            27\n",
       "sensor_47            27\n",
       "sensor_48            27\n",
       "sensor_49         77017\n",
       "sensor_50         15383\n",
       "machine_status        0\n",
       "dtype: int64"
      ]
     },
     "execution_count": 59,
     "metadata": {},
     "output_type": "execute_result"
    }
   ],
   "source": [
    "all_df.isnull().sum()"
   ]
  },
  {
   "cell_type": "code",
   "execution_count": 60,
   "metadata": {
    "collapsed": false
   },
   "outputs": [],
   "source": [
    "all_df=all_df.drop(['sensor_00'], axis=1)\n",
    "all_df=all_df.drop(['timestamp'], axis=1)\n",
    "all_df=all_df.drop(['sensor_06'], axis=1)\n",
    "all_df=all_df.drop(['sensor_07'], axis=1)\n",
    "all_df=all_df.drop(['sensor_08'], axis=1)\n",
    "all_df=all_df.drop(['sensor_09'], axis=1)\n",
    "all_df=all_df.drop(['sensor_49'], axis=1)\n",
    "all_df=all_df.drop(['sensor_50'], axis=1)"
   ]
  },
  {
   "cell_type": "code",
   "execution_count": 61,
   "metadata": {
    "collapsed": true
   },
   "outputs": [],
   "source": [
    "all_df['machine_status']= all_df['machine_status'].map({'NORMAL':0, 'BROKEN': 1, 'RECOVERING': 2}).astype(int)"
   ]
  },
  {
   "cell_type": "code",
   "execution_count": 62,
   "metadata": {
    "collapsed": true
   },
   "outputs": [],
   "source": [
    "all_df = all_df.dropna(how='any')"
   ]
  },
  {
   "cell_type": "code",
   "execution_count": 63,
   "metadata": {
    "collapsed": true
   },
   "outputs": [],
   "source": [
    "X=all_df.drop(['machine_status'], axis=1).values.astype('float64')"
   ]
  },
  {
   "cell_type": "code",
   "execution_count": 64,
   "metadata": {
    "collapsed": true
   },
   "outputs": [],
   "source": [
    "Y = all_df['machine_status'].values.astype('int64')"
   ]
  },
  {
   "cell_type": "code",
   "execution_count": 65,
   "metadata": {
    "collapsed": false
   },
   "outputs": [
    {
     "data": {
      "text/plain": [
       "(219521, 44)"
      ]
     },
     "execution_count": 65,
     "metadata": {},
     "output_type": "execute_result"
    }
   ],
   "source": [
    "X.shape"
   ]
  },
  {
   "cell_type": "code",
   "execution_count": 66,
   "metadata": {
    "collapsed": false
   },
   "outputs": [
    {
     "data": {
      "text/plain": [
       "175616"
      ]
     },
     "execution_count": 66,
     "metadata": {},
     "output_type": "execute_result"
    }
   ],
   "source": [
    "X = StandardScaler().fit_transform(X)\n",
    "train_Features, test_Features, train_Label, test_Label = train_test_split(X, Y, test_size=0.2, random_state=True) \n",
    "len(train_Features)"
   ]
  },
  {
   "cell_type": "code",
   "execution_count": 67,
   "metadata": {
    "collapsed": true
   },
   "outputs": [],
   "source": [
    "train_Features = train_Features.reshape((train_Features.shape[0], train_Features.shape[1], 1))"
   ]
  },
  {
   "cell_type": "code",
   "execution_count": 68,
   "metadata": {
    "collapsed": true
   },
   "outputs": [],
   "source": [
    "test_Features = test_Features.reshape((test_Features.shape[0], test_Features.shape[1], 1))"
   ]
  },
  {
   "cell_type": "code",
   "execution_count": 69,
   "metadata": {
    "collapsed": false
   },
   "outputs": [],
   "source": [
    "from keras.utils import np_utils\n",
    "train_Label = train_Label.reshape(train_Label.shape[0], 1)\n",
    "test_Label= test_Label.reshape(test_Label.shape[0], 1)\n",
    "train_Label=np_utils.to_categorical(train_Label)\n",
    "test_Label=np_utils.to_categorical(test_Label)"
   ]
  },
  {
   "cell_type": "code",
   "execution_count": 70,
   "metadata": {
    "collapsed": false
   },
   "outputs": [],
   "source": [
    "from keras.models import Sequential\n",
    "from keras.layers.core import Dense, Dropout, Activation\n",
    "from keras.layers.embeddings import Embedding\n",
    "from keras.layers.recurrent import SimpleRNN\n",
    "from keras.callbacks import EarlyStopping\n",
    "early_stopping = EarlyStopping(monitor='val_loss', patience=2)"
   ]
  },
  {
   "cell_type": "code",
   "execution_count": 71,
   "metadata": {
    "collapsed": true
   },
   "outputs": [],
   "source": [
    "model = Sequential()"
   ]
  },
  {
   "cell_type": "code",
   "execution_count": 72,
   "metadata": {
    "collapsed": false
   },
   "outputs": [],
   "source": [
    "model.add(SimpleRNN(units=44, input_shape=(44,1)))"
   ]
  },
  {
   "cell_type": "code",
   "execution_count": 73,
   "metadata": {
    "collapsed": true
   },
   "outputs": [],
   "source": [
    "model.add(Dense(3, activation = \"softmax\"))"
   ]
  },
  {
   "cell_type": "code",
   "execution_count": 74,
   "metadata": {
    "collapsed": false
   },
   "outputs": [
    {
     "name": "stdout",
     "output_type": "stream",
     "text": [
      "_________________________________________________________________\n",
      "Layer (type)                 Output Shape              Param #   \n",
      "=================================================================\n",
      "simple_rnn_2 (SimpleRNN)     (None, 44)                2024      \n",
      "_________________________________________________________________\n",
      "dense_2 (Dense)              (None, 3)                 135       \n",
      "=================================================================\n",
      "Total params: 2,159\n",
      "Trainable params: 2,159\n",
      "Non-trainable params: 0\n",
      "_________________________________________________________________\n"
     ]
    }
   ],
   "source": [
    "model.summary()"
   ]
  },
  {
   "cell_type": "code",
   "execution_count": 75,
   "metadata": {
    "collapsed": false
   },
   "outputs": [],
   "source": [
    "model.compile(loss='categorical_crossentropy', \n",
    "              optimizer='adam', metrics=['accuracy'])"
   ]
  },
  {
   "cell_type": "code",
   "execution_count": 76,
   "metadata": {
    "collapsed": false
   },
   "outputs": [
    {
     "name": "stdout",
     "output_type": "stream",
     "text": [
      "Train on 140492 samples, validate on 35124 samples\n",
      "Epoch 1/60\n",
      "140492/140492 [==============================] - 21s 153us/step - loss: 0.2665 - acc: 0.9086 - val_loss: 0.0888 - val_acc: 0.9774\n",
      "Epoch 2/60\n",
      "140492/140492 [==============================] - 29s 203us/step - loss: 0.0674 - acc: 0.9811 - val_loss: 0.0539 - val_acc: 0.9845\n",
      "Epoch 3/60\n",
      "140492/140492 [==============================] - 26s 182us/step - loss: 0.0485 - acc: 0.9849 - val_loss: 0.0377 - val_acc: 0.9879\n",
      "Epoch 4/60\n",
      "140492/140492 [==============================] - 27s 189us/step - loss: 0.0358 - acc: 0.9887 - val_loss: 0.0282 - val_acc: 0.9919\n",
      "Epoch 5/60\n",
      "140492/140492 [==============================] - 25s 178us/step - loss: 0.0296 - acc: 0.9908 - val_loss: 0.0255 - val_acc: 0.9913\n",
      "Epoch 6/60\n",
      "140492/140492 [==============================] - 24s 171us/step - loss: 0.0259 - acc: 0.9920 - val_loss: 0.0209 - val_acc: 0.9937\n",
      "Epoch 7/60\n",
      "140492/140492 [==============================] - 31s 218us/step - loss: 0.0229 - acc: 0.9927 - val_loss: 0.0190 - val_acc: 0.9944\n",
      "Epoch 8/60\n",
      "140492/140492 [==============================] - 30s 213us/step - loss: 0.0206 - acc: 0.9934 - val_loss: 0.0176 - val_acc: 0.9946\n",
      "Epoch 9/60\n",
      "140492/140492 [==============================] - 31s 223us/step - loss: 0.0192 - acc: 0.9939 - val_loss: 0.0168 - val_acc: 0.9949\n",
      "Epoch 10/60\n",
      "140492/140492 [==============================] - 27s 192us/step - loss: 0.0178 - acc: 0.9940 - val_loss: 0.0149 - val_acc: 0.9952\n",
      "Epoch 11/60\n",
      "140492/140492 [==============================] - 26s 187us/step - loss: 0.0173 - acc: 0.9940 - val_loss: 0.0178 - val_acc: 0.9944\n",
      "Epoch 12/60\n",
      "140492/140492 [==============================] - 26s 185us/step - loss: 0.0159 - acc: 0.9945 - val_loss: 0.0140 - val_acc: 0.9950\n",
      "Epoch 13/60\n",
      "140492/140492 [==============================] - 25s 179us/step - loss: 0.0150 - acc: 0.9948 - val_loss: 0.0125 - val_acc: 0.9956\n",
      "Epoch 14/60\n",
      "140492/140492 [==============================] - 28s 197us/step - loss: 0.0137 - acc: 0.9953 - val_loss: 0.0119 - val_acc: 0.9964\n",
      "Epoch 15/60\n",
      "140492/140492 [==============================] - 34s 240us/step - loss: 0.0113 - acc: 0.9962 - val_loss: 0.0091 - val_acc: 0.9969\n",
      "Epoch 16/60\n",
      "140492/140492 [==============================] - 35s 246us/step - loss: 0.0091 - acc: 0.9971 - val_loss: 0.0078 - val_acc: 0.9972\n",
      "Epoch 17/60\n",
      "140492/140492 [==============================] - 34s 243us/step - loss: 0.0085 - acc: 0.9972 - val_loss: 0.0078 - val_acc: 0.9976\n",
      "Epoch 18/60\n",
      "140492/140492 [==============================] - 28s 203us/step - loss: 0.0075 - acc: 0.9976 - val_loss: 0.0053 - val_acc: 0.9984\n",
      "Epoch 19/60\n",
      "140492/140492 [==============================] - 51s 365us/step - loss: 0.0065 - acc: 0.9980 - val_loss: 0.0051 - val_acc: 0.9984\n",
      "Epoch 20/60\n",
      "140492/140492 [==============================] - 34s 244us/step - loss: 0.0061 - acc: 0.9981 - val_loss: 0.0047 - val_acc: 0.9985\n",
      "Epoch 21/60\n",
      "140492/140492 [==============================] - 33s 235us/step - loss: 0.0057 - acc: 0.9983 - val_loss: 0.0047 - val_acc: 0.9983\n",
      "Epoch 22/60\n",
      "140492/140492 [==============================] - 32s 228us/step - loss: 0.0051 - acc: 0.9985 - val_loss: 0.0044 - val_acc: 0.9988\n",
      "Epoch 23/60\n",
      "140492/140492 [==============================] - 26s 185us/step - loss: 0.0049 - acc: 0.9985 - val_loss: 0.0054 - val_acc: 0.9981\n",
      "Epoch 24/60\n",
      "140492/140492 [==============================] - 25s 176us/step - loss: 0.0050 - acc: 0.9985 - val_loss: 0.0057 - val_acc: 0.9981\n"
     ]
    }
   ],
   "source": [
    "train_history =model.fit(x=train_Features, \n",
    "                         y=train_Label, \n",
    "                         validation_split=0.2, \n",
    "                         epochs=60, \n",
    "                         batch_size=1500,verbose=1,callbacks=[early_stopping])"
   ]
  },
  {
   "cell_type": "code",
   "execution_count": 77,
   "metadata": {
    "collapsed": true
   },
   "outputs": [],
   "source": [
    "import matplotlib.pyplot as plt\n",
    "def show_train_history(train_history,train,validation):\n",
    "    plt.plot(train_history.history[train])\n",
    "    plt.plot(train_history.history[validation])\n",
    "    plt.title('Train History')\n",
    "    plt.ylabel(train)\n",
    "    plt.xlabel('Epoch')\n",
    "    plt.legend(['train', 'validation'], loc='upper left')\n",
    "    plt.show()"
   ]
  },
  {
   "cell_type": "code",
   "execution_count": 78,
   "metadata": {
    "collapsed": false
   },
   "outputs": [
    {
     "data": {
      "image/png": "[encoded data removed]",
      "text/plain": [
       "<matplotlib.figure.Figure at 0x7fdd6a6b95f8>"
      ]
     },
     "metadata": {},
     "output_type": "display_data"
    }
   ],
   "source": [
    "show_train_history(train_history,'acc','val_acc')"
   ]
  },
  {
   "cell_type": "code",
   "execution_count": 79,
   "metadata": {
    "collapsed": false
   },
   "outputs": [
    {
     "data": {
      "image/png": "[encoded data removed]",
      "text/plain": [
       "<matplotlib.figure.Figure at 0x7fdd6b2e8dd8>"
      ]
     },
     "metadata": {},
     "output_type": "display_data"
    }
   ],
   "source": [
    "show_train_history(train_history,'loss','val_loss')"
   ]
  },
  {
   "cell_type": "code",
   "execution_count": 80,
   "metadata": {
    "collapsed": false
   },
   "outputs": [
    {
     "name": "stdout",
     "output_type": "stream",
     "text": [
      "43905/43905 [==============================] - 7s 167us/step\n"
     ]
    }
   ],
   "source": [
    "scores = model.evaluate(x=test_Features, \n",
    "                        y=test_Label)"
   ]
  },
  {
   "cell_type": "code",
   "execution_count": 81,
   "metadata": {
    "collapsed": false
   },
   "outputs": [
    {
     "data": {
      "text/plain": [
       "0.9984056485593896"
      ]
     },
     "execution_count": 81,
     "metadata": {},
     "output_type": "execute_result"
    }
   ],
   "source": [
    "scores[1]"
   ]
  }
 ],
 "metadata": {
  "anaconda-cloud": {},
  "kernelspec": {
   "display_name": "Python [default]",
   "language": "python",
   "name": "python3"
  },
  "language_info": {
   "codemirror_mode": {
    "name": "ipython",
    "version": 3
   },
   "file_extension": ".py",
   "mimetype": "text/x-python",
   "name": "python",
   "nbconvert_exporter": "python",
   "pygments_lexer": "ipython3",
   "version": "3.5.2"
  }
 },
 "nbformat": 4,
 "nbformat_minor": 1
}
