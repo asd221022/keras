{
 "cells": [
  {
   "cell_type": "code",
   "execution_count": 25,
   "metadata": {
    "collapsed": true
   },
   "outputs": [],
   "source": [
    "import numpy\n",
    "import pandas as pd\n",
    "from sklearn import preprocessing\n",
    "from sklearn.model_selection import train_test_split\n",
    "numpy.random.seed(10)"
   ]
  },
  {
   "cell_type": "code",
   "execution_count": 26,
   "metadata": {
    "collapsed": false
   },
   "outputs": [],
   "source": [
    "all_df = pd.read_excel(\"car.xlsx\")"
   ]
  },
  {
   "cell_type": "code",
   "execution_count": 27,
   "metadata": {
    "collapsed": false
   },
   "outputs": [],
   "source": [
    "cols=['class','buying','maint','doors' ,'persons', 'lug_boot',\n",
    "       'safety',]\n",
    "all_df=all_df[cols]"
   ]
  },
  {
   "cell_type": "code",
   "execution_count": 28,
   "metadata": {
    "collapsed": false
   },
   "outputs": [
    {
     "data": {
      "text/html": [
       "<div>\n",
       "<table border=\"1\" class=\"dataframe\">\n",
       "  <thead>\n",
       "    <tr style=\"text-align: right;\">\n",
       "      <th></th>\n",
       "      <th>class</th>\n",
       "      <th>buying</th>\n",
       "      <th>maint</th>\n",
       "      <th>doors</th>\n",
       "      <th>persons</th>\n",
       "      <th>lug_boot</th>\n",
       "      <th>safety</th>\n",
       "    </tr>\n",
       "  </thead>\n",
       "  <tbody>\n",
       "    <tr>\n",
       "      <th>0</th>\n",
       "      <td>unacc</td>\n",
       "      <td>vhigh</td>\n",
       "      <td>vhigh</td>\n",
       "      <td>2</td>\n",
       "      <td>2</td>\n",
       "      <td>small</td>\n",
       "      <td>low</td>\n",
       "    </tr>\n",
       "    <tr>\n",
       "      <th>1</th>\n",
       "      <td>unacc</td>\n",
       "      <td>vhigh</td>\n",
       "      <td>vhigh</td>\n",
       "      <td>2</td>\n",
       "      <td>2</td>\n",
       "      <td>small</td>\n",
       "      <td>med</td>\n",
       "    </tr>\n",
       "  </tbody>\n",
       "</table>\n",
       "</div>"
      ],
      "text/plain": [
       "   class buying  maint doors persons lug_boot safety\n",
       "0  unacc  vhigh  vhigh     2       2    small    low\n",
       "1  unacc  vhigh  vhigh     2       2    small    med"
      ]
     },
     "execution_count": 28,
     "metadata": {},
     "output_type": "execute_result"
    }
   ],
   "source": [
    "all_df[:2]"
   ]
  },
  {
   "cell_type": "code",
   "execution_count": 29,
   "metadata": {
    "collapsed": true
   },
   "outputs": [],
   "source": [
    "all_df['buying']= all_df['buying'].map({'vhigh':0, 'high': 1, 'med': 2, 'low': 3}).astype(int) \n",
    "all_df['maint']= all_df['maint'].map({'vhigh':0, 'high': 1, 'med': 2, 'low': 3}).astype(int)\n",
    "all_df['doors']= all_df['doors'].map({'2':0, '3': 1, '4': 2, '5more': 3}).astype(int)\n",
    "all_df['persons']= all_df['persons'].map({'2':0, '4': 1, 'more': 2}).astype(int)\n",
    "all_df['lug_boot']= all_df['lug_boot'].map({'small':0, 'med': 1, 'big': 2}).astype(int)\n",
    "all_df['safety']= all_df['safety'].map({'low':0, 'med': 1, 'high': 2}).astype(int)\n",
    "all_df['class']= all_df['class'].map({'unacc':0, 'acc': 1, 'good': 2, 'vgood': 3}).astype(int)"
   ]
  },
  {
   "cell_type": "code",
   "execution_count": 30,
   "metadata": {
    "collapsed": false
   },
   "outputs": [
    {
     "data": {
      "text/html": [
       "<div>\n",
       "<table border=\"1\" class=\"dataframe\">\n",
       "  <thead>\n",
       "    <tr style=\"text-align: right;\">\n",
       "      <th></th>\n",
       "      <th>class</th>\n",
       "      <th>buying</th>\n",
       "      <th>maint</th>\n",
       "      <th>doors</th>\n",
       "      <th>persons</th>\n",
       "      <th>lug_boot</th>\n",
       "      <th>safety</th>\n",
       "    </tr>\n",
       "  </thead>\n",
       "  <tbody>\n",
       "    <tr>\n",
       "      <th>0</th>\n",
       "      <td>0</td>\n",
       "      <td>0</td>\n",
       "      <td>0</td>\n",
       "      <td>0</td>\n",
       "      <td>0</td>\n",
       "      <td>0</td>\n",
       "      <td>0</td>\n",
       "    </tr>\n",
       "    <tr>\n",
       "      <th>1</th>\n",
       "      <td>0</td>\n",
       "      <td>0</td>\n",
       "      <td>0</td>\n",
       "      <td>0</td>\n",
       "      <td>0</td>\n",
       "      <td>0</td>\n",
       "      <td>1</td>\n",
       "    </tr>\n",
       "    <tr>\n",
       "      <th>2</th>\n",
       "      <td>0</td>\n",
       "      <td>0</td>\n",
       "      <td>0</td>\n",
       "      <td>0</td>\n",
       "      <td>0</td>\n",
       "      <td>0</td>\n",
       "      <td>2</td>\n",
       "    </tr>\n",
       "    <tr>\n",
       "      <th>3</th>\n",
       "      <td>0</td>\n",
       "      <td>0</td>\n",
       "      <td>0</td>\n",
       "      <td>0</td>\n",
       "      <td>0</td>\n",
       "      <td>1</td>\n",
       "      <td>0</td>\n",
       "    </tr>\n",
       "  </tbody>\n",
       "</table>\n",
       "</div>"
      ],
      "text/plain": [
       "   class  buying  maint  doors  persons  lug_boot  safety\n",
       "0      0       0      0      0        0         0       0\n",
       "1      0       0      0      0        0         0       1\n",
       "2      0       0      0      0        0         0       2\n",
       "3      0       0      0      0        0         1       0"
      ]
     },
     "execution_count": 30,
     "metadata": {},
     "output_type": "execute_result"
    }
   ],
   "source": [
    "all_df[:4]"
   ]
  },
  {
   "cell_type": "code",
   "execution_count": 31,
   "metadata": {
    "collapsed": true
   },
   "outputs": [],
   "source": [
    "X=all_df.drop(['class'], axis=1).values.astype('float64')"
   ]
  },
  {
   "cell_type": "code",
   "execution_count": 32,
   "metadata": {
    "collapsed": true
   },
   "outputs": [],
   "source": [
    "Y = all_df['class'].values.astype('int64')"
   ]
  },
  {
   "cell_type": "code",
   "execution_count": 33,
   "metadata": {
    "collapsed": false
   },
   "outputs": [
    {
     "data": {
      "text/plain": [
       "1382"
      ]
     },
     "execution_count": 33,
     "metadata": {},
     "output_type": "execute_result"
    }
   ],
   "source": [
    "minmax_scale = preprocessing.MinMaxScaler(feature_range=(0, 1))\n",
    "scaledFeatures=minmax_scale.fit_transform(X)   \n",
    "train_Features, test_Features, train_Label, test_Label = train_test_split(X, Y, test_size=0.2, random_state=True) \n",
    "len(train_Features)"
   ]
  },
  {
   "cell_type": "code",
   "execution_count": 34,
   "metadata": {
    "collapsed": false
   },
   "outputs": [],
   "source": [
    "from keras.utils import np_utils\n",
    "train_Label=np_utils.to_categorical(train_Label)\n",
    "test_Label=np_utils.to_categorical(test_Label)"
   ]
  },
  {
   "cell_type": "code",
   "execution_count": 35,
   "metadata": {
    "collapsed": false
   },
   "outputs": [],
   "source": [
    "from keras.models import Sequential\n",
    "from keras.layers import Dense,Dropout\n",
    "from keras.callbacks import EarlyStopping\n",
    "early_stopping = EarlyStopping(monitor='val_loss', patience=2)"
   ]
  },
  {
   "cell_type": "code",
   "execution_count": 36,
   "metadata": {
    "collapsed": true
   },
   "outputs": [],
   "source": [
    "model = Sequential()"
   ]
  },
  {
   "cell_type": "code",
   "execution_count": 37,
   "metadata": {
    "collapsed": true
   },
   "outputs": [],
   "source": [
    "model.add(Dense(units=18*3,input_dim=6,\n",
    "                kernel_initializer='uniform', \n",
    "                activation='relu'))"
   ]
  },
  {
   "cell_type": "code",
   "execution_count": 38,
   "metadata": {
    "collapsed": true
   },
   "outputs": [],
   "source": [
    "model.add(Dense(units=18*2, \n",
    "                kernel_initializer='uniform', \n",
    "                activation='relu'))"
   ]
  },
  {
   "cell_type": "code",
   "execution_count": 39,
   "metadata": {
    "collapsed": true
   },
   "outputs": [],
   "source": [
    "model.add(Dense(units=18, \n",
    "                kernel_initializer='uniform', \n",
    "                activation='relu'))"
   ]
  },
  {
   "cell_type": "code",
   "execution_count": 40,
   "metadata": {
    "collapsed": true
   },
   "outputs": [],
   "source": [
    "model.add(Dense(units=4, \n",
    "                kernel_initializer='uniform',\n",
    "                activation='softmax'))"
   ]
  },
  {
   "cell_type": "code",
   "execution_count": 41,
   "metadata": {
    "collapsed": false
   },
   "outputs": [
    {
     "name": "stdout",
     "output_type": "stream",
     "text": [
      "_________________________________________________________________\n",
      "Layer (type)                 Output Shape              Param #   \n",
      "=================================================================\n",
      "dense_5 (Dense)              (None, 54)                378       \n",
      "_________________________________________________________________\n",
      "dense_6 (Dense)              (None, 36)                1980      \n",
      "_________________________________________________________________\n",
      "dense_7 (Dense)              (None, 18)                666       \n",
      "_________________________________________________________________\n",
      "dense_8 (Dense)              (None, 4)                 76        \n",
      "=================================================================\n",
      "Total params: 3,100\n",
      "Trainable params: 3,100\n",
      "Non-trainable params: 0\n",
      "_________________________________________________________________\n"
     ]
    }
   ],
   "source": [
    "model.summary()"
   ]
  },
  {
   "cell_type": "code",
   "execution_count": 42,
   "metadata": {
    "collapsed": true
   },
   "outputs": [],
   "source": [
    "model.compile(loss='categorical_crossentropy', \n",
    "              optimizer='adam', metrics=['accuracy'])"
   ]
  },
  {
   "cell_type": "code",
   "execution_count": 43,
   "metadata": {
    "collapsed": false
   },
   "outputs": [
    {
     "name": "stdout",
     "output_type": "stream",
     "text": [
      "Train on 1243 samples, validate on 139 samples\n",
      "Epoch 1/30\n",
      " - 1s - loss: 1.3424 - acc: 0.6758 - val_loss: 1.2162 - val_acc: 0.6619\n",
      "Epoch 2/30\n",
      " - 0s - loss: 1.0433 - acc: 0.6903 - val_loss: 0.9787 - val_acc: 0.6619\n",
      "Epoch 3/30\n",
      " - 0s - loss: 0.9486 - acc: 0.6903 - val_loss: 0.9469 - val_acc: 0.6619\n",
      "Epoch 4/30\n",
      " - 0s - loss: 0.9135 - acc: 0.6903 - val_loss: 0.9127 - val_acc: 0.6619\n",
      "Epoch 5/30\n",
      " - 0s - loss: 0.8658 - acc: 0.6903 - val_loss: 0.8679 - val_acc: 0.6619\n",
      "Epoch 6/30\n",
      " - 0s - loss: 0.7968 - acc: 0.6903 - val_loss: 0.8016 - val_acc: 0.6619\n",
      "Epoch 7/30\n",
      " - 0s - loss: 0.7134 - acc: 0.6903 - val_loss: 0.7278 - val_acc: 0.6619\n",
      "Epoch 8/30\n",
      " - 0s - loss: 0.6373 - acc: 0.6903 - val_loss: 0.6591 - val_acc: 0.6619\n",
      "Epoch 9/30\n",
      " - 0s - loss: 0.5694 - acc: 0.6903 - val_loss: 0.5930 - val_acc: 0.6619\n",
      "Epoch 10/30\n",
      " - 0s - loss: 0.4980 - acc: 0.6959 - val_loss: 0.5215 - val_acc: 0.6763\n",
      "Epoch 11/30\n",
      " - 0s - loss: 0.4373 - acc: 0.7828 - val_loss: 0.4580 - val_acc: 0.7482\n",
      "Epoch 12/30\n",
      " - 0s - loss: 0.3652 - acc: 0.8608 - val_loss: 0.3675 - val_acc: 0.8561\n",
      "Epoch 13/30\n",
      " - 0s - loss: 0.3037 - acc: 0.8833 - val_loss: 0.3381 - val_acc: 0.8633\n",
      "Epoch 14/30\n",
      " - 0s - loss: 0.2730 - acc: 0.8801 - val_loss: 0.3022 - val_acc: 0.8705\n",
      "Epoch 15/30\n",
      " - 0s - loss: 0.2390 - acc: 0.8938 - val_loss: 0.2848 - val_acc: 0.8849\n",
      "Epoch 16/30\n",
      " - 0s - loss: 0.2198 - acc: 0.8938 - val_loss: 0.2916 - val_acc: 0.8777\n",
      "Epoch 17/30\n",
      " - 0s - loss: 0.2021 - acc: 0.9179 - val_loss: 0.2612 - val_acc: 0.9065\n",
      "Epoch 18/30\n",
      " - 0s - loss: 0.1875 - acc: 0.9171 - val_loss: 0.2608 - val_acc: 0.9209\n",
      "Epoch 19/30\n",
      " - 0s - loss: 0.1858 - acc: 0.9244 - val_loss: 0.2728 - val_acc: 0.9137\n",
      "Epoch 20/30\n",
      " - 0s - loss: 0.1666 - acc: 0.9284 - val_loss: 0.2594 - val_acc: 0.9209\n",
      "Epoch 21/30\n",
      " - 0s - loss: 0.1654 - acc: 0.9236 - val_loss: 0.2844 - val_acc: 0.9065\n",
      "Epoch 22/30\n",
      " - 0s - loss: 0.1733 - acc: 0.9220 - val_loss: 0.2409 - val_acc: 0.9065\n",
      "Epoch 23/30\n",
      " - 0s - loss: 0.1517 - acc: 0.9332 - val_loss: 0.2399 - val_acc: 0.9065\n",
      "Epoch 24/30\n",
      " - 0s - loss: 0.1568 - acc: 0.9324 - val_loss: 0.2345 - val_acc: 0.9065\n",
      "Epoch 25/30\n",
      " - 0s - loss: 0.1488 - acc: 0.9268 - val_loss: 0.2294 - val_acc: 0.9137\n",
      "Epoch 26/30\n",
      " - 0s - loss: 0.1458 - acc: 0.9252 - val_loss: 0.2298 - val_acc: 0.9209\n",
      "Epoch 27/30\n",
      " - 0s - loss: 0.1402 - acc: 0.9405 - val_loss: 0.2345 - val_acc: 0.9209\n",
      "Epoch 28/30\n",
      " - 0s - loss: 0.1360 - acc: 0.9356 - val_loss: 0.2483 - val_acc: 0.9281\n",
      "Epoch 29/30\n",
      " - 0s - loss: 0.1362 - acc: 0.9348 - val_loss: 0.2310 - val_acc: 0.9353\n",
      "Epoch 30/30\n",
      " - 0s - loss: 0.1320 - acc: 0.9340 - val_loss: 0.2443 - val_acc: 0.9496\n"
     ]
    }
   ],
   "source": [
    "train_history =model.fit(x=train_Features, \n",
    "                         y=train_Label, \n",
    "                         validation_split=0.1, \n",
    "                         epochs=30, \n",
    "                         batch_size=35,verbose=2)"
   ]
  },
  {
   "cell_type": "code",
   "execution_count": 44,
   "metadata": {
    "collapsed": true
   },
   "outputs": [],
   "source": [
    "import matplotlib.pyplot as plt\n",
    "def show_train_history(train_history,train,validation):\n",
    "    plt.plot(train_history.history[train])\n",
    "    plt.plot(train_history.history[validation])\n",
    "    plt.title('Train History')\n",
    "    plt.ylabel(train)\n",
    "    plt.xlabel('Epoch')\n",
    "    plt.legend(['train', 'validation'], loc='upper left')\n",
    "    plt.show()"
   ]
  },
  {
   "cell_type": "code",
   "execution_count": 45,
   "metadata": {
    "collapsed": false
   },
   "outputs": [
    {
     "data": {
      "image/png": "[encoded data removed]",
      "text/plain": [
       "<matplotlib.figure.Figure at 0x7ff9c522ce10>"
      ]
     },
     "metadata": {},
     "output_type": "display_data"
    }
   ],
   "source": [
    "show_train_history(train_history,'acc','val_acc')"
   ]
  },
  {
   "cell_type": "code",
   "execution_count": 46,
   "metadata": {
    "collapsed": false
   },
   "outputs": [
    {
     "data": {
      "image/png": "[encoded data removed]",
      "text/plain": [
       "<matplotlib.figure.Figure at 0x7ff9c5243a20>"
      ]
     },
     "metadata": {},
     "output_type": "display_data"
    }
   ],
   "source": [
    "show_train_history(train_history,'loss','val_loss')"
   ]
  },
  {
   "cell_type": "code",
   "execution_count": 47,
   "metadata": {
    "collapsed": false
   },
   "outputs": [
    {
     "name": "stdout",
     "output_type": "stream",
     "text": [
      "346/346 [==============================] - 0s 99us/step\n"
     ]
    }
   ],
   "source": [
    "scores = model.evaluate(x=test_Features, \n",
    "                        y=test_Label)"
   ]
  },
  {
   "cell_type": "code",
   "execution_count": 48,
   "metadata": {
    "collapsed": false
   },
   "outputs": [
    {
     "data": {
      "text/plain": [
       "0.921965315851862"
      ]
     },
     "execution_count": 48,
     "metadata": {},
     "output_type": "execute_result"
    }
   ],
   "source": [
    "scores[1]"
   ]
  }
 ],
 "metadata": {
  "anaconda-cloud": {},
  "kernelspec": {
   "display_name": "Python [default]",
   "language": "python",
   "name": "python3"
  },
  "language_info": {
   "codemirror_mode": {
    "name": "ipython",
    "version": 3
   },
   "file_extension": ".py",
   "mimetype": "text/x-python",
   "name": "python",
   "nbconvert_exporter": "python",
   "pygments_lexer": "ipython3",
   "version": "3.5.2"
  }
 },
 "nbformat": 4,
 "nbformat_minor": 1
}
