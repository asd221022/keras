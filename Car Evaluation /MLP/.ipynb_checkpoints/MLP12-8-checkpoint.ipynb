{
 "cells": [
  {
   "cell_type": "code",
   "execution_count": 30,
   "metadata": {
    "collapsed": true
   },
   "outputs": [],
   "source": [
    "import numpy\n",
    "import pandas as pd\n",
    "from sklearn import preprocessing\n",
    "from sklearn.model_selection import train_test_split\n",
    "numpy.random.seed(10)"
   ]
  },
  {
   "cell_type": "code",
   "execution_count": 31,
   "metadata": {
    "collapsed": false
   },
   "outputs": [],
   "source": [
    "all_df = pd.read_excel(\"car.xlsx\")"
   ]
  },
  {
   "cell_type": "code",
   "execution_count": 32,
   "metadata": {
    "collapsed": false
   },
   "outputs": [],
   "source": [
    "cols=['class','buying','maint','doors' ,'persons', 'lug_boot',\n",
    "       'safety',]\n",
    "all_df=all_df[cols]"
   ]
  },
  {
   "cell_type": "code",
   "execution_count": 33,
   "metadata": {
    "collapsed": false
   },
   "outputs": [
    {
     "data": {
      "text/html": [
       "<div>\n",
       "<table border=\"1\" class=\"dataframe\">\n",
       "  <thead>\n",
       "    <tr style=\"text-align: right;\">\n",
       "      <th></th>\n",
       "      <th>class</th>\n",
       "      <th>buying</th>\n",
       "      <th>maint</th>\n",
       "      <th>doors</th>\n",
       "      <th>persons</th>\n",
       "      <th>lug_boot</th>\n",
       "      <th>safety</th>\n",
       "    </tr>\n",
       "  </thead>\n",
       "  <tbody>\n",
       "    <tr>\n",
       "      <th>0</th>\n",
       "      <td>unacc</td>\n",
       "      <td>vhigh</td>\n",
       "      <td>vhigh</td>\n",
       "      <td>2</td>\n",
       "      <td>2</td>\n",
       "      <td>small</td>\n",
       "      <td>low</td>\n",
       "    </tr>\n",
       "    <tr>\n",
       "      <th>1</th>\n",
       "      <td>unacc</td>\n",
       "      <td>vhigh</td>\n",
       "      <td>vhigh</td>\n",
       "      <td>2</td>\n",
       "      <td>2</td>\n",
       "      <td>small</td>\n",
       "      <td>med</td>\n",
       "    </tr>\n",
       "  </tbody>\n",
       "</table>\n",
       "</div>"
      ],
      "text/plain": [
       "   class buying  maint doors persons lug_boot safety\n",
       "0  unacc  vhigh  vhigh     2       2    small    low\n",
       "1  unacc  vhigh  vhigh     2       2    small    med"
      ]
     },
     "execution_count": 33,
     "metadata": {},
     "output_type": "execute_result"
    }
   ],
   "source": [
    "all_df[:2]"
   ]
  },
  {
   "cell_type": "code",
   "execution_count": 34,
   "metadata": {
    "collapsed": true
   },
   "outputs": [],
   "source": [
    "all_df['buying']= all_df['buying'].map({'vhigh':0, 'high': 1, 'med': 2, 'low': 3}).astype(int) \n",
    "all_df['maint']= all_df['maint'].map({'vhigh':0, 'high': 1, 'med': 2, 'low': 3}).astype(int)\n",
    "all_df['doors']= all_df['doors'].map({'2':0, '3': 1, '4': 2, '5more': 3}).astype(int)\n",
    "all_df['persons']= all_df['persons'].map({'2':0, '4': 1, 'more': 2}).astype(int)\n",
    "all_df['lug_boot']= all_df['lug_boot'].map({'small':0, 'med': 1, 'big': 2}).astype(int)\n",
    "all_df['safety']= all_df['safety'].map({'low':0, 'med': 1, 'high': 2}).astype(int)\n",
    "all_df['class']= all_df['class'].map({'unacc':0, 'acc': 1, 'good': 2, 'vgood': 3}).astype(int)"
   ]
  },
  {
   "cell_type": "code",
   "execution_count": 35,
   "metadata": {
    "collapsed": false
   },
   "outputs": [
    {
     "data": {
      "text/html": [
       "<div>\n",
       "<table border=\"1\" class=\"dataframe\">\n",
       "  <thead>\n",
       "    <tr style=\"text-align: right;\">\n",
       "      <th></th>\n",
       "      <th>class</th>\n",
       "      <th>buying</th>\n",
       "      <th>maint</th>\n",
       "      <th>doors</th>\n",
       "      <th>persons</th>\n",
       "      <th>lug_boot</th>\n",
       "      <th>safety</th>\n",
       "    </tr>\n",
       "  </thead>\n",
       "  <tbody>\n",
       "    <tr>\n",
       "      <th>0</th>\n",
       "      <td>0</td>\n",
       "      <td>0</td>\n",
       "      <td>0</td>\n",
       "      <td>0</td>\n",
       "      <td>0</td>\n",
       "      <td>0</td>\n",
       "      <td>0</td>\n",
       "    </tr>\n",
       "    <tr>\n",
       "      <th>1</th>\n",
       "      <td>0</td>\n",
       "      <td>0</td>\n",
       "      <td>0</td>\n",
       "      <td>0</td>\n",
       "      <td>0</td>\n",
       "      <td>0</td>\n",
       "      <td>1</td>\n",
       "    </tr>\n",
       "    <tr>\n",
       "      <th>2</th>\n",
       "      <td>0</td>\n",
       "      <td>0</td>\n",
       "      <td>0</td>\n",
       "      <td>0</td>\n",
       "      <td>0</td>\n",
       "      <td>0</td>\n",
       "      <td>2</td>\n",
       "    </tr>\n",
       "    <tr>\n",
       "      <th>3</th>\n",
       "      <td>0</td>\n",
       "      <td>0</td>\n",
       "      <td>0</td>\n",
       "      <td>0</td>\n",
       "      <td>0</td>\n",
       "      <td>1</td>\n",
       "      <td>0</td>\n",
       "    </tr>\n",
       "  </tbody>\n",
       "</table>\n",
       "</div>"
      ],
      "text/plain": [
       "   class  buying  maint  doors  persons  lug_boot  safety\n",
       "0      0       0      0      0        0         0       0\n",
       "1      0       0      0      0        0         0       1\n",
       "2      0       0      0      0        0         0       2\n",
       "3      0       0      0      0        0         1       0"
      ]
     },
     "execution_count": 35,
     "metadata": {},
     "output_type": "execute_result"
    }
   ],
   "source": [
    "all_df[:4]"
   ]
  },
  {
   "cell_type": "code",
   "execution_count": 36,
   "metadata": {
    "collapsed": true
   },
   "outputs": [],
   "source": [
    "X=all_df.drop(['class'], axis=1).values.astype('float64')"
   ]
  },
  {
   "cell_type": "code",
   "execution_count": 37,
   "metadata": {
    "collapsed": true
   },
   "outputs": [],
   "source": [
    "Y = all_df['class'].values.astype('int64')"
   ]
  },
  {
   "cell_type": "code",
   "execution_count": 38,
   "metadata": {
    "collapsed": false
   },
   "outputs": [
    {
     "data": {
      "text/plain": [
       "1382"
      ]
     },
     "execution_count": 38,
     "metadata": {},
     "output_type": "execute_result"
    }
   ],
   "source": [
    "minmax_scale = preprocessing.MinMaxScaler(feature_range=(0, 1))\n",
    "scaledFeatures=minmax_scale.fit_transform(X)   \n",
    "train_Features, test_Features, train_Label, test_Label = train_test_split(X, Y, test_size=0.2, random_state=True) \n",
    "len(train_Features)"
   ]
  },
  {
   "cell_type": "code",
   "execution_count": 39,
   "metadata": {
    "collapsed": false
   },
   "outputs": [],
   "source": [
    "from keras.utils import np_utils\n",
    "train_Label=np_utils.to_categorical(train_Label)\n",
    "test_Label=np_utils.to_categorical(test_Label)"
   ]
  },
  {
   "cell_type": "code",
   "execution_count": 40,
   "metadata": {
    "collapsed": false
   },
   "outputs": [],
   "source": [
    "from keras.models import Sequential\n",
    "from keras.layers import Dense,Dropout\n",
    "from keras.callbacks import EarlyStopping\n",
    "early_stopping = EarlyStopping(monitor='val_loss', patience=2)"
   ]
  },
  {
   "cell_type": "code",
   "execution_count": 41,
   "metadata": {
    "collapsed": true
   },
   "outputs": [],
   "source": [
    "model = Sequential()"
   ]
  },
  {
   "cell_type": "code",
   "execution_count": 42,
   "metadata": {
    "collapsed": true
   },
   "outputs": [],
   "source": [
    "model.add(Dense(units=12*8,input_dim=6,\n",
    "                kernel_initializer='uniform', \n",
    "                activation='relu'))"
   ]
  },
  {
   "cell_type": "code",
   "execution_count": 43,
   "metadata": {
    "collapsed": true
   },
   "outputs": [],
   "source": [
    "model.add(Dense(units=12*7, \n",
    "                kernel_initializer='uniform', \n",
    "                activation='relu'))"
   ]
  },
  {
   "cell_type": "code",
   "execution_count": 44,
   "metadata": {
    "collapsed": true
   },
   "outputs": [],
   "source": [
    "model.add(Dense(units=12*6, \n",
    "                kernel_initializer='uniform', \n",
    "                activation='relu'))"
   ]
  },
  {
   "cell_type": "code",
   "execution_count": 45,
   "metadata": {
    "collapsed": true
   },
   "outputs": [],
   "source": [
    "model.add(Dense(units=12*5, \n",
    "                kernel_initializer='uniform', \n",
    "                activation='relu'))"
   ]
  },
  {
   "cell_type": "code",
   "execution_count": 46,
   "metadata": {
    "collapsed": true
   },
   "outputs": [],
   "source": [
    "model.add(Dense(units=12*4, \n",
    "                kernel_initializer='uniform', \n",
    "                activation='relu'))"
   ]
  },
  {
   "cell_type": "code",
   "execution_count": 47,
   "metadata": {
    "collapsed": true
   },
   "outputs": [],
   "source": [
    "model.add(Dense(units=12*3, \n",
    "                kernel_initializer='uniform', \n",
    "                activation='relu'))"
   ]
  },
  {
   "cell_type": "code",
   "execution_count": 48,
   "metadata": {
    "collapsed": true
   },
   "outputs": [],
   "source": [
    "model.add(Dense(units=12*2, \n",
    "                kernel_initializer='uniform', \n",
    "                activation='relu'))"
   ]
  },
  {
   "cell_type": "code",
   "execution_count": 49,
   "metadata": {
    "collapsed": true
   },
   "outputs": [],
   "source": [
    "model.add(Dense(units=12, \n",
    "                kernel_initializer='uniform', \n",
    "                activation='relu'))"
   ]
  },
  {
   "cell_type": "code",
   "execution_count": 50,
   "metadata": {
    "collapsed": true
   },
   "outputs": [],
   "source": [
    "model.add(Dense(units=4, \n",
    "                kernel_initializer='uniform',\n",
    "                activation='softmax'))"
   ]
  },
  {
   "cell_type": "code",
   "execution_count": 51,
   "metadata": {
    "collapsed": false
   },
   "outputs": [
    {
     "name": "stdout",
     "output_type": "stream",
     "text": [
      "_________________________________________________________________\n",
      "Layer (type)                 Output Shape              Param #   \n",
      "=================================================================\n",
      "dense_10 (Dense)             (None, 96)                672       \n",
      "_________________________________________________________________\n",
      "dense_11 (Dense)             (None, 84)                8148      \n",
      "_________________________________________________________________\n",
      "dense_12 (Dense)             (None, 72)                6120      \n",
      "_________________________________________________________________\n",
      "dense_13 (Dense)             (None, 60)                4380      \n",
      "_________________________________________________________________\n",
      "dense_14 (Dense)             (None, 48)                2928      \n",
      "_________________________________________________________________\n",
      "dense_15 (Dense)             (None, 36)                1764      \n",
      "_________________________________________________________________\n",
      "dense_16 (Dense)             (None, 24)                888       \n",
      "_________________________________________________________________\n",
      "dense_17 (Dense)             (None, 12)                300       \n",
      "_________________________________________________________________\n",
      "dense_18 (Dense)             (None, 4)                 52        \n",
      "=================================================================\n",
      "Total params: 25,252\n",
      "Trainable params: 25,252\n",
      "Non-trainable params: 0\n",
      "_________________________________________________________________\n"
     ]
    }
   ],
   "source": [
    "model.summary()"
   ]
  },
  {
   "cell_type": "code",
   "execution_count": 52,
   "metadata": {
    "collapsed": true
   },
   "outputs": [],
   "source": [
    "model.compile(loss='categorical_crossentropy', \n",
    "              optimizer='adam', metrics=['accuracy'])"
   ]
  },
  {
   "cell_type": "code",
   "execution_count": 53,
   "metadata": {
    "collapsed": false
   },
   "outputs": [
    {
     "name": "stdout",
     "output_type": "stream",
     "text": [
      "Train on 1243 samples, validate on 139 samples\n",
      "Epoch 1/30\n",
      " - 1s - loss: 1.3669 - acc: 0.6903 - val_loss: 1.3397 - val_acc: 0.6619\n",
      "Epoch 2/30\n",
      " - 0s - loss: 1.1590 - acc: 0.6903 - val_loss: 0.9817 - val_acc: 0.6619\n",
      "Epoch 3/30\n",
      " - 0s - loss: 0.8988 - acc: 0.6903 - val_loss: 0.8749 - val_acc: 0.6619\n",
      "Epoch 4/30\n",
      " - 0s - loss: 0.7827 - acc: 0.6903 - val_loss: 0.7522 - val_acc: 0.6619\n",
      "Epoch 5/30\n",
      " - 0s - loss: 0.6052 - acc: 0.6903 - val_loss: 0.5856 - val_acc: 0.6619\n",
      "Epoch 6/30\n",
      " - 0s - loss: 0.4959 - acc: 0.6903 - val_loss: 0.5057 - val_acc: 0.6619\n",
      "Epoch 7/30\n",
      " - 0s - loss: 0.4434 - acc: 0.7442 - val_loss: 0.5063 - val_acc: 0.6906\n",
      "Epoch 8/30\n",
      " - 0s - loss: 0.4193 - acc: 0.7739 - val_loss: 0.4422 - val_acc: 0.6978\n",
      "Epoch 9/30\n",
      " - 0s - loss: 0.3833 - acc: 0.7474 - val_loss: 0.4168 - val_acc: 0.7410\n",
      "Epoch 10/30\n",
      " - 0s - loss: 0.3671 - acc: 0.7796 - val_loss: 0.3941 - val_acc: 0.7554\n",
      "Epoch 11/30\n",
      " - 0s - loss: 0.3366 - acc: 0.8198 - val_loss: 0.3600 - val_acc: 0.8129\n",
      "Epoch 12/30\n",
      " - 0s - loss: 0.3132 - acc: 0.8673 - val_loss: 0.3632 - val_acc: 0.8849\n",
      "Epoch 13/30\n",
      " - 0s - loss: 0.3035 - acc: 0.8777 - val_loss: 0.3318 - val_acc: 0.8417\n",
      "Epoch 14/30\n",
      " - 0s - loss: 0.2834 - acc: 0.8970 - val_loss: 0.3094 - val_acc: 0.8633\n",
      "Epoch 15/30\n",
      " - 0s - loss: 0.2639 - acc: 0.9027 - val_loss: 0.2881 - val_acc: 0.8777\n",
      "Epoch 16/30\n",
      " - 0s - loss: 0.2544 - acc: 0.9027 - val_loss: 0.2879 - val_acc: 0.8849\n",
      "Epoch 17/30\n",
      " - 0s - loss: 0.2337 - acc: 0.9043 - val_loss: 0.2723 - val_acc: 0.8849\n",
      "Epoch 18/30\n",
      " - 0s - loss: 0.2284 - acc: 0.9051 - val_loss: 0.2691 - val_acc: 0.8849\n",
      "Epoch 19/30\n",
      " - 0s - loss: 0.2104 - acc: 0.9059 - val_loss: 0.2421 - val_acc: 0.8993\n",
      "Epoch 20/30\n",
      " - 0s - loss: 0.2002 - acc: 0.9051 - val_loss: 0.2355 - val_acc: 0.8921\n",
      "Epoch 21/30\n",
      " - 0s - loss: 0.2193 - acc: 0.8962 - val_loss: 0.2314 - val_acc: 0.8921\n",
      "Epoch 22/30\n",
      " - 0s - loss: 0.1956 - acc: 0.9043 - val_loss: 0.2804 - val_acc: 0.8561\n",
      "Epoch 23/30\n",
      " - 0s - loss: 0.1988 - acc: 0.8962 - val_loss: 0.2458 - val_acc: 0.8921\n",
      "Epoch 24/30\n",
      " - 0s - loss: 0.1810 - acc: 0.9067 - val_loss: 0.2699 - val_acc: 0.8921\n",
      "Epoch 25/30\n",
      " - 0s - loss: 0.2079 - acc: 0.8994 - val_loss: 0.2909 - val_acc: 0.8993\n",
      "Epoch 26/30\n",
      " - 0s - loss: 0.1736 - acc: 0.9308 - val_loss: 0.2170 - val_acc: 0.9209\n",
      "Epoch 27/30\n",
      " - 0s - loss: 0.1508 - acc: 0.9413 - val_loss: 0.2027 - val_acc: 0.9281\n",
      "Epoch 28/30\n",
      " - 0s - loss: 0.1688 - acc: 0.9228 - val_loss: 0.3027 - val_acc: 0.8489\n",
      "Epoch 29/30\n",
      " - 0s - loss: 0.1696 - acc: 0.9228 - val_loss: 0.3728 - val_acc: 0.8633\n",
      "Epoch 30/30\n",
      " - 0s - loss: 0.1796 - acc: 0.9316 - val_loss: 0.2293 - val_acc: 0.9281\n"
     ]
    }
   ],
   "source": [
    "train_history =model.fit(x=train_Features, \n",
    "                         y=train_Label, \n",
    "                         validation_split=0.1, \n",
    "                         epochs=30, \n",
    "                         batch_size=35,verbose=2)"
   ]
  },
  {
   "cell_type": "code",
   "execution_count": 54,
   "metadata": {
    "collapsed": true
   },
   "outputs": [],
   "source": [
    "import matplotlib.pyplot as plt\n",
    "def show_train_history(train_history,train,validation):\n",
    "    plt.plot(train_history.history[train])\n",
    "    plt.plot(train_history.history[validation])\n",
    "    plt.title('Train History')\n",
    "    plt.ylabel(train)\n",
    "    plt.xlabel('Epoch')\n",
    "    plt.legend(['train', 'validation'], loc='upper left')\n",
    "    plt.show()"
   ]
  },
  {
   "cell_type": "code",
   "execution_count": 55,
   "metadata": {
    "collapsed": false
   },
   "outputs": [
    {
     "data": {
      "image/png": "[encoded data removed]",
      "text/plain": [
       "<matplotlib.figure.Figure at 0x7f48545e7400>"
      ]
     },
     "metadata": {},
     "output_type": "display_data"
    }
   ],
   "source": [
    "show_train_history(train_history,'acc','val_acc')"
   ]
  },
  {
   "cell_type": "code",
   "execution_count": 56,
   "metadata": {
    "collapsed": false
   },
   "outputs": [
    {
     "data": {
      "image/png": "[encoded data removed]",
      "text/plain": [
       "<matplotlib.figure.Figure at 0x7f48545e7390>"
      ]
     },
     "metadata": {},
     "output_type": "display_data"
    }
   ],
   "source": [
    "show_train_history(train_history,'loss','val_loss')"
   ]
  },
  {
   "cell_type": "code",
   "execution_count": 57,
   "metadata": {
    "collapsed": false
   },
   "outputs": [
    {
     "name": "stdout",
     "output_type": "stream",
     "text": [
      "346/346 [==============================] - 0s 157us/step\n"
     ]
    }
   ],
   "source": [
    "scores = model.evaluate(x=test_Features, \n",
    "                        y=test_Label)"
   ]
  },
  {
   "cell_type": "code",
   "execution_count": 58,
   "metadata": {
    "collapsed": false
   },
   "outputs": [
    {
     "data": {
      "text/plain": [
       "0.9248554916740153"
      ]
     },
     "execution_count": 58,
     "metadata": {},
     "output_type": "execute_result"
    }
   ],
   "source": [
    "scores[1]"
   ]
  }
 ],
 "metadata": {
  "anaconda-cloud": {},
  "kernelspec": {
   "display_name": "Python [default]",
   "language": "python",
   "name": "python3"
  },
  "language_info": {
   "codemirror_mode": {
    "name": "ipython",
    "version": 3
   },
   "file_extension": ".py",
   "mimetype": "text/x-python",
   "name": "python",
   "nbconvert_exporter": "python",
   "pygments_lexer": "ipython3",
   "version": "3.5.2"
  }
 },
 "nbformat": 4,
 "nbformat_minor": 1
}
