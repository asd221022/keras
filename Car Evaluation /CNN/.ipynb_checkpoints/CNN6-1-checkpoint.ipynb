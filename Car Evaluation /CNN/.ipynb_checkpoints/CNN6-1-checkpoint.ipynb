{
 "cells": [
  {
   "cell_type": "code",
   "execution_count": 78,
   "metadata": {
    "collapsed": false
   },
   "outputs": [],
   "source": [
    "import numpy\n",
    "import pandas as pd\n",
    "from sklearn import preprocessing\n",
    "from sklearn.model_selection import train_test_split\n",
    "numpy.random.seed(10)"
   ]
  },
  {
   "cell_type": "code",
   "execution_count": 79,
   "metadata": {
    "collapsed": false
   },
   "outputs": [],
   "source": [
    "all_df = pd.read_excel(\"car.xlsx\")"
   ]
  },
  {
   "cell_type": "code",
   "execution_count": 80,
   "metadata": {
    "collapsed": false
   },
   "outputs": [],
   "source": [
    "cols=['class','buying','maint','doors' ,'persons', 'lug_boot',\n",
    "       'safety',]\n",
    "all_df=all_df[cols]"
   ]
  },
  {
   "cell_type": "code",
   "execution_count": 81,
   "metadata": {
    "collapsed": false
   },
   "outputs": [
    {
     "data": {
      "text/html": [
       "<div>\n",
       "<table border=\"1\" class=\"dataframe\">\n",
       "  <thead>\n",
       "    <tr style=\"text-align: right;\">\n",
       "      <th></th>\n",
       "      <th>class</th>\n",
       "      <th>buying</th>\n",
       "      <th>maint</th>\n",
       "      <th>doors</th>\n",
       "      <th>persons</th>\n",
       "      <th>lug_boot</th>\n",
       "      <th>safety</th>\n",
       "    </tr>\n",
       "  </thead>\n",
       "  <tbody>\n",
       "    <tr>\n",
       "      <th>0</th>\n",
       "      <td>unacc</td>\n",
       "      <td>vhigh</td>\n",
       "      <td>vhigh</td>\n",
       "      <td>2</td>\n",
       "      <td>2</td>\n",
       "      <td>small</td>\n",
       "      <td>low</td>\n",
       "    </tr>\n",
       "    <tr>\n",
       "      <th>1</th>\n",
       "      <td>unacc</td>\n",
       "      <td>vhigh</td>\n",
       "      <td>vhigh</td>\n",
       "      <td>2</td>\n",
       "      <td>2</td>\n",
       "      <td>small</td>\n",
       "      <td>med</td>\n",
       "    </tr>\n",
       "  </tbody>\n",
       "</table>\n",
       "</div>"
      ],
      "text/plain": [
       "   class buying  maint doors persons lug_boot safety\n",
       "0  unacc  vhigh  vhigh     2       2    small    low\n",
       "1  unacc  vhigh  vhigh     2       2    small    med"
      ]
     },
     "execution_count": 81,
     "metadata": {},
     "output_type": "execute_result"
    }
   ],
   "source": [
    "all_df[:2]"
   ]
  },
  {
   "cell_type": "code",
   "execution_count": 82,
   "metadata": {
    "collapsed": true
   },
   "outputs": [],
   "source": [
    "all_df['buying']= all_df['buying'].map({'vhigh':0, 'high': 1, 'med': 2, 'low': 3}).astype(int) \n",
    "all_df['maint']= all_df['maint'].map({'vhigh':0, 'high': 1, 'med': 2, 'low': 3}).astype(int)\n",
    "all_df['doors']= all_df['doors'].map({'2':0, '3': 1, '4': 2, '5more': 3}).astype(int)\n",
    "all_df['persons']= all_df['persons'].map({'2':0, '4': 1, 'more': 2}).astype(int)\n",
    "all_df['lug_boot']= all_df['lug_boot'].map({'small':0, 'med': 1, 'big': 2}).astype(int)\n",
    "all_df['safety']= all_df['safety'].map({'low':0, 'med': 1, 'high': 2}).astype(int)\n",
    "all_df['class']= all_df['class'].map({'unacc':0, 'acc': 1, 'good': 2, 'vgood': 3}).astype(int)"
   ]
  },
  {
   "cell_type": "code",
   "execution_count": 83,
   "metadata": {
    "collapsed": false
   },
   "outputs": [
    {
     "data": {
      "text/html": [
       "<div>\n",
       "<table border=\"1\" class=\"dataframe\">\n",
       "  <thead>\n",
       "    <tr style=\"text-align: right;\">\n",
       "      <th></th>\n",
       "      <th>class</th>\n",
       "      <th>buying</th>\n",
       "      <th>maint</th>\n",
       "      <th>doors</th>\n",
       "      <th>persons</th>\n",
       "      <th>lug_boot</th>\n",
       "      <th>safety</th>\n",
       "    </tr>\n",
       "  </thead>\n",
       "  <tbody>\n",
       "    <tr>\n",
       "      <th>0</th>\n",
       "      <td>0</td>\n",
       "      <td>0</td>\n",
       "      <td>0</td>\n",
       "      <td>0</td>\n",
       "      <td>0</td>\n",
       "      <td>0</td>\n",
       "      <td>0</td>\n",
       "    </tr>\n",
       "    <tr>\n",
       "      <th>1</th>\n",
       "      <td>0</td>\n",
       "      <td>0</td>\n",
       "      <td>0</td>\n",
       "      <td>0</td>\n",
       "      <td>0</td>\n",
       "      <td>0</td>\n",
       "      <td>1</td>\n",
       "    </tr>\n",
       "    <tr>\n",
       "      <th>2</th>\n",
       "      <td>0</td>\n",
       "      <td>0</td>\n",
       "      <td>0</td>\n",
       "      <td>0</td>\n",
       "      <td>0</td>\n",
       "      <td>0</td>\n",
       "      <td>2</td>\n",
       "    </tr>\n",
       "    <tr>\n",
       "      <th>3</th>\n",
       "      <td>0</td>\n",
       "      <td>0</td>\n",
       "      <td>0</td>\n",
       "      <td>0</td>\n",
       "      <td>0</td>\n",
       "      <td>1</td>\n",
       "      <td>0</td>\n",
       "    </tr>\n",
       "  </tbody>\n",
       "</table>\n",
       "</div>"
      ],
      "text/plain": [
       "   class  buying  maint  doors  persons  lug_boot  safety\n",
       "0      0       0      0      0        0         0       0\n",
       "1      0       0      0      0        0         0       1\n",
       "2      0       0      0      0        0         0       2\n",
       "3      0       0      0      0        0         1       0"
      ]
     },
     "execution_count": 83,
     "metadata": {},
     "output_type": "execute_result"
    }
   ],
   "source": [
    "all_df[:4]"
   ]
  },
  {
   "cell_type": "code",
   "execution_count": 84,
   "metadata": {
    "collapsed": true
   },
   "outputs": [],
   "source": [
    "Y = all_df['class'].values.astype('int64')"
   ]
  },
  {
   "cell_type": "code",
   "execution_count": 85,
   "metadata": {
    "collapsed": true
   },
   "outputs": [],
   "source": [
    "X=all_df.drop(['class'], axis=1).values.astype('float64')"
   ]
  },
  {
   "cell_type": "code",
   "execution_count": 86,
   "metadata": {
    "collapsed": false
   },
   "outputs": [
    {
     "data": {
      "text/plain": [
       "1382"
      ]
     },
     "execution_count": 86,
     "metadata": {},
     "output_type": "execute_result"
    }
   ],
   "source": [
    "minmax_scale = preprocessing.MinMaxScaler(feature_range=(0, 1))\n",
    "scaledFeatures=minmax_scale.fit_transform(X)   \n",
    "train_Features, test_Features, train_Label, test_Label = train_test_split(X, Y, test_size=0.2, random_state=True) \n",
    "len(train_Features)"
   ]
  },
  {
   "cell_type": "code",
   "execution_count": 87,
   "metadata": {
    "collapsed": false
   },
   "outputs": [
    {
     "data": {
      "text/plain": [
       "array([[3., 2., 2., 1., 1., 1.],\n",
       "       [1., 1., 3., 1., 1., 1.],\n",
       "       [0., 2., 3., 0., 0., 2.],\n",
       "       [2., 2., 0., 0., 1., 2.]])"
      ]
     },
     "execution_count": 87,
     "metadata": {},
     "output_type": "execute_result"
    }
   ],
   "source": [
    "train_Features[:4]"
   ]
  },
  {
   "cell_type": "code",
   "execution_count": 88,
   "metadata": {
    "collapsed": false
   },
   "outputs": [
    {
     "data": {
      "text/plain": [
       "(1382,)"
      ]
     },
     "execution_count": 88,
     "metadata": {},
     "output_type": "execute_result"
    }
   ],
   "source": [
    "train_Label.shape"
   ]
  },
  {
   "cell_type": "code",
   "execution_count": 89,
   "metadata": {
    "collapsed": true
   },
   "outputs": [],
   "source": [
    "train_Features = train_Features.reshape((train_Features.shape[0], train_Features.shape[1], 1))"
   ]
  },
  {
   "cell_type": "code",
   "execution_count": 90,
   "metadata": {
    "collapsed": true
   },
   "outputs": [],
   "source": [
    "test_Features = test_Features.reshape((test_Features.shape[0], test_Features.shape[1], 1))"
   ]
  },
  {
   "cell_type": "code",
   "execution_count": 91,
   "metadata": {
    "collapsed": false
   },
   "outputs": [],
   "source": [
    "from keras.utils import np_utils\n",
    "train_Label=np_utils.to_categorical(train_Label)\n",
    "test_Label=np_utils.to_categorical(test_Label)"
   ]
  },
  {
   "cell_type": "code",
   "execution_count": 92,
   "metadata": {
    "collapsed": false
   },
   "outputs": [],
   "source": [
    "from keras.models import Sequential\n",
    "from keras.layers import Dense,Dropout,Flatten,Conv1D,MaxPooling1D\n",
    "from keras.layers.embeddings import Embedding\n",
    "from keras.callbacks import EarlyStopping\n",
    "early_stopping = EarlyStopping(monitor='val_loss', patience=2)"
   ]
  },
  {
   "cell_type": "code",
   "execution_count": 93,
   "metadata": {
    "collapsed": true
   },
   "outputs": [],
   "source": [
    "model = Sequential()"
   ]
  },
  {
   "cell_type": "code",
   "execution_count": 94,
   "metadata": {
    "collapsed": false
   },
   "outputs": [],
   "source": [
    "model.add(Conv1D(filters=6,\n",
    "                 kernel_size=1,\n",
    "                 padding='valid',\n",
    "                 input_shape=(6,1), \n",
    "                 activation='relu'))"
   ]
  },
  {
   "cell_type": "code",
   "execution_count": 95,
   "metadata": {
    "collapsed": true
   },
   "outputs": [],
   "source": [
    "model.add(MaxPooling1D(pool_size=1))"
   ]
  },
  {
   "cell_type": "code",
   "execution_count": 96,
   "metadata": {
    "collapsed": true
   },
   "outputs": [],
   "source": [
    "model.add(Flatten())"
   ]
  },
  {
   "cell_type": "code",
   "execution_count": 97,
   "metadata": {
    "collapsed": true
   },
   "outputs": [],
   "source": [
    "model.add(Dense(6, activation='tanh'))"
   ]
  },
  {
   "cell_type": "code",
   "execution_count": 98,
   "metadata": {
    "collapsed": true
   },
   "outputs": [],
   "source": [
    "model.add(Dense(4,activation='softmax'))"
   ]
  },
  {
   "cell_type": "code",
   "execution_count": 99,
   "metadata": {
    "collapsed": false
   },
   "outputs": [
    {
     "name": "stdout",
     "output_type": "stream",
     "text": [
      "_________________________________________________________________\n",
      "Layer (type)                 Output Shape              Param #   \n",
      "=================================================================\n",
      "conv1d_3 (Conv1D)            (None, 6, 6)              12        \n",
      "_________________________________________________________________\n",
      "max_pooling1d_3 (MaxPooling1 (None, 6, 6)              0         \n",
      "_________________________________________________________________\n",
      "flatten_3 (Flatten)          (None, 36)                0         \n",
      "_________________________________________________________________\n",
      "dense_5 (Dense)              (None, 6)                 222       \n",
      "_________________________________________________________________\n",
      "dense_6 (Dense)              (None, 4)                 28        \n",
      "=================================================================\n",
      "Total params: 262\n",
      "Trainable params: 262\n",
      "Non-trainable params: 0\n",
      "_________________________________________________________________\n"
     ]
    }
   ],
   "source": [
    "model.summary()"
   ]
  },
  {
   "cell_type": "code",
   "execution_count": 100,
   "metadata": {
    "collapsed": false
   },
   "outputs": [],
   "source": [
    "model.compile(loss='categorical_crossentropy',\n",
    "              optimizer='adam',metrics=['accuracy']) "
   ]
  },
  {
   "cell_type": "code",
   "execution_count": 101,
   "metadata": {
    "collapsed": false
   },
   "outputs": [
    {
     "name": "stdout",
     "output_type": "stream",
     "text": [
      "Train on 1105 samples, validate on 277 samples\n",
      "Epoch 1/30\n",
      "1105/1105 [==============================] - 2s 1ms/step - loss: 1.3826 - acc: 0.6235 - val_loss: 1.1528 - val_acc: 0.7076\n",
      "Epoch 2/30\n",
      "1105/1105 [==============================] - 0s 390us/step - loss: 1.1101 - acc: 0.6778 - val_loss: 0.9400 - val_acc: 0.6968\n",
      "Epoch 3/30\n",
      "1105/1105 [==============================] - 0s 353us/step - loss: 0.9104 - acc: 0.6778 - val_loss: 0.8501 - val_acc: 0.6968\n",
      "Epoch 4/30\n",
      "1105/1105 [==============================] - 1s 483us/step - loss: 0.8353 - acc: 0.6814 - val_loss: 0.8115 - val_acc: 0.7076\n",
      "Epoch 5/30\n",
      "1105/1105 [==============================] - 0s 421us/step - loss: 0.8013 - acc: 0.6842 - val_loss: 0.7818 - val_acc: 0.7076\n",
      "Epoch 6/30\n",
      "1105/1105 [==============================] - 0s 401us/step - loss: 0.7738 - acc: 0.6824 - val_loss: 0.7603 - val_acc: 0.7004\n",
      "Epoch 7/30\n",
      "1105/1105 [==============================] - 0s 327us/step - loss: 0.7541 - acc: 0.6860 - val_loss: 0.7446 - val_acc: 0.7184\n",
      "Epoch 8/30\n",
      "1105/1105 [==============================] - 1s 483us/step - loss: 0.7351 - acc: 0.6923 - val_loss: 0.7296 - val_acc: 0.7256\n",
      "Epoch 9/30\n",
      "1105/1105 [==============================] - 0s 384us/step - loss: 0.7205 - acc: 0.7005 - val_loss: 0.7168 - val_acc: 0.7292\n",
      "Epoch 10/30\n",
      "1105/1105 [==============================] - 0s 354us/step - loss: 0.7066 - acc: 0.7050 - val_loss: 0.7051 - val_acc: 0.7473\n",
      "Epoch 11/30\n",
      "1105/1105 [==============================] - 0s 374us/step - loss: 0.6956 - acc: 0.7204 - val_loss: 0.6955 - val_acc: 0.7545\n",
      "Epoch 12/30\n",
      "1105/1105 [==============================] - 0s 395us/step - loss: 0.6836 - acc: 0.7249 - val_loss: 0.6866 - val_acc: 0.7653\n",
      "Epoch 13/30\n",
      "1105/1105 [==============================] - 0s 344us/step - loss: 0.6729 - acc: 0.7339 - val_loss: 0.6759 - val_acc: 0.7690\n",
      "Epoch 14/30\n",
      "1105/1105 [==============================] - 0s 353us/step - loss: 0.6636 - acc: 0.7394 - val_loss: 0.6688 - val_acc: 0.7726\n",
      "Epoch 15/30\n",
      "1105/1105 [==============================] - 0s 359us/step - loss: 0.6528 - acc: 0.7484 - val_loss: 0.6590 - val_acc: 0.7762\n",
      "Epoch 16/30\n",
      "1105/1105 [==============================] - 0s 312us/step - loss: 0.6434 - acc: 0.7493 - val_loss: 0.6502 - val_acc: 0.7870\n",
      "Epoch 17/30\n",
      "1105/1105 [==============================] - 0s 329us/step - loss: 0.6334 - acc: 0.7493 - val_loss: 0.6440 - val_acc: 0.7870\n",
      "Epoch 18/30\n",
      "1105/1105 [==============================] - 0s 369us/step - loss: 0.6246 - acc: 0.7665 - val_loss: 0.6311 - val_acc: 0.7870\n",
      "Epoch 19/30\n",
      "1105/1105 [==============================] - 0s 396us/step - loss: 0.6147 - acc: 0.7593 - val_loss: 0.6263 - val_acc: 0.7870\n",
      "Epoch 20/30\n",
      "1105/1105 [==============================] - 1s 484us/step - loss: 0.6062 - acc: 0.7792 - val_loss: 0.6155 - val_acc: 0.7906\n",
      "Epoch 21/30\n",
      "1105/1105 [==============================] - 0s 413us/step - loss: 0.5973 - acc: 0.7837 - val_loss: 0.6071 - val_acc: 0.8014\n",
      "Epoch 22/30\n",
      "1105/1105 [==============================] - 0s 360us/step - loss: 0.5874 - acc: 0.7873 - val_loss: 0.5979 - val_acc: 0.8051\n",
      "Epoch 23/30\n",
      "1105/1105 [==============================] - 0s 368us/step - loss: 0.5779 - acc: 0.7900 - val_loss: 0.5886 - val_acc: 0.8159\n",
      "Epoch 24/30\n",
      "1105/1105 [==============================] - 0s 359us/step - loss: 0.5676 - acc: 0.7946 - val_loss: 0.5786 - val_acc: 0.8159\n",
      "Epoch 25/30\n",
      "1105/1105 [==============================] - 0s 337us/step - loss: 0.5575 - acc: 0.8036 - val_loss: 0.5689 - val_acc: 0.8195\n",
      "Epoch 26/30\n",
      "1105/1105 [==============================] - 0s 429us/step - loss: 0.5485 - acc: 0.8109 - val_loss: 0.5596 - val_acc: 0.8159\n",
      "Epoch 27/30\n",
      "1105/1105 [==============================] - 0s 356us/step - loss: 0.5398 - acc: 0.8045 - val_loss: 0.5516 - val_acc: 0.8231\n",
      "Epoch 28/30\n",
      "1105/1105 [==============================] - 0s 319us/step - loss: 0.5309 - acc: 0.8154 - val_loss: 0.5436 - val_acc: 0.8267\n",
      "Epoch 29/30\n",
      "1105/1105 [==============================] - 0s 429us/step - loss: 0.5214 - acc: 0.8145 - val_loss: 0.5353 - val_acc: 0.8303\n",
      "Epoch 30/30\n",
      "1105/1105 [==============================] - 0s 367us/step - loss: 0.5130 - acc: 0.8172 - val_loss: 0.5273 - val_acc: 0.8412\n"
     ]
    }
   ],
   "source": [
    "train_history =model.fit(x=train_Features, \n",
    "                         y=train_Label, \n",
    "                         validation_split=0.2, \n",
    "                         epochs=30, \n",
    "                         batch_size=30,verbose=1)"
   ]
  },
  {
   "cell_type": "code",
   "execution_count": 102,
   "metadata": {
    "collapsed": true
   },
   "outputs": [],
   "source": [
    "import matplotlib.pyplot as plt\n",
    "def show_train_history(train_history,train,validation):\n",
    "    plt.plot(train_history.history[train])\n",
    "    plt.plot(train_history.history[validation])\n",
    "    plt.title('Train History')\n",
    "    plt.ylabel(train)\n",
    "    plt.xlabel('Epoch')\n",
    "    plt.legend(['train', 'validation'], loc='upper left')\n",
    "    plt.show()"
   ]
  },
  {
   "cell_type": "code",
   "execution_count": 103,
   "metadata": {
    "collapsed": false
   },
   "outputs": [
    {
     "data": {
      "image/png": "[encoded data removed]",
      "text/plain": [
       "<matplotlib.figure.Figure at 0x7f1298eb3f60>"
      ]
     },
     "metadata": {},
     "output_type": "display_data"
    }
   ],
   "source": [
    "show_train_history(train_history,'acc','val_acc')"
   ]
  },
  {
   "cell_type": "code",
   "execution_count": 104,
   "metadata": {
    "collapsed": false
   },
   "outputs": [
    {
     "data": {
      "image/png": "[encoded data removed]",
      "text/plain": [
       "<matplotlib.figure.Figure at 0x7f1298eb3ef0>"
      ]
     },
     "metadata": {},
     "output_type": "display_data"
    }
   ],
   "source": [
    "show_train_history(train_history,'loss','val_loss')"
   ]
  },
  {
   "cell_type": "code",
   "execution_count": 105,
   "metadata": {
    "collapsed": false
   },
   "outputs": [
    {
     "name": "stdout",
     "output_type": "stream",
     "text": [
      "346/346 [==============================] - 0s 134us/step\n"
     ]
    }
   ],
   "source": [
    "scores = model.evaluate(x=test_Features, \n",
    "                        y=test_Label)"
   ]
  },
  {
   "cell_type": "code",
   "execution_count": 106,
   "metadata": {
    "collapsed": false
   },
   "outputs": [
    {
     "data": {
      "text/plain": [
       "0.8150289031122461"
      ]
     },
     "execution_count": 106,
     "metadata": {},
     "output_type": "execute_result"
    }
   ],
   "source": [
    "scores[1]"
   ]
  }
 ],
 "metadata": {
  "anaconda-cloud": {},
  "kernelspec": {
   "display_name": "Python [default]",
   "language": "python",
   "name": "python3"
  },
  "language_info": {
   "codemirror_mode": {
    "name": "ipython",
    "version": 3
   },
   "file_extension": ".py",
   "mimetype": "text/x-python",
   "name": "python",
   "nbconvert_exporter": "python",
   "pygments_lexer": "ipython3",
   "version": "3.5.2"
  }
 },
 "nbformat": 4,
 "nbformat_minor": 1
}
