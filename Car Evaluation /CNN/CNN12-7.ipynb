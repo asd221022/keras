{
 "cells": [
  {
   "cell_type": "code",
   "execution_count": 1,
   "metadata": {
    "collapsed": true
   },
   "outputs": [],
   "source": [
    "import numpy\n",
    "import pandas as pd\n",
    "from sklearn import preprocessing\n",
    "from sklearn.model_selection import train_test_split\n",
    "numpy.random.seed(10)"
   ]
  },
  {
   "cell_type": "code",
   "execution_count": 2,
   "metadata": {
    "collapsed": false
   },
   "outputs": [],
   "source": [
    "all_df = pd.read_excel(\"car.xlsx\")"
   ]
  },
  {
   "cell_type": "code",
   "execution_count": 3,
   "metadata": {
    "collapsed": false
   },
   "outputs": [],
   "source": [
    "cols=['class','buying','maint','doors' ,'persons', 'lug_boot',\n",
    "       'safety',]\n",
    "all_df=all_df[cols]"
   ]
  },
  {
   "cell_type": "code",
   "execution_count": 4,
   "metadata": {
    "collapsed": false
   },
   "outputs": [
    {
     "data": {
      "text/html": [
       "<div>\n",
       "<table border=\"1\" class=\"dataframe\">\n",
       "  <thead>\n",
       "    <tr style=\"text-align: right;\">\n",
       "      <th></th>\n",
       "      <th>class</th>\n",
       "      <th>buying</th>\n",
       "      <th>maint</th>\n",
       "      <th>doors</th>\n",
       "      <th>persons</th>\n",
       "      <th>lug_boot</th>\n",
       "      <th>safety</th>\n",
       "    </tr>\n",
       "  </thead>\n",
       "  <tbody>\n",
       "    <tr>\n",
       "      <th>0</th>\n",
       "      <td>unacc</td>\n",
       "      <td>vhigh</td>\n",
       "      <td>vhigh</td>\n",
       "      <td>2</td>\n",
       "      <td>2</td>\n",
       "      <td>small</td>\n",
       "      <td>low</td>\n",
       "    </tr>\n",
       "    <tr>\n",
       "      <th>1</th>\n",
       "      <td>unacc</td>\n",
       "      <td>vhigh</td>\n",
       "      <td>vhigh</td>\n",
       "      <td>2</td>\n",
       "      <td>2</td>\n",
       "      <td>small</td>\n",
       "      <td>med</td>\n",
       "    </tr>\n",
       "  </tbody>\n",
       "</table>\n",
       "</div>"
      ],
      "text/plain": [
       "   class buying  maint doors persons lug_boot safety\n",
       "0  unacc  vhigh  vhigh     2       2    small    low\n",
       "1  unacc  vhigh  vhigh     2       2    small    med"
      ]
     },
     "execution_count": 4,
     "metadata": {},
     "output_type": "execute_result"
    }
   ],
   "source": [
    "all_df[:2]"
   ]
  },
  {
   "cell_type": "code",
   "execution_count": 5,
   "metadata": {
    "collapsed": true
   },
   "outputs": [],
   "source": [
    "all_df['buying']= all_df['buying'].map({'vhigh':0, 'high': 1, 'med': 2, 'low': 3}).astype(int) \n",
    "all_df['maint']= all_df['maint'].map({'vhigh':0, 'high': 1, 'med': 2, 'low': 3}).astype(int)\n",
    "all_df['doors']= all_df['doors'].map({'2':0, '3': 1, '4': 2, '5more': 3}).astype(int)\n",
    "all_df['persons']= all_df['persons'].map({'2':0, '4': 1, 'more': 2}).astype(int)\n",
    "all_df['lug_boot']= all_df['lug_boot'].map({'small':0, 'med': 1, 'big': 2}).astype(int)\n",
    "all_df['safety']= all_df['safety'].map({'low':0, 'med': 1, 'high': 2}).astype(int)\n",
    "all_df['class']= all_df['class'].map({'unacc':0, 'acc': 1, 'good': 2, 'vgood': 3}).astype(int)"
   ]
  },
  {
   "cell_type": "code",
   "execution_count": 6,
   "metadata": {
    "collapsed": false
   },
   "outputs": [
    {
     "data": {
      "text/html": [
       "<div>\n",
       "<table border=\"1\" class=\"dataframe\">\n",
       "  <thead>\n",
       "    <tr style=\"text-align: right;\">\n",
       "      <th></th>\n",
       "      <th>class</th>\n",
       "      <th>buying</th>\n",
       "      <th>maint</th>\n",
       "      <th>doors</th>\n",
       "      <th>persons</th>\n",
       "      <th>lug_boot</th>\n",
       "      <th>safety</th>\n",
       "    </tr>\n",
       "  </thead>\n",
       "  <tbody>\n",
       "    <tr>\n",
       "      <th>0</th>\n",
       "      <td>0</td>\n",
       "      <td>0</td>\n",
       "      <td>0</td>\n",
       "      <td>0</td>\n",
       "      <td>0</td>\n",
       "      <td>0</td>\n",
       "      <td>0</td>\n",
       "    </tr>\n",
       "    <tr>\n",
       "      <th>1</th>\n",
       "      <td>0</td>\n",
       "      <td>0</td>\n",
       "      <td>0</td>\n",
       "      <td>0</td>\n",
       "      <td>0</td>\n",
       "      <td>0</td>\n",
       "      <td>1</td>\n",
       "    </tr>\n",
       "    <tr>\n",
       "      <th>2</th>\n",
       "      <td>0</td>\n",
       "      <td>0</td>\n",
       "      <td>0</td>\n",
       "      <td>0</td>\n",
       "      <td>0</td>\n",
       "      <td>0</td>\n",
       "      <td>2</td>\n",
       "    </tr>\n",
       "    <tr>\n",
       "      <th>3</th>\n",
       "      <td>0</td>\n",
       "      <td>0</td>\n",
       "      <td>0</td>\n",
       "      <td>0</td>\n",
       "      <td>0</td>\n",
       "      <td>1</td>\n",
       "      <td>0</td>\n",
       "    </tr>\n",
       "  </tbody>\n",
       "</table>\n",
       "</div>"
      ],
      "text/plain": [
       "   class  buying  maint  doors  persons  lug_boot  safety\n",
       "0      0       0      0      0        0         0       0\n",
       "1      0       0      0      0        0         0       1\n",
       "2      0       0      0      0        0         0       2\n",
       "3      0       0      0      0        0         1       0"
      ]
     },
     "execution_count": 6,
     "metadata": {},
     "output_type": "execute_result"
    }
   ],
   "source": [
    "all_df[:4]"
   ]
  },
  {
   "cell_type": "code",
   "execution_count": 7,
   "metadata": {
    "collapsed": true
   },
   "outputs": [],
   "source": [
    "Y = all_df['class'].values.astype('int64')"
   ]
  },
  {
   "cell_type": "code",
   "execution_count": 8,
   "metadata": {
    "collapsed": true
   },
   "outputs": [],
   "source": [
    "X=all_df.drop(['class'], axis=1).values.astype('float64')"
   ]
  },
  {
   "cell_type": "code",
   "execution_count": 9,
   "metadata": {
    "collapsed": false
   },
   "outputs": [
    {
     "data": {
      "text/plain": [
       "1382"
      ]
     },
     "execution_count": 9,
     "metadata": {},
     "output_type": "execute_result"
    }
   ],
   "source": [
    "minmax_scale = preprocessing.MinMaxScaler(feature_range=(0, 1))\n",
    "scaledFeatures=minmax_scale.fit_transform(X)   \n",
    "train_Features, test_Features, train_Label, test_Label = train_test_split(X, Y, test_size=0.2, random_state=True) \n",
    "len(train_Features)"
   ]
  },
  {
   "cell_type": "code",
   "execution_count": 10,
   "metadata": {
    "collapsed": false
   },
   "outputs": [
    {
     "data": {
      "text/plain": [
       "array([[3., 2., 2., 1., 1., 1.],\n",
       "       [1., 1., 3., 1., 1., 1.],\n",
       "       [0., 2., 3., 0., 0., 2.],\n",
       "       [2., 2., 0., 0., 1., 2.]])"
      ]
     },
     "execution_count": 10,
     "metadata": {},
     "output_type": "execute_result"
    }
   ],
   "source": [
    "train_Features[:4]"
   ]
  },
  {
   "cell_type": "code",
   "execution_count": 11,
   "metadata": {
    "collapsed": false
   },
   "outputs": [
    {
     "data": {
      "text/plain": [
       "(1382,)"
      ]
     },
     "execution_count": 11,
     "metadata": {},
     "output_type": "execute_result"
    }
   ],
   "source": [
    "train_Label.shape"
   ]
  },
  {
   "cell_type": "code",
   "execution_count": 12,
   "metadata": {
    "collapsed": true
   },
   "outputs": [],
   "source": [
    "train_Features = train_Features.reshape((train_Features.shape[0], train_Features.shape[1], 1))"
   ]
  },
  {
   "cell_type": "code",
   "execution_count": 13,
   "metadata": {
    "collapsed": true
   },
   "outputs": [],
   "source": [
    "test_Features = test_Features.reshape((test_Features.shape[0], test_Features.shape[1], 1))"
   ]
  },
  {
   "cell_type": "code",
   "execution_count": 14,
   "metadata": {
    "collapsed": false
   },
   "outputs": [
    {
     "name": "stderr",
     "output_type": "stream",
     "text": [
      "Using TensorFlow backend.\n"
     ]
    }
   ],
   "source": [
    "from keras.utils import np_utils\n",
    "train_Label=np_utils.to_categorical(train_Label)\n",
    "test_Label=np_utils.to_categorical(test_Label)"
   ]
  },
  {
   "cell_type": "code",
   "execution_count": 15,
   "metadata": {
    "collapsed": false
   },
   "outputs": [],
   "source": [
    "from keras.models import Sequential\n",
    "from keras.layers import Dense,Dropout,Flatten,Conv1D,MaxPooling1D\n",
    "from keras.layers.embeddings import Embedding\n",
    "from keras.callbacks import EarlyStopping\n",
    "early_stopping = EarlyStopping(monitor='val_loss', patience=2)"
   ]
  },
  {
   "cell_type": "code",
   "execution_count": 16,
   "metadata": {
    "collapsed": true
   },
   "outputs": [],
   "source": [
    "model = Sequential()"
   ]
  },
  {
   "cell_type": "code",
   "execution_count": 17,
   "metadata": {
    "collapsed": true
   },
   "outputs": [],
   "source": [
    "model.add(Conv1D(filters=12*7,\n",
    "                 kernel_size=1,\n",
    "                 padding='valid',\n",
    "                 input_shape=(6,1), \n",
    "                 activation='relu'))"
   ]
  },
  {
   "cell_type": "code",
   "execution_count": 18,
   "metadata": {
    "collapsed": true
   },
   "outputs": [],
   "source": [
    "model.add(MaxPooling1D(pool_size=1))"
   ]
  },
  {
   "cell_type": "code",
   "execution_count": 19,
   "metadata": {
    "collapsed": true
   },
   "outputs": [],
   "source": [
    "model.add(Conv1D(filters=12*6,\n",
    "                 kernel_size=1,\n",
    "                 padding='valid', \n",
    "                 activation='relu'))"
   ]
  },
  {
   "cell_type": "code",
   "execution_count": 20,
   "metadata": {
    "collapsed": true
   },
   "outputs": [],
   "source": [
    "model.add(MaxPooling1D(pool_size=1))"
   ]
  },
  {
   "cell_type": "code",
   "execution_count": 21,
   "metadata": {
    "collapsed": true
   },
   "outputs": [],
   "source": [
    "model.add(Conv1D(filters=12*5,\n",
    "                 kernel_size=1,\n",
    "                 padding='valid',\n",
    "                 activation='relu'))"
   ]
  },
  {
   "cell_type": "code",
   "execution_count": 22,
   "metadata": {
    "collapsed": true
   },
   "outputs": [],
   "source": [
    "model.add(MaxPooling1D(pool_size=1))"
   ]
  },
  {
   "cell_type": "code",
   "execution_count": 23,
   "metadata": {
    "collapsed": true
   },
   "outputs": [],
   "source": [
    "model.add(Conv1D(filters=12*4,\n",
    "                 kernel_size=1,\n",
    "                 padding='valid',\n",
    "                 activation='relu'))"
   ]
  },
  {
   "cell_type": "code",
   "execution_count": 24,
   "metadata": {
    "collapsed": true
   },
   "outputs": [],
   "source": [
    "model.add(MaxPooling1D(pool_size=1))"
   ]
  },
  {
   "cell_type": "code",
   "execution_count": 25,
   "metadata": {
    "collapsed": true
   },
   "outputs": [],
   "source": [
    "model.add(Conv1D(filters=12*3,\n",
    "                 kernel_size=1,\n",
    "                 padding='valid',\n",
    "                 activation='relu'))"
   ]
  },
  {
   "cell_type": "code",
   "execution_count": 26,
   "metadata": {
    "collapsed": true
   },
   "outputs": [],
   "source": [
    "model.add(MaxPooling1D(pool_size=1))"
   ]
  },
  {
   "cell_type": "code",
   "execution_count": 27,
   "metadata": {
    "collapsed": true
   },
   "outputs": [],
   "source": [
    "model.add(Conv1D(filters=12*2,\n",
    "                 kernel_size=1,\n",
    "                 padding='valid', \n",
    "                 activation='relu'))"
   ]
  },
  {
   "cell_type": "code",
   "execution_count": 28,
   "metadata": {
    "collapsed": true
   },
   "outputs": [],
   "source": [
    "model.add(MaxPooling1D(pool_size=1))"
   ]
  },
  {
   "cell_type": "code",
   "execution_count": 29,
   "metadata": {
    "collapsed": false
   },
   "outputs": [],
   "source": [
    "model.add(Conv1D(filters=12,\n",
    "                 kernel_size=1,\n",
    "                 padding='valid', \n",
    "                 activation='relu'))"
   ]
  },
  {
   "cell_type": "code",
   "execution_count": 30,
   "metadata": {
    "collapsed": true
   },
   "outputs": [],
   "source": [
    "model.add(MaxPooling1D(pool_size=1))"
   ]
  },
  {
   "cell_type": "code",
   "execution_count": 31,
   "metadata": {
    "collapsed": true
   },
   "outputs": [],
   "source": [
    "model.add(Flatten())"
   ]
  },
  {
   "cell_type": "code",
   "execution_count": 32,
   "metadata": {
    "collapsed": true
   },
   "outputs": [],
   "source": [
    "model.add(Dense(6, activation='tanh'))"
   ]
  },
  {
   "cell_type": "code",
   "execution_count": 33,
   "metadata": {
    "collapsed": true
   },
   "outputs": [],
   "source": [
    "model.add(Dense(4,activation='softmax'))"
   ]
  },
  {
   "cell_type": "code",
   "execution_count": 34,
   "metadata": {
    "collapsed": false
   },
   "outputs": [
    {
     "name": "stdout",
     "output_type": "stream",
     "text": [
      "_________________________________________________________________\n",
      "Layer (type)                 Output Shape              Param #   \n",
      "=================================================================\n",
      "conv1d_1 (Conv1D)            (None, 6, 84)             168       \n",
      "_________________________________________________________________\n",
      "max_pooling1d_1 (MaxPooling1 (None, 6, 84)             0         \n",
      "_________________________________________________________________\n",
      "conv1d_2 (Conv1D)            (None, 6, 72)             6120      \n",
      "_________________________________________________________________\n",
      "max_pooling1d_2 (MaxPooling1 (None, 6, 72)             0         \n",
      "_________________________________________________________________\n",
      "conv1d_3 (Conv1D)            (None, 6, 60)             4380      \n",
      "_________________________________________________________________\n",
      "max_pooling1d_3 (MaxPooling1 (None, 6, 60)             0         \n",
      "_________________________________________________________________\n",
      "conv1d_4 (Conv1D)            (None, 6, 48)             2928      \n",
      "_________________________________________________________________\n",
      "max_pooling1d_4 (MaxPooling1 (None, 6, 48)             0         \n",
      "_________________________________________________________________\n",
      "conv1d_5 (Conv1D)            (None, 6, 36)             1764      \n",
      "_________________________________________________________________\n",
      "max_pooling1d_5 (MaxPooling1 (None, 6, 36)             0         \n",
      "_________________________________________________________________\n",
      "conv1d_6 (Conv1D)            (None, 6, 24)             888       \n",
      "_________________________________________________________________\n",
      "max_pooling1d_6 (MaxPooling1 (None, 6, 24)             0         \n",
      "_________________________________________________________________\n",
      "conv1d_7 (Conv1D)            (None, 6, 12)             300       \n",
      "_________________________________________________________________\n",
      "max_pooling1d_7 (MaxPooling1 (None, 6, 12)             0         \n",
      "_________________________________________________________________\n",
      "flatten_1 (Flatten)          (None, 72)                0         \n",
      "_________________________________________________________________\n",
      "dense_1 (Dense)              (None, 6)                 438       \n",
      "_________________________________________________________________\n",
      "dense_2 (Dense)              (None, 4)                 28        \n",
      "=================================================================\n",
      "Total params: 17,014\n",
      "Trainable params: 17,014\n",
      "Non-trainable params: 0\n",
      "_________________________________________________________________\n"
     ]
    }
   ],
   "source": [
    "model.summary()"
   ]
  },
  {
   "cell_type": "code",
   "execution_count": 35,
   "metadata": {
    "collapsed": false
   },
   "outputs": [],
   "source": [
    "model.compile(loss='categorical_crossentropy',\n",
    "              optimizer='adam',metrics=['accuracy']) "
   ]
  },
  {
   "cell_type": "code",
   "execution_count": 36,
   "metadata": {
    "collapsed": false
   },
   "outputs": [
    {
     "name": "stdout",
     "output_type": "stream",
     "text": [
      "Train on 1105 samples, validate on 277 samples\n",
      "Epoch 1/30\n",
      "1105/1105 [==============================] - 5s 5ms/step - loss: 1.1157 - acc: 0.6543 - val_loss: 0.8723 - val_acc: 0.7112\n",
      "Epoch 2/30\n",
      "1105/1105 [==============================] - 1s 770us/step - loss: 0.8678 - acc: 0.6814 - val_loss: 0.8240 - val_acc: 0.7112\n",
      "Epoch 3/30\n",
      "1105/1105 [==============================] - 1s 656us/step - loss: 0.8021 - acc: 0.6824 - val_loss: 0.7250 - val_acc: 0.7112\n",
      "Epoch 4/30\n",
      "1105/1105 [==============================] - 1s 748us/step - loss: 0.6506 - acc: 0.7385 - val_loss: 0.5793 - val_acc: 0.7870\n",
      "Epoch 5/30\n",
      "1105/1105 [==============================] - 0s 282us/step - loss: 0.5234 - acc: 0.8262 - val_loss: 0.5055 - val_acc: 0.8375\n",
      "Epoch 6/30\n",
      "1105/1105 [==============================] - 0s 310us/step - loss: 0.4712 - acc: 0.8308 - val_loss: 0.4369 - val_acc: 0.8195\n",
      "Epoch 7/30\n",
      "1105/1105 [==============================] - 0s 235us/step - loss: 0.3929 - acc: 0.8498 - val_loss: 0.3934 - val_acc: 0.8484\n",
      "Epoch 8/30\n",
      "1105/1105 [==============================] - 0s 267us/step - loss: 0.3481 - acc: 0.8606 - val_loss: 0.3653 - val_acc: 0.8375\n",
      "Epoch 9/30\n",
      "1105/1105 [==============================] - 0s 190us/step - loss: 0.3149 - acc: 0.8697 - val_loss: 0.3462 - val_acc: 0.8484\n",
      "Epoch 10/30\n",
      "1105/1105 [==============================] - 0s 198us/step - loss: 0.3003 - acc: 0.8769 - val_loss: 0.3112 - val_acc: 0.8448\n",
      "Epoch 11/30\n",
      "1105/1105 [==============================] - 0s 432us/step - loss: 0.2835 - acc: 0.8724 - val_loss: 0.2917 - val_acc: 0.8556\n",
      "Epoch 12/30\n",
      "1105/1105 [==============================] - 1s 583us/step - loss: 0.2590 - acc: 0.8860 - val_loss: 0.3516 - val_acc: 0.8412\n",
      "Epoch 13/30\n",
      "1105/1105 [==============================] - 1s 840us/step - loss: 0.2645 - acc: 0.8833 - val_loss: 0.2788 - val_acc: 0.8664\n",
      "Epoch 14/30\n",
      "1105/1105 [==============================] - 1s 696us/step - loss: 0.2430 - acc: 0.8959 - val_loss: 0.2593 - val_acc: 0.8773\n",
      "Epoch 15/30\n",
      "1105/1105 [==============================] - 1s 597us/step - loss: 0.2222 - acc: 0.9158 - val_loss: 0.2471 - val_acc: 0.8881\n",
      "Epoch 16/30\n",
      "1105/1105 [==============================] - 0s 203us/step - loss: 0.2094 - acc: 0.9276 - val_loss: 0.2361 - val_acc: 0.8989\n",
      "Epoch 17/30\n",
      "1105/1105 [==============================] - 0s 259us/step - loss: 0.2052 - acc: 0.9176 - val_loss: 0.2242 - val_acc: 0.9206\n",
      "Epoch 18/30\n",
      "1105/1105 [==============================] - 0s 289us/step - loss: 0.2107 - acc: 0.9249 - val_loss: 0.2232 - val_acc: 0.9314\n",
      "Epoch 19/30\n",
      "1105/1105 [==============================] - 0s 199us/step - loss: 0.1949 - acc: 0.9367 - val_loss: 0.2294 - val_acc: 0.9206\n",
      "Epoch 20/30\n",
      "1105/1105 [==============================] - 1s 532us/step - loss: 0.1811 - acc: 0.9421 - val_loss: 0.2367 - val_acc: 0.9097\n",
      "Epoch 21/30\n",
      "1105/1105 [==============================] - 0s 233us/step - loss: 0.1876 - acc: 0.9367 - val_loss: 0.2034 - val_acc: 0.9386\n",
      "Epoch 22/30\n",
      "1105/1105 [==============================] - 0s 211us/step - loss: 0.1784 - acc: 0.9403 - val_loss: 0.2105 - val_acc: 0.9314\n",
      "Epoch 23/30\n",
      "1105/1105 [==============================] - 0s 320us/step - loss: 0.1706 - acc: 0.9430 - val_loss: 0.1991 - val_acc: 0.9386\n",
      "Epoch 24/30\n",
      "1105/1105 [==============================] - 0s 232us/step - loss: 0.1695 - acc: 0.9439 - val_loss: 0.1917 - val_acc: 0.9314\n",
      "Epoch 25/30\n",
      "1105/1105 [==============================] - 0s 271us/step - loss: 0.1609 - acc: 0.9430 - val_loss: 0.1833 - val_acc: 0.9350\n",
      "Epoch 26/30\n",
      "1105/1105 [==============================] - 0s 198us/step - loss: 0.1547 - acc: 0.9511 - val_loss: 0.1918 - val_acc: 0.9314\n",
      "Epoch 27/30\n",
      "1105/1105 [==============================] - 0s 324us/step - loss: 0.1536 - acc: 0.9484 - val_loss: 0.2058 - val_acc: 0.9350\n",
      "Epoch 28/30\n",
      "1105/1105 [==============================] - 0s 238us/step - loss: 0.1510 - acc: 0.9502 - val_loss: 0.1717 - val_acc: 0.9422\n",
      "Epoch 29/30\n",
      "1105/1105 [==============================] - 1s 465us/step - loss: 0.1461 - acc: 0.9548 - val_loss: 0.1678 - val_acc: 0.9422\n",
      "Epoch 30/30\n",
      "1105/1105 [==============================] - 0s 382us/step - loss: 0.1449 - acc: 0.9484 - val_loss: 0.1686 - val_acc: 0.9422\n"
     ]
    }
   ],
   "source": [
    "train_history =model.fit(x=train_Features, \n",
    "                         y=train_Label, \n",
    "                         validation_split=0.2, \n",
    "                         epochs=30, \n",
    "                         batch_size=30,verbose=1)"
   ]
  },
  {
   "cell_type": "code",
   "execution_count": 37,
   "metadata": {
    "collapsed": true
   },
   "outputs": [],
   "source": [
    "import matplotlib.pyplot as plt\n",
    "def show_train_history(train_history,train,validation):\n",
    "    plt.plot(train_history.history[train])\n",
    "    plt.plot(train_history.history[validation])\n",
    "    plt.title('Train History')\n",
    "    plt.ylabel(train)\n",
    "    plt.xlabel('Epoch')\n",
    "    plt.legend(['train', 'validation'], loc='upper left')\n",
    "    plt.show()"
   ]
  },
  {
   "cell_type": "code",
   "execution_count": 38,
   "metadata": {
    "collapsed": false
   },
   "outputs": [
    {
     "data": {
      "image/png": "[encoded data removed]",
      "text/plain": [
       "<matplotlib.figure.Figure at 0x7f4301c04d68>"
      ]
     },
     "metadata": {},
     "output_type": "display_data"
    }
   ],
   "source": [
    "show_train_history(train_history,'acc','val_acc')"
   ]
  },
  {
   "cell_type": "code",
   "execution_count": 39,
   "metadata": {
    "collapsed": false
   },
   "outputs": [
    {
     "data": {
      "image/png": "[encoded data removed]",
      "text/plain": [
       "<matplotlib.figure.Figure at 0x7f42fb7f2ef0>"
      ]
     },
     "metadata": {},
     "output_type": "display_data"
    }
   ],
   "source": [
    "show_train_history(train_history,'loss','val_loss')"
   ]
  },
  {
   "cell_type": "code",
   "execution_count": 40,
   "metadata": {
    "collapsed": false
   },
   "outputs": [
    {
     "name": "stdout",
     "output_type": "stream",
     "text": [
      "346/346 [==============================] - 0s 141us/step\n"
     ]
    }
   ],
   "source": [
    "scores = model.evaluate(x=test_Features, \n",
    "                        y=test_Label)"
   ]
  },
  {
   "cell_type": "code",
   "execution_count": 41,
   "metadata": {
    "collapsed": false
   },
   "outputs": [
    {
     "data": {
      "text/plain": [
       "0.9248554913294798"
      ]
     },
     "execution_count": 41,
     "metadata": {},
     "output_type": "execute_result"
    }
   ],
   "source": [
    "scores[1]"
   ]
  }
 ],
 "metadata": {
  "anaconda-cloud": {},
  "kernelspec": {
   "display_name": "Python [default]",
   "language": "python",
   "name": "python3"
  },
  "language_info": {
   "codemirror_mode": {
    "name": "ipython",
    "version": 3
   },
   "file_extension": ".py",
   "mimetype": "text/x-python",
   "name": "python",
   "nbconvert_exporter": "python",
   "pygments_lexer": "ipython3",
   "version": "3.5.2"
  }
 },
 "nbformat": 4,
 "nbformat_minor": 1
}
