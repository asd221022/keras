{
 "cells": [
  {
   "cell_type": "code",
   "execution_count": 93,
   "metadata": {
    "collapsed": false
   },
   "outputs": [],
   "source": [
    "import numpy \n",
    "import pandas as pd\n",
    "from sklearn.preprocessing import StandardScaler\n",
    "from sklearn.model_selection import train_test_split\n",
    "numpy.random.seed(10)"
   ]
  },
  {
   "cell_type": "code",
   "execution_count": 94,
   "metadata": {
    "collapsed": false
   },
   "outputs": [],
   "source": [
    "all_df = pd.read_csv(\"data/star.csv\")"
   ]
  },
  {
   "cell_type": "code",
   "execution_count": 95,
   "metadata": {
    "collapsed": true
   },
   "outputs": [],
   "source": [
    "X=all_df.drop(['target_class'], axis=1).values.astype('float64')"
   ]
  },
  {
   "cell_type": "code",
   "execution_count": 96,
   "metadata": {
    "collapsed": true
   },
   "outputs": [],
   "source": [
    "Y = all_df['target_class'].values.astype('int64')"
   ]
  },
  {
   "cell_type": "code",
   "execution_count": 97,
   "metadata": {
    "collapsed": false
   },
   "outputs": [
    {
     "data": {
      "text/plain": [
       "14318"
      ]
     },
     "execution_count": 97,
     "metadata": {},
     "output_type": "execute_result"
    }
   ],
   "source": [
    "X = StandardScaler().fit_transform(X)\n",
    "train_Features, test_Features, train_Label, test_Label = train_test_split(X, Y, test_size=0.2, random_state=True) \n",
    "len(train_Features)"
   ]
  },
  {
   "cell_type": "code",
   "execution_count": 98,
   "metadata": {
    "collapsed": false
   },
   "outputs": [
    {
     "data": {
      "text/plain": [
       "array([[-0.17610439, -0.03233402, -0.03304459, -0.30800098,  2.72763109,\n",
       "         3.42581353, -1.8008325 , -1.00060536],\n",
       "       [-1.89957861, -1.28100252,  2.39730283,  1.79667065,  0.98835635,\n",
       "         2.27972835, -1.4693661 , -0.96845994]])"
      ]
     },
     "execution_count": 98,
     "metadata": {},
     "output_type": "execute_result"
    }
   ],
   "source": [
    "test_Features[:2]"
   ]
  },
  {
   "cell_type": "code",
   "execution_count": 99,
   "metadata": {
    "collapsed": false
   },
   "outputs": [
    {
     "data": {
      "text/plain": [
       "array([0, 0, 0, 0])"
      ]
     },
     "execution_count": 99,
     "metadata": {},
     "output_type": "execute_result"
    }
   ],
   "source": [
    "train_Label[:4]"
   ]
  },
  {
   "cell_type": "code",
   "execution_count": 100,
   "metadata": {
    "collapsed": false
   },
   "outputs": [
    {
     "data": {
      "text/plain": [
       "(14318, 8)"
      ]
     },
     "execution_count": 100,
     "metadata": {},
     "output_type": "execute_result"
    }
   ],
   "source": [
    "train_Features.shape"
   ]
  },
  {
   "cell_type": "code",
   "execution_count": 101,
   "metadata": {
    "collapsed": false
   },
   "outputs": [
    {
     "data": {
      "text/plain": [
       "array([0, 1, 0, 0])"
      ]
     },
     "execution_count": 101,
     "metadata": {},
     "output_type": "execute_result"
    }
   ],
   "source": [
    "test_Label[:4]"
   ]
  },
  {
   "cell_type": "code",
   "execution_count": 102,
   "metadata": {
    "collapsed": true
   },
   "outputs": [],
   "source": [
    "train_Features = train_Features.reshape((train_Features.shape[0], train_Features.shape[1], 1))"
   ]
  },
  {
   "cell_type": "code",
   "execution_count": 103,
   "metadata": {
    "collapsed": true
   },
   "outputs": [],
   "source": [
    "test_Features = test_Features.reshape((test_Features.shape[0], test_Features.shape[1], 1))"
   ]
  },
  {
   "cell_type": "code",
   "execution_count": 104,
   "metadata": {
    "collapsed": false
   },
   "outputs": [],
   "source": [
    "from keras.models import Sequential\n",
    "from keras.layers.core import Dense, Dropout, Activation\n",
    "from keras.layers.embeddings import Embedding\n",
    "from keras.layers.recurrent import SimpleRNN\n",
    "from keras.callbacks import EarlyStopping\n",
    "early_stopping = EarlyStopping(monitor='val_loss', patience=2)"
   ]
  },
  {
   "cell_type": "code",
   "execution_count": 105,
   "metadata": {
    "collapsed": true
   },
   "outputs": [],
   "source": [
    "model = Sequential()"
   ]
  },
  {
   "cell_type": "code",
   "execution_count": 106,
   "metadata": {
    "collapsed": false
   },
   "outputs": [],
   "source": [
    "model.add(SimpleRNN(units=8, input_shape=(8,1)))"
   ]
  },
  {
   "cell_type": "code",
   "execution_count": 107,
   "metadata": {
    "collapsed": true
   },
   "outputs": [],
   "source": [
    "model.add(Dense(1, activation = \"sigmoid\"))"
   ]
  },
  {
   "cell_type": "code",
   "execution_count": 108,
   "metadata": {
    "collapsed": false
   },
   "outputs": [
    {
     "name": "stdout",
     "output_type": "stream",
     "text": [
      "_________________________________________________________________\n",
      "Layer (type)                 Output Shape              Param #   \n",
      "=================================================================\n",
      "simple_rnn_5 (SimpleRNN)     (None, 8)                 80        \n",
      "_________________________________________________________________\n",
      "dense_5 (Dense)              (None, 1)                 9         \n",
      "=================================================================\n",
      "Total params: 89\n",
      "Trainable params: 89\n",
      "Non-trainable params: 0\n",
      "_________________________________________________________________\n"
     ]
    }
   ],
   "source": [
    "model.summary()"
   ]
  },
  {
   "cell_type": "code",
   "execution_count": 109,
   "metadata": {
    "collapsed": false
   },
   "outputs": [],
   "source": [
    "model.compile(loss='binary_crossentropy', \n",
    "              optimizer='adam', metrics=['accuracy'])"
   ]
  },
  {
   "cell_type": "code",
   "execution_count": 110,
   "metadata": {
    "collapsed": false
   },
   "outputs": [
    {
     "name": "stdout",
     "output_type": "stream",
     "text": [
      "Train on 12886 samples, validate on 1432 samples\n",
      "Epoch 1/30\n",
      "12886/12886 [==============================] - 1s 73us/step - loss: 0.8800 - acc: 0.2453 - val_loss: 0.8397 - val_acc: 0.2493\n",
      "Epoch 2/30\n",
      "12886/12886 [==============================] - 0s 14us/step - loss: 0.8152 - acc: 0.2635 - val_loss: 0.7787 - val_acc: 0.2696\n",
      "Epoch 3/30\n",
      "12886/12886 [==============================] - 0s 13us/step - loss: 0.7553 - acc: 0.2977 - val_loss: 0.7222 - val_acc: 0.3247\n",
      "Epoch 4/30\n",
      "12886/12886 [==============================] - 0s 14us/step - loss: 0.6998 - acc: 0.4415 - val_loss: 0.6695 - val_acc: 0.6453\n",
      "Epoch 5/30\n",
      "12886/12886 [==============================] - 0s 20us/step - loss: 0.6481 - acc: 0.7292 - val_loss: 0.6205 - val_acc: 0.7744\n",
      "Epoch 6/30\n",
      "12886/12886 [==============================] - 0s 11us/step - loss: 0.5999 - acc: 0.8086 - val_loss: 0.5748 - val_acc: 0.8352\n",
      "Epoch 7/30\n",
      "12886/12886 [==============================] - 0s 15us/step - loss: 0.5547 - acc: 0.8508 - val_loss: 0.5321 - val_acc: 0.8743\n",
      "Epoch 8/30\n",
      "12886/12886 [==============================] - 0s 11us/step - loss: 0.5124 - acc: 0.8781 - val_loss: 0.4919 - val_acc: 0.8946\n",
      "Epoch 9/30\n",
      "12886/12886 [==============================] - 0s 17us/step - loss: 0.4727 - acc: 0.8948 - val_loss: 0.4542 - val_acc: 0.9043\n",
      "Epoch 10/30\n",
      "12886/12886 [==============================] - 0s 14us/step - loss: 0.4353 - acc: 0.9066 - val_loss: 0.4191 - val_acc: 0.9120\n",
      "Epoch 11/30\n",
      "12886/12886 [==============================] - 0s 15us/step - loss: 0.4008 - acc: 0.9152 - val_loss: 0.3867 - val_acc: 0.9218\n",
      "Epoch 12/30\n",
      "12886/12886 [==============================] - 0s 16us/step - loss: 0.3691 - acc: 0.9220 - val_loss: 0.3571 - val_acc: 0.9295\n",
      "Epoch 13/30\n",
      "12886/12886 [==============================] - 0s 15us/step - loss: 0.3403 - acc: 0.9276 - val_loss: 0.3305 - val_acc: 0.9330\n",
      "Epoch 14/30\n",
      "12886/12886 [==============================] - 0s 14us/step - loss: 0.3145 - acc: 0.9343 - val_loss: 0.3069 - val_acc: 0.9399\n",
      "Epoch 15/30\n",
      "12886/12886 [==============================] - 0s 15us/step - loss: 0.2919 - acc: 0.9426 - val_loss: 0.2861 - val_acc: 0.9602\n",
      "Epoch 16/30\n",
      "12886/12886 [==============================] - 0s 13us/step - loss: 0.2719 - acc: 0.9615 - val_loss: 0.2679 - val_acc: 0.9644\n",
      "Epoch 17/30\n",
      "12886/12886 [==============================] - 0s 14us/step - loss: 0.2547 - acc: 0.9635 - val_loss: 0.2518 - val_acc: 0.9658\n",
      "Epoch 18/30\n",
      "12886/12886 [==============================] - 0s 13us/step - loss: 0.2396 - acc: 0.9647 - val_loss: 0.2378 - val_acc: 0.9665\n",
      "Epoch 19/30\n",
      "12886/12886 [==============================] - 0s 14us/step - loss: 0.2264 - acc: 0.9652 - val_loss: 0.2257 - val_acc: 0.9665\n",
      "Epoch 20/30\n",
      "12886/12886 [==============================] - 0s 14us/step - loss: 0.2149 - acc: 0.9653 - val_loss: 0.2150 - val_acc: 0.9665\n",
      "Epoch 21/30\n",
      "12886/12886 [==============================] - 0s 13us/step - loss: 0.2050 - acc: 0.9655 - val_loss: 0.2055 - val_acc: 0.9658\n",
      "Epoch 22/30\n",
      "12886/12886 [==============================] - 0s 14us/step - loss: 0.1962 - acc: 0.9659 - val_loss: 0.1972 - val_acc: 0.9658\n",
      "Epoch 23/30\n",
      "12886/12886 [==============================] - 0s 14us/step - loss: 0.1886 - acc: 0.9662 - val_loss: 0.1899 - val_acc: 0.9658\n",
      "Epoch 24/30\n",
      "12886/12886 [==============================] - 0s 14us/step - loss: 0.1818 - acc: 0.9662 - val_loss: 0.1835 - val_acc: 0.9665\n",
      "Epoch 25/30\n",
      "12886/12886 [==============================] - 0s 14us/step - loss: 0.1758 - acc: 0.9667 - val_loss: 0.1777 - val_acc: 0.9665\n",
      "Epoch 26/30\n",
      "12886/12886 [==============================] - 0s 13us/step - loss: 0.1705 - acc: 0.9673 - val_loss: 0.1726 - val_acc: 0.9672\n",
      "Epoch 27/30\n",
      "12886/12886 [==============================] - 0s 14us/step - loss: 0.1656 - acc: 0.9676 - val_loss: 0.1680 - val_acc: 0.9679\n",
      "Epoch 28/30\n",
      "12886/12886 [==============================] - 0s 13us/step - loss: 0.1613 - acc: 0.9682 - val_loss: 0.1638 - val_acc: 0.9686\n",
      "Epoch 29/30\n",
      "12886/12886 [==============================] - 0s 13us/step - loss: 0.1573 - acc: 0.9683 - val_loss: 0.1600 - val_acc: 0.9693\n",
      "Epoch 30/30\n",
      "12886/12886 [==============================] - 0s 14us/step - loss: 0.1536 - acc: 0.9685 - val_loss: 0.1566 - val_acc: 0.9693\n"
     ]
    }
   ],
   "source": [
    "train_history =model.fit(x=train_Features, \n",
    "                         y=train_Label, \n",
    "                         validation_split=0.1, \n",
    "                         epochs=30, \n",
    "                         batch_size=1500,verbose=1,callbacks=[early_stopping])"
   ]
  },
  {
   "cell_type": "code",
   "execution_count": 111,
   "metadata": {
    "collapsed": true
   },
   "outputs": [],
   "source": [
    "import matplotlib.pyplot as plt\n",
    "def show_train_history(train_history,train,validation):\n",
    "    plt.plot(train_history.history[train])\n",
    "    plt.plot(train_history.history[validation])\n",
    "    plt.title('Train History')\n",
    "    plt.ylabel(train)\n",
    "    plt.xlabel('Epoch')\n",
    "    plt.legend(['train', 'validation'], loc='upper left')\n",
    "    plt.show()"
   ]
  },
  {
   "cell_type": "code",
   "execution_count": 112,
   "metadata": {
    "collapsed": false
   },
   "outputs": [
    {
     "data": {
      "image/png": "[encoded data removed]",
      "text/plain": [
       "<matplotlib.figure.Figure at 0x7f7f61258d30>"
      ]
     },
     "metadata": {},
     "output_type": "display_data"
    }
   ],
   "source": [
    "show_train_history(train_history,'acc','val_acc')"
   ]
  },
  {
   "cell_type": "code",
   "execution_count": 113,
   "metadata": {
    "collapsed": false
   },
   "outputs": [
    {
     "data": {
      "image/png": "[encoded data removed]",
      "text/plain": [
       "<matplotlib.figure.Figure at 0x7f7f61258cc0>"
      ]
     },
     "metadata": {},
     "output_type": "display_data"
    }
   ],
   "source": [
    "show_train_history(train_history,'loss','val_loss')"
   ]
  },
  {
   "cell_type": "code",
   "execution_count": 114,
   "metadata": {
    "collapsed": false
   },
   "outputs": [
    {
     "name": "stdout",
     "output_type": "stream",
     "text": [
      "3580/3580 [==============================] - 0s 83us/step\n"
     ]
    }
   ],
   "source": [
    "scores = model.evaluate(x=test_Features, \n",
    "                        y=test_Label)"
   ]
  },
  {
   "cell_type": "code",
   "execution_count": 115,
   "metadata": {
    "collapsed": false
   },
   "outputs": [
    {
     "data": {
      "text/plain": [
       "0.971508379688476"
      ]
     },
     "execution_count": 115,
     "metadata": {},
     "output_type": "execute_result"
    }
   ],
   "source": [
    "scores[1]"
   ]
  }
 ],
 "metadata": {
  "anaconda-cloud": {},
  "kernelspec": {
   "display_name": "Python [default]",
   "language": "python",
   "name": "python3"
  },
  "language_info": {
   "codemirror_mode": {
    "name": "ipython",
    "version": 3
   },
   "file_extension": ".py",
   "mimetype": "text/x-python",
   "name": "python",
   "nbconvert_exporter": "python",
   "pygments_lexer": "ipython3",
   "version": "3.5.2"
  }
 },
 "nbformat": 4,
 "nbformat_minor": 1
}
