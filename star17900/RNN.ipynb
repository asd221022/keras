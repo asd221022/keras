{
 "cells": [
  {
   "cell_type": "code",
   "execution_count": 8,
   "metadata": {
    "collapsed": false
   },
   "outputs": [],
   "source": [
    "import numpy \n",
    "import pandas as pd\n",
    "from sklearn.preprocessing import StandardScaler\n",
    "from sklearn.model_selection import train_test_split\n",
    "numpy.random.seed(10)"
   ]
  },
  {
   "cell_type": "code",
   "execution_count": 9,
   "metadata": {
    "collapsed": false
   },
   "outputs": [],
   "source": [
    "all_df = pd.read_csv(\"data/star.csv\")"
   ]
  },
  {
   "cell_type": "code",
   "execution_count": 10,
   "metadata": {
    "collapsed": true
   },
   "outputs": [],
   "source": [
    "X=all_df.drop(['target_class'], axis=1).values.astype('float64')"
   ]
  },
  {
   "cell_type": "code",
   "execution_count": 11,
   "metadata": {
    "collapsed": true
   },
   "outputs": [],
   "source": [
    "Y = all_df['target_class'].values.astype('int64')"
   ]
  },
  {
   "cell_type": "code",
   "execution_count": 12,
   "metadata": {
    "collapsed": false
   },
   "outputs": [
    {
     "data": {
      "text/plain": [
       "14318"
      ]
     },
     "execution_count": 12,
     "metadata": {},
     "output_type": "execute_result"
    }
   ],
   "source": [
    "X = StandardScaler().fit_transform(X)\n",
    "train_Features, test_Features, train_Label, test_Label = train_test_split(X, Y, test_size=0.2, random_state=True) \n",
    "len(train_Features)"
   ]
  },
  {
   "cell_type": "code",
   "execution_count": 13,
   "metadata": {
    "collapsed": false
   },
   "outputs": [
    {
     "data": {
      "text/plain": [
       "array([[-0.17610439, -0.03233402, -0.03304459, -0.30800098,  2.72763109,\n",
       "         3.42581353, -1.8008325 , -1.00060536],\n",
       "       [-1.89957861, -1.28100252,  2.39730283,  1.79667065,  0.98835635,\n",
       "         2.27972835, -1.4693661 , -0.96845994]])"
      ]
     },
     "execution_count": 13,
     "metadata": {},
     "output_type": "execute_result"
    }
   ],
   "source": [
    "test_Features[:2]"
   ]
  },
  {
   "cell_type": "code",
   "execution_count": 14,
   "metadata": {
    "collapsed": false
   },
   "outputs": [
    {
     "data": {
      "text/plain": [
       "array([0, 0, 0, 0])"
      ]
     },
     "execution_count": 14,
     "metadata": {},
     "output_type": "execute_result"
    }
   ],
   "source": [
    "train_Label[:4]"
   ]
  },
  {
   "cell_type": "code",
   "execution_count": 15,
   "metadata": {
    "collapsed": false
   },
   "outputs": [
    {
     "data": {
      "text/plain": [
       "(14318, 8)"
      ]
     },
     "execution_count": 15,
     "metadata": {},
     "output_type": "execute_result"
    }
   ],
   "source": [
    "train_Features.shape"
   ]
  },
  {
   "cell_type": "code",
   "execution_count": 16,
   "metadata": {
    "collapsed": false
   },
   "outputs": [
    {
     "data": {
      "text/plain": [
       "array([0, 1, 0, 0])"
      ]
     },
     "execution_count": 16,
     "metadata": {},
     "output_type": "execute_result"
    }
   ],
   "source": [
    "test_Label[:4]"
   ]
  },
  {
   "cell_type": "code",
   "execution_count": 17,
   "metadata": {
    "collapsed": true
   },
   "outputs": [],
   "source": [
    "train_Features = train_Features.reshape((train_Features.shape[0], train_Features.shape[1], 1))"
   ]
  },
  {
   "cell_type": "code",
   "execution_count": 18,
   "metadata": {
    "collapsed": true
   },
   "outputs": [],
   "source": [
    "test_Features = test_Features.reshape((test_Features.shape[0], test_Features.shape[1], 1))"
   ]
  },
  {
   "cell_type": "code",
   "execution_count": 19,
   "metadata": {
    "collapsed": false
   },
   "outputs": [
    {
     "name": "stderr",
     "output_type": "stream",
     "text": [
      "Using TensorFlow backend.\n"
     ]
    }
   ],
   "source": [
    "from keras.utils import np_utils\n",
    "train_Label = train_Label.reshape(train_Label.shape[0], 1)\n",
    "test_Label= test_Label.reshape(test_Label.shape[0], 1)\n",
    "train_Label=np_utils.to_categorical(train_Label)\n",
    "test_Label=np_utils.to_categorical(test_Label)"
   ]
  },
  {
   "cell_type": "code",
   "execution_count": 20,
   "metadata": {
    "collapsed": false
   },
   "outputs": [],
   "source": [
    "from keras.models import Sequential\n",
    "from keras.layers.core import Dense, Dropout, Activation\n",
    "from keras.layers.embeddings import Embedding\n",
    "from keras.layers.recurrent import SimpleRNN\n",
    "from keras.callbacks import EarlyStopping\n",
    "early_stopping = EarlyStopping(monitor='val_loss', patience=2)"
   ]
  },
  {
   "cell_type": "code",
   "execution_count": 21,
   "metadata": {
    "collapsed": true
   },
   "outputs": [],
   "source": [
    "model = Sequential()"
   ]
  },
  {
   "cell_type": "code",
   "execution_count": 22,
   "metadata": {
    "collapsed": false
   },
   "outputs": [],
   "source": [
    "model.add(SimpleRNN(units=16, input_shape=(8,1)))"
   ]
  },
  {
   "cell_type": "code",
   "execution_count": 23,
   "metadata": {
    "collapsed": true
   },
   "outputs": [],
   "source": [
    "model.add(Dense(2, activation = \"sigmoid\"))"
   ]
  },
  {
   "cell_type": "code",
   "execution_count": 24,
   "metadata": {
    "collapsed": false
   },
   "outputs": [
    {
     "name": "stdout",
     "output_type": "stream",
     "text": [
      "_________________________________________________________________\n",
      "Layer (type)                 Output Shape              Param #   \n",
      "=================================================================\n",
      "simple_rnn_1 (SimpleRNN)     (None, 16)                288       \n",
      "_________________________________________________________________\n",
      "dense_1 (Dense)              (None, 2)                 34        \n",
      "=================================================================\n",
      "Total params: 322\n",
      "Trainable params: 322\n",
      "Non-trainable params: 0\n",
      "_________________________________________________________________\n"
     ]
    }
   ],
   "source": [
    "model.summary()"
   ]
  },
  {
   "cell_type": "code",
   "execution_count": 25,
   "metadata": {
    "collapsed": false
   },
   "outputs": [],
   "source": [
    "model.compile(loss='binary_crossentropy', \n",
    "              optimizer='adam', metrics=['accuracy'])"
   ]
  },
  {
   "cell_type": "code",
   "execution_count": 26,
   "metadata": {
    "collapsed": false
   },
   "outputs": [
    {
     "name": "stdout",
     "output_type": "stream",
     "text": [
      "Train on 11454 samples, validate on 2864 samples\n",
      "Epoch 1/60\n",
      "11454/11454 [==============================] - 2s 151us/step - loss: 0.6194 - acc: 0.6577 - val_loss: 0.5872 - val_acc: 0.7044\n",
      "Epoch 2/60\n",
      "11454/11454 [==============================] - 0s 18us/step - loss: 0.5701 - acc: 0.7204 - val_loss: 0.5387 - val_acc: 0.7593\n",
      "Epoch 3/60\n",
      "11454/11454 [==============================] - 0s 21us/step - loss: 0.5181 - acc: 0.7821 - val_loss: 0.4828 - val_acc: 0.8235\n",
      "Epoch 4/60\n",
      "11454/11454 [==============================] - 0s 22us/step - loss: 0.4552 - acc: 0.8514 - val_loss: 0.4125 - val_acc: 0.8870\n",
      "Epoch 5/60\n",
      "11454/11454 [==============================] - 0s 21us/step - loss: 0.3772 - acc: 0.9133 - val_loss: 0.3311 - val_acc: 0.9230\n",
      "Epoch 6/60\n",
      "11454/11454 [==============================] - 0s 25us/step - loss: 0.2955 - acc: 0.9403 - val_loss: 0.2589 - val_acc: 0.9464\n",
      "Epoch 7/60\n",
      "11454/11454 [==============================] - 0s 26us/step - loss: 0.2328 - acc: 0.9546 - val_loss: 0.2170 - val_acc: 0.9551\n",
      "Epoch 8/60\n",
      "11454/11454 [==============================] - 0s 22us/step - loss: 0.2007 - acc: 0.9574 - val_loss: 0.1992 - val_acc: 0.9516\n",
      "Epoch 9/60\n",
      "11454/11454 [==============================] - 0s 19us/step - loss: 0.1858 - acc: 0.9557 - val_loss: 0.1872 - val_acc: 0.9518\n",
      "Epoch 10/60\n",
      "11454/11454 [==============================] - 0s 22us/step - loss: 0.1734 - acc: 0.9571 - val_loss: 0.1751 - val_acc: 0.9574\n",
      "Epoch 11/60\n",
      "11454/11454 [==============================] - 0s 20us/step - loss: 0.1622 - acc: 0.9610 - val_loss: 0.1646 - val_acc: 0.9612\n",
      "Epoch 12/60\n",
      "11454/11454 [==============================] - 0s 20us/step - loss: 0.1528 - acc: 0.9645 - val_loss: 0.1560 - val_acc: 0.9646\n",
      "Epoch 13/60\n",
      "11454/11454 [==============================] - 0s 23us/step - loss: 0.1446 - acc: 0.9680 - val_loss: 0.1488 - val_acc: 0.9679\n",
      "Epoch 14/60\n",
      "11454/11454 [==============================] - 0s 24us/step - loss: 0.1375 - acc: 0.9700 - val_loss: 0.1424 - val_acc: 0.9684\n",
      "Epoch 15/60\n",
      "11454/11454 [==============================] - 0s 27us/step - loss: 0.1312 - acc: 0.9711 - val_loss: 0.1369 - val_acc: 0.9689\n",
      "Epoch 16/60\n",
      "11454/11454 [==============================] - 0s 19us/step - loss: 0.1256 - acc: 0.9718 - val_loss: 0.1321 - val_acc: 0.9698\n",
      "Epoch 17/60\n",
      "11454/11454 [==============================] - 0s 24us/step - loss: 0.1208 - acc: 0.9723 - val_loss: 0.1279 - val_acc: 0.9698\n",
      "Epoch 18/60\n",
      "11454/11454 [==============================] - 0s 26us/step - loss: 0.1167 - acc: 0.9728 - val_loss: 0.1241 - val_acc: 0.9703\n",
      "Epoch 19/60\n",
      "11454/11454 [==============================] - 0s 18us/step - loss: 0.1129 - acc: 0.9732 - val_loss: 0.1209 - val_acc: 0.9708\n",
      "Epoch 20/60\n",
      "11454/11454 [==============================] - 0s 24us/step - loss: 0.1097 - acc: 0.9735 - val_loss: 0.1181 - val_acc: 0.9715\n",
      "Epoch 21/60\n",
      "11454/11454 [==============================] - 0s 21us/step - loss: 0.1068 - acc: 0.9742 - val_loss: 0.1157 - val_acc: 0.9715\n",
      "Epoch 22/60\n",
      "11454/11454 [==============================] - 0s 20us/step - loss: 0.1043 - acc: 0.9745 - val_loss: 0.1135 - val_acc: 0.9719\n",
      "Epoch 23/60\n",
      "11454/11454 [==============================] - 0s 15us/step - loss: 0.1021 - acc: 0.9752 - val_loss: 0.1115 - val_acc: 0.9714\n",
      "Epoch 24/60\n",
      "11454/11454 [==============================] - 0s 20us/step - loss: 0.1000 - acc: 0.9755 - val_loss: 0.1098 - val_acc: 0.9714\n",
      "Epoch 25/60\n",
      "11454/11454 [==============================] - 0s 23us/step - loss: 0.0982 - acc: 0.9758 - val_loss: 0.1082 - val_acc: 0.9715\n",
      "Epoch 26/60\n",
      "11454/11454 [==============================] - 0s 25us/step - loss: 0.0965 - acc: 0.9761 - val_loss: 0.1068 - val_acc: 0.9717\n",
      "Epoch 27/60\n",
      "11454/11454 [==============================] - 0s 15us/step - loss: 0.0950 - acc: 0.9763 - val_loss: 0.1055 - val_acc: 0.9722\n",
      "Epoch 28/60\n",
      "11454/11454 [==============================] - 0s 20us/step - loss: 0.0936 - acc: 0.9764 - val_loss: 0.1043 - val_acc: 0.9722\n",
      "Epoch 29/60\n",
      "11454/11454 [==============================] - 0s 17us/step - loss: 0.0923 - acc: 0.9766 - val_loss: 0.1032 - val_acc: 0.9721\n",
      "Epoch 30/60\n",
      "11454/11454 [==============================] - 0s 21us/step - loss: 0.0911 - acc: 0.9770 - val_loss: 0.1021 - val_acc: 0.9726\n",
      "Epoch 31/60\n",
      "11454/11454 [==============================] - 0s 21us/step - loss: 0.0900 - acc: 0.9773 - val_loss: 0.1011 - val_acc: 0.9728\n",
      "Epoch 32/60\n",
      "11454/11454 [==============================] - 0s 22us/step - loss: 0.0889 - acc: 0.9774 - val_loss: 0.1002 - val_acc: 0.9728\n",
      "Epoch 33/60\n",
      "11454/11454 [==============================] - 0s 24us/step - loss: 0.0879 - acc: 0.9776 - val_loss: 0.0993 - val_acc: 0.9733\n",
      "Epoch 34/60\n",
      "11454/11454 [==============================] - 0s 23us/step - loss: 0.0870 - acc: 0.9776 - val_loss: 0.0985 - val_acc: 0.9735\n",
      "Epoch 35/60\n",
      "11454/11454 [==============================] - 0s 23us/step - loss: 0.0861 - acc: 0.9778 - val_loss: 0.0976 - val_acc: 0.9736\n",
      "Epoch 36/60\n",
      "11454/11454 [==============================] - 0s 23us/step - loss: 0.0852 - acc: 0.9780 - val_loss: 0.0969 - val_acc: 0.9735\n",
      "Epoch 37/60\n",
      "11454/11454 [==============================] - 0s 21us/step - loss: 0.0845 - acc: 0.9780 - val_loss: 0.0962 - val_acc: 0.9735\n",
      "Epoch 38/60\n",
      "11454/11454 [==============================] - 0s 21us/step - loss: 0.0837 - acc: 0.9780 - val_loss: 0.0955 - val_acc: 0.9735\n",
      "Epoch 39/60\n",
      "11454/11454 [==============================] - 0s 18us/step - loss: 0.0831 - acc: 0.9783 - val_loss: 0.0949 - val_acc: 0.9735\n",
      "Epoch 40/60\n",
      "11454/11454 [==============================] - 0s 22us/step - loss: 0.0823 - acc: 0.9782 - val_loss: 0.0943 - val_acc: 0.9735\n",
      "Epoch 41/60\n",
      "11454/11454 [==============================] - 0s 28us/step - loss: 0.0817 - acc: 0.9783 - val_loss: 0.0936 - val_acc: 0.9736\n",
      "Epoch 42/60\n",
      "11454/11454 [==============================] - 0s 29us/step - loss: 0.0810 - acc: 0.9787 - val_loss: 0.0931 - val_acc: 0.9733\n",
      "Epoch 43/60\n",
      "11454/11454 [==============================] - 0s 32us/step - loss: 0.0804 - acc: 0.9787 - val_loss: 0.0925 - val_acc: 0.9736\n",
      "Epoch 44/60\n",
      "11454/11454 [==============================] - 0s 24us/step - loss: 0.0798 - acc: 0.9785 - val_loss: 0.0920 - val_acc: 0.9736\n",
      "Epoch 45/60\n",
      "11454/11454 [==============================] - 0s 23us/step - loss: 0.0793 - acc: 0.9785 - val_loss: 0.0913 - val_acc: 0.9742\n",
      "Epoch 46/60\n",
      "11454/11454 [==============================] - 0s 24us/step - loss: 0.0788 - acc: 0.9788 - val_loss: 0.0908 - val_acc: 0.9742\n",
      "Epoch 47/60\n",
      "11454/11454 [==============================] - 0s 28us/step - loss: 0.0782 - acc: 0.9788 - val_loss: 0.0904 - val_acc: 0.9743\n",
      "Epoch 48/60\n",
      "11454/11454 [==============================] - 0s 25us/step - loss: 0.0778 - acc: 0.9793 - val_loss: 0.0899 - val_acc: 0.9742\n",
      "Epoch 49/60\n",
      "11454/11454 [==============================] - 0s 16us/step - loss: 0.0772 - acc: 0.9790 - val_loss: 0.0895 - val_acc: 0.9742\n",
      "Epoch 50/60\n",
      "11454/11454 [==============================] - 0s 23us/step - loss: 0.0768 - acc: 0.9793 - val_loss: 0.0890 - val_acc: 0.9743\n",
      "Epoch 51/60\n",
      "11454/11454 [==============================] - 0s 20us/step - loss: 0.0764 - acc: 0.9798 - val_loss: 0.0887 - val_acc: 0.9742\n",
      "Epoch 52/60\n",
      "11454/11454 [==============================] - 0s 22us/step - loss: 0.0759 - acc: 0.9795 - val_loss: 0.0883 - val_acc: 0.9742\n",
      "Epoch 53/60\n",
      "11454/11454 [==============================] - 0s 21us/step - loss: 0.0757 - acc: 0.9802 - val_loss: 0.0879 - val_acc: 0.9743\n",
      "Epoch 54/60\n",
      "11454/11454 [==============================] - 0s 26us/step - loss: 0.0751 - acc: 0.9800 - val_loss: 0.0876 - val_acc: 0.9742\n",
      "Epoch 55/60\n",
      "11454/11454 [==============================] - 0s 23us/step - loss: 0.0748 - acc: 0.9805 - val_loss: 0.0872 - val_acc: 0.9742\n",
      "Epoch 56/60\n",
      "11454/11454 [==============================] - 0s 18us/step - loss: 0.0744 - acc: 0.9801 - val_loss: 0.0870 - val_acc: 0.9742\n",
      "Epoch 57/60\n",
      "11454/11454 [==============================] - 0s 21us/step - loss: 0.0740 - acc: 0.9804 - val_loss: 0.0864 - val_acc: 0.9736\n",
      "Epoch 58/60\n",
      "11454/11454 [==============================] - 0s 25us/step - loss: 0.0737 - acc: 0.9804 - val_loss: 0.0861 - val_acc: 0.9742\n",
      "Epoch 59/60\n",
      "11454/11454 [==============================] - 0s 22us/step - loss: 0.0735 - acc: 0.9803 - val_loss: 0.0860 - val_acc: 0.9742\n",
      "Epoch 60/60\n",
      "11454/11454 [==============================] - 0s 22us/step - loss: 0.0731 - acc: 0.9806 - val_loss: 0.0857 - val_acc: 0.9736\n"
     ]
    }
   ],
   "source": [
    "train_history =model.fit(x=train_Features, \n",
    "                         y=train_Label, \n",
    "                         validation_split=0.2, \n",
    "                         epochs=60, \n",
    "                         batch_size=1500,verbose=1,callbacks=[early_stopping])"
   ]
  },
  {
   "cell_type": "code",
   "execution_count": 27,
   "metadata": {
    "collapsed": true
   },
   "outputs": [],
   "source": [
    "import matplotlib.pyplot as plt\n",
    "def show_train_history(train_history,train,validation):\n",
    "    plt.plot(train_history.history[train])\n",
    "    plt.plot(train_history.history[validation])\n",
    "    plt.title('Train History')\n",
    "    plt.ylabel(train)\n",
    "    plt.xlabel('Epoch')\n",
    "    plt.legend(['train', 'validation'], loc='upper left')\n",
    "    plt.show()"
   ]
  },
  {
   "cell_type": "code",
   "execution_count": 28,
   "metadata": {
    "collapsed": false
   },
   "outputs": [
    {
     "data": {
      "image/png": "[encoded data removed]",
      "text/plain": [
       "<matplotlib.figure.Figure at 0x7f9e820ae780>"
      ]
     },
     "metadata": {},
     "output_type": "display_data"
    }
   ],
   "source": [
    "show_train_history(train_history,'acc','val_acc')"
   ]
  },
  {
   "cell_type": "code",
   "execution_count": 29,
   "metadata": {
    "collapsed": false
   },
   "outputs": [
    {
     "data": {
      "image/png": "[encoded data removed]",
      "text/plain": [
       "<matplotlib.figure.Figure at 0x7f9e758637b8>"
      ]
     },
     "metadata": {},
     "output_type": "display_data"
    }
   ],
   "source": [
    "show_train_history(train_history,'loss','val_loss')"
   ]
  },
  {
   "cell_type": "code",
   "execution_count": 30,
   "metadata": {
    "collapsed": false
   },
   "outputs": [
    {
     "name": "stdout",
     "output_type": "stream",
     "text": [
      "3580/3580 [==============================] - 0s 100us/step\n"
     ]
    }
   ],
   "source": [
    "scores = model.evaluate(x=test_Features, \n",
    "                        y=test_Label)"
   ]
  },
  {
   "cell_type": "code",
   "execution_count": 31,
   "metadata": {
    "collapsed": false
   },
   "outputs": [
    {
     "data": {
      "text/plain": [
       "0.9791899442672729"
      ]
     },
     "execution_count": 31,
     "metadata": {},
     "output_type": "execute_result"
    }
   ],
   "source": [
    "scores[1]"
   ]
  }
 ],
 "metadata": {
  "anaconda-cloud": {},
  "kernelspec": {
   "display_name": "Python [default]",
   "language": "python",
   "name": "python3"
  },
  "language_info": {
   "codemirror_mode": {
    "name": "ipython",
    "version": 3
   },
   "file_extension": ".py",
   "mimetype": "text/x-python",
   "name": "python",
   "nbconvert_exporter": "python",
   "pygments_lexer": "ipython3",
   "version": "3.5.2"
  }
 },
 "nbformat": 4,
 "nbformat_minor": 1
}
