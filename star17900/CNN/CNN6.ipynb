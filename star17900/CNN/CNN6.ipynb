{
 "cells": [
  {
   "cell_type": "code",
   "execution_count": 71,
   "metadata": {
    "collapsed": false
   },
   "outputs": [],
   "source": [
    "import numpy \n",
    "import pandas as pd\n",
    "from sklearn.preprocessing import StandardScaler\n",
    "from sklearn.model_selection import train_test_split\n",
    "numpy.random.seed(10)"
   ]
  },
  {
   "cell_type": "code",
   "execution_count": 72,
   "metadata": {
    "collapsed": false
   },
   "outputs": [],
   "source": [
    "all_df = pd.read_csv(\"data/star.csv\")"
   ]
  },
  {
   "cell_type": "code",
   "execution_count": 73,
   "metadata": {
    "collapsed": false
   },
   "outputs": [
    {
     "data": {
      "text/html": [
       "<div>\n",
       "<table border=\"1\" class=\"dataframe\">\n",
       "  <thead>\n",
       "    <tr style=\"text-align: right;\">\n",
       "      <th></th>\n",
       "      <th>Mean of the integrated profile</th>\n",
       "      <th>Standard deviation of the integrated profile</th>\n",
       "      <th>Excess kurtosis of the integrated profile</th>\n",
       "      <th>Skewness of the integrated profile</th>\n",
       "      <th>Mean of the DM-SNR curve</th>\n",
       "      <th>Standard deviation of the DM-SNR curve</th>\n",
       "      <th>Excess kurtosis of the DM-SNR curve</th>\n",
       "      <th>Skewness of the DM-SNR curve</th>\n",
       "      <th>target_class</th>\n",
       "    </tr>\n",
       "  </thead>\n",
       "  <tbody>\n",
       "    <tr>\n",
       "      <th>0</th>\n",
       "      <td>140.562500</td>\n",
       "      <td>55.683782</td>\n",
       "      <td>-0.234571</td>\n",
       "      <td>-0.699648</td>\n",
       "      <td>3.199833</td>\n",
       "      <td>19.110426</td>\n",
       "      <td>7.975532</td>\n",
       "      <td>74.242225</td>\n",
       "      <td>0</td>\n",
       "    </tr>\n",
       "    <tr>\n",
       "      <th>1</th>\n",
       "      <td>102.507812</td>\n",
       "      <td>58.882430</td>\n",
       "      <td>0.465318</td>\n",
       "      <td>-0.515088</td>\n",
       "      <td>1.677258</td>\n",
       "      <td>14.860146</td>\n",
       "      <td>10.576487</td>\n",
       "      <td>127.393580</td>\n",
       "      <td>0</td>\n",
       "    </tr>\n",
       "    <tr>\n",
       "      <th>2</th>\n",
       "      <td>103.015625</td>\n",
       "      <td>39.341649</td>\n",
       "      <td>0.323328</td>\n",
       "      <td>1.051164</td>\n",
       "      <td>3.121237</td>\n",
       "      <td>21.744669</td>\n",
       "      <td>7.735822</td>\n",
       "      <td>63.171909</td>\n",
       "      <td>0</td>\n",
       "    </tr>\n",
       "    <tr>\n",
       "      <th>3</th>\n",
       "      <td>136.750000</td>\n",
       "      <td>57.178449</td>\n",
       "      <td>-0.068415</td>\n",
       "      <td>-0.636238</td>\n",
       "      <td>3.642977</td>\n",
       "      <td>20.959280</td>\n",
       "      <td>6.896499</td>\n",
       "      <td>53.593661</td>\n",
       "      <td>0</td>\n",
       "    </tr>\n",
       "    <tr>\n",
       "      <th>4</th>\n",
       "      <td>88.726562</td>\n",
       "      <td>40.672225</td>\n",
       "      <td>0.600866</td>\n",
       "      <td>1.123492</td>\n",
       "      <td>1.178930</td>\n",
       "      <td>11.468720</td>\n",
       "      <td>14.269573</td>\n",
       "      <td>252.567306</td>\n",
       "      <td>0</td>\n",
       "    </tr>\n",
       "  </tbody>\n",
       "</table>\n",
       "</div>"
      ],
      "text/plain": [
       "    Mean of the integrated profile  \\\n",
       "0                       140.562500   \n",
       "1                       102.507812   \n",
       "2                       103.015625   \n",
       "3                       136.750000   \n",
       "4                        88.726562   \n",
       "\n",
       "    Standard deviation of the integrated profile  \\\n",
       "0                                      55.683782   \n",
       "1                                      58.882430   \n",
       "2                                      39.341649   \n",
       "3                                      57.178449   \n",
       "4                                      40.672225   \n",
       "\n",
       "    Excess kurtosis of the integrated profile  \\\n",
       "0                                   -0.234571   \n",
       "1                                    0.465318   \n",
       "2                                    0.323328   \n",
       "3                                   -0.068415   \n",
       "4                                    0.600866   \n",
       "\n",
       "    Skewness of the integrated profile   Mean of the DM-SNR curve  \\\n",
       "0                            -0.699648                   3.199833   \n",
       "1                            -0.515088                   1.677258   \n",
       "2                             1.051164                   3.121237   \n",
       "3                            -0.636238                   3.642977   \n",
       "4                             1.123492                   1.178930   \n",
       "\n",
       "    Standard deviation of the DM-SNR curve  \\\n",
       "0                                19.110426   \n",
       "1                                14.860146   \n",
       "2                                21.744669   \n",
       "3                                20.959280   \n",
       "4                                11.468720   \n",
       "\n",
       "    Excess kurtosis of the DM-SNR curve   Skewness of the DM-SNR curve  \\\n",
       "0                              7.975532                      74.242225   \n",
       "1                             10.576487                     127.393580   \n",
       "2                              7.735822                      63.171909   \n",
       "3                              6.896499                      53.593661   \n",
       "4                             14.269573                     252.567306   \n",
       "\n",
       "   target_class  \n",
       "0             0  \n",
       "1             0  \n",
       "2             0  \n",
       "3             0  \n",
       "4             0  "
      ]
     },
     "execution_count": 73,
     "metadata": {},
     "output_type": "execute_result"
    }
   ],
   "source": [
    "all_df[:5]"
   ]
  },
  {
   "cell_type": "code",
   "execution_count": 74,
   "metadata": {
    "collapsed": true
   },
   "outputs": [],
   "source": [
    "X=all_df.drop(['target_class'], axis=1).values.astype('float64')"
   ]
  },
  {
   "cell_type": "code",
   "execution_count": 75,
   "metadata": {
    "collapsed": true
   },
   "outputs": [],
   "source": [
    "Y = all_df['target_class'].values.astype('int64')"
   ]
  },
  {
   "cell_type": "code",
   "execution_count": 76,
   "metadata": {
    "collapsed": false
   },
   "outputs": [
    {
     "data": {
      "text/plain": [
       "14318"
      ]
     },
     "execution_count": 76,
     "metadata": {},
     "output_type": "execute_result"
    }
   ],
   "source": [
    "X = StandardScaler().fit_transform(X)\n",
    "train_Features, test_Features, train_Label, test_Label = train_test_split(X, Y, test_size=0.2, random_state=True) \n",
    "len(train_Features)"
   ]
  },
  {
   "cell_type": "code",
   "execution_count": 77,
   "metadata": {
    "collapsed": false
   },
   "outputs": [
    {
     "data": {
      "text/plain": [
       "(17898, 8)"
      ]
     },
     "execution_count": 77,
     "metadata": {},
     "output_type": "execute_result"
    }
   ],
   "source": [
    "X.shape"
   ]
  },
  {
   "cell_type": "code",
   "execution_count": 78,
   "metadata": {
    "collapsed": true
   },
   "outputs": [],
   "source": [
    "train_Features = train_Features.reshape((train_Features.shape[0], train_Features.shape[1], 1))"
   ]
  },
  {
   "cell_type": "code",
   "execution_count": 79,
   "metadata": {
    "collapsed": true
   },
   "outputs": [],
   "source": [
    "test_Features = test_Features.reshape((test_Features.shape[0], test_Features.shape[1], 1))"
   ]
  },
  {
   "cell_type": "code",
   "execution_count": 80,
   "metadata": {
    "collapsed": false
   },
   "outputs": [],
   "source": [
    "from keras.utils import np_utils\n",
    "train_Label = train_Label.reshape(train_Label.shape[0], 1)\n",
    "test_Label= test_Label.reshape(test_Label.shape[0], 1)\n",
    "train_Label=np_utils.to_categorical(train_Label)\n",
    "test_Label=np_utils.to_categorical(test_Label)"
   ]
  },
  {
   "cell_type": "code",
   "execution_count": 81,
   "metadata": {
    "collapsed": false
   },
   "outputs": [],
   "source": [
    "from keras.models import Sequential\n",
    "from keras.layers import Dense,Dropout,Flatten,Conv1D,MaxPooling1D\n",
    "from keras.layers.embeddings import Embedding\n",
    "from keras.callbacks import EarlyStopping\n",
    "early_stopping = EarlyStopping(monitor='val_loss', patience=2)"
   ]
  },
  {
   "cell_type": "code",
   "execution_count": 82,
   "metadata": {
    "collapsed": true
   },
   "outputs": [],
   "source": [
    "model = Sequential()"
   ]
  },
  {
   "cell_type": "code",
   "execution_count": 83,
   "metadata": {
    "collapsed": true
   },
   "outputs": [],
   "source": [
    "model.add(Conv1D(filters=24*6,\n",
    "                 kernel_size=1,\n",
    "                 input_shape=(8,1),\n",
    "                 padding='valid',\n",
    "                 activation='relu'))"
   ]
  },
  {
   "cell_type": "code",
   "execution_count": 84,
   "metadata": {
    "collapsed": true
   },
   "outputs": [],
   "source": [
    "model.add(MaxPooling1D(pool_size=1))"
   ]
  },
  {
   "cell_type": "code",
   "execution_count": 85,
   "metadata": {
    "collapsed": true
   },
   "outputs": [],
   "source": [
    "model.add(Conv1D(filters=24*5,\n",
    "                 kernel_size=1,\n",
    "                 padding='valid',\n",
    "                 activation='relu'))"
   ]
  },
  {
   "cell_type": "code",
   "execution_count": 86,
   "metadata": {
    "collapsed": true
   },
   "outputs": [],
   "source": [
    "model.add(MaxPooling1D(pool_size=1))"
   ]
  },
  {
   "cell_type": "code",
   "execution_count": 87,
   "metadata": {
    "collapsed": false
   },
   "outputs": [],
   "source": [
    "model.add(Conv1D(filters=24*4,\n",
    "                 kernel_size=1,\n",
    "                 padding='valid',\n",
    "                 activation='relu'))"
   ]
  },
  {
   "cell_type": "code",
   "execution_count": 88,
   "metadata": {
    "collapsed": true
   },
   "outputs": [],
   "source": [
    "model.add(MaxPooling1D(pool_size=1))"
   ]
  },
  {
   "cell_type": "code",
   "execution_count": 89,
   "metadata": {
    "collapsed": true
   },
   "outputs": [],
   "source": [
    "model.add(Conv1D(filters=24*3,\n",
    "                 kernel_size=1,\n",
    "                 padding='valid',\n",
    "                 activation='relu'))"
   ]
  },
  {
   "cell_type": "code",
   "execution_count": 90,
   "metadata": {
    "collapsed": true
   },
   "outputs": [],
   "source": [
    "model.add(MaxPooling1D(pool_size=1))"
   ]
  },
  {
   "cell_type": "code",
   "execution_count": 91,
   "metadata": {
    "collapsed": true
   },
   "outputs": [],
   "source": [
    "model.add(Conv1D(filters=24*2,\n",
    "                 kernel_size=1,\n",
    "                 padding='valid',\n",
    "                 activation='relu'))"
   ]
  },
  {
   "cell_type": "code",
   "execution_count": 92,
   "metadata": {
    "collapsed": true
   },
   "outputs": [],
   "source": [
    "model.add(MaxPooling1D(pool_size=1))"
   ]
  },
  {
   "cell_type": "code",
   "execution_count": 93,
   "metadata": {
    "collapsed": true
   },
   "outputs": [],
   "source": [
    "model.add(Conv1D(filters=24,\n",
    "                 kernel_size=1,\n",
    "                 padding='valid',\n",
    "                 activation='relu'))"
   ]
  },
  {
   "cell_type": "code",
   "execution_count": 94,
   "metadata": {
    "collapsed": true
   },
   "outputs": [],
   "source": [
    "model.add(MaxPooling1D(pool_size=1))"
   ]
  },
  {
   "cell_type": "code",
   "execution_count": 95,
   "metadata": {
    "collapsed": true
   },
   "outputs": [],
   "source": [
    "model.add(Flatten())"
   ]
  },
  {
   "cell_type": "code",
   "execution_count": 96,
   "metadata": {
    "collapsed": true
   },
   "outputs": [],
   "source": [
    "model.add(Dense(8, activation='tanh'))"
   ]
  },
  {
   "cell_type": "code",
   "execution_count": 97,
   "metadata": {
    "collapsed": true
   },
   "outputs": [],
   "source": [
    "model.add(Dense(2,activation='sigmoid'))"
   ]
  },
  {
   "cell_type": "code",
   "execution_count": 98,
   "metadata": {
    "collapsed": false
   },
   "outputs": [
    {
     "name": "stdout",
     "output_type": "stream",
     "text": [
      "_________________________________________________________________\n",
      "Layer (type)                 Output Shape              Param #   \n",
      "=================================================================\n",
      "conv1d_13 (Conv1D)           (None, 8, 144)            288       \n",
      "_________________________________________________________________\n",
      "max_pooling1d_13 (MaxPooling (None, 8, 144)            0         \n",
      "_________________________________________________________________\n",
      "conv1d_14 (Conv1D)           (None, 8, 120)            17400     \n",
      "_________________________________________________________________\n",
      "max_pooling1d_14 (MaxPooling (None, 8, 120)            0         \n",
      "_________________________________________________________________\n",
      "conv1d_15 (Conv1D)           (None, 8, 96)             11616     \n",
      "_________________________________________________________________\n",
      "max_pooling1d_15 (MaxPooling (None, 8, 96)             0         \n",
      "_________________________________________________________________\n",
      "conv1d_16 (Conv1D)           (None, 8, 72)             6984      \n",
      "_________________________________________________________________\n",
      "max_pooling1d_16 (MaxPooling (None, 8, 72)             0         \n",
      "_________________________________________________________________\n",
      "conv1d_17 (Conv1D)           (None, 8, 48)             3504      \n",
      "_________________________________________________________________\n",
      "max_pooling1d_17 (MaxPooling (None, 8, 48)             0         \n",
      "_________________________________________________________________\n",
      "conv1d_18 (Conv1D)           (None, 8, 24)             1176      \n",
      "_________________________________________________________________\n",
      "max_pooling1d_18 (MaxPooling (None, 8, 24)             0         \n",
      "_________________________________________________________________\n",
      "flatten_3 (Flatten)          (None, 192)               0         \n",
      "_________________________________________________________________\n",
      "dense_5 (Dense)              (None, 8)                 1544      \n",
      "_________________________________________________________________\n",
      "dense_6 (Dense)              (None, 2)                 18        \n",
      "=================================================================\n",
      "Total params: 42,530\n",
      "Trainable params: 42,530\n",
      "Non-trainable params: 0\n",
      "_________________________________________________________________\n"
     ]
    }
   ],
   "source": [
    "model.summary()"
   ]
  },
  {
   "cell_type": "code",
   "execution_count": 99,
   "metadata": {
    "collapsed": false
   },
   "outputs": [],
   "source": [
    "model.compile(loss='binary_crossentropy', \n",
    "              optimizer='adam', metrics=['accuracy'])"
   ]
  },
  {
   "cell_type": "code",
   "execution_count": 100,
   "metadata": {
    "collapsed": false
   },
   "outputs": [
    {
     "name": "stdout",
     "output_type": "stream",
     "text": [
      "Train on 11454 samples, validate on 2864 samples\n",
      "Epoch 1/60\n",
      "11454/11454 [==============================] - 9s 761us/step - loss: 0.6658 - acc: 0.8129 - val_loss: 0.6165 - val_acc: 0.8837\n",
      "Epoch 2/60\n",
      "11454/11454 [==============================] - 6s 486us/step - loss: 0.5504 - acc: 0.9029 - val_loss: 0.4496 - val_acc: 0.9010\n",
      "Epoch 3/60\n",
      "11454/11454 [==============================] - 6s 501us/step - loss: 0.3681 - acc: 0.9105 - val_loss: 0.3067 - val_acc: 0.9078\n",
      "Epoch 4/60\n",
      "11454/11454 [==============================] - 6s 492us/step - loss: 0.2653 - acc: 0.9276 - val_loss: 0.2490 - val_acc: 0.9335\n",
      "Epoch 5/60\n",
      "11454/11454 [==============================] - 5s 475us/step - loss: 0.2284 - acc: 0.9425 - val_loss: 0.2320 - val_acc: 0.9359\n",
      "Epoch 6/60\n",
      "11454/11454 [==============================] - 6s 482us/step - loss: 0.2156 - acc: 0.9426 - val_loss: 0.2237 - val_acc: 0.9363\n",
      "Epoch 7/60\n",
      "11454/11454 [==============================] - 5s 474us/step - loss: 0.2073 - acc: 0.9436 - val_loss: 0.2164 - val_acc: 0.9370\n",
      "Epoch 8/60\n",
      "11454/11454 [==============================] - 6s 483us/step - loss: 0.2002 - acc: 0.9432 - val_loss: 0.2112 - val_acc: 0.9352\n",
      "Epoch 9/60\n",
      "11454/11454 [==============================] - 5s 479us/step - loss: 0.1950 - acc: 0.9407 - val_loss: 0.2069 - val_acc: 0.9326\n",
      "Epoch 10/60\n",
      "11454/11454 [==============================] - 6s 482us/step - loss: 0.1906 - acc: 0.9407 - val_loss: 0.2033 - val_acc: 0.9358\n",
      "Epoch 11/60\n",
      "11454/11454 [==============================] - 6s 484us/step - loss: 0.1871 - acc: 0.9429 - val_loss: 0.2003 - val_acc: 0.9354\n",
      "Epoch 12/60\n",
      "11454/11454 [==============================] - 6s 485us/step - loss: 0.1840 - acc: 0.9431 - val_loss: 0.1976 - val_acc: 0.9366\n",
      "Epoch 13/60\n",
      "11454/11454 [==============================] - 6s 530us/step - loss: 0.1813 - acc: 0.9438 - val_loss: 0.1952 - val_acc: 0.9373\n",
      "Epoch 14/60\n",
      "11454/11454 [==============================] - 6s 483us/step - loss: 0.1790 - acc: 0.9436 - val_loss: 0.1930 - val_acc: 0.9377\n",
      "Epoch 15/60\n",
      "11454/11454 [==============================] - 5s 473us/step - loss: 0.1767 - acc: 0.9439 - val_loss: 0.1903 - val_acc: 0.9377\n",
      "Epoch 16/60\n",
      "11454/11454 [==============================] - 6s 526us/step - loss: 0.1744 - acc: 0.9439 - val_loss: 0.1888 - val_acc: 0.9373\n",
      "Epoch 17/60\n",
      "11454/11454 [==============================] - 6s 482us/step - loss: 0.1723 - acc: 0.9442 - val_loss: 0.1866 - val_acc: 0.9377\n",
      "Epoch 18/60\n",
      "11454/11454 [==============================] - 6s 491us/step - loss: 0.1704 - acc: 0.9443 - val_loss: 0.1845 - val_acc: 0.9380\n",
      "Epoch 19/60\n",
      "11454/11454 [==============================] - 6s 481us/step - loss: 0.1684 - acc: 0.9447 - val_loss: 0.1825 - val_acc: 0.9382\n",
      "Epoch 20/60\n",
      "11454/11454 [==============================] - 5s 472us/step - loss: 0.1666 - acc: 0.9447 - val_loss: 0.1807 - val_acc: 0.9380\n",
      "Epoch 21/60\n",
      "11454/11454 [==============================] - 6s 483us/step - loss: 0.1647 - acc: 0.9450 - val_loss: 0.1789 - val_acc: 0.9382\n",
      "Epoch 22/60\n",
      "11454/11454 [==============================] - 6s 489us/step - loss: 0.1629 - acc: 0.9450 - val_loss: 0.1772 - val_acc: 0.9384\n",
      "Epoch 23/60\n",
      "11454/11454 [==============================] - 5s 474us/step - loss: 0.1612 - acc: 0.9451 - val_loss: 0.1749 - val_acc: 0.9385\n",
      "Epoch 24/60\n",
      "11454/11454 [==============================] - 6s 512us/step - loss: 0.1596 - acc: 0.9452 - val_loss: 0.1735 - val_acc: 0.9382\n",
      "Epoch 25/60\n",
      "11454/11454 [==============================] - 9s 785us/step - loss: 0.1580 - acc: 0.9453 - val_loss: 0.1715 - val_acc: 0.9380\n",
      "Epoch 26/60\n",
      "11454/11454 [==============================] - 5s 473us/step - loss: 0.1564 - acc: 0.9455 - val_loss: 0.1700 - val_acc: 0.9387\n",
      "Epoch 27/60\n",
      "11454/11454 [==============================] - 5s 474us/step - loss: 0.1546 - acc: 0.9456 - val_loss: 0.1695 - val_acc: 0.9380\n",
      "Epoch 28/60\n",
      "11454/11454 [==============================] - 6s 481us/step - loss: 0.1534 - acc: 0.9456 - val_loss: 0.1684 - val_acc: 0.9378\n",
      "Epoch 29/60\n",
      "11454/11454 [==============================] - 6s 489us/step - loss: 0.1521 - acc: 0.9455 - val_loss: 0.1660 - val_acc: 0.9389\n",
      "Epoch 30/60\n",
      "11454/11454 [==============================] - 5s 449us/step - loss: 0.1505 - acc: 0.9452 - val_loss: 0.1632 - val_acc: 0.9382\n",
      "Epoch 31/60\n",
      "11454/11454 [==============================] - 6s 509us/step - loss: 0.1486 - acc: 0.9453 - val_loss: 0.1615 - val_acc: 0.9385\n",
      "Epoch 32/60\n",
      "11454/11454 [==============================] - 6s 490us/step - loss: 0.1472 - acc: 0.9457 - val_loss: 0.1603 - val_acc: 0.9380\n",
      "Epoch 33/60\n",
      "11454/11454 [==============================] - 7s 632us/step - loss: 0.1454 - acc: 0.9459 - val_loss: 0.1594 - val_acc: 0.9384\n",
      "Epoch 34/60\n",
      "11454/11454 [==============================] - 6s 500us/step - loss: 0.1438 - acc: 0.9458 - val_loss: 0.1572 - val_acc: 0.9391\n",
      "Epoch 35/60\n",
      "11454/11454 [==============================] - 6s 498us/step - loss: 0.1423 - acc: 0.9461 - val_loss: 0.1566 - val_acc: 0.9389\n",
      "Epoch 36/60\n",
      "11454/11454 [==============================] - 6s 490us/step - loss: 0.1408 - acc: 0.9459 - val_loss: 0.1542 - val_acc: 0.9389\n",
      "Epoch 37/60\n",
      "11454/11454 [==============================] - 6s 487us/step - loss: 0.1394 - acc: 0.9461 - val_loss: 0.1525 - val_acc: 0.9387\n",
      "Epoch 38/60\n",
      "11454/11454 [==============================] - 6s 486us/step - loss: 0.1379 - acc: 0.9459 - val_loss: 0.1511 - val_acc: 0.9389\n",
      "Epoch 39/60\n",
      "11454/11454 [==============================] - 6s 541us/step - loss: 0.1364 - acc: 0.9460 - val_loss: 0.1535 - val_acc: 0.9385\n",
      "Epoch 40/60\n",
      "11454/11454 [==============================] - 4s 344us/step - loss: 0.1356 - acc: 0.9461 - val_loss: 0.1486 - val_acc: 0.9384\n",
      "Epoch 41/60\n",
      "11454/11454 [==============================] - 3s 269us/step - loss: 0.1346 - acc: 0.9452 - val_loss: 0.1470 - val_acc: 0.9385\n",
      "Epoch 42/60\n",
      "11454/11454 [==============================] - 3s 267us/step - loss: 0.1329 - acc: 0.9459 - val_loss: 0.1473 - val_acc: 0.9387\n",
      "Epoch 43/60\n",
      "11454/11454 [==============================] - 3s 268us/step - loss: 0.1315 - acc: 0.9458 - val_loss: 0.1469 - val_acc: 0.9385\n",
      "Epoch 44/60\n",
      "11454/11454 [==============================] - 3s 267us/step - loss: 0.1299 - acc: 0.9457 - val_loss: 0.1424 - val_acc: 0.9385\n",
      "Epoch 45/60\n",
      "11454/11454 [==============================] - 3s 269us/step - loss: 0.1285 - acc: 0.9461 - val_loss: 0.1438 - val_acc: 0.9387\n",
      "Epoch 46/60\n",
      "11454/11454 [==============================] - 3s 268us/step - loss: 0.1273 - acc: 0.9460 - val_loss: 0.1419 - val_acc: 0.9387\n",
      "Epoch 47/60\n",
      "11454/11454 [==============================] - 3s 271us/step - loss: 0.1258 - acc: 0.9462 - val_loss: 0.1398 - val_acc: 0.9391\n",
      "Epoch 48/60\n",
      "11454/11454 [==============================] - 3s 273us/step - loss: 0.1248 - acc: 0.9458 - val_loss: 0.1380 - val_acc: 0.9391\n",
      "Epoch 49/60\n",
      "11454/11454 [==============================] - 6s 527us/step - loss: 0.1234 - acc: 0.9460 - val_loss: 0.1395 - val_acc: 0.9385\n",
      "Epoch 50/60\n",
      "11454/11454 [==============================] - 4s 347us/step - loss: 0.1228 - acc: 0.9460 - val_loss: 0.1376 - val_acc: 0.9385\n",
      "Epoch 51/60\n",
      "11454/11454 [==============================] - 3s 232us/step - loss: 0.1216 - acc: 0.9459 - val_loss: 0.1343 - val_acc: 0.9389\n",
      "Epoch 52/60\n",
      "11454/11454 [==============================] - 2s 216us/step - loss: 0.1205 - acc: 0.9461 - val_loss: 0.1343 - val_acc: 0.9391\n",
      "Epoch 53/60\n",
      "11454/11454 [==============================] - 3s 220us/step - loss: 0.1190 - acc: 0.9460 - val_loss: 0.1327 - val_acc: 0.9392\n",
      "Epoch 54/60\n",
      "11454/11454 [==============================] - 3s 263us/step - loss: 0.1181 - acc: 0.9461 - val_loss: 0.1354 - val_acc: 0.9389\n",
      "Epoch 55/60\n",
      "11454/11454 [==============================] - 3s 233us/step - loss: 0.1178 - acc: 0.9457 - val_loss: 0.1360 - val_acc: 0.9392\n"
     ]
    }
   ],
   "source": [
    "train_history =model.fit(x=train_Features, \n",
    "                         y=train_Label, \n",
    "                         validation_split=0.2, \n",
    "                         epochs=60, \n",
    "                         batch_size=1500,verbose=1,callbacks=[early_stopping])"
   ]
  },
  {
   "cell_type": "code",
   "execution_count": 101,
   "metadata": {
    "collapsed": true
   },
   "outputs": [],
   "source": [
    "import matplotlib.pyplot as plt\n",
    "def show_train_history(train_history,train,validation):\n",
    "    plt.plot(train_history.history[train])\n",
    "    plt.plot(train_history.history[validation])\n",
    "    plt.title('Train History')\n",
    "    plt.ylabel(train)\n",
    "    plt.xlabel('Epoch')\n",
    "    plt.legend(['train', 'validation'], loc='upper left')\n",
    "    plt.show()"
   ]
  },
  {
   "cell_type": "code",
   "execution_count": 102,
   "metadata": {
    "collapsed": false
   },
   "outputs": [
    {
     "data": {
      "image/png": "[encoded data removed]",
      "text/plain": [
       "<matplotlib.figure.Figure at 0x7f0df7030b00>"
      ]
     },
     "metadata": {},
     "output_type": "display_data"
    }
   ],
   "source": [
    "show_train_history(train_history,'acc','val_acc')"
   ]
  },
  {
   "cell_type": "code",
   "execution_count": 103,
   "metadata": {
    "collapsed": false
   },
   "outputs": [
    {
     "data": {
      "image/png": "[encoded data removed]",
      "text/plain": [
       "<matplotlib.figure.Figure at 0x7f0df70267b8>"
      ]
     },
     "metadata": {},
     "output_type": "display_data"
    }
   ],
   "source": [
    "show_train_history(train_history,'loss','val_loss')"
   ]
  },
  {
   "cell_type": "code",
   "execution_count": 104,
   "metadata": {
    "collapsed": false
   },
   "outputs": [
    {
     "name": "stdout",
     "output_type": "stream",
     "text": [
      "3580/3580 [==============================] - 0s 134us/step\n"
     ]
    }
   ],
   "source": [
    "scores = model.evaluate(x=test_Features, \n",
    "                        y=test_Label)"
   ]
  },
  {
   "cell_type": "code",
   "execution_count": 105,
   "metadata": {
    "collapsed": false
   },
   "outputs": [
    {
     "data": {
      "text/plain": [
       "0.9438547484701573"
      ]
     },
     "execution_count": 105,
     "metadata": {},
     "output_type": "execute_result"
    }
   ],
   "source": [
    "scores[1]"
   ]
  }
 ],
 "metadata": {
  "anaconda-cloud": {},
  "kernelspec": {
   "display_name": "Python [default]",
   "language": "python",
   "name": "python3"
  },
  "language_info": {
   "codemirror_mode": {
    "name": "ipython",
    "version": 3
   },
   "file_extension": ".py",
   "mimetype": "text/x-python",
   "name": "python",
   "nbconvert_exporter": "python",
   "pygments_lexer": "ipython3",
   "version": "3.5.2"
  }
 },
 "nbformat": 4,
 "nbformat_minor": 1
}
