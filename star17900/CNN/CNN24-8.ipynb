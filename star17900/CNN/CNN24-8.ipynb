{
 "cells": [
  {
   "cell_type": "code",
   "execution_count": 39,
   "metadata": {
    "collapsed": false
   },
   "outputs": [],
   "source": [
    "import numpy \n",
    "import pandas as pd\n",
    "from sklearn.preprocessing import StandardScaler\n",
    "from sklearn.model_selection import train_test_split\n",
    "numpy.random.seed(10)"
   ]
  },
  {
   "cell_type": "code",
   "execution_count": 40,
   "metadata": {
    "collapsed": false
   },
   "outputs": [],
   "source": [
    "all_df = pd.read_csv(\"star.csv\")"
   ]
  },
  {
   "cell_type": "code",
   "execution_count": 41,
   "metadata": {
    "collapsed": false
   },
   "outputs": [
    {
     "data": {
      "text/html": [
       "<div>\n",
       "<table border=\"1\" class=\"dataframe\">\n",
       "  <thead>\n",
       "    <tr style=\"text-align: right;\">\n",
       "      <th></th>\n",
       "      <th>Mean of the integrated profile</th>\n",
       "      <th>Standard deviation of the integrated profile</th>\n",
       "      <th>Excess kurtosis of the integrated profile</th>\n",
       "      <th>Skewness of the integrated profile</th>\n",
       "      <th>Mean of the DM-SNR curve</th>\n",
       "      <th>Standard deviation of the DM-SNR curve</th>\n",
       "      <th>Excess kurtosis of the DM-SNR curve</th>\n",
       "      <th>Skewness of the DM-SNR curve</th>\n",
       "      <th>target_class</th>\n",
       "    </tr>\n",
       "  </thead>\n",
       "  <tbody>\n",
       "    <tr>\n",
       "      <th>0</th>\n",
       "      <td>140.562500</td>\n",
       "      <td>55.683782</td>\n",
       "      <td>-0.234571</td>\n",
       "      <td>-0.699648</td>\n",
       "      <td>3.199833</td>\n",
       "      <td>19.110426</td>\n",
       "      <td>7.975532</td>\n",
       "      <td>74.242225</td>\n",
       "      <td>0</td>\n",
       "    </tr>\n",
       "    <tr>\n",
       "      <th>1</th>\n",
       "      <td>102.507812</td>\n",
       "      <td>58.882430</td>\n",
       "      <td>0.465318</td>\n",
       "      <td>-0.515088</td>\n",
       "      <td>1.677258</td>\n",
       "      <td>14.860146</td>\n",
       "      <td>10.576487</td>\n",
       "      <td>127.393580</td>\n",
       "      <td>0</td>\n",
       "    </tr>\n",
       "    <tr>\n",
       "      <th>2</th>\n",
       "      <td>103.015625</td>\n",
       "      <td>39.341649</td>\n",
       "      <td>0.323328</td>\n",
       "      <td>1.051164</td>\n",
       "      <td>3.121237</td>\n",
       "      <td>21.744669</td>\n",
       "      <td>7.735822</td>\n",
       "      <td>63.171909</td>\n",
       "      <td>0</td>\n",
       "    </tr>\n",
       "    <tr>\n",
       "      <th>3</th>\n",
       "      <td>136.750000</td>\n",
       "      <td>57.178449</td>\n",
       "      <td>-0.068415</td>\n",
       "      <td>-0.636238</td>\n",
       "      <td>3.642977</td>\n",
       "      <td>20.959280</td>\n",
       "      <td>6.896499</td>\n",
       "      <td>53.593661</td>\n",
       "      <td>0</td>\n",
       "    </tr>\n",
       "    <tr>\n",
       "      <th>4</th>\n",
       "      <td>88.726562</td>\n",
       "      <td>40.672225</td>\n",
       "      <td>0.600866</td>\n",
       "      <td>1.123492</td>\n",
       "      <td>1.178930</td>\n",
       "      <td>11.468720</td>\n",
       "      <td>14.269573</td>\n",
       "      <td>252.567306</td>\n",
       "      <td>0</td>\n",
       "    </tr>\n",
       "  </tbody>\n",
       "</table>\n",
       "</div>"
      ],
      "text/plain": [
       "    Mean of the integrated profile  \\\n",
       "0                       140.562500   \n",
       "1                       102.507812   \n",
       "2                       103.015625   \n",
       "3                       136.750000   \n",
       "4                        88.726562   \n",
       "\n",
       "    Standard deviation of the integrated profile  \\\n",
       "0                                      55.683782   \n",
       "1                                      58.882430   \n",
       "2                                      39.341649   \n",
       "3                                      57.178449   \n",
       "4                                      40.672225   \n",
       "\n",
       "    Excess kurtosis of the integrated profile  \\\n",
       "0                                   -0.234571   \n",
       "1                                    0.465318   \n",
       "2                                    0.323328   \n",
       "3                                   -0.068415   \n",
       "4                                    0.600866   \n",
       "\n",
       "    Skewness of the integrated profile   Mean of the DM-SNR curve  \\\n",
       "0                            -0.699648                   3.199833   \n",
       "1                            -0.515088                   1.677258   \n",
       "2                             1.051164                   3.121237   \n",
       "3                            -0.636238                   3.642977   \n",
       "4                             1.123492                   1.178930   \n",
       "\n",
       "    Standard deviation of the DM-SNR curve  \\\n",
       "0                                19.110426   \n",
       "1                                14.860146   \n",
       "2                                21.744669   \n",
       "3                                20.959280   \n",
       "4                                11.468720   \n",
       "\n",
       "    Excess kurtosis of the DM-SNR curve   Skewness of the DM-SNR curve  \\\n",
       "0                              7.975532                      74.242225   \n",
       "1                             10.576487                     127.393580   \n",
       "2                              7.735822                      63.171909   \n",
       "3                              6.896499                      53.593661   \n",
       "4                             14.269573                     252.567306   \n",
       "\n",
       "   target_class  \n",
       "0             0  \n",
       "1             0  \n",
       "2             0  \n",
       "3             0  \n",
       "4             0  "
      ]
     },
     "execution_count": 41,
     "metadata": {},
     "output_type": "execute_result"
    }
   ],
   "source": [
    "all_df[:5]"
   ]
  },
  {
   "cell_type": "code",
   "execution_count": 42,
   "metadata": {
    "collapsed": true
   },
   "outputs": [],
   "source": [
    "X=all_df.drop(['target_class'], axis=1).values.astype('float64')"
   ]
  },
  {
   "cell_type": "code",
   "execution_count": 43,
   "metadata": {
    "collapsed": true
   },
   "outputs": [],
   "source": [
    "Y = all_df['target_class'].values.astype('int64')"
   ]
  },
  {
   "cell_type": "code",
   "execution_count": 44,
   "metadata": {
    "collapsed": false
   },
   "outputs": [
    {
     "data": {
      "text/plain": [
       "14318"
      ]
     },
     "execution_count": 44,
     "metadata": {},
     "output_type": "execute_result"
    }
   ],
   "source": [
    "X = StandardScaler().fit_transform(X)\n",
    "train_Features, test_Features, train_Label, test_Label = train_test_split(X, Y, test_size=0.2, random_state=True) \n",
    "len(train_Features)"
   ]
  },
  {
   "cell_type": "code",
   "execution_count": 45,
   "metadata": {
    "collapsed": false
   },
   "outputs": [
    {
     "data": {
      "text/plain": [
       "(17898, 8)"
      ]
     },
     "execution_count": 45,
     "metadata": {},
     "output_type": "execute_result"
    }
   ],
   "source": [
    "X.shape"
   ]
  },
  {
   "cell_type": "code",
   "execution_count": 46,
   "metadata": {
    "collapsed": true
   },
   "outputs": [],
   "source": [
    "train_Features = train_Features.reshape((train_Features.shape[0], train_Features.shape[1], 1))"
   ]
  },
  {
   "cell_type": "code",
   "execution_count": 47,
   "metadata": {
    "collapsed": true
   },
   "outputs": [],
   "source": [
    "test_Features = test_Features.reshape((test_Features.shape[0], test_Features.shape[1], 1))"
   ]
  },
  {
   "cell_type": "code",
   "execution_count": 48,
   "metadata": {
    "collapsed": false
   },
   "outputs": [],
   "source": [
    "from keras.models import Sequential\n",
    "from keras.layers import Dense,Dropout,Flatten,Conv1D,MaxPooling1D\n",
    "from keras.layers.embeddings import Embedding\n",
    "from keras.callbacks import EarlyStopping\n",
    "early_stopping = EarlyStopping(monitor='val_loss', patience=2)"
   ]
  },
  {
   "cell_type": "code",
   "execution_count": 49,
   "metadata": {
    "collapsed": true
   },
   "outputs": [],
   "source": [
    "model = Sequential()"
   ]
  },
  {
   "cell_type": "code",
   "execution_count": 50,
   "metadata": {
    "collapsed": true
   },
   "outputs": [],
   "source": [
    "model.add(Conv1D(filters=24*8,\n",
    "                 kernel_size=1,\n",
    "                 input_shape=(8,1),\n",
    "                 padding='valid',\n",
    "                 activation='relu'))"
   ]
  },
  {
   "cell_type": "code",
   "execution_count": 51,
   "metadata": {
    "collapsed": true
   },
   "outputs": [],
   "source": [
    "model.add(MaxPooling1D(pool_size=1))"
   ]
  },
  {
   "cell_type": "code",
   "execution_count": 52,
   "metadata": {
    "collapsed": true
   },
   "outputs": [],
   "source": [
    "model.add(Conv1D(filters=24*7,\n",
    "                 kernel_size=1,\n",
    "                 padding='valid',\n",
    "                 activation='relu'))"
   ]
  },
  {
   "cell_type": "code",
   "execution_count": 53,
   "metadata": {
    "collapsed": true
   },
   "outputs": [],
   "source": [
    "model.add(MaxPooling1D(pool_size=1))"
   ]
  },
  {
   "cell_type": "code",
   "execution_count": 54,
   "metadata": {
    "collapsed": true
   },
   "outputs": [],
   "source": [
    "model.add(Conv1D(filters=24*6,\n",
    "                 kernel_size=1,\n",
    "                 padding='valid',\n",
    "                 activation='relu'))"
   ]
  },
  {
   "cell_type": "code",
   "execution_count": 55,
   "metadata": {
    "collapsed": true
   },
   "outputs": [],
   "source": [
    "model.add(MaxPooling1D(pool_size=1))"
   ]
  },
  {
   "cell_type": "code",
   "execution_count": 56,
   "metadata": {
    "collapsed": true
   },
   "outputs": [],
   "source": [
    "model.add(Conv1D(filters=24*5,\n",
    "                 kernel_size=1,\n",
    "                 padding='valid',\n",
    "                 activation='relu'))"
   ]
  },
  {
   "cell_type": "code",
   "execution_count": 57,
   "metadata": {
    "collapsed": true
   },
   "outputs": [],
   "source": [
    "model.add(MaxPooling1D(pool_size=1))"
   ]
  },
  {
   "cell_type": "code",
   "execution_count": 58,
   "metadata": {
    "collapsed": true
   },
   "outputs": [],
   "source": [
    "model.add(Conv1D(filters=24*4,\n",
    "                 kernel_size=1,\n",
    "                 padding='valid',\n",
    "                 activation='relu'))"
   ]
  },
  {
   "cell_type": "code",
   "execution_count": 59,
   "metadata": {
    "collapsed": true
   },
   "outputs": [],
   "source": [
    "model.add(MaxPooling1D(pool_size=1))"
   ]
  },
  {
   "cell_type": "code",
   "execution_count": 60,
   "metadata": {
    "collapsed": true
   },
   "outputs": [],
   "source": [
    "model.add(Conv1D(filters=24*3,\n",
    "                 kernel_size=1,\n",
    "                 padding='valid',\n",
    "                 activation='relu'))"
   ]
  },
  {
   "cell_type": "code",
   "execution_count": 61,
   "metadata": {
    "collapsed": true
   },
   "outputs": [],
   "source": [
    "model.add(MaxPooling1D(pool_size=1))"
   ]
  },
  {
   "cell_type": "code",
   "execution_count": 62,
   "metadata": {
    "collapsed": true
   },
   "outputs": [],
   "source": [
    "model.add(Conv1D(filters=24*2,\n",
    "                 kernel_size=1,\n",
    "                 padding='valid',\n",
    "                 activation='relu'))"
   ]
  },
  {
   "cell_type": "code",
   "execution_count": 63,
   "metadata": {
    "collapsed": true
   },
   "outputs": [],
   "source": [
    "model.add(MaxPooling1D(pool_size=1))"
   ]
  },
  {
   "cell_type": "code",
   "execution_count": 64,
   "metadata": {
    "collapsed": true
   },
   "outputs": [],
   "source": [
    "model.add(Conv1D(filters=24,\n",
    "                 kernel_size=1,\n",
    "                 padding='valid',\n",
    "                 activation='relu'))"
   ]
  },
  {
   "cell_type": "code",
   "execution_count": 65,
   "metadata": {
    "collapsed": true
   },
   "outputs": [],
   "source": [
    "model.add(MaxPooling1D(pool_size=1))"
   ]
  },
  {
   "cell_type": "code",
   "execution_count": 66,
   "metadata": {
    "collapsed": true
   },
   "outputs": [],
   "source": [
    "model.add(Flatten())"
   ]
  },
  {
   "cell_type": "code",
   "execution_count": 67,
   "metadata": {
    "collapsed": true
   },
   "outputs": [],
   "source": [
    "model.add(Dense(8, activation='tanh'))"
   ]
  },
  {
   "cell_type": "code",
   "execution_count": 68,
   "metadata": {
    "collapsed": true
   },
   "outputs": [],
   "source": [
    "model.add(Dense(1,activation='sigmoid'))"
   ]
  },
  {
   "cell_type": "code",
   "execution_count": 69,
   "metadata": {
    "collapsed": false
   },
   "outputs": [
    {
     "name": "stdout",
     "output_type": "stream",
     "text": [
      "_________________________________________________________________\n",
      "Layer (type)                 Output Shape              Param #   \n",
      "=================================================================\n",
      "conv1d_9 (Conv1D)            (None, 8, 192)            384       \n",
      "_________________________________________________________________\n",
      "max_pooling1d_9 (MaxPooling1 (None, 8, 192)            0         \n",
      "_________________________________________________________________\n",
      "conv1d_10 (Conv1D)           (None, 8, 168)            32424     \n",
      "_________________________________________________________________\n",
      "max_pooling1d_10 (MaxPooling (None, 8, 168)            0         \n",
      "_________________________________________________________________\n",
      "conv1d_11 (Conv1D)           (None, 8, 144)            24336     \n",
      "_________________________________________________________________\n",
      "max_pooling1d_11 (MaxPooling (None, 8, 144)            0         \n",
      "_________________________________________________________________\n",
      "conv1d_12 (Conv1D)           (None, 8, 120)            17400     \n",
      "_________________________________________________________________\n",
      "max_pooling1d_12 (MaxPooling (None, 8, 120)            0         \n",
      "_________________________________________________________________\n",
      "conv1d_13 (Conv1D)           (None, 8, 96)             11616     \n",
      "_________________________________________________________________\n",
      "max_pooling1d_13 (MaxPooling (None, 8, 96)             0         \n",
      "_________________________________________________________________\n",
      "conv1d_14 (Conv1D)           (None, 8, 72)             6984      \n",
      "_________________________________________________________________\n",
      "max_pooling1d_14 (MaxPooling (None, 8, 72)             0         \n",
      "_________________________________________________________________\n",
      "conv1d_15 (Conv1D)           (None, 8, 48)             3504      \n",
      "_________________________________________________________________\n",
      "max_pooling1d_15 (MaxPooling (None, 8, 48)             0         \n",
      "_________________________________________________________________\n",
      "conv1d_16 (Conv1D)           (None, 8, 24)             1176      \n",
      "_________________________________________________________________\n",
      "max_pooling1d_16 (MaxPooling (None, 8, 24)             0         \n",
      "_________________________________________________________________\n",
      "flatten_2 (Flatten)          (None, 192)               0         \n",
      "_________________________________________________________________\n",
      "dense_3 (Dense)              (None, 8)                 1544      \n",
      "_________________________________________________________________\n",
      "dense_4 (Dense)              (None, 1)                 9         \n",
      "=================================================================\n",
      "Total params: 99,377\n",
      "Trainable params: 99,377\n",
      "Non-trainable params: 0\n",
      "_________________________________________________________________\n"
     ]
    }
   ],
   "source": [
    "model.summary()"
   ]
  },
  {
   "cell_type": "code",
   "execution_count": 70,
   "metadata": {
    "collapsed": false
   },
   "outputs": [],
   "source": [
    "model.compile(loss='binary_crossentropy', \n",
    "              optimizer='adam', metrics=['accuracy'])"
   ]
  },
  {
   "cell_type": "code",
   "execution_count": 71,
   "metadata": {
    "collapsed": false
   },
   "outputs": [
    {
     "name": "stdout",
     "output_type": "stream",
     "text": [
      "Train on 11454 samples, validate on 2864 samples\n",
      "Epoch 1/30\n",
      "11454/11454 [==============================] - 6s 496us/step - loss: 0.6692 - acc: 0.8225 - val_loss: 0.6037 - val_acc: 0.9015\n",
      "Epoch 2/30\n",
      "11454/11454 [==============================] - 4s 380us/step - loss: 0.4940 - acc: 0.9102 - val_loss: 0.3527 - val_acc: 0.9015\n",
      "Epoch 3/30\n",
      "11454/11454 [==============================] - 4s 390us/step - loss: 0.2798 - acc: 0.9102 - val_loss: 0.2496 - val_acc: 0.9015\n",
      "Epoch 4/30\n",
      "11454/11454 [==============================] - 4s 378us/step - loss: 0.2273 - acc: 0.9102 - val_loss: 0.2383 - val_acc: 0.9015\n",
      "Epoch 5/30\n",
      "11454/11454 [==============================] - 4s 378us/step - loss: 0.1782 - acc: 0.9416 - val_loss: 0.1772 - val_acc: 0.9602\n",
      "Epoch 6/30\n",
      "11454/11454 [==============================] - 4s 370us/step - loss: 0.1552 - acc: 0.9720 - val_loss: 0.1599 - val_acc: 0.9707\n",
      "Epoch 7/30\n",
      "11454/11454 [==============================] - 4s 371us/step - loss: 0.1371 - acc: 0.9725 - val_loss: 0.1374 - val_acc: 0.9700\n",
      "Epoch 8/30\n",
      "11454/11454 [==============================] - 4s 378us/step - loss: 0.1213 - acc: 0.9751 - val_loss: 0.1337 - val_acc: 0.9710\n",
      "Epoch 9/30\n",
      "11454/11454 [==============================] - 5s 433us/step - loss: 0.1137 - acc: 0.9770 - val_loss: 0.1287 - val_acc: 0.9710\n",
      "Epoch 10/30\n",
      "11454/11454 [==============================] - 5s 441us/step - loss: 0.1079 - acc: 0.9778 - val_loss: 0.1252 - val_acc: 0.9724\n",
      "Epoch 11/30\n",
      "11454/11454 [==============================] - 5s 440us/step - loss: 0.1043 - acc: 0.9778 - val_loss: 0.1218 - val_acc: 0.9721\n",
      "Epoch 12/30\n",
      "11454/11454 [==============================] - 4s 377us/step - loss: 0.1003 - acc: 0.9784 - val_loss: 0.1180 - val_acc: 0.9738\n",
      "Epoch 13/30\n",
      "11454/11454 [==============================] - 9s 743us/step - loss: 0.0968 - acc: 0.9790 - val_loss: 0.1132 - val_acc: 0.9745\n",
      "Epoch 14/30\n",
      "11454/11454 [==============================] - 5s 448us/step - loss: 0.0938 - acc: 0.9795 - val_loss: 0.1097 - val_acc: 0.9745\n",
      "Epoch 15/30\n",
      "11454/11454 [==============================] - 5s 427us/step - loss: 0.0913 - acc: 0.9797 - val_loss: 0.1068 - val_acc: 0.9756\n",
      "Epoch 16/30\n",
      "11454/11454 [==============================] - 5s 427us/step - loss: 0.0890 - acc: 0.9802 - val_loss: 0.1027 - val_acc: 0.9745\n",
      "Epoch 17/30\n",
      "11454/11454 [==============================] - 5s 427us/step - loss: 0.0865 - acc: 0.9804 - val_loss: 0.0991 - val_acc: 0.9749\n",
      "Epoch 18/30\n",
      "11454/11454 [==============================] - 6s 562us/step - loss: 0.0840 - acc: 0.9806 - val_loss: 0.0966 - val_acc: 0.9745\n",
      "Epoch 19/30\n",
      "11454/11454 [==============================] - 7s 613us/step - loss: 0.0815 - acc: 0.9809 - val_loss: 0.0993 - val_acc: 0.9752\n",
      "Epoch 20/30\n",
      "11454/11454 [==============================] - 8s 696us/step - loss: 0.0827 - acc: 0.9804 - val_loss: 0.0915 - val_acc: 0.9752\n",
      "Epoch 21/30\n",
      "11454/11454 [==============================] - 5s 436us/step - loss: 0.0790 - acc: 0.9810 - val_loss: 0.0929 - val_acc: 0.9752\n",
      "Epoch 22/30\n",
      "11454/11454 [==============================] - 9s 758us/step - loss: 0.0778 - acc: 0.9811 - val_loss: 0.0907 - val_acc: 0.9759\n",
      "Epoch 23/30\n",
      "11454/11454 [==============================] - 8s 724us/step - loss: 0.0771 - acc: 0.9807 - val_loss: 0.0887 - val_acc: 0.9766\n",
      "Epoch 24/30\n",
      "11454/11454 [==============================] - 5s 429us/step - loss: 0.0765 - acc: 0.9811 - val_loss: 0.0879 - val_acc: 0.9756\n",
      "Epoch 25/30\n",
      "11454/11454 [==============================] - 5s 431us/step - loss: 0.0757 - acc: 0.9809 - val_loss: 0.0867 - val_acc: 0.9763\n",
      "Epoch 26/30\n",
      "11454/11454 [==============================] - 5s 431us/step - loss: 0.0750 - acc: 0.9811 - val_loss: 0.0865 - val_acc: 0.9763\n",
      "Epoch 27/30\n",
      "11454/11454 [==============================] - 5s 434us/step - loss: 0.0740 - acc: 0.9819 - val_loss: 0.0883 - val_acc: 0.9763\n",
      "Epoch 28/30\n",
      "11454/11454 [==============================] - 5s 430us/step - loss: 0.0734 - acc: 0.9818 - val_loss: 0.0847 - val_acc: 0.9763\n",
      "Epoch 29/30\n",
      "11454/11454 [==============================] - 6s 492us/step - loss: 0.0734 - acc: 0.9814 - val_loss: 0.0852 - val_acc: 0.9759\n",
      "Epoch 30/30\n",
      "11454/11454 [==============================] - 6s 490us/step - loss: 0.0729 - acc: 0.9814 - val_loss: 0.0881 - val_acc: 0.9763\n"
     ]
    }
   ],
   "source": [
    "train_history =model.fit(x=train_Features, \n",
    "                         y=train_Label, \n",
    "                         validation_split=0.2, \n",
    "                         epochs=30, \n",
    "                         batch_size=1500,verbose=1,callbacks=[early_stopping])"
   ]
  },
  {
   "cell_type": "code",
   "execution_count": 72,
   "metadata": {
    "collapsed": true
   },
   "outputs": [],
   "source": [
    "import matplotlib.pyplot as plt\n",
    "def show_train_history(train_history,train,validation):\n",
    "    plt.plot(train_history.history[train])\n",
    "    plt.plot(train_history.history[validation])\n",
    "    plt.title('Train History')\n",
    "    plt.ylabel(train)\n",
    "    plt.xlabel('Epoch')\n",
    "    plt.legend(['train', 'validation'], loc='upper left')\n",
    "    plt.show()"
   ]
  },
  {
   "cell_type": "code",
   "execution_count": 73,
   "metadata": {
    "collapsed": false
   },
   "outputs": [
    {
     "data": {
      "image/png": "[encoded data removed]",
      "text/plain": [
       "<matplotlib.figure.Figure at 0x7f85768fb588>"
      ]
     },
     "metadata": {},
     "output_type": "display_data"
    }
   ],
   "source": [
    "show_train_history(train_history,'acc','val_acc')"
   ]
  },
  {
   "cell_type": "code",
   "execution_count": 74,
   "metadata": {
    "collapsed": false
   },
   "outputs": [
    {
     "data": {
      "image/png": "[encoded data removed]",
      "text/plain": [
       "<matplotlib.figure.Figure at 0x7f8576886a58>"
      ]
     },
     "metadata": {},
     "output_type": "display_data"
    }
   ],
   "source": [
    "show_train_history(train_history,'loss','val_loss')"
   ]
  },
  {
   "cell_type": "code",
   "execution_count": 75,
   "metadata": {
    "collapsed": false
   },
   "outputs": [
    {
     "name": "stdout",
     "output_type": "stream",
     "text": [
      "3580/3580 [==============================] - 1s 187us/step\n"
     ]
    }
   ],
   "source": [
    "scores = model.evaluate(x=test_Features, \n",
    "                        y=test_Label)"
   ]
  },
  {
   "cell_type": "code",
   "execution_count": 76,
   "metadata": {
    "collapsed": false
   },
   "outputs": [
    {
     "data": {
      "text/plain": [
       "0.9790502794628037"
      ]
     },
     "execution_count": 76,
     "metadata": {},
     "output_type": "execute_result"
    }
   ],
   "source": [
    "scores[1]"
   ]
  }
 ],
 "metadata": {
  "anaconda-cloud": {},
  "kernelspec": {
   "display_name": "Python [default]",
   "language": "python",
   "name": "python3"
  },
  "language_info": {
   "codemirror_mode": {
    "name": "ipython",
    "version": 3
   },
   "file_extension": ".py",
   "mimetype": "text/x-python",
   "name": "python",
   "nbconvert_exporter": "python",
   "pygments_lexer": "ipython3",
   "version": "3.5.2"
  }
 },
 "nbformat": 4,
 "nbformat_minor": 1
}
