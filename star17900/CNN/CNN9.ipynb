{
 "cells": [
  {
   "cell_type": "code",
   "execution_count": 43,
   "metadata": {
    "collapsed": false
   },
   "outputs": [
    {
     "name": "stdout",
     "output_type": "stream",
     "text": [
      "0.20.3\n"
     ]
    }
   ],
   "source": [
    "import sklearn\n",
    "print(sklearn.__version__)"
   ]
  },
  {
   "cell_type": "code",
   "execution_count": 44,
   "metadata": {
    "collapsed": false
   },
   "outputs": [],
   "source": [
    "import numpy \n",
    "import pandas as pd\n",
    "from sklearn.preprocessing import StandardScaler\n",
    "from sklearn.model_selection import train_test_split\n",
    "numpy.random.seed(10)"
   ]
  },
  {
   "cell_type": "code",
   "execution_count": 45,
   "metadata": {
    "collapsed": false
   },
   "outputs": [],
   "source": [
    "all_df = pd.read_csv(\"data/star.csv\")"
   ]
  },
  {
   "cell_type": "code",
   "execution_count": 46,
   "metadata": {
    "collapsed": false
   },
   "outputs": [
    {
     "data": {
      "text/html": [
       "<div>\n",
       "<table border=\"1\" class=\"dataframe\">\n",
       "  <thead>\n",
       "    <tr style=\"text-align: right;\">\n",
       "      <th></th>\n",
       "      <th>Mean of the integrated profile</th>\n",
       "      <th>Standard deviation of the integrated profile</th>\n",
       "      <th>Excess kurtosis of the integrated profile</th>\n",
       "      <th>Skewness of the integrated profile</th>\n",
       "      <th>Mean of the DM-SNR curve</th>\n",
       "      <th>Standard deviation of the DM-SNR curve</th>\n",
       "      <th>Excess kurtosis of the DM-SNR curve</th>\n",
       "      <th>Skewness of the DM-SNR curve</th>\n",
       "      <th>target_class</th>\n",
       "    </tr>\n",
       "  </thead>\n",
       "  <tbody>\n",
       "    <tr>\n",
       "      <th>0</th>\n",
       "      <td>140.562500</td>\n",
       "      <td>55.683782</td>\n",
       "      <td>-0.234571</td>\n",
       "      <td>-0.699648</td>\n",
       "      <td>3.199833</td>\n",
       "      <td>19.110426</td>\n",
       "      <td>7.975532</td>\n",
       "      <td>74.242225</td>\n",
       "      <td>0</td>\n",
       "    </tr>\n",
       "    <tr>\n",
       "      <th>1</th>\n",
       "      <td>102.507812</td>\n",
       "      <td>58.882430</td>\n",
       "      <td>0.465318</td>\n",
       "      <td>-0.515088</td>\n",
       "      <td>1.677258</td>\n",
       "      <td>14.860146</td>\n",
       "      <td>10.576487</td>\n",
       "      <td>127.393580</td>\n",
       "      <td>0</td>\n",
       "    </tr>\n",
       "    <tr>\n",
       "      <th>2</th>\n",
       "      <td>103.015625</td>\n",
       "      <td>39.341649</td>\n",
       "      <td>0.323328</td>\n",
       "      <td>1.051164</td>\n",
       "      <td>3.121237</td>\n",
       "      <td>21.744669</td>\n",
       "      <td>7.735822</td>\n",
       "      <td>63.171909</td>\n",
       "      <td>0</td>\n",
       "    </tr>\n",
       "    <tr>\n",
       "      <th>3</th>\n",
       "      <td>136.750000</td>\n",
       "      <td>57.178449</td>\n",
       "      <td>-0.068415</td>\n",
       "      <td>-0.636238</td>\n",
       "      <td>3.642977</td>\n",
       "      <td>20.959280</td>\n",
       "      <td>6.896499</td>\n",
       "      <td>53.593661</td>\n",
       "      <td>0</td>\n",
       "    </tr>\n",
       "    <tr>\n",
       "      <th>4</th>\n",
       "      <td>88.726562</td>\n",
       "      <td>40.672225</td>\n",
       "      <td>0.600866</td>\n",
       "      <td>1.123492</td>\n",
       "      <td>1.178930</td>\n",
       "      <td>11.468720</td>\n",
       "      <td>14.269573</td>\n",
       "      <td>252.567306</td>\n",
       "      <td>0</td>\n",
       "    </tr>\n",
       "  </tbody>\n",
       "</table>\n",
       "</div>"
      ],
      "text/plain": [
       "    Mean of the integrated profile  \\\n",
       "0                       140.562500   \n",
       "1                       102.507812   \n",
       "2                       103.015625   \n",
       "3                       136.750000   \n",
       "4                        88.726562   \n",
       "\n",
       "    Standard deviation of the integrated profile  \\\n",
       "0                                      55.683782   \n",
       "1                                      58.882430   \n",
       "2                                      39.341649   \n",
       "3                                      57.178449   \n",
       "4                                      40.672225   \n",
       "\n",
       "    Excess kurtosis of the integrated profile  \\\n",
       "0                                   -0.234571   \n",
       "1                                    0.465318   \n",
       "2                                    0.323328   \n",
       "3                                   -0.068415   \n",
       "4                                    0.600866   \n",
       "\n",
       "    Skewness of the integrated profile   Mean of the DM-SNR curve  \\\n",
       "0                            -0.699648                   3.199833   \n",
       "1                            -0.515088                   1.677258   \n",
       "2                             1.051164                   3.121237   \n",
       "3                            -0.636238                   3.642977   \n",
       "4                             1.123492                   1.178930   \n",
       "\n",
       "    Standard deviation of the DM-SNR curve  \\\n",
       "0                                19.110426   \n",
       "1                                14.860146   \n",
       "2                                21.744669   \n",
       "3                                20.959280   \n",
       "4                                11.468720   \n",
       "\n",
       "    Excess kurtosis of the DM-SNR curve   Skewness of the DM-SNR curve  \\\n",
       "0                              7.975532                      74.242225   \n",
       "1                             10.576487                     127.393580   \n",
       "2                              7.735822                      63.171909   \n",
       "3                              6.896499                      53.593661   \n",
       "4                             14.269573                     252.567306   \n",
       "\n",
       "   target_class  \n",
       "0             0  \n",
       "1             0  \n",
       "2             0  \n",
       "3             0  \n",
       "4             0  "
      ]
     },
     "execution_count": 46,
     "metadata": {},
     "output_type": "execute_result"
    }
   ],
   "source": [
    "all_df[:5]"
   ]
  },
  {
   "cell_type": "code",
   "execution_count": 47,
   "metadata": {
    "collapsed": true
   },
   "outputs": [],
   "source": [
    "X=all_df.drop(['target_class'], axis=1).values.astype('float64')"
   ]
  },
  {
   "cell_type": "code",
   "execution_count": 48,
   "metadata": {
    "collapsed": true
   },
   "outputs": [],
   "source": [
    "Y = all_df['target_class'].values.astype('int64')"
   ]
  },
  {
   "cell_type": "code",
   "execution_count": 49,
   "metadata": {
    "collapsed": false
   },
   "outputs": [
    {
     "data": {
      "text/plain": [
       "14318"
      ]
     },
     "execution_count": 49,
     "metadata": {},
     "output_type": "execute_result"
    }
   ],
   "source": [
    "X = StandardScaler().fit_transform(X)\n",
    "train_Features, test_Features, train_Label, test_Label = train_test_split(X, Y, test_size=0.2, random_state=True) \n",
    "len(train_Features)"
   ]
  },
  {
   "cell_type": "code",
   "execution_count": 50,
   "metadata": {
    "collapsed": false
   },
   "outputs": [
    {
     "data": {
      "text/plain": [
       "(17898, 8)"
      ]
     },
     "execution_count": 50,
     "metadata": {},
     "output_type": "execute_result"
    }
   ],
   "source": [
    "X.shape"
   ]
  },
  {
   "cell_type": "code",
   "execution_count": 51,
   "metadata": {
    "collapsed": true
   },
   "outputs": [],
   "source": [
    "train_Features = train_Features.reshape((train_Features.shape[0], train_Features.shape[1], 1))"
   ]
  },
  {
   "cell_type": "code",
   "execution_count": 52,
   "metadata": {
    "collapsed": true
   },
   "outputs": [],
   "source": [
    "test_Features = test_Features.reshape((test_Features.shape[0], test_Features.shape[1], 1))"
   ]
  },
  {
   "cell_type": "code",
   "execution_count": 53,
   "metadata": {
    "collapsed": false
   },
   "outputs": [],
   "source": [
    "from keras.utils import np_utils\n",
    "train_Label = train_Label.reshape(train_Label.shape[0], 1)\n",
    "test_Label= test_Label.reshape(test_Label.shape[0], 1)\n",
    "train_Label=np_utils.to_categorical(train_Label)\n",
    "test_Label=np_utils.to_categorical(test_Label)"
   ]
  },
  {
   "cell_type": "code",
   "execution_count": 54,
   "metadata": {
    "collapsed": false
   },
   "outputs": [],
   "source": [
    "from keras.models import Sequential\n",
    "from keras.layers import Dense,Dropout,Flatten,Conv1D,MaxPooling1D\n",
    "from keras.layers.embeddings import Embedding\n",
    "from keras.callbacks import EarlyStopping\n",
    "early_stopping = EarlyStopping(monitor='val_loss', patience=2)"
   ]
  },
  {
   "cell_type": "code",
   "execution_count": 55,
   "metadata": {
    "collapsed": true
   },
   "outputs": [],
   "source": [
    "model = Sequential()"
   ]
  },
  {
   "cell_type": "code",
   "execution_count": 56,
   "metadata": {
    "collapsed": true
   },
   "outputs": [],
   "source": [
    "model.add(Conv1D(filters=16*9,\n",
    "                 kernel_size=1,\n",
    "                 input_shape=(8,1),\n",
    "                 padding='valid',\n",
    "                 activation='relu'))"
   ]
  },
  {
   "cell_type": "code",
   "execution_count": 57,
   "metadata": {
    "collapsed": true
   },
   "outputs": [],
   "source": [
    "model.add(MaxPooling1D(pool_size=1))"
   ]
  },
  {
   "cell_type": "code",
   "execution_count": 58,
   "metadata": {
    "collapsed": true
   },
   "outputs": [],
   "source": [
    "model.add(Conv1D(filters=16*8,\n",
    "                 kernel_size=1,\n",
    "                 padding='valid',\n",
    "                 activation='relu'))"
   ]
  },
  {
   "cell_type": "code",
   "execution_count": 59,
   "metadata": {
    "collapsed": true
   },
   "outputs": [],
   "source": [
    "model.add(MaxPooling1D(pool_size=1))"
   ]
  },
  {
   "cell_type": "code",
   "execution_count": 60,
   "metadata": {
    "collapsed": true
   },
   "outputs": [],
   "source": [
    "model.add(Conv1D(filters=16*7,\n",
    "                 kernel_size=1,\n",
    "                 padding='valid',\n",
    "                 activation='relu'))"
   ]
  },
  {
   "cell_type": "code",
   "execution_count": 61,
   "metadata": {
    "collapsed": true
   },
   "outputs": [],
   "source": [
    "model.add(MaxPooling1D(pool_size=1))"
   ]
  },
  {
   "cell_type": "code",
   "execution_count": 62,
   "metadata": {
    "collapsed": true
   },
   "outputs": [],
   "source": [
    "model.add(Conv1D(filters=16*6,\n",
    "                 kernel_size=1,\n",
    "                 padding='valid',\n",
    "                 activation='relu'))"
   ]
  },
  {
   "cell_type": "code",
   "execution_count": 63,
   "metadata": {
    "collapsed": true
   },
   "outputs": [],
   "source": [
    "model.add(MaxPooling1D(pool_size=1))"
   ]
  },
  {
   "cell_type": "code",
   "execution_count": 64,
   "metadata": {
    "collapsed": true
   },
   "outputs": [],
   "source": [
    "model.add(Conv1D(filters=16*5,\n",
    "                 kernel_size=1,\n",
    "                 padding='valid',\n",
    "                 activation='relu'))"
   ]
  },
  {
   "cell_type": "code",
   "execution_count": 65,
   "metadata": {
    "collapsed": true
   },
   "outputs": [],
   "source": [
    "model.add(MaxPooling1D(pool_size=1))"
   ]
  },
  {
   "cell_type": "code",
   "execution_count": 66,
   "metadata": {
    "collapsed": false
   },
   "outputs": [],
   "source": [
    "model.add(Conv1D(filters=16*4,\n",
    "                 kernel_size=1,\n",
    "                 padding='valid',\n",
    "                 activation='relu'))"
   ]
  },
  {
   "cell_type": "code",
   "execution_count": 67,
   "metadata": {
    "collapsed": true
   },
   "outputs": [],
   "source": [
    "model.add(MaxPooling1D(pool_size=1))"
   ]
  },
  {
   "cell_type": "code",
   "execution_count": 68,
   "metadata": {
    "collapsed": true
   },
   "outputs": [],
   "source": [
    "model.add(Conv1D(filters=16*3,\n",
    "                 kernel_size=1,\n",
    "                 padding='valid',\n",
    "                 activation='relu'))"
   ]
  },
  {
   "cell_type": "code",
   "execution_count": 69,
   "metadata": {
    "collapsed": true
   },
   "outputs": [],
   "source": [
    "model.add(MaxPooling1D(pool_size=1))"
   ]
  },
  {
   "cell_type": "code",
   "execution_count": 70,
   "metadata": {
    "collapsed": true
   },
   "outputs": [],
   "source": [
    "model.add(Conv1D(filters=16*2,\n",
    "                 kernel_size=1,\n",
    "                 padding='valid',\n",
    "                 activation='relu'))"
   ]
  },
  {
   "cell_type": "code",
   "execution_count": 71,
   "metadata": {
    "collapsed": true
   },
   "outputs": [],
   "source": [
    "model.add(MaxPooling1D(pool_size=1))"
   ]
  },
  {
   "cell_type": "code",
   "execution_count": 72,
   "metadata": {
    "collapsed": true
   },
   "outputs": [],
   "source": [
    "model.add(Conv1D(filters=16,\n",
    "                 kernel_size=1,\n",
    "                 padding='valid',\n",
    "                 activation='relu'))"
   ]
  },
  {
   "cell_type": "code",
   "execution_count": 73,
   "metadata": {
    "collapsed": true
   },
   "outputs": [],
   "source": [
    "model.add(MaxPooling1D(pool_size=1))"
   ]
  },
  {
   "cell_type": "code",
   "execution_count": 74,
   "metadata": {
    "collapsed": true
   },
   "outputs": [],
   "source": [
    "model.add(Flatten())"
   ]
  },
  {
   "cell_type": "code",
   "execution_count": 75,
   "metadata": {
    "collapsed": true
   },
   "outputs": [],
   "source": [
    "model.add(Dense(8, activation='tanh'))"
   ]
  },
  {
   "cell_type": "code",
   "execution_count": 76,
   "metadata": {
    "collapsed": true
   },
   "outputs": [],
   "source": [
    "model.add(Dense(2,activation='sigmoid'))"
   ]
  },
  {
   "cell_type": "code",
   "execution_count": 77,
   "metadata": {
    "collapsed": false
   },
   "outputs": [
    {
     "name": "stdout",
     "output_type": "stream",
     "text": [
      "_________________________________________________________________\n",
      "Layer (type)                 Output Shape              Param #   \n",
      "=================================================================\n",
      "conv1d_10 (Conv1D)           (None, 8, 144)            288       \n",
      "_________________________________________________________________\n",
      "max_pooling1d_10 (MaxPooling (None, 8, 144)            0         \n",
      "_________________________________________________________________\n",
      "conv1d_11 (Conv1D)           (None, 8, 128)            18560     \n",
      "_________________________________________________________________\n",
      "max_pooling1d_11 (MaxPooling (None, 8, 128)            0         \n",
      "_________________________________________________________________\n",
      "conv1d_12 (Conv1D)           (None, 8, 112)            14448     \n",
      "_________________________________________________________________\n",
      "max_pooling1d_12 (MaxPooling (None, 8, 112)            0         \n",
      "_________________________________________________________________\n",
      "conv1d_13 (Conv1D)           (None, 8, 96)             10848     \n",
      "_________________________________________________________________\n",
      "max_pooling1d_13 (MaxPooling (None, 8, 96)             0         \n",
      "_________________________________________________________________\n",
      "conv1d_14 (Conv1D)           (None, 8, 80)             7760      \n",
      "_________________________________________________________________\n",
      "max_pooling1d_14 (MaxPooling (None, 8, 80)             0         \n",
      "_________________________________________________________________\n",
      "conv1d_15 (Conv1D)           (None, 8, 64)             5184      \n",
      "_________________________________________________________________\n",
      "max_pooling1d_15 (MaxPooling (None, 8, 64)             0         \n",
      "_________________________________________________________________\n",
      "conv1d_16 (Conv1D)           (None, 8, 48)             3120      \n",
      "_________________________________________________________________\n",
      "max_pooling1d_16 (MaxPooling (None, 8, 48)             0         \n",
      "_________________________________________________________________\n",
      "conv1d_17 (Conv1D)           (None, 8, 32)             1568      \n",
      "_________________________________________________________________\n",
      "max_pooling1d_17 (MaxPooling (None, 8, 32)             0         \n",
      "_________________________________________________________________\n",
      "conv1d_18 (Conv1D)           (None, 8, 16)             528       \n",
      "_________________________________________________________________\n",
      "max_pooling1d_18 (MaxPooling (None, 8, 16)             0         \n",
      "_________________________________________________________________\n",
      "flatten_2 (Flatten)          (None, 128)               0         \n",
      "_________________________________________________________________\n",
      "dense_3 (Dense)              (None, 8)                 1032      \n",
      "_________________________________________________________________\n",
      "dense_4 (Dense)              (None, 2)                 18        \n",
      "=================================================================\n",
      "Total params: 63,354\n",
      "Trainable params: 63,354\n",
      "Non-trainable params: 0\n",
      "_________________________________________________________________\n"
     ]
    }
   ],
   "source": [
    "model.summary()"
   ]
  },
  {
   "cell_type": "code",
   "execution_count": 78,
   "metadata": {
    "collapsed": false
   },
   "outputs": [],
   "source": [
    "model.compile(loss='binary_crossentropy', \n",
    "              optimizer='adam', metrics=['accuracy'])"
   ]
  },
  {
   "cell_type": "code",
   "execution_count": 79,
   "metadata": {
    "collapsed": false
   },
   "outputs": [
    {
     "name": "stdout",
     "output_type": "stream",
     "text": [
      "Train on 11454 samples, validate on 2864 samples\n",
      "Epoch 1/60\n",
      "11454/11454 [==============================] - 7s 578us/step - loss: 0.6705 - acc: 0.8510 - val_loss: 0.6190 - val_acc: 0.9015\n",
      "Epoch 2/60\n",
      "11454/11454 [==============================] - 5s 447us/step - loss: 0.5368 - acc: 0.9102 - val_loss: 0.4200 - val_acc: 0.9015\n",
      "Epoch 3/60\n",
      "11454/11454 [==============================] - 5s 443us/step - loss: 0.3581 - acc: 0.9102 - val_loss: 0.3296 - val_acc: 0.9015\n",
      "Epoch 4/60\n",
      "11454/11454 [==============================] - 5s 476us/step - loss: 0.2991 - acc: 0.9102 - val_loss: 0.2971 - val_acc: 0.9015\n",
      "Epoch 5/60\n",
      "11454/11454 [==============================] - 8s 706us/step - loss: 0.2746 - acc: 0.9102 - val_loss: 0.2810 - val_acc: 0.9015\n",
      "Epoch 6/60\n",
      "11454/11454 [==============================] - 7s 625us/step - loss: 0.2621 - acc: 0.9102 - val_loss: 0.2737 - val_acc: 0.9015\n",
      "Epoch 7/60\n",
      "11454/11454 [==============================] - 7s 596us/step - loss: 0.2526 - acc: 0.9102 - val_loss: 0.2650 - val_acc: 0.9015\n",
      "Epoch 8/60\n",
      "11454/11454 [==============================] - 7s 597us/step - loss: 0.2491 - acc: 0.9102 - val_loss: 0.2628 - val_acc: 0.9015\n",
      "Epoch 9/60\n",
      "11454/11454 [==============================] - 7s 640us/step - loss: 0.2463 - acc: 0.9102 - val_loss: 0.2610 - val_acc: 0.9015\n",
      "Epoch 10/60\n",
      "11454/11454 [==============================] - 7s 625us/step - loss: 0.2444 - acc: 0.9102 - val_loss: 0.2595 - val_acc: 0.9015\n",
      "Epoch 11/60\n",
      "11454/11454 [==============================] - 8s 718us/step - loss: 0.2426 - acc: 0.9102 - val_loss: 0.2581 - val_acc: 0.9015\n",
      "Epoch 12/60\n",
      "11454/11454 [==============================] - 7s 651us/step - loss: 0.2412 - acc: 0.9102 - val_loss: 0.2570 - val_acc: 0.9015\n",
      "Epoch 13/60\n",
      "11454/11454 [==============================] - 9s 770us/step - loss: 0.2398 - acc: 0.9102 - val_loss: 0.2555 - val_acc: 0.9015\n",
      "Epoch 14/60\n",
      "11454/11454 [==============================] - 8s 712us/step - loss: 0.2385 - acc: 0.9102 - val_loss: 0.2546 - val_acc: 0.9015\n",
      "Epoch 15/60\n",
      "11454/11454 [==============================] - 7s 651us/step - loss: 0.2372 - acc: 0.9102 - val_loss: 0.2532 - val_acc: 0.9015\n",
      "Epoch 16/60\n",
      "11454/11454 [==============================] - 7s 638us/step - loss: 0.2358 - acc: 0.9102 - val_loss: 0.2521 - val_acc: 0.9015\n",
      "Epoch 17/60\n",
      "11454/11454 [==============================] - 7s 629us/step - loss: 0.2346 - acc: 0.9102 - val_loss: 0.2509 - val_acc: 0.9015\n",
      "Epoch 18/60\n",
      "11454/11454 [==============================] - 8s 685us/step - loss: 0.2334 - acc: 0.9102 - val_loss: 0.2499 - val_acc: 0.9015\n",
      "Epoch 19/60\n",
      "11454/11454 [==============================] - 7s 632us/step - loss: 0.2324 - acc: 0.9102 - val_loss: 0.2485 - val_acc: 0.9015\n",
      "Epoch 20/60\n",
      "11454/11454 [==============================] - 7s 636us/step - loss: 0.2308 - acc: 0.9102 - val_loss: 0.2483 - val_acc: 0.9015\n",
      "Epoch 21/60\n",
      "11454/11454 [==============================] - 7s 651us/step - loss: 0.2300 - acc: 0.9102 - val_loss: 0.2468 - val_acc: 0.9015\n",
      "Epoch 22/60\n",
      "11454/11454 [==============================] - 7s 647us/step - loss: 0.2287 - acc: 0.9102 - val_loss: 0.2455 - val_acc: 0.9015\n",
      "Epoch 23/60\n",
      "11454/11454 [==============================] - 7s 624us/step - loss: 0.2274 - acc: 0.9102 - val_loss: 0.2441 - val_acc: 0.9015\n",
      "Epoch 24/60\n",
      "11454/11454 [==============================] - 8s 712us/step - loss: 0.2263 - acc: 0.9102 - val_loss: 0.2438 - val_acc: 0.9015\n",
      "Epoch 25/60\n",
      "11454/11454 [==============================] - 13s 1ms/step - loss: 0.2252 - acc: 0.9102 - val_loss: 0.2417 - val_acc: 0.9015\n",
      "Epoch 26/60\n",
      "11454/11454 [==============================] - 8s 697us/step - loss: 0.2241 - acc: 0.9102 - val_loss: 0.2410 - val_acc: 0.9015\n",
      "Epoch 27/60\n",
      "11454/11454 [==============================] - 8s 663us/step - loss: 0.2219 - acc: 0.9102 - val_loss: 0.2332 - val_acc: 0.9015\n",
      "Epoch 28/60\n",
      "11454/11454 [==============================] - 8s 659us/step - loss: 0.1981 - acc: 0.9102 - val_loss: 0.1970 - val_acc: 0.9015\n",
      "Epoch 29/60\n",
      "11454/11454 [==============================] - 8s 666us/step - loss: 0.1805 - acc: 0.9102 - val_loss: 0.1938 - val_acc: 0.9015\n",
      "Epoch 30/60\n",
      "11454/11454 [==============================] - 8s 659us/step - loss: 0.1768 - acc: 0.9102 - val_loss: 0.1917 - val_acc: 0.9015\n",
      "Epoch 31/60\n",
      "11454/11454 [==============================] - 8s 658us/step - loss: 0.1741 - acc: 0.9102 - val_loss: 0.1885 - val_acc: 0.9015\n",
      "Epoch 32/60\n",
      "11454/11454 [==============================] - 8s 668us/step - loss: 0.1713 - acc: 0.9102 - val_loss: 0.1858 - val_acc: 0.9015\n",
      "Epoch 33/60\n",
      "11454/11454 [==============================] - 8s 659us/step - loss: 0.1693 - acc: 0.9102 - val_loss: 0.1823 - val_acc: 0.9015\n",
      "Epoch 34/60\n",
      "11454/11454 [==============================] - 8s 658us/step - loss: 0.1665 - acc: 0.9102 - val_loss: 0.1799 - val_acc: 0.9015\n",
      "Epoch 35/60\n",
      "11454/11454 [==============================] - 8s 657us/step - loss: 0.1643 - acc: 0.9102 - val_loss: 0.1779 - val_acc: 0.9015\n",
      "Epoch 36/60\n",
      "11454/11454 [==============================] - 7s 653us/step - loss: 0.1619 - acc: 0.9102 - val_loss: 0.1759 - val_acc: 0.9015\n",
      "Epoch 37/60\n",
      "11454/11454 [==============================] - 7s 651us/step - loss: 0.1602 - acc: 0.9102 - val_loss: 0.1738 - val_acc: 0.9015\n",
      "Epoch 38/60\n",
      "11454/11454 [==============================] - 7s 653us/step - loss: 0.1583 - acc: 0.9102 - val_loss: 0.1714 - val_acc: 0.9015\n",
      "Epoch 39/60\n",
      "11454/11454 [==============================] - 8s 662us/step - loss: 0.1564 - acc: 0.9102 - val_loss: 0.1695 - val_acc: 0.9015\n",
      "Epoch 40/60\n",
      "11454/11454 [==============================] - 10s 915us/step - loss: 0.1542 - acc: 0.9102 - val_loss: 0.1721 - val_acc: 0.9015\n",
      "Epoch 41/60\n",
      "11454/11454 [==============================] - 5s 419us/step - loss: 0.1540 - acc: 0.9102 - val_loss: 0.1675 - val_acc: 0.9015\n",
      "Epoch 42/60\n",
      "11454/11454 [==============================] - 3s 305us/step - loss: 0.1514 - acc: 0.9102 - val_loss: 0.1643 - val_acc: 0.9015\n",
      "Epoch 43/60\n",
      "11454/11454 [==============================] - 4s 319us/step - loss: 0.1498 - acc: 0.9102 - val_loss: 0.1635 - val_acc: 0.9015\n",
      "Epoch 44/60\n",
      "11454/11454 [==============================] - 4s 322us/step - loss: 0.1495 - acc: 0.9102 - val_loss: 0.1671 - val_acc: 0.9015\n",
      "Epoch 45/60\n",
      "11454/11454 [==============================] - 4s 322us/step - loss: 0.1481 - acc: 0.9102 - val_loss: 0.1611 - val_acc: 0.9015\n",
      "Epoch 46/60\n",
      "11454/11454 [==============================] - 4s 350us/step - loss: 0.1458 - acc: 0.9102 - val_loss: 0.1595 - val_acc: 0.9015\n",
      "Epoch 47/60\n",
      "11454/11454 [==============================] - 4s 308us/step - loss: 0.1441 - acc: 0.9102 - val_loss: 0.1575 - val_acc: 0.9015\n",
      "Epoch 48/60\n",
      "11454/11454 [==============================] - 4s 307us/step - loss: 0.1432 - acc: 0.9131 - val_loss: 0.1570 - val_acc: 0.9377\n",
      "Epoch 49/60\n",
      "11454/11454 [==============================] - 3s 304us/step - loss: 0.1418 - acc: 0.9454 - val_loss: 0.1563 - val_acc: 0.9384\n",
      "Epoch 50/60\n",
      "11454/11454 [==============================] - 4s 306us/step - loss: 0.1403 - acc: 0.9452 - val_loss: 0.1556 - val_acc: 0.9380\n",
      "Epoch 51/60\n",
      "11454/11454 [==============================] - 3s 305us/step - loss: 0.1390 - acc: 0.9458 - val_loss: 0.1554 - val_acc: 0.9382\n",
      "Epoch 52/60\n",
      "11454/11454 [==============================] - 4s 306us/step - loss: 0.1384 - acc: 0.9448 - val_loss: 0.1534 - val_acc: 0.9384\n",
      "Epoch 53/60\n",
      "11454/11454 [==============================] - 3s 305us/step - loss: 0.1371 - acc: 0.9453 - val_loss: 0.1505 - val_acc: 0.9382\n",
      "Epoch 54/60\n",
      "11454/11454 [==============================] - 4s 306us/step - loss: 0.1363 - acc: 0.9455 - val_loss: 0.1525 - val_acc: 0.9385\n",
      "Epoch 55/60\n",
      "11454/11454 [==============================] - 4s 307us/step - loss: 0.1350 - acc: 0.9457 - val_loss: 0.1507 - val_acc: 0.9384\n"
     ]
    }
   ],
   "source": [
    "train_history =model.fit(x=train_Features, \n",
    "                         y=train_Label, \n",
    "                         validation_split=0.2, \n",
    "                         epochs=60, \n",
    "                         batch_size=1500,verbose=1,callbacks=[early_stopping])"
   ]
  },
  {
   "cell_type": "code",
   "execution_count": 80,
   "metadata": {
    "collapsed": true
   },
   "outputs": [],
   "source": [
    "import matplotlib.pyplot as plt\n",
    "def show_train_history(train_history,train,validation):\n",
    "    plt.plot(train_history.history[train])\n",
    "    plt.plot(train_history.history[validation])\n",
    "    plt.title('Train History')\n",
    "    plt.ylabel(train)\n",
    "    plt.xlabel('Epoch')\n",
    "    plt.legend(['train', 'validation'], loc='upper left')\n",
    "    plt.show()"
   ]
  },
  {
   "cell_type": "code",
   "execution_count": 81,
   "metadata": {
    "collapsed": false
   },
   "outputs": [
    {
     "data": {
      "image/png": "[encoded data removed]",
      "text/plain": [
       "<matplotlib.figure.Figure at 0x7f6bd77e9160>"
      ]
     },
     "metadata": {},
     "output_type": "display_data"
    }
   ],
   "source": [
    "show_train_history(train_history,'acc','val_acc')"
   ]
  },
  {
   "cell_type": "code",
   "execution_count": 82,
   "metadata": {
    "collapsed": false
   },
   "outputs": [
    {
     "data": {
      "image/png": "[encoded data removed]",
      "text/plain": [
       "<matplotlib.figure.Figure at 0x7f6bd81d3a20>"
      ]
     },
     "metadata": {},
     "output_type": "display_data"
    }
   ],
   "source": [
    "show_train_history(train_history,'loss','val_loss')"
   ]
  },
  {
   "cell_type": "code",
   "execution_count": 83,
   "metadata": {
    "collapsed": false
   },
   "outputs": [
    {
     "name": "stdout",
     "output_type": "stream",
     "text": [
      "3580/3580 [==============================] - 0s 104us/step\n"
     ]
    }
   ],
   "source": [
    "scores = model.evaluate(x=test_Features, \n",
    "                        y=test_Label)"
   ]
  },
  {
   "cell_type": "code",
   "execution_count": 84,
   "metadata": {
    "collapsed": false
   },
   "outputs": [
    {
     "data": {
      "text/plain": [
       "0.9446927373635702"
      ]
     },
     "execution_count": 84,
     "metadata": {},
     "output_type": "execute_result"
    }
   ],
   "source": [
    "scores[1]"
   ]
  }
 ],
 "metadata": {
  "anaconda-cloud": {},
  "kernelspec": {
   "display_name": "Python [default]",
   "language": "python",
   "name": "python3"
  },
  "language_info": {
   "codemirror_mode": {
    "name": "ipython",
    "version": 3
   },
   "file_extension": ".py",
   "mimetype": "text/x-python",
   "name": "python",
   "nbconvert_exporter": "python",
   "pygments_lexer": "ipython3",
   "version": "3.5.2"
  }
 },
 "nbformat": 4,
 "nbformat_minor": 1
}
