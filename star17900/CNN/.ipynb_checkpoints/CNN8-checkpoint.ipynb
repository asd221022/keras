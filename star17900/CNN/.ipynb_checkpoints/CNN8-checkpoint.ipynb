{
 "cells": [
  {
   "cell_type": "code",
   "execution_count": 40,
   "metadata": {
    "collapsed": false
   },
   "outputs": [],
   "source": [
    "import numpy \n",
    "import pandas as pd\n",
    "from sklearn.preprocessing import StandardScaler\n",
    "from sklearn.model_selection import train_test_split\n",
    "numpy.random.seed(10)"
   ]
  },
  {
   "cell_type": "code",
   "execution_count": 41,
   "metadata": {
    "collapsed": false
   },
   "outputs": [],
   "source": [
    "all_df = pd.read_csv(\"data/star.csv\")"
   ]
  },
  {
   "cell_type": "code",
   "execution_count": 42,
   "metadata": {
    "collapsed": false
   },
   "outputs": [
    {
     "data": {
      "text/html": [
       "<div>\n",
       "<table border=\"1\" class=\"dataframe\">\n",
       "  <thead>\n",
       "    <tr style=\"text-align: right;\">\n",
       "      <th></th>\n",
       "      <th>Mean of the integrated profile</th>\n",
       "      <th>Standard deviation of the integrated profile</th>\n",
       "      <th>Excess kurtosis of the integrated profile</th>\n",
       "      <th>Skewness of the integrated profile</th>\n",
       "      <th>Mean of the DM-SNR curve</th>\n",
       "      <th>Standard deviation of the DM-SNR curve</th>\n",
       "      <th>Excess kurtosis of the DM-SNR curve</th>\n",
       "      <th>Skewness of the DM-SNR curve</th>\n",
       "      <th>target_class</th>\n",
       "    </tr>\n",
       "  </thead>\n",
       "  <tbody>\n",
       "    <tr>\n",
       "      <th>0</th>\n",
       "      <td>140.562500</td>\n",
       "      <td>55.683782</td>\n",
       "      <td>-0.234571</td>\n",
       "      <td>-0.699648</td>\n",
       "      <td>3.199833</td>\n",
       "      <td>19.110426</td>\n",
       "      <td>7.975532</td>\n",
       "      <td>74.242225</td>\n",
       "      <td>0</td>\n",
       "    </tr>\n",
       "    <tr>\n",
       "      <th>1</th>\n",
       "      <td>102.507812</td>\n",
       "      <td>58.882430</td>\n",
       "      <td>0.465318</td>\n",
       "      <td>-0.515088</td>\n",
       "      <td>1.677258</td>\n",
       "      <td>14.860146</td>\n",
       "      <td>10.576487</td>\n",
       "      <td>127.393580</td>\n",
       "      <td>0</td>\n",
       "    </tr>\n",
       "    <tr>\n",
       "      <th>2</th>\n",
       "      <td>103.015625</td>\n",
       "      <td>39.341649</td>\n",
       "      <td>0.323328</td>\n",
       "      <td>1.051164</td>\n",
       "      <td>3.121237</td>\n",
       "      <td>21.744669</td>\n",
       "      <td>7.735822</td>\n",
       "      <td>63.171909</td>\n",
       "      <td>0</td>\n",
       "    </tr>\n",
       "    <tr>\n",
       "      <th>3</th>\n",
       "      <td>136.750000</td>\n",
       "      <td>57.178449</td>\n",
       "      <td>-0.068415</td>\n",
       "      <td>-0.636238</td>\n",
       "      <td>3.642977</td>\n",
       "      <td>20.959280</td>\n",
       "      <td>6.896499</td>\n",
       "      <td>53.593661</td>\n",
       "      <td>0</td>\n",
       "    </tr>\n",
       "    <tr>\n",
       "      <th>4</th>\n",
       "      <td>88.726562</td>\n",
       "      <td>40.672225</td>\n",
       "      <td>0.600866</td>\n",
       "      <td>1.123492</td>\n",
       "      <td>1.178930</td>\n",
       "      <td>11.468720</td>\n",
       "      <td>14.269573</td>\n",
       "      <td>252.567306</td>\n",
       "      <td>0</td>\n",
       "    </tr>\n",
       "  </tbody>\n",
       "</table>\n",
       "</div>"
      ],
      "text/plain": [
       "    Mean of the integrated profile  \\\n",
       "0                       140.562500   \n",
       "1                       102.507812   \n",
       "2                       103.015625   \n",
       "3                       136.750000   \n",
       "4                        88.726562   \n",
       "\n",
       "    Standard deviation of the integrated profile  \\\n",
       "0                                      55.683782   \n",
       "1                                      58.882430   \n",
       "2                                      39.341649   \n",
       "3                                      57.178449   \n",
       "4                                      40.672225   \n",
       "\n",
       "    Excess kurtosis of the integrated profile  \\\n",
       "0                                   -0.234571   \n",
       "1                                    0.465318   \n",
       "2                                    0.323328   \n",
       "3                                   -0.068415   \n",
       "4                                    0.600866   \n",
       "\n",
       "    Skewness of the integrated profile   Mean of the DM-SNR curve  \\\n",
       "0                            -0.699648                   3.199833   \n",
       "1                            -0.515088                   1.677258   \n",
       "2                             1.051164                   3.121237   \n",
       "3                            -0.636238                   3.642977   \n",
       "4                             1.123492                   1.178930   \n",
       "\n",
       "    Standard deviation of the DM-SNR curve  \\\n",
       "0                                19.110426   \n",
       "1                                14.860146   \n",
       "2                                21.744669   \n",
       "3                                20.959280   \n",
       "4                                11.468720   \n",
       "\n",
       "    Excess kurtosis of the DM-SNR curve   Skewness of the DM-SNR curve  \\\n",
       "0                              7.975532                      74.242225   \n",
       "1                             10.576487                     127.393580   \n",
       "2                              7.735822                      63.171909   \n",
       "3                              6.896499                      53.593661   \n",
       "4                             14.269573                     252.567306   \n",
       "\n",
       "   target_class  \n",
       "0             0  \n",
       "1             0  \n",
       "2             0  \n",
       "3             0  \n",
       "4             0  "
      ]
     },
     "execution_count": 42,
     "metadata": {},
     "output_type": "execute_result"
    }
   ],
   "source": [
    "all_df[:5]"
   ]
  },
  {
   "cell_type": "code",
   "execution_count": 43,
   "metadata": {
    "collapsed": true
   },
   "outputs": [],
   "source": [
    "X=all_df.drop(['target_class'], axis=1).values.astype('float64')"
   ]
  },
  {
   "cell_type": "code",
   "execution_count": 44,
   "metadata": {
    "collapsed": true
   },
   "outputs": [],
   "source": [
    "Y = all_df['target_class'].values.astype('int64')"
   ]
  },
  {
   "cell_type": "code",
   "execution_count": 45,
   "metadata": {
    "collapsed": false
   },
   "outputs": [
    {
     "data": {
      "text/plain": [
       "14318"
      ]
     },
     "execution_count": 45,
     "metadata": {},
     "output_type": "execute_result"
    }
   ],
   "source": [
    "X = StandardScaler().fit_transform(X)\n",
    "train_Features, test_Features, train_Label, test_Label = train_test_split(X, Y, test_size=0.2, random_state=True) \n",
    "len(train_Features)"
   ]
  },
  {
   "cell_type": "code",
   "execution_count": 46,
   "metadata": {
    "collapsed": false
   },
   "outputs": [
    {
     "data": {
      "text/plain": [
       "(17898, 8)"
      ]
     },
     "execution_count": 46,
     "metadata": {},
     "output_type": "execute_result"
    }
   ],
   "source": [
    "X.shape"
   ]
  },
  {
   "cell_type": "code",
   "execution_count": 47,
   "metadata": {
    "collapsed": true
   },
   "outputs": [],
   "source": [
    "train_Features = train_Features.reshape((train_Features.shape[0], train_Features.shape[1], 1))"
   ]
  },
  {
   "cell_type": "code",
   "execution_count": 48,
   "metadata": {
    "collapsed": true
   },
   "outputs": [],
   "source": [
    "test_Features = test_Features.reshape((test_Features.shape[0], test_Features.shape[1], 1))"
   ]
  },
  {
   "cell_type": "code",
   "execution_count": 49,
   "metadata": {
    "collapsed": false
   },
   "outputs": [],
   "source": [
    "from keras.utils import np_utils\n",
    "train_Label = train_Label.reshape(train_Label.shape[0], 1)\n",
    "test_Label= test_Label.reshape(test_Label.shape[0], 1)\n",
    "train_Label=np_utils.to_categorical(train_Label)\n",
    "test_Label=np_utils.to_categorical(test_Label)"
   ]
  },
  {
   "cell_type": "code",
   "execution_count": 50,
   "metadata": {
    "collapsed": false
   },
   "outputs": [],
   "source": [
    "from keras.models import Sequential\n",
    "from keras.layers import Dense,Dropout,Flatten,Conv1D,MaxPooling1D\n",
    "from keras.layers.embeddings import Embedding\n",
    "from keras.callbacks import EarlyStopping\n",
    "early_stopping = EarlyStopping(monitor='val_loss', patience=2)"
   ]
  },
  {
   "cell_type": "code",
   "execution_count": 51,
   "metadata": {
    "collapsed": true
   },
   "outputs": [],
   "source": [
    "model = Sequential()"
   ]
  },
  {
   "cell_type": "code",
   "execution_count": 52,
   "metadata": {
    "collapsed": true
   },
   "outputs": [],
   "source": [
    "model.add(Conv1D(filters=16*8,\n",
    "                 kernel_size=1,\n",
    "                 input_shape=(8,1),\n",
    "                 padding='valid',\n",
    "                 activation='relu'))"
   ]
  },
  {
   "cell_type": "code",
   "execution_count": 53,
   "metadata": {
    "collapsed": true
   },
   "outputs": [],
   "source": [
    "model.add(MaxPooling1D(pool_size=1))"
   ]
  },
  {
   "cell_type": "code",
   "execution_count": 54,
   "metadata": {
    "collapsed": true
   },
   "outputs": [],
   "source": [
    "model.add(Conv1D(filters=16*7,\n",
    "                 kernel_size=1,\n",
    "                 padding='valid',\n",
    "                 activation='relu'))"
   ]
  },
  {
   "cell_type": "code",
   "execution_count": 55,
   "metadata": {
    "collapsed": true
   },
   "outputs": [],
   "source": [
    "model.add(MaxPooling1D(pool_size=1))"
   ]
  },
  {
   "cell_type": "code",
   "execution_count": 56,
   "metadata": {
    "collapsed": true
   },
   "outputs": [],
   "source": [
    "model.add(Conv1D(filters=16*6,\n",
    "                 kernel_size=1,\n",
    "                 padding='valid',\n",
    "                 activation='relu'))"
   ]
  },
  {
   "cell_type": "code",
   "execution_count": 57,
   "metadata": {
    "collapsed": true
   },
   "outputs": [],
   "source": [
    "model.add(MaxPooling1D(pool_size=1))"
   ]
  },
  {
   "cell_type": "code",
   "execution_count": 58,
   "metadata": {
    "collapsed": true
   },
   "outputs": [],
   "source": [
    "model.add(Conv1D(filters=16*5,\n",
    "                 kernel_size=1,\n",
    "                 padding='valid',\n",
    "                 activation='relu'))"
   ]
  },
  {
   "cell_type": "code",
   "execution_count": 59,
   "metadata": {
    "collapsed": true
   },
   "outputs": [],
   "source": [
    "model.add(MaxPooling1D(pool_size=1))"
   ]
  },
  {
   "cell_type": "code",
   "execution_count": 60,
   "metadata": {
    "collapsed": false
   },
   "outputs": [],
   "source": [
    "model.add(Conv1D(filters=16*4,\n",
    "                 kernel_size=1,\n",
    "                 padding='valid',\n",
    "                 activation='relu'))"
   ]
  },
  {
   "cell_type": "code",
   "execution_count": 61,
   "metadata": {
    "collapsed": true
   },
   "outputs": [],
   "source": [
    "model.add(MaxPooling1D(pool_size=1))"
   ]
  },
  {
   "cell_type": "code",
   "execution_count": 62,
   "metadata": {
    "collapsed": true
   },
   "outputs": [],
   "source": [
    "model.add(Conv1D(filters=16*3,\n",
    "                 kernel_size=1,\n",
    "                 padding='valid',\n",
    "                 activation='relu'))"
   ]
  },
  {
   "cell_type": "code",
   "execution_count": 63,
   "metadata": {
    "collapsed": true
   },
   "outputs": [],
   "source": [
    "model.add(MaxPooling1D(pool_size=1))"
   ]
  },
  {
   "cell_type": "code",
   "execution_count": 64,
   "metadata": {
    "collapsed": true
   },
   "outputs": [],
   "source": [
    "model.add(Conv1D(filters=16*2,\n",
    "                 kernel_size=1,\n",
    "                 padding='valid',\n",
    "                 activation='relu'))"
   ]
  },
  {
   "cell_type": "code",
   "execution_count": 65,
   "metadata": {
    "collapsed": true
   },
   "outputs": [],
   "source": [
    "model.add(MaxPooling1D(pool_size=1))"
   ]
  },
  {
   "cell_type": "code",
   "execution_count": 66,
   "metadata": {
    "collapsed": true
   },
   "outputs": [],
   "source": [
    "model.add(Conv1D(filters=16,\n",
    "                 kernel_size=1,\n",
    "                 padding='valid',\n",
    "                 activation='relu'))"
   ]
  },
  {
   "cell_type": "code",
   "execution_count": 67,
   "metadata": {
    "collapsed": true
   },
   "outputs": [],
   "source": [
    "model.add(MaxPooling1D(pool_size=1))"
   ]
  },
  {
   "cell_type": "code",
   "execution_count": 68,
   "metadata": {
    "collapsed": true
   },
   "outputs": [],
   "source": [
    "model.add(Flatten())"
   ]
  },
  {
   "cell_type": "code",
   "execution_count": 69,
   "metadata": {
    "collapsed": true
   },
   "outputs": [],
   "source": [
    "model.add(Dense(8, activation='tanh'))"
   ]
  },
  {
   "cell_type": "code",
   "execution_count": 70,
   "metadata": {
    "collapsed": true
   },
   "outputs": [],
   "source": [
    "model.add(Dense(2,activation='sigmoid'))"
   ]
  },
  {
   "cell_type": "code",
   "execution_count": 71,
   "metadata": {
    "collapsed": false
   },
   "outputs": [
    {
     "name": "stdout",
     "output_type": "stream",
     "text": [
      "_________________________________________________________________\n",
      "Layer (type)                 Output Shape              Param #   \n",
      "=================================================================\n",
      "conv1d_9 (Conv1D)            (None, 8, 128)            256       \n",
      "_________________________________________________________________\n",
      "max_pooling1d_9 (MaxPooling1 (None, 8, 128)            0         \n",
      "_________________________________________________________________\n",
      "conv1d_10 (Conv1D)           (None, 8, 112)            14448     \n",
      "_________________________________________________________________\n",
      "max_pooling1d_10 (MaxPooling (None, 8, 112)            0         \n",
      "_________________________________________________________________\n",
      "conv1d_11 (Conv1D)           (None, 8, 96)             10848     \n",
      "_________________________________________________________________\n",
      "max_pooling1d_11 (MaxPooling (None, 8, 96)             0         \n",
      "_________________________________________________________________\n",
      "conv1d_12 (Conv1D)           (None, 8, 80)             7760      \n",
      "_________________________________________________________________\n",
      "max_pooling1d_12 (MaxPooling (None, 8, 80)             0         \n",
      "_________________________________________________________________\n",
      "conv1d_13 (Conv1D)           (None, 8, 64)             5184      \n",
      "_________________________________________________________________\n",
      "max_pooling1d_13 (MaxPooling (None, 8, 64)             0         \n",
      "_________________________________________________________________\n",
      "conv1d_14 (Conv1D)           (None, 8, 48)             3120      \n",
      "_________________________________________________________________\n",
      "max_pooling1d_14 (MaxPooling (None, 8, 48)             0         \n",
      "_________________________________________________________________\n",
      "conv1d_15 (Conv1D)           (None, 8, 32)             1568      \n",
      "_________________________________________________________________\n",
      "max_pooling1d_15 (MaxPooling (None, 8, 32)             0         \n",
      "_________________________________________________________________\n",
      "conv1d_16 (Conv1D)           (None, 8, 16)             528       \n",
      "_________________________________________________________________\n",
      "max_pooling1d_16 (MaxPooling (None, 8, 16)             0         \n",
      "_________________________________________________________________\n",
      "flatten_2 (Flatten)          (None, 128)               0         \n",
      "_________________________________________________________________\n",
      "dense_3 (Dense)              (None, 8)                 1032      \n",
      "_________________________________________________________________\n",
      "dense_4 (Dense)              (None, 2)                 18        \n",
      "=================================================================\n",
      "Total params: 44,762\n",
      "Trainable params: 44,762\n",
      "Non-trainable params: 0\n",
      "_________________________________________________________________\n"
     ]
    }
   ],
   "source": [
    "model.summary()"
   ]
  },
  {
   "cell_type": "code",
   "execution_count": 72,
   "metadata": {
    "collapsed": false
   },
   "outputs": [],
   "source": [
    "model.compile(loss='binary_crossentropy', \n",
    "              optimizer='adam', metrics=['accuracy'])"
   ]
  },
  {
   "cell_type": "code",
   "execution_count": 73,
   "metadata": {
    "collapsed": false
   },
   "outputs": [
    {
     "name": "stdout",
     "output_type": "stream",
     "text": [
      "Train on 11454 samples, validate on 2864 samples\n",
      "Epoch 1/60\n",
      "11454/11454 [==============================] - 8s 681us/step - loss: 0.6683 - acc: 0.9053 - val_loss: 0.6177 - val_acc: 0.9035\n",
      "Epoch 2/60\n",
      "11454/11454 [==============================] - 5s 453us/step - loss: 0.5423 - acc: 0.9104 - val_loss: 0.4206 - val_acc: 0.9015\n",
      "Epoch 3/60\n",
      "11454/11454 [==============================] - 5s 453us/step - loss: 0.3402 - acc: 0.9118 - val_loss: 0.2772 - val_acc: 0.9145\n",
      "Epoch 4/60\n",
      "11454/11454 [==============================] - 5s 455us/step - loss: 0.2280 - acc: 0.9415 - val_loss: 0.2064 - val_acc: 0.9564\n",
      "Epoch 5/60\n",
      "11454/11454 [==============================] - 5s 478us/step - loss: 0.1827 - acc: 0.9666 - val_loss: 0.1746 - val_acc: 0.9658\n",
      "Epoch 6/60\n",
      "11454/11454 [==============================] - 5s 471us/step - loss: 0.1568 - acc: 0.9688 - val_loss: 0.1590 - val_acc: 0.9674\n",
      "Epoch 7/60\n",
      "11454/11454 [==============================] - 6s 499us/step - loss: 0.1461 - acc: 0.9705 - val_loss: 0.1526 - val_acc: 0.9717\n",
      "Epoch 8/60\n",
      "11454/11454 [==============================] - 6s 553us/step - loss: 0.1384 - acc: 0.9734 - val_loss: 0.1488 - val_acc: 0.9733\n",
      "Epoch 9/60\n",
      "11454/11454 [==============================] - 5s 472us/step - loss: 0.1331 - acc: 0.9746 - val_loss: 0.1442 - val_acc: 0.9743\n",
      "Epoch 10/60\n",
      "11454/11454 [==============================] - 6s 559us/step - loss: 0.1287 - acc: 0.9756 - val_loss: 0.1419 - val_acc: 0.9738\n",
      "Epoch 11/60\n",
      "11454/11454 [==============================] - 7s 603us/step - loss: 0.1252 - acc: 0.9756 - val_loss: 0.1388 - val_acc: 0.9738\n",
      "Epoch 12/60\n",
      "11454/11454 [==============================] - 6s 512us/step - loss: 0.1219 - acc: 0.9765 - val_loss: 0.1359 - val_acc: 0.9736\n",
      "Epoch 13/60\n",
      "11454/11454 [==============================] - 6s 485us/step - loss: 0.1182 - acc: 0.9771 - val_loss: 0.1339 - val_acc: 0.9731\n",
      "Epoch 14/60\n",
      "11454/11454 [==============================] - 6s 481us/step - loss: 0.1154 - acc: 0.9771 - val_loss: 0.1306 - val_acc: 0.9728\n",
      "Epoch 15/60\n",
      "11454/11454 [==============================] - 6s 482us/step - loss: 0.1125 - acc: 0.9781 - val_loss: 0.1293 - val_acc: 0.9731\n",
      "Epoch 16/60\n",
      "11454/11454 [==============================] - 6s 486us/step - loss: 0.1096 - acc: 0.9789 - val_loss: 0.1276 - val_acc: 0.9726\n",
      "Epoch 17/60\n",
      "11454/11454 [==============================] - 6s 513us/step - loss: 0.1075 - acc: 0.9790 - val_loss: 0.1264 - val_acc: 0.9724\n",
      "Epoch 18/60\n",
      "11454/11454 [==============================] - 6s 483us/step - loss: 0.1057 - acc: 0.9794 - val_loss: 0.1251 - val_acc: 0.9728\n",
      "Epoch 19/60\n",
      "11454/11454 [==============================] - 6s 481us/step - loss: 0.1049 - acc: 0.9786 - val_loss: 0.1236 - val_acc: 0.9731\n",
      "Epoch 20/60\n",
      "11454/11454 [==============================] - 6s 489us/step - loss: 0.1035 - acc: 0.9791 - val_loss: 0.1206 - val_acc: 0.9719\n",
      "Epoch 21/60\n",
      "11454/11454 [==============================] - 6s 486us/step - loss: 0.1013 - acc: 0.9797 - val_loss: 0.1219 - val_acc: 0.9735\n",
      "Epoch 22/60\n",
      "11454/11454 [==============================] - 6s 492us/step - loss: 0.1003 - acc: 0.9793 - val_loss: 0.1188 - val_acc: 0.9714\n",
      "Epoch 23/60\n",
      "11454/11454 [==============================] - 5s 478us/step - loss: 0.0994 - acc: 0.9788 - val_loss: 0.1176 - val_acc: 0.9733\n",
      "Epoch 24/60\n",
      "11454/11454 [==============================] - 5s 478us/step - loss: 0.0974 - acc: 0.9797 - val_loss: 0.1161 - val_acc: 0.9728\n",
      "Epoch 25/60\n",
      "11454/11454 [==============================] - 6s 531us/step - loss: 0.0963 - acc: 0.9802 - val_loss: 0.1154 - val_acc: 0.9729\n",
      "Epoch 26/60\n",
      "11454/11454 [==============================] - 10s 840us/step - loss: 0.0952 - acc: 0.9804 - val_loss: 0.1139 - val_acc: 0.9735\n",
      "Epoch 27/60\n",
      "11454/11454 [==============================] - 8s 699us/step - loss: 0.0942 - acc: 0.9802 - val_loss: 0.1134 - val_acc: 0.9731\n",
      "Epoch 28/60\n",
      "11454/11454 [==============================] - 6s 509us/step - loss: 0.0933 - acc: 0.9798 - val_loss: 0.1118 - val_acc: 0.9738\n",
      "Epoch 29/60\n",
      "11454/11454 [==============================] - 6s 494us/step - loss: 0.0927 - acc: 0.9804 - val_loss: 0.1121 - val_acc: 0.9742\n",
      "Epoch 30/60\n",
      "11454/11454 [==============================] - 6s 501us/step - loss: 0.0915 - acc: 0.9804 - val_loss: 0.1094 - val_acc: 0.9735\n",
      "Epoch 31/60\n",
      "11454/11454 [==============================] - 6s 509us/step - loss: 0.0907 - acc: 0.9803 - val_loss: 0.1090 - val_acc: 0.9736\n",
      "Epoch 32/60\n",
      "11454/11454 [==============================] - 6s 499us/step - loss: 0.0895 - acc: 0.9808 - val_loss: 0.1091 - val_acc: 0.9742\n",
      "Epoch 33/60\n",
      "11454/11454 [==============================] - 6s 490us/step - loss: 0.0886 - acc: 0.9812 - val_loss: 0.1067 - val_acc: 0.9745\n",
      "Epoch 34/60\n",
      "11454/11454 [==============================] - 6s 500us/step - loss: 0.0877 - acc: 0.9814 - val_loss: 0.1060 - val_acc: 0.9749\n",
      "Epoch 35/60\n",
      "11454/11454 [==============================] - 6s 498us/step - loss: 0.0872 - acc: 0.9809 - val_loss: 0.1051 - val_acc: 0.9745\n",
      "Epoch 36/60\n",
      "11454/11454 [==============================] - 6s 511us/step - loss: 0.0867 - acc: 0.9810 - val_loss: 0.1055 - val_acc: 0.9719\n",
      "Epoch 37/60\n",
      "11454/11454 [==============================] - 6s 489us/step - loss: 0.0870 - acc: 0.9807 - val_loss: 0.1045 - val_acc: 0.9729\n",
      "Epoch 38/60\n",
      "11454/11454 [==============================] - 6s 507us/step - loss: 0.0850 - acc: 0.9818 - val_loss: 0.1043 - val_acc: 0.9747\n",
      "Epoch 39/60\n",
      "11454/11454 [==============================] - 6s 505us/step - loss: 0.0844 - acc: 0.9815 - val_loss: 0.1012 - val_acc: 0.9743\n",
      "Epoch 40/60\n",
      "11454/11454 [==============================] - 6s 513us/step - loss: 0.0836 - acc: 0.9813 - val_loss: 0.1037 - val_acc: 0.9750\n",
      "Epoch 41/60\n",
      "11454/11454 [==============================] - 6s 501us/step - loss: 0.0834 - acc: 0.9813 - val_loss: 0.1010 - val_acc: 0.9750\n",
      "Epoch 42/60\n",
      "11454/11454 [==============================] - 6s 495us/step - loss: 0.0827 - acc: 0.9813 - val_loss: 0.0997 - val_acc: 0.9749\n",
      "Epoch 43/60\n",
      "11454/11454 [==============================] - 6s 502us/step - loss: 0.0826 - acc: 0.9817 - val_loss: 0.1002 - val_acc: 0.9735\n",
      "Epoch 44/60\n",
      "11454/11454 [==============================] - 6s 501us/step - loss: 0.0816 - acc: 0.9816 - val_loss: 0.0983 - val_acc: 0.9747\n",
      "Epoch 45/60\n",
      "11454/11454 [==============================] - 6s 551us/step - loss: 0.0811 - acc: 0.9818 - val_loss: 0.0986 - val_acc: 0.9756\n",
      "Epoch 46/60\n",
      "11454/11454 [==============================] - 8s 686us/step - loss: 0.0807 - acc: 0.9819 - val_loss: 0.0999 - val_acc: 0.9752\n"
     ]
    }
   ],
   "source": [
    "train_history =model.fit(x=train_Features, \n",
    "                         y=train_Label, \n",
    "                         validation_split=0.2, \n",
    "                         epochs=60, \n",
    "                         batch_size=1500,verbose=1,callbacks=[early_stopping])"
   ]
  },
  {
   "cell_type": "code",
   "execution_count": 74,
   "metadata": {
    "collapsed": true
   },
   "outputs": [],
   "source": [
    "import matplotlib.pyplot as plt\n",
    "def show_train_history(train_history,train,validation):\n",
    "    plt.plot(train_history.history[train])\n",
    "    plt.plot(train_history.history[validation])\n",
    "    plt.title('Train History')\n",
    "    plt.ylabel(train)\n",
    "    plt.xlabel('Epoch')\n",
    "    plt.legend(['train', 'validation'], loc='upper left')\n",
    "    plt.show()"
   ]
  },
  {
   "cell_type": "code",
   "execution_count": 75,
   "metadata": {
    "collapsed": false
   },
   "outputs": [
    {
     "data": {
      "image/png": "[encoded data removed]",
      "text/plain": [
       "<matplotlib.figure.Figure at 0x7f4e278bdb38>"
      ]
     },
     "metadata": {},
     "output_type": "display_data"
    }
   ],
   "source": [
    "show_train_history(train_history,'acc','val_acc')"
   ]
  },
  {
   "cell_type": "code",
   "execution_count": 76,
   "metadata": {
    "collapsed": false
   },
   "outputs": [
    {
     "data": {
      "image/png": "[encoded data removed]",
      "text/plain": [
       "<matplotlib.figure.Figure at 0x7f4e278600f0>"
      ]
     },
     "metadata": {},
     "output_type": "display_data"
    }
   ],
   "source": [
    "show_train_history(train_history,'loss','val_loss')"
   ]
  },
  {
   "cell_type": "code",
   "execution_count": 77,
   "metadata": {
    "collapsed": false
   },
   "outputs": [
    {
     "name": "stdout",
     "output_type": "stream",
     "text": [
      "3580/3580 [==============================] - 1s 257us/step\n"
     ]
    }
   ],
   "source": [
    "scores = model.evaluate(x=test_Features, \n",
    "                        y=test_Label)"
   ]
  },
  {
   "cell_type": "code",
   "execution_count": 78,
   "metadata": {
    "collapsed": false
   },
   "outputs": [
    {
     "data": {
      "text/plain": [
       "0.9798882679566325"
      ]
     },
     "execution_count": 78,
     "metadata": {},
     "output_type": "execute_result"
    }
   ],
   "source": [
    "scores[1]"
   ]
  }
 ],
 "metadata": {
  "anaconda-cloud": {},
  "kernelspec": {
   "display_name": "Python [default]",
   "language": "python",
   "name": "python3"
  },
  "language_info": {
   "codemirror_mode": {
    "name": "ipython",
    "version": 3
   },
   "file_extension": ".py",
   "mimetype": "text/x-python",
   "name": "python",
   "nbconvert_exporter": "python",
   "pygments_lexer": "ipython3",
   "version": "3.5.2"
  }
 },
 "nbformat": 4,
 "nbformat_minor": 1
}
