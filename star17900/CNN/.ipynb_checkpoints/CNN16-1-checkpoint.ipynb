{
 "cells": [
  {
   "cell_type": "code",
   "execution_count": 1,
   "metadata": {
    "collapsed": false
   },
   "outputs": [],
   "source": [
    "import numpy \n",
    "import pandas as pd\n",
    "from sklearn.preprocessing import StandardScaler\n",
    "from sklearn.model_selection import train_test_split\n",
    "numpy.random.seed(10)"
   ]
  },
  {
   "cell_type": "code",
   "execution_count": 2,
   "metadata": {
    "collapsed": false
   },
   "outputs": [],
   "source": [
    "all_df = pd.read_csv(\"star.csv\")"
   ]
  },
  {
   "cell_type": "code",
   "execution_count": 3,
   "metadata": {
    "collapsed": false
   },
   "outputs": [
    {
     "data": {
      "text/html": [
       "<div>\n",
       "<table border=\"1\" class=\"dataframe\">\n",
       "  <thead>\n",
       "    <tr style=\"text-align: right;\">\n",
       "      <th></th>\n",
       "      <th>Mean of the integrated profile</th>\n",
       "      <th>Standard deviation of the integrated profile</th>\n",
       "      <th>Excess kurtosis of the integrated profile</th>\n",
       "      <th>Skewness of the integrated profile</th>\n",
       "      <th>Mean of the DM-SNR curve</th>\n",
       "      <th>Standard deviation of the DM-SNR curve</th>\n",
       "      <th>Excess kurtosis of the DM-SNR curve</th>\n",
       "      <th>Skewness of the DM-SNR curve</th>\n",
       "      <th>target_class</th>\n",
       "    </tr>\n",
       "  </thead>\n",
       "  <tbody>\n",
       "    <tr>\n",
       "      <th>0</th>\n",
       "      <td>140.562500</td>\n",
       "      <td>55.683782</td>\n",
       "      <td>-0.234571</td>\n",
       "      <td>-0.699648</td>\n",
       "      <td>3.199833</td>\n",
       "      <td>19.110426</td>\n",
       "      <td>7.975532</td>\n",
       "      <td>74.242225</td>\n",
       "      <td>0</td>\n",
       "    </tr>\n",
       "    <tr>\n",
       "      <th>1</th>\n",
       "      <td>102.507812</td>\n",
       "      <td>58.882430</td>\n",
       "      <td>0.465318</td>\n",
       "      <td>-0.515088</td>\n",
       "      <td>1.677258</td>\n",
       "      <td>14.860146</td>\n",
       "      <td>10.576487</td>\n",
       "      <td>127.393580</td>\n",
       "      <td>0</td>\n",
       "    </tr>\n",
       "    <tr>\n",
       "      <th>2</th>\n",
       "      <td>103.015625</td>\n",
       "      <td>39.341649</td>\n",
       "      <td>0.323328</td>\n",
       "      <td>1.051164</td>\n",
       "      <td>3.121237</td>\n",
       "      <td>21.744669</td>\n",
       "      <td>7.735822</td>\n",
       "      <td>63.171909</td>\n",
       "      <td>0</td>\n",
       "    </tr>\n",
       "    <tr>\n",
       "      <th>3</th>\n",
       "      <td>136.750000</td>\n",
       "      <td>57.178449</td>\n",
       "      <td>-0.068415</td>\n",
       "      <td>-0.636238</td>\n",
       "      <td>3.642977</td>\n",
       "      <td>20.959280</td>\n",
       "      <td>6.896499</td>\n",
       "      <td>53.593661</td>\n",
       "      <td>0</td>\n",
       "    </tr>\n",
       "    <tr>\n",
       "      <th>4</th>\n",
       "      <td>88.726562</td>\n",
       "      <td>40.672225</td>\n",
       "      <td>0.600866</td>\n",
       "      <td>1.123492</td>\n",
       "      <td>1.178930</td>\n",
       "      <td>11.468720</td>\n",
       "      <td>14.269573</td>\n",
       "      <td>252.567306</td>\n",
       "      <td>0</td>\n",
       "    </tr>\n",
       "  </tbody>\n",
       "</table>\n",
       "</div>"
      ],
      "text/plain": [
       "    Mean of the integrated profile  \\\n",
       "0                       140.562500   \n",
       "1                       102.507812   \n",
       "2                       103.015625   \n",
       "3                       136.750000   \n",
       "4                        88.726562   \n",
       "\n",
       "    Standard deviation of the integrated profile  \\\n",
       "0                                      55.683782   \n",
       "1                                      58.882430   \n",
       "2                                      39.341649   \n",
       "3                                      57.178449   \n",
       "4                                      40.672225   \n",
       "\n",
       "    Excess kurtosis of the integrated profile  \\\n",
       "0                                   -0.234571   \n",
       "1                                    0.465318   \n",
       "2                                    0.323328   \n",
       "3                                   -0.068415   \n",
       "4                                    0.600866   \n",
       "\n",
       "    Skewness of the integrated profile   Mean of the DM-SNR curve  \\\n",
       "0                            -0.699648                   3.199833   \n",
       "1                            -0.515088                   1.677258   \n",
       "2                             1.051164                   3.121237   \n",
       "3                            -0.636238                   3.642977   \n",
       "4                             1.123492                   1.178930   \n",
       "\n",
       "    Standard deviation of the DM-SNR curve  \\\n",
       "0                                19.110426   \n",
       "1                                14.860146   \n",
       "2                                21.744669   \n",
       "3                                20.959280   \n",
       "4                                11.468720   \n",
       "\n",
       "    Excess kurtosis of the DM-SNR curve   Skewness of the DM-SNR curve  \\\n",
       "0                              7.975532                      74.242225   \n",
       "1                             10.576487                     127.393580   \n",
       "2                              7.735822                      63.171909   \n",
       "3                              6.896499                      53.593661   \n",
       "4                             14.269573                     252.567306   \n",
       "\n",
       "   target_class  \n",
       "0             0  \n",
       "1             0  \n",
       "2             0  \n",
       "3             0  \n",
       "4             0  "
      ]
     },
     "execution_count": 3,
     "metadata": {},
     "output_type": "execute_result"
    }
   ],
   "source": [
    "all_df[:5]"
   ]
  },
  {
   "cell_type": "code",
   "execution_count": 4,
   "metadata": {
    "collapsed": true
   },
   "outputs": [],
   "source": [
    "X=all_df.drop(['target_class'], axis=1).values.astype('float64')"
   ]
  },
  {
   "cell_type": "code",
   "execution_count": 5,
   "metadata": {
    "collapsed": true
   },
   "outputs": [],
   "source": [
    "Y = all_df['target_class'].values.astype('int64')"
   ]
  },
  {
   "cell_type": "code",
   "execution_count": 6,
   "metadata": {
    "collapsed": false
   },
   "outputs": [
    {
     "data": {
      "text/plain": [
       "14318"
      ]
     },
     "execution_count": 6,
     "metadata": {},
     "output_type": "execute_result"
    }
   ],
   "source": [
    "X = StandardScaler().fit_transform(X)\n",
    "train_Features, test_Features, train_Label, test_Label = train_test_split(X, Y, test_size=0.2, random_state=True) \n",
    "len(train_Features)"
   ]
  },
  {
   "cell_type": "code",
   "execution_count": 7,
   "metadata": {
    "collapsed": false
   },
   "outputs": [
    {
     "data": {
      "text/plain": [
       "(17898, 8)"
      ]
     },
     "execution_count": 7,
     "metadata": {},
     "output_type": "execute_result"
    }
   ],
   "source": [
    "X.shape"
   ]
  },
  {
   "cell_type": "code",
   "execution_count": 8,
   "metadata": {
    "collapsed": true
   },
   "outputs": [],
   "source": [
    "train_Features = train_Features.reshape((train_Features.shape[0], train_Features.shape[1], 1))"
   ]
  },
  {
   "cell_type": "code",
   "execution_count": 9,
   "metadata": {
    "collapsed": true
   },
   "outputs": [],
   "source": [
    "test_Features = test_Features.reshape((test_Features.shape[0], test_Features.shape[1], 1))"
   ]
  },
  {
   "cell_type": "code",
   "execution_count": 10,
   "metadata": {
    "collapsed": false
   },
   "outputs": [
    {
     "name": "stderr",
     "output_type": "stream",
     "text": [
      "Using TensorFlow backend.\n"
     ]
    }
   ],
   "source": [
    "from keras.models import Sequential\n",
    "from keras.layers import Dense,Dropout,Flatten,Conv1D,MaxPooling1D\n",
    "from keras.layers.embeddings import Embedding\n",
    "from keras.callbacks import EarlyStopping\n",
    "early_stopping = EarlyStopping(monitor='val_loss', patience=2)"
   ]
  },
  {
   "cell_type": "code",
   "execution_count": 11,
   "metadata": {
    "collapsed": true
   },
   "outputs": [],
   "source": [
    "model = Sequential()"
   ]
  },
  {
   "cell_type": "code",
   "execution_count": 12,
   "metadata": {
    "collapsed": true
   },
   "outputs": [],
   "source": [
    "model.add(Conv1D(filters=16,\n",
    "                 kernel_size=1,\n",
    "                 input_shape=(8,1),\n",
    "                 padding='valid',\n",
    "                 activation='relu'))"
   ]
  },
  {
   "cell_type": "code",
   "execution_count": 13,
   "metadata": {
    "collapsed": true
   },
   "outputs": [],
   "source": [
    "model.add(MaxPooling1D(pool_size=1))"
   ]
  },
  {
   "cell_type": "code",
   "execution_count": 14,
   "metadata": {
    "collapsed": true
   },
   "outputs": [],
   "source": [
    "model.add(Flatten())"
   ]
  },
  {
   "cell_type": "code",
   "execution_count": 15,
   "metadata": {
    "collapsed": true
   },
   "outputs": [],
   "source": [
    "model.add(Dense(8, activation='tanh'))"
   ]
  },
  {
   "cell_type": "code",
   "execution_count": 16,
   "metadata": {
    "collapsed": true
   },
   "outputs": [],
   "source": [
    "model.add(Dense(1,activation='sigmoid'))"
   ]
  },
  {
   "cell_type": "code",
   "execution_count": 17,
   "metadata": {
    "collapsed": false
   },
   "outputs": [
    {
     "name": "stdout",
     "output_type": "stream",
     "text": [
      "_________________________________________________________________\n",
      "Layer (type)                 Output Shape              Param #   \n",
      "=================================================================\n",
      "conv1d_1 (Conv1D)            (None, 8, 16)             32        \n",
      "_________________________________________________________________\n",
      "max_pooling1d_1 (MaxPooling1 (None, 8, 16)             0         \n",
      "_________________________________________________________________\n",
      "flatten_1 (Flatten)          (None, 128)               0         \n",
      "_________________________________________________________________\n",
      "dense_1 (Dense)              (None, 8)                 1032      \n",
      "_________________________________________________________________\n",
      "dense_2 (Dense)              (None, 1)                 9         \n",
      "=================================================================\n",
      "Total params: 1,073\n",
      "Trainable params: 1,073\n",
      "Non-trainable params: 0\n",
      "_________________________________________________________________\n"
     ]
    }
   ],
   "source": [
    "model.summary()"
   ]
  },
  {
   "cell_type": "code",
   "execution_count": 18,
   "metadata": {
    "collapsed": false
   },
   "outputs": [],
   "source": [
    "model.compile(loss='binary_crossentropy', \n",
    "              optimizer='adam', metrics=['accuracy'])"
   ]
  },
  {
   "cell_type": "code",
   "execution_count": 19,
   "metadata": {
    "collapsed": false
   },
   "outputs": [
    {
     "name": "stdout",
     "output_type": "stream",
     "text": [
      "Train on 11454 samples, validate on 2864 samples\n",
      "Epoch 1/30\n",
      "11454/11454 [==============================] - 1s 67us/step - loss: 0.7749 - acc: 0.3146 - val_loss: 0.6835 - val_acc: 0.5988\n",
      "Epoch 2/30\n",
      "11454/11454 [==============================] - 0s 12us/step - loss: 0.6303 - acc: 0.7549 - val_loss: 0.5577 - val_acc: 0.9050\n",
      "Epoch 3/30\n",
      "11454/11454 [==============================] - 0s 16us/step - loss: 0.5150 - acc: 0.9490 - val_loss: 0.4576 - val_acc: 0.9714\n",
      "Epoch 4/30\n",
      "11454/11454 [==============================] - 0s 18us/step - loss: 0.4231 - acc: 0.9745 - val_loss: 0.3781 - val_acc: 0.9693\n",
      "Epoch 5/30\n",
      "11454/11454 [==============================] - 0s 26us/step - loss: 0.3491 - acc: 0.9713 - val_loss: 0.3146 - val_acc: 0.9668\n",
      "Epoch 6/30\n",
      "11454/11454 [==============================] - 0s 19us/step - loss: 0.2901 - acc: 0.9700 - val_loss: 0.2644 - val_acc: 0.9647\n",
      "Epoch 7/30\n",
      "11454/11454 [==============================] - 0s 19us/step - loss: 0.2432 - acc: 0.9696 - val_loss: 0.2253 - val_acc: 0.9640\n",
      "Epoch 8/30\n",
      "11454/11454 [==============================] - 0s 17us/step - loss: 0.2068 - acc: 0.9699 - val_loss: 0.1955 - val_acc: 0.9640\n",
      "Epoch 9/30\n",
      "11454/11454 [==============================] - 0s 25us/step - loss: 0.1791 - acc: 0.9704 - val_loss: 0.1729 - val_acc: 0.9654\n",
      "Epoch 10/30\n",
      "11454/11454 [==============================] - 0s 27us/step - loss: 0.1581 - acc: 0.9712 - val_loss: 0.1560 - val_acc: 0.9658\n",
      "Epoch 11/30\n",
      "11454/11454 [==============================] - 0s 19us/step - loss: 0.1425 - acc: 0.9720 - val_loss: 0.1432 - val_acc: 0.9668\n",
      "Epoch 12/30\n",
      "11454/11454 [==============================] - 0s 19us/step - loss: 0.1305 - acc: 0.9733 - val_loss: 0.1335 - val_acc: 0.9689\n",
      "Epoch 13/30\n",
      "11454/11454 [==============================] - 0s 16us/step - loss: 0.1213 - acc: 0.9741 - val_loss: 0.1260 - val_acc: 0.9703\n",
      "Epoch 14/30\n",
      "11454/11454 [==============================] - 0s 19us/step - loss: 0.1143 - acc: 0.9744 - val_loss: 0.1200 - val_acc: 0.9707\n",
      "Epoch 15/30\n",
      "11454/11454 [==============================] - 0s 20us/step - loss: 0.1086 - acc: 0.9747 - val_loss: 0.1152 - val_acc: 0.9721\n",
      "Epoch 16/30\n",
      "11454/11454 [==============================] - 0s 20us/step - loss: 0.1041 - acc: 0.9749 - val_loss: 0.1115 - val_acc: 0.9721\n",
      "Epoch 17/30\n",
      "11454/11454 [==============================] - 0s 18us/step - loss: 0.1003 - acc: 0.9750 - val_loss: 0.1084 - val_acc: 0.9721\n",
      "Epoch 18/30\n",
      "11454/11454 [==============================] - 0s 18us/step - loss: 0.0972 - acc: 0.9752 - val_loss: 0.1058 - val_acc: 0.9721\n",
      "Epoch 19/30\n",
      "11454/11454 [==============================] - 0s 19us/step - loss: 0.0946 - acc: 0.9756 - val_loss: 0.1036 - val_acc: 0.9724\n",
      "Epoch 20/30\n",
      "11454/11454 [==============================] - 0s 18us/step - loss: 0.0924 - acc: 0.9759 - val_loss: 0.1019 - val_acc: 0.9728\n",
      "Epoch 21/30\n",
      "11454/11454 [==============================] - 0s 17us/step - loss: 0.0906 - acc: 0.9759 - val_loss: 0.1003 - val_acc: 0.9728\n",
      "Epoch 22/30\n",
      "11454/11454 [==============================] - 0s 19us/step - loss: 0.0889 - acc: 0.9762 - val_loss: 0.0990 - val_acc: 0.9731\n",
      "Epoch 23/30\n",
      "11454/11454 [==============================] - 0s 19us/step - loss: 0.0876 - acc: 0.9765 - val_loss: 0.0978 - val_acc: 0.9735\n",
      "Epoch 24/30\n",
      "11454/11454 [==============================] - 0s 19us/step - loss: 0.0863 - acc: 0.9770 - val_loss: 0.0969 - val_acc: 0.9731\n",
      "Epoch 25/30\n",
      "11454/11454 [==============================] - 0s 18us/step - loss: 0.0852 - acc: 0.9772 - val_loss: 0.0960 - val_acc: 0.9735\n",
      "Epoch 26/30\n",
      "11454/11454 [==============================] - 0s 19us/step - loss: 0.0843 - acc: 0.9772 - val_loss: 0.0952 - val_acc: 0.9742\n",
      "Epoch 27/30\n",
      "11454/11454 [==============================] - 0s 19us/step - loss: 0.0833 - acc: 0.9775 - val_loss: 0.0946 - val_acc: 0.9738\n",
      "Epoch 28/30\n",
      "11454/11454 [==============================] - 0s 21us/step - loss: 0.0826 - acc: 0.9777 - val_loss: 0.0940 - val_acc: 0.9738\n",
      "Epoch 29/30\n",
      "11454/11454 [==============================] - 0s 18us/step - loss: 0.0819 - acc: 0.9779 - val_loss: 0.0934 - val_acc: 0.9742\n",
      "Epoch 30/30\n",
      "11454/11454 [==============================] - 0s 33us/step - loss: 0.0812 - acc: 0.9781 - val_loss: 0.0929 - val_acc: 0.9742\n"
     ]
    }
   ],
   "source": [
    "train_history =model.fit(x=train_Features, \n",
    "                         y=train_Label, \n",
    "                         validation_split=0.2, \n",
    "                         epochs=30, \n",
    "                         batch_size=1500,verbose=1,callbacks=[early_stopping])"
   ]
  },
  {
   "cell_type": "code",
   "execution_count": 20,
   "metadata": {
    "collapsed": true
   },
   "outputs": [],
   "source": [
    "import matplotlib.pyplot as plt\n",
    "def show_train_history(train_history,train,validation):\n",
    "    plt.plot(train_history.history[train])\n",
    "    plt.plot(train_history.history[validation])\n",
    "    plt.title('Train History')\n",
    "    plt.ylabel(train)\n",
    "    plt.xlabel('Epoch')\n",
    "    plt.legend(['train', 'validation'], loc='upper left')\n",
    "    plt.show()"
   ]
  },
  {
   "cell_type": "code",
   "execution_count": 21,
   "metadata": {
    "collapsed": false
   },
   "outputs": [
    {
     "data": {
      "image/png": "[encoded data removed]",
      "text/plain": [
       "<matplotlib.figure.Figure at 0x7f46d0702dd8>"
      ]
     },
     "metadata": {},
     "output_type": "display_data"
    }
   ],
   "source": [
    "show_train_history(train_history,'acc','val_acc')"
   ]
  },
  {
   "cell_type": "code",
   "execution_count": 22,
   "metadata": {
    "collapsed": false
   },
   "outputs": [
    {
     "data": {
      "image/png": "[encoded data removed]",
      "text/plain": [
       "<matplotlib.figure.Figure at 0x7f46d1d3a208>"
      ]
     },
     "metadata": {},
     "output_type": "display_data"
    }
   ],
   "source": [
    "show_train_history(train_history,'loss','val_loss')"
   ]
  },
  {
   "cell_type": "code",
   "execution_count": 23,
   "metadata": {
    "collapsed": false
   },
   "outputs": [
    {
     "name": "stdout",
     "output_type": "stream",
     "text": [
      "3580/3580 [==============================] - 0s 59us/step\n"
     ]
    }
   ],
   "source": [
    "scores = model.evaluate(x=test_Features, \n",
    "                        y=test_Label)"
   ]
  },
  {
   "cell_type": "code",
   "execution_count": 24,
   "metadata": {
    "collapsed": false
   },
   "outputs": [
    {
     "data": {
      "text/plain": [
       "0.9790502791298168"
      ]
     },
     "execution_count": 24,
     "metadata": {},
     "output_type": "execute_result"
    }
   ],
   "source": [
    "scores[1]"
   ]
  }
 ],
 "metadata": {
  "anaconda-cloud": {},
  "kernelspec": {
   "display_name": "Python [default]",
   "language": "python",
   "name": "python3"
  },
  "language_info": {
   "codemirror_mode": {
    "name": "ipython",
    "version": 3
   },
   "file_extension": ".py",
   "mimetype": "text/x-python",
   "name": "python",
   "nbconvert_exporter": "python",
   "pygments_lexer": "ipython3",
   "version": "3.5.2"
  }
 },
 "nbformat": 4,
 "nbformat_minor": 1
}
