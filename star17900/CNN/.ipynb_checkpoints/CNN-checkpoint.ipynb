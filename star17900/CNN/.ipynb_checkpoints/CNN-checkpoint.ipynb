{
 "cells": [
  {
   "cell_type": "code",
   "execution_count": 26,
   "metadata": {
    "collapsed": false
   },
   "outputs": [],
   "source": [
    "import numpy \n",
    "import pandas as pd\n",
    "from sklearn.preprocessing import StandardScaler\n",
    "from sklearn.model_selection import train_test_split\n",
    "numpy.random.seed(10)"
   ]
  },
  {
   "cell_type": "code",
   "execution_count": 27,
   "metadata": {
    "collapsed": false
   },
   "outputs": [],
   "source": [
    "all_df = pd.read_csv(\"data/star.csv\")"
   ]
  },
  {
   "cell_type": "code",
   "execution_count": 28,
   "metadata": {
    "collapsed": false
   },
   "outputs": [
    {
     "data": {
      "text/html": [
       "<div>\n",
       "<table border=\"1\" class=\"dataframe\">\n",
       "  <thead>\n",
       "    <tr style=\"text-align: right;\">\n",
       "      <th></th>\n",
       "      <th>Mean of the integrated profile</th>\n",
       "      <th>Standard deviation of the integrated profile</th>\n",
       "      <th>Excess kurtosis of the integrated profile</th>\n",
       "      <th>Skewness of the integrated profile</th>\n",
       "      <th>Mean of the DM-SNR curve</th>\n",
       "      <th>Standard deviation of the DM-SNR curve</th>\n",
       "      <th>Excess kurtosis of the DM-SNR curve</th>\n",
       "      <th>Skewness of the DM-SNR curve</th>\n",
       "      <th>target_class</th>\n",
       "    </tr>\n",
       "  </thead>\n",
       "  <tbody>\n",
       "    <tr>\n",
       "      <th>0</th>\n",
       "      <td>140.562500</td>\n",
       "      <td>55.683782</td>\n",
       "      <td>-0.234571</td>\n",
       "      <td>-0.699648</td>\n",
       "      <td>3.199833</td>\n",
       "      <td>19.110426</td>\n",
       "      <td>7.975532</td>\n",
       "      <td>74.242225</td>\n",
       "      <td>0</td>\n",
       "    </tr>\n",
       "    <tr>\n",
       "      <th>1</th>\n",
       "      <td>102.507812</td>\n",
       "      <td>58.882430</td>\n",
       "      <td>0.465318</td>\n",
       "      <td>-0.515088</td>\n",
       "      <td>1.677258</td>\n",
       "      <td>14.860146</td>\n",
       "      <td>10.576487</td>\n",
       "      <td>127.393580</td>\n",
       "      <td>0</td>\n",
       "    </tr>\n",
       "    <tr>\n",
       "      <th>2</th>\n",
       "      <td>103.015625</td>\n",
       "      <td>39.341649</td>\n",
       "      <td>0.323328</td>\n",
       "      <td>1.051164</td>\n",
       "      <td>3.121237</td>\n",
       "      <td>21.744669</td>\n",
       "      <td>7.735822</td>\n",
       "      <td>63.171909</td>\n",
       "      <td>0</td>\n",
       "    </tr>\n",
       "    <tr>\n",
       "      <th>3</th>\n",
       "      <td>136.750000</td>\n",
       "      <td>57.178449</td>\n",
       "      <td>-0.068415</td>\n",
       "      <td>-0.636238</td>\n",
       "      <td>3.642977</td>\n",
       "      <td>20.959280</td>\n",
       "      <td>6.896499</td>\n",
       "      <td>53.593661</td>\n",
       "      <td>0</td>\n",
       "    </tr>\n",
       "    <tr>\n",
       "      <th>4</th>\n",
       "      <td>88.726562</td>\n",
       "      <td>40.672225</td>\n",
       "      <td>0.600866</td>\n",
       "      <td>1.123492</td>\n",
       "      <td>1.178930</td>\n",
       "      <td>11.468720</td>\n",
       "      <td>14.269573</td>\n",
       "      <td>252.567306</td>\n",
       "      <td>0</td>\n",
       "    </tr>\n",
       "  </tbody>\n",
       "</table>\n",
       "</div>"
      ],
      "text/plain": [
       "    Mean of the integrated profile  \\\n",
       "0                       140.562500   \n",
       "1                       102.507812   \n",
       "2                       103.015625   \n",
       "3                       136.750000   \n",
       "4                        88.726562   \n",
       "\n",
       "    Standard deviation of the integrated profile  \\\n",
       "0                                      55.683782   \n",
       "1                                      58.882430   \n",
       "2                                      39.341649   \n",
       "3                                      57.178449   \n",
       "4                                      40.672225   \n",
       "\n",
       "    Excess kurtosis of the integrated profile  \\\n",
       "0                                   -0.234571   \n",
       "1                                    0.465318   \n",
       "2                                    0.323328   \n",
       "3                                   -0.068415   \n",
       "4                                    0.600866   \n",
       "\n",
       "    Skewness of the integrated profile   Mean of the DM-SNR curve  \\\n",
       "0                            -0.699648                   3.199833   \n",
       "1                            -0.515088                   1.677258   \n",
       "2                             1.051164                   3.121237   \n",
       "3                            -0.636238                   3.642977   \n",
       "4                             1.123492                   1.178930   \n",
       "\n",
       "    Standard deviation of the DM-SNR curve  \\\n",
       "0                                19.110426   \n",
       "1                                14.860146   \n",
       "2                                21.744669   \n",
       "3                                20.959280   \n",
       "4                                11.468720   \n",
       "\n",
       "    Excess kurtosis of the DM-SNR curve   Skewness of the DM-SNR curve  \\\n",
       "0                              7.975532                      74.242225   \n",
       "1                             10.576487                     127.393580   \n",
       "2                              7.735822                      63.171909   \n",
       "3                              6.896499                      53.593661   \n",
       "4                             14.269573                     252.567306   \n",
       "\n",
       "   target_class  \n",
       "0             0  \n",
       "1             0  \n",
       "2             0  \n",
       "3             0  \n",
       "4             0  "
      ]
     },
     "execution_count": 28,
     "metadata": {},
     "output_type": "execute_result"
    }
   ],
   "source": [
    "all_df[:5]"
   ]
  },
  {
   "cell_type": "code",
   "execution_count": 29,
   "metadata": {
    "collapsed": true
   },
   "outputs": [],
   "source": [
    "X=all_df.drop(['target_class'], axis=1).values.astype('float64')"
   ]
  },
  {
   "cell_type": "code",
   "execution_count": 30,
   "metadata": {
    "collapsed": true
   },
   "outputs": [],
   "source": [
    "Y = all_df['target_class'].values.astype('int64')"
   ]
  },
  {
   "cell_type": "code",
   "execution_count": 31,
   "metadata": {
    "collapsed": false
   },
   "outputs": [
    {
     "data": {
      "text/plain": [
       "14318"
      ]
     },
     "execution_count": 31,
     "metadata": {},
     "output_type": "execute_result"
    }
   ],
   "source": [
    "X = StandardScaler().fit_transform(X)\n",
    "train_Features, test_Features, train_Label, test_Label = train_test_split(X, Y, test_size=0.2, random_state=True) \n",
    "len(train_Features)"
   ]
  },
  {
   "cell_type": "code",
   "execution_count": 32,
   "metadata": {
    "collapsed": false
   },
   "outputs": [
    {
     "data": {
      "text/plain": [
       "(17898, 8)"
      ]
     },
     "execution_count": 32,
     "metadata": {},
     "output_type": "execute_result"
    }
   ],
   "source": [
    "X.shape"
   ]
  },
  {
   "cell_type": "code",
   "execution_count": 33,
   "metadata": {
    "collapsed": true
   },
   "outputs": [],
   "source": [
    "train_Features = train_Features.reshape((train_Features.shape[0], train_Features.shape[1], 1))"
   ]
  },
  {
   "cell_type": "code",
   "execution_count": 34,
   "metadata": {
    "collapsed": true
   },
   "outputs": [],
   "source": [
    "test_Features = test_Features.reshape((test_Features.shape[0], test_Features.shape[1], 1))"
   ]
  },
  {
   "cell_type": "code",
   "execution_count": 35,
   "metadata": {
    "collapsed": false
   },
   "outputs": [],
   "source": [
    "from keras.utils import np_utils\n",
    "train_Label = train_Label.reshape(train_Label.shape[0], 1)\n",
    "test_Label= test_Label.reshape(test_Label.shape[0], 1)\n",
    "train_Label=np_utils.to_categorical(train_Label)\n",
    "test_Label=np_utils.to_categorical(test_Label)"
   ]
  },
  {
   "cell_type": "code",
   "execution_count": 36,
   "metadata": {
    "collapsed": false
   },
   "outputs": [],
   "source": [
    "from keras.models import Sequential\n",
    "from keras.layers import Dense,Dropout,Flatten,Conv1D,MaxPooling1D\n",
    "from keras.layers.embeddings import Embedding\n",
    "from keras.callbacks import EarlyStopping\n",
    "early_stopping = EarlyStopping(monitor='val_loss', patience=2)"
   ]
  },
  {
   "cell_type": "code",
   "execution_count": 37,
   "metadata": {
    "collapsed": true
   },
   "outputs": [],
   "source": [
    "model = Sequential()"
   ]
  },
  {
   "cell_type": "code",
   "execution_count": 38,
   "metadata": {
    "collapsed": true
   },
   "outputs": [],
   "source": [
    "model.add(Conv1D(filters=24,\n",
    "                 kernel_size=1,\n",
    "                 input_shape=(8,1),\n",
    "                 padding='valid',\n",
    "                 activation='relu'))"
   ]
  },
  {
   "cell_type": "code",
   "execution_count": 39,
   "metadata": {
    "collapsed": true
   },
   "outputs": [],
   "source": [
    "model.add(MaxPooling1D(pool_size=1))"
   ]
  },
  {
   "cell_type": "code",
   "execution_count": 40,
   "metadata": {
    "collapsed": true
   },
   "outputs": [],
   "source": [
    "model.add(Flatten())"
   ]
  },
  {
   "cell_type": "code",
   "execution_count": 41,
   "metadata": {
    "collapsed": true
   },
   "outputs": [],
   "source": [
    "model.add(Dense(8, activation='tanh'))"
   ]
  },
  {
   "cell_type": "code",
   "execution_count": 42,
   "metadata": {
    "collapsed": true
   },
   "outputs": [],
   "source": [
    "model.add(Dense(2,activation='sigmoid'))"
   ]
  },
  {
   "cell_type": "code",
   "execution_count": 43,
   "metadata": {
    "collapsed": false
   },
   "outputs": [
    {
     "name": "stdout",
     "output_type": "stream",
     "text": [
      "_________________________________________________________________\n",
      "Layer (type)                 Output Shape              Param #   \n",
      "=================================================================\n",
      "conv1d_2 (Conv1D)            (None, 8, 24)             48        \n",
      "_________________________________________________________________\n",
      "max_pooling1d_2 (MaxPooling1 (None, 8, 24)             0         \n",
      "_________________________________________________________________\n",
      "flatten_2 (Flatten)          (None, 192)               0         \n",
      "_________________________________________________________________\n",
      "dense_3 (Dense)              (None, 8)                 1544      \n",
      "_________________________________________________________________\n",
      "dense_4 (Dense)              (None, 2)                 18        \n",
      "=================================================================\n",
      "Total params: 1,610\n",
      "Trainable params: 1,610\n",
      "Non-trainable params: 0\n",
      "_________________________________________________________________\n"
     ]
    }
   ],
   "source": [
    "model.summary()"
   ]
  },
  {
   "cell_type": "code",
   "execution_count": 44,
   "metadata": {
    "collapsed": false
   },
   "outputs": [],
   "source": [
    "model.compile(loss='binary_crossentropy', \n",
    "              optimizer='adam', metrics=['accuracy'])"
   ]
  },
  {
   "cell_type": "code",
   "execution_count": 45,
   "metadata": {
    "collapsed": false
   },
   "outputs": [
    {
     "name": "stdout",
     "output_type": "stream",
     "text": [
      "Train on 11454 samples, validate on 2864 samples\n",
      "Epoch 1/60\n",
      "11454/11454 [==============================] - 1s 79us/step - loss: 0.6353 - acc: 0.7723 - val_loss: 0.5559 - val_acc: 0.9080\n",
      "Epoch 2/60\n",
      "11454/11454 [==============================] - 0s 25us/step - loss: 0.5011 - acc: 0.9309 - val_loss: 0.4397 - val_acc: 0.9422\n",
      "Epoch 3/60\n",
      "11454/11454 [==============================] - 0s 28us/step - loss: 0.3967 - acc: 0.9514 - val_loss: 0.3518 - val_acc: 0.9501\n",
      "Epoch 4/60\n",
      "11454/11454 [==============================] - 0s 27us/step - loss: 0.3181 - acc: 0.9591 - val_loss: 0.2868 - val_acc: 0.9544\n",
      "Epoch 5/60\n",
      "11454/11454 [==============================] - 0s 24us/step - loss: 0.2595 - acc: 0.9621 - val_loss: 0.2391 - val_acc: 0.9567\n",
      "Epoch 6/60\n",
      "11454/11454 [==============================] - 0s 24us/step - loss: 0.2169 - acc: 0.9645 - val_loss: 0.2049 - val_acc: 0.9593\n",
      "Epoch 7/60\n",
      "11454/11454 [==============================] - 0s 28us/step - loss: 0.1861 - acc: 0.9660 - val_loss: 0.1803 - val_acc: 0.9614\n",
      "Epoch 8/60\n",
      "11454/11454 [==============================] - 0s 31us/step - loss: 0.1640 - acc: 0.9676 - val_loss: 0.1627 - val_acc: 0.9633\n",
      "Epoch 9/60\n",
      "11454/11454 [==============================] - 0s 25us/step - loss: 0.1481 - acc: 0.9690 - val_loss: 0.1495 - val_acc: 0.9658\n",
      "Epoch 10/60\n",
      "11454/11454 [==============================] - 0s 26us/step - loss: 0.1362 - acc: 0.9704 - val_loss: 0.1397 - val_acc: 0.9675\n",
      "Epoch 11/60\n",
      "11454/11454 [==============================] - 0s 23us/step - loss: 0.1272 - acc: 0.9714 - val_loss: 0.1323 - val_acc: 0.9691\n",
      "Epoch 12/60\n",
      "11454/11454 [==============================] - 0s 26us/step - loss: 0.1201 - acc: 0.9722 - val_loss: 0.1263 - val_acc: 0.9693\n",
      "Epoch 13/60\n",
      "11454/11454 [==============================] - 0s 25us/step - loss: 0.1144 - acc: 0.9734 - val_loss: 0.1215 - val_acc: 0.9703\n",
      "Epoch 14/60\n",
      "11454/11454 [==============================] - 0s 25us/step - loss: 0.1098 - acc: 0.9746 - val_loss: 0.1175 - val_acc: 0.9708\n",
      "Epoch 15/60\n",
      "11454/11454 [==============================] - 0s 24us/step - loss: 0.1060 - acc: 0.9752 - val_loss: 0.1142 - val_acc: 0.9721\n",
      "Epoch 16/60\n",
      "11454/11454 [==============================] - 0s 25us/step - loss: 0.1028 - acc: 0.9756 - val_loss: 0.1115 - val_acc: 0.9721\n",
      "Epoch 17/60\n",
      "11454/11454 [==============================] - 0s 27us/step - loss: 0.1000 - acc: 0.9761 - val_loss: 0.1092 - val_acc: 0.9728\n",
      "Epoch 18/60\n",
      "11454/11454 [==============================] - 0s 25us/step - loss: 0.0976 - acc: 0.9765 - val_loss: 0.1072 - val_acc: 0.9729\n",
      "Epoch 19/60\n",
      "11454/11454 [==============================] - 0s 25us/step - loss: 0.0955 - acc: 0.9770 - val_loss: 0.1054 - val_acc: 0.9735\n",
      "Epoch 20/60\n",
      "11454/11454 [==============================] - 0s 26us/step - loss: 0.0936 - acc: 0.9773 - val_loss: 0.1038 - val_acc: 0.9738\n",
      "Epoch 21/60\n",
      "11454/11454 [==============================] - 0s 25us/step - loss: 0.0919 - acc: 0.9775 - val_loss: 0.1023 - val_acc: 0.9740\n",
      "Epoch 22/60\n",
      "11454/11454 [==============================] - 0s 25us/step - loss: 0.0903 - acc: 0.9777 - val_loss: 0.1010 - val_acc: 0.9740\n",
      "Epoch 23/60\n",
      "11454/11454 [==============================] - 0s 24us/step - loss: 0.0890 - acc: 0.9780 - val_loss: 0.0998 - val_acc: 0.9742\n",
      "Epoch 24/60\n",
      "11454/11454 [==============================] - 0s 24us/step - loss: 0.0877 - acc: 0.9781 - val_loss: 0.0989 - val_acc: 0.9743\n",
      "Epoch 25/60\n",
      "11454/11454 [==============================] - 0s 27us/step - loss: 0.0865 - acc: 0.9783 - val_loss: 0.0981 - val_acc: 0.9743\n",
      "Epoch 26/60\n",
      "11454/11454 [==============================] - 0s 30us/step - loss: 0.0856 - acc: 0.9787 - val_loss: 0.0971 - val_acc: 0.9742\n",
      "Epoch 27/60\n",
      "11454/11454 [==============================] - 0s 27us/step - loss: 0.0846 - acc: 0.9788 - val_loss: 0.0965 - val_acc: 0.9745\n",
      "Epoch 28/60\n",
      "11454/11454 [==============================] - 0s 25us/step - loss: 0.0838 - acc: 0.9786 - val_loss: 0.0959 - val_acc: 0.9747\n",
      "Epoch 29/60\n",
      "11454/11454 [==============================] - 0s 24us/step - loss: 0.0831 - acc: 0.9787 - val_loss: 0.0951 - val_acc: 0.9743\n",
      "Epoch 30/60\n",
      "11454/11454 [==============================] - 0s 26us/step - loss: 0.0824 - acc: 0.9789 - val_loss: 0.0945 - val_acc: 0.9743\n",
      "Epoch 31/60\n",
      "11454/11454 [==============================] - 0s 22us/step - loss: 0.0817 - acc: 0.9789 - val_loss: 0.0941 - val_acc: 0.9747\n",
      "Epoch 32/60\n",
      "11454/11454 [==============================] - 0s 26us/step - loss: 0.0811 - acc: 0.9789 - val_loss: 0.0935 - val_acc: 0.9747\n",
      "Epoch 33/60\n",
      "11454/11454 [==============================] - 0s 27us/step - loss: 0.0805 - acc: 0.9789 - val_loss: 0.0930 - val_acc: 0.9747\n",
      "Epoch 34/60\n",
      "11454/11454 [==============================] - 0s 29us/step - loss: 0.0800 - acc: 0.9791 - val_loss: 0.0924 - val_acc: 0.9747\n",
      "Epoch 35/60\n",
      "11454/11454 [==============================] - 0s 32us/step - loss: 0.0794 - acc: 0.9792 - val_loss: 0.0920 - val_acc: 0.9745\n",
      "Epoch 36/60\n",
      "11454/11454 [==============================] - 0s 32us/step - loss: 0.0789 - acc: 0.9793 - val_loss: 0.0916 - val_acc: 0.9745\n",
      "Epoch 37/60\n",
      "11454/11454 [==============================] - 0s 34us/step - loss: 0.0785 - acc: 0.9793 - val_loss: 0.0911 - val_acc: 0.9745\n",
      "Epoch 38/60\n",
      "11454/11454 [==============================] - 0s 35us/step - loss: 0.0781 - acc: 0.9794 - val_loss: 0.0906 - val_acc: 0.9743\n",
      "Epoch 39/60\n",
      "11454/11454 [==============================] - 0s 34us/step - loss: 0.0776 - acc: 0.9796 - val_loss: 0.0903 - val_acc: 0.9747\n",
      "Epoch 40/60\n",
      "11454/11454 [==============================] - 0s 37us/step - loss: 0.0772 - acc: 0.9794 - val_loss: 0.0899 - val_acc: 0.9745\n",
      "Epoch 41/60\n",
      "11454/11454 [==============================] - 0s 30us/step - loss: 0.0768 - acc: 0.9795 - val_loss: 0.0896 - val_acc: 0.9745\n",
      "Epoch 42/60\n",
      "11454/11454 [==============================] - 0s 31us/step - loss: 0.0765 - acc: 0.9798 - val_loss: 0.0892 - val_acc: 0.9745\n",
      "Epoch 43/60\n",
      "11454/11454 [==============================] - 0s 29us/step - loss: 0.0761 - acc: 0.9801 - val_loss: 0.0889 - val_acc: 0.9745\n",
      "Epoch 44/60\n",
      "11454/11454 [==============================] - 0s 29us/step - loss: 0.0758 - acc: 0.9800 - val_loss: 0.0887 - val_acc: 0.9747\n",
      "Epoch 45/60\n",
      "11454/11454 [==============================] - 0s 30us/step - loss: 0.0755 - acc: 0.9802 - val_loss: 0.0884 - val_acc: 0.9749\n",
      "Epoch 46/60\n",
      "11454/11454 [==============================] - 0s 27us/step - loss: 0.0752 - acc: 0.9804 - val_loss: 0.0881 - val_acc: 0.9749\n",
      "Epoch 47/60\n",
      "11454/11454 [==============================] - 0s 26us/step - loss: 0.0749 - acc: 0.9803 - val_loss: 0.0879 - val_acc: 0.9749\n",
      "Epoch 48/60\n",
      "11454/11454 [==============================] - 0s 25us/step - loss: 0.0746 - acc: 0.9802 - val_loss: 0.0876 - val_acc: 0.9747\n",
      "Epoch 49/60\n",
      "11454/11454 [==============================] - 0s 30us/step - loss: 0.0744 - acc: 0.9802 - val_loss: 0.0874 - val_acc: 0.9747\n",
      "Epoch 50/60\n",
      "11454/11454 [==============================] - 0s 27us/step - loss: 0.0741 - acc: 0.9802 - val_loss: 0.0872 - val_acc: 0.9745\n",
      "Epoch 51/60\n",
      "11454/11454 [==============================] - 0s 27us/step - loss: 0.0739 - acc: 0.9803 - val_loss: 0.0869 - val_acc: 0.9743\n",
      "Epoch 52/60\n",
      "11454/11454 [==============================] - 0s 33us/step - loss: 0.0737 - acc: 0.9802 - val_loss: 0.0868 - val_acc: 0.9745\n",
      "Epoch 53/60\n",
      "11454/11454 [==============================] - 0s 28us/step - loss: 0.0734 - acc: 0.9803 - val_loss: 0.0866 - val_acc: 0.9745\n",
      "Epoch 54/60\n",
      "11454/11454 [==============================] - 0s 28us/step - loss: 0.0733 - acc: 0.9804 - val_loss: 0.0865 - val_acc: 0.9745\n",
      "Epoch 55/60\n",
      "11454/11454 [==============================] - 0s 28us/step - loss: 0.0730 - acc: 0.9804 - val_loss: 0.0862 - val_acc: 0.9745\n",
      "Epoch 56/60\n",
      "11454/11454 [==============================] - 0s 30us/step - loss: 0.0729 - acc: 0.9804 - val_loss: 0.0860 - val_acc: 0.9745\n",
      "Epoch 57/60\n",
      "11454/11454 [==============================] - 0s 30us/step - loss: 0.0727 - acc: 0.9804 - val_loss: 0.0858 - val_acc: 0.9745\n",
      "Epoch 58/60\n",
      "11454/11454 [==============================] - 0s 34us/step - loss: 0.0725 - acc: 0.9804 - val_loss: 0.0857 - val_acc: 0.9745\n",
      "Epoch 59/60\n",
      "11454/11454 [==============================] - 0s 30us/step - loss: 0.0723 - acc: 0.9801 - val_loss: 0.0857 - val_acc: 0.9743\n",
      "Epoch 60/60\n",
      "11454/11454 [==============================] - 0s 29us/step - loss: 0.0721 - acc: 0.9804 - val_loss: 0.0855 - val_acc: 0.9743\n"
     ]
    }
   ],
   "source": [
    "train_history =model.fit(x=train_Features, \n",
    "                         y=train_Label, \n",
    "                         validation_split=0.2, \n",
    "                         epochs=60, \n",
    "                         batch_size=1500,verbose=1,callbacks=[early_stopping])"
   ]
  },
  {
   "cell_type": "code",
   "execution_count": 46,
   "metadata": {
    "collapsed": true
   },
   "outputs": [],
   "source": [
    "import matplotlib.pyplot as plt\n",
    "def show_train_history(train_history,train,validation):\n",
    "    plt.plot(train_history.history[train])\n",
    "    plt.plot(train_history.history[validation])\n",
    "    plt.title('Train History')\n",
    "    plt.ylabel(train)\n",
    "    plt.xlabel('Epoch')\n",
    "    plt.legend(['train', 'validation'], loc='upper left')\n",
    "    plt.show()"
   ]
  },
  {
   "cell_type": "code",
   "execution_count": 47,
   "metadata": {
    "collapsed": false
   },
   "outputs": [
    {
     "data": {
      "image/png": "[encoded data removed]",
      "text/plain": [
       "<matplotlib.figure.Figure at 0x7fa360907dd8>"
      ]
     },
     "metadata": {},
     "output_type": "display_data"
    }
   ],
   "source": [
    "show_train_history(train_history,'acc','val_acc')"
   ]
  },
  {
   "cell_type": "code",
   "execution_count": 48,
   "metadata": {
    "collapsed": false
   },
   "outputs": [
    {
     "data": {
      "image/png": "[encoded data removed]",
      "text/plain": [
       "<matplotlib.figure.Figure at 0x7fa360907d68>"
      ]
     },
     "metadata": {},
     "output_type": "display_data"
    }
   ],
   "source": [
    "show_train_history(train_history,'loss','val_loss')"
   ]
  },
  {
   "cell_type": "code",
   "execution_count": 49,
   "metadata": {
    "collapsed": false
   },
   "outputs": [
    {
     "name": "stdout",
     "output_type": "stream",
     "text": [
      "3580/3580 [==============================] - 0s 101us/step\n"
     ]
    }
   ],
   "source": [
    "scores = model.evaluate(x=test_Features, \n",
    "                        y=test_Label)"
   ]
  },
  {
   "cell_type": "code",
   "execution_count": 50,
   "metadata": {
    "collapsed": false
   },
   "outputs": [
    {
     "data": {
      "text/plain": [
       "0.9793296087387554"
      ]
     },
     "execution_count": 50,
     "metadata": {},
     "output_type": "execute_result"
    }
   ],
   "source": [
    "scores[1]"
   ]
  }
 ],
 "metadata": {
  "anaconda-cloud": {},
  "kernelspec": {
   "display_name": "Python [default]",
   "language": "python",
   "name": "python3"
  },
  "language_info": {
   "codemirror_mode": {
    "name": "ipython",
    "version": 3
   },
   "file_extension": ".py",
   "mimetype": "text/x-python",
   "name": "python",
   "nbconvert_exporter": "python",
   "pygments_lexer": "ipython3",
   "version": "3.5.2"
  }
 },
 "nbformat": 4,
 "nbformat_minor": 1
}
