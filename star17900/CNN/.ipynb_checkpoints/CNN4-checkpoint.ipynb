{
 "cells": [
  {
   "cell_type": "code",
   "execution_count": 1,
   "metadata": {
    "collapsed": false
   },
   "outputs": [],
   "source": [
    "import numpy \n",
    "import pandas as pd\n",
    "from sklearn.preprocessing import StandardScaler\n",
    "from sklearn.model_selection import train_test_split\n",
    "numpy.random.seed(10)"
   ]
  },
  {
   "cell_type": "code",
   "execution_count": 2,
   "metadata": {
    "collapsed": false
   },
   "outputs": [],
   "source": [
    "all_df = pd.read_csv(\"data/star.csv\")"
   ]
  },
  {
   "cell_type": "code",
   "execution_count": 3,
   "metadata": {
    "collapsed": false
   },
   "outputs": [
    {
     "data": {
      "text/html": [
       "<div>\n",
       "<table border=\"1\" class=\"dataframe\">\n",
       "  <thead>\n",
       "    <tr style=\"text-align: right;\">\n",
       "      <th></th>\n",
       "      <th>Mean of the integrated profile</th>\n",
       "      <th>Standard deviation of the integrated profile</th>\n",
       "      <th>Excess kurtosis of the integrated profile</th>\n",
       "      <th>Skewness of the integrated profile</th>\n",
       "      <th>Mean of the DM-SNR curve</th>\n",
       "      <th>Standard deviation of the DM-SNR curve</th>\n",
       "      <th>Excess kurtosis of the DM-SNR curve</th>\n",
       "      <th>Skewness of the DM-SNR curve</th>\n",
       "      <th>target_class</th>\n",
       "    </tr>\n",
       "  </thead>\n",
       "  <tbody>\n",
       "    <tr>\n",
       "      <th>0</th>\n",
       "      <td>140.562500</td>\n",
       "      <td>55.683782</td>\n",
       "      <td>-0.234571</td>\n",
       "      <td>-0.699648</td>\n",
       "      <td>3.199833</td>\n",
       "      <td>19.110426</td>\n",
       "      <td>7.975532</td>\n",
       "      <td>74.242225</td>\n",
       "      <td>0</td>\n",
       "    </tr>\n",
       "    <tr>\n",
       "      <th>1</th>\n",
       "      <td>102.507812</td>\n",
       "      <td>58.882430</td>\n",
       "      <td>0.465318</td>\n",
       "      <td>-0.515088</td>\n",
       "      <td>1.677258</td>\n",
       "      <td>14.860146</td>\n",
       "      <td>10.576487</td>\n",
       "      <td>127.393580</td>\n",
       "      <td>0</td>\n",
       "    </tr>\n",
       "    <tr>\n",
       "      <th>2</th>\n",
       "      <td>103.015625</td>\n",
       "      <td>39.341649</td>\n",
       "      <td>0.323328</td>\n",
       "      <td>1.051164</td>\n",
       "      <td>3.121237</td>\n",
       "      <td>21.744669</td>\n",
       "      <td>7.735822</td>\n",
       "      <td>63.171909</td>\n",
       "      <td>0</td>\n",
       "    </tr>\n",
       "    <tr>\n",
       "      <th>3</th>\n",
       "      <td>136.750000</td>\n",
       "      <td>57.178449</td>\n",
       "      <td>-0.068415</td>\n",
       "      <td>-0.636238</td>\n",
       "      <td>3.642977</td>\n",
       "      <td>20.959280</td>\n",
       "      <td>6.896499</td>\n",
       "      <td>53.593661</td>\n",
       "      <td>0</td>\n",
       "    </tr>\n",
       "    <tr>\n",
       "      <th>4</th>\n",
       "      <td>88.726562</td>\n",
       "      <td>40.672225</td>\n",
       "      <td>0.600866</td>\n",
       "      <td>1.123492</td>\n",
       "      <td>1.178930</td>\n",
       "      <td>11.468720</td>\n",
       "      <td>14.269573</td>\n",
       "      <td>252.567306</td>\n",
       "      <td>0</td>\n",
       "    </tr>\n",
       "  </tbody>\n",
       "</table>\n",
       "</div>"
      ],
      "text/plain": [
       "    Mean of the integrated profile  \\\n",
       "0                       140.562500   \n",
       "1                       102.507812   \n",
       "2                       103.015625   \n",
       "3                       136.750000   \n",
       "4                        88.726562   \n",
       "\n",
       "    Standard deviation of the integrated profile  \\\n",
       "0                                      55.683782   \n",
       "1                                      58.882430   \n",
       "2                                      39.341649   \n",
       "3                                      57.178449   \n",
       "4                                      40.672225   \n",
       "\n",
       "    Excess kurtosis of the integrated profile  \\\n",
       "0                                   -0.234571   \n",
       "1                                    0.465318   \n",
       "2                                    0.323328   \n",
       "3                                   -0.068415   \n",
       "4                                    0.600866   \n",
       "\n",
       "    Skewness of the integrated profile   Mean of the DM-SNR curve  \\\n",
       "0                            -0.699648                   3.199833   \n",
       "1                            -0.515088                   1.677258   \n",
       "2                             1.051164                   3.121237   \n",
       "3                            -0.636238                   3.642977   \n",
       "4                             1.123492                   1.178930   \n",
       "\n",
       "    Standard deviation of the DM-SNR curve  \\\n",
       "0                                19.110426   \n",
       "1                                14.860146   \n",
       "2                                21.744669   \n",
       "3                                20.959280   \n",
       "4                                11.468720   \n",
       "\n",
       "    Excess kurtosis of the DM-SNR curve   Skewness of the DM-SNR curve  \\\n",
       "0                              7.975532                      74.242225   \n",
       "1                             10.576487                     127.393580   \n",
       "2                              7.735822                      63.171909   \n",
       "3                              6.896499                      53.593661   \n",
       "4                             14.269573                     252.567306   \n",
       "\n",
       "   target_class  \n",
       "0             0  \n",
       "1             0  \n",
       "2             0  \n",
       "3             0  \n",
       "4             0  "
      ]
     },
     "execution_count": 3,
     "metadata": {},
     "output_type": "execute_result"
    }
   ],
   "source": [
    "all_df[:5]"
   ]
  },
  {
   "cell_type": "code",
   "execution_count": 4,
   "metadata": {
    "collapsed": true
   },
   "outputs": [],
   "source": [
    "X=all_df.drop(['target_class'], axis=1).values.astype('float64')"
   ]
  },
  {
   "cell_type": "code",
   "execution_count": 5,
   "metadata": {
    "collapsed": true
   },
   "outputs": [],
   "source": [
    "Y = all_df['target_class'].values.astype('int64')"
   ]
  },
  {
   "cell_type": "code",
   "execution_count": 6,
   "metadata": {
    "collapsed": false
   },
   "outputs": [
    {
     "data": {
      "text/plain": [
       "14318"
      ]
     },
     "execution_count": 6,
     "metadata": {},
     "output_type": "execute_result"
    }
   ],
   "source": [
    "X = StandardScaler().fit_transform(X)\n",
    "train_Features, test_Features, train_Label, test_Label = train_test_split(X, Y, test_size=0.2, random_state=True) \n",
    "len(train_Features)"
   ]
  },
  {
   "cell_type": "code",
   "execution_count": 7,
   "metadata": {
    "collapsed": false
   },
   "outputs": [
    {
     "data": {
      "text/plain": [
       "(17898, 8)"
      ]
     },
     "execution_count": 7,
     "metadata": {},
     "output_type": "execute_result"
    }
   ],
   "source": [
    "X.shape"
   ]
  },
  {
   "cell_type": "code",
   "execution_count": 8,
   "metadata": {
    "collapsed": true
   },
   "outputs": [],
   "source": [
    "train_Features = train_Features.reshape((train_Features.shape[0], train_Features.shape[1], 1))"
   ]
  },
  {
   "cell_type": "code",
   "execution_count": 9,
   "metadata": {
    "collapsed": true
   },
   "outputs": [],
   "source": [
    "test_Features = test_Features.reshape((test_Features.shape[0], test_Features.shape[1], 1))"
   ]
  },
  {
   "cell_type": "code",
   "execution_count": 10,
   "metadata": {
    "collapsed": false
   },
   "outputs": [
    {
     "name": "stderr",
     "output_type": "stream",
     "text": [
      "Using TensorFlow backend.\n"
     ]
    }
   ],
   "source": [
    "from keras.utils import np_utils\n",
    "train_Label = train_Label.reshape(train_Label.shape[0], 1)\n",
    "test_Label= test_Label.reshape(test_Label.shape[0], 1)\n",
    "train_Label=np_utils.to_categorical(train_Label)\n",
    "test_Label=np_utils.to_categorical(test_Label)"
   ]
  },
  {
   "cell_type": "code",
   "execution_count": 11,
   "metadata": {
    "collapsed": false
   },
   "outputs": [],
   "source": [
    "from keras.models import Sequential\n",
    "from keras.layers import Dense,Dropout,Flatten,Conv1D,MaxPooling1D\n",
    "from keras.layers.embeddings import Embedding\n",
    "from keras.callbacks import EarlyStopping\n",
    "early_stopping = EarlyStopping(monitor='val_loss', patience=2)"
   ]
  },
  {
   "cell_type": "code",
   "execution_count": 12,
   "metadata": {
    "collapsed": true
   },
   "outputs": [],
   "source": [
    "model = Sequential()"
   ]
  },
  {
   "cell_type": "code",
   "execution_count": 13,
   "metadata": {
    "collapsed": false
   },
   "outputs": [],
   "source": [
    "model.add(Conv1D(filters=16*4,\n",
    "                 kernel_size=1,\n",
    "                 input_shape=(8,1),\n",
    "                 padding='valid',\n",
    "                 activation='relu'))"
   ]
  },
  {
   "cell_type": "code",
   "execution_count": 14,
   "metadata": {
    "collapsed": true
   },
   "outputs": [],
   "source": [
    "model.add(MaxPooling1D(pool_size=1))"
   ]
  },
  {
   "cell_type": "code",
   "execution_count": 15,
   "metadata": {
    "collapsed": true
   },
   "outputs": [],
   "source": [
    "model.add(Conv1D(filters=16*3,\n",
    "                 kernel_size=1,\n",
    "                 padding='valid',\n",
    "                 activation='relu'))"
   ]
  },
  {
   "cell_type": "code",
   "execution_count": 16,
   "metadata": {
    "collapsed": true
   },
   "outputs": [],
   "source": [
    "model.add(MaxPooling1D(pool_size=1))"
   ]
  },
  {
   "cell_type": "code",
   "execution_count": 17,
   "metadata": {
    "collapsed": true
   },
   "outputs": [],
   "source": [
    "model.add(Conv1D(filters=16*2,\n",
    "                 kernel_size=1,\n",
    "                 padding='valid',\n",
    "                 activation='relu'))"
   ]
  },
  {
   "cell_type": "code",
   "execution_count": 18,
   "metadata": {
    "collapsed": true
   },
   "outputs": [],
   "source": [
    "model.add(MaxPooling1D(pool_size=1))"
   ]
  },
  {
   "cell_type": "code",
   "execution_count": 19,
   "metadata": {
    "collapsed": true
   },
   "outputs": [],
   "source": [
    "model.add(Conv1D(filters=16,\n",
    "                 kernel_size=1,\n",
    "                 padding='valid',\n",
    "                 activation='relu'))"
   ]
  },
  {
   "cell_type": "code",
   "execution_count": 20,
   "metadata": {
    "collapsed": true
   },
   "outputs": [],
   "source": [
    "model.add(MaxPooling1D(pool_size=1))"
   ]
  },
  {
   "cell_type": "code",
   "execution_count": 21,
   "metadata": {
    "collapsed": true
   },
   "outputs": [],
   "source": [
    "model.add(Flatten())"
   ]
  },
  {
   "cell_type": "code",
   "execution_count": 22,
   "metadata": {
    "collapsed": true
   },
   "outputs": [],
   "source": [
    "model.add(Dense(8, activation='tanh'))"
   ]
  },
  {
   "cell_type": "code",
   "execution_count": 23,
   "metadata": {
    "collapsed": true
   },
   "outputs": [],
   "source": [
    "model.add(Dense(2,activation='sigmoid'))"
   ]
  },
  {
   "cell_type": "code",
   "execution_count": 24,
   "metadata": {
    "collapsed": false
   },
   "outputs": [
    {
     "name": "stdout",
     "output_type": "stream",
     "text": [
      "_________________________________________________________________\n",
      "Layer (type)                 Output Shape              Param #   \n",
      "=================================================================\n",
      "conv1d_1 (Conv1D)            (None, 8, 64)             128       \n",
      "_________________________________________________________________\n",
      "max_pooling1d_1 (MaxPooling1 (None, 8, 64)             0         \n",
      "_________________________________________________________________\n",
      "conv1d_2 (Conv1D)            (None, 8, 48)             3120      \n",
      "_________________________________________________________________\n",
      "max_pooling1d_2 (MaxPooling1 (None, 8, 48)             0         \n",
      "_________________________________________________________________\n",
      "conv1d_3 (Conv1D)            (None, 8, 32)             1568      \n",
      "_________________________________________________________________\n",
      "max_pooling1d_3 (MaxPooling1 (None, 8, 32)             0         \n",
      "_________________________________________________________________\n",
      "conv1d_4 (Conv1D)            (None, 8, 16)             528       \n",
      "_________________________________________________________________\n",
      "max_pooling1d_4 (MaxPooling1 (None, 8, 16)             0         \n",
      "_________________________________________________________________\n",
      "flatten_1 (Flatten)          (None, 128)               0         \n",
      "_________________________________________________________________\n",
      "dense_1 (Dense)              (None, 8)                 1032      \n",
      "_________________________________________________________________\n",
      "dense_2 (Dense)              (None, 2)                 18        \n",
      "=================================================================\n",
      "Total params: 6,394\n",
      "Trainable params: 6,394\n",
      "Non-trainable params: 0\n",
      "_________________________________________________________________\n"
     ]
    }
   ],
   "source": [
    "model.summary()"
   ]
  },
  {
   "cell_type": "code",
   "execution_count": 25,
   "metadata": {
    "collapsed": false
   },
   "outputs": [],
   "source": [
    "model.compile(loss='binary_crossentropy', \n",
    "              optimizer='adam', metrics=['accuracy'])"
   ]
  },
  {
   "cell_type": "code",
   "execution_count": 26,
   "metadata": {
    "collapsed": false
   },
   "outputs": [
    {
     "name": "stdout",
     "output_type": "stream",
     "text": [
      "Train on 11454 samples, validate on 2864 samples\n",
      "Epoch 1/60\n",
      "11454/11454 [==============================] - 7s 635us/step - loss: 0.6610 - acc: 0.8372 - val_loss: 0.6221 - val_acc: 0.9468\n",
      "Epoch 2/60\n",
      "11454/11454 [==============================] - 1s 79us/step - loss: 0.5871 - acc: 0.9617 - val_loss: 0.5281 - val_acc: 0.9661\n",
      "Epoch 3/60\n",
      "11454/11454 [==============================] - 1s 69us/step - loss: 0.4742 - acc: 0.9686 - val_loss: 0.3961 - val_acc: 0.9644\n",
      "Epoch 4/60\n",
      "11454/11454 [==============================] - 1s 65us/step - loss: 0.3371 - acc: 0.9649 - val_loss: 0.2716 - val_acc: 0.9557\n",
      "Epoch 5/60\n",
      "11454/11454 [==============================] - 1s 97us/step - loss: 0.2308 - acc: 0.9591 - val_loss: 0.1999 - val_acc: 0.9579\n",
      "Epoch 6/60\n",
      "11454/11454 [==============================] - 1s 73us/step - loss: 0.1733 - acc: 0.9643 - val_loss: 0.1612 - val_acc: 0.9653\n",
      "Epoch 7/60\n",
      "11454/11454 [==============================] - 1s 73us/step - loss: 0.1423 - acc: 0.9723 - val_loss: 0.1420 - val_acc: 0.9712\n",
      "Epoch 8/60\n",
      "11454/11454 [==============================] - 1s 76us/step - loss: 0.1276 - acc: 0.9759 - val_loss: 0.1326 - val_acc: 0.9719\n",
      "Epoch 9/60\n",
      "11454/11454 [==============================] - 1s 92us/step - loss: 0.1193 - acc: 0.9764 - val_loss: 0.1268 - val_acc: 0.9721\n",
      "Epoch 10/60\n",
      "11454/11454 [==============================] - 1s 113us/step - loss: 0.1139 - acc: 0.9770 - val_loss: 0.1228 - val_acc: 0.9733\n",
      "Epoch 11/60\n",
      "11454/11454 [==============================] - 1s 105us/step - loss: 0.1097 - acc: 0.9776 - val_loss: 0.1198 - val_acc: 0.9740\n",
      "Epoch 12/60\n",
      "11454/11454 [==============================] - 1s 106us/step - loss: 0.1064 - acc: 0.9781 - val_loss: 0.1173 - val_acc: 0.9742\n",
      "Epoch 13/60\n",
      "11454/11454 [==============================] - 1s 100us/step - loss: 0.1035 - acc: 0.9784 - val_loss: 0.1150 - val_acc: 0.9745\n",
      "Epoch 14/60\n",
      "11454/11454 [==============================] - 2s 131us/step - loss: 0.1010 - acc: 0.9786 - val_loss: 0.1129 - val_acc: 0.9745\n",
      "Epoch 15/60\n",
      "11454/11454 [==============================] - 1s 110us/step - loss: 0.0988 - acc: 0.9788 - val_loss: 0.1110 - val_acc: 0.9745\n",
      "Epoch 16/60\n",
      "11454/11454 [==============================] - 1s 71us/step - loss: 0.0968 - acc: 0.9788 - val_loss: 0.1094 - val_acc: 0.9745\n",
      "Epoch 17/60\n",
      "11454/11454 [==============================] - 1s 70us/step - loss: 0.0949 - acc: 0.9787 - val_loss: 0.1078 - val_acc: 0.9742\n",
      "Epoch 18/60\n",
      "11454/11454 [==============================] - 1s 79us/step - loss: 0.0934 - acc: 0.9790 - val_loss: 0.1060 - val_acc: 0.9747\n",
      "Epoch 19/60\n",
      "11454/11454 [==============================] - 1s 72us/step - loss: 0.0916 - acc: 0.9794 - val_loss: 0.1047 - val_acc: 0.9743\n",
      "Epoch 20/60\n",
      "11454/11454 [==============================] - 1s 96us/step - loss: 0.0903 - acc: 0.9795 - val_loss: 0.1035 - val_acc: 0.9740\n",
      "Epoch 21/60\n",
      "11454/11454 [==============================] - 1s 89us/step - loss: 0.0887 - acc: 0.9797 - val_loss: 0.1019 - val_acc: 0.9750\n",
      "Epoch 22/60\n",
      "11454/11454 [==============================] - 1s 82us/step - loss: 0.0875 - acc: 0.9799 - val_loss: 0.1009 - val_acc: 0.9743\n",
      "Epoch 23/60\n",
      "11454/11454 [==============================] - 1s 96us/step - loss: 0.0864 - acc: 0.9797 - val_loss: 0.0999 - val_acc: 0.9743\n",
      "Epoch 24/60\n",
      "11454/11454 [==============================] - 1s 109us/step - loss: 0.0852 - acc: 0.9804 - val_loss: 0.0986 - val_acc: 0.9754\n",
      "Epoch 25/60\n",
      "11454/11454 [==============================] - 1s 116us/step - loss: 0.0842 - acc: 0.9801 - val_loss: 0.0980 - val_acc: 0.9752\n",
      "Epoch 26/60\n",
      "11454/11454 [==============================] - 1s 96us/step - loss: 0.0831 - acc: 0.9803 - val_loss: 0.0971 - val_acc: 0.9754\n",
      "Epoch 27/60\n",
      "11454/11454 [==============================] - 1s 79us/step - loss: 0.0823 - acc: 0.9804 - val_loss: 0.0962 - val_acc: 0.9759\n",
      "Epoch 28/60\n",
      "11454/11454 [==============================] - 1s 102us/step - loss: 0.0813 - acc: 0.9806 - val_loss: 0.0955 - val_acc: 0.9754\n",
      "Epoch 29/60\n",
      "11454/11454 [==============================] - 1s 116us/step - loss: 0.0805 - acc: 0.9803 - val_loss: 0.0949 - val_acc: 0.9747\n",
      "Epoch 30/60\n",
      "11454/11454 [==============================] - 1s 88us/step - loss: 0.0798 - acc: 0.9809 - val_loss: 0.0939 - val_acc: 0.9754\n",
      "Epoch 31/60\n",
      "11454/11454 [==============================] - 2s 141us/step - loss: 0.0790 - acc: 0.9805 - val_loss: 0.0934 - val_acc: 0.9750\n",
      "Epoch 32/60\n",
      "11454/11454 [==============================] - 1s 79us/step - loss: 0.0783 - acc: 0.9808 - val_loss: 0.0927 - val_acc: 0.9757\n",
      "Epoch 33/60\n",
      "11454/11454 [==============================] - 2s 150us/step - loss: 0.0776 - acc: 0.9807 - val_loss: 0.0920 - val_acc: 0.9754\n",
      "Epoch 34/60\n",
      "11454/11454 [==============================] - 2s 190us/step - loss: 0.0770 - acc: 0.9811 - val_loss: 0.0912 - val_acc: 0.9752\n",
      "Epoch 35/60\n",
      "11454/11454 [==============================] - 2s 197us/step - loss: 0.0764 - acc: 0.9808 - val_loss: 0.0908 - val_acc: 0.9752\n",
      "Epoch 36/60\n",
      "11454/11454 [==============================] - 1s 126us/step - loss: 0.0758 - acc: 0.9807 - val_loss: 0.0902 - val_acc: 0.9752\n",
      "Epoch 37/60\n",
      "11454/11454 [==============================] - 2s 140us/step - loss: 0.0754 - acc: 0.9813 - val_loss: 0.0895 - val_acc: 0.9747\n",
      "Epoch 38/60\n",
      "11454/11454 [==============================] - 2s 201us/step - loss: 0.0748 - acc: 0.9812 - val_loss: 0.0893 - val_acc: 0.9749\n",
      "Epoch 39/60\n",
      "11454/11454 [==============================] - 2s 157us/step - loss: 0.0746 - acc: 0.9813 - val_loss: 0.0885 - val_acc: 0.9750\n",
      "Epoch 40/60\n",
      "11454/11454 [==============================] - 2s 153us/step - loss: 0.0742 - acc: 0.9808 - val_loss: 0.0889 - val_acc: 0.9749\n",
      "Epoch 41/60\n",
      "11454/11454 [==============================] - 2s 186us/step - loss: 0.0735 - acc: 0.9814 - val_loss: 0.0873 - val_acc: 0.9757\n",
      "Epoch 42/60\n",
      "11454/11454 [==============================] - 2s 159us/step - loss: 0.0731 - acc: 0.9816 - val_loss: 0.0875 - val_acc: 0.9749\n",
      "Epoch 43/60\n",
      "11454/11454 [==============================] - 2s 137us/step - loss: 0.0727 - acc: 0.9811 - val_loss: 0.0868 - val_acc: 0.9747\n",
      "Epoch 44/60\n",
      "11454/11454 [==============================] - 2s 145us/step - loss: 0.0724 - acc: 0.9816 - val_loss: 0.0863 - val_acc: 0.9756\n",
      "Epoch 45/60\n",
      "11454/11454 [==============================] - 2s 145us/step - loss: 0.0720 - acc: 0.9818 - val_loss: 0.0861 - val_acc: 0.9756\n",
      "Epoch 46/60\n",
      "11454/11454 [==============================] - 1s 130us/step - loss: 0.0717 - acc: 0.9816 - val_loss: 0.0859 - val_acc: 0.9754\n",
      "Epoch 47/60\n",
      "11454/11454 [==============================] - 2s 194us/step - loss: 0.0714 - acc: 0.9819 - val_loss: 0.0852 - val_acc: 0.9757\n",
      "Epoch 48/60\n",
      "11454/11454 [==============================] - 2s 184us/step - loss: 0.0710 - acc: 0.9819 - val_loss: 0.0852 - val_acc: 0.9754\n",
      "Epoch 49/60\n",
      "11454/11454 [==============================] - 2s 177us/step - loss: 0.0707 - acc: 0.9817 - val_loss: 0.0844 - val_acc: 0.9759\n",
      "Epoch 50/60\n",
      "11454/11454 [==============================] - 2s 189us/step - loss: 0.0704 - acc: 0.9821 - val_loss: 0.0842 - val_acc: 0.9759\n",
      "Epoch 51/60\n",
      "11454/11454 [==============================] - 2s 178us/step - loss: 0.0703 - acc: 0.9815 - val_loss: 0.0841 - val_acc: 0.9763\n",
      "Epoch 52/60\n",
      "11454/11454 [==============================] - 2s 175us/step - loss: 0.0700 - acc: 0.9820 - val_loss: 0.0838 - val_acc: 0.9763\n",
      "Epoch 53/60\n",
      "11454/11454 [==============================] - 2s 193us/step - loss: 0.0697 - acc: 0.9816 - val_loss: 0.0835 - val_acc: 0.9763\n",
      "Epoch 54/60\n",
      "11454/11454 [==============================] - 2s 201us/step - loss: 0.0695 - acc: 0.9820 - val_loss: 0.0833 - val_acc: 0.9764\n",
      "Epoch 55/60\n",
      "11454/11454 [==============================] - 2s 206us/step - loss: 0.0692 - acc: 0.9819 - val_loss: 0.0835 - val_acc: 0.9759\n",
      "Epoch 56/60\n",
      "11454/11454 [==============================] - 2s 185us/step - loss: 0.0691 - acc: 0.9816 - val_loss: 0.0829 - val_acc: 0.9763\n",
      "Epoch 57/60\n",
      "11454/11454 [==============================] - 2s 201us/step - loss: 0.0690 - acc: 0.9820 - val_loss: 0.0822 - val_acc: 0.9763\n",
      "Epoch 58/60\n",
      "11454/11454 [==============================] - 2s 195us/step - loss: 0.0687 - acc: 0.9817 - val_loss: 0.0834 - val_acc: 0.9754\n",
      "Epoch 59/60\n",
      "11454/11454 [==============================] - 2s 206us/step - loss: 0.0687 - acc: 0.9819 - val_loss: 0.0819 - val_acc: 0.9766\n",
      "Epoch 60/60\n",
      "11454/11454 [==============================] - 2s 206us/step - loss: 0.0685 - acc: 0.9818 - val_loss: 0.0822 - val_acc: 0.9763\n"
     ]
    }
   ],
   "source": [
    "train_history =model.fit(x=train_Features, \n",
    "                         y=train_Label, \n",
    "                         validation_split=0.2, \n",
    "                         epochs=60, \n",
    "                         batch_size=1500,verbose=1,callbacks=[early_stopping])"
   ]
  },
  {
   "cell_type": "code",
   "execution_count": 27,
   "metadata": {
    "collapsed": true
   },
   "outputs": [],
   "source": [
    "import matplotlib.pyplot as plt\n",
    "def show_train_history(train_history,train,validation):\n",
    "    plt.plot(train_history.history[train])\n",
    "    plt.plot(train_history.history[validation])\n",
    "    plt.title('Train History')\n",
    "    plt.ylabel(train)\n",
    "    plt.xlabel('Epoch')\n",
    "    plt.legend(['train', 'validation'], loc='upper left')\n",
    "    plt.show()"
   ]
  },
  {
   "cell_type": "code",
   "execution_count": 28,
   "metadata": {
    "collapsed": false
   },
   "outputs": [
    {
     "data": {
      "image/png": "[encoded data removed]",
      "text/plain": [
       "<matplotlib.figure.Figure at 0x7f5ecd7f5828>"
      ]
     },
     "metadata": {},
     "output_type": "display_data"
    }
   ],
   "source": [
    "show_train_history(train_history,'acc','val_acc')"
   ]
  },
  {
   "cell_type": "code",
   "execution_count": 29,
   "metadata": {
    "collapsed": false
   },
   "outputs": [
    {
     "data": {
      "image/png": "[encoded data removed]",
      "text/plain": [
       "<matplotlib.figure.Figure at 0x7f5ecd7f5358>"
      ]
     },
     "metadata": {},
     "output_type": "display_data"
    }
   ],
   "source": [
    "show_train_history(train_history,'loss','val_loss')"
   ]
  },
  {
   "cell_type": "code",
   "execution_count": 30,
   "metadata": {
    "collapsed": false
   },
   "outputs": [
    {
     "name": "stdout",
     "output_type": "stream",
     "text": [
      "3580/3580 [==============================] - 1s 182us/step\n"
     ]
    }
   ],
   "source": [
    "scores = model.evaluate(x=test_Features, \n",
    "                        y=test_Label)"
   ]
  },
  {
   "cell_type": "code",
   "execution_count": 31,
   "metadata": {
    "collapsed": false
   },
   "outputs": [
    {
     "data": {
      "text/plain": [
       "0.9793296087387554"
      ]
     },
     "execution_count": 31,
     "metadata": {},
     "output_type": "execute_result"
    }
   ],
   "source": [
    "scores[1]"
   ]
  }
 ],
 "metadata": {
  "anaconda-cloud": {},
  "kernelspec": {
   "display_name": "Python [default]",
   "language": "python",
   "name": "python3"
  },
  "language_info": {
   "codemirror_mode": {
    "name": "ipython",
    "version": 3
   },
   "file_extension": ".py",
   "mimetype": "text/x-python",
   "name": "python",
   "nbconvert_exporter": "python",
   "pygments_lexer": "ipython3",
   "version": "3.5.2"
  }
 },
 "nbformat": 4,
 "nbformat_minor": 1
}
