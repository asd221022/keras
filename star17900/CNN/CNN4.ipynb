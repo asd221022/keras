{
 "cells": [
  {
   "cell_type": "code",
   "execution_count": 32,
   "metadata": {
    "collapsed": false
   },
   "outputs": [],
   "source": [
    "import numpy \n",
    "import pandas as pd\n",
    "from sklearn.preprocessing import StandardScaler\n",
    "from sklearn.model_selection import train_test_split\n",
    "numpy.random.seed(10)"
   ]
  },
  {
   "cell_type": "code",
   "execution_count": 33,
   "metadata": {
    "collapsed": false
   },
   "outputs": [],
   "source": [
    "all_df = pd.read_csv(\"data/star.csv\")"
   ]
  },
  {
   "cell_type": "code",
   "execution_count": 34,
   "metadata": {
    "collapsed": false
   },
   "outputs": [
    {
     "data": {
      "text/html": [
       "<div>\n",
       "<table border=\"1\" class=\"dataframe\">\n",
       "  <thead>\n",
       "    <tr style=\"text-align: right;\">\n",
       "      <th></th>\n",
       "      <th>Mean of the integrated profile</th>\n",
       "      <th>Standard deviation of the integrated profile</th>\n",
       "      <th>Excess kurtosis of the integrated profile</th>\n",
       "      <th>Skewness of the integrated profile</th>\n",
       "      <th>Mean of the DM-SNR curve</th>\n",
       "      <th>Standard deviation of the DM-SNR curve</th>\n",
       "      <th>Excess kurtosis of the DM-SNR curve</th>\n",
       "      <th>Skewness of the DM-SNR curve</th>\n",
       "      <th>target_class</th>\n",
       "    </tr>\n",
       "  </thead>\n",
       "  <tbody>\n",
       "    <tr>\n",
       "      <th>0</th>\n",
       "      <td>140.562500</td>\n",
       "      <td>55.683782</td>\n",
       "      <td>-0.234571</td>\n",
       "      <td>-0.699648</td>\n",
       "      <td>3.199833</td>\n",
       "      <td>19.110426</td>\n",
       "      <td>7.975532</td>\n",
       "      <td>74.242225</td>\n",
       "      <td>0</td>\n",
       "    </tr>\n",
       "    <tr>\n",
       "      <th>1</th>\n",
       "      <td>102.507812</td>\n",
       "      <td>58.882430</td>\n",
       "      <td>0.465318</td>\n",
       "      <td>-0.515088</td>\n",
       "      <td>1.677258</td>\n",
       "      <td>14.860146</td>\n",
       "      <td>10.576487</td>\n",
       "      <td>127.393580</td>\n",
       "      <td>0</td>\n",
       "    </tr>\n",
       "    <tr>\n",
       "      <th>2</th>\n",
       "      <td>103.015625</td>\n",
       "      <td>39.341649</td>\n",
       "      <td>0.323328</td>\n",
       "      <td>1.051164</td>\n",
       "      <td>3.121237</td>\n",
       "      <td>21.744669</td>\n",
       "      <td>7.735822</td>\n",
       "      <td>63.171909</td>\n",
       "      <td>0</td>\n",
       "    </tr>\n",
       "    <tr>\n",
       "      <th>3</th>\n",
       "      <td>136.750000</td>\n",
       "      <td>57.178449</td>\n",
       "      <td>-0.068415</td>\n",
       "      <td>-0.636238</td>\n",
       "      <td>3.642977</td>\n",
       "      <td>20.959280</td>\n",
       "      <td>6.896499</td>\n",
       "      <td>53.593661</td>\n",
       "      <td>0</td>\n",
       "    </tr>\n",
       "    <tr>\n",
       "      <th>4</th>\n",
       "      <td>88.726562</td>\n",
       "      <td>40.672225</td>\n",
       "      <td>0.600866</td>\n",
       "      <td>1.123492</td>\n",
       "      <td>1.178930</td>\n",
       "      <td>11.468720</td>\n",
       "      <td>14.269573</td>\n",
       "      <td>252.567306</td>\n",
       "      <td>0</td>\n",
       "    </tr>\n",
       "  </tbody>\n",
       "</table>\n",
       "</div>"
      ],
      "text/plain": [
       "    Mean of the integrated profile  \\\n",
       "0                       140.562500   \n",
       "1                       102.507812   \n",
       "2                       103.015625   \n",
       "3                       136.750000   \n",
       "4                        88.726562   \n",
       "\n",
       "    Standard deviation of the integrated profile  \\\n",
       "0                                      55.683782   \n",
       "1                                      58.882430   \n",
       "2                                      39.341649   \n",
       "3                                      57.178449   \n",
       "4                                      40.672225   \n",
       "\n",
       "    Excess kurtosis of the integrated profile  \\\n",
       "0                                   -0.234571   \n",
       "1                                    0.465318   \n",
       "2                                    0.323328   \n",
       "3                                   -0.068415   \n",
       "4                                    0.600866   \n",
       "\n",
       "    Skewness of the integrated profile   Mean of the DM-SNR curve  \\\n",
       "0                            -0.699648                   3.199833   \n",
       "1                            -0.515088                   1.677258   \n",
       "2                             1.051164                   3.121237   \n",
       "3                            -0.636238                   3.642977   \n",
       "4                             1.123492                   1.178930   \n",
       "\n",
       "    Standard deviation of the DM-SNR curve  \\\n",
       "0                                19.110426   \n",
       "1                                14.860146   \n",
       "2                                21.744669   \n",
       "3                                20.959280   \n",
       "4                                11.468720   \n",
       "\n",
       "    Excess kurtosis of the DM-SNR curve   Skewness of the DM-SNR curve  \\\n",
       "0                              7.975532                      74.242225   \n",
       "1                             10.576487                     127.393580   \n",
       "2                              7.735822                      63.171909   \n",
       "3                              6.896499                      53.593661   \n",
       "4                             14.269573                     252.567306   \n",
       "\n",
       "   target_class  \n",
       "0             0  \n",
       "1             0  \n",
       "2             0  \n",
       "3             0  \n",
       "4             0  "
      ]
     },
     "execution_count": 34,
     "metadata": {},
     "output_type": "execute_result"
    }
   ],
   "source": [
    "all_df[:5]"
   ]
  },
  {
   "cell_type": "code",
   "execution_count": 35,
   "metadata": {
    "collapsed": true
   },
   "outputs": [],
   "source": [
    "X=all_df.drop(['target_class'], axis=1).values.astype('float64')"
   ]
  },
  {
   "cell_type": "code",
   "execution_count": 36,
   "metadata": {
    "collapsed": true
   },
   "outputs": [],
   "source": [
    "Y = all_df['target_class'].values.astype('int64')"
   ]
  },
  {
   "cell_type": "code",
   "execution_count": 37,
   "metadata": {
    "collapsed": false
   },
   "outputs": [
    {
     "data": {
      "text/plain": [
       "14318"
      ]
     },
     "execution_count": 37,
     "metadata": {},
     "output_type": "execute_result"
    }
   ],
   "source": [
    "X = StandardScaler().fit_transform(X)\n",
    "train_Features, test_Features, train_Label, test_Label = train_test_split(X, Y, test_size=0.2, random_state=True) \n",
    "len(train_Features)"
   ]
  },
  {
   "cell_type": "code",
   "execution_count": 38,
   "metadata": {
    "collapsed": false
   },
   "outputs": [
    {
     "data": {
      "text/plain": [
       "(17898, 8)"
      ]
     },
     "execution_count": 38,
     "metadata": {},
     "output_type": "execute_result"
    }
   ],
   "source": [
    "X.shape"
   ]
  },
  {
   "cell_type": "code",
   "execution_count": 39,
   "metadata": {
    "collapsed": true
   },
   "outputs": [],
   "source": [
    "train_Features = train_Features.reshape((train_Features.shape[0], train_Features.shape[1], 1))"
   ]
  },
  {
   "cell_type": "code",
   "execution_count": 40,
   "metadata": {
    "collapsed": true
   },
   "outputs": [],
   "source": [
    "test_Features = test_Features.reshape((test_Features.shape[0], test_Features.shape[1], 1))"
   ]
  },
  {
   "cell_type": "code",
   "execution_count": 41,
   "metadata": {
    "collapsed": false
   },
   "outputs": [],
   "source": [
    "from keras.utils import np_utils\n",
    "train_Label = train_Label.reshape(train_Label.shape[0], 1)\n",
    "test_Label= test_Label.reshape(test_Label.shape[0], 1)\n",
    "train_Label=np_utils.to_categorical(train_Label)\n",
    "test_Label=np_utils.to_categorical(test_Label)"
   ]
  },
  {
   "cell_type": "code",
   "execution_count": 42,
   "metadata": {
    "collapsed": false
   },
   "outputs": [],
   "source": [
    "from keras.models import Sequential\n",
    "from keras.layers import Dense,Dropout,Flatten,Conv1D,MaxPooling1D\n",
    "from keras.layers.embeddings import Embedding\n",
    "from keras.callbacks import EarlyStopping\n",
    "early_stopping = EarlyStopping(monitor='val_loss', patience=2)"
   ]
  },
  {
   "cell_type": "code",
   "execution_count": 43,
   "metadata": {
    "collapsed": true
   },
   "outputs": [],
   "source": [
    "model = Sequential()"
   ]
  },
  {
   "cell_type": "code",
   "execution_count": 44,
   "metadata": {
    "collapsed": false
   },
   "outputs": [],
   "source": [
    "model.add(Conv1D(filters=24*4,\n",
    "                 kernel_size=1,\n",
    "                 input_shape=(8,1),\n",
    "                 padding='valid',\n",
    "                 activation='relu'))"
   ]
  },
  {
   "cell_type": "code",
   "execution_count": 45,
   "metadata": {
    "collapsed": true
   },
   "outputs": [],
   "source": [
    "model.add(MaxPooling1D(pool_size=1))"
   ]
  },
  {
   "cell_type": "code",
   "execution_count": 46,
   "metadata": {
    "collapsed": true
   },
   "outputs": [],
   "source": [
    "model.add(Conv1D(filters=24*3,\n",
    "                 kernel_size=1,\n",
    "                 padding='valid',\n",
    "                 activation='relu'))"
   ]
  },
  {
   "cell_type": "code",
   "execution_count": 47,
   "metadata": {
    "collapsed": true
   },
   "outputs": [],
   "source": [
    "model.add(MaxPooling1D(pool_size=1))"
   ]
  },
  {
   "cell_type": "code",
   "execution_count": 48,
   "metadata": {
    "collapsed": true
   },
   "outputs": [],
   "source": [
    "model.add(Conv1D(filters=24*2,\n",
    "                 kernel_size=1,\n",
    "                 padding='valid',\n",
    "                 activation='relu'))"
   ]
  },
  {
   "cell_type": "code",
   "execution_count": 49,
   "metadata": {
    "collapsed": true
   },
   "outputs": [],
   "source": [
    "model.add(MaxPooling1D(pool_size=1))"
   ]
  },
  {
   "cell_type": "code",
   "execution_count": 50,
   "metadata": {
    "collapsed": true
   },
   "outputs": [],
   "source": [
    "model.add(Conv1D(filters=24,\n",
    "                 kernel_size=1,\n",
    "                 padding='valid',\n",
    "                 activation='relu'))"
   ]
  },
  {
   "cell_type": "code",
   "execution_count": 51,
   "metadata": {
    "collapsed": true
   },
   "outputs": [],
   "source": [
    "model.add(MaxPooling1D(pool_size=1))"
   ]
  },
  {
   "cell_type": "code",
   "execution_count": 52,
   "metadata": {
    "collapsed": true
   },
   "outputs": [],
   "source": [
    "model.add(Flatten())"
   ]
  },
  {
   "cell_type": "code",
   "execution_count": 53,
   "metadata": {
    "collapsed": true
   },
   "outputs": [],
   "source": [
    "model.add(Dense(8, activation='tanh'))"
   ]
  },
  {
   "cell_type": "code",
   "execution_count": 54,
   "metadata": {
    "collapsed": true
   },
   "outputs": [],
   "source": [
    "model.add(Dense(2,activation='sigmoid'))"
   ]
  },
  {
   "cell_type": "code",
   "execution_count": 55,
   "metadata": {
    "collapsed": false
   },
   "outputs": [
    {
     "name": "stdout",
     "output_type": "stream",
     "text": [
      "_________________________________________________________________\n",
      "Layer (type)                 Output Shape              Param #   \n",
      "=================================================================\n",
      "conv1d_5 (Conv1D)            (None, 8, 96)             192       \n",
      "_________________________________________________________________\n",
      "max_pooling1d_5 (MaxPooling1 (None, 8, 96)             0         \n",
      "_________________________________________________________________\n",
      "conv1d_6 (Conv1D)            (None, 8, 72)             6984      \n",
      "_________________________________________________________________\n",
      "max_pooling1d_6 (MaxPooling1 (None, 8, 72)             0         \n",
      "_________________________________________________________________\n",
      "conv1d_7 (Conv1D)            (None, 8, 48)             3504      \n",
      "_________________________________________________________________\n",
      "max_pooling1d_7 (MaxPooling1 (None, 8, 48)             0         \n",
      "_________________________________________________________________\n",
      "conv1d_8 (Conv1D)            (None, 8, 24)             1176      \n",
      "_________________________________________________________________\n",
      "max_pooling1d_8 (MaxPooling1 (None, 8, 24)             0         \n",
      "_________________________________________________________________\n",
      "flatten_2 (Flatten)          (None, 192)               0         \n",
      "_________________________________________________________________\n",
      "dense_3 (Dense)              (None, 8)                 1544      \n",
      "_________________________________________________________________\n",
      "dense_4 (Dense)              (None, 2)                 18        \n",
      "=================================================================\n",
      "Total params: 13,418\n",
      "Trainable params: 13,418\n",
      "Non-trainable params: 0\n",
      "_________________________________________________________________\n"
     ]
    }
   ],
   "source": [
    "model.summary()"
   ]
  },
  {
   "cell_type": "code",
   "execution_count": 56,
   "metadata": {
    "collapsed": false
   },
   "outputs": [],
   "source": [
    "model.compile(loss='binary_crossentropy', \n",
    "              optimizer='adam', metrics=['accuracy'])"
   ]
  },
  {
   "cell_type": "code",
   "execution_count": 57,
   "metadata": {
    "collapsed": false
   },
   "outputs": [
    {
     "name": "stdout",
     "output_type": "stream",
     "text": [
      "Train on 11454 samples, validate on 2864 samples\n",
      "Epoch 1/60\n",
      "11454/11454 [==============================] - 3s 299us/step - loss: 0.6635 - acc: 0.7663 - val_loss: 0.6058 - val_acc: 0.9282\n",
      "Epoch 2/60\n",
      "11454/11454 [==============================] - 1s 112us/step - loss: 0.5468 - acc: 0.9267 - val_loss: 0.4613 - val_acc: 0.9064\n",
      "Epoch 3/60\n",
      "11454/11454 [==============================] - 1s 93us/step - loss: 0.3874 - acc: 0.9119 - val_loss: 0.3125 - val_acc: 0.9024\n",
      "Epoch 4/60\n",
      "11454/11454 [==============================] - 1s 94us/step - loss: 0.2549 - acc: 0.9250 - val_loss: 0.2088 - val_acc: 0.9443\n",
      "Epoch 5/60\n",
      "11454/11454 [==============================] - 1s 96us/step - loss: 0.1766 - acc: 0.9626 - val_loss: 0.1625 - val_acc: 0.9698\n",
      "Epoch 6/60\n",
      "11454/11454 [==============================] - 1s 93us/step - loss: 0.1431 - acc: 0.9749 - val_loss: 0.1427 - val_acc: 0.9729\n",
      "Epoch 7/60\n",
      "11454/11454 [==============================] - 1s 97us/step - loss: 0.1278 - acc: 0.9766 - val_loss: 0.1344 - val_acc: 0.9736\n",
      "Epoch 8/60\n",
      "11454/11454 [==============================] - 1s 113us/step - loss: 0.1203 - acc: 0.9782 - val_loss: 0.1295 - val_acc: 0.9738\n",
      "Epoch 9/60\n",
      "11454/11454 [==============================] - 2s 142us/step - loss: 0.1138 - acc: 0.9787 - val_loss: 0.1231 - val_acc: 0.9742\n",
      "Epoch 10/60\n",
      "11454/11454 [==============================] - 3s 218us/step - loss: 0.1089 - acc: 0.9793 - val_loss: 0.1202 - val_acc: 0.9740\n",
      "Epoch 11/60\n",
      "11454/11454 [==============================] - 1s 119us/step - loss: 0.1060 - acc: 0.9790 - val_loss: 0.1178 - val_acc: 0.9745\n",
      "Epoch 12/60\n",
      "11454/11454 [==============================] - 2s 138us/step - loss: 0.1034 - acc: 0.9792 - val_loss: 0.1156 - val_acc: 0.9743\n",
      "Epoch 13/60\n",
      "11454/11454 [==============================] - 2s 162us/step - loss: 0.1011 - acc: 0.9796 - val_loss: 0.1131 - val_acc: 0.9743\n",
      "Epoch 14/60\n",
      "11454/11454 [==============================] - 2s 149us/step - loss: 0.0987 - acc: 0.9796 - val_loss: 0.1110 - val_acc: 0.9743\n",
      "Epoch 15/60\n",
      "11454/11454 [==============================] - 2s 162us/step - loss: 0.0968 - acc: 0.9797 - val_loss: 0.1086 - val_acc: 0.9745\n",
      "Epoch 16/60\n",
      "11454/11454 [==============================] - 2s 150us/step - loss: 0.0947 - acc: 0.9800 - val_loss: 0.1070 - val_acc: 0.9742\n",
      "Epoch 17/60\n",
      "11454/11454 [==============================] - 2s 175us/step - loss: 0.0930 - acc: 0.9799 - val_loss: 0.1053 - val_acc: 0.9740\n",
      "Epoch 18/60\n",
      "11454/11454 [==============================] - 3s 283us/step - loss: 0.0916 - acc: 0.9799 - val_loss: 0.1037 - val_acc: 0.9740\n",
      "Epoch 19/60\n",
      "11454/11454 [==============================] - 4s 314us/step - loss: 0.0899 - acc: 0.9800 - val_loss: 0.1023 - val_acc: 0.9740\n",
      "Epoch 20/60\n",
      "11454/11454 [==============================] - 2s 180us/step - loss: 0.0886 - acc: 0.9801 - val_loss: 0.1008 - val_acc: 0.9742\n",
      "Epoch 21/60\n",
      "11454/11454 [==============================] - 2s 213us/step - loss: 0.0873 - acc: 0.9804 - val_loss: 0.0995 - val_acc: 0.9736\n",
      "Epoch 22/60\n",
      "11454/11454 [==============================] - 2s 196us/step - loss: 0.0858 - acc: 0.9803 - val_loss: 0.0987 - val_acc: 0.9743\n",
      "Epoch 23/60\n",
      "11454/11454 [==============================] - 3s 262us/step - loss: 0.0848 - acc: 0.9801 - val_loss: 0.0971 - val_acc: 0.9738\n",
      "Epoch 24/60\n",
      "11454/11454 [==============================] - 3s 276us/step - loss: 0.0836 - acc: 0.9808 - val_loss: 0.0961 - val_acc: 0.9736\n",
      "Epoch 25/60\n",
      "11454/11454 [==============================] - 2s 212us/step - loss: 0.0827 - acc: 0.9805 - val_loss: 0.0953 - val_acc: 0.9740\n",
      "Epoch 26/60\n",
      "11454/11454 [==============================] - 2s 203us/step - loss: 0.0815 - acc: 0.9808 - val_loss: 0.0943 - val_acc: 0.9740\n",
      "Epoch 27/60\n",
      "11454/11454 [==============================] - 2s 208us/step - loss: 0.0805 - acc: 0.9809 - val_loss: 0.0938 - val_acc: 0.9742\n",
      "Epoch 28/60\n",
      "11454/11454 [==============================] - 3s 249us/step - loss: 0.0798 - acc: 0.9809 - val_loss: 0.0926 - val_acc: 0.9735\n",
      "Epoch 29/60\n",
      "11454/11454 [==============================] - 3s 243us/step - loss: 0.0789 - acc: 0.9810 - val_loss: 0.0921 - val_acc: 0.9740\n",
      "Epoch 30/60\n",
      "11454/11454 [==============================] - 2s 203us/step - loss: 0.0782 - acc: 0.9811 - val_loss: 0.0912 - val_acc: 0.9738\n",
      "Epoch 31/60\n",
      "11454/11454 [==============================] - 2s 216us/step - loss: 0.0775 - acc: 0.9808 - val_loss: 0.0908 - val_acc: 0.9740\n",
      "Epoch 32/60\n",
      "11454/11454 [==============================] - 2s 209us/step - loss: 0.0769 - acc: 0.9814 - val_loss: 0.0905 - val_acc: 0.9742\n",
      "Epoch 33/60\n",
      "11454/11454 [==============================] - 2s 213us/step - loss: 0.0762 - acc: 0.9811 - val_loss: 0.0898 - val_acc: 0.9745\n",
      "Epoch 34/60\n",
      "11454/11454 [==============================] - 3s 265us/step - loss: 0.0756 - acc: 0.9813 - val_loss: 0.0887 - val_acc: 0.9749\n",
      "Epoch 35/60\n",
      "11454/11454 [==============================] - 2s 213us/step - loss: 0.0749 - acc: 0.9814 - val_loss: 0.0889 - val_acc: 0.9745\n",
      "Epoch 36/60\n",
      "11454/11454 [==============================] - 2s 193us/step - loss: 0.0743 - acc: 0.9815 - val_loss: 0.0880 - val_acc: 0.9750\n",
      "Epoch 37/60\n",
      "11454/11454 [==============================] - 2s 197us/step - loss: 0.0739 - acc: 0.9817 - val_loss: 0.0882 - val_acc: 0.9747\n",
      "Epoch 38/60\n",
      "11454/11454 [==============================] - 2s 185us/step - loss: 0.0734 - acc: 0.9818 - val_loss: 0.0872 - val_acc: 0.9749\n",
      "Epoch 39/60\n",
      "11454/11454 [==============================] - 2s 203us/step - loss: 0.0731 - acc: 0.9816 - val_loss: 0.0870 - val_acc: 0.9750\n",
      "Epoch 40/60\n",
      "11454/11454 [==============================] - 2s 217us/step - loss: 0.0731 - acc: 0.9812 - val_loss: 0.0866 - val_acc: 0.9752\n",
      "Epoch 41/60\n",
      "11454/11454 [==============================] - 2s 184us/step - loss: 0.0723 - acc: 0.9821 - val_loss: 0.0856 - val_acc: 0.9754\n",
      "Epoch 42/60\n",
      "11454/11454 [==============================] - 2s 196us/step - loss: 0.0718 - acc: 0.9818 - val_loss: 0.0860 - val_acc: 0.9750\n",
      "Epoch 43/60\n",
      "11454/11454 [==============================] - 3s 219us/step - loss: 0.0715 - acc: 0.9819 - val_loss: 0.0849 - val_acc: 0.9754\n",
      "Epoch 44/60\n",
      "11454/11454 [==============================] - 2s 185us/step - loss: 0.0711 - acc: 0.9820 - val_loss: 0.0855 - val_acc: 0.9750\n",
      "Epoch 45/60\n",
      "11454/11454 [==============================] - 2s 205us/step - loss: 0.0708 - acc: 0.9822 - val_loss: 0.0844 - val_acc: 0.9752\n",
      "Epoch 46/60\n",
      "11454/11454 [==============================] - 2s 179us/step - loss: 0.0705 - acc: 0.9821 - val_loss: 0.0845 - val_acc: 0.9750\n",
      "Epoch 47/60\n",
      "11454/11454 [==============================] - 3s 287us/step - loss: 0.0702 - acc: 0.9821 - val_loss: 0.0838 - val_acc: 0.9754\n",
      "Epoch 48/60\n",
      "11454/11454 [==============================] - 3s 287us/step - loss: 0.0699 - acc: 0.9824 - val_loss: 0.0839 - val_acc: 0.9752\n",
      "Epoch 49/60\n",
      "11454/11454 [==============================] - 4s 360us/step - loss: 0.0696 - acc: 0.9821 - val_loss: 0.0828 - val_acc: 0.9761\n",
      "Epoch 50/60\n",
      "11454/11454 [==============================] - 3s 293us/step - loss: 0.0694 - acc: 0.9822 - val_loss: 0.0833 - val_acc: 0.9750\n",
      "Epoch 51/60\n",
      "11454/11454 [==============================] - 3s 266us/step - loss: 0.0693 - acc: 0.9822 - val_loss: 0.0826 - val_acc: 0.9757\n",
      "Epoch 52/60\n",
      "11454/11454 [==============================] - 3s 218us/step - loss: 0.0692 - acc: 0.9823 - val_loss: 0.0831 - val_acc: 0.9756\n",
      "Epoch 53/60\n",
      "11454/11454 [==============================] - 3s 251us/step - loss: 0.0690 - acc: 0.9821 - val_loss: 0.0816 - val_acc: 0.9759\n",
      "Epoch 54/60\n",
      "11454/11454 [==============================] - 3s 302us/step - loss: 0.0687 - acc: 0.9822 - val_loss: 0.0837 - val_acc: 0.9757\n",
      "Epoch 55/60\n",
      "11454/11454 [==============================] - 3s 297us/step - loss: 0.0685 - acc: 0.9822 - val_loss: 0.0817 - val_acc: 0.9756\n"
     ]
    }
   ],
   "source": [
    "train_history =model.fit(x=train_Features, \n",
    "                         y=train_Label, \n",
    "                         validation_split=0.2, \n",
    "                         epochs=60, \n",
    "                         batch_size=1500,verbose=1,callbacks=[early_stopping])"
   ]
  },
  {
   "cell_type": "code",
   "execution_count": 58,
   "metadata": {
    "collapsed": true
   },
   "outputs": [],
   "source": [
    "import matplotlib.pyplot as plt\n",
    "def show_train_history(train_history,train,validation):\n",
    "    plt.plot(train_history.history[train])\n",
    "    plt.plot(train_history.history[validation])\n",
    "    plt.title('Train History')\n",
    "    plt.ylabel(train)\n",
    "    plt.xlabel('Epoch')\n",
    "    plt.legend(['train', 'validation'], loc='upper left')\n",
    "    plt.show()"
   ]
  },
  {
   "cell_type": "code",
   "execution_count": 59,
   "metadata": {
    "collapsed": false
   },
   "outputs": [
    {
     "data": {
      "image/png": "[encoded data removed]",
      "text/plain": [
       "<matplotlib.figure.Figure at 0x7f5ebd846b38>"
      ]
     },
     "metadata": {},
     "output_type": "display_data"
    }
   ],
   "source": [
    "show_train_history(train_history,'acc','val_acc')"
   ]
  },
  {
   "cell_type": "code",
   "execution_count": 60,
   "metadata": {
    "collapsed": false
   },
   "outputs": [
    {
     "data": {
      "image/png": "[encoded data removed]",
      "text/plain": [
       "<matplotlib.figure.Figure at 0x7f5ebd864dd8>"
      ]
     },
     "metadata": {},
     "output_type": "display_data"
    }
   ],
   "source": [
    "show_train_history(train_history,'loss','val_loss')"
   ]
  },
  {
   "cell_type": "code",
   "execution_count": 61,
   "metadata": {
    "collapsed": false
   },
   "outputs": [
    {
     "name": "stdout",
     "output_type": "stream",
     "text": [
      "3580/3580 [==============================] - 1s 159us/step\n"
     ]
    }
   ],
   "source": [
    "scores = model.evaluate(x=test_Features, \n",
    "                        y=test_Label)"
   ]
  },
  {
   "cell_type": "code",
   "execution_count": 62,
   "metadata": {
    "collapsed": false
   },
   "outputs": [
    {
     "data": {
      "text/plain": [
       "0.9796089383476939"
      ]
     },
     "execution_count": 62,
     "metadata": {},
     "output_type": "execute_result"
    }
   ],
   "source": [
    "scores[1]"
   ]
  }
 ],
 "metadata": {
  "anaconda-cloud": {},
  "kernelspec": {
   "display_name": "Python [default]",
   "language": "python",
   "name": "python3"
  },
  "language_info": {
   "codemirror_mode": {
    "name": "ipython",
    "version": 3
   },
   "file_extension": ".py",
   "mimetype": "text/x-python",
   "name": "python",
   "nbconvert_exporter": "python",
   "pygments_lexer": "ipython3",
   "version": "3.5.2"
  }
 },
 "nbformat": 4,
 "nbformat_minor": 1
}
