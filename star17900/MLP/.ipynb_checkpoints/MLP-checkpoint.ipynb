{
 "cells": [
  {
   "cell_type": "code",
   "execution_count": 2,
   "metadata": {
    "collapsed": false,
    "slideshow": {
     "slide_type": "-"
    }
   },
   "outputs": [],
   "source": [
    "import numpy\n",
    "import pandas as pd\n",
    "from sklearn.preprocessing import StandardScaler\n",
    "from sklearn.model_selection import train_test_split\n",
    "numpy.random.seed(10)"
   ]
  },
  {
   "cell_type": "code",
   "execution_count": 3,
   "metadata": {
    "collapsed": true
   },
   "outputs": [],
   "source": [
    "all_df = pd.read_csv(\"star.csv\")"
   ]
  },
  {
   "cell_type": "code",
   "execution_count": 4,
   "metadata": {
    "collapsed": false
   },
   "outputs": [
    {
     "data": {
      "text/html": [
       "<div>\n",
       "<table border=\"1\" class=\"dataframe\">\n",
       "  <thead>\n",
       "    <tr style=\"text-align: right;\">\n",
       "      <th></th>\n",
       "      <th>Mean of the integrated profile</th>\n",
       "      <th>Standard deviation of the integrated profile</th>\n",
       "      <th>Excess kurtosis of the integrated profile</th>\n",
       "      <th>Skewness of the integrated profile</th>\n",
       "      <th>Mean of the DM-SNR curve</th>\n",
       "      <th>Standard deviation of the DM-SNR curve</th>\n",
       "      <th>Excess kurtosis of the DM-SNR curve</th>\n",
       "      <th>Skewness of the DM-SNR curve</th>\n",
       "      <th>target_class</th>\n",
       "    </tr>\n",
       "  </thead>\n",
       "  <tbody>\n",
       "    <tr>\n",
       "      <th>0</th>\n",
       "      <td>140.562500</td>\n",
       "      <td>55.683782</td>\n",
       "      <td>-0.234571</td>\n",
       "      <td>-0.699648</td>\n",
       "      <td>3.199833</td>\n",
       "      <td>19.110426</td>\n",
       "      <td>7.975532</td>\n",
       "      <td>74.242225</td>\n",
       "      <td>0</td>\n",
       "    </tr>\n",
       "    <tr>\n",
       "      <th>1</th>\n",
       "      <td>102.507812</td>\n",
       "      <td>58.882430</td>\n",
       "      <td>0.465318</td>\n",
       "      <td>-0.515088</td>\n",
       "      <td>1.677258</td>\n",
       "      <td>14.860146</td>\n",
       "      <td>10.576487</td>\n",
       "      <td>127.393580</td>\n",
       "      <td>0</td>\n",
       "    </tr>\n",
       "    <tr>\n",
       "      <th>2</th>\n",
       "      <td>103.015625</td>\n",
       "      <td>39.341649</td>\n",
       "      <td>0.323328</td>\n",
       "      <td>1.051164</td>\n",
       "      <td>3.121237</td>\n",
       "      <td>21.744669</td>\n",
       "      <td>7.735822</td>\n",
       "      <td>63.171909</td>\n",
       "      <td>0</td>\n",
       "    </tr>\n",
       "    <tr>\n",
       "      <th>3</th>\n",
       "      <td>136.750000</td>\n",
       "      <td>57.178449</td>\n",
       "      <td>-0.068415</td>\n",
       "      <td>-0.636238</td>\n",
       "      <td>3.642977</td>\n",
       "      <td>20.959280</td>\n",
       "      <td>6.896499</td>\n",
       "      <td>53.593661</td>\n",
       "      <td>0</td>\n",
       "    </tr>\n",
       "    <tr>\n",
       "      <th>4</th>\n",
       "      <td>88.726562</td>\n",
       "      <td>40.672225</td>\n",
       "      <td>0.600866</td>\n",
       "      <td>1.123492</td>\n",
       "      <td>1.178930</td>\n",
       "      <td>11.468720</td>\n",
       "      <td>14.269573</td>\n",
       "      <td>252.567306</td>\n",
       "      <td>0</td>\n",
       "    </tr>\n",
       "  </tbody>\n",
       "</table>\n",
       "</div>"
      ],
      "text/plain": [
       "    Mean of the integrated profile  \\\n",
       "0                       140.562500   \n",
       "1                       102.507812   \n",
       "2                       103.015625   \n",
       "3                       136.750000   \n",
       "4                        88.726562   \n",
       "\n",
       "    Standard deviation of the integrated profile  \\\n",
       "0                                      55.683782   \n",
       "1                                      58.882430   \n",
       "2                                      39.341649   \n",
       "3                                      57.178449   \n",
       "4                                      40.672225   \n",
       "\n",
       "    Excess kurtosis of the integrated profile  \\\n",
       "0                                   -0.234571   \n",
       "1                                    0.465318   \n",
       "2                                    0.323328   \n",
       "3                                   -0.068415   \n",
       "4                                    0.600866   \n",
       "\n",
       "    Skewness of the integrated profile   Mean of the DM-SNR curve  \\\n",
       "0                            -0.699648                   3.199833   \n",
       "1                            -0.515088                   1.677258   \n",
       "2                             1.051164                   3.121237   \n",
       "3                            -0.636238                   3.642977   \n",
       "4                             1.123492                   1.178930   \n",
       "\n",
       "    Standard deviation of the DM-SNR curve  \\\n",
       "0                                19.110426   \n",
       "1                                14.860146   \n",
       "2                                21.744669   \n",
       "3                                20.959280   \n",
       "4                                11.468720   \n",
       "\n",
       "    Excess kurtosis of the DM-SNR curve   Skewness of the DM-SNR curve  \\\n",
       "0                              7.975532                      74.242225   \n",
       "1                             10.576487                     127.393580   \n",
       "2                              7.735822                      63.171909   \n",
       "3                              6.896499                      53.593661   \n",
       "4                             14.269573                     252.567306   \n",
       "\n",
       "   target_class  \n",
       "0             0  \n",
       "1             0  \n",
       "2             0  \n",
       "3             0  \n",
       "4             0  "
      ]
     },
     "execution_count": 4,
     "metadata": {},
     "output_type": "execute_result"
    }
   ],
   "source": [
    "all_df[:5]"
   ]
  },
  {
   "cell_type": "code",
   "execution_count": 5,
   "metadata": {
    "collapsed": false
   },
   "outputs": [
    {
     "data": {
      "text/plain": [
       "(17898, 9)"
      ]
     },
     "execution_count": 5,
     "metadata": {},
     "output_type": "execute_result"
    }
   ],
   "source": [
    "all_df.shape"
   ]
  },
  {
   "cell_type": "code",
   "execution_count": 6,
   "metadata": {
    "collapsed": true
   },
   "outputs": [],
   "source": [
    "X=all_df.drop(['target_class'], axis=1).values.astype('float64')"
   ]
  },
  {
   "cell_type": "code",
   "execution_count": 7,
   "metadata": {
    "collapsed": true
   },
   "outputs": [],
   "source": [
    "Y = all_df['target_class'].values.astype('int64')"
   ]
  },
  {
   "cell_type": "code",
   "execution_count": 8,
   "metadata": {
    "collapsed": false
   },
   "outputs": [
    {
     "data": {
      "text/plain": [
       "(17898, 8)"
      ]
     },
     "execution_count": 8,
     "metadata": {},
     "output_type": "execute_result"
    }
   ],
   "source": [
    "X.shape"
   ]
  },
  {
   "cell_type": "code",
   "execution_count": 9,
   "metadata": {
    "collapsed": false
   },
   "outputs": [
    {
     "data": {
      "text/plain": [
       "array([[ 1.40562500e+02,  5.56837821e+01, -2.34571412e-01,\n",
       "        -6.99648398e-01,  3.19983278e+00,  1.91104263e+01,\n",
       "         7.97553179e+00,  7.42422249e+01],\n",
       "       [ 1.02507812e+02,  5.88824300e+01,  4.65318154e-01,\n",
       "        -5.15087909e-01,  1.67725752e+00,  1.48601457e+01,\n",
       "         1.05764867e+01,  1.27393580e+02],\n",
       "       [ 1.03015625e+02,  3.93416494e+01,  3.23328365e-01,\n",
       "         1.05116443e+00,  3.12123746e+00,  2.17446687e+01,\n",
       "         7.73582202e+00,  6.31719091e+01],\n",
       "       [ 1.36750000e+02,  5.71784487e+01, -6.84146380e-02,\n",
       "        -6.36238369e-01,  3.64297659e+00,  2.09592803e+01,\n",
       "         6.89649891e+00,  5.35936607e+01],\n",
       "       [ 8.87265625e+01,  4.06722254e+01,  6.00866079e-01,\n",
       "         1.12349169e+00,  1.17892977e+00,  1.14687196e+01,\n",
       "         1.42695728e+01,  2.52567306e+02]])"
      ]
     },
     "execution_count": 9,
     "metadata": {},
     "output_type": "execute_result"
    }
   ],
   "source": [
    "X[:5]"
   ]
  },
  {
   "cell_type": "code",
   "execution_count": 10,
   "metadata": {
    "collapsed": false
   },
   "outputs": [
    {
     "data": {
      "text/plain": [
       "array([0, 0, 0, 0, 0])"
      ]
     },
     "execution_count": 10,
     "metadata": {},
     "output_type": "execute_result"
    }
   ],
   "source": [
    "Y[:5]"
   ]
  },
  {
   "cell_type": "code",
   "execution_count": 11,
   "metadata": {
    "collapsed": false
   },
   "outputs": [
    {
     "data": {
      "text/plain": [
       "14318"
      ]
     },
     "execution_count": 11,
     "metadata": {},
     "output_type": "execute_result"
    }
   ],
   "source": [
    " X = StandardScaler().fit_transform(X)\n",
    "train_Features, test_Features, train_Label, test_Label = train_test_split(X, Y, test_size=0.2, random_state=True) \n",
    "len(train_Features)"
   ]
  },
  {
   "cell_type": "code",
   "execution_count": 12,
   "metadata": {
    "collapsed": false
   },
   "outputs": [
    {
     "data": {
      "text/plain": [
       "array([[ 0.36112984,  0.31159171, -0.36710959, -0.29321381, -0.3907055 ,\n",
       "        -0.83537546,  1.90940183,  2.46814431],\n",
       "       [ 0.60995091,  0.07718099, -0.37038262, -0.28667219, -0.38301725,\n",
       "        -0.73468559,  1.18487691,  1.134074  ],\n",
       "       [ 0.52345742, -0.14414577, -0.31964423, -0.28379257, -0.33064638,\n",
       "        -0.20478093,  0.04580925, -0.27484506],\n",
       "       [-0.50228232, -0.75427374,  0.01602529, -0.13405655,  0.02403437,\n",
       "         1.17718143, -1.07679328, -0.89030937]])"
      ]
     },
     "execution_count": 12,
     "metadata": {},
     "output_type": "execute_result"
    }
   ],
   "source": [
    "train_Features[355:359]"
   ]
  },
  {
   "cell_type": "code",
   "execution_count": 13,
   "metadata": {
    "collapsed": false
   },
   "outputs": [
    {
     "data": {
      "text/plain": [
       "array([0, 0, 0, 0])"
      ]
     },
     "execution_count": 13,
     "metadata": {},
     "output_type": "execute_result"
    }
   ],
   "source": [
    "train_Label[:4]"
   ]
  },
  {
   "cell_type": "code",
   "execution_count": 14,
   "metadata": {
    "collapsed": false
   },
   "outputs": [
    {
     "name": "stderr",
     "output_type": "stream",
     "text": [
      "Using TensorFlow backend.\n"
     ]
    }
   ],
   "source": [
    "from keras.models import Sequential\n",
    "from keras.layers import Dense,Dropout\n",
    "from keras.callbacks import EarlyStopping\n",
    "early_stopping = EarlyStopping(monitor='val_loss', patience=2)"
   ]
  },
  {
   "cell_type": "code",
   "execution_count": 15,
   "metadata": {
    "collapsed": true
   },
   "outputs": [],
   "source": [
    "model = Sequential()"
   ]
  },
  {
   "cell_type": "code",
   "execution_count": 16,
   "metadata": {
    "collapsed": true
   },
   "outputs": [],
   "source": [
    "model.add(Dense(units=8,   input_dim=8,\n",
    "                kernel_initializer='uniform', \n",
    "                activation='relu'))"
   ]
  },
  {
   "cell_type": "code",
   "execution_count": 17,
   "metadata": {
    "collapsed": true
   },
   "outputs": [],
   "source": [
    "model.add(Dense(units=1, \n",
    "                kernel_initializer='uniform',\n",
    "                activation='sigmoid'))"
   ]
  },
  {
   "cell_type": "code",
   "execution_count": 18,
   "metadata": {
    "collapsed": false
   },
   "outputs": [
    {
     "name": "stdout",
     "output_type": "stream",
     "text": [
      "_________________________________________________________________\n",
      "Layer (type)                 Output Shape              Param #   \n",
      "=================================================================\n",
      "dense_1 (Dense)              (None, 8)                 72        \n",
      "_________________________________________________________________\n",
      "dense_2 (Dense)              (None, 1)                 9         \n",
      "=================================================================\n",
      "Total params: 81\n",
      "Trainable params: 81\n",
      "Non-trainable params: 0\n",
      "_________________________________________________________________\n"
     ]
    }
   ],
   "source": [
    "model.summary()"
   ]
  },
  {
   "cell_type": "code",
   "execution_count": 19,
   "metadata": {
    "collapsed": true
   },
   "outputs": [],
   "source": [
    "model.compile(loss='binary_crossentropy', \n",
    "              optimizer='adam', metrics=['accuracy'])"
   ]
  },
  {
   "cell_type": "code",
   "execution_count": 20,
   "metadata": {
    "collapsed": false
   },
   "outputs": [
    {
     "name": "stdout",
     "output_type": "stream",
     "text": [
      "Train on 12886 samples, validate on 1432 samples\n",
      "Epoch 1/30\n",
      "12886/12886 [==============================] - 1s 92us/step - loss: 0.6794 - acc: 0.9215 - val_loss: 0.6612 - val_acc: 0.9707\n",
      "Epoch 2/30\n",
      "12886/12886 [==============================] - 0s 17us/step - loss: 0.6350 - acc: 0.9704 - val_loss: 0.6000 - val_acc: 0.9707\n",
      "Epoch 3/30\n",
      "12886/12886 [==============================] - 0s 24us/step - loss: 0.5634 - acc: 0.9632 - val_loss: 0.5180 - val_acc: 0.9686\n",
      "Epoch 4/30\n",
      "12886/12886 [==============================] - 0s 30us/step - loss: 0.4818 - acc: 0.9635 - val_loss: 0.4378 - val_acc: 0.9686\n",
      "Epoch 5/30\n",
      "12886/12886 [==============================] - 0s 30us/step - loss: 0.4076 - acc: 0.9679 - val_loss: 0.3719 - val_acc: 0.9700\n",
      "Epoch 6/30\n",
      "12886/12886 [==============================] - 0s 22us/step - loss: 0.3476 - acc: 0.9724 - val_loss: 0.3198 - val_acc: 0.9707\n",
      "Epoch 7/30\n",
      "12886/12886 [==============================] - 0s 23us/step - loss: 0.3005 - acc: 0.9733 - val_loss: 0.2797 - val_acc: 0.9714\n",
      "Epoch 8/30\n",
      "12886/12886 [==============================] - 0s 21us/step - loss: 0.2635 - acc: 0.9745 - val_loss: 0.2478 - val_acc: 0.9742\n",
      "Epoch 9/30\n",
      "12886/12886 [==============================] - 0s 22us/step - loss: 0.2338 - acc: 0.9748 - val_loss: 0.2215 - val_acc: 0.9735\n",
      "Epoch 10/30\n",
      "12886/12886 [==============================] - 0s 20us/step - loss: 0.2092 - acc: 0.9759 - val_loss: 0.1995 - val_acc: 0.9735\n",
      "Epoch 11/30\n",
      "12886/12886 [==============================] - 0s 21us/step - loss: 0.1885 - acc: 0.9762 - val_loss: 0.1805 - val_acc: 0.9742\n",
      "Epoch 12/30\n",
      "12886/12886 [==============================] - 0s 23us/step - loss: 0.1710 - acc: 0.9771 - val_loss: 0.1647 - val_acc: 0.9742\n",
      "Epoch 13/30\n",
      "12886/12886 [==============================] - 0s 24us/step - loss: 0.1565 - acc: 0.9768 - val_loss: 0.1511 - val_acc: 0.9749\n",
      "Epoch 14/30\n",
      "12886/12886 [==============================] - 0s 22us/step - loss: 0.1445 - acc: 0.9770 - val_loss: 0.1401 - val_acc: 0.9742\n",
      "Epoch 15/30\n",
      "12886/12886 [==============================] - 0s 24us/step - loss: 0.1348 - acc: 0.9776 - val_loss: 0.1317 - val_acc: 0.9742\n",
      "Epoch 16/30\n",
      "12886/12886 [==============================] - 0s 24us/step - loss: 0.1271 - acc: 0.9780 - val_loss: 0.1253 - val_acc: 0.9742\n",
      "Epoch 17/30\n",
      "12886/12886 [==============================] - 0s 24us/step - loss: 0.1210 - acc: 0.9780 - val_loss: 0.1204 - val_acc: 0.9742\n",
      "Epoch 18/30\n",
      "12886/12886 [==============================] - 0s 20us/step - loss: 0.1161 - acc: 0.9780 - val_loss: 0.1165 - val_acc: 0.9735\n",
      "Epoch 19/30\n",
      "12886/12886 [==============================] - 0s 20us/step - loss: 0.1123 - acc: 0.9778 - val_loss: 0.1134 - val_acc: 0.9742\n",
      "Epoch 20/30\n",
      "12886/12886 [==============================] - 0s 21us/step - loss: 0.1091 - acc: 0.9783 - val_loss: 0.1111 - val_acc: 0.9742\n",
      "Epoch 21/30\n",
      "12886/12886 [==============================] - 0s 21us/step - loss: 0.1065 - acc: 0.9783 - val_loss: 0.1091 - val_acc: 0.9742\n",
      "Epoch 22/30\n",
      "12886/12886 [==============================] - 0s 23us/step - loss: 0.1044 - acc: 0.9785 - val_loss: 0.1074 - val_acc: 0.9742\n",
      "Epoch 23/30\n",
      "12886/12886 [==============================] - 0s 23us/step - loss: 0.1026 - acc: 0.9787 - val_loss: 0.1061 - val_acc: 0.9742\n",
      "Epoch 24/30\n",
      "12886/12886 [==============================] - 0s 22us/step - loss: 0.1010 - acc: 0.9786 - val_loss: 0.1049 - val_acc: 0.9728\n",
      "Epoch 25/30\n",
      "12886/12886 [==============================] - 0s 21us/step - loss: 0.0997 - acc: 0.9787 - val_loss: 0.1039 - val_acc: 0.9728\n",
      "Epoch 26/30\n",
      "12886/12886 [==============================] - 0s 21us/step - loss: 0.0985 - acc: 0.9783 - val_loss: 0.1031 - val_acc: 0.9735\n",
      "Epoch 27/30\n",
      "12886/12886 [==============================] - 0s 22us/step - loss: 0.0973 - acc: 0.9783 - val_loss: 0.1021 - val_acc: 0.9728\n",
      "Epoch 28/30\n",
      "12886/12886 [==============================] - 0s 22us/step - loss: 0.0962 - acc: 0.9785 - val_loss: 0.1013 - val_acc: 0.9735\n",
      "Epoch 29/30\n",
      "12886/12886 [==============================] - 0s 21us/step - loss: 0.0952 - acc: 0.9787 - val_loss: 0.1004 - val_acc: 0.9728\n",
      "Epoch 30/30\n",
      "12886/12886 [==============================] - 0s 22us/step - loss: 0.0941 - acc: 0.9785 - val_loss: 0.0996 - val_acc: 0.9735\n"
     ]
    }
   ],
   "source": [
    "train_history =model.fit(x=train_Features, \n",
    "                         y=train_Label, \n",
    "                         validation_split=0.1, \n",
    "                         epochs=30, \n",
    "                         batch_size=300,verbose=1,callbacks=[early_stopping])"
   ]
  },
  {
   "cell_type": "code",
   "execution_count": 21,
   "metadata": {
    "collapsed": true
   },
   "outputs": [],
   "source": [
    "import matplotlib.pyplot as plt\n",
    "def show_train_history(train_history,train,validation):\n",
    "    plt.plot(train_history.history[train])\n",
    "    plt.plot(train_history.history[validation])\n",
    "    plt.title('Train History')\n",
    "    plt.ylabel(train)\n",
    "    plt.xlabel('Epoch')\n",
    "    plt.legend(['train', 'validation'], loc='upper left')\n",
    "    plt.show()"
   ]
  },
  {
   "cell_type": "code",
   "execution_count": 22,
   "metadata": {
    "collapsed": false
   },
   "outputs": [
    {
     "data": {
      "image/png": "[encoded data removed]",
      "text/plain": [
       "<matplotlib.figure.Figure at 0x7f723d7dcb00>"
      ]
     },
     "metadata": {},
     "output_type": "display_data"
    }
   ],
   "source": [
    "show_train_history(train_history,'acc','val_acc')"
   ]
  },
  {
   "cell_type": "code",
   "execution_count": 23,
   "metadata": {
    "collapsed": false
   },
   "outputs": [
    {
     "data": {
      "image/png": "[encoded data removed]",
      "text/plain": [
       "<matplotlib.figure.Figure at 0x7f723d7dca20>"
      ]
     },
     "metadata": {},
     "output_type": "display_data"
    }
   ],
   "source": [
    "show_train_history(train_history,'loss','val_loss')"
   ]
  },
  {
   "cell_type": "code",
   "execution_count": 24,
   "metadata": {
    "collapsed": false
   },
   "outputs": [
    {
     "name": "stdout",
     "output_type": "stream",
     "text": [
      "3580/3580 [==============================] - 0s 51us/step\n"
     ]
    }
   ],
   "source": [
    "scores = model.evaluate(x=test_Features, \n",
    "                        y=test_Label)"
   ]
  },
  {
   "cell_type": "code",
   "execution_count": 25,
   "metadata": {
    "collapsed": false
   },
   "outputs": [
    {
     "data": {
      "text/plain": [
       "0.9784916202449265"
      ]
     },
     "execution_count": 25,
     "metadata": {},
     "output_type": "execute_result"
    }
   ],
   "source": [
    "scores[1]"
   ]
  }
 ],
 "metadata": {
  "anaconda-cloud": {},
  "kernelspec": {
   "display_name": "Python [default]",
   "language": "python",
   "name": "python3"
  },
  "language_info": {
   "codemirror_mode": {
    "name": "ipython",
    "version": 3
   },
   "file_extension": ".py",
   "mimetype": "text/x-python",
   "name": "python",
   "nbconvert_exporter": "python",
   "pygments_lexer": "ipython3",
   "version": "3.5.2"
  }
 },
 "nbformat": 4,
 "nbformat_minor": 1
}
