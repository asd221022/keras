{
 "cells": [
  {
   "cell_type": "code",
   "execution_count": 1,
   "metadata": {
    "collapsed": false
   },
   "outputs": [],
   "source": [
    "import numpy \n",
    "import pandas as pd\n",
    "from sklearn.preprocessing import StandardScaler\n",
    "from sklearn.model_selection import train_test_split\n",
    "numpy.random.seed(10)"
   ]
  },
  {
   "cell_type": "code",
   "execution_count": 2,
   "metadata": {
    "collapsed": false
   },
   "outputs": [],
   "source": [
    "all_df = pd.read_csv(\"data/star.csv\")"
   ]
  },
  {
   "cell_type": "code",
   "execution_count": 3,
   "metadata": {
    "collapsed": true
   },
   "outputs": [],
   "source": [
    "X=all_df.drop(['target_class'], axis=1).values.astype('float64')"
   ]
  },
  {
   "cell_type": "code",
   "execution_count": 4,
   "metadata": {
    "collapsed": true
   },
   "outputs": [],
   "source": [
    "Y = all_df['target_class'].values.astype('int64')"
   ]
  },
  {
   "cell_type": "code",
   "execution_count": 5,
   "metadata": {
    "collapsed": false
   },
   "outputs": [
    {
     "data": {
      "text/plain": [
       "14318"
      ]
     },
     "execution_count": 5,
     "metadata": {},
     "output_type": "execute_result"
    }
   ],
   "source": [
    "X = StandardScaler().fit_transform(X)\n",
    "train_Features, test_Features, train_Label, test_Label = train_test_split(X, Y, test_size=0.2, random_state=True) \n",
    "len(train_Features)"
   ]
  },
  {
   "cell_type": "code",
   "execution_count": 6,
   "metadata": {
    "collapsed": false
   },
   "outputs": [
    {
     "data": {
      "text/plain": [
       "array([[-0.17610439, -0.03233402, -0.03304459, -0.30800098,  2.72763109,\n",
       "         3.42581353, -1.8008325 , -1.00060536],\n",
       "       [-1.89957861, -1.28100252,  2.39730283,  1.79667065,  0.98835635,\n",
       "         2.27972835, -1.4693661 , -0.96845994]])"
      ]
     },
     "execution_count": 6,
     "metadata": {},
     "output_type": "execute_result"
    }
   ],
   "source": [
    "test_Features[:2]"
   ]
  },
  {
   "cell_type": "code",
   "execution_count": 7,
   "metadata": {
    "collapsed": false
   },
   "outputs": [
    {
     "data": {
      "text/plain": [
       "array([0, 0, 0, 0])"
      ]
     },
     "execution_count": 7,
     "metadata": {},
     "output_type": "execute_result"
    }
   ],
   "source": [
    "train_Label[:4]"
   ]
  },
  {
   "cell_type": "code",
   "execution_count": 8,
   "metadata": {
    "collapsed": false
   },
   "outputs": [
    {
     "data": {
      "text/plain": [
       "(14318, 8)"
      ]
     },
     "execution_count": 8,
     "metadata": {},
     "output_type": "execute_result"
    }
   ],
   "source": [
    "train_Features.shape"
   ]
  },
  {
   "cell_type": "code",
   "execution_count": 9,
   "metadata": {
    "collapsed": false
   },
   "outputs": [
    {
     "data": {
      "text/plain": [
       "array([0, 1, 0, 0])"
      ]
     },
     "execution_count": 9,
     "metadata": {},
     "output_type": "execute_result"
    }
   ],
   "source": [
    "test_Label[:4]"
   ]
  },
  {
   "cell_type": "code",
   "execution_count": 10,
   "metadata": {
    "collapsed": true
   },
   "outputs": [],
   "source": [
    "train_Features = train_Features.reshape((train_Features.shape[0], train_Features.shape[1], 1))"
   ]
  },
  {
   "cell_type": "code",
   "execution_count": 11,
   "metadata": {
    "collapsed": true
   },
   "outputs": [],
   "source": [
    "test_Features = test_Features.reshape((test_Features.shape[0], test_Features.shape[1], 1))"
   ]
  },
  {
   "cell_type": "code",
   "execution_count": 12,
   "metadata": {
    "collapsed": false
   },
   "outputs": [
    {
     "name": "stderr",
     "output_type": "stream",
     "text": [
      "Using TensorFlow backend.\n"
     ]
    }
   ],
   "source": [
    "from keras.utils import np_utils\n",
    "train_Label = train_Label.reshape(train_Label.shape[0], 1)\n",
    "test_Label= test_Label.reshape(test_Label.shape[0], 1)\n",
    "train_Label=np_utils.to_categorical(train_Label)\n",
    "test_Label=np_utils.to_categorical(test_Label)"
   ]
  },
  {
   "cell_type": "code",
   "execution_count": 13,
   "metadata": {
    "collapsed": false
   },
   "outputs": [],
   "source": [
    "from keras.models import Sequential\n",
    "from keras.layers.core import Dense, Dropout, Activation\n",
    "from keras.layers.embeddings import Embedding\n",
    "from keras.layers.recurrent import LSTM\n",
    "from keras.callbacks import EarlyStopping\n",
    "early_stopping = EarlyStopping(monitor='val_loss', patience=2)"
   ]
  },
  {
   "cell_type": "code",
   "execution_count": 14,
   "metadata": {
    "collapsed": true
   },
   "outputs": [],
   "source": [
    "model = Sequential()"
   ]
  },
  {
   "cell_type": "code",
   "execution_count": 15,
   "metadata": {
    "collapsed": false
   },
   "outputs": [],
   "source": [
    "model.add(LSTM(units=16, input_shape=(8,1)))"
   ]
  },
  {
   "cell_type": "code",
   "execution_count": 16,
   "metadata": {
    "collapsed": true
   },
   "outputs": [],
   "source": [
    "model.add(Dense(2, activation = \"sigmoid\"))"
   ]
  },
  {
   "cell_type": "code",
   "execution_count": 17,
   "metadata": {
    "collapsed": false
   },
   "outputs": [
    {
     "name": "stdout",
     "output_type": "stream",
     "text": [
      "_________________________________________________________________\n",
      "Layer (type)                 Output Shape              Param #   \n",
      "=================================================================\n",
      "lstm_1 (LSTM)                (None, 16)                1152      \n",
      "_________________________________________________________________\n",
      "dense_1 (Dense)              (None, 2)                 34        \n",
      "=================================================================\n",
      "Total params: 1,186\n",
      "Trainable params: 1,186\n",
      "Non-trainable params: 0\n",
      "_________________________________________________________________\n"
     ]
    }
   ],
   "source": [
    "model.summary()"
   ]
  },
  {
   "cell_type": "code",
   "execution_count": 18,
   "metadata": {
    "collapsed": false
   },
   "outputs": [],
   "source": [
    "model.compile(loss='binary_crossentropy', \n",
    "              optimizer='adam', metrics=['accuracy'])"
   ]
  },
  {
   "cell_type": "code",
   "execution_count": 19,
   "metadata": {
    "collapsed": false
   },
   "outputs": [
    {
     "name": "stdout",
     "output_type": "stream",
     "text": [
      "Train on 11454 samples, validate on 2864 samples\n",
      "Epoch 1/60\n",
      "11454/11454 [==============================] - 4s 372us/step - loss: 0.6892 - acc: 0.6773 - val_loss: 0.6805 - val_acc: 0.7751\n",
      "Epoch 2/60\n",
      "11454/11454 [==============================] - 0s 44us/step - loss: 0.6732 - acc: 0.8165 - val_loss: 0.6636 - val_acc: 0.8434\n",
      "Epoch 3/60\n",
      "11454/11454 [==============================] - 0s 38us/step - loss: 0.6550 - acc: 0.8665 - val_loss: 0.6438 - val_acc: 0.8795\n",
      "Epoch 4/60\n",
      "11454/11454 [==============================] - 0s 35us/step - loss: 0.6329 - acc: 0.8910 - val_loss: 0.6190 - val_acc: 0.8954\n",
      "Epoch 5/60\n",
      "11454/11454 [==============================] - 1s 81us/step - loss: 0.6047 - acc: 0.9052 - val_loss: 0.5864 - val_acc: 0.9068\n",
      "Epoch 6/60\n",
      "11454/11454 [==============================] - 1s 85us/step - loss: 0.5668 - acc: 0.9137 - val_loss: 0.5421 - val_acc: 0.9136\n",
      "Epoch 7/60\n",
      "11454/11454 [==============================] - 1s 56us/step - loss: 0.5155 - acc: 0.9177 - val_loss: 0.4826 - val_acc: 0.9124\n",
      "Epoch 8/60\n",
      "11454/11454 [==============================] - 1s 52us/step - loss: 0.4487 - acc: 0.9158 - val_loss: 0.4096 - val_acc: 0.9085\n",
      "Epoch 9/60\n",
      "11454/11454 [==============================] - 0s 35us/step - loss: 0.3732 - acc: 0.9133 - val_loss: 0.3403 - val_acc: 0.9054\n",
      "Epoch 10/60\n",
      "11454/11454 [==============================] - 0s 37us/step - loss: 0.3118 - acc: 0.9099 - val_loss: 0.2998 - val_acc: 0.9024\n",
      "Epoch 11/60\n",
      "11454/11454 [==============================] - 0s 35us/step - loss: 0.2807 - acc: 0.9093 - val_loss: 0.2856 - val_acc: 0.9022\n",
      "Epoch 12/60\n",
      "11454/11454 [==============================] - 0s 37us/step - loss: 0.2683 - acc: 0.9105 - val_loss: 0.2763 - val_acc: 0.9062\n",
      "Epoch 13/60\n",
      "11454/11454 [==============================] - 0s 36us/step - loss: 0.2579 - acc: 0.9134 - val_loss: 0.2658 - val_acc: 0.9103\n",
      "Epoch 14/60\n",
      "11454/11454 [==============================] - 0s 37us/step - loss: 0.2477 - acc: 0.9163 - val_loss: 0.2565 - val_acc: 0.9141\n",
      "Epoch 15/60\n",
      "11454/11454 [==============================] - 1s 79us/step - loss: 0.2397 - acc: 0.9193 - val_loss: 0.2490 - val_acc: 0.9172\n",
      "Epoch 16/60\n",
      "11454/11454 [==============================] - 1s 109us/step - loss: 0.2330 - acc: 0.9215 - val_loss: 0.2427 - val_acc: 0.9190\n",
      "Epoch 17/60\n",
      "11454/11454 [==============================] - 1s 104us/step - loss: 0.2268 - acc: 0.9237 - val_loss: 0.2369 - val_acc: 0.9206\n",
      "Epoch 18/60\n",
      "11454/11454 [==============================] - 1s 74us/step - loss: 0.2210 - acc: 0.9251 - val_loss: 0.2316 - val_acc: 0.9225\n",
      "Epoch 19/60\n",
      "11454/11454 [==============================] - 1s 60us/step - loss: 0.2156 - acc: 0.9261 - val_loss: 0.2265 - val_acc: 0.9235\n",
      "Epoch 20/60\n",
      "11454/11454 [==============================] - 1s 82us/step - loss: 0.2103 - acc: 0.9275 - val_loss: 0.2213 - val_acc: 0.9253\n",
      "Epoch 21/60\n",
      "11454/11454 [==============================] - 0s 33us/step - loss: 0.2052 - acc: 0.9293 - val_loss: 0.2162 - val_acc: 0.9269\n",
      "Epoch 22/60\n",
      "11454/11454 [==============================] - 1s 47us/step - loss: 0.2001 - acc: 0.9313 - val_loss: 0.2112 - val_acc: 0.9284\n",
      "Epoch 23/60\n",
      "11454/11454 [==============================] - 1s 100us/step - loss: 0.1950 - acc: 0.9330 - val_loss: 0.2059 - val_acc: 0.9298\n",
      "Epoch 24/60\n",
      "11454/11454 [==============================] - 1s 77us/step - loss: 0.1897 - acc: 0.9351 - val_loss: 0.2008 - val_acc: 0.9321\n",
      "Epoch 25/60\n",
      "11454/11454 [==============================] - 1s 97us/step - loss: 0.1846 - acc: 0.9373 - val_loss: 0.1958 - val_acc: 0.9331\n",
      "Epoch 26/60\n",
      "11454/11454 [==============================] - 1s 101us/step - loss: 0.1794 - acc: 0.9394 - val_loss: 0.1907 - val_acc: 0.9352\n",
      "Epoch 27/60\n",
      "11454/11454 [==============================] - 1s 112us/step - loss: 0.1744 - acc: 0.9419 - val_loss: 0.1862 - val_acc: 0.9368\n",
      "Epoch 28/60\n",
      "11454/11454 [==============================] - 2s 133us/step - loss: 0.1699 - acc: 0.9438 - val_loss: 0.1822 - val_acc: 0.9385\n",
      "Epoch 29/60\n",
      "11454/11454 [==============================] - 1s 127us/step - loss: 0.1660 - acc: 0.9459 - val_loss: 0.1790 - val_acc: 0.9403\n",
      "Epoch 30/60\n",
      "11454/11454 [==============================] - 1s 84us/step - loss: 0.1629 - acc: 0.9484 - val_loss: 0.1763 - val_acc: 0.9434\n",
      "Epoch 31/60\n",
      "11454/11454 [==============================] - 1s 77us/step - loss: 0.1602 - acc: 0.9501 - val_loss: 0.1741 - val_acc: 0.9459\n",
      "Epoch 32/60\n",
      "11454/11454 [==============================] - 1s 87us/step - loss: 0.1579 - acc: 0.9520 - val_loss: 0.1721 - val_acc: 0.9468\n",
      "Epoch 33/60\n",
      "11454/11454 [==============================] - 1s 83us/step - loss: 0.1559 - acc: 0.9538 - val_loss: 0.1701 - val_acc: 0.9485\n",
      "Epoch 34/60\n",
      "11454/11454 [==============================] - 1s 84us/step - loss: 0.1540 - acc: 0.9555 - val_loss: 0.1683 - val_acc: 0.9506\n",
      "Epoch 35/60\n",
      "11454/11454 [==============================] - 1s 80us/step - loss: 0.1522 - acc: 0.9567 - val_loss: 0.1664 - val_acc: 0.9523\n",
      "Epoch 36/60\n",
      "11454/11454 [==============================] - 1s 87us/step - loss: 0.1504 - acc: 0.9579 - val_loss: 0.1646 - val_acc: 0.9530\n",
      "Epoch 37/60\n",
      "11454/11454 [==============================] - 1s 83us/step - loss: 0.1486 - acc: 0.9592 - val_loss: 0.1627 - val_acc: 0.9544\n",
      "Epoch 38/60\n",
      "11454/11454 [==============================] - 1s 91us/step - loss: 0.1469 - acc: 0.9598 - val_loss: 0.1609 - val_acc: 0.9560\n",
      "Epoch 39/60\n",
      "11454/11454 [==============================] - 1s 81us/step - loss: 0.1452 - acc: 0.9613 - val_loss: 0.1591 - val_acc: 0.9574\n",
      "Epoch 40/60\n",
      "11454/11454 [==============================] - 1s 86us/step - loss: 0.1435 - acc: 0.9621 - val_loss: 0.1573 - val_acc: 0.9581\n",
      "Epoch 41/60\n",
      "11454/11454 [==============================] - 1s 94us/step - loss: 0.1419 - acc: 0.9628 - val_loss: 0.1555 - val_acc: 0.9591\n",
      "Epoch 42/60\n",
      "11454/11454 [==============================] - 1s 93us/step - loss: 0.1402 - acc: 0.9633 - val_loss: 0.1539 - val_acc: 0.9598\n",
      "Epoch 43/60\n",
      "11454/11454 [==============================] - 1s 91us/step - loss: 0.1386 - acc: 0.9639 - val_loss: 0.1522 - val_acc: 0.9605\n",
      "Epoch 44/60\n",
      "11454/11454 [==============================] - 1s 91us/step - loss: 0.1370 - acc: 0.9642 - val_loss: 0.1504 - val_acc: 0.9607\n",
      "Epoch 45/60\n",
      "11454/11454 [==============================] - 1s 83us/step - loss: 0.1354 - acc: 0.9647 - val_loss: 0.1487 - val_acc: 0.9609\n",
      "Epoch 46/60\n",
      "11454/11454 [==============================] - 1s 79us/step - loss: 0.1339 - acc: 0.9652 - val_loss: 0.1471 - val_acc: 0.9612\n",
      "Epoch 47/60\n",
      "11454/11454 [==============================] - 1s 79us/step - loss: 0.1323 - acc: 0.9656 - val_loss: 0.1455 - val_acc: 0.9626\n",
      "Epoch 48/60\n",
      "11454/11454 [==============================] - 1s 85us/step - loss: 0.1308 - acc: 0.9661 - val_loss: 0.1438 - val_acc: 0.9628\n",
      "Epoch 49/60\n",
      "11454/11454 [==============================] - 1s 84us/step - loss: 0.1292 - acc: 0.9669 - val_loss: 0.1423 - val_acc: 0.9630\n",
      "Epoch 50/60\n",
      "11454/11454 [==============================] - 1s 93us/step - loss: 0.1277 - acc: 0.9672 - val_loss: 0.1406 - val_acc: 0.9637\n",
      "Epoch 51/60\n",
      "11454/11454 [==============================] - 1s 82us/step - loss: 0.1261 - acc: 0.9677 - val_loss: 0.1391 - val_acc: 0.9644\n",
      "Epoch 52/60\n",
      "11454/11454 [==============================] - 1s 86us/step - loss: 0.1245 - acc: 0.9687 - val_loss: 0.1375 - val_acc: 0.9661\n",
      "Epoch 53/60\n",
      "11454/11454 [==============================] - 1s 91us/step - loss: 0.1230 - acc: 0.9693 - val_loss: 0.1359 - val_acc: 0.9670\n",
      "Epoch 54/60\n",
      "11454/11454 [==============================] - 1s 88us/step - loss: 0.1214 - acc: 0.9695 - val_loss: 0.1343 - val_acc: 0.9679\n",
      "Epoch 55/60\n",
      "11454/11454 [==============================] - 1s 87us/step - loss: 0.1198 - acc: 0.9700 - val_loss: 0.1326 - val_acc: 0.9691\n",
      "Epoch 56/60\n",
      "11454/11454 [==============================] - 1s 76us/step - loss: 0.1181 - acc: 0.9701 - val_loss: 0.1311 - val_acc: 0.9694\n",
      "Epoch 57/60\n",
      "11454/11454 [==============================] - 1s 83us/step - loss: 0.1164 - acc: 0.9705 - val_loss: 0.1295 - val_acc: 0.9696\n",
      "Epoch 58/60\n",
      "11454/11454 [==============================] - 1s 88us/step - loss: 0.1147 - acc: 0.9707 - val_loss: 0.1278 - val_acc: 0.9696\n",
      "Epoch 59/60\n",
      "11454/11454 [==============================] - 1s 86us/step - loss: 0.1129 - acc: 0.9711 - val_loss: 0.1261 - val_acc: 0.9700\n",
      "Epoch 60/60\n",
      "11454/11454 [==============================] - 1s 85us/step - loss: 0.1111 - acc: 0.9713 - val_loss: 0.1243 - val_acc: 0.9705\n"
     ]
    }
   ],
   "source": [
    "train_history =model.fit(x=train_Features, \n",
    "                         y=train_Label, \n",
    "                         validation_split=0.2, \n",
    "                         epochs=60, \n",
    "                         batch_size=1500,verbose=1,callbacks=[early_stopping])"
   ]
  },
  {
   "cell_type": "code",
   "execution_count": 20,
   "metadata": {
    "collapsed": true
   },
   "outputs": [],
   "source": [
    "import matplotlib.pyplot as plt\n",
    "def show_train_history(train_history,train,validation):\n",
    "    plt.plot(train_history.history[train])\n",
    "    plt.plot(train_history.history[validation])\n",
    "    plt.title('Train History')\n",
    "    plt.ylabel(train)\n",
    "    plt.xlabel('Epoch')\n",
    "    plt.legend(['train', 'validation'], loc='upper left')\n",
    "    plt.show()"
   ]
  },
  {
   "cell_type": "code",
   "execution_count": 21,
   "metadata": {
    "collapsed": false
   },
   "outputs": [
    {
     "data": {
      "image/png": "[encoded data removed]",
      "text/plain": [
       "<matplotlib.figure.Figure at 0x7f826b68b908>"
      ]
     },
     "metadata": {},
     "output_type": "display_data"
    }
   ],
   "source": [
    "show_train_history(train_history,'acc','val_acc')"
   ]
  },
  {
   "cell_type": "code",
   "execution_count": 22,
   "metadata": {
    "collapsed": false
   },
   "outputs": [
    {
     "data": {
      "image/png": "[encoded data removed]",
      "text/plain": [
       "<matplotlib.figure.Figure at 0x7f826b68b5c0>"
      ]
     },
     "metadata": {},
     "output_type": "display_data"
    }
   ],
   "source": [
    "show_train_history(train_history,'loss','val_loss')"
   ]
  },
  {
   "cell_type": "code",
   "execution_count": 23,
   "metadata": {
    "collapsed": false
   },
   "outputs": [
    {
     "name": "stdout",
     "output_type": "stream",
     "text": [
      "3580/3580 [==============================] - 0s 135us/step\n"
     ]
    }
   ],
   "source": [
    "scores = model.evaluate(x=test_Features, \n",
    "                        y=test_Label)"
   ]
  },
  {
   "cell_type": "code",
   "execution_count": 24,
   "metadata": {
    "collapsed": false
   },
   "outputs": [
    {
     "data": {
      "text/plain": [
       "0.9723463688482785"
      ]
     },
     "execution_count": 24,
     "metadata": {},
     "output_type": "execute_result"
    }
   ],
   "source": [
    "scores[1]"
   ]
  }
 ],
 "metadata": {
  "anaconda-cloud": {},
  "kernelspec": {
   "display_name": "Python [default]",
   "language": "python",
   "name": "python3"
  },
  "language_info": {
   "codemirror_mode": {
    "name": "ipython",
    "version": 3
   },
   "file_extension": ".py",
   "mimetype": "text/x-python",
   "name": "python",
   "nbconvert_exporter": "python",
   "pygments_lexer": "ipython3",
   "version": "3.5.2"
  }
 },
 "nbformat": 4,
 "nbformat_minor": 1
}
