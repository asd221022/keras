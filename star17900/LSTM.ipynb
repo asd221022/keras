{
 "cells": [
  {
   "cell_type": "code",
   "execution_count": 47,
   "metadata": {
    "collapsed": false
   },
   "outputs": [],
   "source": [
    "import numpy \n",
    "import pandas as pd\n",
    "from sklearn.preprocessing import StandardScaler\n",
    "from sklearn.model_selection import train_test_split\n",
    "numpy.random.seed(10)"
   ]
  },
  {
   "cell_type": "code",
   "execution_count": 48,
   "metadata": {
    "collapsed": false
   },
   "outputs": [],
   "source": [
    "all_df = pd.read_csv(\"data/star.csv\")"
   ]
  },
  {
   "cell_type": "code",
   "execution_count": 49,
   "metadata": {
    "collapsed": true
   },
   "outputs": [],
   "source": [
    "X=all_df.drop(['target_class'], axis=1).values.astype('float64')"
   ]
  },
  {
   "cell_type": "code",
   "execution_count": 50,
   "metadata": {
    "collapsed": true
   },
   "outputs": [],
   "source": [
    "Y = all_df['target_class'].values.astype('int64')"
   ]
  },
  {
   "cell_type": "code",
   "execution_count": 51,
   "metadata": {
    "collapsed": false
   },
   "outputs": [
    {
     "data": {
      "text/plain": [
       "14318"
      ]
     },
     "execution_count": 51,
     "metadata": {},
     "output_type": "execute_result"
    }
   ],
   "source": [
    "X = StandardScaler().fit_transform(X)\n",
    "train_Features, test_Features, train_Label, test_Label = train_test_split(X, Y, test_size=0.2, random_state=True) \n",
    "len(train_Features)"
   ]
  },
  {
   "cell_type": "code",
   "execution_count": 52,
   "metadata": {
    "collapsed": false
   },
   "outputs": [
    {
     "data": {
      "text/plain": [
       "array([[-0.17610439, -0.03233402, -0.03304459, -0.30800098,  2.72763109,\n",
       "         3.42581353, -1.8008325 , -1.00060536],\n",
       "       [-1.89957861, -1.28100252,  2.39730283,  1.79667065,  0.98835635,\n",
       "         2.27972835, -1.4693661 , -0.96845994]])"
      ]
     },
     "execution_count": 52,
     "metadata": {},
     "output_type": "execute_result"
    }
   ],
   "source": [
    "test_Features[:2]"
   ]
  },
  {
   "cell_type": "code",
   "execution_count": 53,
   "metadata": {
    "collapsed": false
   },
   "outputs": [
    {
     "data": {
      "text/plain": [
       "array([0, 0, 0, 0])"
      ]
     },
     "execution_count": 53,
     "metadata": {},
     "output_type": "execute_result"
    }
   ],
   "source": [
    "train_Label[:4]"
   ]
  },
  {
   "cell_type": "code",
   "execution_count": 54,
   "metadata": {
    "collapsed": false
   },
   "outputs": [
    {
     "data": {
      "text/plain": [
       "(14318, 8)"
      ]
     },
     "execution_count": 54,
     "metadata": {},
     "output_type": "execute_result"
    }
   ],
   "source": [
    "train_Features.shape"
   ]
  },
  {
   "cell_type": "code",
   "execution_count": 55,
   "metadata": {
    "collapsed": false
   },
   "outputs": [
    {
     "data": {
      "text/plain": [
       "array([0, 1, 0, 0])"
      ]
     },
     "execution_count": 55,
     "metadata": {},
     "output_type": "execute_result"
    }
   ],
   "source": [
    "test_Label[:4]"
   ]
  },
  {
   "cell_type": "code",
   "execution_count": 56,
   "metadata": {
    "collapsed": true
   },
   "outputs": [],
   "source": [
    "train_Features = train_Features.reshape((train_Features.shape[0], train_Features.shape[1], 1))"
   ]
  },
  {
   "cell_type": "code",
   "execution_count": 57,
   "metadata": {
    "collapsed": true
   },
   "outputs": [],
   "source": [
    "test_Features = test_Features.reshape((test_Features.shape[0], test_Features.shape[1], 1))"
   ]
  },
  {
   "cell_type": "code",
   "execution_count": 58,
   "metadata": {
    "collapsed": false
   },
   "outputs": [],
   "source": [
    "from keras.models import Sequential\n",
    "from keras.layers.core import Dense, Dropout, Activation\n",
    "from keras.layers.embeddings import Embedding\n",
    "from keras.layers.recurrent import LSTM\n",
    "from keras.callbacks import EarlyStopping\n",
    "early_stopping = EarlyStopping(monitor='val_loss', patience=2)"
   ]
  },
  {
   "cell_type": "code",
   "execution_count": 59,
   "metadata": {
    "collapsed": true
   },
   "outputs": [],
   "source": [
    "model = Sequential()"
   ]
  },
  {
   "cell_type": "code",
   "execution_count": 60,
   "metadata": {
    "collapsed": false
   },
   "outputs": [],
   "source": [
    "model.add(LSTM(units=8, input_shape=(8,1)))"
   ]
  },
  {
   "cell_type": "code",
   "execution_count": 61,
   "metadata": {
    "collapsed": true
   },
   "outputs": [],
   "source": [
    "model.add(Dense(1, activation = \"sigmoid\"))"
   ]
  },
  {
   "cell_type": "code",
   "execution_count": 62,
   "metadata": {
    "collapsed": false
   },
   "outputs": [
    {
     "name": "stdout",
     "output_type": "stream",
     "text": [
      "_________________________________________________________________\n",
      "Layer (type)                 Output Shape              Param #   \n",
      "=================================================================\n",
      "lstm_3 (LSTM)                (None, 8)                 320       \n",
      "_________________________________________________________________\n",
      "dense_3 (Dense)              (None, 1)                 9         \n",
      "=================================================================\n",
      "Total params: 329\n",
      "Trainable params: 329\n",
      "Non-trainable params: 0\n",
      "_________________________________________________________________\n"
     ]
    }
   ],
   "source": [
    "model.summary()"
   ]
  },
  {
   "cell_type": "code",
   "execution_count": 63,
   "metadata": {
    "collapsed": false
   },
   "outputs": [],
   "source": [
    "model.compile(loss='binary_crossentropy', \n",
    "              optimizer='adam', metrics=['accuracy'])"
   ]
  },
  {
   "cell_type": "code",
   "execution_count": 64,
   "metadata": {
    "collapsed": false
   },
   "outputs": [
    {
     "name": "stdout",
     "output_type": "stream",
     "text": [
      "Train on 12886 samples, validate on 1432 samples\n",
      "Epoch 1/30\n",
      "12886/12886 [==============================] - 2s 158us/step - loss: 0.6776 - acc: 0.6469 - val_loss: 0.6652 - val_acc: 0.6934\n",
      "Epoch 2/30\n",
      "12886/12886 [==============================] - 0s 15us/step - loss: 0.6578 - acc: 0.7085 - val_loss: 0.6452 - val_acc: 0.7416\n",
      "Epoch 3/30\n",
      "12886/12886 [==============================] - 0s 39us/step - loss: 0.6370 - acc: 0.7578 - val_loss: 0.6238 - val_acc: 0.7898\n",
      "Epoch 4/30\n",
      "12886/12886 [==============================] - 0s 17us/step - loss: 0.6143 - acc: 0.7946 - val_loss: 0.6000 - val_acc: 0.8170\n",
      "Epoch 5/30\n",
      "12886/12886 [==============================] - 0s 15us/step - loss: 0.5888 - acc: 0.8291 - val_loss: 0.5729 - val_acc: 0.8471\n",
      "Epoch 6/30\n",
      "12886/12886 [==============================] - 0s 18us/step - loss: 0.5594 - acc: 0.8637 - val_loss: 0.5415 - val_acc: 0.8729\n",
      "Epoch 7/30\n",
      "12886/12886 [==============================] - 0s 33us/step - loss: 0.5256 - acc: 0.8884 - val_loss: 0.5055 - val_acc: 0.8959\n",
      "Epoch 8/30\n",
      "12886/12886 [==============================] - 0s 19us/step - loss: 0.4868 - acc: 0.9099 - val_loss: 0.4651 - val_acc: 0.9169\n",
      "Epoch 9/30\n",
      "12886/12886 [==============================] - 0s 14us/step - loss: 0.4444 - acc: 0.9239 - val_loss: 0.4217 - val_acc: 0.9218\n",
      "Epoch 10/30\n",
      "12886/12886 [==============================] - 0s 31us/step - loss: 0.4002 - acc: 0.9272 - val_loss: 0.3787 - val_acc: 0.9204\n",
      "Epoch 11/30\n",
      "12886/12886 [==============================] - 0s 22us/step - loss: 0.3579 - acc: 0.9252 - val_loss: 0.3402 - val_acc: 0.9183\n",
      "Epoch 12/30\n",
      "12886/12886 [==============================] - 0s 22us/step - loss: 0.3216 - acc: 0.9227 - val_loss: 0.3091 - val_acc: 0.9162\n",
      "Epoch 13/30\n",
      "12886/12886 [==============================] - 1s 48us/step - loss: 0.2932 - acc: 0.9208 - val_loss: 0.2865 - val_acc: 0.9162\n",
      "Epoch 14/30\n",
      "12886/12886 [==============================] - 0s 25us/step - loss: 0.2731 - acc: 0.9205 - val_loss: 0.2708 - val_acc: 0.9162\n",
      "Epoch 15/30\n",
      "12886/12886 [==============================] - 1s 58us/step - loss: 0.2590 - acc: 0.9215 - val_loss: 0.2600 - val_acc: 0.9162\n",
      "Epoch 16/30\n",
      "12886/12886 [==============================] - 0s 34us/step - loss: 0.2495 - acc: 0.9227 - val_loss: 0.2521 - val_acc: 0.9190\n",
      "Epoch 17/30\n",
      "12886/12886 [==============================] - 1s 51us/step - loss: 0.2424 - acc: 0.9253 - val_loss: 0.2461 - val_acc: 0.9211\n",
      "Epoch 18/30\n",
      "12886/12886 [==============================] - 1s 51us/step - loss: 0.2371 - acc: 0.9273 - val_loss: 0.2411 - val_acc: 0.9225\n",
      "Epoch 19/30\n",
      "12886/12886 [==============================] - 1s 58us/step - loss: 0.2326 - acc: 0.9275 - val_loss: 0.2367 - val_acc: 0.9225\n",
      "Epoch 20/30\n",
      "12886/12886 [==============================] - 1s 58us/step - loss: 0.2289 - acc: 0.9295 - val_loss: 0.2329 - val_acc: 0.9274\n",
      "Epoch 21/30\n",
      "12886/12886 [==============================] - 1s 57us/step - loss: 0.2255 - acc: 0.9305 - val_loss: 0.2294 - val_acc: 0.9281\n",
      "Epoch 22/30\n",
      "12886/12886 [==============================] - 1s 54us/step - loss: 0.2225 - acc: 0.9319 - val_loss: 0.2261 - val_acc: 0.9274\n",
      "Epoch 23/30\n",
      "12886/12886 [==============================] - 1s 44us/step - loss: 0.2196 - acc: 0.9331 - val_loss: 0.2230 - val_acc: 0.9281\n",
      "Epoch 24/30\n",
      "12886/12886 [==============================] - 1s 57us/step - loss: 0.2168 - acc: 0.9339 - val_loss: 0.2200 - val_acc: 0.9309\n",
      "Epoch 25/30\n",
      "12886/12886 [==============================] - 1s 54us/step - loss: 0.2141 - acc: 0.9344 - val_loss: 0.2170 - val_acc: 0.9302\n",
      "Epoch 26/30\n",
      "12886/12886 [==============================] - 1s 48us/step - loss: 0.2113 - acc: 0.9349 - val_loss: 0.2140 - val_acc: 0.9316\n",
      "Epoch 27/30\n",
      "12886/12886 [==============================] - 0s 25us/step - loss: 0.2085 - acc: 0.9354 - val_loss: 0.2111 - val_acc: 0.9323\n",
      "Epoch 28/30\n",
      "12886/12886 [==============================] - 1s 62us/step - loss: 0.2056 - acc: 0.9355 - val_loss: 0.2080 - val_acc: 0.9344\n",
      "Epoch 29/30\n",
      "12886/12886 [==============================] - 0s 29us/step - loss: 0.2026 - acc: 0.9360 - val_loss: 0.2049 - val_acc: 0.9351\n",
      "Epoch 30/30\n",
      "12886/12886 [==============================] - 1s 53us/step - loss: 0.1994 - acc: 0.9362 - val_loss: 0.2016 - val_acc: 0.9351\n"
     ]
    }
   ],
   "source": [
    "train_history =model.fit(x=train_Features, \n",
    "                         y=train_Label, \n",
    "                         validation_split=0.1, \n",
    "                         epochs=30, \n",
    "                         batch_size=1500,verbose=1,callbacks=[early_stopping])"
   ]
  },
  {
   "cell_type": "code",
   "execution_count": 65,
   "metadata": {
    "collapsed": true
   },
   "outputs": [],
   "source": [
    "import matplotlib.pyplot as plt\n",
    "def show_train_history(train_history,train,validation):\n",
    "    plt.plot(train_history.history[train])\n",
    "    plt.plot(train_history.history[validation])\n",
    "    plt.title('Train History')\n",
    "    plt.ylabel(train)\n",
    "    plt.xlabel('Epoch')\n",
    "    plt.legend(['train', 'validation'], loc='upper left')\n",
    "    plt.show()"
   ]
  },
  {
   "cell_type": "code",
   "execution_count": 66,
   "metadata": {
    "collapsed": false
   },
   "outputs": [
    {
     "data": {
      "image/png": "[encoded data removed]",
      "text/plain": [
       "<matplotlib.figure.Figure at 0x7f0bc7761198>"
      ]
     },
     "metadata": {},
     "output_type": "display_data"
    }
   ],
   "source": [
    "show_train_history(train_history,'acc','val_acc')"
   ]
  },
  {
   "cell_type": "code",
   "execution_count": 67,
   "metadata": {
    "collapsed": false
   },
   "outputs": [
    {
     "data": {
      "image/png": "[encoded data removed]",
      "text/plain": [
       "<matplotlib.figure.Figure at 0x7f0bc70bfd30>"
      ]
     },
     "metadata": {},
     "output_type": "display_data"
    }
   ],
   "source": [
    "show_train_history(train_history,'loss','val_loss')"
   ]
  },
  {
   "cell_type": "code",
   "execution_count": 68,
   "metadata": {
    "collapsed": false
   },
   "outputs": [
    {
     "name": "stdout",
     "output_type": "stream",
     "text": [
      "3580/3580 [==============================] - 1s 252us/step\n"
     ]
    }
   ],
   "source": [
    "scores = model.evaluate(x=test_Features, \n",
    "                        y=test_Label)"
   ]
  },
  {
   "cell_type": "code",
   "execution_count": 69,
   "metadata": {
    "collapsed": false
   },
   "outputs": [
    {
     "data": {
      "text/plain": [
       "0.9385474858337275"
      ]
     },
     "execution_count": 69,
     "metadata": {},
     "output_type": "execute_result"
    }
   ],
   "source": [
    "scores[1]"
   ]
  }
 ],
 "metadata": {
  "anaconda-cloud": {},
  "kernelspec": {
   "display_name": "Python [default]",
   "language": "python",
   "name": "python3"
  },
  "language_info": {
   "codemirror_mode": {
    "name": "ipython",
    "version": 3
   },
   "file_extension": ".py",
   "mimetype": "text/x-python",
   "name": "python",
   "nbconvert_exporter": "python",
   "pygments_lexer": "ipython3",
   "version": "3.5.2"
  }
 },
 "nbformat": 4,
 "nbformat_minor": 1
}
