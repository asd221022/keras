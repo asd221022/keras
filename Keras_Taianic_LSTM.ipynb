{
 "cells": [
  {
   "cell_type": "code",
   "execution_count": 1,
   "metadata": {
    "collapsed": true,
    "slideshow": {
     "slide_type": "-"
    }
   },
   "outputs": [],
   "source": [
    "import numpy\n",
    "import pandas as pd\n",
    "from sklearn import preprocessing\n",
    "numpy.random.seed(10)"
   ]
  },
  {
   "cell_type": "code",
   "execution_count": 2,
   "metadata": {
    "collapsed": true
   },
   "outputs": [],
   "source": [
    "all_df = pd.read_excel(\"data/titanic3.xls\")"
   ]
  },
  {
   "cell_type": "code",
   "execution_count": 3,
   "metadata": {
    "collapsed": true
   },
   "outputs": [],
   "source": [
    "cols=['survived','name','pclass' ,'sex', 'age', 'sibsp',\n",
    "      'parch', 'fare', 'embarked']\n",
    "all_df=all_df[cols]"
   ]
  },
  {
   "cell_type": "code",
   "execution_count": 4,
   "metadata": {
    "collapsed": true
   },
   "outputs": [],
   "source": [
    "msk = numpy.random.rand(len(all_df)) < 0.8\n",
    "train_df = all_df[msk]\n",
    "test_df = all_df[~msk]"
   ]
  },
  {
   "cell_type": "code",
   "execution_count": 5,
   "metadata": {
    "collapsed": false
   },
   "outputs": [
    {
     "name": "stdout",
     "output_type": "stream",
     "text": [
      "total: 1309 train: 1034 test: 275\n"
     ]
    }
   ],
   "source": [
    "print('total:',len(all_df),\n",
    "      'train:',len(train_df),\n",
    "      'test:',len(test_df))"
   ]
  },
  {
   "cell_type": "code",
   "execution_count": 6,
   "metadata": {
    "collapsed": true
   },
   "outputs": [],
   "source": [
    "def PreprocessData(raw_df):\n",
    "    df=raw_df.drop(['name'], axis=1)\n",
    "    age_mean = df['age'].mean()\n",
    "    df['age'] = df['age'].fillna(age_mean)\n",
    "    fare_mean = df['fare'].mean()\n",
    "    df['fare'] = df['fare'].fillna(fare_mean)\n",
    "    df['sex']= df['sex'].map({'female':0, 'male': 1}).astype(int)\n",
    "    x_OneHot_df = pd.get_dummies(data=df,columns=[\"embarked\" ])\n",
    "\n",
    "    ndarray = x_OneHot_df.values\n",
    "    Features = ndarray[:,1:]\n",
    "    Label = ndarray[:,0]\n",
    "\n",
    "    minmax_scale = preprocessing.MinMaxScaler(feature_range=(0, 1))\n",
    "    scaledFeatures=minmax_scale.fit_transform(Features)    \n",
    "    \n",
    "    return scaledFeatures,Label"
   ]
  },
  {
   "cell_type": "code",
   "execution_count": 7,
   "metadata": {
    "collapsed": true
   },
   "outputs": [],
   "source": [
    "train_Features,train_Label=PreprocessData(train_df)\n",
    "test_Features,test_Label=PreprocessData(test_df)"
   ]
  },
  {
   "cell_type": "code",
   "execution_count": 8,
   "metadata": {
    "collapsed": false
   },
   "outputs": [
    {
     "name": "stderr",
     "output_type": "stream",
     "text": [
      "Using TensorFlow backend.\n"
     ]
    }
   ],
   "source": [
    "from keras.models import Sequential\n",
    "from keras.layers.core import Dense, Dropout, Activation,Flatten\n",
    "from keras.layers.embeddings import Embedding\n",
    "from keras.layers.recurrent import LSTM"
   ]
  },
  {
   "cell_type": "code",
   "execution_count": 9,
   "metadata": {
    "collapsed": true
   },
   "outputs": [],
   "source": [
    "model = Sequential()"
   ]
  },
  {
   "cell_type": "code",
   "execution_count": 10,
   "metadata": {
    "collapsed": true
   },
   "outputs": [],
   "source": [
    "model.add(Embedding(input_dim=8,output_dim=1))"
   ]
  },
  {
   "cell_type": "code",
   "execution_count": 11,
   "metadata": {
    "collapsed": true
   },
   "outputs": [],
   "source": [
    "model.add(LSTM(2))"
   ]
  },
  {
   "cell_type": "code",
   "execution_count": 12,
   "metadata": {
    "collapsed": true
   },
   "outputs": [],
   "source": [
    "model.add(Dense(1, activation = \"sigmoid\"))"
   ]
  },
  {
   "cell_type": "code",
   "execution_count": 13,
   "metadata": {
    "collapsed": false
   },
   "outputs": [
    {
     "name": "stdout",
     "output_type": "stream",
     "text": [
      "_________________________________________________________________\n",
      "Layer (type)                 Output Shape              Param #   \n",
      "=================================================================\n",
      "embedding_1 (Embedding)      (None, None, 1)           8         \n",
      "_________________________________________________________________\n",
      "lstm_1 (LSTM)                (None, 2)                 32        \n",
      "_________________________________________________________________\n",
      "dense_1 (Dense)              (None, 1)                 3         \n",
      "=================================================================\n",
      "Total params: 43\n",
      "Trainable params: 43\n",
      "Non-trainable params: 0\n",
      "_________________________________________________________________\n"
     ]
    }
   ],
   "source": [
    "model.summary()"
   ]
  },
  {
   "cell_type": "code",
   "execution_count": 14,
   "metadata": {
    "collapsed": true
   },
   "outputs": [],
   "source": [
    "model.compile(loss='binary_crossentropy', \n",
    "              optimizer='adam', metrics=['accuracy'])"
   ]
  },
  {
   "cell_type": "code",
   "execution_count": 15,
   "metadata": {
    "collapsed": false
   },
   "outputs": [
    {
     "name": "stdout",
     "output_type": "stream",
     "text": [
      "Train on 930 samples, validate on 104 samples\n",
      "Epoch 1/30\n",
      " - 1s - loss: 0.6921 - acc: 0.5677 - val_loss: 0.6852 - val_acc: 0.7885\n",
      "Epoch 2/30\n",
      " - 0s - loss: 0.6897 - acc: 0.5871 - val_loss: 0.6766 - val_acc: 0.7885\n",
      "Epoch 3/30\n",
      " - 0s - loss: 0.6874 - acc: 0.5871 - val_loss: 0.6686 - val_acc: 0.7885\n",
      "Epoch 4/30\n",
      " - 0s - loss: 0.6855 - acc: 0.5871 - val_loss: 0.6590 - val_acc: 0.7885\n",
      "Epoch 5/30\n",
      " - 0s - loss: 0.6834 - acc: 0.5871 - val_loss: 0.6508 - val_acc: 0.7885\n",
      "Epoch 6/30\n",
      " - 0s - loss: 0.6817 - acc: 0.5871 - val_loss: 0.6432 - val_acc: 0.7885\n",
      "Epoch 7/30\n",
      " - 0s - loss: 0.6805 - acc: 0.5871 - val_loss: 0.6332 - val_acc: 0.7885\n",
      "Epoch 8/30\n",
      " - 0s - loss: 0.6792 - acc: 0.5871 - val_loss: 0.6271 - val_acc: 0.7885\n",
      "Epoch 9/30\n",
      " - 1s - loss: 0.6784 - acc: 0.5871 - val_loss: 0.6222 - val_acc: 0.7885\n",
      "Epoch 10/30\n",
      " - 1s - loss: 0.6778 - acc: 0.5871 - val_loss: 0.6159 - val_acc: 0.7885\n",
      "Epoch 11/30\n",
      " - 0s - loss: 0.6774 - acc: 0.5871 - val_loss: 0.6100 - val_acc: 0.7885\n",
      "Epoch 12/30\n",
      " - 0s - loss: 0.6770 - acc: 0.5871 - val_loss: 0.6086 - val_acc: 0.7885\n",
      "Epoch 13/30\n",
      " - 0s - loss: 0.6766 - acc: 0.5871 - val_loss: 0.6066 - val_acc: 0.7885\n",
      "Epoch 14/30\n",
      " - 0s - loss: 0.6762 - acc: 0.5871 - val_loss: 0.6023 - val_acc: 0.7885\n",
      "Epoch 15/30\n",
      " - 0s - loss: 0.6758 - acc: 0.5871 - val_loss: 0.6035 - val_acc: 0.7885\n",
      "Epoch 16/30\n",
      " - 0s - loss: 0.6752 - acc: 0.5871 - val_loss: 0.6004 - val_acc: 0.7885\n",
      "Epoch 17/30\n",
      " - 1s - loss: 0.6745 - acc: 0.5871 - val_loss: 0.5971 - val_acc: 0.7885\n",
      "Epoch 18/30\n",
      " - 0s - loss: 0.6735 - acc: 0.5871 - val_loss: 0.5942 - val_acc: 0.7885\n",
      "Epoch 19/30\n",
      " - 1s - loss: 0.6724 - acc: 0.5871 - val_loss: 0.5867 - val_acc: 0.7885\n",
      "Epoch 20/30\n",
      " - 0s - loss: 0.6705 - acc: 0.5871 - val_loss: 0.5828 - val_acc: 0.7885\n",
      "Epoch 21/30\n",
      " - 0s - loss: 0.6678 - acc: 0.5871 - val_loss: 0.5755 - val_acc: 0.7885\n",
      "Epoch 22/30\n",
      " - 0s - loss: 0.6636 - acc: 0.5871 - val_loss: 0.5627 - val_acc: 0.7885\n",
      "Epoch 23/30\n",
      " - 0s - loss: 0.6571 - acc: 0.5871 - val_loss: 0.5452 - val_acc: 0.7885\n",
      "Epoch 24/30\n",
      " - 0s - loss: 0.6481 - acc: 0.5871 - val_loss: 0.5385 - val_acc: 0.7885\n",
      "Epoch 25/30\n",
      " - 0s - loss: 0.6394 - acc: 0.5871 - val_loss: 0.5269 - val_acc: 0.7885\n",
      "Epoch 26/30\n",
      " - 0s - loss: 0.6308 - acc: 0.5882 - val_loss: 0.5143 - val_acc: 0.7885\n",
      "Epoch 27/30\n",
      " - 0s - loss: 0.6219 - acc: 0.5882 - val_loss: 0.5038 - val_acc: 0.7885\n",
      "Epoch 28/30\n",
      " - 0s - loss: 0.6133 - acc: 0.5882 - val_loss: 0.4942 - val_acc: 0.7885\n",
      "Epoch 29/30\n",
      " - 0s - loss: 0.6055 - acc: 0.6183 - val_loss: 0.4904 - val_acc: 0.7885\n",
      "Epoch 30/30\n",
      " - 0s - loss: 0.5989 - acc: 0.7677 - val_loss: 0.4856 - val_acc: 0.7885\n"
     ]
    }
   ],
   "source": [
    "train_history =model.fit(x=train_Features, \n",
    "                         y=train_Label, \n",
    "                         validation_split=0.1, \n",
    "                         epochs=30, \n",
    "                         batch_size=30,verbose=2)"
   ]
  },
  {
   "cell_type": "code",
   "execution_count": 16,
   "metadata": {
    "collapsed": true
   },
   "outputs": [],
   "source": [
    "import matplotlib.pyplot as plt\n",
    "def show_train_history(train_history,train,validation):\n",
    "    plt.plot(train_history.history[train])\n",
    "    plt.plot(train_history.history[validation])\n",
    "    plt.title('Train History')\n",
    "    plt.ylabel(train)\n",
    "    plt.xlabel('Epoch')\n",
    "    plt.legend(['train', 'validation'], loc='upper left')\n",
    "    plt.show()"
   ]
  },
  {
   "cell_type": "code",
   "execution_count": 17,
   "metadata": {
    "collapsed": false
   },
   "outputs": [
    {
     "data": {
      "image/png": "[encoded data removed]",
      "text/plain": [
       "<matplotlib.figure.Figure at 0x7fb72c784240>"
      ]
     },
     "metadata": {},
     "output_type": "display_data"
    }
   ],
   "source": [
    "show_train_history(train_history,'acc','val_acc')"
   ]
  },
  {
   "cell_type": "code",
   "execution_count": 18,
   "metadata": {
    "collapsed": false
   },
   "outputs": [
    {
     "data": {
      "image/png": "[encoded data removed]",
      "text/plain": [
       "<matplotlib.figure.Figure at 0x7fb72d6a59b0>"
      ]
     },
     "metadata": {},
     "output_type": "display_data"
    }
   ],
   "source": [
    "show_train_history(train_history,'loss','val_loss')"
   ]
  },
  {
   "cell_type": "code",
   "execution_count": 19,
   "metadata": {
    "collapsed": false
   },
   "outputs": [
    {
     "name": "stdout",
     "output_type": "stream",
     "text": [
      "275/275 [==============================] - 0s 92us/step\n"
     ]
    }
   ],
   "source": [
    "scores = model.evaluate(x=test_Features, \n",
    "                        y=test_Label)"
   ]
  },
  {
   "cell_type": "code",
   "execution_count": 20,
   "metadata": {
    "collapsed": false
   },
   "outputs": [
    {
     "data": {
      "text/plain": [
       "0.7927272731607611"
      ]
     },
     "execution_count": 20,
     "metadata": {},
     "output_type": "execute_result"
    }
   ],
   "source": [
    "scores[1]"
   ]
  },
  {
   "cell_type": "code",
   "execution_count": 21,
   "metadata": {
    "collapsed": true
   },
   "outputs": [],
   "source": [
    "Jack = pd.Series([0 ,'Jack',3, 'male'  , 23, 1, 0,  5.0000,'S'])\n",
    "Rose = pd.Series([1 ,'Rose',1, 'female', 20, 1, 0, 100.0000,'S'])"
   ]
  },
  {
   "cell_type": "code",
   "execution_count": 22,
   "metadata": {
    "collapsed": true
   },
   "outputs": [],
   "source": [
    "JR_df = pd.DataFrame([list(Jack),list(Rose)],  \n",
    "                  columns=['survived', 'name','pclass', 'sex', \n",
    "                   'age', 'sibsp','parch', 'fare','embarked'])"
   ]
  },
  {
   "cell_type": "code",
   "execution_count": 23,
   "metadata": {
    "collapsed": true
   },
   "outputs": [],
   "source": [
    "all_df=pd.concat([all_df,JR_df])"
   ]
  },
  {
   "cell_type": "code",
   "execution_count": 24,
   "metadata": {
    "collapsed": false
   },
   "outputs": [
    {
     "data": {
      "text/html": [
       "<div>\n",
       "<table border=\"1\" class=\"dataframe\">\n",
       "  <thead>\n",
       "    <tr style=\"text-align: right;\">\n",
       "      <th></th>\n",
       "      <th>survived</th>\n",
       "      <th>name</th>\n",
       "      <th>pclass</th>\n",
       "      <th>sex</th>\n",
       "      <th>age</th>\n",
       "      <th>sibsp</th>\n",
       "      <th>parch</th>\n",
       "      <th>fare</th>\n",
       "      <th>embarked</th>\n",
       "    </tr>\n",
       "  </thead>\n",
       "  <tbody>\n",
       "    <tr>\n",
       "      <th>0</th>\n",
       "      <td>0</td>\n",
       "      <td>Jack</td>\n",
       "      <td>3</td>\n",
       "      <td>male</td>\n",
       "      <td>23.0</td>\n",
       "      <td>1</td>\n",
       "      <td>0</td>\n",
       "      <td>5.0</td>\n",
       "      <td>S</td>\n",
       "    </tr>\n",
       "    <tr>\n",
       "      <th>1</th>\n",
       "      <td>1</td>\n",
       "      <td>Rose</td>\n",
       "      <td>1</td>\n",
       "      <td>female</td>\n",
       "      <td>20.0</td>\n",
       "      <td>1</td>\n",
       "      <td>0</td>\n",
       "      <td>100.0</td>\n",
       "      <td>S</td>\n",
       "    </tr>\n",
       "  </tbody>\n",
       "</table>\n",
       "</div>"
      ],
      "text/plain": [
       "   survived  name  pclass     sex   age  sibsp  parch   fare embarked\n",
       "0         0  Jack       3    male  23.0      1      0    5.0        S\n",
       "1         1  Rose       1  female  20.0      1      0  100.0        S"
      ]
     },
     "execution_count": 24,
     "metadata": {},
     "output_type": "execute_result"
    }
   ],
   "source": [
    "all_df[-2:]"
   ]
  },
  {
   "cell_type": "code",
   "execution_count": 25,
   "metadata": {
    "collapsed": true
   },
   "outputs": [],
   "source": [
    "all_Features,Label=PreprocessData(all_df)"
   ]
  },
  {
   "cell_type": "code",
   "execution_count": 26,
   "metadata": {
    "collapsed": true
   },
   "outputs": [],
   "source": [
    "all_probability=model.predict(all_Features)"
   ]
  },
  {
   "cell_type": "code",
   "execution_count": 27,
   "metadata": {
    "collapsed": false
   },
   "outputs": [
    {
     "data": {
      "text/plain": [
       "array([[0.5194662],\n",
       "       [0.4109444],\n",
       "       [0.5194662],\n",
       "       [0.4109444],\n",
       "       [0.5194662],\n",
       "       [0.4109444],\n",
       "       [0.5194662],\n",
       "       [0.4109444],\n",
       "       [0.5194662],\n",
       "       [0.3930358]], dtype=float32)"
      ]
     },
     "execution_count": 27,
     "metadata": {},
     "output_type": "execute_result"
    }
   ],
   "source": [
    "all_probability[:10]"
   ]
  },
  {
   "cell_type": "code",
   "execution_count": 28,
   "metadata": {
    "collapsed": true
   },
   "outputs": [],
   "source": [
    "pd=all_df\n",
    "pd.insert(len(all_df.columns),\n",
    "          'probability',all_probability)"
   ]
  },
  {
   "cell_type": "code",
   "execution_count": 29,
   "metadata": {
    "collapsed": false
   },
   "outputs": [
    {
     "data": {
      "text/html": [
       "<div>\n",
       "<table border=\"1\" class=\"dataframe\">\n",
       "  <thead>\n",
       "    <tr style=\"text-align: right;\">\n",
       "      <th></th>\n",
       "      <th>survived</th>\n",
       "      <th>name</th>\n",
       "      <th>pclass</th>\n",
       "      <th>sex</th>\n",
       "      <th>age</th>\n",
       "      <th>sibsp</th>\n",
       "      <th>parch</th>\n",
       "      <th>fare</th>\n",
       "      <th>embarked</th>\n",
       "      <th>probability</th>\n",
       "    </tr>\n",
       "  </thead>\n",
       "  <tbody>\n",
       "    <tr>\n",
       "      <th>0</th>\n",
       "      <td>0</td>\n",
       "      <td>Jack</td>\n",
       "      <td>3</td>\n",
       "      <td>male</td>\n",
       "      <td>23.0</td>\n",
       "      <td>1</td>\n",
       "      <td>0</td>\n",
       "      <td>5.0</td>\n",
       "      <td>S</td>\n",
       "      <td>0.235002</td>\n",
       "    </tr>\n",
       "    <tr>\n",
       "      <th>1</th>\n",
       "      <td>1</td>\n",
       "      <td>Rose</td>\n",
       "      <td>1</td>\n",
       "      <td>female</td>\n",
       "      <td>20.0</td>\n",
       "      <td>1</td>\n",
       "      <td>0</td>\n",
       "      <td>100.0</td>\n",
       "      <td>S</td>\n",
       "      <td>0.519466</td>\n",
       "    </tr>\n",
       "  </tbody>\n",
       "</table>\n",
       "</div>"
      ],
      "text/plain": [
       "   survived  name  pclass     sex   age  sibsp  parch   fare embarked  \\\n",
       "0         0  Jack       3    male  23.0      1      0    5.0        S   \n",
       "1         1  Rose       1  female  20.0      1      0  100.0        S   \n",
       "\n",
       "   probability  \n",
       "0     0.235002  \n",
       "1     0.519466  "
      ]
     },
     "execution_count": 29,
     "metadata": {},
     "output_type": "execute_result"
    }
   ],
   "source": [
    "pd[-2:]"
   ]
  },
  {
   "cell_type": "code",
   "execution_count": 30,
   "metadata": {
    "collapsed": false
   },
   "outputs": [
    {
     "data": {
      "text/html": [
       "<div>\n",
       "<table border=\"1\" class=\"dataframe\">\n",
       "  <thead>\n",
       "    <tr style=\"text-align: right;\">\n",
       "      <th></th>\n",
       "      <th>survived</th>\n",
       "      <th>name</th>\n",
       "      <th>pclass</th>\n",
       "      <th>sex</th>\n",
       "      <th>age</th>\n",
       "      <th>sibsp</th>\n",
       "      <th>parch</th>\n",
       "      <th>fare</th>\n",
       "      <th>embarked</th>\n",
       "      <th>probability</th>\n",
       "    </tr>\n",
       "  </thead>\n",
       "  <tbody>\n",
       "  </tbody>\n",
       "</table>\n",
       "</div>"
      ],
      "text/plain": [
       "Empty DataFrame\n",
       "Columns: [survived, name, pclass, sex, age, sibsp, parch, fare, embarked, probability]\n",
       "Index: []"
      ]
     },
     "execution_count": 30,
     "metadata": {},
     "output_type": "execute_result"
    }
   ],
   "source": [
    "pd[(pd['survived']==0) &  (pd['probability']>0.9) ]"
   ]
  },
  {
   "cell_type": "code",
   "execution_count": 31,
   "metadata": {
    "collapsed": false
   },
   "outputs": [
    {
     "data": {
      "text/html": [
       "<div>\n",
       "<table border=\"1\" class=\"dataframe\">\n",
       "  <thead>\n",
       "    <tr style=\"text-align: right;\">\n",
       "      <th></th>\n",
       "      <th>survived</th>\n",
       "      <th>name</th>\n",
       "      <th>pclass</th>\n",
       "      <th>sex</th>\n",
       "      <th>age</th>\n",
       "      <th>sibsp</th>\n",
       "      <th>parch</th>\n",
       "      <th>fare</th>\n",
       "      <th>embarked</th>\n",
       "      <th>probability</th>\n",
       "    </tr>\n",
       "  </thead>\n",
       "  <tbody>\n",
       "    <tr>\n",
       "      <th>0</th>\n",
       "      <td>1</td>\n",
       "      <td>Allen, Miss. Elisabeth Walton</td>\n",
       "      <td>1</td>\n",
       "      <td>female</td>\n",
       "      <td>29.0000</td>\n",
       "      <td>0</td>\n",
       "      <td>0</td>\n",
       "      <td>211.3375</td>\n",
       "      <td>S</td>\n",
       "      <td>0.519466</td>\n",
       "    </tr>\n",
       "    <tr>\n",
       "      <th>1</th>\n",
       "      <td>1</td>\n",
       "      <td>Allison, Master. Hudson Trevor</td>\n",
       "      <td>1</td>\n",
       "      <td>male</td>\n",
       "      <td>0.9167</td>\n",
       "      <td>1</td>\n",
       "      <td>2</td>\n",
       "      <td>151.5500</td>\n",
       "      <td>S</td>\n",
       "      <td>0.410944</td>\n",
       "    </tr>\n",
       "    <tr>\n",
       "      <th>2</th>\n",
       "      <td>0</td>\n",
       "      <td>Allison, Miss. Helen Loraine</td>\n",
       "      <td>1</td>\n",
       "      <td>female</td>\n",
       "      <td>2.0000</td>\n",
       "      <td>1</td>\n",
       "      <td>2</td>\n",
       "      <td>151.5500</td>\n",
       "      <td>S</td>\n",
       "      <td>0.519466</td>\n",
       "    </tr>\n",
       "    <tr>\n",
       "      <th>3</th>\n",
       "      <td>0</td>\n",
       "      <td>Allison, Mr. Hudson Joshua Creighton</td>\n",
       "      <td>1</td>\n",
       "      <td>male</td>\n",
       "      <td>30.0000</td>\n",
       "      <td>1</td>\n",
       "      <td>2</td>\n",
       "      <td>151.5500</td>\n",
       "      <td>S</td>\n",
       "      <td>0.410944</td>\n",
       "    </tr>\n",
       "    <tr>\n",
       "      <th>4</th>\n",
       "      <td>0</td>\n",
       "      <td>Allison, Mrs. Hudson J C (Bessie Waldo Daniels)</td>\n",
       "      <td>1</td>\n",
       "      <td>female</td>\n",
       "      <td>25.0000</td>\n",
       "      <td>1</td>\n",
       "      <td>2</td>\n",
       "      <td>151.5500</td>\n",
       "      <td>S</td>\n",
       "      <td>0.519466</td>\n",
       "    </tr>\n",
       "  </tbody>\n",
       "</table>\n",
       "</div>"
      ],
      "text/plain": [
       "   survived                                             name  pclass     sex  \\\n",
       "0         1                    Allen, Miss. Elisabeth Walton       1  female   \n",
       "1         1                   Allison, Master. Hudson Trevor       1    male   \n",
       "2         0                     Allison, Miss. Helen Loraine       1  female   \n",
       "3         0             Allison, Mr. Hudson Joshua Creighton       1    male   \n",
       "4         0  Allison, Mrs. Hudson J C (Bessie Waldo Daniels)       1  female   \n",
       "\n",
       "       age  sibsp  parch      fare embarked  probability  \n",
       "0  29.0000      0      0  211.3375        S     0.519466  \n",
       "1   0.9167      1      2  151.5500        S     0.410944  \n",
       "2   2.0000      1      2  151.5500        S     0.519466  \n",
       "3  30.0000      1      2  151.5500        S     0.410944  \n",
       "4  25.0000      1      2  151.5500        S     0.519466  "
      ]
     },
     "execution_count": 31,
     "metadata": {},
     "output_type": "execute_result"
    }
   ],
   "source": [
    "pd[:5]"
   ]
  }
 ],
 "metadata": {
  "anaconda-cloud": {},
  "kernelspec": {
   "display_name": "Python [conda root]",
   "language": "python",
   "name": "conda-root-py"
  },
  "language_info": {
   "codemirror_mode": {
    "name": "ipython",
    "version": 3
   },
   "file_extension": ".py",
   "mimetype": "text/x-python",
   "name": "python",
   "nbconvert_exporter": "python",
   "pygments_lexer": "ipython3",
   "version": "3.5.2"
  }
 },
 "nbformat": 4,
 "nbformat_minor": 1
}
