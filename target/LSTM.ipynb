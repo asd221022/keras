{
 "cells": [
  {
   "cell_type": "code",
   "execution_count": 25,
   "metadata": {
    "collapsed": false
   },
   "outputs": [],
   "source": [
    "import numpy \n",
    "import pandas as pd\n",
    "from sklearn.preprocessing import StandardScaler\n",
    "from sklearn.model_selection import train_test_split\n",
    "numpy.random.seed(10)"
   ]
  },
  {
   "cell_type": "code",
   "execution_count": 26,
   "metadata": {
    "collapsed": false
   },
   "outputs": [],
   "source": [
    "data = pd.read_csv(\"data/target.csv\")"
   ]
  },
  {
   "cell_type": "code",
   "execution_count": 27,
   "metadata": {
    "collapsed": true
   },
   "outputs": [],
   "source": [
    "data=data.drop(['Unnamed: 7'], axis=1)\n",
    "data=data.drop(['customer_id'], axis=1)"
   ]
  },
  {
   "cell_type": "code",
   "execution_count": 28,
   "metadata": {
    "collapsed": true
   },
   "outputs": [],
   "source": [
    "data = data.dropna(how='any')"
   ]
  },
  {
   "cell_type": "code",
   "execution_count": 29,
   "metadata": {
    "collapsed": true
   },
   "outputs": [],
   "source": [
    "data['res_type']= data['res_type'].map({'CN':0, 'CO': 1, 'RE': 2, 'TO': 3,'SI': 4}).astype(int)"
   ]
  },
  {
   "cell_type": "code",
   "execution_count": 30,
   "metadata": {
    "collapsed": true
   },
   "outputs": [],
   "source": [
    "data=pd.get_dummies(data=data,columns=['geo_group'])"
   ]
  },
  {
   "cell_type": "code",
   "execution_count": 31,
   "metadata": {
    "collapsed": true
   },
   "outputs": [],
   "source": [
    "X = data.drop(['res_type'], axis=1).values.astype('float64')"
   ]
  },
  {
   "cell_type": "code",
   "execution_count": 32,
   "metadata": {
    "collapsed": true
   },
   "outputs": [],
   "source": [
    "Y = data['res_type'].values.astype('int64')"
   ]
  },
  {
   "cell_type": "code",
   "execution_count": 33,
   "metadata": {
    "collapsed": false
   },
   "outputs": [
    {
     "data": {
      "text/plain": [
       "78804"
      ]
     },
     "execution_count": 33,
     "metadata": {},
     "output_type": "execute_result"
    }
   ],
   "source": [
    "X = StandardScaler().fit_transform(X)\n",
    "train_Features, test_Features, train_Label, test_Label = train_test_split(X, Y, test_size=0.2, random_state=True) \n",
    "len(train_Features)"
   ]
  },
  {
   "cell_type": "code",
   "execution_count": 34,
   "metadata": {
    "collapsed": true
   },
   "outputs": [],
   "source": [
    "train_Features = train_Features.reshape((train_Features.shape[0], train_Features.shape[1], 1))"
   ]
  },
  {
   "cell_type": "code",
   "execution_count": 35,
   "metadata": {
    "collapsed": true
   },
   "outputs": [],
   "source": [
    "test_Features = test_Features.reshape((test_Features.shape[0], test_Features.shape[1], 1))"
   ]
  },
  {
   "cell_type": "code",
   "execution_count": 36,
   "metadata": {
    "collapsed": false
   },
   "outputs": [],
   "source": [
    "from keras.utils import np_utils\n",
    "train_Label = train_Label.reshape(train_Label.shape[0], 1)\n",
    "test_Label= test_Label.reshape(test_Label.shape[0], 1)\n",
    "train_Label=np_utils.to_categorical(train_Label)\n",
    "test_Label=np_utils.to_categorical(test_Label)"
   ]
  },
  {
   "cell_type": "code",
   "execution_count": 37,
   "metadata": {
    "collapsed": false
   },
   "outputs": [],
   "source": [
    "from keras.models import Sequential\n",
    "from keras.layers.core import Dense, Dropout, Activation\n",
    "from keras.layers.embeddings import Embedding\n",
    "from keras.layers.recurrent import SimpleRNN\n",
    "from keras.callbacks import EarlyStopping\n",
    "early_stopping = EarlyStopping(monitor='val_loss', patience=2)"
   ]
  },
  {
   "cell_type": "code",
   "execution_count": 38,
   "metadata": {
    "collapsed": true
   },
   "outputs": [],
   "source": [
    "model = Sequential()"
   ]
  },
  {
   "cell_type": "code",
   "execution_count": 39,
   "metadata": {
    "collapsed": false
   },
   "outputs": [],
   "source": [
    "model.add(SimpleRNN(units=8, input_shape=(8,1)))"
   ]
  },
  {
   "cell_type": "code",
   "execution_count": 40,
   "metadata": {
    "collapsed": true
   },
   "outputs": [],
   "source": [
    "model.add(Dense(5, activation = \"softmax\"))"
   ]
  },
  {
   "cell_type": "code",
   "execution_count": 41,
   "metadata": {
    "collapsed": false
   },
   "outputs": [
    {
     "name": "stdout",
     "output_type": "stream",
     "text": [
      "_________________________________________________________________\n",
      "Layer (type)                 Output Shape              Param #   \n",
      "=================================================================\n",
      "simple_rnn_2 (SimpleRNN)     (None, 8)                 80        \n",
      "_________________________________________________________________\n",
      "dense_2 (Dense)              (None, 5)                 45        \n",
      "=================================================================\n",
      "Total params: 125\n",
      "Trainable params: 125\n",
      "Non-trainable params: 0\n",
      "_________________________________________________________________\n"
     ]
    }
   ],
   "source": [
    "model.summary()"
   ]
  },
  {
   "cell_type": "code",
   "execution_count": 42,
   "metadata": {
    "collapsed": false
   },
   "outputs": [],
   "source": [
    "model.compile(loss='categorical_crossentropy', \n",
    "              optimizer='adam', metrics=['accuracy'])"
   ]
  },
  {
   "cell_type": "code",
   "execution_count": 43,
   "metadata": {
    "collapsed": false
   },
   "outputs": [
    {
     "name": "stdout",
     "output_type": "stream",
     "text": [
      "Train on 70923 samples, validate on 7881 samples\n",
      "Epoch 1/30\n",
      "70923/70923 [==============================] - 4s 62us/step - loss: 1.7975 - acc: 0.2025 - val_loss: 1.6427 - val_acc: 0.2449\n",
      "Epoch 2/30\n",
      "70923/70923 [==============================] - 2s 23us/step - loss: 1.5132 - acc: 0.3238 - val_loss: 1.3907 - val_acc: 0.3894\n",
      "Epoch 3/30\n",
      "70923/70923 [==============================] - 2s 31us/step - loss: 1.2996 - acc: 0.4009 - val_loss: 1.2417 - val_acc: 0.4236\n",
      "Epoch 4/30\n",
      "70923/70923 [==============================] - 2s 24us/step - loss: 1.1974 - acc: 0.4913 - val_loss: 1.1592 - val_acc: 0.5298\n",
      "Epoch 5/30\n",
      "70923/70923 [==============================] - 1s 21us/step - loss: 1.1179 - acc: 0.5550 - val_loss: 1.0751 - val_acc: 0.5695\n",
      "Epoch 6/30\n",
      "70923/70923 [==============================] - 2s 30us/step - loss: 1.0280 - acc: 0.5967 - val_loss: 0.9767 - val_acc: 0.6093\n",
      "Epoch 7/30\n",
      "70923/70923 [==============================] - 2s 32us/step - loss: 0.9387 - acc: 0.6552 - val_loss: 0.8981 - val_acc: 0.7054\n",
      "Epoch 8/30\n",
      "70923/70923 [==============================] - 2s 27us/step - loss: 0.8695 - acc: 0.7155 - val_loss: 0.8365 - val_acc: 0.7191\n",
      "Epoch 9/30\n",
      "70923/70923 [==============================] - 2s 22us/step - loss: 0.8132 - acc: 0.7262 - val_loss: 0.7848 - val_acc: 0.7328\n",
      "Epoch 10/30\n",
      "70923/70923 [==============================] - 2s 35us/step - loss: 0.7641 - acc: 0.7399 - val_loss: 0.7381 - val_acc: 0.7424\n",
      "Epoch 11/30\n",
      "70923/70923 [==============================] - 3s 43us/step - loss: 0.7184 - acc: 0.7486 - val_loss: 0.6911 - val_acc: 0.7585\n",
      "Epoch 12/30\n",
      "70923/70923 [==============================] - 2s 35us/step - loss: 0.6732 - acc: 0.7616 - val_loss: 0.6467 - val_acc: 0.7712\n",
      "Epoch 13/30\n",
      "70923/70923 [==============================] - 3s 38us/step - loss: 0.6302 - acc: 0.7755 - val_loss: 0.6046 - val_acc: 0.7901\n",
      "Epoch 14/30\n",
      "70923/70923 [==============================] - 3s 38us/step - loss: 0.5891 - acc: 0.7928 - val_loss: 0.5637 - val_acc: 0.8031\n",
      "Epoch 15/30\n",
      "70923/70923 [==============================] - 3s 37us/step - loss: 0.5469 - acc: 0.8117 - val_loss: 0.5181 - val_acc: 0.8221\n",
      "Epoch 16/30\n",
      "70923/70923 [==============================] - 3s 36us/step - loss: 0.5045 - acc: 0.8293 - val_loss: 0.4797 - val_acc: 0.8411\n",
      "Epoch 17/30\n",
      "70923/70923 [==============================] - 3s 41us/step - loss: 0.4701 - acc: 0.8422 - val_loss: 0.4455 - val_acc: 0.8491\n",
      "Epoch 18/30\n",
      "70923/70923 [==============================] - 2s 33us/step - loss: 0.4421 - acc: 0.8562 - val_loss: 0.4203 - val_acc: 0.8612\n",
      "Epoch 19/30\n",
      "70923/70923 [==============================] - 3s 37us/step - loss: 0.4213 - acc: 0.8653 - val_loss: 0.4055 - val_acc: 0.8661\n",
      "Epoch 20/30\n",
      "70923/70923 [==============================] - 3s 38us/step - loss: 0.4057 - acc: 0.8699 - val_loss: 0.3890 - val_acc: 0.8754\n",
      "Epoch 21/30\n",
      "70923/70923 [==============================] - 3s 40us/step - loss: 0.3908 - acc: 0.8761 - val_loss: 0.3797 - val_acc: 0.8779\n",
      "Epoch 22/30\n",
      "70923/70923 [==============================] - 3s 35us/step - loss: 0.3788 - acc: 0.8808 - val_loss: 0.3644 - val_acc: 0.8843\n",
      "Epoch 23/30\n",
      "70923/70923 [==============================] - 3s 39us/step - loss: 0.3690 - acc: 0.8828 - val_loss: 0.3567 - val_acc: 0.8868\n",
      "Epoch 24/30\n",
      "70923/70923 [==============================] - 2s 34us/step - loss: 0.3587 - acc: 0.8862 - val_loss: 0.3424 - val_acc: 0.8918\n",
      "Epoch 25/30\n",
      "70923/70923 [==============================] - 3s 38us/step - loss: 0.3507 - acc: 0.8882 - val_loss: 0.3332 - val_acc: 0.8939\n",
      "Epoch 26/30\n",
      "70923/70923 [==============================] - 3s 38us/step - loss: 0.3407 - acc: 0.8918 - val_loss: 0.3308 - val_acc: 0.8932\n",
      "Epoch 27/30\n",
      "70923/70923 [==============================] - 3s 39us/step - loss: 0.3336 - acc: 0.8932 - val_loss: 0.3240 - val_acc: 0.8968\n",
      "Epoch 28/30\n",
      "70923/70923 [==============================] - 3s 36us/step - loss: 0.3265 - acc: 0.8964 - val_loss: 0.3135 - val_acc: 0.9003\n",
      "Epoch 29/30\n",
      "70923/70923 [==============================] - 3s 41us/step - loss: 0.3207 - acc: 0.8972 - val_loss: 0.3059 - val_acc: 0.9046\n",
      "Epoch 30/30\n",
      "70923/70923 [==============================] - 2s 35us/step - loss: 0.3144 - acc: 0.8998 - val_loss: 0.3061 - val_acc: 0.9014\n"
     ]
    }
   ],
   "source": [
    "train_history =model.fit(x=train_Features, \n",
    "                         y=train_Label, \n",
    "                         validation_split=0.1, \n",
    "                         epochs=30, \n",
    "                         batch_size=1500,verbose=1,callbacks=[early_stopping])"
   ]
  },
  {
   "cell_type": "code",
   "execution_count": 44,
   "metadata": {
    "collapsed": true
   },
   "outputs": [],
   "source": [
    "import matplotlib.pyplot as plt\n",
    "def show_train_history(train_history,train,validation):\n",
    "    plt.plot(train_history.history[train])\n",
    "    plt.plot(train_history.history[validation])\n",
    "    plt.title('Train History')\n",
    "    plt.ylabel(train)\n",
    "    plt.xlabel('Epoch')\n",
    "    plt.legend(['train', 'validation'], loc='upper left')\n",
    "    plt.show()"
   ]
  },
  {
   "cell_type": "code",
   "execution_count": 45,
   "metadata": {
    "collapsed": false
   },
   "outputs": [
    {
     "data": {
      "image/png": "[encoded data removed]",
      "text/plain": [
       "<matplotlib.figure.Figure at 0x7fe5f7750240>"
      ]
     },
     "metadata": {},
     "output_type": "display_data"
    }
   ],
   "source": [
    "show_train_history(train_history,'acc','val_acc')"
   ]
  },
  {
   "cell_type": "code",
   "execution_count": 46,
   "metadata": {
    "collapsed": false
   },
   "outputs": [
    {
     "data": {
      "image/png": "[encoded data removed]",
      "text/plain": [
       "<matplotlib.figure.Figure at 0x7fe5f77076a0>"
      ]
     },
     "metadata": {},
     "output_type": "display_data"
    }
   ],
   "source": [
    "show_train_history(train_history,'loss','val_loss')"
   ]
  },
  {
   "cell_type": "code",
   "execution_count": 47,
   "metadata": {
    "collapsed": false
   },
   "outputs": [
    {
     "name": "stdout",
     "output_type": "stream",
     "text": [
      "19702/19702 [==============================] - 6s 310us/step\n"
     ]
    }
   ],
   "source": [
    "scores = model.evaluate(x=test_Features, \n",
    "                        y=test_Label)"
   ]
  },
  {
   "cell_type": "code",
   "execution_count": 48,
   "metadata": {
    "collapsed": false
   },
   "outputs": [
    {
     "data": {
      "text/plain": [
       "0.900365445162727"
      ]
     },
     "execution_count": 48,
     "metadata": {},
     "output_type": "execute_result"
    }
   ],
   "source": [
    "scores[1]"
   ]
  }
 ],
 "metadata": {
  "anaconda-cloud": {},
  "kernelspec": {
   "display_name": "Python [default]",
   "language": "python",
   "name": "python3"
  },
  "language_info": {
   "codemirror_mode": {
    "name": "ipython",
    "version": 3
   },
   "file_extension": ".py",
   "mimetype": "text/x-python",
   "name": "python",
   "nbconvert_exporter": "python",
   "pygments_lexer": "ipython3",
   "version": "3.5.2"
  }
 },
 "nbformat": 4,
 "nbformat_minor": 1
}
