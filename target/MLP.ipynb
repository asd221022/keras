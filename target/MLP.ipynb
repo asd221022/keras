{
 "cells": [
  {
   "cell_type": "code",
   "execution_count": 117,
   "metadata": {
    "collapsed": true,
    "slideshow": {
     "slide_type": "-"
    }
   },
   "outputs": [],
   "source": [
    "import numpy\n",
    "import pandas as pd\n",
    "from sklearn.preprocessing import StandardScaler\n",
    "from sklearn.cross_validation import train_test_split\n",
    "numpy.random.seed(10)"
   ]
  },
  {
   "cell_type": "code",
   "execution_count": 118,
   "metadata": {
    "collapsed": true
   },
   "outputs": [],
   "source": [
    "data = pd.read_csv(\"data/target.csv\")"
   ]
  },
  {
   "cell_type": "code",
   "execution_count": 119,
   "metadata": {
    "collapsed": false
   },
   "outputs": [
    {
     "data": {
      "text/html": [
       "<div>\n",
       "<table border=\"1\" class=\"dataframe\">\n",
       "  <thead>\n",
       "    <tr style=\"text-align: right;\">\n",
       "      <th></th>\n",
       "      <th>customer_id</th>\n",
       "      <th>card_tenure</th>\n",
       "      <th>risk_score</th>\n",
       "      <th>num_promoted</th>\n",
       "      <th>avg_bal</th>\n",
       "      <th>geo_group</th>\n",
       "      <th>res_type</th>\n",
       "      <th>Unnamed: 7</th>\n",
       "    </tr>\n",
       "  </thead>\n",
       "  <tbody>\n",
       "    <tr>\n",
       "      <th>0</th>\n",
       "      <td>SB0000057824</td>\n",
       "      <td>198.0</td>\n",
       "      <td>755</td>\n",
       "      <td>0</td>\n",
       "      <td>3818.0</td>\n",
       "      <td>E</td>\n",
       "      <td>NaN</td>\n",
       "      <td>NaN</td>\n",
       "    </tr>\n",
       "    <tr>\n",
       "      <th>1</th>\n",
       "      <td>SB0000030501</td>\n",
       "      <td>206.0</td>\n",
       "      <td>647</td>\n",
       "      <td>0</td>\n",
       "      <td>3357.0</td>\n",
       "      <td>SE</td>\n",
       "      <td>CN</td>\n",
       "      <td>NaN</td>\n",
       "    </tr>\n",
       "  </tbody>\n",
       "</table>\n",
       "</div>"
      ],
      "text/plain": [
       "    customer_id  card_tenure  risk_score  num_promoted  avg_bal geo_group  \\\n",
       "0  SB0000057824        198.0         755             0   3818.0         E   \n",
       "1  SB0000030501        206.0         647             0   3357.0        SE   \n",
       "\n",
       "  res_type  Unnamed: 7  \n",
       "0      NaN         NaN  \n",
       "1       CN         NaN  "
      ]
     },
     "execution_count": 119,
     "metadata": {},
     "output_type": "execute_result"
    }
   ],
   "source": [
    "data[:2]"
   ]
  },
  {
   "cell_type": "code",
   "execution_count": 120,
   "metadata": {
    "collapsed": true
   },
   "outputs": [],
   "source": [
    "data=data.drop(['Unnamed: 7'], axis=1)\n",
    "data=data.drop(['customer_id'], axis=1)"
   ]
  },
  {
   "cell_type": "code",
   "execution_count": 121,
   "metadata": {
    "collapsed": false
   },
   "outputs": [],
   "source": [
    "data = data.dropna(how='any')"
   ]
  },
  {
   "cell_type": "code",
   "execution_count": 122,
   "metadata": {
    "collapsed": false
   },
   "outputs": [],
   "source": [
    "data['res_type']= data['res_type'].map({'CN':0, 'CO': 1, 'RE': 2, 'TO': 3,'SI': 4}).astype(int) "
   ]
  },
  {
   "cell_type": "code",
   "execution_count": 123,
   "metadata": {
    "collapsed": true
   },
   "outputs": [],
   "source": [
    "data=pd.get_dummies(data=data,columns=['geo_group'])"
   ]
  },
  {
   "cell_type": "code",
   "execution_count": 124,
   "metadata": {
    "collapsed": false
   },
   "outputs": [
    {
     "data": {
      "text/html": [
       "<div>\n",
       "<table border=\"1\" class=\"dataframe\">\n",
       "  <thead>\n",
       "    <tr style=\"text-align: right;\">\n",
       "      <th></th>\n",
       "      <th>card_tenure</th>\n",
       "      <th>risk_score</th>\n",
       "      <th>num_promoted</th>\n",
       "      <th>avg_bal</th>\n",
       "      <th>res_type</th>\n",
       "      <th>geo_group_E</th>\n",
       "      <th>geo_group_N</th>\n",
       "      <th>geo_group_SE</th>\n",
       "      <th>geo_group_W</th>\n",
       "    </tr>\n",
       "  </thead>\n",
       "  <tbody>\n",
       "    <tr>\n",
       "      <th>1</th>\n",
       "      <td>206.0</td>\n",
       "      <td>647</td>\n",
       "      <td>0</td>\n",
       "      <td>3357.0</td>\n",
       "      <td>0</td>\n",
       "      <td>0.0</td>\n",
       "      <td>0.0</td>\n",
       "      <td>1.0</td>\n",
       "      <td>0.0</td>\n",
       "    </tr>\n",
       "    <tr>\n",
       "      <th>2</th>\n",
       "      <td>107.0</td>\n",
       "      <td>629</td>\n",
       "      <td>0</td>\n",
       "      <td>3728.0</td>\n",
       "      <td>0</td>\n",
       "      <td>0.0</td>\n",
       "      <td>1.0</td>\n",
       "      <td>0.0</td>\n",
       "      <td>0.0</td>\n",
       "    </tr>\n",
       "  </tbody>\n",
       "</table>\n",
       "</div>"
      ],
      "text/plain": [
       "   card_tenure  risk_score  num_promoted  avg_bal  res_type  geo_group_E  \\\n",
       "1        206.0         647             0   3357.0         0          0.0   \n",
       "2        107.0         629             0   3728.0         0          0.0   \n",
       "\n",
       "   geo_group_N  geo_group_SE  geo_group_W  \n",
       "1          0.0           1.0          0.0  \n",
       "2          1.0           0.0          0.0  "
      ]
     },
     "execution_count": 124,
     "metadata": {},
     "output_type": "execute_result"
    }
   ],
   "source": [
    "data[:2]"
   ]
  },
  {
   "cell_type": "code",
   "execution_count": 125,
   "metadata": {
    "collapsed": false
   },
   "outputs": [],
   "source": [
    "X = data.drop(['res_type'], axis=1).values.astype('float64')"
   ]
  },
  {
   "cell_type": "code",
   "execution_count": 126,
   "metadata": {
    "collapsed": true
   },
   "outputs": [],
   "source": [
    "Y = data['res_type'].values.astype('int64')"
   ]
  },
  {
   "cell_type": "code",
   "execution_count": 127,
   "metadata": {
    "collapsed": false
   },
   "outputs": [
    {
     "data": {
      "text/plain": [
       "78804"
      ]
     },
     "execution_count": 127,
     "metadata": {},
     "output_type": "execute_result"
    }
   ],
   "source": [
    "X = StandardScaler().fit_transform(X)\n",
    "train_Features, test_Features, train_Label, test_Label = train_test_split(X, Y, test_size=0.2, random_state=True) \n",
    "len(train_Features)"
   ]
  },
  {
   "cell_type": "code",
   "execution_count": 128,
   "metadata": {
    "collapsed": false
   },
   "outputs": [],
   "source": [
    "from keras.utils import np_utils\n",
    "train_Label=np_utils.to_categorical(train_Label)\n",
    "test_Label=np_utils.to_categorical(test_Label)"
   ]
  },
  {
   "cell_type": "code",
   "execution_count": 129,
   "metadata": {
    "collapsed": false
   },
   "outputs": [
    {
     "data": {
      "text/plain": [
       "(78804, 8)"
      ]
     },
     "execution_count": 129,
     "metadata": {},
     "output_type": "execute_result"
    }
   ],
   "source": [
    "train_Features.shape"
   ]
  },
  {
   "cell_type": "code",
   "execution_count": 130,
   "metadata": {
    "collapsed": false
   },
   "outputs": [
    {
     "data": {
      "text/plain": [
       "(78804, 5)"
      ]
     },
     "execution_count": 130,
     "metadata": {},
     "output_type": "execute_result"
    }
   ],
   "source": [
    "train_Label.shape"
   ]
  },
  {
   "cell_type": "code",
   "execution_count": 131,
   "metadata": {
    "collapsed": false
   },
   "outputs": [],
   "source": [
    "from keras.models import Sequential\n",
    "from keras.layers import Dense,Dropout\n",
    "from keras.callbacks import EarlyStopping\n",
    "early_stopping = EarlyStopping(monitor='val_loss', patience=2)"
   ]
  },
  {
   "cell_type": "code",
   "execution_count": 132,
   "metadata": {
    "collapsed": true
   },
   "outputs": [],
   "source": [
    "model = Sequential()"
   ]
  },
  {
   "cell_type": "code",
   "execution_count": 133,
   "metadata": {
    "collapsed": true
   },
   "outputs": [],
   "source": [
    "model.add(Dense(units=8*2,   input_dim=8,\n",
    "                kernel_initializer='uniform', \n",
    "                activation='relu'))"
   ]
  },
  {
   "cell_type": "code",
   "execution_count": 134,
   "metadata": {
    "collapsed": true
   },
   "outputs": [],
   "source": [
    "model.add(Dense(units=8, \n",
    "                kernel_initializer='uniform', \n",
    "                activation='relu'))"
   ]
  },
  {
   "cell_type": "code",
   "execution_count": 135,
   "metadata": {
    "collapsed": true
   },
   "outputs": [],
   "source": [
    "model.add(Dense(units=5, \n",
    "                kernel_initializer='uniform',\n",
    "                activation='softmax'))"
   ]
  },
  {
   "cell_type": "code",
   "execution_count": 136,
   "metadata": {
    "collapsed": false
   },
   "outputs": [
    {
     "name": "stdout",
     "output_type": "stream",
     "text": [
      "_________________________________________________________________\n",
      "Layer (type)                 Output Shape              Param #   \n",
      "=================================================================\n",
      "dense_8 (Dense)              (None, 16)                144       \n",
      "_________________________________________________________________\n",
      "dense_9 (Dense)              (None, 8)                 136       \n",
      "_________________________________________________________________\n",
      "dense_10 (Dense)             (None, 5)                 45        \n",
      "=================================================================\n",
      "Total params: 325\n",
      "Trainable params: 325\n",
      "Non-trainable params: 0\n",
      "_________________________________________________________________\n"
     ]
    }
   ],
   "source": [
    "model.summary()"
   ]
  },
  {
   "cell_type": "code",
   "execution_count": 137,
   "metadata": {
    "collapsed": false
   },
   "outputs": [],
   "source": [
    "model.compile(loss='categorical_crossentropy', \n",
    "              optimizer='adam', metrics=['accuracy'])"
   ]
  },
  {
   "cell_type": "code",
   "execution_count": 138,
   "metadata": {
    "collapsed": false
   },
   "outputs": [
    {
     "name": "stdout",
     "output_type": "stream",
     "text": [
      "Train on 70923 samples, validate on 7881 samples\n",
      "Epoch 1/60\n",
      "70923/70923 [==============================] - 1s 20us/step - loss: 1.5593 - acc: 0.5359 - val_loss: 1.4394 - val_acc: 0.5935\n",
      "Epoch 2/60\n",
      "70923/70923 [==============================] - 1s 10us/step - loss: 1.1910 - acc: 0.5987 - val_loss: 0.9791 - val_acc: 0.5954\n",
      "Epoch 3/60\n",
      "70923/70923 [==============================] - 1s 8us/step - loss: 0.8569 - acc: 0.6234 - val_loss: 0.7452 - val_acc: 0.7222\n",
      "Epoch 4/60\n",
      "70923/70923 [==============================] - 1s 13us/step - loss: 0.6399 - acc: 0.7754 - val_loss: 0.5402 - val_acc: 0.8064\n",
      "Epoch 5/60\n",
      "70923/70923 [==============================] - 1s 9us/step - loss: 0.4631 - acc: 0.8426 - val_loss: 0.3933 - val_acc: 0.8704\n",
      "Epoch 6/60\n",
      "70923/70923 [==============================] - 1s 15us/step - loss: 0.3411 - acc: 0.8888 - val_loss: 0.2946 - val_acc: 0.9194\n",
      "Epoch 7/60\n",
      "70923/70923 [==============================] - 1s 16us/step - loss: 0.2616 - acc: 0.9325 - val_loss: 0.2308 - val_acc: 0.9494\n",
      "Epoch 8/60\n",
      "70923/70923 [==============================] - 1s 12us/step - loss: 0.2098 - acc: 0.9552 - val_loss: 0.1879 - val_acc: 0.9638\n",
      "Epoch 9/60\n",
      "70923/70923 [==============================] - 1s 9us/step - loss: 0.1735 - acc: 0.9678 - val_loss: 0.1576 - val_acc: 0.9753\n",
      "Epoch 10/60\n",
      "70923/70923 [==============================] - 1s 19us/step - loss: 0.1470 - acc: 0.9747 - val_loss: 0.1345 - val_acc: 0.9784\n",
      "Epoch 11/60\n",
      "70923/70923 [==============================] - 1s 16us/step - loss: 0.1274 - acc: 0.9788 - val_loss: 0.1176 - val_acc: 0.9815\n",
      "Epoch 12/60\n",
      "70923/70923 [==============================] - 1s 10us/step - loss: 0.1124 - acc: 0.9814 - val_loss: 0.1044 - val_acc: 0.9838\n",
      "Epoch 13/60\n",
      "70923/70923 [==============================] - 1s 16us/step - loss: 0.1008 - acc: 0.9835 - val_loss: 0.0947 - val_acc: 0.9825\n",
      "Epoch 14/60\n",
      "70923/70923 [==============================] - 1s 18us/step - loss: 0.0915 - acc: 0.9849 - val_loss: 0.0862 - val_acc: 0.9859\n",
      "Epoch 15/60\n",
      "70923/70923 [==============================] - 1s 14us/step - loss: 0.0841 - acc: 0.9860 - val_loss: 0.0796 - val_acc: 0.9869\n",
      "Epoch 16/60\n",
      "70923/70923 [==============================] - 1s 20us/step - loss: 0.0780 - acc: 0.9869 - val_loss: 0.0742 - val_acc: 0.9876\n",
      "Epoch 17/60\n",
      "70923/70923 [==============================] - 1s 12us/step - loss: 0.0730 - acc: 0.9875 - val_loss: 0.0697 - val_acc: 0.9883\n",
      "Epoch 18/60\n",
      "70923/70923 [==============================] - 1s 9us/step - loss: 0.0687 - acc: 0.9881 - val_loss: 0.0656 - val_acc: 0.9879\n",
      "Epoch 19/60\n",
      "70923/70923 [==============================] - 1s 11us/step - loss: 0.0648 - acc: 0.9891 - val_loss: 0.0626 - val_acc: 0.9885\n",
      "Epoch 20/60\n",
      "70923/70923 [==============================] - 1s 13us/step - loss: 0.0618 - acc: 0.9890 - val_loss: 0.0589 - val_acc: 0.9888\n",
      "Epoch 21/60\n",
      "70923/70923 [==============================] - 1s 17us/step - loss: 0.0589 - acc: 0.9891 - val_loss: 0.0568 - val_acc: 0.9878\n",
      "Epoch 22/60\n",
      "70923/70923 [==============================] - 1s 16us/step - loss: 0.0562 - acc: 0.9897 - val_loss: 0.0539 - val_acc: 0.9901\n",
      "Epoch 23/60\n",
      "70923/70923 [==============================] - 1s 9us/step - loss: 0.0539 - acc: 0.9895 - val_loss: 0.0519 - val_acc: 0.9906\n",
      "Epoch 24/60\n",
      "70923/70923 [==============================] - 0s 7us/step - loss: 0.0520 - acc: 0.9897 - val_loss: 0.0505 - val_acc: 0.9872\n",
      "Epoch 25/60\n",
      "70923/70923 [==============================] - 1s 7us/step - loss: 0.0500 - acc: 0.9896 - val_loss: 0.0484 - val_acc: 0.9906\n",
      "Epoch 26/60\n",
      "70923/70923 [==============================] - 1s 8us/step - loss: 0.0482 - acc: 0.9905 - val_loss: 0.0469 - val_acc: 0.9888\n",
      "Epoch 27/60\n",
      "70923/70923 [==============================] - 0s 6us/step - loss: 0.0467 - acc: 0.9904 - val_loss: 0.0452 - val_acc: 0.9904\n",
      "Epoch 28/60\n",
      "70923/70923 [==============================] - 0s 7us/step - loss: 0.0453 - acc: 0.9902 - val_loss: 0.0437 - val_acc: 0.9914\n",
      "Epoch 29/60\n",
      "70923/70923 [==============================] - 0s 7us/step - loss: 0.0441 - acc: 0.9901 - val_loss: 0.0424 - val_acc: 0.9911\n",
      "Epoch 30/60\n",
      "70923/70923 [==============================] - 0s 7us/step - loss: 0.0429 - acc: 0.9905 - val_loss: 0.0416 - val_acc: 0.9901\n",
      "Epoch 31/60\n",
      "70923/70923 [==============================] - 0s 5us/step - loss: 0.0415 - acc: 0.9904 - val_loss: 0.0401 - val_acc: 0.9911\n",
      "Epoch 32/60\n",
      "70923/70923 [==============================] - 0s 6us/step - loss: 0.0404 - acc: 0.9903 - val_loss: 0.0396 - val_acc: 0.9902\n",
      "Epoch 33/60\n",
      "70923/70923 [==============================] - 0s 6us/step - loss: 0.0395 - acc: 0.9909 - val_loss: 0.0383 - val_acc: 0.9907\n",
      "Epoch 34/60\n",
      "70923/70923 [==============================] - 0s 6us/step - loss: 0.0385 - acc: 0.9908 - val_loss: 0.0377 - val_acc: 0.9900\n",
      "Epoch 35/60\n",
      "70923/70923 [==============================] - 1s 8us/step - loss: 0.0376 - acc: 0.9907 - val_loss: 0.0367 - val_acc: 0.9906\n",
      "Epoch 36/60\n",
      "70923/70923 [==============================] - 1s 7us/step - loss: 0.0367 - acc: 0.9909 - val_loss: 0.0358 - val_acc: 0.9905\n",
      "Epoch 37/60\n",
      "70923/70923 [==============================] - 0s 6us/step - loss: 0.0360 - acc: 0.9913 - val_loss: 0.0348 - val_acc: 0.9924\n",
      "Epoch 38/60\n",
      "70923/70923 [==============================] - 0s 6us/step - loss: 0.0351 - acc: 0.9912 - val_loss: 0.0341 - val_acc: 0.9906\n",
      "Epoch 39/60\n",
      "70923/70923 [==============================] - 0s 6us/step - loss: 0.0344 - acc: 0.9912 - val_loss: 0.0331 - val_acc: 0.9915\n",
      "Epoch 40/60\n",
      "70923/70923 [==============================] - 1s 10us/step - loss: 0.0337 - acc: 0.9907 - val_loss: 0.0325 - val_acc: 0.9919\n",
      "Epoch 41/60\n",
      "70923/70923 [==============================] - 1s 20us/step - loss: 0.0330 - acc: 0.9918 - val_loss: 0.0318 - val_acc: 0.9925\n",
      "Epoch 42/60\n",
      "70923/70923 [==============================] - 1s 19us/step - loss: 0.0324 - acc: 0.9920 - val_loss: 0.0311 - val_acc: 0.9916\n",
      "Epoch 43/60\n",
      "70923/70923 [==============================] - 2s 23us/step - loss: 0.0319 - acc: 0.9916 - val_loss: 0.0315 - val_acc: 0.9902\n",
      "Epoch 44/60\n",
      "70923/70923 [==============================] - 1s 13us/step - loss: 0.0313 - acc: 0.9918 - val_loss: 0.0301 - val_acc: 0.9924\n",
      "Epoch 45/60\n",
      "70923/70923 [==============================] - 1s 15us/step - loss: 0.0307 - acc: 0.9919 - val_loss: 0.0298 - val_acc: 0.9911\n",
      "Epoch 46/60\n",
      "70923/70923 [==============================] - 1s 9us/step - loss: 0.0301 - acc: 0.9918 - val_loss: 0.0296 - val_acc: 0.9915\n",
      "Epoch 47/60\n",
      "70923/70923 [==============================] - 1s 10us/step - loss: 0.0295 - acc: 0.9922 - val_loss: 0.0291 - val_acc: 0.9916\n",
      "Epoch 48/60\n",
      "70923/70923 [==============================] - 2s 22us/step - loss: 0.0293 - acc: 0.9918 - val_loss: 0.0290 - val_acc: 0.9924\n",
      "Epoch 49/60\n",
      "70923/70923 [==============================] - 1s 14us/step - loss: 0.0286 - acc: 0.9922 - val_loss: 0.0281 - val_acc: 0.9921\n",
      "Epoch 50/60\n",
      "70923/70923 [==============================] - 1s 12us/step - loss: 0.0281 - acc: 0.9921 - val_loss: 0.0272 - val_acc: 0.9915\n",
      "Epoch 51/60\n",
      "70923/70923 [==============================] - 1s 8us/step - loss: 0.0277 - acc: 0.9920 - val_loss: 0.0271 - val_acc: 0.9928\n",
      "Epoch 52/60\n",
      "70923/70923 [==============================] - 1s 11us/step - loss: 0.0273 - acc: 0.9928 - val_loss: 0.0272 - val_acc: 0.9919\n",
      "Epoch 53/60\n",
      "70923/70923 [==============================] - 1s 9us/step - loss: 0.0270 - acc: 0.9926 - val_loss: 0.0271 - val_acc: 0.9914\n"
     ]
    }
   ],
   "source": [
    "train_history =model.fit(x=train_Features, \n",
    "                         y=train_Label, \n",
    "                         validation_split=0.1, \n",
    "                         epochs=60, \n",
    "                         batch_size=800,verbose=1,callbacks=[early_stopping])"
   ]
  },
  {
   "cell_type": "code",
   "execution_count": 139,
   "metadata": {
    "collapsed": true
   },
   "outputs": [],
   "source": [
    "import matplotlib.pyplot as plt\n",
    "def show_train_history(train_history,train,validation):\n",
    "    plt.plot(train_history.history[train])\n",
    "    plt.plot(train_history.history[validation])\n",
    "    plt.title('Train History')\n",
    "    plt.ylabel(train)\n",
    "    plt.xlabel('Epoch')\n",
    "    plt.legend(['train', 'validation'], loc='upper left')\n",
    "    plt.show()"
   ]
  },
  {
   "cell_type": "code",
   "execution_count": 140,
   "metadata": {
    "collapsed": false
   },
   "outputs": [
    {
     "data": {
      "image/png": "[encoded data removed]",
      "text/plain": [
       "<matplotlib.figure.Figure at 0x7f8442a83ba8>"
      ]
     },
     "metadata": {},
     "output_type": "display_data"
    }
   ],
   "source": [
    "show_train_history(train_history,'acc','val_acc')"
   ]
  },
  {
   "cell_type": "code",
   "execution_count": 141,
   "metadata": {
    "collapsed": false
   },
   "outputs": [
    {
     "data": {
      "image/png": "[encoded data removed]",
      "text/plain": [
       "<matplotlib.figure.Figure at 0x7f8442a83b38>"
      ]
     },
     "metadata": {},
     "output_type": "display_data"
    }
   ],
   "source": [
    "show_train_history(train_history,'loss','val_loss')"
   ]
  },
  {
   "cell_type": "code",
   "execution_count": 142,
   "metadata": {
    "collapsed": false
   },
   "outputs": [
    {
     "name": "stdout",
     "output_type": "stream",
     "text": [
      "19702/19702 [==============================] - 0s 25us/step\n"
     ]
    }
   ],
   "source": [
    "scores = model.evaluate(x=test_Features, \n",
    "                        y=test_Label)"
   ]
  },
  {
   "cell_type": "code",
   "execution_count": 143,
   "metadata": {
    "collapsed": false
   },
   "outputs": [
    {
     "data": {
      "text/plain": [
       "0.9914729468907914"
      ]
     },
     "execution_count": 143,
     "metadata": {},
     "output_type": "execute_result"
    }
   ],
   "source": [
    "scores[1]"
   ]
  }
 ],
 "metadata": {
  "anaconda-cloud": {},
  "kernelspec": {
   "display_name": "Python [default]",
   "language": "python",
   "name": "python3"
  },
  "language_info": {
   "codemirror_mode": {
    "name": "ipython",
    "version": 3
   },
   "file_extension": ".py",
   "mimetype": "text/x-python",
   "name": "python",
   "nbconvert_exporter": "python",
   "pygments_lexer": "ipython3",
   "version": "3.5.2"
  }
 },
 "nbformat": 4,
 "nbformat_minor": 1
}
