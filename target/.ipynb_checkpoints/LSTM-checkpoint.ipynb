{
 "cells": [
  {
   "cell_type": "code",
   "execution_count": 35,
   "metadata": {
    "collapsed": false
   },
   "outputs": [],
   "source": [
    "import numpy \n",
    "import pandas as pd\n",
    "from sklearn.preprocessing import StandardScaler\n",
    "from sklearn.model_selection import train_test_split\n",
    "numpy.random.seed(10)"
   ]
  },
  {
   "cell_type": "code",
   "execution_count": 36,
   "metadata": {
    "collapsed": false
   },
   "outputs": [],
   "source": [
    "data = pd.read_csv(\"data/target.csv\")"
   ]
  },
  {
   "cell_type": "code",
   "execution_count": 37,
   "metadata": {
    "collapsed": true
   },
   "outputs": [],
   "source": [
    "data=data.drop(['Unnamed: 7'], axis=1)\n",
    "data=data.drop(['customer_id'], axis=1)"
   ]
  },
  {
   "cell_type": "code",
   "execution_count": 38,
   "metadata": {
    "collapsed": true
   },
   "outputs": [],
   "source": [
    "data = data.dropna(how='any')"
   ]
  },
  {
   "cell_type": "code",
   "execution_count": 39,
   "metadata": {
    "collapsed": true
   },
   "outputs": [],
   "source": [
    "data['res_type']= data['res_type'].map({'CN':0, 'CO': 1, 'RE': 2, 'TO': 3,'SI': 4}).astype(int)"
   ]
  },
  {
   "cell_type": "code",
   "execution_count": 40,
   "metadata": {
    "collapsed": true
   },
   "outputs": [],
   "source": [
    "data=pd.get_dummies(data=data,columns=['geo_group'])"
   ]
  },
  {
   "cell_type": "code",
   "execution_count": 41,
   "metadata": {
    "collapsed": true
   },
   "outputs": [],
   "source": [
    "X = data.drop(['res_type'], axis=1).values.astype('float64')"
   ]
  },
  {
   "cell_type": "code",
   "execution_count": 42,
   "metadata": {
    "collapsed": true
   },
   "outputs": [],
   "source": [
    "Y = data['res_type'].values.astype('int64')"
   ]
  },
  {
   "cell_type": "code",
   "execution_count": 43,
   "metadata": {
    "collapsed": false
   },
   "outputs": [
    {
     "data": {
      "text/plain": [
       "78804"
      ]
     },
     "execution_count": 43,
     "metadata": {},
     "output_type": "execute_result"
    }
   ],
   "source": [
    "X = StandardScaler().fit_transform(X)\n",
    "train_Features, test_Features, train_Label, test_Label = train_test_split(X, Y, test_size=0.2, random_state=True) \n",
    "len(train_Features)"
   ]
  },
  {
   "cell_type": "code",
   "execution_count": 44,
   "metadata": {
    "collapsed": true
   },
   "outputs": [],
   "source": [
    "train_Features = train_Features.reshape((train_Features.shape[0], train_Features.shape[1], 1))"
   ]
  },
  {
   "cell_type": "code",
   "execution_count": 45,
   "metadata": {
    "collapsed": true
   },
   "outputs": [],
   "source": [
    "test_Features = test_Features.reshape((test_Features.shape[0], test_Features.shape[1], 1))"
   ]
  },
  {
   "cell_type": "code",
   "execution_count": 46,
   "metadata": {
    "collapsed": false
   },
   "outputs": [],
   "source": [
    "from keras.utils import np_utils\n",
    "train_Label = train_Label.reshape(train_Label.shape[0], 1)\n",
    "test_Label= test_Label.reshape(test_Label.shape[0], 1)\n",
    "train_Label=np_utils.to_categorical(train_Label)\n",
    "test_Label=np_utils.to_categorical(test_Label)"
   ]
  },
  {
   "cell_type": "code",
   "execution_count": 47,
   "metadata": {
    "collapsed": false
   },
   "outputs": [],
   "source": [
    "from keras.models import Sequential\n",
    "from keras.layers.core import Dense, Dropout, Activation\n",
    "from keras.layers.embeddings import Embedding\n",
    "from keras.layers.recurrent import SimpleRNN\n",
    "from keras.callbacks import EarlyStopping\n",
    "early_stopping = EarlyStopping(monitor='val_loss', patience=2)"
   ]
  },
  {
   "cell_type": "code",
   "execution_count": 48,
   "metadata": {
    "collapsed": true
   },
   "outputs": [],
   "source": [
    "model = Sequential()"
   ]
  },
  {
   "cell_type": "code",
   "execution_count": 49,
   "metadata": {
    "collapsed": false
   },
   "outputs": [],
   "source": [
    "model.add(SimpleRNN(units=16, input_shape=(8,1)))"
   ]
  },
  {
   "cell_type": "code",
   "execution_count": 50,
   "metadata": {
    "collapsed": true
   },
   "outputs": [],
   "source": [
    "model.add(Dense(5, activation = \"softmax\"))"
   ]
  },
  {
   "cell_type": "code",
   "execution_count": 51,
   "metadata": {
    "collapsed": false
   },
   "outputs": [
    {
     "name": "stdout",
     "output_type": "stream",
     "text": [
      "_________________________________________________________________\n",
      "Layer (type)                 Output Shape              Param #   \n",
      "=================================================================\n",
      "simple_rnn_2 (SimpleRNN)     (None, 16)                288       \n",
      "_________________________________________________________________\n",
      "dense_2 (Dense)              (None, 5)                 85        \n",
      "=================================================================\n",
      "Total params: 373\n",
      "Trainable params: 373\n",
      "Non-trainable params: 0\n",
      "_________________________________________________________________\n"
     ]
    }
   ],
   "source": [
    "model.summary()"
   ]
  },
  {
   "cell_type": "code",
   "execution_count": 52,
   "metadata": {
    "collapsed": false
   },
   "outputs": [],
   "source": [
    "model.compile(loss='categorical_crossentropy', \n",
    "              optimizer='adam', metrics=['accuracy'])"
   ]
  },
  {
   "cell_type": "code",
   "execution_count": 53,
   "metadata": {
    "collapsed": false
   },
   "outputs": [
    {
     "name": "stdout",
     "output_type": "stream",
     "text": [
      "Train on 63043 samples, validate on 15761 samples\n",
      "Epoch 1/60\n",
      "63043/63043 [==============================] - 4s 65us/step - loss: 1.4832 - acc: 0.4614 - val_loss: 1.3026 - val_acc: 0.5215\n",
      "Epoch 2/60\n",
      "63043/63043 [==============================] - 2s 33us/step - loss: 1.1711 - acc: 0.5457 - val_loss: 1.0473 - val_acc: 0.5735\n",
      "Epoch 3/60\n",
      "63043/63043 [==============================] - 2s 32us/step - loss: 0.9575 - acc: 0.5750 - val_loss: 0.8935 - val_acc: 0.5910\n",
      "Epoch 4/60\n",
      "63043/63043 [==============================] - 2s 28us/step - loss: 0.8431 - acc: 0.6087 - val_loss: 0.8068 - val_acc: 0.6180\n",
      "Epoch 5/60\n",
      "63043/63043 [==============================] - 2s 28us/step - loss: 0.7677 - acc: 0.6331 - val_loss: 0.7377 - val_acc: 0.6519\n",
      "Epoch 6/60\n",
      "63043/63043 [==============================] - 2s 26us/step - loss: 0.7006 - acc: 0.6747 - val_loss: 0.6697 - val_acc: 0.6930\n",
      "Epoch 7/60\n",
      "63043/63043 [==============================] - 2s 26us/step - loss: 0.6285 - acc: 0.7329 - val_loss: 0.5948 - val_acc: 0.7605\n",
      "Epoch 8/60\n",
      "63043/63043 [==============================] - 2s 27us/step - loss: 0.5531 - acc: 0.8011 - val_loss: 0.5192 - val_acc: 0.8317\n",
      "Epoch 9/60\n",
      "63043/63043 [==============================] - 2s 32us/step - loss: 0.4836 - acc: 0.8480 - val_loss: 0.4536 - val_acc: 0.8591\n",
      "Epoch 10/60\n",
      "63043/63043 [==============================] - 2s 28us/step - loss: 0.4255 - acc: 0.8685 - val_loss: 0.4051 - val_acc: 0.8655\n",
      "Epoch 11/60\n",
      "63043/63043 [==============================] - 2s 32us/step - loss: 0.3794 - acc: 0.8814 - val_loss: 0.3601 - val_acc: 0.8928\n",
      "Epoch 12/60\n",
      "63043/63043 [==============================] - 2s 28us/step - loss: 0.3409 - acc: 0.8963 - val_loss: 0.3271 - val_acc: 0.8966\n",
      "Epoch 13/60\n",
      "63043/63043 [==============================] - 2s 29us/step - loss: 0.3105 - acc: 0.9044 - val_loss: 0.2995 - val_acc: 0.9151\n",
      "Epoch 14/60\n",
      "63043/63043 [==============================] - 2s 29us/step - loss: 0.2858 - acc: 0.9157 - val_loss: 0.2868 - val_acc: 0.9009\n",
      "Epoch 15/60\n",
      "63043/63043 [==============================] - 2s 28us/step - loss: 0.2676 - acc: 0.9182 - val_loss: 0.2550 - val_acc: 0.9285\n",
      "Epoch 16/60\n",
      "63043/63043 [==============================] - 2s 29us/step - loss: 0.2479 - acc: 0.9279 - val_loss: 0.2469 - val_acc: 0.9267\n",
      "Epoch 17/60\n",
      "63043/63043 [==============================] - 2s 31us/step - loss: 0.2337 - acc: 0.9321 - val_loss: 0.2279 - val_acc: 0.9290\n",
      "Epoch 18/60\n",
      "63043/63043 [==============================] - 2s 34us/step - loss: 0.2211 - acc: 0.9365 - val_loss: 0.2178 - val_acc: 0.9367\n",
      "Epoch 19/60\n",
      "63043/63043 [==============================] - 2s 36us/step - loss: 0.2098 - acc: 0.9417 - val_loss: 0.2051 - val_acc: 0.9419\n",
      "Epoch 20/60\n",
      "63043/63043 [==============================] - 3s 40us/step - loss: 0.2007 - acc: 0.9428 - val_loss: 0.1973 - val_acc: 0.9445\n",
      "Epoch 21/60\n",
      "63043/63043 [==============================] - 3s 46us/step - loss: 0.1914 - acc: 0.9469 - val_loss: 0.1860 - val_acc: 0.9506\n",
      "Epoch 22/60\n",
      "63043/63043 [==============================] - 3s 40us/step - loss: 0.1827 - acc: 0.9500 - val_loss: 0.1798 - val_acc: 0.9518\n",
      "Epoch 23/60\n",
      "63043/63043 [==============================] - 2s 38us/step - loss: 0.1741 - acc: 0.9540 - val_loss: 0.1805 - val_acc: 0.9461\n",
      "Epoch 24/60\n",
      "63043/63043 [==============================] - 2s 33us/step - loss: 0.1712 - acc: 0.9525 - val_loss: 0.1645 - val_acc: 0.9576\n",
      "Epoch 25/60\n",
      "63043/63043 [==============================] - 2s 36us/step - loss: 0.1646 - acc: 0.9542 - val_loss: 0.1583 - val_acc: 0.9595\n",
      "Epoch 26/60\n",
      "63043/63043 [==============================] - 2s 32us/step - loss: 0.1581 - acc: 0.9563 - val_loss: 0.1595 - val_acc: 0.9562\n",
      "Epoch 27/60\n",
      "63043/63043 [==============================] - 2s 31us/step - loss: 0.1524 - acc: 0.9595 - val_loss: 0.1555 - val_acc: 0.9554\n",
      "Epoch 28/60\n",
      "63043/63043 [==============================] - 2s 28us/step - loss: 0.1495 - acc: 0.9586 - val_loss: 0.1522 - val_acc: 0.9547\n",
      "Epoch 29/60\n",
      "63043/63043 [==============================] - 2s 27us/step - loss: 0.1453 - acc: 0.9594 - val_loss: 0.1406 - val_acc: 0.9645\n",
      "Epoch 30/60\n",
      "63043/63043 [==============================] - 2s 32us/step - loss: 0.1385 - acc: 0.9629 - val_loss: 0.1363 - val_acc: 0.9660\n",
      "Epoch 31/60\n",
      "63043/63043 [==============================] - 2s 29us/step - loss: 0.1361 - acc: 0.9627 - val_loss: 0.1332 - val_acc: 0.9662\n",
      "Epoch 32/60\n",
      "63043/63043 [==============================] - 2s 27us/step - loss: 0.1328 - acc: 0.9632 - val_loss: 0.1342 - val_acc: 0.9625\n",
      "Epoch 33/60\n",
      "63043/63043 [==============================] - 2s 33us/step - loss: 0.1301 - acc: 0.9638 - val_loss: 0.1279 - val_acc: 0.9673\n",
      "Epoch 34/60\n",
      "63043/63043 [==============================] - 2s 27us/step - loss: 0.1278 - acc: 0.9635 - val_loss: 0.1379 - val_acc: 0.9557\n",
      "Epoch 35/60\n",
      "63043/63043 [==============================] - 2s 28us/step - loss: 0.1253 - acc: 0.9638 - val_loss: 0.1345 - val_acc: 0.9563\n"
     ]
    }
   ],
   "source": [
    "train_history =model.fit(x=train_Features, \n",
    "                         y=train_Label, \n",
    "                         validation_split=0.2, \n",
    "                         epochs=60, \n",
    "                         batch_size=1500,verbose=1,callbacks=[early_stopping])"
   ]
  },
  {
   "cell_type": "code",
   "execution_count": 54,
   "metadata": {
    "collapsed": true
   },
   "outputs": [],
   "source": [
    "import matplotlib.pyplot as plt\n",
    "def show_train_history(train_history,train,validation):\n",
    "    plt.plot(train_history.history[train])\n",
    "    plt.plot(train_history.history[validation])\n",
    "    plt.title('Train History')\n",
    "    plt.ylabel(train)\n",
    "    plt.xlabel('Epoch')\n",
    "    plt.legend(['train', 'validation'], loc='upper left')\n",
    "    plt.show()"
   ]
  },
  {
   "cell_type": "code",
   "execution_count": 55,
   "metadata": {
    "collapsed": false
   },
   "outputs": [
    {
     "data": {
      "image/png": "[encoded data removed]",
      "text/plain": [
       "<matplotlib.figure.Figure at 0x7f734c899a20>"
      ]
     },
     "metadata": {},
     "output_type": "display_data"
    }
   ],
   "source": [
    "show_train_history(train_history,'acc','val_acc')"
   ]
  },
  {
   "cell_type": "code",
   "execution_count": 56,
   "metadata": {
    "collapsed": false
   },
   "outputs": [
    {
     "data": {
      "image/png": "[encoded data removed]",
      "text/plain": [
       "<matplotlib.figure.Figure at 0x7f734c8999e8>"
      ]
     },
     "metadata": {},
     "output_type": "display_data"
    }
   ],
   "source": [
    "show_train_history(train_history,'loss','val_loss')"
   ]
  },
  {
   "cell_type": "code",
   "execution_count": 57,
   "metadata": {
    "collapsed": false
   },
   "outputs": [
    {
     "name": "stdout",
     "output_type": "stream",
     "text": [
      "19702/19702 [==============================] - 1s 70us/step\n"
     ]
    }
   ],
   "source": [
    "scores = model.evaluate(x=test_Features, \n",
    "                        y=test_Label)"
   ]
  },
  {
   "cell_type": "code",
   "execution_count": 58,
   "metadata": {
    "collapsed": false
   },
   "outputs": [
    {
     "data": {
      "text/plain": [
       "0.9568571718425729"
      ]
     },
     "execution_count": 58,
     "metadata": {},
     "output_type": "execute_result"
    }
   ],
   "source": [
    "scores[1]"
   ]
  }
 ],
 "metadata": {
  "anaconda-cloud": {},
  "kernelspec": {
   "display_name": "Python [default]",
   "language": "python",
   "name": "python3"
  },
  "language_info": {
   "codemirror_mode": {
    "name": "ipython",
    "version": 3
   },
   "file_extension": ".py",
   "mimetype": "text/x-python",
   "name": "python",
   "nbconvert_exporter": "python",
   "pygments_lexer": "ipython3",
   "version": "3.5.2"
  }
 },
 "nbformat": 4,
 "nbformat_minor": 1
}
