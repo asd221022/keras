{
 "cells": [
  {
   "cell_type": "code",
   "execution_count": 1,
   "metadata": {
    "collapsed": false
   },
   "outputs": [],
   "source": [
    "import numpy \n",
    "import pandas as pd\n",
    "from sklearn.preprocessing import StandardScaler\n",
    "from sklearn.model_selection import train_test_split\n",
    "numpy.random.seed(10)"
   ]
  },
  {
   "cell_type": "code",
   "execution_count": 2,
   "metadata": {
    "collapsed": false
   },
   "outputs": [],
   "source": [
    "data = pd.read_csv(\"data/target.csv\")"
   ]
  },
  {
   "cell_type": "code",
   "execution_count": 3,
   "metadata": {
    "collapsed": true
   },
   "outputs": [],
   "source": [
    "data=data.drop(['Unnamed: 7'], axis=1)\n",
    "data=data.drop(['customer_id'], axis=1)"
   ]
  },
  {
   "cell_type": "code",
   "execution_count": 4,
   "metadata": {
    "collapsed": true
   },
   "outputs": [],
   "source": [
    "data = data.dropna(how='any')"
   ]
  },
  {
   "cell_type": "code",
   "execution_count": 5,
   "metadata": {
    "collapsed": true
   },
   "outputs": [],
   "source": [
    "data['res_type']= data['res_type'].map({'CN':0, 'CO': 1, 'RE': 2, 'TO': 3,'SI': 4}).astype(int)"
   ]
  },
  {
   "cell_type": "code",
   "execution_count": 6,
   "metadata": {
    "collapsed": true
   },
   "outputs": [],
   "source": [
    "data=pd.get_dummies(data=data,columns=['geo_group'])"
   ]
  },
  {
   "cell_type": "code",
   "execution_count": 7,
   "metadata": {
    "collapsed": true
   },
   "outputs": [],
   "source": [
    "X = data.drop(['res_type'], axis=1).values.astype('float64')"
   ]
  },
  {
   "cell_type": "code",
   "execution_count": 8,
   "metadata": {
    "collapsed": true
   },
   "outputs": [],
   "source": [
    "Y = data['res_type'].values.astype('int64')"
   ]
  },
  {
   "cell_type": "code",
   "execution_count": 9,
   "metadata": {
    "collapsed": false
   },
   "outputs": [
    {
     "data": {
      "text/plain": [
       "78804"
      ]
     },
     "execution_count": 9,
     "metadata": {},
     "output_type": "execute_result"
    }
   ],
   "source": [
    "X = StandardScaler().fit_transform(X)\n",
    "train_Features, test_Features, train_Label, test_Label = train_test_split(X, Y, test_size=0.2, random_state=True) \n",
    "len(train_Features)"
   ]
  },
  {
   "cell_type": "code",
   "execution_count": 10,
   "metadata": {
    "collapsed": true
   },
   "outputs": [],
   "source": [
    "train_Features = train_Features.reshape((train_Features.shape[0], train_Features.shape[1], 1))"
   ]
  },
  {
   "cell_type": "code",
   "execution_count": 11,
   "metadata": {
    "collapsed": true
   },
   "outputs": [],
   "source": [
    "test_Features = test_Features.reshape((test_Features.shape[0], test_Features.shape[1], 1))"
   ]
  },
  {
   "cell_type": "code",
   "execution_count": 12,
   "metadata": {
    "collapsed": false
   },
   "outputs": [
    {
     "name": "stderr",
     "output_type": "stream",
     "text": [
      "Using TensorFlow backend.\n"
     ]
    }
   ],
   "source": [
    "from keras.utils import np_utils\n",
    "train_Label = train_Label.reshape(train_Label.shape[0], 1)\n",
    "test_Label= test_Label.reshape(test_Label.shape[0], 1)\n",
    "train_Label=np_utils.to_categorical(train_Label)\n",
    "test_Label=np_utils.to_categorical(test_Label)"
   ]
  },
  {
   "cell_type": "code",
   "execution_count": 13,
   "metadata": {
    "collapsed": false
   },
   "outputs": [],
   "source": [
    "from keras.models import Sequential\n",
    "from keras.layers.core import Dense, Dropout, Activation\n",
    "from keras.layers.embeddings import Embedding\n",
    "from keras.layers.recurrent import LSTM\n",
    "from keras.callbacks import EarlyStopping\n",
    "early_stopping = EarlyStopping(monitor='val_loss', patience=2)"
   ]
  },
  {
   "cell_type": "code",
   "execution_count": 14,
   "metadata": {
    "collapsed": true
   },
   "outputs": [],
   "source": [
    "model = Sequential()"
   ]
  },
  {
   "cell_type": "code",
   "execution_count": 15,
   "metadata": {
    "collapsed": false
   },
   "outputs": [],
   "source": [
    "model.add(LSTM(units=8, input_shape=(8,1)))"
   ]
  },
  {
   "cell_type": "code",
   "execution_count": 16,
   "metadata": {
    "collapsed": true
   },
   "outputs": [],
   "source": [
    "model.add(Dense(5, activation = \"softmax\"))"
   ]
  },
  {
   "cell_type": "code",
   "execution_count": 17,
   "metadata": {
    "collapsed": false
   },
   "outputs": [
    {
     "name": "stdout",
     "output_type": "stream",
     "text": [
      "_________________________________________________________________\n",
      "Layer (type)                 Output Shape              Param #   \n",
      "=================================================================\n",
      "lstm_1 (LSTM)                (None, 8)                 320       \n",
      "_________________________________________________________________\n",
      "dense_1 (Dense)              (None, 5)                 45        \n",
      "=================================================================\n",
      "Total params: 365\n",
      "Trainable params: 365\n",
      "Non-trainable params: 0\n",
      "_________________________________________________________________\n"
     ]
    }
   ],
   "source": [
    "model.summary()"
   ]
  },
  {
   "cell_type": "code",
   "execution_count": 18,
   "metadata": {
    "collapsed": false
   },
   "outputs": [],
   "source": [
    "model.compile(loss='categorical_crossentropy', \n",
    "              optimizer='adam', metrics=['accuracy'])"
   ]
  },
  {
   "cell_type": "code",
   "execution_count": 19,
   "metadata": {
    "collapsed": false
   },
   "outputs": [
    {
     "name": "stdout",
     "output_type": "stream",
     "text": [
      "Train on 70923 samples, validate on 7881 samples\n",
      "Epoch 1/30\n",
      "70923/70923 [==============================] - 13s 178us/step - loss: 1.5703 - acc: 0.3903 - val_loss: 1.5335 - val_acc: 0.4097\n",
      "Epoch 2/30\n",
      "70923/70923 [==============================] - 8s 109us/step - loss: 1.5024 - acc: 0.3975 - val_loss: 1.4558 - val_acc: 0.4116\n",
      "Epoch 3/30\n",
      "70923/70923 [==============================] - 7s 104us/step - loss: 1.4189 - acc: 0.4173 - val_loss: 1.3625 - val_acc: 0.4548\n",
      "Epoch 4/30\n",
      "70923/70923 [==============================] - 8s 111us/step - loss: 1.3160 - acc: 0.4459 - val_loss: 1.2574 - val_acc: 0.4780\n",
      "Epoch 5/30\n",
      "70923/70923 [==============================] - 8s 109us/step - loss: 1.2333 - acc: 0.5027 - val_loss: 1.2023 - val_acc: 0.5167\n",
      "Epoch 6/30\n",
      "70923/70923 [==============================] - 8s 113us/step - loss: 1.1813 - acc: 0.5281 - val_loss: 1.1534 - val_acc: 0.5410\n",
      "Epoch 7/30\n",
      "70923/70923 [==============================] - 8s 112us/step - loss: 1.1232 - acc: 0.5523 - val_loss: 1.0905 - val_acc: 0.5643\n",
      "Epoch 8/30\n",
      "70923/70923 [==============================] - 8s 108us/step - loss: 1.0427 - acc: 0.5858 - val_loss: 0.9890 - val_acc: 0.6111\n",
      "Epoch 9/30\n",
      "70923/70923 [==============================] - 7s 93us/step - loss: 0.9251 - acc: 0.6444 - val_loss: 0.8681 - val_acc: 0.6615\n",
      "Epoch 10/30\n",
      "70923/70923 [==============================] - 6s 83us/step - loss: 0.8263 - acc: 0.6754 - val_loss: 0.7910 - val_acc: 0.6881\n",
      "Epoch 11/30\n",
      "70923/70923 [==============================] - 6s 81us/step - loss: 0.7650 - acc: 0.6970 - val_loss: 0.7373 - val_acc: 0.7070\n",
      "Epoch 12/30\n",
      "70923/70923 [==============================] - 6s 88us/step - loss: 0.7217 - acc: 0.7131 - val_loss: 0.6972 - val_acc: 0.7244\n",
      "Epoch 13/30\n",
      "70923/70923 [==============================] - 6s 83us/step - loss: 0.6875 - acc: 0.7283 - val_loss: 0.6647 - val_acc: 0.7376\n",
      "Epoch 14/30\n",
      "70923/70923 [==============================] - 5s 73us/step - loss: 0.6572 - acc: 0.7415 - val_loss: 0.6349 - val_acc: 0.7491\n",
      "Epoch 15/30\n",
      "70923/70923 [==============================] - 5s 69us/step - loss: 0.6278 - acc: 0.7540 - val_loss: 0.6049 - val_acc: 0.7585\n",
      "Epoch 16/30\n",
      "70923/70923 [==============================] - 3s 42us/step - loss: 0.5971 - acc: 0.7684 - val_loss: 0.5743 - val_acc: 0.7781\n",
      "Epoch 17/30\n",
      "70923/70923 [==============================] - 3s 38us/step - loss: 0.5666 - acc: 0.7841 - val_loss: 0.5453 - val_acc: 0.7928\n",
      "Epoch 18/30\n",
      "70923/70923 [==============================] - 5s 69us/step - loss: 0.5377 - acc: 0.7983 - val_loss: 0.5165 - val_acc: 0.8064\n",
      "Epoch 19/30\n",
      "70923/70923 [==============================] - 5s 71us/step - loss: 0.5108 - acc: 0.8102 - val_loss: 0.4902 - val_acc: 0.8193\n",
      "Epoch 20/30\n",
      "70923/70923 [==============================] - 4s 61us/step - loss: 0.4841 - acc: 0.8231 - val_loss: 0.4640 - val_acc: 0.8286\n",
      "Epoch 21/30\n",
      "70923/70923 [==============================] - 5s 68us/step - loss: 0.4582 - acc: 0.8335 - val_loss: 0.4390 - val_acc: 0.8387\n",
      "Epoch 22/30\n",
      "70923/70923 [==============================] - 5s 73us/step - loss: 0.4339 - acc: 0.8446 - val_loss: 0.4150 - val_acc: 0.8501\n",
      "Epoch 23/30\n",
      "70923/70923 [==============================] - 5s 70us/step - loss: 0.4114 - acc: 0.8548 - val_loss: 0.3933 - val_acc: 0.8612\n",
      "Epoch 24/30\n",
      "70923/70923 [==============================] - 5s 64us/step - loss: 0.3909 - acc: 0.8630 - val_loss: 0.3749 - val_acc: 0.8683\n",
      "Epoch 25/30\n",
      "70923/70923 [==============================] - 5s 67us/step - loss: 0.3720 - acc: 0.8699 - val_loss: 0.3573 - val_acc: 0.8760\n",
      "Epoch 26/30\n",
      "70923/70923 [==============================] - 4s 56us/step - loss: 0.3536 - acc: 0.8771 - val_loss: 0.3382 - val_acc: 0.8850\n",
      "Epoch 27/30\n",
      "70923/70923 [==============================] - 4s 63us/step - loss: 0.3349 - acc: 0.8836 - val_loss: 0.3221 - val_acc: 0.8899\n",
      "Epoch 28/30\n",
      "70923/70923 [==============================] - 4s 53us/step - loss: 0.3174 - acc: 0.8907 - val_loss: 0.3049 - val_acc: 0.8980\n",
      "Epoch 29/30\n",
      "70923/70923 [==============================] - 3s 41us/step - loss: 0.3015 - acc: 0.8974 - val_loss: 0.2911 - val_acc: 0.9034\n",
      "Epoch 30/30\n",
      "70923/70923 [==============================] - 4s 63us/step - loss: 0.2877 - acc: 0.9029 - val_loss: 0.2791 - val_acc: 0.9041\n"
     ]
    }
   ],
   "source": [
    "train_history =model.fit(x=train_Features, \n",
    "                         y=train_Label, \n",
    "                         validation_split=0.1, \n",
    "                         epochs=30, \n",
    "                         batch_size=1500,verbose=1,callbacks=[early_stopping])"
   ]
  },
  {
   "cell_type": "code",
   "execution_count": 20,
   "metadata": {
    "collapsed": true
   },
   "outputs": [],
   "source": [
    "import matplotlib.pyplot as plt\n",
    "def show_train_history(train_history,train,validation):\n",
    "    plt.plot(train_history.history[train])\n",
    "    plt.plot(train_history.history[validation])\n",
    "    plt.title('Train History')\n",
    "    plt.ylabel(train)\n",
    "    plt.xlabel('Epoch')\n",
    "    plt.legend(['train', 'validation'], loc='upper left')\n",
    "    plt.show()"
   ]
  },
  {
   "cell_type": "code",
   "execution_count": 21,
   "metadata": {
    "collapsed": false
   },
   "outputs": [
    {
     "data": {
      "image/png": "[encoded data removed]",
      "text/plain": [
       "<matplotlib.figure.Figure at 0x7f308034c748>"
      ]
     },
     "metadata": {},
     "output_type": "display_data"
    }
   ],
   "source": [
    "show_train_history(train_history,'acc','val_acc')"
   ]
  },
  {
   "cell_type": "code",
   "execution_count": 22,
   "metadata": {
    "collapsed": false
   },
   "outputs": [
    {
     "data": {
      "image/png": "[encoded data removed]",
      "text/plain": [
       "<matplotlib.figure.Figure at 0x7f3081458860>"
      ]
     },
     "metadata": {},
     "output_type": "display_data"
    }
   ],
   "source": [
    "show_train_history(train_history,'loss','val_loss')"
   ]
  },
  {
   "cell_type": "code",
   "execution_count": 23,
   "metadata": {
    "collapsed": false
   },
   "outputs": [
    {
     "name": "stdout",
     "output_type": "stream",
     "text": [
      "19702/19702 [==============================] - 5s 241us/step\n"
     ]
    }
   ],
   "source": [
    "scores = model.evaluate(x=test_Features, \n",
    "                        y=test_Label)"
   ]
  },
  {
   "cell_type": "code",
   "execution_count": 24,
   "metadata": {
    "collapsed": false
   },
   "outputs": [
    {
     "data": {
      "text/plain": [
       "0.9039691402009146"
      ]
     },
     "execution_count": 24,
     "metadata": {},
     "output_type": "execute_result"
    }
   ],
   "source": [
    "scores[1]"
   ]
  }
 ],
 "metadata": {
  "anaconda-cloud": {},
  "kernelspec": {
   "display_name": "Python [default]",
   "language": "python",
   "name": "python3"
  },
  "language_info": {
   "codemirror_mode": {
    "name": "ipython",
    "version": 3
   },
   "file_extension": ".py",
   "mimetype": "text/x-python",
   "name": "python",
   "nbconvert_exporter": "python",
   "pygments_lexer": "ipython3",
   "version": "3.5.2"
  }
 },
 "nbformat": 4,
 "nbformat_minor": 1
}
