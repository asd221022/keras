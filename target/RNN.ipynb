{
 "cells": [
  {
   "cell_type": "code",
   "execution_count": 25,
   "metadata": {
    "collapsed": false
   },
   "outputs": [],
   "source": [
    "import numpy \n",
    "import pandas as pd\n",
    "from sklearn.preprocessing import StandardScaler\n",
    "from sklearn.model_selection import train_test_split\n",
    "numpy.random.seed(10)"
   ]
  },
  {
   "cell_type": "code",
   "execution_count": 26,
   "metadata": {
    "collapsed": false
   },
   "outputs": [],
   "source": [
    "data = pd.read_csv(\"data/target.csv\")"
   ]
  },
  {
   "cell_type": "code",
   "execution_count": 27,
   "metadata": {
    "collapsed": true
   },
   "outputs": [],
   "source": [
    "data=data.drop(['Unnamed: 7'], axis=1)\n",
    "data=data.drop(['customer_id'], axis=1)"
   ]
  },
  {
   "cell_type": "code",
   "execution_count": 28,
   "metadata": {
    "collapsed": true
   },
   "outputs": [],
   "source": [
    "data = data.dropna(how='any')"
   ]
  },
  {
   "cell_type": "code",
   "execution_count": 29,
   "metadata": {
    "collapsed": true
   },
   "outputs": [],
   "source": [
    "data['res_type']= data['res_type'].map({'CN':0, 'CO': 1, 'RE': 2, 'TO': 3,'SI': 4}).astype(int)"
   ]
  },
  {
   "cell_type": "code",
   "execution_count": 30,
   "metadata": {
    "collapsed": true
   },
   "outputs": [],
   "source": [
    "data=pd.get_dummies(data=data,columns=['geo_group'])"
   ]
  },
  {
   "cell_type": "code",
   "execution_count": 31,
   "metadata": {
    "collapsed": true
   },
   "outputs": [],
   "source": [
    "X = data.drop(['res_type'], axis=1).values.astype('float64')"
   ]
  },
  {
   "cell_type": "code",
   "execution_count": 32,
   "metadata": {
    "collapsed": true
   },
   "outputs": [],
   "source": [
    "Y = data['res_type'].values.astype('int64')"
   ]
  },
  {
   "cell_type": "code",
   "execution_count": 33,
   "metadata": {
    "collapsed": false
   },
   "outputs": [
    {
     "data": {
      "text/plain": [
       "78804"
      ]
     },
     "execution_count": 33,
     "metadata": {},
     "output_type": "execute_result"
    }
   ],
   "source": [
    "X = StandardScaler().fit_transform(X)\n",
    "train_Features, test_Features, train_Label, test_Label = train_test_split(X, Y, test_size=0.2, random_state=True) \n",
    "len(train_Features)"
   ]
  },
  {
   "cell_type": "code",
   "execution_count": 34,
   "metadata": {
    "collapsed": true
   },
   "outputs": [],
   "source": [
    "train_Features = train_Features.reshape((train_Features.shape[0], train_Features.shape[1], 1))"
   ]
  },
  {
   "cell_type": "code",
   "execution_count": 35,
   "metadata": {
    "collapsed": true
   },
   "outputs": [],
   "source": [
    "test_Features = test_Features.reshape((test_Features.shape[0], test_Features.shape[1], 1))"
   ]
  },
  {
   "cell_type": "code",
   "execution_count": 36,
   "metadata": {
    "collapsed": false
   },
   "outputs": [],
   "source": [
    "from keras.utils import np_utils\n",
    "train_Label = train_Label.reshape(train_Label.shape[0], 1)\n",
    "test_Label= test_Label.reshape(test_Label.shape[0], 1)\n",
    "train_Label=np_utils.to_categorical(train_Label)\n",
    "test_Label=np_utils.to_categorical(test_Label)"
   ]
  },
  {
   "cell_type": "code",
   "execution_count": 37,
   "metadata": {
    "collapsed": false
   },
   "outputs": [],
   "source": [
    "from keras.models import Sequential\n",
    "from keras.layers.core import Dense, Dropout, Activation\n",
    "from keras.layers.embeddings import Embedding\n",
    "from keras.layers.recurrent import LSTM\n",
    "from keras.callbacks import EarlyStopping\n",
    "early_stopping = EarlyStopping(monitor='val_loss', patience=2)"
   ]
  },
  {
   "cell_type": "code",
   "execution_count": 38,
   "metadata": {
    "collapsed": true
   },
   "outputs": [],
   "source": [
    "model = Sequential()"
   ]
  },
  {
   "cell_type": "code",
   "execution_count": 39,
   "metadata": {
    "collapsed": false
   },
   "outputs": [],
   "source": [
    "model.add(LSTM(units=16, input_shape=(8,1)))"
   ]
  },
  {
   "cell_type": "code",
   "execution_count": 40,
   "metadata": {
    "collapsed": true
   },
   "outputs": [],
   "source": [
    "model.add(Dense(5, activation = \"softmax\"))"
   ]
  },
  {
   "cell_type": "code",
   "execution_count": 41,
   "metadata": {
    "collapsed": false
   },
   "outputs": [
    {
     "name": "stdout",
     "output_type": "stream",
     "text": [
      "_________________________________________________________________\n",
      "Layer (type)                 Output Shape              Param #   \n",
      "=================================================================\n",
      "lstm_2 (LSTM)                (None, 16)                1152      \n",
      "_________________________________________________________________\n",
      "dense_2 (Dense)              (None, 5)                 85        \n",
      "=================================================================\n",
      "Total params: 1,237\n",
      "Trainable params: 1,237\n",
      "Non-trainable params: 0\n",
      "_________________________________________________________________\n"
     ]
    }
   ],
   "source": [
    "model.summary()"
   ]
  },
  {
   "cell_type": "code",
   "execution_count": 42,
   "metadata": {
    "collapsed": false
   },
   "outputs": [],
   "source": [
    "model.compile(loss='categorical_crossentropy', \n",
    "              optimizer='adam', metrics=['accuracy'])"
   ]
  },
  {
   "cell_type": "code",
   "execution_count": 43,
   "metadata": {
    "collapsed": false
   },
   "outputs": [
    {
     "name": "stdout",
     "output_type": "stream",
     "text": [
      "Train on 63043 samples, validate on 15761 samples\n",
      "Epoch 1/60\n",
      "63043/63043 [==============================] - 10s 152us/step - loss: 1.5611 - acc: 0.3941 - val_loss: 1.4950 - val_acc: 0.4253\n",
      "Epoch 2/60\n",
      "63043/63043 [==============================] - 5s 83us/step - loss: 1.3959 - acc: 0.4415 - val_loss: 1.3127 - val_acc: 0.4868\n",
      "Epoch 3/60\n",
      "63043/63043 [==============================] - 6s 93us/step - loss: 1.2662 - acc: 0.5068 - val_loss: 1.2346 - val_acc: 0.5007\n",
      "Epoch 4/60\n",
      "63043/63043 [==============================] - 6s 96us/step - loss: 1.1990 - acc: 0.5206 - val_loss: 1.1869 - val_acc: 0.5253\n",
      "Epoch 5/60\n",
      "63043/63043 [==============================] - 6s 92us/step - loss: 1.1563 - acc: 0.5415 - val_loss: 1.1491 - val_acc: 0.5463\n",
      "Epoch 6/60\n",
      "63043/63043 [==============================] - 6s 96us/step - loss: 1.1171 - acc: 0.5592 - val_loss: 1.1091 - val_acc: 0.5606\n",
      "Epoch 7/60\n",
      "63043/63043 [==============================] - 6s 96us/step - loss: 1.0738 - acc: 0.5767 - val_loss: 1.0619 - val_acc: 0.5821\n",
      "Epoch 8/60\n",
      "63043/63043 [==============================] - 6s 103us/step - loss: 1.0191 - acc: 0.6030 - val_loss: 0.9979 - val_acc: 0.6134\n",
      "Epoch 9/60\n",
      "63043/63043 [==============================] - 4s 60us/step - loss: 0.9378 - acc: 0.6449 - val_loss: 0.8937 - val_acc: 0.6540\n",
      "Epoch 10/60\n",
      "63043/63043 [==============================] - 4s 59us/step - loss: 0.8341 - acc: 0.6663 - val_loss: 0.8003 - val_acc: 0.6686\n",
      "Epoch 11/60\n",
      "63043/63043 [==============================] - 3s 45us/step - loss: 0.7657 - acc: 0.6761 - val_loss: 0.7454 - val_acc: 0.6809\n",
      "Epoch 12/60\n",
      "63043/63043 [==============================] - 3s 47us/step - loss: 0.7169 - acc: 0.6911 - val_loss: 0.6993 - val_acc: 0.6984\n",
      "Epoch 13/60\n",
      "63043/63043 [==============================] - 3s 50us/step - loss: 0.6747 - acc: 0.7216 - val_loss: 0.6580 - val_acc: 0.7329\n",
      "Epoch 14/60\n",
      "63043/63043 [==============================] - 3s 48us/step - loss: 0.6333 - acc: 0.7433 - val_loss: 0.6163 - val_acc: 0.7553\n",
      "Epoch 15/60\n",
      "63043/63043 [==============================] - 3s 48us/step - loss: 0.5914 - acc: 0.7654 - val_loss: 0.5740 - val_acc: 0.7770\n",
      "Epoch 16/60\n",
      "63043/63043 [==============================] - 3s 46us/step - loss: 0.5472 - acc: 0.7839 - val_loss: 0.5313 - val_acc: 0.7928\n",
      "Epoch 17/60\n",
      "63043/63043 [==============================] - 3s 47us/step - loss: 0.5078 - acc: 0.7989 - val_loss: 0.4937 - val_acc: 0.8069\n",
      "Epoch 18/60\n",
      "63043/63043 [==============================] - 3s 44us/step - loss: 0.4721 - acc: 0.8150 - val_loss: 0.4597 - val_acc: 0.8182\n",
      "Epoch 19/60\n",
      "63043/63043 [==============================] - 3s 46us/step - loss: 0.4421 - acc: 0.8306 - val_loss: 0.4309 - val_acc: 0.8312\n",
      "Epoch 20/60\n",
      "63043/63043 [==============================] - 3s 46us/step - loss: 0.4147 - acc: 0.8443 - val_loss: 0.4079 - val_acc: 0.8400\n",
      "Epoch 21/60\n",
      "63043/63043 [==============================] - 3s 47us/step - loss: 0.3909 - acc: 0.8540 - val_loss: 0.3809 - val_acc: 0.8546\n",
      "Epoch 22/60\n",
      "63043/63043 [==============================] - 3s 50us/step - loss: 0.3687 - acc: 0.8618 - val_loss: 0.3622 - val_acc: 0.8591\n",
      "Epoch 23/60\n",
      "63043/63043 [==============================] - 3s 48us/step - loss: 0.3478 - acc: 0.8703 - val_loss: 0.3428 - val_acc: 0.8723\n",
      "Epoch 24/60\n",
      "63043/63043 [==============================] - 3s 46us/step - loss: 0.3284 - acc: 0.8782 - val_loss: 0.3187 - val_acc: 0.8810\n",
      "Epoch 25/60\n",
      "63043/63043 [==============================] - 5s 82us/step - loss: 0.3111 - acc: 0.8845 - val_loss: 0.3030 - val_acc: 0.8892\n",
      "Epoch 26/60\n",
      "63043/63043 [==============================] - 7s 112us/step - loss: 0.2930 - acc: 0.8919 - val_loss: 0.2874 - val_acc: 0.8947\n",
      "Epoch 27/60\n",
      "63043/63043 [==============================] - 6s 96us/step - loss: 0.2773 - acc: 0.8985 - val_loss: 0.2738 - val_acc: 0.8996\n",
      "Epoch 28/60\n",
      "63043/63043 [==============================] - 6s 94us/step - loss: 0.2636 - acc: 0.9033 - val_loss: 0.2623 - val_acc: 0.9030\n",
      "Epoch 29/60\n",
      "63043/63043 [==============================] - 6s 102us/step - loss: 0.2516 - acc: 0.9083 - val_loss: 0.2459 - val_acc: 0.9109\n",
      "Epoch 30/60\n",
      "63043/63043 [==============================] - 6s 98us/step - loss: 0.2386 - acc: 0.9133 - val_loss: 0.2336 - val_acc: 0.9175\n",
      "Epoch 31/60\n",
      "63043/63043 [==============================] - 7s 107us/step - loss: 0.2256 - acc: 0.9186 - val_loss: 0.2240 - val_acc: 0.9176\n",
      "Epoch 32/60\n",
      "63043/63043 [==============================] - 7s 105us/step - loss: 0.2140 - acc: 0.9232 - val_loss: 0.2078 - val_acc: 0.9262\n",
      "Epoch 33/60\n",
      "63043/63043 [==============================] - 7s 108us/step - loss: 0.2006 - acc: 0.9291 - val_loss: 0.1956 - val_acc: 0.9300\n",
      "Epoch 34/60\n",
      "63043/63043 [==============================] - 7s 110us/step - loss: 0.1886 - acc: 0.9348 - val_loss: 0.1855 - val_acc: 0.9343\n",
      "Epoch 35/60\n",
      "63043/63043 [==============================] - 6s 97us/step - loss: 0.1766 - acc: 0.9395 - val_loss: 0.1719 - val_acc: 0.9424\n",
      "Epoch 36/60\n",
      "63043/63043 [==============================] - 6s 99us/step - loss: 0.1655 - acc: 0.9448 - val_loss: 0.1700 - val_acc: 0.9383\n",
      "Epoch 37/60\n",
      "63043/63043 [==============================] - 6s 101us/step - loss: 0.1595 - acc: 0.9458 - val_loss: 0.1571 - val_acc: 0.9489\n",
      "Epoch 38/60\n",
      "63043/63043 [==============================] - 6s 103us/step - loss: 0.1483 - acc: 0.9503 - val_loss: 0.1435 - val_acc: 0.9538\n",
      "Epoch 39/60\n",
      "63043/63043 [==============================] - 6s 102us/step - loss: 0.1376 - acc: 0.9557 - val_loss: 0.1396 - val_acc: 0.9534\n",
      "Epoch 40/60\n",
      "63043/63043 [==============================] - 6s 98us/step - loss: 0.1335 - acc: 0.9569 - val_loss: 0.1293 - val_acc: 0.9588\n",
      "Epoch 41/60\n",
      "63043/63043 [==============================] - 6s 102us/step - loss: 0.1248 - acc: 0.9598 - val_loss: 0.1218 - val_acc: 0.9626\n",
      "Epoch 42/60\n",
      "63043/63043 [==============================] - 6s 101us/step - loss: 0.1178 - acc: 0.9633 - val_loss: 0.1170 - val_acc: 0.9626\n",
      "Epoch 43/60\n",
      "63043/63043 [==============================] - 7s 113us/step - loss: 0.1145 - acc: 0.9636 - val_loss: 0.1116 - val_acc: 0.9648\n",
      "Epoch 44/60\n",
      "63043/63043 [==============================] - 8s 126us/step - loss: 0.1101 - acc: 0.9649 - val_loss: 0.1175 - val_acc: 0.9603\n",
      "Epoch 45/60\n",
      "63043/63043 [==============================] - 6s 97us/step - loss: 0.1072 - acc: 0.9658 - val_loss: 0.1053 - val_acc: 0.9657\n",
      "Epoch 46/60\n",
      "63043/63043 [==============================] - 6s 97us/step - loss: 0.1032 - acc: 0.9675 - val_loss: 0.1075 - val_acc: 0.9634\n",
      "Epoch 47/60\n",
      "63043/63043 [==============================] - 6s 95us/step - loss: 0.0993 - acc: 0.9691 - val_loss: 0.0990 - val_acc: 0.9680\n",
      "Epoch 48/60\n",
      "63043/63043 [==============================] - 6s 96us/step - loss: 0.0943 - acc: 0.9716 - val_loss: 0.0943 - val_acc: 0.9699\n",
      "Epoch 49/60\n",
      "63043/63043 [==============================] - 8s 122us/step - loss: 0.0914 - acc: 0.9722 - val_loss: 0.0930 - val_acc: 0.9702\n",
      "Epoch 50/60\n",
      "63043/63043 [==============================] - 8s 128us/step - loss: 0.0898 - acc: 0.9720 - val_loss: 0.0969 - val_acc: 0.9662\n",
      "Epoch 51/60\n",
      "63043/63043 [==============================] - 7s 104us/step - loss: 0.0887 - acc: 0.9714 - val_loss: 0.0903 - val_acc: 0.9689\n",
      "Epoch 52/60\n",
      "63043/63043 [==============================] - 6s 102us/step - loss: 0.0866 - acc: 0.9721 - val_loss: 0.0853 - val_acc: 0.9725\n",
      "Epoch 53/60\n",
      "63043/63043 [==============================] - 6s 95us/step - loss: 0.0825 - acc: 0.9744 - val_loss: 0.0957 - val_acc: 0.9659\n",
      "Epoch 54/60\n",
      "63043/63043 [==============================] - 6s 99us/step - loss: 0.0855 - acc: 0.9717 - val_loss: 0.0833 - val_acc: 0.9718\n",
      "Epoch 55/60\n",
      "63043/63043 [==============================] - 6s 100us/step - loss: 0.0795 - acc: 0.9745 - val_loss: 0.0892 - val_acc: 0.9700\n",
      "Epoch 56/60\n",
      "63043/63043 [==============================] - 6s 101us/step - loss: 0.0818 - acc: 0.9737 - val_loss: 0.0820 - val_acc: 0.9713\n",
      "Epoch 57/60\n",
      "63043/63043 [==============================] - 8s 120us/step - loss: 0.0769 - acc: 0.9745 - val_loss: 0.0792 - val_acc: 0.9735\n",
      "Epoch 58/60\n",
      "63043/63043 [==============================] - 8s 132us/step - loss: 0.0753 - acc: 0.9749 - val_loss: 0.0918 - val_acc: 0.9697\n",
      "Epoch 59/60\n",
      "63043/63043 [==============================] - 8s 126us/step - loss: 0.0962 - acc: 0.9677 - val_loss: 0.0795 - val_acc: 0.9713\n"
     ]
    }
   ],
   "source": [
    "train_history =model.fit(x=train_Features, \n",
    "                         y=train_Label, \n",
    "                         validation_split=0.2, \n",
    "                         epochs=60, \n",
    "                         batch_size=1500,verbose=1,callbacks=[early_stopping])"
   ]
  },
  {
   "cell_type": "code",
   "execution_count": 44,
   "metadata": {
    "collapsed": true
   },
   "outputs": [],
   "source": [
    "import matplotlib.pyplot as plt\n",
    "def show_train_history(train_history,train,validation):\n",
    "    plt.plot(train_history.history[train])\n",
    "    plt.plot(train_history.history[validation])\n",
    "    plt.title('Train History')\n",
    "    plt.ylabel(train)\n",
    "    plt.xlabel('Epoch')\n",
    "    plt.legend(['train', 'validation'], loc='upper left')\n",
    "    plt.show()"
   ]
  },
  {
   "cell_type": "code",
   "execution_count": 45,
   "metadata": {
    "collapsed": false
   },
   "outputs": [
    {
     "data": {
      "image/png": "[encoded data removed]",
      "text/plain": [
       "<matplotlib.figure.Figure at 0x7f21ad033400>"
      ]
     },
     "metadata": {},
     "output_type": "display_data"
    }
   ],
   "source": [
    "show_train_history(train_history,'acc','val_acc')"
   ]
  },
  {
   "cell_type": "code",
   "execution_count": 46,
   "metadata": {
    "collapsed": false
   },
   "outputs": [
    {
     "data": {
      "image/png": "[encoded data removed]",
      "text/plain": [
       "<matplotlib.figure.Figure at 0x7f21acfdc0b8>"
      ]
     },
     "metadata": {},
     "output_type": "display_data"
    }
   ],
   "source": [
    "show_train_history(train_history,'loss','val_loss')"
   ]
  },
  {
   "cell_type": "code",
   "execution_count": 47,
   "metadata": {
    "collapsed": false
   },
   "outputs": [
    {
     "name": "stdout",
     "output_type": "stream",
     "text": [
      "19702/19702 [==============================] - 3s 146us/step\n"
     ]
    }
   ],
   "source": [
    "scores = model.evaluate(x=test_Features, \n",
    "                        y=test_Label)"
   ]
  },
  {
   "cell_type": "code",
   "execution_count": 48,
   "metadata": {
    "collapsed": false
   },
   "outputs": [
    {
     "data": {
      "text/plain": [
       "0.9716272459467248"
      ]
     },
     "execution_count": 48,
     "metadata": {},
     "output_type": "execute_result"
    }
   ],
   "source": [
    "scores[1]"
   ]
  }
 ],
 "metadata": {
  "anaconda-cloud": {},
  "kernelspec": {
   "display_name": "Python [default]",
   "language": "python",
   "name": "python3"
  },
  "language_info": {
   "codemirror_mode": {
    "name": "ipython",
    "version": 3
   },
   "file_extension": ".py",
   "mimetype": "text/x-python",
   "name": "python",
   "nbconvert_exporter": "python",
   "pygments_lexer": "ipython3",
   "version": "3.5.2"
  }
 },
 "nbformat": 4,
 "nbformat_minor": 1
}
