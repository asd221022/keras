{
 "cells": [
  {
   "cell_type": "code",
   "execution_count": 1,
   "metadata": {
    "collapsed": false,
    "slideshow": {
     "slide_type": "-"
    }
   },
   "outputs": [],
   "source": [
    "import numpy\n",
    "import pandas as pd\n",
    "from sklearn.preprocessing import StandardScaler\n",
    "from sklearn.model_selection import train_test_split\n",
    "numpy.random.seed(10)"
   ]
  },
  {
   "cell_type": "code",
   "execution_count": 2,
   "metadata": {
    "collapsed": true
   },
   "outputs": [],
   "source": [
    "data = pd.read_csv(\"target.csv\")"
   ]
  },
  {
   "cell_type": "code",
   "execution_count": 3,
   "metadata": {
    "collapsed": false
   },
   "outputs": [
    {
     "data": {
      "text/html": [
       "<div>\n",
       "<table border=\"1\" class=\"dataframe\">\n",
       "  <thead>\n",
       "    <tr style=\"text-align: right;\">\n",
       "      <th></th>\n",
       "      <th>customer_id</th>\n",
       "      <th>card_tenure</th>\n",
       "      <th>risk_score</th>\n",
       "      <th>num_promoted</th>\n",
       "      <th>avg_bal</th>\n",
       "      <th>geo_group</th>\n",
       "      <th>res_type</th>\n",
       "      <th>Unnamed: 7</th>\n",
       "    </tr>\n",
       "  </thead>\n",
       "  <tbody>\n",
       "    <tr>\n",
       "      <th>0</th>\n",
       "      <td>SB0000057824</td>\n",
       "      <td>198.0</td>\n",
       "      <td>755</td>\n",
       "      <td>0</td>\n",
       "      <td>3818.0</td>\n",
       "      <td>E</td>\n",
       "      <td>NaN</td>\n",
       "      <td>NaN</td>\n",
       "    </tr>\n",
       "    <tr>\n",
       "      <th>1</th>\n",
       "      <td>SB0000030501</td>\n",
       "      <td>206.0</td>\n",
       "      <td>647</td>\n",
       "      <td>0</td>\n",
       "      <td>3357.0</td>\n",
       "      <td>SE</td>\n",
       "      <td>CN</td>\n",
       "      <td>NaN</td>\n",
       "    </tr>\n",
       "  </tbody>\n",
       "</table>\n",
       "</div>"
      ],
      "text/plain": [
       "    customer_id  card_tenure  risk_score  num_promoted  avg_bal geo_group  \\\n",
       "0  SB0000057824        198.0         755             0   3818.0         E   \n",
       "1  SB0000030501        206.0         647             0   3357.0        SE   \n",
       "\n",
       "  res_type  Unnamed: 7  \n",
       "0      NaN         NaN  \n",
       "1       CN         NaN  "
      ]
     },
     "execution_count": 3,
     "metadata": {},
     "output_type": "execute_result"
    }
   ],
   "source": [
    "data[:2]"
   ]
  },
  {
   "cell_type": "code",
   "execution_count": 4,
   "metadata": {
    "collapsed": true
   },
   "outputs": [],
   "source": [
    "data=data.drop(['Unnamed: 7'], axis=1)\n",
    "data=data.drop(['customer_id'], axis=1)"
   ]
  },
  {
   "cell_type": "code",
   "execution_count": 5,
   "metadata": {
    "collapsed": false
   },
   "outputs": [],
   "source": [
    "data = data.dropna(how='any')"
   ]
  },
  {
   "cell_type": "code",
   "execution_count": 6,
   "metadata": {
    "collapsed": false
   },
   "outputs": [],
   "source": [
    "data['res_type']= data['res_type'].map({'CN':0, 'CO': 1, 'RE': 2, 'TO': 3,'SI': 4}).astype(int) "
   ]
  },
  {
   "cell_type": "code",
   "execution_count": 7,
   "metadata": {
    "collapsed": true
   },
   "outputs": [],
   "source": [
    "data=pd.get_dummies(data=data,columns=['geo_group'])"
   ]
  },
  {
   "cell_type": "code",
   "execution_count": 8,
   "metadata": {
    "collapsed": false
   },
   "outputs": [
    {
     "data": {
      "text/html": [
       "<div>\n",
       "<table border=\"1\" class=\"dataframe\">\n",
       "  <thead>\n",
       "    <tr style=\"text-align: right;\">\n",
       "      <th></th>\n",
       "      <th>card_tenure</th>\n",
       "      <th>risk_score</th>\n",
       "      <th>num_promoted</th>\n",
       "      <th>avg_bal</th>\n",
       "      <th>res_type</th>\n",
       "      <th>geo_group_E</th>\n",
       "      <th>geo_group_N</th>\n",
       "      <th>geo_group_SE</th>\n",
       "      <th>geo_group_W</th>\n",
       "    </tr>\n",
       "  </thead>\n",
       "  <tbody>\n",
       "    <tr>\n",
       "      <th>1</th>\n",
       "      <td>206.0</td>\n",
       "      <td>647</td>\n",
       "      <td>0</td>\n",
       "      <td>3357.0</td>\n",
       "      <td>0</td>\n",
       "      <td>0.0</td>\n",
       "      <td>0.0</td>\n",
       "      <td>1.0</td>\n",
       "      <td>0.0</td>\n",
       "    </tr>\n",
       "    <tr>\n",
       "      <th>2</th>\n",
       "      <td>107.0</td>\n",
       "      <td>629</td>\n",
       "      <td>0</td>\n",
       "      <td>3728.0</td>\n",
       "      <td>0</td>\n",
       "      <td>0.0</td>\n",
       "      <td>1.0</td>\n",
       "      <td>0.0</td>\n",
       "      <td>0.0</td>\n",
       "    </tr>\n",
       "  </tbody>\n",
       "</table>\n",
       "</div>"
      ],
      "text/plain": [
       "   card_tenure  risk_score  num_promoted  avg_bal  res_type  geo_group_E  \\\n",
       "1        206.0         647             0   3357.0         0          0.0   \n",
       "2        107.0         629             0   3728.0         0          0.0   \n",
       "\n",
       "   geo_group_N  geo_group_SE  geo_group_W  \n",
       "1          0.0           1.0          0.0  \n",
       "2          1.0           0.0          0.0  "
      ]
     },
     "execution_count": 8,
     "metadata": {},
     "output_type": "execute_result"
    }
   ],
   "source": [
    "data[:2]"
   ]
  },
  {
   "cell_type": "code",
   "execution_count": 9,
   "metadata": {
    "collapsed": false
   },
   "outputs": [],
   "source": [
    "X = data.drop(['res_type'], axis=1).values.astype('float64')"
   ]
  },
  {
   "cell_type": "code",
   "execution_count": 10,
   "metadata": {
    "collapsed": true
   },
   "outputs": [],
   "source": [
    "Y = data['res_type'].values.astype('int64')"
   ]
  },
  {
   "cell_type": "code",
   "execution_count": 11,
   "metadata": {
    "collapsed": false
   },
   "outputs": [
    {
     "data": {
      "text/plain": [
       "78804"
      ]
     },
     "execution_count": 11,
     "metadata": {},
     "output_type": "execute_result"
    }
   ],
   "source": [
    "X = StandardScaler().fit_transform(X)\n",
    "train_Features, test_Features, train_Label, test_Label = train_test_split(X, Y, test_size=0.2, random_state=True) \n",
    "len(train_Features)"
   ]
  },
  {
   "cell_type": "code",
   "execution_count": 12,
   "metadata": {
    "collapsed": false
   },
   "outputs": [
    {
     "name": "stderr",
     "output_type": "stream",
     "text": [
      "Using TensorFlow backend.\n"
     ]
    }
   ],
   "source": [
    "from keras.utils import np_utils\n",
    "train_Label=np_utils.to_categorical(train_Label)\n",
    "test_Label=np_utils.to_categorical(test_Label)"
   ]
  },
  {
   "cell_type": "code",
   "execution_count": 13,
   "metadata": {
    "collapsed": false
   },
   "outputs": [
    {
     "data": {
      "text/plain": [
       "(78804, 8)"
      ]
     },
     "execution_count": 13,
     "metadata": {},
     "output_type": "execute_result"
    }
   ],
   "source": [
    "train_Features.shape"
   ]
  },
  {
   "cell_type": "code",
   "execution_count": 14,
   "metadata": {
    "collapsed": false
   },
   "outputs": [
    {
     "data": {
      "text/plain": [
       "(78804, 5)"
      ]
     },
     "execution_count": 14,
     "metadata": {},
     "output_type": "execute_result"
    }
   ],
   "source": [
    "train_Label.shape"
   ]
  },
  {
   "cell_type": "code",
   "execution_count": 15,
   "metadata": {
    "collapsed": false
   },
   "outputs": [],
   "source": [
    "from keras.models import Sequential\n",
    "from keras.layers import Dense,Dropout\n",
    "from keras.callbacks import EarlyStopping\n",
    "early_stopping = EarlyStopping(monitor='val_loss', patience=2)"
   ]
  },
  {
   "cell_type": "code",
   "execution_count": 16,
   "metadata": {
    "collapsed": true
   },
   "outputs": [],
   "source": [
    "model = Sequential()"
   ]
  },
  {
   "cell_type": "code",
   "execution_count": 17,
   "metadata": {
    "collapsed": true
   },
   "outputs": [],
   "source": [
    "model.add(Dense(units=24,   input_dim=8,\n",
    "                kernel_initializer='uniform', \n",
    "                activation='relu'))"
   ]
  },
  {
   "cell_type": "code",
   "execution_count": 18,
   "metadata": {
    "collapsed": true
   },
   "outputs": [],
   "source": [
    "model.add(Dense(units=5, \n",
    "                kernel_initializer='uniform',\n",
    "                activation='softmax'))"
   ]
  },
  {
   "cell_type": "code",
   "execution_count": 19,
   "metadata": {
    "collapsed": false
   },
   "outputs": [
    {
     "name": "stdout",
     "output_type": "stream",
     "text": [
      "_________________________________________________________________\n",
      "Layer (type)                 Output Shape              Param #   \n",
      "=================================================================\n",
      "dense_1 (Dense)              (None, 24)                216       \n",
      "_________________________________________________________________\n",
      "dense_2 (Dense)              (None, 5)                 125       \n",
      "=================================================================\n",
      "Total params: 341\n",
      "Trainable params: 341\n",
      "Non-trainable params: 0\n",
      "_________________________________________________________________\n"
     ]
    }
   ],
   "source": [
    "model.summary()"
   ]
  },
  {
   "cell_type": "code",
   "execution_count": 20,
   "metadata": {
    "collapsed": false
   },
   "outputs": [],
   "source": [
    "model.compile(loss='categorical_crossentropy', \n",
    "              optimizer='adam', metrics=['accuracy'])"
   ]
  },
  {
   "cell_type": "code",
   "execution_count": 21,
   "metadata": {
    "collapsed": false
   },
   "outputs": [
    {
     "name": "stdout",
     "output_type": "stream",
     "text": [
      "Train on 70923 samples, validate on 7881 samples\n",
      "Epoch 1/30\n",
      "70923/70923 [==============================] - 2s 27us/step - loss: 1.5081 - acc: 0.5464 - val_loss: 1.3352 - val_acc: 0.5704\n",
      "Epoch 2/30\n",
      "70923/70923 [==============================] - 1s 13us/step - loss: 1.1372 - acc: 0.6127 - val_loss: 0.9774 - val_acc: 0.6372\n",
      "Epoch 3/30\n",
      "70923/70923 [==============================] - 1s 14us/step - loss: 0.8769 - acc: 0.6688 - val_loss: 0.7952 - val_acc: 0.6898\n",
      "Epoch 4/30\n",
      "70923/70923 [==============================] - 1s 13us/step - loss: 0.7292 - acc: 0.7108 - val_loss: 0.6694 - val_acc: 0.7313\n",
      "Epoch 5/30\n",
      "70923/70923 [==============================] - 1s 13us/step - loss: 0.6162 - acc: 0.7677 - val_loss: 0.5675 - val_acc: 0.7941\n",
      "Epoch 6/30\n",
      "70923/70923 [==============================] - 1s 13us/step - loss: 0.5245 - acc: 0.8131 - val_loss: 0.4851 - val_acc: 0.8347\n",
      "Epoch 7/30\n",
      "70923/70923 [==============================] - 1s 13us/step - loss: 0.4510 - acc: 0.8442 - val_loss: 0.4199 - val_acc: 0.8675\n",
      "Epoch 8/30\n",
      "70923/70923 [==============================] - 1s 14us/step - loss: 0.3932 - acc: 0.8741 - val_loss: 0.3683 - val_acc: 0.8943\n",
      "Epoch 9/30\n",
      "70923/70923 [==============================] - 1s 12us/step - loss: 0.3471 - acc: 0.8989 - val_loss: 0.3268 - val_acc: 0.9189\n",
      "Epoch 10/30\n",
      "70923/70923 [==============================] - 1s 11us/step - loss: 0.3097 - acc: 0.9199 - val_loss: 0.2934 - val_acc: 0.9269\n",
      "Epoch 11/30\n",
      "70923/70923 [==============================] - 1s 12us/step - loss: 0.2790 - acc: 0.9347 - val_loss: 0.2649 - val_acc: 0.9472\n",
      "Epoch 12/30\n",
      "70923/70923 [==============================] - 1s 13us/step - loss: 0.2534 - acc: 0.9461 - val_loss: 0.2413 - val_acc: 0.9489\n",
      "Epoch 13/30\n",
      "70923/70923 [==============================] - 1s 9us/step - loss: 0.2318 - acc: 0.9560 - val_loss: 0.2213 - val_acc: 0.9604\n",
      "Epoch 14/30\n",
      "70923/70923 [==============================] - 0s 4us/step - loss: 0.2133 - acc: 0.9618 - val_loss: 0.2041 - val_acc: 0.9694\n",
      "Epoch 15/30\n",
      "70923/70923 [==============================] - 0s 4us/step - loss: 0.1972 - acc: 0.9685 - val_loss: 0.1891 - val_acc: 0.9711\n",
      "Epoch 16/30\n",
      "70923/70923 [==============================] - 0s 4us/step - loss: 0.1832 - acc: 0.9730 - val_loss: 0.1760 - val_acc: 0.9792\n",
      "Epoch 17/30\n",
      "70923/70923 [==============================] - 0s 4us/step - loss: 0.1709 - acc: 0.9756 - val_loss: 0.1647 - val_acc: 0.9802\n",
      "Epoch 18/30\n",
      "70923/70923 [==============================] - 0s 5us/step - loss: 0.1601 - acc: 0.9788 - val_loss: 0.1545 - val_acc: 0.9819\n",
      "Epoch 19/30\n",
      "70923/70923 [==============================] - 0s 4us/step - loss: 0.1505 - acc: 0.9810 - val_loss: 0.1456 - val_acc: 0.9868\n",
      "Epoch 20/30\n",
      "70923/70923 [==============================] - 0s 4us/step - loss: 0.1421 - acc: 0.9839 - val_loss: 0.1372 - val_acc: 0.9839\n",
      "Epoch 21/30\n",
      "70923/70923 [==============================] - 0s 4us/step - loss: 0.1344 - acc: 0.9850 - val_loss: 0.1302 - val_acc: 0.9829\n",
      "Epoch 22/30\n",
      "70923/70923 [==============================] - 0s 4us/step - loss: 0.1275 - acc: 0.9856 - val_loss: 0.1233 - val_acc: 0.9860\n",
      "Epoch 23/30\n",
      "70923/70923 [==============================] - 0s 4us/step - loss: 0.1212 - acc: 0.9879 - val_loss: 0.1177 - val_acc: 0.9877\n",
      "Epoch 24/30\n",
      "70923/70923 [==============================] - 0s 4us/step - loss: 0.1157 - acc: 0.9882 - val_loss: 0.1120 - val_acc: 0.9865\n",
      "Epoch 25/30\n",
      "70923/70923 [==============================] - 1s 9us/step - loss: 0.1105 - acc: 0.9883 - val_loss: 0.1075 - val_acc: 0.9893\n",
      "Epoch 26/30\n",
      "70923/70923 [==============================] - 1s 11us/step - loss: 0.1058 - acc: 0.9897 - val_loss: 0.1030 - val_acc: 0.9887\n",
      "Epoch 27/30\n",
      "70923/70923 [==============================] - 1s 13us/step - loss: 0.1014 - acc: 0.9900 - val_loss: 0.0988 - val_acc: 0.9890\n",
      "Epoch 28/30\n",
      "70923/70923 [==============================] - 1s 14us/step - loss: 0.0976 - acc: 0.9906 - val_loss: 0.0949 - val_acc: 0.9886\n",
      "Epoch 29/30\n",
      "70923/70923 [==============================] - 1s 8us/step - loss: 0.0939 - acc: 0.9907 - val_loss: 0.0915 - val_acc: 0.9898\n",
      "Epoch 30/30\n",
      "70923/70923 [==============================] - 0s 7us/step - loss: 0.0905 - acc: 0.9911 - val_loss: 0.0882 - val_acc: 0.9921\n"
     ]
    }
   ],
   "source": [
    "train_history =model.fit(x=train_Features, \n",
    "                         y=train_Label, \n",
    "                         validation_split=0.1, \n",
    "                         epochs=30, \n",
    "                         batch_size=800,verbose=1,callbacks=[early_stopping])"
   ]
  },
  {
   "cell_type": "code",
   "execution_count": 22,
   "metadata": {
    "collapsed": true
   },
   "outputs": [],
   "source": [
    "import matplotlib.pyplot as plt\n",
    "def show_train_history(train_history,train,validation):\n",
    "    plt.plot(train_history.history[train])\n",
    "    plt.plot(train_history.history[validation])\n",
    "    plt.title('Train History')\n",
    "    plt.ylabel(train)\n",
    "    plt.xlabel('Epoch')\n",
    "    plt.legend(['train', 'validation'], loc='upper left')\n",
    "    plt.show()"
   ]
  },
  {
   "cell_type": "code",
   "execution_count": 23,
   "metadata": {
    "collapsed": false
   },
   "outputs": [
    {
     "data": {
      "image/png": "[encoded data removed]",
      "text/plain": [
       "<matplotlib.figure.Figure at 0x7f072dff3f98>"
      ]
     },
     "metadata": {},
     "output_type": "display_data"
    }
   ],
   "source": [
    "show_train_history(train_history,'acc','val_acc')"
   ]
  },
  {
   "cell_type": "code",
   "execution_count": 24,
   "metadata": {
    "collapsed": false
   },
   "outputs": [
    {
     "data": {
      "image/png": "[encoded data removed]",
      "text/plain": [
       "<matplotlib.figure.Figure at 0x7f072c2baf60>"
      ]
     },
     "metadata": {},
     "output_type": "display_data"
    }
   ],
   "source": [
    "show_train_history(train_history,'loss','val_loss')"
   ]
  },
  {
   "cell_type": "code",
   "execution_count": 25,
   "metadata": {
    "collapsed": false
   },
   "outputs": [
    {
     "name": "stdout",
     "output_type": "stream",
     "text": [
      "19702/19702 [==============================] - 0s 15us/step\n"
     ]
    }
   ],
   "source": [
    "scores = model.evaluate(x=test_Features, \n",
    "                        y=test_Label)"
   ]
  },
  {
   "cell_type": "code",
   "execution_count": 26,
   "metadata": {
    "collapsed": false
   },
   "outputs": [
    {
     "data": {
      "text/plain": [
       "0.9923358034535769"
      ]
     },
     "execution_count": 26,
     "metadata": {},
     "output_type": "execute_result"
    }
   ],
   "source": [
    "scores[1]"
   ]
  }
 ],
 "metadata": {
  "anaconda-cloud": {},
  "kernelspec": {
   "display_name": "Python [default]",
   "language": "python",
   "name": "python3"
  },
  "language_info": {
   "codemirror_mode": {
    "name": "ipython",
    "version": 3
   },
   "file_extension": ".py",
   "mimetype": "text/x-python",
   "name": "python",
   "nbconvert_exporter": "python",
   "pygments_lexer": "ipython3",
   "version": "3.5.2"
  }
 },
 "nbformat": 4,
 "nbformat_minor": 1
}
