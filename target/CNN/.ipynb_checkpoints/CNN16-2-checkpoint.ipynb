{
 "cells": [
  {
   "cell_type": "code",
   "execution_count": 30,
   "metadata": {
    "collapsed": false
   },
   "outputs": [],
   "source": [
    "import numpy \n",
    "import pandas as pd\n",
    "from sklearn.preprocessing import StandardScaler\n",
    "from sklearn.model_selection import train_test_split\n",
    "numpy.random.seed(10)"
   ]
  },
  {
   "cell_type": "code",
   "execution_count": 31,
   "metadata": {
    "collapsed": false
   },
   "outputs": [],
   "source": [
    "data = pd.read_csv(\"target.csv\")"
   ]
  },
  {
   "cell_type": "code",
   "execution_count": 32,
   "metadata": {
    "collapsed": true
   },
   "outputs": [],
   "source": [
    "data=data.drop(['Unnamed: 7'], axis=1)\n",
    "data=data.drop(['customer_id'], axis=1)"
   ]
  },
  {
   "cell_type": "code",
   "execution_count": 33,
   "metadata": {
    "collapsed": true
   },
   "outputs": [],
   "source": [
    "data = data.dropna(how='any')"
   ]
  },
  {
   "cell_type": "code",
   "execution_count": 34,
   "metadata": {
    "collapsed": true
   },
   "outputs": [],
   "source": [
    "data['res_type']= data['res_type'].map({'CN':0, 'CO': 1, 'RE': 2, 'TO': 3,'SI': 4}).astype(int)"
   ]
  },
  {
   "cell_type": "code",
   "execution_count": 35,
   "metadata": {
    "collapsed": true
   },
   "outputs": [],
   "source": [
    "data=pd.get_dummies(data=data,columns=['geo_group'])"
   ]
  },
  {
   "cell_type": "code",
   "execution_count": 36,
   "metadata": {
    "collapsed": false
   },
   "outputs": [],
   "source": [
    "X = data.drop(['res_type'], axis=1).values.astype('float64')"
   ]
  },
  {
   "cell_type": "code",
   "execution_count": 37,
   "metadata": {
    "collapsed": false
   },
   "outputs": [],
   "source": [
    "Y = data['res_type'].values.astype('int64')"
   ]
  },
  {
   "cell_type": "code",
   "execution_count": 38,
   "metadata": {
    "collapsed": false
   },
   "outputs": [
    {
     "data": {
      "text/plain": [
       "78804"
      ]
     },
     "execution_count": 38,
     "metadata": {},
     "output_type": "execute_result"
    }
   ],
   "source": [
    "X = StandardScaler().fit_transform(X)\n",
    "train_Features, test_Features, train_Label, test_Label = train_test_split(X, Y, test_size=0.2, random_state=True) \n",
    "len(train_Features)"
   ]
  },
  {
   "cell_type": "code",
   "execution_count": 39,
   "metadata": {
    "collapsed": true
   },
   "outputs": [],
   "source": [
    "train_Features = train_Features.reshape((train_Features.shape[0], train_Features.shape[1], 1))"
   ]
  },
  {
   "cell_type": "code",
   "execution_count": 40,
   "metadata": {
    "collapsed": true
   },
   "outputs": [],
   "source": [
    "test_Features = test_Features.reshape((test_Features.shape[0], test_Features.shape[1], 1))"
   ]
  },
  {
   "cell_type": "code",
   "execution_count": 41,
   "metadata": {
    "collapsed": false
   },
   "outputs": [],
   "source": [
    "from keras.utils import np_utils\n",
    "train_Label=np_utils.to_categorical(train_Label)\n",
    "test_Label=np_utils.to_categorical(test_Label)"
   ]
  },
  {
   "cell_type": "code",
   "execution_count": 42,
   "metadata": {
    "collapsed": false
   },
   "outputs": [],
   "source": [
    "from keras.models import Sequential\n",
    "from keras.layers import Dense,Dropout,Flatten,Conv1D,MaxPooling1D\n",
    "from keras.layers.embeddings import Embedding\n",
    "from keras.callbacks import EarlyStopping\n",
    "early_stopping = EarlyStopping(monitor='val_loss', patience=2)"
   ]
  },
  {
   "cell_type": "code",
   "execution_count": 43,
   "metadata": {
    "collapsed": true
   },
   "outputs": [],
   "source": [
    "model = Sequential()"
   ]
  },
  {
   "cell_type": "code",
   "execution_count": 44,
   "metadata": {
    "collapsed": true
   },
   "outputs": [],
   "source": [
    "model.add(Conv1D(filters=16*2,\n",
    "                 kernel_size=1,\n",
    "                 padding='valid',\n",
    "                 input_shape=(8,1), \n",
    "                 activation='relu'))"
   ]
  },
  {
   "cell_type": "code",
   "execution_count": 45,
   "metadata": {
    "collapsed": true
   },
   "outputs": [],
   "source": [
    "model.add(MaxPooling1D(pool_size=1))"
   ]
  },
  {
   "cell_type": "code",
   "execution_count": 46,
   "metadata": {
    "collapsed": false
   },
   "outputs": [],
   "source": [
    "model.add(Conv1D(filters=16,\n",
    "                 kernel_size=1,\n",
    "                 padding='valid',\n",
    "                 activation='relu'))"
   ]
  },
  {
   "cell_type": "code",
   "execution_count": 47,
   "metadata": {
    "collapsed": true
   },
   "outputs": [],
   "source": [
    "model.add(MaxPooling1D(pool_size=1))"
   ]
  },
  {
   "cell_type": "code",
   "execution_count": 48,
   "metadata": {
    "collapsed": true
   },
   "outputs": [],
   "source": [
    "model.add(Flatten())"
   ]
  },
  {
   "cell_type": "code",
   "execution_count": 49,
   "metadata": {
    "collapsed": true
   },
   "outputs": [],
   "source": [
    "model.add(Dense(8, activation='tanh'))"
   ]
  },
  {
   "cell_type": "code",
   "execution_count": 50,
   "metadata": {
    "collapsed": true
   },
   "outputs": [],
   "source": [
    "model.add(Dense(5,activation='softmax'))"
   ]
  },
  {
   "cell_type": "code",
   "execution_count": 51,
   "metadata": {
    "collapsed": false
   },
   "outputs": [
    {
     "name": "stdout",
     "output_type": "stream",
     "text": [
      "_________________________________________________________________\n",
      "Layer (type)                 Output Shape              Param #   \n",
      "=================================================================\n",
      "conv1d_3 (Conv1D)            (None, 8, 32)             64        \n",
      "_________________________________________________________________\n",
      "max_pooling1d_3 (MaxPooling1 (None, 8, 32)             0         \n",
      "_________________________________________________________________\n",
      "conv1d_4 (Conv1D)            (None, 8, 16)             528       \n",
      "_________________________________________________________________\n",
      "max_pooling1d_4 (MaxPooling1 (None, 8, 16)             0         \n",
      "_________________________________________________________________\n",
      "flatten_2 (Flatten)          (None, 128)               0         \n",
      "_________________________________________________________________\n",
      "dense_3 (Dense)              (None, 8)                 1032      \n",
      "_________________________________________________________________\n",
      "dense_4 (Dense)              (None, 5)                 45        \n",
      "=================================================================\n",
      "Total params: 1,669\n",
      "Trainable params: 1,669\n",
      "Non-trainable params: 0\n",
      "_________________________________________________________________\n"
     ]
    }
   ],
   "source": [
    "model.summary()"
   ]
  },
  {
   "cell_type": "code",
   "execution_count": 52,
   "metadata": {
    "collapsed": false
   },
   "outputs": [],
   "source": [
    "model.compile(loss='categorical_crossentropy', \n",
    "              optimizer='adam', metrics=['accuracy'])"
   ]
  },
  {
   "cell_type": "code",
   "execution_count": 53,
   "metadata": {
    "collapsed": false
   },
   "outputs": [
    {
     "name": "stdout",
     "output_type": "stream",
     "text": [
      "Train on 63043 samples, validate on 15761 samples\n",
      "Epoch 1/30\n",
      "63043/63043 [==============================] - 4s 68us/step - loss: 1.4130 - acc: 0.3907 - val_loss: 1.2333 - val_acc: 0.5217\n",
      "Epoch 2/30\n",
      "63043/63043 [==============================] - 2s 36us/step - loss: 1.0833 - acc: 0.6174 - val_loss: 0.9175 - val_acc: 0.6607\n",
      "Epoch 3/30\n",
      "63043/63043 [==============================] - 3s 40us/step - loss: 0.7937 - acc: 0.7192 - val_loss: 0.6827 - val_acc: 0.7692\n",
      "Epoch 4/30\n",
      "63043/63043 [==============================] - 4s 57us/step - loss: 0.6016 - acc: 0.8154 - val_loss: 0.5248 - val_acc: 0.8619\n",
      "Epoch 5/30\n",
      "63043/63043 [==============================] - 2s 37us/step - loss: 0.4618 - acc: 0.8843 - val_loss: 0.4020 - val_acc: 0.8964\n",
      "Epoch 6/30\n",
      "63043/63043 [==============================] - 1s 18us/step - loss: 0.3564 - acc: 0.9078 - val_loss: 0.3155 - val_acc: 0.9158\n",
      "Epoch 7/30\n",
      "63043/63043 [==============================] - 1s 23us/step - loss: 0.2859 - acc: 0.9273 - val_loss: 0.2594 - val_acc: 0.9387\n",
      "Epoch 8/30\n",
      "63043/63043 [==============================] - 2s 39us/step - loss: 0.2396 - acc: 0.9471 - val_loss: 0.2214 - val_acc: 0.9602\n",
      "Epoch 9/30\n",
      "63043/63043 [==============================] - 1s 19us/step - loss: 0.2073 - acc: 0.9616 - val_loss: 0.1908 - val_acc: 0.9708\n",
      "Epoch 10/30\n",
      "63043/63043 [==============================] - 1s 19us/step - loss: 0.1797 - acc: 0.9727 - val_loss: 0.1663 - val_acc: 0.9851\n",
      "Epoch 11/30\n",
      "63043/63043 [==============================] - 1s 18us/step - loss: 0.1566 - acc: 0.9816 - val_loss: 0.1460 - val_acc: 0.9872\n",
      "Epoch 12/30\n",
      "63043/63043 [==============================] - 1s 18us/step - loss: 0.1381 - acc: 0.9860 - val_loss: 0.1291 - val_acc: 0.9884\n",
      "Epoch 13/30\n",
      "63043/63043 [==============================] - 1s 17us/step - loss: 0.1229 - acc: 0.9875 - val_loss: 0.1155 - val_acc: 0.9893\n",
      "Epoch 14/30\n",
      "63043/63043 [==============================] - 1s 18us/step - loss: 0.1101 - acc: 0.9900 - val_loss: 0.1047 - val_acc: 0.9907\n",
      "Epoch 15/30\n",
      "63043/63043 [==============================] - 1s 18us/step - loss: 0.0997 - acc: 0.9904 - val_loss: 0.0950 - val_acc: 0.9912\n",
      "Epoch 16/30\n",
      "63043/63043 [==============================] - 1s 18us/step - loss: 0.0909 - acc: 0.9911 - val_loss: 0.0867 - val_acc: 0.9916\n",
      "Epoch 17/30\n",
      "63043/63043 [==============================] - 1s 18us/step - loss: 0.0835 - acc: 0.9910 - val_loss: 0.0801 - val_acc: 0.9916\n",
      "Epoch 18/30\n",
      "63043/63043 [==============================] - 1s 18us/step - loss: 0.0777 - acc: 0.9911 - val_loss: 0.0735 - val_acc: 0.9915\n",
      "Epoch 19/30\n",
      "63043/63043 [==============================] - 1s 17us/step - loss: 0.0721 - acc: 0.9916 - val_loss: 0.0697 - val_acc: 0.9894\n",
      "Epoch 20/30\n",
      "63043/63043 [==============================] - 1s 18us/step - loss: 0.0678 - acc: 0.9908 - val_loss: 0.0649 - val_acc: 0.9920\n",
      "Epoch 21/30\n",
      "63043/63043 [==============================] - 1s 18us/step - loss: 0.0646 - acc: 0.9900 - val_loss: 0.0609 - val_acc: 0.9918\n",
      "Epoch 22/30\n",
      "63043/63043 [==============================] - 1s 18us/step - loss: 0.0596 - acc: 0.9918 - val_loss: 0.0584 - val_acc: 0.9912\n",
      "Epoch 23/30\n",
      "63043/63043 [==============================] - 1s 18us/step - loss: 0.0561 - acc: 0.9918 - val_loss: 0.0561 - val_acc: 0.9911\n",
      "Epoch 24/30\n",
      "63043/63043 [==============================] - 1s 18us/step - loss: 0.0546 - acc: 0.9914 - val_loss: 0.0520 - val_acc: 0.9912\n",
      "Epoch 25/30\n",
      "63043/63043 [==============================] - 1s 18us/step - loss: 0.0505 - acc: 0.9925 - val_loss: 0.0481 - val_acc: 0.9917\n",
      "Epoch 26/30\n",
      "63043/63043 [==============================] - 1s 18us/step - loss: 0.0487 - acc: 0.9921 - val_loss: 0.0490 - val_acc: 0.9893\n",
      "Epoch 27/30\n",
      "63043/63043 [==============================] - 1s 18us/step - loss: 0.0460 - acc: 0.9925 - val_loss: 0.0454 - val_acc: 0.9917\n",
      "Epoch 28/30\n",
      "63043/63043 [==============================] - 1s 17us/step - loss: 0.0444 - acc: 0.9924 - val_loss: 0.0423 - val_acc: 0.9934\n",
      "Epoch 29/30\n",
      "63043/63043 [==============================] - 1s 17us/step - loss: 0.0425 - acc: 0.9923 - val_loss: 0.0422 - val_acc: 0.9918\n",
      "Epoch 30/30\n",
      "63043/63043 [==============================] - 1s 18us/step - loss: 0.0407 - acc: 0.9923 - val_loss: 0.0414 - val_acc: 0.9895\n"
     ]
    }
   ],
   "source": [
    "train_history =model.fit(x=train_Features, \n",
    "                         y=train_Label, \n",
    "                         validation_split=0.2, \n",
    "                         epochs=30, \n",
    "                         batch_size=1500,verbose=1,callbacks=[early_stopping])"
   ]
  },
  {
   "cell_type": "code",
   "execution_count": 54,
   "metadata": {
    "collapsed": true
   },
   "outputs": [],
   "source": [
    "import matplotlib.pyplot as plt\n",
    "def show_train_history(train_history,train,validation):\n",
    "    plt.plot(train_history.history[train])\n",
    "    plt.plot(train_history.history[validation])\n",
    "    plt.title('Train History')\n",
    "    plt.ylabel(train)\n",
    "    plt.xlabel('Epoch')\n",
    "    plt.legend(['train', 'validation'], loc='upper left')\n",
    "    plt.show()"
   ]
  },
  {
   "cell_type": "code",
   "execution_count": 55,
   "metadata": {
    "collapsed": false
   },
   "outputs": [
    {
     "data": {
      "image/png": "[encoded data removed]",
      "text/plain": [
       "<matplotlib.figure.Figure at 0x7f2953c61940>"
      ]
     },
     "metadata": {},
     "output_type": "display_data"
    }
   ],
   "source": [
    "show_train_history(train_history,'acc','val_acc')"
   ]
  },
  {
   "cell_type": "code",
   "execution_count": 56,
   "metadata": {
    "collapsed": false
   },
   "outputs": [
    {
     "data": {
      "image/png": "[encoded data removed]",
      "text/plain": [
       "<matplotlib.figure.Figure at 0x7f2953c618d0>"
      ]
     },
     "metadata": {},
     "output_type": "display_data"
    }
   ],
   "source": [
    "show_train_history(train_history,'loss','val_loss')"
   ]
  },
  {
   "cell_type": "code",
   "execution_count": 57,
   "metadata": {
    "collapsed": false
   },
   "outputs": [
    {
     "name": "stdout",
     "output_type": "stream",
     "text": [
      "19702/19702 [==============================] - 0s 23us/step\n"
     ]
    }
   ],
   "source": [
    "scores = model.evaluate(x=test_Features, \n",
    "                        y=test_Label)"
   ]
  },
  {
   "cell_type": "code",
   "execution_count": 58,
   "metadata": {
    "collapsed": false
   },
   "outputs": [
    {
     "data": {
      "text/plain": [
       "0.9903055527357628"
      ]
     },
     "execution_count": 58,
     "metadata": {},
     "output_type": "execute_result"
    }
   ],
   "source": [
    "scores[1]"
   ]
  }
 ],
 "metadata": {
  "anaconda-cloud": {},
  "kernelspec": {
   "display_name": "Python [default]",
   "language": "python",
   "name": "python3"
  },
  "language_info": {
   "codemirror_mode": {
    "name": "ipython",
    "version": 3
   },
   "file_extension": ".py",
   "mimetype": "text/x-python",
   "name": "python",
   "nbconvert_exporter": "python",
   "pygments_lexer": "ipython3",
   "version": "3.5.2"
  }
 },
 "nbformat": 4,
 "nbformat_minor": 1
}
