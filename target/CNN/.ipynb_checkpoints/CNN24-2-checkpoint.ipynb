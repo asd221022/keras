{
 "cells": [
  {
   "cell_type": "code",
   "execution_count": 1,
   "metadata": {
    "collapsed": false
   },
   "outputs": [],
   "source": [
    "import numpy \n",
    "import pandas as pd\n",
    "from sklearn.preprocessing import StandardScaler\n",
    "from sklearn.model_selection import train_test_split\n",
    "numpy.random.seed(10)"
   ]
  },
  {
   "cell_type": "code",
   "execution_count": 2,
   "metadata": {
    "collapsed": false
   },
   "outputs": [],
   "source": [
    "data = pd.read_csv(\"target.csv\")"
   ]
  },
  {
   "cell_type": "code",
   "execution_count": 3,
   "metadata": {
    "collapsed": true
   },
   "outputs": [],
   "source": [
    "data=data.drop(['Unnamed: 7'], axis=1)\n",
    "data=data.drop(['customer_id'], axis=1)"
   ]
  },
  {
   "cell_type": "code",
   "execution_count": 4,
   "metadata": {
    "collapsed": true
   },
   "outputs": [],
   "source": [
    "data = data.dropna(how='any')"
   ]
  },
  {
   "cell_type": "code",
   "execution_count": 5,
   "metadata": {
    "collapsed": true
   },
   "outputs": [],
   "source": [
    "data['res_type']= data['res_type'].map({'CN':0, 'CO': 1, 'RE': 2, 'TO': 3,'SI': 4}).astype(int)"
   ]
  },
  {
   "cell_type": "code",
   "execution_count": 6,
   "metadata": {
    "collapsed": true
   },
   "outputs": [],
   "source": [
    "data=pd.get_dummies(data=data,columns=['geo_group'])"
   ]
  },
  {
   "cell_type": "code",
   "execution_count": 7,
   "metadata": {
    "collapsed": false
   },
   "outputs": [],
   "source": [
    "X = data.drop(['res_type'], axis=1).values.astype('float64')"
   ]
  },
  {
   "cell_type": "code",
   "execution_count": 8,
   "metadata": {
    "collapsed": false
   },
   "outputs": [],
   "source": [
    "Y = data['res_type'].values.astype('int64')"
   ]
  },
  {
   "cell_type": "code",
   "execution_count": 9,
   "metadata": {
    "collapsed": false
   },
   "outputs": [
    {
     "data": {
      "text/plain": [
       "78804"
      ]
     },
     "execution_count": 9,
     "metadata": {},
     "output_type": "execute_result"
    }
   ],
   "source": [
    "X = StandardScaler().fit_transform(X)\n",
    "train_Features, test_Features, train_Label, test_Label = train_test_split(X, Y, test_size=0.2, random_state=True) \n",
    "len(train_Features)"
   ]
  },
  {
   "cell_type": "code",
   "execution_count": 10,
   "metadata": {
    "collapsed": true
   },
   "outputs": [],
   "source": [
    "train_Features = train_Features.reshape((train_Features.shape[0], train_Features.shape[1], 1))"
   ]
  },
  {
   "cell_type": "code",
   "execution_count": 11,
   "metadata": {
    "collapsed": true
   },
   "outputs": [],
   "source": [
    "test_Features = test_Features.reshape((test_Features.shape[0], test_Features.shape[1], 1))"
   ]
  },
  {
   "cell_type": "code",
   "execution_count": 12,
   "metadata": {
    "collapsed": false
   },
   "outputs": [
    {
     "name": "stderr",
     "output_type": "stream",
     "text": [
      "Using TensorFlow backend.\n"
     ]
    }
   ],
   "source": [
    "from keras.utils import np_utils\n",
    "train_Label=np_utils.to_categorical(train_Label)\n",
    "test_Label=np_utils.to_categorical(test_Label)"
   ]
  },
  {
   "cell_type": "code",
   "execution_count": 13,
   "metadata": {
    "collapsed": false
   },
   "outputs": [],
   "source": [
    "from keras.models import Sequential\n",
    "from keras.layers import Dense,Dropout,Flatten,Conv1D,MaxPooling1D\n",
    "from keras.layers.embeddings import Embedding\n",
    "from keras.callbacks import EarlyStopping\n",
    "early_stopping = EarlyStopping(monitor='val_loss', patience=2)"
   ]
  },
  {
   "cell_type": "code",
   "execution_count": 14,
   "metadata": {
    "collapsed": true
   },
   "outputs": [],
   "source": [
    "model = Sequential()"
   ]
  },
  {
   "cell_type": "code",
   "execution_count": 15,
   "metadata": {
    "collapsed": true
   },
   "outputs": [],
   "source": [
    "model.add(Conv1D(filters=24*2,\n",
    "                 kernel_size=1,\n",
    "                 padding='valid',\n",
    "                 input_shape=(8,1), \n",
    "                 activation='relu'))"
   ]
  },
  {
   "cell_type": "code",
   "execution_count": 16,
   "metadata": {
    "collapsed": true
   },
   "outputs": [],
   "source": [
    "model.add(MaxPooling1D(pool_size=1))"
   ]
  },
  {
   "cell_type": "code",
   "execution_count": 17,
   "metadata": {
    "collapsed": false
   },
   "outputs": [],
   "source": [
    "model.add(Conv1D(filters=24,\n",
    "                 kernel_size=1,\n",
    "                 padding='valid',\n",
    "                 activation='relu'))"
   ]
  },
  {
   "cell_type": "code",
   "execution_count": 18,
   "metadata": {
    "collapsed": true
   },
   "outputs": [],
   "source": [
    "model.add(MaxPooling1D(pool_size=1))"
   ]
  },
  {
   "cell_type": "code",
   "execution_count": 19,
   "metadata": {
    "collapsed": true
   },
   "outputs": [],
   "source": [
    "model.add(Flatten())"
   ]
  },
  {
   "cell_type": "code",
   "execution_count": 20,
   "metadata": {
    "collapsed": true
   },
   "outputs": [],
   "source": [
    "model.add(Dense(8, activation='tanh'))"
   ]
  },
  {
   "cell_type": "code",
   "execution_count": 21,
   "metadata": {
    "collapsed": true
   },
   "outputs": [],
   "source": [
    "model.add(Dense(5,activation='softmax'))"
   ]
  },
  {
   "cell_type": "code",
   "execution_count": 22,
   "metadata": {
    "collapsed": false
   },
   "outputs": [
    {
     "name": "stdout",
     "output_type": "stream",
     "text": [
      "_________________________________________________________________\n",
      "Layer (type)                 Output Shape              Param #   \n",
      "=================================================================\n",
      "conv1d_1 (Conv1D)            (None, 8, 48)             96        \n",
      "_________________________________________________________________\n",
      "max_pooling1d_1 (MaxPooling1 (None, 8, 48)             0         \n",
      "_________________________________________________________________\n",
      "conv1d_2 (Conv1D)            (None, 8, 24)             1176      \n",
      "_________________________________________________________________\n",
      "max_pooling1d_2 (MaxPooling1 (None, 8, 24)             0         \n",
      "_________________________________________________________________\n",
      "flatten_1 (Flatten)          (None, 192)               0         \n",
      "_________________________________________________________________\n",
      "dense_1 (Dense)              (None, 8)                 1544      \n",
      "_________________________________________________________________\n",
      "dense_2 (Dense)              (None, 5)                 45        \n",
      "=================================================================\n",
      "Total params: 2,861\n",
      "Trainable params: 2,861\n",
      "Non-trainable params: 0\n",
      "_________________________________________________________________\n"
     ]
    }
   ],
   "source": [
    "model.summary()"
   ]
  },
  {
   "cell_type": "code",
   "execution_count": 23,
   "metadata": {
    "collapsed": false
   },
   "outputs": [],
   "source": [
    "model.compile(loss='categorical_crossentropy', \n",
    "              optimizer='adam', metrics=['accuracy'])"
   ]
  },
  {
   "cell_type": "code",
   "execution_count": 24,
   "metadata": {
    "collapsed": false
   },
   "outputs": [
    {
     "name": "stdout",
     "output_type": "stream",
     "text": [
      "Train on 63043 samples, validate on 15761 samples\n",
      "Epoch 1/30\n",
      "63043/63043 [==============================] - 4s 59us/step - loss: 1.4247 - acc: 0.3785 - val_loss: 1.2302 - val_acc: 0.5090\n",
      "Epoch 2/30\n",
      "63043/63043 [==============================] - 4s 62us/step - loss: 1.0410 - acc: 0.6461 - val_loss: 0.8416 - val_acc: 0.7033\n",
      "Epoch 3/30\n",
      "63043/63043 [==============================] - 3s 54us/step - loss: 0.7095 - acc: 0.7644 - val_loss: 0.5977 - val_acc: 0.7963\n",
      "Epoch 4/30\n",
      "63043/63043 [==============================] - 4s 57us/step - loss: 0.5199 - acc: 0.8372 - val_loss: 0.4471 - val_acc: 0.8733\n",
      "Epoch 5/30\n",
      "63043/63043 [==============================] - 3s 55us/step - loss: 0.3952 - acc: 0.8917 - val_loss: 0.3479 - val_acc: 0.9035\n",
      "Epoch 6/30\n",
      "63043/63043 [==============================] - 3s 53us/step - loss: 0.3170 - acc: 0.9145 - val_loss: 0.2869 - val_acc: 0.9293\n",
      "Epoch 7/30\n",
      "63043/63043 [==============================] - 3s 51us/step - loss: 0.2642 - acc: 0.9406 - val_loss: 0.2414 - val_acc: 0.9479\n",
      "Epoch 8/30\n",
      "63043/63043 [==============================] - 3s 53us/step - loss: 0.2230 - acc: 0.9573 - val_loss: 0.2075 - val_acc: 0.9611\n",
      "Epoch 9/30\n",
      "63043/63043 [==============================] - 4s 56us/step - loss: 0.1923 - acc: 0.9670 - val_loss: 0.1763 - val_acc: 0.9751\n",
      "Epoch 10/30\n",
      "63043/63043 [==============================] - 3s 50us/step - loss: 0.1662 - acc: 0.9758 - val_loss: 0.1541 - val_acc: 0.9849\n",
      "Epoch 11/30\n",
      "63043/63043 [==============================] - 3s 55us/step - loss: 0.1455 - acc: 0.9823 - val_loss: 0.1366 - val_acc: 0.9866\n",
      "Epoch 12/30\n",
      "63043/63043 [==============================] - 4s 61us/step - loss: 0.1284 - acc: 0.9862 - val_loss: 0.1203 - val_acc: 0.9876\n",
      "Epoch 13/30\n",
      "63043/63043 [==============================] - 3s 52us/step - loss: 0.1142 - acc: 0.9876 - val_loss: 0.1061 - val_acc: 0.9909\n",
      "Epoch 14/30\n",
      "63043/63043 [==============================] - 4s 58us/step - loss: 0.1023 - acc: 0.9901 - val_loss: 0.0969 - val_acc: 0.9907\n",
      "Epoch 15/30\n",
      "63043/63043 [==============================] - 4s 58us/step - loss: 0.0924 - acc: 0.9902 - val_loss: 0.0878 - val_acc: 0.9922\n",
      "Epoch 16/30\n",
      "63043/63043 [==============================] - 4s 57us/step - loss: 0.0839 - acc: 0.9914 - val_loss: 0.0793 - val_acc: 0.9918\n",
      "Epoch 17/30\n",
      "63043/63043 [==============================] - 5s 86us/step - loss: 0.0769 - acc: 0.9913 - val_loss: 0.0734 - val_acc: 0.9922\n",
      "Epoch 18/30\n",
      "63043/63043 [==============================] - 4s 68us/step - loss: 0.0711 - acc: 0.9912 - val_loss: 0.0660 - val_acc: 0.9939\n",
      "Epoch 19/30\n",
      "63043/63043 [==============================] - 4s 68us/step - loss: 0.0651 - acc: 0.9922 - val_loss: 0.0656 - val_acc: 0.9876\n",
      "Epoch 20/30\n",
      "63043/63043 [==============================] - 5s 72us/step - loss: 0.0625 - acc: 0.9897 - val_loss: 0.0585 - val_acc: 0.9915\n",
      "Epoch 21/30\n",
      "63043/63043 [==============================] - 4s 68us/step - loss: 0.0580 - acc: 0.9907 - val_loss: 0.0549 - val_acc: 0.9915\n",
      "Epoch 22/30\n",
      "63043/63043 [==============================] - 4s 68us/step - loss: 0.0532 - acc: 0.9919 - val_loss: 0.0506 - val_acc: 0.9931\n",
      "Epoch 23/30\n",
      "63043/63043 [==============================] - 4s 67us/step - loss: 0.0493 - acc: 0.9927 - val_loss: 0.0509 - val_acc: 0.9914\n",
      "Epoch 24/30\n",
      "63043/63043 [==============================] - 4s 66us/step - loss: 0.0482 - acc: 0.9919 - val_loss: 0.0464 - val_acc: 0.9908\n",
      "Epoch 25/30\n",
      "63043/63043 [==============================] - 6s 91us/step - loss: 0.0445 - acc: 0.9928 - val_loss: 0.0420 - val_acc: 0.9921\n",
      "Epoch 26/30\n",
      "63043/63043 [==============================] - 6s 87us/step - loss: 0.0428 - acc: 0.9929 - val_loss: 0.0427 - val_acc: 0.9918\n",
      "Epoch 27/30\n",
      "63043/63043 [==============================] - 3s 43us/step - loss: 0.0404 - acc: 0.9925 - val_loss: 0.0411 - val_acc: 0.9915\n",
      "Epoch 28/30\n",
      "63043/63043 [==============================] - 2s 27us/step - loss: 0.0393 - acc: 0.9927 - val_loss: 0.0365 - val_acc: 0.9938\n",
      "Epoch 29/30\n",
      "63043/63043 [==============================] - 2s 28us/step - loss: 0.0375 - acc: 0.9927 - val_loss: 0.0390 - val_acc: 0.9905\n",
      "Epoch 30/30\n",
      "63043/63043 [==============================] - 2s 27us/step - loss: 0.0357 - acc: 0.9928 - val_loss: 0.0367 - val_acc: 0.9909\n"
     ]
    }
   ],
   "source": [
    "train_history =model.fit(x=train_Features, \n",
    "                         y=train_Label, \n",
    "                         validation_split=0.2, \n",
    "                         epochs=30, \n",
    "                         batch_size=1500,verbose=1,callbacks=[early_stopping])"
   ]
  },
  {
   "cell_type": "code",
   "execution_count": 25,
   "metadata": {
    "collapsed": true
   },
   "outputs": [],
   "source": [
    "import matplotlib.pyplot as plt\n",
    "def show_train_history(train_history,train,validation):\n",
    "    plt.plot(train_history.history[train])\n",
    "    plt.plot(train_history.history[validation])\n",
    "    plt.title('Train History')\n",
    "    plt.ylabel(train)\n",
    "    plt.xlabel('Epoch')\n",
    "    plt.legend(['train', 'validation'], loc='upper left')\n",
    "    plt.show()"
   ]
  },
  {
   "cell_type": "code",
   "execution_count": 26,
   "metadata": {
    "collapsed": false
   },
   "outputs": [
    {
     "data": {
      "image/png": "[encoded data removed]",
      "text/plain": [
       "<matplotlib.figure.Figure at 0x7f3a60f13be0>"
      ]
     },
     "metadata": {},
     "output_type": "display_data"
    }
   ],
   "source": [
    "show_train_history(train_history,'acc','val_acc')"
   ]
  },
  {
   "cell_type": "code",
   "execution_count": 27,
   "metadata": {
    "collapsed": false
   },
   "outputs": [
    {
     "data": {
      "image/png": "[encoded data removed]",
      "text/plain": [
       "<matplotlib.figure.Figure at 0x7f3a60f139b0>"
      ]
     },
     "metadata": {},
     "output_type": "display_data"
    }
   ],
   "source": [
    "show_train_history(train_history,'loss','val_loss')"
   ]
  },
  {
   "cell_type": "code",
   "execution_count": 28,
   "metadata": {
    "collapsed": false
   },
   "outputs": [
    {
     "name": "stdout",
     "output_type": "stream",
     "text": [
      "19702/19702 [==============================] - 1s 35us/step\n"
     ]
    }
   ],
   "source": [
    "scores = model.evaluate(x=test_Features, \n",
    "                        y=test_Label)"
   ]
  },
  {
   "cell_type": "code",
   "execution_count": 29,
   "metadata": {
    "collapsed": false
   },
   "outputs": [
    {
     "data": {
      "text/plain": [
       "0.9904070652544094"
      ]
     },
     "execution_count": 29,
     "metadata": {},
     "output_type": "execute_result"
    }
   ],
   "source": [
    "scores[1]"
   ]
  }
 ],
 "metadata": {
  "anaconda-cloud": {},
  "kernelspec": {
   "display_name": "Python [default]",
   "language": "python",
   "name": "python3"
  },
  "language_info": {
   "codemirror_mode": {
    "name": "ipython",
    "version": 3
   },
   "file_extension": ".py",
   "mimetype": "text/x-python",
   "name": "python",
   "nbconvert_exporter": "python",
   "pygments_lexer": "ipython3",
   "version": "3.5.2"
  }
 },
 "nbformat": 4,
 "nbformat_minor": 1
}
