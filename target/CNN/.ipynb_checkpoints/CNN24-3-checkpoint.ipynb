{
 "cells": [
  {
   "cell_type": "code",
   "execution_count": 29,
   "metadata": {
    "collapsed": false
   },
   "outputs": [],
   "source": [
    "import numpy \n",
    "import pandas as pd\n",
    "from sklearn.preprocessing import StandardScaler\n",
    "from sklearn.model_selection import train_test_split\n",
    "numpy.random.seed(10)"
   ]
  },
  {
   "cell_type": "code",
   "execution_count": 30,
   "metadata": {
    "collapsed": false
   },
   "outputs": [],
   "source": [
    "data = pd.read_csv(\"target.csv\")"
   ]
  },
  {
   "cell_type": "code",
   "execution_count": 31,
   "metadata": {
    "collapsed": true
   },
   "outputs": [],
   "source": [
    "data=data.drop(['Unnamed: 7'], axis=1)\n",
    "data=data.drop(['customer_id'], axis=1)"
   ]
  },
  {
   "cell_type": "code",
   "execution_count": 32,
   "metadata": {
    "collapsed": true
   },
   "outputs": [],
   "source": [
    "data = data.dropna(how='any')"
   ]
  },
  {
   "cell_type": "code",
   "execution_count": 33,
   "metadata": {
    "collapsed": true
   },
   "outputs": [],
   "source": [
    "data['res_type']= data['res_type'].map({'CN':0, 'CO': 1, 'RE': 2, 'TO': 3,'SI': 4}).astype(int)"
   ]
  },
  {
   "cell_type": "code",
   "execution_count": 34,
   "metadata": {
    "collapsed": true
   },
   "outputs": [],
   "source": [
    "data=pd.get_dummies(data=data,columns=['geo_group'])"
   ]
  },
  {
   "cell_type": "code",
   "execution_count": 35,
   "metadata": {
    "collapsed": false
   },
   "outputs": [],
   "source": [
    "X = data.drop(['res_type'], axis=1).values.astype('float64')"
   ]
  },
  {
   "cell_type": "code",
   "execution_count": 36,
   "metadata": {
    "collapsed": false
   },
   "outputs": [],
   "source": [
    "Y = data['res_type'].values.astype('int64')"
   ]
  },
  {
   "cell_type": "code",
   "execution_count": 37,
   "metadata": {
    "collapsed": false
   },
   "outputs": [
    {
     "data": {
      "text/plain": [
       "78804"
      ]
     },
     "execution_count": 37,
     "metadata": {},
     "output_type": "execute_result"
    }
   ],
   "source": [
    "X = StandardScaler().fit_transform(X)\n",
    "train_Features, test_Features, train_Label, test_Label = train_test_split(X, Y, test_size=0.2, random_state=True) \n",
    "len(train_Features)"
   ]
  },
  {
   "cell_type": "code",
   "execution_count": 38,
   "metadata": {
    "collapsed": true
   },
   "outputs": [],
   "source": [
    "train_Features = train_Features.reshape((train_Features.shape[0], train_Features.shape[1], 1))"
   ]
  },
  {
   "cell_type": "code",
   "execution_count": 39,
   "metadata": {
    "collapsed": true
   },
   "outputs": [],
   "source": [
    "test_Features = test_Features.reshape((test_Features.shape[0], test_Features.shape[1], 1))"
   ]
  },
  {
   "cell_type": "code",
   "execution_count": 40,
   "metadata": {
    "collapsed": false
   },
   "outputs": [],
   "source": [
    "from keras.utils import np_utils\n",
    "train_Label=np_utils.to_categorical(train_Label)\n",
    "test_Label=np_utils.to_categorical(test_Label)"
   ]
  },
  {
   "cell_type": "code",
   "execution_count": 41,
   "metadata": {
    "collapsed": false
   },
   "outputs": [],
   "source": [
    "from keras.models import Sequential\n",
    "from keras.layers import Dense,Dropout,Flatten,Conv1D,MaxPooling1D\n",
    "from keras.layers.embeddings import Embedding\n",
    "from keras.callbacks import EarlyStopping\n",
    "early_stopping = EarlyStopping(monitor='val_loss', patience=2)"
   ]
  },
  {
   "cell_type": "code",
   "execution_count": 42,
   "metadata": {
    "collapsed": true
   },
   "outputs": [],
   "source": [
    "model = Sequential()"
   ]
  },
  {
   "cell_type": "code",
   "execution_count": 43,
   "metadata": {
    "collapsed": true
   },
   "outputs": [],
   "source": [
    "model.add(Conv1D(filters=24*3,\n",
    "                 kernel_size=1,\n",
    "                 padding='valid',\n",
    "                 input_shape=(8,1), \n",
    "                 activation='relu'))"
   ]
  },
  {
   "cell_type": "code",
   "execution_count": 44,
   "metadata": {
    "collapsed": true
   },
   "outputs": [],
   "source": [
    "model.add(MaxPooling1D(pool_size=1))"
   ]
  },
  {
   "cell_type": "code",
   "execution_count": 45,
   "metadata": {
    "collapsed": true
   },
   "outputs": [],
   "source": [
    "model.add(Conv1D(filters=24*2,\n",
    "                 kernel_size=1,\n",
    "                 padding='valid', \n",
    "                 activation='relu'))"
   ]
  },
  {
   "cell_type": "code",
   "execution_count": 46,
   "metadata": {
    "collapsed": true
   },
   "outputs": [],
   "source": [
    "model.add(MaxPooling1D(pool_size=1))"
   ]
  },
  {
   "cell_type": "code",
   "execution_count": 47,
   "metadata": {
    "collapsed": false
   },
   "outputs": [],
   "source": [
    "model.add(Conv1D(filters=24,\n",
    "                 kernel_size=1,\n",
    "                 padding='valid',\n",
    "                 activation='relu'))"
   ]
  },
  {
   "cell_type": "code",
   "execution_count": 48,
   "metadata": {
    "collapsed": true
   },
   "outputs": [],
   "source": [
    "model.add(MaxPooling1D(pool_size=1))"
   ]
  },
  {
   "cell_type": "code",
   "execution_count": 49,
   "metadata": {
    "collapsed": true
   },
   "outputs": [],
   "source": [
    "model.add(Flatten())"
   ]
  },
  {
   "cell_type": "code",
   "execution_count": 50,
   "metadata": {
    "collapsed": true
   },
   "outputs": [],
   "source": [
    "model.add(Dense(8, activation='tanh'))"
   ]
  },
  {
   "cell_type": "code",
   "execution_count": 51,
   "metadata": {
    "collapsed": true
   },
   "outputs": [],
   "source": [
    "model.add(Dense(5,activation='softmax'))"
   ]
  },
  {
   "cell_type": "code",
   "execution_count": 52,
   "metadata": {
    "collapsed": false
   },
   "outputs": [
    {
     "name": "stdout",
     "output_type": "stream",
     "text": [
      "_________________________________________________________________\n",
      "Layer (type)                 Output Shape              Param #   \n",
      "=================================================================\n",
      "conv1d_4 (Conv1D)            (None, 8, 72)             144       \n",
      "_________________________________________________________________\n",
      "max_pooling1d_4 (MaxPooling1 (None, 8, 72)             0         \n",
      "_________________________________________________________________\n",
      "conv1d_5 (Conv1D)            (None, 8, 48)             3504      \n",
      "_________________________________________________________________\n",
      "max_pooling1d_5 (MaxPooling1 (None, 8, 48)             0         \n",
      "_________________________________________________________________\n",
      "conv1d_6 (Conv1D)            (None, 8, 24)             1176      \n",
      "_________________________________________________________________\n",
      "max_pooling1d_6 (MaxPooling1 (None, 8, 24)             0         \n",
      "_________________________________________________________________\n",
      "flatten_2 (Flatten)          (None, 192)               0         \n",
      "_________________________________________________________________\n",
      "dense_3 (Dense)              (None, 8)                 1544      \n",
      "_________________________________________________________________\n",
      "dense_4 (Dense)              (None, 5)                 45        \n",
      "=================================================================\n",
      "Total params: 6,413\n",
      "Trainable params: 6,413\n",
      "Non-trainable params: 0\n",
      "_________________________________________________________________\n"
     ]
    }
   ],
   "source": [
    "model.summary()"
   ]
  },
  {
   "cell_type": "code",
   "execution_count": 53,
   "metadata": {
    "collapsed": false
   },
   "outputs": [],
   "source": [
    "model.compile(loss='categorical_crossentropy', \n",
    "              optimizer='adam', metrics=['accuracy'])"
   ]
  },
  {
   "cell_type": "code",
   "execution_count": 54,
   "metadata": {
    "collapsed": false
   },
   "outputs": [
    {
     "name": "stdout",
     "output_type": "stream",
     "text": [
      "Train on 63043 samples, validate on 15761 samples\n",
      "Epoch 1/30\n",
      "63043/63043 [==============================] - 13s 203us/step - loss: 1.3384 - acc: 0.4325 - val_loss: 1.0455 - val_acc: 0.6492\n",
      "Epoch 2/30\n",
      "63043/63043 [==============================] - 7s 110us/step - loss: 0.7648 - acc: 0.7579 - val_loss: 0.5410 - val_acc: 0.8571\n",
      "Epoch 3/30\n",
      "63043/63043 [==============================] - 6s 101us/step - loss: 0.4407 - acc: 0.8952 - val_loss: 0.3516 - val_acc: 0.9286\n",
      "Epoch 4/30\n",
      "63043/63043 [==============================] - 5s 75us/step - loss: 0.2972 - acc: 0.9478 - val_loss: 0.2509 - val_acc: 0.9577\n",
      "Epoch 5/30\n",
      "63043/63043 [==============================] - 6s 93us/step - loss: 0.2194 - acc: 0.9756 - val_loss: 0.1928 - val_acc: 0.9756\n",
      "Epoch 6/30\n",
      "63043/63043 [==============================] - 6s 94us/step - loss: 0.1735 - acc: 0.9853 - val_loss: 0.1572 - val_acc: 0.9863\n",
      "Epoch 7/30\n",
      "63043/63043 [==============================] - 6s 96us/step - loss: 0.1451 - acc: 0.9882 - val_loss: 0.1334 - val_acc: 0.9892\n",
      "Epoch 8/30\n",
      "63043/63043 [==============================] - 5s 78us/step - loss: 0.1261 - acc: 0.9874 - val_loss: 0.1233 - val_acc: 0.9813\n",
      "Epoch 9/30\n",
      "63043/63043 [==============================] - 5s 75us/step - loss: 0.1120 - acc: 0.9877 - val_loss: 0.1027 - val_acc: 0.9909\n",
      "Epoch 10/30\n",
      "63043/63043 [==============================] - 4s 70us/step - loss: 0.0988 - acc: 0.9898 - val_loss: 0.1014 - val_acc: 0.9817\n",
      "Epoch 11/30\n",
      "63043/63043 [==============================] - 5s 75us/step - loss: 0.0906 - acc: 0.9886 - val_loss: 0.0992 - val_acc: 0.9773\n",
      "Epoch 12/30\n",
      "63043/63043 [==============================] - 7s 106us/step - loss: 0.0815 - acc: 0.9898 - val_loss: 0.0771 - val_acc: 0.9902\n",
      "Epoch 13/30\n",
      "63043/63043 [==============================] - 5s 87us/step - loss: 0.0745 - acc: 0.9907 - val_loss: 0.0788 - val_acc: 0.9853\n",
      "Epoch 14/30\n",
      "63043/63043 [==============================] - 7s 115us/step - loss: 0.0713 - acc: 0.9896 - val_loss: 0.0666 - val_acc: 0.9905\n",
      "Epoch 15/30\n",
      "63043/63043 [==============================] - 7s 103us/step - loss: 0.0635 - acc: 0.9912 - val_loss: 0.0659 - val_acc: 0.9878\n",
      "Epoch 16/30\n",
      "63043/63043 [==============================] - 8s 123us/step - loss: 0.0653 - acc: 0.9879 - val_loss: 0.0636 - val_acc: 0.9869\n",
      "Epoch 17/30\n",
      "63043/63043 [==============================] - 6s 91us/step - loss: 0.0587 - acc: 0.9895 - val_loss: 0.0556 - val_acc: 0.9898\n",
      "Epoch 18/30\n",
      "63043/63043 [==============================] - 5s 83us/step - loss: 0.0531 - acc: 0.9914 - val_loss: 0.0503 - val_acc: 0.9923\n",
      "Epoch 19/30\n",
      "63043/63043 [==============================] - 5s 80us/step - loss: 0.0512 - acc: 0.9906 - val_loss: 0.0500 - val_acc: 0.9900\n",
      "Epoch 20/30\n",
      "63043/63043 [==============================] - 5s 79us/step - loss: 0.0498 - acc: 0.9895 - val_loss: 0.0486 - val_acc: 0.9903\n",
      "Epoch 21/30\n",
      "63043/63043 [==============================] - 5s 82us/step - loss: 0.0470 - acc: 0.9906 - val_loss: 0.0468 - val_acc: 0.9904\n",
      "Epoch 22/30\n",
      "63043/63043 [==============================] - 5s 79us/step - loss: 0.0453 - acc: 0.9908 - val_loss: 0.0458 - val_acc: 0.9905\n",
      "Epoch 23/30\n",
      "63043/63043 [==============================] - 5s 80us/step - loss: 0.0436 - acc: 0.9906 - val_loss: 0.0456 - val_acc: 0.9888\n",
      "Epoch 24/30\n",
      "63043/63043 [==============================] - 5s 82us/step - loss: 0.0434 - acc: 0.9896 - val_loss: 0.0477 - val_acc: 0.9869\n",
      "Epoch 25/30\n",
      "63043/63043 [==============================] - 5s 81us/step - loss: 0.0415 - acc: 0.9903 - val_loss: 0.0437 - val_acc: 0.9873\n",
      "Epoch 26/30\n",
      "63043/63043 [==============================] - 5s 80us/step - loss: 0.0405 - acc: 0.9896 - val_loss: 0.0364 - val_acc: 0.9907\n",
      "Epoch 27/30\n",
      "63043/63043 [==============================] - 5s 81us/step - loss: 0.0385 - acc: 0.9901 - val_loss: 0.0355 - val_acc: 0.9915\n",
      "Epoch 28/30\n",
      "63043/63043 [==============================] - 5s 80us/step - loss: 0.0365 - acc: 0.9904 - val_loss: 0.0359 - val_acc: 0.9905\n",
      "Epoch 29/30\n",
      "63043/63043 [==============================] - 5s 82us/step - loss: 0.0345 - acc: 0.9917 - val_loss: 0.0338 - val_acc: 0.9916\n",
      "Epoch 30/30\n",
      "63043/63043 [==============================] - 5s 82us/step - loss: 0.0326 - acc: 0.9916 - val_loss: 0.0365 - val_acc: 0.9897\n"
     ]
    }
   ],
   "source": [
    "train_history =model.fit(x=train_Features, \n",
    "                         y=train_Label, \n",
    "                         validation_split=0.2, \n",
    "                         epochs=30, \n",
    "                         batch_size=1500,verbose=1,callbacks=[early_stopping])"
   ]
  },
  {
   "cell_type": "code",
   "execution_count": 55,
   "metadata": {
    "collapsed": true
   },
   "outputs": [],
   "source": [
    "import matplotlib.pyplot as plt\n",
    "def show_train_history(train_history,train,validation):\n",
    "    plt.plot(train_history.history[train])\n",
    "    plt.plot(train_history.history[validation])\n",
    "    plt.title('Train History')\n",
    "    plt.ylabel(train)\n",
    "    plt.xlabel('Epoch')\n",
    "    plt.legend(['train', 'validation'], loc='upper left')\n",
    "    plt.show()"
   ]
  },
  {
   "cell_type": "code",
   "execution_count": 56,
   "metadata": {
    "collapsed": false
   },
   "outputs": [
    {
     "data": {
      "image/png": "[encoded data removed]",
      "text/plain": [
       "<matplotlib.figure.Figure at 0x7fa6023af9b0>"
      ]
     },
     "metadata": {},
     "output_type": "display_data"
    }
   ],
   "source": [
    "show_train_history(train_history,'acc','val_acc')"
   ]
  },
  {
   "cell_type": "code",
   "execution_count": 57,
   "metadata": {
    "collapsed": false
   },
   "outputs": [
    {
     "data": {
      "image/png": "[encoded data removed]",
      "text/plain": [
       "<matplotlib.figure.Figure at 0x7fa602323208>"
      ]
     },
     "metadata": {},
     "output_type": "display_data"
    }
   ],
   "source": [
    "show_train_history(train_history,'loss','val_loss')"
   ]
  },
  {
   "cell_type": "code",
   "execution_count": 58,
   "metadata": {
    "collapsed": false
   },
   "outputs": [
    {
     "name": "stdout",
     "output_type": "stream",
     "text": [
      "19702/19702 [==============================] - 1s 33us/step\n"
     ]
    }
   ],
   "source": [
    "scores = model.evaluate(x=test_Features, \n",
    "                        y=test_Label)"
   ]
  },
  {
   "cell_type": "code",
   "execution_count": 59,
   "metadata": {
    "collapsed": false
   },
   "outputs": [
    {
     "data": {
      "text/plain": [
       "0.9887828646837884"
      ]
     },
     "execution_count": 59,
     "metadata": {},
     "output_type": "execute_result"
    }
   ],
   "source": [
    "scores[1]"
   ]
  }
 ],
 "metadata": {
  "anaconda-cloud": {},
  "kernelspec": {
   "display_name": "Python [default]",
   "language": "python",
   "name": "python3"
  },
  "language_info": {
   "codemirror_mode": {
    "name": "ipython",
    "version": 3
   },
   "file_extension": ".py",
   "mimetype": "text/x-python",
   "name": "python",
   "nbconvert_exporter": "python",
   "pygments_lexer": "ipython3",
   "version": "3.5.2"
  }
 },
 "nbformat": 4,
 "nbformat_minor": 1
}
