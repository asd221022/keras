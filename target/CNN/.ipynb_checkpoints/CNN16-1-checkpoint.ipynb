{
 "cells": [
  {
   "cell_type": "code",
   "execution_count": 1,
   "metadata": {
    "collapsed": false
   },
   "outputs": [],
   "source": [
    "import numpy \n",
    "import pandas as pd\n",
    "from sklearn.preprocessing import StandardScaler\n",
    "from sklearn.model_selection import train_test_split\n",
    "numpy.random.seed(10)"
   ]
  },
  {
   "cell_type": "code",
   "execution_count": 2,
   "metadata": {
    "collapsed": false
   },
   "outputs": [],
   "source": [
    "data = pd.read_csv(\"target.csv\")"
   ]
  },
  {
   "cell_type": "code",
   "execution_count": 3,
   "metadata": {
    "collapsed": true
   },
   "outputs": [],
   "source": [
    "data=data.drop(['Unnamed: 7'], axis=1)\n",
    "data=data.drop(['customer_id'], axis=1)"
   ]
  },
  {
   "cell_type": "code",
   "execution_count": 4,
   "metadata": {
    "collapsed": true
   },
   "outputs": [],
   "source": [
    "data = data.dropna(how='any')"
   ]
  },
  {
   "cell_type": "code",
   "execution_count": 5,
   "metadata": {
    "collapsed": true
   },
   "outputs": [],
   "source": [
    "data['res_type']= data['res_type'].map({'CN':0, 'CO': 1, 'RE': 2, 'TO': 3,'SI': 4}).astype(int)"
   ]
  },
  {
   "cell_type": "code",
   "execution_count": 6,
   "metadata": {
    "collapsed": true
   },
   "outputs": [],
   "source": [
    "data=pd.get_dummies(data=data,columns=['geo_group'])"
   ]
  },
  {
   "cell_type": "code",
   "execution_count": 7,
   "metadata": {
    "collapsed": false
   },
   "outputs": [],
   "source": [
    "X = data.drop(['res_type'], axis=1).values.astype('float64')"
   ]
  },
  {
   "cell_type": "code",
   "execution_count": 8,
   "metadata": {
    "collapsed": false
   },
   "outputs": [],
   "source": [
    "Y = data['res_type'].values.astype('int64')"
   ]
  },
  {
   "cell_type": "code",
   "execution_count": 9,
   "metadata": {
    "collapsed": false
   },
   "outputs": [
    {
     "data": {
      "text/plain": [
       "78804"
      ]
     },
     "execution_count": 9,
     "metadata": {},
     "output_type": "execute_result"
    }
   ],
   "source": [
    "X = StandardScaler().fit_transform(X)\n",
    "train_Features, test_Features, train_Label, test_Label = train_test_split(X, Y, test_size=0.2, random_state=True) \n",
    "len(train_Features)"
   ]
  },
  {
   "cell_type": "code",
   "execution_count": 10,
   "metadata": {
    "collapsed": true
   },
   "outputs": [],
   "source": [
    "train_Features = train_Features.reshape((train_Features.shape[0], train_Features.shape[1], 1))"
   ]
  },
  {
   "cell_type": "code",
   "execution_count": 11,
   "metadata": {
    "collapsed": true
   },
   "outputs": [],
   "source": [
    "test_Features = test_Features.reshape((test_Features.shape[0], test_Features.shape[1], 1))"
   ]
  },
  {
   "cell_type": "code",
   "execution_count": 12,
   "metadata": {
    "collapsed": false
   },
   "outputs": [
    {
     "name": "stderr",
     "output_type": "stream",
     "text": [
      "Using TensorFlow backend.\n"
     ]
    }
   ],
   "source": [
    "from keras.utils import np_utils\n",
    "train_Label=np_utils.to_categorical(train_Label)\n",
    "test_Label=np_utils.to_categorical(test_Label)"
   ]
  },
  {
   "cell_type": "code",
   "execution_count": 13,
   "metadata": {
    "collapsed": false
   },
   "outputs": [],
   "source": [
    "from keras.models import Sequential\n",
    "from keras.layers import Dense,Dropout,Flatten,Conv1D,MaxPooling1D\n",
    "from keras.layers.embeddings import Embedding\n",
    "from keras.callbacks import EarlyStopping\n",
    "early_stopping = EarlyStopping(monitor='val_loss', patience=2)"
   ]
  },
  {
   "cell_type": "code",
   "execution_count": 14,
   "metadata": {
    "collapsed": true
   },
   "outputs": [],
   "source": [
    "model = Sequential()"
   ]
  },
  {
   "cell_type": "code",
   "execution_count": 15,
   "metadata": {
    "collapsed": false
   },
   "outputs": [],
   "source": [
    "model.add(Conv1D(filters=16,\n",
    "                 kernel_size=1,\n",
    "                 padding='valid',\n",
    "                 input_shape=(8,1), \n",
    "                 activation='relu'))"
   ]
  },
  {
   "cell_type": "code",
   "execution_count": 16,
   "metadata": {
    "collapsed": true
   },
   "outputs": [],
   "source": [
    "model.add(MaxPooling1D(pool_size=1))"
   ]
  },
  {
   "cell_type": "code",
   "execution_count": 17,
   "metadata": {
    "collapsed": true
   },
   "outputs": [],
   "source": [
    "model.add(Flatten())"
   ]
  },
  {
   "cell_type": "code",
   "execution_count": 18,
   "metadata": {
    "collapsed": true
   },
   "outputs": [],
   "source": [
    "model.add(Dense(8, activation='tanh'))"
   ]
  },
  {
   "cell_type": "code",
   "execution_count": 19,
   "metadata": {
    "collapsed": true
   },
   "outputs": [],
   "source": [
    "model.add(Dense(5,activation='softmax'))"
   ]
  },
  {
   "cell_type": "code",
   "execution_count": 20,
   "metadata": {
    "collapsed": false
   },
   "outputs": [
    {
     "name": "stdout",
     "output_type": "stream",
     "text": [
      "_________________________________________________________________\n",
      "Layer (type)                 Output Shape              Param #   \n",
      "=================================================================\n",
      "conv1d_1 (Conv1D)            (None, 8, 16)             32        \n",
      "_________________________________________________________________\n",
      "max_pooling1d_1 (MaxPooling1 (None, 8, 16)             0         \n",
      "_________________________________________________________________\n",
      "flatten_1 (Flatten)          (None, 128)               0         \n",
      "_________________________________________________________________\n",
      "dense_1 (Dense)              (None, 8)                 1032      \n",
      "_________________________________________________________________\n",
      "dense_2 (Dense)              (None, 5)                 45        \n",
      "=================================================================\n",
      "Total params: 1,109\n",
      "Trainable params: 1,109\n",
      "Non-trainable params: 0\n",
      "_________________________________________________________________\n"
     ]
    }
   ],
   "source": [
    "model.summary()"
   ]
  },
  {
   "cell_type": "code",
   "execution_count": 21,
   "metadata": {
    "collapsed": false
   },
   "outputs": [],
   "source": [
    "model.compile(loss='categorical_crossentropy', \n",
    "              optimizer='adam', metrics=['accuracy'])"
   ]
  },
  {
   "cell_type": "code",
   "execution_count": 22,
   "metadata": {
    "collapsed": false
   },
   "outputs": [
    {
     "name": "stdout",
     "output_type": "stream",
     "text": [
      "Train on 63043 samples, validate on 15761 samples\n",
      "Epoch 1/30\n",
      "63043/63043 [==============================] - 3s 53us/step - loss: 1.4683 - acc: 0.3977 - val_loss: 1.2946 - val_acc: 0.5794\n",
      "Epoch 2/30\n",
      "63043/63043 [==============================] - 2s 26us/step - loss: 1.1850 - acc: 0.6231 - val_loss: 1.0758 - val_acc: 0.6423\n",
      "Epoch 3/30\n",
      "63043/63043 [==============================] - 2s 27us/step - loss: 0.9700 - acc: 0.6722 - val_loss: 0.8697 - val_acc: 0.7062\n",
      "Epoch 4/30\n",
      "63043/63043 [==============================] - 1s 20us/step - loss: 0.7818 - acc: 0.7412 - val_loss: 0.7039 - val_acc: 0.7706\n",
      "Epoch 5/30\n",
      "63043/63043 [==============================] - 2s 39us/step - loss: 0.6393 - acc: 0.7978 - val_loss: 0.5827 - val_acc: 0.8246\n",
      "Epoch 6/30\n",
      "63043/63043 [==============================] - 2s 38us/step - loss: 0.5345 - acc: 0.8409 - val_loss: 0.4929 - val_acc: 0.8565\n",
      "Epoch 7/30\n",
      "63043/63043 [==============================] - 2s 34us/step - loss: 0.4560 - acc: 0.8660 - val_loss: 0.4248 - val_acc: 0.8743\n",
      "Epoch 8/30\n",
      "63043/63043 [==============================] - 2s 30us/step - loss: 0.3962 - acc: 0.8824 - val_loss: 0.3721 - val_acc: 0.8949\n",
      "Epoch 9/30\n",
      "63043/63043 [==============================] - 2s 29us/step - loss: 0.3497 - acc: 0.9050 - val_loss: 0.3304 - val_acc: 0.9175\n",
      "Epoch 10/30\n",
      "63043/63043 [==============================] - 2s 31us/step - loss: 0.3122 - acc: 0.9214 - val_loss: 0.2980 - val_acc: 0.9271\n",
      "Epoch 11/30\n",
      "63043/63043 [==============================] - 2s 30us/step - loss: 0.2820 - acc: 0.9351 - val_loss: 0.2684 - val_acc: 0.9470\n",
      "Epoch 12/30\n",
      "63043/63043 [==============================] - 2s 30us/step - loss: 0.2558 - acc: 0.9486 - val_loss: 0.2444 - val_acc: 0.9518\n",
      "Epoch 13/30\n",
      "63043/63043 [==============================] - 1s 21us/step - loss: 0.2335 - acc: 0.9576 - val_loss: 0.2238 - val_acc: 0.9654\n",
      "Epoch 14/30\n",
      "63043/63043 [==============================] - 1s 19us/step - loss: 0.2142 - acc: 0.9664 - val_loss: 0.2059 - val_acc: 0.9742\n",
      "Epoch 15/30\n",
      "63043/63043 [==============================] - 2s 26us/step - loss: 0.1972 - acc: 0.9711 - val_loss: 0.1900 - val_acc: 0.9812\n",
      "Epoch 16/30\n",
      "63043/63043 [==============================] - 2s 30us/step - loss: 0.1817 - acc: 0.9777 - val_loss: 0.1746 - val_acc: 0.9850\n",
      "Epoch 17/30\n",
      "63043/63043 [==============================] - 2s 30us/step - loss: 0.1677 - acc: 0.9802 - val_loss: 0.1611 - val_acc: 0.9854\n",
      "Epoch 18/30\n",
      "63043/63043 [==============================] - 2s 26us/step - loss: 0.1559 - acc: 0.9826 - val_loss: 0.1498 - val_acc: 0.9855\n",
      "Epoch 19/30\n",
      "63043/63043 [==============================] - 2s 31us/step - loss: 0.1449 - acc: 0.9833 - val_loss: 0.1398 - val_acc: 0.9872\n",
      "Epoch 20/30\n",
      "63043/63043 [==============================] - 2s 31us/step - loss: 0.1352 - acc: 0.9859 - val_loss: 0.1304 - val_acc: 0.9879\n",
      "Epoch 21/30\n",
      "63043/63043 [==============================] - 2s 30us/step - loss: 0.1260 - acc: 0.9881 - val_loss: 0.1221 - val_acc: 0.9890\n",
      "Epoch 22/30\n",
      "63043/63043 [==============================] - 2s 26us/step - loss: 0.1180 - acc: 0.9888 - val_loss: 0.1146 - val_acc: 0.9884\n",
      "Epoch 23/30\n",
      "63043/63043 [==============================] - 2s 31us/step - loss: 0.1111 - acc: 0.9883 - val_loss: 0.1080 - val_acc: 0.9883\n",
      "Epoch 24/30\n",
      "63043/63043 [==============================] - 2s 31us/step - loss: 0.1045 - acc: 0.9904 - val_loss: 0.1009 - val_acc: 0.9906\n",
      "Epoch 25/30\n",
      "63043/63043 [==============================] - 2s 30us/step - loss: 0.0983 - acc: 0.9912 - val_loss: 0.0950 - val_acc: 0.9903\n",
      "Epoch 26/30\n",
      "63043/63043 [==============================] - 1s 22us/step - loss: 0.0929 - acc: 0.9913 - val_loss: 0.0909 - val_acc: 0.9904\n",
      "Epoch 27/30\n",
      "63043/63043 [==============================] - 1s 19us/step - loss: 0.0877 - acc: 0.9923 - val_loss: 0.0864 - val_acc: 0.9900\n",
      "Epoch 28/30\n",
      "63043/63043 [==============================] - 1s 24us/step - loss: 0.0836 - acc: 0.9918 - val_loss: 0.0814 - val_acc: 0.9907\n",
      "Epoch 29/30\n",
      "63043/63043 [==============================] - 2s 30us/step - loss: 0.0799 - acc: 0.9908 - val_loss: 0.0771 - val_acc: 0.9935\n",
      "Epoch 30/30\n",
      "63043/63043 [==============================] - 2s 30us/step - loss: 0.0758 - acc: 0.9921 - val_loss: 0.0733 - val_acc: 0.9928\n"
     ]
    }
   ],
   "source": [
    "train_history =model.fit(x=train_Features, \n",
    "                         y=train_Label, \n",
    "                         validation_split=0.2, \n",
    "                         epochs=30, \n",
    "                         batch_size=1500,verbose=1,callbacks=[early_stopping])"
   ]
  },
  {
   "cell_type": "code",
   "execution_count": 23,
   "metadata": {
    "collapsed": true
   },
   "outputs": [],
   "source": [
    "import matplotlib.pyplot as plt\n",
    "def show_train_history(train_history,train,validation):\n",
    "    plt.plot(train_history.history[train])\n",
    "    plt.plot(train_history.history[validation])\n",
    "    plt.title('Train History')\n",
    "    plt.ylabel(train)\n",
    "    plt.xlabel('Epoch')\n",
    "    plt.legend(['train', 'validation'], loc='upper left')\n",
    "    plt.show()"
   ]
  },
  {
   "cell_type": "code",
   "execution_count": 24,
   "metadata": {
    "collapsed": false
   },
   "outputs": [
    {
     "data": {
      "image/png": "[encoded data removed]",
      "text/plain": [
       "<matplotlib.figure.Figure at 0x7f9e8e52e2e8>"
      ]
     },
     "metadata": {},
     "output_type": "display_data"
    }
   ],
   "source": [
    "show_train_history(train_history,'acc','val_acc')"
   ]
  },
  {
   "cell_type": "code",
   "execution_count": 25,
   "metadata": {
    "collapsed": false
   },
   "outputs": [
    {
     "data": {
      "image/png": "[encoded data removed]",
      "text/plain": [
       "<matplotlib.figure.Figure at 0x7f9e8e52e780>"
      ]
     },
     "metadata": {},
     "output_type": "display_data"
    }
   ],
   "source": [
    "show_train_history(train_history,'loss','val_loss')"
   ]
  },
  {
   "cell_type": "code",
   "execution_count": 26,
   "metadata": {
    "collapsed": false
   },
   "outputs": [
    {
     "name": "stdout",
     "output_type": "stream",
     "text": [
      "19702/19702 [==============================] - 1s 68us/step\n"
     ]
    }
   ],
   "source": [
    "scores = model.evaluate(x=test_Features, \n",
    "                        y=test_Label)"
   ]
  },
  {
   "cell_type": "code",
   "execution_count": 27,
   "metadata": {
    "collapsed": false
   },
   "outputs": [
    {
     "data": {
      "text/plain": [
       "0.9922850472033297"
      ]
     },
     "execution_count": 27,
     "metadata": {},
     "output_type": "execute_result"
    }
   ],
   "source": [
    "scores[1]"
   ]
  }
 ],
 "metadata": {
  "anaconda-cloud": {},
  "kernelspec": {
   "display_name": "Python [default]",
   "language": "python",
   "name": "python3"
  },
  "language_info": {
   "codemirror_mode": {
    "name": "ipython",
    "version": 3
   },
   "file_extension": ".py",
   "mimetype": "text/x-python",
   "name": "python",
   "nbconvert_exporter": "python",
   "pygments_lexer": "ipython3",
   "version": "3.5.2"
  }
 },
 "nbformat": 4,
 "nbformat_minor": 1
}
