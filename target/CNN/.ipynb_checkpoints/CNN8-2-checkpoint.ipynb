{
 "cells": [
  {
   "cell_type": "code",
   "execution_count": 1,
   "metadata": {
    "collapsed": false
   },
   "outputs": [],
   "source": [
    "import numpy \n",
    "import pandas as pd\n",
    "from sklearn.preprocessing import StandardScaler\n",
    "from sklearn.model_selection import train_test_split\n",
    "numpy.random.seed(10)"
   ]
  },
  {
   "cell_type": "code",
   "execution_count": 2,
   "metadata": {
    "collapsed": false
   },
   "outputs": [],
   "source": [
    "data = pd.read_csv(\"target.csv\")"
   ]
  },
  {
   "cell_type": "code",
   "execution_count": 3,
   "metadata": {
    "collapsed": true
   },
   "outputs": [],
   "source": [
    "data=data.drop(['Unnamed: 7'], axis=1)\n",
    "data=data.drop(['customer_id'], axis=1)"
   ]
  },
  {
   "cell_type": "code",
   "execution_count": 4,
   "metadata": {
    "collapsed": true
   },
   "outputs": [],
   "source": [
    "data = data.dropna(how='any')"
   ]
  },
  {
   "cell_type": "code",
   "execution_count": 5,
   "metadata": {
    "collapsed": true
   },
   "outputs": [],
   "source": [
    "data['res_type']= data['res_type'].map({'CN':0, 'CO': 1, 'RE': 2, 'TO': 3,'SI': 4}).astype(int)"
   ]
  },
  {
   "cell_type": "code",
   "execution_count": 6,
   "metadata": {
    "collapsed": true
   },
   "outputs": [],
   "source": [
    "data=pd.get_dummies(data=data,columns=['geo_group'])"
   ]
  },
  {
   "cell_type": "code",
   "execution_count": 7,
   "metadata": {
    "collapsed": false
   },
   "outputs": [],
   "source": [
    "X = data.drop(['res_type'], axis=1).values.astype('float64')"
   ]
  },
  {
   "cell_type": "code",
   "execution_count": 8,
   "metadata": {
    "collapsed": false
   },
   "outputs": [],
   "source": [
    "Y = data['res_type'].values.astype('int64')"
   ]
  },
  {
   "cell_type": "code",
   "execution_count": 9,
   "metadata": {
    "collapsed": false
   },
   "outputs": [
    {
     "data": {
      "text/plain": [
       "78804"
      ]
     },
     "execution_count": 9,
     "metadata": {},
     "output_type": "execute_result"
    }
   ],
   "source": [
    "X = StandardScaler().fit_transform(X)\n",
    "train_Features, test_Features, train_Label, test_Label = train_test_split(X, Y, test_size=0.2, random_state=True) \n",
    "len(train_Features)"
   ]
  },
  {
   "cell_type": "code",
   "execution_count": 10,
   "metadata": {
    "collapsed": true
   },
   "outputs": [],
   "source": [
    "train_Features = train_Features.reshape((train_Features.shape[0], train_Features.shape[1], 1))"
   ]
  },
  {
   "cell_type": "code",
   "execution_count": 11,
   "metadata": {
    "collapsed": true
   },
   "outputs": [],
   "source": [
    "test_Features = test_Features.reshape((test_Features.shape[0], test_Features.shape[1], 1))"
   ]
  },
  {
   "cell_type": "code",
   "execution_count": 12,
   "metadata": {
    "collapsed": false
   },
   "outputs": [
    {
     "name": "stderr",
     "output_type": "stream",
     "text": [
      "Using TensorFlow backend.\n"
     ]
    }
   ],
   "source": [
    "from keras.utils import np_utils\n",
    "train_Label=np_utils.to_categorical(train_Label)\n",
    "test_Label=np_utils.to_categorical(test_Label)"
   ]
  },
  {
   "cell_type": "code",
   "execution_count": 13,
   "metadata": {
    "collapsed": false
   },
   "outputs": [],
   "source": [
    "from keras.models import Sequential\n",
    "from keras.layers import Dense,Dropout,Flatten,Conv1D,MaxPooling1D\n",
    "from keras.layers.embeddings import Embedding\n",
    "from keras.callbacks import EarlyStopping\n",
    "early_stopping = EarlyStopping(monitor='val_loss', patience=2)"
   ]
  },
  {
   "cell_type": "code",
   "execution_count": 14,
   "metadata": {
    "collapsed": true
   },
   "outputs": [],
   "source": [
    "model = Sequential()"
   ]
  },
  {
   "cell_type": "code",
   "execution_count": 15,
   "metadata": {
    "collapsed": true
   },
   "outputs": [],
   "source": [
    "model.add(Conv1D(filters=8*2,\n",
    "                 kernel_size=1,\n",
    "                 padding='valid',\n",
    "                 input_shape=(8,1), \n",
    "                 activation='relu'))"
   ]
  },
  {
   "cell_type": "code",
   "execution_count": 16,
   "metadata": {
    "collapsed": true
   },
   "outputs": [],
   "source": [
    "model.add(MaxPooling1D(pool_size=1))"
   ]
  },
  {
   "cell_type": "code",
   "execution_count": 17,
   "metadata": {
    "collapsed": false
   },
   "outputs": [],
   "source": [
    "model.add(Conv1D(filters=8,\n",
    "                 kernel_size=1,\n",
    "                 padding='valid',\n",
    "                 activation='relu'))"
   ]
  },
  {
   "cell_type": "code",
   "execution_count": 18,
   "metadata": {
    "collapsed": true
   },
   "outputs": [],
   "source": [
    "model.add(MaxPooling1D(pool_size=1))"
   ]
  },
  {
   "cell_type": "code",
   "execution_count": 19,
   "metadata": {
    "collapsed": true
   },
   "outputs": [],
   "source": [
    "model.add(Flatten())"
   ]
  },
  {
   "cell_type": "code",
   "execution_count": 20,
   "metadata": {
    "collapsed": true
   },
   "outputs": [],
   "source": [
    "model.add(Dense(8, activation='tanh'))"
   ]
  },
  {
   "cell_type": "code",
   "execution_count": 21,
   "metadata": {
    "collapsed": true
   },
   "outputs": [],
   "source": [
    "model.add(Dense(5,activation='softmax'))"
   ]
  },
  {
   "cell_type": "code",
   "execution_count": 22,
   "metadata": {
    "collapsed": false
   },
   "outputs": [
    {
     "name": "stdout",
     "output_type": "stream",
     "text": [
      "_________________________________________________________________\n",
      "Layer (type)                 Output Shape              Param #   \n",
      "=================================================================\n",
      "conv1d_1 (Conv1D)            (None, 8, 16)             32        \n",
      "_________________________________________________________________\n",
      "max_pooling1d_1 (MaxPooling1 (None, 8, 16)             0         \n",
      "_________________________________________________________________\n",
      "conv1d_2 (Conv1D)            (None, 8, 8)              136       \n",
      "_________________________________________________________________\n",
      "max_pooling1d_2 (MaxPooling1 (None, 8, 8)              0         \n",
      "_________________________________________________________________\n",
      "flatten_1 (Flatten)          (None, 64)                0         \n",
      "_________________________________________________________________\n",
      "dense_1 (Dense)              (None, 8)                 520       \n",
      "_________________________________________________________________\n",
      "dense_2 (Dense)              (None, 5)                 45        \n",
      "=================================================================\n",
      "Total params: 733\n",
      "Trainable params: 733\n",
      "Non-trainable params: 0\n",
      "_________________________________________________________________\n"
     ]
    }
   ],
   "source": [
    "model.summary()"
   ]
  },
  {
   "cell_type": "code",
   "execution_count": 23,
   "metadata": {
    "collapsed": false
   },
   "outputs": [],
   "source": [
    "model.compile(loss='categorical_crossentropy', \n",
    "              optimizer='adam', metrics=['accuracy'])"
   ]
  },
  {
   "cell_type": "code",
   "execution_count": 24,
   "metadata": {
    "collapsed": false
   },
   "outputs": [
    {
     "name": "stdout",
     "output_type": "stream",
     "text": [
      "Train on 63043 samples, validate on 15761 samples\n",
      "Epoch 1/30\n",
      "63043/63043 [==============================] - 2s 34us/step - loss: 1.4604 - acc: 0.4014 - val_loss: 1.3349 - val_acc: 0.4479\n",
      "Epoch 2/30\n",
      "63043/63043 [==============================] - 2s 29us/step - loss: 1.2376 - acc: 0.5364 - val_loss: 1.1239 - val_acc: 0.6087\n",
      "Epoch 3/30\n",
      "63043/63043 [==============================] - 3s 41us/step - loss: 1.0063 - acc: 0.6176 - val_loss: 0.8945 - val_acc: 0.6452\n",
      "Epoch 4/30\n",
      "63043/63043 [==============================] - 2s 37us/step - loss: 0.8076 - acc: 0.6599 - val_loss: 0.7321 - val_acc: 0.6873\n",
      "Epoch 5/30\n",
      "63043/63043 [==============================] - 3s 43us/step - loss: 0.6644 - acc: 0.7486 - val_loss: 0.5996 - val_acc: 0.7904\n",
      "Epoch 6/30\n",
      "63043/63043 [==============================] - 2s 35us/step - loss: 0.5383 - acc: 0.8349 - val_loss: 0.4812 - val_acc: 0.8705\n",
      "Epoch 7/30\n",
      "63043/63043 [==============================] - 3s 40us/step - loss: 0.4340 - acc: 0.8840 - val_loss: 0.3932 - val_acc: 0.8897\n",
      "Epoch 8/30\n",
      "63043/63043 [==============================] - 3s 41us/step - loss: 0.3593 - acc: 0.9016 - val_loss: 0.3302 - val_acc: 0.9091\n",
      "Epoch 9/30\n",
      "63043/63043 [==============================] - 2s 36us/step - loss: 0.3090 - acc: 0.9090 - val_loss: 0.2903 - val_acc: 0.9093\n",
      "Epoch 10/30\n",
      "63043/63043 [==============================] - 2s 39us/step - loss: 0.2737 - acc: 0.9169 - val_loss: 0.2585 - val_acc: 0.9272\n",
      "Epoch 11/30\n",
      "63043/63043 [==============================] - 2s 37us/step - loss: 0.2468 - acc: 0.9299 - val_loss: 0.2356 - val_acc: 0.9379\n",
      "Epoch 12/30\n",
      "63043/63043 [==============================] - 2s 34us/step - loss: 0.2257 - acc: 0.9390 - val_loss: 0.2158 - val_acc: 0.9456\n",
      "Epoch 13/30\n",
      "63043/63043 [==============================] - 2s 30us/step - loss: 0.2073 - acc: 0.9489 - val_loss: 0.1986 - val_acc: 0.9553\n",
      "Epoch 14/30\n",
      "63043/63043 [==============================] - 2s 29us/step - loss: 0.1905 - acc: 0.9595 - val_loss: 0.1820 - val_acc: 0.9660\n",
      "Epoch 15/30\n",
      "63043/63043 [==============================] - 2s 29us/step - loss: 0.1748 - acc: 0.9673 - val_loss: 0.1664 - val_acc: 0.9789\n",
      "Epoch 16/30\n",
      "63043/63043 [==============================] - 2s 33us/step - loss: 0.1596 - acc: 0.9762 - val_loss: 0.1516 - val_acc: 0.9817\n",
      "Epoch 17/30\n",
      "63043/63043 [==============================] - 1s 20us/step - loss: 0.1458 - acc: 0.9803 - val_loss: 0.1391 - val_acc: 0.9818\n",
      "Epoch 18/30\n",
      "63043/63043 [==============================] - 1s 19us/step - loss: 0.1336 - acc: 0.9829 - val_loss: 0.1268 - val_acc: 0.9874\n",
      "Epoch 19/30\n",
      "63043/63043 [==============================] - 2s 37us/step - loss: 0.1231 - acc: 0.9862 - val_loss: 0.1171 - val_acc: 0.9893\n",
      "Epoch 20/30\n",
      "63043/63043 [==============================] - 1s 22us/step - loss: 0.1137 - acc: 0.9873 - val_loss: 0.1087 - val_acc: 0.9900\n",
      "Epoch 21/30\n",
      "63043/63043 [==============================] - 1s 20us/step - loss: 0.1052 - acc: 0.9889 - val_loss: 0.1004 - val_acc: 0.9905\n",
      "Epoch 22/30\n",
      "63043/63043 [==============================] - 1s 11us/step - loss: 0.0981 - acc: 0.9894 - val_loss: 0.0943 - val_acc: 0.9896\n",
      "Epoch 23/30\n",
      "63043/63043 [==============================] - 1s 17us/step - loss: 0.0917 - acc: 0.9901 - val_loss: 0.0882 - val_acc: 0.9914\n",
      "Epoch 24/30\n",
      "63043/63043 [==============================] - 1s 17us/step - loss: 0.0868 - acc: 0.9904 - val_loss: 0.0822 - val_acc: 0.9930\n",
      "Epoch 25/30\n",
      "63043/63043 [==============================] - 2s 31us/step - loss: 0.0805 - acc: 0.9920 - val_loss: 0.0778 - val_acc: 0.9899\n",
      "Epoch 26/30\n",
      "63043/63043 [==============================] - 2s 39us/step - loss: 0.0765 - acc: 0.9915 - val_loss: 0.0746 - val_acc: 0.9923\n",
      "Epoch 27/30\n",
      "63043/63043 [==============================] - 2s 38us/step - loss: 0.0726 - acc: 0.9913 - val_loss: 0.0696 - val_acc: 0.9924\n",
      "Epoch 28/30\n",
      "63043/63043 [==============================] - 2s 38us/step - loss: 0.0687 - acc: 0.9919 - val_loss: 0.0668 - val_acc: 0.9924\n",
      "Epoch 29/30\n",
      "63043/63043 [==============================] - 2s 39us/step - loss: 0.0654 - acc: 0.9922 - val_loss: 0.0632 - val_acc: 0.9940\n",
      "Epoch 30/30\n",
      "63043/63043 [==============================] - 2s 38us/step - loss: 0.0629 - acc: 0.9916 - val_loss: 0.0604 - val_acc: 0.9918\n"
     ]
    }
   ],
   "source": [
    "train_history =model.fit(x=train_Features, \n",
    "                         y=train_Label, \n",
    "                         validation_split=0.2, \n",
    "                         epochs=30, \n",
    "                         batch_size=1500,verbose=1,callbacks=[early_stopping])"
   ]
  },
  {
   "cell_type": "code",
   "execution_count": 25,
   "metadata": {
    "collapsed": true
   },
   "outputs": [],
   "source": [
    "import matplotlib.pyplot as plt\n",
    "def show_train_history(train_history,train,validation):\n",
    "    plt.plot(train_history.history[train])\n",
    "    plt.plot(train_history.history[validation])\n",
    "    plt.title('Train History')\n",
    "    plt.ylabel(train)\n",
    "    plt.xlabel('Epoch')\n",
    "    plt.legend(['train', 'validation'], loc='upper left')\n",
    "    plt.show()"
   ]
  },
  {
   "cell_type": "code",
   "execution_count": 26,
   "metadata": {
    "collapsed": false
   },
   "outputs": [
    {
     "data": {
      "image/png": "[encoded data removed]",
      "text/plain": [
       "<matplotlib.figure.Figure at 0x7f414d5b8f98>"
      ]
     },
     "metadata": {},
     "output_type": "display_data"
    }
   ],
   "source": [
    "show_train_history(train_history,'acc','val_acc')"
   ]
  },
  {
   "cell_type": "code",
   "execution_count": 27,
   "metadata": {
    "collapsed": false
   },
   "outputs": [
    {
     "data": {
      "image/png": "[encoded data removed]",
      "text/plain": [
       "<matplotlib.figure.Figure at 0x7f41458e9080>"
      ]
     },
     "metadata": {},
     "output_type": "display_data"
    }
   ],
   "source": [
    "show_train_history(train_history,'loss','val_loss')"
   ]
  },
  {
   "cell_type": "code",
   "execution_count": 28,
   "metadata": {
    "collapsed": false
   },
   "outputs": [
    {
     "name": "stdout",
     "output_type": "stream",
     "text": [
      "19702/19702 [==============================] - 1s 44us/step\n"
     ]
    }
   ],
   "source": [
    "scores = model.evaluate(x=test_Features, \n",
    "                        y=test_Label)"
   ]
  },
  {
   "cell_type": "code",
   "execution_count": 29,
   "metadata": {
    "collapsed": false
   },
   "outputs": [
    {
     "data": {
      "text/plain": [
       "0.9921835346665313"
      ]
     },
     "execution_count": 29,
     "metadata": {},
     "output_type": "execute_result"
    }
   ],
   "source": [
    "scores[1]"
   ]
  }
 ],
 "metadata": {
  "anaconda-cloud": {},
  "kernelspec": {
   "display_name": "Python [default]",
   "language": "python",
   "name": "python3"
  },
  "language_info": {
   "codemirror_mode": {
    "name": "ipython",
    "version": 3
   },
   "file_extension": ".py",
   "mimetype": "text/x-python",
   "name": "python",
   "nbconvert_exporter": "python",
   "pygments_lexer": "ipython3",
   "version": "3.5.2"
  }
 },
 "nbformat": 4,
 "nbformat_minor": 1
}
