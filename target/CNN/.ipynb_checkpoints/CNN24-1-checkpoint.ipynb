{
 "cells": [
  {
   "cell_type": "code",
   "execution_count": 1,
   "metadata": {
    "collapsed": false
   },
   "outputs": [],
   "source": [
    "import numpy \n",
    "import pandas as pd\n",
    "from sklearn.preprocessing import StandardScaler\n",
    "from sklearn.model_selection import train_test_split\n",
    "numpy.random.seed(10)"
   ]
  },
  {
   "cell_type": "code",
   "execution_count": 2,
   "metadata": {
    "collapsed": false
   },
   "outputs": [],
   "source": [
    "data = pd.read_csv(\"target.csv\")"
   ]
  },
  {
   "cell_type": "code",
   "execution_count": 3,
   "metadata": {
    "collapsed": true
   },
   "outputs": [],
   "source": [
    "data=data.drop(['Unnamed: 7'], axis=1)\n",
    "data=data.drop(['customer_id'], axis=1)"
   ]
  },
  {
   "cell_type": "code",
   "execution_count": 4,
   "metadata": {
    "collapsed": true
   },
   "outputs": [],
   "source": [
    "data = data.dropna(how='any')"
   ]
  },
  {
   "cell_type": "code",
   "execution_count": 5,
   "metadata": {
    "collapsed": true
   },
   "outputs": [],
   "source": [
    "data['res_type']= data['res_type'].map({'CN':0, 'CO': 1, 'RE': 2, 'TO': 3,'SI': 4}).astype(int)"
   ]
  },
  {
   "cell_type": "code",
   "execution_count": 6,
   "metadata": {
    "collapsed": true
   },
   "outputs": [],
   "source": [
    "data=pd.get_dummies(data=data,columns=['geo_group'])"
   ]
  },
  {
   "cell_type": "code",
   "execution_count": 7,
   "metadata": {
    "collapsed": false
   },
   "outputs": [],
   "source": [
    "X = data.drop(['res_type'], axis=1).values.astype('float64')"
   ]
  },
  {
   "cell_type": "code",
   "execution_count": 8,
   "metadata": {
    "collapsed": false
   },
   "outputs": [],
   "source": [
    "Y = data['res_type'].values.astype('int64')"
   ]
  },
  {
   "cell_type": "code",
   "execution_count": 9,
   "metadata": {
    "collapsed": false
   },
   "outputs": [
    {
     "data": {
      "text/plain": [
       "78804"
      ]
     },
     "execution_count": 9,
     "metadata": {},
     "output_type": "execute_result"
    }
   ],
   "source": [
    "X = StandardScaler().fit_transform(X)\n",
    "train_Features, test_Features, train_Label, test_Label = train_test_split(X, Y, test_size=0.2, random_state=True) \n",
    "len(train_Features)"
   ]
  },
  {
   "cell_type": "code",
   "execution_count": 10,
   "metadata": {
    "collapsed": true
   },
   "outputs": [],
   "source": [
    "train_Features = train_Features.reshape((train_Features.shape[0], train_Features.shape[1], 1))"
   ]
  },
  {
   "cell_type": "code",
   "execution_count": 11,
   "metadata": {
    "collapsed": true
   },
   "outputs": [],
   "source": [
    "test_Features = test_Features.reshape((test_Features.shape[0], test_Features.shape[1], 1))"
   ]
  },
  {
   "cell_type": "code",
   "execution_count": 12,
   "metadata": {
    "collapsed": false
   },
   "outputs": [
    {
     "name": "stderr",
     "output_type": "stream",
     "text": [
      "Using TensorFlow backend.\n"
     ]
    }
   ],
   "source": [
    "from keras.utils import np_utils\n",
    "train_Label=np_utils.to_categorical(train_Label)\n",
    "test_Label=np_utils.to_categorical(test_Label)"
   ]
  },
  {
   "cell_type": "code",
   "execution_count": 13,
   "metadata": {
    "collapsed": false
   },
   "outputs": [],
   "source": [
    "from keras.models import Sequential\n",
    "from keras.layers import Dense,Dropout,Flatten,Conv1D,MaxPooling1D\n",
    "from keras.layers.embeddings import Embedding\n",
    "from keras.callbacks import EarlyStopping\n",
    "early_stopping = EarlyStopping(monitor='val_loss', patience=2)"
   ]
  },
  {
   "cell_type": "code",
   "execution_count": 14,
   "metadata": {
    "collapsed": true
   },
   "outputs": [],
   "source": [
    "model = Sequential()"
   ]
  },
  {
   "cell_type": "code",
   "execution_count": 15,
   "metadata": {
    "collapsed": false
   },
   "outputs": [],
   "source": [
    "model.add(Conv1D(filters=24,\n",
    "                 kernel_size=1,\n",
    "                 padding='valid',\n",
    "                 input_shape=(8,1), \n",
    "                 activation='relu'))"
   ]
  },
  {
   "cell_type": "code",
   "execution_count": 16,
   "metadata": {
    "collapsed": true
   },
   "outputs": [],
   "source": [
    "model.add(MaxPooling1D(pool_size=1))"
   ]
  },
  {
   "cell_type": "code",
   "execution_count": 17,
   "metadata": {
    "collapsed": true
   },
   "outputs": [],
   "source": [
    "model.add(Flatten())"
   ]
  },
  {
   "cell_type": "code",
   "execution_count": 18,
   "metadata": {
    "collapsed": true
   },
   "outputs": [],
   "source": [
    "model.add(Dense(8, activation='tanh'))"
   ]
  },
  {
   "cell_type": "code",
   "execution_count": 19,
   "metadata": {
    "collapsed": true
   },
   "outputs": [],
   "source": [
    "model.add(Dense(5,activation='softmax'))"
   ]
  },
  {
   "cell_type": "code",
   "execution_count": 20,
   "metadata": {
    "collapsed": false
   },
   "outputs": [
    {
     "name": "stdout",
     "output_type": "stream",
     "text": [
      "_________________________________________________________________\n",
      "Layer (type)                 Output Shape              Param #   \n",
      "=================================================================\n",
      "conv1d_1 (Conv1D)            (None, 8, 24)             48        \n",
      "_________________________________________________________________\n",
      "max_pooling1d_1 (MaxPooling1 (None, 8, 24)             0         \n",
      "_________________________________________________________________\n",
      "flatten_1 (Flatten)          (None, 192)               0         \n",
      "_________________________________________________________________\n",
      "dense_1 (Dense)              (None, 8)                 1544      \n",
      "_________________________________________________________________\n",
      "dense_2 (Dense)              (None, 5)                 45        \n",
      "=================================================================\n",
      "Total params: 1,637\n",
      "Trainable params: 1,637\n",
      "Non-trainable params: 0\n",
      "_________________________________________________________________\n"
     ]
    }
   ],
   "source": [
    "model.summary()"
   ]
  },
  {
   "cell_type": "code",
   "execution_count": 21,
   "metadata": {
    "collapsed": false
   },
   "outputs": [],
   "source": [
    "model.compile(loss='categorical_crossentropy', \n",
    "              optimizer='adam', metrics=['accuracy'])"
   ]
  },
  {
   "cell_type": "code",
   "execution_count": 22,
   "metadata": {
    "collapsed": false
   },
   "outputs": [
    {
     "name": "stdout",
     "output_type": "stream",
     "text": [
      "Train on 63043 samples, validate on 15761 samples\n",
      "Epoch 1/30\n",
      "63043/63043 [==============================] - 2s 36us/step - loss: 1.3011 - acc: 0.5410 - val_loss: 1.1276 - val_acc: 0.6356\n",
      "Epoch 2/30\n",
      "63043/63043 [==============================] - 2s 27us/step - loss: 1.0079 - acc: 0.6590 - val_loss: 0.8965 - val_acc: 0.6807\n",
      "Epoch 3/30\n",
      "63043/63043 [==============================] - 1s 23us/step - loss: 0.8001 - acc: 0.7317 - val_loss: 0.7146 - val_acc: 0.7728\n",
      "Epoch 4/30\n",
      "63043/63043 [==============================] - 2s 26us/step - loss: 0.6429 - acc: 0.8016 - val_loss: 0.5793 - val_acc: 0.8380\n",
      "Epoch 5/30\n",
      "63043/63043 [==============================] - 2s 24us/step - loss: 0.5244 - acc: 0.8528 - val_loss: 0.4770 - val_acc: 0.8647\n",
      "Epoch 6/30\n",
      "63043/63043 [==============================] - 2s 26us/step - loss: 0.4367 - acc: 0.8753 - val_loss: 0.4025 - val_acc: 0.8846\n",
      "Epoch 7/30\n",
      "63043/63043 [==============================] - 2s 26us/step - loss: 0.3727 - acc: 0.8915 - val_loss: 0.3472 - val_acc: 0.8988\n",
      "Epoch 8/30\n",
      "63043/63043 [==============================] - 2s 28us/step - loss: 0.3248 - acc: 0.9099 - val_loss: 0.3052 - val_acc: 0.9245\n",
      "Epoch 9/30\n",
      "63043/63043 [==============================] - 2s 25us/step - loss: 0.2881 - acc: 0.9303 - val_loss: 0.2720 - val_acc: 0.9435\n",
      "Epoch 10/30\n",
      "63043/63043 [==============================] - 2s 30us/step - loss: 0.2577 - acc: 0.9438 - val_loss: 0.2461 - val_acc: 0.9510\n",
      "Epoch 11/30\n",
      "63043/63043 [==============================] - 2s 24us/step - loss: 0.2330 - acc: 0.9539 - val_loss: 0.2213 - val_acc: 0.9642\n",
      "Epoch 12/30\n",
      "63043/63043 [==============================] - 2s 28us/step - loss: 0.2110 - acc: 0.9648 - val_loss: 0.2007 - val_acc: 0.9692\n",
      "Epoch 13/30\n",
      "63043/63043 [==============================] - 1s 23us/step - loss: 0.1921 - acc: 0.9706 - val_loss: 0.1832 - val_acc: 0.9774\n",
      "Epoch 14/30\n",
      "63043/63043 [==============================] - 2s 25us/step - loss: 0.1756 - acc: 0.9776 - val_loss: 0.1681 - val_acc: 0.9822\n",
      "Epoch 15/30\n",
      "63043/63043 [==============================] - 2s 25us/step - loss: 0.1609 - acc: 0.9798 - val_loss: 0.1543 - val_acc: 0.9859\n",
      "Epoch 16/30\n",
      "63043/63043 [==============================] - 2s 24us/step - loss: 0.1473 - acc: 0.9852 - val_loss: 0.1407 - val_acc: 0.9885\n",
      "Epoch 17/30\n",
      "63043/63043 [==============================] - 2s 25us/step - loss: 0.1351 - acc: 0.9866 - val_loss: 0.1289 - val_acc: 0.9895\n",
      "Epoch 18/30\n",
      "63043/63043 [==============================] - 2s 24us/step - loss: 0.1252 - acc: 0.9868 - val_loss: 0.1197 - val_acc: 0.9878\n",
      "Epoch 19/30\n",
      "63043/63043 [==============================] - 2s 26us/step - loss: 0.1159 - acc: 0.9880 - val_loss: 0.1113 - val_acc: 0.9888\n",
      "Epoch 20/30\n",
      "63043/63043 [==============================] - 2s 29us/step - loss: 0.1078 - acc: 0.9884 - val_loss: 0.1034 - val_acc: 0.9890\n",
      "Epoch 21/30\n",
      "63043/63043 [==============================] - 2s 29us/step - loss: 0.1004 - acc: 0.9902 - val_loss: 0.0969 - val_acc: 0.9907\n",
      "Epoch 22/30\n",
      "63043/63043 [==============================] - 2s 28us/step - loss: 0.0941 - acc: 0.9903 - val_loss: 0.0911 - val_acc: 0.9901\n",
      "Epoch 23/30\n",
      "63043/63043 [==============================] - 1s 20us/step - loss: 0.0889 - acc: 0.9896 - val_loss: 0.0867 - val_acc: 0.9887\n",
      "Epoch 24/30\n",
      "63043/63043 [==============================] - 1s 22us/step - loss: 0.0839 - acc: 0.9905 - val_loss: 0.0808 - val_acc: 0.9912\n",
      "Epoch 25/30\n",
      "63043/63043 [==============================] - 1s 16us/step - loss: 0.0796 - acc: 0.9908 - val_loss: 0.0765 - val_acc: 0.9904\n",
      "Epoch 26/30\n",
      "63043/63043 [==============================] - 1s 16us/step - loss: 0.0757 - acc: 0.9913 - val_loss: 0.0739 - val_acc: 0.9890\n",
      "Epoch 27/30\n",
      "63043/63043 [==============================] - 2s 32us/step - loss: 0.0717 - acc: 0.9919 - val_loss: 0.0714 - val_acc: 0.9882\n",
      "Epoch 28/30\n",
      "63043/63043 [==============================] - 2s 31us/step - loss: 0.0691 - acc: 0.9911 - val_loss: 0.0673 - val_acc: 0.9893\n",
      "Epoch 29/30\n",
      "63043/63043 [==============================] - 2s 30us/step - loss: 0.0666 - acc: 0.9903 - val_loss: 0.0637 - val_acc: 0.9928\n",
      "Epoch 30/30\n",
      "63043/63043 [==============================] - 2s 27us/step - loss: 0.0634 - acc: 0.9910 - val_loss: 0.0609 - val_acc: 0.9931\n"
     ]
    }
   ],
   "source": [
    "train_history =model.fit(x=train_Features, \n",
    "                         y=train_Label, \n",
    "                         validation_split=0.2, \n",
    "                         epochs=30, \n",
    "                         batch_size=1500,verbose=1,callbacks=[early_stopping])"
   ]
  },
  {
   "cell_type": "code",
   "execution_count": 23,
   "metadata": {
    "collapsed": true
   },
   "outputs": [],
   "source": [
    "import matplotlib.pyplot as plt\n",
    "def show_train_history(train_history,train,validation):\n",
    "    plt.plot(train_history.history[train])\n",
    "    plt.plot(train_history.history[validation])\n",
    "    plt.title('Train History')\n",
    "    plt.ylabel(train)\n",
    "    plt.xlabel('Epoch')\n",
    "    plt.legend(['train', 'validation'], loc='upper left')\n",
    "    plt.show()"
   ]
  },
  {
   "cell_type": "code",
   "execution_count": 24,
   "metadata": {
    "collapsed": false
   },
   "outputs": [
    {
     "data": {
      "image/png": "[encoded data removed]",
      "text/plain": [
       "<matplotlib.figure.Figure at 0x7fafad356da0>"
      ]
     },
     "metadata": {},
     "output_type": "display_data"
    }
   ],
   "source": [
    "show_train_history(train_history,'acc','val_acc')"
   ]
  },
  {
   "cell_type": "code",
   "execution_count": 25,
   "metadata": {
    "collapsed": false
   },
   "outputs": [
    {
     "data": {
      "image/png": "[encoded data removed]",
      "text/plain": [
       "<matplotlib.figure.Figure at 0x7fafadf337b8>"
      ]
     },
     "metadata": {},
     "output_type": "display_data"
    }
   ],
   "source": [
    "show_train_history(train_history,'loss','val_loss')"
   ]
  },
  {
   "cell_type": "code",
   "execution_count": 26,
   "metadata": {
    "collapsed": false
   },
   "outputs": [
    {
     "name": "stdout",
     "output_type": "stream",
     "text": [
      "19702/19702 [==============================] - 1s 41us/step\n"
     ]
    }
   ],
   "source": [
    "scores = model.evaluate(x=test_Features, \n",
    "                        y=test_Label)"
   ]
  },
  {
   "cell_type": "code",
   "execution_count": 27,
   "metadata": {
    "collapsed": false
   },
   "outputs": [
    {
     "data": {
      "text/plain": [
       "0.9916252157141408"
      ]
     },
     "execution_count": 27,
     "metadata": {},
     "output_type": "execute_result"
    }
   ],
   "source": [
    "scores[1]"
   ]
  }
 ],
 "metadata": {
  "anaconda-cloud": {},
  "kernelspec": {
   "display_name": "Python [default]",
   "language": "python",
   "name": "python3"
  },
  "language_info": {
   "codemirror_mode": {
    "name": "ipython",
    "version": 3
   },
   "file_extension": ".py",
   "mimetype": "text/x-python",
   "name": "python",
   "nbconvert_exporter": "python",
   "pygments_lexer": "ipython3",
   "version": "3.5.2"
  }
 },
 "nbformat": 4,
 "nbformat_minor": 1
}
