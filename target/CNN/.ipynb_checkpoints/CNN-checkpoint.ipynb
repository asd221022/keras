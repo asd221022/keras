{
 "cells": [
  {
   "cell_type": "code",
   "execution_count": 1,
   "metadata": {
    "collapsed": false
   },
   "outputs": [],
   "source": [
    "import numpy \n",
    "import pandas as pd\n",
    "from sklearn.preprocessing import StandardScaler\n",
    "from sklearn.model_selection import train_test_split\n",
    "numpy.random.seed(10)"
   ]
  },
  {
   "cell_type": "code",
   "execution_count": 2,
   "metadata": {
    "collapsed": false
   },
   "outputs": [],
   "source": [
    "data = pd.read_csv(\"target.csv\")"
   ]
  },
  {
   "cell_type": "code",
   "execution_count": 3,
   "metadata": {
    "collapsed": true
   },
   "outputs": [],
   "source": [
    "data=data.drop(['Unnamed: 7'], axis=1)\n",
    "data=data.drop(['customer_id'], axis=1)"
   ]
  },
  {
   "cell_type": "code",
   "execution_count": 4,
   "metadata": {
    "collapsed": true
   },
   "outputs": [],
   "source": [
    "data = data.dropna(how='any')"
   ]
  },
  {
   "cell_type": "code",
   "execution_count": 5,
   "metadata": {
    "collapsed": true
   },
   "outputs": [],
   "source": [
    "data['res_type']= data['res_type'].map({'CN':0, 'CO': 1, 'RE': 2, 'TO': 3,'SI': 4}).astype(int)"
   ]
  },
  {
   "cell_type": "code",
   "execution_count": 6,
   "metadata": {
    "collapsed": true
   },
   "outputs": [],
   "source": [
    "data=pd.get_dummies(data=data,columns=['geo_group'])"
   ]
  },
  {
   "cell_type": "code",
   "execution_count": 7,
   "metadata": {
    "collapsed": false
   },
   "outputs": [],
   "source": [
    "X = data.drop(['res_type'], axis=1).values.astype('float64')"
   ]
  },
  {
   "cell_type": "code",
   "execution_count": 8,
   "metadata": {
    "collapsed": false
   },
   "outputs": [],
   "source": [
    "Y = data['res_type'].values.astype('int64')"
   ]
  },
  {
   "cell_type": "code",
   "execution_count": 9,
   "metadata": {
    "collapsed": false
   },
   "outputs": [
    {
     "data": {
      "text/plain": [
       "78804"
      ]
     },
     "execution_count": 9,
     "metadata": {},
     "output_type": "execute_result"
    }
   ],
   "source": [
    "X = StandardScaler().fit_transform(X)\n",
    "train_Features, test_Features, train_Label, test_Label = train_test_split(X, Y, test_size=0.2, random_state=True) \n",
    "len(train_Features)"
   ]
  },
  {
   "cell_type": "code",
   "execution_count": 10,
   "metadata": {
    "collapsed": true
   },
   "outputs": [],
   "source": [
    "train_Features = train_Features.reshape((train_Features.shape[0], train_Features.shape[1], 1))"
   ]
  },
  {
   "cell_type": "code",
   "execution_count": 11,
   "metadata": {
    "collapsed": true
   },
   "outputs": [],
   "source": [
    "test_Features = test_Features.reshape((test_Features.shape[0], test_Features.shape[1], 1))"
   ]
  },
  {
   "cell_type": "code",
   "execution_count": 12,
   "metadata": {
    "collapsed": false
   },
   "outputs": [
    {
     "name": "stderr",
     "output_type": "stream",
     "text": [
      "Using TensorFlow backend.\n"
     ]
    }
   ],
   "source": [
    "from keras.utils import np_utils\n",
    "train_Label=np_utils.to_categorical(train_Label)\n",
    "test_Label=np_utils.to_categorical(test_Label)"
   ]
  },
  {
   "cell_type": "code",
   "execution_count": 13,
   "metadata": {
    "collapsed": false
   },
   "outputs": [],
   "source": [
    "from keras.models import Sequential\n",
    "from keras.layers import Dense,Dropout,Flatten,Conv1D,MaxPooling1D\n",
    "from keras.layers.embeddings import Embedding\n",
    "from keras.callbacks import EarlyStopping\n",
    "early_stopping = EarlyStopping(monitor='val_loss', patience=2)"
   ]
  },
  {
   "cell_type": "code",
   "execution_count": 14,
   "metadata": {
    "collapsed": true
   },
   "outputs": [],
   "source": [
    "model = Sequential()"
   ]
  },
  {
   "cell_type": "code",
   "execution_count": 15,
   "metadata": {
    "collapsed": false
   },
   "outputs": [],
   "source": [
    "model.add(Conv1D(filters=8,\n",
    "                 kernel_size=1,\n",
    "                 padding='valid',\n",
    "                 input_shape=(8,1), \n",
    "                 activation='relu'))"
   ]
  },
  {
   "cell_type": "code",
   "execution_count": 16,
   "metadata": {
    "collapsed": true
   },
   "outputs": [],
   "source": [
    "model.add(MaxPooling1D(pool_size=1))"
   ]
  },
  {
   "cell_type": "code",
   "execution_count": 17,
   "metadata": {
    "collapsed": true
   },
   "outputs": [],
   "source": [
    "model.add(Flatten())"
   ]
  },
  {
   "cell_type": "code",
   "execution_count": 18,
   "metadata": {
    "collapsed": true
   },
   "outputs": [],
   "source": [
    "model.add(Dense(8, activation='tanh'))"
   ]
  },
  {
   "cell_type": "code",
   "execution_count": 19,
   "metadata": {
    "collapsed": true
   },
   "outputs": [],
   "source": [
    "model.add(Dense(5,activation='softmax'))"
   ]
  },
  {
   "cell_type": "code",
   "execution_count": 20,
   "metadata": {
    "collapsed": false
   },
   "outputs": [
    {
     "name": "stdout",
     "output_type": "stream",
     "text": [
      "_________________________________________________________________\n",
      "Layer (type)                 Output Shape              Param #   \n",
      "=================================================================\n",
      "conv1d_1 (Conv1D)            (None, 8, 8)              16        \n",
      "_________________________________________________________________\n",
      "max_pooling1d_1 (MaxPooling1 (None, 8, 8)              0         \n",
      "_________________________________________________________________\n",
      "flatten_1 (Flatten)          (None, 64)                0         \n",
      "_________________________________________________________________\n",
      "dense_1 (Dense)              (None, 8)                 520       \n",
      "_________________________________________________________________\n",
      "dense_2 (Dense)              (None, 5)                 45        \n",
      "=================================================================\n",
      "Total params: 581\n",
      "Trainable params: 581\n",
      "Non-trainable params: 0\n",
      "_________________________________________________________________\n"
     ]
    }
   ],
   "source": [
    "model.summary()"
   ]
  },
  {
   "cell_type": "code",
   "execution_count": 21,
   "metadata": {
    "collapsed": false
   },
   "outputs": [],
   "source": [
    "model.compile(loss='categorical_crossentropy', \n",
    "              optimizer='adam', metrics=['accuracy'])"
   ]
  },
  {
   "cell_type": "code",
   "execution_count": 22,
   "metadata": {
    "collapsed": false
   },
   "outputs": [
    {
     "name": "stdout",
     "output_type": "stream",
     "text": [
      "Train on 63043 samples, validate on 15761 samples\n",
      "Epoch 1/30\n",
      "63043/63043 [==============================] - 2s 30us/step - loss: 1.4941 - acc: 0.4285 - val_loss: 1.3562 - val_acc: 0.5165\n",
      "Epoch 2/30\n",
      "63043/63043 [==============================] - 1s 14us/step - loss: 1.2634 - acc: 0.5468 - val_loss: 1.1808 - val_acc: 0.5811\n",
      "Epoch 3/30\n",
      "63043/63043 [==============================] - 1s 16us/step - loss: 1.0970 - acc: 0.6007 - val_loss: 1.0231 - val_acc: 0.6101\n",
      "Epoch 4/30\n",
      "63043/63043 [==============================] - 1s 16us/step - loss: 0.9495 - acc: 0.6229 - val_loss: 0.8882 - val_acc: 0.6356\n",
      "Epoch 5/30\n",
      "63043/63043 [==============================] - 1s 16us/step - loss: 0.8266 - acc: 0.6584 - val_loss: 0.7741 - val_acc: 0.6821\n",
      "Epoch 6/30\n",
      "63043/63043 [==============================] - 1s 15us/step - loss: 0.7207 - acc: 0.7261 - val_loss: 0.6746 - val_acc: 0.7675\n",
      "Epoch 7/30\n",
      "63043/63043 [==============================] - 1s 14us/step - loss: 0.6268 - acc: 0.7999 - val_loss: 0.5863 - val_acc: 0.8204\n",
      "Epoch 8/30\n",
      "63043/63043 [==============================] - 1s 14us/step - loss: 0.5451 - acc: 0.8374 - val_loss: 0.5106 - val_acc: 0.8523\n",
      "Epoch 9/30\n",
      "63043/63043 [==============================] - 1s 14us/step - loss: 0.4765 - acc: 0.8621 - val_loss: 0.4481 - val_acc: 0.8763\n",
      "Epoch 10/30\n",
      "63043/63043 [==============================] - 1s 14us/step - loss: 0.4201 - acc: 0.8778 - val_loss: 0.3973 - val_acc: 0.8813\n",
      "Epoch 11/30\n",
      "63043/63043 [==============================] - 1s 16us/step - loss: 0.3746 - acc: 0.8874 - val_loss: 0.3554 - val_acc: 0.8928\n",
      "Epoch 12/30\n",
      "63043/63043 [==============================] - 1s 18us/step - loss: 0.3368 - acc: 0.9009 - val_loss: 0.3216 - val_acc: 0.9081\n",
      "Epoch 13/30\n",
      "63043/63043 [==============================] - 1s 16us/step - loss: 0.3063 - acc: 0.9141 - val_loss: 0.2940 - val_acc: 0.9195\n",
      "Epoch 14/30\n",
      "63043/63043 [==============================] - 1s 24us/step - loss: 0.2813 - acc: 0.9260 - val_loss: 0.2705 - val_acc: 0.9334\n",
      "Epoch 15/30\n",
      "63043/63043 [==============================] - 2s 27us/step - loss: 0.2599 - acc: 0.9354 - val_loss: 0.2509 - val_acc: 0.9393\n",
      "Epoch 16/30\n",
      "63043/63043 [==============================] - 1s 21us/step - loss: 0.2416 - acc: 0.9447 - val_loss: 0.2337 - val_acc: 0.9491\n",
      "Epoch 17/30\n",
      "63043/63043 [==============================] - 1s 20us/step - loss: 0.2255 - acc: 0.9493 - val_loss: 0.2187 - val_acc: 0.9526\n",
      "Epoch 18/30\n",
      "63043/63043 [==============================] - 1s 21us/step - loss: 0.2117 - acc: 0.9554 - val_loss: 0.2053 - val_acc: 0.9573\n",
      "Epoch 19/30\n",
      "63043/63043 [==============================] - 1s 24us/step - loss: 0.1990 - acc: 0.9587 - val_loss: 0.1934 - val_acc: 0.9643\n",
      "Epoch 20/30\n",
      "63043/63043 [==============================] - 1s 21us/step - loss: 0.1876 - acc: 0.9651 - val_loss: 0.1825 - val_acc: 0.9684\n",
      "Epoch 21/30\n",
      "63043/63043 [==============================] - 1s 20us/step - loss: 0.1771 - acc: 0.9681 - val_loss: 0.1724 - val_acc: 0.9718\n",
      "Epoch 22/30\n",
      "63043/63043 [==============================] - 1s 22us/step - loss: 0.1674 - acc: 0.9713 - val_loss: 0.1640 - val_acc: 0.9714\n",
      "Epoch 23/30\n",
      "63043/63043 [==============================] - 2s 25us/step - loss: 0.1588 - acc: 0.9736 - val_loss: 0.1543 - val_acc: 0.9772\n",
      "Epoch 24/30\n",
      "63043/63043 [==============================] - 1s 21us/step - loss: 0.1502 - acc: 0.9772 - val_loss: 0.1460 - val_acc: 0.9794\n",
      "Epoch 25/30\n",
      "63043/63043 [==============================] - 1s 20us/step - loss: 0.1423 - acc: 0.9797 - val_loss: 0.1385 - val_acc: 0.9829\n",
      "Epoch 26/30\n",
      "63043/63043 [==============================] - 1s 22us/step - loss: 0.1350 - acc: 0.9816 - val_loss: 0.1317 - val_acc: 0.9866\n",
      "Epoch 27/30\n",
      "63043/63043 [==============================] - 1s 24us/step - loss: 0.1280 - acc: 0.9836 - val_loss: 0.1249 - val_acc: 0.9856\n",
      "Epoch 28/30\n",
      "63043/63043 [==============================] - 1s 21us/step - loss: 0.1215 - acc: 0.9855 - val_loss: 0.1189 - val_acc: 0.9875\n",
      "Epoch 29/30\n",
      "63043/63043 [==============================] - 2s 24us/step - loss: 0.1153 - acc: 0.9874 - val_loss: 0.1121 - val_acc: 0.9907\n",
      "Epoch 30/30\n",
      "63043/63043 [==============================] - 2s 31us/step - loss: 0.1091 - acc: 0.9887 - val_loss: 0.1060 - val_acc: 0.9908\n"
     ]
    }
   ],
   "source": [
    "train_history =model.fit(x=train_Features, \n",
    "                         y=train_Label, \n",
    "                         validation_split=0.2, \n",
    "                         epochs=30, \n",
    "                         batch_size=1500,verbose=1,callbacks=[early_stopping])"
   ]
  },
  {
   "cell_type": "code",
   "execution_count": 23,
   "metadata": {
    "collapsed": true
   },
   "outputs": [],
   "source": [
    "import matplotlib.pyplot as plt\n",
    "def show_train_history(train_history,train,validation):\n",
    "    plt.plot(train_history.history[train])\n",
    "    plt.plot(train_history.history[validation])\n",
    "    plt.title('Train History')\n",
    "    plt.ylabel(train)\n",
    "    plt.xlabel('Epoch')\n",
    "    plt.legend(['train', 'validation'], loc='upper left')\n",
    "    plt.show()"
   ]
  },
  {
   "cell_type": "code",
   "execution_count": 24,
   "metadata": {
    "collapsed": false
   },
   "outputs": [
    {
     "data": {
      "image/png": "[encoded data removed]",
      "text/plain": [
       "<matplotlib.figure.Figure at 0x7fc52b754be0>"
      ]
     },
     "metadata": {},
     "output_type": "display_data"
    }
   ],
   "source": [
    "show_train_history(train_history,'acc','val_acc')"
   ]
  },
  {
   "cell_type": "code",
   "execution_count": 25,
   "metadata": {
    "collapsed": false
   },
   "outputs": [
    {
     "data": {
      "image/png": "[encoded data removed]",
      "text/plain": [
       "<matplotlib.figure.Figure at 0x7fc52b754ac8>"
      ]
     },
     "metadata": {},
     "output_type": "display_data"
    }
   ],
   "source": [
    "show_train_history(train_history,'loss','val_loss')"
   ]
  },
  {
   "cell_type": "code",
   "execution_count": 26,
   "metadata": {
    "collapsed": false
   },
   "outputs": [
    {
     "name": "stdout",
     "output_type": "stream",
     "text": [
      "19702/19702 [==============================] - 1s 35us/step\n"
     ]
    }
   ],
   "source": [
    "scores = model.evaluate(x=test_Features, \n",
    "                        y=test_Label)"
   ]
  },
  {
   "cell_type": "code",
   "execution_count": 27,
   "metadata": {
    "collapsed": false
   },
   "outputs": [
    {
     "data": {
      "text/plain": [
       "0.9895949650084279"
      ]
     },
     "execution_count": 27,
     "metadata": {},
     "output_type": "execute_result"
    }
   ],
   "source": [
    "scores[1]"
   ]
  }
 ],
 "metadata": {
  "anaconda-cloud": {},
  "kernelspec": {
   "display_name": "Python [default]",
   "language": "python",
   "name": "python3"
  },
  "language_info": {
   "codemirror_mode": {
    "name": "ipython",
    "version": 3
   },
   "file_extension": ".py",
   "mimetype": "text/x-python",
   "name": "python",
   "nbconvert_exporter": "python",
   "pygments_lexer": "ipython3",
   "version": "3.5.2"
  }
 },
 "nbformat": 4,
 "nbformat_minor": 1
}
