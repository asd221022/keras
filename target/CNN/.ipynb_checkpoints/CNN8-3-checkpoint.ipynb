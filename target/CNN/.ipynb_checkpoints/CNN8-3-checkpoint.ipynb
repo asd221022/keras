{
 "cells": [
  {
   "cell_type": "code",
   "execution_count": 1,
   "metadata": {
    "collapsed": false
   },
   "outputs": [],
   "source": [
    "import numpy \n",
    "import pandas as pd\n",
    "from sklearn.preprocessing import StandardScaler\n",
    "from sklearn.model_selection import train_test_split\n",
    "numpy.random.seed(10)"
   ]
  },
  {
   "cell_type": "code",
   "execution_count": 2,
   "metadata": {
    "collapsed": false
   },
   "outputs": [],
   "source": [
    "data = pd.read_csv(\"target.csv\")"
   ]
  },
  {
   "cell_type": "code",
   "execution_count": 3,
   "metadata": {
    "collapsed": true
   },
   "outputs": [],
   "source": [
    "data=data.drop(['Unnamed: 7'], axis=1)\n",
    "data=data.drop(['customer_id'], axis=1)"
   ]
  },
  {
   "cell_type": "code",
   "execution_count": 4,
   "metadata": {
    "collapsed": true
   },
   "outputs": [],
   "source": [
    "data = data.dropna(how='any')"
   ]
  },
  {
   "cell_type": "code",
   "execution_count": 5,
   "metadata": {
    "collapsed": true
   },
   "outputs": [],
   "source": [
    "data['res_type']= data['res_type'].map({'CN':0, 'CO': 1, 'RE': 2, 'TO': 3,'SI': 4}).astype(int)"
   ]
  },
  {
   "cell_type": "code",
   "execution_count": 6,
   "metadata": {
    "collapsed": true
   },
   "outputs": [],
   "source": [
    "data=pd.get_dummies(data=data,columns=['geo_group'])"
   ]
  },
  {
   "cell_type": "code",
   "execution_count": 7,
   "metadata": {
    "collapsed": false
   },
   "outputs": [],
   "source": [
    "X = data.drop(['res_type'], axis=1).values.astype('float64')"
   ]
  },
  {
   "cell_type": "code",
   "execution_count": 8,
   "metadata": {
    "collapsed": false
   },
   "outputs": [],
   "source": [
    "Y = data['res_type'].values.astype('int64')"
   ]
  },
  {
   "cell_type": "code",
   "execution_count": 9,
   "metadata": {
    "collapsed": false
   },
   "outputs": [
    {
     "data": {
      "text/plain": [
       "78804"
      ]
     },
     "execution_count": 9,
     "metadata": {},
     "output_type": "execute_result"
    }
   ],
   "source": [
    "X = StandardScaler().fit_transform(X)\n",
    "train_Features, test_Features, train_Label, test_Label = train_test_split(X, Y, test_size=0.2, random_state=True) \n",
    "len(train_Features)"
   ]
  },
  {
   "cell_type": "code",
   "execution_count": 10,
   "metadata": {
    "collapsed": true
   },
   "outputs": [],
   "source": [
    "train_Features = train_Features.reshape((train_Features.shape[0], train_Features.shape[1], 1))"
   ]
  },
  {
   "cell_type": "code",
   "execution_count": 11,
   "metadata": {
    "collapsed": true
   },
   "outputs": [],
   "source": [
    "test_Features = test_Features.reshape((test_Features.shape[0], test_Features.shape[1], 1))"
   ]
  },
  {
   "cell_type": "code",
   "execution_count": 12,
   "metadata": {
    "collapsed": false
   },
   "outputs": [
    {
     "name": "stderr",
     "output_type": "stream",
     "text": [
      "Using TensorFlow backend.\n"
     ]
    }
   ],
   "source": [
    "from keras.utils import np_utils\n",
    "train_Label=np_utils.to_categorical(train_Label)\n",
    "test_Label=np_utils.to_categorical(test_Label)"
   ]
  },
  {
   "cell_type": "code",
   "execution_count": 13,
   "metadata": {
    "collapsed": false
   },
   "outputs": [],
   "source": [
    "from keras.models import Sequential\n",
    "from keras.layers import Dense,Dropout,Flatten,Conv1D,MaxPooling1D\n",
    "from keras.layers.embeddings import Embedding\n",
    "from keras.callbacks import EarlyStopping\n",
    "early_stopping = EarlyStopping(monitor='val_loss', patience=2)"
   ]
  },
  {
   "cell_type": "code",
   "execution_count": 14,
   "metadata": {
    "collapsed": true
   },
   "outputs": [],
   "source": [
    "model = Sequential()"
   ]
  },
  {
   "cell_type": "code",
   "execution_count": 15,
   "metadata": {
    "collapsed": true
   },
   "outputs": [],
   "source": [
    "model.add(Conv1D(filters=8*3,\n",
    "                 kernel_size=1,\n",
    "                 padding='valid',\n",
    "                 input_shape=(8,1), \n",
    "                 activation='relu'))"
   ]
  },
  {
   "cell_type": "code",
   "execution_count": 16,
   "metadata": {
    "collapsed": true
   },
   "outputs": [],
   "source": [
    "model.add(MaxPooling1D(pool_size=1))"
   ]
  },
  {
   "cell_type": "code",
   "execution_count": 17,
   "metadata": {
    "collapsed": true
   },
   "outputs": [],
   "source": [
    "model.add(Conv1D(filters=8*2,\n",
    "                 kernel_size=1,\n",
    "                 padding='valid', \n",
    "                 activation='relu'))"
   ]
  },
  {
   "cell_type": "code",
   "execution_count": 18,
   "metadata": {
    "collapsed": true
   },
   "outputs": [],
   "source": [
    "model.add(MaxPooling1D(pool_size=1))"
   ]
  },
  {
   "cell_type": "code",
   "execution_count": 19,
   "metadata": {
    "collapsed": false
   },
   "outputs": [],
   "source": [
    "model.add(Conv1D(filters=8,\n",
    "                 kernel_size=1,\n",
    "                 padding='valid',\n",
    "                 activation='relu'))"
   ]
  },
  {
   "cell_type": "code",
   "execution_count": 20,
   "metadata": {
    "collapsed": true
   },
   "outputs": [],
   "source": [
    "model.add(MaxPooling1D(pool_size=1))"
   ]
  },
  {
   "cell_type": "code",
   "execution_count": 21,
   "metadata": {
    "collapsed": true
   },
   "outputs": [],
   "source": [
    "model.add(Flatten())"
   ]
  },
  {
   "cell_type": "code",
   "execution_count": 22,
   "metadata": {
    "collapsed": true
   },
   "outputs": [],
   "source": [
    "model.add(Dense(8, activation='tanh'))"
   ]
  },
  {
   "cell_type": "code",
   "execution_count": 23,
   "metadata": {
    "collapsed": true
   },
   "outputs": [],
   "source": [
    "model.add(Dense(5,activation='softmax'))"
   ]
  },
  {
   "cell_type": "code",
   "execution_count": 24,
   "metadata": {
    "collapsed": false
   },
   "outputs": [
    {
     "name": "stdout",
     "output_type": "stream",
     "text": [
      "_________________________________________________________________\n",
      "Layer (type)                 Output Shape              Param #   \n",
      "=================================================================\n",
      "conv1d_1 (Conv1D)            (None, 8, 24)             48        \n",
      "_________________________________________________________________\n",
      "max_pooling1d_1 (MaxPooling1 (None, 8, 24)             0         \n",
      "_________________________________________________________________\n",
      "conv1d_2 (Conv1D)            (None, 8, 16)             400       \n",
      "_________________________________________________________________\n",
      "max_pooling1d_2 (MaxPooling1 (None, 8, 16)             0         \n",
      "_________________________________________________________________\n",
      "conv1d_3 (Conv1D)            (None, 8, 8)              136       \n",
      "_________________________________________________________________\n",
      "max_pooling1d_3 (MaxPooling1 (None, 8, 8)              0         \n",
      "_________________________________________________________________\n",
      "flatten_1 (Flatten)          (None, 64)                0         \n",
      "_________________________________________________________________\n",
      "dense_1 (Dense)              (None, 8)                 520       \n",
      "_________________________________________________________________\n",
      "dense_2 (Dense)              (None, 5)                 45        \n",
      "=================================================================\n",
      "Total params: 1,149\n",
      "Trainable params: 1,149\n",
      "Non-trainable params: 0\n",
      "_________________________________________________________________\n"
     ]
    }
   ],
   "source": [
    "model.summary()"
   ]
  },
  {
   "cell_type": "code",
   "execution_count": 25,
   "metadata": {
    "collapsed": false
   },
   "outputs": [],
   "source": [
    "model.compile(loss='categorical_crossentropy', \n",
    "              optimizer='adam', metrics=['accuracy'])"
   ]
  },
  {
   "cell_type": "code",
   "execution_count": 26,
   "metadata": {
    "collapsed": false
   },
   "outputs": [
    {
     "name": "stdout",
     "output_type": "stream",
     "text": [
      "Train on 63043 samples, validate on 15761 samples\n",
      "Epoch 1/30\n",
      "63043/63043 [==============================] - 5s 81us/step - loss: 1.5566 - acc: 0.2388 - val_loss: 1.4580 - val_acc: 0.3564\n",
      "Epoch 2/30\n",
      "63043/63043 [==============================] - 3s 50us/step - loss: 1.3760 - acc: 0.4259 - val_loss: 1.2721 - val_acc: 0.5271\n",
      "Epoch 3/30\n",
      "63043/63043 [==============================] - 3s 50us/step - loss: 1.1261 - acc: 0.5764 - val_loss: 0.9660 - val_acc: 0.6160\n",
      "Epoch 4/30\n",
      "63043/63043 [==============================] - 4s 70us/step - loss: 0.8424 - acc: 0.6476 - val_loss: 0.7392 - val_acc: 0.6708\n",
      "Epoch 5/30\n",
      "63043/63043 [==============================] - 4s 65us/step - loss: 0.6446 - acc: 0.7224 - val_loss: 0.5463 - val_acc: 0.8237\n",
      "Epoch 6/30\n",
      "63043/63043 [==============================] - 4s 59us/step - loss: 0.4601 - acc: 0.8862 - val_loss: 0.3821 - val_acc: 0.9218\n",
      "Epoch 7/30\n",
      "63043/63043 [==============================] - 4s 59us/step - loss: 0.3268 - acc: 0.9416 - val_loss: 0.2790 - val_acc: 0.9628\n",
      "Epoch 8/30\n",
      "63043/63043 [==============================] - 3s 44us/step - loss: 0.2444 - acc: 0.9688 - val_loss: 0.2108 - val_acc: 0.9795\n",
      "Epoch 9/30\n",
      "63043/63043 [==============================] - 3s 42us/step - loss: 0.1880 - acc: 0.9789 - val_loss: 0.1656 - val_acc: 0.9832\n",
      "Epoch 10/30\n",
      "63043/63043 [==============================] - 3s 53us/step - loss: 0.1507 - acc: 0.9852 - val_loss: 0.1352 - val_acc: 0.9865\n",
      "Epoch 11/30\n",
      "63043/63043 [==============================] - 3s 55us/step - loss: 0.1259 - acc: 0.9864 - val_loss: 0.1192 - val_acc: 0.9791\n",
      "Epoch 12/30\n",
      "63043/63043 [==============================] - 2s 37us/step - loss: 0.1086 - acc: 0.9867 - val_loss: 0.0994 - val_acc: 0.9888\n",
      "Epoch 13/30\n",
      "63043/63043 [==============================] - 2s 24us/step - loss: 0.0947 - acc: 0.9885 - val_loss: 0.0915 - val_acc: 0.9859\n",
      "Epoch 14/30\n",
      "63043/63043 [==============================] - 2s 35us/step - loss: 0.0865 - acc: 0.9863 - val_loss: 0.0790 - val_acc: 0.9907\n",
      "Epoch 15/30\n",
      "63043/63043 [==============================] - 2s 28us/step - loss: 0.0763 - acc: 0.9898 - val_loss: 0.0728 - val_acc: 0.9885\n",
      "Epoch 16/30\n",
      "63043/63043 [==============================] - 2s 31us/step - loss: 0.0705 - acc: 0.9891 - val_loss: 0.0651 - val_acc: 0.9912\n",
      "Epoch 17/30\n",
      "63043/63043 [==============================] - 2s 29us/step - loss: 0.0641 - acc: 0.9895 - val_loss: 0.0596 - val_acc: 0.9919\n",
      "Epoch 18/30\n",
      "63043/63043 [==============================] - 1s 24us/step - loss: 0.0588 - acc: 0.9912 - val_loss: 0.0566 - val_acc: 0.9908\n",
      "Epoch 19/30\n",
      "63043/63043 [==============================] - 2s 25us/step - loss: 0.0548 - acc: 0.9919 - val_loss: 0.0513 - val_acc: 0.9926\n",
      "Epoch 20/30\n",
      "63043/63043 [==============================] - 2s 26us/step - loss: 0.0518 - acc: 0.9915 - val_loss: 0.0486 - val_acc: 0.9927\n",
      "Epoch 21/30\n",
      "63043/63043 [==============================] - 1s 22us/step - loss: 0.0491 - acc: 0.9913 - val_loss: 0.0477 - val_acc: 0.9911\n",
      "Epoch 22/30\n",
      "63043/63043 [==============================] - 1s 23us/step - loss: 0.0469 - acc: 0.9910 - val_loss: 0.0431 - val_acc: 0.9925\n",
      "Epoch 23/30\n",
      "63043/63043 [==============================] - 1s 20us/step - loss: 0.0430 - acc: 0.9926 - val_loss: 0.0425 - val_acc: 0.9917\n",
      "Epoch 24/30\n",
      "63043/63043 [==============================] - 2s 24us/step - loss: 0.0418 - acc: 0.9923 - val_loss: 0.0407 - val_acc: 0.9909\n",
      "Epoch 25/30\n",
      "63043/63043 [==============================] - 1s 23us/step - loss: 0.0405 - acc: 0.9912 - val_loss: 0.0392 - val_acc: 0.9917\n",
      "Epoch 26/30\n",
      "63043/63043 [==============================] - 2s 26us/step - loss: 0.0387 - acc: 0.9913 - val_loss: 0.0373 - val_acc: 0.9918\n",
      "Epoch 27/30\n",
      "63043/63043 [==============================] - 1s 21us/step - loss: 0.0361 - acc: 0.9925 - val_loss: 0.0376 - val_acc: 0.9910\n",
      "Epoch 28/30\n",
      "63043/63043 [==============================] - 2s 27us/step - loss: 0.0352 - acc: 0.9922 - val_loss: 0.0335 - val_acc: 0.9921\n",
      "Epoch 29/30\n",
      "63043/63043 [==============================] - 2s 33us/step - loss: 0.0335 - acc: 0.9928 - val_loss: 0.0362 - val_acc: 0.9893\n",
      "Epoch 30/30\n",
      "63043/63043 [==============================] - 2s 28us/step - loss: 0.0322 - acc: 0.9927 - val_loss: 0.0317 - val_acc: 0.9918\n"
     ]
    }
   ],
   "source": [
    "train_history =model.fit(x=train_Features, \n",
    "                         y=train_Label, \n",
    "                         validation_split=0.2, \n",
    "                         epochs=30, \n",
    "                         batch_size=1500,verbose=1,callbacks=[early_stopping])"
   ]
  },
  {
   "cell_type": "code",
   "execution_count": 27,
   "metadata": {
    "collapsed": true
   },
   "outputs": [],
   "source": [
    "import matplotlib.pyplot as plt\n",
    "def show_train_history(train_history,train,validation):\n",
    "    plt.plot(train_history.history[train])\n",
    "    plt.plot(train_history.history[validation])\n",
    "    plt.title('Train History')\n",
    "    plt.ylabel(train)\n",
    "    plt.xlabel('Epoch')\n",
    "    plt.legend(['train', 'validation'], loc='upper left')\n",
    "    plt.show()"
   ]
  },
  {
   "cell_type": "code",
   "execution_count": 28,
   "metadata": {
    "collapsed": false
   },
   "outputs": [
    {
     "data": {
      "image/png": "[encoded data removed]",
      "text/plain": [
       "<matplotlib.figure.Figure at 0x7faca5045940>"
      ]
     },
     "metadata": {},
     "output_type": "display_data"
    }
   ],
   "source": [
    "show_train_history(train_history,'acc','val_acc')"
   ]
  },
  {
   "cell_type": "code",
   "execution_count": 29,
   "metadata": {
    "collapsed": false
   },
   "outputs": [
    {
     "data": {
      "image/png": "[encoded data removed]",
      "text/plain": [
       "<matplotlib.figure.Figure at 0x7faca435e5f8>"
      ]
     },
     "metadata": {},
     "output_type": "display_data"
    }
   ],
   "source": [
    "show_train_history(train_history,'loss','val_loss')"
   ]
  },
  {
   "cell_type": "code",
   "execution_count": 30,
   "metadata": {
    "collapsed": false
   },
   "outputs": [
    {
     "name": "stdout",
     "output_type": "stream",
     "text": [
      "19702/19702 [==============================] - 1s 70us/step\n"
     ]
    }
   ],
   "source": [
    "scores = model.evaluate(x=test_Features, \n",
    "                        y=test_Label)"
   ]
  },
  {
   "cell_type": "code",
   "execution_count": 31,
   "metadata": {
    "collapsed": false
   },
   "outputs": [
    {
     "data": {
      "text/plain": [
       "0.9928941224543725"
      ]
     },
     "execution_count": 31,
     "metadata": {},
     "output_type": "execute_result"
    }
   ],
   "source": [
    "scores[1]"
   ]
  }
 ],
 "metadata": {
  "anaconda-cloud": {},
  "kernelspec": {
   "display_name": "Python [default]",
   "language": "python",
   "name": "python3"
  },
  "language_info": {
   "codemirror_mode": {
    "name": "ipython",
    "version": 3
   },
   "file_extension": ".py",
   "mimetype": "text/x-python",
   "name": "python",
   "nbconvert_exporter": "python",
   "pygments_lexer": "ipython3",
   "version": "3.5.2"
  }
 },
 "nbformat": 4,
 "nbformat_minor": 1
}
