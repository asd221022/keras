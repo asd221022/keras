{
 "cells": [
  {
   "cell_type": "code",
   "execution_count": 1,
   "metadata": {
    "collapsed": false
   },
   "outputs": [],
   "source": [
    "import numpy \n",
    "import pandas as pd\n",
    "from sklearn.preprocessing import StandardScaler\n",
    "from sklearn.model_selection import train_test_split\n",
    "numpy.random.seed(10)"
   ]
  },
  {
   "cell_type": "code",
   "execution_count": 2,
   "metadata": {
    "collapsed": false
   },
   "outputs": [],
   "source": [
    "data = pd.read_csv(\"target.csv\")"
   ]
  },
  {
   "cell_type": "code",
   "execution_count": 3,
   "metadata": {
    "collapsed": true
   },
   "outputs": [],
   "source": [
    "data=data.drop(['Unnamed: 7'], axis=1)\n",
    "data=data.drop(['customer_id'], axis=1)"
   ]
  },
  {
   "cell_type": "code",
   "execution_count": 4,
   "metadata": {
    "collapsed": true
   },
   "outputs": [],
   "source": [
    "data = data.dropna(how='any')"
   ]
  },
  {
   "cell_type": "code",
   "execution_count": 5,
   "metadata": {
    "collapsed": true
   },
   "outputs": [],
   "source": [
    "data['res_type']= data['res_type'].map({'CN':0, 'CO': 1, 'RE': 2, 'TO': 3,'SI': 4}).astype(int)"
   ]
  },
  {
   "cell_type": "code",
   "execution_count": 6,
   "metadata": {
    "collapsed": true
   },
   "outputs": [],
   "source": [
    "data=pd.get_dummies(data=data,columns=['geo_group'])"
   ]
  },
  {
   "cell_type": "code",
   "execution_count": 7,
   "metadata": {
    "collapsed": false
   },
   "outputs": [],
   "source": [
    "X = data.drop(['res_type'], axis=1).values.astype('float64')"
   ]
  },
  {
   "cell_type": "code",
   "execution_count": 8,
   "metadata": {
    "collapsed": false
   },
   "outputs": [],
   "source": [
    "Y = data['res_type'].values.astype('int64')"
   ]
  },
  {
   "cell_type": "code",
   "execution_count": 9,
   "metadata": {
    "collapsed": false
   },
   "outputs": [
    {
     "data": {
      "text/plain": [
       "78804"
      ]
     },
     "execution_count": 9,
     "metadata": {},
     "output_type": "execute_result"
    }
   ],
   "source": [
    "X = StandardScaler().fit_transform(X)\n",
    "train_Features, test_Features, train_Label, test_Label = train_test_split(X, Y, test_size=0.2, random_state=True) \n",
    "len(train_Features)"
   ]
  },
  {
   "cell_type": "code",
   "execution_count": 10,
   "metadata": {
    "collapsed": true
   },
   "outputs": [],
   "source": [
    "train_Features = train_Features.reshape((train_Features.shape[0], train_Features.shape[1], 1))"
   ]
  },
  {
   "cell_type": "code",
   "execution_count": 11,
   "metadata": {
    "collapsed": true
   },
   "outputs": [],
   "source": [
    "test_Features = test_Features.reshape((test_Features.shape[0], test_Features.shape[1], 1))"
   ]
  },
  {
   "cell_type": "code",
   "execution_count": 12,
   "metadata": {
    "collapsed": false
   },
   "outputs": [
    {
     "name": "stderr",
     "output_type": "stream",
     "text": [
      "Using TensorFlow backend.\n"
     ]
    }
   ],
   "source": [
    "from keras.utils import np_utils\n",
    "train_Label=np_utils.to_categorical(train_Label)\n",
    "test_Label=np_utils.to_categorical(test_Label)"
   ]
  },
  {
   "cell_type": "code",
   "execution_count": 13,
   "metadata": {
    "collapsed": false
   },
   "outputs": [],
   "source": [
    "from keras.models import Sequential\n",
    "from keras.layers import Dense,Dropout,Flatten,Conv1D,MaxPooling1D\n",
    "from keras.layers.embeddings import Embedding\n",
    "from keras.callbacks import EarlyStopping\n",
    "early_stopping = EarlyStopping(monitor='val_loss', patience=2)"
   ]
  },
  {
   "cell_type": "code",
   "execution_count": 14,
   "metadata": {
    "collapsed": true
   },
   "outputs": [],
   "source": [
    "model = Sequential()"
   ]
  },
  {
   "cell_type": "code",
   "execution_count": 15,
   "metadata": {
    "collapsed": true
   },
   "outputs": [],
   "source": [
    "model.add(Conv1D(filters=16*5,\n",
    "                 kernel_size=1,\n",
    "                 padding='valid',\n",
    "                 input_shape=(8,1), \n",
    "                 activation='relu'))"
   ]
  },
  {
   "cell_type": "code",
   "execution_count": 16,
   "metadata": {
    "collapsed": true
   },
   "outputs": [],
   "source": [
    "model.add(MaxPooling1D(pool_size=1))"
   ]
  },
  {
   "cell_type": "code",
   "execution_count": 17,
   "metadata": {
    "collapsed": true
   },
   "outputs": [],
   "source": [
    "model.add(Conv1D(filters=16*4,\n",
    "                 kernel_size=1,\n",
    "                 padding='valid',\n",
    "                 activation='relu'))"
   ]
  },
  {
   "cell_type": "code",
   "execution_count": 18,
   "metadata": {
    "collapsed": true
   },
   "outputs": [],
   "source": [
    "model.add(MaxPooling1D(pool_size=1))"
   ]
  },
  {
   "cell_type": "code",
   "execution_count": 19,
   "metadata": {
    "collapsed": true
   },
   "outputs": [],
   "source": [
    "model.add(Conv1D(filters=16*3,\n",
    "                 kernel_size=1,\n",
    "                 padding='valid',\n",
    "                 activation='relu'))"
   ]
  },
  {
   "cell_type": "code",
   "execution_count": 20,
   "metadata": {
    "collapsed": true
   },
   "outputs": [],
   "source": [
    "model.add(MaxPooling1D(pool_size=1))"
   ]
  },
  {
   "cell_type": "code",
   "execution_count": 21,
   "metadata": {
    "collapsed": true
   },
   "outputs": [],
   "source": [
    "model.add(Conv1D(filters=16*2,\n",
    "                 kernel_size=1,\n",
    "                 padding='valid',\n",
    "                 activation='relu'))"
   ]
  },
  {
   "cell_type": "code",
   "execution_count": 22,
   "metadata": {
    "collapsed": true
   },
   "outputs": [],
   "source": [
    "model.add(MaxPooling1D(pool_size=1))"
   ]
  },
  {
   "cell_type": "code",
   "execution_count": 23,
   "metadata": {
    "collapsed": false
   },
   "outputs": [],
   "source": [
    "model.add(Conv1D(filters=16,\n",
    "                 kernel_size=1,\n",
    "                 padding='valid',\n",
    "                 activation='relu'))"
   ]
  },
  {
   "cell_type": "code",
   "execution_count": 24,
   "metadata": {
    "collapsed": true
   },
   "outputs": [],
   "source": [
    "model.add(MaxPooling1D(pool_size=1))"
   ]
  },
  {
   "cell_type": "code",
   "execution_count": 25,
   "metadata": {
    "collapsed": true
   },
   "outputs": [],
   "source": [
    "model.add(Flatten())"
   ]
  },
  {
   "cell_type": "code",
   "execution_count": 26,
   "metadata": {
    "collapsed": true
   },
   "outputs": [],
   "source": [
    "model.add(Dense(8, activation='tanh'))"
   ]
  },
  {
   "cell_type": "code",
   "execution_count": 27,
   "metadata": {
    "collapsed": true
   },
   "outputs": [],
   "source": [
    "model.add(Dense(5,activation='softmax'))"
   ]
  },
  {
   "cell_type": "code",
   "execution_count": 28,
   "metadata": {
    "collapsed": false
   },
   "outputs": [
    {
     "name": "stdout",
     "output_type": "stream",
     "text": [
      "_________________________________________________________________\n",
      "Layer (type)                 Output Shape              Param #   \n",
      "=================================================================\n",
      "conv1d_1 (Conv1D)            (None, 8, 80)             160       \n",
      "_________________________________________________________________\n",
      "max_pooling1d_1 (MaxPooling1 (None, 8, 80)             0         \n",
      "_________________________________________________________________\n",
      "conv1d_2 (Conv1D)            (None, 8, 64)             5184      \n",
      "_________________________________________________________________\n",
      "max_pooling1d_2 (MaxPooling1 (None, 8, 64)             0         \n",
      "_________________________________________________________________\n",
      "conv1d_3 (Conv1D)            (None, 8, 48)             3120      \n",
      "_________________________________________________________________\n",
      "max_pooling1d_3 (MaxPooling1 (None, 8, 48)             0         \n",
      "_________________________________________________________________\n",
      "conv1d_4 (Conv1D)            (None, 8, 32)             1568      \n",
      "_________________________________________________________________\n",
      "max_pooling1d_4 (MaxPooling1 (None, 8, 32)             0         \n",
      "_________________________________________________________________\n",
      "conv1d_5 (Conv1D)            (None, 8, 16)             528       \n",
      "_________________________________________________________________\n",
      "max_pooling1d_5 (MaxPooling1 (None, 8, 16)             0         \n",
      "_________________________________________________________________\n",
      "flatten_1 (Flatten)          (None, 128)               0         \n",
      "_________________________________________________________________\n",
      "dense_1 (Dense)              (None, 8)                 1032      \n",
      "_________________________________________________________________\n",
      "dense_2 (Dense)              (None, 5)                 45        \n",
      "=================================================================\n",
      "Total params: 11,637\n",
      "Trainable params: 11,637\n",
      "Non-trainable params: 0\n",
      "_________________________________________________________________\n"
     ]
    }
   ],
   "source": [
    "model.summary()"
   ]
  },
  {
   "cell_type": "code",
   "execution_count": 29,
   "metadata": {
    "collapsed": false
   },
   "outputs": [],
   "source": [
    "model.compile(loss='categorical_crossentropy', \n",
    "              optimizer='adam', metrics=['accuracy'])"
   ]
  },
  {
   "cell_type": "code",
   "execution_count": 30,
   "metadata": {
    "collapsed": false
   },
   "outputs": [
    {
     "name": "stdout",
     "output_type": "stream",
     "text": [
      "Train on 63043 samples, validate on 15761 samples\n",
      "Epoch 1/30\n",
      "63043/63043 [==============================] - 6s 101us/step - loss: 1.4541 - acc: 0.3963 - val_loss: 1.2664 - val_acc: 0.5101\n",
      "Epoch 2/30\n",
      "63043/63043 [==============================] - 5s 84us/step - loss: 0.9876 - acc: 0.6361 - val_loss: 0.6925 - val_acc: 0.7837\n",
      "Epoch 3/30\n",
      "63043/63043 [==============================] - 8s 123us/step - loss: 0.5372 - acc: 0.8633 - val_loss: 0.4364 - val_acc: 0.8921\n",
      "Epoch 4/30\n",
      "63043/63043 [==============================] - 7s 108us/step - loss: 0.3928 - acc: 0.9035 - val_loss: 0.3627 - val_acc: 0.9065\n",
      "Epoch 5/30\n",
      "63043/63043 [==============================] - 7s 108us/step - loss: 0.3387 - acc: 0.9085 - val_loss: 0.3265 - val_acc: 0.9035\n",
      "Epoch 6/30\n",
      "63043/63043 [==============================] - 8s 120us/step - loss: 0.3068 - acc: 0.9094 - val_loss: 0.2970 - val_acc: 0.9018\n",
      "Epoch 7/30\n",
      "63043/63043 [==============================] - 7s 112us/step - loss: 0.2879 - acc: 0.9023 - val_loss: 0.2828 - val_acc: 0.8961\n",
      "Epoch 8/30\n",
      "63043/63043 [==============================] - 7s 112us/step - loss: 0.2690 - acc: 0.9028 - val_loss: 0.2644 - val_acc: 0.8987\n",
      "Epoch 9/30\n",
      "63043/63043 [==============================] - 8s 122us/step - loss: 0.2537 - acc: 0.9038 - val_loss: 0.2482 - val_acc: 0.9010\n",
      "Epoch 10/30\n",
      "63043/63043 [==============================] - 7s 108us/step - loss: 0.2416 - acc: 0.9033 - val_loss: 0.2371 - val_acc: 0.9004\n",
      "Epoch 11/30\n",
      "63043/63043 [==============================] - 7s 108us/step - loss: 0.2303 - acc: 0.9040 - val_loss: 0.2259 - val_acc: 0.9009\n",
      "Epoch 12/30\n",
      "63043/63043 [==============================] - 7s 108us/step - loss: 0.2221 - acc: 0.9080 - val_loss: 0.2214 - val_acc: 0.9083\n",
      "Epoch 13/30\n",
      "63043/63043 [==============================] - 7s 111us/step - loss: 0.2154 - acc: 0.9128 - val_loss: 0.2209 - val_acc: 0.9189\n",
      "Epoch 14/30\n",
      "63043/63043 [==============================] - 8s 120us/step - loss: 0.2114 - acc: 0.9162 - val_loss: 0.2012 - val_acc: 0.9171\n",
      "Epoch 15/30\n",
      "63043/63043 [==============================] - 7s 108us/step - loss: 0.1969 - acc: 0.9227 - val_loss: 0.2089 - val_acc: 0.9167\n",
      "Epoch 16/30\n",
      "63043/63043 [==============================] - 7s 107us/step - loss: 0.2002 - acc: 0.9215 - val_loss: 0.1911 - val_acc: 0.9224\n",
      "Epoch 17/30\n",
      "63043/63043 [==============================] - 7s 109us/step - loss: 0.1857 - acc: 0.9305 - val_loss: 0.1871 - val_acc: 0.9287\n",
      "Epoch 18/30\n",
      "63043/63043 [==============================] - 7s 108us/step - loss: 0.1823 - acc: 0.9316 - val_loss: 0.2210 - val_acc: 0.9168\n",
      "Epoch 19/30\n",
      "63043/63043 [==============================] - 7s 115us/step - loss: 0.1886 - acc: 0.9282 - val_loss: 0.1806 - val_acc: 0.9296\n",
      "Epoch 20/30\n",
      "63043/63043 [==============================] - 7s 114us/step - loss: 0.1750 - acc: 0.9321 - val_loss: 0.1839 - val_acc: 0.9258\n",
      "Epoch 21/30\n",
      "63043/63043 [==============================] - 7s 109us/step - loss: 0.1730 - acc: 0.9317 - val_loss: 0.1708 - val_acc: 0.9295\n",
      "Epoch 22/30\n",
      "63043/63043 [==============================] - 7s 110us/step - loss: 0.1673 - acc: 0.9331 - val_loss: 0.1673 - val_acc: 0.9303\n",
      "Epoch 23/30\n",
      "63043/63043 [==============================] - 7s 110us/step - loss: 0.1594 - acc: 0.9400 - val_loss: 0.1528 - val_acc: 0.9515\n",
      "Epoch 24/30\n",
      "63043/63043 [==============================] - 7s 109us/step - loss: 0.1239 - acc: 0.9730 - val_loss: 0.1081 - val_acc: 0.9815\n",
      "Epoch 25/30\n",
      "63043/63043 [==============================] - 7s 114us/step - loss: 0.1071 - acc: 0.9805 - val_loss: 0.0887 - val_acc: 0.9876\n",
      "Epoch 26/30\n",
      "63043/63043 [==============================] - 7s 112us/step - loss: 0.0800 - acc: 0.9906 - val_loss: 0.0747 - val_acc: 0.9900\n",
      "Epoch 27/30\n",
      "63043/63043 [==============================] - 7s 113us/step - loss: 0.0708 - acc: 0.9916 - val_loss: 0.0722 - val_acc: 0.9885\n",
      "Epoch 28/30\n",
      "63043/63043 [==============================] - 8s 132us/step - loss: 0.0668 - acc: 0.9916 - val_loss: 0.0688 - val_acc: 0.9879\n",
      "Epoch 29/30\n",
      "63043/63043 [==============================] - 8s 130us/step - loss: 0.0644 - acc: 0.9900 - val_loss: 0.0744 - val_acc: 0.9839\n",
      "Epoch 30/30\n",
      "63043/63043 [==============================] - 7s 112us/step - loss: 0.0653 - acc: 0.9880 - val_loss: 0.0785 - val_acc: 0.9853\n"
     ]
    }
   ],
   "source": [
    "train_history =model.fit(x=train_Features, \n",
    "                         y=train_Label, \n",
    "                         validation_split=0.2, \n",
    "                         epochs=30, \n",
    "                         batch_size=1500,verbose=1,callbacks=[early_stopping])"
   ]
  },
  {
   "cell_type": "code",
   "execution_count": 31,
   "metadata": {
    "collapsed": true
   },
   "outputs": [],
   "source": [
    "import matplotlib.pyplot as plt\n",
    "def show_train_history(train_history,train,validation):\n",
    "    plt.plot(train_history.history[train])\n",
    "    plt.plot(train_history.history[validation])\n",
    "    plt.title('Train History')\n",
    "    plt.ylabel(train)\n",
    "    plt.xlabel('Epoch')\n",
    "    plt.legend(['train', 'validation'], loc='upper left')\n",
    "    plt.show()"
   ]
  },
  {
   "cell_type": "code",
   "execution_count": 32,
   "metadata": {
    "collapsed": false
   },
   "outputs": [
    {
     "data": {
      "image/png": "[encoded data removed]",
      "text/plain": [
       "<matplotlib.figure.Figure at 0x7f3a08f92320>"
      ]
     },
     "metadata": {},
     "output_type": "display_data"
    }
   ],
   "source": [
    "show_train_history(train_history,'acc','val_acc')"
   ]
  },
  {
   "cell_type": "code",
   "execution_count": 33,
   "metadata": {
    "collapsed": false
   },
   "outputs": [
    {
     "data": {
      "image/png": "[encoded data removed]",
      "text/plain": [
       "<matplotlib.figure.Figure at 0x7f3a08e4ba90>"
      ]
     },
     "metadata": {},
     "output_type": "display_data"
    }
   ],
   "source": [
    "show_train_history(train_history,'loss','val_loss')"
   ]
  },
  {
   "cell_type": "code",
   "execution_count": 34,
   "metadata": {
    "collapsed": false
   },
   "outputs": [
    {
     "name": "stdout",
     "output_type": "stream",
     "text": [
      "19702/19702 [==============================] - 1s 48us/step\n"
     ]
    }
   ],
   "source": [
    "scores = model.evaluate(x=test_Features, \n",
    "                        y=test_Label)"
   ]
  },
  {
   "cell_type": "code",
   "execution_count": 35,
   "metadata": {
    "collapsed": false
   },
   "outputs": [
    {
     "data": {
      "text/plain": [
       "0.9843163130949166"
      ]
     },
     "execution_count": 35,
     "metadata": {},
     "output_type": "execute_result"
    }
   ],
   "source": [
    "scores[1]"
   ]
  }
 ],
 "metadata": {
  "anaconda-cloud": {},
  "kernelspec": {
   "display_name": "Python [default]",
   "language": "python",
   "name": "python3"
  },
  "language_info": {
   "codemirror_mode": {
    "name": "ipython",
    "version": 3
   },
   "file_extension": ".py",
   "mimetype": "text/x-python",
   "name": "python",
   "nbconvert_exporter": "python",
   "pygments_lexer": "ipython3",
   "version": "3.5.2"
  }
 },
 "nbformat": 4,
 "nbformat_minor": 1
}
