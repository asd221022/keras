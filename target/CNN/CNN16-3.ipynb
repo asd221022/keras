{
 "cells": [
  {
   "cell_type": "code",
   "execution_count": 1,
   "metadata": {
    "collapsed": false
   },
   "outputs": [],
   "source": [
    "import numpy \n",
    "import pandas as pd\n",
    "from sklearn.preprocessing import StandardScaler\n",
    "from sklearn.model_selection import train_test_split\n",
    "numpy.random.seed(10)"
   ]
  },
  {
   "cell_type": "code",
   "execution_count": 2,
   "metadata": {
    "collapsed": false
   },
   "outputs": [],
   "source": [
    "data = pd.read_csv(\"target.csv\")"
   ]
  },
  {
   "cell_type": "code",
   "execution_count": 3,
   "metadata": {
    "collapsed": true
   },
   "outputs": [],
   "source": [
    "data=data.drop(['Unnamed: 7'], axis=1)\n",
    "data=data.drop(['customer_id'], axis=1)"
   ]
  },
  {
   "cell_type": "code",
   "execution_count": 4,
   "metadata": {
    "collapsed": true
   },
   "outputs": [],
   "source": [
    "data = data.dropna(how='any')"
   ]
  },
  {
   "cell_type": "code",
   "execution_count": 5,
   "metadata": {
    "collapsed": true
   },
   "outputs": [],
   "source": [
    "data['res_type']= data['res_type'].map({'CN':0, 'CO': 1, 'RE': 2, 'TO': 3,'SI': 4}).astype(int)"
   ]
  },
  {
   "cell_type": "code",
   "execution_count": 6,
   "metadata": {
    "collapsed": true
   },
   "outputs": [],
   "source": [
    "data=pd.get_dummies(data=data,columns=['geo_group'])"
   ]
  },
  {
   "cell_type": "code",
   "execution_count": 7,
   "metadata": {
    "collapsed": false
   },
   "outputs": [],
   "source": [
    "X = data.drop(['res_type'], axis=1).values.astype('float64')"
   ]
  },
  {
   "cell_type": "code",
   "execution_count": 8,
   "metadata": {
    "collapsed": false
   },
   "outputs": [],
   "source": [
    "Y = data['res_type'].values.astype('int64')"
   ]
  },
  {
   "cell_type": "code",
   "execution_count": 9,
   "metadata": {
    "collapsed": false
   },
   "outputs": [
    {
     "data": {
      "text/plain": [
       "78804"
      ]
     },
     "execution_count": 9,
     "metadata": {},
     "output_type": "execute_result"
    }
   ],
   "source": [
    "X = StandardScaler().fit_transform(X)\n",
    "train_Features, test_Features, train_Label, test_Label = train_test_split(X, Y, test_size=0.2, random_state=True) \n",
    "len(train_Features)"
   ]
  },
  {
   "cell_type": "code",
   "execution_count": 10,
   "metadata": {
    "collapsed": true
   },
   "outputs": [],
   "source": [
    "train_Features = train_Features.reshape((train_Features.shape[0], train_Features.shape[1], 1))"
   ]
  },
  {
   "cell_type": "code",
   "execution_count": 11,
   "metadata": {
    "collapsed": true
   },
   "outputs": [],
   "source": [
    "test_Features = test_Features.reshape((test_Features.shape[0], test_Features.shape[1], 1))"
   ]
  },
  {
   "cell_type": "code",
   "execution_count": 12,
   "metadata": {
    "collapsed": false
   },
   "outputs": [
    {
     "name": "stderr",
     "output_type": "stream",
     "text": [
      "Using TensorFlow backend.\n"
     ]
    }
   ],
   "source": [
    "from keras.utils import np_utils\n",
    "train_Label=np_utils.to_categorical(train_Label)\n",
    "test_Label=np_utils.to_categorical(test_Label)"
   ]
  },
  {
   "cell_type": "code",
   "execution_count": 13,
   "metadata": {
    "collapsed": false
   },
   "outputs": [],
   "source": [
    "from keras.models import Sequential\n",
    "from keras.layers import Dense,Dropout,Flatten,Conv1D,MaxPooling1D\n",
    "from keras.layers.embeddings import Embedding\n",
    "from keras.callbacks import EarlyStopping\n",
    "early_stopping = EarlyStopping(monitor='val_loss', patience=2)"
   ]
  },
  {
   "cell_type": "code",
   "execution_count": 14,
   "metadata": {
    "collapsed": true
   },
   "outputs": [],
   "source": [
    "model = Sequential()"
   ]
  },
  {
   "cell_type": "code",
   "execution_count": 15,
   "metadata": {
    "collapsed": true
   },
   "outputs": [],
   "source": [
    "model.add(Conv1D(filters=16*3,\n",
    "                 kernel_size=1,\n",
    "                 padding='valid',\n",
    "                 input_shape=(8,1), \n",
    "                 activation='relu'))"
   ]
  },
  {
   "cell_type": "code",
   "execution_count": 16,
   "metadata": {
    "collapsed": true
   },
   "outputs": [],
   "source": [
    "model.add(MaxPooling1D(pool_size=1))"
   ]
  },
  {
   "cell_type": "code",
   "execution_count": 17,
   "metadata": {
    "collapsed": true
   },
   "outputs": [],
   "source": [
    "model.add(Conv1D(filters=16*2,\n",
    "                 kernel_size=1,\n",
    "                 padding='valid', \n",
    "                 activation='relu'))"
   ]
  },
  {
   "cell_type": "code",
   "execution_count": 18,
   "metadata": {
    "collapsed": true
   },
   "outputs": [],
   "source": [
    "model.add(MaxPooling1D(pool_size=1))"
   ]
  },
  {
   "cell_type": "code",
   "execution_count": 19,
   "metadata": {
    "collapsed": false
   },
   "outputs": [],
   "source": [
    "model.add(Conv1D(filters=16,\n",
    "                 kernel_size=1,\n",
    "                 padding='valid',\n",
    "                 activation='relu'))"
   ]
  },
  {
   "cell_type": "code",
   "execution_count": 20,
   "metadata": {
    "collapsed": true
   },
   "outputs": [],
   "source": [
    "model.add(MaxPooling1D(pool_size=1))"
   ]
  },
  {
   "cell_type": "code",
   "execution_count": 21,
   "metadata": {
    "collapsed": true
   },
   "outputs": [],
   "source": [
    "model.add(Flatten())"
   ]
  },
  {
   "cell_type": "code",
   "execution_count": 22,
   "metadata": {
    "collapsed": true
   },
   "outputs": [],
   "source": [
    "model.add(Dense(8, activation='tanh'))"
   ]
  },
  {
   "cell_type": "code",
   "execution_count": 23,
   "metadata": {
    "collapsed": true
   },
   "outputs": [],
   "source": [
    "model.add(Dense(5,activation='softmax'))"
   ]
  },
  {
   "cell_type": "code",
   "execution_count": 24,
   "metadata": {
    "collapsed": false
   },
   "outputs": [
    {
     "name": "stdout",
     "output_type": "stream",
     "text": [
      "_________________________________________________________________\n",
      "Layer (type)                 Output Shape              Param #   \n",
      "=================================================================\n",
      "conv1d_1 (Conv1D)            (None, 8, 48)             96        \n",
      "_________________________________________________________________\n",
      "max_pooling1d_1 (MaxPooling1 (None, 8, 48)             0         \n",
      "_________________________________________________________________\n",
      "conv1d_2 (Conv1D)            (None, 8, 32)             1568      \n",
      "_________________________________________________________________\n",
      "max_pooling1d_2 (MaxPooling1 (None, 8, 32)             0         \n",
      "_________________________________________________________________\n",
      "conv1d_3 (Conv1D)            (None, 8, 16)             528       \n",
      "_________________________________________________________________\n",
      "max_pooling1d_3 (MaxPooling1 (None, 8, 16)             0         \n",
      "_________________________________________________________________\n",
      "flatten_1 (Flatten)          (None, 128)               0         \n",
      "_________________________________________________________________\n",
      "dense_1 (Dense)              (None, 8)                 1032      \n",
      "_________________________________________________________________\n",
      "dense_2 (Dense)              (None, 5)                 45        \n",
      "=================================================================\n",
      "Total params: 3,269\n",
      "Trainable params: 3,269\n",
      "Non-trainable params: 0\n",
      "_________________________________________________________________\n"
     ]
    }
   ],
   "source": [
    "model.summary()"
   ]
  },
  {
   "cell_type": "code",
   "execution_count": 25,
   "metadata": {
    "collapsed": false
   },
   "outputs": [],
   "source": [
    "model.compile(loss='categorical_crossentropy', \n",
    "              optimizer='adam', metrics=['accuracy'])"
   ]
  },
  {
   "cell_type": "code",
   "execution_count": 26,
   "metadata": {
    "collapsed": false
   },
   "outputs": [
    {
     "name": "stdout",
     "output_type": "stream",
     "text": [
      "Train on 63043 samples, validate on 15761 samples\n",
      "Epoch 1/30\n",
      "63043/63043 [==============================] - 16s 258us/step - loss: 1.4447 - acc: 0.3989 - val_loss: 1.3006 - val_acc: 0.4554\n",
      "Epoch 2/30\n",
      "63043/63043 [==============================] - 8s 124us/step - loss: 1.1086 - acc: 0.5941 - val_loss: 0.8376 - val_acc: 0.7498\n",
      "Epoch 3/30\n",
      "63043/63043 [==============================] - 8s 132us/step - loss: 0.6466 - acc: 0.8231 - val_loss: 0.4863 - val_acc: 0.8821\n",
      "Epoch 4/30\n",
      "63043/63043 [==============================] - 8s 125us/step - loss: 0.3923 - acc: 0.9090 - val_loss: 0.3134 - val_acc: 0.9192\n",
      "Epoch 5/30\n",
      "63043/63043 [==============================] - 8s 125us/step - loss: 0.2648 - acc: 0.9523 - val_loss: 0.2237 - val_acc: 0.9596\n",
      "Epoch 6/30\n",
      "63043/63043 [==============================] - 8s 124us/step - loss: 0.1960 - acc: 0.9770 - val_loss: 0.1726 - val_acc: 0.9776\n",
      "Epoch 7/30\n",
      "63043/63043 [==============================] - 8s 124us/step - loss: 0.1540 - acc: 0.9854 - val_loss: 0.1371 - val_acc: 0.9881\n",
      "Epoch 8/30\n",
      "63043/63043 [==============================] - 8s 130us/step - loss: 0.1268 - acc: 0.9889 - val_loss: 0.1182 - val_acc: 0.9841\n",
      "Epoch 9/30\n",
      "63043/63043 [==============================] - 9s 138us/step - loss: 0.1087 - acc: 0.9892 - val_loss: 0.0994 - val_acc: 0.9928\n",
      "Epoch 10/30\n",
      "63043/63043 [==============================] - 6s 90us/step - loss: 0.0936 - acc: 0.9918 - val_loss: 0.0925 - val_acc: 0.9854\n",
      "Epoch 11/30\n",
      "63043/63043 [==============================] - 6s 88us/step - loss: 0.0838 - acc: 0.9908 - val_loss: 0.0922 - val_acc: 0.9780\n",
      "Epoch 12/30\n",
      "63043/63043 [==============================] - 6s 98us/step - loss: 0.0750 - acc: 0.9915 - val_loss: 0.0703 - val_acc: 0.9933\n",
      "Epoch 13/30\n",
      "63043/63043 [==============================] - 6s 96us/step - loss: 0.0678 - acc: 0.9923 - val_loss: 0.0692 - val_acc: 0.9881\n",
      "Epoch 14/30\n",
      "63043/63043 [==============================] - 6s 93us/step - loss: 0.0640 - acc: 0.9907 - val_loss: 0.0584 - val_acc: 0.9938\n",
      "Epoch 15/30\n",
      "63043/63043 [==============================] - 5s 86us/step - loss: 0.0567 - acc: 0.9932 - val_loss: 0.0574 - val_acc: 0.9897\n",
      "Epoch 16/30\n",
      "63043/63043 [==============================] - 7s 112us/step - loss: 0.0556 - acc: 0.9905 - val_loss: 0.0539 - val_acc: 0.9890\n",
      "Epoch 17/30\n",
      "63043/63043 [==============================] - 7s 117us/step - loss: 0.0521 - acc: 0.9908 - val_loss: 0.0488 - val_acc: 0.9921\n",
      "Epoch 18/30\n",
      "63043/63043 [==============================] - 9s 144us/step - loss: 0.0461 - acc: 0.9936 - val_loss: 0.0443 - val_acc: 0.9943\n",
      "Epoch 19/30\n",
      "63043/63043 [==============================] - 7s 117us/step - loss: 0.0441 - acc: 0.9926 - val_loss: 0.0442 - val_acc: 0.9919\n",
      "Epoch 20/30\n",
      "63043/63043 [==============================] - 8s 122us/step - loss: 0.0428 - acc: 0.9924 - val_loss: 0.0420 - val_acc: 0.9913\n",
      "Epoch 21/30\n",
      "63043/63043 [==============================] - 9s 136us/step - loss: 0.0403 - acc: 0.9927 - val_loss: 0.0415 - val_acc: 0.9914\n",
      "Epoch 22/30\n",
      "63043/63043 [==============================] - 7s 116us/step - loss: 0.0389 - acc: 0.9924 - val_loss: 0.0395 - val_acc: 0.9905\n",
      "Epoch 23/30\n",
      "63043/63043 [==============================] - 7s 105us/step - loss: 0.0373 - acc: 0.9921 - val_loss: 0.0383 - val_acc: 0.9907\n",
      "Epoch 24/30\n",
      "63043/63043 [==============================] - 4s 65us/step - loss: 0.0363 - acc: 0.9925 - val_loss: 0.0362 - val_acc: 0.9916\n",
      "Epoch 25/30\n",
      "63043/63043 [==============================] - 2s 34us/step - loss: 0.0349 - acc: 0.9922 - val_loss: 0.0353 - val_acc: 0.9911\n",
      "Epoch 26/30\n",
      "63043/63043 [==============================] - 2s 36us/step - loss: 0.0333 - acc: 0.9924 - val_loss: 0.0316 - val_acc: 0.9928\n",
      "Epoch 27/30\n",
      "63043/63043 [==============================] - 2s 38us/step - loss: 0.0313 - acc: 0.9929 - val_loss: 0.0329 - val_acc: 0.9906\n",
      "Epoch 28/30\n",
      "63043/63043 [==============================] - 2s 35us/step - loss: 0.0305 - acc: 0.9925 - val_loss: 0.0288 - val_acc: 0.9934\n",
      "Epoch 29/30\n",
      "63043/63043 [==============================] - 2s 33us/step - loss: 0.0290 - acc: 0.9933 - val_loss: 0.0294 - val_acc: 0.9930\n",
      "Epoch 30/30\n",
      "63043/63043 [==============================] - 2s 34us/step - loss: 0.0278 - acc: 0.9931 - val_loss: 0.0322 - val_acc: 0.9906\n"
     ]
    }
   ],
   "source": [
    "train_history =model.fit(x=train_Features, \n",
    "                         y=train_Label, \n",
    "                         validation_split=0.2, \n",
    "                         epochs=30, \n",
    "                         batch_size=1500,verbose=1,callbacks=[early_stopping])"
   ]
  },
  {
   "cell_type": "code",
   "execution_count": 27,
   "metadata": {
    "collapsed": true
   },
   "outputs": [],
   "source": [
    "import matplotlib.pyplot as plt\n",
    "def show_train_history(train_history,train,validation):\n",
    "    plt.plot(train_history.history[train])\n",
    "    plt.plot(train_history.history[validation])\n",
    "    plt.title('Train History')\n",
    "    plt.ylabel(train)\n",
    "    plt.xlabel('Epoch')\n",
    "    plt.legend(['train', 'validation'], loc='upper left')\n",
    "    plt.show()"
   ]
  },
  {
   "cell_type": "code",
   "execution_count": 28,
   "metadata": {
    "collapsed": false
   },
   "outputs": [
    {
     "data": {
      "image/png": "[encoded data removed]",
      "text/plain": [
       "<matplotlib.figure.Figure at 0x7f96d6a15898>"
      ]
     },
     "metadata": {},
     "output_type": "display_data"
    }
   ],
   "source": [
    "show_train_history(train_history,'acc','val_acc')"
   ]
  },
  {
   "cell_type": "code",
   "execution_count": 29,
   "metadata": {
    "collapsed": false
   },
   "outputs": [
    {
     "data": {
      "image/png": "[encoded data removed]",
      "text/plain": [
       "<matplotlib.figure.Figure at 0x7f96d6a159b0>"
      ]
     },
     "metadata": {},
     "output_type": "display_data"
    }
   ],
   "source": [
    "show_train_history(train_history,'loss','val_loss')"
   ]
  },
  {
   "cell_type": "code",
   "execution_count": 30,
   "metadata": {
    "collapsed": false
   },
   "outputs": [
    {
     "name": "stdout",
     "output_type": "stream",
     "text": [
      "19702/19702 [==============================] - 1s 32us/step\n"
     ]
    }
   ],
   "source": [
    "scores = model.evaluate(x=test_Features, \n",
    "                        y=test_Label)"
   ]
  },
  {
   "cell_type": "code",
   "execution_count": 31,
   "metadata": {
    "collapsed": false
   },
   "outputs": [
    {
     "data": {
      "text/plain": [
       "0.9911684092985483"
      ]
     },
     "execution_count": 31,
     "metadata": {},
     "output_type": "execute_result"
    }
   ],
   "source": [
    "scores[1]"
   ]
  }
 ],
 "metadata": {
  "anaconda-cloud": {},
  "kernelspec": {
   "display_name": "Python [default]",
   "language": "python",
   "name": "python3"
  },
  "language_info": {
   "codemirror_mode": {
    "name": "ipython",
    "version": 3
   },
   "file_extension": ".py",
   "mimetype": "text/x-python",
   "name": "python",
   "nbconvert_exporter": "python",
   "pygments_lexer": "ipython3",
   "version": "3.5.2"
  }
 },
 "nbformat": 4,
 "nbformat_minor": 1
}
