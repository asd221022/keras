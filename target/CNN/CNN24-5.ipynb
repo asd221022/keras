{
 "cells": [
  {
   "cell_type": "code",
   "execution_count": 33,
   "metadata": {
    "collapsed": false
   },
   "outputs": [],
   "source": [
    "import numpy \n",
    "import pandas as pd\n",
    "from sklearn.preprocessing import StandardScaler\n",
    "from sklearn.model_selection import train_test_split\n",
    "numpy.random.seed(10)"
   ]
  },
  {
   "cell_type": "code",
   "execution_count": 34,
   "metadata": {
    "collapsed": false
   },
   "outputs": [],
   "source": [
    "data = pd.read_csv(\"target.csv\")"
   ]
  },
  {
   "cell_type": "code",
   "execution_count": 35,
   "metadata": {
    "collapsed": true
   },
   "outputs": [],
   "source": [
    "data=data.drop(['Unnamed: 7'], axis=1)\n",
    "data=data.drop(['customer_id'], axis=1)"
   ]
  },
  {
   "cell_type": "code",
   "execution_count": 36,
   "metadata": {
    "collapsed": true
   },
   "outputs": [],
   "source": [
    "data = data.dropna(how='any')"
   ]
  },
  {
   "cell_type": "code",
   "execution_count": 37,
   "metadata": {
    "collapsed": true
   },
   "outputs": [],
   "source": [
    "data['res_type']= data['res_type'].map({'CN':0, 'CO': 1, 'RE': 2, 'TO': 3,'SI': 4}).astype(int)"
   ]
  },
  {
   "cell_type": "code",
   "execution_count": 38,
   "metadata": {
    "collapsed": true
   },
   "outputs": [],
   "source": [
    "data=pd.get_dummies(data=data,columns=['geo_group'])"
   ]
  },
  {
   "cell_type": "code",
   "execution_count": 39,
   "metadata": {
    "collapsed": false
   },
   "outputs": [],
   "source": [
    "X = data.drop(['res_type'], axis=1).values.astype('float64')"
   ]
  },
  {
   "cell_type": "code",
   "execution_count": 40,
   "metadata": {
    "collapsed": false
   },
   "outputs": [],
   "source": [
    "Y = data['res_type'].values.astype('int64')"
   ]
  },
  {
   "cell_type": "code",
   "execution_count": 41,
   "metadata": {
    "collapsed": false
   },
   "outputs": [
    {
     "data": {
      "text/plain": [
       "78804"
      ]
     },
     "execution_count": 41,
     "metadata": {},
     "output_type": "execute_result"
    }
   ],
   "source": [
    "X = StandardScaler().fit_transform(X)\n",
    "train_Features, test_Features, train_Label, test_Label = train_test_split(X, Y, test_size=0.2, random_state=True) \n",
    "len(train_Features)"
   ]
  },
  {
   "cell_type": "code",
   "execution_count": 42,
   "metadata": {
    "collapsed": true
   },
   "outputs": [],
   "source": [
    "train_Features = train_Features.reshape((train_Features.shape[0], train_Features.shape[1], 1))"
   ]
  },
  {
   "cell_type": "code",
   "execution_count": 43,
   "metadata": {
    "collapsed": true
   },
   "outputs": [],
   "source": [
    "test_Features = test_Features.reshape((test_Features.shape[0], test_Features.shape[1], 1))"
   ]
  },
  {
   "cell_type": "code",
   "execution_count": 44,
   "metadata": {
    "collapsed": false
   },
   "outputs": [],
   "source": [
    "from keras.utils import np_utils\n",
    "train_Label=np_utils.to_categorical(train_Label)\n",
    "test_Label=np_utils.to_categorical(test_Label)"
   ]
  },
  {
   "cell_type": "code",
   "execution_count": 45,
   "metadata": {
    "collapsed": false
   },
   "outputs": [],
   "source": [
    "from keras.models import Sequential\n",
    "from keras.layers import Dense,Dropout,Flatten,Conv1D,MaxPooling1D\n",
    "from keras.layers.embeddings import Embedding\n",
    "from keras.callbacks import EarlyStopping\n",
    "early_stopping = EarlyStopping(monitor='val_loss', patience=2)"
   ]
  },
  {
   "cell_type": "code",
   "execution_count": 46,
   "metadata": {
    "collapsed": true
   },
   "outputs": [],
   "source": [
    "model = Sequential()"
   ]
  },
  {
   "cell_type": "code",
   "execution_count": 47,
   "metadata": {
    "collapsed": true
   },
   "outputs": [],
   "source": [
    "model.add(Conv1D(filters=24*5,\n",
    "                 kernel_size=1,\n",
    "                 padding='valid',\n",
    "                 input_shape=(8,1), \n",
    "                 activation='relu'))"
   ]
  },
  {
   "cell_type": "code",
   "execution_count": 48,
   "metadata": {
    "collapsed": true
   },
   "outputs": [],
   "source": [
    "model.add(MaxPooling1D(pool_size=1))"
   ]
  },
  {
   "cell_type": "code",
   "execution_count": 49,
   "metadata": {
    "collapsed": true
   },
   "outputs": [],
   "source": [
    "model.add(Conv1D(filters=24*4,\n",
    "                 kernel_size=1,\n",
    "                 padding='valid',\n",
    "                 activation='relu'))"
   ]
  },
  {
   "cell_type": "code",
   "execution_count": 50,
   "metadata": {
    "collapsed": true
   },
   "outputs": [],
   "source": [
    "model.add(MaxPooling1D(pool_size=1))"
   ]
  },
  {
   "cell_type": "code",
   "execution_count": 51,
   "metadata": {
    "collapsed": true
   },
   "outputs": [],
   "source": [
    "model.add(Conv1D(filters=24*3,\n",
    "                 kernel_size=1,\n",
    "                 padding='valid',\n",
    "                 activation='relu'))"
   ]
  },
  {
   "cell_type": "code",
   "execution_count": 52,
   "metadata": {
    "collapsed": true
   },
   "outputs": [],
   "source": [
    "model.add(MaxPooling1D(pool_size=1))"
   ]
  },
  {
   "cell_type": "code",
   "execution_count": 53,
   "metadata": {
    "collapsed": true
   },
   "outputs": [],
   "source": [
    "model.add(Conv1D(filters=24*2,\n",
    "                 kernel_size=1,\n",
    "                 padding='valid',\n",
    "                 activation='relu'))"
   ]
  },
  {
   "cell_type": "code",
   "execution_count": 54,
   "metadata": {
    "collapsed": true
   },
   "outputs": [],
   "source": [
    "model.add(MaxPooling1D(pool_size=1))"
   ]
  },
  {
   "cell_type": "code",
   "execution_count": 55,
   "metadata": {
    "collapsed": false
   },
   "outputs": [],
   "source": [
    "model.add(Conv1D(filters=24,\n",
    "                 kernel_size=1,\n",
    "                 padding='valid',\n",
    "                 activation='relu'))"
   ]
  },
  {
   "cell_type": "code",
   "execution_count": 56,
   "metadata": {
    "collapsed": true
   },
   "outputs": [],
   "source": [
    "model.add(MaxPooling1D(pool_size=1))"
   ]
  },
  {
   "cell_type": "code",
   "execution_count": 57,
   "metadata": {
    "collapsed": true
   },
   "outputs": [],
   "source": [
    "model.add(Flatten())"
   ]
  },
  {
   "cell_type": "code",
   "execution_count": 58,
   "metadata": {
    "collapsed": true
   },
   "outputs": [],
   "source": [
    "model.add(Dense(8, activation='tanh'))"
   ]
  },
  {
   "cell_type": "code",
   "execution_count": 59,
   "metadata": {
    "collapsed": true
   },
   "outputs": [],
   "source": [
    "model.add(Dense(5,activation='softmax'))"
   ]
  },
  {
   "cell_type": "code",
   "execution_count": 60,
   "metadata": {
    "collapsed": false
   },
   "outputs": [
    {
     "name": "stdout",
     "output_type": "stream",
     "text": [
      "_________________________________________________________________\n",
      "Layer (type)                 Output Shape              Param #   \n",
      "=================================================================\n",
      "conv1d_6 (Conv1D)            (None, 8, 120)            240       \n",
      "_________________________________________________________________\n",
      "max_pooling1d_6 (MaxPooling1 (None, 8, 120)            0         \n",
      "_________________________________________________________________\n",
      "conv1d_7 (Conv1D)            (None, 8, 96)             11616     \n",
      "_________________________________________________________________\n",
      "max_pooling1d_7 (MaxPooling1 (None, 8, 96)             0         \n",
      "_________________________________________________________________\n",
      "conv1d_8 (Conv1D)            (None, 8, 72)             6984      \n",
      "_________________________________________________________________\n",
      "max_pooling1d_8 (MaxPooling1 (None, 8, 72)             0         \n",
      "_________________________________________________________________\n",
      "conv1d_9 (Conv1D)            (None, 8, 48)             3504      \n",
      "_________________________________________________________________\n",
      "max_pooling1d_9 (MaxPooling1 (None, 8, 48)             0         \n",
      "_________________________________________________________________\n",
      "conv1d_10 (Conv1D)           (None, 8, 24)             1176      \n",
      "_________________________________________________________________\n",
      "max_pooling1d_10 (MaxPooling (None, 8, 24)             0         \n",
      "_________________________________________________________________\n",
      "flatten_2 (Flatten)          (None, 192)               0         \n",
      "_________________________________________________________________\n",
      "dense_3 (Dense)              (None, 8)                 1544      \n",
      "_________________________________________________________________\n",
      "dense_4 (Dense)              (None, 5)                 45        \n",
      "=================================================================\n",
      "Total params: 25,109\n",
      "Trainable params: 25,109\n",
      "Non-trainable params: 0\n",
      "_________________________________________________________________\n"
     ]
    }
   ],
   "source": [
    "model.summary()"
   ]
  },
  {
   "cell_type": "code",
   "execution_count": 61,
   "metadata": {
    "collapsed": false
   },
   "outputs": [],
   "source": [
    "model.compile(loss='categorical_crossentropy', \n",
    "              optimizer='adam', metrics=['accuracy'])"
   ]
  },
  {
   "cell_type": "code",
   "execution_count": 62,
   "metadata": {
    "collapsed": false
   },
   "outputs": [
    {
     "name": "stdout",
     "output_type": "stream",
     "text": [
      "Train on 63043 samples, validate on 15761 samples\n",
      "Epoch 1/30\n",
      "63043/63043 [==============================] - 35s 555us/step - loss: 1.2361 - acc: 0.5299 - val_loss: 0.9322 - val_acc: 0.6376\n",
      "Epoch 2/30\n",
      "63043/63043 [==============================] - 26s 415us/step - loss: 0.7640 - acc: 0.7170 - val_loss: 0.6283 - val_acc: 0.8161\n",
      "Epoch 3/30\n",
      "63043/63043 [==============================] - 24s 379us/step - loss: 0.5388 - acc: 0.8752 - val_loss: 0.4725 - val_acc: 0.9065\n",
      "Epoch 4/30\n",
      "63043/63043 [==============================] - 18s 281us/step - loss: 0.4331 - acc: 0.9292 - val_loss: 0.4012 - val_acc: 0.9588\n",
      "Epoch 5/30\n",
      "63043/63043 [==============================] - 18s 282us/step - loss: 0.3748 - acc: 0.9678 - val_loss: 0.3500 - val_acc: 0.9712\n",
      "Epoch 6/30\n",
      "63043/63043 [==============================] - 18s 281us/step - loss: 0.3324 - acc: 0.9708 - val_loss: 0.3176 - val_acc: 0.9678\n",
      "Epoch 7/30\n",
      "63043/63043 [==============================] - 18s 283us/step - loss: 0.3022 - acc: 0.9690 - val_loss: 0.2885 - val_acc: 0.9675\n",
      "Epoch 8/30\n",
      "63043/63043 [==============================] - 18s 283us/step - loss: 0.2716 - acc: 0.9732 - val_loss: 0.2658 - val_acc: 0.9697\n",
      "Epoch 9/30\n",
      "63043/63043 [==============================] - 18s 282us/step - loss: 0.2513 - acc: 0.9727 - val_loss: 0.2438 - val_acc: 0.9702\n",
      "Epoch 10/30\n",
      "63043/63043 [==============================] - 18s 282us/step - loss: 0.2335 - acc: 0.9720 - val_loss: 0.2206 - val_acc: 0.9740\n",
      "Epoch 11/30\n",
      "63043/63043 [==============================] - 18s 282us/step - loss: 0.2139 - acc: 0.9738 - val_loss: 0.2032 - val_acc: 0.9721\n",
      "Epoch 12/30\n",
      "63043/63043 [==============================] - 18s 282us/step - loss: 0.1939 - acc: 0.9746 - val_loss: 0.1828 - val_acc: 0.9890\n",
      "Epoch 13/30\n",
      "63043/63043 [==============================] - 18s 281us/step - loss: 0.1804 - acc: 0.9865 - val_loss: 0.2087 - val_acc: 0.9682\n",
      "Epoch 14/30\n",
      "63043/63043 [==============================] - 18s 281us/step - loss: 0.1707 - acc: 0.9864 - val_loss: 0.1634 - val_acc: 0.9879\n",
      "Epoch 15/30\n",
      "63043/63043 [==============================] - 18s 282us/step - loss: 0.1570 - acc: 0.9887 - val_loss: 0.1601 - val_acc: 0.9855\n",
      "Epoch 16/30\n",
      "63043/63043 [==============================] - 11s 179us/step - loss: 0.1534 - acc: 0.9860 - val_loss: 0.1424 - val_acc: 0.9894\n",
      "Epoch 17/30\n",
      "63043/63043 [==============================] - 10s 159us/step - loss: 0.1407 - acc: 0.9888 - val_loss: 0.1411 - val_acc: 0.9850\n",
      "Epoch 18/30\n",
      "63043/63043 [==============================] - 10s 156us/step - loss: 0.1353 - acc: 0.9879 - val_loss: 0.1354 - val_acc: 0.9867\n",
      "Epoch 19/30\n",
      "63043/63043 [==============================] - 10s 155us/step - loss: 0.1292 - acc: 0.9877 - val_loss: 0.1297 - val_acc: 0.9862\n",
      "Epoch 20/30\n",
      "63043/63043 [==============================] - 10s 156us/step - loss: 0.1230 - acc: 0.9883 - val_loss: 0.1543 - val_acc: 0.9749\n",
      "Epoch 21/30\n",
      "63043/63043 [==============================] - 10s 156us/step - loss: 0.1271 - acc: 0.9849 - val_loss: 0.1240 - val_acc: 0.9846\n",
      "Epoch 22/30\n",
      "63043/63043 [==============================] - 10s 159us/step - loss: 0.1172 - acc: 0.9857 - val_loss: 0.1222 - val_acc: 0.9826\n",
      "Epoch 23/30\n",
      "63043/63043 [==============================] - 10s 156us/step - loss: 0.1100 - acc: 0.9877 - val_loss: 0.1096 - val_acc: 0.9881\n",
      "Epoch 24/30\n",
      "63043/63043 [==============================] - 10s 160us/step - loss: 0.1054 - acc: 0.9878 - val_loss: 0.1217 - val_acc: 0.9828\n",
      "Epoch 25/30\n",
      "63043/63043 [==============================] - 8s 130us/step - loss: 0.1207 - acc: 0.9804 - val_loss: 0.1059 - val_acc: 0.9852\n",
      "Epoch 26/30\n",
      "63043/63043 [==============================] - 8s 129us/step - loss: 0.1134 - acc: 0.9790 - val_loss: 0.1051 - val_acc: 0.9844\n",
      "Epoch 27/30\n",
      "63043/63043 [==============================] - 10s 161us/step - loss: 0.0954 - acc: 0.9878 - val_loss: 0.0898 - val_acc: 0.9893\n",
      "Epoch 28/30\n",
      "63043/63043 [==============================] - 10s 165us/step - loss: 0.0930 - acc: 0.9879 - val_loss: 0.0901 - val_acc: 0.9890\n",
      "Epoch 29/30\n",
      "63043/63043 [==============================] - 12s 185us/step - loss: 0.0864 - acc: 0.9894 - val_loss: 0.0962 - val_acc: 0.9851\n"
     ]
    }
   ],
   "source": [
    "train_history =model.fit(x=train_Features, \n",
    "                         y=train_Label, \n",
    "                         validation_split=0.2, \n",
    "                         epochs=30, \n",
    "                         batch_size=1500,verbose=1,callbacks=[early_stopping])"
   ]
  },
  {
   "cell_type": "code",
   "execution_count": 63,
   "metadata": {
    "collapsed": true
   },
   "outputs": [],
   "source": [
    "import matplotlib.pyplot as plt\n",
    "def show_train_history(train_history,train,validation):\n",
    "    plt.plot(train_history.history[train])\n",
    "    plt.plot(train_history.history[validation])\n",
    "    plt.title('Train History')\n",
    "    plt.ylabel(train)\n",
    "    plt.xlabel('Epoch')\n",
    "    plt.legend(['train', 'validation'], loc='upper left')\n",
    "    plt.show()"
   ]
  },
  {
   "cell_type": "code",
   "execution_count": 64,
   "metadata": {
    "collapsed": false
   },
   "outputs": [
    {
     "data": {
      "image/png": "[encoded data removed]",
      "text/plain": [
       "<matplotlib.figure.Figure at 0x7f28c2d42c50>"
      ]
     },
     "metadata": {},
     "output_type": "display_data"
    }
   ],
   "source": [
    "show_train_history(train_history,'acc','val_acc')"
   ]
  },
  {
   "cell_type": "code",
   "execution_count": 65,
   "metadata": {
    "collapsed": false
   },
   "outputs": [
    {
     "data": {
      "image/png": "[encoded data removed]",
      "text/plain": [
       "<matplotlib.figure.Figure at 0x7f28c2d8fb38>"
      ]
     },
     "metadata": {},
     "output_type": "display_data"
    }
   ],
   "source": [
    "show_train_history(train_history,'loss','val_loss')"
   ]
  },
  {
   "cell_type": "code",
   "execution_count": 66,
   "metadata": {
    "collapsed": false
   },
   "outputs": [
    {
     "name": "stdout",
     "output_type": "stream",
     "text": [
      "19702/19702 [==============================] - 3s 133us/step\n"
     ]
    }
   ],
   "source": [
    "scores = model.evaluate(x=test_Features, \n",
    "                        y=test_Label)"
   ]
  },
  {
   "cell_type": "code",
   "execution_count": 67,
   "metadata": {
    "collapsed": false
   },
   "outputs": [
    {
     "data": {
      "text/plain": [
       "0.9843163130767647"
      ]
     },
     "execution_count": 67,
     "metadata": {},
     "output_type": "execute_result"
    }
   ],
   "source": [
    "scores[1]"
   ]
  }
 ],
 "metadata": {
  "anaconda-cloud": {},
  "kernelspec": {
   "display_name": "Python [default]",
   "language": "python",
   "name": "python3"
  },
  "language_info": {
   "codemirror_mode": {
    "name": "ipython",
    "version": 3
   },
   "file_extension": ".py",
   "mimetype": "text/x-python",
   "name": "python",
   "nbconvert_exporter": "python",
   "pygments_lexer": "ipython3",
   "version": "3.5.2"
  }
 },
 "nbformat": 4,
 "nbformat_minor": 1
}
