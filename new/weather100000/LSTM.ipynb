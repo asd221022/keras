{
 "cells": [
  {
   "cell_type": "code",
   "execution_count": 21,
   "metadata": {
    "collapsed": false
   },
   "outputs": [],
   "source": [
    "import numpy \n",
    "import pandas as pd\n",
    "from sklearn.preprocessing import StandardScaler\n",
    "from sklearn.model_selection import train_test_split\n",
    "numpy.random.seed(10)"
   ]
  },
  {
   "cell_type": "code",
   "execution_count": 22,
   "metadata": {
    "collapsed": false
   },
   "outputs": [],
   "source": [
    "all_df = pd.read_csv(\"data/weather.csv\")"
   ]
  },
  {
   "cell_type": "code",
   "execution_count": 23,
   "metadata": {
    "collapsed": true
   },
   "outputs": [],
   "source": [
    "all_df=all_df.drop(['RISK_MM'], axis=1)"
   ]
  },
  {
   "cell_type": "code",
   "execution_count": 24,
   "metadata": {
    "collapsed": true
   },
   "outputs": [],
   "source": [
    "X=all_df.drop(['RainTomorrow'], axis=1).values.astype('float64')"
   ]
  },
  {
   "cell_type": "code",
   "execution_count": 25,
   "metadata": {
    "collapsed": true
   },
   "outputs": [],
   "source": [
    "Y = all_df['RainTomorrow'].values.astype('int64')"
   ]
  },
  {
   "cell_type": "code",
   "execution_count": 26,
   "metadata": {
    "collapsed": false
   },
   "outputs": [
    {
     "data": {
      "text/plain": [
       "95672"
      ]
     },
     "execution_count": 26,
     "metadata": {},
     "output_type": "execute_result"
    }
   ],
   "source": [
    "X = StandardScaler().fit_transform(X)\n",
    "train_Features, test_Features, train_Label, test_Label = train_test_split(X, Y, test_size=0.2, random_state=True) \n",
    "len(train_Features)"
   ]
  },
  {
   "cell_type": "code",
   "execution_count": 27,
   "metadata": {
    "collapsed": false
   },
   "outputs": [
    {
     "data": {
      "text/plain": [
       "array([[-0.28057235, -0.88540995, -0.15604664,  0.58549966,  0.29969181,\n",
       "         0.56686938,  0.71671696,  0.24811193, -0.16280797,  0.27738035,\n",
       "        -0.47846775, -0.9189042 , -0.53271769],\n",
       "       [ 0.74023477, -0.34150784, -0.274179  ,  0.43712836,  1.89126836,\n",
       "         1.3737581 , -0.06742478,  1.02136889, -0.43047181, -0.40644069,\n",
       "         0.40533611, -0.21640785, -0.53271769]])"
      ]
     },
     "execution_count": 27,
     "metadata": {},
     "output_type": "execute_result"
    }
   ],
   "source": [
    "test_Features[:2]"
   ]
  },
  {
   "cell_type": "code",
   "execution_count": 28,
   "metadata": {
    "collapsed": false
   },
   "outputs": [
    {
     "data": {
      "text/plain": [
       "array([1, 1, 0, 1])"
      ]
     },
     "execution_count": 28,
     "metadata": {},
     "output_type": "execute_result"
    }
   ],
   "source": [
    "train_Label[:4]"
   ]
  },
  {
   "cell_type": "code",
   "execution_count": 29,
   "metadata": {
    "collapsed": false
   },
   "outputs": [
    {
     "data": {
      "text/plain": [
       "(95672, 13)"
      ]
     },
     "execution_count": 29,
     "metadata": {},
     "output_type": "execute_result"
    }
   ],
   "source": [
    "train_Features.shape"
   ]
  },
  {
   "cell_type": "code",
   "execution_count": 30,
   "metadata": {
    "collapsed": false
   },
   "outputs": [
    {
     "data": {
      "text/plain": [
       "array([1, 0, 0, 0])"
      ]
     },
     "execution_count": 30,
     "metadata": {},
     "output_type": "execute_result"
    }
   ],
   "source": [
    "test_Label[:4]"
   ]
  },
  {
   "cell_type": "code",
   "execution_count": 31,
   "metadata": {
    "collapsed": true
   },
   "outputs": [],
   "source": [
    "train_Features = train_Features.reshape((train_Features.shape[0], train_Features.shape[1], 1))"
   ]
  },
  {
   "cell_type": "code",
   "execution_count": 32,
   "metadata": {
    "collapsed": true
   },
   "outputs": [],
   "source": [
    "test_Features = test_Features.reshape((test_Features.shape[0], test_Features.shape[1], 1))"
   ]
  },
  {
   "cell_type": "code",
   "execution_count": 33,
   "metadata": {
    "collapsed": false
   },
   "outputs": [],
   "source": [
    "from keras.utils import np_utils\n",
    "train_Label = train_Label.reshape(train_Label.shape[0], 1)\n",
    "test_Label= test_Label.reshape(test_Label.shape[0], 1)\n",
    "train_Label=np_utils.to_categorical(train_Label)\n",
    "test_Label=np_utils.to_categorical(test_Label)"
   ]
  },
  {
   "cell_type": "code",
   "execution_count": 34,
   "metadata": {
    "collapsed": false
   },
   "outputs": [],
   "source": [
    "from keras.models import Sequential\n",
    "from keras.layers.core import Dense, Dropout, Activation\n",
    "from keras.layers.embeddings import Embedding\n",
    "from keras.layers.recurrent import LSTM\n",
    "from keras.callbacks import EarlyStopping\n",
    "early_stopping = EarlyStopping(monitor='val_loss', patience=2)"
   ]
  },
  {
   "cell_type": "code",
   "execution_count": 35,
   "metadata": {
    "collapsed": true
   },
   "outputs": [],
   "source": [
    "model = Sequential()"
   ]
  },
  {
   "cell_type": "code",
   "execution_count": 36,
   "metadata": {
    "collapsed": false
   },
   "outputs": [],
   "source": [
    "model.add(LSTM(units=26, input_shape=(13,1)))"
   ]
  },
  {
   "cell_type": "code",
   "execution_count": 37,
   "metadata": {
    "collapsed": true
   },
   "outputs": [],
   "source": [
    "model.add(Dense(2, activation = \"sigmoid\"))"
   ]
  },
  {
   "cell_type": "code",
   "execution_count": 38,
   "metadata": {
    "collapsed": false
   },
   "outputs": [
    {
     "name": "stdout",
     "output_type": "stream",
     "text": [
      "_________________________________________________________________\n",
      "Layer (type)                 Output Shape              Param #   \n",
      "=================================================================\n",
      "lstm_2 (LSTM)                (None, 26)                2912      \n",
      "_________________________________________________________________\n",
      "dense_2 (Dense)              (None, 2)                 54        \n",
      "=================================================================\n",
      "Total params: 2,966\n",
      "Trainable params: 2,966\n",
      "Non-trainable params: 0\n",
      "_________________________________________________________________\n"
     ]
    }
   ],
   "source": [
    "model.summary()"
   ]
  },
  {
   "cell_type": "code",
   "execution_count": 39,
   "metadata": {
    "collapsed": false
   },
   "outputs": [],
   "source": [
    "model.compile(loss='binary_crossentropy', \n",
    "              optimizer='adam', metrics=['accuracy'])"
   ]
  },
  {
   "cell_type": "code",
   "execution_count": 40,
   "metadata": {
    "collapsed": false
   },
   "outputs": [
    {
     "name": "stdout",
     "output_type": "stream",
     "text": [
      "Train on 76537 samples, validate on 19135 samples\n",
      "Epoch 1/60\n",
      "76537/76537 [==============================] - 12s 161us/step - loss: 0.6160 - acc: 0.7450 - val_loss: 0.5043 - val_acc: 0.7798\n",
      "Epoch 2/60\n",
      "76537/76537 [==============================] - 10s 131us/step - loss: 0.4891 - acc: 0.7841 - val_loss: 0.4803 - val_acc: 0.7829\n",
      "Epoch 3/60\n",
      "76537/76537 [==============================] - 10s 131us/step - loss: 0.4633 - acc: 0.7863 - val_loss: 0.4553 - val_acc: 0.7884\n",
      "Epoch 4/60\n",
      "76537/76537 [==============================] - 13s 175us/step - loss: 0.4435 - acc: 0.7934 - val_loss: 0.4400 - val_acc: 0.7942\n",
      "Epoch 5/60\n",
      "76537/76537 [==============================] - 9s 111us/step - loss: 0.4290 - acc: 0.8018 - val_loss: 0.4261 - val_acc: 0.8082\n",
      "Epoch 6/60\n",
      "76537/76537 [==============================] - 8s 107us/step - loss: 0.4159 - acc: 0.8169 - val_loss: 0.4142 - val_acc: 0.8181\n",
      "Epoch 7/60\n",
      "76537/76537 [==============================] - 9s 120us/step - loss: 0.4037 - acc: 0.8251 - val_loss: 0.4034 - val_acc: 0.8238\n",
      "Epoch 8/60\n",
      "76537/76537 [==============================] - 9s 111us/step - loss: 0.3940 - acc: 0.8303 - val_loss: 0.3953 - val_acc: 0.8286\n",
      "Epoch 9/60\n",
      "76537/76537 [==============================] - 8s 108us/step - loss: 0.3867 - acc: 0.8335 - val_loss: 0.3903 - val_acc: 0.8311\n",
      "Epoch 10/60\n",
      "76537/76537 [==============================] - 9s 113us/step - loss: 0.3814 - acc: 0.8361 - val_loss: 0.3889 - val_acc: 0.8323\n",
      "Epoch 11/60\n",
      "76537/76537 [==============================] - 8s 109us/step - loss: 0.3768 - acc: 0.8388 - val_loss: 0.3808 - val_acc: 0.8359\n",
      "Epoch 12/60\n",
      "76537/76537 [==============================] - 9s 112us/step - loss: 0.3742 - acc: 0.8398 - val_loss: 0.3772 - val_acc: 0.8388\n",
      "Epoch 13/60\n",
      "76537/76537 [==============================] - 8s 109us/step - loss: 0.3714 - acc: 0.8410 - val_loss: 0.3762 - val_acc: 0.8396\n",
      "Epoch 14/60\n",
      "76537/76537 [==============================] - 8s 107us/step - loss: 0.3701 - acc: 0.8415 - val_loss: 0.3732 - val_acc: 0.8396\n",
      "Epoch 15/60\n",
      "76537/76537 [==============================] - 8s 110us/step - loss: 0.3664 - acc: 0.8434 - val_loss: 0.3700 - val_acc: 0.8407\n",
      "Epoch 16/60\n",
      "76537/76537 [==============================] - 8s 108us/step - loss: 0.3652 - acc: 0.8439 - val_loss: 0.3726 - val_acc: 0.8421\n",
      "Epoch 17/60\n",
      "76537/76537 [==============================] - 8s 107us/step - loss: 0.3646 - acc: 0.8440 - val_loss: 0.3671 - val_acc: 0.8424\n",
      "Epoch 18/60\n",
      "76537/76537 [==============================] - 8s 109us/step - loss: 0.3625 - acc: 0.8449 - val_loss: 0.3656 - val_acc: 0.8426\n",
      "Epoch 19/60\n",
      "76537/76537 [==============================] - 8s 110us/step - loss: 0.3609 - acc: 0.8460 - val_loss: 0.3640 - val_acc: 0.8436\n",
      "Epoch 20/60\n",
      "76537/76537 [==============================] - 8s 107us/step - loss: 0.3602 - acc: 0.8462 - val_loss: 0.3635 - val_acc: 0.8432\n",
      "Epoch 21/60\n",
      "76537/76537 [==============================] - 8s 110us/step - loss: 0.3595 - acc: 0.8461 - val_loss: 0.3625 - val_acc: 0.8445\n",
      "Epoch 22/60\n",
      "76537/76537 [==============================] - 8s 107us/step - loss: 0.3592 - acc: 0.8467 - val_loss: 0.3624 - val_acc: 0.8438\n",
      "Epoch 23/60\n",
      "76537/76537 [==============================] - 11s 142us/step - loss: 0.3583 - acc: 0.8469 - val_loss: 0.3605 - val_acc: 0.8454\n",
      "Epoch 24/60\n",
      "76537/76537 [==============================] - 12s 156us/step - loss: 0.3569 - acc: 0.8485 - val_loss: 0.3629 - val_acc: 0.8435\n",
      "Epoch 25/60\n",
      "76537/76537 [==============================] - 11s 150us/step - loss: 0.3584 - acc: 0.8478 - val_loss: 0.3598 - val_acc: 0.8455\n",
      "Epoch 26/60\n",
      "76537/76537 [==============================] - 15s 195us/step - loss: 0.3567 - acc: 0.8487 - val_loss: 0.3598 - val_acc: 0.8449\n",
      "Epoch 27/60\n",
      "76537/76537 [==============================] - 12s 163us/step - loss: 0.3557 - acc: 0.8489 - val_loss: 0.3591 - val_acc: 0.8457\n",
      "Epoch 28/60\n",
      "76537/76537 [==============================] - 12s 159us/step - loss: 0.3552 - acc: 0.8489 - val_loss: 0.3590 - val_acc: 0.8466\n",
      "Epoch 29/60\n",
      "76537/76537 [==============================] - 12s 152us/step - loss: 0.3549 - acc: 0.8493 - val_loss: 0.3578 - val_acc: 0.8467\n",
      "Epoch 30/60\n",
      "76537/76537 [==============================] - 12s 162us/step - loss: 0.3550 - acc: 0.8490 - val_loss: 0.3593 - val_acc: 0.8451\n",
      "Epoch 31/60\n",
      "76537/76537 [==============================] - 14s 180us/step - loss: 0.3566 - acc: 0.8486 - val_loss: 0.3579 - val_acc: 0.8463\n"
     ]
    }
   ],
   "source": [
    "train_history =model.fit(x=train_Features, \n",
    "                         y=train_Label, \n",
    "                         validation_split=0.2, \n",
    "                         epochs=60, \n",
    "                         batch_size=1500,verbose=1,callbacks=[early_stopping])"
   ]
  },
  {
   "cell_type": "code",
   "execution_count": 41,
   "metadata": {
    "collapsed": true
   },
   "outputs": [],
   "source": [
    "import matplotlib.pyplot as plt\n",
    "def show_train_history(train_history,train,validation):\n",
    "    plt.plot(train_history.history[train])\n",
    "    plt.plot(train_history.history[validation])\n",
    "    plt.title('Train History')\n",
    "    plt.ylabel(train)\n",
    "    plt.xlabel('Epoch')\n",
    "    plt.legend(['train', 'validation'], loc='upper left')\n",
    "    plt.show()"
   ]
  },
  {
   "cell_type": "code",
   "execution_count": 42,
   "metadata": {
    "collapsed": false
   },
   "outputs": [
    {
     "data": {
      "image/png": "[encoded data removed]",
      "text/plain": [
       "<matplotlib.figure.Figure at 0x7f84e6eb4dd8>"
      ]
     },
     "metadata": {},
     "output_type": "display_data"
    }
   ],
   "source": [
    "show_train_history(train_history,'acc','val_acc')"
   ]
  },
  {
   "cell_type": "code",
   "execution_count": 43,
   "metadata": {
    "collapsed": false
   },
   "outputs": [
    {
     "data": {
      "image/png": "[encoded data removed]",
      "text/plain": [
       "<matplotlib.figure.Figure at 0x7f84e6eb4b70>"
      ]
     },
     "metadata": {},
     "output_type": "display_data"
    }
   ],
   "source": [
    "show_train_history(train_history,'loss','val_loss')"
   ]
  },
  {
   "cell_type": "code",
   "execution_count": 44,
   "metadata": {
    "collapsed": false
   },
   "outputs": [
    {
     "name": "stdout",
     "output_type": "stream",
     "text": [
      "23918/23918 [==============================] - 7s 273us/step\n"
     ]
    }
   ],
   "source": [
    "scores = model.evaluate(x=test_Features, \n",
    "                        y=test_Label)"
   ]
  },
  {
   "cell_type": "code",
   "execution_count": 45,
   "metadata": {
    "collapsed": false
   },
   "outputs": [
    {
     "data": {
      "text/plain": [
       "0.848565933616457"
      ]
     },
     "execution_count": 45,
     "metadata": {},
     "output_type": "execute_result"
    }
   ],
   "source": [
    "scores[1]"
   ]
  }
 ],
 "metadata": {
  "anaconda-cloud": {},
  "kernelspec": {
   "display_name": "Python [default]",
   "language": "python",
   "name": "python3"
  },
  "language_info": {
   "codemirror_mode": {
    "name": "ipython",
    "version": 3
   },
   "file_extension": ".py",
   "mimetype": "text/x-python",
   "name": "python",
   "nbconvert_exporter": "python",
   "pygments_lexer": "ipython3",
   "version": "3.5.2"
  }
 },
 "nbformat": 4,
 "nbformat_minor": 1
}
