{
 "cells": [
  {
   "cell_type": "code",
   "execution_count": 21,
   "metadata": {
    "collapsed": true,
    "slideshow": {
     "slide_type": "-"
    }
   },
   "outputs": [],
   "source": [
    "import numpy\n",
    "import pandas as pd\n",
    "from sklearn.preprocessing import StandardScaler\n",
    "from sklearn.cross_validation import train_test_split\n",
    "numpy.random.seed(10)"
   ]
  },
  {
   "cell_type": "code",
   "execution_count": 22,
   "metadata": {
    "collapsed": true
   },
   "outputs": [],
   "source": [
    "all_df = pd.read_csv(\"data/bank.csv\")"
   ]
  },
  {
   "cell_type": "code",
   "execution_count": 23,
   "metadata": {
    "collapsed": false
   },
   "outputs": [],
   "source": [
    "cols=['age','balance' ,'day', 'duration',\n",
    "       'campaign','pdays','previous','deposit']\n",
    "df=all_df[cols]"
   ]
  },
  {
   "cell_type": "code",
   "execution_count": 24,
   "metadata": {
    "collapsed": false
   },
   "outputs": [
    {
     "name": "stderr",
     "output_type": "stream",
     "text": [
      "/home/bruce/anaconda3/lib/python3.5/site-packages/ipykernel/__main__.py:1: SettingWithCopyWarning: \n",
      "A value is trying to be set on a copy of a slice from a DataFrame.\n",
      "Try using .loc[row_indexer,col_indexer] = value instead\n",
      "\n",
      "See the caveats in the documentation: http://pandas.pydata.org/pandas-docs/stable/indexing.html#indexing-view-versus-copy\n",
      "  if __name__ == '__main__':\n"
     ]
    }
   ],
   "source": [
    "df['deposit']= df['deposit'].map({'no':0, 'yes': 1}).astype(int) "
   ]
  },
  {
   "cell_type": "code",
   "execution_count": 25,
   "metadata": {
    "collapsed": true
   },
   "outputs": [],
   "source": [
    "X=df.drop(['deposit'], axis=1).values"
   ]
  },
  {
   "cell_type": "code",
   "execution_count": 26,
   "metadata": {
    "collapsed": true
   },
   "outputs": [],
   "source": [
    "Y = df['deposit'].values.astype('int64')"
   ]
  },
  {
   "cell_type": "code",
   "execution_count": 27,
   "metadata": {
    "collapsed": false
   },
   "outputs": [
    {
     "data": {
      "text/plain": [
       "(11162, 7)"
      ]
     },
     "execution_count": 27,
     "metadata": {},
     "output_type": "execute_result"
    }
   ],
   "source": [
    "X.shape"
   ]
  },
  {
   "cell_type": "code",
   "execution_count": 28,
   "metadata": {
    "collapsed": false
   },
   "outputs": [
    {
     "data": {
      "text/plain": [
       "array([[  59, 2343,    5, 1042,    1,   -1,    0],\n",
       "       [  56,   45,    5, 1467,    1,   -1,    0],\n",
       "       [  41, 1270,    5, 1389,    1,   -1,    0],\n",
       "       [  55, 2476,    5,  579,    1,   -1,    0],\n",
       "       [  54,  184,    5,  673,    2,   -1,    0]])"
      ]
     },
     "execution_count": 28,
     "metadata": {},
     "output_type": "execute_result"
    }
   ],
   "source": [
    "X[:5]"
   ]
  },
  {
   "cell_type": "code",
   "execution_count": 29,
   "metadata": {
    "collapsed": false
   },
   "outputs": [
    {
     "data": {
      "text/plain": [
       "array([1, 1, 1, 1, 1])"
      ]
     },
     "execution_count": 29,
     "metadata": {},
     "output_type": "execute_result"
    }
   ],
   "source": [
    "Y[:5]"
   ]
  },
  {
   "cell_type": "code",
   "execution_count": 30,
   "metadata": {
    "collapsed": false
   },
   "outputs": [
    {
     "name": "stderr",
     "output_type": "stream",
     "text": [
      "/home/bruce/anaconda3/lib/python3.5/site-packages/sklearn/utils/validation.py:420: DataConversionWarning: Data with input dtype int64 was converted to float64 by StandardScaler.\n",
      "  warnings.warn(msg, DataConversionWarning)\n",
      "/home/bruce/anaconda3/lib/python3.5/site-packages/sklearn/utils/validation.py:420: DataConversionWarning: Data with input dtype int64 was converted to float64 by StandardScaler.\n",
      "  warnings.warn(msg, DataConversionWarning)\n"
     ]
    },
    {
     "data": {
      "text/plain": [
       "8929"
      ]
     },
     "execution_count": 30,
     "metadata": {},
     "output_type": "execute_result"
    }
   ],
   "source": [
    " X = StandardScaler().fit_transform(X)\n",
    "train_Features, test_Features, train_Label, test_Label = train_test_split(X, Y, test_size=0.2, random_state=True) \n",
    "len(train_Features)"
   ]
  },
  {
   "cell_type": "code",
   "execution_count": 31,
   "metadata": {
    "collapsed": false
   },
   "outputs": [
    {
     "data": {
      "text/plain": [
       "array([[-0.6070719 , -0.47392593, -0.67194688, -0.79223178, -0.55416834,\n",
       "         0.30959575,  0.0730585 ],\n",
       "       [-0.27129961, -0.2937859 , -1.14698582, -0.84408811, -0.55416834,\n",
       "        -0.48118405, -0.36325984],\n",
       "       [-0.94284418, -0.05969689,  0.278131  , -1.03422801,  0.18059759,\n",
       "         2.79227652,  1.81833188],\n",
       "       [ 0.98784645, -0.47268572,  1.70324782, -0.32552475,  0.18059759,\n",
       "        -0.48118405, -0.36325984]])"
      ]
     },
     "execution_count": 31,
     "metadata": {},
     "output_type": "execute_result"
    }
   ],
   "source": [
    "train_Features[355:359]"
   ]
  },
  {
   "cell_type": "code",
   "execution_count": 32,
   "metadata": {
    "collapsed": false
   },
   "outputs": [
    {
     "data": {
      "text/plain": [
       "array([0, 1, 0, 1])"
      ]
     },
     "execution_count": 32,
     "metadata": {},
     "output_type": "execute_result"
    }
   ],
   "source": [
    "train_Label[:4]"
   ]
  },
  {
   "cell_type": "code",
   "execution_count": 33,
   "metadata": {
    "collapsed": false
   },
   "outputs": [],
   "source": [
    "from keras.models import Sequential\n",
    "from keras.layers import Dense,Dropout\n",
    "from keras.callbacks import EarlyStopping\n",
    "early_stopping = EarlyStopping(monitor='val_loss', patience=2)"
   ]
  },
  {
   "cell_type": "code",
   "execution_count": 34,
   "metadata": {
    "collapsed": true
   },
   "outputs": [],
   "source": [
    "model = Sequential()"
   ]
  },
  {
   "cell_type": "code",
   "execution_count": 35,
   "metadata": {
    "collapsed": true
   },
   "outputs": [],
   "source": [
    "model.add(Dense(units=7*2,   input_dim=7,\n",
    "                kernel_initializer='uniform', \n",
    "                activation='relu'))"
   ]
  },
  {
   "cell_type": "code",
   "execution_count": 36,
   "metadata": {
    "collapsed": true
   },
   "outputs": [],
   "source": [
    "model.add(Dense(units=7,   \n",
    "                kernel_initializer='uniform', \n",
    "                activation='relu'))"
   ]
  },
  {
   "cell_type": "code",
   "execution_count": 37,
   "metadata": {
    "collapsed": true
   },
   "outputs": [],
   "source": [
    "model.add(Dense(units=1, \n",
    "                kernel_initializer='uniform',\n",
    "                activation='sigmoid'))"
   ]
  },
  {
   "cell_type": "code",
   "execution_count": 38,
   "metadata": {
    "collapsed": false
   },
   "outputs": [
    {
     "name": "stdout",
     "output_type": "stream",
     "text": [
      "_________________________________________________________________\n",
      "Layer (type)                 Output Shape              Param #   \n",
      "=================================================================\n",
      "dense_4 (Dense)              (None, 14)                112       \n",
      "_________________________________________________________________\n",
      "dense_5 (Dense)              (None, 7)                 105       \n",
      "_________________________________________________________________\n",
      "dense_6 (Dense)              (None, 1)                 8         \n",
      "=================================================================\n",
      "Total params: 225\n",
      "Trainable params: 225\n",
      "Non-trainable params: 0\n",
      "_________________________________________________________________\n"
     ]
    }
   ],
   "source": [
    "model.summary()"
   ]
  },
  {
   "cell_type": "code",
   "execution_count": 39,
   "metadata": {
    "collapsed": true
   },
   "outputs": [],
   "source": [
    "model.compile(loss='binary_crossentropy', \n",
    "              optimizer='adam', metrics=['accuracy'])"
   ]
  },
  {
   "cell_type": "code",
   "execution_count": 40,
   "metadata": {
    "collapsed": false
   },
   "outputs": [
    {
     "name": "stdout",
     "output_type": "stream",
     "text": [
      "Train on 8036 samples, validate on 893 samples\n",
      "Epoch 1/60\n",
      "8036/8036 [==============================] - 1s 169us/step - loss: 0.6920 - acc: 0.5261 - val_loss: 0.6887 - val_acc: 0.5622\n",
      "Epoch 2/60\n",
      "8036/8036 [==============================] - 0s 31us/step - loss: 0.6803 - acc: 0.6644 - val_loss: 0.6636 - val_acc: 0.7335\n",
      "Epoch 3/60\n",
      "8036/8036 [==============================] - 0s 39us/step - loss: 0.6386 - acc: 0.7413 - val_loss: 0.6077 - val_acc: 0.7492\n",
      "Epoch 4/60\n",
      "8036/8036 [==============================] - 0s 38us/step - loss: 0.5792 - acc: 0.7498 - val_loss: 0.5527 - val_acc: 0.7548\n",
      "Epoch 5/60\n",
      "8036/8036 [==============================] - 0s 33us/step - loss: 0.5393 - acc: 0.7541 - val_loss: 0.5237 - val_acc: 0.7716\n",
      "Epoch 6/60\n",
      "8036/8036 [==============================] - 0s 35us/step - loss: 0.5202 - acc: 0.7575 - val_loss: 0.5091 - val_acc: 0.7693\n",
      "Epoch 7/60\n",
      "8036/8036 [==============================] - 0s 43us/step - loss: 0.5119 - acc: 0.7582 - val_loss: 0.5038 - val_acc: 0.7704\n",
      "Epoch 8/60\n",
      "8036/8036 [==============================] - 0s 44us/step - loss: 0.5077 - acc: 0.7623 - val_loss: 0.4990 - val_acc: 0.7749\n",
      "Epoch 9/60\n",
      "8036/8036 [==============================] - 0s 41us/step - loss: 0.5044 - acc: 0.7634 - val_loss: 0.4957 - val_acc: 0.7783\n",
      "Epoch 10/60\n",
      "8036/8036 [==============================] - 0s 34us/step - loss: 0.5020 - acc: 0.7664 - val_loss: 0.4930 - val_acc: 0.7727\n",
      "Epoch 11/60\n",
      "8036/8036 [==============================] - 0s 35us/step - loss: 0.4998 - acc: 0.7685 - val_loss: 0.4913 - val_acc: 0.7760\n",
      "Epoch 12/60\n",
      "8036/8036 [==============================] - 0s 41us/step - loss: 0.4981 - acc: 0.7692 - val_loss: 0.4885 - val_acc: 0.7760\n",
      "Epoch 13/60\n",
      "8036/8036 [==============================] - 0s 35us/step - loss: 0.4958 - acc: 0.7703 - val_loss: 0.4869 - val_acc: 0.7772\n",
      "Epoch 14/60\n",
      "8036/8036 [==============================] - 0s 33us/step - loss: 0.4939 - acc: 0.7720 - val_loss: 0.4839 - val_acc: 0.7738\n",
      "Epoch 15/60\n",
      "8036/8036 [==============================] - 0s 36us/step - loss: 0.4919 - acc: 0.7733 - val_loss: 0.4824 - val_acc: 0.7738\n",
      "Epoch 16/60\n",
      "8036/8036 [==============================] - 0s 42us/step - loss: 0.4906 - acc: 0.7758 - val_loss: 0.4795 - val_acc: 0.7816\n",
      "Epoch 17/60\n",
      "8036/8036 [==============================] - 0s 42us/step - loss: 0.4883 - acc: 0.7755 - val_loss: 0.4789 - val_acc: 0.7794\n",
      "Epoch 18/60\n",
      "8036/8036 [==============================] - 0s 44us/step - loss: 0.4868 - acc: 0.7766 - val_loss: 0.4752 - val_acc: 0.7783\n",
      "Epoch 19/60\n",
      "8036/8036 [==============================] - 0s 49us/step - loss: 0.4848 - acc: 0.7769 - val_loss: 0.4743 - val_acc: 0.7816\n",
      "Epoch 20/60\n",
      "8036/8036 [==============================] - 0s 34us/step - loss: 0.4831 - acc: 0.7796 - val_loss: 0.4728 - val_acc: 0.7850\n",
      "Epoch 21/60\n",
      "8036/8036 [==============================] - 0s 37us/step - loss: 0.4816 - acc: 0.7791 - val_loss: 0.4699 - val_acc: 0.7805\n",
      "Epoch 22/60\n",
      "8036/8036 [==============================] - 0s 37us/step - loss: 0.4802 - acc: 0.7795 - val_loss: 0.4693 - val_acc: 0.7828\n",
      "Epoch 23/60\n",
      "8036/8036 [==============================] - 0s 39us/step - loss: 0.4789 - acc: 0.7816 - val_loss: 0.4664 - val_acc: 0.7816\n",
      "Epoch 24/60\n",
      "8036/8036 [==============================] - 0s 34us/step - loss: 0.4781 - acc: 0.7805 - val_loss: 0.4658 - val_acc: 0.7839\n",
      "Epoch 25/60\n",
      "8036/8036 [==============================] - 0s 39us/step - loss: 0.4768 - acc: 0.7799 - val_loss: 0.4644 - val_acc: 0.7872\n",
      "Epoch 26/60\n",
      "8036/8036 [==============================] - 0s 41us/step - loss: 0.4759 - acc: 0.7804 - val_loss: 0.4645 - val_acc: 0.7872\n",
      "Epoch 27/60\n",
      "8036/8036 [==============================] - 0s 39us/step - loss: 0.4755 - acc: 0.7822 - val_loss: 0.4632 - val_acc: 0.7917\n",
      "Epoch 28/60\n",
      "8036/8036 [==============================] - 0s 37us/step - loss: 0.4744 - acc: 0.7819 - val_loss: 0.4619 - val_acc: 0.7906\n",
      "Epoch 29/60\n",
      "8036/8036 [==============================] - 0s 42us/step - loss: 0.4744 - acc: 0.7816 - val_loss: 0.4631 - val_acc: 0.7884\n",
      "Epoch 30/60\n",
      "8036/8036 [==============================] - 0s 34us/step - loss: 0.4738 - acc: 0.7835 - val_loss: 0.4612 - val_acc: 0.7928\n",
      "Epoch 31/60\n",
      "8036/8036 [==============================] - 0s 39us/step - loss: 0.4735 - acc: 0.7830 - val_loss: 0.4599 - val_acc: 0.7895\n",
      "Epoch 32/60\n",
      "8036/8036 [==============================] - 0s 42us/step - loss: 0.4733 - acc: 0.7825 - val_loss: 0.4596 - val_acc: 0.7928\n",
      "Epoch 33/60\n",
      "8036/8036 [==============================] - 0s 38us/step - loss: 0.4726 - acc: 0.7836 - val_loss: 0.4593 - val_acc: 0.7917\n",
      "Epoch 34/60\n",
      "8036/8036 [==============================] - 0s 40us/step - loss: 0.4721 - acc: 0.7835 - val_loss: 0.4596 - val_acc: 0.7962\n",
      "Epoch 35/60\n",
      "8036/8036 [==============================] - 0s 45us/step - loss: 0.4721 - acc: 0.7838 - val_loss: 0.4600 - val_acc: 0.7940\n"
     ]
    }
   ],
   "source": [
    "train_history =model.fit(x=train_Features, \n",
    "                         y=train_Label, \n",
    "                         validation_split=0.1, \n",
    "                         epochs=60, \n",
    "                         batch_size=200,verbose=1,callbacks=[early_stopping])"
   ]
  },
  {
   "cell_type": "code",
   "execution_count": 41,
   "metadata": {
    "collapsed": true
   },
   "outputs": [],
   "source": [
    "import matplotlib.pyplot as plt\n",
    "def show_train_history(train_history,train,validation):\n",
    "    plt.plot(train_history.history[train])\n",
    "    plt.plot(train_history.history[validation])\n",
    "    plt.title('Train History')\n",
    "    plt.ylabel(train)\n",
    "    plt.xlabel('Epoch')\n",
    "    plt.legend(['train', 'validation'], loc='upper left')\n",
    "    plt.show()"
   ]
  },
  {
   "cell_type": "code",
   "execution_count": 42,
   "metadata": {
    "collapsed": false
   },
   "outputs": [
    {
     "data": {
      "image/png": "[encoded data removed]",
      "text/plain": [
       "<matplotlib.figure.Figure at 0x7f80c2b709b0>"
      ]
     },
     "metadata": {},
     "output_type": "display_data"
    }
   ],
   "source": [
    "show_train_history(train_history,'acc','val_acc')"
   ]
  },
  {
   "cell_type": "code",
   "execution_count": 43,
   "metadata": {
    "collapsed": false
   },
   "outputs": [
    {
     "data": {
      "image/png": "[encoded data removed]",
      "text/plain": [
       "<matplotlib.figure.Figure at 0x7f80c2b70ba8>"
      ]
     },
     "metadata": {},
     "output_type": "display_data"
    }
   ],
   "source": [
    "show_train_history(train_history,'loss','val_loss')"
   ]
  },
  {
   "cell_type": "code",
   "execution_count": 44,
   "metadata": {
    "collapsed": false
   },
   "outputs": [
    {
     "name": "stdout",
     "output_type": "stream",
     "text": [
      "2233/2233 [==============================] - 0s 76us/step\n"
     ]
    }
   ],
   "source": [
    "scores = model.evaluate(x=test_Features, \n",
    "                        y=test_Label)"
   ]
  },
  {
   "cell_type": "code",
   "execution_count": 45,
   "metadata": {
    "collapsed": false
   },
   "outputs": [
    {
     "data": {
      "text/plain": [
       "0.7828034038133702"
      ]
     },
     "execution_count": 45,
     "metadata": {},
     "output_type": "execute_result"
    }
   ],
   "source": [
    "scores[1]"
   ]
  }
 ],
 "metadata": {
  "anaconda-cloud": {},
  "kernelspec": {
   "display_name": "Python [default]",
   "language": "python",
   "name": "python3"
  },
  "language_info": {
   "codemirror_mode": {
    "name": "ipython",
    "version": 3
   },
   "file_extension": ".py",
   "mimetype": "text/x-python",
   "name": "python",
   "nbconvert_exporter": "python",
   "pygments_lexer": "ipython3",
   "version": "3.5.2"
  }
 },
 "nbformat": 4,
 "nbformat_minor": 1
}
