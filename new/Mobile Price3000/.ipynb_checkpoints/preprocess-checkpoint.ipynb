{
 "cells": [
  {
   "cell_type": "code",
   "execution_count": 2,
   "metadata": {
    "collapsed": false,
    "slideshow": {
     "slide_type": "-"
    }
   },
   "outputs": [],
   "source": [
    "from sklearn import metrics\n",
    "from sklearn.ensemble import ExtraTreesClassifier\n",
    "import seaborn as sns\n",
    "import matplotlib.pyplot as plt\n",
    "import numpy as np\n",
    "import pandas as pd\n",
    "from sklearn import preprocessing\n",
    "from sklearn.ensemble import RandomForestClassifier\n",
    "from sklearn.tree import DecisionTreeClassifier\n",
    "from sklearn import svm\n",
    "from sklearn.neighbors import KNeighborsClassifier\n",
    "import csv\n",
    "np.random.seed(10)\n",
    "%matplotlib inline  "
   ]
  },
  {
   "cell_type": "code",
   "execution_count": 3,
   "metadata": {
    "collapsed": false
   },
   "outputs": [],
   "source": [
    "all_df = pd.read_csv(\"data/train.csv\")"
   ]
  },
  {
   "cell_type": "code",
   "execution_count": 4,
   "metadata": {
    "collapsed": false
   },
   "outputs": [
    {
     "data": {
      "text/plain": [
       "(2000, 21)"
      ]
     },
     "execution_count": 4,
     "metadata": {},
     "output_type": "execute_result"
    }
   ],
   "source": [
    "all_df.shape"
   ]
  },
  {
   "cell_type": "code",
   "execution_count": 5,
   "metadata": {
    "collapsed": false
   },
   "outputs": [
    {
     "data": {
      "text/html": [
       "<div>\n",
       "<table border=\"1\" class=\"dataframe\">\n",
       "  <thead>\n",
       "    <tr style=\"text-align: right;\">\n",
       "      <th></th>\n",
       "      <th>battery_power</th>\n",
       "      <th>blue</th>\n",
       "      <th>clock_speed</th>\n",
       "      <th>dual_sim</th>\n",
       "      <th>fc</th>\n",
       "      <th>four_g</th>\n",
       "      <th>int_memory</th>\n",
       "      <th>m_dep</th>\n",
       "      <th>mobile_wt</th>\n",
       "      <th>n_cores</th>\n",
       "      <th>...</th>\n",
       "      <th>px_height</th>\n",
       "      <th>px_width</th>\n",
       "      <th>ram</th>\n",
       "      <th>sc_h</th>\n",
       "      <th>sc_w</th>\n",
       "      <th>talk_time</th>\n",
       "      <th>three_g</th>\n",
       "      <th>touch_screen</th>\n",
       "      <th>wifi</th>\n",
       "      <th>price_range</th>\n",
       "    </tr>\n",
       "  </thead>\n",
       "  <tbody>\n",
       "    <tr>\n",
       "      <th>0</th>\n",
       "      <td>842</td>\n",
       "      <td>0</td>\n",
       "      <td>2.2</td>\n",
       "      <td>0</td>\n",
       "      <td>1</td>\n",
       "      <td>0</td>\n",
       "      <td>7</td>\n",
       "      <td>0.6</td>\n",
       "      <td>188</td>\n",
       "      <td>2</td>\n",
       "      <td>...</td>\n",
       "      <td>20</td>\n",
       "      <td>756</td>\n",
       "      <td>2549</td>\n",
       "      <td>9</td>\n",
       "      <td>7</td>\n",
       "      <td>19</td>\n",
       "      <td>0</td>\n",
       "      <td>0</td>\n",
       "      <td>1</td>\n",
       "      <td>1</td>\n",
       "    </tr>\n",
       "    <tr>\n",
       "      <th>1</th>\n",
       "      <td>1021</td>\n",
       "      <td>1</td>\n",
       "      <td>0.5</td>\n",
       "      <td>1</td>\n",
       "      <td>0</td>\n",
       "      <td>1</td>\n",
       "      <td>53</td>\n",
       "      <td>0.7</td>\n",
       "      <td>136</td>\n",
       "      <td>3</td>\n",
       "      <td>...</td>\n",
       "      <td>905</td>\n",
       "      <td>1988</td>\n",
       "      <td>2631</td>\n",
       "      <td>17</td>\n",
       "      <td>3</td>\n",
       "      <td>7</td>\n",
       "      <td>1</td>\n",
       "      <td>1</td>\n",
       "      <td>0</td>\n",
       "      <td>2</td>\n",
       "    </tr>\n",
       "    <tr>\n",
       "      <th>2</th>\n",
       "      <td>563</td>\n",
       "      <td>1</td>\n",
       "      <td>0.5</td>\n",
       "      <td>1</td>\n",
       "      <td>2</td>\n",
       "      <td>1</td>\n",
       "      <td>41</td>\n",
       "      <td>0.9</td>\n",
       "      <td>145</td>\n",
       "      <td>5</td>\n",
       "      <td>...</td>\n",
       "      <td>1263</td>\n",
       "      <td>1716</td>\n",
       "      <td>2603</td>\n",
       "      <td>11</td>\n",
       "      <td>2</td>\n",
       "      <td>9</td>\n",
       "      <td>1</td>\n",
       "      <td>1</td>\n",
       "      <td>0</td>\n",
       "      <td>2</td>\n",
       "    </tr>\n",
       "    <tr>\n",
       "      <th>3</th>\n",
       "      <td>615</td>\n",
       "      <td>1</td>\n",
       "      <td>2.5</td>\n",
       "      <td>0</td>\n",
       "      <td>0</td>\n",
       "      <td>0</td>\n",
       "      <td>10</td>\n",
       "      <td>0.8</td>\n",
       "      <td>131</td>\n",
       "      <td>6</td>\n",
       "      <td>...</td>\n",
       "      <td>1216</td>\n",
       "      <td>1786</td>\n",
       "      <td>2769</td>\n",
       "      <td>16</td>\n",
       "      <td>8</td>\n",
       "      <td>11</td>\n",
       "      <td>1</td>\n",
       "      <td>0</td>\n",
       "      <td>0</td>\n",
       "      <td>2</td>\n",
       "    </tr>\n",
       "  </tbody>\n",
       "</table>\n",
       "<p>4 rows × 21 columns</p>\n",
       "</div>"
      ],
      "text/plain": [
       "   battery_power  blue  clock_speed  dual_sim  fc  four_g  int_memory  m_dep  \\\n",
       "0            842     0          2.2         0   1       0           7    0.6   \n",
       "1           1021     1          0.5         1   0       1          53    0.7   \n",
       "2            563     1          0.5         1   2       1          41    0.9   \n",
       "3            615     1          2.5         0   0       0          10    0.8   \n",
       "\n",
       "   mobile_wt  n_cores     ...       px_height  px_width   ram  sc_h  sc_w  \\\n",
       "0        188        2     ...              20       756  2549     9     7   \n",
       "1        136        3     ...             905      1988  2631    17     3   \n",
       "2        145        5     ...            1263      1716  2603    11     2   \n",
       "3        131        6     ...            1216      1786  2769    16     8   \n",
       "\n",
       "   talk_time  three_g  touch_screen  wifi  price_range  \n",
       "0         19        0             0     1            1  \n",
       "1          7        1             1     0            2  \n",
       "2          9        1             1     0            2  \n",
       "3         11        1             0     0            2  \n",
       "\n",
       "[4 rows x 21 columns]"
      ]
     },
     "execution_count": 5,
     "metadata": {},
     "output_type": "execute_result"
    }
   ],
   "source": [
    "all_df[:4]"
   ]
  },
  {
   "cell_type": "code",
   "execution_count": 6,
   "metadata": {
    "collapsed": false
   },
   "outputs": [
    {
     "data": {
      "text/plain": [
       "<bound method DataFrame.info of       battery_power  blue  clock_speed  dual_sim  fc  four_g  int_memory  \\\n",
       "0               842     0          2.2         0   1       0           7   \n",
       "1              1021     1          0.5         1   0       1          53   \n",
       "2               563     1          0.5         1   2       1          41   \n",
       "3               615     1          2.5         0   0       0          10   \n",
       "4              1821     1          1.2         0  13       1          44   \n",
       "5              1859     0          0.5         1   3       0          22   \n",
       "6              1821     0          1.7         0   4       1          10   \n",
       "7              1954     0          0.5         1   0       0          24   \n",
       "8              1445     1          0.5         0   0       0          53   \n",
       "9               509     1          0.6         1   2       1           9   \n",
       "10              769     1          2.9         1   0       0           9   \n",
       "11             1520     1          2.2         0   5       1          33   \n",
       "12             1815     0          2.8         0   2       0          33   \n",
       "13              803     1          2.1         0   7       0          17   \n",
       "14             1866     0          0.5         0  13       1          52   \n",
       "15              775     0          1.0         0   3       0          46   \n",
       "16              838     0          0.5         0   1       1          13   \n",
       "17              595     0          0.9         1   7       1          23   \n",
       "18             1131     1          0.5         1  11       0          49   \n",
       "19              682     1          0.5         0   4       0          19   \n",
       "20              772     0          1.1         1  12       0          39   \n",
       "21             1709     1          2.1         0   1       0          13   \n",
       "22             1949     0          2.6         1   4       0          47   \n",
       "23             1602     1          2.8         1   4       1          38   \n",
       "24              503     0          1.2         1   5       1           8   \n",
       "25              961     1          1.4         1   0       1          57   \n",
       "26              519     1          1.6         1   7       1          51   \n",
       "27              956     0          0.5         0   1       1          41   \n",
       "28             1453     0          1.6         1  12       1          52   \n",
       "29              851     0          0.5         0   3       0          21   \n",
       "...             ...   ...          ...       ...  ..     ...         ...   \n",
       "1970           1913     1          1.8         0   0       0          29   \n",
       "1971            538     0          1.1         1   0       1          25   \n",
       "1972           1191     0          0.8         0   6       1          46   \n",
       "1973            816     0          3.0         1   2       0           9   \n",
       "1974            915     1          0.5         1   9       1          33   \n",
       "1975           1157     1          0.8         0   7       0          27   \n",
       "1976           1201     1          0.5         0   2       0          10   \n",
       "1977           1379     0          1.1         1   1       1          18   \n",
       "1978           1483     1          2.2         0   3       1          53   \n",
       "1979           1614     0          1.2         0   1       1           9   \n",
       "1980            930     1          1.0         1   4       1           4   \n",
       "1981           1454     0          2.6         0   8       0           6   \n",
       "1982           1784     0          1.6         0   4       0          41   \n",
       "1983           1262     0          1.8         1  12       0          34   \n",
       "1984            797     0          2.2         1   0       0          37   \n",
       "1985           1829     1          2.1         0   8       0          59   \n",
       "1986           1139     1          0.9         1   6       1          58   \n",
       "1987            618     1          1.0         0   9       1          13   \n",
       "1988           1547     1          2.9         0   2       0          57   \n",
       "1989            586     0          2.8         0   2       0          15   \n",
       "1990           1617     1          2.4         0   8       1          36   \n",
       "1991           1882     0          2.0         0  11       1          44   \n",
       "1992            674     1          2.9         1   1       0          21   \n",
       "1993           1467     1          0.5         0   0       0          18   \n",
       "1994            858     0          2.2         0   1       0          50   \n",
       "1995            794     1          0.5         1   0       1           2   \n",
       "1996           1965     1          2.6         1   0       0          39   \n",
       "1997           1911     0          0.9         1   1       1          36   \n",
       "1998           1512     0          0.9         0   4       1          46   \n",
       "1999            510     1          2.0         1   5       1          45   \n",
       "\n",
       "      m_dep  mobile_wt  n_cores     ...       px_height  px_width   ram  sc_h  \\\n",
       "0       0.6        188        2     ...              20       756  2549     9   \n",
       "1       0.7        136        3     ...             905      1988  2631    17   \n",
       "2       0.9        145        5     ...            1263      1716  2603    11   \n",
       "3       0.8        131        6     ...            1216      1786  2769    16   \n",
       "4       0.6        141        2     ...            1208      1212  1411     8   \n",
       "5       0.7        164        1     ...            1004      1654  1067    17   \n",
       "6       0.8        139        8     ...             381      1018  3220    13   \n",
       "7       0.8        187        4     ...             512      1149   700    16   \n",
       "8       0.7        174        7     ...             386       836  1099    17   \n",
       "9       0.1         93        5     ...            1137      1224   513    19   \n",
       "10      0.1        182        5     ...             248       874  3946     5   \n",
       "11      0.5        177        8     ...             151      1005  3826    14   \n",
       "12      0.6        159        4     ...             607       748  1482    18   \n",
       "13      1.0        198        4     ...             344      1440  2680     7   \n",
       "14      0.7        185        1     ...             356       563   373    14   \n",
       "15      0.7        159        2     ...             862      1864   568    17   \n",
       "16      0.1        196        8     ...             984      1850  3554    10   \n",
       "17      0.1        121        3     ...             441       810  3752    10   \n",
       "18      0.6        101        5     ...             658       878  1835    19   \n",
       "19      1.0        121        4     ...             902      1064  2337    11   \n",
       "20      0.8         81        7     ...            1314      1854  2819    17   \n",
       "21      1.0        156        2     ...             974      1385  3283    17   \n",
       "22      0.3        199        4     ...             407       822  1433    11   \n",
       "23      0.7        114        3     ...             466       788  1037     8   \n",
       "24      0.4        111        3     ...             201      1245  2583    11   \n",
       "25      0.6        114        8     ...             291      1434  2782    18   \n",
       "26      0.3        132        4     ...             550       645  3763    16   \n",
       "27      1.0        143        7     ...             511      1075  3286    17   \n",
       "28      0.3         96        2     ...             187      1311  2373    10   \n",
       "29      0.4        200        5     ...            1171      1263   478    12   \n",
       "...     ...        ...      ...     ...             ...       ...   ...   ...   \n",
       "1970    0.6        111        5     ...             675       742  2023    17   \n",
       "1971    0.3        163        7     ...             455       537  2215     9   \n",
       "1972    0.8         89        6     ...              42       807   824    19   \n",
       "1973    0.1        117        1     ...            1196      1651  3851    10   \n",
       "1974    0.3        199        2     ...             503       986  2156     7   \n",
       "1975    0.1         88        8     ...            1694      1798  2885     8   \n",
       "1976    1.0         99        7     ...             306       558   495    15   \n",
       "1977    0.2        129        2     ...             838       885  2358    10   \n",
       "1978    0.7        169        5     ...             291       651  1744     6   \n",
       "1979    0.1        161        3     ...             173      1219  1832    15   \n",
       "1980    0.9        144        8     ...            1017      1289  2016    13   \n",
       "1981    0.4        199        3     ...             698      1018  1300    10   \n",
       "1982    0.4        164        6     ...             610      1437  2313    14   \n",
       "1983    0.1        149        5     ...             223       737  3248    13   \n",
       "1984    0.9        144        7     ...             206      1167  2216     9   \n",
       "1985    0.1         91        5     ...            1457      1919  3142    16   \n",
       "1986    0.5        161        2     ...             742       999  1850     9   \n",
       "1987    0.1         80        4     ...             591       724  1424    15   \n",
       "1988    0.4        114        1     ...             347       957  1620     9   \n",
       "1989    0.2         83        3     ...             241       854  2592    12   \n",
       "1990    0.8         85        1     ...             743      1426   296     5   \n",
       "1991    0.8        113        8     ...               4       743  3579    19   \n",
       "1992    0.2        198        3     ...             576      1809  1180     6   \n",
       "1993    0.6        122        5     ...             888      1099  3962    15   \n",
       "1994    0.1         84        1     ...             528      1416  3978    17   \n",
       "1995    0.8        106        6     ...            1222      1890   668    13   \n",
       "1996    0.2        187        4     ...             915      1965  2032    11   \n",
       "1997    0.7        108        8     ...             868      1632  3057     9   \n",
       "1998    0.1        145        5     ...             336       670   869    18   \n",
       "1999    0.9        168        6     ...             483       754  3919    19   \n",
       "\n",
       "      sc_w  talk_time  three_g  touch_screen  wifi  price_range  \n",
       "0        7         19        0             0     1            1  \n",
       "1        3          7        1             1     0            2  \n",
       "2        2          9        1             1     0            2  \n",
       "3        8         11        1             0     0            2  \n",
       "4        2         15        1             1     0            1  \n",
       "5        1         10        1             0     0            1  \n",
       "6        8         18        1             0     1            3  \n",
       "7        3          5        1             1     1            0  \n",
       "8        1         20        1             0     0            0  \n",
       "9       10         12        1             0     0            0  \n",
       "10       2          7        0             0     0            3  \n",
       "11       9         13        1             1     1            3  \n",
       "12       0          2        1             0     0            1  \n",
       "13       1          4        1             0     1            2  \n",
       "14       9          3        1             0     1            0  \n",
       "15      15         11        1             1     1            0  \n",
       "16       9         19        1             0     1            3  \n",
       "17       2         18        1             1     0            3  \n",
       "18      13         16        1             1     0            1  \n",
       "19       1         18        0             1     1            1  \n",
       "20      15          3        1             1     0            3  \n",
       "21       1         15        1             0     0            3  \n",
       "22       5         20        0             0     1            1  \n",
       "23       7         20        1             0     0            0  \n",
       "24       0         12        1             0     0            1  \n",
       "25       9          7        1             1     1            2  \n",
       "26       1          4        1             0     1            3  \n",
       "27       8         12        1             1     0            3  \n",
       "28       1         10        1             1     1            2  \n",
       "29       7         10        1             0     1            0  \n",
       "...    ...        ...      ...           ...   ...          ...  \n",
       "1970    13          8        1             1     0            2  \n",
       "1971     3         17        1             1     1            1  \n",
       "1972    18          7        1             0     0            0  \n",
       "1973     3         14        1             0     1            3  \n",
       "1974     3         13        1             1     0            1  \n",
       "1975     4          2        1             0     1            3  \n",
       "1976     6         14        1             1     1            0  \n",
       "1977     5         15        1             1     0            2  \n",
       "1978     3         10        1             0     0            1  \n",
       "1979     8         11        1             0     0            1  \n",
       "1980    10         16        1             1     1            1  \n",
       "1981     0          2        0             0     1            1  \n",
       "1982     1         11        0             1     0            2  \n",
       "1983     3          4        0             1     1            2  \n",
       "1984     5          6        1             0     0            1  \n",
       "1985     6          5        1             1     1            3  \n",
       "1986     4          8        1             0     0            1  \n",
       "1987    12          7        1             1     0            0  \n",
       "1988     2         19        0             1     1            1  \n",
       "1989     8          3        0             0     0            1  \n",
       "1990     3          7        1             0     0            0  \n",
       "1991     8         20        1             1     0            3  \n",
       "1992     3          4        1             1     1            0  \n",
       "1993    11          5        1             1     1            3  \n",
       "1994    16          3        1             1     0            3  \n",
       "1995     4         19        1             1     0            0  \n",
       "1996    10         16        1             1     1            2  \n",
       "1997     1          5        1             1     0            3  \n",
       "1998    10         19        1             1     1            0  \n",
       "1999     4          2        1             1     1            3  \n",
       "\n",
       "[2000 rows x 21 columns]>"
      ]
     },
     "execution_count": 6,
     "metadata": {},
     "output_type": "execute_result"
    }
   ],
   "source": [
    "all_df.info"
   ]
  },
  {
   "cell_type": "code",
   "execution_count": 119,
   "metadata": {
    "collapsed": false
   },
   "outputs": [],
   "source": [
    "all_df = all_df.drop(['Location','Date','Evaporation','Sunshine', 'Cloud9am','Cloud3pm','WindGustDir',\n",
    "                      'WindDir9am','WindDir3pm'], axis=1)"
   ]
  },
  {
   "cell_type": "code",
   "execution_count": 120,
   "metadata": {
    "collapsed": false
   },
   "outputs": [
    {
     "data": {
      "text/plain": [
       "MinTemp            637\n",
       "MaxTemp            322\n",
       "Rainfall          1406\n",
       "WindGustSpeed     9270\n",
       "WindSpeed9am      1348\n",
       "WindSpeed3pm      2630\n",
       "Humidity9am       1774\n",
       "Humidity3pm       3610\n",
       "Pressure9am      14014\n",
       "Pressure3pm      13981\n",
       "Temp9am            904\n",
       "Temp3pm           2726\n",
       "RainToday         1406\n",
       "RISK_MM              0\n",
       "RainTomorrow         0\n",
       "dtype: int64"
      ]
     },
     "execution_count": 120,
     "metadata": {},
     "output_type": "execute_result"
    }
   ],
   "source": [
    "all_df.isnull().sum()"
   ]
  },
  {
   "cell_type": "code",
   "execution_count": 121,
   "metadata": {
    "collapsed": true
   },
   "outputs": [],
   "source": [
    "all_df = all_df.dropna(how='any')"
   ]
  },
  {
   "cell_type": "code",
   "execution_count": 122,
   "metadata": {
    "collapsed": false
   },
   "outputs": [
    {
     "data": {
      "text/html": [
       "<div>\n",
       "<table border=\"1\" class=\"dataframe\">\n",
       "  <thead>\n",
       "    <tr style=\"text-align: right;\">\n",
       "      <th></th>\n",
       "      <th>MinTemp</th>\n",
       "      <th>MaxTemp</th>\n",
       "      <th>Rainfall</th>\n",
       "      <th>WindGustSpeed</th>\n",
       "      <th>WindSpeed9am</th>\n",
       "      <th>WindSpeed3pm</th>\n",
       "      <th>Humidity9am</th>\n",
       "      <th>Humidity3pm</th>\n",
       "      <th>Pressure9am</th>\n",
       "      <th>Pressure3pm</th>\n",
       "      <th>Temp9am</th>\n",
       "      <th>Temp3pm</th>\n",
       "      <th>RainToday</th>\n",
       "      <th>RISK_MM</th>\n",
       "      <th>RainTomorrow</th>\n",
       "    </tr>\n",
       "  </thead>\n",
       "  <tbody>\n",
       "    <tr>\n",
       "      <th>0</th>\n",
       "      <td>13.4</td>\n",
       "      <td>22.9</td>\n",
       "      <td>0.6</td>\n",
       "      <td>44.0</td>\n",
       "      <td>20.0</td>\n",
       "      <td>24.0</td>\n",
       "      <td>71.0</td>\n",
       "      <td>22.0</td>\n",
       "      <td>1007.7</td>\n",
       "      <td>1007.1</td>\n",
       "      <td>16.9</td>\n",
       "      <td>21.8</td>\n",
       "      <td>No</td>\n",
       "      <td>0.0</td>\n",
       "      <td>No</td>\n",
       "    </tr>\n",
       "    <tr>\n",
       "      <th>1</th>\n",
       "      <td>7.4</td>\n",
       "      <td>25.1</td>\n",
       "      <td>0.0</td>\n",
       "      <td>44.0</td>\n",
       "      <td>4.0</td>\n",
       "      <td>22.0</td>\n",
       "      <td>44.0</td>\n",
       "      <td>25.0</td>\n",
       "      <td>1010.6</td>\n",
       "      <td>1007.8</td>\n",
       "      <td>17.2</td>\n",
       "      <td>24.3</td>\n",
       "      <td>No</td>\n",
       "      <td>0.0</td>\n",
       "      <td>No</td>\n",
       "    </tr>\n",
       "    <tr>\n",
       "      <th>2</th>\n",
       "      <td>12.9</td>\n",
       "      <td>25.7</td>\n",
       "      <td>0.0</td>\n",
       "      <td>46.0</td>\n",
       "      <td>19.0</td>\n",
       "      <td>26.0</td>\n",
       "      <td>38.0</td>\n",
       "      <td>30.0</td>\n",
       "      <td>1007.6</td>\n",
       "      <td>1008.7</td>\n",
       "      <td>21.0</td>\n",
       "      <td>23.2</td>\n",
       "      <td>No</td>\n",
       "      <td>0.0</td>\n",
       "      <td>No</td>\n",
       "    </tr>\n",
       "    <tr>\n",
       "      <th>3</th>\n",
       "      <td>9.2</td>\n",
       "      <td>28.0</td>\n",
       "      <td>0.0</td>\n",
       "      <td>24.0</td>\n",
       "      <td>11.0</td>\n",
       "      <td>9.0</td>\n",
       "      <td>45.0</td>\n",
       "      <td>16.0</td>\n",
       "      <td>1017.6</td>\n",
       "      <td>1012.8</td>\n",
       "      <td>18.1</td>\n",
       "      <td>26.5</td>\n",
       "      <td>No</td>\n",
       "      <td>1.0</td>\n",
       "      <td>No</td>\n",
       "    </tr>\n",
       "  </tbody>\n",
       "</table>\n",
       "</div>"
      ],
      "text/plain": [
       "   MinTemp  MaxTemp  Rainfall  WindGustSpeed  WindSpeed9am  WindSpeed3pm  \\\n",
       "0     13.4     22.9       0.6           44.0          20.0          24.0   \n",
       "1      7.4     25.1       0.0           44.0           4.0          22.0   \n",
       "2     12.9     25.7       0.0           46.0          19.0          26.0   \n",
       "3      9.2     28.0       0.0           24.0          11.0           9.0   \n",
       "\n",
       "   Humidity9am  Humidity3pm  Pressure9am  Pressure3pm  Temp9am  Temp3pm  \\\n",
       "0         71.0         22.0       1007.7       1007.1     16.9     21.8   \n",
       "1         44.0         25.0       1010.6       1007.8     17.2     24.3   \n",
       "2         38.0         30.0       1007.6       1008.7     21.0     23.2   \n",
       "3         45.0         16.0       1017.6       1012.8     18.1     26.5   \n",
       "\n",
       "  RainToday  RISK_MM RainTomorrow  \n",
       "0        No      0.0           No  \n",
       "1        No      0.0           No  \n",
       "2        No      0.0           No  \n",
       "3        No      1.0           No  "
      ]
     },
     "execution_count": 122,
     "metadata": {},
     "output_type": "execute_result"
    }
   ],
   "source": [
    "all_df[:4]"
   ]
  },
  {
   "cell_type": "code",
   "execution_count": 123,
   "metadata": {
    "collapsed": false
   },
   "outputs": [
    {
     "data": {
      "text/plain": [
       "(119590, 15)"
      ]
     },
     "execution_count": 123,
     "metadata": {},
     "output_type": "execute_result"
    }
   ],
   "source": [
    "all_df.shape"
   ]
  },
  {
   "cell_type": "code",
   "execution_count": 124,
   "metadata": {
    "collapsed": false
   },
   "outputs": [],
   "source": [
    "all_df['RainTomorrow']= all_df['RainTomorrow'].map({'No':0, 'Yes': 1}).astype(int) "
   ]
  },
  {
   "cell_type": "code",
   "execution_count": 125,
   "metadata": {
    "collapsed": true
   },
   "outputs": [],
   "source": [
    "all_df['RainToday']= all_df['RainToday'].map({'No':0, 'Yes': 1}).astype(int) "
   ]
  },
  {
   "cell_type": "code",
   "execution_count": 115,
   "metadata": {
    "collapsed": false
   },
   "outputs": [
    {
     "data": {
      "text/html": [
       "<div>\n",
       "<table border=\"1\" class=\"dataframe\">\n",
       "  <thead>\n",
       "    <tr style=\"text-align: right;\">\n",
       "      <th></th>\n",
       "      <th>MinTemp</th>\n",
       "      <th>MaxTemp</th>\n",
       "      <th>Rainfall</th>\n",
       "      <th>Humidity9am</th>\n",
       "      <th>Humidity3pm</th>\n",
       "      <th>Pressure9am</th>\n",
       "      <th>Pressure3pm</th>\n",
       "      <th>Temp9am</th>\n",
       "      <th>Temp3pm</th>\n",
       "      <th>RainToday</th>\n",
       "      <th>RISK_MM</th>\n",
       "      <th>RainTomorrow</th>\n",
       "    </tr>\n",
       "  </thead>\n",
       "  <tbody>\n",
       "    <tr>\n",
       "      <th>0</th>\n",
       "      <td>13.4</td>\n",
       "      <td>22.9</td>\n",
       "      <td>0.6</td>\n",
       "      <td>71.0</td>\n",
       "      <td>22.0</td>\n",
       "      <td>1007.7</td>\n",
       "      <td>1007.1</td>\n",
       "      <td>16.9</td>\n",
       "      <td>21.8</td>\n",
       "      <td>0</td>\n",
       "      <td>0.0</td>\n",
       "      <td>0</td>\n",
       "    </tr>\n",
       "    <tr>\n",
       "      <th>1</th>\n",
       "      <td>7.4</td>\n",
       "      <td>25.1</td>\n",
       "      <td>0.0</td>\n",
       "      <td>44.0</td>\n",
       "      <td>25.0</td>\n",
       "      <td>1010.6</td>\n",
       "      <td>1007.8</td>\n",
       "      <td>17.2</td>\n",
       "      <td>24.3</td>\n",
       "      <td>0</td>\n",
       "      <td>0.0</td>\n",
       "      <td>0</td>\n",
       "    </tr>\n",
       "    <tr>\n",
       "      <th>2</th>\n",
       "      <td>12.9</td>\n",
       "      <td>25.7</td>\n",
       "      <td>0.0</td>\n",
       "      <td>38.0</td>\n",
       "      <td>30.0</td>\n",
       "      <td>1007.6</td>\n",
       "      <td>1008.7</td>\n",
       "      <td>21.0</td>\n",
       "      <td>23.2</td>\n",
       "      <td>0</td>\n",
       "      <td>0.0</td>\n",
       "      <td>0</td>\n",
       "    </tr>\n",
       "    <tr>\n",
       "      <th>3</th>\n",
       "      <td>9.2</td>\n",
       "      <td>28.0</td>\n",
       "      <td>0.0</td>\n",
       "      <td>45.0</td>\n",
       "      <td>16.0</td>\n",
       "      <td>1017.6</td>\n",
       "      <td>1012.8</td>\n",
       "      <td>18.1</td>\n",
       "      <td>26.5</td>\n",
       "      <td>0</td>\n",
       "      <td>1.0</td>\n",
       "      <td>0</td>\n",
       "    </tr>\n",
       "  </tbody>\n",
       "</table>\n",
       "</div>"
      ],
      "text/plain": [
       "   MinTemp  MaxTemp  Rainfall  Humidity9am  Humidity3pm  Pressure9am  \\\n",
       "0     13.4     22.9       0.6         71.0         22.0       1007.7   \n",
       "1      7.4     25.1       0.0         44.0         25.0       1010.6   \n",
       "2     12.9     25.7       0.0         38.0         30.0       1007.6   \n",
       "3      9.2     28.0       0.0         45.0         16.0       1017.6   \n",
       "\n",
       "   Pressure3pm  Temp9am  Temp3pm  RainToday  RISK_MM  RainTomorrow  \n",
       "0       1007.1     16.9     21.8          0      0.0             0  \n",
       "1       1007.8     17.2     24.3          0      0.0             0  \n",
       "2       1008.7     21.0     23.2          0      0.0             0  \n",
       "3       1012.8     18.1     26.5          0      1.0             0  "
      ]
     },
     "execution_count": 115,
     "metadata": {},
     "output_type": "execute_result"
    }
   ],
   "source": [
    "all_df[:4]"
   ]
  },
  {
   "cell_type": "code",
   "execution_count": 127,
   "metadata": {
    "collapsed": false
   },
   "outputs": [
    {
     "data": {
      "text/plain": [
       "MinTemp          0\n",
       "MaxTemp          0\n",
       "Rainfall         0\n",
       "WindGustSpeed    0\n",
       "WindSpeed9am     0\n",
       "WindSpeed3pm     0\n",
       "Humidity9am      0\n",
       "Humidity3pm      0\n",
       "Pressure9am      0\n",
       "Pressure3pm      0\n",
       "Temp9am          0\n",
       "Temp3pm          0\n",
       "RainToday        0\n",
       "RISK_MM          0\n",
       "RainTomorrow     0\n",
       "dtype: int64"
      ]
     },
     "execution_count": 127,
     "metadata": {},
     "output_type": "execute_result"
    }
   ],
   "source": [
    "all_df.isnull().sum()"
   ]
  },
  {
   "cell_type": "code",
   "execution_count": 128,
   "metadata": {
    "collapsed": true
   },
   "outputs": [],
   "source": [
    "all_df.to_csv('weather.csv')"
   ]
  },
  {
   "cell_type": "code",
   "execution_count": null,
   "metadata": {
    "collapsed": true
   },
   "outputs": [],
   "source": []
  }
 ],
 "metadata": {
  "anaconda-cloud": {},
  "kernelspec": {
   "display_name": "Python [conda root]",
   "language": "python",
   "name": "conda-root-py"
  },
  "language_info": {
   "codemirror_mode": {
    "name": "ipython",
    "version": 3
   },
   "file_extension": ".py",
   "mimetype": "text/x-python",
   "name": "python",
   "nbconvert_exporter": "python",
   "pygments_lexer": "ipython3",
   "version": "3.5.2"
  }
 },
 "nbformat": 4,
 "nbformat_minor": 1
}
