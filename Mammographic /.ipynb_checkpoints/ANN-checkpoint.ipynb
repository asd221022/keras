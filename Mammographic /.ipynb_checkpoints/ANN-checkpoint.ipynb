{
 "cells": [
  {
   "cell_type": "code",
   "execution_count": 1,
   "metadata": {
    "collapsed": false
   },
   "outputs": [],
   "source": [
    "import numpy as np\n",
    "import pandas as pd\n",
    "from sklearn.preprocessing import StandardScaler\n",
    "np.random.seed(10)"
   ]
  },
  {
   "cell_type": "code",
   "execution_count": 2,
   "metadata": {
    "collapsed": false
   },
   "outputs": [],
   "source": [
    "filepath=\"data/pima-indians-diabetes.xls\"\n",
    "all_df=pd.read_excel(filepath)"
   ]
  },
  {
   "cell_type": "code",
   "execution_count": 3,
   "metadata": {
    "collapsed": false
   },
   "outputs": [],
   "source": [
    "cols=['Outcome','Pregnancies','Glucose','Blood','Skin','Insulin',\n",
    "      'BMI','Diabetes', 'Age']\n",
    "all_df=all_df[cols]"
   ]
  },
  {
   "cell_type": "code",
   "execution_count": 4,
   "metadata": {
    "collapsed": false
   },
   "outputs": [
    {
     "data": {
      "text/html": [
       "<div>\n",
       "<table border=\"1\" class=\"dataframe\">\n",
       "  <thead>\n",
       "    <tr style=\"text-align: right;\">\n",
       "      <th></th>\n",
       "      <th>Outcome</th>\n",
       "      <th>Pregnancies</th>\n",
       "      <th>Glucose</th>\n",
       "      <th>Blood</th>\n",
       "      <th>Skin</th>\n",
       "      <th>Insulin</th>\n",
       "      <th>BMI</th>\n",
       "      <th>Diabetes</th>\n",
       "      <th>Age</th>\n",
       "    </tr>\n",
       "  </thead>\n",
       "  <tbody>\n",
       "    <tr>\n",
       "      <th>0</th>\n",
       "      <td>1</td>\n",
       "      <td>6</td>\n",
       "      <td>148</td>\n",
       "      <td>72</td>\n",
       "      <td>35</td>\n",
       "      <td>0</td>\n",
       "      <td>33.6</td>\n",
       "      <td>0.627</td>\n",
       "      <td>50</td>\n",
       "    </tr>\n",
       "    <tr>\n",
       "      <th>1</th>\n",
       "      <td>0</td>\n",
       "      <td>1</td>\n",
       "      <td>85</td>\n",
       "      <td>66</td>\n",
       "      <td>29</td>\n",
       "      <td>0</td>\n",
       "      <td>26.6</td>\n",
       "      <td>0.351</td>\n",
       "      <td>31</td>\n",
       "    </tr>\n",
       "    <tr>\n",
       "      <th>2</th>\n",
       "      <td>1</td>\n",
       "      <td>8</td>\n",
       "      <td>183</td>\n",
       "      <td>64</td>\n",
       "      <td>0</td>\n",
       "      <td>0</td>\n",
       "      <td>23.3</td>\n",
       "      <td>0.672</td>\n",
       "      <td>32</td>\n",
       "    </tr>\n",
       "    <tr>\n",
       "      <th>3</th>\n",
       "      <td>0</td>\n",
       "      <td>1</td>\n",
       "      <td>89</td>\n",
       "      <td>66</td>\n",
       "      <td>23</td>\n",
       "      <td>94</td>\n",
       "      <td>28.1</td>\n",
       "      <td>0.167</td>\n",
       "      <td>21</td>\n",
       "    </tr>\n",
       "    <tr>\n",
       "      <th>4</th>\n",
       "      <td>1</td>\n",
       "      <td>0</td>\n",
       "      <td>137</td>\n",
       "      <td>40</td>\n",
       "      <td>35</td>\n",
       "      <td>168</td>\n",
       "      <td>43.1</td>\n",
       "      <td>2.288</td>\n",
       "      <td>33</td>\n",
       "    </tr>\n",
       "  </tbody>\n",
       "</table>\n",
       "</div>"
      ],
      "text/plain": [
       "   Outcome  Pregnancies  Glucose  Blood  Skin  Insulin   BMI  Diabetes  Age\n",
       "0        1            6      148     72    35        0  33.6     0.627   50\n",
       "1        0            1       85     66    29        0  26.6     0.351   31\n",
       "2        1            8      183     64     0        0  23.3     0.672   32\n",
       "3        0            1       89     66    23       94  28.1     0.167   21\n",
       "4        1            0      137     40    35      168  43.1     2.288   33"
      ]
     },
     "execution_count": 4,
     "metadata": {},
     "output_type": "execute_result"
    }
   ],
   "source": [
    "all_df[:5]"
   ]
  },
  {
   "cell_type": "code",
   "execution_count": 5,
   "metadata": {
    "collapsed": false
   },
   "outputs": [],
   "source": [
    "zero_not_accepted = ['Glucose', 'Blood', 'Skin', 'BMI', 'Insulin']       \n",
    "for column in zero_not_accepted: \n",
    "    mean = int(all_df[column].mean(skipna=True))\n",
    "    all_df[column].replace(0, mean,inplace=True) "
   ]
  },
  {
   "cell_type": "code",
   "execution_count": 6,
   "metadata": {
    "collapsed": false
   },
   "outputs": [
    {
     "name": "stdout",
     "output_type": "stream",
     "text": [
      "total: 768 train: 616 test: 152\n"
     ]
    }
   ],
   "source": [
    "msk = np.random.rand(len(all_df)) < 0.8\n",
    "train_df = all_df[msk]\n",
    "test_df = all_df[~msk]\n",
    "print('total:',len(all_df),\n",
    "      'train:',len(train_df),\n",
    "      'test:',len(test_df))   "
   ]
  },
  {
   "cell_type": "code",
   "execution_count": 7,
   "metadata": {
    "collapsed": true
   },
   "outputs": [],
   "source": [
    "trainray= train_df.values\n",
    "train_Features = trainray[:,1:]\n",
    "train_Label = trainray[:,0]\n",
    "    \n",
    "testray= test_df.values\n",
    "test_Features = testray[:,1:]\n",
    "test_Label = testray[:,0]\n",
    "\n",
    "train_Features=StandardScaler().fit_transform(train_Features)\n",
    "test_Features=StandardScaler().fit_transform(test_Features)"
   ]
  },
  {
   "cell_type": "code",
   "execution_count": 8,
   "metadata": {
    "collapsed": false
   },
   "outputs": [
    {
     "data": {
      "text/plain": [
       "array([[ 0.68004207,  0.88222526, -0.02133549,  0.86471493, -0.41811974,\n",
       "         0.17467821,  0.45102803,  1.46416999],\n",
       "       [-0.82248991, -1.18724996, -0.5141854 ,  0.24389395, -0.41811974,\n",
       "        -0.83134882, -0.36630283, -0.17444596]])"
      ]
     },
     "execution_count": 8,
     "metadata": {},
     "output_type": "execute_result"
    }
   ],
   "source": [
    "train_Features[:2]"
   ]
  },
  {
   "cell_type": "code",
   "execution_count": 9,
   "metadata": {
    "collapsed": false
   },
   "outputs": [
    {
     "data": {
      "text/plain": [
       "array([1., 0.])"
      ]
     },
     "execution_count": 9,
     "metadata": {},
     "output_type": "execute_result"
    }
   ],
   "source": [
    "train_Label[:2]"
   ]
  },
  {
   "cell_type": "code",
   "execution_count": 10,
   "metadata": {
    "collapsed": false
   },
   "outputs": [
    {
     "data": {
      "text/plain": [
       "array([[ 1.63837785,  1.4616998 ,  0.1510988 , -0.56924141, -0.43622157,\n",
       "         0.82197801,  0.25283098, -0.01013739],\n",
       "       [ 0.20550424,  1.39550634, -0.01777633, -0.66985152,  0.64246766,\n",
       "        -1.0515176 ,  0.41798057,  1.36854704]])"
      ]
     },
     "execution_count": 10,
     "metadata": {},
     "output_type": "execute_result"
    }
   ],
   "source": [
    "test_Features[:2]"
   ]
  },
  {
   "cell_type": "code",
   "execution_count": 11,
   "metadata": {
    "collapsed": false
   },
   "outputs": [
    {
     "data": {
      "text/plain": [
       "array([1., 1.])"
      ]
     },
     "execution_count": 11,
     "metadata": {},
     "output_type": "execute_result"
    }
   ],
   "source": [
    "test_Label[:2]"
   ]
  },
  {
   "cell_type": "code",
   "execution_count": 12,
   "metadata": {
    "collapsed": false
   },
   "outputs": [
    {
     "name": "stderr",
     "output_type": "stream",
     "text": [
      "Using TensorFlow backend.\n"
     ]
    }
   ],
   "source": [
    "from keras.models import Sequential\n",
    "from keras.layers import Dense,Dropout"
   ]
  },
  {
   "cell_type": "code",
   "execution_count": 13,
   "metadata": {
    "collapsed": false
   },
   "outputs": [],
   "source": [
    "model = Sequential()"
   ]
  },
  {
   "cell_type": "code",
   "execution_count": 14,
   "metadata": {
    "collapsed": true
   },
   "outputs": [],
   "source": [
    "model.add(Dense(units=30, input_dim=8, \n",
    "                kernel_initializer='uniform', \n",
    "                activation='relu'))"
   ]
  },
  {
   "cell_type": "code",
   "execution_count": 15,
   "metadata": {
    "collapsed": true
   },
   "outputs": [],
   "source": [
    "model.add(Dense(units=20, \n",
    "                kernel_initializer='uniform', \n",
    "                activation='relu'))"
   ]
  },
  {
   "cell_type": "code",
   "execution_count": 16,
   "metadata": {
    "collapsed": true
   },
   "outputs": [],
   "source": [
    "model.add(Dense(units=1, \n",
    "                kernel_initializer='uniform',\n",
    "                activation='sigmoid'))"
   ]
  },
  {
   "cell_type": "code",
   "execution_count": 17,
   "metadata": {
    "collapsed": true
   },
   "outputs": [],
   "source": [
    "model.compile(loss='binary_crossentropy', \n",
    "              optimizer='adam', metrics=['accuracy'])"
   ]
  },
  {
   "cell_type": "code",
   "execution_count": 18,
   "metadata": {
    "collapsed": false
   },
   "outputs": [
    {
     "name": "stdout",
     "output_type": "stream",
     "text": [
      "Train on 554 samples, validate on 62 samples\n",
      "Epoch 1/30\n",
      " - 1s - loss: 0.6907 - acc: 0.6643 - val_loss: 0.6891 - val_acc: 0.5806\n",
      "Epoch 2/30\n",
      " - 0s - loss: 0.6797 - acc: 0.6516 - val_loss: 0.6768 - val_acc: 0.5806\n",
      "Epoch 3/30\n",
      " - 0s - loss: 0.6479 - acc: 0.6715 - val_loss: 0.6459 - val_acc: 0.6935\n",
      "Epoch 4/30\n",
      " - 0s - loss: 0.5887 - acc: 0.7545 - val_loss: 0.5975 - val_acc: 0.7258\n",
      "Epoch 5/30\n",
      " - 0s - loss: 0.5236 - acc: 0.7744 - val_loss: 0.5572 - val_acc: 0.7419\n",
      "Epoch 6/30\n",
      " - 0s - loss: 0.4883 - acc: 0.7798 - val_loss: 0.5394 - val_acc: 0.7419\n",
      "Epoch 7/30\n",
      " - 0s - loss: 0.4697 - acc: 0.7870 - val_loss: 0.5211 - val_acc: 0.7581\n",
      "Epoch 8/30\n",
      " - 0s - loss: 0.4584 - acc: 0.7852 - val_loss: 0.5076 - val_acc: 0.7581\n",
      "Epoch 9/30\n",
      " - 0s - loss: 0.4518 - acc: 0.7852 - val_loss: 0.5025 - val_acc: 0.7581\n",
      "Epoch 10/30\n",
      " - 0s - loss: 0.4473 - acc: 0.7888 - val_loss: 0.4967 - val_acc: 0.7581\n",
      "Epoch 11/30\n",
      " - 0s - loss: 0.4442 - acc: 0.7906 - val_loss: 0.4940 - val_acc: 0.7581\n",
      "Epoch 12/30\n",
      " - 0s - loss: 0.4409 - acc: 0.7942 - val_loss: 0.4898 - val_acc: 0.7581\n",
      "Epoch 13/30\n",
      " - 0s - loss: 0.4391 - acc: 0.7996 - val_loss: 0.4860 - val_acc: 0.7581\n",
      "Epoch 14/30\n",
      " - 0s - loss: 0.4362 - acc: 0.7942 - val_loss: 0.4873 - val_acc: 0.7581\n",
      "Epoch 15/30\n",
      " - 0s - loss: 0.4346 - acc: 0.7978 - val_loss: 0.4858 - val_acc: 0.7581\n",
      "Epoch 16/30\n",
      " - 0s - loss: 0.4330 - acc: 0.7906 - val_loss: 0.4808 - val_acc: 0.7742\n",
      "Epoch 17/30\n",
      " - 0s - loss: 0.4316 - acc: 0.7942 - val_loss: 0.4807 - val_acc: 0.7742\n",
      "Epoch 18/30\n",
      " - 0s - loss: 0.4296 - acc: 0.7924 - val_loss: 0.4771 - val_acc: 0.7742\n",
      "Epoch 19/30\n",
      " - 0s - loss: 0.4292 - acc: 0.7924 - val_loss: 0.4796 - val_acc: 0.7742\n",
      "Epoch 20/30\n",
      " - 0s - loss: 0.4274 - acc: 0.7888 - val_loss: 0.4744 - val_acc: 0.7742\n",
      "Epoch 21/30\n",
      " - 0s - loss: 0.4267 - acc: 0.7924 - val_loss: 0.4715 - val_acc: 0.7742\n",
      "Epoch 22/30\n",
      " - 0s - loss: 0.4253 - acc: 0.7942 - val_loss: 0.4742 - val_acc: 0.7742\n",
      "Epoch 23/30\n",
      " - 0s - loss: 0.4243 - acc: 0.7924 - val_loss: 0.4733 - val_acc: 0.7742\n",
      "Epoch 24/30\n",
      " - 0s - loss: 0.4235 - acc: 0.7924 - val_loss: 0.4712 - val_acc: 0.7742\n",
      "Epoch 25/30\n",
      " - 0s - loss: 0.4237 - acc: 0.7960 - val_loss: 0.4694 - val_acc: 0.7742\n",
      "Epoch 26/30\n",
      " - 0s - loss: 0.4212 - acc: 0.7942 - val_loss: 0.4700 - val_acc: 0.7903\n",
      "Epoch 27/30\n",
      " - 0s - loss: 0.4211 - acc: 0.7888 - val_loss: 0.4694 - val_acc: 0.7903\n",
      "Epoch 28/30\n",
      " - 0s - loss: 0.4212 - acc: 0.7906 - val_loss: 0.4685 - val_acc: 0.7903\n",
      "Epoch 29/30\n",
      " - 0s - loss: 0.4192 - acc: 0.7960 - val_loss: 0.4677 - val_acc: 0.7903\n",
      "Epoch 30/30\n",
      " - 0s - loss: 0.4180 - acc: 0.8014 - val_loss: 0.4687 - val_acc: 0.7903\n"
     ]
    }
   ],
   "source": [
    "train_history =model.fit(x=train_Features, \n",
    "                         y=train_Label, \n",
    "                         validation_split=0.1, \n",
    "                         epochs=30, \n",
    "                         batch_size=30,verbose=2)"
   ]
  },
  {
   "cell_type": "code",
   "execution_count": 19,
   "metadata": {
    "collapsed": true
   },
   "outputs": [],
   "source": [
    "import matplotlib.pyplot as plt\n",
    "def show_train_history(train_history,train,validation):\n",
    "    plt.plot(train_history.history[train])\n",
    "    plt.plot(train_history.history[validation])\n",
    "    plt.title('Train History')\n",
    "    plt.ylabel(train)\n",
    "    plt.xlabel('Epoch')\n",
    "    plt.legend(['train', 'validation'], loc='upper left')\n",
    "    plt.show()"
   ]
  },
  {
   "cell_type": "code",
   "execution_count": 20,
   "metadata": {
    "collapsed": false
   },
   "outputs": [
    {
     "data": {
      "image/png": "[encoded data removed]",
      "text/plain": [
       "<matplotlib.figure.Figure at 0x7faaae8f55c0>"
      ]
     },
     "metadata": {},
     "output_type": "display_data"
    }
   ],
   "source": [
    "show_train_history(train_history,'acc','val_acc')"
   ]
  },
  {
   "cell_type": "code",
   "execution_count": 21,
   "metadata": {
    "collapsed": false
   },
   "outputs": [
    {
     "data": {
      "image/png": "[encoded data removed]",
      "text/plain": [
       "<matplotlib.figure.Figure at 0x7faaa21c09b0>"
      ]
     },
     "metadata": {},
     "output_type": "display_data"
    }
   ],
   "source": [
    "show_train_history(train_history,'loss','val_loss')"
   ]
  },
  {
   "cell_type": "code",
   "execution_count": 22,
   "metadata": {
    "collapsed": false
   },
   "outputs": [
    {
     "name": "stdout",
     "output_type": "stream",
     "text": [
      "152/152 [==============================] - 0s 136us/step\n"
     ]
    }
   ],
   "source": [
    "scores = model.evaluate(x=test_Features, \n",
    "                        y=test_Label)"
   ]
  },
  {
   "cell_type": "code",
   "execution_count": 23,
   "metadata": {
    "collapsed": false
   },
   "outputs": [
    {
     "data": {
      "text/plain": [
       "0.7697368421052632"
      ]
     },
     "execution_count": 23,
     "metadata": {},
     "output_type": "execute_result"
    }
   ],
   "source": [
    "scores[1]"
   ]
  }
 ],
 "metadata": {
  "anaconda-cloud": {},
  "kernelspec": {
   "display_name": "Python [conda root]",
   "language": "python",
   "name": "conda-root-py"
  },
  "language_info": {
   "codemirror_mode": {
    "name": "ipython",
    "version": 3
   },
   "file_extension": ".py",
   "mimetype": "text/x-python",
   "name": "python",
   "nbconvert_exporter": "python",
   "pygments_lexer": "ipython3",
   "version": "3.5.2"
  }
 },
 "nbformat": 4,
 "nbformat_minor": 1
}
