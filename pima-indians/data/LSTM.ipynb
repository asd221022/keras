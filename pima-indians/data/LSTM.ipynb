{
 "cells": [
  {
   "cell_type": "code",
   "execution_count": 132,
   "metadata": {
    "collapsed": true
   },
   "outputs": [],
   "source": [
    "import numpy\n",
    "import pandas as pd\n",
    "from sklearn import preprocessing\n",
    "numpy.random.seed(10)"
   ]
  },
  {
   "cell_type": "code",
   "execution_count": 133,
   "metadata": {
    "collapsed": false
   },
   "outputs": [],
   "source": [
    "filepath=\"data/pima-indians-diabetes.xls\"\n",
    "all_df=pd.read_excel(filepath)"
   ]
  },
  {
   "cell_type": "code",
   "execution_count": 134,
   "metadata": {
    "collapsed": false
   },
   "outputs": [
    {
     "data": {
      "text/html": [
       "<div>\n",
       "<table border=\"1\" class=\"dataframe\">\n",
       "  <thead>\n",
       "    <tr style=\"text-align: right;\">\n",
       "      <th></th>\n",
       "      <th>Number of times pregnant</th>\n",
       "      <th>Unnamed: 1</th>\n",
       "      <th>Unnamed: 2</th>\n",
       "      <th>Unnamed: 3</th>\n",
       "      <th>Unnamed: 4</th>\n",
       "      <th>Unnamed: 5</th>\n",
       "      <th>Unnamed: 6</th>\n",
       "      <th>Unnamed: 7</th>\n",
       "      <th>Unnamed: 8</th>\n",
       "    </tr>\n",
       "  </thead>\n",
       "  <tbody>\n",
       "    <tr>\n",
       "      <th>0</th>\n",
       "      <td>6</td>\n",
       "      <td>148</td>\n",
       "      <td>72</td>\n",
       "      <td>35</td>\n",
       "      <td>0</td>\n",
       "      <td>33.6</td>\n",
       "      <td>0.627</td>\n",
       "      <td>50</td>\n",
       "      <td>1</td>\n",
       "    </tr>\n",
       "    <tr>\n",
       "      <th>1</th>\n",
       "      <td>1</td>\n",
       "      <td>85</td>\n",
       "      <td>66</td>\n",
       "      <td>29</td>\n",
       "      <td>0</td>\n",
       "      <td>26.6</td>\n",
       "      <td>0.351</td>\n",
       "      <td>31</td>\n",
       "      <td>0</td>\n",
       "    </tr>\n",
       "  </tbody>\n",
       "</table>\n",
       "</div>"
      ],
      "text/plain": [
       "   Number of times pregnant  Unnamed: 1  Unnamed: 2  Unnamed: 3  Unnamed: 4  \\\n",
       "0                         6         148          72          35           0   \n",
       "1                         1          85          66          29           0   \n",
       "\n",
       "   Unnamed: 5  Unnamed: 6  Unnamed: 7  Unnamed: 8  \n",
       "0        33.6       0.627          50           1  \n",
       "1        26.6       0.351          31           0  "
      ]
     },
     "execution_count": 134,
     "metadata": {},
     "output_type": "execute_result"
    }
   ],
   "source": [
    "all_df[:2]"
   ]
  },
  {
   "cell_type": "code",
   "execution_count": null,
   "metadata": {
    "collapsed": true
   },
   "outputs": [],
   "source": [
    " "
   ]
  },
  {
   "cell_type": "code",
   "execution_count": 135,
   "metadata": {
    "collapsed": false
   },
   "outputs": [
    {
     "data": {
      "text/html": [
       "<div>\n",
       "<table border=\"1\" class=\"dataframe\">\n",
       "  <thead>\n",
       "    <tr style=\"text-align: right;\">\n",
       "      <th></th>\n",
       "      <th>Number of times pregnant</th>\n",
       "      <th>Unnamed: 1</th>\n",
       "      <th>Unnamed: 2</th>\n",
       "      <th>Unnamed: 3</th>\n",
       "      <th>Unnamed: 4</th>\n",
       "      <th>Unnamed: 5</th>\n",
       "      <th>Unnamed: 6</th>\n",
       "      <th>Unnamed: 7</th>\n",
       "      <th>Unnamed: 8</th>\n",
       "    </tr>\n",
       "  </thead>\n",
       "  <tbody>\n",
       "    <tr>\n",
       "      <th>0</th>\n",
       "      <td>6</td>\n",
       "      <td>148</td>\n",
       "      <td>72</td>\n",
       "      <td>35</td>\n",
       "      <td>0</td>\n",
       "      <td>33.6</td>\n",
       "      <td>0.627</td>\n",
       "      <td>50</td>\n",
       "      <td>1</td>\n",
       "    </tr>\n",
       "    <tr>\n",
       "      <th>1</th>\n",
       "      <td>1</td>\n",
       "      <td>85</td>\n",
       "      <td>66</td>\n",
       "      <td>29</td>\n",
       "      <td>0</td>\n",
       "      <td>26.6</td>\n",
       "      <td>0.351</td>\n",
       "      <td>31</td>\n",
       "      <td>0</td>\n",
       "    </tr>\n",
       "  </tbody>\n",
       "</table>\n",
       "</div>"
      ],
      "text/plain": [
       "   Number of times pregnant  Unnamed: 1  Unnamed: 2  Unnamed: 3  Unnamed: 4  \\\n",
       "0                         6         148          72          35           0   \n",
       "1                         1          85          66          29           0   \n",
       "\n",
       "   Unnamed: 5  Unnamed: 6  Unnamed: 7  Unnamed: 8  \n",
       "0        33.6       0.627          50           1  \n",
       "1        26.6       0.351          31           0  "
      ]
     },
     "execution_count": 135,
     "metadata": {},
     "output_type": "execute_result"
    }
   ],
   "source": [
    "all_df[:2]"
   ]
  },
  {
   "cell_type": "code",
   "execution_count": 136,
   "metadata": {
    "collapsed": true
   },
   "outputs": [],
   "source": [
    "msk = numpy.random.rand(len(all_df)) < 0.8\n",
    "train_df=all_df[msk]\n",
    "test_df=all_df[~msk]"
   ]
  },
  {
   "cell_type": "code",
   "execution_count": 137,
   "metadata": {
    "collapsed": false
   },
   "outputs": [
    {
     "name": "stdout",
     "output_type": "stream",
     "text": [
      "total: 768 train: 616 test: 152\n"
     ]
    }
   ],
   "source": [
    "print('total:',len(all_df),\n",
    "      'train:',len(train_df),\n",
    "      'test:',len(test_df)) "
   ]
  },
  {
   "cell_type": "code",
   "execution_count": 138,
   "metadata": {
    "collapsed": false
   },
   "outputs": [
    {
     "data": {
      "text/plain": [
       "Number of times pregnant    0\n",
       "Unnamed: 1                  0\n",
       "Unnamed: 2                  0\n",
       "Unnamed: 3                  0\n",
       "Unnamed: 4                  0\n",
       "Unnamed: 5                  0\n",
       "Unnamed: 6                  0\n",
       "Unnamed: 7                  0\n",
       "Unnamed: 8                  0\n",
       "dtype: int64"
      ]
     },
     "execution_count": 138,
     "metadata": {},
     "output_type": "execute_result"
    }
   ],
   "source": [
    "all_df.isnull().sum()"
   ]
  },
  {
   "cell_type": "code",
   "execution_count": 139,
   "metadata": {
    "collapsed": true
   },
   "outputs": [],
   "source": [
    "def PreprocessData(raw_df):\n",
    "    \n",
    "    ndarray= all_df.values\n",
    "    Features=ndarray[:,1:] \n",
    "    Label=ndarray[:,8]\n",
    "    \n",
    "    from sklearn import preprocessing\n",
    "    minmax_scale=preprocessing.MinMaxScaler(feature_range=(0,1))\n",
    "    scaledFeatures=minmax_scale.fit_transform(Features)\n",
    "    \n",
    "    return scaledFeatures,Label"
   ]
  },
  {
   "cell_type": "code",
   "execution_count": 140,
   "metadata": {
    "collapsed": false
   },
   "outputs": [],
   "source": [
    "train_Features,train_Label=PreprocessData(train_df)\n",
    "test_Features,test_Label=PreprocessData(test_df)"
   ]
  },
  {
   "cell_type": "code",
   "execution_count": 141,
   "metadata": {
    "collapsed": false
   },
   "outputs": [
    {
     "data": {
      "text/plain": [
       "array([[0.74371859, 0.59016393, 0.35353535, 0.        , 0.50074516,\n",
       "        0.23441503, 0.48333333, 1.        ],\n",
       "       [0.42713568, 0.54098361, 0.29292929, 0.        , 0.39642325,\n",
       "        0.11656704, 0.16666667, 0.        ],\n",
       "       [0.91959799, 0.52459016, 0.        , 0.        , 0.34724292,\n",
       "        0.25362938, 0.18333333, 1.        ],\n",
       "       [0.44723618, 0.54098361, 0.23232323, 0.11111111, 0.41877794,\n",
       "        0.03800171, 0.        , 0.        ]])"
      ]
     },
     "execution_count": 141,
     "metadata": {},
     "output_type": "execute_result"
    }
   ],
   "source": [
    "train_Features[:4]"
   ]
  },
  {
   "cell_type": "code",
   "execution_count": 142,
   "metadata": {
    "collapsed": false
   },
   "outputs": [
    {
     "data": {
      "text/plain": [
       "array([1., 0., 1., 0.])"
      ]
     },
     "execution_count": 142,
     "metadata": {},
     "output_type": "execute_result"
    }
   ],
   "source": [
    "train_Label[:4]"
   ]
  },
  {
   "cell_type": "code",
   "execution_count": 143,
   "metadata": {
    "collapsed": false
   },
   "outputs": [],
   "source": [
    "from keras.models import Sequential\n",
    "from keras.layers.core import Dense, Dropout, Activation,Flatten\n",
    "from keras.layers.embeddings import Embedding\n",
    "from keras.layers.recurrent import LSTM"
   ]
  },
  {
   "cell_type": "code",
   "execution_count": 144,
   "metadata": {
    "collapsed": true
   },
   "outputs": [],
   "source": [
    "model=Sequential() "
   ]
  },
  {
   "cell_type": "code",
   "execution_count": 145,
   "metadata": {
    "collapsed": false
   },
   "outputs": [],
   "source": [
    "model.add(Embedding(input_dim=8,output_dim=1))"
   ]
  },
  {
   "cell_type": "code",
   "execution_count": 146,
   "metadata": {
    "collapsed": true
   },
   "outputs": [],
   "source": [
    "model.add(LSTM(2))"
   ]
  },
  {
   "cell_type": "code",
   "execution_count": null,
   "metadata": {
    "collapsed": false
   },
   "outputs": [],
   "source": []
  },
  {
   "cell_type": "code",
   "execution_count": 147,
   "metadata": {
    "collapsed": true
   },
   "outputs": [],
   "source": [
    "model.add(Dense(1, activation = \"sigmoid\"))"
   ]
  },
  {
   "cell_type": "code",
   "execution_count": 148,
   "metadata": {
    "collapsed": false
   },
   "outputs": [
    {
     "name": "stdout",
     "output_type": "stream",
     "text": [
      "_________________________________________________________________\n",
      "Layer (type)                 Output Shape              Param #   \n",
      "=================================================================\n",
      "embedding_6 (Embedding)      (None, None, 1)           8         \n",
      "_________________________________________________________________\n",
      "lstm_6 (LSTM)                (None, 2)                 32        \n",
      "_________________________________________________________________\n",
      "dense_8 (Dense)              (None, 1)                 3         \n",
      "=================================================================\n",
      "Total params: 43\n",
      "Trainable params: 43\n",
      "Non-trainable params: 0\n",
      "_________________________________________________________________\n"
     ]
    }
   ],
   "source": [
    "model.summary()"
   ]
  },
  {
   "cell_type": "code",
   "execution_count": 149,
   "metadata": {
    "collapsed": true
   },
   "outputs": [],
   "source": [
    "model.compile(loss='binary_crossentropy',\n",
    "              optimizer='adam',metrics=['accuracy'])"
   ]
  },
  {
   "cell_type": "code",
   "execution_count": 150,
   "metadata": {
    "collapsed": false
   },
   "outputs": [
    {
     "name": "stdout",
     "output_type": "stream",
     "text": [
      "Train on 614 samples, validate on 154 samples\n",
      "Epoch 1/30\n",
      " - 4s - loss: 0.6893 - acc: 0.6531 - val_loss: 0.6856 - val_acc: 0.6429\n",
      "Epoch 2/30\n",
      " - 0s - loss: 0.6814 - acc: 0.6531 - val_loss: 0.6782 - val_acc: 0.6429\n",
      "Epoch 3/30\n",
      " - 0s - loss: 0.6730 - acc: 0.6531 - val_loss: 0.6696 - val_acc: 0.6429\n",
      "Epoch 4/30\n",
      " - 0s - loss: 0.6633 - acc: 0.6531 - val_loss: 0.6607 - val_acc: 0.6429\n",
      "Epoch 5/30\n",
      " - 0s - loss: 0.6543 - acc: 0.6531 - val_loss: 0.6530 - val_acc: 0.6429\n",
      "Epoch 6/30\n",
      " - 0s - loss: 0.6461 - acc: 0.6531 - val_loss: 0.6472 - val_acc: 0.6429\n",
      "Epoch 7/30\n",
      " - 0s - loss: 0.6396 - acc: 0.6531 - val_loss: 0.6425 - val_acc: 0.6429\n",
      "Epoch 8/30\n",
      " - 0s - loss: 0.6349 - acc: 0.6531 - val_loss: 0.6388 - val_acc: 0.6429\n",
      "Epoch 9/30\n",
      " - 0s - loss: 0.6314 - acc: 0.6531 - val_loss: 0.6355 - val_acc: 0.6429\n",
      "Epoch 10/30\n",
      " - 0s - loss: 0.6276 - acc: 0.6531 - val_loss: 0.6316 - val_acc: 0.6429\n",
      "Epoch 11/30\n",
      " - 0s - loss: 0.6235 - acc: 0.6531 - val_loss: 0.6274 - val_acc: 0.6429\n",
      "Epoch 12/30\n",
      " - 0s - loss: 0.6191 - acc: 0.6531 - val_loss: 0.6230 - val_acc: 0.6429\n",
      "Epoch 13/30\n",
      " - 0s - loss: 0.6145 - acc: 0.6531 - val_loss: 0.6180 - val_acc: 0.6429\n",
      "Epoch 14/30\n",
      " - 0s - loss: 0.6087 - acc: 0.6531 - val_loss: 0.6122 - val_acc: 0.6429\n",
      "Epoch 15/30\n",
      " - 0s - loss: 0.6033 - acc: 0.6531 - val_loss: 0.6060 - val_acc: 0.6429\n",
      "Epoch 16/30\n",
      " - 0s - loss: 0.5966 - acc: 0.6531 - val_loss: 0.5996 - val_acc: 0.6429\n",
      "Epoch 17/30\n",
      " - 0s - loss: 0.5896 - acc: 0.6531 - val_loss: 0.5920 - val_acc: 0.6429\n",
      "Epoch 18/30\n",
      " - 0s - loss: 0.5818 - acc: 0.6531 - val_loss: 0.5840 - val_acc: 0.6429\n",
      "Epoch 19/30\n",
      " - 0s - loss: 0.5735 - acc: 0.6531 - val_loss: 0.5753 - val_acc: 0.6429\n",
      "Epoch 20/30\n",
      " - 0s - loss: 0.5646 - acc: 0.6531 - val_loss: 0.5659 - val_acc: 0.6429\n",
      "Epoch 21/30\n",
      " - 0s - loss: 0.5547 - acc: 0.6531 - val_loss: 0.5556 - val_acc: 0.6429\n",
      "Epoch 22/30\n",
      " - 0s - loss: 0.5442 - acc: 0.6531 - val_loss: 0.5441 - val_acc: 0.6429\n",
      "Epoch 23/30\n",
      " - 0s - loss: 0.5323 - acc: 0.6531 - val_loss: 0.5320 - val_acc: 0.6429\n",
      "Epoch 24/30\n",
      " - 0s - loss: 0.5198 - acc: 0.6531 - val_loss: 0.5191 - val_acc: 0.6429\n",
      "Epoch 25/30\n",
      " - 0s - loss: 0.5064 - acc: 0.6531 - val_loss: 0.5046 - val_acc: 0.6429\n",
      "Epoch 26/30\n",
      " - 0s - loss: 0.4915 - acc: 0.6547 - val_loss: 0.4891 - val_acc: 0.6429\n",
      "Epoch 27/30\n",
      " - 0s - loss: 0.4755 - acc: 0.6580 - val_loss: 0.4719 - val_acc: 0.6429\n",
      "Epoch 28/30\n",
      " - 0s - loss: 0.4578 - acc: 0.6596 - val_loss: 0.4535 - val_acc: 0.6429\n",
      "Epoch 29/30\n",
      " - 0s - loss: 0.4387 - acc: 0.6596 - val_loss: 0.4332 - val_acc: 0.6494\n",
      "Epoch 30/30\n",
      " - 0s - loss: 0.4178 - acc: 0.6596 - val_loss: 0.4114 - val_acc: 0.6494\n"
     ]
    }
   ],
   "source": [
    "train_history =model.fit(x=train_Features, \n",
    "                         y=train_Label, \n",
    "                         validation_split=0.2, \n",
    "                         epochs=30, \n",
    "                         batch_size=30,verbose=2)"
   ]
  },
  {
   "cell_type": "code",
   "execution_count": 151,
   "metadata": {
    "collapsed": false
   },
   "outputs": [],
   "source": [
    "import matplotlib.pyplot as plt\n",
    "def show_train_history(train_history,train,validation):\n",
    "    plt.plot(train_history.history[train],color='blue')\n",
    "    plt.plot(train_history.history[validation],color='magenta')\n",
    "    plt.title('Train_history')\n",
    "    plt.ylabel(train)\n",
    "    plt.xlabel('Epoch')\n",
    "    plt.legend(['train','validation'],loc='upper left')\n",
    "    plt.show()"
   ]
  },
  {
   "cell_type": "code",
   "execution_count": 152,
   "metadata": {
    "collapsed": false
   },
   "outputs": [
    {
     "data": {
      "image/png": "[encoded data removed]",
      "text/plain": [
       "<matplotlib.figure.Figure at 0x7fc2cb1b1668>"
      ]
     },
     "metadata": {},
     "output_type": "display_data"
    }
   ],
   "source": [
    "show_train_history(train_history,'acc','val_acc')"
   ]
  },
  {
   "cell_type": "code",
   "execution_count": 153,
   "metadata": {
    "collapsed": false
   },
   "outputs": [
    {
     "data": {
      "image/png": "[encoded data removed]",
      "text/plain": [
       "<matplotlib.figure.Figure at 0x7fc2cbb135f8>"
      ]
     },
     "metadata": {},
     "output_type": "display_data"
    }
   ],
   "source": [
    "show_train_history(train_history,'loss','val_loss')"
   ]
  },
  {
   "cell_type": "code",
   "execution_count": 154,
   "metadata": {
    "collapsed": false
   },
   "outputs": [
    {
     "name": "stdout",
     "output_type": "stream",
     "text": [
      "768/768 [==============================] - 0s 103us/step\n"
     ]
    }
   ],
   "source": [
    "scores=model.evaluate(x=test_Features,\n",
    "                     y=test_Label)"
   ]
  },
  {
   "cell_type": "code",
   "execution_count": 155,
   "metadata": {
    "collapsed": false
   },
   "outputs": [
    {
     "data": {
      "text/plain": [
       "0.6575520833333334"
      ]
     },
     "execution_count": 155,
     "metadata": {},
     "output_type": "execute_result"
    }
   ],
   "source": [
    "scores[1]"
   ]
  },
  {
   "cell_type": "code",
   "execution_count": 156,
   "metadata": {
    "collapsed": false
   },
   "outputs": [],
   "source": [
    "probility=model.predict(test_Features)"
   ]
  },
  {
   "cell_type": "code",
   "execution_count": 157,
   "metadata": {
    "collapsed": false
   },
   "outputs": [
    {
     "data": {
      "text/plain": [
       "array([[0.4639524 ],\n",
       "       [0.19313212],\n",
       "       [0.4639524 ],\n",
       "       [0.19313212],\n",
       "       [0.4639524 ],\n",
       "       [0.19313212],\n",
       "       [0.4639524 ],\n",
       "       [0.19313212],\n",
       "       [0.4639524 ],\n",
       "       [0.4639524 ]], dtype=float32)"
      ]
     },
     "execution_count": 157,
     "metadata": {},
     "output_type": "execute_result"
    }
   ],
   "source": [
    "probility[:10]"
   ]
  }
 ],
 "metadata": {
  "anaconda-cloud": {},
  "kernelspec": {
   "display_name": "Python [conda root]",
   "language": "python",
   "name": "conda-root-py"
  },
  "language_info": {
   "codemirror_mode": {
    "name": "ipython",
    "version": 3
   },
   "file_extension": ".py",
   "mimetype": "text/x-python",
   "name": "python",
   "nbconvert_exporter": "python",
   "pygments_lexer": "ipython3",
   "version": "3.5.2"
  }
 },
 "nbformat": 4,
 "nbformat_minor": 1
}
