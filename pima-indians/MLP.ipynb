{
 "cells": [
  {
   "cell_type": "code",
   "execution_count": 1,
   "metadata": {
    "collapsed": false
   },
   "outputs": [],
   "source": [
    "import numpy as np\n",
    "import pandas as pd\n",
    "from sklearn import preprocessing\n",
    "np.random.seed(10)"
   ]
  },
  {
   "cell_type": "code",
   "execution_count": 2,
   "metadata": {
    "collapsed": false
   },
   "outputs": [],
   "source": [
    "filepath=\"data/pima-indians-diabetes.xls\"\n",
    "all_df=pd.read_excel(filepath)"
   ]
  },
  {
   "cell_type": "code",
   "execution_count": 3,
   "metadata": {
    "collapsed": false
   },
   "outputs": [],
   "source": [
    "cols=['Outcome','Pregnancies','Glucose','Blood','Skin','Insulin',\n",
    "      'BMI','Diabetes', 'Age']\n",
    "all_df=all_df[cols]"
   ]
  },
  {
   "cell_type": "code",
   "execution_count": 4,
   "metadata": {
    "collapsed": false
   },
   "outputs": [
    {
     "data": {
      "text/html": [
       "<div>\n",
       "<table border=\"1\" class=\"dataframe\">\n",
       "  <thead>\n",
       "    <tr style=\"text-align: right;\">\n",
       "      <th></th>\n",
       "      <th>Outcome</th>\n",
       "      <th>Pregnancies</th>\n",
       "      <th>Glucose</th>\n",
       "      <th>Blood</th>\n",
       "      <th>Skin</th>\n",
       "      <th>Insulin</th>\n",
       "      <th>BMI</th>\n",
       "      <th>Diabetes</th>\n",
       "      <th>Age</th>\n",
       "    </tr>\n",
       "  </thead>\n",
       "  <tbody>\n",
       "    <tr>\n",
       "      <th>0</th>\n",
       "      <td>1</td>\n",
       "      <td>6</td>\n",
       "      <td>148</td>\n",
       "      <td>72</td>\n",
       "      <td>35</td>\n",
       "      <td>0</td>\n",
       "      <td>33.6</td>\n",
       "      <td>0.627</td>\n",
       "      <td>50</td>\n",
       "    </tr>\n",
       "    <tr>\n",
       "      <th>1</th>\n",
       "      <td>0</td>\n",
       "      <td>1</td>\n",
       "      <td>85</td>\n",
       "      <td>66</td>\n",
       "      <td>29</td>\n",
       "      <td>0</td>\n",
       "      <td>26.6</td>\n",
       "      <td>0.351</td>\n",
       "      <td>31</td>\n",
       "    </tr>\n",
       "    <tr>\n",
       "      <th>2</th>\n",
       "      <td>1</td>\n",
       "      <td>8</td>\n",
       "      <td>183</td>\n",
       "      <td>64</td>\n",
       "      <td>0</td>\n",
       "      <td>0</td>\n",
       "      <td>23.3</td>\n",
       "      <td>0.672</td>\n",
       "      <td>32</td>\n",
       "    </tr>\n",
       "    <tr>\n",
       "      <th>3</th>\n",
       "      <td>0</td>\n",
       "      <td>1</td>\n",
       "      <td>89</td>\n",
       "      <td>66</td>\n",
       "      <td>23</td>\n",
       "      <td>94</td>\n",
       "      <td>28.1</td>\n",
       "      <td>0.167</td>\n",
       "      <td>21</td>\n",
       "    </tr>\n",
       "    <tr>\n",
       "      <th>4</th>\n",
       "      <td>1</td>\n",
       "      <td>0</td>\n",
       "      <td>137</td>\n",
       "      <td>40</td>\n",
       "      <td>35</td>\n",
       "      <td>168</td>\n",
       "      <td>43.1</td>\n",
       "      <td>2.288</td>\n",
       "      <td>33</td>\n",
       "    </tr>\n",
       "  </tbody>\n",
       "</table>\n",
       "</div>"
      ],
      "text/plain": [
       "   Outcome  Pregnancies  Glucose  Blood  Skin  Insulin   BMI  Diabetes  Age\n",
       "0        1            6      148     72    35        0  33.6     0.627   50\n",
       "1        0            1       85     66    29        0  26.6     0.351   31\n",
       "2        1            8      183     64     0        0  23.3     0.672   32\n",
       "3        0            1       89     66    23       94  28.1     0.167   21\n",
       "4        1            0      137     40    35      168  43.1     2.288   33"
      ]
     },
     "execution_count": 4,
     "metadata": {},
     "output_type": "execute_result"
    }
   ],
   "source": [
    "all_df[:5]"
   ]
  },
  {
   "cell_type": "code",
   "execution_count": 5,
   "metadata": {
    "collapsed": false
   },
   "outputs": [],
   "source": [
    "msk = np.random.rand(len(all_df)) < 0.8\n",
    "train_df = all_df[msk]\n",
    "test_df = all_df[~msk]"
   ]
  },
  {
   "cell_type": "code",
   "execution_count": 6,
   "metadata": {
    "collapsed": false
   },
   "outputs": [
    {
     "name": "stdout",
     "output_type": "stream",
     "text": [
      "total: 768 train: 616 test: 152\n"
     ]
    }
   ],
   "source": [
    "print('total:',len(all_df),\n",
    "      'train:',len(train_df),\n",
    "      'test:',len(test_df))"
   ]
  },
  {
   "cell_type": "code",
   "execution_count": 7,
   "metadata": {
    "collapsed": false
   },
   "outputs": [],
   "source": [
    "def PreprocessData(raw_df):\n",
    "    \n",
    "    zero_not_accepted = ['Glucose', 'Blood', 'Skin', 'BMI', 'Insulin']\n",
    "    for column in zero_not_accepted:\n",
    "        df=raw_df\n",
    "        df[column] = df[column].replace(0, np.NaN)\n",
    "        mean = int(df[column].mean(skipna=True))\n",
    "        df[column] = df[column].replace(np.NaN, mean)\n",
    "    \n",
    " \n",
    "    ndarray = df.values\n",
    "    Features = ndarray[:,1:]\n",
    "    Label = ndarray[:,0]\n",
    "    \n",
    "    minmax_scale = preprocessing.MinMaxScaler(feature_range=(0, 1))\n",
    "    scaledFeatures=minmax_scale.fit_transform(Features)    \n",
    "    \n",
    "    return scaledFeatures,Label\n",
    "  "
   ]
  },
  {
   "cell_type": "code",
   "execution_count": 8,
   "metadata": {
    "collapsed": false
   },
   "outputs": [
    {
     "name": "stderr",
     "output_type": "stream",
     "text": [
      "/home/cool/anaconda3/lib/python3.5/site-packages/ipykernel/__main__.py:6: SettingWithCopyWarning: \n",
      "A value is trying to be set on a copy of a slice from a DataFrame.\n",
      "Try using .loc[row_indexer,col_indexer] = value instead\n",
      "\n",
      "See the caveats in the documentation: http://pandas.pydata.org/pandas-docs/stable/indexing.html#indexing-view-versus-copy\n",
      "/home/cool/anaconda3/lib/python3.5/site-packages/ipykernel/__main__.py:8: SettingWithCopyWarning: \n",
      "A value is trying to be set on a copy of a slice from a DataFrame.\n",
      "Try using .loc[row_indexer,col_indexer] = value instead\n",
      "\n",
      "See the caveats in the documentation: http://pandas.pydata.org/pandas-docs/stable/indexing.html#indexing-view-versus-copy\n"
     ]
    }
   ],
   "source": [
    "train_Features,train_Label=PreprocessData(train_df)\n",
    "test_Features,test_Label=PreprocessData(test_df)"
   ]
  },
  {
   "cell_type": "code",
   "execution_count": 9,
   "metadata": {
    "collapsed": false
   },
   "outputs": [
    {
     "data": {
      "text/plain": [
       "array([[0.35294118, 0.67096774, 0.48979592, 0.30434783, 0.16706731,\n",
       "        0.31492843, 0.23244863, 0.48333333],\n",
       "       [0.05882353, 0.26451613, 0.42857143, 0.23913043, 0.16706731,\n",
       "        0.17177914, 0.11429795, 0.16666667]])"
      ]
     },
     "execution_count": 9,
     "metadata": {},
     "output_type": "execute_result"
    }
   ],
   "source": [
    "train_Features[:2]"
   ]
  },
  {
   "cell_type": "code",
   "execution_count": 10,
   "metadata": {
    "collapsed": false
   },
   "outputs": [
    {
     "data": {
      "text/plain": [
       "array([1., 0.])"
      ]
     },
     "execution_count": 10,
     "metadata": {},
     "output_type": "execute_result"
    }
   ],
   "source": [
    "train_Label[:2]"
   ]
  },
  {
   "cell_type": "code",
   "execution_count": 11,
   "metadata": {
    "collapsed": false
   },
   "outputs": [
    {
     "data": {
      "text/plain": [
       "array([[0.76923077, 0.77941176, 0.52380952, 0.44680851, 0.28113208,\n",
       "        0.62025316, 0.26952437, 0.26530612],\n",
       "       [0.38461538, 0.76470588, 0.5       , 0.25531915, 0.30188679,\n",
       "        0.23417722, 0.29888432, 0.6122449 ]])"
      ]
     },
     "execution_count": 11,
     "metadata": {},
     "output_type": "execute_result"
    }
   ],
   "source": [
    "test_Features[:2]"
   ]
  },
  {
   "cell_type": "code",
   "execution_count": 12,
   "metadata": {
    "collapsed": false
   },
   "outputs": [
    {
     "data": {
      "text/plain": [
       "array([1., 1.])"
      ]
     },
     "execution_count": 12,
     "metadata": {},
     "output_type": "execute_result"
    }
   ],
   "source": [
    "test_Label[:2]"
   ]
  },
  {
   "cell_type": "code",
   "execution_count": 13,
   "metadata": {
    "collapsed": false
   },
   "outputs": [
    {
     "name": "stderr",
     "output_type": "stream",
     "text": [
      "Using TensorFlow backend.\n"
     ]
    }
   ],
   "source": [
    "from keras.models import Sequential\n",
    "from keras.layers import Dense,Dropout"
   ]
  },
  {
   "cell_type": "code",
   "execution_count": 14,
   "metadata": {
    "collapsed": false
   },
   "outputs": [],
   "source": [
    "model = Sequential()"
   ]
  },
  {
   "cell_type": "code",
   "execution_count": 15,
   "metadata": {
    "collapsed": true
   },
   "outputs": [],
   "source": [
    "model.add(Dense(units=40, input_dim=8, \n",
    "                kernel_initializer='uniform', \n",
    "                activation='relu'))"
   ]
  },
  {
   "cell_type": "code",
   "execution_count": 16,
   "metadata": {
    "collapsed": false
   },
   "outputs": [],
   "source": [
    "model.add(Dense(units=30, \n",
    "                kernel_initializer='uniform', \n",
    "                activation='relu'))"
   ]
  },
  {
   "cell_type": "code",
   "execution_count": 17,
   "metadata": {
    "collapsed": true
   },
   "outputs": [],
   "source": [
    "model.add(Dense(units=1, \n",
    "                kernel_initializer='uniform',\n",
    "                activation='sigmoid'))"
   ]
  },
  {
   "cell_type": "code",
   "execution_count": 18,
   "metadata": {
    "collapsed": true
   },
   "outputs": [],
   "source": [
    "model.compile(loss='binary_crossentropy', \n",
    "              optimizer='adam', metrics=['accuracy'])"
   ]
  },
  {
   "cell_type": "code",
   "execution_count": 19,
   "metadata": {
    "collapsed": false
   },
   "outputs": [
    {
     "name": "stdout",
     "output_type": "stream",
     "text": [
      "Train on 554 samples, validate on 62 samples\n",
      "Epoch 1/30\n",
      " - 1s - loss: 0.6915 - acc: 0.6534 - val_loss: 0.6911 - val_acc: 0.5806\n",
      "Epoch 2/30\n",
      " - 0s - loss: 0.6865 - acc: 0.6534 - val_loss: 0.6883 - val_acc: 0.5806\n",
      "Epoch 3/30\n",
      " - 0s - loss: 0.6766 - acc: 0.6534 - val_loss: 0.6852 - val_acc: 0.5806\n",
      "Epoch 4/30\n",
      " - 0s - loss: 0.6665 - acc: 0.6534 - val_loss: 0.6885 - val_acc: 0.5806\n",
      "Epoch 5/30\n",
      " - 0s - loss: 0.6575 - acc: 0.6534 - val_loss: 0.6835 - val_acc: 0.5806\n",
      "Epoch 6/30\n",
      " - 0s - loss: 0.6524 - acc: 0.6534 - val_loss: 0.6871 - val_acc: 0.5806\n",
      "Epoch 7/30\n",
      " - 0s - loss: 0.6439 - acc: 0.6534 - val_loss: 0.6721 - val_acc: 0.5806\n",
      "Epoch 8/30\n",
      " - 0s - loss: 0.6367 - acc: 0.6534 - val_loss: 0.6639 - val_acc: 0.5806\n",
      "Epoch 9/30\n",
      " - 0s - loss: 0.6268 - acc: 0.6534 - val_loss: 0.6552 - val_acc: 0.5806\n",
      "Epoch 10/30\n",
      " - 0s - loss: 0.6133 - acc: 0.6552 - val_loss: 0.6364 - val_acc: 0.5968\n",
      "Epoch 11/30\n",
      " - 0s - loss: 0.6009 - acc: 0.6643 - val_loss: 0.6265 - val_acc: 0.5968\n",
      "Epoch 12/30\n",
      " - 0s - loss: 0.5811 - acc: 0.6823 - val_loss: 0.6042 - val_acc: 0.6290\n",
      "Epoch 13/30\n",
      " - 0s - loss: 0.5638 - acc: 0.7256 - val_loss: 0.5891 - val_acc: 0.6613\n",
      "Epoch 14/30\n",
      " - 0s - loss: 0.5463 - acc: 0.7148 - val_loss: 0.5687 - val_acc: 0.7258\n",
      "Epoch 15/30\n",
      " - 0s - loss: 0.5273 - acc: 0.7545 - val_loss: 0.5502 - val_acc: 0.7419\n",
      "Epoch 16/30\n",
      " - 0s - loss: 0.5120 - acc: 0.7635 - val_loss: 0.5300 - val_acc: 0.7419\n",
      "Epoch 17/30\n",
      " - 0s - loss: 0.4997 - acc: 0.7744 - val_loss: 0.5143 - val_acc: 0.7258\n",
      "Epoch 18/30\n",
      " - 0s - loss: 0.4865 - acc: 0.7671 - val_loss: 0.5049 - val_acc: 0.7419\n",
      "Epoch 19/30\n",
      " - 0s - loss: 0.4788 - acc: 0.7762 - val_loss: 0.4962 - val_acc: 0.7742\n",
      "Epoch 20/30\n",
      " - 0s - loss: 0.4738 - acc: 0.7762 - val_loss: 0.4996 - val_acc: 0.7419\n",
      "Epoch 21/30\n",
      " - 0s - loss: 0.4686 - acc: 0.7834 - val_loss: 0.5014 - val_acc: 0.7419\n",
      "Epoch 22/30\n",
      " - 0s - loss: 0.4672 - acc: 0.7834 - val_loss: 0.4867 - val_acc: 0.7742\n",
      "Epoch 23/30\n",
      " - 0s - loss: 0.4586 - acc: 0.7924 - val_loss: 0.4845 - val_acc: 0.7742\n",
      "Epoch 24/30\n",
      " - 0s - loss: 0.4552 - acc: 0.7852 - val_loss: 0.4811 - val_acc: 0.7742\n",
      "Epoch 25/30\n",
      " - 0s - loss: 0.4534 - acc: 0.7852 - val_loss: 0.4949 - val_acc: 0.7742\n",
      "Epoch 26/30\n",
      " - 0s - loss: 0.4516 - acc: 0.7924 - val_loss: 0.4822 - val_acc: 0.7742\n",
      "Epoch 27/30\n",
      " - 0s - loss: 0.4502 - acc: 0.7888 - val_loss: 0.4936 - val_acc: 0.7742\n",
      "Epoch 28/30\n",
      " - 0s - loss: 0.4569 - acc: 0.7780 - val_loss: 0.4797 - val_acc: 0.7903\n",
      "Epoch 29/30\n",
      " - 0s - loss: 0.4488 - acc: 0.7906 - val_loss: 0.4825 - val_acc: 0.7903\n",
      "Epoch 30/30\n",
      " - 0s - loss: 0.4486 - acc: 0.7834 - val_loss: 0.4863 - val_acc: 0.7742\n"
     ]
    }
   ],
   "source": [
    "train_history =model.fit(x=train_Features, \n",
    "                         y=train_Label, \n",
    "                         validation_split=0.1, \n",
    "                         epochs=30, \n",
    "                         batch_size=30,verbose=2)"
   ]
  },
  {
   "cell_type": "code",
   "execution_count": 20,
   "metadata": {
    "collapsed": true
   },
   "outputs": [],
   "source": [
    "import matplotlib.pyplot as plt\n",
    "def show_train_history(train_history,train,validation):\n",
    "    plt.plot(train_history.history[train])\n",
    "    plt.plot(train_history.history[validation])\n",
    "    plt.title('Train History')\n",
    "    plt.ylabel(train)\n",
    "    plt.xlabel('Epoch')\n",
    "    plt.legend(['train', 'validation'], loc='upper left')\n",
    "    plt.show()"
   ]
  },
  {
   "cell_type": "code",
   "execution_count": 21,
   "metadata": {
    "collapsed": false
   },
   "outputs": [
    {
     "data": {
      "image/png": "[encoded data removed]",
      "text/plain": [
       "<matplotlib.figure.Figure at 0x7f223585c2b0>"
      ]
     },
     "metadata": {},
     "output_type": "display_data"
    }
   ],
   "source": [
    "show_train_history(train_history,'acc','val_acc')"
   ]
  },
  {
   "cell_type": "code",
   "execution_count": 22,
   "metadata": {
    "collapsed": false
   },
   "outputs": [
    {
     "data": {
      "image/png": "[encoded data removed]",
      "text/plain": [
       "<matplotlib.figure.Figure at 0x7f2234c7ca58>"
      ]
     },
     "metadata": {},
     "output_type": "display_data"
    }
   ],
   "source": [
    "show_train_history(train_history,'loss','val_loss')"
   ]
  },
  {
   "cell_type": "code",
   "execution_count": 23,
   "metadata": {
    "collapsed": false
   },
   "outputs": [
    {
     "name": "stdout",
     "output_type": "stream",
     "text": [
      "152/152 [==============================] - 0s 69us/step\n"
     ]
    }
   ],
   "source": [
    "scores = model.evaluate(x=test_Features, \n",
    "                        y=test_Label)"
   ]
  },
  {
   "cell_type": "code",
   "execution_count": 24,
   "metadata": {
    "collapsed": false
   },
   "outputs": [
    {
     "data": {
      "text/plain": [
       "0.7039473715581392"
      ]
     },
     "execution_count": 24,
     "metadata": {},
     "output_type": "execute_result"
    }
   ],
   "source": [
    "scores[1]"
   ]
  }
 ],
 "metadata": {
  "anaconda-cloud": {},
  "kernelspec": {
   "display_name": "Python [conda root]",
   "language": "python",
   "name": "conda-root-py"
  },
  "language_info": {
   "codemirror_mode": {
    "name": "ipython",
    "version": 3
   },
   "file_extension": ".py",
   "mimetype": "text/x-python",
   "name": "python",
   "nbconvert_exporter": "python",
   "pygments_lexer": "ipython3",
   "version": "3.5.2"
  }
 },
 "nbformat": 4,
 "nbformat_minor": 1
}
