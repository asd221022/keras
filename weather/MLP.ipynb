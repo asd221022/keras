{
 "cells": [
  {
   "cell_type": "code",
   "execution_count": 246,
   "metadata": {
    "collapsed": false
   },
   "outputs": [],
   "source": [
    "import numpy as np\n",
    "import pandas as pd\n",
    "from sklearn.preprocessing import StandardScaler\n",
    "from sklearn.cross_validation import train_test_split"
   ]
  },
  {
   "cell_type": "code",
   "execution_count": 247,
   "metadata": {
    "collapsed": false
   },
   "outputs": [],
   "source": [
    "Ynames = ['fLength', 'fWidth', 'fSize', 'fConc', 'fConc1', 'fAsym', \n",
    "             'fM3Long', 'fM3Trans', 'fAlpha', 'fDist', 'identity']\n",
    "featureNames = ['fLength', 'fWidth', 'fSize', 'fConc', 'fConc1', 'fAsym', \n",
    "             'fM3Long', 'fM3Trans', 'fAlpha', 'fDist']\n",
    "filepath = 'data/weatherAUS.csv'\n",
    "data = pd.read_csv(filepath, names=Ynames, header=None)\n",
    "data['identity']= data['identity'].map({'g':1, 'h': 0}).astype(int) \n",
    "X = data[featureNames].values\n",
    "Y = data['identity'].values.astype('int64')"
   ]
  },
  {
   "cell_type": "code",
   "execution_count": 248,
   "metadata": {
    "collapsed": false
   },
   "outputs": [
    {
     "data": {
      "text/plain": [
       "array([[ 0.55391817,  0.15387002,  0.31546209, -1.0351118 , -1.05383544,\n",
       "         1.37909851,  1.21293997, -0.95248617, -0.97129719,  0.52926626],\n",
       "       [-0.89843703, -0.40216055, -0.80391036,  0.92705249,  0.59853521,\n",
       "         0.15360394,  0.23478514,  0.58839669,  1.70061698, -0.13525693]])"
      ]
     },
     "execution_count": 248,
     "metadata": {},
     "output_type": "execute_result"
    }
   ],
   "source": [
    "X = StandardScaler().fit_transform(X)\n",
    "train_Features, test_Features, train_Label, test_Label = train_test_split(X, Y, test_size=0.33, random_state=None) \n",
    "train_Features[:2]"
   ]
  },
  {
   "cell_type": "code",
   "execution_count": 249,
   "metadata": {
    "collapsed": false
   },
   "outputs": [
    {
     "data": {
      "text/plain": [
       "array([[-0.07788391, -0.11102766,  0.93164594, -1.0558986 , -1.08007791,\n",
       "         0.35880791,  0.14583987, -0.287034  , -1.04193676,  0.44070724],\n",
       "       [ 0.30671857,  0.48926426,  0.10703452, -0.88577507, -0.92443292,\n",
       "         0.45563332,  0.60525481,  0.97800356, -1.03157011,  1.27018867]])"
      ]
     },
     "execution_count": 249,
     "metadata": {},
     "output_type": "execute_result"
    }
   ],
   "source": [
    "test_Features[:2]"
   ]
  },
  {
   "cell_type": "code",
   "execution_count": 250,
   "metadata": {
    "collapsed": false
   },
   "outputs": [
    {
     "data": {
      "text/plain": [
       "array([1, 0, 1, 0])"
      ]
     },
     "execution_count": 250,
     "metadata": {},
     "output_type": "execute_result"
    }
   ],
   "source": [
    "train_Label[:4]"
   ]
  },
  {
   "cell_type": "code",
   "execution_count": 251,
   "metadata": {
    "collapsed": false
   },
   "outputs": [
    {
     "data": {
      "text/plain": [
       "(12743, 10)"
      ]
     },
     "execution_count": 251,
     "metadata": {},
     "output_type": "execute_result"
    }
   ],
   "source": [
    "train_Features.shape"
   ]
  },
  {
   "cell_type": "code",
   "execution_count": 252,
   "metadata": {
    "collapsed": false
   },
   "outputs": [
    {
     "data": {
      "text/plain": [
       "array([1, 1, 1, 1])"
      ]
     },
     "execution_count": 252,
     "metadata": {},
     "output_type": "execute_result"
    }
   ],
   "source": [
    "test_Label[:4]"
   ]
  },
  {
   "cell_type": "code",
   "execution_count": 253,
   "metadata": {
    "collapsed": false
   },
   "outputs": [],
   "source": [
    "from keras.models import Sequential\n",
    "from keras.layers import Dense,Dropout\n",
    "from keras.callbacks import EarlyStopping\n",
    "early_stopping = EarlyStopping(monitor='val_loss', patience=3)"
   ]
  },
  {
   "cell_type": "code",
   "execution_count": 254,
   "metadata": {
    "collapsed": true
   },
   "outputs": [],
   "source": [
    "model = Sequential()"
   ]
  },
  {
   "cell_type": "code",
   "execution_count": 255,
   "metadata": {
    "collapsed": true
   },
   "outputs": [],
   "source": [
    "model.add(Dense(units=10,  input_dim=10, \n",
    "                kernel_initializer='uniform', \n",
    "                activation='relu'))"
   ]
  },
  {
   "cell_type": "code",
   "execution_count": 256,
   "metadata": {
    "collapsed": true
   },
   "outputs": [],
   "source": [
    "model.add(Dense(units=1, \n",
    "                kernel_initializer='uniform',\n",
    "                activation='sigmoid'))"
   ]
  },
  {
   "cell_type": "code",
   "execution_count": 257,
   "metadata": {
    "collapsed": false
   },
   "outputs": [
    {
     "name": "stdout",
     "output_type": "stream",
     "text": [
      "_________________________________________________________________\n",
      "Layer (type)                 Output Shape              Param #   \n",
      "=================================================================\n",
      "dense_76 (Dense)             (None, 10)                110       \n",
      "_________________________________________________________________\n",
      "dense_77 (Dense)             (None, 1)                 11        \n",
      "=================================================================\n",
      "Total params: 121\n",
      "Trainable params: 121\n",
      "Non-trainable params: 0\n",
      "_________________________________________________________________\n"
     ]
    }
   ],
   "source": [
    "model.summary()"
   ]
  },
  {
   "cell_type": "code",
   "execution_count": 258,
   "metadata": {
    "collapsed": true
   },
   "outputs": [],
   "source": [
    "model.compile(loss='binary_crossentropy', \n",
    "              optimizer='adam', metrics=['accuracy'])"
   ]
  },
  {
   "cell_type": "code",
   "execution_count": 259,
   "metadata": {
    "collapsed": false
   },
   "outputs": [
    {
     "name": "stdout",
     "output_type": "stream",
     "text": [
      "Train on 11468 samples, validate on 1275 samples\n",
      "Epoch 1/90\n",
      " - 1s - loss: 0.6886 - acc: 0.6673 - val_loss: 0.6824 - val_acc: 0.6886\n",
      "Epoch 2/90\n",
      " - 0s - loss: 0.6722 - acc: 0.7176 - val_loss: 0.6605 - val_acc: 0.7200\n",
      "Epoch 3/90\n",
      " - 0s - loss: 0.6437 - acc: 0.7396 - val_loss: 0.6276 - val_acc: 0.7349\n",
      "Epoch 4/90\n",
      " - 0s - loss: 0.6058 - acc: 0.7511 - val_loss: 0.5895 - val_acc: 0.7459\n",
      "Epoch 5/90\n",
      " - 0s - loss: 0.5658 - acc: 0.7586 - val_loss: 0.5529 - val_acc: 0.7545\n",
      "Epoch 6/90\n",
      " - 0s - loss: 0.5295 - acc: 0.7687 - val_loss: 0.5220 - val_acc: 0.7639\n",
      "Epoch 7/90\n",
      " - 0s - loss: 0.4999 - acc: 0.7778 - val_loss: 0.4980 - val_acc: 0.7710\n",
      "Epoch 8/90\n",
      " - 0s - loss: 0.4774 - acc: 0.7854 - val_loss: 0.4797 - val_acc: 0.7757\n",
      "Epoch 9/90\n",
      " - 0s - loss: 0.4611 - acc: 0.7899 - val_loss: 0.4657 - val_acc: 0.7859\n",
      "Epoch 10/90\n",
      " - 0s - loss: 0.4491 - acc: 0.7938 - val_loss: 0.4558 - val_acc: 0.7882\n",
      "Epoch 11/90\n",
      " - 0s - loss: 0.4404 - acc: 0.7957 - val_loss: 0.4484 - val_acc: 0.7953\n",
      "Epoch 12/90\n",
      " - 0s - loss: 0.4339 - acc: 0.7974 - val_loss: 0.4430 - val_acc: 0.7961\n",
      "Epoch 13/90\n",
      " - 0s - loss: 0.4287 - acc: 0.8002 - val_loss: 0.4385 - val_acc: 0.7953\n",
      "Epoch 14/90\n",
      " - 0s - loss: 0.4244 - acc: 0.8019 - val_loss: 0.4351 - val_acc: 0.7976\n",
      "Epoch 15/90\n",
      " - 0s - loss: 0.4209 - acc: 0.8024 - val_loss: 0.4319 - val_acc: 0.8016\n",
      "Epoch 16/90\n",
      " - 0s - loss: 0.4176 - acc: 0.8055 - val_loss: 0.4288 - val_acc: 0.8039\n",
      "Epoch 17/90\n",
      " - 0s - loss: 0.4148 - acc: 0.8069 - val_loss: 0.4264 - val_acc: 0.8016\n",
      "Epoch 18/90\n",
      " - 0s - loss: 0.4122 - acc: 0.8093 - val_loss: 0.4237 - val_acc: 0.8016\n",
      "Epoch 19/90\n",
      " - 0s - loss: 0.4098 - acc: 0.8106 - val_loss: 0.4213 - val_acc: 0.8047\n",
      "Epoch 20/90\n",
      " - 0s - loss: 0.4075 - acc: 0.8130 - val_loss: 0.4192 - val_acc: 0.8031\n",
      "Epoch 21/90\n",
      " - 0s - loss: 0.4054 - acc: 0.8155 - val_loss: 0.4172 - val_acc: 0.8071\n",
      "Epoch 22/90\n",
      " - 0s - loss: 0.4032 - acc: 0.8161 - val_loss: 0.4155 - val_acc: 0.8078\n",
      "Epoch 23/90\n",
      " - 0s - loss: 0.4014 - acc: 0.8171 - val_loss: 0.4134 - val_acc: 0.8110\n",
      "Epoch 24/90\n",
      " - 0s - loss: 0.3996 - acc: 0.8182 - val_loss: 0.4119 - val_acc: 0.8094\n",
      "Epoch 25/90\n",
      " - 0s - loss: 0.3978 - acc: 0.8198 - val_loss: 0.4102 - val_acc: 0.8110\n",
      "Epoch 26/90\n",
      " - 0s - loss: 0.3963 - acc: 0.8212 - val_loss: 0.4087 - val_acc: 0.8149\n",
      "Epoch 27/90\n",
      " - 0s - loss: 0.3947 - acc: 0.8233 - val_loss: 0.4074 - val_acc: 0.8180\n",
      "Epoch 28/90\n",
      " - 0s - loss: 0.3933 - acc: 0.8237 - val_loss: 0.4059 - val_acc: 0.8188\n",
      "Epoch 29/90\n",
      " - 0s - loss: 0.3918 - acc: 0.8252 - val_loss: 0.4051 - val_acc: 0.8196\n",
      "Epoch 30/90\n",
      " - 0s - loss: 0.3904 - acc: 0.8263 - val_loss: 0.4035 - val_acc: 0.8204\n",
      "Epoch 31/90\n",
      " - 0s - loss: 0.3890 - acc: 0.8271 - val_loss: 0.4025 - val_acc: 0.8227\n",
      "Epoch 32/90\n",
      " - 0s - loss: 0.3877 - acc: 0.8273 - val_loss: 0.4013 - val_acc: 0.8243\n",
      "Epoch 33/90\n",
      " - 0s - loss: 0.3864 - acc: 0.8285 - val_loss: 0.4001 - val_acc: 0.8267\n",
      "Epoch 34/90\n",
      " - 0s - loss: 0.3853 - acc: 0.8291 - val_loss: 0.3989 - val_acc: 0.8259\n",
      "Epoch 35/90\n",
      " - 0s - loss: 0.3840 - acc: 0.8298 - val_loss: 0.3976 - val_acc: 0.8267\n",
      "Epoch 36/90\n",
      " - 0s - loss: 0.3827 - acc: 0.8308 - val_loss: 0.3969 - val_acc: 0.8267\n",
      "Epoch 37/90\n",
      " - 0s - loss: 0.3817 - acc: 0.8321 - val_loss: 0.3956 - val_acc: 0.8275\n",
      "Epoch 38/90\n",
      " - 0s - loss: 0.3805 - acc: 0.8327 - val_loss: 0.3949 - val_acc: 0.8275\n",
      "Epoch 39/90\n",
      " - 0s - loss: 0.3796 - acc: 0.8345 - val_loss: 0.3938 - val_acc: 0.8329\n",
      "Epoch 40/90\n",
      " - 0s - loss: 0.3785 - acc: 0.8360 - val_loss: 0.3929 - val_acc: 0.8314\n",
      "Epoch 41/90\n",
      " - 0s - loss: 0.3772 - acc: 0.8366 - val_loss: 0.3920 - val_acc: 0.8353\n",
      "Epoch 42/90\n",
      " - 0s - loss: 0.3763 - acc: 0.8374 - val_loss: 0.3912 - val_acc: 0.8392\n",
      "Epoch 43/90\n",
      " - 0s - loss: 0.3754 - acc: 0.8381 - val_loss: 0.3903 - val_acc: 0.8408\n",
      "Epoch 44/90\n",
      " - 0s - loss: 0.3744 - acc: 0.8390 - val_loss: 0.3896 - val_acc: 0.8424\n",
      "Epoch 45/90\n",
      " - 0s - loss: 0.3733 - acc: 0.8394 - val_loss: 0.3889 - val_acc: 0.8431\n",
      "Epoch 46/90\n",
      " - 0s - loss: 0.3724 - acc: 0.8403 - val_loss: 0.3882 - val_acc: 0.8431\n",
      "Epoch 47/90\n",
      " - 0s - loss: 0.3714 - acc: 0.8414 - val_loss: 0.3873 - val_acc: 0.8431\n",
      "Epoch 48/90\n",
      " - 0s - loss: 0.3705 - acc: 0.8423 - val_loss: 0.3869 - val_acc: 0.8424\n",
      "Epoch 49/90\n",
      " - 0s - loss: 0.3696 - acc: 0.8424 - val_loss: 0.3858 - val_acc: 0.8455\n",
      "Epoch 50/90\n",
      " - 0s - loss: 0.3687 - acc: 0.8440 - val_loss: 0.3848 - val_acc: 0.8447\n",
      "Epoch 51/90\n",
      " - 0s - loss: 0.3678 - acc: 0.8434 - val_loss: 0.3842 - val_acc: 0.8447\n",
      "Epoch 52/90\n",
      " - 0s - loss: 0.3669 - acc: 0.8447 - val_loss: 0.3835 - val_acc: 0.8455\n",
      "Epoch 53/90\n",
      " - 0s - loss: 0.3660 - acc: 0.8461 - val_loss: 0.3828 - val_acc: 0.8471\n",
      "Epoch 54/90\n",
      " - 0s - loss: 0.3650 - acc: 0.8463 - val_loss: 0.3816 - val_acc: 0.8463\n",
      "Epoch 55/90\n",
      " - 0s - loss: 0.3642 - acc: 0.8479 - val_loss: 0.3813 - val_acc: 0.8478\n",
      "Epoch 56/90\n",
      " - 0s - loss: 0.3631 - acc: 0.8484 - val_loss: 0.3802 - val_acc: 0.8486\n",
      "Epoch 57/90\n",
      " - 0s - loss: 0.3622 - acc: 0.8487 - val_loss: 0.3795 - val_acc: 0.8478\n",
      "Epoch 58/90\n",
      " - 0s - loss: 0.3614 - acc: 0.8494 - val_loss: 0.3789 - val_acc: 0.8494\n",
      "Epoch 59/90\n",
      " - 0s - loss: 0.3607 - acc: 0.8495 - val_loss: 0.3781 - val_acc: 0.8486\n",
      "Epoch 60/90\n",
      " - 0s - loss: 0.3596 - acc: 0.8522 - val_loss: 0.3774 - val_acc: 0.8525\n",
      "Epoch 61/90\n",
      " - 0s - loss: 0.3588 - acc: 0.8525 - val_loss: 0.3767 - val_acc: 0.8502\n",
      "Epoch 62/90\n",
      " - 0s - loss: 0.3580 - acc: 0.8520 - val_loss: 0.3761 - val_acc: 0.8533\n",
      "Epoch 63/90\n",
      " - 0s - loss: 0.3571 - acc: 0.8525 - val_loss: 0.3755 - val_acc: 0.8525\n",
      "Epoch 64/90\n",
      " - 0s - loss: 0.3563 - acc: 0.8530 - val_loss: 0.3750 - val_acc: 0.8541\n",
      "Epoch 65/90\n",
      " - 0s - loss: 0.3557 - acc: 0.8543 - val_loss: 0.3743 - val_acc: 0.8533\n",
      "Epoch 66/90\n",
      " - 0s - loss: 0.3550 - acc: 0.8530 - val_loss: 0.3738 - val_acc: 0.8533\n",
      "Epoch 67/90\n",
      " - 0s - loss: 0.3542 - acc: 0.8541 - val_loss: 0.3730 - val_acc: 0.8510\n",
      "Epoch 68/90\n",
      " - 0s - loss: 0.3535 - acc: 0.8549 - val_loss: 0.3727 - val_acc: 0.8525\n",
      "Epoch 69/90\n",
      " - 0s - loss: 0.3529 - acc: 0.8553 - val_loss: 0.3726 - val_acc: 0.8541\n",
      "Epoch 70/90\n",
      " - 0s - loss: 0.3522 - acc: 0.8551 - val_loss: 0.3717 - val_acc: 0.8525\n",
      "Epoch 71/90\n",
      " - 0s - loss: 0.3516 - acc: 0.8556 - val_loss: 0.3713 - val_acc: 0.8518\n",
      "Epoch 72/90\n",
      " - 0s - loss: 0.3509 - acc: 0.8565 - val_loss: 0.3709 - val_acc: 0.8510\n",
      "Epoch 73/90\n",
      " - 0s - loss: 0.3505 - acc: 0.8566 - val_loss: 0.3706 - val_acc: 0.8502\n",
      "Epoch 74/90\n",
      " - 0s - loss: 0.3499 - acc: 0.8573 - val_loss: 0.3699 - val_acc: 0.8510\n",
      "Epoch 75/90\n",
      " - 0s - loss: 0.3492 - acc: 0.8580 - val_loss: 0.3702 - val_acc: 0.8549\n",
      "Epoch 76/90\n",
      " - 0s - loss: 0.3489 - acc: 0.8575 - val_loss: 0.3693 - val_acc: 0.8518\n",
      "Epoch 77/90\n",
      " - 0s - loss: 0.3483 - acc: 0.8590 - val_loss: 0.3690 - val_acc: 0.8494\n",
      "Epoch 78/90\n",
      " - 0s - loss: 0.3477 - acc: 0.8588 - val_loss: 0.3683 - val_acc: 0.8541\n",
      "Epoch 79/90\n",
      " - 0s - loss: 0.3473 - acc: 0.8605 - val_loss: 0.3683 - val_acc: 0.8549\n",
      "Epoch 80/90\n",
      " - 0s - loss: 0.3467 - acc: 0.8600 - val_loss: 0.3677 - val_acc: 0.8549\n",
      "Epoch 81/90\n",
      " - 0s - loss: 0.3462 - acc: 0.8594 - val_loss: 0.3675 - val_acc: 0.8541\n",
      "Epoch 82/90\n",
      " - 0s - loss: 0.3458 - acc: 0.8596 - val_loss: 0.3670 - val_acc: 0.8541\n",
      "Epoch 83/90\n",
      " - 0s - loss: 0.3452 - acc: 0.8600 - val_loss: 0.3668 - val_acc: 0.8549\n",
      "Epoch 84/90\n",
      " - 0s - loss: 0.3448 - acc: 0.8609 - val_loss: 0.3665 - val_acc: 0.8565\n",
      "Epoch 85/90\n",
      " - 0s - loss: 0.3444 - acc: 0.8603 - val_loss: 0.3661 - val_acc: 0.8557\n",
      "Epoch 86/90\n",
      " - 0s - loss: 0.3440 - acc: 0.8606 - val_loss: 0.3661 - val_acc: 0.8565\n",
      "Epoch 87/90\n",
      " - 0s - loss: 0.3436 - acc: 0.8615 - val_loss: 0.3652 - val_acc: 0.8533\n",
      "Epoch 88/90\n",
      " - 0s - loss: 0.3432 - acc: 0.8604 - val_loss: 0.3647 - val_acc: 0.8557\n",
      "Epoch 89/90\n",
      " - 0s - loss: 0.3428 - acc: 0.8610 - val_loss: 0.3646 - val_acc: 0.8573\n",
      "Epoch 90/90\n",
      " - 0s - loss: 0.3425 - acc: 0.8616 - val_loss: 0.3647 - val_acc: 0.8541\n"
     ]
    }
   ],
   "source": [
    "train_history =model.fit(x=train_Features, \n",
    "                         y=train_Label, \n",
    "                         validation_split=0.1, \n",
    "                         epochs=90, \n",
    "                         batch_size=400,verbose=2,callbacks=[early_stopping])"
   ]
  },
  {
   "cell_type": "code",
   "execution_count": 260,
   "metadata": {
    "collapsed": true
   },
   "outputs": [],
   "source": [
    "import matplotlib.pyplot as plt\n",
    "def show_train_history(train_history,train,validation):\n",
    "    plt.plot(train_history.history[train])\n",
    "    plt.plot(train_history.history[validation])\n",
    "    plt.title('Train History')\n",
    "    plt.ylabel(train)\n",
    "    plt.xlabel('Epoch')\n",
    "    plt.legend(['train', 'validation'], loc='upper left')\n",
    "    plt.show()"
   ]
  },
  {
   "cell_type": "code",
   "execution_count": 261,
   "metadata": {
    "collapsed": false
   },
   "outputs": [
    {
     "data": {
      "image/png": "[encoded data removed]",
      "text/plain": [
       "<matplotlib.figure.Figure at 0x7f35a1ceef60>"
      ]
     },
     "metadata": {},
     "output_type": "display_data"
    }
   ],
   "source": [
    "show_train_history(train_history,'acc','val_acc')"
   ]
  },
  {
   "cell_type": "code",
   "execution_count": 262,
   "metadata": {
    "collapsed": false
   },
   "outputs": [
    {
     "data": {
      "image/png": "[encoded data removed]",
      "text/plain": [
       "<matplotlib.figure.Figure at 0x7f35a1cee470>"
      ]
     },
     "metadata": {},
     "output_type": "display_data"
    }
   ],
   "source": [
    "show_train_history(train_history,'loss','val_loss')"
   ]
  },
  {
   "cell_type": "code",
   "execution_count": 263,
   "metadata": {
    "collapsed": false
   },
   "outputs": [
    {
     "name": "stdout",
     "output_type": "stream",
     "text": [
      "6277/6277 [==============================] - 0s 74us/step\n"
     ]
    }
   ],
   "source": [
    "scores = model.evaluate(x=test_Features, \n",
    "                        y=test_Label)"
   ]
  },
  {
   "cell_type": "code",
   "execution_count": 264,
   "metadata": {
    "collapsed": false
   },
   "outputs": [
    {
     "data": {
      "text/plain": [
       "0.8561414688640441"
      ]
     },
     "execution_count": 264,
     "metadata": {},
     "output_type": "execute_result"
    }
   ],
   "source": [
    "scores[1]"
   ]
  }
 ],
 "metadata": {
  "anaconda-cloud": {},
  "kernelspec": {
   "display_name": "Python [default]",
   "language": "python",
   "name": "python3"
  },
  "language_info": {
   "codemirror_mode": {
    "name": "ipython",
    "version": 3
   },
   "file_extension": ".py",
   "mimetype": "text/x-python",
   "name": "python",
   "nbconvert_exporter": "python",
   "pygments_lexer": "ipython3",
   "version": "3.5.2"
  }
 },
 "nbformat": 4,
 "nbformat_minor": 1
}
