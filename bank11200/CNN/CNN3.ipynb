{
 "cells": [
  {
   "cell_type": "code",
   "execution_count": 1,
   "metadata": {
    "collapsed": false
   },
   "outputs": [],
   "source": [
    "import numpy \n",
    "import pandas as pd\n",
    "from sklearn.preprocessing import StandardScaler\n",
    "from sklearn.cross_validation import train_test_split\n",
    "numpy.random.seed(10)"
   ]
  },
  {
   "cell_type": "code",
   "execution_count": 2,
   "metadata": {
    "collapsed": false
   },
   "outputs": [],
   "source": [
    "all_df = pd.read_csv(\"data/bank.csv\")"
   ]
  },
  {
   "cell_type": "code",
   "execution_count": 3,
   "metadata": {
    "collapsed": true
   },
   "outputs": [],
   "source": [
    "cols=['age','balance' ,'day', 'duration',\n",
    "       'campaign','pdays','previous','deposit']\n",
    "all_df=all_df[cols]"
   ]
  },
  {
   "cell_type": "code",
   "execution_count": 4,
   "metadata": {
    "collapsed": false
   },
   "outputs": [],
   "source": [
    "all_df['deposit']= all_df['deposit'].map({'no':0, 'yes': 1}).astype(int)"
   ]
  },
  {
   "cell_type": "code",
   "execution_count": 5,
   "metadata": {
    "collapsed": true
   },
   "outputs": [],
   "source": [
    "X=all_df.drop(['deposit'], axis=1).values.astype('float64')"
   ]
  },
  {
   "cell_type": "code",
   "execution_count": 6,
   "metadata": {
    "collapsed": true
   },
   "outputs": [],
   "source": [
    "Y = all_df['deposit'].values.astype('int64')"
   ]
  },
  {
   "cell_type": "code",
   "execution_count": 7,
   "metadata": {
    "collapsed": false
   },
   "outputs": [
    {
     "data": {
      "text/plain": [
       "8929"
      ]
     },
     "execution_count": 7,
     "metadata": {},
     "output_type": "execute_result"
    }
   ],
   "source": [
    "X = StandardScaler().fit_transform(X)\n",
    "train_Features, test_Features, train_Label, test_Label = train_test_split(X, Y, test_size=0.2, random_state=True) \n",
    "len(train_Features)"
   ]
  },
  {
   "cell_type": "code",
   "execution_count": 8,
   "metadata": {
    "collapsed": false
   },
   "outputs": [
    {
     "data": {
      "text/plain": [
       "array([[-0.85890111, -0.3021573 , -1.26574556, -0.8008745 , -0.55416834,\n",
       "        -0.48118405, -0.36325984],\n",
       "       [ 0.14841574, -0.31455937,  0.51565047, -0.97372895, -0.18678537,\n",
       "        -0.48118405, -0.36325984]])"
      ]
     },
     "execution_count": 8,
     "metadata": {},
     "output_type": "execute_result"
    }
   ],
   "source": [
    "test_Features[:2]"
   ]
  },
  {
   "cell_type": "code",
   "execution_count": 9,
   "metadata": {
    "collapsed": false
   },
   "outputs": [
    {
     "data": {
      "text/plain": [
       "array([0, 1, 0, 1])"
      ]
     },
     "execution_count": 9,
     "metadata": {},
     "output_type": "execute_result"
    }
   ],
   "source": [
    "train_Label[:4]"
   ]
  },
  {
   "cell_type": "code",
   "execution_count": 10,
   "metadata": {
    "collapsed": false
   },
   "outputs": [
    {
     "data": {
      "text/plain": [
       "(8929, 7)"
      ]
     },
     "execution_count": 10,
     "metadata": {},
     "output_type": "execute_result"
    }
   ],
   "source": [
    "train_Features.shape"
   ]
  },
  {
   "cell_type": "code",
   "execution_count": 11,
   "metadata": {
    "collapsed": false
   },
   "outputs": [
    {
     "data": {
      "text/plain": [
       "array([0, 0, 0, 1])"
      ]
     },
     "execution_count": 11,
     "metadata": {},
     "output_type": "execute_result"
    }
   ],
   "source": [
    "test_Label[:4]"
   ]
  },
  {
   "cell_type": "code",
   "execution_count": 12,
   "metadata": {
    "collapsed": true
   },
   "outputs": [],
   "source": [
    "train_Features = train_Features.reshape((train_Features.shape[0], train_Features.shape[1], 1))"
   ]
  },
  {
   "cell_type": "code",
   "execution_count": 13,
   "metadata": {
    "collapsed": true
   },
   "outputs": [],
   "source": [
    "test_Features = test_Features.reshape((test_Features.shape[0], test_Features.shape[1], 1))"
   ]
  },
  {
   "cell_type": "code",
   "execution_count": 14,
   "metadata": {
    "collapsed": false
   },
   "outputs": [],
   "source": [
    "train_Label = train_Label.reshape(train_Label.shape[0], 1)\n",
    "test_Label= test_Label.reshape(test_Label.shape[0], 1)"
   ]
  },
  {
   "cell_type": "code",
   "execution_count": 15,
   "metadata": {
    "collapsed": false
   },
   "outputs": [
    {
     "name": "stderr",
     "output_type": "stream",
     "text": [
      "Using TensorFlow backend.\n"
     ]
    }
   ],
   "source": [
    "from keras.models import Sequential\n",
    "from keras.layers import Dense,Dropout,Flatten,Conv1D,MaxPooling1D\n",
    "from keras.layers.embeddings import Embedding\n",
    "from keras.callbacks import EarlyStopping\n",
    "early_stopping = EarlyStopping(monitor='val_loss', patience=2)"
   ]
  },
  {
   "cell_type": "code",
   "execution_count": 16,
   "metadata": {
    "collapsed": true
   },
   "outputs": [],
   "source": [
    "model = Sequential()"
   ]
  },
  {
   "cell_type": "code",
   "execution_count": 17,
   "metadata": {
    "collapsed": true
   },
   "outputs": [],
   "source": [
    "model.add(Conv1D(filters=7*3,\n",
    "                 kernel_size=3,\n",
    "                 padding='valid',\n",
    "                 input_shape=(7,1), \n",
    "                 activation='relu'))"
   ]
  },
  {
   "cell_type": "code",
   "execution_count": 18,
   "metadata": {
    "collapsed": true
   },
   "outputs": [],
   "source": [
    "model.add(MaxPooling1D(pool_size=1))"
   ]
  },
  {
   "cell_type": "code",
   "execution_count": 19,
   "metadata": {
    "collapsed": true
   },
   "outputs": [],
   "source": [
    "model.add(Conv1D(filters=7*2,\n",
    "                 kernel_size=3,\n",
    "                 padding='valid',                  \n",
    "                 activation='relu'))"
   ]
  },
  {
   "cell_type": "code",
   "execution_count": 20,
   "metadata": {
    "collapsed": true
   },
   "outputs": [],
   "source": [
    "model.add(MaxPooling1D(pool_size=1))"
   ]
  },
  {
   "cell_type": "code",
   "execution_count": 21,
   "metadata": {
    "collapsed": false
   },
   "outputs": [],
   "source": [
    "model.add(Conv1D(filters=7,\n",
    "                 kernel_size=3,\n",
    "                 padding='valid',                 \n",
    "                 activation='relu'))"
   ]
  },
  {
   "cell_type": "code",
   "execution_count": 22,
   "metadata": {
    "collapsed": true
   },
   "outputs": [],
   "source": [
    "model.add(MaxPooling1D(pool_size=1))"
   ]
  },
  {
   "cell_type": "code",
   "execution_count": 23,
   "metadata": {
    "collapsed": true
   },
   "outputs": [],
   "source": [
    "model.add(Flatten())"
   ]
  },
  {
   "cell_type": "code",
   "execution_count": 24,
   "metadata": {
    "collapsed": true
   },
   "outputs": [],
   "source": [
    "model.add(Dense(7, activation='tanh'))"
   ]
  },
  {
   "cell_type": "code",
   "execution_count": 25,
   "metadata": {
    "collapsed": true
   },
   "outputs": [],
   "source": [
    "model.add(Dense(1,activation='sigmoid'))"
   ]
  },
  {
   "cell_type": "code",
   "execution_count": 26,
   "metadata": {
    "collapsed": false
   },
   "outputs": [
    {
     "name": "stdout",
     "output_type": "stream",
     "text": [
      "_________________________________________________________________\n",
      "Layer (type)                 Output Shape              Param #   \n",
      "=================================================================\n",
      "conv1d_1 (Conv1D)            (None, 5, 21)             84        \n",
      "_________________________________________________________________\n",
      "max_pooling1d_1 (MaxPooling1 (None, 5, 21)             0         \n",
      "_________________________________________________________________\n",
      "conv1d_2 (Conv1D)            (None, 3, 14)             896       \n",
      "_________________________________________________________________\n",
      "max_pooling1d_2 (MaxPooling1 (None, 3, 14)             0         \n",
      "_________________________________________________________________\n",
      "conv1d_3 (Conv1D)            (None, 1, 7)              301       \n",
      "_________________________________________________________________\n",
      "max_pooling1d_3 (MaxPooling1 (None, 1, 7)              0         \n",
      "_________________________________________________________________\n",
      "flatten_1 (Flatten)          (None, 7)                 0         \n",
      "_________________________________________________________________\n",
      "dense_1 (Dense)              (None, 7)                 56        \n",
      "_________________________________________________________________\n",
      "dense_2 (Dense)              (None, 1)                 8         \n",
      "=================================================================\n",
      "Total params: 1,345\n",
      "Trainable params: 1,345\n",
      "Non-trainable params: 0\n",
      "_________________________________________________________________\n"
     ]
    }
   ],
   "source": [
    "model.summary()"
   ]
  },
  {
   "cell_type": "code",
   "execution_count": 27,
   "metadata": {
    "collapsed": false
   },
   "outputs": [],
   "source": [
    "model.compile(loss='binary_crossentropy', \n",
    "              optimizer='adam', metrics=['accuracy'])"
   ]
  },
  {
   "cell_type": "code",
   "execution_count": 28,
   "metadata": {
    "collapsed": false
   },
   "outputs": [
    {
     "name": "stdout",
     "output_type": "stream",
     "text": [
      "Train on 7143 samples, validate on 1786 samples\n",
      "Epoch 1/60\n",
      "7143/7143 [==============================] - 1s 116us/step - loss: 0.6922 - acc: 0.5290 - val_loss: 0.6859 - val_acc: 0.6271\n",
      "Epoch 2/60\n",
      "7143/7143 [==============================] - 0s 39us/step - loss: 0.6783 - acc: 0.6766 - val_loss: 0.6675 - val_acc: 0.7066\n",
      "Epoch 3/60\n",
      "7143/7143 [==============================] - 0s 40us/step - loss: 0.6531 - acc: 0.7257 - val_loss: 0.6355 - val_acc: 0.7324\n",
      "Epoch 4/60\n",
      "7143/7143 [==============================] - 0s 39us/step - loss: 0.6151 - acc: 0.7374 - val_loss: 0.5955 - val_acc: 0.7419\n",
      "Epoch 5/60\n",
      "7143/7143 [==============================] - 0s 39us/step - loss: 0.5755 - acc: 0.7411 - val_loss: 0.5597 - val_acc: 0.7514\n",
      "Epoch 6/60\n",
      "7143/7143 [==============================] - 0s 40us/step - loss: 0.5456 - acc: 0.7472 - val_loss: 0.5349 - val_acc: 0.7525\n",
      "Epoch 7/60\n",
      "7143/7143 [==============================] - 0s 42us/step - loss: 0.5261 - acc: 0.7518 - val_loss: 0.5190 - val_acc: 0.7559\n",
      "Epoch 8/60\n",
      "7143/7143 [==============================] - 0s 40us/step - loss: 0.5156 - acc: 0.7553 - val_loss: 0.5098 - val_acc: 0.7643\n",
      "Epoch 9/60\n",
      "7143/7143 [==============================] - 0s 38us/step - loss: 0.5090 - acc: 0.7600 - val_loss: 0.5042 - val_acc: 0.7699\n",
      "Epoch 10/60\n",
      "7143/7143 [==============================] - 0s 28us/step - loss: 0.5044 - acc: 0.7635 - val_loss: 0.5001 - val_acc: 0.7693\n",
      "Epoch 11/60\n",
      "7143/7143 [==============================] - 0s 31us/step - loss: 0.5001 - acc: 0.7679 - val_loss: 0.4950 - val_acc: 0.7721\n",
      "Epoch 12/60\n",
      "7143/7143 [==============================] - 0s 45us/step - loss: 0.4963 - acc: 0.7696 - val_loss: 0.4918 - val_acc: 0.7755\n",
      "Epoch 13/60\n",
      "7143/7143 [==============================] - 0s 41us/step - loss: 0.4932 - acc: 0.7725 - val_loss: 0.4887 - val_acc: 0.7738\n",
      "Epoch 14/60\n",
      "7143/7143 [==============================] - 0s 37us/step - loss: 0.4915 - acc: 0.7735 - val_loss: 0.4866 - val_acc: 0.7800\n",
      "Epoch 15/60\n",
      "7143/7143 [==============================] - 0s 36us/step - loss: 0.4886 - acc: 0.7767 - val_loss: 0.4840 - val_acc: 0.7828\n",
      "Epoch 16/60\n",
      "7143/7143 [==============================] - 0s 39us/step - loss: 0.4849 - acc: 0.7780 - val_loss: 0.4816 - val_acc: 0.7822\n",
      "Epoch 17/60\n",
      "7143/7143 [==============================] - 0s 28us/step - loss: 0.4829 - acc: 0.7812 - val_loss: 0.4773 - val_acc: 0.7833\n",
      "Epoch 18/60\n",
      "7143/7143 [==============================] - 0s 29us/step - loss: 0.4800 - acc: 0.7844 - val_loss: 0.4758 - val_acc: 0.7861\n",
      "Epoch 19/60\n",
      "7143/7143 [==============================] - 0s 34us/step - loss: 0.4782 - acc: 0.7845 - val_loss: 0.4731 - val_acc: 0.7878\n",
      "Epoch 20/60\n",
      "7143/7143 [==============================] - 0s 43us/step - loss: 0.4760 - acc: 0.7837 - val_loss: 0.4704 - val_acc: 0.7895\n",
      "Epoch 21/60\n",
      "7143/7143 [==============================] - 0s 41us/step - loss: 0.4748 - acc: 0.7864 - val_loss: 0.4699 - val_acc: 0.7872\n",
      "Epoch 22/60\n",
      "7143/7143 [==============================] - 0s 41us/step - loss: 0.4730 - acc: 0.7875 - val_loss: 0.4672 - val_acc: 0.7923\n",
      "Epoch 23/60\n",
      "7143/7143 [==============================] - 0s 41us/step - loss: 0.4717 - acc: 0.7886 - val_loss: 0.4656 - val_acc: 0.7951\n",
      "Epoch 24/60\n",
      "7143/7143 [==============================] - 0s 38us/step - loss: 0.4697 - acc: 0.7893 - val_loss: 0.4667 - val_acc: 0.7889\n",
      "Epoch 25/60\n",
      "7143/7143 [==============================] - 0s 40us/step - loss: 0.4697 - acc: 0.7880 - val_loss: 0.4617 - val_acc: 0.7934\n",
      "Epoch 26/60\n",
      "7143/7143 [==============================] - 0s 31us/step - loss: 0.4676 - acc: 0.7897 - val_loss: 0.4620 - val_acc: 0.7973\n",
      "Epoch 27/60\n",
      "7143/7143 [==============================] - 0s 41us/step - loss: 0.4666 - acc: 0.7894 - val_loss: 0.4598 - val_acc: 0.7962\n",
      "Epoch 28/60\n",
      "7143/7143 [==============================] - 0s 44us/step - loss: 0.4651 - acc: 0.7892 - val_loss: 0.4594 - val_acc: 0.7928\n",
      "Epoch 29/60\n",
      "7143/7143 [==============================] - 0s 41us/step - loss: 0.4635 - acc: 0.7908 - val_loss: 0.4588 - val_acc: 0.7968\n",
      "Epoch 30/60\n",
      "7143/7143 [==============================] - 0s 42us/step - loss: 0.4637 - acc: 0.7922 - val_loss: 0.4596 - val_acc: 0.7889\n",
      "Epoch 31/60\n",
      "7143/7143 [==============================] - 0s 45us/step - loss: 0.4644 - acc: 0.7932 - val_loss: 0.4577 - val_acc: 0.7917\n",
      "Epoch 32/60\n",
      "7143/7143 [==============================] - 0s 45us/step - loss: 0.4611 - acc: 0.7914 - val_loss: 0.4557 - val_acc: 0.7945\n",
      "Epoch 33/60\n",
      "7143/7143 [==============================] - 0s 46us/step - loss: 0.4606 - acc: 0.7921 - val_loss: 0.4592 - val_acc: 0.7990\n",
      "Epoch 34/60\n",
      "7143/7143 [==============================] - 0s 43us/step - loss: 0.4614 - acc: 0.7931 - val_loss: 0.4536 - val_acc: 0.7934\n",
      "Epoch 35/60\n",
      "7143/7143 [==============================] - 0s 49us/step - loss: 0.4596 - acc: 0.7931 - val_loss: 0.4558 - val_acc: 0.7923\n",
      "Epoch 36/60\n",
      "7143/7143 [==============================] - 0s 40us/step - loss: 0.4590 - acc: 0.7955 - val_loss: 0.4535 - val_acc: 0.7923\n",
      "Epoch 37/60\n",
      "7143/7143 [==============================] - 0s 43us/step - loss: 0.4582 - acc: 0.7931 - val_loss: 0.4540 - val_acc: 0.7951\n",
      "Epoch 38/60\n",
      "7143/7143 [==============================] - 0s 40us/step - loss: 0.4596 - acc: 0.7945 - val_loss: 0.4529 - val_acc: 0.7962\n",
      "Epoch 39/60\n",
      "7143/7143 [==============================] - 0s 44us/step - loss: 0.4582 - acc: 0.7953 - val_loss: 0.4523 - val_acc: 0.7968\n",
      "Epoch 40/60\n",
      "7143/7143 [==============================] - 0s 41us/step - loss: 0.4583 - acc: 0.7938 - val_loss: 0.4562 - val_acc: 0.7934\n",
      "Epoch 41/60\n",
      "7143/7143 [==============================] - 0s 42us/step - loss: 0.4586 - acc: 0.7956 - val_loss: 0.4507 - val_acc: 0.7962\n",
      "Epoch 42/60\n",
      "7143/7143 [==============================] - 0s 43us/step - loss: 0.4563 - acc: 0.7955 - val_loss: 0.4523 - val_acc: 0.7973\n",
      "Epoch 43/60\n",
      "7143/7143 [==============================] - 0s 43us/step - loss: 0.4556 - acc: 0.7976 - val_loss: 0.4528 - val_acc: 0.7968\n"
     ]
    }
   ],
   "source": [
    "train_history =model.fit(x=train_Features, \n",
    "                         y=train_Label, \n",
    "                         validation_split=0.2, \n",
    "                         epochs=60, \n",
    "                         batch_size=500,verbose=1,callbacks=[early_stopping])"
   ]
  },
  {
   "cell_type": "code",
   "execution_count": 29,
   "metadata": {
    "collapsed": true
   },
   "outputs": [],
   "source": [
    "import matplotlib.pyplot as plt\n",
    "def show_train_history(train_history,train,validation):\n",
    "    plt.plot(train_history.history[train])\n",
    "    plt.plot(train_history.history[validation])\n",
    "    plt.title('Train History')\n",
    "    plt.ylabel(train)\n",
    "    plt.xlabel('Epoch')\n",
    "    plt.legend(['train', 'validation'], loc='upper left')\n",
    "    plt.show()"
   ]
  },
  {
   "cell_type": "code",
   "execution_count": 30,
   "metadata": {
    "collapsed": false
   },
   "outputs": [
    {
     "data": {
      "image/png": "[encoded data removed]",
      "text/plain": [
       "<matplotlib.figure.Figure at 0x7f5ce66fe4a8>"
      ]
     },
     "metadata": {},
     "output_type": "display_data"
    }
   ],
   "source": [
    "show_train_history(train_history,'acc','val_acc')"
   ]
  },
  {
   "cell_type": "code",
   "execution_count": 31,
   "metadata": {
    "collapsed": false
   },
   "outputs": [
    {
     "data": {
      "image/png": "[encoded data removed]",
      "text/plain": [
       "<matplotlib.figure.Figure at 0x7f5ce66fec18>"
      ]
     },
     "metadata": {},
     "output_type": "display_data"
    }
   ],
   "source": [
    "show_train_history(train_history,'loss','val_loss')"
   ]
  },
  {
   "cell_type": "code",
   "execution_count": 32,
   "metadata": {
    "collapsed": false
   },
   "outputs": [
    {
     "name": "stdout",
     "output_type": "stream",
     "text": [
      "2233/2233 [==============================] - 0s 95us/step\n"
     ]
    }
   ],
   "source": [
    "scores = model.evaluate(x=test_Features, \n",
    "                        y=test_Label)"
   ]
  },
  {
   "cell_type": "code",
   "execution_count": 33,
   "metadata": {
    "collapsed": false
   },
   "outputs": [
    {
     "data": {
      "text/plain": [
       "0.7841468874883929"
      ]
     },
     "execution_count": 33,
     "metadata": {},
     "output_type": "execute_result"
    }
   ],
   "source": [
    "scores[1]"
   ]
  }
 ],
 "metadata": {
  "anaconda-cloud": {},
  "kernelspec": {
   "display_name": "Python [default]",
   "language": "python",
   "name": "python3"
  },
  "language_info": {
   "codemirror_mode": {
    "name": "ipython",
    "version": 3
   },
   "file_extension": ".py",
   "mimetype": "text/x-python",
   "name": "python",
   "nbconvert_exporter": "python",
   "pygments_lexer": "ipython3",
   "version": "3.5.2"
  }
 },
 "nbformat": 4,
 "nbformat_minor": 1
}
