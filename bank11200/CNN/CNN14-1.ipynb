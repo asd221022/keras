{
 "cells": [
  {
   "cell_type": "code",
   "execution_count": 1,
   "metadata": {
    "collapsed": false
   },
   "outputs": [],
   "source": [
    "import numpy \n",
    "import pandas as pd\n",
    "from sklearn.preprocessing import StandardScaler\n",
    "from sklearn.model_selection import train_test_split\n",
    "numpy.random.seed(10)"
   ]
  },
  {
   "cell_type": "code",
   "execution_count": 2,
   "metadata": {
    "collapsed": false
   },
   "outputs": [],
   "source": [
    "all_df = pd.read_csv(\"bank.csv\")"
   ]
  },
  {
   "cell_type": "code",
   "execution_count": 3,
   "metadata": {
    "collapsed": true
   },
   "outputs": [],
   "source": [
    "cols=['age','balance' ,'day', 'duration',\n",
    "       'campaign','pdays','previous','deposit']\n",
    "all_df=all_df[cols]"
   ]
  },
  {
   "cell_type": "code",
   "execution_count": 4,
   "metadata": {
    "collapsed": false
   },
   "outputs": [],
   "source": [
    "all_df['deposit']= all_df['deposit'].map({'no':0, 'yes': 1}).astype(int)"
   ]
  },
  {
   "cell_type": "code",
   "execution_count": 5,
   "metadata": {
    "collapsed": true
   },
   "outputs": [],
   "source": [
    "X=all_df.drop(['deposit'], axis=1).values.astype('float64')"
   ]
  },
  {
   "cell_type": "code",
   "execution_count": 6,
   "metadata": {
    "collapsed": true
   },
   "outputs": [],
   "source": [
    "Y = all_df['deposit'].values.astype('int64')"
   ]
  },
  {
   "cell_type": "code",
   "execution_count": 7,
   "metadata": {
    "collapsed": false
   },
   "outputs": [
    {
     "data": {
      "text/plain": [
       "8929"
      ]
     },
     "execution_count": 7,
     "metadata": {},
     "output_type": "execute_result"
    }
   ],
   "source": [
    "X = StandardScaler().fit_transform(X)\n",
    "train_Features, test_Features, train_Label, test_Label = train_test_split(X, Y, test_size=0.2, random_state=True) \n",
    "len(train_Features)"
   ]
  },
  {
   "cell_type": "code",
   "execution_count": 8,
   "metadata": {
    "collapsed": false
   },
   "outputs": [
    {
     "data": {
      "text/plain": [
       "array([[-0.85890111, -0.3021573 , -1.26574556, -0.8008745 , -0.55416834,\n",
       "        -0.48118405, -0.36325984],\n",
       "       [ 0.14841574, -0.31455937,  0.51565047, -0.97372895, -0.18678537,\n",
       "        -0.48118405, -0.36325984]])"
      ]
     },
     "execution_count": 8,
     "metadata": {},
     "output_type": "execute_result"
    }
   ],
   "source": [
    "test_Features[:2]"
   ]
  },
  {
   "cell_type": "code",
   "execution_count": 9,
   "metadata": {
    "collapsed": false
   },
   "outputs": [
    {
     "data": {
      "text/plain": [
       "array([0, 1, 0, 1])"
      ]
     },
     "execution_count": 9,
     "metadata": {},
     "output_type": "execute_result"
    }
   ],
   "source": [
    "train_Label[:4]"
   ]
  },
  {
   "cell_type": "code",
   "execution_count": 10,
   "metadata": {
    "collapsed": false
   },
   "outputs": [
    {
     "data": {
      "text/plain": [
       "(8929, 7)"
      ]
     },
     "execution_count": 10,
     "metadata": {},
     "output_type": "execute_result"
    }
   ],
   "source": [
    "train_Features.shape"
   ]
  },
  {
   "cell_type": "code",
   "execution_count": 11,
   "metadata": {
    "collapsed": false
   },
   "outputs": [
    {
     "data": {
      "text/plain": [
       "array([0, 0, 0, 1])"
      ]
     },
     "execution_count": 11,
     "metadata": {},
     "output_type": "execute_result"
    }
   ],
   "source": [
    "test_Label[:4]"
   ]
  },
  {
   "cell_type": "code",
   "execution_count": 12,
   "metadata": {
    "collapsed": true
   },
   "outputs": [],
   "source": [
    "train_Features = train_Features.reshape((train_Features.shape[0], train_Features.shape[1], 1))"
   ]
  },
  {
   "cell_type": "code",
   "execution_count": 13,
   "metadata": {
    "collapsed": true
   },
   "outputs": [],
   "source": [
    "test_Features = test_Features.reshape((test_Features.shape[0], test_Features.shape[1], 1))"
   ]
  },
  {
   "cell_type": "code",
   "execution_count": 14,
   "metadata": {
    "collapsed": false
   },
   "outputs": [
    {
     "name": "stderr",
     "output_type": "stream",
     "text": [
      "Using TensorFlow backend.\n"
     ]
    }
   ],
   "source": [
    "from keras.models import Sequential\n",
    "from keras.layers import Dense,Dropout,Flatten,Conv1D,MaxPooling1D\n",
    "from keras.layers.embeddings import Embedding\n",
    "from keras.callbacks import EarlyStopping\n",
    "early_stopping = EarlyStopping(monitor='val_loss', patience=2)"
   ]
  },
  {
   "cell_type": "code",
   "execution_count": 15,
   "metadata": {
    "collapsed": true
   },
   "outputs": [],
   "source": [
    "model = Sequential()"
   ]
  },
  {
   "cell_type": "code",
   "execution_count": 16,
   "metadata": {
    "collapsed": false
   },
   "outputs": [],
   "source": [
    "model.add(Conv1D(filters=14,\n",
    "                 kernel_size=3,\n",
    "                 padding='valid',\n",
    "                 input_shape=(7,1), \n",
    "                 activation='relu'))"
   ]
  },
  {
   "cell_type": "code",
   "execution_count": 17,
   "metadata": {
    "collapsed": true
   },
   "outputs": [],
   "source": [
    "model.add(MaxPooling1D(pool_size=1))"
   ]
  },
  {
   "cell_type": "code",
   "execution_count": 18,
   "metadata": {
    "collapsed": true
   },
   "outputs": [],
   "source": [
    "model.add(Flatten())"
   ]
  },
  {
   "cell_type": "code",
   "execution_count": 19,
   "metadata": {
    "collapsed": true
   },
   "outputs": [],
   "source": [
    "model.add(Dense(7, activation='tanh'))"
   ]
  },
  {
   "cell_type": "code",
   "execution_count": 20,
   "metadata": {
    "collapsed": true
   },
   "outputs": [],
   "source": [
    "model.add(Dense(1,activation='sigmoid'))"
   ]
  },
  {
   "cell_type": "code",
   "execution_count": 21,
   "metadata": {
    "collapsed": false
   },
   "outputs": [
    {
     "name": "stdout",
     "output_type": "stream",
     "text": [
      "_________________________________________________________________\n",
      "Layer (type)                 Output Shape              Param #   \n",
      "=================================================================\n",
      "conv1d_1 (Conv1D)            (None, 5, 14)             56        \n",
      "_________________________________________________________________\n",
      "max_pooling1d_1 (MaxPooling1 (None, 5, 14)             0         \n",
      "_________________________________________________________________\n",
      "flatten_1 (Flatten)          (None, 70)                0         \n",
      "_________________________________________________________________\n",
      "dense_1 (Dense)              (None, 7)                 497       \n",
      "_________________________________________________________________\n",
      "dense_2 (Dense)              (None, 1)                 8         \n",
      "=================================================================\n",
      "Total params: 561\n",
      "Trainable params: 561\n",
      "Non-trainable params: 0\n",
      "_________________________________________________________________\n"
     ]
    }
   ],
   "source": [
    "model.summary()"
   ]
  },
  {
   "cell_type": "code",
   "execution_count": 22,
   "metadata": {
    "collapsed": false
   },
   "outputs": [],
   "source": [
    "model.compile(loss='binary_crossentropy', \n",
    "              optimizer='adam', metrics=['accuracy'])"
   ]
  },
  {
   "cell_type": "code",
   "execution_count": 23,
   "metadata": {
    "collapsed": false
   },
   "outputs": [
    {
     "name": "stdout",
     "output_type": "stream",
     "text": [
      "Train on 7143 samples, validate on 1786 samples\n",
      "Epoch 1/30\n",
      "7143/7143 [==============================] - 1s 179us/step - loss: 0.6910 - acc: 0.5121 - val_loss: 0.6522 - val_acc: 0.6876\n",
      "Epoch 2/30\n",
      "7143/7143 [==============================] - 0s 23us/step - loss: 0.6329 - acc: 0.6955 - val_loss: 0.6047 - val_acc: 0.7228\n",
      "Epoch 3/30\n",
      "7143/7143 [==============================] - 0s 20us/step - loss: 0.5920 - acc: 0.7294 - val_loss: 0.5719 - val_acc: 0.7413\n",
      "Epoch 4/30\n",
      "7143/7143 [==============================] - 0s 16us/step - loss: 0.5625 - acc: 0.7407 - val_loss: 0.5481 - val_acc: 0.7469\n",
      "Epoch 5/30\n",
      "7143/7143 [==============================] - 0s 20us/step - loss: 0.5410 - acc: 0.7473 - val_loss: 0.5319 - val_acc: 0.7508\n",
      "Epoch 6/30\n",
      "7143/7143 [==============================] - 0s 17us/step - loss: 0.5265 - acc: 0.7549 - val_loss: 0.5211 - val_acc: 0.7587\n",
      "Epoch 7/30\n",
      "7143/7143 [==============================] - 0s 21us/step - loss: 0.5165 - acc: 0.7558 - val_loss: 0.5129 - val_acc: 0.7548\n",
      "Epoch 8/30\n",
      "7143/7143 [==============================] - 0s 19us/step - loss: 0.5092 - acc: 0.7602 - val_loss: 0.5072 - val_acc: 0.7648\n",
      "Epoch 9/30\n",
      "7143/7143 [==============================] - 0s 19us/step - loss: 0.5041 - acc: 0.7638 - val_loss: 0.5028 - val_acc: 0.7648\n",
      "Epoch 10/30\n",
      "7143/7143 [==============================] - 0s 19us/step - loss: 0.5003 - acc: 0.7651 - val_loss: 0.4989 - val_acc: 0.7693\n",
      "Epoch 11/30\n",
      "7143/7143 [==============================] - 0s 18us/step - loss: 0.4969 - acc: 0.7704 - val_loss: 0.4958 - val_acc: 0.7749\n",
      "Epoch 12/30\n",
      "7143/7143 [==============================] - 0s 18us/step - loss: 0.4940 - acc: 0.7731 - val_loss: 0.4930 - val_acc: 0.7710\n",
      "Epoch 13/30\n",
      "7143/7143 [==============================] - 0s 18us/step - loss: 0.4915 - acc: 0.7740 - val_loss: 0.4906 - val_acc: 0.7760\n",
      "Epoch 14/30\n",
      "7143/7143 [==============================] - 0s 17us/step - loss: 0.4894 - acc: 0.7761 - val_loss: 0.4886 - val_acc: 0.7755\n",
      "Epoch 15/30\n",
      "7143/7143 [==============================] - 0s 17us/step - loss: 0.4873 - acc: 0.7777 - val_loss: 0.4867 - val_acc: 0.7744\n",
      "Epoch 16/30\n",
      "7143/7143 [==============================] - 0s 16us/step - loss: 0.4856 - acc: 0.7774 - val_loss: 0.4850 - val_acc: 0.7738\n",
      "Epoch 17/30\n",
      "7143/7143 [==============================] - 0s 19us/step - loss: 0.4842 - acc: 0.7813 - val_loss: 0.4834 - val_acc: 0.7772\n",
      "Epoch 18/30\n",
      "7143/7143 [==============================] - 0s 20us/step - loss: 0.4828 - acc: 0.7805 - val_loss: 0.4823 - val_acc: 0.7777\n",
      "Epoch 19/30\n",
      "7143/7143 [==============================] - 0s 19us/step - loss: 0.4815 - acc: 0.7806 - val_loss: 0.4811 - val_acc: 0.7766\n",
      "Epoch 20/30\n",
      "7143/7143 [==============================] - 0s 23us/step - loss: 0.4808 - acc: 0.7806 - val_loss: 0.4802 - val_acc: 0.7794\n",
      "Epoch 21/30\n",
      "7143/7143 [==============================] - 0s 38us/step - loss: 0.4797 - acc: 0.7830 - val_loss: 0.4795 - val_acc: 0.7794\n",
      "Epoch 22/30\n",
      "7143/7143 [==============================] - 0s 27us/step - loss: 0.4791 - acc: 0.7799 - val_loss: 0.4776 - val_acc: 0.7800\n",
      "Epoch 23/30\n",
      "7143/7143 [==============================] - 0s 37us/step - loss: 0.4780 - acc: 0.7810 - val_loss: 0.4773 - val_acc: 0.7766\n",
      "Epoch 24/30\n",
      "7143/7143 [==============================] - 0s 47us/step - loss: 0.4774 - acc: 0.7823 - val_loss: 0.4764 - val_acc: 0.7760\n",
      "Epoch 25/30\n",
      "7143/7143 [==============================] - 0s 40us/step - loss: 0.4765 - acc: 0.7841 - val_loss: 0.4759 - val_acc: 0.7805\n",
      "Epoch 26/30\n",
      "7143/7143 [==============================] - 0s 31us/step - loss: 0.4759 - acc: 0.7854 - val_loss: 0.4750 - val_acc: 0.7772\n",
      "Epoch 27/30\n",
      "7143/7143 [==============================] - 0s 36us/step - loss: 0.4753 - acc: 0.7841 - val_loss: 0.4743 - val_acc: 0.7766\n",
      "Epoch 28/30\n",
      "7143/7143 [==============================] - 0s 57us/step - loss: 0.4750 - acc: 0.7820 - val_loss: 0.4739 - val_acc: 0.7772\n",
      "Epoch 29/30\n",
      "7143/7143 [==============================] - 0s 46us/step - loss: 0.4744 - acc: 0.7841 - val_loss: 0.4732 - val_acc: 0.7794\n",
      "Epoch 30/30\n",
      "7143/7143 [==============================] - 0s 46us/step - loss: 0.4737 - acc: 0.7841 - val_loss: 0.4729 - val_acc: 0.7805\n"
     ]
    }
   ],
   "source": [
    "train_history =model.fit(x=train_Features, \n",
    "                         y=train_Label, \n",
    "                         validation_split=0.2, \n",
    "                         epochs=30, \n",
    "                         batch_size=500,verbose=1,callbacks=[early_stopping])"
   ]
  },
  {
   "cell_type": "code",
   "execution_count": 24,
   "metadata": {
    "collapsed": true
   },
   "outputs": [],
   "source": [
    "import matplotlib.pyplot as plt\n",
    "def show_train_history(train_history,train,validation):\n",
    "    plt.plot(train_history.history[train])\n",
    "    plt.plot(train_history.history[validation])\n",
    "    plt.title('Train History')\n",
    "    plt.ylabel(train)\n",
    "    plt.xlabel('Epoch')\n",
    "    plt.legend(['train', 'validation'], loc='upper left')\n",
    "    plt.show()"
   ]
  },
  {
   "cell_type": "code",
   "execution_count": 25,
   "metadata": {
    "collapsed": false
   },
   "outputs": [
    {
     "data": {
      "image/png": "[encoded data removed]",
      "text/plain": [
       "<matplotlib.figure.Figure at 0x7f37e9653cf8>"
      ]
     },
     "metadata": {},
     "output_type": "display_data"
    }
   ],
   "source": [
    "show_train_history(train_history,'acc','val_acc')"
   ]
  },
  {
   "cell_type": "code",
   "execution_count": 26,
   "metadata": {
    "collapsed": false
   },
   "outputs": [
    {
     "data": {
      "image/png": "[encoded data removed]",
      "text/plain": [
       "<matplotlib.figure.Figure at 0x7f37dc85e358>"
      ]
     },
     "metadata": {},
     "output_type": "display_data"
    }
   ],
   "source": [
    "show_train_history(train_history,'loss','val_loss')"
   ]
  },
  {
   "cell_type": "code",
   "execution_count": 27,
   "metadata": {
    "collapsed": false
   },
   "outputs": [
    {
     "name": "stdout",
     "output_type": "stream",
     "text": [
      "2233/2233 [==============================] - 0s 90us/step\n"
     ]
    }
   ],
   "source": [
    "scores = model.evaluate(x=test_Features, \n",
    "                        y=test_Label)"
   ]
  },
  {
   "cell_type": "code",
   "execution_count": 28,
   "metadata": {
    "collapsed": false
   },
   "outputs": [
    {
     "data": {
      "text/plain": [
       "0.7801164356091607"
      ]
     },
     "execution_count": 28,
     "metadata": {},
     "output_type": "execute_result"
    }
   ],
   "source": [
    "scores[1]"
   ]
  }
 ],
 "metadata": {
  "anaconda-cloud": {},
  "kernelspec": {
   "display_name": "Python [default]",
   "language": "python",
   "name": "python3"
  },
  "language_info": {
   "codemirror_mode": {
    "name": "ipython",
    "version": 3
   },
   "file_extension": ".py",
   "mimetype": "text/x-python",
   "name": "python",
   "nbconvert_exporter": "python",
   "pygments_lexer": "ipython3",
   "version": "3.5.2"
  }
 },
 "nbformat": 4,
 "nbformat_minor": 1
}
