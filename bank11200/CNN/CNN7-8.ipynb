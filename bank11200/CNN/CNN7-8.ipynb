{
 "cells": [
  {
   "cell_type": "code",
   "execution_count": 43,
   "metadata": {
    "collapsed": false
   },
   "outputs": [],
   "source": [
    "import numpy \n",
    "import pandas as pd\n",
    "from sklearn.preprocessing import StandardScaler\n",
    "from sklearn.model_selection import train_test_split\n",
    "numpy.random.seed(10)"
   ]
  },
  {
   "cell_type": "code",
   "execution_count": 44,
   "metadata": {
    "collapsed": false
   },
   "outputs": [],
   "source": [
    "all_df = pd.read_csv(\"bank.csv\")"
   ]
  },
  {
   "cell_type": "code",
   "execution_count": 45,
   "metadata": {
    "collapsed": true
   },
   "outputs": [],
   "source": [
    "cols=['age','balance' ,'day', 'duration',\n",
    "       'campaign','pdays','previous','deposit']\n",
    "all_df=all_df[cols]"
   ]
  },
  {
   "cell_type": "code",
   "execution_count": 46,
   "metadata": {
    "collapsed": false
   },
   "outputs": [],
   "source": [
    "all_df['deposit']= all_df['deposit'].map({'no':0, 'yes': 1}).astype(int)"
   ]
  },
  {
   "cell_type": "code",
   "execution_count": 47,
   "metadata": {
    "collapsed": true
   },
   "outputs": [],
   "source": [
    "X=all_df.drop(['deposit'], axis=1).values.astype('float64')"
   ]
  },
  {
   "cell_type": "code",
   "execution_count": 48,
   "metadata": {
    "collapsed": true
   },
   "outputs": [],
   "source": [
    "Y = all_df['deposit'].values.astype('int64')"
   ]
  },
  {
   "cell_type": "code",
   "execution_count": 49,
   "metadata": {
    "collapsed": false
   },
   "outputs": [
    {
     "data": {
      "text/plain": [
       "8929"
      ]
     },
     "execution_count": 49,
     "metadata": {},
     "output_type": "execute_result"
    }
   ],
   "source": [
    "X = StandardScaler().fit_transform(X)\n",
    "train_Features, test_Features, train_Label, test_Label = train_test_split(X, Y, test_size=0.2, random_state=True) \n",
    "len(train_Features)"
   ]
  },
  {
   "cell_type": "code",
   "execution_count": 50,
   "metadata": {
    "collapsed": false
   },
   "outputs": [
    {
     "data": {
      "text/plain": [
       "array([[-0.85890111, -0.3021573 , -1.26574556, -0.8008745 , -0.55416834,\n",
       "        -0.48118405, -0.36325984],\n",
       "       [ 0.14841574, -0.31455937,  0.51565047, -0.97372895, -0.18678537,\n",
       "        -0.48118405, -0.36325984]])"
      ]
     },
     "execution_count": 50,
     "metadata": {},
     "output_type": "execute_result"
    }
   ],
   "source": [
    "test_Features[:2]"
   ]
  },
  {
   "cell_type": "code",
   "execution_count": 51,
   "metadata": {
    "collapsed": false
   },
   "outputs": [
    {
     "data": {
      "text/plain": [
       "array([0, 1, 0, 1])"
      ]
     },
     "execution_count": 51,
     "metadata": {},
     "output_type": "execute_result"
    }
   ],
   "source": [
    "train_Label[:4]"
   ]
  },
  {
   "cell_type": "code",
   "execution_count": 52,
   "metadata": {
    "collapsed": false
   },
   "outputs": [
    {
     "data": {
      "text/plain": [
       "(8929, 7)"
      ]
     },
     "execution_count": 52,
     "metadata": {},
     "output_type": "execute_result"
    }
   ],
   "source": [
    "train_Features.shape"
   ]
  },
  {
   "cell_type": "code",
   "execution_count": 53,
   "metadata": {
    "collapsed": false
   },
   "outputs": [
    {
     "data": {
      "text/plain": [
       "array([0, 0, 0, 1])"
      ]
     },
     "execution_count": 53,
     "metadata": {},
     "output_type": "execute_result"
    }
   ],
   "source": [
    "test_Label[:4]"
   ]
  },
  {
   "cell_type": "code",
   "execution_count": 54,
   "metadata": {
    "collapsed": true
   },
   "outputs": [],
   "source": [
    "train_Features = train_Features.reshape((train_Features.shape[0], train_Features.shape[1], 1))"
   ]
  },
  {
   "cell_type": "code",
   "execution_count": 55,
   "metadata": {
    "collapsed": true
   },
   "outputs": [],
   "source": [
    "test_Features = test_Features.reshape((test_Features.shape[0], test_Features.shape[1], 1))"
   ]
  },
  {
   "cell_type": "code",
   "execution_count": 56,
   "metadata": {
    "collapsed": false
   },
   "outputs": [],
   "source": [
    "from keras.models import Sequential\n",
    "from keras.layers import Dense,Dropout,Flatten,Conv1D,MaxPooling1D\n",
    "from keras.layers.embeddings import Embedding\n",
    "from keras.callbacks import EarlyStopping\n",
    "early_stopping = EarlyStopping(monitor='val_loss', patience=2)"
   ]
  },
  {
   "cell_type": "code",
   "execution_count": 57,
   "metadata": {
    "collapsed": true
   },
   "outputs": [],
   "source": [
    "model = Sequential()"
   ]
  },
  {
   "cell_type": "code",
   "execution_count": 58,
   "metadata": {
    "collapsed": true
   },
   "outputs": [],
   "source": [
    "model.add(Conv1D(filters=7*8,\n",
    "                 kernel_size=1,\n",
    "                 padding='valid',\n",
    "                 input_shape=(7,1), \n",
    "                 activation='relu'))"
   ]
  },
  {
   "cell_type": "code",
   "execution_count": 59,
   "metadata": {
    "collapsed": true
   },
   "outputs": [],
   "source": [
    "model.add(MaxPooling1D(pool_size=1))"
   ]
  },
  {
   "cell_type": "code",
   "execution_count": 60,
   "metadata": {
    "collapsed": true
   },
   "outputs": [],
   "source": [
    "model.add(Conv1D(filters=7*7,\n",
    "                 kernel_size=1,\n",
    "                 padding='valid',\n",
    "                 activation='relu'))"
   ]
  },
  {
   "cell_type": "code",
   "execution_count": 61,
   "metadata": {
    "collapsed": true
   },
   "outputs": [],
   "source": [
    "model.add(MaxPooling1D(pool_size=1))"
   ]
  },
  {
   "cell_type": "code",
   "execution_count": 62,
   "metadata": {
    "collapsed": true
   },
   "outputs": [],
   "source": [
    "model.add(Conv1D(filters=7*6,\n",
    "                 kernel_size=1,\n",
    "                 padding='valid',\n",
    "                 activation='relu'))"
   ]
  },
  {
   "cell_type": "code",
   "execution_count": 63,
   "metadata": {
    "collapsed": true
   },
   "outputs": [],
   "source": [
    "model.add(MaxPooling1D(pool_size=1))"
   ]
  },
  {
   "cell_type": "code",
   "execution_count": 64,
   "metadata": {
    "collapsed": true
   },
   "outputs": [],
   "source": [
    "model.add(Conv1D(filters=7*5,\n",
    "                 kernel_size=1,\n",
    "                 padding='valid',\n",
    "                 activation='relu'))"
   ]
  },
  {
   "cell_type": "code",
   "execution_count": 65,
   "metadata": {
    "collapsed": true
   },
   "outputs": [],
   "source": [
    "model.add(MaxPooling1D(pool_size=1))"
   ]
  },
  {
   "cell_type": "code",
   "execution_count": 66,
   "metadata": {
    "collapsed": true
   },
   "outputs": [],
   "source": [
    "model.add(Conv1D(filters=7*4,\n",
    "                 kernel_size=1,\n",
    "                 padding='valid',\n",
    "                 activation='relu'))"
   ]
  },
  {
   "cell_type": "code",
   "execution_count": 67,
   "metadata": {
    "collapsed": true
   },
   "outputs": [],
   "source": [
    "model.add(MaxPooling1D(pool_size=1))"
   ]
  },
  {
   "cell_type": "code",
   "execution_count": 68,
   "metadata": {
    "collapsed": true
   },
   "outputs": [],
   "source": [
    "model.add(Conv1D(filters=7*3,\n",
    "                 kernel_size=1,\n",
    "                 padding='valid',\n",
    "                 activation='relu'))"
   ]
  },
  {
   "cell_type": "code",
   "execution_count": 69,
   "metadata": {
    "collapsed": true
   },
   "outputs": [],
   "source": [
    "model.add(MaxPooling1D(pool_size=1))"
   ]
  },
  {
   "cell_type": "code",
   "execution_count": 70,
   "metadata": {
    "collapsed": false
   },
   "outputs": [],
   "source": [
    "model.add(Conv1D(filters=7*2,\n",
    "                 kernel_size=1,\n",
    "                 padding='valid', \n",
    "                 activation='relu'))"
   ]
  },
  {
   "cell_type": "code",
   "execution_count": 71,
   "metadata": {
    "collapsed": true
   },
   "outputs": [],
   "source": [
    "model.add(MaxPooling1D(pool_size=1))"
   ]
  },
  {
   "cell_type": "code",
   "execution_count": 72,
   "metadata": {
    "collapsed": false
   },
   "outputs": [],
   "source": [
    "model.add(Conv1D(filters=7,\n",
    "                 kernel_size=1,\n",
    "                 padding='valid', \n",
    "                 activation='relu'))"
   ]
  },
  {
   "cell_type": "code",
   "execution_count": 73,
   "metadata": {
    "collapsed": true
   },
   "outputs": [],
   "source": [
    "model.add(MaxPooling1D(pool_size=1))"
   ]
  },
  {
   "cell_type": "code",
   "execution_count": 74,
   "metadata": {
    "collapsed": true
   },
   "outputs": [],
   "source": [
    "model.add(Flatten())"
   ]
  },
  {
   "cell_type": "code",
   "execution_count": 75,
   "metadata": {
    "collapsed": true
   },
   "outputs": [],
   "source": [
    "model.add(Dense(7, activation='tanh'))"
   ]
  },
  {
   "cell_type": "code",
   "execution_count": 76,
   "metadata": {
    "collapsed": true
   },
   "outputs": [],
   "source": [
    "model.add(Dense(1,activation='sigmoid'))"
   ]
  },
  {
   "cell_type": "code",
   "execution_count": 77,
   "metadata": {
    "collapsed": false
   },
   "outputs": [
    {
     "name": "stdout",
     "output_type": "stream",
     "text": [
      "_________________________________________________________________\n",
      "Layer (type)                 Output Shape              Param #   \n",
      "=================================================================\n",
      "conv1d_9 (Conv1D)            (None, 7, 56)             112       \n",
      "_________________________________________________________________\n",
      "max_pooling1d_9 (MaxPooling1 (None, 7, 56)             0         \n",
      "_________________________________________________________________\n",
      "conv1d_10 (Conv1D)           (None, 7, 49)             2793      \n",
      "_________________________________________________________________\n",
      "max_pooling1d_10 (MaxPooling (None, 7, 49)             0         \n",
      "_________________________________________________________________\n",
      "conv1d_11 (Conv1D)           (None, 7, 42)             2100      \n",
      "_________________________________________________________________\n",
      "max_pooling1d_11 (MaxPooling (None, 7, 42)             0         \n",
      "_________________________________________________________________\n",
      "conv1d_12 (Conv1D)           (None, 7, 35)             1505      \n",
      "_________________________________________________________________\n",
      "max_pooling1d_12 (MaxPooling (None, 7, 35)             0         \n",
      "_________________________________________________________________\n",
      "conv1d_13 (Conv1D)           (None, 7, 28)             1008      \n",
      "_________________________________________________________________\n",
      "max_pooling1d_13 (MaxPooling (None, 7, 28)             0         \n",
      "_________________________________________________________________\n",
      "conv1d_14 (Conv1D)           (None, 7, 21)             609       \n",
      "_________________________________________________________________\n",
      "max_pooling1d_14 (MaxPooling (None, 7, 21)             0         \n",
      "_________________________________________________________________\n",
      "conv1d_15 (Conv1D)           (None, 7, 14)             308       \n",
      "_________________________________________________________________\n",
      "max_pooling1d_15 (MaxPooling (None, 7, 14)             0         \n",
      "_________________________________________________________________\n",
      "conv1d_16 (Conv1D)           (None, 7, 7)              105       \n",
      "_________________________________________________________________\n",
      "max_pooling1d_16 (MaxPooling (None, 7, 7)              0         \n",
      "_________________________________________________________________\n",
      "flatten_2 (Flatten)          (None, 49)                0         \n",
      "_________________________________________________________________\n",
      "dense_3 (Dense)              (None, 7)                 350       \n",
      "_________________________________________________________________\n",
      "dense_4 (Dense)              (None, 1)                 8         \n",
      "=================================================================\n",
      "Total params: 8,898\n",
      "Trainable params: 8,898\n",
      "Non-trainable params: 0\n",
      "_________________________________________________________________\n"
     ]
    }
   ],
   "source": [
    "model.summary()"
   ]
  },
  {
   "cell_type": "code",
   "execution_count": 78,
   "metadata": {
    "collapsed": false
   },
   "outputs": [],
   "source": [
    "model.compile(loss='binary_crossentropy', \n",
    "              optimizer='adam', metrics=['accuracy'])"
   ]
  },
  {
   "cell_type": "code",
   "execution_count": 79,
   "metadata": {
    "collapsed": false
   },
   "outputs": [
    {
     "name": "stdout",
     "output_type": "stream",
     "text": [
      "Train on 7143 samples, validate on 1786 samples\n",
      "Epoch 1/30\n",
      "7143/7143 [==============================] - 6s 874us/step - loss: 0.6860 - acc: 0.6597 - val_loss: 0.6752 - val_acc: 0.7184\n",
      "Epoch 2/30\n",
      "7143/7143 [==============================] - 2s 273us/step - loss: 0.6533 - acc: 0.7145 - val_loss: 0.6312 - val_acc: 0.6999\n",
      "Epoch 3/30\n",
      "7143/7143 [==============================] - 2s 294us/step - loss: 0.6008 - acc: 0.7011 - val_loss: 0.5902 - val_acc: 0.7016\n",
      "Epoch 4/30\n",
      "7143/7143 [==============================] - 2s 318us/step - loss: 0.5704 - acc: 0.7151 - val_loss: 0.5687 - val_acc: 0.7184\n",
      "Epoch 5/30\n",
      "7143/7143 [==============================] - 2s 258us/step - loss: 0.5528 - acc: 0.7312 - val_loss: 0.5531 - val_acc: 0.7245\n",
      "Epoch 6/30\n",
      "7143/7143 [==============================] - 3s 384us/step - loss: 0.5397 - acc: 0.7318 - val_loss: 0.5406 - val_acc: 0.7284\n",
      "Epoch 7/30\n",
      "7143/7143 [==============================] - 2s 266us/step - loss: 0.5281 - acc: 0.7407 - val_loss: 0.5298 - val_acc: 0.7419\n",
      "Epoch 8/30\n",
      "7143/7143 [==============================] - 2s 324us/step - loss: 0.5202 - acc: 0.7495 - val_loss: 0.5226 - val_acc: 0.7408\n",
      "Epoch 9/30\n",
      "7143/7143 [==============================] - 2s 339us/step - loss: 0.5156 - acc: 0.7480 - val_loss: 0.5177 - val_acc: 0.7480\n",
      "Epoch 10/30\n",
      "7143/7143 [==============================] - 2s 333us/step - loss: 0.5105 - acc: 0.7516 - val_loss: 0.5121 - val_acc: 0.7492\n",
      "Epoch 11/30\n",
      "7143/7143 [==============================] - 2s 306us/step - loss: 0.5052 - acc: 0.7581 - val_loss: 0.5075 - val_acc: 0.7536\n",
      "Epoch 12/30\n",
      "7143/7143 [==============================] - 2s 322us/step - loss: 0.5016 - acc: 0.7584 - val_loss: 0.5041 - val_acc: 0.7570\n",
      "Epoch 13/30\n",
      "7143/7143 [==============================] - 2s 345us/step - loss: 0.4979 - acc: 0.7621 - val_loss: 0.5023 - val_acc: 0.7632\n",
      "Epoch 14/30\n",
      "7143/7143 [==============================] - 2s 343us/step - loss: 0.4952 - acc: 0.7651 - val_loss: 0.4932 - val_acc: 0.7710\n",
      "Epoch 15/30\n",
      "7143/7143 [==============================] - 2s 317us/step - loss: 0.4889 - acc: 0.7697 - val_loss: 0.4895 - val_acc: 0.7749\n",
      "Epoch 16/30\n",
      "7143/7143 [==============================] - 3s 361us/step - loss: 0.4849 - acc: 0.7726 - val_loss: 0.4844 - val_acc: 0.7794\n",
      "Epoch 17/30\n",
      "7143/7143 [==============================] - 2s 350us/step - loss: 0.4817 - acc: 0.7757 - val_loss: 0.4818 - val_acc: 0.7828\n",
      "Epoch 18/30\n",
      "7143/7143 [==============================] - 4s 550us/step - loss: 0.4798 - acc: 0.7757 - val_loss: 0.4794 - val_acc: 0.7783\n",
      "Epoch 19/30\n",
      "7143/7143 [==============================] - 4s 622us/step - loss: 0.4794 - acc: 0.7768 - val_loss: 0.4818 - val_acc: 0.7755\n",
      "Epoch 20/30\n",
      "7143/7143 [==============================] - 4s 582us/step - loss: 0.4792 - acc: 0.7773 - val_loss: 0.4757 - val_acc: 0.7805\n",
      "Epoch 21/30\n",
      "7143/7143 [==============================] - 4s 588us/step - loss: 0.4757 - acc: 0.7775 - val_loss: 0.4722 - val_acc: 0.7833\n",
      "Epoch 22/30\n",
      "7143/7143 [==============================] - 5s 632us/step - loss: 0.4750 - acc: 0.7778 - val_loss: 0.4771 - val_acc: 0.7805\n",
      "Epoch 23/30\n",
      "7143/7143 [==============================] - 4s 583us/step - loss: 0.4729 - acc: 0.7817 - val_loss: 0.4691 - val_acc: 0.7844\n",
      "Epoch 24/30\n",
      "7143/7143 [==============================] - 4s 533us/step - loss: 0.4704 - acc: 0.7830 - val_loss: 0.4663 - val_acc: 0.7889\n",
      "Epoch 25/30\n",
      "7143/7143 [==============================] - 3s 484us/step - loss: 0.4707 - acc: 0.7851 - val_loss: 0.4646 - val_acc: 0.7923\n",
      "Epoch 26/30\n",
      "7143/7143 [==============================] - 3s 479us/step - loss: 0.4679 - acc: 0.7873 - val_loss: 0.4638 - val_acc: 0.7900\n",
      "Epoch 27/30\n",
      "7143/7143 [==============================] - 4s 521us/step - loss: 0.4668 - acc: 0.7890 - val_loss: 0.4633 - val_acc: 0.7923\n",
      "Epoch 28/30\n",
      "7143/7143 [==============================] - 4s 565us/step - loss: 0.4721 - acc: 0.7840 - val_loss: 0.4618 - val_acc: 0.7906\n",
      "Epoch 29/30\n",
      "7143/7143 [==============================] - 5s 676us/step - loss: 0.4677 - acc: 0.7882 - val_loss: 0.4616 - val_acc: 0.7928\n",
      "Epoch 30/30\n",
      "7143/7143 [==============================] - 4s 618us/step - loss: 0.4658 - acc: 0.7878 - val_loss: 0.4605 - val_acc: 0.7934\n"
     ]
    }
   ],
   "source": [
    "train_history =model.fit(x=train_Features, \n",
    "                         y=train_Label, \n",
    "                         validation_split=0.2, \n",
    "                         epochs=30, \n",
    "                         batch_size=500,verbose=1,callbacks=[early_stopping])"
   ]
  },
  {
   "cell_type": "code",
   "execution_count": 80,
   "metadata": {
    "collapsed": true
   },
   "outputs": [],
   "source": [
    "import matplotlib.pyplot as plt\n",
    "def show_train_history(train_history,train,validation):\n",
    "    plt.plot(train_history.history[train])\n",
    "    plt.plot(train_history.history[validation])\n",
    "    plt.title('Train History')\n",
    "    plt.ylabel(train)\n",
    "    plt.xlabel('Epoch')\n",
    "    plt.legend(['train', 'validation'], loc='upper left')\n",
    "    plt.show()"
   ]
  },
  {
   "cell_type": "code",
   "execution_count": 81,
   "metadata": {
    "collapsed": false
   },
   "outputs": [
    {
     "data": {
      "image/png": "[encoded data removed]",
      "text/plain": [
       "<matplotlib.figure.Figure at 0x7f57e9e98048>"
      ]
     },
     "metadata": {},
     "output_type": "display_data"
    }
   ],
   "source": [
    "show_train_history(train_history,'acc','val_acc')"
   ]
  },
  {
   "cell_type": "code",
   "execution_count": 82,
   "metadata": {
    "collapsed": false
   },
   "outputs": [
    {
     "data": {
      "image/png": "[encoded data removed]",
      "text/plain": [
       "<matplotlib.figure.Figure at 0x7f57e9e18be0>"
      ]
     },
     "metadata": {},
     "output_type": "display_data"
    }
   ],
   "source": [
    "show_train_history(train_history,'loss','val_loss')"
   ]
  },
  {
   "cell_type": "code",
   "execution_count": 83,
   "metadata": {
    "collapsed": false
   },
   "outputs": [
    {
     "name": "stdout",
     "output_type": "stream",
     "text": [
      "2233/2233 [==============================] - 1s 476us/step\n"
     ]
    }
   ],
   "source": [
    "scores = model.evaluate(x=test_Features, \n",
    "                        y=test_Label)"
   ]
  },
  {
   "cell_type": "code",
   "execution_count": 84,
   "metadata": {
    "collapsed": false
   },
   "outputs": [
    {
     "data": {
      "text/plain": [
       "0.7868338556926026"
      ]
     },
     "execution_count": 84,
     "metadata": {},
     "output_type": "execute_result"
    }
   ],
   "source": [
    "scores[1]"
   ]
  }
 ],
 "metadata": {
  "anaconda-cloud": {},
  "kernelspec": {
   "display_name": "Python [default]",
   "language": "python",
   "name": "python3"
  },
  "language_info": {
   "codemirror_mode": {
    "name": "ipython",
    "version": 3
   },
   "file_extension": ".py",
   "mimetype": "text/x-python",
   "name": "python",
   "nbconvert_exporter": "python",
   "pygments_lexer": "ipython3",
   "version": "3.5.2"
  }
 },
 "nbformat": 4,
 "nbformat_minor": 1
}
