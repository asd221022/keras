{
 "cells": [
  {
   "cell_type": "code",
   "execution_count": 1,
   "metadata": {
    "collapsed": false
   },
   "outputs": [],
   "source": [
    "import numpy \n",
    "import pandas as pd\n",
    "from sklearn.preprocessing import StandardScaler\n",
    "from sklearn.model_selection import train_test_split\n",
    "numpy.random.seed(10)"
   ]
  },
  {
   "cell_type": "code",
   "execution_count": 2,
   "metadata": {
    "collapsed": false
   },
   "outputs": [],
   "source": [
    "all_df = pd.read_csv(\"bank.csv\")"
   ]
  },
  {
   "cell_type": "code",
   "execution_count": 3,
   "metadata": {
    "collapsed": true
   },
   "outputs": [],
   "source": [
    "cols=['age','balance' ,'day', 'duration',\n",
    "       'campaign','pdays','previous','deposit']\n",
    "all_df=all_df[cols]"
   ]
  },
  {
   "cell_type": "code",
   "execution_count": 4,
   "metadata": {
    "collapsed": false
   },
   "outputs": [],
   "source": [
    "all_df['deposit']= all_df['deposit'].map({'no':0, 'yes': 1}).astype(int)"
   ]
  },
  {
   "cell_type": "code",
   "execution_count": 5,
   "metadata": {
    "collapsed": true
   },
   "outputs": [],
   "source": [
    "X=all_df.drop(['deposit'], axis=1).values.astype('float64')"
   ]
  },
  {
   "cell_type": "code",
   "execution_count": 6,
   "metadata": {
    "collapsed": true
   },
   "outputs": [],
   "source": [
    "Y = all_df['deposit'].values.astype('int64')"
   ]
  },
  {
   "cell_type": "code",
   "execution_count": 7,
   "metadata": {
    "collapsed": false
   },
   "outputs": [
    {
     "data": {
      "text/plain": [
       "8929"
      ]
     },
     "execution_count": 7,
     "metadata": {},
     "output_type": "execute_result"
    }
   ],
   "source": [
    "X = StandardScaler().fit_transform(X)\n",
    "train_Features, test_Features, train_Label, test_Label = train_test_split(X, Y, test_size=0.2, random_state=True) \n",
    "len(train_Features)"
   ]
  },
  {
   "cell_type": "code",
   "execution_count": 8,
   "metadata": {
    "collapsed": false
   },
   "outputs": [
    {
     "data": {
      "text/plain": [
       "array([[-0.85890111, -0.3021573 , -1.26574556, -0.8008745 , -0.55416834,\n",
       "        -0.48118405, -0.36325984],\n",
       "       [ 0.14841574, -0.31455937,  0.51565047, -0.97372895, -0.18678537,\n",
       "        -0.48118405, -0.36325984]])"
      ]
     },
     "execution_count": 8,
     "metadata": {},
     "output_type": "execute_result"
    }
   ],
   "source": [
    "test_Features[:2]"
   ]
  },
  {
   "cell_type": "code",
   "execution_count": 9,
   "metadata": {
    "collapsed": false
   },
   "outputs": [
    {
     "data": {
      "text/plain": [
       "array([0, 1, 0, 1])"
      ]
     },
     "execution_count": 9,
     "metadata": {},
     "output_type": "execute_result"
    }
   ],
   "source": [
    "train_Label[:4]"
   ]
  },
  {
   "cell_type": "code",
   "execution_count": 10,
   "metadata": {
    "collapsed": false
   },
   "outputs": [
    {
     "data": {
      "text/plain": [
       "(8929, 7)"
      ]
     },
     "execution_count": 10,
     "metadata": {},
     "output_type": "execute_result"
    }
   ],
   "source": [
    "train_Features.shape"
   ]
  },
  {
   "cell_type": "code",
   "execution_count": 11,
   "metadata": {
    "collapsed": false
   },
   "outputs": [
    {
     "data": {
      "text/plain": [
       "array([0, 0, 0, 1])"
      ]
     },
     "execution_count": 11,
     "metadata": {},
     "output_type": "execute_result"
    }
   ],
   "source": [
    "test_Label[:4]"
   ]
  },
  {
   "cell_type": "code",
   "execution_count": 12,
   "metadata": {
    "collapsed": true
   },
   "outputs": [],
   "source": [
    "train_Features = train_Features.reshape((train_Features.shape[0], train_Features.shape[1], 1))"
   ]
  },
  {
   "cell_type": "code",
   "execution_count": 13,
   "metadata": {
    "collapsed": true
   },
   "outputs": [],
   "source": [
    "test_Features = test_Features.reshape((test_Features.shape[0], test_Features.shape[1], 1))"
   ]
  },
  {
   "cell_type": "code",
   "execution_count": 14,
   "metadata": {
    "collapsed": false
   },
   "outputs": [
    {
     "name": "stderr",
     "output_type": "stream",
     "text": [
      "Using TensorFlow backend.\n"
     ]
    }
   ],
   "source": [
    "from keras.models import Sequential\n",
    "from keras.layers import Dense,Dropout,Flatten,Conv1D,MaxPooling1D\n",
    "from keras.layers.embeddings import Embedding\n",
    "from keras.callbacks import EarlyStopping\n",
    "early_stopping = EarlyStopping(monitor='val_loss', patience=2)"
   ]
  },
  {
   "cell_type": "code",
   "execution_count": 15,
   "metadata": {
    "collapsed": false
   },
   "outputs": [],
   "source": [
    "model = Sequential()"
   ]
  },
  {
   "cell_type": "code",
   "execution_count": 16,
   "metadata": {
    "collapsed": true
   },
   "outputs": [],
   "source": [
    "model.add(Conv1D(filters=7*3,\n",
    "                 kernel_size=3,\n",
    "                 padding='valid',\n",
    "                 input_shape=(7,1), \n",
    "                 activation='relu'))"
   ]
  },
  {
   "cell_type": "code",
   "execution_count": 17,
   "metadata": {
    "collapsed": true
   },
   "outputs": [],
   "source": [
    "model.add(MaxPooling1D(pool_size=1))"
   ]
  },
  {
   "cell_type": "code",
   "execution_count": 18,
   "metadata": {
    "collapsed": true
   },
   "outputs": [],
   "source": [
    "model.add(Conv1D(filters=7*2,\n",
    "                 kernel_size=3,\n",
    "                 padding='valid',                  \n",
    "                 activation='relu'))"
   ]
  },
  {
   "cell_type": "code",
   "execution_count": 19,
   "metadata": {
    "collapsed": true
   },
   "outputs": [],
   "source": [
    "model.add(MaxPooling1D(pool_size=1))"
   ]
  },
  {
   "cell_type": "code",
   "execution_count": 20,
   "metadata": {
    "collapsed": false
   },
   "outputs": [],
   "source": [
    "model.add(Conv1D(filters=7,\n",
    "                 kernel_size=3,\n",
    "                 padding='valid',                 \n",
    "                 activation='relu'))"
   ]
  },
  {
   "cell_type": "code",
   "execution_count": 21,
   "metadata": {
    "collapsed": true
   },
   "outputs": [],
   "source": [
    "model.add(MaxPooling1D(pool_size=1))"
   ]
  },
  {
   "cell_type": "code",
   "execution_count": 22,
   "metadata": {
    "collapsed": true
   },
   "outputs": [],
   "source": [
    "model.add(Flatten())"
   ]
  },
  {
   "cell_type": "code",
   "execution_count": 23,
   "metadata": {
    "collapsed": true
   },
   "outputs": [],
   "source": [
    "model.add(Dense(7, activation='tanh'))"
   ]
  },
  {
   "cell_type": "code",
   "execution_count": 24,
   "metadata": {
    "collapsed": true
   },
   "outputs": [],
   "source": [
    "model.add(Dense(1,activation='sigmoid'))"
   ]
  },
  {
   "cell_type": "code",
   "execution_count": 25,
   "metadata": {
    "collapsed": false
   },
   "outputs": [
    {
     "name": "stdout",
     "output_type": "stream",
     "text": [
      "_________________________________________________________________\n",
      "Layer (type)                 Output Shape              Param #   \n",
      "=================================================================\n",
      "conv1d_1 (Conv1D)            (None, 5, 21)             84        \n",
      "_________________________________________________________________\n",
      "max_pooling1d_1 (MaxPooling1 (None, 5, 21)             0         \n",
      "_________________________________________________________________\n",
      "conv1d_2 (Conv1D)            (None, 3, 14)             896       \n",
      "_________________________________________________________________\n",
      "max_pooling1d_2 (MaxPooling1 (None, 3, 14)             0         \n",
      "_________________________________________________________________\n",
      "conv1d_3 (Conv1D)            (None, 1, 7)              301       \n",
      "_________________________________________________________________\n",
      "max_pooling1d_3 (MaxPooling1 (None, 1, 7)              0         \n",
      "_________________________________________________________________\n",
      "flatten_1 (Flatten)          (None, 7)                 0         \n",
      "_________________________________________________________________\n",
      "dense_1 (Dense)              (None, 7)                 56        \n",
      "_________________________________________________________________\n",
      "dense_2 (Dense)              (None, 1)                 8         \n",
      "=================================================================\n",
      "Total params: 1,345\n",
      "Trainable params: 1,345\n",
      "Non-trainable params: 0\n",
      "_________________________________________________________________\n"
     ]
    }
   ],
   "source": [
    "model.summary()"
   ]
  },
  {
   "cell_type": "code",
   "execution_count": 26,
   "metadata": {
    "collapsed": false
   },
   "outputs": [],
   "source": [
    "model.compile(loss='binary_crossentropy', \n",
    "              optimizer='adam', metrics=['accuracy'])"
   ]
  },
  {
   "cell_type": "code",
   "execution_count": 27,
   "metadata": {
    "collapsed": false
   },
   "outputs": [
    {
     "name": "stdout",
     "output_type": "stream",
     "text": [
      "Train on 7143 samples, validate on 1786 samples\n",
      "Epoch 1/30\n",
      "7143/7143 [==============================] - 3s 361us/step - loss: 0.6922 - acc: 0.5292 - val_loss: 0.6859 - val_acc: 0.6288\n",
      "Epoch 2/30\n",
      "7143/7143 [==============================] - 0s 31us/step - loss: 0.6783 - acc: 0.6774 - val_loss: 0.6674 - val_acc: 0.7072\n",
      "Epoch 3/30\n",
      "7143/7143 [==============================] - 0s 31us/step - loss: 0.6530 - acc: 0.7255 - val_loss: 0.6353 - val_acc: 0.7329\n",
      "Epoch 4/30\n",
      "7143/7143 [==============================] - 0s 31us/step - loss: 0.6149 - acc: 0.7375 - val_loss: 0.5952 - val_acc: 0.7424\n",
      "Epoch 5/30\n",
      "7143/7143 [==============================] - 0s 31us/step - loss: 0.5752 - acc: 0.7410 - val_loss: 0.5595 - val_acc: 0.7520\n",
      "Epoch 6/30\n",
      "7143/7143 [==============================] - 0s 33us/step - loss: 0.5454 - acc: 0.7472 - val_loss: 0.5348 - val_acc: 0.7525\n",
      "Epoch 7/30\n",
      "7143/7143 [==============================] - 0s 32us/step - loss: 0.5261 - acc: 0.7521 - val_loss: 0.5190 - val_acc: 0.7559\n",
      "Epoch 8/30\n",
      "7143/7143 [==============================] - 0s 33us/step - loss: 0.5156 - acc: 0.7551 - val_loss: 0.5099 - val_acc: 0.7637\n",
      "Epoch 9/30\n",
      "7143/7143 [==============================] - 0s 31us/step - loss: 0.5090 - acc: 0.7603 - val_loss: 0.5042 - val_acc: 0.7688\n",
      "Epoch 10/30\n",
      "7143/7143 [==============================] - 0s 32us/step - loss: 0.5044 - acc: 0.7633 - val_loss: 0.5001 - val_acc: 0.7693\n",
      "Epoch 11/30\n",
      "7143/7143 [==============================] - 0s 33us/step - loss: 0.5002 - acc: 0.7679 - val_loss: 0.4950 - val_acc: 0.7721\n",
      "Epoch 12/30\n",
      "7143/7143 [==============================] - 0s 33us/step - loss: 0.4963 - acc: 0.7690 - val_loss: 0.4918 - val_acc: 0.7760\n",
      "Epoch 13/30\n",
      "7143/7143 [==============================] - 0s 32us/step - loss: 0.4932 - acc: 0.7726 - val_loss: 0.4886 - val_acc: 0.7732\n",
      "Epoch 14/30\n",
      "7143/7143 [==============================] - 0s 31us/step - loss: 0.4914 - acc: 0.7740 - val_loss: 0.4865 - val_acc: 0.7800\n",
      "Epoch 15/30\n",
      "7143/7143 [==============================] - 0s 48us/step - loss: 0.4885 - acc: 0.7764 - val_loss: 0.4839 - val_acc: 0.7828\n",
      "Epoch 16/30\n",
      "7143/7143 [==============================] - 1s 105us/step - loss: 0.4849 - acc: 0.7787 - val_loss: 0.4815 - val_acc: 0.7816\n",
      "Epoch 17/30\n",
      "7143/7143 [==============================] - 1s 81us/step - loss: 0.4829 - acc: 0.7813 - val_loss: 0.4773 - val_acc: 0.7828\n",
      "Epoch 18/30\n",
      "7143/7143 [==============================] - 1s 77us/step - loss: 0.4800 - acc: 0.7848 - val_loss: 0.4758 - val_acc: 0.7867\n",
      "Epoch 19/30\n",
      "7143/7143 [==============================] - 1s 98us/step - loss: 0.4783 - acc: 0.7847 - val_loss: 0.4731 - val_acc: 0.7884\n",
      "Epoch 20/30\n",
      "7143/7143 [==============================] - 1s 92us/step - loss: 0.4760 - acc: 0.7834 - val_loss: 0.4705 - val_acc: 0.7895\n",
      "Epoch 21/30\n",
      "7143/7143 [==============================] - 0s 66us/step - loss: 0.4748 - acc: 0.7859 - val_loss: 0.4700 - val_acc: 0.7878\n",
      "Epoch 22/30\n",
      "7143/7143 [==============================] - 1s 92us/step - loss: 0.4730 - acc: 0.7873 - val_loss: 0.4672 - val_acc: 0.7923\n",
      "Epoch 23/30\n",
      "7143/7143 [==============================] - 1s 84us/step - loss: 0.4718 - acc: 0.7886 - val_loss: 0.4656 - val_acc: 0.7951\n",
      "Epoch 24/30\n",
      "7143/7143 [==============================] - 1s 89us/step - loss: 0.4698 - acc: 0.7896 - val_loss: 0.4667 - val_acc: 0.7884\n",
      "Epoch 25/30\n",
      "7143/7143 [==============================] - 1s 84us/step - loss: 0.4697 - acc: 0.7879 - val_loss: 0.4618 - val_acc: 0.7940\n",
      "Epoch 26/30\n",
      "7143/7143 [==============================] - 1s 86us/step - loss: 0.4676 - acc: 0.7900 - val_loss: 0.4620 - val_acc: 0.7962\n",
      "Epoch 27/30\n",
      "7143/7143 [==============================] - 0s 70us/step - loss: 0.4666 - acc: 0.7892 - val_loss: 0.4599 - val_acc: 0.7973\n",
      "Epoch 28/30\n",
      "7143/7143 [==============================] - 0s 49us/step - loss: 0.4651 - acc: 0.7890 - val_loss: 0.4594 - val_acc: 0.7928\n",
      "Epoch 29/30\n",
      "7143/7143 [==============================] - 0s 53us/step - loss: 0.4635 - acc: 0.7911 - val_loss: 0.4589 - val_acc: 0.7962\n",
      "Epoch 30/30\n",
      "7143/7143 [==============================] - 1s 88us/step - loss: 0.4637 - acc: 0.7922 - val_loss: 0.4597 - val_acc: 0.7872\n"
     ]
    }
   ],
   "source": [
    "train_history =model.fit(x=train_Features, \n",
    "                         y=train_Label, \n",
    "                         validation_split=0.2, \n",
    "                         epochs=30, \n",
    "                         batch_size=500,verbose=1,callbacks=[early_stopping])"
   ]
  },
  {
   "cell_type": "code",
   "execution_count": 28,
   "metadata": {
    "collapsed": true
   },
   "outputs": [],
   "source": [
    "import matplotlib.pyplot as plt\n",
    "def show_train_history(train_history,train,validation):\n",
    "    plt.plot(train_history.history[train])\n",
    "    plt.plot(train_history.history[validation])\n",
    "    plt.title('Train History')\n",
    "    plt.ylabel(train)\n",
    "    plt.xlabel('Epoch')\n",
    "    plt.legend(['train', 'validation'], loc='upper left')\n",
    "    plt.show()"
   ]
  },
  {
   "cell_type": "code",
   "execution_count": 29,
   "metadata": {
    "collapsed": false
   },
   "outputs": [
    {
     "data": {
      "image/png": "[encoded data removed]",
      "text/plain": [
       "<matplotlib.figure.Figure at 0x7ffafed4ccc0>"
      ]
     },
     "metadata": {},
     "output_type": "display_data"
    }
   ],
   "source": [
    "show_train_history(train_history,'acc','val_acc')"
   ]
  },
  {
   "cell_type": "code",
   "execution_count": 30,
   "metadata": {
    "collapsed": false
   },
   "outputs": [
    {
     "data": {
      "image/png": "[encoded data removed]",
      "text/plain": [
       "<matplotlib.figure.Figure at 0x7ffafc871fd0>"
      ]
     },
     "metadata": {},
     "output_type": "display_data"
    }
   ],
   "source": [
    "show_train_history(train_history,'loss','val_loss')"
   ]
  },
  {
   "cell_type": "code",
   "execution_count": 31,
   "metadata": {
    "collapsed": false
   },
   "outputs": [
    {
     "name": "stdout",
     "output_type": "stream",
     "text": [
      "2233/2233 [==============================] - 0s 119us/step\n"
     ]
    }
   ],
   "source": [
    "scores = model.evaluate(x=test_Features, \n",
    "                        y=test_Label)"
   ]
  },
  {
   "cell_type": "code",
   "execution_count": 32,
   "metadata": {
    "collapsed": false
   },
   "outputs": [
    {
     "data": {
      "text/plain": [
       "0.7908643079989169"
      ]
     },
     "execution_count": 32,
     "metadata": {},
     "output_type": "execute_result"
    }
   ],
   "source": [
    "scores[1]"
   ]
  }
 ],
 "metadata": {
  "anaconda-cloud": {},
  "kernelspec": {
   "display_name": "Python [default]",
   "language": "python",
   "name": "python3"
  },
  "language_info": {
   "codemirror_mode": {
    "name": "ipython",
    "version": 3
   },
   "file_extension": ".py",
   "mimetype": "text/x-python",
   "name": "python",
   "nbconvert_exporter": "python",
   "pygments_lexer": "ipython3",
   "version": "3.5.2"
  }
 },
 "nbformat": 4,
 "nbformat_minor": 1
}
