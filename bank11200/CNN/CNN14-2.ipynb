{
 "cells": [
  {
   "cell_type": "code",
   "execution_count": 1,
   "metadata": {
    "collapsed": false
   },
   "outputs": [],
   "source": [
    "import numpy \n",
    "import pandas as pd\n",
    "from sklearn.preprocessing import StandardScaler\n",
    "from sklearn.model_selection import train_test_split\n",
    "numpy.random.seed(10)"
   ]
  },
  {
   "cell_type": "code",
   "execution_count": 2,
   "metadata": {
    "collapsed": false
   },
   "outputs": [],
   "source": [
    "all_df = pd.read_csv(\"bank.csv\")"
   ]
  },
  {
   "cell_type": "code",
   "execution_count": 3,
   "metadata": {
    "collapsed": true
   },
   "outputs": [],
   "source": [
    "cols=['age','balance' ,'day', 'duration',\n",
    "       'campaign','pdays','previous','deposit']\n",
    "all_df=all_df[cols]"
   ]
  },
  {
   "cell_type": "code",
   "execution_count": 4,
   "metadata": {
    "collapsed": false
   },
   "outputs": [],
   "source": [
    "all_df['deposit']= all_df['deposit'].map({'no':0, 'yes': 1}).astype(int)"
   ]
  },
  {
   "cell_type": "code",
   "execution_count": 5,
   "metadata": {
    "collapsed": true
   },
   "outputs": [],
   "source": [
    "X=all_df.drop(['deposit'], axis=1).values.astype('float64')"
   ]
  },
  {
   "cell_type": "code",
   "execution_count": 6,
   "metadata": {
    "collapsed": true
   },
   "outputs": [],
   "source": [
    "Y = all_df['deposit'].values.astype('int64')"
   ]
  },
  {
   "cell_type": "code",
   "execution_count": 7,
   "metadata": {
    "collapsed": false
   },
   "outputs": [
    {
     "data": {
      "text/plain": [
       "8929"
      ]
     },
     "execution_count": 7,
     "metadata": {},
     "output_type": "execute_result"
    }
   ],
   "source": [
    "X = StandardScaler().fit_transform(X)\n",
    "train_Features, test_Features, train_Label, test_Label = train_test_split(X, Y, test_size=0.2, random_state=True) \n",
    "len(train_Features)"
   ]
  },
  {
   "cell_type": "code",
   "execution_count": 8,
   "metadata": {
    "collapsed": false
   },
   "outputs": [
    {
     "data": {
      "text/plain": [
       "array([[-0.85890111, -0.3021573 , -1.26574556, -0.8008745 , -0.55416834,\n",
       "        -0.48118405, -0.36325984],\n",
       "       [ 0.14841574, -0.31455937,  0.51565047, -0.97372895, -0.18678537,\n",
       "        -0.48118405, -0.36325984]])"
      ]
     },
     "execution_count": 8,
     "metadata": {},
     "output_type": "execute_result"
    }
   ],
   "source": [
    "test_Features[:2]"
   ]
  },
  {
   "cell_type": "code",
   "execution_count": 9,
   "metadata": {
    "collapsed": false
   },
   "outputs": [
    {
     "data": {
      "text/plain": [
       "array([0, 1, 0, 1])"
      ]
     },
     "execution_count": 9,
     "metadata": {},
     "output_type": "execute_result"
    }
   ],
   "source": [
    "train_Label[:4]"
   ]
  },
  {
   "cell_type": "code",
   "execution_count": 10,
   "metadata": {
    "collapsed": false
   },
   "outputs": [
    {
     "data": {
      "text/plain": [
       "(8929, 7)"
      ]
     },
     "execution_count": 10,
     "metadata": {},
     "output_type": "execute_result"
    }
   ],
   "source": [
    "train_Features.shape"
   ]
  },
  {
   "cell_type": "code",
   "execution_count": 11,
   "metadata": {
    "collapsed": false
   },
   "outputs": [
    {
     "data": {
      "text/plain": [
       "array([0, 0, 0, 1])"
      ]
     },
     "execution_count": 11,
     "metadata": {},
     "output_type": "execute_result"
    }
   ],
   "source": [
    "test_Label[:4]"
   ]
  },
  {
   "cell_type": "code",
   "execution_count": 12,
   "metadata": {
    "collapsed": true
   },
   "outputs": [],
   "source": [
    "train_Features = train_Features.reshape((train_Features.shape[0], train_Features.shape[1], 1))"
   ]
  },
  {
   "cell_type": "code",
   "execution_count": 13,
   "metadata": {
    "collapsed": true
   },
   "outputs": [],
   "source": [
    "test_Features = test_Features.reshape((test_Features.shape[0], test_Features.shape[1], 1))"
   ]
  },
  {
   "cell_type": "code",
   "execution_count": 14,
   "metadata": {
    "collapsed": false
   },
   "outputs": [
    {
     "name": "stderr",
     "output_type": "stream",
     "text": [
      "Using TensorFlow backend.\n"
     ]
    }
   ],
   "source": [
    "from keras.models import Sequential\n",
    "from keras.layers import Dense,Dropout,Flatten,Conv1D,MaxPooling1D\n",
    "from keras.layers.embeddings import Embedding\n",
    "from keras.callbacks import EarlyStopping\n",
    "early_stopping = EarlyStopping(monitor='val_loss', patience=2)"
   ]
  },
  {
   "cell_type": "code",
   "execution_count": 15,
   "metadata": {
    "collapsed": true
   },
   "outputs": [],
   "source": [
    "model = Sequential()"
   ]
  },
  {
   "cell_type": "code",
   "execution_count": 16,
   "metadata": {
    "collapsed": true
   },
   "outputs": [],
   "source": [
    "model.add(Conv1D(filters=14*2,\n",
    "                 kernel_size=3,\n",
    "                 padding='valid',\n",
    "                 input_shape=(7,1), \n",
    "                 activation='relu'))"
   ]
  },
  {
   "cell_type": "code",
   "execution_count": 17,
   "metadata": {
    "collapsed": true
   },
   "outputs": [],
   "source": [
    "model.add(MaxPooling1D(pool_size=1))"
   ]
  },
  {
   "cell_type": "code",
   "execution_count": 18,
   "metadata": {
    "collapsed": false
   },
   "outputs": [],
   "source": [
    "model.add(Conv1D(filters=14,\n",
    "                 kernel_size=3,\n",
    "                 padding='valid',              \n",
    "                 activation='relu'))"
   ]
  },
  {
   "cell_type": "code",
   "execution_count": 19,
   "metadata": {
    "collapsed": true
   },
   "outputs": [],
   "source": [
    "model.add(MaxPooling1D(pool_size=1))"
   ]
  },
  {
   "cell_type": "code",
   "execution_count": 20,
   "metadata": {
    "collapsed": true
   },
   "outputs": [],
   "source": [
    "model.add(Flatten())"
   ]
  },
  {
   "cell_type": "code",
   "execution_count": 21,
   "metadata": {
    "collapsed": true
   },
   "outputs": [],
   "source": [
    "model.add(Dense(7, activation='tanh'))"
   ]
  },
  {
   "cell_type": "code",
   "execution_count": 22,
   "metadata": {
    "collapsed": true
   },
   "outputs": [],
   "source": [
    "model.add(Dense(1,activation='sigmoid'))"
   ]
  },
  {
   "cell_type": "code",
   "execution_count": 23,
   "metadata": {
    "collapsed": false
   },
   "outputs": [
    {
     "name": "stdout",
     "output_type": "stream",
     "text": [
      "_________________________________________________________________\n",
      "Layer (type)                 Output Shape              Param #   \n",
      "=================================================================\n",
      "conv1d_1 (Conv1D)            (None, 5, 28)             112       \n",
      "_________________________________________________________________\n",
      "max_pooling1d_1 (MaxPooling1 (None, 5, 28)             0         \n",
      "_________________________________________________________________\n",
      "conv1d_2 (Conv1D)            (None, 3, 14)             1190      \n",
      "_________________________________________________________________\n",
      "max_pooling1d_2 (MaxPooling1 (None, 3, 14)             0         \n",
      "_________________________________________________________________\n",
      "flatten_1 (Flatten)          (None, 42)                0         \n",
      "_________________________________________________________________\n",
      "dense_1 (Dense)              (None, 7)                 301       \n",
      "_________________________________________________________________\n",
      "dense_2 (Dense)              (None, 1)                 8         \n",
      "=================================================================\n",
      "Total params: 1,611\n",
      "Trainable params: 1,611\n",
      "Non-trainable params: 0\n",
      "_________________________________________________________________\n"
     ]
    }
   ],
   "source": [
    "model.summary()"
   ]
  },
  {
   "cell_type": "code",
   "execution_count": 24,
   "metadata": {
    "collapsed": false
   },
   "outputs": [],
   "source": [
    "model.compile(loss='binary_crossentropy', \n",
    "              optimizer='adam', metrics=['accuracy'])"
   ]
  },
  {
   "cell_type": "code",
   "execution_count": 25,
   "metadata": {
    "collapsed": false
   },
   "outputs": [
    {
     "name": "stdout",
     "output_type": "stream",
     "text": [
      "Train on 7143 samples, validate on 1786 samples\n",
      "Epoch 1/30\n",
      "7143/7143 [==============================] - 1s 207us/step - loss: 0.6887 - acc: 0.5360 - val_loss: 0.6527 - val_acc: 0.6803\n",
      "Epoch 2/30\n",
      "7143/7143 [==============================] - 0s 61us/step - loss: 0.6295 - acc: 0.6963 - val_loss: 0.5999 - val_acc: 0.6960\n",
      "Epoch 3/30\n",
      "7143/7143 [==============================] - 0s 57us/step - loss: 0.5812 - acc: 0.7175 - val_loss: 0.5605 - val_acc: 0.7200\n",
      "Epoch 4/30\n",
      "7143/7143 [==============================] - 0s 63us/step - loss: 0.5458 - acc: 0.7372 - val_loss: 0.5354 - val_acc: 0.7464\n",
      "Epoch 5/30\n",
      "7143/7143 [==============================] - 0s 50us/step - loss: 0.5233 - acc: 0.7521 - val_loss: 0.5183 - val_acc: 0.7559\n",
      "Epoch 6/30\n",
      "7143/7143 [==============================] - 0s 69us/step - loss: 0.5099 - acc: 0.7578 - val_loss: 0.5076 - val_acc: 0.7615\n",
      "Epoch 7/30\n",
      "7143/7143 [==============================] - 0s 63us/step - loss: 0.5019 - acc: 0.7659 - val_loss: 0.4998 - val_acc: 0.7688\n",
      "Epoch 8/30\n",
      "7143/7143 [==============================] - 0s 55us/step - loss: 0.4957 - acc: 0.7693 - val_loss: 0.4933 - val_acc: 0.7721\n",
      "Epoch 9/30\n",
      "7143/7143 [==============================] - 0s 66us/step - loss: 0.4910 - acc: 0.7711 - val_loss: 0.4887 - val_acc: 0.7794\n",
      "Epoch 10/30\n",
      "7143/7143 [==============================] - 0s 62us/step - loss: 0.4872 - acc: 0.7760 - val_loss: 0.4834 - val_acc: 0.7783\n",
      "Epoch 11/30\n",
      "7143/7143 [==============================] - 0s 57us/step - loss: 0.4829 - acc: 0.7780 - val_loss: 0.4795 - val_acc: 0.7856\n",
      "Epoch 12/30\n",
      "7143/7143 [==============================] - 0s 67us/step - loss: 0.4794 - acc: 0.7795 - val_loss: 0.4752 - val_acc: 0.7811\n",
      "Epoch 13/30\n",
      "7143/7143 [==============================] - 0s 59us/step - loss: 0.4757 - acc: 0.7831 - val_loss: 0.4723 - val_acc: 0.7850\n",
      "Epoch 14/30\n",
      "7143/7143 [==============================] - 0s 63us/step - loss: 0.4731 - acc: 0.7845 - val_loss: 0.4690 - val_acc: 0.7867\n",
      "Epoch 15/30\n",
      "7143/7143 [==============================] - 0s 57us/step - loss: 0.4711 - acc: 0.7834 - val_loss: 0.4663 - val_acc: 0.7833\n",
      "Epoch 16/30\n",
      "7143/7143 [==============================] - 0s 55us/step - loss: 0.4701 - acc: 0.7859 - val_loss: 0.4670 - val_acc: 0.7794\n",
      "Epoch 17/30\n",
      "7143/7143 [==============================] - 1s 72us/step - loss: 0.4681 - acc: 0.7859 - val_loss: 0.4658 - val_acc: 0.7861\n",
      "Epoch 18/30\n",
      "7143/7143 [==============================] - 1s 72us/step - loss: 0.4672 - acc: 0.7841 - val_loss: 0.4623 - val_acc: 0.7872\n",
      "Epoch 19/30\n",
      "7143/7143 [==============================] - 0s 56us/step - loss: 0.4660 - acc: 0.7861 - val_loss: 0.4620 - val_acc: 0.7872\n",
      "Epoch 20/30\n",
      "7143/7143 [==============================] - 0s 62us/step - loss: 0.4651 - acc: 0.7872 - val_loss: 0.4616 - val_acc: 0.7895\n",
      "Epoch 21/30\n",
      "7143/7143 [==============================] - 0s 70us/step - loss: 0.4649 - acc: 0.7871 - val_loss: 0.4603 - val_acc: 0.7906\n",
      "Epoch 22/30\n",
      "7143/7143 [==============================] - 0s 55us/step - loss: 0.4639 - acc: 0.7872 - val_loss: 0.4601 - val_acc: 0.7867\n",
      "Epoch 23/30\n",
      "7143/7143 [==============================] - 0s 55us/step - loss: 0.4630 - acc: 0.7869 - val_loss: 0.4595 - val_acc: 0.7878\n",
      "Epoch 24/30\n",
      "7143/7143 [==============================] - 1s 73us/step - loss: 0.4624 - acc: 0.7899 - val_loss: 0.4585 - val_acc: 0.7889\n",
      "Epoch 25/30\n",
      "7143/7143 [==============================] - 0s 64us/step - loss: 0.4623 - acc: 0.7887 - val_loss: 0.4573 - val_acc: 0.7923\n",
      "Epoch 26/30\n",
      "7143/7143 [==============================] - 0s 65us/step - loss: 0.4611 - acc: 0.7883 - val_loss: 0.4571 - val_acc: 0.7923\n",
      "Epoch 27/30\n",
      "7143/7143 [==============================] - 0s 55us/step - loss: 0.4609 - acc: 0.7894 - val_loss: 0.4570 - val_acc: 0.7900\n",
      "Epoch 28/30\n",
      "7143/7143 [==============================] - 0s 64us/step - loss: 0.4601 - acc: 0.7875 - val_loss: 0.4571 - val_acc: 0.7878\n",
      "Epoch 29/30\n",
      "7143/7143 [==============================] - 0s 63us/step - loss: 0.4597 - acc: 0.7894 - val_loss: 0.4570 - val_acc: 0.7872\n"
     ]
    }
   ],
   "source": [
    "train_history =model.fit(x=train_Features, \n",
    "                         y=train_Label, \n",
    "                         validation_split=0.2, \n",
    "                         epochs=30, \n",
    "                         batch_size=500,verbose=1,callbacks=[early_stopping])"
   ]
  },
  {
   "cell_type": "code",
   "execution_count": 26,
   "metadata": {
    "collapsed": true
   },
   "outputs": [],
   "source": [
    "import matplotlib.pyplot as plt\n",
    "def show_train_history(train_history,train,validation):\n",
    "    plt.plot(train_history.history[train])\n",
    "    plt.plot(train_history.history[validation])\n",
    "    plt.title('Train History')\n",
    "    plt.ylabel(train)\n",
    "    plt.xlabel('Epoch')\n",
    "    plt.legend(['train', 'validation'], loc='upper left')\n",
    "    plt.show()"
   ]
  },
  {
   "cell_type": "code",
   "execution_count": 27,
   "metadata": {
    "collapsed": false
   },
   "outputs": [
    {
     "data": {
      "image/png": "[encoded data removed]",
      "text/plain": [
       "<matplotlib.figure.Figure at 0x7f91f81099b0>"
      ]
     },
     "metadata": {},
     "output_type": "display_data"
    }
   ],
   "source": [
    "show_train_history(train_history,'acc','val_acc')"
   ]
  },
  {
   "cell_type": "code",
   "execution_count": 28,
   "metadata": {
    "collapsed": false
   },
   "outputs": [
    {
     "data": {
      "image/png": "[encoded data removed]",
      "text/plain": [
       "<matplotlib.figure.Figure at 0x7f91fb8815c0>"
      ]
     },
     "metadata": {},
     "output_type": "display_data"
    }
   ],
   "source": [
    "show_train_history(train_history,'loss','val_loss')"
   ]
  },
  {
   "cell_type": "code",
   "execution_count": 29,
   "metadata": {
    "collapsed": false
   },
   "outputs": [
    {
     "name": "stdout",
     "output_type": "stream",
     "text": [
      "2233/2233 [==============================] - 0s 69us/step\n"
     ]
    }
   ],
   "source": [
    "scores = model.evaluate(x=test_Features, \n",
    "                        y=test_Label)"
   ]
  },
  {
   "cell_type": "code",
   "execution_count": 30,
   "metadata": {
    "collapsed": false
   },
   "outputs": [
    {
     "data": {
      "text/plain": [
       "0.7881773402217894"
      ]
     },
     "execution_count": 30,
     "metadata": {},
     "output_type": "execute_result"
    }
   ],
   "source": [
    "scores[1]"
   ]
  }
 ],
 "metadata": {
  "anaconda-cloud": {},
  "kernelspec": {
   "display_name": "Python [default]",
   "language": "python",
   "name": "python3"
  },
  "language_info": {
   "codemirror_mode": {
    "name": "ipython",
    "version": 3
   },
   "file_extension": ".py",
   "mimetype": "text/x-python",
   "name": "python",
   "nbconvert_exporter": "python",
   "pygments_lexer": "ipython3",
   "version": "3.5.2"
  }
 },
 "nbformat": 4,
 "nbformat_minor": 1
}
