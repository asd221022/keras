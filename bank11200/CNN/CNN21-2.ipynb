{
 "cells": [
  {
   "cell_type": "code",
   "execution_count": 1,
   "metadata": {
    "collapsed": false
   },
   "outputs": [],
   "source": [
    "import numpy \n",
    "import pandas as pd\n",
    "from sklearn.preprocessing import StandardScaler\n",
    "from sklearn.model_selection import train_test_split\n",
    "numpy.random.seed(10)"
   ]
  },
  {
   "cell_type": "code",
   "execution_count": 2,
   "metadata": {
    "collapsed": false
   },
   "outputs": [],
   "source": [
    "all_df = pd.read_csv(\"bank.csv\")"
   ]
  },
  {
   "cell_type": "code",
   "execution_count": 3,
   "metadata": {
    "collapsed": true
   },
   "outputs": [],
   "source": [
    "cols=['age','balance' ,'day', 'duration',\n",
    "       'campaign','pdays','previous','deposit']\n",
    "all_df=all_df[cols]"
   ]
  },
  {
   "cell_type": "code",
   "execution_count": 4,
   "metadata": {
    "collapsed": false
   },
   "outputs": [],
   "source": [
    "all_df['deposit']= all_df['deposit'].map({'no':0, 'yes': 1}).astype(int)"
   ]
  },
  {
   "cell_type": "code",
   "execution_count": 5,
   "metadata": {
    "collapsed": true
   },
   "outputs": [],
   "source": [
    "X=all_df.drop(['deposit'], axis=1).values.astype('float64')"
   ]
  },
  {
   "cell_type": "code",
   "execution_count": 6,
   "metadata": {
    "collapsed": true
   },
   "outputs": [],
   "source": [
    "Y = all_df['deposit'].values.astype('int64')"
   ]
  },
  {
   "cell_type": "code",
   "execution_count": 7,
   "metadata": {
    "collapsed": false
   },
   "outputs": [
    {
     "data": {
      "text/plain": [
       "8929"
      ]
     },
     "execution_count": 7,
     "metadata": {},
     "output_type": "execute_result"
    }
   ],
   "source": [
    "X = StandardScaler().fit_transform(X)\n",
    "train_Features, test_Features, train_Label, test_Label = train_test_split(X, Y, test_size=0.2, random_state=True) \n",
    "len(train_Features)"
   ]
  },
  {
   "cell_type": "code",
   "execution_count": 8,
   "metadata": {
    "collapsed": false
   },
   "outputs": [
    {
     "data": {
      "text/plain": [
       "array([[-0.85890111, -0.3021573 , -1.26574556, -0.8008745 , -0.55416834,\n",
       "        -0.48118405, -0.36325984],\n",
       "       [ 0.14841574, -0.31455937,  0.51565047, -0.97372895, -0.18678537,\n",
       "        -0.48118405, -0.36325984]])"
      ]
     },
     "execution_count": 8,
     "metadata": {},
     "output_type": "execute_result"
    }
   ],
   "source": [
    "test_Features[:2]"
   ]
  },
  {
   "cell_type": "code",
   "execution_count": 9,
   "metadata": {
    "collapsed": false
   },
   "outputs": [
    {
     "data": {
      "text/plain": [
       "array([0, 1, 0, 1])"
      ]
     },
     "execution_count": 9,
     "metadata": {},
     "output_type": "execute_result"
    }
   ],
   "source": [
    "train_Label[:4]"
   ]
  },
  {
   "cell_type": "code",
   "execution_count": 10,
   "metadata": {
    "collapsed": false
   },
   "outputs": [
    {
     "data": {
      "text/plain": [
       "(8929, 7)"
      ]
     },
     "execution_count": 10,
     "metadata": {},
     "output_type": "execute_result"
    }
   ],
   "source": [
    "train_Features.shape"
   ]
  },
  {
   "cell_type": "code",
   "execution_count": 11,
   "metadata": {
    "collapsed": false
   },
   "outputs": [
    {
     "data": {
      "text/plain": [
       "array([0, 0, 0, 1])"
      ]
     },
     "execution_count": 11,
     "metadata": {},
     "output_type": "execute_result"
    }
   ],
   "source": [
    "test_Label[:4]"
   ]
  },
  {
   "cell_type": "code",
   "execution_count": 12,
   "metadata": {
    "collapsed": true
   },
   "outputs": [],
   "source": [
    "train_Features = train_Features.reshape((train_Features.shape[0], train_Features.shape[1], 1))"
   ]
  },
  {
   "cell_type": "code",
   "execution_count": 13,
   "metadata": {
    "collapsed": true
   },
   "outputs": [],
   "source": [
    "test_Features = test_Features.reshape((test_Features.shape[0], test_Features.shape[1], 1))"
   ]
  },
  {
   "cell_type": "code",
   "execution_count": 14,
   "metadata": {
    "collapsed": false
   },
   "outputs": [
    {
     "name": "stderr",
     "output_type": "stream",
     "text": [
      "Using TensorFlow backend.\n"
     ]
    }
   ],
   "source": [
    "from keras.models import Sequential\n",
    "from keras.layers import Dense,Dropout,Flatten,Conv1D,MaxPooling1D\n",
    "from keras.layers.embeddings import Embedding\n",
    "from keras.callbacks import EarlyStopping\n",
    "early_stopping = EarlyStopping(monitor='val_loss', patience=2)"
   ]
  },
  {
   "cell_type": "code",
   "execution_count": 15,
   "metadata": {
    "collapsed": true
   },
   "outputs": [],
   "source": [
    "model = Sequential()"
   ]
  },
  {
   "cell_type": "code",
   "execution_count": 16,
   "metadata": {
    "collapsed": true
   },
   "outputs": [],
   "source": [
    "model.add(Conv1D(filters=21*2,\n",
    "                 kernel_size=3,\n",
    "                 padding='valid',\n",
    "                 input_shape=(7,1), \n",
    "                 activation='relu'))"
   ]
  },
  {
   "cell_type": "code",
   "execution_count": 17,
   "metadata": {
    "collapsed": true
   },
   "outputs": [],
   "source": [
    "model.add(MaxPooling1D(pool_size=1))"
   ]
  },
  {
   "cell_type": "code",
   "execution_count": 18,
   "metadata": {
    "collapsed": false
   },
   "outputs": [],
   "source": [
    "model.add(Conv1D(filters=21,\n",
    "                 kernel_size=3,\n",
    "                 padding='valid',              \n",
    "                 activation='relu'))"
   ]
  },
  {
   "cell_type": "code",
   "execution_count": 19,
   "metadata": {
    "collapsed": true
   },
   "outputs": [],
   "source": [
    "model.add(MaxPooling1D(pool_size=1))"
   ]
  },
  {
   "cell_type": "code",
   "execution_count": 20,
   "metadata": {
    "collapsed": true
   },
   "outputs": [],
   "source": [
    "model.add(Flatten())"
   ]
  },
  {
   "cell_type": "code",
   "execution_count": 21,
   "metadata": {
    "collapsed": true
   },
   "outputs": [],
   "source": [
    "model.add(Dense(7, activation='tanh'))"
   ]
  },
  {
   "cell_type": "code",
   "execution_count": 22,
   "metadata": {
    "collapsed": true
   },
   "outputs": [],
   "source": [
    "model.add(Dense(1,activation='sigmoid'))"
   ]
  },
  {
   "cell_type": "code",
   "execution_count": 23,
   "metadata": {
    "collapsed": false
   },
   "outputs": [
    {
     "name": "stdout",
     "output_type": "stream",
     "text": [
      "_________________________________________________________________\n",
      "Layer (type)                 Output Shape              Param #   \n",
      "=================================================================\n",
      "conv1d_1 (Conv1D)            (None, 5, 42)             168       \n",
      "_________________________________________________________________\n",
      "max_pooling1d_1 (MaxPooling1 (None, 5, 42)             0         \n",
      "_________________________________________________________________\n",
      "conv1d_2 (Conv1D)            (None, 3, 21)             2667      \n",
      "_________________________________________________________________\n",
      "max_pooling1d_2 (MaxPooling1 (None, 3, 21)             0         \n",
      "_________________________________________________________________\n",
      "flatten_1 (Flatten)          (None, 63)                0         \n",
      "_________________________________________________________________\n",
      "dense_1 (Dense)              (None, 7)                 448       \n",
      "_________________________________________________________________\n",
      "dense_2 (Dense)              (None, 1)                 8         \n",
      "=================================================================\n",
      "Total params: 3,291\n",
      "Trainable params: 3,291\n",
      "Non-trainable params: 0\n",
      "_________________________________________________________________\n"
     ]
    }
   ],
   "source": [
    "model.summary()"
   ]
  },
  {
   "cell_type": "code",
   "execution_count": 24,
   "metadata": {
    "collapsed": false
   },
   "outputs": [],
   "source": [
    "model.compile(loss='binary_crossentropy', \n",
    "              optimizer='adam', metrics=['accuracy'])"
   ]
  },
  {
   "cell_type": "code",
   "execution_count": 25,
   "metadata": {
    "collapsed": false
   },
   "outputs": [
    {
     "name": "stdout",
     "output_type": "stream",
     "text": [
      "Train on 7143 samples, validate on 1786 samples\n",
      "Epoch 1/30\n",
      "7143/7143 [==============================] - 3s 429us/step - loss: 0.6738 - acc: 0.6076 - val_loss: 0.6327 - val_acc: 0.7133\n",
      "Epoch 2/30\n",
      "7143/7143 [==============================] - 0s 67us/step - loss: 0.6076 - acc: 0.7222 - val_loss: 0.5757 - val_acc: 0.7228\n",
      "Epoch 3/30\n",
      "7143/7143 [==============================] - 0s 66us/step - loss: 0.5544 - acc: 0.7325 - val_loss: 0.5339 - val_acc: 0.7469\n",
      "Epoch 4/30\n",
      "7143/7143 [==============================] - 0s 66us/step - loss: 0.5222 - acc: 0.7467 - val_loss: 0.5134 - val_acc: 0.7570\n",
      "Epoch 5/30\n",
      "7143/7143 [==============================] - 0s 70us/step - loss: 0.5074 - acc: 0.7557 - val_loss: 0.4995 - val_acc: 0.7688\n",
      "Epoch 6/30\n",
      "7143/7143 [==============================] - 1s 77us/step - loss: 0.4972 - acc: 0.7627 - val_loss: 0.4901 - val_acc: 0.7727\n",
      "Epoch 7/30\n",
      "7143/7143 [==============================] - 1s 101us/step - loss: 0.4910 - acc: 0.7707 - val_loss: 0.4823 - val_acc: 0.7744\n",
      "Epoch 8/30\n",
      "7143/7143 [==============================] - 1s 122us/step - loss: 0.4843 - acc: 0.7767 - val_loss: 0.4759 - val_acc: 0.7822\n",
      "Epoch 9/30\n",
      "7143/7143 [==============================] - 1s 125us/step - loss: 0.4795 - acc: 0.7759 - val_loss: 0.4729 - val_acc: 0.7878\n",
      "Epoch 10/30\n",
      "7143/7143 [==============================] - 1s 88us/step - loss: 0.4770 - acc: 0.7799 - val_loss: 0.4680 - val_acc: 0.7839\n",
      "Epoch 11/30\n",
      "7143/7143 [==============================] - 1s 109us/step - loss: 0.4735 - acc: 0.7830 - val_loss: 0.4654 - val_acc: 0.7867\n",
      "Epoch 12/30\n",
      "7143/7143 [==============================] - 1s 133us/step - loss: 0.4713 - acc: 0.7833 - val_loss: 0.4627 - val_acc: 0.7906\n",
      "Epoch 13/30\n",
      "7143/7143 [==============================] - 1s 80us/step - loss: 0.4691 - acc: 0.7851 - val_loss: 0.4615 - val_acc: 0.7884\n",
      "Epoch 14/30\n",
      "7143/7143 [==============================] - 1s 91us/step - loss: 0.4679 - acc: 0.7862 - val_loss: 0.4597 - val_acc: 0.7934\n",
      "Epoch 15/30\n",
      "7143/7143 [==============================] - 0s 68us/step - loss: 0.4669 - acc: 0.7845 - val_loss: 0.4590 - val_acc: 0.7917\n",
      "Epoch 16/30\n",
      "7143/7143 [==============================] - 1s 95us/step - loss: 0.4669 - acc: 0.7864 - val_loss: 0.4621 - val_acc: 0.7895\n",
      "Epoch 17/30\n",
      "7143/7143 [==============================] - 1s 91us/step - loss: 0.4656 - acc: 0.7872 - val_loss: 0.4581 - val_acc: 0.7945\n",
      "Epoch 18/30\n",
      "7143/7143 [==============================] - 1s 131us/step - loss: 0.4640 - acc: 0.7873 - val_loss: 0.4563 - val_acc: 0.7940\n",
      "Epoch 19/30\n",
      "7143/7143 [==============================] - 1s 146us/step - loss: 0.4634 - acc: 0.7893 - val_loss: 0.4567 - val_acc: 0.7934\n",
      "Epoch 20/30\n",
      "7143/7143 [==============================] - 1s 152us/step - loss: 0.4629 - acc: 0.7907 - val_loss: 0.4561 - val_acc: 0.7956\n",
      "Epoch 21/30\n",
      "7143/7143 [==============================] - 1s 84us/step - loss: 0.4627 - acc: 0.7890 - val_loss: 0.4569 - val_acc: 0.7940\n",
      "Epoch 22/30\n",
      "7143/7143 [==============================] - 1s 84us/step - loss: 0.4618 - acc: 0.7900 - val_loss: 0.4552 - val_acc: 0.7968\n",
      "Epoch 23/30\n",
      "7143/7143 [==============================] - 1s 80us/step - loss: 0.4612 - acc: 0.7904 - val_loss: 0.4553 - val_acc: 0.7956\n",
      "Epoch 24/30\n",
      "7143/7143 [==============================] - 1s 98us/step - loss: 0.4604 - acc: 0.7906 - val_loss: 0.4538 - val_acc: 0.7962\n",
      "Epoch 25/30\n",
      "7143/7143 [==============================] - 1s 146us/step - loss: 0.4606 - acc: 0.7893 - val_loss: 0.4530 - val_acc: 0.7940\n",
      "Epoch 26/30\n",
      "7143/7143 [==============================] - 1s 203us/step - loss: 0.4595 - acc: 0.7914 - val_loss: 0.4540 - val_acc: 0.7940\n",
      "Epoch 27/30\n",
      "7143/7143 [==============================] - 1s 185us/step - loss: 0.4590 - acc: 0.7904 - val_loss: 0.4525 - val_acc: 0.7973\n",
      "Epoch 28/30\n",
      "7143/7143 [==============================] - 1s 194us/step - loss: 0.4580 - acc: 0.7897 - val_loss: 0.4522 - val_acc: 0.7979\n",
      "Epoch 29/30\n",
      "7143/7143 [==============================] - 1s 179us/step - loss: 0.4574 - acc: 0.7915 - val_loss: 0.4523 - val_acc: 0.7973\n",
      "Epoch 30/30\n",
      "7143/7143 [==============================] - 1s 155us/step - loss: 0.4574 - acc: 0.7910 - val_loss: 0.4517 - val_acc: 0.7940\n"
     ]
    }
   ],
   "source": [
    "train_history =model.fit(x=train_Features, \n",
    "                         y=train_Label, \n",
    "                         validation_split=0.2, \n",
    "                         epochs=30, \n",
    "                         batch_size=500,verbose=1,callbacks=[early_stopping])"
   ]
  },
  {
   "cell_type": "code",
   "execution_count": 26,
   "metadata": {
    "collapsed": true
   },
   "outputs": [],
   "source": [
    "import matplotlib.pyplot as plt\n",
    "def show_train_history(train_history,train,validation):\n",
    "    plt.plot(train_history.history[train])\n",
    "    plt.plot(train_history.history[validation])\n",
    "    plt.title('Train History')\n",
    "    plt.ylabel(train)\n",
    "    plt.xlabel('Epoch')\n",
    "    plt.legend(['train', 'validation'], loc='upper left')\n",
    "    plt.show()"
   ]
  },
  {
   "cell_type": "code",
   "execution_count": 27,
   "metadata": {
    "collapsed": false
   },
   "outputs": [
    {
     "data": {
      "image/png": "[encoded data removed]",
      "text/plain": [
       "<matplotlib.figure.Figure at 0x7f52b38669b0>"
      ]
     },
     "metadata": {},
     "output_type": "display_data"
    }
   ],
   "source": [
    "show_train_history(train_history,'acc','val_acc')"
   ]
  },
  {
   "cell_type": "code",
   "execution_count": 28,
   "metadata": {
    "collapsed": false
   },
   "outputs": [
    {
     "data": {
      "image/png": "[encoded data removed]",
      "text/plain": [
       "<matplotlib.figure.Figure at 0x7f5299432da0>"
      ]
     },
     "metadata": {},
     "output_type": "display_data"
    }
   ],
   "source": [
    "show_train_history(train_history,'loss','val_loss')"
   ]
  },
  {
   "cell_type": "code",
   "execution_count": 29,
   "metadata": {
    "collapsed": false
   },
   "outputs": [
    {
     "name": "stdout",
     "output_type": "stream",
     "text": [
      "2233/2233 [==============================] - 0s 182us/step\n"
     ]
    }
   ],
   "source": [
    "scores = model.evaluate(x=test_Features, \n",
    "                        y=test_Label)"
   ]
  },
  {
   "cell_type": "code",
   "execution_count": 30,
   "metadata": {
    "collapsed": false
   },
   "outputs": [
    {
     "data": {
      "text/plain": [
       "0.7859382000516147"
      ]
     },
     "execution_count": 30,
     "metadata": {},
     "output_type": "execute_result"
    }
   ],
   "source": [
    "scores[1]"
   ]
  }
 ],
 "metadata": {
  "anaconda-cloud": {},
  "kernelspec": {
   "display_name": "Python [default]",
   "language": "python",
   "name": "python3"
  },
  "language_info": {
   "codemirror_mode": {
    "name": "ipython",
    "version": 3
   },
   "file_extension": ".py",
   "mimetype": "text/x-python",
   "name": "python",
   "nbconvert_exporter": "python",
   "pygments_lexer": "ipython3",
   "version": "3.5.2"
  }
 },
 "nbformat": 4,
 "nbformat_minor": 1
}
