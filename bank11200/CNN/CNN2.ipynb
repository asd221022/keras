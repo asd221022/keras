{
 "cells": [
  {
   "cell_type": "code",
   "execution_count": 1,
   "metadata": {
    "collapsed": false
   },
   "outputs": [],
   "source": [
    "import numpy \n",
    "import pandas as pd\n",
    "from sklearn.preprocessing import StandardScaler\n",
    "from sklearn.cross_validation import train_test_split\n",
    "numpy.random.seed(10)"
   ]
  },
  {
   "cell_type": "code",
   "execution_count": 2,
   "metadata": {
    "collapsed": false
   },
   "outputs": [],
   "source": [
    "all_df = pd.read_csv(\"data/bank.csv\")"
   ]
  },
  {
   "cell_type": "code",
   "execution_count": 3,
   "metadata": {
    "collapsed": true
   },
   "outputs": [],
   "source": [
    "cols=['age','balance' ,'day', 'duration',\n",
    "       'campaign','pdays','previous','deposit']\n",
    "all_df=all_df[cols]"
   ]
  },
  {
   "cell_type": "code",
   "execution_count": 4,
   "metadata": {
    "collapsed": false
   },
   "outputs": [],
   "source": [
    "all_df['deposit']= all_df['deposit'].map({'no':0, 'yes': 1}).astype(int)"
   ]
  },
  {
   "cell_type": "code",
   "execution_count": 5,
   "metadata": {
    "collapsed": true
   },
   "outputs": [],
   "source": [
    "X=all_df.drop(['deposit'], axis=1).values.astype('float64')"
   ]
  },
  {
   "cell_type": "code",
   "execution_count": 6,
   "metadata": {
    "collapsed": true
   },
   "outputs": [],
   "source": [
    "Y = all_df['deposit'].values.astype('int64')"
   ]
  },
  {
   "cell_type": "code",
   "execution_count": 7,
   "metadata": {
    "collapsed": false
   },
   "outputs": [
    {
     "data": {
      "text/plain": [
       "8929"
      ]
     },
     "execution_count": 7,
     "metadata": {},
     "output_type": "execute_result"
    }
   ],
   "source": [
    "X = StandardScaler().fit_transform(X)\n",
    "train_Features, test_Features, train_Label, test_Label = train_test_split(X, Y, test_size=0.2, random_state=True) \n",
    "len(train_Features)"
   ]
  },
  {
   "cell_type": "code",
   "execution_count": 8,
   "metadata": {
    "collapsed": false
   },
   "outputs": [
    {
     "data": {
      "text/plain": [
       "array([[-0.85890111, -0.3021573 , -1.26574556, -0.8008745 , -0.55416834,\n",
       "        -0.48118405, -0.36325984],\n",
       "       [ 0.14841574, -0.31455937,  0.51565047, -0.97372895, -0.18678537,\n",
       "        -0.48118405, -0.36325984]])"
      ]
     },
     "execution_count": 8,
     "metadata": {},
     "output_type": "execute_result"
    }
   ],
   "source": [
    "test_Features[:2]"
   ]
  },
  {
   "cell_type": "code",
   "execution_count": 9,
   "metadata": {
    "collapsed": false
   },
   "outputs": [
    {
     "data": {
      "text/plain": [
       "array([0, 1, 0, 1])"
      ]
     },
     "execution_count": 9,
     "metadata": {},
     "output_type": "execute_result"
    }
   ],
   "source": [
    "train_Label[:4]"
   ]
  },
  {
   "cell_type": "code",
   "execution_count": 10,
   "metadata": {
    "collapsed": false
   },
   "outputs": [
    {
     "data": {
      "text/plain": [
       "(8929, 7)"
      ]
     },
     "execution_count": 10,
     "metadata": {},
     "output_type": "execute_result"
    }
   ],
   "source": [
    "train_Features.shape"
   ]
  },
  {
   "cell_type": "code",
   "execution_count": 11,
   "metadata": {
    "collapsed": false
   },
   "outputs": [
    {
     "data": {
      "text/plain": [
       "array([0, 0, 0, 1])"
      ]
     },
     "execution_count": 11,
     "metadata": {},
     "output_type": "execute_result"
    }
   ],
   "source": [
    "test_Label[:4]"
   ]
  },
  {
   "cell_type": "code",
   "execution_count": 12,
   "metadata": {
    "collapsed": true
   },
   "outputs": [],
   "source": [
    "train_Features = train_Features.reshape((train_Features.shape[0], train_Features.shape[1], 1))"
   ]
  },
  {
   "cell_type": "code",
   "execution_count": 13,
   "metadata": {
    "collapsed": true
   },
   "outputs": [],
   "source": [
    "test_Features = test_Features.reshape((test_Features.shape[0], test_Features.shape[1], 1))"
   ]
  },
  {
   "cell_type": "code",
   "execution_count": 14,
   "metadata": {
    "collapsed": false
   },
   "outputs": [],
   "source": [
    "train_Label = train_Label.reshape(train_Label.shape[0], 1)\n",
    "test_Label= test_Label.reshape(test_Label.shape[0], 1)"
   ]
  },
  {
   "cell_type": "code",
   "execution_count": 15,
   "metadata": {
    "collapsed": false
   },
   "outputs": [
    {
     "name": "stderr",
     "output_type": "stream",
     "text": [
      "Using TensorFlow backend.\n"
     ]
    }
   ],
   "source": [
    "from keras.models import Sequential\n",
    "from keras.layers import Dense,Dropout,Flatten,Conv1D,MaxPooling1D\n",
    "from keras.layers.embeddings import Embedding\n",
    "from keras.callbacks import EarlyStopping\n",
    "early_stopping = EarlyStopping(monitor='val_loss', patience=2)"
   ]
  },
  {
   "cell_type": "code",
   "execution_count": 16,
   "metadata": {
    "collapsed": true
   },
   "outputs": [],
   "source": [
    "model = Sequential()"
   ]
  },
  {
   "cell_type": "code",
   "execution_count": 17,
   "metadata": {
    "collapsed": true
   },
   "outputs": [],
   "source": [
    "model.add(Conv1D(filters=7*2,\n",
    "                 kernel_size=3,\n",
    "                 padding='valid',\n",
    "                 input_shape=(7,1), \n",
    "                 activation='relu'))"
   ]
  },
  {
   "cell_type": "code",
   "execution_count": 18,
   "metadata": {
    "collapsed": true
   },
   "outputs": [],
   "source": [
    "model.add(MaxPooling1D(pool_size=1))"
   ]
  },
  {
   "cell_type": "code",
   "execution_count": 19,
   "metadata": {
    "collapsed": false
   },
   "outputs": [],
   "source": [
    "model.add(Conv1D(filters=7,\n",
    "                 kernel_size=3,\n",
    "                 padding='valid',\n",
    "              \n",
    "                 activation='relu'))"
   ]
  },
  {
   "cell_type": "code",
   "execution_count": 20,
   "metadata": {
    "collapsed": true
   },
   "outputs": [],
   "source": [
    "model.add(MaxPooling1D(pool_size=1))"
   ]
  },
  {
   "cell_type": "code",
   "execution_count": 21,
   "metadata": {
    "collapsed": true
   },
   "outputs": [],
   "source": [
    "model.add(Flatten())"
   ]
  },
  {
   "cell_type": "code",
   "execution_count": 22,
   "metadata": {
    "collapsed": true
   },
   "outputs": [],
   "source": [
    "model.add(Dense(7, activation='tanh'))"
   ]
  },
  {
   "cell_type": "code",
   "execution_count": 23,
   "metadata": {
    "collapsed": true
   },
   "outputs": [],
   "source": [
    "model.add(Dense(1,activation='sigmoid'))"
   ]
  },
  {
   "cell_type": "code",
   "execution_count": 24,
   "metadata": {
    "collapsed": false
   },
   "outputs": [
    {
     "name": "stdout",
     "output_type": "stream",
     "text": [
      "_________________________________________________________________\n",
      "Layer (type)                 Output Shape              Param #   \n",
      "=================================================================\n",
      "conv1d_1 (Conv1D)            (None, 5, 14)             56        \n",
      "_________________________________________________________________\n",
      "max_pooling1d_1 (MaxPooling1 (None, 5, 14)             0         \n",
      "_________________________________________________________________\n",
      "conv1d_2 (Conv1D)            (None, 3, 7)              301       \n",
      "_________________________________________________________________\n",
      "max_pooling1d_2 (MaxPooling1 (None, 3, 7)              0         \n",
      "_________________________________________________________________\n",
      "flatten_1 (Flatten)          (None, 21)                0         \n",
      "_________________________________________________________________\n",
      "dense_1 (Dense)              (None, 7)                 154       \n",
      "_________________________________________________________________\n",
      "dense_2 (Dense)              (None, 1)                 8         \n",
      "=================================================================\n",
      "Total params: 519\n",
      "Trainable params: 519\n",
      "Non-trainable params: 0\n",
      "_________________________________________________________________\n"
     ]
    }
   ],
   "source": [
    "model.summary()"
   ]
  },
  {
   "cell_type": "code",
   "execution_count": 25,
   "metadata": {
    "collapsed": false
   },
   "outputs": [],
   "source": [
    "model.compile(loss='binary_crossentropy', \n",
    "              optimizer='adam', metrics=['accuracy'])"
   ]
  },
  {
   "cell_type": "code",
   "execution_count": 26,
   "metadata": {
    "collapsed": false
   },
   "outputs": [
    {
     "name": "stdout",
     "output_type": "stream",
     "text": [
      "Train on 7143 samples, validate on 1786 samples\n",
      "Epoch 1/60\n",
      "7143/7143 [==============================] - 1s 89us/step - loss: 0.6326 - acc: 0.7031 - val_loss: 0.6121 - val_acc: 0.7139\n",
      "Epoch 2/60\n",
      "7143/7143 [==============================] - 0s 26us/step - loss: 0.5971 - acc: 0.7194 - val_loss: 0.5787 - val_acc: 0.7290\n",
      "Epoch 3/60\n",
      "7143/7143 [==============================] - 0s 34us/step - loss: 0.5660 - acc: 0.7323 - val_loss: 0.5525 - val_acc: 0.7368\n",
      "Epoch 4/60\n",
      "7143/7143 [==============================] - 0s 28us/step - loss: 0.5430 - acc: 0.7385 - val_loss: 0.5347 - val_acc: 0.7475\n",
      "Epoch 5/60\n",
      "7143/7143 [==============================] - 0s 24us/step - loss: 0.5274 - acc: 0.7456 - val_loss: 0.5222 - val_acc: 0.7525\n",
      "Epoch 6/60\n",
      "7143/7143 [==============================] - 0s 32us/step - loss: 0.5172 - acc: 0.7504 - val_loss: 0.5137 - val_acc: 0.7542\n",
      "Epoch 7/60\n",
      "7143/7143 [==============================] - 0s 31us/step - loss: 0.5104 - acc: 0.7557 - val_loss: 0.5077 - val_acc: 0.7609\n",
      "Epoch 8/60\n",
      "7143/7143 [==============================] - 0s 30us/step - loss: 0.5054 - acc: 0.7616 - val_loss: 0.5028 - val_acc: 0.7671\n",
      "Epoch 9/60\n",
      "7143/7143 [==============================] - 0s 35us/step - loss: 0.5019 - acc: 0.7624 - val_loss: 0.4990 - val_acc: 0.7693\n",
      "Epoch 10/60\n",
      "7143/7143 [==============================] - 0s 32us/step - loss: 0.4988 - acc: 0.7655 - val_loss: 0.4957 - val_acc: 0.7704\n",
      "Epoch 11/60\n",
      "7143/7143 [==============================] - 0s 33us/step - loss: 0.4961 - acc: 0.7665 - val_loss: 0.4932 - val_acc: 0.7744\n",
      "Epoch 12/60\n",
      "7143/7143 [==============================] - 0s 29us/step - loss: 0.4938 - acc: 0.7705 - val_loss: 0.4905 - val_acc: 0.7766\n",
      "Epoch 13/60\n",
      "7143/7143 [==============================] - 0s 32us/step - loss: 0.4911 - acc: 0.7708 - val_loss: 0.4882 - val_acc: 0.7800\n",
      "Epoch 14/60\n",
      "7143/7143 [==============================] - 0s 34us/step - loss: 0.4890 - acc: 0.7745 - val_loss: 0.4860 - val_acc: 0.7794\n",
      "Epoch 15/60\n",
      "7143/7143 [==============================] - 0s 31us/step - loss: 0.4871 - acc: 0.7759 - val_loss: 0.4838 - val_acc: 0.7822\n",
      "Epoch 16/60\n",
      "7143/7143 [==============================] - 0s 33us/step - loss: 0.4860 - acc: 0.7760 - val_loss: 0.4818 - val_acc: 0.7828\n",
      "Epoch 17/60\n",
      "7143/7143 [==============================] - 0s 32us/step - loss: 0.4843 - acc: 0.7745 - val_loss: 0.4803 - val_acc: 0.7839\n",
      "Epoch 18/60\n",
      "7143/7143 [==============================] - 0s 32us/step - loss: 0.4827 - acc: 0.7770 - val_loss: 0.4781 - val_acc: 0.7889\n",
      "Epoch 19/60\n",
      "7143/7143 [==============================] - 0s 33us/step - loss: 0.4809 - acc: 0.7781 - val_loss: 0.4765 - val_acc: 0.7861\n",
      "Epoch 20/60\n",
      "7143/7143 [==============================] - 0s 34us/step - loss: 0.4797 - acc: 0.7791 - val_loss: 0.4754 - val_acc: 0.7872\n",
      "Epoch 21/60\n",
      "7143/7143 [==============================] - 0s 30us/step - loss: 0.4787 - acc: 0.7815 - val_loss: 0.4736 - val_acc: 0.7867\n",
      "Epoch 22/60\n",
      "7143/7143 [==============================] - 0s 37us/step - loss: 0.4774 - acc: 0.7805 - val_loss: 0.4727 - val_acc: 0.7884\n",
      "Epoch 23/60\n",
      "7143/7143 [==============================] - 0s 45us/step - loss: 0.4759 - acc: 0.7819 - val_loss: 0.4713 - val_acc: 0.7895\n",
      "Epoch 24/60\n",
      "7143/7143 [==============================] - 0s 36us/step - loss: 0.4748 - acc: 0.7840 - val_loss: 0.4698 - val_acc: 0.7878\n",
      "Epoch 25/60\n",
      "7143/7143 [==============================] - 0s 40us/step - loss: 0.4740 - acc: 0.7823 - val_loss: 0.4682 - val_acc: 0.7872\n",
      "Epoch 26/60\n",
      "7143/7143 [==============================] - 0s 42us/step - loss: 0.4729 - acc: 0.7848 - val_loss: 0.4671 - val_acc: 0.7856\n",
      "Epoch 27/60\n",
      "7143/7143 [==============================] - 0s 33us/step - loss: 0.4719 - acc: 0.7847 - val_loss: 0.4665 - val_acc: 0.7884\n",
      "Epoch 28/60\n",
      "7143/7143 [==============================] - 0s 38us/step - loss: 0.4710 - acc: 0.7843 - val_loss: 0.4658 - val_acc: 0.7878\n",
      "Epoch 29/60\n",
      "7143/7143 [==============================] - 0s 56us/step - loss: 0.4703 - acc: 0.7858 - val_loss: 0.4648 - val_acc: 0.7889\n",
      "Epoch 30/60\n",
      "7143/7143 [==============================] - 0s 44us/step - loss: 0.4698 - acc: 0.7854 - val_loss: 0.4638 - val_acc: 0.7884\n",
      "Epoch 31/60\n",
      "7143/7143 [==============================] - 0s 35us/step - loss: 0.4687 - acc: 0.7843 - val_loss: 0.4635 - val_acc: 0.7906\n",
      "Epoch 32/60\n",
      "7143/7143 [==============================] - 0s 36us/step - loss: 0.4689 - acc: 0.7852 - val_loss: 0.4627 - val_acc: 0.7867\n",
      "Epoch 33/60\n",
      "7143/7143 [==============================] - 0s 34us/step - loss: 0.4681 - acc: 0.7845 - val_loss: 0.4617 - val_acc: 0.7889\n",
      "Epoch 34/60\n",
      "7143/7143 [==============================] - 0s 33us/step - loss: 0.4673 - acc: 0.7875 - val_loss: 0.4611 - val_acc: 0.7867\n",
      "Epoch 35/60\n",
      "7143/7143 [==============================] - 0s 33us/step - loss: 0.4663 - acc: 0.7879 - val_loss: 0.4598 - val_acc: 0.7895\n",
      "Epoch 36/60\n",
      "7143/7143 [==============================] - 0s 32us/step - loss: 0.4658 - acc: 0.7872 - val_loss: 0.4596 - val_acc: 0.7895\n",
      "Epoch 37/60\n",
      "7143/7143 [==============================] - 0s 35us/step - loss: 0.4656 - acc: 0.7875 - val_loss: 0.4596 - val_acc: 0.7889\n",
      "Epoch 38/60\n",
      "7143/7143 [==============================] - 0s 32us/step - loss: 0.4652 - acc: 0.7899 - val_loss: 0.4582 - val_acc: 0.7912\n",
      "Epoch 39/60\n",
      "7143/7143 [==============================] - 0s 36us/step - loss: 0.4643 - acc: 0.7897 - val_loss: 0.4578 - val_acc: 0.7878\n",
      "Epoch 40/60\n",
      "7143/7143 [==============================] - 0s 38us/step - loss: 0.4644 - acc: 0.7889 - val_loss: 0.4578 - val_acc: 0.7945\n",
      "Epoch 41/60\n",
      "7143/7143 [==============================] - 0s 39us/step - loss: 0.4651 - acc: 0.7879 - val_loss: 0.4581 - val_acc: 0.7884\n"
     ]
    }
   ],
   "source": [
    "train_history =model.fit(x=train_Features, \n",
    "                         y=train_Label, \n",
    "                         validation_split=0.2, \n",
    "                         epochs=60, \n",
    "                         batch_size=500,verbose=1,callbacks=[early_stopping])"
   ]
  },
  {
   "cell_type": "code",
   "execution_count": 27,
   "metadata": {
    "collapsed": true
   },
   "outputs": [],
   "source": [
    "import matplotlib.pyplot as plt\n",
    "def show_train_history(train_history,train,validation):\n",
    "    plt.plot(train_history.history[train])\n",
    "    plt.plot(train_history.history[validation])\n",
    "    plt.title('Train History')\n",
    "    plt.ylabel(train)\n",
    "    plt.xlabel('Epoch')\n",
    "    plt.legend(['train', 'validation'], loc='upper left')\n",
    "    plt.show()"
   ]
  },
  {
   "cell_type": "code",
   "execution_count": 28,
   "metadata": {
    "collapsed": false
   },
   "outputs": [
    {
     "data": {
      "image/png": "[encoded data removed]",
      "text/plain": [
       "<matplotlib.figure.Figure at 0x7fa3b28e1390>"
      ]
     },
     "metadata": {},
     "output_type": "display_data"
    }
   ],
   "source": [
    "show_train_history(train_history,'acc','val_acc')"
   ]
  },
  {
   "cell_type": "code",
   "execution_count": 29,
   "metadata": {
    "collapsed": false
   },
   "outputs": [
    {
     "data": {
      "image/png": "[encoded data removed]",
      "text/plain": [
       "<matplotlib.figure.Figure at 0x7fa3b28e18d0>"
      ]
     },
     "metadata": {},
     "output_type": "display_data"
    }
   ],
   "source": [
    "show_train_history(train_history,'loss','val_loss')"
   ]
  },
  {
   "cell_type": "code",
   "execution_count": 30,
   "metadata": {
    "collapsed": false
   },
   "outputs": [
    {
     "name": "stdout",
     "output_type": "stream",
     "text": [
      "2233/2233 [==============================] - 0s 74us/step\n"
     ]
    }
   ],
   "source": [
    "scores = model.evaluate(x=test_Features, \n",
    "                        y=test_Label)"
   ]
  },
  {
   "cell_type": "code",
   "execution_count": 31,
   "metadata": {
    "collapsed": false
   },
   "outputs": [
    {
     "data": {
      "text/plain": [
       "0.7886251678287423"
      ]
     },
     "execution_count": 31,
     "metadata": {},
     "output_type": "execute_result"
    }
   ],
   "source": [
    "scores[1]"
   ]
  }
 ],
 "metadata": {
  "anaconda-cloud": {},
  "kernelspec": {
   "display_name": "Python [default]",
   "language": "python",
   "name": "python3"
  },
  "language_info": {
   "codemirror_mode": {
    "name": "ipython",
    "version": 3
   },
   "file_extension": ".py",
   "mimetype": "text/x-python",
   "name": "python",
   "nbconvert_exporter": "python",
   "pygments_lexer": "ipython3",
   "version": "3.5.2"
  }
 },
 "nbformat": 4,
 "nbformat_minor": 1
}
