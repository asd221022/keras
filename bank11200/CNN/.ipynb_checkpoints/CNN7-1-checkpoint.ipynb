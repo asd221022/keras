{
 "cells": [
  {
   "cell_type": "code",
   "execution_count": 1,
   "metadata": {
    "collapsed": false
   },
   "outputs": [],
   "source": [
    "import numpy \n",
    "import pandas as pd\n",
    "from sklearn.preprocessing import StandardScaler\n",
    "from sklearn.model_selection import train_test_split\n",
    "numpy.random.seed(10)"
   ]
  },
  {
   "cell_type": "code",
   "execution_count": 2,
   "metadata": {
    "collapsed": false
   },
   "outputs": [],
   "source": [
    "all_df = pd.read_csv(\"bank.csv\")"
   ]
  },
  {
   "cell_type": "code",
   "execution_count": 3,
   "metadata": {
    "collapsed": true
   },
   "outputs": [],
   "source": [
    "cols=['age','balance' ,'day', 'duration',\n",
    "       'campaign','pdays','previous','deposit']\n",
    "all_df=all_df[cols]"
   ]
  },
  {
   "cell_type": "code",
   "execution_count": 4,
   "metadata": {
    "collapsed": false
   },
   "outputs": [],
   "source": [
    "all_df['deposit']= all_df['deposit'].map({'no':0, 'yes': 1}).astype(int)"
   ]
  },
  {
   "cell_type": "code",
   "execution_count": 5,
   "metadata": {
    "collapsed": true
   },
   "outputs": [],
   "source": [
    "X=all_df.drop(['deposit'], axis=1).values.astype('float64')"
   ]
  },
  {
   "cell_type": "code",
   "execution_count": 6,
   "metadata": {
    "collapsed": true
   },
   "outputs": [],
   "source": [
    "Y = all_df['deposit'].values.astype('int64')"
   ]
  },
  {
   "cell_type": "code",
   "execution_count": 7,
   "metadata": {
    "collapsed": false
   },
   "outputs": [
    {
     "data": {
      "text/plain": [
       "8929"
      ]
     },
     "execution_count": 7,
     "metadata": {},
     "output_type": "execute_result"
    }
   ],
   "source": [
    "X = StandardScaler().fit_transform(X)\n",
    "train_Features, test_Features, train_Label, test_Label = train_test_split(X, Y, test_size=0.2, random_state=True) \n",
    "len(train_Features)"
   ]
  },
  {
   "cell_type": "code",
   "execution_count": 8,
   "metadata": {
    "collapsed": false
   },
   "outputs": [
    {
     "data": {
      "text/plain": [
       "array([[-0.85890111, -0.3021573 , -1.26574556, -0.8008745 , -0.55416834,\n",
       "        -0.48118405, -0.36325984],\n",
       "       [ 0.14841574, -0.31455937,  0.51565047, -0.97372895, -0.18678537,\n",
       "        -0.48118405, -0.36325984]])"
      ]
     },
     "execution_count": 8,
     "metadata": {},
     "output_type": "execute_result"
    }
   ],
   "source": [
    "test_Features[:2]"
   ]
  },
  {
   "cell_type": "code",
   "execution_count": 9,
   "metadata": {
    "collapsed": false
   },
   "outputs": [
    {
     "data": {
      "text/plain": [
       "array([0, 1, 0, 1])"
      ]
     },
     "execution_count": 9,
     "metadata": {},
     "output_type": "execute_result"
    }
   ],
   "source": [
    "train_Label[:4]"
   ]
  },
  {
   "cell_type": "code",
   "execution_count": 10,
   "metadata": {
    "collapsed": false
   },
   "outputs": [
    {
     "data": {
      "text/plain": [
       "(8929, 7)"
      ]
     },
     "execution_count": 10,
     "metadata": {},
     "output_type": "execute_result"
    }
   ],
   "source": [
    "train_Features.shape"
   ]
  },
  {
   "cell_type": "code",
   "execution_count": 11,
   "metadata": {
    "collapsed": false
   },
   "outputs": [
    {
     "data": {
      "text/plain": [
       "array([0, 0, 0, 1])"
      ]
     },
     "execution_count": 11,
     "metadata": {},
     "output_type": "execute_result"
    }
   ],
   "source": [
    "test_Label[:4]"
   ]
  },
  {
   "cell_type": "code",
   "execution_count": 12,
   "metadata": {
    "collapsed": true
   },
   "outputs": [],
   "source": [
    "train_Features = train_Features.reshape((train_Features.shape[0], train_Features.shape[1], 1))"
   ]
  },
  {
   "cell_type": "code",
   "execution_count": 13,
   "metadata": {
    "collapsed": true
   },
   "outputs": [],
   "source": [
    "test_Features = test_Features.reshape((test_Features.shape[0], test_Features.shape[1], 1))"
   ]
  },
  {
   "cell_type": "code",
   "execution_count": 14,
   "metadata": {
    "collapsed": false
   },
   "outputs": [
    {
     "name": "stderr",
     "output_type": "stream",
     "text": [
      "Using TensorFlow backend.\n"
     ]
    }
   ],
   "source": [
    "from keras.models import Sequential\n",
    "from keras.layers import Dense,Dropout,Flatten,Conv1D,MaxPooling1D\n",
    "from keras.layers.embeddings import Embedding\n",
    "from keras.callbacks import EarlyStopping\n",
    "early_stopping = EarlyStopping(monitor='val_loss', patience=2)"
   ]
  },
  {
   "cell_type": "code",
   "execution_count": 15,
   "metadata": {
    "collapsed": true
   },
   "outputs": [],
   "source": [
    "model = Sequential()"
   ]
  },
  {
   "cell_type": "code",
   "execution_count": 16,
   "metadata": {
    "collapsed": false
   },
   "outputs": [],
   "source": [
    "model.add(Conv1D(filters=7,\n",
    "                 kernel_size=3,\n",
    "                 padding='valid',\n",
    "                 input_shape=(7,1), \n",
    "                 activation='relu'))"
   ]
  },
  {
   "cell_type": "code",
   "execution_count": 17,
   "metadata": {
    "collapsed": true
   },
   "outputs": [],
   "source": [
    "model.add(MaxPooling1D(pool_size=1))"
   ]
  },
  {
   "cell_type": "code",
   "execution_count": 18,
   "metadata": {
    "collapsed": true
   },
   "outputs": [],
   "source": [
    "model.add(Flatten())"
   ]
  },
  {
   "cell_type": "code",
   "execution_count": 19,
   "metadata": {
    "collapsed": true
   },
   "outputs": [],
   "source": [
    "model.add(Dense(7, activation='tanh'))"
   ]
  },
  {
   "cell_type": "code",
   "execution_count": 20,
   "metadata": {
    "collapsed": true
   },
   "outputs": [],
   "source": [
    "model.add(Dense(1,activation='sigmoid'))"
   ]
  },
  {
   "cell_type": "code",
   "execution_count": 21,
   "metadata": {
    "collapsed": false
   },
   "outputs": [
    {
     "name": "stdout",
     "output_type": "stream",
     "text": [
      "_________________________________________________________________\n",
      "Layer (type)                 Output Shape              Param #   \n",
      "=================================================================\n",
      "conv1d_1 (Conv1D)            (None, 5, 7)              28        \n",
      "_________________________________________________________________\n",
      "max_pooling1d_1 (MaxPooling1 (None, 5, 7)              0         \n",
      "_________________________________________________________________\n",
      "flatten_1 (Flatten)          (None, 35)                0         \n",
      "_________________________________________________________________\n",
      "dense_1 (Dense)              (None, 7)                 252       \n",
      "_________________________________________________________________\n",
      "dense_2 (Dense)              (None, 1)                 8         \n",
      "=================================================================\n",
      "Total params: 288\n",
      "Trainable params: 288\n",
      "Non-trainable params: 0\n",
      "_________________________________________________________________\n"
     ]
    }
   ],
   "source": [
    "model.summary()"
   ]
  },
  {
   "cell_type": "code",
   "execution_count": 22,
   "metadata": {
    "collapsed": false
   },
   "outputs": [],
   "source": [
    "model.compile(loss='binary_crossentropy', \n",
    "              optimizer='adam', metrics=['accuracy'])"
   ]
  },
  {
   "cell_type": "code",
   "execution_count": 23,
   "metadata": {
    "collapsed": false
   },
   "outputs": [
    {
     "name": "stdout",
     "output_type": "stream",
     "text": [
      "Train on 7143 samples, validate on 1786 samples\n",
      "Epoch 1/30\n",
      "7143/7143 [==============================] - 3s 439us/step - loss: 0.6433 - acc: 0.5720 - val_loss: 0.6303 - val_acc: 0.6596\n",
      "Epoch 2/30\n",
      "7143/7143 [==============================] - 0s 45us/step - loss: 0.6132 - acc: 0.6843 - val_loss: 0.6049 - val_acc: 0.7178\n",
      "Epoch 3/30\n",
      "7143/7143 [==============================] - 0s 36us/step - loss: 0.5921 - acc: 0.7290 - val_loss: 0.5880 - val_acc: 0.7357\n",
      "Epoch 4/30\n",
      "7143/7143 [==============================] - 0s 44us/step - loss: 0.5767 - acc: 0.7369 - val_loss: 0.5749 - val_acc: 0.7340\n",
      "Epoch 5/30\n",
      "7143/7143 [==============================] - 0s 43us/step - loss: 0.5644 - acc: 0.7423 - val_loss: 0.5642 - val_acc: 0.7374\n",
      "Epoch 6/30\n",
      "7143/7143 [==============================] - 0s 45us/step - loss: 0.5543 - acc: 0.7460 - val_loss: 0.5555 - val_acc: 0.7436\n",
      "Epoch 7/30\n",
      "7143/7143 [==============================] - 0s 41us/step - loss: 0.5459 - acc: 0.7480 - val_loss: 0.5474 - val_acc: 0.7469\n",
      "Epoch 8/30\n",
      "7143/7143 [==============================] - 0s 42us/step - loss: 0.5383 - acc: 0.7512 - val_loss: 0.5397 - val_acc: 0.7469\n",
      "Epoch 9/30\n",
      "7143/7143 [==============================] - 0s 43us/step - loss: 0.5312 - acc: 0.7533 - val_loss: 0.5329 - val_acc: 0.7514\n",
      "Epoch 10/30\n",
      "7143/7143 [==============================] - 0s 41us/step - loss: 0.5252 - acc: 0.7537 - val_loss: 0.5265 - val_acc: 0.7525\n",
      "Epoch 11/30\n",
      "7143/7143 [==============================] - 0s 31us/step - loss: 0.5195 - acc: 0.7560 - val_loss: 0.5210 - val_acc: 0.7576\n",
      "Epoch 12/30\n",
      "7143/7143 [==============================] - 0s 43us/step - loss: 0.5148 - acc: 0.7568 - val_loss: 0.5160 - val_acc: 0.7553\n",
      "Epoch 13/30\n",
      "7143/7143 [==============================] - 0s 48us/step - loss: 0.5110 - acc: 0.7563 - val_loss: 0.5119 - val_acc: 0.7609\n",
      "Epoch 14/30\n",
      "7143/7143 [==============================] - 0s 42us/step - loss: 0.5075 - acc: 0.7603 - val_loss: 0.5089 - val_acc: 0.7637\n",
      "Epoch 15/30\n",
      "7143/7143 [==============================] - 0s 44us/step - loss: 0.5048 - acc: 0.7619 - val_loss: 0.5060 - val_acc: 0.7643\n",
      "Epoch 16/30\n",
      "7143/7143 [==============================] - 0s 40us/step - loss: 0.5023 - acc: 0.7630 - val_loss: 0.5033 - val_acc: 0.7626\n",
      "Epoch 17/30\n",
      "7143/7143 [==============================] - 0s 45us/step - loss: 0.5000 - acc: 0.7635 - val_loss: 0.5005 - val_acc: 0.7654\n",
      "Epoch 18/30\n",
      "7143/7143 [==============================] - 0s 54us/step - loss: 0.4977 - acc: 0.7659 - val_loss: 0.4986 - val_acc: 0.7688\n",
      "Epoch 19/30\n",
      "7143/7143 [==============================] - 0s 43us/step - loss: 0.4957 - acc: 0.7673 - val_loss: 0.4966 - val_acc: 0.7693\n",
      "Epoch 20/30\n",
      "7143/7143 [==============================] - 0s 46us/step - loss: 0.4941 - acc: 0.7687 - val_loss: 0.4951 - val_acc: 0.7704\n",
      "Epoch 21/30\n",
      "7143/7143 [==============================] - 0s 41us/step - loss: 0.4923 - acc: 0.7705 - val_loss: 0.4934 - val_acc: 0.7704\n",
      "Epoch 22/30\n",
      "7143/7143 [==============================] - 0s 39us/step - loss: 0.4910 - acc: 0.7701 - val_loss: 0.4909 - val_acc: 0.7732\n",
      "Epoch 23/30\n",
      "7143/7143 [==============================] - 0s 49us/step - loss: 0.4895 - acc: 0.7721 - val_loss: 0.4895 - val_acc: 0.7732\n",
      "Epoch 24/30\n",
      "7143/7143 [==============================] - 0s 40us/step - loss: 0.4883 - acc: 0.7733 - val_loss: 0.4882 - val_acc: 0.7721\n",
      "Epoch 25/30\n",
      "7143/7143 [==============================] - 0s 48us/step - loss: 0.4868 - acc: 0.7747 - val_loss: 0.4870 - val_acc: 0.7710\n",
      "Epoch 26/30\n",
      "7143/7143 [==============================] - 0s 53us/step - loss: 0.4858 - acc: 0.7771 - val_loss: 0.4854 - val_acc: 0.7732\n",
      "Epoch 27/30\n",
      "7143/7143 [==============================] - 0s 39us/step - loss: 0.4844 - acc: 0.7756 - val_loss: 0.4839 - val_acc: 0.7749\n",
      "Epoch 28/30\n",
      "7143/7143 [==============================] - 0s 49us/step - loss: 0.4835 - acc: 0.7766 - val_loss: 0.4826 - val_acc: 0.7760\n",
      "Epoch 29/30\n",
      "7143/7143 [==============================] - 0s 39us/step - loss: 0.4824 - acc: 0.7766 - val_loss: 0.4811 - val_acc: 0.7749\n",
      "Epoch 30/30\n",
      "7143/7143 [==============================] - 0s 47us/step - loss: 0.4813 - acc: 0.7782 - val_loss: 0.4800 - val_acc: 0.7755\n"
     ]
    }
   ],
   "source": [
    "train_history =model.fit(x=train_Features, \n",
    "                         y=train_Label, \n",
    "                         validation_split=0.2, \n",
    "                         epochs=30, \n",
    "                         batch_size=500,verbose=1,callbacks=[early_stopping])"
   ]
  },
  {
   "cell_type": "code",
   "execution_count": 24,
   "metadata": {
    "collapsed": true
   },
   "outputs": [],
   "source": [
    "import matplotlib.pyplot as plt\n",
    "def show_train_history(train_history,train,validation):\n",
    "    plt.plot(train_history.history[train])\n",
    "    plt.plot(train_history.history[validation])\n",
    "    plt.title('Train History')\n",
    "    plt.ylabel(train)\n",
    "    plt.xlabel('Epoch')\n",
    "    plt.legend(['train', 'validation'], loc='upper left')\n",
    "    plt.show()"
   ]
  },
  {
   "cell_type": "code",
   "execution_count": 25,
   "metadata": {
    "collapsed": false
   },
   "outputs": [
    {
     "data": {
      "image/png": "[encoded data removed]",
      "text/plain": [
       "<matplotlib.figure.Figure at 0x7fe42b1e8b38>"
      ]
     },
     "metadata": {},
     "output_type": "display_data"
    }
   ],
   "source": [
    "show_train_history(train_history,'acc','val_acc')"
   ]
  },
  {
   "cell_type": "code",
   "execution_count": 26,
   "metadata": {
    "collapsed": false
   },
   "outputs": [
    {
     "data": {
      "image/png": "[encoded data removed]",
      "text/plain": [
       "<matplotlib.figure.Figure at 0x7fe413680128>"
      ]
     },
     "metadata": {},
     "output_type": "display_data"
    }
   ],
   "source": [
    "show_train_history(train_history,'loss','val_loss')"
   ]
  },
  {
   "cell_type": "code",
   "execution_count": 27,
   "metadata": {
    "collapsed": false
   },
   "outputs": [
    {
     "name": "stdout",
     "output_type": "stream",
     "text": [
      "2233/2233 [==============================] - 0s 132us/step\n"
     ]
    }
   ],
   "source": [
    "scores = model.evaluate(x=test_Features, \n",
    "                        y=test_Label)"
   ]
  },
  {
   "cell_type": "code",
   "execution_count": 28,
   "metadata": {
    "collapsed": false
   },
   "outputs": [
    {
     "data": {
      "text/plain": [
       "0.772951186824368"
      ]
     },
     "execution_count": 28,
     "metadata": {},
     "output_type": "execute_result"
    }
   ],
   "source": [
    "scores[1]"
   ]
  }
 ],
 "metadata": {
  "anaconda-cloud": {},
  "kernelspec": {
   "display_name": "Python [default]",
   "language": "python",
   "name": "python3"
  },
  "language_info": {
   "codemirror_mode": {
    "name": "ipython",
    "version": 3
   },
   "file_extension": ".py",
   "mimetype": "text/x-python",
   "name": "python",
   "nbconvert_exporter": "python",
   "pygments_lexer": "ipython3",
   "version": "3.5.2"
  }
 },
 "nbformat": 4,
 "nbformat_minor": 1
}
