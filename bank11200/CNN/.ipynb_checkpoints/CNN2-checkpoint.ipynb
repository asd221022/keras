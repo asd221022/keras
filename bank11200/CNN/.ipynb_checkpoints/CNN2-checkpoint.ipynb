{
 "cells": [
  {
   "cell_type": "code",
   "execution_count": 1,
   "metadata": {
    "collapsed": false
   },
   "outputs": [],
   "source": [
    "import numpy \n",
    "import pandas as pd\n",
    "from sklearn.preprocessing import StandardScaler\n",
    "from sklearn.model_selection import train_test_split\n",
    "numpy.random.seed(10)"
   ]
  },
  {
   "cell_type": "code",
   "execution_count": 2,
   "metadata": {
    "collapsed": false
   },
   "outputs": [],
   "source": [
    "all_df = pd.read_csv(\"bank.csv\")"
   ]
  },
  {
   "cell_type": "code",
   "execution_count": 3,
   "metadata": {
    "collapsed": true
   },
   "outputs": [],
   "source": [
    "cols=['age','balance' ,'day', 'duration',\n",
    "       'campaign','pdays','previous','deposit']\n",
    "all_df=all_df[cols]"
   ]
  },
  {
   "cell_type": "code",
   "execution_count": 4,
   "metadata": {
    "collapsed": false
   },
   "outputs": [],
   "source": [
    "all_df['deposit']= all_df['deposit'].map({'no':0, 'yes': 1}).astype(int)"
   ]
  },
  {
   "cell_type": "code",
   "execution_count": 5,
   "metadata": {
    "collapsed": true
   },
   "outputs": [],
   "source": [
    "X=all_df.drop(['deposit'], axis=1).values.astype('float64')"
   ]
  },
  {
   "cell_type": "code",
   "execution_count": 6,
   "metadata": {
    "collapsed": true
   },
   "outputs": [],
   "source": [
    "Y = all_df['deposit'].values.astype('int64')"
   ]
  },
  {
   "cell_type": "code",
   "execution_count": 7,
   "metadata": {
    "collapsed": false
   },
   "outputs": [
    {
     "data": {
      "text/plain": [
       "8929"
      ]
     },
     "execution_count": 7,
     "metadata": {},
     "output_type": "execute_result"
    }
   ],
   "source": [
    "X = StandardScaler().fit_transform(X)\n",
    "train_Features, test_Features, train_Label, test_Label = train_test_split(X, Y, test_size=0.2, random_state=True) \n",
    "len(train_Features)"
   ]
  },
  {
   "cell_type": "code",
   "execution_count": 8,
   "metadata": {
    "collapsed": false
   },
   "outputs": [
    {
     "data": {
      "text/plain": [
       "array([[-0.85890111, -0.3021573 , -1.26574556, -0.8008745 , -0.55416834,\n",
       "        -0.48118405, -0.36325984],\n",
       "       [ 0.14841574, -0.31455937,  0.51565047, -0.97372895, -0.18678537,\n",
       "        -0.48118405, -0.36325984]])"
      ]
     },
     "execution_count": 8,
     "metadata": {},
     "output_type": "execute_result"
    }
   ],
   "source": [
    "test_Features[:2]"
   ]
  },
  {
   "cell_type": "code",
   "execution_count": 9,
   "metadata": {
    "collapsed": false
   },
   "outputs": [
    {
     "data": {
      "text/plain": [
       "array([0, 1, 0, 1])"
      ]
     },
     "execution_count": 9,
     "metadata": {},
     "output_type": "execute_result"
    }
   ],
   "source": [
    "train_Label[:4]"
   ]
  },
  {
   "cell_type": "code",
   "execution_count": 10,
   "metadata": {
    "collapsed": false
   },
   "outputs": [
    {
     "data": {
      "text/plain": [
       "(8929, 7)"
      ]
     },
     "execution_count": 10,
     "metadata": {},
     "output_type": "execute_result"
    }
   ],
   "source": [
    "train_Features.shape"
   ]
  },
  {
   "cell_type": "code",
   "execution_count": 11,
   "metadata": {
    "collapsed": false
   },
   "outputs": [
    {
     "data": {
      "text/plain": [
       "array([0, 0, 0, 1])"
      ]
     },
     "execution_count": 11,
     "metadata": {},
     "output_type": "execute_result"
    }
   ],
   "source": [
    "test_Label[:4]"
   ]
  },
  {
   "cell_type": "code",
   "execution_count": 12,
   "metadata": {
    "collapsed": true
   },
   "outputs": [],
   "source": [
    "train_Features = train_Features.reshape((train_Features.shape[0], train_Features.shape[1], 1))"
   ]
  },
  {
   "cell_type": "code",
   "execution_count": 13,
   "metadata": {
    "collapsed": true
   },
   "outputs": [],
   "source": [
    "test_Features = test_Features.reshape((test_Features.shape[0], test_Features.shape[1], 1))"
   ]
  },
  {
   "cell_type": "code",
   "execution_count": 14,
   "metadata": {
    "collapsed": false
   },
   "outputs": [
    {
     "name": "stderr",
     "output_type": "stream",
     "text": [
      "Using TensorFlow backend.\n"
     ]
    }
   ],
   "source": [
    "from keras.models import Sequential\n",
    "from keras.layers import Dense,Dropout,Flatten,Conv1D,MaxPooling1D\n",
    "from keras.layers.embeddings import Embedding\n",
    "from keras.callbacks import EarlyStopping\n",
    "early_stopping = EarlyStopping(monitor='val_loss', patience=2)"
   ]
  },
  {
   "cell_type": "code",
   "execution_count": 15,
   "metadata": {
    "collapsed": true
   },
   "outputs": [],
   "source": [
    "model = Sequential()"
   ]
  },
  {
   "cell_type": "code",
   "execution_count": 16,
   "metadata": {
    "collapsed": true
   },
   "outputs": [],
   "source": [
    "model.add(Conv1D(filters=7*2,\n",
    "                 kernel_size=3,\n",
    "                 padding='valid',\n",
    "                 input_shape=(7,1), \n",
    "                 activation='relu'))"
   ]
  },
  {
   "cell_type": "code",
   "execution_count": 17,
   "metadata": {
    "collapsed": true
   },
   "outputs": [],
   "source": [
    "model.add(MaxPooling1D(pool_size=1))"
   ]
  },
  {
   "cell_type": "code",
   "execution_count": 18,
   "metadata": {
    "collapsed": false
   },
   "outputs": [],
   "source": [
    "model.add(Conv1D(filters=7,\n",
    "                 kernel_size=3,\n",
    "                 padding='valid',\n",
    "              \n",
    "                 activation='relu'))"
   ]
  },
  {
   "cell_type": "code",
   "execution_count": 19,
   "metadata": {
    "collapsed": true
   },
   "outputs": [],
   "source": [
    "model.add(MaxPooling1D(pool_size=1))"
   ]
  },
  {
   "cell_type": "code",
   "execution_count": 20,
   "metadata": {
    "collapsed": true
   },
   "outputs": [],
   "source": [
    "model.add(Flatten())"
   ]
  },
  {
   "cell_type": "code",
   "execution_count": 21,
   "metadata": {
    "collapsed": true
   },
   "outputs": [],
   "source": [
    "model.add(Dense(7, activation='tanh'))"
   ]
  },
  {
   "cell_type": "code",
   "execution_count": 22,
   "metadata": {
    "collapsed": true
   },
   "outputs": [],
   "source": [
    "model.add(Dense(1,activation='sigmoid'))"
   ]
  },
  {
   "cell_type": "code",
   "execution_count": 23,
   "metadata": {
    "collapsed": false
   },
   "outputs": [
    {
     "name": "stdout",
     "output_type": "stream",
     "text": [
      "_________________________________________________________________\n",
      "Layer (type)                 Output Shape              Param #   \n",
      "=================================================================\n",
      "conv1d_1 (Conv1D)            (None, 5, 14)             56        \n",
      "_________________________________________________________________\n",
      "max_pooling1d_1 (MaxPooling1 (None, 5, 14)             0         \n",
      "_________________________________________________________________\n",
      "conv1d_2 (Conv1D)            (None, 3, 7)              301       \n",
      "_________________________________________________________________\n",
      "max_pooling1d_2 (MaxPooling1 (None, 3, 7)              0         \n",
      "_________________________________________________________________\n",
      "flatten_1 (Flatten)          (None, 21)                0         \n",
      "_________________________________________________________________\n",
      "dense_1 (Dense)              (None, 7)                 154       \n",
      "_________________________________________________________________\n",
      "dense_2 (Dense)              (None, 1)                 8         \n",
      "=================================================================\n",
      "Total params: 519\n",
      "Trainable params: 519\n",
      "Non-trainable params: 0\n",
      "_________________________________________________________________\n"
     ]
    }
   ],
   "source": [
    "model.summary()"
   ]
  },
  {
   "cell_type": "code",
   "execution_count": 24,
   "metadata": {
    "collapsed": false
   },
   "outputs": [],
   "source": [
    "model.compile(loss='binary_crossentropy', \n",
    "              optimizer='adam', metrics=['accuracy'])"
   ]
  },
  {
   "cell_type": "code",
   "execution_count": 25,
   "metadata": {
    "collapsed": false
   },
   "outputs": [
    {
     "name": "stdout",
     "output_type": "stream",
     "text": [
      "Train on 7143 samples, validate on 1786 samples\n",
      "Epoch 1/60\n",
      "7143/7143 [==============================] - 1s 208us/step - loss: 0.6326 - acc: 0.7031 - val_loss: 0.6121 - val_acc: 0.7139\n",
      "Epoch 2/60\n",
      "7143/7143 [==============================] - 0s 23us/step - loss: 0.5971 - acc: 0.7194 - val_loss: 0.5787 - val_acc: 0.7290\n",
      "Epoch 3/60\n",
      "7143/7143 [==============================] - 0s 23us/step - loss: 0.5660 - acc: 0.7320 - val_loss: 0.5525 - val_acc: 0.7368\n",
      "Epoch 4/60\n",
      "7143/7143 [==============================] - 0s 22us/step - loss: 0.5430 - acc: 0.7385 - val_loss: 0.5347 - val_acc: 0.7480\n",
      "Epoch 5/60\n",
      "7143/7143 [==============================] - 0s 25us/step - loss: 0.5274 - acc: 0.7456 - val_loss: 0.5222 - val_acc: 0.7525\n",
      "Epoch 6/60\n",
      "7143/7143 [==============================] - 0s 23us/step - loss: 0.5172 - acc: 0.7505 - val_loss: 0.5137 - val_acc: 0.7542\n",
      "Epoch 7/60\n",
      "7143/7143 [==============================] - 0s 23us/step - loss: 0.5104 - acc: 0.7557 - val_loss: 0.5076 - val_acc: 0.7615\n",
      "Epoch 8/60\n",
      "7143/7143 [==============================] - 0s 23us/step - loss: 0.5054 - acc: 0.7619 - val_loss: 0.5027 - val_acc: 0.7671\n",
      "Epoch 9/60\n",
      "7143/7143 [==============================] - 0s 23us/step - loss: 0.5019 - acc: 0.7624 - val_loss: 0.4989 - val_acc: 0.7704\n",
      "Epoch 10/60\n",
      "7143/7143 [==============================] - 0s 23us/step - loss: 0.4987 - acc: 0.7658 - val_loss: 0.4956 - val_acc: 0.7699\n",
      "Epoch 11/60\n",
      "7143/7143 [==============================] - 0s 25us/step - loss: 0.4960 - acc: 0.7659 - val_loss: 0.4930 - val_acc: 0.7732\n",
      "Epoch 12/60\n",
      "7143/7143 [==============================] - 0s 24us/step - loss: 0.4937 - acc: 0.7708 - val_loss: 0.4903 - val_acc: 0.7760\n",
      "Epoch 13/60\n",
      "7143/7143 [==============================] - 0s 30us/step - loss: 0.4910 - acc: 0.7705 - val_loss: 0.4881 - val_acc: 0.7805\n",
      "Epoch 14/60\n",
      "7143/7143 [==============================] - 0s 55us/step - loss: 0.4889 - acc: 0.7746 - val_loss: 0.4859 - val_acc: 0.7800\n",
      "Epoch 15/60\n",
      "7143/7143 [==============================] - 0s 48us/step - loss: 0.4870 - acc: 0.7771 - val_loss: 0.4837 - val_acc: 0.7828\n",
      "Epoch 16/60\n",
      "7143/7143 [==============================] - 0s 42us/step - loss: 0.4859 - acc: 0.7759 - val_loss: 0.4817 - val_acc: 0.7822\n",
      "Epoch 17/60\n",
      "7143/7143 [==============================] - 0s 35us/step - loss: 0.4843 - acc: 0.7745 - val_loss: 0.4802 - val_acc: 0.7844\n",
      "Epoch 18/60\n",
      "7143/7143 [==============================] - 0s 43us/step - loss: 0.4826 - acc: 0.7784 - val_loss: 0.4780 - val_acc: 0.7878\n",
      "Epoch 19/60\n",
      "7143/7143 [==============================] - 0s 39us/step - loss: 0.4809 - acc: 0.7789 - val_loss: 0.4765 - val_acc: 0.7867\n",
      "Epoch 20/60\n",
      "7143/7143 [==============================] - 0s 28us/step - loss: 0.4796 - acc: 0.7791 - val_loss: 0.4754 - val_acc: 0.7878\n",
      "Epoch 21/60\n",
      "7143/7143 [==============================] - 0s 24us/step - loss: 0.4786 - acc: 0.7823 - val_loss: 0.4737 - val_acc: 0.7867\n",
      "Epoch 22/60\n",
      "7143/7143 [==============================] - 0s 24us/step - loss: 0.4773 - acc: 0.7802 - val_loss: 0.4728 - val_acc: 0.7861\n",
      "Epoch 23/60\n",
      "7143/7143 [==============================] - 0s 24us/step - loss: 0.4757 - acc: 0.7830 - val_loss: 0.4715 - val_acc: 0.7884\n",
      "Epoch 24/60\n",
      "7143/7143 [==============================] - 0s 29us/step - loss: 0.4746 - acc: 0.7830 - val_loss: 0.4700 - val_acc: 0.7895\n",
      "Epoch 25/60\n",
      "7143/7143 [==============================] - 0s 30us/step - loss: 0.4738 - acc: 0.7824 - val_loss: 0.4684 - val_acc: 0.7867\n",
      "Epoch 26/60\n",
      "7143/7143 [==============================] - 0s 37us/step - loss: 0.4727 - acc: 0.7838 - val_loss: 0.4673 - val_acc: 0.7867\n",
      "Epoch 27/60\n",
      "7143/7143 [==============================] - 0s 41us/step - loss: 0.4717 - acc: 0.7844 - val_loss: 0.4667 - val_acc: 0.7884\n",
      "Epoch 28/60\n",
      "7143/7143 [==============================] - 0s 26us/step - loss: 0.4708 - acc: 0.7850 - val_loss: 0.4661 - val_acc: 0.7884\n",
      "Epoch 29/60\n",
      "7143/7143 [==============================] - 0s 39us/step - loss: 0.4701 - acc: 0.7864 - val_loss: 0.4651 - val_acc: 0.7878\n",
      "Epoch 30/60\n",
      "7143/7143 [==============================] - 0s 39us/step - loss: 0.4696 - acc: 0.7859 - val_loss: 0.4640 - val_acc: 0.7878\n",
      "Epoch 31/60\n",
      "7143/7143 [==============================] - 0s 26us/step - loss: 0.4686 - acc: 0.7841 - val_loss: 0.4637 - val_acc: 0.7906\n",
      "Epoch 32/60\n",
      "7143/7143 [==============================] - 0s 31us/step - loss: 0.4688 - acc: 0.7851 - val_loss: 0.4629 - val_acc: 0.7878\n",
      "Epoch 33/60\n",
      "7143/7143 [==============================] - 0s 36us/step - loss: 0.4679 - acc: 0.7852 - val_loss: 0.4618 - val_acc: 0.7900\n",
      "Epoch 34/60\n",
      "7143/7143 [==============================] - 0s 35us/step - loss: 0.4671 - acc: 0.7889 - val_loss: 0.4613 - val_acc: 0.7912\n",
      "Epoch 35/60\n",
      "7143/7143 [==============================] - 0s 44us/step - loss: 0.4661 - acc: 0.7882 - val_loss: 0.4602 - val_acc: 0.7906\n",
      "Epoch 36/60\n",
      "7143/7143 [==============================] - 0s 44us/step - loss: 0.4656 - acc: 0.7872 - val_loss: 0.4600 - val_acc: 0.7934\n",
      "Epoch 37/60\n",
      "7143/7143 [==============================] - 0s 43us/step - loss: 0.4655 - acc: 0.7873 - val_loss: 0.4601 - val_acc: 0.7912\n",
      "Epoch 38/60\n",
      "7143/7143 [==============================] - 0s 26us/step - loss: 0.4649 - acc: 0.7900 - val_loss: 0.4585 - val_acc: 0.7912\n",
      "Epoch 39/60\n",
      "7143/7143 [==============================] - 0s 33us/step - loss: 0.4640 - acc: 0.7890 - val_loss: 0.4581 - val_acc: 0.7878\n",
      "Epoch 40/60\n",
      "7143/7143 [==============================] - 0s 25us/step - loss: 0.4641 - acc: 0.7873 - val_loss: 0.4580 - val_acc: 0.7940\n",
      "Epoch 41/60\n",
      "7143/7143 [==============================] - 0s 25us/step - loss: 0.4649 - acc: 0.7873 - val_loss: 0.4584 - val_acc: 0.7878\n",
      "Epoch 42/60\n",
      "7143/7143 [==============================] - 0s 26us/step - loss: 0.4633 - acc: 0.7880 - val_loss: 0.4572 - val_acc: 0.7900\n",
      "Epoch 43/60\n",
      "7143/7143 [==============================] - 0s 25us/step - loss: 0.4627 - acc: 0.7906 - val_loss: 0.4566 - val_acc: 0.7906\n",
      "Epoch 44/60\n",
      "7143/7143 [==============================] - 0s 24us/step - loss: 0.4623 - acc: 0.7892 - val_loss: 0.4558 - val_acc: 0.7923\n",
      "Epoch 45/60\n",
      "7143/7143 [==============================] - 0s 38us/step - loss: 0.4619 - acc: 0.7892 - val_loss: 0.4559 - val_acc: 0.7906\n",
      "Epoch 46/60\n",
      "7143/7143 [==============================] - 0s 35us/step - loss: 0.4615 - acc: 0.7899 - val_loss: 0.4560 - val_acc: 0.7884\n"
     ]
    }
   ],
   "source": [
    "train_history =model.fit(x=train_Features, \n",
    "                         y=train_Label, \n",
    "                         validation_split=0.2, \n",
    "                         epochs=60, \n",
    "                         batch_size=500,verbose=1,callbacks=[early_stopping])"
   ]
  },
  {
   "cell_type": "code",
   "execution_count": 26,
   "metadata": {
    "collapsed": true
   },
   "outputs": [],
   "source": [
    "import matplotlib.pyplot as plt\n",
    "def show_train_history(train_history,train,validation):\n",
    "    plt.plot(train_history.history[train])\n",
    "    plt.plot(train_history.history[validation])\n",
    "    plt.title('Train History')\n",
    "    plt.ylabel(train)\n",
    "    plt.xlabel('Epoch')\n",
    "    plt.legend(['train', 'validation'], loc='upper left')\n",
    "    plt.show()"
   ]
  },
  {
   "cell_type": "code",
   "execution_count": 27,
   "metadata": {
    "collapsed": false
   },
   "outputs": [
    {
     "data": {
      "image/png": "[encoded data removed]",
      "text/plain": [
       "<matplotlib.figure.Figure at 0x7f1231885978>"
      ]
     },
     "metadata": {},
     "output_type": "display_data"
    }
   ],
   "source": [
    "show_train_history(train_history,'acc','val_acc')"
   ]
  },
  {
   "cell_type": "code",
   "execution_count": 28,
   "metadata": {
    "collapsed": false
   },
   "outputs": [
    {
     "data": {
      "image/png": "[encoded data removed]",
      "text/plain": [
       "<matplotlib.figure.Figure at 0x7f1231885b70>"
      ]
     },
     "metadata": {},
     "output_type": "display_data"
    }
   ],
   "source": [
    "show_train_history(train_history,'loss','val_loss')"
   ]
  },
  {
   "cell_type": "code",
   "execution_count": 29,
   "metadata": {
    "collapsed": false
   },
   "outputs": [
    {
     "name": "stdout",
     "output_type": "stream",
     "text": [
      "2233/2233 [==============================] - 0s 44us/step\n"
     ]
    }
   ],
   "source": [
    "scores = model.evaluate(x=test_Features, \n",
    "                        y=test_Label)"
   ]
  },
  {
   "cell_type": "code",
   "execution_count": 30,
   "metadata": {
    "collapsed": false
   },
   "outputs": [
    {
     "data": {
      "text/plain": [
       "0.7908643079989169"
      ]
     },
     "execution_count": 30,
     "metadata": {},
     "output_type": "execute_result"
    }
   ],
   "source": [
    "scores[1]"
   ]
  }
 ],
 "metadata": {
  "anaconda-cloud": {},
  "kernelspec": {
   "display_name": "Python [default]",
   "language": "python",
   "name": "python3"
  },
  "language_info": {
   "codemirror_mode": {
    "name": "ipython",
    "version": 3
   },
   "file_extension": ".py",
   "mimetype": "text/x-python",
   "name": "python",
   "nbconvert_exporter": "python",
   "pygments_lexer": "ipython3",
   "version": "3.5.2"
  }
 },
 "nbformat": 4,
 "nbformat_minor": 1
}
