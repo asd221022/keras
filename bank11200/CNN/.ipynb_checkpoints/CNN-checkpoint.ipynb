{
 "cells": [
  {
   "cell_type": "code",
   "execution_count": 22,
   "metadata": {
    "collapsed": false
   },
   "outputs": [],
   "source": [
    "import numpy \n",
    "import pandas as pd\n",
    "from sklearn.preprocessing import StandardScaler\n",
    "from sklearn.model_selection import train_test_split\n",
    "numpy.random.seed(10)"
   ]
  },
  {
   "cell_type": "code",
   "execution_count": 23,
   "metadata": {
    "collapsed": false
   },
   "outputs": [],
   "source": [
    "all_df = pd.read_csv(\"bank.csv\")"
   ]
  },
  {
   "cell_type": "code",
   "execution_count": 24,
   "metadata": {
    "collapsed": true
   },
   "outputs": [],
   "source": [
    "cols=['age','balance' ,'day', 'duration',\n",
    "       'campaign','pdays','previous','deposit']\n",
    "all_df=all_df[cols]"
   ]
  },
  {
   "cell_type": "code",
   "execution_count": 25,
   "metadata": {
    "collapsed": false
   },
   "outputs": [],
   "source": [
    "all_df['deposit']= all_df['deposit'].map({'no':0, 'yes': 1}).astype(int)"
   ]
  },
  {
   "cell_type": "code",
   "execution_count": 26,
   "metadata": {
    "collapsed": true
   },
   "outputs": [],
   "source": [
    "X=all_df.drop(['deposit'], axis=1).values.astype('float64')"
   ]
  },
  {
   "cell_type": "code",
   "execution_count": 27,
   "metadata": {
    "collapsed": true
   },
   "outputs": [],
   "source": [
    "Y = all_df['deposit'].values.astype('int64')"
   ]
  },
  {
   "cell_type": "code",
   "execution_count": 28,
   "metadata": {
    "collapsed": false
   },
   "outputs": [
    {
     "data": {
      "text/plain": [
       "8929"
      ]
     },
     "execution_count": 28,
     "metadata": {},
     "output_type": "execute_result"
    }
   ],
   "source": [
    "X = StandardScaler().fit_transform(X)\n",
    "train_Features, test_Features, train_Label, test_Label = train_test_split(X, Y, test_size=0.2, random_state=True) \n",
    "len(train_Features)"
   ]
  },
  {
   "cell_type": "code",
   "execution_count": 29,
   "metadata": {
    "collapsed": false
   },
   "outputs": [
    {
     "data": {
      "text/plain": [
       "array([[-0.85890111, -0.3021573 , -1.26574556, -0.8008745 , -0.55416834,\n",
       "        -0.48118405, -0.36325984],\n",
       "       [ 0.14841574, -0.31455937,  0.51565047, -0.97372895, -0.18678537,\n",
       "        -0.48118405, -0.36325984]])"
      ]
     },
     "execution_count": 29,
     "metadata": {},
     "output_type": "execute_result"
    }
   ],
   "source": [
    "test_Features[:2]"
   ]
  },
  {
   "cell_type": "code",
   "execution_count": 30,
   "metadata": {
    "collapsed": false
   },
   "outputs": [
    {
     "data": {
      "text/plain": [
       "array([0, 1, 0, 1])"
      ]
     },
     "execution_count": 30,
     "metadata": {},
     "output_type": "execute_result"
    }
   ],
   "source": [
    "train_Label[:4]"
   ]
  },
  {
   "cell_type": "code",
   "execution_count": 31,
   "metadata": {
    "collapsed": false
   },
   "outputs": [
    {
     "data": {
      "text/plain": [
       "(8929, 7)"
      ]
     },
     "execution_count": 31,
     "metadata": {},
     "output_type": "execute_result"
    }
   ],
   "source": [
    "train_Features.shape"
   ]
  },
  {
   "cell_type": "code",
   "execution_count": 32,
   "metadata": {
    "collapsed": false
   },
   "outputs": [
    {
     "data": {
      "text/plain": [
       "array([0, 0, 0, 1])"
      ]
     },
     "execution_count": 32,
     "metadata": {},
     "output_type": "execute_result"
    }
   ],
   "source": [
    "test_Label[:4]"
   ]
  },
  {
   "cell_type": "code",
   "execution_count": 33,
   "metadata": {
    "collapsed": true
   },
   "outputs": [],
   "source": [
    "train_Features = train_Features.reshape((train_Features.shape[0], train_Features.shape[1], 1))"
   ]
  },
  {
   "cell_type": "code",
   "execution_count": 34,
   "metadata": {
    "collapsed": true
   },
   "outputs": [],
   "source": [
    "test_Features = test_Features.reshape((test_Features.shape[0], test_Features.shape[1], 1))"
   ]
  },
  {
   "cell_type": "code",
   "execution_count": 35,
   "metadata": {
    "collapsed": false
   },
   "outputs": [],
   "source": [
    "from keras.models import Sequential\n",
    "from keras.layers import Dense,Dropout,Flatten,Conv1D,MaxPooling1D\n",
    "from keras.layers.embeddings import Embedding\n",
    "from keras.callbacks import EarlyStopping\n",
    "early_stopping = EarlyStopping(monitor='val_loss', patience=2)"
   ]
  },
  {
   "cell_type": "code",
   "execution_count": 36,
   "metadata": {
    "collapsed": true
   },
   "outputs": [],
   "source": [
    "model = Sequential()"
   ]
  },
  {
   "cell_type": "code",
   "execution_count": 37,
   "metadata": {
    "collapsed": false
   },
   "outputs": [],
   "source": [
    "model.add(Conv1D(filters=7,\n",
    "                 kernel_size=3,\n",
    "                 padding='valid',\n",
    "                 input_shape=(7,1), \n",
    "                 activation='relu'))"
   ]
  },
  {
   "cell_type": "code",
   "execution_count": 38,
   "metadata": {
    "collapsed": true
   },
   "outputs": [],
   "source": [
    "model.add(MaxPooling1D(pool_size=1))"
   ]
  },
  {
   "cell_type": "code",
   "execution_count": 39,
   "metadata": {
    "collapsed": true
   },
   "outputs": [],
   "source": [
    "model.add(Flatten())"
   ]
  },
  {
   "cell_type": "code",
   "execution_count": 40,
   "metadata": {
    "collapsed": true
   },
   "outputs": [],
   "source": [
    "model.add(Dense(7, activation='tanh'))"
   ]
  },
  {
   "cell_type": "code",
   "execution_count": 41,
   "metadata": {
    "collapsed": true
   },
   "outputs": [],
   "source": [
    "model.add(Dense(1,activation='sigmoid'))"
   ]
  },
  {
   "cell_type": "code",
   "execution_count": 42,
   "metadata": {
    "collapsed": false
   },
   "outputs": [
    {
     "name": "stdout",
     "output_type": "stream",
     "text": [
      "_________________________________________________________________\n",
      "Layer (type)                 Output Shape              Param #   \n",
      "=================================================================\n",
      "conv1d_2 (Conv1D)            (None, 5, 7)              28        \n",
      "_________________________________________________________________\n",
      "max_pooling1d_2 (MaxPooling1 (None, 5, 7)              0         \n",
      "_________________________________________________________________\n",
      "flatten_2 (Flatten)          (None, 35)                0         \n",
      "_________________________________________________________________\n",
      "dense_3 (Dense)              (None, 7)                 252       \n",
      "_________________________________________________________________\n",
      "dense_4 (Dense)              (None, 1)                 8         \n",
      "=================================================================\n",
      "Total params: 288\n",
      "Trainable params: 288\n",
      "Non-trainable params: 0\n",
      "_________________________________________________________________\n"
     ]
    }
   ],
   "source": [
    "model.summary()"
   ]
  },
  {
   "cell_type": "code",
   "execution_count": 43,
   "metadata": {
    "collapsed": false
   },
   "outputs": [],
   "source": [
    "model.compile(loss='binary_crossentropy', \n",
    "              optimizer='adam', metrics=['accuracy'])"
   ]
  },
  {
   "cell_type": "code",
   "execution_count": 44,
   "metadata": {
    "collapsed": false
   },
   "outputs": [
    {
     "name": "stdout",
     "output_type": "stream",
     "text": [
      "Train on 7143 samples, validate on 1786 samples\n",
      "Epoch 1/60\n",
      "7143/7143 [==============================] - 2s 323us/step - loss: 0.6433 - acc: 0.5720 - val_loss: 0.6303 - val_acc: 0.6596\n",
      "Epoch 2/60\n",
      "7143/7143 [==============================] - 0s 23us/step - loss: 0.6132 - acc: 0.6843 - val_loss: 0.6049 - val_acc: 0.7178\n",
      "Epoch 3/60\n",
      "7143/7143 [==============================] - 0s 31us/step - loss: 0.5921 - acc: 0.7288 - val_loss: 0.5880 - val_acc: 0.7363\n",
      "Epoch 4/60\n",
      "7143/7143 [==============================] - 0s 25us/step - loss: 0.5767 - acc: 0.7371 - val_loss: 0.5749 - val_acc: 0.7340\n",
      "Epoch 5/60\n",
      "7143/7143 [==============================] - 0s 34us/step - loss: 0.5644 - acc: 0.7424 - val_loss: 0.5642 - val_acc: 0.7380\n",
      "Epoch 6/60\n",
      "7143/7143 [==============================] - 0s 25us/step - loss: 0.5543 - acc: 0.7460 - val_loss: 0.5555 - val_acc: 0.7441\n",
      "Epoch 7/60\n",
      "7143/7143 [==============================] - 0s 25us/step - loss: 0.5459 - acc: 0.7480 - val_loss: 0.5474 - val_acc: 0.7469\n",
      "Epoch 8/60\n",
      "7143/7143 [==============================] - 0s 19us/step - loss: 0.5383 - acc: 0.7512 - val_loss: 0.5397 - val_acc: 0.7469\n",
      "Epoch 9/60\n",
      "7143/7143 [==============================] - 0s 19us/step - loss: 0.5312 - acc: 0.7533 - val_loss: 0.5329 - val_acc: 0.7514\n",
      "Epoch 10/60\n",
      "7143/7143 [==============================] - 0s 18us/step - loss: 0.5252 - acc: 0.7536 - val_loss: 0.5265 - val_acc: 0.7520\n",
      "Epoch 11/60\n",
      "7143/7143 [==============================] - 0s 26us/step - loss: 0.5195 - acc: 0.7560 - val_loss: 0.5210 - val_acc: 0.7570\n",
      "Epoch 12/60\n",
      "7143/7143 [==============================] - 0s 27us/step - loss: 0.5148 - acc: 0.7568 - val_loss: 0.5160 - val_acc: 0.7553\n",
      "Epoch 13/60\n",
      "7143/7143 [==============================] - 0s 31us/step - loss: 0.5110 - acc: 0.7563 - val_loss: 0.5120 - val_acc: 0.7609\n",
      "Epoch 14/60\n",
      "7143/7143 [==============================] - 0s 32us/step - loss: 0.5075 - acc: 0.7603 - val_loss: 0.5090 - val_acc: 0.7637\n",
      "Epoch 15/60\n",
      "7143/7143 [==============================] - 0s 34us/step - loss: 0.5048 - acc: 0.7617 - val_loss: 0.5060 - val_acc: 0.7643\n",
      "Epoch 16/60\n",
      "7143/7143 [==============================] - 0s 23us/step - loss: 0.5023 - acc: 0.7630 - val_loss: 0.5033 - val_acc: 0.7626\n",
      "Epoch 17/60\n",
      "7143/7143 [==============================] - 0s 30us/step - loss: 0.5000 - acc: 0.7634 - val_loss: 0.5005 - val_acc: 0.7654\n",
      "Epoch 18/60\n",
      "7143/7143 [==============================] - 0s 24us/step - loss: 0.4977 - acc: 0.7659 - val_loss: 0.4986 - val_acc: 0.7688\n",
      "Epoch 19/60\n",
      "7143/7143 [==============================] - 0s 28us/step - loss: 0.4957 - acc: 0.7673 - val_loss: 0.4966 - val_acc: 0.7693\n",
      "Epoch 20/60\n",
      "7143/7143 [==============================] - 0s 26us/step - loss: 0.4941 - acc: 0.7689 - val_loss: 0.4951 - val_acc: 0.7704\n",
      "Epoch 21/60\n",
      "7143/7143 [==============================] - 0s 26us/step - loss: 0.4923 - acc: 0.7705 - val_loss: 0.4934 - val_acc: 0.7704\n",
      "Epoch 22/60\n",
      "7143/7143 [==============================] - 0s 29us/step - loss: 0.4910 - acc: 0.7703 - val_loss: 0.4909 - val_acc: 0.7732\n",
      "Epoch 23/60\n",
      "7143/7143 [==============================] - 0s 31us/step - loss: 0.4895 - acc: 0.7722 - val_loss: 0.4895 - val_acc: 0.7732\n",
      "Epoch 24/60\n",
      "7143/7143 [==============================] - 0s 34us/step - loss: 0.4883 - acc: 0.7732 - val_loss: 0.4882 - val_acc: 0.7721\n",
      "Epoch 25/60\n",
      "7143/7143 [==============================] - 0s 27us/step - loss: 0.4868 - acc: 0.7749 - val_loss: 0.4870 - val_acc: 0.7710\n",
      "Epoch 26/60\n",
      "7143/7143 [==============================] - 0s 32us/step - loss: 0.4858 - acc: 0.7771 - val_loss: 0.4854 - val_acc: 0.7732\n",
      "Epoch 27/60\n",
      "7143/7143 [==============================] - 0s 30us/step - loss: 0.4844 - acc: 0.7757 - val_loss: 0.4839 - val_acc: 0.7749\n",
      "Epoch 28/60\n",
      "7143/7143 [==============================] - 0s 27us/step - loss: 0.4835 - acc: 0.7764 - val_loss: 0.4826 - val_acc: 0.7760\n",
      "Epoch 29/60\n",
      "7143/7143 [==============================] - 0s 25us/step - loss: 0.4824 - acc: 0.7764 - val_loss: 0.4811 - val_acc: 0.7749\n",
      "Epoch 30/60\n",
      "7143/7143 [==============================] - 0s 22us/step - loss: 0.4813 - acc: 0.7782 - val_loss: 0.4800 - val_acc: 0.7755\n",
      "Epoch 31/60\n",
      "7143/7143 [==============================] - 0s 34us/step - loss: 0.4802 - acc: 0.7778 - val_loss: 0.4787 - val_acc: 0.7766\n",
      "Epoch 32/60\n",
      "7143/7143 [==============================] - 0s 34us/step - loss: 0.4794 - acc: 0.7801 - val_loss: 0.4778 - val_acc: 0.7755\n",
      "Epoch 33/60\n",
      "7143/7143 [==============================] - 0s 30us/step - loss: 0.4784 - acc: 0.7809 - val_loss: 0.4765 - val_acc: 0.7766\n",
      "Epoch 34/60\n",
      "7143/7143 [==============================] - 0s 32us/step - loss: 0.4779 - acc: 0.7785 - val_loss: 0.4757 - val_acc: 0.7794\n",
      "Epoch 35/60\n",
      "7143/7143 [==============================] - 0s 26us/step - loss: 0.4768 - acc: 0.7824 - val_loss: 0.4752 - val_acc: 0.7749\n",
      "Epoch 36/60\n",
      "7143/7143 [==============================] - 0s 32us/step - loss: 0.4763 - acc: 0.7826 - val_loss: 0.4740 - val_acc: 0.7766\n",
      "Epoch 37/60\n",
      "7143/7143 [==============================] - 0s 35us/step - loss: 0.4755 - acc: 0.7833 - val_loss: 0.4729 - val_acc: 0.7777\n",
      "Epoch 38/60\n",
      "7143/7143 [==============================] - 0s 31us/step - loss: 0.4749 - acc: 0.7830 - val_loss: 0.4725 - val_acc: 0.7755\n",
      "Epoch 39/60\n",
      "7143/7143 [==============================] - 0s 32us/step - loss: 0.4742 - acc: 0.7827 - val_loss: 0.4715 - val_acc: 0.7766\n",
      "Epoch 40/60\n",
      "7143/7143 [==============================] - 0s 32us/step - loss: 0.4740 - acc: 0.7843 - val_loss: 0.4710 - val_acc: 0.7783\n",
      "Epoch 41/60\n",
      "7143/7143 [==============================] - 0s 38us/step - loss: 0.4731 - acc: 0.7830 - val_loss: 0.4701 - val_acc: 0.7811\n",
      "Epoch 42/60\n",
      "7143/7143 [==============================] - 0s 33us/step - loss: 0.4726 - acc: 0.7841 - val_loss: 0.4695 - val_acc: 0.7822\n",
      "Epoch 43/60\n",
      "7143/7143 [==============================] - 0s 31us/step - loss: 0.4722 - acc: 0.7847 - val_loss: 0.4688 - val_acc: 0.7822\n",
      "Epoch 44/60\n",
      "7143/7143 [==============================] - 0s 26us/step - loss: 0.4716 - acc: 0.7837 - val_loss: 0.4687 - val_acc: 0.7833\n",
      "Epoch 45/60\n",
      "7143/7143 [==============================] - 0s 37us/step - loss: 0.4713 - acc: 0.7854 - val_loss: 0.4687 - val_acc: 0.7861\n",
      "Epoch 46/60\n",
      "7143/7143 [==============================] - 0s 21us/step - loss: 0.4711 - acc: 0.7850 - val_loss: 0.4676 - val_acc: 0.7844\n",
      "Epoch 47/60\n",
      "7143/7143 [==============================] - 0s 35us/step - loss: 0.4706 - acc: 0.7866 - val_loss: 0.4674 - val_acc: 0.7867\n",
      "Epoch 48/60\n",
      "7143/7143 [==============================] - 0s 26us/step - loss: 0.4702 - acc: 0.7852 - val_loss: 0.4667 - val_acc: 0.7861\n",
      "Epoch 49/60\n",
      "7143/7143 [==============================] - 0s 25us/step - loss: 0.4698 - acc: 0.7854 - val_loss: 0.4665 - val_acc: 0.7856\n",
      "Epoch 50/60\n",
      "7143/7143 [==============================] - 0s 24us/step - loss: 0.4694 - acc: 0.7852 - val_loss: 0.4658 - val_acc: 0.7861\n",
      "Epoch 51/60\n",
      "7143/7143 [==============================] - 0s 23us/step - loss: 0.4691 - acc: 0.7855 - val_loss: 0.4657 - val_acc: 0.7856\n",
      "Epoch 52/60\n",
      "7143/7143 [==============================] - 0s 29us/step - loss: 0.4688 - acc: 0.7861 - val_loss: 0.4655 - val_acc: 0.7872\n",
      "Epoch 53/60\n",
      "7143/7143 [==============================] - 0s 33us/step - loss: 0.4685 - acc: 0.7879 - val_loss: 0.4650 - val_acc: 0.7856\n",
      "Epoch 54/60\n",
      "7143/7143 [==============================] - 0s 33us/step - loss: 0.4683 - acc: 0.7859 - val_loss: 0.4649 - val_acc: 0.7867\n",
      "Epoch 55/60\n",
      "7143/7143 [==============================] - 0s 24us/step - loss: 0.4680 - acc: 0.7858 - val_loss: 0.4647 - val_acc: 0.7861\n",
      "Epoch 56/60\n",
      "7143/7143 [==============================] - 0s 33us/step - loss: 0.4680 - acc: 0.7864 - val_loss: 0.4648 - val_acc: 0.7872\n",
      "Epoch 57/60\n",
      "7143/7143 [==============================] - 0s 33us/step - loss: 0.4677 - acc: 0.7876 - val_loss: 0.4646 - val_acc: 0.7861\n",
      "Epoch 58/60\n",
      "7143/7143 [==============================] - 0s 36us/step - loss: 0.4675 - acc: 0.7871 - val_loss: 0.4639 - val_acc: 0.7861\n",
      "Epoch 59/60\n",
      "7143/7143 [==============================] - 0s 35us/step - loss: 0.4672 - acc: 0.7885 - val_loss: 0.4644 - val_acc: 0.7878\n",
      "Epoch 60/60\n",
      "7143/7143 [==============================] - 0s 35us/step - loss: 0.4671 - acc: 0.7883 - val_loss: 0.4640 - val_acc: 0.7867\n"
     ]
    }
   ],
   "source": [
    "train_history =model.fit(x=train_Features, \n",
    "                         y=train_Label, \n",
    "                         validation_split=0.2, \n",
    "                         epochs=60, \n",
    "                         batch_size=500,verbose=1,callbacks=[early_stopping])"
   ]
  },
  {
   "cell_type": "code",
   "execution_count": 45,
   "metadata": {
    "collapsed": true
   },
   "outputs": [],
   "source": [
    "import matplotlib.pyplot as plt\n",
    "def show_train_history(train_history,train,validation):\n",
    "    plt.plot(train_history.history[train])\n",
    "    plt.plot(train_history.history[validation])\n",
    "    plt.title('Train History')\n",
    "    plt.ylabel(train)\n",
    "    plt.xlabel('Epoch')\n",
    "    plt.legend(['train', 'validation'], loc='upper left')\n",
    "    plt.show()"
   ]
  },
  {
   "cell_type": "code",
   "execution_count": 46,
   "metadata": {
    "collapsed": false
   },
   "outputs": [
    {
     "data": {
      "image/png": "[encoded data removed]",
      "text/plain": [
       "<matplotlib.figure.Figure at 0x7f3728190f98>"
      ]
     },
     "metadata": {},
     "output_type": "display_data"
    }
   ],
   "source": [
    "show_train_history(train_history,'acc','val_acc')"
   ]
  },
  {
   "cell_type": "code",
   "execution_count": 47,
   "metadata": {
    "collapsed": false
   },
   "outputs": [
    {
     "data": {
      "image/png": "[encoded data removed]",
      "text/plain": [
       "<matplotlib.figure.Figure at 0x7f37280fecc0>"
      ]
     },
     "metadata": {},
     "output_type": "display_data"
    }
   ],
   "source": [
    "show_train_history(train_history,'loss','val_loss')"
   ]
  },
  {
   "cell_type": "code",
   "execution_count": 48,
   "metadata": {
    "collapsed": false
   },
   "outputs": [
    {
     "name": "stdout",
     "output_type": "stream",
     "text": [
      "2233/2233 [==============================] - 0s 80us/step\n"
     ]
    }
   ],
   "source": [
    "scores = model.evaluate(x=test_Features, \n",
    "                        y=test_Label)"
   ]
  },
  {
   "cell_type": "code",
   "execution_count": 49,
   "metadata": {
    "collapsed": false
   },
   "outputs": [
    {
     "data": {
      "text/plain": [
       "0.7819077477453004"
      ]
     },
     "execution_count": 49,
     "metadata": {},
     "output_type": "execute_result"
    }
   ],
   "source": [
    "scores[1]"
   ]
  }
 ],
 "metadata": {
  "anaconda-cloud": {},
  "kernelspec": {
   "display_name": "Python [default]",
   "language": "python",
   "name": "python3"
  },
  "language_info": {
   "codemirror_mode": {
    "name": "ipython",
    "version": 3
   },
   "file_extension": ".py",
   "mimetype": "text/x-python",
   "name": "python",
   "nbconvert_exporter": "python",
   "pygments_lexer": "ipython3",
   "version": "3.5.2"
  }
 },
 "nbformat": 4,
 "nbformat_minor": 1
}
