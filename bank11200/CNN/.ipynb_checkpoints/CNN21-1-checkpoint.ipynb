{
 "cells": [
  {
   "cell_type": "code",
   "execution_count": 29,
   "metadata": {
    "collapsed": false
   },
   "outputs": [],
   "source": [
    "import numpy \n",
    "import pandas as pd\n",
    "from sklearn.preprocessing import StandardScaler\n",
    "from sklearn.model_selection import train_test_split\n",
    "numpy.random.seed(10)"
   ]
  },
  {
   "cell_type": "code",
   "execution_count": 30,
   "metadata": {
    "collapsed": false
   },
   "outputs": [],
   "source": [
    "all_df = pd.read_csv(\"bank.csv\")"
   ]
  },
  {
   "cell_type": "code",
   "execution_count": 31,
   "metadata": {
    "collapsed": true
   },
   "outputs": [],
   "source": [
    "cols=['age','balance' ,'day', 'duration',\n",
    "       'campaign','pdays','previous','deposit']\n",
    "all_df=all_df[cols]"
   ]
  },
  {
   "cell_type": "code",
   "execution_count": 32,
   "metadata": {
    "collapsed": false
   },
   "outputs": [],
   "source": [
    "all_df['deposit']= all_df['deposit'].map({'no':0, 'yes': 1}).astype(int)"
   ]
  },
  {
   "cell_type": "code",
   "execution_count": 33,
   "metadata": {
    "collapsed": true
   },
   "outputs": [],
   "source": [
    "X=all_df.drop(['deposit'], axis=1).values.astype('float64')"
   ]
  },
  {
   "cell_type": "code",
   "execution_count": 34,
   "metadata": {
    "collapsed": true
   },
   "outputs": [],
   "source": [
    "Y = all_df['deposit'].values.astype('int64')"
   ]
  },
  {
   "cell_type": "code",
   "execution_count": 35,
   "metadata": {
    "collapsed": false
   },
   "outputs": [
    {
     "data": {
      "text/plain": [
       "8929"
      ]
     },
     "execution_count": 35,
     "metadata": {},
     "output_type": "execute_result"
    }
   ],
   "source": [
    "X = StandardScaler().fit_transform(X)\n",
    "train_Features, test_Features, train_Label, test_Label = train_test_split(X, Y, test_size=0.2, random_state=True) \n",
    "len(train_Features)"
   ]
  },
  {
   "cell_type": "code",
   "execution_count": 36,
   "metadata": {
    "collapsed": false
   },
   "outputs": [
    {
     "data": {
      "text/plain": [
       "array([[-0.85890111, -0.3021573 , -1.26574556, -0.8008745 , -0.55416834,\n",
       "        -0.48118405, -0.36325984],\n",
       "       [ 0.14841574, -0.31455937,  0.51565047, -0.97372895, -0.18678537,\n",
       "        -0.48118405, -0.36325984]])"
      ]
     },
     "execution_count": 36,
     "metadata": {},
     "output_type": "execute_result"
    }
   ],
   "source": [
    "test_Features[:2]"
   ]
  },
  {
   "cell_type": "code",
   "execution_count": 37,
   "metadata": {
    "collapsed": false
   },
   "outputs": [
    {
     "data": {
      "text/plain": [
       "array([0, 1, 0, 1])"
      ]
     },
     "execution_count": 37,
     "metadata": {},
     "output_type": "execute_result"
    }
   ],
   "source": [
    "train_Label[:4]"
   ]
  },
  {
   "cell_type": "code",
   "execution_count": 38,
   "metadata": {
    "collapsed": false
   },
   "outputs": [
    {
     "data": {
      "text/plain": [
       "(8929, 7)"
      ]
     },
     "execution_count": 38,
     "metadata": {},
     "output_type": "execute_result"
    }
   ],
   "source": [
    "train_Features.shape"
   ]
  },
  {
   "cell_type": "code",
   "execution_count": 39,
   "metadata": {
    "collapsed": false
   },
   "outputs": [
    {
     "data": {
      "text/plain": [
       "array([0, 0, 0, 1])"
      ]
     },
     "execution_count": 39,
     "metadata": {},
     "output_type": "execute_result"
    }
   ],
   "source": [
    "test_Label[:4]"
   ]
  },
  {
   "cell_type": "code",
   "execution_count": 40,
   "metadata": {
    "collapsed": true
   },
   "outputs": [],
   "source": [
    "train_Features = train_Features.reshape((train_Features.shape[0], train_Features.shape[1], 1))"
   ]
  },
  {
   "cell_type": "code",
   "execution_count": 41,
   "metadata": {
    "collapsed": true
   },
   "outputs": [],
   "source": [
    "test_Features = test_Features.reshape((test_Features.shape[0], test_Features.shape[1], 1))"
   ]
  },
  {
   "cell_type": "code",
   "execution_count": 42,
   "metadata": {
    "collapsed": false
   },
   "outputs": [],
   "source": [
    "from keras.models import Sequential\n",
    "from keras.layers import Dense,Dropout,Flatten,Conv1D,MaxPooling1D\n",
    "from keras.layers.embeddings import Embedding\n",
    "from keras.callbacks import EarlyStopping\n",
    "early_stopping = EarlyStopping(monitor='val_loss', patience=2)"
   ]
  },
  {
   "cell_type": "code",
   "execution_count": 43,
   "metadata": {
    "collapsed": true
   },
   "outputs": [],
   "source": [
    "model = Sequential()"
   ]
  },
  {
   "cell_type": "code",
   "execution_count": 44,
   "metadata": {
    "collapsed": false
   },
   "outputs": [],
   "source": [
    "model.add(Conv1D(filters=21,\n",
    "                 kernel_size=3,\n",
    "                 padding='valid',\n",
    "                 input_shape=(7,1), \n",
    "                 activation='relu'))"
   ]
  },
  {
   "cell_type": "code",
   "execution_count": 45,
   "metadata": {
    "collapsed": true
   },
   "outputs": [],
   "source": [
    "model.add(MaxPooling1D(pool_size=1))"
   ]
  },
  {
   "cell_type": "code",
   "execution_count": 46,
   "metadata": {
    "collapsed": true
   },
   "outputs": [],
   "source": [
    "model.add(Flatten())"
   ]
  },
  {
   "cell_type": "code",
   "execution_count": 47,
   "metadata": {
    "collapsed": true
   },
   "outputs": [],
   "source": [
    "model.add(Dense(7, activation='tanh'))"
   ]
  },
  {
   "cell_type": "code",
   "execution_count": 48,
   "metadata": {
    "collapsed": true
   },
   "outputs": [],
   "source": [
    "model.add(Dense(1,activation='sigmoid'))"
   ]
  },
  {
   "cell_type": "code",
   "execution_count": 49,
   "metadata": {
    "collapsed": false
   },
   "outputs": [
    {
     "name": "stdout",
     "output_type": "stream",
     "text": [
      "_________________________________________________________________\n",
      "Layer (type)                 Output Shape              Param #   \n",
      "=================================================================\n",
      "conv1d_2 (Conv1D)            (None, 5, 21)             84        \n",
      "_________________________________________________________________\n",
      "max_pooling1d_2 (MaxPooling1 (None, 5, 21)             0         \n",
      "_________________________________________________________________\n",
      "flatten_2 (Flatten)          (None, 105)               0         \n",
      "_________________________________________________________________\n",
      "dense_3 (Dense)              (None, 7)                 742       \n",
      "_________________________________________________________________\n",
      "dense_4 (Dense)              (None, 1)                 8         \n",
      "=================================================================\n",
      "Total params: 834\n",
      "Trainable params: 834\n",
      "Non-trainable params: 0\n",
      "_________________________________________________________________\n"
     ]
    }
   ],
   "source": [
    "model.summary()"
   ]
  },
  {
   "cell_type": "code",
   "execution_count": 50,
   "metadata": {
    "collapsed": false
   },
   "outputs": [],
   "source": [
    "model.compile(loss='binary_crossentropy', \n",
    "              optimizer='adam', metrics=['accuracy'])"
   ]
  },
  {
   "cell_type": "code",
   "execution_count": 51,
   "metadata": {
    "collapsed": false
   },
   "outputs": [
    {
     "name": "stdout",
     "output_type": "stream",
     "text": [
      "Train on 7143 samples, validate on 1786 samples\n",
      "Epoch 1/30\n",
      "7143/7143 [==============================] - 2s 280us/step - loss: 0.6741 - acc: 0.5647 - val_loss: 0.6331 - val_acc: 0.7088\n",
      "Epoch 2/30\n",
      "7143/7143 [==============================] - 0s 31us/step - loss: 0.6110 - acc: 0.7242 - val_loss: 0.5834 - val_acc: 0.7324\n",
      "Epoch 3/30\n",
      "7143/7143 [==============================] - 0s 56us/step - loss: 0.5694 - acc: 0.7448 - val_loss: 0.5512 - val_acc: 0.7402\n",
      "Epoch 4/30\n",
      "7143/7143 [==============================] - 0s 43us/step - loss: 0.5422 - acc: 0.7474 - val_loss: 0.5310 - val_acc: 0.7424\n",
      "Epoch 5/30\n",
      "7143/7143 [==============================] - 0s 46us/step - loss: 0.5251 - acc: 0.7509 - val_loss: 0.5189 - val_acc: 0.7469\n",
      "Epoch 6/30\n",
      "7143/7143 [==============================] - 0s 44us/step - loss: 0.5150 - acc: 0.7564 - val_loss: 0.5108 - val_acc: 0.7553\n",
      "Epoch 7/30\n",
      "7143/7143 [==============================] - 0s 64us/step - loss: 0.5082 - acc: 0.7585 - val_loss: 0.5050 - val_acc: 0.7564\n",
      "Epoch 8/30\n",
      "7143/7143 [==============================] - 0s 52us/step - loss: 0.5029 - acc: 0.7638 - val_loss: 0.5002 - val_acc: 0.7643\n",
      "Epoch 9/30\n",
      "7143/7143 [==============================] - 0s 46us/step - loss: 0.4990 - acc: 0.7669 - val_loss: 0.4964 - val_acc: 0.7671\n",
      "Epoch 10/30\n",
      "7143/7143 [==============================] - 0s 42us/step - loss: 0.4958 - acc: 0.7682 - val_loss: 0.4929 - val_acc: 0.7676\n",
      "Epoch 11/30\n",
      "7143/7143 [==============================] - 0s 59us/step - loss: 0.4926 - acc: 0.7718 - val_loss: 0.4897 - val_acc: 0.7699\n",
      "Epoch 12/30\n",
      "7143/7143 [==============================] - 0s 38us/step - loss: 0.4898 - acc: 0.7733 - val_loss: 0.4868 - val_acc: 0.7693\n",
      "Epoch 13/30\n",
      "7143/7143 [==============================] - 0s 39us/step - loss: 0.4874 - acc: 0.7742 - val_loss: 0.4841 - val_acc: 0.7732\n",
      "Epoch 14/30\n",
      "7143/7143 [==============================] - 0s 41us/step - loss: 0.4852 - acc: 0.7768 - val_loss: 0.4818 - val_acc: 0.7744\n",
      "Epoch 15/30\n",
      "7143/7143 [==============================] - 0s 41us/step - loss: 0.4828 - acc: 0.7773 - val_loss: 0.4797 - val_acc: 0.7749\n",
      "Epoch 16/30\n",
      "7143/7143 [==============================] - 0s 48us/step - loss: 0.4808 - acc: 0.7785 - val_loss: 0.4774 - val_acc: 0.7738\n",
      "Epoch 17/30\n",
      "7143/7143 [==============================] - 0s 45us/step - loss: 0.4792 - acc: 0.7803 - val_loss: 0.4750 - val_acc: 0.7800\n",
      "Epoch 18/30\n",
      "7143/7143 [==============================] - 0s 47us/step - loss: 0.4773 - acc: 0.7795 - val_loss: 0.4735 - val_acc: 0.7844\n",
      "Epoch 19/30\n",
      "7143/7143 [==============================] - 0s 39us/step - loss: 0.4758 - acc: 0.7802 - val_loss: 0.4720 - val_acc: 0.7794\n",
      "Epoch 20/30\n",
      "7143/7143 [==============================] - 0s 34us/step - loss: 0.4748 - acc: 0.7815 - val_loss: 0.4708 - val_acc: 0.7805\n",
      "Epoch 21/30\n",
      "7143/7143 [==============================] - 0s 31us/step - loss: 0.4733 - acc: 0.7836 - val_loss: 0.4697 - val_acc: 0.7839\n",
      "Epoch 22/30\n",
      "7143/7143 [==============================] - 0s 59us/step - loss: 0.4728 - acc: 0.7823 - val_loss: 0.4680 - val_acc: 0.7844\n",
      "Epoch 23/30\n",
      "7143/7143 [==============================] - 0s 41us/step - loss: 0.4714 - acc: 0.7844 - val_loss: 0.4676 - val_acc: 0.7850\n",
      "Epoch 24/30\n",
      "7143/7143 [==============================] - 0s 39us/step - loss: 0.4710 - acc: 0.7843 - val_loss: 0.4668 - val_acc: 0.7861\n",
      "Epoch 25/30\n",
      "7143/7143 [==============================] - 0s 43us/step - loss: 0.4701 - acc: 0.7861 - val_loss: 0.4660 - val_acc: 0.7844\n",
      "Epoch 26/30\n",
      "7143/7143 [==============================] - 0s 39us/step - loss: 0.4695 - acc: 0.7851 - val_loss: 0.4651 - val_acc: 0.7895\n",
      "Epoch 27/30\n",
      "7143/7143 [==============================] - 0s 46us/step - loss: 0.4687 - acc: 0.7859 - val_loss: 0.4645 - val_acc: 0.7895\n",
      "Epoch 28/30\n",
      "7143/7143 [==============================] - 0s 47us/step - loss: 0.4685 - acc: 0.7862 - val_loss: 0.4641 - val_acc: 0.7895\n",
      "Epoch 29/30\n",
      "7143/7143 [==============================] - 0s 44us/step - loss: 0.4679 - acc: 0.7862 - val_loss: 0.4636 - val_acc: 0.7895\n",
      "Epoch 30/30\n",
      "7143/7143 [==============================] - 0s 39us/step - loss: 0.4674 - acc: 0.7871 - val_loss: 0.4631 - val_acc: 0.7900\n"
     ]
    }
   ],
   "source": [
    "train_history =model.fit(x=train_Features, \n",
    "                         y=train_Label, \n",
    "                         validation_split=0.2, \n",
    "                         epochs=30, \n",
    "                         batch_size=500,verbose=1,callbacks=[early_stopping])"
   ]
  },
  {
   "cell_type": "code",
   "execution_count": 52,
   "metadata": {
    "collapsed": true
   },
   "outputs": [],
   "source": [
    "import matplotlib.pyplot as plt\n",
    "def show_train_history(train_history,train,validation):\n",
    "    plt.plot(train_history.history[train])\n",
    "    plt.plot(train_history.history[validation])\n",
    "    plt.title('Train History')\n",
    "    plt.ylabel(train)\n",
    "    plt.xlabel('Epoch')\n",
    "    plt.legend(['train', 'validation'], loc='upper left')\n",
    "    plt.show()"
   ]
  },
  {
   "cell_type": "code",
   "execution_count": 53,
   "metadata": {
    "collapsed": false
   },
   "outputs": [
    {
     "data": {
      "image/png": "[encoded data removed]",
      "text/plain": [
       "<matplotlib.figure.Figure at 0x7f65106893c8>"
      ]
     },
     "metadata": {},
     "output_type": "display_data"
    }
   ],
   "source": [
    "show_train_history(train_history,'acc','val_acc')"
   ]
  },
  {
   "cell_type": "code",
   "execution_count": 54,
   "metadata": {
    "collapsed": false
   },
   "outputs": [
    {
     "data": {
      "image/png": "[encoded data removed]",
      "text/plain": [
       "<matplotlib.figure.Figure at 0x7f651071fc88>"
      ]
     },
     "metadata": {},
     "output_type": "display_data"
    }
   ],
   "source": [
    "show_train_history(train_history,'loss','val_loss')"
   ]
  },
  {
   "cell_type": "code",
   "execution_count": 55,
   "metadata": {
    "collapsed": false
   },
   "outputs": [
    {
     "name": "stdout",
     "output_type": "stream",
     "text": [
      "2233/2233 [==============================] - 0s 72us/step\n"
     ]
    }
   ],
   "source": [
    "scores = model.evaluate(x=test_Features, \n",
    "                        y=test_Label)"
   ]
  },
  {
   "cell_type": "code",
   "execution_count": 56,
   "metadata": {
    "collapsed": false
   },
   "outputs": [
    {
     "data": {
      "text/plain": [
       "0.7819077477453004"
      ]
     },
     "execution_count": 56,
     "metadata": {},
     "output_type": "execute_result"
    }
   ],
   "source": [
    "scores[1]"
   ]
  }
 ],
 "metadata": {
  "anaconda-cloud": {},
  "kernelspec": {
   "display_name": "Python [default]",
   "language": "python",
   "name": "python3"
  },
  "language_info": {
   "codemirror_mode": {
    "name": "ipython",
    "version": 3
   },
   "file_extension": ".py",
   "mimetype": "text/x-python",
   "name": "python",
   "nbconvert_exporter": "python",
   "pygments_lexer": "ipython3",
   "version": "3.5.2"
  }
 },
 "nbformat": 4,
 "nbformat_minor": 1
}
