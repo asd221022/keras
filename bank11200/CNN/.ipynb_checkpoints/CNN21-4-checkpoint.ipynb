{
 "cells": [
  {
   "cell_type": "code",
   "execution_count": 35,
   "metadata": {
    "collapsed": false
   },
   "outputs": [],
   "source": [
    "import numpy \n",
    "import pandas as pd\n",
    "from sklearn.preprocessing import StandardScaler\n",
    "from sklearn.model_selection import train_test_split\n",
    "numpy.random.seed(10)"
   ]
  },
  {
   "cell_type": "code",
   "execution_count": 36,
   "metadata": {
    "collapsed": false
   },
   "outputs": [],
   "source": [
    "all_df = pd.read_csv(\"bank.csv\")"
   ]
  },
  {
   "cell_type": "code",
   "execution_count": 37,
   "metadata": {
    "collapsed": true
   },
   "outputs": [],
   "source": [
    "cols=['age','balance' ,'day', 'duration',\n",
    "       'campaign','pdays','previous','deposit']\n",
    "all_df=all_df[cols]"
   ]
  },
  {
   "cell_type": "code",
   "execution_count": 38,
   "metadata": {
    "collapsed": false
   },
   "outputs": [],
   "source": [
    "all_df['deposit']= all_df['deposit'].map({'no':0, 'yes': 1}).astype(int)"
   ]
  },
  {
   "cell_type": "code",
   "execution_count": 39,
   "metadata": {
    "collapsed": true
   },
   "outputs": [],
   "source": [
    "X=all_df.drop(['deposit'], axis=1).values.astype('float64')"
   ]
  },
  {
   "cell_type": "code",
   "execution_count": 40,
   "metadata": {
    "collapsed": true
   },
   "outputs": [],
   "source": [
    "Y = all_df['deposit'].values.astype('int64')"
   ]
  },
  {
   "cell_type": "code",
   "execution_count": 41,
   "metadata": {
    "collapsed": false
   },
   "outputs": [
    {
     "data": {
      "text/plain": [
       "8929"
      ]
     },
     "execution_count": 41,
     "metadata": {},
     "output_type": "execute_result"
    }
   ],
   "source": [
    "X = StandardScaler().fit_transform(X)\n",
    "train_Features, test_Features, train_Label, test_Label = train_test_split(X, Y, test_size=0.2, random_state=True) \n",
    "len(train_Features)"
   ]
  },
  {
   "cell_type": "code",
   "execution_count": 42,
   "metadata": {
    "collapsed": false
   },
   "outputs": [
    {
     "data": {
      "text/plain": [
       "array([[-0.85890111, -0.3021573 , -1.26574556, -0.8008745 , -0.55416834,\n",
       "        -0.48118405, -0.36325984],\n",
       "       [ 0.14841574, -0.31455937,  0.51565047, -0.97372895, -0.18678537,\n",
       "        -0.48118405, -0.36325984]])"
      ]
     },
     "execution_count": 42,
     "metadata": {},
     "output_type": "execute_result"
    }
   ],
   "source": [
    "test_Features[:2]"
   ]
  },
  {
   "cell_type": "code",
   "execution_count": 43,
   "metadata": {
    "collapsed": false
   },
   "outputs": [
    {
     "data": {
      "text/plain": [
       "array([0, 1, 0, 1])"
      ]
     },
     "execution_count": 43,
     "metadata": {},
     "output_type": "execute_result"
    }
   ],
   "source": [
    "train_Label[:4]"
   ]
  },
  {
   "cell_type": "code",
   "execution_count": 44,
   "metadata": {
    "collapsed": false
   },
   "outputs": [
    {
     "data": {
      "text/plain": [
       "(8929, 7)"
      ]
     },
     "execution_count": 44,
     "metadata": {},
     "output_type": "execute_result"
    }
   ],
   "source": [
    "train_Features.shape"
   ]
  },
  {
   "cell_type": "code",
   "execution_count": 45,
   "metadata": {
    "collapsed": false
   },
   "outputs": [
    {
     "data": {
      "text/plain": [
       "array([0, 0, 0, 1])"
      ]
     },
     "execution_count": 45,
     "metadata": {},
     "output_type": "execute_result"
    }
   ],
   "source": [
    "test_Label[:4]"
   ]
  },
  {
   "cell_type": "code",
   "execution_count": 46,
   "metadata": {
    "collapsed": true
   },
   "outputs": [],
   "source": [
    "train_Features = train_Features.reshape((train_Features.shape[0], train_Features.shape[1], 1))"
   ]
  },
  {
   "cell_type": "code",
   "execution_count": 47,
   "metadata": {
    "collapsed": true
   },
   "outputs": [],
   "source": [
    "test_Features = test_Features.reshape((test_Features.shape[0], test_Features.shape[1], 1))"
   ]
  },
  {
   "cell_type": "code",
   "execution_count": 48,
   "metadata": {
    "collapsed": false
   },
   "outputs": [],
   "source": [
    "from keras.models import Sequential\n",
    "from keras.layers import Dense,Dropout,Flatten,Conv1D,MaxPooling1D\n",
    "from keras.layers.embeddings import Embedding\n",
    "from keras.callbacks import EarlyStopping\n",
    "early_stopping = EarlyStopping(monitor='val_loss', patience=2)"
   ]
  },
  {
   "cell_type": "code",
   "execution_count": 49,
   "metadata": {
    "collapsed": true
   },
   "outputs": [],
   "source": [
    "model = Sequential()"
   ]
  },
  {
   "cell_type": "code",
   "execution_count": 50,
   "metadata": {
    "collapsed": true
   },
   "outputs": [],
   "source": [
    "model.add(Conv1D(filters=21*4,\n",
    "                 kernel_size=1,\n",
    "                 padding='valid',\n",
    "                 input_shape=(7,1), \n",
    "                 activation='relu'))"
   ]
  },
  {
   "cell_type": "code",
   "execution_count": 51,
   "metadata": {
    "collapsed": true
   },
   "outputs": [],
   "source": [
    "model.add(MaxPooling1D(pool_size=1))"
   ]
  },
  {
   "cell_type": "code",
   "execution_count": 52,
   "metadata": {
    "collapsed": true
   },
   "outputs": [],
   "source": [
    "model.add(Conv1D(filters=21*3,\n",
    "                 kernel_size=1,\n",
    "                 padding='valid',\n",
    "                 activation='relu'))"
   ]
  },
  {
   "cell_type": "code",
   "execution_count": 53,
   "metadata": {
    "collapsed": true
   },
   "outputs": [],
   "source": [
    "model.add(MaxPooling1D(pool_size=1))"
   ]
  },
  {
   "cell_type": "code",
   "execution_count": 54,
   "metadata": {
    "collapsed": false
   },
   "outputs": [],
   "source": [
    "model.add(Conv1D(filters=21*2,\n",
    "                 kernel_size=1,\n",
    "                 padding='valid', \n",
    "                 activation='relu'))"
   ]
  },
  {
   "cell_type": "code",
   "execution_count": 55,
   "metadata": {
    "collapsed": true
   },
   "outputs": [],
   "source": [
    "model.add(MaxPooling1D(pool_size=1))"
   ]
  },
  {
   "cell_type": "code",
   "execution_count": 56,
   "metadata": {
    "collapsed": false
   },
   "outputs": [],
   "source": [
    "model.add(Conv1D(filters=21,\n",
    "                 kernel_size=1,\n",
    "                 padding='valid', \n",
    "                 activation='relu'))"
   ]
  },
  {
   "cell_type": "code",
   "execution_count": 57,
   "metadata": {
    "collapsed": true
   },
   "outputs": [],
   "source": [
    "model.add(MaxPooling1D(pool_size=1))"
   ]
  },
  {
   "cell_type": "code",
   "execution_count": 58,
   "metadata": {
    "collapsed": true
   },
   "outputs": [],
   "source": [
    "model.add(Flatten())"
   ]
  },
  {
   "cell_type": "code",
   "execution_count": 59,
   "metadata": {
    "collapsed": true
   },
   "outputs": [],
   "source": [
    "model.add(Dense(7, activation='tanh'))"
   ]
  },
  {
   "cell_type": "code",
   "execution_count": 60,
   "metadata": {
    "collapsed": true
   },
   "outputs": [],
   "source": [
    "model.add(Dense(1,activation='sigmoid'))"
   ]
  },
  {
   "cell_type": "code",
   "execution_count": 61,
   "metadata": {
    "collapsed": false
   },
   "outputs": [
    {
     "name": "stdout",
     "output_type": "stream",
     "text": [
      "_________________________________________________________________\n",
      "Layer (type)                 Output Shape              Param #   \n",
      "=================================================================\n",
      "conv1d_5 (Conv1D)            (None, 7, 84)             168       \n",
      "_________________________________________________________________\n",
      "max_pooling1d_5 (MaxPooling1 (None, 7, 84)             0         \n",
      "_________________________________________________________________\n",
      "conv1d_6 (Conv1D)            (None, 7, 63)             5355      \n",
      "_________________________________________________________________\n",
      "max_pooling1d_6 (MaxPooling1 (None, 7, 63)             0         \n",
      "_________________________________________________________________\n",
      "conv1d_7 (Conv1D)            (None, 7, 42)             2688      \n",
      "_________________________________________________________________\n",
      "max_pooling1d_7 (MaxPooling1 (None, 7, 42)             0         \n",
      "_________________________________________________________________\n",
      "conv1d_8 (Conv1D)            (None, 7, 21)             903       \n",
      "_________________________________________________________________\n",
      "max_pooling1d_8 (MaxPooling1 (None, 7, 21)             0         \n",
      "_________________________________________________________________\n",
      "flatten_2 (Flatten)          (None, 147)               0         \n",
      "_________________________________________________________________\n",
      "dense_3 (Dense)              (None, 7)                 1036      \n",
      "_________________________________________________________________\n",
      "dense_4 (Dense)              (None, 1)                 8         \n",
      "=================================================================\n",
      "Total params: 10,158\n",
      "Trainable params: 10,158\n",
      "Non-trainable params: 0\n",
      "_________________________________________________________________\n"
     ]
    }
   ],
   "source": [
    "model.summary()"
   ]
  },
  {
   "cell_type": "code",
   "execution_count": 62,
   "metadata": {
    "collapsed": false
   },
   "outputs": [],
   "source": [
    "model.compile(loss='binary_crossentropy', \n",
    "              optimizer='adam', metrics=['accuracy'])"
   ]
  },
  {
   "cell_type": "code",
   "execution_count": 63,
   "metadata": {
    "collapsed": false
   },
   "outputs": [
    {
     "name": "stdout",
     "output_type": "stream",
     "text": [
      "Train on 7143 samples, validate on 1786 samples\n",
      "Epoch 1/30\n",
      "7143/7143 [==============================] - 3s 422us/step - loss: 0.6702 - acc: 0.6422 - val_loss: 0.6335 - val_acc: 0.6965\n",
      "Epoch 2/30\n",
      "7143/7143 [==============================] - 1s 139us/step - loss: 0.5973 - acc: 0.7211 - val_loss: 0.5533 - val_acc: 0.7307\n",
      "Epoch 3/30\n",
      "7143/7143 [==============================] - 1s 130us/step - loss: 0.5245 - acc: 0.7525 - val_loss: 0.4947 - val_acc: 0.7660\n",
      "Epoch 4/30\n",
      "7143/7143 [==============================] - 1s 129us/step - loss: 0.4923 - acc: 0.7654 - val_loss: 0.4812 - val_acc: 0.7671\n",
      "Epoch 5/30\n",
      "7143/7143 [==============================] - 1s 141us/step - loss: 0.4837 - acc: 0.7750 - val_loss: 0.4754 - val_acc: 0.7755\n",
      "Epoch 6/30\n",
      "7143/7143 [==============================] - 1s 134us/step - loss: 0.4786 - acc: 0.7817 - val_loss: 0.4692 - val_acc: 0.7822\n",
      "Epoch 7/30\n",
      "7143/7143 [==============================] - 1s 207us/step - loss: 0.4752 - acc: 0.7822 - val_loss: 0.4675 - val_acc: 0.7828\n",
      "Epoch 8/30\n",
      "7143/7143 [==============================] - 2s 298us/step - loss: 0.4726 - acc: 0.7836 - val_loss: 0.4643 - val_acc: 0.7861\n",
      "Epoch 9/30\n",
      "7143/7143 [==============================] - 1s 184us/step - loss: 0.4703 - acc: 0.7861 - val_loss: 0.4647 - val_acc: 0.7833\n",
      "Epoch 10/30\n",
      "7143/7143 [==============================] - 2s 227us/step - loss: 0.4695 - acc: 0.7872 - val_loss: 0.4635 - val_acc: 0.7839\n",
      "Epoch 11/30\n",
      "7143/7143 [==============================] - 1s 192us/step - loss: 0.4684 - acc: 0.7848 - val_loss: 0.4607 - val_acc: 0.7906\n",
      "Epoch 12/30\n",
      "7143/7143 [==============================] - 1s 203us/step - loss: 0.4672 - acc: 0.7886 - val_loss: 0.4590 - val_acc: 0.7889\n",
      "Epoch 13/30\n",
      "7143/7143 [==============================] - 3s 357us/step - loss: 0.4651 - acc: 0.7885 - val_loss: 0.4596 - val_acc: 0.7861\n",
      "Epoch 14/30\n",
      "7143/7143 [==============================] - 3s 353us/step - loss: 0.4670 - acc: 0.7875 - val_loss: 0.4580 - val_acc: 0.7895\n",
      "Epoch 15/30\n",
      "7143/7143 [==============================] - 2s 337us/step - loss: 0.4634 - acc: 0.7885 - val_loss: 0.4563 - val_acc: 0.7923\n",
      "Epoch 16/30\n",
      "7143/7143 [==============================] - 2s 267us/step - loss: 0.4622 - acc: 0.7887 - val_loss: 0.4549 - val_acc: 0.7912\n",
      "Epoch 17/30\n",
      "7143/7143 [==============================] - 2s 339us/step - loss: 0.4615 - acc: 0.7901 - val_loss: 0.4543 - val_acc: 0.7928\n",
      "Epoch 18/30\n",
      "7143/7143 [==============================] - 3s 437us/step - loss: 0.4607 - acc: 0.7897 - val_loss: 0.4534 - val_acc: 0.7906\n",
      "Epoch 19/30\n",
      "7143/7143 [==============================] - 2s 249us/step - loss: 0.4610 - acc: 0.7875 - val_loss: 0.4560 - val_acc: 0.7895\n",
      "Epoch 20/30\n",
      "7143/7143 [==============================] - 2s 306us/step - loss: 0.4601 - acc: 0.7910 - val_loss: 0.4525 - val_acc: 0.7973\n",
      "Epoch 21/30\n",
      "7143/7143 [==============================] - 2s 231us/step - loss: 0.4593 - acc: 0.7913 - val_loss: 0.4523 - val_acc: 0.7940\n",
      "Epoch 22/30\n",
      "7143/7143 [==============================] - 1s 176us/step - loss: 0.4589 - acc: 0.7908 - val_loss: 0.4506 - val_acc: 0.7940\n",
      "Epoch 23/30\n",
      "7143/7143 [==============================] - 3s 367us/step - loss: 0.4572 - acc: 0.7892 - val_loss: 0.4498 - val_acc: 0.7962\n",
      "Epoch 24/30\n",
      "7143/7143 [==============================] - 4s 508us/step - loss: 0.4566 - acc: 0.7927 - val_loss: 0.4514 - val_acc: 0.7895\n",
      "Epoch 25/30\n",
      "7143/7143 [==============================] - 3s 450us/step - loss: 0.4557 - acc: 0.7908 - val_loss: 0.4491 - val_acc: 0.7940\n",
      "Epoch 26/30\n",
      "7143/7143 [==============================] - 4s 503us/step - loss: 0.4548 - acc: 0.7900 - val_loss: 0.4481 - val_acc: 0.8001\n",
      "Epoch 27/30\n",
      "7143/7143 [==============================] - 3s 396us/step - loss: 0.4547 - acc: 0.7948 - val_loss: 0.4479 - val_acc: 0.7990\n",
      "Epoch 28/30\n",
      "7143/7143 [==============================] - 3s 416us/step - loss: 0.4548 - acc: 0.7925 - val_loss: 0.4470 - val_acc: 0.7968\n",
      "Epoch 29/30\n",
      "7143/7143 [==============================] - 3s 380us/step - loss: 0.4547 - acc: 0.7921 - val_loss: 0.4539 - val_acc: 0.7856\n",
      "Epoch 30/30\n",
      "7143/7143 [==============================] - 2s 337us/step - loss: 0.4557 - acc: 0.7899 - val_loss: 0.4471 - val_acc: 0.7951\n"
     ]
    }
   ],
   "source": [
    "train_history =model.fit(x=train_Features, \n",
    "                         y=train_Label, \n",
    "                         validation_split=0.2, \n",
    "                         epochs=30, \n",
    "                         batch_size=500,verbose=1,callbacks=[early_stopping])"
   ]
  },
  {
   "cell_type": "code",
   "execution_count": 64,
   "metadata": {
    "collapsed": true
   },
   "outputs": [],
   "source": [
    "import matplotlib.pyplot as plt\n",
    "def show_train_history(train_history,train,validation):\n",
    "    plt.plot(train_history.history[train])\n",
    "    plt.plot(train_history.history[validation])\n",
    "    plt.title('Train History')\n",
    "    plt.ylabel(train)\n",
    "    plt.xlabel('Epoch')\n",
    "    plt.legend(['train', 'validation'], loc='upper left')\n",
    "    plt.show()"
   ]
  },
  {
   "cell_type": "code",
   "execution_count": 65,
   "metadata": {
    "collapsed": false
   },
   "outputs": [
    {
     "data": {
      "image/png": "[encoded data removed]",
      "text/plain": [
       "<matplotlib.figure.Figure at 0x7f7c84314240>"
      ]
     },
     "metadata": {},
     "output_type": "display_data"
    }
   ],
   "source": [
    "show_train_history(train_history,'acc','val_acc')"
   ]
  },
  {
   "cell_type": "code",
   "execution_count": 66,
   "metadata": {
    "collapsed": false
   },
   "outputs": [
    {
     "data": {
      "image/png": "[encoded data removed]",
      "text/plain": [
       "<matplotlib.figure.Figure at 0x7f7c8435abe0>"
      ]
     },
     "metadata": {},
     "output_type": "display_data"
    }
   ],
   "source": [
    "show_train_history(train_history,'loss','val_loss')"
   ]
  },
  {
   "cell_type": "code",
   "execution_count": 67,
   "metadata": {
    "collapsed": false
   },
   "outputs": [
    {
     "name": "stdout",
     "output_type": "stream",
     "text": [
      "2233/2233 [==============================] - 0s 112us/step\n"
     ]
    }
   ],
   "source": [
    "scores = model.evaluate(x=test_Features, \n",
    "                        y=test_Label)"
   ]
  },
  {
   "cell_type": "code",
   "execution_count": 68,
   "metadata": {
    "collapsed": false
   },
   "outputs": [
    {
     "data": {
      "text/plain": [
       "0.783251231420323"
      ]
     },
     "execution_count": 68,
     "metadata": {},
     "output_type": "execute_result"
    }
   ],
   "source": [
    "scores[1]"
   ]
  }
 ],
 "metadata": {
  "anaconda-cloud": {},
  "kernelspec": {
   "display_name": "Python [default]",
   "language": "python",
   "name": "python3"
  },
  "language_info": {
   "codemirror_mode": {
    "name": "ipython",
    "version": 3
   },
   "file_extension": ".py",
   "mimetype": "text/x-python",
   "name": "python",
   "nbconvert_exporter": "python",
   "pygments_lexer": "ipython3",
   "version": "3.5.2"
  }
 },
 "nbformat": 4,
 "nbformat_minor": 1
}
