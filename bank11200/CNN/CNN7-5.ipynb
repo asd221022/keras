{
 "cells": [
  {
   "cell_type": "code",
   "execution_count": 37,
   "metadata": {
    "collapsed": false
   },
   "outputs": [],
   "source": [
    "import numpy \n",
    "import pandas as pd\n",
    "from sklearn.preprocessing import StandardScaler\n",
    "from sklearn.model_selection import train_test_split\n",
    "numpy.random.seed(10)"
   ]
  },
  {
   "cell_type": "code",
   "execution_count": 38,
   "metadata": {
    "collapsed": false
   },
   "outputs": [],
   "source": [
    "all_df = pd.read_csv(\"bank.csv\")"
   ]
  },
  {
   "cell_type": "code",
   "execution_count": 39,
   "metadata": {
    "collapsed": true
   },
   "outputs": [],
   "source": [
    "cols=['age','balance' ,'day', 'duration',\n",
    "       'campaign','pdays','previous','deposit']\n",
    "all_df=all_df[cols]"
   ]
  },
  {
   "cell_type": "code",
   "execution_count": 40,
   "metadata": {
    "collapsed": false
   },
   "outputs": [],
   "source": [
    "all_df['deposit']= all_df['deposit'].map({'no':0, 'yes': 1}).astype(int)"
   ]
  },
  {
   "cell_type": "code",
   "execution_count": 41,
   "metadata": {
    "collapsed": true
   },
   "outputs": [],
   "source": [
    "X=all_df.drop(['deposit'], axis=1).values.astype('float64')"
   ]
  },
  {
   "cell_type": "code",
   "execution_count": 42,
   "metadata": {
    "collapsed": true
   },
   "outputs": [],
   "source": [
    "Y = all_df['deposit'].values.astype('int64')"
   ]
  },
  {
   "cell_type": "code",
   "execution_count": 43,
   "metadata": {
    "collapsed": false
   },
   "outputs": [
    {
     "data": {
      "text/plain": [
       "8929"
      ]
     },
     "execution_count": 43,
     "metadata": {},
     "output_type": "execute_result"
    }
   ],
   "source": [
    "X = StandardScaler().fit_transform(X)\n",
    "train_Features, test_Features, train_Label, test_Label = train_test_split(X, Y, test_size=0.2, random_state=True) \n",
    "len(train_Features)"
   ]
  },
  {
   "cell_type": "code",
   "execution_count": 44,
   "metadata": {
    "collapsed": false
   },
   "outputs": [
    {
     "data": {
      "text/plain": [
       "array([[-0.85890111, -0.3021573 , -1.26574556, -0.8008745 , -0.55416834,\n",
       "        -0.48118405, -0.36325984],\n",
       "       [ 0.14841574, -0.31455937,  0.51565047, -0.97372895, -0.18678537,\n",
       "        -0.48118405, -0.36325984]])"
      ]
     },
     "execution_count": 44,
     "metadata": {},
     "output_type": "execute_result"
    }
   ],
   "source": [
    "test_Features[:2]"
   ]
  },
  {
   "cell_type": "code",
   "execution_count": 45,
   "metadata": {
    "collapsed": false
   },
   "outputs": [
    {
     "data": {
      "text/plain": [
       "array([0, 1, 0, 1])"
      ]
     },
     "execution_count": 45,
     "metadata": {},
     "output_type": "execute_result"
    }
   ],
   "source": [
    "train_Label[:4]"
   ]
  },
  {
   "cell_type": "code",
   "execution_count": 46,
   "metadata": {
    "collapsed": false
   },
   "outputs": [
    {
     "data": {
      "text/plain": [
       "(8929, 7)"
      ]
     },
     "execution_count": 46,
     "metadata": {},
     "output_type": "execute_result"
    }
   ],
   "source": [
    "train_Features.shape"
   ]
  },
  {
   "cell_type": "code",
   "execution_count": 47,
   "metadata": {
    "collapsed": false
   },
   "outputs": [
    {
     "data": {
      "text/plain": [
       "array([0, 0, 0, 1])"
      ]
     },
     "execution_count": 47,
     "metadata": {},
     "output_type": "execute_result"
    }
   ],
   "source": [
    "test_Label[:4]"
   ]
  },
  {
   "cell_type": "code",
   "execution_count": 48,
   "metadata": {
    "collapsed": true
   },
   "outputs": [],
   "source": [
    "train_Features = train_Features.reshape((train_Features.shape[0], train_Features.shape[1], 1))"
   ]
  },
  {
   "cell_type": "code",
   "execution_count": 49,
   "metadata": {
    "collapsed": true
   },
   "outputs": [],
   "source": [
    "test_Features = test_Features.reshape((test_Features.shape[0], test_Features.shape[1], 1))"
   ]
  },
  {
   "cell_type": "code",
   "execution_count": 50,
   "metadata": {
    "collapsed": false
   },
   "outputs": [],
   "source": [
    "from keras.models import Sequential\n",
    "from keras.layers import Dense,Dropout,Flatten,Conv1D,MaxPooling1D\n",
    "from keras.layers.embeddings import Embedding\n",
    "from keras.callbacks import EarlyStopping\n",
    "early_stopping = EarlyStopping(monitor='val_loss', patience=2)"
   ]
  },
  {
   "cell_type": "code",
   "execution_count": 51,
   "metadata": {
    "collapsed": true
   },
   "outputs": [],
   "source": [
    "model = Sequential()"
   ]
  },
  {
   "cell_type": "code",
   "execution_count": 52,
   "metadata": {
    "collapsed": true
   },
   "outputs": [],
   "source": [
    "model.add(Conv1D(filters=7*5,\n",
    "                 kernel_size=1,\n",
    "                 padding='valid',\n",
    "                 input_shape=(7,1), \n",
    "                 activation='relu'))"
   ]
  },
  {
   "cell_type": "code",
   "execution_count": 53,
   "metadata": {
    "collapsed": true
   },
   "outputs": [],
   "source": [
    "model.add(MaxPooling1D(pool_size=1))"
   ]
  },
  {
   "cell_type": "code",
   "execution_count": 54,
   "metadata": {
    "collapsed": true
   },
   "outputs": [],
   "source": [
    "model.add(Conv1D(filters=7*4,\n",
    "                 kernel_size=1,\n",
    "                 padding='valid',\n",
    "                 activation='relu'))"
   ]
  },
  {
   "cell_type": "code",
   "execution_count": 55,
   "metadata": {
    "collapsed": true
   },
   "outputs": [],
   "source": [
    "model.add(MaxPooling1D(pool_size=1))"
   ]
  },
  {
   "cell_type": "code",
   "execution_count": 56,
   "metadata": {
    "collapsed": true
   },
   "outputs": [],
   "source": [
    "model.add(Conv1D(filters=7*3,\n",
    "                 kernel_size=1,\n",
    "                 padding='valid',\n",
    "                 activation='relu'))"
   ]
  },
  {
   "cell_type": "code",
   "execution_count": 57,
   "metadata": {
    "collapsed": true
   },
   "outputs": [],
   "source": [
    "model.add(MaxPooling1D(pool_size=1))"
   ]
  },
  {
   "cell_type": "code",
   "execution_count": 58,
   "metadata": {
    "collapsed": false
   },
   "outputs": [],
   "source": [
    "model.add(Conv1D(filters=7*2,\n",
    "                 kernel_size=1,\n",
    "                 padding='valid', \n",
    "                 activation='relu'))"
   ]
  },
  {
   "cell_type": "code",
   "execution_count": 59,
   "metadata": {
    "collapsed": true
   },
   "outputs": [],
   "source": [
    "model.add(MaxPooling1D(pool_size=1))"
   ]
  },
  {
   "cell_type": "code",
   "execution_count": 60,
   "metadata": {
    "collapsed": false
   },
   "outputs": [],
   "source": [
    "model.add(Conv1D(filters=7,\n",
    "                 kernel_size=1,\n",
    "                 padding='valid', \n",
    "                 activation='relu'))"
   ]
  },
  {
   "cell_type": "code",
   "execution_count": 61,
   "metadata": {
    "collapsed": true
   },
   "outputs": [],
   "source": [
    "model.add(MaxPooling1D(pool_size=1))"
   ]
  },
  {
   "cell_type": "code",
   "execution_count": 62,
   "metadata": {
    "collapsed": true
   },
   "outputs": [],
   "source": [
    "model.add(Flatten())"
   ]
  },
  {
   "cell_type": "code",
   "execution_count": 63,
   "metadata": {
    "collapsed": true
   },
   "outputs": [],
   "source": [
    "model.add(Dense(7, activation='tanh'))"
   ]
  },
  {
   "cell_type": "code",
   "execution_count": 64,
   "metadata": {
    "collapsed": true
   },
   "outputs": [],
   "source": [
    "model.add(Dense(1,activation='sigmoid'))"
   ]
  },
  {
   "cell_type": "code",
   "execution_count": 65,
   "metadata": {
    "collapsed": false
   },
   "outputs": [
    {
     "name": "stdout",
     "output_type": "stream",
     "text": [
      "_________________________________________________________________\n",
      "Layer (type)                 Output Shape              Param #   \n",
      "=================================================================\n",
      "conv1d_6 (Conv1D)            (None, 7, 35)             70        \n",
      "_________________________________________________________________\n",
      "max_pooling1d_6 (MaxPooling1 (None, 7, 35)             0         \n",
      "_________________________________________________________________\n",
      "conv1d_7 (Conv1D)            (None, 7, 28)             1008      \n",
      "_________________________________________________________________\n",
      "max_pooling1d_7 (MaxPooling1 (None, 7, 28)             0         \n",
      "_________________________________________________________________\n",
      "conv1d_8 (Conv1D)            (None, 7, 21)             609       \n",
      "_________________________________________________________________\n",
      "max_pooling1d_8 (MaxPooling1 (None, 7, 21)             0         \n",
      "_________________________________________________________________\n",
      "conv1d_9 (Conv1D)            (None, 7, 14)             308       \n",
      "_________________________________________________________________\n",
      "max_pooling1d_9 (MaxPooling1 (None, 7, 14)             0         \n",
      "_________________________________________________________________\n",
      "conv1d_10 (Conv1D)           (None, 7, 7)              105       \n",
      "_________________________________________________________________\n",
      "max_pooling1d_10 (MaxPooling (None, 7, 7)              0         \n",
      "_________________________________________________________________\n",
      "flatten_2 (Flatten)          (None, 49)                0         \n",
      "_________________________________________________________________\n",
      "dense_3 (Dense)              (None, 7)                 350       \n",
      "_________________________________________________________________\n",
      "dense_4 (Dense)              (None, 1)                 8         \n",
      "=================================================================\n",
      "Total params: 2,458\n",
      "Trainable params: 2,458\n",
      "Non-trainable params: 0\n",
      "_________________________________________________________________\n"
     ]
    }
   ],
   "source": [
    "model.summary()"
   ]
  },
  {
   "cell_type": "code",
   "execution_count": 66,
   "metadata": {
    "collapsed": false
   },
   "outputs": [],
   "source": [
    "model.compile(loss='binary_crossentropy', \n",
    "              optimizer='adam', metrics=['accuracy'])"
   ]
  },
  {
   "cell_type": "code",
   "execution_count": 67,
   "metadata": {
    "collapsed": false
   },
   "outputs": [
    {
     "name": "stdout",
     "output_type": "stream",
     "text": [
      "Train on 7143 samples, validate on 1786 samples\n",
      "Epoch 1/30\n",
      "7143/7143 [==============================] - 6s 833us/step - loss: 0.6924 - acc: 0.5374 - val_loss: 0.6904 - val_acc: 0.5767\n",
      "Epoch 2/30\n",
      "7143/7143 [==============================] - 2s 280us/step - loss: 0.6878 - acc: 0.6018 - val_loss: 0.6837 - val_acc: 0.6377\n",
      "Epoch 3/30\n",
      "7143/7143 [==============================] - 1s 145us/step - loss: 0.6754 - acc: 0.6619 - val_loss: 0.6643 - val_acc: 0.6708\n",
      "Epoch 4/30\n",
      "7143/7143 [==============================] - 1s 162us/step - loss: 0.6414 - acc: 0.7014 - val_loss: 0.6143 - val_acc: 0.7116\n",
      "Epoch 5/30\n",
      "7143/7143 [==============================] - 2s 211us/step - loss: 0.5857 - acc: 0.7311 - val_loss: 0.5608 - val_acc: 0.7245\n",
      "Epoch 6/30\n",
      "7143/7143 [==============================] - 1s 207us/step - loss: 0.5402 - acc: 0.7420 - val_loss: 0.5237 - val_acc: 0.7486\n",
      "Epoch 7/30\n",
      "7143/7143 [==============================] - 1s 104us/step - loss: 0.5124 - acc: 0.7574 - val_loss: 0.5027 - val_acc: 0.7643\n",
      "Epoch 8/30\n",
      "7143/7143 [==============================] - 1s 122us/step - loss: 0.4991 - acc: 0.7683 - val_loss: 0.4921 - val_acc: 0.7727\n",
      "Epoch 9/30\n",
      "7143/7143 [==============================] - 1s 110us/step - loss: 0.4915 - acc: 0.7721 - val_loss: 0.4888 - val_acc: 0.7710\n",
      "Epoch 10/30\n",
      "7143/7143 [==============================] - 1s 100us/step - loss: 0.4861 - acc: 0.7738 - val_loss: 0.4812 - val_acc: 0.7772\n",
      "Epoch 11/30\n",
      "7143/7143 [==============================] - 1s 101us/step - loss: 0.4823 - acc: 0.7740 - val_loss: 0.4780 - val_acc: 0.7822\n",
      "Epoch 12/30\n",
      "7143/7143 [==============================] - 1s 97us/step - loss: 0.4803 - acc: 0.7740 - val_loss: 0.4760 - val_acc: 0.7833\n",
      "Epoch 13/30\n",
      "7143/7143 [==============================] - 1s 96us/step - loss: 0.4781 - acc: 0.7784 - val_loss: 0.4730 - val_acc: 0.7844\n",
      "Epoch 14/30\n",
      "7143/7143 [==============================] - 1s 100us/step - loss: 0.4758 - acc: 0.7805 - val_loss: 0.4716 - val_acc: 0.7878\n",
      "Epoch 15/30\n",
      "7143/7143 [==============================] - 1s 102us/step - loss: 0.4746 - acc: 0.7815 - val_loss: 0.4703 - val_acc: 0.7861\n",
      "Epoch 16/30\n",
      "7143/7143 [==============================] - 1s 107us/step - loss: 0.4732 - acc: 0.7836 - val_loss: 0.4684 - val_acc: 0.7928\n",
      "Epoch 17/30\n",
      "7143/7143 [==============================] - 1s 120us/step - loss: 0.4718 - acc: 0.7848 - val_loss: 0.4669 - val_acc: 0.7940\n",
      "Epoch 18/30\n",
      "7143/7143 [==============================] - 1s 116us/step - loss: 0.4711 - acc: 0.7872 - val_loss: 0.4646 - val_acc: 0.7917\n",
      "Epoch 19/30\n",
      "7143/7143 [==============================] - 1s 117us/step - loss: 0.4713 - acc: 0.7841 - val_loss: 0.4639 - val_acc: 0.7917\n",
      "Epoch 20/30\n",
      "7143/7143 [==============================] - 1s 115us/step - loss: 0.4690 - acc: 0.7865 - val_loss: 0.4630 - val_acc: 0.7906\n",
      "Epoch 21/30\n",
      "7143/7143 [==============================] - 1s 110us/step - loss: 0.4682 - acc: 0.7840 - val_loss: 0.4631 - val_acc: 0.7895\n",
      "Epoch 22/30\n",
      "7143/7143 [==============================] - 1s 120us/step - loss: 0.4682 - acc: 0.7878 - val_loss: 0.4610 - val_acc: 0.7889\n",
      "Epoch 23/30\n",
      "7143/7143 [==============================] - 1s 107us/step - loss: 0.4662 - acc: 0.7886 - val_loss: 0.4608 - val_acc: 0.7962\n",
      "Epoch 24/30\n",
      "7143/7143 [==============================] - 1s 121us/step - loss: 0.4652 - acc: 0.7882 - val_loss: 0.4589 - val_acc: 0.7912\n",
      "Epoch 25/30\n",
      "7143/7143 [==============================] - 1s 121us/step - loss: 0.4649 - acc: 0.7882 - val_loss: 0.4591 - val_acc: 0.7884\n",
      "Epoch 26/30\n",
      "7143/7143 [==============================] - 1s 104us/step - loss: 0.4647 - acc: 0.7885 - val_loss: 0.4597 - val_acc: 0.7895\n"
     ]
    }
   ],
   "source": [
    "train_history =model.fit(x=train_Features, \n",
    "                         y=train_Label, \n",
    "                         validation_split=0.2, \n",
    "                         epochs=30, \n",
    "                         batch_size=500,verbose=1,callbacks=[early_stopping])"
   ]
  },
  {
   "cell_type": "code",
   "execution_count": 68,
   "metadata": {
    "collapsed": true
   },
   "outputs": [],
   "source": [
    "import matplotlib.pyplot as plt\n",
    "def show_train_history(train_history,train,validation):\n",
    "    plt.plot(train_history.history[train])\n",
    "    plt.plot(train_history.history[validation])\n",
    "    plt.title('Train History')\n",
    "    plt.ylabel(train)\n",
    "    plt.xlabel('Epoch')\n",
    "    plt.legend(['train', 'validation'], loc='upper left')\n",
    "    plt.show()"
   ]
  },
  {
   "cell_type": "code",
   "execution_count": 69,
   "metadata": {
    "collapsed": false
   },
   "outputs": [
    {
     "data": {
      "image/png": "[encoded data removed]",
      "text/plain": [
       "<matplotlib.figure.Figure at 0x7fa66119e438>"
      ]
     },
     "metadata": {},
     "output_type": "display_data"
    }
   ],
   "source": [
    "show_train_history(train_history,'acc','val_acc')"
   ]
  },
  {
   "cell_type": "code",
   "execution_count": 70,
   "metadata": {
    "collapsed": false
   },
   "outputs": [
    {
     "data": {
      "image/png": "[encoded data removed]",
      "text/plain": [
       "<matplotlib.figure.Figure at 0x7fa6611d85c0>"
      ]
     },
     "metadata": {},
     "output_type": "display_data"
    }
   ],
   "source": [
    "show_train_history(train_history,'loss','val_loss')"
   ]
  },
  {
   "cell_type": "code",
   "execution_count": 71,
   "metadata": {
    "collapsed": false
   },
   "outputs": [
    {
     "name": "stdout",
     "output_type": "stream",
     "text": [
      "2233/2233 [==============================] - 0s 207us/step\n"
     ]
    }
   ],
   "source": [
    "scores = model.evaluate(x=test_Features, \n",
    "                        y=test_Label)"
   ]
  },
  {
   "cell_type": "code",
   "execution_count": 72,
   "metadata": {
    "collapsed": false
   },
   "outputs": [
    {
     "data": {
      "text/plain": [
       "0.7895208238968121"
      ]
     },
     "execution_count": 72,
     "metadata": {},
     "output_type": "execute_result"
    }
   ],
   "source": [
    "scores[1]"
   ]
  }
 ],
 "metadata": {
  "anaconda-cloud": {},
  "kernelspec": {
   "display_name": "Python [default]",
   "language": "python",
   "name": "python3"
  },
  "language_info": {
   "codemirror_mode": {
    "name": "ipython",
    "version": 3
   },
   "file_extension": ".py",
   "mimetype": "text/x-python",
   "name": "python",
   "nbconvert_exporter": "python",
   "pygments_lexer": "ipython3",
   "version": "3.5.2"
  }
 },
 "nbformat": 4,
 "nbformat_minor": 1
}
