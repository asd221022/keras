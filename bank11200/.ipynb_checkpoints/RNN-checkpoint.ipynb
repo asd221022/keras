{
 "cells": [
  {
   "cell_type": "code",
   "execution_count": 78,
   "metadata": {
    "collapsed": false
   },
   "outputs": [],
   "source": [
    "import numpy \n",
    "import pandas as pd\n",
    "from sklearn.preprocessing import StandardScaler\n",
    "from sklearn.model_selection import train_test_split\n",
    "numpy.random.seed(10)"
   ]
  },
  {
   "cell_type": "code",
   "execution_count": 79,
   "metadata": {
    "collapsed": false
   },
   "outputs": [],
   "source": [
    "all_df = pd.read_csv(\"data/bank.csv\")"
   ]
  },
  {
   "cell_type": "code",
   "execution_count": 80,
   "metadata": {
    "collapsed": true
   },
   "outputs": [],
   "source": [
    "cols=['age','balance' ,'day', 'duration',\n",
    "       'campaign','pdays','previous','deposit']\n",
    "all_df=all_df[cols]"
   ]
  },
  {
   "cell_type": "code",
   "execution_count": 81,
   "metadata": {
    "collapsed": false
   },
   "outputs": [],
   "source": [
    "all_df['deposit']= all_df['deposit'].map({'no':0, 'yes': 1}).astype(int)"
   ]
  },
  {
   "cell_type": "code",
   "execution_count": 82,
   "metadata": {
    "collapsed": true
   },
   "outputs": [],
   "source": [
    "X=all_df.drop(['deposit'], axis=1).values.astype('float64')"
   ]
  },
  {
   "cell_type": "code",
   "execution_count": 83,
   "metadata": {
    "collapsed": true
   },
   "outputs": [],
   "source": [
    "Y = all_df['deposit'].values.astype('int64')"
   ]
  },
  {
   "cell_type": "code",
   "execution_count": 84,
   "metadata": {
    "collapsed": false
   },
   "outputs": [
    {
     "data": {
      "text/plain": [
       "8929"
      ]
     },
     "execution_count": 84,
     "metadata": {},
     "output_type": "execute_result"
    }
   ],
   "source": [
    "X = StandardScaler().fit_transform(X)\n",
    "train_Features, test_Features, train_Label, test_Label = train_test_split(X, Y, test_size=0.2, random_state=True) \n",
    "len(train_Features)"
   ]
  },
  {
   "cell_type": "code",
   "execution_count": 85,
   "metadata": {
    "collapsed": false
   },
   "outputs": [
    {
     "data": {
      "text/plain": [
       "array([[-0.85890111, -0.3021573 , -1.26574556, -0.8008745 , -0.55416834,\n",
       "        -0.48118405, -0.36325984],\n",
       "       [ 0.14841574, -0.31455937,  0.51565047, -0.97372895, -0.18678537,\n",
       "        -0.48118405, -0.36325984]])"
      ]
     },
     "execution_count": 85,
     "metadata": {},
     "output_type": "execute_result"
    }
   ],
   "source": [
    "test_Features[:2]"
   ]
  },
  {
   "cell_type": "code",
   "execution_count": 86,
   "metadata": {
    "collapsed": false
   },
   "outputs": [
    {
     "data": {
      "text/plain": [
       "array([0, 1, 0, 1])"
      ]
     },
     "execution_count": 86,
     "metadata": {},
     "output_type": "execute_result"
    }
   ],
   "source": [
    "train_Label[:4]"
   ]
  },
  {
   "cell_type": "code",
   "execution_count": 87,
   "metadata": {
    "collapsed": false
   },
   "outputs": [
    {
     "data": {
      "text/plain": [
       "(8929, 7)"
      ]
     },
     "execution_count": 87,
     "metadata": {},
     "output_type": "execute_result"
    }
   ],
   "source": [
    "train_Features.shape"
   ]
  },
  {
   "cell_type": "code",
   "execution_count": 88,
   "metadata": {
    "collapsed": false
   },
   "outputs": [
    {
     "data": {
      "text/plain": [
       "array([0, 0, 0, 1])"
      ]
     },
     "execution_count": 88,
     "metadata": {},
     "output_type": "execute_result"
    }
   ],
   "source": [
    "test_Label[:4]"
   ]
  },
  {
   "cell_type": "code",
   "execution_count": 89,
   "metadata": {
    "collapsed": true
   },
   "outputs": [],
   "source": [
    "train_Features = train_Features.reshape((train_Features.shape[0], train_Features.shape[1], 1))"
   ]
  },
  {
   "cell_type": "code",
   "execution_count": 90,
   "metadata": {
    "collapsed": true
   },
   "outputs": [],
   "source": [
    "test_Features = test_Features.reshape((test_Features.shape[0], test_Features.shape[1], 1))"
   ]
  },
  {
   "cell_type": "code",
   "execution_count": 91,
   "metadata": {
    "collapsed": false
   },
   "outputs": [],
   "source": [
    "from keras.models import Sequential\n",
    "from keras.layers.core import Dense, Dropout, Activation\n",
    "from keras.layers.embeddings import Embedding\n",
    "from keras.layers.recurrent import SimpleRNN\n",
    "from keras.callbacks import EarlyStopping\n",
    "early_stopping = EarlyStopping(monitor='val_loss', patience=2)"
   ]
  },
  {
   "cell_type": "code",
   "execution_count": 92,
   "metadata": {
    "collapsed": true
   },
   "outputs": [],
   "source": [
    "model = Sequential()"
   ]
  },
  {
   "cell_type": "code",
   "execution_count": 93,
   "metadata": {
    "collapsed": false
   },
   "outputs": [],
   "source": [
    "model.add(SimpleRNN(units=7, input_shape=(7,1)))"
   ]
  },
  {
   "cell_type": "code",
   "execution_count": 94,
   "metadata": {
    "collapsed": true
   },
   "outputs": [],
   "source": [
    "model.add(Dense(1, activation = \"sigmoid\"))"
   ]
  },
  {
   "cell_type": "code",
   "execution_count": 95,
   "metadata": {
    "collapsed": false
   },
   "outputs": [
    {
     "name": "stdout",
     "output_type": "stream",
     "text": [
      "_________________________________________________________________\n",
      "Layer (type)                 Output Shape              Param #   \n",
      "=================================================================\n",
      "simple_rnn_4 (SimpleRNN)     (None, 7)                 63        \n",
      "_________________________________________________________________\n",
      "dense_4 (Dense)              (None, 1)                 8         \n",
      "=================================================================\n",
      "Total params: 71\n",
      "Trainable params: 71\n",
      "Non-trainable params: 0\n",
      "_________________________________________________________________\n"
     ]
    }
   ],
   "source": [
    "model.summary()"
   ]
  },
  {
   "cell_type": "code",
   "execution_count": 96,
   "metadata": {
    "collapsed": false
   },
   "outputs": [],
   "source": [
    "model.compile(loss='binary_crossentropy', \n",
    "              optimizer='adam', metrics=['accuracy'])"
   ]
  },
  {
   "cell_type": "code",
   "execution_count": 97,
   "metadata": {
    "collapsed": false
   },
   "outputs": [
    {
     "name": "stdout",
     "output_type": "stream",
     "text": [
      "Train on 7143 samples, validate on 1786 samples\n",
      "Epoch 1/30\n",
      "7143/7143 [==============================] - 2s 345us/step - loss: 0.6715 - acc: 0.5920 - val_loss: 0.6624 - val_acc: 0.6277\n",
      "Epoch 2/30\n",
      "7143/7143 [==============================] - 0s 51us/step - loss: 0.6519 - acc: 0.6343 - val_loss: 0.6438 - val_acc: 0.6674\n",
      "Epoch 3/30\n",
      "7143/7143 [==============================] - 0s 50us/step - loss: 0.6354 - acc: 0.6709 - val_loss: 0.6274 - val_acc: 0.6909\n",
      "Epoch 4/30\n",
      "7143/7143 [==============================] - 0s 55us/step - loss: 0.6206 - acc: 0.6884 - val_loss: 0.6130 - val_acc: 0.6982\n",
      "Epoch 5/30\n",
      "7143/7143 [==============================] - 0s 59us/step - loss: 0.6076 - acc: 0.6959 - val_loss: 0.6004 - val_acc: 0.7016\n",
      "Epoch 6/30\n",
      "7143/7143 [==============================] - 0s 61us/step - loss: 0.5962 - acc: 0.7005 - val_loss: 0.5902 - val_acc: 0.7088\n",
      "Epoch 7/30\n",
      "7143/7143 [==============================] - 0s 62us/step - loss: 0.5868 - acc: 0.7073 - val_loss: 0.5811 - val_acc: 0.7088\n",
      "Epoch 8/30\n",
      "7143/7143 [==============================] - 0s 59us/step - loss: 0.5786 - acc: 0.7130 - val_loss: 0.5744 - val_acc: 0.7094\n",
      "Epoch 9/30\n",
      "7143/7143 [==============================] - 0s 57us/step - loss: 0.5720 - acc: 0.7173 - val_loss: 0.5682 - val_acc: 0.7111\n",
      "Epoch 10/30\n",
      "7143/7143 [==============================] - 0s 53us/step - loss: 0.5663 - acc: 0.7187 - val_loss: 0.5636 - val_acc: 0.7178\n",
      "Epoch 11/30\n",
      "7143/7143 [==============================] - 0s 51us/step - loss: 0.5617 - acc: 0.7213 - val_loss: 0.5598 - val_acc: 0.7212\n",
      "Epoch 12/30\n",
      "7143/7143 [==============================] - 0s 53us/step - loss: 0.5578 - acc: 0.7221 - val_loss: 0.5564 - val_acc: 0.7223\n",
      "Epoch 13/30\n",
      "7143/7143 [==============================] - 0s 62us/step - loss: 0.5544 - acc: 0.7229 - val_loss: 0.5537 - val_acc: 0.7256\n",
      "Epoch 14/30\n",
      "7143/7143 [==============================] - 0s 57us/step - loss: 0.5515 - acc: 0.7242 - val_loss: 0.5513 - val_acc: 0.7223\n",
      "Epoch 15/30\n",
      "7143/7143 [==============================] - 0s 58us/step - loss: 0.5486 - acc: 0.7250 - val_loss: 0.5485 - val_acc: 0.7262\n",
      "Epoch 16/30\n",
      "7143/7143 [==============================] - 0s 49us/step - loss: 0.5461 - acc: 0.7273 - val_loss: 0.5462 - val_acc: 0.7284\n",
      "Epoch 17/30\n",
      "7143/7143 [==============================] - 0s 54us/step - loss: 0.5438 - acc: 0.7288 - val_loss: 0.5439 - val_acc: 0.7296\n",
      "Epoch 18/30\n",
      "7143/7143 [==============================] - 0s 48us/step - loss: 0.5414 - acc: 0.7295 - val_loss: 0.5418 - val_acc: 0.7301\n",
      "Epoch 19/30\n",
      "7143/7143 [==============================] - 0s 48us/step - loss: 0.5392 - acc: 0.7292 - val_loss: 0.5398 - val_acc: 0.7318\n",
      "Epoch 20/30\n",
      "7143/7143 [==============================] - 0s 61us/step - loss: 0.5370 - acc: 0.7291 - val_loss: 0.5378 - val_acc: 0.7324\n",
      "Epoch 21/30\n",
      "7143/7143 [==============================] - 0s 57us/step - loss: 0.5350 - acc: 0.7311 - val_loss: 0.5359 - val_acc: 0.7352\n",
      "Epoch 22/30\n",
      "7143/7143 [==============================] - 0s 70us/step - loss: 0.5331 - acc: 0.7316 - val_loss: 0.5340 - val_acc: 0.7396\n",
      "Epoch 23/30\n",
      "7143/7143 [==============================] - 0s 58us/step - loss: 0.5312 - acc: 0.7336 - val_loss: 0.5321 - val_acc: 0.7385\n",
      "Epoch 24/30\n",
      "7143/7143 [==============================] - 0s 53us/step - loss: 0.5294 - acc: 0.7364 - val_loss: 0.5302 - val_acc: 0.7408\n",
      "Epoch 25/30\n",
      "7143/7143 [==============================] - 0s 44us/step - loss: 0.5276 - acc: 0.7367 - val_loss: 0.5279 - val_acc: 0.7396\n",
      "Epoch 26/30\n",
      "7143/7143 [==============================] - 0s 46us/step - loss: 0.5257 - acc: 0.7385 - val_loss: 0.5261 - val_acc: 0.7419\n",
      "Epoch 27/30\n",
      "7143/7143 [==============================] - 0s 54us/step - loss: 0.5238 - acc: 0.7399 - val_loss: 0.5244 - val_acc: 0.7430\n",
      "Epoch 28/30\n",
      "7143/7143 [==============================] - 0s 41us/step - loss: 0.5220 - acc: 0.7407 - val_loss: 0.5224 - val_acc: 0.7464\n",
      "Epoch 29/30\n",
      "7143/7143 [==============================] - 0s 48us/step - loss: 0.5202 - acc: 0.7423 - val_loss: 0.5209 - val_acc: 0.7480\n",
      "Epoch 30/30\n",
      "7143/7143 [==============================] - 0s 40us/step - loss: 0.5186 - acc: 0.7444 - val_loss: 0.5192 - val_acc: 0.7525\n"
     ]
    }
   ],
   "source": [
    "train_history =model.fit(x=train_Features, \n",
    "                         y=train_Label, \n",
    "                         validation_split=0.2, \n",
    "                         epochs=30, \n",
    "                         batch_size=500,verbose=1,callbacks=[early_stopping])"
   ]
  },
  {
   "cell_type": "code",
   "execution_count": 98,
   "metadata": {
    "collapsed": true
   },
   "outputs": [],
   "source": [
    "import matplotlib.pyplot as plt\n",
    "def show_train_history(train_history,train,validation):\n",
    "    plt.plot(train_history.history[train])\n",
    "    plt.plot(train_history.history[validation])\n",
    "    plt.title('Train History')\n",
    "    plt.ylabel(train)\n",
    "    plt.xlabel('Epoch')\n",
    "    plt.legend(['train', 'validation'], loc='upper left')\n",
    "    plt.show()"
   ]
  },
  {
   "cell_type": "code",
   "execution_count": 99,
   "metadata": {
    "collapsed": false
   },
   "outputs": [
    {
     "data": {
      "image/png": "[encoded data removed]",
      "text/plain": [
       "<matplotlib.figure.Figure at 0x7faa09482c50>"
      ]
     },
     "metadata": {},
     "output_type": "display_data"
    }
   ],
   "source": [
    "show_train_history(train_history,'acc','val_acc')"
   ]
  },
  {
   "cell_type": "code",
   "execution_count": 100,
   "metadata": {
    "collapsed": false
   },
   "outputs": [
    {
     "data": {
      "image/png": "[encoded data removed]",
      "text/plain": [
       "<matplotlib.figure.Figure at 0x7faa09482be0>"
      ]
     },
     "metadata": {},
     "output_type": "display_data"
    }
   ],
   "source": [
    "show_train_history(train_history,'loss','val_loss')"
   ]
  },
  {
   "cell_type": "code",
   "execution_count": 101,
   "metadata": {
    "collapsed": false
   },
   "outputs": [
    {
     "name": "stdout",
     "output_type": "stream",
     "text": [
      "2233/2233 [==============================] - 0s 188us/step\n"
     ]
    }
   ],
   "source": [
    "scores = model.evaluate(x=test_Features, \n",
    "                        y=test_Label)"
   ]
  },
  {
   "cell_type": "code",
   "execution_count": 102,
   "metadata": {
    "collapsed": false
   },
   "outputs": [
    {
     "data": {
      "text/plain": [
       "0.7469771608503422"
      ]
     },
     "execution_count": 102,
     "metadata": {},
     "output_type": "execute_result"
    }
   ],
   "source": [
    "scores[1]"
   ]
  }
 ],
 "metadata": {
  "anaconda-cloud": {},
  "kernelspec": {
   "display_name": "Python [default]",
   "language": "python",
   "name": "python3"
  },
  "language_info": {
   "codemirror_mode": {
    "name": "ipython",
    "version": 3
   },
   "file_extension": ".py",
   "mimetype": "text/x-python",
   "name": "python",
   "nbconvert_exporter": "python",
   "pygments_lexer": "ipython3",
   "version": "3.5.2"
  }
 },
 "nbformat": 4,
 "nbformat_minor": 1
}
