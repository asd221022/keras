{
 "cells": [
  {
   "cell_type": "code",
   "execution_count": 1,
   "metadata": {
    "collapsed": false
   },
   "outputs": [],
   "source": [
    "import numpy \n",
    "import pandas as pd\n",
    "from sklearn.preprocessing import StandardScaler\n",
    "from sklearn.model_selection import train_test_split\n",
    "numpy.random.seed(10)"
   ]
  },
  {
   "cell_type": "code",
   "execution_count": 2,
   "metadata": {
    "collapsed": false
   },
   "outputs": [],
   "source": [
    "all_df = pd.read_csv(\"data/bank.csv\")"
   ]
  },
  {
   "cell_type": "code",
   "execution_count": 3,
   "metadata": {
    "collapsed": true
   },
   "outputs": [],
   "source": [
    "cols=['age','balance' ,'day', 'duration',\n",
    "       'campaign','pdays','previous','deposit']\n",
    "df=all_df[cols]"
   ]
  },
  {
   "cell_type": "code",
   "execution_count": 4,
   "metadata": {
    "collapsed": false
   },
   "outputs": [
    {
     "name": "stderr",
     "output_type": "stream",
     "text": [
      "/home/bruce/anaconda3/lib/python3.5/site-packages/ipykernel/__main__.py:1: SettingWithCopyWarning: \n",
      "A value is trying to be set on a copy of a slice from a DataFrame.\n",
      "Try using .loc[row_indexer,col_indexer] = value instead\n",
      "\n",
      "See the caveats in the documentation: http://pandas.pydata.org/pandas-docs/stable/indexing.html#indexing-view-versus-copy\n",
      "  if __name__ == '__main__':\n"
     ]
    }
   ],
   "source": [
    "df['deposit']= df['deposit'].map({'no':0, 'yes': 1}).astype(int)"
   ]
  },
  {
   "cell_type": "code",
   "execution_count": 5,
   "metadata": {
    "collapsed": true
   },
   "outputs": [],
   "source": [
    "X=df.drop(['deposit'], axis=1).values.astype('float64')"
   ]
  },
  {
   "cell_type": "code",
   "execution_count": 6,
   "metadata": {
    "collapsed": true
   },
   "outputs": [],
   "source": [
    "Y = df['deposit'].values.astype('int64')"
   ]
  },
  {
   "cell_type": "code",
   "execution_count": 7,
   "metadata": {
    "collapsed": false
   },
   "outputs": [
    {
     "data": {
      "text/plain": [
       "8929"
      ]
     },
     "execution_count": 7,
     "metadata": {},
     "output_type": "execute_result"
    }
   ],
   "source": [
    "X = StandardScaler().fit_transform(X)\n",
    "train_Features, test_Features, train_Label, test_Label = train_test_split(X, Y, test_size=0.2, random_state=True) \n",
    "len(train_Features)"
   ]
  },
  {
   "cell_type": "code",
   "execution_count": 8,
   "metadata": {
    "collapsed": false
   },
   "outputs": [
    {
     "data": {
      "text/plain": [
       "array([[-0.85890111, -0.3021573 , -1.26574556, -0.8008745 , -0.55416834,\n",
       "        -0.48118405, -0.36325984],\n",
       "       [ 0.14841574, -0.31455937,  0.51565047, -0.97372895, -0.18678537,\n",
       "        -0.48118405, -0.36325984]])"
      ]
     },
     "execution_count": 8,
     "metadata": {},
     "output_type": "execute_result"
    }
   ],
   "source": [
    "test_Features[:2]"
   ]
  },
  {
   "cell_type": "code",
   "execution_count": 9,
   "metadata": {
    "collapsed": false
   },
   "outputs": [
    {
     "data": {
      "text/plain": [
       "array([0, 1, 0, 1])"
      ]
     },
     "execution_count": 9,
     "metadata": {},
     "output_type": "execute_result"
    }
   ],
   "source": [
    "train_Label[:4]"
   ]
  },
  {
   "cell_type": "code",
   "execution_count": 10,
   "metadata": {
    "collapsed": false
   },
   "outputs": [
    {
     "data": {
      "text/plain": [
       "(8929, 7)"
      ]
     },
     "execution_count": 10,
     "metadata": {},
     "output_type": "execute_result"
    }
   ],
   "source": [
    "train_Features.shape"
   ]
  },
  {
   "cell_type": "code",
   "execution_count": 11,
   "metadata": {
    "collapsed": false
   },
   "outputs": [
    {
     "data": {
      "text/plain": [
       "array([0, 0, 0, 1])"
      ]
     },
     "execution_count": 11,
     "metadata": {},
     "output_type": "execute_result"
    }
   ],
   "source": [
    "test_Label[:4]"
   ]
  },
  {
   "cell_type": "code",
   "execution_count": 12,
   "metadata": {
    "collapsed": true
   },
   "outputs": [],
   "source": [
    "train_Features = train_Features.reshape((train_Features.shape[0], train_Features.shape[1], 1))"
   ]
  },
  {
   "cell_type": "code",
   "execution_count": 13,
   "metadata": {
    "collapsed": true
   },
   "outputs": [],
   "source": [
    "test_Features = test_Features.reshape((test_Features.shape[0], test_Features.shape[1], 1))"
   ]
  },
  {
   "cell_type": "code",
   "execution_count": 14,
   "metadata": {
    "collapsed": false
   },
   "outputs": [
    {
     "name": "stderr",
     "output_type": "stream",
     "text": [
      "Using TensorFlow backend.\n"
     ]
    }
   ],
   "source": [
    "from keras.utils import np_utils\n",
    "train_Label = train_Label.reshape(train_Label.shape[0], 1)\n",
    "test_Label= test_Label.reshape(test_Label.shape[0], 1)\n",
    "train_Label=np_utils.to_categorical(train_Label)\n",
    "test_Label=np_utils.to_categorical(test_Label)"
   ]
  },
  {
   "cell_type": "code",
   "execution_count": 15,
   "metadata": {
    "collapsed": false
   },
   "outputs": [],
   "source": [
    "from keras.models import Sequential\n",
    "from keras.layers.core import Dense, Dropout, Activation\n",
    "from keras.layers.embeddings import Embedding\n",
    "from keras.layers.recurrent import LSTM\n",
    "from keras.callbacks import EarlyStopping\n",
    "early_stopping = EarlyStopping(monitor='val_loss', patience=2)"
   ]
  },
  {
   "cell_type": "code",
   "execution_count": 16,
   "metadata": {
    "collapsed": true
   },
   "outputs": [],
   "source": [
    "model = Sequential()"
   ]
  },
  {
   "cell_type": "code",
   "execution_count": 17,
   "metadata": {
    "collapsed": false
   },
   "outputs": [],
   "source": [
    "model.add(LSTM(units=14, input_shape=(7,1)))"
   ]
  },
  {
   "cell_type": "code",
   "execution_count": 18,
   "metadata": {
    "collapsed": true
   },
   "outputs": [],
   "source": [
    "model.add(Dense(2, activation = \"sigmoid\"))"
   ]
  },
  {
   "cell_type": "code",
   "execution_count": 19,
   "metadata": {
    "collapsed": false
   },
   "outputs": [
    {
     "name": "stdout",
     "output_type": "stream",
     "text": [
      "_________________________________________________________________\n",
      "Layer (type)                 Output Shape              Param #   \n",
      "=================================================================\n",
      "lstm_1 (LSTM)                (None, 14)                896       \n",
      "_________________________________________________________________\n",
      "dense_1 (Dense)              (None, 2)                 30        \n",
      "=================================================================\n",
      "Total params: 926\n",
      "Trainable params: 926\n",
      "Non-trainable params: 0\n",
      "_________________________________________________________________\n"
     ]
    }
   ],
   "source": [
    "model.summary()"
   ]
  },
  {
   "cell_type": "code",
   "execution_count": 20,
   "metadata": {
    "collapsed": false
   },
   "outputs": [],
   "source": [
    "model.compile(loss='binary_crossentropy', \n",
    "              optimizer='adam', metrics=['accuracy'])"
   ]
  },
  {
   "cell_type": "code",
   "execution_count": 21,
   "metadata": {
    "collapsed": false
   },
   "outputs": [
    {
     "name": "stdout",
     "output_type": "stream",
     "text": [
      "Train on 7143 samples, validate on 1786 samples\n",
      "Epoch 1/60\n",
      "7143/7143 [==============================] - 3s 380us/step - loss: 0.6864 - acc: 0.5854 - val_loss: 0.6827 - val_acc: 0.6092\n",
      "Epoch 2/60\n",
      "7143/7143 [==============================] - 1s 79us/step - loss: 0.6807 - acc: 0.6004 - val_loss: 0.6769 - val_acc: 0.6106\n",
      "Epoch 3/60\n",
      "7143/7143 [==============================] - 1s 78us/step - loss: 0.6754 - acc: 0.6058 - val_loss: 0.6718 - val_acc: 0.6170\n",
      "Epoch 4/60\n",
      "7143/7143 [==============================] - 1s 76us/step - loss: 0.6703 - acc: 0.6081 - val_loss: 0.6664 - val_acc: 0.6181\n",
      "Epoch 5/60\n",
      "7143/7143 [==============================] - 1s 75us/step - loss: 0.6652 - acc: 0.6130 - val_loss: 0.6612 - val_acc: 0.6193\n",
      "Epoch 6/60\n",
      "7143/7143 [==============================] - 1s 83us/step - loss: 0.6602 - acc: 0.6181 - val_loss: 0.6575 - val_acc: 0.6251\n",
      "Epoch 7/60\n",
      "7143/7143 [==============================] - 1s 76us/step - loss: 0.6560 - acc: 0.6210 - val_loss: 0.6539 - val_acc: 0.6254\n",
      "Epoch 8/60\n",
      "7143/7143 [==============================] - 1s 79us/step - loss: 0.6528 - acc: 0.6219 - val_loss: 0.6516 - val_acc: 0.6251\n",
      "Epoch 9/60\n",
      "7143/7143 [==============================] - 1s 84us/step - loss: 0.6504 - acc: 0.6238 - val_loss: 0.6497 - val_acc: 0.6251\n",
      "Epoch 10/60\n",
      "7143/7143 [==============================] - 1s 126us/step - loss: 0.6482 - acc: 0.6245 - val_loss: 0.6478 - val_acc: 0.6271\n",
      "Epoch 11/60\n",
      "7143/7143 [==============================] - 1s 145us/step - loss: 0.6462 - acc: 0.6270 - val_loss: 0.6455 - val_acc: 0.6282\n",
      "Epoch 12/60\n",
      "7143/7143 [==============================] - 1s 119us/step - loss: 0.6441 - acc: 0.6290 - val_loss: 0.6440 - val_acc: 0.6277\n",
      "Epoch 13/60\n",
      "7143/7143 [==============================] - 1s 91us/step - loss: 0.6418 - acc: 0.6302 - val_loss: 0.6419 - val_acc: 0.6319\n",
      "Epoch 14/60\n",
      "7143/7143 [==============================] - 1s 97us/step - loss: 0.6397 - acc: 0.6339 - val_loss: 0.6395 - val_acc: 0.6316\n",
      "Epoch 15/60\n",
      "7143/7143 [==============================] - 1s 98us/step - loss: 0.6372 - acc: 0.6344 - val_loss: 0.6370 - val_acc: 0.6352\n",
      "Epoch 16/60\n",
      "7143/7143 [==============================] - 1s 108us/step - loss: 0.6346 - acc: 0.6356 - val_loss: 0.6342 - val_acc: 0.6377\n",
      "Epoch 17/60\n",
      "7143/7143 [==============================] - 1s 103us/step - loss: 0.6319 - acc: 0.6385 - val_loss: 0.6317 - val_acc: 0.6400\n",
      "Epoch 18/60\n",
      "7143/7143 [==============================] - 1s 111us/step - loss: 0.6291 - acc: 0.6395 - val_loss: 0.6282 - val_acc: 0.6414\n",
      "Epoch 19/60\n",
      "7143/7143 [==============================] - 1s 123us/step - loss: 0.6264 - acc: 0.6432 - val_loss: 0.6256 - val_acc: 0.6428\n",
      "Epoch 20/60\n",
      "7143/7143 [==============================] - 1s 130us/step - loss: 0.6244 - acc: 0.6448 - val_loss: 0.6235 - val_acc: 0.6445\n",
      "Epoch 21/60\n",
      "7143/7143 [==============================] - 1s 120us/step - loss: 0.6222 - acc: 0.6469 - val_loss: 0.6206 - val_acc: 0.6456\n",
      "Epoch 22/60\n",
      "7143/7143 [==============================] - 1s 117us/step - loss: 0.6205 - acc: 0.6488 - val_loss: 0.6188 - val_acc: 0.6433\n",
      "Epoch 23/60\n",
      "7143/7143 [==============================] - 1s 134us/step - loss: 0.6189 - acc: 0.6506 - val_loss: 0.6166 - val_acc: 0.6467\n",
      "Epoch 24/60\n",
      "7143/7143 [==============================] - 1s 124us/step - loss: 0.6171 - acc: 0.6524 - val_loss: 0.6153 - val_acc: 0.6478\n",
      "Epoch 25/60\n",
      "7143/7143 [==============================] - 1s 128us/step - loss: 0.6156 - acc: 0.6543 - val_loss: 0.6136 - val_acc: 0.6484\n",
      "Epoch 26/60\n",
      "7143/7143 [==============================] - 1s 107us/step - loss: 0.6143 - acc: 0.6570 - val_loss: 0.6118 - val_acc: 0.6543\n",
      "Epoch 27/60\n",
      "7143/7143 [==============================] - 1s 123us/step - loss: 0.6129 - acc: 0.6592 - val_loss: 0.6106 - val_acc: 0.6576\n",
      "Epoch 28/60\n",
      "7143/7143 [==============================] - 1s 126us/step - loss: 0.6112 - acc: 0.6603 - val_loss: 0.6089 - val_acc: 0.6638\n",
      "Epoch 29/60\n",
      "7143/7143 [==============================] - 1s 124us/step - loss: 0.6103 - acc: 0.6637 - val_loss: 0.6078 - val_acc: 0.6618\n",
      "Epoch 30/60\n",
      "7143/7143 [==============================] - 1s 123us/step - loss: 0.6092 - acc: 0.6648 - val_loss: 0.6065 - val_acc: 0.6635\n",
      "Epoch 31/60\n",
      "7143/7143 [==============================] - 1s 117us/step - loss: 0.6076 - acc: 0.6666 - val_loss: 0.6053 - val_acc: 0.6657\n",
      "Epoch 32/60\n",
      "7143/7143 [==============================] - 1s 132us/step - loss: 0.6065 - acc: 0.6690 - val_loss: 0.6041 - val_acc: 0.6674\n",
      "Epoch 33/60\n",
      "7143/7143 [==============================] - 1s 119us/step - loss: 0.6054 - acc: 0.6709 - val_loss: 0.6032 - val_acc: 0.6680\n",
      "Epoch 34/60\n",
      "7143/7143 [==============================] - 1s 173us/step - loss: 0.6044 - acc: 0.6720 - val_loss: 0.6020 - val_acc: 0.6733\n",
      "Epoch 35/60\n",
      "7143/7143 [==============================] - 1s 146us/step - loss: 0.6033 - acc: 0.6737 - val_loss: 0.6013 - val_acc: 0.6716\n",
      "Epoch 36/60\n",
      "7143/7143 [==============================] - 1s 137us/step - loss: 0.6024 - acc: 0.6758 - val_loss: 0.6002 - val_acc: 0.6750\n",
      "Epoch 37/60\n",
      "7143/7143 [==============================] - 1s 136us/step - loss: 0.6015 - acc: 0.6748 - val_loss: 0.5995 - val_acc: 0.6733\n",
      "Epoch 38/60\n",
      "7143/7143 [==============================] - 1s 116us/step - loss: 0.6009 - acc: 0.6760 - val_loss: 0.5986 - val_acc: 0.6758\n",
      "Epoch 39/60\n",
      "7143/7143 [==============================] - 1s 118us/step - loss: 0.6005 - acc: 0.6769 - val_loss: 0.5978 - val_acc: 0.6789\n",
      "Epoch 40/60\n",
      "7143/7143 [==============================] - 1s 126us/step - loss: 0.5995 - acc: 0.6777 - val_loss: 0.5968 - val_acc: 0.6825\n",
      "Epoch 41/60\n",
      "7143/7143 [==============================] - 1s 137us/step - loss: 0.5986 - acc: 0.6788 - val_loss: 0.5963 - val_acc: 0.6803\n",
      "Epoch 42/60\n",
      "7143/7143 [==============================] - 1s 136us/step - loss: 0.5985 - acc: 0.6791 - val_loss: 0.5963 - val_acc: 0.6769\n",
      "Epoch 43/60\n",
      "7143/7143 [==============================] - 1s 137us/step - loss: 0.5968 - acc: 0.6805 - val_loss: 0.5952 - val_acc: 0.6800\n",
      "Epoch 44/60\n",
      "7143/7143 [==============================] - 1s 169us/step - loss: 0.5958 - acc: 0.6833 - val_loss: 0.5942 - val_acc: 0.6856\n",
      "Epoch 45/60\n",
      "7143/7143 [==============================] - 1s 200us/step - loss: 0.5953 - acc: 0.6858 - val_loss: 0.5936 - val_acc: 0.6870\n",
      "Epoch 46/60\n",
      "7143/7143 [==============================] - 1s 130us/step - loss: 0.5944 - acc: 0.6851 - val_loss: 0.5936 - val_acc: 0.6851\n",
      "Epoch 47/60\n",
      "7143/7143 [==============================] - 0s 66us/step - loss: 0.5935 - acc: 0.6861 - val_loss: 0.5922 - val_acc: 0.6901\n",
      "Epoch 48/60\n",
      "7143/7143 [==============================] - 1s 77us/step - loss: 0.5928 - acc: 0.6865 - val_loss: 0.5921 - val_acc: 0.6870\n",
      "Epoch 49/60\n",
      "7143/7143 [==============================] - 0s 66us/step - loss: 0.5921 - acc: 0.6869 - val_loss: 0.5905 - val_acc: 0.6901\n",
      "Epoch 50/60\n",
      "7143/7143 [==============================] - 0s 66us/step - loss: 0.5913 - acc: 0.6896 - val_loss: 0.5899 - val_acc: 0.6912\n",
      "Epoch 51/60\n",
      "7143/7143 [==============================] - 1s 72us/step - loss: 0.5904 - acc: 0.6903 - val_loss: 0.5889 - val_acc: 0.6926\n",
      "Epoch 52/60\n",
      "7143/7143 [==============================] - 0s 69us/step - loss: 0.5896 - acc: 0.6905 - val_loss: 0.5882 - val_acc: 0.6932\n",
      "Epoch 53/60\n",
      "7143/7143 [==============================] - 1s 72us/step - loss: 0.5893 - acc: 0.6913 - val_loss: 0.5879 - val_acc: 0.6906\n",
      "Epoch 54/60\n",
      "7143/7143 [==============================] - 1s 71us/step - loss: 0.5880 - acc: 0.6919 - val_loss: 0.5865 - val_acc: 0.6940\n",
      "Epoch 55/60\n",
      "7143/7143 [==============================] - 1s 106us/step - loss: 0.5871 - acc: 0.6950 - val_loss: 0.5860 - val_acc: 0.6946\n",
      "Epoch 56/60\n",
      "7143/7143 [==============================] - 1s 72us/step - loss: 0.5862 - acc: 0.6961 - val_loss: 0.5847 - val_acc: 0.6965\n",
      "Epoch 57/60\n",
      "7143/7143 [==============================] - 1s 104us/step - loss: 0.5854 - acc: 0.6965 - val_loss: 0.5850 - val_acc: 0.6974\n",
      "Epoch 58/60\n",
      "7143/7143 [==============================] - 1s 83us/step - loss: 0.5852 - acc: 0.7001 - val_loss: 0.5828 - val_acc: 0.7002\n",
      "Epoch 59/60\n",
      "7143/7143 [==============================] - 1s 87us/step - loss: 0.5838 - acc: 0.7000 - val_loss: 0.5828 - val_acc: 0.6999\n",
      "Epoch 60/60\n",
      "7143/7143 [==============================] - 1s 80us/step - loss: 0.5831 - acc: 0.7011 - val_loss: 0.5805 - val_acc: 0.7010\n"
     ]
    }
   ],
   "source": [
    "train_history =model.fit(x=train_Features, \n",
    "                         y=train_Label, \n",
    "                         validation_split=0.2, \n",
    "                         epochs=60, \n",
    "                         batch_size=500,verbose=1,callbacks=[early_stopping])"
   ]
  },
  {
   "cell_type": "code",
   "execution_count": 22,
   "metadata": {
    "collapsed": true
   },
   "outputs": [],
   "source": [
    "import matplotlib.pyplot as plt\n",
    "def show_train_history(train_history,train,validation):\n",
    "    plt.plot(train_history.history[train])\n",
    "    plt.plot(train_history.history[validation])\n",
    "    plt.title('Train History')\n",
    "    plt.ylabel(train)\n",
    "    plt.xlabel('Epoch')\n",
    "    plt.legend(['train', 'validation'], loc='upper left')\n",
    "    plt.show()"
   ]
  },
  {
   "cell_type": "code",
   "execution_count": 23,
   "metadata": {
    "collapsed": false
   },
   "outputs": [
    {
     "data": {
      "image/png": "[encoded data removed]",
      "text/plain": [
       "<matplotlib.figure.Figure at 0x7effc084dc18>"
      ]
     },
     "metadata": {},
     "output_type": "display_data"
    }
   ],
   "source": [
    "show_train_history(train_history,'acc','val_acc')"
   ]
  },
  {
   "cell_type": "code",
   "execution_count": 24,
   "metadata": {
    "collapsed": false
   },
   "outputs": [
    {
     "data": {
      "image/png": "[encoded data removed]",
      "text/plain": [
       "<matplotlib.figure.Figure at 0x7effc084d470>"
      ]
     },
     "metadata": {},
     "output_type": "display_data"
    }
   ],
   "source": [
    "show_train_history(train_history,'loss','val_loss')"
   ]
  },
  {
   "cell_type": "code",
   "execution_count": 25,
   "metadata": {
    "collapsed": false
   },
   "outputs": [
    {
     "name": "stdout",
     "output_type": "stream",
     "text": [
      "2233/2233 [==============================] - 0s 121us/step\n"
     ]
    }
   ],
   "source": [
    "scores = model.evaluate(x=test_Features, \n",
    "                        y=test_Label)"
   ]
  },
  {
   "cell_type": "code",
   "execution_count": 26,
   "metadata": {
    "collapsed": false
   },
   "outputs": [
    {
     "data": {
      "text/plain": [
       "0.6880877743747488"
      ]
     },
     "execution_count": 26,
     "metadata": {},
     "output_type": "execute_result"
    }
   ],
   "source": [
    "scores[1]"
   ]
  }
 ],
 "metadata": {
  "anaconda-cloud": {},
  "kernelspec": {
   "display_name": "Python [default]",
   "language": "python",
   "name": "python3"
  },
  "language_info": {
   "codemirror_mode": {
    "name": "ipython",
    "version": 3
   },
   "file_extension": ".py",
   "mimetype": "text/x-python",
   "name": "python",
   "nbconvert_exporter": "python",
   "pygments_lexer": "ipython3",
   "version": "3.5.2"
  }
 },
 "nbformat": 4,
 "nbformat_minor": 1
}
