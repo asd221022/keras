{
 "cells": [
  {
   "cell_type": "code",
   "execution_count": 1,
   "metadata": {
    "collapsed": false
   },
   "outputs": [],
   "source": [
    "import numpy \n",
    "import pandas as pd\n",
    "from sklearn.preprocessing import StandardScaler\n",
    "from sklearn.model_selection import train_test_split\n",
    "numpy.random.seed(10)"
   ]
  },
  {
   "cell_type": "code",
   "execution_count": 2,
   "metadata": {
    "collapsed": false
   },
   "outputs": [],
   "source": [
    "all_df = pd.read_csv(\"data/bank.csv\")"
   ]
  },
  {
   "cell_type": "code",
   "execution_count": 3,
   "metadata": {
    "collapsed": true
   },
   "outputs": [],
   "source": [
    "cols=['age','balance' ,'day', 'duration',\n",
    "       'campaign','pdays','previous','deposit']\n",
    "all_df=all_df[cols]"
   ]
  },
  {
   "cell_type": "code",
   "execution_count": 4,
   "metadata": {
    "collapsed": false
   },
   "outputs": [],
   "source": [
    "all_df['deposit']= all_df['deposit'].map({'no':0, 'yes': 1}).astype(int)"
   ]
  },
  {
   "cell_type": "code",
   "execution_count": 5,
   "metadata": {
    "collapsed": true
   },
   "outputs": [],
   "source": [
    "X=all_df.drop(['deposit'], axis=1).values.astype('float64')"
   ]
  },
  {
   "cell_type": "code",
   "execution_count": 6,
   "metadata": {
    "collapsed": true
   },
   "outputs": [],
   "source": [
    "Y = all_df['deposit'].values.astype('int64')"
   ]
  },
  {
   "cell_type": "code",
   "execution_count": 7,
   "metadata": {
    "collapsed": false
   },
   "outputs": [
    {
     "data": {
      "text/plain": [
       "8929"
      ]
     },
     "execution_count": 7,
     "metadata": {},
     "output_type": "execute_result"
    }
   ],
   "source": [
    "X = StandardScaler().fit_transform(X)\n",
    "train_Features, test_Features, train_Label, test_Label = train_test_split(X, Y, test_size=0.2, random_state=True) \n",
    "len(train_Features)"
   ]
  },
  {
   "cell_type": "code",
   "execution_count": 8,
   "metadata": {
    "collapsed": false
   },
   "outputs": [
    {
     "data": {
      "text/plain": [
       "array([[-0.85890111, -0.3021573 , -1.26574556, -0.8008745 , -0.55416834,\n",
       "        -0.48118405, -0.36325984],\n",
       "       [ 0.14841574, -0.31455937,  0.51565047, -0.97372895, -0.18678537,\n",
       "        -0.48118405, -0.36325984]])"
      ]
     },
     "execution_count": 8,
     "metadata": {},
     "output_type": "execute_result"
    }
   ],
   "source": [
    "test_Features[:2]"
   ]
  },
  {
   "cell_type": "code",
   "execution_count": 9,
   "metadata": {
    "collapsed": false
   },
   "outputs": [
    {
     "data": {
      "text/plain": [
       "array([0, 1, 0, 1])"
      ]
     },
     "execution_count": 9,
     "metadata": {},
     "output_type": "execute_result"
    }
   ],
   "source": [
    "train_Label[:4]"
   ]
  },
  {
   "cell_type": "code",
   "execution_count": 10,
   "metadata": {
    "collapsed": false
   },
   "outputs": [
    {
     "data": {
      "text/plain": [
       "(8929, 7)"
      ]
     },
     "execution_count": 10,
     "metadata": {},
     "output_type": "execute_result"
    }
   ],
   "source": [
    "train_Features.shape"
   ]
  },
  {
   "cell_type": "code",
   "execution_count": 11,
   "metadata": {
    "collapsed": false
   },
   "outputs": [
    {
     "data": {
      "text/plain": [
       "array([0, 0, 0, 1])"
      ]
     },
     "execution_count": 11,
     "metadata": {},
     "output_type": "execute_result"
    }
   ],
   "source": [
    "test_Label[:4]"
   ]
  },
  {
   "cell_type": "code",
   "execution_count": 12,
   "metadata": {
    "collapsed": true
   },
   "outputs": [],
   "source": [
    "train_Features = train_Features.reshape((train_Features.shape[0], train_Features.shape[1], 1))"
   ]
  },
  {
   "cell_type": "code",
   "execution_count": 13,
   "metadata": {
    "collapsed": true
   },
   "outputs": [],
   "source": [
    "test_Features = test_Features.reshape((test_Features.shape[0], test_Features.shape[1], 1))"
   ]
  },
  {
   "cell_type": "code",
   "execution_count": 14,
   "metadata": {
    "collapsed": false
   },
   "outputs": [
    {
     "name": "stderr",
     "output_type": "stream",
     "text": [
      "Using TensorFlow backend.\n"
     ]
    }
   ],
   "source": [
    "from keras.models import Sequential\n",
    "from keras.layers.core import Dense, Dropout, Activation\n",
    "from keras.layers.embeddings import Embedding\n",
    "from keras.layers.recurrent import SimpleRNN\n",
    "from keras.callbacks import EarlyStopping\n",
    "early_stopping = EarlyStopping(monitor='val_loss', patience=2)"
   ]
  },
  {
   "cell_type": "code",
   "execution_count": 15,
   "metadata": {
    "collapsed": true
   },
   "outputs": [],
   "source": [
    "model = Sequential()"
   ]
  },
  {
   "cell_type": "code",
   "execution_count": 16,
   "metadata": {
    "collapsed": false
   },
   "outputs": [],
   "source": [
    "model.add(SimpleRNN(units=7, input_shape=(7,1)))"
   ]
  },
  {
   "cell_type": "code",
   "execution_count": 17,
   "metadata": {
    "collapsed": true
   },
   "outputs": [],
   "source": [
    "model.add(Dense(1, activation = \"sigmoid\"))"
   ]
  },
  {
   "cell_type": "code",
   "execution_count": 18,
   "metadata": {
    "collapsed": false
   },
   "outputs": [
    {
     "name": "stdout",
     "output_type": "stream",
     "text": [
      "_________________________________________________________________\n",
      "Layer (type)                 Output Shape              Param #   \n",
      "=================================================================\n",
      "simple_rnn_1 (SimpleRNN)     (None, 7)                 63        \n",
      "_________________________________________________________________\n",
      "dense_1 (Dense)              (None, 1)                 8         \n",
      "=================================================================\n",
      "Total params: 71\n",
      "Trainable params: 71\n",
      "Non-trainable params: 0\n",
      "_________________________________________________________________\n"
     ]
    }
   ],
   "source": [
    "model.summary()"
   ]
  },
  {
   "cell_type": "code",
   "execution_count": 19,
   "metadata": {
    "collapsed": false
   },
   "outputs": [],
   "source": [
    "model.compile(loss='binary_crossentropy', \n",
    "              optimizer='adam', metrics=['accuracy'])"
   ]
  },
  {
   "cell_type": "code",
   "execution_count": 20,
   "metadata": {
    "collapsed": false
   },
   "outputs": [
    {
     "name": "stdout",
     "output_type": "stream",
     "text": [
      "Train on 8036 samples, validate on 893 samples\n",
      "Epoch 1/30\n",
      "8036/8036 [==============================] - 5s 596us/step - loss: 0.6709 - acc: 0.5932 - val_loss: 0.6538 - val_acc: 0.6405\n",
      "Epoch 2/30\n",
      "8036/8036 [==============================] - 0s 44us/step - loss: 0.6490 - acc: 0.6434 - val_loss: 0.6330 - val_acc: 0.6853\n",
      "Epoch 3/30\n",
      "8036/8036 [==============================] - 0s 39us/step - loss: 0.6314 - acc: 0.6772 - val_loss: 0.6152 - val_acc: 0.6965\n",
      "Epoch 4/30\n",
      "8036/8036 [==============================] - 0s 37us/step - loss: 0.6160 - acc: 0.6910 - val_loss: 0.6008 - val_acc: 0.7066\n",
      "Epoch 5/30\n",
      "8036/8036 [==============================] - 0s 36us/step - loss: 0.6028 - acc: 0.6977 - val_loss: 0.5879 - val_acc: 0.7167\n",
      "Epoch 6/30\n",
      "8036/8036 [==============================] - 0s 36us/step - loss: 0.5913 - acc: 0.7032 - val_loss: 0.5768 - val_acc: 0.7178\n",
      "Epoch 7/30\n",
      "8036/8036 [==============================] - 0s 40us/step - loss: 0.5817 - acc: 0.7101 - val_loss: 0.5682 - val_acc: 0.7144\n",
      "Epoch 8/30\n",
      "8036/8036 [==============================] - 0s 40us/step - loss: 0.5741 - acc: 0.7133 - val_loss: 0.5611 - val_acc: 0.7189\n",
      "Epoch 9/30\n",
      "8036/8036 [==============================] - 0s 39us/step - loss: 0.5676 - acc: 0.7174 - val_loss: 0.5557 - val_acc: 0.7256\n",
      "Epoch 10/30\n",
      "8036/8036 [==============================] - 0s 40us/step - loss: 0.5623 - acc: 0.7198 - val_loss: 0.5508 - val_acc: 0.7335\n",
      "Epoch 11/30\n",
      "8036/8036 [==============================] - 0s 37us/step - loss: 0.5577 - acc: 0.7204 - val_loss: 0.5476 - val_acc: 0.7357\n",
      "Epoch 12/30\n",
      "8036/8036 [==============================] - 0s 37us/step - loss: 0.5541 - acc: 0.7231 - val_loss: 0.5452 - val_acc: 0.7324\n",
      "Epoch 13/30\n",
      "8036/8036 [==============================] - 0s 40us/step - loss: 0.5509 - acc: 0.7244 - val_loss: 0.5415 - val_acc: 0.7357\n",
      "Epoch 14/30\n",
      "8036/8036 [==============================] - 0s 38us/step - loss: 0.5478 - acc: 0.7259 - val_loss: 0.5387 - val_acc: 0.7380\n",
      "Epoch 15/30\n",
      "8036/8036 [==============================] - 0s 43us/step - loss: 0.5451 - acc: 0.7274 - val_loss: 0.5367 - val_acc: 0.7402\n",
      "Epoch 16/30\n",
      "8036/8036 [==============================] - 0s 39us/step - loss: 0.5425 - acc: 0.7286 - val_loss: 0.5340 - val_acc: 0.7402\n",
      "Epoch 17/30\n",
      "8036/8036 [==============================] - 0s 40us/step - loss: 0.5401 - acc: 0.7287 - val_loss: 0.5314 - val_acc: 0.7413\n",
      "Epoch 18/30\n",
      "8036/8036 [==============================] - 0s 39us/step - loss: 0.5382 - acc: 0.7291 - val_loss: 0.5312 - val_acc: 0.7469\n",
      "Epoch 19/30\n",
      "8036/8036 [==============================] - 0s 40us/step - loss: 0.5359 - acc: 0.7310 - val_loss: 0.5286 - val_acc: 0.7413\n",
      "Epoch 20/30\n",
      "8036/8036 [==============================] - 0s 36us/step - loss: 0.5338 - acc: 0.7317 - val_loss: 0.5262 - val_acc: 0.7424\n",
      "Epoch 21/30\n",
      "8036/8036 [==============================] - 0s 39us/step - loss: 0.5321 - acc: 0.7334 - val_loss: 0.5242 - val_acc: 0.7424\n",
      "Epoch 22/30\n",
      "8036/8036 [==============================] - 0s 49us/step - loss: 0.5301 - acc: 0.7353 - val_loss: 0.5224 - val_acc: 0.7469\n",
      "Epoch 23/30\n",
      "8036/8036 [==============================] - 0s 41us/step - loss: 0.5281 - acc: 0.7357 - val_loss: 0.5211 - val_acc: 0.7480\n",
      "Epoch 24/30\n",
      "8036/8036 [==============================] - 0s 54us/step - loss: 0.5261 - acc: 0.7383 - val_loss: 0.5191 - val_acc: 0.7447\n",
      "Epoch 25/30\n",
      "8036/8036 [==============================] - 0s 43us/step - loss: 0.5243 - acc: 0.7403 - val_loss: 0.5180 - val_acc: 0.7469\n",
      "Epoch 26/30\n",
      "8036/8036 [==============================] - 0s 48us/step - loss: 0.5227 - acc: 0.7419 - val_loss: 0.5167 - val_acc: 0.7492\n",
      "Epoch 27/30\n",
      "8036/8036 [==============================] - 0s 48us/step - loss: 0.5211 - acc: 0.7422 - val_loss: 0.5142 - val_acc: 0.7492\n",
      "Epoch 28/30\n",
      "8036/8036 [==============================] - 0s 44us/step - loss: 0.5192 - acc: 0.7440 - val_loss: 0.5125 - val_acc: 0.7514\n",
      "Epoch 29/30\n",
      "8036/8036 [==============================] - 0s 44us/step - loss: 0.5175 - acc: 0.7461 - val_loss: 0.5113 - val_acc: 0.7581\n",
      "Epoch 30/30\n",
      "8036/8036 [==============================] - 0s 37us/step - loss: 0.5161 - acc: 0.7463 - val_loss: 0.5105 - val_acc: 0.7581\n"
     ]
    }
   ],
   "source": [
    "train_history =model.fit(x=train_Features, \n",
    "                         y=train_Label, \n",
    "                         validation_split=0.1, \n",
    "                         epochs=30, \n",
    "                         batch_size=500,verbose=1,callbacks=[early_stopping])"
   ]
  },
  {
   "cell_type": "code",
   "execution_count": 21,
   "metadata": {
    "collapsed": true
   },
   "outputs": [],
   "source": [
    "import matplotlib.pyplot as plt\n",
    "def show_train_history(train_history,train,validation):\n",
    "    plt.plot(train_history.history[train])\n",
    "    plt.plot(train_history.history[validation])\n",
    "    plt.title('Train History')\n",
    "    plt.ylabel(train)\n",
    "    plt.xlabel('Epoch')\n",
    "    plt.legend(['train', 'validation'], loc='upper left')\n",
    "    plt.show()"
   ]
  },
  {
   "cell_type": "code",
   "execution_count": 22,
   "metadata": {
    "collapsed": false
   },
   "outputs": [
    {
     "data": {
      "image/png": "[encoded data removed]",
      "text/plain": [
       "<matplotlib.figure.Figure at 0x7f744072aef0>"
      ]
     },
     "metadata": {},
     "output_type": "display_data"
    }
   ],
   "source": [
    "show_train_history(train_history,'acc','val_acc')"
   ]
  },
  {
   "cell_type": "code",
   "execution_count": 23,
   "metadata": {
    "collapsed": false
   },
   "outputs": [
    {
     "data": {
      "image/png": "[encoded data removed]",
      "text/plain": [
       "<matplotlib.figure.Figure at 0x7f744072af28>"
      ]
     },
     "metadata": {},
     "output_type": "display_data"
    }
   ],
   "source": [
    "show_train_history(train_history,'loss','val_loss')"
   ]
  },
  {
   "cell_type": "code",
   "execution_count": 24,
   "metadata": {
    "collapsed": false
   },
   "outputs": [
    {
     "name": "stdout",
     "output_type": "stream",
     "text": [
      "2233/2233 [==============================] - 0s 138us/step\n"
     ]
    }
   ],
   "source": [
    "scores = model.evaluate(x=test_Features, \n",
    "                        y=test_Label)"
   ]
  },
  {
   "cell_type": "code",
   "execution_count": 25,
   "metadata": {
    "collapsed": false
   },
   "outputs": [
    {
     "data": {
      "text/plain": [
       "0.7456336767482373"
      ]
     },
     "execution_count": 25,
     "metadata": {},
     "output_type": "execute_result"
    }
   ],
   "source": [
    "scores[1]"
   ]
  }
 ],
 "metadata": {
  "anaconda-cloud": {},
  "kernelspec": {
   "display_name": "Python [default]",
   "language": "python",
   "name": "python3"
  },
  "language_info": {
   "codemirror_mode": {
    "name": "ipython",
    "version": 3
   },
   "file_extension": ".py",
   "mimetype": "text/x-python",
   "name": "python",
   "nbconvert_exporter": "python",
   "pygments_lexer": "ipython3",
   "version": "3.5.2"
  }
 },
 "nbformat": 4,
 "nbformat_minor": 1
}
