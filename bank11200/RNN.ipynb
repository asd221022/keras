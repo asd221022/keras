{
 "cells": [
  {
   "cell_type": "code",
   "execution_count": 1,
   "metadata": {
    "collapsed": false
   },
   "outputs": [],
   "source": [
    "import numpy \n",
    "import pandas as pd\n",
    "from sklearn.preprocessing import StandardScaler\n",
    "from sklearn.model_selection import train_test_split\n",
    "numpy.random.seed(10)"
   ]
  },
  {
   "cell_type": "code",
   "execution_count": 2,
   "metadata": {
    "collapsed": false
   },
   "outputs": [],
   "source": [
    "all_df = pd.read_csv(\"data/bank.csv\")"
   ]
  },
  {
   "cell_type": "code",
   "execution_count": 3,
   "metadata": {
    "collapsed": true
   },
   "outputs": [],
   "source": [
    "cols=['age','balance' ,'day', 'duration',\n",
    "       'campaign','pdays','previous','deposit']\n",
    "df=all_df[cols]"
   ]
  },
  {
   "cell_type": "code",
   "execution_count": 4,
   "metadata": {
    "collapsed": false
   },
   "outputs": [
    {
     "name": "stderr",
     "output_type": "stream",
     "text": [
      "/home/bruce/anaconda3/lib/python3.5/site-packages/ipykernel/__main__.py:1: SettingWithCopyWarning: \n",
      "A value is trying to be set on a copy of a slice from a DataFrame.\n",
      "Try using .loc[row_indexer,col_indexer] = value instead\n",
      "\n",
      "See the caveats in the documentation: http://pandas.pydata.org/pandas-docs/stable/indexing.html#indexing-view-versus-copy\n",
      "  if __name__ == '__main__':\n"
     ]
    }
   ],
   "source": [
    "df['deposit']= df['deposit'].map({'no':0, 'yes': 1}).astype(int)"
   ]
  },
  {
   "cell_type": "code",
   "execution_count": 5,
   "metadata": {
    "collapsed": true
   },
   "outputs": [],
   "source": [
    "X=df.drop(['deposit'], axis=1).values.astype('float64')"
   ]
  },
  {
   "cell_type": "code",
   "execution_count": 6,
   "metadata": {
    "collapsed": true
   },
   "outputs": [],
   "source": [
    "Y = df['deposit'].values.astype('int64')"
   ]
  },
  {
   "cell_type": "code",
   "execution_count": 7,
   "metadata": {
    "collapsed": false
   },
   "outputs": [
    {
     "data": {
      "text/plain": [
       "8929"
      ]
     },
     "execution_count": 7,
     "metadata": {},
     "output_type": "execute_result"
    }
   ],
   "source": [
    "X = StandardScaler().fit_transform(X)\n",
    "train_Features, test_Features, train_Label, test_Label = train_test_split(X, Y, test_size=0.2, random_state=True) \n",
    "len(train_Features)"
   ]
  },
  {
   "cell_type": "code",
   "execution_count": 8,
   "metadata": {
    "collapsed": false
   },
   "outputs": [
    {
     "data": {
      "text/plain": [
       "array([[-0.85890111, -0.3021573 , -1.26574556, -0.8008745 , -0.55416834,\n",
       "        -0.48118405, -0.36325984],\n",
       "       [ 0.14841574, -0.31455937,  0.51565047, -0.97372895, -0.18678537,\n",
       "        -0.48118405, -0.36325984]])"
      ]
     },
     "execution_count": 8,
     "metadata": {},
     "output_type": "execute_result"
    }
   ],
   "source": [
    "test_Features[:2]"
   ]
  },
  {
   "cell_type": "code",
   "execution_count": 9,
   "metadata": {
    "collapsed": false
   },
   "outputs": [
    {
     "data": {
      "text/plain": [
       "array([0, 1, 0, 1])"
      ]
     },
     "execution_count": 9,
     "metadata": {},
     "output_type": "execute_result"
    }
   ],
   "source": [
    "train_Label[:4]"
   ]
  },
  {
   "cell_type": "code",
   "execution_count": 10,
   "metadata": {
    "collapsed": false
   },
   "outputs": [
    {
     "data": {
      "text/plain": [
       "(8929, 7)"
      ]
     },
     "execution_count": 10,
     "metadata": {},
     "output_type": "execute_result"
    }
   ],
   "source": [
    "train_Features.shape"
   ]
  },
  {
   "cell_type": "code",
   "execution_count": 11,
   "metadata": {
    "collapsed": false
   },
   "outputs": [
    {
     "data": {
      "text/plain": [
       "array([0, 0, 0, 1])"
      ]
     },
     "execution_count": 11,
     "metadata": {},
     "output_type": "execute_result"
    }
   ],
   "source": [
    "test_Label[:4]"
   ]
  },
  {
   "cell_type": "code",
   "execution_count": 12,
   "metadata": {
    "collapsed": true
   },
   "outputs": [],
   "source": [
    "train_Features = train_Features.reshape((train_Features.shape[0], train_Features.shape[1], 1))"
   ]
  },
  {
   "cell_type": "code",
   "execution_count": 13,
   "metadata": {
    "collapsed": true
   },
   "outputs": [],
   "source": [
    "test_Features = test_Features.reshape((test_Features.shape[0], test_Features.shape[1], 1))"
   ]
  },
  {
   "cell_type": "code",
   "execution_count": 14,
   "metadata": {
    "collapsed": false
   },
   "outputs": [
    {
     "name": "stderr",
     "output_type": "stream",
     "text": [
      "Using TensorFlow backend.\n"
     ]
    }
   ],
   "source": [
    "from keras.utils import np_utils\n",
    "train_Label = train_Label.reshape(train_Label.shape[0], 1)\n",
    "test_Label= test_Label.reshape(test_Label.shape[0], 1)\n",
    "train_Label=np_utils.to_categorical(train_Label)\n",
    "test_Label=np_utils.to_categorical(test_Label)"
   ]
  },
  {
   "cell_type": "code",
   "execution_count": 15,
   "metadata": {
    "collapsed": false
   },
   "outputs": [],
   "source": [
    "from keras.models import Sequential\n",
    "from keras.layers.core import Dense, Dropout, Activation\n",
    "from keras.layers.embeddings import Embedding\n",
    "from keras.layers.recurrent import SimpleRNN\n",
    "from keras.callbacks import EarlyStopping\n",
    "early_stopping = EarlyStopping(monitor='val_loss', patience=2)"
   ]
  },
  {
   "cell_type": "code",
   "execution_count": 16,
   "metadata": {
    "collapsed": true
   },
   "outputs": [],
   "source": [
    "model = Sequential()"
   ]
  },
  {
   "cell_type": "code",
   "execution_count": 17,
   "metadata": {
    "collapsed": false
   },
   "outputs": [],
   "source": [
    "model.add(SimpleRNN(units=14, input_shape=(7,1)))"
   ]
  },
  {
   "cell_type": "code",
   "execution_count": 18,
   "metadata": {
    "collapsed": true
   },
   "outputs": [],
   "source": [
    "model.add(Dense(2, activation = \"sigmoid\"))"
   ]
  },
  {
   "cell_type": "code",
   "execution_count": 19,
   "metadata": {
    "collapsed": false
   },
   "outputs": [
    {
     "name": "stdout",
     "output_type": "stream",
     "text": [
      "_________________________________________________________________\n",
      "Layer (type)                 Output Shape              Param #   \n",
      "=================================================================\n",
      "simple_rnn_1 (SimpleRNN)     (None, 14)                224       \n",
      "_________________________________________________________________\n",
      "dense_1 (Dense)              (None, 2)                 30        \n",
      "=================================================================\n",
      "Total params: 254\n",
      "Trainable params: 254\n",
      "Non-trainable params: 0\n",
      "_________________________________________________________________\n"
     ]
    }
   ],
   "source": [
    "model.summary()"
   ]
  },
  {
   "cell_type": "code",
   "execution_count": 20,
   "metadata": {
    "collapsed": false
   },
   "outputs": [],
   "source": [
    "model.compile(loss='binary_crossentropy', \n",
    "              optimizer='adam', metrics=['accuracy'])"
   ]
  },
  {
   "cell_type": "code",
   "execution_count": 21,
   "metadata": {
    "collapsed": false
   },
   "outputs": [
    {
     "name": "stdout",
     "output_type": "stream",
     "text": [
      "Train on 7143 samples, validate on 1786 samples\n",
      "Epoch 1/60\n",
      "7143/7143 [==============================] - 1s 195us/step - loss: 0.6604 - acc: 0.6487 - val_loss: 0.6363 - val_acc: 0.6629\n",
      "Epoch 2/60\n",
      "7143/7143 [==============================] - 0s 17us/step - loss: 0.6234 - acc: 0.6782 - val_loss: 0.6062 - val_acc: 0.6887\n",
      "Epoch 3/60\n",
      "7143/7143 [==============================] - 0s 22us/step - loss: 0.5982 - acc: 0.6956 - val_loss: 0.5866 - val_acc: 0.7058\n",
      "Epoch 4/60\n",
      "7143/7143 [==============================] - 0s 18us/step - loss: 0.5806 - acc: 0.7084 - val_loss: 0.5727 - val_acc: 0.7164\n",
      "Epoch 5/60\n",
      "7143/7143 [==============================] - 0s 21us/step - loss: 0.5672 - acc: 0.7152 - val_loss: 0.5612 - val_acc: 0.7220\n",
      "Epoch 6/60\n",
      "7143/7143 [==============================] - 0s 22us/step - loss: 0.5562 - acc: 0.7232 - val_loss: 0.5521 - val_acc: 0.7304\n",
      "Epoch 7/60\n",
      "7143/7143 [==============================] - 0s 19us/step - loss: 0.5466 - acc: 0.7304 - val_loss: 0.5444 - val_acc: 0.7340\n",
      "Epoch 8/60\n",
      "7143/7143 [==============================] - 0s 17us/step - loss: 0.5386 - acc: 0.7337 - val_loss: 0.5369 - val_acc: 0.7377\n",
      "Epoch 9/60\n",
      "7143/7143 [==============================] - 0s 18us/step - loss: 0.5313 - acc: 0.7386 - val_loss: 0.5307 - val_acc: 0.7416\n",
      "Epoch 10/60\n",
      "7143/7143 [==============================] - 0s 18us/step - loss: 0.5250 - acc: 0.7415 - val_loss: 0.5253 - val_acc: 0.7458\n",
      "Epoch 11/60\n",
      "7143/7143 [==============================] - 0s 20us/step - loss: 0.5196 - acc: 0.7460 - val_loss: 0.5204 - val_acc: 0.7489\n",
      "Epoch 12/60\n",
      "7143/7143 [==============================] - 0s 23us/step - loss: 0.5152 - acc: 0.7494 - val_loss: 0.5159 - val_acc: 0.7497\n",
      "Epoch 13/60\n",
      "7143/7143 [==============================] - 0s 21us/step - loss: 0.5110 - acc: 0.7547 - val_loss: 0.5123 - val_acc: 0.7542\n",
      "Epoch 14/60\n",
      "7143/7143 [==============================] - 0s 21us/step - loss: 0.5074 - acc: 0.7551 - val_loss: 0.5086 - val_acc: 0.7576\n",
      "Epoch 15/60\n",
      "7143/7143 [==============================] - 0s 20us/step - loss: 0.5043 - acc: 0.7575 - val_loss: 0.5054 - val_acc: 0.7643\n",
      "Epoch 16/60\n",
      "7143/7143 [==============================] - 0s 19us/step - loss: 0.5019 - acc: 0.7626 - val_loss: 0.5031 - val_acc: 0.7671\n",
      "Epoch 17/60\n",
      "7143/7143 [==============================] - 0s 19us/step - loss: 0.4997 - acc: 0.7633 - val_loss: 0.5010 - val_acc: 0.7682\n",
      "Epoch 18/60\n",
      "7143/7143 [==============================] - 0s 18us/step - loss: 0.4985 - acc: 0.7603 - val_loss: 0.5002 - val_acc: 0.7721\n",
      "Epoch 19/60\n",
      "7143/7143 [==============================] - 0s 19us/step - loss: 0.4968 - acc: 0.7670 - val_loss: 0.4983 - val_acc: 0.7674\n",
      "Epoch 20/60\n",
      "7143/7143 [==============================] - 0s 22us/step - loss: 0.4954 - acc: 0.7656 - val_loss: 0.4971 - val_acc: 0.7741\n",
      "Epoch 21/60\n",
      "7143/7143 [==============================] - 0s 20us/step - loss: 0.4945 - acc: 0.7688 - val_loss: 0.4955 - val_acc: 0.7696\n",
      "Epoch 22/60\n",
      "7143/7143 [==============================] - 0s 22us/step - loss: 0.4934 - acc: 0.7694 - val_loss: 0.4949 - val_acc: 0.7749\n",
      "Epoch 23/60\n",
      "7143/7143 [==============================] - 0s 20us/step - loss: 0.4925 - acc: 0.7694 - val_loss: 0.4936 - val_acc: 0.7755\n",
      "Epoch 24/60\n",
      "7143/7143 [==============================] - 0s 18us/step - loss: 0.4918 - acc: 0.7710 - val_loss: 0.4937 - val_acc: 0.7746\n",
      "Epoch 25/60\n",
      "7143/7143 [==============================] - 0s 17us/step - loss: 0.4910 - acc: 0.7720 - val_loss: 0.4925 - val_acc: 0.7741\n",
      "Epoch 26/60\n",
      "7143/7143 [==============================] - 0s 20us/step - loss: 0.4910 - acc: 0.7712 - val_loss: 0.4917 - val_acc: 0.7732\n",
      "Epoch 27/60\n",
      "7143/7143 [==============================] - 0s 23us/step - loss: 0.4906 - acc: 0.7706 - val_loss: 0.4914 - val_acc: 0.7766\n",
      "Epoch 28/60\n",
      "7143/7143 [==============================] - 0s 23us/step - loss: 0.4909 - acc: 0.7710 - val_loss: 0.4912 - val_acc: 0.7766\n",
      "Epoch 29/60\n",
      "7143/7143 [==============================] - 0s 20us/step - loss: 0.4895 - acc: 0.7718 - val_loss: 0.4904 - val_acc: 0.7758\n",
      "Epoch 30/60\n",
      "7143/7143 [==============================] - 0s 30us/step - loss: 0.4889 - acc: 0.7726 - val_loss: 0.4902 - val_acc: 0.7777\n",
      "Epoch 31/60\n",
      "7143/7143 [==============================] - 0s 22us/step - loss: 0.4884 - acc: 0.7724 - val_loss: 0.4895 - val_acc: 0.7788\n",
      "Epoch 32/60\n",
      "7143/7143 [==============================] - 0s 22us/step - loss: 0.4882 - acc: 0.7728 - val_loss: 0.4889 - val_acc: 0.7774\n",
      "Epoch 33/60\n",
      "7143/7143 [==============================] - 0s 21us/step - loss: 0.4882 - acc: 0.7735 - val_loss: 0.4883 - val_acc: 0.7763\n",
      "Epoch 34/60\n",
      "7143/7143 [==============================] - 0s 20us/step - loss: 0.4874 - acc: 0.7733 - val_loss: 0.4882 - val_acc: 0.7786\n",
      "Epoch 35/60\n",
      "7143/7143 [==============================] - 0s 22us/step - loss: 0.4870 - acc: 0.7742 - val_loss: 0.4875 - val_acc: 0.7786\n",
      "Epoch 36/60\n",
      "7143/7143 [==============================] - 0s 23us/step - loss: 0.4866 - acc: 0.7746 - val_loss: 0.4871 - val_acc: 0.7769\n",
      "Epoch 37/60\n",
      "7143/7143 [==============================] - 0s 22us/step - loss: 0.4863 - acc: 0.7757 - val_loss: 0.4870 - val_acc: 0.7780\n",
      "Epoch 38/60\n",
      "7143/7143 [==============================] - 0s 24us/step - loss: 0.4862 - acc: 0.7738 - val_loss: 0.4865 - val_acc: 0.7772\n",
      "Epoch 39/60\n",
      "7143/7143 [==============================] - 0s 22us/step - loss: 0.4862 - acc: 0.7737 - val_loss: 0.4863 - val_acc: 0.7791\n",
      "Epoch 40/60\n",
      "7143/7143 [==============================] - 0s 24us/step - loss: 0.4864 - acc: 0.7751 - val_loss: 0.4860 - val_acc: 0.7814\n",
      "Epoch 41/60\n",
      "7143/7143 [==============================] - 0s 21us/step - loss: 0.4853 - acc: 0.7753 - val_loss: 0.4857 - val_acc: 0.7788\n",
      "Epoch 42/60\n",
      "7143/7143 [==============================] - 0s 21us/step - loss: 0.4852 - acc: 0.7747 - val_loss: 0.4854 - val_acc: 0.7780\n",
      "Epoch 43/60\n",
      "7143/7143 [==============================] - 0s 29us/step - loss: 0.4848 - acc: 0.7764 - val_loss: 0.4853 - val_acc: 0.7822\n",
      "Epoch 44/60\n",
      "7143/7143 [==============================] - 0s 40us/step - loss: 0.4847 - acc: 0.7757 - val_loss: 0.4844 - val_acc: 0.7816\n",
      "Epoch 45/60\n",
      "7143/7143 [==============================] - 0s 24us/step - loss: 0.4841 - acc: 0.7762 - val_loss: 0.4843 - val_acc: 0.7814\n",
      "Epoch 46/60\n",
      "7143/7143 [==============================] - 0s 45us/step - loss: 0.4837 - acc: 0.7766 - val_loss: 0.4838 - val_acc: 0.7777\n",
      "Epoch 47/60\n",
      "7143/7143 [==============================] - 0s 47us/step - loss: 0.4839 - acc: 0.7762 - val_loss: 0.4841 - val_acc: 0.7819\n",
      "Epoch 48/60\n",
      "7143/7143 [==============================] - 0s 47us/step - loss: 0.4834 - acc: 0.7757 - val_loss: 0.4835 - val_acc: 0.7802\n",
      "Epoch 49/60\n",
      "7143/7143 [==============================] - 0s 44us/step - loss: 0.4834 - acc: 0.7767 - val_loss: 0.4831 - val_acc: 0.7814\n",
      "Epoch 50/60\n",
      "7143/7143 [==============================] - 0s 49us/step - loss: 0.4829 - acc: 0.7770 - val_loss: 0.4831 - val_acc: 0.7830\n",
      "Epoch 51/60\n",
      "7143/7143 [==============================] - 0s 53us/step - loss: 0.4826 - acc: 0.7766 - val_loss: 0.4824 - val_acc: 0.7794\n",
      "Epoch 52/60\n",
      "7143/7143 [==============================] - 0s 59us/step - loss: 0.4827 - acc: 0.7764 - val_loss: 0.4825 - val_acc: 0.7828\n",
      "Epoch 53/60\n",
      "7143/7143 [==============================] - 0s 47us/step - loss: 0.4824 - acc: 0.7784 - val_loss: 0.4821 - val_acc: 0.7822\n",
      "Epoch 54/60\n",
      "7143/7143 [==============================] - 0s 40us/step - loss: 0.4821 - acc: 0.7766 - val_loss: 0.4816 - val_acc: 0.7802\n",
      "Epoch 55/60\n",
      "7143/7143 [==============================] - 0s 34us/step - loss: 0.4820 - acc: 0.7779 - val_loss: 0.4820 - val_acc: 0.7828\n",
      "Epoch 56/60\n",
      "7143/7143 [==============================] - 0s 45us/step - loss: 0.4821 - acc: 0.7774 - val_loss: 0.4813 - val_acc: 0.7830\n",
      "Epoch 57/60\n",
      "7143/7143 [==============================] - 0s 53us/step - loss: 0.4814 - acc: 0.7773 - val_loss: 0.4808 - val_acc: 0.7816\n",
      "Epoch 58/60\n",
      "7143/7143 [==============================] - 0s 57us/step - loss: 0.4813 - acc: 0.7784 - val_loss: 0.4805 - val_acc: 0.7816\n",
      "Epoch 59/60\n",
      "7143/7143 [==============================] - 0s 44us/step - loss: 0.4809 - acc: 0.7781 - val_loss: 0.4806 - val_acc: 0.7805\n",
      "Epoch 60/60\n",
      "7143/7143 [==============================] - 0s 47us/step - loss: 0.4808 - acc: 0.7766 - val_loss: 0.4805 - val_acc: 0.7808\n"
     ]
    }
   ],
   "source": [
    "train_history =model.fit(x=train_Features, \n",
    "                         y=train_Label, \n",
    "                         validation_split=0.2, \n",
    "                         epochs=60, \n",
    "                         batch_size=500,verbose=1,callbacks=[early_stopping])"
   ]
  },
  {
   "cell_type": "code",
   "execution_count": 22,
   "metadata": {
    "collapsed": true
   },
   "outputs": [],
   "source": [
    "import matplotlib.pyplot as plt\n",
    "def show_train_history(train_history,train,validation):\n",
    "    plt.plot(train_history.history[train])\n",
    "    plt.plot(train_history.history[validation])\n",
    "    plt.title('Train History')\n",
    "    plt.ylabel(train)\n",
    "    plt.xlabel('Epoch')\n",
    "    plt.legend(['train', 'validation'], loc='upper left')\n",
    "    plt.show()"
   ]
  },
  {
   "cell_type": "code",
   "execution_count": 23,
   "metadata": {
    "collapsed": false
   },
   "outputs": [
    {
     "data": {
      "image/png": "[encoded data removed]",
      "text/plain": [
       "<matplotlib.figure.Figure at 0x7fdfc6cbd4e0>"
      ]
     },
     "metadata": {},
     "output_type": "display_data"
    }
   ],
   "source": [
    "show_train_history(train_history,'acc','val_acc')"
   ]
  },
  {
   "cell_type": "code",
   "execution_count": 24,
   "metadata": {
    "collapsed": false
   },
   "outputs": [
    {
     "data": {
      "image/png": "[encoded data removed]",
      "text/plain": [
       "<matplotlib.figure.Figure at 0x7fdfc6cbdf60>"
      ]
     },
     "metadata": {},
     "output_type": "display_data"
    }
   ],
   "source": [
    "show_train_history(train_history,'loss','val_loss')"
   ]
  },
  {
   "cell_type": "code",
   "execution_count": 25,
   "metadata": {
    "collapsed": false
   },
   "outputs": [
    {
     "name": "stdout",
     "output_type": "stream",
     "text": [
      "2233/2233 [==============================] - 0s 110us/step\n"
     ]
    }
   ],
   "source": [
    "scores = model.evaluate(x=test_Features, \n",
    "                        y=test_Label)"
   ]
  },
  {
   "cell_type": "code",
   "execution_count": 26,
   "metadata": {
    "collapsed": false
   },
   "outputs": [
    {
     "data": {
      "text/plain": [
       "0.7702642186468511"
      ]
     },
     "execution_count": 26,
     "metadata": {},
     "output_type": "execute_result"
    }
   ],
   "source": [
    "scores[1]"
   ]
  }
 ],
 "metadata": {
  "anaconda-cloud": {},
  "kernelspec": {
   "display_name": "Python [default]",
   "language": "python",
   "name": "python3"
  },
  "language_info": {
   "codemirror_mode": {
    "name": "ipython",
    "version": 3
   },
   "file_extension": ".py",
   "mimetype": "text/x-python",
   "name": "python",
   "nbconvert_exporter": "python",
   "pygments_lexer": "ipython3",
   "version": "3.5.2"
  }
 },
 "nbformat": 4,
 "nbformat_minor": 1
}
