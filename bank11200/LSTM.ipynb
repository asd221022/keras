{
 "cells": [
  {
   "cell_type": "code",
   "execution_count": 52,
   "metadata": {
    "collapsed": false
   },
   "outputs": [],
   "source": [
    "import numpy \n",
    "import pandas as pd\n",
    "from sklearn.preprocessing import StandardScaler\n",
    "from sklearn.model_selection import train_test_split\n",
    "numpy.random.seed(10)"
   ]
  },
  {
   "cell_type": "code",
   "execution_count": 53,
   "metadata": {
    "collapsed": false
   },
   "outputs": [],
   "source": [
    "all_df = pd.read_csv(\"data/bank.csv\")"
   ]
  },
  {
   "cell_type": "code",
   "execution_count": 54,
   "metadata": {
    "collapsed": true
   },
   "outputs": [],
   "source": [
    "cols=['age','balance' ,'day', 'duration',\n",
    "       'campaign','pdays','previous','deposit']\n",
    "all_df=all_df[cols]"
   ]
  },
  {
   "cell_type": "code",
   "execution_count": 55,
   "metadata": {
    "collapsed": false
   },
   "outputs": [],
   "source": [
    "all_df['deposit']= all_df['deposit'].map({'no':0, 'yes': 1}).astype(int)"
   ]
  },
  {
   "cell_type": "code",
   "execution_count": 56,
   "metadata": {
    "collapsed": true
   },
   "outputs": [],
   "source": [
    "X=all_df.drop(['deposit'], axis=1).values.astype('float64')"
   ]
  },
  {
   "cell_type": "code",
   "execution_count": 57,
   "metadata": {
    "collapsed": true
   },
   "outputs": [],
   "source": [
    "Y = all_df['deposit'].values.astype('int64')"
   ]
  },
  {
   "cell_type": "code",
   "execution_count": 58,
   "metadata": {
    "collapsed": false
   },
   "outputs": [
    {
     "data": {
      "text/plain": [
       "8929"
      ]
     },
     "execution_count": 58,
     "metadata": {},
     "output_type": "execute_result"
    }
   ],
   "source": [
    "X = StandardScaler().fit_transform(X)\n",
    "train_Features, test_Features, train_Label, test_Label = train_test_split(X, Y, test_size=0.2, random_state=True) \n",
    "len(train_Features)"
   ]
  },
  {
   "cell_type": "code",
   "execution_count": 59,
   "metadata": {
    "collapsed": false
   },
   "outputs": [
    {
     "data": {
      "text/plain": [
       "array([[-0.85890111, -0.3021573 , -1.26574556, -0.8008745 , -0.55416834,\n",
       "        -0.48118405, -0.36325984],\n",
       "       [ 0.14841574, -0.31455937,  0.51565047, -0.97372895, -0.18678537,\n",
       "        -0.48118405, -0.36325984]])"
      ]
     },
     "execution_count": 59,
     "metadata": {},
     "output_type": "execute_result"
    }
   ],
   "source": [
    "test_Features[:2]"
   ]
  },
  {
   "cell_type": "code",
   "execution_count": 60,
   "metadata": {
    "collapsed": false
   },
   "outputs": [
    {
     "data": {
      "text/plain": [
       "array([0, 1, 0, 1])"
      ]
     },
     "execution_count": 60,
     "metadata": {},
     "output_type": "execute_result"
    }
   ],
   "source": [
    "train_Label[:4]"
   ]
  },
  {
   "cell_type": "code",
   "execution_count": 61,
   "metadata": {
    "collapsed": false
   },
   "outputs": [
    {
     "data": {
      "text/plain": [
       "(8929, 7)"
      ]
     },
     "execution_count": 61,
     "metadata": {},
     "output_type": "execute_result"
    }
   ],
   "source": [
    "train_Features.shape"
   ]
  },
  {
   "cell_type": "code",
   "execution_count": 62,
   "metadata": {
    "collapsed": false
   },
   "outputs": [
    {
     "data": {
      "text/plain": [
       "array([0, 0, 0, 1])"
      ]
     },
     "execution_count": 62,
     "metadata": {},
     "output_type": "execute_result"
    }
   ],
   "source": [
    "test_Label[:4]"
   ]
  },
  {
   "cell_type": "code",
   "execution_count": 63,
   "metadata": {
    "collapsed": true
   },
   "outputs": [],
   "source": [
    "train_Features = train_Features.reshape((train_Features.shape[0], train_Features.shape[1], 1))"
   ]
  },
  {
   "cell_type": "code",
   "execution_count": 64,
   "metadata": {
    "collapsed": true
   },
   "outputs": [],
   "source": [
    "test_Features = test_Features.reshape((test_Features.shape[0], test_Features.shape[1], 1))"
   ]
  },
  {
   "cell_type": "code",
   "execution_count": 65,
   "metadata": {
    "collapsed": false
   },
   "outputs": [],
   "source": [
    "from keras.models import Sequential\n",
    "from keras.layers.core import Dense, Dropout, Activation\n",
    "from keras.layers.embeddings import Embedding\n",
    "from keras.layers.recurrent import LSTM\n",
    "from keras.callbacks import EarlyStopping\n",
    "early_stopping = EarlyStopping(monitor='val_loss', patience=2)"
   ]
  },
  {
   "cell_type": "code",
   "execution_count": 66,
   "metadata": {
    "collapsed": true
   },
   "outputs": [],
   "source": [
    "model = Sequential()"
   ]
  },
  {
   "cell_type": "code",
   "execution_count": 67,
   "metadata": {
    "collapsed": false
   },
   "outputs": [],
   "source": [
    "model.add(LSTM(units=7, input_shape=(7,1)))"
   ]
  },
  {
   "cell_type": "code",
   "execution_count": 68,
   "metadata": {
    "collapsed": true
   },
   "outputs": [],
   "source": [
    "model.add(Dense(1, activation = \"sigmoid\"))"
   ]
  },
  {
   "cell_type": "code",
   "execution_count": 69,
   "metadata": {
    "collapsed": false
   },
   "outputs": [
    {
     "name": "stdout",
     "output_type": "stream",
     "text": [
      "_________________________________________________________________\n",
      "Layer (type)                 Output Shape              Param #   \n",
      "=================================================================\n",
      "lstm_3 (LSTM)                (None, 7)                 252       \n",
      "_________________________________________________________________\n",
      "dense_3 (Dense)              (None, 1)                 8         \n",
      "=================================================================\n",
      "Total params: 260\n",
      "Trainable params: 260\n",
      "Non-trainable params: 0\n",
      "_________________________________________________________________\n"
     ]
    }
   ],
   "source": [
    "model.summary()"
   ]
  },
  {
   "cell_type": "code",
   "execution_count": 70,
   "metadata": {
    "collapsed": false
   },
   "outputs": [],
   "source": [
    "model.compile(loss='binary_crossentropy', \n",
    "              optimizer='adam', metrics=['accuracy'])"
   ]
  },
  {
   "cell_type": "code",
   "execution_count": 71,
   "metadata": {
    "collapsed": false
   },
   "outputs": [
    {
     "name": "stdout",
     "output_type": "stream",
     "text": [
      "Train on 7143 samples, validate on 1786 samples\n",
      "Epoch 1/30\n",
      "7143/7143 [==============================] - 3s 377us/step - loss: 0.7013 - acc: 0.4015 - val_loss: 0.6987 - val_acc: 0.3785\n",
      "Epoch 2/30\n",
      "7143/7143 [==============================] - 0s 50us/step - loss: 0.6966 - acc: 0.4241 - val_loss: 0.6938 - val_acc: 0.5521\n",
      "Epoch 3/30\n",
      "7143/7143 [==============================] - 1s 77us/step - loss: 0.6923 - acc: 0.5649 - val_loss: 0.6896 - val_acc: 0.5823\n",
      "Epoch 4/30\n",
      "7143/7143 [==============================] - 0s 56us/step - loss: 0.6883 - acc: 0.5801 - val_loss: 0.6854 - val_acc: 0.5935\n",
      "Epoch 5/30\n",
      "7143/7143 [==============================] - 0s 57us/step - loss: 0.6844 - acc: 0.5860 - val_loss: 0.6812 - val_acc: 0.6019\n",
      "Epoch 6/30\n",
      "7143/7143 [==============================] - 0s 67us/step - loss: 0.6804 - acc: 0.5944 - val_loss: 0.6772 - val_acc: 0.6025\n",
      "Epoch 7/30\n",
      "7143/7143 [==============================] - 0s 54us/step - loss: 0.6763 - acc: 0.6023 - val_loss: 0.6734 - val_acc: 0.6109\n",
      "Epoch 8/30\n",
      "7143/7143 [==============================] - 0s 49us/step - loss: 0.6725 - acc: 0.6049 - val_loss: 0.6696 - val_acc: 0.6181\n",
      "Epoch 9/30\n",
      "7143/7143 [==============================] - 0s 49us/step - loss: 0.6687 - acc: 0.6105 - val_loss: 0.6660 - val_acc: 0.6193\n",
      "Epoch 10/30\n",
      "7143/7143 [==============================] - 0s 49us/step - loss: 0.6652 - acc: 0.6097 - val_loss: 0.6629 - val_acc: 0.6221\n",
      "Epoch 11/30\n",
      "7143/7143 [==============================] - 0s 48us/step - loss: 0.6621 - acc: 0.6108 - val_loss: 0.6605 - val_acc: 0.6221\n",
      "Epoch 12/30\n",
      "7143/7143 [==============================] - 1s 89us/step - loss: 0.6598 - acc: 0.6123 - val_loss: 0.6583 - val_acc: 0.6243\n",
      "Epoch 13/30\n",
      "7143/7143 [==============================] - 1s 83us/step - loss: 0.6577 - acc: 0.6154 - val_loss: 0.6568 - val_acc: 0.6209\n",
      "Epoch 14/30\n",
      "7143/7143 [==============================] - 1s 82us/step - loss: 0.6558 - acc: 0.6172 - val_loss: 0.6552 - val_acc: 0.6204\n",
      "Epoch 15/30\n",
      "7143/7143 [==============================] - 1s 97us/step - loss: 0.6542 - acc: 0.6160 - val_loss: 0.6537 - val_acc: 0.6243\n",
      "Epoch 16/30\n",
      "7143/7143 [==============================] - 1s 88us/step - loss: 0.6527 - acc: 0.6179 - val_loss: 0.6525 - val_acc: 0.6254\n",
      "Epoch 17/30\n",
      "7143/7143 [==============================] - 1s 77us/step - loss: 0.6514 - acc: 0.6193 - val_loss: 0.6514 - val_acc: 0.6254\n",
      "Epoch 18/30\n",
      "7143/7143 [==============================] - 1s 72us/step - loss: 0.6501 - acc: 0.6192 - val_loss: 0.6497 - val_acc: 0.6282\n",
      "Epoch 19/30\n",
      "7143/7143 [==============================] - 1s 72us/step - loss: 0.6488 - acc: 0.6210 - val_loss: 0.6489 - val_acc: 0.6282\n",
      "Epoch 20/30\n",
      "7143/7143 [==============================] - 1s 82us/step - loss: 0.6476 - acc: 0.6251 - val_loss: 0.6478 - val_acc: 0.6321\n",
      "Epoch 21/30\n",
      "7143/7143 [==============================] - 1s 83us/step - loss: 0.6465 - acc: 0.6251 - val_loss: 0.6469 - val_acc: 0.6344\n",
      "Epoch 22/30\n",
      "7143/7143 [==============================] - 1s 111us/step - loss: 0.6453 - acc: 0.6266 - val_loss: 0.6457 - val_acc: 0.6344\n",
      "Epoch 23/30\n",
      "7143/7143 [==============================] - 1s 204us/step - loss: 0.6442 - acc: 0.6282 - val_loss: 0.6446 - val_acc: 0.6366\n",
      "Epoch 24/30\n",
      "7143/7143 [==============================] - 1s 109us/step - loss: 0.6429 - acc: 0.6307 - val_loss: 0.6435 - val_acc: 0.6383\n",
      "Epoch 25/30\n",
      "7143/7143 [==============================] - 1s 92us/step - loss: 0.6416 - acc: 0.6326 - val_loss: 0.6423 - val_acc: 0.6389\n",
      "Epoch 26/30\n",
      "7143/7143 [==============================] - 1s 121us/step - loss: 0.6403 - acc: 0.6328 - val_loss: 0.6407 - val_acc: 0.6400\n",
      "Epoch 27/30\n",
      "7143/7143 [==============================] - 1s 141us/step - loss: 0.6389 - acc: 0.6346 - val_loss: 0.6396 - val_acc: 0.6417\n",
      "Epoch 28/30\n",
      "7143/7143 [==============================] - 1s 134us/step - loss: 0.6374 - acc: 0.6364 - val_loss: 0.6377 - val_acc: 0.6422\n",
      "Epoch 29/30\n",
      "7143/7143 [==============================] - 1s 109us/step - loss: 0.6356 - acc: 0.6377 - val_loss: 0.6361 - val_acc: 0.6422\n",
      "Epoch 30/30\n",
      "7143/7143 [==============================] - 1s 111us/step - loss: 0.6338 - acc: 0.6406 - val_loss: 0.6345 - val_acc: 0.6394\n"
     ]
    }
   ],
   "source": [
    "train_history =model.fit(x=train_Features, \n",
    "                         y=train_Label, \n",
    "                         validation_split=0.2, \n",
    "                         epochs=30, \n",
    "                         batch_size=500,verbose=1,callbacks=[early_stopping])"
   ]
  },
  {
   "cell_type": "code",
   "execution_count": 72,
   "metadata": {
    "collapsed": true
   },
   "outputs": [],
   "source": [
    "import matplotlib.pyplot as plt\n",
    "def show_train_history(train_history,train,validation):\n",
    "    plt.plot(train_history.history[train])\n",
    "    plt.plot(train_history.history[validation])\n",
    "    plt.title('Train History')\n",
    "    plt.ylabel(train)\n",
    "    plt.xlabel('Epoch')\n",
    "    plt.legend(['train', 'validation'], loc='upper left')\n",
    "    plt.show()"
   ]
  },
  {
   "cell_type": "code",
   "execution_count": 73,
   "metadata": {
    "collapsed": false
   },
   "outputs": [
    {
     "data": {
      "image/png": "[encoded data removed]",
      "text/plain": [
       "<matplotlib.figure.Figure at 0x7f7eee60d908>"
      ]
     },
     "metadata": {},
     "output_type": "display_data"
    }
   ],
   "source": [
    "show_train_history(train_history,'acc','val_acc')"
   ]
  },
  {
   "cell_type": "code",
   "execution_count": 74,
   "metadata": {
    "collapsed": false
   },
   "outputs": [
    {
     "data": {
      "image/png": "[encoded data removed]",
      "text/plain": [
       "<matplotlib.figure.Figure at 0x7f7eee793668>"
      ]
     },
     "metadata": {},
     "output_type": "display_data"
    }
   ],
   "source": [
    "show_train_history(train_history,'loss','val_loss')"
   ]
  },
  {
   "cell_type": "code",
   "execution_count": 75,
   "metadata": {
    "collapsed": false
   },
   "outputs": [
    {
     "name": "stdout",
     "output_type": "stream",
     "text": [
      "2233/2233 [==============================] - 0s 167us/step\n"
     ]
    }
   ],
   "source": [
    "scores = model.evaluate(x=test_Features, \n",
    "                        y=test_Label)"
   ]
  },
  {
   "cell_type": "code",
   "execution_count": 76,
   "metadata": {
    "collapsed": false
   },
   "outputs": [
    {
     "data": {
      "text/plain": [
       "0.6368114644243639"
      ]
     },
     "execution_count": 76,
     "metadata": {},
     "output_type": "execute_result"
    }
   ],
   "source": [
    "scores[1]"
   ]
  }
 ],
 "metadata": {
  "anaconda-cloud": {},
  "kernelspec": {
   "display_name": "Python [default]",
   "language": "python",
   "name": "python3"
  },
  "language_info": {
   "codemirror_mode": {
    "name": "ipython",
    "version": 3
   },
   "file_extension": ".py",
   "mimetype": "text/x-python",
   "name": "python",
   "nbconvert_exporter": "python",
   "pygments_lexer": "ipython3",
   "version": "3.5.2"
  }
 },
 "nbformat": 4,
 "nbformat_minor": 1
}
