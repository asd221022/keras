{
 "cells": [
  {
   "cell_type": "code",
   "execution_count": 1,
   "metadata": {
    "collapsed": false
   },
   "outputs": [],
   "source": [
    "import numpy \n",
    "import pandas as pd\n",
    "from sklearn.preprocessing import StandardScaler\n",
    "from sklearn.model_selection import train_test_split\n",
    "numpy.random.seed(10)"
   ]
  },
  {
   "cell_type": "code",
   "execution_count": 2,
   "metadata": {
    "collapsed": false
   },
   "outputs": [],
   "source": [
    "all_df = pd.read_csv(\"data/bank.csv\")"
   ]
  },
  {
   "cell_type": "code",
   "execution_count": 3,
   "metadata": {
    "collapsed": true
   },
   "outputs": [],
   "source": [
    "cols=['age','balance' ,'day', 'duration',\n",
    "       'campaign','pdays','previous','deposit']\n",
    "all_df=all_df[cols]"
   ]
  },
  {
   "cell_type": "code",
   "execution_count": 4,
   "metadata": {
    "collapsed": false
   },
   "outputs": [],
   "source": [
    "all_df['deposit']= all_df['deposit'].map({'no':0, 'yes': 1}).astype(int)"
   ]
  },
  {
   "cell_type": "code",
   "execution_count": 5,
   "metadata": {
    "collapsed": true
   },
   "outputs": [],
   "source": [
    "X=all_df.drop(['deposit'], axis=1).values.astype('float64')"
   ]
  },
  {
   "cell_type": "code",
   "execution_count": 6,
   "metadata": {
    "collapsed": true
   },
   "outputs": [],
   "source": [
    "Y = all_df['deposit'].values.astype('int64')"
   ]
  },
  {
   "cell_type": "code",
   "execution_count": 7,
   "metadata": {
    "collapsed": false
   },
   "outputs": [
    {
     "data": {
      "text/plain": [
       "8929"
      ]
     },
     "execution_count": 7,
     "metadata": {},
     "output_type": "execute_result"
    }
   ],
   "source": [
    "X = StandardScaler().fit_transform(X)\n",
    "train_Features, test_Features, train_Label, test_Label = train_test_split(X, Y, test_size=0.2, random_state=True) \n",
    "len(train_Features)"
   ]
  },
  {
   "cell_type": "code",
   "execution_count": 8,
   "metadata": {
    "collapsed": false
   },
   "outputs": [
    {
     "data": {
      "text/plain": [
       "array([[-0.85890111, -0.3021573 , -1.26574556, -0.8008745 , -0.55416834,\n",
       "        -0.48118405, -0.36325984],\n",
       "       [ 0.14841574, -0.31455937,  0.51565047, -0.97372895, -0.18678537,\n",
       "        -0.48118405, -0.36325984]])"
      ]
     },
     "execution_count": 8,
     "metadata": {},
     "output_type": "execute_result"
    }
   ],
   "source": [
    "test_Features[:2]"
   ]
  },
  {
   "cell_type": "code",
   "execution_count": 9,
   "metadata": {
    "collapsed": false
   },
   "outputs": [
    {
     "data": {
      "text/plain": [
       "array([0, 1, 0, 1])"
      ]
     },
     "execution_count": 9,
     "metadata": {},
     "output_type": "execute_result"
    }
   ],
   "source": [
    "train_Label[:4]"
   ]
  },
  {
   "cell_type": "code",
   "execution_count": 10,
   "metadata": {
    "collapsed": false
   },
   "outputs": [
    {
     "data": {
      "text/plain": [
       "(8929, 7)"
      ]
     },
     "execution_count": 10,
     "metadata": {},
     "output_type": "execute_result"
    }
   ],
   "source": [
    "train_Features.shape"
   ]
  },
  {
   "cell_type": "code",
   "execution_count": 11,
   "metadata": {
    "collapsed": false
   },
   "outputs": [
    {
     "data": {
      "text/plain": [
       "array([0, 0, 0, 1])"
      ]
     },
     "execution_count": 11,
     "metadata": {},
     "output_type": "execute_result"
    }
   ],
   "source": [
    "test_Label[:4]"
   ]
  },
  {
   "cell_type": "code",
   "execution_count": 12,
   "metadata": {
    "collapsed": true
   },
   "outputs": [],
   "source": [
    "train_Features = train_Features.reshape((train_Features.shape[0], train_Features.shape[1], 1))"
   ]
  },
  {
   "cell_type": "code",
   "execution_count": 13,
   "metadata": {
    "collapsed": true
   },
   "outputs": [],
   "source": [
    "test_Features = test_Features.reshape((test_Features.shape[0], test_Features.shape[1], 1))"
   ]
  },
  {
   "cell_type": "code",
   "execution_count": 14,
   "metadata": {
    "collapsed": false
   },
   "outputs": [
    {
     "name": "stderr",
     "output_type": "stream",
     "text": [
      "Using TensorFlow backend.\n"
     ]
    }
   ],
   "source": [
    "from keras.models import Sequential\n",
    "from keras.layers.core import Dense, Dropout, Activation\n",
    "from keras.layers.embeddings import Embedding\n",
    "from keras.layers.recurrent import LSTM\n",
    "from keras.callbacks import EarlyStopping\n",
    "early_stopping = EarlyStopping(monitor='val_loss', patience=2)"
   ]
  },
  {
   "cell_type": "code",
   "execution_count": 15,
   "metadata": {
    "collapsed": true
   },
   "outputs": [],
   "source": [
    "model = Sequential()"
   ]
  },
  {
   "cell_type": "code",
   "execution_count": 16,
   "metadata": {
    "collapsed": false
   },
   "outputs": [],
   "source": [
    "model.add(LSTM(units=7, input_shape=(7,1)))"
   ]
  },
  {
   "cell_type": "code",
   "execution_count": 17,
   "metadata": {
    "collapsed": true
   },
   "outputs": [],
   "source": [
    "model.add(Dense(1, activation = \"sigmoid\"))"
   ]
  },
  {
   "cell_type": "code",
   "execution_count": 18,
   "metadata": {
    "collapsed": false
   },
   "outputs": [
    {
     "name": "stdout",
     "output_type": "stream",
     "text": [
      "_________________________________________________________________\n",
      "Layer (type)                 Output Shape              Param #   \n",
      "=================================================================\n",
      "lstm_1 (LSTM)                (None, 7)                 252       \n",
      "_________________________________________________________________\n",
      "dense_1 (Dense)              (None, 1)                 8         \n",
      "=================================================================\n",
      "Total params: 260\n",
      "Trainable params: 260\n",
      "Non-trainable params: 0\n",
      "_________________________________________________________________\n"
     ]
    }
   ],
   "source": [
    "model.summary()"
   ]
  },
  {
   "cell_type": "code",
   "execution_count": 19,
   "metadata": {
    "collapsed": false
   },
   "outputs": [],
   "source": [
    "model.compile(loss='binary_crossentropy', \n",
    "              optimizer='adam', metrics=['accuracy'])"
   ]
  },
  {
   "cell_type": "code",
   "execution_count": 20,
   "metadata": {
    "collapsed": false
   },
   "outputs": [
    {
     "name": "stdout",
     "output_type": "stream",
     "text": [
      "Train on 8036 samples, validate on 893 samples\n",
      "Epoch 1/30\n",
      "8036/8036 [==============================] - 3s 386us/step - loss: 0.7009 - acc: 0.3937 - val_loss: 0.6978 - val_acc: 0.3863\n",
      "Epoch 2/30\n",
      "8036/8036 [==============================] - 1s 99us/step - loss: 0.6955 - acc: 0.4710 - val_loss: 0.6919 - val_acc: 0.5689\n",
      "Epoch 3/30\n",
      "8036/8036 [==============================] - 1s 100us/step - loss: 0.6908 - acc: 0.5645 - val_loss: 0.6865 - val_acc: 0.5857\n",
      "Epoch 4/30\n",
      "8036/8036 [==============================] - 1s 99us/step - loss: 0.6862 - acc: 0.5763 - val_loss: 0.6817 - val_acc: 0.5991\n",
      "Epoch 5/30\n",
      "8036/8036 [==============================] - 1s 108us/step - loss: 0.6820 - acc: 0.5892 - val_loss: 0.6768 - val_acc: 0.6114\n",
      "Epoch 6/30\n",
      "8036/8036 [==============================] - 1s 106us/step - loss: 0.6777 - acc: 0.6013 - val_loss: 0.6725 - val_acc: 0.6148\n",
      "Epoch 7/30\n",
      "8036/8036 [==============================] - 1s 103us/step - loss: 0.6734 - acc: 0.6052 - val_loss: 0.6677 - val_acc: 0.6181\n",
      "Epoch 8/30\n",
      "8036/8036 [==============================] - 1s 121us/step - loss: 0.6693 - acc: 0.6110 - val_loss: 0.6634 - val_acc: 0.6204\n",
      "Epoch 9/30\n",
      "8036/8036 [==============================] - 1s 125us/step - loss: 0.6656 - acc: 0.6121 - val_loss: 0.6597 - val_acc: 0.6170\n",
      "Epoch 10/30\n",
      "8036/8036 [==============================] - 1s 126us/step - loss: 0.6624 - acc: 0.6129 - val_loss: 0.6565 - val_acc: 0.6249\n",
      "Epoch 11/30\n",
      "8036/8036 [==============================] - 1s 103us/step - loss: 0.6597 - acc: 0.6147 - val_loss: 0.6540 - val_acc: 0.6271\n",
      "Epoch 12/30\n",
      "8036/8036 [==============================] - 0s 54us/step - loss: 0.6575 - acc: 0.6161 - val_loss: 0.6521 - val_acc: 0.6271\n",
      "Epoch 13/30\n",
      "8036/8036 [==============================] - 0s 27us/step - loss: 0.6557 - acc: 0.6173 - val_loss: 0.6504 - val_acc: 0.6282\n",
      "Epoch 14/30\n",
      "8036/8036 [==============================] - 0s 51us/step - loss: 0.6543 - acc: 0.6165 - val_loss: 0.6490 - val_acc: 0.6349\n",
      "Epoch 15/30\n",
      "8036/8036 [==============================] - 0s 36us/step - loss: 0.6530 - acc: 0.6191 - val_loss: 0.6475 - val_acc: 0.6349\n",
      "Epoch 16/30\n",
      "8036/8036 [==============================] - 0s 36us/step - loss: 0.6516 - acc: 0.6202 - val_loss: 0.6461 - val_acc: 0.6349\n",
      "Epoch 17/30\n",
      "8036/8036 [==============================] - 1s 70us/step - loss: 0.6504 - acc: 0.6231 - val_loss: 0.6447 - val_acc: 0.6316\n",
      "Epoch 18/30\n",
      "8036/8036 [==============================] - 0s 36us/step - loss: 0.6491 - acc: 0.6243 - val_loss: 0.6429 - val_acc: 0.6383\n",
      "Epoch 19/30\n",
      "8036/8036 [==============================] - 0s 56us/step - loss: 0.6479 - acc: 0.6244 - val_loss: 0.6415 - val_acc: 0.6439\n",
      "Epoch 20/30\n",
      "8036/8036 [==============================] - 1s 71us/step - loss: 0.6470 - acc: 0.6254 - val_loss: 0.6401 - val_acc: 0.6439\n",
      "Epoch 21/30\n",
      "8036/8036 [==============================] - 1s 72us/step - loss: 0.6458 - acc: 0.6278 - val_loss: 0.6392 - val_acc: 0.6517\n",
      "Epoch 22/30\n",
      "8036/8036 [==============================] - 0s 26us/step - loss: 0.6446 - acc: 0.6299 - val_loss: 0.6382 - val_acc: 0.6517\n",
      "Epoch 23/30\n",
      "8036/8036 [==============================] - 0s 27us/step - loss: 0.6432 - acc: 0.6309 - val_loss: 0.6368 - val_acc: 0.6529\n",
      "Epoch 24/30\n",
      "8036/8036 [==============================] - 0s 26us/step - loss: 0.6418 - acc: 0.6320 - val_loss: 0.6348 - val_acc: 0.6540\n",
      "Epoch 25/30\n",
      "8036/8036 [==============================] - 0s 25us/step - loss: 0.6403 - acc: 0.6335 - val_loss: 0.6332 - val_acc: 0.6529\n",
      "Epoch 26/30\n",
      "8036/8036 [==============================] - 0s 25us/step - loss: 0.6387 - acc: 0.6340 - val_loss: 0.6318 - val_acc: 0.6562\n",
      "Epoch 27/30\n",
      "8036/8036 [==============================] - 0s 26us/step - loss: 0.6369 - acc: 0.6381 - val_loss: 0.6296 - val_acc: 0.6573\n",
      "Epoch 28/30\n",
      "8036/8036 [==============================] - 0s 25us/step - loss: 0.6348 - acc: 0.6383 - val_loss: 0.6271 - val_acc: 0.6562\n",
      "Epoch 29/30\n",
      "8036/8036 [==============================] - 0s 28us/step - loss: 0.6329 - acc: 0.6399 - val_loss: 0.6251 - val_acc: 0.6529\n",
      "Epoch 30/30\n",
      "8036/8036 [==============================] - 0s 38us/step - loss: 0.6307 - acc: 0.6416 - val_loss: 0.6227 - val_acc: 0.6529\n"
     ]
    }
   ],
   "source": [
    "train_history =model.fit(x=train_Features, \n",
    "                         y=train_Label, \n",
    "                         validation_split=0.1, \n",
    "                         epochs=30, \n",
    "                         batch_size=500,verbose=1,callbacks=[early_stopping])"
   ]
  },
  {
   "cell_type": "code",
   "execution_count": 21,
   "metadata": {
    "collapsed": true
   },
   "outputs": [],
   "source": [
    "import matplotlib.pyplot as plt\n",
    "def show_train_history(train_history,train,validation):\n",
    "    plt.plot(train_history.history[train])\n",
    "    plt.plot(train_history.history[validation])\n",
    "    plt.title('Train History')\n",
    "    plt.ylabel(train)\n",
    "    plt.xlabel('Epoch')\n",
    "    plt.legend(['train', 'validation'], loc='upper left')\n",
    "    plt.show()"
   ]
  },
  {
   "cell_type": "code",
   "execution_count": 22,
   "metadata": {
    "collapsed": false
   },
   "outputs": [
    {
     "data": {
      "image/png": "[encoded data removed]",
      "text/plain": [
       "<matplotlib.figure.Figure at 0x7f3193d71780>"
      ]
     },
     "metadata": {},
     "output_type": "display_data"
    }
   ],
   "source": [
    "show_train_history(train_history,'acc','val_acc')"
   ]
  },
  {
   "cell_type": "code",
   "execution_count": 23,
   "metadata": {
    "collapsed": false
   },
   "outputs": [
    {
     "data": {
      "image/png": "[encoded data removed]",
      "text/plain": [
       "<matplotlib.figure.Figure at 0x7f31a1299b70>"
      ]
     },
     "metadata": {},
     "output_type": "display_data"
    }
   ],
   "source": [
    "show_train_history(train_history,'loss','val_loss')"
   ]
  },
  {
   "cell_type": "code",
   "execution_count": 24,
   "metadata": {
    "collapsed": false
   },
   "outputs": [
    {
     "name": "stdout",
     "output_type": "stream",
     "text": [
      "2233/2233 [==============================] - 0s 61us/step\n"
     ]
    }
   ],
   "source": [
    "scores = model.evaluate(x=test_Features, \n",
    "                        y=test_Label)"
   ]
  },
  {
   "cell_type": "code",
   "execution_count": 25,
   "metadata": {
    "collapsed": false
   },
   "outputs": [
    {
     "data": {
      "text/plain": [
       "0.6399462609028421"
      ]
     },
     "execution_count": 25,
     "metadata": {},
     "output_type": "execute_result"
    }
   ],
   "source": [
    "scores[1]"
   ]
  }
 ],
 "metadata": {
  "anaconda-cloud": {},
  "kernelspec": {
   "display_name": "Python [default]",
   "language": "python",
   "name": "python3"
  },
  "language_info": {
   "codemirror_mode": {
    "name": "ipython",
    "version": 3
   },
   "file_extension": ".py",
   "mimetype": "text/x-python",
   "name": "python",
   "nbconvert_exporter": "python",
   "pygments_lexer": "ipython3",
   "version": "3.5.2"
  }
 },
 "nbformat": 4,
 "nbformat_minor": 1
}
