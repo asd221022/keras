{
 "cells": [
  {
   "cell_type": "code",
   "execution_count": 32,
   "metadata": {
    "collapsed": false,
    "slideshow": {
     "slide_type": "-"
    }
   },
   "outputs": [],
   "source": [
    "import numpy\n",
    "import pandas as pd\n",
    "from sklearn.preprocessing import StandardScaler\n",
    "from sklearn.model_selection import train_test_split\n",
    "numpy.random.seed(10)"
   ]
  },
  {
   "cell_type": "code",
   "execution_count": 33,
   "metadata": {
    "collapsed": false
   },
   "outputs": [],
   "source": [
    "all_df = pd.read_csv(\"bank.csv\")"
   ]
  },
  {
   "cell_type": "code",
   "execution_count": 34,
   "metadata": {
    "collapsed": false
   },
   "outputs": [],
   "source": [
    "cols=['age','balance' ,'day', 'duration',\n",
    "       'campaign','pdays','previous','deposit']\n",
    "all_df=all_df[cols]"
   ]
  },
  {
   "cell_type": "code",
   "execution_count": 35,
   "metadata": {
    "collapsed": false
   },
   "outputs": [],
   "source": [
    "all_df['deposit']= all_df['deposit'].map({'no':0, 'yes': 1}).astype(int) "
   ]
  },
  {
   "cell_type": "code",
   "execution_count": 36,
   "metadata": {
    "collapsed": true
   },
   "outputs": [],
   "source": [
    "X=all_df.drop(['deposit'], axis=1).values.astype('float64')"
   ]
  },
  {
   "cell_type": "code",
   "execution_count": 37,
   "metadata": {
    "collapsed": true
   },
   "outputs": [],
   "source": [
    "Y = all_df['deposit'].values.astype('int64')"
   ]
  },
  {
   "cell_type": "code",
   "execution_count": 38,
   "metadata": {
    "collapsed": false
   },
   "outputs": [
    {
     "data": {
      "text/plain": [
       "(11162, 7)"
      ]
     },
     "execution_count": 38,
     "metadata": {},
     "output_type": "execute_result"
    }
   ],
   "source": [
    "X.shape"
   ]
  },
  {
   "cell_type": "code",
   "execution_count": 39,
   "metadata": {
    "collapsed": false
   },
   "outputs": [
    {
     "data": {
      "text/plain": [
       "array([[ 5.900e+01,  2.343e+03,  5.000e+00,  1.042e+03,  1.000e+00,\n",
       "        -1.000e+00,  0.000e+00],\n",
       "       [ 5.600e+01,  4.500e+01,  5.000e+00,  1.467e+03,  1.000e+00,\n",
       "        -1.000e+00,  0.000e+00],\n",
       "       [ 4.100e+01,  1.270e+03,  5.000e+00,  1.389e+03,  1.000e+00,\n",
       "        -1.000e+00,  0.000e+00],\n",
       "       [ 5.500e+01,  2.476e+03,  5.000e+00,  5.790e+02,  1.000e+00,\n",
       "        -1.000e+00,  0.000e+00],\n",
       "       [ 5.400e+01,  1.840e+02,  5.000e+00,  6.730e+02,  2.000e+00,\n",
       "        -1.000e+00,  0.000e+00]])"
      ]
     },
     "execution_count": 39,
     "metadata": {},
     "output_type": "execute_result"
    }
   ],
   "source": [
    "X[:5]"
   ]
  },
  {
   "cell_type": "code",
   "execution_count": 40,
   "metadata": {
    "collapsed": false
   },
   "outputs": [
    {
     "data": {
      "text/plain": [
       "array([1, 1, 1, 1, 1])"
      ]
     },
     "execution_count": 40,
     "metadata": {},
     "output_type": "execute_result"
    }
   ],
   "source": [
    "Y[:5]"
   ]
  },
  {
   "cell_type": "code",
   "execution_count": 41,
   "metadata": {
    "collapsed": false
   },
   "outputs": [],
   "source": [
    "X = StandardScaler().fit_transform(X)\n",
    "train_Features, test_Features, train_Label, test_Label = train_test_split(X, Y, test_size=0.2, random_state=None) "
   ]
  },
  {
   "cell_type": "code",
   "execution_count": 42,
   "metadata": {
    "collapsed": false
   },
   "outputs": [
    {
     "data": {
      "text/plain": [
       "array([[-0.6070719 , -0.2751828 ,  0.04061153,  0.27370403, -0.55416834,\n",
       "        -0.48118405, -0.36325984],\n",
       "       [ 0.48418803, -0.54802828, -1.02822609,  1.73144326,  0.18059759,\n",
       "        -0.48118405, -0.36325984],\n",
       "       [-0.85890111,  0.13966633, -1.14698582,  2.39981382, -0.55416834,\n",
       "        -0.48118405, -0.36325984],\n",
       "       [-0.27129961, -0.12356754, -1.38450529, -0.79511268, -0.18678537,\n",
       "         0.42913223,  0.0730585 ]])"
      ]
     },
     "execution_count": 42,
     "metadata": {},
     "output_type": "execute_result"
    }
   ],
   "source": [
    "train_Features[355:359]"
   ]
  },
  {
   "cell_type": "code",
   "execution_count": 43,
   "metadata": {
    "collapsed": false
   },
   "outputs": [
    {
     "data": {
      "text/plain": [
       "array([1, 0, 1, 0])"
      ]
     },
     "execution_count": 43,
     "metadata": {},
     "output_type": "execute_result"
    }
   ],
   "source": [
    "train_Label[:4]"
   ]
  },
  {
   "cell_type": "code",
   "execution_count": 44,
   "metadata": {
    "collapsed": false
   },
   "outputs": [],
   "source": [
    "from keras.models import Sequential\n",
    "from keras.layers import Dense,Dropout\n",
    "from keras.callbacks import EarlyStopping\n",
    "early_stopping = EarlyStopping(monitor='val_loss', patience=2)"
   ]
  },
  {
   "cell_type": "code",
   "execution_count": 45,
   "metadata": {
    "collapsed": true
   },
   "outputs": [],
   "source": [
    "model = Sequential()"
   ]
  },
  {
   "cell_type": "code",
   "execution_count": 46,
   "metadata": {
    "collapsed": true
   },
   "outputs": [],
   "source": [
    "model.add(Dense(units=7*8,   input_dim=7,\n",
    "                kernel_initializer='uniform', \n",
    "                activation='relu'))"
   ]
  },
  {
   "cell_type": "code",
   "execution_count": 47,
   "metadata": {
    "collapsed": true
   },
   "outputs": [],
   "source": [
    "model.add(Dense(units=7*7, \n",
    "                kernel_initializer='uniform', \n",
    "                activation='relu'))"
   ]
  },
  {
   "cell_type": "code",
   "execution_count": 48,
   "metadata": {
    "collapsed": true
   },
   "outputs": [],
   "source": [
    "model.add(Dense(units=7*6, \n",
    "                kernel_initializer='uniform', \n",
    "                activation='relu'))"
   ]
  },
  {
   "cell_type": "code",
   "execution_count": 49,
   "metadata": {
    "collapsed": true
   },
   "outputs": [],
   "source": [
    "model.add(Dense(units=7*5, \n",
    "                kernel_initializer='uniform', \n",
    "                activation='relu'))"
   ]
  },
  {
   "cell_type": "code",
   "execution_count": 50,
   "metadata": {
    "collapsed": true
   },
   "outputs": [],
   "source": [
    "model.add(Dense(units=7*4, \n",
    "                kernel_initializer='uniform', \n",
    "                activation='relu'))"
   ]
  },
  {
   "cell_type": "code",
   "execution_count": 51,
   "metadata": {
    "collapsed": true
   },
   "outputs": [],
   "source": [
    "model.add(Dense(units=7*3, \n",
    "                kernel_initializer='uniform', \n",
    "                activation='relu'))"
   ]
  },
  {
   "cell_type": "code",
   "execution_count": 52,
   "metadata": {
    "collapsed": true
   },
   "outputs": [],
   "source": [
    "model.add(Dense(units=7*2, \n",
    "                kernel_initializer='uniform', \n",
    "                activation='relu'))"
   ]
  },
  {
   "cell_type": "code",
   "execution_count": 53,
   "metadata": {
    "collapsed": true
   },
   "outputs": [],
   "source": [
    "model.add(Dense(units=7, \n",
    "                kernel_initializer='uniform', \n",
    "                activation='relu'))"
   ]
  },
  {
   "cell_type": "code",
   "execution_count": 54,
   "metadata": {
    "collapsed": true
   },
   "outputs": [],
   "source": [
    "model.add(Dense(units=1, \n",
    "                kernel_initializer='uniform',\n",
    "                activation='sigmoid'))"
   ]
  },
  {
   "cell_type": "code",
   "execution_count": 55,
   "metadata": {
    "collapsed": false
   },
   "outputs": [
    {
     "name": "stdout",
     "output_type": "stream",
     "text": [
      "_________________________________________________________________\n",
      "Layer (type)                 Output Shape              Param #   \n",
      "=================================================================\n",
      "dense_10 (Dense)             (None, 56)                448       \n",
      "_________________________________________________________________\n",
      "dense_11 (Dense)             (None, 49)                2793      \n",
      "_________________________________________________________________\n",
      "dense_12 (Dense)             (None, 42)                2100      \n",
      "_________________________________________________________________\n",
      "dense_13 (Dense)             (None, 35)                1505      \n",
      "_________________________________________________________________\n",
      "dense_14 (Dense)             (None, 28)                1008      \n",
      "_________________________________________________________________\n",
      "dense_15 (Dense)             (None, 21)                609       \n",
      "_________________________________________________________________\n",
      "dense_16 (Dense)             (None, 14)                308       \n",
      "_________________________________________________________________\n",
      "dense_17 (Dense)             (None, 7)                 105       \n",
      "_________________________________________________________________\n",
      "dense_18 (Dense)             (None, 1)                 8         \n",
      "=================================================================\n",
      "Total params: 8,884\n",
      "Trainable params: 8,884\n",
      "Non-trainable params: 0\n",
      "_________________________________________________________________\n"
     ]
    }
   ],
   "source": [
    "model.summary()"
   ]
  },
  {
   "cell_type": "code",
   "execution_count": 56,
   "metadata": {
    "collapsed": true
   },
   "outputs": [],
   "source": [
    "model.compile(loss='binary_crossentropy', \n",
    "              optimizer='adam', metrics=['accuracy'])"
   ]
  },
  {
   "cell_type": "code",
   "execution_count": 57,
   "metadata": {
    "collapsed": false
   },
   "outputs": [
    {
     "name": "stdout",
     "output_type": "stream",
     "text": [
      "Train on 8036 samples, validate on 893 samples\n",
      "Epoch 1/30\n",
      "8036/8036 [==============================] - 6s 711us/step - loss: 0.6925 - acc: 0.5228 - val_loss: 0.6907 - val_acc: 0.5487\n",
      "Epoch 2/30\n",
      "8036/8036 [==============================] - 3s 342us/step - loss: 0.6211 - acc: 0.6115 - val_loss: 0.5565 - val_acc: 0.7514\n",
      "Epoch 3/30\n",
      "8036/8036 [==============================] - 2s 281us/step - loss: 0.5443 - acc: 0.7669 - val_loss: 0.5323 - val_acc: 0.7660\n",
      "Epoch 4/30\n",
      "8036/8036 [==============================] - 3s 314us/step - loss: 0.5226 - acc: 0.7728 - val_loss: 0.5153 - val_acc: 0.7637\n",
      "Epoch 5/30\n",
      "8036/8036 [==============================] - 2s 297us/step - loss: 0.5086 - acc: 0.7775 - val_loss: 0.5043 - val_acc: 0.7704\n",
      "Epoch 6/30\n",
      "8036/8036 [==============================] - 2s 261us/step - loss: 0.4974 - acc: 0.7841 - val_loss: 0.4947 - val_acc: 0.7772\n",
      "Epoch 7/30\n",
      "8036/8036 [==============================] - 2s 278us/step - loss: 0.4881 - acc: 0.7861 - val_loss: 0.4971 - val_acc: 0.7772\n",
      "Epoch 8/30\n",
      "8036/8036 [==============================] - 2s 272us/step - loss: 0.4816 - acc: 0.7850 - val_loss: 0.4883 - val_acc: 0.7738\n",
      "Epoch 9/30\n",
      "8036/8036 [==============================] - 2s 270us/step - loss: 0.4778 - acc: 0.7889 - val_loss: 0.4844 - val_acc: 0.7682\n",
      "Epoch 10/30\n",
      "8036/8036 [==============================] - 2s 287us/step - loss: 0.4759 - acc: 0.7877 - val_loss: 0.4859 - val_acc: 0.7783\n",
      "Epoch 11/30\n",
      "8036/8036 [==============================] - 2s 271us/step - loss: 0.4724 - acc: 0.7902 - val_loss: 0.4827 - val_acc: 0.7850\n",
      "Epoch 12/30\n",
      "8036/8036 [==============================] - 3s 361us/step - loss: 0.4717 - acc: 0.7912 - val_loss: 0.5049 - val_acc: 0.7682\n",
      "Epoch 13/30\n",
      "8036/8036 [==============================] - 3s 418us/step - loss: 0.4689 - acc: 0.7904 - val_loss: 0.4797 - val_acc: 0.7861\n",
      "Epoch 14/30\n",
      "8036/8036 [==============================] - 2s 311us/step - loss: 0.4669 - acc: 0.7887 - val_loss: 0.4786 - val_acc: 0.7828\n",
      "Epoch 15/30\n",
      "8036/8036 [==============================] - 2s 261us/step - loss: 0.4649 - acc: 0.7893 - val_loss: 0.4776 - val_acc: 0.7794\n",
      "Epoch 16/30\n",
      "8036/8036 [==============================] - 1s 168us/step - loss: 0.4652 - acc: 0.7883 - val_loss: 0.4834 - val_acc: 0.7872\n",
      "Epoch 17/30\n",
      "8036/8036 [==============================] - 1s 117us/step - loss: 0.4629 - acc: 0.7904 - val_loss: 0.4734 - val_acc: 0.7850\n",
      "Epoch 18/30\n",
      "8036/8036 [==============================] - 1s 123us/step - loss: 0.4636 - acc: 0.7871 - val_loss: 0.4794 - val_acc: 0.7794\n",
      "Epoch 19/30\n",
      "8036/8036 [==============================] - 1s 111us/step - loss: 0.4637 - acc: 0.7923 - val_loss: 0.4778 - val_acc: 0.7850\n"
     ]
    }
   ],
   "source": [
    "train_history =model.fit(x=train_Features, \n",
    "                         y=train_Label, \n",
    "                         validation_split=0.1, \n",
    "                         epochs=30, \n",
    "                         batch_size=30,verbose=1,callbacks=[early_stopping])"
   ]
  },
  {
   "cell_type": "code",
   "execution_count": 58,
   "metadata": {
    "collapsed": true
   },
   "outputs": [],
   "source": [
    "import matplotlib.pyplot as plt\n",
    "def show_train_history(train_history,train,validation):\n",
    "    plt.plot(train_history.history[train])\n",
    "    plt.plot(train_history.history[validation])\n",
    "    plt.title('Train History')\n",
    "    plt.ylabel(train)\n",
    "    plt.xlabel('Epoch')\n",
    "    plt.legend(['train', 'validation'], loc='upper left')\n",
    "    plt.show()"
   ]
  },
  {
   "cell_type": "code",
   "execution_count": 59,
   "metadata": {
    "collapsed": false
   },
   "outputs": [
    {
     "data": {
      "image/png": "[encoded data removed]",
      "text/plain": [
       "<matplotlib.figure.Figure at 0x7f30387c8978>"
      ]
     },
     "metadata": {},
     "output_type": "display_data"
    }
   ],
   "source": [
    "show_train_history(train_history,'acc','val_acc')"
   ]
  },
  {
   "cell_type": "code",
   "execution_count": 60,
   "metadata": {
    "collapsed": false
   },
   "outputs": [
    {
     "data": {
      "image/png": "[encoded data removed]",
      "text/plain": [
       "<matplotlib.figure.Figure at 0x7f30387c8908>"
      ]
     },
     "metadata": {},
     "output_type": "display_data"
    }
   ],
   "source": [
    "show_train_history(train_history,'loss','val_loss')"
   ]
  },
  {
   "cell_type": "code",
   "execution_count": 61,
   "metadata": {
    "collapsed": false
   },
   "outputs": [
    {
     "name": "stdout",
     "output_type": "stream",
     "text": [
      "2233/2233 [==============================] - 0s 72us/step\n"
     ]
    }
   ],
   "source": [
    "scores = model.evaluate(x=test_Features, \n",
    "                        y=test_Label)"
   ]
  },
  {
   "cell_type": "code",
   "execution_count": 62,
   "metadata": {
    "collapsed": false
   },
   "outputs": [
    {
     "data": {
      "text/plain": [
       "0.7935512762031265"
      ]
     },
     "execution_count": 62,
     "metadata": {},
     "output_type": "execute_result"
    }
   ],
   "source": [
    "scores[1]"
   ]
  }
 ],
 "metadata": {
  "anaconda-cloud": {},
  "kernelspec": {
   "display_name": "Python [default]",
   "language": "python",
   "name": "python3"
  },
  "language_info": {
   "codemirror_mode": {
    "name": "ipython",
    "version": 3
   },
   "file_extension": ".py",
   "mimetype": "text/x-python",
   "name": "python",
   "nbconvert_exporter": "python",
   "pygments_lexer": "ipython3",
   "version": "3.5.2"
  }
 },
 "nbformat": 4,
 "nbformat_minor": 1
}
