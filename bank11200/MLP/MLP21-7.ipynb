{
 "cells": [
  {
   "cell_type": "code",
   "execution_count": 31,
   "metadata": {
    "collapsed": false,
    "slideshow": {
     "slide_type": "-"
    }
   },
   "outputs": [],
   "source": [
    "import numpy\n",
    "import pandas as pd\n",
    "from sklearn.preprocessing import StandardScaler\n",
    "from sklearn.model_selection import train_test_split\n",
    "numpy.random.seed(10)"
   ]
  },
  {
   "cell_type": "code",
   "execution_count": 32,
   "metadata": {
    "collapsed": false
   },
   "outputs": [],
   "source": [
    "all_df = pd.read_csv(\"bank.csv\")"
   ]
  },
  {
   "cell_type": "code",
   "execution_count": 33,
   "metadata": {
    "collapsed": false
   },
   "outputs": [],
   "source": [
    "cols=['age','balance' ,'day', 'duration',\n",
    "       'campaign','pdays','previous','deposit']\n",
    "all_df=all_df[cols]"
   ]
  },
  {
   "cell_type": "code",
   "execution_count": 34,
   "metadata": {
    "collapsed": false
   },
   "outputs": [],
   "source": [
    "all_df['deposit']= all_df['deposit'].map({'no':0, 'yes': 1}).astype(int) "
   ]
  },
  {
   "cell_type": "code",
   "execution_count": 35,
   "metadata": {
    "collapsed": true
   },
   "outputs": [],
   "source": [
    "X=all_df.drop(['deposit'], axis=1).values.astype('float64')"
   ]
  },
  {
   "cell_type": "code",
   "execution_count": 36,
   "metadata": {
    "collapsed": true
   },
   "outputs": [],
   "source": [
    "Y = all_df['deposit'].values.astype('int64')"
   ]
  },
  {
   "cell_type": "code",
   "execution_count": 37,
   "metadata": {
    "collapsed": false
   },
   "outputs": [
    {
     "data": {
      "text/plain": [
       "(11162, 7)"
      ]
     },
     "execution_count": 37,
     "metadata": {},
     "output_type": "execute_result"
    }
   ],
   "source": [
    "X.shape"
   ]
  },
  {
   "cell_type": "code",
   "execution_count": 38,
   "metadata": {
    "collapsed": false
   },
   "outputs": [
    {
     "data": {
      "text/plain": [
       "array([[ 5.900e+01,  2.343e+03,  5.000e+00,  1.042e+03,  1.000e+00,\n",
       "        -1.000e+00,  0.000e+00],\n",
       "       [ 5.600e+01,  4.500e+01,  5.000e+00,  1.467e+03,  1.000e+00,\n",
       "        -1.000e+00,  0.000e+00],\n",
       "       [ 4.100e+01,  1.270e+03,  5.000e+00,  1.389e+03,  1.000e+00,\n",
       "        -1.000e+00,  0.000e+00],\n",
       "       [ 5.500e+01,  2.476e+03,  5.000e+00,  5.790e+02,  1.000e+00,\n",
       "        -1.000e+00,  0.000e+00],\n",
       "       [ 5.400e+01,  1.840e+02,  5.000e+00,  6.730e+02,  2.000e+00,\n",
       "        -1.000e+00,  0.000e+00]])"
      ]
     },
     "execution_count": 38,
     "metadata": {},
     "output_type": "execute_result"
    }
   ],
   "source": [
    "X[:5]"
   ]
  },
  {
   "cell_type": "code",
   "execution_count": 39,
   "metadata": {
    "collapsed": false
   },
   "outputs": [
    {
     "data": {
      "text/plain": [
       "array([1, 1, 1, 1, 1])"
      ]
     },
     "execution_count": 39,
     "metadata": {},
     "output_type": "execute_result"
    }
   ],
   "source": [
    "Y[:5]"
   ]
  },
  {
   "cell_type": "code",
   "execution_count": 40,
   "metadata": {
    "collapsed": false
   },
   "outputs": [],
   "source": [
    "X = StandardScaler().fit_transform(X)\n",
    "train_Features, test_Features, train_Label, test_Label = train_test_split(X, Y, test_size=0.2, random_state=None) "
   ]
  },
  {
   "cell_type": "code",
   "execution_count": 41,
   "metadata": {
    "collapsed": false
   },
   "outputs": [
    {
     "data": {
      "text/plain": [
       "array([[-0.6070719 , -0.2751828 ,  0.04061153,  0.27370403, -0.55416834,\n",
       "        -0.48118405, -0.36325984],\n",
       "       [ 0.48418803, -0.54802828, -1.02822609,  1.73144326,  0.18059759,\n",
       "        -0.48118405, -0.36325984],\n",
       "       [-0.85890111,  0.13966633, -1.14698582,  2.39981382, -0.55416834,\n",
       "        -0.48118405, -0.36325984],\n",
       "       [-0.27129961, -0.12356754, -1.38450529, -0.79511268, -0.18678537,\n",
       "         0.42913223,  0.0730585 ]])"
      ]
     },
     "execution_count": 41,
     "metadata": {},
     "output_type": "execute_result"
    }
   ],
   "source": [
    "train_Features[355:359]"
   ]
  },
  {
   "cell_type": "code",
   "execution_count": 42,
   "metadata": {
    "collapsed": false
   },
   "outputs": [
    {
     "data": {
      "text/plain": [
       "array([1, 0, 1, 0])"
      ]
     },
     "execution_count": 42,
     "metadata": {},
     "output_type": "execute_result"
    }
   ],
   "source": [
    "train_Label[:4]"
   ]
  },
  {
   "cell_type": "code",
   "execution_count": 43,
   "metadata": {
    "collapsed": false
   },
   "outputs": [],
   "source": [
    "from keras.models import Sequential\n",
    "from keras.layers import Dense,Dropout\n",
    "from keras.callbacks import EarlyStopping\n",
    "early_stopping = EarlyStopping(monitor='val_loss', patience=2)"
   ]
  },
  {
   "cell_type": "code",
   "execution_count": 44,
   "metadata": {
    "collapsed": true
   },
   "outputs": [],
   "source": [
    "model = Sequential()"
   ]
  },
  {
   "cell_type": "code",
   "execution_count": 45,
   "metadata": {
    "collapsed": true
   },
   "outputs": [],
   "source": [
    "model.add(Dense(units=21*7,   input_dim=7,\n",
    "                kernel_initializer='uniform', \n",
    "                activation='relu'))"
   ]
  },
  {
   "cell_type": "code",
   "execution_count": 46,
   "metadata": {
    "collapsed": true
   },
   "outputs": [],
   "source": [
    "model.add(Dense(units=21*6, \n",
    "                kernel_initializer='uniform', \n",
    "                activation='relu'))"
   ]
  },
  {
   "cell_type": "code",
   "execution_count": 47,
   "metadata": {
    "collapsed": true
   },
   "outputs": [],
   "source": [
    "model.add(Dense(units=21*5, \n",
    "                kernel_initializer='uniform', \n",
    "                activation='relu'))"
   ]
  },
  {
   "cell_type": "code",
   "execution_count": 48,
   "metadata": {
    "collapsed": true
   },
   "outputs": [],
   "source": [
    "model.add(Dense(units=21*4, \n",
    "                kernel_initializer='uniform', \n",
    "                activation='relu'))"
   ]
  },
  {
   "cell_type": "code",
   "execution_count": 49,
   "metadata": {
    "collapsed": true
   },
   "outputs": [],
   "source": [
    "model.add(Dense(units=21*3, \n",
    "                kernel_initializer='uniform', \n",
    "                activation='relu'))"
   ]
  },
  {
   "cell_type": "code",
   "execution_count": 50,
   "metadata": {
    "collapsed": true
   },
   "outputs": [],
   "source": [
    "model.add(Dense(units=21*2, \n",
    "                kernel_initializer='uniform', \n",
    "                activation='relu'))"
   ]
  },
  {
   "cell_type": "code",
   "execution_count": 51,
   "metadata": {
    "collapsed": true
   },
   "outputs": [],
   "source": [
    "model.add(Dense(units=21, \n",
    "                kernel_initializer='uniform', \n",
    "                activation='relu'))"
   ]
  },
  {
   "cell_type": "code",
   "execution_count": 52,
   "metadata": {
    "collapsed": true
   },
   "outputs": [],
   "source": [
    "model.add(Dense(units=1, \n",
    "                kernel_initializer='uniform',\n",
    "                activation='sigmoid'))"
   ]
  },
  {
   "cell_type": "code",
   "execution_count": 53,
   "metadata": {
    "collapsed": false
   },
   "outputs": [
    {
     "name": "stdout",
     "output_type": "stream",
     "text": [
      "_________________________________________________________________\n",
      "Layer (type)                 Output Shape              Param #   \n",
      "=================================================================\n",
      "dense_9 (Dense)              (None, 147)               1176      \n",
      "_________________________________________________________________\n",
      "dense_10 (Dense)             (None, 126)               18648     \n",
      "_________________________________________________________________\n",
      "dense_11 (Dense)             (None, 105)               13335     \n",
      "_________________________________________________________________\n",
      "dense_12 (Dense)             (None, 84)                8904      \n",
      "_________________________________________________________________\n",
      "dense_13 (Dense)             (None, 63)                5355      \n",
      "_________________________________________________________________\n",
      "dense_14 (Dense)             (None, 42)                2688      \n",
      "_________________________________________________________________\n",
      "dense_15 (Dense)             (None, 21)                903       \n",
      "_________________________________________________________________\n",
      "dense_16 (Dense)             (None, 1)                 22        \n",
      "=================================================================\n",
      "Total params: 51,031\n",
      "Trainable params: 51,031\n",
      "Non-trainable params: 0\n",
      "_________________________________________________________________\n"
     ]
    }
   ],
   "source": [
    "model.summary()"
   ]
  },
  {
   "cell_type": "code",
   "execution_count": 54,
   "metadata": {
    "collapsed": true
   },
   "outputs": [],
   "source": [
    "model.compile(loss='binary_crossentropy', \n",
    "              optimizer='adam', metrics=['accuracy'])"
   ]
  },
  {
   "cell_type": "code",
   "execution_count": 55,
   "metadata": {
    "collapsed": false
   },
   "outputs": [
    {
     "name": "stdout",
     "output_type": "stream",
     "text": [
      "Train on 8036 samples, validate on 893 samples\n",
      "Epoch 1/30\n",
      "8036/8036 [==============================] - 5s 615us/step - loss: 0.6054 - acc: 0.6359 - val_loss: 0.5099 - val_acc: 0.7447\n",
      "Epoch 2/30\n",
      "8036/8036 [==============================] - 3s 392us/step - loss: 0.4882 - acc: 0.7714 - val_loss: 0.4929 - val_acc: 0.7592\n",
      "Epoch 3/30\n",
      "8036/8036 [==============================] - 4s 484us/step - loss: 0.4796 - acc: 0.7800 - val_loss: 0.4959 - val_acc: 0.7648\n",
      "Epoch 4/30\n",
      "8036/8036 [==============================] - 3s 353us/step - loss: 0.4757 - acc: 0.7831 - val_loss: 0.4796 - val_acc: 0.7794\n",
      "Epoch 5/30\n",
      "8036/8036 [==============================] - 3s 411us/step - loss: 0.4713 - acc: 0.7848 - val_loss: 0.4705 - val_acc: 0.7872\n",
      "Epoch 6/30\n",
      "8036/8036 [==============================] - 3s 355us/step - loss: 0.4688 - acc: 0.7840 - val_loss: 0.4767 - val_acc: 0.7704\n",
      "Epoch 7/30\n",
      "8036/8036 [==============================] - 3s 347us/step - loss: 0.4670 - acc: 0.7873 - val_loss: 0.4704 - val_acc: 0.7794\n",
      "Epoch 8/30\n",
      "8036/8036 [==============================] - 3s 359us/step - loss: 0.4663 - acc: 0.7860 - val_loss: 0.4781 - val_acc: 0.7895\n",
      "Epoch 9/30\n",
      "8036/8036 [==============================] - 3s 337us/step - loss: 0.4646 - acc: 0.7888 - val_loss: 0.4694 - val_acc: 0.7917\n",
      "Epoch 10/30\n",
      "8036/8036 [==============================] - 3s 356us/step - loss: 0.4632 - acc: 0.7885 - val_loss: 0.4707 - val_acc: 0.7760\n",
      "Epoch 11/30\n",
      "8036/8036 [==============================] - 3s 429us/step - loss: 0.4613 - acc: 0.7893 - val_loss: 0.4665 - val_acc: 0.7794\n",
      "Epoch 12/30\n",
      "8036/8036 [==============================] - 4s 532us/step - loss: 0.4600 - acc: 0.7883 - val_loss: 0.4782 - val_acc: 0.7816\n",
      "Epoch 13/30\n",
      "8036/8036 [==============================] - 3s 362us/step - loss: 0.4586 - acc: 0.7889 - val_loss: 0.4772 - val_acc: 0.7884\n"
     ]
    }
   ],
   "source": [
    "train_history =model.fit(x=train_Features, \n",
    "                         y=train_Label, \n",
    "                         validation_split=0.1, \n",
    "                         epochs=30, \n",
    "                         batch_size=30,verbose=1,callbacks=[early_stopping])"
   ]
  },
  {
   "cell_type": "code",
   "execution_count": 56,
   "metadata": {
    "collapsed": true
   },
   "outputs": [],
   "source": [
    "import matplotlib.pyplot as plt\n",
    "def show_train_history(train_history,train,validation):\n",
    "    plt.plot(train_history.history[train])\n",
    "    plt.plot(train_history.history[validation])\n",
    "    plt.title('Train History')\n",
    "    plt.ylabel(train)\n",
    "    plt.xlabel('Epoch')\n",
    "    plt.legend(['train', 'validation'], loc='upper left')\n",
    "    plt.show()"
   ]
  },
  {
   "cell_type": "code",
   "execution_count": 57,
   "metadata": {
    "collapsed": false
   },
   "outputs": [
    {
     "data": {
      "image/png": "[encoded data removed]",
      "text/plain": [
       "<matplotlib.figure.Figure at 0x7f43289e0860>"
      ]
     },
     "metadata": {},
     "output_type": "display_data"
    }
   ],
   "source": [
    "show_train_history(train_history,'acc','val_acc')"
   ]
  },
  {
   "cell_type": "code",
   "execution_count": 58,
   "metadata": {
    "collapsed": false
   },
   "outputs": [
    {
     "data": {
      "image/png": "[encoded data removed]",
      "text/plain": [
       "<matplotlib.figure.Figure at 0x7f43289f3ba8>"
      ]
     },
     "metadata": {},
     "output_type": "display_data"
    }
   ],
   "source": [
    "show_train_history(train_history,'loss','val_loss')"
   ]
  },
  {
   "cell_type": "code",
   "execution_count": 59,
   "metadata": {
    "collapsed": false
   },
   "outputs": [
    {
     "name": "stdout",
     "output_type": "stream",
     "text": [
      "2233/2233 [==============================] - 0s 81us/step\n"
     ]
    }
   ],
   "source": [
    "scores = model.evaluate(x=test_Features, \n",
    "                        y=test_Label)"
   ]
  },
  {
   "cell_type": "code",
   "execution_count": 60,
   "metadata": {
    "collapsed": false
   },
   "outputs": [
    {
     "data": {
      "text/plain": [
       "0.7984773843906623"
      ]
     },
     "execution_count": 60,
     "metadata": {},
     "output_type": "execute_result"
    }
   ],
   "source": [
    "scores[1]"
   ]
  }
 ],
 "metadata": {
  "anaconda-cloud": {},
  "kernelspec": {
   "display_name": "Python [default]",
   "language": "python",
   "name": "python3"
  },
  "language_info": {
   "codemirror_mode": {
    "name": "ipython",
    "version": 3
   },
   "file_extension": ".py",
   "mimetype": "text/x-python",
   "name": "python",
   "nbconvert_exporter": "python",
   "pygments_lexer": "ipython3",
   "version": "3.5.2"
  }
 },
 "nbformat": 4,
 "nbformat_minor": 1
}
