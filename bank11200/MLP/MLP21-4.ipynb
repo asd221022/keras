{
 "cells": [
  {
   "cell_type": "code",
   "execution_count": 48,
   "metadata": {
    "collapsed": false,
    "slideshow": {
     "slide_type": "-"
    }
   },
   "outputs": [],
   "source": [
    "import numpy\n",
    "import pandas as pd\n",
    "from sklearn import preprocessing\n",
    "from sklearn.model_selection import train_test_split\n",
    "numpy.random.seed(10)"
   ]
  },
  {
   "cell_type": "code",
   "execution_count": 49,
   "metadata": {
    "collapsed": false
   },
   "outputs": [],
   "source": [
    "all_df = pd.read_csv(\"bank.csv\")"
   ]
  },
  {
   "cell_type": "code",
   "execution_count": 50,
   "metadata": {
    "collapsed": false
   },
   "outputs": [],
   "source": [
    "cols=['age','balance' ,'day', 'duration',\n",
    "       'campaign','pdays','previous','deposit']\n",
    "all_df=all_df[cols]"
   ]
  },
  {
   "cell_type": "code",
   "execution_count": 51,
   "metadata": {
    "collapsed": false
   },
   "outputs": [],
   "source": [
    "all_df['deposit']= all_df['deposit'].map({'no':0, 'yes': 1}).astype(int) "
   ]
  },
  {
   "cell_type": "code",
   "execution_count": 52,
   "metadata": {
    "collapsed": true
   },
   "outputs": [],
   "source": [
    "X=all_df.drop(['deposit'], axis=1).values.astype('float64')"
   ]
  },
  {
   "cell_type": "code",
   "execution_count": 53,
   "metadata": {
    "collapsed": true
   },
   "outputs": [],
   "source": [
    "Y = all_df['deposit'].values.astype('int64')"
   ]
  },
  {
   "cell_type": "code",
   "execution_count": 54,
   "metadata": {
    "collapsed": false
   },
   "outputs": [
    {
     "data": {
      "text/plain": [
       "(11162, 7)"
      ]
     },
     "execution_count": 54,
     "metadata": {},
     "output_type": "execute_result"
    }
   ],
   "source": [
    "X.shape"
   ]
  },
  {
   "cell_type": "code",
   "execution_count": 55,
   "metadata": {
    "collapsed": false
   },
   "outputs": [
    {
     "data": {
      "text/plain": [
       "array([[ 5.900e+01,  2.343e+03,  5.000e+00,  1.042e+03,  1.000e+00,\n",
       "        -1.000e+00,  0.000e+00],\n",
       "       [ 5.600e+01,  4.500e+01,  5.000e+00,  1.467e+03,  1.000e+00,\n",
       "        -1.000e+00,  0.000e+00],\n",
       "       [ 4.100e+01,  1.270e+03,  5.000e+00,  1.389e+03,  1.000e+00,\n",
       "        -1.000e+00,  0.000e+00],\n",
       "       [ 5.500e+01,  2.476e+03,  5.000e+00,  5.790e+02,  1.000e+00,\n",
       "        -1.000e+00,  0.000e+00],\n",
       "       [ 5.400e+01,  1.840e+02,  5.000e+00,  6.730e+02,  2.000e+00,\n",
       "        -1.000e+00,  0.000e+00]])"
      ]
     },
     "execution_count": 55,
     "metadata": {},
     "output_type": "execute_result"
    }
   ],
   "source": [
    "X[:5]"
   ]
  },
  {
   "cell_type": "code",
   "execution_count": 56,
   "metadata": {
    "collapsed": false
   },
   "outputs": [
    {
     "data": {
      "text/plain": [
       "array([1, 1, 1, 1, 1])"
      ]
     },
     "execution_count": 56,
     "metadata": {},
     "output_type": "execute_result"
    }
   ],
   "source": [
    "Y[:5]"
   ]
  },
  {
   "cell_type": "code",
   "execution_count": 57,
   "metadata": {
    "collapsed": false
   },
   "outputs": [
    {
     "data": {
      "text/plain": [
       "8929"
      ]
     },
     "execution_count": 57,
     "metadata": {},
     "output_type": "execute_result"
    }
   ],
   "source": [
    "minmax_scale = preprocessing.MinMaxScaler(feature_range=(0, 1))\n",
    "scaledFeatures=minmax_scale.fit_transform(X)   \n",
    "train_Features, test_Features, train_Label, test_Label = train_test_split(X, Y, test_size=0.2, random_state=True) \n",
    "len(train_Features)"
   ]
  },
  {
   "cell_type": "code",
   "execution_count": 58,
   "metadata": {
    "collapsed": false
   },
   "outputs": [
    {
     "data": {
      "text/plain": [
       "array([[ 3.400e+01,  0.000e+00,  1.000e+01,  9.700e+01,  1.000e+00,\n",
       "         8.500e+01,  1.000e+00],\n",
       "       [ 3.800e+01,  5.810e+02,  6.000e+00,  7.900e+01,  1.000e+00,\n",
       "        -1.000e+00,  0.000e+00],\n",
       "       [ 3.000e+01,  1.336e+03,  1.800e+01,  1.300e+01,  3.000e+00,\n",
       "         3.550e+02,  5.000e+00],\n",
       "       [ 5.300e+01,  4.000e+00,  3.000e+01,  2.590e+02,  3.000e+00,\n",
       "        -1.000e+00,  0.000e+00]])"
      ]
     },
     "execution_count": 58,
     "metadata": {},
     "output_type": "execute_result"
    }
   ],
   "source": [
    "train_Features[355:359]"
   ]
  },
  {
   "cell_type": "code",
   "execution_count": 59,
   "metadata": {
    "collapsed": false
   },
   "outputs": [
    {
     "data": {
      "text/plain": [
       "array([0, 1, 0, 1])"
      ]
     },
     "execution_count": 59,
     "metadata": {},
     "output_type": "execute_result"
    }
   ],
   "source": [
    "train_Label[:4]"
   ]
  },
  {
   "cell_type": "code",
   "execution_count": 60,
   "metadata": {
    "collapsed": false
   },
   "outputs": [],
   "source": [
    "from keras.models import Sequential\n",
    "from keras.layers import Dense,Dropout\n",
    "from keras.callbacks import EarlyStopping\n",
    "early_stopping = EarlyStopping(monitor='val_loss', patience=2)"
   ]
  },
  {
   "cell_type": "code",
   "execution_count": 61,
   "metadata": {
    "collapsed": true
   },
   "outputs": [],
   "source": [
    "model = Sequential()"
   ]
  },
  {
   "cell_type": "code",
   "execution_count": 62,
   "metadata": {
    "collapsed": true
   },
   "outputs": [],
   "source": [
    "model.add(Dense(units=7*4,   input_dim=7,\n",
    "                kernel_initializer='uniform', \n",
    "                activation='relu'))"
   ]
  },
  {
   "cell_type": "code",
   "execution_count": 63,
   "metadata": {
    "collapsed": true
   },
   "outputs": [],
   "source": [
    "model.add(Dense(units=7*3, \n",
    "                kernel_initializer='uniform', \n",
    "                activation='relu'))"
   ]
  },
  {
   "cell_type": "code",
   "execution_count": 64,
   "metadata": {
    "collapsed": true
   },
   "outputs": [],
   "source": [
    "model.add(Dense(units=7*2, \n",
    "                kernel_initializer='uniform', \n",
    "                activation='relu'))"
   ]
  },
  {
   "cell_type": "code",
   "execution_count": 65,
   "metadata": {
    "collapsed": true
   },
   "outputs": [],
   "source": [
    "model.add(Dense(units=7, \n",
    "                kernel_initializer='uniform', \n",
    "                activation='relu'))"
   ]
  },
  {
   "cell_type": "code",
   "execution_count": 66,
   "metadata": {
    "collapsed": true
   },
   "outputs": [],
   "source": [
    "model.add(Dense(units=1, \n",
    "                kernel_initializer='uniform',\n",
    "                activation='sigmoid'))"
   ]
  },
  {
   "cell_type": "code",
   "execution_count": 67,
   "metadata": {
    "collapsed": false
   },
   "outputs": [
    {
     "name": "stdout",
     "output_type": "stream",
     "text": [
      "_________________________________________________________________\n",
      "Layer (type)                 Output Shape              Param #   \n",
      "=================================================================\n",
      "dense_11 (Dense)             (None, 28)                224       \n",
      "_________________________________________________________________\n",
      "dense_12 (Dense)             (None, 21)                609       \n",
      "_________________________________________________________________\n",
      "dense_13 (Dense)             (None, 14)                308       \n",
      "_________________________________________________________________\n",
      "dense_14 (Dense)             (None, 7)                 105       \n",
      "_________________________________________________________________\n",
      "dense_15 (Dense)             (None, 1)                 8         \n",
      "=================================================================\n",
      "Total params: 1,254\n",
      "Trainable params: 1,254\n",
      "Non-trainable params: 0\n",
      "_________________________________________________________________\n"
     ]
    }
   ],
   "source": [
    "model.summary()"
   ]
  },
  {
   "cell_type": "code",
   "execution_count": 68,
   "metadata": {
    "collapsed": true
   },
   "outputs": [],
   "source": [
    "model.compile(loss='binary_crossentropy', \n",
    "              optimizer='adam', metrics=['accuracy'])"
   ]
  },
  {
   "cell_type": "code",
   "execution_count": 69,
   "metadata": {
    "collapsed": false
   },
   "outputs": [
    {
     "name": "stdout",
     "output_type": "stream",
     "text": [
      "Train on 7143 samples, validate on 1786 samples\n",
      "Epoch 1/30\n",
      "7143/7143 [==============================] - 2s 297us/step - loss: 0.6292 - acc: 0.6524 - val_loss: 0.5681 - val_acc: 0.7380\n",
      "Epoch 2/30\n",
      "7143/7143 [==============================] - 1s 122us/step - loss: 0.5370 - acc: 0.7383 - val_loss: 0.5108 - val_acc: 0.7570\n",
      "Epoch 3/30\n",
      "7143/7143 [==============================] - 1s 110us/step - loss: 0.5199 - acc: 0.7509 - val_loss: 0.5038 - val_acc: 0.7716\n",
      "Epoch 4/30\n",
      "7143/7143 [==============================] - 1s 111us/step - loss: 0.5135 - acc: 0.7589 - val_loss: 0.5230 - val_acc: 0.7587\n",
      "Epoch 5/30\n",
      "7143/7143 [==============================] - 1s 112us/step - loss: 0.5112 - acc: 0.7592 - val_loss: 0.5009 - val_acc: 0.7704\n",
      "Epoch 6/30\n",
      "7143/7143 [==============================] - 1s 106us/step - loss: 0.5053 - acc: 0.7599 - val_loss: 0.5021 - val_acc: 0.7626\n",
      "Epoch 7/30\n",
      "7143/7143 [==============================] - 1s 105us/step - loss: 0.5068 - acc: 0.7586 - val_loss: 0.4978 - val_acc: 0.7699\n",
      "Epoch 8/30\n",
      "7143/7143 [==============================] - 1s 105us/step - loss: 0.5026 - acc: 0.7599 - val_loss: 0.5126 - val_acc: 0.7704\n",
      "Epoch 9/30\n",
      "7143/7143 [==============================] - 1s 109us/step - loss: 0.5063 - acc: 0.7603 - val_loss: 0.4950 - val_acc: 0.7744\n",
      "Epoch 10/30\n",
      "7143/7143 [==============================] - 1s 113us/step - loss: 0.5011 - acc: 0.7661 - val_loss: 0.4897 - val_acc: 0.7766\n",
      "Epoch 11/30\n",
      "7143/7143 [==============================] - 1s 104us/step - loss: 0.5078 - acc: 0.7557 - val_loss: 0.4941 - val_acc: 0.7704\n",
      "Epoch 12/30\n",
      "7143/7143 [==============================] - 2s 257us/step - loss: 0.4984 - acc: 0.7591 - val_loss: 0.4905 - val_acc: 0.7749\n"
     ]
    }
   ],
   "source": [
    "train_history =model.fit(x=train_Features, \n",
    "                         y=train_Label, \n",
    "                         validation_split=0.2, \n",
    "                         epochs=30, \n",
    "                         batch_size=30,verbose=1,callbacks=[early_stopping])"
   ]
  },
  {
   "cell_type": "code",
   "execution_count": 70,
   "metadata": {
    "collapsed": true
   },
   "outputs": [],
   "source": [
    "import matplotlib.pyplot as plt\n",
    "def show_train_history(train_history,train,validation):\n",
    "    plt.plot(train_history.history[train])\n",
    "    plt.plot(train_history.history[validation])\n",
    "    plt.title('Train History')\n",
    "    plt.ylabel(train)\n",
    "    plt.xlabel('Epoch')\n",
    "    plt.legend(['train', 'validation'], loc='upper left')\n",
    "    plt.show()"
   ]
  },
  {
   "cell_type": "code",
   "execution_count": 71,
   "metadata": {
    "collapsed": false
   },
   "outputs": [
    {
     "data": {
      "image/png": "[encoded data removed]",
      "text/plain": [
       "<matplotlib.figure.Figure at 0x7f098d2b4048>"
      ]
     },
     "metadata": {},
     "output_type": "display_data"
    }
   ],
   "source": [
    "show_train_history(train_history,'acc','val_acc')"
   ]
  },
  {
   "cell_type": "code",
   "execution_count": 72,
   "metadata": {
    "collapsed": false
   },
   "outputs": [
    {
     "data": {
      "image/png": "[encoded data removed]",
      "text/plain": [
       "<matplotlib.figure.Figure at 0x7f098d2e2400>"
      ]
     },
     "metadata": {},
     "output_type": "display_data"
    }
   ],
   "source": [
    "show_train_history(train_history,'loss','val_loss')"
   ]
  },
  {
   "cell_type": "code",
   "execution_count": 73,
   "metadata": {
    "collapsed": false
   },
   "outputs": [
    {
     "name": "stdout",
     "output_type": "stream",
     "text": [
      "2233/2233 [==============================] - 0s 58us/step\n"
     ]
    }
   ],
   "source": [
    "scores = model.evaluate(x=test_Features, \n",
    "                        y=test_Label)"
   ]
  },
  {
   "cell_type": "code",
   "execution_count": 74,
   "metadata": {
    "collapsed": false
   },
   "outputs": [
    {
     "data": {
      "text/plain": [
       "0.7684729067242525"
      ]
     },
     "execution_count": 74,
     "metadata": {},
     "output_type": "execute_result"
    }
   ],
   "source": [
    "scores[1]"
   ]
  }
 ],
 "metadata": {
  "anaconda-cloud": {},
  "kernelspec": {
   "display_name": "Python [default]",
   "language": "python",
   "name": "python3"
  },
  "language_info": {
   "codemirror_mode": {
    "name": "ipython",
    "version": 3
   },
   "file_extension": ".py",
   "mimetype": "text/x-python",
   "name": "python",
   "nbconvert_exporter": "python",
   "pygments_lexer": "ipython3",
   "version": "3.5.2"
  }
 },
 "nbformat": 4,
 "nbformat_minor": 1
}
